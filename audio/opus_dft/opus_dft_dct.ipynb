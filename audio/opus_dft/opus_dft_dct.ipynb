{
 "cells": [
  {
   "cell_type": "markdown",
   "source": [
    "## TOC"
   ],
   "metadata": {
    "collapsed": false,
    "pycharm": {
     "name": "#%% md\n"
    }
   }
  },
  {
   "cell_type": "code",
   "execution_count": null,
   "outputs": [],
   "source": [
    "from IPython.display import display, Javascript, Markdown\n",
    "\n",
    "def create_toc():\n",
    "    display(Markdown('# Table of Contents'))\n",
    "    \n",
    "    # JavaScript code to extract headings\n",
    "    js_code = '''\n",
    "    var headings = [];\n",
    "    var cells = Jupyter.notebook.get_cells();\n",
    "    for (var i = 0; i < cells.length; i++) {\n",
    "        var cell = cells[i];\n",
    "        if (cell.cell_type === 'markdown') {\n",
    "            var lines = cell.get_text().split('\\\\n');\n",
    "            for (var j = 0; j < lines.length; j++) {\n",
    "                var line = lines[j];\n",
    "                if (line.match(/^#+\\\\s/)) {\n",
    "                    var level = line.match(/^#+/)[0].length;\n",
    "                    var title = line.replace(/^#+\\\\s/, '').trim();\n",
    "                    var link = encodeURIComponent(title.replace(/\\\\s+/g, '-').toLowerCase());\n",
    "                    headings.push({level: level, title: title, link: link});\n",
    "                }\n",
    "            }\n",
    "        }\n",
    "    }\n",
    "    // Pass the headings back to Python\n",
    "    var py_headings = JSON.stringify(headings);\n",
    "    var code = \"headings = \" + py_headings;\n",
    "    console.log(code);\n",
    "    IPython.notebook.kernel.execute(code);\n",
    "    '''\n",
    "    \n",
    "    # Execute the JavaScript code\n",
    "    display(Javascript(js_code))\n",
    "    \n",
    "    # Wait for JavaScript to execute and headings to be set\n",
    "    import time\n",
    "    time.sleep(1)  # Adjust if necessary\n",
    "    \n",
    "    # Generate the markdown table of contents\n",
    "    try:\n",
    "        for heading in headings:\n",
    "            level = heading['level']\n",
    "            title = heading['title']\n",
    "            link = heading['link']\n",
    "            indent = '    ' * (level - 1)\n",
    "            display(Markdown(f'{indent}- [{title}](#{link})'))\n",
    "    except NameError:\n",
    "        print(\"Could not retrieve headings.\")\n",
    "\n",
    "\n",
    "# Run the function\n",
    "create_toc()"
   ],
   "metadata": {
    "collapsed": false,
    "pycharm": {
     "name": "#%%\n"
    }
   }
  },
  {
   "cell_type": "markdown",
   "source": [
    "## LPC (Linear predictive coding) analysis"
   ],
   "metadata": {
    "collapsed": false,
    "pycharm": {
     "name": "#%% md\n"
    }
   }
  },
  {
   "cell_type": "code",
   "execution_count": null,
   "outputs": [],
   "source": [
    "import numpy as np\n",
    "import matplotlib.pyplot as plt\n",
    "from scipy.signal import lfilter, hamming, freqz\n",
    "from scipy.signal.windows import hann\n",
    "import soundfile as sf\n",
    "from scipy.signal import find_peaks\n",
    "import IPython.display as ipd\n",
    "\n",
    "def levinson_durbin(r, order):\n",
    "    \"\"\"Levinson-Durbin recursion to solve the Toeplitz system.\"\"\"\n",
    "    r = np.asarray(r)\n",
    "    a = np.zeros(order + 1)\n",
    "    e = r[0]\n",
    "\n",
    "    # Ensure e is not zero to avoid division by zero\n",
    "    if e == 0 or np.isnan(e):\n",
    "        # Return default coefficients\n",
    "        a[0] = 1.0\n",
    "        return a, e\n",
    "\n",
    "    a[0] = 1.0\n",
    "\n",
    "    for i in range(1, order + 1):\n",
    "        if i == 1:\n",
    "            #reflection coefficient\n",
    "            kappa = -r[1] / e\n",
    "            a[1] = kappa\n",
    "            e *= (1 - kappa ** 2)\n",
    "        else:\n",
    "            acc = r[i]\n",
    "            for j in range(1, i):\n",
    "                acc += a[j] * r[i - j]\n",
    "            kappa = -acc / e\n",
    "            a[1:i] += kappa * a[i - 1:0:-1]\n",
    "            a[i] = kappa\n",
    "            e *= (1 - kappa ** 2)\n",
    "    return a, e\n",
    "\n",
    "def lpc_analysis(frame, order):\n",
    "    \"\"\"Perform LPC analysis on a frame.\"\"\"\n",
    "    # Apply window to the frame\n",
    "    frame = frame * np.hamming(len(frame))\n",
    "\n",
    "    # Compute autocorrelation\n",
    "    autocorr = np.correlate(frame, frame, mode='full')\n",
    "    autocorr = autocorr[len(autocorr)//2:]\n",
    "\n",
    "    # Ensure autocorrelation is of length order + 1\n",
    "    autocorr = autocorr[:order + 1]\n",
    "\n",
    "    # Check for zero energy frame\n",
    "    if autocorr[0] == 0 or np.isnan(autocorr[0]):\n",
    "        # Return default coefficients\n",
    "        a = np.zeros(order + 1)\n",
    "        a[0] = 1.0\n",
    "        e = 0\n",
    "        residual = frame.copy()  # Residual is just the frame\n",
    "        return a, residual, e\n",
    "\n",
    "    # Solve for LPC coefficients\n",
    "    a, e = levinson_durbin(autocorr, order)\n",
    "\n",
    "    # Compute residual (prediction error)\n",
    "    residual = lfilter(a, [1.0], frame)\n",
    "\n",
    "    return a, residual, e\n",
    "\n",
    "def lpc_synthesis(residual, a):\n",
    "    \"\"\"Reconstruct signal from residual and LPC coefficients.\"\"\"\n",
    "    reconstructed_signal = lfilter([1.0], a, residual)\n",
    "    return reconstructed_signal\n",
    "\n",
    "def plot_spectral_envelope(frame, a, fs):\n",
    "    \"\"\"Plot the spectral envelope over the magnitude spectrum of the frame.\"\"\"\n",
    "    # Compute the magnitude spectrum of the frame\n",
    "    fft_spectrum = np.abs(np.fft.rfft(frame))\n",
    "    fft_freq = np.fft.rfftfreq(len(frame), d=1/fs)\n",
    "    fft_spectrum_db = 20 * np.log10(fft_spectrum + np.finfo(float).eps)\n",
    "\n",
    "    # Compute the frequency response of the LPC filter\n",
    "    w, h = freqz([1], a, worN=512, fs=fs)\n",
    "    lpc_spectrum_db = 20 * np.log10(np.abs(h) + np.finfo(float).eps)\n",
    "\n",
    "    # Plotting\n",
    "    plt.figure(figsize=(12, 6))\n",
    "    plt.plot(fft_freq, fft_spectrum_db, label='Original Spectrum')\n",
    "    plt.plot(w, lpc_spectrum_db, label='LPC Envelope', color='red')\n",
    "    plt.xlabel('Frequency (Hz)')\n",
    "    plt.ylabel('Magnitude (dB)')\n",
    "    plt.title('Spectral Envelope Approximation using LPC')\n",
    "    plt.legend()\n",
    "    plt.show()\n",
    "\n",
    "def formant_tracking(frames_a, fs, frame_shift):\n",
    "    \"\"\"Extract and plot formant frequencies over time.\"\"\"\n",
    "    num_frames = len(frames_a)\n",
    "    time = np.arange(num_frames) * frame_shift / fs  # Time axis in seconds\n",
    "    formants = []\n",
    "\n",
    "    max_formants = 4  # Number of formants to track\n",
    "    for a in frames_a:\n",
    "        # Calculate roots of the LPC polynomial\n",
    "        roots = np.roots(a)\n",
    "        roots = roots[np.imag(roots) >= 0]  # Consider only one side of the spectrum\n",
    "\n",
    "        angles = np.arctan2(np.imag(roots), np.real(roots))\n",
    "        freqs = angles * (fs / (2 * np.pi))\n",
    "\n",
    "        # Sort frequencies\n",
    "        freqs = np.sort(freqs)\n",
    "\n",
    "        # Filter formants within reasonable speech frequency range\n",
    "        formant_freqs = freqs[(freqs > 50) & (freqs < fs / 2)]\n",
    "\n",
    "        # Ensure that formant_freqs has length max_formants\n",
    "        formant_freqs = formant_freqs[:max_formants]  # Take first max_formants formants\n",
    "        # If less than max_formants formants, pad with NaN\n",
    "        num_formants_found = len(formant_freqs)\n",
    "        if num_formants_found < max_formants:\n",
    "            formant_freqs = np.concatenate(\n",
    "                [formant_freqs, np.full(max_formants - num_formants_found, np.nan)]\n",
    "            )\n",
    "        formants.append(formant_freqs)\n",
    "\n",
    "    # Convert to array\n",
    "    formants = np.array(formants)  # shape (num_frames, max_formants)\n",
    "\n",
    "    # Prepare data for plotting\n",
    "    plt.figure(figsize=(12, 6))\n",
    "    for i in range(formants.shape[1]):\n",
    "        plt.plot(time, formants[:, i], label=f'Formant {i+1}')\n",
    "    plt.xlabel('Time (s)')\n",
    "    plt.ylabel('Frequency (Hz)')\n",
    "    plt.title('Formant Tracking over Time')\n",
    "    plt.legend()\n",
    "    plt.show()\n",
    "\n",
    "# --- Main Script ---\n",
    "\n",
    "# Parameters\n",
    "lpc_order = 16  # LPC order (number of coefficients)\n",
    "frame_size = int(0.03 * 16000)  # 30 ms frames\n",
    "frame_shift = int(0.01 * 16000)  # 10 ms shift (overlap)\n",
    "\n",
    "# Read an audio file\n",
    "signal, fs = sf.read('data/oden_kypsis16k.wav')\n",
    "\n",
    "# If stereo, convert to mono\n",
    "if len(signal.shape) > 1:\n",
    "    signal = np.mean(signal, axis=1)\n",
    "\n",
    "# Use a portion of the signal for demonstration\n",
    "signal = signal[5 * fs:8*fs]  # First 2 seconds\n",
    "\n",
    "# Normalize signal\n",
    "signal = signal / np.max(np.abs(signal))\n",
    "\n",
    "# Frame blocking\n",
    "num_frames = int((len(signal) - frame_size) / frame_shift) + 1\n",
    "frames = []\n",
    "for i in range(num_frames):\n",
    "    start = i * frame_shift\n",
    "    end = start + frame_size\n",
    "    frames.append(signal[start:end])\n",
    "\n",
    "# LPC Analysis per frame\n",
    "frames_a = []\n",
    "frames_residual = []\n",
    "for frame in frames:\n",
    "    a, residual, e = lpc_analysis(frame, lpc_order)\n",
    "    frames_a.append(a)\n",
    "    frames_residual.append(residual)\n",
    "\n",
    "# Spectral Envelope Visualization for a specific frame\n",
    "frame_index = 50  # You can change this index to analyze a different frame\n",
    "plot_spectral_envelope(frames[frame_index], frames_a[frame_index], fs)\n"
   ],
   "metadata": {
    "collapsed": false,
    "pycharm": {
     "name": "#%%\n"
    }
   }
  },
  {
   "cell_type": "code",
   "execution_count": null,
   "outputs": [],
   "source": [
    "# Formant Tracking\n",
    "formant_tracking(frames_a, fs, frame_shift)"
   ],
   "metadata": {
    "collapsed": false,
    "pycharm": {
     "name": "#%%\n"
    }
   }
  },
  {
   "cell_type": "code",
   "execution_count": null,
   "outputs": [],
   "source": [
    "# LPC Synthesis (Optional)\n",
    "reconstructed_frames = []\n",
    "for residual, a in zip(frames_residual, frames_a):\n",
    "    reconstructed_frame = lpc_synthesis(residual, a)\n",
    "    reconstructed_frames.append(reconstructed_frame)\n",
    "\n",
    "# Overlap-add to reconstruct the full signal\n",
    "reconstructed_signal = np.zeros(len(signal))\n",
    "for i in range(num_frames):\n",
    "    start = i * frame_shift\n",
    "    end = start + frame_size\n",
    "    reconstructed_signal[start:end] += reconstructed_frames[i]\n",
    "\n",
    "# Normalize reconstructed signal\n",
    "reconstructed_signal = reconstructed_signal / np.max(np.abs(reconstructed_signal))\n",
    "\n",
    "# Plotting original and reconstructed signals\n",
    "plt.figure(figsize=(14, 6))\n",
    "\n",
    "plt.subplot(2, 1, 1)\n",
    "plt.plot(signal, label='Original Signal')\n",
    "plt.legend()\n",
    "plt.title('Original Signal')\n",
    "\n",
    "plt.subplot(2, 1, 2)\n",
    "plt.plot(reconstructed_signal, label='Reconstructed Signal', color='orange')\n",
    "plt.legend()\n",
    "plt.title('Reconstructed Signal using LPC')\n",
    "\n",
    "plt.tight_layout()\n",
    "plt.show()\n",
    "\n",
    "# Optional: Save reconstructed signal to a file\n",
    "#sf.write('reconstructed.wav', reconstructed_signal, fs)"
   ],
   "metadata": {
    "collapsed": false,
    "pycharm": {
     "name": "#%%\n"
    }
   }
  },
  {
   "cell_type": "code",
   "execution_count": null,
   "outputs": [],
   "source": [
    "reconstructed_signal"
   ],
   "metadata": {
    "collapsed": false,
    "pycharm": {
     "name": "#%%\n"
    }
   }
  },
  {
   "cell_type": "code",
   "execution_count": null,
   "outputs": [],
   "source": [
    "signal"
   ],
   "metadata": {
    "collapsed": false,
    "pycharm": {
     "name": "#%%\n"
    }
   }
  },
  {
   "cell_type": "code",
   "execution_count": null,
   "outputs": [],
   "source": [
    "ipd.Audio(signal, rate=fs)"
   ],
   "metadata": {
    "collapsed": false,
    "pycharm": {
     "name": "#%%\n"
    }
   }
  },
  {
   "cell_type": "code",
   "execution_count": null,
   "outputs": [],
   "source": [
    "ipd.Audio(reconstructed_signal, rate=fs)"
   ],
   "metadata": {
    "collapsed": false,
    "pycharm": {
     "name": "#%%\n"
    }
   }
  },
  {
   "cell_type": "markdown",
   "source": [
    "### LPC Under the hood"
   ],
   "metadata": {
    "collapsed": false,
    "pycharm": {
     "name": "#%% md\n"
    }
   }
  },
  {
   "cell_type": "code",
   "execution_count": null,
   "outputs": [],
   "source": [
    "frame.shape"
   ],
   "metadata": {
    "collapsed": false,
    "pycharm": {
     "name": "#%%\n"
    }
   }
  },
  {
   "cell_type": "code",
   "execution_count": null,
   "outputs": [],
   "source": [
    "plt.plot(frame)"
   ],
   "metadata": {
    "collapsed": false,
    "pycharm": {
     "name": "#%%\n"
    }
   }
  },
  {
   "cell_type": "code",
   "execution_count": null,
   "outputs": [],
   "source": [
    "order=16\n",
    "frame_processed = frame * np.hamming(len(frame))\n",
    "\n",
    "# Compute autocorrelation\n",
    "autocorr = np.correlate(frame_processed, frame_processed, mode='full')\n",
    "autocorr = autocorr[len(autocorr)//2:]\n",
    "\n",
    "# Ensure autocorrelation is of length order + 1\n",
    "autocorr = autocorr[:order + 1]"
   ],
   "metadata": {
    "collapsed": false,
    "pycharm": {
     "name": "#%%\n"
    }
   }
  },
  {
   "cell_type": "code",
   "execution_count": null,
   "outputs": [],
   "source": [
    "plt.plot(frame_processed)"
   ],
   "metadata": {
    "collapsed": false,
    "pycharm": {
     "name": "#%%\n"
    }
   }
  },
  {
   "cell_type": "code",
   "execution_count": null,
   "outputs": [],
   "source": [
    "plt.plot(autocorr)"
   ],
   "metadata": {
    "collapsed": false,
    "pycharm": {
     "name": "#%%\n"
    }
   }
  },
  {
   "cell_type": "code",
   "execution_count": null,
   "outputs": [],
   "source": [
    "a, e = levinson_durbin(autocorr, order)"
   ],
   "metadata": {
    "collapsed": false,
    "pycharm": {
     "name": "#%%\n"
    }
   }
  },
  {
   "cell_type": "code",
   "execution_count": null,
   "outputs": [],
   "source": [
    "plt.plot(a)"
   ],
   "metadata": {
    "collapsed": false,
    "pycharm": {
     "name": "#%%\n"
    }
   }
  },
  {
   "cell_type": "code",
   "execution_count": null,
   "outputs": [],
   "source": [
    "e"
   ],
   "metadata": {
    "collapsed": false,
    "pycharm": {
     "name": "#%%\n"
    }
   }
  },
  {
   "cell_type": "code",
   "execution_count": null,
   "outputs": [],
   "source": [
    "### levinson durbin under the hood\n",
    "r=autocorr\n",
    "r = np.asarray(r)\n",
    "a = np.zeros(order + 1)\n",
    "e = r[0]\n",
    "\n",
    "\n",
    "a[0] = 1.0"
   ],
   "metadata": {
    "collapsed": false,
    "pycharm": {
     "name": "#%%\n"
    }
   }
  },
  {
   "cell_type": "code",
   "execution_count": null,
   "outputs": [],
   "source": [
    "r"
   ],
   "metadata": {
    "collapsed": false,
    "pycharm": {
     "name": "#%%\n"
    }
   }
  },
  {
   "cell_type": "code",
   "execution_count": null,
   "outputs": [],
   "source": [
    "for i in range(1, order + 1):\n",
    "    if i == 1:\n",
    "        kappa = -r[1] / e\n",
    "        a[1] = kappa\n",
    "        e *= (1 - kappa ** 2)\n",
    "    else:\n",
    "        acc = r[i]\n",
    "        for j in range(1, i):\n",
    "            acc += a[j] * r[i - j]\n",
    "        kappa = -acc / e\n",
    "        a[1:i] += kappa * a[i - 1:0:-1]\n",
    "        a[i] = kappa\n",
    "        e *= (1 - kappa ** 2)\n",
    "        print(kappa)\n",
    "        "
   ],
   "metadata": {
    "collapsed": false,
    "pycharm": {
     "name": "#%%\n"
    }
   }
  },
  {
   "cell_type": "code",
   "execution_count": null,
   "outputs": [],
   "source": [
    "a"
   ],
   "metadata": {
    "collapsed": false,
    "pycharm": {
     "name": "#%%\n"
    }
   }
  },
  {
   "cell_type": "code",
   "execution_count": null,
   "outputs": [],
   "source": [
    " a[i - 1:0:-1]"
   ],
   "metadata": {
    "collapsed": false,
    "pycharm": {
     "name": "#%%\n"
    }
   }
  },
  {
   "cell_type": "code",
   "execution_count": null,
   "outputs": [],
   "source": [
    "frames_a[0].shape"
   ],
   "metadata": {
    "collapsed": false,
    "pycharm": {
     "name": "#%%\n"
    }
   }
  },
  {
   "cell_type": "code",
   "execution_count": null,
   "outputs": [],
   "source": [
    "frames_residual[0].shape"
   ],
   "metadata": {
    "collapsed": false,
    "pycharm": {
     "name": "#%%\n"
    }
   }
  },
  {
   "cell_type": "code",
   "execution_count": null,
   "outputs": [],
   "source": [
    "frames[0].shape"
   ],
   "metadata": {
    "collapsed": false,
    "pycharm": {
     "name": "#%%\n"
    }
   }
  },
  {
   "cell_type": "code",
   "execution_count": null,
   "outputs": [],
   "source": [
    "plt.plot(frames_residual[20])"
   ],
   "metadata": {
    "collapsed": false,
    "pycharm": {
     "name": "#%%\n"
    }
   }
  },
  {
   "cell_type": "code",
   "execution_count": null,
   "outputs": [],
   "source": [
    "plt.plot(frames[20])"
   ],
   "metadata": {
    "collapsed": false,
    "pycharm": {
     "name": "#%%\n"
    }
   }
  },
  {
   "cell_type": "markdown",
   "source": [
    "## Aliasing"
   ],
   "metadata": {
    "collapsed": false,
    "pycharm": {
     "name": "#%% md\n"
    }
   }
  },
  {
   "cell_type": "code",
   "execution_count": null,
   "outputs": [],
   "source": [
    "import numpy as np\n",
    "import matplotlib.pyplot as plt\n",
    "\n",
    "# Parameters\n",
    "f_signal = 5  # Frequency of the continuous signal (Hz)\n",
    "t_end = 1     # Duration of the signal (seconds)\n",
    "fs_high = 50  # High sampling rate (Hz) - Above Nyquist rate\n",
    "fs_low = 8    # Low sampling rate (Hz) - Below Nyquist rate\n",
    "\n",
    "# Generate continuous-time signal\n",
    "t_cont = np.linspace(0, t_end, 1000)  # High-resolution time axis\n",
    "x_cont = np.sin(2 * np.pi * f_signal * t_cont)\n",
    "\n",
    "# Sampling with high sampling rate\n",
    "t_high = np.arange(0, t_end, 1 / fs_high)\n",
    "x_high = np.sin(2 * np.pi * f_signal * t_high)\n",
    "\n",
    "# Sampling with low sampling rate\n",
    "t_low = np.arange(0, t_end, 1 / fs_low)\n",
    "x_low = np.sin(2 * np.pi * f_signal * t_low)\n",
    "\n",
    "# Plotting\n",
    "plt.figure(figsize=(12, 8))\n",
    "\n",
    "# Subplot 1: Continuous signal and high-rate sampling\n",
    "plt.subplot(2, 1, 1)\n",
    "plt.plot(t_cont, x_cont, label='Continuous Signal')\n",
    "plt.stem(t_high, x_high, linefmt='r-', markerfmt='ro', basefmt='r-', label='Sampled Signal (fs = 50 Hz)')\n",
    "plt.title('Sampling Above Nyquist Rate (No Aliasing)')\n",
    "plt.xlabel('Time (s)')\n",
    "plt.ylabel('Amplitude')\n",
    "plt.legend()\n",
    "plt.grid(True)\n",
    "\n",
    "# Subplot 2: Continuous signal and low-rate sampling\n",
    "plt.subplot(2, 1, 2)\n",
    "plt.plot(t_cont, x_cont, label='Continuous Signal')\n",
    "plt.stem(t_low, x_low, linefmt='g-', markerfmt='go', basefmt='g-', label='Sampled Signal (fs = 8 Hz)')\n",
    "plt.title('Sampling Below Nyquist Rate (Aliasing Occurs)')\n",
    "plt.xlabel('Time (s)')\n",
    "plt.ylabel('Amplitude')\n",
    "plt.legend()\n",
    "plt.grid(True)\n",
    "\n",
    "plt.tight_layout()\n",
    "plt.show()\n"
   ],
   "metadata": {
    "collapsed": false,
    "pycharm": {
     "name": "#%%\n"
    }
   }
  },
  {
   "cell_type": "markdown",
   "source": [
    "## All pole filter"
   ],
   "metadata": {
    "collapsed": false,
    "pycharm": {
     "name": "#%% md\n"
    }
   }
  },
  {
   "cell_type": "code",
   "execution_count": null,
   "outputs": [],
   "source": [
    "import numpy as np\n",
    "import matplotlib.pyplot as plt\n",
    "from scipy.signal import freqz\n",
    "\n",
    "# Sample LPC coefficients (e.g., obtained from LPC analysis)\n",
    "a = [1.0, -0.75, 0.5, -0.25]  # Example coefficients\n",
    "\n",
    "# Compute frequency response\n",
    "w, h = freqz([1], a, worN=512)\n",
    "\n",
    "# Convert to magnitude in dB\n",
    "h_db = 20 * np.log10(np.abs(h) + np.finfo(float).eps)\n",
    "\n",
    "# Plot\n",
    "plt.figure(figsize=(10, 4))\n",
    "plt.plot(w / np.pi, h_db)\n",
    "plt.title('Frequency Response of All-Pole Filter')\n",
    "plt.xlabel('Normalized Frequency (×π rad/sample)')\n",
    "plt.ylabel('Magnitude (dB)')\n",
    "plt.grid(True)\n",
    "plt.show()"
   ],
   "metadata": {
    "collapsed": false,
    "pycharm": {
     "name": "#%%\n"
    }
   }
  },
  {
   "cell_type": "code",
   "execution_count": null,
   "outputs": [],
   "source": [
    "## under the hood\n",
    "import numpy as np\n",
    "import matplotlib.pyplot as plt\n",
    "\n",
    "# Sample LPC coefficients (e.g., obtained from LPC analysis)\n",
    "a = [1.0, -0.75, 0.5, -0.25]  # Example coefficients\n",
    "worN = 512  # Number of frequency points\n",
    "\n",
    "# Step 1: Define the frequency range for evaluation (normalized from 0 to π)\n",
    "w = np.linspace(0, np.pi, worN)\n",
    "\n",
    "# Step 2: Initialize an empty array to store the frequency response\n",
    "h = np.zeros(worN, dtype=complex)\n",
    "\n",
    "# Step 3: Calculate the frequency response manually\n",
    "for i in range(worN):\n",
    "    # Calculate the point on the unit circle for the current frequency\n",
    "    z = np.exp(1j * w[i])  # e^(jw) where w is the current frequency\n",
    "\n",
    "    # Evaluate the denominator A(z) using the polynomial defined by a\n",
    "    denominator = sum(a[k] * z**(-k) for k in range(len(a)))\n",
    "\n",
    "    # Compute the frequency response H(z) = 1 / A(z) for the all-pole filter\n",
    "    h[i] = 1 / denominator\n",
    "\n",
    "# Convert to magnitude in dB\n",
    "h_db = 20 * np.log10(np.abs(h) + np.finfo(float).eps)\n",
    "\n",
    "# Plot the result\n",
    "plt.figure(figsize=(10, 4))\n",
    "plt.plot(w / np.pi, h_db)\n",
    "plt.title('Frequency Response of All-Pole Filter (Manual Calculation)')\n",
    "plt.xlabel('Normalized Frequency (×π rad/sample)')\n",
    "plt.ylabel('Magnitude (dB)')\n",
    "plt.grid(True)\n",
    "plt.show()"
   ],
   "metadata": {
    "collapsed": false,
    "pycharm": {
     "name": "#%%\n"
    }
   }
  },
  {
   "cell_type": "code",
   "execution_count": null,
   "outputs": [],
   "source": [
    "plt.plot(h)"
   ],
   "metadata": {
    "collapsed": false,
    "pycharm": {
     "name": "#%%\n"
    }
   }
  },
  {
   "cell_type": "markdown",
   "source": [
    "## normal frequency plot"
   ],
   "metadata": {
    "collapsed": false,
    "pycharm": {
     "name": "#%% md\n"
    }
   }
  },
  {
   "cell_type": "code",
   "execution_count": null,
   "outputs": [],
   "source": [
    "import numpy as np\n",
    "import matplotlib.pyplot as plt\n",
    "from scipy.signal import freqz\n",
    "\n",
    "# Example filter coefficients\n",
    "a = [1.0, -0.75, 0.5, -0.25]  # Denominator coefficients\n",
    "\n",
    "# Sampling rate (in Hz)\n",
    "fs = 1000  # Example: 1000 Hz\n",
    "\n",
    "# Compute frequency response\n",
    "w, h = freqz([1], a, worN=512)  # [1] for an all-pole filter\n",
    "\n",
    "# Convert angular frequency w to Hertz\n",
    "f = w * fs / (2 * np.pi)\n",
    "\n",
    "# Convert magnitude response to dB\n",
    "h_db = 20 * np.log10(np.abs(h) + np.finfo(float).eps)\n",
    "\n",
    "# Plot the frequency response in Hertz\n",
    "plt.figure(figsize=(10, 4))\n",
    "plt.plot(f, h_db)\n",
    "plt.title('Frequency Response of All-Pole Filter')\n",
    "plt.xlabel('Frequency (Hz)')\n",
    "plt.ylabel('Magnitude (dB)')\n",
    "plt.grid(True)\n",
    "plt.show()"
   ],
   "metadata": {
    "collapsed": false,
    "pycharm": {
     "name": "#%%\n"
    }
   }
  },
  {
   "cell_type": "markdown",
   "source": [
    "## Poles and zeros"
   ],
   "metadata": {
    "collapsed": false,
    "pycharm": {
     "name": "#%% md\n"
    }
   }
  },
  {
   "cell_type": "markdown",
   "source": [
    "https://blog.mbedded.ninja/electronics/circuit-design/what-are-transfer-functions-poles-and-zeroes/"
   ],
   "metadata": {
    "collapsed": false,
    "pycharm": {
     "name": "#%% md\n"
    }
   }
  },
  {
   "cell_type": "code",
   "execution_count": null,
   "outputs": [],
   "source": [
    "def plot_pole_zero(num, den, title='Pole-Zero Plot'):\n",
    "    \"\"\"\n",
    "    Plot the pole-zero diagram of a transfer function.\n",
    "\n",
    "    Parameters:\n",
    "    num : array_like\n",
    "        Numerator coefficients of the transfer function.\n",
    "    den : array_like\n",
    "        Denominator coefficients of the transfer function.\n",
    "    title : str, optional\n",
    "        Title of the plot.\n",
    "    \"\"\"\n",
    "    # Compute zeros and poles\n",
    "    zeros = np.roots(num)\n",
    "    poles = np.roots(den)\n",
    "\n",
    "    # Create plot\n",
    "    plt.figure(figsize=(8, 8))\n",
    "    \n",
    "    # Plot the unit circle for discrete-time systems\n",
    "    theta = np.linspace(0, 2 * np.pi, 512)\n",
    "    unit_circle = np.exp(1j * theta)\n",
    "    plt.plot(np.real(unit_circle), np.imag(unit_circle), 'k--', label='Unit Circle')\n",
    "    \n",
    "    # Plot zeros and poles\n",
    "    plt.plot(np.real(zeros), np.imag(zeros), 'go', markersize=10, label='Zeros')\n",
    "    plt.plot(np.real(poles), np.imag(poles), 'rx', markersize=10, label='Poles')\n",
    "    \n",
    "    # Adjust plot settings\n",
    "    plt.xlabel('Real Part')\n",
    "    plt.ylabel('Imaginary Part')\n",
    "    plt.title(title)\n",
    "    plt.grid(True)\n",
    "    plt.legend()\n",
    "    plt.axis('equal')  # Equal scaling for both axes\n",
    "    plt.show()"
   ],
   "metadata": {
    "collapsed": false,
    "pycharm": {
     "name": "#%%\n"
    }
   }
  },
  {
   "cell_type": "code",
   "execution_count": null,
   "outputs": [],
   "source": [
    "# Define numerator and denominator coefficients\n",
    "num = [1, 0, -0.25]          # Coefficients of z^2 - 0.25\n",
    "den = [1, -1.1314, 0.64]     # Coefficients calculated above\n",
    "\n",
    "# Call the function to plot poles and zeros\n",
    "plot_pole_zero(num, den, title='Example Pole-Zero Plot')"
   ],
   "metadata": {
    "collapsed": false,
    "pycharm": {
     "name": "#%%\n"
    }
   }
  },
  {
   "cell_type": "code",
   "execution_count": null,
   "outputs": [],
   "source": [
    "# Example LPC filter coefficients\n",
    "a = [1.0, -0.75, 0.5, -0.25]\n",
    "\n",
    "# Plot poles (no zeros)\n",
    "plot_pole_zero(num=[1], den=a, title='All-Pole Filter Pole-Zero Plot')"
   ],
   "metadata": {
    "collapsed": false,
    "pycharm": {
     "name": "#%%\n"
    }
   }
  },
  {
   "cell_type": "code",
   "execution_count": null,
   "outputs": [],
   "source": [
    "np.e"
   ],
   "metadata": {
    "collapsed": false,
    "pycharm": {
     "name": "#%%\n"
    }
   }
  },
  {
   "cell_type": "code",
   "execution_count": null,
   "outputs": [],
   "source": [
    "n=100000\n",
    "(1+1/n)**n"
   ],
   "metadata": {
    "collapsed": false,
    "pycharm": {
     "name": "#%%\n"
    }
   }
  },
  {
   "cell_type": "markdown",
   "source": [
    "## CELT algorithm"
   ],
   "metadata": {
    "collapsed": false,
    "pycharm": {
     "name": "#%% md\n"
    }
   }
  },
  {
   "cell_type": "code",
   "execution_count": null,
   "outputs": [],
   "source": [
    "def mdct(x):\n",
    "    N = len(x)\n",
    "    n0 = (N // 2 + 1) / 2\n",
    "    n = np.arange(N)\n",
    "    k = np.arange(N // 2)\n",
    "    X = np.zeros(N // 2)\n",
    "    for i in k:\n",
    "        X[i] = np.sum(x * np.cos(np.pi / N * (n + n0) * (2 * i + 1)))\n",
    "    return X\n",
    "\n",
    "def imdct(X):\n",
    "    N = 2 * len(X)\n",
    "    n0 = (N // 2 + 1) / 2\n",
    "    n = np.arange(N)\n",
    "    k = np.arange(N // 2)\n",
    "    x = np.zeros(N)\n",
    "    for i in n:\n",
    "        x[i] = np.sum(X * np.cos(np.pi / N * (i + n0) * (2 * k + 1)))\n",
    "    return x"
   ],
   "metadata": {
    "collapsed": false,
    "pycharm": {
     "name": "#%%\n"
    }
   }
  },
  {
   "cell_type": "code",
   "execution_count": null,
   "outputs": [],
   "source": [
    "def frame_signal(signal, frame_size, hop_size):\n",
    "    num_frames = int(np.ceil((len(signal) - frame_size) / hop_size)) + 1\n",
    "    frames = np.zeros((num_frames, frame_size))\n",
    "    for i in range(num_frames):\n",
    "        start = i * hop_size\n",
    "        end = start + frame_size\n",
    "        frames[i, :] = signal[start:end] if end <= len(signal) else np.pad(signal[start:], (0, end - len(signal)), 'constant')\n",
    "    return frames\n",
    "\n",
    "def apply_window(frames):\n",
    "    frame_size = frames.shape[1]\n",
    "    window = np.sin(np.pi / frame_size * (np.arange(frame_size) + 0.5))\n",
    "    return frames * window\n"
   ],
   "metadata": {
    "collapsed": false,
    "pycharm": {
     "name": "#%%\n"
    }
   }
  },
  {
   "cell_type": "code",
   "execution_count": null,
   "outputs": [],
   "source": [
    "def quantize(X, num_bits):\n",
    "    max_val = np.max(np.abs(X))\n",
    "    quant_levels = 2 ** num_bits\n",
    "    step_size = 2 * max_val / quant_levels\n",
    "    indices = np.floor((X + max_val) / step_size).astype(int)\n",
    "    indices = np.clip(indices, 0, quant_levels - 1)\n",
    "    return indices, max_val\n",
    "\n",
    "def dequantize(indices, max_val, num_bits):\n",
    "    quant_levels = 2 ** num_bits\n",
    "    step_size = 2 * max_val / quant_levels\n",
    "    X_hat = indices * step_size - max_val + step_size / 2\n",
    "    return X_hat\n"
   ],
   "metadata": {
    "collapsed": false,
    "pycharm": {
     "name": "#%%\n"
    }
   }
  },
  {
   "cell_type": "code",
   "execution_count": null,
   "outputs": [],
   "source": [
    "def celt_encode(signal, frame_size, hop_size, num_bits):\n",
    "    # Framing and windowing\n",
    "    frames = frame_signal(signal, frame_size, hop_size)\n",
    "    windowed_frames = apply_window(frames)\n",
    "    \n",
    "    # MDCT\n",
    "    mdct_frames = np.array([mdct(frame) for frame in windowed_frames])\n",
    "    \n",
    "    # Quantization\n",
    "    quantized_frames = []\n",
    "    max_vals = []\n",
    "    for X in mdct_frames:\n",
    "        indices, max_val = quantize(X, num_bits)\n",
    "        quantized_frames.append(indices)\n",
    "        max_vals.append(max_val)\n",
    "    \n",
    "    return quantized_frames, max_vals\n"
   ],
   "metadata": {
    "collapsed": false,
    "pycharm": {
     "name": "#%%\n"
    }
   }
  },
  {
   "cell_type": "code",
   "execution_count": null,
   "outputs": [],
   "source": [
    "def celt_decode(quantized_frames, max_vals, frame_size, hop_size, num_bits):\n",
    "    num_frames = len(quantized_frames)\n",
    "    output_length = (num_frames - 1) * hop_size + frame_size\n",
    "    signal = np.zeros(output_length)\n",
    "    window = np.sin(np.pi / frame_size * (np.arange(frame_size) + 0.5))\n",
    "    \n",
    "    for i in range(num_frames):\n",
    "        # Dequantization\n",
    "        X_hat = dequantize(quantized_frames[i], max_vals[i], num_bits)\n",
    "        \n",
    "        # IMDCT\n",
    "        frame = imdct(X_hat)\n",
    "        \n",
    "        # Apply window\n",
    "        frame = frame * window\n",
    "        \n",
    "        # Overlap-add\n",
    "        start = i * hop_size\n",
    "        signal[start:start + frame_size] += frame\n",
    "    \n",
    "    return signal\n"
   ],
   "metadata": {
    "collapsed": false,
    "pycharm": {
     "name": "#%%\n"
    }
   }
  },
  {
   "cell_type": "code",
   "execution_count": null,
   "outputs": [],
   "source": [
    "# Test signal: 1-second sine wave at 440 Hz\n",
    "fs = 8000  # Sampling frequency\n",
    "t = np.linspace(0, 1, fs)\n",
    "test_signal = 0.5 * np.sin(2 * np.pi * 440 * t)\n",
    "\n",
    "# Codec parameters\n",
    "frame_size = 256\n",
    "hop_size = frame_size // 2  # 50% overlap\n",
    "num_bits = 8  # Bits per MDCT coefficient\n",
    "\n",
    "# Encode\n",
    "quantized_frames, max_vals = celt_encode(test_signal, frame_size, hop_size, num_bits)\n",
    "\n",
    "# Decode\n",
    "reconstructed_signal = celt_decode(quantized_frames, max_vals, frame_size, hop_size, num_bits)\n"
   ],
   "metadata": {
    "collapsed": false,
    "pycharm": {
     "name": "#%%\n"
    }
   }
  },
  {
   "cell_type": "code",
   "execution_count": null,
   "outputs": [],
   "source": [
    "time_axis.shape"
   ],
   "metadata": {
    "collapsed": false,
    "pycharm": {
     "name": "#%%\n"
    }
   }
  },
  {
   "cell_type": "code",
   "execution_count": null,
   "outputs": [],
   "source": [
    "reconstructed_signal.shape"
   ],
   "metadata": {
    "collapsed": false,
    "pycharm": {
     "name": "#%%\n"
    }
   }
  },
  {
   "cell_type": "code",
   "execution_count": null,
   "outputs": [],
   "source": [
    "import matplotlib.pyplot as plt\n",
    "\n",
    "# Time axis for plotting\n",
    "time_axis = np.arange(len(test_signal)) / fs\n",
    "\n",
    "# Plot original and reconstructed signals\n",
    "plt.figure(figsize=(12, 6))\n",
    "plt.plot(time_axis, test_signal, label='Original Signal')\n",
    "plt.plot(time_axis[:1000], reconstructed_signal[:1000], label='Reconstructed Signal', alpha=0.7)\n",
    "plt.xlabel('Time (s)')\n",
    "plt.ylabel('Amplitude')\n",
    "plt.title('Original vs. Reconstructed Signal')\n",
    "plt.legend()\n",
    "plt.show()\n"
   ],
   "metadata": {
    "collapsed": false,
    "pycharm": {
     "name": "#%%\n"
    }
   }
  },
  {
   "cell_type": "markdown",
   "source": [
    "## OPUS codec"
   ],
   "metadata": {
    "collapsed": false,
    "pycharm": {
     "name": "#%% md\n"
    }
   }
  },
  {
   "cell_type": "code",
   "execution_count": null,
   "outputs": [],
   "source": [
    "import numpy as np\n",
    "import matplotlib.pyplot as plt\n",
    "\n",
    "# MDCT and IMDCT functions implemented from scratch\n",
    "def mdct(x):\n",
    "    N = len(x) // 2\n",
    "    n = np.arange(2 * N)\n",
    "    k = np.arange(N)\n",
    "\n",
    "    # Pre-twiddle (time shift)\n",
    "    pre_twiddle = x * np.sin(np.pi / (2 * N) * (n + 0.5))\n",
    "\n",
    "    # FFT computation\n",
    "    fft_input = pre_twiddle * np.exp(-1j * np.pi / (2 * N) * (n + N / 2 + 0.5))\n",
    "\n",
    "    # Compute the FFT\n",
    "    fft_output = np.fft.fft(fft_input)\n",
    "\n",
    "    # Take the real part and scale\n",
    "    X = np.real(fft_output[:N]) * np.sqrt(2 / N)\n",
    "\n",
    "    return X\n",
    "\n",
    "def imdct(X):\n",
    "    N = len(X)\n",
    "    k = np.arange(N)\n",
    "    n = np.arange(2 * N)\n",
    "\n",
    "    # Prepare the input for IFFT\n",
    "    # Create a symmetric sequence for IFFT\n",
    "    X_full = np.zeros(2 * N, dtype=complex)\n",
    "    X_full[:N] = X / np.sqrt(2 / N)\n",
    "    X_full[N:] = -X[::-1] / np.sqrt(2 / N)\n",
    "\n",
    "    # IFFT computation\n",
    "    ifft_output = np.fft.ifft(X_full)\n",
    "\n",
    "    # Post-twiddle (time shift)\n",
    "    x = 2 * np.sin(np.pi / (2 * N) * (n + 0.5)) * np.real(ifft_output * np.exp(1j * np.pi / (2 * N) * (n + N / 2 + 0.5)))\n",
    "\n",
    "    return x\n",
    "\n",
    "# Window function\n",
    "def sine_window(N):\n",
    "    n = np.arange(2 * N)\n",
    "    window = np.sin(np.pi / (2 * N) * (n + 0.5))\n",
    "    return window\n",
    "\n",
    "# Framing function\n",
    "def frame_signal(signal, frame_size, hop_size):\n",
    "    num_frames = int(np.ceil((len(signal) - frame_size) / hop_size)) + 1\n",
    "    pad_length = (num_frames - 1) * hop_size + frame_size\n",
    "    pad_signal = np.pad(signal, (0, pad_length - len(signal)), 'constant')\n",
    "\n",
    "    frames = np.zeros((num_frames, frame_size))\n",
    "    for i in range(num_frames):\n",
    "        start = i * hop_size\n",
    "        frames[i, :] = pad_signal[start:start + frame_size]\n",
    "\n",
    "    return frames\n",
    "\n",
    "# Overlap-add function\n",
    "def overlap_add(frames, hop_size):\n",
    "    frame_size = frames.shape[1]\n",
    "    num_frames = frames.shape[0]\n",
    "    signal_length = (num_frames - 1) * hop_size + frame_size\n",
    "    x = np.zeros(signal_length)\n",
    "\n",
    "    for i in range(num_frames):\n",
    "        start = i * hop_size\n",
    "        x[start:start + frame_size] += frames[i, :]\n",
    "\n",
    "    return x\n",
    "\n",
    "# Quantization and dequantization functions\n",
    "def quantize(coeffs, step_size):\n",
    "    indices = np.round(coeffs / step_size).astype(int)\n",
    "    return indices\n",
    "\n",
    "def dequantize(indices, step_size):\n",
    "    return indices * step_size\n",
    "\n",
    "# Placeholder entropy coding functions (no actual coding for simplicity)\n",
    "def entropy_encode(indices):\n",
    "    return indices\n",
    "\n",
    "def entropy_decode(encoded_indices):\n",
    "    return encoded_indices\n",
    "\n",
    "# Updated CELT encoder function\n",
    "def celt_encode(signal, frame_size, hop_size, step_size):\n",
    "    N = frame_size // 2\n",
    "\n",
    "    # Framing\n",
    "    frames = frame_signal(signal, frame_size, hop_size)\n",
    "\n",
    "    # Windowing\n",
    "    window = sine_window(N)\n",
    "    windowed_frames = frames * window\n",
    "\n",
    "    # MDCT\n",
    "    mdct_frames = np.array([mdct(frame) for frame in windowed_frames])\n",
    "\n",
    "    # Quantization\n",
    "    quantized_frames = np.array([quantize(coeffs, step_size) for coeffs in mdct_frames])\n",
    "\n",
    "    # Entropy coding (not implemented)\n",
    "    encoded_frames = np.array([entropy_encode(indices) for indices in quantized_frames])\n",
    "\n",
    "    return encoded_frames\n",
    "\n",
    "# Updated CELT decoder function\n",
    "def celt_decode(encoded_frames, frame_size, hop_size, step_size):\n",
    "    N = frame_size // 2\n",
    "    num_frames = len(encoded_frames)\n",
    "    signal_length = (num_frames - 1) * hop_size + frame_size\n",
    "    reconstructed_signal = np.zeros(signal_length)\n",
    "\n",
    "    window = sine_window(N)\n",
    "\n",
    "    for i in range(num_frames):\n",
    "        # Entropy decoding (not implemented)\n",
    "        quantized_coeffs = entropy_decode(encoded_frames[i])\n",
    "\n",
    "        # Dequantization\n",
    "        coeffs = dequantize(quantized_coeffs, step_size)\n",
    "\n",
    "        # IMDCT\n",
    "        frame = imdct(coeffs)\n",
    "\n",
    "        # Apply window\n",
    "        windowed_frame = frame * window\n",
    "\n",
    "        # Overlap-add\n",
    "        start = i * hop_size\n",
    "        reconstructed_signal[start:start + frame_size] += windowed_frame\n",
    "\n",
    "    return reconstructed_signal\n",
    "\n",
    "# Testing the codec\n",
    "if __name__ == \"__main__\":\n",
    "    # Generate a test signal: 1-second sine wave at 440 Hz\n",
    "    fs = 48000  # Sampling frequency\n",
    "    duration = 1.0  # seconds\n",
    "    t = np.linspace(0, duration, int(fs * duration), endpoint=False)\n",
    "    test_signal = 0.5 * np.sin(2 * np.pi * 440 * t)  # A4 note\n",
    "\n",
    "    # Codec parameters\n",
    "    frame_size = 512  # Must be even\n",
    "    hop_size = frame_size // 2  # 50% overlap\n",
    "    step_size = 0.01  # Quantization step size\n",
    "\n",
    "    # Encoding\n",
    "    encoded_frames = celt_encode(test_signal, frame_size, hop_size, step_size)\n",
    "\n",
    "    # Decoding\n",
    "    reconstructed_signal = celt_decode(encoded_frames, frame_size, hop_size, step_size)\n",
    "\n",
    "    # Normalize signals for comparison\n",
    "    test_signal = test_signal / np.max(np.abs(test_signal))\n",
    "    reconstructed_signal = reconstructed_signal / np.max(np.abs(reconstructed_signal))\n",
    "\n",
    "    # Truncate reconstructed signal to original length\n",
    "    reconstructed_signal = reconstructed_signal[:len(test_signal)]\n",
    "\n",
    "    # Time axis for plotting\n",
    "    time_axis = np.arange(len(test_signal)) / fs\n",
    "\n",
    "    # Plot original and reconstructed signals\n",
    "    plt.figure(figsize=(12, 6))\n",
    "    plt.plot(time_axis, test_signal, label='Original Signal')\n",
    "    plt.plot(time_axis, reconstructed_signal, label='Reconstructed Signal', alpha=0.7)\n",
    "    plt.xlabel('Time (s)')\n",
    "    plt.ylabel('Amplitude')\n",
    "    plt.title('Original vs. Reconstructed Signal using Custom MDCT in CELT Codec')\n",
    "    plt.legend()\n",
    "    plt.show()\n"
   ],
   "metadata": {
    "collapsed": false,
    "pycharm": {
     "name": "#%%\n"
    }
   }
  },
  {
   "cell_type": "markdown",
   "source": [
    "## DFT"
   ],
   "metadata": {
    "collapsed": false,
    "pycharm": {
     "name": "#%% md\n"
    }
   }
  },
  {
   "cell_type": "code",
   "execution_count": null,
   "outputs": [],
   "source": [
    "import numpy as np\n",
    "import matplotlib.pyplot as plt\n",
    "\n",
    "\n",
    "# Sampling parameters\n",
    "fs = 1000  # Sampling frequency in Hz\n",
    "T = 1.0    # Duration in seconds\n",
    "N = int(fs * T)  # Total number of samples\n",
    "\n",
    "# Time vector\n",
    "t = np.linspace(0, T, N, endpoint=False)\n",
    "\n",
    "# Frequencies of the components\n",
    "f1 = 50  # Frequency of cosine component in Hz\n",
    "f2 = 120  # Frequency of sine component in Hz\n"
   ],
   "metadata": {
    "collapsed": false,
    "pycharm": {
     "name": "#%%\n"
    }
   }
  },
  {
   "cell_type": "code",
   "execution_count": null,
   "outputs": [],
   "source": [
    "# Generate the cosine and sine components\n",
    "cosine_component = np.cos(2 * np.pi * f1 * t)\n",
    "sine_component = np.sin(2 * np.pi * f2 * t)\n",
    "\n",
    "# Composite signal\n",
    "signal = cosine_component + sine_component\n"
   ],
   "metadata": {
    "collapsed": false,
    "pycharm": {
     "name": "#%%\n"
    }
   }
  },
  {
   "cell_type": "code",
   "execution_count": null,
   "outputs": [],
   "source": [
    "plt.figure(figsize=(12, 4))\n",
    "plt.plot(t, signal, label='Composite Signal')\n",
    "plt.title('Time-Domain Signal')\n",
    "plt.xlabel('Time [s]')\n",
    "plt.ylabel('Amplitude')\n",
    "plt.legend()\n",
    "plt.grid(True)\n",
    "plt.show()\n"
   ],
   "metadata": {
    "collapsed": false,
    "pycharm": {
     "name": "#%%\n"
    }
   }
  },
  {
   "cell_type": "code",
   "execution_count": null,
   "outputs": [],
   "source": [
    "# Compute the DFT\n",
    "X = np.fft.fft(signal)\n",
    "\n",
    "# Frequency bins\n",
    "freqs = np.fft.fftfreq(N, d=1/fs)\n"
   ],
   "metadata": {
    "collapsed": false,
    "pycharm": {
     "name": "#%%\n"
    }
   }
  },
  {
   "cell_type": "code",
   "execution_count": null,
   "outputs": [],
   "source": [
    "# Compute the amplitude spectrum\n",
    "amplitude_spectrum = np.abs(X) / N  # Normalize the amplitude\n"
   ],
   "metadata": {
    "collapsed": false,
    "pycharm": {
     "name": "#%%\n"
    }
   }
  },
  {
   "cell_type": "code",
   "execution_count": null,
   "outputs": [],
   "source": [
    "# Compute the phase spectrum\n",
    "phase_spectrum = np.angle(X)\n"
   ],
   "metadata": {
    "collapsed": false,
    "pycharm": {
     "name": "#%%\n"
    }
   }
  },
  {
   "cell_type": "code",
   "execution_count": null,
   "outputs": [],
   "source": [
    "# Only need to plot the positive frequencies (first half of the spectrum)\n",
    "half_N = N // 2\n",
    "\n",
    "plt.figure(figsize=(12, 6))\n",
    "plt.stem(freqs[:half_N], amplitude_spectrum[:half_N], 'b', markerfmt=\" \", basefmt=\"-b\")\n",
    "plt.title('Amplitude Spectrum')\n",
    "plt.xlabel('Frequency [Hz]')\n",
    "plt.ylabel('Amplitude')\n",
    "plt.grid(True)\n",
    "plt.show()\n"
   ],
   "metadata": {
    "collapsed": false,
    "pycharm": {
     "name": "#%%\n"
    }
   }
  },
  {
   "cell_type": "code",
   "execution_count": null,
   "outputs": [],
   "source": [
    "plt.figure(figsize=(12, 6))\n",
    "plt.stem(freqs[:half_N], phase_spectrum[:half_N], 'r', markerfmt=\" \", basefmt=\"-r\")\n",
    "plt.title('Phase Spectrum')\n",
    "plt.xlabel('Frequency [Hz]')\n",
    "plt.ylabel('Phase [Radians]')\n",
    "plt.grid(True)\n",
    "plt.show()\n"
   ],
   "metadata": {
    "collapsed": false,
    "pycharm": {
     "name": "#%%\n"
    }
   }
  },
  {
   "cell_type": "code",
   "execution_count": null,
   "outputs": [],
   "source": [
    "# Real part (cosine contributions)\n",
    "real_part = np.real(X) / N\n",
    "\n",
    "# Imaginary part (sine contributions)\n",
    "imag_part = np.imag(X) / N\n"
   ],
   "metadata": {
    "collapsed": false,
    "pycharm": {
     "name": "#%%\n"
    }
   }
  },
  {
   "cell_type": "code",
   "execution_count": null,
   "outputs": [],
   "source": [
    "# Plot the real part (cosine contributions)\n",
    "plt.figure(figsize=(12, 6))\n",
    "plt.stem(freqs[:half_N], real_part[:half_N], 'g', markerfmt=\" \", basefmt=\"-g\")\n",
    "plt.title('Real Part of DFT Coefficients (Cosine Contributions)')\n",
    "plt.xlabel('Frequency [Hz]')\n",
    "plt.ylabel('Real Part')\n",
    "plt.grid(True)\n",
    "plt.show()\n",
    "\n",
    "# Plot the imaginary part (sine contributions)\n",
    "plt.figure(figsize=(12, 6))\n",
    "plt.stem(freqs[:half_N], imag_part[:half_N], 'm', markerfmt=\" \", basefmt=\"-m\")\n",
    "plt.title('Imaginary Part of DFT Coefficients (Sine Contributions)')\n",
    "plt.xlabel('Frequency [Hz]')\n",
    "plt.ylabel('Imaginary Part')\n",
    "plt.grid(True)\n",
    "plt.show()\n"
   ],
   "metadata": {
    "collapsed": false,
    "pycharm": {
     "name": "#%%\n"
    }
   }
  },
  {
   "cell_type": "markdown",
   "source": [
    "## DFT from scratch"
   ],
   "metadata": {
    "collapsed": false,
    "pycharm": {
     "name": "#%% md\n"
    }
   }
  },
  {
   "cell_type": "markdown",
   "source": [
    "### Get under the hood of fourier transform"
   ],
   "metadata": {
    "collapsed": false,
    "pycharm": {
     "name": "#%% md\n"
    }
   }
  },
  {
   "cell_type": "code",
   "execution_count": null,
   "outputs": [],
   "source": [
    "import math, cmath\n",
    "import pandas as pd\n",
    "import numpy as np\n",
    "import seaborn as sns\n",
    "import matplotlib.pyplot as plt\n",
    "\n",
    "# Signal parameters\n",
    "fs = 800  # Sampling frequency in Hz\n",
    "T = 1.0   # Duration in seconds\n",
    "N = int(fs * T)  # Total number of samples\n",
    "\n",
    "# Time vector\n",
    "t = np.linspace(0, T, N, endpoint=False)\n",
    "\n",
    "# Frequencies of the sine waves\n",
    "f1 = 50   # Frequency in Hz\n",
    "f2 = 120  # Frequency in Hz\n",
    "\n",
    "# Generate the signal\n",
    "x = np.sin(2 * np.pi * f1 * t) + 0.5 * np.sin(2 * np.pi * f2 * t)"
   ],
   "metadata": {
    "collapsed": false,
    "pycharm": {
     "name": "#%%\n"
    }
   }
  },
  {
   "cell_type": "markdown",
   "source": [
    "#### do the transformation"
   ],
   "metadata": {
    "collapsed": false,
    "pycharm": {
     "name": "#%% md\n"
    }
   }
  },
  {
   "cell_type": "code",
   "execution_count": null,
   "outputs": [],
   "source": [
    "# x=signal[:500]\n",
    "N = len(x)\n",
    "X = []\n",
    "log=[]\n",
    "for k in range(N):\n",
    "    log_=[]\n",
    "    sum_val = 0.0 + 0.0j  # Initialize to zero as a complex number\n",
    "    for n in range(N):\n",
    "        angle = -2j * math.pi * k * n / N\n",
    "        sum_val += x[n] * cmath.exp(angle)\n",
    "        log_.append([k, n, N, n/N, angle, cmath.exp(angle),x[n], x[n] * cmath.exp(angle)])\n",
    "    X.append(sum_val)\n",
    "    log.append(log_)"
   ],
   "metadata": {
    "collapsed": false,
    "pycharm": {
     "name": "#%%\n"
    }
   }
  },
  {
   "cell_type": "code",
   "execution_count": null,
   "outputs": [],
   "source": [
    "N"
   ],
   "metadata": {
    "collapsed": false,
    "pycharm": {
     "name": "#%%\n"
    }
   }
  },
  {
   "cell_type": "markdown",
   "source": [
    "#### turn one iteration into df"
   ],
   "metadata": {
    "collapsed": false,
    "pycharm": {
     "name": "#%% md\n"
    }
   }
  },
  {
   "cell_type": "code",
   "execution_count": null,
   "outputs": [],
   "source": [
    "len(X)"
   ],
   "metadata": {
    "collapsed": false,
    "pycharm": {
     "name": "#%%\n"
    }
   }
  },
  {
   "cell_type": "code",
   "execution_count": null,
   "outputs": [],
   "source": [
    "len(log)"
   ],
   "metadata": {
    "collapsed": false,
    "pycharm": {
     "name": "#%%\n"
    }
   }
  },
  {
   "cell_type": "code",
   "execution_count": null,
   "outputs": [],
   "source": [
    "idx=50\n",
    "df=pd.DataFrame(log[idx], columns=['k','n', 'N','n_N', 'angle', 'exp','x_n', 'res'])\n",
    "df['angle_real']=np.real(df.angle)\n",
    "df['angle_imag']=np.imag(df.angle)"
   ],
   "metadata": {
    "collapsed": false,
    "pycharm": {
     "name": "#%%\n"
    }
   }
  },
  {
   "cell_type": "markdown",
   "source": [
    "#### plot components of the output"
   ],
   "metadata": {
    "collapsed": false,
    "pycharm": {
     "name": "#%% md\n"
    }
   }
  },
  {
   "cell_type": "code",
   "execution_count": null,
   "outputs": [],
   "source": [
    "plt.plot(X)"
   ],
   "metadata": {
    "collapsed": false,
    "pycharm": {
     "name": "#%%\n"
    }
   }
  },
  {
   "cell_type": "code",
   "execution_count": null,
   "outputs": [],
   "source": [
    "# Frequency bins\n",
    "freqs = np.array([k * fs / N for k in range(N)])\n",
    "\n",
    "# Compute the magnitude of the DFT coefficients\n",
    "magnitude = np.abs(X)\n",
    "\n",
    "# Plot the magnitude spectrum\n",
    "plt.figure(figsize=(12, 6))\n",
    "plt.stem(freqs[:N//2], magnitude[:N//2], 'b', markerfmt=\" \", basefmt=\"-b\")\n",
    "plt.title('DFT Magnitude Spectrum')\n",
    "plt.xlabel('Frequency (Hz)')\n",
    "plt.ylabel('Magnitude')\n",
    "plt.grid(True)\n",
    "plt.show()"
   ],
   "metadata": {
    "collapsed": false,
    "pycharm": {
     "name": "#%%\n"
    }
   }
  },
  {
   "cell_type": "code",
   "execution_count": null,
   "outputs": [],
   "source": [
    "df.head()"
   ],
   "metadata": {
    "collapsed": false,
    "pycharm": {
     "name": "#%%\n"
    }
   }
  },
  {
   "cell_type": "code",
   "execution_count": null,
   "outputs": [],
   "source": [
    "#angle mean diff in each step what whas mean step of an angle\n",
    "df.angle.diff().mean()"
   ],
   "metadata": {
    "collapsed": false,
    "pycharm": {
     "name": "#%%\n"
    }
   }
  },
  {
   "cell_type": "markdown",
   "source": [
    "##### angle"
   ],
   "metadata": {
    "collapsed": false,
    "pycharm": {
     "name": "#%% md\n"
    }
   }
  },
  {
   "cell_type": "code",
   "execution_count": null,
   "outputs": [],
   "source": [
    "df['angle_real'].plot()"
   ],
   "metadata": {
    "collapsed": false,
    "pycharm": {
     "name": "#%%\n"
    }
   }
  },
  {
   "cell_type": "code",
   "execution_count": null,
   "outputs": [],
   "source": [
    "df['angle_imag'].plot()"
   ],
   "metadata": {
    "collapsed": false,
    "pycharm": {
     "name": "#%%\n"
    }
   }
  },
  {
   "cell_type": "code",
   "execution_count": null,
   "outputs": [],
   "source": [
    "df.shape"
   ],
   "metadata": {
    "collapsed": false,
    "pycharm": {
     "name": "#%%\n"
    }
   }
  },
  {
   "cell_type": "code",
   "execution_count": null,
   "outputs": [],
   "source": [
    "df.x_n.plot()"
   ],
   "metadata": {
    "collapsed": false,
    "pycharm": {
     "name": "#%%\n"
    }
   }
  },
  {
   "cell_type": "markdown",
   "source": [
    "##### plot exponents on the unit circle"
   ],
   "metadata": {
    "collapsed": false,
    "pycharm": {
     "name": "#%% md\n"
    }
   }
  },
  {
   "cell_type": "code",
   "execution_count": null,
   "outputs": [],
   "source": [
    "theta = np.linspace(0, 2 * np.pi, 512)\n",
    "unit_circle = np.exp(1j * theta)\n",
    "plt.figure(figsize=(8, 8))\n",
    "plt.plot(np.real(unit_circle), np.imag(unit_circle), 'k--', label='Unit Circle')\n",
    "point=df['exp'][:10]\n",
    "plt.plot(np.real(point), np.imag(point), color='red')"
   ],
   "metadata": {
    "collapsed": false,
    "pycharm": {
     "name": "#%%\n"
    }
   }
  },
  {
   "cell_type": "markdown",
   "source": [
    "##### exponent on timewise"
   ],
   "metadata": {
    "collapsed": false,
    "pycharm": {
     "name": "#%% md\n"
    }
   }
  },
  {
   "cell_type": "code",
   "execution_count": null,
   "outputs": [],
   "source": [
    "df['exp'].plot()"
   ],
   "metadata": {
    "collapsed": false,
    "pycharm": {
     "name": "#%%\n"
    }
   }
  },
  {
   "cell_type": "code",
   "execution_count": null,
   "outputs": [],
   "source": [
    "plt.plot(np.imag(df['exp']))"
   ],
   "metadata": {
    "collapsed": false,
    "pycharm": {
     "name": "#%%\n"
    }
   }
  },
  {
   "cell_type": "code",
   "execution_count": null,
   "outputs": [],
   "source": [
    "plt.plot(np.real(df['exp']))"
   ],
   "metadata": {
    "collapsed": false,
    "pycharm": {
     "name": "#%%\n"
    }
   }
  },
  {
   "cell_type": "markdown",
   "source": [
    "##### plot result (exponent times the signal)"
   ],
   "metadata": {
    "collapsed": false,
    "pycharm": {
     "name": "#%% md\n"
    }
   }
  },
  {
   "cell_type": "code",
   "execution_count": null,
   "outputs": [],
   "source": [
    "#this is basically result of a projection where base signal and signal are on the same frequency\n",
    "#they are \"biased\" on one direction, if base signal would not be present in the signal, then projection would  be \n",
    "#all over the place\n",
    "theta = np.linspace(0, 2 * np.pi, 512)\n",
    "unit_circle = np.exp(1j * theta)\n",
    "plt.figure(figsize=(8, 8))\n",
    "plt.plot(np.real(unit_circle), np.imag(unit_circle), 'k--', label='Unit Circle')\n",
    "point=df['res']\n",
    "plt.plot(np.real(point), np.imag(point), color='red', alpha=0.8)"
   ],
   "metadata": {
    "collapsed": false,
    "pycharm": {
     "name": "#%%\n"
    }
   }
  },
  {
   "cell_type": "code",
   "execution_count": null,
   "outputs": [],
   "source": [
    "X[idx]"
   ],
   "metadata": {
    "collapsed": false,
    "pycharm": {
     "name": "#%%\n"
    }
   }
  },
  {
   "cell_type": "code",
   "execution_count": null,
   "outputs": [],
   "source": [
    "df['res'].sum()"
   ],
   "metadata": {
    "collapsed": false,
    "pycharm": {
     "name": "#%%\n"
    }
   }
  },
  {
   "cell_type": "code",
   "execution_count": null,
   "outputs": [],
   "source": [
    "#should be close\n",
    "np.allclose(df['res'].sum(), X[idx])"
   ],
   "metadata": {
    "collapsed": false,
    "pycharm": {
     "name": "#%%\n"
    }
   }
  },
  {
   "cell_type": "code",
   "execution_count": null,
   "outputs": [],
   "source": [
    "#timewise\n",
    "df['res'].plot()"
   ],
   "metadata": {
    "collapsed": false,
    "pycharm": {
     "name": "#%%\n"
    }
   }
  },
  {
   "cell_type": "code",
   "execution_count": null,
   "outputs": [],
   "source": [
    "plt.plot(np.imag(df['res']))"
   ],
   "metadata": {
    "collapsed": false,
    "pycharm": {
     "name": "#%%\n"
    }
   }
  },
  {
   "cell_type": "code",
   "execution_count": null,
   "outputs": [],
   "source": [
    "plt.plot(np.real(df['res']))"
   ],
   "metadata": {
    "collapsed": false,
    "pycharm": {
     "name": "#%%\n"
    }
   }
  },
  {
   "cell_type": "markdown",
   "source": [
    "## Fourier transform: basis and signal phase alignment - how dft detects frequency even if sifgnal and basis signal phases don't align initially"
   ],
   "metadata": {
    "collapsed": false,
    "pycharm": {
     "name": "#%% md\n"
    }
   }
  },
  {
   "cell_type": "code",
   "execution_count": null,
   "outputs": [],
   "source": [
    "import numpy as np\n",
    "import matplotlib.pyplot as plt\n",
    "\n",
    "# Parameters\n",
    "N = 64  # Number of samples\n",
    "n = np.arange(N)\n",
    "k_signal = 2   # Frequency index of the signal\n",
    "k_basis = 2    # Frequency index of the basis function (same as signal frequency)\n",
    "A = 1          # Amplitude of the signal\n",
    "phi = np.pi / 3  # Phase of the signal\n",
    "\n",
    "# Generate the signal x[n] with frequency k_signal and phase phi\n",
    "theta_signal = (2 * np.pi * k_signal * n / N) + phi\n",
    "x = A * np.cos(theta_signal)\n",
    "\n",
    "# Represent x[n] in complex form\n",
    "x_complex = A * np.exp(1j * theta_signal)\n",
    "\n",
    "# Compute the basis function phi_k[n] with frequency k_basis\n",
    "theta_basis = -2 * np.pi * k_basis * n / N\n",
    "phi_k = np.exp(1j * theta_basis)\n",
    "\n",
    "# Multiply x[n] by phi_k[n]\n",
    "product = x_complex * phi_k\n",
    "\n",
    "# Extract the phases\n",
    "phase_x = np.angle(x_complex)\n",
    "phase_phi_k = np.angle(phi_k)\n",
    "phase_product = np.angle(product)\n",
    "\n",
    "# Plotting\n",
    "plt.figure(figsize=(12, 8))\n",
    "\n",
    "# Plot the signal x[n] in the complex plane\n",
    "plt.subplot(2, 2, 1)\n",
    "plt.plot(np.real(x_complex), np.imag(x_complex), 'o-', label='$x[n]$')\n",
    "plt.title('Signal $x[n]$ in Complex Plane')\n",
    "plt.xlabel('Real Part')\n",
    "plt.ylabel('Imaginary Part')\n",
    "plt.grid(True)\n",
    "plt.axis('equal')\n",
    "plt.legend()\n",
    "\n",
    "# Plot the basis function phi_k[n] in the complex plane\n",
    "plt.subplot(2, 2, 2)\n",
    "plt.plot(np.real(phi_k), np.imag(phi_k), 'o-', color='orange', label=r'$\\phi_k[n]$')\n",
    "plt.title('Basis Function $\\phi_k[n]$ in Complex Plane')\n",
    "plt.xlabel('Real Part')\n",
    "plt.ylabel('Imaginary Part')\n",
    "plt.grid(True)\n",
    "plt.axis('equal')\n",
    "plt.legend()\n",
    "\n",
    "# Plot the product x[n] * phi_k[n] in the complex plane\n",
    "plt.subplot(2, 2, 3)\n",
    "plt.plot(np.real(product), np.imag(product), 'o-', color='green', label='$x[n] \\cdot \\phi_k[n]$')\n",
    "plt.title('Product $x[n] \\cdot \\phi_k[n]$ in Complex Plane')\n",
    "plt.xlabel('Real Part')\n",
    "plt.ylabel('Imaginary Part')\n",
    "plt.grid(True)\n",
    "plt.axis('equal')\n",
    "plt.legend()\n",
    "\n",
    "# Plot the phase of the product over n\n",
    "plt.subplot(2, 2, 4)\n",
    "plt.plot(n, phase_product, 'o-', color='purple', label='Phase of $x[n] \\cdot \\phi_k[n]$')\n",
    "plt.title('Phase of Product Over n')\n",
    "plt.xlabel('Sample Index $n$')\n",
    "plt.ylabel('Phase (radians)')\n",
    "plt.grid(True)\n",
    "plt.legend()\n",
    "\n",
    "plt.tight_layout()\n",
    "plt.show()\n"
   ],
   "metadata": {
    "collapsed": false,
    "pycharm": {
     "name": "#%%\n"
    }
   }
  },
  {
   "cell_type": "code",
   "execution_count": null,
   "outputs": [],
   "source": [
    "product"
   ],
   "metadata": {
    "collapsed": false,
    "pycharm": {
     "name": "#%%\n"
    }
   }
  },
  {
   "cell_type": "markdown",
   "source": [
    "## DCT example - based on DFT example"
   ],
   "metadata": {
    "collapsed": false,
    "pycharm": {
     "name": "#%% md\n"
    }
   }
  },
  {
   "cell_type": "code",
   "execution_count": null,
   "outputs": [],
   "source": [
    "import math\n",
    "\n",
    "def dct(x):\n",
    "    \"\"\"\n",
    "    Compute the Discrete Cosine Transform (DCT) of an input sequence x.\n",
    "\n",
    "    Parameters:\n",
    "    - x: list or array of real numbers (input sequence)\n",
    "\n",
    "    Returns:\n",
    "    - X: list of real numbers (DCT coefficients)\n",
    "    - log: list of lists containing intermediate computation values\n",
    "    \"\"\"\n",
    "    N = len(x)\n",
    "    X = []\n",
    "    log = []\n",
    "\n",
    "    for k in range(N):\n",
    "        log_ = []\n",
    "        sum_val = 0.0\n",
    "        alpha = math.sqrt(1 / N) if k == 0 else math.sqrt(2 / N) #scaling factor for energy preserving\n",
    "        for n in range(N):\n",
    "            angle = (math.pi / N) * (n + 0.5) * k\n",
    "            cos_value = math.cos(angle)\n",
    "            sum_val += x[n] * cos_value\n",
    "            log_.append([k, n, N, n/N, angle, cos_value, x[n] * cos_value])\n",
    "        X_k = alpha * sum_val\n",
    "        X.append(X_k)\n",
    "        log.append(log_)\n",
    "    return X, log\n"
   ],
   "metadata": {
    "collapsed": false,
    "pycharm": {
     "name": "#%%\n"
    }
   }
  },
  {
   "cell_type": "code",
   "execution_count": null,
   "outputs": [],
   "source": [
    "# Sample signal\n",
    "x = [0.0, 0.5, 1.0, 0.5, 0.0, -0.5, -1.0, -0.5]"
   ],
   "metadata": {
    "collapsed": false,
    "pycharm": {
     "name": "#%%\n"
    }
   }
  },
  {
   "cell_type": "code",
   "execution_count": null,
   "outputs": [],
   "source": [
    "X, log = dct(x)\n",
    "print(\"DCT Coefficients:\")\n",
    "for k, X_k in enumerate(X):\n",
    "    print(f\"X[{k}] = {X_k}\")"
   ],
   "metadata": {
    "collapsed": false,
    "pycharm": {
     "name": "#%%\n"
    }
   }
  },
  {
   "cell_type": "code",
   "execution_count": null,
   "outputs": [],
   "source": [
    "df_log=pd.DataFrame(log[1])\n",
    "df_log.columns=['k', 'n', 'N', 'n/N', 'angle', 'cos_value', 'res']\n",
    "df_log"
   ],
   "metadata": {
    "collapsed": false,
    "pycharm": {
     "name": "#%%\n"
    }
   }
  },
  {
   "cell_type": "code",
   "execution_count": null,
   "outputs": [],
   "source": [
    "import matplotlib.pyplot as plt\n",
    "\n",
    "# Original signal\n",
    "plt.figure(figsize=(12, 4))\n",
    "plt.subplot(1, 2, 1)\n",
    "plt.stem(range(len(x)), x)\n",
    "plt.title('Original Signal')\n",
    "plt.xlabel('Sample Index n')\n",
    "plt.ylabel('Amplitude')\n",
    "\n",
    "# DCT coefficients\n",
    "plt.subplot(1, 2, 2)\n",
    "plt.stem(range(len(X)), X)\n",
    "plt.title('DCT Coefficients')\n",
    "plt.xlabel('Frequency Index k')\n",
    "plt.ylabel('Coefficient Value')\n",
    "\n",
    "plt.tight_layout()\n",
    "plt.show()\n"
   ],
   "metadata": {
    "collapsed": false,
    "pycharm": {
     "name": "#%%\n"
    }
   }
  },
  {
   "cell_type": "markdown",
   "source": [
    "##### samples from log"
   ],
   "metadata": {
    "collapsed": false,
    "pycharm": {
     "name": "#%% md\n"
    }
   }
  },
  {
   "cell_type": "code",
   "execution_count": null,
   "outputs": [],
   "source": [
    "df_log.cos_value.plot()"
   ],
   "metadata": {
    "collapsed": false,
    "pycharm": {
     "name": "#%%\n"
    }
   }
  },
  {
   "cell_type": "code",
   "execution_count": null,
   "outputs": [],
   "source": [
    "df_log.res.plot()"
   ],
   "metadata": {
    "collapsed": false,
    "pycharm": {
     "name": "#%%\n"
    }
   }
  },
  {
   "cell_type": "markdown",
   "source": [
    "By modifying your DFT code as shown, you can compute the Discrete Cosine Transform of your signal. The key changes involve:\n",
    "\n",
    "- Using the DCT-specific angle calculation.\n",
    "\n",
    "- Replacing the complex exponential with the cosine function.\n",
    "\n",
    "- Adjusting for scaling factors if necessary."
   ],
   "metadata": {
    "collapsed": false,
    "pycharm": {
     "name": "#%% md\n"
    }
   }
  },
  {
   "cell_type": "markdown",
   "source": [
    "#### Energy preserving\n",
    "\n",
    "When working with signal transforms like the Discrete Cosine Transform (DCT) or the Discrete Fourier Transform (DFT), the concept of energy preservation is fundamental. It refers to the property where the total energy of a signal remains the same before and after the transformation. In other words, the sum of the squares of the signal's samples in the time domain is equal to the sum of the squares of its transform coefficients in the frequency domain."
   ],
   "metadata": {
    "collapsed": false,
    "pycharm": {
     "name": "#%% md\n"
    }
   }
  },
  {
   "cell_type": "markdown",
   "source": [
    "What Does Energy Preservation Mean?\n",
    "1. Definition of Energy in Signals\n",
    "In signal processing, the energy of a discrete signal \n",
    "𝑥\n",
    "[\n",
    "𝑛\n",
    "]\n",
    "x[n] is defined as:\n",
    "\n",
    "𝐸\n",
    "time\n",
    "=\n",
    "∑\n",
    "𝑛\n",
    "=\n",
    "0\n",
    "𝑁\n",
    "−\n",
    "1\n",
    "∣\n",
    "𝑥\n",
    "[\n",
    "𝑛\n",
    "]\n",
    "∣\n",
    "2\n",
    "E \n",
    "time\n",
    "​\n",
    " = \n",
    "n=0\n",
    "∑\n",
    "N−1\n",
    "​\n",
    " ∣x[n]∣ \n",
    "2\n",
    " \n",
    "𝐸\n",
    "time\n",
    "E \n",
    "time\n",
    "​\n",
    " : Total energy of the signal in the time domain.\n",
    "𝑥\n",
    "[\n",
    "𝑛\n",
    "]\n",
    "x[n]: The signal sample at index \n",
    "𝑛\n",
    "n.\n",
    "𝑁\n",
    "N: The total number of samples.\n",
    "Similarly, the energy in the frequency domain, after applying a transform like the DCT, is:\n",
    "\n",
    "𝐸\n",
    "freq\n",
    "=\n",
    "∑\n",
    "𝑘\n",
    "=\n",
    "0\n",
    "𝑁\n",
    "−\n",
    "1\n",
    "∣\n",
    "𝑋\n",
    "[\n",
    "𝑘\n",
    "]\n",
    "∣\n",
    "2\n",
    "E \n",
    "freq\n",
    "​\n",
    " = \n",
    "k=0\n",
    "∑\n",
    "N−1\n",
    "​\n",
    " ∣X[k]∣ \n",
    "2\n",
    " \n",
    "𝐸\n",
    "freq\n",
    "E \n",
    "freq\n",
    "​\n",
    " : Total energy of the signal in the frequency domain.\n",
    "𝑋\n",
    "[\n",
    "𝑘\n",
    "]\n",
    "X[k]: The transform coefficient at frequency index \n",
    "𝑘\n",
    "k.\n",
    "2. Energy Preservation Property\n",
    "A transform is energy-preserving if:\n",
    "\n",
    "𝐸\n",
    "time\n",
    "=\n",
    "𝐸\n",
    "freq\n",
    "E \n",
    "time\n",
    "​\n",
    " =E \n",
    "freq\n",
    "​\n",
    " \n",
    "This means that the total energy calculated from the time-domain samples is equal to the total energy calculated from the transform coefficients.\n",
    "\n",
    "3. Parseval's Theorem\n",
    "The concept of energy preservation is formalized in Parseval's Theorem, which states that the sum of the squares of a function is equal to the sum of the squares of its transform coefficients. For the DCT, a form of Parseval's Theorem applies, ensuring that:\n",
    "\n",
    "∑\n",
    "𝑛\n",
    "=\n",
    "0\n",
    "𝑁\n",
    "−\n",
    "1\n",
    "∣\n",
    "𝑥\n",
    "[\n",
    "𝑛\n",
    "]\n",
    "∣\n",
    "2\n",
    "=\n",
    "∑\n",
    "𝑘\n",
    "=\n",
    "0\n",
    "𝑁\n",
    "−\n",
    "1\n",
    "∣\n",
    "𝑋\n",
    "[\n",
    "𝑘\n",
    "]\n",
    "∣\n",
    "2\n",
    "n=0\n",
    "∑\n",
    "N−1\n",
    "​\n",
    " ∣x[n]∣ \n",
    "2\n",
    " = \n",
    "k=0\n",
    "∑\n",
    "N−1\n",
    "​\n",
    " ∣X[k]∣ \n",
    "2\n",
    " \n",
    "provided that appropriate scaling factors are used in the transform.\n",
    "\n"
   ],
   "metadata": {
    "collapsed": false,
    "pycharm": {
     "name": "#%% md\n"
    }
   }
  },
  {
   "cell_type": "code",
   "execution_count": null,
   "outputs": [],
   "source": [
    "#### visualize orthogonal basis functions"
   ],
   "metadata": {
    "collapsed": false,
    "pycharm": {
     "name": "#%%\n"
    }
   }
  },
  {
   "cell_type": "code",
   "execution_count": null,
   "outputs": [],
   "source": [
    "import numpy as np\n",
    "import matplotlib.pyplot as plt"
   ],
   "metadata": {
    "collapsed": false,
    "pycharm": {
     "name": "#%%\n"
    }
   }
  },
  {
   "cell_type": "code",
   "execution_count": null,
   "outputs": [],
   "source": [
    "# Define the interval\n",
    "T = 1.0  # Period\n",
    "N = 500  # Number of sample points\n",
    "t = np.linspace(0, T, N, endpoint=False)\n"
   ],
   "metadata": {
    "collapsed": false,
    "pycharm": {
     "name": "#%%\n"
    }
   }
  },
  {
   "cell_type": "code",
   "execution_count": null,
   "outputs": [],
   "source": [
    "k = 3  # Frequency index for the first basis function\n",
    "n = 5  # Frequency index for the second basis function\n",
    "\n",
    "phi_k = np.cos(2 * np.pi * k * t / T)\n",
    "phi_n = np.cos(2 * np.pi * n * t / T)\n"
   ],
   "metadata": {
    "collapsed": false,
    "pycharm": {
     "name": "#%%\n"
    }
   }
  },
  {
   "cell_type": "code",
   "execution_count": null,
   "outputs": [],
   "source": [
    "plt.figure(figsize=(12, 6))\n",
    "\n",
    "# Plot phi_k\n",
    "plt.subplot(2, 1, 1)\n",
    "plt.plot(t, phi_k, label=f'phi_k (k={k})')\n",
    "plt.title('Cosine Basis Function phi_k')\n",
    "plt.xlabel('Time t')\n",
    "plt.ylabel('Amplitude')\n",
    "plt.legend()\n",
    "plt.grid(True)\n",
    "\n",
    "# Plot phi_n\n",
    "plt.subplot(2, 1, 2)\n",
    "plt.plot(t, phi_n, label=f'phi_n (n={n})', color='orange')\n",
    "plt.title('Cosine Basis Function phi_n')\n",
    "plt.xlabel('Time t')\n",
    "plt.ylabel('Amplitude')\n",
    "plt.legend()\n",
    "plt.grid(True)\n",
    "\n",
    "plt.tight_layout()\n",
    "plt.show()\n"
   ],
   "metadata": {
    "collapsed": false,
    "pycharm": {
     "name": "#%%\n"
    }
   }
  },
  {
   "cell_type": "code",
   "execution_count": null,
   "outputs": [],
   "source": [
    "# Compute the inner product (approximate integral using trapezoidal rule)\n",
    "inner_product = np.trapz(phi_k * phi_n, t)\n",
    "\n",
    "print(f\"Inner product of phi_k and phi_n: {inner_product}\")\n"
   ],
   "metadata": {
    "collapsed": false,
    "pycharm": {
     "name": "#%%\n"
    }
   }
  },
  {
   "cell_type": "code",
   "execution_count": null,
   "outputs": [],
   "source": [
    "# Compute norms\n",
    "norm_phi_k = np.sqrt(np.trapz(phi_k * phi_k, t))\n",
    "norm_phi_n = np.sqrt(np.trapz(phi_n * phi_n, t))\n",
    "\n",
    "# Normalize\n",
    "phi_k_normalized = phi_k / norm_phi_k\n",
    "phi_n_normalized = phi_n / norm_phi_n\n",
    "\n",
    "# Compute inner product of normalized functions\n",
    "inner_product_normalized = np.trapz(phi_k_normalized * phi_n_normalized, t)\n",
    "\n",
    "print(f\"Inner product of normalized phi_k and phi_n: {inner_product_normalized}\")\n"
   ],
   "metadata": {
    "collapsed": false,
    "pycharm": {
     "name": "#%%\n"
    }
   }
  },
  {
   "cell_type": "code",
   "execution_count": null,
   "outputs": [],
   "source": [
    "# Plot the product of phi_k and phi_n\n",
    "product = phi_k * phi_n\n",
    "\n",
    "plt.figure(figsize=(10, 4))\n",
    "plt.plot(t, product, label='phi_k * phi_n')\n",
    "plt.title('Product of Orthogonal Basis Functions phi_k and phi_n')\n",
    "plt.xlabel('Time t')\n",
    "plt.ylabel('Amplitude')\n",
    "plt.legend()\n",
    "plt.grid(True)\n",
    "plt.show()\n"
   ],
   "metadata": {
    "collapsed": false,
    "pycharm": {
     "name": "#%%\n"
    }
   }
  },
  {
   "cell_type": "markdown",
   "source": [
    "If the area under the curve of the product is zero (or close to zero), it indicates orthogonality."
   ],
   "metadata": {
    "collapsed": false,
    "pycharm": {
     "name": "#%% md\n"
    }
   }
  },
  {
   "cell_type": "code",
   "execution_count": null,
   "outputs": [],
   "source": [
    "# Cumulative integral of the product\n",
    "cumulative_integral = np.cumsum(product) * (t[1] - t[0])\n",
    "\n",
    "plt.figure(figsize=(10, 4))\n",
    "plt.plot(t, cumulative_integral, label='Cumulative Integral of phi_k * phi_n')\n",
    "plt.title('Cumulative Integral of Product (Approximating Inner Product)')\n",
    "plt.xlabel('Time t')\n",
    "plt.ylabel('Cumulative Sum')\n",
    "plt.legend()\n",
    "plt.grid(True)\n",
    "plt.show()\n"
   ],
   "metadata": {
    "collapsed": false,
    "pycharm": {
     "name": "#%%\n"
    }
   }
  },
  {
   "cell_type": "code",
   "execution_count": null,
   "outputs": [],
   "source": [
    "frequency_indices = [1, 2, 3, 4, 5]  # Different frequency indices\n",
    "basis_functions = []\n",
    "\n",
    "plt.figure(figsize=(12, 8))\n",
    "\n",
    "for idx, k in enumerate(frequency_indices):\n",
    "    phi_k = np.cos(2 * np.pi * k * t / T)\n",
    "    basis_functions.append(phi_k)\n",
    "    plt.subplot(len(frequency_indices), 1, idx + 1)\n",
    "    plt.plot(t, phi_k, label=f'phi_{k} (k={k})')\n",
    "    plt.title(f'Cosine Basis Function phi_{k}')\n",
    "    plt.xlabel('Time t')\n",
    "    plt.ylabel('Amplitude')\n",
    "    plt.legend()\n",
    "    plt.grid(True)\n",
    "\n",
    "plt.tight_layout()\n",
    "plt.show()\n"
   ],
   "metadata": {
    "collapsed": false,
    "pycharm": {
     "name": "#%%\n"
    }
   }
  },
  {
   "cell_type": "code",
   "execution_count": null,
   "outputs": [],
   "source": [
    "# Compute the inner product matrix\n",
    "num_functions = len(basis_functions)\n",
    "inner_product_matrix = np.zeros((num_functions, num_functions))\n",
    "\n",
    "for i in range(num_functions):\n",
    "    for j in range(num_functions):\n",
    "        inner_product_matrix[i, j] = np.trapz(basis_functions[i] * basis_functions[j], t)\n",
    "\n",
    "# Print the inner product matrix\n",
    "print(\"Inner Product Matrix:\")\n",
    "print(inner_product_matrix)\n"
   ],
   "metadata": {
    "collapsed": false,
    "pycharm": {
     "name": "#%%\n"
    }
   }
  },
  {
   "cell_type": "code",
   "execution_count": null,
   "outputs": [],
   "source": [
    "import seaborn as sns\n",
    "sns.heatmap(inner_product_matrix, robust=True, cmap='Blues')"
   ],
   "metadata": {
    "collapsed": false,
    "pycharm": {
     "name": "#%%\n"
    }
   }
  },
  {
   "cell_type": "markdown",
   "source": [
    "## DCT: basis and signal phase alignment - how dct detects frequency even if sifgnal and basis signal phases don't align "
   ],
   "metadata": {
    "collapsed": false,
    "pycharm": {
     "name": "#%% md\n"
    }
   }
  },
  {
   "cell_type": "code",
   "execution_count": null,
   "outputs": [],
   "source": [
    "import numpy as np\n",
    "import matplotlib.pyplot as plt\n",
    "from scipy.fftpack import dct\n"
   ],
   "metadata": {
    "collapsed": false,
    "pycharm": {
     "name": "#%%\n"
    }
   }
  },
  {
   "cell_type": "code",
   "execution_count": null,
   "outputs": [],
   "source": [
    "N = 256  # Number of samples\n",
    "n = np.arange(N)\n",
    "k0 = 10  # Frequency index corresponding to the signal's frequency\n",
    "A = 1.0  # Amplitude\n",
    "phi = np.pi / 4  # Phase shift (45 degrees)\n"
   ],
   "metadata": {
    "collapsed": false,
    "pycharm": {
     "name": "#%%\n"
    }
   }
  },
  {
   "cell_type": "code",
   "execution_count": null,
   "outputs": [],
   "source": [
    "# DCT frequency indices\n",
    "k = np.arange(N)\n",
    "\n",
    "# Generate the signal\n",
    "x = A * np.cos(np.pi * (n + 0.5) * k0 / N + phi)\n",
    "x_no_shift=A * np.cos(np.pi * (n + 0.5) * k0 / N)"
   ],
   "metadata": {
    "collapsed": false,
    "pycharm": {
     "name": "#%%\n"
    }
   }
  },
  {
   "cell_type": "code",
   "execution_count": null,
   "outputs": [],
   "source": [
    "# Compute the DCT of the signal\n",
    "X = dct(x, type=2, norm='ortho')\n"
   ],
   "metadata": {
    "collapsed": false,
    "pycharm": {
     "name": "#%%\n"
    }
   }
  },
  {
   "cell_type": "code",
   "execution_count": null,
   "outputs": [],
   "source": [
    "plt.figure(figsize=(10, 6))\n",
    "plt.stem(k, X)\n",
    "plt.title('DCT Coefficients')\n",
    "plt.xlabel('Frequency Index k')\n",
    "plt.ylabel('Amplitude')\n",
    "plt.grid(True)\n",
    "plt.show()"
   ],
   "metadata": {
    "collapsed": false,
    "pycharm": {
     "name": "#%%\n"
    }
   }
  },
  {
   "cell_type": "code",
   "execution_count": null,
   "outputs": [],
   "source": [
    "plt.plot(x)"
   ],
   "metadata": {
    "collapsed": false,
    "pycharm": {
     "name": "#%%\n"
    }
   }
  },
  {
   "cell_type": "code",
   "execution_count": null,
   "outputs": [],
   "source": [
    "plt.plot(x_no_shift)"
   ],
   "metadata": {
    "collapsed": false,
    "pycharm": {
     "name": "#%%\n"
    }
   }
  },
  {
   "cell_type": "markdown",
   "source": [
    "Energy Spread and Phase Differences in DCT Coefficients\n",
    "Energy Spread\n",
    "The energy is not only concentrated at \n",
    "𝑘\n",
    "=\n",
    "𝑘\n",
    "0\n",
    "k=k \n",
    "0\n",
    "​\n",
    "  but also spreads into adjacent coefficients.\n",
    "\n",
    "Reason: The phase shift causes the signal not to align perfectly with the cosine basis function at \n",
    "𝑘\n",
    "=\n",
    "𝑘\n",
    "0\n",
    "k=k \n",
    "0\n",
    "​\n",
    " .\n",
    "\n",
    "1. Phase Differences Affect Coefficient Magnitudes\n",
    "Magnitude Reduction: When the signal's phase differs from the basis function's phase, the magnitude of the corresponding DCT coefficient decreases.\n",
    "Energy Redistribution: The \"missing\" energy due to the phase difference appears in other coefficients.\n",
    "2. DCT Captures Overall Frequency Content\n",
    "Frequency Detection: The DCT can detect that a frequency component is present because the coefficients at and around \n",
    "𝑘\n",
    "=\n",
    "𝑘\n",
    "0\n",
    "k=k \n",
    "0\n",
    "​\n",
    "  have significant magnitudes.\n",
    "Phase Information: While the DCT doesn't provide explicit phase information, the pattern of the coefficients can imply phase differences.\n",
    "3. Summation of Cosine Basis Functions\n",
    "The DCT reconstructs the signal using a sum of cosine functions:\n",
    "\n",
    "𝑥\n",
    "[\n",
    "𝑛\n",
    "]\n",
    "=\n",
    "∑\n",
    "𝑘\n",
    "=\n",
    "0\n",
    "𝑁\n",
    "−\n",
    "1\n",
    "𝑋\n",
    "[\n",
    "𝑘\n",
    "]\n",
    "⋅\n",
    "cos\n",
    "⁡\n",
    "(\n",
    "𝜋\n",
    "𝑁\n",
    "(\n",
    "𝑛\n",
    "+\n",
    "1\n",
    "2\n",
    ")\n",
    "𝑘\n",
    ")\n",
    "x[n]= \n",
    "k=0\n",
    "∑\n",
    "N−1\n",
    "​\n",
    " X[k]⋅cos( \n",
    "N\n",
    "π\n",
    "​\n",
    " (n+ \n",
    "2\n",
    "1\n",
    "​\n",
    " )k)\n",
    "Adjusting Phases: The combination of multiple cosine functions with different frequencies can approximate phase shifts in the original signal.\n",
    "\n",
    "\n",
    "\n",
    "\n",
    "\n",
    "\n"
   ],
   "metadata": {
    "collapsed": false,
    "pycharm": {
     "name": "#%% md\n"
    }
   }
  },
  {
   "cell_type": "code",
   "execution_count": 37,
   "id": "26dccc5a",
   "metadata": {},
   "outputs": [
    {
     "data": {
      "text/plain": [
       "<Axes: >"
      ]
     },
     "execution_count": 37,
     "metadata": {},
     "output_type": "execute_result"
    },
    {
     "data": {
      "image/png": "[encoded data removed]",
      "text/plain": [
       "<Figure size 640x480 with 1 Axes>"
      ]
     },
     "metadata": {},
     "output_type": "display_data"
    }
   ],
   "source": [
    "df_log.cos_value.plot()"
   ]
  },
  {
   "cell_type": "code",
   "execution_count": 40,
   "id": "b6b8a5b1",
   "metadata": {},
   "outputs": [
    {
     "data": {
      "text/plain": [
       "<Axes: >"
      ]
     },
     "execution_count": 40,
     "metadata": {},
     "output_type": "execute_result"
    },
    {
     "data": {
      "image/png": "[encoded data removed]",
      "text/plain": [
       "<Figure size 640x480 with 1 Axes>"
      ]
     },
     "metadata": {},
     "output_type": "display_data"
    }
   ],
   "source": [
    "df_log.res.plot()"
   ]
  },
  {
   "cell_type": "markdown",
   "id": "d91edf73",
   "metadata": {
    "pycharm": {
     "name": "#%% md\n"
    }
   },
   "source": [
    "By modifying your DFT code as shown, you can compute the Discrete Cosine Transform of your signal. The key changes involve:\n",
    "\n",
    "- Using the DCT-specific angle calculation.\n",
    "\n",
    "- Replacing the complex exponential with the cosine function.\n",
    "\n",
    "- Adjusting for scaling factors if necessary."
   ]
  },
  {
   "cell_type": "markdown",
   "id": "3d2f2216",
   "metadata": {
    "pycharm": {
     "name": "#%% md\n"
    }
   },
   "source": [
    "#### Energy preserving\n",
    "\n",
    "When working with signal transforms like the Discrete Cosine Transform (DCT) or the Discrete Fourier Transform (DFT), the concept of energy preservation is fundamental. It refers to the property where the total energy of a signal remains the same before and after the transformation. In other words, the sum of the squares of the signal's samples in the time domain is equal to the sum of the squares of its transform coefficients in the frequency domain."
   ]
  },
  {
   "cell_type": "markdown",
   "id": "f414397f",
   "metadata": {
    "pycharm": {
     "name": "#%% md\n"
    }
   },
   "source": [
    "What Does Energy Preservation Mean?\n",
    "1. Definition of Energy in Signals\n",
    "In signal processing, the energy of a discrete signal \n",
    "𝑥\n",
    "[\n",
    "𝑛\n",
    "]\n",
    "x[n] is defined as:\n",
    "\n",
    "𝐸\n",
    "time\n",
    "=\n",
    "∑\n",
    "𝑛\n",
    "=\n",
    "0\n",
    "𝑁\n",
    "−\n",
    "1\n",
    "∣\n",
    "𝑥\n",
    "[\n",
    "𝑛\n",
    "]\n",
    "∣\n",
    "2\n",
    "E \n",
    "time\n",
    "​\n",
    " = \n",
    "n=0\n",
    "∑\n",
    "N−1\n",
    "​\n",
    " ∣x[n]∣ \n",
    "2\n",
    " \n",
    "𝐸\n",
    "time\n",
    "E \n",
    "time\n",
    "​\n",
    " : Total energy of the signal in the time domain.\n",
    "𝑥\n",
    "[\n",
    "𝑛\n",
    "]\n",
    "x[n]: The signal sample at index \n",
    "𝑛\n",
    "n.\n",
    "𝑁\n",
    "N: The total number of samples.\n",
    "Similarly, the energy in the frequency domain, after applying a transform like the DCT, is:\n",
    "\n",
    "𝐸\n",
    "freq\n",
    "=\n",
    "∑\n",
    "𝑘\n",
    "=\n",
    "0\n",
    "𝑁\n",
    "−\n",
    "1\n",
    "∣\n",
    "𝑋\n",
    "[\n",
    "𝑘\n",
    "]\n",
    "∣\n",
    "2\n",
    "E \n",
    "freq\n",
    "​\n",
    " = \n",
    "k=0\n",
    "∑\n",
    "N−1\n",
    "​\n",
    " ∣X[k]∣ \n",
    "2\n",
    " \n",
    "𝐸\n",
    "freq\n",
    "E \n",
    "freq\n",
    "​\n",
    " : Total energy of the signal in the frequency domain.\n",
    "𝑋\n",
    "[\n",
    "𝑘\n",
    "]\n",
    "X[k]: The transform coefficient at frequency index \n",
    "𝑘\n",
    "k.\n",
    "2. Energy Preservation Property\n",
    "A transform is energy-preserving if:\n",
    "\n",
    "𝐸\n",
    "time\n",
    "=\n",
    "𝐸\n",
    "freq\n",
    "E \n",
    "time\n",
    "​\n",
    " =E \n",
    "freq\n",
    "​\n",
    " \n",
    "This means that the total energy calculated from the time-domain samples is equal to the total energy calculated from the transform coefficients.\n",
    "\n",
    "3. Parseval's Theorem\n",
    "The concept of energy preservation is formalized in Parseval's Theorem, which states that the sum of the squares of a function is equal to the sum of the squares of its transform coefficients. For the DCT, a form of Parseval's Theorem applies, ensuring that:\n",
    "\n",
    "∑\n",
    "𝑛\n",
    "=\n",
    "0\n",
    "𝑁\n",
    "−\n",
    "1\n",
    "∣\n",
    "𝑥\n",
    "[\n",
    "𝑛\n",
    "]\n",
    "∣\n",
    "2\n",
    "=\n",
    "∑\n",
    "𝑘\n",
    "=\n",
    "0\n",
    "𝑁\n",
    "−\n",
    "1\n",
    "∣\n",
    "𝑋\n",
    "[\n",
    "𝑘\n",
    "]\n",
    "∣\n",
    "2\n",
    "n=0\n",
    "∑\n",
    "N−1\n",
    "​\n",
    " ∣x[n]∣ \n",
    "2\n",
    " = \n",
    "k=0\n",
    "∑\n",
    "N−1\n",
    "​\n",
    " ∣X[k]∣ \n",
    "2\n",
    " \n",
    "provided that appropriate scaling factors are used in the transform.\n",
    "\n"
   ]
  },
  {
   "cell_type": "markdown",
   "id": "d1ff0d31",
   "metadata": {
    "pycharm": {
     "name": "#%%\n"
    }
   },
   "source": [
    "#### visualize orthogonal basis functions"
   ]
  },
  {
   "cell_type": "code",
   "execution_count": 41,
   "id": "118ea8cd",
   "metadata": {},
   "outputs": [],
   "source": [
    "import numpy as np\n",
    "import matplotlib.pyplot as plt"
   ]
  },
  {
   "cell_type": "code",
   "execution_count": 42,
   "id": "0a516357",
   "metadata": {},
   "outputs": [],
   "source": [
    "# Define the interval\n",
    "T = 1.0  # Period\n",
    "N = 500  # Number of sample points\n",
    "t = np.linspace(0, T, N, endpoint=False)\n"
   ]
  },
  {
   "cell_type": "code",
   "execution_count": 43,
   "id": "b2117a46",
   "metadata": {},
   "outputs": [],
   "source": [
    "k = 3  # Frequency index for the first basis function\n",
    "n = 5  # Frequency index for the second basis function\n",
    "\n",
    "phi_k = np.cos(2 * np.pi * k * t / T)\n",
    "phi_n = np.cos(2 * np.pi * n * t / T)\n"
   ]
  },
  {
   "cell_type": "code",
   "execution_count": 44,
   "id": "73642a94",
   "metadata": {},
   "outputs": [
    {
     "data": {
      "image/png": "[encoded data removed]",
      "text/plain": [
       "<Figure size 1200x600 with 2 Axes>"
      ]
     },
     "metadata": {},
     "output_type": "display_data"
    }
   ],
   "source": [
    "plt.figure(figsize=(12, 6))\n",
    "\n",
    "# Plot phi_k\n",
    "plt.subplot(2, 1, 1)\n",
    "plt.plot(t, phi_k, label=f'phi_k (k={k})')\n",
    "plt.title('Cosine Basis Function phi_k')\n",
    "plt.xlabel('Time t')\n",
    "plt.ylabel('Amplitude')\n",
    "plt.legend()\n",
    "plt.grid(True)\n",
    "\n",
    "# Plot phi_n\n",
    "plt.subplot(2, 1, 2)\n",
    "plt.plot(t, phi_n, label=f'phi_n (n={n})', color='orange')\n",
    "plt.title('Cosine Basis Function phi_n')\n",
    "plt.xlabel('Time t')\n",
    "plt.ylabel('Amplitude')\n",
    "plt.legend()\n",
    "plt.grid(True)\n",
    "\n",
    "plt.tight_layout()\n",
    "plt.show()\n"
   ]
  },
  {
   "cell_type": "code",
   "execution_count": 45,
   "id": "7b4415dc",
   "metadata": {},
   "outputs": [
    {
     "name": "stdout",
     "output_type": "stream",
     "text": [
      "Inner product of phi_k and phi_n: -0.001997317603132309\n"
     ]
    }
   ],
   "source": [
    "# Compute the inner product (approximate integral using trapezoidal rule)\n",
    "inner_product = np.trapz(phi_k * phi_n, t)\n",
    "\n",
    "print(f\"Inner product of phi_k and phi_n: {inner_product}\")\n"
   ]
  },
  {
   "cell_type": "code",
   "execution_count": 46,
   "id": "f3d56af2",
   "metadata": {},
   "outputs": [
    {
     "name": "stdout",
     "output_type": "stream",
     "text": [
      "Inner product of normalized phi_k and phi_n: -0.004010656321615043\n"
     ]
    }
   ],
   "source": [
    "# Compute norms\n",
    "norm_phi_k = np.sqrt(np.trapz(phi_k * phi_k, t))\n",
    "norm_phi_n = np.sqrt(np.trapz(phi_n * phi_n, t))\n",
    "\n",
    "# Normalize\n",
    "phi_k_normalized = phi_k / norm_phi_k\n",
    "phi_n_normalized = phi_n / norm_phi_n\n",
    "\n",
    "# Compute inner product of normalized functions\n",
    "inner_product_normalized = np.trapz(phi_k_normalized * phi_n_normalized, t)\n",
    "\n",
    "print(f\"Inner product of normalized phi_k and phi_n: {inner_product_normalized}\")\n"
   ]
  },
  {
   "cell_type": "code",
   "execution_count": 47,
   "id": "17643395",
   "metadata": {},
   "outputs": [
    {
     "data": {
      "image/png": "[encoded data removed]",
      "text/plain": [
       "<Figure size 1000x400 with 1 Axes>"
      ]
     },
     "metadata": {},
     "output_type": "display_data"
    }
   ],
   "source": [
    "# Plot the product of phi_k and phi_n\n",
    "product = phi_k * phi_n\n",
    "\n",
    "plt.figure(figsize=(10, 4))\n",
    "plt.plot(t, product, label='phi_k * phi_n')\n",
    "plt.title('Product of Orthogonal Basis Functions phi_k and phi_n')\n",
    "plt.xlabel('Time t')\n",
    "plt.ylabel('Amplitude')\n",
    "plt.legend()\n",
    "plt.grid(True)\n",
    "plt.show()\n"
   ]
  },
  {
   "cell_type": "markdown",
   "id": "68328002",
   "metadata": {},
   "source": [
    "If the area under the curve of the product is zero (or close to zero), it indicates orthogonality."
   ]
  },
  {
   "cell_type": "code",
   "execution_count": 48,
   "id": "218abdf1",
   "metadata": {},
   "outputs": [
    {
     "data": {
      "image/png": "[encoded data removed]",
      "text/plain": [
       "<Figure size 1000x400 with 1 Axes>"
      ]
     },
     "metadata": {},
     "output_type": "display_data"
    }
   ],
   "source": [
    "# Cumulative integral of the product\n",
    "cumulative_integral = np.cumsum(product) * (t[1] - t[0])\n",
    "\n",
    "plt.figure(figsize=(10, 4))\n",
    "plt.plot(t, cumulative_integral, label='Cumulative Integral of phi_k * phi_n')\n",
    "plt.title('Cumulative Integral of Product (Approximating Inner Product)')\n",
    "plt.xlabel('Time t')\n",
    "plt.ylabel('Cumulative Sum')\n",
    "plt.legend()\n",
    "plt.grid(True)\n",
    "plt.show()\n"
   ]
  },
  {
   "cell_type": "code",
   "execution_count": 49,
   "id": "b7aa714e",
   "metadata": {},
   "outputs": [
    {
     "data": {
      "image/png": "[encoded data removed]",
      "text/plain": [
       "<Figure size 1200x800 with 5 Axes>"
      ]
     },
     "metadata": {},
     "output_type": "display_data"
    }
   ],
   "source": [
    "frequency_indices = [1, 2, 3, 4, 5]  # Different frequency indices\n",
    "basis_functions = []\n",
    "\n",
    "plt.figure(figsize=(12, 8))\n",
    "\n",
    "for idx, k in enumerate(frequency_indices):\n",
    "    phi_k = np.cos(2 * np.pi * k * t / T)\n",
    "    basis_functions.append(phi_k)\n",
    "    plt.subplot(len(frequency_indices), 1, idx + 1)\n",
    "    plt.plot(t, phi_k, label=f'phi_{k} (k={k})')\n",
    "    plt.title(f'Cosine Basis Function phi_{k}')\n",
    "    plt.xlabel('Time t')\n",
    "    plt.ylabel('Amplitude')\n",
    "    plt.legend()\n",
    "    plt.grid(True)\n",
    "\n",
    "plt.tight_layout()\n",
    "plt.show()\n"
   ]
  },
  {
   "cell_type": "code",
   "execution_count": 50,
   "id": "ac65507f",
   "metadata": {},
   "outputs": [
    {
     "name": "stdout",
     "output_type": "stream",
     "text": [
      "Inner Product Matrix:\n",
      "[[ 0.49800016 -0.00199961 -0.00199921 -0.00199866 -0.00199795]\n",
      " [-0.00199961  0.49800063 -0.00199897 -0.00199842 -0.00199771]\n",
      " [-0.00199921 -0.00199897  0.49800142 -0.00199803 -0.00199732]\n",
      " [-0.00199866 -0.00199842 -0.00199803  0.49800252 -0.00199677]\n",
      " [-0.00199795 -0.00199771 -0.00199732 -0.00199677  0.49800394]]\n"
     ]
    }
   ],
   "source": [
    "# Compute the inner product matrix\n",
    "num_functions = len(basis_functions)\n",
    "inner_product_matrix = np.zeros((num_functions, num_functions))\n",
    "\n",
    "for i in range(num_functions):\n",
    "    for j in range(num_functions):\n",
    "        inner_product_matrix[i, j] = np.trapz(basis_functions[i] * basis_functions[j], t)\n",
    "\n",
    "# Print the inner product matrix\n",
    "print(\"Inner Product Matrix:\")\n",
    "print(inner_product_matrix)\n"
   ]
  },
  {
   "cell_type": "code",
   "execution_count": 52,
   "id": "5f5e03fe",
   "metadata": {},
   "outputs": [
    {
     "data": {
      "text/plain": [
       "<Axes: >"
      ]
     },
     "execution_count": 52,
     "metadata": {},
     "output_type": "execute_result"
    },
    {
     "data": {
      "image/png": "[encoded data removed]",
      "text/plain": [
       "<Figure size 640x480 with 2 Axes>"
      ]
     },
     "metadata": {},
     "output_type": "display_data"
    }
   ],
   "source": [
    "import seaborn as sns\n",
    "sns.heatmap(inner_product_matrix, robust=True, cmap='Blues')"
   ]
  },
  {
   "cell_type": "markdown",
   "id": "4a3851c4",
   "metadata": {},
   "source": [
    "## DCT: basis and signal phase alignment - how dct detects frequency even if sifgnal and basis signal phases don't align "
   ]
  },
  {
   "cell_type": "code",
   "execution_count": 53,
   "id": "0560dfac",
   "metadata": {},
   "outputs": [],
   "source": [
    "import numpy as np\n",
    "import matplotlib.pyplot as plt\n",
    "from scipy.fftpack import dct\n"
   ]
  },
  {
   "cell_type": "code",
   "execution_count": 54,
   "id": "63fc5730",
   "metadata": {},
   "outputs": [],
   "source": [
    "N = 256  # Number of samples\n",
    "n = np.arange(N)\n",
    "k0 = 10  # Frequency index corresponding to the signal's frequency\n",
    "A = 1.0  # Amplitude\n",
    "phi = np.pi / 4  # Phase shift (45 degrees)\n"
   ]
  },
  {
   "cell_type": "code",
   "execution_count": 59,
   "id": "8e9040d6",
   "metadata": {},
   "outputs": [],
   "source": [
    "# DCT frequency indices\n",
    "k = np.arange(N)\n",
    "\n",
    "# Generate the signal\n",
    "x = A * np.cos(np.pi * (n + 0.5) * k0 / N + phi)\n",
    "x_no_shift=A * np.cos(np.pi * (n + 0.5) * k0 / N)"
   ]
  },
  {
   "cell_type": "code",
   "execution_count": 56,
   "id": "3a4ae371",
   "metadata": {},
   "outputs": [],
   "source": [
    "# Compute the DCT of the signal\n",
    "X = dct(x, type=2, norm='ortho')\n"
   ]
  },
  {
   "cell_type": "code",
   "execution_count": 58,
   "id": "e38ff2d5",
   "metadata": {},
   "outputs": [
    {
     "data": {
      "image/png": "[encoded data removed]",
      "text/plain": [
       "<Figure size 1000x600 with 1 Axes>"
      ]
     },
     "metadata": {},
     "output_type": "display_data"
    }
   ],
   "source": [
    "plt.figure(figsize=(10, 6))\n",
    "plt.stem(k, X)\n",
    "plt.title('DCT Coefficients')\n",
    "plt.xlabel('Frequency Index k')\n",
    "plt.ylabel('Amplitude')\n",
    "plt.grid(True)\n",
    "plt.show()"
   ]
  },
  {
   "cell_type": "code",
   "execution_count": 60,
   "id": "ae764ab4",
   "metadata": {},
   "outputs": [
    {
     "data": {
      "text/plain": [
       "[<matplotlib.lines.Line2D at 0x20ba8f549a0>]"
      ]
     },
     "execution_count": 60,
     "metadata": {},
     "output_type": "execute_result"
    },
    {
     "data": {
      "image/png": "[encoded data removed]",
      "text/plain": [
       "<Figure size 640x480 with 1 Axes>"
      ]
     },
     "metadata": {},
     "output_type": "display_data"
    }
   ],
   "source": [
    "plt.plot(x)"
   ]
  },
  {
   "cell_type": "code",
   "execution_count": 61,
   "id": "71669310",
   "metadata": {},
   "outputs": [
    {
     "data": {
      "text/plain": [
       "[<matplotlib.lines.Line2D at 0x20baabc9070>]"
      ]
     },
     "execution_count": 61,
     "metadata": {},
     "output_type": "execute_result"
    },
    {
     "data": {
      "image/png": "[encoded data removed]",
      "text/plain": [
       "<Figure size 640x480 with 1 Axes>"
      ]
     },
     "metadata": {},
     "output_type": "display_data"
    }
   ],
   "source": [
    "plt.plot(x_no_shift)"
   ]
  },
  {
   "cell_type": "markdown",
   "id": "5e55dbc0",
   "metadata": {},
   "source": [
    "Energy Spread and Phase Differences in DCT Coefficients\n",
    "Energy Spread\n",
    "The energy is not only concentrated at \n",
    "𝑘\n",
    "=\n",
    "𝑘\n",
    "0\n",
    "k=k \n",
    "0\n",
    "​\n",
    "  but also spreads into adjacent coefficients.\n",
    "\n",
    "Reason: The phase shift causes the signal not to align perfectly with the cosine basis function at \n",
    "𝑘\n",
    "=\n",
    "𝑘\n",
    "0\n",
    "k=k \n",
    "0\n",
    "​\n",
    " .\n",
    "\n",
    "1. Phase Differences Affect Coefficient Magnitudes\n",
    "Magnitude Reduction: When the signal's phase differs from the basis function's phase, the magnitude of the corresponding DCT coefficient decreases.\n",
    "Energy Redistribution: The \"missing\" energy due to the phase difference appears in other coefficients.\n",
    "2. DCT Captures Overall Frequency Content\n",
    "Frequency Detection: The DCT can detect that a frequency component is present because the coefficients at and around \n",
    "𝑘\n",
    "=\n",
    "𝑘\n",
    "0\n",
    "k=k \n",
    "0\n",
    "​\n",
    "  have significant magnitudes.\n",
    "Phase Information: While the DCT doesn't provide explicit phase information, the pattern of the coefficients can imply phase differences.\n",
    "3. Summation of Cosine Basis Functions\n",
    "The DCT reconstructs the signal using a sum of cosine functions:\n",
    "\n",
    "𝑥\n",
    "[\n",
    "𝑛\n",
    "]\n",
    "=\n",
    "∑\n",
    "𝑘\n",
    "=\n",
    "0\n",
    "𝑁\n",
    "−\n",
    "1\n",
    "𝑋\n",
    "[\n",
    "𝑘\n",
    "]\n",
    "⋅\n",
    "cos\n",
    "⁡\n",
    "(\n",
    "𝜋\n",
    "𝑁\n",
    "(\n",
    "𝑛\n",
    "+\n",
    "1\n",
    "2\n",
    ")\n",
    "𝑘\n",
    ")\n",
    "x[n]= \n",
    "k=0\n",
    "∑\n",
    "N−1\n",
    "​\n",
    " X[k]⋅cos( \n",
    "N\n",
    "π\n",
    "​\n",
    " (n+ \n",
    "2\n",
    "1\n",
    "​\n",
    " )k)\n",
    "Adjusting Phases: The combination of multiple cosine functions with different frequencies can approximate phase shifts in the original signal.\n",
    "\n",
    "\n",
    "\n",
    "\n",
    "\n",
    "\n"
   ]
  },
  {
   "cell_type": "code",
   "execution_count": null,
   "id": "e55c1093",
   "metadata": {},
   "outputs": [],
   "source": []
  }
 ],
 "metadata": {
  "kernelspec": {
   "display_name": "Python 3 (ipykernel)",
   "language": "python",
   "name": "python3"
  },
  "language_info": {
   "codemirror_mode": {
    "name": "ipython",
    "version": 3
   },
   "file_extension": ".py",
   "mimetype": "text/x-python",
   "name": "python",
   "nbconvert_exporter": "python",
   "pygments_lexer": "ipython3",
   "version": "3.9.12"
  }
 },
 "nbformat": 4,
 "nbformat_minor": 5
}