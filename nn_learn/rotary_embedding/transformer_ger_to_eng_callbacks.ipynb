{
 "cells": [
  {
   "cell_type": "code",
   "execution_count": 4,
   "id": "48de7c7b-6f28-45b6-8c28-509f6c8add98",
   "metadata": {
    "pycharm": {
     "name": "#%%\n"
    }
   },
   "outputs": [],
   "source": [
    "#!pip install sentencepiece --quiet\n",
    "#!pip install sacrebleu --quiet\n",
    "#!pip install torchdata --quiet\n",
    "\n",
    "#!pip install --upgrade lxml\n",
    "## make restart to kernel"
   ]
  },
  {
   "cell_type": "code",
   "execution_count": 5,
   "id": "e6e989a4-18dc-4390-96d6-bed835ed845e",
   "metadata": {
    "pycharm": {
     "name": "#%%\n"
    }
   },
   "outputs": [],
   "source": [
    "#!pip install torchtext\n",
    "#!pip install einops\n",
    "#!pip install fastcore\n",
    "#!pip install fastprogress\n",
    "#!pip install torcheval\n",
    "#!pip install umap-learn"
   ]
  },
  {
   "cell_type": "code",
   "execution_count": 6,
   "id": "b7754e50-d239-4417-9100-5027f11aa58c",
   "metadata": {
    "pycharm": {
     "name": "#%%\n"
    }
   },
   "outputs": [
    {
     "name": "stderr",
     "output_type": "stream",
     "text": [
      "/usr/local/lib/python3.9/dist-packages/umap/distances.py:1063: NumbaDeprecationWarning: \u001B[1mThe 'nopython' keyword argument was not supplied to the 'numba.jit' decorator. The implicit default value for this argument is currently False, but it will be changed to True in Numba 0.59.0. See https://numba.readthedocs.io/en/stable/reference/deprecation.html#deprecation-of-object-mode-fall-back-behaviour-when-using-jit for details.\u001B[0m\n",
      "  @numba.jit()\n",
      "/usr/local/lib/python3.9/dist-packages/umap/distances.py:1071: NumbaDeprecationWarning: \u001B[1mThe 'nopython' keyword argument was not supplied to the 'numba.jit' decorator. The implicit default value for this argument is currently False, but it will be changed to True in Numba 0.59.0. See https://numba.readthedocs.io/en/stable/reference/deprecation.html#deprecation-of-object-mode-fall-back-behaviour-when-using-jit for details.\u001B[0m\n",
      "  @numba.jit()\n",
      "/usr/local/lib/python3.9/dist-packages/umap/distances.py:1086: NumbaDeprecationWarning: \u001B[1mThe 'nopython' keyword argument was not supplied to the 'numba.jit' decorator. The implicit default value for this argument is currently False, but it will be changed to True in Numba 0.59.0. See https://numba.readthedocs.io/en/stable/reference/deprecation.html#deprecation-of-object-mode-fall-back-behaviour-when-using-jit for details.\u001B[0m\n",
      "  @numba.jit()\n",
      "/usr/local/lib/python3.9/dist-packages/umap/umap_.py:660: NumbaDeprecationWarning: \u001B[1mThe 'nopython' keyword argument was not supplied to the 'numba.jit' decorator. The implicit default value for this argument is currently False, but it will be changed to True in Numba 0.59.0. See https://numba.readthedocs.io/en/stable/reference/deprecation.html#deprecation-of-object-mode-fall-back-behaviour-when-using-jit for details.\u001B[0m\n",
      "  @numba.jit()\n"
     ]
    },
    {
     "name": "stdout",
     "output_type": "stream",
     "text": [
      "cuda\n"
     ]
    }
   ],
   "source": [
    "import math\n",
    "from copy import copy\n",
    "from dataclasses import dataclass\n",
    "from contextlib import contextmanager\n",
    "from functools import partial\n",
    "from collections.abc import Mapping\n",
    "\n",
    "import numpy as np\n",
    "import sacrebleu\n",
    "import sentencepiece as spm\n",
    "import torch\n",
    "import torch.nn as nn\n",
    "from torch.utils.data import Dataset\n",
    "from torchtext.datasets import Multi30k\n",
    "from tqdm import tqdm\n",
    "from operator import attrgetter,itemgetter\n",
    "import fastcore.all as fc\n",
    "from fastprogress import progress_bar,master_bar\n",
    "from torcheval.metrics import Mean\n",
    "import matplotlib.pyplot as plt\n",
    "import seaborn as sns\n",
    "import umap\n",
    "\n",
    "from rotary_embedding.rotary_embedding_torch import RotaryEmbedding\n",
    "\n",
    "seed = 42\n",
    "torch.manual_seed(seed)\n",
    "np.random.seed(seed)\n",
    "\n",
    "DEVICE = torch.device(\"cuda\" if torch.cuda.is_available() else \"cpu\")\n",
    "print(DEVICE)"
   ]
  },
  {
   "cell_type": "markdown",
   "id": "865da9ac-17c5-4e02-a50f-d699066532bd",
   "metadata": {
    "pycharm": {
     "name": "#%% md\n"
    }
   },
   "source": [
    "## Data treparation for tokenizer training"
   ]
  },
  {
   "cell_type": "code",
   "execution_count": 7,
   "id": "3f579ece-9cd2-436c-841b-6575fc9cd87d",
   "metadata": {
    "pycharm": {
     "name": "#%%\n"
    }
   },
   "outputs": [],
   "source": [
    "SRC = \"de\"\n",
    "TRG = \"en\""
   ]
  },
  {
   "cell_type": "code",
   "execution_count": 8,
   "id": "509de075-a044-4bb7-b9b6-86397bc606b2",
   "metadata": {
    "pycharm": {
     "name": "#%%\n"
    }
   },
   "outputs": [],
   "source": [
    "train_iter = Multi30k(split='train', language_pair=(SRC, TRG))\n",
    "f_de = open(\"Multi30k_de_text.txt\", \"w\")\n",
    "f_en = open(\"Multi30k_en_text.txt\", \"w\")\n",
    "for pair in train_iter:\n",
    "    f_de.write(pair[0]+'\\n')\n",
    "    f_en.write(pair[1]+'\\n')\n",
    "f_de.close()\n",
    "f_en.close()"
   ]
  },
  {
   "cell_type": "code",
   "execution_count": 9,
   "id": "09bf09ee-f653-49dd-8915-df2baa8abccc",
   "metadata": {
    "pycharm": {
     "name": "#%%\n"
    }
   },
   "outputs": [],
   "source": [
    "en_vocab_size = 8200\n",
    "de_vocab_size = 10000\n",
    "vocab_sizes = {\"en\": en_vocab_size, \"de\": de_vocab_size}"
   ]
  },
  {
   "cell_type": "markdown",
   "id": "37e0ff80-9b2f-49e9-82e2-44c6229bd92b",
   "metadata": {
    "pycharm": {
     "name": "#%% md\n"
    }
   },
   "source": [
    "## train sentencepice models for tokenizers"
   ]
  },
  {
   "cell_type": "code",
   "execution_count": 10,
   "id": "08aaea03-8003-4106-8ca4-3f4f9592c4c0",
   "metadata": {
    "pycharm": {
     "name": "#%%\n"
    }
   },
   "outputs": [
    {
     "name": "stderr",
     "output_type": "stream",
     "text": [
      "sentencepiece_trainer.cc(177) LOG(INFO) Running command: --input=Multi30k_en_text.txt --model_prefix=Multi30k_en --user_defined_symbols=<pad> --vocab_size=8200\n",
      "sentencepiece_trainer.cc(77) LOG(INFO) Starts training with : \n",
      "trainer_spec {\n",
      "  input: Multi30k_en_text.txt\n",
      "  input_format: \n",
      "  model_prefix: Multi30k_en\n",
      "  model_type: UNIGRAM\n",
      "  vocab_size: 8200\n",
      "  self_test_sample_size: 0\n",
      "  character_coverage: 0.9995\n",
      "  input_sentence_size: 0\n",
      "  shuffle_input_sentence: 1\n",
      "  seed_sentencepiece_size: 1000000\n",
      "  shrinking_factor: 0.75\n",
      "  max_sentence_length: 4192\n",
      "  num_threads: 16\n",
      "  num_sub_iterations: 2\n",
      "  max_sentencepiece_length: 16\n",
      "  split_by_unicode_script: 1\n",
      "  split_by_number: 1\n",
      "  split_by_whitespace: 1\n",
      "  split_digits: 0\n",
      "  treat_whitespace_as_suffix: 0\n",
      "  allow_whitespace_only_pieces: 0\n",
      "  user_defined_symbols: <pad>\n",
      "  required_chars: \n",
      "  byte_fallback: 0\n",
      "  vocabulary_output_piece_score: 1\n",
      "  train_extremely_large_corpus: 0\n",
      "  hard_vocab_limit: 1\n",
      "  use_all_vocab: 0\n",
      "  unk_id: 0\n",
      "  bos_id: 1\n",
      "  eos_id: 2\n",
      "  pad_id: -1\n",
      "  unk_piece: <unk>\n",
      "  bos_piece: <s>\n",
      "  eos_piece: </s>\n",
      "  pad_piece: <pad>\n",
      "  unk_surface:  ⁇ \n",
      "}\n",
      "normalizer_spec {\n",
      "  name: nmt_nfkc\n",
      "  add_dummy_prefix: 1\n",
      "  remove_extra_whitespaces: 1\n",
      "  escape_whitespaces: 1\n",
      "  normalization_rule_tsv: \n",
      "}\n",
      "denormalizer_spec {}\n",
      "trainer_interface.cc(329) LOG(INFO) SentenceIterator is not specified. Using MultiFileSentenceIterator.\n",
      "trainer_interface.cc(178) LOG(INFO) Loading corpus: Multi30k_en_text.txt\n",
      "trainer_interface.cc(385) LOG(INFO) Loaded all 29000 sentences\n",
      "trainer_interface.cc(400) LOG(INFO) Adding meta_piece: <unk>\n",
      "trainer_interface.cc(400) LOG(INFO) Adding meta_piece: <s>\n",
      "trainer_interface.cc(400) LOG(INFO) Adding meta_piece: </s>\n",
      "trainer_interface.cc(400) LOG(INFO) Adding meta_piece: <pad>\n",
      "trainer_interface.cc(405) LOG(INFO) Normalizing sentences...\n",
      "trainer_interface.cc(466) LOG(INFO) all chars count=1801236\n",
      "trainer_interface.cc(477) LOG(INFO) Done: 99.9516% characters are covered.\n",
      "trainer_interface.cc(487) LOG(INFO) Alphabet size=52\n",
      "trainer_interface.cc(488) LOG(INFO) Final character coverage=0.999516\n",
      "trainer_interface.cc(520) LOG(INFO) Done! preprocessed 29000 sentences.\n",
      "unigram_model_trainer.cc(139) LOG(INFO) Making suffix array...\n",
      "unigram_model_trainer.cc(143) LOG(INFO) Extracting frequent sub strings...\n",
      "unigram_model_trainer.cc(194) LOG(INFO) Initialized 25692 seed sentencepieces\n",
      "trainer_interface.cc(526) LOG(INFO) Tokenizing input sentences with whitespace: 29000\n",
      "trainer_interface.cc(537) LOG(INFO) Done! 15387\n",
      "unigram_model_trainer.cc(489) LOG(INFO) Using 15387 sentences for EM training\n",
      "unigram_model_trainer.cc(505) LOG(INFO) EM sub_iter=0 size=10170 obj=9.03356 num_tokens=30133 num_tokens/piece=2.96293\n",
      "unigram_model_trainer.cc(505) LOG(INFO) EM sub_iter=1 size=8287 obj=7.02627 num_tokens=30222 num_tokens/piece=3.64692\n",
      "trainer_interface.cc(615) LOG(INFO) Saving model: Multi30k_en.model\n",
      "trainer_interface.cc(626) LOG(INFO) Saving vocabs: Multi30k_en.vocab\n"
     ]
    }
   ],
   "source": [
    "txt_file1='Multi30k_en_text.txt'\n",
    "txt_file2='Multi30k_de_text.txt'\n",
    "model1_prefix='Multi30k_en'\n",
    "model2_prefix='Multi30k_de'\n",
    "vocab1_size=8200\n",
    "vocab2_size=10000\n",
    "spm.SentencePieceTrainer.train(f'--input={txt_file1} --model_prefix={model1_prefix} --user_defined_symbols=<pad> --vocab_size={vocab1_size}')"
   ]
  },
  {
   "cell_type": "code",
   "execution_count": 11,
   "id": "31fec65d-f04b-49a5-b291-023520821876",
   "metadata": {
    "pycharm": {
     "name": "#%%\n"
    }
   },
   "outputs": [
    {
     "name": "stderr",
     "output_type": "stream",
     "text": [
      "sentencepiece_trainer.cc(177) LOG(INFO) Running command: --input=Multi30k_de_text.txt --model_prefix=Multi30k_de --user_defined_symbols=<pad> --vocab_size=10000\n",
      "sentencepiece_trainer.cc(77) LOG(INFO) Starts training with : \n",
      "trainer_spec {\n",
      "  input: Multi30k_de_text.txt\n",
      "  input_format: \n",
      "  model_prefix: Multi30k_de\n",
      "  model_type: UNIGRAM\n",
      "  vocab_size: 10000\n",
      "  self_test_sample_size: 0\n",
      "  character_coverage: 0.9995\n",
      "  input_sentence_size: 0\n",
      "  shuffle_input_sentence: 1\n",
      "  seed_sentencepiece_size: 1000000\n",
      "  shrinking_factor: 0.75\n",
      "  max_sentence_length: 4192\n",
      "  num_threads: 16\n",
      "  num_sub_iterations: 2\n",
      "  max_sentencepiece_length: 16\n",
      "  split_by_unicode_script: 1\n",
      "  split_by_number: 1\n",
      "  split_by_whitespace: 1\n",
      "  split_digits: 0\n",
      "  treat_whitespace_as_suffix: 0\n",
      "  allow_whitespace_only_pieces: 0\n",
      "  user_defined_symbols: <pad>\n",
      "  required_chars: \n",
      "  byte_fallback: 0\n",
      "  vocabulary_output_piece_score: 1\n",
      "  train_extremely_large_corpus: 0\n",
      "  hard_vocab_limit: 1\n",
      "  use_all_vocab: 0\n",
      "  unk_id: 0\n",
      "  bos_id: 1\n",
      "  eos_id: 2\n",
      "  pad_id: -1\n",
      "  unk_piece: <unk>\n",
      "  bos_piece: <s>\n",
      "  eos_piece: </s>\n",
      "  pad_piece: <pad>\n",
      "  unk_surface:  ⁇ \n",
      "}\n",
      "normalizer_spec {\n",
      "  name: nmt_nfkc\n",
      "  add_dummy_prefix: 1\n",
      "  remove_extra_whitespaces: 1\n",
      "  escape_whitespaces: 1\n",
      "  normalization_rule_tsv: \n",
      "}\n",
      "denormalizer_spec {}\n",
      "trainer_interface.cc(329) LOG(INFO) SentenceIterator is not specified. Using MultiFileSentenceIterator.\n",
      "trainer_interface.cc(178) LOG(INFO) Loading corpus: Multi30k_de_text.txt\n",
      "trainer_interface.cc(385) LOG(INFO) Loaded all 29000 sentences\n",
      "trainer_interface.cc(400) LOG(INFO) Adding meta_piece: <unk>\n",
      "trainer_interface.cc(400) LOG(INFO) Adding meta_piece: <s>\n",
      "trainer_interface.cc(400) LOG(INFO) Adding meta_piece: </s>\n",
      "trainer_interface.cc(400) LOG(INFO) Adding meta_piece: <pad>\n",
      "trainer_interface.cc(405) LOG(INFO) Normalizing sentences...\n",
      "trainer_interface.cc(466) LOG(INFO) all chars count=2075871\n",
      "trainer_interface.cc(477) LOG(INFO) Done: 99.9552% characters are covered.\n",
      "trainer_interface.cc(487) LOG(INFO) Alphabet size=59\n",
      "trainer_interface.cc(488) LOG(INFO) Final character coverage=0.999552\n",
      "trainer_interface.cc(520) LOG(INFO) Done! preprocessed 29000 sentences.\n",
      "unigram_model_trainer.cc(139) LOG(INFO) Making suffix array...\n",
      "unigram_model_trainer.cc(143) LOG(INFO) Extracting frequent sub strings...\n",
      "unigram_model_trainer.cc(194) LOG(INFO) Initialized 59750 seed sentencepieces\n",
      "trainer_interface.cc(526) LOG(INFO) Tokenizing input sentences with whitespace: 29000\n",
      "trainer_interface.cc(537) LOG(INFO) Done! 24824\n",
      "unigram_model_trainer.cc(489) LOG(INFO) Using 24824 sentences for EM training\n",
      "unigram_model_trainer.cc(505) LOG(INFO) EM sub_iter=0 size=16128 obj=10.2419 num_tokens=52489 num_tokens/piece=3.25453\n",
      "unigram_model_trainer.cc(505) LOG(INFO) EM sub_iter=1 size=13880 obj=7.87034 num_tokens=52837 num_tokens/piece=3.8067\n",
      "unigram_model_trainer.cc(505) LOG(INFO) EM sub_iter=0 size=10982 obj=7.85011 num_tokens=55839 num_tokens/piece=5.08459\n",
      "unigram_model_trainer.cc(505) LOG(INFO) EM sub_iter=1 size=10969 obj=7.81973 num_tokens=55870 num_tokens/piece=5.09345\n",
      "trainer_interface.cc(615) LOG(INFO) Saving model: Multi30k_de.model\n",
      "trainer_interface.cc(626) LOG(INFO) Saving vocabs: Multi30k_de.vocab\n",
      "sentencepiece_trainer.cc(177) LOG(INFO) Running command: --input=Multi30k_en_text.txt --model_prefix=Multi30k_en --user_defined_symbols=<pad> --vocab_size=8200\n",
      "sentencepiece_trainer.cc(77) LOG(INFO) Starts training with : \n",
      "trainer_spec {\n",
      "  input: Multi30k_en_text.txt\n",
      "  input_format: \n",
      "  model_prefix: Multi30k_en\n",
      "  model_type: UNIGRAM\n",
      "  vocab_size: 8200\n",
      "  self_test_sample_size: 0\n",
      "  character_coverage: 0.9995\n",
      "  input_sentence_size: 0\n",
      "  shuffle_input_sentence: 1\n",
      "  seed_sentencepiece_size: 1000000\n",
      "  shrinking_factor: 0.75\n",
      "  max_sentence_length: 4192\n",
      "  num_threads: 16\n",
      "  num_sub_iterations: 2\n",
      "  max_sentencepiece_length: 16\n",
      "  split_by_unicode_script: 1\n",
      "  split_by_number: 1\n",
      "  split_by_whitespace: 1\n",
      "  split_digits: 0\n",
      "  treat_whitespace_as_suffix: 0\n",
      "  allow_whitespace_only_pieces: 0\n",
      "  user_defined_symbols: <pad>\n",
      "  required_chars: \n",
      "  byte_fallback: 0\n",
      "  vocabulary_output_piece_score: 1\n",
      "  train_extremely_large_corpus: 0\n",
      "  hard_vocab_limit: 1\n",
      "  use_all_vocab: 0\n",
      "  unk_id: 0\n",
      "  bos_id: 1\n",
      "  eos_id: 2\n",
      "  pad_id: -1\n",
      "  unk_piece: <unk>\n",
      "  bos_piece: <s>\n",
      "  eos_piece: </s>\n",
      "  pad_piece: <pad>\n",
      "  unk_surface:  ⁇ \n",
      "}\n",
      "normalizer_spec {\n",
      "  name: nmt_nfkc\n",
      "  add_dummy_prefix: 1\n",
      "  remove_extra_whitespaces: 1\n",
      "  escape_whitespaces: 1\n",
      "  normalization_rule_tsv: \n",
      "}\n",
      "denormalizer_spec {}\n",
      "trainer_interface.cc(329) LOG(INFO) SentenceIterator is not specified. Using MultiFileSentenceIterator.\n",
      "trainer_interface.cc(178) LOG(INFO) Loading corpus: Multi30k_en_text.txt\n",
      "trainer_interface.cc(385) LOG(INFO) Loaded all 29000 sentences\n",
      "trainer_interface.cc(400) LOG(INFO) Adding meta_piece: <unk>\n",
      "trainer_interface.cc(400) LOG(INFO) Adding meta_piece: <s>\n",
      "trainer_interface.cc(400) LOG(INFO) Adding meta_piece: </s>\n",
      "trainer_interface.cc(400) LOG(INFO) Adding meta_piece: <pad>\n",
      "trainer_interface.cc(405) LOG(INFO) Normalizing sentences...\n",
      "trainer_interface.cc(466) LOG(INFO) all chars count=1801236\n",
      "trainer_interface.cc(477) LOG(INFO) Done: 99.9516% characters are covered.\n",
      "trainer_interface.cc(487) LOG(INFO) Alphabet size=52\n",
      "trainer_interface.cc(488) LOG(INFO) Final character coverage=0.999516\n",
      "trainer_interface.cc(520) LOG(INFO) Done! preprocessed 29000 sentences.\n",
      "unigram_model_trainer.cc(139) LOG(INFO) Making suffix array...\n",
      "unigram_model_trainer.cc(143) LOG(INFO) Extracting frequent sub strings...\n",
      "unigram_model_trainer.cc(194) LOG(INFO) Initialized 25692 seed sentencepieces\n",
      "trainer_interface.cc(526) LOG(INFO) Tokenizing input sentences with whitespace: 29000\n",
      "trainer_interface.cc(537) LOG(INFO) Done! 15387\n",
      "unigram_model_trainer.cc(489) LOG(INFO) Using 15387 sentences for EM training\n",
      "unigram_model_trainer.cc(505) LOG(INFO) EM sub_iter=0 size=10170 obj=9.03356 num_tokens=30133 num_tokens/piece=2.96293\n",
      "unigram_model_trainer.cc(505) LOG(INFO) EM sub_iter=1 size=8287 obj=7.02627 num_tokens=30222 num_tokens/piece=3.64692\n",
      "trainer_interface.cc(615) LOG(INFO) Saving model: Multi30k_en.model\n",
      "trainer_interface.cc(626) LOG(INFO) Saving vocabs: Multi30k_en.vocab\n"
     ]
    }
   ],
   "source": [
    "class Tokenizers:\n",
    "    def __init__(self, sp1, sp2, vocab1_size, vocab2_size, lang1, lang2, model1_prefix, model2_prefix):\n",
    "        fc.store_attr()\n",
    "        self.tokenizers = {lang1: self.sp1.encode_as_ids, self.lang2: self.sp2.encode_as_ids}\n",
    "        self.detokenizers = {self.lang1: self.sp1.decode_ids, self.lang2: self.sp2.decode_ids}\n",
    "        \n",
    "    @classmethod\n",
    "    def from_files(cls, txt_file1='Multi30k_en_text.txt', txt_file2='Multi30k_de_text.txt', model1_prefix='Multi30k_en',\n",
    "                   model2_prefix='Multi30k_de', vocab1_size=8200, vocab2_size=10000, lang1=\"en\", lang2=\"de\"):\n",
    "        spm.SentencePieceTrainer.train(f'--input={txt_file2} --model_prefix={model2_prefix} --user_defined_symbols=<pad> --vocab_size={vocab2_size}')\n",
    "        spm.SentencePieceTrainer.train(f'--input={txt_file1} --model_prefix={model1_prefix} --user_defined_symbols=<pad> --vocab_size={vocab1_size}')\n",
    "\n",
    "        # make SentencePieceProcessor instances and load the model files\n",
    "        sp2 = spm.SentencePieceProcessor()\n",
    "        sp2.load(f'{model2_prefix}.model')\n",
    "        sp1 = spm.SentencePieceProcessor()\n",
    "        sp1.load(f'{model1_prefix}.model')\n",
    "        \n",
    "        return cls(sp1=sp1, sp2=sp2, vocab1_size=8200, vocab2_size=10000, lang1=lang1, lang2=lang2, model1_prefix=model1_prefix, model2_prefix=model2_prefix)\n",
    "\n",
    "tokenizers=Tokenizers.from_files()"
   ]
  },
  {
   "cell_type": "code",
   "execution_count": 12,
   "id": "4fe1426c-c022-4369-aa36-1caf20875fa7",
   "metadata": {
    "pycharm": {
     "name": "#%%\n"
    }
   },
   "outputs": [
    {
     "name": "stdout",
     "output_type": "stream",
     "text": [
      "[302, 258, 10, 4, 2395]\n",
      "[302, 258, 10, 4, 2395]\n"
     ]
    }
   ],
   "source": [
    "print(tokenizers.tokenizers[\"en\"]('This is a test'))\n",
    "print(tokenizers.sp1.encode_as_ids('This is a test'))"
   ]
  },
  {
   "cell_type": "code",
   "execution_count": 13,
   "id": "03eba4e1-e38a-406b-914a-d13015c07482",
   "metadata": {
    "pycharm": {
     "name": "#%%\n"
    }
   },
   "outputs": [
    {
     "name": "stdout",
     "output_type": "stream",
     "text": [
      "▁This is a test\n",
      "This is a test\n"
     ]
    }
   ],
   "source": [
    "print(tokenizers.sp1.decode_pieces(['▁This', '▁is', '▁a', '▁t', 'est']))\n",
    "print(tokenizers.sp1.decode_ids([302, 258, 10, 4, 2395]))"
   ]
  },
  {
   "cell_type": "code",
   "execution_count": 14,
   "id": "11b08793-7e4b-4c64-bc59-f2e364c41513",
   "metadata": {
    "pycharm": {
     "name": "#%%\n"
    }
   },
   "outputs": [
    {
     "name": "stdout",
     "output_type": "stream",
     "text": [
      "['<unk>', '<s>', '</s>', '<pad>', '▁a', '.', '▁A', '▁in', '▁the', '▁on', '▁is', '▁man', '▁and', '▁of', '▁with', 's', 'ing', '▁', ',', '▁woman']\n",
      "['<unk>', '<s>', '</s>', '<pad>', '.', '▁eine', '▁Ein', 'm', '▁in', '▁mit', ',', '▁und', '▁auf', '▁ein', '▁Mann', '▁einer', '▁Eine', 'n', '▁der', '▁Frau']\n"
     ]
    }
   ],
   "source": [
    "print([tokenizers.sp1.id_to_piece(id) for id in range(20)])\n",
    "print([tokenizers.sp2.id_to_piece(id) for id in range(20)])"
   ]
  },
  {
   "cell_type": "markdown",
   "id": "2f335a40-425a-4dff-8762-b9b41ca73ead",
   "metadata": {
    "pycharm": {
     "name": "#%% md\n"
    }
   },
   "source": [
    "## Preporcess data"
   ]
  },
  {
   "cell_type": "markdown",
   "id": "e69bf1d7-a7d8-482b-a1a4-158fb073b08a",
   "metadata": {
    "pycharm": {
     "name": "#%% md\n"
    }
   },
   "source": [
    "### tokenize"
   ]
  },
  {
   "cell_type": "code",
   "execution_count": 15,
   "id": "dc08b6cb-89f5-43a3-891f-3aa83f3764eb",
   "metadata": {
    "pycharm": {
     "name": "#%%\n"
    }
   },
   "outputs": [],
   "source": [
    "max_seq_len = 50\n",
    "def tokenize_dataset(dataset, src, trg, bos_id, eos_id, tokenizers, max_seq_len=50):\n",
    "    'tokenize a dataset and add [BOS] and [EOS] to the beginning and end of the sentences'\n",
    "    return [(torch.tensor([bos_id]+tokenizers.tokenizers[src](src_text)[0:max_seq_len-2]+[eos_id]),\n",
    "             torch.tensor([bos_id]+tokenizers.tokenizers[trg](trg_text)[0:max_seq_len-2]+[eos_id]))\n",
    "            for src_text, trg_text in dataset]"
   ]
  },
  {
   "cell_type": "markdown",
   "id": "bfb1625a-cd0b-4e79-84db-52a94e7f5416",
   "metadata": {
    "pycharm": {
     "name": "#%% md\n"
    }
   },
   "source": [
    "### datasets"
   ]
  },
  {
   "cell_type": "code",
   "execution_count": 16,
   "id": "2fc92014-8ec2-4afd-a6a9-04a70d39636e",
   "metadata": {
    "pycharm": {
     "name": "#%%\n"
    }
   },
   "outputs": [],
   "source": [
    "class TranslationDataset(Dataset):\n",
    "    'create a dataset for torch.utils.data.DataLoader() '\n",
    "    def __init__(self, data):\n",
    "        self.data = data\n",
    "\n",
    "    def __len__(self):\n",
    "        return len(self.data)\n",
    "\n",
    "    def __getitem__(self, idx):\n",
    "        return self.data[idx]\n",
    "\n",
    "\n",
    "def pad_sequence(batch, pad_id):\n",
    "    'collate function for padding sentences such that all \\\n",
    "    the sentences in the batch have the same length'\n",
    "    src_seqs  = [src for src, trg in batch]\n",
    "    trg_seqs  = [trg for src, trg in batch]\n",
    "    src_padded = torch.nn.utils.rnn.pad_sequence(src_seqs,\n",
    "                                batch_first=True, padding_value = pad_id)\n",
    "    trg_padded = torch.nn.utils.rnn.pad_sequence(trg_seqs,\n",
    "                                batch_first=True, padding_value = pad_id)\n",
    "    return src_padded, trg_padded"
   ]
  },
  {
   "cell_type": "code",
   "execution_count": 17,
   "id": "41d06fa0-531b-4324-8e30-f8df04059785",
   "metadata": {
    "pycharm": {
     "name": "#%%\n"
    }
   },
   "outputs": [],
   "source": [
    "class DataLoaders:\n",
    "    def __init__(self, unk_id, bos_id, eos_id, pad_id, batch_size, max_seq_len, *dls): \n",
    "        self.train, self.valid, self.test = dls[:3]\n",
    "        self.unk_id, self.bos_id, self.eos_id, self.pad_id=unk_id, bos_id, eos_id, pad_id\n",
    "        self.batch_size, self.max_seq_len = batch_size, max_seq_len\n",
    "\n",
    "    @classmethod\n",
    "    def from_dd(cls, dd, batch_size, as_tuple=True, **kwargs):\n",
    "        # return cls(*[DataLoader(ds, batch_size, collate_fn=collate_dict(ds), **kwargs) for ds in dd.values()])\n",
    "        return cls(*[torch.utils.data.DataLoader(TranslationDataset(ds), batch_size=batch_size,\n",
    "                                                shuffle=True, collate_fn = pad_sequence,  **kwargs) for ds in dd])\n",
    "    \n",
    "    @classmethod\n",
    "    def from_iters(cls, train_iter, valid_iter, test_iter, src, trg, tokenizers, batch_size=128, max_seq_len=50, as_tuple=True, \n",
    "                   unk_id=0, bos_id=1, eos_id=2, pad_id=3, **kwargs):\n",
    "        train_set = [(x.rstrip('\\n'), y.rstrip('\\n')) for x, y in train_iter if x!='']\n",
    "        valid_set = [(x.rstrip('\\n'), y.rstrip('\\n')) for x, y in valid_iter if x!='']\n",
    "        test_set  = [(x.rstrip('\\n'), y.rstrip('\\n')) for x, y in test_iter if x!='']\n",
    "        \n",
    "        train_tokenized = tokenize_dataset(train_set, src, trg, bos_id, eos_id, tokenizers, max_seq_len)\n",
    "        valid_tokenized = tokenize_dataset(valid_set, src, trg, bos_id, eos_id, tokenizers, max_seq_len)\n",
    "        test_tokenized  = tokenize_dataset(test_set, src, trg, bos_id, eos_id, tokenizers, max_seq_len)\n",
    "        pad_sequence_partial=partial(pad_sequence, pad_id=pad_id)\n",
    "        return cls(unk_id, bos_id, eos_id, pad_id, batch_size, max_seq_len, \n",
    "                   *[torch.utils.data.DataLoader(TranslationDataset(ds), batch_size=batch_size,\n",
    "                                                 shuffle=True, collate_fn = pad_sequence_partial,  **kwargs) \\\n",
    "                     for ds in (train_tokenized, valid_tokenized, test_tokenized)])\n",
    "        \n",
    "def get_dls(src, trg, tokenizers, batch_size=128, max_seq_len=50):\n",
    "    train_iter = Multi30k(split='train', language_pair=(src, trg))\n",
    "    valid_iter = Multi30k(split='valid', language_pair=(src, trg))\n",
    "    test_iter  = Multi30k(split='test',  language_pair=(src, trg))\n",
    "    dls=DataLoaders.from_iters(train_iter, valid_iter, test_iter, src, trg, tokenizers, batch_size, max_seq_len)\n",
    "    return dls"
   ]
  },
  {
   "cell_type": "code",
   "execution_count": 18,
   "id": "56470fb2-dfb9-4646-b188-f69a4195adf5",
   "metadata": {
    "pycharm": {
     "name": "#%%\n"
    }
   },
   "outputs": [],
   "source": [
    "dls=get_dls(SRC, TRG, tokenizers)"
   ]
  },
  {
   "cell_type": "markdown",
   "id": "d07eb154-1104-4b6e-b223-7555f7ddf41b",
   "metadata": {
    "pycharm": {
     "name": "#%% md\n"
    }
   },
   "source": [
    "## Model"
   ]
  },
  {
   "cell_type": "code",
   "execution_count": 19,
   "id": "4cc8a5f5-2892-4265-b0d4-418538670e69",
   "metadata": {
    "pycharm": {
     "name": "#%%\n"
    }
   },
   "outputs": [],
   "source": [
    "class MultiHeadedAttention(nn.Module):\n",
    "    def __init__(self, h, d_embed, dropout=0.0, use_rot_emb=True):\n",
    "        super(MultiHeadedAttention, self).__init__()\n",
    "        assert d_embed % h == 0 # check the h number\n",
    "        self.d_k = d_embed//h\n",
    "        self.d_embed = d_embed\n",
    "        self.h = h\n",
    "        self.WQ = nn.Linear(d_embed, d_embed)\n",
    "        self.WK = nn.Linear(d_embed, d_embed)\n",
    "        self.WV = nn.Linear(d_embed, d_embed)\n",
    "        self.linear = nn.Linear(d_embed, d_embed)\n",
    "        self.dropout = nn.Dropout(dropout)\n",
    "        self.use_rot_emb=use_rot_emb\n",
    "        if use_rot_emb:\n",
    "            #self.rotary_emb = RotaryEmbedding(dim = self.d_k//2)\n",
    "            self.rotary_emb = RotaryEmbedding(dim = self.d_k)\n",
    "\n",
    "    def forward(self, x_query, x_key, x_value, mask=None):\n",
    "        nbatch = x_query.size(0) # get batch size\n",
    "        # 1) Linear projections to get the multi-head query, key and value tensors\n",
    "        # x_query, x_key, x_value dimension: nbatch * seq_len * d_embed\n",
    "        # LHS query, key, value dimensions: nbatch * h * seq_len * d_k\n",
    "        query = self.WQ(x_query).view(nbatch, -1, self.h, self.d_k).transpose(1,2)\n",
    "        key   = self.WK(x_key).view(nbatch, -1, self.h, self.d_k).transpose(1,2)\n",
    "        value = self.WV(x_value).view(nbatch, -1, self.h, self.d_k).transpose(1,2)\n",
    "        if self.use_rot_emb:\n",
    "            query = self.rotary_emb.rotate_queries_or_keys(query)\n",
    "            key = self.rotary_emb.rotate_queries_or_keys(key)\n",
    "        # 2) Attention\n",
    "        # scores has dimensions: nbatch * h * seq_len * seq_len\n",
    "        scores = torch.matmul(query, key.transpose(-2, -1))/math.sqrt(self.d_k)\n",
    "        # 3) Mask out padding tokens and future tokens\n",
    "        if mask is not None:\n",
    "            scores = scores.masked_fill(mask, float('-inf'))\n",
    "        # p_atten dimensions: nbatch * h * seq_len * seq_len\n",
    "        p_atten = torch.nn.functional.softmax(scores, dim=-1)\n",
    "        p_atten = self.dropout(p_atten)\n",
    "        # x dimensions: nbatch * h * seq_len * d_k\n",
    "        x = torch.matmul(p_atten, value)\n",
    "        # x now has dimensions:nbtach * seq_len * d_embed\n",
    "        x = x.transpose(1, 2).contiguous().view(nbatch, -1, self.d_embed)\n",
    "        return self.linear(x) # final linear layer\n",
    "\n",
    "\n",
    "class ResidualConnection(nn.Module):\n",
    "    '''residual connection: x + dropout(sublayer(layernorm(x))) '''\n",
    "    def __init__(self, dim, dropout):\n",
    "        super().__init__()\n",
    "        self.drop = nn.Dropout(dropout)\n",
    "        self.norm = nn.LayerNorm(dim)\n",
    "\n",
    "    def forward(self, x, sublayer):\n",
    "        return x + self.drop(sublayer(self.norm(x)))\n",
    "\n",
    "# I simply let the model learn the positional embeddings in this notebook, since this \n",
    "# almost produces identital results as using sin/cosin functions embeddings, as claimed\n",
    "# in the original transformer paper. Note also that in the original paper, they multiplied \n",
    "# the token embeddings by a factor of sqrt(d_embed), which I do not do here. \n",
    "\n",
    "class Encoder(nn.Module):\n",
    "    '''Encoder = token embedding + positional embedding -> a stack of N EncoderBlock -> layer norm'''\n",
    "    def __init__(self, config):\n",
    "        super().__init__()\n",
    "        self.d_embed = config.d_embed\n",
    "        self.tok_embed = nn.Embedding(config.encoder_vocab_size, config.d_embed) \n",
    "        self.pos_embed = nn.Parameter(torch.zeros(1, config.max_seq_len, config.d_embed)) \n",
    "        self.encoder_blocks = nn.ModuleList([EncoderBlock(config) for _ in range(config.N_encoder)])\n",
    "        self.dropout = nn.Dropout(config.dropout)\n",
    "        self.norm = nn.LayerNorm(config.d_embed)\n",
    "\n",
    "    def forward(self, inp, mask=None):\n",
    "        x = self.tok_embed(inp)\n",
    "        x_pos = self.pos_embed[:, :x.size(1), :]\n",
    "        x = self.dropout(x + x_pos)\n",
    "        for layer in self.encoder_blocks:\n",
    "            x = layer(x, mask)\n",
    "        return self.norm(x)\n",
    "\n",
    "\n",
    "class EncoderBlock(nn.Module):\n",
    "    '''EncoderBlock: self-attention -> position-wise fully connected feed-forward layer'''\n",
    "    def __init__(self, config):\n",
    "        super(EncoderBlock, self).__init__()\n",
    "        self.atten = MultiHeadedAttention(config.h, config.d_embed, config.dropout, config.use_rot_emb)\n",
    "        self.feed_forward = nn.Sequential(\n",
    "            nn.Linear(config.d_embed, config.d_ff),\n",
    "            nn.ReLU(),\n",
    "            nn.Dropout(config.dropout),\n",
    "            nn.Linear(config.d_ff, config.d_embed)\n",
    "        )\n",
    "        self.residual1 = ResidualConnection(config.d_embed, config.dropout)\n",
    "        self.residual2 = ResidualConnection(config.d_embed, config.dropout)\n",
    "\n",
    "    def forward(self, x, mask=None):\n",
    "        # self-attention\n",
    "        x = self.residual1(x, lambda x: self.atten(x, x, x, mask=mask))\n",
    "        # position-wise fully connected feed-forward layer\n",
    "        return self.residual2(x, self.feed_forward)\n",
    "\n",
    "\n",
    "class Decoder(nn.Module):\n",
    "    '''Decoder = token embedding + positional embedding -> a stack of N DecoderBlock -> fully-connected layer'''\n",
    "    def __init__(self, config):\n",
    "        super().__init__()\n",
    "        self.d_embed = config.d_embed\n",
    "        self.tok_embed = nn.Embedding(config.decoder_vocab_size, config.d_embed)\n",
    "        self.pos_embed = nn.Parameter(torch.zeros(1, config.max_seq_len, config.d_embed)) \n",
    "        self.dropout = nn.Dropout(config.dropout)\n",
    "        self.decoder_blocks = nn.ModuleList([DecoderBlock(config) for _ in range(config.N_decoder)])\n",
    "        self.norm = nn.LayerNorm(config.d_embed)\n",
    "        self.linear = nn.Linear(config.d_embed, config.decoder_vocab_size)\n",
    "        self.device=config.device\n",
    "    \n",
    "    def future_mask(self, seq_len, device):\n",
    "        '''mask out tokens at future positions'''\n",
    "        mask = (torch.triu(torch.ones(seq_len, seq_len, requires_grad=False), diagonal=1)!=0).to(device)\n",
    "        return mask.view(1, 1, seq_len, seq_len)\n",
    "\n",
    "    def forward(self, memory, src_mask, trg, trg_pad_mask):\n",
    "        seq_len = trg.size(1)\n",
    "        trg_mask = torch.logical_or(trg_pad_mask, self.future_mask(seq_len, self.device))\n",
    "        x = self.tok_embed(trg) + self.pos_embed[:, :trg.size(1), :]\n",
    "        x = self.dropout(x)\n",
    "        for layer in self.decoder_blocks:\n",
    "            x = layer(memory, src_mask, x, trg_mask)\n",
    "        x = self.norm(x)\n",
    "        logits = self.linear(x)\n",
    "        return logits\n",
    "\n",
    "\n",
    "class DecoderBlock(nn.Module):\n",
    "    ''' EncoderBlock: self-attention -> position-wise feed-forward (fully connected) layer'''\n",
    "    def __init__(self, config):\n",
    "        super().__init__()\n",
    "        self.atten1 = MultiHeadedAttention(config.h, config.d_embed, use_rot_emb=config.use_rot_emb)\n",
    "        self.atten2 = MultiHeadedAttention(config.h, config.d_embed, use_rot_emb=config.use_rot_emb)\n",
    "        self.feed_forward = nn.Sequential(\n",
    "            nn.Linear(config.d_embed, config.d_ff),\n",
    "            nn.ReLU(),\n",
    "            nn.Dropout(config.dropout),\n",
    "            nn.Linear(config.d_ff, config.d_embed)\n",
    "        )\n",
    "        self.residuals = nn.ModuleList([ResidualConnection(config.d_embed, config.dropout) \n",
    "                                       for i in range(3)])\n",
    "\n",
    "    def forward(self, memory, src_mask, decoder_layer_input, trg_mask):\n",
    "        x = memory\n",
    "        y = decoder_layer_input\n",
    "        y = self.residuals[0](y, lambda y: self.atten1(y, y, y, mask=trg_mask))\n",
    "        # keys and values are from the encoder output\n",
    "        y = self.residuals[1](y, lambda y: self.atten2(y, x, x, mask=src_mask))\n",
    "        return self.residuals[2](y, self.feed_forward)\n",
    "\n",
    "\n",
    "class Transformer(nn.Module):\n",
    "    def __init__(self, encoder, decoder):\n",
    "        super().__init__()\n",
    "        self.encoder = encoder\n",
    "        self.decoder = decoder\n",
    "\n",
    "    def forward(self, src, src_mask, trg, trg_pad_mask):\n",
    "        return self.decoder(self.encoder(src, src_mask), src_mask, trg, trg_pad_mask)"
   ]
  },
  {
   "cell_type": "code",
   "execution_count": 20,
   "id": "46be77f1-0693-43f4-a15b-8a3a1ace411e",
   "metadata": {
    "pycharm": {
     "name": "#%%\n"
    }
   },
   "outputs": [],
   "source": [
    "@dataclass\n",
    "class ModelConfig:\n",
    "    encoder_vocab_size: int\n",
    "    decoder_vocab_size: int\n",
    "    d_embed: int\n",
    "    use_rot_emb: bool\n",
    "    # d_ff is the dimension of the fully-connected  feed-forward layer\n",
    "    d_ff: int\n",
    "    # h is the number of attention head\n",
    "    h: int\n",
    "    N_encoder: int\n",
    "    N_decoder: int\n",
    "    max_seq_len: int\n",
    "    dropout: float\n",
    "    pad_id: int\n",
    "    unk_id: int\n",
    "    bos_id: int\n",
    "    eos_id: int\n",
    "    device: str\n",
    "\n",
    "def make_model(config):\n",
    "    model = Transformer(Encoder(config), Decoder(config)).to(config.device)\n",
    "    # initialize model parameters\n",
    "    # it seems that this initialization is very important!\n",
    "    for p in model.parameters():\n",
    "            if p.dim() > 1:\n",
    "                nn.init.xavier_uniform_(p)\n",
    "    model.pad_id=config.pad_id\n",
    "    model.unk_id=config.unk_id\n",
    "    model.bos_id=config.bos_id\n",
    "    model.eos_id=config.eos_id\n",
    "    return model"
   ]
  },
  {
   "cell_type": "markdown",
   "id": "813b8c3e-4715-4e3e-8463-eaf82c8d7f5c",
   "metadata": {
    "pycharm": {
     "name": "#%% md\n"
    }
   },
   "source": [
    "## Callbacks"
   ]
  },
  {
   "cell_type": "code",
   "execution_count": 21,
   "id": "dc3cd581-1867-426a-b948-63a8d8243b22",
   "metadata": {
    "pycharm": {
     "name": "#%%\n"
    }
   },
   "outputs": [],
   "source": [
    "class CancelFitException(Exception): \n",
    "    pass\n",
    "class CancelBatchException(Exception): \n",
    "    pass\n",
    "class CancelEpochException(Exception): \n",
    "    pass\n",
    "\n",
    "class Callback(): \n",
    "    order = 0\n",
    "    \n",
    "def run_cbs(cbs, method_nm, learn=None):\n",
    "    for cb in sorted(cbs, key=attrgetter('order')):\n",
    "        method = getattr(cb, method_nm, None)\n",
    "        if method is not None: \n",
    "            # print(method)\n",
    "            method(learn)"
   ]
  },
  {
   "cell_type": "markdown",
   "id": "dab31fdc-bb1b-4761-8386-4c4e40a0d688",
   "metadata": {
    "pycharm": {
     "name": "#%% md\n"
    }
   },
   "source": [
    "## Learner"
   ]
  },
  {
   "cell_type": "code",
   "execution_count": 22,
   "id": "c28a758c-6027-4690-b2ac-95bdd53077bc",
   "metadata": {
    "pycharm": {
     "name": "#%%\n"
    }
   },
   "outputs": [],
   "source": [
    "def make_batch_input(batch, device, pad_id):\n",
    "    x, y = batch[0], batch[1]\n",
    "    src = x.to(device)\n",
    "    trg_in = y[:, :-1].to(device)\n",
    "    trg_out = y[:, 1:].contiguous().view(-1).to(device)\n",
    "    src_pad_mask = (src == pad_id).view(src.size(0), 1, 1, src.size(-1))\n",
    "    trg_pad_mask = (trg_in == pad_id).view(trg_in.size(0), 1, 1, trg_in.size(-1))\n",
    "    return {'src':src, 'trg_in':trg_in, 'trg_out':trg_out, 'src_pad_mask':src_pad_mask, 'trg_pad_mask':trg_pad_mask}\n",
    "    \n",
    "    \n",
    "class TrainCB(Callback):\n",
    "    def __init__(self, grad_acc_steps=1):\n",
    "        super(Callback, self).__init__()\n",
    "        fc.store_attr()\n",
    "        \n",
    "    def predict(self, learn): \n",
    "        learn.batch = make_batch_input(learn.batch, learn.device, learn.model.pad_id)\n",
    "        preds = learn.model(learn.batch['src'], learn.batch['src_pad_mask'], learn.batch['trg_in'], learn.batch['trg_pad_mask'])\n",
    "        learn.preds = preds.view(-1, preds.size(-1))\n",
    "        \n",
    "    def get_loss(self, learn):\n",
    "        learn.loss_func(learn)\n",
    "        \n",
    "    def backward(self, learn):\n",
    "        learn.loss.backward()\n",
    "            \n",
    "    def step(self, learn): \n",
    "        learn.opt.step()\n",
    "        \n",
    "    def zero_grad(self, learn):\n",
    "        learn.opt.zero_grad()"
   ]
  },
  {
   "cell_type": "code",
   "execution_count": 23,
   "id": "7b1a2254-691c-41da-8267-fa5eb50c95a8",
   "metadata": {
    "pycharm": {
     "name": "#%%\n"
    }
   },
   "outputs": [],
   "source": [
    "class Learner():\n",
    "    def __init__(self, model, dls, loss_func=None, lr=0.1, cbs=None, device='cuda', opt_func=torch.optim.Adam):\n",
    "        cbs = fc.L(cbs)\n",
    "        fc.store_attr()\n",
    "\n",
    "    @contextmanager\n",
    "    def callback_ctx(self, nm):\n",
    "        try:\n",
    "            self.callback(f'before_{nm}')\n",
    "            yield\n",
    "            self.callback(f'after_{nm}')\n",
    "        except globals()[f'Cancel{nm.title()}Exception']: \n",
    "            pass\n",
    "        finally: \n",
    "            self.callback(f'cleanup_{nm}')\n",
    "\n",
    "    def one_epoch(self, train):\n",
    "        self.model.train(train)\n",
    "        \n",
    "        self.dl = self.dls.train if train else self.dls.valid\n",
    "        # pdb.set_trace()\n",
    "        with self.callback_ctx('epoch'):\n",
    "            for self.iter,self.batch in enumerate(self.dl):\n",
    "                with self.callback_ctx('batch'):\n",
    "                    self.predict()\n",
    "                    self.callback('after_predict')\n",
    "                    self.get_loss()\n",
    "                    self.callback('after_loss')\n",
    "                    if self.training:\n",
    "                        self.backward()\n",
    "                        self.callback('after_loss')\n",
    "                        self.step()\n",
    "                        self.callback('after_step')\n",
    "                        self.zero_grad()\n",
    "    \n",
    "    def fit(self, n_epochs=1, train=True, valid=False, cbs=None, lr=None):\n",
    "        cbs = fc.L(cbs)\n",
    "        for cb in cbs: \n",
    "            self.cbs.append(cb)\n",
    "        try:\n",
    "            self.n_epochs = n_epochs\n",
    "            self.epochs = range(n_epochs)\n",
    "            self.opt = self.opt_func(self.model.parameters(), self.lr if lr is None else lr)\n",
    "            # pdb.set_trace()\n",
    "            with self.callback_ctx('fit'):\n",
    "                for self.epoch in self.epochs:\n",
    "                    if train: \n",
    "                        self.one_epoch(True)\n",
    "                    if valid: \n",
    "                        torch.no_grad()(self.one_epoch)(False)\n",
    "        finally:\n",
    "            for cb in cbs: \n",
    "                self.cbs.remove(cb)\n",
    "\n",
    "    def __getattr__(self, name):\n",
    "        if name in ('predict','get_loss','backward','step','zero_grad'): \n",
    "            return partial(self.callback, name)\n",
    "        raise AttributeError(name)\n",
    "\n",
    "    def callback(self, method_nm): \n",
    "        run_cbs(self.cbs, method_nm, self)\n",
    "    \n",
    "    @property\n",
    "    def training(self): \n",
    "        return self.model.training"
   ]
  },
  {
   "cell_type": "markdown",
   "id": "b9439c01-b6f7-4c4d-862c-26d8216d5fb2",
   "metadata": {
    "pycharm": {
     "name": "#%% md\n"
    }
   },
   "source": [
    "## Progress cb"
   ]
  },
  {
   "cell_type": "code",
   "execution_count": 24,
   "id": "73a0fa62-a826-468e-995c-c6d006cf05d0",
   "metadata": {
    "pycharm": {
     "name": "#%%\n"
    }
   },
   "outputs": [],
   "source": [
    "def to_cpu(x):\n",
    "    if isinstance(x, Mapping): \n",
    "        return {k:to_cpu(v) for k,v in x.items()}\n",
    "    if isinstance(x, list): \n",
    "        return [to_cpu(o) for o in x]\n",
    "    if isinstance(x, tuple): \n",
    "        return tuple(to_cpu(list(x)))\n",
    "    return x.detach().cpu()\n",
    "\n",
    "\n",
    "class MetricsCB(Callback):\n",
    "    def __init__(self, *ms, **metrics):\n",
    "        for o in ms: \n",
    "            metrics[type(o).__name__] = o\n",
    "        self.metrics = metrics\n",
    "        self.all_metrics = copy(metrics)\n",
    "        self.all_metrics['loss'] = self.loss = Mean()\n",
    "        \n",
    "    def _log(self, d): \n",
    "        print(d)\n",
    "        \n",
    "    def before_fit(self, learn): \n",
    "        learn.metrics = self\n",
    "        \n",
    "    def before_epoch(self, learn): \n",
    "        [o.reset() for o in self.all_metrics.values()]\n",
    "\n",
    "    def after_epoch(self, learn):\n",
    "        log = {k:f'{v.compute():.3f}' for k,v in self.all_metrics.items()}\n",
    "        log['epoch'] = learn.epoch\n",
    "        log['train'] = 'train' if learn.model.training else 'eval'\n",
    "        self._log(log)\n",
    "\n",
    "    def after_batch(self, learn):\n",
    "        batch = to_cpu(learn.batch)\n",
    "        for m in self.metrics.values(): \n",
    "            m.update(to_device(batch), learn)\n",
    "        self.loss.update(to_cpu(learn.loss), weight=len(batch))\n",
    "        \n",
    "        \n",
    "class ProgressCB(Callback):\n",
    "    order = MetricsCB.order+1\n",
    "    def __init__(self, plot=False): \n",
    "        self.plot = plot\n",
    "        \n",
    "    def before_fit(self, learn):\n",
    "        learn.epochs = self.mbar = master_bar(learn.epochs)\n",
    "        self.first = True\n",
    "        if hasattr(learn, 'metrics'): \n",
    "            learn.metrics._log = self._log\n",
    "        self.losses = []\n",
    "\n",
    "    def _log(self, d):\n",
    "        if self.first:\n",
    "            self.mbar.write(list(d), table=True)\n",
    "            self.first = False\n",
    "        self.mbar.write(list(d.values()), table=True)\n",
    "\n",
    "    def before_epoch(self, learn): \n",
    "        learn.dl = progress_bar(learn.dl, leave=False, parent=self.mbar)\n",
    "        \n",
    "    def after_batch(self, learn):\n",
    "        learn.dl.comment = f'{learn.loss:.3f}'\n",
    "        if self.plot and hasattr(learn, 'metrics') and learn.training:\n",
    "            self.losses.append(learn.loss.item())\n",
    "            self.mbar.update_graph([[fc.L.range(self.losses), self.losses]])"
   ]
  },
  {
   "cell_type": "markdown",
   "id": "7bf50cb4-96c8-4b1e-9b99-9e4d2f566dfb",
   "metadata": {
    "pycharm": {
     "name": "#%% md\n"
    }
   },
   "source": [
    "## Loss calc"
   ]
  },
  {
   "cell_type": "code",
   "execution_count": 25,
   "id": "e7d139b1-4fc3-4131-89f7-29431394b9ea",
   "metadata": {
    "pycharm": {
     "name": "#%%\n"
    }
   },
   "outputs": [],
   "source": [
    "class CustomLoss():\n",
    "    def __init__(self, loss_fun):\n",
    "        self.loss_fun=loss_fun()\n",
    "\n",
    "    def calc_loss(self, learn): \n",
    "        trg_out=learn.batch['trg_out']\n",
    "        loss=self.loss_fun(learn.preds, trg_out)\n",
    "        learn.loss = loss"
   ]
  },
  {
   "cell_type": "markdown",
   "id": "80d4a90f-57f2-4e49-be0b-ebf14f0f0602",
   "metadata": {
    "pycharm": {
     "name": "#%% md\n"
    }
   },
   "source": [
    "## Gradient clipping"
   ]
  },
  {
   "cell_type": "code",
   "execution_count": 26,
   "id": "077037b4-96b4-4113-bf81-ff584c969ea3",
   "metadata": {
    "pycharm": {
     "name": "#%%\n"
    }
   },
   "outputs": [],
   "source": [
    "class GradientClipping(Callback):\n",
    "    order=2\n",
    "    def __init__(self, grad_norm_clip=1.0):\n",
    "        self.grad_norm_clip=grad_norm_clip\n",
    "        \n",
    "    def after_loss(self, learn):\n",
    "        torch.nn.utils.clip_grad_norm_(learn.model.parameters(), self.grad_norm_clip)"
   ]
  },
  {
   "cell_type": "markdown",
   "id": "c31af5e3-b84f-46d8-a5f5-e70b79719ad9",
   "metadata": {
    "pycharm": {
     "name": "#%% md\n"
    }
   },
   "source": [
    "## Scheduler"
   ]
  },
  {
   "cell_type": "code",
   "execution_count": 27,
   "id": "a5deea42-1c16-4cd1-bb97-41b4032c0829",
   "metadata": {
    "pycharm": {
     "name": "#%%\n"
    }
   },
   "outputs": [],
   "source": [
    "class BaseSchedCB(Callback):\n",
    "    def __init__(self, sched): \n",
    "        self.sched = sched\n",
    "        self.lrs=[]\n",
    "        \n",
    "    def before_fit(self, learn): \n",
    "        self.schedo = self.sched(learn.opt)\n",
    "        \n",
    "    def step_(self, learn):\n",
    "        if learn.training: \n",
    "            self.schedo.step()\n",
    "            self.lrs.append(self.schedo.get_last_lr()[0])\n",
    "        \n",
    "class BatchSchedCB(BaseSchedCB):\n",
    "    def after_batch(self, learn):\n",
    "        self.step_(learn) \n",
    "        \n",
    "        \n",
    "class EpochSchedCB(BaseSchedCB):\n",
    "    def after_epoch(self, learn):\n",
    "        if learn.training: \n",
    "            self.step_(learn) "
   ]
  },
  {
   "cell_type": "markdown",
   "id": "1bd414aa-d50e-4e82-9bdc-919e3fb4c483",
   "metadata": {
    "pycharm": {
     "name": "#%% md\n"
    }
   },
   "source": [
    "## Set parameters and callbacks for training"
   ]
  },
  {
   "cell_type": "code",
   "execution_count": 28,
   "id": "365a292c-e89b-4564-a280-a915a07d099a",
   "metadata": {
    "pycharm": {
     "name": "#%%\n"
    }
   },
   "outputs": [],
   "source": [
    "#dataloaders\n",
    "batch_size = 128\n",
    "max_seq_len=50\n",
    "dls=get_dls(SRC, TRG, tokenizers, batch_size, max_seq_len)\n",
    "\n",
    "# #model config\n",
    "config = ModelConfig(encoder_vocab_size = vocab_sizes[SRC], \n",
    "                     decoder_vocab_size=vocab_sizes[TRG],\n",
    "                     d_embed=512,\n",
    "                     use_rot_emb=True,\n",
    "                     d_ff=512, \n",
    "                     h=8,\n",
    "                     N_encoder=3, \n",
    "                     N_decoder=3, \n",
    "                     max_seq_len=max_seq_len,\n",
    "                     dropout=0.1,\n",
    "                     pad_id=dls.pad_id,\n",
    "                     unk_id=dls.unk_id,\n",
    "                     bos_id=dls.bos_id,\n",
    "                     eos_id=dls.eos_id,\n",
    "                     device='cuda')\n",
    "\n",
    "model = make_model(config)\n",
    "\n",
    "#optimizer\n",
    "lr=0.5\n",
    "optimizer_func = partial(torch.optim.Adam, betas=(0.9, 0.98), eps=1e-9)\n",
    "\n",
    "#lr scheduler\n",
    "warmup_steps = 3*len(dls.train)\n",
    "# lr first increases in the warmup steps, and then decreases\n",
    "lr_fn = lambda step: config.d_embed**(-0.5) * min([(step+1)**(-0.5), (step+1)*warmup_steps**(-1.5)])  \n",
    "lr_scheduler = partial(torch.optim.lr_scheduler.LambdaLR, lr_lambda=lr_fn)\n",
    "#loss\n",
    "loss_cl=CustomLoss(partial(nn.CrossEntropyLoss, ignore_index=dls.pad_id))\n",
    "loss_func=loss_cl.calc_loss\n",
    "\n",
    "grad_norm_clip = 1.0"
   ]
  },
  {
   "cell_type": "code",
   "execution_count": 29,
   "id": "b7ea9e67-84e7-46ae-904a-8e916703bc43",
   "metadata": {
    "pycharm": {
     "name": "#%%\n"
    }
   },
   "outputs": [],
   "source": [
    "#init callbacks\n",
    "cbs = [TrainCB(),\n",
    "       BatchSchedCB(lr_scheduler), \n",
    "       GradientClipping(grad_norm_clip),\n",
    "       MetricsCB(),\n",
    "       ProgressCB(plot=True)]"
   ]
  },
  {
   "cell_type": "markdown",
   "id": "423d797b-8318-4f5c-95ee-afee12e17a50",
   "metadata": {
    "pycharm": {
     "name": "#%% md\n"
    }
   },
   "source": []
  },
  {
   "cell_type": "code",
   "execution_count": 30,
   "id": "63a2607d-5bf6-44df-b929-4ee9f6add6f4",
   "metadata": {
    "pycharm": {
     "name": "#%%\n"
    }
   },
   "outputs": [],
   "source": [
    "learner = Learner(model, dls, loss_func, lr, cbs, opt_func=optimizer_func)"
   ]
  },
  {
   "cell_type": "markdown",
   "id": "49cc68ff-edf4-4de4-a1f3-6b5343d8a391",
   "metadata": {
    "pycharm": {
     "name": "#%% md\n"
    }
   },
   "source": [
    "## Train model"
   ]
  },
  {
   "cell_type": "markdown",
   "id": "b2924a42-75dd-4f2e-9fd1-3572a0668fab",
   "metadata": {
    "pycharm": {
     "name": "#%% md\n"
    }
   },
   "source": []
  },
  {
   "cell_type": "code",
   "execution_count": 31,
   "id": "980a4ca7-f95e-4856-a98e-30be4f85e3ef",
   "metadata": {
    "pycharm": {
     "name": "#%%\n"
    }
   },
   "outputs": [
    {
     "data": {
      "text/html": [
       "\n",
       "<style>\n",
       "    /* Turns off some styling */\n",
       "    progress {\n",
       "        /* gets rid of default border in Firefox and Opera. */\n",
       "        border: none;\n",
       "        /* Needs to be in here for Safari polyfill so background images work as expected. */\n",
       "        background-size: auto;\n",
       "    }\n",
       "    progress:not([value]), progress:not([value])::-webkit-progress-bar {\n",
       "        background: repeating-linear-gradient(45deg, #7e7e7e, #7e7e7e 10px, #5c5c5c 10px, #5c5c5c 20px);\n",
       "    }\n",
       "    .progress-bar-interrupted, .progress-bar-interrupted::-webkit-progress-bar {\n",
       "        background: #F44336;\n",
       "    }\n",
       "</style>\n"
      ],
      "text/plain": [
       "<IPython.core.display.HTML object>"
      ]
     },
     "metadata": {},
     "output_type": "display_data"
    },
    {
     "data": {
      "text/html": [
       "<table border=\"1\" class=\"dataframe\">\n",
       "  <thead>\n",
       "    <tr style=\"text-align: left;\">\n",
       "      <th>loss</th>\n",
       "      <th>epoch</th>\n",
       "      <th>train</th>\n",
       "    </tr>\n",
       "  </thead>\n",
       "  <tbody>\n",
       "    <tr>\n",
       "      <td>5.506</td>\n",
       "      <td>0</td>\n",
       "      <td>train</td>\n",
       "    </tr>\n",
       "    <tr>\n",
       "      <td>3.539</td>\n",
       "      <td>0</td>\n",
       "      <td>eval</td>\n",
       "    </tr>\n",
       "    <tr>\n",
       "      <td>2.918</td>\n",
       "      <td>1</td>\n",
       "      <td>train</td>\n",
       "    </tr>\n",
       "    <tr>\n",
       "      <td>2.380</td>\n",
       "      <td>1</td>\n",
       "      <td>eval</td>\n",
       "    </tr>\n",
       "    <tr>\n",
       "      <td>2.056</td>\n",
       "      <td>2</td>\n",
       "      <td>train</td>\n",
       "    </tr>\n",
       "    <tr>\n",
       "      <td>1.949</td>\n",
       "      <td>2</td>\n",
       "      <td>eval</td>\n",
       "    </tr>\n",
       "    <tr>\n",
       "      <td>1.614</td>\n",
       "      <td>3</td>\n",
       "      <td>train</td>\n",
       "    </tr>\n",
       "    <tr>\n",
       "      <td>1.758</td>\n",
       "      <td>3</td>\n",
       "      <td>eval</td>\n",
       "    </tr>\n",
       "    <tr>\n",
       "      <td>1.290</td>\n",
       "      <td>4</td>\n",
       "      <td>train</td>\n",
       "    </tr>\n",
       "    <tr>\n",
       "      <td>1.707</td>\n",
       "      <td>4</td>\n",
       "      <td>eval</td>\n",
       "    </tr>\n",
       "  </tbody>\n",
       "</table>"
      ],
      "text/plain": [
       "<IPython.core.display.HTML object>"
      ]
     },
     "metadata": {},
     "output_type": "display_data"
    },
    {
     "data": {
      "image/png": "[encoded data removed]",
      "text/plain": [
       "<Figure size 432x288 with 1 Axes>"
      ]
     },
     "metadata": {},
     "output_type": "display_data"
    }
   ],
   "source": [
    "N_epochs=5\n",
    "learner.fit(N_epochs, valid=True)"
   ]
  },
  {
   "cell_type": "markdown",
   "id": "db66492d-fc74-4133-baaf-dded1eda73c9",
   "metadata": {
    "pycharm": {
     "name": "#%% md\n"
    }
   },
   "source": [
    "## Comparison model without rotary embedding"
   ]
  },
  {
   "cell_type": "code",
   "execution_count": 32,
   "id": "98bd3a7c-77fa-4612-886e-7f1def6cb0b8",
   "metadata": {
    "pycharm": {
     "name": "#%%\n"
    }
   },
   "outputs": [],
   "source": [
    "dls=get_dls(SRC, TRG, tokenizers, batch_size, max_seq_len)\n",
    "# #model config\n",
    "config_no_rot = ModelConfig(encoder_vocab_size = vocab_sizes[SRC], \n",
    "                     decoder_vocab_size=vocab_sizes[TRG],\n",
    "                     d_embed=512,\n",
    "                     use_rot_emb=False,\n",
    "                     d_ff=512, \n",
    "                     h=8,\n",
    "                     N_encoder=3, \n",
    "                     N_decoder=3, \n",
    "                     max_seq_len=max_seq_len,\n",
    "                     dropout=0.1,\n",
    "                     pad_id=dls.pad_id,\n",
    "                     unk_id=dls.unk_id,\n",
    "                     bos_id=dls.bos_id,\n",
    "                     eos_id=dls.eos_id,\n",
    "                     device='cuda')\n",
    "\n",
    "model_no_rot = make_model(config_no_rot)\n",
    "\n",
    "#lr scheduler\n",
    "warmup_steps = 3*len(dls.train)\n",
    "# lr first increases in the warmup steps, and then decreases\n",
    "lr_fn_norot = lambda step: config_no_rot.d_embed**(-0.5) * min([(step+1)**(-0.5), (step+1)*warmup_steps**(-1.5)])  \n",
    "lr_scheduler_no_rot = partial(torch.optim.lr_scheduler.LambdaLR, lr_lambda=lr_fn_norot)"
   ]
  },
  {
   "cell_type": "code",
   "execution_count": 33,
   "id": "b9047b02-329b-4c7e-a798-6017a5923d0e",
   "metadata": {
    "pycharm": {
     "name": "#%%\n"
    }
   },
   "outputs": [],
   "source": [
    "#init callbacks\n",
    "cbs_norot = [TrainCB(),\n",
    "       BatchSchedCB(lr_scheduler_no_rot), \n",
    "       GradientClipping(grad_norm_clip),\n",
    "       MetricsCB(),\n",
    "       ProgressCB(plot=True)]"
   ]
  },
  {
   "cell_type": "code",
   "execution_count": 34,
   "id": "2894be1d-fd5b-4c13-87e3-06380ae383c8",
   "metadata": {
    "pycharm": {
     "name": "#%%\n"
    }
   },
   "outputs": [],
   "source": [
    "learner_no_rot = Learner(model_no_rot, dls, loss_func, lr, cbs_norot, opt_func=optimizer_func)"
   ]
  },
  {
   "cell_type": "code",
   "execution_count": 35,
   "id": "5241a097-35b5-4ec9-a4a7-b28fb4f768e1",
   "metadata": {
    "pycharm": {
     "name": "#%%\n"
    }
   },
   "outputs": [
    {
     "data": {
      "text/html": [
       "\n",
       "<style>\n",
       "    /* Turns off some styling */\n",
       "    progress {\n",
       "        /* gets rid of default border in Firefox and Opera. */\n",
       "        border: none;\n",
       "        /* Needs to be in here for Safari polyfill so background images work as expected. */\n",
       "        background-size: auto;\n",
       "    }\n",
       "    progress:not([value]), progress:not([value])::-webkit-progress-bar {\n",
       "        background: repeating-linear-gradient(45deg, #7e7e7e, #7e7e7e 10px, #5c5c5c 10px, #5c5c5c 20px);\n",
       "    }\n",
       "    .progress-bar-interrupted, .progress-bar-interrupted::-webkit-progress-bar {\n",
       "        background: #F44336;\n",
       "    }\n",
       "</style>\n"
      ],
      "text/plain": [
       "<IPython.core.display.HTML object>"
      ]
     },
     "metadata": {},
     "output_type": "display_data"
    },
    {
     "data": {
      "text/html": [
       "<table border=\"1\" class=\"dataframe\">\n",
       "  <thead>\n",
       "    <tr style=\"text-align: left;\">\n",
       "      <th>loss</th>\n",
       "      <th>epoch</th>\n",
       "      <th>train</th>\n",
       "    </tr>\n",
       "  </thead>\n",
       "  <tbody>\n",
       "    <tr>\n",
       "      <td>5.539</td>\n",
       "      <td>0</td>\n",
       "      <td>train</td>\n",
       "    </tr>\n",
       "    <tr>\n",
       "      <td>3.702</td>\n",
       "      <td>0</td>\n",
       "      <td>eval</td>\n",
       "    </tr>\n",
       "    <tr>\n",
       "      <td>3.078</td>\n",
       "      <td>1</td>\n",
       "      <td>train</td>\n",
       "    </tr>\n",
       "    <tr>\n",
       "      <td>2.550</td>\n",
       "      <td>1</td>\n",
       "      <td>eval</td>\n",
       "    </tr>\n",
       "    <tr>\n",
       "      <td>2.215</td>\n",
       "      <td>2</td>\n",
       "      <td>train</td>\n",
       "    </tr>\n",
       "    <tr>\n",
       "      <td>2.104</td>\n",
       "      <td>2</td>\n",
       "      <td>eval</td>\n",
       "    </tr>\n",
       "    <tr>\n",
       "      <td>1.749</td>\n",
       "      <td>3</td>\n",
       "      <td>train</td>\n",
       "    </tr>\n",
       "    <tr>\n",
       "      <td>1.883</td>\n",
       "      <td>3</td>\n",
       "      <td>eval</td>\n",
       "    </tr>\n",
       "    <tr>\n",
       "      <td>1.400</td>\n",
       "      <td>4</td>\n",
       "      <td>train</td>\n",
       "    </tr>\n",
       "    <tr>\n",
       "      <td>1.796</td>\n",
       "      <td>4</td>\n",
       "      <td>eval</td>\n",
       "    </tr>\n",
       "  </tbody>\n",
       "</table>"
      ],
      "text/plain": [
       "<IPython.core.display.HTML object>"
      ]
     },
     "metadata": {},
     "output_type": "display_data"
    },
    {
     "data": {
      "image/png": "[encoded data removed]",
      "text/plain": [
       "<Figure size 432x288 with 1 Axes>"
      ]
     },
     "metadata": {},
     "output_type": "display_data"
    }
   ],
   "source": [
    "N_epochs=5\n",
    "learner_no_rot.fit(N_epochs, valid=True)"
   ]
  },
  {
   "cell_type": "markdown",
   "id": "56c78147-4f94-43be-a085-120b2614f188",
   "metadata": {
    "pycharm": {
     "name": "#%% md\n"
    }
   },
   "source": [
    "## Evaluate model scores"
   ]
  },
  {
   "cell_type": "code",
   "execution_count": 36,
   "id": "ade72973-3015-46e3-a5b2-c9f91a1aba1c",
   "metadata": {
    "pycharm": {
     "name": "#%%\n"
    }
   },
   "outputs": [],
   "source": [
    "model=model.eval()"
   ]
  },
  {
   "cell_type": "code",
   "execution_count": 37,
   "id": "6ddbb58b-0e10-4e5b-a1b5-b2c3378c7250",
   "metadata": {
    "pycharm": {
     "name": "#%%\n"
    }
   },
   "outputs": [],
   "source": [
    "def translate(model, x, pad_id, device='cuda'):\n",
    "    'translate source sentences into the target language, without looking at the answer'\n",
    "    with torch.no_grad():\n",
    "        dB = x.size(0)\n",
    "        y = torch.tensor([[model.bos_id]*dB]).view(dB, 1).to(device)\n",
    "        x_pad_mask = (x == model.pad_id).view(x.size(0), 1, 1, x.size(-1)).to(device)\n",
    "        memory = model.encoder(x, x_pad_mask)\n",
    "        for i in range(max_seq_len):\n",
    "            y_pad_mask = (y == pad_id).view(y.size(0), 1, 1, y.size(-1)).to(device)\n",
    "            logits = model.decoder(memory, x_pad_mask, y, y_pad_mask)\n",
    "            last_output = logits.argmax(-1)[:, -1]\n",
    "            last_output = last_output.view(dB, 1)\n",
    "            y = torch.cat((y, last_output), 1).to(device)\n",
    "    return y\n",
    "\n",
    "def remove_pad(sent, eos_id, pad_id):\n",
    "    '''truncate the sentence if BOS is in it,\n",
    "     otherwise simply remove the padding tokens at the end'''\n",
    "    if sent.count(eos_id)>0:\n",
    "        sent = sent[0:sent.index(eos_id)+1]\n",
    "    while sent and sent[-1] == pad_id:\n",
    "        sent = sent[:-1]\n",
    "    return sent\n",
    "\n",
    "def decode_sentence(detokenizer, sentence_ids, eos_id, pad_id):\n",
    "    'convert a tokenized sentence (a list of numbers) to a literal string'\n",
    "    if not isinstance(sentence_ids, list):\n",
    "        sentence_ids = sentence_ids.tolist()\n",
    "    sentence_ids = remove_pad(sentence_ids, eos_id, pad_id)\n",
    "    return detokenizer(sentence_ids).replace(\"<bos>\", \"\")\\\n",
    "           .replace(\"<eos>\", \"\").strip().replace(\" .\", \".\")\n",
    "\n",
    "def evaluate(model, dataloader, eos_id, pad_id, src_lang, trg_lang, detokenizers, num_batch=None, device='cuda'):\n",
    "    'evaluate the model, and compute the BLEU score'\n",
    "    model.eval()\n",
    "    refs, cans, bleus = [], [], []\n",
    "    with torch.no_grad():\n",
    "        for idx, (x, y) in enumerate(dataloader):\n",
    "            batch = make_batch_input([x, y], device, pad_id)\n",
    "            translation = translate(model, batch[\"src\"], pad_id)\n",
    "            batch[\"trg_out\"] = batch[\"trg_out\"].view(x.size(0), -1)\n",
    "            refs = refs + [decode_sentence(detokenizers[trg_lang], batch['trg_out'][i], eos_id, pad_id) for i in range(len(batch[\"src\"]))]\n",
    "            cans = cans + [decode_sentence(detokenizers[trg_lang], translation[i], eos_id, pad_id) for i in range(len(batch[\"src\"]))] \n",
    "            if num_batch and idx>=num_batch:\n",
    "                break\n",
    "        print(min([len(x) for x in refs]))\n",
    "        bleus.append(sacrebleu.corpus_bleu(cans, [refs]).score)\n",
    "        # print some examples\n",
    "        for i in range(3):\n",
    "            print(f'src:  {decode_sentence(detokenizers[src_lang], batch[\"src\"][i], eos_id, pad_id)}')\n",
    "            print(f'trg:  {decode_sentence(detokenizers[trg_lang], batch[\"trg_out\"][i], eos_id, pad_id)}')\n",
    "            print(f'pred: {decode_sentence(detokenizers[trg_lang], translation[i], eos_id, pad_id)}')\n",
    "        return np.mean(bleus)"
   ]
  },
  {
   "cell_type": "code",
   "execution_count": 38,
   "id": "d44c3be3-a413-4605-b4aa-cf30e6879b88",
   "metadata": {
    "pycharm": {
     "name": "#%%\n"
    }
   },
   "outputs": [
    {
     "name": "stdout",
     "output_type": "stream",
     "text": [
      "train set examples:\n",
      "22\n",
      "src:  Zwei Männer kämpfen bei einem Fußballspiel um den Ball.\n",
      "trg:  Two men are competing for the ball in a game of soccer.\n",
      "pred: Two men are fighting over the ball during a soccer game.\n",
      "src:  Ein frisch verheiratetes Paar tanzt und hat Geld auf der Kleidung.\n",
      "trg:  A newly married couple dances with money on their clothes.\n",
      "pred: A newly married couple dances with money on their clothes.\n",
      "src:  Eine Gruppe von Kindern spielt mit Requisiten.\n",
      "trg:  A group of children playing with props\n",
      "pred: A group of children playing with a mannequin.\n",
      "validation set examples:\n",
      "20\n",
      "src:  Zwei Teams, eines davon in Pink und eines in Weiß, spielen Lacrosse auf einem Sportplatz.\n",
      "trg:  Two teams, one in pink and one in white, play lacrosse on a field.\n",
      "pred: Two teams, one of whis of whis and one wearing white, play lacrosse on a sports field.\n",
      "src:  Bauarbeiter stehen auf einer Maschine\n",
      "trg:  Construction workers standing on top of a piece of machinery.\n",
      "pred: Construction workers are standing on a machine.\n",
      "src:  Eine Frau in einer blauen Uniform steht da und blickt nach unten.\n",
      "trg:  A woman wearing a blue uniform stands and looks down.\n",
      "pred: A woman in a blue uniform stands and looking down.\n",
      "test set examples:\n",
      "21\n",
      "src:  Ein Mann seilt sich an einer Klippe über dem Ozean ab.\n",
      "trg:  A man is abseiling down a cliff over the ocean.\n",
      "pred: A man is using the side of a cliff over the ocean.\n",
      "src:  Ein Asiate sitzt mit Kisten von Erdnüssen auf der Straße.\n",
      "trg:  An Asian man sits on the tracks with crates of peanuts.\n",
      "pred: An Asian man sits on the street with crates of them.\n",
      "src:  Ein Mann in Uniform und ein Mann in einem blauen Hemd stehen vor einem Wagen.\n",
      "trg:  A man in uniform and a man in a blue shirt are standing in front of a truck.\n",
      "pred: A man in uniform and a man in a blue shirt standing in front of a cart.\n"
     ]
    }
   ],
   "source": [
    "print(\"train set examples:\")\n",
    "train_bleu = evaluate(model, dls.train, model.eos_id, model.pad_id, SRC, TRG, tokenizers.detokenizers, 20)\n",
    "print(\"validation set examples:\")\n",
    "valid_bleu = evaluate(model, dls.valid, model.eos_id, model.pad_id, SRC, TRG, tokenizers.detokenizers)\n",
    "print(\"test set examples:\")\n",
    "test_bleu  = evaluate(model, dls.test, model.eos_id, model.pad_id, SRC, TRG, tokenizers.detokenizers)"
   ]
  },
  {
   "cell_type": "code",
   "execution_count": 39,
   "id": "e6e96829-42ce-4e75-ab39-778ded4ba4c8",
   "metadata": {
    "pycharm": {
     "name": "#%%\n"
    }
   },
   "outputs": [
    {
     "data": {
      "text/plain": [
       "44.14587719150505"
      ]
     },
     "execution_count": 39,
     "metadata": {},
     "output_type": "execute_result"
    }
   ],
   "source": [
    "train_bleu"
   ]
  },
  {
   "cell_type": "code",
   "execution_count": 40,
   "id": "d0da1739-1e86-4274-aae2-505d8f907d2a",
   "metadata": {
    "pycharm": {
     "name": "#%%\n"
    }
   },
   "outputs": [
    {
     "data": {
      "text/plain": [
       "36.752866443990875"
      ]
     },
     "execution_count": 40,
     "metadata": {},
     "output_type": "execute_result"
    }
   ],
   "source": [
    "test_bleu"
   ]
  },
  {
   "cell_type": "code",
   "execution_count": 41,
   "id": "3c09310d-416c-444b-a567-d910507cdb1a",
   "metadata": {
    "pycharm": {
     "name": "#%%\n"
    }
   },
   "outputs": [
    {
     "data": {
      "text/plain": [
       "36.40544217751185"
      ]
     },
     "execution_count": 41,
     "metadata": {},
     "output_type": "execute_result"
    }
   ],
   "source": [
    "valid_bleu"
   ]
  },
  {
   "cell_type": "code",
   "execution_count": 42,
   "id": "d13b8eb4-874a-4c73-a4ce-61d3f68345e0",
   "metadata": {
    "pycharm": {
     "name": "#%%\n"
    }
   },
   "outputs": [
    {
     "name": "stdout",
     "output_type": "stream",
     "text": [
      "train set examples:\n",
      "15\n",
      "src:  Ein kleiner Junge klettert auf einen großen weißen schlafenden Hund.\n",
      "trg:  A boy toddler climbs on a big white sleeping dog.\n",
      "pred: A little boy climbs a large white sleeping dog.\n",
      "src:  Zwei Erwachsene mit Helm albern herum, im Hintergrund Berglandschaft.\n",
      "trg:  Two adults in helmets are fooling around with mountainous terrain in the background.\n",
      "pred: Two adults in a helmet with mountain mountains in the background.\n",
      "src:  Eine Dame steht in einer Küche vor dem Herd und brät etwas in einer Bratpfanne.\n",
      "trg:  A lady in a kitchen is standing in front of the stove frying something in a frying pan.\n",
      "pred: A lady stands in a kitchen in front of the stove, frying something in a pan.\n",
      "validation set examples:\n",
      "20\n",
      "src:  Ein Mann und eine Frau überqueren eine leere Straße.\n",
      "trg:  A man and woman walk across an empty street.\n",
      "pred: A man and woman are crossing an empty street.\n",
      "src:  Ein Mann in einem schwarzen T-Shirt und braunen Cargohosen hält eine Schaufel über seinem Kopf.\n",
      "trg:  A male in a black shirt and brown cargo pants holding a shovel above his head.\n",
      "pred: A man in a black shirt and brown pants is holding a shovel over his head.\n",
      "src:  Menschen nehmen an einem J.P. Morgan Corporate Challenge teil.\n",
      "trg:  People attending a  ⁇.P. Morgan Corporate Challenge.\n",
      "pred: People competing in a game of which is playing the bongo.\n",
      "test set examples:\n",
      "21\n",
      "src:  Ein Mann und zwei Frauen diskutieren über Weißwein\n",
      "trg:  One man and two women having a discussion over white wine\n",
      "pred: A man and two women discussing a discussion.\n",
      "src:  Zwei Frauen in Militäruniformen stehen mit anderen Soldaten in Formation.\n",
      "trg:  Two women in military uniform are standing with other soldiers in formation.\n",
      "pred: Two women in military uniforms stand with other soldiers in formation.\n",
      "src:  Ein kleines Kind mit schmutzigem Gesicht, wird von einer alten Frau gehalten.\n",
      "trg:  A young child with a dirty face being held by an old woman.\n",
      "pred: A young child with dirty face is held by an old woman.\n"
     ]
    }
   ],
   "source": [
    "#compare with model without rotary embedding\n",
    "print(\"train set examples:\")\n",
    "train_bleu_no_rot = evaluate(model_no_rot, dls.train, model_no_rot.eos_id, model_no_rot.pad_id, SRC, TRG, tokenizers.detokenizers, 20)\n",
    "print(\"validation set examples:\")\n",
    "valid_bleu_no_rot = evaluate(model_no_rot, dls.valid, model_no_rot.eos_id, model_no_rot.pad_id, SRC, TRG, tokenizers.detokenizers)\n",
    "print(\"test set examples:\")\n",
    "test_bleu_no_rot  = evaluate(model_no_rot, dls.test, model_no_rot.eos_id, model_no_rot.pad_id, SRC, TRG, tokenizers.detokenizers)"
   ]
  },
  {
   "cell_type": "code",
   "execution_count": 43,
   "id": "f89535e2-9785-4b09-b771-386fe1846b13",
   "metadata": {
    "pycharm": {
     "name": "#%%\n"
    }
   },
   "outputs": [
    {
     "data": {
      "text/plain": [
       "42.601482734890475"
      ]
     },
     "execution_count": 43,
     "metadata": {},
     "output_type": "execute_result"
    }
   ],
   "source": [
    "train_bleu_no_rot"
   ]
  },
  {
   "cell_type": "code",
   "execution_count": 44,
   "id": "0f88b11e-0910-45f7-bbda-3ba04c1a9550",
   "metadata": {
    "pycharm": {
     "name": "#%%\n"
    }
   },
   "outputs": [
    {
     "data": {
      "text/plain": [
       "34.7211569389873"
      ]
     },
     "execution_count": 44,
     "metadata": {},
     "output_type": "execute_result"
    }
   ],
   "source": [
    "test_bleu_no_rot"
   ]
  },
  {
   "cell_type": "code",
   "execution_count": 45,
   "id": "82803836-707b-405f-a532-f36786db55e2",
   "metadata": {
    "pycharm": {
     "name": "#%%\n"
    }
   },
   "outputs": [
    {
     "data": {
      "text/plain": [
       "35.21594396383609"
      ]
     },
     "execution_count": 45,
     "metadata": {},
     "output_type": "execute_result"
    }
   ],
   "source": [
    "valid_bleu_no_rot"
   ]
  },
  {
   "cell_type": "markdown",
   "id": "715daac2-0fd6-4380-bdc7-4ce0d7999911",
   "metadata": {
    "pycharm": {
     "name": "#%% md\n"
    }
   },
   "source": [
    "## Translate your sentences"
   ]
  },
  {
   "cell_type": "code",
   "execution_count": 46,
   "id": "c85bb168-5646-498f-a4be-0fdda3fc6623",
   "metadata": {
    "pycharm": {
     "name": "#%%\n"
    }
   },
   "outputs": [],
   "source": [
    "def translate(model, x, device):\n",
    "    'translate source sentences into the target language, without looking at the answer'\n",
    "    with torch.no_grad():\n",
    "        dB = x.size(0)\n",
    "        y = torch.tensor([[model.bos_id]*dB]).view(dB, 1).to(device)\n",
    "        x_pad_mask = (x == model.pad_id).view(x.size(0), 1, 1, x.size(-1)).to(device)\n",
    "        memory = model.encoder(x, x_pad_mask).to(device)\n",
    "        for i in range(max_seq_len):\n",
    "            y_pad_mask = (y == model.pad_id).view(y.size(0), 1, 1, y.size(-1)).to(device)\n",
    "            logits = model.decoder(memory, x_pad_mask, y, y_pad_mask)\n",
    "            last_output = logits.argmax(-1)[:, -1]\n",
    "            last_output = last_output.view(dB, 1)\n",
    "            y = torch.cat((y, last_output), 1).to(device)\n",
    "    return y\n",
    "\n",
    "def translate_this_sentence(text: str, model, tokenizers, src, trg, device='cuda'):\n",
    "    'translate the source sentence in string formate into target language'\n",
    "    inp = torch.tensor([[model.bos_id] + tokenizers.tokenizers[src](text) + [model.eos_id]]).to(device)\n",
    "    output = translate(model, inp, device)\n",
    "    return decode_sentence(tokenizers.detokenizers[trg], output[0], model.eos_id, model.pad_id)"
   ]
  },
  {
   "cell_type": "code",
   "execution_count": 47,
   "id": "493b9fe8-f098-4c63-8775-72c68f27bafc",
   "metadata": {
    "pycharm": {
     "name": "#%%\n"
    }
   },
   "outputs": [
    {
     "data": {
      "text/plain": [
       "'A group of people are standing in front of an I igloo.'"
      ]
     },
     "execution_count": 47,
     "metadata": {},
     "output_type": "execute_result"
    }
   ],
   "source": [
    "translate_this_sentence(\"Eine Gruppe von Menschen steht vor einem Iglu.\", model, tokenizers, SRC, TRG)"
   ]
  },
  {
   "cell_type": "markdown",
   "id": "6d79d934-aecf-4684-a9d5-62cdfd3bb506",
   "metadata": {
    "pycharm": {
     "name": "#%% md\n"
    }
   },
   "source": [
    "## Visualizing rotary embedding"
   ]
  },
  {
   "cell_type": "code",
   "execution_count": 48,
   "id": "bd52e1f8-41be-4a74-a7ae-7e760e16f647",
   "metadata": {
    "pycharm": {
     "name": "#%%\n"
    }
   },
   "outputs": [],
   "source": [
    "def get_embs(x_inp, model, device='cuda'):\n",
    "    with torch.no_grad():\n",
    "        x_inp=x_inp.to(device)\n",
    "        x = model.encoder.tok_embed(x_inp)\n",
    "        x_pos = model.encoder.pos_embed[:, :x.size(1), :]\n",
    "        nbatch=1\n",
    "        query = model.encoder.encoder_blocks[0].atten.WQ(x_pos).view(nbatch, -1, model.encoder.encoder_blocks[0].atten.h, model.encoder.encoder_blocks[0].atten.d_k).transpose(1,2)\n",
    "        key   = model.encoder.encoder_blocks[0].atten.WK(x_pos).view(nbatch, -1, model.encoder.encoder_blocks[0].atten.h, model.encoder.encoder_blocks[0].atten.d_k).transpose(1,2)\n",
    "        value = model.encoder.encoder_blocks[0].atten.WV(x_pos).view(nbatch, -1, model.encoder.encoder_blocks[0].atten.h, model.encoder.encoder_blocks[0].atten.d_k).transpose(1,2)\n",
    "\n",
    "        query_rot = model.encoder.encoder_blocks[0].atten.rotary_emb.rotate_queries_or_keys(query)\n",
    "        key_rot = model.encoder.encoder_blocks[0].atten.rotary_emb.rotate_queries_or_keys(key)\n",
    "    return query.to('cpu').detach().numpy(), query_rot.to('cpu').detach().numpy(), key.to('cpu').detach().numpy(), key_rot.to('cpu').detach().numpy(), value.to('cpu').detach().numpy()"
   ]
  },
  {
   "cell_type": "code",
   "execution_count": 49,
   "id": "ef94b486-0446-4021-97f2-648007a5a4db",
   "metadata": {
    "pycharm": {
     "name": "#%%\n"
    }
   },
   "outputs": [],
   "source": [
    "##convert to 2-d for visualization\n",
    "#def reduce_dims(emb):\n",
    "  #  reducer = umap.UMAP()\n",
    "   # emb_reduced = reducer.fit_transform(emb)\n",
    "    #return emb_reduced, reducer\n",
    "\n",
    "def unit_vector(vector):\n",
    "    \"\"\" Returns the unit vector of the vector.  \"\"\"\n",
    "    return vector / np.linalg.norm(vector)\n",
    "\n",
    "def angle_between(v1, v2):\n",
    "    \"\"\" Returns the angle in radians between vectors 'v1' and 'v2'::\n",
    "\n",
    "            >>> angle_between((1, 0, 0), (0, 1, 0))\n",
    "            1.5707963267948966\n",
    "            >>> angle_between((1, 0, 0), (1, 0, 0))\n",
    "            0.0\n",
    "            >>> angle_between((1, 0, 0), (-1, 0, 0))\n",
    "            3.141592653589793\n",
    "    \"\"\"\n",
    "    v1_u = unit_vector(v1)\n",
    "    v2_u = unit_vector(v2)\n",
    "    return np.arccos(np.clip(np.dot(v1_u, v2_u), -1.0, 1.0))"
   ]
  },
  {
   "cell_type": "code",
   "execution_count": 101,
   "id": "23c6b86a-d31a-448a-82bc-adc32837388e",
   "metadata": {
    "pycharm": {
     "name": "#%%\n"
    }
   },
   "outputs": [
    {
     "data": {
      "text/plain": [
       "torch.Size([128, 40])"
      ]
     },
     "execution_count": 101,
     "metadata": {},
     "output_type": "execute_result"
    }
   ],
   "source": [
    "#take sample from test data\n",
    "x_inp, y=next(iter(dls.test))\n",
    "x_inp=x_inp.to('cuda')\n",
    "x_inp.shape"
   ]
  },
  {
   "cell_type": "code",
   "execution_count": 102,
   "id": "06d9bf9c-e0ff-44e7-a20e-08edeeb408a7",
   "metadata": {
    "pycharm": {
     "name": "#%%\n"
    }
   },
   "outputs": [],
   "source": [
    "#get embeddings with an wo rotation\n",
    "query, query_rot, key, key_rot, value =get_embs(x_inp, model)"
   ]
  },
  {
   "cell_type": "code",
   "execution_count": 103,
   "id": "7ae03ab8-a530-42a3-947c-b5a61ce5d44b",
   "metadata": {
    "pycharm": {
     "name": "#%%\n"
    }
   },
   "outputs": [
    {
     "data": {
      "text/plain": [
       "<AxesSubplot:>"
      ]
     },
     "execution_count": 103,
     "metadata": {},
     "output_type": "execute_result"
    },
    {
     "data": {
      "image/png": "[encoded data removed]",
      "text/plain": [
       "<Figure size 432x288 with 2 Axes>"
      ]
     },
     "metadata": {
      "needs_background": "light"
     },
     "output_type": "display_data"
    }
   ],
   "source": [
    "#see differences or original and rotated embeddings\n",
    "i=3\n",
    "sns.heatmap(query[0][i], cmap='Blues', robust=True)"
   ]
  },
  {
   "cell_type": "code",
   "execution_count": 104,
   "id": "6e5b2733-7026-4c0f-ac9b-4a22545c5b60",
   "metadata": {
    "pycharm": {
     "name": "#%%\n"
    }
   },
   "outputs": [
    {
     "data": {
      "text/plain": [
       "<AxesSubplot:>"
      ]
     },
     "execution_count": 104,
     "metadata": {},
     "output_type": "execute_result"
    },
    {
     "data": {
      "image/png": "[encoded data removed]",
      "text/plain": [
       "<Figure size 432x288 with 2 Axes>"
      ]
     },
     "metadata": {
      "needs_background": "light"
     },
     "output_type": "display_data"
    }
   ],
   "source": [
    "sns.heatmap(query_rot[0][i], cmap='Blues', robust=True)"
   ]
  },
  {
   "cell_type": "code",
   "execution_count": 105,
   "id": "e18d0dfa-5d1b-4e5a-8550-1fa58b1e5e03",
   "metadata": {
    "pycharm": {
     "name": "#%%\n"
    }
   },
   "outputs": [
    {
     "data": {
      "text/plain": [
       "<AxesSubplot:>"
      ]
     },
     "execution_count": 105,
     "metadata": {},
     "output_type": "execute_result"
    },
    {
     "data": {
      "image/png": "[encoded data removed]",
      "text/plain": [
       "<Figure size 432x288 with 2 Axes>"
      ]
     },
     "metadata": {
      "needs_background": "light"
     },
     "output_type": "display_data"
    }
   ],
   "source": [
    "sns.heatmap(key[0][i], cmap='Blues', robust=True)"
   ]
  },
  {
   "cell_type": "code",
   "execution_count": 106,
   "id": "e8392db9-ee2d-4858-848d-b2dc8fea8407",
   "metadata": {
    "pycharm": {
     "name": "#%%\n"
    }
   },
   "outputs": [
    {
     "data": {
      "text/plain": [
       "<AxesSubplot:>"
      ]
     },
     "execution_count": 106,
     "metadata": {},
     "output_type": "execute_result"
    },
    {
     "data": {
      "image/png": "[encoded data removed]",
      "text/plain": [
       "<Figure size 432x288 with 2 Axes>"
      ]
     },
     "metadata": {
      "needs_background": "light"
     },
     "output_type": "display_data"
    }
   ],
   "source": [
    "sns.heatmap(key_rot[0][i], cmap='Blues', robust=True)"
   ]
  },
  {
   "cell_type": "code",
   "execution_count": 107,
   "id": "c6fb287e-99d2-44aa-ad82-9f3e9b2f69ee",
   "metadata": {
    "pycharm": {
     "name": "#%%\n"
    }
   },
   "outputs": [
    {
     "data": {
      "text/plain": [
       "1.0894800615801432"
      ]
     },
     "execution_count": 107,
     "metadata": {},
     "output_type": "execute_result"
    }
   ],
   "source": [
    "#angle between query and key has not changed after rotation\n",
    "idx=20 #index of query/key element\n",
    "angle_between(key[0][i][idx,:], query[0][i][idx,:])"
   ]
  },
  {
   "cell_type": "code",
   "execution_count": 108,
   "id": "9bbc282d-d9c8-4765-a6ac-2221ec9e3a4f",
   "metadata": {
    "pycharm": {
     "name": "#%%\n"
    }
   },
   "outputs": [
    {
     "data": {
      "text/plain": [
       "1.0894801288246863"
      ]
     },
     "execution_count": 108,
     "metadata": {},
     "output_type": "execute_result"
    }
   ],
   "source": [
    "angle_between(key_rot[0][i][idx,:], query_rot[0][i][idx,:])"
   ]
  },
  {
   "cell_type": "code",
   "execution_count": 109,
   "id": "572195c3-5b64-471d-9f27-e2e5ce9ca107",
   "metadata": {
    "pycharm": {
     "name": "#%%\n"
    }
   },
   "outputs": [
    {
     "data": {
      "text/plain": [
       "(7.9047813, 7.904781)"
      ]
     },
     "execution_count": 109,
     "metadata": {},
     "output_type": "execute_result"
    }
   ],
   "source": [
    "#also magnitude has not changed after rotation\n",
    "np.linalg.norm(query[0]), np.linalg.norm(query_rot[0])"
   ]
  },
  {
   "cell_type": "code",
   "execution_count": 110,
   "id": "c6336f2b-b009-486d-84c5-0c451a3a7a1e",
   "metadata": {
    "pycharm": {
     "name": "#%%\n"
    }
   },
   "outputs": [
    {
     "data": {
      "text/plain": [
       "(9.5816, 9.581601)"
      ]
     },
     "execution_count": 110,
     "metadata": {},
     "output_type": "execute_result"
    }
   ],
   "source": [
    "np.linalg.norm(key[0]), np.linalg.norm(key_rot[0])"
   ]
  },
  {
   "cell_type": "code",
   "execution_count": 111,
   "id": "e5287e38-94a6-437e-97f9-bd288c630ffe",
   "metadata": {
    "pycharm": {
     "name": "#%%\n"
    }
   },
   "outputs": [
    {
     "data": {
      "text/plain": [
       "[<matplotlib.lines.Line2D at 0x7f2ca7c3af10>]"
      ]
     },
     "execution_count": 111,
     "metadata": {},
     "output_type": "execute_result"
    },
    {
     "data": {
      "image/png": "[encoded data removed]",
      "text/plain": [
       "<Figure size 432x288 with 1 Axes>"
      ]
     },
     "metadata": {
      "needs_background": "light"
     },
     "output_type": "display_data"
    }
   ],
   "source": [
    "#we can see the original \"frequencies\" used to rotate embeddings based on the element index in embedding vector \n",
    "#initial elements get more changed than latter ones as could be seen in the previous heatmaps where initial \n",
    "#elements have bigger changes than latter ones which are the same\n",
    "plt.plot(model.encoder.encoder_blocks[0].atten.rotary_emb.freqs.detach().cpu().numpy())"
   ]
  },
  {
   "cell_type": "code",
   "execution_count": 146,
   "id": "e10d185f-2367-4dbe-8746-c89a1d6c4b45",
   "metadata": {
    "pycharm": {
     "name": "#%%\n"
    }
   },
   "outputs": [
    {
     "data": {
      "text/plain": [
       "(1, 8, 40, 64)"
      ]
     },
     "execution_count": 146,
     "metadata": {},
     "output_type": "execute_result"
    }
   ],
   "source": [
    "query.shape"
   ]
  },
  {
   "cell_type": "code",
   "execution_count": 147,
   "id": "27eb4f84-d805-49ff-af56-e9c8bd5ddbd9",
   "metadata": {
    "pycharm": {
     "name": "#%%\n"
    }
   },
   "outputs": [],
   "source": [
    "#see rotation matrix, dervied from previous freqs\n",
    "seq_len=query.shape[-2]\n",
    "t = lambda: torch.arange(seq_len, device = 'cuda')\n",
    "t=t() #positional indexes\n",
    "freqs = model.encoder.encoder_blocks[0].atten.rotary_emb.freqs\n",
    "freqs = torch.einsum('..., f -> ... f', t.type(freqs.dtype), freqs)"
   ]
  },
  {
   "cell_type": "code",
   "execution_count": 148,
   "id": "fea2939a-c1b3-409b-b89a-74b746248280",
   "metadata": {
    "pycharm": {
     "name": "#%%\n"
    }
   },
   "outputs": [
    {
     "data": {
      "text/plain": [
       "torch.Size([40, 32])"
      ]
     },
     "execution_count": 148,
     "metadata": {},
     "output_type": "execute_result"
    }
   ],
   "source": [
    "freqs.shape"
   ]
  },
  {
   "cell_type": "code",
   "execution_count": 149,
   "id": "9387bb99-de4c-4fa0-a7d3-a5009fb6abf0",
   "metadata": {
    "pycharm": {
     "name": "#%%\n"
    }
   },
   "outputs": [
    {
     "data": {
      "text/plain": [
       "<AxesSubplot:>"
      ]
     },
     "execution_count": 149,
     "metadata": {},
     "output_type": "execute_result"
    },
    {
     "data": {
      "image/png": "[encoded data removed]",
      "text/plain": [
       "<Figure size 432x288 with 2 Axes>"
      ]
     },
     "metadata": {
      "needs_background": "light"
     },
     "output_type": "display_data"
    }
   ],
   "source": [
    "sns.heatmap(freqs.detach().cpu().numpy(), cmap='Blues', robust=True)"
   ]
  },
  {
   "cell_type": "code",
   "execution_count": 150,
   "id": "7a94221f-9ecd-489e-9e9f-1ab50ca5e057",
   "metadata": {
    "pycharm": {
     "name": "#%%\n"
    }
   },
   "outputs": [
    {
     "data": {
      "text/plain": [
       "<AxesSubplot:>"
      ]
     },
     "execution_count": 150,
     "metadata": {},
     "output_type": "execute_result"
    },
    {
     "data": {
      "image/png": "[encoded data removed]",
      "text/plain": [
       "<Figure size 432x288 with 2 Axes>"
      ]
     },
     "metadata": {
      "needs_background": "light"
     },
     "output_type": "display_data"
    }
   ],
   "source": [
    "#repeat to get original dimensions\n",
    "from einops import repeat, rearrange\n",
    "freqs_rep = repeat(freqs, '... n -> ... (n r)', r = 2)\n",
    "sns.heatmap(freqs_rep.detach().cpu().numpy(), cmap='Blues', robust=True)"
   ]
  },
  {
   "cell_type": "code",
   "execution_count": 153,
   "id": "ea0e149e-eb4d-4a2a-a42c-7aaaaefd64cb",
   "metadata": {
    "pycharm": {
     "name": "#%%\n"
    }
   },
   "outputs": [],
   "source": [
    "def rotate_half(x):\n",
    "    x = rearrange(x, '... (d r) -> ... d r', r = 2)\n",
    "    x1, x2 = x.unbind(dim = -1)\n",
    "    x = torch.stack((-x2, x1), dim = -1)\n",
    "    return rearrange(x, '... d r -> ... (d r)')"
   ]
  },
  {
   "cell_type": "code",
   "execution_count": 160,
   "id": "11db93c0-e20f-4187-bf9e-d2e39574d2d1",
   "metadata": {
    "pycharm": {
     "name": "#%%\n"
    }
   },
   "outputs": [],
   "source": [
    "#apply rotation\n",
    "start_index=0\n",
    "rot_dim = freqs_rep.shape[-1]\n",
    "end_index = start_index + rot_dim\n",
    "t=torch.tensor(query).to(DEVICE) #note here t is a bit different then previously, we'll rotate a query\n",
    "assert rot_dim <= t.shape[-1], f'feature dimension {t.shape[-1]} is not of sufficient size to rotate in all the positions {rot_dim}'\n",
    "t_left, t, t_right = t[..., :start_index], t[..., start_index:end_index], t[..., end_index:]\n",
    "scale=1.0\n",
    "t = (t * freqs_rep.cos() * scale) + (rotate_half(t) * freqs_rep.sin() * scale) #formula 34 on paper \n",
    "#\"ROFORMER: ENHANCED TRANSFORMER WITH ROTARY POSITION EMBEDDING\"  "
   ]
  },
  {
   "cell_type": "code",
   "execution_count": 162,
   "id": "7076f006-352c-4c0c-93c4-8f929c4db8a8",
   "metadata": {
    "pycharm": {
     "name": "#%%\n"
    }
   },
   "outputs": [
    {
     "data": {
      "text/plain": [
       "torch.Size([1, 8, 40, 64])"
      ]
     },
     "execution_count": 162,
     "metadata": {},
     "output_type": "execute_result"
    }
   ],
   "source": [
    "t.shape"
   ]
  },
  {
   "cell_type": "code",
   "execution_count": 163,
   "id": "ae28e760-fec9-4f3b-83b8-02b9cefbefb9",
   "metadata": {
    "pycharm": {
     "name": "#%%\n"
    }
   },
   "outputs": [
    {
     "data": {
      "image/png": "[encoded data removed]",
      "text/plain": [
       "<Figure size 432x288 with 2 Axes>"
      ]
     },
     "metadata": {
      "needs_background": "light"
     },
     "output_type": "display_data"
    },
    {
     "data": {
      "image/png": "[encoded data removed]",
      "text/plain": [
       "<Figure size 432x288 with 2 Axes>"
      ]
     },
     "metadata": {
      "needs_background": "light"
     },
     "output_type": "display_data"
    },
    {
     "data": {
      "image/png": "[encoded data removed]",
      "text/plain": [
       "<Figure size 432x288 with 2 Axes>"
      ]
     },
     "metadata": {
      "needs_background": "light"
     },
     "output_type": "display_data"
    },
    {
     "data": {
      "image/png": "[encoded data removed]",
      "text/plain": [
       "<Figure size 432x288 with 2 Axes>"
      ]
     },
     "metadata": {
      "needs_background": "light"
     },
     "output_type": "display_data"
    },
    {
     "data": {
      "image/png": "[encoded data removed]",
      "text/plain": [
       "<Figure size 432x288 with 2 Axes>"
      ]
     },
     "metadata": {
      "needs_background": "light"
     },
     "output_type": "display_data"
    },
    {
     "data": {
      "image/png": "[encoded data removed]",
      "text/plain": [
       "<Figure size 432x288 with 2 Axes>"
      ]
     },
     "metadata": {
      "needs_background": "light"
     },
     "output_type": "display_data"
    },
    {
     "data": {
      "image/png": "[encoded data removed]",
      "text/plain": [
       "<Figure size 432x288 with 2 Axes>"
      ]
     },
     "metadata": {
      "needs_background": "light"
     },
     "output_type": "display_data"
    },
    {
     "data": {
      "image/png": "[encoded data removed]",
      "text/plain": [
       "<Figure size 432x288 with 2 Axes>"
      ]
     },
     "metadata": {
      "needs_background": "light"
     },
     "output_type": "display_data"
    }
   ],
   "source": [
    "# plotrotations of all of the heads\n",
    "for i in range(t.shape[1]):\n",
    "    sns.heatmap(t[0][i].detach().cpu().numpy())\n",
    "    plt.show()"
   ]
  },
  {
   "cell_type": "code",
   "execution_count": null,
   "id": "74f6dede-e996-437e-8892-0ab304c4d959",
   "metadata": {
    "pycharm": {
     "name": "#%%\n"
    }
   },
   "outputs": [],
   "source": []
  }
 ],
 "metadata": {
  "kernelspec": {
   "display_name": "Python 3 (ipykernel)",
   "language": "python",
   "name": "python3"
  },
  "language_info": {
   "codemirror_mode": {
    "name": "ipython",
    "version": 3
   },
   "file_extension": ".py",
   "mimetype": "text/x-python",
   "name": "python",
   "nbconvert_exporter": "python",
   "pygments_lexer": "ipython3",
   "version": "3.9.13"
  }
 },
 "nbformat": 4,
 "nbformat_minor": 5
}