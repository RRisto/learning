{
 "cells": [
  {
   "cell_type": "code",
   "execution_count": 414,
   "id": "357b4dda-d5d5-4f76-9c24-90176048fdff",
   "metadata": {
    "pycharm": {
     "name": "#%%\n"
    }
   },
   "outputs": [],
   "source": [
    "import re\n",
    "import sys\n",
    "import pdb\n",
    "import inspect\n",
    "from operator import attrgetter,itemgetter\n",
    "from collections.abc import Mapping\n",
    "from functools import partial\n",
    "import torch\n",
    "import torch.nn as nn\n",
    "import torch.nn.functional as F\n",
    "from torch.utils.data import DataLoader, Dataset, default_collate\n",
    "import numpy as np\n",
    "import pandas as pd\n",
    "import matplotlib.pyplot as plt\n",
    "\n",
    "from fastprogress import progress_bar,master_bar"
   ]
  },
  {
   "cell_type": "markdown",
   "id": "ffe665eb-975c-4da7-ab84-8c48320d04aa",
   "metadata": {
    "pycharm": {
     "name": "#%% md\n"
    }
   },
   "source": [
    "## Generate data - simple x^2 function"
   ]
  },
  {
   "cell_type": "code",
   "execution_count": 415,
   "id": "e8279286-67aa-4a63-94e8-3eddacc164f9",
   "metadata": {
    "pycharm": {
     "name": "#%%\n"
    }
   },
   "outputs": [],
   "source": [
    "n_samples = 2000\n",
    "x_all = np.random.uniform(-2, 2, size=(n_samples, 1)).astype('float32').squeeze()#+np.random.random(n_samples)\n",
    "y_all = x_all ** 2 +np.random.random(n_samples)*0.5\n",
    "y_all=y_all/y_all.max()"
   ]
  },
  {
   "cell_type": "code",
   "execution_count": 416,
   "id": "206acccc-a049-4b49-900b-ed6089d08706",
   "metadata": {
    "pycharm": {
     "name": "#%%\n"
    }
   },
   "outputs": [
    {
     "data": {
      "text/plain": [
       "[<matplotlib.lines.Line2D at 0x7f2223c8d370>]"
      ]
     },
     "execution_count": 416,
     "metadata": {},
     "output_type": "execute_result"
    },
    {
     "data": {
      "image/png": "[encoded data removed]",
      "text/plain": [
       "<Figure size 432x288 with 1 Axes>"
      ]
     },
     "metadata": {
      "needs_background": "light"
     },
     "output_type": "display_data"
    }
   ],
   "source": [
    "plt.plot(x_all, y_all, \"o\")"
   ]
  },
  {
   "cell_type": "code",
   "execution_count": 417,
   "id": "2ac1dacb-45b7-4c7f-a667-e5d0690c1a12",
   "metadata": {
    "pycharm": {
     "name": "#%%\n"
    }
   },
   "outputs": [
    {
     "data": {
      "text/plain": [
       "(2000, 2)"
      ]
     },
     "execution_count": 417,
     "metadata": {},
     "output_type": "execute_result"
    }
   ],
   "source": [
    "df_all=pd.DataFrame({'x':x_all, 'y':y_all})\n",
    "df_all.shape"
   ]
  },
  {
   "cell_type": "code",
   "execution_count": 418,
   "id": "046b958f-5db5-474a-b248-0c674309a85c",
   "metadata": {
    "pycharm": {
     "name": "#%%\n"
    }
   },
   "outputs": [
    {
     "data": {
      "text/plain": [
       "((1600, 2), (400, 2))"
      ]
     },
     "execution_count": 418,
     "metadata": {},
     "output_type": "execute_result"
    }
   ],
   "source": [
    "df_train=df_all.sample(frac=0.8, random_state=1)\n",
    "df_test=df_all[~df_all.index.isin(df_train.index)]\n",
    "df_train=df_train.reset_index(drop=True)\n",
    "df_test=df_test.reset_index(drop=True)\n",
    "df_train.shape, df_test.shape"
   ]
  },
  {
   "cell_type": "markdown",
   "id": "2d56d846-b719-4aa2-8e0d-f7818049e498",
   "metadata": {
    "pycharm": {
     "name": "#%% md\n"
    }
   },
   "source": [
    "## Callbacks decorator"
   ]
  },
  {
   "cell_type": "code",
   "execution_count": 419,
   "id": "422db363-7700-456b-8caa-600b55ad01ac",
   "metadata": {
    "pycharm": {
     "name": "#%%\n"
    }
   },
   "outputs": [],
   "source": [
    "class with_cbs:\n",
    "    def __init__(self, nm): \n",
    "        self.nm = nm\n",
    "    def __call__(self, f):\n",
    "        def _f(o, *args, **kwargs):\n",
    "            #o is learner object\n",
    "            try:\n",
    "                # print(f'o in {o}')\n",
    "                o.callback(f'before_{self.nm}')\n",
    "                f(o, *args, **kwargs)\n",
    "                o.callback(f'after_{self.nm}')\n",
    "            except globals()[f'Cancel{self.nm.title()}Exception']: pass\n",
    "        return _f"
   ]
  },
  {
   "cell_type": "markdown",
   "id": "6d62cfd5-7332-494d-b320-64f26338cdc1",
   "metadata": {
    "pycharm": {
     "name": "#%% md\n"
    }
   },
   "source": [
    "## Learner class"
   ]
  },
  {
   "cell_type": "code",
   "execution_count": 420,
   "id": "e3e4aef5-d13a-4c6a-bdc9-e70742e71ba7",
   "metadata": {
    "pycharm": {
     "name": "#%%\n"
    }
   },
   "outputs": [],
   "source": [
    "def identity(*args):\n",
    "    if not args: return\n",
    "    # pdb.set_trace()\n",
    "    x,*args = args\n",
    "    return (x,)+args if args else x"
   ]
  },
  {
   "cell_type": "code",
   "execution_count": 421,
   "id": "1970e5e7-e344-41be-92ce-93fafc461d35",
   "metadata": {
    "pycharm": {
     "name": "#%%\n"
    }
   },
   "outputs": [],
   "source": [
    "def _store_attr(self, anno, **attrs):\n",
    "    stored = getattr(self, '__stored_args__', None)\n",
    "    for n,v in attrs.items():\n",
    "        if n in anno: \n",
    "            v = anno[n](v)\n",
    "        setattr(self, n, v)\n",
    "        if stored is not None: \n",
    "            stored[n] = v\n",
    "        \n",
    "def argnames(f, frame=False):\n",
    "    \"Names of arguments to function or frame `f`\"\n",
    "    code = getattr(f, 'f_code' if frame else '__code__')\n",
    "    return code.co_varnames[:code.co_argcount+code.co_kwonlyargcount]\n",
    "\n",
    "def store_attr(names=None, self=None, but='', cast=False, store_args=None, **attrs):\n",
    "    \"Store params named in comma-separated `names` from calling context into attrs in `self`\"\n",
    "    fr = sys._getframe(1)\n",
    "    args = argnames(fr, True)\n",
    "    if self: \n",
    "        args = ('self', *args)\n",
    "    else: \n",
    "        self = fr.f_locals[args[0]]\n",
    "    if store_args is None: \n",
    "        store_args = not hasattr(self,'__slots__')\n",
    "    if store_args and not hasattr(self, '__stored_args__'): \n",
    "        self.__stored_args__ = {}\n",
    "    anno = annotations(self) if cast else {}\n",
    "    if names and isinstance(names,str): \n",
    "        names = re.split(', *', names)\n",
    "    ns = names if names is not None else getattr(self, '__slots__', args[1:])\n",
    "    added = {n:fr.f_locals[n] for n in ns}\n",
    "    attrs = {**attrs, **added}\n",
    "    if isinstance(but,str): \n",
    "        but = re.split(', *', but)\n",
    "    attrs = {k:v for k,v in attrs.items() if k not in but}\n",
    "    return _store_attr(self, anno, **attrs)"
   ]
  },
  {
   "cell_type": "code",
   "execution_count": 422,
   "id": "5edeab00-c05a-4b60-9bb3-ede86a65f51f",
   "metadata": {
    "pycharm": {
     "name": "#%%\n"
    }
   },
   "outputs": [],
   "source": [
    "def save_attrs():\n",
    "    #my version, took only parts needed for current case\n",
    "    frame=True\n",
    "    names=None\n",
    "    but=''\n",
    "    #pdb.set_trace()\n",
    "    fr = sys._getframe(1)\n",
    "    code = getattr(fr, 'f_code')\n",
    "    args= code.co_varnames[:code.co_argcount+code.co_kwonlyargcount]\n",
    "    self=fr.f_locals[args[0]]\n",
    "    store_args = not hasattr(self,'__slots__')\n",
    "    if store_args and not hasattr(self, '__stored_args__'): \n",
    "            self.__stored_args__ = {}\n",
    "    anno =  {}\n",
    "    ns=getattr(self, '__slots__', args[1:])\n",
    "    added = {n:fr.f_locals[n] for n in ns}\n",
    "    attrs = {**added}\n",
    "    if isinstance(but,str): \n",
    "        but = re.split(', *', but)\n",
    "    attrs = {k:v for k,v in attrs.items() if k not in but}\n",
    "\n",
    "    stored = getattr(self, '__stored_args__', None)\n",
    "    for n,v in attrs.items():\n",
    "        if n in anno: \n",
    "            v = anno[n](v)\n",
    "        setattr(self, n, v)\n",
    "        if stored is not None: \n",
    "            stored[n] = v\n",
    "            \n",
    "#alternative inside class:\n",
    "# frame = inspect.currentframe()\n",
    "# args, _, _, values = inspect.getargvalues(frame)\n",
    "#later filter args you want to store as object attribute"
   ]
  },
  {
   "cell_type": "code",
   "execution_count": 423,
   "id": "f69d4783-85d7-42c3-9555-9546afead5a4",
   "metadata": {
    "pycharm": {
     "name": "#%%\n"
    }
   },
   "outputs": [],
   "source": [
    "class Learner():\n",
    "    def __init__(self, model, dls, loss_func, lr, cbs, opt_func=torch.optim.SGD):\n",
    "        # store_attr()\n",
    "        save_attrs()\n",
    "        for cb in cbs: \n",
    "            cb.learn = self\n",
    "\n",
    "    @with_cbs('batch')\n",
    "    def one_batch(self):\n",
    "        self.predict()\n",
    "        self.get_loss()\n",
    "        if self.model.training:\n",
    "            self.backward()\n",
    "            self.step()\n",
    "            self.zero_grad()\n",
    "\n",
    "    def one_epoch(self, train):\n",
    "        self.model.train(train)\n",
    "        self.dl = self.dls.train if train else self.dls.valid\n",
    "        self._one_epoch()\n",
    "\n",
    "    @with_cbs('epoch')\n",
    "    def _one_epoch(self):\n",
    "        for self.iter,self.batch in enumerate(self.dl): \n",
    "            self.one_batch()\n",
    "    \n",
    "    def fit(self, n_epochs):\n",
    "        self.n_epochs = n_epochs\n",
    "        self.epochs = range(n_epochs)\n",
    "        self.opt = self.opt_func(self.model.parameters(), self.lr)\n",
    "        self._fit()\n",
    "\n",
    "    @with_cbs('fit')\n",
    "    def _fit(self):\n",
    "        for self.epoch in self.epochs:\n",
    "            self.one_epoch(True)\n",
    "            self.one_epoch(False)\n",
    "        \n",
    "    def __getattr__(self, name):\n",
    "        #these are methods that are defined in training CB and turned into learner methods\n",
    "        if name in ('predict','get_loss','backward','step','zero_grad'): \n",
    "            return partial(self.callback, name)\n",
    "        raise AttributeError(name)\n",
    "\n",
    "    def callback(self, method_nm):\n",
    "        #loop through all the cbs and run method_nm in them\n",
    "        for cb in sorted(self.cbs, key=attrgetter('order')): \n",
    "            getattr(cb, method_nm, identity)()"
   ]
  },
  {
   "cell_type": "code",
   "execution_count": 424,
   "id": "c5e62f35-edac-4d27-a949-ed889dfcaea0",
   "metadata": {
    "pycharm": {
     "name": "#%%\n"
    }
   },
   "outputs": [],
   "source": [
    "identity()"
   ]
  },
  {
   "cell_type": "code",
   "execution_count": null,
   "id": "c6d8883a-a066-4196-a982-134579d7c33c",
   "metadata": {
    "pycharm": {
     "name": "#%%\n"
    }
   },
   "outputs": [],
   "source": []
  },
  {
   "cell_type": "markdown",
   "id": "c955ea71-bbbe-4669-87a7-8806978d670c",
   "metadata": {
    "pycharm": {
     "name": "#%% md\n"
    }
   },
   "source": [
    "## Callbacks classes"
   ]
  },
  {
   "cell_type": "code",
   "execution_count": 504,
   "id": "f769f531-727c-428f-977b-514e1a5df460",
   "metadata": {
    "pycharm": {
     "name": "#%%\n"
    }
   },
   "outputs": [],
   "source": [
    "class Callback(): order = 0"
   ]
  },
  {
   "cell_type": "code",
   "execution_count": 505,
   "id": "c3b8582a-5130-4763-b6a0-6312a5bae209",
   "metadata": {
    "pycharm": {
     "name": "#%%\n"
    }
   },
   "outputs": [],
   "source": [
    "class TrainCB(Callback):\n",
    "    def predict(self): \n",
    "        # pdb.set_trace()\n",
    "        self.learn.preds = self.learn.model(self.learn.batch[0].unsqueeze(1))\n",
    "    def get_loss(self): \n",
    "        self.learn.loss = self.learn.loss_func(self.learn.preds, self.learn.batch[1])\n",
    "    def backward(self): \n",
    "        self.learn.loss.backward()\n",
    "    def step(self): \n",
    "        self.learn.opt.step()\n",
    "    def zero_grad(self): \n",
    "        self.learn.opt.zero_grad()"
   ]
  },
  {
   "cell_type": "code",
   "execution_count": 506,
   "id": "29326d1f-6559-4454-8f53-9f76c06d70bc",
   "metadata": {
    "pycharm": {
     "name": "#%%\n"
    }
   },
   "outputs": [],
   "source": [
    "def to_cuda(x):\n",
    "    if isinstance(x, Mapping):\n",
    "        return {k:v.cuda() for k,v in x.items()}\n",
    "    return type(x)(o.cuda() for o in x)\n",
    "\n",
    "class CudaCB(Callback):\n",
    "    def before_fit(self): \n",
    "        self.learn.model.cuda()\n",
    "    def before_batch(self): \n",
    "        self.learn.batch = to_cuda(self.learn.batch)"
   ]
  },
  {
   "cell_type": "code",
   "execution_count": 507,
   "id": "98d9fb93-361d-45d7-89af-62aa639809d5",
   "metadata": {
    "pycharm": {
     "name": "#%%\n"
    }
   },
   "outputs": [],
   "source": [
    "class Metric:\n",
    "    def __init__(self): self.reset()\n",
    "    def reset(self): self.vals,self.ns = [],[]\n",
    "    def add(self, inp, targ=None, n=1):\n",
    "        self.last = self.calc(inp, targ)\n",
    "        self.vals.append(self.last)\n",
    "        self.ns.append(n)\n",
    "    @property\n",
    "    def value(self):\n",
    "        ns = torch.tensor(self.ns)\n",
    "        return (torch.tensor(self.vals)*ns).sum()/ns.sum()\n",
    "    def calc(self, inps, targs): return inps\n",
    "\n",
    "class MSE(Metric):\n",
    "    def calc(self, inps, targs):\n",
    "        return (inps - targs).pow(2).mean()"
   ]
  },
  {
   "cell_type": "code",
   "execution_count": 508,
   "id": "c80baab9-439b-4050-b09d-0d7dd55d7fa2",
   "metadata": {
    "pycharm": {
     "name": "#%%\n"
    }
   },
   "outputs": [],
   "source": [
    "class MetricsCB(Callback):\n",
    "    def __init__(self, metric=None):\n",
    "        self.loss_m = Metric()\n",
    "        self.all = [self.loss_m]\n",
    "        if metric:\n",
    "            self.metric = metric\n",
    "            self.all.append(metric)\n",
    "\n",
    "    def log(self, *s): \n",
    "        print(self.learn.epoch, self.learn.model.training, *s)\n",
    "    def before_fit(self): \n",
    "        self.learn.metrics = self\n",
    "\n",
    "    def before_epoch(self): \n",
    "        [o.reset() for o in self.all]\n",
    "    def after_epoch(self): \n",
    "        self.log(*[f'{o.value:.3f}' for o in self.all])\n",
    "\n",
    "    def after_batch(self):\n",
    "        if hasattr(self, 'metric'):\n",
    "            self.metric.add(self.learn.preds.argmax(dim=1), self.learn.batch[1])\n",
    "        self.loss_m.add(self.learn.loss, n=len(self.learn.batch[0]))"
   ]
  },
  {
   "cell_type": "code",
   "execution_count": 509,
   "id": "7e9a9b8f-36a9-4db7-8ded-baf0e7e1c561",
   "metadata": {
    "pycharm": {
     "name": "#%%\n"
    }
   },
   "outputs": [],
   "source": [
    "class ProgressCB(Callback):\n",
    "    order=MetricsCB.order+1\n",
    "    def __init__(self, plot=False): self.plot = plot\n",
    "    def before_fit(self):\n",
    "        self.learn.epochs = self.mbar = master_bar(self.learn.epochs)\n",
    "        if hasattr(self.learn, 'metrics'): \n",
    "            self.learn.metrics.log = self._log\n",
    "        self.losses = []\n",
    "    def _log(self, *s): self.mbar.write(' :: '.join(s))\n",
    "    def before_epoch(self): \n",
    "        self.learn.dl = progress_bar(self.learn.dl, leave=False, parent=self.mbar)\n",
    "    def after_batch(self):\n",
    "        self.learn.dl.comment = f'{self.learn.loss:.3f}'\n",
    "        if self.plot and hasattr(self.learn, 'metrics') and self.learn.model.training:\n",
    "            self.losses.append(self.learn.metrics.loss_m.last.item())\n",
    "            self.mbar.update_graph([[list(range(len(self.losses))), self.losses]])"
   ]
  },
  {
   "cell_type": "code",
   "execution_count": 523,
   "id": "e2964965-1e19-4403-866b-c7b1d0174e89",
   "metadata": {
    "pycharm": {
     "name": "#%%\n"
    }
   },
   "outputs": [],
   "source": [
    "class LrScheduler(Callback):\n",
    "    order=TrainCB.order+1\n",
    "    \n",
    "    def __init__(self, step_size=2, gamma=0.1):\n",
    "        self.step_size=step_size\n",
    "        self.gamma=gamma\n",
    "        \n",
    "    def before_fit(self):\n",
    "        self.learn.scheduler=torch.optim.lr_scheduler.StepLR(self.learn.opt, step_size=self.step_size, gamma=self.gamma)\n",
    "        self.learn.lrs=[]\n",
    "        \n",
    "    def before_batch(self):\n",
    "        self.learn.lrs.append(self.learn.opt.param_groups[0][\"lr\"])\n",
    "        \n",
    "    def after_batch(self):\n",
    "        self.learn.scheduler.step()\n",
    "        "
   ]
  },
  {
   "cell_type": "markdown",
   "id": "c9315dc4-20f5-46f5-a69a-b3dfac9de4c2",
   "metadata": {
    "pycharm": {
     "name": "#%% md\n"
    }
   },
   "source": [
    "## Dataloader"
   ]
  },
  {
   "cell_type": "code",
   "execution_count": 524,
   "id": "fb341b2b-9942-490d-afe5-39400c216f4c",
   "metadata": {
    "pycharm": {
     "name": "#%%\n"
    }
   },
   "outputs": [],
   "source": [
    "class SimpleDataset(Dataset):\n",
    "    def __init__(self, x, y): \n",
    "        self.x=torch.tensor(x, dtype=torch.float32)\n",
    "        self.y=torch.tensor(y, dtype=torch.float32)\n",
    " \n",
    "    def __len__(self):\n",
    "        return len(self.y)\n",
    "   \n",
    "    def __getitem__(self,idx):\n",
    "        return self.x[idx],self.y[idx]"
   ]
  },
  {
   "cell_type": "code",
   "execution_count": 525,
   "id": "463542e8-e22c-4a5c-a2a7-c40154bd6dfa",
   "metadata": {
    "pycharm": {
     "name": "#%%\n"
    }
   },
   "outputs": [],
   "source": [
    "class DataLoaders:\n",
    "    def __init__(self, *dls): self.train,self.valid = dls[:2]\n",
    "\n",
    "    @classmethod\n",
    "    def from_dd(cls, dds, batch_size=128, as_tuple=True):\n",
    "        return cls(*[DataLoader(ds, batch_size) for ds in dds])"
   ]
  },
  {
   "cell_type": "code",
   "execution_count": 539,
   "id": "f6ff6134-51aa-4a55-b5fa-b5a823dc1774",
   "metadata": {
    "pycharm": {
     "name": "#%%\n"
    }
   },
   "outputs": [],
   "source": [
    "ds_train=SimpleDataset(df_train.x, df_train.y)\n",
    "ds_test=SimpleDataset(df_test.x, df_test.y)\n",
    "\n",
    "dls=DataLoaders.from_dd((ds_train, ds_test))"
   ]
  },
  {
   "cell_type": "code",
   "execution_count": 540,
   "id": "66f193fb-bc2e-410d-a2fe-abfd83294383",
   "metadata": {
    "pycharm": {
     "name": "#%%\n"
    }
   },
   "outputs": [],
   "source": [
    "# dt = dls.valid\n",
    "# xb,yb = next(iter(dt))\n",
    "# xb.shape,yb[:10]"
   ]
  },
  {
   "cell_type": "markdown",
   "id": "0a1fa03c-6f83-46d4-b257-2166d0b2b426",
   "metadata": {
    "pycharm": {
     "name": "#%% md\n"
    }
   },
   "source": [
    "## Model"
   ]
  },
  {
   "cell_type": "code",
   "execution_count": 577,
   "id": "eca9d463-e8de-4c9f-ad65-590eaec289a1",
   "metadata": {
    "pycharm": {
     "name": "#%%\n"
    }
   },
   "outputs": [],
   "source": [
    "n_hidden=50\n",
    "model = nn.Sequential(nn.Linear(1, n_hidden), \n",
    "                          nn.ReLU(), \n",
    "                          nn.Linear(n_hidden, 1))"
   ]
  },
  {
   "cell_type": "markdown",
   "id": "291a6648-989e-4b39-8424-10b400a4a8a0",
   "metadata": {
    "pycharm": {
     "name": "#%% md\n"
    }
   },
   "source": [
    "## Init cbs and learner"
   ]
  },
  {
   "cell_type": "code",
   "execution_count": 589,
   "id": "8ec4c310-4d61-47c2-8e6f-1c09a12a5281",
   "metadata": {
    "pycharm": {
     "name": "#%%\n"
    }
   },
   "outputs": [],
   "source": [
    "cbs = [TrainCB(), LrScheduler(step_size=20, gamma=0.2), CudaCB(), MetricsCB(MSE()), ProgressCB(plot=True)]\n",
    "# cbs = [TrainCB(), CudaCB(), MetricsCB(MSE())]"
   ]
  },
  {
   "cell_type": "code",
   "execution_count": 590,
   "id": "0990129a-026a-4a7c-bc04-0ccb70896649",
   "metadata": {
    "pycharm": {
     "name": "#%%\n"
    }
   },
   "outputs": [],
   "source": [
    "# learn = Learner(model, dls, F.mse_loss, lr=0.01, cbs=cbs, opt_func=partial(torch.optim.SGD, momentum=0.8))\n",
    "learn = Learner(model, dls, F.mse_loss, lr=0.01, cbs=cbs, opt_func=torch.optim.SGD)"
   ]
  },
  {
   "cell_type": "markdown",
   "id": "9b368941-823a-4158-aa65-6df9e86c7681",
   "metadata": {
    "pycharm": {
     "name": "#%% md\n"
    }
   },
   "source": [
    "## Fit"
   ]
  },
  {
   "cell_type": "code",
   "execution_count": 593,
   "id": "af17a4e6-be5d-42d8-aa07-764e001d5b28",
   "metadata": {
    "pycharm": {
     "name": "#%%\n"
    }
   },
   "outputs": [
    {
     "data": {
      "text/html": [
       "\n",
       "<style>\n",
       "    /* Turns off some styling */\n",
       "    progress {\n",
       "        /* gets rid of default border in Firefox and Opera. */\n",
       "        border: none;\n",
       "        /* Needs to be in here for Safari polyfill so background images work as expected. */\n",
       "        background-size: auto;\n",
       "    }\n",
       "    progress:not([value]), progress:not([value])::-webkit-progress-bar {\n",
       "        background: repeating-linear-gradient(45deg, #7e7e7e, #7e7e7e 10px, #5c5c5c 10px, #5c5c5c 20px);\n",
       "    }\n",
       "    .progress-bar-interrupted, .progress-bar-interrupted::-webkit-progress-bar {\n",
       "        background: #F44336;\n",
       "    }\n",
       "</style>\n"
      ],
      "text/plain": [
       "<IPython.core.display.HTML object>"
      ]
     },
     "metadata": {},
     "output_type": "display_data"
    },
    {
     "data": {
      "text/html": [
       "0.075 :: 0.201<p>0.077 :: 0.210<p>0.074 :: 0.201<p>0.077 :: 0.210<p>0.074 :: 0.201<p>0.077 :: 0.210<p>0.074 :: 0.201<p>0.077 :: 0.210<p>0.074 :: 0.201<p>0.077 :: 0.210"
      ],
      "text/plain": [
       "<IPython.core.display.HTML object>"
      ]
     },
     "metadata": {},
     "output_type": "display_data"
    },
    {
     "name": "stderr",
     "output_type": "stream",
     "text": [
      "/tmp/ipykernel_309/3698955683.py:6: UserWarning: Using a target size (torch.Size([128])) that is different to the input size (torch.Size([128, 1])). This will likely lead to incorrect results due to broadcasting. Please ensure they have the same size.\n",
      "  self.learn.loss = self.learn.loss_func(self.learn.preds, self.learn.batch[1])\n"
     ]
    },
    {
     "data": {
      "image/png": "[encoded data removed]",
      "text/plain": [
       "<Figure size 432x288 with 1 Axes>"
      ]
     },
     "metadata": {},
     "output_type": "display_data"
    },
    {
     "name": "stderr",
     "output_type": "stream",
     "text": [
      "/tmp/ipykernel_309/3698955683.py:6: UserWarning: Using a target size (torch.Size([64])) that is different to the input size (torch.Size([64, 1])). This will likely lead to incorrect results due to broadcasting. Please ensure they have the same size.\n",
      "  self.learn.loss = self.learn.loss_func(self.learn.preds, self.learn.batch[1])\n",
      "/tmp/ipykernel_309/3698955683.py:6: UserWarning: Using a target size (torch.Size([16])) that is different to the input size (torch.Size([16, 1])). This will likely lead to incorrect results due to broadcasting. Please ensure they have the same size.\n",
      "  self.learn.loss = self.learn.loss_func(self.learn.preds, self.learn.batch[1])\n"
     ]
    }
   ],
   "source": [
    "learn.fit(5)"
   ]
  },
  {
   "cell_type": "code",
   "execution_count": 594,
   "id": "e283a88b-ab9c-4ce6-b3d4-2523302b38b3",
   "metadata": {
    "pycharm": {
     "name": "#%%\n"
    }
   },
   "outputs": [],
   "source": [
    "# learn.metrics.all[0].vals"
   ]
  },
  {
   "cell_type": "code",
   "execution_count": 595,
   "id": "2033a68c-8efd-4ba3-87d7-210577f41764",
   "metadata": {
    "pycharm": {
     "name": "#%%\n"
    }
   },
   "outputs": [],
   "source": [
    "# learn.metrics.all[1].vals"
   ]
  },
  {
   "cell_type": "markdown",
   "id": "a2832275-81e2-4e82-ab1e-f59b16850a3a",
   "metadata": {
    "pycharm": {
     "name": "#%% md\n"
    }
   },
   "source": [
    "## Predict"
   ]
  },
  {
   "cell_type": "code",
   "execution_count": 596,
   "id": "d0cebccb-4df9-4784-9bcb-c56861ef8b50",
   "metadata": {
    "pycharm": {
     "name": "#%%\n"
    }
   },
   "outputs": [],
   "source": [
    "y_reals=[]\n",
    "y_preds=[]\n",
    "inps=[]\n",
    "\n",
    "for batch in dls.valid:\n",
    "    y_pred_=model(batch[0].to('cuda').unsqueeze(1))\n",
    "    y_real_=batch[1]\n",
    "    y_reals.extend(y_real_.detach().numpy())\n",
    "    y_preds.extend(y_pred_.squeeze(1).cpu().detach().numpy())\n",
    "    inps.extend(batch[0].detach().numpy())"
   ]
  },
  {
   "cell_type": "code",
   "execution_count": 597,
   "id": "b0c56ea1-4aad-4815-88dc-807ed9895aa6",
   "metadata": {
    "pycharm": {
     "name": "#%%\n"
    }
   },
   "outputs": [
    {
     "data": {
      "text/plain": [
       "Text(0, 0.5, 'predicted')"
      ]
     },
     "execution_count": 597,
     "metadata": {},
     "output_type": "execute_result"
    },
    {
     "data": {
      "image/png": "[encoded data removed]",
      "text/plain": [
       "<Figure size 432x288 with 1 Axes>"
      ]
     },
     "metadata": {
      "needs_background": "light"
     },
     "output_type": "display_data"
    }
   ],
   "source": [
    "plt.scatter(y_reals, y_preds)\n",
    "plt.xlabel('real')\n",
    "plt.ylabel('predicted')"
   ]
  },
  {
   "cell_type": "code",
   "execution_count": 598,
   "id": "42e1cb2b-e1c1-4257-b890-8667301a32d8",
   "metadata": {
    "pycharm": {
     "name": "#%%\n"
    }
   },
   "outputs": [
    {
     "data": {
      "text/plain": [
       "Text(0, 0.5, 'y actual')"
      ]
     },
     "execution_count": 598,
     "metadata": {},
     "output_type": "execute_result"
    },
    {
     "data": {
      "image/png": "[encoded data removed]",
      "text/plain": [
       "<Figure size 432x288 with 1 Axes>"
      ]
     },
     "metadata": {
      "needs_background": "light"
     },
     "output_type": "display_data"
    }
   ],
   "source": [
    "plt.scatter(inps, y_reals)\n",
    "plt.xlabel('x')\n",
    "plt.ylabel('y actual')"
   ]
  },
  {
   "cell_type": "code",
   "execution_count": 599,
   "id": "6be35ae0-648f-49cd-bc32-c9164dfb9bd6",
   "metadata": {
    "pycharm": {
     "name": "#%%\n"
    }
   },
   "outputs": [
    {
     "data": {
      "text/plain": [
       "Text(0, 0.5, 'y predicted')"
      ]
     },
     "execution_count": 599,
     "metadata": {},
     "output_type": "execute_result"
    },
    {
     "data": {
      "image/png": "[encoded data removed]",
      "text/plain": [
       "<Figure size 432x288 with 1 Axes>"
      ]
     },
     "metadata": {
      "needs_background": "light"
     },
     "output_type": "display_data"
    }
   ],
   "source": [
    "plt.scatter(inps, y_preds)\n",
    "plt.xlabel('x')\n",
    "plt.ylabel('y predicted')"
   ]
  },
  {
   "cell_type": "code",
   "execution_count": null,
   "id": "5b95c5ce-6317-48e0-861b-f52376c3eee4",
   "metadata": {
    "pycharm": {
     "name": "#%%\n"
    }
   },
   "outputs": [],
   "source": []
  },
  {
   "cell_type": "code",
   "execution_count": null,
   "id": "f7eda15c-635c-4e0b-a085-a6ff0bcc232f",
   "metadata": {
    "pycharm": {
     "name": "#%%\n"
    }
   },
   "outputs": [],
   "source": []
  },
  {
   "cell_type": "code",
   "execution_count": null,
   "id": "b6914be1-6419-4755-be89-cb1afba04546",
   "metadata": {
    "pycharm": {
     "name": "#%%\n"
    }
   },
   "outputs": [],
   "source": []
  }
 ],
 "metadata": {
  "kernelspec": {
   "display_name": "Python 3 (ipykernel)",
   "language": "python",
   "name": "python3"
  },
  "language_info": {
   "codemirror_mode": {
    "name": "ipython",
    "version": 3
   },
   "file_extension": ".py",
   "mimetype": "text/x-python",
   "name": "python",
   "nbconvert_exporter": "python",
   "pygments_lexer": "ipython3",
   "version": "3.9.13"
  }
 },
 "nbformat": 4,
 "nbformat_minor": 5
}