{
 "cells": [
  {
   "cell_type": "markdown",
   "id": "ec4ea046-ac11-4cb8-9531-b6a90fea6ecb",
   "metadata": {},
   "source": [
    "# L5: Prompt Compression\n"
   ]
  },
  {
   "cell_type": "markdown",
   "id": "b74f85b7-00a0-4915-b9f5-ea916357a4ba",
   "metadata": {},
   "source": [
    "<p style=\"background-color:#fff6e4; padding:15px; border-width:3px; border-color:#f5ecda; border-style:solid; border-radius:6px\"> ⏳ <b>Note <code>(Kernel Starting)</code>:</b> This notebook takes about 30 seconds to be ready to use. You may start and watch the video while you wait.</p>"
   ]
  },
  {
   "cell_type": "code",
   "execution_count": 1,
   "id": "f51fd497-83e5-49fa-abf9-4df7f70276f7",
   "metadata": {
    "height": 64
   },
   "outputs": [],
   "source": [
    "# Warning control\n",
    "import warnings\n",
    "warnings.filterwarnings('ignore')"
   ]
  },
  {
   "cell_type": "code",
   "execution_count": 2,
   "id": "f475605b-e4bc-4d6e-993a-b5bee2f60951",
   "metadata": {
    "height": 30
   },
   "outputs": [],
   "source": [
    "#pip install llmlingua"
   ]
  },
  {
   "cell_type": "code",
   "execution_count": 3,
   "id": "1269d100-d775-44d0-9198-25a7194234f2",
   "metadata": {
    "height": 30
   },
   "outputs": [],
   "source": [
    "import custom_utils "
   ]
  },
  {
   "cell_type": "markdown",
   "id": "b136ae50-743e-4b4f-bede-201cdf68c13a",
   "metadata": {},
   "source": [
    "<p style=\"background-color:#fff6ff; padding:15px; border-width:3px; border-color:#efe6ef; border-style:solid; border-radius:6px\"> 💻 &nbsp; <b>Access <code>requirements.txt</code> and <code>utils</code> files:</b> To access <code>requirements.txt</code> for this notebook, 1) click on the <em>\"File\"</em> option on the top menu of the notebook and then 2) click on <em>\"Open\"</em>. For more help, please see the <em>\"Appendix - Tips and Help\"</em> Lesson.</p>"
   ]
  },
  {
   "cell_type": "markdown",
   "id": "ad100d3a-2878-49d8-9149-7cf17b762ae3",
   "metadata": {},
   "source": [
    "## Data Loading"
   ]
  },
  {
   "cell_type": "code",
   "execution_count": 4,
   "id": "6ba54c1f-108c-49f2-bcdb-234c06df3eaa",
   "metadata": {
    "height": 166
   },
   "outputs": [
    {
     "data": {
      "application/vnd.jupyter.widget-view+json": {
       "model_id": "d5a8041dbc8d4df9b411072a9550a8e8",
       "version_major": 2,
       "version_minor": 0
      },
      "text/plain": [
       "Downloading readme:   0%|          | 0.00/4.84k [00:00<?, ?B/s]"
      ]
     },
     "metadata": {},
     "output_type": "display_data"
    },
    {
     "data": {
      "text/html": [
       "<div>\n",
       "<style scoped>\n",
       "    .dataframe tbody tr th:only-of-type {\n",
       "        vertical-align: middle;\n",
       "    }\n",
       "\n",
       "    .dataframe tbody tr th {\n",
       "        vertical-align: top;\n",
       "    }\n",
       "\n",
       "    .dataframe thead th {\n",
       "        text-align: right;\n",
       "    }\n",
       "</style>\n",
       "<table border=\"1\" class=\"dataframe\">\n",
       "  <thead>\n",
       "    <tr style=\"text-align: right;\">\n",
       "      <th></th>\n",
       "      <th>_id</th>\n",
       "      <th>listing_url</th>\n",
       "      <th>name</th>\n",
       "      <th>summary</th>\n",
       "      <th>space</th>\n",
       "      <th>description</th>\n",
       "      <th>neighborhood_overview</th>\n",
       "      <th>notes</th>\n",
       "      <th>transit</th>\n",
       "      <th>access</th>\n",
       "      <th>...</th>\n",
       "      <th>images</th>\n",
       "      <th>host</th>\n",
       "      <th>address</th>\n",
       "      <th>availability</th>\n",
       "      <th>review_scores</th>\n",
       "      <th>reviews</th>\n",
       "      <th>weekly_price</th>\n",
       "      <th>monthly_price</th>\n",
       "      <th>text_embeddings</th>\n",
       "      <th>image_embeddings</th>\n",
       "    </tr>\n",
       "  </thead>\n",
       "  <tbody>\n",
       "    <tr>\n",
       "      <th>0</th>\n",
       "      <td>10006546</td>\n",
       "      <td>https://www.airbnb.com/rooms/10006546</td>\n",
       "      <td>Ribeira Charming Duplex</td>\n",
       "      <td>Fantastic duplex apartment with three bedrooms...</td>\n",
       "      <td>Privileged views of the Douro River and Ribeir...</td>\n",
       "      <td>Fantastic duplex apartment with three bedrooms...</td>\n",
       "      <td>In the neighborhood of the river, you can find...</td>\n",
       "      <td>Lose yourself in the narrow streets and stairc...</td>\n",
       "      <td>Transport: • Metro station and S. Bento railwa...</td>\n",
       "      <td>We are always available to help guests. The ho...</td>\n",
       "      <td>...</td>\n",
       "      <td>{'thumbnail_url': '', 'medium_url': '', 'pictu...</td>\n",
       "      <td>{'host_id': '51399391', 'host_url': 'https://w...</td>\n",
       "      <td>{'street': 'Porto, Porto, Portugal', 'suburb':...</td>\n",
       "      <td>{'availability_30': 28, 'availability_60': 47,...</td>\n",
       "      <td>{'review_scores_accuracy': 9, 'review_scores_c...</td>\n",
       "      <td>[{'_id': '58663741', 'date': 2016-01-03 05:00:...</td>\n",
       "      <td>NaN</td>\n",
       "      <td>NaN</td>\n",
       "      <td>[0.0123710884, -0.0180913936, -0.016843712, -0...</td>\n",
       "      <td>[-0.1302358955, 0.1534578055, 0.0199299306, -0...</td>\n",
       "    </tr>\n",
       "    <tr>\n",
       "      <th>1</th>\n",
       "      <td>10021707</td>\n",
       "      <td>https://www.airbnb.com/rooms/10021707</td>\n",
       "      <td>Private Room in Bushwick</td>\n",
       "      <td>Here exists a very cozy room for rent in a sha...</td>\n",
       "      <td></td>\n",
       "      <td>Here exists a very cozy room for rent in a sha...</td>\n",
       "      <td></td>\n",
       "      <td></td>\n",
       "      <td></td>\n",
       "      <td></td>\n",
       "      <td>...</td>\n",
       "      <td>{'thumbnail_url': '', 'medium_url': '', 'pictu...</td>\n",
       "      <td>{'host_id': '11275734', 'host_url': 'https://w...</td>\n",
       "      <td>{'street': 'Brooklyn, NY, United States', 'sub...</td>\n",
       "      <td>{'availability_30': 0, 'availability_60': 0, '...</td>\n",
       "      <td>{'review_scores_accuracy': 10, 'review_scores_...</td>\n",
       "      <td>[{'_id': '61050713', 'date': 2016-01-31 05:00:...</td>\n",
       "      <td>NaN</td>\n",
       "      <td>NaN</td>\n",
       "      <td>[0.0153845912, -0.0348115042, -0.0093448907, 0...</td>\n",
       "      <td>[0.0340401195, 0.1742489338, -0.1572628617, 0....</td>\n",
       "    </tr>\n",
       "    <tr>\n",
       "      <th>2</th>\n",
       "      <td>1001265</td>\n",
       "      <td>https://www.airbnb.com/rooms/1001265</td>\n",
       "      <td>Ocean View Waikiki Marina w/prkg</td>\n",
       "      <td>A short distance from Honolulu's billion dolla...</td>\n",
       "      <td>Great studio located on Ala Moana across the s...</td>\n",
       "      <td>A short distance from Honolulu's billion dolla...</td>\n",
       "      <td>You can breath ocean as well as aloha.</td>\n",
       "      <td></td>\n",
       "      <td>Honolulu does have a very good air conditioned...</td>\n",
       "      <td>Pool, hot tub and tennis</td>\n",
       "      <td>...</td>\n",
       "      <td>{'thumbnail_url': '', 'medium_url': '', 'pictu...</td>\n",
       "      <td>{'host_id': '5448114', 'host_url': 'https://ww...</td>\n",
       "      <td>{'street': 'Honolulu, HI, United States', 'sub...</td>\n",
       "      <td>{'availability_30': 16, 'availability_60': 46,...</td>\n",
       "      <td>{'review_scores_accuracy': 9, 'review_scores_c...</td>\n",
       "      <td>[{'_id': '4765259', 'date': 2013-05-24 04:00:0...</td>\n",
       "      <td>650.0</td>\n",
       "      <td>2150.0</td>\n",
       "      <td>[-0.0400562622, -0.0405789167, 0.000644172, 0....</td>\n",
       "      <td>[-0.1640156209, 0.1256971657, 0.6594450474, -0...</td>\n",
       "    </tr>\n",
       "    <tr>\n",
       "      <th>3</th>\n",
       "      <td>10009999</td>\n",
       "      <td>https://www.airbnb.com/rooms/10009999</td>\n",
       "      <td>Horto flat with small garden</td>\n",
       "      <td>One bedroom + sofa-bed in quiet and bucolic ne...</td>\n",
       "      <td>Lovely one bedroom + sofa-bed in the living ro...</td>\n",
       "      <td>One bedroom + sofa-bed in quiet and bucolic ne...</td>\n",
       "      <td>This charming ground floor flat is located in ...</td>\n",
       "      <td>There´s a table in the living room now, that d...</td>\n",
       "      <td>Easy access to transport (bus, taxi, car) and ...</td>\n",
       "      <td></td>\n",
       "      <td>...</td>\n",
       "      <td>{'thumbnail_url': '', 'medium_url': '', 'pictu...</td>\n",
       "      <td>{'host_id': '1282196', 'host_url': 'https://ww...</td>\n",
       "      <td>{'street': 'Rio de Janeiro, Rio de Janeiro, Br...</td>\n",
       "      <td>{'availability_30': 0, 'availability_60': 0, '...</td>\n",
       "      <td>{'review_scores_accuracy': None, 'review_score...</td>\n",
       "      <td>[]</td>\n",
       "      <td>1492.0</td>\n",
       "      <td>4849.0</td>\n",
       "      <td>[-0.063234821, 0.0017937823, -0.0243996996, -0...</td>\n",
       "      <td>[-0.1292964518, 0.037789464, 0.2443587631, 0.0...</td>\n",
       "    </tr>\n",
       "    <tr>\n",
       "      <th>4</th>\n",
       "      <td>10047964</td>\n",
       "      <td>https://www.airbnb.com/rooms/10047964</td>\n",
       "      <td>Charming Flat in Downtown Moda</td>\n",
       "      <td>Fully furnished 3+1 flat decorated with vintag...</td>\n",
       "      <td>The apartment is composed of 1 big bedroom wit...</td>\n",
       "      <td>Fully furnished 3+1 flat decorated with vintag...</td>\n",
       "      <td>With its diversity Moda- Kadikoy is one of the...</td>\n",
       "      <td></td>\n",
       "      <td></td>\n",
       "      <td></td>\n",
       "      <td>...</td>\n",
       "      <td>{'thumbnail_url': '', 'medium_url': '', 'pictu...</td>\n",
       "      <td>{'host_id': '1241644', 'host_url': 'https://ww...</td>\n",
       "      <td>{'street': 'Kadıköy, İstanbul, Turkey', 'subur...</td>\n",
       "      <td>{'availability_30': 27, 'availability_60': 57,...</td>\n",
       "      <td>{'review_scores_accuracy': 10, 'review_scores_...</td>\n",
       "      <td>[{'_id': '68162172', 'date': 2016-04-02 04:00:...</td>\n",
       "      <td>NaN</td>\n",
       "      <td>NaN</td>\n",
       "      <td>[0.023723349, 0.0064210771, -0.0339970738, -0....</td>\n",
       "      <td>[-0.1006749049, 0.4022984803, -0.1821258366, 0...</td>\n",
       "    </tr>\n",
       "  </tbody>\n",
       "</table>\n",
       "<p>5 rows × 43 columns</p>\n",
       "</div>"
      ],
      "text/plain": [
       "        _id                            listing_url  \\\n",
       "0  10006546  https://www.airbnb.com/rooms/10006546   \n",
       "1  10021707  https://www.airbnb.com/rooms/10021707   \n",
       "2   1001265   https://www.airbnb.com/rooms/1001265   \n",
       "3  10009999  https://www.airbnb.com/rooms/10009999   \n",
       "4  10047964  https://www.airbnb.com/rooms/10047964   \n",
       "\n",
       "                               name  \\\n",
       "0           Ribeira Charming Duplex   \n",
       "1          Private Room in Bushwick   \n",
       "2  Ocean View Waikiki Marina w/prkg   \n",
       "3      Horto flat with small garden   \n",
       "4    Charming Flat in Downtown Moda   \n",
       "\n",
       "                                             summary  \\\n",
       "0  Fantastic duplex apartment with three bedrooms...   \n",
       "1  Here exists a very cozy room for rent in a sha...   \n",
       "2  A short distance from Honolulu's billion dolla...   \n",
       "3  One bedroom + sofa-bed in quiet and bucolic ne...   \n",
       "4  Fully furnished 3+1 flat decorated with vintag...   \n",
       "\n",
       "                                               space  \\\n",
       "0  Privileged views of the Douro River and Ribeir...   \n",
       "1                                                      \n",
       "2  Great studio located on Ala Moana across the s...   \n",
       "3  Lovely one bedroom + sofa-bed in the living ro...   \n",
       "4  The apartment is composed of 1 big bedroom wit...   \n",
       "\n",
       "                                         description  \\\n",
       "0  Fantastic duplex apartment with three bedrooms...   \n",
       "1  Here exists a very cozy room for rent in a sha...   \n",
       "2  A short distance from Honolulu's billion dolla...   \n",
       "3  One bedroom + sofa-bed in quiet and bucolic ne...   \n",
       "4  Fully furnished 3+1 flat decorated with vintag...   \n",
       "\n",
       "                               neighborhood_overview  \\\n",
       "0  In the neighborhood of the river, you can find...   \n",
       "1                                                      \n",
       "2             You can breath ocean as well as aloha.   \n",
       "3  This charming ground floor flat is located in ...   \n",
       "4  With its diversity Moda- Kadikoy is one of the...   \n",
       "\n",
       "                                               notes  \\\n",
       "0  Lose yourself in the narrow streets and stairc...   \n",
       "1                                                      \n",
       "2                                                      \n",
       "3  There´s a table in the living room now, that d...   \n",
       "4                                                      \n",
       "\n",
       "                                             transit  \\\n",
       "0  Transport: • Metro station and S. Bento railwa...   \n",
       "1                                                      \n",
       "2  Honolulu does have a very good air conditioned...   \n",
       "3  Easy access to transport (bus, taxi, car) and ...   \n",
       "4                                                      \n",
       "\n",
       "                                              access  ...  \\\n",
       "0  We are always available to help guests. The ho...  ...   \n",
       "1                                                     ...   \n",
       "2                           Pool, hot tub and tennis  ...   \n",
       "3                                                     ...   \n",
       "4                                                     ...   \n",
       "\n",
       "                                              images  \\\n",
       "0  {'thumbnail_url': '', 'medium_url': '', 'pictu...   \n",
       "1  {'thumbnail_url': '', 'medium_url': '', 'pictu...   \n",
       "2  {'thumbnail_url': '', 'medium_url': '', 'pictu...   \n",
       "3  {'thumbnail_url': '', 'medium_url': '', 'pictu...   \n",
       "4  {'thumbnail_url': '', 'medium_url': '', 'pictu...   \n",
       "\n",
       "                                                host  \\\n",
       "0  {'host_id': '51399391', 'host_url': 'https://w...   \n",
       "1  {'host_id': '11275734', 'host_url': 'https://w...   \n",
       "2  {'host_id': '5448114', 'host_url': 'https://ww...   \n",
       "3  {'host_id': '1282196', 'host_url': 'https://ww...   \n",
       "4  {'host_id': '1241644', 'host_url': 'https://ww...   \n",
       "\n",
       "                                             address  \\\n",
       "0  {'street': 'Porto, Porto, Portugal', 'suburb':...   \n",
       "1  {'street': 'Brooklyn, NY, United States', 'sub...   \n",
       "2  {'street': 'Honolulu, HI, United States', 'sub...   \n",
       "3  {'street': 'Rio de Janeiro, Rio de Janeiro, Br...   \n",
       "4  {'street': 'Kadıköy, İstanbul, Turkey', 'subur...   \n",
       "\n",
       "                                        availability  \\\n",
       "0  {'availability_30': 28, 'availability_60': 47,...   \n",
       "1  {'availability_30': 0, 'availability_60': 0, '...   \n",
       "2  {'availability_30': 16, 'availability_60': 46,...   \n",
       "3  {'availability_30': 0, 'availability_60': 0, '...   \n",
       "4  {'availability_30': 27, 'availability_60': 57,...   \n",
       "\n",
       "                                       review_scores  \\\n",
       "0  {'review_scores_accuracy': 9, 'review_scores_c...   \n",
       "1  {'review_scores_accuracy': 10, 'review_scores_...   \n",
       "2  {'review_scores_accuracy': 9, 'review_scores_c...   \n",
       "3  {'review_scores_accuracy': None, 'review_score...   \n",
       "4  {'review_scores_accuracy': 10, 'review_scores_...   \n",
       "\n",
       "                                             reviews  weekly_price  \\\n",
       "0  [{'_id': '58663741', 'date': 2016-01-03 05:00:...           NaN   \n",
       "1  [{'_id': '61050713', 'date': 2016-01-31 05:00:...           NaN   \n",
       "2  [{'_id': '4765259', 'date': 2013-05-24 04:00:0...         650.0   \n",
       "3                                                 []        1492.0   \n",
       "4  [{'_id': '68162172', 'date': 2016-04-02 04:00:...           NaN   \n",
       "\n",
       "  monthly_price                                    text_embeddings  \\\n",
       "0           NaN  [0.0123710884, -0.0180913936, -0.016843712, -0...   \n",
       "1           NaN  [0.0153845912, -0.0348115042, -0.0093448907, 0...   \n",
       "2        2150.0  [-0.0400562622, -0.0405789167, 0.000644172, 0....   \n",
       "3        4849.0  [-0.063234821, 0.0017937823, -0.0243996996, -0...   \n",
       "4           NaN  [0.023723349, 0.0064210771, -0.0339970738, -0....   \n",
       "\n",
       "                                    image_embeddings  \n",
       "0  [-0.1302358955, 0.1534578055, 0.0199299306, -0...  \n",
       "1  [0.0340401195, 0.1742489338, -0.1572628617, 0....  \n",
       "2  [-0.1640156209, 0.1256971657, 0.6594450474, -0...  \n",
       "3  [-0.1292964518, 0.037789464, 0.2443587631, 0.0...  \n",
       "4  [-0.1006749049, 0.4022984803, -0.1821258366, 0...  \n",
       "\n",
       "[5 rows x 43 columns]"
      ]
     },
     "execution_count": 4,
     "metadata": {},
     "output_type": "execute_result"
    }
   ],
   "source": [
    "from datasets import load_dataset\n",
    "import pandas as pd\n",
    "\n",
    "dataset = load_dataset(\"MongoDB/airbnb_embeddings\", streaming=True, split=\"train\")\n",
    "dataset = dataset.take(100)\n",
    "# Convert the dataset to a pandas dataframe\n",
    "dataset_df = pd.DataFrame(dataset)\n",
    "dataset_df.head(5)"
   ]
  },
  {
   "cell_type": "code",
   "execution_count": 5,
   "id": "cef8a3ce-e87d-49f3-a935-530cb54d6f2e",
   "metadata": {
    "height": 30
   },
   "outputs": [
    {
     "name": "stdout",
     "output_type": "stream",
     "text": [
      "Columns: Index(['_id', 'listing_url', 'name', 'summary', 'space', 'description',\n",
      "       'neighborhood_overview', 'notes', 'transit', 'access', 'interaction',\n",
      "       'house_rules', 'property_type', 'room_type', 'bed_type',\n",
      "       'minimum_nights', 'maximum_nights', 'cancellation_policy',\n",
      "       'last_scraped', 'calendar_last_scraped', 'first_review', 'last_review',\n",
      "       'accommodates', 'bedrooms', 'beds', 'number_of_reviews', 'bathrooms',\n",
      "       'amenities', 'price', 'security_deposit', 'cleaning_fee',\n",
      "       'extra_people', 'guests_included', 'images', 'host', 'address',\n",
      "       'availability', 'review_scores', 'reviews', 'weekly_price',\n",
      "       'monthly_price', 'text_embeddings', 'image_embeddings'],\n",
      "      dtype='object')\n"
     ]
    }
   ],
   "source": [
    "print(\"Columns:\", dataset_df.columns)"
   ]
  },
  {
   "cell_type": "markdown",
   "id": "75cabb79-54bd-443f-8edc-ba80ec529be5",
   "metadata": {},
   "source": [
    "## Document Modelling"
   ]
  },
  {
   "cell_type": "code",
   "execution_count": 6,
   "id": "03e640da-4906-4ade-8f0e-9559f7239575",
   "metadata": {
    "height": 30
   },
   "outputs": [],
   "source": [
    "listings = custom_utils.process_records(dataset_df)"
   ]
  },
  {
   "cell_type": "markdown",
   "id": "8d8dc7e1-d108-4a40-8294-4325b69fd5a4",
   "metadata": {},
   "source": [
    "## Database Creation and Connection"
   ]
  },
  {
   "cell_type": "code",
   "execution_count": 7,
   "id": "d124791c-f015-440b-9d64-6cb7d6c7a6c9",
   "metadata": {
    "height": 30
   },
   "outputs": [
    {
     "name": "stdout",
     "output_type": "stream",
     "text": [
      "Connection to MongoDB successful\n"
     ]
    }
   ],
   "source": [
    "db, collection = custom_utils.connect_to_database()"
   ]
  },
  {
   "cell_type": "code",
   "execution_count": 8,
   "id": "b5865a1f-9db7-4eb4-b768-e3353d637121",
   "metadata": {
    "height": 47
   },
   "outputs": [
    {
     "data": {
      "text/plain": [
       "DeleteResult({'n': 0, 'electionId': ObjectId('7fffffff0000000000000002'), 'opTime': {'ts': Timestamp(1720679921, 1), 't': 2}, 'ok': 1.0, '$clusterTime': {'clusterTime': Timestamp(1720679921, 1), 'signature': {'hash': b'\\x00\\x00\\x00\\x00\\x00\\x00\\x00\\x00\\x00\\x00\\x00\\x00\\x00\\x00\\x00\\x00\\x00\\x00\\x00\\x00', 'keyId': 0}}, 'operationTime': Timestamp(1720679921, 1)}, acknowledged=True)"
      ]
     },
     "execution_count": 8,
     "metadata": {},
     "output_type": "execute_result"
    }
   ],
   "source": [
    "# Delete any existing records in the collection\n",
    "collection.delete_many({})"
   ]
  },
  {
   "cell_type": "markdown",
   "id": "d616ad62-e4b2-4086-b596-14320baa5db6",
   "metadata": {},
   "source": [
    "## Data Ingestion"
   ]
  },
  {
   "cell_type": "code",
   "execution_count": 9,
   "id": "b602c4d7-fd03-4fa4-be63-0b22b29724b7",
   "metadata": {
    "height": 47
   },
   "outputs": [
    {
     "name": "stdout",
     "output_type": "stream",
     "text": [
      "Data ingestion into MongoDB completed\n"
     ]
    }
   ],
   "source": [
    "collection.insert_many(listings)\n",
    "print(\"Data ingestion into MongoDB completed\")"
   ]
  },
  {
   "cell_type": "markdown",
   "id": "9567637d-9c54-4594-81b7-592f634eb7fa",
   "metadata": {},
   "source": [
    "## Vector Search Index defintion"
   ]
  },
  {
   "cell_type": "code",
   "execution_count": 10,
   "id": "061b04e8-b279-41dc-80fc-d94fcd544af8",
   "metadata": {
    "height": 64
   },
   "outputs": [
    {
     "name": "stdout",
     "output_type": "stream",
     "text": [
      "Creating index...\n",
      "New index created successfully: vector_index_with_filter\n"
     ]
    }
   ],
   "source": [
    "# Create vector search index\n",
    "custom_utils.setup_vector_search_index_with_filter(collection=collection)"
   ]
  },
  {
   "cell_type": "markdown",
   "id": "36804e3d-7cff-4b7d-9a6e-018806f1fdbf",
   "metadata": {},
   "source": [
    "<p style=\"background-color:#fff6e4; padding:15px; border-width:3px; border-color:#f5ecda; border-style:solid; border-radius:6px\"> ⏳ <b>Note:</b> If the output of the previous cell is <code>Error creating vector search index: Duplicate Index</code> you may proceed to the next cell if you intend to still use a previously created index.</p>"
   ]
  },
  {
   "cell_type": "markdown",
   "id": "678beaa8-f9bb-4f60-bf21-1e56916c6da9",
   "metadata": {},
   "source": [
    "## Handling User Query"
   ]
  },
  {
   "cell_type": "code",
   "execution_count": 11,
   "id": "ea395473-e021-487e-a794-280655380fb2",
   "metadata": {
    "height": 217
   },
   "outputs": [],
   "source": [
    "from pydantic import BaseModel\n",
    "from typing import Optional\n",
    "\n",
    "class SearchResultItem(BaseModel):\n",
    "    name: str\n",
    "    accommodates: Optional[int] = None\n",
    "    address: custom_utils.Address\n",
    "    neighborhood_overview: Optional[str] = None\n",
    "    notes: Optional[str] = None\n",
    "    averageReviewScore: Optional[float] = None\n",
    "    number_of_reviews: Optional[float] = None\n",
    "    combinedScore: Optional[float] = None"
   ]
  },
  {
   "cell_type": "markdown",
   "id": "8d50e3e1-92ae-4957-86e8-77f6936b7f73",
   "metadata": {},
   "source": [
    "## Boosting Search Results After Vector Search"
   ]
  },
  {
   "cell_type": "code",
   "execution_count": 12,
   "id": "1d86e9f0-5a7e-43fb-b855-ecf3ee2a46a5",
   "metadata": {
    "height": 387
   },
   "outputs": [],
   "source": [
    "review_average_stage = {\n",
    "    \"$addFields\": {\n",
    "        \"averageReviewScore\": {\n",
    "            \"$divide\": [\n",
    "                {\n",
    "                    \"$add\": [\n",
    "                        \"$review_scores.review_scores_accuracy\",\n",
    "                        \"$review_scores.review_scores_cleanliness\",\n",
    "                        \"$review_scores.review_scores_checkin\",\n",
    "                        \"$review_scores.review_scores_communication\",\n",
    "                        \"$review_scores.review_scores_location\",\n",
    "                        \"$review_scores.review_scores_value\",\n",
    "                    ]\n",
    "                },\n",
    "                6  # Divide by the number of review score types to get the average\n",
    "            ]\n",
    "        },\n",
    "        # Calculate a score boost factor based on the number of reviews\n",
    "        \"reviewCountBoost\": \"$number_of_reviews\"\n",
    "    }\n",
    "}"
   ]
  },
  {
   "cell_type": "code",
   "execution_count": 13,
   "id": "8ecb2cff-50de-4656-bc62-1586e9a06b9a",
   "metadata": {
    "height": 217
   },
   "outputs": [],
   "source": [
    "weighting_stage = {\n",
    "    \"$addFields\": {\n",
    "        \"combinedScore\": {\n",
    "            # Example formula that combines average review score and review count boost\n",
    "            \"$add\": [\n",
    "                {\"$multiply\": [\"$averageReviewScore\", 0.3]},  # Weighted average review score\n",
    "                {\"$multiply\": [\"$reviewCountBoost\", 0.7]}   # Weighted review count boost\n",
    "            ]\n",
    "        }\n",
    "    }\n",
    "}"
   ]
  },
  {
   "cell_type": "code",
   "execution_count": 14,
   "id": "b6d230f8-324c-4466-8efc-e02e2ea3ff30",
   "metadata": {
    "height": 98
   },
   "outputs": [],
   "source": [
    "# Apply the combinedScore for sorting\n",
    "sorting_stage_sort = {\n",
    "    \"$sort\": {\"combinedScore\": -1}  # Descending order to boost higher combined scores\n",
    "}"
   ]
  },
  {
   "cell_type": "code",
   "execution_count": 15,
   "id": "0318142e-32a2-4bb8-90ec-c1d059d93b95",
   "metadata": {
    "height": 47
   },
   "outputs": [],
   "source": [
    "additional_stages = [review_average_stage, weighting_stage, sorting_stage_sort]"
   ]
  },
  {
   "cell_type": "markdown",
   "id": "a1c1d370-e016-4986-9668-f9da24ca62a4",
   "metadata": {},
   "source": [
    "## Modified Handling User Query"
   ]
  },
  {
   "cell_type": "code",
   "execution_count": 16,
   "id": "503662bb-7685-4e64-8523-ceed3330b04d",
   "metadata": {
    "height": 642
   },
   "outputs": [],
   "source": [
    "from IPython.display import display, HTML\n",
    "import pprint\n",
    "\n",
    "def handle_user_query(query, db, collection, stages=[], vector_index=\"vector_index_text\"):\n",
    "    get_knowledge = custom_utils.vector_search_with_filter(query, db, collection, stages, vector_index)\n",
    "\n",
    "    if not get_knowledge:\n",
    "        return \"No results found.\", \"No source information available.\"\n",
    "    \n",
    "    search_results_models = [\n",
    "        SearchResultItem(**result)\n",
    "        for result in get_knowledge\n",
    "    ]\n",
    "\n",
    "    search_results_df = pd.DataFrame([item.dict() for item in search_results_models])\n",
    "\n",
    "    print(\"Uncompressed Prompt (Query Info):\\n\")\n",
    "    print(search_results_df)\n",
    "\n",
    "    completion = custom_utils.openai.chat.completions.create(\n",
    "        model=\"gpt-3.5-turbo\",\n",
    "        messages=[\n",
    "            {\n",
    "                \"role\": \"system\", \n",
    "                \"content\": \"You are a airbnb listing recommendation system.\"},\n",
    "            {\n",
    "                \"role\": \"user\", \n",
    "                \"content\": f\"Answer this user query: {query} with the following context:\\n{search_results_df}\"\n",
    "            }\n",
    "        ]\n",
    "    )\n",
    "    system_response = completion.choices[0].message.content\n",
    "    print(f\"- User Question:\\n{query}\\n\")\n",
    "    print(f\"- System Response:\\n{system_response}\\n\")\n",
    "    display(HTML(search_results_df.to_html()))\n",
    "    return system_response"
   ]
  },
  {
   "cell_type": "code",
   "execution_count": 17,
   "id": "43e186ba-c53e-484d-b311-31e68b8128f8",
   "metadata": {
    "height": 217
   },
   "outputs": [
    {
     "name": "stdout",
     "output_type": "stream",
     "text": [
      "Total time for the execution to complete on the database server: 0.138713 milliseconds\n",
      "Uncompressed Prompt (Query Info):\n",
      "\n",
      "                                                 name  accommodates  \\\n",
      "0                        A bedroom far away from home             2   \n",
      "1                 Homely Room in 5-Star New Condo@MTR             2   \n",
      "2                      Cozy double bed room 東涌鄉村雅緻雙人房             2   \n",
      "3                                   The Garden Studio             2   \n",
      "4        Best location 1BR Apt in HK - Shops & Sights             4   \n",
      "5                    Bondi Beach Dreaming 3-Bed House             8   \n",
      "6   Sydney Hyde Park City Apartment (checkin from ...             2   \n",
      "7   Studio convenient to CBD, beaches, street park...             5   \n",
      "8                                     Banyan Bungalow             2   \n",
      "9                  Cheerful new renovated central apt             8   \n",
      "10   Surry Hills Studio - Your Perfect Base in Sydney             2   \n",
      "11                           Nice Cosy Room In Taksim             2   \n",
      "12                              Cozy house at Beyoğlu             2   \n",
      "13  March 2019 availability! Oceanview on Sugar Be...             4   \n",
      "14                          Easy 1 Bedroom in Chelsea             2   \n",
      "15                       Cozy bedroom Sagrada Familia             2   \n",
      "16                     Charming Flat in Downtown Moda             6   \n",
      "17                Downtown Oporto Inn (room cleaning)             2   \n",
      "18                     Modern Spacious 1 Bedroom Loft             4   \n",
      "19                THE Place to See Sydney's FIREWORKS             2   \n",
      "\n",
      "                                              address  \\\n",
      "0   {'street': 'Queens, NY, United States', 'gover...   \n",
      "1   {'street': 'Mongkok, Kowloon, Hong Kong', 'gov...   \n",
      "2   {'street': 'Hong Kong, New Territories, Hong K...   \n",
      "3   {'street': 'Marrickville, NSW, Australia', 'go...   \n",
      "4   {'street': 'Hong Kong, Kowloon, Hong Kong', 'g...   \n",
      "5   {'street': 'Bondi Beach, NSW, Australia', 'gov...   \n",
      "6   {'street': 'Darlinghurst, NSW, Australia', 'go...   \n",
      "7   {'street': 'Balgowlah, NSW, Australia', 'gover...   \n",
      "8   {'street': 'Waialua, HI, United States', 'gove...   \n",
      "9   {'street': 'Beyoğlu, İstanbul, Turkey', 'gover...   \n",
      "10  {'street': 'Surry Hills, NSW, Australia', 'gov...   \n",
      "11  {'street': 'Taksim, Cihangir, Istanbul , Beyoğ...   \n",
      "12  {'street': 'Beyoğlu, İstanbul, Turkey', 'gover...   \n",
      "13  {'street': 'Kihei, HI, United States', 'govern...   \n",
      "14  {'street': 'New York, NY, United States', 'gov...   \n",
      "15  {'street': 'Barcelona, Catalunya, Spain', 'gov...   \n",
      "16  {'street': 'Kadıköy, İstanbul, Turkey', 'gover...   \n",
      "17  {'street': 'Porto, Porto, Portugal', 'governme...   \n",
      "18  {'street': 'Montréal, Québec, Canada', 'govern...   \n",
      "19  {'street': 'Rozelle, NSW, Australia', 'governm...   \n",
      "\n",
      "                                neighborhood_overview  \\\n",
      "0   our neighborhood is basically peaceful, there ...   \n",
      "1                  Many restaurants and shops nearby.   \n",
      "2   10-minute walk to the bus stop on Tung Chung R...   \n",
      "3                                                       \n",
      "4   Tsim Sha Tsui is the city's most exciting area...   \n",
      "5   North Bondi is laid back with great food and c...   \n",
      "6   AREA Located within a vibrant and contemporary...   \n",
      "7   We are walking distance to harbour beaches.  A...   \n",
      "8   This desirable neighborhood is comprised of ot...   \n",
      "9   Great location will allow you to explore and e...   \n",
      "10  Surry Hills is a vibrant eclectic community an...   \n",
      "11                       Perfect location in downtown   \n",
      "12  Beyoğlu / Centre of İstanbul It calls Hasköy a...   \n",
      "13                                                      \n",
      "14  Chelsea is considered a high end neighborhood ...   \n",
      "15  Well located on a calm residential area a few ...   \n",
      "16  With its diversity Moda- Kadikoy is one of the...   \n",
      "17  Exciting, urban and dinamic, stay with us, nea...   \n",
      "18                                                      \n",
      "19  We're 5 minutes from the bus stops (to the cit...   \n",
      "\n",
      "                                                notes  averageReviewScore  \\\n",
      "0                                                                9.833333   \n",
      "1   Just feel as home. We will give you all assist...            9.500000   \n",
      "2   Bring your own toothbrush and toothpaste 7-min...            9.666667   \n",
      "3                                                                9.833333   \n",
      "4                                                                9.833333   \n",
      "5   Please nominate the correct number of guests b...            9.833333   \n",
      "6   IMPORTANT:  Our apartment is privately owned a...           10.000000   \n",
      "7   OPAL cards are available for adults and childr...            9.833333   \n",
      "8                                                                9.666667   \n",
      "9   From/To Airports: There are several ways to ge...            9.333333   \n",
      "10  WiFi, Apple TV with Netflix App (for use with ...            9.666667   \n",
      "11                                                               9.833333   \n",
      "12                            Just enjoy your holiday            9.666667   \n",
      "13  NIGHTLY RATE INCLUDES ALL TAXES! The Kealia Re...            9.666667   \n",
      "14                                                              10.000000   \n",
      "15                                                              10.000000   \n",
      "16                                                              10.000000   \n",
      "17                                No private parking.                 NaN   \n",
      "18                                                                    NaN   \n",
      "19  We live with our stud dog, and our son; we won...                 NaN   \n",
      "\n",
      "    number_of_reviews  combinedScore  \n",
      "0               239.0         170.25  \n",
      "1               179.0         128.15  \n",
      "2               162.0         116.30  \n",
      "3               146.0         105.15  \n",
      "4               145.0         104.45  \n",
      "5               139.0         100.25  \n",
      "6               109.0          79.30  \n",
      "7               104.0          75.75  \n",
      "8                99.0          72.20  \n",
      "9                77.0          56.70  \n",
      "10               64.0          47.70  \n",
      "11               31.0          24.65  \n",
      "12               27.0          21.80  \n",
      "13               19.0          16.20  \n",
      "14                1.0           3.70  \n",
      "15                1.0           3.70  \n",
      "16                1.0           3.70  \n",
      "17                0.0            NaN  \n",
      "18                0.0            NaN  \n",
      "19                0.0            NaN  \n",
      "- User Question:\n",
      "\n",
      "I want to stay in a place that's warm and friendly, \n",
      "and not too far from resturants, can you recommend a place? \n",
      "Include a reason as to why you've chosen your selection\"\n",
      "\n",
      "\n",
      "- System Response:\n",
      "I recommend the Homely Room in 5-Star New Condo@MTR located in Mongkok, Kowloon, Hong Kong. This listing is warm and friendly, offering a homely atmosphere for guests. It is also situated in an area with many restaurants and shops nearby, providing convenience and options for dining. With an average review score of 9.5 and positive notes from previous guests, this cozy accommodation is an excellent choice for your stay.\n",
      "\n"
     ]
    },
    {
     "data": {
      "text/html": [
       "<table border=\"1\" class=\"dataframe\">\n",
       "  <thead>\n",
       "    <tr style=\"text-align: right;\">\n",
       "      <th></th>\n",
       "      <th>name</th>\n",
       "      <th>accommodates</th>\n",
       "      <th>address</th>\n",
       "      <th>neighborhood_overview</th>\n",
       "      <th>notes</th>\n",
       "      <th>averageReviewScore</th>\n",
       "      <th>number_of_reviews</th>\n",
       "      <th>combinedScore</th>\n",
       "    </tr>\n",
       "  </thead>\n",
       "  <tbody>\n",
       "    <tr>\n",
       "      <th>0</th>\n",
       "      <td>A bedroom far away from home</td>\n",
       "      <td>2</td>\n",
       "      <td>{'street': 'Queens, NY, United States', 'government_area': 'Briarwood', 'market': 'New York', 'country': 'United States', 'country_code': 'US', 'location': {'type': 'Point', 'coordinates': [-73.82257, 40.71485], 'is_location_exact': True}}</td>\n",
       "      <td>our neighborhood is basically peaceful, there a lot of children because the school bus picks them up by the corner. but all in all, its a quiet and friendly place to live.</td>\n",
       "      <td></td>\n",
       "      <td>9.833333</td>\n",
       "      <td>239.0</td>\n",
       "      <td>170.25</td>\n",
       "    </tr>\n",
       "    <tr>\n",
       "      <th>1</th>\n",
       "      <td>Homely Room in 5-Star New Condo@MTR</td>\n",
       "      <td>2</td>\n",
       "      <td>{'street': 'Mongkok, Kowloon, Hong Kong', 'government_area': 'Yau Tsim Mong', 'market': 'Hong Kong', 'country': 'Hong Kong', 'country_code': 'HK', 'location': {'type': 'Point', 'coordinates': [114.17094, 22.32074], 'is_location_exact': False}}</td>\n",
       "      <td>Many restaurants and shops nearby.</td>\n",
       "      <td>Just feel as home. We will give you all assistance. The 3rd guest is allowed to sleep on the sofa in the living room, and it's subject to an extra charge HK$250 per night.</td>\n",
       "      <td>9.500000</td>\n",
       "      <td>179.0</td>\n",
       "      <td>128.15</td>\n",
       "    </tr>\n",
       "    <tr>\n",
       "      <th>2</th>\n",
       "      <td>Cozy double bed room 東涌鄉村雅緻雙人房</td>\n",
       "      <td>2</td>\n",
       "      <td>{'street': 'Hong Kong, New Territories, Hong Kong', 'government_area': 'Islands', 'market': 'Hong Kong', 'country': 'Hong Kong', 'country_code': 'HK', 'location': {'type': 'Point', 'coordinates': [113.92823, 22.27671], 'is_location_exact': False}}</td>\n",
       "      <td>10-minute walk to the bus stop on Tung Chung Road. 10-minute walk to Indian and Thai Food restaurants. 15-minute walk to Yat Tung Estate (shopping centre, restaurants and bus terminus). 7-minute walk to Chung Mun Road (Mun Tung Estate Car Park Entrance). 10-minute to Airport / Asia Expo by taxi/car. 4-minute to Tung Chung MTR station by taxi/car.</td>\n",
       "      <td>Bring your own toothbrush and toothpaste 7-minute walk to my village house from the main road. The room is on G/F. No lift is in the building. 請自備牙膏,牙刷及拖鞋｡ 屋子遠離馬路,客人需步行約七分鐘才能到達｡</td>\n",
       "      <td>9.666667</td>\n",
       "      <td>162.0</td>\n",
       "      <td>116.30</td>\n",
       "    </tr>\n",
       "    <tr>\n",
       "      <th>3</th>\n",
       "      <td>The Garden Studio</td>\n",
       "      <td>2</td>\n",
       "      <td>{'street': 'Marrickville, NSW, Australia', 'government_area': 'Marrickville', 'market': 'Sydney', 'country': 'Australia', 'country_code': 'AU', 'location': {'type': 'Point', 'coordinates': [151.15036, -33.90318], 'is_location_exact': False}}</td>\n",
       "      <td></td>\n",
       "      <td></td>\n",
       "      <td>9.833333</td>\n",
       "      <td>146.0</td>\n",
       "      <td>105.15</td>\n",
       "    </tr>\n",
       "    <tr>\n",
       "      <th>4</th>\n",
       "      <td>Best location 1BR Apt in HK - Shops &amp; Sights</td>\n",
       "      <td>4</td>\n",
       "      <td>{'street': 'Hong Kong, Kowloon, Hong Kong', 'government_area': 'Yau Tsim Mong', 'market': 'Hong Kong', 'country': 'Hong Kong', 'country_code': 'HK', 'location': {'type': 'Point', 'coordinates': [114.17088, 22.29663], 'is_location_exact': True}}</td>\n",
       "      <td>Tsim Sha Tsui is the city's most exciting area, with top notch museums such as The Science Museum and Art Museum clustered around the waterfront. Nathan Road, Chungking Mansions and the Avenue of Stars, the latter boasting the best views in town. Although the apartment is in a vibrant area, the apartment itself is very quite a night. Its a perfect escape after a long day out and about. There are over 2,500 restaurants in the area which cater to every taste, from traditional Chinese Dim Sum, hawker style stall foods to exceptional French cuisine within 5 star hotels. Supermarkets and 24/7 convenience stores are just down the road, which can provide you all of your daily necessities any time day or night.</td>\n",
       "      <td></td>\n",
       "      <td>9.833333</td>\n",
       "      <td>145.0</td>\n",
       "      <td>104.45</td>\n",
       "    </tr>\n",
       "    <tr>\n",
       "      <th>5</th>\n",
       "      <td>Bondi Beach Dreaming 3-Bed House</td>\n",
       "      <td>8</td>\n",
       "      <td>{'street': 'Bondi Beach, NSW, Australia', 'government_area': 'Waverley', 'market': 'Sydney', 'country': 'Australia', 'country_code': 'AU', 'location': {'type': 'Point', 'coordinates': [151.27448, -33.8872], 'is_location_exact': False}}</td>\n",
       "      <td>North Bondi is laid back with great food and coffee. You can walk to low key wine bars or larger pubs or stay at home and enjoy a peaceful space. Favourite local haunts that are literally a two-minute walk away include the organic bakery (Organic Republic) on the corner, the local piadina cafe (La Piadina) and a great dumpling cafe and cocktail bar (Mamasan). Just a short stroll to the beach and buses to Bondi Junction where you'll find a giant Westfield shopping mall and connections to the city. Bondi Beach also has boutiques and other speciality shops like the famous Messina Gelato and Bills.</td>\n",
       "      <td>Please nominate the correct number of guests before you arrive. There are extra charges for extra guests and if you do not declare guests I will make a resolution request to Airbnb and review you accordingly. Please note we have friendly neighbours and a security camera at the front gate.</td>\n",
       "      <td>9.833333</td>\n",
       "      <td>139.0</td>\n",
       "      <td>100.25</td>\n",
       "    </tr>\n",
       "    <tr>\n",
       "      <th>6</th>\n",
       "      <td>Sydney Hyde Park City Apartment (checkin from 6am)</td>\n",
       "      <td>2</td>\n",
       "      <td>{'street': 'Darlinghurst, NSW, Australia', 'government_area': 'Sydney', 'market': 'Sydney', 'country': 'Australia', 'country_code': 'AU', 'location': {'type': 'Point', 'coordinates': [151.21346, -33.87603], 'is_location_exact': False}}</td>\n",
       "      <td>AREA Located within a vibrant and contemporary part of the city that is seeped in rich history and within walking distance of many attractions including: Hyde Park, St Mary's Cathedral, NSW Art Gallery, The Domaine, The Sydney Museum and less than a 30 minute walk to The Sydney Opera House, Sydney Harbour Bridge, Darling Harbour, Chinese Gardens, Wildlife Parks and Aquarium.  SYDNEY PRIVÉ If you wish discover why Sydney is such an extraordinary place then I would highly recommend  Sydney Privé, which is an exclusive concierge service that specialises in providing personalised tours and luxury experiences for the most discerning traveller. To truly experience Sydney, one must explore the local hideouts,  and there is no better place to do this than in Darlinghurst. Darlinghurst is the heartbeat of the city!  Checkout our airbnb Guidebook for some of our favourite hideouts.  The Guidebook will provide you with website links and actual location.</td>\n",
       "      <td>IMPORTANT:  Our apartment is privately owned and serviced. It is not part of the hotel that is operated from within the building. Internet:  Our internet connection is wifi and dedicated to our apartment. So there is no sharing with other guests and no need to pay additional fees for internet usage.</td>\n",
       "      <td>10.000000</td>\n",
       "      <td>109.0</td>\n",
       "      <td>79.30</td>\n",
       "    </tr>\n",
       "    <tr>\n",
       "      <th>7</th>\n",
       "      <td>Studio convenient to CBD, beaches, street parking.</td>\n",
       "      <td>5</td>\n",
       "      <td>{'street': 'Balgowlah, NSW, Australia', 'government_area': 'Manly', 'market': 'Sydney', 'country': 'Australia', 'country_code': 'AU', 'location': {'type': 'Point', 'coordinates': [151.26108, -33.7975], 'is_location_exact': True}}</td>\n",
       "      <td>We are walking distance to harbour beaches.  And Manly is 5 min away driving and 30 min walk along the beautiful Spit-Manly foreshore walk.  You can also take a swim at local harbourside beaches, walk thru the neighbourhood to some of the most scenic spots in Sydney.  A Coles grocery store is walking distance as are other local shops (I have a map in the room with details).</td>\n",
       "      <td>OPAL cards are available for adults and children.  I try to make sure the correct number are in the room, but if they are not, just ask. As summer has arrived and doors and windows are open you may hear voices in the morning from us and the neighbours.  Mainly In the evenings around dinner time and in the mornings as the family is getting ready for work and school you can hear sounds.</td>\n",
       "      <td>9.833333</td>\n",
       "      <td>104.0</td>\n",
       "      <td>75.75</td>\n",
       "    </tr>\n",
       "    <tr>\n",
       "      <th>8</th>\n",
       "      <td>Banyan Bungalow</td>\n",
       "      <td>2</td>\n",
       "      <td>{'street': 'Waialua, HI, United States', 'government_area': 'North Shore Oahu', 'market': 'Oahu', 'country': 'United States', 'country_code': 'US', 'location': {'type': 'Point', 'coordinates': [-158.1602, 21.57561], 'is_location_exact': False}}</td>\n",
       "      <td>This desirable neighborhood is comprised of other vacation rentals, local families, public beach access, and even a campground.  Roosters and hens have made their home here as well.  Many native birds can be seen and their many sweet sounds can be enjoyed.</td>\n",
       "      <td></td>\n",
       "      <td>9.666667</td>\n",
       "      <td>99.0</td>\n",
       "      <td>72.20</td>\n",
       "    </tr>\n",
       "    <tr>\n",
       "      <th>9</th>\n",
       "      <td>Cheerful new renovated central apt</td>\n",
       "      <td>8</td>\n",
       "      <td>{'street': 'Beyoğlu, İstanbul, Turkey', 'government_area': 'Beyoglu', 'market': 'Istanbul', 'country': 'Turkey', 'country_code': 'TR', 'location': {'type': 'Point', 'coordinates': [28.97477, 41.03735], 'is_location_exact': False}}</td>\n",
       "      <td>Great location will allow you to explore and enjoy Taksim, Pera,Galata , Şişhane and Cihangir. (great walking distance for all the events), Easily accessible to subway, tram, ferries. The neighbourhood is friendly and diverse. It is only 3 minutes by walk to the Galatasaray Square which is located approximately at the center of the Istiklal Avenue. Istiklal Avenue is located in the historic Beyoğlu (Pera) district, it is an elegant pedestrian street, 1.4 kilometers long, which houses boutiques, music stores, bookstores, art galleries, cinemas, theatres, libraries, cafés, pubs, night clubs with live music, historical patisseries, chocolateries and restaurants.  You should definately walk through the local bazaar on Sunday right beside the apartment. You can find anything you need with cheap prices; fruits, vegetables, nuts, fish, meat, dairy products! Local bazaars will be very helpful to understand the culture of Turkish people as well. There are couple of restaurants close by where yo</td>\n",
       "      <td>From/To Airports: There are several ways to get from the airport to the apartment, but the most convenient manner is to take “HAVATAŞ\" shuttle to Taksim Square departing every 30 minutes from the airport (from both airports- Atatürk and Sabiha Gökçen). As you may be unfamiliar with the area, I am happy to come and pick you up in front of Galatasaray Highschool (on Istiklal Street) which is 10 minutes walk from Taksim Square where you will get off. I can always advise you cheaper public transport options if you ask for. Useful information: You can rent the apartment/room for (a) day(s), week, month or longer periods of time.  There is various supermarkets conveniently situated a block away from the apartment on the way to Istiklal street, also a small kiosk right next to the apartment and a laundry in 100 meters distance.</td>\n",
       "      <td>9.333333</td>\n",
       "      <td>77.0</td>\n",
       "      <td>56.70</td>\n",
       "    </tr>\n",
       "    <tr>\n",
       "      <th>10</th>\n",
       "      <td>Surry Hills Studio - Your Perfect Base in Sydney</td>\n",
       "      <td>2</td>\n",
       "      <td>{'street': 'Surry Hills, NSW, Australia', 'government_area': 'Sydney', 'market': 'Sydney', 'country': 'Australia', 'country_code': 'AU', 'location': {'type': 'Point', 'coordinates': [151.21554, -33.88029], 'is_location_exact': True}}</td>\n",
       "      <td>Surry Hills is a vibrant eclectic community and an amazing place to live, and this studio is in the centre of it all. A fantastic range of small bars and restaurants are on your doorstep, along with Sydney's best breakfasts for the next morning. Central to public transport, busses to Bondi Beach and the city are 50 metres from the front door.</td>\n",
       "      <td>WiFi, Apple TV with Netflix App (for use with your own iTunes / Netflix account), 42' TV, Sound Dock</td>\n",
       "      <td>9.666667</td>\n",
       "      <td>64.0</td>\n",
       "      <td>47.70</td>\n",
       "    </tr>\n",
       "    <tr>\n",
       "      <th>11</th>\n",
       "      <td>Nice Cosy Room In Taksim</td>\n",
       "      <td>2</td>\n",
       "      <td>{'street': 'Taksim, Cihangir, Istanbul , Beyoğlu, Turkey', 'government_area': 'Beyoglu', 'market': 'Istanbul', 'country': 'Turkey', 'country_code': 'TR', 'location': {'type': 'Point', 'coordinates': [28.98648, 41.03376], 'is_location_exact': True}}</td>\n",
       "      <td>Perfect location in downtown</td>\n",
       "      <td></td>\n",
       "      <td>9.833333</td>\n",
       "      <td>31.0</td>\n",
       "      <td>24.65</td>\n",
       "    </tr>\n",
       "    <tr>\n",
       "      <th>12</th>\n",
       "      <td>Cozy house at Beyoğlu</td>\n",
       "      <td>2</td>\n",
       "      <td>{'street': 'Beyoğlu, İstanbul, Turkey', 'government_area': 'Beyoglu', 'market': 'Istanbul', 'country': 'Turkey', 'country_code': 'TR', 'location': {'type': 'Point', 'coordinates': [28.95825, 41.03777], 'is_location_exact': False}}</td>\n",
       "      <td>Beyoğlu / Centre of İstanbul It calls Hasköy area, near the Golden Horn</td>\n",
       "      <td>Just enjoy your holiday</td>\n",
       "      <td>9.666667</td>\n",
       "      <td>27.0</td>\n",
       "      <td>21.80</td>\n",
       "    </tr>\n",
       "    <tr>\n",
       "      <th>13</th>\n",
       "      <td>March 2019 availability! Oceanview on Sugar Beach!</td>\n",
       "      <td>4</td>\n",
       "      <td>{'street': 'Kihei, HI, United States', 'government_area': 'Kihei-Makena', 'market': 'Maui', 'country': 'United States', 'country_code': 'US', 'location': {'type': 'Point', 'coordinates': [-156.46881, 20.78621], 'is_location_exact': True}}</td>\n",
       "      <td></td>\n",
       "      <td>NIGHTLY RATE INCLUDES ALL TAXES! The Kealia Resort is next to Sugar Beach Resort on the north side.  The address is 191 N. Kihei Rd.</td>\n",
       "      <td>9.666667</td>\n",
       "      <td>19.0</td>\n",
       "      <td>16.20</td>\n",
       "    </tr>\n",
       "    <tr>\n",
       "      <th>14</th>\n",
       "      <td>Easy 1 Bedroom in Chelsea</td>\n",
       "      <td>2</td>\n",
       "      <td>{'street': 'New York, NY, United States', 'government_area': 'Chelsea', 'market': 'New York', 'country': 'United States', 'country_code': 'US', 'location': {'type': 'Point', 'coordinates': [-74.00074, 40.74577], 'is_location_exact': True}}</td>\n",
       "      <td>Chelsea is considered a high end neighborhood in NYC.  (URL HIDDEN)</td>\n",
       "      <td></td>\n",
       "      <td>10.000000</td>\n",
       "      <td>1.0</td>\n",
       "      <td>3.70</td>\n",
       "    </tr>\n",
       "    <tr>\n",
       "      <th>15</th>\n",
       "      <td>Cozy bedroom Sagrada Familia</td>\n",
       "      <td>2</td>\n",
       "      <td>{'street': 'Barcelona, Catalunya, Spain', 'government_area': 'el Fort Pienc', 'market': 'Barcelona', 'country': 'Spain', 'country_code': 'ES', 'location': {'type': 'Point', 'coordinates': [2.17963, 41.40087], 'is_location_exact': True}}</td>\n",
       "      <td>Well located on a calm residential area a few blocks away from the city center.</td>\n",
       "      <td></td>\n",
       "      <td>10.000000</td>\n",
       "      <td>1.0</td>\n",
       "      <td>3.70</td>\n",
       "    </tr>\n",
       "    <tr>\n",
       "      <th>16</th>\n",
       "      <td>Charming Flat in Downtown Moda</td>\n",
       "      <td>6</td>\n",
       "      <td>{'street': 'Kadıköy, İstanbul, Turkey', 'government_area': 'Kadikoy', 'market': 'Istanbul', 'country': 'Turkey', 'country_code': 'TR', 'location': {'type': 'Point', 'coordinates': [29.03133, 40.98585], 'is_location_exact': True}}</td>\n",
       "      <td>With its diversity Moda- Kadikoy is one of the most colorfull neighbourhood of Istanbul. The place is  surrounded by lots of cafe's, pubs, concert halls, restaurants and art studios. Being local is wonderful if you're staying here.</td>\n",
       "      <td></td>\n",
       "      <td>10.000000</td>\n",
       "      <td>1.0</td>\n",
       "      <td>3.70</td>\n",
       "    </tr>\n",
       "    <tr>\n",
       "      <th>17</th>\n",
       "      <td>Downtown Oporto Inn (room cleaning)</td>\n",
       "      <td>2</td>\n",
       "      <td>{'street': 'Porto, Porto, Portugal', 'government_area': 'Cedofeita, Ildefonso, Sé, Miragaia, Nicolau, Vitória', 'market': 'Porto', 'country': 'Portugal', 'country_code': 'PT', 'location': {'type': 'Point', 'coordinates': [-8.60867, 41.1543], 'is_location_exact': False}}</td>\n",
       "      <td>Exciting, urban and dinamic, stay with us, near the center, and enjoy a unique stay!</td>\n",
       "      <td>No private parking.</td>\n",
       "      <td>NaN</td>\n",
       "      <td>0.0</td>\n",
       "      <td>NaN</td>\n",
       "    </tr>\n",
       "    <tr>\n",
       "      <th>18</th>\n",
       "      <td>Modern Spacious 1 Bedroom Loft</td>\n",
       "      <td>4</td>\n",
       "      <td>{'street': 'Montréal, Québec, Canada', 'government_area': 'Le Plateau-Mont-Royal', 'market': 'Montreal', 'country': 'Canada', 'country_code': 'CA', 'location': {'type': 'Point', 'coordinates': [-73.59111, 45.51889], 'is_location_exact': True}}</td>\n",
       "      <td></td>\n",
       "      <td></td>\n",
       "      <td>NaN</td>\n",
       "      <td>0.0</td>\n",
       "      <td>NaN</td>\n",
       "    </tr>\n",
       "    <tr>\n",
       "      <th>19</th>\n",
       "      <td>THE Place to See Sydney's FIREWORKS</td>\n",
       "      <td>2</td>\n",
       "      <td>{'street': 'Rozelle, NSW, Australia', 'government_area': 'Leichhardt', 'market': 'Sydney', 'country': 'Australia', 'country_code': 'AU', 'location': {'type': 'Point', 'coordinates': [151.17956, -33.86296], 'is_location_exact': True}}</td>\n",
       "      <td>We're 5 minutes from the bus stops (to the city or to the Balmain East ferry), 4 minutes to a park with tennis courts, and 2 minutes to an iconic Balmain pub, the Bald Rock Hotel.  The grocery store, bottle shops, and Darling St boutiques/shops are about 10-15 minutes walk depending on how fast you move :)</td>\n",
       "      <td>We live with our stud dog, and our son; we won't be here during your stay, but if you're allergic to dogs or babies, best to pick another place. :)</td>\n",
       "      <td>NaN</td>\n",
       "      <td>0.0</td>\n",
       "      <td>NaN</td>\n",
       "    </tr>\n",
       "  </tbody>\n",
       "</table>"
      ],
      "text/plain": [
       "<IPython.core.display.HTML object>"
      ]
     },
     "metadata": {},
     "output_type": "display_data"
    },
    {
     "data": {
      "text/plain": [
       "'I recommend the Homely Room in 5-Star New Condo@MTR located in Mongkok, Kowloon, Hong Kong. This listing is warm and friendly, offering a homely atmosphere for guests. It is also situated in an area with many restaurants and shops nearby, providing convenience and options for dining. With an average review score of 9.5 and positive notes from previous guests, this cozy accommodation is an excellent choice for your stay.'"
      ]
     },
     "execution_count": 17,
     "metadata": {},
     "output_type": "execute_result"
    }
   ],
   "source": [
    "query = \"\"\"\n",
    "I want to stay in a place that's warm and friendly, \n",
    "and not too far from resturants, can you recommend a place? \n",
    "Include a reason as to why you've chosen your selection\"\n",
    "\"\"\"\n",
    "handle_user_query(\n",
    "    query, \n",
    "    db, \n",
    "    collection, \n",
    "    additional_stages, \n",
    "    vector_index=\"vector_index_with_filter\"\n",
    ")"
   ]
  },
  {
   "cell_type": "markdown",
   "id": "b08a2cfe-22f2-4421-a1ec-d2f53bee2fcb",
   "metadata": {},
   "source": [
    "## Prompt Compression"
   ]
  },
  {
   "cell_type": "code",
   "execution_count": 18,
   "id": "70aa1f19-3a43-4800-8984-ea343dc5dfda",
   "metadata": {
    "height": 557
   },
   "outputs": [
    {
     "data": {
      "application/vnd.jupyter.widget-view+json": {
       "model_id": "9f5139a091eb4fdcaa1e809846d72dce",
       "version_major": 2,
       "version_minor": 0
      },
      "text/plain": [
       "config.json:   0%|          | 0.00/875 [00:00<?, ?B/s]"
      ]
     },
     "metadata": {},
     "output_type": "display_data"
    },
    {
     "data": {
      "application/vnd.jupyter.widget-view+json": {
       "model_id": "d09b2cb5914348a7a1dfe77caa3b3be3",
       "version_major": 2,
       "version_minor": 0
      },
      "text/plain": [
       "tokenizer_config.json:   0%|          | 0.00/1.19k [00:00<?, ?B/s]"
      ]
     },
     "metadata": {},
     "output_type": "display_data"
    },
    {
     "data": {
      "application/vnd.jupyter.widget-view+json": {
       "model_id": "e763fafebb8c49df92bf61b6c405991d",
       "version_major": 2,
       "version_minor": 0
      },
      "text/plain": [
       "vocab.txt:   0%|          | 0.00/996k [00:00<?, ?B/s]"
      ]
     },
     "metadata": {},
     "output_type": "display_data"
    },
    {
     "data": {
      "application/vnd.jupyter.widget-view+json": {
       "model_id": "1a62752bdf4842a1be18e1e28ed61f45",
       "version_major": 2,
       "version_minor": 0
      },
      "text/plain": [
       "tokenizer.json:   0%|          | 0.00/2.92M [00:00<?, ?B/s]"
      ]
     },
     "metadata": {},
     "output_type": "display_data"
    },
    {
     "data": {
      "application/vnd.jupyter.widget-view+json": {
       "model_id": "fe4a92924b0d4b7b815009be789902c0",
       "version_major": 2,
       "version_minor": 0
      },
      "text/plain": [
       "special_tokens_map.json:   0%|          | 0.00/125 [00:00<?, ?B/s]"
      ]
     },
     "metadata": {},
     "output_type": "display_data"
    },
    {
     "data": {
      "application/vnd.jupyter.widget-view+json": {
       "model_id": "82b544403e9144b9ab369afac39f9c79",
       "version_major": 2,
       "version_minor": 0
      },
      "text/plain": [
       "model.safetensors:   0%|          | 0.00/709M [00:00<?, ?B/s]"
      ]
     },
     "metadata": {},
     "output_type": "display_data"
    }
   ],
   "source": [
    "import json\n",
    "from llmlingua import PromptCompressor\n",
    "\n",
    "llm_lingua = PromptCompressor(\n",
    "    model_name=\"microsoft/llmlingua-2-bert-base-multilingual-cased-meetingbank\",\n",
    "    model_config={\"revision\": \"main\"},\n",
    "    use_llmlingua2=True,\n",
    "    device_map=\"cpu\",\n",
    ")\n",
    "\n",
    "# Function definition\n",
    "def compress_query_prompt(query):\n",
    "\n",
    "    demonstration_str = query['demonstration_str']\n",
    "    instruction = query['instruction']\n",
    "    question = query['question']\n",
    "\n",
    "    # 6x Compression\n",
    "    compressed_prompt = llm_lingua.compress_prompt(\n",
    "        demonstration_str.split(\"\\n\"), \n",
    "        instruction=instruction,\n",
    "        question=question,\n",
    "        target_token=500,\n",
    "        rank_method=\"longllmlingua\", \n",
    "        context_budget=\"+100\",\n",
    "        dynamic_context_compression_ratio=0.4,\n",
    "        reorder_context=\"sort\",\n",
    "    )\n",
    "\n",
    "    return json.dumps(compressed_prompt, indent=4)\n"
   ]
  },
  {
   "cell_type": "code",
   "execution_count": 19,
   "id": "1aadfd10-c9ba-4f93-9f0d-b99771219e28",
   "metadata": {
    "height": 574
   },
   "outputs": [],
   "source": [
    "def handle_user_query_with_compression(query, db, collection, stages=[], vector_index=\"vector_index_text\"):\n",
    "    # Perform vector search to get knowledge from the database\n",
    "    get_knowledge = custom_utils.vector_search_with_filter(query, db, collection, stages, vector_index)\n",
    "\n",
    "    # Check if there are any results\n",
    "    if not get_knowledge:\n",
    "        return None, \"No results found.\"\n",
    "\n",
    "    # Convert search results into a list of SearchResultItem models\n",
    "    search_results_models = [SearchResultItem(**result) for result in get_knowledge]\n",
    "\n",
    "    # Convert search results into a DataFrame for better rendering\n",
    "    search_results_df = pd.DataFrame([item.dict() for item in search_results_models])\n",
    "\n",
    "    # Prepare information for compression\n",
    "    query_info = {\n",
    "        'demonstration_str': search_results_df.to_string(),  # Results from information retrieval process\n",
    "        'instruction': \"Write a high-quality answer for the given question using only the provided search results.\",\n",
    "        'question': query  # User query\n",
    "    }\n",
    "\n",
    "    # Compress the query prompt using predefined function\n",
    "    compressed_prompt = compress_query_prompt(query_info)\n",
    "\n",
    "    # Optional: Print compressed prompts for debugging\n",
    "    print(\"Compressed Prompt:\\n\")\n",
    "    pprint.pprint(compressed_prompt)\n",
    "    print(\"\\n\" + \"=\" * 80 + \"\\n\")\n",
    "\n",
    "    return search_results_df, compressed_prompt\n",
    "\n"
   ]
  },
  {
   "cell_type": "code",
   "execution_count": 20,
   "id": "599d2704-4451-4db3-8e56-8eedb0de82f6",
   "metadata": {
    "height": 455
   },
   "outputs": [],
   "source": [
    "def handle_system_response(query, compressed_prompt):\n",
    "    # Generate system response using OpenAI's completion\n",
    "    completion = custom_utils.openai.chat.completions.create(\n",
    "        model=\"gpt-3.5-turbo\",\n",
    "        messages=[\n",
    "            {\n",
    "                \"role\": \"system\",\n",
    "                \"content\": \"You are an Airbnb listing recommendation system.\"\n",
    "            },\n",
    "            {\n",
    "                \"role\": \"user\",\n",
    "                \"content\": f\"Answer this user query: {query} with the following context:\\n{compressed_prompt}\"\n",
    "            }\n",
    "        ]\n",
    "    )\n",
    "\n",
    "    system_response = completion.choices[0].message.content\n",
    "\n",
    "    # Print User Question, System Response\n",
    "    print(f\"- User Question:\\n{query}\\n\")\n",
    "    print(f\"- System Response:\\n{system_response}\\n\")\n",
    "\n",
    "    # Return the system response\n",
    "    return system_response\n"
   ]
  },
  {
   "cell_type": "code",
   "execution_count": 21,
   "id": "b0aca573-77f8-49dc-b232-1e991dbffd29",
   "metadata": {
    "height": 149
   },
   "outputs": [
    {
     "name": "stderr",
     "output_type": "stream",
     "text": [
      "Token indices sequence length is longer than the specified maximum sequence length for this model (557 > 512). Running this sequence through the model will result in indexing errors\n"
     ]
    },
    {
     "name": "stdout",
     "output_type": "stream",
     "text": [
      "Total time for the execution to complete on the database server: 0.136405 milliseconds\n",
      "Compressed Prompt:\n",
      "\n",
      "('{\\n'\n",
      " '    \"compressed_prompt\": \"name accommodates neighborhood overview notes '\n",
      " 'averageReviewScore reviews\\\\n\\\\nCozy double bed room \\\\u6771 \\\\u6d8c \\\\u9109 '\n",
      " \"\\\\u6751 \\\\u96c5 \\\\u7dfb \\\\u96d9 \\\\u4eba \\\\u623f street ' Hong Kong New \"\n",
      " \"Territories Hong Kong government _ area Islands market ' Hong Kong country ' \"\n",
      " \"Hong Kong country _ code HK location ' type Point coordinates 113. 92823, \"\n",
      " '22. 27671 ] is location _ exact 10 - minute walk bus stop Tung Chung Road '\n",
      " 'Indian Thai Food restaurants 15 - minute walk Yat Tung Estate shopping '\n",
      " 'centre restaurants bus terminus 7 - minute Chung Mun Road Mun Tung Estate '\n",
      " 'Car Park Entrance 10 - minute Airport / Asia Expo taxi car 4 - minute Tung '\n",
      " 'Chung MTR station taxi car toothbrush 7 - walk village house main road room '\n",
      " 'G / F No lift building \\\\u5099 \\\\u7259 \\\\u818f \\\\u7259 \\\\u5237 \\\\u62d6 '\n",
      " '\\\\u978b \\\\u5c4b \\\\u5b50 \\\\u9060 \\\\u96e2 \\\\u99ac \\\\u8def \\\\u5ba2 \\\\u6b65 '\n",
      " '\\\\u884c \\\\u4e03 \\\\u5206 \\\\u9418 \\\\u5230 \\\\u9054 9. 666667 162. 0 '\n",
      " \"116.\\\\n\\\\n13 March 2019 availability Oceanview Sugar Beach 4 street ' Kihei, \"\n",
      " \"HI United States ' government _ area Kihei - Makena ' market ' Maui ' \"\n",
      " \"country ' United States ' country _ code US ' location ' type Point ' \"\n",
      " \"coordinates - 156. 46881, 20. 78621 ] is _ location _ exact ' True NIGHTLY \"\n",
      " 'RATE Kealia Resort next Sugar Beach Resort north side address 191 N. Kihei '\n",
      " 'Rd. 9. 666667 19. 0 16.\\\\n\\\\n17 Downtown Oporto Inn room cleaning ) 2 street '\n",
      " \"' Porto Porto Portugal ' government _ area ' Cedofeita Ildefonso S\\\\u00e9 \"\n",
      " \"Miragaia Nicolau Vit\\\\u00f3ria market ' Porto country ' Portugal country _ \"\n",
      " \"code PT ' location ' type Point ' coordinates - 8. 60867, 41. 1543 ] is _ \"\n",
      " \"location _ exact ' False Exciting urban dinamic stay us near center enjoy \"\n",
      " 'unique stay! No private parking NaN 0. 0\\\\n\\\\n18 Modern Spacious 1 Bedroom '\n",
      " \"Loft 4 street ' Montr\\\\u00e9al Qu\\\\u00e9bec Canada government _ area Le \"\n",
      " \"Plateau - Mont - Royal market ' Montreal country ' Canada ' country _ code \"\n",
      " \"CA ' location ' type ' Point ' coordinates ' - 73. 59111, 45. 51889 ] is _ \"\n",
      " 'location _ exact \\' True } NaN 0. 0 NaN\",\\n'\n",
      " '    \"compressed_prompt_list\": [\\n'\n",
      " '        \"name accommodates neighborhood overview notes averageReviewScore '\n",
      " 'reviews\",\\n'\n",
      " '        \"Cozy double bed room \\\\u6771 \\\\u6d8c \\\\u9109 \\\\u6751 \\\\u96c5 '\n",
      " \"\\\\u7dfb \\\\u96d9 \\\\u4eba \\\\u623f street ' Hong Kong New Territories Hong Kong \"\n",
      " \"government _ area Islands market ' Hong Kong country ' Hong Kong country _ \"\n",
      " \"code HK location ' type Point coordinates 113. 92823, 22. 27671 ] is \"\n",
      " 'location _ exact 10 - minute walk bus stop Tung Chung Road Indian Thai Food '\n",
      " 'restaurants 15 - minute walk Yat Tung Estate shopping centre restaurants bus '\n",
      " 'terminus 7 - minute Chung Mun Road Mun Tung Estate Car Park Entrance 10 - '\n",
      " 'minute Airport / Asia Expo taxi car 4 - minute Tung Chung MTR station taxi '\n",
      " 'car toothbrush 7 - walk village house main road room G / F No lift building '\n",
      " '\\\\u5099 \\\\u7259 \\\\u818f \\\\u7259 \\\\u5237 \\\\u62d6 \\\\u978b \\\\u5c4b \\\\u5b50 '\n",
      " '\\\\u9060 \\\\u96e2 \\\\u99ac \\\\u8def \\\\u5ba2 \\\\u6b65 \\\\u884c \\\\u4e03 \\\\u5206 '\n",
      " '\\\\u9418 \\\\u5230 \\\\u9054 9. 666667 162. 0 116.\",\\n'\n",
      " '        \"13 March 2019 availability Oceanview Sugar Beach 4 street \\' Kihei, '\n",
      " \"HI United States ' government _ area Kihei - Makena ' market ' Maui ' \"\n",
      " \"country ' United States ' country _ code US ' location ' type Point ' \"\n",
      " \"coordinates - 156. 46881, 20. 78621 ] is _ location _ exact ' True NIGHTLY \"\n",
      " 'RATE Kealia Resort next Sugar Beach Resort north side address 191 N. Kihei '\n",
      " 'Rd. 9. 666667 19. 0 16.\",\\n'\n",
      " '        \"17 Downtown Oporto Inn room cleaning ) 2 street \\' Porto Porto '\n",
      " \"Portugal ' government _ area ' Cedofeita Ildefonso S\\\\u00e9 Miragaia Nicolau \"\n",
      " \"Vit\\\\u00f3ria market ' Porto country ' Portugal country _ code PT ' location \"\n",
      " \"' type Point ' coordinates - 8. 60867, 41. 1543 ] is _ location _ exact ' \"\n",
      " 'False Exciting urban dinamic stay us near center enjoy unique stay! No '\n",
      " 'private parking NaN 0. 0\",\\n'\n",
      " '        \"18 Modern Spacious 1 Bedroom Loft 4 street \\' Montr\\\\u00e9al '\n",
      " \"Qu\\\\u00e9bec Canada government _ area Le Plateau - Mont - Royal market ' \"\n",
      " \"Montreal country ' Canada ' country _ code CA ' location ' type ' Point ' \"\n",
      " \"coordinates ' - 73. 59111, 45. 51889 ] is _ location _ exact ' True } NaN 0. \"\n",
      " '0 NaN\"\\n'\n",
      " '    ],\\n'\n",
      " '    \"origin_tokens\": 4284,\\n'\n",
      " '    \"compressed_tokens\": 512,\\n'\n",
      " '    \"ratio\": \"8.4x\",\\n'\n",
      " '    \"rate\": \"12.0%\",\\n'\n",
      " '    \"saving\": \", Saving $0.2 in GPT-4.\"\\n'\n",
      " '}')\n",
      "\n",
      "================================================================================\n",
      "\n"
     ]
    }
   ],
   "source": [
    "# Compress the query and get search results\n",
    "results, compressed_prompt = handle_user_query_with_compression(query, \n",
    "                                                                  db, \n",
    "                                                                  collection, \n",
    "                                                                  additional_stages, \n",
    "                                                                  vector_index=\"vector_index_with_filter\"\n",
    "                                                                 )"
   ]
  },
  {
   "cell_type": "code",
   "execution_count": 22,
   "id": "ebdb52e2-0bd2-41be-a523-5ad73cdc38fa",
   "metadata": {
    "height": 115
   },
   "outputs": [
    {
     "name": "stdout",
     "output_type": "stream",
     "text": [
      "- User Question:\n",
      "\n",
      "I want to stay in a place that's warm and friendly, \n",
      "and not too far from resturants, can you recommend a place? \n",
      "Include a reason as to why you've chosen your selection\"\n",
      "\n",
      "\n",
      "- System Response:\n",
      "I recommend the Cozy double bed room in Hong Kong New Territories, located in a warm and friendly neighborhood. It is a 10-minute walk to bus stops with Indian and Thai food restaurants nearby, as well as shopping centers and a bus terminus within a 15-minute walk. You can also easily access the airport and MTR station within a few minutes by taxi or car. This place offers a convenient and cozy stay in a friendly environment with easy access to restaurants and amenities.\n",
      "\n"
     ]
    }
   ],
   "source": [
    "if compressed_prompt:\n",
    "    # Handle the system response with the compressed prompt\n",
    "    system_response = handle_system_response(query, compressed_prompt)\n",
    "else:\n",
    "    print(\"No valid results to display.\")"
   ]
  },
  {
   "cell_type": "markdown",
   "id": "ef642368-5cee-4b6d-ac11-252cfea3c757",
   "metadata": {},
   "source": [
    "## Additional Resouces\n",
    "\n",
    "- [The MongoDB Developer Center for tutorials, articles and videos](https://mdb.link/developer_center)\n",
    "\n",
    "- [The GenAI Showcase Repo for code showcasing building AI applications and demo](https://github.com/mongodb-developer/GenAI-Showcase)\n",
    "\n",
    "- [DeepLearning AI forum for question in regards to this course](https://community.deeplearning.ai/)"
   ]
  },
  {
   "cell_type": "code",
   "execution_count": null,
   "id": "156ab944-4368-42fd-bdc8-fdc27eab591c",
   "metadata": {
    "height": 30
   },
   "outputs": [],
   "source": []
  },
  {
   "cell_type": "code",
   "execution_count": null,
   "id": "6840a77e-6eb9-4bcf-a45d-708c8a3de213",
   "metadata": {
    "height": 30
   },
   "outputs": [],
   "source": []
  },
  {
   "cell_type": "code",
   "execution_count": null,
   "id": "f9f53e84-82c3-454f-96b8-35e74c683a02",
   "metadata": {
    "height": 30
   },
   "outputs": [],
   "source": []
  },
  {
   "cell_type": "code",
   "execution_count": null,
   "id": "ac627208-461a-4998-9fc2-4460d6020fe0",
   "metadata": {
    "height": 30
   },
   "outputs": [],
   "source": []
  }
 ],
 "metadata": {
  "kernelspec": {
   "display_name": "Python 3 (ipykernel)",
   "language": "python",
   "name": "python3"
  },
  "language_info": {
   "codemirror_mode": {
    "name": "ipython",
    "version": 3
   },
   "file_extension": ".py",
   "mimetype": "text/x-python",
   "name": "python",
   "nbconvert_exporter": "python",
   "pygments_lexer": "ipython3",
   "version": "3.11.7"
  }
 },
 "nbformat": 4,
 "nbformat_minor": 5
}
