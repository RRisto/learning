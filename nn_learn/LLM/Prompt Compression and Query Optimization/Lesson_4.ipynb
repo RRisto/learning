{
 "cells": [
  {
   "cell_type": "markdown",
   "id": "ec4ea046-ac11-4cb8-9531-b6a90fea6ecb",
   "metadata": {},
   "source": [
    "# L4: Boosting\n"
   ]
  },
  {
   "cell_type": "markdown",
   "id": "272cfe8a-a7a0-446d-b222-c8cbc32c72a2",
   "metadata": {},
   "source": [
    "<p style=\"background-color:#fff6e4; padding:15px; border-width:3px; border-color:#f5ecda; border-style:solid; border-radius:6px\"> ⏳ <b>Note <code>(Kernel Starting)</code>:</b> This notebook takes about 30 seconds to be ready to use. You may start and watch the video while you wait.</p>\n"
   ]
  },
  {
   "cell_type": "code",
   "execution_count": 1,
   "id": "b89d536f-e017-4797-82aa-04e4c69b6f3d",
   "metadata": {
    "height": 64
   },
   "outputs": [],
   "source": [
    "# Warning control\n",
    "import warnings\n",
    "warnings.filterwarnings('ignore')"
   ]
  },
  {
   "cell_type": "code",
   "execution_count": 2,
   "id": "1269d100-d775-44d0-9198-25a7194234f2",
   "metadata": {
    "height": 30
   },
   "outputs": [],
   "source": [
    "import custom_utils "
   ]
  },
  {
   "cell_type": "markdown",
   "id": "105124c9-6f01-492f-a104-fd81926700ee",
   "metadata": {},
   "source": [
    "<p style=\"background-color:#fff6ff; padding:15px; border-width:3px; border-color:#efe6ef; border-style:solid; border-radius:6px\"> 💻 &nbsp; <b>Access <code>requirements.txt</code> and <code>utils</code> files:</b> To access <code>requirements.txt</code> for this notebook, 1) click on the <em>\"File\"</em> option on the top menu of the notebook and then 2) click on <em>\"Open\"</em>. For more help, please see the <em>\"Appendix - Tips and Help\"</em> Lesson.</p>"
   ]
  },
  {
   "cell_type": "markdown",
   "id": "ad100d3a-2878-49d8-9149-7cf17b762ae3",
   "metadata": {},
   "source": [
    "## Data Loading"
   ]
  },
  {
   "cell_type": "code",
   "execution_count": 3,
   "id": "6ba54c1f-108c-49f2-bcdb-234c06df3eaa",
   "metadata": {
    "height": 166
   },
   "outputs": [
    {
     "data": {
      "application/vnd.jupyter.widget-view+json": {
       "model_id": "6f0fa62954d544be967903e5d7c3d594",
       "version_major": 2,
       "version_minor": 0
      },
      "text/plain": [
       "Downloading readme:   0%|          | 0.00/4.84k [00:00<?, ?B/s]"
      ]
     },
     "metadata": {},
     "output_type": "display_data"
    },
    {
     "data": {
      "text/html": [
       "<div>\n",
       "<style scoped>\n",
       "    .dataframe tbody tr th:only-of-type {\n",
       "        vertical-align: middle;\n",
       "    }\n",
       "\n",
       "    .dataframe tbody tr th {\n",
       "        vertical-align: top;\n",
       "    }\n",
       "\n",
       "    .dataframe thead th {\n",
       "        text-align: right;\n",
       "    }\n",
       "</style>\n",
       "<table border=\"1\" class=\"dataframe\">\n",
       "  <thead>\n",
       "    <tr style=\"text-align: right;\">\n",
       "      <th></th>\n",
       "      <th>_id</th>\n",
       "      <th>listing_url</th>\n",
       "      <th>name</th>\n",
       "      <th>summary</th>\n",
       "      <th>space</th>\n",
       "      <th>description</th>\n",
       "      <th>neighborhood_overview</th>\n",
       "      <th>notes</th>\n",
       "      <th>transit</th>\n",
       "      <th>access</th>\n",
       "      <th>...</th>\n",
       "      <th>images</th>\n",
       "      <th>host</th>\n",
       "      <th>address</th>\n",
       "      <th>availability</th>\n",
       "      <th>review_scores</th>\n",
       "      <th>reviews</th>\n",
       "      <th>weekly_price</th>\n",
       "      <th>monthly_price</th>\n",
       "      <th>text_embeddings</th>\n",
       "      <th>image_embeddings</th>\n",
       "    </tr>\n",
       "  </thead>\n",
       "  <tbody>\n",
       "    <tr>\n",
       "      <th>0</th>\n",
       "      <td>10006546</td>\n",
       "      <td>https://www.airbnb.com/rooms/10006546</td>\n",
       "      <td>Ribeira Charming Duplex</td>\n",
       "      <td>Fantastic duplex apartment with three bedrooms...</td>\n",
       "      <td>Privileged views of the Douro River and Ribeir...</td>\n",
       "      <td>Fantastic duplex apartment with three bedrooms...</td>\n",
       "      <td>In the neighborhood of the river, you can find...</td>\n",
       "      <td>Lose yourself in the narrow streets and stairc...</td>\n",
       "      <td>Transport: • Metro station and S. Bento railwa...</td>\n",
       "      <td>We are always available to help guests. The ho...</td>\n",
       "      <td>...</td>\n",
       "      <td>{'thumbnail_url': '', 'medium_url': '', 'pictu...</td>\n",
       "      <td>{'host_id': '51399391', 'host_url': 'https://w...</td>\n",
       "      <td>{'street': 'Porto, Porto, Portugal', 'suburb':...</td>\n",
       "      <td>{'availability_30': 28, 'availability_60': 47,...</td>\n",
       "      <td>{'review_scores_accuracy': 9, 'review_scores_c...</td>\n",
       "      <td>[{'_id': '58663741', 'date': 2016-01-03 05:00:...</td>\n",
       "      <td>NaN</td>\n",
       "      <td>NaN</td>\n",
       "      <td>[0.0123710884, -0.0180913936, -0.016843712, -0...</td>\n",
       "      <td>[-0.1302358955, 0.1534578055, 0.0199299306, -0...</td>\n",
       "    </tr>\n",
       "    <tr>\n",
       "      <th>1</th>\n",
       "      <td>10021707</td>\n",
       "      <td>https://www.airbnb.com/rooms/10021707</td>\n",
       "      <td>Private Room in Bushwick</td>\n",
       "      <td>Here exists a very cozy room for rent in a sha...</td>\n",
       "      <td></td>\n",
       "      <td>Here exists a very cozy room for rent in a sha...</td>\n",
       "      <td></td>\n",
       "      <td></td>\n",
       "      <td></td>\n",
       "      <td></td>\n",
       "      <td>...</td>\n",
       "      <td>{'thumbnail_url': '', 'medium_url': '', 'pictu...</td>\n",
       "      <td>{'host_id': '11275734', 'host_url': 'https://w...</td>\n",
       "      <td>{'street': 'Brooklyn, NY, United States', 'sub...</td>\n",
       "      <td>{'availability_30': 0, 'availability_60': 0, '...</td>\n",
       "      <td>{'review_scores_accuracy': 10, 'review_scores_...</td>\n",
       "      <td>[{'_id': '61050713', 'date': 2016-01-31 05:00:...</td>\n",
       "      <td>NaN</td>\n",
       "      <td>NaN</td>\n",
       "      <td>[0.0153845912, -0.0348115042, -0.0093448907, 0...</td>\n",
       "      <td>[0.0340401195, 0.1742489338, -0.1572628617, 0....</td>\n",
       "    </tr>\n",
       "    <tr>\n",
       "      <th>2</th>\n",
       "      <td>1001265</td>\n",
       "      <td>https://www.airbnb.com/rooms/1001265</td>\n",
       "      <td>Ocean View Waikiki Marina w/prkg</td>\n",
       "      <td>A short distance from Honolulu's billion dolla...</td>\n",
       "      <td>Great studio located on Ala Moana across the s...</td>\n",
       "      <td>A short distance from Honolulu's billion dolla...</td>\n",
       "      <td>You can breath ocean as well as aloha.</td>\n",
       "      <td></td>\n",
       "      <td>Honolulu does have a very good air conditioned...</td>\n",
       "      <td>Pool, hot tub and tennis</td>\n",
       "      <td>...</td>\n",
       "      <td>{'thumbnail_url': '', 'medium_url': '', 'pictu...</td>\n",
       "      <td>{'host_id': '5448114', 'host_url': 'https://ww...</td>\n",
       "      <td>{'street': 'Honolulu, HI, United States', 'sub...</td>\n",
       "      <td>{'availability_30': 16, 'availability_60': 46,...</td>\n",
       "      <td>{'review_scores_accuracy': 9, 'review_scores_c...</td>\n",
       "      <td>[{'_id': '4765259', 'date': 2013-05-24 04:00:0...</td>\n",
       "      <td>650.0</td>\n",
       "      <td>2150.0</td>\n",
       "      <td>[-0.0400562622, -0.0405789167, 0.000644172, 0....</td>\n",
       "      <td>[-0.1640156209, 0.1256971657, 0.6594450474, -0...</td>\n",
       "    </tr>\n",
       "    <tr>\n",
       "      <th>3</th>\n",
       "      <td>10009999</td>\n",
       "      <td>https://www.airbnb.com/rooms/10009999</td>\n",
       "      <td>Horto flat with small garden</td>\n",
       "      <td>One bedroom + sofa-bed in quiet and bucolic ne...</td>\n",
       "      <td>Lovely one bedroom + sofa-bed in the living ro...</td>\n",
       "      <td>One bedroom + sofa-bed in quiet and bucolic ne...</td>\n",
       "      <td>This charming ground floor flat is located in ...</td>\n",
       "      <td>There´s a table in the living room now, that d...</td>\n",
       "      <td>Easy access to transport (bus, taxi, car) and ...</td>\n",
       "      <td></td>\n",
       "      <td>...</td>\n",
       "      <td>{'thumbnail_url': '', 'medium_url': '', 'pictu...</td>\n",
       "      <td>{'host_id': '1282196', 'host_url': 'https://ww...</td>\n",
       "      <td>{'street': 'Rio de Janeiro, Rio de Janeiro, Br...</td>\n",
       "      <td>{'availability_30': 0, 'availability_60': 0, '...</td>\n",
       "      <td>{'review_scores_accuracy': None, 'review_score...</td>\n",
       "      <td>[]</td>\n",
       "      <td>1492.0</td>\n",
       "      <td>4849.0</td>\n",
       "      <td>[-0.063234821, 0.0017937823, -0.0243996996, -0...</td>\n",
       "      <td>[-0.1292964518, 0.037789464, 0.2443587631, 0.0...</td>\n",
       "    </tr>\n",
       "    <tr>\n",
       "      <th>4</th>\n",
       "      <td>10047964</td>\n",
       "      <td>https://www.airbnb.com/rooms/10047964</td>\n",
       "      <td>Charming Flat in Downtown Moda</td>\n",
       "      <td>Fully furnished 3+1 flat decorated with vintag...</td>\n",
       "      <td>The apartment is composed of 1 big bedroom wit...</td>\n",
       "      <td>Fully furnished 3+1 flat decorated with vintag...</td>\n",
       "      <td>With its diversity Moda- Kadikoy is one of the...</td>\n",
       "      <td></td>\n",
       "      <td></td>\n",
       "      <td></td>\n",
       "      <td>...</td>\n",
       "      <td>{'thumbnail_url': '', 'medium_url': '', 'pictu...</td>\n",
       "      <td>{'host_id': '1241644', 'host_url': 'https://ww...</td>\n",
       "      <td>{'street': 'Kadıköy, İstanbul, Turkey', 'subur...</td>\n",
       "      <td>{'availability_30': 27, 'availability_60': 57,...</td>\n",
       "      <td>{'review_scores_accuracy': 10, 'review_scores_...</td>\n",
       "      <td>[{'_id': '68162172', 'date': 2016-04-02 04:00:...</td>\n",
       "      <td>NaN</td>\n",
       "      <td>NaN</td>\n",
       "      <td>[0.023723349, 0.0064210771, -0.0339970738, -0....</td>\n",
       "      <td>[-0.1006749049, 0.4022984803, -0.1821258366, 0...</td>\n",
       "    </tr>\n",
       "  </tbody>\n",
       "</table>\n",
       "<p>5 rows × 43 columns</p>\n",
       "</div>"
      ],
      "text/plain": [
       "        _id                            listing_url  \\\n",
       "0  10006546  https://www.airbnb.com/rooms/10006546   \n",
       "1  10021707  https://www.airbnb.com/rooms/10021707   \n",
       "2   1001265   https://www.airbnb.com/rooms/1001265   \n",
       "3  10009999  https://www.airbnb.com/rooms/10009999   \n",
       "4  10047964  https://www.airbnb.com/rooms/10047964   \n",
       "\n",
       "                               name  \\\n",
       "0           Ribeira Charming Duplex   \n",
       "1          Private Room in Bushwick   \n",
       "2  Ocean View Waikiki Marina w/prkg   \n",
       "3      Horto flat with small garden   \n",
       "4    Charming Flat in Downtown Moda   \n",
       "\n",
       "                                             summary  \\\n",
       "0  Fantastic duplex apartment with three bedrooms...   \n",
       "1  Here exists a very cozy room for rent in a sha...   \n",
       "2  A short distance from Honolulu's billion dolla...   \n",
       "3  One bedroom + sofa-bed in quiet and bucolic ne...   \n",
       "4  Fully furnished 3+1 flat decorated with vintag...   \n",
       "\n",
       "                                               space  \\\n",
       "0  Privileged views of the Douro River and Ribeir...   \n",
       "1                                                      \n",
       "2  Great studio located on Ala Moana across the s...   \n",
       "3  Lovely one bedroom + sofa-bed in the living ro...   \n",
       "4  The apartment is composed of 1 big bedroom wit...   \n",
       "\n",
       "                                         description  \\\n",
       "0  Fantastic duplex apartment with three bedrooms...   \n",
       "1  Here exists a very cozy room for rent in a sha...   \n",
       "2  A short distance from Honolulu's billion dolla...   \n",
       "3  One bedroom + sofa-bed in quiet and bucolic ne...   \n",
       "4  Fully furnished 3+1 flat decorated with vintag...   \n",
       "\n",
       "                               neighborhood_overview  \\\n",
       "0  In the neighborhood of the river, you can find...   \n",
       "1                                                      \n",
       "2             You can breath ocean as well as aloha.   \n",
       "3  This charming ground floor flat is located in ...   \n",
       "4  With its diversity Moda- Kadikoy is one of the...   \n",
       "\n",
       "                                               notes  \\\n",
       "0  Lose yourself in the narrow streets and stairc...   \n",
       "1                                                      \n",
       "2                                                      \n",
       "3  There´s a table in the living room now, that d...   \n",
       "4                                                      \n",
       "\n",
       "                                             transit  \\\n",
       "0  Transport: • Metro station and S. Bento railwa...   \n",
       "1                                                      \n",
       "2  Honolulu does have a very good air conditioned...   \n",
       "3  Easy access to transport (bus, taxi, car) and ...   \n",
       "4                                                      \n",
       "\n",
       "                                              access  ...  \\\n",
       "0  We are always available to help guests. The ho...  ...   \n",
       "1                                                     ...   \n",
       "2                           Pool, hot tub and tennis  ...   \n",
       "3                                                     ...   \n",
       "4                                                     ...   \n",
       "\n",
       "                                              images  \\\n",
       "0  {'thumbnail_url': '', 'medium_url': '', 'pictu...   \n",
       "1  {'thumbnail_url': '', 'medium_url': '', 'pictu...   \n",
       "2  {'thumbnail_url': '', 'medium_url': '', 'pictu...   \n",
       "3  {'thumbnail_url': '', 'medium_url': '', 'pictu...   \n",
       "4  {'thumbnail_url': '', 'medium_url': '', 'pictu...   \n",
       "\n",
       "                                                host  \\\n",
       "0  {'host_id': '51399391', 'host_url': 'https://w...   \n",
       "1  {'host_id': '11275734', 'host_url': 'https://w...   \n",
       "2  {'host_id': '5448114', 'host_url': 'https://ww...   \n",
       "3  {'host_id': '1282196', 'host_url': 'https://ww...   \n",
       "4  {'host_id': '1241644', 'host_url': 'https://ww...   \n",
       "\n",
       "                                             address  \\\n",
       "0  {'street': 'Porto, Porto, Portugal', 'suburb':...   \n",
       "1  {'street': 'Brooklyn, NY, United States', 'sub...   \n",
       "2  {'street': 'Honolulu, HI, United States', 'sub...   \n",
       "3  {'street': 'Rio de Janeiro, Rio de Janeiro, Br...   \n",
       "4  {'street': 'Kadıköy, İstanbul, Turkey', 'subur...   \n",
       "\n",
       "                                        availability  \\\n",
       "0  {'availability_30': 28, 'availability_60': 47,...   \n",
       "1  {'availability_30': 0, 'availability_60': 0, '...   \n",
       "2  {'availability_30': 16, 'availability_60': 46,...   \n",
       "3  {'availability_30': 0, 'availability_60': 0, '...   \n",
       "4  {'availability_30': 27, 'availability_60': 57,...   \n",
       "\n",
       "                                       review_scores  \\\n",
       "0  {'review_scores_accuracy': 9, 'review_scores_c...   \n",
       "1  {'review_scores_accuracy': 10, 'review_scores_...   \n",
       "2  {'review_scores_accuracy': 9, 'review_scores_c...   \n",
       "3  {'review_scores_accuracy': None, 'review_score...   \n",
       "4  {'review_scores_accuracy': 10, 'review_scores_...   \n",
       "\n",
       "                                             reviews  weekly_price  \\\n",
       "0  [{'_id': '58663741', 'date': 2016-01-03 05:00:...           NaN   \n",
       "1  [{'_id': '61050713', 'date': 2016-01-31 05:00:...           NaN   \n",
       "2  [{'_id': '4765259', 'date': 2013-05-24 04:00:0...         650.0   \n",
       "3                                                 []        1492.0   \n",
       "4  [{'_id': '68162172', 'date': 2016-04-02 04:00:...           NaN   \n",
       "\n",
       "  monthly_price                                    text_embeddings  \\\n",
       "0           NaN  [0.0123710884, -0.0180913936, -0.016843712, -0...   \n",
       "1           NaN  [0.0153845912, -0.0348115042, -0.0093448907, 0...   \n",
       "2        2150.0  [-0.0400562622, -0.0405789167, 0.000644172, 0....   \n",
       "3        4849.0  [-0.063234821, 0.0017937823, -0.0243996996, -0...   \n",
       "4           NaN  [0.023723349, 0.0064210771, -0.0339970738, -0....   \n",
       "\n",
       "                                    image_embeddings  \n",
       "0  [-0.1302358955, 0.1534578055, 0.0199299306, -0...  \n",
       "1  [0.0340401195, 0.1742489338, -0.1572628617, 0....  \n",
       "2  [-0.1640156209, 0.1256971657, 0.6594450474, -0...  \n",
       "3  [-0.1292964518, 0.037789464, 0.2443587631, 0.0...  \n",
       "4  [-0.1006749049, 0.4022984803, -0.1821258366, 0...  \n",
       "\n",
       "[5 rows x 43 columns]"
      ]
     },
     "execution_count": 3,
     "metadata": {},
     "output_type": "execute_result"
    }
   ],
   "source": [
    "from datasets import load_dataset\n",
    "import pandas as pd\n",
    "\n",
    "dataset = load_dataset(\"MongoDB/airbnb_embeddings\", streaming=True, split=\"train\")\n",
    "dataset = dataset.take(100)\n",
    "# Convert the dataset to a pandas dataframe\n",
    "dataset_df = pd.DataFrame(dataset)\n",
    "dataset_df.head(5)"
   ]
  },
  {
   "cell_type": "code",
   "execution_count": 4,
   "id": "cef8a3ce-e87d-49f3-a935-530cb54d6f2e",
   "metadata": {
    "height": 30
   },
   "outputs": [
    {
     "name": "stdout",
     "output_type": "stream",
     "text": [
      "Columns: Index(['_id', 'listing_url', 'name', 'summary', 'space', 'description',\n",
      "       'neighborhood_overview', 'notes', 'transit', 'access', 'interaction',\n",
      "       'house_rules', 'property_type', 'room_type', 'bed_type',\n",
      "       'minimum_nights', 'maximum_nights', 'cancellation_policy',\n",
      "       'last_scraped', 'calendar_last_scraped', 'first_review', 'last_review',\n",
      "       'accommodates', 'bedrooms', 'beds', 'number_of_reviews', 'bathrooms',\n",
      "       'amenities', 'price', 'security_deposit', 'cleaning_fee',\n",
      "       'extra_people', 'guests_included', 'images', 'host', 'address',\n",
      "       'availability', 'review_scores', 'reviews', 'weekly_price',\n",
      "       'monthly_price', 'text_embeddings', 'image_embeddings'],\n",
      "      dtype='object')\n"
     ]
    }
   ],
   "source": [
    "print(\"Columns:\", dataset_df.columns)"
   ]
  },
  {
   "cell_type": "markdown",
   "id": "75cabb79-54bd-443f-8edc-ba80ec529be5",
   "metadata": {},
   "source": [
    "## Document Modelling"
   ]
  },
  {
   "cell_type": "code",
   "execution_count": 5,
   "id": "03e640da-4906-4ade-8f0e-9559f7239575",
   "metadata": {
    "height": 30
   },
   "outputs": [],
   "source": [
    "listings = custom_utils.process_records(dataset_df)"
   ]
  },
  {
   "cell_type": "markdown",
   "id": "8d8dc7e1-d108-4a40-8294-4325b69fd5a4",
   "metadata": {},
   "source": [
    "## Database Creation and Connection"
   ]
  },
  {
   "cell_type": "code",
   "execution_count": 6,
   "id": "d124791c-f015-440b-9d64-6cb7d6c7a6c9",
   "metadata": {
    "height": 30
   },
   "outputs": [
    {
     "name": "stdout",
     "output_type": "stream",
     "text": [
      "Connection to MongoDB successful\n"
     ]
    }
   ],
   "source": [
    "db, collection = custom_utils.connect_to_database()"
   ]
  },
  {
   "cell_type": "code",
   "execution_count": 7,
   "id": "b5865a1f-9db7-4eb4-b768-e3353d637121",
   "metadata": {
    "height": 47
   },
   "outputs": [
    {
     "data": {
      "text/plain": [
       "DeleteResult({'n': 0, 'electionId': ObjectId('7fffffff0000000000000002'), 'opTime': {'ts': Timestamp(1720679412, 1), 't': 2}, 'ok': 1.0, '$clusterTime': {'clusterTime': Timestamp(1720679412, 1), 'signature': {'hash': b'\\x00\\x00\\x00\\x00\\x00\\x00\\x00\\x00\\x00\\x00\\x00\\x00\\x00\\x00\\x00\\x00\\x00\\x00\\x00\\x00', 'keyId': 0}}, 'operationTime': Timestamp(1720679412, 1)}, acknowledged=True)"
      ]
     },
     "execution_count": 7,
     "metadata": {},
     "output_type": "execute_result"
    }
   ],
   "source": [
    "# Delete any existing records in the collection\n",
    "collection.delete_many({})"
   ]
  },
  {
   "cell_type": "markdown",
   "id": "d616ad62-e4b2-4086-b596-14320baa5db6",
   "metadata": {},
   "source": [
    "## Data Ingestion"
   ]
  },
  {
   "cell_type": "code",
   "execution_count": 8,
   "id": "b602c4d7-fd03-4fa4-be63-0b22b29724b7",
   "metadata": {
    "height": 47
   },
   "outputs": [
    {
     "name": "stdout",
     "output_type": "stream",
     "text": [
      "Data ingestion into MongoDB completed\n"
     ]
    }
   ],
   "source": [
    "collection.insert_many(listings)\n",
    "print(\"Data ingestion into MongoDB completed\")"
   ]
  },
  {
   "cell_type": "markdown",
   "id": "9567637d-9c54-4594-81b7-592f634eb7fa",
   "metadata": {},
   "source": [
    "## Vector Search Index defintion"
   ]
  },
  {
   "cell_type": "code",
   "execution_count": 9,
   "id": "061b04e8-b279-41dc-80fc-d94fcd544af8",
   "metadata": {
    "height": 64
   },
   "outputs": [
    {
     "name": "stdout",
     "output_type": "stream",
     "text": [
      "Creating index...\n",
      "New index created successfully: vector_index_with_filter\n"
     ]
    }
   ],
   "source": [
    "# Create vector search index\n",
    "custom_utils.setup_vector_search_index_with_filter(collection=collection)"
   ]
  },
  {
   "cell_type": "markdown",
   "id": "67cb4620-1f39-432e-a27b-dfc120cab7b8",
   "metadata": {},
   "source": [
    "<p style=\"background-color:#fff6e4; padding:15px; border-width:3px; border-color:#f5ecda; border-style:solid; border-radius:6px\"> ⏳ <b>Note:</b> If the output of the previous cell is <code>Error creating vector search index: Duplicate Index</code> you may proceed to the next cell if you intend to still use a previously created index.</p>"
   ]
  },
  {
   "cell_type": "markdown",
   "id": "678beaa8-f9bb-4f60-bf21-1e56916c6da9",
   "metadata": {},
   "source": [
    "## Handling User Query"
   ]
  },
  {
   "cell_type": "code",
   "execution_count": 10,
   "id": "ea395473-e021-487e-a794-280655380fb2",
   "metadata": {
    "height": 200
   },
   "outputs": [],
   "source": [
    "from pydantic import BaseModel\n",
    "from typing import Optional\n",
    "\n",
    "class SearchResultItem(BaseModel):\n",
    "    name: str\n",
    "    accommodates: Optional[int] = None\n",
    "    address: custom_utils.Address\n",
    "    averageReviewScore: Optional[float] = None\n",
    "    number_of_reviews: Optional[float] = None\n",
    "    combinedScore: Optional[float] = None\n"
   ]
  },
  {
   "cell_type": "code",
   "execution_count": 11,
   "id": "1cdf3da4-0686-469b-af28-28c7e2540f2f",
   "metadata": {
    "height": 625
   },
   "outputs": [],
   "source": [
    "from IPython.display import display, HTML\n",
    "\n",
    "def handle_user_query(query, db, collection, stages=[], vector_index=\"vector_index_text\"):\n",
    "    get_knowledge = custom_utils.vector_search_with_filter(query, db, collection, stages, vector_index)\n",
    "\n",
    "    if not get_knowledge:\n",
    "        return \"No results found.\", \"No source information available.\"\n",
    "    \n",
    "    print(\"List of all fields of the first document, before model conformance\")\n",
    "    print(get_knowledge[0].keys())\n",
    "\n",
    "    search_results_models = [\n",
    "        SearchResultItem(**result)\n",
    "        for result in get_knowledge\n",
    "    ]\n",
    "\n",
    "    search_results_df = pd.DataFrame([item.dict() for item in search_results_models])\n",
    "\n",
    "    completion = custom_utils.openai.chat.completions.create(\n",
    "        model=\"gpt-3.5-turbo\",\n",
    "        messages=[\n",
    "            {\n",
    "                \"role\": \"system\", \n",
    "                \"content\": \"You are a airbnb listing recommendation system.\"},\n",
    "            {\n",
    "                \"role\": \"user\", \n",
    "                \"content\": f\"Answer this user query: {query} with the following context:\\n{search_results_df}\"\n",
    "            }\n",
    "        ]\n",
    "    )\n",
    "    system_response = completion.choices[0].message.content\n",
    "    print(f\"- User Question:\\n{query}\\n\")\n",
    "    print(f\"- System Response:\\n{system_response}\\n\")\n",
    "    display(HTML(search_results_df.to_html()))\n",
    "    return system_response"
   ]
  },
  {
   "cell_type": "markdown",
   "id": "8d50e3e1-92ae-4957-86e8-77f6936b7f73",
   "metadata": {},
   "source": [
    "## Boosting Search Results After Vector Search"
   ]
  },
  {
   "cell_type": "code",
   "execution_count": 12,
   "id": "1d86e9f0-5a7e-43fb-b855-ecf3ee2a46a5",
   "metadata": {
    "height": 387
   },
   "outputs": [],
   "source": [
    "review_average_stage = {\n",
    "    \"$addFields\": {\n",
    "        \"averageReviewScore\": {\n",
    "            \"$divide\": [\n",
    "                {\n",
    "                    \"$add\": [\n",
    "                        \"$review_scores.review_scores_accuracy\",\n",
    "                        \"$review_scores.review_scores_cleanliness\",\n",
    "                        \"$review_scores.review_scores_checkin\",\n",
    "                        \"$review_scores.review_scores_communication\",\n",
    "                        \"$review_scores.review_scores_location\",\n",
    "                        \"$review_scores.review_scores_value\",\n",
    "                    ]\n",
    "                },\n",
    "                6  # Divide by the number of review score types to get the average\n",
    "            ]\n",
    "        },\n",
    "        # Calculate a score boost factor based on the number of reviews\n",
    "        \"reviewCountBoost\": \"$number_of_reviews\"\n",
    "    }\n",
    "}"
   ]
  },
  {
   "cell_type": "code",
   "execution_count": 13,
   "id": "8ecb2cff-50de-4656-bc62-1586e9a06b9a",
   "metadata": {
    "height": 217
   },
   "outputs": [],
   "source": [
    "weighting_stage = {\n",
    "    \"$addFields\": {\n",
    "        \"combinedScore\": {\n",
    "            # Example formula that combines average review score and review count boost\n",
    "            \"$add\": [\n",
    "                {\"$multiply\": [\"$averageReviewScore\", 0.9]},  # Weighted average review score\n",
    "                {\"$multiply\": [\"$reviewCountBoost\", 0.1]}   # Weighted review count boost\n",
    "            ]\n",
    "        }\n",
    "    }\n",
    "}"
   ]
  },
  {
   "cell_type": "code",
   "execution_count": 14,
   "id": "b6d230f8-324c-4466-8efc-e02e2ea3ff30",
   "metadata": {
    "height": 98
   },
   "outputs": [],
   "source": [
    "# Apply the combinedScore for sorting\n",
    "sorting_stage_sort = {\n",
    "    \"$sort\": {\"combinedScore\": -1}  # Descending order to boost higher combined scores\n",
    "}"
   ]
  },
  {
   "cell_type": "code",
   "execution_count": 15,
   "id": "0318142e-32a2-4bb8-90ec-c1d059d93b95",
   "metadata": {
    "height": 47
   },
   "outputs": [],
   "source": [
    "additional_stages = [review_average_stage, weighting_stage, sorting_stage_sort]"
   ]
  },
  {
   "cell_type": "markdown",
   "id": "4f141afc-ba58-49dc-80fc-1aa6e2e0625a",
   "metadata": {},
   "source": [
    "## Results"
   ]
  },
  {
   "cell_type": "code",
   "execution_count": 16,
   "id": "1b6a6df8-c9a6-4001-b575-5d38c03fef1d",
   "metadata": {
    "height": 217
   },
   "outputs": [
    {
     "name": "stdout",
     "output_type": "stream",
     "text": [
      "Total time for the execution to complete on the database server: 0.097863 milliseconds\n",
      "List of all fields of the first document, before model conformance\n",
      "dict_keys(['_id', 'listing_url', 'name', 'summary', 'space', 'description', 'neighborhood_overview', 'notes', 'transit', 'access', 'interaction', 'house_rules', 'property_type', 'room_type', 'bed_type', 'minimum_nights', 'maximum_nights', 'cancellation_policy', 'last_scraped', 'calendar_last_scraped', 'first_review', 'last_review', 'accommodates', 'bedrooms', 'beds', 'number_of_reviews', 'bathrooms', 'amenities', 'price', 'security_deposit', 'cleaning_fee', 'extra_people', 'guests_included', 'images', 'host', 'address', 'availability', 'review_scores', 'reviews', 'text_embeddings', 'averageReviewScore', 'reviewCountBoost', 'combinedScore'])\n",
      "- User Question:\n",
      "\n",
      "I want to stay in a place that's warm and friendly, \n",
      "and not too far from resturants, can you recommend a place? \n",
      "Include a reason as to why you've chosen your selection\"\n",
      "\n",
      "\n",
      "- System Response:\n",
      "I recommend you stay at \"Homely Room in 5-Star New Condo@MTR\" in Mongkok, Kowloon, Hong Kong. This listing has an average review score of 9.5 and accommodates 2 guests. It is located in a vibrant area with easy access to restaurants and attractions. The warm and friendly atmosphere of the condo combined with its convenient location makes it an ideal choice for your stay.\n",
      "\n"
     ]
    },
    {
     "data": {
      "text/html": [
       "<table border=\"1\" class=\"dataframe\">\n",
       "  <thead>\n",
       "    <tr style=\"text-align: right;\">\n",
       "      <th></th>\n",
       "      <th>name</th>\n",
       "      <th>accommodates</th>\n",
       "      <th>address</th>\n",
       "      <th>averageReviewScore</th>\n",
       "      <th>number_of_reviews</th>\n",
       "      <th>combinedScore</th>\n",
       "    </tr>\n",
       "  </thead>\n",
       "  <tbody>\n",
       "    <tr>\n",
       "      <th>0</th>\n",
       "      <td>A bedroom far away from home</td>\n",
       "      <td>2</td>\n",
       "      <td>{'street': 'Queens, NY, United States', 'government_area': 'Briarwood', 'market': 'New York', 'country': 'United States', 'country_code': 'US', 'location': {'type': 'Point', 'coordinates': [-73.82257, 40.71485], 'is_location_exact': True}}</td>\n",
       "      <td>9.833333</td>\n",
       "      <td>239.0</td>\n",
       "      <td>32.75</td>\n",
       "    </tr>\n",
       "    <tr>\n",
       "      <th>1</th>\n",
       "      <td>Homely Room in 5-Star New Condo@MTR</td>\n",
       "      <td>2</td>\n",
       "      <td>{'street': 'Mongkok, Kowloon, Hong Kong', 'government_area': 'Yau Tsim Mong', 'market': 'Hong Kong', 'country': 'Hong Kong', 'country_code': 'HK', 'location': {'type': 'Point', 'coordinates': [114.17094, 22.32074], 'is_location_exact': False}}</td>\n",
       "      <td>9.500000</td>\n",
       "      <td>179.0</td>\n",
       "      <td>26.45</td>\n",
       "    </tr>\n",
       "    <tr>\n",
       "      <th>2</th>\n",
       "      <td>Cozy double bed room 東涌鄉村雅緻雙人房</td>\n",
       "      <td>2</td>\n",
       "      <td>{'street': 'Hong Kong, New Territories, Hong Kong', 'government_area': 'Islands', 'market': 'Hong Kong', 'country': 'Hong Kong', 'country_code': 'HK', 'location': {'type': 'Point', 'coordinates': [113.92823, 22.27671], 'is_location_exact': False}}</td>\n",
       "      <td>9.666667</td>\n",
       "      <td>162.0</td>\n",
       "      <td>24.90</td>\n",
       "    </tr>\n",
       "    <tr>\n",
       "      <th>3</th>\n",
       "      <td>The Garden Studio</td>\n",
       "      <td>2</td>\n",
       "      <td>{'street': 'Marrickville, NSW, Australia', 'government_area': 'Marrickville', 'market': 'Sydney', 'country': 'Australia', 'country_code': 'AU', 'location': {'type': 'Point', 'coordinates': [151.15036, -33.90318], 'is_location_exact': False}}</td>\n",
       "      <td>9.833333</td>\n",
       "      <td>146.0</td>\n",
       "      <td>23.45</td>\n",
       "    </tr>\n",
       "    <tr>\n",
       "      <th>4</th>\n",
       "      <td>Best location 1BR Apt in HK - Shops &amp; Sights</td>\n",
       "      <td>4</td>\n",
       "      <td>{'street': 'Hong Kong, Kowloon, Hong Kong', 'government_area': 'Yau Tsim Mong', 'market': 'Hong Kong', 'country': 'Hong Kong', 'country_code': 'HK', 'location': {'type': 'Point', 'coordinates': [114.17088, 22.29663], 'is_location_exact': True}}</td>\n",
       "      <td>9.833333</td>\n",
       "      <td>145.0</td>\n",
       "      <td>23.35</td>\n",
       "    </tr>\n",
       "    <tr>\n",
       "      <th>5</th>\n",
       "      <td>Bondi Beach Dreaming 3-Bed House</td>\n",
       "      <td>8</td>\n",
       "      <td>{'street': 'Bondi Beach, NSW, Australia', 'government_area': 'Waverley', 'market': 'Sydney', 'country': 'Australia', 'country_code': 'AU', 'location': {'type': 'Point', 'coordinates': [151.27448, -33.8872], 'is_location_exact': False}}</td>\n",
       "      <td>9.833333</td>\n",
       "      <td>139.0</td>\n",
       "      <td>22.75</td>\n",
       "    </tr>\n",
       "    <tr>\n",
       "      <th>6</th>\n",
       "      <td>Sydney Hyde Park City Apartment (checkin from 6am)</td>\n",
       "      <td>2</td>\n",
       "      <td>{'street': 'Darlinghurst, NSW, Australia', 'government_area': 'Sydney', 'market': 'Sydney', 'country': 'Australia', 'country_code': 'AU', 'location': {'type': 'Point', 'coordinates': [151.21346, -33.87603], 'is_location_exact': False}}</td>\n",
       "      <td>10.000000</td>\n",
       "      <td>109.0</td>\n",
       "      <td>19.90</td>\n",
       "    </tr>\n",
       "    <tr>\n",
       "      <th>7</th>\n",
       "      <td>Studio convenient to CBD, beaches, street parking.</td>\n",
       "      <td>5</td>\n",
       "      <td>{'street': 'Balgowlah, NSW, Australia', 'government_area': 'Manly', 'market': 'Sydney', 'country': 'Australia', 'country_code': 'AU', 'location': {'type': 'Point', 'coordinates': [151.26108, -33.7975], 'is_location_exact': True}}</td>\n",
       "      <td>9.833333</td>\n",
       "      <td>104.0</td>\n",
       "      <td>19.25</td>\n",
       "    </tr>\n",
       "    <tr>\n",
       "      <th>8</th>\n",
       "      <td>Banyan Bungalow</td>\n",
       "      <td>2</td>\n",
       "      <td>{'street': 'Waialua, HI, United States', 'government_area': 'North Shore Oahu', 'market': 'Oahu', 'country': 'United States', 'country_code': 'US', 'location': {'type': 'Point', 'coordinates': [-158.1602, 21.57561], 'is_location_exact': False}}</td>\n",
       "      <td>9.666667</td>\n",
       "      <td>99.0</td>\n",
       "      <td>18.60</td>\n",
       "    </tr>\n",
       "    <tr>\n",
       "      <th>9</th>\n",
       "      <td>Cheerful new renovated central apt</td>\n",
       "      <td>8</td>\n",
       "      <td>{'street': 'Beyoğlu, İstanbul, Turkey', 'government_area': 'Beyoglu', 'market': 'Istanbul', 'country': 'Turkey', 'country_code': 'TR', 'location': {'type': 'Point', 'coordinates': [28.97477, 41.03735], 'is_location_exact': False}}</td>\n",
       "      <td>9.333333</td>\n",
       "      <td>77.0</td>\n",
       "      <td>16.10</td>\n",
       "    </tr>\n",
       "    <tr>\n",
       "      <th>10</th>\n",
       "      <td>Surry Hills Studio - Your Perfect Base in Sydney</td>\n",
       "      <td>2</td>\n",
       "      <td>{'street': 'Surry Hills, NSW, Australia', 'government_area': 'Sydney', 'market': 'Sydney', 'country': 'Australia', 'country_code': 'AU', 'location': {'type': 'Point', 'coordinates': [151.21554, -33.88029], 'is_location_exact': True}}</td>\n",
       "      <td>9.666667</td>\n",
       "      <td>64.0</td>\n",
       "      <td>15.10</td>\n",
       "    </tr>\n",
       "    <tr>\n",
       "      <th>11</th>\n",
       "      <td>Nice Cosy Room In Taksim</td>\n",
       "      <td>2</td>\n",
       "      <td>{'street': 'Taksim, Cihangir, Istanbul , Beyoğlu, Turkey', 'government_area': 'Beyoglu', 'market': 'Istanbul', 'country': 'Turkey', 'country_code': 'TR', 'location': {'type': 'Point', 'coordinates': [28.98648, 41.03376], 'is_location_exact': True}}</td>\n",
       "      <td>9.833333</td>\n",
       "      <td>31.0</td>\n",
       "      <td>11.95</td>\n",
       "    </tr>\n",
       "    <tr>\n",
       "      <th>12</th>\n",
       "      <td>Cozy house at Beyoğlu</td>\n",
       "      <td>2</td>\n",
       "      <td>{'street': 'Beyoğlu, İstanbul, Turkey', 'government_area': 'Beyoglu', 'market': 'Istanbul', 'country': 'Turkey', 'country_code': 'TR', 'location': {'type': 'Point', 'coordinates': [28.95825, 41.03777], 'is_location_exact': False}}</td>\n",
       "      <td>9.666667</td>\n",
       "      <td>27.0</td>\n",
       "      <td>11.40</td>\n",
       "    </tr>\n",
       "    <tr>\n",
       "      <th>13</th>\n",
       "      <td>March 2019 availability! Oceanview on Sugar Beach!</td>\n",
       "      <td>4</td>\n",
       "      <td>{'street': 'Kihei, HI, United States', 'government_area': 'Kihei-Makena', 'market': 'Maui', 'country': 'United States', 'country_code': 'US', 'location': {'type': 'Point', 'coordinates': [-156.46881, 20.78621], 'is_location_exact': True}}</td>\n",
       "      <td>9.666667</td>\n",
       "      <td>19.0</td>\n",
       "      <td>10.60</td>\n",
       "    </tr>\n",
       "    <tr>\n",
       "      <th>14</th>\n",
       "      <td>Easy 1 Bedroom in Chelsea</td>\n",
       "      <td>2</td>\n",
       "      <td>{'street': 'New York, NY, United States', 'government_area': 'Chelsea', 'market': 'New York', 'country': 'United States', 'country_code': 'US', 'location': {'type': 'Point', 'coordinates': [-74.00074, 40.74577], 'is_location_exact': True}}</td>\n",
       "      <td>10.000000</td>\n",
       "      <td>1.0</td>\n",
       "      <td>9.10</td>\n",
       "    </tr>\n",
       "    <tr>\n",
       "      <th>15</th>\n",
       "      <td>Cozy bedroom Sagrada Familia</td>\n",
       "      <td>2</td>\n",
       "      <td>{'street': 'Barcelona, Catalunya, Spain', 'government_area': 'el Fort Pienc', 'market': 'Barcelona', 'country': 'Spain', 'country_code': 'ES', 'location': {'type': 'Point', 'coordinates': [2.17963, 41.40087], 'is_location_exact': True}}</td>\n",
       "      <td>10.000000</td>\n",
       "      <td>1.0</td>\n",
       "      <td>9.10</td>\n",
       "    </tr>\n",
       "    <tr>\n",
       "      <th>16</th>\n",
       "      <td>Charming Flat in Downtown Moda</td>\n",
       "      <td>6</td>\n",
       "      <td>{'street': 'Kadıköy, İstanbul, Turkey', 'government_area': 'Kadikoy', 'market': 'Istanbul', 'country': 'Turkey', 'country_code': 'TR', 'location': {'type': 'Point', 'coordinates': [29.03133, 40.98585], 'is_location_exact': True}}</td>\n",
       "      <td>10.000000</td>\n",
       "      <td>1.0</td>\n",
       "      <td>9.10</td>\n",
       "    </tr>\n",
       "    <tr>\n",
       "      <th>17</th>\n",
       "      <td>Downtown Oporto Inn (room cleaning)</td>\n",
       "      <td>2</td>\n",
       "      <td>{'street': 'Porto, Porto, Portugal', 'government_area': 'Cedofeita, Ildefonso, Sé, Miragaia, Nicolau, Vitória', 'market': 'Porto', 'country': 'Portugal', 'country_code': 'PT', 'location': {'type': 'Point', 'coordinates': [-8.60867, 41.1543], 'is_location_exact': False}}</td>\n",
       "      <td>NaN</td>\n",
       "      <td>0.0</td>\n",
       "      <td>NaN</td>\n",
       "    </tr>\n",
       "    <tr>\n",
       "      <th>18</th>\n",
       "      <td>Modern Spacious 1 Bedroom Loft</td>\n",
       "      <td>4</td>\n",
       "      <td>{'street': 'Montréal, Québec, Canada', 'government_area': 'Le Plateau-Mont-Royal', 'market': 'Montreal', 'country': 'Canada', 'country_code': 'CA', 'location': {'type': 'Point', 'coordinates': [-73.59111, 45.51889], 'is_location_exact': True}}</td>\n",
       "      <td>NaN</td>\n",
       "      <td>0.0</td>\n",
       "      <td>NaN</td>\n",
       "    </tr>\n",
       "    <tr>\n",
       "      <th>19</th>\n",
       "      <td>THE Place to See Sydney's FIREWORKS</td>\n",
       "      <td>2</td>\n",
       "      <td>{'street': 'Rozelle, NSW, Australia', 'government_area': 'Leichhardt', 'market': 'Sydney', 'country': 'Australia', 'country_code': 'AU', 'location': {'type': 'Point', 'coordinates': [151.17956, -33.86296], 'is_location_exact': True}}</td>\n",
       "      <td>NaN</td>\n",
       "      <td>0.0</td>\n",
       "      <td>NaN</td>\n",
       "    </tr>\n",
       "  </tbody>\n",
       "</table>"
      ],
      "text/plain": [
       "<IPython.core.display.HTML object>"
      ]
     },
     "metadata": {},
     "output_type": "display_data"
    },
    {
     "data": {
      "text/plain": [
       "'I recommend you stay at \"Homely Room in 5-Star New Condo@MTR\" in Mongkok, Kowloon, Hong Kong. This listing has an average review score of 9.5 and accommodates 2 guests. It is located in a vibrant area with easy access to restaurants and attractions. The warm and friendly atmosphere of the condo combined with its convenient location makes it an ideal choice for your stay.'"
      ]
     },
     "execution_count": 16,
     "metadata": {},
     "output_type": "execute_result"
    }
   ],
   "source": [
    "query = \"\"\"\n",
    "I want to stay in a place that's warm and friendly, \n",
    "and not too far from resturants, can you recommend a place? \n",
    "Include a reason as to why you've chosen your selection\"\n",
    "\"\"\"\n",
    "handle_user_query(\n",
    "    query, \n",
    "    db, \n",
    "    collection, \n",
    "    additional_stages, \n",
    "    vector_index=\"vector_index_with_filter\"\n",
    ")"
   ]
  },
  {
   "cell_type": "code",
   "execution_count": null,
   "id": "5b56cec1-d939-468e-b65c-ade0308acce8",
   "metadata": {
    "height": 30
   },
   "outputs": [],
   "source": []
  },
  {
   "cell_type": "code",
   "execution_count": null,
   "id": "70aa1f19-3a43-4800-8984-ea343dc5dfda",
   "metadata": {
    "height": 30
   },
   "outputs": [],
   "source": []
  },
  {
   "cell_type": "code",
   "execution_count": null,
   "id": "1aadfd10-c9ba-4f93-9f0d-b99771219e28",
   "metadata": {
    "height": 30
   },
   "outputs": [],
   "source": []
  },
  {
   "cell_type": "code",
   "execution_count": null,
   "id": "599d2704-4451-4db3-8e56-8eedb0de82f6",
   "metadata": {
    "height": 30
   },
   "outputs": [],
   "source": []
  },
  {
   "cell_type": "code",
   "execution_count": null,
   "id": "29a134ae-da61-4453-9f5f-ec6eb3992326",
   "metadata": {
    "height": 30
   },
   "outputs": [],
   "source": []
  }
 ],
 "metadata": {
  "kernelspec": {
   "display_name": "Python 3 (ipykernel)",
   "language": "python",
   "name": "python3"
  },
  "language_info": {
   "codemirror_mode": {
    "name": "ipython",
    "version": 3
   },
   "file_extension": ".py",
   "mimetype": "text/x-python",
   "name": "python",
   "nbconvert_exporter": "python",
   "pygments_lexer": "ipython3",
   "version": "3.11.7"
  }
 },
 "nbformat": 4,
 "nbformat_minor": 5
}
