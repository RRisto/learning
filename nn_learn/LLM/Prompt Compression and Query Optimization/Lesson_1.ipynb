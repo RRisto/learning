{
 "cells": [
  {
   "cell_type": "markdown",
   "id": "9a47c35e-5fd7-48ca-b865-d07d76d3cfff",
   "metadata": {},
   "source": [
    "# L1: Vanilla Vector Search\n"
   ]
  },
  {
   "cell_type": "markdown",
   "id": "01acdf11-0273-4a1a-9b35-090bfeb44343",
   "metadata": {},
   "source": [
    "<p style=\"background-color:#fff6e4; padding:15px; border-width:3px; border-color:#f5ecda; border-style:solid; border-radius:6px\"> ⏳ <b>Note <code>(Kernel Starting)</code>:</b> This notebook takes about 30 seconds to be ready to use. You may start and watch the video while you wait.</p>\n"
   ]
  },
  {
   "cell_type": "code",
   "execution_count": 1,
   "id": "d8062eca-e2de-4c79-ad94-9b4ad8e70d7e",
   "metadata": {
    "height": 64
   },
   "outputs": [],
   "source": [
    "# Warning control\n",
    "import warnings\n",
    "warnings.filterwarnings('ignore')"
   ]
  },
  {
   "cell_type": "code",
   "execution_count": 2,
   "id": "1b5cd7ff-ff61-4fc2-a246-b6ffeaa2869e",
   "metadata": {
    "height": 30
   },
   "outputs": [],
   "source": [
    "#!pip install datasets pandas openai pymongo pydantic"
   ]
  },
  {
   "cell_type": "markdown",
   "id": "835995e2-98e6-46cb-8050-9dce6d44f5c8",
   "metadata": {},
   "source": [
    "## Get API Keys\n",
    "In this classroom, the libraries and APIs have been already installed and set up for you.\n",
    "If you would like to run this code on your own machine, you will need to enter your own MONGO_URI and OPENAI_API_KEY keys in the following cell."
   ]
  },
  {
   "cell_type": "code",
   "execution_count": 3,
   "id": "32321449-c1ca-4851-95cd-8992418bdc1c",
   "metadata": {
    "height": 98
   },
   "outputs": [],
   "source": [
    "import os\n",
    "from dotenv import load_dotenv, find_dotenv\n",
    "_ = load_dotenv(find_dotenv()) # read local .env file\n",
    "OPENAI_API_KEY = os.environ.get(\"OPENAI_API_KEY\")\n",
    "MONGO_URI = os.environ.get(\"MONGO_URI\")"
   ]
  },
  {
   "cell_type": "markdown",
   "id": "2f7e67f7-f17c-4d18-ba19-ec64d4d544d7",
   "metadata": {},
   "source": [
    "<p style=\"background-color:#fff6ff; padding:15px; border-width:3px; border-color:#efe6ef; border-style:solid; border-radius:6px\"> 💻 &nbsp; <b>Access <code>requirements.txt</code> file:</b> To access <code>requirements.txt</code> for this notebook, 1) click on the <em>\"File\"</em> option on the top menu of the notebook and then 2) click on <em>\"Open\"</em>. For more help, please see the <em>\"Appendix - Tips and Help\"</em> Lesson.</p>"
   ]
  },
  {
   "cell_type": "markdown",
   "id": "b90f1121-a49e-45fc-af27-6da418c291cc",
   "metadata": {},
   "source": [
    "## 1.1 Data Loading"
   ]
  },
  {
   "cell_type": "code",
   "execution_count": 4,
   "id": "6104c624-b988-4ea6-9c79-f76907891507",
   "metadata": {
    "height": 251
   },
   "outputs": [
    {
     "data": {
      "application/vnd.jupyter.widget-view+json": {
       "model_id": "326b3853dd2f4ee59ef916bd4231c691",
       "version_major": 2,
       "version_minor": 0
      },
      "text/plain": [
       "Downloading readme:   0%|          | 0.00/4.84k [00:00<?, ?B/s]"
      ]
     },
     "metadata": {},
     "output_type": "display_data"
    },
    {
     "data": {
      "text/html": [
       "<div>\n",
       "<style scoped>\n",
       "    .dataframe tbody tr th:only-of-type {\n",
       "        vertical-align: middle;\n",
       "    }\n",
       "\n",
       "    .dataframe tbody tr th {\n",
       "        vertical-align: top;\n",
       "    }\n",
       "\n",
       "    .dataframe thead th {\n",
       "        text-align: right;\n",
       "    }\n",
       "</style>\n",
       "<table border=\"1\" class=\"dataframe\">\n",
       "  <thead>\n",
       "    <tr style=\"text-align: right;\">\n",
       "      <th></th>\n",
       "      <th>_id</th>\n",
       "      <th>listing_url</th>\n",
       "      <th>name</th>\n",
       "      <th>summary</th>\n",
       "      <th>space</th>\n",
       "      <th>description</th>\n",
       "      <th>neighborhood_overview</th>\n",
       "      <th>notes</th>\n",
       "      <th>transit</th>\n",
       "      <th>access</th>\n",
       "      <th>...</th>\n",
       "      <th>images</th>\n",
       "      <th>host</th>\n",
       "      <th>address</th>\n",
       "      <th>availability</th>\n",
       "      <th>review_scores</th>\n",
       "      <th>reviews</th>\n",
       "      <th>weekly_price</th>\n",
       "      <th>monthly_price</th>\n",
       "      <th>text_embeddings</th>\n",
       "      <th>image_embeddings</th>\n",
       "    </tr>\n",
       "  </thead>\n",
       "  <tbody>\n",
       "    <tr>\n",
       "      <th>0</th>\n",
       "      <td>10006546</td>\n",
       "      <td>https://www.airbnb.com/rooms/10006546</td>\n",
       "      <td>Ribeira Charming Duplex</td>\n",
       "      <td>Fantastic duplex apartment with three bedrooms...</td>\n",
       "      <td>Privileged views of the Douro River and Ribeir...</td>\n",
       "      <td>Fantastic duplex apartment with three bedrooms...</td>\n",
       "      <td>In the neighborhood of the river, you can find...</td>\n",
       "      <td>Lose yourself in the narrow streets and stairc...</td>\n",
       "      <td>Transport: • Metro station and S. Bento railwa...</td>\n",
       "      <td>We are always available to help guests. The ho...</td>\n",
       "      <td>...</td>\n",
       "      <td>{'thumbnail_url': '', 'medium_url': '', 'pictu...</td>\n",
       "      <td>{'host_id': '51399391', 'host_url': 'https://w...</td>\n",
       "      <td>{'street': 'Porto, Porto, Portugal', 'suburb':...</td>\n",
       "      <td>{'availability_30': 28, 'availability_60': 47,...</td>\n",
       "      <td>{'review_scores_accuracy': 9, 'review_scores_c...</td>\n",
       "      <td>[{'_id': '58663741', 'date': 2016-01-03 05:00:...</td>\n",
       "      <td>NaN</td>\n",
       "      <td>NaN</td>\n",
       "      <td>[0.0123710884, -0.0180913936, -0.016843712, -0...</td>\n",
       "      <td>[-0.1302358955, 0.1534578055, 0.0199299306, -0...</td>\n",
       "    </tr>\n",
       "    <tr>\n",
       "      <th>1</th>\n",
       "      <td>10021707</td>\n",
       "      <td>https://www.airbnb.com/rooms/10021707</td>\n",
       "      <td>Private Room in Bushwick</td>\n",
       "      <td>Here exists a very cozy room for rent in a sha...</td>\n",
       "      <td></td>\n",
       "      <td>Here exists a very cozy room for rent in a sha...</td>\n",
       "      <td></td>\n",
       "      <td></td>\n",
       "      <td></td>\n",
       "      <td></td>\n",
       "      <td>...</td>\n",
       "      <td>{'thumbnail_url': '', 'medium_url': '', 'pictu...</td>\n",
       "      <td>{'host_id': '11275734', 'host_url': 'https://w...</td>\n",
       "      <td>{'street': 'Brooklyn, NY, United States', 'sub...</td>\n",
       "      <td>{'availability_30': 0, 'availability_60': 0, '...</td>\n",
       "      <td>{'review_scores_accuracy': 10, 'review_scores_...</td>\n",
       "      <td>[{'_id': '61050713', 'date': 2016-01-31 05:00:...</td>\n",
       "      <td>NaN</td>\n",
       "      <td>NaN</td>\n",
       "      <td>[0.0153845912, -0.0348115042, -0.0093448907, 0...</td>\n",
       "      <td>[0.0340401195, 0.1742489338, -0.1572628617, 0....</td>\n",
       "    </tr>\n",
       "    <tr>\n",
       "      <th>2</th>\n",
       "      <td>1001265</td>\n",
       "      <td>https://www.airbnb.com/rooms/1001265</td>\n",
       "      <td>Ocean View Waikiki Marina w/prkg</td>\n",
       "      <td>A short distance from Honolulu's billion dolla...</td>\n",
       "      <td>Great studio located on Ala Moana across the s...</td>\n",
       "      <td>A short distance from Honolulu's billion dolla...</td>\n",
       "      <td>You can breath ocean as well as aloha.</td>\n",
       "      <td></td>\n",
       "      <td>Honolulu does have a very good air conditioned...</td>\n",
       "      <td>Pool, hot tub and tennis</td>\n",
       "      <td>...</td>\n",
       "      <td>{'thumbnail_url': '', 'medium_url': '', 'pictu...</td>\n",
       "      <td>{'host_id': '5448114', 'host_url': 'https://ww...</td>\n",
       "      <td>{'street': 'Honolulu, HI, United States', 'sub...</td>\n",
       "      <td>{'availability_30': 16, 'availability_60': 46,...</td>\n",
       "      <td>{'review_scores_accuracy': 9, 'review_scores_c...</td>\n",
       "      <td>[{'_id': '4765259', 'date': 2013-05-24 04:00:0...</td>\n",
       "      <td>650.0</td>\n",
       "      <td>2150.0</td>\n",
       "      <td>[-0.0400562622, -0.0405789167, 0.000644172, 0....</td>\n",
       "      <td>[-0.1640156209, 0.1256971657, 0.6594450474, -0...</td>\n",
       "    </tr>\n",
       "    <tr>\n",
       "      <th>3</th>\n",
       "      <td>10009999</td>\n",
       "      <td>https://www.airbnb.com/rooms/10009999</td>\n",
       "      <td>Horto flat with small garden</td>\n",
       "      <td>One bedroom + sofa-bed in quiet and bucolic ne...</td>\n",
       "      <td>Lovely one bedroom + sofa-bed in the living ro...</td>\n",
       "      <td>One bedroom + sofa-bed in quiet and bucolic ne...</td>\n",
       "      <td>This charming ground floor flat is located in ...</td>\n",
       "      <td>There´s a table in the living room now, that d...</td>\n",
       "      <td>Easy access to transport (bus, taxi, car) and ...</td>\n",
       "      <td></td>\n",
       "      <td>...</td>\n",
       "      <td>{'thumbnail_url': '', 'medium_url': '', 'pictu...</td>\n",
       "      <td>{'host_id': '1282196', 'host_url': 'https://ww...</td>\n",
       "      <td>{'street': 'Rio de Janeiro, Rio de Janeiro, Br...</td>\n",
       "      <td>{'availability_30': 0, 'availability_60': 0, '...</td>\n",
       "      <td>{'review_scores_accuracy': None, 'review_score...</td>\n",
       "      <td>[]</td>\n",
       "      <td>1492.0</td>\n",
       "      <td>4849.0</td>\n",
       "      <td>[-0.063234821, 0.0017937823, -0.0243996996, -0...</td>\n",
       "      <td>[-0.1292964518, 0.037789464, 0.2443587631, 0.0...</td>\n",
       "    </tr>\n",
       "    <tr>\n",
       "      <th>4</th>\n",
       "      <td>10047964</td>\n",
       "      <td>https://www.airbnb.com/rooms/10047964</td>\n",
       "      <td>Charming Flat in Downtown Moda</td>\n",
       "      <td>Fully furnished 3+1 flat decorated with vintag...</td>\n",
       "      <td>The apartment is composed of 1 big bedroom wit...</td>\n",
       "      <td>Fully furnished 3+1 flat decorated with vintag...</td>\n",
       "      <td>With its diversity Moda- Kadikoy is one of the...</td>\n",
       "      <td></td>\n",
       "      <td></td>\n",
       "      <td></td>\n",
       "      <td>...</td>\n",
       "      <td>{'thumbnail_url': '', 'medium_url': '', 'pictu...</td>\n",
       "      <td>{'host_id': '1241644', 'host_url': 'https://ww...</td>\n",
       "      <td>{'street': 'Kadıköy, İstanbul, Turkey', 'subur...</td>\n",
       "      <td>{'availability_30': 27, 'availability_60': 57,...</td>\n",
       "      <td>{'review_scores_accuracy': 10, 'review_scores_...</td>\n",
       "      <td>[{'_id': '68162172', 'date': 2016-04-02 04:00:...</td>\n",
       "      <td>NaN</td>\n",
       "      <td>NaN</td>\n",
       "      <td>[0.023723349, 0.0064210771, -0.0339970738, -0....</td>\n",
       "      <td>[-0.1006749049, 0.4022984803, -0.1821258366, 0...</td>\n",
       "    </tr>\n",
       "  </tbody>\n",
       "</table>\n",
       "<p>5 rows × 43 columns</p>\n",
       "</div>"
      ],
      "text/plain": [
       "        _id                            listing_url  \\\n",
       "0  10006546  https://www.airbnb.com/rooms/10006546   \n",
       "1  10021707  https://www.airbnb.com/rooms/10021707   \n",
       "2   1001265   https://www.airbnb.com/rooms/1001265   \n",
       "3  10009999  https://www.airbnb.com/rooms/10009999   \n",
       "4  10047964  https://www.airbnb.com/rooms/10047964   \n",
       "\n",
       "                               name  \\\n",
       "0           Ribeira Charming Duplex   \n",
       "1          Private Room in Bushwick   \n",
       "2  Ocean View Waikiki Marina w/prkg   \n",
       "3      Horto flat with small garden   \n",
       "4    Charming Flat in Downtown Moda   \n",
       "\n",
       "                                             summary  \\\n",
       "0  Fantastic duplex apartment with three bedrooms...   \n",
       "1  Here exists a very cozy room for rent in a sha...   \n",
       "2  A short distance from Honolulu's billion dolla...   \n",
       "3  One bedroom + sofa-bed in quiet and bucolic ne...   \n",
       "4  Fully furnished 3+1 flat decorated with vintag...   \n",
       "\n",
       "                                               space  \\\n",
       "0  Privileged views of the Douro River and Ribeir...   \n",
       "1                                                      \n",
       "2  Great studio located on Ala Moana across the s...   \n",
       "3  Lovely one bedroom + sofa-bed in the living ro...   \n",
       "4  The apartment is composed of 1 big bedroom wit...   \n",
       "\n",
       "                                         description  \\\n",
       "0  Fantastic duplex apartment with three bedrooms...   \n",
       "1  Here exists a very cozy room for rent in a sha...   \n",
       "2  A short distance from Honolulu's billion dolla...   \n",
       "3  One bedroom + sofa-bed in quiet and bucolic ne...   \n",
       "4  Fully furnished 3+1 flat decorated with vintag...   \n",
       "\n",
       "                               neighborhood_overview  \\\n",
       "0  In the neighborhood of the river, you can find...   \n",
       "1                                                      \n",
       "2             You can breath ocean as well as aloha.   \n",
       "3  This charming ground floor flat is located in ...   \n",
       "4  With its diversity Moda- Kadikoy is one of the...   \n",
       "\n",
       "                                               notes  \\\n",
       "0  Lose yourself in the narrow streets and stairc...   \n",
       "1                                                      \n",
       "2                                                      \n",
       "3  There´s a table in the living room now, that d...   \n",
       "4                                                      \n",
       "\n",
       "                                             transit  \\\n",
       "0  Transport: • Metro station and S. Bento railwa...   \n",
       "1                                                      \n",
       "2  Honolulu does have a very good air conditioned...   \n",
       "3  Easy access to transport (bus, taxi, car) and ...   \n",
       "4                                                      \n",
       "\n",
       "                                              access  ...  \\\n",
       "0  We are always available to help guests. The ho...  ...   \n",
       "1                                                     ...   \n",
       "2                           Pool, hot tub and tennis  ...   \n",
       "3                                                     ...   \n",
       "4                                                     ...   \n",
       "\n",
       "                                              images  \\\n",
       "0  {'thumbnail_url': '', 'medium_url': '', 'pictu...   \n",
       "1  {'thumbnail_url': '', 'medium_url': '', 'pictu...   \n",
       "2  {'thumbnail_url': '', 'medium_url': '', 'pictu...   \n",
       "3  {'thumbnail_url': '', 'medium_url': '', 'pictu...   \n",
       "4  {'thumbnail_url': '', 'medium_url': '', 'pictu...   \n",
       "\n",
       "                                                host  \\\n",
       "0  {'host_id': '51399391', 'host_url': 'https://w...   \n",
       "1  {'host_id': '11275734', 'host_url': 'https://w...   \n",
       "2  {'host_id': '5448114', 'host_url': 'https://ww...   \n",
       "3  {'host_id': '1282196', 'host_url': 'https://ww...   \n",
       "4  {'host_id': '1241644', 'host_url': 'https://ww...   \n",
       "\n",
       "                                             address  \\\n",
       "0  {'street': 'Porto, Porto, Portugal', 'suburb':...   \n",
       "1  {'street': 'Brooklyn, NY, United States', 'sub...   \n",
       "2  {'street': 'Honolulu, HI, United States', 'sub...   \n",
       "3  {'street': 'Rio de Janeiro, Rio de Janeiro, Br...   \n",
       "4  {'street': 'Kadıköy, İstanbul, Turkey', 'subur...   \n",
       "\n",
       "                                        availability  \\\n",
       "0  {'availability_30': 28, 'availability_60': 47,...   \n",
       "1  {'availability_30': 0, 'availability_60': 0, '...   \n",
       "2  {'availability_30': 16, 'availability_60': 46,...   \n",
       "3  {'availability_30': 0, 'availability_60': 0, '...   \n",
       "4  {'availability_30': 27, 'availability_60': 57,...   \n",
       "\n",
       "                                       review_scores  \\\n",
       "0  {'review_scores_accuracy': 9, 'review_scores_c...   \n",
       "1  {'review_scores_accuracy': 10, 'review_scores_...   \n",
       "2  {'review_scores_accuracy': 9, 'review_scores_c...   \n",
       "3  {'review_scores_accuracy': None, 'review_score...   \n",
       "4  {'review_scores_accuracy': 10, 'review_scores_...   \n",
       "\n",
       "                                             reviews  weekly_price  \\\n",
       "0  [{'_id': '58663741', 'date': 2016-01-03 05:00:...           NaN   \n",
       "1  [{'_id': '61050713', 'date': 2016-01-31 05:00:...           NaN   \n",
       "2  [{'_id': '4765259', 'date': 2013-05-24 04:00:0...         650.0   \n",
       "3                                                 []        1492.0   \n",
       "4  [{'_id': '68162172', 'date': 2016-04-02 04:00:...           NaN   \n",
       "\n",
       "  monthly_price                                    text_embeddings  \\\n",
       "0           NaN  [0.0123710884, -0.0180913936, -0.016843712, -0...   \n",
       "1           NaN  [0.0153845912, -0.0348115042, -0.0093448907, 0...   \n",
       "2        2150.0  [-0.0400562622, -0.0405789167, 0.000644172, 0....   \n",
       "3        4849.0  [-0.063234821, 0.0017937823, -0.0243996996, -0...   \n",
       "4           NaN  [0.023723349, 0.0064210771, -0.0339970738, -0....   \n",
       "\n",
       "                                    image_embeddings  \n",
       "0  [-0.1302358955, 0.1534578055, 0.0199299306, -0...  \n",
       "1  [0.0340401195, 0.1742489338, -0.1572628617, 0....  \n",
       "2  [-0.1640156209, 0.1256971657, 0.6594450474, -0...  \n",
       "3  [-0.1292964518, 0.037789464, 0.2443587631, 0.0...  \n",
       "4  [-0.1006749049, 0.4022984803, -0.1821258366, 0...  \n",
       "\n",
       "[5 rows x 43 columns]"
      ]
     },
     "execution_count": 4,
     "metadata": {},
     "output_type": "execute_result"
    }
   ],
   "source": [
    "# 1. Dataset Loading\n",
    "from datasets import load_dataset\n",
    "import pandas as pd\n",
    "\n",
    "# NOTE: Make sure you have an Hugging Face token (HF_TOKEN) in your development environemnt\n",
    "# NOTE: https://huggingface.co/datasets/MongoDB/airbnb_embeddings\n",
    "# NOTE: This dataset contains several records with datapoint representing an airbnb listing.\n",
    "# NOTE: This dataset contains text and image embeddings, but this lessons only uses the text embeddings\n",
    "dataset = load_dataset(\"MongoDB/airbnb_embeddings\", streaming=True, split=\"train\")\n",
    "dataset = dataset.take(100)\n",
    "# Convert the dataset to a pandas dataframe\n",
    "dataset_df = pd.DataFrame(dataset)\n",
    "dataset_df.head(5)"
   ]
  },
  {
   "cell_type": "code",
   "execution_count": 5,
   "id": "5194bdd7-f563-4bdb-bc49-b528beaf5543",
   "metadata": {
    "height": 30
   },
   "outputs": [
    {
     "name": "stdout",
     "output_type": "stream",
     "text": [
      "Columns: Index(['_id', 'listing_url', 'name', 'summary', 'space', 'description',\n",
      "       'neighborhood_overview', 'notes', 'transit', 'access', 'interaction',\n",
      "       'house_rules', 'property_type', 'room_type', 'bed_type',\n",
      "       'minimum_nights', 'maximum_nights', 'cancellation_policy',\n",
      "       'last_scraped', 'calendar_last_scraped', 'first_review', 'last_review',\n",
      "       'accommodates', 'bedrooms', 'beds', 'number_of_reviews', 'bathrooms',\n",
      "       'amenities', 'price', 'security_deposit', 'cleaning_fee',\n",
      "       'extra_people', 'guests_included', 'images', 'host', 'address',\n",
      "       'availability', 'review_scores', 'reviews', 'weekly_price',\n",
      "       'monthly_price', 'text_embeddings', 'image_embeddings'],\n",
      "      dtype='object')\n"
     ]
    }
   ],
   "source": [
    "print(\"Columns:\", dataset_df.columns)"
   ]
  },
  {
   "cell_type": "markdown",
   "id": "de8bc707-c6bb-4ff4-b801-a3db598ae253",
   "metadata": {},
   "source": [
    "## 1.2 Document Modelling"
   ]
  },
  {
   "cell_type": "code",
   "execution_count": 6,
   "id": "ab58b04e-510e-44ab-bde0-9ceefdbb80d8",
   "metadata": {
    "height": 64
   },
   "outputs": [],
   "source": [
    "from typing import List, Optional\n",
    "from pydantic import BaseModel, ValidationError\n",
    "from datetime import datetime"
   ]
  },
  {
   "cell_type": "code",
   "execution_count": 7,
   "id": "d91abf6f-6272-4577-a6e6-65aa9d06887b",
   "metadata": {
    "height": 234
   },
   "outputs": [],
   "source": [
    "class Host(BaseModel):\n",
    "    host_id: str\n",
    "    host_url: str\n",
    "    host_name: str\n",
    "    host_location: str\n",
    "    host_about: str\n",
    "    host_response_time: Optional[str] = None\n",
    "    host_thumbnail_url: str\n",
    "    host_picture_url: str\n",
    "    host_response_rate: Optional[int] = None\n",
    "    host_is_superhost: bool\n",
    "    host_has_profile_pic: bool\n",
    "    host_identity_verified: bool"
   ]
  },
  {
   "cell_type": "code",
   "execution_count": 8,
   "id": "bb99dd71-377e-4036-8651-36e7292078e1",
   "metadata": {
    "height": 217
   },
   "outputs": [],
   "source": [
    "class Location(BaseModel):\n",
    "    type: str\n",
    "    coordinates: List[float]\n",
    "    is_location_exact: bool\n",
    "\n",
    "class Address(BaseModel):\n",
    "    street: str\n",
    "    government_area: str\n",
    "    market: str\n",
    "    country: str\n",
    "    country_code: str\n",
    "    location: Location"
   ]
  },
  {
   "cell_type": "code",
   "execution_count": 9,
   "id": "c647ebab-8e65-4011-8a11-994eefa7051f",
   "metadata": {
    "height": 132
   },
   "outputs": [],
   "source": [
    "class Review(BaseModel):\n",
    "    _id: str\n",
    "    date: Optional[datetime] = None\n",
    "    listing_id: str\n",
    "    reviewer_id: str\n",
    "    reviewer_name: Optional[str] = None\n",
    "    comments: Optional[str] = None"
   ]
  },
  {
   "cell_type": "code",
   "execution_count": 10,
   "id": "a47f72d6-6e88-4de6-b2bc-5c4a60905452",
   "metadata": {
    "height": 727
   },
   "outputs": [],
   "source": [
    "class Listing(BaseModel):\n",
    "    _id: int\n",
    "    listing_url: str\n",
    "    name: str\n",
    "    summary: str\n",
    "    space: str\n",
    "    description: str\n",
    "    neighborhood_overview: Optional[str] = None\n",
    "    notes: Optional[str] = None\n",
    "    transit: Optional[str] = None\n",
    "    access: str\n",
    "    interaction: Optional[str] = None\n",
    "    house_rules: str\n",
    "    property_type: str\n",
    "    room_type: str\n",
    "    bed_type: str\n",
    "    minimum_nights: int\n",
    "    maximum_nights: int\n",
    "    cancellation_policy: str\n",
    "    last_scraped: Optional[datetime] = None\n",
    "    calendar_last_scraped: Optional[datetime] = None\n",
    "    first_review: Optional[datetime] = None\n",
    "    last_review: Optional[datetime] = None\n",
    "    accommodates: int\n",
    "    bedrooms: Optional[float] = 0\n",
    "    beds: Optional[float] = 0\n",
    "    number_of_reviews: int\n",
    "    bathrooms: Optional[float] = 0\n",
    "    amenities: List[str]\n",
    "    price: int\n",
    "    security_deposit: Optional[float] = None\n",
    "    cleaning_fee: Optional[float] = None\n",
    "    extra_people: int\n",
    "    guests_included: int\n",
    "    images: dict\n",
    "    host: Host\n",
    "    address: Address\n",
    "    availability: dict\n",
    "    review_scores: dict\n",
    "    reviews: List[Review]\n",
    "    text_embeddings: List[float]\n"
   ]
  },
  {
   "cell_type": "code",
   "execution_count": 11,
   "id": "f3f49d2e-0d2d-4445-84da-1bfd3be8b9ff",
   "metadata": {
    "height": 30
   },
   "outputs": [],
   "source": [
    "records = dataset_df.to_dict(orient='records')"
   ]
  },
  {
   "cell_type": "code",
   "execution_count": 12,
   "id": "f8e45574-4e91-4773-9da3-2268939dc72a",
   "metadata": {
    "height": 217
   },
   "outputs": [],
   "source": [
    "# To handle catch `NaT` values\n",
    "for record in records:\n",
    "    for key, value in record.items():\n",
    "        # Check if the value is list-like; if so, process each element.\n",
    "        if isinstance(value, list):\n",
    "            processed_list = [None if pd.isnull(v) else v for v in value]\n",
    "            record[key] = processed_list\n",
    "        # For scalar values, continue as before.\n",
    "        else:\n",
    "            if pd.isnull(value):\n",
    "                record[key] = None"
   ]
  },
  {
   "cell_type": "code",
   "execution_count": 13,
   "id": "04783976-9ebd-4153-b0ed-cab12505569d",
   "metadata": {
    "height": 132
   },
   "outputs": [
    {
     "name": "stdout",
     "output_type": "stream",
     "text": [
      "dict_keys(['listing_url', 'name', 'summary', 'space', 'description', 'neighborhood_overview', 'notes', 'transit', 'access', 'interaction', 'house_rules', 'property_type', 'room_type', 'bed_type', 'minimum_nights', 'maximum_nights', 'cancellation_policy', 'last_scraped', 'calendar_last_scraped', 'first_review', 'last_review', 'accommodates', 'bedrooms', 'beds', 'number_of_reviews', 'bathrooms', 'amenities', 'price', 'security_deposit', 'cleaning_fee', 'extra_people', 'guests_included', 'images', 'host', 'address', 'availability', 'review_scores', 'reviews', 'text_embeddings'])\n"
     ]
    }
   ],
   "source": [
    "try:\n",
    "  # Convert each dictionary to a Movie instance\n",
    "  listings = [Listing(**record).dict() for record in records]\n",
    "  # Get an overview of a single datapoint\n",
    "  print(listings[0].keys())\n",
    "except ValidationError as e:\n",
    "  print(e)"
   ]
  },
  {
   "cell_type": "markdown",
   "id": "8da84aef-d361-4955-b40c-cf3f05600729",
   "metadata": {},
   "source": [
    "## 1.3 Database Creation and Connection"
   ]
  },
  {
   "cell_type": "code",
   "execution_count": 14,
   "id": "d0d917b2-f08c-4861-9954-c7941d0b8f0c",
   "metadata": {
    "height": 47
   },
   "outputs": [],
   "source": [
    "from pymongo.mongo_client import MongoClient\n",
    "from pymongo.operations import SearchIndexModel"
   ]
  },
  {
   "cell_type": "code",
   "execution_count": 15,
   "id": "3d076882-9108-4394-8594-f59a12bf2782",
   "metadata": {
    "height": 47
   },
   "outputs": [],
   "source": [
    "database_name = \"airbnb_dataset\"\n",
    "collection_name = \"listings_reviews\""
   ]
  },
  {
   "cell_type": "code",
   "execution_count": 16,
   "id": "317d102e-5f93-4444-a7eb-29e0f7954589",
   "metadata": {
    "height": 166
   },
   "outputs": [],
   "source": [
    "\n",
    "def get_mongo_client(mongo_uri):\n",
    "    \"\"\"Establish connection to the MongoDB.\"\"\"\n",
    "\n",
    "    # gateway to interacting with a MongoDB database cluster\n",
    "    client = MongoClient(mongo_uri, appname=\"devrel.deeplearningai.lesson1.python\")\n",
    "    print(\"Connection to MongoDB successful\")\n",
    "    return client"
   ]
  },
  {
   "cell_type": "code",
   "execution_count": 17,
   "id": "abb10772-e0cb-42e3-8b47-71673ec3a130",
   "metadata": {
    "height": 149
   },
   "outputs": [
    {
     "name": "stdout",
     "output_type": "stream",
     "text": [
      "Connection to MongoDB successful\n"
     ]
    }
   ],
   "source": [
    "if not MONGO_URI:\n",
    "    print(\"MONGO_URI not set in environment variables\")\n",
    "\n",
    "mongo_client = get_mongo_client(MONGO_URI)\n",
    "\n",
    "# Pymongo client of database and collection\n",
    "db = mongo_client.get_database(database_name)\n",
    "collection = db.get_collection(collection_name)"
   ]
  },
  {
   "cell_type": "code",
   "execution_count": 18,
   "id": "6bf7fa64-1abb-4477-9f3d-e7ed5cc6bd34",
   "metadata": {
    "height": 47
   },
   "outputs": [
    {
     "data": {
      "text/plain": [
       "DeleteResult({'n': 0, 'electionId': ObjectId('7fffffff0000000000000002'), 'opTime': {'ts': Timestamp(1720676714, 1), 't': 2}, 'ok': 1.0, '$clusterTime': {'clusterTime': Timestamp(1720676714, 1), 'signature': {'hash': b'\\x00\\x00\\x00\\x00\\x00\\x00\\x00\\x00\\x00\\x00\\x00\\x00\\x00\\x00\\x00\\x00\\x00\\x00\\x00\\x00', 'keyId': 0}}, 'operationTime': Timestamp(1720676714, 1)}, acknowledged=True)"
      ]
     },
     "execution_count": 18,
     "metadata": {},
     "output_type": "execute_result"
    }
   ],
   "source": [
    "# Delete any existing records in the collection\n",
    "collection.delete_many({})"
   ]
  },
  {
   "cell_type": "markdown",
   "id": "ab5db690-01c1-4439-a346-336859563ab2",
   "metadata": {},
   "source": [
    "## 1.4 Data Ingestion"
   ]
  },
  {
   "cell_type": "code",
   "execution_count": 19,
   "id": "e4f78e05-9297-4f18-8fd1-8c2198b3e5a6",
   "metadata": {
    "height": 64
   },
   "outputs": [
    {
     "name": "stdout",
     "output_type": "stream",
     "text": [
      "Data ingestion into MongoDB completed\n"
     ]
    }
   ],
   "source": [
    "# The ingestion process might take a few minutes\n",
    "collection.insert_many(listings)\n",
    "print(\"Data ingestion into MongoDB completed\")"
   ]
  },
  {
   "cell_type": "markdown",
   "id": "504a9de1-86d5-48ea-b5d4-9c52eb0424d8",
   "metadata": {},
   "source": [
    "## 1.5 Vector Search Index defintion"
   ]
  },
  {
   "cell_type": "code",
   "execution_count": 20,
   "id": "fb74480e-b469-4d4c-a4e4-a3bdd4acd57a",
   "metadata": {
    "height": 115
   },
   "outputs": [],
   "source": [
    "# NOTE: This dataset contains text and image embeddings, but this lessons only uses the text embeddings\n",
    "# The field containing the text embeddings on each document within the listings_reviews collection \n",
    "text_embedding_field_name = \"text_embeddings\"\n",
    "# MongoDB Atlas Vector Search index name\n",
    "vector_search_index_name_text = \"vector_index_text\""
   ]
  },
  {
   "cell_type": "code",
   "execution_count": 21,
   "id": "43a30185-7971-4497-b4b4-059dd0e4a970",
   "metadata": {
    "height": 285
   },
   "outputs": [],
   "source": [
    "vector_search_index_model = SearchIndexModel(\n",
    "    definition={\n",
    "        \"mappings\": { # describes how fields in the database documents are indexed and stored\n",
    "            \"dynamic\": True, # automatically index new fields that appear in the document\n",
    "            \"fields\": { # properties of the fields that will be indexed.\n",
    "                text_embedding_field_name: { \n",
    "                    \"dimensions\": 1536, # size of the vector.\n",
    "                    \"similarity\": \"cosine\", # algorithm used to compute the similarity between vectors\n",
    "                    \"type\": \"knnVector\",\n",
    "                }\n",
    "            },\n",
    "        }\n",
    "    },\n",
    "    name=vector_search_index_name_text, # identifier for the vector search index\n",
    ")"
   ]
  },
  {
   "cell_type": "code",
   "execution_count": 22,
   "id": "beeb55e8-2ba2-4205-a0da-549e40662e27",
   "metadata": {
    "height": 132
   },
   "outputs": [
    {
     "name": "stdout",
     "output_type": "stream",
     "text": [
      "SON([('v', 2), ('key', SON([('_id', 1)])), ('name', '_id_')])\n"
     ]
    }
   ],
   "source": [
    "# Check if the index already exists\n",
    "index_exists = False\n",
    "for index in collection.list_indexes():\n",
    "    print(index)\n",
    "    if index['name'] == vector_search_index_name_text:\n",
    "        index_exists = True\n",
    "        break"
   ]
  },
  {
   "cell_type": "code",
   "execution_count": 23,
   "id": "7dfbcb84-3c10-4ebe-9db1-96c55810a931",
   "metadata": {
    "height": 302
   },
   "outputs": [
    {
     "name": "stdout",
     "output_type": "stream",
     "text": [
      "Creating index...\n",
      "Index created successfully: vector_index_text\n",
      "Wait a few minutes before conducting search with index to ensure index intialization\n"
     ]
    }
   ],
   "source": [
    "import time\n",
    "\n",
    "# Create the index if it doesn't exist\n",
    "if not index_exists:\n",
    "    try:\n",
    "        result = collection.create_search_index(model=vector_search_index_model)\n",
    "        print(\"Creating index...\")\n",
    "        time.sleep(20)  # Sleep for 20 seconds, adding sleep to ensure vector index has compeleted inital sync before utilization\n",
    "        print(\"Index created successfully:\", result)\n",
    "        print(\"Wait a few minutes before conducting search with index to ensure index intialization\")\n",
    "    except Exception as e:\n",
    "        print(f\"Error creating vector search index: {str(e)}\")\n",
    "else:\n",
    "    print(f\"Index '{vector_search_index_name_text}' already exists.\")\n",
    "\n",
    "# NOTE: if the output of this process is Error creating vector search index: Duplicate Index, you may proceed to the next cell if you intend to still use a previously created index"
   ]
  },
  {
   "cell_type": "markdown",
   "id": "3d9134f5-9838-491a-b6e8-0b8271ca218a",
   "metadata": {},
   "source": [
    "<p style=\"background-color:#fff6e4; padding:15px; border-width:3px; border-color:#f5ecda; border-style:solid; border-radius:6px\"> ⏳ <b>Note:</b> If the output of the previous cell is <code>Error creating vector search index: Duplicate Index</code> you may proceed to the next cell if you intend to still use a previously created index.</p>"
   ]
  },
  {
   "cell_type": "code",
   "execution_count": 24,
   "id": "654e68a1-8321-4636-8423-1835ab22b376",
   "metadata": {
    "height": 370
   },
   "outputs": [],
   "source": [
    "import openai\n",
    "\n",
    "openai.api_key = OPENAI_API_KEY\n",
    "\n",
    "def get_embedding(text):\n",
    "    \"\"\"Generate an embedding for the given text using OpenAI's API.\"\"\"\n",
    "\n",
    "    # Check for valid input\n",
    "    if not text or not isinstance(text, str):\n",
    "        return None\n",
    "\n",
    "    try:\n",
    "        # Call OpenAI API to get the embedding\n",
    "        embedding = openai.embeddings.create(\n",
    "            input=text,\n",
    "            model=\"text-embedding-3-small\", dimensions=1536).data[0].embedding\n",
    "        return embedding\n",
    "    except Exception as e:\n",
    "        print(f\"Error in get_embedding: {e}\")\n",
    "        return None"
   ]
  },
  {
   "cell_type": "markdown",
   "id": "246983db-02d2-41a2-a9ae-48ad2f23a4ab",
   "metadata": {},
   "source": [
    "## 1.6 Compose Vector Search Query"
   ]
  },
  {
   "cell_type": "code",
   "execution_count": 25,
   "id": "884ddc3a-5cc0-47f7-b4cf-c78d7b3b0231",
   "metadata": {
    "height": 931
   },
   "outputs": [],
   "source": [
    "def vector_search(user_query, db, collection, vector_index=\"vector_index_text\"):\n",
    "    \"\"\"\n",
    "    Perform a vector search in the MongoDB collection based on the user query.\n",
    "\n",
    "    Args:\n",
    "    user_query (str): The user's query string.\n",
    "    db (MongoClient.database): The database object.\n",
    "    collection (MongoCollection): The MongoDB collection to search.\n",
    "    additional_stages (list): Additional aggregation stages to include in the pipeline.\n",
    "\n",
    "    Returns:\n",
    "    list: A list of matching documents.\n",
    "    \"\"\"\n",
    "\n",
    "    # Generate embedding for the user query\n",
    "    query_embedding = get_embedding(user_query)\n",
    "\n",
    "    if query_embedding is None:\n",
    "        return \"Invalid query or embedding generation failed.\"\n",
    "\n",
    "    # Define the vector search stage\n",
    "    vector_search_stage = {\n",
    "        \"$vectorSearch\": {\n",
    "            \"index\": vector_index, # specifies the index to use for the search\n",
    "            \"queryVector\": query_embedding, # the vector representing the query\n",
    "            \"path\": text_embedding_field_name, # field in the documents containing the vectors to search against\n",
    "            \"numCandidates\": 150, # number of candidate matches to consider\n",
    "            \"limit\": 20 # return top 20 matches\n",
    "        }\n",
    "    }\n",
    "\n",
    "    # Define the aggregate pipeline with the vector search stage and additional stages\n",
    "    pipeline = [vector_search_stage]\n",
    "\n",
    "    # Execute the search\n",
    "    results = collection.aggregate(pipeline)\n",
    "\n",
    "    explain_query_execution = db.command( # sends a database command directly to the MongoDB server\n",
    "        'explain', { # return information about how MongoDB executes a query or command without actually running it\n",
    "            'aggregate': collection.name, # specifies the name of the collection on which the aggregation is performed\n",
    "            'pipeline': pipeline, # the aggregation pipeline to analyze\n",
    "            'cursor': {} # indicates that default cursor behavior should be used\n",
    "        }, \n",
    "        verbosity='executionStats') # detailed statistics about the execution of each stage of the aggregation pipeline\n",
    "\n",
    "\n",
    "    vector_search_explain = explain_query_execution['stages'][0]['$vectorSearch']\n",
    "    millis_elapsed = vector_search_explain['explain']['collectStats']['millisElapsed']\n",
    "\n",
    "    print(f\"Total time for the execution to complete on the database server: {millis_elapsed} milliseconds\")\n",
    "\n",
    "    return list(results)\n"
   ]
  },
  {
   "cell_type": "markdown",
   "id": "fa2107cd-c922-492a-ad4f-54cb94b436a3",
   "metadata": {},
   "source": [
    "## 1.7 Handling User Query"
   ]
  },
  {
   "cell_type": "code",
   "execution_count": 26,
   "id": "b771954d-e823-42b7-9141-5f74298b332e",
   "metadata": {
    "height": 149
   },
   "outputs": [],
   "source": [
    "class SearchResultItem(BaseModel):\n",
    "    name: str\n",
    "    accommodates: Optional[int] = None\n",
    "    address: Address\n",
    "    summary: Optional[str] = None\n",
    "    description: Optional[str] = None\n",
    "    neighborhood_overview: Optional[str] = None\n",
    "    notes: Optional[str] = None"
   ]
  },
  {
   "cell_type": "code",
   "execution_count": 27,
   "id": "49ff7a10-0ae4-4e7d-9e30-5a144e742441",
   "metadata": {
    "height": 778
   },
   "outputs": [],
   "source": [
    "from IPython.display import display, HTML\n",
    "\n",
    "def handle_user_query(query, db, collection):\n",
    "    # Assuming vector_search returns a list of dictionaries with keys 'title' and 'plot'\n",
    "    get_knowledge = vector_search(query, db, collection)\n",
    "\n",
    "    # Check if there are any results\n",
    "    if not get_knowledge:\n",
    "        return \"No results found.\", \"No source information available.\"\n",
    "        \n",
    "     # Convert search results into a list of SearchResultItem models\n",
    "    search_results_models = [\n",
    "        SearchResultItem(**result)\n",
    "        for result in get_knowledge\n",
    "    ]\n",
    "\n",
    "    # Convert search results into a DataFrame for better rendering in Jupyter\n",
    "    search_results_df = pd.DataFrame([item.dict() for item in search_results_models])\n",
    "\n",
    "    # Generate system response using OpenAI's completion\n",
    "    completion = openai.chat.completions.create(\n",
    "        model=\"gpt-3.5-turbo\",\n",
    "        messages=[\n",
    "            {\n",
    "                \"role\": \"system\", \n",
    "                \"content\": \"You are a airbnb listing recommendation system.\"},\n",
    "            {\n",
    "                \"role\": \"user\", \n",
    "                \"content\": f\"Answer this user query: {query} with the following context:\\n{search_results_df}\"\n",
    "            }\n",
    "        ]\n",
    "    )\n",
    "\n",
    "    system_response = completion.choices[0].message.content\n",
    "\n",
    "    # Print User Question, System Response, and Source Information\n",
    "    print(f\"- User Question:\\n{query}\\n\")\n",
    "    print(f\"- System Response:\\n{system_response}\\n\")\n",
    "\n",
    "    # Display the DataFrame as an HTML table\n",
    "    display(HTML(search_results_df.to_html()))\n",
    "\n",
    "    # Return structured response and source info as a string\n",
    "    return system_response"
   ]
  },
  {
   "cell_type": "code",
   "execution_count": 28,
   "id": "41b800f9-b005-4800-af73-ed36c552e7ad",
   "metadata": {
    "height": 115
   },
   "outputs": [
    {
     "name": "stdout",
     "output_type": "stream",
     "text": [
      "Total time for the execution to complete on the database server: 0.249852 milliseconds\n",
      "- User Question:\n",
      "\n",
      "I want to stay in a place that's warm and friendly, \n",
      "and not too far from resturants, can you recommend a place? \n",
      "Include a reason as to why you've chosen your selection.\n",
      "\n",
      "\n",
      "- System Response:\n",
      "I recommend the \"Cozy Nest, heart of the Plateau\" in Montreal, QC, Canada. This cozy house accommodates 1 guest and is located in a friendly neighborhood in Montreal. The neighborhood is known for its vibrant and eclectic community, with plenty of restaurants to explore. The host also mentions living between two of Montreal's most happening streets, ensuring you'll have a warm and welcoming experience during your stay.\n",
      "\n"
     ]
    },
    {
     "data": {
      "text/html": [
       "<table border=\"1\" class=\"dataframe\">\n",
       "  <thead>\n",
       "    <tr style=\"text-align: right;\">\n",
       "      <th></th>\n",
       "      <th>name</th>\n",
       "      <th>accommodates</th>\n",
       "      <th>address</th>\n",
       "      <th>summary</th>\n",
       "      <th>description</th>\n",
       "      <th>neighborhood_overview</th>\n",
       "      <th>notes</th>\n",
       "    </tr>\n",
       "  </thead>\n",
       "  <tbody>\n",
       "    <tr>\n",
       "      <th>0</th>\n",
       "      <td>Cozy house at Beyoğlu</td>\n",
       "      <td>2</td>\n",
       "      <td>{'street': 'Beyoğlu, İstanbul, Turkey', 'government_area': 'Beyoglu', 'market': 'Istanbul', 'country': 'Turkey', 'country_code': 'TR', 'location': {'type': 'Point', 'coordinates': [28.95825, 41.03777], 'is_location_exact': False}}</td>\n",
       "      <td>Hello dear Guests, wellcome to istanbul. My House is 2+1 and at second floor. 1 privite room is for my international guests. House is Very close to Taksim Square. You can Walk in 30 minutes or you can take a bus.  The bus stop is only 100 m from home. You can go Taksim, Eminönü, Karaköy, Kadıköy, Beyazıt, Sultanahmet easily from home.  I have 1 bed, two people can sleep together. Second person should pay extra. You can use kitchen, bathroom, free Wifi, dishwasher, washing machine, Ironing.</td>\n",
       "      <td>Hello dear Guests, wellcome to istanbul. My House is 2+1 and at second floor. 1 privite room is for my international guests. House is Very close to Taksim Square. You can Walk in 30 minutes or you can take a bus.  The bus stop is only 100 m from home. You can go Taksim, Eminönü, Karaköy, Kadıköy, Beyazıt, Sultanahmet easily from home.  I have 1 bed, two people can sleep together. Second person should pay extra. You can use kitchen, bathroom, free Wifi, dishwasher, washing machine, Ironing. Safe, quite, big house, wiev, Central, near the bus stop. Kitchen, bathroom, room, sitting room, balcony, washing machine, dishwasher, Ironing. You can ask any questions with phone, (Hidden by Airbnb) or email. + (Phone number hidden by Airbnb) is my (Hidden by Airbnb) number.  (Email hidden by Airbnb) is my email adress Beyoğlu / Centre of İstanbul It calls Hasköy area, near the Golden Horn Its very closed to bus stop and Balat, Taksim, Pierre Loti, Eminönü, Sultan Ahmet, Kadıköy Just enjoy your hol</td>\n",
       "      <td>Beyoğlu / Centre of İstanbul It calls Hasköy area, near the Golden Horn</td>\n",
       "      <td>Just enjoy your holiday</td>\n",
       "    </tr>\n",
       "    <tr>\n",
       "      <th>1</th>\n",
       "      <td>Downtown Oporto Inn (room cleaning)</td>\n",
       "      <td>2</td>\n",
       "      <td>{'street': 'Porto, Porto, Portugal', 'government_area': 'Cedofeita, Ildefonso, Sé, Miragaia, Nicolau, Vitória', 'market': 'Porto', 'country': 'Portugal', 'country_code': 'PT', 'location': {'type': 'Point', 'coordinates': [-8.60867, 41.1543], 'is_location_exact': False}}</td>\n",
       "      <td>Tradicional building, with high ceilings next to City Hall or Trindade Subway station, at a short walking distance from the historic center of this beautiful city. R It is the property of a book novel writer.</td>\n",
       "      <td>Tradicional building, with high ceilings next to City Hall or Trindade Subway station, at a short walking distance from the historic center of this beautiful city. R It is the property of a book novel writer. Cozy, located near the most interesting points of the city to provide a nice stay, with a low budget.  Has a gift shop to buy handicraft, books and other gifts, It is a Inn with groundfloor and 1st floor, with access to a small patio at groundfloor. You may reach us by e-mail - (Email hidden by Airbnb)  or (Hidden by Airbnb) (Website hidden by Airbnb)  Exciting, urban and dinamic, stay with us, near the center, and enjoy a unique stay! Next to Trindade subway station, and also to Faria Guimarães subway station. Near Praca da República, where there are several bus stop. No private parking.</td>\n",
       "      <td>Exciting, urban and dinamic, stay with us, near the center, and enjoy a unique stay!</td>\n",
       "      <td>No private parking.</td>\n",
       "    </tr>\n",
       "    <tr>\n",
       "      <th>2</th>\n",
       "      <td>Banyan Bungalow</td>\n",
       "      <td>2</td>\n",
       "      <td>{'street': 'Waialua, HI, United States', 'government_area': 'North Shore Oahu', 'market': 'Oahu', 'country': 'United States', 'country_code': 'US', 'location': {'type': 'Point', 'coordinates': [-158.1602, 21.57561], 'is_location_exact': False}}</td>\n",
       "      <td>The place to be on the north shore is where you can be steps from the ocean and watch the stars at night.  Our 2 acre property (with tropical greenhouses) hosts a quiet cottage with private driveway/private access.</td>\n",
       "      <td>The place to be on the north shore is where you can be steps from the ocean and watch the stars at night.  Our 2 acre property (with tropical greenhouses) hosts a quiet cottage with private driveway/private access. Big, open space with lots of natural light.  The cottage is clean and quiet - perfect for a good night's sleep.  Meals can be easily prepared in the small kitchen.  Microwave, hot plate, toaster, blender, coffee maker, full size fridge are available. Private driveway to access the property, parking on site. While we live on the property and will try to greet you at your arrival, quiet our busy schedules prevent this from happening.  We are more than happy to recommend activities, dining options, directions, etc. This desirable neighborhood is comprised of other vacation rentals, local families, public beach access, and even a campground.  Roosters and hens have made their home here as well.  Many native birds can be seen and their many sweet sounds can be enjoyed. While you</td>\n",
       "      <td>This desirable neighborhood is comprised of other vacation rentals, local families, public beach access, and even a campground.  Roosters and hens have made their home here as well.  Many native birds can be seen and their many sweet sounds can be enjoyed.</td>\n",
       "      <td></td>\n",
       "    </tr>\n",
       "    <tr>\n",
       "      <th>3</th>\n",
       "      <td>Homely Room in 5-Star New Condo@MTR</td>\n",
       "      <td>2</td>\n",
       "      <td>{'street': 'Mongkok, Kowloon, Hong Kong', 'government_area': 'Yau Tsim Mong', 'market': 'Hong Kong', 'country': 'Hong Kong', 'country_code': 'HK', 'location': {'type': 'Point', 'coordinates': [114.17094, 22.32074], 'is_location_exact': False}}</td>\n",
       "      <td>Located in Mongkok, close to everything. 2min walk to both Mongkok and Mongkok East station. Gym, sauna and swimming pool (in summer) are available in the clubhouse.   You'll have a private double room. Washroom and kitchen are shared with host. We are family of 3, my husband, 1y old son and me. The guest bedroom can accommodate two people, the 3rd person has to sleep on the couch (3'x6') in the living room.</td>\n",
       "      <td>Located in Mongkok, close to everything. 2min walk to both Mongkok and Mongkok East station. Gym, sauna and swimming pool (in summer) are available in the clubhouse.   You'll have a private double room. Washroom and kitchen are shared with host. We are family of 3, my husband, 1y old son and me. The guest bedroom can accommodate two people, the 3rd person has to sleep on the couch (3'x6') in the living room. You will stay with my son, my husband and me. We couple love travelling very much and have been to more than 35 countries in the past few years. We like to share our travel tips and photos with everyone.  There is a luxury clubhouse in my building, with gym and swimming pool.  The building is newly built and it's the most luxury one in Mongkok area. Wifi, gym, swimming pool (in summer), kitchen, shower room, living room, dining room, TV My husband and I will stay with you. So we would like to chat with you anytime when we are at home.   Our first son was born in May 2016. Many rest</td>\n",
       "      <td>Many restaurants and shops nearby.</td>\n",
       "      <td>Just feel as home. We will give you all assistance. The 3rd guest is allowed to sleep on the sofa in the living room, and it's subject to an extra charge HK$250 per night.</td>\n",
       "    </tr>\n",
       "    <tr>\n",
       "      <th>4</th>\n",
       "      <td>Cheerful new renovated central apt</td>\n",
       "      <td>8</td>\n",
       "      <td>{'street': 'Beyoğlu, İstanbul, Turkey', 'government_area': 'Beyoglu', 'market': 'Istanbul', 'country': 'Turkey', 'country_code': 'TR', 'location': {'type': 'Point', 'coordinates': [28.97477, 41.03735], 'is_location_exact': False}}</td>\n",
       "      <td>The full equipped apartment located in the heritage district of Istanbul, colorful Tarlabaşı. If you are looking for a place where you really want to taste the chaos with harmony like a real Istanbuller you are very welcome to stay in my apartment.</td>\n",
       "      <td>The full equipped apartment located in the heritage district of Istanbul, colorful Tarlabaşı. If you are looking for a place where you really want to taste the chaos with harmony like a real Istanbuller you are very welcome to stay in my apartment. Hi there!  My name is Aybike. I love to travel, to discover new places and to meet new people. I will be glad to hosting you in Istanbul at my place. My apartment is newly renovated, clean, cosy, comfortable, large enough for 8 people and is situated literally at the heart of Istanbul. Apartment has one of the unique examples of turn-of-the-century Levantine architecture in Turkey: slim, four-storey bow-fronted homes that huddle along winding, narrow streets.  Located in a street as it was used to be; the ground floors often served as stores or workshops.  More likes to come to your posts in Instagram ! As a traveller my wish is to make you feel at home; drink your morning coffee while listening to the sound of Istanbul then take your map, j</td>\n",
       "      <td>Great location will allow you to explore and enjoy Taksim, Pera,Galata , Şişhane and Cihangir. (great walking distance for all the events), Easily accessible to subway, tram, ferries. The neighbourhood is friendly and diverse. It is only 3 minutes by walk to the Galatasaray Square which is located approximately at the center of the Istiklal Avenue. Istiklal Avenue is located in the historic Beyoğlu (Pera) district, it is an elegant pedestrian street, 1.4 kilometers long, which houses boutiques, music stores, bookstores, art galleries, cinemas, theatres, libraries, cafés, pubs, night clubs with live music, historical patisseries, chocolateries and restaurants.  You should definately walk through the local bazaar on Sunday right beside the apartment. You can find anything you need with cheap prices; fruits, vegetables, nuts, fish, meat, dairy products! Local bazaars will be very helpful to understand the culture of Turkish people as well. There are couple of restaurants close by where yo</td>\n",
       "      <td>From/To Airports: There are several ways to get from the airport to the apartment, but the most convenient manner is to take “HAVATAŞ\" shuttle to Taksim Square departing every 30 minutes from the airport (from both airports- Atatürk and Sabiha Gökçen). As you may be unfamiliar with the area, I am happy to come and pick you up in front of Galatasaray Highschool (on Istiklal Street) which is 10 minutes walk from Taksim Square where you will get off. I can always advise you cheaper public transport options if you ask for. Useful information: You can rent the apartment/room for (a) day(s), week, month or longer periods of time.  There is various supermarkets conveniently situated a block away from the apartment on the way to Istiklal street, also a small kiosk right next to the apartment and a laundry in 100 meters distance.</td>\n",
       "    </tr>\n",
       "    <tr>\n",
       "      <th>5</th>\n",
       "      <td>Sydney Hyde Park City Apartment (checkin from 6am)</td>\n",
       "      <td>2</td>\n",
       "      <td>{'street': 'Darlinghurst, NSW, Australia', 'government_area': 'Sydney', 'market': 'Sydney', 'country': 'Australia', 'country_code': 'AU', 'location': {'type': 'Point', 'coordinates': [151.21346, -33.87603], 'is_location_exact': False}}</td>\n",
       "      <td>Our city apartment is a bright, comfortable 1 bedroom with 24hr front-desk access. It is conveniently located directly across from Hyde Park and within walking distance of delightful cafes, restaurants, parks, major city attractions and public transport, including Museum Station which has a direct connection to Sydney Airport.</td>\n",
       "      <td>Our city apartment is a bright, comfortable 1 bedroom with 24hr front-desk access. It is conveniently located directly across from Hyde Park and within walking distance of delightful cafes, restaurants, parks, major city attractions and public transport, including Museum Station which has a direct connection to Sydney Airport. SPACE  Comfortable 1 bedroom which has a queen-sized bed, is air conditioned and has a self-contained kitchen, including:  fridge, dishwasher, oven, cooktop, microwave. SECURITY  Secure 24hour front-desk access with full access to the rooftop area which  has stunning views of Hydepark and the city, and includes: pool, sauna and gym.  Laundry facilities, which are located on the mezzanine level and has coin operated washing machines and dryers. MY AVAILABILITY I am easily contactable at anytime. If I am unable to welcome you personally I will leave the keys to the apartment and any further information marked for your attention at the front desk. AREA Located withi</td>\n",
       "      <td>AREA Located within a vibrant and contemporary part of the city that is seeped in rich history and within walking distance of many attractions including: Hyde Park, St Mary's Cathedral, NSW Art Gallery, The Domaine, The Sydney Museum and less than a 30 minute walk to The Sydney Opera House, Sydney Harbour Bridge, Darling Harbour, Chinese Gardens, Wildlife Parks and Aquarium.  SYDNEY PRIVÉ If you wish discover why Sydney is such an extraordinary place then I would highly recommend  Sydney Privé, which is an exclusive concierge service that specialises in providing personalised tours and luxury experiences for the most discerning traveller. To truly experience Sydney, one must explore the local hideouts,  and there is no better place to do this than in Darlinghurst. Darlinghurst is the heartbeat of the city!  Checkout our airbnb Guidebook for some of our favourite hideouts.  The Guidebook will provide you with website links and actual location.</td>\n",
       "      <td>IMPORTANT:  Our apartment is privately owned and serviced. It is not part of the hotel that is operated from within the building. Internet:  Our internet connection is wifi and dedicated to our apartment. So there is no sharing with other guests and no need to pay additional fees for internet usage.</td>\n",
       "    </tr>\n",
       "    <tr>\n",
       "      <th>6</th>\n",
       "      <td>Cozy Nest, heart of the Plateau</td>\n",
       "      <td>1</td>\n",
       "      <td>{'street': 'Montreal, QC, Canada', 'government_area': 'Le Plateau-Mont-Royal', 'market': 'Montreal', 'country': 'Canada', 'country_code': 'CA', 'location': {'type': 'Point', 'coordinates': [-73.58774, 45.52028], 'is_location_exact': True}}</td>\n",
       "      <td>Come spend a few days (or weeks) in our beautiful and cozy apartment situated in the heart of Montreal's most happening neighborhood! You will share the space with me as, maybe another guest and probably a cute cat or kitten (I sometimes foster cute little furry balls). LGBTQ friendly :) Looking forward to meeting you!</td>\n",
       "      <td>Come spend a few days (or weeks) in our beautiful and cozy apartment situated in the heart of Montreal's most happening neighborhood! You will share the space with me as, maybe another guest and probably a cute cat or kitten (I sometimes foster cute little furry balls). LGBTQ friendly :) Looking forward to meeting you! The spacious double room comes fully furnished with a double bed, closet space as well as a desk + High speed internet + heating + sheets and towels + direct access to a washer/dryer. Our apartment is a ground floor with a cute backyard and is situated right between two of Montreal's most happening neighborhoods (The Plateau and Mile End) as well as two main streets: Saint-Laurent and Mont-Royal.  5 minute walking distance from the beautiful Mont-Royal 10 minutes direct bus ride from downtown Steps away from bixi stands (Local bicycle sharing program). Our neighborhood is bustling with grocery shops, cafés, bars, restaurants and parks, all in walking distance! Please fee</td>\n",
       "      <td>We live right between two of Montreal's most happening neighborhoods. At the foot of the Mont-Royal and right next to Saint-Laurent, Mont-Royal and St-Denis streets. Our street is however quiet and peaceful.</td>\n",
       "      <td>Since we are on the ground floor, access in and out of the house is possible for folks who may have a limited mobility, however there is 1 step to get through the front door and the bathroom is unfortunately a bit too narrow to accomodate a wheelchair. Let me know if you have questions regarding specifics and I'll be able to assist!</td>\n",
       "    </tr>\n",
       "    <tr>\n",
       "      <th>7</th>\n",
       "      <td>A bedroom far away from home</td>\n",
       "      <td>2</td>\n",
       "      <td>{'street': 'Queens, NY, United States', 'government_area': 'Briarwood', 'market': 'New York', 'country': 'United States', 'country_code': 'US', 'location': {'type': 'Point', 'coordinates': [-73.82257, 40.71485], 'is_location_exact': True}}</td>\n",
       "      <td>NOTES: BEFORE BOOKING, PLEASE KNOW THAT WE ARE LOCATED ON THE 3RD FLOOR OF A WALK UP BUILDING (3 SHORT FLIGHT OF (Website hidden by Airbnb) IF YOU HAVE TROUBLE CLIMBING STAIRS, BE ADVISED, THANKS! THE CHECK-IN TIME IS STRICTLY BETWEEN 1PM-10PM.. AND CHECK OUT IS 11AM THIS LISTING IS ONLY FOR A BEDROOM AND NOT THE ENTIRE APARTMENT.</td>\n",
       "      <td>NOTES: BEFORE BOOKING, PLEASE KNOW THAT WE ARE LOCATED ON THE 3RD FLOOR OF A WALK UP BUILDING (3 SHORT FLIGHT OF (Website hidden by Airbnb) IF YOU HAVE TROUBLE CLIMBING STAIRS, BE ADVISED, THANKS! THE CHECK-IN TIME IS STRICTLY BETWEEN 1PM-10PM.. AND CHECK OUT IS 11AM THIS LISTING IS ONLY FOR A BEDROOM AND NOT THE ENTIRE APARTMENT. our place is a good sized apartment in a very quiet neighborhood. the bedroom is clean and cozy with a queen sized bed, so you can get all the rest you need. you can use the living room and kitchen. we also have a piano, so if you know how to play,you are free to do so! one of us will try to help you in your needs through out your stay. our neighborhood is basically peaceful, there a lot of children because the school bus picks them up by the corner. but all in all, its a quiet and friendly place to live. subway is about 5-8 minutes away by foot. there is street parking.</td>\n",
       "      <td>our neighborhood is basically peaceful, there a lot of children because the school bus picks them up by the corner. but all in all, its a quiet and friendly place to live.</td>\n",
       "      <td></td>\n",
       "    </tr>\n",
       "    <tr>\n",
       "      <th>8</th>\n",
       "      <td>Modern Spacious 1 Bedroom Loft</td>\n",
       "      <td>4</td>\n",
       "      <td>{'street': 'Montréal, Québec, Canada', 'government_area': 'Le Plateau-Mont-Royal', 'market': 'Montreal', 'country': 'Canada', 'country_code': 'CA', 'location': {'type': 'Point', 'coordinates': [-73.59111, 45.51889], 'is_location_exact': True}}</td>\n",
       "      <td>Prime location, amazing lighting and no annoying neighbours.  Good place to rent if you want a relaxing time in Montreal.</td>\n",
       "      <td>Prime location, amazing lighting and no annoying neighbours.  Good place to rent if you want a relaxing time in Montreal. Lot's of plants and lights.  Really great modern bathroom that you will love showering in :) and a kitchen equipped with everything you need to cook a great meal.  (we live here)</td>\n",
       "      <td></td>\n",
       "      <td></td>\n",
       "    </tr>\n",
       "    <tr>\n",
       "      <th>9</th>\n",
       "      <td>Surry Hills Studio - Your Perfect Base in Sydney</td>\n",
       "      <td>2</td>\n",
       "      <td>{'street': 'Surry Hills, NSW, Australia', 'government_area': 'Sydney', 'market': 'Sydney', 'country': 'Australia', 'country_code': 'AU', 'location': {'type': 'Point', 'coordinates': [151.21554, -33.88029], 'is_location_exact': True}}</td>\n",
       "      <td>This spacious, light filled studio has everything you need to enjoy Sydney and is the perfect base for exploring. The harbour is an easy walk, Bondi a short bus trip away.</td>\n",
       "      <td>This spacious, light filled studio has everything you need to enjoy Sydney and is the perfect base for exploring. The harbour is an easy walk, Bondi a short bus trip away. Comfortable studio with a great layout. The bathroom has a full size bath tub and shower. Complete set of kitchen utensils etc for cooking and a full size fridge. The 3 seater sofa and 42' TV mean you can comfortably relax after a day at the beach or exploring.  Large lounge room windows provide harbour views. You have full use of the entire studio and complete privacy during your stay. You have complete privacy during your stay. Surry Hills is a vibrant eclectic community and an amazing place to live, and this studio is in the centre of it all. A fantastic range of small bars and restaurants are on your doorstep, along with Sydney's best breakfasts for the next morning. Central to public transport, busses to Bondi Beach and the city are 50 metres from the front door. Travel Card 'Opal' travel cards work on all Sydne</td>\n",
       "      <td>Surry Hills is a vibrant eclectic community and an amazing place to live, and this studio is in the centre of it all. A fantastic range of small bars and restaurants are on your doorstep, along with Sydney's best breakfasts for the next morning. Central to public transport, busses to Bondi Beach and the city are 50 metres from the front door.</td>\n",
       "      <td>WiFi, Apple TV with Netflix App (for use with your own iTunes / Netflix account), 42' TV, Sound Dock</td>\n",
       "    </tr>\n",
       "    <tr>\n",
       "      <th>10</th>\n",
       "      <td>Studio convenient to CBD, beaches, street parking.</td>\n",
       "      <td>5</td>\n",
       "      <td>{'street': 'Balgowlah, NSW, Australia', 'government_area': 'Manly', 'market': 'Sydney', 'country': 'Australia', 'country_code': 'AU', 'location': {'type': 'Point', 'coordinates': [151.26108, -33.7975], 'is_location_exact': True}}</td>\n",
       "      <td>It is a spacious basement studio with a small kitchen.  It has its own external entrance, but is attached to our home.  For the best views feel free to use our table on the shared verandah. Close to Harbour beaches and beautiful walks, and Direct buses to the city run at least two times an hour in both directions. Shops and restaurants are walking distance. There is plenty of on-street parking.</td>\n",
       "      <td>It is a spacious basement studio with a small kitchen.  It has its own external entrance, but is attached to our home.  For the best views feel free to use our table on the shared verandah. Close to Harbour beaches and beautiful walks, and Direct buses to the city run at least two times an hour in both directions. Shops and restaurants are walking distance. There is plenty of on-street parking. The room is a cozy and private basement studio with a bathroom and external, private entrance.  There is a queen bed and a very comfortable king single.  Two yellow chairs make out into twin beds.  We have tried to be a comfortable and affordable base for Sydney travel by providing items that every traveler needs.  We provide things like laundry soap, hair dryers, basic kitchen pantry items, a TV, etc.    While we can sleep five (that is probably best for short one or two night stays.) BATHROOM.  Shower, hairdryer, great water pressure.  And if you forgot something (toothpaste, razor, etc.) just</td>\n",
       "      <td>We are walking distance to harbour beaches.  And Manly is 5 min away driving and 30 min walk along the beautiful Spit-Manly foreshore walk.  You can also take a swim at local harbourside beaches, walk thru the neighbourhood to some of the most scenic spots in Sydney.  A Coles grocery store is walking distance as are other local shops (I have a map in the room with details).</td>\n",
       "      <td>OPAL cards are available for adults and children.  I try to make sure the correct number are in the room, but if they are not, just ask. As summer has arrived and doors and windows are open you may hear voices in the morning from us and the neighbours.  Mainly In the evenings around dinner time and in the mornings as the family is getting ready for work and school you can hear sounds.</td>\n",
       "    </tr>\n",
       "    <tr>\n",
       "      <th>11</th>\n",
       "      <td>Cozy double bed room 東涌鄉村雅緻雙人房</td>\n",
       "      <td>2</td>\n",
       "      <td>{'street': 'Hong Kong, New Territories, Hong Kong', 'government_area': 'Islands', 'market': 'Hong Kong', 'country': 'Hong Kong', 'country_code': 'HK', 'location': {'type': 'Point', 'coordinates': [113.92823, 22.27671], 'is_location_exact': False}}</td>\n",
       "      <td>A comfortable double bed room at G/F. Independent entrance. High privacy. The room size is around 100 sq.ft. with a 48\"x72\" double bed. The village house is close to the Hong Kong Airport, AsiaWorld-Expo, HongKong-Zhuhai-Macau Bridge, Disneyland, Citygate outlets, 360 Cable car, shopping centre, main tourist attractions......</td>\n",
       "      <td>A comfortable double bed room at G/F. Independent entrance. High privacy. The room size is around 100 sq.ft. with a 48\"x72\" double bed. The village house is close to the Hong Kong Airport, AsiaWorld-Expo, HongKong-Zhuhai-Macau Bridge, Disneyland, Citygate outlets, 360 Cable car, shopping centre, main tourist attractions...... We are \"City Oasis Guest House\" , which is a licensed guesthouse (holiday flat) in Hong Kong. Our license number is H5714. Our house is located at a small village in the outskirts of Tung Chung, 10 minutes from the Hong Kong Airport by taxi and 4 minutes from Tung Chung City by taxi. Our village is situated at the mountain foot and Tung Chung river mouth on Lantau Island, the green fort of Hong Kong.  Our property is a three-storey village house with a total of 2800 square feet. At the rooftop and balconies, you can oversee the unique scenery view with the combination of the airport, cable-car, Tung Chung Bay, wetland, Tung Chung City and mountain views. The maste</td>\n",
       "      <td>10-minute walk to the bus stop on Tung Chung Road. 10-minute walk to Indian and Thai Food restaurants. 15-minute walk to Yat Tung Estate (shopping centre, restaurants and bus terminus). 7-minute walk to Chung Mun Road (Mun Tung Estate Car Park Entrance). 10-minute to Airport / Asia Expo by taxi/car. 4-minute to Tung Chung MTR station by taxi/car.</td>\n",
       "      <td>Bring your own toothbrush and toothpaste 7-minute walk to my village house from the main road. The room is on G/F. No lift is in the building. 請自備牙膏,牙刷及拖鞋｡ 屋子遠離馬路,客人需步行約七分鐘才能到達｡</td>\n",
       "    </tr>\n",
       "    <tr>\n",
       "      <th>12</th>\n",
       "      <td>Easy 1 Bedroom in Chelsea</td>\n",
       "      <td>2</td>\n",
       "      <td>{'street': 'New York, NY, United States', 'government_area': 'Chelsea', 'market': 'New York', 'country': 'United States', 'country_code': 'US', 'location': {'type': 'Point', 'coordinates': [-74.00074, 40.74577], 'is_location_exact': True}}</td>\n",
       "      <td>A comfortable one bedroom for responsible guests. Plenty of natural light. Walk up building. You'll feel like a local staying in this residential neighborhood, right next to great food, bars, subways, the High Line, Chelsea Piers, etc.</td>\n",
       "      <td>A comfortable one bedroom for responsible guests. Plenty of natural light. Walk up building. You'll feel like a local staying in this residential neighborhood, right next to great food, bars, subways, the High Line, Chelsea Piers, etc. *I listed this place late so can be flexible for you. I'm quick to respond - contact me and let's discuss whether we can make something work for you asap* Sorry about the lack of pictures. Will link you to Streeteasy when you reply. There is a small (regular for NYC) bedroom, a living room with couches and a TV (with apple tv but only basic cable), a kitchen, and a bathroom. It is in a walk up building a couple of flights up. Need relatively quiet guests for this residential building - definitely not a place for your weekend party. I am available to help you any time and will provide a cell # for questions. When I let you in, I'll also be able to answer any questions and point you to restaurants and local attractions. Chelsea is considered a high end nei</td>\n",
       "      <td>Chelsea is considered a high end neighborhood in NYC.  (URL HIDDEN)</td>\n",
       "      <td></td>\n",
       "    </tr>\n",
       "    <tr>\n",
       "      <th>13</th>\n",
       "      <td>Best location 1BR Apt in HK - Shops &amp; Sights</td>\n",
       "      <td>4</td>\n",
       "      <td>{'street': 'Hong Kong, Kowloon, Hong Kong', 'government_area': 'Yau Tsim Mong', 'market': 'Hong Kong', 'country': 'Hong Kong', 'country_code': 'HK', 'location': {'type': 'Point', 'coordinates': [114.17088, 22.29663], 'is_location_exact': True}}</td>\n",
       "      <td>Welcome to my apartment, 1BR newly renovated and furnished. Located in the heart of Hong Kong's shopping, food and culture center.  1 minute walk to TST MTR station, airport transfer and all major transport.</td>\n",
       "      <td>Welcome to my apartment, 1BR newly renovated and furnished. Located in the heart of Hong Kong's shopping, food and culture center.  1 minute walk to TST MTR station, airport transfer and all major transport. Newly renovated and furnished 1 bedroom apartment.  Conveniently located and very quiet.  All decorations and fittings have been completed. Our Cozy 1 bedroom apartment for 1-4 people is located in the heart of Kowloon (on Nathan Road), and just next to the Tsim Sha Tsui MTR station, 1 min walk from the entrance to the MTR!! The location is incredibly convenient. Air-Conditioner  40\" Interactive Smart TV Xiaomi Table with Chairs  Standard Double size Bed &amp; Mattress Queen size sofa bed Cabinets  Refrigerator  Electric Water Kettle  Microwave / Induction cooker  Cutlery Set / Bowl / Mug / Cup  Free Hi Speed internet (WIFI)  24 Hours Hot Water Supply  Body Gel &amp; Shampoo  Clean Bed Sheet / Pillows / Covers  Toilet Paper  Power Adaptor Additional Top quality Intex Queen Size Air Mattres</td>\n",
       "      <td>Tsim Sha Tsui is the city's most exciting area, with top notch museums such as The Science Museum and Art Museum clustered around the waterfront. Nathan Road, Chungking Mansions and the Avenue of Stars, the latter boasting the best views in town. Although the apartment is in a vibrant area, the apartment itself is very quite a night. Its a perfect escape after a long day out and about. There are over 2,500 restaurants in the area which cater to every taste, from traditional Chinese Dim Sum, hawker style stall foods to exceptional French cuisine within 5 star hotels. Supermarkets and 24/7 convenience stores are just down the road, which can provide you all of your daily necessities any time day or night.</td>\n",
       "      <td></td>\n",
       "    </tr>\n",
       "    <tr>\n",
       "      <th>14</th>\n",
       "      <td>Cozy bedroom Sagrada Familia</td>\n",
       "      <td>2</td>\n",
       "      <td>{'street': 'Barcelona, Catalunya, Spain', 'government_area': 'el Fort Pienc', 'market': 'Barcelona', 'country': 'Spain', 'country_code': 'ES', 'location': {'type': 'Point', 'coordinates': [2.17963, 41.40087], 'is_location_exact': True}}</td>\n",
       "      <td>Cozy bedroom next to the church Sagrada Família a great choice to stay in a residential area away from the crowds while still being at a walking distance to main attractions in Barcelona.</td>\n",
       "      <td>Cozy bedroom next to the church Sagrada Família a great choice to stay in a residential area away from the crowds while still being at a walking distance to main attractions in Barcelona. Cozy beroom located three minutes from the Sagrada Família in a central zone of Barcelona.  Equiped kitchen. I'll be glad to give you some tips according to your taste. Well located on a calm residential area a few blocks away from the city center. Metro on the corner 5 stops away from the Ramblas, Paseo de Gracia and Catalunya square. Restaurants, bars and supermarket around the area.</td>\n",
       "      <td>Well located on a calm residential area a few blocks away from the city center.</td>\n",
       "      <td></td>\n",
       "    </tr>\n",
       "    <tr>\n",
       "      <th>15</th>\n",
       "      <td>March 2019 availability! Oceanview on Sugar Beach!</td>\n",
       "      <td>4</td>\n",
       "      <td>{'street': 'Kihei, HI, United States', 'government_area': 'Kihei-Makena', 'market': 'Maui', 'country': 'United States', 'country_code': 'US', 'location': {'type': 'Point', 'coordinates': [-156.46881, 20.78621], 'is_location_exact': True}}</td>\n",
       "      <td></td>\n",
       "      <td>NIGHTLY RATE INCLUDES ALL TAXES!  The Kealia Resort - Just a few steps from the warm sand of Sugar Beach, Maui's longest white-sand beach. With gorgeous views, this nicely updated, fourth floor, condo at the Kealia Resort beachfront complex is waiting for you!  The six-mile stretch of beach, calm waters, and close proximity to town, make it the perfect vacation spot for honeymooners, families, and everyone in between!  A beautiful and relaxing beachfront retreat. Treat yourself to long walks on the beach and spectacular evening sunsets. You'll enjoy fantastic whale watching from your balcony/lanai (in the winter months). Or grab your snorkel and swim with the green sea turtles. You'll love the warm and gentle ocean, perfect for swimming, kayaking or try windsurfing.  Free WiFi high speed internet access. 42' flat screen TV, with cable. Lounge in the sun, and cool off in the oceanfront pool. Or grill some fresh seafood on the beachfront grills. Then take few steps to play on the beach.</td>\n",
       "      <td></td>\n",
       "      <td>NIGHTLY RATE INCLUDES ALL TAXES! The Kealia Resort is next to Sugar Beach Resort on the north side.  The address is 191 N. Kihei Rd.</td>\n",
       "    </tr>\n",
       "    <tr>\n",
       "      <th>16</th>\n",
       "      <td>Nice Cosy Room In Taksim</td>\n",
       "      <td>2</td>\n",
       "      <td>{'street': 'Taksim, Cihangir, Istanbul , Beyoğlu, Turkey', 'government_area': 'Beyoglu', 'market': 'Istanbul', 'country': 'Turkey', 'country_code': 'TR', 'location': {'type': 'Point', 'coordinates': [28.98648, 41.03376], 'is_location_exact': True}}</td>\n",
       "      <td>Welcome if you want to stay at a cozy flat with local experience.:) It is in the center of Istanbul.The neighborhood is safe and close to attractions.Transportation is easy. I will help you always.</td>\n",
       "      <td>Istanbul is an exciting destination for any traveller with its exotic blend of Orient and Occident, of ancient history and modern life. In Istanbul,  visitors have much to discover and even more to (Website hidden by Airbnb) apartment is very close to Taksim Square and Istiklal Street 5 minutes by walking. apartment takes 30 minutes to Sultanahmet (Old City) by walking. Also metro, ferry, traim, bus stations &amp; Havas shuttle service to airports are just 5 minute by walking too. Atatürk Airport is 30 minutes, Sabiha Gökçen Airport is 45 minutes takes with Havas Shuttle Service (in every half hour).Apartment is 95 mt2 which is full equipped with 2 bedrooms, a big living room, kitchen and bathroom. I provide wireless internet service. In the living room, our guests can enjoy cable tv and dvd movies. Kitchen, bathroom and living room are in common use. My guests can use kitchen for breakfast.House is very close to all kind of pubs, coffee shops and night clubs. By requests i can provide gu</td>\n",
       "      <td>Perfect location in downtown</td>\n",
       "      <td></td>\n",
       "    </tr>\n",
       "    <tr>\n",
       "      <th>17</th>\n",
       "      <td>THE Place to See Sydney's FIREWORKS</td>\n",
       "      <td>2</td>\n",
       "      <td>{'street': 'Rozelle, NSW, Australia', 'government_area': 'Leichhardt', 'market': 'Sydney', 'country': 'Australia', 'country_code': 'AU', 'location': {'type': 'Point', 'coordinates': [151.17956, -33.86296], 'is_location_exact': True}}</td>\n",
       "      <td>The ultimate way to experience Sydney Harbour; fireworks, the bridge, and the proximity to the city means you can experience everything this city has to offer.  Tucked into the Balmain Peninsula, you're close to parks, pubs, shops, buses, and more!</td>\n",
       "      <td>The ultimate way to experience Sydney Harbour; fireworks, the bridge, and the proximity to the city means you can experience everything this city has to offer.  Tucked into the Balmain Peninsula, you're close to parks, pubs, shops, buses, and more! An entertainer's retreat!!  Views of the Sydney Harbour are unparalleled, the house is spacious and modern, the neighbourhood is friendly.  Your bedroom opens out onto a grassy backyard with views of the city and features your own en suite bathroom with shower. You'll access all areas except the master bedroom and spare bedrooms, this means the guest room with en suite, garden, kitchen, living, laundry, pantry, and powder room are all yours. We're just a phone call away to assist you with any questions or features of the house, there are many! We're 5 minutes from the bus stops (to the city or to the Balmain East ferry), 4 minutes to a park with tennis courts, and 2 minutes to an iconic Balmain pub, the Bald Rock Hotel.  The grocery store, b</td>\n",
       "      <td>We're 5 minutes from the bus stops (to the city or to the Balmain East ferry), 4 minutes to a park with tennis courts, and 2 minutes to an iconic Balmain pub, the Bald Rock Hotel.  The grocery store, bottle shops, and Darling St boutiques/shops are about 10-15 minutes walk depending on how fast you move :)</td>\n",
       "      <td>We live with our stud dog, and our son; we won't be here during your stay, but if you're allergic to dogs or babies, best to pick another place. :)</td>\n",
       "    </tr>\n",
       "    <tr>\n",
       "      <th>18</th>\n",
       "      <td>Cozy Art Top Floor Apt in PRIME Williamsburg!</td>\n",
       "      <td>2</td>\n",
       "      <td>{'street': 'Brooklyn, NY, United States', 'government_area': 'Williamsburg', 'market': 'New York', 'country': 'United States', 'country_code': 'US', 'location': {'type': 'Point', 'coordinates': [-73.96053, 40.71577], 'is_location_exact': True}}</td>\n",
       "      <td>My Apt it's right in the middle of the best and hot spots in the heart of REAL Williamsburg on Bedford Ave. Close to everything. 4 Subway stations (L/G/JMZ) around, same distance all! Very chill and cozy! 2 people only. No kids and pets please.</td>\n",
       "      <td>My Apt it's right in the middle of the best and hot spots in the heart of REAL Williamsburg on Bedford Ave. Close to everything. 4 Subway stations (L/G/JMZ) around, same distance all! Very chill and cozy! 2 people only. No kids and pets please. Hi there! This is a cozy and impeccable one bedroom apartment in the heart of Williamsburg on North 1st Street.  One of the hippest and lively neighborhoods in New York City nowadays. Lots of intimate Cafes, Restaurants, Bars, Park, Discoteque, Concert Venues,  and the proximity to the East River gives it its special vibe.  As well as local Designer Stores, Vintage Stores, Apple Store, Whole Foods Supermarket, Sephora, Duane Reade, Food Town Supermarket, Martas Bakery, Maison Premiere, Domino Park, Urban Outfitters, Madewell, JC Crew, Music Hall of Williamsburg, Knitting Factory, Baby's All Right, Rough Trade, Brooklyn Steel, Yoga Studios, Pilates Studio, Spinning Studios, Equinox, Williamsburg Cinema, Nitehawk Cinema, Citi Bank, Citi Bikes, Ban</td>\n",
       "      <td>Bedford Avenue is the neighborhood’s main thoroughfare, with its collection of indie merchants, but shops, bars and eateries radiate out in all directions—notable openings in the past few years include Reynard in the Wythe Hotel; the innovative movie-theater-cum-restaurant Nitehawk Cinema; and seasonal epicurean extravaganza Smorgasburg in East River State Park—one of the city's best street fairs.  Billyburg’s thriving music scene encompasses numerous local venues, including Music Hall of Williamsburg, Pete's Candy Store and the reincarnation of storied downtown venue the Knitting Factory.</td>\n",
       "      <td>CHECK OUT: it is always at 11:00 am because my cleaning lady comes at that time and I can't change her schedule for every guest .  If case your flight it's in the afternoon or night and you would like to spend the afternoon there you can just pay for half day as previous guest have offered the day of their check out. In case you just need to leave your luggage there while you around that also can be arrange if I DO NOT have another guest coming up same day.  Thank you so much! :)</td>\n",
       "    </tr>\n",
       "    <tr>\n",
       "      <th>19</th>\n",
       "      <td>Charming Flat in Downtown Moda</td>\n",
       "      <td>6</td>\n",
       "      <td>{'street': 'Kadıköy, İstanbul, Turkey', 'government_area': 'Kadikoy', 'market': 'Istanbul', 'country': 'Turkey', 'country_code': 'TR', 'location': {'type': 'Point', 'coordinates': [29.03133, 40.98585], 'is_location_exact': True}}</td>\n",
       "      <td>Fully furnished 3+1 flat decorated with vintage style.  Located at the heart of Moda/Kadıköy, close to seaside and also to the public transportation (tram, metro, ferry, bus stations) 10 minutes walk.</td>\n",
       "      <td>Fully furnished 3+1 flat decorated with vintage style.  Located at the heart of Moda/Kadıköy, close to seaside and also to the public transportation (tram, metro, ferry, bus stations) 10 minutes walk. The apartment is composed of 1 big bedroom with double sized bed, a guest room with double sofa bed , a living room with 2 double sofa bed. It's suitable for max 6  people. Every bedroom has balcony overlooking the calm streets of Moda, where you will find relax and intimacy , even if at one step from the most vivid Moda's living streets. There's also private parking area with remote controller. The apartment is away from the traffic and the most crowded places, good for the ensuring quiet and a peaceful rest. The apartment is fully available to guests and is equipped with heating in all bedrooms. In the living room there is a HD TV and Apple TV. In the kitchen, there are dishwasher, oven and washing machine, with the respective detergents. You will find fresh water in the fridge and on t</td>\n",
       "      <td>With its diversity Moda- Kadikoy is one of the most colorfull neighbourhood of Istanbul. The place is  surrounded by lots of cafe's, pubs, concert halls, restaurants and art studios. Being local is wonderful if you're staying here.</td>\n",
       "      <td></td>\n",
       "    </tr>\n",
       "  </tbody>\n",
       "</table>"
      ],
      "text/plain": [
       "<IPython.core.display.HTML object>"
      ]
     },
     "metadata": {},
     "output_type": "display_data"
    },
    {
     "data": {
      "text/plain": [
       "'I recommend the \"Cozy Nest, heart of the Plateau\" in Montreal, QC, Canada. This cozy house accommodates 1 guest and is located in a friendly neighborhood in Montreal. The neighborhood is known for its vibrant and eclectic community, with plenty of restaurants to explore. The host also mentions living between two of Montreal\\'s most happening streets, ensuring you\\'ll have a warm and welcoming experience during your stay.'"
      ]
     },
     "execution_count": 28,
     "metadata": {},
     "output_type": "execute_result"
    }
   ],
   "source": [
    "query = \"\"\"\n",
    "I want to stay in a place that's warm and friendly, \n",
    "and not too far from resturants, can you recommend a place? \n",
    "Include a reason as to why you've chosen your selection.\n",
    "\"\"\"\n",
    "handle_user_query(query, db, collection)"
   ]
  },
  {
   "cell_type": "code",
   "execution_count": null,
   "id": "2021f9a3-0b67-493c-a5e3-d8ea2a695e63",
   "metadata": {
    "height": 30
   },
   "outputs": [],
   "source": []
  },
  {
   "cell_type": "code",
   "execution_count": null,
   "id": "5502d2e5-c125-4141-8dae-df413c6f050d",
   "metadata": {
    "height": 30
   },
   "outputs": [],
   "source": []
  },
  {
   "cell_type": "code",
   "execution_count": null,
   "id": "95a5ea3b-ca85-494d-a7b1-abc1b0584972",
   "metadata": {
    "height": 30
   },
   "outputs": [],
   "source": []
  },
  {
   "cell_type": "code",
   "execution_count": null,
   "id": "0a33a1f4-459a-4c49-b39e-04fb8268ab26",
   "metadata": {
    "height": 30
   },
   "outputs": [],
   "source": []
  },
  {
   "cell_type": "code",
   "execution_count": null,
   "id": "00471809-c526-4e58-833e-29c9b449ce21",
   "metadata": {
    "height": 30
   },
   "outputs": [],
   "source": []
  },
  {
   "cell_type": "code",
   "execution_count": null,
   "id": "9b089114-f92c-46b8-8b51-cb218d7a8ff9",
   "metadata": {
    "height": 30
   },
   "outputs": [],
   "source": []
  }
 ],
 "metadata": {
  "kernelspec": {
   "display_name": "Python 3 (ipykernel)",
   "language": "python",
   "name": "python3"
  },
  "language_info": {
   "codemirror_mode": {
    "name": "ipython",
    "version": 3
   },
   "file_extension": ".py",
   "mimetype": "text/x-python",
   "name": "python",
   "nbconvert_exporter": "python",
   "pygments_lexer": "ipython3",
   "version": "3.11.7"
  }
 },
 "nbformat": 4,
 "nbformat_minor": 5
}
