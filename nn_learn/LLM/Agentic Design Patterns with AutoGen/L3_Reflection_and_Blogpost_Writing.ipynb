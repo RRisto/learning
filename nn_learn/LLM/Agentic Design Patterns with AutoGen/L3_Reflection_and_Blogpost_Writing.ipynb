{
 "cells": [
  {
   "cell_type": "markdown",
   "id": "fc3024e2",
   "metadata": {},
   "source": [
    "# Lesson 3: Reflection and Blogpost Writing"
   ]
  },
  {
   "cell_type": "markdown",
   "id": "3b0cc42f",
   "metadata": {},
   "source": [
    "## Setup"
   ]
  },
  {
   "cell_type": "code",
   "execution_count": 1,
   "id": "96d39be0-eaf3-456d-8613-ba21099ed36b",
   "metadata": {
    "height": 30
   },
   "outputs": [],
   "source": [
    "llm_config = {\"model\": \"gpt-3.5-turbo\"}"
   ]
  },
  {
   "cell_type": "markdown",
   "id": "0969e6bb",
   "metadata": {},
   "source": [
    "## The task!"
   ]
  },
  {
   "cell_type": "code",
   "execution_count": 2,
   "id": "e8074032-3690-4de9-ad08-ea8323cb441b",
   "metadata": {
    "height": 115
   },
   "outputs": [],
   "source": [
    "task = '''\n",
    "        Write a concise but engaging blogpost about\n",
    "       DeepLearning.AI. Make sure the blogpost is\n",
    "       within 100 words.\n",
    "       '''\n"
   ]
  },
  {
   "cell_type": "markdown",
   "id": "1987f023",
   "metadata": {},
   "source": [
    "## Create a writer agent"
   ]
  },
  {
   "cell_type": "code",
   "execution_count": 3,
   "id": "fe0f0a47-a9fe-43a0-b7b1-79922e4c4ac8",
   "metadata": {
    "height": 200
   },
   "outputs": [],
   "source": [
    "import autogen\n",
    "\n",
    "writer = autogen.AssistantAgent(\n",
    "    name=\"Writer\",\n",
    "    system_message=\"You are a writer. You write engaging and concise \" \n",
    "        \"blogpost (with title) on given topics. You must polish your \"\n",
    "        \"writing based on the feedback you receive and give a refined \"\n",
    "        \"version. Only return your final work without additional comments.\",\n",
    "    llm_config=llm_config,\n",
    ")"
   ]
  },
  {
   "cell_type": "code",
   "execution_count": 4,
   "id": "7c7b4d8d-40f7-4a05-8958-25d20054de3a",
   "metadata": {
    "height": 47
   },
   "outputs": [],
   "source": [
    "reply = writer.generate_reply(messages=[{\"content\": task, \"role\": \"user\"}])"
   ]
  },
  {
   "cell_type": "code",
   "execution_count": 5,
   "id": "c501c97d-e338-4f36-a384-6ec45983cf77",
   "metadata": {
    "height": 30
   },
   "outputs": [
    {
     "name": "stdout",
     "output_type": "stream",
     "text": [
      "Title: \"Unleashing the Power of AI with DeepLearning.AI\"\n",
      "\n",
      "Embark on a journey to unlock the secrets of artificial intelligence with DeepLearning.AI. Founded by renowned data scientist Andrew Ng, this platform offers cutting-edge courses on deep learning to empower individuals and organizations worldwide. Whether you're a beginner or an expert, these engaging and comprehensive courses will equip you with the skills needed to thrive in the AI-driven future. From computer vision to natural language processing, DeepLearning.AI covers it all. Join this transformative learning experience today and dive into the exciting world of AI with confidence. Let's shape a smarter tomorrow, one algorithm at a time.\n"
     ]
    }
   ],
   "source": [
    "print(reply)"
   ]
  },
  {
   "cell_type": "markdown",
   "id": "49658114",
   "metadata": {},
   "source": [
    "## Adding reflection \n",
    "\n",
    "Create a critic agent to reflect on the work of the writer agent."
   ]
  },
  {
   "cell_type": "code",
   "execution_count": 6,
   "id": "c7fcd1c7-51ec-4915-8e97-bac03565c4c7",
   "metadata": {
    "height": 166
   },
   "outputs": [],
   "source": [
    "critic = autogen.AssistantAgent(\n",
    "    name=\"Critic\",\n",
    "    is_termination_msg=lambda x: x.get(\"content\", \"\").find(\"TERMINATE\") >= 0,\n",
    "    llm_config=llm_config,\n",
    "    system_message=\"You are a critic. You review the work of \"\n",
    "                \"the writer and provide constructive \"\n",
    "                \"feedback to help improve the quality of the content.\",\n",
    ")"
   ]
  },
  {
   "cell_type": "code",
   "execution_count": 7,
   "id": "899d5fdb-6081-470b-b287-8cf8b8142d0d",
   "metadata": {
    "height": 115
   },
   "outputs": [
    {
     "name": "stdout",
     "output_type": "stream",
     "text": [
      "\u001b[33mCritic\u001b[0m (to Writer):\n",
      "\n",
      "\n",
      "        Write a concise but engaging blogpost about\n",
      "       DeepLearning.AI. Make sure the blogpost is\n",
      "       within 100 words.\n",
      "       \n",
      "\n",
      "--------------------------------------------------------------------------------\n",
      "\u001b[33mWriter\u001b[0m (to Critic):\n",
      "\n",
      "Title: \"Unleashing the Power of AI with DeepLearning.AI\"\n",
      "\n",
      "Embark on a journey to unlock the secrets of artificial intelligence with DeepLearning.AI. Founded by renowned data scientist Andrew Ng, this platform offers cutting-edge courses on deep learning to empower individuals and organizations worldwide. Whether you're a beginner or an expert, these engaging and comprehensive courses will equip you with the skills needed to thrive in the AI-driven future. From computer vision to natural language processing, DeepLearning.AI covers it all. Join this transformative learning experience today and dive into the exciting world of AI with confidence. Let's shape a smarter tomorrow, one algorithm at a time.\n",
      "\n",
      "--------------------------------------------------------------------------------\n",
      "\u001b[33mCritic\u001b[0m (to Writer):\n",
      "\n",
      "This blog post is engaging and informative, effectively capturing the essence of DeepLearning.AI and its significance in the field of artificial intelligence. The writer effectively highlights the key features of the platform, such as its founder Andrew Ng and the range of courses offered. The language used is compelling and motivational, encouraging readers to embark on a learning journey with DeepLearning.AI. However, I would suggest incorporating more specific details or examples of the courses available to provide a clearer picture of what learners can expect. Additionally, ending with a call to action or sharing personal experiences could enhance the overall impact of the blog post.\n",
      "\n",
      "--------------------------------------------------------------------------------\n",
      "\u001b[33mWriter\u001b[0m (to Critic):\n",
      "\n",
      "Title: \"Empower Your Future with DeepLearning.AI: A Gateway to AI Mastery\"\n",
      "\n",
      "Delve into the realm of artificial intelligence with DeepLearning.AI, spearheaded by the esteemed Andrew Ng. Unveil a plethora of transformative courses, tailored for AI enthusiasts at all levels. From mastering computer vision to unraveling the secrets of natural language processing, the possibilities are boundless. Picture yourself crafting cutting-edge algorithms and reshaping the future through innovation. Join the ranks of global learners today and equip yourself with the tools to thrive in an AI-driven landscape. Take charge of your learning journey and unlock a world of opportunities with DeepLearning.AI. Your AI mastery begins here.\n",
      "\n",
      "--------------------------------------------------------------------------------\n"
     ]
    }
   ],
   "source": [
    "res = critic.initiate_chat(\n",
    "    recipient=writer,\n",
    "    message=task,\n",
    "    max_turns=2,\n",
    "    summary_method=\"last_msg\"\n",
    ")"
   ]
  },
  {
   "cell_type": "markdown",
   "id": "e7b76449",
   "metadata": {},
   "source": [
    "## Nested chat"
   ]
  },
  {
   "cell_type": "code",
   "execution_count": 8,
   "id": "401ecf92-63e9-40ff-aeed-1c404352e4ab",
   "metadata": {
    "height": 200
   },
   "outputs": [],
   "source": [
    "SEO_reviewer = autogen.AssistantAgent(\n",
    "    name=\"SEO Reviewer\",\n",
    "    llm_config=llm_config,\n",
    "    system_message=\"You are an SEO reviewer, known for \"\n",
    "        \"your ability to optimize content for search engines, \"\n",
    "        \"ensuring that it ranks well and attracts organic traffic. \" \n",
    "        \"Make sure your suggestion is concise (within 3 bullet points), \"\n",
    "        \"concrete and to the point. \"\n",
    "        \"Begin the review by stating your role.\",\n",
    ")\n"
   ]
  },
  {
   "cell_type": "code",
   "execution_count": 9,
   "id": "f85acb81-7ab9-4c84-b8bb-6fbae3dce848",
   "metadata": {
    "height": 183
   },
   "outputs": [],
   "source": [
    "legal_reviewer = autogen.AssistantAgent(\n",
    "    name=\"Legal Reviewer\",\n",
    "    llm_config=llm_config,\n",
    "    system_message=\"You are a legal reviewer, known for \"\n",
    "        \"your ability to ensure that content is legally compliant \"\n",
    "        \"and free from any potential legal issues. \"\n",
    "        \"Make sure your suggestion is concise (within 3 bullet points), \"\n",
    "        \"concrete and to the point. \"\n",
    "        \"Begin the review by stating your role.\",\n",
    ")"
   ]
  },
  {
   "cell_type": "code",
   "execution_count": 10,
   "id": "d46a177a-8088-4956-8d2b-3e916b8ca5e9",
   "metadata": {
    "height": 183
   },
   "outputs": [],
   "source": [
    "ethics_reviewer = autogen.AssistantAgent(\n",
    "    name=\"Ethics Reviewer\",\n",
    "    llm_config=llm_config,\n",
    "    system_message=\"You are an ethics reviewer, known for \"\n",
    "        \"your ability to ensure that content is ethically sound \"\n",
    "        \"and free from any potential ethical issues. \" \n",
    "        \"Make sure your suggestion is concise (within 3 bullet points), \"\n",
    "        \"concrete and to the point. \"\n",
    "        \"Begin the review by stating your role. \",\n",
    ")"
   ]
  },
  {
   "cell_type": "code",
   "execution_count": 11,
   "id": "a7b2ad6f-8ba6-436a-9459-14ffbe8a32d3",
   "metadata": {
    "height": 132
   },
   "outputs": [],
   "source": [
    "meta_reviewer = autogen.AssistantAgent(\n",
    "    name=\"Meta Reviewer\",\n",
    "    llm_config=llm_config,\n",
    "    system_message=\"You are a meta reviewer, you aggragate and review \"\n",
    "    \"the work of other reviewers and give a final suggestion on the content.\",\n",
    ")"
   ]
  },
  {
   "cell_type": "markdown",
   "id": "913beca1",
   "metadata": {},
   "source": [
    "## Orchestrate the nested chats to solve the task"
   ]
  },
  {
   "cell_type": "code",
   "execution_count": 12,
   "id": "a11a70c7-19ca-4e5a-ad3d-f2b481fb5915",
   "metadata": {
    "height": 557
   },
   "outputs": [],
   "source": [
    "def reflection_message(recipient, messages, sender, config):\n",
    "    return f'''Review the following content. \n",
    "            \\n\\n {recipient.chat_messages_for_summary(sender)[-1]['content']}'''\n",
    "\n",
    "review_chats = [\n",
    "    {\n",
    "     \"recipient\": SEO_reviewer, \n",
    "     \"message\": reflection_message, \n",
    "     \"summary_method\": \"reflection_with_llm\",\n",
    "     \"summary_args\": {\"summary_prompt\" : \n",
    "        \"Return review into as JSON object only:\"\n",
    "        \"{'Reviewer': '', 'Review': ''}. Here Reviewer should be your role\",},\n",
    "     \"max_turns\": 1},\n",
    "    {\n",
    "    \"recipient\": legal_reviewer, \"message\": reflection_message, \n",
    "     \"summary_method\": \"reflection_with_llm\",\n",
    "     \"summary_args\": {\"summary_prompt\" : \n",
    "        \"Return review into as JSON object only:\"\n",
    "        \"{'Reviewer': '', 'Review': ''}.\",},\n",
    "     \"max_turns\": 1},\n",
    "    {\"recipient\": ethics_reviewer, \"message\": reflection_message, \n",
    "     \"summary_method\": \"reflection_with_llm\",\n",
    "     \"summary_args\": {\"summary_prompt\" : \n",
    "        \"Return review into as JSON object only:\"\n",
    "        \"{'reviewer': '', 'review': ''}\",},\n",
    "     \"max_turns\": 1},\n",
    "     {\"recipient\": meta_reviewer, \n",
    "      \"message\": \"Aggregrate feedback from all reviewers and give final suggestions on the writing.\", \n",
    "     \"max_turns\": 1},\n",
    "]\n"
   ]
  },
  {
   "cell_type": "code",
   "execution_count": 13,
   "id": "b3a40b66-5061-460d-ad9d-c0dbcfbba2e9",
   "metadata": {
    "height": 81
   },
   "outputs": [],
   "source": [
    "critic.register_nested_chats(\n",
    "    review_chats,\n",
    "    trigger=writer,\n",
    ")"
   ]
  },
  {
   "cell_type": "markdown",
   "id": "43b8797d",
   "metadata": {},
   "source": [
    "**Note**: You might get a slightly different response than what's shown in the video. Feel free to try different task."
   ]
  },
  {
   "cell_type": "code",
   "execution_count": 14,
   "id": "3b8dcac3-1e72-43b7-9d5a-1be740f6efd5",
   "metadata": {
    "height": 115
   },
   "outputs": [
    {
     "name": "stdout",
     "output_type": "stream",
     "text": [
      "\u001b[33mCritic\u001b[0m (to Writer):\n",
      "\n",
      "\n",
      "        Write a concise but engaging blogpost about\n",
      "       DeepLearning.AI. Make sure the blogpost is\n",
      "       within 100 words.\n",
      "       \n",
      "\n",
      "--------------------------------------------------------------------------------\n",
      "\u001b[33mWriter\u001b[0m (to Critic):\n",
      "\n",
      "Title: \"Unleashing the Power of AI with DeepLearning.AI\"\n",
      "\n",
      "Embark on a journey to unlock the secrets of artificial intelligence with DeepLearning.AI. Founded by renowned data scientist Andrew Ng, this platform offers cutting-edge courses on deep learning to empower individuals and organizations worldwide. Whether you're a beginner or an expert, these engaging and comprehensive courses will equip you with the skills needed to thrive in the AI-driven future. From computer vision to natural language processing, DeepLearning.AI covers it all. Join this transformative learning experience today and dive into the exciting world of AI with confidence. Let's shape a smarter tomorrow, one algorithm at a time.\n",
      "\n",
      "--------------------------------------------------------------------------------\n",
      "\u001b[34m\n",
      "********************************************************************************\u001b[0m\n",
      "\u001b[34mStarting a new chat....\u001b[0m\n",
      "\u001b[34m\n",
      "********************************************************************************\u001b[0m\n",
      "\u001b[33mCritic\u001b[0m (to SEO Reviewer):\n",
      "\n",
      "Review the following content. \n",
      "            \n",
      "\n",
      " Title: \"Unleashing the Power of AI with DeepLearning.AI\"\n",
      "\n",
      "Embark on a journey to unlock the secrets of artificial intelligence with DeepLearning.AI. Founded by renowned data scientist Andrew Ng, this platform offers cutting-edge courses on deep learning to empower individuals and organizations worldwide. Whether you're a beginner or an expert, these engaging and comprehensive courses will equip you with the skills needed to thrive in the AI-driven future. From computer vision to natural language processing, DeepLearning.AI covers it all. Join this transformative learning experience today and dive into the exciting world of AI with confidence. Let's shape a smarter tomorrow, one algorithm at a time.\n",
      "\n",
      "--------------------------------------------------------------------------------\n",
      "\u001b[33mSEO Reviewer\u001b[0m (to Critic):\n",
      "\n",
      "As an SEO reviewer:\n",
      "\n",
      "1. Optimize the title to include more relevant keywords for search engine visibility. For example, \"Master Artificial Intelligence with DeepLearning.AI: Courses by Andrew Ng\".\n",
      "  \n",
      "2. Include internal links to related content on the DeepLearning.AI website to improve site structure and user engagement.\n",
      "\n",
      "3. Enhance meta description with a clear call-to-action and focus on key AI topics covered to attract relevant organic traffic.\n",
      "\n",
      "--------------------------------------------------------------------------------\n",
      "\u001b[34m\n",
      "********************************************************************************\u001b[0m\n",
      "\u001b[34mStarting a new chat....\u001b[0m\n",
      "\u001b[34m\n",
      "********************************************************************************\u001b[0m\n",
      "\u001b[33mCritic\u001b[0m (to Legal Reviewer):\n",
      "\n",
      "Review the following content. \n",
      "            \n",
      "\n",
      " Title: \"Unleashing the Power of AI with DeepLearning.AI\"\n",
      "\n",
      "Embark on a journey to unlock the secrets of artificial intelligence with DeepLearning.AI. Founded by renowned data scientist Andrew Ng, this platform offers cutting-edge courses on deep learning to empower individuals and organizations worldwide. Whether you're a beginner or an expert, these engaging and comprehensive courses will equip you with the skills needed to thrive in the AI-driven future. From computer vision to natural language processing, DeepLearning.AI covers it all. Join this transformative learning experience today and dive into the exciting world of AI with confidence. Let's shape a smarter tomorrow, one algorithm at a time.\n",
      "Context: \n",
      "{'Reviewer': 'SEO Reviewer', 'Review': '1. Optimize the title to include more relevant keywords for search engine visibility. For example, \"Master Artificial Intelligence with DeepLearning.AI: Courses by Andrew Ng\". 2. Include internal links to related content on the DeepLearning.AI website to improve site structure and user engagement. 3. Enhance meta description with a clear call-to-action and focus on key AI topics covered to attract relevant organic traffic.'}\n",
      "\n",
      "--------------------------------------------------------------------------------\n",
      "\u001b[33mLegal Reviewer\u001b[0m (to Critic):\n",
      "\n",
      "As a Legal Reviewer:\n",
      "\n",
      "1. Avoid making exaggerated claims about DeepLearning.AI's courses without providing specific evidence or disclaimers to support them.\n",
      "2. Ensure accurate representation of Andrew Ng's role and involvement with DeepLearning.AI to prevent any misleading information.\n",
      "3. Review and update any trademark or copyright information related to the term \"DeepLearning.AI\" to reflect its current status and protect intellectual property rights.\n",
      "\n",
      "--------------------------------------------------------------------------------\n",
      "\u001b[34m\n",
      "********************************************************************************\u001b[0m\n",
      "\u001b[34mStarting a new chat....\u001b[0m\n",
      "\u001b[34m\n",
      "********************************************************************************\u001b[0m\n",
      "\u001b[33mCritic\u001b[0m (to Ethics Reviewer):\n",
      "\n",
      "Review the following content. \n",
      "            \n",
      "\n",
      " Title: \"Unleashing the Power of AI with DeepLearning.AI\"\n",
      "\n",
      "Embark on a journey to unlock the secrets of artificial intelligence with DeepLearning.AI. Founded by renowned data scientist Andrew Ng, this platform offers cutting-edge courses on deep learning to empower individuals and organizations worldwide. Whether you're a beginner or an expert, these engaging and comprehensive courses will equip you with the skills needed to thrive in the AI-driven future. From computer vision to natural language processing, DeepLearning.AI covers it all. Join this transformative learning experience today and dive into the exciting world of AI with confidence. Let's shape a smarter tomorrow, one algorithm at a time.\n",
      "Context: \n",
      "{'Reviewer': 'SEO Reviewer', 'Review': '1. Optimize the title to include more relevant keywords for search engine visibility. For example, \"Master Artificial Intelligence with DeepLearning.AI: Courses by Andrew Ng\". 2. Include internal links to related content on the DeepLearning.AI website to improve site structure and user engagement. 3. Enhance meta description with a clear call-to-action and focus on key AI topics covered to attract relevant organic traffic.'}\n",
      "{'Reviewer': 'SEO Reviewer', 'Review': '1. Optimize the title to include more relevant keywords for search engine visibility. For example, \"Master Artificial Intelligence with DeepLearning.AI: Courses by Andrew Ng\". 2. Include internal links to related content on the DeepLearning.AI website to improve site structure and user engagement. 3. Enhance meta description with a clear call-to-action and focus on key AI topics covered to attract relevant organic traffic.'}\n",
      "\n",
      "--------------------------------------------------------------------------------\n",
      "\u001b[33mEthics Reviewer\u001b[0m (to Critic):\n",
      "\n",
      "As an ethics reviewer:\n",
      "\n",
      "- Ensure the content clearly discloses any potential biases or conflicts of interest related to DeepLearning.AI and Andrew Ng.\n",
      "- Verify the accuracy of any claims made about the effectiveness or outcomes of the courses offered by DeepLearning.AI.\n",
      "- Confirm that the marketing language used does not overstate the benefits of the courses or mislead potential learners about the skills they will acquire.\n",
      "\n",
      "--------------------------------------------------------------------------------\n",
      "\u001b[34m\n",
      "********************************************************************************\u001b[0m\n",
      "\u001b[34mStarting a new chat....\u001b[0m\n",
      "\u001b[34m\n",
      "********************************************************************************\u001b[0m\n",
      "\u001b[33mCritic\u001b[0m (to Meta Reviewer):\n",
      "\n",
      "Aggregrate feedback from all reviewers and give final suggestions on the writing.\n",
      "Context: \n",
      "{'Reviewer': 'SEO Reviewer', 'Review': '1. Optimize the title to include more relevant keywords for search engine visibility. For example, \"Master Artificial Intelligence with DeepLearning.AI: Courses by Andrew Ng\". 2. Include internal links to related content on the DeepLearning.AI website to improve site structure and user engagement. 3. Enhance meta description with a clear call-to-action and focus on key AI topics covered to attract relevant organic traffic.'}\n",
      "{'Reviewer': 'SEO Reviewer', 'Review': '1. Optimize the title to include more relevant keywords for search engine visibility. For example, \"Master Artificial Intelligence with DeepLearning.AI: Courses by Andrew Ng\". 2. Include internal links to related content on the DeepLearning.AI website to improve site structure and user engagement. 3. Enhance meta description with a clear call-to-action and focus on key AI topics covered to attract relevant organic traffic.'}\n",
      "{'reviewer': 'Ethics Reviewer', 'review': '- Ensure the content clearly discloses any potential biases or conflicts of interest related to DeepLearning.AI and Andrew Ng. - Verify the accuracy of any claims made about the effectiveness or outcomes of the courses offered by DeepLearning.AI. - Confirm that the marketing language used does not overstate the benefits of the courses or mislead potential learners about the skills they will acquire.'}\n"
     ]
    },
    {
     "name": "stdout",
     "output_type": "stream",
     "text": [
      "\n",
      "--------------------------------------------------------------------------------\n",
      "\u001b[33mMeta Reviewer\u001b[0m (to Critic):\n",
      "\n",
      "Aggregated feedback:\n",
      "\n",
      "SEO Reviewer:\n",
      "1. Optimize the title for better search engine visibility by including relevant keywords.\n",
      "2. Include internal links to related content on the DeepLearning.AI website for improved site structure and user engagement.\n",
      "3. Enhance the meta description with a clear call-to-action and focus on key AI topics to attract organic traffic.\n",
      "\n",
      "Ethics Reviewer:\n",
      "1. Ensure clear disclosure of any biases or conflicts of interest related to DeepLearning.AI and Andrew Ng.\n",
      "2. Verify the accuracy of claims about the courses' effectiveness.\n",
      "3. Check that marketing language doesn't overstate benefits or mislead learners about the skills they will gain.\n",
      "\n",
      "Final suggestions:\n",
      "1. Incorporate relevant keywords in the title to boost search engine visibility. Consider the suggestion of \"Master Artificial Intelligence with DeepLearning.AI: Courses by Andrew Ng.\"\n",
      "2. Include internal links to related content on the website to enhance its structure and engagement.\n",
      "3. Enhance the meta description by adding a clear call-to-action and focusing on key AI topics covered to attract organic traffic.\n",
      "4. Ensure full disclosure of any biases or conflicts of interest and verify the accuracy of claims made about the courses.\n",
      "5. Review marketing language to avoid overstating benefits or misleading potential learners.\n",
      "\n",
      "Overall, the content could benefit from improvements in SEO optimization, site structure, ethical considerations, and marketing language to better target the intended audience and provide accurate information about the courses offered by DeepLearning.AI.\n",
      "\n",
      "--------------------------------------------------------------------------------\n",
      "\u001b[33mCritic\u001b[0m (to Writer):\n",
      "\n",
      "Aggregated feedback:\n",
      "\n",
      "SEO Reviewer:\n",
      "1. Optimize the title for better search engine visibility by including relevant keywords.\n",
      "2. Include internal links to related content on the DeepLearning.AI website for improved site structure and user engagement.\n",
      "3. Enhance the meta description with a clear call-to-action and focus on key AI topics to attract organic traffic.\n",
      "\n",
      "Ethics Reviewer:\n",
      "1. Ensure clear disclosure of any biases or conflicts of interest related to DeepLearning.AI and Andrew Ng.\n",
      "2. Verify the accuracy of claims about the courses' effectiveness.\n",
      "3. Check that marketing language doesn't overstate benefits or mislead learners about the skills they will gain.\n",
      "\n",
      "Final suggestions:\n",
      "1. Incorporate relevant keywords in the title to boost search engine visibility. Consider the suggestion of \"Master Artificial Intelligence with DeepLearning.AI: Courses by Andrew Ng.\"\n",
      "2. Include internal links to related content on the website to enhance its structure and engagement.\n",
      "3. Enhance the meta description by adding a clear call-to-action and focusing on key AI topics covered to attract organic traffic.\n",
      "4. Ensure full disclosure of any biases or conflicts of interest and verify the accuracy of claims made about the courses.\n",
      "5. Review marketing language to avoid overstating benefits or misleading potential learners.\n",
      "\n",
      "Overall, the content could benefit from improvements in SEO optimization, site structure, ethical considerations, and marketing language to better target the intended audience and provide accurate information about the courses offered by DeepLearning.AI.\n",
      "\n",
      "--------------------------------------------------------------------------------\n",
      "\u001b[33mWriter\u001b[0m (to Critic):\n",
      "\n",
      "Title: \"Master Artificial Intelligence with DeepLearning.AI: Courses by Andrew Ng\"\n",
      "\n",
      "Unlock the world of AI through DeepLearning.AI, led by the esteemed Andrew Ng. Dive into comprehensive courses covering key AI topics, from computer vision to natural language processing. Our platform caters to all skill levels, offering transformative learning experiences for a smarter tomorrow. Enhance your expertise and stay ahead in this AI-driven era. For more insights, explore related content on the DeepLearning.AI website and join us in shaping the future of technology. Full disclosure, verified effectiveness, and precise marketing – trust us to guide you accurately through the realm of AI.\n",
      "\n",
      "--------------------------------------------------------------------------------\n"
     ]
    }
   ],
   "source": [
    "res = critic.initiate_chat(\n",
    "    recipient=writer,\n",
    "    message=task,\n",
    "    max_turns=2,\n",
    "    summary_method=\"last_msg\"\n",
    ")"
   ]
  },
  {
   "cell_type": "markdown",
   "id": "c5c833b0",
   "metadata": {},
   "source": [
    "## Get the summary"
   ]
  },
  {
   "cell_type": "code",
   "execution_count": 15,
   "id": "68ef82ed-f102-4964-b7be-60e2f258a39b",
   "metadata": {
    "height": 30
   },
   "outputs": [
    {
     "name": "stdout",
     "output_type": "stream",
     "text": [
      "Title: \"Master Artificial Intelligence with DeepLearning.AI: Courses by Andrew Ng\"\n",
      "\n",
      "Unlock the world of AI through DeepLearning.AI, led by the esteemed Andrew Ng. Dive into comprehensive courses covering key AI topics, from computer vision to natural language processing. Our platform caters to all skill levels, offering transformative learning experiences for a smarter tomorrow. Enhance your expertise and stay ahead in this AI-driven era. For more insights, explore related content on the DeepLearning.AI website and join us in shaping the future of technology. Full disclosure, verified effectiveness, and precise marketing – trust us to guide you accurately through the realm of AI.\n"
     ]
    }
   ],
   "source": [
    "print(res.summary)"
   ]
  }
 ],
 "metadata": {
  "kernelspec": {
   "display_name": "Python 3 (ipykernel)",
   "language": "python",
   "name": "python3"
  },
  "language_info": {
   "codemirror_mode": {
    "name": "ipython",
    "version": 3
   },
   "file_extension": ".py",
   "mimetype": "text/x-python",
   "name": "python",
   "nbconvert_exporter": "python",
   "pygments_lexer": "ipython3",
   "version": "3.11.9"
  }
 },
 "nbformat": 4,
 "nbformat_minor": 5
}
