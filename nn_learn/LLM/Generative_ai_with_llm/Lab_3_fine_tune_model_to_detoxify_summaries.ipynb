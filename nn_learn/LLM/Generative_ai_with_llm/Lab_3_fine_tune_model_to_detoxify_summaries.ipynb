{
 "cells": [
  {
   "cell_type": "markdown",
   "id": "d7f10b19-c061-42b2-8b42-e3cbafa3b1da",
   "metadata": {
    "pycharm": {
     "name": "#%% md\n"
    }
   },
   "source": [
    "# Fine-Tune FLAN-T5 with Reinforcement Learning (PPO) and PEFT to Generate Less-Toxic Summaries"
   ]
  },
  {
   "cell_type": "markdown",
   "id": "36ef668a-9c51-489b-be47-a07a09ef2289",
   "metadata": {
    "pycharm": {
     "name": "#%% md\n"
    }
   },
   "source": [
    "In this notebook, you will fine-tune a FLAN-T5 model to generate less toxic content with Meta AI's hate speech reward model. The reward model is a binary classifier that predicts either \"not hate\" or \"hate\" for the given text. You will use Proximal Policy Optimization (PPO) to fine-tune and reduce the model's toxicity."
   ]
  },
  {
   "cell_type": "markdown",
   "id": "ed5003e2-a642-416b-bd3f-93fb339c3a7d",
   "metadata": {
    "tags": [],
    "pycharm": {
     "name": "#%% md\n"
    }
   },
   "source": [
    "# Table of Contents"
   ]
  },
  {
   "cell_type": "markdown",
   "id": "6791f449-d1da-461b-9eb7-c6dc6b37b15c",
   "metadata": {
    "tags": [],
    "pycharm": {
     "name": "#%% md\n"
    }
   },
   "source": [
    "- [ 1 - Set up Kernel and Required Dependencies](#1)\n",
    "- [ 2 - Load FLAN-T5 Model, Prepare Reward Model and Toxicity Evaluator](#2)\n",
    "  - [ 2.1 - Load Data and FLAN-T5 Model Fine-Tuned with Summarization Instruction](#2.1)\n",
    "  - [ 2.2 - Prepare Reward Model](#2.2)\n",
    "  - [ 2.3 - Evaluate Toxicity](#2.3)\n",
    "- [ 3 - Perform Fine-Tuning to Detoxify the Summaries](#3)\n",
    "  - [ 3.1 - Initialize `PPOTrainer`](#3.1)\n",
    "  - [ 3.2 - Fine-Tune the Model](#3.2)\n",
    "  - [ 3.3 - Evaluate the Model Quantitatively](#3.3)\n",
    "  - [ 3.4 - Evaluate the Model Qualitatively](#3.4)"
   ]
  },
  {
   "cell_type": "markdown",
   "id": "89f973f1-f095-4915-86d0-bc16380da22d",
   "metadata": {
    "tags": [],
    "pycharm": {
     "name": "#%% md\n"
    }
   },
   "source": [
    "<a name='1'></a>\n",
    "## 1 - Set up Kernel and Required Dependencies"
   ]
  },
  {
   "cell_type": "markdown",
   "id": "ba0923b1-daaa-437c-a604-455d839b9877",
   "metadata": {
    "tags": [],
    "pycharm": {
     "name": "#%% md\n"
    }
   },
   "source": [
    "First, check that the correct kernel is chosen.\n",
    "\n",
    "<img src=\"images/kernel_set_up.png\" width=\"300\"/>\n",
    "\n",
    "You can click on that (top right of the screen) to see and check the details of the image, kernel, and instance type.\n",
    "\n",
    "<img src=\"images/w3_kernel_and_instance_type.png\" width=\"600\"/>"
   ]
  },
  {
   "cell_type": "markdown",
   "id": "5e38b387-d92d-4361-8112-37c908f25ff1",
   "metadata": {
    "tags": [],
    "pycharm": {
     "name": "#%% md\n"
    }
   },
   "source": [
    "Now install the required packages to use PyTorch and Hugging Face transformers and datasets.\n",
    "\n",
    "<img src=\"data:image/svg+xml;base64,Cjxzdmcgd2lkdGg9IjgwMCIgaGVpZ2h0PSIxMjUiIHZpZXdCb3g9IjAgMCA4MDAgMTI1IiB4bWxucz0iaHR0cDovL3d3dy53My5vcmcvMjAwMC9zdmciPgogICAgPGRlZnM+CiAgICAgICAgPGxpbmVhckdyYWRpZW50IGlkPSJmYWRlR3JhZGllbnQiIHgxPSIwIiB4Mj0iMSI+CiAgICAgICAgICAgIDxzdG9wIG9mZnNldD0iMCUiIHN0b3AtY29sb3I9IiNGMEYwRjAiLz4KICAgICAgICAgICAgPHN0b3Agb2Zmc2V0PSIxMDAlIiBzdG9wLWNvbG9yPSIjRjBGMEYwIiBzdG9wLW9wYWNpdHk9IjAiLz4KICAgICAgICA8L2xpbmVhckdyYWRpZW50PgogICAgICAgIDxtYXNrIGlkPSJmYWRlTWFzayI+CiAgICAgICAgICAgIDxyZWN0IHg9IjAiIHk9IjAiIHdpZHRoPSI3NTAiIGhlaWdodD0iMTI1IiBmaWxsPSJ3aGl0ZSIvPgogICAgICAgICAgICA8cmVjdCB4PSI3NTAiIHk9IjAiIHdpZHRoPSI1MCIgaGVpZ2h0PSIxMjUiIGZpbGw9InVybCgjZmFkZUdyYWRpZW50KSIvPgogICAgICAgIDwvbWFzaz4KICAgIDwvZGVmcz4KICAgIDxwYXRoIGQ9Ik0zLDUwIEE1MCw1MCAwIDAgMSA1MywzIEw3OTcsMyBMNzk3LDk3IEw5Nyw5NyBMNTAsMTE1IEwzLDk3IFoiIGZpbGw9IiNGMEYwRjAiIHN0cm9rZT0iI0UwRTBFMCIgc3Ryb2tlLXdpZHRoPSIxIiBtYXNrPSJ1cmwoI2ZhZGVNYXNrKSIvPgogICAgPGNpcmNsZSBjeD0iNTAiIGN5PSI1MCIgcj0iMzAiIGZpbGw9IiM1N2M0ZjgiIHN0cm9rZT0iIzU3YzRmOCIgc3Ryb2tlLXdpZHRoPSIxIi8+CiAgICA8Y2lyY2xlIGN4PSI1MCIgY3k9IjUwIiByPSIyNSIgZmlsbD0iI0YwRjBGMCIvPgogICAgPGxpbmUgeDE9IjUwIiB5MT0iNTAiIHgyPSI1MCIgeTI9IjMwIiBzdHJva2U9IiM1N2M0ZjgiIHN0cm9rZS13aWR0aD0iMyIgc3Ryb2tlLWxpbmVjYXA9InJvdW5kIi8+CiAgICA8bGluZSB4MT0iNTAiIHkxPSI1MCIgeDI9IjY1IiB5Mj0iNTAiIHN0cm9rZT0iIzU3YzRmOCIgc3Ryb2tlLXdpZHRoPSIzIiBzdHJva2UtbGluZWNhcD0icm91bmQiLz4KICAgIDx0ZXh0IHg9IjEwMCIgeT0iMzQiIGZvbnQtZmFtaWx5PSJBcmlhbCwgc2Fucy1zZXJpZiIgZm9udC1zaXplPSIxNCIgZmlsbD0iIzMzMzMzMyI+VGhlIG5leHQgY2VsbCBtYXkgdGFrZSBhIGZldyBtaW51dGVzIHRvIHJ1bi4gUGxlYXNlIGJlIHBhdGllbnQuPC90ZXh0PgogICAgPHRleHQgeD0iMTAwIiB5PSI1NiIgZm9udC1mYW1pbHk9IkFyaWFsLCBzYW5zLXNlcmlmIiBmb250LXNpemU9IjE0IiBmaWxsPSIjMzMzMzMzIj5JZ25vcmUgdGhlIHdhcm5pbmdzIGFuZCBlcnJvcnMsIGFsb25nIHdpdGggdGhlIG5vdGUgYWJvdXQgcmVzdGFydGluZyB0aGUga2VybmVsIGF0IHRoZSBlbmQuPC90ZXh0Pgo8L3N2Zz4K\" alt=\"Time alert open medium\"/>"
   ]
  },
  {
   "cell_type": "code",
   "execution_count": 3,
   "id": "f9d24e86-f76f-4a44-90ef-0777752075a8",
   "metadata": {
    "tags": [],
    "pycharm": {
     "name": "#%%\n"
    }
   },
   "outputs": [
    {
     "name": "stdout",
     "output_type": "stream",
     "text": [
      "Requirement already satisfied: pip in /opt/conda/lib/python3.7/site-packages (23.1.2)\n",
      "\u001B[33mWARNING: Running pip as the 'root' user can result in broken permissions and conflicting behaviour with the system package manager. It is recommended to use a virtual environment instead: https://pip.pypa.io/warnings/venv\u001B[0m\u001B[33m\n",
      "\u001B[0mNote: you may need to restart the kernel to use updated packages.\n",
      "\u001B[33mWARNING: Running pip as the 'root' user can result in broken permissions and conflicting behaviour with the system package manager. It is recommended to use a virtual environment instead: https://pip.pypa.io/warnings/venv\u001B[0m\u001B[33m\n",
      "\u001B[0mNote: you may need to restart the kernel to use updated packages.\n",
      "\u001B[31mERROR: pip's dependency resolver does not currently take into account all the packages that are installed. This behaviour is the source of the following dependency conflicts.\n",
      "pytest-astropy 0.8.0 requires pytest-cov>=2.0, which is not installed.\n",
      "pytest-astropy 0.8.0 requires pytest-filter-subpackage>=0.1, which is not installed.\n",
      "spyder 4.0.1 requires pyqt5<5.13; python_version >= \"3\", which is not installed.\n",
      "spyder 4.0.1 requires pyqtwebengine<5.13; python_version >= \"3\", which is not installed.\n",
      "sagemaker 2.165.0 requires importlib-metadata<5.0,>=1.4.0, but you have importlib-metadata 6.6.0 which is incompatible.\n",
      "sparkmagic 0.20.4 requires nest-asyncio==1.5.5, but you have nest-asyncio 1.5.6 which is incompatible.\n",
      "spyder 4.0.1 requires jedi==0.14.1, but you have jedi 0.18.2 which is incompatible.\u001B[0m\u001B[31m\n",
      "\u001B[0m\u001B[33mWARNING: Running pip as the 'root' user can result in broken permissions and conflicting behaviour with the system package manager. It is recommended to use a virtual environment instead: https://pip.pypa.io/warnings/venv\u001B[0m\u001B[33m\n",
      "\u001B[0mNote: you may need to restart the kernel to use updated packages.\n",
      "Collecting git+https://github.com/lvwerra/trl.git@25fa1bd\n",
      "  Cloning https://github.com/lvwerra/trl.git (to revision 25fa1bd) to /tmp/pip-req-build-gph_q616\n",
      "  Running command git clone --filter=blob:none --quiet https://github.com/lvwerra/trl.git /tmp/pip-req-build-gph_q616\n",
      "\u001B[33m  WARNING: Did not find branch or tag '25fa1bd', assuming revision or ref.\u001B[0m\u001B[33m\n",
      "\u001B[0m  Running command git checkout -q 25fa1bd\n",
      "  Resolved https://github.com/lvwerra/trl.git to commit 25fa1bd\n",
      "  Preparing metadata (setup.py) ... \u001B[?25ldone\n",
      "\u001B[?25hRequirement already satisfied: torch>=1.4.0 in /opt/conda/lib/python3.7/site-packages (from trl==0.4.2.dev0) (1.13.1)\n",
      "Requirement already satisfied: transformers>=4.18.0 in /opt/conda/lib/python3.7/site-packages (from trl==0.4.2.dev0) (4.27.2)\n",
      "Requirement already satisfied: numpy>=1.18.2 in /opt/conda/lib/python3.7/site-packages (from trl==0.4.2.dev0) (1.21.6)\n",
      "Requirement already satisfied: accelerate in /opt/conda/lib/python3.7/site-packages (from trl==0.4.2.dev0) (0.20.3)\n",
      "Requirement already satisfied: datasets in /opt/conda/lib/python3.7/site-packages (from trl==0.4.2.dev0) (2.11.0)\n",
      "Requirement already satisfied: typing-extensions in /opt/conda/lib/python3.7/site-packages (from torch>=1.4.0->trl==0.4.2.dev0) (4.6.3)\n",
      "Requirement already satisfied: nvidia-cuda-runtime-cu11==11.7.99 in /opt/conda/lib/python3.7/site-packages (from torch>=1.4.0->trl==0.4.2.dev0) (11.7.99)\n",
      "Requirement already satisfied: nvidia-cudnn-cu11==8.5.0.96 in /opt/conda/lib/python3.7/site-packages (from torch>=1.4.0->trl==0.4.2.dev0) (8.5.0.96)\n",
      "Requirement already satisfied: nvidia-cublas-cu11==11.10.3.66 in /opt/conda/lib/python3.7/site-packages (from torch>=1.4.0->trl==0.4.2.dev0) (11.10.3.66)\n",
      "Requirement already satisfied: nvidia-cuda-nvrtc-cu11==11.7.99 in /opt/conda/lib/python3.7/site-packages (from torch>=1.4.0->trl==0.4.2.dev0) (11.7.99)\n",
      "Requirement already satisfied: setuptools in /opt/conda/lib/python3.7/site-packages (from nvidia-cublas-cu11==11.10.3.66->torch>=1.4.0->trl==0.4.2.dev0) (65.5.1)\n",
      "Requirement already satisfied: wheel in /opt/conda/lib/python3.7/site-packages (from nvidia-cublas-cu11==11.10.3.66->torch>=1.4.0->trl==0.4.2.dev0) (0.40.0)\n",
      "Requirement already satisfied: filelock in /opt/conda/lib/python3.7/site-packages (from transformers>=4.18.0->trl==0.4.2.dev0) (3.0.12)\n",
      "Requirement already satisfied: huggingface-hub<1.0,>=0.11.0 in /opt/conda/lib/python3.7/site-packages (from transformers>=4.18.0->trl==0.4.2.dev0) (0.15.1)\n",
      "Requirement already satisfied: packaging>=20.0 in /opt/conda/lib/python3.7/site-packages (from transformers>=4.18.0->trl==0.4.2.dev0) (23.1)\n",
      "Requirement already satisfied: pyyaml>=5.1 in /opt/conda/lib/python3.7/site-packages (from transformers>=4.18.0->trl==0.4.2.dev0) (6.0)\n",
      "Requirement already satisfied: regex!=2019.12.17 in /opt/conda/lib/python3.7/site-packages (from transformers>=4.18.0->trl==0.4.2.dev0) (2023.6.3)\n",
      "Requirement already satisfied: requests in /opt/conda/lib/python3.7/site-packages (from transformers>=4.18.0->trl==0.4.2.dev0) (2.31.0)\n",
      "Requirement already satisfied: tokenizers!=0.11.3,<0.14,>=0.11.1 in /opt/conda/lib/python3.7/site-packages (from transformers>=4.18.0->trl==0.4.2.dev0) (0.13.3)\n",
      "Requirement already satisfied: tqdm>=4.27 in /opt/conda/lib/python3.7/site-packages (from transformers>=4.18.0->trl==0.4.2.dev0) (4.65.0)\n",
      "Requirement already satisfied: importlib-metadata in /opt/conda/lib/python3.7/site-packages (from transformers>=4.18.0->trl==0.4.2.dev0) (6.6.0)\n",
      "Requirement already satisfied: psutil in /opt/conda/lib/python3.7/site-packages (from accelerate->trl==0.4.2.dev0) (5.6.7)\n",
      "Requirement already satisfied: pyarrow>=8.0.0 in /opt/conda/lib/python3.7/site-packages (from datasets->trl==0.4.2.dev0) (12.0.1)\n",
      "Requirement already satisfied: dill<0.3.7,>=0.3.0 in /opt/conda/lib/python3.7/site-packages (from datasets->trl==0.4.2.dev0) (0.3.6)\n",
      "Requirement already satisfied: pandas in /opt/conda/lib/python3.7/site-packages (from datasets->trl==0.4.2.dev0) (1.3.5)\n",
      "Requirement already satisfied: xxhash in /opt/conda/lib/python3.7/site-packages (from datasets->trl==0.4.2.dev0) (3.2.0)\n",
      "Requirement already satisfied: multiprocess in /opt/conda/lib/python3.7/site-packages (from datasets->trl==0.4.2.dev0) (0.70.14)\n",
      "Requirement already satisfied: fsspec[http]>=2021.11.1 in /opt/conda/lib/python3.7/site-packages (from datasets->trl==0.4.2.dev0) (2023.1.0)\n",
      "Requirement already satisfied: aiohttp in /opt/conda/lib/python3.7/site-packages (from datasets->trl==0.4.2.dev0) (3.8.4)\n",
      "Requirement already satisfied: responses<0.19 in /opt/conda/lib/python3.7/site-packages (from datasets->trl==0.4.2.dev0) (0.18.0)\n",
      "Requirement already satisfied: attrs>=17.3.0 in /opt/conda/lib/python3.7/site-packages (from aiohttp->datasets->trl==0.4.2.dev0) (23.1.0)\n",
      "Requirement already satisfied: charset-normalizer<4.0,>=2.0 in /opt/conda/lib/python3.7/site-packages (from aiohttp->datasets->trl==0.4.2.dev0) (2.0.4)\n",
      "Requirement already satisfied: multidict<7.0,>=4.5 in /opt/conda/lib/python3.7/site-packages (from aiohttp->datasets->trl==0.4.2.dev0) (6.0.4)\n",
      "Requirement already satisfied: async-timeout<5.0,>=4.0.0a3 in /opt/conda/lib/python3.7/site-packages (from aiohttp->datasets->trl==0.4.2.dev0) (4.0.2)\n",
      "Requirement already satisfied: yarl<2.0,>=1.0 in /opt/conda/lib/python3.7/site-packages (from aiohttp->datasets->trl==0.4.2.dev0) (1.9.2)\n",
      "Requirement already satisfied: frozenlist>=1.1.1 in /opt/conda/lib/python3.7/site-packages (from aiohttp->datasets->trl==0.4.2.dev0) (1.3.3)\n",
      "Requirement already satisfied: aiosignal>=1.1.2 in /opt/conda/lib/python3.7/site-packages (from aiohttp->datasets->trl==0.4.2.dev0) (1.3.1)\n",
      "Requirement already satisfied: asynctest==0.13.0 in /opt/conda/lib/python3.7/site-packages (from aiohttp->datasets->trl==0.4.2.dev0) (0.13.0)\n",
      "Requirement already satisfied: idna<4,>=2.5 in /opt/conda/lib/python3.7/site-packages (from requests->transformers>=4.18.0->trl==0.4.2.dev0) (2.8)\n",
      "Requirement already satisfied: urllib3<3,>=1.21.1 in /opt/conda/lib/python3.7/site-packages (from requests->transformers>=4.18.0->trl==0.4.2.dev0) (2.0.3)\n",
      "Requirement already satisfied: certifi>=2017.4.17 in /opt/conda/lib/python3.7/site-packages (from requests->transformers>=4.18.0->trl==0.4.2.dev0) (2023.5.7)\n",
      "Requirement already satisfied: zipp>=0.5 in /opt/conda/lib/python3.7/site-packages (from importlib-metadata->transformers>=4.18.0->trl==0.4.2.dev0) (2.2.0)\n",
      "Requirement already satisfied: python-dateutil>=2.7.3 in /opt/conda/lib/python3.7/site-packages (from pandas->datasets->trl==0.4.2.dev0) (2.8.2)\n",
      "Requirement already satisfied: pytz>=2017.3 in /opt/conda/lib/python3.7/site-packages (from pandas->datasets->trl==0.4.2.dev0) (2019.3)\n",
      "Requirement already satisfied: six>=1.5 in /opt/conda/lib/python3.7/site-packages (from python-dateutil>=2.7.3->pandas->datasets->trl==0.4.2.dev0) (1.14.0)\n",
      "Building wheels for collected packages: trl\n",
      "  Building wheel for trl (setup.py) ... \u001B[?25ldone\n",
      "\u001B[?25h  Created wheel for trl: filename=trl-0.4.2.dev0-py3-none-any.whl size=67536 sha256=0d051faf00b5c1154d05986578abc37b9add18ac6388f774dab68163c16b3610\n",
      "  Stored in directory: /tmp/pip-ephem-wheel-cache-797wt_6q/wheels/41/26/75/08a45cee1a1bba06c4f340451483cdfe150f4c8dad3876fb2e\n",
      "Successfully built trl\n",
      "Installing collected packages: trl\n",
      "Successfully installed trl-0.4.2.dev0\n",
      "\u001B[33mWARNING: Running pip as the 'root' user can result in broken permissions and conflicting behaviour with the system package manager. It is recommended to use a virtual environment instead: https://pip.pypa.io/warnings/venv\u001B[0m\u001B[33m\n",
      "\u001B[0mNote: you may need to restart the kernel to use updated packages.\n"
     ]
    }
   ],
   "source": [
    "%pip install --upgrade pip\n",
    "%pip install --disable-pip-version-check \\\n",
    "    torch==1.13.1 \\\n",
    "    torchdata==0.5.1 --quiet\n",
    "\n",
    "%pip install \\\n",
    "    transformers==4.27.2 \\\n",
    "    datasets==2.11.0 \\\n",
    "    evaluate==0.4.0 \\\n",
    "    rouge_score==0.1.2 \\\n",
    "    peft==0.3.0 --quiet\n",
    "\n",
    "# Installing the Reinforcement Learning library directly from github.\n",
    "%pip install git+https://github.com/lvwerra/trl.git@25fa1bd    "
   ]
  },
  {
   "cell_type": "markdown",
   "id": "b8f3c076-d9d2-40e3-b005-9dd66b5a163a",
   "metadata": {
    "tags": [],
    "pycharm": {
     "name": "#%% md\n"
    }
   },
   "source": [
    "<img src=\"data:image/svg+xml;base64,Cjxzdmcgd2lkdGg9IjgwMCIgaGVpZ2h0PSI1MCIgdmlld0JveD0iMCAwIDgwMCA1MCIgeG1sbnM9Imh0dHA6Ly93d3cudzMub3JnLzIwMDAvc3ZnIj4KICAgIDxkZWZzPgogICAgICAgIDxsaW5lYXJHcmFkaWVudCBpZD0iZmFkZUdyYWRpZW50IiB4MT0iMCIgeDI9IjEiPgogICAgICAgICAgICA8c3RvcCBvZmZzZXQ9IjAlIiBzdG9wLWNvbG9yPSIjRjBGMEYwIi8+CiAgICAgICAgICAgIDxzdG9wIG9mZnNldD0iMTAwJSIgc3RvcC1jb2xvcj0iI0YwRjBGMCIgc3RvcC1vcGFjaXR5PSIwIi8+CiAgICAgICAgPC9saW5lYXJHcmFkaWVudD4KICAgICAgICA8bWFzayBpZD0iZmFkZU1hc2siPgogICAgICAgICAgICA8cmVjdCB4PSIwIiB5PSIwIiB3aWR0aD0iNzUwIiBoZWlnaHQ9IjUwIiBmaWxsPSJ3aGl0ZSIvPgogICAgICAgICAgICA8cmVjdCB4PSI3NTAiIHk9IjAiIHdpZHRoPSI1MCIgaGVpZ2h0PSI1MCIgZmlsbD0idXJsKCNmYWRlR3JhZGllbnQpIi8+CiAgICAgICAgPC9tYXNrPgogICAgPC9kZWZzPgogICAgPHBhdGggZD0iTTI1LDUwIFEwLDUwIDAsMjUgTDUwLDMgTDk3LDI1IEw3OTcsMjUgTDc5Nyw1MCBMMjUsNTAgWiIgZmlsbD0iI0YwRjBGMCIgc3Ryb2tlPSIjRTBFMEUwIiBzdHJva2Utd2lkdGg9IjEiIG1hc2s9InVybCgjZmFkZU1hc2spIi8+Cjwvc3ZnPgo=\" alt=\"Time alert close\"/>"
   ]
  },
  {
   "cell_type": "markdown",
   "id": "74bfd06e-c747-43e0-b86c-0398628e1c32",
   "metadata": {
    "tags": [],
    "pycharm": {
     "name": "#%% md\n"
    }
   },
   "source": [
    "Import the necessary components. Some of them are new for this week, they will be discussed later in the notebook. "
   ]
  },
  {
   "cell_type": "code",
   "execution_count": 4,
   "id": "d8c20bed-6a30-4847-a507-02969ecb4465",
   "metadata": {
    "tags": [],
    "pycharm": {
     "name": "#%%\n"
    }
   },
   "outputs": [
    {
     "data": {
      "text/html": [
       "    <div class='gm-discovery-wrapper' id='gm-discovery-widget-ff43acf9-f560-4c3b-8cc5-62f6819466f5'>        <div class='gm-discovery-main-content-wrapper'>            <div class='gm-discovery-content-wrapper'>                <div class='gm-discovery-content'>                    <div class='gm-discovery-content-title'>                        Clean data in minutes                    </div>                    <div class='gm-discovery-description-import-wrapper'>                        <div class='gm-discovery-content-description'>                            <span>Automatically visualize data, and improve data quality in a few clicks.</span>                            <a class='gm-discovery-bl-link' href=https://docs.aws.amazon.com/sagemaker/latest/dg/data-wrangler-interactively-prepare-data-notebook.html target='_blank'>Learn more</a>                        </div>                        <button class='gm-discovery-bl-button-base gm-discovery-bl-button-variant-primary' data-commandlinker-command='sagemaker-datawrangler-discovery:import' data-commandlinker-args='{&quot;widgetId&quot;: &quot;gm-discovery-widget-ff43acf9-f560-4c3b-8cc5-62f6819466f5&quot;}'>Import Data Wrangler widget</button>                    </div>                </div>                <div class='gm-discovery-demo-img-wrapper'>                    <svg  width='487'  height='181'  viewBox='0 0 487 181'  fill='none'  xmlns='http://www.w3.org/2000/svg'  >  <rect width='487' height='181' fill='#1A1B22' />  <path d='M338.237 178.881H420.554V179.408H338.237V178.881Z' fill='#616161' />  <path d='M338.237 164.17H420.554V164.697H338.237V164.17Z' fill='#616161' />  <path d='M338.237 149.395H420.554V149.923H338.237V149.395Z' fill='#616161' />  <path d='M338.237 134.62H420.554V135.148H338.237V134.62Z' fill='#616161' />  <path d='M338.237 119.845H420.554V120.373H338.237V119.845Z' fill='#616161' />  <path d='M338.237 105.071H420.554V105.598H338.237V105.071Z' fill='#616161' />  <path d='M338.237 90.2957H420.554V90.8234H338.237V90.2957Z' fill='#616161' />  <path    d='M338.765 0.527672H419.499V16.3578H338.765V0.527672Z'    fill='#616161'    fill-opacity='0.3'  />  <path d='M338.237 16.3578H419.499V16.8855H338.237V16.3578Z' fill='#616161' />  <path d='M338.237 0H419.499V0.527672H338.237V0Z' fill='#616161' />  <path    d='M338.765 0.527672V178.881H338.237V0.527672H338.765Z'    fill='#616161'  />  <path    d='M342.946 10.6173V6.59489H344.415C344.806 6.59489 345.117 6.70324 345.349 6.91993C345.582 7.13276 345.698 7.42105 345.698 7.78479C345.698 8.05179 345.624 8.28396 345.477 8.48131C345.334 8.67479 345.131 8.81603 344.868 8.90503L345.936 10.6173H345.291L344.305 8.9979H343.521V10.6173H342.946ZM343.521 8.52775H344.339C344.587 8.52775 344.775 8.46584 344.902 8.34201C345.034 8.21818 345.1 8.03438 345.1 7.79059C345.1 7.55068 345.038 7.37074 344.914 7.25078C344.79 7.12696 344.606 7.06504 344.363 7.06504H343.521V8.52775Z'    fill='#D5D7DA'  />  <path    d='M346.829 9.27071C346.837 9.6035 346.918 9.84921 347.073 10.0079C347.232 10.1665 347.476 10.2458 347.804 10.2458C348.11 10.2458 348.422 10.1859 348.739 10.0659V10.478C348.46 10.6289 348.12 10.7044 347.717 10.7044C347.241 10.7044 346.882 10.5728 346.638 10.3097C346.394 10.0466 346.272 9.65767 346.272 9.14301C346.272 8.65158 346.394 8.27042 346.638 7.99955C346.882 7.72481 347.222 7.58744 347.659 7.58744C348.027 7.58744 348.309 7.69192 348.507 7.90087C348.704 8.10596 348.803 8.39812 348.803 8.77734C348.803 8.95921 348.787 9.12367 348.756 9.27071H346.829ZM347.63 8.02277C347.387 8.02277 347.197 8.09629 347.062 8.24333C346.926 8.38651 346.849 8.60127 346.829 8.88762H348.275C348.279 8.85666 348.28 8.80636 348.28 8.73671C348.28 8.50066 348.224 8.32266 348.112 8.2027C348.004 8.08275 347.843 8.02277 347.63 8.02277Z'    fill='#D5D7DA'  />  <path    d='M351.466 10.2168C351.334 10.329 351.193 10.4161 351.042 10.478C350.891 10.5361 350.738 10.5651 350.583 10.5651C350.347 10.5651 350.138 10.507 349.956 10.391C349.775 10.2749 349.631 10.1065 349.527 9.88598C349.426 9.66154 349.376 9.40034 349.376 9.10238C349.376 8.63803 349.486 8.27042 349.707 7.99955C349.927 7.72481 350.223 7.58744 350.595 7.58744C350.943 7.58744 351.247 7.7074 351.506 7.94731L351.553 7.6745H352.034V10.4374C352.034 10.8979 351.911 11.2539 351.663 11.5054C351.419 11.7569 351.071 11.8827 350.618 11.8827C350.254 11.8827 349.92 11.8053 349.614 11.6505V11.2384C349.97 11.3584 350.289 11.4183 350.572 11.4183C350.881 11.4183 351.108 11.3429 351.251 11.192C351.394 11.0449 351.466 10.8069 351.466 10.478V10.2168ZM350.752 10.1007C350.992 10.1007 351.23 10.0117 351.466 9.83374V8.30718C351.35 8.21818 351.232 8.15433 351.112 8.11564C350.992 8.07307 350.86 8.05179 350.717 8.05179C350.214 8.05179 349.962 8.39425 349.962 9.07917C349.962 9.41582 350.028 9.67121 350.16 9.84534C350.295 10.0156 350.492 10.1007 350.752 10.1007Z'    fill='#D5D7DA'  />  <path    d='M352.949 10.6173V7.6745H353.523V10.6173H352.949ZM353.239 7.15211C353.127 7.15211 353.038 7.12115 352.972 7.05924C352.91 6.99346 352.879 6.90832 352.879 6.80385C352.879 6.69937 352.91 6.61617 352.972 6.55426C353.038 6.48847 353.127 6.45558 353.239 6.45558C353.351 6.45558 353.438 6.48847 353.5 6.55426C353.566 6.61617 353.599 6.69937 353.599 6.80385C353.599 6.90832 353.566 6.99346 353.5 7.05924C353.438 7.12115 353.351 7.15211 353.239 7.15211Z'    fill='#D5D7DA'  />  <path    d='M355.69 10.7044C355.249 10.7044 354.905 10.567 354.657 10.2923C354.41 10.0175 354.286 9.63445 354.286 9.14301C354.286 8.65544 354.41 8.27429 354.657 7.99955C354.905 7.72481 355.249 7.58744 355.69 7.58744C356.132 7.58744 356.476 7.72481 356.724 7.99955C356.971 8.27429 357.095 8.65544 357.095 9.14301C357.095 9.63445 356.971 10.0175 356.724 10.2923C356.476 10.567 356.132 10.7044 355.69 10.7044ZM355.69 10.24C356.236 10.24 356.509 9.87437 356.509 9.14301C356.509 8.41553 356.236 8.05179 355.69 8.05179C355.145 8.05179 354.872 8.41553 354.872 9.14301C354.872 9.87437 355.145 10.24 355.69 10.24Z'    fill='#D5D7DA'  />  <path    d='M359.826 10.6173V8.64964C359.826 8.44455 359.784 8.29364 359.699 8.1969C359.617 8.10016 359.488 8.05179 359.31 8.05179C359.004 8.05179 358.704 8.15046 358.41 8.34781V10.6173H357.835V7.6745H358.317L358.375 7.99955C358.743 7.72481 359.13 7.58744 359.536 7.58744C359.819 7.58744 360.033 7.6629 360.18 7.81381C360.327 7.96085 360.401 8.17562 360.401 8.4581V10.6173H359.826Z'    fill='#D5D7DA'  />  <path    d='M346.65 99.7938V97.7971C346.65 97.6036 346.613 97.4604 346.539 97.3676C346.466 97.2747 346.35 97.2283 346.191 97.2283C345.909 97.2283 345.624 97.3153 345.338 97.4895C345.342 97.5166 345.344 97.5456 345.344 97.5765C345.344 97.6075 345.344 97.6385 345.344 97.6694V99.7938H344.769V97.7971C344.769 97.6036 344.732 97.4604 344.659 97.3676C344.585 97.2747 344.469 97.2283 344.31 97.2283C344.016 97.2283 343.734 97.3134 343.463 97.4837V99.7938H342.888V96.851H343.37L343.428 97.147C343.8 96.8916 344.161 96.7639 344.514 96.7639C344.873 96.7639 345.117 96.9013 345.245 97.176C345.628 96.9013 346.011 96.7639 346.394 96.7639C346.661 96.7639 346.866 96.8394 347.009 96.9903C347.153 97.1412 347.224 97.356 347.224 97.6346V99.7938H346.65Z'    fill='#D5D7DA'  />  <path    d='M348.124 99.7938V96.851H348.699V99.7938H348.124ZM348.414 96.3286C348.302 96.3286 348.213 96.2976 348.147 96.2357C348.085 96.1699 348.054 96.0848 348.054 95.9803C348.054 95.8759 348.085 95.7927 348.147 95.7307C348.213 95.665 348.302 95.6321 348.414 95.6321C348.527 95.6321 348.614 95.665 348.676 95.7307C348.741 95.7927 348.774 95.8759 348.774 95.9803C348.774 96.0848 348.741 96.1699 348.676 96.2357C348.614 96.2976 348.527 96.3286 348.414 96.3286Z'    fill='#D5D7DA'  />  <path    d='M351.702 99.7938L351.626 99.492C351.498 99.6081 351.353 99.699 351.191 99.7648C351.028 99.8267 350.864 99.8577 350.697 99.8577C350.454 99.8577 350.239 99.7977 350.053 99.6777C349.867 99.5578 349.722 99.3836 349.618 99.1553C349.513 98.9232 349.461 98.6503 349.461 98.3369C349.461 98.0235 349.511 97.7487 349.612 97.5127C349.713 97.2766 349.856 97.0928 350.041 96.9613C350.231 96.8297 350.456 96.7639 350.715 96.7639C351.044 96.7639 351.34 96.8723 351.603 97.089V95.4986H352.178V99.7938H351.702ZM350.872 99.3933C351.111 99.3933 351.355 99.3043 351.603 99.1263V97.4837C351.483 97.3947 351.361 97.3308 351.237 97.2921C351.117 97.2496 350.984 97.2283 350.837 97.2283C350.31 97.2283 350.047 97.592 350.047 98.3195C350.047 99.0354 350.322 99.3933 350.872 99.3933Z'    fill='#D5D7DA'  />  <path    d='M355.482 99.7938L354.855 97.4895L354.234 99.7938H353.654L352.69 96.851H353.294L353.955 99.2076L354.582 96.851H355.157L355.784 99.2366L356.463 96.851H357.049L356.062 99.7938H355.482Z'    fill='#D5D7DA'  />  <path    d='M357.91 98.4472C357.917 98.78 357.999 99.0257 358.153 99.1844C358.312 99.343 358.556 99.4223 358.885 99.4223C359.19 99.4223 359.502 99.3624 359.819 99.2424V99.6545C359.541 99.8054 359.2 99.8809 358.798 99.8809C358.322 99.8809 357.962 99.7493 357.718 99.4862C357.474 99.2231 357.352 98.8342 357.352 98.3195C357.352 97.8281 357.474 97.4469 357.718 97.176C357.962 96.9013 358.302 96.7639 358.74 96.7639C359.107 96.7639 359.39 96.8684 359.587 97.0774C359.784 97.2825 359.883 97.5746 359.883 97.9538C359.883 98.1357 359.868 98.3002 359.837 98.4472H357.91ZM358.711 97.1992C358.467 97.1992 358.277 97.2728 358.142 97.4198C358.006 97.563 357.929 97.7778 357.91 98.0641H359.355C359.359 98.0332 359.361 97.9828 359.361 97.9132C359.361 97.6772 359.305 97.4991 359.192 97.3792C359.084 97.2592 358.923 97.1992 358.711 97.1992Z'    fill='#D5D7DA'  />  <path    d='M361.989 99.0044C361.989 98.9115 361.958 98.8361 361.896 98.778C361.838 98.72 361.729 98.662 361.571 98.6039L361.077 98.4182C360.648 98.2595 360.433 97.9886 360.433 97.6056C360.433 97.354 360.53 97.1509 360.723 96.9961C360.921 96.8413 361.178 96.7639 361.495 96.7639C361.801 96.7639 362.089 96.8258 362.36 96.9497V97.356C362.058 97.2592 361.78 97.2109 361.524 97.2109C361.153 97.2109 360.967 97.3366 360.967 97.5882C360.967 97.6888 360.998 97.7681 361.06 97.8261C361.122 97.8842 361.244 97.948 361.426 98.0177L361.878 98.1918C362.107 98.2808 362.271 98.3872 362.372 98.511C362.472 98.631 362.523 98.7877 362.523 98.9812C362.523 99.2559 362.42 99.4746 362.215 99.6371C362.01 99.7996 361.737 99.8809 361.397 99.8809C361.013 99.8809 360.681 99.8074 360.398 99.6603V99.254C360.762 99.374 361.099 99.4339 361.408 99.4339C361.598 99.4339 361.741 99.3972 361.838 99.3237C361.938 99.2501 361.989 99.1437 361.989 99.0044Z'    fill='#D5D7DA'  />  <path    d='M364.799 99.7242C364.609 99.7977 364.394 99.8344 364.154 99.8344C363.605 99.8344 363.33 99.5597 363.33 99.0102V97.3037H362.796V96.9322L363.347 96.8626L363.434 96.0268H363.905V96.851H364.775V97.3037H363.905V98.9812C363.905 99.1244 363.936 99.225 363.997 99.283C364.063 99.3411 364.174 99.3701 364.328 99.3701C364.487 99.3701 364.644 99.3507 364.799 99.3121V99.7242Z'    fill='#D5D7DA'  />  <path    d='M345.303 114.569L344.676 112.264L344.055 114.569H343.475L342.511 111.626H343.115L343.776 113.982L344.403 111.626H344.978L345.605 114.011L346.284 111.626H346.87L345.883 114.569H345.303Z'    fill='#D5D7DA'  />  <path    d='M347.731 113.222C347.738 113.555 347.82 113.801 347.974 113.959C348.133 114.118 348.377 114.197 348.706 114.197C349.011 114.197 349.323 114.137 349.64 114.017V114.429C349.362 114.58 349.021 114.656 348.619 114.656C348.143 114.656 347.783 114.524 347.539 114.261C347.295 113.998 347.173 113.609 347.173 113.094C347.173 112.603 347.295 112.222 347.539 111.951C347.783 111.676 348.123 111.539 348.561 111.539C348.928 111.539 349.211 111.643 349.408 111.852C349.605 112.057 349.704 112.349 349.704 112.729C349.704 112.91 349.689 113.075 349.658 113.222H347.731ZM348.532 111.974C348.288 111.974 348.098 112.048 347.963 112.195C347.827 112.338 347.75 112.553 347.731 112.839H349.176C349.18 112.808 349.182 112.758 349.182 112.688C349.182 112.452 349.126 112.274 349.013 112.154C348.905 112.034 348.744 111.974 348.532 111.974Z'    fill='#D5D7DA'  />  <path    d='M351.81 113.779C351.81 113.686 351.779 113.611 351.717 113.553C351.659 113.495 351.55 113.437 351.392 113.379L350.898 113.193C350.469 113.034 350.254 112.763 350.254 112.38C350.254 112.129 350.351 111.926 350.544 111.771C350.742 111.616 350.999 111.539 351.316 111.539C351.622 111.539 351.91 111.601 352.181 111.724V112.131C351.879 112.034 351.601 111.986 351.345 111.986C350.974 111.986 350.788 112.111 350.788 112.363C350.788 112.464 350.819 112.543 350.881 112.601C350.943 112.659 351.065 112.723 351.247 112.792L351.699 112.967C351.928 113.056 352.092 113.162 352.193 113.286C352.293 113.406 352.344 113.563 352.344 113.756C352.344 114.031 352.241 114.249 352.036 114.412C351.831 114.574 351.558 114.656 351.218 114.656C350.835 114.656 350.502 114.582 350.219 114.435V114.029C350.583 114.149 350.92 114.209 351.229 114.209C351.419 114.209 351.562 114.172 351.659 114.098C351.759 114.025 351.81 113.919 351.81 113.779Z'    fill='#D5D7DA'  />  <path    d='M354.62 114.499C354.43 114.572 354.215 114.609 353.975 114.609C353.426 114.609 353.151 114.335 353.151 113.785V112.079H352.617V111.707L353.168 111.637L353.255 110.802H353.726V111.626H354.596V112.079H353.726V113.756C353.726 113.899 353.757 114 353.819 114.058C353.884 114.116 353.995 114.145 354.149 114.145C354.308 114.145 354.465 114.126 354.62 114.087V114.499Z'    fill='#D5D7DA'  />  <path    d='M345.303 129.343L344.676 127.039L344.055 129.343H343.475L342.511 126.401H343.115L343.776 128.757L344.403 126.401H344.978L345.605 128.786L346.284 126.401H346.87L345.883 129.343H345.303Z'    fill='#D5D7DA'  />  <path    d='M347.731 127.997C347.738 128.33 347.82 128.575 347.974 128.734C348.133 128.893 348.377 128.972 348.706 128.972C349.011 128.972 349.323 128.912 349.64 128.792V129.204C349.362 129.355 349.021 129.43 348.619 129.43C348.143 129.43 347.783 129.299 347.539 129.036C347.295 128.773 347.173 128.384 347.173 127.869C347.173 127.378 347.295 126.997 347.539 126.726C347.783 126.451 348.123 126.314 348.561 126.314C348.928 126.314 349.211 126.418 349.408 126.627C349.605 126.832 349.704 127.124 349.704 127.503C349.704 127.685 349.689 127.85 349.658 127.997H347.731ZM348.532 126.749C348.288 126.749 348.098 126.822 347.963 126.969C347.827 127.113 347.75 127.327 347.731 127.614H349.176C349.18 127.583 349.182 127.532 349.182 127.463C349.182 127.227 349.126 127.049 349.013 126.929C348.905 126.809 348.744 126.749 348.532 126.749Z'    fill='#D5D7DA'  />  <path    d='M351.81 128.554C351.81 128.461 351.779 128.386 351.717 128.328C351.659 128.27 351.55 128.212 351.392 128.154L350.898 127.968C350.469 127.809 350.254 127.538 350.254 127.155C350.254 126.904 350.351 126.7 350.544 126.546C350.742 126.391 350.999 126.314 351.316 126.314C351.622 126.314 351.91 126.375 352.181 126.499V126.906C351.879 126.809 351.601 126.76 351.345 126.76C350.974 126.76 350.788 126.886 350.788 127.138C350.788 127.238 350.819 127.318 350.881 127.376C350.943 127.434 351.065 127.498 351.247 127.567L351.699 127.741C351.928 127.83 352.092 127.937 352.193 128.061C352.293 128.181 352.344 128.337 352.344 128.531C352.344 128.806 352.241 129.024 352.036 129.187C351.831 129.349 351.558 129.43 351.218 129.43C350.835 129.43 350.502 129.357 350.219 129.21V128.804C350.583 128.924 350.92 128.984 351.229 128.984C351.419 128.984 351.562 128.947 351.659 128.873C351.759 128.8 351.81 128.693 351.81 128.554Z'    fill='#D5D7DA'  />  <path    d='M354.62 129.274C354.43 129.347 354.215 129.384 353.975 129.384C353.426 129.384 353.151 129.109 353.151 128.56V126.853H352.617V126.482L353.168 126.412L353.255 125.576H353.726V126.401H354.596V126.853H353.726V128.531C353.726 128.674 353.757 128.775 353.819 128.833C353.884 128.891 353.995 128.92 354.149 128.92C354.308 128.92 354.465 128.9 354.62 128.862V129.274Z'    fill='#D5D7DA'  />  <path    d='M346.65 144.118V142.122C346.65 141.928 346.613 141.785 346.539 141.692C346.466 141.599 346.35 141.553 346.191 141.553C345.909 141.553 345.624 141.64 345.338 141.814C345.342 141.841 345.344 141.87 345.344 141.901C345.344 141.932 345.344 141.963 345.344 141.994V144.118H344.769V142.122C344.769 141.928 344.732 141.785 344.659 141.692C344.585 141.599 344.469 141.553 344.31 141.553C344.016 141.553 343.734 141.638 343.463 141.808V144.118H342.888V141.175H343.37L343.428 141.471C343.8 141.216 344.161 141.088 344.514 141.088C344.873 141.088 345.117 141.226 345.245 141.5C345.628 141.226 346.011 141.088 346.394 141.088C346.661 141.088 346.866 141.164 347.009 141.315C347.153 141.466 347.224 141.68 347.224 141.959V144.118H346.65Z'    fill='#D5D7DA'  />  <path    d='M348.124 144.118V141.175H348.699V144.118H348.124ZM348.414 140.653C348.302 140.653 348.213 140.622 348.147 140.56C348.085 140.494 348.054 140.409 348.054 140.305C348.054 140.2 348.085 140.117 348.147 140.055C348.213 139.989 348.302 139.956 348.414 139.956C348.527 139.956 348.614 139.989 348.676 140.055C348.741 140.117 348.774 140.2 348.774 140.305C348.774 140.409 348.741 140.494 348.676 140.56C348.614 140.622 348.527 140.653 348.414 140.653Z'    fill='#D5D7DA'  />  <path    d='M351.702 144.118L351.626 143.816C351.498 143.932 351.353 144.023 351.191 144.089C351.028 144.151 350.864 144.182 350.697 144.182C350.454 144.182 350.239 144.122 350.053 144.002C349.867 143.882 349.722 143.708 349.618 143.48C349.513 143.248 349.461 142.975 349.461 142.661C349.461 142.348 349.511 142.073 349.612 141.837C349.713 141.601 349.856 141.417 350.041 141.286C350.231 141.154 350.456 141.088 350.715 141.088C351.044 141.088 351.34 141.197 351.603 141.413V139.823H352.178V144.118H351.702ZM350.872 143.718C351.111 143.718 351.355 143.629 351.603 143.451V141.808C351.483 141.719 351.361 141.655 351.237 141.617C351.117 141.574 350.984 141.553 350.837 141.553C350.31 141.553 350.047 141.916 350.047 142.644C350.047 143.36 350.322 143.718 350.872 143.718Z'    fill='#D5D7DA'  />  <path    d='M354.797 144.118L354.751 143.816C354.611 143.936 354.456 144.029 354.286 144.095C354.12 144.161 353.953 144.194 353.787 144.194C353.512 144.194 353.292 144.116 353.125 143.962C352.963 143.803 352.882 143.592 352.882 143.329C352.882 143.046 352.982 142.822 353.183 142.656C353.385 142.485 353.656 142.4 353.996 142.4C354.22 142.4 354.464 142.433 354.727 142.499V142.116C354.727 141.907 354.679 141.76 354.582 141.675C354.489 141.589 354.329 141.547 354.101 141.547C353.772 141.547 353.431 141.607 353.079 141.727V141.321C353.218 141.247 353.388 141.191 353.59 141.152C353.791 141.11 353.994 141.088 354.199 141.088C354.567 141.088 354.838 141.166 355.012 141.321C355.186 141.471 355.273 141.704 355.273 142.017V144.118H354.797ZM353.926 143.758C354.189 143.758 354.456 143.66 354.727 143.462V142.87C354.526 142.82 354.321 142.795 354.112 142.795C353.675 142.795 353.456 142.963 353.456 143.3C353.456 143.447 353.497 143.561 353.578 143.642C353.659 143.72 353.775 143.758 353.926 143.758Z'    fill='#D5D7DA'  />  <path    d='M357.814 144.049C357.625 144.122 357.41 144.159 357.17 144.159C356.62 144.159 356.346 143.884 356.346 143.335V141.628H355.812V141.257L356.363 141.187L356.45 140.351H356.92V141.175H357.791V141.628H356.92V143.306C356.92 143.449 356.951 143.549 357.013 143.607C357.079 143.665 357.189 143.694 357.344 143.694C357.503 143.694 357.659 143.675 357.814 143.636V144.049Z'    fill='#D5D7DA'  />  <path    d='M359.464 144.078C359.336 144.124 359.197 144.147 359.046 144.147C358.841 144.147 358.684 144.089 358.576 143.973C358.468 143.853 358.414 143.683 358.414 143.462V139.823H358.988V143.428C358.988 143.517 359.006 143.582 359.04 143.625C359.079 143.664 359.141 143.683 359.226 143.683C359.304 143.683 359.383 143.677 359.464 143.665V144.078Z'    fill='#D5D7DA'  />  <path    d='M361.83 144.118L361.784 143.816C361.644 143.936 361.49 144.029 361.319 144.095C361.153 144.161 360.986 144.194 360.82 144.194C360.545 144.194 360.325 144.116 360.158 143.962C359.996 143.803 359.915 143.592 359.915 143.329C359.915 143.046 360.015 142.822 360.216 142.656C360.418 142.485 360.689 142.4 361.029 142.4C361.253 142.4 361.497 142.433 361.76 142.499V142.116C361.76 141.907 361.712 141.76 361.615 141.675C361.522 141.589 361.362 141.547 361.134 141.547C360.805 141.547 360.464 141.607 360.112 141.727V141.321C360.251 141.247 360.422 141.191 360.623 141.152C360.824 141.11 361.027 141.088 361.232 141.088C361.6 141.088 361.871 141.166 362.045 141.321C362.219 141.471 362.306 141.704 362.306 142.017V144.118H361.83ZM360.959 143.758C361.223 143.758 361.49 143.66 361.76 143.462V142.87C361.559 142.82 361.354 142.795 361.145 142.795C360.708 142.795 360.489 142.963 360.489 143.3C360.489 143.447 360.53 143.561 360.611 143.642C360.692 143.72 360.808 143.758 360.959 143.758Z'    fill='#D5D7DA'  />  <path    d='M365.184 144.118V142.151C365.184 141.945 365.141 141.795 365.056 141.698C364.975 141.601 364.845 141.553 364.667 141.553C364.362 141.553 364.062 141.651 363.768 141.849V144.118H363.193V141.175H363.675L363.733 141.5C364.1 141.226 364.487 141.088 364.894 141.088C365.176 141.088 365.391 141.164 365.538 141.315C365.685 141.462 365.758 141.677 365.758 141.959V144.118H365.184Z'    fill='#D5D7DA'  />  <path    d='M368.291 144.049C368.102 144.122 367.887 144.159 367.647 144.159C367.097 144.159 366.823 143.884 366.823 143.335V141.628H366.289V141.257L366.84 141.187L366.927 140.351H367.397V141.175H368.268V141.628H367.397V143.306C367.397 143.449 367.428 143.549 367.49 143.607C367.556 143.665 367.666 143.694 367.821 143.694C367.98 143.694 368.136 143.675 368.291 143.636V144.049Z'    fill='#D5D7DA'  />  <path    d='M368.914 144.118V141.175H369.488V144.118H368.914ZM369.204 140.653C369.092 140.653 369.003 140.622 368.937 140.56C368.875 140.494 368.844 140.409 368.844 140.305C368.844 140.2 368.875 140.117 368.937 140.055C369.003 139.989 369.092 139.956 369.204 139.956C369.316 139.956 369.403 139.989 369.465 140.055C369.531 140.117 369.564 140.2 369.564 140.305C369.564 140.409 369.531 140.494 369.465 140.56C369.403 140.622 369.316 140.653 369.204 140.653Z'    fill='#D5D7DA'  />  <path    d='M372.439 144.008C372.215 144.124 371.955 144.182 371.661 144.182C371.205 144.182 370.854 144.052 370.611 143.793C370.371 143.53 370.251 143.151 370.251 142.656C370.251 142.164 370.375 141.785 370.622 141.518C370.874 141.247 371.228 141.112 371.684 141.112C371.944 141.112 372.187 141.166 372.416 141.274V141.686C372.195 141.617 371.979 141.582 371.766 141.582C371.441 141.582 371.207 141.665 371.063 141.831C370.92 141.994 370.849 142.255 370.849 142.615V142.69C370.849 143.042 370.92 143.302 371.063 143.468C371.21 143.631 371.441 143.712 371.754 143.712C371.963 143.712 372.191 143.673 372.439 143.596V144.008Z'    fill='#D5D7DA'  />  <path    d='M344.879 158.893V156.925C344.879 156.72 344.837 156.569 344.752 156.473C344.67 156.376 344.541 156.327 344.363 156.327C344.057 156.327 343.757 156.426 343.463 156.624V158.893H342.888V155.95H343.37L343.428 156.275C343.796 156.001 344.183 155.863 344.589 155.863C344.871 155.863 345.086 155.939 345.233 156.09C345.38 156.237 345.454 156.451 345.454 156.734V158.893H344.879Z'    fill='#D5D7DA'  />  <path    d='M347.586 158.98C347.145 158.98 346.801 158.843 346.553 158.568C346.305 158.293 346.181 157.91 346.181 157.419C346.181 156.931 346.305 156.55 346.553 156.275C346.801 156.001 347.145 155.863 347.586 155.863C348.027 155.863 348.372 156.001 348.619 156.275C348.867 156.55 348.991 156.931 348.991 157.419C348.991 157.91 348.867 158.293 348.619 158.568C348.372 158.843 348.027 158.98 347.586 158.98ZM347.586 158.516C348.132 158.516 348.405 158.15 348.405 157.419C348.405 156.691 348.132 156.327 347.586 156.327C347.04 156.327 346.768 156.691 346.768 157.419C346.768 158.15 347.04 158.516 347.586 158.516Z'    fill='#D5D7DA'  />  <path    d='M349.731 158.893V155.95H350.213L350.277 156.386C350.385 156.269 350.486 156.18 350.578 156.119C350.671 156.053 350.766 156.004 350.863 155.973C350.96 155.942 351.064 155.927 351.176 155.927C351.25 155.927 351.329 155.933 351.414 155.944V156.467C351.29 156.451 351.186 156.444 351.101 156.444C350.791 156.444 350.526 156.536 350.306 156.722V158.893H349.731Z'    fill='#D5D7DA'  />  <path    d='M353.758 158.823C353.568 158.897 353.354 158.934 353.114 158.934C352.564 158.934 352.289 158.659 352.289 158.109V156.403H351.755V156.031L352.307 155.962L352.394 155.126H352.864V155.95H353.735V156.403H352.864V158.08C352.864 158.224 352.895 158.324 352.957 158.382C353.023 158.44 353.133 158.469 353.288 158.469C353.446 158.469 353.603 158.45 353.758 158.411V158.823Z'    fill='#D5D7DA'  />  <path    d='M356.348 158.893V156.925C356.348 156.72 356.306 156.569 356.221 156.473C356.139 156.376 356.01 156.327 355.832 156.327C355.526 156.327 355.226 156.426 354.932 156.624V158.893H354.357V154.598H354.932V156.252C355.3 155.993 355.675 155.863 356.058 155.863C356.34 155.863 356.555 155.939 356.702 156.09C356.849 156.237 356.923 156.451 356.923 156.734V158.893H356.348Z'    fill='#D5D7DA'  />  <path    d='M360.131 158.893L359.504 156.589L358.883 158.893H358.303L357.339 155.95H357.943L358.604 158.307L359.231 155.95H359.806L360.433 158.336L361.112 155.95H361.698L360.711 158.893H360.131Z'    fill='#D5D7DA'  />  <path    d='M362.559 157.546C362.566 157.879 362.648 158.125 362.802 158.284C362.961 158.442 363.205 158.522 363.534 158.522C363.839 158.522 364.151 158.462 364.468 158.342V158.754C364.19 158.905 363.849 158.98 363.447 158.98C362.971 158.98 362.611 158.849 362.367 158.585C362.123 158.322 362.001 157.933 362.001 157.419C362.001 156.927 362.123 156.546 362.367 156.275C362.611 156.001 362.951 155.863 363.389 155.863C363.756 155.863 364.039 155.968 364.236 156.177C364.433 156.382 364.532 156.674 364.532 157.053C364.532 157.235 364.517 157.399 364.486 157.546H362.559ZM363.36 156.298C363.116 156.298 362.926 156.372 362.791 156.519C362.655 156.662 362.578 156.877 362.559 157.163H364.004C364.008 157.132 364.01 157.082 364.01 157.012C364.01 156.776 363.954 156.598 363.841 156.478C363.733 156.358 363.572 156.298 363.36 156.298Z'    fill='#D5D7DA'  />  <path    d='M366.638 158.104C366.638 158.011 366.607 157.935 366.545 157.877C366.487 157.819 366.378 157.761 366.22 157.703L365.726 157.517C365.297 157.359 365.082 157.088 365.082 156.705C365.082 156.453 365.179 156.25 365.372 156.095C365.57 155.941 365.827 155.863 366.144 155.863C366.45 155.863 366.738 155.925 367.009 156.049V156.455C366.707 156.358 366.429 156.31 366.173 156.31C365.802 156.31 365.616 156.436 365.616 156.687C365.616 156.788 365.647 156.867 365.709 156.925C365.771 156.983 365.893 157.047 366.075 157.117L366.527 157.291C366.756 157.38 366.92 157.486 367.021 157.61C367.121 157.73 367.172 157.887 367.172 158.08C367.172 158.355 367.069 158.574 366.864 158.736C366.659 158.899 366.386 158.98 366.046 158.98C365.662 158.98 365.33 158.907 365.047 158.76V158.353C365.411 158.473 365.748 158.533 366.057 158.533C366.247 158.533 366.39 158.496 366.487 158.423C366.587 158.349 366.638 158.243 366.638 158.104Z'    fill='#D5D7DA'  />  <path    d='M369.448 158.823C369.258 158.897 369.043 158.934 368.803 158.934C368.254 158.934 367.979 158.659 367.979 158.109V156.403H367.445V156.031L367.996 155.962L368.083 155.126H368.554V155.95H369.424V156.403H368.554V158.08C368.554 158.224 368.585 158.324 368.647 158.382C368.712 158.44 368.823 158.469 368.977 158.469C369.136 158.469 369.293 158.45 369.448 158.411V158.823Z'    fill='#D5D7DA'  />  <path    d='M344.879 173.668V171.7C344.879 171.495 344.837 171.344 344.752 171.247C344.67 171.151 344.541 171.102 344.363 171.102C344.057 171.102 343.757 171.201 343.463 171.398V173.668H342.888V170.725H343.37L343.428 171.05C343.796 170.775 344.183 170.638 344.589 170.638C344.871 170.638 345.086 170.713 345.233 170.864C345.38 171.011 345.454 171.226 345.454 171.509V173.668H344.879Z'    fill='#D5D7DA'  />  <path    d='M347.586 173.755C347.145 173.755 346.801 173.618 346.553 173.343C346.305 173.068 346.181 172.685 346.181 172.194C346.181 171.706 346.305 171.325 346.553 171.05C346.801 170.775 347.145 170.638 347.586 170.638C348.027 170.638 348.372 170.775 348.619 171.05C348.867 171.325 348.991 171.706 348.991 172.194C348.991 172.685 348.867 173.068 348.619 173.343C348.372 173.618 348.027 173.755 347.586 173.755ZM347.586 173.291C348.132 173.291 348.405 172.925 348.405 172.194C348.405 171.466 348.132 171.102 347.586 171.102C347.04 171.102 346.768 171.466 346.768 172.194C346.768 172.925 347.04 173.291 347.586 173.291Z'    fill='#D5D7DA'  />  <path    d='M349.731 173.668V170.725H350.213L350.277 171.16C350.385 171.044 350.486 170.955 350.578 170.893C350.671 170.828 350.766 170.779 350.863 170.748C350.96 170.717 351.064 170.702 351.176 170.702C351.25 170.702 351.329 170.708 351.414 170.719V171.242C351.29 171.226 351.186 171.218 351.101 171.218C350.791 171.218 350.526 171.311 350.306 171.497V173.668H349.731Z'    fill='#D5D7DA'  />  <path    d='M353.758 173.598C353.568 173.672 353.354 173.708 353.114 173.708C352.564 173.708 352.289 173.434 352.289 172.884V171.178H351.755V170.806L352.307 170.737L352.394 169.901H352.864V170.725H353.735V171.178H352.864V172.855C352.864 172.998 352.895 173.099 352.957 173.157C353.023 173.215 353.133 173.244 353.288 173.244C353.446 173.244 353.603 173.225 353.758 173.186V173.598Z'    fill='#D5D7DA'  />  <path    d='M356.348 173.668V171.7C356.348 171.495 356.306 171.344 356.221 171.247C356.139 171.151 356.01 171.102 355.832 171.102C355.526 171.102 355.226 171.201 354.932 171.398V173.668H354.357V169.373H354.932V171.027C355.3 170.768 355.675 170.638 356.058 170.638C356.34 170.638 356.555 170.713 356.702 170.864C356.849 171.011 356.923 171.226 356.923 171.509V173.668H356.348Z'    fill='#D5D7DA'  />  <path    d='M360.131 173.668L359.504 171.363L358.883 173.668H358.303L357.339 170.725H357.943L358.604 173.082L359.231 170.725H359.806L360.433 173.111L361.112 170.725H361.698L360.711 173.668H360.131Z'    fill='#D5D7DA'  />  <path    d='M362.559 172.321C362.566 172.654 362.648 172.9 362.802 173.058C362.961 173.217 363.205 173.296 363.534 173.296C363.839 173.296 364.151 173.236 364.468 173.116V173.529C364.19 173.679 363.849 173.755 363.447 173.755C362.971 173.755 362.611 173.623 362.367 173.36C362.123 173.097 362.001 172.708 362.001 172.194C362.001 171.702 362.123 171.321 362.367 171.05C362.611 170.775 362.951 170.638 363.389 170.638C363.756 170.638 364.039 170.742 364.236 170.951C364.433 171.156 364.532 171.449 364.532 171.828C364.532 172.01 364.517 172.174 364.486 172.321H362.559ZM363.36 171.073C363.116 171.073 362.926 171.147 362.791 171.294C362.655 171.437 362.578 171.652 362.559 171.938H364.004C364.008 171.907 364.01 171.857 364.01 171.787C364.01 171.551 363.954 171.373 363.841 171.253C363.733 171.133 363.572 171.073 363.36 171.073Z'    fill='#D5D7DA'  />  <path    d='M366.638 172.878C366.638 172.786 366.607 172.71 366.545 172.652C366.487 172.594 366.378 172.536 366.22 172.478L365.726 172.292C365.297 172.134 365.082 171.863 365.082 171.48C365.082 171.228 365.179 171.025 365.372 170.87C365.57 170.715 365.827 170.638 366.144 170.638C366.45 170.638 366.738 170.7 367.009 170.824V171.23C366.707 171.133 366.429 171.085 366.173 171.085C365.802 171.085 365.616 171.211 365.616 171.462C365.616 171.563 365.647 171.642 365.709 171.7C365.771 171.758 365.893 171.822 366.075 171.892L366.527 172.066C366.756 172.155 366.92 172.261 367.021 172.385C367.121 172.505 367.172 172.662 367.172 172.855C367.172 173.13 367.069 173.349 366.864 173.511C366.659 173.674 366.386 173.755 366.046 173.755C365.662 173.755 365.33 173.681 365.047 173.534V173.128C365.411 173.248 365.748 173.308 366.057 173.308C366.247 173.308 366.39 173.271 366.487 173.198C366.587 173.124 366.638 173.018 366.638 172.878Z'    fill='#D5D7DA'  />  <path    d='M369.448 173.598C369.258 173.672 369.043 173.708 368.803 173.708C368.254 173.708 367.979 173.434 367.979 172.884V171.178H367.445V170.806L367.996 170.737L368.083 169.901H368.554V170.725H369.424V171.178H368.554V172.855C368.554 172.998 368.585 173.099 368.647 173.157C368.712 173.215 368.823 173.244 368.977 173.244C369.136 173.244 369.293 173.225 369.448 173.186V173.598Z'    fill='#D5D7DA'  />  <path d='M225.316 179.472H338.237V180H225.316V179.472Z' fill='#616161' />  <path    d='M225.316 164.698L338.237 164.697V165.225H225.316V164.698Z'    fill='#616161'  />  <path    d='M225.316 149.923L338.237 149.923V150.45H225.316V149.923Z'    fill='#616161'  />  <path    d='M225.316 135.148L338.237 135.148V135.676H225.316V135.148Z'    fill='#616161'  />  <path    d='M225.316 120.373L338.237 120.373V120.901H225.316V120.373Z'    fill='#616161'  />  <path    d='M225.316 105.598L338.237 105.598V106.126H225.316V105.598Z'    fill='#616161'  />  <path    d='M225.316 90.8235L338.237 90.8234V91.3512H225.316V90.8235Z'    fill='#616161'  />  <path    d='M225.843 1.11936H338.237V16.9495H225.843V1.11936Z'    fill='#616161'    fill-opacity='0.3'  />  <path d='M225.316 16.9495H338.765V17.4772H225.316V16.9495Z' fill='#616161' />  <path    d='M225.316 0.591684H338.237V1.11936H225.316V0.591684Z'    fill='#616161'  />  <path d='M225.843 1.05546V179.408H225.316V1.05546H225.843Z' fill='#616161' />  <path    d='M230.779 9.23547C230.462 9.11551 230.232 8.9704 230.089 8.80014C229.945 8.62988 229.874 8.41512 229.874 8.15585C229.874 7.93916 229.928 7.74761 230.036 7.58122C230.145 7.41096 230.299 7.27746 230.501 7.18072C230.706 7.08398 230.946 7.03561 231.22 7.03561C231.569 7.03561 231.927 7.10526 232.294 7.24457V7.71472C231.903 7.59476 231.559 7.53479 231.261 7.53479C231.009 7.53479 230.814 7.58703 230.675 7.6915C230.539 7.79211 230.472 7.93722 230.472 8.12683C230.472 8.28162 230.518 8.40544 230.611 8.49831C230.704 8.58731 230.876 8.67825 231.128 8.77112L231.656 8.96847C231.969 9.08456 232.194 9.2258 232.329 9.39219C232.468 9.55471 232.538 9.76561 232.538 10.0249C232.538 10.3963 232.404 10.6924 232.137 10.9129C231.874 11.1335 231.518 11.2438 231.069 11.2438C230.624 11.2438 230.238 11.1645 229.909 11.0058V10.5415C230.315 10.6769 230.698 10.7446 231.058 10.7446C231.333 10.7446 231.547 10.6846 231.702 10.5647C231.861 10.4447 231.94 10.2822 231.94 10.0771C231.94 9.93393 231.894 9.81591 231.801 9.72304C231.712 9.6263 231.559 9.53536 231.342 9.45023L230.779 9.23547Z'    fill='#D5D7DA'  />  <path    d='M235.038 11.1451L234.992 10.8433C234.853 10.9632 234.698 11.0561 234.528 11.1219C234.361 11.1877 234.195 11.2206 234.028 11.2206C233.754 11.2206 233.533 11.1432 233.367 10.9884C233.204 10.8297 233.123 10.6188 233.123 10.3557C233.123 10.0732 233.223 9.8488 233.425 9.68241C233.626 9.51215 233.897 9.42702 234.237 9.42702C234.462 9.42702 234.706 9.45991 234.969 9.52569V9.1426C234.969 8.93364 234.92 8.7866 234.824 8.70147C234.731 8.61634 234.57 8.57377 234.342 8.57377C234.013 8.57377 233.672 8.63375 233.32 8.75371V8.3474C233.46 8.27388 233.63 8.21777 233.831 8.17907C234.032 8.13651 234.235 8.11522 234.44 8.11522C234.808 8.11522 235.079 8.19262 235.253 8.3474C235.427 8.49831 235.514 8.73049 235.514 9.04393V11.1451H235.038ZM234.168 10.7852C234.431 10.7852 234.698 10.6866 234.969 10.4892V9.89717C234.767 9.84687 234.562 9.82171 234.353 9.82171C233.916 9.82171 233.697 9.99004 233.697 10.3267C233.697 10.4737 233.738 10.5879 233.819 10.6692C233.901 10.7465 234.017 10.7852 234.168 10.7852Z'    fill='#D5D7DA'  />  <path    d='M237.452 11.1045C237.324 11.1509 237.185 11.1741 237.034 11.1741C236.829 11.1741 236.672 11.1161 236.564 11C236.455 10.88 236.401 10.7098 236.401 10.4892V6.84987H236.976V10.4544C236.976 10.5434 236.993 10.6092 237.028 10.6517C237.067 10.6904 237.129 10.7098 237.214 10.7098C237.291 10.7098 237.371 10.704 237.452 10.6924V11.1045Z'    fill='#D5D7DA'  />  <path    d='M239.818 11.1451L239.771 10.8433C239.632 10.9632 239.477 11.0561 239.307 11.1219C239.141 11.1877 238.974 11.2206 238.808 11.2206C238.533 11.2206 238.312 11.1432 238.146 10.9884C237.984 10.8297 237.902 10.6188 237.902 10.3557C237.902 10.0732 238.003 9.8488 238.204 9.68241C238.405 9.51215 238.676 9.42702 239.017 9.42702C239.241 9.42702 239.485 9.45991 239.748 9.52569V9.1426C239.748 8.93364 239.7 8.7866 239.603 8.70147C239.51 8.61634 239.349 8.57377 239.121 8.57377C238.792 8.57377 238.452 8.63375 238.1 8.75371V8.3474C238.239 8.27388 238.409 8.21777 238.61 8.17907C238.812 8.13651 239.015 8.11522 239.22 8.11522C239.587 8.11522 239.858 8.19262 240.032 8.3474C240.207 8.49831 240.294 8.73049 240.294 9.04393V11.1451H239.818ZM238.947 10.7852C239.21 10.7852 239.477 10.6866 239.748 10.4892V9.89717C239.547 9.84687 239.342 9.82171 239.133 9.82171C238.696 9.82171 238.477 9.99004 238.477 10.3267C238.477 10.4737 238.518 10.5879 238.599 10.6692C238.68 10.7465 238.796 10.7852 238.947 10.7852Z'    fill='#D5D7DA'  />  <path    d='M241.181 11.1451V8.20229H241.662L241.726 8.63762C241.835 8.52153 241.935 8.43253 242.028 8.37062C242.121 8.30483 242.216 8.25646 242.312 8.22551C242.409 8.19455 242.514 8.17907 242.626 8.17907C242.699 8.17907 242.779 8.18488 242.864 8.19649V8.71888C242.74 8.7034 242.636 8.69566 242.55 8.69566C242.241 8.69566 241.976 8.78853 241.755 8.97427V11.1451H241.181Z'    fill='#D5D7DA'  />  <path    d='M244.377 11.1741L243.193 8.20229H243.808L244.655 10.6111L245.474 8.20229H246.066L244.725 11.6617C244.624 11.9287 244.503 12.1203 244.359 12.2363C244.22 12.3524 244.042 12.4105 243.825 12.4105C243.663 12.4105 243.512 12.3834 243.373 12.3292V11.9171C243.477 11.9442 243.587 11.9577 243.703 11.9577C243.847 11.9577 243.959 11.921 244.04 11.8474C244.125 11.7778 244.201 11.652 244.267 11.4702L244.377 11.1741Z'    fill='#D5D7DA'  />  <path    d='M231.255 100.322V96.8738L230.135 97.3091V96.8448L231.296 96.2992H231.836V100.322H231.255Z'    fill='#D5D7DA'  />  <path    d='M233.359 100.322V99.8689C233.916 99.3039 234.322 98.8724 234.578 98.5745C234.837 98.2727 235.015 98.0308 235.112 97.8489C235.208 97.6671 235.257 97.4949 235.257 97.3323C235.257 97.1389 235.197 96.9879 235.077 96.8796C234.961 96.7674 234.802 96.7113 234.601 96.7113C234.256 96.7113 233.879 96.8564 233.469 97.1466V96.6532C233.659 96.5023 233.85 96.392 234.044 96.3224C234.241 96.2489 234.456 96.2121 234.688 96.2121C235.04 96.2121 235.322 96.3108 235.535 96.5081C235.752 96.7055 235.86 96.9667 235.86 97.2917C235.86 97.5084 235.802 97.729 235.686 97.9534C235.57 98.174 235.381 98.4313 235.117 98.7254C234.858 99.0195 234.494 99.391 234.026 99.8398H236.046V100.322H233.359Z'    fill='#D5D7DA'  />  <path    d='M238.103 99.9211C238.409 99.9211 238.633 99.7934 238.776 99.538C238.92 99.2787 238.991 98.8686 238.991 98.3075C238.991 97.7541 238.92 97.3478 238.776 97.0886C238.633 96.8293 238.409 96.6997 238.103 96.6997C237.797 96.6997 237.573 96.8293 237.43 97.0886C237.287 97.3478 237.215 97.7541 237.215 98.3075C237.215 98.8647 237.287 99.2729 237.43 99.5322C237.573 99.7915 237.797 99.9211 238.103 99.9211ZM238.103 100.409C237.627 100.409 237.261 100.229 237.006 99.8689C236.751 99.5051 236.623 98.9847 236.623 98.3075C236.623 97.6342 236.749 97.1176 237 96.7577C237.256 96.394 237.623 96.2121 238.103 96.2121C238.579 96.2121 238.945 96.392 239.2 96.7519C239.456 97.1118 239.583 97.6303 239.583 98.3075C239.583 98.9847 239.456 99.5051 239.2 99.8689C238.949 100.229 238.583 100.409 238.103 100.409Z'    fill='#D5D7DA'  />  <path    d='M240.009 101.21L240.305 99.6483H240.491C240.623 99.6483 240.715 99.6657 240.77 99.7005C240.828 99.7315 240.857 99.7857 240.857 99.8631C240.857 99.925 240.83 100.033 240.775 100.188L240.404 101.21H240.009Z'    fill='#D5D7DA'  />  <path    d='M243.007 99.9211C243.313 99.9211 243.537 99.7934 243.681 99.538C243.824 99.2787 243.895 98.8686 243.895 98.3075C243.895 97.7541 243.824 97.3478 243.681 97.0886C243.537 96.8293 243.313 96.6997 243.007 96.6997C242.702 96.6997 242.477 96.8293 242.334 97.0886C242.191 97.3478 242.119 97.7541 242.119 98.3075C242.119 98.8647 242.191 99.2729 242.334 99.5322C242.477 99.7915 242.702 99.9211 243.007 99.9211ZM243.007 100.409C242.531 100.409 242.166 100.229 241.91 99.8689C241.655 99.5051 241.527 98.9847 241.527 98.3075C241.527 97.6342 241.653 97.1176 241.904 96.7577C242.16 96.394 242.527 96.2121 243.007 96.2121C243.483 96.2121 243.849 96.392 244.104 96.7519C244.36 97.1118 244.487 97.6303 244.487 98.3075C244.487 98.9847 244.36 99.5051 244.104 99.8689C243.853 100.229 243.487 100.409 243.007 100.409Z'    fill='#D5D7DA'  />  <path    d='M246.44 99.9211C246.746 99.9211 246.97 99.7934 247.113 99.538C247.256 99.2787 247.328 98.8686 247.328 98.3075C247.328 97.7541 247.256 97.3478 247.113 97.0886C246.97 96.8293 246.746 96.6997 246.44 96.6997C246.134 96.6997 245.91 96.8293 245.767 97.0886C245.623 97.3478 245.552 97.7541 245.552 98.3075C245.552 98.8647 245.623 99.2729 245.767 99.5322C245.91 99.7915 246.134 99.9211 246.44 99.9211ZM246.44 100.409C245.964 100.409 245.598 100.229 245.343 99.8689C245.087 99.5051 244.96 98.9847 244.96 98.3075C244.96 97.6342 245.086 97.1176 245.337 96.7577C245.592 96.394 245.96 96.2121 246.44 96.2121C246.916 96.2121 247.282 96.392 247.537 96.7519C247.792 97.1118 247.92 97.6303 247.92 98.3075C247.92 98.9847 247.792 99.5051 247.537 99.8689C247.285 100.229 246.92 100.409 246.44 100.409Z'    fill='#D5D7DA'  />  <path    d='M249.873 99.9211C250.178 99.9211 250.403 99.7934 250.546 99.538C250.689 99.2787 250.761 98.8686 250.761 98.3075C250.761 97.7541 250.689 97.3478 250.546 97.0886C250.403 96.8293 250.178 96.6997 249.873 96.6997C249.567 96.6997 249.342 96.8293 249.199 97.0886C249.056 97.3478 248.984 97.7541 248.984 98.3075C248.984 98.8647 249.056 99.2729 249.199 99.5322C249.342 99.7915 249.567 99.9211 249.873 99.9211ZM249.873 100.409C249.397 100.409 249.031 100.229 248.776 99.8689C248.52 99.5051 248.392 98.9847 248.392 98.3075C248.392 97.6342 248.518 97.1176 248.77 96.7577C249.025 96.394 249.393 96.2121 249.873 96.2121C250.349 96.2121 250.714 96.392 250.97 96.7519C251.225 97.1118 251.353 97.6303 251.353 98.3075C251.353 98.9847 251.225 99.5051 250.97 99.8689C250.718 100.229 250.352 100.409 249.873 100.409Z'    fill='#D5D7DA'  />  <path    d='M229.99 114.493C230.307 114.636 230.599 114.708 230.866 114.708C231.238 114.708 231.518 114.593 231.708 114.365C231.901 114.137 232.012 113.783 232.039 113.303C231.899 113.396 231.745 113.469 231.574 113.523C231.404 113.574 231.23 113.599 231.052 113.599C230.677 113.599 230.379 113.487 230.158 113.262C229.941 113.038 229.833 112.73 229.833 112.339C229.833 112.08 229.887 111.85 229.996 111.649C230.108 111.444 230.267 111.283 230.472 111.167C230.677 111.047 230.913 110.987 231.18 110.987C231.648 110.987 232.004 111.151 232.248 111.48C232.495 111.809 232.619 112.289 232.619 112.92C232.619 113.647 232.474 114.206 232.184 114.597C231.894 114.988 231.482 115.183 230.948 115.183C230.564 115.183 230.245 115.1 229.99 114.934V114.493ZM231.191 113.135C231.338 113.135 231.485 113.115 231.632 113.076C231.783 113.038 231.921 112.984 232.045 112.914V112.833C232.033 111.919 231.741 111.463 231.168 111.463C230.94 111.463 230.756 111.54 230.617 111.695C230.481 111.846 230.414 112.049 230.414 112.304C230.414 112.575 230.479 112.782 230.611 112.926C230.742 113.065 230.936 113.135 231.191 113.135Z'    fill='#D5D7DA'  />  <path    d='M235.936 112.055C235.936 112.268 235.876 112.461 235.756 112.635C235.64 112.809 235.477 112.949 235.268 113.053C235.559 113.185 235.767 113.328 235.895 113.483C236.023 113.638 236.087 113.827 236.087 114.052C236.087 114.4 235.957 114.677 235.698 114.882C235.442 115.083 235.094 115.183 234.653 115.183C234.227 115.183 233.887 115.087 233.631 114.893C233.38 114.7 233.254 114.437 233.254 114.104C233.254 113.868 233.32 113.655 233.452 113.465C233.587 113.276 233.782 113.123 234.038 113.007C233.825 112.898 233.666 112.771 233.562 112.624C233.461 112.473 233.411 112.295 233.411 112.09C233.411 111.757 233.525 111.49 233.753 111.289C233.986 111.088 234.291 110.987 234.67 110.987C235.046 110.987 235.35 111.086 235.582 111.283C235.818 111.48 235.936 111.738 235.936 112.055ZM234.398 113.169C234.007 113.39 233.811 113.669 233.811 114.005C233.811 114.233 233.885 114.411 234.032 114.539C234.183 114.663 234.396 114.725 234.67 114.725C234.941 114.725 235.152 114.667 235.303 114.551C235.454 114.431 235.53 114.263 235.53 114.046C235.53 113.887 235.473 113.758 235.361 113.657C235.253 113.552 235.05 113.438 234.752 113.314L234.398 113.169ZM233.957 112.061C233.957 112.219 234.009 112.357 234.113 112.473C234.218 112.585 234.382 112.688 234.607 112.78L234.908 112.902C235.23 112.69 235.39 112.426 235.39 112.113C235.39 111.892 235.326 111.722 235.199 111.602C235.071 111.482 234.893 111.422 234.665 111.422C234.44 111.422 234.266 111.478 234.142 111.591C234.018 111.703 233.957 111.859 233.957 112.061Z'    fill='#D5D7DA'  />  <path    d='M236.577 115.984L236.873 114.423H237.058C237.19 114.423 237.283 114.441 237.337 114.475C237.395 114.506 237.424 114.56 237.424 114.638C237.424 114.7 237.397 114.808 237.343 114.963L236.971 115.984H236.577Z'    fill='#D5D7DA'  />  <path    d='M239.575 114.696C239.88 114.696 240.105 114.568 240.248 114.313C240.391 114.054 240.463 113.643 240.463 113.082C240.463 112.529 240.391 112.123 240.248 111.863C240.105 111.604 239.88 111.474 239.575 111.474C239.269 111.474 239.044 111.604 238.901 111.863C238.758 112.123 238.686 112.529 238.686 113.082C238.686 113.639 238.758 114.048 238.901 114.307C239.044 114.566 239.269 114.696 239.575 114.696ZM239.575 115.183C239.099 115.183 238.733 115.004 238.478 114.644C238.222 114.28 238.094 113.759 238.094 113.082C238.094 112.409 238.22 111.892 238.472 111.533C238.727 111.169 239.095 110.987 239.575 110.987C240.051 110.987 240.416 111.167 240.672 111.527C240.927 111.887 241.055 112.405 241.055 113.082C241.055 113.759 240.927 114.28 240.672 114.644C240.42 115.004 240.054 115.183 239.575 115.183Z'    fill='#D5D7DA'  />  <path    d='M243.007 114.696C243.313 114.696 243.537 114.568 243.681 114.313C243.824 114.054 243.895 113.643 243.895 113.082C243.895 112.529 243.824 112.123 243.681 111.863C243.537 111.604 243.313 111.474 243.007 111.474C242.702 111.474 242.477 111.604 242.334 111.863C242.191 112.123 242.119 112.529 242.119 113.082C242.119 113.639 242.191 114.048 242.334 114.307C242.477 114.566 242.702 114.696 243.007 114.696ZM243.007 115.183C242.531 115.183 242.166 115.004 241.91 114.644C241.655 114.28 241.527 113.759 241.527 113.082C241.527 112.409 241.653 111.892 241.904 111.533C242.16 111.169 242.527 110.987 243.007 110.987C243.483 110.987 243.849 111.167 244.104 111.527C244.36 111.887 244.487 112.405 244.487 113.082C244.487 113.759 244.36 114.28 244.104 114.644C243.853 115.004 243.487 115.183 243.007 115.183Z'    fill='#D5D7DA'  />  <path    d='M246.44 114.696C246.746 114.696 246.97 114.568 247.113 114.313C247.256 114.054 247.328 113.643 247.328 113.082C247.328 112.529 247.256 112.123 247.113 111.863C246.97 111.604 246.746 111.474 246.44 111.474C246.134 111.474 245.91 111.604 245.767 111.863C245.623 112.123 245.552 112.529 245.552 113.082C245.552 113.639 245.623 114.048 245.767 114.307C245.91 114.566 246.134 114.696 246.44 114.696ZM246.44 115.183C245.964 115.183 245.598 115.004 245.343 114.644C245.087 114.28 244.96 113.759 244.96 113.082C244.96 112.409 245.086 111.892 245.337 111.533C245.592 111.169 245.96 110.987 246.44 110.987C246.916 110.987 247.282 111.167 247.537 111.527C247.792 111.887 247.92 112.405 247.92 113.082C247.92 113.759 247.792 114.28 247.537 114.644C247.285 115.004 246.92 115.183 246.44 115.183Z'    fill='#D5D7DA'  />  <path    d='M232.503 126.83C232.503 127.043 232.443 127.236 232.323 127.41C232.207 127.584 232.045 127.724 231.836 127.828C232.126 127.96 232.335 128.103 232.463 128.258C232.59 128.412 232.654 128.602 232.654 128.826C232.654 129.175 232.524 129.451 232.265 129.656C232.01 129.858 231.662 129.958 231.22 129.958C230.795 129.958 230.454 129.862 230.199 129.668C229.947 129.475 229.822 129.211 229.822 128.879C229.822 128.643 229.887 128.43 230.019 128.24C230.154 128.051 230.35 127.898 230.605 127.782C230.392 127.673 230.234 127.546 230.129 127.399C230.029 127.248 229.978 127.07 229.978 126.865C229.978 126.532 230.092 126.265 230.321 126.064C230.553 125.862 230.859 125.762 231.238 125.762C231.613 125.762 231.917 125.86 232.149 126.058C232.385 126.255 232.503 126.512 232.503 126.83ZM230.965 127.944C230.574 128.165 230.379 128.443 230.379 128.78C230.379 129.008 230.452 129.186 230.599 129.314C230.75 129.438 230.963 129.5 231.238 129.5C231.509 129.5 231.72 129.442 231.87 129.326C232.021 129.206 232.097 129.037 232.097 128.821C232.097 128.662 232.041 128.532 231.929 128.432C231.82 128.327 231.617 128.213 231.319 128.089L230.965 127.944ZM230.524 126.836C230.524 126.994 230.576 127.132 230.681 127.248C230.785 127.36 230.95 127.462 231.174 127.555L231.476 127.677C231.797 127.464 231.958 127.201 231.958 126.888C231.958 126.667 231.894 126.497 231.766 126.377C231.638 126.257 231.46 126.197 231.232 126.197C231.008 126.197 230.833 126.253 230.71 126.365C230.586 126.478 230.524 126.634 230.524 126.836Z'    fill='#D5D7DA'  />  <path    d='M235.936 126.83C235.936 127.043 235.876 127.236 235.756 127.41C235.64 127.584 235.477 127.724 235.268 127.828C235.559 127.96 235.767 128.103 235.895 128.258C236.023 128.412 236.087 128.602 236.087 128.826C236.087 129.175 235.957 129.451 235.698 129.656C235.442 129.858 235.094 129.958 234.653 129.958C234.227 129.958 233.887 129.862 233.631 129.668C233.38 129.475 233.254 129.211 233.254 128.879C233.254 128.643 233.32 128.43 233.452 128.24C233.587 128.051 233.782 127.898 234.038 127.782C233.825 127.673 233.666 127.546 233.562 127.399C233.461 127.248 233.411 127.07 233.411 126.865C233.411 126.532 233.525 126.265 233.753 126.064C233.986 125.862 234.291 125.762 234.67 125.762C235.046 125.762 235.35 125.86 235.582 126.058C235.818 126.255 235.936 126.512 235.936 126.83ZM234.398 127.944C234.007 128.165 233.811 128.443 233.811 128.78C233.811 129.008 233.885 129.186 234.032 129.314C234.183 129.438 234.396 129.5 234.67 129.5C234.941 129.5 235.152 129.442 235.303 129.326C235.454 129.206 235.53 129.037 235.53 128.821C235.53 128.662 235.473 128.532 235.361 128.432C235.253 128.327 235.05 128.213 234.752 128.089L234.398 127.944ZM233.957 126.836C233.957 126.994 234.009 127.132 234.113 127.248C234.218 127.36 234.382 127.462 234.607 127.555L234.908 127.677C235.23 127.464 235.39 127.201 235.39 126.888C235.39 126.667 235.326 126.497 235.199 126.377C235.071 126.257 234.893 126.197 234.665 126.197C234.44 126.197 234.266 126.253 234.142 126.365C234.018 126.478 233.957 126.634 233.957 126.836Z'    fill='#D5D7DA'  />  <path    d='M236.577 130.759L236.873 129.198H237.058C237.19 129.198 237.283 129.215 237.337 129.25C237.395 129.281 237.424 129.335 237.424 129.413C237.424 129.475 237.397 129.583 237.343 129.738L236.971 130.759H236.577Z'    fill='#D5D7DA'  />  <path    d='M239.575 129.471C239.88 129.471 240.105 129.343 240.248 129.088C240.391 128.828 240.463 128.418 240.463 127.857C240.463 127.304 240.391 126.897 240.248 126.638C240.105 126.379 239.88 126.249 239.575 126.249C239.269 126.249 239.044 126.379 238.901 126.638C238.758 126.897 238.686 127.304 238.686 127.857C238.686 128.414 238.758 128.823 238.901 129.082C239.044 129.341 239.269 129.471 239.575 129.471ZM239.575 129.958C239.099 129.958 238.733 129.778 238.478 129.418C238.222 129.055 238.094 128.534 238.094 127.857C238.094 127.184 238.22 126.667 238.472 126.307C238.727 125.944 239.095 125.762 239.575 125.762C240.051 125.762 240.416 125.942 240.672 126.302C240.927 126.661 241.055 127.18 241.055 127.857C241.055 128.534 240.927 129.055 240.672 129.418C240.42 129.778 240.054 129.958 239.575 129.958Z'    fill='#D5D7DA'  />  <path    d='M243.007 129.471C243.313 129.471 243.537 129.343 243.681 129.088C243.824 128.828 243.895 128.418 243.895 127.857C243.895 127.304 243.824 126.897 243.681 126.638C243.537 126.379 243.313 126.249 243.007 126.249C242.702 126.249 242.477 126.379 242.334 126.638C242.191 126.897 242.119 127.304 242.119 127.857C242.119 128.414 242.191 128.823 242.334 129.082C242.477 129.341 242.702 129.471 243.007 129.471ZM243.007 129.958C242.531 129.958 242.166 129.778 241.91 129.418C241.655 129.055 241.527 128.534 241.527 127.857C241.527 127.184 241.653 126.667 241.904 126.307C242.16 125.944 242.527 125.762 243.007 125.762C243.483 125.762 243.849 125.942 244.104 126.302C244.36 126.661 244.487 127.18 244.487 127.857C244.487 128.534 244.36 129.055 244.104 129.418C243.853 129.778 243.487 129.958 243.007 129.958Z'    fill='#D5D7DA'  />  <path    d='M246.44 129.471C246.746 129.471 246.97 129.343 247.113 129.088C247.256 128.828 247.328 128.418 247.328 127.857C247.328 127.304 247.256 126.897 247.113 126.638C246.97 126.379 246.746 126.249 246.44 126.249C246.134 126.249 245.91 126.379 245.767 126.638C245.623 126.897 245.552 127.304 245.552 127.857C245.552 128.414 245.623 128.823 245.767 129.082C245.91 129.341 246.134 129.471 246.44 129.471ZM246.44 129.958C245.964 129.958 245.598 129.778 245.343 129.418C245.087 129.055 244.96 128.534 244.96 127.857C244.96 127.184 245.086 126.667 245.337 126.307C245.592 125.944 245.96 125.762 246.44 125.762C246.916 125.762 247.282 125.942 247.537 126.302C247.792 126.661 247.92 127.18 247.92 127.857C247.92 128.534 247.792 129.055 247.537 129.418C247.285 129.778 246.92 129.958 246.44 129.958Z'    fill='#D5D7DA'  />  <path    d='M231.255 144.646V141.198L230.135 141.634V141.169L231.296 140.624H231.836V144.646H231.255Z'    fill='#D5D7DA'  />  <path    d='M234.56 142.347C234.58 142.344 234.599 142.342 234.618 142.342C234.638 142.342 234.657 142.342 234.676 142.342C235.059 142.342 235.363 142.446 235.588 142.655C235.812 142.86 235.924 143.137 235.924 143.485C235.924 143.864 235.787 144.168 235.512 144.396C235.241 144.621 234.876 144.733 234.415 144.733C234.051 144.733 233.691 144.656 233.335 144.501V144.037C233.757 144.176 234.117 144.246 234.415 144.246C234.709 144.246 234.936 144.18 235.094 144.048C235.253 143.917 235.332 143.729 235.332 143.485C235.332 143.017 235.036 142.783 234.444 142.783C234.258 142.783 234.075 142.792 233.893 142.812V142.429L235.112 141.1H233.394V140.624H235.756V141.082L234.56 142.347Z'    fill='#D5D7DA'  />  <path    d='M238.103 144.246C238.409 144.246 238.633 144.118 238.776 143.862C238.92 143.603 238.991 143.193 238.991 142.632C238.991 142.079 238.92 141.672 238.776 141.413C238.633 141.154 238.409 141.024 238.103 141.024C237.797 141.024 237.573 141.154 237.43 141.413C237.287 141.672 237.215 142.079 237.215 142.632C237.215 143.189 237.287 143.597 237.43 143.857C237.573 144.116 237.797 144.246 238.103 144.246ZM238.103 144.733C237.627 144.733 237.261 144.553 237.006 144.193C236.751 143.83 236.623 143.309 236.623 142.632C236.623 141.959 236.749 141.442 237 141.082C237.256 140.718 237.623 140.537 238.103 140.537C238.579 140.537 238.945 140.716 239.2 141.076C239.456 141.436 239.583 141.955 239.583 142.632C239.583 143.309 239.456 143.83 239.2 144.193C238.949 144.553 238.583 144.733 238.103 144.733Z'    fill='#D5D7DA'  />  <path    d='M240.009 145.534L240.305 143.973H240.491C240.623 143.973 240.715 143.99 240.77 144.025C240.828 144.056 240.857 144.11 240.857 144.187C240.857 144.249 240.83 144.358 240.775 144.513L240.404 145.534H240.009Z'    fill='#D5D7DA'  />  <path    d='M243.007 144.246C243.313 144.246 243.537 144.118 243.681 143.862C243.824 143.603 243.895 143.193 243.895 142.632C243.895 142.079 243.824 141.672 243.681 141.413C243.537 141.154 243.313 141.024 243.007 141.024C242.702 141.024 242.477 141.154 242.334 141.413C242.191 141.672 242.119 142.079 242.119 142.632C242.119 143.189 242.191 143.597 242.334 143.857C242.477 144.116 242.702 144.246 243.007 144.246ZM243.007 144.733C242.531 144.733 242.166 144.553 241.91 144.193C241.655 143.83 241.527 143.309 241.527 142.632C241.527 141.959 241.653 141.442 241.904 141.082C242.16 140.718 242.527 140.537 243.007 140.537C243.483 140.537 243.849 140.716 244.104 141.076C244.36 141.436 244.487 141.955 244.487 142.632C244.487 143.309 244.36 143.83 244.104 144.193C243.853 144.553 243.487 144.733 243.007 144.733Z'    fill='#D5D7DA'  />  <path    d='M246.44 144.246C246.746 144.246 246.97 144.118 247.113 143.862C247.256 143.603 247.328 143.193 247.328 142.632C247.328 142.079 247.256 141.672 247.113 141.413C246.97 141.154 246.746 141.024 246.44 141.024C246.134 141.024 245.91 141.154 245.767 141.413C245.623 141.672 245.552 142.079 245.552 142.632C245.552 143.189 245.623 143.597 245.767 143.857C245.91 144.116 246.134 144.246 246.44 144.246ZM246.44 144.733C245.964 144.733 245.598 144.553 245.343 144.193C245.087 143.83 244.96 143.309 244.96 142.632C244.96 141.959 245.086 141.442 245.337 141.082C245.592 140.718 245.96 140.537 246.44 140.537C246.916 140.537 247.282 140.716 247.537 141.076C247.792 141.436 247.92 141.955 247.92 142.632C247.92 143.309 247.792 143.83 247.537 144.193C247.285 144.553 246.92 144.733 246.44 144.733Z'    fill='#D5D7DA'  />  <path    d='M249.873 144.246C250.178 144.246 250.403 144.118 250.546 143.862C250.689 143.603 250.761 143.193 250.761 142.632C250.761 142.079 250.689 141.672 250.546 141.413C250.403 141.154 250.178 141.024 249.873 141.024C249.567 141.024 249.342 141.154 249.199 141.413C249.056 141.672 248.984 142.079 248.984 142.632C248.984 143.189 249.056 143.597 249.199 143.857C249.342 144.116 249.567 144.246 249.873 144.246ZM249.873 144.733C249.397 144.733 249.031 144.553 248.776 144.193C248.52 143.83 248.392 143.309 248.392 142.632C248.392 141.959 248.518 141.442 248.77 141.082C249.025 140.718 249.393 140.537 249.873 140.537C250.349 140.537 250.714 140.716 250.97 141.076C251.225 141.436 251.353 141.955 251.353 142.632C251.353 143.309 251.225 143.83 250.97 144.193C250.718 144.553 250.352 144.733 249.873 144.733Z'    fill='#D5D7DA'  />  <path    d='M229.926 159.421V158.968C230.483 158.403 230.89 157.972 231.145 157.674C231.404 157.372 231.582 157.13 231.679 156.948C231.776 156.766 231.824 156.594 231.824 156.432C231.824 156.238 231.764 156.087 231.644 155.979C231.528 155.867 231.369 155.81 231.168 155.81C230.824 155.81 230.446 155.956 230.036 156.246V155.752C230.226 155.602 230.417 155.491 230.611 155.422C230.808 155.348 231.023 155.311 231.255 155.311C231.607 155.311 231.89 155.41 232.103 155.607C232.319 155.805 232.428 156.066 232.428 156.391C232.428 156.608 232.37 156.828 232.254 157.053C232.137 157.273 231.948 157.531 231.685 157.825C231.425 158.119 231.062 158.49 230.594 158.939H232.613V159.421H229.926Z'    fill='#D5D7DA'  />  <path    d='M234.67 159.02C234.976 159.02 235.201 158.893 235.344 158.637C235.487 158.378 235.559 157.968 235.559 157.407C235.559 156.853 235.487 156.447 235.344 156.188C235.201 155.929 234.976 155.799 234.67 155.799C234.365 155.799 234.14 155.929 233.997 156.188C233.854 156.447 233.782 156.853 233.782 157.407C233.782 157.964 233.854 158.372 233.997 158.631C234.14 158.891 234.365 159.02 234.67 159.02ZM234.67 159.508C234.194 159.508 233.829 159.328 233.573 158.968C233.318 158.604 233.19 158.084 233.19 157.407C233.19 156.733 233.316 156.217 233.568 155.857C233.823 155.493 234.191 155.311 234.67 155.311C235.146 155.311 235.512 155.491 235.767 155.851C236.023 156.211 236.151 156.73 236.151 157.407C236.151 158.084 236.023 158.604 235.767 158.968C235.516 159.328 235.15 159.508 234.67 159.508Z'    fill='#D5D7DA'  />  <path    d='M238.103 159.02C238.409 159.02 238.633 158.893 238.776 158.637C238.92 158.378 238.991 157.968 238.991 157.407C238.991 156.853 238.92 156.447 238.776 156.188C238.633 155.929 238.409 155.799 238.103 155.799C237.797 155.799 237.573 155.929 237.43 156.188C237.287 156.447 237.215 156.853 237.215 157.407C237.215 157.964 237.287 158.372 237.43 158.631C237.573 158.891 237.797 159.02 238.103 159.02ZM238.103 159.508C237.627 159.508 237.261 159.328 237.006 158.968C236.751 158.604 236.623 158.084 236.623 157.407C236.623 156.733 236.749 156.217 237 155.857C237.256 155.493 237.623 155.311 238.103 155.311C238.579 155.311 238.945 155.491 239.2 155.851C239.456 156.211 239.583 156.73 239.583 157.407C239.583 158.084 239.456 158.604 239.2 158.968C238.949 159.328 238.583 159.508 238.103 159.508Z'    fill='#D5D7DA'  />  <path    d='M240.009 160.309L240.305 158.747H240.491C240.623 158.747 240.715 158.765 240.77 158.8C240.828 158.831 240.857 158.885 240.857 158.962C240.857 159.024 240.83 159.133 240.775 159.287L240.404 160.309H240.009Z'    fill='#D5D7DA'  />  <path    d='M243.007 159.02C243.313 159.02 243.537 158.893 243.681 158.637C243.824 158.378 243.895 157.968 243.895 157.407C243.895 156.853 243.824 156.447 243.681 156.188C243.537 155.929 243.313 155.799 243.007 155.799C242.702 155.799 242.477 155.929 242.334 156.188C242.191 156.447 242.119 156.853 242.119 157.407C242.119 157.964 242.191 158.372 242.334 158.631C242.477 158.891 242.702 159.02 243.007 159.02ZM243.007 159.508C242.531 159.508 242.166 159.328 241.91 158.968C241.655 158.604 241.527 158.084 241.527 157.407C241.527 156.733 241.653 156.217 241.904 155.857C242.16 155.493 242.527 155.311 243.007 155.311C243.483 155.311 243.849 155.491 244.104 155.851C244.36 156.211 244.487 156.73 244.487 157.407C244.487 158.084 244.36 158.604 244.104 158.968C243.853 159.328 243.487 159.508 243.007 159.508Z'    fill='#D5D7DA'  />  <path    d='M246.44 159.02C246.746 159.02 246.97 158.893 247.113 158.637C247.256 158.378 247.328 157.968 247.328 157.407C247.328 156.853 247.256 156.447 247.113 156.188C246.97 155.929 246.746 155.799 246.44 155.799C246.134 155.799 245.91 155.929 245.767 156.188C245.623 156.447 245.552 156.853 245.552 157.407C245.552 157.964 245.623 158.372 245.767 158.631C245.91 158.891 246.134 159.02 246.44 159.02ZM246.44 159.508C245.964 159.508 245.598 159.328 245.343 158.968C245.087 158.604 244.96 158.084 244.96 157.407C244.96 156.733 245.086 156.217 245.337 155.857C245.592 155.493 245.96 155.311 246.44 155.311C246.916 155.311 247.282 155.491 247.537 155.851C247.792 156.211 247.92 156.73 247.92 157.407C247.92 158.084 247.792 158.604 247.537 158.968C247.285 159.328 246.92 159.508 246.44 159.508Z'    fill='#D5D7DA'  />  <path    d='M249.873 159.02C250.178 159.02 250.403 158.893 250.546 158.637C250.689 158.378 250.761 157.968 250.761 157.407C250.761 156.853 250.689 156.447 250.546 156.188C250.403 155.929 250.178 155.799 249.873 155.799C249.567 155.799 249.342 155.929 249.199 156.188C249.056 156.447 248.984 156.853 248.984 157.407C248.984 157.964 249.056 158.372 249.199 158.631C249.342 158.891 249.567 159.02 249.873 159.02ZM249.873 159.508C249.397 159.508 249.031 159.328 248.776 158.968C248.52 158.604 248.392 158.084 248.392 157.407C248.392 156.733 248.518 156.217 248.77 155.857C249.025 155.493 249.393 155.311 249.873 155.311C250.349 155.311 250.714 155.491 250.97 155.851C251.225 156.211 251.353 156.73 251.353 157.407C251.353 158.084 251.225 158.604 250.97 158.968C250.718 159.328 250.352 159.508 249.873 159.508Z'    fill='#D5D7DA'  />  <path    d='M232.503 171.154C232.503 171.367 232.443 171.56 232.323 171.735C232.207 171.909 232.045 172.048 231.836 172.152C232.126 172.284 232.335 172.427 232.463 172.582C232.59 172.737 232.654 172.926 232.654 173.151C232.654 173.499 232.524 173.776 232.265 173.981C232.01 174.182 231.662 174.283 231.22 174.283C230.795 174.283 230.454 174.186 230.199 173.992C229.947 173.799 229.822 173.536 229.822 173.203C229.822 172.967 229.887 172.754 230.019 172.565C230.154 172.375 230.35 172.222 230.605 172.106C230.392 171.998 230.234 171.87 230.129 171.723C230.029 171.572 229.978 171.394 229.978 171.189C229.978 170.856 230.092 170.589 230.321 170.388C230.553 170.187 230.859 170.086 231.238 170.086C231.613 170.086 231.917 170.185 232.149 170.382C232.385 170.579 232.503 170.837 232.503 171.154ZM230.965 172.269C230.574 172.489 230.379 172.768 230.379 173.104C230.379 173.333 230.452 173.511 230.599 173.638C230.75 173.762 230.963 173.824 231.238 173.824C231.509 173.824 231.72 173.766 231.87 173.65C232.021 173.53 232.097 173.362 232.097 173.145C232.097 172.986 232.041 172.857 231.929 172.756C231.82 172.652 231.617 172.537 231.319 172.414L230.965 172.269ZM230.524 171.16C230.524 171.319 230.576 171.456 230.681 171.572C230.785 171.684 230.95 171.787 231.174 171.88L231.476 172.002C231.797 171.789 231.958 171.526 231.958 171.212C231.958 170.992 231.894 170.821 231.766 170.701C231.638 170.581 231.46 170.521 231.232 170.521C231.008 170.521 230.833 170.578 230.71 170.69C230.586 170.802 230.524 170.959 230.524 171.16Z'    fill='#D5D7DA'  />  <path    d='M233.359 174.196V173.743C233.916 173.178 234.322 172.746 234.578 172.448C234.837 172.147 235.015 171.905 235.112 171.723C235.208 171.541 235.257 171.369 235.257 171.206C235.257 171.013 235.197 170.862 235.077 170.754C234.961 170.641 234.802 170.585 234.601 170.585C234.256 170.585 233.879 170.73 233.469 171.021V170.527C233.659 170.376 233.85 170.266 234.044 170.196C234.241 170.123 234.456 170.086 234.688 170.086C235.04 170.086 235.322 170.185 235.535 170.382C235.752 170.579 235.86 170.841 235.86 171.166C235.86 171.382 235.802 171.603 235.686 171.827C235.57 172.048 235.381 172.305 235.117 172.599C234.858 172.893 234.494 173.265 234.026 173.714H236.046V174.196H233.359Z'    fill='#D5D7DA'  />  <path    d='M236.577 175.084L236.873 173.522H237.058C237.19 173.522 237.283 173.54 237.337 173.575C237.395 173.605 237.424 173.66 237.424 173.737C237.424 173.799 237.397 173.907 237.343 174.062L236.971 175.084H236.577Z'    fill='#D5D7DA'  />  <path    d='M239.575 173.795C239.88 173.795 240.105 173.667 240.248 173.412C240.391 173.153 240.463 172.743 240.463 172.181C240.463 171.628 240.391 171.222 240.248 170.963C240.105 170.703 239.88 170.574 239.575 170.574C239.269 170.574 239.044 170.703 238.901 170.963C238.758 171.222 238.686 171.628 238.686 172.181C238.686 172.739 238.758 173.147 238.901 173.406C239.044 173.665 239.269 173.795 239.575 173.795ZM239.575 174.283C239.099 174.283 238.733 174.103 238.478 173.743C238.222 173.379 238.094 172.859 238.094 172.181C238.094 171.508 238.22 170.992 238.472 170.632C238.727 170.268 239.095 170.086 239.575 170.086C240.051 170.086 240.416 170.266 240.672 170.626C240.927 170.986 241.055 171.504 241.055 172.181C241.055 172.859 240.927 173.379 240.672 173.743C240.42 174.103 240.054 174.283 239.575 174.283Z'    fill='#D5D7DA'  />  <path    d='M243.007 173.795C243.313 173.795 243.537 173.667 243.681 173.412C243.824 173.153 243.895 172.743 243.895 172.181C243.895 171.628 243.824 171.222 243.681 170.963C243.537 170.703 243.313 170.574 243.007 170.574C242.702 170.574 242.477 170.703 242.334 170.963C242.191 171.222 242.119 171.628 242.119 172.181C242.119 172.739 242.191 173.147 242.334 173.406C242.477 173.665 242.702 173.795 243.007 173.795ZM243.007 174.283C242.531 174.283 242.166 174.103 241.91 173.743C241.655 173.379 241.527 172.859 241.527 172.181C241.527 171.508 241.653 170.992 241.904 170.632C242.16 170.268 242.527 170.086 243.007 170.086C243.483 170.086 243.849 170.266 244.104 170.626C244.36 170.986 244.487 171.504 244.487 172.181C244.487 172.859 244.36 173.379 244.104 173.743C243.853 174.103 243.487 174.283 243.007 174.283Z'    fill='#D5D7DA'  />  <path    d='M246.44 173.795C246.746 173.795 246.97 173.667 247.113 173.412C247.256 173.153 247.328 172.743 247.328 172.181C247.328 171.628 247.256 171.222 247.113 170.963C246.97 170.703 246.746 170.574 246.44 170.574C246.134 170.574 245.91 170.703 245.767 170.963C245.623 171.222 245.552 171.628 245.552 172.181C245.552 172.739 245.623 173.147 245.767 173.406C245.91 173.665 246.134 173.795 246.44 173.795ZM246.44 174.283C245.964 174.283 245.598 174.103 245.343 173.743C245.087 173.379 244.96 172.859 244.96 172.181C244.96 171.508 245.086 170.992 245.337 170.632C245.592 170.268 245.96 170.086 246.44 170.086C246.916 170.086 247.282 170.266 247.537 170.626C247.792 170.986 247.92 171.504 247.92 172.181C247.92 172.859 247.792 173.379 247.537 173.743C247.285 174.103 246.92 174.283 246.44 174.283Z'    fill='#D5D7DA'  />  <path    d='M112.922 1.11071H225.316V16.9928H112.922V1.11071Z'    fill='#616161'    fill-opacity='0.3'  />  <path d='M112.394 179.472H225.316V180H112.394V179.472Z' fill='#616161' />  <path d='M112.394 164.698H225.316V165.225H112.394V164.698Z' fill='#616161' />  <path d='M112.394 149.923H225.316V150.45H112.394V149.923Z' fill='#616161' />  <path d='M112.394 135.148H225.316V135.676H112.394V135.148Z' fill='#616161' />  <path d='M112.394 120.373H225.316V120.901H112.394V120.373Z' fill='#616161' />  <path d='M112.394 105.598H225.316V106.126H112.394V105.598Z' fill='#616161' />  <path d='M112.394 90.8235H225.316V91.3512H112.394V90.8235Z' fill='#616161' />  <path d='M112.394 16.9495H225.316V17.4772H112.394V16.9495Z' fill='#616161' />  <path    d='M112.394 0.527786H225.316V1.05546H112.394V0.527786Z'    fill='#616161'  />  <path    d='M112.922 1.05546L112.922 179.936H112.394V1.05546H112.922Z'    fill='#616161'  />  <path    d='M216.521 77.4555H217.049V79.3023L218.632 80.2416L218.368 80.6743L216.521 79.5662V77.4555Z'    fill='url(#paint0_linear_4701_363790)'    fill-opacity='0.3'  />  <path    fill-rule='evenodd'    clip-rule='evenodd'    d='M213.355 79.2147C213.355 77.2729 214.928 75.6969 216.869 75.6969C218.815 75.6969 220.391 77.2729 220.391 79.2147C220.391 81.1566 218.815 82.7326 216.869 82.7326C214.928 82.7326 213.355 81.1566 213.355 79.2147ZM214.059 79.2147C214.059 80.7696 215.318 82.029 216.873 82.029C218.428 82.029 219.687 80.7696 219.687 79.2147C219.687 77.6599 218.428 76.4005 216.873 76.4005C215.318 76.4005 214.059 77.6599 214.059 79.2147Z'    fill='url(#paint1_linear_4701_363790)'    fill-opacity='0.3'  />  <path d='M118.726 29.5497H197.877V32.7157H118.726V29.5497Z' fill='#D9D8DA' />  <path    d='M198.26 32.252L198.247 32.2045C198.225 32.2242 198.2 32.24 198.171 32.252C198.143 32.2632 198.116 32.2689 198.089 32.2689C198.037 32.2689 197.995 32.2541 197.963 32.2245C197.932 32.195 197.917 32.1556 197.917 32.1063C197.917 32.0726 197.925 32.043 197.942 32.0177C197.959 31.9917 197.983 31.9713 198.015 31.9565C198.047 31.9417 198.084 31.9343 198.127 31.9343C198.161 31.9343 198.198 31.9389 198.239 31.948V31.8953C198.239 31.8629 198.232 31.8407 198.219 31.8288C198.205 31.8168 198.181 31.8108 198.145 31.8108C198.087 31.8108 198.024 31.8217 197.954 31.8436V31.7412C197.98 31.7278 198.013 31.7173 198.052 31.7095C198.091 31.7011 198.132 31.6969 198.172 31.6969C198.245 31.6969 198.298 31.7116 198.331 31.7412C198.364 31.77 198.381 31.8158 198.381 31.8784V32.252H198.26ZM198.132 32.1654C198.15 32.1654 198.168 32.1616 198.186 32.1538C198.205 32.1461 198.223 32.1355 198.239 32.1222V32.0304C198.208 32.0254 198.18 32.023 198.155 32.023C198.094 32.023 198.064 32.0476 198.064 32.0968C198.064 32.1187 198.07 32.1355 198.082 32.1475C198.094 32.1595 198.11 32.1654 198.132 32.1654Z'    fill='#57AEFF'  />  <path    d='M198.847 32.252L198.834 32.2045C198.812 32.2242 198.787 32.24 198.758 32.252C198.73 32.2632 198.702 32.2689 198.676 32.2689C198.624 32.2689 198.582 32.2541 198.55 32.2245C198.519 32.195 198.504 32.1556 198.504 32.1063C198.504 32.0726 198.512 32.043 198.529 32.0177C198.546 31.9917 198.57 31.9713 198.602 31.9565C198.633 31.9417 198.671 31.9343 198.714 31.9343C198.747 31.9343 198.785 31.9389 198.825 31.948V31.8953C198.825 31.8629 198.819 31.8407 198.805 31.8288C198.792 31.8168 198.767 31.8108 198.732 31.8108C198.674 31.8108 198.61 31.8217 198.541 31.8436V31.7412C198.567 31.7278 198.599 31.7173 198.639 31.7095C198.678 31.7011 198.718 31.6969 198.759 31.6969C198.831 31.6969 198.884 31.7116 198.917 31.7412C198.951 31.77 198.968 31.8158 198.968 31.8784V32.252H198.847ZM198.719 32.1654C198.736 32.1654 198.754 32.1616 198.773 32.1538C198.792 32.1461 198.809 32.1355 198.825 32.1222V32.0304C198.795 32.0254 198.767 32.023 198.742 32.023C198.681 32.023 198.65 32.0476 198.65 32.0968C198.65 32.1187 198.656 32.1355 198.668 32.1475C198.68 32.1595 198.697 32.1654 198.719 32.1654Z'    fill='#57AEFF'  />  <path    d='M199.433 32.252L199.421 32.2045C199.399 32.2242 199.373 32.24 199.345 32.252C199.316 32.2632 199.289 32.2689 199.262 32.2689C199.21 32.2689 199.168 32.2541 199.137 32.2245C199.106 32.195 199.09 32.1556 199.09 32.1063C199.09 32.0726 199.099 32.043 199.116 32.0177C199.132 31.9917 199.157 31.9713 199.188 31.9565C199.22 31.9417 199.257 31.9343 199.3 31.9343C199.334 31.9343 199.371 31.9389 199.412 31.948V31.8953C199.412 31.8629 199.405 31.8407 199.392 31.8288C199.379 31.8168 199.354 31.8108 199.318 31.8108C199.261 31.8108 199.197 31.8217 199.127 31.8436V31.7412C199.153 31.7278 199.186 31.7173 199.225 31.7095C199.265 31.7011 199.305 31.6969 199.346 31.6969C199.418 31.6969 199.471 31.7116 199.504 31.7412C199.538 31.77 199.555 31.8158 199.555 31.8784V32.252H199.433ZM199.306 32.1654C199.323 32.1654 199.341 32.1616 199.359 32.1538C199.378 32.1461 199.396 32.1355 199.412 32.1222V32.0304C199.381 32.0254 199.353 32.023 199.329 32.023C199.268 32.023 199.237 32.0476 199.237 32.0968C199.237 32.1187 199.243 32.1355 199.255 32.1475C199.267 32.1595 199.284 32.1654 199.306 32.1654Z'    fill='#57AEFF'  />  <path    d='M200.02 32.252L200.007 32.2045C199.985 32.2242 199.96 32.24 199.931 32.252C199.903 32.2632 199.876 32.2689 199.849 32.2689C199.797 32.2689 199.755 32.2541 199.723 32.2245C199.692 32.195 199.677 32.1556 199.677 32.1063C199.677 32.0726 199.685 32.043 199.702 32.0177C199.719 31.9917 199.743 31.9713 199.775 31.9565C199.807 31.9417 199.844 31.9343 199.887 31.9343C199.921 31.9343 199.958 31.9389 199.999 31.948V31.8953C199.999 31.8629 199.992 31.8407 199.979 31.8288C199.965 31.8168 199.941 31.8108 199.905 31.8108C199.847 31.8108 199.783 31.8217 199.714 31.8436V31.7412C199.74 31.7278 199.773 31.7173 199.812 31.7095C199.851 31.7011 199.891 31.6969 199.932 31.6969C200.005 31.6969 200.058 31.7116 200.091 31.7412C200.124 31.77 200.141 31.8158 200.141 31.8784V32.252H200.02ZM199.892 32.1654C199.91 32.1654 199.928 32.1616 199.946 32.1538C199.965 32.1461 199.983 32.1355 199.999 32.1222V32.0304C199.968 32.0254 199.94 32.023 199.915 32.023C199.854 32.023 199.824 32.0476 199.824 32.0968C199.824 32.1187 199.83 32.1355 199.842 32.1475C199.854 32.1595 199.87 32.1654 199.892 32.1654Z'    fill='#57AEFF'  />  <path    d='M200.607 32.252L200.594 32.2045C200.572 32.2242 200.547 32.24 200.518 32.252C200.49 32.2632 200.462 32.2689 200.436 32.2689C200.384 32.2689 200.342 32.2541 200.31 32.2245C200.279 32.195 200.264 32.1556 200.264 32.1063C200.264 32.0726 200.272 32.043 200.289 32.0177C200.306 31.9917 200.33 31.9713 200.362 31.9565C200.393 31.9417 200.431 31.9343 200.474 31.9343C200.507 31.9343 200.545 31.9389 200.585 31.948V31.8953C200.585 31.8629 200.579 31.8407 200.565 31.8288C200.552 31.8168 200.527 31.8108 200.492 31.8108C200.434 31.8108 200.37 31.8217 200.301 31.8436V31.7412C200.327 31.7278 200.359 31.7173 200.399 31.7095C200.438 31.7011 200.478 31.6969 200.519 31.6969C200.591 31.6969 200.644 31.7116 200.677 31.7412C200.711 31.77 200.728 31.8158 200.728 31.8784V32.252H200.607ZM200.479 32.1654C200.496 32.1654 200.514 32.1616 200.533 32.1538C200.552 32.1461 200.569 32.1355 200.585 32.1222V32.0304C200.554 32.0254 200.527 32.023 200.502 32.023C200.441 32.023 200.41 32.0476 200.41 32.0968C200.41 32.1187 200.416 32.1355 200.428 32.1475C200.44 32.1595 200.457 32.1654 200.479 32.1654Z'    fill='#57AEFF'  />  <path    d='M201.193 32.252L201.181 32.2045C201.159 32.2242 201.133 32.24 201.105 32.252C201.076 32.2632 201.049 32.2689 201.022 32.2689C200.97 32.2689 200.928 32.2541 200.897 32.2245C200.866 32.195 200.85 32.1556 200.85 32.1063C200.85 32.0726 200.859 32.043 200.876 32.0177C200.892 31.9917 200.917 31.9713 200.948 31.9565C200.98 31.9417 201.017 31.9343 201.06 31.9343C201.094 31.9343 201.131 31.9389 201.172 31.948V31.8953C201.172 31.8629 201.165 31.8407 201.152 31.8288C201.139 31.8168 201.114 31.8108 201.078 31.8108C201.021 31.8108 200.957 31.8217 200.887 31.8436V31.7412C200.913 31.7278 200.946 31.7173 200.985 31.7095C201.025 31.7011 201.065 31.6969 201.106 31.6969C201.178 31.6969 201.231 31.7116 201.264 31.7412C201.298 31.77 201.315 31.8158 201.315 31.8784V32.252H201.193ZM201.066 32.1654C201.083 32.1654 201.101 32.1616 201.119 32.1538C201.138 32.1461 201.156 32.1355 201.172 32.1222V32.0304C201.141 32.0254 201.113 32.023 201.089 32.023C201.028 32.023 200.997 32.0476 200.997 32.0968C200.997 32.1187 201.003 32.1355 201.015 32.1475C201.027 32.1595 201.044 32.1654 201.066 32.1654Z'    fill='#57AEFF'  />  <path    d='M201.78 32.252L201.767 32.2045C201.745 32.2242 201.72 32.24 201.691 32.252C201.663 32.2632 201.636 32.2689 201.609 32.2689C201.557 32.2689 201.515 32.2541 201.483 32.2245C201.452 32.195 201.437 32.1556 201.437 32.1063C201.437 32.0726 201.445 32.043 201.462 32.0177C201.479 31.9917 201.503 31.9713 201.535 31.9565C201.567 31.9417 201.604 31.9343 201.647 31.9343C201.681 31.9343 201.718 31.9389 201.759 31.948V31.8953C201.759 31.8629 201.752 31.8407 201.739 31.8288C201.725 31.8168 201.701 31.8108 201.665 31.8108C201.607 31.8108 201.543 31.8217 201.474 31.8436V31.7412C201.5 31.7278 201.533 31.7173 201.572 31.7095C201.611 31.7011 201.651 31.6969 201.692 31.6969C201.765 31.6969 201.818 31.7116 201.851 31.7412C201.884 31.77 201.901 31.8158 201.901 31.8784V32.252H201.78ZM201.652 32.1654C201.67 32.1654 201.688 32.1616 201.706 32.1538C201.725 32.1461 201.743 32.1355 201.759 32.1222V32.0304C201.728 32.0254 201.7 32.023 201.675 32.023C201.614 32.023 201.584 32.0476 201.584 32.0968C201.584 32.1187 201.59 32.1355 201.602 32.1475C201.613 32.1595 201.63 32.1654 201.652 32.1654Z'    fill='#57AEFF'  />  <path    d='M202.367 32.252L202.354 32.2045C202.332 32.2242 202.307 32.24 202.278 32.252C202.25 32.2632 202.222 32.2689 202.196 32.2689C202.144 32.2689 202.102 32.2541 202.07 32.2245C202.039 32.195 202.024 32.1556 202.024 32.1063C202.024 32.0726 202.032 32.043 202.049 32.0177C202.066 31.9917 202.09 31.9713 202.122 31.9565C202.153 31.9417 202.191 31.9343 202.234 31.9343C202.267 31.9343 202.305 31.9389 202.345 31.948V31.8953C202.345 31.8629 202.339 31.8407 202.325 31.8288C202.312 31.8168 202.287 31.8108 202.252 31.8108C202.194 31.8108 202.13 31.8217 202.061 31.8436V31.7412C202.087 31.7278 202.119 31.7173 202.159 31.7095C202.198 31.7011 202.238 31.6969 202.279 31.6969C202.351 31.6969 202.404 31.7116 202.437 31.7412C202.471 31.77 202.488 31.8158 202.488 31.8784V32.252H202.367ZM202.239 32.1654C202.256 32.1654 202.274 32.1616 202.293 32.1538C202.312 32.1461 202.329 32.1355 202.345 32.1222V32.0304C202.314 32.0254 202.287 32.023 202.262 32.023C202.201 32.023 202.17 32.0476 202.17 32.0968C202.17 32.1187 202.176 32.1355 202.188 32.1475C202.2 32.1595 202.217 32.1654 202.239 32.1654Z'    fill='#57AEFF'  />  <path    d='M202.953 32.252L202.941 32.2045C202.919 32.2242 202.893 32.24 202.865 32.252C202.836 32.2632 202.809 32.2689 202.782 32.2689C202.73 32.2689 202.688 32.2541 202.657 32.2245C202.626 32.195 202.61 32.1556 202.61 32.1063C202.61 32.0726 202.619 32.043 202.636 32.0177C202.652 31.9917 202.677 31.9713 202.708 31.9565C202.74 31.9417 202.777 31.9343 202.82 31.9343C202.854 31.9343 202.891 31.9389 202.932 31.948V31.8953C202.932 31.8629 202.925 31.8407 202.912 31.8288C202.899 31.8168 202.874 31.8108 202.838 31.8108C202.78 31.8108 202.717 31.8217 202.647 31.8436V31.7412C202.673 31.7278 202.706 31.7173 202.745 31.7095C202.785 31.7011 202.825 31.6969 202.866 31.6969C202.938 31.6969 202.991 31.7116 203.024 31.7412C203.058 31.77 203.075 31.8158 203.075 31.8784V32.252H202.953ZM202.826 32.1654C202.843 32.1654 202.861 32.1616 202.879 32.1538C202.898 32.1461 202.916 32.1355 202.932 32.1222V32.0304C202.901 32.0254 202.873 32.023 202.849 32.023C202.788 32.023 202.757 32.0476 202.757 32.0968C202.757 32.1187 202.763 32.1355 202.775 32.1475C202.787 32.1595 202.804 32.1654 202.826 32.1654Z'    fill='#57AEFF'  />  <path    d='M203.54 32.252L203.527 32.2045C203.505 32.2242 203.48 32.24 203.451 32.252C203.423 32.2632 203.396 32.2689 203.369 32.2689C203.317 32.2689 203.275 32.2541 203.243 32.2245C203.212 32.195 203.197 32.1556 203.197 32.1063C203.197 32.0726 203.205 32.043 203.222 32.0177C203.239 31.9917 203.263 31.9713 203.295 31.9565C203.327 31.9417 203.364 31.9343 203.407 31.9343C203.441 31.9343 203.478 31.9389 203.519 31.948V31.8953C203.519 31.8629 203.512 31.8407 203.499 31.8288C203.485 31.8168 203.461 31.8108 203.425 31.8108C203.367 31.8108 203.303 31.8217 203.234 31.8436V31.7412C203.26 31.7278 203.293 31.7173 203.332 31.7095C203.371 31.7011 203.411 31.6969 203.452 31.6969C203.525 31.6969 203.578 31.7116 203.611 31.7412C203.644 31.77 203.661 31.8158 203.661 31.8784V32.252H203.54ZM203.412 32.1654C203.43 32.1654 203.448 32.1616 203.466 32.1538C203.485 32.1461 203.503 32.1355 203.519 32.1222V32.0304C203.488 32.0254 203.46 32.023 203.435 32.023C203.374 32.023 203.344 32.0476 203.344 32.0968C203.344 32.1187 203.35 32.1355 203.362 32.1475C203.373 32.1595 203.39 32.1654 203.412 32.1654Z'    fill='#57AEFF'  />  <path    d='M204.127 32.252L204.114 32.2045C204.092 32.2242 204.067 32.24 204.038 32.252C204.01 32.2632 203.982 32.2689 203.956 32.2689C203.904 32.2689 203.862 32.2541 203.83 32.2245C203.799 32.195 203.784 32.1556 203.784 32.1063C203.784 32.0726 203.792 32.043 203.809 32.0177C203.826 31.9917 203.85 31.9713 203.882 31.9565C203.913 31.9417 203.951 31.9343 203.994 31.9343C204.027 31.9343 204.065 31.9389 204.105 31.948V31.8953C204.105 31.8629 204.099 31.8407 204.085 31.8288C204.072 31.8168 204.047 31.8108 204.012 31.8108C203.954 31.8108 203.89 31.8217 203.82 31.8436V31.7412C203.847 31.7278 203.879 31.7173 203.919 31.7095C203.958 31.7011 203.998 31.6969 204.039 31.6969C204.111 31.6969 204.164 31.7116 204.197 31.7412C204.231 31.77 204.248 31.8158 204.248 31.8784V32.252H204.127ZM203.999 32.1654C204.016 32.1654 204.034 32.1616 204.053 32.1538C204.072 32.1461 204.089 32.1355 204.105 32.1222V32.0304C204.074 32.0254 204.047 32.023 204.022 32.023C203.961 32.023 203.93 32.0476 203.93 32.0968C203.93 32.1187 203.936 32.1355 203.948 32.1475C203.96 32.1595 203.977 32.1654 203.999 32.1654Z'    fill='#57AEFF'  />  <path    d='M204.713 32.252L204.701 32.2045C204.679 32.2242 204.653 32.24 204.625 32.252C204.596 32.2632 204.569 32.2689 204.542 32.2689C204.49 32.2689 204.448 32.2541 204.417 32.2245C204.386 32.195 204.37 32.1556 204.37 32.1063C204.37 32.0726 204.379 32.043 204.396 32.0177C204.412 31.9917 204.437 31.9713 204.468 31.9565C204.5 31.9417 204.537 31.9343 204.58 31.9343C204.614 31.9343 204.651 31.9389 204.692 31.948V31.8953C204.692 31.8629 204.685 31.8407 204.672 31.8288C204.659 31.8168 204.634 31.8108 204.598 31.8108C204.54 31.8108 204.477 31.8217 204.407 31.8436V31.7412C204.433 31.7278 204.466 31.7173 204.505 31.7095C204.545 31.7011 204.585 31.6969 204.626 31.6969C204.698 31.6969 204.751 31.7116 204.784 31.7412C204.818 31.77 204.835 31.8158 204.835 31.8784V32.252H204.713ZM204.586 32.1654C204.603 32.1654 204.621 32.1616 204.639 32.1538C204.658 32.1461 204.676 32.1355 204.692 32.1222V32.0304C204.661 32.0254 204.633 32.023 204.609 32.023C204.548 32.023 204.517 32.0476 204.517 32.0968C204.517 32.1187 204.523 32.1355 204.535 32.1475C204.547 32.1595 204.564 32.1654 204.586 32.1654Z'    fill='#57AEFF'  />  <path    d='M205.3 32.252L205.287 32.2045C205.265 32.2242 205.24 32.24 205.211 32.252C205.183 32.2632 205.156 32.2689 205.129 32.2689C205.077 32.2689 205.035 32.2541 205.003 32.2245C204.972 32.195 204.957 32.1556 204.957 32.1063C204.957 32.0726 204.965 32.043 204.982 32.0177C204.999 31.9917 205.023 31.9713 205.055 31.9565C205.087 31.9417 205.124 31.9343 205.167 31.9343C205.201 31.9343 205.238 31.9389 205.279 31.948V31.8953C205.279 31.8629 205.272 31.8407 205.259 31.8288C205.245 31.8168 205.221 31.8108 205.185 31.8108C205.127 31.8108 205.063 31.8217 204.994 31.8436V31.7412C205.02 31.7278 205.053 31.7173 205.092 31.7095C205.131 31.7011 205.171 31.6969 205.212 31.6969C205.285 31.6969 205.338 31.7116 205.371 31.7412C205.404 31.77 205.421 31.8158 205.421 31.8784V32.252H205.3ZM205.172 32.1654C205.19 32.1654 205.208 32.1616 205.226 32.1538C205.245 32.1461 205.263 32.1355 205.279 32.1222V32.0304C205.248 32.0254 205.22 32.023 205.195 32.023C205.134 32.023 205.104 32.0476 205.104 32.0968C205.104 32.1187 205.11 32.1355 205.122 32.1475C205.133 32.1595 205.15 32.1654 205.172 32.1654Z'    fill='#57AEFF'  />  <path    d='M205.887 32.252L205.874 32.2045C205.852 32.2242 205.827 32.24 205.798 32.252C205.77 32.2632 205.742 32.2689 205.716 32.2689C205.664 32.2689 205.622 32.2541 205.59 32.2245C205.559 32.195 205.544 32.1556 205.544 32.1063C205.544 32.0726 205.552 32.043 205.569 32.0177C205.586 31.9917 205.61 31.9713 205.642 31.9565C205.673 31.9417 205.711 31.9343 205.754 31.9343C205.787 31.9343 205.825 31.9389 205.865 31.948V31.8953C205.865 31.8629 205.859 31.8407 205.845 31.8288C205.832 31.8168 205.807 31.8108 205.772 31.8108C205.714 31.8108 205.65 31.8217 205.58 31.8436V31.7412C205.607 31.7278 205.639 31.7173 205.679 31.7095C205.718 31.7011 205.758 31.6969 205.799 31.6969C205.871 31.6969 205.924 31.7116 205.957 31.7412C205.991 31.77 206.008 31.8158 206.008 31.8784V32.252H205.887ZM205.759 32.1654C205.776 32.1654 205.794 32.1616 205.813 32.1538C205.832 32.1461 205.849 32.1355 205.865 32.1222V32.0304C205.834 32.0254 205.807 32.023 205.782 32.023C205.721 32.023 205.69 32.0476 205.69 32.0968C205.69 32.1187 205.696 32.1355 205.708 32.1475C205.72 32.1595 205.737 32.1654 205.759 32.1654Z'    fill='#57AEFF'  />  <path    d='M206.473 32.252L206.461 32.2045C206.439 32.2242 206.413 32.24 206.385 32.252C206.356 32.2632 206.329 32.2689 206.302 32.2689C206.25 32.2689 206.208 32.2541 206.177 32.2245C206.146 32.195 206.13 32.1556 206.13 32.1063C206.13 32.0726 206.139 32.043 206.156 32.0177C206.172 31.9917 206.197 31.9713 206.228 31.9565C206.26 31.9417 206.297 31.9343 206.34 31.9343C206.374 31.9343 206.411 31.9389 206.452 31.948V31.8953C206.452 31.8629 206.445 31.8407 206.432 31.8288C206.419 31.8168 206.394 31.8108 206.358 31.8108C206.3 31.8108 206.237 31.8217 206.167 31.8436V31.7412C206.193 31.7278 206.226 31.7173 206.265 31.7095C206.305 31.7011 206.345 31.6969 206.386 31.6969C206.458 31.6969 206.511 31.7116 206.544 31.7412C206.578 31.77 206.595 31.8158 206.595 31.8784V32.252H206.473ZM206.346 32.1654C206.363 32.1654 206.381 32.1616 206.399 32.1538C206.418 32.1461 206.436 32.1355 206.452 32.1222V32.0304C206.421 32.0254 206.393 32.023 206.369 32.023C206.308 32.023 206.277 32.0476 206.277 32.0968C206.277 32.1187 206.283 32.1355 206.295 32.1475C206.307 32.1595 206.324 32.1654 206.346 32.1654Z'    fill='#57AEFF'  />  <path    d='M207.06 32.252L207.047 32.2045C207.025 32.2242 207 32.24 206.971 32.252C206.943 32.2632 206.916 32.2689 206.889 32.2689C206.837 32.2689 206.795 32.2541 206.763 32.2245C206.732 32.195 206.717 32.1556 206.717 32.1063C206.717 32.0726 206.725 32.043 206.742 32.0177C206.759 31.9917 206.783 31.9713 206.815 31.9565C206.847 31.9417 206.884 31.9343 206.927 31.9343C206.961 31.9343 206.998 31.9389 207.039 31.948V31.8953C207.039 31.8629 207.032 31.8407 207.019 31.8288C207.005 31.8168 206.981 31.8108 206.945 31.8108C206.887 31.8108 206.823 31.8217 206.754 31.8436V31.7412C206.78 31.7278 206.813 31.7173 206.852 31.7095C206.891 31.7011 206.931 31.6969 206.972 31.6969C207.045 31.6969 207.098 31.7116 207.131 31.7412C207.164 31.77 207.181 31.8158 207.181 31.8784V32.252H207.06ZM206.932 32.1654C206.95 32.1654 206.968 32.1616 206.986 32.1538C207.005 32.1461 207.023 32.1355 207.039 32.1222V32.0304C207.008 32.0254 206.98 32.023 206.955 32.023C206.894 32.023 206.864 32.0476 206.864 32.0968C206.864 32.1187 206.87 32.1355 206.882 32.1475C206.893 32.1595 206.91 32.1654 206.932 32.1654Z'    fill='#57AEFF'  />  <path    d='M207.647 32.252L207.634 32.2045C207.612 32.2242 207.587 32.24 207.558 32.252C207.53 32.2632 207.502 32.2689 207.476 32.2689C207.424 32.2689 207.382 32.2541 207.35 32.2245C207.319 32.195 207.304 32.1556 207.304 32.1063C207.304 32.0726 207.312 32.043 207.329 32.0177C207.346 31.9917 207.37 31.9713 207.402 31.9565C207.433 31.9417 207.471 31.9343 207.514 31.9343C207.547 31.9343 207.585 31.9389 207.625 31.948V31.8953C207.625 31.8629 207.619 31.8407 207.605 31.8288C207.592 31.8168 207.567 31.8108 207.531 31.8108C207.474 31.8108 207.41 31.8217 207.34 31.8436V31.7412C207.367 31.7278 207.399 31.7173 207.439 31.7095C207.478 31.7011 207.518 31.6969 207.559 31.6969C207.631 31.6969 207.684 31.7116 207.717 31.7412C207.751 31.77 207.768 31.8158 207.768 31.8784V32.252H207.647ZM207.519 32.1654C207.536 32.1654 207.554 32.1616 207.573 32.1538C207.592 32.1461 207.609 32.1355 207.625 32.1222V32.0304C207.594 32.0254 207.567 32.023 207.542 32.023C207.481 32.023 207.45 32.0476 207.45 32.0968C207.45 32.1187 207.456 32.1355 207.468 32.1475C207.48 32.1595 207.497 32.1654 207.519 32.1654Z'    fill='#57AEFF'  />  <path    d='M208.233 32.252L208.221 32.2045C208.199 32.2242 208.173 32.24 208.145 32.252C208.116 32.2632 208.089 32.2689 208.062 32.2689C208.01 32.2689 207.968 32.2541 207.937 32.2245C207.906 32.195 207.89 32.1556 207.89 32.1063C207.89 32.0726 207.899 32.043 207.916 32.0177C207.932 31.9917 207.957 31.9713 207.988 31.9565C208.02 31.9417 208.057 31.9343 208.1 31.9343C208.134 31.9343 208.171 31.9389 208.212 31.948V31.8953C208.212 31.8629 208.205 31.8407 208.192 31.8288C208.179 31.8168 208.154 31.8108 208.118 31.8108C208.06 31.8108 207.997 31.8217 207.927 31.8436V31.7412C207.953 31.7278 207.986 31.7173 208.025 31.7095C208.065 31.7011 208.105 31.6969 208.146 31.6969C208.218 31.6969 208.271 31.7116 208.304 31.7412C208.338 31.77 208.355 31.8158 208.355 31.8784V32.252H208.233ZM208.105 32.1654C208.123 32.1654 208.141 32.1616 208.159 32.1538C208.178 32.1461 208.196 32.1355 208.212 32.1222V32.0304C208.181 32.0254 208.153 32.023 208.129 32.023C208.068 32.023 208.037 32.0476 208.037 32.0968C208.037 32.1187 208.043 32.1355 208.055 32.1475C208.067 32.1595 208.084 32.1654 208.105 32.1654Z'    fill='#57AEFF'  />  <path    d='M208.82 32.252L208.807 32.2045C208.785 32.2242 208.76 32.24 208.731 32.252C208.703 32.2632 208.676 32.2689 208.649 32.2689C208.597 32.2689 208.555 32.2541 208.523 32.2245C208.492 32.195 208.477 32.1556 208.477 32.1063C208.477 32.0726 208.485 32.043 208.502 32.0177C208.519 31.9917 208.543 31.9713 208.575 31.9565C208.607 31.9417 208.644 31.9343 208.687 31.9343C208.721 31.9343 208.758 31.9389 208.799 31.948V31.8953C208.799 31.8629 208.792 31.8407 208.779 31.8288C208.765 31.8168 208.741 31.8108 208.705 31.8108C208.647 31.8108 208.583 31.8217 208.514 31.8436V31.7412C208.54 31.7278 208.573 31.7173 208.612 31.7095C208.651 31.7011 208.691 31.6969 208.732 31.6969C208.805 31.6969 208.857 31.7116 208.891 31.7412C208.924 31.77 208.941 31.8158 208.941 31.8784V32.252H208.82ZM208.692 32.1654C208.71 32.1654 208.728 32.1616 208.746 32.1538C208.765 32.1461 208.783 32.1355 208.799 32.1222V32.0304C208.768 32.0254 208.74 32.023 208.715 32.023C208.654 32.023 208.624 32.0476 208.624 32.0968C208.624 32.1187 208.63 32.1355 208.642 32.1475C208.653 32.1595 208.67 32.1654 208.692 32.1654Z'    fill='#57AEFF'  />  <path    d='M209.407 32.252L209.394 32.2045C209.372 32.2242 209.347 32.24 209.318 32.252C209.29 32.2632 209.262 32.2689 209.236 32.2689C209.183 32.2689 209.142 32.2541 209.11 32.2245C209.079 32.195 209.064 32.1556 209.064 32.1063C209.064 32.0726 209.072 32.043 209.089 32.0177C209.106 31.9917 209.13 31.9713 209.162 31.9565C209.193 31.9417 209.231 31.9343 209.274 31.9343C209.307 31.9343 209.345 31.9389 209.385 31.948V31.8953C209.385 31.8629 209.379 31.8407 209.365 31.8288C209.352 31.8168 209.327 31.8108 209.291 31.8108C209.234 31.8108 209.17 31.8217 209.1 31.8436V31.7412C209.126 31.7278 209.159 31.7173 209.199 31.7095C209.238 31.7011 209.278 31.6969 209.319 31.6969C209.391 31.6969 209.444 31.7116 209.477 31.7412C209.511 31.77 209.528 31.8158 209.528 31.8784V32.252H209.407ZM209.279 32.1654C209.296 32.1654 209.314 32.1616 209.333 32.1538C209.352 32.1461 209.369 32.1355 209.385 32.1222V32.0304C209.354 32.0254 209.327 32.023 209.302 32.023C209.241 32.023 209.21 32.0476 209.21 32.0968C209.21 32.1187 209.216 32.1355 209.228 32.1475C209.24 32.1595 209.257 32.1654 209.279 32.1654Z'    fill='#57AEFF'  />  <path    d='M209.993 32.252L209.981 32.2045C209.959 32.2242 209.933 32.24 209.905 32.252C209.876 32.2632 209.849 32.2689 209.822 32.2689C209.77 32.2689 209.728 32.2541 209.697 32.2245C209.666 32.195 209.65 32.1556 209.65 32.1063C209.65 32.0726 209.659 32.043 209.676 32.0177C209.692 31.9917 209.717 31.9713 209.748 31.9565C209.78 31.9417 209.817 31.9343 209.86 31.9343C209.894 31.9343 209.931 31.9389 209.972 31.948V31.8953C209.972 31.8629 209.965 31.8407 209.952 31.8288C209.939 31.8168 209.914 31.8108 209.878 31.8108C209.82 31.8108 209.757 31.8217 209.687 31.8436V31.7412C209.713 31.7278 209.746 31.7173 209.785 31.7095C209.825 31.7011 209.865 31.6969 209.906 31.6969C209.978 31.6969 210.031 31.7116 210.064 31.7412C210.098 31.77 210.115 31.8158 210.115 31.8784V32.252H209.993ZM209.865 32.1654C209.883 32.1654 209.901 32.1616 209.919 32.1538C209.938 32.1461 209.956 32.1355 209.972 32.1222V32.0304C209.941 32.0254 209.913 32.023 209.889 32.023C209.827 32.023 209.797 32.0476 209.797 32.0968C209.797 32.1187 209.803 32.1355 209.815 32.1475C209.827 32.1595 209.844 32.1654 209.865 32.1654Z'    fill='#57AEFF'  />  <path    d='M210.58 32.252L210.567 32.2045C210.545 32.2242 210.52 32.24 210.491 32.252C210.463 32.2632 210.436 32.2689 210.409 32.2689C210.357 32.2689 210.315 32.2541 210.283 32.2245C210.252 32.195 210.237 32.1556 210.237 32.1063C210.237 32.0726 210.245 32.043 210.262 32.0177C210.279 31.9917 210.303 31.9713 210.335 31.9565C210.367 31.9417 210.404 31.9343 210.447 31.9343C210.481 31.9343 210.518 31.9389 210.559 31.948V31.8953C210.559 31.8629 210.552 31.8407 210.539 31.8288C210.525 31.8168 210.501 31.8108 210.465 31.8108C210.407 31.8108 210.343 31.8217 210.274 31.8436V31.7412C210.3 31.7278 210.333 31.7173 210.372 31.7095C210.411 31.7011 210.451 31.6969 210.492 31.6969C210.565 31.6969 210.617 31.7116 210.651 31.7412C210.684 31.77 210.701 31.8158 210.701 31.8784V32.252H210.58ZM210.452 32.1654C210.47 32.1654 210.488 32.1616 210.506 32.1538C210.525 32.1461 210.543 32.1355 210.559 32.1222V32.0304C210.528 32.0254 210.5 32.023 210.475 32.023C210.414 32.023 210.384 32.0476 210.384 32.0968C210.384 32.1187 210.39 32.1355 210.401 32.1475C210.413 32.1595 210.43 32.1654 210.452 32.1654Z'    fill='#57AEFF'  />  <path    d='M211.167 32.252L211.154 32.2045C211.132 32.2242 211.107 32.24 211.078 32.252C211.05 32.2632 211.022 32.2689 210.996 32.2689C210.943 32.2689 210.902 32.2541 210.87 32.2245C210.839 32.195 210.824 32.1556 210.824 32.1063C210.824 32.0726 210.832 32.043 210.849 32.0177C210.866 31.9917 210.89 31.9713 210.922 31.9565C210.953 31.9417 210.991 31.9343 211.034 31.9343C211.067 31.9343 211.105 31.9389 211.145 31.948V31.8953C211.145 31.8629 211.139 31.8407 211.125 31.8288C211.112 31.8168 211.087 31.8108 211.051 31.8108C210.994 31.8108 210.93 31.8217 210.86 31.8436V31.7412C210.886 31.7278 210.919 31.7173 210.959 31.7095C210.998 31.7011 211.038 31.6969 211.079 31.6969C211.151 31.6969 211.204 31.7116 211.237 31.7412C211.271 31.77 211.288 31.8158 211.288 31.8784V32.252H211.167ZM211.039 32.1654C211.056 32.1654 211.074 32.1616 211.093 32.1538C211.112 32.1461 211.129 32.1355 211.145 32.1222V32.0304C211.114 32.0254 211.087 32.023 211.062 32.023C211.001 32.023 210.97 32.0476 210.97 32.0968C210.97 32.1187 210.976 32.1355 210.988 32.1475C211 32.1595 211.017 32.1654 211.039 32.1654Z'    fill='#57AEFF'  />  <path    d='M211.753 32.252L211.741 32.2045C211.719 32.2242 211.693 32.24 211.665 32.252C211.636 32.2632 211.609 32.2689 211.582 32.2689C211.53 32.2689 211.488 32.2541 211.457 32.2245C211.426 32.195 211.41 32.1556 211.41 32.1063C211.41 32.0726 211.419 32.043 211.436 32.0177C211.452 31.9917 211.477 31.9713 211.508 31.9565C211.54 31.9417 211.577 31.9343 211.62 31.9343C211.654 31.9343 211.691 31.9389 211.732 31.948V31.8953C211.732 31.8629 211.725 31.8407 211.712 31.8288C211.699 31.8168 211.674 31.8108 211.638 31.8108C211.58 31.8108 211.517 31.8217 211.447 31.8436V31.7412C211.473 31.7278 211.506 31.7173 211.545 31.7095C211.585 31.7011 211.625 31.6969 211.666 31.6969C211.738 31.6969 211.791 31.7116 211.824 31.7412C211.858 31.77 211.875 31.8158 211.875 31.8784V32.252H211.753ZM211.625 32.1654C211.643 32.1654 211.661 32.1616 211.679 32.1538C211.698 32.1461 211.716 32.1355 211.732 32.1222V32.0304C211.701 32.0254 211.673 32.023 211.649 32.023C211.587 32.023 211.557 32.0476 211.557 32.0968C211.557 32.1187 211.563 32.1355 211.575 32.1475C211.587 32.1595 211.604 32.1654 211.625 32.1654Z'    fill='#57AEFF'  />  <path    d='M212.34 32.252L212.327 32.2045C212.305 32.2242 212.28 32.24 212.251 32.252C212.223 32.2632 212.196 32.2689 212.169 32.2689C212.117 32.2689 212.075 32.2541 212.043 32.2245C212.012 32.195 211.997 32.1556 211.997 32.1063C211.997 32.0726 212.005 32.043 212.022 32.0177C212.039 31.9917 212.063 31.9713 212.095 31.9565C212.127 31.9417 212.164 31.9343 212.207 31.9343C212.241 31.9343 212.278 31.9389 212.319 31.948V31.8953C212.319 31.8629 212.312 31.8407 212.299 31.8288C212.285 31.8168 212.261 31.8108 212.225 31.8108C212.167 31.8108 212.103 31.8217 212.034 31.8436V31.7412C212.06 31.7278 212.093 31.7173 212.132 31.7095C212.171 31.7011 212.211 31.6969 212.252 31.6969C212.325 31.6969 212.377 31.7116 212.411 31.7412C212.444 31.77 212.461 31.8158 212.461 31.8784V32.252H212.34ZM212.212 32.1654C212.23 32.1654 212.248 32.1616 212.266 32.1538C212.285 32.1461 212.303 32.1355 212.319 32.1222V32.0304C212.288 32.0254 212.26 32.023 212.235 32.023C212.174 32.023 212.144 32.0476 212.144 32.0968C212.144 32.1187 212.15 32.1355 212.161 32.1475C212.173 32.1595 212.19 32.1654 212.212 32.1654Z'    fill='#57AEFF'  />  <path    d='M212.927 32.252L212.914 32.2045C212.892 32.2242 212.867 32.24 212.838 32.252C212.81 32.2632 212.782 32.2689 212.756 32.2689C212.703 32.2689 212.662 32.2541 212.63 32.2245C212.599 32.195 212.584 32.1556 212.584 32.1063C212.584 32.0726 212.592 32.043 212.609 32.0177C212.626 31.9917 212.65 31.9713 212.682 31.9565C212.713 31.9417 212.751 31.9343 212.794 31.9343C212.827 31.9343 212.865 31.9389 212.905 31.948V31.8953C212.905 31.8629 212.899 31.8407 212.885 31.8288C212.872 31.8168 212.847 31.8108 212.811 31.8108C212.754 31.8108 212.69 31.8217 212.62 31.8436V31.7412C212.646 31.7278 212.679 31.7173 212.719 31.7095C212.758 31.7011 212.798 31.6969 212.839 31.6969C212.911 31.6969 212.964 31.7116 212.997 31.7412C213.031 31.77 213.048 31.8158 213.048 31.8784V32.252H212.927ZM212.799 32.1654C212.816 32.1654 212.834 32.1616 212.853 32.1538C212.872 32.1461 212.889 32.1355 212.905 32.1222V32.0304C212.874 32.0254 212.847 32.023 212.822 32.023C212.761 32.023 212.73 32.0476 212.73 32.0968C212.73 32.1187 212.736 32.1355 212.748 32.1475C212.76 32.1595 212.777 32.1654 212.799 32.1654Z'    fill='#57AEFF'  />  <path    d='M213.513 32.252L213.501 32.2045C213.479 32.2242 213.453 32.24 213.425 32.252C213.396 32.2632 213.369 32.2689 213.342 32.2689C213.29 32.2689 213.248 32.2541 213.217 32.2245C213.186 32.195 213.17 32.1556 213.17 32.1063C213.17 32.0726 213.179 32.043 213.196 32.0177C213.212 31.9917 213.237 31.9713 213.268 31.9565C213.3 31.9417 213.337 31.9343 213.38 31.9343C213.414 31.9343 213.451 31.9389 213.492 31.948V31.8953C213.492 31.8629 213.485 31.8407 213.472 31.8288C213.459 31.8168 213.434 31.8108 213.398 31.8108C213.34 31.8108 213.277 31.8217 213.207 31.8436V31.7412C213.233 31.7278 213.266 31.7173 213.305 31.7095C213.345 31.7011 213.385 31.6969 213.426 31.6969C213.498 31.6969 213.551 31.7116 213.584 31.7412C213.618 31.77 213.635 31.8158 213.635 31.8784V32.252H213.513ZM213.385 32.1654C213.403 32.1654 213.421 32.1616 213.439 32.1538C213.458 32.1461 213.476 32.1355 213.492 32.1222V32.0304C213.461 32.0254 213.433 32.023 213.409 32.023C213.347 32.023 213.317 32.0476 213.317 32.0968C213.317 32.1187 213.323 32.1355 213.335 32.1475C213.347 32.1595 213.364 32.1654 213.385 32.1654Z'    fill='#57AEFF'  />  <path    d='M214.09 32.252L214.077 32.2045C214.056 32.2242 214.03 32.24 214.001 32.252C213.973 32.2632 213.946 32.2689 213.919 32.2689C213.867 32.2689 213.825 32.2541 213.794 32.2245C213.763 32.195 213.747 32.1556 213.747 32.1063C213.747 32.0726 213.756 32.043 213.772 32.0177C213.789 31.9917 213.814 31.9713 213.845 31.9565C213.877 31.9417 213.914 31.9343 213.957 31.9343C213.991 31.9343 214.028 31.9389 214.069 31.948V31.8953C214.069 31.8629 214.062 31.8407 214.049 31.8288C214.036 31.8168 214.011 31.8108 213.975 31.8108C213.917 31.8108 213.854 31.8217 213.784 31.8436V31.7412C213.81 31.7278 213.843 31.7173 213.882 31.7095C213.922 31.7011 213.962 31.6969 214.002 31.6969C214.075 31.6969 214.128 31.7116 214.161 31.7412C214.195 31.77 214.211 31.8158 214.211 31.8784V32.252H214.09ZM213.962 32.1654C213.98 32.1654 213.998 32.1616 214.016 32.1538C214.035 32.1461 214.053 32.1355 214.069 32.1222V32.0304C214.038 32.0254 214.01 32.023 213.986 32.023C213.924 32.023 213.894 32.0476 213.894 32.0968C213.894 32.1187 213.9 32.1355 213.912 32.1475C213.924 32.1595 213.941 32.1654 213.962 32.1654Z'    fill='#7B61FF'  />  <path    d='M214.677 32.252L214.664 32.2045C214.642 32.2242 214.617 32.24 214.588 32.252C214.56 32.2632 214.532 32.2689 214.506 32.2689C214.454 32.2689 214.412 32.2541 214.38 32.2245C214.349 32.195 214.334 32.1556 214.334 32.1063C214.334 32.0726 214.342 32.043 214.359 32.0177C214.376 31.9917 214.4 31.9713 214.432 31.9565C214.464 31.9417 214.501 31.9343 214.544 31.9343C214.578 31.9343 214.615 31.9389 214.656 31.948V31.8953C214.656 31.8629 214.649 31.8407 214.636 31.8288C214.622 31.8168 214.598 31.8108 214.562 31.8108C214.504 31.8108 214.44 31.8217 214.371 31.8436V31.7412C214.397 31.7278 214.429 31.7173 214.469 31.7095C214.508 31.7011 214.548 31.6969 214.589 31.6969C214.662 31.6969 214.714 31.7116 214.747 31.7412C214.781 31.77 214.798 31.8158 214.798 31.8784V32.252H214.677ZM214.549 32.1654C214.567 32.1654 214.585 32.1616 214.603 32.1538C214.622 32.1461 214.639 32.1355 214.656 32.1222V32.0304C214.625 32.0254 214.597 32.023 214.572 32.023C214.511 32.023 214.48 32.0476 214.48 32.0968C214.48 32.1187 214.486 32.1355 214.498 32.1475C214.51 32.1595 214.527 32.1654 214.549 32.1654Z'    fill='#7B61FF'  />  <path    d='M215.263 32.252L215.251 32.2045C215.229 32.2242 215.204 32.24 215.175 32.252C215.147 32.2632 215.119 32.2689 215.092 32.2689C215.04 32.2689 214.998 32.2541 214.967 32.2245C214.936 32.195 214.92 32.1556 214.92 32.1063C214.92 32.0726 214.929 32.043 214.946 32.0177C214.963 31.9917 214.987 31.9713 215.019 31.9565C215.05 31.9417 215.087 31.9343 215.13 31.9343C215.164 31.9343 215.201 31.9389 215.242 31.948V31.8953C215.242 31.8629 215.236 31.8407 215.222 31.8288C215.209 31.8168 215.184 31.8108 215.148 31.8108C215.091 31.8108 215.027 31.8217 214.957 31.8436V31.7412C214.983 31.7278 215.016 31.7173 215.055 31.7095C215.095 31.7011 215.135 31.6969 215.176 31.6969C215.248 31.6969 215.301 31.7116 215.334 31.7412C215.368 31.77 215.385 31.8158 215.385 31.8784V32.252H215.263ZM215.136 32.1654C215.153 32.1654 215.171 32.1616 215.19 32.1538C215.209 32.1461 215.226 32.1355 215.242 32.1222V32.0304C215.211 32.0254 215.184 32.023 215.159 32.023C215.098 32.023 215.067 32.0476 215.067 32.0968C215.067 32.1187 215.073 32.1355 215.085 32.1475C215.097 32.1595 215.114 32.1654 215.136 32.1654Z'    fill='#7B61FF'  />  <path    d='M215.85 32.252L215.837 32.2045C215.816 32.2242 215.79 32.24 215.761 32.252C215.733 32.2632 215.706 32.2689 215.679 32.2689C215.627 32.2689 215.585 32.2541 215.553 32.2245C215.523 32.195 215.507 32.1556 215.507 32.1063C215.507 32.0726 215.515 32.043 215.532 32.0177C215.549 31.9917 215.574 31.9713 215.605 31.9565C215.637 31.9417 215.674 31.9343 215.717 31.9343C215.751 31.9343 215.788 31.9389 215.829 31.948V31.8953C215.829 31.8629 215.822 31.8407 215.809 31.8288C215.796 31.8168 215.771 31.8108 215.735 31.8108C215.677 31.8108 215.614 31.8217 215.544 31.8436V31.7412C215.57 31.7278 215.603 31.7173 215.642 31.7095C215.682 31.7011 215.722 31.6969 215.762 31.6969C215.835 31.6969 215.888 31.7116 215.921 31.7412C215.955 31.77 215.971 31.8158 215.971 31.8784V32.252H215.85ZM215.722 32.1654C215.74 32.1654 215.758 32.1616 215.776 32.1538C215.795 32.1461 215.813 32.1355 215.829 32.1222V32.0304C215.798 32.0254 215.77 32.023 215.746 32.023C215.684 32.023 215.654 32.0476 215.654 32.0968C215.654 32.1187 215.66 32.1355 215.672 32.1475C215.684 32.1595 215.701 32.1654 215.722 32.1654Z'    fill='#7B61FF'  />  <path    d='M216.437 32.252L216.424 32.2045C216.402 32.2242 216.377 32.24 216.348 32.252C216.32 32.2632 216.292 32.2689 216.266 32.2689C216.214 32.2689 216.172 32.2541 216.14 32.2245C216.109 32.195 216.094 32.1556 216.094 32.1063C216.094 32.0726 216.102 32.043 216.119 32.0177C216.136 31.9917 216.16 31.9713 216.192 31.9565C216.224 31.9417 216.261 31.9343 216.304 31.9343C216.338 31.9343 216.375 31.9389 216.416 31.948V31.8953C216.416 31.8629 216.409 31.8407 216.396 31.8288C216.382 31.8168 216.358 31.8108 216.322 31.8108C216.264 31.8108 216.2 31.8217 216.131 31.8436V31.7412C216.157 31.7278 216.189 31.7173 216.229 31.7095C216.268 31.7011 216.308 31.6969 216.349 31.6969C216.422 31.6969 216.474 31.7116 216.507 31.7412C216.541 31.77 216.558 31.8158 216.558 31.8784V32.252H216.437ZM216.309 32.1654C216.327 32.1654 216.345 32.1616 216.363 32.1538C216.382 32.1461 216.399 32.1355 216.416 32.1222V32.0304C216.385 32.0254 216.357 32.023 216.332 32.023C216.271 32.023 216.24 32.0476 216.24 32.0968C216.24 32.1187 216.246 32.1355 216.258 32.1475C216.27 32.1595 216.287 32.1654 216.309 32.1654Z'    fill='#7B61FF'  />  <path    d='M217.023 32.252L217.011 32.2045C216.989 32.2242 216.964 32.24 216.935 32.252C216.907 32.2632 216.879 32.2689 216.852 32.2689C216.8 32.2689 216.758 32.2541 216.727 32.2245C216.696 32.195 216.68 32.1556 216.68 32.1063C216.68 32.0726 216.689 32.043 216.706 32.0177C216.723 31.9917 216.747 31.9713 216.779 31.9565C216.81 31.9417 216.847 31.9343 216.89 31.9343C216.924 31.9343 216.961 31.9389 217.002 31.948V31.8953C217.002 31.8629 216.996 31.8407 216.982 31.8288C216.969 31.8168 216.944 31.8108 216.908 31.8108C216.851 31.8108 216.787 31.8217 216.717 31.8436V31.7412C216.743 31.7278 216.776 31.7173 216.815 31.7095C216.855 31.7011 216.895 31.6969 216.936 31.6969C217.008 31.6969 217.061 31.7116 217.094 31.7412C217.128 31.77 217.145 31.8158 217.145 31.8784V32.252H217.023ZM216.896 32.1654C216.913 32.1654 216.931 32.1616 216.949 32.1538C216.968 32.1461 216.986 32.1355 217.002 32.1222V32.0304C216.971 32.0254 216.944 32.023 216.919 32.023C216.858 32.023 216.827 32.0476 216.827 32.0968C216.827 32.1187 216.833 32.1355 216.845 32.1475C216.857 32.1595 216.874 32.1654 216.896 32.1654Z'    fill='#7B61FF'  />  <path    d='M217.61 32.252L217.597 32.2045C217.576 32.2242 217.55 32.24 217.521 32.252C217.493 32.2632 217.466 32.2689 217.439 32.2689C217.387 32.2689 217.345 32.2541 217.313 32.2245C217.283 32.195 217.267 32.1556 217.267 32.1063C217.267 32.0726 217.276 32.043 217.292 32.0177C217.309 31.9917 217.334 31.9713 217.365 31.9565C217.397 31.9417 217.434 31.9343 217.477 31.9343C217.511 31.9343 217.548 31.9389 217.589 31.948V31.8953C217.589 31.8629 217.582 31.8407 217.569 31.8288C217.556 31.8168 217.531 31.8108 217.495 31.8108C217.437 31.8108 217.374 31.8217 217.304 31.8436V31.7412C217.33 31.7278 217.363 31.7173 217.402 31.7095C217.442 31.7011 217.482 31.6969 217.522 31.6969C217.595 31.6969 217.648 31.7116 217.681 31.7412C217.715 31.77 217.731 31.8158 217.731 31.8784V32.252H217.61ZM217.482 32.1654C217.5 32.1654 217.518 32.1616 217.536 32.1538C217.555 32.1461 217.573 32.1355 217.589 32.1222V32.0304C217.558 32.0254 217.53 32.023 217.506 32.023C217.444 32.023 217.414 32.0476 217.414 32.0968C217.414 32.1187 217.42 32.1355 217.432 32.1475C217.444 32.1595 217.461 32.1654 217.482 32.1654Z'    fill='#7B61FF'  />  <path    d='M218.197 32.252L218.184 32.2045C218.162 32.2242 218.137 32.24 218.108 32.252C218.08 32.2632 218.052 32.2689 218.026 32.2689C217.974 32.2689 217.932 32.2541 217.9 32.2245C217.869 32.195 217.854 32.1556 217.854 32.1063C217.854 32.0726 217.862 32.043 217.879 32.0177C217.896 31.9917 217.92 31.9713 217.952 31.9565C217.984 31.9417 218.021 31.9343 218.064 31.9343C218.098 31.9343 218.135 31.9389 218.176 31.948V31.8953C218.176 31.8629 218.169 31.8407 218.156 31.8288C218.142 31.8168 218.118 31.8108 218.082 31.8108C218.024 31.8108 217.96 31.8217 217.891 31.8436V31.7412C217.917 31.7278 217.949 31.7173 217.989 31.7095C218.028 31.7011 218.068 31.6969 218.109 31.6969C218.182 31.6969 218.234 31.7116 218.267 31.7412C218.301 31.77 218.318 31.8158 218.318 31.8784V32.252H218.197ZM218.069 32.1654C218.087 32.1654 218.105 32.1616 218.123 32.1538C218.142 32.1461 218.159 32.1355 218.176 32.1222V32.0304C218.145 32.0254 218.117 32.023 218.092 32.023C218.031 32.023 218 32.0476 218 32.0968C218 32.1187 218.006 32.1355 218.018 32.1475C218.03 32.1595 218.047 32.1654 218.069 32.1654Z'    fill='#7B61FF'  />  <path    d='M218.783 32.252L218.771 32.2045C218.749 32.2242 218.724 32.24 218.695 32.252C218.667 32.2632 218.639 32.2689 218.612 32.2689C218.56 32.2689 218.518 32.2541 218.487 32.2245C218.456 32.195 218.44 32.1556 218.44 32.1063C218.44 32.0726 218.449 32.043 218.466 32.0177C218.483 31.9917 218.507 31.9713 218.539 31.9565C218.57 31.9417 218.607 31.9343 218.65 31.9343C218.684 31.9343 218.721 31.9389 218.762 31.948V31.8953C218.762 31.8629 218.756 31.8407 218.742 31.8288C218.729 31.8168 218.704 31.8108 218.668 31.8108C218.611 31.8108 218.547 31.8217 218.477 31.8436V31.7412C218.503 31.7278 218.536 31.7173 218.575 31.7095C218.615 31.7011 218.655 31.6969 218.696 31.6969C218.768 31.6969 218.821 31.7116 218.854 31.7412C218.888 31.77 218.905 31.8158 218.905 31.8784V32.252H218.783ZM218.656 32.1654C218.673 32.1654 218.691 32.1616 218.709 32.1538C218.728 32.1461 218.746 32.1355 218.762 32.1222V32.0304C218.731 32.0254 218.704 32.023 218.679 32.023C218.618 32.023 218.587 32.0476 218.587 32.0968C218.587 32.1187 218.593 32.1355 218.605 32.1475C218.617 32.1595 218.634 32.1654 218.656 32.1654Z'    fill='#7B61FF'  />  <path    d='M219.37 32.252L219.357 32.2045C219.336 32.2242 219.31 32.24 219.281 32.252C219.253 32.2632 219.226 32.2689 219.199 32.2689C219.147 32.2689 219.105 32.2541 219.073 32.2245C219.043 32.195 219.027 32.1556 219.027 32.1063C219.027 32.0726 219.035 32.043 219.052 32.0177C219.069 31.9917 219.094 31.9713 219.125 31.9565C219.157 31.9417 219.194 31.9343 219.237 31.9343C219.271 31.9343 219.308 31.9389 219.349 31.948V31.8953C219.349 31.8629 219.342 31.8407 219.329 31.8288C219.316 31.8168 219.291 31.8108 219.255 31.8108C219.197 31.8108 219.134 31.8217 219.064 31.8436V31.7412C219.09 31.7278 219.123 31.7173 219.162 31.7095C219.202 31.7011 219.242 31.6969 219.282 31.6969C219.355 31.6969 219.408 31.7116 219.441 31.7412C219.475 31.77 219.491 31.8158 219.491 31.8784V32.252H219.37ZM219.242 32.1654C219.26 32.1654 219.278 32.1616 219.296 32.1538C219.315 32.1461 219.333 32.1355 219.349 32.1222V32.0304C219.318 32.0254 219.29 32.023 219.266 32.023C219.204 32.023 219.174 32.0476 219.174 32.0968C219.174 32.1187 219.18 32.1355 219.192 32.1475C219.204 32.1595 219.221 32.1654 219.242 32.1654Z'    fill='#7B61FF'  />  <path    d='M118.726 66.023C118.726 65.7315 118.962 65.4953 119.254 65.4953H120.397C120.688 65.4953 120.925 65.7315 120.925 66.023V70.772H118.726V66.023Z'    fill='#D9D8DA'  />  <path    d='M123.035 62.3292C123.035 62.0378 123.272 61.8016 123.563 61.8016H124.706C124.998 61.8016 125.234 62.0378 125.234 62.3293V70.772H123.035V62.3292Z'    fill='#D9D8DA'  />  <path    d='M127.345 56.5249C127.345 56.2334 127.581 55.9972 127.872 55.9972H129.016C129.307 55.9972 129.543 56.2334 129.543 56.5249V70.772H127.345V56.5249Z'    fill='#D9D8DA'  />  <path    d='M131.654 50.7205C131.654 50.4291 131.89 50.1928 132.182 50.1928H133.325C133.616 50.1928 133.853 50.4291 133.853 50.7205V70.772H131.654V50.7205Z'    fill='#D9D8DA'  />  <path    d='M135.963 66.023C135.963 65.7315 136.2 65.4953 136.491 65.4953H137.634C137.926 65.4953 138.162 65.7315 138.162 66.023V70.772H135.963V66.023Z'    fill='#D9D8DA'  />  <path    d='M140.273 69.189C140.273 68.8976 140.509 68.6613 140.8 68.6613H141.944C142.235 68.6613 142.471 68.8976 142.471 69.189V70.772H140.273V69.189Z'    fill='#D9D8DA'  />  <path    d='M144.582 69.189C144.582 68.8976 144.818 68.6613 145.11 68.6613H146.253C146.544 68.6613 146.781 68.8976 146.781 69.189V70.772H144.582V69.189Z'    fill='#D9D8DA'  />  <path    d='M148.891 69.189C148.891 68.8976 149.128 68.6613 149.419 68.6613H150.562C150.854 68.6613 151.09 68.8976 151.09 69.189V70.772H148.891V69.189Z'    fill='#D9D8DA'  />  <path    d='M153.201 62.3292C153.201 62.0378 153.437 61.8016 153.728 61.8016H154.872C155.163 61.8016 155.399 62.0378 155.399 62.3293V70.772H153.201V62.3292Z'    fill='#D9D8DA'  />  <path    d='M157.51 56.5249C157.51 56.2334 157.746 55.9972 158.038 55.9972H159.181C159.472 55.9972 159.709 56.2334 159.709 56.5249V70.772H157.51V56.5249Z'    fill='#D9D8DA'  />  <path    d='M161.819 42.2777C161.819 41.9863 162.056 41.7501 162.347 41.7501H163.49C163.782 41.7501 164.018 41.9863 164.018 42.2777V70.772H161.819V42.2777Z'    fill='#D9D8DA'  />  <path    d='M166.129 37.5287C166.129 37.2373 166.365 37.001 166.656 37.001H167.8C168.091 37.001 168.327 37.2373 168.327 37.5287V70.772H166.129V37.5287Z'    fill='#D9D8DA'  />  <path    d='M170.438 48.0821C170.438 47.7907 170.674 47.5544 170.966 47.5544H172.109C172.4 47.5544 172.637 47.7907 172.637 48.0821V70.772H170.438V48.0821Z'    fill='#D9D8DA'  />  <path    d='M174.747 54.9419C174.747 54.6504 174.983 54.4142 175.275 54.4142H176.418C176.71 54.4142 176.946 54.6504 176.946 54.9418V70.772H174.747V54.9419Z'    fill='#D9D8DA'  />  <path    d='M179.057 50.7205C179.057 50.4291 179.293 50.1928 179.584 50.1928H180.727C181.019 50.1928 181.255 50.4291 181.255 50.7205V70.772H179.057V50.7205Z'    fill='#D9D8DA'  />  <path    d='M183.366 48.0821C183.366 47.7907 183.602 47.5544 183.894 47.5544H185.037C185.328 47.5544 185.564 47.7907 185.564 48.0821V70.772H183.366V48.0821Z'    fill='#D9D8DA'  />  <path    d='M187.675 58.6356C187.675 58.3441 187.911 58.1079 188.203 58.1079H189.346C189.638 58.1079 189.874 58.3441 189.874 58.6356V70.772H187.675V58.6356Z'    fill='#D9D8DA'  />  <path    d='M191.984 56.5249C191.984 56.2334 192.221 55.9972 192.512 55.9972H193.655C193.947 55.9972 194.183 56.2334 194.183 56.5249V70.772H191.984V56.5249Z'    fill='#D9D8DA'  />  <path    d='M196.294 58.6356C196.294 58.3441 196.53 58.1079 196.821 58.1079H197.965C198.256 58.1079 198.492 58.3441 198.492 58.6356V70.772H196.294V58.6356Z'    fill='#D9D8DA'  />  <path    d='M200.603 66.023C200.603 65.7315 200.839 65.4953 201.131 65.4953H202.274C202.566 65.4953 202.802 65.7315 202.802 66.023V70.772H200.603V66.023Z'    fill='#D9D8DA'  />  <path    d='M204.912 62.3292C204.912 62.0378 205.149 61.8016 205.44 61.8016H206.583C206.875 61.8016 207.111 62.0378 207.111 62.3293V70.772H204.912V62.3292Z'    fill='#D9D8DA'  />  <path    d='M209.222 67.606C209.222 67.3145 209.458 67.0783 209.749 67.0783H210.893C211.184 67.0783 211.42 67.3145 211.42 67.606V70.772H209.222V67.606Z'    fill='#D9D8DA'  />  <path    d='M213.531 69.189C213.531 68.8976 213.767 68.6613 214.059 68.6613H215.202C215.493 68.6613 215.73 68.8976 215.73 69.189V70.772H213.531V69.189Z'    fill='#D9D8DA'  />  <path    d='M217.84 69.189C217.84 68.8976 218.077 68.6613 218.368 68.6613H219.511C219.803 68.6613 220.039 68.8976 220.039 69.189V70.772H217.84V69.189Z'    fill='#D9D8DA'  />  <path    d='M118.877 80.287C119.098 80.3605 119.316 80.3972 119.533 80.3972C119.773 80.3972 119.945 80.3373 120.049 80.2173C120.154 80.0935 120.206 79.8923 120.206 79.6137V76.7753H120.798V79.6021C120.798 80.465 120.394 80.8964 119.585 80.8964C119.357 80.8964 119.121 80.8461 118.877 80.7455V80.287Z'    fill='#D9D8DA'  />  <path    d='M123.567 80.7978L123.52 80.4959C123.381 80.6159 123.226 80.7088 123.056 80.7745C122.89 80.8403 122.723 80.8732 122.557 80.8732C122.282 80.8732 122.062 80.7958 121.895 80.641C121.733 80.4824 121.651 80.2715 121.651 80.0084C121.651 79.7259 121.752 79.5014 121.953 79.335C122.154 79.1648 122.425 79.0797 122.766 79.0797C122.99 79.0797 123.234 79.1125 123.497 79.1783V78.7952C123.497 78.5863 123.449 78.4392 123.352 78.3541C123.259 78.269 123.099 78.2264 122.87 78.2264C122.541 78.2264 122.201 78.2864 121.849 78.4063V78C121.988 77.9265 122.158 77.8704 122.36 77.8317C122.561 77.7891 122.764 77.7679 122.969 77.7679C123.337 77.7679 123.607 77.8453 123.782 78C123.956 78.151 124.043 78.3831 124.043 78.6966V80.7978H123.567ZM122.696 80.4379C122.959 80.4379 123.226 80.3392 123.497 80.1419V79.5498C123.296 79.4995 123.091 79.4744 122.882 79.4744C122.445 79.4744 122.226 79.6427 122.226 79.9793C122.226 80.1264 122.267 80.2405 122.348 80.3218C122.429 80.3992 122.545 80.4379 122.696 80.4379Z'    fill='#D9D8DA'  />  <path    d='M127.037 80.7978V78.8301C127.037 78.625 126.994 78.4741 126.909 78.3773C126.828 78.2806 126.698 78.2322 126.52 78.2322C126.214 78.2322 125.914 78.3309 125.62 78.5282V80.7978H125.046V77.8549H125.528L125.586 78.18C125.953 77.9052 126.34 77.7679 126.746 77.7679C127.029 77.7679 127.244 77.8433 127.391 77.9942C127.538 78.1413 127.611 78.356 127.611 78.6385V80.7978H127.037Z'    fill='#D9D8DA'  />  <path    d='M130.232 80.7978V80.345C130.789 79.78 131.196 79.3486 131.451 79.0506C131.71 78.7488 131.888 78.507 131.985 78.3251C132.082 78.1432 132.13 77.971 132.13 77.8085C132.13 77.615 132.07 77.4641 131.95 77.3558C131.834 77.2435 131.675 77.1874 131.474 77.1874C131.13 77.1874 130.753 77.3325 130.342 77.6228V77.1294C130.532 76.9785 130.724 76.8682 130.917 76.7985C131.114 76.725 131.329 76.6882 131.561 76.6882C131.913 76.6882 132.196 76.7869 132.409 76.9843C132.625 77.1816 132.734 77.4428 132.734 77.7679C132.734 77.9846 132.676 78.2051 132.56 78.4296C132.444 78.6501 132.254 78.9075 131.991 79.2015C131.732 79.4956 131.368 79.8671 130.9 80.316H132.92V80.7978H130.232Z'    fill='#D9D8DA'  />  <path    d='M135.093 80.3972C135.398 80.3972 135.623 80.2696 135.766 80.0142C135.909 79.7549 135.981 79.3447 135.981 78.7836C135.981 78.2303 135.909 77.824 135.766 77.5647C135.623 77.3054 135.398 77.1758 135.093 77.1758C134.787 77.1758 134.563 77.3054 134.419 77.5647C134.276 77.824 134.205 78.2303 134.205 78.7836C134.205 79.3409 134.276 79.7491 134.419 80.0084C134.563 80.2676 134.787 80.3972 135.093 80.3972ZM135.093 80.8848C134.617 80.8848 134.251 80.7049 133.996 80.345C133.74 79.9813 133.613 79.4608 133.613 78.7836C133.613 78.1103 133.738 77.5937 133.99 77.2339C134.245 76.8701 134.613 76.6882 135.093 76.6882C135.569 76.6882 135.934 76.8682 136.19 77.2281C136.445 77.5879 136.573 78.1065 136.573 78.7836C136.573 79.4608 136.445 79.9813 136.19 80.345C135.938 80.7049 135.572 80.8848 135.093 80.8848Z'    fill='#D9D8DA'  />  <path    d='M138.659 80.7978V77.3499L137.539 77.7853V77.3209L138.699 76.7753H139.239V80.7978H138.659Z'    fill='#D9D8DA'  />  <path    d='M140.878 80.7978V80.345C141.436 79.78 141.842 79.3486 142.097 79.0506C142.357 78.7488 142.535 78.507 142.631 78.3251C142.728 78.1432 142.776 77.971 142.776 77.8085C142.776 77.615 142.716 77.4641 142.596 77.3558C142.48 77.2435 142.322 77.1874 142.12 77.1874C141.776 77.1874 141.399 77.3325 140.989 77.6228V77.1294C141.178 76.9785 141.37 76.8682 141.563 76.7985C141.761 76.725 141.975 76.6882 142.208 76.6882C142.56 76.6882 142.842 76.7869 143.055 76.9843C143.272 77.1816 143.38 77.4428 143.38 77.7679C143.38 77.9846 143.322 78.2051 143.206 78.4296C143.09 78.6501 142.9 78.9075 142.637 79.2015C142.378 79.4956 142.014 79.8671 141.546 80.316H143.566V80.7978H140.878Z'    fill='#D9D8DA'  />  <path d='M145.705 79.5266V79.0622H148.607V79.5266H145.705Z' fill='#D9D8DA' />  <path    d='M153.475 80.7978L153.104 79.7297H151.449L151.089 80.7978H150.48L151.966 76.7753H152.604L154.09 80.7978H153.475ZM151.6 79.2828H152.953L152.274 77.3093L151.6 79.2828Z'    fill='#D9D8DA'  />  <path    d='M156.726 80.7978L156.662 80.4843C156.302 80.7513 155.933 80.8848 155.553 80.8848C155.279 80.8848 155.068 80.8074 154.921 80.6526C154.774 80.4979 154.7 80.2792 154.7 79.9968V77.8549H155.275V79.811C155.275 80.02 155.315 80.1748 155.397 80.2754C155.478 80.3721 155.607 80.4205 155.785 80.4205C156.064 80.4205 156.345 80.3276 156.627 80.1419V77.8549H157.202V80.7978H156.726Z'    fill='#D9D8DA'  />  <path    d='M160.148 80.3972C160.017 80.5095 159.876 80.5965 159.725 80.6585C159.574 80.7165 159.421 80.7455 159.266 80.7455C159.03 80.7455 158.821 80.6875 158.639 80.5714C158.457 80.4553 158.314 80.287 158.21 80.0664C158.109 79.842 158.059 79.5808 158.059 79.2828C158.059 78.8185 158.169 78.4508 158.39 78.18C158.61 77.9052 158.906 77.7679 159.278 77.7679C159.626 77.7679 159.93 77.8878 160.189 78.1277L160.235 77.8549H160.717V80.6178C160.717 81.0783 160.593 81.4343 160.346 81.6858C160.102 81.9373 159.754 82.0631 159.301 82.0631C158.937 82.0631 158.602 81.9857 158.297 81.8309V81.4188C158.653 81.5388 158.972 81.5988 159.254 81.5988C159.564 81.5988 159.79 81.5233 159.934 81.3724C160.077 81.2253 160.148 80.9874 160.148 80.6585V80.3972ZM159.434 80.2812C159.674 80.2812 159.912 80.1922 160.148 80.0142V78.4876C160.032 78.3986 159.914 78.3348 159.794 78.2961C159.674 78.2535 159.543 78.2322 159.4 78.2322C158.897 78.2322 158.645 78.5747 158.645 79.2596C158.645 79.5962 158.711 79.8516 158.842 80.0258C158.978 80.196 159.175 80.2812 159.434 80.2812Z'    fill='#D9D8DA'  />  <path    d='M163.351 80.7978V80.345C163.908 79.78 164.314 79.3486 164.57 79.0506C164.829 78.7488 165.007 78.507 165.104 78.3251C165.2 78.1432 165.249 77.971 165.249 77.8085C165.249 77.615 165.189 77.4641 165.069 77.3558C164.953 77.2435 164.794 77.1874 164.593 77.1874C164.248 77.1874 163.871 77.3325 163.461 77.6228V77.1294C163.651 76.9785 163.842 76.8682 164.036 76.7985C164.233 76.725 164.448 76.6882 164.68 76.6882C165.032 76.6882 165.314 76.7869 165.527 76.9843C165.744 77.1816 165.852 77.4428 165.852 77.7679C165.852 77.9846 165.794 78.2051 165.678 78.4296C165.562 78.6501 165.373 78.9075 165.109 79.2015C164.85 79.4956 164.486 79.8671 164.018 80.316H166.038V80.7978H163.351Z'    fill='#D9D8DA'  />  <path    d='M168.211 80.3972C168.517 80.3972 168.741 80.2696 168.885 80.0142C169.028 79.7549 169.099 79.3447 169.099 78.7836C169.099 78.2303 169.028 77.824 168.885 77.5647C168.741 77.3054 168.517 77.1758 168.211 77.1758C167.906 77.1758 167.681 77.3054 167.538 77.5647C167.395 77.824 167.323 78.2303 167.323 78.7836C167.323 79.3409 167.395 79.7491 167.538 80.0084C167.681 80.2676 167.906 80.3972 168.211 80.3972ZM168.211 80.8848C167.735 80.8848 167.37 80.7049 167.114 80.345C166.859 79.9813 166.731 79.4608 166.731 78.7836C166.731 78.1103 166.857 77.5937 167.108 77.2339C167.364 76.8701 167.731 76.6882 168.211 76.6882C168.687 76.6882 169.053 76.8682 169.308 77.2281C169.564 77.5879 169.691 78.1065 169.691 78.7836C169.691 79.4608 169.564 79.9813 169.308 80.345C169.057 80.7049 168.691 80.8848 168.211 80.8848Z'    fill='#D9D8DA'  />  <path    d='M171.777 80.7978V77.3499L170.657 77.7853V77.3209L171.818 76.7753H172.358V80.7978H171.777Z'    fill='#D9D8DA'  />  <path    d='M174.061 80.1941C174.378 80.3373 174.67 80.4089 174.937 80.4089C175.309 80.4089 175.589 80.2947 175.779 80.0664C175.972 79.8381 176.083 79.484 176.11 79.0042C175.97 79.0971 175.816 79.1706 175.645 79.2248C175.475 79.2751 175.301 79.3002 175.123 79.3002C174.748 79.3002 174.45 79.188 174.229 78.9636C174.012 78.7391 173.904 78.4315 173.904 78.0407C173.904 77.7814 173.958 77.5512 174.067 77.3499C174.179 77.1449 174.337 76.9843 174.543 76.8682C174.748 76.7482 174.984 76.6882 175.251 76.6882C175.719 76.6882 176.075 76.8527 176.319 77.1816C176.566 77.5105 176.69 77.9904 176.69 78.6211C176.69 79.3486 176.545 79.9077 176.255 80.2986C175.965 80.6894 175.553 80.8848 175.019 80.8848C174.635 80.8848 174.316 80.8016 174.061 80.6352V80.1941ZM175.262 78.8359C175.409 78.8359 175.556 78.8165 175.703 78.7778C175.854 78.7391 175.992 78.685 176.116 78.6153V78.534C176.104 77.6208 175.812 77.1642 175.239 77.1642C175.011 77.1642 174.827 77.2416 174.688 77.3964C174.552 77.5473 174.485 77.7504 174.485 78.0058C174.485 78.2767 174.55 78.4837 174.682 78.6269C174.813 78.7662 175.007 78.8359 175.262 78.8359Z'    fill='#D9D8DA'  />  <path    d='M129.523 11.1451V10.6924L131.752 7.60444H129.651V7.12267H132.396V7.57542L130.162 10.6634H132.396V11.1451H129.523Z'    fill='#D5D7DA'  />  <path    d='M133.125 11.1451V8.20229H133.7V11.1451H133.125ZM133.415 7.6799C133.303 7.6799 133.214 7.64894 133.148 7.58703C133.087 7.52124 133.056 7.43611 133.056 7.33163C133.056 7.22715 133.087 7.14396 133.148 7.08204C133.214 7.01626 133.303 6.98337 133.415 6.98337C133.528 6.98337 133.615 7.01626 133.677 7.08204C133.742 7.14396 133.775 7.22715 133.775 7.33163C133.775 7.43611 133.742 7.52124 133.677 7.58703C133.615 7.64894 133.528 7.6799 133.415 7.6799Z'    fill='#D5D7DA'  />  <path    d='M134.613 12.3408V8.20229H135.095L135.147 8.50412C135.441 8.24486 135.768 8.11522 136.128 8.11522C136.503 8.11522 136.799 8.25259 137.016 8.52734C137.233 8.79821 137.341 9.16775 137.341 9.63597C137.341 10.1119 137.227 10.4931 136.999 10.7794C136.77 11.0658 136.467 11.209 136.087 11.209C135.739 11.209 135.439 11.0948 135.188 10.8665V12.3408H134.613ZM135.966 8.57958C135.691 8.57958 135.432 8.66858 135.188 8.84658V10.466C135.439 10.6517 135.695 10.7446 135.954 10.7446C136.488 10.7446 136.755 10.3847 136.755 9.665C136.755 9.29738 136.689 9.02458 136.558 8.84658C136.43 8.66858 136.233 8.57958 135.966 8.57958Z'    fill='#D5D7DA'  />  <path    d='M141.668 11.0348C141.443 11.1509 141.184 11.209 140.89 11.209C140.434 11.209 140.083 11.0793 139.84 10.8201C139.6 10.5569 139.48 10.1777 139.48 9.68241C139.48 9.19097 139.604 8.81175 139.851 8.54475C140.103 8.27388 140.457 8.13844 140.913 8.13844C141.173 8.13844 141.416 8.19262 141.645 8.30096V8.71308C141.424 8.64342 141.207 8.6086 140.995 8.6086C140.67 8.6086 140.435 8.69179 140.292 8.85819C140.149 9.02071 140.078 9.28191 140.078 9.64178V9.71724C140.078 10.0694 140.149 10.3286 140.292 10.495C140.439 10.6575 140.67 10.7388 140.983 10.7388C141.192 10.7388 141.42 10.7001 141.668 10.6227V11.0348Z'    fill='#D5D7DA'  />  <path    d='M143.506 11.2322C143.065 11.2322 142.721 11.0948 142.473 10.8201C142.226 10.5453 142.102 10.1622 142.102 9.6708C142.102 9.18323 142.226 8.80208 142.473 8.52734C142.721 8.25259 143.065 8.11522 143.506 8.11522C143.948 8.11522 144.292 8.25259 144.54 8.52734C144.787 8.80208 144.911 9.18323 144.911 9.6708C144.911 10.1622 144.787 10.5453 144.54 10.8201C144.292 11.0948 143.948 11.2322 143.506 11.2322ZM143.506 10.7678C144.052 10.7678 144.325 10.4022 144.325 9.6708C144.325 8.94332 144.052 8.57958 143.506 8.57958C142.961 8.57958 142.688 8.94332 142.688 9.6708C142.688 10.4022 142.961 10.7678 143.506 10.7678Z'    fill='#D5D7DA'  />  <path    d='M147.741 11.1451L147.665 10.8433C147.538 10.9594 147.393 11.0503 147.23 11.1161C147.068 11.178 146.903 11.209 146.737 11.209C146.493 11.209 146.278 11.149 146.092 11.029C145.907 10.9091 145.762 10.7349 145.657 10.5066C145.553 10.2745 145.5 10.0017 145.5 9.68821C145.5 9.37478 145.551 9.10004 145.651 8.86399C145.752 8.62795 145.895 8.44414 146.081 8.31257C146.27 8.18101 146.495 8.11522 146.754 8.11522C147.083 8.11522 147.379 8.22357 147.642 8.44027V6.84987H148.217V11.1451H147.741ZM146.911 10.7446C147.151 10.7446 147.395 10.6556 147.642 10.4776V8.83497C147.522 8.74597 147.4 8.68212 147.277 8.64342C147.157 8.60086 147.023 8.57958 146.876 8.57958C146.35 8.57958 146.087 8.94332 146.087 9.6708C146.087 10.3867 146.361 10.7446 146.911 10.7446Z'    fill='#D5D7DA'  />  <path    d='M149.513 9.7985C149.521 10.1313 149.602 10.377 149.757 10.5357C149.915 10.6943 150.159 10.7736 150.488 10.7736C150.794 10.7736 151.105 10.7137 151.423 10.5937V11.0058C151.144 11.1567 150.804 11.2322 150.401 11.2322C149.925 11.2322 149.565 11.1006 149.321 10.8375C149.078 10.5743 148.956 10.1855 148.956 9.6708C148.956 9.17936 149.078 8.79821 149.321 8.52734C149.565 8.25259 149.906 8.11522 150.343 8.11522C150.711 8.11522 150.993 8.2197 151.19 8.42866C151.388 8.63375 151.486 8.9259 151.486 9.30512C151.486 9.48699 151.471 9.65145 151.44 9.7985H149.513ZM150.314 8.55055C150.07 8.55055 149.881 8.62408 149.745 8.77112C149.61 8.91429 149.532 9.12906 149.513 9.41541H150.958C150.962 9.38445 150.964 9.33415 150.964 9.26449C150.964 9.02845 150.908 8.85045 150.796 8.73049C150.687 8.61053 150.527 8.55055 150.314 8.55055Z'    fill='#D5D7DA'  />  <path    d='M120.815 97.1234V100.322H120.269V96.2992H120.913L122.893 99.5148V96.2992H123.438V100.322H122.788L120.815 97.1234Z'    fill='#D5D7DA'  />  <path    d='M124.792 98.975C124.8 99.3078 124.881 99.5535 125.036 99.7121C125.195 99.8708 125.439 99.9501 125.768 99.9501C126.073 99.9501 126.385 99.8901 126.702 99.7702V100.182C126.424 100.333 126.083 100.409 125.681 100.409C125.205 100.409 124.845 100.277 124.601 100.014C124.357 99.7508 124.235 99.3619 124.235 98.8473C124.235 98.3559 124.357 97.9747 124.601 97.7038C124.845 97.4291 125.185 97.2917 125.623 97.2917C125.99 97.2917 126.273 97.3962 126.47 97.6051C126.667 97.8102 126.766 98.1024 126.766 98.4816C126.766 98.6635 126.751 98.8279 126.72 98.975H124.792ZM125.593 97.727C125.35 97.727 125.16 97.8006 125.025 97.9476C124.889 98.0908 124.812 98.3055 124.792 98.5919H126.238C126.242 98.5609 126.244 98.5106 126.244 98.441C126.244 98.2049 126.187 98.0269 126.075 97.907C125.967 97.787 125.806 97.727 125.593 97.727Z'    fill='#D5D7DA'  />  <path    d='M129.905 100.322L129.278 98.0173L128.657 100.322H128.076L127.113 97.3788H127.716L128.378 99.7354L129.005 97.3788H129.58L130.207 99.7644L130.886 97.3788H131.472L130.485 100.322H129.905Z'    fill='#D5D7DA'  />  <path    d='M134.555 100.322V98.8415L133.185 96.2992H133.841L134.857 98.3597L135.89 96.2992H136.529L135.136 98.8531V100.322H134.555Z'    fill='#D5D7DA'  />  <path    d='M138.005 100.409C137.563 100.409 137.219 100.271 136.971 99.9966C136.724 99.7218 136.6 99.3387 136.6 98.8473C136.6 98.3597 136.724 97.9786 136.971 97.7038C137.219 97.4291 137.563 97.2917 138.005 97.2917C138.446 97.2917 138.79 97.4291 139.038 97.7038C139.285 97.9786 139.409 98.3597 139.409 98.8473C139.409 99.3387 139.285 99.7218 139.038 99.9966C138.79 100.271 138.446 100.409 138.005 100.409ZM138.005 99.9443C138.55 99.9443 138.823 99.5786 138.823 98.8473C138.823 98.1198 138.55 97.7561 138.005 97.7561C137.459 97.7561 137.186 98.1198 137.186 98.8473C137.186 99.5786 137.459 99.9443 138.005 99.9443Z'    fill='#D5D7DA'  />  <path    d='M140.149 100.322V97.3788H140.631L140.695 97.8141C140.803 97.698 140.904 97.609 140.997 97.5471C141.09 97.4813 141.185 97.433 141.281 97.402C141.378 97.371 141.483 97.3556 141.595 97.3556C141.668 97.3556 141.748 97.3614 141.833 97.373V97.8954C141.709 97.8799 141.604 97.8721 141.519 97.8721C141.21 97.8721 140.945 97.965 140.724 98.1508V100.322H140.149Z'    fill='#D5D7DA'  />  <path    d='M142.346 100.322V96.0264H142.921V98.6615L144.169 97.3788H144.871L143.478 98.7776L144.964 100.322H144.239L142.921 98.9285V100.322H142.346Z'    fill='#D5D7DA'  />  <path    d='M121.024 113.187C120.706 113.067 120.476 112.922 120.333 112.751C120.19 112.581 120.118 112.366 120.118 112.107C120.118 111.89 120.172 111.699 120.281 111.533C120.389 111.362 120.544 111.229 120.745 111.132C120.95 111.035 121.19 110.987 121.465 110.987C121.813 110.987 122.171 111.057 122.539 111.196V111.666C122.148 111.546 121.803 111.486 121.505 111.486C121.254 111.486 121.058 111.538 120.919 111.643C120.784 111.743 120.716 111.889 120.716 112.078C120.716 112.233 120.762 112.357 120.855 112.45C120.948 112.539 121.12 112.63 121.372 112.722L121.9 112.92C122.213 113.036 122.438 113.177 122.573 113.343C122.713 113.506 122.782 113.717 122.782 113.976C122.782 114.348 122.649 114.644 122.382 114.864C122.119 115.085 121.763 115.195 121.314 115.195C120.869 115.195 120.482 115.116 120.153 114.957V114.493C120.559 114.628 120.942 114.696 121.302 114.696C121.577 114.696 121.792 114.636 121.946 114.516C122.105 114.396 122.184 114.233 122.184 114.028C122.184 113.885 122.138 113.767 122.045 113.674C121.956 113.578 121.803 113.487 121.587 113.402L121.024 113.187Z'    fill='#D5D7DA'  />  <path    d='M123.959 113.75C123.967 114.083 124.048 114.328 124.203 114.487C124.362 114.646 124.605 114.725 124.934 114.725C125.24 114.725 125.552 114.665 125.869 114.545V114.957C125.59 115.108 125.25 115.183 124.847 115.183C124.371 115.183 124.011 115.052 123.768 114.789C123.524 114.526 123.402 114.137 123.402 113.622C123.402 113.131 123.524 112.749 123.768 112.479C124.011 112.204 124.352 112.067 124.789 112.067C125.157 112.067 125.439 112.171 125.637 112.38C125.834 112.585 125.933 112.877 125.933 113.256C125.933 113.438 125.917 113.603 125.886 113.75H123.959ZM124.76 112.502C124.516 112.502 124.327 112.575 124.191 112.722C124.056 112.866 123.979 113.08 123.959 113.367H125.405C125.408 113.336 125.41 113.285 125.41 113.216C125.41 112.98 125.354 112.802 125.242 112.682C125.134 112.562 124.973 112.502 124.76 112.502Z'    fill='#D5D7DA'  />  <path    d='M128.387 115.096L128.34 114.795C128.201 114.915 128.046 115.007 127.876 115.073C127.709 115.139 127.543 115.172 127.377 115.172C127.102 115.172 126.881 115.094 126.715 114.94C126.552 114.781 126.471 114.57 126.471 114.307C126.471 114.025 126.572 113.8 126.773 113.634C126.974 113.463 127.245 113.378 127.586 113.378C127.81 113.378 128.054 113.411 128.317 113.477V113.094C128.317 112.885 128.269 112.738 128.172 112.653C128.079 112.568 127.918 112.525 127.69 112.525C127.361 112.525 127.021 112.585 126.668 112.705V112.299C126.808 112.225 126.978 112.169 127.179 112.13C127.38 112.088 127.584 112.067 127.789 112.067C128.156 112.067 128.427 112.144 128.601 112.299C128.775 112.45 128.863 112.682 128.863 112.995V115.096H128.387ZM127.516 114.737C127.779 114.737 128.046 114.638 128.317 114.441V113.848C128.116 113.798 127.911 113.773 127.702 113.773C127.264 113.773 127.046 113.941 127.046 114.278C127.046 114.425 127.086 114.539 127.168 114.62C127.249 114.698 127.365 114.737 127.516 114.737Z'    fill='#D5D7DA'  />  <path    d='M131.404 115.027C131.214 115.1 130.999 115.137 130.759 115.137C130.21 115.137 129.935 114.862 129.935 114.313V112.606H129.401V112.235L129.953 112.165L130.04 111.329H130.51V112.154H131.38V112.606H130.51V114.284C130.51 114.427 130.541 114.528 130.603 114.586C130.668 114.644 130.779 114.673 130.934 114.673C131.092 114.673 131.249 114.653 131.404 114.615V115.027Z'    fill='#D5D7DA'  />  <path    d='M133.714 115.027C133.524 115.1 133.31 115.137 133.07 115.137C132.52 115.137 132.245 114.862 132.245 114.313V112.606H131.711V112.235L132.263 112.165L132.35 111.329H132.82V112.154H133.691V112.606H132.82V114.284C132.82 114.427 132.851 114.528 132.913 114.586C132.979 114.644 133.089 114.673 133.244 114.673C133.402 114.673 133.559 114.653 133.714 114.615V115.027Z'    fill='#D5D7DA'  />  <path    d='M135.364 115.056C135.236 115.102 135.097 115.125 134.946 115.125C134.741 115.125 134.584 115.067 134.476 114.951C134.368 114.831 134.313 114.661 134.313 114.441V110.801H134.888V114.406C134.888 114.495 134.905 114.56 134.94 114.603C134.979 114.642 135.041 114.661 135.126 114.661C135.203 114.661 135.283 114.655 135.364 114.644V115.056Z'    fill='#D5D7DA'  />  <path    d='M136.407 113.75C136.414 114.083 136.496 114.328 136.65 114.487C136.809 114.646 137.053 114.725 137.382 114.725C137.687 114.725 137.999 114.665 138.316 114.545V114.957C138.038 115.108 137.697 115.183 137.295 115.183C136.819 115.183 136.459 115.052 136.215 114.789C135.971 114.526 135.849 114.137 135.849 113.622C135.849 113.131 135.971 112.749 136.215 112.479C136.459 112.204 136.799 112.067 137.237 112.067C137.604 112.067 137.887 112.171 138.084 112.38C138.281 112.585 138.38 112.877 138.38 113.256C138.38 113.438 138.365 113.603 138.334 113.75H136.407ZM137.208 112.502C136.964 112.502 136.774 112.575 136.639 112.722C136.503 112.866 136.426 113.08 136.407 113.367H137.852C137.856 113.336 137.858 113.285 137.858 113.216C137.858 112.98 137.802 112.802 137.689 112.682C137.581 112.562 137.42 112.502 137.208 112.502Z'    fill='#D5D7DA'  />  <path    d='M120.234 129.268C120.551 129.411 120.844 129.482 121.111 129.482C121.482 129.482 121.763 129.368 121.952 129.14C122.146 128.912 122.256 128.557 122.283 128.078C122.144 128.171 121.989 128.244 121.819 128.298C121.649 128.349 121.474 128.374 121.296 128.374C120.921 128.374 120.623 128.261 120.403 128.037C120.186 127.813 120.077 127.505 120.077 127.114C120.077 126.855 120.132 126.625 120.24 126.423C120.352 126.218 120.511 126.058 120.716 125.942C120.921 125.822 121.157 125.762 121.424 125.762C121.892 125.762 122.248 125.926 122.492 126.255C122.74 126.584 122.864 127.064 122.864 127.695C122.864 128.422 122.718 128.981 122.428 129.372C122.138 129.763 121.726 129.958 121.192 129.958C120.809 129.958 120.49 129.875 120.234 129.709V129.268ZM121.436 127.909C121.583 127.909 121.73 127.89 121.877 127.851C122.028 127.813 122.165 127.758 122.289 127.689V127.607C122.277 126.694 121.985 126.238 121.412 126.238C121.184 126.238 121 126.315 120.861 126.47C120.726 126.621 120.658 126.824 120.658 127.079C120.658 127.35 120.724 127.557 120.855 127.7C120.987 127.84 121.18 127.909 121.436 127.909Z'    fill='#D5D7DA'  />  <path    d='M124.915 129.471C125.22 129.471 125.445 129.343 125.588 129.088C125.731 128.828 125.803 128.418 125.803 127.857C125.803 127.304 125.731 126.897 125.588 126.638C125.445 126.379 125.22 126.249 124.915 126.249C124.609 126.249 124.385 126.379 124.241 126.638C124.098 126.897 124.027 127.304 124.027 127.857C124.027 128.414 124.098 128.823 124.241 129.082C124.385 129.341 124.609 129.471 124.915 129.471ZM124.915 129.958C124.439 129.958 124.073 129.778 123.818 129.418C123.562 129.055 123.435 128.534 123.435 127.857C123.435 127.184 123.56 126.667 123.812 126.307C124.067 125.944 124.435 125.762 124.915 125.762C125.391 125.762 125.756 125.942 126.012 126.302C126.267 126.661 126.395 127.18 126.395 127.857C126.395 128.534 126.267 129.055 126.012 129.418C125.76 129.778 125.395 129.958 124.915 129.958Z'    fill='#D5D7DA'  />  <path    d='M128.347 129.471C128.653 129.471 128.878 129.343 129.021 129.088C129.164 128.828 129.236 128.418 129.236 127.857C129.236 127.304 129.164 126.897 129.021 126.638C128.878 126.379 128.653 126.249 128.347 126.249C128.042 126.249 127.817 126.379 127.674 126.638C127.531 126.897 127.459 127.304 127.459 127.857C127.459 128.414 127.531 128.823 127.674 129.082C127.817 129.341 128.042 129.471 128.347 129.471ZM128.347 129.958C127.871 129.958 127.506 129.778 127.25 129.418C126.995 129.055 126.867 128.534 126.867 127.857C126.867 127.184 126.993 126.667 127.245 126.307C127.5 125.944 127.868 125.762 128.347 125.762C128.823 125.762 129.189 125.942 129.444 126.302C129.7 126.661 129.828 127.18 129.828 127.857C129.828 128.534 129.7 129.055 129.444 129.418C129.193 129.778 128.827 129.958 128.347 129.958Z'    fill='#D5D7DA'  />  <path    d='M132.181 129.871V129.006H130.254V128.559L132.163 125.849H132.72V128.536H133.283V129.006H132.72V129.871H132.181ZM132.181 128.536V126.609L130.834 128.536H132.181Z'    fill='#D5D7DA'  />  <path    d='M133.965 129.268C134.282 129.411 134.574 129.482 134.841 129.482C135.213 129.482 135.493 129.368 135.683 129.14C135.876 128.912 135.987 128.557 136.014 128.078C135.875 128.171 135.72 128.244 135.549 128.298C135.379 128.349 135.205 128.374 135.027 128.374C134.652 128.374 134.354 128.261 134.133 128.037C133.916 127.813 133.808 127.505 133.808 127.114C133.808 126.855 133.862 126.625 133.971 126.423C134.083 126.218 134.242 126.058 134.447 125.942C134.652 125.822 134.888 125.762 135.155 125.762C135.623 125.762 135.979 125.926 136.223 126.255C136.47 126.584 136.594 127.064 136.594 127.695C136.594 128.422 136.449 128.981 136.159 129.372C135.869 129.763 135.457 129.958 134.923 129.958C134.539 129.958 134.22 129.875 133.965 129.709V129.268ZM135.166 127.909C135.313 127.909 135.46 127.89 135.607 127.851C135.758 127.813 135.896 127.758 136.02 127.689V127.607C136.008 126.694 135.716 126.238 135.143 126.238C134.915 126.238 134.731 126.315 134.592 126.47C134.456 126.621 134.389 126.824 134.389 127.079C134.389 127.35 134.454 127.557 134.586 127.7C134.717 127.84 134.911 127.909 135.166 127.909Z'    fill='#D5D7DA'  />  <path    d='M120.234 144.042C120.551 144.186 120.844 144.257 121.111 144.257C121.482 144.257 121.763 144.143 121.952 143.915C122.146 143.686 122.256 143.332 122.283 142.852C122.144 142.945 121.989 143.019 121.819 143.073C121.649 143.123 121.474 143.148 121.296 143.148C120.921 143.148 120.623 143.036 120.403 142.812C120.186 142.587 120.077 142.28 120.077 141.889C120.077 141.63 120.132 141.399 120.24 141.198C120.352 140.993 120.511 140.833 120.716 140.716C120.921 140.596 121.157 140.537 121.424 140.537C121.892 140.537 122.248 140.701 122.492 141.03C122.74 141.359 122.864 141.839 122.864 142.469C122.864 143.197 122.718 143.756 122.428 144.147C122.138 144.538 121.726 144.733 121.192 144.733C120.809 144.733 120.49 144.65 120.234 144.483V144.042ZM121.436 142.684C121.583 142.684 121.73 142.665 121.877 142.626C122.028 142.587 122.165 142.533 122.289 142.464V142.382C122.277 141.469 121.985 141.012 121.412 141.012C121.184 141.012 121 141.09 120.861 141.245C120.726 141.396 120.658 141.599 120.658 141.854C120.658 142.125 120.724 142.332 120.855 142.475C120.987 142.614 121.18 142.684 121.436 142.684Z'    fill='#D5D7DA'  />  <path    d='M123.609 144.037C124.038 144.176 124.406 144.246 124.712 144.246C125.006 144.246 125.23 144.18 125.385 144.048C125.544 143.913 125.623 143.719 125.623 143.468C125.623 143.193 125.549 142.994 125.402 142.87C125.255 142.746 125.015 142.684 124.683 142.684C124.443 142.684 124.143 142.703 123.783 142.742V142.359L123.893 140.624H126.012V141.1H124.381L124.305 142.278C124.518 142.239 124.71 142.22 124.88 142.22C125.298 142.22 125.625 142.33 125.861 142.551C126.097 142.771 126.215 143.075 126.215 143.462C126.215 143.841 126.078 144.149 125.803 144.385C125.528 144.617 125.166 144.733 124.717 144.733C124.323 144.733 123.953 144.656 123.609 144.501V144.037Z'    fill='#D5D7DA'  />  <path    d='M128.365 144.646V141.198L127.245 141.634V141.169L128.406 140.624H128.945V144.646H128.365Z'    fill='#D5D7DA'  />  <path    d='M131.67 142.347C131.689 142.344 131.709 142.342 131.728 142.342C131.747 142.342 131.767 142.342 131.786 142.342C132.169 142.342 132.473 142.446 132.697 142.655C132.922 142.86 133.034 143.137 133.034 143.485C133.034 143.864 132.897 144.168 132.622 144.396C132.351 144.621 131.985 144.733 131.525 144.733C131.161 144.733 130.801 144.656 130.445 144.501V144.037C130.867 144.176 131.227 144.246 131.525 144.246C131.819 144.246 132.045 144.18 132.204 144.048C132.363 143.917 132.442 143.729 132.442 143.485C132.442 143.017 132.146 142.783 131.554 142.783C131.368 142.783 131.184 142.792 131.002 142.812V142.429L132.221 141.1H130.503V140.624H132.866V141.082L131.67 142.347Z'    fill='#D5D7DA'  />  <path    d='M135.23 144.646V141.198L134.11 141.634V141.169L135.271 140.624H135.811V144.646H135.23Z'    fill='#D5D7DA'  />  <path    d='M120.269 159.421V155.398H121.592C122.184 155.398 122.635 155.571 122.945 155.915C123.258 156.255 123.415 156.755 123.415 157.412C123.415 158.063 123.256 158.56 122.939 158.904C122.622 159.249 122.167 159.421 121.575 159.421H120.269ZM120.861 155.863V158.956H121.511C122.374 158.956 122.806 158.463 122.806 157.476V157.343C122.806 156.851 122.697 156.482 122.48 156.234C122.264 155.987 121.941 155.863 121.511 155.863H120.861Z'    fill='#D5D7DA'  />  <path    d='M125.98 159.421L125.933 159.119C125.794 159.239 125.639 159.332 125.469 159.398C125.303 159.463 125.136 159.496 124.97 159.496C124.695 159.496 124.475 159.419 124.308 159.264C124.146 159.105 124.064 158.895 124.064 158.631C124.064 158.349 124.165 158.124 124.366 157.958C124.567 157.788 124.838 157.703 125.179 157.703C125.403 157.703 125.647 157.736 125.91 157.801V157.418C125.91 157.209 125.862 157.062 125.765 156.977C125.672 156.892 125.512 156.849 125.283 156.849C124.954 156.849 124.614 156.909 124.262 157.029V156.623C124.401 156.55 124.571 156.493 124.773 156.455C124.974 156.412 125.177 156.391 125.382 156.391C125.75 156.391 126.02 156.468 126.195 156.623C126.369 156.774 126.456 157.006 126.456 157.32V159.421H125.98ZM125.109 159.061C125.372 159.061 125.639 158.962 125.91 158.765V158.173C125.709 158.123 125.504 158.097 125.295 158.097C124.858 158.097 124.639 158.266 124.639 158.602C124.639 158.749 124.68 158.864 124.761 158.945C124.842 159.022 124.958 159.061 125.109 159.061Z'    fill='#D5D7DA'  />  <path    d='M128.393 159.38C128.266 159.427 128.126 159.45 127.975 159.45C127.77 159.45 127.614 159.392 127.505 159.276C127.397 159.156 127.343 158.985 127.343 158.765V155.126H127.917V158.73C127.917 158.819 127.935 158.885 127.97 158.927C128.008 158.966 128.07 158.985 128.155 158.985C128.233 158.985 128.312 158.98 128.393 158.968V159.38Z'    fill='#D5D7DA'  />  <path    d='M130.08 159.38C129.952 159.427 129.813 159.45 129.662 159.45C129.457 159.45 129.3 159.392 129.192 159.276C129.084 159.156 129.03 158.985 129.03 158.765V155.126H129.604V158.73C129.604 158.819 129.622 158.885 129.656 158.927C129.695 158.966 129.757 158.985 129.842 158.985C129.92 158.985 129.999 158.98 130.08 158.968V159.38Z'    fill='#D5D7DA'  />  <path    d='M132.446 159.421L132.4 159.119C132.26 159.239 132.106 159.332 131.935 159.398C131.769 159.463 131.602 159.496 131.436 159.496C131.161 159.496 130.941 159.419 130.774 159.264C130.612 159.105 130.531 158.895 130.531 158.631C130.531 158.349 130.631 158.124 130.832 157.958C131.034 157.788 131.305 157.703 131.645 157.703C131.869 157.703 132.113 157.736 132.376 157.801V157.418C132.376 157.209 132.328 157.062 132.231 156.977C132.138 156.892 131.978 156.849 131.75 156.849C131.421 156.849 131.08 156.909 130.728 157.029V156.623C130.867 156.55 131.038 156.493 131.239 156.455C131.44 156.412 131.643 156.391 131.848 156.391C132.216 156.391 132.487 156.468 132.661 156.623C132.835 156.774 132.922 157.006 132.922 157.32V159.421H132.446ZM131.575 159.061C131.839 159.061 132.106 158.962 132.376 158.765V158.173C132.175 158.123 131.97 158.097 131.761 158.097C131.324 158.097 131.105 158.266 131.105 158.602C131.105 158.749 131.146 158.864 131.227 158.945C131.308 159.022 131.424 159.061 131.575 159.061Z'    fill='#D5D7DA'  />  <path    d='M135.19 158.631C135.19 158.539 135.159 158.463 135.097 158.405C135.039 158.347 134.931 158.289 134.772 158.231L134.279 158.045C133.85 157.887 133.635 157.616 133.635 157.233C133.635 156.981 133.732 156.778 133.925 156.623C134.122 156.468 134.38 156.391 134.697 156.391C135.003 156.391 135.291 156.453 135.562 156.577V156.983C135.26 156.886 134.981 156.838 134.726 156.838C134.355 156.838 134.169 156.964 134.169 157.215C134.169 157.316 134.2 157.395 134.262 157.453C134.324 157.511 134.445 157.575 134.627 157.645L135.08 157.819C135.308 157.908 135.473 158.014 135.573 158.138C135.674 158.258 135.724 158.415 135.724 158.608C135.724 158.883 135.622 159.102 135.417 159.264C135.212 159.427 134.939 159.508 134.598 159.508C134.215 159.508 133.882 159.434 133.6 159.287V158.881C133.964 159.001 134.3 159.061 134.61 159.061C134.8 159.061 134.943 159.024 135.039 158.951C135.14 158.877 135.19 158.771 135.19 158.631Z'    fill='#D5D7DA'  />  <path    d='M120.617 174.196L122.225 170.649H120.083V170.173H122.811V170.632L121.238 174.196H120.617Z'    fill='#D5D7DA'  />  <path    d='M125.315 174.196V173.331H123.388V172.884L125.298 170.173H125.855V172.861H126.418V173.331H125.855V174.196H125.315ZM125.315 172.861V170.934L123.969 172.861H125.315Z'    fill='#D5D7DA'  />  <path    d='M127.036 174.196V173.743C127.593 173.178 127.999 172.746 128.255 172.448C128.514 172.147 128.692 171.905 128.789 171.723C128.885 171.541 128.934 171.369 128.934 171.206C128.934 171.013 128.874 170.862 128.754 170.754C128.638 170.641 128.479 170.585 128.278 170.585C127.933 170.585 127.556 170.73 127.146 171.021V170.527C127.336 170.376 127.527 170.266 127.721 170.196C127.918 170.123 128.133 170.086 128.365 170.086C128.717 170.086 128.999 170.185 129.212 170.382C129.429 170.579 129.537 170.841 129.537 171.166C129.537 171.382 129.479 171.603 129.363 171.827C129.247 172.048 129.058 172.305 128.794 172.599C128.535 172.893 128.171 173.265 127.703 173.714H129.723V174.196H127.036Z'    fill='#D5D7DA'  />  <path    d='M131.798 174.196V170.748L130.677 171.183V170.719L131.838 170.173H132.378V174.196H131.798Z'    fill='#D5D7DA'  />  <path    d='M135.613 174.196V173.331H133.686V172.884L135.596 170.173H136.153V172.861H136.716V173.331H136.153V174.196H135.613ZM135.613 172.861V170.934L134.267 172.861H135.613Z'    fill='#D5D7DA'  />  <path    d='M205.109 10.6174L207.531 8.19543C207.736 7.98964 207.736 7.65721 207.531 7.45141C207.325 7.24562 206.992 7.24562 206.787 7.45141L204.734 9.49878L202.687 7.45141C202.481 7.24562 202.148 7.24562 201.943 7.45141C201.737 7.65721 201.737 7.98964 201.943 8.19543L204.365 10.6174C204.565 10.8232 204.903 10.8232 205.109 10.6174Z'    fill='#D5D7DA'  />  <path    fill-rule='evenodd'    clip-rule='evenodd'    d='M217.752 5.88951C219.219 6.05133 220.384 7.21572 220.546 8.68265H221.27V9.38621H220.546C220.384 10.8531 219.219 12.0175 217.752 12.1794V12.904H217.049V12.1794C215.582 12.0175 214.418 10.8531 214.256 9.38621H213.531V8.68265H214.256C214.418 7.21572 215.582 6.05133 217.049 5.88951V5.16484H217.752V5.88951ZM214.938 9.03443C214.938 10.3958 216.039 11.4969 217.401 11.4969C218.762 11.4969 219.863 10.3958 219.863 9.03443C219.863 7.67304 218.762 6.57197 217.401 6.57197C216.039 6.57197 214.938 7.67304 214.938 9.03443Z'    fill='#00B0E6'  />  <path    fill-rule='evenodd'    clip-rule='evenodd'    d='M117.078 11.4069C116.873 11.7587 117.127 12.2005 117.534 12.2005H123.084C123.491 12.2005 123.745 11.7587 123.54 11.4069L120.765 6.64976C120.561 6.3007 120.057 6.3007 119.853 6.64976L117.078 11.4069Z'    fill='#FFF500'  />  <path d='M119.781 9.5621H120.837V11.6728H119.781V9.5621Z' fill='#3D4550' />  <path    d='M120.837 8.50676C120.837 8.79818 120.601 9.03443 120.309 9.03443C120.018 9.03443 119.781 8.79818 119.781 8.50676C119.781 8.21533 120.018 7.97909 120.309 7.97909C120.601 7.97909 120.837 8.21533 120.837 8.50676Z'    fill='#3D4550'  />  <path    d='M2.13871e-06 179.472H112.922V180H2.13871e-06V179.472Z'    fill='#616161'  />  <path    d='M2.13871e-06 164.698H112.922V165.225H2.13871e-06V164.698Z'    fill='#616161'  />  <path    d='M2.13871e-06 149.923H112.922V150.45H2.13871e-06V149.923Z'    fill='#616161'  />  <path    d='M2.13871e-06 135.148H112.922V135.676H2.13871e-06V135.148Z'    fill='#616161'  />  <path    d='M2.13871e-06 120.373H112.922V120.901H2.13871e-06V120.373Z'    fill='#616161'  />  <path    d='M2.13871e-06 105.598H112.922V106.126H2.13871e-06V105.598Z'    fill='#616161'  />  <path    d='M2.13871e-06 90.8235H112.922V91.3512H2.13871e-06V90.8235Z'    fill='#616161'  />  <path    d='M2.13871e-06 1.11936H112.394V16.9495H2.13871e-06V1.11936Z'    fill='#616161'    fill-opacity='0.3'  />  <path    d='M2.13871e-06 16.9495H112.922V17.4772H2.13871e-06V16.9495Z'    fill='#616161'  />  <path    d='M2.13871e-06 0.591684H112.394V1.11936H2.13871e-06V0.591684Z'    fill='#616161'  />  <path    d='M0.527674 1.05546L0.527676 179.936H2.11467e-06L0 1.05546H0.527674Z'    fill='#616161'  />  <path d='M410.001 1.05546V179.936H409.473V1.05546H410.001Z' fill='#616161' />  <path    d='M4.70894 11.1451V7.12267H7.21063V7.59863H5.30099V8.83497H6.903V9.31093H5.30099V10.6692H7.21063V11.1451H4.70894Z'    fill='#D5D7DA'  />  <path    d='M11.6974 11.1451V9.14841C11.6974 8.95493 11.6607 8.81175 11.5871 8.71888C11.5136 8.62601 11.3975 8.57958 11.2389 8.57958C10.9564 8.57958 10.672 8.66664 10.3856 8.84077C10.3895 8.86786 10.3914 8.89688 10.3914 8.92784C10.3914 8.9588 10.3914 8.98975 10.3914 9.02071V11.1451H9.81681V9.14841C9.81681 8.95493 9.78005 8.81175 9.70653 8.71888C9.63301 8.62601 9.51692 8.57958 9.35826 8.57958C9.06418 8.57958 8.7817 8.66471 8.51082 8.83497V11.1451H7.93619V8.20229H8.41795L8.476 8.49831C8.84748 8.24292 9.20929 8.11522 9.56142 8.11522C9.92129 8.11522 10.1651 8.25259 10.2928 8.52734C10.6759 8.25259 11.0589 8.11522 11.442 8.11522C11.709 8.11522 11.9141 8.19068 12.0573 8.3416C12.2005 8.49251 12.2721 8.70727 12.2721 8.98588V11.1451H11.6974Z'    fill='#D5D7DA'  />  <path    d='M14.8784 11.1451L14.832 10.8433C14.6927 10.9632 14.5379 11.0561 14.3676 11.1219C14.2012 11.1877 14.0349 11.2206 13.8685 11.2206C13.5937 11.2206 13.3732 11.1432 13.2068 10.9884C13.0442 10.8297 12.963 10.6188 12.963 10.3557C12.963 10.0732 13.0636 9.8488 13.2648 9.68241C13.466 9.51215 13.7369 9.42702 14.0774 9.42702C14.3019 9.42702 14.5456 9.45991 14.8088 9.52569V9.1426C14.8088 8.93364 14.7604 8.7866 14.6637 8.70147C14.5708 8.61634 14.4102 8.57377 14.1819 8.57377C13.853 8.57377 13.5125 8.63375 13.1603 8.75371V8.3474C13.2996 8.27388 13.4699 8.21777 13.6711 8.17907C13.8723 8.13651 14.0755 8.11522 14.2806 8.11522C14.6482 8.11522 14.9191 8.19262 15.0932 8.3474C15.2673 8.49831 15.3544 8.73049 15.3544 9.04393V11.1451H14.8784ZM14.0078 10.7852C14.2709 10.7852 14.5379 10.6866 14.8088 10.4892V9.89717C14.6076 9.84687 14.4025 9.82171 14.1935 9.82171C13.7562 9.82171 13.5376 9.99004 13.5376 10.3267C13.5376 10.4737 13.5782 10.5879 13.6595 10.6692C13.7408 10.7465 13.8569 10.7852 14.0078 10.7852Z'    fill='#D5D7DA'  />  <path    d='M16.2645 11.1451V8.20229H16.8391V11.1451H16.2645ZM16.5547 7.6799C16.4425 7.6799 16.3535 7.64894 16.2877 7.58703C16.2258 7.52124 16.1949 7.43611 16.1949 7.33163C16.1949 7.22715 16.2258 7.14396 16.2877 7.08204C16.3535 7.01626 16.4425 6.98337 16.5547 6.98337C16.6669 6.98337 16.754 7.01626 16.8159 7.08204C16.8817 7.14396 16.9146 7.22715 16.9146 7.33163C16.9146 7.43611 16.8817 7.52124 16.8159 7.58703C16.754 7.64894 16.6669 7.6799 16.5547 7.6799Z'    fill='#D5D7DA'  />  <path    d='M18.803 11.1045C18.6753 11.1509 18.536 11.1741 18.3851 11.1741C18.18 11.1741 18.0233 11.1161 17.9149 11C17.8066 10.88 17.7524 10.7098 17.7524 10.4892V6.84987H18.327V10.4544C18.327 10.5434 18.3444 10.6092 18.3793 10.6517C18.418 10.6904 18.4799 10.7098 18.565 10.7098C18.6424 10.7098 18.7217 10.704 18.803 10.6924V11.1045Z'    fill='#D5D7DA'  />  <path    d='M7.30931 100.322V98.5048H5.30099V100.322H4.70894V96.2992H5.30099V98.0289H7.30931V96.2992H7.90136V100.322H7.30931Z'    fill='#D5D7DA'  />  <path    d='M10.5785 100.322L10.5321 100.02C10.3928 100.14 10.238 100.233 10.0677 100.298C9.90132 100.364 9.73493 100.397 9.56854 100.397C9.2938 100.397 9.07323 100.32 8.90684 100.165C8.74432 100.006 8.66305 99.7953 8.66305 99.5322C8.66305 99.2497 8.76366 99.0253 8.96488 98.8589C9.1661 98.6886 9.43697 98.6035 9.7775 98.6035C10.0019 98.6035 10.2457 98.6364 10.5088 98.7022V98.3191C10.5088 98.1101 10.4605 97.9631 10.3637 97.878C10.2709 97.7928 10.1103 97.7503 9.88197 97.7503C9.55306 97.7503 9.21254 97.8102 8.8604 97.9302V97.5239C8.99971 97.4504 9.16997 97.3943 9.37119 97.3556C9.57241 97.313 9.77556 97.2917 9.98065 97.2917C10.3483 97.2917 10.6191 97.3691 10.7933 97.5239C10.9674 97.6748 11.0545 97.907 11.0545 98.2204V100.322H10.5785ZM9.70784 99.9617C9.97098 99.9617 10.238 99.8631 10.5088 99.6657V99.0737C10.3076 99.0234 10.1025 98.9982 9.89358 98.9982C9.45632 98.9982 9.23769 99.1665 9.23769 99.5032C9.23769 99.6502 9.27832 99.7644 9.35958 99.8456C9.44084 99.923 9.55693 99.9617 9.70784 99.9617Z'    fill='#D5D7DA'  />  <path    d='M13.9323 100.322V98.3539C13.9323 98.1488 13.8897 97.9979 13.8046 97.9012C13.7233 97.8044 13.5937 97.7561 13.4157 97.7561C13.11 97.7561 12.8101 97.8547 12.516 98.0521V100.322H11.9414V97.3788H12.4231L12.4812 97.7038C12.8488 97.4291 13.2357 97.2917 13.642 97.2917C13.9245 97.2917 14.1393 97.3672 14.2863 97.5181C14.4334 97.6651 14.5069 97.8799 14.5069 98.1624V100.322H13.9323Z'    fill='#D5D7DA'  />  <path    d='M17.3763 100.322V98.3539C17.3763 98.1488 17.3337 97.9979 17.2486 97.9012C17.1673 97.8044 17.0377 97.7561 16.8597 97.7561C16.554 97.7561 16.2541 97.8547 15.96 98.0521V100.322H15.3854V97.3788H15.8671L15.9252 97.7038C16.2928 97.4291 16.6797 97.2917 17.0861 97.2917C17.3685 97.2917 17.5833 97.3672 17.7303 97.5181C17.8774 97.6651 17.9509 97.8799 17.9509 98.1624V100.322H17.3763Z'    fill='#D5D7DA'  />  <path    d='M20.5591 100.322L20.5126 100.02C20.3733 100.14 20.2186 100.233 20.0483 100.298C19.8819 100.364 19.7155 100.397 19.5491 100.397C19.2744 100.397 19.0538 100.32 18.8874 100.165C18.7249 100.006 18.6436 99.7953 18.6436 99.5322C18.6436 99.2497 18.7442 99.0253 18.9455 98.8589C19.1467 98.6886 19.4175 98.6035 19.7581 98.6035C19.9825 98.6035 20.2263 98.6364 20.4894 98.7022V98.3191C20.4894 98.1101 20.4411 97.9631 20.3443 97.878C20.2514 97.7928 20.0909 97.7503 19.8626 97.7503C19.5336 97.7503 19.1931 97.8102 18.841 97.9302V97.5239C18.9803 97.4504 19.1505 97.3943 19.3518 97.3556C19.553 97.313 19.7561 97.2917 19.9612 97.2917C20.3288 97.2917 20.5997 97.3691 20.7738 97.5239C20.948 97.6748 21.035 97.907 21.035 98.2204V100.322H20.5591ZM19.6884 99.9617C19.9516 99.9617 20.2186 99.8631 20.4894 99.6657V99.0737C20.2882 99.0234 20.0831 98.9982 19.8742 98.9982C19.4369 98.9982 19.2183 99.1665 19.2183 99.5032C19.2183 99.6502 19.2589 99.7644 19.3402 99.8456C19.4214 99.923 19.5375 99.9617 19.6884 99.9617Z'    fill='#D5D7DA'  />  <path    d='M23.5308 100.322V96.2992H24.86C25.2353 96.2992 25.5371 96.3959 25.7654 96.5894C25.9938 96.7829 26.1079 97.0402 26.1079 97.3614C26.1079 97.5626 26.0615 97.7367 25.9686 97.8838C25.8757 98.0269 25.7422 98.1372 25.5681 98.2146C25.8158 98.2881 26.0054 98.41 26.1369 98.5803C26.2685 98.7467 26.3343 98.9537 26.3343 99.2014C26.3343 99.5419 26.2143 99.8147 25.9744 100.02C25.7345 100.221 25.4133 100.322 25.0109 100.322H23.5308ZM24.0938 98.4874V99.8689H24.9993C25.4907 99.8689 25.7364 99.6386 25.7364 99.1781C25.7364 98.9498 25.6726 98.7776 25.5449 98.6615C25.4211 98.5455 25.2353 98.4874 24.9877 98.4874H24.0938ZM24.0938 96.7519V98.0463H24.8019C25.2817 98.0463 25.5217 97.8315 25.5217 97.402C25.5217 97.1892 25.4617 97.0286 25.3417 96.9202C25.2256 96.808 25.0515 96.7519 24.8193 96.7519H24.0938Z'    fill='#D5D7DA'  />  <path    d='M28.7938 100.322L28.7474 100.02C28.6081 100.14 28.4533 100.233 28.283 100.298C28.1166 100.364 27.9502 100.397 27.7838 100.397C27.5091 100.397 27.2885 100.32 27.1221 100.165C26.9596 100.006 26.8784 99.7953 26.8784 99.5322C26.8784 99.2497 26.979 99.0253 27.1802 98.8589C27.3814 98.6886 27.6523 98.6035 27.9928 98.6035C28.2172 98.6035 28.461 98.6364 28.7241 98.7022V98.3191C28.7241 98.1101 28.6758 97.9631 28.579 97.878C28.4862 97.7928 28.3256 97.7503 28.0973 97.7503C27.7684 97.7503 27.4278 97.8102 27.0757 97.9302V97.5239C27.215 97.4504 27.3853 97.3943 27.5865 97.3556C27.7877 97.313 27.9909 97.2917 28.196 97.2917C28.5636 97.2917 28.8344 97.3691 29.0086 97.5239C29.1827 97.6748 29.2698 97.907 29.2698 98.2204V100.322H28.7938ZM27.9231 99.9617C28.1863 99.9617 28.4533 99.8631 28.7241 99.6657V99.0737C28.5229 99.0234 28.3178 98.9982 28.1089 98.9982C27.6716 98.9982 27.453 99.1665 27.453 99.5032C27.453 99.6502 27.4936 99.7644 27.5749 99.8456C27.6561 99.923 27.7722 99.9617 27.9231 99.9617Z'    fill='#D5D7DA'  />  <path    d='M32.1592 100.322L32.0953 100.008C31.7355 100.275 31.3659 100.409 30.9867 100.409C30.712 100.409 30.5011 100.331 30.354 100.176C30.207 100.022 30.1334 99.8031 30.1334 99.5206V97.3788H30.7081V99.3349C30.7081 99.5438 30.7487 99.6986 30.83 99.7992C30.9112 99.8959 31.0409 99.9443 31.2189 99.9443C31.4975 99.9443 31.778 99.8514 32.0605 99.6657V97.3788H32.6351V100.322H32.1592Z'    fill='#D5D7DA'  />  <path    d='M33.9333 98.975C33.941 99.3078 34.0223 99.5535 34.1771 99.7121C34.3357 99.8708 34.5795 99.9501 34.9084 99.9501C35.2141 99.9501 35.5256 99.8901 35.8429 99.7702V100.182C35.5643 100.333 35.2238 100.409 34.8214 100.409C34.3454 100.409 33.9855 100.277 33.7417 100.014C33.498 99.7508 33.3761 99.3619 33.3761 98.8473C33.3761 98.3559 33.498 97.9747 33.7417 97.7038C33.9855 97.4291 34.3261 97.2917 34.7633 97.2917C35.1309 97.2917 35.4134 97.3962 35.6108 97.6051C35.8081 97.8102 35.9068 98.1024 35.9068 98.4816C35.9068 98.6635 35.8913 98.8279 35.8603 98.975H33.9333ZM34.7343 97.727C34.4905 97.727 34.3009 97.8006 34.1655 97.9476C34.03 98.0908 33.9526 98.3055 33.9333 98.5919H35.3786C35.3825 98.5609 35.3844 98.5106 35.3844 98.441C35.3844 98.2049 35.3283 98.0269 35.2161 97.907C35.1077 97.787 34.9471 97.727 34.7343 97.727Z'    fill='#D5D7DA'  />  <path    d='M36.6309 100.322V97.3788H37.1126L37.1765 97.8141C37.2848 97.698 37.3855 97.609 37.4783 97.5471C37.5712 97.4813 37.666 97.433 37.7627 97.402C37.8595 97.371 37.964 97.3556 38.0762 97.3556C38.1497 97.3556 38.229 97.3614 38.3142 97.373V97.8954C38.1903 97.8799 38.0858 97.8721 38.0007 97.8721C37.6912 97.8721 37.4261 97.965 37.2055 98.1508V100.322H36.6309Z'    fill='#D5D7DA'  />  <path    d='M4.70894 115.096V111.074H6.03234C6.62439 111.074 7.0752 111.246 7.38477 111.591C7.6982 111.931 7.85492 112.43 7.85492 113.088C7.85492 113.738 7.69627 114.235 7.37896 114.58C7.06165 114.924 6.60698 115.096 6.01493 115.096H4.70894ZM5.30099 111.538V114.632H5.95108C6.814 114.632 7.24546 114.139 7.24546 113.152V113.018C7.24546 112.527 7.13711 112.157 6.92041 111.91C6.70372 111.662 6.38061 111.538 5.95108 111.538H5.30099Z'    fill='#D5D7DA'  />  <path    d='M10.4198 115.096L10.3734 114.795C10.234 114.915 10.0793 115.007 9.909 115.073C9.74261 115.139 9.57622 115.172 9.40982 115.172C9.13508 115.172 8.91452 115.094 8.74812 114.94C8.5856 114.781 8.50434 114.57 8.50434 114.307C8.50434 114.025 8.60495 113.8 8.80617 113.634C9.00739 113.463 9.27826 113.378 9.61878 113.378C9.84322 113.378 10.087 113.411 10.3501 113.477V113.094C10.3501 112.885 10.3018 112.738 10.205 112.653C10.1122 112.568 9.95157 112.525 9.72326 112.525C9.39435 112.525 9.05382 112.585 8.70169 112.705V112.299C8.84099 112.225 9.01126 112.169 9.21247 112.13C9.41369 112.088 9.61685 112.067 9.82194 112.067C10.1895 112.067 10.4604 112.144 10.6345 112.299C10.8087 112.45 10.8957 112.682 10.8957 112.995V115.096H10.4198ZM9.54913 114.737C9.81226 114.737 10.0793 114.638 10.3501 114.441V113.848C10.1489 113.798 9.94383 113.773 9.73487 113.773C9.29761 113.773 9.07897 113.941 9.07897 114.278C9.07897 114.425 9.11961 114.539 9.20087 114.62C9.28213 114.698 9.39822 114.737 9.54913 114.737Z'    fill='#D5D7DA'  />  <path    d='M11.7826 115.096V112.154H12.2644L12.3283 112.589C12.4366 112.473 12.5372 112.384 12.6301 112.322C12.723 112.256 12.8178 112.208 12.9145 112.177C13.0112 112.146 13.1157 112.13 13.2279 112.13C13.3015 112.13 13.3808 112.136 13.4659 112.148V112.67C13.3421 112.655 13.2376 112.647 13.1525 112.647C12.8429 112.647 12.5778 112.74 12.3573 112.926V115.096H11.7826Z'    fill='#D5D7DA'  />  <path    d='M14.0028 115.096V112.154H14.5775V115.096H14.0028ZM14.2931 111.631C14.1808 111.631 14.0918 111.6 14.0261 111.538C13.9641 111.473 13.9332 111.387 13.9332 111.283C13.9332 111.178 13.9641 111.095 14.0261 111.033C14.0918 110.968 14.1808 110.935 14.2931 110.935C14.4053 110.935 14.4923 110.968 14.5543 111.033C14.62 111.095 14.6529 111.178 14.6529 111.283C14.6529 111.387 14.62 111.473 14.5543 111.538C14.4923 111.6 14.4053 111.631 14.2931 111.631Z'    fill='#D5D7DA'  />  <path    d='M16.7445 115.183C16.3033 115.183 15.9589 115.046 15.7113 114.771C15.4636 114.497 15.3398 114.114 15.3398 113.622C15.3398 113.135 15.4636 112.753 15.7113 112.479C15.9589 112.204 16.3033 112.067 16.7445 112.067C17.1856 112.067 17.53 112.204 17.7776 112.479C18.0253 112.753 18.1491 113.135 18.1491 113.622C18.1491 114.114 18.0253 114.497 17.7776 114.771C17.53 115.046 17.1856 115.183 16.7445 115.183ZM16.7445 114.719C17.2901 114.719 17.5629 114.353 17.5629 113.622C17.5629 112.895 17.2901 112.531 16.7445 112.531C16.1988 112.531 15.926 112.895 15.926 113.622C15.926 114.353 16.1988 114.719 16.7445 114.719Z'    fill='#D5D7DA'  />  <path    d='M20.4982 115.096V111.074H21.8274C22.2027 111.074 22.5046 111.171 22.7329 111.364C22.9612 111.558 23.0753 111.815 23.0753 112.136C23.0753 112.337 23.0289 112.512 22.936 112.659C22.8432 112.802 22.7097 112.912 22.5355 112.989C22.7832 113.063 22.9728 113.185 23.1044 113.355C23.2359 113.521 23.3017 113.728 23.3017 113.976C23.3017 114.317 23.1818 114.589 22.9418 114.795C22.7019 114.996 22.3808 115.096 21.9783 115.096H20.4982ZM21.0612 113.262V114.644H21.9667C22.4581 114.644 22.7039 114.413 22.7039 113.953C22.7039 113.725 22.64 113.552 22.5123 113.436C22.3885 113.32 22.2027 113.262 21.9551 113.262H21.0612ZM21.0612 111.527V112.821H21.7694C22.2492 112.821 22.4891 112.606 22.4891 112.177C22.4891 111.964 22.4291 111.803 22.3092 111.695C22.1931 111.583 22.0189 111.527 21.7868 111.527H21.0612Z'    fill='#D5D7DA'  />  <path    d='M24.4378 113.75C24.4456 114.083 24.5268 114.328 24.6816 114.487C24.8403 114.646 25.0841 114.725 25.413 114.725C25.7187 114.725 26.0302 114.665 26.3475 114.545V114.957C26.0689 115.108 25.7283 115.183 25.3259 115.183C24.85 115.183 24.4901 115.052 24.2463 114.789C24.0025 114.526 23.8806 114.137 23.8806 113.622C23.8806 113.131 24.0025 112.749 24.2463 112.479C24.4901 112.204 24.8306 112.067 25.2679 112.067C25.6355 112.067 25.918 112.171 26.1153 112.38C26.3127 112.585 26.4113 112.877 26.4113 113.256C26.4113 113.438 26.3959 113.603 26.3649 113.75H24.4378ZM25.2388 112.502C24.9951 112.502 24.8054 112.575 24.67 112.722C24.5346 112.866 24.4572 113.08 24.4378 113.367H25.8831C25.887 113.336 25.8889 113.285 25.8889 113.216C25.8889 112.98 25.8328 112.802 25.7206 112.682C25.6123 112.562 25.4517 112.502 25.2388 112.502Z'    fill='#D5D7DA'  />  <path    d='M27.1354 115.096V112.154H27.6172L27.681 112.589C27.7894 112.473 27.89 112.384 27.9829 112.322C28.0757 112.256 28.1706 112.208 28.2673 112.177C28.364 112.146 28.4685 112.13 28.5807 112.13C28.6543 112.13 28.7336 112.136 28.8187 112.148V112.67C28.6949 112.655 28.5904 112.647 28.5053 112.647C28.1957 112.647 27.9306 112.74 27.7101 112.926V115.096H27.1354Z'    fill='#D5D7DA'  />  <path    d='M31.2144 114.696C31.0828 114.808 30.9416 114.895 30.7907 114.957C30.6398 115.015 30.4869 115.044 30.3321 115.044C30.0961 115.044 29.8871 114.986 29.7052 114.87C29.5234 114.754 29.3802 114.586 29.2757 114.365C29.1751 114.141 29.1248 113.879 29.1248 113.581C29.1248 113.117 29.2351 112.749 29.4557 112.479C29.6762 112.204 29.9722 112.067 30.3437 112.067C30.692 112.067 30.9958 112.186 31.255 112.426L31.3015 112.154H31.7832V114.916C31.7832 115.377 31.6594 115.733 31.4117 115.984C31.168 116.236 30.8197 116.362 30.3669 116.362C30.0032 116.362 29.6685 116.284 29.3628 116.13V115.717C29.7188 115.837 30.038 115.897 30.3205 115.897C30.6301 115.897 30.8564 115.822 30.9996 115.671C31.1428 115.524 31.2144 115.286 31.2144 114.957V114.696ZM30.5004 114.58C30.7404 114.58 30.9783 114.491 31.2144 114.313V112.786C31.0983 112.697 30.9803 112.633 30.8603 112.595C30.7404 112.552 30.6088 112.531 30.4656 112.531C29.9626 112.531 29.7111 112.873 29.7111 113.558C29.7111 113.895 29.7768 114.15 29.9084 114.324C30.0438 114.495 30.2412 114.58 30.5004 114.58Z'    fill='#D5D7DA'  />  <path    d='M34.0558 114.307C34.0558 114.214 34.0249 114.139 33.963 114.081C33.9049 114.023 33.7966 113.965 33.6379 113.907L33.1445 113.721C32.715 113.562 32.5002 113.291 32.5002 112.908C32.5002 112.657 32.597 112.453 32.7905 112.299C32.9878 112.144 33.2451 112.067 33.5624 112.067C33.8681 112.067 34.1564 112.128 34.4273 112.252V112.659C34.1255 112.562 33.8469 112.513 33.5915 112.513C33.22 112.513 33.0343 112.639 33.0343 112.891C33.0343 112.991 33.0652 113.071 33.1271 113.129C33.189 113.187 33.3109 113.251 33.4928 113.32L33.9455 113.494C34.1738 113.583 34.3383 113.69 34.4389 113.814C34.5395 113.934 34.5898 114.09 34.5898 114.284C34.5898 114.559 34.4873 114.777 34.2822 114.94C34.0771 115.102 33.8043 115.183 33.4638 115.183C33.0807 115.183 32.7479 115.11 32.4654 114.963V114.557C32.8292 114.677 33.1658 114.737 33.4754 114.737C33.665 114.737 33.8082 114.7 33.9049 114.626C34.0055 114.553 34.0558 114.446 34.0558 114.307Z'    fill='#D5D7DA'  />  <path    d='M36.8657 115.027C36.6761 115.1 36.4613 115.137 36.2214 115.137C35.6719 115.137 35.3972 114.862 35.3972 114.313V112.606H34.8632V112.235L35.4146 112.165L35.5017 111.329H35.9718V112.154H36.8425V112.606H35.9718V114.284C35.9718 114.427 36.0028 114.528 36.0647 114.586C36.1305 114.644 36.2408 114.673 36.3955 114.673C36.5542 114.673 36.7109 114.653 36.8657 114.615V115.027Z'    fill='#D5D7DA'  />  <path    d='M37.4651 115.096V112.154H37.9469L38.0107 112.589C38.1191 112.473 38.2197 112.384 38.3125 112.322C38.4054 112.256 38.5002 112.208 38.597 112.177C38.6937 112.146 38.7982 112.13 38.9104 112.13C38.9839 112.13 39.0632 112.136 39.1484 112.148V112.67C39.0245 112.655 38.9201 112.647 38.8349 112.647C38.5254 112.647 38.2603 112.74 38.0397 112.926V115.096H37.4651Z'    fill='#D5D7DA'  />  <path    d='M40.8591 115.183C40.418 115.183 40.0736 115.046 39.826 114.771C39.5783 114.497 39.4545 114.114 39.4545 113.622C39.4545 113.135 39.5783 112.753 39.826 112.479C40.0736 112.204 40.418 112.067 40.8591 112.067C41.3003 112.067 41.6447 112.204 41.8923 112.479C42.14 112.753 42.2638 113.135 42.2638 113.622C42.2638 114.114 42.14 114.497 41.8923 114.771C41.6447 115.046 41.3003 115.183 40.8591 115.183ZM40.8591 114.719C41.4047 114.719 41.6776 114.353 41.6776 113.622C41.6776 112.895 41.4047 112.531 40.8591 112.531C40.3135 112.531 40.0407 112.895 40.0407 113.622C40.0407 114.353 40.3135 114.719 40.8591 114.719Z'    fill='#D5D7DA'  />  <path    d='M46.7653 115.096V113.1C46.7653 112.906 46.7285 112.763 46.655 112.67C46.5815 112.577 46.4654 112.531 46.3067 112.531C46.0243 112.531 45.7398 112.618 45.4535 112.792C45.4574 112.819 45.4593 112.848 45.4593 112.879C45.4593 112.91 45.4593 112.941 45.4593 112.972V115.096H44.8847V113.1C44.8847 112.906 44.8479 112.763 44.7744 112.67C44.7009 112.577 44.5848 112.531 44.4261 112.531C44.132 112.531 43.8495 112.616 43.5787 112.786V115.096H43.004V112.154H43.4858L43.5439 112.45C43.9153 112.194 44.2771 112.067 44.6293 112.067C44.9891 112.067 45.2329 112.204 45.3606 112.479C45.7437 112.204 46.1268 112.067 46.5099 112.067C46.7769 112.067 46.982 112.142 47.1252 112.293C47.2683 112.444 47.3399 112.659 47.3399 112.937V115.096H46.7653Z'    fill='#D5D7DA'  />  <path    d='M7.54148 129.761C7.22805 129.881 6.88946 129.941 6.52572 129.941C5.8911 129.941 5.40934 129.767 5.08042 129.418C4.75538 129.066 4.59286 128.552 4.59286 127.874C4.59286 127.205 4.76118 126.69 5.09784 126.331C5.43836 125.971 5.92399 125.791 6.55474 125.791C6.88365 125.791 7.19322 125.843 7.48344 125.947V126.429C7.13131 126.348 6.84496 126.307 6.62439 126.307C6.13682 126.307 5.78082 126.427 5.55638 126.667C5.33195 126.903 5.21973 127.281 5.21973 127.799V127.938C5.21973 128.449 5.32808 128.824 5.54477 129.064C5.76534 129.304 6.1136 129.424 6.58956 129.424C6.83335 129.424 7.15065 129.376 7.54148 129.279V129.761Z'    fill='#D5D7DA'  />  <path    d='M10.1992 129.871V127.904C10.1992 127.698 10.1566 127.548 10.0715 127.451C9.99022 127.354 9.86059 127.306 9.68259 127.306C9.37689 127.306 9.07699 127.404 8.7829 127.602V129.871H8.20827V125.576H8.7829V127.23C9.15052 126.971 9.52587 126.841 9.90896 126.841C10.1914 126.841 10.4062 126.917 10.5532 127.068C10.7003 127.215 10.7738 127.429 10.7738 127.712V129.871H10.1992Z'    fill='#D5D7DA'  />  <path    d='M12.906 129.958C12.4649 129.958 12.1205 129.821 11.8728 129.546C11.6252 129.271 11.5014 128.888 11.5014 128.397C11.5014 127.909 11.6252 127.528 11.8728 127.253C12.1205 126.979 12.4649 126.841 12.906 126.841C13.3472 126.841 13.6915 126.979 13.9392 127.253C14.1869 127.528 14.3107 127.909 14.3107 128.397C14.3107 128.888 14.1869 129.271 13.9392 129.546C13.6915 129.821 13.3472 129.958 12.906 129.958ZM12.906 129.494C13.4516 129.494 13.7244 129.128 13.7244 128.397C13.7244 127.669 13.4516 127.306 12.906 127.306C12.3604 127.306 12.0876 127.669 12.0876 128.397C12.0876 129.128 12.3604 129.494 12.906 129.494Z'    fill='#D5D7DA'  />  <path    d='M17.1405 129.871L17.0651 129.569C16.9374 129.685 16.7922 129.776 16.6297 129.842C16.4672 129.904 16.3027 129.935 16.1364 129.935C15.8926 129.935 15.6778 129.875 15.4921 129.755C15.3063 129.635 15.1612 129.461 15.0567 129.233C14.9523 129.001 14.9 128.728 14.9 128.414C14.9 128.101 14.9503 127.826 15.0509 127.59C15.1515 127.354 15.2947 127.17 15.4805 127.039C15.6701 126.907 15.8945 126.841 16.1538 126.841C16.4827 126.841 16.7787 126.95 17.0418 127.166V125.576H17.6165V129.871H17.1405ZM16.3105 129.471C16.5504 129.471 16.7942 129.382 17.0418 129.204V127.561C16.9219 127.472 16.8 127.408 16.6762 127.37C16.5562 127.327 16.4227 127.306 16.2757 127.306C15.7494 127.306 15.4863 127.669 15.4863 128.397C15.4863 129.113 15.761 129.471 16.3105 129.471Z'    fill='#D5D7DA'  />  <path    d='M20.1151 129.871V125.849H20.7071V127.648L22.3614 125.849H23.0579L21.2702 127.77L23.2146 129.871H22.4891L20.7071 127.95V129.871H20.1151Z'    fill='#D5D7DA'  />  <path    d='M23.6943 129.871V126.928H24.269V129.871H23.6943ZM23.9845 126.406C23.8723 126.406 23.7833 126.375 23.7175 126.313C23.6556 126.247 23.6247 126.162 23.6247 126.058C23.6247 125.953 23.6556 125.87 23.7175 125.808C23.7833 125.742 23.8723 125.709 23.9845 125.709C24.0968 125.709 24.1838 125.742 24.2457 125.808C24.3115 125.87 24.3444 125.953 24.3444 126.058C24.3444 126.162 24.3115 126.247 24.2457 126.313C24.1838 126.375 24.0968 126.406 23.9845 126.406Z'    fill='#D5D7DA'  />  <path    d='M25.5885 128.525C25.5963 128.857 25.6775 129.103 25.8323 129.262C25.991 129.42 26.2347 129.5 26.5636 129.5C26.8693 129.5 27.1808 129.44 27.4982 129.32V129.732C27.2195 129.883 26.879 129.958 26.4766 129.958C26.0006 129.958 25.6408 129.827 25.397 129.564C25.1532 129.3 25.0313 128.912 25.0313 128.397C25.0313 127.905 25.1532 127.524 25.397 127.253C25.6408 126.979 25.9813 126.841 26.4185 126.841C26.7862 126.841 27.0686 126.946 27.266 127.155C27.4633 127.36 27.562 127.652 27.562 128.031C27.562 128.213 27.5465 128.378 27.5156 128.525H25.5885ZM26.3895 127.277C26.1457 127.277 25.9561 127.35 25.8207 127.497C25.6853 127.64 25.6079 127.855 25.5885 128.141H27.0338C27.0377 128.111 27.0396 128.06 27.0396 127.991C27.0396 127.755 26.9835 127.577 26.8713 127.457C26.7629 127.337 26.6023 127.277 26.3895 127.277Z'    fill='#D5D7DA'  />  <path    d='M30.7007 129.871L30.0739 127.567L29.4528 129.871H28.8724L27.9088 126.928H28.5125L29.1742 129.285L29.8011 126.928H30.3757L31.0026 129.314L31.6817 126.928H32.2679L31.2812 129.871H30.7007Z'    fill='#D5D7DA'  />  <path    d='M32.802 129.871V126.928H33.3766V129.871H32.802ZM33.0922 126.406C32.98 126.406 32.891 126.375 32.8252 126.313C32.7633 126.247 32.7323 126.162 32.7323 126.058C32.7323 125.953 32.7633 125.87 32.8252 125.808C32.891 125.742 32.98 125.709 33.0922 125.709C33.2044 125.709 33.2915 125.742 33.3534 125.808C33.4192 125.87 33.4521 125.953 33.4521 126.058C33.4521 126.162 33.4192 126.247 33.3534 126.313C33.2915 126.375 33.2044 126.406 33.0922 126.406Z'    fill='#D5D7DA'  />  <path    d='M36.3272 129.761C36.1028 129.877 35.8435 129.935 35.5494 129.935C35.0928 129.935 34.7426 129.805 34.4988 129.546C34.2589 129.283 34.1389 128.904 34.1389 128.408C34.1389 127.917 34.2628 127.538 34.5104 127.271C34.7619 127 35.116 126.865 35.5726 126.865C35.8319 126.865 36.0757 126.919 36.304 127.027V127.439C36.0834 127.37 35.8667 127.335 35.6539 127.335C35.3288 127.335 35.0947 127.418 34.9516 127.584C34.8084 127.747 34.7368 128.008 34.7368 128.368V128.443C34.7368 128.795 34.8084 129.055 34.9516 129.221C35.0986 129.384 35.3288 129.465 35.6423 129.465C35.8512 129.465 36.0795 129.426 36.3272 129.349V129.761Z'    fill='#D5D7DA'  />  <path    d='M36.7764 129.871V129.43L38.4655 127.381H36.8345V126.928H39.104V127.364L37.3917 129.418H39.1214V129.871H36.7764Z'    fill='#D5D7DA'  />  <path    d='M5.59121 144.646V141.111H4.30844V140.624H7.46603V141.111H6.18326V144.646H5.59121Z'    fill='#D5D7DA'  />  <path    d='M8.03876 144.646V141.703H8.6134V144.646H8.03876ZM8.32898 141.181C8.21677 141.181 8.12776 141.15 8.06198 141.088C8.00007 141.022 7.96911 140.937 7.96911 140.833C7.96911 140.728 8.00007 140.645 8.06198 140.583C8.12776 140.517 8.21677 140.484 8.32898 140.484C8.4412 140.484 8.52827 140.517 8.59018 140.583C8.65596 140.645 8.68886 140.728 8.68886 140.833C8.68886 140.937 8.65596 141.022 8.59018 141.088C8.52827 141.15 8.4412 141.181 8.32898 141.181Z'    fill='#D5D7DA'  />  <path    d='M11.2564 144.646L11.2099 144.344C11.0706 144.464 10.9158 144.557 10.7456 144.623C10.5792 144.689 10.4128 144.721 10.2464 144.721C9.97165 144.721 9.75108 144.644 9.58469 144.489C9.42217 144.331 9.34091 144.12 9.34091 143.857C9.34091 143.574 9.44151 143.35 9.64273 143.183C9.84395 143.013 10.1148 142.928 10.4553 142.928C10.6798 142.928 10.9236 142.961 11.1867 143.027V142.644C11.1867 142.435 11.1383 142.287 11.0416 142.202C10.9487 142.117 10.7881 142.075 10.5598 142.075C10.2309 142.075 9.89039 142.135 9.53825 142.255V141.848C9.67756 141.775 9.84782 141.719 10.049 141.68C10.2503 141.637 10.4534 141.616 10.6585 141.616C11.0261 141.616 11.297 141.694 11.4711 141.848C11.6452 141.999 11.7323 142.231 11.7323 142.545V144.646H11.2564ZM10.3857 144.286C10.6488 144.286 10.9158 144.187 11.1867 143.99V143.398C10.9855 143.348 10.7804 143.323 10.5714 143.323C10.1342 143.323 9.91554 143.491 9.91554 143.828C9.91554 143.975 9.95617 144.089 10.0374 144.17C10.1187 144.247 10.2348 144.286 10.3857 144.286Z'    fill='#D5D7DA'  />  <path    d='M12.6192 144.646V141.703H13.101L13.1648 142.139C13.2732 142.022 13.3738 141.933 13.4667 141.872C13.5595 141.806 13.6543 141.757 13.7511 141.726C13.8478 141.695 13.9523 141.68 14.0645 141.68C14.138 141.68 14.2174 141.686 14.3025 141.697V142.22C14.1787 142.204 14.0742 142.197 13.989 142.197C13.6795 142.197 13.4144 142.289 13.1938 142.475V144.646H12.6192Z'    fill='#D5D7DA'  />  <path    d='M16.5459 144.646L16.4995 144.344C16.3601 144.464 16.2054 144.557 16.0351 144.623C15.8687 144.689 15.7023 144.721 15.5359 144.721C15.2612 144.721 15.0406 144.644 14.8742 144.489C14.7117 144.331 14.6304 144.12 14.6304 143.857C14.6304 143.574 14.7311 143.35 14.9323 143.183C15.1335 143.013 15.4044 142.928 15.7449 142.928C15.9693 142.928 16.2131 142.961 16.4762 143.027V142.644C16.4762 142.435 16.4279 142.287 16.3311 142.202C16.2383 142.117 16.0777 142.075 15.8494 142.075C15.5204 142.075 15.1799 142.135 14.8278 142.255V141.848C14.9671 141.775 15.1374 141.719 15.3386 141.68C15.5398 141.637 15.7429 141.616 15.948 141.616C16.3156 141.616 16.5865 141.694 16.7607 141.848C16.9348 141.999 17.0218 142.231 17.0218 142.545V144.646H16.5459ZM15.6752 144.286C15.9384 144.286 16.2054 144.187 16.4762 143.99V143.398C16.275 143.348 16.0699 143.323 15.861 143.323C15.4237 143.323 15.2051 143.491 15.2051 143.828C15.2051 143.975 15.2457 144.089 15.327 144.17C15.4082 144.247 15.5243 144.286 15.6752 144.286Z'    fill='#D5D7DA'  />  <path    d='M19.5176 144.646V140.624H20.8468C21.2221 140.624 21.524 140.72 21.7523 140.914C21.9806 141.107 22.0947 141.365 22.0947 141.686C22.0947 141.887 22.0483 142.061 21.9554 142.208C21.8625 142.351 21.729 142.462 21.5549 142.539C21.8026 142.613 21.9922 142.734 22.1237 142.905C22.2553 143.071 22.3211 143.278 22.3211 143.526C22.3211 143.866 22.2011 144.139 21.9612 144.344C21.7213 144.545 21.4001 144.646 20.9977 144.646H19.5176ZM20.0806 142.812V144.193H20.9861C21.4775 144.193 21.7232 143.963 21.7232 143.503C21.7232 143.274 21.6594 143.102 21.5317 142.986C21.4079 142.87 21.2221 142.812 20.9745 142.812H20.0806ZM20.0806 141.076V142.371H20.7887C21.2686 142.371 21.5085 142.156 21.5085 141.726C21.5085 141.514 21.4485 141.353 21.3285 141.245C21.2125 141.132 21.0383 141.076 20.8061 141.076H20.0806Z'    fill='#D5D7DA'  />  <path    d='M24.3047 144.733C23.8635 144.733 23.5191 144.596 23.2715 144.321C23.0238 144.046 22.9 143.663 22.9 143.172C22.9 142.684 23.0238 142.303 23.2715 142.028C23.5191 141.753 23.8635 141.616 24.3047 141.616C24.7458 141.616 25.0902 141.753 25.3378 142.028C25.5855 142.303 25.7093 142.684 25.7093 143.172C25.7093 143.663 25.5855 144.046 25.3378 144.321C25.0902 144.596 24.7458 144.733 24.3047 144.733ZM24.3047 144.269C24.8503 144.269 25.1231 143.903 25.1231 143.172C25.1231 142.444 24.8503 142.08 24.3047 142.08C23.759 142.08 23.4862 142.444 23.4862 143.172C23.4862 143.903 23.759 144.269 24.3047 144.269Z'    fill='#D5D7DA'  />  <path    d='M27.831 143.857C27.831 143.764 27.8001 143.688 27.7381 143.63C27.6801 143.572 27.5717 143.514 27.4131 143.456L26.9197 143.27C26.4902 143.112 26.2754 142.841 26.2754 142.458C26.2754 142.206 26.3722 142.003 26.5657 141.848C26.763 141.694 27.0203 141.616 27.3376 141.616C27.6433 141.616 27.9316 141.678 28.2025 141.802V142.208C27.9007 142.111 27.6221 142.063 27.3667 142.063C26.9952 142.063 26.8094 142.189 26.8094 142.44C26.8094 142.541 26.8404 142.62 26.9023 142.678C26.9642 142.736 27.0861 142.8 27.268 142.87L27.7207 143.044C27.949 143.133 28.1135 143.239 28.2141 143.363C28.3147 143.483 28.365 143.64 28.365 143.833C28.365 144.108 28.2625 144.327 28.0574 144.489C27.8523 144.652 27.5795 144.733 27.239 144.733C26.8559 144.733 26.5231 144.66 26.2406 144.513V144.106C26.6043 144.226 26.941 144.286 27.2506 144.286C27.4402 144.286 27.5834 144.249 27.6801 144.176C27.7807 144.102 27.831 143.996 27.831 143.857Z'    fill='#D5D7DA'  />  <path    d='M31.024 144.536C30.7995 144.652 30.5403 144.71 30.2462 144.71C29.7896 144.71 29.4394 144.58 29.1956 144.321C28.9557 144.058 28.8357 143.679 28.8357 143.183C28.8357 142.692 28.9595 142.313 29.2072 142.046C29.4587 141.775 29.8128 141.639 30.2694 141.639C30.5287 141.639 30.7725 141.694 31.0008 141.802V142.214C30.7802 142.144 30.5635 142.109 30.3507 142.109C30.0256 142.109 29.7915 142.193 29.6483 142.359C29.5052 142.522 29.4336 142.783 29.4336 143.143V143.218C29.4336 143.57 29.5052 143.83 29.6483 143.996C29.7954 144.158 30.0256 144.24 30.3391 144.24C30.548 144.24 30.7763 144.201 31.024 144.124V144.536Z'    fill='#D5D7DA'  />  <path    d='M32.8625 144.733C32.4213 144.733 32.0769 144.596 31.8293 144.321C31.5816 144.046 31.4578 143.663 31.4578 143.172C31.4578 142.684 31.5816 142.303 31.8293 142.028C32.0769 141.753 32.4213 141.616 32.8625 141.616C33.3036 141.616 33.648 141.753 33.8957 142.028C34.1433 142.303 34.2671 142.684 34.2671 143.172C34.2671 143.663 34.1433 144.046 33.8957 144.321C33.648 144.596 33.3036 144.733 32.8625 144.733ZM32.8625 144.269C33.4081 144.269 33.6809 143.903 33.6809 143.172C33.6809 142.444 33.4081 142.08 32.8625 142.08C32.3169 142.08 32.0441 142.444 32.0441 143.172C32.0441 143.903 32.3169 144.269 32.8625 144.269Z'    fill='#D5D7DA'  />  <path    d='M8.06388 159.421V156.257L6.93202 158.393H6.39221L5.25456 156.252V159.421H4.70894V155.398H5.37064L6.67083 157.865L7.9652 155.398H8.60949V159.421H8.06388Z'    fill='#D5D7DA'  />  <path    d='M11.287 159.421L11.2406 159.119C11.1013 159.239 10.9465 159.332 10.7763 159.398C10.6099 159.463 10.4435 159.496 10.2771 159.496C10.0023 159.496 9.78177 159.419 9.61538 159.264C9.45286 159.105 9.3716 158.895 9.3716 158.631C9.3716 158.349 9.47221 158.124 9.67342 157.958C9.87464 157.788 10.1455 157.703 10.486 157.703C10.7105 157.703 10.9543 157.736 11.2174 157.801V157.418C11.2174 157.209 11.169 157.062 11.0723 156.977C10.9794 156.892 10.8188 156.849 10.5905 156.849C10.2616 156.849 9.92108 156.909 9.56895 157.029V156.623C9.70825 156.55 9.87851 156.493 10.0797 156.455C10.281 156.412 10.4841 156.391 10.6892 156.391C11.0568 156.391 11.3277 156.468 11.5018 156.623C11.6759 156.774 11.763 157.006 11.763 157.32V159.421H11.287ZM10.4164 159.061C10.6795 159.061 10.9465 158.962 11.2174 158.765V158.173C11.0162 158.123 10.8111 158.097 10.6021 158.097C10.1649 158.097 9.94623 158.266 9.94623 158.602C9.94623 158.749 9.98686 158.864 10.0681 158.945C10.1494 159.022 10.2655 159.061 10.4164 159.061Z'    fill='#D5D7DA'  />  <path    d='M14.5886 159.02C14.457 159.133 14.3158 159.22 14.1648 159.281C14.0139 159.34 13.8611 159.369 13.7063 159.369C13.4703 159.369 13.2613 159.311 13.0794 159.194C12.8976 159.078 12.7544 158.91 12.6499 158.689C12.5493 158.465 12.499 158.204 12.499 157.906C12.499 157.442 12.6093 157.074 12.8298 156.803C13.0504 156.528 13.3464 156.391 13.7179 156.391C14.0662 156.391 14.3699 156.511 14.6292 156.751L14.6756 156.478H15.1574V159.241C15.1574 159.701 15.0336 160.057 14.7859 160.309C14.5421 160.56 14.1939 160.686 13.7411 160.686C13.3774 160.686 13.0427 160.609 12.737 160.454V160.042C13.093 160.162 13.4122 160.222 13.6947 160.222C14.0043 160.222 14.2306 160.146 14.3738 159.995C14.517 159.848 14.5886 159.61 14.5886 159.281V159.02ZM13.8746 158.904C14.1145 158.904 14.3525 158.815 14.5886 158.637V157.111C14.4725 157.022 14.3545 156.958 14.2345 156.919C14.1145 156.877 13.983 156.855 13.8398 156.855C13.3368 156.855 13.0852 157.198 13.0852 157.883C13.0852 158.219 13.151 158.475 13.2826 158.649C13.418 158.819 13.6154 158.904 13.8746 158.904Z'    fill='#D5D7DA'  />  <path    d='M18.1381 159.421L18.0627 159.119C17.935 159.235 17.7899 159.326 17.6274 159.392C17.4648 159.454 17.3004 159.485 17.134 159.485C16.8902 159.485 16.6754 159.425 16.4897 159.305C16.304 159.185 16.1588 159.011 16.0544 158.782C15.9499 158.55 15.8976 158.277 15.8976 157.964C15.8976 157.65 15.948 157.376 16.0486 157.14C16.1492 156.904 16.2923 156.72 16.4781 156.588C16.6677 156.457 16.8921 156.391 17.1514 156.391C17.4803 156.391 17.7763 156.499 18.0395 156.716V155.126H18.6141V159.421H18.1381ZM17.3081 159.02C17.548 159.02 17.7918 158.931 18.0395 158.753V157.111C17.9195 157.022 17.7976 156.958 17.6738 156.919C17.5538 156.877 17.4203 156.855 17.2733 156.855C16.747 156.855 16.4839 157.219 16.4839 157.946C16.4839 158.662 16.7586 159.02 17.3081 159.02Z'    fill='#D5D7DA'  />  <path    d='M21.2336 159.421L21.1872 159.119C21.0479 159.239 20.8931 159.332 20.7228 159.398C20.5564 159.463 20.39 159.496 20.2236 159.496C19.9489 159.496 19.7283 159.419 19.5619 159.264C19.3994 159.105 19.3182 158.895 19.3182 158.631C19.3182 158.349 19.4188 158.124 19.62 157.958C19.8212 157.788 20.0921 157.703 20.4326 157.703C20.657 157.703 20.9008 157.736 21.164 157.801V157.418C21.164 157.209 21.1156 157.062 21.0188 156.977C20.926 156.892 20.7654 156.849 20.5371 156.849C20.2082 156.849 19.8676 156.909 19.5155 157.029V156.623C19.6548 156.55 19.8251 156.493 20.0263 156.455C20.2275 156.412 20.4307 156.391 20.6358 156.391C21.0034 156.391 21.2742 156.468 21.4484 156.623C21.6225 156.774 21.7096 157.006 21.7096 157.32V159.421H21.2336ZM20.363 159.061C20.6261 159.061 20.8931 158.962 21.164 158.765V158.173C20.9627 158.123 20.7577 158.097 20.5487 158.097C20.1114 158.097 19.8928 158.266 19.8928 158.602C19.8928 158.749 19.9334 158.864 20.0147 158.945C20.096 159.022 20.212 159.061 20.363 159.061Z'    fill='#D5D7DA'  />  <path    d='M23.6471 159.38C23.5194 159.427 23.3801 159.45 23.2291 159.45C23.0241 159.45 22.8673 159.392 22.759 159.276C22.6506 159.156 22.5965 158.985 22.5965 158.765V155.126H23.1711V158.73C23.1711 158.819 23.1885 158.885 23.2233 158.927C23.262 158.966 23.324 158.985 23.4091 158.985C23.4865 158.985 23.5658 158.98 23.6471 158.968V159.38Z'    fill='#D5D7DA'  />  <path    d='M24.6896 158.074C24.6973 158.407 24.7786 158.653 24.9334 158.811C25.092 158.97 25.3358 159.049 25.6647 159.049C25.9704 159.049 26.2819 158.989 26.5992 158.869V159.281C26.3206 159.432 25.9801 159.508 25.5777 159.508C25.1017 159.508 24.7418 159.376 24.4981 159.113C24.2543 158.85 24.1324 158.461 24.1324 157.946C24.1324 157.455 24.2543 157.074 24.4981 156.803C24.7418 156.528 25.0824 156.391 25.5196 156.391C25.8872 156.391 26.1697 156.495 26.3671 156.704C26.5644 156.909 26.6631 157.202 26.6631 157.581C26.6631 157.763 26.6476 157.927 26.6167 158.074H24.6896ZM25.4906 156.826C25.2468 156.826 25.0572 156.9 24.9218 157.047C24.7863 157.19 24.7089 157.405 24.6896 157.691H26.1349C26.1388 157.66 26.1407 157.61 26.1407 157.54C26.1407 157.304 26.0846 157.126 25.9724 157.006C25.864 156.886 25.7034 156.826 25.4906 156.826Z'    fill='#D5D7DA'  />  <path    d='M29.3781 159.421V157.453C29.3781 157.248 29.3355 157.097 29.2504 157C29.1691 156.904 29.0395 156.855 28.8615 156.855C28.5558 156.855 28.2559 156.954 27.9618 157.151V159.421H27.3872V156.478H27.869L27.927 156.803C28.2946 156.528 28.6816 156.391 29.0879 156.391C29.3704 156.391 29.5851 156.466 29.7322 156.617C29.8792 156.764 29.9527 156.979 29.9527 157.262V159.421H29.3781Z'    fill='#D5D7DA'  />  <path    d='M32.44 159.421V155.398H33.0321V158.933H34.9301V159.421H32.44Z'    fill='#D5D7DA'  />  <path    d='M35.4808 159.421V156.478H36.0554V159.421H35.4808ZM35.771 155.956C35.6588 155.956 35.5698 155.925 35.504 155.863C35.4421 155.797 35.4111 155.712 35.4111 155.607C35.4111 155.503 35.4421 155.42 35.504 155.358C35.5698 155.292 35.6588 155.259 35.771 155.259C35.8832 155.259 35.9703 155.292 36.0322 155.358C36.098 155.42 36.1308 155.503 36.1308 155.607C36.1308 155.712 36.098 155.797 36.0322 155.863C35.9703 155.925 35.8832 155.956 35.771 155.956Z'    fill='#D5D7DA'  />  <path    d='M7.54148 174.085C7.22805 174.205 6.88946 174.265 6.52572 174.265C5.8911 174.265 5.40934 174.091 5.08042 173.743C4.75538 173.391 4.59286 172.876 4.59286 172.199C4.59286 171.529 4.76118 171.015 5.09784 170.655C5.43836 170.295 5.92399 170.115 6.55474 170.115C6.88365 170.115 7.19322 170.167 7.48344 170.272V170.754C7.13131 170.672 6.84496 170.632 6.62439 170.632C6.13682 170.632 5.78082 170.752 5.55638 170.992C5.33195 171.228 5.21973 171.605 5.21973 172.123V172.263C5.21973 172.774 5.32808 173.149 5.54477 173.389C5.76534 173.629 6.1136 173.749 6.58956 173.749C6.83335 173.749 7.15065 173.7 7.54148 173.604V174.085Z'    fill='#D5D7DA'  />  <path    d='M9.46202 174.283C9.02088 174.283 8.67649 174.145 8.42884 173.871C8.18118 173.596 8.05736 173.213 8.05736 172.721C8.05736 172.234 8.18118 171.853 8.42884 171.578C8.67649 171.303 9.02088 171.166 9.46202 171.166C9.90315 171.166 10.2475 171.303 10.4952 171.578C10.7429 171.853 10.8667 172.234 10.8667 172.721C10.8667 173.213 10.7429 173.596 10.4952 173.871C10.2475 174.145 9.90315 174.283 9.46202 174.283ZM9.46202 173.818C10.0076 173.818 10.2804 173.453 10.2804 172.721C10.2804 171.994 10.0076 171.63 9.46202 171.63C8.91641 171.63 8.6436 171.994 8.6436 172.721C8.6436 173.453 8.91641 173.818 9.46202 173.818Z'    fill='#D5D7DA'  />  <path    d='M13.5978 174.196V172.228C13.5978 172.023 13.5553 171.872 13.4701 171.775C13.3889 171.678 13.2592 171.63 13.0812 171.63C12.7755 171.63 12.4757 171.729 12.1816 171.926V174.196H11.6069V171.253H12.0887L12.1467 171.578C12.5143 171.303 12.9013 171.166 13.3076 171.166C13.5901 171.166 13.8049 171.241 13.9519 171.392C14.0989 171.539 14.1725 171.754 14.1725 172.036V174.196H13.5978Z'    fill='#D5D7DA'  />  <path    d='M17.0418 174.196V172.228C17.0418 172.023 16.9993 171.872 16.9141 171.775C16.8329 171.678 16.7032 171.63 16.5252 171.63C16.2195 171.63 15.9197 171.729 15.6256 171.926V174.196H15.0509V171.253H15.5327L15.5907 171.578C15.9584 171.303 16.3453 171.166 16.7516 171.166C17.0341 171.166 17.2489 171.241 17.3959 171.392C17.5429 171.539 17.6165 171.754 17.6165 172.036V174.196H17.0418Z'    fill='#D5D7DA'  />  <path    d='M19.7487 174.283C19.3076 174.283 18.9632 174.145 18.7155 173.871C18.4679 173.596 18.344 173.213 18.344 172.721C18.344 172.234 18.4679 171.853 18.7155 171.578C18.9632 171.303 19.3076 171.166 19.7487 171.166C20.1898 171.166 20.5342 171.303 20.7819 171.578C21.0295 171.853 21.1533 172.234 21.1533 172.721C21.1533 173.213 21.0295 173.596 20.7819 173.871C20.5342 174.145 20.1898 174.283 19.7487 174.283ZM19.7487 173.818C20.2943 173.818 20.5671 173.453 20.5671 172.721C20.5671 171.994 20.2943 171.63 19.7487 171.63C19.2031 171.63 18.9303 171.994 18.9303 172.721C18.9303 173.453 19.2031 173.818 19.7487 173.818Z'    fill='#D5D7DA'  />  <path    d='M21.8936 174.196V171.253H22.3754L22.4392 171.688C22.5476 171.572 22.6482 171.483 22.741 171.421C22.8339 171.355 22.9287 171.307 23.0255 171.276C23.1222 171.245 23.2267 171.23 23.3389 171.23C23.4124 171.23 23.4917 171.235 23.5769 171.247V171.769C23.453 171.754 23.3486 171.746 23.2634 171.746C22.9539 171.746 22.6888 171.839 22.4682 172.025V174.196H21.8936Z'    fill='#D5D7DA'  />  <path    d='M25.6994 174.196V170.173H26.2914V171.973L27.9457 170.173H28.6422L26.8545 172.094L28.7989 174.196H28.0734L26.2914 172.274V174.196H25.6994Z'    fill='#D5D7DA'  />  <path    d='M30.9851 174.196L30.9387 173.894C30.7994 174.014 30.6446 174.107 30.4743 174.172C30.3079 174.238 30.1415 174.271 29.9751 174.271C29.7004 174.271 29.4798 174.194 29.3134 174.039C29.1509 173.88 29.0697 173.669 29.0697 173.406C29.0697 173.124 29.1703 172.899 29.3715 172.733C29.5727 172.563 29.8436 172.478 30.1841 172.478C30.4085 172.478 30.6523 172.51 30.9155 172.576V172.193C30.9155 171.984 30.8671 171.837 30.7703 171.752C30.6775 171.667 30.5169 171.624 30.2886 171.624C29.9597 171.624 29.6191 171.684 29.267 171.804V171.398C29.4063 171.324 29.5766 171.268 29.7778 171.23C29.979 171.187 30.1822 171.166 30.3873 171.166C30.7549 171.166 31.0257 171.243 31.1999 171.398C31.374 171.549 31.4611 171.781 31.4611 172.094V174.196H30.9851ZM30.1144 173.836C30.3776 173.836 30.6446 173.737 30.9155 173.54V172.948C30.7142 172.897 30.5091 172.872 30.3002 172.872C29.8629 172.872 29.6443 173.041 29.6443 173.377C29.6443 173.524 29.6849 173.638 29.7662 173.72C29.8474 173.797 29.9635 173.836 30.1144 173.836Z'    fill='#D5D7DA'  />  <path    d='M34.3389 174.196V172.228C34.3389 172.023 34.2963 171.872 34.2112 171.775C34.1299 171.678 34.0003 171.63 33.8223 171.63C33.5166 171.63 33.2167 171.729 32.9226 171.926V174.196H32.348V171.253H32.8297L32.8878 171.578C33.2554 171.303 33.6423 171.166 34.0486 171.166C34.3311 171.166 34.5459 171.241 34.6929 171.392C34.84 171.539 34.9135 171.754 34.9135 172.036V174.196H34.3389Z'    fill='#D5D7DA'  />  <path    d='M36.1983 172.849C36.206 173.182 36.2873 173.427 36.4421 173.586C36.6007 173.745 36.8445 173.824 37.1734 173.824C37.4791 173.824 37.7906 173.764 38.1079 173.644V174.056C37.8293 174.207 37.4888 174.283 37.0863 174.283C36.6104 174.283 36.2505 174.151 36.0067 173.888C35.7629 173.625 35.6411 173.236 35.6411 172.721C35.6411 172.23 35.7629 171.849 36.0067 171.578C36.2505 171.303 36.591 171.166 37.0283 171.166C37.3959 171.166 37.6784 171.27 37.8757 171.479C38.0731 171.684 38.1718 171.976 38.1718 172.356C38.1718 172.537 38.1563 172.702 38.1253 172.849H36.1983ZM36.9993 171.601C36.7555 171.601 36.5659 171.675 36.4304 171.822C36.295 171.965 36.2176 172.18 36.1983 172.466H37.6436C37.6474 172.435 37.6494 172.385 37.6494 172.315C37.6494 172.079 37.5933 171.901 37.481 171.781C37.3727 171.661 37.2121 171.601 36.9993 171.601Z'    fill='#D5D7DA'  />  <path d='M344.042 30.6049H408.418V32.7156H344.042V30.6049Z' fill='#D9D8DA' />  <path    d='M344.042 37.9923C344.042 37.4095 344.514 36.937 345.097 36.937H355.651C356.233 36.937 356.706 37.4095 356.706 37.9923V70.708H344.042V37.9923Z'    fill='#D9D8DA'  />  <path    d='M358.817 44.3244C358.817 43.7416 359.289 43.2691 359.872 43.2691H370.425C371.008 43.2691 371.481 43.7416 371.481 44.3244V70.708H358.817V44.3244Z'    fill='#D9D8DA'  />  <path    d='M373.591 49.0735C373.591 48.4906 374.064 48.0181 374.647 48.0181H385.2C385.783 48.0181 386.256 48.4906 386.256 49.0735V70.708H373.591V49.0735Z'    fill='#D9D8DA'  />  <path    d='M388.366 53.8225C388.366 53.2396 388.839 52.7672 389.422 52.7672H399.975C400.558 52.7672 401.03 53.2396 401.03 53.8225V70.708H388.366V53.8225Z'    fill='#D9D8DA'  />  <path    d='M403.141 57.5162C403.141 56.9333 403.614 56.4609 404.196 56.4609H414.75C415.333 56.4609 415.805 56.9333 415.805 57.5162V70.708H403.141V57.5162Z'    fill='#D9D8DA'  />  <path    d='M344.878 80.7337L346.485 77.1873H344.344V76.7113H347.072V77.1698L345.499 80.7337H344.878Z'    fill='#D9D8DA'  />  <path    d='M352.578 80.6235C352.264 80.7434 351.926 80.8034 351.562 80.8034C350.927 80.8034 350.445 80.6293 350.116 80.281C349.791 79.9289 349.629 79.4142 349.629 78.737C349.629 78.0676 349.797 77.5529 350.134 77.1931C350.474 76.8332 350.96 76.6533 351.591 76.6533C351.92 76.6533 352.229 76.7055 352.52 76.81V77.2917C352.167 77.2105 351.881 77.1698 351.66 77.1698C351.173 77.1698 350.817 77.2898 350.592 77.5297C350.368 77.7658 350.256 78.143 350.256 78.6616V78.8009C350.256 79.3117 350.364 79.687 350.581 79.9269C350.801 80.1668 351.15 80.2868 351.626 80.2868C351.869 80.2868 352.187 80.2384 352.578 80.1417V80.6235Z'    fill='#D9D8DA'  />  <path    d='M355.09 80.7337L355.044 80.4319C354.904 80.5519 354.75 80.6447 354.579 80.7105C354.413 80.7763 354.247 80.8092 354.08 80.8092C353.805 80.8092 353.585 80.7318 353.418 80.577C353.256 80.4184 353.175 80.2075 353.175 79.9443C353.175 79.6619 353.275 79.4374 353.477 79.271C353.678 79.1008 353.949 79.0156 354.289 79.0156C354.514 79.0156 354.757 79.0485 355.02 79.1143V78.7312C355.02 78.5223 354.972 78.3752 354.875 78.2901C354.783 78.205 354.622 78.1624 354.394 78.1624C354.065 78.1624 353.724 78.2224 353.372 78.3423V77.936C353.511 77.8625 353.682 77.8064 353.883 77.7677C354.084 77.7251 354.287 77.7038 354.492 77.7038C354.86 77.7038 355.131 77.7812 355.305 77.936C355.479 78.0869 355.566 78.3191 355.566 78.6326V80.7337H355.09ZM354.219 80.3739C354.483 80.3739 354.75 80.2752 355.02 80.0778V79.4858C354.819 79.4355 354.614 79.4103 354.405 79.4103C353.968 79.4103 353.749 79.5787 353.749 79.9153C353.749 80.0624 353.79 80.1765 353.871 80.2578C353.952 80.3352 354.069 80.3739 354.219 80.3739Z'    fill='#D9D8DA'  />  <path    d='M358.223 80.6641C358.034 80.7376 357.819 80.7744 357.579 80.7744C357.03 80.7744 356.755 80.4996 356.755 79.9501V78.2437H356.221V77.8722L356.772 77.8025L356.859 76.9667H357.329V77.7909H358.2V78.2437H357.329V79.9211C357.329 80.0643 357.36 80.1649 357.422 80.223C357.488 80.281 357.598 80.31 357.753 80.31C357.912 80.31 358.069 80.2907 358.223 80.252V80.6641Z'    fill='#D9D8DA'  />  <path    d='M359.345 79.3871C359.353 79.7199 359.434 79.9656 359.589 80.1243C359.748 80.2829 359.991 80.3623 360.32 80.3623C360.626 80.3623 360.937 80.3023 361.255 80.1823V80.5944C360.976 80.7453 360.636 80.8208 360.233 80.8208C359.757 80.8208 359.397 80.6892 359.154 80.4261C358.91 80.163 358.788 79.7741 358.788 79.2594C358.788 78.768 358.91 78.3868 359.154 78.116C359.397 77.8412 359.738 77.7038 360.175 77.7038C360.543 77.7038 360.825 77.8083 361.023 78.0173C361.22 78.2224 361.319 78.5145 361.319 78.8938C361.319 79.0756 361.303 79.2401 361.272 79.3871H359.345ZM360.146 78.1392C359.902 78.1392 359.713 78.2127 359.577 78.3598C359.442 78.5029 359.364 78.7177 359.345 79.004H360.79C360.794 78.9731 360.796 78.9228 360.796 78.8531C360.796 78.6171 360.74 78.4391 360.628 78.3191C360.52 78.1992 360.359 78.1392 360.146 78.1392Z'    fill='#D9D8DA'  />  <path    d='M364.098 80.3332C363.966 80.4455 363.825 80.5325 363.674 80.5944C363.523 80.6525 363.37 80.6815 363.215 80.6815C362.979 80.6815 362.77 80.6235 362.588 80.5074C362.406 80.3913 362.263 80.223 362.159 80.0024C362.058 79.778 362.008 79.5168 362.008 79.2188C362.008 78.7544 362.118 78.3868 362.339 78.116C362.559 77.8412 362.855 77.7038 363.227 77.7038C363.575 77.7038 363.879 77.8238 364.138 78.0637L364.185 77.7909H364.666V80.5538C364.666 81.0143 364.542 81.3703 364.295 81.6218C364.051 81.8733 363.703 81.9991 363.25 81.9991C362.886 81.9991 362.552 81.9217 362.246 81.7669V81.3548C362.602 81.4748 362.921 81.5348 363.204 81.5348C363.513 81.5348 363.74 81.4593 363.883 81.3084C364.026 81.1613 364.098 80.9233 364.098 80.5944V80.3332ZM363.384 80.2171C363.623 80.2171 363.861 80.1282 364.098 79.9501V78.4236C363.981 78.3346 363.863 78.2707 363.743 78.2321C363.623 78.1895 363.492 78.1682 363.349 78.1682C362.846 78.1682 362.594 78.5107 362.594 79.1956C362.594 79.5322 362.66 79.7876 362.791 79.9618C362.927 80.132 363.124 80.2171 363.384 80.2171Z'    fill='#D9D8DA'  />  <path    d='M366.927 80.8208C366.486 80.8208 366.142 80.6834 365.894 80.4087C365.646 80.134 365.523 79.7509 365.523 79.2594C365.523 78.7719 365.646 78.3907 365.894 78.116C366.142 77.8412 366.486 77.7038 366.927 77.7038C367.368 77.7038 367.713 77.8412 367.961 78.116C368.208 78.3907 368.332 78.7719 368.332 79.2594C368.332 79.7509 368.208 80.134 367.961 80.4087C367.713 80.6834 367.368 80.8208 366.927 80.8208ZM366.927 80.3565C367.473 80.3565 367.746 79.9908 367.746 79.2594C367.746 78.5319 367.473 78.1682 366.927 78.1682C366.382 78.1682 366.109 78.5319 366.109 79.2594C366.109 79.9908 366.382 80.3565 366.927 80.3565Z'    fill='#D9D8DA'  />  <path    d='M369.188 80.7337V77.7909H369.67L369.734 78.2262C369.842 78.1102 369.943 78.0212 370.036 77.9592C370.129 77.8935 370.223 77.8451 370.32 77.8141C370.417 77.7832 370.521 77.7677 370.634 77.7677C370.707 77.7677 370.786 77.7735 370.872 77.7851V78.3075C370.748 78.292 370.643 78.2843 370.558 78.2843C370.249 78.2843 369.984 78.3772 369.763 78.5629V80.7337H369.188Z'    fill='#D9D8DA'  />  <path    d='M371.525 80.7337V77.7909H372.099V80.7337H371.525ZM371.815 77.2685C371.703 77.2685 371.614 77.2376 371.548 77.1757C371.486 77.1099 371.455 77.0247 371.455 76.9203C371.455 76.8158 371.486 76.7326 371.548 76.6707C371.614 76.6049 371.703 76.572 371.815 76.572C371.927 76.572 372.014 76.6049 372.076 76.6707C372.142 76.7326 372.175 76.8158 372.175 76.9203C372.175 77.0247 372.142 77.1099 372.076 77.1757C372.014 77.2376 371.927 77.2685 371.815 77.2685Z'    fill='#D9D8DA'  />  <path    d='M373.535 79.3871C373.543 79.7199 373.624 79.9656 373.779 80.1243C373.937 80.2829 374.181 80.3623 374.51 80.3623C374.816 80.3623 375.127 80.3023 375.444 80.1823V80.5944C375.166 80.7453 374.825 80.8208 374.423 80.8208C373.947 80.8208 373.587 80.6892 373.343 80.4261C373.1 80.163 372.978 79.7741 372.978 79.2594C372.978 78.768 373.1 78.3868 373.343 78.116C373.587 77.8412 373.928 77.7038 374.365 77.7038C374.733 77.7038 375.015 77.8083 375.212 78.0173C375.41 78.2224 375.508 78.5145 375.508 78.8938C375.508 79.0756 375.493 79.2401 375.462 79.3871H373.535ZM374.336 78.1392C374.092 78.1392 373.902 78.2127 373.767 78.3598C373.632 78.5029 373.554 78.7177 373.535 79.004H374.98C374.984 78.9731 374.986 78.9228 374.986 78.8531C374.986 78.6171 374.93 78.4391 374.818 78.3191C374.709 78.1992 374.549 78.1392 374.336 78.1392Z'    fill='#D9D8DA'  />  <path    d='M377.73 79.9443C377.73 79.8515 377.699 79.776 377.637 79.718C377.579 79.6599 377.471 79.6019 377.312 79.5438L376.819 79.3581C376.389 79.1995 376.174 78.9286 376.174 78.5455C376.174 78.294 376.271 78.0908 376.465 77.936C376.662 77.7812 376.919 77.7038 377.237 77.7038C377.542 77.7038 377.831 77.7658 378.101 77.8896V78.2959C377.8 78.1992 377.521 78.1508 377.266 78.1508C376.894 78.1508 376.708 78.2766 376.708 78.5281C376.708 78.6287 376.739 78.708 376.801 78.7661C376.863 78.8241 376.985 78.8879 377.167 78.9576L377.62 79.1317C377.848 79.2207 378.012 79.3271 378.113 79.451C378.214 79.5709 378.264 79.7277 378.264 79.9211C378.264 80.1959 378.161 80.4145 377.956 80.577C377.751 80.7395 377.478 80.8208 377.138 80.8208C376.755 80.8208 376.422 80.7473 376.14 80.6002V80.1939C376.503 80.3139 376.84 80.3739 377.15 80.3739C377.339 80.3739 377.482 80.3371 377.579 80.2636C377.68 80.1901 377.73 80.0836 377.73 79.9443Z'    fill='#D9D8DA'  />  <path    d='M326.749 80.648V78.678L326.108 78.8996V78.5267L326.798 78.2101H327.224V80.648H326.749Z'    fill='#D9D8DA'  />  <path    d='M328.507 78.4317C328.629 78.3356 328.752 78.2652 328.877 78.2207C329.001 78.1738 329.136 78.1503 329.281 78.1503C329.504 78.1503 329.682 78.2113 329.816 78.3332C329.952 78.4552 330.02 78.6182 330.02 78.8222C330.02 78.9418 329.988 79.0661 329.925 79.1951C329.862 79.3217 329.756 79.4707 329.608 79.6419C329.461 79.8107 329.251 80.0206 328.979 80.2715H330.125V80.648H328.44V80.2962C328.727 80.0077 328.946 79.7779 329.098 79.6067C329.253 79.4331 329.363 79.2889 329.429 79.174C329.497 79.0591 329.531 78.9535 329.531 78.8574C329.531 78.7612 329.502 78.6862 329.443 78.6322C329.387 78.576 329.307 78.5478 329.204 78.5478C329.103 78.5478 328.992 78.5713 328.87 78.6182C328.75 78.6627 328.629 78.7284 328.507 78.8152V78.4317Z'    fill='#D9D8DA'  />  <path    d='M331.775 79.2373C331.785 79.235 331.797 79.2338 331.814 79.2338C332.027 79.2408 332.198 79.3077 332.327 79.4343C332.459 79.5586 332.524 79.7216 332.524 79.9233C332.524 80.0828 332.483 80.2211 332.401 80.3384C332.322 80.4556 332.21 80.5459 332.067 80.6093C331.926 80.6702 331.765 80.7007 331.582 80.7007C331.357 80.7007 331.135 80.6526 330.917 80.5565V80.1906C331.196 80.2798 331.413 80.3243 331.568 80.3243C331.725 80.3243 331.845 80.2903 331.93 80.2223C332.014 80.1519 332.057 80.0523 332.057 79.9233C332.057 79.6888 331.901 79.5715 331.589 79.5715C331.546 79.5715 331.489 79.5738 331.416 79.5785C331.346 79.5832 331.292 79.5879 331.254 79.5926V79.2936L331.912 78.5795H330.952V78.2101H332.422V78.5654L331.775 79.2373Z'    fill='#D9D8DA'  />  <path d='M231.12 30.6949H304.466V32.8056H231.12V30.6949Z' fill='#D9D8DA' />  <path    d='M304.85 32.2779L304.837 32.2304C304.815 32.2501 304.79 32.266 304.761 32.2779C304.733 32.2892 304.705 32.2948 304.679 32.2948C304.627 32.2948 304.585 32.28 304.553 32.2505C304.522 32.2209 304.507 32.1815 304.507 32.1323C304.507 32.0985 304.515 32.069 304.532 32.0436C304.549 32.0176 304.573 31.9972 304.605 31.9824C304.636 31.9677 304.674 31.9603 304.717 31.9603C304.75 31.9603 304.788 31.9648 304.828 31.974V31.9212C304.828 31.8889 304.822 31.8667 304.808 31.8547C304.795 31.8428 304.77 31.8368 304.735 31.8368C304.677 31.8368 304.613 31.8477 304.544 31.8695V31.7671C304.57 31.7538 304.602 31.7432 304.642 31.7355C304.681 31.727 304.721 31.7228 304.762 31.7228C304.834 31.7228 304.887 31.7376 304.92 31.7671C304.954 31.796 304.971 31.8417 304.971 31.9043V32.2779H304.85ZM304.722 32.1914C304.739 32.1914 304.757 32.1875 304.776 32.1798C304.795 32.172 304.812 32.1615 304.828 32.1481V32.0563C304.797 32.0514 304.77 32.0489 304.745 32.0489C304.684 32.0489 304.653 32.0735 304.653 32.1228C304.653 32.1446 304.659 32.1615 304.671 32.1734C304.683 32.1854 304.7 32.1914 304.722 32.1914Z'    fill='#57AEFF'  />  <path    d='M305.436 32.2779L305.424 32.2304C305.402 32.2501 305.376 32.266 305.348 32.2779C305.319 32.2892 305.292 32.2948 305.265 32.2948C305.213 32.2948 305.171 32.28 305.14 32.2505C305.109 32.2209 305.093 32.1815 305.093 32.1323C305.093 32.0985 305.102 32.069 305.119 32.0436C305.135 32.0176 305.16 31.9972 305.191 31.9824C305.223 31.9677 305.26 31.9603 305.303 31.9603C305.337 31.9603 305.374 31.9648 305.415 31.974V31.9212C305.415 31.8889 305.408 31.8667 305.395 31.8547C305.382 31.8428 305.357 31.8368 305.321 31.8368C305.264 31.8368 305.2 31.8477 305.13 31.8695V31.7671C305.156 31.7538 305.189 31.7432 305.228 31.7355C305.268 31.727 305.308 31.7228 305.349 31.7228C305.421 31.7228 305.474 31.7376 305.507 31.7671C305.541 31.796 305.558 31.8417 305.558 31.9043V32.2779H305.436ZM305.309 32.1914C305.326 32.1914 305.344 32.1875 305.362 32.1798C305.381 32.172 305.399 32.1615 305.415 32.1481V32.0563C305.384 32.0514 305.356 32.0489 305.332 32.0489C305.271 32.0489 305.24 32.0735 305.24 32.1228C305.24 32.1446 305.246 32.1615 305.258 32.1734C305.27 32.1854 305.287 32.1914 305.309 32.1914Z'    fill='#57AEFF'  />  <path    d='M306.023 32.2779L306.01 32.2304C305.988 32.2501 305.963 32.266 305.934 32.2779C305.906 32.2892 305.879 32.2948 305.852 32.2948C305.8 32.2948 305.758 32.28 305.726 32.2505C305.695 32.2209 305.68 32.1815 305.68 32.1323C305.68 32.0985 305.688 32.069 305.705 32.0436C305.722 32.0176 305.746 31.9972 305.778 31.9824C305.81 31.9677 305.847 31.9603 305.89 31.9603C305.924 31.9603 305.961 31.9648 306.002 31.974V31.9212C306.002 31.8889 305.995 31.8667 305.982 31.8547C305.968 31.8428 305.944 31.8368 305.908 31.8368C305.85 31.8368 305.786 31.8477 305.717 31.8695V31.7671C305.743 31.7538 305.776 31.7432 305.815 31.7355C305.854 31.727 305.894 31.7228 305.935 31.7228C306.008 31.7228 306.061 31.7376 306.094 31.7671C306.127 31.796 306.144 31.8417 306.144 31.9043V32.2779H306.023ZM305.895 32.1914C305.913 32.1914 305.931 32.1875 305.949 32.1798C305.968 32.172 305.986 32.1615 306.002 32.1481V32.0563C305.971 32.0514 305.943 32.0489 305.918 32.0489C305.857 32.0489 305.827 32.0735 305.827 32.1228C305.827 32.1446 305.833 32.1615 305.845 32.1734C305.856 32.1854 305.873 32.1914 305.895 32.1914Z'    fill='#57AEFF'  />  <path    d='M306.61 32.2779L306.597 32.2304C306.575 32.2501 306.55 32.266 306.521 32.2779C306.493 32.2892 306.465 32.2948 306.439 32.2948C306.387 32.2948 306.345 32.28 306.313 32.2505C306.282 32.2209 306.267 32.1815 306.267 32.1323C306.267 32.0985 306.275 32.069 306.292 32.0436C306.309 32.0176 306.333 31.9972 306.365 31.9824C306.396 31.9677 306.434 31.9603 306.477 31.9603C306.51 31.9603 306.548 31.9648 306.588 31.974V31.9212C306.588 31.8889 306.582 31.8667 306.568 31.8547C306.555 31.8428 306.53 31.8368 306.495 31.8368C306.437 31.8368 306.373 31.8477 306.303 31.8695V31.7671C306.33 31.7538 306.362 31.7432 306.402 31.7355C306.441 31.727 306.481 31.7228 306.522 31.7228C306.594 31.7228 306.647 31.7376 306.68 31.7671C306.714 31.796 306.731 31.8417 306.731 31.9043V32.2779H306.61ZM306.482 32.1914C306.499 32.1914 306.517 32.1875 306.536 32.1798C306.555 32.172 306.572 32.1615 306.588 32.1481V32.0563C306.557 32.0514 306.53 32.0489 306.505 32.0489C306.444 32.0489 306.413 32.0735 306.413 32.1228C306.413 32.1446 306.419 32.1615 306.431 32.1734C306.443 32.1854 306.46 32.1914 306.482 32.1914Z'    fill='#57AEFF'  />  <path    d='M307.196 32.2779L307.184 32.2304C307.162 32.2501 307.136 32.266 307.108 32.2779C307.079 32.2892 307.052 32.2948 307.025 32.2948C306.973 32.2948 306.931 32.28 306.9 32.2505C306.869 32.2209 306.853 32.1815 306.853 32.1323C306.853 32.0985 306.862 32.069 306.879 32.0436C306.895 32.0176 306.92 31.9972 306.951 31.9824C306.983 31.9677 307.02 31.9603 307.063 31.9603C307.097 31.9603 307.134 31.9648 307.175 31.974V31.9212C307.175 31.8889 307.168 31.8667 307.155 31.8547C307.142 31.8428 307.117 31.8368 307.081 31.8368C307.023 31.8368 306.96 31.8477 306.89 31.8695V31.7671C306.916 31.7538 306.949 31.7432 306.988 31.7355C307.028 31.727 307.068 31.7228 307.109 31.7228C307.181 31.7228 307.234 31.7376 307.267 31.7671C307.301 31.796 307.318 31.8417 307.318 31.9043V32.2779H307.196ZM307.069 32.1914C307.086 32.1914 307.104 32.1875 307.122 32.1798C307.141 32.172 307.159 32.1615 307.175 32.1481V32.0563C307.144 32.0514 307.116 32.0489 307.092 32.0489C307.031 32.0489 307 32.0735 307 32.1228C307 32.1446 307.006 32.1615 307.018 32.1734C307.03 32.1854 307.047 32.1914 307.069 32.1914Z'    fill='#57AEFF'  />  <path    d='M307.783 32.2779L307.77 32.2304C307.748 32.2501 307.723 32.266 307.694 32.2779C307.666 32.2892 307.639 32.2948 307.612 32.2948C307.56 32.2948 307.518 32.28 307.486 32.2505C307.455 32.2209 307.44 32.1815 307.44 32.1323C307.44 32.0985 307.448 32.069 307.465 32.0436C307.482 32.0176 307.506 31.9972 307.538 31.9824C307.57 31.9677 307.607 31.9603 307.65 31.9603C307.684 31.9603 307.721 31.9648 307.762 31.974V31.9212C307.762 31.8889 307.755 31.8667 307.742 31.8547C307.728 31.8428 307.704 31.8368 307.668 31.8368C307.61 31.8368 307.546 31.8477 307.477 31.8695V31.7671C307.503 31.7538 307.536 31.7432 307.575 31.7355C307.614 31.727 307.654 31.7228 307.695 31.7228C307.768 31.7228 307.821 31.7376 307.854 31.7671C307.887 31.796 307.904 31.8417 307.904 31.9043V32.2779H307.783ZM307.655 32.1914C307.673 32.1914 307.691 32.1875 307.709 32.1798C307.728 32.172 307.746 32.1615 307.762 32.1481V32.0563C307.731 32.0514 307.703 32.0489 307.678 32.0489C307.617 32.0489 307.587 32.0735 307.587 32.1228C307.587 32.1446 307.593 32.1615 307.605 32.1734C307.616 32.1854 307.633 32.1914 307.655 32.1914Z'    fill='#57AEFF'  />  <path    d='M308.37 32.2779L308.357 32.2304C308.335 32.2501 308.31 32.266 308.281 32.2779C308.253 32.2892 308.225 32.2948 308.199 32.2948C308.147 32.2948 308.105 32.28 308.073 32.2505C308.042 32.2209 308.027 32.1815 308.027 32.1323C308.027 32.0985 308.035 32.069 308.052 32.0436C308.069 32.0176 308.093 31.9972 308.125 31.9824C308.156 31.9677 308.194 31.9603 308.237 31.9603C308.27 31.9603 308.308 31.9648 308.348 31.974V31.9212C308.348 31.8889 308.342 31.8667 308.328 31.8547C308.315 31.8428 308.29 31.8368 308.254 31.8368C308.197 31.8368 308.133 31.8477 308.063 31.8695V31.7671C308.09 31.7538 308.122 31.7432 308.162 31.7355C308.201 31.727 308.241 31.7228 308.282 31.7228C308.354 31.7228 308.407 31.7376 308.44 31.7671C308.474 31.796 308.491 31.8417 308.491 31.9043V32.2779H308.37ZM308.242 32.1914C308.259 32.1914 308.277 32.1875 308.296 32.1798C308.315 32.172 308.332 32.1615 308.348 32.1481V32.0563C308.317 32.0514 308.29 32.0489 308.265 32.0489C308.204 32.0489 308.173 32.0735 308.173 32.1228C308.173 32.1446 308.179 32.1615 308.191 32.1734C308.203 32.1854 308.22 32.1914 308.242 32.1914Z'    fill='#57AEFF'  />  <path    d='M308.956 32.2779L308.944 32.2304C308.922 32.2501 308.896 32.266 308.868 32.2779C308.839 32.2892 308.812 32.2948 308.785 32.2948C308.733 32.2948 308.691 32.28 308.66 32.2505C308.629 32.2209 308.613 32.1815 308.613 32.1323C308.613 32.0985 308.622 32.069 308.639 32.0436C308.655 32.0176 308.68 31.9972 308.711 31.9824C308.743 31.9677 308.78 31.9603 308.823 31.9603C308.857 31.9603 308.894 31.9648 308.935 31.974V31.9212C308.935 31.8889 308.928 31.8667 308.915 31.8547C308.902 31.8428 308.877 31.8368 308.841 31.8368C308.783 31.8368 308.72 31.8477 308.65 31.8695V31.7671C308.676 31.7538 308.709 31.7432 308.748 31.7355C308.788 31.727 308.828 31.7228 308.869 31.7228C308.941 31.7228 308.994 31.7376 309.027 31.7671C309.061 31.796 309.078 31.8417 309.078 31.9043V32.2779H308.956ZM308.829 32.1914C308.846 32.1914 308.864 32.1875 308.882 32.1798C308.901 32.172 308.919 32.1615 308.935 32.1481V32.0563C308.904 32.0514 308.876 32.0489 308.852 32.0489C308.791 32.0489 308.76 32.0735 308.76 32.1228C308.76 32.1446 308.766 32.1615 308.778 32.1734C308.79 32.1854 308.807 32.1914 308.829 32.1914Z'    fill='#57AEFF'  />  <path    d='M309.543 32.2779L309.53 32.2304C309.508 32.2501 309.483 32.266 309.454 32.2779C309.426 32.2892 309.399 32.2948 309.372 32.2948C309.32 32.2948 309.278 32.28 309.246 32.2505C309.215 32.2209 309.2 32.1815 309.2 32.1323C309.2 32.0985 309.208 32.069 309.225 32.0436C309.242 32.0176 309.266 31.9972 309.298 31.9824C309.33 31.9677 309.367 31.9603 309.41 31.9603C309.444 31.9603 309.481 31.9648 309.522 31.974V31.9212C309.522 31.8889 309.515 31.8667 309.502 31.8547C309.488 31.8428 309.464 31.8368 309.428 31.8368C309.37 31.8368 309.306 31.8477 309.237 31.8695V31.7671C309.263 31.7538 309.296 31.7432 309.335 31.7355C309.374 31.727 309.414 31.7228 309.455 31.7228C309.528 31.7228 309.581 31.7376 309.614 31.7671C309.647 31.796 309.664 31.8417 309.664 31.9043V32.2779H309.543ZM309.415 32.1914C309.433 32.1914 309.451 32.1875 309.469 32.1798C309.488 32.172 309.506 32.1615 309.522 32.1481V32.0563C309.491 32.0514 309.463 32.0489 309.438 32.0489C309.377 32.0489 309.347 32.0735 309.347 32.1228C309.347 32.1446 309.353 32.1615 309.364 32.1734C309.376 32.1854 309.393 32.1914 309.415 32.1914Z'    fill='#57AEFF'  />  <path    d='M310.13 32.2779L310.117 32.2304C310.095 32.2501 310.07 32.266 310.041 32.2779C310.013 32.2892 309.985 32.2948 309.959 32.2948C309.907 32.2948 309.865 32.28 309.833 32.2505C309.802 32.2209 309.787 32.1815 309.787 32.1323C309.787 32.0985 309.795 32.069 309.812 32.0436C309.829 32.0176 309.853 31.9972 309.885 31.9824C309.916 31.9677 309.954 31.9603 309.997 31.9603C310.03 31.9603 310.068 31.9648 310.108 31.974V31.9212C310.108 31.8889 310.102 31.8667 310.088 31.8547C310.075 31.8428 310.05 31.8368 310.014 31.8368C309.957 31.8368 309.893 31.8477 309.823 31.8695V31.7671C309.85 31.7538 309.882 31.7432 309.922 31.7355C309.961 31.727 310.001 31.7228 310.042 31.7228C310.114 31.7228 310.167 31.7376 310.2 31.7671C310.234 31.796 310.251 31.8417 310.251 31.9043V32.2779H310.13ZM310.002 32.1914C310.019 32.1914 310.037 32.1875 310.056 32.1798C310.075 32.172 310.092 32.1615 310.108 32.1481V32.0563C310.077 32.0514 310.05 32.0489 310.025 32.0489C309.964 32.0489 309.933 32.0735 309.933 32.1228C309.933 32.1446 309.939 32.1615 309.951 32.1734C309.963 32.1854 309.98 32.1914 310.002 32.1914Z'    fill='#57AEFF'  />  <path    d='M311.182 32.2779L311.169 32.2304C311.147 32.2501 311.122 32.266 311.093 32.2779C311.065 32.2892 311.037 32.2948 311.011 32.2948C310.959 32.2948 310.917 32.28 310.885 32.2505C310.854 32.2209 310.839 32.1815 310.839 32.1323C310.839 32.0985 310.847 32.069 310.864 32.0436C310.881 32.0176 310.905 31.9972 310.937 31.9824C310.968 31.9677 311.006 31.9603 311.049 31.9603C311.082 31.9603 311.12 31.9648 311.16 31.974V31.9212C311.16 31.8889 311.154 31.8667 311.14 31.8547C311.127 31.8428 311.102 31.8368 311.067 31.8368C311.009 31.8368 310.945 31.8477 310.876 31.8695V31.7671C310.902 31.7538 310.934 31.7432 310.974 31.7355C311.013 31.727 311.053 31.7228 311.094 31.7228C311.166 31.7228 311.219 31.7376 311.252 31.7671C311.286 31.796 311.303 31.8417 311.303 31.9043V32.2779H311.182ZM311.054 32.1914C311.072 32.1914 311.089 32.1875 311.108 32.1798C311.127 32.172 311.144 32.1615 311.16 32.1481V32.0563C311.13 32.0514 311.102 32.0489 311.077 32.0489C311.016 32.0489 310.985 32.0735 310.985 32.1228C310.985 32.1446 310.991 32.1615 311.003 32.1734C311.015 32.1854 311.032 32.1914 311.054 32.1914Z'    fill='#7B61FF'  />  <path    d='M311.768 32.2779L311.756 32.2304C311.734 32.2501 311.708 32.266 311.68 32.2779C311.651 32.2892 311.624 32.2948 311.597 32.2948C311.545 32.2948 311.503 32.28 311.472 32.2505C311.441 32.2209 311.425 32.1815 311.425 32.1323C311.425 32.0985 311.434 32.069 311.451 32.0436C311.467 32.0176 311.492 31.9972 311.523 31.9824C311.555 31.9677 311.592 31.9603 311.635 31.9603C311.669 31.9603 311.706 31.9648 311.747 31.974V31.9212C311.747 31.8889 311.741 31.8667 311.727 31.8547C311.714 31.8428 311.689 31.8368 311.653 31.8368C311.596 31.8368 311.532 31.8477 311.462 31.8695V31.7671C311.488 31.7538 311.521 31.7432 311.56 31.7355C311.6 31.727 311.64 31.7228 311.681 31.7228C311.753 31.7228 311.806 31.7376 311.839 31.7671C311.873 31.796 311.89 31.8417 311.89 31.9043V32.2779H311.768ZM311.641 32.1914C311.658 32.1914 311.676 32.1875 311.694 32.1798C311.713 32.172 311.731 32.1615 311.747 32.1481V32.0563C311.716 32.0514 311.688 32.0489 311.664 32.0489C311.603 32.0489 311.572 32.0735 311.572 32.1228C311.572 32.1446 311.578 32.1615 311.59 32.1734C311.602 32.1854 311.619 32.1914 311.641 32.1914Z'    fill='#7B61FF'  />  <path    d='M312.355 32.2779L312.342 32.2304C312.32 32.2501 312.295 32.266 312.266 32.2779C312.238 32.2892 312.211 32.2948 312.184 32.2948C312.132 32.2948 312.09 32.28 312.058 32.2505C312.027 32.2209 312.012 32.1815 312.012 32.1323C312.012 32.0985 312.02 32.069 312.037 32.0436C312.054 32.0176 312.078 31.9972 312.11 31.9824C312.142 31.9677 312.179 31.9603 312.222 31.9603C312.256 31.9603 312.293 31.9648 312.334 31.974V31.9212C312.334 31.8889 312.327 31.8667 312.314 31.8547C312.3 31.8428 312.276 31.8368 312.24 31.8368C312.182 31.8368 312.119 31.8477 312.049 31.8695V31.7671C312.075 31.7538 312.108 31.7432 312.147 31.7355C312.186 31.727 312.227 31.7228 312.267 31.7228C312.34 31.7228 312.393 31.7376 312.426 31.7671C312.459 31.796 312.476 31.8417 312.476 31.9043V32.2779H312.355ZM312.227 32.1914C312.245 32.1914 312.263 32.1875 312.281 32.1798C312.3 32.172 312.318 32.1615 312.334 32.1481V32.0563C312.303 32.0514 312.275 32.0489 312.25 32.0489C312.189 32.0489 312.159 32.0735 312.159 32.1228C312.159 32.1446 312.165 32.1615 312.177 32.1734C312.189 32.1854 312.205 32.1914 312.227 32.1914Z'    fill='#7B61FF'  />  <path    d='M312.942 32.2779L312.929 32.2304C312.907 32.2501 312.882 32.266 312.853 32.2779C312.825 32.2892 312.797 32.2948 312.771 32.2948C312.719 32.2948 312.677 32.28 312.645 32.2505C312.614 32.2209 312.599 32.1815 312.599 32.1323C312.599 32.0985 312.607 32.069 312.624 32.0436C312.641 32.0176 312.665 31.9972 312.697 31.9824C312.728 31.9677 312.766 31.9603 312.809 31.9603C312.842 31.9603 312.88 31.9648 312.921 31.974V31.9212C312.921 31.8889 312.914 31.8667 312.9 31.8547C312.887 31.8428 312.862 31.8368 312.827 31.8368C312.769 31.8368 312.705 31.8477 312.636 31.8695V31.7671C312.662 31.7538 312.694 31.7432 312.734 31.7355C312.773 31.727 312.813 31.7228 312.854 31.7228C312.926 31.7228 312.979 31.7376 313.012 31.7671C313.046 31.796 313.063 31.8417 313.063 31.9043V32.2779H312.942ZM312.814 32.1914C312.831 32.1914 312.849 32.1875 312.868 32.1798C312.887 32.172 312.904 32.1615 312.921 32.1481V32.0563C312.89 32.0514 312.862 32.0489 312.837 32.0489C312.776 32.0489 312.745 32.0735 312.745 32.1228C312.745 32.1446 312.751 32.1615 312.763 32.1734C312.775 32.1854 312.792 32.1914 312.814 32.1914Z'    fill='#7B61FF'  />  <path    d='M313.528 32.2779L313.516 32.2304C313.494 32.2501 313.468 32.266 313.44 32.2779C313.411 32.2892 313.384 32.2948 313.357 32.2948C313.305 32.2948 313.263 32.28 313.232 32.2505C313.201 32.2209 313.185 32.1815 313.185 32.1323C313.185 32.0985 313.194 32.069 313.211 32.0436C313.227 32.0176 313.252 31.9972 313.283 31.9824C313.315 31.9677 313.352 31.9603 313.395 31.9603C313.429 31.9603 313.466 31.9648 313.507 31.974V31.9212C313.507 31.8889 313.5 31.8667 313.487 31.8547C313.474 31.8428 313.449 31.8368 313.413 31.8368C313.356 31.8368 313.292 31.8477 313.222 31.8695V31.7671C313.248 31.7538 313.281 31.7432 313.32 31.7355C313.36 31.727 313.4 31.7228 313.441 31.7228C313.513 31.7228 313.566 31.7376 313.599 31.7671C313.633 31.796 313.65 31.8417 313.65 31.9043V32.2779H313.528ZM313.401 32.1914C313.418 32.1914 313.436 32.1875 313.454 32.1798C313.473 32.172 313.491 32.1615 313.507 32.1481V32.0563C313.476 32.0514 313.448 32.0489 313.424 32.0489C313.363 32.0489 313.332 32.0735 313.332 32.1228C313.332 32.1446 313.338 32.1615 313.35 32.1734C313.362 32.1854 313.379 32.1914 313.401 32.1914Z'    fill='#7B61FF'  />  <path    d='M314.115 32.2779L314.102 32.2304C314.08 32.2501 314.055 32.266 314.026 32.2779C313.998 32.2892 313.971 32.2948 313.944 32.2948C313.892 32.2948 313.85 32.28 313.818 32.2505C313.787 32.2209 313.772 32.1815 313.772 32.1323C313.772 32.0985 313.78 32.069 313.797 32.0436C313.814 32.0176 313.838 31.9972 313.87 31.9824C313.902 31.9677 313.939 31.9603 313.982 31.9603C314.016 31.9603 314.053 31.9648 314.094 31.974V31.9212C314.094 31.8889 314.087 31.8667 314.074 31.8547C314.06 31.8428 314.036 31.8368 314 31.8368C313.942 31.8368 313.879 31.8477 313.809 31.8695V31.7671C313.835 31.7538 313.868 31.7432 313.907 31.7355C313.946 31.727 313.987 31.7228 314.027 31.7228C314.1 31.7228 314.153 31.7376 314.186 31.7671C314.219 31.796 314.236 31.8417 314.236 31.9043V32.2779H314.115ZM313.987 32.1914C314.005 32.1914 314.023 32.1875 314.041 32.1798C314.06 32.172 314.078 32.1615 314.094 32.1481V32.0563C314.063 32.0514 314.035 32.0489 314.01 32.0489C313.949 32.0489 313.919 32.0735 313.919 32.1228C313.919 32.1446 313.925 32.1615 313.937 32.1734C313.949 32.1854 313.965 32.1914 313.987 32.1914Z'    fill='#7B61FF'  />  <path    d='M314.702 32.2779L314.689 32.2304C314.667 32.2501 314.642 32.266 314.613 32.2779C314.585 32.2892 314.557 32.2948 314.531 32.2948C314.479 32.2948 314.437 32.28 314.405 32.2505C314.374 32.2209 314.359 32.1815 314.359 32.1323C314.359 32.0985 314.367 32.069 314.384 32.0436C314.401 32.0176 314.425 31.9972 314.457 31.9824C314.488 31.9677 314.526 31.9603 314.569 31.9603C314.602 31.9603 314.64 31.9648 314.681 31.974V31.9212C314.681 31.8889 314.674 31.8667 314.66 31.8547C314.647 31.8428 314.622 31.8368 314.587 31.8368C314.529 31.8368 314.465 31.8477 314.396 31.8695V31.7671C314.422 31.7538 314.454 31.7432 314.494 31.7355C314.533 31.727 314.573 31.7228 314.614 31.7228C314.686 31.7228 314.739 31.7376 314.772 31.7671C314.806 31.796 314.823 31.8417 314.823 31.9043V32.2779H314.702ZM314.574 32.1914C314.591 32.1914 314.609 32.1875 314.628 32.1798C314.647 32.172 314.664 32.1615 314.681 32.1481V32.0563C314.65 32.0514 314.622 32.0489 314.597 32.0489C314.536 32.0489 314.505 32.0735 314.505 32.1228C314.505 32.1446 314.511 32.1615 314.523 32.1734C314.535 32.1854 314.552 32.1914 314.574 32.1914Z'    fill='#7B61FF'  />  <path    d='M315.288 32.2779L315.276 32.2304C315.254 32.2501 315.228 32.266 315.2 32.2779C315.171 32.2892 315.144 32.2948 315.117 32.2948C315.065 32.2948 315.023 32.28 314.992 32.2505C314.961 32.2209 314.945 32.1815 314.945 32.1323C314.945 32.0985 314.954 32.069 314.971 32.0436C314.987 32.0176 315.012 31.9972 315.043 31.9824C315.075 31.9677 315.112 31.9603 315.155 31.9603C315.189 31.9603 315.226 31.9648 315.267 31.974V31.9212C315.267 31.8889 315.26 31.8667 315.247 31.8547C315.234 31.8428 315.209 31.8368 315.173 31.8368C315.116 31.8368 315.052 31.8477 314.982 31.8695V31.7671C315.008 31.7538 315.041 31.7432 315.08 31.7355C315.12 31.727 315.16 31.7228 315.201 31.7228C315.273 31.7228 315.326 31.7376 315.359 31.7671C315.393 31.796 315.41 31.8417 315.41 31.9043V32.2779H315.288ZM315.161 32.1914C315.178 32.1914 315.196 32.1875 315.214 32.1798C315.233 32.172 315.251 32.1615 315.267 32.1481V32.0563C315.236 32.0514 315.208 32.0489 315.184 32.0489C315.123 32.0489 315.092 32.0735 315.092 32.1228C315.092 32.1446 315.098 32.1615 315.11 32.1734C315.122 32.1854 315.139 32.1914 315.161 32.1914Z'    fill='#7B61FF'  />  <path    d='M315.875 32.2779L315.862 32.2304C315.84 32.2501 315.815 32.266 315.786 32.2779C315.758 32.2892 315.731 32.2948 315.704 32.2948C315.652 32.2948 315.61 32.28 315.578 32.2505C315.547 32.2209 315.532 32.1815 315.532 32.1323C315.532 32.0985 315.54 32.069 315.557 32.0436C315.574 32.0176 315.598 31.9972 315.63 31.9824C315.662 31.9677 315.699 31.9603 315.742 31.9603C315.776 31.9603 315.813 31.9648 315.854 31.974V31.9212C315.854 31.8889 315.847 31.8667 315.834 31.8547C315.82 31.8428 315.796 31.8368 315.76 31.8368C315.702 31.8368 315.639 31.8477 315.569 31.8695V31.7671C315.595 31.7538 315.628 31.7432 315.667 31.7355C315.706 31.727 315.747 31.7228 315.787 31.7228C315.86 31.7228 315.913 31.7376 315.946 31.7671C315.979 31.796 315.996 31.8417 315.996 31.9043V32.2779H315.875ZM315.747 32.1914C315.765 32.1914 315.783 32.1875 315.801 32.1798C315.82 32.172 315.838 32.1615 315.854 32.1481V32.0563C315.823 32.0514 315.795 32.0489 315.77 32.0489C315.709 32.0489 315.679 32.0735 315.679 32.1228C315.679 32.1446 315.685 32.1615 315.697 32.1734C315.709 32.1854 315.725 32.1914 315.747 32.1914Z'    fill='#7B61FF'  />  <path    d='M316.462 32.2779L316.449 32.2304C316.427 32.2501 316.402 32.266 316.373 32.2779C316.345 32.2892 316.317 32.2948 316.291 32.2948C316.239 32.2948 316.197 32.28 316.165 32.2505C316.134 32.2209 316.119 32.1815 316.119 32.1323C316.119 32.0985 316.127 32.069 316.144 32.0436C316.161 32.0176 316.185 31.9972 316.217 31.9824C316.248 31.9677 316.286 31.9603 316.329 31.9603C316.362 31.9603 316.4 31.9648 316.44 31.974V31.9212C316.44 31.8889 316.434 31.8667 316.42 31.8547C316.407 31.8428 316.382 31.8368 316.347 31.8368C316.289 31.8368 316.225 31.8477 316.156 31.8695V31.7671C316.182 31.7538 316.214 31.7432 316.254 31.7355C316.293 31.727 316.333 31.7228 316.374 31.7228C316.446 31.7228 316.499 31.7376 316.532 31.7671C316.566 31.796 316.583 31.8417 316.583 31.9043V32.2779H316.462ZM316.334 32.1914C316.351 32.1914 316.369 32.1875 316.388 32.1798C316.407 32.172 316.424 32.1615 316.44 32.1481V32.0563C316.41 32.0514 316.382 32.0489 316.357 32.0489C316.296 32.0489 316.265 32.0735 316.265 32.1228C316.265 32.1446 316.271 32.1615 316.283 32.1734C316.295 32.1854 316.312 32.1914 316.334 32.1914Z'    fill='#7B61FF'  />  <path    d='M317.048 32.2779L317.036 32.2304C317.014 32.2501 316.988 32.266 316.96 32.2779C316.931 32.2892 316.904 32.2948 316.877 32.2948C316.825 32.2948 316.783 32.28 316.752 32.2505C316.721 32.2209 316.705 32.1815 316.705 32.1323C316.705 32.0985 316.714 32.069 316.731 32.0436C316.747 32.0176 316.772 31.9972 316.803 31.9824C316.835 31.9677 316.872 31.9603 316.915 31.9603C316.949 31.9603 316.986 31.9648 317.027 31.974V31.9212C317.027 31.8889 317.02 31.8667 317.007 31.8547C316.994 31.8428 316.969 31.8368 316.933 31.8368C316.876 31.8368 316.812 31.8477 316.742 31.8695V31.7671C316.768 31.7538 316.801 31.7432 316.84 31.7355C316.88 31.727 316.92 31.7228 316.961 31.7228C317.033 31.7228 317.086 31.7376 317.119 31.7671C317.153 31.796 317.17 31.8417 317.17 31.9043V32.2779H317.048ZM316.921 32.1914C316.938 32.1914 316.956 32.1875 316.974 32.1798C316.993 32.172 317.011 32.1615 317.027 32.1481V32.0563C316.996 32.0514 316.968 32.0489 316.944 32.0489C316.883 32.0489 316.852 32.0735 316.852 32.1228C316.852 32.1446 316.858 32.1615 316.87 32.1734C316.882 32.1854 316.899 32.1914 316.921 32.1914Z'    fill='#7B61FF'  />  <path    d='M317.635 32.2779L317.622 32.2304C317.6 32.2501 317.575 32.266 317.546 32.2779C317.518 32.2892 317.491 32.2948 317.464 32.2948C317.412 32.2948 317.37 32.28 317.338 32.2505C317.307 32.2209 317.292 32.1815 317.292 32.1323C317.292 32.0985 317.3 32.069 317.317 32.0436C317.334 32.0176 317.358 31.9972 317.39 31.9824C317.422 31.9677 317.459 31.9603 317.502 31.9603C317.536 31.9603 317.573 31.9648 317.614 31.974V31.9212C317.614 31.8889 317.607 31.8667 317.594 31.8547C317.58 31.8428 317.556 31.8368 317.52 31.8368C317.462 31.8368 317.399 31.8477 317.329 31.8695V31.7671C317.355 31.7538 317.388 31.7432 317.427 31.7355C317.466 31.727 317.507 31.7228 317.547 31.7228C317.62 31.7228 317.673 31.7376 317.706 31.7671C317.739 31.796 317.756 31.8417 317.756 31.9043V32.2779H317.635ZM317.507 32.1914C317.525 32.1914 317.543 32.1875 317.561 32.1798C317.58 32.172 317.598 32.1615 317.614 32.1481V32.0563C317.583 32.0514 317.555 32.0489 317.53 32.0489C317.469 32.0489 317.439 32.0735 317.439 32.1228C317.439 32.1446 317.445 32.1615 317.457 32.1734C317.469 32.1854 317.485 32.1914 317.507 32.1914Z'    fill='#7B61FF'  />  <path    d='M318.222 32.2779L318.209 32.2304C318.187 32.2501 318.162 32.266 318.133 32.2779C318.105 32.2892 318.077 32.2948 318.051 32.2948C317.999 32.2948 317.957 32.28 317.925 32.2505C317.894 32.2209 317.879 32.1815 317.879 32.1323C317.879 32.0985 317.887 32.069 317.904 32.0436C317.921 32.0176 317.945 31.9972 317.977 31.9824C318.008 31.9677 318.046 31.9603 318.089 31.9603C318.122 31.9603 318.16 31.9648 318.2 31.974V31.9212C318.2 31.8889 318.194 31.8667 318.18 31.8547C318.167 31.8428 318.142 31.8368 318.107 31.8368C318.049 31.8368 317.985 31.8477 317.916 31.8695V31.7671C317.942 31.7538 317.974 31.7432 318.014 31.7355C318.053 31.727 318.093 31.7228 318.134 31.7228C318.206 31.7228 318.259 31.7376 318.292 31.7671C318.326 31.796 318.343 31.8417 318.343 31.9043V32.2779H318.222ZM318.094 32.1914C318.111 32.1914 318.129 32.1875 318.148 32.1798C318.167 32.172 318.184 32.1615 318.2 32.1481V32.0563C318.17 32.0514 318.142 32.0489 318.117 32.0489C318.056 32.0489 318.025 32.0735 318.025 32.1228C318.025 32.1446 318.031 32.1615 318.043 32.1734C318.055 32.1854 318.072 32.1914 318.094 32.1914Z'    fill='#7B61FF'  />  <path    d='M318.808 32.2779L318.796 32.2304C318.774 32.2501 318.748 32.266 318.72 32.2779C318.691 32.2892 318.664 32.2948 318.637 32.2948C318.585 32.2948 318.543 32.28 318.512 32.2505C318.481 32.2209 318.465 32.1815 318.465 32.1323C318.465 32.0985 318.474 32.069 318.491 32.0436C318.507 32.0176 318.532 31.9972 318.563 31.9824C318.595 31.9677 318.632 31.9603 318.675 31.9603C318.709 31.9603 318.746 31.9648 318.787 31.974V31.9212C318.787 31.8889 318.78 31.8667 318.767 31.8547C318.754 31.8428 318.729 31.8368 318.693 31.8368C318.636 31.8368 318.572 31.8477 318.502 31.8695V31.7671C318.528 31.7538 318.561 31.7432 318.6 31.7355C318.64 31.727 318.68 31.7228 318.721 31.7228C318.793 31.7228 318.846 31.7376 318.879 31.7671C318.913 31.796 318.93 31.8417 318.93 31.9043V32.2779H318.808ZM318.681 32.1914C318.698 32.1914 318.716 32.1875 318.734 32.1798C318.753 32.172 318.771 32.1615 318.787 32.1481V32.0563C318.756 32.0514 318.728 32.0489 318.704 32.0489C318.643 32.0489 318.612 32.0735 318.612 32.1228C318.612 32.1446 318.618 32.1615 318.63 32.1734C318.642 32.1854 318.659 32.1914 318.681 32.1914Z'    fill='#7B61FF'  />  <path    d='M319.395 32.2779L319.382 32.2304C319.36 32.2501 319.335 32.266 319.306 32.2779C319.278 32.2892 319.251 32.2948 319.224 32.2948C319.172 32.2948 319.13 32.28 319.098 32.2505C319.067 32.2209 319.052 32.1815 319.052 32.1323C319.052 32.0985 319.06 32.069 319.077 32.0436C319.094 32.0176 319.118 31.9972 319.15 31.9824C319.182 31.9677 319.219 31.9603 319.262 31.9603C319.296 31.9603 319.333 31.9648 319.374 31.974V31.9212C319.374 31.8889 319.367 31.8667 319.354 31.8547C319.34 31.8428 319.316 31.8368 319.28 31.8368C319.222 31.8368 319.159 31.8477 319.089 31.8695V31.7671C319.115 31.7538 319.148 31.7432 319.187 31.7355C319.226 31.727 319.267 31.7228 319.307 31.7228C319.38 31.7228 319.433 31.7376 319.466 31.7671C319.499 31.796 319.516 31.8417 319.516 31.9043V32.2779H319.395ZM319.267 32.1914C319.285 32.1914 319.303 32.1875 319.321 32.1798C319.34 32.172 319.358 32.1615 319.374 32.1481V32.0563C319.343 32.0514 319.315 32.0489 319.29 32.0489C319.229 32.0489 319.199 32.0735 319.199 32.1228C319.199 32.1446 319.205 32.1615 319.217 32.1734C319.229 32.1854 319.245 32.1914 319.267 32.1914Z'    fill='#7B61FF'  />  <path    d='M319.982 32.2779L319.969 32.2304C319.947 32.2501 319.922 32.266 319.893 32.2779C319.865 32.2892 319.837 32.2948 319.811 32.2948C319.759 32.2948 319.717 32.28 319.685 32.2505C319.654 32.2209 319.639 32.1815 319.639 32.1323C319.639 32.0985 319.647 32.069 319.664 32.0436C319.681 32.0176 319.705 31.9972 319.737 31.9824C319.768 31.9677 319.806 31.9603 319.849 31.9603C319.882 31.9603 319.92 31.9648 319.96 31.974V31.9212C319.96 31.8889 319.954 31.8667 319.94 31.8547C319.927 31.8428 319.902 31.8368 319.867 31.8368C319.809 31.8368 319.745 31.8477 319.676 31.8695V31.7671C319.702 31.7538 319.734 31.7432 319.774 31.7355C319.813 31.727 319.853 31.7228 319.894 31.7228C319.966 31.7228 320.019 31.7376 320.052 31.7671C320.086 31.796 320.103 31.8417 320.103 31.9043V32.2779H319.982ZM319.854 32.1914C319.871 32.1914 319.889 32.1875 319.908 32.1798C319.927 32.172 319.944 32.1615 319.96 32.1481V32.0563C319.93 32.0514 319.902 32.0489 319.877 32.0489C319.816 32.0489 319.785 32.0735 319.785 32.1228C319.785 32.1446 319.791 32.1615 319.803 32.1734C319.815 32.1854 319.832 32.1914 319.854 32.1914Z'    fill='#7B61FF'  />  <path    d='M320.568 32.2779L320.556 32.2304C320.534 32.2501 320.508 32.266 320.48 32.2779C320.451 32.2892 320.424 32.2948 320.397 32.2948C320.345 32.2948 320.303 32.28 320.272 32.2505C320.241 32.2209 320.225 32.1815 320.225 32.1323C320.225 32.0985 320.234 32.069 320.251 32.0436C320.267 32.0176 320.292 31.9972 320.323 31.9824C320.355 31.9677 320.392 31.9603 320.435 31.9603C320.469 31.9603 320.506 31.9648 320.547 31.974V31.9212C320.547 31.8889 320.54 31.8667 320.527 31.8547C320.514 31.8428 320.489 31.8368 320.453 31.8368C320.396 31.8368 320.332 31.8477 320.262 31.8695V31.7671C320.288 31.7538 320.321 31.7432 320.36 31.7355C320.4 31.727 320.44 31.7228 320.481 31.7228C320.553 31.7228 320.606 31.7376 320.639 31.7671C320.673 31.796 320.69 31.8417 320.69 31.9043V32.2779H320.568ZM320.441 32.1914C320.458 32.1914 320.476 32.1875 320.494 32.1798C320.513 32.172 320.531 32.1615 320.547 32.1481V32.0563C320.516 32.0514 320.488 32.0489 320.464 32.0489C320.403 32.0489 320.372 32.0735 320.372 32.1228C320.372 32.1446 320.378 32.1615 320.39 32.1734C320.402 32.1854 320.419 32.1914 320.441 32.1914Z'    fill='#7B61FF'  />  <path    d='M321.155 32.2779L321.142 32.2304C321.12 32.2501 321.095 32.266 321.066 32.2779C321.038 32.2892 321.011 32.2948 320.984 32.2948C320.932 32.2948 320.89 32.28 320.858 32.2505C320.827 32.2209 320.812 32.1815 320.812 32.1323C320.812 32.0985 320.82 32.069 320.837 32.0436C320.854 32.0176 320.878 31.9972 320.91 31.9824C320.942 31.9677 320.979 31.9603 321.022 31.9603C321.056 31.9603 321.093 31.9648 321.134 31.974V31.9212C321.134 31.8889 321.127 31.8667 321.114 31.8547C321.1 31.8428 321.076 31.8368 321.04 31.8368C320.982 31.8368 320.919 31.8477 320.849 31.8695V31.7671C320.875 31.7538 320.908 31.7432 320.947 31.7355C320.986 31.727 321.027 31.7228 321.067 31.7228C321.14 31.7228 321.193 31.7376 321.226 31.7671C321.259 31.796 321.276 31.8417 321.276 31.9043V32.2779H321.155ZM321.027 32.1914C321.045 32.1914 321.063 32.1875 321.081 32.1798C321.1 32.172 321.118 32.1615 321.134 32.1481V32.0563C321.103 32.0514 321.075 32.0489 321.05 32.0489C320.989 32.0489 320.959 32.0735 320.959 32.1228C320.959 32.1446 320.965 32.1615 320.977 32.1734C320.989 32.1854 321.005 32.1914 321.027 32.1914Z'    fill='#7B61FF'  />  <path    d='M321.742 32.2779L321.729 32.2304C321.707 32.2501 321.682 32.266 321.653 32.2779C321.625 32.2892 321.597 32.2948 321.571 32.2948C321.519 32.2948 321.477 32.28 321.445 32.2505C321.414 32.2209 321.399 32.1815 321.399 32.1323C321.399 32.0985 321.407 32.069 321.424 32.0436C321.441 32.0176 321.465 31.9972 321.497 31.9824C321.528 31.9677 321.566 31.9603 321.609 31.9603C321.642 31.9603 321.68 31.9648 321.72 31.974V31.9212C321.72 31.8889 321.714 31.8667 321.7 31.8547C321.687 31.8428 321.662 31.8368 321.627 31.8368C321.569 31.8368 321.505 31.8477 321.435 31.8695V31.7671C321.462 31.7538 321.494 31.7432 321.534 31.7355C321.573 31.727 321.613 31.7228 321.654 31.7228C321.726 31.7228 321.779 31.7376 321.812 31.7671C321.846 31.796 321.863 31.8417 321.863 31.9043V32.2779H321.742ZM321.614 32.1914C321.631 32.1914 321.649 32.1875 321.668 32.1798C321.687 32.172 321.704 32.1615 321.72 32.1481V32.0563C321.69 32.0514 321.662 32.0489 321.637 32.0489C321.576 32.0489 321.545 32.0735 321.545 32.1228C321.545 32.1446 321.551 32.1615 321.563 32.1734C321.575 32.1854 321.592 32.1914 321.614 32.1914Z'    fill='#7B61FF'  />  <path    d='M322.328 32.2779L322.316 32.2304C322.294 32.2501 322.268 32.266 322.24 32.2779C322.211 32.2892 322.184 32.2948 322.157 32.2948C322.105 32.2948 322.063 32.28 322.032 32.2505C322.001 32.2209 321.985 32.1815 321.985 32.1323C321.985 32.0985 321.994 32.069 322.011 32.0436C322.027 32.0176 322.052 31.9972 322.083 31.9824C322.115 31.9677 322.152 31.9603 322.195 31.9603C322.229 31.9603 322.266 31.9648 322.307 31.974V31.9212C322.307 31.8889 322.3 31.8667 322.287 31.8547C322.274 31.8428 322.249 31.8368 322.213 31.8368C322.155 31.8368 322.092 31.8477 322.022 31.8695V31.7671C322.048 31.7538 322.081 31.7432 322.12 31.7355C322.16 31.727 322.2 31.7228 322.241 31.7228C322.313 31.7228 322.366 31.7376 322.399 31.7671C322.433 31.796 322.45 31.8417 322.45 31.9043V32.2779H322.328ZM322.201 32.1914C322.218 32.1914 322.236 32.1875 322.254 32.1798C322.273 32.172 322.291 32.1615 322.307 32.1481V32.0563C322.276 32.0514 322.248 32.0489 322.224 32.0489C322.163 32.0489 322.132 32.0735 322.132 32.1228C322.132 32.1446 322.138 32.1615 322.15 32.1734C322.162 32.1854 322.179 32.1914 322.201 32.1914Z'    fill='#7B61FF'  />  <path    d='M322.915 32.2779L322.902 32.2304C322.88 32.2501 322.855 32.266 322.826 32.2779C322.798 32.2892 322.771 32.2948 322.744 32.2948C322.692 32.2948 322.65 32.28 322.618 32.2505C322.587 32.2209 322.572 32.1815 322.572 32.1323C322.572 32.0985 322.58 32.069 322.597 32.0436C322.614 32.0176 322.638 31.9972 322.67 31.9824C322.702 31.9677 322.739 31.9603 322.782 31.9603C322.816 31.9603 322.853 31.9648 322.894 31.974V31.9212C322.894 31.8889 322.887 31.8667 322.874 31.8547C322.86 31.8428 322.836 31.8368 322.8 31.8368C322.742 31.8368 322.678 31.8477 322.609 31.8695V31.7671C322.635 31.7538 322.668 31.7432 322.707 31.7355C322.746 31.727 322.786 31.7228 322.827 31.7228C322.9 31.7228 322.953 31.7376 322.986 31.7671C323.019 31.796 323.036 31.8417 323.036 31.9043V32.2779H322.915ZM322.787 32.1914C322.805 32.1914 322.823 32.1875 322.841 32.1798C322.86 32.172 322.878 32.1615 322.894 32.1481V32.0563C322.863 32.0514 322.835 32.0489 322.81 32.0489C322.749 32.0489 322.719 32.0735 322.719 32.1228C322.719 32.1446 322.725 32.1615 322.737 32.1734C322.749 32.1854 322.765 32.1914 322.787 32.1914Z'    fill='#7B61FF'  />  <path    d='M323.502 32.2779L323.489 32.2304C323.467 32.2501 323.442 32.266 323.413 32.2779C323.385 32.2892 323.357 32.2948 323.331 32.2948C323.279 32.2948 323.237 32.28 323.205 32.2505C323.174 32.2209 323.159 32.1815 323.159 32.1323C323.159 32.0985 323.167 32.069 323.184 32.0436C323.201 32.0176 323.225 31.9972 323.257 31.9824C323.288 31.9677 323.326 31.9603 323.369 31.9603C323.402 31.9603 323.44 31.9648 323.48 31.974V31.9212C323.48 31.8889 323.474 31.8667 323.46 31.8547C323.447 31.8428 323.422 31.8368 323.387 31.8368C323.329 31.8368 323.265 31.8477 323.195 31.8695V31.7671C323.222 31.7538 323.254 31.7432 323.294 31.7355C323.333 31.727 323.373 31.7228 323.414 31.7228C323.486 31.7228 323.539 31.7376 323.572 31.7671C323.606 31.796 323.623 31.8417 323.623 31.9043V32.2779H323.502ZM323.374 32.1914C323.391 32.1914 323.409 32.1875 323.428 32.1798C323.447 32.172 323.464 32.1615 323.48 32.1481V32.0563C323.449 32.0514 323.422 32.0489 323.397 32.0489C323.336 32.0489 323.305 32.0735 323.305 32.1228C323.305 32.1446 323.311 32.1615 323.323 32.1734C323.335 32.1854 323.352 32.1914 323.374 32.1914Z'    fill='#7B61FF'  />  <path    d='M324.088 32.2779L324.076 32.2304C324.054 32.2501 324.028 32.266 324 32.2779C323.971 32.2892 323.944 32.2948 323.917 32.2948C323.865 32.2948 323.823 32.28 323.792 32.2505C323.761 32.2209 323.745 32.1815 323.745 32.1323C323.745 32.0985 323.754 32.069 323.771 32.0436C323.787 32.0176 323.812 31.9972 323.843 31.9824C323.875 31.9677 323.912 31.9603 323.955 31.9603C323.989 31.9603 324.026 31.9648 324.067 31.974V31.9212C324.067 31.8889 324.06 31.8667 324.047 31.8547C324.034 31.8428 324.009 31.8368 323.973 31.8368C323.915 31.8368 323.852 31.8477 323.782 31.8695V31.7671C323.808 31.7538 323.841 31.7432 323.88 31.7355C323.92 31.727 323.96 31.7228 324.001 31.7228C324.073 31.7228 324.126 31.7376 324.159 31.7671C324.193 31.796 324.21 31.8417 324.21 31.9043V32.2779H324.088ZM323.961 32.1914C323.978 32.1914 323.996 32.1875 324.014 32.1798C324.033 32.172 324.051 32.1615 324.067 32.1481V32.0563C324.036 32.0514 324.008 32.0489 323.984 32.0489C323.923 32.0489 323.892 32.0735 323.892 32.1228C323.892 32.1446 323.898 32.1615 323.91 32.1734C323.922 32.1854 323.939 32.1914 323.961 32.1914Z'    fill='#7B61FF'  />  <path    d='M324.675 32.2779L324.662 32.2304C324.64 32.2501 324.615 32.266 324.586 32.2779C324.558 32.2892 324.531 32.2948 324.504 32.2948C324.452 32.2948 324.41 32.28 324.378 32.2505C324.347 32.2209 324.332 32.1815 324.332 32.1323C324.332 32.0985 324.34 32.069 324.357 32.0436C324.374 32.0176 324.398 31.9972 324.43 31.9824C324.462 31.9677 324.499 31.9603 324.542 31.9603C324.576 31.9603 324.613 31.9648 324.654 31.974V31.9212C324.654 31.8889 324.647 31.8667 324.634 31.8547C324.62 31.8428 324.596 31.8368 324.56 31.8368C324.502 31.8368 324.438 31.8477 324.369 31.8695V31.7671C324.395 31.7538 324.428 31.7432 324.467 31.7355C324.506 31.727 324.546 31.7228 324.587 31.7228C324.66 31.7228 324.713 31.7376 324.746 31.7671C324.779 31.796 324.796 31.8417 324.796 31.9043V32.2779H324.675ZM324.547 32.1914C324.565 32.1914 324.583 32.1875 324.601 32.1798C324.62 32.172 324.638 32.1615 324.654 32.1481V32.0563C324.623 32.0514 324.595 32.0489 324.57 32.0489C324.509 32.0489 324.479 32.0735 324.479 32.1228C324.479 32.1446 324.485 32.1615 324.497 32.1734C324.508 32.1854 324.525 32.1914 324.547 32.1914Z'    fill='#7B61FF'  />  <path    d='M325.262 32.2779L325.249 32.2304C325.227 32.2501 325.202 32.266 325.173 32.2779C325.145 32.2892 325.117 32.2948 325.091 32.2948C325.039 32.2948 324.997 32.28 324.965 32.2505C324.934 32.2209 324.919 32.1815 324.919 32.1323C324.919 32.0985 324.927 32.069 324.944 32.0436C324.961 32.0176 324.985 31.9972 325.017 31.9824C325.048 31.9677 325.086 31.9603 325.129 31.9603C325.162 31.9603 325.2 31.9648 325.24 31.974V31.9212C325.24 31.8889 325.234 31.8667 325.22 31.8547C325.207 31.8428 325.182 31.8368 325.146 31.8368C325.089 31.8368 325.025 31.8477 324.955 31.8695V31.7671C324.982 31.7538 325.014 31.7432 325.054 31.7355C325.093 31.727 325.133 31.7228 325.174 31.7228C325.246 31.7228 325.299 31.7376 325.332 31.7671C325.366 31.796 325.383 31.8417 325.383 31.9043V32.2779H325.262ZM325.134 32.1914C325.151 32.1914 325.169 32.1875 325.188 32.1798C325.207 32.172 325.224 32.1615 325.24 32.1481V32.0563C325.209 32.0514 325.182 32.0489 325.157 32.0489C325.096 32.0489 325.065 32.0735 325.065 32.1228C325.065 32.1446 325.071 32.1615 325.083 32.1734C325.095 32.1854 325.112 32.1914 325.134 32.1914Z'    fill='#7B61FF'  />  <path    d='M325.848 32.2779L325.836 32.2304C325.814 32.2501 325.788 32.266 325.76 32.2779C325.731 32.2892 325.704 32.2948 325.677 32.2948C325.625 32.2948 325.583 32.28 325.552 32.2505C325.521 32.2209 325.505 32.1815 325.505 32.1323C325.505 32.0985 325.514 32.069 325.531 32.0436C325.547 32.0176 325.572 31.9972 325.603 31.9824C325.635 31.9677 325.672 31.9603 325.715 31.9603C325.749 31.9603 325.786 31.9648 325.827 31.974V31.9212C325.827 31.8889 325.82 31.8667 325.807 31.8547C325.794 31.8428 325.769 31.8368 325.733 31.8368C325.675 31.8368 325.612 31.8477 325.542 31.8695V31.7671C325.568 31.7538 325.601 31.7432 325.64 31.7355C325.68 31.727 325.72 31.7228 325.761 31.7228C325.833 31.7228 325.886 31.7376 325.919 31.7671C325.953 31.796 325.97 31.8417 325.97 31.9043V32.2779H325.848ZM325.721 32.1914C325.738 32.1914 325.756 32.1875 325.774 32.1798C325.793 32.172 325.811 32.1615 325.827 32.1481V32.0563C325.796 32.0514 325.768 32.0489 325.744 32.0489C325.683 32.0489 325.652 32.0735 325.652 32.1228C325.652 32.1446 325.658 32.1615 325.67 32.1734C325.682 32.1854 325.699 32.1914 325.721 32.1914Z'    fill='#7B61FF'  />  <path    d='M326.435 32.2779L326.422 32.2304C326.4 32.2501 326.375 32.266 326.346 32.2779C326.318 32.2892 326.291 32.2948 326.264 32.2948C326.212 32.2948 326.17 32.28 326.138 32.2505C326.107 32.2209 326.092 32.1815 326.092 32.1323C326.092 32.0985 326.1 32.069 326.117 32.0436C326.134 32.0176 326.158 31.9972 326.19 31.9824C326.222 31.9677 326.259 31.9603 326.302 31.9603C326.336 31.9603 326.373 31.9648 326.414 31.974V31.9212C326.414 31.8889 326.407 31.8667 326.394 31.8547C326.38 31.8428 326.356 31.8368 326.32 31.8368C326.262 31.8368 326.198 31.8477 326.129 31.8695V31.7671C326.155 31.7538 326.188 31.7432 326.227 31.7355C326.266 31.727 326.306 31.7228 326.347 31.7228C326.42 31.7228 326.473 31.7376 326.506 31.7671C326.539 31.796 326.556 31.8417 326.556 31.9043V32.2779H326.435ZM326.307 32.1914C326.325 32.1914 326.343 32.1875 326.361 32.1798C326.38 32.172 326.398 32.1615 326.414 32.1481V32.0563C326.383 32.0514 326.355 32.0489 326.33 32.0489C326.269 32.0489 326.239 32.0735 326.239 32.1228C326.239 32.1446 326.245 32.1615 326.257 32.1734C326.268 32.1854 326.285 32.1914 326.307 32.1914Z'    fill='#7B61FF'  />  <path    d='M327.022 32.2779L327.009 32.2304C326.987 32.2501 326.962 32.266 326.933 32.2779C326.905 32.2892 326.877 32.2948 326.851 32.2948C326.799 32.2948 326.757 32.28 326.725 32.2505C326.694 32.2209 326.679 32.1815 326.679 32.1323C326.679 32.0985 326.687 32.069 326.704 32.0436C326.721 32.0176 326.745 31.9972 326.777 31.9824C326.808 31.9677 326.846 31.9603 326.889 31.9603C326.922 31.9603 326.96 31.9648 327 31.974V31.9212C327 31.8889 326.994 31.8667 326.98 31.8547C326.967 31.8428 326.942 31.8368 326.907 31.8368C326.849 31.8368 326.785 31.8477 326.715 31.8695V31.7671C326.742 31.7538 326.774 31.7432 326.814 31.7355C326.853 31.727 326.893 31.7228 326.934 31.7228C327.006 31.7228 327.059 31.7376 327.092 31.7671C327.126 31.796 327.143 31.8417 327.143 31.9043V32.2779H327.022ZM326.894 32.1914C326.911 32.1914 326.929 32.1875 326.948 32.1798C326.967 32.172 326.984 32.1615 327 32.1481V32.0563C326.969 32.0514 326.942 32.0489 326.917 32.0489C326.856 32.0489 326.825 32.0735 326.825 32.1228C326.825 32.1446 326.831 32.1615 326.843 32.1734C326.855 32.1854 326.872 32.1914 326.894 32.1914Z'    fill='#7B61FF'  />  <path    d='M327.608 32.2779L327.596 32.2304C327.574 32.2501 327.548 32.266 327.52 32.2779C327.491 32.2892 327.464 32.2948 327.437 32.2948C327.385 32.2948 327.343 32.28 327.312 32.2505C327.281 32.2209 327.265 32.1815 327.265 32.1323C327.265 32.0985 327.274 32.069 327.291 32.0436C327.307 32.0176 327.332 31.9972 327.363 31.9824C327.395 31.9677 327.432 31.9603 327.475 31.9603C327.509 31.9603 327.546 31.9648 327.587 31.974V31.9212C327.587 31.8889 327.58 31.8667 327.567 31.8547C327.554 31.8428 327.529 31.8368 327.493 31.8368C327.435 31.8368 327.372 31.8477 327.302 31.8695V31.7671C327.328 31.7538 327.361 31.7432 327.4 31.7355C327.44 31.727 327.48 31.7228 327.521 31.7228C327.593 31.7228 327.646 31.7376 327.679 31.7671C327.713 31.796 327.73 31.8417 327.73 31.9043V32.2779H327.608ZM327.48 32.1914C327.498 32.1914 327.516 32.1875 327.534 32.1798C327.553 32.172 327.571 32.1615 327.587 32.1481V32.0563C327.556 32.0514 327.528 32.0489 327.504 32.0489C327.443 32.0489 327.412 32.0735 327.412 32.1228C327.412 32.1446 327.418 32.1615 327.43 32.1734C327.442 32.1854 327.459 32.1914 327.48 32.1914Z'    fill='#7B61FF'  />  <path    d='M328.195 32.2779L328.182 32.2304C328.16 32.2501 328.135 32.266 328.106 32.2779C328.078 32.2892 328.051 32.2948 328.024 32.2948C327.972 32.2948 327.93 32.28 327.898 32.2505C327.867 32.2209 327.852 32.1815 327.852 32.1323C327.852 32.0985 327.86 32.069 327.877 32.0436C327.894 32.0176 327.918 31.9972 327.95 31.9824C327.982 31.9677 328.019 31.9603 328.062 31.9603C328.096 31.9603 328.133 31.9648 328.174 31.974V31.9212C328.174 31.8889 328.167 31.8667 328.154 31.8547C328.14 31.8428 328.116 31.8368 328.08 31.8368C328.022 31.8368 327.958 31.8477 327.889 31.8695V31.7671C327.915 31.7538 327.948 31.7432 327.987 31.7355C328.026 31.727 328.066 31.7228 328.107 31.7228C328.18 31.7228 328.232 31.7376 328.266 31.7671C328.299 31.796 328.316 31.8417 328.316 31.9043V32.2779H328.195ZM328.067 32.1914C328.085 32.1914 328.103 32.1875 328.121 32.1798C328.14 32.172 328.158 32.1615 328.174 32.1481V32.0563C328.143 32.0514 328.115 32.0489 328.09 32.0489C328.029 32.0489 327.999 32.0735 327.999 32.1228C327.999 32.1446 328.005 32.1615 328.017 32.1734C328.028 32.1854 328.045 32.1914 328.067 32.1914Z'    fill='#7B61FF'  />  <path    d='M328.782 32.2779L328.769 32.2304C328.747 32.2501 328.722 32.266 328.693 32.2779C328.665 32.2892 328.637 32.2948 328.611 32.2948C328.558 32.2948 328.517 32.28 328.485 32.2505C328.454 32.2209 328.439 32.1815 328.439 32.1323C328.439 32.0985 328.447 32.069 328.464 32.0436C328.481 32.0176 328.505 31.9972 328.537 31.9824C328.568 31.9677 328.606 31.9603 328.649 31.9603C328.682 31.9603 328.72 31.9648 328.76 31.974V31.9212C328.76 31.8889 328.754 31.8667 328.74 31.8547C328.727 31.8428 328.702 31.8368 328.667 31.8368C328.609 31.8368 328.545 31.8477 328.475 31.8695V31.7671C328.502 31.7538 328.534 31.7432 328.574 31.7355C328.613 31.727 328.653 31.7228 328.694 31.7228C328.766 31.7228 328.819 31.7376 328.852 31.7671C328.886 31.796 328.903 31.8417 328.903 31.9043V32.2779H328.782ZM328.654 32.1914C328.671 32.1914 328.689 32.1875 328.708 32.1798C328.727 32.172 328.744 32.1615 328.76 32.1481V32.0563C328.729 32.0514 328.702 32.0489 328.677 32.0489C328.616 32.0489 328.585 32.0735 328.585 32.1228C328.585 32.1446 328.591 32.1615 328.603 32.1734C328.615 32.1854 328.632 32.1914 328.654 32.1914Z'    fill='#7B61FF'  />  <path    d='M329.368 32.2779L329.356 32.2304C329.334 32.2501 329.308 32.266 329.28 32.2779C329.251 32.2892 329.224 32.2948 329.197 32.2948C329.145 32.2948 329.103 32.28 329.072 32.2505C329.041 32.2209 329.025 32.1815 329.025 32.1323C329.025 32.0985 329.034 32.069 329.051 32.0436C329.067 32.0176 329.092 31.9972 329.123 31.9824C329.155 31.9677 329.192 31.9603 329.235 31.9603C329.269 31.9603 329.306 31.9648 329.347 31.974V31.9212C329.347 31.8889 329.34 31.8667 329.327 31.8547C329.314 31.8428 329.289 31.8368 329.253 31.8368C329.195 31.8368 329.132 31.8477 329.062 31.8695V31.7671C329.088 31.7538 329.121 31.7432 329.16 31.7355C329.2 31.727 329.24 31.7228 329.281 31.7228C329.353 31.7228 329.406 31.7376 329.439 31.7671C329.473 31.796 329.49 31.8417 329.49 31.9043V32.2779H329.368ZM329.24 32.1914C329.258 32.1914 329.276 32.1875 329.294 32.1798C329.313 32.172 329.331 32.1615 329.347 32.1481V32.0563C329.316 32.0514 329.288 32.0489 329.264 32.0489C329.202 32.0489 329.172 32.0735 329.172 32.1228C329.172 32.1446 329.178 32.1615 329.19 32.1734C329.202 32.1854 329.219 32.1914 329.24 32.1914Z'    fill='#7B61FF'  />  <path    d='M329.955 32.2779L329.942 32.2304C329.92 32.2501 329.895 32.266 329.866 32.2779C329.838 32.2892 329.811 32.2948 329.784 32.2948C329.732 32.2948 329.69 32.28 329.658 32.2505C329.627 32.2209 329.612 32.1815 329.612 32.1323C329.612 32.0985 329.62 32.069 329.637 32.0436C329.654 32.0176 329.678 31.9972 329.71 31.9824C329.742 31.9677 329.779 31.9603 329.822 31.9603C329.856 31.9603 329.893 31.9648 329.934 31.974V31.9212C329.934 31.8889 329.927 31.8667 329.914 31.8547C329.9 31.8428 329.876 31.8368 329.84 31.8368C329.782 31.8368 329.718 31.8477 329.649 31.8695V31.7671C329.675 31.7538 329.708 31.7432 329.747 31.7355C329.786 31.727 329.826 31.7228 329.867 31.7228C329.94 31.7228 329.992 31.7376 330.026 31.7671C330.059 31.796 330.076 31.8417 330.076 31.9043V32.2779H329.955ZM329.827 32.1914C329.845 32.1914 329.863 32.1875 329.881 32.1798C329.9 32.172 329.918 32.1615 329.934 32.1481V32.0563C329.903 32.0514 329.875 32.0489 329.85 32.0489C329.789 32.0489 329.759 32.0735 329.759 32.1228C329.759 32.1446 329.765 32.1615 329.777 32.1734C329.788 32.1854 329.805 32.1914 329.827 32.1914Z'    fill='#7B61FF'  />  <path    d='M330.542 32.2779L330.529 32.2304C330.507 32.2501 330.482 32.266 330.453 32.2779C330.425 32.2892 330.397 32.2948 330.371 32.2948C330.318 32.2948 330.277 32.28 330.245 32.2505C330.214 32.2209 330.199 32.1815 330.199 32.1323C330.199 32.0985 330.207 32.069 330.224 32.0436C330.241 32.0176 330.265 31.9972 330.297 31.9824C330.328 31.9677 330.366 31.9603 330.409 31.9603C330.442 31.9603 330.48 31.9648 330.52 31.974V31.9212C330.52 31.8889 330.514 31.8667 330.5 31.8547C330.487 31.8428 330.462 31.8368 330.426 31.8368C330.369 31.8368 330.305 31.8477 330.235 31.8695V31.7671C330.262 31.7538 330.294 31.7432 330.334 31.7355C330.373 31.727 330.413 31.7228 330.454 31.7228C330.526 31.7228 330.579 31.7376 330.612 31.7671C330.646 31.796 330.663 31.8417 330.663 31.9043V32.2779H330.542ZM330.414 32.1914C330.431 32.1914 330.449 32.1875 330.468 32.1798C330.487 32.172 330.504 32.1615 330.52 32.1481V32.0563C330.489 32.0514 330.462 32.0489 330.437 32.0489C330.376 32.0489 330.345 32.0735 330.345 32.1228C330.345 32.1446 330.351 32.1615 330.363 32.1734C330.375 32.1854 330.392 32.1914 330.414 32.1914Z'    fill='#7B61FF'  />  <path    d='M331.128 32.2779L331.116 32.2304C331.094 32.2501 331.068 32.266 331.04 32.2779C331.011 32.2892 330.984 32.2948 330.957 32.2948C330.905 32.2948 330.863 32.28 330.832 32.2505C330.801 32.2209 330.785 32.1815 330.785 32.1323C330.785 32.0985 330.794 32.069 330.811 32.0436C330.827 32.0176 330.852 31.9972 330.883 31.9824C330.915 31.9677 330.952 31.9603 330.995 31.9603C331.029 31.9603 331.066 31.9648 331.107 31.974V31.9212C331.107 31.8889 331.1 31.8667 331.087 31.8547C331.074 31.8428 331.049 31.8368 331.013 31.8368C330.955 31.8368 330.892 31.8477 330.822 31.8695V31.7671C330.848 31.7538 330.881 31.7432 330.92 31.7355C330.96 31.727 331 31.7228 331.041 31.7228C331.113 31.7228 331.166 31.7376 331.199 31.7671C331.233 31.796 331.25 31.8417 331.25 31.9043V32.2779H331.128ZM331 32.1914C331.018 32.1914 331.036 32.1875 331.054 32.1798C331.073 32.172 331.091 32.1615 331.107 32.1481V32.0563C331.076 32.0514 331.048 32.0489 331.024 32.0489C330.962 32.0489 330.932 32.0735 330.932 32.1228C330.932 32.1446 330.938 32.1615 330.95 32.1734C330.962 32.1854 330.979 32.1914 331 32.1914Z'    fill='#7B61FF'  />  <path    d='M331.715 32.2779L331.702 32.2304C331.68 32.2501 331.655 32.266 331.626 32.2779C331.598 32.2892 331.571 32.2948 331.544 32.2948C331.492 32.2948 331.45 32.28 331.418 32.2505C331.387 32.2209 331.372 32.1815 331.372 32.1323C331.372 32.0985 331.38 32.069 331.397 32.0436C331.414 32.0176 331.438 31.9972 331.47 31.9824C331.502 31.9677 331.539 31.9603 331.582 31.9603C331.616 31.9603 331.653 31.9648 331.694 31.974V31.9212C331.694 31.8889 331.687 31.8667 331.674 31.8547C331.66 31.8428 331.636 31.8368 331.6 31.8368C331.542 31.8368 331.478 31.8477 331.409 31.8695V31.7671C331.435 31.7538 331.468 31.7432 331.507 31.7355C331.546 31.727 331.586 31.7228 331.627 31.7228C331.7 31.7228 331.752 31.7376 331.786 31.7671C331.819 31.796 331.836 31.8417 331.836 31.9043V32.2779H331.715ZM331.587 32.1914C331.605 32.1914 331.623 32.1875 331.641 32.1798C331.66 32.172 331.678 32.1615 331.694 32.1481V32.0563C331.663 32.0514 331.635 32.0489 331.61 32.0489C331.549 32.0489 331.519 32.0735 331.519 32.1228C331.519 32.1446 331.525 32.1615 331.536 32.1734C331.548 32.1854 331.565 32.1914 331.587 32.1914Z'    fill='#7B61FF'  />  <path    d='M231.12 68.1596C231.12 67.8682 231.356 67.6319 231.648 67.6319H232.756C233.047 67.6319 233.284 67.8682 233.284 68.1596V70.7979H231.12V68.1596Z'    fill='#D9D8DA'  />  <path    d='M244.365 65.5212C244.365 65.2298 244.601 64.9936 244.892 64.9936H246C246.292 64.9936 246.528 65.2298 246.528 65.5212V70.7979H244.365V65.5212Z'    fill='#D9D8DA'  />  <path    d='M248.639 69.2149C248.639 68.9235 248.875 68.6873 249.166 68.6873H250.275C250.566 68.6873 250.802 68.9235 250.802 69.2149V70.7979H248.639V69.2149Z'    fill='#D9D8DA'  />  <path    d='M252.913 60.2445C252.913 59.9531 253.149 59.7168 253.441 59.7168H254.549C254.84 59.7168 255.076 59.9531 255.076 60.2445V70.7979H252.913V60.2445Z'    fill='#D9D8DA'  />  <path    d='M257.187 55.4955C257.187 55.204 257.423 54.9678 257.715 54.9678H258.823C259.114 54.9678 259.351 55.204 259.351 55.4955V70.7979H257.187V55.4955Z'    fill='#D9D8DA'  />  <path    d='M261.461 49.1634C261.461 48.872 261.697 48.6357 261.989 48.6357H263.097C263.388 48.6357 263.625 48.872 263.625 49.1634V70.7979H261.461V49.1634Z'    fill='#D9D8DA'  />  <path    d='M265.735 50.7464C265.735 50.455 265.972 50.2188 266.263 50.2188H267.371C267.663 50.2188 267.899 50.455 267.899 50.7464V70.7979H265.735V50.7464Z'    fill='#D9D8DA'  />  <path    d='M270.01 47.0527C270.01 46.7613 270.246 46.5251 270.537 46.5251H271.645C271.937 46.5251 272.173 46.7613 272.173 47.0527V70.7979H270.01V47.0527Z'    fill='#D9D8DA'  />  <path    d='M274.284 52.3294C274.284 52.038 274.52 51.8018 274.811 51.8018H275.919C276.211 51.8018 276.447 52.038 276.447 52.3294V70.7979H274.284V52.3294Z'    fill='#D9D8DA'  />  <path    d='M278.558 42.3037C278.558 42.0123 278.794 41.776 279.085 41.776H280.194C280.485 41.776 280.721 42.0123 280.721 42.3037V70.7979H278.558V42.3037Z'    fill='#D9D8DA'  />  <path    d='M282.832 43.8867C282.832 43.5953 283.068 43.359 283.36 43.359H284.468C284.759 43.359 284.995 43.5953 284.995 43.8867V70.7979H282.832V43.8867Z'    fill='#D9D8DA'  />  <path    d='M287.106 37.5546C287.106 37.2632 287.342 37.027 287.634 37.027H288.742C289.033 37.027 289.27 37.2632 289.27 37.5546V70.7979H287.106V37.5546Z'    fill='#D9D8DA'  />  <path    d='M291.38 50.7464C291.38 50.455 291.616 50.2188 291.908 50.2188H293.016C293.307 50.2188 293.544 50.455 293.544 50.7464V70.7979H291.38V50.7464Z'    fill='#D9D8DA'  />  <path    d='M295.654 58.6615C295.654 58.3701 295.891 58.1338 296.182 58.1338H297.29C297.582 58.1338 297.818 58.3701 297.818 58.6615V70.7979H295.654V58.6615Z'    fill='#D9D8DA'  />  <path    d='M299.929 56.5508C299.929 56.2594 300.165 56.0231 300.456 56.0231H301.564C301.856 56.0231 302.092 56.2594 302.092 56.5508V70.7979H299.929V56.5508Z'    fill='#D9D8DA'  />  <path    d='M304.203 60.2445C304.203 59.9531 304.439 59.7168 304.73 59.7168H305.838C306.13 59.7168 306.366 59.9531 306.366 60.2445V70.7979H304.203V60.2445Z'    fill='#D9D8DA'  />  <path    d='M308.477 66.5766C308.477 66.2851 308.713 66.0489 309.004 66.0489H310.113C310.404 66.0489 310.64 66.2851 310.64 66.5766V70.7979H308.477V66.5766Z'    fill='#D9D8DA'  />  <path    d='M312.751 64.4659C312.751 64.1745 312.987 63.9382 313.279 63.9382H314.387C314.678 63.9382 314.914 64.1745 314.914 64.4659V70.7979H312.751V64.4659Z'    fill='#D9D8DA'  />  <path    d='M317.025 68.1596C317.025 67.8682 317.261 67.6319 317.553 67.6319H318.661C318.952 67.6319 319.189 67.8682 319.189 68.1596V70.7979H317.025V68.1596Z'    fill='#D9D8DA'  />  <path    d='M330.27 69.2149C330.27 68.9235 330.506 68.6873 330.797 68.6873H331.905C332.197 68.6873 332.433 68.9235 332.433 69.2149V70.7979H330.27V69.2149Z'    fill='#D9D8DA'  />  <path    d='M231.956 81.3514L233.564 77.8049H231.422V77.3289H234.15V77.7875L232.577 81.3514H231.956Z'    fill='#D9D8DA'  />  <path    d='M237.635 78.3099C237.635 78.5227 237.575 78.7162 237.455 78.8903C237.339 79.0644 237.176 79.2038 236.967 79.3082C237.258 79.4398 237.467 79.583 237.594 79.7378C237.722 79.8925 237.786 80.0822 237.786 80.3066C237.786 80.6549 237.656 80.9315 237.397 81.1366C237.142 81.3378 236.793 81.4384 236.352 81.4384C235.926 81.4384 235.586 81.3417 235.331 81.1482C235.079 80.9547 234.953 80.6916 234.953 80.3588C234.953 80.1228 235.019 79.9099 235.151 79.7203C235.286 79.5307 235.482 79.3779 235.737 79.2618C235.524 79.1534 235.365 79.0257 235.261 78.8787C235.16 78.7278 235.11 78.5498 235.11 78.3447C235.11 78.0119 235.224 77.7449 235.452 77.5437C235.685 77.3425 235.99 77.2419 236.37 77.2419C236.745 77.2419 237.049 77.3405 237.281 77.5379C237.517 77.7352 237.635 77.9926 237.635 78.3099ZM236.097 79.4243C235.706 79.6449 235.511 79.9235 235.511 80.2602C235.511 80.4885 235.584 80.6665 235.731 80.7942C235.882 80.918 236.095 80.9799 236.37 80.9799C236.64 80.9799 236.851 80.9219 237.002 80.8058C237.153 80.6858 237.229 80.5175 237.229 80.3008C237.229 80.1421 237.173 80.0125 237.06 79.9119C236.952 79.8074 236.749 79.6933 236.451 79.5694L236.097 79.4243ZM235.656 78.3157C235.656 78.4743 235.708 78.6117 235.812 78.7278C235.917 78.84 236.081 78.9425 236.306 79.0354L236.608 79.1573C236.929 78.9445 237.089 78.6814 237.089 78.3679C237.089 78.1473 237.025 77.9771 236.898 77.8571C236.77 77.7372 236.592 77.6772 236.364 77.6772C236.139 77.6772 235.965 77.7333 235.841 77.8455C235.718 77.9577 235.656 78.1145 235.656 78.3157Z'    fill='#D9D8DA'  />  <path    d='M238.392 82.2394L238.688 80.6781H238.874C239.005 80.6781 239.098 80.6955 239.152 80.7303C239.21 80.7613 239.239 80.8154 239.239 80.8928C239.239 80.9547 239.212 81.0631 239.158 81.2179L238.786 82.2394H238.392Z'    fill='#D9D8DA'  />  <path    d='M241.506 80.9509C241.812 80.9509 242.036 80.8232 242.179 80.5678C242.322 80.3085 242.394 79.8983 242.394 79.3373C242.394 78.7839 242.322 78.3776 242.179 78.1183C242.036 77.8591 241.812 77.7294 241.506 77.7294C241.2 77.7294 240.976 77.8591 240.833 78.1183C240.689 78.3776 240.618 78.7839 240.618 79.3373C240.618 79.8945 240.689 80.3027 240.833 80.562C240.976 80.8212 241.2 80.9509 241.506 80.9509ZM241.506 81.4384C241.03 81.4384 240.664 81.2585 240.409 80.8986C240.153 80.5349 240.026 80.0144 240.026 79.3373C240.026 78.6639 240.151 78.1474 240.403 77.7875C240.658 77.4237 241.026 77.2419 241.506 77.2419C241.982 77.2419 242.347 77.4218 242.603 77.7817C242.858 78.1415 242.986 78.6601 242.986 79.3373C242.986 80.0144 242.858 80.5349 242.603 80.8986C242.351 81.2585 241.986 81.4384 241.506 81.4384Z'    fill='#D9D8DA'  />  <path    d='M245.055 80.9509C245.36 80.9509 245.585 80.8232 245.728 80.5678C245.871 80.3085 245.943 79.8983 245.943 79.3373C245.943 78.7839 245.871 78.3776 245.728 78.1183C245.585 77.8591 245.36 77.7294 245.055 77.7294C244.749 77.7294 244.524 77.8591 244.381 78.1183C244.238 78.3776 244.167 78.7839 244.167 79.3373C244.167 79.8945 244.238 80.3027 244.381 80.562C244.524 80.8212 244.749 80.9509 245.055 80.9509ZM245.055 81.4384C244.579 81.4384 244.213 81.2585 243.958 80.8986C243.702 80.5349 243.574 80.0144 243.574 79.3373C243.574 78.6639 243.7 78.1474 243.952 77.7875C244.207 77.4237 244.575 77.2419 245.055 77.2419C245.531 77.2419 245.896 77.4218 246.152 77.7817C246.407 78.1415 246.535 78.6601 246.535 79.3373C246.535 80.0144 246.407 80.5349 246.152 80.8986C245.9 81.2585 245.534 81.4384 245.055 81.4384Z'    fill='#D9D8DA'  />  <path    d='M248.603 80.9509C248.909 80.9509 249.133 80.8232 249.277 80.5678C249.42 80.3085 249.491 79.8983 249.491 79.3373C249.491 78.7839 249.42 78.3776 249.277 78.1183C249.133 77.8591 248.909 77.7294 248.603 77.7294C248.298 77.7294 248.073 77.8591 247.93 78.1183C247.787 78.3776 247.715 78.7839 247.715 79.3373C247.715 79.8945 247.787 80.3027 247.93 80.562C248.073 80.8212 248.298 80.9509 248.603 80.9509ZM248.603 81.4384C248.127 81.4384 247.762 81.2585 247.506 80.8986C247.251 80.5349 247.123 80.0144 247.123 79.3373C247.123 78.6639 247.249 78.1474 247.501 77.7875C247.756 77.4237 248.124 77.2419 248.603 77.2419C249.079 77.2419 249.445 77.4218 249.7 77.7817C249.956 78.1415 250.083 78.6601 250.083 79.3373C250.083 80.0144 249.956 80.5349 249.7 80.8986C249.449 81.2585 249.083 81.4384 248.603 81.4384Z'    fill='#D9D8DA'  />  <path d='M252.118 80.0802V79.6159H255.02V80.0802H252.118Z' fill='#D9D8DA' />  <path    d='M258.425 79.0528C258.445 79.049 258.464 79.047 258.484 79.047C258.503 79.047 258.522 79.047 258.542 79.047C258.925 79.047 259.228 79.1515 259.453 79.3605C259.677 79.5656 259.79 79.8422 259.79 80.1905C259.79 80.5697 259.652 80.8735 259.377 81.1018C259.107 81.3262 258.741 81.4384 258.28 81.4384C257.917 81.4384 257.557 81.3611 257.201 81.2063V80.7419C257.623 80.8812 257.982 80.9509 258.28 80.9509C258.574 80.9509 258.801 80.8851 258.959 80.7535C259.118 80.622 259.197 80.4343 259.197 80.1905C259.197 79.7223 258.901 79.4882 258.309 79.4882C258.124 79.4882 257.94 79.4978 257.758 79.5172V79.1341L258.977 77.8049H257.259V77.3289H259.621V77.7875L258.425 79.0528Z'    fill='#D9D8DA'  />  <path    d='M262.102 81.3514V77.9036L260.982 78.3389V77.8745L262.143 77.3289H262.682V81.3514H262.102Z'    fill='#D9D8DA'  />  <path    d='M265.633 80.9509C265.939 80.9509 266.163 80.8232 266.307 80.5678C266.45 80.3085 266.521 79.8983 266.521 79.3373C266.521 78.7839 266.45 78.3776 266.307 78.1183C266.163 77.8591 265.939 77.7294 265.633 77.7294C265.328 77.7294 265.103 77.8591 264.96 78.1183C264.817 78.3776 264.745 78.7839 264.745 79.3373C264.745 79.8945 264.817 80.3027 264.96 80.562C265.103 80.8212 265.328 80.9509 265.633 80.9509ZM265.633 81.4384C265.157 81.4384 264.792 81.2585 264.536 80.8986C264.281 80.5349 264.153 80.0144 264.153 79.3373C264.153 78.6639 264.279 78.1474 264.53 77.7875C264.786 77.4237 265.153 77.2419 265.633 77.2419C266.109 77.2419 266.475 77.4218 266.73 77.7817C266.986 78.1415 267.113 78.6601 267.113 79.3373C267.113 80.0144 266.986 80.5349 266.73 80.8986C266.479 81.2585 266.113 81.4384 265.633 81.4384Z'    fill='#D9D8DA'  />  <path    d='M267.655 82.2394L267.952 80.6781H268.137C268.269 80.6781 268.362 80.6955 268.416 80.7303C268.474 80.7613 268.503 80.8154 268.503 80.8928C268.503 80.9547 268.476 81.0631 268.422 81.2179L268.05 82.2394H267.655Z'    fill='#D9D8DA'  />  <path    d='M270.77 80.9509C271.075 80.9509 271.3 80.8232 271.443 80.5678C271.586 80.3085 271.658 79.8983 271.658 79.3373C271.658 78.7839 271.586 78.3776 271.443 78.1183C271.3 77.8591 271.075 77.7294 270.77 77.7294C270.464 77.7294 270.239 77.8591 270.096 78.1183C269.953 78.3776 269.881 78.7839 269.881 79.3373C269.881 79.8945 269.953 80.3027 270.096 80.562C270.239 80.8212 270.464 80.9509 270.77 80.9509ZM270.77 81.4384C270.294 81.4384 269.928 81.2585 269.673 80.8986C269.417 80.5349 269.289 80.0144 269.289 79.3373C269.289 78.6639 269.415 78.1474 269.667 77.7875C269.922 77.4237 270.29 77.2419 270.77 77.2419C271.245 77.2419 271.611 77.4218 271.867 77.7817C272.122 78.1415 272.25 78.6601 272.25 79.3373C272.25 80.0144 272.122 80.5349 271.867 80.8986C271.615 81.2585 271.249 81.4384 270.77 81.4384Z'    fill='#D9D8DA'  />  <path    d='M274.318 80.9509C274.624 80.9509 274.848 80.8232 274.992 80.5678C275.135 80.3085 275.206 79.8983 275.206 79.3373C275.206 78.7839 275.135 78.3776 274.992 78.1183C274.848 77.8591 274.624 77.7294 274.318 77.7294C274.013 77.7294 273.788 77.8591 273.645 78.1183C273.502 78.3776 273.43 78.7839 273.43 79.3373C273.43 79.8945 273.502 80.3027 273.645 80.562C273.788 80.8212 274.013 80.9509 274.318 80.9509ZM274.318 81.4384C273.842 81.4384 273.477 81.2585 273.221 80.8986C272.966 80.5349 272.838 80.0144 272.838 79.3373C272.838 78.6639 272.964 78.1474 273.215 77.7875C273.471 77.4237 273.838 77.2419 274.318 77.2419C274.794 77.2419 275.16 77.4218 275.415 77.7817C275.671 78.1415 275.798 78.6601 275.798 79.3373C275.798 80.0144 275.671 80.5349 275.415 80.8986C275.164 81.2585 274.798 81.4384 274.318 81.4384Z'    fill='#D9D8DA'  />  <path    d='M277.867 80.9509C278.173 80.9509 278.397 80.8232 278.54 80.5678C278.684 80.3085 278.755 79.8983 278.755 79.3373C278.755 78.7839 278.684 78.3776 278.54 78.1183C278.397 77.8591 278.173 77.7294 277.867 77.7294C277.561 77.7294 277.337 77.8591 277.194 78.1183C277.051 78.3776 276.979 78.7839 276.979 79.3373C276.979 79.8945 277.051 80.3027 277.194 80.562C277.337 80.8212 277.561 80.9509 277.867 80.9509ZM277.867 81.4384C277.391 81.4384 277.025 81.2585 276.77 80.8986C276.515 80.5349 276.387 80.0144 276.387 79.3373C276.387 78.6639 276.513 78.1474 276.764 77.7875C277.02 77.4237 277.387 77.2419 277.867 77.2419C278.343 77.2419 278.709 77.4218 278.964 77.7817C279.219 78.1415 279.347 78.6601 279.347 79.3373C279.347 80.0144 279.219 80.5349 278.964 80.8986C278.713 81.2585 278.347 81.4384 277.867 81.4384Z'    fill='#D9D8DA'  />  <path    fill-rule='evenodd'    clip-rule='evenodd'    d='M104.311 80.3389L104.68 81.4876H105.717L103.998 76.6632H102.954L101.227 81.4876H102.216L102.571 80.3389H104.311ZM104.102 79.6427H102.787L103.441 77.5334L104.102 79.6427Z'    fill='url(#paint2_linear_4701_363790)'    fill-opacity='0.3'  />  <path    d='M106.198 82.0153H100.65V82.4977H106.198V82.0153Z'    fill='url(#paint3_linear_4701_363790)'    fill-opacity='0.3'  />  <path d='M5.27672 29.5496H60.1546V31.6603H5.27672V29.5496Z' fill='#D9D8DA' />  <path    d='M60.5376 31.1326L60.525 31.0851C60.5032 31.1048 60.4778 31.1207 60.449 31.1326C60.4209 31.1439 60.3934 31.1495 60.3667 31.1495C60.3146 31.1495 60.2728 31.1347 60.2411 31.1052C60.2101 31.0756 60.1947 31.0362 60.1947 30.987C60.1947 30.9532 60.2031 30.9237 60.22 30.8983C60.2369 30.8723 60.2611 30.8519 60.2928 30.8371C60.3245 30.8223 60.3618 30.815 60.4047 30.815C60.4384 30.815 60.4757 30.8195 60.5165 30.8287V30.7759C60.5165 30.7436 60.5099 30.7214 60.4965 30.7094C60.4831 30.6975 60.4585 30.6915 60.4226 30.6915C60.3649 30.6915 60.3012 30.7024 60.2316 30.7242V30.6218C60.2576 30.6085 60.2903 30.5979 60.3297 30.5902C60.3691 30.5817 60.4092 30.5775 60.4501 30.5775C60.5225 30.5775 60.5753 30.5923 60.6084 30.6218C60.6421 30.6507 60.659 30.6964 60.659 30.759V31.1326H60.5376ZM60.4099 31.0461C60.4275 31.0461 60.4455 31.0422 60.4638 31.0345C60.4828 31.0267 60.5004 31.0162 60.5165 31.0028V30.911C60.4856 30.9061 60.4578 30.9036 60.4332 30.9036C60.372 30.9036 60.3414 30.9282 60.3414 30.9775C60.3414 30.9993 60.3473 31.0162 60.3593 31.0281C60.3713 31.0401 60.3881 31.0461 60.4099 31.0461Z'    fill='#57AEFF'  />  <path    d='M61.1243 31.1326L61.1116 31.0851C61.0898 31.1048 61.0645 31.1207 61.0357 31.1326C61.0075 31.1439 60.9801 31.1495 60.9533 31.1495C60.9013 31.1495 60.8594 31.1347 60.8278 31.1052C60.7968 31.0756 60.7813 31.0362 60.7813 30.987C60.7813 30.9532 60.7898 30.9237 60.8067 30.8983C60.8235 30.8723 60.8478 30.8519 60.8795 30.8371C60.9111 30.8223 60.9484 30.815 60.9913 30.815C61.0251 30.815 61.0624 30.8195 61.1032 30.8287V30.7759C61.1032 30.7436 61.0965 30.7214 61.0832 30.7094C61.0698 30.6975 61.0452 30.6915 61.0093 30.6915C60.9516 30.6915 60.8879 30.7024 60.8183 30.7242V30.6218C60.8443 30.6085 60.877 30.5979 60.9164 30.5902C60.9558 30.5817 60.9959 30.5775 61.0367 30.5775C61.1092 30.5775 61.1619 30.5923 61.195 30.6218C61.2288 30.6507 61.2457 30.6964 61.2457 30.759V31.1326H61.1243ZM60.9966 31.0461C61.0142 31.0461 61.0321 31.0422 61.0504 31.0345C61.0694 31.0267 61.087 31.0162 61.1032 31.0028V30.911C61.0722 30.9061 61.0445 30.9036 61.0198 30.9036C60.9586 30.9036 60.928 30.9282 60.928 30.9775C60.928 30.9993 60.934 31.0162 60.946 31.0281C60.9579 31.0401 60.9748 31.0461 60.9966 31.0461Z'    fill='#57AEFF'  />  <path    d='M61.711 31.1326L61.6983 31.0851C61.6765 31.1048 61.6512 31.1207 61.6223 31.1326C61.5942 31.1439 61.5667 31.1495 61.54 31.1495C61.4879 31.1495 61.4461 31.1347 61.4144 31.1052C61.3835 31.0756 61.368 31.0362 61.368 30.987C61.368 30.9532 61.3764 30.9237 61.3933 30.8983C61.4102 30.8723 61.4345 30.8519 61.4661 30.8371C61.4978 30.8223 61.5351 30.815 61.578 30.815C61.6118 30.815 61.6491 30.8195 61.6899 30.8287V30.7759C61.6899 30.7436 61.6832 30.7214 61.6698 30.7094C61.6564 30.6975 61.6318 30.6915 61.5959 30.6915C61.5382 30.6915 61.4746 30.7024 61.4049 30.7242V30.6218C61.431 30.6085 61.4637 30.5979 61.5031 30.5902C61.5425 30.5817 61.5826 30.5775 61.6234 30.5775C61.6958 30.5775 61.7486 30.5923 61.7817 30.6218C61.8154 30.6507 61.8323 30.6964 61.8323 30.759V31.1326H61.711ZM61.5833 31.0461C61.6009 31.0461 61.6188 31.0422 61.6371 31.0345C61.6561 31.0267 61.6737 31.0162 61.6899 31.0028V30.911C61.6589 30.9061 61.6311 30.9036 61.6065 30.9036C61.5453 30.9036 61.5147 30.9282 61.5147 30.9775C61.5147 30.9993 61.5207 31.0162 61.5326 31.0281C61.5446 31.0401 61.5615 31.0461 61.5833 31.0461Z'    fill='#57AEFF'  />  <path    d='M62.2976 31.1326L62.285 31.0851C62.2632 31.1048 62.2378 31.1207 62.209 31.1326C62.1808 31.1439 62.1534 31.1495 62.1267 31.1495C62.0746 31.1495 62.0327 31.1347 62.0011 31.1052C61.9701 31.0756 61.9546 31.0362 61.9546 30.987C61.9546 30.9532 61.9631 30.9237 61.98 30.8983C61.9969 30.8723 62.0211 30.8519 62.0528 30.8371C62.0845 30.8223 62.1217 30.815 62.1647 30.815C62.1984 30.815 62.2357 30.8195 62.2765 30.8287V30.7759C62.2765 30.7436 62.2698 30.7214 62.2565 30.7094C62.2431 30.6975 62.2185 30.6915 62.1826 30.6915C62.1249 30.6915 62.0612 30.7024 61.9916 30.7242V30.6218C62.0176 30.6085 62.0503 30.5979 62.0897 30.5902C62.1291 30.5817 62.1692 30.5775 62.21 30.5775C62.2825 30.5775 62.3353 30.5923 62.3683 30.6218C62.4021 30.6507 62.419 30.6964 62.419 30.759V31.1326H62.2976ZM62.1699 31.0461C62.1875 31.0461 62.2055 31.0422 62.2238 31.0345C62.2428 31.0267 62.2603 31.0162 62.2765 31.0028V30.911C62.2456 30.9061 62.2178 30.9036 62.1932 30.9036C62.1319 30.9036 62.1013 30.9282 62.1013 30.9775C62.1013 30.9993 62.1073 31.0162 62.1193 31.0281C62.1312 31.0401 62.1481 31.0461 62.1699 31.0461Z'    fill='#57AEFF'  />  <path    d='M62.8843 31.1326L62.8716 31.0851C62.8498 31.1048 62.8245 31.1207 62.7956 31.1326C62.7675 31.1439 62.7401 31.1495 62.7133 31.1495C62.6613 31.1495 62.6194 31.1347 62.5877 31.1052C62.5568 31.0756 62.5413 31.0362 62.5413 30.987C62.5413 30.9532 62.5498 30.9237 62.5666 30.8983C62.5835 30.8723 62.6078 30.8519 62.6395 30.8371C62.6711 30.8223 62.7084 30.815 62.7513 30.815C62.7851 30.815 62.8224 30.8195 62.8632 30.8287V30.7759C62.8632 30.7436 62.8565 30.7214 62.8431 30.7094C62.8298 30.6975 62.8051 30.6915 62.7693 30.6915C62.7116 30.6915 62.6479 30.7024 62.5782 30.7242V30.6218C62.6043 30.6085 62.637 30.5979 62.6764 30.5902C62.7158 30.5817 62.7559 30.5775 62.7967 30.5775C62.8692 30.5775 62.9219 30.5923 62.955 30.6218C62.9888 30.6507 63.0057 30.6964 63.0057 30.759V31.1326H62.8843ZM62.7566 31.0461C62.7742 31.0461 62.7921 31.0422 62.8104 31.0345C62.8294 31.0267 62.847 31.0162 62.8632 31.0028V30.911C62.8322 30.9061 62.8044 30.9036 62.7798 30.9036C62.7186 30.9036 62.688 30.9282 62.688 30.9775C62.688 30.9993 62.694 31.0162 62.7059 31.0281C62.7179 31.0401 62.7348 31.0461 62.7566 31.0461Z'    fill='#57AEFF'  />  <path    d='M63.471 31.1326L63.4583 31.0851C63.4365 31.1048 63.4112 31.1207 63.3823 31.1326C63.3542 31.1439 63.3267 31.1495 63.3 31.1495C63.2479 31.1495 63.2061 31.1347 63.1744 31.1052C63.1435 31.0756 63.128 31.0362 63.128 30.987C63.128 30.9532 63.1364 30.9237 63.1533 30.8983C63.1702 30.8723 63.1945 30.8519 63.2261 30.8371C63.2578 30.8223 63.2951 30.815 63.338 30.815C63.3718 30.815 63.409 30.8195 63.4499 30.8287V30.7759C63.4499 30.7436 63.4432 30.7214 63.4298 30.7094C63.4164 30.6975 63.3918 30.6915 63.3559 30.6915C63.2982 30.6915 63.2346 30.7024 63.1649 30.7242V30.6218C63.1909 30.6085 63.2237 30.5979 63.2631 30.5902C63.3025 30.5817 63.3426 30.5775 63.3834 30.5775C63.4558 30.5775 63.5086 30.5923 63.5417 30.6218C63.5754 30.6507 63.5923 30.6964 63.5923 30.759V31.1326H63.471ZM63.3433 31.0461C63.3609 31.0461 63.3788 31.0422 63.3971 31.0345C63.4161 31.0267 63.4337 31.0162 63.4499 31.0028V30.911C63.4189 30.9061 63.3911 30.9036 63.3665 30.9036C63.3053 30.9036 63.2747 30.9282 63.2747 30.9775C63.2747 30.9993 63.2806 31.0162 63.2926 31.0281C63.3046 31.0401 63.3215 31.0461 63.3433 31.0461Z'    fill='#57AEFF'  />  <path    d='M64.0576 31.1326L64.045 31.0851C64.0232 31.1048 63.9978 31.1207 63.969 31.1326C63.9408 31.1439 63.9134 31.1495 63.8867 31.1495C63.8346 31.1495 63.7927 31.1347 63.7611 31.1052C63.7301 31.0756 63.7146 31.0362 63.7146 30.987C63.7146 30.9532 63.7231 30.9237 63.74 30.8983C63.7569 30.8723 63.7811 30.8519 63.8128 30.8371C63.8444 30.8223 63.8817 30.815 63.9247 30.815C63.9584 30.815 63.9957 30.8195 64.0365 30.8287V30.7759C64.0365 30.7436 64.0298 30.7214 64.0165 30.7094C64.0031 30.6975 63.9785 30.6915 63.9426 30.6915C63.8849 30.6915 63.8212 30.7024 63.7516 30.7242V30.6218C63.7776 30.6085 63.8103 30.5979 63.8497 30.5902C63.8891 30.5817 63.9292 30.5775 63.97 30.5775C64.0425 30.5775 64.0953 30.5923 64.1283 30.6218C64.1621 30.6507 64.179 30.6964 64.179 30.759V31.1326H64.0576ZM63.9299 31.0461C63.9475 31.0461 63.9655 31.0422 63.9838 31.0345C64.0027 31.0267 64.0203 31.0162 64.0365 31.0028V30.911C64.0056 30.9061 63.9778 30.9036 63.9531 30.9036C63.8919 30.9036 63.8613 30.9282 63.8613 30.9775C63.8613 30.9993 63.8673 31.0162 63.8793 31.0281C63.8912 31.0401 63.9081 31.0461 63.9299 31.0461Z'    fill='#57AEFF'  />  <path    d='M64.6443 31.1326L64.6316 31.0851C64.6098 31.1048 64.5845 31.1207 64.5556 31.1326C64.5275 31.1439 64.5001 31.1495 64.4733 31.1495C64.4213 31.1495 64.3794 31.1347 64.3477 31.1052C64.3168 31.0756 64.3013 31.0362 64.3013 30.987C64.3013 30.9532 64.3097 30.9237 64.3266 30.8983C64.3435 30.8723 64.3678 30.8519 64.3994 30.8371C64.4311 30.8223 64.4684 30.815 64.5113 30.815C64.5451 30.815 64.5824 30.8195 64.6232 30.8287V30.7759C64.6232 30.7436 64.6165 30.7214 64.6031 30.7094C64.5898 30.6975 64.5651 30.6915 64.5293 30.6915C64.4716 30.6915 64.4079 30.7024 64.3382 30.7242V30.6218C64.3643 30.6085 64.397 30.5979 64.4364 30.5902C64.4758 30.5817 64.5159 30.5775 64.5567 30.5775C64.6292 30.5775 64.6819 30.5923 64.715 30.6218C64.7488 30.6507 64.7657 30.6964 64.7657 30.759V31.1326H64.6443ZM64.5166 31.0461C64.5342 31.0461 64.5521 31.0422 64.5704 31.0345C64.5894 31.0267 64.607 31.0162 64.6232 31.0028V30.911C64.5922 30.9061 64.5644 30.9036 64.5398 30.9036C64.4786 30.9036 64.448 30.9282 64.448 30.9775C64.448 30.9993 64.454 31.0162 64.4659 31.0281C64.4779 31.0401 64.4948 31.0461 64.5166 31.0461Z'    fill='#57AEFF'  />  <path    d='M65.231 31.1326L65.2183 31.0851C65.1965 31.1048 65.1711 31.1207 65.1423 31.1326C65.1142 31.1439 65.0867 31.1495 65.06 31.1495C65.0079 31.1495 64.9661 31.1347 64.9344 31.1052C64.9034 31.0756 64.888 31.0362 64.888 30.987C64.888 30.9532 64.8964 30.9237 64.9133 30.8983C64.9302 30.8723 64.9545 30.8519 64.9861 30.8371C65.0178 30.8223 65.0551 30.815 65.098 30.815C65.1317 30.815 65.169 30.8195 65.2098 30.8287V30.7759C65.2098 30.7436 65.2032 30.7214 65.1898 30.7094C65.1764 30.6975 65.1518 30.6915 65.1159 30.6915C65.0582 30.6915 64.9946 30.7024 64.9249 30.7242V30.6218C64.9509 30.6085 64.9837 30.5979 65.0231 30.5902C65.0624 30.5817 65.1026 30.5775 65.1434 30.5775C65.2158 30.5775 65.2686 30.5923 65.3017 30.6218C65.3354 30.6507 65.3523 30.6964 65.3523 30.759V31.1326H65.231ZM65.1033 31.0461C65.1208 31.0461 65.1388 31.0422 65.1571 31.0345C65.1761 31.0267 65.1937 31.0162 65.2098 31.0028V30.911C65.1789 30.9061 65.1511 30.9036 65.1265 30.9036C65.0653 30.9036 65.0347 30.9282 65.0347 30.9775C65.0347 30.9993 65.0406 31.0162 65.0526 31.0281C65.0646 31.0401 65.0814 31.0461 65.1033 31.0461Z'    fill='#57AEFF'  />  <path    d='M65.8176 31.1326L65.805 31.0851C65.7831 31.1048 65.7578 31.1207 65.729 31.1326C65.7008 31.1439 65.6734 31.1495 65.6466 31.1495C65.5946 31.1495 65.5527 31.1347 65.5211 31.1052C65.4901 31.0756 65.4746 31.0362 65.4746 30.987C65.4746 30.9532 65.4831 30.9237 65.5 30.8983C65.5168 30.8723 65.5411 30.8519 65.5728 30.8371C65.6044 30.8223 65.6417 30.815 65.6846 30.815C65.7184 30.815 65.7557 30.8195 65.7965 30.8287V30.7759C65.7965 30.7436 65.7898 30.7214 65.7765 30.7094C65.7631 30.6975 65.7385 30.6915 65.7026 30.6915C65.6449 30.6915 65.5812 30.7024 65.5116 30.7242V30.6218C65.5376 30.6085 65.5703 30.5979 65.6097 30.5902C65.6491 30.5817 65.6892 30.5775 65.73 30.5775C65.8025 30.5775 65.8553 30.5923 65.8883 30.6218C65.9221 30.6507 65.939 30.6964 65.939 30.759V31.1326H65.8176ZM65.6899 31.0461C65.7075 31.0461 65.7255 31.0422 65.7437 31.0345C65.7627 31.0267 65.7803 31.0162 65.7965 31.0028V30.911C65.7656 30.9061 65.7378 30.9036 65.7131 30.9036C65.6519 30.9036 65.6213 30.9282 65.6213 30.9775C65.6213 30.9993 65.6273 31.0162 65.6393 31.0281C65.6512 31.0401 65.6681 31.0461 65.6899 31.0461Z'    fill='#57AEFF'  />  <path    d='M100.641 31.1326L100.628 31.0851C100.606 31.1048 100.581 31.1207 100.552 31.1326C100.524 31.1439 100.496 31.1495 100.47 31.1495C100.418 31.1495 100.376 31.1347 100.344 31.1052C100.313 31.0756 100.298 31.0362 100.298 30.987C100.298 30.9532 100.306 30.9237 100.323 30.8983C100.34 30.8723 100.364 30.8519 100.396 30.8371C100.428 30.8223 100.465 30.815 100.508 30.815C100.541 30.815 100.579 30.8195 100.62 30.8287V30.7759C100.62 30.7436 100.613 30.7214 100.6 30.7094C100.586 30.6975 100.562 30.6915 100.526 30.6915C100.468 30.6915 100.404 30.7024 100.335 30.7242V30.6218C100.361 30.6085 100.393 30.5979 100.433 30.5902C100.472 30.5817 100.512 30.5775 100.553 30.5775C100.626 30.5775 100.678 30.5923 100.711 30.6218C100.745 30.6507 100.762 30.6964 100.762 30.759V31.1326H100.641ZM100.513 31.0461C100.531 31.0461 100.549 31.0422 100.567 31.0345C100.586 31.0267 100.603 31.0162 100.62 31.0028V30.911C100.589 30.9061 100.561 30.9036 100.536 30.9036C100.475 30.9036 100.444 30.9282 100.444 30.9775C100.444 30.9993 100.45 31.0162 100.462 31.0281C100.474 31.0401 100.491 31.0461 100.513 31.0461Z'    fill='#7B61FF'  />  <path    d='M101.227 31.1326L101.215 31.0851C101.193 31.1048 101.168 31.1207 101.139 31.1326C101.111 31.1439 101.083 31.1495 101.056 31.1495C101.004 31.1495 100.962 31.1347 100.931 31.1052C100.9 31.0756 100.884 31.0362 100.884 30.987C100.884 30.9532 100.893 30.9237 100.91 30.8983C100.927 30.8723 100.951 30.8519 100.983 30.8371C101.014 30.8223 101.051 30.815 101.094 30.815C101.128 30.815 101.165 30.8195 101.206 30.8287V30.7759C101.206 30.7436 101.2 30.7214 101.186 30.7094C101.173 30.6975 101.148 30.6915 101.112 30.6915C101.055 30.6915 100.991 30.7024 100.921 30.7242V30.6218C100.947 30.6085 100.98 30.5979 101.019 30.5902C101.059 30.5817 101.099 30.5775 101.14 30.5775C101.212 30.5775 101.265 30.5923 101.298 30.6218C101.332 30.6507 101.349 30.6964 101.349 30.759V31.1326H101.227ZM101.1 31.0461C101.117 31.0461 101.135 31.0422 101.153 31.0345C101.172 31.0267 101.19 31.0162 101.206 31.0028V30.911C101.175 30.9061 101.147 30.9036 101.123 30.9036C101.062 30.9036 101.031 30.9282 101.031 30.9775C101.031 30.9993 101.037 31.0162 101.049 31.0281C101.061 31.0401 101.078 31.0461 101.1 31.0461Z'    fill='#7B61FF'  />  <path    d='M101.814 31.1326L101.801 31.0851C101.78 31.1048 101.754 31.1207 101.725 31.1326C101.697 31.1439 101.67 31.1495 101.643 31.1495C101.591 31.1495 101.549 31.1347 101.517 31.1052C101.487 31.0756 101.471 31.0362 101.471 30.987C101.471 30.9532 101.479 30.9237 101.496 30.8983C101.513 30.8723 101.538 30.8519 101.569 30.8371C101.601 30.8223 101.638 30.815 101.681 30.815C101.715 30.815 101.752 30.8195 101.793 30.8287V30.7759C101.793 30.7436 101.786 30.7214 101.773 30.7094C101.759 30.6975 101.735 30.6915 101.699 30.6915C101.641 30.6915 101.578 30.7024 101.508 30.7242V30.6218C101.534 30.6085 101.567 30.5979 101.606 30.5902C101.646 30.5817 101.686 30.5775 101.726 30.5775C101.799 30.5775 101.852 30.5923 101.885 30.6218C101.918 30.6507 101.935 30.6964 101.935 30.759V31.1326H101.814ZM101.686 31.0461C101.704 31.0461 101.722 31.0422 101.74 31.0345C101.759 31.0267 101.777 31.0162 101.793 31.0028V30.911C101.762 30.9061 101.734 30.9036 101.71 30.9036C101.648 30.9036 101.618 30.9282 101.618 30.9775C101.618 30.9993 101.624 31.0162 101.636 31.0281C101.648 31.0401 101.664 31.0461 101.686 31.0461Z'    fill='#7B61FF'  />  <path    d='M102.401 31.1326L102.388 31.0851C102.366 31.1048 102.341 31.1207 102.312 31.1326C102.284 31.1439 102.256 31.1495 102.23 31.1495C102.178 31.1495 102.136 31.1347 102.104 31.1052C102.073 31.0756 102.058 31.0362 102.058 30.987C102.058 30.9532 102.066 30.9237 102.083 30.8983C102.1 30.8723 102.124 30.8519 102.156 30.8371C102.187 30.8223 102.225 30.815 102.268 30.815C102.301 30.815 102.339 30.8195 102.38 30.8287V30.7759C102.38 30.7436 102.373 30.7214 102.36 30.7094C102.346 30.6975 102.322 30.6915 102.286 30.6915C102.228 30.6915 102.164 30.7024 102.095 30.7242V30.6218C102.121 30.6085 102.153 30.5979 102.193 30.5902C102.232 30.5817 102.272 30.5775 102.313 30.5775C102.386 30.5775 102.438 30.5923 102.471 30.6218C102.505 30.6507 102.522 30.6964 102.522 30.759V31.1326H102.401ZM102.273 31.0461C102.291 31.0461 102.309 31.0422 102.327 31.0345C102.346 31.0267 102.363 31.0162 102.38 31.0028V30.911C102.349 30.9061 102.321 30.9036 102.296 30.9036C102.235 30.9036 102.204 30.9282 102.204 30.9775C102.204 30.9993 102.21 31.0162 102.222 31.0281C102.234 31.0401 102.251 31.0461 102.273 31.0461Z'    fill='#7B61FF'  />  <path    d='M102.987 31.1326L102.975 31.0851C102.953 31.1048 102.928 31.1207 102.899 31.1326C102.871 31.1439 102.843 31.1495 102.816 31.1495C102.764 31.1495 102.722 31.1347 102.691 31.1052C102.66 31.0756 102.644 31.0362 102.644 30.987C102.644 30.9532 102.653 30.9237 102.67 30.8983C102.687 30.8723 102.711 30.8519 102.742 30.8371C102.774 30.8223 102.811 30.815 102.854 30.815C102.888 30.815 102.925 30.8195 102.966 30.8287V30.7759C102.966 30.7436 102.96 30.7214 102.946 30.7094C102.933 30.6975 102.908 30.6915 102.872 30.6915C102.815 30.6915 102.751 30.7024 102.681 30.7242V30.6218C102.707 30.6085 102.74 30.5979 102.779 30.5902C102.819 30.5817 102.859 30.5775 102.9 30.5775C102.972 30.5775 103.025 30.5923 103.058 30.6218C103.092 30.6507 103.109 30.6964 103.109 30.759V31.1326H102.987ZM102.86 31.0461C102.877 31.0461 102.895 31.0422 102.913 31.0345C102.932 31.0267 102.95 31.0162 102.966 31.0028V30.911C102.935 30.9061 102.907 30.9036 102.883 30.9036C102.822 30.9036 102.791 30.9282 102.791 30.9775C102.791 30.9993 102.797 31.0162 102.809 31.0281C102.821 31.0401 102.838 31.0461 102.86 31.0461Z'    fill='#7B61FF'  />  <path    d='M103.574 31.1326L103.561 31.0851C103.54 31.1048 103.514 31.1207 103.485 31.1326C103.457 31.1439 103.43 31.1495 103.403 31.1495C103.351 31.1495 103.309 31.1347 103.277 31.1052C103.246 31.0756 103.231 31.0362 103.231 30.987C103.231 30.9532 103.239 30.9237 103.256 30.8983C103.273 30.8723 103.297 30.8519 103.329 30.8371C103.361 30.8223 103.398 30.815 103.441 30.815C103.475 30.815 103.512 30.8195 103.553 30.8287V30.7759C103.553 30.7436 103.546 30.7214 103.533 30.7094C103.519 30.6975 103.495 30.6915 103.459 30.6915C103.401 30.6915 103.338 30.7024 103.268 30.7242V30.6218C103.294 30.6085 103.327 30.5979 103.366 30.5902C103.405 30.5817 103.446 30.5775 103.486 30.5775C103.559 30.5775 103.612 30.5923 103.645 30.6218C103.678 30.6507 103.695 30.6964 103.695 30.759V31.1326H103.574ZM103.446 31.0461C103.464 31.0461 103.482 31.0422 103.5 31.0345C103.519 31.0267 103.537 31.0162 103.553 31.0028V30.911C103.522 30.9061 103.494 30.9036 103.47 30.9036C103.408 30.9036 103.378 30.9282 103.378 30.9775C103.378 30.9993 103.384 31.0162 103.396 31.0281C103.408 31.0401 103.424 31.0461 103.446 31.0461Z'    fill='#7B61FF'  />  <path    d='M104.161 31.1326L104.148 31.0851C104.126 31.1048 104.101 31.1207 104.072 31.1326C104.044 31.1439 104.016 31.1495 103.99 31.1495C103.938 31.1495 103.896 31.1347 103.864 31.1052C103.833 31.0756 103.818 31.0362 103.818 30.987C103.818 30.9532 103.826 30.9237 103.843 30.8983C103.86 30.8723 103.884 30.8519 103.916 30.8371C103.947 30.8223 103.985 30.815 104.028 30.815C104.061 30.815 104.099 30.8195 104.14 30.8287V30.7759C104.14 30.7436 104.133 30.7214 104.12 30.7094C104.106 30.6975 104.082 30.6915 104.046 30.6915C103.988 30.6915 103.924 30.7024 103.855 30.7242V30.6218C103.881 30.6085 103.913 30.5979 103.953 30.5902C103.992 30.5817 104.032 30.5775 104.073 30.5775C104.146 30.5775 104.198 30.5923 104.231 30.6218C104.265 30.6507 104.282 30.6964 104.282 30.759V31.1326H104.161ZM104.033 31.0461C104.051 31.0461 104.068 31.0422 104.087 31.0345C104.106 31.0267 104.123 31.0162 104.14 31.0028V30.911C104.109 30.9061 104.081 30.9036 104.056 30.9036C103.995 30.9036 103.964 30.9282 103.964 30.9775C103.964 30.9993 103.97 31.0162 103.982 31.0281C103.994 31.0401 104.011 31.0461 104.033 31.0461Z'    fill='#7B61FF'  />  <path    d='M104.747 31.1326L104.735 31.0851C104.713 31.1048 104.688 31.1207 104.659 31.1326C104.631 31.1439 104.603 31.1495 104.576 31.1495C104.524 31.1495 104.482 31.1347 104.451 31.1052C104.42 31.0756 104.404 31.0362 104.404 30.987C104.404 30.9532 104.413 30.9237 104.43 30.8983C104.447 30.8723 104.471 30.8519 104.502 30.8371C104.534 30.8223 104.571 30.815 104.614 30.815C104.648 30.815 104.685 30.8195 104.726 30.8287V30.7759C104.726 30.7436 104.72 30.7214 104.706 30.7094C104.693 30.6975 104.668 30.6915 104.632 30.6915C104.575 30.6915 104.511 30.7024 104.441 30.7242V30.6218C104.467 30.6085 104.5 30.5979 104.539 30.5902C104.579 30.5817 104.619 30.5775 104.66 30.5775C104.732 30.5775 104.785 30.5923 104.818 30.6218C104.852 30.6507 104.869 30.6964 104.869 30.759V31.1326H104.747ZM104.62 31.0461C104.637 31.0461 104.655 31.0422 104.673 31.0345C104.692 31.0267 104.71 31.0162 104.726 31.0028V30.911C104.695 30.9061 104.667 30.9036 104.643 30.9036C104.582 30.9036 104.551 30.9282 104.551 30.9775C104.551 30.9993 104.557 31.0162 104.569 31.0281C104.581 31.0401 104.598 31.0461 104.62 31.0461Z'    fill='#7B61FF'  />  <path    d='M105.334 31.1326L105.321 31.0851C105.3 31.1048 105.274 31.1207 105.245 31.1326C105.217 31.1439 105.19 31.1495 105.163 31.1495C105.111 31.1495 105.069 31.1347 105.037 31.1052C105.006 31.0756 104.991 31.0362 104.991 30.987C104.991 30.9532 104.999 30.9237 105.016 30.8983C105.033 30.8723 105.057 30.8519 105.089 30.8371C105.121 30.8223 105.158 30.815 105.201 30.815C105.235 30.815 105.272 30.8195 105.313 30.8287V30.7759C105.313 30.7436 105.306 30.7214 105.293 30.7094C105.279 30.6975 105.255 30.6915 105.219 30.6915C105.161 30.6915 105.098 30.7024 105.028 30.7242V30.6218C105.054 30.6085 105.087 30.5979 105.126 30.5902C105.165 30.5817 105.206 30.5775 105.246 30.5775C105.319 30.5775 105.372 30.5923 105.405 30.6218C105.438 30.6507 105.455 30.6964 105.455 30.759V31.1326H105.334ZM105.206 31.0461C105.224 31.0461 105.242 31.0422 105.26 31.0345C105.279 31.0267 105.297 31.0162 105.313 31.0028V30.911C105.282 30.9061 105.254 30.9036 105.23 30.9036C105.168 30.9036 105.138 30.9282 105.138 30.9775C105.138 30.9993 105.144 31.0162 105.156 31.0281C105.168 31.0401 105.184 31.0461 105.206 31.0461Z'    fill='#7B61FF'  />  <path    d='M105.921 31.1326L105.908 31.0851C105.886 31.1048 105.861 31.1207 105.832 31.1326C105.804 31.1439 105.776 31.1495 105.75 31.1495C105.698 31.1495 105.656 31.1347 105.624 31.1052C105.593 31.0756 105.578 31.0362 105.578 30.987C105.578 30.9532 105.586 30.9237 105.603 30.8983C105.62 30.8723 105.644 30.8519 105.676 30.8371C105.707 30.8223 105.745 30.815 105.788 30.815C105.821 30.815 105.859 30.8195 105.9 30.8287V30.7759C105.9 30.7436 105.893 30.7214 105.879 30.7094C105.866 30.6975 105.842 30.6915 105.806 30.6915C105.748 30.6915 105.684 30.7024 105.615 30.7242V30.6218C105.641 30.6085 105.673 30.5979 105.713 30.5902C105.752 30.5817 105.792 30.5775 105.833 30.5775C105.906 30.5775 105.958 30.5923 105.991 30.6218C106.025 30.6507 106.042 30.6964 106.042 30.759V31.1326H105.921ZM105.793 31.0461C105.811 31.0461 105.828 31.0422 105.847 31.0345C105.866 31.0267 105.883 31.0162 105.9 31.0028V30.911C105.869 30.9061 105.841 30.9036 105.816 30.9036C105.755 30.9036 105.724 30.9282 105.724 30.9775C105.724 30.9993 105.73 31.0162 105.742 31.0281C105.754 31.0401 105.771 31.0461 105.793 31.0461Z'    fill='#7B61FF'  />  <path    d='M5.27672 69.6526C5.27672 69.0698 5.74921 68.5973 6.33206 68.5973H11.5128C12.0957 68.5973 12.5682 69.0698 12.5682 69.6526V70.708H5.27672V69.6526Z'    fill='#D9D8DA'  />  <path    d='M14.6789 69.6526C14.6789 69.0698 15.1514 68.5973 15.7342 68.5973H20.915C21.4978 68.5973 21.9703 69.0698 21.9703 69.6526V70.708H14.6789V69.6526Z'    fill='#D9D8DA'  />  <path    d='M24.081 69.6526C24.081 69.0698 24.5535 68.5973 25.1364 68.5973H30.3171C30.9 68.5973 31.3725 69.0698 31.3725 69.6526V70.708H24.081V69.6526Z'    fill='#D9D8DA'  />  <path    d='M33.4832 69.6526C33.4832 69.0698 33.9557 68.5973 34.5385 68.5973H39.7193C40.3021 68.5973 40.7746 69.0698 40.7746 69.6526V70.708H33.4832V69.6526Z'    fill='#D9D8DA'  />  <path    d='M42.8853 69.6526C42.8853 69.0698 43.3578 68.5973 43.9407 68.5973H49.1214C49.7043 68.5973 50.1768 69.0698 50.1768 69.6526V70.708H42.8853V69.6526Z'    fill='#D9D8DA'  />  <path    d='M52.2875 69.6526C52.2875 69.0698 52.7599 68.5973 53.3428 68.5973H58.5236C59.1064 68.5973 59.5789 69.0698 59.5789 69.6526V70.708H52.2875V69.6526Z'    fill='#D9D8DA'  />  <path    d='M61.6896 69.6526C61.6896 69.0698 62.1621 68.5973 62.7449 68.5973H67.9257C68.5086 68.5973 68.9811 69.0698 68.9811 69.6526V70.708H61.6896V69.6526Z'    fill='#D9D8DA'  />  <path    d='M71.0917 69.6526C71.0917 69.0698 71.5642 68.5973 72.1471 68.5973H77.3279C77.9107 68.5973 78.3832 69.0698 78.3832 69.6526V70.708H71.0917V69.6526Z'    fill='#D9D8DA'  />  <path    d='M80.4939 69.6526C80.4939 69.0698 80.9664 68.5973 81.5492 68.5973H86.73C87.3129 68.5973 87.7854 69.0698 87.7854 69.6526V70.708H80.4939V69.6526Z'    fill='#D9D8DA'  />  <path    d='M89.896 69.6526C89.896 69.0698 90.3685 68.5973 90.9514 68.5973H96.1322C96.715 68.5973 97.1875 69.0698 97.1875 69.6526V70.708H89.896V69.6526Z'    fill='#D9D8DA'  />  <path    d='M99.2982 34.8274H106.59L106.59 36.6742L99.2982 39.3126V34.8274Z'    fill='#D9D8DA'  />  <path    d='M99.2982 41.9509L106.591 39.0487V70.708H99.2982V41.9509Z'    fill='#D9D8DA'  />  <path    d='M98.6747 42.2148V41.1594L107.117 37.9944V39.0498L98.6747 42.2148Z'    fill='#D9D8DA'  />  <path    d='M98.6747 40.1041V39.0487L107.117 35.8827V36.938L98.6747 40.1041Z'    fill='#D9D8DA'  />  <path    d='M8.24276 77.6922C8.24276 77.9051 8.18278 78.0985 8.06282 78.2727C7.94674 78.4468 7.78421 78.5861 7.57525 78.6906C7.86547 78.8222 8.07443 78.9653 8.20213 79.1201C8.32982 79.2749 8.39367 79.4645 8.39367 79.689C8.39367 80.0372 8.26404 80.3139 8.00478 80.519C7.74939 80.7202 7.40112 80.8208 6.95999 80.8208C6.53433 80.8208 6.19381 80.7241 5.93842 80.5306C5.68689 80.3371 5.56113 80.074 5.56113 79.7412C5.56113 79.5051 5.62692 79.2923 5.75848 79.1027C5.89392 78.9131 6.08933 78.7602 6.34472 78.6442C6.1319 78.5358 5.97324 78.4081 5.86876 78.2611C5.76816 78.1102 5.71785 77.9322 5.71785 77.7271C5.71785 77.3943 5.832 77.1273 6.06031 76.9261C6.29249 76.7248 6.59818 76.6242 6.9774 76.6242C7.35275 76.6242 7.65652 76.7229 7.88869 76.9203C8.12474 77.1176 8.24276 77.3749 8.24276 77.6922ZM6.7046 78.8067C6.31377 79.0273 6.11835 79.3059 6.11835 79.6425C6.11835 79.8708 6.19188 80.0488 6.33892 80.1765C6.48983 80.3003 6.70266 80.3623 6.9774 80.3623C7.24827 80.3623 7.45917 80.3042 7.61008 80.1881C7.76099 80.0682 7.83645 79.8998 7.83645 79.6831C7.83645 79.5245 7.78034 79.3949 7.66812 79.2943C7.55978 79.1898 7.35662 79.0756 7.05866 78.9518L6.7046 78.8067ZM6.26346 77.698C6.26346 77.8567 6.3157 77.9941 6.42018 78.1102C6.52466 78.2224 6.68912 78.3249 6.91355 78.4178L7.21538 78.5397C7.53656 78.3269 7.69715 78.0637 7.69715 77.7503C7.69715 77.5297 7.6333 77.3595 7.5056 77.2395C7.37791 77.1195 7.1999 77.0596 6.9716 77.0596C6.74716 77.0596 6.57303 77.1157 6.4492 77.2279C6.32538 77.3401 6.26346 77.4968 6.26346 77.698Z'    fill='#D9D8DA'  />  <path    d='M8.9996 81.6218L9.29563 80.0604H9.48137C9.61294 80.0604 9.70581 80.0778 9.75998 80.1127C9.81802 80.1436 9.84705 80.1978 9.84705 80.2752C9.84705 80.3371 9.81996 80.4455 9.76578 80.6002L9.3943 81.6218H8.9996Z'    fill='#D9D8DA'  />  <path    d='M12.0034 78.4352C12.0227 78.4313 12.0421 78.4294 12.0614 78.4294C12.0808 78.4294 12.1001 78.4294 12.1195 78.4294C12.5026 78.4294 12.8063 78.5339 13.0308 78.7428C13.2552 78.9479 13.3674 79.2246 13.3674 79.5729C13.3674 79.9521 13.23 80.2558 12.9553 80.4841C12.6844 80.7086 12.3188 80.8208 11.8583 80.8208C11.4945 80.8208 11.1347 80.7434 10.7787 80.5886V80.1243C11.2004 80.2636 11.5603 80.3332 11.8583 80.3332C12.1524 80.3332 12.3787 80.2675 12.5374 80.1359C12.696 80.0043 12.7754 79.8167 12.7754 79.5729C12.7754 79.1046 12.4793 78.8705 11.8873 78.8705C11.7016 78.8705 11.5177 78.8802 11.3359 78.8996V78.5165L12.5548 77.1873H10.8367V76.7113H13.1991V77.1698L12.0034 78.4352Z'    fill='#D9D8DA'  />  <path    d='M15.6624 80.3332C15.9681 80.3332 16.1926 80.2055 16.3357 79.9501C16.4789 79.6909 16.5505 79.2807 16.5505 78.7196C16.5505 78.1663 16.4789 77.76 16.3357 77.5007C16.1926 77.2414 15.9681 77.1118 15.6624 77.1118C15.3567 77.1118 15.1323 77.2414 14.9891 77.5007C14.8459 77.76 14.7744 78.1663 14.7744 78.7196C14.7744 79.2768 14.8459 79.6851 14.9891 79.9443C15.1323 80.2036 15.3567 80.3332 15.6624 80.3332ZM15.6624 80.8208C15.1865 80.8208 14.8208 80.6409 14.5654 80.281C14.31 79.9173 14.1823 79.3968 14.1823 78.7196C14.1823 78.0463 14.3081 77.5297 14.5596 77.1698C14.815 76.8061 15.1826 76.6242 15.6624 76.6242C16.1384 76.6242 16.5041 76.8042 16.7595 77.164C17.0148 77.5239 17.1425 78.0424 17.1425 78.7196C17.1425 79.3968 17.0148 79.9173 16.7595 80.281C16.5079 80.6409 16.1423 80.8208 15.6624 80.8208Z'    fill='#D9D8DA'  />  <path    d='M17.9632 80.1301C18.2805 80.2733 18.5727 80.3448 18.8397 80.3448C19.2112 80.3448 19.4917 80.2307 19.6813 80.0024C19.8748 79.7741 19.9851 79.42 20.0122 78.9402C19.8729 79.0331 19.7181 79.1066 19.5478 79.1608C19.3776 79.2111 19.2034 79.2362 19.0254 79.2362C18.6501 79.2362 18.3521 79.124 18.1316 78.8996C17.9149 78.6751 17.8065 78.3675 17.8065 77.9767C17.8065 77.7174 17.8607 77.4872 17.969 77.2859C18.0813 77.0808 18.2399 76.9203 18.445 76.8042C18.6501 76.6842 18.8861 76.6242 19.1531 76.6242C19.6214 76.6242 19.9774 76.7887 20.2211 77.1176C20.4688 77.4465 20.5926 77.9264 20.5926 78.5571C20.5926 79.2846 20.4475 79.8437 20.1573 80.2346C19.8671 80.6254 19.455 80.8208 18.921 80.8208C18.5379 80.8208 18.2186 80.7376 17.9632 80.5712V80.1301ZM19.1647 78.7719C19.3118 78.7719 19.4588 78.7525 19.6059 78.7138C19.7568 78.6751 19.8942 78.6209 20.018 78.5513V78.47C20.0064 77.5568 19.7142 77.1002 19.1415 77.1002C18.9132 77.1002 18.7294 77.1776 18.5901 77.3324C18.4547 77.4833 18.387 77.6864 18.387 77.9418C18.387 78.2127 18.4527 78.4197 18.5843 78.5629C18.7159 78.7022 18.9094 78.7719 19.1647 78.7719Z'    fill='#D9D8DA'  />  <path    d='M26.0462 80.6235C25.7328 80.7434 25.3942 80.8034 25.0305 80.8034C24.3958 80.8034 23.9141 80.6293 23.5852 80.281C23.2601 79.9289 23.0976 79.4142 23.0976 78.737C23.0976 78.0676 23.2659 77.5529 23.6026 77.1931C23.9431 76.8332 24.4287 76.6533 25.0595 76.6533C25.3884 76.6533 25.698 76.7055 25.9882 76.81V77.2917C25.636 77.2105 25.3497 77.1698 25.1291 77.1698C24.6416 77.1698 24.2856 77.2898 24.0611 77.5297C23.8367 77.7658 23.7245 78.143 23.7245 78.6616V78.8009C23.7245 79.3117 23.8328 79.687 24.0495 79.9269C24.2701 80.1668 24.6183 80.2868 25.0943 80.2868C25.3381 80.2868 25.6554 80.2384 26.0462 80.1417V80.6235Z'    fill='#D9D8DA'  />  <path    d='M28.5588 80.7337L28.5124 80.4319C28.3731 80.5519 28.2183 80.6447 28.048 80.7105C27.8816 80.7763 27.7152 80.8092 27.5488 80.8092C27.2741 80.8092 27.0535 80.7318 26.8871 80.577C26.7246 80.4184 26.6434 80.2075 26.6434 79.9443C26.6434 79.6619 26.744 79.4374 26.9452 79.271C27.1464 79.1008 27.4173 79.0156 27.7578 79.0156C27.9822 79.0156 28.226 79.0485 28.4892 79.1143V78.7312C28.4892 78.5223 28.4408 78.3752 28.344 78.2901C28.2512 78.205 28.0906 78.1624 27.8623 78.1624C27.5334 78.1624 27.1928 78.2224 26.8407 78.3423V77.936C26.98 77.8625 27.1503 77.8064 27.3515 77.7677C27.5527 77.7251 27.7559 77.7038 27.961 77.7038C28.3286 77.7038 28.5994 77.7812 28.7736 77.936C28.9477 78.0869 29.0348 78.3191 29.0348 78.6326V80.7337H28.5588ZM27.6881 80.3739C27.9513 80.3739 28.2183 80.2752 28.4892 80.0778V79.4858C28.2879 79.4355 28.0828 79.4103 27.8739 79.4103C27.4366 79.4103 27.218 79.5787 27.218 79.9153C27.218 80.0624 27.2586 80.1765 27.3399 80.2578C27.4211 80.3352 27.5372 80.3739 27.6881 80.3739Z'    fill='#D9D8DA'  />  <path    d='M31.692 80.6641C31.5024 80.7376 31.2876 80.7744 31.0477 80.7744C30.4982 80.7744 30.2235 80.4996 30.2235 79.9501V78.2437H29.6895V77.8722L30.2409 77.8025L30.328 76.9667H30.7981V77.7909H31.6688V78.2437H30.7981V79.9211C30.7981 80.0643 30.8291 80.1649 30.891 80.223C30.9568 80.281 31.0671 80.31 31.2218 80.31C31.3805 80.31 31.5372 80.2907 31.692 80.252V80.6641Z'    fill='#D9D8DA'  />  <path    d='M32.8138 79.3871C32.8215 79.7199 32.9028 79.9656 33.0576 80.1243C33.2162 80.2829 33.46 80.3623 33.7889 80.3623C34.0946 80.3623 34.4061 80.3023 34.7234 80.1823V80.5944C34.4448 80.7453 34.1043 80.8208 33.7019 80.8208C33.2259 80.8208 32.866 80.6892 32.6223 80.4261C32.3785 80.163 32.2566 79.7741 32.2566 79.2594C32.2566 78.768 32.3785 78.3868 32.6223 78.116C32.866 77.8412 33.2066 77.7038 33.6438 77.7038C34.0114 77.7038 34.2939 77.8083 34.4913 78.0173C34.6886 78.2224 34.7873 78.5145 34.7873 78.8938C34.7873 79.0756 34.7718 79.2401 34.7409 79.3871H32.8138ZM33.6148 78.1392C33.371 78.1392 33.1814 78.2127 33.046 78.3598C32.9105 78.5029 32.8331 78.7177 32.8138 79.004H34.2591C34.263 78.9731 34.2649 78.9228 34.2649 78.8531C34.2649 78.6171 34.2088 78.4391 34.0966 78.3191C33.9882 78.1992 33.8276 78.1392 33.6148 78.1392Z'    fill='#D9D8DA'  />  <path    d='M37.5661 80.3332C37.4346 80.4455 37.2933 80.5325 37.1424 80.5944C36.9915 80.6525 36.8387 80.6815 36.6839 80.6815C36.4478 80.6815 36.2389 80.6235 36.057 80.5074C35.8751 80.3913 35.732 80.223 35.6275 80.0024C35.5269 79.778 35.4766 79.5168 35.4766 79.2188C35.4766 78.7544 35.5869 78.3868 35.8074 78.116C36.028 77.8412 36.324 77.7038 36.6955 77.7038C37.0438 77.7038 37.3475 77.8238 37.6068 78.0637L37.6532 77.7909H38.135V80.5538C38.135 81.0143 38.0112 81.3703 37.7635 81.6218C37.5197 81.8733 37.1715 81.9991 36.7187 81.9991C36.355 81.9991 36.0202 81.9217 35.7146 81.7669V81.3548C36.0706 81.4748 36.3898 81.5348 36.6723 81.5348C36.9818 81.5348 37.2082 81.4593 37.3514 81.3084C37.4946 81.1613 37.5661 80.9233 37.5661 80.5944V80.3332ZM36.8522 80.2171C37.0921 80.2171 37.3301 80.1282 37.5661 79.9501V78.4236C37.4501 78.3346 37.332 78.2707 37.2121 78.2321C37.0921 78.1895 36.9606 78.1682 36.8174 78.1682C36.3143 78.1682 36.0628 78.5107 36.0628 79.1956C36.0628 79.5322 36.1286 79.7876 36.2602 79.9618C36.3956 80.132 36.5929 80.2171 36.8522 80.2171Z'    fill='#D9D8DA'  />  <path    d='M40.396 80.8208C39.9548 80.8208 39.6105 80.6834 39.3628 80.4087C39.1151 80.134 38.9913 79.7509 38.9913 79.2594C38.9913 78.7719 39.1151 78.3907 39.3628 78.116C39.6105 77.8412 39.9548 77.7038 40.396 77.7038C40.8371 77.7038 41.1815 77.8412 41.4292 78.116C41.6768 78.3907 41.8006 78.7719 41.8006 79.2594C41.8006 79.7509 41.6768 80.134 41.4292 80.4087C41.1815 80.6834 40.8371 80.8208 40.396 80.8208ZM40.396 80.3565C40.9416 80.3565 41.2144 79.9908 41.2144 79.2594C41.2144 78.5319 40.9416 78.1682 40.396 78.1682C39.8504 78.1682 39.5776 78.5319 39.5776 79.2594C39.5776 79.9908 39.8504 80.3565 40.396 80.3565Z'    fill='#D9D8DA'  />  <path    d='M42.657 80.7337V77.7909H43.1387L43.2026 78.2262C43.3109 78.1102 43.4115 78.0212 43.5044 77.9592C43.5973 77.8935 43.6921 77.8451 43.7888 77.8141C43.8856 77.7832 43.99 77.7677 44.1023 77.7677C44.1758 77.7677 44.2551 77.7735 44.3402 77.7851V78.3075C44.2164 78.292 44.1119 78.2843 44.0268 78.2843C43.7172 78.2843 43.4522 78.3772 43.2316 78.5629V80.7337H42.657Z'    fill='#D9D8DA'  />  <path    d='M44.9932 80.7337V77.7909H45.5679V80.7337H44.9932ZM45.2835 77.2685C45.1713 77.2685 45.0822 77.2376 45.0165 77.1757C44.9546 77.1099 44.9236 77.0247 44.9236 76.9203C44.9236 76.8158 44.9546 76.7326 45.0165 76.6707C45.0822 76.6049 45.1713 76.572 45.2835 76.572C45.3957 76.572 45.4828 76.6049 45.5447 76.6707C45.6105 76.7326 45.6433 76.8158 45.6433 76.9203C45.6433 77.0247 45.6105 77.1099 45.5447 77.1757C45.4828 77.2376 45.3957 77.2685 45.2835 77.2685Z'    fill='#D9D8DA'  />  <path    d='M47.0035 79.3871C47.0113 79.7199 47.0925 79.9656 47.2473 80.1243C47.406 80.2829 47.6497 80.3623 47.9787 80.3623C48.2844 80.3623 48.5959 80.3023 48.9132 80.1823V80.5944C48.6346 80.7453 48.294 80.8208 47.8916 80.8208C47.4156 80.8208 47.0558 80.6892 46.812 80.4261C46.5682 80.163 46.4463 79.7741 46.4463 79.2594C46.4463 78.768 46.5682 78.3868 46.812 78.116C47.0558 77.8412 47.3963 77.7038 47.8336 77.7038C48.2012 77.7038 48.4836 77.8083 48.681 78.0173C48.8783 78.2224 48.977 78.5145 48.977 78.8938C48.977 79.0756 48.9615 79.2401 48.9306 79.3871H47.0035ZM47.8045 78.1392C47.5607 78.1392 47.3711 78.2127 47.2357 78.3598C47.1003 78.5029 47.0229 78.7177 47.0035 79.004H48.4488C48.4527 78.9731 48.4546 78.9228 48.4546 78.8531C48.4546 78.6171 48.3985 78.4391 48.2863 78.3191C48.1779 78.1992 48.0174 78.1392 47.8045 78.1392Z'    fill='#D9D8DA'  />  <path    d='M51.1987 79.9443C51.1987 79.8515 51.1677 79.776 51.1058 79.718C51.0477 79.6599 50.9394 79.6019 50.7807 79.5438L50.2874 79.3581C49.8578 79.1995 49.6431 78.9286 49.6431 78.5455C49.6431 78.294 49.7398 78.0908 49.9333 77.936C50.1306 77.7812 50.388 77.7038 50.7053 77.7038C51.011 77.7038 51.2993 77.7658 51.5701 77.8896V78.2959C51.2683 78.1992 50.9897 78.1508 50.7343 78.1508C50.3628 78.1508 50.1771 78.2766 50.1771 78.5281C50.1771 78.6287 50.208 78.708 50.27 78.7661C50.3319 78.8241 50.4538 78.8879 50.6356 78.9576L51.0884 79.1317C51.3167 79.2207 51.4811 79.3271 51.5817 79.451C51.6824 79.5709 51.7327 79.7277 51.7327 79.9211C51.7327 80.1959 51.6301 80.4145 51.425 80.577C51.2199 80.7395 50.9471 80.8208 50.6066 80.8208C50.2235 80.8208 49.8907 80.7473 49.6083 80.6002V80.1939C49.972 80.3139 50.3086 80.3739 50.6182 80.3739C50.8078 80.3739 50.951 80.3371 51.0477 80.2636C51.1483 80.1901 51.1987 80.0836 51.1987 79.9443Z'    fill='#D9D8DA'  />  <path    d='M0.527674 91.2872H419.499V96.5639H0.527674V91.2872Z'    fill='url(#paint4_linear_4701_363790)'    fill-opacity='0.3'  />  <path d='M318 1H486.047V181H318V1Z' fill='#23252E' />  <path d='M318 1H486.047V15.6739H318V1Z' fill='#23252E' />  <path    d='M396.262 23.5C396.262 24.3104 395.617 24.9674 394.821 24.9674C394.026 24.9674 393.381 24.3104 393.381 23.5C393.381 22.6896 394.026 22.0326 394.821 22.0326C395.617 22.0326 396.262 22.6896 396.262 23.5Z'    fill='#FF5656'  />  <path d='M326.707 28.8804V24.8128H327.295V28.8804H326.707Z' fill='#9ED7FB' />  <path    d='M330.235 28.8804V26.8907C330.235 26.6833 330.193 26.5307 330.108 26.4328C330.028 26.335 329.899 26.2861 329.722 26.2861C329.419 26.2861 329.121 26.3859 328.829 26.5854V28.8804H328.259V25.9046H328.737L328.795 26.2333C329.16 25.9554 329.544 25.8165 329.947 25.8165C330.228 25.8165 330.441 25.8928 330.587 26.0454C330.733 26.1941 330.806 26.4113 330.806 26.697V28.8804H330.235Z'    fill='#9ED7FB'  />  <path    d='M333.046 28.0822C333.046 27.9883 333.016 27.912 332.954 27.8533C332.896 27.7946 332.789 27.7359 332.631 27.6772L332.142 27.4893C331.715 27.3289 331.502 27.055 331.502 26.6676C331.502 26.4133 331.598 26.2078 331.79 26.0513C331.986 25.8948 332.242 25.8165 332.557 25.8165C332.86 25.8165 333.146 25.8791 333.415 26.0043V26.4152C333.115 26.3174 332.839 26.2685 332.585 26.2685C332.217 26.2685 332.032 26.3957 332.032 26.65C332.032 26.7517 332.063 26.832 332.124 26.8907C332.186 26.9493 332.307 27.0139 332.487 27.0843L332.937 27.2604C333.163 27.3504 333.327 27.458 333.427 27.5833C333.526 27.7046 333.576 27.863 333.576 28.0587C333.576 28.3365 333.475 28.5576 333.271 28.722C333.067 28.8863 332.797 28.9685 332.459 28.9685C332.078 28.9685 331.748 28.8941 331.468 28.7454V28.3346C331.829 28.4559 332.163 28.5165 332.47 28.5165C332.658 28.5165 332.8 28.4793 332.896 28.405C332.996 28.3307 333.046 28.223 333.046 28.0822Z'    fill='#9ED7FB'  />  <path    d='M334.214 28.8804V25.9046H334.784V28.8804H334.214ZM334.502 25.3763C334.39 25.3763 334.302 25.345 334.237 25.2824C334.175 25.2159 334.145 25.1298 334.145 25.0241C334.145 24.9185 334.175 24.8343 334.237 24.7717C334.302 24.7052 334.39 24.672 334.502 24.672C334.613 24.672 334.7 24.7052 334.761 24.7717C334.826 24.8343 334.859 24.9185 334.859 25.0241C334.859 25.1298 334.826 25.2159 334.761 25.2824C334.7 25.345 334.613 25.3763 334.502 25.3763Z'    fill='#9ED7FB'  />  <path    d='M337.612 28.4754C337.482 28.5889 337.342 28.677 337.192 28.7396C337.042 28.7983 336.89 28.8276 336.737 28.8276C336.502 28.8276 336.295 28.7689 336.114 28.6515C335.934 28.5341 335.792 28.3639 335.688 28.1409C335.588 27.9139 335.538 27.6498 335.538 27.3485C335.538 26.8789 335.648 26.5072 335.867 26.2333C336.086 25.9554 336.379 25.8165 336.748 25.8165C337.094 25.8165 337.395 25.9378 337.653 26.1804L337.699 25.9046H338.177V28.6985C338.177 29.1641 338.054 29.5241 337.808 29.7785C337.566 30.0328 337.221 30.16 336.771 30.16C336.41 30.16 336.078 30.0817 335.774 29.9252V29.5085C336.128 29.6298 336.445 29.6904 336.725 29.6904C337.032 29.6904 337.257 29.6141 337.399 29.4615C337.541 29.3128 337.612 29.0722 337.612 28.7396V28.4754ZM336.904 28.358C337.142 28.358 337.378 28.268 337.612 28.088V26.5443C337.497 26.4543 337.38 26.3898 337.261 26.3507C337.142 26.3076 337.011 26.2861 336.869 26.2861C336.37 26.2861 336.12 26.6324 336.12 27.325C336.12 27.6654 336.185 27.9237 336.316 28.0998C336.451 28.272 336.646 28.358 336.904 28.358Z'    fill='#9ED7FB'  />  <path    d='M341.035 28.8804V26.8907C341.035 26.6833 340.993 26.5307 340.909 26.4328C340.828 26.335 340.699 26.2861 340.523 26.2861C340.219 26.2861 339.921 26.3859 339.629 26.5854V28.8804H339.059V24.537H339.629V26.2098C339.994 25.9476 340.367 25.8165 340.747 25.8165C341.028 25.8165 341.241 25.8928 341.387 26.0454C341.533 26.1941 341.606 26.4113 341.606 26.697V28.8804H341.035Z'    fill='#9ED7FB'  />  <path    d='M344.117 28.81C343.929 28.8843 343.716 28.9215 343.478 28.9215C342.932 28.9215 342.659 28.6437 342.659 28.088V26.3624H342.129V25.9867L342.677 25.9163L342.763 25.0711H343.23V25.9046H344.094V26.3624H343.23V28.0587C343.23 28.2035 343.261 28.3052 343.322 28.3639C343.387 28.4226 343.497 28.452 343.65 28.452C343.808 28.452 343.963 28.4324 344.117 28.3933V28.81Z'    fill='#9ED7FB'  />  <path    d='M346.081 28.0822C346.081 27.9883 346.05 27.912 345.989 27.8533C345.931 27.7946 345.823 27.7359 345.666 27.6772L345.176 27.4893C344.75 27.3289 344.537 27.055 344.537 26.6676C344.537 26.4133 344.633 26.2078 344.825 26.0513C345.021 25.8948 345.276 25.8165 345.591 25.8165C345.894 25.8165 346.181 25.8791 346.449 26.0043V26.4152C346.15 26.3174 345.873 26.2685 345.62 26.2685C345.251 26.2685 345.067 26.3957 345.067 26.65C345.067 26.7517 345.097 26.832 345.159 26.8907C345.22 26.9493 345.341 27.0139 345.522 27.0843L345.971 27.2604C346.198 27.3504 346.361 27.458 346.461 27.5833C346.561 27.7046 346.611 27.863 346.611 28.0587C346.611 28.3365 346.509 28.5576 346.305 28.722C346.102 28.8863 345.831 28.9685 345.493 28.9685C345.113 28.9685 344.782 28.8941 344.502 28.7454V28.3346C344.863 28.4559 345.197 28.5165 345.505 28.5165C345.693 28.5165 345.835 28.4793 345.931 28.405C346.031 28.3307 346.081 28.223 346.081 28.0822Z'    fill='#9ED7FB'  />  <path    d='M358.984 28.8804V24.8128H360.419C361.014 24.8128 361.472 24.9889 361.79 25.3411C362.113 25.6893 362.274 26.1902 362.274 26.8437C362.274 27.4933 362.113 27.9961 361.79 28.3522C361.472 28.7043 361.02 28.8804 360.436 28.8804H358.984ZM359.849 25.4937V28.1996H360.344C361.039 28.1996 361.387 27.7672 361.387 26.9024V26.785C361.387 25.9241 361.038 25.4937 360.338 25.4937H359.849Z'    fill='white'  />  <path    d='M364.74 28.8804L364.671 28.6163C364.552 28.7259 364.413 28.8139 364.256 28.8804C364.102 28.943 363.953 28.9743 363.807 28.9743C363.522 28.9743 363.294 28.8922 363.121 28.7278C362.952 28.5635 362.867 28.3443 362.867 28.0704C362.867 27.8826 362.914 27.7183 363.006 27.5774C363.098 27.4326 363.23 27.3191 363.403 27.237C363.576 27.1548 363.78 27.1137 364.014 27.1137C364.198 27.1137 364.402 27.1391 364.625 27.19V26.8965C364.625 26.7165 364.588 26.5933 364.515 26.5267C364.442 26.4602 364.308 26.427 364.112 26.427C363.797 26.427 363.449 26.4876 363.069 26.6089V26.0396C363.211 25.9652 363.39 25.9065 363.605 25.8635C363.82 25.8165 364.039 25.793 364.262 25.793C364.657 25.793 364.945 25.8752 365.126 26.0396C365.31 26.2 365.403 26.4543 365.403 26.8026V28.8804H364.74ZM364.043 28.3991C364.139 28.3991 364.237 28.3776 364.337 28.3346C364.44 28.2915 364.536 28.2328 364.625 28.1585V27.6478C364.456 27.6204 364.304 27.6067 364.17 27.6067C363.835 27.6067 363.668 27.7437 363.668 28.0176C363.668 28.1389 363.701 28.2328 363.766 28.2993C363.832 28.3659 363.924 28.3991 364.043 28.3991Z'    fill='white'  />  <path    d='M367.977 28.8041C367.77 28.8863 367.538 28.9274 367.28 28.9274C366.954 28.9274 366.712 28.8491 366.554 28.6926C366.401 28.5361 366.324 28.2935 366.324 27.9648V26.515H365.88V25.9867L366.347 25.8928L366.474 25.0711H367.165V25.8811H367.96V26.515H367.165V27.9237C367.165 28.0489 367.196 28.137 367.257 28.1878C367.319 28.2387 367.422 28.2641 367.568 28.2641C367.687 28.2641 367.824 28.2524 367.977 28.2289V28.8041Z'    fill='white'  />  <path    d='M370.21 28.8804L370.141 28.6163C370.022 28.7259 369.884 28.8139 369.726 28.8804C369.573 28.943 369.423 28.9743 369.277 28.9743C368.993 28.9743 368.764 28.8922 368.591 28.7278C368.422 28.5635 368.338 28.3443 368.338 28.0704C368.338 27.8826 368.384 27.7183 368.476 27.5774C368.568 27.4326 368.701 27.3191 368.874 27.237C369.046 27.1548 369.25 27.1137 369.484 27.1137C369.669 27.1137 369.872 27.1391 370.095 27.19V26.8965C370.095 26.7165 370.059 26.5933 369.986 26.5267C369.913 26.4602 369.778 26.427 369.582 26.427C369.267 26.427 368.92 26.4876 368.539 26.6089V26.0396C368.682 25.9652 368.86 25.9065 369.075 25.8635C369.29 25.8165 369.509 25.793 369.732 25.793C370.128 25.793 370.416 25.8752 370.596 26.0396C370.781 26.2 370.873 26.4543 370.873 26.8026V28.8804H370.21ZM369.513 28.3991C369.609 28.3991 369.707 28.3776 369.807 28.3346C369.911 28.2915 370.007 28.2328 370.095 28.1585V27.6478C369.926 27.6204 369.774 27.6067 369.64 27.6067C369.306 27.6067 369.139 27.7437 369.139 28.0176C369.139 28.1389 369.171 28.2328 369.237 28.2993C369.302 28.3659 369.394 28.3991 369.513 28.3991Z'    fill='white'  />  <path    d='M375.111 30.0896V28.6515C374.877 28.8472 374.608 28.945 374.305 28.945C374.063 28.945 373.849 28.8843 373.665 28.763C373.481 28.6378 373.337 28.4578 373.233 28.223C373.133 27.9883 373.083 27.7124 373.083 27.3954C373.083 27.0785 373.131 26.8007 373.227 26.562C373.327 26.3193 373.469 26.1315 373.654 25.9985C373.842 25.8615 374.063 25.793 374.316 25.793C374.666 25.793 374.96 25.9085 375.198 26.1393L375.261 25.8811H375.952V30.0896H375.111ZM374.581 28.2993C374.766 28.2993 374.942 28.2446 375.111 28.135V26.5854C374.946 26.4876 374.756 26.4387 374.541 26.4387C374.337 26.4387 374.186 26.517 374.086 26.6735C373.986 26.8261 373.936 27.0589 373.936 27.372C373.936 27.685 373.988 27.9178 374.091 28.0704C374.199 28.223 374.362 28.2993 374.581 28.2993Z'    fill='white'  />  <path    d='M378.749 28.8804L378.668 28.5635C378.326 28.8335 377.969 28.9685 377.596 28.9685C377.335 28.9685 377.131 28.8902 376.986 28.7337C376.84 28.5733 376.767 28.3541 376.767 28.0763V25.8811H377.608V27.8357C377.608 28.1526 377.742 28.3111 378.011 28.3111C378.211 28.3111 378.407 28.2485 378.599 28.1233V25.8811H379.44V28.8804H378.749Z'    fill='white'  />  <path    d='M381.961 28.8804L381.892 28.6163C381.773 28.7259 381.635 28.8139 381.477 28.8804C381.324 28.943 381.174 28.9743 381.028 28.9743C380.744 28.9743 380.515 28.8922 380.342 28.7278C380.173 28.5635 380.089 28.3443 380.089 28.0704C380.089 27.8826 380.135 27.7183 380.227 27.5774C380.319 27.4326 380.452 27.3191 380.625 27.237C380.797 27.1548 381.001 27.1137 381.235 27.1137C381.42 27.1137 381.623 27.1391 381.846 27.19V26.8965C381.846 26.7165 381.81 26.5933 381.737 26.5267C381.664 26.4602 381.529 26.427 381.333 26.427C381.018 26.427 380.671 26.4876 380.29 26.6089V26.0396C380.433 25.9652 380.611 25.9065 380.826 25.8635C381.041 25.8165 381.26 25.793 381.483 25.793C381.879 25.793 382.167 25.8752 382.347 26.0396C382.532 26.2 382.624 26.4543 382.624 26.8026V28.8804H381.961ZM381.264 28.3991C381.36 28.3991 381.458 28.3776 381.558 28.3346C381.662 28.2915 381.758 28.2328 381.846 28.1585V27.6478C381.677 27.6204 381.525 27.6067 381.391 27.6067C381.057 27.6067 380.89 27.7437 380.89 28.0176C380.89 28.1389 380.922 28.2328 380.988 28.2993C381.053 28.3659 381.145 28.3991 381.264 28.3991Z'    fill='white'  />  <path    d='M384.744 28.8217C384.582 28.8883 384.409 28.9215 384.225 28.9215C383.706 28.9215 383.447 28.6261 383.447 28.0352V24.537H384.288V27.9648C384.288 28.0743 384.306 28.1526 384.34 28.1996C384.379 28.2426 384.44 28.2641 384.525 28.2641C384.578 28.2641 384.651 28.2583 384.744 28.2465V28.8217Z'    fill='white'  />  <path    d='M385.373 28.8804V25.8811H386.214V28.8804H385.373ZM385.793 25.4174C385.647 25.4174 385.53 25.3763 385.442 25.2941C385.353 25.212 385.309 25.1004 385.309 24.9596C385.309 24.8187 385.353 24.7072 385.442 24.625C385.53 24.5428 385.647 24.5017 385.793 24.5017C385.939 24.5017 386.056 24.5428 386.145 24.625C386.233 24.7072 386.277 24.8187 386.277 24.9596C386.277 25.1004 386.233 25.212 386.145 25.2941C386.056 25.3763 385.939 25.4174 385.793 25.4174Z'    fill='white'  />  <path    d='M388.824 28.8041C388.616 28.8863 388.384 28.9274 388.126 28.9274C387.8 28.9274 387.558 28.8491 387.4 28.6926C387.247 28.5361 387.17 28.2935 387.17 27.9648V26.515H386.726V25.9867L387.193 25.8928L387.32 25.0711H388.011V25.8811H388.806V26.515H388.011V27.9237C388.011 28.0489 388.042 28.137 388.103 28.1878C388.165 28.2387 388.269 28.2641 388.415 28.2641C388.534 28.2641 388.67 28.2524 388.824 28.2289V28.8041Z'    fill='white'  />  <path    d='M390.326 28.9274L389.163 25.8811H390.056L390.712 28.1233L391.335 25.8811H392.205L390.96 29.2854C390.849 29.5946 390.712 29.8176 390.551 29.9546C390.39 30.0915 390.186 30.16 389.94 30.16C389.748 30.16 389.562 30.1287 389.381 30.0661V29.485C389.504 29.4967 389.614 29.5026 389.71 29.5026C389.871 29.5026 389.996 29.4635 390.084 29.3852C390.173 29.3109 390.248 29.1798 390.309 28.992L390.326 28.9274Z'    fill='white'  />  <path    d='M405.375 27.102C405.033 26.9728 404.787 26.8163 404.637 26.6324C404.487 26.4446 404.412 26.2078 404.412 25.9222C404.412 25.5543 404.545 25.2609 404.81 25.0417C405.079 24.8226 405.438 24.713 405.887 24.713C406.264 24.713 406.632 24.7835 406.994 24.9243V25.5935C406.621 25.4761 406.275 25.4174 405.956 25.4174C405.503 25.4174 405.277 25.5661 405.277 25.8635C405.277 25.973 405.315 26.063 405.392 26.1335C405.472 26.2039 405.62 26.2783 405.835 26.3565L406.262 26.515C406.619 26.648 406.873 26.8046 407.022 26.9846C407.176 27.1607 407.253 27.3915 407.253 27.6772C407.253 28.0802 407.111 28.3991 406.826 28.6339C406.542 28.8648 406.152 28.9802 405.657 28.9802C405.442 28.9802 405.227 28.9587 405.012 28.9157C404.796 28.8765 404.612 28.8217 404.458 28.7513V28.0822C404.65 28.1409 404.856 28.1878 405.075 28.223C405.294 28.2583 405.492 28.2759 405.668 28.2759C405.895 28.2759 406.07 28.2348 406.193 28.1526C406.316 28.0665 406.377 27.9452 406.377 27.7887C406.377 27.6674 406.339 27.5715 406.262 27.5011C406.189 27.4307 406.039 27.3524 405.812 27.2663L405.375 27.102Z'    fill='white'  />  <path    d='M409.69 28.8041C409.482 28.8863 409.25 28.9274 408.993 28.9274C408.666 28.9274 408.424 28.8491 408.267 28.6926C408.113 28.5361 408.036 28.2935 408.036 27.9648V26.515H407.593V25.9867L408.059 25.8928L408.186 25.0711H408.877V25.8811H409.672V26.515H408.877V27.9237C408.877 28.0489 408.908 28.137 408.97 28.1878C409.031 28.2387 409.135 28.2641 409.281 28.2641C409.4 28.2641 409.536 28.2524 409.69 28.2289V28.8041Z'    fill='white'  />  <path    d='M410.863 27.5891C410.878 27.8474 410.955 28.0352 411.093 28.1526C411.231 28.2661 411.448 28.3228 411.744 28.3228C412.001 28.3228 412.301 28.2739 412.643 28.1761V28.7454C412.508 28.8159 412.347 28.8707 412.159 28.9098C411.975 28.9489 411.783 28.9685 411.583 28.9685C411.095 28.9685 410.722 28.8335 410.465 28.5635C410.212 28.2935 410.085 27.8983 410.085 27.3778C410.085 26.877 410.212 26.4876 410.465 26.2098C410.719 25.932 411.07 25.793 411.519 25.793C411.9 25.793 412.192 25.9007 412.395 26.1159C412.603 26.3272 412.706 26.6304 412.706 27.0257C412.706 27.1117 412.701 27.2096 412.689 27.3191C412.677 27.4287 412.664 27.5187 412.649 27.5891H410.863ZM411.491 26.3859C411.302 26.3859 411.153 26.4446 411.041 26.562C410.934 26.6754 410.872 26.8417 410.857 27.0609H411.986V26.9611C411.986 26.5776 411.821 26.3859 411.491 26.3859Z'    fill='white'  />  <path    d='M413.38 30.0896V25.8811H414.072L414.141 26.1628C414.256 26.0493 414.395 25.9593 414.556 25.8928C414.721 25.8263 414.888 25.793 415.057 25.793C415.43 25.793 415.724 25.932 415.939 26.2098C416.158 26.4876 416.267 26.8633 416.267 27.3367C416.267 27.6459 416.217 27.9217 416.117 28.1643C416.017 28.407 415.873 28.5987 415.685 28.7396C415.497 28.8765 415.28 28.945 415.034 28.945C414.877 28.945 414.727 28.9196 414.585 28.8687C414.443 28.8178 414.322 28.7474 414.222 28.6574V30.0896H413.38ZM414.786 26.4387C414.587 26.4387 414.398 26.4915 414.222 26.5972V28.1409C414.391 28.2465 414.579 28.2993 414.786 28.2993C415.001 28.2993 415.159 28.225 415.259 28.0763C415.362 27.9276 415.414 27.6928 415.414 27.372C415.414 27.0472 415.364 26.8104 415.265 26.6617C415.165 26.513 415.005 26.4387 414.786 26.4387Z'    fill='white'  />  <path    d='M418.204 28.0528C418.204 27.9746 418.181 27.9139 418.135 27.8709C418.093 27.8278 418.005 27.7809 417.87 27.73L417.421 27.548C417.186 27.4541 417.017 27.3387 416.914 27.2017C416.81 27.0648 416.758 26.8907 416.758 26.6793C416.758 26.4133 416.862 26.2 417.069 26.0396C417.281 25.8752 417.561 25.793 417.91 25.793C418.233 25.793 418.531 25.8576 418.803 25.9867V26.5561C418.512 26.4661 418.239 26.4211 417.985 26.4211C417.828 26.4211 417.713 26.4407 417.64 26.4798C417.567 26.5189 417.53 26.5815 417.53 26.6676C417.53 26.7341 417.551 26.7889 417.594 26.832C417.64 26.8711 417.734 26.92 417.876 26.9787L418.314 27.1607C418.552 27.2585 418.721 27.372 418.821 27.5011C418.924 27.6302 418.976 27.7985 418.976 28.0059C418.976 28.2954 418.867 28.5302 418.648 28.7102C418.433 28.8863 418.149 28.9743 417.795 28.9743C417.4 28.9743 417.05 28.8941 416.747 28.7337V28.1643C417.127 28.2857 417.474 28.3463 417.789 28.3463C418.066 28.3463 418.204 28.2485 418.204 28.0528Z'    fill='white'  />  <path    d='M476.924 6.38393L476.441 5.8913L474.524 7.84433L472.607 5.8913L472.123 6.38393L474.04 8.33696L472.123 10.29L472.607 10.7826L474.524 8.82958L476.441 10.7826L476.924 10.29L475.007 8.33696L476.924 6.38393Z'    fill='#D5D7DA'  />  <path    d='M388.318 10.7826V10.1487L390.375 7.39587H388.422V6.715H391.309V7.34891L389.263 10.1017H391.326V10.7826H388.318Z'    fill='#D5D7DA'  />  <path d='M392.056 10.7826V6.715H392.92V10.7826H392.056Z' fill='#D5D7DA' />  <path    d='M394.737 9.29761V10.7826H393.896V6.715H395.423C395.837 6.715 396.166 6.83043 396.408 7.0613C396.65 7.29217 396.771 7.60717 396.771 8.0063C396.771 8.40543 396.65 8.72044 396.408 8.9513C396.166 9.18217 395.837 9.29761 395.423 9.29761H394.737ZM394.737 8.64022H395.325C395.517 8.64022 395.663 8.58739 395.763 8.48174C395.866 8.37217 395.918 8.2137 395.918 8.0063C395.918 7.79891 395.866 7.64239 395.763 7.53674C395.663 7.42717 395.517 7.37239 395.325 7.37239H394.737V8.64022Z'    fill='#D5D7DA'  />  <path    d='M401.932 10.677C401.621 10.7983 401.274 10.8589 400.89 10.8589C400.24 10.8589 399.749 10.6828 399.415 10.3307C399.08 9.97457 398.913 9.45413 398.913 8.76935C398.913 8.09239 399.088 7.56804 399.438 7.1963C399.787 6.82457 400.279 6.6387 400.913 6.6387C401.251 6.6387 401.571 6.69348 401.875 6.80304V7.49565C401.525 7.41739 401.239 7.37826 401.016 7.37826C400.617 7.37826 400.317 7.48587 400.118 7.70109C399.922 7.9163 399.824 8.245 399.824 8.68717V8.82217C399.824 9.26043 399.92 9.58717 400.112 9.80239C400.304 10.0137 400.598 10.1193 400.993 10.1193C401.216 10.1193 401.529 10.0743 401.932 9.98435V10.677Z'    fill='#D5D7DA'  />  <path    d='M403.2 8.74587C403.2 9.20761 403.29 9.55978 403.471 9.80239C403.651 10.045 403.914 10.1663 404.26 10.1663C404.606 10.1663 404.869 10.045 405.049 9.80239C405.23 9.55978 405.32 9.20761 405.32 8.74587C405.32 8.28413 405.23 7.93391 405.049 7.69522C404.869 7.45261 404.606 7.3313 404.26 7.3313C403.914 7.3313 403.651 7.45261 403.471 7.69522C403.29 7.93391 403.2 8.28413 403.2 8.74587ZM402.312 8.74587C402.312 8.31543 402.387 7.93978 402.537 7.61891C402.691 7.29804 402.914 7.05152 403.206 6.87935C403.501 6.70326 403.853 6.61522 404.26 6.61522C404.656 6.61522 404.999 6.69935 405.291 6.86761C405.583 7.03587 405.808 7.28043 405.965 7.6013C406.127 7.91826 406.207 8.29978 406.207 8.74587C406.207 9.1763 406.131 9.55196 405.977 9.87283C405.827 10.1937 405.604 10.4422 405.309 10.6183C405.017 10.7943 404.667 10.8824 404.26 10.8824C403.864 10.8824 403.521 10.7983 403.229 10.63C402.937 10.4617 402.71 10.2172 402.549 9.8963C402.391 9.57543 402.312 9.19196 402.312 8.74587Z'    fill='#D5D7DA'  />  <path    d='M407.042 10.7826V6.715H408.477C409.072 6.715 409.529 6.89109 409.848 7.24326C410.171 7.59152 410.332 8.09239 410.332 8.74587C410.332 9.39544 410.171 9.89826 409.848 10.2543C409.529 10.6065 409.078 10.7826 408.494 10.7826H407.042ZM407.906 7.39587V10.1017H408.402C409.097 10.1017 409.445 9.66935 409.445 8.80456V8.68717C409.445 7.8263 409.095 7.39587 408.396 7.39587H407.906Z'    fill='#D5D7DA'  />  <path    d='M411.167 10.7826V6.715H413.794V7.39587H412.031V8.35848H413.466V9.03935H412.031V10.1017H413.794V10.7826H411.167Z'    fill='#D5D7DA'  />  <path    d='M338.816 97.0559C338.527 96.9447 338.318 96.8102 338.187 96.6524C338.057 96.4946 337.992 96.2955 337.992 96.0552C337.992 95.8543 338.041 95.6767 338.14 95.5225C338.238 95.3647 338.379 95.2409 338.562 95.1513C338.749 95.0616 338.967 95.0167 339.217 95.0167C339.534 95.0167 339.86 95.0813 340.194 95.2104V95.6462C339.839 95.5351 339.525 95.4795 339.254 95.4795C339.025 95.4795 338.847 95.5279 338.721 95.6247C338.597 95.718 338.536 95.8525 338.536 96.0283C338.536 96.1717 338.578 96.2865 338.663 96.3726C338.747 96.4551 338.904 96.5394 339.133 96.6255L339.613 96.8084C339.898 96.916 340.103 97.047 340.226 97.2012C340.353 97.3518 340.416 97.5473 340.416 97.7877C340.416 98.132 340.295 98.4064 340.052 98.6109C339.812 98.8153 339.488 98.9176 339.08 98.9176C338.675 98.9176 338.323 98.844 338.024 98.697V98.2665C338.393 98.3921 338.742 98.4548 339.069 98.4548C339.319 98.4548 339.515 98.3992 339.655 98.288C339.8 98.1768 339.872 98.0262 339.872 97.8361C339.872 97.7034 339.83 97.594 339.745 97.5079C339.664 97.4182 339.525 97.3339 339.328 97.255L338.816 97.0559Z'    fill='#969CA4'  />  <path    d='M343.442 95.0974H343.981V97.4648C343.981 97.9311 343.856 98.2898 343.606 98.5409C343.36 98.792 343.004 98.9176 342.539 98.9176C342.074 98.9176 341.717 98.7938 341.467 98.5463C341.221 98.2952 341.097 97.9347 341.097 97.4648V95.0974H341.636V97.5133C341.636 97.8146 341.713 98.0477 341.868 98.2127C342.023 98.3741 342.247 98.4548 342.539 98.4548C342.831 98.4548 343.055 98.3741 343.21 98.2127C343.365 98.0477 343.442 97.8146 343.442 97.5133V95.0974Z'    fill='#969CA4'  />  <path    d='M346.64 98.4279C346.848 98.4279 347.035 98.4082 347.2 98.3688V97.2765H346.381V96.8515H347.707V98.627C347.556 98.7131 347.378 98.7795 347.174 98.8261C346.969 98.8691 346.756 98.8907 346.535 98.8907C345.957 98.8907 345.519 98.7292 345.22 98.4064C344.92 98.0836 344.771 97.6101 344.771 96.986C344.771 96.3547 344.924 95.874 345.23 95.544C345.536 95.2104 345.98 95.0436 346.561 95.0436C346.931 95.0436 347.271 95.1172 347.58 95.2642V95.6947C347.221 95.5691 346.901 95.5064 346.619 95.5064C346.172 95.5064 345.845 95.6211 345.637 95.8507C345.429 96.0767 345.325 96.4318 345.325 96.916V97.0344C345.325 97.5115 345.431 97.863 345.642 98.089C345.857 98.3149 346.19 98.4279 346.64 98.4279Z'    fill='#969CA4'  />  <path    d='M350.326 98.4279C350.534 98.4279 350.72 98.4082 350.886 98.3688V97.2765H350.067V96.8515H351.393V98.627C351.241 98.7131 351.064 98.7795 350.859 98.8261C350.655 98.8691 350.442 98.8907 350.22 98.8907C349.643 98.8907 349.204 98.7292 348.905 98.4064C348.606 98.0836 348.456 97.6101 348.456 96.986C348.456 96.3547 348.609 95.874 348.916 95.544C349.222 95.2104 349.666 95.0436 350.247 95.0436C350.616 95.0436 350.956 95.1172 351.266 95.2642V95.6947C350.907 95.5691 350.586 95.5064 350.305 95.5064C349.858 95.5064 349.53 95.6211 349.322 95.8507C349.115 96.0767 349.011 96.4318 349.011 96.916V97.0344C349.011 97.5115 349.116 97.863 349.328 98.089C349.542 98.3149 349.875 98.4279 350.326 98.4279Z'    fill='#969CA4'  />  <path    d='M352.247 98.8261V95.0974H354.524V95.5386H352.786V96.6847H354.244V97.1259H352.786V98.3849H354.524V98.8261H352.247Z'    fill='#969CA4'  />  <path    d='M355.923 97.0559C355.635 96.9447 355.425 96.8102 355.295 96.6524C355.165 96.4946 355.099 96.2955 355.099 96.0552C355.099 95.8543 355.149 95.6767 355.247 95.5225C355.346 95.3647 355.487 95.2409 355.67 95.1513C355.857 95.0616 356.075 95.0167 356.325 95.0167C356.642 95.0167 356.967 95.0813 357.302 95.2104V95.6462C356.946 95.5351 356.633 95.4795 356.362 95.4795C356.133 95.4795 355.955 95.5279 355.828 95.6247C355.705 95.718 355.643 95.8525 355.643 96.0283C355.643 96.1717 355.686 96.2865 355.77 96.3726C355.855 96.4551 356.011 96.5394 356.24 96.6255L356.721 96.8084C357.006 96.916 357.21 97.047 357.334 97.2012C357.46 97.3518 357.524 97.5473 357.524 97.7877C357.524 98.132 357.402 98.4064 357.159 98.6109C356.92 98.8153 356.596 98.9176 356.187 98.9176C355.783 98.9176 355.43 98.844 355.131 98.697V98.2665C355.501 98.3921 355.849 98.4548 356.177 98.4548C356.427 98.4548 356.622 98.3992 356.763 98.288C356.908 98.1768 356.98 98.0262 356.98 97.8361C356.98 97.7034 356.937 97.594 356.853 97.5079C356.772 97.4182 356.633 97.3339 356.436 97.255L355.923 97.0559Z'    fill='#969CA4'  />  <path    d='M359.08 98.8261V95.5494H357.913V95.0974H360.786V95.5494H359.619V98.8261H359.08Z'    fill='#969CA4'  />  <path    d='M361.339 98.8261V95.0974H363.616V95.5386H361.878V96.6847H363.336V97.1259H361.878V98.3849H363.616V98.8261H361.339Z'    fill='#969CA4'  />  <path    d='M364.329 98.8261V95.0974H365.533C366.071 95.0974 366.482 95.2571 366.763 95.5763C367.049 95.892 367.191 96.3547 367.191 96.9645C367.191 97.5671 367.047 98.028 366.758 98.3472C366.469 98.6665 366.056 98.8261 365.517 98.8261H364.329ZM364.867 95.5279V98.3957H365.459C366.244 98.3957 366.637 97.9383 366.637 97.0236V96.8999C366.637 96.4443 366.538 96.1018 366.341 95.8722C366.144 95.6427 365.85 95.5279 365.459 95.5279H364.867Z'    fill='#969CA4'  />  <path    d='M370.218 98.8261V95.5494H369.05V95.0974H371.924V95.5494H370.756V98.8261H370.218Z'    fill='#969CA4'  />  <path    d='M372.476 98.8261V95.0974H373.813C374.168 95.0974 374.452 95.1979 374.663 95.3987C374.874 95.596 374.98 95.8633 374.98 96.2004C374.98 96.4479 374.913 96.6632 374.779 96.8461C374.649 97.0254 374.464 97.1564 374.225 97.2389L375.196 98.8261H374.61L373.712 97.3249H372.999V98.8261H372.476ZM372.999 96.8891H373.744C373.969 96.8891 374.14 96.8317 374.256 96.717C374.376 96.6022 374.436 96.4318 374.436 96.2058C374.436 95.9834 374.38 95.8166 374.267 95.7054C374.154 95.5907 373.987 95.5333 373.765 95.5333H372.999V96.8891Z'    fill='#969CA4'  />  <path    d='M378.156 98.8261L377.818 97.8361H376.313L375.985 98.8261H375.431L376.783 95.0974H377.364L378.716 98.8261H378.156ZM376.45 97.4218H377.681L377.063 95.5924L376.45 97.4218Z'    fill='#969CA4'  />  <path    d='M379.736 95.8615V98.8261H379.239V95.0974H379.825L381.626 98.0782V95.0974H382.123V98.8261H381.531L379.736 95.8615Z'    fill='#969CA4'  />  <path    d='M383.725 97.0559C383.436 96.9447 383.227 96.8102 383.096 96.6524C382.966 96.4946 382.901 96.2955 382.901 96.0552C382.901 95.8543 382.95 95.6767 383.049 95.5225C383.147 95.3647 383.288 95.2409 383.471 95.1513C383.658 95.0616 383.876 95.0167 384.126 95.0167C384.443 95.0167 384.769 95.0813 385.103 95.2104V95.6462C384.748 95.5351 384.434 95.4795 384.163 95.4795C383.934 95.4795 383.756 95.5279 383.63 95.6247C383.506 95.718 383.445 95.8525 383.445 96.0283C383.445 96.1717 383.487 96.2865 383.572 96.3726C383.656 96.4551 383.813 96.5394 384.042 96.6255L384.522 96.8084C384.807 96.916 385.012 97.047 385.135 97.2012C385.262 97.3518 385.325 97.5473 385.325 97.7877C385.325 98.132 385.204 98.4064 384.961 98.6109C384.721 98.8153 384.397 98.9176 383.989 98.9176C383.584 98.9176 383.232 98.844 382.933 98.697V98.2665C383.302 98.3921 383.651 98.4548 383.978 98.4548C384.228 98.4548 384.424 98.3992 384.564 98.288C384.709 98.1768 384.781 98.0262 384.781 97.8361C384.781 97.7034 384.739 97.594 384.654 97.5079C384.573 97.4182 384.434 97.3339 384.237 97.255L383.725 97.0559Z'    fill='#969CA4'  />  <path    d='M386.079 98.8261V95.0974H388.25V95.5386H386.618V96.7385H387.965V97.1797H386.618V98.8261H386.079Z'    fill='#969CA4'  />  <path    d='M389.249 96.9645C389.249 97.4523 389.348 97.8235 389.545 98.0782C389.746 98.3293 390.034 98.4548 390.411 98.4548C390.788 98.4548 391.075 98.3275 391.272 98.0728C391.469 97.8182 391.568 97.4487 391.568 96.9645C391.568 96.4802 391.469 96.1126 391.272 95.8615C391.075 95.6068 390.788 95.4795 390.411 95.4795C390.031 95.4795 389.742 95.6068 389.545 95.8615C389.348 96.1126 389.249 96.4802 389.249 96.9645ZM388.695 96.9645C388.695 96.5663 388.761 96.222 388.895 95.9314C389.029 95.6373 389.224 95.4113 389.481 95.2535C389.742 95.0957 390.052 95.0167 390.411 95.0167C390.943 95.0167 391.36 95.1907 391.663 95.5386C391.969 95.883 392.122 96.3583 392.122 96.9645C392.122 97.3626 392.055 97.7088 391.922 98.0029C391.788 98.2934 391.592 98.5194 391.335 98.6808C391.078 98.8386 390.77 98.9176 390.411 98.9176C390.062 98.9176 389.76 98.8422 389.503 98.6916C389.246 98.5373 389.047 98.3132 388.906 98.019C388.765 97.7249 388.695 97.3734 388.695 96.9645Z'    fill='#969CA4'  />  <path    d='M392.934 98.8261V95.0974H394.271C394.626 95.0974 394.91 95.1979 395.121 95.3987C395.332 95.596 395.438 95.8633 395.438 96.2004C395.438 96.4479 395.371 96.6632 395.237 96.8461C395.107 97.0254 394.922 97.1564 394.683 97.2389L395.654 98.8261H395.068L394.17 97.3249H393.457V98.8261H392.934ZM393.457 96.8891H394.202C394.427 96.8891 394.598 96.8317 394.714 96.717C394.834 96.6022 394.894 96.4318 394.894 96.2058C394.894 95.9834 394.838 95.8166 394.725 95.7054C394.612 95.5907 394.445 95.5333 394.223 95.5333H393.457V96.8891Z'    fill='#969CA4'  />  <path    d='M399.255 98.8261V95.8938L398.225 97.8737H397.734L396.699 95.8884V98.8261H396.202V95.0974H396.804L397.987 97.3841L399.165 95.0974H399.751V98.8261H399.255Z'    fill='#969CA4'  />  <path    d='M401.353 97.0559C401.065 96.9447 400.855 96.8102 400.725 96.6524C400.595 96.4946 400.529 96.2955 400.529 96.0552C400.529 95.8543 400.579 95.6767 400.677 95.5225C400.776 95.3647 400.917 95.2409 401.1 95.1513C401.286 95.0616 401.505 95.0167 401.755 95.0167C402.072 95.0167 402.397 95.0813 402.732 95.2104V95.6462C402.376 95.5351 402.063 95.4795 401.792 95.4795C401.563 95.4795 401.385 95.5279 401.258 95.6247C401.135 95.718 401.073 95.8525 401.073 96.0283C401.073 96.1717 401.116 96.2865 401.2 96.3726C401.285 96.4551 401.441 96.5394 401.67 96.6255L402.151 96.8084C402.436 96.916 402.64 97.047 402.763 97.2012C402.89 97.3518 402.954 97.5473 402.954 97.7877C402.954 98.132 402.832 98.4064 402.589 98.6109C402.35 98.8153 402.026 98.9176 401.617 98.9176C401.212 98.9176 400.86 98.844 400.561 98.697V98.2665C400.931 98.3921 401.279 98.4548 401.607 98.4548C401.857 98.4548 402.052 98.3992 402.193 98.288C402.337 98.1768 402.41 98.0262 402.41 97.8361C402.41 97.7034 402.367 97.594 402.283 97.5079C402.202 97.4182 402.063 97.3339 401.866 97.255L401.353 97.0559Z'    fill='#969CA4'  />  <path    d='M346.422 116.818V118.391H345.852V114.324H347.298C347.686 114.324 347.995 114.437 348.225 114.664C348.456 114.887 348.571 115.19 348.571 115.574C348.571 115.953 348.456 116.257 348.225 116.484C347.995 116.707 347.686 116.818 347.298 116.818H346.422ZM346.422 116.343H347.246C347.488 116.343 347.67 116.278 347.793 116.149C347.916 116.016 347.978 115.824 347.978 115.574C347.978 115.057 347.734 114.799 347.246 114.799H346.422V116.343Z'    fill='#D5D7DA'  />  <path    d='M350.938 118.391L350.892 118.086C350.754 118.207 350.6 118.301 350.431 118.368C350.266 118.434 350.101 118.468 349.936 118.468C349.663 118.468 349.444 118.389 349.279 118.233C349.118 118.072 349.037 117.859 349.037 117.593C349.037 117.307 349.137 117.08 349.336 116.912C349.536 116.74 349.805 116.654 350.143 116.654C350.366 116.654 350.608 116.687 350.869 116.754V116.366C350.869 116.155 350.821 116.006 350.725 115.92C350.633 115.834 350.473 115.791 350.247 115.791C349.92 115.791 349.582 115.852 349.233 115.973V115.562C349.371 115.488 349.54 115.431 349.74 115.392C349.94 115.349 350.141 115.327 350.345 115.327C350.71 115.327 350.979 115.406 351.151 115.562C351.324 115.715 351.411 115.95 351.411 116.267V118.391H350.938ZM350.074 118.027C350.335 118.027 350.6 117.928 350.869 117.728V117.129C350.669 117.078 350.466 117.053 350.258 117.053C349.824 117.053 349.607 117.223 349.607 117.564C349.607 117.712 349.648 117.828 349.728 117.91C349.809 117.988 349.924 118.027 350.074 118.027Z'    fill='#D5D7DA'  />  <path    d='M352.288 118.391V115.415H352.767L352.83 115.856C352.938 115.738 353.037 115.648 353.13 115.586C353.222 115.519 353.316 115.47 353.412 115.439C353.508 115.408 353.612 115.392 353.723 115.392C353.796 115.392 353.875 115.398 353.959 115.41V115.938C353.836 115.922 353.733 115.914 353.648 115.914C353.341 115.914 353.078 116.008 352.859 116.196V118.391H352.288Z'    fill='#D5D7DA'  />  <path    d='M355.838 117.593C355.838 117.499 355.807 117.423 355.746 117.364C355.688 117.305 355.58 117.247 355.423 117.188L354.933 117C354.507 116.84 354.294 116.566 354.294 116.178C354.294 115.924 354.39 115.719 354.582 115.562C354.778 115.406 355.033 115.327 355.348 115.327C355.652 115.327 355.938 115.39 356.207 115.515V115.926C355.907 115.828 355.63 115.779 355.377 115.779C355.008 115.779 354.824 115.907 354.824 116.161C354.824 116.263 354.855 116.343 354.916 116.402C354.977 116.46 355.098 116.525 355.279 116.595L355.728 116.771C355.955 116.861 356.118 116.969 356.218 117.094C356.318 117.215 356.368 117.374 356.368 117.57C356.368 117.847 356.266 118.068 356.063 118.233C355.859 118.397 355.588 118.479 355.25 118.479C354.87 118.479 354.54 118.405 354.259 118.256V117.845C354.62 117.967 354.954 118.027 355.262 118.027C355.45 118.027 355.592 117.99 355.688 117.916C355.788 117.842 355.838 117.734 355.838 117.593Z'    fill='#D5D7DA'  />  <path    d='M357.386 117.03C357.393 117.366 357.474 117.615 357.628 117.775C357.785 117.935 358.027 118.016 358.354 118.016C358.657 118.016 358.966 117.955 359.281 117.834V118.25C359.005 118.403 358.667 118.479 358.267 118.479C357.795 118.479 357.437 118.346 357.195 118.08C356.954 117.814 356.833 117.421 356.833 116.9C356.833 116.403 356.954 116.018 357.195 115.744C357.437 115.466 357.775 115.327 358.21 115.327C358.574 115.327 358.855 115.433 359.051 115.644C359.247 115.852 359.345 116.147 359.345 116.531C359.345 116.715 359.329 116.881 359.298 117.03H357.386ZM358.181 115.768C357.939 115.768 357.751 115.842 357.616 115.991C357.482 116.135 357.405 116.353 357.386 116.642H358.82C358.824 116.611 358.826 116.56 358.826 116.49C358.826 116.251 358.77 116.071 358.659 115.95C358.551 115.828 358.392 115.768 358.181 115.768Z'    fill='#D5D7DA'  />  <path    d='M363.62 118.28C363.397 118.397 363.14 118.456 362.848 118.456C362.394 118.456 362.047 118.325 361.805 118.063C361.567 117.797 361.448 117.413 361.448 116.912C361.448 116.415 361.571 116.032 361.816 115.762C362.066 115.488 362.418 115.351 362.871 115.351C363.128 115.351 363.37 115.406 363.597 115.515V115.932C363.378 115.862 363.163 115.826 362.951 115.826C362.629 115.826 362.396 115.91 362.254 116.079C362.112 116.243 362.041 116.507 362.041 116.871V116.947C362.041 117.303 362.112 117.566 362.254 117.734C362.4 117.898 362.629 117.98 362.94 117.98C363.147 117.98 363.374 117.941 363.62 117.863V118.28Z'    fill='#D5D7DA'  />  <path    d='M365.442 118.479C365.004 118.479 364.662 118.34 364.417 118.063C364.171 117.785 364.048 117.397 364.048 116.9C364.048 116.407 364.171 116.022 364.417 115.744C364.662 115.466 365.004 115.327 365.442 115.327C365.88 115.327 366.222 115.466 366.468 115.744C366.714 116.022 366.836 116.407 366.836 116.9C366.836 117.397 366.714 117.785 366.468 118.063C366.222 118.34 365.88 118.479 365.442 118.479ZM365.442 118.01C365.984 118.01 366.254 117.64 366.254 116.9C366.254 116.165 365.984 115.797 365.442 115.797C364.901 115.797 364.63 116.165 364.63 116.9C364.63 117.64 364.901 118.01 365.442 118.01Z'    fill='#D5D7DA'  />  <path    d='M368.611 118.35C368.485 118.397 368.346 118.421 368.197 118.421C367.993 118.421 367.837 118.362 367.73 118.245C367.622 118.123 367.569 117.951 367.569 117.728V114.048H368.139V117.693C368.139 117.783 368.156 117.849 368.191 117.892C368.229 117.932 368.291 117.951 368.375 117.951C368.452 117.951 368.531 117.945 368.611 117.933V118.35Z'    fill='#D5D7DA'  />  <path    d='M371.228 118.391L371.165 118.074C370.808 118.344 370.441 118.479 370.064 118.479C369.792 118.479 369.582 118.401 369.436 118.245C369.29 118.088 369.217 117.867 369.217 117.581V115.415H369.788V117.393C369.788 117.605 369.828 117.761 369.909 117.863C369.989 117.961 370.118 118.01 370.295 118.01C370.571 118.01 370.85 117.916 371.13 117.728V115.415H371.701V118.391H371.228Z'    fill='#D5D7DA'  />  <path    d='M376.317 118.391V116.372C376.317 116.177 376.28 116.032 376.207 115.938C376.134 115.844 376.019 115.797 375.862 115.797C375.581 115.797 375.299 115.885 375.015 116.061C375.018 116.088 375.02 116.118 375.02 116.149C375.02 116.18 375.02 116.212 375.02 116.243V118.391H374.45V116.372C374.45 116.177 374.413 116.032 374.341 115.938C374.268 115.844 374.152 115.797 373.995 115.797C373.703 115.797 373.422 115.883 373.154 116.055V118.391H372.583V115.415H373.061L373.119 115.715C373.488 115.457 373.847 115.327 374.196 115.327C374.554 115.327 374.796 115.466 374.922 115.744C375.303 115.466 375.683 115.327 376.063 115.327C376.328 115.327 376.532 115.404 376.674 115.556C376.816 115.709 376.887 115.926 376.887 116.208V118.391H376.317Z'    fill='#D5D7DA'  />  <path    d='M379.731 118.391V116.402C379.731 116.194 379.689 116.042 379.604 115.944C379.524 115.846 379.395 115.797 379.218 115.797C378.915 115.797 378.617 115.897 378.325 116.096V118.391H377.755V115.415H378.233L378.291 115.744C378.655 115.466 379.04 115.327 379.443 115.327C379.723 115.327 379.936 115.404 380.082 115.556C380.228 115.705 380.301 115.922 380.301 116.208V118.391H379.731Z'    fill='#D5D7DA'  />  <path    d='M384.424 118.391L384.378 118.086C384.24 118.207 384.086 118.301 383.917 118.368C383.752 118.434 383.587 118.468 383.422 118.468C383.149 118.468 382.93 118.389 382.765 118.233C382.604 118.072 382.523 117.859 382.523 117.593C382.523 117.307 382.623 117.08 382.823 116.912C383.022 116.74 383.291 116.654 383.629 116.654C383.852 116.654 384.094 116.687 384.355 116.754V116.366C384.355 116.155 384.307 116.006 384.211 115.92C384.119 115.834 383.96 115.791 383.733 115.791C383.407 115.791 383.068 115.852 382.719 115.973V115.562C382.857 115.488 383.026 115.431 383.226 115.392C383.426 115.349 383.627 115.327 383.831 115.327C384.196 115.327 384.465 115.406 384.638 115.562C384.81 115.715 384.897 115.95 384.897 116.267V118.391H384.424ZM383.56 118.027C383.821 118.027 384.086 117.928 384.355 117.728V117.129C384.156 117.078 383.952 117.053 383.745 117.053C383.31 117.053 383.093 117.223 383.093 117.564C383.093 117.712 383.134 117.828 383.214 117.91C383.295 117.988 383.41 118.027 383.56 118.027Z'    fill='#D5D7DA'  />  <path    d='M387.146 117.593C387.146 117.499 387.115 117.423 387.054 117.364C386.996 117.305 386.888 117.247 386.731 117.188L386.241 117C385.815 116.84 385.602 116.566 385.602 116.178C385.602 115.924 385.698 115.719 385.89 115.562C386.086 115.406 386.341 115.327 386.656 115.327C386.96 115.327 387.246 115.39 387.515 115.515V115.926C387.215 115.828 386.938 115.779 386.685 115.779C386.316 115.779 386.132 115.907 386.132 116.161C386.132 116.263 386.163 116.343 386.224 116.402C386.285 116.46 386.406 116.525 386.587 116.595L387.036 116.771C387.263 116.861 387.426 116.969 387.526 117.094C387.626 117.215 387.676 117.374 387.676 117.57C387.676 117.847 387.574 118.068 387.371 118.233C387.167 118.397 386.896 118.479 386.558 118.479C386.178 118.479 385.848 118.405 385.567 118.256V117.845C385.928 117.967 386.262 118.027 386.57 118.027C386.758 118.027 386.9 117.99 386.996 117.916C387.096 117.842 387.146 117.734 387.146 117.593Z'    fill='#D5D7DA'  />  <path    d='M391.803 118.391V116.402C391.803 116.194 391.761 116.042 391.677 115.944C391.596 115.846 391.467 115.797 391.291 115.797C390.987 115.797 390.689 115.897 390.397 116.096V118.391H389.827V115.415H390.305L390.363 115.744C390.728 115.466 391.112 115.327 391.515 115.327C391.796 115.327 392.009 115.404 392.155 115.556C392.301 115.705 392.374 115.922 392.374 116.208V118.391H391.803Z'    fill='#D5D7DA'  />  <path    d='M395.231 118.391L395.167 118.074C394.81 118.344 394.443 118.479 394.067 118.479C393.794 118.479 393.585 118.401 393.439 118.245C393.293 118.088 393.22 117.867 393.22 117.581V115.415H393.79V117.393C393.79 117.605 393.831 117.761 393.911 117.863C393.992 117.961 394.121 118.01 394.297 118.01C394.574 118.01 394.852 117.916 395.133 117.728V115.415H395.703V118.391H395.231Z'    fill='#D5D7DA'  />  <path    d='M400.319 118.391V116.372C400.319 116.177 400.283 116.032 400.21 115.938C400.137 115.844 400.022 115.797 399.864 115.797C399.584 115.797 399.302 115.885 399.017 116.061C399.021 116.088 399.023 116.118 399.023 116.149C399.023 116.18 399.023 116.212 399.023 116.243V118.391H398.453V116.372C398.453 116.177 398.416 116.032 398.343 115.938C398.27 115.844 398.155 115.797 397.998 115.797C397.706 115.797 397.425 115.883 397.156 116.055V118.391H396.586V115.415H397.064L397.122 115.715C397.491 115.457 397.85 115.327 398.199 115.327C398.556 115.327 398.798 115.466 398.925 115.744C399.305 115.466 399.686 115.327 400.066 115.327C400.331 115.327 400.535 115.404 400.677 115.556C400.819 115.709 400.89 115.926 400.89 116.208V118.391H400.319Z'    fill='#D5D7DA'  />  <path    d='M402.161 117.03C402.168 117.366 402.249 117.615 402.403 117.775C402.56 117.935 402.802 118.016 403.129 118.016C403.432 118.016 403.741 117.955 404.056 117.834V118.25C403.78 118.403 403.442 118.479 403.042 118.479C402.57 118.479 402.213 118.346 401.971 118.08C401.729 117.814 401.608 117.421 401.608 116.9C401.608 116.403 401.729 116.018 401.971 115.744C402.213 115.466 402.551 115.327 402.985 115.327C403.35 115.327 403.63 115.433 403.826 115.644C404.022 115.852 404.12 116.147 404.12 116.531C404.12 116.715 404.104 116.881 404.074 117.03H402.161ZM402.956 115.768C402.714 115.768 402.526 115.842 402.391 115.991C402.257 116.135 402.18 116.353 402.161 116.642H403.595C403.599 116.611 403.601 116.56 403.601 116.49C403.601 116.251 403.545 116.071 403.434 115.95C403.326 115.828 403.167 115.768 402.956 115.768Z'    fill='#D5D7DA'  />  <path    d='M404.836 118.391V115.415H405.314L405.377 115.856C405.485 115.738 405.585 115.648 405.677 115.586C405.769 115.519 405.863 115.47 405.959 115.439C406.055 115.408 406.159 115.392 406.27 115.392C406.343 115.392 406.422 115.398 406.507 115.41V115.938C406.384 115.922 406.28 115.914 406.196 115.914C405.888 115.914 405.625 116.008 405.406 116.196V118.391H404.836Z'    fill='#D5D7DA'  />  <path    d='M407.037 118.391V115.415H407.607V118.391H407.037ZM407.325 114.887C407.214 114.887 407.125 114.856 407.06 114.793C406.999 114.727 406.968 114.641 406.968 114.535C406.968 114.429 406.999 114.345 407.06 114.283C407.125 114.216 407.214 114.183 407.325 114.183C407.437 114.183 407.523 114.216 407.584 114.283C407.65 114.345 407.682 114.429 407.682 114.535C407.682 114.641 407.65 114.727 407.584 114.793C407.523 114.856 407.437 114.887 407.325 114.887Z'    fill='#D5D7DA'  />  <path    d='M410.534 118.28C410.311 118.397 410.054 118.456 409.762 118.456C409.308 118.456 408.961 118.325 408.719 118.063C408.481 117.797 408.362 117.413 408.362 116.912C408.362 116.415 408.484 116.032 408.73 115.762C408.98 115.488 409.331 115.351 409.785 115.351C410.042 115.351 410.284 115.406 410.511 115.515V115.932C410.292 115.862 410.077 115.826 409.865 115.826C409.543 115.826 409.31 115.91 409.168 116.079C409.026 116.243 408.955 116.507 408.955 116.871V116.947C408.955 117.303 409.026 117.566 409.168 117.734C409.314 117.898 409.543 117.98 409.854 117.98C410.061 117.98 410.288 117.941 410.534 117.863V118.28Z'    fill='#D5D7DA'  />  <path    d='M414.375 118.321C414.186 118.395 413.973 118.432 413.735 118.432C413.19 118.432 412.917 118.155 412.917 117.599V115.873H412.387V115.498L412.934 115.427L413.021 114.582H413.487V115.415H414.352V115.873H413.487V117.57C413.487 117.714 413.518 117.816 413.58 117.875C413.645 117.933 413.754 117.963 413.908 117.963C414.065 117.963 414.221 117.943 414.375 117.904V118.321Z'    fill='#D5D7DA'  />  <path    d='M415.841 118.421L414.665 115.415H415.276L416.117 117.851L416.93 115.415H417.517L416.186 118.914C416.087 119.184 415.966 119.377 415.823 119.495C415.685 119.612 415.509 119.671 415.293 119.671C415.132 119.671 414.982 119.643 414.844 119.589V119.172C414.948 119.199 415.057 119.213 415.172 119.213C415.315 119.213 415.426 119.176 415.507 119.102C415.591 119.031 415.666 118.904 415.731 118.72L415.841 118.421Z'    fill='#D5D7DA'  />  <path    d='M418.012 119.6V115.415H418.49L418.542 115.721C418.834 115.458 419.158 115.327 419.515 115.327C419.888 115.327 420.182 115.466 420.397 115.744C420.612 116.018 420.72 116.392 420.72 116.865C420.72 117.347 420.606 117.732 420.38 118.022C420.153 118.311 419.852 118.456 419.475 118.456C419.129 118.456 418.832 118.34 418.582 118.11V119.6H418.012ZM419.354 115.797C419.081 115.797 418.824 115.887 418.582 116.067V117.705C418.832 117.892 419.085 117.986 419.343 117.986C419.873 117.986 420.138 117.622 420.138 116.895C420.138 116.523 420.072 116.247 419.942 116.067C419.815 115.887 419.619 115.797 419.354 115.797Z'    fill='#D5D7DA'  />  <path    d='M421.854 117.03C421.861 117.366 421.942 117.615 422.095 117.775C422.253 117.935 422.495 118.016 422.821 118.016C423.125 118.016 423.434 117.955 423.749 117.834V118.25C423.473 118.403 423.134 118.479 422.735 118.479C422.263 118.479 421.905 118.346 421.663 118.08C421.421 117.814 421.3 117.421 421.3 116.9C421.3 116.403 421.421 116.018 421.663 115.744C421.905 115.466 422.243 115.327 422.677 115.327C423.042 115.327 423.323 115.433 423.519 115.644C423.715 115.852 423.812 116.147 423.812 116.531C423.812 116.715 423.797 116.881 423.766 117.03H421.854ZM422.649 115.768C422.407 115.768 422.218 115.842 422.084 115.991C421.95 116.135 421.873 116.353 421.854 116.642H423.288C423.292 116.611 423.294 116.56 423.294 116.49C423.294 116.251 423.238 116.071 423.127 115.95C423.019 115.828 422.86 115.768 422.649 115.768Z'    fill='#D5D7DA'  />  <path    d='M337.685 108.609C337.685 107.528 338.545 106.652 339.606 106.652H475.004C476.064 106.652 476.924 107.528 476.924 108.609V158.011C476.924 159.091 476.048 159.967 474.988 159.967C422.459 159.967 392.15 159.967 339.622 159.967C338.561 159.967 337.685 159.091 337.685 158.011V108.609Z'    fill='#1A1B22'  />  <path    d='M346.422 118.775V120.348H345.852V116.28H347.298C347.686 116.28 347.995 116.394 348.225 116.621C348.456 116.844 348.571 117.147 348.571 117.53C348.571 117.91 348.456 118.213 348.225 118.44C347.995 118.663 347.686 118.775 347.298 118.775H346.422ZM346.422 118.299H347.246C347.488 118.299 347.67 118.235 347.793 118.106C347.916 117.973 347.978 117.781 347.978 117.53C347.978 117.014 347.734 116.756 347.246 116.756H346.422V118.299Z'    fill='#D5D7DA'  />  <path    d='M350.938 120.348L350.892 120.043C350.754 120.164 350.6 120.258 350.431 120.324C350.266 120.391 350.101 120.424 349.936 120.424C349.663 120.424 349.444 120.346 349.279 120.189C349.118 120.029 349.037 119.816 349.037 119.55C349.037 119.264 349.137 119.037 349.336 118.869C349.536 118.697 349.805 118.61 350.143 118.61C350.366 118.61 350.608 118.644 350.869 118.71V118.323C350.869 118.112 350.821 117.963 350.725 117.877C350.633 117.791 350.473 117.748 350.247 117.748C349.92 117.748 349.582 117.808 349.233 117.93V117.519C349.371 117.444 349.54 117.388 349.74 117.348C349.94 117.305 350.141 117.284 350.345 117.284C350.71 117.284 350.979 117.362 351.151 117.519C351.324 117.671 351.411 117.906 351.411 118.223V120.348H350.938ZM350.074 119.984C350.335 119.984 350.6 119.884 350.869 119.685V119.086C350.669 119.035 350.466 119.01 350.258 119.01C349.824 119.01 349.607 119.18 349.607 119.52C349.607 119.669 349.648 119.784 349.728 119.867C349.809 119.945 349.924 119.984 350.074 119.984Z'    fill='#D5D7DA'  />  <path    d='M352.288 120.348V117.372H352.767L352.83 117.812C352.938 117.695 353.037 117.605 353.13 117.542C353.222 117.476 353.316 117.427 353.412 117.395C353.508 117.364 353.612 117.348 353.723 117.348C353.796 117.348 353.875 117.354 353.959 117.366V117.894C353.836 117.879 353.733 117.871 353.648 117.871C353.341 117.871 353.078 117.965 352.859 118.153V120.348H352.288Z'    fill='#D5D7DA'  />  <path    d='M355.838 119.55C355.838 119.456 355.807 119.379 355.746 119.321C355.688 119.262 355.58 119.203 355.423 119.145L354.933 118.957C354.507 118.796 354.294 118.522 354.294 118.135C354.294 117.881 354.39 117.675 354.582 117.519C354.778 117.362 355.033 117.284 355.348 117.284C355.652 117.284 355.938 117.347 356.207 117.472V117.883C355.907 117.785 355.63 117.736 355.377 117.736C355.008 117.736 354.824 117.863 354.824 118.117C354.824 118.219 354.855 118.299 354.916 118.358C354.977 118.417 355.098 118.481 355.279 118.552L355.728 118.728C355.955 118.818 356.118 118.925 356.218 119.051C356.318 119.172 356.368 119.33 356.368 119.526C356.368 119.804 356.266 120.025 356.063 120.189C355.859 120.354 355.588 120.436 355.25 120.436C354.87 120.436 354.54 120.362 354.259 120.213V119.802C354.62 119.923 354.954 119.984 355.262 119.984C355.45 119.984 355.592 119.947 355.688 119.872C355.788 119.798 355.838 119.69 355.838 119.55Z'    fill='#D5D7DA'  />  <path    d='M357.386 118.986C357.393 119.323 357.474 119.571 357.628 119.732C357.785 119.892 358.027 119.972 358.354 119.972C358.657 119.972 358.966 119.912 359.281 119.79V120.207C359.005 120.36 358.667 120.436 358.267 120.436C357.795 120.436 357.437 120.303 357.195 120.037C356.954 119.771 356.833 119.377 356.833 118.857C356.833 118.36 356.954 117.975 357.195 117.701C357.437 117.423 357.775 117.284 358.21 117.284C358.574 117.284 358.855 117.39 359.051 117.601C359.247 117.808 359.345 118.104 359.345 118.487C359.345 118.671 359.329 118.837 359.298 118.986H357.386ZM358.181 117.724C357.939 117.724 357.751 117.798 357.616 117.947C357.482 118.092 357.405 118.309 357.386 118.599H358.82C358.824 118.567 358.826 118.517 358.826 118.446C358.826 118.207 358.77 118.027 358.659 117.906C358.551 117.785 358.392 117.724 358.181 117.724Z'    fill='#D5D7DA'  />  <path    d='M363.62 120.236C363.397 120.354 363.14 120.412 362.848 120.412C362.394 120.412 362.047 120.281 361.805 120.019C361.567 119.753 361.448 119.37 361.448 118.869C361.448 118.372 361.571 117.988 361.816 117.718C362.066 117.444 362.418 117.307 362.871 117.307C363.128 117.307 363.37 117.362 363.597 117.472V117.888C363.378 117.818 363.163 117.783 362.951 117.783C362.629 117.783 362.396 117.867 362.254 118.035C362.112 118.2 362.041 118.464 362.041 118.828V118.904C362.041 119.26 362.112 119.522 362.254 119.69C362.4 119.855 362.629 119.937 362.94 119.937C363.147 119.937 363.374 119.898 363.62 119.82V120.236Z'    fill='#D5D7DA'  />  <path    d='M365.442 120.436C365.004 120.436 364.662 120.297 364.417 120.019C364.171 119.741 364.048 119.354 364.048 118.857C364.048 118.364 364.171 117.978 364.417 117.701C364.662 117.423 365.004 117.284 365.442 117.284C365.88 117.284 366.222 117.423 366.468 117.701C366.714 117.978 366.836 118.364 366.836 118.857C366.836 119.354 366.714 119.741 366.468 120.019C366.222 120.297 365.88 120.436 365.442 120.436ZM365.442 119.966C365.984 119.966 366.254 119.597 366.254 118.857C366.254 118.121 365.984 117.753 365.442 117.753C364.901 117.753 364.63 118.121 364.63 118.857C364.63 119.597 364.901 119.966 365.442 119.966Z'    fill='#D5D7DA'  />  <path    d='M368.611 120.307C368.485 120.354 368.346 120.377 368.197 120.377C367.993 120.377 367.837 120.318 367.73 120.201C367.622 120.08 367.569 119.908 367.569 119.685V116.004H368.139V119.649C368.139 119.739 368.156 119.806 368.191 119.849C368.229 119.888 368.291 119.908 368.375 119.908C368.452 119.908 368.531 119.902 368.611 119.89V120.307Z'    fill='#D5D7DA'  />  <path    d='M371.228 120.348L371.165 120.031C370.808 120.301 370.441 120.436 370.064 120.436C369.792 120.436 369.582 120.358 369.436 120.201C369.29 120.045 369.217 119.823 369.217 119.538V117.372H369.788V119.35C369.788 119.561 369.828 119.718 369.909 119.82C369.989 119.917 370.118 119.966 370.295 119.966C370.571 119.966 370.85 119.872 371.13 119.685V117.372H371.701V120.348H371.228Z'    fill='#D5D7DA'  />  <path    d='M376.317 120.348V118.329C376.317 118.133 376.28 117.988 376.207 117.894C376.134 117.8 376.019 117.753 375.862 117.753C375.581 117.753 375.299 117.842 375.015 118.018C375.018 118.045 375.02 118.074 375.02 118.106C375.02 118.137 375.02 118.168 375.02 118.2V120.348H374.45V118.329C374.45 118.133 374.413 117.988 374.341 117.894C374.268 117.8 374.152 117.753 373.995 117.753C373.703 117.753 373.422 117.84 373.154 118.012V120.348H372.583V117.372H373.061L373.119 117.671C373.488 117.413 373.847 117.284 374.196 117.284C374.554 117.284 374.796 117.423 374.922 117.701C375.303 117.423 375.683 117.284 376.063 117.284C376.328 117.284 376.532 117.36 376.674 117.513C376.816 117.665 376.887 117.883 376.887 118.164V120.348H376.317Z'    fill='#D5D7DA'  />  <path    d='M379.731 120.348V118.358C379.731 118.151 379.689 117.998 379.604 117.9C379.524 117.802 379.395 117.753 379.218 117.753C378.915 117.753 378.617 117.853 378.325 118.053V120.348H377.755V117.372H378.233L378.291 117.701C378.655 117.423 379.04 117.284 379.443 117.284C379.723 117.284 379.936 117.36 380.082 117.513C380.228 117.662 380.301 117.879 380.301 118.164V120.348H379.731Z'    fill='#D5D7DA'  />  <path    d='M384.424 120.348L384.378 120.043C384.24 120.164 384.086 120.258 383.917 120.324C383.752 120.391 383.587 120.424 383.422 120.424C383.149 120.424 382.93 120.346 382.765 120.189C382.604 120.029 382.523 119.816 382.523 119.55C382.523 119.264 382.623 119.037 382.823 118.869C383.022 118.697 383.291 118.61 383.629 118.61C383.852 118.61 384.094 118.644 384.355 118.71V118.323C384.355 118.112 384.307 117.963 384.211 117.877C384.119 117.791 383.96 117.748 383.733 117.748C383.407 117.748 383.068 117.808 382.719 117.93V117.519C382.857 117.444 383.026 117.388 383.226 117.348C383.426 117.305 383.627 117.284 383.831 117.284C384.196 117.284 384.465 117.362 384.638 117.519C384.81 117.671 384.897 117.906 384.897 118.223V120.348H384.424ZM383.56 119.984C383.821 119.984 384.086 119.884 384.355 119.685V119.086C384.156 119.035 383.952 119.01 383.745 119.01C383.31 119.01 383.093 119.18 383.093 119.52C383.093 119.669 383.134 119.784 383.214 119.867C383.295 119.945 383.41 119.984 383.56 119.984Z'    fill='#D5D7DA'  />  <path    d='M387.146 119.55C387.146 119.456 387.115 119.379 387.054 119.321C386.996 119.262 386.888 119.203 386.731 119.145L386.241 118.957C385.815 118.796 385.602 118.522 385.602 118.135C385.602 117.881 385.698 117.675 385.89 117.519C386.086 117.362 386.341 117.284 386.656 117.284C386.96 117.284 387.246 117.347 387.515 117.472V117.883C387.215 117.785 386.938 117.736 386.685 117.736C386.316 117.736 386.132 117.863 386.132 118.117C386.132 118.219 386.163 118.299 386.224 118.358C386.285 118.417 386.406 118.481 386.587 118.552L387.036 118.728C387.263 118.818 387.426 118.925 387.526 119.051C387.626 119.172 387.676 119.33 387.676 119.526C387.676 119.804 387.574 120.025 387.371 120.189C387.167 120.354 386.896 120.436 386.558 120.436C386.178 120.436 385.848 120.362 385.567 120.213V119.802C385.928 119.923 386.262 119.984 386.57 119.984C386.758 119.984 386.9 119.947 386.996 119.872C387.096 119.798 387.146 119.69 387.146 119.55Z'    fill='#D5D7DA'  />  <path    d='M391.803 120.348V118.358C391.803 118.151 391.761 117.998 391.677 117.9C391.596 117.802 391.467 117.753 391.291 117.753C390.987 117.753 390.689 117.853 390.397 118.053V120.348H389.827V117.372H390.305L390.363 117.701C390.728 117.423 391.112 117.284 391.515 117.284C391.796 117.284 392.009 117.36 392.155 117.513C392.301 117.662 392.374 117.879 392.374 118.164V120.348H391.803Z'    fill='#D5D7DA'  />  <path    d='M395.231 120.348L395.167 120.031C394.81 120.301 394.443 120.436 394.067 120.436C393.794 120.436 393.585 120.358 393.439 120.201C393.293 120.045 393.22 119.823 393.22 119.538V117.372H393.79V119.35C393.79 119.561 393.831 119.718 393.911 119.82C393.992 119.917 394.121 119.966 394.297 119.966C394.574 119.966 394.852 119.872 395.133 119.685V117.372H395.703V120.348H395.231Z'    fill='#D5D7DA'  />  <path    d='M400.319 120.348V118.329C400.319 118.133 400.283 117.988 400.21 117.894C400.137 117.8 400.022 117.753 399.864 117.753C399.584 117.753 399.302 117.842 399.017 118.018C399.021 118.045 399.023 118.074 399.023 118.106C399.023 118.137 399.023 118.168 399.023 118.2V120.348H398.453V118.329C398.453 118.133 398.416 117.988 398.343 117.894C398.27 117.8 398.155 117.753 397.998 117.753C397.706 117.753 397.425 117.84 397.156 118.012V120.348H396.586V117.372H397.064L397.122 117.671C397.491 117.413 397.85 117.284 398.199 117.284C398.556 117.284 398.798 117.423 398.925 117.701C399.305 117.423 399.686 117.284 400.066 117.284C400.331 117.284 400.535 117.36 400.677 117.513C400.819 117.665 400.89 117.883 400.89 118.164V120.348H400.319Z'    fill='#D5D7DA'  />  <path    d='M402.161 118.986C402.168 119.323 402.249 119.571 402.403 119.732C402.56 119.892 402.802 119.972 403.129 119.972C403.432 119.972 403.741 119.912 404.056 119.79V120.207C403.78 120.36 403.442 120.436 403.042 120.436C402.57 120.436 402.213 120.303 401.971 120.037C401.729 119.771 401.608 119.377 401.608 118.857C401.608 118.36 401.729 117.975 401.971 117.701C402.213 117.423 402.551 117.284 402.985 117.284C403.35 117.284 403.63 117.39 403.826 117.601C404.022 117.808 404.12 118.104 404.12 118.487C404.12 118.671 404.104 118.837 404.074 118.986H402.161ZM402.956 117.724C402.714 117.724 402.526 117.798 402.391 117.947C402.257 118.092 402.18 118.309 402.161 118.599H403.595C403.599 118.567 403.601 118.517 403.601 118.446C403.601 118.207 403.545 118.027 403.434 117.906C403.326 117.785 403.167 117.724 402.956 117.724Z'    fill='#D5D7DA'  />  <path    d='M404.836 120.348V117.372H405.314L405.377 117.812C405.485 117.695 405.585 117.605 405.677 117.542C405.769 117.476 405.863 117.427 405.959 117.395C406.055 117.364 406.159 117.348 406.27 117.348C406.343 117.348 406.422 117.354 406.507 117.366V117.894C406.384 117.879 406.28 117.871 406.196 117.871C405.888 117.871 405.625 117.965 405.406 118.153V120.348H404.836Z'    fill='#D5D7DA'  />  <path    d='M407.037 120.348V117.372H407.607V120.348H407.037ZM407.325 116.844C407.214 116.844 407.125 116.812 407.06 116.75C406.999 116.683 406.968 116.597 406.968 116.492C406.968 116.386 406.999 116.302 407.06 116.239C407.125 116.173 407.214 116.139 407.325 116.139C407.437 116.139 407.523 116.173 407.584 116.239C407.65 116.302 407.682 116.386 407.682 116.492C407.682 116.597 407.65 116.683 407.584 116.75C407.523 116.812 407.437 116.844 407.325 116.844Z'    fill='#D5D7DA'  />  <path    d='M410.534 120.236C410.311 120.354 410.054 120.412 409.762 120.412C409.308 120.412 408.961 120.281 408.719 120.019C408.481 119.753 408.362 119.37 408.362 118.869C408.362 118.372 408.484 117.988 408.73 117.718C408.98 117.444 409.331 117.307 409.785 117.307C410.042 117.307 410.284 117.362 410.511 117.472V117.888C410.292 117.818 410.077 117.783 409.865 117.783C409.543 117.783 409.31 117.867 409.168 118.035C409.026 118.2 408.955 118.464 408.955 118.828V118.904C408.955 119.26 409.026 119.522 409.168 119.69C409.314 119.855 409.543 119.937 409.854 119.937C410.061 119.937 410.288 119.898 410.534 119.82V120.236Z'    fill='#D5D7DA'  />  <path    d='M414.375 120.277C414.186 120.352 413.973 120.389 413.735 120.389C413.19 120.389 412.917 120.111 412.917 119.555V117.83H412.387V117.454L412.934 117.384L413.021 116.538H413.487V117.372H414.352V117.83H413.487V119.526C413.487 119.671 413.518 119.773 413.58 119.831C413.645 119.89 413.754 119.919 413.908 119.919C414.065 119.919 414.221 119.9 414.375 119.861V120.277Z'    fill='#D5D7DA'  />  <path    d='M415.841 120.377L414.665 117.372H415.276L416.117 119.808L416.93 117.372H417.517L416.186 120.87C416.087 121.14 415.966 121.334 415.823 121.451C415.685 121.569 415.509 121.627 415.293 121.627C415.132 121.627 414.982 121.6 414.844 121.545V121.128C414.948 121.156 415.057 121.17 415.172 121.17C415.315 121.17 415.426 121.132 415.507 121.058C415.591 120.988 415.666 120.86 415.731 120.677L415.841 120.377Z'    fill='#D5D7DA'  />  <path    d='M418.012 121.557V117.372H418.49L418.542 117.677C418.834 117.415 419.158 117.284 419.515 117.284C419.888 117.284 420.182 117.423 420.397 117.701C420.612 117.975 420.72 118.348 420.72 118.822C420.72 119.303 420.606 119.688 420.38 119.978C420.153 120.268 419.852 120.412 419.475 120.412C419.129 120.412 418.832 120.297 418.582 120.066V121.557H418.012ZM419.354 117.753C419.081 117.753 418.824 117.843 418.582 118.023V119.661C418.832 119.849 419.085 119.943 419.343 119.943C419.873 119.943 420.138 119.579 420.138 118.851C420.138 118.479 420.072 118.203 419.942 118.023C419.815 117.843 419.619 117.753 419.354 117.753Z'    fill='#D5D7DA'  />  <path    d='M421.854 118.986C421.861 119.323 421.942 119.571 422.095 119.732C422.253 119.892 422.495 119.972 422.821 119.972C423.125 119.972 423.434 119.912 423.749 119.79V120.207C423.473 120.36 423.134 120.436 422.735 120.436C422.263 120.436 421.905 120.303 421.663 120.037C421.421 119.771 421.3 119.377 421.3 118.857C421.3 118.36 421.421 117.975 421.663 117.701C421.905 117.423 422.243 117.284 422.677 117.284C423.042 117.284 423.323 117.39 423.519 117.601C423.715 117.808 423.812 118.104 423.812 118.487C423.812 118.671 423.797 118.837 423.766 118.986H421.854ZM422.649 117.724C422.407 117.724 422.218 117.798 422.084 117.947C421.95 118.092 421.873 118.309 421.854 118.599H423.288C423.292 118.567 423.294 118.517 423.294 118.446C423.294 118.207 423.238 118.027 423.127 117.906C423.019 117.785 422.86 117.724 422.649 117.724Z'    fill='#D5D7DA'  />  <path    d='M426.307 119.203C426.2 119.203 426.115 119.174 426.054 119.115C425.996 119.057 425.967 118.976 425.967 118.875C425.967 118.753 426.008 118.65 426.088 118.563C426.173 118.473 426.275 118.428 426.394 118.428C426.501 118.428 426.584 118.458 426.641 118.517C426.703 118.575 426.734 118.655 426.734 118.757C426.734 118.878 426.691 118.984 426.607 119.074C426.526 119.16 426.426 119.203 426.307 119.203Z'    fill='#D5D7DA'  />  <path    d='M431.163 120.348L430.507 118.704H429.735L429.423 120.348H428.865L429.642 116.28H430.8C431.188 116.28 431.49 116.374 431.705 116.562C431.92 116.75 432.028 117.012 432.028 117.348C432.028 117.658 431.939 117.922 431.763 118.141C431.59 118.36 431.344 118.517 431.025 118.61L431.745 120.348H431.163ZM429.827 118.241H430.409C430.739 118.241 430.996 118.164 431.181 118.012C431.369 117.859 431.463 117.648 431.463 117.378C431.463 117.167 431.4 117.008 431.273 116.902C431.146 116.797 430.95 116.744 430.685 116.744H430.109L429.827 118.241Z'    fill='#D5D7DA'  />  <path    d='M434.469 120.06C434.104 120.318 433.693 120.448 433.236 120.448C432.929 120.448 432.69 120.354 432.521 120.166C432.352 119.978 432.268 119.712 432.268 119.368C432.268 119.102 432.308 118.845 432.389 118.599C432.473 118.348 432.592 118.125 432.746 117.93C432.9 117.73 433.086 117.572 433.305 117.454C433.524 117.333 433.758 117.272 434.008 117.272C434.242 117.272 434.427 117.333 434.561 117.454C434.699 117.575 434.768 117.74 434.768 117.947C434.768 118.252 434.628 118.517 434.348 118.74C434.067 118.963 433.674 119.123 433.167 119.221L432.81 119.291C432.81 119.546 432.854 119.73 432.942 119.843C433.03 119.953 433.176 120.007 433.38 120.007C433.653 120.007 433.966 119.91 434.319 119.714L434.469 120.06ZM433.91 117.707C433.745 117.707 433.587 117.755 433.438 117.853C433.292 117.951 433.165 118.092 433.057 118.276C432.95 118.46 432.877 118.671 432.838 118.91L433.19 118.828C433.524 118.749 433.783 118.638 433.968 118.493C434.156 118.348 434.25 118.184 434.25 118C434.25 117.91 434.219 117.84 434.158 117.789C434.1 117.734 434.018 117.707 433.91 117.707Z'    fill='#D5D7DA'  />  <path    d='M436.113 120.436C435.795 120.436 435.541 120.34 435.353 120.148C435.168 119.953 435.076 119.687 435.076 119.35C435.076 118.998 435.151 118.665 435.301 118.352C435.451 118.039 435.658 117.783 435.923 117.583C436.192 117.384 436.486 117.284 436.805 117.284C436.924 117.284 437.045 117.298 437.168 117.325C437.291 117.352 437.396 117.39 437.485 117.437L437.404 117.859C437.216 117.789 437.033 117.753 436.857 117.753C436.63 117.753 436.426 117.818 436.246 117.947C436.065 118.072 435.921 118.252 435.814 118.487C435.706 118.718 435.652 118.984 435.652 119.285C435.652 119.528 435.697 119.702 435.785 119.808C435.877 119.913 436.025 119.966 436.229 119.966C436.459 119.966 436.736 119.874 437.058 119.69L437.208 120.048C437.051 120.174 436.878 120.27 436.69 120.336C436.501 120.403 436.309 120.436 436.113 120.436Z'    fill='#D5D7DA'  />  <path    d='M438.788 120.436C438.446 120.436 438.176 120.33 437.976 120.119C437.78 119.908 437.682 119.62 437.682 119.256C437.682 118.9 437.749 118.573 437.884 118.276C438.022 117.975 438.214 117.734 438.46 117.554C438.71 117.374 438.99 117.284 439.301 117.284C439.643 117.284 439.912 117.39 440.108 117.601C440.307 117.812 440.407 118.1 440.407 118.464C440.407 118.82 440.338 119.148 440.2 119.45C440.065 119.747 439.873 119.986 439.624 120.166C439.378 120.346 439.099 120.436 438.788 120.436ZM438.834 119.978C439.023 119.978 439.192 119.917 439.341 119.796C439.495 119.671 439.616 119.495 439.704 119.268C439.797 119.041 439.843 118.783 439.843 118.493C439.843 118.254 439.791 118.07 439.687 117.941C439.587 117.808 439.443 117.742 439.255 117.742C439.067 117.742 438.896 117.804 438.742 117.93C438.592 118.051 438.471 118.225 438.379 118.452C438.291 118.679 438.247 118.937 438.247 119.227C438.247 119.465 438.297 119.651 438.396 119.784C438.5 119.913 438.646 119.978 438.834 119.978Z'    fill='#D5D7DA'  />  <path    d='M444.493 120.348L444.786 118.81C444.848 118.501 444.879 118.278 444.879 118.141C444.879 117.875 444.756 117.742 444.51 117.742C444.375 117.742 444.224 117.795 444.055 117.9C443.89 118.002 443.726 118.145 443.565 118.329L443.484 118.798L443.19 120.348H442.637L442.931 118.81C442.993 118.501 443.023 118.278 443.023 118.141C443.023 117.875 442.9 117.742 442.655 117.742C442.52 117.742 442.37 117.798 442.205 117.912C442.04 118.025 441.877 118.182 441.716 118.382L441.335 120.348H440.782L441.353 117.372H441.808L441.779 117.918C441.944 117.714 442.119 117.558 442.303 117.448C442.491 117.339 442.678 117.284 442.862 117.284C443.073 117.284 443.24 117.341 443.363 117.454C443.486 117.564 443.557 117.724 443.577 117.935C443.746 117.724 443.926 117.564 444.118 117.454C444.314 117.341 444.514 117.284 444.717 117.284C444.948 117.284 445.124 117.35 445.247 117.483C445.374 117.617 445.438 117.808 445.438 118.059C445.438 118.145 445.43 118.237 445.414 118.335C445.403 118.428 445.378 118.583 445.34 118.798L445.046 120.348H444.493Z'    fill='#D5D7DA'  />  <path    d='M449.625 120.348L449.919 118.81C449.98 118.501 450.011 118.278 450.011 118.141C450.011 117.875 449.888 117.742 449.642 117.742C449.508 117.742 449.356 117.795 449.187 117.9C449.022 118.002 448.858 118.145 448.697 118.329L448.616 118.798L448.323 120.348H447.769L448.063 118.81C448.125 118.501 448.156 118.278 448.156 118.141C448.156 117.875 448.033 117.742 447.787 117.742C447.652 117.742 447.503 117.798 447.337 117.912C447.172 118.025 447.009 118.182 446.848 118.382L446.467 120.348H445.914L446.485 117.372H446.94L446.911 117.918C447.076 117.714 447.251 117.558 447.435 117.448C447.624 117.339 447.81 117.284 447.994 117.284C448.205 117.284 448.373 117.341 448.495 117.454C448.618 117.564 448.689 117.724 448.709 117.935C448.878 117.724 449.058 117.564 449.25 117.454C449.446 117.341 449.646 117.284 449.849 117.284C450.08 117.284 450.257 117.35 450.379 117.483C450.506 117.617 450.57 117.808 450.57 118.059C450.57 118.145 450.562 118.237 450.547 118.335C450.535 118.428 450.51 118.583 450.472 118.798L450.178 120.348H449.625Z'    fill='#D5D7DA'  />  <path    d='M453.282 120.06C452.917 120.318 452.506 120.448 452.049 120.448C451.742 120.448 451.503 120.354 451.334 120.166C451.165 119.978 451.081 119.712 451.081 119.368C451.081 119.102 451.121 118.845 451.202 118.599C451.286 118.348 451.405 118.125 451.559 117.93C451.713 117.73 451.899 117.572 452.118 117.454C452.337 117.333 452.571 117.272 452.821 117.272C453.055 117.272 453.24 117.333 453.374 117.454C453.512 117.575 453.581 117.74 453.581 117.947C453.581 118.252 453.441 118.517 453.161 118.74C452.88 118.963 452.487 119.123 451.98 119.221L451.623 119.291C451.623 119.546 451.667 119.73 451.755 119.843C451.843 119.953 451.989 120.007 452.193 120.007C452.466 120.007 452.779 119.91 453.132 119.714L453.282 120.06ZM452.723 117.707C452.558 117.707 452.4 117.755 452.251 117.853C452.105 117.951 451.978 118.092 451.87 118.276C451.763 118.46 451.69 118.671 451.651 118.91L452.003 118.828C452.337 118.749 452.596 118.638 452.781 118.493C452.969 118.348 453.063 118.184 453.063 118C453.063 117.91 453.032 117.84 452.971 117.789C452.913 117.734 452.831 117.707 452.723 117.707Z'    fill='#D5D7DA'  />  <path    d='M455.796 120.348L456.09 118.81C456.152 118.501 456.182 118.278 456.182 118.141C456.182 117.875 456.05 117.742 455.785 117.742C455.643 117.742 455.483 117.8 455.307 117.918C455.13 118.031 454.957 118.19 454.788 118.393L454.408 120.348H453.855L454.425 117.372H454.88L454.851 117.93C455.024 117.722 455.209 117.564 455.405 117.454C455.604 117.341 455.8 117.284 455.992 117.284C456.23 117.284 456.415 117.35 456.545 117.483C456.676 117.617 456.741 117.808 456.741 118.059C456.741 118.145 456.734 118.237 456.718 118.335C456.707 118.428 456.682 118.583 456.643 118.798L456.349 120.348H455.796Z'    fill='#D5D7DA'  />  <path    d='M459.052 120.348L459.087 119.802C458.933 120.005 458.762 120.162 458.574 120.272C458.39 120.381 458.201 120.436 458.009 120.436C457.767 120.436 457.581 120.35 457.451 120.178C457.32 120.002 457.255 119.751 457.255 119.426C457.255 119.074 457.33 118.736 457.479 118.411C457.629 118.086 457.837 117.818 458.102 117.607C458.367 117.392 458.653 117.284 458.96 117.284C459.156 117.284 459.344 117.325 459.525 117.407L459.79 116.004H460.343L459.507 120.348H459.052ZM458.217 119.972C458.359 119.972 458.511 119.917 458.672 119.808C458.833 119.694 458.993 119.534 459.15 119.327L459.444 117.8C459.294 117.757 459.154 117.736 459.023 117.736C458.816 117.736 458.62 117.806 458.436 117.947C458.255 118.088 458.107 118.284 457.992 118.534C457.877 118.785 457.819 119.06 457.819 119.362C457.819 119.569 457.852 119.724 457.917 119.825C457.983 119.923 458.082 119.972 458.217 119.972Z'    fill='#D5D7DA'  />  <path    d='M462.641 120.06C462.276 120.318 461.865 120.448 461.408 120.448C461.101 120.448 460.862 120.354 460.693 120.166C460.524 119.978 460.44 119.712 460.44 119.368C460.44 119.102 460.48 118.845 460.561 118.599C460.645 118.348 460.765 118.125 460.918 117.93C461.072 117.73 461.258 117.572 461.477 117.454C461.696 117.333 461.93 117.272 462.18 117.272C462.414 117.272 462.599 117.333 462.733 117.454C462.871 117.575 462.94 117.74 462.94 117.947C462.94 118.252 462.8 118.517 462.52 118.74C462.239 118.963 461.846 119.123 461.339 119.221L460.982 119.291C460.982 119.546 461.026 119.73 461.114 119.843C461.202 119.953 461.348 120.007 461.552 120.007C461.825 120.007 462.138 119.91 462.491 119.714L462.641 120.06ZM462.082 117.707C461.917 117.707 461.759 117.755 461.61 117.853C461.464 117.951 461.337 118.092 461.229 118.276C461.122 118.46 461.049 118.671 461.01 118.91L461.362 118.828C461.696 118.749 461.955 118.638 462.14 118.493C462.328 118.348 462.422 118.184 462.422 118C462.422 117.91 462.391 117.84 462.33 117.789C462.272 117.734 462.19 117.707 462.082 117.707Z'    fill='#D5D7DA'  />  <path    d='M465.046 120.348L465.08 119.802C464.927 120.005 464.756 120.162 464.568 120.272C464.383 120.381 464.195 120.436 464.003 120.436C463.761 120.436 463.575 120.35 463.444 120.178C463.314 120.002 463.248 119.751 463.248 119.426C463.248 119.074 463.323 118.736 463.473 118.411C463.623 118.086 463.83 117.818 464.095 117.607C464.36 117.392 464.646 117.284 464.954 117.284C465.15 117.284 465.338 117.325 465.518 117.407L465.783 116.004H466.336L465.501 120.348H465.046ZM464.21 119.972C464.353 119.972 464.504 119.917 464.666 119.808C464.827 119.694 464.986 119.534 465.144 119.327L465.438 117.8C465.288 117.757 465.148 117.736 465.017 117.736C464.81 117.736 464.614 117.806 464.429 117.947C464.249 118.088 464.101 118.284 463.986 118.534C463.871 118.785 463.813 119.06 463.813 119.362C463.813 119.569 463.846 119.724 463.911 119.825C463.976 119.923 464.076 119.972 464.21 119.972Z'    fill='#D5D7DA'  />  <path    d='M345.368 135.511H469.242V136H345.368V135.511Z'    fill='black'    fill-opacity='0.2'  />  <path    d='M414.391 150.185L414.022 149.105H412.38L412.022 150.185H411.418L412.892 146.117H413.526L415.001 150.185H414.391ZM412.53 148.653H413.872L413.198 146.657L412.53 148.653Z'    fill='#9ED7FB'  />  <path    d='M415.656 151.394V147.209H416.134L416.186 147.514C416.478 147.252 416.802 147.121 417.16 147.121C417.532 147.121 417.826 147.26 418.041 147.538C418.256 147.812 418.364 148.185 418.364 148.659C418.364 149.14 418.25 149.525 418.024 149.815C417.797 150.105 417.496 150.249 417.119 150.249C416.774 150.249 416.476 150.134 416.226 149.903V151.394H415.656ZM416.998 147.59C416.725 147.59 416.468 147.68 416.226 147.86V149.498C416.476 149.686 416.729 149.78 416.987 149.78C417.517 149.78 417.782 149.416 417.782 148.688C417.782 148.316 417.716 148.04 417.586 147.86C417.459 147.68 417.263 147.59 416.998 147.59Z'    fill='#9ED7FB'  />  <path    d='M419.238 151.394V147.209H419.717L419.768 147.514C420.06 147.252 420.385 147.121 420.742 147.121C421.115 147.121 421.409 147.26 421.624 147.538C421.839 147.812 421.946 148.185 421.946 148.659C421.946 149.14 421.833 149.525 421.606 149.815C421.38 150.105 421.078 150.249 420.702 150.249C420.356 150.249 420.058 150.134 419.809 149.903V151.394H419.238ZM420.581 147.59C420.308 147.59 420.051 147.68 419.809 147.86V149.498C420.058 149.686 420.312 149.78 420.569 149.78C421.099 149.78 421.364 149.416 421.364 148.688C421.364 148.316 421.299 148.04 421.168 147.86C421.042 147.68 420.846 147.59 420.581 147.59Z'    fill='#9ED7FB'  />  <path    d='M423.864 150.144C423.737 150.191 423.599 150.214 423.449 150.214C423.245 150.214 423.09 150.155 422.982 150.038C422.875 149.917 422.821 149.745 422.821 149.522V145.841H423.391V149.486C423.391 149.576 423.409 149.643 423.443 149.686C423.482 149.725 423.543 149.745 423.627 149.745C423.704 149.745 423.783 149.739 423.864 149.727V150.144Z'    fill='#9ED7FB'  />  <path    d='M425.426 150.214L424.251 147.209H424.861L425.703 149.645L426.515 147.209H427.103L425.772 150.707C425.672 150.977 425.551 151.171 425.409 151.288C425.27 151.406 425.094 151.464 424.879 151.464C424.717 151.464 424.568 151.437 424.429 151.382V150.965C424.533 150.993 424.642 151.007 424.758 151.007C424.9 151.007 425.011 150.969 425.092 150.895C425.176 150.825 425.251 150.697 425.317 150.513L425.426 150.214Z'    fill='#9ED7FB'  />  <path    d='M430.436 149.498V148.377H429.381V147.907H430.436V146.786H430.931V147.907H431.986V148.377H430.931V149.498H430.436Z'    fill='#9ED7FB'  />  <path    d='M434.709 150.185V146.117H437.192V146.598H435.297V147.849H436.887V148.33H435.297V149.703H437.192V150.185H434.709Z'    fill='#9ED7FB'  />  <path    d='M439.725 150.185L438.993 149.046L438.273 150.185H437.668L438.699 148.659L437.725 147.209H438.353L439.022 148.248L439.684 147.209H440.284L439.316 148.623L440.358 150.185H439.725Z'    fill='#9ED7FB'  />  <path    d='M441.001 151.394V147.209H441.479L441.531 147.514C441.823 147.252 442.147 147.121 442.504 147.121C442.877 147.121 443.171 147.26 443.386 147.538C443.601 147.812 443.708 148.185 443.708 148.659C443.708 149.14 443.595 149.525 443.369 149.815C443.142 150.105 442.84 150.249 442.464 150.249C442.118 150.249 441.821 150.134 441.571 149.903V151.394H441.001ZM442.343 147.59C442.07 147.59 441.813 147.68 441.571 147.86V149.498C441.821 149.686 442.074 149.78 442.331 149.78C442.862 149.78 443.127 149.416 443.127 148.688C443.127 148.316 443.061 148.04 442.931 147.86C442.804 147.68 442.608 147.59 442.343 147.59Z'    fill='#9ED7FB'  />  <path    d='M445.828 150.273C445.39 150.273 445.048 150.134 444.802 149.856C444.556 149.578 444.433 149.191 444.433 148.694C444.433 148.201 444.556 147.815 444.802 147.538C445.048 147.26 445.39 147.121 445.828 147.121C446.265 147.121 446.607 147.26 446.853 147.538C447.099 147.815 447.222 148.201 447.222 148.694C447.222 149.191 447.099 149.578 446.853 149.856C446.607 150.134 446.265 150.273 445.828 150.273ZM445.828 149.803C446.369 149.803 446.64 149.433 446.64 148.694C446.64 147.958 446.369 147.59 445.828 147.59C445.286 147.59 445.015 147.958 445.015 148.694C445.015 149.433 445.286 149.803 445.828 149.803Z'    fill='#9ED7FB'  />  <path    d='M448.098 150.185V147.209H448.576L448.64 147.649C448.747 147.532 448.847 147.442 448.939 147.379C449.031 147.313 449.126 147.264 449.222 147.232C449.318 147.201 449.421 147.185 449.533 147.185C449.606 147.185 449.684 147.191 449.769 147.203V147.731C449.646 147.716 449.542 147.708 449.458 147.708C449.151 147.708 448.887 147.802 448.669 147.99V150.185H448.098Z'    fill='#9ED7FB'  />  <path    d='M452.237 150.114C452.049 150.189 451.835 150.226 451.597 150.226C451.052 150.226 450.779 149.948 450.779 149.392V147.667H450.249V147.291L450.796 147.221L450.883 146.375H451.35V147.209H452.214V147.667H451.35V149.363C451.35 149.508 451.38 149.61 451.442 149.668C451.507 149.727 451.616 149.756 451.77 149.756C451.928 149.756 452.083 149.737 452.237 149.698V150.114Z'    fill='#9ED7FB'  />  <path    d='M456.676 150.073C456.454 150.191 456.196 150.249 455.904 150.249C455.451 150.249 455.103 150.118 454.861 149.856C454.623 149.59 454.504 149.207 454.504 148.706C454.504 148.209 454.627 147.825 454.873 147.555C455.123 147.281 455.474 147.144 455.927 147.144C456.185 147.144 456.427 147.199 456.653 147.309V147.725C456.434 147.655 456.219 147.62 456.008 147.62C455.685 147.62 455.453 147.704 455.311 147.872C455.169 148.037 455.098 148.301 455.098 148.665V148.741C455.098 149.097 455.169 149.359 455.311 149.527C455.457 149.692 455.685 149.774 455.996 149.774C456.204 149.774 456.43 149.735 456.676 149.657V150.073Z'    fill='#9ED7FB'  />  <path    d='M458.643 150.273C458.205 150.273 457.863 150.134 457.617 149.856C457.371 149.578 457.248 149.191 457.248 148.694C457.248 148.201 457.371 147.815 457.617 147.538C457.863 147.26 458.205 147.121 458.643 147.121C459.081 147.121 459.422 147.26 459.668 147.538C459.914 147.815 460.037 148.201 460.037 148.694C460.037 149.191 459.914 149.578 459.668 149.856C459.422 150.134 459.081 150.273 458.643 150.273ZM458.643 149.803C459.184 149.803 459.455 149.433 459.455 148.694C459.455 147.958 459.184 147.59 458.643 147.59C458.101 147.59 457.83 147.958 457.83 148.694C457.83 149.433 458.101 149.803 458.643 149.803Z'    fill='#9ED7FB'  />  <path    d='M462.987 150.185L462.912 149.88C462.786 149.997 462.642 150.089 462.48 150.155C462.319 150.218 462.156 150.249 461.991 150.249C461.749 150.249 461.535 150.189 461.351 150.067C461.167 149.946 461.023 149.77 460.919 149.539C460.815 149.304 460.763 149.028 460.763 148.712C460.763 148.395 460.813 148.117 460.913 147.878C461.013 147.639 461.155 147.453 461.34 147.32C461.528 147.187 461.751 147.121 462.008 147.121C462.334 147.121 462.628 147.23 462.889 147.45V145.841H463.46V150.185H462.987ZM462.163 149.78C462.402 149.78 462.644 149.69 462.889 149.51V147.849C462.77 147.759 462.649 147.694 462.526 147.655C462.407 147.612 462.275 147.59 462.129 147.59C461.606 147.59 461.345 147.958 461.345 148.694C461.345 149.418 461.618 149.78 462.163 149.78Z'    fill='#9ED7FB'  />  <path    d='M464.888 148.823C464.895 149.16 464.976 149.408 465.13 149.568C465.287 149.729 465.529 149.809 465.856 149.809C466.159 149.809 466.468 149.748 466.783 149.627V150.044C466.507 150.197 466.169 150.273 465.769 150.273C465.297 150.273 464.94 150.14 464.698 149.874C464.456 149.608 464.335 149.214 464.335 148.694C464.335 148.197 464.456 147.812 464.698 147.538C464.94 147.26 465.278 147.121 465.712 147.121C466.077 147.121 466.357 147.227 466.553 147.438C466.749 147.645 466.847 147.941 466.847 148.324C466.847 148.508 466.831 148.674 466.801 148.823H464.888ZM465.683 147.561C465.441 147.561 465.253 147.635 465.118 147.784C464.984 147.929 464.907 148.146 464.888 148.436H466.322C466.326 148.404 466.328 148.353 466.328 148.283C466.328 148.044 466.273 147.864 466.161 147.743C466.054 147.622 465.894 147.561 465.683 147.561Z'    fill='#9ED7FB'  />  <path    d='M352.09 144.56C349.689 144.56 347.639 146.081 346.808 148.228C347.639 150.376 349.689 151.897 352.09 151.897C354.49 151.897 356.54 150.376 357.371 148.228C356.54 146.081 354.49 144.56 352.09 144.56ZM352.09 150.674C350.764 150.674 349.689 149.578 349.689 148.228C349.689 146.878 350.764 145.783 352.09 145.783C353.415 145.783 354.49 146.878 354.49 148.228C354.49 149.578 353.415 150.674 352.09 150.674ZM352.09 146.761C351.292 146.761 350.649 147.416 350.649 148.228C350.649 149.04 351.292 149.696 352.09 149.696C352.887 149.696 353.53 149.04 353.53 148.228C353.53 147.416 352.887 146.761 352.09 146.761Z'    fill='#9ED7FB'  />  <path    d='M370.191 150.136L368.318 148.228L370.191 146.321C370.378 146.13 370.378 145.827 370.191 145.636C370.003 145.445 369.706 145.445 369.518 145.636L367.315 147.881C367.127 148.072 367.127 148.38 367.315 148.571L369.518 150.821C369.706 151.011 370.003 151.011 370.191 150.821C370.378 150.63 370.378 150.327 370.191 150.136ZM373.359 150.136L375.232 148.228L373.359 146.321C373.172 146.13 373.172 145.827 373.359 145.636C373.547 145.445 373.844 145.445 374.032 145.636L376.235 147.881C376.423 148.072 376.423 148.38 376.235 148.571L374.032 150.821C373.844 151.011 373.547 151.011 373.359 150.821C373.172 150.63 373.172 150.327 373.359 150.136Z'    fill='#9ED7FB'  />  <path    d='M331.076 74.0702V77.3043H330.534V73.2367H331.174L333.138 76.4885V73.2367H333.68V77.3043H333.035L331.076 74.0702Z'    fill='white'  />  <path    d='M335.863 77.3924C335.425 77.3924 335.083 77.2535 334.837 76.9757C334.591 76.6978 334.469 76.3104 334.469 75.8135C334.469 75.3204 334.591 74.935 334.837 74.6572C335.083 74.3793 335.425 74.2404 335.863 74.2404C336.301 74.2404 336.643 74.3793 336.888 74.6572C337.134 74.935 337.257 75.3204 337.257 75.8135C337.257 76.3104 337.134 76.6978 336.888 76.9757C336.643 77.2535 336.301 77.3924 335.863 77.3924ZM335.863 76.9228C336.404 76.9228 336.675 76.553 336.675 75.8135C336.675 75.0778 336.404 74.71 335.863 74.71C335.321 74.71 335.05 75.0778 335.05 75.8135C335.05 76.553 335.321 76.9228 335.863 76.9228Z'    fill='white'  />  <path    d='M339.966 77.3043V75.3146C339.966 75.1072 339.923 74.9546 339.839 74.8567C339.758 74.7589 339.629 74.71 339.453 74.71C339.149 74.71 338.852 74.8098 338.56 75.0093V77.3043H337.989V74.3285H338.468L338.525 74.6572C338.89 74.3793 339.274 74.2404 339.677 74.2404C339.958 74.2404 340.171 74.3167 340.317 74.4693C340.463 74.618 340.536 74.8352 340.536 75.1209V77.3043H339.966Z'    fill='white'  />  <path d='M341.244 76.0307V75.5376H342.961V76.0307H341.244Z' fill='white' />  <path    d='M345.655 77.3043V75.3146C345.655 75.1072 345.613 74.9546 345.529 74.8567C345.448 74.7589 345.319 74.71 345.143 74.71C344.839 74.71 344.541 74.8098 344.25 75.0093V77.3043H343.679V74.3285H344.157L344.215 74.6572C344.58 74.3793 344.964 74.2404 345.367 74.2404C345.648 74.2404 345.861 74.3167 346.007 74.4693C346.153 74.618 346.226 74.8352 346.226 75.1209V77.3043H345.655Z'    fill='white'  />  <path    d='M349.083 77.3043L349.019 76.9874C348.662 77.2574 348.295 77.3924 347.919 77.3924C347.646 77.3924 347.437 77.3141 347.291 77.1576C347.145 77.0011 347.072 76.78 347.072 76.4943V74.3285H347.642V76.3065C347.642 76.5178 347.683 76.6743 347.763 76.7761C347.844 76.8739 347.973 76.9228 348.149 76.9228C348.426 76.9228 348.705 76.8289 348.985 76.6411V74.3285H349.555V77.3043H349.083Z'    fill='white'  />  <path    d='M354.171 77.3043V75.2852C354.171 75.0896 354.135 74.9448 354.062 74.8509C353.989 74.757 353.874 74.71 353.716 74.71C353.436 74.71 353.154 74.798 352.869 74.9741C352.873 75.0015 352.875 75.0309 352.875 75.0622C352.875 75.0935 352.875 75.1248 352.875 75.1561V77.3043H352.305V75.2852C352.305 75.0896 352.268 74.9448 352.195 74.8509C352.122 74.757 352.007 74.71 351.85 74.71C351.558 74.71 351.277 74.7961 351.008 74.9683V77.3043H350.438V74.3285H350.916L350.974 74.6278C351.343 74.3696 351.702 74.2404 352.051 74.2404C352.408 74.2404 352.65 74.3793 352.777 74.6572C353.157 74.3793 353.538 74.2404 353.918 74.2404C354.183 74.2404 354.387 74.3167 354.529 74.4693C354.671 74.622 354.742 74.8391 354.742 75.1209V77.3043H354.171Z'    fill='white'  />  <path    d='M356.013 75.9426C356.02 76.2791 356.101 76.5276 356.255 76.688C356.412 76.8485 356.654 76.9287 356.981 76.9287C357.284 76.9287 357.593 76.868 357.908 76.7467V77.1635C357.632 77.3161 357.294 77.3924 356.894 77.3924C356.422 77.3924 356.065 77.2593 355.823 76.9933C355.581 76.7272 355.46 76.3339 355.46 75.8135C355.46 75.3165 355.581 74.9311 355.823 74.6572C356.065 74.3793 356.403 74.2404 356.837 74.2404C357.202 74.2404 357.482 74.3461 357.678 74.5574C357.874 74.7648 357.972 75.0602 357.972 75.4437C357.972 75.6276 357.956 75.7939 357.926 75.9426H356.013ZM356.808 74.6807C356.566 74.6807 356.378 74.755 356.243 74.9037C356.109 75.0485 356.032 75.2657 356.013 75.5552H357.447C357.451 75.5239 357.453 75.473 357.453 75.4026C357.453 75.1639 357.397 74.9839 357.286 74.8626C357.179 74.7413 357.019 74.6807 356.808 74.6807Z'    fill='white'  />  <path    d='M358.688 77.3043V74.3285H359.166L359.229 74.7687C359.337 74.6513 359.437 74.5613 359.529 74.4987C359.621 74.4322 359.715 74.3833 359.811 74.352C359.907 74.3207 360.011 74.305 360.123 74.305C360.195 74.305 360.274 74.3109 360.359 74.3226V74.8509C360.236 74.8352 360.132 74.8274 360.048 74.8274C359.74 74.8274 359.477 74.9213 359.258 75.1091V77.3043H358.688Z'    fill='white'  />  <path    d='M360.889 77.3043V74.3285H361.459V77.3043H360.889ZM361.177 73.8002C361.066 73.8002 360.977 73.7689 360.912 73.7063C360.851 73.6398 360.82 73.5537 360.82 73.448C360.82 73.3424 360.851 73.2583 360.912 73.1957C360.977 73.1291 361.066 73.0959 361.177 73.0959C361.289 73.0959 361.375 73.1291 361.436 73.1957C361.502 73.2583 361.534 73.3424 361.534 73.448C361.534 73.5537 361.502 73.6398 361.436 73.7063C361.375 73.7689 361.289 73.8002 361.177 73.8002Z'    fill='white'  />  <path    d='M364.386 77.1928C364.163 77.3102 363.906 77.3689 363.614 77.3689C363.16 77.3689 362.813 77.2378 362.571 76.9757C362.333 76.7096 362.214 76.3261 362.214 75.8252C362.214 75.3283 362.336 74.9448 362.582 74.6748C362.832 74.4009 363.183 74.2639 363.637 74.2639C363.894 74.2639 364.136 74.3187 364.363 74.4283V74.845C364.144 74.7746 363.929 74.7393 363.717 74.7393C363.395 74.7393 363.162 74.8235 363.02 74.9917C362.878 75.1561 362.807 75.4202 362.807 75.7841V75.8604C362.807 76.2165 362.878 76.4787 363.02 76.647C363.166 76.8113 363.395 76.8935 363.706 76.8935C363.913 76.8935 364.14 76.8543 364.386 76.7761V77.1928Z'    fill='white'  />  <path    d='M367.351 77.3043L366.204 74.3285H366.815L367.639 76.7761L368.463 74.3285H369.051L367.91 77.3043H367.351Z'    fill='white'  />  <path    d='M371.267 77.3043L371.221 76.9991C371.083 77.1204 370.929 77.2143 370.76 77.2809C370.595 77.3474 370.43 77.3807 370.265 77.3807C369.992 77.3807 369.773 77.3024 369.608 77.1459C369.447 76.9854 369.366 76.7722 369.366 76.5061C369.366 76.2204 369.466 75.9935 369.666 75.8252C369.865 75.653 370.134 75.567 370.472 75.567C370.695 75.567 370.937 75.6002 371.198 75.6667V75.2793C371.198 75.068 371.15 74.9193 371.054 74.8333C370.962 74.7472 370.803 74.7041 370.576 74.7041C370.25 74.7041 369.912 74.7648 369.562 74.8861V74.4752C369.7 74.4009 369.869 74.3441 370.069 74.305C370.269 74.262 370.47 74.2404 370.674 74.2404C371.039 74.2404 371.308 74.3187 371.481 74.4752C371.654 74.6278 371.74 74.8626 371.74 75.1796V77.3043H371.267ZM370.403 76.9404C370.664 76.9404 370.929 76.8407 371.198 76.6411V76.0424C370.999 75.9915 370.795 75.9661 370.588 75.9661C370.154 75.9661 369.937 76.1363 369.937 76.4767C369.937 76.6254 369.977 76.7409 370.058 76.823C370.138 76.9013 370.253 76.9404 370.403 76.9404Z'    fill='white'  />  <path    d='M373.661 77.2633C373.534 77.3102 373.396 77.3337 373.246 77.3337C373.042 77.3337 372.887 77.275 372.779 77.1576C372.671 77.0363 372.618 76.8641 372.618 76.6411V72.9609H373.188V76.6059C373.188 76.6959 373.205 76.7624 373.24 76.8054C373.278 76.8446 373.34 76.8641 373.424 76.8641C373.501 76.8641 373.58 76.8583 373.661 76.8465V77.2633Z'    fill='white'  />  <path    d='M376.277 77.3043L376.214 76.9874C375.857 77.2574 375.49 77.3924 375.113 77.3924C374.841 77.3924 374.631 77.3141 374.485 77.1576C374.339 77.0011 374.266 76.78 374.266 76.4943V74.3285H374.837V76.3065C374.837 76.5178 374.877 76.6743 374.958 76.7761C375.038 76.8739 375.167 76.9228 375.344 76.9228C375.62 76.9228 375.899 76.8289 376.179 76.6411V74.3285H376.75V77.3043H376.277Z'    fill='white'  />  <path    d='M378.036 75.9426C378.043 76.2791 378.124 76.5276 378.278 76.688C378.435 76.8485 378.677 76.9287 379.004 76.9287C379.307 76.9287 379.616 76.868 379.931 76.7467V77.1635C379.655 77.3161 379.317 77.3924 378.917 77.3924C378.445 77.3924 378.087 77.2593 377.845 76.9933C377.603 76.7272 377.483 76.3339 377.483 75.8135C377.483 75.3165 377.603 74.9311 377.845 74.6572C378.087 74.3793 378.425 74.2404 378.86 74.2404C379.224 74.2404 379.505 74.3461 379.701 74.5574C379.897 74.7648 379.995 75.0602 379.995 75.4437C379.995 75.6276 379.979 75.7939 379.948 75.9426H378.036ZM378.831 74.6807C378.589 74.6807 378.401 74.755 378.266 74.9037C378.132 75.0485 378.055 75.2657 378.036 75.5552H379.47C379.474 75.5239 379.476 75.473 379.476 75.4026C379.476 75.1639 379.42 74.9839 379.309 74.8626C379.201 74.7413 379.042 74.6807 378.831 74.6807Z'    fill='white'  />  <path    d='M382.082 76.5061C382.082 76.4122 382.051 76.3359 381.99 76.2772C381.932 76.2185 381.825 76.1598 381.667 76.1011L381.177 75.9133C380.751 75.7528 380.538 75.4789 380.538 75.0915C380.538 74.8372 380.634 74.6317 380.826 74.4752C381.022 74.3187 381.277 74.2404 381.592 74.2404C381.896 74.2404 382.182 74.303 382.451 74.4283V74.8391C382.151 74.7413 381.875 74.6924 381.621 74.6924C381.252 74.6924 381.068 74.8196 381.068 75.0739C381.068 75.1757 381.099 75.2559 381.16 75.3146C381.222 75.3733 381.343 75.4378 381.523 75.5083L381.973 75.6843C382.199 75.7743 382.362 75.882 382.462 76.0072C382.562 76.1285 382.612 76.287 382.612 76.4826C382.612 76.7604 382.51 76.9815 382.307 77.1459C382.103 77.3102 381.832 77.3924 381.494 77.3924C381.114 77.3924 380.784 77.318 380.503 77.1693V76.7585C380.864 76.8798 381.199 76.9404 381.506 76.9404C381.694 76.9404 381.836 76.9033 381.932 76.8289C382.032 76.7546 382.082 76.647 382.082 76.5061Z'    fill='white'  />  <path    d='M390.984 77.3043V73.2367H391.572V76.8113H393.456V77.3043H390.984Z'    fill='#F2C89E'  />  <path    d='M395.221 77.3924C394.783 77.3924 394.442 77.2535 394.196 76.9757C393.95 76.6978 393.827 76.3104 393.827 75.8135C393.827 75.3204 393.95 74.935 394.196 74.6572C394.442 74.3793 394.783 74.2404 395.221 74.2404C395.659 74.2404 396.001 74.3793 396.247 74.6572C396.493 74.935 396.616 75.3204 396.616 75.8135C396.616 76.3104 396.493 76.6978 396.247 76.9757C396.001 77.2535 395.659 77.3924 395.221 77.3924ZM395.221 76.9228C395.763 76.9228 396.034 76.553 396.034 75.8135C396.034 75.0778 395.763 74.71 395.221 74.71C394.68 74.71 394.409 75.0778 394.409 75.8135C394.409 76.553 394.68 76.9228 395.221 76.9228Z'    fill='#F2C89E'  />  <path    d='M399.688 77.3043L399.066 74.9741L398.45 77.3043H397.873L396.917 74.3285H397.516L398.173 76.7115L398.795 74.3285H399.366L399.988 76.7409L400.662 74.3285H401.244L400.265 77.3043H399.688Z'    fill='#F2C89E'  />  <path    d='M469.991 74.4307L468.613 75.8339C468.496 75.9531 468.496 76.1457 468.613 76.2649C468.731 76.3842 468.92 76.3842 469.037 76.2649L470.204 75.0788L471.368 76.2649C471.485 76.3842 471.674 76.3842 471.791 76.2649C471.908 76.1457 471.908 75.9531 471.791 75.8339L470.414 74.4307C470.3 74.3115 470.108 74.3115 469.991 74.4307Z'    fill='#D5D7DA'  />  <path    d='M331.395 51.8696V48.295H330.122V47.802H333.256V48.295H331.983V51.8696H331.395Z'    fill='#D5D7DA'  />  <path    d='M335.229 51.8696L335.183 51.5643C335.045 51.6857 334.891 51.7796 334.722 51.8461C334.557 51.9126 334.392 51.9459 334.227 51.9459C333.954 51.9459 333.735 51.8676 333.57 51.7111C333.408 51.5507 333.328 51.3374 333.328 51.0713C333.328 50.7857 333.428 50.5587 333.627 50.3904C333.827 50.2183 334.096 50.1322 334.434 50.1322C334.657 50.1322 334.899 50.1654 335.16 50.232V49.8446C335.16 49.6333 335.112 49.4846 335.016 49.3985C334.924 49.3124 334.764 49.2693 334.538 49.2693C334.211 49.2693 333.873 49.33 333.524 49.4513V49.0404C333.662 48.9661 333.831 48.9093 334.031 48.8702C334.23 48.8272 334.432 48.8057 334.636 48.8057C335.001 48.8057 335.269 48.8839 335.442 49.0404C335.615 49.193 335.702 49.4278 335.702 49.7448V51.8696H335.229ZM334.365 51.5057C334.626 51.5057 334.891 51.4059 335.16 51.2063V50.6076C334.96 50.5567 334.757 50.5313 334.549 50.5313C334.115 50.5313 333.898 50.7015 333.898 51.042C333.898 51.1907 333.939 51.3061 334.019 51.3883C334.1 51.4665 334.215 51.5057 334.365 51.5057Z'    fill='#D5D7DA'  />  <path    d='M336.579 51.8696V48.8937H337.058L337.121 49.3339C337.228 49.2165 337.328 49.1265 337.421 49.0639C337.513 48.9974 337.607 48.9485 337.703 48.9172C337.799 48.8859 337.903 48.8702 338.014 48.8702C338.087 48.8702 338.166 48.8761 338.25 48.8878V49.4161C338.127 49.4004 338.024 49.3926 337.939 49.3926C337.632 49.3926 337.369 49.4865 337.15 49.6743V51.8696H336.579Z'    fill='#D5D7DA'  />  <path    d='M340.626 51.4646C340.495 51.578 340.355 51.6661 340.205 51.7287C340.055 51.7874 339.903 51.8167 339.75 51.8167C339.516 51.8167 339.308 51.758 339.128 51.6407C338.947 51.5233 338.805 51.353 338.701 51.13C338.601 50.903 338.551 50.6389 338.551 50.3376C338.551 49.868 338.661 49.4963 338.88 49.2224C339.099 48.9446 339.393 48.8057 339.761 48.8057C340.107 48.8057 340.409 48.927 340.666 49.1696L340.712 48.8937H341.19V51.6876C341.19 52.1533 341.067 52.5133 340.821 52.7676C340.579 53.022 340.234 53.1491 339.784 53.1491C339.423 53.1491 339.091 53.0709 338.788 52.9143V52.4976C339.141 52.6189 339.458 52.6796 339.738 52.6796C340.046 52.6796 340.27 52.6033 340.412 52.4507C340.555 52.302 340.626 52.0613 340.626 51.7287V51.4646ZM339.917 51.3472C340.155 51.3472 340.391 51.2572 340.626 51.0772V49.5335C340.51 49.4435 340.393 49.3789 340.274 49.3398C340.155 49.2967 340.024 49.2752 339.882 49.2752C339.383 49.2752 339.133 49.6215 339.133 50.3141C339.133 50.6546 339.199 50.9128 339.329 51.0889C339.464 51.2611 339.66 51.3472 339.917 51.3472Z'    fill='#D5D7DA'  />  <path    d='M342.476 50.5078C342.483 50.8443 342.564 51.0928 342.718 51.2533C342.875 51.4137 343.117 51.4939 343.443 51.4939C343.747 51.4939 344.056 51.4333 344.371 51.312V51.7287C344.095 51.8813 343.757 51.9576 343.357 51.9576C342.885 51.9576 342.527 51.8246 342.285 51.5585C342.043 51.2924 341.922 50.8991 341.922 50.3787C341.922 49.8817 342.043 49.4963 342.285 49.2224C342.527 48.9446 342.865 48.8057 343.299 48.8057C343.664 48.8057 343.945 48.9113 344.141 49.1226C344.337 49.33 344.434 49.6254 344.434 50.0089C344.434 50.1928 344.419 50.3591 344.388 50.5078H342.476ZM343.271 49.2459C343.029 49.2459 342.84 49.3202 342.706 49.4689C342.572 49.6137 342.495 49.8309 342.476 50.1204H343.91C343.914 50.0891 343.916 50.0383 343.916 49.9678C343.916 49.7291 343.86 49.5491 343.749 49.4278C343.641 49.3065 343.482 49.2459 343.271 49.2459Z'    fill='#D5D7DA'  />  <path    d='M346.793 51.7991C346.604 51.8735 346.391 51.9107 346.153 51.9107C345.608 51.9107 345.335 51.6328 345.335 51.0772V49.3515H344.805V48.9759L345.352 48.9054L345.439 48.0602H345.905V48.8937H346.77V49.3515H345.905V51.0478C345.905 51.1926 345.936 51.2943 345.998 51.353C346.063 51.4117 346.172 51.4411 346.326 51.4411C346.483 51.4411 346.639 51.4215 346.793 51.3824V51.7991Z'    fill='#D5D7DA'  />  <path    d='M349.965 51.8285C349.838 51.8754 349.7 51.8989 349.55 51.8989C349.346 51.8989 349.191 51.8402 349.083 51.7228C348.976 51.6015 348.922 51.4293 348.922 51.2063V47.5261H349.492V51.1711C349.492 51.2611 349.509 51.3276 349.544 51.3707C349.582 51.4098 349.644 51.4293 349.728 51.4293C349.805 51.4293 349.884 51.4235 349.965 51.4117V51.8285Z'    fill='#D5D7DA'  />  <path    d='M350.997 50.5078C351.005 50.8443 351.085 51.0928 351.239 51.2533C351.396 51.4137 351.638 51.4939 351.965 51.4939C352.268 51.4939 352.577 51.4333 352.892 51.312V51.7287C352.616 51.8813 352.278 51.9576 351.878 51.9576C351.406 51.9576 351.049 51.8246 350.807 51.5585C350.565 51.2924 350.444 50.8991 350.444 50.3787C350.444 49.8817 350.565 49.4963 350.807 49.2224C351.049 48.9446 351.387 48.8057 351.821 48.8057C352.186 48.8057 352.466 48.9113 352.662 49.1226C352.858 49.33 352.956 49.6254 352.956 50.0089C352.956 50.1928 352.94 50.3591 352.91 50.5078H350.997ZM351.792 49.2459C351.55 49.2459 351.362 49.3202 351.227 49.4689C351.093 49.6137 351.016 49.8309 350.997 50.1204H352.431C352.435 50.0891 352.437 50.0383 352.437 49.9678C352.437 49.7291 352.382 49.5491 352.27 49.4278C352.163 49.3065 352.003 49.2459 351.792 49.2459Z'    fill='#D5D7DA'  />  <path    d='M355.389 51.8696L355.343 51.5643C355.205 51.6857 355.051 51.7796 354.882 51.8461C354.717 51.9126 354.552 51.9459 354.386 51.9459C354.114 51.9459 353.895 51.8676 353.73 51.7111C353.568 51.5507 353.488 51.3374 353.488 51.0713C353.488 50.7857 353.587 50.5587 353.787 50.3904C353.987 50.2183 354.256 50.1322 354.594 50.1322C354.817 50.1322 355.059 50.1654 355.32 50.232V49.8446C355.32 49.6333 355.272 49.4846 355.176 49.3985C355.084 49.3124 354.924 49.2693 354.698 49.2693C354.371 49.2693 354.033 49.33 353.683 49.4513V49.0404C353.822 48.9661 353.991 48.9093 354.19 48.8702C354.39 48.8272 354.592 48.8057 354.795 48.8057C355.16 48.8057 355.429 48.8839 355.602 49.0404C355.775 49.193 355.861 49.4278 355.861 49.7448V51.8696H355.389ZM354.525 51.5057C354.786 51.5057 355.051 51.4059 355.32 51.2063V50.6076C355.12 50.5567 354.916 50.5313 354.709 50.5313C354.275 50.5313 354.058 50.7015 354.058 51.042C354.058 51.1907 354.098 51.3061 354.179 51.3883C354.26 51.4665 354.375 51.5057 354.525 51.5057Z'    fill='#D5D7DA'  />  <path    d='M356.739 51.8696V47.5261H357.309V50.1909L358.548 48.8937H359.245L357.863 50.3083L359.338 51.8696H358.617L357.309 50.4609V51.8696H356.739Z'    fill='#D5D7DA'  />  <path    d='M361.518 51.8696L361.471 51.5643C361.333 51.6857 361.18 51.7796 361.011 51.8461C360.845 51.9126 360.68 51.9459 360.515 51.9459C360.242 51.9459 360.023 51.8676 359.858 51.7111C359.697 51.5507 359.616 51.3374 359.616 51.0713C359.616 50.7857 359.716 50.5587 359.916 50.3904C360.116 50.2183 360.384 50.1322 360.722 50.1322C360.945 50.1322 361.187 50.1654 361.448 50.232V49.8446C361.448 49.6333 361.4 49.4846 361.304 49.3985C361.212 49.3124 361.053 49.2693 360.826 49.2693C360.5 49.2693 360.162 49.33 359.812 49.4513V49.0404C359.95 48.9661 360.119 48.9093 360.319 48.8702C360.519 48.8272 360.721 48.8057 360.924 48.8057C361.289 48.8057 361.558 48.8839 361.731 49.0404C361.904 49.193 361.99 49.4278 361.99 49.7448V51.8696H361.518ZM360.653 51.5057C360.915 51.5057 361.18 51.4059 361.448 51.2063V50.6076C361.249 50.5567 361.045 50.5313 360.838 50.5313C360.404 50.5313 360.187 50.7015 360.187 51.042C360.187 51.1907 360.227 51.3061 360.308 51.3883C360.388 51.4665 360.504 51.5057 360.653 51.5057Z'    fill='#D5D7DA'  />  <path    d='M364.792 51.4646C364.662 51.578 364.521 51.6661 364.372 51.7287C364.222 51.7874 364.07 51.8167 363.916 51.8167C363.682 51.8167 363.475 51.758 363.294 51.6407C363.114 51.5233 362.971 51.353 362.868 51.13C362.768 50.903 362.718 50.6389 362.718 50.3376C362.718 49.868 362.827 49.4963 363.046 49.2224C363.265 48.9446 363.559 48.8057 363.928 48.8057C364.274 48.8057 364.575 48.927 364.832 49.1696L364.879 48.8937H365.357V51.6876C365.357 52.1533 365.234 52.5133 364.988 52.7676C364.746 53.022 364.4 53.1491 363.951 53.1491C363.59 53.1491 363.258 53.0709 362.954 52.9143V52.4976C363.308 52.6189 363.624 52.6796 363.905 52.6796C364.212 52.6796 364.437 52.6033 364.579 52.4507C364.721 52.302 364.792 52.0613 364.792 51.7287V51.4646ZM364.083 51.3472C364.322 51.3472 364.558 51.2572 364.792 51.0772V49.5335C364.677 49.4435 364.56 49.3789 364.441 49.3398C364.322 49.2967 364.191 49.2752 364.049 49.2752C363.55 49.2752 363.3 49.6215 363.3 50.3141C363.3 50.6546 363.365 50.9128 363.496 51.0889C363.63 51.2611 363.826 51.3472 364.083 51.3472Z'    fill='#D5D7DA'  />  <path    d='M366.642 50.5078C366.65 50.8443 366.73 51.0928 366.884 51.2533C367.042 51.4137 367.284 51.4939 367.61 51.4939C367.913 51.4939 368.223 51.4333 368.538 51.312V51.7287C368.261 51.8813 367.923 51.9576 367.524 51.9576C367.051 51.9576 366.694 51.8246 366.452 51.5585C366.21 51.2924 366.089 50.8991 366.089 50.3787C366.089 49.8817 366.21 49.4963 366.452 49.2224C366.694 48.9446 367.032 48.8057 367.466 48.8057C367.831 48.8057 368.111 48.9113 368.307 49.1226C368.503 49.33 368.601 49.6254 368.601 50.0089C368.601 50.1928 368.586 50.3591 368.555 50.5078H366.642ZM367.437 49.2459C367.195 49.2459 367.007 49.3202 366.873 49.4689C366.738 49.6137 366.661 49.8309 366.642 50.1204H368.077C368.081 50.0891 368.082 50.0383 368.082 49.9678C368.082 49.7291 368.027 49.5491 367.915 49.4278C367.808 49.3065 367.648 49.2459 367.437 49.2459Z'    fill='#D5D7DA'  />  <path    d='M379.642 51.8696V50.0324H377.648V51.8696H377.06V47.802H377.648V49.5511H379.642V47.802H380.229V51.8696H379.642Z'    fill='#FF5656'  />  <path    d='M381.19 51.8696V48.8937H381.76V51.8696H381.19ZM381.478 48.3654C381.367 48.3654 381.278 48.3341 381.213 48.2715C381.152 48.205 381.121 48.1189 381.121 48.0133C381.121 47.9076 381.152 47.8235 381.213 47.7609C381.278 47.6943 381.367 47.6611 381.478 47.6611C381.59 47.6611 381.676 47.6943 381.737 47.7609C381.803 47.8235 381.835 47.9076 381.835 48.0133C381.835 48.1189 381.803 48.205 381.737 48.2715C381.676 48.3341 381.59 48.3654 381.478 48.3654Z'    fill='#FF5656'  />  <path    d='M384.589 51.4646C384.458 51.578 384.318 51.6661 384.168 51.7287C384.018 51.7874 383.867 51.8167 383.713 51.8167C383.479 51.8167 383.271 51.758 383.091 51.6407C382.91 51.5233 382.768 51.353 382.664 51.13C382.565 50.903 382.515 50.6389 382.515 50.3376C382.515 49.868 382.624 49.4963 382.843 49.2224C383.062 48.9446 383.356 48.8057 383.725 48.8057C384.07 48.8057 384.372 48.927 384.629 49.1696L384.675 48.8937H385.153V51.6876C385.153 52.1533 385.03 52.5133 384.785 52.7676C384.543 53.022 384.197 53.1491 383.748 53.1491C383.386 53.1491 383.054 53.0709 382.751 52.9143V52.4976C383.104 52.6189 383.421 52.6796 383.701 52.6796C384.009 52.6796 384.233 52.6033 384.376 52.4507C384.518 52.302 384.589 52.0613 384.589 51.7287V51.4646ZM383.88 51.3472C384.118 51.3472 384.354 51.2572 384.589 51.0772V49.5335C384.474 49.4435 384.356 49.3789 384.237 49.3398C384.118 49.2967 383.988 49.2752 383.845 49.2752C383.346 49.2752 383.096 49.6215 383.096 50.3141C383.096 50.6546 383.162 50.9128 383.292 51.0889C383.427 51.2611 383.623 51.3472 383.88 51.3472Z'    fill='#FF5656'  />  <path    d='M388.012 51.8696V49.8798C388.012 49.6724 387.969 49.5198 387.885 49.422C387.804 49.3241 387.676 49.2752 387.499 49.2752C387.195 49.2752 386.898 49.375 386.606 49.5746V51.8696H386.035V47.5261H386.606V49.1989C386.971 48.9367 387.343 48.8057 387.724 48.8057C388.004 48.8057 388.217 48.882 388.363 49.0346C388.509 49.1833 388.582 49.4004 388.582 49.6861V51.8696H388.012Z'    fill='#FF5656'  />  <path    d='M470.414 50.8302L471.791 49.427C471.908 49.3077 471.908 49.1151 471.791 48.9959C471.674 48.8767 471.485 48.8767 471.368 48.9959L470.201 50.1821L469.037 48.9959C468.92 48.8767 468.731 48.8767 468.614 48.9959C468.496 49.1151 468.496 49.3077 468.614 49.427L469.991 50.8302C470.105 50.9494 470.297 50.9494 470.414 50.8302Z'    fill='#D5D7DA'  />  <path    d='M482.206 42.087C482.206 41.2765 482.851 40.6196 483.646 40.6196C484.442 40.6196 485.087 41.2765 485.087 42.087V51.3804C485.087 52.1909 484.442 52.8478 483.646 52.8478C482.851 52.8478 482.206 52.1909 482.206 51.3804V42.087Z'    fill='#6C747F'  />  <rect    x='318.25'    y='0.25'    width='167.5'    height='16.5'    fill='#1A1B22'    stroke='#616161'    stroke-width='0.5'  />  <path    d='M390.252 11V10.532L392.556 7.34H390.384V6.842H393.222V7.31L390.912 10.502H393.222V11H390.252ZM394.003 11V6.842H394.615V11H394.003ZM396.243 9.392V11H395.649V6.842H397.155C397.559 6.842 397.881 6.958 398.121 7.19C398.361 7.418 398.481 7.728 398.481 8.12C398.481 8.508 398.361 8.818 398.121 9.05C397.881 9.278 397.559 9.392 397.155 9.392H396.243ZM396.243 8.906H397.101C397.353 8.906 397.543 8.84 397.671 8.708C397.799 8.572 397.863 8.376 397.863 8.12C397.863 7.592 397.609 7.328 397.101 7.328H396.243V8.906ZM403.745 10.886C403.421 11.01 403.071 11.072 402.695 11.072C402.039 11.072 401.541 10.892 401.201 10.532C400.865 10.168 400.697 9.636 400.697 8.936C400.697 8.244 400.871 7.712 401.219 7.34C401.571 6.968 402.073 6.782 402.725 6.782C403.065 6.782 403.385 6.836 403.685 6.944V7.442C403.321 7.358 403.025 7.316 402.797 7.316C402.293 7.316 401.925 7.44 401.693 7.688C401.461 7.932 401.345 8.322 401.345 8.858V9.002C401.345 9.53 401.457 9.918 401.681 10.166C401.909 10.414 402.269 10.538 402.761 10.538C403.013 10.538 403.341 10.488 403.745 10.388V10.886ZM404.819 8.924C404.819 9.468 404.931 9.882 405.155 10.166C405.383 10.446 405.711 10.586 406.139 10.586C406.567 10.586 406.893 10.444 407.117 10.16C407.341 9.876 407.453 9.464 407.453 8.924C407.453 8.384 407.341 7.974 407.117 7.694C406.893 7.41 406.567 7.268 406.139 7.268C405.707 7.268 405.379 7.41 405.155 7.694C404.931 7.974 404.819 8.384 404.819 8.924ZM404.189 8.924C404.189 8.48 404.265 8.096 404.417 7.772C404.569 7.444 404.791 7.192 405.083 7.016C405.379 6.84 405.731 6.752 406.139 6.752C406.743 6.752 407.217 6.946 407.561 7.334C407.909 7.718 408.083 8.248 408.083 8.924C408.083 9.368 408.007 9.754 407.855 10.082C407.703 10.406 407.481 10.658 407.189 10.838C406.897 11.014 406.547 11.102 406.139 11.102C405.743 11.102 405.399 11.018 405.107 10.85C404.815 10.678 404.589 10.428 404.429 10.1C404.269 9.772 404.189 9.38 404.189 8.924ZM408.973 11V6.842H410.341C410.953 6.842 411.419 7.02 411.739 7.376C412.063 7.728 412.225 8.244 412.225 8.924C412.225 9.596 412.061 10.11 411.733 10.466C411.405 10.822 410.935 11 410.323 11H408.973ZM409.585 7.322V10.52H410.257C411.149 10.52 411.595 10.01 411.595 8.99V8.852C411.595 8.344 411.483 7.962 411.259 7.706C411.035 7.45 410.701 7.322 410.257 7.322H409.585ZM413.115 11V6.842H415.701V7.334H413.727V8.612H415.383V9.104H413.727V10.508H415.701V11H413.115Z'    fill='white'  />  <defs>    <linearGradient      id='paint0_linear_4701_363790'      x1='210.013'      y1='91.2872'      x2='210.013'      y2='96.5639'      gradientUnits='userSpaceOnUse'    >      <stop />      <stop offset='1' stop-opacity='0' />    </linearGradient>    <linearGradient      id='paint1_linear_4701_363790'      x1='210.013'      y1='91.2872'      x2='210.013'      y2='96.5639'      gradientUnits='userSpaceOnUse'    >      <stop />      <stop offset='1' stop-opacity='0' />    </linearGradient>    <linearGradient      id='paint2_linear_4701_363790'      x1='210.013'      y1='91.2872'      x2='210.013'      y2='96.5639'      gradientUnits='userSpaceOnUse'    >      <stop />      <stop offset='1' stop-opacity='0' />    </linearGradient>    <linearGradient      id='paint3_linear_4701_363790'      x1='210.013'      y1='91.2872'      x2='210.013'      y2='96.5639'      gradientUnits='userSpaceOnUse'    >      <stop />      <stop offset='1' stop-opacity='0' />    </linearGradient>    <linearGradient      id='paint4_linear_4701_363790'      x1='210.013'      y1='91.2872'      x2='210.013'      y2='96.5639'      gradientUnits='userSpaceOnUse'    >      <stop />      <stop offset='1' stop-opacity='0' />    </linearGradient>  </defs></svg>                </div>            </div>            <div class='gm-discovery-close-icon-wrapper'>                <svg class='gm-discovery-close-icon' width='12' height='12' viewBox='0 0 12 12' fill='none' xmlns='http://www.w3.org/2000/svg' data-commandlinker-command='sagemaker-datawrangler-discovery:close-button-click' data-commandlinker-args='{&quot;widgetId&quot;: &quot;gm-discovery-widget-ff43acf9-f560-4c3b-8cc5-62f6819466f5&quot;}'>                    <path d='M11.8334 1.34199L10.6584 0.166992L6.00008 4.82533L1.34175 0.166992L0.166748 1.34199L4.82508 6.00033L0.166748 10.6587L1.34175 11.8337L6.00008 7.17533L10.6584 11.8337L11.8334 10.6587L7.17508 6.00033L11.8334 1.34199Z' fill='var(--bl-color-root-neutral-800)'/>                </svg>                <div class='gm-discovery-disable-dropdown-menu'>                    <div class='gm-discovery-disable-dropdown-menu-item' data-commandlinker-command='sagemaker-datawrangler-discovery:disable-temporarily' data-commandlinker-args='{&quot;widgetId&quot;: &quot;gm-discovery-widget-ff43acf9-f560-4c3b-8cc5-62f6819466f5&quot;}'>Remind me later</div>                    <div class='gm-discovery-disable-dropdown-menu-item' data-commandlinker-command='sagemaker-datawrangler-discovery:disable-permanently' data-commandlinker-args='{&quot;widgetId&quot;: &quot;gm-discovery-widget-ff43acf9-f560-4c3b-8cc5-62f6819466f5&quot;}'>Don't show again</div>                </div>            </div>        </div>        <div class='gm-discovery-error'/>    </div>"
      ],
      "text/plain": [
       "<__main__.DiscoveryWidget at 0x7fd73a9d6250>"
      ]
     },
     "metadata": {},
     "output_type": "display_data"
    }
   ],
   "source": [
    "from transformers import pipeline, AutoTokenizer, AutoModelForSequenceClassification, AutoModelForSeq2SeqLM, GenerationConfig\n",
    "from datasets import load_dataset\n",
    "from peft import PeftModel, PeftConfig, LoraConfig, TaskType\n",
    "\n",
    "# trl: Transformer Reinforcement Learning library\n",
    "from trl import PPOTrainer, PPOConfig, AutoModelForSeq2SeqLMWithValueHead\n",
    "from trl import create_reference_model\n",
    "from trl.core import LengthSampler\n",
    "\n",
    "import torch\n",
    "import evaluate\n",
    "\n",
    "import numpy as np\n",
    "import pandas as pd\n",
    "\n",
    "# tqdm library makes the loops show a smart progress meter.\n",
    "from tqdm import tqdm\n",
    "tqdm.pandas()"
   ]
  },
  {
   "cell_type": "markdown",
   "id": "b76eea84-8e3a-4487-9692-613977e6c8e3",
   "metadata": {
    "pycharm": {
     "name": "#%% md\n"
    }
   },
   "source": [
    "<a name='2'></a>\n",
    "## 2 - Load FLAN-T5 Model, Prepare Reward Model and Toxicity Evaluator"
   ]
  },
  {
   "cell_type": "markdown",
   "id": "4a5f97d4-ea5f-4072-b5d6-785d1d833ed4",
   "metadata": {
    "tags": [],
    "pycharm": {
     "name": "#%% md\n"
    }
   },
   "source": [
    "<a name='2.1'></a>\n",
    "### 2.1 - Load Data and FLAN-T5 Model Fine-Tuned with Summarization Instruction"
   ]
  },
  {
   "cell_type": "markdown",
   "id": "90dc0211-4032-4967-946d-3a538829d5c9",
   "metadata": {
    "tags": [],
    "pycharm": {
     "name": "#%% md\n"
    }
   },
   "source": [
    "You will keep working with the same Hugging Face dataset [DialogSum](https://huggingface.co/datasets/knkarthick/dialogsum) and the pre-trained model [FLAN-T5](https://huggingface.co/docs/transformers/model_doc/flan-t5). "
   ]
  },
  {
   "cell_type": "code",
   "execution_count": 5,
   "id": "b058b52b-ec4d-4426-8d71-91e898f727f6",
   "metadata": {
    "tags": [],
    "pycharm": {
     "name": "#%%\n"
    }
   },
   "outputs": [
    {
     "data": {
      "application/vnd.jupyter.widget-view+json": {
       "model_id": "507f39ea998248f69169564649af5bc8",
       "version_major": 2,
       "version_minor": 0
      },
      "text/plain": [
       "Downloading readme:   0%|          | 0.00/4.56k [00:00<?, ?B/s]"
      ]
     },
     "metadata": {},
     "output_type": "display_data"
    },
    {
     "name": "stdout",
     "output_type": "stream",
     "text": [
      "Downloading and preparing dataset csv/knkarthick--dialogsum to /root/.cache/huggingface/datasets/knkarthick___csv/knkarthick--dialogsum-391706c81424fc80/0.0.0/6954658bab30a358235fa864b05cf819af0e179325c740e4bc853bcc7ec513e1...\n"
     ]
    },
    {
     "data": {
      "application/vnd.jupyter.widget-view+json": {
       "model_id": "70be349dab174f87ae49ad596295dd11",
       "version_major": 2,
       "version_minor": 0
      },
      "text/plain": [
       "Downloading data files:   0%|          | 0/3 [00:00<?, ?it/s]"
      ]
     },
     "metadata": {},
     "output_type": "display_data"
    },
    {
     "data": {
      "application/vnd.jupyter.widget-view+json": {
       "model_id": "d2bbd2e451f7454182877a3dabb084e7",
       "version_major": 2,
       "version_minor": 0
      },
      "text/plain": [
       "Downloading data:   0%|          | 0.00/11.3M [00:00<?, ?B/s]"
      ]
     },
     "metadata": {},
     "output_type": "display_data"
    },
    {
     "data": {
      "application/vnd.jupyter.widget-view+json": {
       "model_id": "1e54000368294c4b9165b6bbb1a5bf40",
       "version_major": 2,
       "version_minor": 0
      },
      "text/plain": [
       "Downloading data:   0%|          | 0.00/1.35M [00:00<?, ?B/s]"
      ]
     },
     "metadata": {},
     "output_type": "display_data"
    },
    {
     "data": {
      "application/vnd.jupyter.widget-view+json": {
       "model_id": "dee3c48898a8439794f034510031ba90",
       "version_major": 2,
       "version_minor": 0
      },
      "text/plain": [
       "Downloading data:   0%|          | 0.00/442k [00:00<?, ?B/s]"
      ]
     },
     "metadata": {},
     "output_type": "display_data"
    },
    {
     "data": {
      "application/vnd.jupyter.widget-view+json": {
       "model_id": "49d4193e69554e94a444f5cecb557f98",
       "version_major": 2,
       "version_minor": 0
      },
      "text/plain": [
       "Extracting data files:   0%|          | 0/3 [00:00<?, ?it/s]"
      ]
     },
     "metadata": {},
     "output_type": "display_data"
    },
    {
     "data": {
      "application/vnd.jupyter.widget-view+json": {
       "model_id": "",
       "version_major": 2,
       "version_minor": 0
      },
      "text/plain": [
       "Generating train split: 0 examples [00:00, ? examples/s]"
      ]
     },
     "metadata": {},
     "output_type": "display_data"
    },
    {
     "data": {
      "application/vnd.jupyter.widget-view+json": {
       "model_id": "",
       "version_major": 2,
       "version_minor": 0
      },
      "text/plain": [
       "Generating test split: 0 examples [00:00, ? examples/s]"
      ]
     },
     "metadata": {},
     "output_type": "display_data"
    },
    {
     "data": {
      "application/vnd.jupyter.widget-view+json": {
       "model_id": "",
       "version_major": 2,
       "version_minor": 0
      },
      "text/plain": [
       "Generating validation split: 0 examples [00:00, ? examples/s]"
      ]
     },
     "metadata": {},
     "output_type": "display_data"
    },
    {
     "name": "stdout",
     "output_type": "stream",
     "text": [
      "Dataset csv downloaded and prepared to /root/.cache/huggingface/datasets/knkarthick___csv/knkarthick--dialogsum-391706c81424fc80/0.0.0/6954658bab30a358235fa864b05cf819af0e179325c740e4bc853bcc7ec513e1. Subsequent calls will reuse this data.\n"
     ]
    },
    {
     "data": {
      "application/vnd.jupyter.widget-view+json": {
       "model_id": "a7b49d74547c40f1959b4ddd6f4a9843",
       "version_major": 2,
       "version_minor": 0
      },
      "text/plain": [
       "  0%|          | 0/3 [00:00<?, ?it/s]"
      ]
     },
     "metadata": {},
     "output_type": "display_data"
    },
    {
     "data": {
      "text/plain": [
       "DatasetDict({\n",
       "    train: Dataset({\n",
       "        features: ['id', 'dialogue', 'summary', 'topic'],\n",
       "        num_rows: 12460\n",
       "    })\n",
       "    test: Dataset({\n",
       "        features: ['id', 'dialogue', 'summary', 'topic'],\n",
       "        num_rows: 1500\n",
       "    })\n",
       "    validation: Dataset({\n",
       "        features: ['id', 'dialogue', 'summary', 'topic'],\n",
       "        num_rows: 500\n",
       "    })\n",
       "})"
      ]
     },
     "execution_count": 5,
     "metadata": {},
     "output_type": "execute_result"
    }
   ],
   "source": [
    "model_name=\"google/flan-t5-base\"\n",
    "huggingface_dataset_name = \"knkarthick/dialogsum\"\n",
    "\n",
    "dataset_original = load_dataset(huggingface_dataset_name)\n",
    "\n",
    "dataset_original"
   ]
  },
  {
   "cell_type": "markdown",
   "id": "668d30d6-6f81-4e52-a81a-3057163ddb0e",
   "metadata": {
    "pycharm": {
     "name": "#%% md\n"
    }
   },
   "source": [
    "The next step will be to preprocess the dataset. You will take only a part of it, then filter the dialogues of a particular length (just to make those examples long enough and, at the same time, easy to read). Then wrap each dialogue with the instruction and tokenize the prompts. Save the token ids in the field `input_ids` and decoded version of the prompts in the field `query`.\n",
    "\n",
    "You could do that all step by step in the cell below, but it is a good habit to organize that all in a function `build_dataset`:"
   ]
  },
  {
   "cell_type": "code",
   "execution_count": 6,
   "id": "51469abe-4d72-4093-a6c6-8e04e19f09eb",
   "metadata": {
    "tags": [],
    "pycharm": {
     "name": "#%%\n"
    }
   },
   "outputs": [
    {
     "name": "stderr",
     "output_type": "stream",
     "text": [
      "Found cached dataset csv (/root/.cache/huggingface/datasets/knkarthick___csv/knkarthick--dialogsum-391706c81424fc80/0.0.0/6954658bab30a358235fa864b05cf819af0e179325c740e4bc853bcc7ec513e1)\n"
     ]
    },
    {
     "data": {
      "application/vnd.jupyter.widget-view+json": {
       "model_id": "",
       "version_major": 2,
       "version_minor": 0
      },
      "text/plain": [
       "Filter:   0%|          | 0/12460 [00:00<?, ? examples/s]"
      ]
     },
     "metadata": {},
     "output_type": "display_data"
    },
    {
     "data": {
      "application/vnd.jupyter.widget-view+json": {
       "model_id": "5f9346ee00b343f4bedcc7ce8653a5b4",
       "version_major": 2,
       "version_minor": 0
      },
      "text/plain": [
       "Downloading (…)okenizer_config.json:   0%|          | 0.00/2.54k [00:00<?, ?B/s]"
      ]
     },
     "metadata": {},
     "output_type": "display_data"
    },
    {
     "data": {
      "application/vnd.jupyter.widget-view+json": {
       "model_id": "ae6620142fe74e1283f385af0dd023ae",
       "version_major": 2,
       "version_minor": 0
      },
      "text/plain": [
       "Downloading spiece.model:   0%|          | 0.00/792k [00:00<?, ?B/s]"
      ]
     },
     "metadata": {},
     "output_type": "display_data"
    },
    {
     "data": {
      "application/vnd.jupyter.widget-view+json": {
       "model_id": "22e945a68db04bc9bbc8e7bb0b9079ed",
       "version_major": 2,
       "version_minor": 0
      },
      "text/plain": [
       "Downloading (…)/main/tokenizer.json:   0%|          | 0.00/2.42M [00:00<?, ?B/s]"
      ]
     },
     "metadata": {},
     "output_type": "display_data"
    },
    {
     "data": {
      "application/vnd.jupyter.widget-view+json": {
       "model_id": "10676f66b7f445fd8e6521e38da1b4d0",
       "version_major": 2,
       "version_minor": 0
      },
      "text/plain": [
       "Downloading (…)cial_tokens_map.json:   0%|          | 0.00/2.20k [00:00<?, ?B/s]"
      ]
     },
     "metadata": {},
     "output_type": "display_data"
    },
    {
     "data": {
      "application/vnd.jupyter.widget-view+json": {
       "model_id": "",
       "version_major": 2,
       "version_minor": 0
      },
      "text/plain": [
       "Map:   0%|          | 0/10022 [00:00<?, ? examples/s]"
      ]
     },
     "metadata": {},
     "output_type": "display_data"
    },
    {
     "name": "stdout",
     "output_type": "stream",
     "text": [
      "DatasetDict({\n",
      "    train: Dataset({\n",
      "        features: ['id', 'dialogue', 'summary', 'topic', 'input_ids', 'query'],\n",
      "        num_rows: 8017\n",
      "    })\n",
      "    test: Dataset({\n",
      "        features: ['id', 'dialogue', 'summary', 'topic', 'input_ids', 'query'],\n",
      "        num_rows: 2005\n",
      "    })\n",
      "})\n"
     ]
    }
   ],
   "source": [
    "def build_dataset(model_name,\n",
    "                  dataset_name,\n",
    "                  input_min_text_length, \n",
    "                  input_max_text_length):\n",
    "\n",
    "    \"\"\"\n",
    "    Preprocess the dataset and split it into train and test parts.\n",
    "\n",
    "    Parameters:\n",
    "    - model_name (str): Tokenizer model name.\n",
    "    - dataset_name (str): Name of the dataset to load.\n",
    "    - input_min_text_length (int): Minimum length of the dialogues.\n",
    "    - input_max_text_length (int): Maximum length of the dialogues.\n",
    "        \n",
    "    Returns:\n",
    "    - dataset_splits (datasets.dataset_dict.DatasetDict): Preprocessed dataset containing train and test parts.\n",
    "    \"\"\"\n",
    "    \n",
    "    # load dataset (only \"train\" part will be enough for this lab).\n",
    "    dataset = load_dataset(dataset_name, split=\"train\")\n",
    "    \n",
    "    # Filter the dialogues of length between input_min_text_length and input_max_text_length characters.\n",
    "    dataset = dataset.filter(lambda x: len(x[\"dialogue\"]) > input_min_text_length and len(x[\"dialogue\"]) <= input_max_text_length, batched=False)\n",
    "\n",
    "    # Prepare tokenizer. Setting device_map=\"auto\" allows to switch between GPU and CPU automatically.\n",
    "    tokenizer = AutoTokenizer.from_pretrained(model_name, device_map=\"auto\")\n",
    "    \n",
    "    def tokenize(sample):\n",
    "        \n",
    "        # Wrap each dialogue with the instruction.\n",
    "        prompt = f\"\"\"\n",
    "Summarize the following conversation.\n",
    "\n",
    "{sample[\"dialogue\"]}\n",
    "\n",
    "Summary:\n",
    "\"\"\"\n",
    "        sample[\"input_ids\"] = tokenizer.encode(prompt)\n",
    "        \n",
    "        # This must be called \"query\", which is a requirement of our PPO library.\n",
    "        sample[\"query\"] = tokenizer.decode(sample[\"input_ids\"])\n",
    "        return sample\n",
    "\n",
    "    # Tokenize each dialogue.\n",
    "    dataset = dataset.map(tokenize, batched=False)\n",
    "    dataset.set_format(type=\"torch\")\n",
    "    \n",
    "    # Split the dataset into train and test parts.\n",
    "    dataset_splits = dataset.train_test_split(test_size=0.2, shuffle=False, seed=42)\n",
    "\n",
    "    return dataset_splits\n",
    "\n",
    "dataset = build_dataset(model_name=model_name,\n",
    "                        dataset_name=huggingface_dataset_name,\n",
    "                        input_min_text_length=200, \n",
    "                        input_max_text_length=1000)\n",
    "\n",
    "print(dataset)"
   ]
  },
  {
   "cell_type": "markdown",
   "id": "7d03155e-649b-45bb-a5a0-94edd682c069",
   "metadata": {
    "tags": [],
    "pycharm": {
     "name": "#%% md\n"
    }
   },
   "source": [
    "In the previous lab, you fine-tuned the PEFT model with summarization instructions. The training in the notebook was done on a subset of data. Then you downloaded the checkpoint of the fully trained PEFT model from S3. \n",
    "\n",
    "Let's load the same model checkpoint here:"
   ]
  },
  {
   "cell_type": "code",
   "execution_count": 7,
   "id": "e1d44a53-ea1f-4fa5-89e7-d46e37d19935",
   "metadata": {
    "tags": [],
    "pycharm": {
     "name": "#%%\n"
    }
   },
   "outputs": [
    {
     "name": "stdout",
     "output_type": "stream",
     "text": [
      "download: s3://dlai-generative-ai/models/peft-dialogue-summary-checkpoint/special_tokens_map.json to peft-dialogue-summary-checkpoint-from-s3/special_tokens_map.json\n",
      "download: s3://dlai-generative-ai/models/peft-dialogue-summary-checkpoint/adapter_config.json to peft-dialogue-summary-checkpoint-from-s3/adapter_config.json\n",
      "download: s3://dlai-generative-ai/models/peft-dialogue-summary-checkpoint/tokenizer_config.json to peft-dialogue-summary-checkpoint-from-s3/tokenizer_config.json\n",
      "download: s3://dlai-generative-ai/models/peft-dialogue-summary-checkpoint/tokenizer.json to peft-dialogue-summary-checkpoint-from-s3/tokenizer.json\n",
      "download: s3://dlai-generative-ai/models/peft-dialogue-summary-checkpoint/adapter_model.bin to peft-dialogue-summary-checkpoint-from-s3/adapter_model.bin\n"
     ]
    }
   ],
   "source": [
    "!aws s3 cp --recursive s3://dlai-generative-ai/models/peft-dialogue-summary-checkpoint/ ./peft-dialogue-summary-checkpoint-from-s3/ "
   ]
  },
  {
   "cell_type": "markdown",
   "id": "dec8bea4-addd-4b29-b3af-6db6ea2baeb7",
   "metadata": {
    "tags": [],
    "pycharm": {
     "name": "#%% md\n"
    }
   },
   "source": [
    "List the model item and check its size (it's less than 15 Mb):"
   ]
  },
  {
   "cell_type": "code",
   "execution_count": 8,
   "id": "4288240d-764b-4c49-8df7-b30b9277adbd",
   "metadata": {
    "tags": [],
    "pycharm": {
     "name": "#%%\n"
    }
   },
   "outputs": [
    {
     "name": "stdout",
     "output_type": "stream",
     "text": [
      "-rw-r--r-- 1 root root 14M May 15 11:18 ./peft-dialogue-summary-checkpoint-from-s3/adapter_model.bin\n"
     ]
    }
   ],
   "source": [
    "!ls -alh ./peft-dialogue-summary-checkpoint-from-s3/adapter_model.bin"
   ]
  },
  {
   "cell_type": "markdown",
   "id": "f4226923-67c0-4ea6-8e47-030136b2f191",
   "metadata": {
    "pycharm": {
     "name": "#%% md\n"
    }
   },
   "source": [
    "Prepare a function to pull out the number of model parameters (it is the same as in the previous lab):"
   ]
  },
  {
   "cell_type": "code",
   "execution_count": 9,
   "id": "a1f06806-a194-4c14-b64d-e31afd7b658c",
   "metadata": {
    "tags": [],
    "pycharm": {
     "name": "#%%\n"
    }
   },
   "outputs": [],
   "source": [
    "def print_number_of_trainable_model_parameters(model):\n",
    "    trainable_model_params = 0\n",
    "    all_model_params = 0\n",
    "    for _, param in model.named_parameters():\n",
    "        all_model_params += param.numel()\n",
    "        if param.requires_grad:\n",
    "            trainable_model_params += param.numel()\n",
    "    return f\"\\ntrainable model parameters: {trainable_model_params}\\nall model parameters: {all_model_params}\\npercentage of trainable model parameters: {100 * trainable_model_params / all_model_params:.2f}%\""
   ]
  },
  {
   "cell_type": "markdown",
   "id": "21e06a57-fb80-4f8c-a967-4c7c42a7bfda",
   "metadata": {
    "tags": [],
    "pycharm": {
     "name": "#%% md\n"
    }
   },
   "source": [
    "Add the adapter to the original FLAN-T5 model. In the previous lab you were adding the fully trained adapter only for inferences, so there was no need to pass LoRA configurations doing that. Now you need to pass them to the constructed PEFT model, also putting `is_trainable=True`."
   ]
  },
  {
   "cell_type": "code",
   "execution_count": 10,
   "id": "a1a94b14-b375-45e7-9e49-a7f2c341b4ff",
   "metadata": {
    "tags": [],
    "pycharm": {
     "name": "#%%\n"
    }
   },
   "outputs": [
    {
     "data": {
      "application/vnd.jupyter.widget-view+json": {
       "model_id": "0029d6366cba49e78493b073bf842bb1",
       "version_major": 2,
       "version_minor": 0
      },
      "text/plain": [
       "Downloading (…)lve/main/config.json:   0%|          | 0.00/1.40k [00:00<?, ?B/s]"
      ]
     },
     "metadata": {},
     "output_type": "display_data"
    },
    {
     "data": {
      "application/vnd.jupyter.widget-view+json": {
       "model_id": "e3b3c4dc33d3417195317f7f7b849bb4",
       "version_major": 2,
       "version_minor": 0
      },
      "text/plain": [
       "Downloading pytorch_model.bin:   0%|          | 0.00/990M [00:00<?, ?B/s]"
      ]
     },
     "metadata": {},
     "output_type": "display_data"
    },
    {
     "data": {
      "application/vnd.jupyter.widget-view+json": {
       "model_id": "41b05d2b45a0419fb5f155f0f6b86628",
       "version_major": 2,
       "version_minor": 0
      },
      "text/plain": [
       "Downloading (…)neration_config.json:   0%|          | 0.00/147 [00:00<?, ?B/s]"
      ]
     },
     "metadata": {},
     "output_type": "display_data"
    },
    {
     "name": "stdout",
     "output_type": "stream",
     "text": [
      "PEFT model parameters to be updated:\n",
      "\n",
      "trainable model parameters: 3538944\n",
      "all model parameters: 251116800\n",
      "percentage of trainable model parameters: 1.41%\n",
      "\n"
     ]
    }
   ],
   "source": [
    "lora_config = LoraConfig(\n",
    "    r=32, # Rank\n",
    "    lora_alpha=32,\n",
    "    target_modules=[\"q\", \"v\"],\n",
    "    lora_dropout=0.05,\n",
    "    bias=\"none\",\n",
    "    task_type=TaskType.SEQ_2_SEQ_LM # FLAN-T5\n",
    ")\n",
    "\n",
    "model = AutoModelForSeq2SeqLM.from_pretrained(model_name, \n",
    "                                              torch_dtype=torch.bfloat16)\n",
    "\n",
    "peft_model = PeftModel.from_pretrained(model, \n",
    "                                       './peft-dialogue-summary-checkpoint-from-s3/', \n",
    "                                       lora_config=lora_config,\n",
    "                                       torch_dtype=torch.bfloat16, \n",
    "                                       device_map=\"auto\",                                       \n",
    "                                       is_trainable=True)\n",
    "\n",
    "print(f'PEFT model parameters to be updated:\\n{print_number_of_trainable_model_parameters(peft_model)}\\n')\n"
   ]
  },
  {
   "cell_type": "markdown",
   "id": "a950ae8a-76b9-4951-9c78-9ac7a6349e17",
   "metadata": {
    "pycharm": {
     "name": "#%% md\n"
    }
   },
   "source": [
    "In this lab, you are preparing to fine-tune the LLM using Reinforcement Learning (RL). RL will be briefly discussed in the next section of this lab, but at this stage, you just need to prepare the Proximal Policy Optimization (PPO) model passing the instruct-fine-tuned PEFT model to it. PPO will be used to optimize the RL policy against the reward model."
   ]
  },
  {
   "cell_type": "code",
   "execution_count": 11,
   "id": "1e86bab0-6dee-4dff-a754-b584ed962723",
   "metadata": {
    "tags": [],
    "pycharm": {
     "name": "#%%\n"
    }
   },
   "outputs": [
    {
     "name": "stdout",
     "output_type": "stream",
     "text": [
      "PPO model parameters to be updated (ValueHead + 769 params):\n",
      "\n",
      "trainable model parameters: 3539713\n",
      "all model parameters: 251117569\n",
      "percentage of trainable model parameters: 1.41%\n",
      "\n",
      "ValueHead(\n",
      "  (dropout): Dropout(p=0.1, inplace=False)\n",
      "  (summary): Linear(in_features=768, out_features=1, bias=True)\n",
      "  (flatten): Flatten(start_dim=1, end_dim=-1)\n",
      ")\n"
     ]
    }
   ],
   "source": [
    "ppo_model = AutoModelForSeq2SeqLMWithValueHead.from_pretrained(peft_model,                                                               \n",
    "                                                               torch_dtype=torch.bfloat16,\n",
    "                                                               is_trainable=True)\n",
    "\n",
    "print(f'PPO model parameters to be updated (ValueHead + 769 params):\\n{print_number_of_trainable_model_parameters(ppo_model)}\\n')\n",
    "print(ppo_model.v_head)"
   ]
  },
  {
   "cell_type": "markdown",
   "id": "2913ef05-737e-4cdf-9bac-467ee6cf9f76",
   "metadata": {
    "pycharm": {
     "name": "#%% md\n"
    }
   },
   "source": [
    "During PPO, only a few parameters will be updated. Specifically, the parameters of the `ValueHead`. More information about this class of models can be found in the [documentation](https://huggingface.co/docs/trl/main/en/models#trl.create_reference_model). The number of trainable parameters can be computed as $(n+1)*m$, where $n$ is the number of input units (here $n=768$) and $m$ is the number of output units (you have $m=1$). The $+1$ term in the equation takes into account the bias term."
   ]
  },
  {
   "cell_type": "markdown",
   "id": "76c7e2df-0c75-4bd0-bf8d-1f1545ef864e",
   "metadata": {
    "pycharm": {
     "name": "#%% md\n"
    }
   },
   "source": [
    "Now create a frozen copy of the PPO which will not be fine-tuned - a reference model. The reference model will represent the LLM before detoxification. None of the parameters of the reference model will be updated during PPO training. This is on purpose."
   ]
  },
  {
   "cell_type": "code",
   "execution_count": 12,
   "id": "18a9b30a-ad14-4189-8088-d4de447fe247",
   "metadata": {
    "tags": [],
    "pycharm": {
     "name": "#%%\n"
    }
   },
   "outputs": [
    {
     "name": "stdout",
     "output_type": "stream",
     "text": [
      "Reference model parameters to be updated:\n",
      "\n",
      "trainable model parameters: 0\n",
      "all model parameters: 251117569\n",
      "percentage of trainable model parameters: 0.00%\n",
      "\n"
     ]
    }
   ],
   "source": [
    "ref_model = create_reference_model(ppo_model)\n",
    "\n",
    "print(f'Reference model parameters to be updated:\\n{print_number_of_trainable_model_parameters(ref_model)}\\n')"
   ]
  },
  {
   "cell_type": "markdown",
   "id": "e3a14848-e83d-4fdd-bc68-eb770c5951d7",
   "metadata": {
    "tags": [],
    "pycharm": {
     "name": "#%% md\n"
    }
   },
   "source": [
    "Everything is set. It is time to prepare the reward model!"
   ]
  },
  {
   "cell_type": "markdown",
   "id": "4bfdf1f7-3509-4adc-812a-2b22bd330137",
   "metadata": {
    "pycharm": {
     "name": "#%% md\n"
    }
   },
   "source": [
    "<a name='2.2'></a>\n",
    "### 2.2 - Prepare Reward Model\n",
    "\n",
    "**Reinforcement Learning (RL)** is one type of machine learning where agents take actions in an environment aimed at maximizing their cumulative rewards. The agent's behavior is defined by the **policy**. And the goal of reinforcement learning is for the agent to learn an optimal, or nearly-optimal, policy that maximizes the **reward function**. \n",
    "\n",
    "In the [previous section](#2.1) the original policy is based on the instruct PEFT model - this is the LLM before detoxification. Then you could ask human labelers to give feedback on the outputs' toxicity. However, it can be expensive to use them for the entire fine-tuning process. A practical way to avoid that is to use a reward model encouraging the agent to detoxify the dialogue summaries. The intuitive approach would be to do some form of sentiment analysis across two classes (`nothate` and `hate`) and give a higher reward if there is higher a chance of getting class `nothate` as an output. \n",
    "\n",
    "For example, we can mention that having human labelers for the entire finetuning process can be expensive. A practical way to avoid that is to use a reward model.\n",
    "\n",
    "use feedback generated by a model\n",
    "\n",
    "You will use [Meta AI's RoBERTa-based hate speech model](https://huggingface.co/facebook/roberta-hate-speech-dynabench-r4-target) for the reward model. This model will output **logits** and then predict probabilities across two classes: `nothate` and `hate`. The logits of the output `nothate` will be taken as a positive reward. Then, the model will be fine-tuned with PPO using those reward values.\n",
    "\n",
    "Create the instance of the required model class for the RoBERTa model. You also need to load a tokenizer to test the model. Notice that the model label `0` will correspond to the class `nothate` and label `1` to the class `hate`."
   ]
  },
  {
   "cell_type": "code",
   "execution_count": 13,
   "id": "7f038a9f-e04b-49bc-8923-8ef3816919ee",
   "metadata": {
    "tags": [],
    "pycharm": {
     "name": "#%%\n"
    }
   },
   "outputs": [
    {
     "data": {
      "application/vnd.jupyter.widget-view+json": {
       "model_id": "891fb95bcd7940d19eb3eae6afea609e",
       "version_major": 2,
       "version_minor": 0
      },
      "text/plain": [
       "Downloading (…)okenizer_config.json:   0%|          | 0.00/1.11k [00:00<?, ?B/s]"
      ]
     },
     "metadata": {},
     "output_type": "display_data"
    },
    {
     "data": {
      "application/vnd.jupyter.widget-view+json": {
       "model_id": "155d14b99174473b843a83c807eb6194",
       "version_major": 2,
       "version_minor": 0
      },
      "text/plain": [
       "Downloading (…)olve/main/vocab.json:   0%|          | 0.00/899k [00:00<?, ?B/s]"
      ]
     },
     "metadata": {},
     "output_type": "display_data"
    },
    {
     "data": {
      "application/vnd.jupyter.widget-view+json": {
       "model_id": "fda18cb88ef14ed18eb073fb8420fb72",
       "version_major": 2,
       "version_minor": 0
      },
      "text/plain": [
       "Downloading (…)olve/main/merges.txt:   0%|          | 0.00/456k [00:00<?, ?B/s]"
      ]
     },
     "metadata": {},
     "output_type": "display_data"
    },
    {
     "data": {
      "application/vnd.jupyter.widget-view+json": {
       "model_id": "14e36cb4a9fe4bc0b55d5cd53a1e82e2",
       "version_major": 2,
       "version_minor": 0
      },
      "text/plain": [
       "Downloading (…)cial_tokens_map.json:   0%|          | 0.00/239 [00:00<?, ?B/s]"
      ]
     },
     "metadata": {},
     "output_type": "display_data"
    },
    {
     "data": {
      "application/vnd.jupyter.widget-view+json": {
       "model_id": "bd1fb670950645649eb3a0807af142d3",
       "version_major": 2,
       "version_minor": 0
      },
      "text/plain": [
       "Downloading (…)lve/main/config.json:   0%|          | 0.00/816 [00:00<?, ?B/s]"
      ]
     },
     "metadata": {},
     "output_type": "display_data"
    },
    {
     "data": {
      "application/vnd.jupyter.widget-view+json": {
       "model_id": "e6a1c924f09347dabd7e7c690ec00e91",
       "version_major": 2,
       "version_minor": 0
      },
      "text/plain": [
       "Downloading pytorch_model.bin:   0%|          | 0.00/499M [00:00<?, ?B/s]"
      ]
     },
     "metadata": {},
     "output_type": "display_data"
    },
    {
     "name": "stderr",
     "output_type": "stream",
     "text": [
      "The model weights are not tied. Please use the `tie_weights` method before using the `infer_auto_device` function.\n"
     ]
    },
    {
     "name": "stdout",
     "output_type": "stream",
     "text": [
      "{0: 'nothate', 1: 'hate'}\n"
     ]
    }
   ],
   "source": [
    "toxicity_model_name = \"facebook/roberta-hate-speech-dynabench-r4-target\"\n",
    "toxicity_tokenizer = AutoTokenizer.from_pretrained(toxicity_model_name, device_map=\"auto\")\n",
    "toxicity_model = AutoModelForSequenceClassification.from_pretrained(toxicity_model_name, device_map=\"auto\")\n",
    "print(toxicity_model.config.id2label)"
   ]
  },
  {
   "cell_type": "markdown",
   "id": "79d68799-a6e8-42d7-8d61-002e47210c18",
   "metadata": {
    "tags": [],
    "pycharm": {
     "name": "#%% md\n"
    }
   },
   "source": [
    "Take some non-toxic text, tokenize it, and pass it to the model. Print the output logits, probabilities, and the corresponding reward that will be used for fine-tuning."
   ]
  },
  {
   "cell_type": "code",
   "execution_count": 14,
   "id": "8f4e6a05-2398-4ca7-a176-d5a1ff27fe39",
   "metadata": {
    "tags": [],
    "pycharm": {
     "name": "#%%\n"
    }
   },
   "outputs": [
    {
     "name": "stdout",
     "output_type": "stream",
     "text": [
      "logits [not hate, hate]: [3.114100694656372, -2.4896175861358643]\n",
      "probabilities [not hate, hate]: [0.9963293671607971, 0.003670616541057825]\n",
      "reward (high): [3.114100694656372]\n"
     ]
    }
   ],
   "source": [
    "non_toxic_text = \"#Person 1# tells Tommy that he didn't like the movie.\"\n",
    "\n",
    "toxicity_input_ids = toxicity_tokenizer(non_toxic_text, return_tensors=\"pt\").input_ids\n",
    "\n",
    "logits = toxicity_model(input_ids=toxicity_input_ids).logits\n",
    "print(f'logits [not hate, hate]: {logits.tolist()[0]}')\n",
    "\n",
    "# Print the probabilities for [not hate, hate]\n",
    "probabilities = logits.softmax(dim=-1).tolist()[0]\n",
    "print(f'probabilities [not hate, hate]: {probabilities}')\n",
    "\n",
    "# get the logits for \"not hate\" - this is the reward!\n",
    "not_hate_index = 0\n",
    "nothate_reward = (logits[:, not_hate_index]).tolist()\n",
    "print(f'reward (high): {nothate_reward}')"
   ]
  },
  {
   "cell_type": "markdown",
   "id": "63f729c5-98c3-4745-96e8-3484670215db",
   "metadata": {
    "pycharm": {
     "name": "#%% md\n"
    }
   },
   "source": [
    "Let's show a toxic comment.  This will have a low reward because it is more toxic."
   ]
  },
  {
   "cell_type": "code",
   "execution_count": 15,
   "id": "0ffc81e4-b220-4f4e-95ec-98ac418612d1",
   "metadata": {
    "tags": [],
    "pycharm": {
     "name": "#%%\n"
    }
   },
   "outputs": [
    {
     "name": "stdout",
     "output_type": "stream",
     "text": [
      "logits [not hate, hate]: [-0.6921188831329346, 0.3722729980945587]\n",
      "probabilities [not hate, hate]: [0.25647106766700745, 0.7435289621353149]\n",
      "reward (low): [-0.6921188831329346]\n"
     ]
    }
   ],
   "source": [
    "toxic_text = \"#Person 1# tells Tommy that the movie was terrible, dumb and stupid.\"\n",
    "\n",
    "toxicity_input_ids = toxicity_tokenizer(toxic_text, return_tensors=\"pt\").input_ids\n",
    "\n",
    "logits = toxicity_model(toxicity_input_ids).logits\n",
    "print(f'logits [not hate, hate]: {logits.tolist()[0]}')\n",
    "\n",
    "# Print the probabilities for [not hate, hate]\n",
    "probabilities = logits.softmax(dim=-1).tolist()[0]\n",
    "print(f'probabilities [not hate, hate]: {probabilities}')\n",
    "\n",
    "# Get the logits for \"not hate\" - this is the reward!\n",
    "nothate_reward = (logits[:, not_hate_index]).tolist() \n",
    "print(f'reward (low): {nothate_reward}')"
   ]
  },
  {
   "cell_type": "markdown",
   "id": "bc6e656e-fefe-4623-8bbb-472a8cf1c3c5",
   "metadata": {
    "pycharm": {
     "name": "#%% md\n"
    }
   },
   "source": [
    "Setup Hugging Face inference pipeline to simplify the code for the toxicity reward model:"
   ]
  },
  {
   "cell_type": "code",
   "execution_count": 16,
   "id": "73aab8c6-33eb-4bf4-a816-3866fc3460af",
   "metadata": {
    "tags": [],
    "pycharm": {
     "name": "#%%\n"
    }
   },
   "outputs": [
    {
     "name": "stdout",
     "output_type": "stream",
     "text": [
      "Reward model output:\n",
      "For non-toxic text\n",
      "[{'label': 'nothate', 'score': 3.114100694656372}, {'label': 'hate', 'score': -2.4896175861358643}]\n",
      "[{'label': 'nothate', 'score': 0.9963293671607971}, {'label': 'hate', 'score': 0.003670616541057825}]\n",
      "For toxic text\n",
      "[{'label': 'hate', 'score': 0.3722729980945587}, {'label': 'nothate', 'score': -0.6921188831329346}]\n",
      "[{'label': 'hate', 'score': 0.7435289621353149}, {'label': 'nothate', 'score': 0.25647106766700745}]\n"
     ]
    }
   ],
   "source": [
    "device = 0 if torch.cuda.is_available() else \"cpu\"\n",
    "\n",
    "sentiment_pipe = pipeline(\"sentiment-analysis\", \n",
    "                          model=toxicity_model_name, \n",
    "                          device=device)\n",
    "reward_logits_kwargs = {\n",
    "    \"top_k\": None, # Return all scores.\n",
    "    \"function_to_apply\": \"none\", # Set to \"none\" to retrieve raw logits.\n",
    "    \"batch_size\": 16\n",
    "}\n",
    "\n",
    "reward_probabilities_kwargs = {\n",
    "    \"top_k\": None, # Return all scores.\n",
    "    \"function_to_apply\": \"softmax\", # Set to \"softmax\" to apply softmax and retrieve probabilities.\n",
    "    \"batch_size\": 16\n",
    "}\n",
    "\n",
    "print(\"Reward model output:\")\n",
    "print(\"For non-toxic text\")\n",
    "print(sentiment_pipe(non_toxic_text, **reward_logits_kwargs))\n",
    "print(sentiment_pipe(non_toxic_text, **reward_probabilities_kwargs))\n",
    "print(\"For toxic text\")\n",
    "print(sentiment_pipe(toxic_text, **reward_logits_kwargs))\n",
    "print(sentiment_pipe(toxic_text, **reward_probabilities_kwargs))"
   ]
  },
  {
   "cell_type": "markdown",
   "id": "21302d74-59d8-451f-b287-e86245bf3324",
   "metadata": {
    "pycharm": {
     "name": "#%% md\n"
    }
   },
   "source": [
    "The outputs are the logits for both `nothate` (positive) and `hate` (negative) classes. But PPO will be using logits only of the `nothate` class as the positive reward signal used to help detoxify the LLM outputs."
   ]
  },
  {
   "cell_type": "code",
   "execution_count": 17,
   "id": "36ff3925-70c4-495c-ae26-68e2fc36296b",
   "metadata": {
    "tags": [],
    "pycharm": {
     "name": "#%%\n"
    }
   },
   "outputs": [
    {
     "name": "stdout",
     "output_type": "stream",
     "text": [
      "[{'label': 'nothate', 'score': 3.114100694656372}, {'label': 'hate', 'score': -2.4896175861358643}]\n",
      "[{'label': 'nothate', 'score': 0.9963293671607971}, {'label': 'hate', 'score': 0.003670616541057825}]\n"
     ]
    }
   ],
   "source": [
    "print(sentiment_pipe(non_toxic_text, **reward_logits_kwargs))\n",
    "print(sentiment_pipe(non_toxic_text, **reward_probabilities_kwargs))"
   ]
  },
  {
   "cell_type": "code",
   "execution_count": 18,
   "id": "8d11618b-5887-489a-b390-2139e364987f",
   "metadata": {
    "tags": [],
    "pycharm": {
     "name": "#%%\n"
    }
   },
   "outputs": [
    {
     "name": "stdout",
     "output_type": "stream",
     "text": [
      "[{'label': 'hate', 'score': 0.3722729980945587}, {'label': 'nothate', 'score': -0.6921188831329346}]\n",
      "[{'label': 'hate', 'score': 0.7435289621353149}, {'label': 'nothate', 'score': 0.25647106766700745}]\n"
     ]
    }
   ],
   "source": [
    "print(sentiment_pipe(toxic_text, **reward_logits_kwargs))\n",
    "print(sentiment_pipe(toxic_text, **reward_probabilities_kwargs))"
   ]
  },
  {
   "cell_type": "markdown",
   "id": "56513033-9bb1-41d5-81e2-54d1249c5c89",
   "metadata": {
    "tags": [],
    "pycharm": {
     "name": "#%% md\n"
    }
   },
   "source": [
    "<a name='2.3'></a>\n",
    "### 2.3 - Evaluate Toxicity\n",
    "\n",
    "To evaluate the model before and after fine-tuning/detoxification you need to set up the [toxicity evaluation metric](https://huggingface.co/spaces/evaluate-measurement/toxicity). The **toxicity score** is a decimal value between 0 and 1 where 1 is the highest toxicity."
   ]
  },
  {
   "cell_type": "code",
   "execution_count": 19,
   "id": "7de8e99d-60ea-48a2-bdf5-817f80b48979",
   "metadata": {
    "tags": [],
    "pycharm": {
     "name": "#%%\n"
    }
   },
   "outputs": [
    {
     "data": {
      "application/vnd.jupyter.widget-view+json": {
       "model_id": "9d2d3c6764884654ae8282a48dee5951",
       "version_major": 2,
       "version_minor": 0
      },
      "text/plain": [
       "Downloading builder script:   0%|          | 0.00/6.08k [00:00<?, ?B/s]"
      ]
     },
     "metadata": {},
     "output_type": "display_data"
    }
   ],
   "source": [
    "toxicity_evaluator = evaluate.load(\"toxicity\", \n",
    "                                    toxicity_model_name,\n",
    "                                    module_type=\"measurement\",\n",
    "                                    toxic_label=\"hate\")"
   ]
  },
  {
   "cell_type": "markdown",
   "id": "840fbc47-c5c2-469a-b5f2-6407e8f0bfde",
   "metadata": {
    "tags": [],
    "pycharm": {
     "name": "#%% md\n"
    }
   },
   "source": [
    "Try to calculate toxicity for the same sentences as in section [2.2](#2.2). It's no surprise that the toxicity scores are the probabilities of `hate` class returned directly from the reward model."
   ]
  },
  {
   "cell_type": "code",
   "execution_count": 20,
   "id": "5298f91c-30d1-4d17-95a7-553952ac97b5",
   "metadata": {
    "tags": [],
    "pycharm": {
     "name": "#%%\n"
    }
   },
   "outputs": [
    {
     "name": "stdout",
     "output_type": "stream",
     "text": [
      "Toxicity score for non-toxic text:\n",
      "[0.003670616541057825]\n",
      "\n",
      "Toxicity score for toxic text:\n",
      "[0.7435289621353149]\n"
     ]
    }
   ],
   "source": [
    "toxicity_score = toxicity_evaluator.compute(predictions=[\n",
    "    non_toxic_text\n",
    "])\n",
    "\n",
    "print(\"Toxicity score for non-toxic text:\")\n",
    "print(toxicity_score[\"toxicity\"])\n",
    "\n",
    "toxicity_score = toxicity_evaluator.compute(predictions=[\n",
    "    toxic_text\n",
    "])\n",
    "\n",
    "print(\"\\nToxicity score for toxic text:\")\n",
    "print(toxicity_score[\"toxicity\"])"
   ]
  },
  {
   "cell_type": "markdown",
   "id": "7d3e835b-14b9-4646-b1c9-c975ef3ea944",
   "metadata": {
    "tags": [],
    "pycharm": {
     "name": "#%% md\n"
    }
   },
   "source": [
    "This evaluator can be used to compute the toxicity of the dialogues prepared in section [2.1](#2.1). You will need to pass the test dataset (`dataset[\"test\"]`), the same tokenizer which was used in that section, the frozen PEFT model prepared in section [2.2](#2.2), and the toxicity evaluator. It is convenient to wrap the required steps in the function `evaluate_toxicity`. "
   ]
  },
  {
   "cell_type": "code",
   "execution_count": 21,
   "id": "316ab128-33ff-4a1e-8936-47bfa29d48a3",
   "metadata": {
    "tags": [],
    "pycharm": {
     "name": "#%%\n"
    }
   },
   "outputs": [],
   "source": [
    "def evaluate_toxicity(model, \n",
    "                      toxicity_evaluator, \n",
    "                      tokenizer, \n",
    "                      dataset, \n",
    "                      num_samples):\n",
    "    \n",
    "    \"\"\"\n",
    "    Preprocess the dataset and split it into train and test parts.\n",
    "\n",
    "    Parameters:\n",
    "    - model (trl model): Model to be evaluated.\n",
    "    - toxicity_evaluator (evaluate_modules toxicity metrics): Toxicity evaluator.\n",
    "    - tokenizer (transformers tokenizer): Tokenizer to be used.\n",
    "    - dataset (dataset): Input dataset for the evaluation.\n",
    "    - num_samples (int): Maximum number of samples for the evaluation.\n",
    "        \n",
    "    Returns:\n",
    "    tuple: A tuple containing two numpy.float64 values:\n",
    "    - mean (numpy.float64): Mean of the samples toxicity.\n",
    "    - std (numpy.float64): Standard deviation of the samples toxicity.\n",
    "    \"\"\"\n",
    "\n",
    "    max_new_tokens=100\n",
    "\n",
    "    toxicities = []\n",
    "    input_texts = []\n",
    "    for i, sample in tqdm(enumerate(dataset)):\n",
    "        input_text = sample[\"query\"]\n",
    "\n",
    "        if i > num_samples:\n",
    "            break\n",
    "            \n",
    "        input_ids = tokenizer(input_text, return_tensors=\"pt\", padding=True).input_ids\n",
    "        \n",
    "        generation_config = GenerationConfig(max_new_tokens=max_new_tokens,\n",
    "                                             tok_k=0.0,\n",
    "                                             top_p=1.0,\n",
    "                                             do_sample=True)\n",
    "\n",
    "        response_token_ids = model.generate(input_ids=input_ids,\n",
    "                                            generation_config=generation_config)\n",
    "        \n",
    "        generated_text = tokenizer.decode(response_token_ids[0], skip_special_tokens=True)\n",
    "        \n",
    "        toxicity_score = toxicity_evaluator.compute(predictions=[(input_text + \" \" + generated_text)])\n",
    "\n",
    "        toxicities.extend(toxicity_score[\"toxicity\"])\n",
    "\n",
    "    # Compute mean & std using np.\n",
    "    mean = np.mean(toxicities)\n",
    "    std = np.std(toxicities)\n",
    "        \n",
    "    return mean, std"
   ]
  },
  {
   "cell_type": "markdown",
   "id": "aed269c3-dbd7-4d45-bc44-c6ab6d4ae141",
   "metadata": {
    "tags": [],
    "pycharm": {
     "name": "#%% md\n"
    }
   },
   "source": [
    "And now perform the calculation of the model toxicity before fine-tuning/detoxification:"
   ]
  },
  {
   "cell_type": "code",
   "execution_count": 22,
   "id": "c11ede15-dc1a-4a7e-a60d-b9cadfc7d876",
   "metadata": {
    "tags": [],
    "pycharm": {
     "name": "#%%\n"
    }
   },
   "outputs": [
    {
     "name": "stderr",
     "output_type": "stream",
     "text": [
      "11it [00:23,  2.13s/it]"
     ]
    },
    {
     "name": "stdout",
     "output_type": "stream",
     "text": [
      "toxicity [mean, std] before detox: [0.03781279208752411, 0.04760645442595305]\n"
     ]
    },
    {
     "name": "stderr",
     "output_type": "stream",
     "text": [
      "\n"
     ]
    }
   ],
   "source": [
    "tokenizer = AutoTokenizer.from_pretrained(model_name, device_map=\"auto\")\n",
    "\n",
    "mean_before_detoxification, std_before_detoxification = evaluate_toxicity(model=ref_model, \n",
    "                                                                          toxicity_evaluator=toxicity_evaluator, \n",
    "                                                                          tokenizer=tokenizer, \n",
    "                                                                          dataset=dataset[\"test\"], \n",
    "                                                                          num_samples=10)\n",
    "\n",
    "print(f'toxicity [mean, std] before detox: [{mean_before_detoxification}, {std_before_detoxification}]')"
   ]
  },
  {
   "cell_type": "markdown",
   "id": "1ba81c90-1ac8-4403-ac1a-d4c75c6df4f0",
   "metadata": {
    "pycharm": {
     "name": "#%% md\n"
    }
   },
   "source": [
    "<a name='3'></a>\n",
    "## 3 - Perform Fine-Tuning to Detoxify the Summaries\n",
    "Optimize a RL policy against the reward model using Proximal Policy Optimization (PPO)."
   ]
  },
  {
   "cell_type": "markdown",
   "id": "5516e318-8fce-4ca7-bf19-b7baf5255480",
   "metadata": {
    "pycharm": {
     "name": "#%% md\n"
    }
   },
   "source": [
    "<a name='3.1'></a>\n",
    "### 3.1 - Initialize `PPOTrainer`\n",
    " \n",
    "For the `PPOTrainer` initialization, you will need a collator. Here it will be a function transforming the dictionaries in a particular way. You can define and test it:"
   ]
  },
  {
   "cell_type": "code",
   "execution_count": 23,
   "id": "8b7be1c0-382a-4fe2-8174-470f3e333e84",
   "metadata": {
    "tags": [],
    "pycharm": {
     "name": "#%%\n"
    }
   },
   "outputs": [
    {
     "name": "stdout",
     "output_type": "stream",
     "text": [
      "Collator input: [{'key1': 'value1', 'key2': 'value2', 'key3': 'value3'}]\n",
      "Collator output: {'key1': ['value1'], 'key2': ['value2'], 'key3': ['value3']}\n"
     ]
    }
   ],
   "source": [
    "def collator(data):\n",
    "    return dict((key, [d[key] for d in data]) for key in data[0])\n",
    "\n",
    "test_data = [{\"key1\": \"value1\", \"key2\": \"value2\", \"key3\": \"value3\"}]\n",
    "print(f'Collator input: {test_data}')\n",
    "print(f'Collator output: {collator(test_data)}')"
   ]
  },
  {
   "cell_type": "markdown",
   "id": "080c2e92-4988-4944-8353-0e1bb2048072",
   "metadata": {
    "pycharm": {
     "name": "#%% md\n"
    }
   },
   "source": [
    "Set up the configuration parameters. Load the `ppo_model` and the tokenizer. You will also load a frozen version of the model `ref_model`. The first model is optimized while the second model serves as a reference to calculate the KL-divergence from the starting point. This works as an additional reward signal in the PPO training to make sure the optimized model does not deviate too much from the original LLM."
   ]
  },
  {
   "cell_type": "code",
   "execution_count": 24,
   "id": "494e09a1-9024-4f38-91eb-d73cdc3239e6",
   "metadata": {
    "tags": [],
    "pycharm": {
     "name": "#%%\n"
    }
   },
   "outputs": [],
   "source": [
    "learning_rate=1.41e-5\n",
    "max_ppo_epochs=1\n",
    "mini_batch_size=4\n",
    "batch_size=16\n",
    "\n",
    "config = PPOConfig(\n",
    "    model_name=model_name,    \n",
    "    learning_rate=learning_rate,\n",
    "    ppo_epochs=max_ppo_epochs,\n",
    "    mini_batch_size=mini_batch_size,\n",
    "    batch_size=batch_size\n",
    ")\n",
    "\n",
    "ppo_trainer = PPOTrainer(config=config, \n",
    "                         model=ppo_model, \n",
    "                         ref_model=ref_model, \n",
    "                         tokenizer=tokenizer, \n",
    "                         dataset=dataset[\"train\"], \n",
    "                         data_collator=collator)"
   ]
  },
  {
   "cell_type": "markdown",
   "id": "7ad77d2c-3800-4e15-bb38-3851d94ad374",
   "metadata": {
    "pycharm": {
     "name": "#%% md\n"
    }
   },
   "source": [
    "<a name='3.2'></a>\n",
    "### 3.2 - Fine-Tune the Model"
   ]
  },
  {
   "cell_type": "markdown",
   "id": "0cac21fb-fea5-4e80-a741-87f35ae72c62",
   "metadata": {
    "pycharm": {
     "name": "#%% md\n"
    }
   },
   "source": [
    "The fine-tuning loop consists of the following main steps:\n",
    "1. Get the query responses from the policy LLM (PEFT model).\n",
    "2. Get sentiments for query/responses from hate speech RoBERTa model.\n",
    "3. Optimize policy with PPO using the (query, response, reward) triplet.\n",
    "\n",
    "The operation is running if you see the following metrics appearing:\n",
    "* `objective/kl`: minimize kl divergence,\n",
    "* `ppo/returns/mean`: maximize mean returns,\n",
    "* `ppo/policy/advantages_mean`: maximize advantages."
   ]
  },
  {
   "cell_type": "markdown",
   "id": "01536b7e-2f0f-4986-a97c-6ecfabf518d4",
   "metadata": {
    "tags": [],
    "pycharm": {
     "name": "#%% md\n"
    }
   },
   "source": [
    "<img src=\"data:image/svg+xml;base64,Cjxzdmcgd2lkdGg9IjgwMCIgaGVpZ2h0PSIxMjUiIHZpZXdCb3g9IjAgMCA4MDAgMTI1IiB4bWxucz0iaHR0cDovL3d3dy53My5vcmcvMjAwMC9zdmciPgogICAgPGRlZnM+CiAgICAgICAgPGxpbmVhckdyYWRpZW50IGlkPSJmYWRlR3JhZGllbnQiIHgxPSIwIiB4Mj0iMSI+CiAgICAgICAgICAgIDxzdG9wIG9mZnNldD0iMCUiIHN0b3AtY29sb3I9IiNGMEYwRjAiLz4KICAgICAgICAgICAgPHN0b3Agb2Zmc2V0PSIxMDAlIiBzdG9wLWNvbG9yPSIjRjBGMEYwIiBzdG9wLW9wYWNpdHk9IjAiLz4KICAgICAgICA8L2xpbmVhckdyYWRpZW50PgogICAgICAgIDxtYXNrIGlkPSJmYWRlTWFzayI+CiAgICAgICAgICAgIDxyZWN0IHg9IjAiIHk9IjAiIHdpZHRoPSI3NTAiIGhlaWdodD0iMTI1IiBmaWxsPSJ3aGl0ZSIvPgogICAgICAgICAgICA8cmVjdCB4PSI3NTAiIHk9IjAiIHdpZHRoPSI1MCIgaGVpZ2h0PSIxMjUiIGZpbGw9InVybCgjZmFkZUdyYWRpZW50KSIvPgogICAgICAgIDwvbWFzaz4KICAgIDwvZGVmcz4KICAgIDxwYXRoIGQ9Ik0zLDUwIEE1MCw1MCAwIDAgMSA1MywzIEw3OTcsMyBMNzk3LDk3IEw5Nyw5NyBMNTAsMTE1IEwzLDk3IFoiIGZpbGw9IiNGMEYwRjAiIHN0cm9rZT0iI0UwRTBFMCIgc3Ryb2tlLXdpZHRoPSIxIiBtYXNrPSJ1cmwoI2ZhZGVNYXNrKSIvPgogICAgPGNpcmNsZSBjeD0iNTAiIGN5PSI1MCIgcj0iMzAiIGZpbGw9IiM1N2M0ZjgiIHN0cm9rZT0iIzU3YzRmOCIgc3Ryb2tlLXdpZHRoPSIxIi8+CiAgICA8Y2lyY2xlIGN4PSI1MCIgY3k9IjUwIiByPSIyNSIgZmlsbD0iI0YwRjBGMCIvPgogICAgPGxpbmUgeDE9IjUwIiB5MT0iNTAiIHgyPSI1MCIgeTI9IjMwIiBzdHJva2U9IiM1N2M0ZjgiIHN0cm9rZS13aWR0aD0iMyIgc3Ryb2tlLWxpbmVjYXA9InJvdW5kIi8+CiAgICA8bGluZSB4MT0iNTAiIHkxPSI1MCIgeDI9IjY1IiB5Mj0iNTAiIHN0cm9rZT0iIzU3YzRmOCIgc3Ryb2tlLXdpZHRoPSIzIiBzdHJva2UtbGluZWNhcD0icm91bmQiLz4KICAgIDx0ZXh0IHg9IjEwMCIgeT0iMzQiIGZvbnQtZmFtaWx5PSJBcmlhbCwgc2Fucy1zZXJpZiIgZm9udC1zaXplPSIxNCIgZmlsbD0iIzMzMzMzMyI+VGhlIG5leHQgY2VsbCBtYXkgdGFrZSAyMC0zMCBtaW51dGVzIHRvIHJ1bi48L3RleHQ+Cjwvc3ZnPgo=\" alt=\"Time alert open medium\"/>"
   ]
  },
  {
   "cell_type": "code",
   "execution_count": 25,
   "id": "4bc55397-92b8-4f61-9ec2-c8b39d5f8962",
   "metadata": {
    "tags": [],
    "pycharm": {
     "name": "#%%\n"
    }
   },
   "outputs": [
    {
     "name": "stderr",
     "output_type": "stream",
     "text": [
      "0it [00:00, ?it/s]You're using a T5TokenizerFast tokenizer. Please note that with a fast tokenizer, using the `__call__` method is faster than using a method to encode the text followed by a call to the `pad` method to get a padded encoding.\n",
      "1it [01:43, 103.15s/it]"
     ]
    },
    {
     "name": "stdout",
     "output_type": "stream",
     "text": [
      "objective/kl: 29.314075469970703\n",
      "ppo/returns/mean: -0.647051215171814\n",
      "ppo/policy/advantages_mean: -1.247149938876646e-08\n",
      "---------------------------------------------------------------------------------------------------\n"
     ]
    },
    {
     "name": "stderr",
     "output_type": "stream",
     "text": [
      "2it [03:21, 100.38s/it]"
     ]
    },
    {
     "name": "stdout",
     "output_type": "stream",
     "text": [
      "objective/kl: 32.775325775146484\n",
      "ppo/returns/mean: -0.8845516443252563\n",
      "ppo/policy/advantages_mean: -1.4181844143479339e-08\n",
      "---------------------------------------------------------------------------------------------------\n"
     ]
    },
    {
     "name": "stderr",
     "output_type": "stream",
     "text": [
      "3it [04:57, 98.48s/it] "
     ]
    },
    {
     "name": "stdout",
     "output_type": "stream",
     "text": [
      "objective/kl: 28.82436752319336\n",
      "ppo/returns/mean: -0.5855020880699158\n",
      "ppo/policy/advantages_mean: -1.795583237651499e-09\n",
      "---------------------------------------------------------------------------------------------------\n"
     ]
    },
    {
     "name": "stderr",
     "output_type": "stream",
     "text": [
      "4it [06:20, 92.35s/it]"
     ]
    },
    {
     "name": "stdout",
     "output_type": "stream",
     "text": [
      "objective/kl: 25.769107818603516\n",
      "ppo/returns/mean: -0.472482293844223\n",
      "ppo/policy/advantages_mean: 1.0092433555541902e-09\n",
      "---------------------------------------------------------------------------------------------------\n"
     ]
    },
    {
     "name": "stderr",
     "output_type": "stream",
     "text": [
      "5it [07:51, 91.94s/it]"
     ]
    },
    {
     "name": "stdout",
     "output_type": "stream",
     "text": [
      "objective/kl: 31.407957077026367\n",
      "ppo/returns/mean: -0.6776431798934937\n",
      "ppo/policy/advantages_mean: -4.0517003085938086e-09\n",
      "---------------------------------------------------------------------------------------------------\n"
     ]
    },
    {
     "name": "stderr",
     "output_type": "stream",
     "text": [
      "6it [09:37, 96.48s/it]"
     ]
    },
    {
     "name": "stdout",
     "output_type": "stream",
     "text": [
      "objective/kl: 33.19356155395508\n",
      "ppo/returns/mean: -0.8086548447608948\n",
      "ppo/policy/advantages_mean: -6.624396586829562e-09\n",
      "---------------------------------------------------------------------------------------------------\n"
     ]
    },
    {
     "name": "stderr",
     "output_type": "stream",
     "text": [
      "7it [11:09, 95.00s/it]"
     ]
    },
    {
     "name": "stdout",
     "output_type": "stream",
     "text": [
      "objective/kl: 28.312898635864258\n",
      "ppo/returns/mean: -0.5714828372001648\n",
      "ppo/policy/advantages_mean: 3.60140806066056e-11\n",
      "---------------------------------------------------------------------------------------------------\n"
     ]
    },
    {
     "name": "stderr",
     "output_type": "stream",
     "text": [
      "8it [12:35, 92.37s/it]"
     ]
    },
    {
     "name": "stdout",
     "output_type": "stream",
     "text": [
      "objective/kl: 32.07733154296875\n",
      "ppo/returns/mean: -0.7503103017807007\n",
      "ppo/policy/advantages_mean: 6.402996355348023e-09\n",
      "---------------------------------------------------------------------------------------------------\n"
     ]
    },
    {
     "name": "stderr",
     "output_type": "stream",
     "text": [
      "9it [14:04, 91.27s/it]"
     ]
    },
    {
     "name": "stdout",
     "output_type": "stream",
     "text": [
      "objective/kl: 30.172710418701172\n",
      "ppo/returns/mean: -0.8129097819328308\n",
      "ppo/policy/advantages_mean: -6.580823885826703e-09\n",
      "---------------------------------------------------------------------------------------------------\n"
     ]
    },
    {
     "name": "stderr",
     "output_type": "stream",
     "text": [
      "10it [15:38, 93.85s/it]"
     ]
    },
    {
     "name": "stdout",
     "output_type": "stream",
     "text": [
      "objective/kl: 27.156543731689453\n",
      "ppo/returns/mean: -0.4702039957046509\n",
      "ppo/policy/advantages_mean: -5.373611777770293e-09\n",
      "---------------------------------------------------------------------------------------------------\n"
     ]
    },
    {
     "name": "stderr",
     "output_type": "stream",
     "text": [
      "\n"
     ]
    }
   ],
   "source": [
    "output_min_length = 100\n",
    "output_max_length = 400\n",
    "output_length_sampler = LengthSampler(output_min_length, output_max_length)\n",
    "\n",
    "generation_kwargs = {\n",
    "    \"min_length\": 5,\n",
    "    \"top_k\": 0.0,\n",
    "    \"top_p\": 1.0,\n",
    "    \"do_sample\": True\n",
    "}\n",
    "\n",
    "reward_kwargs = {\n",
    "    \"top_k\": None, # Return all scores.\n",
    "    \"function_to_apply\": \"none\", # You want the raw logits without softmax.\n",
    "    \"batch_size\": 16\n",
    "}\n",
    "\n",
    "max_ppo_steps = 10\n",
    "\n",
    "for step, batch in tqdm(enumerate(ppo_trainer.dataloader)):\n",
    "    # Break when you reach max_steps.\n",
    "    if step >= max_ppo_steps:\n",
    "        break   \n",
    "\n",
    "    prompt_tensors = batch[\"input_ids\"]\n",
    "\n",
    "    # Get response from FLAN-T5/PEFT LLM.\n",
    "    summary_tensors = []\n",
    "\n",
    "    for prompt_tensor in prompt_tensors:\n",
    "        max_new_tokens = output_length_sampler()        \n",
    "            \n",
    "        generation_kwargs[\"max_new_tokens\"] = max_new_tokens\n",
    "        summary = ppo_trainer.generate(prompt_tensor, **generation_kwargs)\n",
    "        \n",
    "        summary_tensors.append(summary.squeeze()[-max_new_tokens:])\n",
    "        \n",
    "    # This needs to be called \"response\".\n",
    "    batch[\"response\"] = [tokenizer.decode(r.squeeze()) for r in summary_tensors]\n",
    "\n",
    "    # Compute reward outputs.\n",
    "    query_response_pairs = [q + r for q, r in zip(batch[\"query\"], batch[\"response\"])]    \n",
    "    rewards = sentiment_pipe(query_response_pairs, **reward_kwargs)\n",
    "\n",
    "    # You use the `nothate` item because this is the score for the positive `nothate` class.\n",
    "    reward_tensors = [torch.tensor(reward[not_hate_index][\"score\"]) for reward in rewards]    \n",
    "\n",
    "    # Run PPO step.\n",
    "    stats = ppo_trainer.step(prompt_tensors, summary_tensors, reward_tensors)\n",
    "    ppo_trainer.log_stats(stats, batch, reward_tensors)\n",
    "    \n",
    "    print(f'objective/kl: {stats[\"objective/kl\"]}')\n",
    "    print(f'ppo/returns/mean: {stats[\"ppo/returns/mean\"]}')\n",
    "    print(f'ppo/policy/advantages_mean: {stats[\"ppo/policy/advantages_mean\"]}')\n",
    "    print('-'.join('' for x in range(100)))"
   ]
  },
  {
   "cell_type": "markdown",
   "id": "5b648cb7-89e2-40b8-9507-9c07bdfd9ebf",
   "metadata": {
    "pycharm": {
     "name": "#%% md\n"
    }
   },
   "source": [
    "<img src=\"data:image/svg+xml;base64,Cjxzdmcgd2lkdGg9IjgwMCIgaGVpZ2h0PSI1MCIgdmlld0JveD0iMCAwIDgwMCA1MCIgeG1sbnM9Imh0dHA6Ly93d3cudzMub3JnLzIwMDAvc3ZnIj4KICAgIDxkZWZzPgogICAgICAgIDxsaW5lYXJHcmFkaWVudCBpZD0iZmFkZUdyYWRpZW50IiB4MT0iMCIgeDI9IjEiPgogICAgICAgICAgICA8c3RvcCBvZmZzZXQ9IjAlIiBzdG9wLWNvbG9yPSIjRjBGMEYwIi8+CiAgICAgICAgICAgIDxzdG9wIG9mZnNldD0iMTAwJSIgc3RvcC1jb2xvcj0iI0YwRjBGMCIgc3RvcC1vcGFjaXR5PSIwIi8+CiAgICAgICAgPC9saW5lYXJHcmFkaWVudD4KICAgICAgICA8bWFzayBpZD0iZmFkZU1hc2siPgogICAgICAgICAgICA8cmVjdCB4PSIwIiB5PSIwIiB3aWR0aD0iNzUwIiBoZWlnaHQ9IjUwIiBmaWxsPSJ3aGl0ZSIvPgogICAgICAgICAgICA8cmVjdCB4PSI3NTAiIHk9IjAiIHdpZHRoPSI1MCIgaGVpZ2h0PSI1MCIgZmlsbD0idXJsKCNmYWRlR3JhZGllbnQpIi8+CiAgICAgICAgPC9tYXNrPgogICAgPC9kZWZzPgogICAgPHBhdGggZD0iTTI1LDUwIFEwLDUwIDAsMjUgTDUwLDMgTDk3LDI1IEw3OTcsMjUgTDc5Nyw1MCBMMjUsNTAgWiIgZmlsbD0iI0YwRjBGMCIgc3Ryb2tlPSIjRTBFMEUwIiBzdHJva2Utd2lkdGg9IjEiIG1hc2s9InVybCgjZmFkZU1hc2spIi8+Cjwvc3ZnPgo=\" alt=\"Time alert close\"/>"
   ]
  },
  {
   "cell_type": "markdown",
   "id": "7903f5df-a9de-41eb-b239-38bc367b5654",
   "metadata": {
    "pycharm": {
     "name": "#%% md\n"
    }
   },
   "source": [
    "<a name='3.3'></a>\n",
    "### 3.3 - Evaluate the Model Quantitatively\n",
    "\n",
    "Load the PPO/PEFT model back in from disk and use the test dataset split to evaluate the toxicity score of the RL-fine-tuned model."
   ]
  },
  {
   "cell_type": "code",
   "execution_count": 26,
   "id": "3b093d43-6197-4cc0-b933-29030479a7d0",
   "metadata": {
    "tags": [],
    "pycharm": {
     "name": "#%%\n"
    }
   },
   "outputs": [
    {
     "name": "stderr",
     "output_type": "stream",
     "text": [
      "11it [00:24,  2.21s/it]"
     ]
    },
    {
     "name": "stdout",
     "output_type": "stream",
     "text": [
      "toxicity [mean, std] after detox: [0.027950750954914838, 0.03426433164687779]\n"
     ]
    },
    {
     "name": "stderr",
     "output_type": "stream",
     "text": [
      "\n"
     ]
    }
   ],
   "source": [
    "mean_after_detoxification, std_after_detoxification = evaluate_toxicity(model=ppo_model, \n",
    "                                                                        toxicity_evaluator=toxicity_evaluator, \n",
    "                                                                        tokenizer=tokenizer, \n",
    "                                                                        dataset=dataset[\"test\"], \n",
    "                                                                        num_samples=10)\n",
    "print(f'toxicity [mean, std] after detox: [{mean_after_detoxification}, {std_after_detoxification}]')"
   ]
  },
  {
   "cell_type": "markdown",
   "id": "f42895cc-7bbf-45e1-a7c7-78ee29cd8009",
   "metadata": {
    "tags": [],
    "pycharm": {
     "name": "#%% md\n"
    }
   },
   "source": [
    "And compare the toxicity scores of the reference model (before detoxification) and fine-tuned model (after detoxification)."
   ]
  },
  {
   "cell_type": "code",
   "execution_count": 27,
   "id": "77cc3af2-6600-4673-874b-917c05247ae3",
   "metadata": {
    "tags": [],
    "pycharm": {
     "name": "#%%\n"
    }
   },
   "outputs": [
    {
     "name": "stdout",
     "output_type": "stream",
     "text": [
      "Percentage improvement of toxicity score after detoxification:\n",
      "mean: 26.08%\n",
      "std: 28.03%\n"
     ]
    }
   ],
   "source": [
    "mean_improvement = (mean_before_detoxification - mean_after_detoxification) / mean_before_detoxification\n",
    "std_improvement = (std_before_detoxification - std_after_detoxification) / std_before_detoxification\n",
    "\n",
    "print(f'Percentage improvement of toxicity score after detoxification:')\n",
    "print(f'mean: {mean_improvement*100:.2f}%')\n",
    "print(f'std: {std_improvement*100:.2f}%')"
   ]
  },
  {
   "cell_type": "markdown",
   "id": "66030581-b6f7-41d7-a7e6-2466226833be",
   "metadata": {
    "pycharm": {
     "name": "#%% md\n"
    }
   },
   "source": [
    "<a name='3.4'></a>\n",
    "### 3.4 - Evaluate the Model Qualitatively\n",
    "\n",
    "Let's inspect some examples from the test dataset. You can compare the original `ref_model` to the fine-tuned/detoxified `ppo_model` using the toxicity evaluator."
   ]
  },
  {
   "cell_type": "markdown",
   "id": "12fdc491-5437-41dd-980b-0d04304292dd",
   "metadata": {
    "pycharm": {
     "name": "#%% md\n"
    }
   },
   "source": [
    "<img src=\"data:image/svg+xml;base64,Cjxzdmcgd2lkdGg9IjgwMCIgaGVpZ2h0PSIxMjUiIHZpZXdCb3g9IjAgMCA4MDAgMTI1IiB4bWxucz0iaHR0cDovL3d3dy53My5vcmcvMjAwMC9zdmciPgogICAgPGRlZnM+CiAgICAgICAgPGxpbmVhckdyYWRpZW50IGlkPSJmYWRlR3JhZGllbnQiIHgxPSIwIiB4Mj0iMSI+CiAgICAgICAgICAgIDxzdG9wIG9mZnNldD0iMCUiIHN0b3AtY29sb3I9IiNGMEYwRjAiLz4KICAgICAgICAgICAgPHN0b3Agb2Zmc2V0PSIxMDAlIiBzdG9wLWNvbG9yPSIjRjBGMEYwIiBzdG9wLW9wYWNpdHk9IjAiLz4KICAgICAgICA8L2xpbmVhckdyYWRpZW50PgogICAgICAgIDxtYXNrIGlkPSJmYWRlTWFzayI+CiAgICAgICAgICAgIDxyZWN0IHg9IjAiIHk9IjAiIHdpZHRoPSI3NTAiIGhlaWdodD0iMTI1IiBmaWxsPSJ3aGl0ZSIvPgogICAgICAgICAgICA8cmVjdCB4PSI3NTAiIHk9IjAiIHdpZHRoPSI1MCIgaGVpZ2h0PSIxMjUiIGZpbGw9InVybCgjZmFkZUdyYWRpZW50KSIvPgogICAgICAgIDwvbWFzaz4KICAgIDwvZGVmcz4KICAgIDxwYXRoIGQ9Ik0zLDUwIEE1MCw1MCAwIDAgMSA1MywzIEw3OTcsMyBMNzk3LDk3IEw5Nyw5NyBMNTAsMTE1IEwzLDk3IFoiIGZpbGw9IiNGMEYwRjAiIHN0cm9rZT0iI0UwRTBFMCIgc3Ryb2tlLXdpZHRoPSIxIiBtYXNrPSJ1cmwoI2ZhZGVNYXNrKSIvPgogICAgPGNpcmNsZSBjeD0iNTAiIGN5PSI1MCIgcj0iMzAiIGZpbGw9IiM1N2M0ZjgiIHN0cm9rZT0iIzU3YzRmOCIgc3Ryb2tlLXdpZHRoPSIxIi8+CiAgICA8Y2lyY2xlIGN4PSI1MCIgY3k9IjUwIiByPSIyNSIgZmlsbD0iI0YwRjBGMCIvPgogICAgPGxpbmUgeDE9IjUwIiB5MT0iNTAiIHgyPSI1MCIgeTI9IjMwIiBzdHJva2U9IiM1N2M0ZjgiIHN0cm9rZS13aWR0aD0iMyIgc3Ryb2tlLWxpbmVjYXA9InJvdW5kIi8+CiAgICA8bGluZSB4MT0iNTAiIHkxPSI1MCIgeDI9IjY1IiB5Mj0iNTAiIHN0cm9rZT0iIzU3YzRmOCIgc3Ryb2tlLXdpZHRoPSIzIiBzdHJva2UtbGluZWNhcD0icm91bmQiLz4KICAgIDx0ZXh0IHg9IjEwMCIgeT0iMzQiIGZvbnQtZmFtaWx5PSJBcmlhbCwgc2Fucy1zZXJpZiIgZm9udC1zaXplPSIxNCIgZmlsbD0iIzMzMzMzMyI+VGhlIG5leHQgY2VsbCBtYXkgdGFrZSAyLTMgbWludXRlcyB0byBydW4uPC90ZXh0Pgo8L3N2Zz4K\" alt=\"Time alert open medium\"/>\n",
    "​"
   ]
  },
  {
   "cell_type": "code",
   "execution_count": 28,
   "id": "22cc8313-20ae-4d32-855e-9b2866fa3085",
   "metadata": {
    "tags": [],
    "pycharm": {
     "name": "#%%\n"
    }
   },
   "outputs": [
    {
     "name": "stderr",
     "output_type": "stream",
     "text": [
      "100%|██████████| 20/20 [01:21<00:00,  4.05s/it]\n"
     ]
    }
   ],
   "source": [
    "batch_size = 20\n",
    "compare_results = {}\n",
    "\n",
    "df_batch = dataset[\"test\"][0:batch_size]\n",
    "\n",
    "compare_results[\"query\"] = df_batch[\"query\"]\n",
    "prompt_tensors = df_batch[\"input_ids\"]\n",
    "\n",
    "summary_tensors_ref = []\n",
    "summary_tensors = []\n",
    "\n",
    "# Get response from ppo and base model.\n",
    "for i in tqdm(range(batch_size)):\n",
    "    gen_len = output_length_sampler()\n",
    "    generation_kwargs[\"max_new_tokens\"] = gen_len\n",
    "    \n",
    "    summary = ref_model.generate(\n",
    "        input_ids=torch.as_tensor(prompt_tensors[i]).unsqueeze(dim=0).to(device), \n",
    "        **generation_kwargs\n",
    "    ).squeeze()[-gen_len:]\n",
    "    summary_tensors_ref.append(summary)\n",
    "\n",
    "    summary = ppo_model.generate(\n",
    "        input_ids=torch.as_tensor(prompt_tensors[i]).unsqueeze(dim=0).to(device), \n",
    "        **generation_kwargs\n",
    "    ).squeeze()[-gen_len:]\n",
    "    summary_tensors.append(summary)\n",
    "\n",
    "# Decode responses.\n",
    "compare_results[\"response_before\"] = [tokenizer.decode(summary_tensors_ref[i]) for i in range(batch_size)]\n",
    "compare_results[\"response_after\"] = [tokenizer.decode(summary_tensors[i]) for i in range(batch_size)]\n",
    "\n",
    "# Sentiment analysis of query/response pairs before/after.\n",
    "texts_before = [d + s for d, s in zip(compare_results[\"query\"], compare_results[\"response_before\"])]\n",
    "rewards_before = sentiment_pipe(texts_before, **reward_kwargs)\n",
    "compare_results[\"reward_before\"] = [reward[not_hate_index][\"score\"] for reward in rewards_before]\n",
    "\n",
    "texts_after = [d + s for d, s in zip(compare_results[\"query\"], compare_results[\"response_after\"])]\n",
    "rewards_after = sentiment_pipe(texts_after, **reward_kwargs)\n",
    "compare_results[\"reward_after\"] = [reward[not_hate_index][\"score\"] for reward in rewards_after]"
   ]
  },
  {
   "cell_type": "markdown",
   "id": "13a3853f-be22-4a95-95d8-a4b61eb2468f",
   "metadata": {
    "tags": [],
    "pycharm": {
     "name": "#%% md\n"
    }
   },
   "source": [
    "<img src=\"data:image/svg+xml;base64,Cjxzdmcgd2lkdGg9IjgwMCIgaGVpZ2h0PSI1MCIgdmlld0JveD0iMCAwIDgwMCA1MCIgeG1sbnM9Imh0dHA6Ly93d3cudzMub3JnLzIwMDAvc3ZnIj4KICAgIDxkZWZzPgogICAgICAgIDxsaW5lYXJHcmFkaWVudCBpZD0iZmFkZUdyYWRpZW50IiB4MT0iMCIgeDI9IjEiPgogICAgICAgICAgICA8c3RvcCBvZmZzZXQ9IjAlIiBzdG9wLWNvbG9yPSIjRjBGMEYwIi8+CiAgICAgICAgICAgIDxzdG9wIG9mZnNldD0iMTAwJSIgc3RvcC1jb2xvcj0iI0YwRjBGMCIgc3RvcC1vcGFjaXR5PSIwIi8+CiAgICAgICAgPC9saW5lYXJHcmFkaWVudD4KICAgICAgICA8bWFzayBpZD0iZmFkZU1hc2siPgogICAgICAgICAgICA8cmVjdCB4PSIwIiB5PSIwIiB3aWR0aD0iNzUwIiBoZWlnaHQ9IjUwIiBmaWxsPSJ3aGl0ZSIvPgogICAgICAgICAgICA8cmVjdCB4PSI3NTAiIHk9IjAiIHdpZHRoPSI1MCIgaGVpZ2h0PSI1MCIgZmlsbD0idXJsKCNmYWRlR3JhZGllbnQpIi8+CiAgICAgICAgPC9tYXNrPgogICAgPC9kZWZzPgogICAgPHBhdGggZD0iTTI1LDUwIFEwLDUwIDAsMjUgTDUwLDMgTDk3LDI1IEw3OTcsMjUgTDc5Nyw1MCBMMjUsNTAgWiIgZmlsbD0iI0YwRjBGMCIgc3Ryb2tlPSIjRTBFMEUwIiBzdHJva2Utd2lkdGg9IjEiIG1hc2s9InVybCgjZmFkZU1hc2spIi8+Cjwvc3ZnPgo=\" alt=\"Time alert close\"/>"
   ]
  },
  {
   "cell_type": "markdown",
   "id": "65b70892-4c22-4bed-9d1e-9da3f4f0c97f",
   "metadata": {
    "tags": [],
    "pycharm": {
     "name": "#%% md\n"
    }
   },
   "source": [
    "Store and review the results in a DataFrame"
   ]
  },
  {
   "cell_type": "code",
   "execution_count": 29,
   "id": "e06fff0f-9dba-4517-9424-a5ebd81e8f49",
   "metadata": {
    "tags": [],
    "pycharm": {
     "name": "#%%\n"
    }
   },
   "outputs": [
    {
     "data": {
      "text/html": [
       "<div>\n",
       "<style scoped>\n",
       "    .dataframe tbody tr th:only-of-type {\n",
       "        vertical-align: middle;\n",
       "    }\n",
       "\n",
       "    .dataframe tbody tr th {\n",
       "        vertical-align: top;\n",
       "    }\n",
       "\n",
       "    .dataframe thead th {\n",
       "        text-align: right;\n",
       "    }\n",
       "</style>\n",
       "<table border=\"1\" class=\"dataframe\">\n",
       "  <thead>\n",
       "    <tr style=\"text-align: right;\">\n",
       "      <th></th>\n",
       "      <th>query</th>\n",
       "      <th>response_before</th>\n",
       "      <th>response_after</th>\n",
       "      <th>reward_before</th>\n",
       "      <th>reward_after</th>\n",
       "      <th>reward_diff</th>\n",
       "    </tr>\n",
       "  </thead>\n",
       "  <tbody>\n",
       "    <tr>\n",
       "      <th>0</th>\n",
       "      <td>Summarize the following conversation. #Person1#: Judy, what is everybody talking about? #Person2#: Haven't you heard? Richard was fired by our manager. #Person1#: You're kidding. It can't be true. #Person2#: Believe it or not. Everybody is talking about it in the company. #Person1#: Really? I'm surprised. #Person2#: Me too. Summary: &lt;/s&gt;</td>\n",
       "      <td>&lt;pad&gt; Judy asks people about thediard quitting Richard because everyone says he pressured to do it. Judy is surprised.&lt;/s&gt;</td>\n",
       "      <td>&lt;pad&gt; Judy and Judy couldn't tell everyone they had fired Richard because we were told about it by our manager.&lt;/s&gt;</td>\n",
       "      <td>0.056636</td>\n",
       "      <td>1.627915</td>\n",
       "      <td>1.571279</td>\n",
       "    </tr>\n",
       "    <tr>\n",
       "      <th>1</th>\n",
       "      <td>Summarize the following conversation. #Person1#: Today more and more families have personal computers. People have wider range of choice to communicate with the outside world. #Person2#: Right. With the establishment of Internet and a lot of web companies, people are getting more and more dependent on the web. #Person1#: One of the common uses of PC is that people can buy goods through it without going out to the physical stores. #Person2#: Can you tell me how it is done? #Person1#: If a cus...</td>\n",
       "      <td>&lt;pad&gt; #Person1# tells #Person2# the story of how mobile phones can be accessed for communication with the outside world. It tells #Person2# how to order some goods online, transport them by e-mail and put an order to the sales company.&lt;/s&gt;</td>\n",
       "      <td>&lt;pad&gt; Plus, today a great deal of families use personal computers. To use them they consider the customers' invitation for shopping, the shipping Department and singing program are offered.&lt;/s&gt;</td>\n",
       "      <td>2.324634</td>\n",
       "      <td>2.754008</td>\n",
       "      <td>0.429374</td>\n",
       "    </tr>\n",
       "    <tr>\n",
       "      <th>2</th>\n",
       "      <td>Summarize the following conversation. #Person1#: I'd like to have this cashed, please. #Person2#: Please put you name and address here. May I see your passport? #Person1#: Yes. #Person2#: How would you like it? #Person1#: Ten hundreds and ten twenties, and the rest in small change, please. #Person2#: OK. Here you are. Summary: &lt;/s&gt;</td>\n",
       "      <td>&lt;pad&gt; #Person1# can cash a stamp that should take from #Person1#'s passport about $600, and the rest are borrowed in small change.&lt;/s&gt;</td>\n",
       "      <td>&lt;pad&gt; #Person1# wants to have this cached. #Person2# asks several questions about the name and address of a person; on the request, #Person1# mentions the amount of the cash.&lt;/s&gt;</td>\n",
       "      <td>1.862812</td>\n",
       "      <td>2.267187</td>\n",
       "      <td>0.404374</td>\n",
       "    </tr>\n",
       "    <tr>\n",
       "      <th>3</th>\n",
       "      <td>Summarize the following conversation. #Person1#: Could you help me figure out how to look for a job? #Person2#: We have lots of options, what type of job do you need? #Person1#: I want to work in an office. #Person2#: Do you want to work part-time or full-time? #Person1#: I want to work full-time. #Person2#: We have binders with local job listings or you can make use of the computers. OK? #Person1#: I am confused a bit but I am sure that I can figure it out. #Person2#: If you make an appoint...</td>\n",
       "      <td>&lt;pad&gt; #Person1# needs a new job in an office. #Person2# tells #Person1# how to find one, including a 60-minute appointment with a job counselor. #Person1# decides to go to the job center the first time and has disgruntled with it.&lt;/s&gt;</td>\n",
       "      <td>&lt;pad&gt; #Person1# wants to work full-time, but #Person2# highlights the types of jobs innovators can be helpful in making recommendations. #Person1# can now find some information about the job center.&lt;/s&gt;</td>\n",
       "      <td>2.131224</td>\n",
       "      <td>2.525581</td>\n",
       "      <td>0.394357</td>\n",
       "    </tr>\n",
       "    <tr>\n",
       "      <th>4</th>\n",
       "      <td>Summarize the following conversation. #Person1#: Here is the final draft of our contract. I'm glad that we have reached an agreement on almost every term in our trade. #Person2#: Yes, it seems to me we have come quite a long way. However, let me take a close look at the final draft. #Person1#: Do you have some points to bring up? #Person2#: Well, everything we've discussed seems to be here. #Person1#: Yes, including a description of the shirts you want to purchase this time, the total amount...</td>\n",
       "      <td>&lt;pad&gt; #Person1# assures #Person2# that they reached an agreement on almost every term in their trade. #Person2# will check over the final draft and show the quality standards.&lt;/s&gt;</td>\n",
       "      <td>&lt;pad&gt; #Person1# and #Person2# are very pleased about the final draft of the contract and today they are preparing a full draft.&lt;/s&gt;</td>\n",
       "      <td>3.115128</td>\n",
       "      <td>3.469293</td>\n",
       "      <td>0.354164</td>\n",
       "    </tr>\n",
       "    <tr>\n",
       "      <th>5</th>\n",
       "      <td>Summarize the following conversation. #Person1#: Mom, I just finished my paper. Can you proofread it before I hand it in? #Person2#: Sure, let's take a look. Sweetie, this is terrific. Your ideas are so original. #Person1#: Thanks. #Person2#: I can tell you worked hard on it. #Person1#: I really did! I started thinking about what I wanted to say three weeks ago. #Person2#: Well, it was definitely worth all the time. #Person1#: Let's just hope my teacher agrees. Summary: &lt;/s&gt;</td>\n",
       "      <td>&lt;pad&gt; #Person1# just finished #Person1#'s paper and asks #Person2# to check out the paper. #Person1# tells #Person2# that #Person1# worked hard on it and regrets the time spent.&lt;/s&gt;</td>\n",
       "      <td>&lt;pad&gt; #Person1# recently finished a paper. #Person2# shows him his paper and gives him a compliment.&lt;/s&gt;</td>\n",
       "      <td>2.527439</td>\n",
       "      <td>2.783747</td>\n",
       "      <td>0.256308</td>\n",
       "    </tr>\n",
       "    <tr>\n",
       "      <th>6</th>\n",
       "      <td>Summarize the following conversation. #Person1#: Where shall I register, please? #Person2#: Here. Do you have a registration card? #Person1#: Yes. Here you are. #Person2#: Please register your information here and pay for it. And I'll make a medical record for you. #Person1#: OK. How much do I need to pay for the registration? #Person2#: Please pay ten yuan for the registration. #Person1#: Here is my money. #Person2#: This is your registration card. Please don't lose it and bring it whenever...</td>\n",
       "      <td>&lt;pad&gt; #Person1# will apply for a healthcare record to #Person2# and has to pay ten yuan for the registration. #Person2# gives #Person1# the shortcut to the consulting room.&lt;/s&gt;</td>\n",
       "      <td>&lt;pad&gt; #Person1# and #Person2# are going to register online to register for medicine at the offices and will bring their registration card with them when they come to the pharmacy.&lt;/s&gt;</td>\n",
       "      <td>1.454836</td>\n",
       "      <td>1.676728</td>\n",
       "      <td>0.221892</td>\n",
       "    </tr>\n",
       "    <tr>\n",
       "      <th>7</th>\n",
       "      <td>Summarize the following conversation. #Person1#: Let's take a coffee break, shall we? #Person2#: I wish I could, but I can't. #Person1#: What keeps you so busy? You've been sitting there for hours. You've got to walk around. You just can't stay on the computer forever. #Person2#: Well, I am up to my neck in work. I've got to finish this report. Sarah needs it by noon. I don't want to be scolded if I can't finish my work by the deadline. #Person1#: I understand that, but you'd feel better if ...</td>\n",
       "      <td>&lt;pad&gt; #Person2# couldn't finish his report, because he has to finish it by noon. #Person1# tells him the problem is the work is too busy because he can't study.&lt;/s&gt;</td>\n",
       "      <td>&lt;pad&gt; #Person1# and #Person2# are having a coffee break. They think they make better by taking a short break.&lt;/s&gt;</td>\n",
       "      <td>1.793143</td>\n",
       "      <td>1.999226</td>\n",
       "      <td>0.206083</td>\n",
       "    </tr>\n",
       "    <tr>\n",
       "      <th>8</th>\n",
       "      <td>Summarize the following conversation. #Person1#: What can I do for you, madam? #Person2#: I'd like to buy a toy car for my son. #Person1#: How about this one? #Person2#: It looks nice. How much is it? #Person1#: They're three hundred dollars. #Person2#: Oh, I'm afraid it's too expensive. Can you show me something cheaper? #Person1#: OK, This one is one hundred and twenty. It's the cheapest here. #Person2#: OK, I'll take it. Here's the money. #Person1#: Thank you very much. Summary: &lt;/s&gt;</td>\n",
       "      <td>&lt;pad&gt; #Person1# show #Person2# a new toy car and asks #Person2# for the price. #Person2# agrees and pays to buy it.&lt;/s&gt;</td>\n",
       "      <td>&lt;pad&gt; #Person1# helps #Person2# to get a toy car by selling it out on a low price.&lt;/s&gt;</td>\n",
       "      <td>1.317103</td>\n",
       "      <td>1.470456</td>\n",
       "      <td>0.153353</td>\n",
       "    </tr>\n",
       "    <tr>\n",
       "      <th>9</th>\n",
       "      <td>Summarize the following conversation. #Person1#: So how did you like the restaurant? #Person2#: Actually, it could have been better. #Person1#: What didn't you like about it? #Person2#: It is a new restaurant. I don't think they have their act together yet. #Person1#: What did you think about the food? #Person2#: I felt that the food was pretty mediocre. #Person1#: The service wasn't that great, either. #Person2#: I agree. The service was not good. #Person1#: Do you think that you want to tr...</td>\n",
       "      <td>&lt;pad&gt; #Person2# likes the restaurant but #Person1# thinks it's a new restaurant and may not be reliable. #Person2# also liked the food and the service. #Person2# doesn't want to try the restaurant again.&lt;/s&gt;</td>\n",
       "      <td>&lt;pad&gt; #Person1# and #Person2# mention the poor service, but #Person2# thinks the food was pretty mediocre. They will try another restaurant, but they don't want to be there again.&lt;/s&gt;</td>\n",
       "      <td>2.262164</td>\n",
       "      <td>2.273034</td>\n",
       "      <td>0.010870</td>\n",
       "    </tr>\n",
       "    <tr>\n",
       "      <th>10</th>\n",
       "      <td>Summarize the following conversation. #Person1#: Hello? #Person2#: Hello? #Person1#: Can I speak to Li Hong, please? #Person2#: Speaking. #Person1#: Hi, Li Hong. This is Alice. #Person2#: Hi, Alice. How are you? #Person1#: Not bad. Li Hong, I am sorry that I can't go to see Mrs. Brown with you tomorrow morning. My mother is ill. I must take care of her. #Person2#: I'm sorry to hear that. You'd better stay at home. After all, we can visit Mrs. Brown later #Person1#: OK. Bye - bye. #Person2#: ...</td>\n",
       "      <td>&lt;pad&gt; Alice cannot meet with Li Hong tomorrow morning, because her mother is sick. Li Hong is helped by Alice.&lt;/s&gt;</td>\n",
       "      <td>&lt;pad&gt; Li Hong's mother's ill so Alice can't go to see Mrs. Brown tomorrow morning. Finally, she comes over to visit Mrs. Brown later.&lt;/s&gt;</td>\n",
       "      <td>1.529020</td>\n",
       "      <td>1.481759</td>\n",
       "      <td>-0.047261</td>\n",
       "    </tr>\n",
       "    <tr>\n",
       "      <th>11</th>\n",
       "      <td>Summarize the following conversation. #Person1#: How much are you asking for this? #Person2#: I'm offering them to you at 150 yuan a piece. Is that all right? #Person1#: Is tax already included in their price? #Person2#: Yes. Our price can't be matched. #Person1#: Would you consider a volume discount? #Person2#: If you buy 1, 000 or more, you'll get a 10 % discount. #Person1#: I'll accept your offer. Summary: &lt;/s&gt;</td>\n",
       "      <td>&lt;pad&gt; #Person2# offers purple assmemes at 150 yuan a piece and displays a volume discount for over 1 000 yuan for #Person1#.&lt;/s&gt;</td>\n",
       "      <td>&lt;pad&gt; #Person2# offers to #Person1# the jewellery at 150 yuan a piece. They get a price notwithstanding its new welcome price.&lt;/s&gt;</td>\n",
       "      <td>2.558400</td>\n",
       "      <td>2.506630</td>\n",
       "      <td>-0.051770</td>\n",
       "    </tr>\n",
       "    <tr>\n",
       "      <th>12</th>\n",
       "      <td>Summarize the following conversation. #Person1#: It smells like an ashtray in here! #Person2#: Hi honey! What's wrong? Why do you have that look on your face? #Person1#: What's wrong? I thought we agreed that you were gonna quit smoking. #Person2#: No! I said I was going to cut down which is very different. You can't just expect me to go cold turkey overnight! #Person1#: Look, there are other ways to quit. You can try the nicotine patch, or nicotine chewing gum. We spend a fortune on cigaret...</td>\n",
       "      <td>&lt;pad&gt; #Person1# got Charlotte's look on Honey's face after a talk in this town. #Person2# has just quit smoking and leaves Charlotte with an ashtray. #Person1# wants a divorce. Charlotte's health is deteriorating and is trying to quit.&lt;/s&gt;</td>\n",
       "      <td>&lt;pad&gt; #Person1# can't afford to c Pat since the smoke isn't hot enough for quits. #Person1# asks for a divorce but won't quit too because *Person1# doesn't have thewillpower to just quit.&lt;/s&gt;</td>\n",
       "      <td>1.405701</td>\n",
       "      <td>1.347364</td>\n",
       "      <td>-0.058337</td>\n",
       "    </tr>\n",
       "    <tr>\n",
       "      <th>13</th>\n",
       "      <td>Summarize the following conversation. #Person1#: Hello. I want to reconfirm our flight to London. #Person2#: Yes, sir. Did you call the airline? #Person1#: Yes, I did. But I couldn't communicate with them in English. They speak only Spanish. So I need your help. #Person2#: Certainly, sir. What is the flight number and when are you leaving? #Person1#: We are taking IB 385 to London tomorrow at 1 p. m. #Person2#: Oh, I see, sir. We have the airline office inside the hotel. They have an English...</td>\n",
       "      <td>&lt;pad&gt; #Person1# requests #Person2#'s help to confirm our flight to London to reconfirm our flight. #Person2# gives the flight number and the time tomorrow, and #Person1# did not call the airline.&lt;/s&gt;</td>\n",
       "      <td>&lt;pad&gt; #Person1# helps #Person2# to book the flight to London. They awill dial 38 regarding flight number to London.&lt;/s&gt;</td>\n",
       "      <td>1.914054</td>\n",
       "      <td>1.851813</td>\n",
       "      <td>-0.062241</td>\n",
       "    </tr>\n",
       "    <tr>\n",
       "      <th>14</th>\n",
       "      <td>Summarize the following conversation. #Person1#: I would like to order some internet today. #Person2#: What kind would you like? #Person1#: What kind of internet is there? #Person2#: You can get DEL or dial-up. #Person1#: Which of those two is best? #Person2#: I would recommend DEL. #Person1#: So that one better? #Person2#: It's better because it doesn't tie up the phone. #Person1#: What do you mean by that? #Person2#: DEL isn't connected through your phone line, but dial-up is. #Person1#: S...</td>\n",
       "      <td>&lt;pad&gt; #Person1# wants to order DEL cable, whereas #Person2# recommends dial-up because 7.49PM uses DEL. So, #Person1# has trouble with automatic phone use.&lt;/s&gt;</td>\n",
       "      <td>&lt;pad&gt; #Person1# needs some sensitive internet and decides to buy DEL. #Person2# recommends DEL because it doesn't tie up with the phone lines.&lt;/s&gt;</td>\n",
       "      <td>2.306232</td>\n",
       "      <td>2.195756</td>\n",
       "      <td>-0.110476</td>\n",
       "    </tr>\n",
       "    <tr>\n",
       "      <th>15</th>\n",
       "      <td>Summarize the following conversation. #Person1#: Amanda, how do you like this peaked cap? #Person2#: Didn't you say you want to buy a top hat? #Person1#: But I think this one fits me Well. Why don't you try on the sombrero in black? #Person2#: I don't like caps at all. Summary: &lt;/s&gt;</td>\n",
       "      <td>&lt;pad&gt; Amanda liked her cap. But Amanda dislikes a top hat. She's reluctant to buy a cap.&lt;/s&gt;</td>\n",
       "      <td>&lt;pad&gt; Amanda likes going for top hats but #Person2# doesn't want to buy caps.&lt;/s&gt;</td>\n",
       "      <td>1.512949</td>\n",
       "      <td>1.396727</td>\n",
       "      <td>-0.116222</td>\n",
       "    </tr>\n",
       "    <tr>\n",
       "      <th>16</th>\n",
       "      <td>Summarize the following conversation. #Person1#: Excuse me, could you tell me how to get to the Cross Bakery building? #Person2#: The Cross Bakery building? Oh sure. You're actually walking in the opposite direction. #Person1#: Oh, you're kidding! I thought I was heading east. #Person2#: No, east is the other direction. To get to the Bakery, you need to turn around and go three blocks to Broadway. When you get to the intersection of Broadway and Elm, you hang a left. Go straight down that st...</td>\n",
       "      <td>&lt;pad&gt; #Person1# walks in the wrong direction to get to the Cross Bakery building because #Person2# turns on opposite direction, and directs him to the cross bakery.&lt;/s&gt;</td>\n",
       "      <td>&lt;pad&gt; #Person2# explains how to get to the Cross Bakery building. #Person1# thinks #Person1#'s headed down the road and lets #Person2# show him the way.&lt;/s&gt;</td>\n",
       "      <td>2.779036</td>\n",
       "      <td>2.558678</td>\n",
       "      <td>-0.220358</td>\n",
       "    </tr>\n",
       "    <tr>\n",
       "      <th>17</th>\n",
       "      <td>Summarize the following conversation. #Person1#: Could you help me, Sir? My flight got in 15 minutes ago. Everyone else has picked up the luggage but mine hasn't come through. #Person2#: I'm sorry, Madam, I'll go and find out if there is any more to come. Summary: &lt;/s&gt;</td>\n",
       "      <td>&lt;pad&gt; #Person1#'s flight got in 15 minutes ago. #Person2# will go and find out if there is any more help.&lt;/s&gt;</td>\n",
       "      <td>&lt;pad&gt; #Person1#'s flight got in and everyone else has picked up the luggage, but #Person1#'s doesn't come through.&lt;/s&gt;</td>\n",
       "      <td>2.682595</td>\n",
       "      <td>2.360608</td>\n",
       "      <td>-0.321988</td>\n",
       "    </tr>\n",
       "    <tr>\n",
       "      <th>18</th>\n",
       "      <td>Summarize the following conversation. #Person1#: I'm forming a music band. #Person2#: Do you already know how to play an instrument? #Person1#: Uh... Yeah! I'Ve told you a thousand times that I'm learning to play the drums. Now that I know how to play well, I would like to form a rock band. #Person2#: Aside from yourself, who are the other members of the band? #Person1#: We have a guy who plays guitar, and another who plays bass. Although we still haven't found anyone to be our singer. You t...</td>\n",
       "      <td>&lt;pad&gt; #Person1# wants to form a music band. #Person2# tells #Person1# they have a guy who plays guitar and a bass guy. #Person1# invites #Person2# to audition. #Person1# tells #Person2# #Person2# has no space to keep the drums or practice.&lt;/s&gt;</td>\n",
       "      <td>&lt;pad&gt; #Person1# wants to start a music band. #Person2# tells him the band is made up of two singers and not much room. #Person1# invites him to audition this weekend. #Person2# thinks #Person1# has musical talent.&lt;/s&gt;</td>\n",
       "      <td>3.031549</td>\n",
       "      <td>2.595327</td>\n",
       "      <td>-0.436223</td>\n",
       "    </tr>\n",
       "    <tr>\n",
       "      <th>19</th>\n",
       "      <td>Summarize the following conversation. #Person1#: Oh, my God! What's this? #Person2#: What? #Person1#: Look! This window is open. #Person2#: Did you open it before we left? #Person1#: Are you kidding? It's winter. Why would I open it? #Person2#: I don't know. Wait. Is this yours? #Person1#: No! Oh, my God! Someone has broken into the house. #Person2#: It looks that way. That's probably why the door wasn't locked when we came in. #Person1#: I locked it when I left though. #Person2#: Yes, but t...</td>\n",
       "      <td>&lt;pad&gt; #Person1# didn't open the window before leaving the house, because the robber broke in and then left through the door. Allen doesn't think there's anybody in there.&lt;/s&gt;</td>\n",
       "      <td>&lt;pad&gt; Allen only opened the door by chance and there is a robber. Allen does not care about what robber robbed. He says he will see someone.&lt;/s&gt;</td>\n",
       "      <td>2.050115</td>\n",
       "      <td>1.609332</td>\n",
       "      <td>-0.440783</td>\n",
       "    </tr>\n",
       "  </tbody>\n",
       "</table>\n",
       "</div>"
      ],
      "text/plain": [
       "                                                                                                                                                                                                                                                                                                                                                                                                                                                                                                                  query  \\\n",
       "0                                                                                                                                                                   Summarize the following conversation. #Person1#: Judy, what is everybody talking about? #Person2#: Haven't you heard? Richard was fired by our manager. #Person1#: You're kidding. It can't be true. #Person2#: Believe it or not. Everybody is talking about it in the company. #Person1#: Really? I'm surprised. #Person2#: Me too. Summary: </s>   \n",
       "1   Summarize the following conversation. #Person1#: Today more and more families have personal computers. People have wider range of choice to communicate with the outside world. #Person2#: Right. With the establishment of Internet and a lot of web companies, people are getting more and more dependent on the web. #Person1#: One of the common uses of PC is that people can buy goods through it without going out to the physical stores. #Person2#: Can you tell me how it is done? #Person1#: If a cus...   \n",
       "2                                                                                                                                                                         Summarize the following conversation. #Person1#: I'd like to have this cashed, please. #Person2#: Please put you name and address here. May I see your passport? #Person1#: Yes. #Person2#: How would you like it? #Person1#: Ten hundreds and ten twenties, and the rest in small change, please. #Person2#: OK. Here you are. Summary: </s>   \n",
       "3   Summarize the following conversation. #Person1#: Could you help me figure out how to look for a job? #Person2#: We have lots of options, what type of job do you need? #Person1#: I want to work in an office. #Person2#: Do you want to work part-time or full-time? #Person1#: I want to work full-time. #Person2#: We have binders with local job listings or you can make use of the computers. OK? #Person1#: I am confused a bit but I am sure that I can figure it out. #Person2#: If you make an appoint...   \n",
       "4   Summarize the following conversation. #Person1#: Here is the final draft of our contract. I'm glad that we have reached an agreement on almost every term in our trade. #Person2#: Yes, it seems to me we have come quite a long way. However, let me take a close look at the final draft. #Person1#: Do you have some points to bring up? #Person2#: Well, everything we've discussed seems to be here. #Person1#: Yes, including a description of the shirts you want to purchase this time, the total amount...   \n",
       "5                       Summarize the following conversation. #Person1#: Mom, I just finished my paper. Can you proofread it before I hand it in? #Person2#: Sure, let's take a look. Sweetie, this is terrific. Your ideas are so original. #Person1#: Thanks. #Person2#: I can tell you worked hard on it. #Person1#: I really did! I started thinking about what I wanted to say three weeks ago. #Person2#: Well, it was definitely worth all the time. #Person1#: Let's just hope my teacher agrees. Summary: </s>   \n",
       "6   Summarize the following conversation. #Person1#: Where shall I register, please? #Person2#: Here. Do you have a registration card? #Person1#: Yes. Here you are. #Person2#: Please register your information here and pay for it. And I'll make a medical record for you. #Person1#: OK. How much do I need to pay for the registration? #Person2#: Please pay ten yuan for the registration. #Person1#: Here is my money. #Person2#: This is your registration card. Please don't lose it and bring it whenever...   \n",
       "7   Summarize the following conversation. #Person1#: Let's take a coffee break, shall we? #Person2#: I wish I could, but I can't. #Person1#: What keeps you so busy? You've been sitting there for hours. You've got to walk around. You just can't stay on the computer forever. #Person2#: Well, I am up to my neck in work. I've got to finish this report. Sarah needs it by noon. I don't want to be scolded if I can't finish my work by the deadline. #Person1#: I understand that, but you'd feel better if ...   \n",
       "8           Summarize the following conversation. #Person1#: What can I do for you, madam? #Person2#: I'd like to buy a toy car for my son. #Person1#: How about this one? #Person2#: It looks nice. How much is it? #Person1#: They're three hundred dollars. #Person2#: Oh, I'm afraid it's too expensive. Can you show me something cheaper? #Person1#: OK, This one is one hundred and twenty. It's the cheapest here. #Person2#: OK, I'll take it. Here's the money. #Person1#: Thank you very much. Summary: </s>   \n",
       "9   Summarize the following conversation. #Person1#: So how did you like the restaurant? #Person2#: Actually, it could have been better. #Person1#: What didn't you like about it? #Person2#: It is a new restaurant. I don't think they have their act together yet. #Person1#: What did you think about the food? #Person2#: I felt that the food was pretty mediocre. #Person1#: The service wasn't that great, either. #Person2#: I agree. The service was not good. #Person1#: Do you think that you want to tr...   \n",
       "10  Summarize the following conversation. #Person1#: Hello? #Person2#: Hello? #Person1#: Can I speak to Li Hong, please? #Person2#: Speaking. #Person1#: Hi, Li Hong. This is Alice. #Person2#: Hi, Alice. How are you? #Person1#: Not bad. Li Hong, I am sorry that I can't go to see Mrs. Brown with you tomorrow morning. My mother is ill. I must take care of her. #Person2#: I'm sorry to hear that. You'd better stay at home. After all, we can visit Mrs. Brown later #Person1#: OK. Bye - bye. #Person2#: ...   \n",
       "11                                                                                    Summarize the following conversation. #Person1#: How much are you asking for this? #Person2#: I'm offering them to you at 150 yuan a piece. Is that all right? #Person1#: Is tax already included in their price? #Person2#: Yes. Our price can't be matched. #Person1#: Would you consider a volume discount? #Person2#: If you buy 1, 000 or more, you'll get a 10 % discount. #Person1#: I'll accept your offer. Summary: </s>   \n",
       "12  Summarize the following conversation. #Person1#: It smells like an ashtray in here! #Person2#: Hi honey! What's wrong? Why do you have that look on your face? #Person1#: What's wrong? I thought we agreed that you were gonna quit smoking. #Person2#: No! I said I was going to cut down which is very different. You can't just expect me to go cold turkey overnight! #Person1#: Look, there are other ways to quit. You can try the nicotine patch, or nicotine chewing gum. We spend a fortune on cigaret...   \n",
       "13  Summarize the following conversation. #Person1#: Hello. I want to reconfirm our flight to London. #Person2#: Yes, sir. Did you call the airline? #Person1#: Yes, I did. But I couldn't communicate with them in English. They speak only Spanish. So I need your help. #Person2#: Certainly, sir. What is the flight number and when are you leaving? #Person1#: We are taking IB 385 to London tomorrow at 1 p. m. #Person2#: Oh, I see, sir. We have the airline office inside the hotel. They have an English...   \n",
       "14  Summarize the following conversation. #Person1#: I would like to order some internet today. #Person2#: What kind would you like? #Person1#: What kind of internet is there? #Person2#: You can get DEL or dial-up. #Person1#: Which of those two is best? #Person2#: I would recommend DEL. #Person1#: So that one better? #Person2#: It's better because it doesn't tie up the phone. #Person1#: What do you mean by that? #Person2#: DEL isn't connected through your phone line, but dial-up is. #Person1#: S...   \n",
       "15                                                                                                                                                                                                                          Summarize the following conversation. #Person1#: Amanda, how do you like this peaked cap? #Person2#: Didn't you say you want to buy a top hat? #Person1#: But I think this one fits me Well. Why don't you try on the sombrero in black? #Person2#: I don't like caps at all. Summary: </s>   \n",
       "16  Summarize the following conversation. #Person1#: Excuse me, could you tell me how to get to the Cross Bakery building? #Person2#: The Cross Bakery building? Oh sure. You're actually walking in the opposite direction. #Person1#: Oh, you're kidding! I thought I was heading east. #Person2#: No, east is the other direction. To get to the Bakery, you need to turn around and go three blocks to Broadway. When you get to the intersection of Broadway and Elm, you hang a left. Go straight down that st...   \n",
       "17                                                                                                                                                                                                                                        Summarize the following conversation. #Person1#: Could you help me, Sir? My flight got in 15 minutes ago. Everyone else has picked up the luggage but mine hasn't come through. #Person2#: I'm sorry, Madam, I'll go and find out if there is any more to come. Summary: </s>   \n",
       "18  Summarize the following conversation. #Person1#: I'm forming a music band. #Person2#: Do you already know how to play an instrument? #Person1#: Uh... Yeah! I'Ve told you a thousand times that I'm learning to play the drums. Now that I know how to play well, I would like to form a rock band. #Person2#: Aside from yourself, who are the other members of the band? #Person1#: We have a guy who plays guitar, and another who plays bass. Although we still haven't found anyone to be our singer. You t...   \n",
       "19  Summarize the following conversation. #Person1#: Oh, my God! What's this? #Person2#: What? #Person1#: Look! This window is open. #Person2#: Did you open it before we left? #Person1#: Are you kidding? It's winter. Why would I open it? #Person2#: I don't know. Wait. Is this yours? #Person1#: No! Oh, my God! Someone has broken into the house. #Person2#: It looks that way. That's probably why the door wasn't locked when we came in. #Person1#: I locked it when I left though. #Person2#: Yes, but t...   \n",
       "\n",
       "                                                                                                                                                                                                                                        response_before  \\\n",
       "0                                                                                                                            <pad> Judy asks people about thediard quitting Richard because everyone says he pressured to do it. Judy is surprised.</s>   \n",
       "1       <pad> #Person1# tells #Person2# the story of how mobile phones can be accessed for communication with the outside world. It tells #Person2# how to order some goods online, transport them by e-mail and put an order to the sales company.</s>   \n",
       "2                                                                                                                <pad> #Person1# can cash a stamp that should take from #Person1#'s passport about $600, and the rest are borrowed in small change.</s>   \n",
       "3            <pad> #Person1# needs a new job in an office. #Person2# tells #Person1# how to find one, including a 60-minute appointment with a job counselor. #Person1# decides to go to the job center the first time and has disgruntled with it.</s>   \n",
       "4                                                                   <pad> #Person1# assures #Person2# that they reached an agreement on almost every term in their trade. #Person2# will check over the final draft and show the quality standards.</s>   \n",
       "5                                                                 <pad> #Person1# just finished #Person1#'s paper and asks #Person2# to check out the paper. #Person1# tells #Person2# that #Person1# worked hard on it and regrets the time spent.</s>   \n",
       "6                                                                      <pad> #Person1# will apply for a healthcare record to #Person2# and has to pay ten yuan for the registration. #Person2# gives #Person1# the shortcut to the consulting room.</s>   \n",
       "7                                                                                  <pad> #Person2# couldn't finish his report, because he has to finish it by noon. #Person1# tells him the problem is the work is too busy because he can't study.</s>   \n",
       "8                                                                                                                               <pad> #Person1# show #Person2# a new toy car and asks #Person2# for the price. #Person2# agrees and pays to buy it.</s>   \n",
       "9                                       <pad> #Person2# likes the restaurant but #Person1# thinks it's a new restaurant and may not be reliable. #Person2# also liked the food and the service. #Person2# doesn't want to try the restaurant again.</s>   \n",
       "10                                                                                                                                   <pad> Alice cannot meet with Li Hong tomorrow morning, because her mother is sick. Li Hong is helped by Alice.</s>   \n",
       "11                                                                                                                     <pad> #Person2# offers purple assmemes at 150 yuan a piece and displays a volume discount for over 1 000 yuan for #Person1#.</s>   \n",
       "12      <pad> #Person1# got Charlotte's look on Honey's face after a talk in this town. #Person2# has just quit smoking and leaves Charlotte with an ashtray. #Person1# wants a divorce. Charlotte's health is deteriorating and is trying to quit.</s>   \n",
       "13                                              <pad> #Person1# requests #Person2#'s help to confirm our flight to London to reconfirm our flight. #Person2# gives the flight number and the time tomorrow, and #Person1# did not call the airline.</s>   \n",
       "14                                                                                      <pad> #Person1# wants to order DEL cable, whereas #Person2# recommends dial-up because 7.49PM uses DEL. So, #Person1# has trouble with automatic phone use.</s>   \n",
       "15                                                                                                                                                         <pad> Amanda liked her cap. But Amanda dislikes a top hat. She's reluctant to buy a cap.</s>   \n",
       "16                                                                             <pad> #Person1# walks in the wrong direction to get to the Cross Bakery building because #Person2# turns on opposite direction, and directs him to the cross bakery.</s>   \n",
       "17                                                                                                                                        <pad> #Person1#'s flight got in 15 minutes ago. #Person2# will go and find out if there is any more help.</s>   \n",
       "18  <pad> #Person1# wants to form a music band. #Person2# tells #Person1# they have a guy who plays guitar and a bass guy. #Person1# invites #Person2# to audition. #Person1# tells #Person2# #Person2# has no space to keep the drums or practice.</s>   \n",
       "19                                                                       <pad> #Person1# didn't open the window before leaving the house, because the robber broke in and then left through the door. Allen doesn't think there's anybody in there.</s>   \n",
       "\n",
       "                                                                                                                                                                                                               response_after  \\\n",
       "0                                                                                                         <pad> Judy and Judy couldn't tell everyone they had fired Richard because we were told about it by our manager.</s>   \n",
       "1                           <pad> Plus, today a great deal of families use personal computers. To use them they consider the customers' invitation for shopping, the shipping Department and singing program are offered.</s>   \n",
       "2                                          <pad> #Person1# wants to have this cached. #Person2# asks several questions about the name and address of a person; on the request, #Person1# mentions the amount of the cash.</s>   \n",
       "3                  <pad> #Person1# wants to work full-time, but #Person2# highlights the types of jobs innovators can be helpful in making recommendations. #Person1# can now find some information about the job center.</s>   \n",
       "4                                                                                         <pad> #Person1# and #Person2# are very pleased about the final draft of the contract and today they are preparing a full draft.</s>   \n",
       "5                                                                                                                    <pad> #Person1# recently finished a paper. #Person2# shows him his paper and gives him a compliment.</s>   \n",
       "6                                     <pad> #Person1# and #Person2# are going to register online to register for medicine at the offices and will bring their registration card with them when they come to the pharmacy.</s>   \n",
       "7                                                                                                           <pad> #Person1# and #Person2# are having a coffee break. They think they make better by taking a short break.</s>   \n",
       "8                                                                                                                                      <pad> #Person1# helps #Person2# to get a toy car by selling it out on a low price.</s>   \n",
       "9                                     <pad> #Person1# and #Person2# mention the poor service, but #Person2# thinks the food was pretty mediocre. They will try another restaurant, but they don't want to be there again.</s>   \n",
       "10                                                                                  <pad> Li Hong's mother's ill so Alice can't go to see Mrs. Brown tomorrow morning. Finally, she comes over to visit Mrs. Brown later.</s>   \n",
       "11                                                                                         <pad> #Person2# offers to #Person1# the jewellery at 150 yuan a piece. They get a price notwithstanding its new welcome price.</s>   \n",
       "12                            <pad> #Person1# can't afford to c Pat since the smoke isn't hot enough for quits. #Person1# asks for a divorce but won't quit too because *Person1# doesn't have thewillpower to just quit.</s>   \n",
       "13                                                                                                    <pad> #Person1# helps #Person2# to book the flight to London. They awill dial 38 regarding flight number to London.</s>   \n",
       "14                                                                         <pad> #Person1# needs some sensitive internet and decides to buy DEL. #Person2# recommends DEL because it doesn't tie up with the phone lines.</s>   \n",
       "15                                                                                                                                          <pad> Amanda likes going for top hats but #Person2# doesn't want to buy caps.</s>   \n",
       "16                                                               <pad> #Person2# explains how to get to the Cross Bakery building. #Person1# thinks #Person1#'s headed down the road and lets #Person2# show him the way.</s>   \n",
       "17                                                                                                     <pad> #Person1#'s flight got in and everyone else has picked up the luggage, but #Person1#'s doesn't come through.</s>   \n",
       "18  <pad> #Person1# wants to start a music band. #Person2# tells him the band is made up of two singers and not much room. #Person1# invites him to audition this weekend. #Person2# thinks #Person1# has musical talent.</s>   \n",
       "19                                                                           <pad> Allen only opened the door by chance and there is a robber. Allen does not care about what robber robbed. He says he will see someone.</s>   \n",
       "\n",
       "    reward_before  reward_after  reward_diff  \n",
       "0        0.056636      1.627915     1.571279  \n",
       "1        2.324634      2.754008     0.429374  \n",
       "2        1.862812      2.267187     0.404374  \n",
       "3        2.131224      2.525581     0.394357  \n",
       "4        3.115128      3.469293     0.354164  \n",
       "5        2.527439      2.783747     0.256308  \n",
       "6        1.454836      1.676728     0.221892  \n",
       "7        1.793143      1.999226     0.206083  \n",
       "8        1.317103      1.470456     0.153353  \n",
       "9        2.262164      2.273034     0.010870  \n",
       "10       1.529020      1.481759    -0.047261  \n",
       "11       2.558400      2.506630    -0.051770  \n",
       "12       1.405701      1.347364    -0.058337  \n",
       "13       1.914054      1.851813    -0.062241  \n",
       "14       2.306232      2.195756    -0.110476  \n",
       "15       1.512949      1.396727    -0.116222  \n",
       "16       2.779036      2.558678    -0.220358  \n",
       "17       2.682595      2.360608    -0.321988  \n",
       "18       3.031549      2.595327    -0.436223  \n",
       "19       2.050115      1.609332    -0.440783  "
      ]
     },
     "execution_count": 29,
     "metadata": {},
     "output_type": "execute_result"
    }
   ],
   "source": [
    "pd.set_option('display.max_colwidth', 500)\n",
    "df_compare_results = pd.DataFrame(compare_results)\n",
    "df_compare_results[\"reward_diff\"] = df_compare_results['reward_after'] - df_compare_results['reward_before']\n",
    "df_compare_results_sorted = df_compare_results.sort_values(by=['reward_diff'], ascending=False).reset_index(drop=True)\n",
    "df_compare_results_sorted"
   ]
  },
  {
   "cell_type": "markdown",
   "id": "e7fb2477-f719-48de-b169-0607d355a8f6",
   "metadata": {
    "pycharm": {
     "name": "#%% md\n"
    }
   },
   "source": [
    "Looking at the reward mean/median of the generated sequences you can observe a significant difference!"
   ]
  }
 ],
 "metadata": {
  "availableInstances": [
   {
    "_defaultOrder": 0,
    "_isFastLaunch": true,
    "category": "General purpose",
    "gpuNum": 0,
    "hideHardwareSpecs": false,
    "memoryGiB": 4,
    "name": "ml.t3.medium",
    "vcpuNum": 2
   },
   {
    "_defaultOrder": 1,
    "_isFastLaunch": false,
    "category": "General purpose",
    "gpuNum": 0,
    "hideHardwareSpecs": false,
    "memoryGiB": 8,
    "name": "ml.t3.large",
    "vcpuNum": 2
   },
   {
    "_defaultOrder": 2,
    "_isFastLaunch": false,
    "category": "General purpose",
    "gpuNum": 0,
    "hideHardwareSpecs": false,
    "memoryGiB": 16,
    "name": "ml.t3.xlarge",
    "vcpuNum": 4
   },
   {
    "_defaultOrder": 3,
    "_isFastLaunch": false,
    "category": "General purpose",
    "gpuNum": 0,
    "hideHardwareSpecs": false,
    "memoryGiB": 32,
    "name": "ml.t3.2xlarge",
    "vcpuNum": 8
   },
   {
    "_defaultOrder": 4,
    "_isFastLaunch": true,
    "category": "General purpose",
    "gpuNum": 0,
    "hideHardwareSpecs": false,
    "memoryGiB": 8,
    "name": "ml.m5.large",
    "vcpuNum": 2
   },
   {
    "_defaultOrder": 5,
    "_isFastLaunch": false,
    "category": "General purpose",
    "gpuNum": 0,
    "hideHardwareSpecs": false,
    "memoryGiB": 16,
    "name": "ml.m5.xlarge",
    "vcpuNum": 4
   },
   {
    "_defaultOrder": 6,
    "_isFastLaunch": false,
    "category": "General purpose",
    "gpuNum": 0,
    "hideHardwareSpecs": false,
    "memoryGiB": 32,
    "name": "ml.m5.2xlarge",
    "vcpuNum": 8
   },
   {
    "_defaultOrder": 7,
    "_isFastLaunch": false,
    "category": "General purpose",
    "gpuNum": 0,
    "hideHardwareSpecs": false,
    "memoryGiB": 64,
    "name": "ml.m5.4xlarge",
    "vcpuNum": 16
   },
   {
    "_defaultOrder": 8,
    "_isFastLaunch": false,
    "category": "General purpose",
    "gpuNum": 0,
    "hideHardwareSpecs": false,
    "memoryGiB": 128,
    "name": "ml.m5.8xlarge",
    "vcpuNum": 32
   },
   {
    "_defaultOrder": 9,
    "_isFastLaunch": false,
    "category": "General purpose",
    "gpuNum": 0,
    "hideHardwareSpecs": false,
    "memoryGiB": 192,
    "name": "ml.m5.12xlarge",
    "vcpuNum": 48
   },
   {
    "_defaultOrder": 10,
    "_isFastLaunch": false,
    "category": "General purpose",
    "gpuNum": 0,
    "hideHardwareSpecs": false,
    "memoryGiB": 256,
    "name": "ml.m5.16xlarge",
    "vcpuNum": 64
   },
   {
    "_defaultOrder": 11,
    "_isFastLaunch": false,
    "category": "General purpose",
    "gpuNum": 0,
    "hideHardwareSpecs": false,
    "memoryGiB": 384,
    "name": "ml.m5.24xlarge",
    "vcpuNum": 96
   },
   {
    "_defaultOrder": 12,
    "_isFastLaunch": false,
    "category": "General purpose",
    "gpuNum": 0,
    "hideHardwareSpecs": false,
    "memoryGiB": 8,
    "name": "ml.m5d.large",
    "vcpuNum": 2
   },
   {
    "_defaultOrder": 13,
    "_isFastLaunch": false,
    "category": "General purpose",
    "gpuNum": 0,
    "hideHardwareSpecs": false,
    "memoryGiB": 16,
    "name": "ml.m5d.xlarge",
    "vcpuNum": 4
   },
   {
    "_defaultOrder": 14,
    "_isFastLaunch": false,
    "category": "General purpose",
    "gpuNum": 0,
    "hideHardwareSpecs": false,
    "memoryGiB": 32,
    "name": "ml.m5d.2xlarge",
    "vcpuNum": 8
   },
   {
    "_defaultOrder": 15,
    "_isFastLaunch": false,
    "category": "General purpose",
    "gpuNum": 0,
    "hideHardwareSpecs": false,
    "memoryGiB": 64,
    "name": "ml.m5d.4xlarge",
    "vcpuNum": 16
   },
   {
    "_defaultOrder": 16,
    "_isFastLaunch": false,
    "category": "General purpose",
    "gpuNum": 0,
    "hideHardwareSpecs": false,
    "memoryGiB": 128,
    "name": "ml.m5d.8xlarge",
    "vcpuNum": 32
   },
   {
    "_defaultOrder": 17,
    "_isFastLaunch": false,
    "category": "General purpose",
    "gpuNum": 0,
    "hideHardwareSpecs": false,
    "memoryGiB": 192,
    "name": "ml.m5d.12xlarge",
    "vcpuNum": 48
   },
   {
    "_defaultOrder": 18,
    "_isFastLaunch": false,
    "category": "General purpose",
    "gpuNum": 0,
    "hideHardwareSpecs": false,
    "memoryGiB": 256,
    "name": "ml.m5d.16xlarge",
    "vcpuNum": 64
   },
   {
    "_defaultOrder": 19,
    "_isFastLaunch": false,
    "category": "General purpose",
    "gpuNum": 0,
    "hideHardwareSpecs": false,
    "memoryGiB": 384,
    "name": "ml.m5d.24xlarge",
    "vcpuNum": 96
   },
   {
    "_defaultOrder": 20,
    "_isFastLaunch": false,
    "category": "General purpose",
    "gpuNum": 0,
    "hideHardwareSpecs": true,
    "memoryGiB": 0,
    "name": "ml.geospatial.interactive",
    "supportedImageNames": [
     "sagemaker-geospatial-v1-0"
    ],
    "vcpuNum": 0
   },
   {
    "_defaultOrder": 21,
    "_isFastLaunch": true,
    "category": "Compute optimized",
    "gpuNum": 0,
    "hideHardwareSpecs": false,
    "memoryGiB": 4,
    "name": "ml.c5.large",
    "vcpuNum": 2
   },
   {
    "_defaultOrder": 22,
    "_isFastLaunch": false,
    "category": "Compute optimized",
    "gpuNum": 0,
    "hideHardwareSpecs": false,
    "memoryGiB": 8,
    "name": "ml.c5.xlarge",
    "vcpuNum": 4
   },
   {
    "_defaultOrder": 23,
    "_isFastLaunch": false,
    "category": "Compute optimized",
    "gpuNum": 0,
    "hideHardwareSpecs": false,
    "memoryGiB": 16,
    "name": "ml.c5.2xlarge",
    "vcpuNum": 8
   },
   {
    "_defaultOrder": 24,
    "_isFastLaunch": false,
    "category": "Compute optimized",
    "gpuNum": 0,
    "hideHardwareSpecs": false,
    "memoryGiB": 32,
    "name": "ml.c5.4xlarge",
    "vcpuNum": 16
   },
   {
    "_defaultOrder": 25,
    "_isFastLaunch": false,
    "category": "Compute optimized",
    "gpuNum": 0,
    "hideHardwareSpecs": false,
    "memoryGiB": 72,
    "name": "ml.c5.9xlarge",
    "vcpuNum": 36
   },
   {
    "_defaultOrder": 26,
    "_isFastLaunch": false,
    "category": "Compute optimized",
    "gpuNum": 0,
    "hideHardwareSpecs": false,
    "memoryGiB": 96,
    "name": "ml.c5.12xlarge",
    "vcpuNum": 48
   },
   {
    "_defaultOrder": 27,
    "_isFastLaunch": false,
    "category": "Compute optimized",
    "gpuNum": 0,
    "hideHardwareSpecs": false,
    "memoryGiB": 144,
    "name": "ml.c5.18xlarge",
    "vcpuNum": 72
   },
   {
    "_defaultOrder": 28,
    "_isFastLaunch": false,
    "category": "Compute optimized",
    "gpuNum": 0,
    "hideHardwareSpecs": false,
    "memoryGiB": 192,
    "name": "ml.c5.24xlarge",
    "vcpuNum": 96
   },
   {
    "_defaultOrder": 29,
    "_isFastLaunch": true,
    "category": "Accelerated computing",
    "gpuNum": 1,
    "hideHardwareSpecs": false,
    "memoryGiB": 16,
    "name": "ml.g4dn.xlarge",
    "vcpuNum": 4
   },
   {
    "_defaultOrder": 30,
    "_isFastLaunch": false,
    "category": "Accelerated computing",
    "gpuNum": 1,
    "hideHardwareSpecs": false,
    "memoryGiB": 32,
    "name": "ml.g4dn.2xlarge",
    "vcpuNum": 8
   },
   {
    "_defaultOrder": 31,
    "_isFastLaunch": false,
    "category": "Accelerated computing",
    "gpuNum": 1,
    "hideHardwareSpecs": false,
    "memoryGiB": 64,
    "name": "ml.g4dn.4xlarge",
    "vcpuNum": 16
   },
   {
    "_defaultOrder": 32,
    "_isFastLaunch": false,
    "category": "Accelerated computing",
    "gpuNum": 1,
    "hideHardwareSpecs": false,
    "memoryGiB": 128,
    "name": "ml.g4dn.8xlarge",
    "vcpuNum": 32
   },
   {
    "_defaultOrder": 33,
    "_isFastLaunch": false,
    "category": "Accelerated computing",
    "gpuNum": 4,
    "hideHardwareSpecs": false,
    "memoryGiB": 192,
    "name": "ml.g4dn.12xlarge",
    "vcpuNum": 48
   },
   {
    "_defaultOrder": 34,
    "_isFastLaunch": false,
    "category": "Accelerated computing",
    "gpuNum": 1,
    "hideHardwareSpecs": false,
    "memoryGiB": 256,
    "name": "ml.g4dn.16xlarge",
    "vcpuNum": 64
   },
   {
    "_defaultOrder": 35,
    "_isFastLaunch": false,
    "category": "Accelerated computing",
    "gpuNum": 1,
    "hideHardwareSpecs": false,
    "memoryGiB": 61,
    "name": "ml.p3.2xlarge",
    "vcpuNum": 8
   },
   {
    "_defaultOrder": 36,
    "_isFastLaunch": false,
    "category": "Accelerated computing",
    "gpuNum": 4,
    "hideHardwareSpecs": false,
    "memoryGiB": 244,
    "name": "ml.p3.8xlarge",
    "vcpuNum": 32
   },
   {
    "_defaultOrder": 37,
    "_isFastLaunch": false,
    "category": "Accelerated computing",
    "gpuNum": 8,
    "hideHardwareSpecs": false,
    "memoryGiB": 488,
    "name": "ml.p3.16xlarge",
    "vcpuNum": 64
   },
   {
    "_defaultOrder": 38,
    "_isFastLaunch": false,
    "category": "Accelerated computing",
    "gpuNum": 8,
    "hideHardwareSpecs": false,
    "memoryGiB": 768,
    "name": "ml.p3dn.24xlarge",
    "vcpuNum": 96
   },
   {
    "_defaultOrder": 39,
    "_isFastLaunch": false,
    "category": "Memory Optimized",
    "gpuNum": 0,
    "hideHardwareSpecs": false,
    "memoryGiB": 16,
    "name": "ml.r5.large",
    "vcpuNum": 2
   },
   {
    "_defaultOrder": 40,
    "_isFastLaunch": false,
    "category": "Memory Optimized",
    "gpuNum": 0,
    "hideHardwareSpecs": false,
    "memoryGiB": 32,
    "name": "ml.r5.xlarge",
    "vcpuNum": 4
   },
   {
    "_defaultOrder": 41,
    "_isFastLaunch": false,
    "category": "Memory Optimized",
    "gpuNum": 0,
    "hideHardwareSpecs": false,
    "memoryGiB": 64,
    "name": "ml.r5.2xlarge",
    "vcpuNum": 8
   },
   {
    "_defaultOrder": 42,
    "_isFastLaunch": false,
    "category": "Memory Optimized",
    "gpuNum": 0,
    "hideHardwareSpecs": false,
    "memoryGiB": 128,
    "name": "ml.r5.4xlarge",
    "vcpuNum": 16
   },
   {
    "_defaultOrder": 43,
    "_isFastLaunch": false,
    "category": "Memory Optimized",
    "gpuNum": 0,
    "hideHardwareSpecs": false,
    "memoryGiB": 256,
    "name": "ml.r5.8xlarge",
    "vcpuNum": 32
   },
   {
    "_defaultOrder": 44,
    "_isFastLaunch": false,
    "category": "Memory Optimized",
    "gpuNum": 0,
    "hideHardwareSpecs": false,
    "memoryGiB": 384,
    "name": "ml.r5.12xlarge",
    "vcpuNum": 48
   },
   {
    "_defaultOrder": 45,
    "_isFastLaunch": false,
    "category": "Memory Optimized",
    "gpuNum": 0,
    "hideHardwareSpecs": false,
    "memoryGiB": 512,
    "name": "ml.r5.16xlarge",
    "vcpuNum": 64
   },
   {
    "_defaultOrder": 46,
    "_isFastLaunch": false,
    "category": "Memory Optimized",
    "gpuNum": 0,
    "hideHardwareSpecs": false,
    "memoryGiB": 768,
    "name": "ml.r5.24xlarge",
    "vcpuNum": 96
   },
   {
    "_defaultOrder": 47,
    "_isFastLaunch": false,
    "category": "Accelerated computing",
    "gpuNum": 1,
    "hideHardwareSpecs": false,
    "memoryGiB": 16,
    "name": "ml.g5.xlarge",
    "vcpuNum": 4
   },
   {
    "_defaultOrder": 48,
    "_isFastLaunch": false,
    "category": "Accelerated computing",
    "gpuNum": 1,
    "hideHardwareSpecs": false,
    "memoryGiB": 32,
    "name": "ml.g5.2xlarge",
    "vcpuNum": 8
   },
   {
    "_defaultOrder": 49,
    "_isFastLaunch": false,
    "category": "Accelerated computing",
    "gpuNum": 1,
    "hideHardwareSpecs": false,
    "memoryGiB": 64,
    "name": "ml.g5.4xlarge",
    "vcpuNum": 16
   },
   {
    "_defaultOrder": 50,
    "_isFastLaunch": false,
    "category": "Accelerated computing",
    "gpuNum": 1,
    "hideHardwareSpecs": false,
    "memoryGiB": 128,
    "name": "ml.g5.8xlarge",
    "vcpuNum": 32
   },
   {
    "_defaultOrder": 51,
    "_isFastLaunch": false,
    "category": "Accelerated computing",
    "gpuNum": 1,
    "hideHardwareSpecs": false,
    "memoryGiB": 256,
    "name": "ml.g5.16xlarge",
    "vcpuNum": 64
   },
   {
    "_defaultOrder": 52,
    "_isFastLaunch": false,
    "category": "Accelerated computing",
    "gpuNum": 4,
    "hideHardwareSpecs": false,
    "memoryGiB": 192,
    "name": "ml.g5.12xlarge",
    "vcpuNum": 48
   },
   {
    "_defaultOrder": 53,
    "_isFastLaunch": false,
    "category": "Accelerated computing",
    "gpuNum": 4,
    "hideHardwareSpecs": false,
    "memoryGiB": 384,
    "name": "ml.g5.24xlarge",
    "vcpuNum": 96
   },
   {
    "_defaultOrder": 54,
    "_isFastLaunch": false,
    "category": "Accelerated computing",
    "gpuNum": 8,
    "hideHardwareSpecs": false,
    "memoryGiB": 768,
    "name": "ml.g5.48xlarge",
    "vcpuNum": 192
   },
   {
    "_defaultOrder": 55,
    "_isFastLaunch": false,
    "category": "Accelerated computing",
    "gpuNum": 8,
    "hideHardwareSpecs": false,
    "memoryGiB": 1152,
    "name": "ml.p4d.24xlarge",
    "vcpuNum": 96
   },
   {
    "_defaultOrder": 56,
    "_isFastLaunch": false,
    "category": "Accelerated computing",
    "gpuNum": 8,
    "hideHardwareSpecs": false,
    "memoryGiB": 1152,
    "name": "ml.p4de.24xlarge",
    "vcpuNum": 96
   }
  ],
  "instance_type": "ml.m5.2xlarge",
  "kernelspec": {
   "display_name": "Python 3 (Data Science)",
   "language": "python",
   "name": "python3__SAGEMAKER_INTERNAL__arn:aws:sagemaker:us-east-1:081325390199:image/datascience-1.0"
  },
  "language_info": {
   "codemirror_mode": {
    "name": "ipython",
    "version": 3
   },
   "file_extension": ".py",
   "mimetype": "text/x-python",
   "name": "python",
   "nbconvert_exporter": "python",
   "pygments_lexer": "ipython3",
   "version": "3.7.10"
  }
 },
 "nbformat": 4,
 "nbformat_minor": 5
}