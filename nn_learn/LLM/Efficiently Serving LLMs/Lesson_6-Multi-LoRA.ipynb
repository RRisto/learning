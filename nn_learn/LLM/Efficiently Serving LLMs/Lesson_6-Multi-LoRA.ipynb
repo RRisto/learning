{
 "cells": [
  {
   "cell_type": "markdown",
   "id": "6eddab55",
   "metadata": {},
   "source": [
    "# Lesson 6 - Multi-LoRA\n",
    "\n",
    "\n",
    "In this lesson, we'll see how to efficiently serve dozens of fine-tuned models together in a single deployment without sacrificing latency."
   ]
  },
  {
   "cell_type": "markdown",
   "id": "1501fea0",
   "metadata": {},
   "source": [
    "### Import required packages"
   ]
  },
  {
   "cell_type": "code",
   "execution_count": 1,
   "id": "c7964cc5-0d8d-4ff1-9cdc-89032e45fa6e",
   "metadata": {
    "height": 149
   },
   "outputs": [],
   "source": [
    "import copy\n",
    "import matplotlib.pyplot as plt\n",
    "import numpy as np\n",
    "import random\n",
    "import time\n",
    "import torch\n",
    "import torch.nn.functional as F\n",
    "from tqdm import tqdm"
   ]
  },
  {
   "cell_type": "markdown",
   "id": "2b62bb64",
   "metadata": {},
   "source": [
    "### Let's create a new model\n",
    "\n",
    "We will start with creating an extension to the model from lesson 5. It has a custom helper function for computing the LoRA layer step with multiple LoRAs per batch."
   ]
  },
  {
   "cell_type": "code",
   "execution_count": 2,
   "id": "ecf12393-deae-4daa-a93a-0b7faa3ad3ff",
   "metadata": {
    "height": 506
   },
   "outputs": [],
   "source": [
    "class AbstractMultiLoraModel(torch.nn.Module):\n",
    "    def __init__(self):\n",
    "        super().__init__()\n",
    "        \n",
    "        # hidden_size = 10\n",
    "        # set this so low to ensure we are not \n",
    "        # compute-bound by the linear layer\n",
    "        # this is only an issue when running on CPU, \n",
    "        # for GPUs we can set this much\n",
    "        # higher and still avoid being compute bound\n",
    "        self.embedding = torch.nn.Embedding(10, 10)\n",
    "        self.linear = torch.nn.Linear(10, 10)\n",
    "        self.lm_head = torch.nn.Linear(10, 10)\n",
    "\n",
    "    def linear_lora(\n",
    "        self,\n",
    "        x: torch.Tensor,                 # (batch_size, seq_len, in_features)\n",
    "        loras_a: torch.Tensor,           # (num_loras, in_features, rank)\n",
    "        loras_b: torch.Tensor,           # (num_loras, rank, out_features)\n",
    "        lora_indices: torch.LongTensor,  # (batch_size,)\n",
    "    ) -> torch.Tensor:\n",
    "        # y[i] = x[i] @ loras_a[lora_idx] @ loras_b[lora_idx]\n",
    "        raise NotImplementedError()\n",
    "\n",
    "    def forward(self, input_ids, loras_a, loras_b, lora_indices):\n",
    "        x = self.embedding(input_ids)\n",
    "        x = self.linear_lora(x, loras_a, loras_b, lora_indices)\n",
    "        x = self.lm_head(x)\n",
    "        return x"
   ]
  },
  {
   "cell_type": "markdown",
   "id": "2ae0ebbf",
   "metadata": {},
   "source": [
    "### Using a loop\n",
    "\n",
    "Our first attempt to infer across multiple LoRAs will be straightforward: just loop over every row in the batch and apply the correct LoRA using an index mapping: `batch_index --> lora_index`."
   ]
  },
  {
   "cell_type": "code",
   "execution_count": 3,
   "id": "94861153-8bfe-4ae5-9b31-fa7f78e23793",
   "metadata": {
    "height": 251
   },
   "outputs": [],
   "source": [
    "class LoopMultiLoraModel(AbstractMultiLoraModel):\n",
    "    def linear_lora(\n",
    "        self,\n",
    "        x: torch.Tensor,                 # (batch_size, seq_len, in_features)\n",
    "        loras_a: torch.Tensor,           # (num_loras, in_features, lora_rank)\n",
    "        loras_b: torch.Tensor,           # (num_loras, lora_rank, out_features)\n",
    "        lora_indices: torch.LongTensor,  # (batch_size,)\n",
    "    ) -> torch.Tensor:\n",
    "        y = self.linear(x)\n",
    "        for batch_idx, lora_idx in enumerate(lora_indices.numpy()):\n",
    "            lora_a = loras_a[lora_idx]\n",
    "            lora_b = loras_b[lora_idx]\n",
    "            y[batch_idx] += x[batch_idx] @ lora_a @ lora_b\n",
    "        return y"
   ]
  },
  {
   "cell_type": "code",
   "execution_count": 4,
   "id": "a75c87fe-41e3-45ba-aeec-6e00b48e9d53",
   "metadata": {
    "height": 234
   },
   "outputs": [],
   "source": [
    "# toy example of a detokenizer. The vocabular only consists of 10 words (different colors)\n",
    "detokenizer = [\n",
    "    \"red\",\n",
    "    \"orange\",\n",
    "    \"yellow\",\n",
    "    \"green\",\n",
    "    \"blue\",\n",
    "    \"indigo\",\n",
    "    \"violet\",\n",
    "    \"magenta\",\n",
    "    \"marigold\",\n",
    "    \"chartreuse\",\n",
    "]"
   ]
  },
  {
   "cell_type": "code",
   "execution_count": 5,
   "id": "8e45b3e3-df57-4da1-af74-6658d677b9a1",
   "metadata": {
    "height": 47
   },
   "outputs": [],
   "source": [
    "# dummy inputs\n",
    "input_ids = torch.LongTensor([[0, 1, 2, 3, 4, 5, 6, 7]])"
   ]
  },
  {
   "cell_type": "code",
   "execution_count": 6,
   "id": "3b1f7a87-f359-40d9-b5f1-e516c855f6bb",
   "metadata": {
    "height": 30
   },
   "outputs": [
    {
     "data": {
      "text/plain": [
       "<torch._C.Generator at 0x7fac04cf5590>"
      ]
     },
     "execution_count": 6,
     "metadata": {},
     "output_type": "execute_result"
    }
   ],
   "source": [
    "torch.manual_seed(42)"
   ]
  },
  {
   "cell_type": "code",
   "execution_count": 7,
   "id": "ecd7fc8d-be71-416b-888d-391714dd8eeb",
   "metadata": {
    "height": 132
   },
   "outputs": [],
   "source": [
    "def generate_token(model, **kwargs):\n",
    "    with torch.no_grad():\n",
    "        logits = model(**kwargs)\n",
    "    last_logits = logits[:, -1, :]\n",
    "    next_token_ids = last_logits.argmax(dim=1)\n",
    "\n",
    "    return [detokenizer[token_id] for token_id in next_token_ids]"
   ]
  },
  {
   "cell_type": "code",
   "execution_count": 8,
   "id": "a30f863f-36b9-4f2c-9a06-33a3c5ef565c",
   "metadata": {
    "height": 30
   },
   "outputs": [],
   "source": [
    "model = LoopMultiLoraModel()"
   ]
  },
  {
   "cell_type": "markdown",
   "id": "ecbbe14c",
   "metadata": {},
   "source": [
    "### Let's try it!\n",
    "\n",
    "We will try this over a few random LoRAs using a fixed tensor of input_ids. If our multi-LoRA generation process is working as designed, we should see a variety of different outputs generated as we randomly iterate over the LoRAs."
   ]
  },
  {
   "cell_type": "code",
   "execution_count": 9,
   "id": "818f27ef-9e6e-4aa5-bebd-06c2ffa7e711",
   "metadata": {
    "height": 370
   },
   "outputs": [
    {
     "name": "stdout",
     "output_type": "stream",
     "text": [
      "['orange']\n",
      "['red']\n",
      "['chartreuse']\n",
      "['yellow']\n",
      "['marigold']\n",
      "['yellow']\n",
      "['red']\n",
      "['orange']\n",
      "['violet']\n",
      "['red']\n"
     ]
    }
   ],
   "source": [
    "# constants\n",
    "bs = 1\n",
    "num_loras = 64\n",
    "h = 10\n",
    "r = 2\n",
    "\n",
    "# create contiguous blocks for 64 random LoRA weights\n",
    "loras_a = torch.randn(num_loras, h, r)\n",
    "loras_b = torch.randn(num_loras, r, h)\n",
    "\n",
    "for i in range(10):\n",
    "    # randomize the LoRAs each iteration\n",
    "    lora_indices = torch.randint(num_loras, (bs,), dtype=torch.long)\n",
    "    next_token = generate_token(\n",
    "        model,\n",
    "        input_ids=input_ids,\n",
    "        loras_a=loras_a,\n",
    "        loras_b=loras_b,\n",
    "        lora_indices=lora_indices,\n",
    "    )\n",
    "    print(next_token)"
   ]
  },
  {
   "cell_type": "markdown",
   "id": "1108cbf5",
   "metadata": {},
   "source": [
    "### Let's benchmark our multi-LoRA system!\n",
    "\n",
    "We will measure the average latency to generate a single token as the batch size increases and each element within the batch can have a different LoRA adapter (chosen randomly)."
   ]
  },
  {
   "cell_type": "code",
   "execution_count": 10,
   "id": "798ce936-fbad-4a49-8c86-2c2b4ec3747b",
   "metadata": {
    "height": 608
   },
   "outputs": [],
   "source": [
    "# constants\n",
    "seq_len = 8\n",
    "vocab_size = 10\n",
    "nsamples = 500\n",
    "max_batch_size = 64\n",
    "\n",
    "\n",
    "def benchmark(model):\n",
    "    avg_latencies = []\n",
    "    for bs in range(1, max_batch_size + 1):\n",
    "        latencies = []\n",
    "        for _ in range(nsamples):\n",
    "            # randomize the inputs and LoRA indices\n",
    "            input_ids = torch.randint(\n",
    "                vocab_size, (bs, seq_len), dtype=torch.long)\n",
    "            lora_indices = torch.randint(\n",
    "                num_loras, (bs,), dtype=torch.long)\n",
    "\n",
    "            # measure the end-to-end latency for \n",
    "            # generating a single token\n",
    "            t0 = time.time()\n",
    "            next_token = generate_token(\n",
    "                model,\n",
    "                input_ids=input_ids,\n",
    "                loras_a=loras_a,\n",
    "                loras_b=loras_b,\n",
    "                lora_indices=lora_indices,\n",
    "            )\n",
    "            latencies.append(time.time() - t0)\n",
    "\n",
    "        # average the latency across all the samples\n",
    "        latency_s = sum(latencies) / len(latencies)\n",
    "        avg_latencies.append(latency_s)\n",
    "        print(bs, latency_s)\n",
    "    return avg_latencies"
   ]
  },
  {
   "cell_type": "markdown",
   "id": "b1c960d4",
   "metadata": {},
   "source": [
    "**Note:** Your results might differ from those shown in the video, but they will still follow the same pattern."
   ]
  },
  {
   "cell_type": "code",
   "execution_count": 11,
   "id": "33d1f038-a3a9-4e4f-be18-36af0a31572a",
   "metadata": {
    "height": 30
   },
   "outputs": [
    {
     "name": "stdout",
     "output_type": "stream",
     "text": [
      "1 0.0001439051628112793\n",
      "2 0.00017166662216186525\n",
      "3 0.000201693058013916\n",
      "4 0.0002203488349914551\n",
      "5 0.0002518186569213867\n",
      "6 0.000280487060546875\n",
      "7 0.0003058738708496094\n",
      "8 0.00032487058639526367\n",
      "9 0.00035492801666259764\n",
      "10 0.00037976598739624024\n",
      "11 0.00041201591491699216\n",
      "12 0.0004510831832885742\n",
      "13 0.00047496366500854493\n",
      "14 0.0004976401329040527\n",
      "15 0.0005226550102233887\n",
      "16 0.0005449995994567871\n",
      "17 0.0005762491226196289\n",
      "18 0.0006026115417480469\n",
      "19 0.0006367444992065429\n",
      "20 0.0006589574813842773\n",
      "21 0.0006749944686889649\n",
      "22 0.0007059693336486817\n",
      "23 0.0007264513969421387\n",
      "24 0.0007527132034301758\n",
      "25 0.0007905192375183105\n",
      "26 0.0007925872802734375\n",
      "27 0.0007458987236022949\n",
      "28 0.0007658753395080566\n",
      "29 0.0007909131050109863\n",
      "30 0.0008047809600830078\n",
      "31 0.0008325176239013672\n",
      "32 0.0008706045150756836\n",
      "33 0.0008930573463439941\n",
      "34 0.0009219675064086914\n",
      "35 0.0009371461868286133\n",
      "36 0.0009694581031799317\n",
      "37 0.0009786248207092284\n",
      "38 0.0010027575492858886\n",
      "39 0.0010424237251281739\n",
      "40 0.0010651326179504394\n",
      "41 0.0010586466789245606\n",
      "42 0.0010824499130249023\n",
      "43 0.0011094589233398438\n",
      "44 0.0011307802200317383\n",
      "45 0.001157012939453125\n",
      "46 0.001180492877960205\n",
      "47 0.0012000937461853027\n",
      "48 0.0012286076545715333\n",
      "49 0.00124904203414917\n",
      "50 0.0012592635154724122\n",
      "51 0.0012907924652099609\n",
      "52 0.001313891887664795\n",
      "53 0.0013409733772277832\n",
      "54 0.0013489351272583008\n",
      "55 0.0013856711387634278\n",
      "56 0.0015664024353027343\n",
      "57 0.0015140972137451171\n",
      "58 0.0014569244384765624\n",
      "59 0.0014788446426391602\n",
      "60 0.0014870328903198243\n",
      "61 0.0015470247268676758\n",
      "62 0.0015473337173461915\n",
      "63 0.0015619916915893554\n",
      "64 0.001582798957824707\n"
     ]
    }
   ],
   "source": [
    "avg_latencies_loop = benchmark(model)"
   ]
  },
  {
   "cell_type": "markdown",
   "id": "3e88a95a",
   "metadata": {},
   "source": [
    "### Let's visualize it!\n",
    "\n",
    "**Note**: Your plot may vary slightly from the one shown in the video, yet it will exhibit a similar pattern."
   ]
  },
  {
   "cell_type": "code",
   "execution_count": 12,
   "id": "cf2c5122-37da-4a58-8e1a-ca211dc2551f",
   "metadata": {
    "height": 166
   },
   "outputs": [
    {
     "data": {
      "image/png": "[encoded data removed]",
      "text/plain": [
       "<Figure size 640x480 with 1 Axes>"
      ]
     },
     "metadata": {},
     "output_type": "display_data"
    }
   ],
   "source": [
    "x = list(range(1, max_batch_size + 1))\n",
    "plt.plot(x, avg_latencies_loop, label=\"loop\")\n",
    "\n",
    "plt.xlabel('Batch Size')\n",
    "plt.ylabel('Avg Latency (s)')\n",
    "plt.title('Multi-LoRA latency w.r.t. batch size')\n",
    "plt.legend()\n",
    "\n",
    "plt.show()"
   ]
  },
  {
   "cell_type": "markdown",
   "id": "4adf9077",
   "metadata": {},
   "source": [
    "### Let's vectorize the LoRA computation\n",
    "\n",
    "We will vectorize the LoRA computation by:\n",
    "\n",
    "1. Gather the LoRA weight for each batch into a single tensor using `torch.index_select`.\n",
    "2. Apply LoRA computation once for the entire input tensor."
   ]
  },
  {
   "cell_type": "code",
   "execution_count": 13,
   "id": "5801f273-741e-4466-bb63-b8913562723b",
   "metadata": {
    "height": 268
   },
   "outputs": [],
   "source": [
    "class GatheredMultiLoraModel(AbstractMultiLoraModel):\n",
    "    def linear_lora(\n",
    "        self,\n",
    "        x: torch.Tensor,                 # (batch_size, seq_len, in_features)\n",
    "        loras_a: torch.Tensor,           # (num_loras, in_features, lora_rank)\n",
    "        loras_b: torch.Tensor,           # (num_loras, lora_rank, out_features)\n",
    "        lora_indices: torch.LongTensor,  # (batch_size,)\n",
    "    ) -> torch.Tensor:\n",
    "        y = self.linear(x)\n",
    "        \n",
    "        # gather the LoRA weights into a new tensor and apply\n",
    "        lora_a = torch.index_select(loras_a, 0, lora_indices) # (batch_size, in_features, lora_rank)\n",
    "        lora_b = torch.index_select(loras_b, 0, lora_indices) # (batch_size, lora_rank, out_features)\n",
    "        y += x @ lora_a @ lora_b\n",
    "        return y"
   ]
  },
  {
   "cell_type": "code",
   "execution_count": 14,
   "id": "f8aafb6e-6981-4c83-9f9d-60d2e8958746",
   "metadata": {
    "height": 30
   },
   "outputs": [],
   "source": [
    "model = GatheredMultiLoraModel()"
   ]
  },
  {
   "cell_type": "markdown",
   "id": "2f6ae3db",
   "metadata": {},
   "source": [
    "**Note:** Your results might differ from those shown in the video, but they will still follow the same pattern."
   ]
  },
  {
   "cell_type": "code",
   "execution_count": 15,
   "id": "c3843d58-4fd5-4141-a73a-69d1d01db89d",
   "metadata": {
    "height": 30
   },
   "outputs": [
    {
     "name": "stdout",
     "output_type": "stream",
     "text": [
      "1 0.0001141352653503418\n",
      "2 0.0027269396781921386\n",
      "3 0.002991199016571045\n",
      "4 0.0031674227714538574\n",
      "5 0.003378331184387207\n",
      "6 0.0029877190589904785\n",
      "7 0.003191020488739014\n",
      "8 0.0033805785179138186\n",
      "9 0.0033874683380126953\n",
      "10 0.003177490711212158\n",
      "11 0.0033908476829528807\n",
      "12 0.004609073638916016\n",
      "13 0.004611330509185791\n",
      "14 0.002805775165557861\n",
      "15 0.003176997184753418\n",
      "16 0.003372488498687744\n",
      "17 0.0035920343399047853\n",
      "18 0.003376612663269043\n",
      "19 0.0031908488273620604\n",
      "20 0.0035799574851989747\n",
      "21 0.004179747104644776\n",
      "22 0.0035729799270629884\n",
      "23 0.003572594165802002\n",
      "24 0.004384744644165039\n",
      "25 0.005179758071899414\n",
      "26 0.0033903331756591796\n",
      "27 0.0035842952728271484\n",
      "28 0.0035810446739196777\n",
      "29 0.003777980327606201\n",
      "30 0.00358609676361084\n",
      "31 0.003977867126464843\n",
      "32 0.0037823915481567383\n",
      "33 0.0037877798080444337\n",
      "34 0.0037838630676269532\n",
      "35 0.004164605617523193\n",
      "36 0.003781876564025879\n",
      "37 0.003978095531463623\n",
      "38 0.0045855498313903805\n",
      "39 0.004774930477142334\n",
      "40 0.005163323402404785\n",
      "41 0.004779911518096923\n",
      "42 0.004567856788635254\n",
      "43 0.004174696445465088\n",
      "44 0.003983885765075684\n",
      "45 0.004170446395874023\n",
      "46 0.00596301794052124\n",
      "47 0.004561392307281495\n",
      "48 0.0043804550170898435\n",
      "49 0.005364940166473388\n",
      "50 0.005371981620788574\n",
      "51 0.005564018726348877\n",
      "52 0.0055655183792114255\n",
      "53 0.004386810779571533\n",
      "54 0.004380490303039551\n",
      "55 0.004763937950134277\n",
      "56 0.0045735487937927245\n",
      "57 0.004778271198272705\n",
      "58 0.00477190637588501\n",
      "59 0.0051694602966308595\n",
      "60 0.004778220653533936\n",
      "61 0.004764295578002929\n",
      "62 0.00496705961227417\n",
      "63 0.0047719540596008305\n",
      "64 0.00460469102859497\n"
     ]
    }
   ],
   "source": [
    "avg_latencies_gathered = benchmark(model)"
   ]
  },
  {
   "cell_type": "markdown",
   "id": "f7603255",
   "metadata": {},
   "source": [
    "### Let's visualize it!\n",
    "\n",
    "**Note**: Your plot may vary slightly from the one shown in the video, yet it will exhibit a similar pattern."
   ]
  },
  {
   "cell_type": "code",
   "execution_count": 16,
   "id": "fee3360b-a610-4c48-91d1-09d33647f1aa",
   "metadata": {
    "height": 183
   },
   "outputs": [
    {
     "data": {
      "image/png": "[encoded data removed]",
      "text/plain": [
       "<Figure size 640x480 with 1 Axes>"
      ]
     },
     "metadata": {},
     "output_type": "display_data"
    }
   ],
   "source": [
    "x = list(range(1, max_batch_size + 1))\n",
    "plt.plot(x, avg_latencies_loop, label=\"loop\")\n",
    "plt.plot(x, avg_latencies_gathered, label=\"gathered\")\n",
    "\n",
    "plt.xlabel('Batch Size')\n",
    "plt.ylabel('Avg Latency (s)')\n",
    "plt.title('Multi-LoRA latency w.r.t. batch size')\n",
    "plt.legend()\n",
    "\n",
    "plt.show()"
   ]
  }
 ],
 "metadata": {
  "kernelspec": {
   "display_name": "Python 3 (ipykernel)",
   "language": "python",
   "name": "python3"
  },
  "language_info": {
   "codemirror_mode": {
    "name": "ipython",
    "version": 3
   },
   "file_extension": ".py",
   "mimetype": "text/x-python",
   "name": "python",
   "nbconvert_exporter": "python",
   "pygments_lexer": "ipython3",
   "version": "3.11.8"
  }
 },
 "nbformat": 4,
 "nbformat_minor": 5
}
