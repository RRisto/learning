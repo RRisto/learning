{
 "cells": [
  {
   "cell_type": "code",
   "execution_count": 47,
   "id": "d7dcc7e6",
   "metadata": {},
   "outputs": [],
   "source": [
    "import torch\n",
    "import numpy as np\n",
    "import seaborn as sns"
   ]
  },
  {
   "cell_type": "markdown",
   "id": "b5d3e916",
   "metadata": {},
   "source": [
    "##  example code"
   ]
  },
  {
   "cell_type": "code",
   "execution_count": 30,
   "id": "0adf240a",
   "metadata": {},
   "outputs": [],
   "source": [
    "def create_bigbird_attention_mask(seq_length, block_size, num_global_blocks, num_random_blocks, num_attention_heads):\n",
    "    # Initialize the attention mask with zeros\n",
    "    attention_mask = torch.zeros(seq_length, seq_length)\n",
    "\n",
    "    # Global attention for the first num_global_blocks\n",
    "    attention_mask[:num_global_blocks, :] = 1\n",
    "    attention_mask[:, :num_global_blocks] = 1\n",
    "\n",
    "    # Sliding window attention\n",
    "    for i in range(seq_length):\n",
    "        start = max(i - block_size, 0)\n",
    "        end = min(i + block_size + 1, seq_length)\n",
    "        attention_mask[i, start:end] = 1\n",
    "\n",
    "    # Random attention for each head\n",
    "    np.random.seed(42)  # For reproducibility\n",
    "    for _ in range(num_attention_heads):\n",
    "        # Randomly select num_random_blocks for each head\n",
    "        rand_indices = np.random.choice(seq_length, num_random_blocks, replace=False)\n",
    "        for idx in rand_indices:\n",
    "            attention_mask[idx, :] = 1  # Random row attends to all\n",
    "            attention_mask[:, idx] = 1  # All attend to random column\n",
    "\n",
    "    return attention_mask"
   ]
  },
  {
   "cell_type": "code",
   "execution_count": 31,
   "id": "dd194027",
   "metadata": {},
   "outputs": [
    {
     "name": "stdout",
     "output_type": "stream",
     "text": [
      "tensor([[1.5654e-10, 1.2546e-12, 2.0112e-09,  ..., 2.4648e-06, 2.5993e-13,\n",
      "         1.2830e-01],\n",
      "        [6.1210e-07, 9.3141e-07, 1.1179e-06,  ..., 1.2751e-09, 1.1097e-06,\n",
      "         6.5717e-10],\n",
      "        [2.1760e-03, 6.4383e-06, 5.4840e-05,  ..., 0.0000e+00, 0.0000e+00,\n",
      "         0.0000e+00],\n",
      "        ...,\n",
      "        [3.3738e-05, 1.8445e-02, 0.0000e+00,  ..., 6.8687e-02, 7.2452e-06,\n",
      "         1.0601e-08],\n",
      "        [9.5753e-01, 4.7793e-08, 0.0000e+00,  ..., 1.2076e-02, 3.0388e-02,\n",
      "         7.3762e-07],\n",
      "        [1.2404e-04, 1.9241e-03, 0.0000e+00,  ..., 8.0633e-14, 2.4980e-07,\n",
      "         3.7756e-08]])\n"
     ]
    }
   ],
   "source": [
    "# Example configuration\n",
    "seq_length = 100  # Sequence length\n",
    "block_size = 3  # Size of the sliding window\n",
    "num_global_blocks = 2  # Number of tokens with global attention\n",
    "num_random_blocks = 3  # Number of random attention blocks\n",
    "num_attention_heads = 1  # Number of attention heads\n",
    "\n",
    "# Creating the attention mask\n",
    "attention_mask = create_bigbird_attention_mask(seq_length, block_size, num_global_blocks, num_random_blocks, num_attention_heads)\n",
    "\n",
    "# Example of how this attention mask might be used in a forward pass:\n",
    "query = torch.randn(seq_length, 64)  # Query for one head, for example\n",
    "key = torch.randn(seq_length, 64)    # Key for the same head\n",
    "\n",
    "# Raw attention scores (before applying attention mask)\n",
    "raw_attention_scores = torch.matmul(query, key.transpose(0, 1))\n",
    "\n",
    "# Apply the attention mask\n",
    "# We use a large negative number to mask away attention; when the softmax is applied, these positions become zeros\n",
    "masked_attention_scores = raw_attention_scores.masked_fill(attention_mask == 0, float('-inf'))\n",
    "\n",
    "# Then apply softmax to get the attention probabilities\n",
    "attention_probs = torch.nn.functional.softmax(masked_attention_scores, dim=1)\n",
    "\n",
    "print(attention_probs)"
   ]
  },
  {
   "cell_type": "code",
   "execution_count": 32,
   "id": "bfe9d91f",
   "metadata": {},
   "outputs": [
    {
     "data": {
      "text/plain": [
       "<Axes: >"
      ]
     },
     "execution_count": 32,
     "metadata": {},
     "output_type": "execute_result"
    },
    {
     "data": {
      "image/png": "[encoded data removed]",
      "text/plain": [
       "<Figure size 640x480 with 2 Axes>"
      ]
     },
     "metadata": {},
     "output_type": "display_data"
    }
   ],
   "source": [
    "sns.heatmap(attention_mask.detach().numpy(), cmap='Blues', robust=True)"
   ]
  },
  {
   "cell_type": "code",
   "execution_count": 33,
   "id": "45283778",
   "metadata": {},
   "outputs": [
    {
     "data": {
      "text/plain": [
       "tensor(1610.)"
      ]
     },
     "execution_count": 33,
     "metadata": {},
     "output_type": "execute_result"
    }
   ],
   "source": [
    "attention_mask.sum()"
   ]
  },
  {
   "cell_type": "markdown",
   "id": "01cf731d",
   "metadata": {},
   "source": [
    "## second version"
   ]
  },
  {
   "cell_type": "code",
   "execution_count": 68,
   "id": "e3281072",
   "metadata": {},
   "outputs": [
    {
     "name": "stdout",
     "output_type": "stream",
     "text": [
      "Attention mask shape: torch.Size([1, 100, 100])\n"
     ]
    }
   ],
   "source": [
    "import torch\n",
    "import numpy as np\n",
    "\n",
    "class BigBirdAttentionMask(nn.Module):\n",
    "    def __init__(self, seq_len, block_size, num_global_blocks, num_rand_blocks, num_attention_heads):\n",
    "        super().__init__()\n",
    "        self.seq_len = seq_len\n",
    "        self.block_size = block_size\n",
    "        self.num_global_blocks = num_global_blocks\n",
    "        self.num_rand_blocks = num_rand_blocks\n",
    "        self.num_attention_heads = num_attention_heads\n",
    "\n",
    "    def create_mask(self):\n",
    "        # Initialize the attention mask to all zeros\n",
    "        attention_mask = torch.zeros((self.num_attention_heads, self.seq_len, self.seq_len))\n",
    "\n",
    "        # Global attention mask\n",
    "        for head in range(self.num_attention_heads):\n",
    "            attention_mask[head, :self.num_global_blocks, :] = 1\n",
    "            attention_mask[head, :, :self.num_global_blocks] = 1\n",
    "                \n",
    "         # Sliding window attention\n",
    "        for head in range(self.num_attention_heads):\n",
    "            for i in range(0, self.seq_len):\n",
    "                start = max(i - self.block_size, 0)\n",
    "                end = min(i + self.block_size + 1, self.seq_len)\n",
    "                attention_mask[head, i, start:end] = 1\n",
    "\n",
    "        # Random attention mask - this couls be changed to have different number of random blocks calculated\n",
    "        for head in range(self.num_attention_heads):\n",
    "            for block in range(self.num_global_blocks, self.seq_len // self.block_size):\n",
    "                # Select random blocks for this head and block\n",
    "                rand_blocks = torch.randint(low=self.num_global_blocks, high=self.seq_len // self.block_size, \n",
    "                                            size=(self.num_rand_blocks,))\n",
    "\n",
    "                # Set the mask for random blocks (convert block index to sequence index)\n",
    "                block_start = block * self.block_size\n",
    "                block_end = min(block_start + self.block_size, self.seq_len)\n",
    "                for rand_block in rand_blocks:\n",
    "                    rand_block_start = rand_block * self.block_size\n",
    "                    rand_block_end = min(rand_block_start + self.block_size, self.seq_len)\n",
    "                    attention_mask[head, block_start:block_end, rand_block_start:rand_block_end] = 1\n",
    "\n",
    "        return attention_mask\n",
    "\n",
    "# Example usage:\n",
    "seq_len = 100\n",
    "block_size = 3\n",
    "num_global_blocks = 2\n",
    "num_rand_blocks = 1\n",
    "num_attention_heads = 1\n",
    "\n",
    "attention_mask_creator = BigBirdAttentionMask(seq_len, block_size, num_global_blocks, num_rand_blocks, num_attention_heads)\n",
    "attention_mask = attention_mask_creator.create_mask()\n",
    "print(\"Attention mask shape:\", attention_mask.shape)"
   ]
  },
  {
   "cell_type": "code",
   "execution_count": 69,
   "id": "c581302e",
   "metadata": {},
   "outputs": [
    {
     "data": {
      "text/plain": [
       "<Axes: >"
      ]
     },
     "execution_count": 69,
     "metadata": {},
     "output_type": "execute_result"
    },
    {
     "data": {
      "image/png": "[encoded data removed]",
      "text/plain": [
       "<Figure size 640x480 with 2 Axes>"
      ]
     },
     "metadata": {},
     "output_type": "display_data"
    }
   ],
   "source": [
    "sns.heatmap(attention_mask.detach().numpy()[0], cmap='Blues', robust=True)"
   ]
  },
  {
   "cell_type": "code",
   "execution_count": 70,
   "id": "d437408a",
   "metadata": {},
   "outputs": [
    {
     "data": {
      "text/plain": [
       "tensor(1319.)"
      ]
     },
     "execution_count": 70,
     "metadata": {},
     "output_type": "execute_result"
    }
   ],
   "source": [
    "attention_mask.sum()"
   ]
  },
  {
   "cell_type": "code",
   "execution_count": 77,
   "id": "ce7e5489",
   "metadata": {},
   "outputs": [
    {
     "data": {
      "text/plain": [
       "tensor(10000)"
      ]
     },
     "execution_count": 77,
     "metadata": {},
     "output_type": "execute_result"
    }
   ],
   "source": [
    "torch.tensor(attention_mask.shape).prod()"
   ]
  },
  {
   "cell_type": "code",
   "execution_count": null,
   "id": "67e8fe1d",
   "metadata": {},
   "outputs": [],
   "source": []
  }
 ],
 "metadata": {
  "kernelspec": {
   "display_name": "Python 3 (ipykernel)",
   "language": "python",
   "name": "python3"
  },
  "language_info": {
   "codemirror_mode": {
    "name": "ipython",
    "version": 3
   },
   "file_extension": ".py",
   "mimetype": "text/x-python",
   "name": "python",
   "nbconvert_exporter": "python",
   "pygments_lexer": "ipython3",
   "version": "3.9.12"
  }
 },
 "nbformat": 4,
 "nbformat_minor": 5
}
