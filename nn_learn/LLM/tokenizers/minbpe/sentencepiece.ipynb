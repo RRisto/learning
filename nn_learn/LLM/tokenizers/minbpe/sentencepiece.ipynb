{
 "cells": [
  {
   "cell_type": "code",
   "execution_count": 27,
   "id": "c460c338",
   "metadata": {
    "pycharm": {
     "name": "#%%\n"
    }
   },
   "outputs": [],
   "source": [
    "import re\n",
    "import os\n",
    "import collections\n",
    "from collections import Counter, defaultdict\n",
    "import numpy as np\n",
    "import pandas as pd\n",
    "from scipy.special import digamma\n",
    "from pathlib import Path\n",
    "import matplotlib.pyplot as plt"
   ]
  },
  {
   "cell_type": "markdown",
   "id": "559c0f1e",
   "metadata": {
    "pycharm": {
     "name": "#%% md\n"
    }
   },
   "source": [
    "### source: https://towardsdatascience.com/sentencepiece-tokenizer-demystified-d0a3aac19b15"
   ]
  },
  {
   "cell_type": "markdown",
   "id": "8df19178",
   "metadata": {
    "pycharm": {
     "name": "#%% md\n"
    }
   },
   "source": [
    "https://huggingface.co/learn/nlp-course/chapter6/7"
   ]
  },
  {
   "cell_type": "markdown",
   "id": "ba410d98",
   "metadata": {
    "pycharm": {
     "name": "#%% md\n"
    }
   },
   "source": [
    "https://ndingwall.github.io/blog/tokenization"
   ]
  },
  {
   "cell_type": "markdown",
   "id": "554500db",
   "metadata": {
    "pycharm": {
     "name": "#%% md\n"
    }
   },
   "source": [
    "## helpers"
   ]
  },
  {
   "cell_type": "code",
   "execution_count": 2,
   "id": "71c528be",
   "metadata": {
    "pycharm": {
     "name": "#%%\n"
    }
   },
   "outputs": [],
   "source": [
    "\n",
    "# To efficiently determine the next possible words\n",
    "# We need a Trie data structure\n",
    "class Trie:\n",
    "    def __init__(self):\n",
    "        self.root = {}\n",
    "\n",
    "    def add(self, word, value):\n",
    "        node = self.root\n",
    "        for ch in word:\n",
    "            if ch not in node:\n",
    "                node[ch] = {}\n",
    "            node = node[ch]\n",
    "        node['<END>'] = value\n",
    "\n",
    "    def get_value(self, word):\n",
    "        node = self.root\n",
    "        for ch in word:\n",
    "            if ch not in node:\n",
    "                return 0\n",
    "            node = node[ch]\n",
    "        if '<END>' not in node:\n",
    "            return 0\n",
    "        return node['<END>']\n",
    "\n",
    "    def set_value(self, word, value):\n",
    "        node = self.root\n",
    "        for ch in word:\n",
    "            if ch not in node:\n",
    "                raise ValueError(\"word not in trie\")\n",
    "            node = node[ch]\n",
    "        if '<END>' not in node:\n",
    "            raise ValueError(\"word not in trie\")\n",
    "        node['<END>'] = value\n",
    "\n",
    "\n",
    "class SentencePieceTrainer:\n",
    "    def __init__(self):\n",
    "        self.trie = None\n",
    "        self.maxlen = None\n",
    "        self.vocab_size = None\n",
    "\n",
    "    def _initialize_trie(self, tokens):\n",
    "        trie = Trie()\n",
    "        norm = sum(list(tokens.values()))\n",
    "        logsum = digamma(norm)\n",
    "\n",
    "        maxlen = 0\n",
    "        for tok, val in tokens.items():\n",
    "            trie.add(tok, digamma(val)-logsum)\n",
    "            maxlen = max(maxlen, len(tok))\n",
    "\n",
    "        return trie, maxlen\n",
    "\n",
    "    def forward_step(self, text, trie):\n",
    "        N = len(text)\n",
    "\n",
    "        # d[i] contains the maximum log_prob of any tokenization\n",
    "        # of text[:i], initialized to 0 (i.e. log(0)=-infty)\n",
    "        d = [-np.inf]*(N+1)\n",
    "\n",
    "        # p[i] (stands for parent) contains the number of characters of\n",
    "        # the final token in the most likely sequence that ends at index i\n",
    "        p = [None]*(N+1)\n",
    "        d[0]=0\n",
    "\n",
    "        for i in range(1, N+1):\n",
    "\n",
    "            # find all possible final words. Have to look back\n",
    "            # a distance set by the length of the longest token\n",
    "            for j in range(max(i-self.maxlen, 0), i):\n",
    "\n",
    "                final_token = text[j:i]\n",
    "                final_value = trie.get_value(final_token)\n",
    "\n",
    "                # if the current ending word has a higher log-probability,\n",
    "                # save that value and store the word (i.e. # chars to backtrack)\n",
    "                if final_value and d[j]+final_value > d[i]:\n",
    "                    d[i] = d[j]+final_value\n",
    "                    p[i] = len(final_token)\n",
    "            if p[i] is None:\n",
    "                raise ValueError(f\"Encountered unknown token '{text[i-1]}'.\")\n",
    "\n",
    "        loss = d[-1]\n",
    "        return loss, p\n",
    "\n",
    "    def backward_step(self, text, p):\n",
    "        idx = len(p)\n",
    "        tokenization = []\n",
    "        while idx > 1:\n",
    "            # move back the number of steps p tells you to\n",
    "            next_idx = idx-p[idx-1]\n",
    "\n",
    "            # extract the final token\n",
    "            tok = text[next_idx-1:idx-1]\n",
    "            tokenization.append(tok)\n",
    "\n",
    "            idx = next_idx\n",
    "        tokenization = list(reversed(tokenization))\n",
    "        return tokenization\n",
    "\n",
    "    def E_step(self, tokenization, trie):\n",
    "        # get the new token counts based on updated tokenization\n",
    "        counts = collections.Counter(tokenization)\n",
    "        norm = sum(list(counts.values()))\n",
    "\n",
    "        # Bayesianify them: https://cs.stanford.edu/~pliang/papers/tutorial-acl2007-talk.pdf\n",
    "        # https://github.com/google/sentencepiece/blob/master/src/unigram_model_trainer.cc\n",
    "        # we are returning the log probabilties here (alpha=0 prior)\n",
    "        logsum = digamma(norm)\n",
    "        for k, v in counts.items():\n",
    "            counts[k] = digamma(v)-logsum\n",
    "\n",
    "        for k, v in counts.items():\n",
    "            trie.set_value(k, v)\n",
    "        return trie\n",
    "\n",
    "    def M_step(self, text, trie):\n",
    "        loss, p = self.forward_step(text, trie)\n",
    "        tokenization = self.backward_step(text, p)\n",
    "        return tokenization, loss\n",
    "\n",
    "    def EM_step(self, text, tokenization, trie):\n",
    "        trie = self.E_step(tokenization, trie)\n",
    "        tokenization, loss = self.M_step(text, trie)\n",
    "        return loss, tokenization, trie\n",
    "\n",
    "    def EM_round(self, text, tokens, delta=0.01, max_iter=10):\n",
    "        tokenization, old_loss = self.M_step(text, self.trie)\n",
    "        for step in range(max_iter):\n",
    "            print(f\"EM iter {step}: \", end='')\n",
    "            loss, tokenization, trie = self.EM_step(text, tokenization, self.trie)\n",
    "            print(f\"Loss={loss:.2f}\")\n",
    "            if abs(old_loss-loss) < delta:\n",
    "                break\n",
    "            old_loss = loss\n",
    "\n",
    "    def prune_tokens(self, tokens, characters, vocab_size, trim_frac=0.2):\n",
    "        \"\"\" Tokens are passed by reference and modified in place.\n",
    "        Returns:\n",
    "            True: to indicate to caller that more rounds are needed\n",
    "            False: to indicate we successfully hit the target vocab size\n",
    "            ValueError: if the vocab size cannot be reached.\"\"\"\n",
    "        sorted_tokens = tokens.most_common()\n",
    "        N = len(sorted_tokens)\n",
    "        n_trim = int(trim_frac*N)\n",
    "        for i in reversed(range(N)):\n",
    "            if N <= vocab_size:\n",
    "                return False\n",
    "            if n_trim <= 0:\n",
    "                return True\n",
    "            tok = sorted_tokens[i][0]\n",
    "            if tok not in characters:\n",
    "                self.trie.set_value(tok, 0) # we need to delete it from the trie (that sticks around)\n",
    "                tokens.pop(tok) # also need to delete from tokens, so the next round doesn't see it\n",
    "                n_trim -= 1\n",
    "                N -= 1\n",
    "        if n_trim > 0:\n",
    "            raise ValueError('Could not reduce tokens further. Please increase vocab size')\n",
    "        return False\n",
    "\n",
    "    def fit(self, text, tokens, characters, vocab_size, delta=0.01, max_iter=5, max_rounds=5):\n",
    "        \"\"\" To turn off pruning, just set max_rounds=1 \"\"\"\n",
    "        text = re.sub(' ', '_', text)\n",
    "        if vocab_size > len(tokens):\n",
    "            raise ValueError(f\"Vocab size is larger than the availble number of tokens {len(tokens)}.\")\n",
    "        self.trie, self.maxlen = self._initialize_trie(tokens)\n",
    "        for i in range(1, max_rounds+1):\n",
    "            print(f\"--- Round {i}. Vocab size: {len(tokens)} ---\")\n",
    "            self.EM_round(text, tokens, delta, max_iter)\n",
    "            if not self.prune_tokens(tokens, characters, vocab_size):\n",
    "                break\n",
    "        self.vocab_size = len(tokens)\n",
    "\n",
    "    def generalized_forward_step(self, text, trie, nbest_size=1):\n",
    "        N = len(text)\n",
    "        d = [-np.inf]*(N+1)\n",
    "        p = [None]*(N+1)\n",
    "        d[0]=0\n",
    "        for i in range(1, N+1):\n",
    "            d_queue = []\n",
    "            p_queue = []\n",
    "            for j in range(max(i-self.maxlen, 0), i):\n",
    "                final_token = text[j:i]\n",
    "                final_value = trie.get_value(final_token)\n",
    "                if final_value:\n",
    "                    curr_d = d[j]+final_value\n",
    "                    curr_p = len(final_token)\n",
    "                    d[i] = max(d[i], curr_d)\n",
    "                    d_queue.append(curr_d)\n",
    "                    p_queue.append(curr_p)\n",
    "            ids = np.argsort(d_queue)[-nbest_size:]\n",
    "            p[i] = [p_queue[z] for z in ids]\n",
    "        return p\n",
    "\n",
    "    def generalized_backward_step(self, text, p):\n",
    "        idx = len(p)\n",
    "        tokenization = []\n",
    "        while idx > 1:\n",
    "            back_steps = np.random.choice(p[idx-1])\n",
    "            next_idx = idx-back_steps\n",
    "            tok = text[next_idx-1:idx-1]\n",
    "            tokenization.append(tok)\n",
    "            idx = next_idx\n",
    "        tokenization = list(reversed(tokenization))\n",
    "        return tokenization\n",
    "\n",
    "    def tokenize(self, text, nbest_size=1):\n",
    "        text = re.sub(' ', '_', text)\n",
    "        if self.trie is None:\n",
    "            raise ValueError(\"Trainer has not yet been fit. Cannot tokenize.\")\n",
    "        p = self.generalized_forward_step(text, self.trie, nbest_size)\n",
    "        tokenization = self.generalized_backward_step(text, p)\n",
    "        return tokenization"
   ]
  },
  {
   "cell_type": "code",
   "execution_count": 3,
   "id": "40ee0f62",
   "metadata": {
    "pycharm": {
     "name": "#%%\n"
    }
   },
   "outputs": [],
   "source": [
    "class BytePairEncoder:\n",
    "    def __init__(self):\n",
    "        self.merges = None\n",
    "        self.characters = None\n",
    "        self.tokens = None\n",
    "        self.vocab = None\n",
    "\n",
    "    def format_word(self, text, space_token='_'):\n",
    "        return ' '.join(list(text)) + ' ' + space_token\n",
    "\n",
    "    def initialize_vocab(self, text):\n",
    "        text = re.sub('\\s+', ' ', text)\n",
    "        all_words = text.split()\n",
    "        vocab = {}\n",
    "        for word in all_words:\n",
    "            word = self.format_word(word)\n",
    "            vocab[word] = vocab.get(word, 0) + 1\n",
    "        tokens = collections.Counter(text)\n",
    "        return vocab, tokens\n",
    "\n",
    "    def get_bigram_counts(self, vocab):\n",
    "        pairs = {}\n",
    "        for word, count in vocab.items():\n",
    "            symbols = word.split()\n",
    "            for i in range(len(symbols)-1):\n",
    "                pair = (symbols[i], symbols[i+1])\n",
    "                pairs[pair] = pairs.get(pair, 0) + count\n",
    "        return pairs\n",
    "\n",
    "    def merge_vocab(self, pair, vocab_in):\n",
    "        vocab_out = {}\n",
    "        bigram = re.escape(' '.join(pair))\n",
    "        p = re.compile(r'(?<!\\S)' + bigram + r'(?!\\S)')\n",
    "        bytepair = ''.join(pair)\n",
    "        for word in vocab_in:\n",
    "            w_out = p.sub(bytepair, word)\n",
    "            vocab_out[w_out] = vocab_in[word]\n",
    "        return vocab_out, (bigram, bytepair)\n",
    "\n",
    "    def find_merges(self, vocab, tokens, num_merges):\n",
    "        merges = []\n",
    "        for i in range(num_merges):\n",
    "            pairs = self.get_bigram_counts(vocab)\n",
    "            best_pair = max(pairs, key=pairs.get)\n",
    "            best_count = pairs[best_pair]\n",
    "            vocab, (bigram, bytepair) = self.merge_vocab(best_pair, vocab)\n",
    "            merges.append((r'(?<!\\S)' + bigram + r'(?!\\S)', bytepair))\n",
    "            tokens[bytepair] = best_count\n",
    "        return vocab, tokens, merges\n",
    "\n",
    "    def fit(self, text, num_merges):\n",
    "        vocab, tokens = self.initialize_vocab(text)\n",
    "        self.characters = set(tokens.keys())\n",
    "        self.vocab, self.tokens, self.merges = self.find_merges(vocab, tokens, num_merges)"
   ]
  },
  {
   "cell_type": "markdown",
   "id": "481fb5c2",
   "metadata": {
    "pycharm": {
     "name": "#%% md\n"
    }
   },
   "source": [
    "## Train sentencepiece model"
   ]
  },
  {
   "cell_type": "code",
   "execution_count": 4,
   "id": "f9364ff5",
   "metadata": {
    "pycharm": {
     "name": "#%%\n"
    }
   },
   "outputs": [
    {
     "name": "stdout",
     "output_type": "stream",
     "text": [
      "['▁This', '▁is', '▁a', '▁t', 'est']\n",
      "[208, 31, 9, 434, 601]\n",
      "This is a test\n",
      "This is a test\n"
     ]
    }
   ],
   "source": [
    "import sentencepiece as spm\n",
    "\n",
    "# train sentencepiece model from `botchan.txt` and makes `m.model` and `m.vocab`\n",
    "# `m.vocab` is just a reference. not used in the segmentation.\n",
    "spm.SentencePieceTrainer.train('--input=data/botchan.txt --model_prefix=m --vocab_size=2000')\n",
    "\n",
    "# makes segmenter instance and loads the model file (m.model)\n",
    "sp = spm.SentencePieceProcessor()\n",
    "sp.load('m.model')\n",
    "\n",
    "# encode: text => id\n",
    "print(sp.encode_as_pieces('This is a test'))\n",
    "print(sp.encode_as_ids('This is a test'))\n",
    "\n",
    "# decode: id => text\n",
    "print(sp.decode_pieces(['▁This', '▁is', '▁a', '▁t', 'est']))\n",
    "print(sp.decode_ids([208, 31, 9, 434, 601]))"
   ]
  },
  {
   "cell_type": "code",
   "execution_count": 5,
   "id": "ef2f8058",
   "metadata": {
    "pycharm": {
     "name": "#%%\n"
    }
   },
   "outputs": [
    {
     "data": {
      "text/plain": [
       "2000"
      ]
     },
     "execution_count": 5,
     "metadata": {},
     "output_type": "execute_result"
    }
   ],
   "source": [
    "sp.vocab_size()"
   ]
  },
  {
   "cell_type": "markdown",
   "id": "14b37dfd",
   "metadata": {
    "pycharm": {
     "name": "#%% md\n"
    }
   },
   "source": [
    "## Use sample code"
   ]
  },
  {
   "cell_type": "code",
   "execution_count": 6,
   "id": "17d4ff30",
   "metadata": {
    "pycharm": {
     "name": "#%%\n"
    }
   },
   "outputs": [],
   "source": [
    "txt=Path('data/botchan.txt').read_text()\n",
    "\n",
    "txt = txt.replace('\\n', ' ')\n",
    "txt = re.sub(' +', ' ', txt)"
   ]
  },
  {
   "cell_type": "code",
   "execution_count": 7,
   "id": "738cce55",
   "metadata": {
    "pycharm": {
     "name": "#%%\n"
    }
   },
   "outputs": [],
   "source": [
    "bpe_enc=BytePairEncoder()\n",
    "bpe_enc.fit(txt, 2000)"
   ]
  },
  {
   "cell_type": "code",
   "execution_count": 8,
   "id": "7c16050b",
   "metadata": {
    "pycharm": {
     "name": "#%%\n"
    }
   },
   "outputs": [
    {
     "data": {
      "text/plain": [
       "(9184, 2086)"
      ]
     },
     "execution_count": 8,
     "metadata": {},
     "output_type": "execute_result"
    }
   ],
   "source": [
    "len(bpe_enc.vocab), len(bpe_enc.tokens)"
   ]
  },
  {
   "cell_type": "code",
   "execution_count": 9,
   "id": "736f8ce5",
   "metadata": {
    "pycharm": {
     "name": "#%%\n"
    }
   },
   "outputs": [
    {
     "data": {
      "text/plain": [
       "2000"
      ]
     },
     "execution_count": 9,
     "metadata": {},
     "output_type": "execute_result"
    }
   ],
   "source": [
    "sp.vocab_size()"
   ]
  },
  {
   "cell_type": "code",
   "execution_count": 10,
   "id": "a8ff783c",
   "metadata": {
    "pycharm": {
     "name": "#%%\n"
    }
   },
   "outputs": [
    {
     "name": "stdout",
     "output_type": "stream",
     "text": [
      "--- Round 1. Vocab size: 2086 ---\n",
      "EM iter 0: Loss=-521922.71\n",
      "EM iter 1: Loss=-516140.23\n",
      "EM iter 2: Loss=-514884.59\n",
      "EM iter 3: Loss=-514630.88\n",
      "EM iter 4: Loss=-514542.31\n",
      "--- Round 2. Vocab size: 1669 ---\n",
      "EM iter 0: Loss=-532336.51\n",
      "EM iter 1: Loss=-532287.26\n",
      "EM iter 2: Loss=-532266.59\n",
      "EM iter 3: Loss=-532257.56\n",
      "EM iter 4: Loss=-532253.39\n",
      "--- Round 3. Vocab size: 1336 ---\n",
      "EM iter 0: Loss=-550416.89\n",
      "EM iter 1: Loss=-550285.50\n",
      "EM iter 2: Loss=-550252.74\n",
      "EM iter 3: Loss=-550248.48\n",
      "EM iter 4: Loss=-550248.16\n",
      "--- Round 4. Vocab size: 1069 ---\n",
      "EM iter 0: Loss=-568226.50\n",
      "EM iter 1: Loss=-568159.01\n",
      "EM iter 2: Loss=-568142.14\n",
      "EM iter 3: Loss=-568126.77\n",
      "EM iter 4: Loss=-568125.89\n"
     ]
    }
   ],
   "source": [
    "sp_trainer=SentencePieceTrainer()\n",
    "\n",
    "tokens = bpe_enc.tokens\n",
    "tokens['_'] = tokens[' ']\n",
    "tokens.pop(' ')\n",
    "\n",
    "characters = bpe_enc.characters\n",
    "characters.discard(' ')\n",
    "characters.add('_')\n",
    "\n",
    "sp_trainer.fit(txt, tokens, characters, vocab_size=1000)"
   ]
  },
  {
   "cell_type": "markdown",
   "id": "a0c96653",
   "metadata": {
    "pycharm": {
     "name": "#%% md\n"
    }
   },
   "source": [
    "### tokenize text"
   ]
  },
  {
   "cell_type": "code",
   "execution_count": 34,
   "id": "e1781478",
   "metadata": {
    "pycharm": {
     "name": "#%%\n"
    }
   },
   "outputs": [
    {
     "name": "stdout",
     "output_type": "stream",
     "text": [
      "Sample 1: ['h', 'e', 'l', 'l', 'o_', 'w', 'o', 'r', 'ld']\n",
      "Sample 2: ['h', 'e', 'll', 'o', '_', 'w', 'o', 'r', 'l', 'd']\n",
      "Sample 3: ['he', 'l', 'lo', '_', 'w', 'o', 'r', 'ld']\n"
     ]
    }
   ],
   "source": [
    "nbest_size = 3\n",
    "string = 'hello world'\n",
    "for i in range(3):\n",
    "    x = sp_trainer.tokenize('hello world', nbest_size=nbest_size)\n",
    "    print(f\"Sample {i+1}: {x}\")"
   ]
  },
  {
   "cell_type": "code",
   "execution_count": 36,
   "id": "823bec06",
   "metadata": {
    "pycharm": {
     "name": "#%%\n"
    }
   },
   "outputs": [
    {
     "name": "stdout",
     "output_type": "stream",
     "text": [
      "Original string: hello world\n",
      "Reconstructed string: hello world\n"
     ]
    }
   ],
   "source": [
    "print(\"Original string:\", string)\n",
    "x = sp_trainer.tokenize('hello world', nbest_size=nbest_size)\n",
    "print(\"Reconstructed string:\", ''.join(x).replace('_', ' '))"
   ]
  },
  {
   "cell_type": "markdown",
   "id": "ed105eab",
   "metadata": {
    "pycharm": {
     "name": "#%% md\n"
    }
   },
   "source": [
    "## Another example"
   ]
  },
  {
   "cell_type": "markdown",
   "id": "43fcd98a",
   "metadata": {
    "pycharm": {
     "name": "#%% md\n"
    }
   },
   "source": [
    "https://everdark.github.io/k9/notebooks/ml/natural_language_understanding/subword_units/subword_units.nb.html#12_probablistic_subword_segmentation"
   ]
  },
  {
   "cell_type": "markdown",
   "id": "1f8f59c2",
   "metadata": {
    "pycharm": {
     "name": "#%% md\n"
    }
   },
   "source": [
    "### data"
   ]
  },
  {
   "cell_type": "code",
   "execution_count": 11,
   "id": "9067981c",
   "metadata": {
    "pycharm": {
     "name": "#%%\n"
    }
   },
   "outputs": [],
   "source": [
    "txt=Path('data/botchan.txt').read_text()"
   ]
  },
  {
   "cell_type": "markdown",
   "id": "e181d732",
   "metadata": {
    "pycharm": {
     "name": "#%% md\n"
    }
   },
   "source": [
    "### initial BPE tokenization"
   ]
  },
  {
   "cell_type": "code",
   "execution_count": 20,
   "id": "f9941356",
   "metadata": {},
   "outputs": [],
   "source": [
    "class BPE:\n",
    "\n",
    "  def __init__(self, sents, min_cnt=3, verbose=False):\n",
    "    self.verbose = verbose\n",
    "    init_vocab = defaultdict(int)\n",
    "    for sent in sents:\n",
    "      words = re.split(r\"\\W+\", sent)\n",
    "      for w in words:\n",
    "        if w != \"\":\n",
    "          init_vocab[w] += 1\n",
    "    # Create fullword vocabulary.\n",
    "    self.word_vocab = {k: v for k, v in init_vocab.items() if v >= min_cnt}\n",
    "    # Insert space between each char in a word for latter ease of merge operation.\n",
    "    # We directly borrow the idea from https://www.aclweb.org/anthology/P16-1162.\n",
    "    self.working_vocab = {\" \".join(k): v for k, v in self.word_vocab.items()}\n",
    "    self.subword_vocab = defaultdict(int)\n",
    "    # Also build a character-level vocabulary as the base subwords.\n",
    "    self.char_vocab = defaultdict(int)\n",
    "    for sent in sents:\n",
    "      for char in list(sent):\n",
    "        self.char_vocab[char] += 1\n",
    "\n",
    "  def _find_top_subword(self):\n",
    "    subword_pairs = defaultdict(int)\n",
    "    for w, cnt in self.working_vocab.items():\n",
    "      subw = w.split()\n",
    "      for i in range(len(subw) - 1):\n",
    "        # Count bigrams.\n",
    "        subword_pairs[subw[i], subw[i+1]] += cnt\n",
    "    top_subw_pair = max(subword_pairs, key=subword_pairs.get)\n",
    "    top_subw = \"\".join(top_subw_pair)\n",
    "    self.subword_vocab[top_subw] = subword_pairs[top_subw_pair]\n",
    "    if self.verbose:\n",
    "      print(\"New subword added: {}\".format(top_subw))\n",
    "    return top_subw_pair\n",
    "\n",
    "  def _merge(self, subw_pair):\n",
    "    bigram = re.escape(\" \".join(subw_pair))\n",
    "    p = re.compile(r\"(?<!\\S)\" + bigram + r\"(?!\\S)\")\n",
    "    self.working_vocab = {p.sub(\"\".join(subw_pair), w): cnt for w, cnt in self.working_vocab.items()}\n",
    "  \n",
    "  def update_subword(self, n_merge=1):\n",
    "    for n in range(n_merge):\n",
    "      top_subw_pair = self._find_top_subword()\n",
    "      self._merge(top_subw_pair)"
   ]
  },
  {
   "cell_type": "code",
   "execution_count": 21,
   "id": "9ebbf1d7",
   "metadata": {
    "pycharm": {
     "name": "#%%\n"
    }
   },
   "outputs": [],
   "source": [
    "# Build a seeding subword vocabulary using BPE.\n",
    "# For illustration purpose we didn't go for a huge seeding size.\n",
    "# In actual application the seeding vocabulary should be much larger than what we have here.\n",
    "bpe = BPE(txt.lower().split('\\n'), min_cnt=1)\n",
    "bpe.update_subword(n_merge=2000)"
   ]
  },
  {
   "cell_type": "markdown",
   "id": "7afdd060",
   "metadata": {
    "pycharm": {
     "name": "#%% md\n"
    }
   },
   "source": [
    "### build subword log probability"
   ]
  },
  {
   "cell_type": "code",
   "execution_count": 22,
   "id": "e0429030",
   "metadata": {
    "pycharm": {
     "name": "#%%\n"
    }
   },
   "outputs": [],
   "source": [
    "def subword_count(char_vocab, subword_vocab):\n",
    "    subword_cnt = {**char_vocab, **subword_vocab}\n",
    "    tot_cnt = np.sum(list(subword_cnt.values()))\n",
    "\n",
    "    # The initial estimate of subword probability.\n",
    "    subword_logp = {k: np.log(v / tot_cnt) for k, v in subword_cnt.items()}\n",
    "    return subword_logp\n",
    "\n",
    "subword_logp=subword_count(bpe.char_vocab, bpe.subword_vocab)"
   ]
  },
  {
   "cell_type": "markdown",
   "id": "039ef212",
   "metadata": {
    "pycharm": {
     "name": "#%% md\n"
    }
   },
   "source": [
    "### create a viterbi forward algorithm"
   ]
  },
  {
   "cell_type": "code",
   "execution_count": 23,
   "id": "4c6ed3b7",
   "metadata": {
    "pycharm": {
     "name": "#%%\n"
    }
   },
   "outputs": [],
   "source": [
    "def viterbi_forward(word, subword_logp):\n",
    "    \"\"\"Forward step of Viterbi given a single word.\"\"\"\n",
    "    # Create storage array for best substring recorded at each end-of-character position.\n",
    "    best_subw_slices = [None] * (len(word) + 1)\n",
    "    neg_loglik = np.zeros(len(word) + 1)\n",
    "    # Search the best substring given every possible end of position along the word.\n",
    "    for eow in range(1, len(word) + 1):\n",
    "        # For every end-of-word position:\n",
    "        neg_loglik[eow] = np.inf\n",
    "        for bow in range(eow):\n",
    "            # For every possible beginning-of-word position given the end-of-word position:\n",
    "            subw = word[bow:eow]\n",
    "            if subw in subword_logp:\n",
    "                logp = subword_logp[subw]\n",
    "                # Compute subword probability:\n",
    "                # P(current segment) + P(the best segment just before the current segment).\n",
    "                s = neg_loglik[bow] - logp\n",
    "                if s < neg_loglik[eow]:\n",
    "                    neg_loglik[eow] = s\n",
    "                    best_subw_slices[eow] = (bow, eow)\n",
    "    return neg_loglik, best_subw_slices"
   ]
  },
  {
   "cell_type": "markdown",
   "id": "521e35b8",
   "metadata": {
    "pycharm": {
     "name": "#%% md\n"
    }
   },
   "source": [
    "##### visualize viterbi"
   ]
  },
  {
   "cell_type": "code",
   "execution_count": 24,
   "id": "ae1c6780",
   "metadata": {
    "pycharm": {
     "name": "#%%\n"
    }
   },
   "outputs": [
    {
     "name": "stdout",
     "output_type": "stream",
     "text": [
      "['w', 'wh', 'e', 'er', 'where', 'b', 'by']\n"
     ]
    }
   ],
   "source": [
    "w='whereby'\n",
    "subw_scores, subw_slices = viterbi_forward(w, subword_logp)\n",
    "subw = [w[idx[0]:idx[1]] for idx in subw_slices if idx is not None]\n",
    "print(subw)  # Best segmented subword at each subword end."
   ]
  },
  {
   "cell_type": "code",
   "execution_count": 28,
   "id": "4bf4cb89",
   "metadata": {
    "pycharm": {
     "name": "#%%\n"
    }
   },
   "outputs": [
    {
     "data": {
      "image/png": "[encoded data removed]",
      "text/plain": [
       "<Figure size 640x480 with 1 Axes>"
      ]
     },
     "metadata": {},
     "output_type": "display_data"
    }
   ],
   "source": [
    "\n",
    "#make df\n",
    "subw_demo = pd.DataFrame(subw_slices[1:], columns=['start', 'end'])\n",
    "subw_demo['subw'] = subw\n",
    "subw_demo = pd.concat([pd.DataFrame([[0, 0, \"\"]], columns=['start', 'end', 'subw']), subw_demo])\n",
    "subw_demo = pd.concat([subw_demo, pd.DataFrame([[subw_demo.shape[0], subw_demo.shape[0], \"_\"]], \n",
    "                                               columns=['start', 'end', 'subw'])])\n",
    "subw_demo['subw'] = pd.Categorical(subw_demo['subw'], categories=subw_demo['subw'].unique()[::-1])\n",
    "subw_demo['score'] = subw_scores.tolist()[1:] + [0, 0]\n",
    "subw_demo=subw_demo.reset_index()\n",
    "\n",
    "w_df = pd.DataFrame({'x': [''] * (len(subw_demo) - 2), 'y': np.arange(len(subw_demo) - 2) + 0.5,\n",
    "                     'label': list(w)})\n",
    "#plot\n",
    "plt.plot(subw_demo['subw'], (subw_demo['start'] + subw_demo['end']) / 2, '', markersize=8, label='subw'),\n",
    "plt.hlines(subw_demo['subw'], subw_demo['start'], subw_demo['end'], colors='black', linewidth=1.1),\n",
    "\n",
    "ends=subw_demo.loc[1:(len(subw_demo))-1, 'end'].tolist()\n",
    "subws=subw_demo.loc[1:(len(subw_demo) - 1), 'subw'].tolist()\n",
    "scores=[f\"({score:.2f})\" for score in subw_scores.tolist()[1:]]\n",
    "for i, el in enumerate(ends[:-1]):\n",
    "    plt.text(subws[i], ends[i], scores[i],  va='bottom', ha='right', fontsize=10, color='darkgrey')\n",
    "\n",
    "for i, row in w_df.iterrows():\n",
    "    plt.text(i+1, 8, row['label'], fontsize=16)\n",
    "\n",
    "plt.text(8, subw_demo.shape[0]-1, '_', fontsize=16)\n",
    "\n",
    "plt.gca().secondary_yaxis('right').set_ticks([]),\n",
    "plt.grid(which='major', axis='x')\n",
    "plt.title('Viterbi Demo')\n",
    "plt.xlabel('subw')\n",
    "plt.ylabel('Position')\n",
    "plt.show()"
   ]
  },
  {
   "cell_type": "markdown",
   "id": "d2110038",
   "metadata": {
    "pycharm": {
     "name": "#%% md\n"
    }
   },
   "source": [
    "### create viterbi backward algorithm"
   ]
  },
  {
   "cell_type": "code",
   "execution_count": 29,
   "id": "2da8b9a7",
   "metadata": {
    "pycharm": {
     "name": "#%%\n"
    }
   },
   "outputs": [
    {
     "name": "stdout",
     "output_type": "stream",
     "text": [
      "['where', 'by']\n"
     ]
    }
   ],
   "source": [
    "def viterbi_backward(word, subw_slices):\n",
    "    \"\"\"Backward step of Viterbi to return the best path.\"\"\"\n",
    "    subwords = []\n",
    "    subword_slices = []\n",
    "    next_slices = subw_slices[-1]\n",
    "    while next_slices is not None:\n",
    "        subw = word[next_slices[0]:next_slices[1]]\n",
    "        subwords.append(subw)\n",
    "        subword_slices.append(next_slices)\n",
    "        next_slices = subw_slices[next_slices[0]]\n",
    "    subwords.reverse()\n",
    "    return subwords, subword_slices\n",
    "\n",
    "\n",
    "# Test with a single word.\n",
    "best_subw, best_slices = viterbi_backward(w, subw_slices)\n",
    "print(best_subw)"
   ]
  },
  {
   "cell_type": "code",
   "execution_count": 30,
   "id": "8d3bf070",
   "metadata": {
    "pycharm": {
     "name": "#%%\n"
    }
   },
   "outputs": [],
   "source": [
    "def viterbi(line, subword_logp):\n",
    "    out = []\n",
    "    words = line.split()\n",
    "    for w in words:\n",
    "        subw_scores, subw_slices = viterbi_forward(w, subword_logp)\n",
    "        subw, subw_idx = viterbi_backward(w, subw_slices)\n",
    "        out.extend(subw)\n",
    "    return out"
   ]
  },
  {
   "cell_type": "markdown",
   "id": "85b43df1",
   "metadata": {
    "pycharm": {
     "name": "#%% md\n"
    }
   },
   "source": [
    "### example to run and prune vocabulary"
   ]
  },
  {
   "cell_type": "markdown",
   "id": "580ab3c8",
   "metadata": {
    "pycharm": {
     "name": "#%% md\n"
    }
   },
   "source": [
    "Here is the complete procedure:\n",
    "\n",
    "- Initialize a large seeding subword vocabulary from the training corpus\n",
    "- [Expectation] Estimate each subword probability by the corresponding frequency counts in the vocabulary\n",
    "- [Maximization] Use Viterbi to segment the corpus, returning the optimal segments\n",
    "- Compute the loss of each new subword from optimal segments\n",
    "- Shrink the vocabulary size by dropping the subwords with top X% smallest losses\n",
    "- Repeat step 2 to 5 until the vocabulary size reaches a desired number\n",
    "\n",
    "The loss of a subword in step 4 is the reduction in overall training corpus segment likelihood if that subword is removed from the current vocabulary."
   ]
  },
  {
   "cell_type": "code",
   "execution_count": 31,
   "id": "1d15dbb8",
   "metadata": {
    "pycharm": {
     "name": "#%%\n"
    }
   },
   "outputs": [
    {
     "name": "stdout",
     "output_type": "stream",
     "text": [
      "loss old -450700.09105841507\n",
      "loss new -243167675.6870317\n",
      "len vocab 1496\n",
      "loss old -451368.4767225382\n",
      "loss new -247140173.9623974\n",
      "len vocab 1345\n",
      "loss old -455957.07101278956\n",
      "loss new -256559739.6128888\n",
      "len vocab 1211\n",
      "loss old -461825.5497780338\n",
      "loss new -268822269.2108912\n",
      "len vocab 1090\n",
      "loss old -468590.5479680333\n",
      "loss new -283891192.3831789\n",
      "len vocab 981\n"
     ]
    }
   ],
   "source": [
    "max_vocab=1000\n",
    "share2remove=.1 #in each iteration what share of vocab is removed\n",
    "lines= txt.lower().split('\\n')\n",
    "#initial vocab\n",
    "char_vocab=bpe.char_vocab\n",
    "subword_vocab= bpe.subword_vocab\n",
    "subword_logp=subword_count(char_vocab, subword_vocab)\n",
    "\n",
    "\n",
    "while len(subword_vocab)>max_vocab:\n",
    "    #tokenize with existing tokenizer\n",
    "    all_line_tokens=[]\n",
    "    for line in lines:\n",
    "        line_toks=viterbi(line, subword_logp)\n",
    "        all_line_tokens.extend(line_toks)\n",
    "    #count new subword vocab and logp\n",
    "    subword_vocab=Counter(all_line_tokens)\n",
    "    subword_logp_after=subword_count({}, subword_vocab)\n",
    "    \n",
    "    loss = {k: subword_vocab[k]*v for k, v in subword_logp_after.items()}\n",
    "    print(f'loss old {sum(loss.values())}')\n",
    "    loss= sorted(loss.items(), key=lambda v: v[1], reverse=True)\n",
    "    \n",
    "    n_remove=int(len(loss)*share2remove)\n",
    "    cnt=0\n",
    "    loss_new=dict()\n",
    "    subword_vocab_after={}\n",
    "    for i, el in enumerate(loss):\n",
    "        if len(el[0])>1 and cnt<n_remove: #keep tokens len 1\n",
    "            cnt+=1\n",
    "        else:\n",
    "            loss_new[el[0]]=el[1]*subword_vocab[el[0]]\n",
    "            subword_vocab_after[el[0]]=subword_vocab[el[0]]\n",
    "    \n",
    "    print(f'loss new {sum(loss_new.values())}')\n",
    "    print(f'len vocab {len(subword_vocab_after)}')\n",
    "            \n",
    "    subword_logp=subword_count({}, subword_vocab_after)\n",
    "    subword_vocab=subword_vocab_after.copy()\n"
   ]
  },
  {
   "cell_type": "code",
   "execution_count": 32,
   "id": "1c08fe39",
   "metadata": {
    "pycharm": {
     "name": "#%%\n"
    }
   },
   "outputs": [
    {
     "data": {
      "text/plain": [
       "['where', 'by']"
      ]
     },
     "execution_count": 32,
     "metadata": {},
     "output_type": "execute_result"
    }
   ],
   "source": [
    "viterbi(w, subword_logp)"
   ]
  },
  {
   "cell_type": "code",
   "execution_count": 33,
   "id": "894afe1f",
   "metadata": {
    "pycharm": {
     "name": "#%%\n"
    }
   },
   "outputs": [
    {
     "data": {
      "text/plain": [
       "['coll', 'e', 'ction']"
      ]
     },
     "execution_count": 33,
     "metadata": {},
     "output_type": "execute_result"
    }
   ],
   "source": [
    "viterbi('collection', subword_logp)"
   ]
  },
  {
   "cell_type": "code",
   "execution_count": null,
   "id": "5eff4da9",
   "metadata": {
    "pycharm": {
     "name": "#%%\n"
    }
   },
   "outputs": [],
   "source": []
  }
 ],
 "metadata": {
  "kernelspec": {
   "display_name": "Python 3 (ipykernel)",
   "language": "python",
   "name": "python3"
  },
  "language_info": {
   "codemirror_mode": {
    "name": "ipython",
    "version": 3
   },
   "file_extension": ".py",
   "mimetype": "text/x-python",
   "name": "python",
   "nbconvert_exporter": "python",
   "pygments_lexer": "ipython3",
   "version": "3.9.12"
  }
 },
 "nbformat": 4,
 "nbformat_minor": 5
}
