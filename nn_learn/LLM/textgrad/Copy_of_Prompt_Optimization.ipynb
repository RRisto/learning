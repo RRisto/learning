{
  "cells": [
    {
      "cell_type": "markdown",
      "id": "fecb2fb5-b87f-4428-8175-e3a46fe77371",
      "metadata": {
        "id": "fecb2fb5-b87f-4428-8175-e3a46fe77371"
      },
      "source": [
        "## Tutorial: Optimizing a Prompt\n",
        "\n",
        "![TextGrad](https://github.com/vinid/data/blob/master/logo_full.png?raw=true)\n",
        "\n",
        "An autograd engine -- for textual gradients!\n",
        "\n",
        "[![Open In Colab](https://colab.research.google.com/assets/colab-badge.svg)](https://colab.research.google.com/github/zou-group/TextGrad/blob/main/examples/notebooks/Prompt-Optimization.ipynb)\n",
        "[![GitHub license](https://img.shields.io/badge/License-MIT-blue.svg)](https://lbesson.mit-license.org/)\n",
        "[![Arxiv](https://img.shields.io/badge/arXiv-2406.07496-B31B1B.svg)](https://arxiv.org/abs/2406.07496)\n",
        "[![Documentation Status](https://readthedocs.org/projects/textgrad/badge/?version=latest)](https://textgrad.readthedocs.io/en/latest/?badge=latest)\n",
        "[![PyPI - Python Version](https://img.shields.io/pypi/pyversions/textgrad)](https://pypi.org/project/textgrad/)\n",
        "[![PyPI](https://img.shields.io/pypi/v/textgrad)](https://pypi.org/project/textgrad/)\n",
        "\n",
        "**Objectives:**\n",
        "\n",
        "* In this tutorial, we will run prompt optimization.\n",
        "\n",
        "**Requirements:**\n",
        "\n",
        "* You need to have an OpenAI API key to run this tutorial. This should be set as an environment variable as OPENAI_API_KEY.\n"
      ]
    },
    {
      "cell_type": "code",
      "execution_count": 27,
      "id": "7add4547-4278-411b-a827-79be521851f1",
      "metadata": {
        "ExecuteTime": {
          "end_time": "2024-06-11T19:30:34.029594610Z",
          "start_time": "2024-06-11T19:30:34.024175489Z"
        },
        "id": "7add4547-4278-411b-a827-79be521851f1",
        "outputId": "3f5abf24-732b-4e0f-c758-4b03d24818cb",
        "colab": {
          "base_uri": "https://localhost:8080/"
        }
      },
      "outputs": [
        {
          "output_type": "stream",
          "name": "stdout",
          "text": [
            "Requirement already satisfied: textgrad in /usr/local/lib/python3.10/dist-packages (0.1.4)\n",
            "Requirement already satisfied: openai>=1.23.6 in /usr/local/lib/python3.10/dist-packages (from textgrad) (1.35.3)\n",
            "Requirement already satisfied: tenacity>=8.2.3 in /usr/local/lib/python3.10/dist-packages (from textgrad) (8.4.1)\n",
            "Requirement already satisfied: python-dotenv>=1.0.0 in /usr/local/lib/python3.10/dist-packages (from textgrad) (1.0.1)\n",
            "Requirement already satisfied: pandas>=1.5.3 in /usr/local/lib/python3.10/dist-packages (from textgrad) (2.0.3)\n",
            "Requirement already satisfied: platformdirs>=3.11.0 in /usr/local/lib/python3.10/dist-packages (from textgrad) (4.2.2)\n",
            "Requirement already satisfied: datasets>=2.14.6 in /usr/local/lib/python3.10/dist-packages (from textgrad) (2.20.0)\n",
            "Requirement already satisfied: diskcache>=5.6.3 in /usr/local/lib/python3.10/dist-packages (from textgrad) (5.6.3)\n",
            "Requirement already satisfied: graphviz>=0.20.3 in /usr/local/lib/python3.10/dist-packages (from textgrad) (0.20.3)\n",
            "Requirement already satisfied: gdown>=5.2.0 in /usr/local/lib/python3.10/dist-packages (from textgrad) (5.2.0)\n",
            "Requirement already satisfied: filelock in /usr/local/lib/python3.10/dist-packages (from datasets>=2.14.6->textgrad) (3.15.1)\n",
            "Requirement already satisfied: numpy>=1.17 in /usr/local/lib/python3.10/dist-packages (from datasets>=2.14.6->textgrad) (1.25.2)\n",
            "Requirement already satisfied: pyarrow>=15.0.0 in /usr/local/lib/python3.10/dist-packages (from datasets>=2.14.6->textgrad) (16.1.0)\n",
            "Requirement already satisfied: pyarrow-hotfix in /usr/local/lib/python3.10/dist-packages (from datasets>=2.14.6->textgrad) (0.6)\n",
            "Requirement already satisfied: dill<0.3.9,>=0.3.0 in /usr/local/lib/python3.10/dist-packages (from datasets>=2.14.6->textgrad) (0.3.8)\n",
            "Requirement already satisfied: requests>=2.32.2 in /usr/local/lib/python3.10/dist-packages (from datasets>=2.14.6->textgrad) (2.32.3)\n",
            "Requirement already satisfied: tqdm>=4.66.3 in /usr/local/lib/python3.10/dist-packages (from datasets>=2.14.6->textgrad) (4.66.4)\n",
            "Requirement already satisfied: xxhash in /usr/local/lib/python3.10/dist-packages (from datasets>=2.14.6->textgrad) (3.4.1)\n",
            "Requirement already satisfied: multiprocess in /usr/local/lib/python3.10/dist-packages (from datasets>=2.14.6->textgrad) (0.70.16)\n",
            "Requirement already satisfied: fsspec[http]<=2024.5.0,>=2023.1.0 in /usr/local/lib/python3.10/dist-packages (from datasets>=2.14.6->textgrad) (2023.6.0)\n",
            "Requirement already satisfied: aiohttp in /usr/local/lib/python3.10/dist-packages (from datasets>=2.14.6->textgrad) (3.9.5)\n",
            "Requirement already satisfied: huggingface-hub>=0.21.2 in /usr/local/lib/python3.10/dist-packages (from datasets>=2.14.6->textgrad) (0.23.4)\n",
            "Requirement already satisfied: packaging in /usr/local/lib/python3.10/dist-packages (from datasets>=2.14.6->textgrad) (24.1)\n",
            "Requirement already satisfied: pyyaml>=5.1 in /usr/local/lib/python3.10/dist-packages (from datasets>=2.14.6->textgrad) (6.0.1)\n",
            "Requirement already satisfied: beautifulsoup4 in /usr/local/lib/python3.10/dist-packages (from gdown>=5.2.0->textgrad) (4.12.3)\n",
            "Requirement already satisfied: anyio<5,>=3.5.0 in /usr/local/lib/python3.10/dist-packages (from openai>=1.23.6->textgrad) (3.7.1)\n",
            "Requirement already satisfied: distro<2,>=1.7.0 in /usr/lib/python3/dist-packages (from openai>=1.23.6->textgrad) (1.7.0)\n",
            "Requirement already satisfied: httpx<1,>=0.23.0 in /usr/local/lib/python3.10/dist-packages (from openai>=1.23.6->textgrad) (0.27.0)\n",
            "Requirement already satisfied: pydantic<3,>=1.9.0 in /usr/local/lib/python3.10/dist-packages (from openai>=1.23.6->textgrad) (2.7.4)\n",
            "Requirement already satisfied: sniffio in /usr/local/lib/python3.10/dist-packages (from openai>=1.23.6->textgrad) (1.3.1)\n",
            "Requirement already satisfied: typing-extensions<5,>=4.7 in /usr/local/lib/python3.10/dist-packages (from openai>=1.23.6->textgrad) (4.12.2)\n",
            "Requirement already satisfied: python-dateutil>=2.8.2 in /usr/local/lib/python3.10/dist-packages (from pandas>=1.5.3->textgrad) (2.8.2)\n",
            "Requirement already satisfied: pytz>=2020.1 in /usr/local/lib/python3.10/dist-packages (from pandas>=1.5.3->textgrad) (2023.4)\n",
            "Requirement already satisfied: tzdata>=2022.1 in /usr/local/lib/python3.10/dist-packages (from pandas>=1.5.3->textgrad) (2024.1)\n",
            "Requirement already satisfied: idna>=2.8 in /usr/local/lib/python3.10/dist-packages (from anyio<5,>=3.5.0->openai>=1.23.6->textgrad) (3.7)\n",
            "Requirement already satisfied: exceptiongroup in /usr/local/lib/python3.10/dist-packages (from anyio<5,>=3.5.0->openai>=1.23.6->textgrad) (1.2.1)\n",
            "Requirement already satisfied: aiosignal>=1.1.2 in /usr/local/lib/python3.10/dist-packages (from aiohttp->datasets>=2.14.6->textgrad) (1.3.1)\n",
            "Requirement already satisfied: attrs>=17.3.0 in /usr/local/lib/python3.10/dist-packages (from aiohttp->datasets>=2.14.6->textgrad) (23.2.0)\n",
            "Requirement already satisfied: frozenlist>=1.1.1 in /usr/local/lib/python3.10/dist-packages (from aiohttp->datasets>=2.14.6->textgrad) (1.4.1)\n",
            "Requirement already satisfied: multidict<7.0,>=4.5 in /usr/local/lib/python3.10/dist-packages (from aiohttp->datasets>=2.14.6->textgrad) (6.0.5)\n",
            "Requirement already satisfied: yarl<2.0,>=1.0 in /usr/local/lib/python3.10/dist-packages (from aiohttp->datasets>=2.14.6->textgrad) (1.9.4)\n",
            "Requirement already satisfied: async-timeout<5.0,>=4.0 in /usr/local/lib/python3.10/dist-packages (from aiohttp->datasets>=2.14.6->textgrad) (4.0.3)\n",
            "Requirement already satisfied: certifi in /usr/local/lib/python3.10/dist-packages (from httpx<1,>=0.23.0->openai>=1.23.6->textgrad) (2024.6.2)\n",
            "Requirement already satisfied: httpcore==1.* in /usr/local/lib/python3.10/dist-packages (from httpx<1,>=0.23.0->openai>=1.23.6->textgrad) (1.0.5)\n",
            "Requirement already satisfied: h11<0.15,>=0.13 in /usr/local/lib/python3.10/dist-packages (from httpcore==1.*->httpx<1,>=0.23.0->openai>=1.23.6->textgrad) (0.14.0)\n",
            "Requirement already satisfied: annotated-types>=0.4.0 in /usr/local/lib/python3.10/dist-packages (from pydantic<3,>=1.9.0->openai>=1.23.6->textgrad) (0.7.0)\n",
            "Requirement already satisfied: pydantic-core==2.18.4 in /usr/local/lib/python3.10/dist-packages (from pydantic<3,>=1.9.0->openai>=1.23.6->textgrad) (2.18.4)\n",
            "Requirement already satisfied: six>=1.5 in /usr/local/lib/python3.10/dist-packages (from python-dateutil>=2.8.2->pandas>=1.5.3->textgrad) (1.16.0)\n",
            "Requirement already satisfied: charset-normalizer<4,>=2 in /usr/local/lib/python3.10/dist-packages (from requests>=2.32.2->datasets>=2.14.6->textgrad) (3.3.2)\n",
            "Requirement already satisfied: urllib3<3,>=1.21.1 in /usr/local/lib/python3.10/dist-packages (from requests>=2.32.2->datasets>=2.14.6->textgrad) (2.0.7)\n",
            "Requirement already satisfied: soupsieve>1.2 in /usr/local/lib/python3.10/dist-packages (from beautifulsoup4->gdown>=5.2.0->textgrad) (2.5)\n",
            "Requirement already satisfied: PySocks!=1.5.7,>=1.5.6 in /usr/local/lib/python3.10/dist-packages (from requests>=2.32.2->datasets>=2.14.6->textgrad) (1.7.1)\n"
          ]
        },
        {
          "output_type": "execute_result",
          "data": {
            "text/plain": [
              "False"
            ]
          },
          "metadata": {},
          "execution_count": 27
        }
      ],
      "source": [
        "!pip install textgrad # you might need to restart the notebook after installing textgrad\n",
        "\n",
        "import argparse\n",
        "import concurrent\n",
        "from dotenv import load_dotenv\n",
        "from tqdm import tqdm\n",
        "import textgrad as tg\n",
        "from textgrad.tasks import load_task\n",
        "import numpy as np\n",
        "import random\n",
        "load_dotenv(override=True)\n"
      ]
    },
    {
      "cell_type": "markdown",
      "id": "9a459a37-7446-4c4a-a7e0-38182b5dbd3e",
      "metadata": {
        "id": "9a459a37-7446-4c4a-a7e0-38182b5dbd3e"
      },
      "source": [
        "Let's first define some support functions"
      ]
    },
    {
      "cell_type": "code",
      "execution_count": 28,
      "id": "1ccc3b21bf9ddc48",
      "metadata": {
        "ExecuteTime": {
          "end_time": "2024-06-11T19:30:42.098338405Z",
          "start_time": "2024-06-11T19:30:42.093473103Z"
        },
        "id": "1ccc3b21bf9ddc48"
      },
      "outputs": [],
      "source": [
        "def set_seed(seed):\n",
        "    np.random.seed(seed)\n",
        "    random.seed(seed)"
      ]
    },
    {
      "cell_type": "code",
      "execution_count": 29,
      "id": "649e06aef34d0990",
      "metadata": {
        "id": "649e06aef34d0990"
      },
      "outputs": [],
      "source": [
        "def eval_sample(item, eval_fn, model):\n",
        "    \"\"\"\n",
        "    This function allows us to evaluate if an answer to a question in the prompt is a good answer.\n",
        "\n",
        "    \"\"\"\n",
        "    x, y = item\n",
        "    x = tg.Variable(x, requires_grad=False, role_description=\"query to the language model\")\n",
        "    y = tg.Variable(y, requires_grad=False, role_description=\"correct answer for the query\")\n",
        "    response = model(x)\n",
        "    try:\n",
        "        eval_output_variable = eval_fn(inputs=dict(prediction=response, ground_truth_answer=y))\n",
        "        return int(eval_output_variable.value)\n",
        "    except:\n",
        "        eval_output_variable = eval_fn([x, y, response])\n",
        "        eval_output_parsed = eval_fn.parse_output(eval_output_variable)\n",
        "        return int(eval_output_parsed)"
      ]
    },
    {
      "cell_type": "code",
      "execution_count": 30,
      "id": "9559a31e07e54d7f",
      "metadata": {
        "id": "9559a31e07e54d7f"
      },
      "outputs": [],
      "source": [
        "def eval_dataset(test_set, eval_fn, model, max_samples: int=None):\n",
        "    if max_samples is None:\n",
        "        max_samples = len(test_set)\n",
        "    accuracy_list = []\n",
        "    with concurrent.futures.ThreadPoolExecutor(max_workers=2) as executor:\n",
        "        futures = []\n",
        "        for _, sample in enumerate(test_set):\n",
        "\n",
        "            future = executor.submit(eval_sample, sample, eval_fn, model)\n",
        "            futures.append(future)\n",
        "            if len(futures) >= max_samples:\n",
        "                break\n",
        "        tqdm_loader = tqdm(concurrent.futures.as_completed(futures), total=len(futures), position=0)\n",
        "        for future in tqdm_loader:\n",
        "            acc_item = future.result()\n",
        "            accuracy_list.append(acc_item)\n",
        "            tqdm_loader.set_description(f\"Accuracy: {np.mean(accuracy_list)}\")\n",
        "    return accuracy_list"
      ]
    },
    {
      "cell_type": "code",
      "execution_count": 31,
      "id": "4ea732b7edf34eb9",
      "metadata": {
        "id": "4ea732b7edf34eb9"
      },
      "outputs": [],
      "source": [
        "def run_validation_revert(system_prompt: tg.Variable, results, model, eval_fn, val_set):\n",
        "    val_performance = np.mean(eval_dataset(val_set, eval_fn, model))\n",
        "    previous_performance = np.mean(results[\"validation_acc\"][-1])\n",
        "    print(\"val_performance: \", val_performance)\n",
        "    print(\"previous_performance: \", previous_performance)\n",
        "    previous_prompt = results[\"prompt\"][-1]\n",
        "\n",
        "    if val_performance < previous_performance:\n",
        "        print(f\"rejected prompt: {system_prompt.value}\")\n",
        "        system_prompt.set_value(previous_prompt)\n",
        "        val_performance = previous_performance\n",
        "\n",
        "    results[\"validation_acc\"].append(val_performance)"
      ]
    },
    {
      "cell_type": "code",
      "source": [
        "import os\n",
        "os.environ['OPENAI_API_KEY'] = ''"
      ],
      "metadata": {
        "id": "bMxK9d-wlsFi"
      },
      "id": "bMxK9d-wlsFi",
      "execution_count": 32,
      "outputs": []
    },
    {
      "cell_type": "code",
      "source": [
        "!echo $OPENAI_API_KEY"
      ],
      "metadata": {
        "colab": {
          "base_uri": "https://localhost:8080/"
        },
        "id": "v6xm2b7FpPVP",
        "outputId": "3952deb9-4a21-4f2c-d1a1-ab030f925a99"
      },
      "id": "v6xm2b7FpPVP",
      "execution_count": 33,
      "outputs": [
        {
          "output_type": "stream",
          "name": "stdout",
          "text": [
            "sk-proj-x9b7z8ZrPGfQjsEH6PGCT3BlbkFJtP37rU4P6yNHO6UrKLFO\n"
          ]
        }
      ]
    },
    {
      "cell_type": "code",
      "execution_count": 34,
      "id": "e69f8431-661c-42f8-b7fc-efccea588a03",
      "metadata": {
        "id": "e69f8431-661c-42f8-b7fc-efccea588a03",
        "outputId": "1a528e94-adf0-4b08-db92-84f39448a862",
        "colab": {
          "base_uri": "https://localhost:8080/"
        }
      },
      "outputs": [
        {
          "output_type": "stream",
          "name": "stdout",
          "text": [
            "Train/Val/Test Set Lengths:  50 100 100\n"
          ]
        }
      ],
      "source": [
        "set_seed(12)\n",
        "llm_api_eval = tg.get_engine(engine_name=\"gpt-3.5-turbo-0125\")\n",
        "llm_api_test = tg.get_engine(engine_name=\"gpt-3.5-turbo-0125\")\n",
        "tg.set_backward_engine(llm_api_eval, override=True)\n",
        "\n",
        "# Load the data and the evaluation function\n",
        "train_set, val_set, test_set, eval_fn = load_task(\"BBH_object_counting\", evaluation_api=llm_api_eval)\n",
        "print(\"Train/Val/Test Set Lengths: \", len(train_set), len(val_set), len(test_set))\n",
        "STARTING_SYSTEM_PROMPT='Please provide summary of the following text. summary should consist of up to 3 bullet points. Use only Estonian.'\n"
      ]
    },
    {
      "cell_type": "code",
      "source": [
        "train_set[0]"
      ],
      "metadata": {
        "id": "bbqw2FNPmA7N",
        "outputId": "e799e5cc-e85e-4bad-e76b-8ce9ce68d0b2",
        "colab": {
          "base_uri": "https://localhost:8080/"
        }
      },
      "id": "bbqw2FNPmA7N",
      "execution_count": 35,
      "outputs": [
        {
          "output_type": "execute_result",
          "data": {
            "text/plain": [
              "('I have a flute, a piano, a trombone, four stoves, a violin, an accordion, a clarinet, a drum, two lamps, and a trumpet. How many musical instruments do I have?',\n",
              " 8)"
            ]
          },
          "metadata": {},
          "execution_count": 35
        }
      ]
    },
    {
      "cell_type": "markdown",
      "id": "f40b576c-4ba0-4e6e-b3ed-81eb44524676",
      "metadata": {
        "id": "f40b576c-4ba0-4e6e-b3ed-81eb44524676"
      },
      "source": [
        "This is the system prompt we are going to start from:"
      ]
    },
    {
      "cell_type": "code",
      "execution_count": 36,
      "id": "d3ed3261-6f9d-4906-8c4b-a3ad570f5950",
      "metadata": {
        "id": "d3ed3261-6f9d-4906-8c4b-a3ad570f5950"
      },
      "outputs": [],
      "source": [
        "loss_system_prompt = tg.Variable(\"\"\"You will evaluate a summary to the text.\n",
        "Do not attempt to summarize it yourself, only identify errors and ways to improve. Be super concise.\"\"\",\n",
        "                                 requires_grad=False,\n",
        "                                 role_description=\"system prompt\")\n",
        "\n",
        "loss_fn = tg.TextLoss(loss_system_prompt)\n"
      ]
    },
    {
      "cell_type": "code",
      "source": [
        "## load data\n",
        "import pandas as pd\n",
        "\n",
        "df=pd.read_excel('for_summarization_mbart_2048_chunks_summaries (1).xlsx')\n",
        "df.shape"
      ],
      "metadata": {
        "colab": {
          "base_uri": "https://localhost:8080/"
        },
        "id": "9GPZPrdEoYDY",
        "outputId": "3d94cc35-774d-490f-d680-43fe6973f968"
      },
      "id": "9GPZPrdEoYDY",
      "execution_count": 37,
      "outputs": [
        {
          "output_type": "execute_result",
          "data": {
            "text/plain": [
              "(3824, 10)"
            ]
          },
          "metadata": {},
          "execution_count": 37
        }
      ]
    },
    {
      "cell_type": "code",
      "source": [
        "train_set=list(zip(df.text.iloc[:10].tolist(), df.summary.iloc[:10].tolist()))\n",
        "val_set=list(zip(df.text.iloc[10:20].tolist(), df.summary.iloc[10:20].tolist()))\n",
        "test_set=list(zip(df.text.iloc[20:30].tolist(), df.summary.iloc[20:30].tolist()))"
      ],
      "metadata": {
        "id": "Ldi37mbjo7EB"
      },
      "id": "Ldi37mbjo7EB",
      "execution_count": 38,
      "outputs": []
    },
    {
      "cell_type": "code",
      "execution_count": 39,
      "id": "f7544127-38e0-4c74-8632-003efcc645ee",
      "metadata": {
        "id": "f7544127-38e0-4c74-8632-003efcc645ee",
        "outputId": "8924040e-cf64-4045-ead7-1a9263984100",
        "colab": {
          "base_uri": "https://localhost:8080/"
        }
      },
      "outputs": [
        {
          "output_type": "stream",
          "name": "stderr",
          "text": [
            "INFO:textgrad:LLMCall function forward\n",
            "  0%|          | 0/10 [00:00<?, ?it/s]INFO:textgrad:StringBasedFunction\n",
            "INFO:textgrad:LLMCall function forward\n",
            "Accuracy: 0.0:   0%|          | 0/10 [00:00<?, ?it/s]INFO:textgrad:StringBasedFunction\n",
            "INFO:textgrad:LLMCall function forward\n",
            "Accuracy: 0.5:   0%|          | 0/10 [00:00<?, ?it/s]INFO:textgrad:LLMCall function forward\n",
            "INFO:textgrad:StringBasedFunction\n",
            "Accuracy: 0.6666666666666666:   0%|          | 0/10 [00:00<?, ?it/s]INFO:textgrad:StringBasedFunction\n",
            "INFO:textgrad:LLMCall function forward\n",
            "Accuracy: 0.5:   0%|          | 0/10 [00:00<?, ?it/s]               INFO:textgrad:LLMCall function forward\n",
            "INFO:textgrad:StringBasedFunction\n",
            "INFO:textgrad:StringBasedFunction\n",
            "Accuracy: 0.6:   0%|          | 0/10 [00:00<?, ?it/s]INFO:textgrad:LLMCall function forward\n",
            "Accuracy: 0.6666666666666666:   0%|          | 0/10 [00:00<?, ?it/s]INFO:textgrad:StringBasedFunction\n",
            "INFO:textgrad:LLMCall function forward\n",
            "Accuracy: 0.7142857142857143:   0%|          | 0/10 [00:00<?, ?it/s]INFO:textgrad:StringBasedFunction\n",
            "INFO:textgrad:LLMCall function forward\n",
            "Accuracy: 0.625:   0%|          | 0/10 [00:00<?, ?it/s]             INFO:textgrad:StringBasedFunction\n",
            "INFO:textgrad:LLMCall function forward\n",
            "Accuracy: 0.5555555555555556:   0%|          | 0/10 [00:00<?, ?it/s]INFO:textgrad:StringBasedFunction\n",
            "Accuracy: 0.6: 100%|██████████| 10/10 [00:00<00:00, 150.45it/s]\n",
            "INFO:textgrad:LLMCall function forward\n",
            "INFO:textgrad:StringBasedFunction\n",
            "  0%|          | 0/10 [00:00<?, ?it/s]INFO:textgrad:LLMCall function forward\n",
            "Accuracy: 1.0:   0%|          | 0/10 [00:00<?, ?it/s]INFO:textgrad:StringBasedFunction\n",
            "Accuracy: 1.0:   0%|          | 0/10 [00:00<?, ?it/s]INFO:textgrad:LLMCall function forward\n",
            "INFO:textgrad:StringBasedFunction\n",
            "INFO:textgrad:LLMCall function forward\n",
            "Accuracy: 1.0:   0%|          | 0/10 [00:00<?, ?it/s]INFO:textgrad:StringBasedFunction\n",
            "INFO:textgrad:LLMCall function forward\n",
            "Accuracy: 0.75:   0%|          | 0/10 [00:00<?, ?it/s]INFO:textgrad:StringBasedFunction\n",
            "INFO:textgrad:LLMCall function forward\n",
            "Accuracy: 0.8:   0%|          | 0/10 [00:00<?, ?it/s] INFO:textgrad:StringBasedFunction\n",
            "INFO:textgrad:LLMCall function forward\n",
            "Accuracy: 0.8333333333333334:   0%|          | 0/10 [00:00<?, ?it/s]INFO:textgrad:StringBasedFunction\n",
            "Accuracy: 0.7142857142857143:   0%|          | 0/10 [00:00<?, ?it/s]INFO:textgrad:LLMCall function forward\n",
            "INFO:textgrad:LLMCall function forward\n",
            "INFO:textgrad:StringBasedFunction\n",
            "INFO:textgrad:LLMCall function forward\n",
            "Accuracy: 0.625:   0%|          | 0/10 [00:00<?, ?it/s]             INFO:textgrad:StringBasedFunction\n",
            "Accuracy: 0.5555555555555556:   0%|          | 0/10 [00:00<?, ?it/s]INFO:textgrad:StringBasedFunction\n",
            "Accuracy: 0.6: 100%|██████████| 10/10 [00:00<00:00, 124.63it/s]\n"
          ]
        }
      ],
      "source": [
        "train_loader = tg.tasks.DataLoader(train_set, batch_size=3, shuffle=True)\n",
        "\n",
        "\n",
        "# Testing the 0-shot performance of the evaluation engine\n",
        "system_prompt = tg.Variable(STARTING_SYSTEM_PROMPT,\n",
        "                            requires_grad=True,\n",
        "                            role_description=\"system prompt to the language model\")\n",
        "model_evaluation = tg.BlackboxLLM(llm_api_eval, system_prompt)\n",
        "\n",
        "system_prompt = tg.Variable(STARTING_SYSTEM_PROMPT,\n",
        "                            requires_grad=True,\n",
        "                            role_description=\"structured system prompt to a somewhat capable language model that specifies the behavior and strategies for the QA task\")\n",
        "model = tg.BlackboxLLM(llm_api_test, system_prompt)\n",
        "\n",
        "optimizer = tg.TextualGradientDescent(engine=llm_api_eval, parameters=[system_prompt])\n",
        "\n",
        "results = {\"test_acc\": [], \"prompt\": [], \"validation_acc\": []}\n",
        "results[\"test_acc\"].append(eval_dataset(test_set, eval_fn, model))\n",
        "results[\"validation_acc\"].append(eval_dataset(val_set, eval_fn, model))\n",
        "results[\"prompt\"].append(system_prompt.get_value())\n"
      ]
    },
    {
      "cell_type": "code",
      "execution_count": 40,
      "id": "b3807736-1d81-4349-95db-257c20110d1a",
      "metadata": {
        "id": "b3807736-1d81-4349-95db-257c20110d1a",
        "outputId": "8022c1c6-5b42-4d59-e08e-0c7dfa6794c6",
        "colab": {
          "base_uri": "https://localhost:8080/"
        }
      },
      "outputs": [
        {
          "output_type": "stream",
          "name": "stderr",
          "text": [
            "Training step 0. Epoch 0: : 0it [00:00, ?it/s]INFO:textgrad:LLMCall function forward\n",
            "INFO:textgrad:StringBasedFunction\n",
            "INFO:textgrad:LLMCall function forward\n",
            "INFO:textgrad:StringBasedFunction\n",
            "INFO:textgrad:LLMCall function forward\n",
            "INFO:textgrad:StringBasedFunction\n",
            "INFO:textgrad:Idempotent backward\n",
            "INFO:textgrad:Idempotent backward\n",
            "INFO:textgrad:Idempotent backward\n",
            "INFO:textgrad:_backward_through_string_fn prompt\n",
            "INFO:textgrad:_backward_through_string_fn gradient\n",
            "INFO:textgrad:_backward_through_llm prompt\n",
            "INFO:textgrad:_backward_through_llm gradient\n",
            "INFO:textgrad:_backward_through_string_fn prompt\n",
            "INFO:textgrad:_backward_through_string_fn gradient\n",
            "INFO:textgrad:_backward_through_llm prompt\n",
            "INFO:textgrad:_backward_through_llm gradient\n",
            "INFO:textgrad:_backward_through_string_fn prompt\n",
            "INFO:textgrad:_backward_through_string_fn gradient\n",
            "INFO:textgrad:_backward_through_llm prompt\n",
            "INFO:textgrad:_backward_through_llm gradient\n",
            "INFO:textgrad:TextualGradientDescent prompt for update\n",
            "INFO:textgrad:TextualGradientDescent optimizer response\n",
            "INFO:textgrad:TextualGradientDescent updated text\n",
            "  0%|          | 0/10 [00:00<?, ?it/s]INFO:textgrad:LLMCall function forward\n",
            "INFO:textgrad:StringBasedFunction\n",
            "Accuracy: 0.0:  10%|█         | 1/10 [00:03<00:30,  3.40s/it]INFO:textgrad:LLMCall function forward\n",
            "INFO:textgrad:StringBasedFunction\n",
            "Accuracy: 0.0:  20%|██        | 2/10 [00:05<00:22,  2.85s/it]INFO:textgrad:LLMCall function forward\n",
            "INFO:textgrad:StringBasedFunction\n",
            "Accuracy: 0.0:  30%|███       | 3/10 [00:09<00:21,  3.12s/it]INFO:textgrad:LLMCall function forward\n",
            "INFO:textgrad:StringBasedFunction\n",
            "Accuracy: 0.0:  40%|████      | 4/10 [00:10<00:14,  2.46s/it]INFO:textgrad:LLMCall function forward\n",
            "INFO:textgrad:StringBasedFunction\n",
            "Accuracy: 0.0:  50%|█████     | 5/10 [00:13<00:12,  2.56s/it]INFO:textgrad:LLMCall function forward\n",
            "INFO:textgrad:StringBasedFunction\n",
            "Accuracy: 0.0:  60%|██████    | 6/10 [00:14<00:08,  2.09s/it]INFO:textgrad:LLMCall function forward\n",
            "INFO:textgrad:StringBasedFunction\n",
            "Accuracy: 0.0:  70%|███████   | 7/10 [00:17<00:07,  2.39s/it]INFO:textgrad:LLMCall function forward\n",
            "INFO:textgrad:StringBasedFunction\n",
            "Accuracy: 0.0:  80%|████████  | 8/10 [00:20<00:04,  2.38s/it]INFO:textgrad:LLMCall function forward\n",
            "INFO:textgrad:StringBasedFunction\n",
            "Accuracy: 0.0:  90%|█████████ | 9/10 [00:21<00:02,  2.22s/it]INFO:textgrad:LLMCall function forward\n",
            "INFO:textgrad:StringBasedFunction\n",
            "Accuracy: 0.1: 100%|██████████| 10/10 [00:22<00:00,  2.26s/it]\n"
          ]
        },
        {
          "output_type": "stream",
          "name": "stdout",
          "text": [
            "val_performance:  0.1\n",
            "previous_performance:  0.6\n",
            "rejected prompt: Palun koosta järgneva teksti põhjal kokkuvõte. Kokkuvõte peaks sisaldama kuni 3 punkti. Kasuta ainult eesti keelt.\n",
            "sys prompt:  Please provide summary of the following text. summary should consist of up to 3 bullet points. Use only Estonian.\n"
          ]
        },
        {
          "output_type": "stream",
          "name": "stderr",
          "text": [
            "INFO:textgrad:LLMCall function forward\n",
            "  0%|          | 0/10 [00:00<?, ?it/s]INFO:textgrad:StringBasedFunction\n",
            "Accuracy: 1.0:   0%|          | 0/10 [00:00<?, ?it/s]INFO:textgrad:LLMCall function forward\n",
            "INFO:textgrad:LLMCall function forward\n",
            "INFO:textgrad:StringBasedFunction\n",
            "INFO:textgrad:StringBasedFunction\n",
            "Accuracy: 1.0:   0%|          | 0/10 [00:00<?, ?it/s]INFO:textgrad:LLMCall function forward\n",
            "Accuracy: 0.6666666666666666:   0%|          | 0/10 [00:00<?, ?it/s]INFO:textgrad:StringBasedFunction\n",
            "INFO:textgrad:LLMCall function forward\n",
            "Accuracy: 0.75:   0%|          | 0/10 [00:00<?, ?it/s]              INFO:textgrad:StringBasedFunction\n",
            "INFO:textgrad:LLMCall function forward\n",
            "Accuracy: 0.8:   0%|          | 0/10 [00:00<?, ?it/s] INFO:textgrad:StringBasedFunction\n",
            "INFO:textgrad:LLMCall function forward\n",
            "Accuracy: 0.8333333333333334:   0%|          | 0/10 [00:00<?, ?it/s]INFO:textgrad:StringBasedFunction\n",
            "Accuracy: 0.7142857142857143:   0%|          | 0/10 [00:00<?, ?it/s]INFO:textgrad:LLMCall function forward\n",
            "INFO:textgrad:LLMCall function forward\n",
            "INFO:textgrad:StringBasedFunction\n",
            "Accuracy: 0.625:   0%|          | 0/10 [00:00<?, ?it/s]             INFO:textgrad:StringBasedFunction\n",
            "Accuracy: 0.5555555555555556:   0%|          | 0/10 [00:00<?, ?it/s]INFO:textgrad:LLMCall function forward\n",
            "INFO:textgrad:StringBasedFunction\n",
            "Accuracy: 0.6: 100%|██████████| 10/10 [00:00<00:00, 196.42it/s]\n",
            "Training step 1. Epoch 0: : 1it [00:25, 25.09s/it]INFO:textgrad:LLMCall function forward\n",
            "INFO:textgrad:StringBasedFunction\n",
            "INFO:textgrad:LLMCall function forward\n",
            "INFO:textgrad:StringBasedFunction\n",
            "INFO:textgrad:LLMCall function forward\n",
            "INFO:textgrad:StringBasedFunction\n",
            "INFO:textgrad:Idempotent backward\n",
            "INFO:textgrad:Idempotent backward\n",
            "INFO:textgrad:Idempotent backward\n",
            "INFO:textgrad:_backward_through_string_fn prompt\n",
            "INFO:textgrad:_backward_through_string_fn gradient\n",
            "INFO:textgrad:_backward_through_llm prompt\n",
            "INFO:textgrad:_backward_through_llm gradient\n",
            "INFO:textgrad:_backward_through_string_fn prompt\n",
            "INFO:textgrad:_backward_through_string_fn gradient\n",
            "INFO:textgrad:_backward_through_llm prompt\n",
            "INFO:textgrad:_backward_through_llm gradient\n",
            "INFO:textgrad:_backward_through_string_fn prompt\n",
            "INFO:textgrad:_backward_through_string_fn gradient\n",
            "INFO:textgrad:_backward_through_llm prompt\n",
            "INFO:textgrad:_backward_through_llm gradient\n",
            "INFO:textgrad:TextualGradientDescent prompt for update\n",
            "INFO:textgrad:TextualGradientDescent optimizer response\n",
            "INFO:textgrad:TextualGradientDescent updated text\n",
            "INFO:textgrad:LLMCall function forward\n",
            "INFO:textgrad:StringBasedFunction\n",
            "INFO:textgrad:LLMCall function forward\n",
            "  0%|          | 0/10 [00:00<?, ?it/s]INFO:textgrad:StringBasedFunction\n",
            "Accuracy: 0.0:   0%|          | 0/10 [00:00<?, ?it/s]INFO:textgrad:LLMCall function forward\n",
            "INFO:textgrad:StringBasedFunction\n",
            "INFO:textgrad:LLMCall function forward\n",
            "INFO:textgrad:StringBasedFunction\n",
            "Accuracy: 0.0:   0%|          | 0/10 [00:00<?, ?it/s]INFO:textgrad:LLMCall function forward\n",
            "Accuracy: 0.0:   0%|          | 0/10 [00:00<?, ?it/s]INFO:textgrad:StringBasedFunction\n",
            "Accuracy: 0.0:   0%|          | 0/10 [00:00<?, ?it/s]INFO:textgrad:LLMCall function forward\n",
            "Accuracy: 0.0:   0%|          | 0/10 [00:00<?, ?it/s]INFO:textgrad:LLMCall function forward\n",
            "INFO:textgrad:StringBasedFunction\n",
            "INFO:textgrad:StringBasedFunction\n",
            "INFO:textgrad:LLMCall function forward\n",
            "Accuracy: 0.0:   0%|          | 0/10 [00:00<?, ?it/s]INFO:textgrad:StringBasedFunction\n",
            "Accuracy: 0.0:   0%|          | 0/10 [00:00<?, ?it/s]INFO:textgrad:LLMCall function forward\n",
            "INFO:textgrad:LLMCall function forward\n",
            "INFO:textgrad:StringBasedFunction\n",
            "INFO:textgrad:StringBasedFunction\n",
            "Accuracy: 0.1: 100%|██████████| 10/10 [00:00<00:00, 161.44it/s]\n",
            "INFO:textgrad:LLMCall function forward\n"
          ]
        },
        {
          "output_type": "stream",
          "name": "stdout",
          "text": [
            "val_performance:  0.1\n",
            "previous_performance:  0.6\n",
            "rejected prompt: Summeerige järgmine tekst. Kokkuvõte peaks koosnema kuni 3 punktist. Kasutage ainult eesti keelt.\n",
            "sys prompt:  Please provide summary of the following text. summary should consist of up to 3 bullet points. Use only Estonian.\n"
          ]
        },
        {
          "output_type": "stream",
          "name": "stderr",
          "text": [
            "\r  0%|          | 0/10 [00:00<?, ?it/s]INFO:textgrad:LLMCall function forward\n",
            "INFO:textgrad:StringBasedFunction\n",
            "Accuracy: 1.0:   0%|          | 0/10 [00:00<?, ?it/s]INFO:textgrad:StringBasedFunction\n",
            "INFO:textgrad:LLMCall function forward\n",
            "Accuracy: 0.5:   0%|          | 0/10 [00:00<?, ?it/s]INFO:textgrad:StringBasedFunction\n",
            "Accuracy: 0.6666666666666666:   0%|          | 0/10 [00:00<?, ?it/s]INFO:textgrad:LLMCall function forward\n",
            "INFO:textgrad:LLMCall function forward\n",
            "INFO:textgrad:StringBasedFunction\n",
            "Accuracy: 0.75:   0%|          | 0/10 [00:00<?, ?it/s]              INFO:textgrad:LLMCall function forward\n",
            "INFO:textgrad:StringBasedFunction\n",
            "Accuracy: 0.6:   0%|          | 0/10 [00:00<?, ?it/s] INFO:textgrad:StringBasedFunction\n",
            "Accuracy: 0.6666666666666666:   0%|          | 0/10 [00:00<?, ?it/s]INFO:textgrad:LLMCall function forward\n",
            "INFO:textgrad:LLMCall function forward\n",
            "INFO:textgrad:StringBasedFunction\n",
            "Accuracy: 0.7142857142857143:   0%|          | 0/10 [00:00<?, ?it/s]INFO:textgrad:StringBasedFunction\n",
            "INFO:textgrad:LLMCall function forward\n",
            "Accuracy: 0.625:   0%|          | 0/10 [00:00<?, ?it/s]             INFO:textgrad:StringBasedFunction\n",
            "Accuracy: 0.5555555555555556:   0%|          | 0/10 [00:00<?, ?it/s]INFO:textgrad:LLMCall function forward\n",
            "INFO:textgrad:StringBasedFunction\n",
            "Accuracy: 0.6: 100%|██████████| 10/10 [00:00<00:00, 146.16it/s]\n",
            "Training step 2. Epoch 0: : 2it [00:25, 10.50s/it]INFO:textgrad:LLMCall function forward\n",
            "INFO:textgrad:StringBasedFunction\n",
            "INFO:textgrad:LLMCall function forward\n",
            "INFO:textgrad:StringBasedFunction\n",
            "INFO:textgrad:LLMCall function forward\n",
            "INFO:textgrad:StringBasedFunction\n",
            "INFO:textgrad:Idempotent backward\n",
            "INFO:textgrad:Idempotent backward\n",
            "INFO:textgrad:Idempotent backward\n",
            "INFO:textgrad:_backward_through_string_fn prompt\n",
            "INFO:textgrad:_backward_through_string_fn gradient\n",
            "INFO:textgrad:_backward_through_llm prompt\n",
            "INFO:textgrad:_backward_through_llm gradient\n",
            "INFO:textgrad:_backward_through_string_fn prompt\n",
            "INFO:textgrad:_backward_through_string_fn gradient\n",
            "INFO:textgrad:_backward_through_llm prompt\n",
            "INFO:textgrad:_backward_through_llm gradient\n",
            "INFO:textgrad:_backward_through_string_fn prompt\n",
            "INFO:textgrad:_backward_through_string_fn gradient\n",
            "INFO:textgrad:_backward_through_llm prompt\n",
            "INFO:textgrad:_backward_through_llm gradient\n",
            "INFO:textgrad:TextualGradientDescent prompt for update\n",
            "INFO:textgrad:TextualGradientDescent optimizer response\n",
            "INFO:textgrad:TextualGradientDescent updated text\n",
            "INFO:textgrad:LLMCall function forward\n",
            "INFO:textgrad:StringBasedFunction\n",
            "INFO:textgrad:LLMCall function forward\n",
            "INFO:textgrad:StringBasedFunction\n",
            "INFO:textgrad:LLMCall function forward\n",
            "  0%|          | 0/10 [00:00<?, ?it/s]INFO:textgrad:StringBasedFunction\n",
            "Accuracy: 0.0:   0%|          | 0/10 [00:00<?, ?it/s]INFO:textgrad:LLMCall function forward\n",
            "Accuracy: 0.0:   0%|          | 0/10 [00:00<?, ?it/s]INFO:textgrad:StringBasedFunction\n",
            "Accuracy: 0.0:   0%|          | 0/10 [00:00<?, ?it/s]INFO:textgrad:LLMCall function forward\n",
            "Accuracy: 0.0:   0%|          | 0/10 [00:00<?, ?it/s]INFO:textgrad:LLMCall function forward\n",
            "INFO:textgrad:StringBasedFunction\n",
            "INFO:textgrad:LLMCall function forward\n",
            "Accuracy: 0.0:   0%|          | 0/10 [00:00<?, ?it/s]INFO:textgrad:StringBasedFunction\n",
            "INFO:textgrad:LLMCall function forward\n",
            "Accuracy: 0.0:   0%|          | 0/10 [00:00<?, ?it/s]INFO:textgrad:StringBasedFunction\n",
            "INFO:textgrad:LLMCall function forward\n",
            "Accuracy: 0.0:   0%|          | 0/10 [00:00<?, ?it/s]INFO:textgrad:StringBasedFunction\n",
            "INFO:textgrad:LLMCall function forward\n",
            "Accuracy: 0.0:   0%|          | 0/10 [00:00<?, ?it/s]INFO:textgrad:StringBasedFunction\n",
            "INFO:textgrad:StringBasedFunction\n",
            "Accuracy: 0.0: 100%|██████████| 10/10 [00:00<00:00, 263.63it/s]\n",
            "INFO:textgrad:LLMCall function forward\n",
            "INFO:textgrad:StringBasedFunction\n"
          ]
        },
        {
          "output_type": "stream",
          "name": "stdout",
          "text": [
            "val_performance:  0.0\n",
            "previous_performance:  0.6\n",
            "rejected prompt: Summeerige järgnev tekst. Kokkuvõte peaks koosnema kuni 3 punktist. Kasutage ainult eesti keelt.\n",
            "sys prompt:  Please provide summary of the following text. summary should consist of up to 3 bullet points. Use only Estonian.\n"
          ]
        },
        {
          "output_type": "stream",
          "name": "stderr",
          "text": [
            "INFO:textgrad:LLMCall function forward\n",
            "Accuracy: 1.0:   0%|          | 0/10 [00:00<?, ?it/s]INFO:textgrad:LLMCall function forward\n",
            "INFO:textgrad:StringBasedFunction\n",
            "INFO:textgrad:StringBasedFunction\n",
            "Accuracy: 0.5:   0%|          | 0/10 [00:00<?, ?it/s]INFO:textgrad:LLMCall function forward\n",
            "Accuracy: 0.6666666666666666:   0%|          | 0/10 [00:00<?, ?it/s]INFO:textgrad:StringBasedFunction\n",
            "INFO:textgrad:LLMCall function forward\n",
            "Accuracy: 0.75:   0%|          | 0/10 [00:00<?, ?it/s]              INFO:textgrad:StringBasedFunction\n",
            "INFO:textgrad:LLMCall function forward\n",
            "Accuracy: 0.8:   0%|          | 0/10 [00:00<?, ?it/s] INFO:textgrad:StringBasedFunction\n",
            "INFO:textgrad:LLMCall function forward\n",
            "Accuracy: 0.8333333333333334:   0%|          | 0/10 [00:00<?, ?it/s]INFO:textgrad:StringBasedFunction\n",
            "INFO:textgrad:LLMCall function forward\n",
            "Accuracy: 0.7142857142857143:   0%|          | 0/10 [00:00<?, ?it/s]INFO:textgrad:StringBasedFunction\n",
            "Accuracy: 0.625:   0%|          | 0/10 [00:00<?, ?it/s]             INFO:textgrad:LLMCall function forward\n",
            "INFO:textgrad:StringBasedFunction\n",
            "INFO:textgrad:LLMCall function forward\n",
            "Accuracy: 0.5555555555555556:   0%|          | 0/10 [00:00<?, ?it/s]INFO:textgrad:StringBasedFunction\n",
            "Accuracy: 0.6: 100%|██████████| 10/10 [00:00<00:00, 76.78it/s]\n",
            "Training step 3. Epoch 0: : 3it [00:27,  6.74s/it]INFO:textgrad:LLMCall function forward\n",
            "INFO:textgrad:StringBasedFunction\n",
            "INFO:textgrad:Idempotent backward\n",
            "INFO:textgrad:_backward_through_string_fn prompt\n",
            "INFO:textgrad:_backward_through_string_fn gradient\n",
            "INFO:textgrad:_backward_through_llm prompt\n",
            "INFO:textgrad:_backward_through_llm gradient\n",
            "INFO:textgrad:TextualGradientDescent prompt for update\n",
            "INFO:textgrad:TextualGradientDescent optimizer response\n",
            "INFO:textgrad:TextualGradientDescent updated text\n",
            "INFO:textgrad:LLMCall function forward\n",
            "INFO:textgrad:StringBasedFunction\n",
            "INFO:textgrad:LLMCall function forward\n",
            "INFO:textgrad:StringBasedFunction\n",
            "INFO:textgrad:LLMCall function forward\n",
            "INFO:textgrad:StringBasedFunction\n",
            "  0%|          | 0/10 [00:00<?, ?it/s]INFO:textgrad:LLMCall function forward\n",
            "INFO:textgrad:LLMCall function forward\n",
            "INFO:textgrad:StringBasedFunction\n",
            "Accuracy: 1.0:   0%|          | 0/10 [00:00<?, ?it/s]INFO:textgrad:LLMCall function forward\n",
            "Accuracy: 0.5:   0%|          | 0/10 [00:00<?, ?it/s]INFO:textgrad:StringBasedFunction\n",
            "Accuracy: 0.3333333333333333:   0%|          | 0/10 [00:00<?, ?it/s]INFO:textgrad:LLMCall function forward\n",
            "Accuracy: 0.25:   0%|          | 0/10 [00:00<?, ?it/s]              INFO:textgrad:StringBasedFunction\n",
            "Accuracy: 0.4:   0%|          | 0/10 [00:00<?, ?it/s] INFO:textgrad:LLMCall function forward\n",
            "Accuracy: 0.5:   0%|          | 0/10 [00:00<?, ?it/s]INFO:textgrad:StringBasedFunction\n",
            "Accuracy: 0.42857142857142855:   0%|          | 0/10 [00:00<?, ?it/s]INFO:textgrad:StringBasedFunction\n",
            "INFO:textgrad:LLMCall function forward\n",
            "Accuracy: 0.5:   0%|          | 0/10 [00:00<?, ?it/s]                INFO:textgrad:StringBasedFunction\n",
            "INFO:textgrad:LLMCall function forward\n",
            "Accuracy: 0.4444444444444444:   0%|          | 0/10 [00:00<?, ?it/s]INFO:textgrad:StringBasedFunction\n",
            "Accuracy: 0.4: 100%|██████████| 10/10 [00:00<00:00, 259.52it/s]\n",
            "INFO:textgrad:LLMCall function forward\n"
          ]
        },
        {
          "output_type": "stream",
          "name": "stdout",
          "text": [
            "val_performance:  0.4\n",
            "previous_performance:  0.6\n",
            "rejected prompt: Provide a detailed summary of the following text in Estonian using legal terminology where applicable. The summary should consist of exactly three bullet points and should cover key topics such as academic leave policies, quality versus efficiency in education, and support for students with disabilities.\n",
            "sys prompt:  Please provide summary of the following text. summary should consist of up to 3 bullet points. Use only Estonian.\n"
          ]
        },
        {
          "output_type": "stream",
          "name": "stderr",
          "text": [
            "  0%|          | 0/10 [00:00<?, ?it/s]INFO:textgrad:StringBasedFunction\n",
            "Accuracy: 1.0:   0%|          | 0/10 [00:00<?, ?it/s]INFO:textgrad:LLMCall function forward\n",
            "INFO:textgrad:LLMCall function forward\n",
            "INFO:textgrad:StringBasedFunction\n",
            "INFO:textgrad:StringBasedFunction\n",
            "Accuracy: 1.0:   0%|          | 0/10 [00:00<?, ?it/s]INFO:textgrad:LLMCall function forward\n",
            "Accuracy: 0.6666666666666666:   0%|          | 0/10 [00:00<?, ?it/s]INFO:textgrad:StringBasedFunction\n",
            "INFO:textgrad:LLMCall function forward\n",
            "Accuracy: 0.75:   0%|          | 0/10 [00:00<?, ?it/s]              INFO:textgrad:StringBasedFunction\n",
            "INFO:textgrad:LLMCall function forward\n",
            "Accuracy: 0.8:   0%|          | 0/10 [00:00<?, ?it/s] INFO:textgrad:StringBasedFunction\n",
            "INFO:textgrad:LLMCall function forward\n",
            "Accuracy: 0.8333333333333334:   0%|          | 0/10 [00:00<?, ?it/s]INFO:textgrad:StringBasedFunction\n",
            "INFO:textgrad:LLMCall function forward\n",
            "Accuracy: 0.7142857142857143:   0%|          | 0/10 [00:00<?, ?it/s]INFO:textgrad:StringBasedFunction\n",
            "Accuracy: 0.625:   0%|          | 0/10 [00:00<?, ?it/s]             INFO:textgrad:LLMCall function forward\n",
            "INFO:textgrad:StringBasedFunction\n",
            "INFO:textgrad:LLMCall function forward\n",
            "Accuracy: 0.5555555555555556:   0%|          | 0/10 [00:00<?, ?it/s]INFO:textgrad:StringBasedFunction\n",
            "Accuracy: 0.6: 100%|██████████| 10/10 [00:00<00:00, 122.90it/s]\n",
            "Training step 3. Epoch 0: : 3it [00:27,  9.28s/it]\n",
            "Training step 0. Epoch 1: : 0it [00:00, ?it/s]INFO:textgrad:LLMCall function forward\n",
            "INFO:textgrad:StringBasedFunction\n",
            "INFO:textgrad:LLMCall function forward\n",
            "INFO:textgrad:StringBasedFunction\n",
            "INFO:textgrad:LLMCall function forward\n",
            "INFO:textgrad:StringBasedFunction\n",
            "INFO:textgrad:Idempotent backward\n",
            "INFO:textgrad:Idempotent backward\n",
            "INFO:textgrad:Idempotent backward\n",
            "INFO:textgrad:_backward_through_string_fn prompt\n",
            "INFO:textgrad:_backward_through_string_fn gradient\n",
            "INFO:textgrad:_backward_through_llm prompt\n",
            "INFO:textgrad:_backward_through_llm gradient\n",
            "INFO:textgrad:_backward_through_string_fn prompt\n",
            "INFO:textgrad:_backward_through_string_fn gradient\n",
            "INFO:textgrad:_backward_through_llm prompt\n",
            "INFO:textgrad:_backward_through_llm gradient\n",
            "INFO:textgrad:_backward_through_string_fn prompt\n",
            "INFO:textgrad:_backward_through_string_fn gradient\n",
            "INFO:textgrad:_backward_through_llm prompt\n",
            "INFO:textgrad:_backward_through_llm gradient\n",
            "INFO:textgrad:TextualGradientDescent prompt for update\n",
            "INFO:textgrad:TextualGradientDescent optimizer response\n",
            "INFO:textgrad:TextualGradientDescent updated text\n",
            "INFO:textgrad:LLMCall function forward\n",
            "  0%|          | 0/10 [00:00<?, ?it/s]INFO:textgrad:StringBasedFunction\n",
            "Accuracy: 0.0:   0%|          | 0/10 [00:00<?, ?it/s]INFO:textgrad:LLMCall function forward\n",
            "INFO:textgrad:LLMCall function forward\n",
            "INFO:textgrad:StringBasedFunction\n",
            "Accuracy: 0.0:   0%|          | 0/10 [00:00<?, ?it/s]INFO:textgrad:StringBasedFunction\n",
            "Accuracy: 0.0:   0%|          | 0/10 [00:00<?, ?it/s]INFO:textgrad:LLMCall function forward\n",
            "INFO:textgrad:LLMCall function forward\n",
            "INFO:textgrad:StringBasedFunction\n",
            "INFO:textgrad:StringBasedFunction\n",
            "Accuracy: 0.0:   0%|          | 0/10 [00:00<?, ?it/s]INFO:textgrad:LLMCall function forward\n",
            "Accuracy: 0.0:   0%|          | 0/10 [00:00<?, ?it/s]INFO:textgrad:StringBasedFunction\n",
            "INFO:textgrad:LLMCall function forward\n",
            "Accuracy: 0.0:   0%|          | 0/10 [00:00<?, ?it/s]INFO:textgrad:StringBasedFunction\n",
            "Accuracy: 0.0:   0%|          | 0/10 [00:00<?, ?it/s]INFO:textgrad:LLMCall function forward\n",
            "INFO:textgrad:StringBasedFunction\n",
            "INFO:textgrad:LLMCall function forward\n",
            "Accuracy: 0.0:   0%|          | 0/10 [00:00<?, ?it/s]INFO:textgrad:LLMCall function forward\n",
            "INFO:textgrad:StringBasedFunction\n",
            "Accuracy: 0.0:   0%|          | 0/10 [00:00<?, ?it/s]INFO:textgrad:StringBasedFunction\n",
            "Accuracy: 0.0: 100%|██████████| 10/10 [00:00<00:00, 86.51it/s]\n",
            "INFO:textgrad:LLMCall function forward\n",
            "INFO:textgrad:StringBasedFunction\n"
          ]
        },
        {
          "output_type": "stream",
          "name": "stdout",
          "text": [
            "val_performance:  0.0\n",
            "previous_performance:  0.6\n",
            "rejected prompt: Palun koosta järgneva teksti kokkuvõte. Kokkuvõte peaks koosnema kuni 3 punktist. Kasuta ainult eesti keelt.\n",
            "sys prompt:  Please provide summary of the following text. summary should consist of up to 3 bullet points. Use only Estonian.\n"
          ]
        },
        {
          "output_type": "stream",
          "name": "stderr",
          "text": [
            "  0%|          | 0/10 [00:00<?, ?it/s]INFO:textgrad:LLMCall function forward\n",
            "Accuracy: 1.0:   0%|          | 0/10 [00:00<?, ?it/s]INFO:textgrad:StringBasedFunction\n",
            "Accuracy: 1.0:   0%|          | 0/10 [00:00<?, ?it/s]INFO:textgrad:LLMCall function forward\n",
            "INFO:textgrad:StringBasedFunction\n",
            "Accuracy: 0.6666666666666666:   0%|          | 0/10 [00:00<?, ?it/s]INFO:textgrad:LLMCall function forward\n",
            "INFO:textgrad:StringBasedFunction\n",
            "Accuracy: 0.5:   0%|          | 0/10 [00:00<?, ?it/s]               INFO:textgrad:LLMCall function forward\n",
            "INFO:textgrad:StringBasedFunction\n",
            "Accuracy: 0.6:   0%|          | 0/10 [00:00<?, ?it/s]INFO:textgrad:LLMCall function forward\n",
            "INFO:textgrad:StringBasedFunction\n",
            "Accuracy: 0.6666666666666666:   0%|          | 0/10 [00:00<?, ?it/s]INFO:textgrad:LLMCall function forward\n",
            "INFO:textgrad:LLMCall function forward\n",
            "INFO:textgrad:StringBasedFunction\n",
            "Accuracy: 0.5714285714285714:   0%|          | 0/10 [00:00<?, ?it/s]INFO:textgrad:StringBasedFunction\n",
            "Accuracy: 0.625:   0%|          | 0/10 [00:00<?, ?it/s]             INFO:textgrad:LLMCall function forward\n",
            "INFO:textgrad:LLMCall function forward\n",
            "INFO:textgrad:StringBasedFunction\n",
            "INFO:textgrad:StringBasedFunction\n",
            "Accuracy: 0.6: 100%|██████████| 10/10 [00:00<00:00, 118.11it/s]\n",
            "Training step 1. Epoch 1: : 1it [00:02,  2.34s/it]INFO:textgrad:LLMCall function forward\n",
            "INFO:textgrad:StringBasedFunction\n",
            "INFO:textgrad:LLMCall function forward\n",
            "INFO:textgrad:StringBasedFunction\n",
            "INFO:textgrad:LLMCall function forward\n",
            "INFO:textgrad:StringBasedFunction\n",
            "INFO:textgrad:Idempotent backward\n",
            "INFO:textgrad:Idempotent backward\n",
            "INFO:textgrad:Idempotent backward\n",
            "INFO:textgrad:_backward_through_string_fn prompt\n",
            "INFO:textgrad:_backward_through_string_fn gradient\n",
            "INFO:textgrad:_backward_through_llm prompt\n",
            "INFO:textgrad:_backward_through_llm gradient\n",
            "INFO:textgrad:_backward_through_string_fn prompt\n",
            "INFO:textgrad:_backward_through_string_fn gradient\n",
            "INFO:textgrad:_backward_through_llm prompt\n",
            "INFO:textgrad:_backward_through_llm gradient\n",
            "INFO:textgrad:_backward_through_string_fn prompt\n",
            "INFO:textgrad:_backward_through_string_fn gradient\n",
            "INFO:textgrad:_backward_through_llm prompt\n",
            "INFO:textgrad:_backward_through_llm gradient\n",
            "INFO:textgrad:TextualGradientDescent prompt for update\n",
            "INFO:textgrad:TextualGradientDescent optimizer response\n",
            "INFO:textgrad:TextualGradientDescent updated text\n",
            "INFO:textgrad:LLMCall function forward\n",
            "INFO:textgrad:StringBasedFunction\n",
            "INFO:textgrad:LLMCall function forward\n",
            "  0%|          | 0/10 [00:00<?, ?it/s]INFO:textgrad:LLMCall function forward\n",
            "Accuracy: 0.0:   0%|          | 0/10 [00:00<?, ?it/s]INFO:textgrad:StringBasedFunction\n",
            "INFO:textgrad:LLMCall function forward\n",
            "Accuracy: 0.0:   0%|          | 0/10 [00:00<?, ?it/s]INFO:textgrad:StringBasedFunction\n",
            "INFO:textgrad:LLMCall function forward\n",
            "Accuracy: 0.0:   0%|          | 0/10 [00:00<?, ?it/s]INFO:textgrad:StringBasedFunction\n",
            "INFO:textgrad:LLMCall function forward\n",
            "Accuracy: 0.0:   0%|          | 0/10 [00:00<?, ?it/s]INFO:textgrad:StringBasedFunction\n",
            "Accuracy: 0.0:   0%|          | 0/10 [00:00<?, ?it/s]INFO:textgrad:StringBasedFunction\n",
            "Accuracy: 0.0:   0%|          | 0/10 [00:00<?, ?it/s]INFO:textgrad:LLMCall function forward\n",
            "INFO:textgrad:StringBasedFunction\n",
            "INFO:textgrad:LLMCall function forward\n",
            "Accuracy: 0.0:   0%|          | 0/10 [00:00<?, ?it/s]INFO:textgrad:StringBasedFunction\n",
            "INFO:textgrad:LLMCall function forward\n",
            "Accuracy: 0.0:   0%|          | 0/10 [00:00<?, ?it/s]INFO:textgrad:StringBasedFunction\n",
            "INFO:textgrad:LLMCall function forward\n",
            "Accuracy: 0.0:   0%|          | 0/10 [00:00<?, ?it/s]INFO:textgrad:StringBasedFunction\n",
            "Accuracy: 0.0: 100%|██████████| 10/10 [00:00<00:00, 253.31it/s]\n",
            "INFO:textgrad:LLMCall function forward\n",
            "INFO:textgrad:StringBasedFunction\n",
            "INFO:textgrad:LLMCall function forward\n"
          ]
        },
        {
          "output_type": "stream",
          "name": "stdout",
          "text": [
            "val_performance:  0.0\n",
            "previous_performance:  0.6\n",
            "rejected prompt: Palun koosta järgneva teksti kokkuvõte. Kokkuvõte peaks koosnema kuni 3 punktist. Kasuta ainult eesti keelt.\n",
            "sys prompt:  Please provide summary of the following text. summary should consist of up to 3 bullet points. Use only Estonian.\n"
          ]
        },
        {
          "output_type": "stream",
          "name": "stderr",
          "text": [
            "INFO:textgrad:StringBasedFunction\n",
            "  0%|          | 0/10 [00:00<?, ?it/s]INFO:textgrad:LLMCall function forward\n",
            "Accuracy: 0.0:   0%|          | 0/10 [00:00<?, ?it/s]INFO:textgrad:StringBasedFunction\n",
            "Accuracy: 0.5:   0%|          | 0/10 [00:00<?, ?it/s]INFO:textgrad:LLMCall function forward\n",
            "Accuracy: 0.3333333333333333:   0%|          | 0/10 [00:00<?, ?it/s]INFO:textgrad:StringBasedFunction\n",
            "INFO:textgrad:LLMCall function forward\n",
            "Accuracy: 0.5:   0%|          | 0/10 [00:00<?, ?it/s]               INFO:textgrad:StringBasedFunction\n",
            "INFO:textgrad:LLMCall function forward\n",
            "Accuracy: 0.6:   0%|          | 0/10 [00:00<?, ?it/s]INFO:textgrad:StringBasedFunction\n",
            "INFO:textgrad:LLMCall function forward\n",
            "Accuracy: 0.6666666666666666:   0%|          | 0/10 [00:00<?, ?it/s]INFO:textgrad:StringBasedFunction\n",
            "INFO:textgrad:LLMCall function forward\n",
            "Accuracy: 0.7142857142857143:   0%|          | 0/10 [00:00<?, ?it/s]INFO:textgrad:StringBasedFunction\n",
            "INFO:textgrad:LLMCall function forward\n",
            "Accuracy: 0.625:   0%|          | 0/10 [00:00<?, ?it/s]             INFO:textgrad:StringBasedFunction\n",
            "INFO:textgrad:LLMCall function forward\n",
            "Accuracy: 0.6666666666666666:   0%|          | 0/10 [00:00<?, ?it/s]INFO:textgrad:StringBasedFunction\n",
            "Accuracy: 0.6: 100%|██████████| 10/10 [00:00<00:00, 185.15it/s]\n",
            "Training step 2. Epoch 1: : 2it [00:04,  2.32s/it]INFO:textgrad:LLMCall function forward\n",
            "INFO:textgrad:StringBasedFunction\n",
            "INFO:textgrad:LLMCall function forward\n",
            "INFO:textgrad:StringBasedFunction\n",
            "INFO:textgrad:LLMCall function forward\n",
            "INFO:textgrad:StringBasedFunction\n",
            "INFO:textgrad:Idempotent backward\n",
            "INFO:textgrad:Idempotent backward\n",
            "INFO:textgrad:Idempotent backward\n",
            "INFO:textgrad:_backward_through_string_fn prompt\n",
            "INFO:textgrad:_backward_through_string_fn gradient\n",
            "INFO:textgrad:_backward_through_llm prompt\n",
            "INFO:textgrad:_backward_through_llm gradient\n",
            "INFO:textgrad:_backward_through_string_fn prompt\n",
            "INFO:textgrad:_backward_through_string_fn gradient\n",
            "INFO:textgrad:_backward_through_llm prompt\n",
            "INFO:textgrad:_backward_through_llm gradient\n",
            "INFO:textgrad:_backward_through_string_fn prompt\n",
            "INFO:textgrad:_backward_through_string_fn gradient\n",
            "INFO:textgrad:_backward_through_llm prompt\n",
            "INFO:textgrad:_backward_through_llm gradient\n",
            "INFO:textgrad:TextualGradientDescent prompt for update\n",
            "INFO:textgrad:TextualGradientDescent optimizer response\n",
            "INFO:textgrad:TextualGradientDescent updated text\n",
            "  0%|          | 0/10 [00:00<?, ?it/s]INFO:textgrad:LLMCall function forward\n",
            "INFO:textgrad:StringBasedFunction\n",
            "Accuracy: 0.0:  10%|█         | 1/10 [00:02<00:19,  2.21s/it]INFO:textgrad:LLMCall function forward\n",
            "INFO:textgrad:StringBasedFunction\n",
            "Accuracy: 0.0:  20%|██        | 2/10 [00:02<00:08,  1.02s/it]INFO:textgrad:LLMCall function forward\n",
            "INFO:textgrad:StringBasedFunction\n",
            "Accuracy: 0.0:  30%|███       | 3/10 [00:06<00:17,  2.44s/it]INFO:textgrad:LLMCall function forward\n",
            "INFO:textgrad:StringBasedFunction\n",
            "Accuracy: 0.0:  40%|████      | 4/10 [00:09<00:14,  2.46s/it]INFO:textgrad:LLMCall function forward\n",
            "INFO:textgrad:StringBasedFunction\n",
            "Accuracy: 0.0:  50%|█████     | 5/10 [00:11<00:12,  2.49s/it]INFO:textgrad:LLMCall function forward\n",
            "INFO:textgrad:StringBasedFunction\n",
            "Accuracy: 0.0:  60%|██████    | 6/10 [00:11<00:07,  1.78s/it]INFO:textgrad:LLMCall function forward\n",
            "INFO:textgrad:StringBasedFunction\n",
            "Accuracy: 0.0:  70%|███████   | 7/10 [00:13<00:05,  1.86s/it]INFO:textgrad:LLMCall function forward\n",
            "INFO:textgrad:StringBasedFunction\n",
            "Accuracy: 0.0:  80%|████████  | 8/10 [00:14<00:02,  1.32s/it]INFO:textgrad:LLMCall function forward\n",
            "INFO:textgrad:StringBasedFunction\n",
            "Accuracy: 0.1111111111111111:  90%|█████████ | 9/10 [00:16<00:01,  1.61s/it]INFO:textgrad:LLMCall function forward\n",
            "INFO:textgrad:StringBasedFunction\n",
            "Accuracy: 0.1: 100%|██████████| 10/10 [00:16<00:00,  1.65s/it]\n",
            "INFO:textgrad:LLMCall function forward\n"
          ]
        },
        {
          "output_type": "stream",
          "name": "stdout",
          "text": [
            "val_performance:  0.1\n",
            "previous_performance:  0.6\n",
            "rejected prompt: Generate a detailed summary with up to 3 bullet points that encapsulate the main proposals discussed by Urmas Klaas in the text. Ensure the summary includes references to proposal numbers, key individuals, and specific policy points highlighted in the conversation.\n",
            "sys prompt:  Please provide summary of the following text. summary should consist of up to 3 bullet points. Use only Estonian.\n"
          ]
        },
        {
          "output_type": "stream",
          "name": "stderr",
          "text": [
            "INFO:textgrad:StringBasedFunction\n",
            "  0%|          | 0/10 [00:00<?, ?it/s]INFO:textgrad:LLMCall function forward\n",
            "Accuracy: 1.0:   0%|          | 0/10 [00:00<?, ?it/s]INFO:textgrad:StringBasedFunction\n",
            "Accuracy: 1.0:   0%|          | 0/10 [00:00<?, ?it/s]INFO:textgrad:LLMCall function forward\n",
            "INFO:textgrad:LLMCall function forward\n",
            "INFO:textgrad:StringBasedFunction\n",
            "Accuracy: 0.6666666666666666:   0%|          | 0/10 [00:00<?, ?it/s]INFO:textgrad:StringBasedFunction\n",
            "INFO:textgrad:LLMCall function forward\n",
            "Accuracy: 0.5:   0%|          | 0/10 [00:00<?, ?it/s]               INFO:textgrad:StringBasedFunction\n",
            "INFO:textgrad:LLMCall function forward\n",
            "Accuracy: 0.6:   0%|          | 0/10 [00:00<?, ?it/s]INFO:textgrad:StringBasedFunction\n",
            "INFO:textgrad:LLMCall function forward\n",
            "Accuracy: 0.6666666666666666:   0%|          | 0/10 [00:00<?, ?it/s]INFO:textgrad:StringBasedFunction\n",
            "INFO:textgrad:LLMCall function forward\n",
            "Accuracy: 0.5714285714285714:   0%|          | 0/10 [00:00<?, ?it/s]INFO:textgrad:StringBasedFunction\n",
            "Accuracy: 0.5:   0%|          | 0/10 [00:00<?, ?it/s]               INFO:textgrad:LLMCall function forward\n",
            "INFO:textgrad:StringBasedFunction\n",
            "INFO:textgrad:LLMCall function forward\n",
            "Accuracy: 0.5555555555555556:   0%|          | 0/10 [00:00<?, ?it/s]INFO:textgrad:StringBasedFunction\n",
            "Accuracy: 0.6: 100%|██████████| 10/10 [00:00<00:00, 134.73it/s]\n",
            "Training step 3. Epoch 1: : 3it [00:23,  9.95s/it]INFO:textgrad:LLMCall function forward\n",
            "INFO:textgrad:StringBasedFunction\n",
            "INFO:textgrad:Idempotent backward\n",
            "INFO:textgrad:_backward_through_string_fn prompt\n",
            "INFO:textgrad:_backward_through_string_fn gradient\n",
            "INFO:textgrad:_backward_through_llm prompt\n",
            "INFO:textgrad:_backward_through_llm gradient\n",
            "INFO:textgrad:TextualGradientDescent prompt for update\n",
            "INFO:textgrad:TextualGradientDescent optimizer response\n",
            "INFO:textgrad:TextualGradientDescent updated text\n",
            "INFO:textgrad:LLMCall function forward\n",
            "INFO:textgrad:StringBasedFunction\n",
            "  0%|          | 0/10 [00:00<?, ?it/s]INFO:textgrad:LLMCall function forward\n",
            "Accuracy: 0.0:   0%|          | 0/10 [00:00<?, ?it/s]INFO:textgrad:StringBasedFunction\n",
            "Accuracy: 0.0:   0%|          | 0/10 [00:00<?, ?it/s]INFO:textgrad:LLMCall function forward\n",
            "INFO:textgrad:StringBasedFunction\n",
            "Accuracy: 0.0:   0%|          | 0/10 [00:00<?, ?it/s]INFO:textgrad:LLMCall function forward\n",
            "INFO:textgrad:LLMCall function forward\n",
            "INFO:textgrad:StringBasedFunction\n",
            "Accuracy: 0.0:   0%|          | 0/10 [00:00<?, ?it/s]INFO:textgrad:StringBasedFunction\n",
            "Accuracy: 0.0:   0%|          | 0/10 [00:00<?, ?it/s]INFO:textgrad:LLMCall function forward\n",
            "INFO:textgrad:LLMCall function forward\n",
            "INFO:textgrad:StringBasedFunction\n",
            "Accuracy: 0.0:   0%|          | 0/10 [00:00<?, ?it/s]INFO:textgrad:LLMCall function forward\n",
            "INFO:textgrad:StringBasedFunction\n",
            "Accuracy: 0.0:   0%|          | 0/10 [00:00<?, ?it/s]INFO:textgrad:LLMCall function forward\n",
            "INFO:textgrad:StringBasedFunction\n",
            "Accuracy: 0.0:   0%|          | 0/10 [00:00<?, ?it/s]INFO:textgrad:LLMCall function forward\n",
            "INFO:textgrad:StringBasedFunction\n",
            "INFO:textgrad:StringBasedFunction\n",
            "Accuracy: 0.0: 100%|██████████| 10/10 [00:00<00:00, 173.61it/s]\n",
            "INFO:textgrad:LLMCall function forward\n"
          ]
        },
        {
          "output_type": "stream",
          "name": "stdout",
          "text": [
            "val_performance:  0.0\n",
            "previous_performance:  0.6\n",
            "rejected prompt: Summeerige järgnev tekst. Kokkuvõte peaks koosnema kuni 3 punktist. Kasutage ainult eesti keelt.\n",
            "sys prompt:  Please provide summary of the following text. summary should consist of up to 3 bullet points. Use only Estonian.\n"
          ]
        },
        {
          "output_type": "stream",
          "name": "stderr",
          "text": [
            "INFO:textgrad:StringBasedFunction\n",
            "Accuracy: 1.0:   0%|          | 0/10 [00:00<?, ?it/s]INFO:textgrad:LLMCall function forward\n",
            "INFO:textgrad:StringBasedFunction\n",
            "Accuracy: 1.0:   0%|          | 0/10 [00:00<?, ?it/s]INFO:textgrad:LLMCall function forward\n",
            "INFO:textgrad:StringBasedFunction\n",
            "INFO:textgrad:LLMCall function forward\n",
            "Accuracy: 0.6666666666666666:   0%|          | 0/10 [00:00<?, ?it/s]INFO:textgrad:StringBasedFunction\n",
            "INFO:textgrad:LLMCall function forward\n",
            "Accuracy: 0.75:   0%|          | 0/10 [00:00<?, ?it/s]              INFO:textgrad:StringBasedFunction\n",
            "INFO:textgrad:LLMCall function forward\n",
            "Accuracy: 0.8:   0%|          | 0/10 [00:00<?, ?it/s] INFO:textgrad:StringBasedFunction\n",
            "INFO:textgrad:LLMCall function forward\n",
            "Accuracy: 0.8333333333333334:   0%|          | 0/10 [00:00<?, ?it/s]INFO:textgrad:StringBasedFunction\n",
            "INFO:textgrad:LLMCall function forward\n",
            "Accuracy: 0.7142857142857143:   0%|          | 0/10 [00:00<?, ?it/s]INFO:textgrad:StringBasedFunction\n",
            "Accuracy: 0.625:   0%|          | 0/10 [00:00<?, ?it/s]             INFO:textgrad:LLMCall function forward\n",
            "INFO:textgrad:StringBasedFunction\n",
            "INFO:textgrad:LLMCall function forward\n",
            "Accuracy: 0.5555555555555556:   0%|          | 0/10 [00:00<?, ?it/s]INFO:textgrad:StringBasedFunction\n",
            "Accuracy: 0.6: 100%|██████████| 10/10 [00:00<00:00, 180.90it/s]\n",
            "Training step 3. Epoch 1: : 3it [00:23,  7.96s/it]\n",
            "Training step 0. Epoch 2: : 0it [00:00, ?it/s]INFO:textgrad:LLMCall function forward\n",
            "INFO:textgrad:StringBasedFunction\n",
            "INFO:textgrad:LLMCall function forward\n",
            "INFO:textgrad:StringBasedFunction\n",
            "INFO:textgrad:LLMCall function forward\n",
            "INFO:textgrad:StringBasedFunction\n",
            "INFO:textgrad:Idempotent backward\n",
            "INFO:textgrad:Idempotent backward\n",
            "INFO:textgrad:Idempotent backward\n",
            "INFO:textgrad:_backward_through_string_fn prompt\n",
            "INFO:textgrad:_backward_through_string_fn gradient\n",
            "INFO:textgrad:_backward_through_llm prompt\n",
            "INFO:textgrad:_backward_through_llm gradient\n",
            "INFO:textgrad:_backward_through_string_fn prompt\n",
            "INFO:textgrad:_backward_through_string_fn gradient\n",
            "INFO:textgrad:_backward_through_llm prompt\n",
            "INFO:textgrad:_backward_through_llm gradient\n",
            "INFO:textgrad:_backward_through_string_fn prompt\n",
            "INFO:textgrad:_backward_through_string_fn gradient\n",
            "INFO:textgrad:_backward_through_llm prompt\n",
            "INFO:textgrad:_backward_through_llm gradient\n",
            "INFO:textgrad:TextualGradientDescent prompt for update\n",
            "INFO:textgrad:TextualGradientDescent optimizer response\n",
            "INFO:textgrad:TextualGradientDescent updated text\n",
            "  0%|          | 0/10 [00:00<?, ?it/s]INFO:textgrad:LLMCall function forward\n",
            "INFO:textgrad:StringBasedFunction\n",
            "Accuracy: 1.0:  10%|█         | 1/10 [00:02<00:22,  2.49s/it]INFO:textgrad:LLMCall function forward\n",
            "INFO:textgrad:StringBasedFunction\n",
            "Accuracy: 0.5:  20%|██        | 2/10 [00:06<00:26,  3.34s/it]INFO:textgrad:LLMCall function forward\n",
            "INFO:textgrad:StringBasedFunction\n",
            "Accuracy: 0.6666666666666666:  30%|███       | 3/10 [00:07<00:16,  2.42s/it]INFO:textgrad:LLMCall function forward\n",
            "INFO:textgrad:StringBasedFunction\n",
            "Accuracy: 0.5:  40%|████      | 4/10 [00:10<00:15,  2.59s/it]INFO:textgrad:LLMCall function forward\n",
            "INFO:textgrad:StringBasedFunction\n",
            "Accuracy: 0.4:  50%|█████     | 5/10 [00:12<00:11,  2.24s/it]INFO:textgrad:LLMCall function forward\n",
            "INFO:textgrad:StringBasedFunction\n",
            "Accuracy: 0.5:  60%|██████    | 6/10 [00:15<00:10,  2.73s/it]INFO:textgrad:LLMCall function forward\n",
            "INFO:textgrad:StringBasedFunction\n",
            "Accuracy: 0.5714285714285714:  70%|███████   | 7/10 [00:16<00:05,  1.99s/it]INFO:textgrad:LLMCall function forward\n",
            "INFO:textgrad:StringBasedFunction\n",
            "Accuracy: 0.5:  80%|████████  | 8/10 [00:18<00:03,  1.99s/it]INFO:textgrad:LLMCall function forward\n",
            "INFO:textgrad:StringBasedFunction\n",
            "Accuracy: 0.4444444444444444:  90%|█████████ | 9/10 [00:19<00:01,  1.62s/it]INFO:textgrad:LLMCall function forward\n",
            "INFO:textgrad:StringBasedFunction\n",
            "Accuracy: 0.5: 100%|██████████| 10/10 [00:20<00:00,  2.10s/it]\n",
            "INFO:textgrad:LLMCall function forward\n",
            "INFO:textgrad:StringBasedFunction\n",
            "INFO:textgrad:LLMCall function forward\n"
          ]
        },
        {
          "output_type": "stream",
          "name": "stdout",
          "text": [
            "val_performance:  0.5\n",
            "previous_performance:  0.6\n",
            "rejected prompt: Provide a detailed summary of the text focusing on key points such as coalition agreements, education funding, and legislative proposals. Ensure accuracy, clarity, and relevance in the summary. Use specific context clues like \"coalition agreement\" and \"education minister\" to guide the summary.\n",
            "sys prompt:  Please provide summary of the following text. summary should consist of up to 3 bullet points. Use only Estonian.\n"
          ]
        },
        {
          "output_type": "stream",
          "name": "stderr",
          "text": [
            "  0%|          | 0/10 [00:00<?, ?it/s]INFO:textgrad:LLMCall function forward\n",
            "Accuracy: 1.0:   0%|          | 0/10 [00:00<?, ?it/s]INFO:textgrad:StringBasedFunction\n",
            "Accuracy: 0.5:   0%|          | 0/10 [00:00<?, ?it/s]INFO:textgrad:StringBasedFunction\n",
            "Accuracy: 0.6666666666666666:   0%|          | 0/10 [00:00<?, ?it/s]INFO:textgrad:LLMCall function forward\n",
            "INFO:textgrad:StringBasedFunction\n",
            "INFO:textgrad:LLMCall function forward\n",
            "Accuracy: 0.5:   0%|          | 0/10 [00:00<?, ?it/s]               INFO:textgrad:StringBasedFunction\n",
            "Accuracy: 0.6:   0%|          | 0/10 [00:00<?, ?it/s]INFO:textgrad:LLMCall function forward\n",
            "INFO:textgrad:LLMCall function forward\n",
            "INFO:textgrad:StringBasedFunction\n",
            "INFO:textgrad:StringBasedFunction\n",
            "Accuracy: 0.6666666666666666:   0%|          | 0/10 [00:00<?, ?it/s]INFO:textgrad:LLMCall function forward\n",
            "Accuracy: 0.7142857142857143:   0%|          | 0/10 [00:00<?, ?it/s]INFO:textgrad:StringBasedFunction\n",
            "INFO:textgrad:LLMCall function forward\n",
            "Accuracy: 0.625:   0%|          | 0/10 [00:00<?, ?it/s]             INFO:textgrad:StringBasedFunction\n",
            "Accuracy: 0.6666666666666666:   0%|          | 0/10 [00:00<?, ?it/s]INFO:textgrad:LLMCall function forward\n",
            "INFO:textgrad:StringBasedFunction\n",
            "Accuracy: 0.6: 100%|██████████| 10/10 [00:00<00:00, 139.32it/s]\n",
            "Training step 1. Epoch 2: : 1it [00:23, 23.16s/it]INFO:textgrad:LLMCall function forward\n",
            "INFO:textgrad:StringBasedFunction\n",
            "INFO:textgrad:LLMCall function forward\n",
            "INFO:textgrad:StringBasedFunction\n",
            "INFO:textgrad:LLMCall function forward\n",
            "INFO:textgrad:StringBasedFunction\n",
            "INFO:textgrad:Idempotent backward\n",
            "INFO:textgrad:Idempotent backward\n",
            "INFO:textgrad:Idempotent backward\n",
            "INFO:textgrad:_backward_through_string_fn prompt\n",
            "INFO:textgrad:_backward_through_string_fn gradient\n",
            "INFO:textgrad:_backward_through_llm prompt\n",
            "INFO:textgrad:_backward_through_llm gradient\n",
            "INFO:textgrad:_backward_through_string_fn prompt\n",
            "INFO:textgrad:_backward_through_string_fn gradient\n",
            "INFO:textgrad:_backward_through_llm prompt\n",
            "INFO:textgrad:_backward_through_llm gradient\n",
            "INFO:textgrad:_backward_through_string_fn prompt\n",
            "INFO:textgrad:_backward_through_string_fn gradient\n",
            "INFO:textgrad:_backward_through_llm prompt\n",
            "INFO:textgrad:_backward_through_llm gradient\n",
            "INFO:textgrad:TextualGradientDescent prompt for update\n",
            "INFO:textgrad:TextualGradientDescent optimizer response\n",
            "INFO:textgrad:TextualGradientDescent updated text\n",
            "  0%|          | 0/10 [00:00<?, ?it/s]INFO:textgrad:LLMCall function forward\n",
            "INFO:textgrad:StringBasedFunction\n",
            "Accuracy: 1.0:  10%|█         | 1/10 [00:03<00:33,  3.71s/it]INFO:textgrad:LLMCall function forward\n",
            "INFO:textgrad:StringBasedFunction\n",
            "Accuracy: 0.5:  20%|██        | 2/10 [00:05<00:21,  2.66s/it]INFO:textgrad:LLMCall function forward\n",
            "INFO:textgrad:StringBasedFunction\n",
            "Accuracy: 0.6666666666666666:  30%|███       | 3/10 [00:10<00:24,  3.53s/it]INFO:textgrad:LLMCall function forward\n",
            "INFO:textgrad:StringBasedFunction\n",
            "Accuracy: 0.5:  40%|████      | 4/10 [00:10<00:13,  2.30s/it]INFO:textgrad:LLMCall function forward\n",
            "INFO:textgrad:StringBasedFunction\n",
            "Accuracy: 0.6:  50%|█████     | 5/10 [00:14<00:15,  3.05s/it]INFO:textgrad:LLMCall function forward\n",
            "INFO:textgrad:StringBasedFunction\n",
            "Accuracy: 0.5:  60%|██████    | 6/10 [00:17<00:12,  3.01s/it]INFO:textgrad:LLMCall function forward\n",
            "INFO:textgrad:StringBasedFunction\n",
            "Accuracy: 0.5714285714285714:  70%|███████   | 7/10 [00:22<00:10,  3.56s/it]INFO:textgrad:LLMCall function forward\n",
            "INFO:textgrad:StringBasedFunction\n",
            "Accuracy: 0.5:  80%|████████  | 8/10 [00:23<00:05,  2.81s/it]INFO:textgrad:LLMCall function forward\n",
            "INFO:textgrad:StringBasedFunction\n",
            "Accuracy: 0.5555555555555556:  90%|█████████ | 9/10 [00:29<00:03,  3.68s/it]INFO:textgrad:LLMCall function forward\n",
            "INFO:textgrad:StringBasedFunction\n",
            "Accuracy: 0.5: 100%|██████████| 10/10 [00:30<00:00,  3.03s/it]\n",
            "INFO:textgrad:LLMCall function forward\n"
          ]
        },
        {
          "output_type": "stream",
          "name": "stdout",
          "text": [
            "val_performance:  0.5\n",
            "previous_performance:  0.6\n",
            "rejected prompt: Provide a detailed summary of the text focusing on key topics discussed by the commission. Ensure accuracy, coherence, and logical flow in the summary. Use specific keywords related to academic policies and regulations. Include up to 3 bullet points in Estonian.\n",
            "sys prompt:  Please provide summary of the following text. summary should consist of up to 3 bullet points. Use only Estonian.\n"
          ]
        },
        {
          "output_type": "stream",
          "name": "stderr",
          "text": [
            "INFO:textgrad:StringBasedFunction\n",
            "  0%|          | 0/10 [00:00<?, ?it/s]INFO:textgrad:LLMCall function forward\n",
            "Accuracy: 1.0:   0%|          | 0/10 [00:00<?, ?it/s]INFO:textgrad:StringBasedFunction\n",
            "Accuracy: 1.0:   0%|          | 0/10 [00:00<?, ?it/s]INFO:textgrad:LLMCall function forward\n",
            "INFO:textgrad:StringBasedFunction\n",
            "INFO:textgrad:LLMCall function forward\n",
            "Accuracy: 0.6666666666666666:   0%|          | 0/10 [00:00<?, ?it/s]INFO:textgrad:StringBasedFunction\n",
            "INFO:textgrad:LLMCall function forward\n",
            "Accuracy: 0.75:   0%|          | 0/10 [00:00<?, ?it/s]              INFO:textgrad:StringBasedFunction\n",
            "INFO:textgrad:LLMCall function forward\n",
            "Accuracy: 0.8:   0%|          | 0/10 [00:00<?, ?it/s] INFO:textgrad:StringBasedFunction\n",
            "INFO:textgrad:LLMCall function forward\n",
            "Accuracy: 0.8333333333333334:   0%|          | 0/10 [00:00<?, ?it/s]INFO:textgrad:StringBasedFunction\n",
            "Accuracy: 0.7142857142857143:   0%|          | 0/10 [00:00<?, ?it/s]INFO:textgrad:LLMCall function forward\n",
            "INFO:textgrad:StringBasedFunction\n",
            "INFO:textgrad:LLMCall function forward\n",
            "Accuracy: 0.625:   0%|          | 0/10 [00:00<?, ?it/s]             INFO:textgrad:StringBasedFunction\n",
            "INFO:textgrad:LLMCall function forward\n",
            "Accuracy: 0.6666666666666666:   0%|          | 0/10 [00:00<?, ?it/s]INFO:textgrad:StringBasedFunction\n",
            "Accuracy: 0.6: 100%|██████████| 10/10 [00:00<00:00, 191.82it/s]\n",
            "Training step 2. Epoch 2: : 2it [00:55, 28.58s/it]INFO:textgrad:LLMCall function forward\n",
            "INFO:textgrad:StringBasedFunction\n",
            "INFO:textgrad:LLMCall function forward\n",
            "INFO:textgrad:StringBasedFunction\n",
            "INFO:textgrad:LLMCall function forward\n",
            "INFO:textgrad:StringBasedFunction\n",
            "INFO:textgrad:Idempotent backward\n",
            "INFO:textgrad:Idempotent backward\n",
            "INFO:textgrad:Idempotent backward\n",
            "INFO:textgrad:_backward_through_string_fn prompt\n",
            "INFO:textgrad:_backward_through_string_fn gradient\n",
            "INFO:textgrad:_backward_through_llm prompt\n",
            "INFO:textgrad:_backward_through_llm gradient\n",
            "INFO:textgrad:_backward_through_string_fn prompt\n",
            "INFO:textgrad:_backward_through_string_fn gradient\n",
            "INFO:textgrad:_backward_through_llm prompt\n",
            "INFO:textgrad:_backward_through_llm gradient\n",
            "INFO:textgrad:_backward_through_string_fn prompt\n",
            "INFO:textgrad:_backward_through_string_fn gradient\n",
            "INFO:textgrad:_backward_through_llm prompt\n",
            "INFO:textgrad:_backward_through_llm gradient\n",
            "INFO:textgrad:TextualGradientDescent prompt for update\n",
            "INFO:textgrad:TextualGradientDescent optimizer response\n",
            "INFO:textgrad:TextualGradientDescent updated text\n",
            "INFO:textgrad:LLMCall function forward\n",
            "INFO:textgrad:StringBasedFunction\n",
            "Accuracy: 0.0:   0%|          | 0/10 [00:00<?, ?it/s]INFO:textgrad:LLMCall function forward\n",
            "INFO:textgrad:LLMCall function forward\n",
            "INFO:textgrad:StringBasedFunction\n",
            "Accuracy: 0.0:   0%|          | 0/10 [00:00<?, ?it/s]INFO:textgrad:StringBasedFunction\n",
            "Accuracy: 0.0:   0%|          | 0/10 [00:00<?, ?it/s]INFO:textgrad:LLMCall function forward\n",
            "INFO:textgrad:LLMCall function forward\n",
            "INFO:textgrad:StringBasedFunction\n",
            "INFO:textgrad:StringBasedFunction\n",
            "Accuracy: 0.0:   0%|          | 0/10 [00:00<?, ?it/s]INFO:textgrad:LLMCall function forward\n",
            "Accuracy: 0.0:   0%|          | 0/10 [00:00<?, ?it/s]INFO:textgrad:StringBasedFunction\n",
            "INFO:textgrad:LLMCall function forward\n",
            "Accuracy: 0.0:   0%|          | 0/10 [00:00<?, ?it/s]INFO:textgrad:LLMCall function forward\n",
            "INFO:textgrad:StringBasedFunction\n",
            "INFO:textgrad:LLMCall function forward\n",
            "Accuracy: 0.0:   0%|          | 0/10 [00:00<?, ?it/s]INFO:textgrad:StringBasedFunction\n",
            "INFO:textgrad:StringBasedFunction\n",
            "Accuracy: 0.0:   0%|          | 0/10 [00:00<?, ?it/s]INFO:textgrad:LLMCall function forward\n",
            "Accuracy: 0.0:   0%|          | 0/10 [00:00<?, ?it/s]INFO:textgrad:StringBasedFunction\n",
            "Accuracy: 0.0: 100%|██████████| 10/10 [00:00<00:00, 154.11it/s]\n",
            "INFO:textgrad:LLMCall function forward\n"
          ]
        },
        {
          "output_type": "stream",
          "name": "stdout",
          "text": [
            "val_performance:  0.0\n",
            "previous_performance:  0.6\n",
            "rejected prompt: Summeerige järgnev tekst. Kokkuvõte peaks koosnema kuni 3 punktist. Kasutage ainult eesti keelt.\n",
            "sys prompt:  Please provide summary of the following text. summary should consist of up to 3 bullet points. Use only Estonian.\n"
          ]
        },
        {
          "output_type": "stream",
          "name": "stderr",
          "text": [
            "INFO:textgrad:LLMCall function forward\n",
            "  0%|          | 0/10 [00:00<?, ?it/s]INFO:textgrad:StringBasedFunction\n",
            "Accuracy: 1.0:   0%|          | 0/10 [00:00<?, ?it/s]INFO:textgrad:LLMCall function forward\n",
            "INFO:textgrad:StringBasedFunction\n",
            "Accuracy: 1.0:   0%|          | 0/10 [00:00<?, ?it/s]INFO:textgrad:LLMCall function forward\n",
            "INFO:textgrad:StringBasedFunction\n",
            "Accuracy: 0.6666666666666666:   0%|          | 0/10 [00:00<?, ?it/s]INFO:textgrad:StringBasedFunction\n",
            "Accuracy: 0.5:   0%|          | 0/10 [00:00<?, ?it/s]               INFO:textgrad:LLMCall function forward\n",
            "INFO:textgrad:StringBasedFunction\n",
            "Accuracy: 0.6:   0%|          | 0/10 [00:00<?, ?it/s]INFO:textgrad:LLMCall function forward\n",
            "INFO:textgrad:LLMCall function forward\n",
            "INFO:textgrad:StringBasedFunction\n",
            "Accuracy: 0.6666666666666666:   0%|          | 0/10 [00:00<?, ?it/s]INFO:textgrad:StringBasedFunction\n",
            "Accuracy: 0.7142857142857143:   0%|          | 0/10 [00:00<?, ?it/s]INFO:textgrad:LLMCall function forward\n",
            "INFO:textgrad:StringBasedFunction\n",
            "Accuracy: 0.625:   0%|          | 0/10 [00:00<?, ?it/s]             INFO:textgrad:LLMCall function forward\n",
            "INFO:textgrad:LLMCall function forward\n",
            "INFO:textgrad:StringBasedFunction\n",
            "INFO:textgrad:StringBasedFunction\n",
            "Accuracy: 0.6: 100%|██████████| 10/10 [00:00<00:00, 150.38it/s]\n",
            "Training step 3. Epoch 2: : 3it [00:57, 16.64s/it]INFO:textgrad:LLMCall function forward\n",
            "INFO:textgrad:StringBasedFunction\n",
            "INFO:textgrad:Idempotent backward\n",
            "INFO:textgrad:_backward_through_string_fn prompt\n",
            "INFO:textgrad:_backward_through_string_fn gradient\n",
            "INFO:textgrad:_backward_through_llm prompt\n",
            "INFO:textgrad:_backward_through_llm gradient\n",
            "INFO:textgrad:TextualGradientDescent prompt for update\n",
            "INFO:textgrad:TextualGradientDescent optimizer response\n",
            "INFO:textgrad:TextualGradientDescent updated text\n",
            "INFO:textgrad:LLMCall function forward\n",
            "INFO:textgrad:StringBasedFunction\n",
            "  0%|          | 0/10 [00:00<?, ?it/s]INFO:textgrad:LLMCall function forward\n",
            "Accuracy: 0.0:   0%|          | 0/10 [00:00<?, ?it/s]INFO:textgrad:StringBasedFunction\n",
            "INFO:textgrad:LLMCall function forward\n",
            "Accuracy: 0.0:   0%|          | 0/10 [00:00<?, ?it/s]INFO:textgrad:StringBasedFunction\n",
            "INFO:textgrad:LLMCall function forward\n",
            "Accuracy: 0.0:   0%|          | 0/10 [00:00<?, ?it/s]INFO:textgrad:StringBasedFunction\n",
            "INFO:textgrad:LLMCall function forward\n",
            "Accuracy: 0.0:   0%|          | 0/10 [00:00<?, ?it/s]INFO:textgrad:StringBasedFunction\n",
            "INFO:textgrad:LLMCall function forward\n",
            "Accuracy: 0.0:   0%|          | 0/10 [00:00<?, ?it/s]INFO:textgrad:StringBasedFunction\n",
            "INFO:textgrad:LLMCall function forward\n",
            "Accuracy: 0.0:   0%|          | 0/10 [00:00<?, ?it/s]INFO:textgrad:StringBasedFunction\n",
            "INFO:textgrad:LLMCall function forward\n",
            "Accuracy: 0.0:   0%|          | 0/10 [00:00<?, ?it/s]INFO:textgrad:LLMCall function forward\n",
            "INFO:textgrad:StringBasedFunction\n",
            "Accuracy: 0.0:   0%|          | 0/10 [00:00<?, ?it/s]INFO:textgrad:StringBasedFunction\n",
            "Accuracy: 0.0:   0%|          | 0/10 [00:00<?, ?it/s]INFO:textgrad:LLMCall function forward\n",
            "INFO:textgrad:StringBasedFunction\n",
            "Accuracy: 0.0: 100%|██████████| 10/10 [00:00<00:00, 105.52it/s]\n",
            "INFO:textgrad:LLMCall function forward\n"
          ]
        },
        {
          "output_type": "stream",
          "name": "stdout",
          "text": [
            "val_performance:  0.0\n",
            "previous_performance:  0.6\n",
            "rejected prompt: Palun genereeri kokkuvõte järgnevast tekstist, mis on haridus- ja teadusministri Jaak Aaviksoo kõne Riigikogus kõrgharidusreformi teemal. Kokkuvõte peaks sisaldama kuni 3 punkti. Veendu, et kokkuvõte kajastab olulisi aspekte nagu reformi eesmärk, ministri peamised argumendid ning tasuta kõrghariduse olulisus väikerahva jaoks. Kasuta grammatiliselt korrektset eesti keelt.\n",
            "sys prompt:  Please provide summary of the following text. summary should consist of up to 3 bullet points. Use only Estonian.\n"
          ]
        },
        {
          "output_type": "stream",
          "name": "stderr",
          "text": [
            "INFO:textgrad:LLMCall function forward\n",
            "  0%|          | 0/10 [00:00<?, ?it/s]INFO:textgrad:StringBasedFunction\n",
            "Accuracy: 0.0:   0%|          | 0/10 [00:00<?, ?it/s]INFO:textgrad:LLMCall function forward\n",
            "INFO:textgrad:StringBasedFunction\n",
            "INFO:textgrad:LLMCall function forward\n",
            "Accuracy: 0.5:   0%|          | 0/10 [00:00<?, ?it/s]INFO:textgrad:StringBasedFunction\n",
            "INFO:textgrad:LLMCall function forward\n",
            "Accuracy: 0.3333333333333333:   0%|          | 0/10 [00:00<?, ?it/s]INFO:textgrad:StringBasedFunction\n",
            "INFO:textgrad:LLMCall function forward\n",
            "Accuracy: 0.5:   0%|          | 0/10 [00:00<?, ?it/s]               INFO:textgrad:StringBasedFunction\n",
            "INFO:textgrad:LLMCall function forward\n",
            "Accuracy: 0.6:   0%|          | 0/10 [00:00<?, ?it/s]INFO:textgrad:StringBasedFunction\n",
            "INFO:textgrad:LLMCall function forward\n",
            "Accuracy: 0.6666666666666666:   0%|          | 0/10 [00:00<?, ?it/s]INFO:textgrad:StringBasedFunction\n",
            "INFO:textgrad:LLMCall function forward\n",
            "Accuracy: 0.5714285714285714:   0%|          | 0/10 [00:00<?, ?it/s]INFO:textgrad:StringBasedFunction\n",
            "Accuracy: 0.5:   0%|          | 0/10 [00:00<?, ?it/s]               INFO:textgrad:StringBasedFunction\n",
            "INFO:textgrad:LLMCall function forward\n",
            "Accuracy: 0.5555555555555556:   0%|          | 0/10 [00:00<?, ?it/s]INFO:textgrad:StringBasedFunction\n",
            "Accuracy: 0.6: 100%|██████████| 10/10 [00:00<00:00, 206.44it/s]\n",
            "Training step 3. Epoch 2: : 3it [00:58, 19.41s/it]\n"
          ]
        }
      ],
      "source": [
        "for epoch in range(3):\n",
        "    for steps, (batch_x, batch_y) in enumerate((pbar := tqdm(train_loader, position=0))):\n",
        "        pbar.set_description(f\"Training step {steps}. Epoch {epoch}\")\n",
        "        optimizer.zero_grad()\n",
        "        losses = []\n",
        "        for (x, y) in zip(batch_x, batch_y):\n",
        "            x = tg.Variable(x, requires_grad=False, role_description=\"query to the language model\")\n",
        "            y = tg.Variable(y, requires_grad=False, role_description=\"correct answer for the query\")\n",
        "            response = model(x)\n",
        "            try:\n",
        "                eval_output_variable = eval_fn(inputs=dict(prediction=response, ground_truth_answer=y))\n",
        "            except:\n",
        "                eval_output_variable = eval_fn([x, y, response])\n",
        "            losses.append(eval_output_variable)\n",
        "        total_loss = tg.sum(losses)\n",
        "        total_loss.backward()\n",
        "        optimizer.step()\n",
        "\n",
        "        run_validation_revert(system_prompt, results, model, eval_fn, val_set)\n",
        "\n",
        "        print(\"sys prompt: \", system_prompt)\n",
        "        test_acc = eval_dataset(test_set, eval_fn, model)\n",
        "        results[\"test_acc\"].append(test_acc)\n",
        "        results[\"prompt\"].append(system_prompt.get_value())\n",
        "        if steps == 3:\n",
        "            break"
      ]
    },
    {
      "cell_type": "code",
      "execution_count": 43,
      "id": "7dab7a53-e682-478e-9417-15009b495979",
      "metadata": {
        "id": "7dab7a53-e682-478e-9417-15009b495979",
        "colab": {
          "base_uri": "https://localhost:8080/"
        },
        "outputId": "9d1671db-b69b-4145-8f94-6379f4ef9e53"
      },
      "outputs": [
        {
          "output_type": "execute_result",
          "data": {
            "text/plain": [
              "Variable(value=Please provide summary of the following text. summary should consist of up to 3 bullet points. Use only Estonian., role=structured system prompt to a somewhat capable language model that specifies the behavior and strategies for the QA task, grads=Here is a conversation:\n",
              "\n",
              "<CONVERSATION><LM_SYSTEM_PROMPT> Please provide summary of the following text. summary should consist of up to 3 bullet points. Use only Estonian. </LM_SYSTEM_PROMPT>\n",
              "\n",
              "<LM_INPUT>  \n",
              " Haridus- ja teadusminister Jaak Aaviksoo: Hea eesistuja! Lugupeetud rahvasaadikud! Alustan sellest, et tänan Riigikogu ja kultuurikomisjoni mulle antud võimaluse eest esineda ka teisel lugemisel. See ei ole tavapärane, aga ma arvan, et see on oluline. Üks hea kolleeg eelnevas arutelus ütles, et kavandamisel on suurim muudatus kõrghariduskorralduses viimase 60 aasta jooksul. Tundub, et see oli veidi ülepingutatud hinnang, aga muudatus see tõesti on. Ma olen veendunud ja loodetavasti olete ka teie veendunud, et see muudatus on vajalik ja mõistlik. Eelnõu 89 on loodud suurendama õiglust, kasvatades kõrgharidusele tasuta ligipääsu, parandama hariduse kvaliteeti ja suurendama kõrgharidussüsteemi toimimise efektiivsust tulemustele orienteeritud rahastamise abil. Üks väike meenutus. Meil on praegu 70 000 tudengit, kes aastas suudavad saada 10 000 kõrgharidust tõendavat diplomit. Õppekavad on nelja-, kolme- ja kaheaastased. Siit järeldub, et diplomini jõudmiseks võiks kuluda keskmiselt kolm aastat, aga kulub seitse aastat. Kui see ei ole probleem, siis kus üldse on probleemid? Ma usun, et kitsaskohad, mis kõrghariduses on, vajavad kõrvaldamist. Seda, et need kitsaskohad on olemas ja vajavad kõrvaldamist, on mõistetud nii siin saalis kui ka avalikkuses. Usun, et on olemas põhjendatud ootus. Eelnõu pakub lahenduse. Meilt on küsitud, miks just tasuta kõrgharidus, kui enamik maailmast liigub tasulise ja õppemaksulise kõrghariduse suunas. Üha enam on see nii ka nendes riikides, kus pikka aega pärast Teist maailmasõda on kõrgharidus olnud tasuta. Miks siis nii, miks me ujume vastuvoolu? Miks me ei kehtesta tasulist kõrgharidust, nagu ka avalikkuses on palju nõutud? Sellepärast, et meie ajalooline kogemus on meile tõestanud hariduse olulisust väikerahva kestmises ja arengus: me oleme liikunud Rootsi-aegsetest rahvakoolidest talude päriseksostmiseni, sealt üleüldise kirjaoskuse ja oma riigini ning eestikeelse ülikooli kaudu tänapäevaste kultuurrahvaste hulka. Väikerahvale on see oluline. Sellepärast on IRL püstitanud tasuta kõrghariduse loosungi ja mul on hea meel, et koalitsioonipartnerid on meid selles pürgimuses toetanud. Loodan, et ka sotsiaaldemokraadid ja Keskerakond mõistavad selle olulisust. Me teame, et see ei ole kommunistlikus mõttes tasuta ehk kõigile tasuta, ükskõik mis mahus tasuta ja ükskõik kui kaua tasuta. Need, kelle ideaal on kommunistlik paradiis, peaksid mõtlema sellele, et kommunistlik tegelikkus on pigem vaesus ja vangilaager kui üldine heaolu. See ei saa olla ka sotsialistliku heaoluriigi ideaal, kus õigused pole tasakaalus kohustustega ning kogu vastutus veeretatakse riigile ja maksumaksjale. See on vaba kodaniku eneseteostust toetav lähenemine, kus iga võimekas ja motiveeritud noor saab õiguse tasuta õppeks, kandes ühtlasi kohustust õpingutele pühenduda ja haridus õigel ajal omandada. Täistööajaga osaajalised õppurid maksaksid aga jõukohast õppemaksu ning kursusekordajad korvaksid ülikoolile tekkivad lisakulud. Niisugune on see põhimõte. Meid on kritiseeritud. Ülikoolid on leidnud, et õppemaksu eest üle madaldatud nõudmistelati ülikooli pääsenute käest saadud raha vähenemine ähvardab ülikoolide toimetulekut. Jah, aga kvaliteet paraneb ja pealegi on riik kavatsenud vähenevad tulud kompenseerida.  Ülikoolide riigieelarveline rahastamine kasvab plaanide järgi kõigil eelseisvatel reformiaastatel. Kui palju on avalikus sektoris valdkondi, kus me võime kindlad olla, et eelseisval kolmel aastal riiklik rahastamine kasvab?  Väga vähe, kui neid üldse on. Üliõpilased sooviksid, et neile rohkem vastu tuldaks ning nende õigusi ja vabadusi suurendataks. Olukorras, kus enamik üliõpilaste soove on leidnud tee eelnõusse, soovivad nad minu paremat arusaama pidi kõigi oma ettepanekute täielist arvestamist.  Kuid on ka teisi huve. Olen seisukohal, et õigused peavad alati olema tasakaalus kohustustega, ja olen veendunud, et õppimine on tõsine ettevõtmine. Täiskasvanuil ei tohiks olla raskusi mõistmaks, et täisajaline ehk 40-tunnine töönädal tähendabki 40 tundi tööd ja 30 tunni eest ei ole kuidagi võimalik täit palka saada. Akadeemilise puhkuse ajal puuduvad üliõpilastel kohustused ja siis on tasakaalustamata nõuda ka kõiki õigusi.  Tõesti, erandid on mõistlikud ja vastuvõetavad ning lapsepuhkus  ja kaitseväeteenistus on eelnõusse ilusasti sisse kirjutatud, nii nagu ka erandid puuetega inimestele. Ühes oleme kriitikutega ühte meelt: täisajalise õppimise kohustus peab käima käsikäes vajaduspõhiste õppetoetustega. Siin on üks kontekst, aga arvata, et need kaks seadust peaksid olema lahutamatud nagu sukk ja saabas, ei ole ju põhjust. Meil on kaks seadust. Kõikidel varasematel kordadel on nad eraldi vastu võetud. Mis siis nüüd järsku lahti on, et peab kohe ühe korraga, ühe pauguga ära otsustama? Ei saa aru. Täna on kõrgharidusseaduse eelnõu Riigikogu laudadel, õppetoetuste seaduse eelnõu aga valitsuses kooskõlastusringil. Kinnitan teile, head sõbrad, et mõlemad seadused on kavas jõustada ühel ajal. Nii arvan mina, nii arvab valitsus, nii arvab valitsuskoalitsioon. Ma ei ole kohanud siin Riigikogus ühtegi fraktsiooni, kes arvaks teisiti. Kust see mure? Head sõbrad! Riigikogu on eelnõu 89 arutanud alates septembri keskpaigast ehk neli kuud. Kultuurikomisjon on teinud palju ja head tööd ning saavutatud kompromissid on eelnõu kindlasti paremaks teinud. Mõne asjaga olen ma nõus, mõnega ei ole, aga see ongi demokraatia. Vastu on tuldud kõigi huvigruppide soovidele, ent arusaadavalt ei saanud komisjon kõiki vastandlikke nõudmisi arvestada. Tahan tänada kõiki fraktsioone arutelude eest, kus mul oli võimalik osaleda! Need arutelud olid eranditult konstruktiivsed. Seda üllatavam oli lugeda kolleeg Jaak Alliku arvamusartiklit tänases Postimehes. Isegi teades kolleeg Alliku kogemust teeneka propagandisti ja agitaatorina erinevate parteide ridades, on mul raske mõista, kuidas saab kavandatud reform, mis suurendab kõrghariduse rahastamist üle 25% ja enam kui kahekordistab tudengitele mõeldud sotsiaaltoetusi, olla reform vaid rikastele. See on ehe propaganda hirmude ja klassivaenu õhutamise teel, nii nagu seda praktiseeris seltsimees Lenin. Ma ei jaga nostalgiat nõukogude kõrghariduse järele, mida õhkus nimetatud artiklist. Meie lähenemine on teine. (Naer. Aplaus.) Meile on oluline õiglus ja sellepärast seisame vajaduspõhiste õppetoetuste ja tasuta õppe eest. Meile on oluline kvaliteet ja sellepärast seisame tulemuspõhise rahastamise eest. Meile on oluline efektiivsus ja sellepärast toetame tulemuslepinguid, loobudes riikliku koolitustellimuse ideoloogiast, mis on tekitanud ülikoolidele suuri võlgnevusi. Head kolleegid! Üliõpilased! Kahjuks ei saanud ma kogu aja osaleda teie miitingul, küll aga vaatasin just äsja internetist punaloosungeid, kuhu oli kirjutatud: \"Aaviksoo! Kui palju sina oma hariduse eest maksid?\" Mul on see hästi meeles. Mina õppisin viis aastat täisajaliselt, õiendasin eksamid ja arvestused õigel ajal ja ettenähtud korras ning õppemaksu ei maksnud. Seda soovin ka teile. Elamis- ja toimetulekukulude katmiseks töötasin nädalavahetustel ja öösiti raudteejaamas laadimistöödel, suvel aga malevas ja nii sain õpingute ajal üsna hästi hakkama. Head kolleegid! Palun teid toetada eelnõu kultuurikomisjoni esitatud kujul ja otsustada teine lugemine lõpetada! \n",
              "  \n",
              " Aseesimees Jüri Ratas: Austatud ettekandja, hea minister! Teile on küsimusi. Jaak Allik, palun! \n",
              "  \n",
              " Jaak Allik: Lugupeetud härra minister, tänan kõigepealt heade sõnade ja tunnustuse eest! Aga minu esimene küsimus teile on selline. Teatavasti on valitsusliidu programmis ehk koalitsioonileppes ette nähtud vajaduspõhiste õppetoetuste süsteemi käivitamine alates 2015. aastast. Ma tahan teada, kas teie koalitsioonipartner on teile andnud garantii, et seda koalitsioonileppe sätet muudetakse. \n",
              "  \n",
              " Aseesimees Jüri Ratas: Heljo Pikhof, palun! </LM_INPUT>\n",
              "\n",
              "<LM_OUTPUT> - Haridus- ja teadusminister Jaak Aaviksoo esines Riigikogus kõrgharidusreformi teemalise ettekandega\n",
              "- Eelnõu 89 eesmärk on suurendada õiglust, parandada hariduse kvaliteeti ja suurendada kõrgharidussüsteemi efektiivsust\n",
              "- Aaviksoo rõhutas tasuta kõrghariduse olulisust väikerahva kestmises ja arengus, samuti õiguste ja kohustuste tasakaalu tähtsust õppimisel </LM_OUTPUT>\n",
              "\n",
              "</CONVERSATION>\n",
              "\n",
              "This conversation is potentially part of a larger system. The output is used as response from the language model\n",
              "\n",
              "Here is the feedback we got for structured system prompt to a somewhat capable language model that specifies the behavior and strategies for the QA task in the conversation:\n",
              "\n",
              "<FEEDBACK>The structured system prompt for the language model could be improved in the following ways to address the feedback provided in the <OBJECTIVE_FUNCTION>:\n",
              "\n",
              "1. **Context Awareness**: Include specific context cues in the prompt to guide the language model towards generating a summary that captures the key details of the conversation. For example, mention that the text is a speech delivered by a minister in the Riigikogu regarding a kõrgharidusreform (higher education reform).\n",
              "\n",
              "2. **Fact-Checking**: Encourage the language model to verify the accuracy of the summary by incorporating fact-checking instructions in the prompt. This can involve prompting the model to cross-reference the summary with the original text to ensure factual correctness.\n",
              "\n",
              "3. **Completeness**: Specify in the prompt that the generated summary should cover essential aspects of the speech, such as the purpose of the reform, key arguments presented by the minister, and the importance of free higher education. This will guide the model to provide a more comprehensive summary.\n",
              "\n",
              "4. **Relevance**: Emphasize in the prompt the importance of relevance by instructing the model to focus on the main points discussed in the text while excluding extraneous details. This will help the model generate a concise and on-topic summary.\n",
              "\n",
              "5. **Language Proficiency**: Encourage the language model to maintain a high level of language proficiency by specifying that the summary should be written in grammatically correct Estonian and exhibit coherence. Providing language examples or specific linguistic requirements can help improve the quality of the generated summary.\n",
              "\n",
              "By incorporating these improvements into the structured system prompt, the language model can be guided to produce a more accurate, detailed, and contextually relevant summary of the given text, aligning better with the ground truth answer and enhancing overall performance.</FEEDBACK>\n",
              "\n",
              ")"
            ]
          },
          "metadata": {},
          "execution_count": 43
        }
      ],
      "source": [
        "model.system_prompt"
      ]
    },
    {
      "cell_type": "code",
      "source": [
        "model.system_prompt.get_gradient_text()"
      ],
      "metadata": {
        "colab": {
          "base_uri": "https://localhost:8080/",
          "height": 122
        },
        "id": "tTLvdXwTLx-U",
        "outputId": "55d40ff3-e2b7-4181-e8dd-30b2f7a33f0d"
      },
      "id": "tTLvdXwTLx-U",
      "execution_count": 53,
      "outputs": [
        {
          "output_type": "execute_result",
          "data": {
            "text/plain": [
              "'The structured system prompt for the language model could be improved in the following ways to address the feedback provided in the <OBJECTIVE_FUNCTION>:\\n\\n1. **Context Awareness**: Include specific context cues in the prompt to guide the language model towards generating a summary that captures the key details of the conversation. For example, mention that the text is a speech delivered by a minister in the Riigikogu regarding a kõrgharidusreform (higher education reform).\\n\\n2. **Fact-Checking**: Encourage the language model to verify the accuracy of the summary by incorporating fact-checking instructions in the prompt. This can involve prompting the model to cross-reference the summary with the original text to ensure factual correctness.\\n\\n3. **Completeness**: Specify in the prompt that the generated summary should cover essential aspects of the speech, such as the purpose of the reform, key arguments presented by the minister, and the importance of free higher education. This will guide the model to provide a more comprehensive summary.\\n\\n4. **Relevance**: Emphasize in the prompt the importance of relevance by instructing the model to focus on the main points discussed in the text while excluding extraneous details. This will help the model generate a concise and on-topic summary.\\n\\n5. **Language Proficiency**: Encourage the language model to maintain a high level of language proficiency by specifying that the summary should be written in grammatically correct Estonian and exhibit coherence. Providing language examples or specific linguistic requirements can help improve the quality of the generated summary.\\n\\nBy incorporating these improvements into the structured system prompt, the language model can be guided to produce a more accurate, detailed, and contextually relevant summary of the given text, aligning better with the ground truth answer and enhancing overall performance.'"
            ],
            "application/vnd.google.colaboratory.intrinsic+json": {
              "type": "string"
            }
          },
          "metadata": {},
          "execution_count": 53
        }
      ]
    },
    {
      "cell_type": "code",
      "source": [
        "tg.BlackboxLLM"
      ],
      "metadata": {
        "colab": {
          "base_uri": "https://localhost:8080/",
          "height": 139
        },
        "id": "JMir8iI1b_A5",
        "outputId": "313c2a4d-8af1-4b46-da00-9678d22c6dff"
      },
      "id": "JMir8iI1b_A5",
      "execution_count": 49,
      "outputs": [
        {
          "output_type": "execute_result",
          "data": {
            "text/plain": [
              "textgrad.model.BlackboxLLM"
            ],
            "text/html": [
              "<div style=\"max-width:800px; border: 1px solid var(--colab-border-color);\"><style>\n",
              "      pre.function-repr-contents {\n",
              "        overflow-x: auto;\n",
              "        padding: 8px 12px;\n",
              "        max-height: 500px;\n",
              "      }\n",
              "\n",
              "      pre.function-repr-contents.function-repr-contents-collapsed {\n",
              "        cursor: pointer;\n",
              "        max-height: 100px;\n",
              "      }\n",
              "    </style>\n",
              "    <pre style=\"white-space: initial; background:\n",
              "         var(--colab-secondary-surface-color); padding: 8px 12px;\n",
              "         border-bottom: 1px solid var(--colab-border-color);\"><b>textgrad.model.BlackboxLLM</b><br/>def __call__(*args, **kwargs)</pre><pre class=\"function-repr-contents function-repr-contents-collapsed\" style=\"\"><a class=\"filepath\" style=\"display:none\" href=\"#\">/usr/local/lib/python3.10/dist-packages/textgrad/model.py</a>Abstract module class with parameters akin to PyTorch&#x27;s nn.Module.\n",
              "    </pre>\n",
              "      <script>\n",
              "      if (google.colab.kernel.accessAllowed && google.colab.files && google.colab.files.view) {\n",
              "        for (const element of document.querySelectorAll('.filepath')) {\n",
              "          element.style.display = 'block'\n",
              "          element.onclick = (event) => {\n",
              "            event.preventDefault();\n",
              "            event.stopPropagation();\n",
              "            google.colab.files.view(element.textContent, 10);\n",
              "          };\n",
              "        }\n",
              "      }\n",
              "      for (const element of document.querySelectorAll('.function-repr-contents')) {\n",
              "        element.onclick = (event) => {\n",
              "          event.preventDefault();\n",
              "          event.stopPropagation();\n",
              "          element.classList.toggle('function-repr-contents-collapsed');\n",
              "        };\n",
              "      }\n",
              "      </script>\n",
              "      </div>"
            ]
          },
          "metadata": {},
          "execution_count": 49
        }
      ]
    },
    {
      "cell_type": "code",
      "source": [
        "tg.autograd.function.Module??"
      ],
      "metadata": {
        "id": "B4lPKrxMdHf-"
      },
      "id": "B4lPKrxMdHf-",
      "execution_count": 51,
      "outputs": []
    },
    {
      "cell_type": "code",
      "source": [],
      "metadata": {
        "id": "anzNkOyOiMyT"
      },
      "id": "anzNkOyOiMyT",
      "execution_count": null,
      "outputs": []
    },
    {
      "cell_type": "markdown",
      "source": [
        "## test with some text"
      ],
      "metadata": {
        "id": "TFO1NBjciNd8"
      },
      "id": "TFO1NBjciNd8"
    },
    {
      "cell_type": "code",
      "source": [
        "text=\"\"\"\n",
        " Helmen Kütt:  Suur tänu, austatud eesistuja! Lugupeetud peaminister! Ma pean vajalikuks siiski tuua siia ka selle mõtte, mille kohta ma küsisin. Nimelt, kas kaaluti ka üksi elava pensionäri toetust? Seda ei saaks ei teie vanemad ega paljud teised, kelle pension on aastal 2022 suurem kui 669 eurot. Seal on pensionilagi ja piir pandud. Need on registri järgi üksi elavad pensionärid. Tõsi, kui on abielupaar, pensionärid, kellest üks on kirjutatud ühte omavalitsusse või ühte majja ja teine teise, siis saavad mõlemad toetust. Sel puhul on registri baasil võimalik toetust maksta. Minu küsimus puudutas neid 80 000 inimest. Võib-olla oleks see [nende olukorda] kergendanud. Kuna meid vaatavad väga paljud inimesed, siis oli see oluline täpsustus, mida öelda. Teiseks, te tõite näite, et valitsus oli juba andnud riigieelarve Riigikogusse menetlusse. No ma ei usu, et kui valitsusel oleks olnud soov seda asja lahendada, ka Riigikogus seda lahendada, siis koalitsioonierakonda kuuluvad saadikud siin saalis ei oleks seda teinud. Sest see meede – baasosa tõus 20 euro võrra – ei oleks tähendanud mitte ühegi elektroonilise süsteemi juurdetegemist. See oleks olnud väga kiiresti teostatav. Selle kohta vastas meile ka sotsiaalkomisjonis sotsiaalkindlustusametnik, kes ütles, et see ei nõua mingi arvutisüsteemi loomist, erinevalt sellest, kui näiteks tuleks keskmine pension vabastada tulumaksust. Seda oleks võinud teha kohe aasta alguses. Tõepoolest, kuna inimesed jälgivad seda saadet, on mul näide. On tulnud kiri, kus inimene kirjutab, et mõtleb hoolega sel teemal kaasa. Peale eilset \"AK-d\" ja \"Esimest stuudiot\" ning tänaseid Delfi uudiseid on mul ka sellised küsimused. Kas ei võiks koalitsioonipartnerid avalikkusele edastada ühiseid seisukohti? Ma tõesti ei mäleta sellist olukorda riigis. Ma ei kritiseeri meetmete paketti, aga ma tahaksin, et valitsejad jagaksid selget ühist infot selle kohta, mida mina kodanikuna peaks tegema.\n",
        "\n",
        " Peaminister Kaja Kallas:  Jaa, ma olen selles teiega väga nõus, et eriti kriisis on väga oluline, et kõik räägiksid ühel häälel ega üritaks kuidagi tekki enda peale tõmmata või punkti võtta. Oluline on see, et inimesed saaksid ikkagi selgust, kuidas nad saavad abi, ja ärevust tuleb sellisel raskel ajal leevendada. Üksi elavate pensionäride kohta see küsimus, et kas saab lihtsamalt. Tõesti, info on ju olemas. Aga teisest küljest info, mida ei ole, on elektriarvete info. Nagu ma ütlesin, ega kõik, ka üksi elavad pensionärid, ei pruugi toetust vajada – just sellel põhjusel, et nende arve võib-olla ei ole kasvanud, sest neil on fikseeritud hind või ei ole arve märkimisväärselt suurenenud. See on see koht, mis tuleb kokku viia. Aga ma võtan selle info siit kaasa ja räägin kindlasti riigihalduse ministriga. Me arutame, kas tõesti oleks võimalik teha see kuidagi lihtsamalt. Tõesti, see mure ka, mis te ütlete omikrontüve või COVID‑i leviku kohta – seda on väga oluline arvesse võtta. Nii et ma võtan selle siit kaasa ning me räägime sellest ja vaatame, kas saame midagi lihtsamaks.\n",
        "\n",
        " Aseesimees Hanno Pevkur: Lõpetan selle küsimuse käsitlemise.\"\"\"\n",
        "\n",
        "x = tg.Variable(text, requires_grad=False, role_description=\"query to the language model\")\n",
        "model(x)"
      ],
      "metadata": {
        "colab": {
          "base_uri": "https://localhost:8080/"
        },
        "id": "iRbISAOYd7CF",
        "outputId": "59450096-ad0f-4b32-ecba-710ae7fc6950"
      },
      "id": "iRbISAOYd7CF",
      "execution_count": 57,
      "outputs": [
        {
          "output_type": "stream",
          "name": "stderr",
          "text": [
            "INFO:textgrad:LLMCall function forward\n"
          ]
        },
        {
          "output_type": "execute_result",
          "data": {
            "text/plain": [
              "Variable(value=- Helmen Kütt tõi välja mure üksi elavate pensionäride toetusega seoses, kus ta tõstatas küsimuse, kas kaaluti ka nende toetamist, kelle pension ületab 669 eurot aastas.\n",
              "- Peaminister Kaja Kallas nõustus, et oluline on kriisi ajal jagada selget ja ühist infot, et leevendada inimeste ärevust ning kaaluda võimalusi, kuidas toetusi lihtsustada.\n",
              "- Arutelu lõpetas aseesimees Hanno Pevkur., role=response from the language model, grads=)"
            ]
          },
          "metadata": {},
          "execution_count": 57
        }
      ]
    },
    {
      "cell_type": "code",
      "source": [
        "model.system_prompt.get_gradient_text()"
      ],
      "metadata": {
        "colab": {
          "base_uri": "https://localhost:8080/",
          "height": 122
        },
        "id": "M5kmIqBkifNa",
        "outputId": "56772e91-1b72-4d27-dfda-58deb4a1c268"
      },
      "id": "M5kmIqBkifNa",
      "execution_count": 60,
      "outputs": [
        {
          "output_type": "execute_result",
          "data": {
            "text/plain": [
              "'The structured system prompt for the language model could be improved in the following ways to address the feedback provided in the <OBJECTIVE_FUNCTION>:\\n\\n1. **Context Awareness**: Include specific context cues in the prompt to guide the language model towards generating a summary that captures the key details of the conversation. For example, mention that the text is a speech delivered by a minister in the Riigikogu regarding a kõrgharidusreform (higher education reform).\\n\\n2. **Fact-Checking**: Encourage the language model to verify the accuracy of the summary by incorporating fact-checking instructions in the prompt. This can involve prompting the model to cross-reference the summary with the original text to ensure factual correctness.\\n\\n3. **Completeness**: Specify in the prompt that the generated summary should cover essential aspects of the speech, such as the purpose of the reform, key arguments presented by the minister, and the importance of free higher education. This will guide the model to provide a more comprehensive summary.\\n\\n4. **Relevance**: Emphasize in the prompt the importance of relevance by instructing the model to focus on the main points discussed in the text while excluding extraneous details. This will help the model generate a concise and on-topic summary.\\n\\n5. **Language Proficiency**: Encourage the language model to maintain a high level of language proficiency by specifying that the summary should be written in grammatically correct Estonian and exhibit coherence. Providing language examples or specific linguistic requirements can help improve the quality of the generated summary.\\n\\nBy incorporating these improvements into the structured system prompt, the language model can be guided to produce a more accurate, detailed, and contextually relevant summary of the given text, aligning better with the ground truth answer and enhancing overall performance.'"
            ],
            "application/vnd.google.colaboratory.intrinsic+json": {
              "type": "string"
            }
          },
          "metadata": {},
          "execution_count": 60
        }
      ]
    },
    {
      "cell_type": "code",
      "source": [
        "model.system_prompt"
      ],
      "metadata": {
        "colab": {
          "base_uri": "https://localhost:8080/"
        },
        "id": "-9hc0MwtipyB",
        "outputId": "0a7fb66f-4254-4b4c-be5f-9f1da600b9ca"
      },
      "id": "-9hc0MwtipyB",
      "execution_count": 62,
      "outputs": [
        {
          "output_type": "execute_result",
          "data": {
            "text/plain": [
              "Variable(value=Please provide summary of the following text. summary should consist of up to 3 bullet points. Use only Estonian., role=structured system prompt to a somewhat capable language model that specifies the behavior and strategies for the QA task, grads=Here is a conversation:\n",
              "\n",
              "<CONVERSATION><LM_SYSTEM_PROMPT> Please provide summary of the following text. summary should consist of up to 3 bullet points. Use only Estonian. </LM_SYSTEM_PROMPT>\n",
              "\n",
              "<LM_INPUT>  \n",
              " Haridus- ja teadusminister Jaak Aaviksoo: Hea eesistuja! Lugupeetud rahvasaadikud! Alustan sellest, et tänan Riigikogu ja kultuurikomisjoni mulle antud võimaluse eest esineda ka teisel lugemisel. See ei ole tavapärane, aga ma arvan, et see on oluline. Üks hea kolleeg eelnevas arutelus ütles, et kavandamisel on suurim muudatus kõrghariduskorralduses viimase 60 aasta jooksul. Tundub, et see oli veidi ülepingutatud hinnang, aga muudatus see tõesti on. Ma olen veendunud ja loodetavasti olete ka teie veendunud, et see muudatus on vajalik ja mõistlik. Eelnõu 89 on loodud suurendama õiglust, kasvatades kõrgharidusele tasuta ligipääsu, parandama hariduse kvaliteeti ja suurendama kõrgharidussüsteemi toimimise efektiivsust tulemustele orienteeritud rahastamise abil. Üks väike meenutus. Meil on praegu 70 000 tudengit, kes aastas suudavad saada 10 000 kõrgharidust tõendavat diplomit. Õppekavad on nelja-, kolme- ja kaheaastased. Siit järeldub, et diplomini jõudmiseks võiks kuluda keskmiselt kolm aastat, aga kulub seitse aastat. Kui see ei ole probleem, siis kus üldse on probleemid? Ma usun, et kitsaskohad, mis kõrghariduses on, vajavad kõrvaldamist. Seda, et need kitsaskohad on olemas ja vajavad kõrvaldamist, on mõistetud nii siin saalis kui ka avalikkuses. Usun, et on olemas põhjendatud ootus. Eelnõu pakub lahenduse. Meilt on küsitud, miks just tasuta kõrgharidus, kui enamik maailmast liigub tasulise ja õppemaksulise kõrghariduse suunas. Üha enam on see nii ka nendes riikides, kus pikka aega pärast Teist maailmasõda on kõrgharidus olnud tasuta. Miks siis nii, miks me ujume vastuvoolu? Miks me ei kehtesta tasulist kõrgharidust, nagu ka avalikkuses on palju nõutud? Sellepärast, et meie ajalooline kogemus on meile tõestanud hariduse olulisust väikerahva kestmises ja arengus: me oleme liikunud Rootsi-aegsetest rahvakoolidest talude päriseksostmiseni, sealt üleüldise kirjaoskuse ja oma riigini ning eestikeelse ülikooli kaudu tänapäevaste kultuurrahvaste hulka. Väikerahvale on see oluline. Sellepärast on IRL püstitanud tasuta kõrghariduse loosungi ja mul on hea meel, et koalitsioonipartnerid on meid selles pürgimuses toetanud. Loodan, et ka sotsiaaldemokraadid ja Keskerakond mõistavad selle olulisust. Me teame, et see ei ole kommunistlikus mõttes tasuta ehk kõigile tasuta, ükskõik mis mahus tasuta ja ükskõik kui kaua tasuta. Need, kelle ideaal on kommunistlik paradiis, peaksid mõtlema sellele, et kommunistlik tegelikkus on pigem vaesus ja vangilaager kui üldine heaolu. See ei saa olla ka sotsialistliku heaoluriigi ideaal, kus õigused pole tasakaalus kohustustega ning kogu vastutus veeretatakse riigile ja maksumaksjale. See on vaba kodaniku eneseteostust toetav lähenemine, kus iga võimekas ja motiveeritud noor saab õiguse tasuta õppeks, kandes ühtlasi kohustust õpingutele pühenduda ja haridus õigel ajal omandada. Täistööajaga osaajalised õppurid maksaksid aga jõukohast õppemaksu ning kursusekordajad korvaksid ülikoolile tekkivad lisakulud. Niisugune on see põhimõte. Meid on kritiseeritud. Ülikoolid on leidnud, et õppemaksu eest üle madaldatud nõudmistelati ülikooli pääsenute käest saadud raha vähenemine ähvardab ülikoolide toimetulekut. Jah, aga kvaliteet paraneb ja pealegi on riik kavatsenud vähenevad tulud kompenseerida.  Ülikoolide riigieelarveline rahastamine kasvab plaanide järgi kõigil eelseisvatel reformiaastatel. Kui palju on avalikus sektoris valdkondi, kus me võime kindlad olla, et eelseisval kolmel aastal riiklik rahastamine kasvab?  Väga vähe, kui neid üldse on. Üliõpilased sooviksid, et neile rohkem vastu tuldaks ning nende õigusi ja vabadusi suurendataks. Olukorras, kus enamik üliõpilaste soove on leidnud tee eelnõusse, soovivad nad minu paremat arusaama pidi kõigi oma ettepanekute täielist arvestamist.  Kuid on ka teisi huve. Olen seisukohal, et õigused peavad alati olema tasakaalus kohustustega, ja olen veendunud, et õppimine on tõsine ettevõtmine. Täiskasvanuil ei tohiks olla raskusi mõistmaks, et täisajaline ehk 40-tunnine töönädal tähendabki 40 tundi tööd ja 30 tunni eest ei ole kuidagi võimalik täit palka saada. Akadeemilise puhkuse ajal puuduvad üliõpilastel kohustused ja siis on tasakaalustamata nõuda ka kõiki õigusi.  Tõesti, erandid on mõistlikud ja vastuvõetavad ning lapsepuhkus  ja kaitseväeteenistus on eelnõusse ilusasti sisse kirjutatud, nii nagu ka erandid puuetega inimestele. Ühes oleme kriitikutega ühte meelt: täisajalise õppimise kohustus peab käima käsikäes vajaduspõhiste õppetoetustega. Siin on üks kontekst, aga arvata, et need kaks seadust peaksid olema lahutamatud nagu sukk ja saabas, ei ole ju põhjust. Meil on kaks seadust. Kõikidel varasematel kordadel on nad eraldi vastu võetud. Mis siis nüüd järsku lahti on, et peab kohe ühe korraga, ühe pauguga ära otsustama? Ei saa aru. Täna on kõrgharidusseaduse eelnõu Riigikogu laudadel, õppetoetuste seaduse eelnõu aga valitsuses kooskõlastusringil. Kinnitan teile, head sõbrad, et mõlemad seadused on kavas jõustada ühel ajal. Nii arvan mina, nii arvab valitsus, nii arvab valitsuskoalitsioon. Ma ei ole kohanud siin Riigikogus ühtegi fraktsiooni, kes arvaks teisiti. Kust see mure? Head sõbrad! Riigikogu on eelnõu 89 arutanud alates septembri keskpaigast ehk neli kuud. Kultuurikomisjon on teinud palju ja head tööd ning saavutatud kompromissid on eelnõu kindlasti paremaks teinud. Mõne asjaga olen ma nõus, mõnega ei ole, aga see ongi demokraatia. Vastu on tuldud kõigi huvigruppide soovidele, ent arusaadavalt ei saanud komisjon kõiki vastandlikke nõudmisi arvestada. Tahan tänada kõiki fraktsioone arutelude eest, kus mul oli võimalik osaleda! Need arutelud olid eranditult konstruktiivsed. Seda üllatavam oli lugeda kolleeg Jaak Alliku arvamusartiklit tänases Postimehes. Isegi teades kolleeg Alliku kogemust teeneka propagandisti ja agitaatorina erinevate parteide ridades, on mul raske mõista, kuidas saab kavandatud reform, mis suurendab kõrghariduse rahastamist üle 25% ja enam kui kahekordistab tudengitele mõeldud sotsiaaltoetusi, olla reform vaid rikastele. See on ehe propaganda hirmude ja klassivaenu õhutamise teel, nii nagu seda praktiseeris seltsimees Lenin. Ma ei jaga nostalgiat nõukogude kõrghariduse järele, mida õhkus nimetatud artiklist. Meie lähenemine on teine. (Naer. Aplaus.) Meile on oluline õiglus ja sellepärast seisame vajaduspõhiste õppetoetuste ja tasuta õppe eest. Meile on oluline kvaliteet ja sellepärast seisame tulemuspõhise rahastamise eest. Meile on oluline efektiivsus ja sellepärast toetame tulemuslepinguid, loobudes riikliku koolitustellimuse ideoloogiast, mis on tekitanud ülikoolidele suuri võlgnevusi. Head kolleegid! Üliõpilased! Kahjuks ei saanud ma kogu aja osaleda teie miitingul, küll aga vaatasin just äsja internetist punaloosungeid, kuhu oli kirjutatud: \"Aaviksoo! Kui palju sina oma hariduse eest maksid?\" Mul on see hästi meeles. Mina õppisin viis aastat täisajaliselt, õiendasin eksamid ja arvestused õigel ajal ja ettenähtud korras ning õppemaksu ei maksnud. Seda soovin ka teile. Elamis- ja toimetulekukulude katmiseks töötasin nädalavahetustel ja öösiti raudteejaamas laadimistöödel, suvel aga malevas ja nii sain õpingute ajal üsna hästi hakkama. Head kolleegid! Palun teid toetada eelnõu kultuurikomisjoni esitatud kujul ja otsustada teine lugemine lõpetada! \n",
              "  \n",
              " Aseesimees Jüri Ratas: Austatud ettekandja, hea minister! Teile on küsimusi. Jaak Allik, palun! \n",
              "  \n",
              " Jaak Allik: Lugupeetud härra minister, tänan kõigepealt heade sõnade ja tunnustuse eest! Aga minu esimene küsimus teile on selline. Teatavasti on valitsusliidu programmis ehk koalitsioonileppes ette nähtud vajaduspõhiste õppetoetuste süsteemi käivitamine alates 2015. aastast. Ma tahan teada, kas teie koalitsioonipartner on teile andnud garantii, et seda koalitsioonileppe sätet muudetakse. \n",
              "  \n",
              " Aseesimees Jüri Ratas: Heljo Pikhof, palun! </LM_INPUT>\n",
              "\n",
              "<LM_OUTPUT> - Haridus- ja teadusminister Jaak Aaviksoo esines Riigikogus kõrgharidusreformi teemalise ettekandega\n",
              "- Eelnõu 89 eesmärk on suurendada õiglust, parandada hariduse kvaliteeti ja suurendada kõrgharidussüsteemi efektiivsust\n",
              "- Aaviksoo rõhutas tasuta kõrghariduse olulisust väikerahva kestmises ja arengus, samuti õiguste ja kohustuste tasakaalu tähtsust õppimisel </LM_OUTPUT>\n",
              "\n",
              "</CONVERSATION>\n",
              "\n",
              "This conversation is potentially part of a larger system. The output is used as response from the language model\n",
              "\n",
              "Here is the feedback we got for structured system prompt to a somewhat capable language model that specifies the behavior and strategies for the QA task in the conversation:\n",
              "\n",
              "<FEEDBACK>The structured system prompt for the language model could be improved in the following ways to address the feedback provided in the <OBJECTIVE_FUNCTION>:\n",
              "\n",
              "1. **Context Awareness**: Include specific context cues in the prompt to guide the language model towards generating a summary that captures the key details of the conversation. For example, mention that the text is a speech delivered by a minister in the Riigikogu regarding a kõrgharidusreform (higher education reform).\n",
              "\n",
              "2. **Fact-Checking**: Encourage the language model to verify the accuracy of the summary by incorporating fact-checking instructions in the prompt. This can involve prompting the model to cross-reference the summary with the original text to ensure factual correctness.\n",
              "\n",
              "3. **Completeness**: Specify in the prompt that the generated summary should cover essential aspects of the speech, such as the purpose of the reform, key arguments presented by the minister, and the importance of free higher education. This will guide the model to provide a more comprehensive summary.\n",
              "\n",
              "4. **Relevance**: Emphasize in the prompt the importance of relevance by instructing the model to focus on the main points discussed in the text while excluding extraneous details. This will help the model generate a concise and on-topic summary.\n",
              "\n",
              "5. **Language Proficiency**: Encourage the language model to maintain a high level of language proficiency by specifying that the summary should be written in grammatically correct Estonian and exhibit coherence. Providing language examples or specific linguistic requirements can help improve the quality of the generated summary.\n",
              "\n",
              "By incorporating these improvements into the structured system prompt, the language model can be guided to produce a more accurate, detailed, and contextually relevant summary of the given text, aligning better with the ground truth answer and enhancing overall performance.</FEEDBACK>\n",
              "\n",
              ")"
            ]
          },
          "metadata": {},
          "execution_count": 62
        }
      ]
    },
    {
      "cell_type": "code",
      "source": [],
      "metadata": {
        "id": "vizl_kKMkVSA"
      },
      "id": "vizl_kKMkVSA",
      "execution_count": null,
      "outputs": []
    }
  ],
  "metadata": {
    "kernelspec": {
      "display_name": "Python 3 (ipykernel)",
      "language": "python",
      "name": "python3"
    },
    "language_info": {
      "codemirror_mode": {
        "name": "ipython",
        "version": 3
      },
      "file_extension": ".py",
      "mimetype": "text/x-python",
      "name": "python",
      "nbconvert_exporter": "python",
      "pygments_lexer": "ipython3",
      "version": "3.10.12"
    },
    "colab": {
      "provenance": []
    }
  },
  "nbformat": 4,
  "nbformat_minor": 5
}