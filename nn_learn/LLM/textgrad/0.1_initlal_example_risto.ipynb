{
 "cells": [
  {
   "cell_type": "code",
   "execution_count": 2,
   "id": "9aaa82d3",
   "metadata": {},
   "outputs": [],
   "source": [
    "# !pip install textgrad"
   ]
  },
  {
   "cell_type": "code",
   "execution_count": 3,
   "id": "5a5b52a8",
   "metadata": {},
   "outputs": [],
   "source": [
    "import textgrad as tg"
   ]
  },
  {
   "cell_type": "markdown",
   "id": "bf57f286",
   "metadata": {},
   "source": [
    "##  data"
   ]
  },
  {
   "cell_type": "code",
   "execution_count": 4,
   "id": "b12f0c39",
   "metadata": {},
   "outputs": [],
   "source": [
    "text=\"\"\"Urmas Klaas: Ettepanekus nr 29 öeldakse sõnaselgelt, et juriidilistel ja füüsilistel isikutel on õigus taotleda ülikoolis õppekohtade avamist omavahendite arvel ja õppekohtade täitmisel lähtutakse käesoleva seaduse §-s 13 2 sätestatust. See on see, mida Reformierakonna fraktsioon ja IRL-i fraktsioon on rõhutanud. Komisjonis leiti konsensusega, et see peab nii olema. Paragrahvi 13 2 mõte on ikkagi selles, et kuigi õppekoht luuakse füüsilise isiku või ettevõtte finantside toel, toimub kandideerimine ja n-ö kvalifitseerumine üldistel alustel. Ehk punkt 1, ennast raha eest ülikooli sisse osta ei saa, ja punkt 2, väga oluline on ka see, et sellistest kohtadest antakse teada vastuvõtutingimustega seoses, mitte ei selgu kunagi hiljem, et keegi andis meile raha ja nüüd on võimalik veel kord kandideerida või, ütleme, nimekiri pikemaks teha. Ei, see on kehtestatud vastuvõtutingimustes üldistel alustel. Mingisugust onupojapoliitikat siin olla ei saa. Muudatusettepanekud nr 3–6, 19 ja 27 käsitlevad akadeemilist puhkust. See teema on olnud ka komisjonis üsna aktiivselt kõne all. Me otsisime kuni komisjoni viimase istungini sobivat varianti, kuidas probleemi lahendada. Kultuurikomisjoni muudatusettepanek nr 3 sätestab, et akadeemilisel puhkusel oleval üliõpilasel on õigus kuulata loenguid, kuid mitte sooritada eksameid ega arvestusi. Nii et õppetöös osalemine kui seesugune on lubatud. Esialgses variandis kehtis akadeemilise puhkuse ajal üsna jäik keeld, nii et kui natuke utreerida, siis võib öelda, et üliõpilane ei tohtinud ülikooli lähedalegi tulla. Komisjon on muutnud seda korda tõesti palju paindlikumaks, nüüd on lubatud loenguid kuulata, praktikumidel osaleda jne. Üldnormina peab kõrgkool tagama üliõpilasele õppetöös osalemise võimalused. Akadeemilisel puhkusel õppekava täitmise keeldu on muudetud, lubatakse vajaduspõhiselt ka eksameid ja arvestusi teha. Need vajadused me oleme sõnastanud selliselt, et õppekava täitmise keeldu ei kohaldata keskmise, raske või sügava puudega isikule, alla kolmeaastast last või puudega last kasvatavale vanemale või eestkostjale ega üliõpilasele, kes on akadeemilisel puhkusel seoses kaitseväeteenistusega. Komisjon sõnastas ka ettepaneku nr 19, mida varem ei olnud ja mis on minu hinnangul väga oluline. See on rakendussäte, mis näeb ette, et üliõpilase suhtes, kes seaduse jõustumise hetkel juba on akadeemilisel puhkusel, kehtivad akadeemilise puhkuse lõpuni ikka need reeglid, mis kehtisid siis, kui ta akadeemilisele puhkusele läks. Keset mängu reegleid ei muudeta. Edasi räägin muudatusettepanekutest nr 11–14, 16 ja 25, mis käsitlevad üliõpilase õigust õppida õppekulusid hüvitamata. Need ettepanekud on tehtud samuti heas koostöös Haridus- ja Teadusministeeriumiga ning käsitlevad seda kuulsat õppekava täitmist 30 ainepunkti ulatuses täisajaga õppides ja õppekulude hüvitamist. Kultuurikomisjoni otsuste lähtekoht selles küsimuses on, et õppekulude hüvitamise nõue on kõrgkooli õigus, mitte kohustus ning tegevustoetuse eraldamise korral on võimalik teatud õppekavade puhul kehtestada nii õppekeele kui ka õppekava täitmise mahu erandeid ülikooli missioonist ja eesmärkidest ning riigi vajadustest lähtuvalt. Õppeaasta maht on 60 ainepunkti. On oluline märkida, et eelnõu kohaselt on semester pool õppeaastast ehk viis kuud. Üliõpilane peab selleks, et saada järgmisel semestril õppida õppekulusid hüvitamata, täitma õppekava esimesel semestril vähemalt 30 ainepunkti ulatuses. Peab olema selge piir, kas ta õpib täisajaga või osakoormusega, see valikukoht peab olema hästi selge. Mis on oluline? Komisjon kehtestas paindliku regulatsiooni, et arvestus toimub semestrite jooksul kumulatiivselt. Lahtiseletatult võib nüüd, vastupidi varasemale jäigale süsteemile, ühel semestril koguda ka rohkem ainepunkte, näiteks 35 või 40 punkti, ja teisel semestril selle võrra vähem. Esimesel semestril võib koguda kõik ainepunktid, mida on õppekava täitmiseks vaja, ja kogu ülejäänud aja võib kirjutada bakalaureusetööd või, ma ei tea, mis töid veel. See võimalus on. Te näete, et süsteem on kindlasti paindlikumaks muutunud. Ma toonitan veel kord seoses semestri mõistega, et täpsem definitsioon võimaldab arvestada kevadsemestri hulka suveülikoole, praktikume ja kõike muud ning seega on võimalik rohkem ainepunkte koguda. Seda varem ei olnud. Oluline on ka see, et me sätestasime, et õppekulude hüvitamine peab olema (s. o ettepanek nr 15) kulupõhine, mis tähendab, et üliõpilaselt ei saa näiteks kahe täitmata ainepunkti eest nõuda kogu semestri õpingute hüvitamist. Varem ei olnud see tekst nii selge ja arusaadav: kui jäi üks või kaks punkti puudu ja ülikool leidis, et kõik õppekulud tuleb hüvitada, siis tuligi maksta terve semestri eest. Ei, hüvitamine toimub nüüd ikkagi kulupõhiselt, maksta tuleb selle eest, mis puudu jääb. Vahemärkusena ütlen, et see ei tähenda, et kui sa maksad, siis ei peagi eksamit tegema, vaid sa maksad ja pead ka eksami ära tegema. Haridus- ja Teadusministeerium toetas seda kultuurikomisjoni ettepanekut. Ettepanekud nr 17 ja 26 räägivad õppekohtade täitmisest. See on väga oluline muudatus. Nimelt, me seame seaduses üldnormina sisse lävendi põhimõtte. Sõna \"lävend\" te sealt ei leia, sest sellist terminit ei ole olemas ja selle definitsiooni ka ei ole, aga see on sõnastatud üldnormina. Ülikool on kohustatud immatrikuleerima üliõpilaseks isiku, kes on täitnud kõrgkooli kehtestatud sisseastumisnõuded. Need nõuded võivad olla minimaalse punktide summaga kõrgkooli sisseastumiseksami sooritamine, gümnaasiumi lõpuhinnete arvestamine, vestluse või testi kaudu antav hinnang isiku motiveeritusele õppekava järgi õppimiseks. See on pikalt sõnastatud, aga põhimõte on lävendis. Oluline on ka see, et põhjendatud juhul võib kõrgkool sisse seada vastuvõetavate või immatrikuleeritavate üliõpilaste arvu ülempiiri, täites õppekohad paremusjärjestuse alusel. Üldjuhul on see nii õppekorralduslikel põhjustel, sest me ei saa ikkagi vastu võtta 200 arstitudengit, kui patoanatoomilises laboris on õppekohti piiratud arvul. See on selge. Nüüd ma hakkangi lõpule jõudma. Mis puudutab rakendamisega seotud muudatusettepanekuid nr 18, 20 ja 35, siis mäletate, et esimesel lugemisel oli tõsiselt päevakorral, kas ikka on võimalik seadust jõustada 1. septembrist 2012. Nüüd on ettepanek.\"\"\""
   ]
  },
  {
   "cell_type": "markdown",
   "id": "87a2df74",
   "metadata": {},
   "source": [
    "## run to summarize"
   ]
  },
  {
   "cell_type": "code",
   "execution_count": 16,
   "id": "32a0c4bc",
   "metadata": {},
   "outputs": [],
   "source": [
    "tg.set_backward_engine(\"gpt-3.5-turbo\", override=True)\n",
    "\n",
    "# Step 1: Get an initial response from an LLM.\n",
    "model = tg.BlackboxLLM(\"gpt-3.5-turbo\")\n",
    "question_string = (f\"Please provide summary of the following. summary should consist of up to 3 bullet points. Use only Estonian. text: {text}\")\n",
    "\n",
    "question = tg.Variable(question_string, \n",
    "                       role_description=\"question to the LLM\", \n",
    "                       requires_grad=False)\n",
    "\n",
    "answer = model(question)"
   ]
  },
  {
   "cell_type": "code",
   "execution_count": 17,
   "id": "6f4ca206",
   "metadata": {},
   "outputs": [
    {
     "data": {
      "text/plain": [
       "Variable(value=- Juriidilistel ja füüsilistel isikutel on õigus taotleda ülikoolis õppekohtade avamist omavahendite arvel.\n",
       "- Õppekohtade täitmisel lähtutakse seaduse §-s 13 2 sätestatust.\n",
       "- Akadeemilisel puhkusel õppetöös osalemine on lubatud, kuid eksameid ja arvestusi ei tohi sooritada., role=response from the language model, grads=)"
      ]
     },
     "execution_count": 17,
     "metadata": {},
     "output_type": "execute_result"
    }
   ],
   "source": [
    "answer"
   ]
  },
  {
   "cell_type": "code",
   "execution_count": 18,
   "id": "14b00a85",
   "metadata": {},
   "outputs": [],
   "source": [
    "answer.set_role_description(\"concise and accurate summary of the text\")\n",
    "\n",
    "# Step 2: Define the loss function and the optimizer, just like in PyTorch! \n",
    "# Here, we don't have SGD, but we have TGD (Textual Gradient Descent) \n",
    "# that works with \"textual gradients\". \n",
    "optimizer = tg.TGD(parameters=[answer])\n",
    "evaluation_instruction = (f\"Here's a question: {question_string}. \" \n",
    "                           \"Evaluate any given answer to this question, \"\n",
    "                           \"be smart, logical, and very critical. \"\n",
    "                           \"Just provide concise feedback.\")\n",
    "                            \n",
    "\n",
    "# TextLoss is a natural-language specified loss function that describes \n",
    "# how we want to evaluate the reasoning.\n",
    "loss_fn = tg.TextLoss(evaluation_instruction)"
   ]
  },
  {
   "cell_type": "code",
   "execution_count": 19,
   "id": "fbab9f97",
   "metadata": {},
   "outputs": [
    {
     "data": {
      "text/plain": [
       "Variable(value=- Juriidilistel ja füüsilistel isikutel on õigus taotleda ülikoolis õppekohtade avamist omavahendite arvel.\n",
       "- Õppekohtade täitmisel lähtutakse seaduse §-s 13 2 sätestatust.\n",
       "- Akadeemilisel puhkusel osalemine lubatud, kuid eksameid ja arvestusi ei tohi sooritada., role=concise and accurate summary of the text, grads=Here is a conversation:\n",
       "\n",
       "<CONVERSATION><LM_SYSTEM_PROMPT> Here's a question: Please provide summary of the following. summary should consist of up to 3 bullet points. Use only Estonian. text: Urmas Klaas: Ettepanekus nr 29 öeldakse sõnaselgelt, et juriidilistel ja füüsilistel isikutel on õigus taotleda ülikoolis õppekohtade avamist omavahendite arvel ja õppekohtade täitmisel lähtutakse käesoleva seaduse §-s 13 2 sätestatust. See on see, mida Reformierakonna fraktsioon ja IRL-i fraktsioon on rõhutanud. Komisjonis leiti konsensusega, et see peab nii olema. Paragrahvi 13 2 mõte on ikkagi selles, et kuigi õppekoht luuakse füüsilise isiku või ettevõtte finantside toel, toimub kandideerimine ja n-ö kvalifitseerumine üldistel alustel. Ehk punkt 1, ennast raha eest ülikooli sisse osta ei saa, ja punkt 2, väga oluline on ka see, et sellistest kohtadest antakse teada vastuvõtutingimustega seoses, mitte ei selgu kunagi hiljem, et keegi andis meile raha ja nüüd on võimalik veel kord kandideerida või, ütleme, nimekiri pikemaks teha. Ei, see on kehtestatud vastuvõtutingimustes üldistel alustel. Mingisugust onupojapoliitikat siin olla ei saa. Muudatusettepanekud nr 3–6, 19 ja 27 käsitlevad akadeemilist puhkust. See teema on olnud ka komisjonis üsna aktiivselt kõne all. Me otsisime kuni komisjoni viimase istungini sobivat varianti, kuidas probleemi lahendada. Kultuurikomisjoni muudatusettepanek nr 3 sätestab, et akadeemilisel puhkusel oleval üliõpilasel on õigus kuulata loenguid, kuid mitte sooritada eksameid ega arvestusi. Nii et õppetöös osalemine kui seesugune on lubatud. Esialgses variandis kehtis akadeemilise puhkuse ajal üsna jäik keeld, nii et kui natuke utreerida, siis võib öelda, et üliõpilane ei tohtinud ülikooli lähedalegi tulla. Komisjon on muutnud seda korda tõesti palju paindlikumaks, nüüd on lubatud loenguid kuulata, praktikumidel osaleda jne. Üldnormina peab kõrgkool tagama üliõpilasele õppetöös osalemise võimalused. Akadeemilisel puhkusel õppekava täitmise keeldu on muudetud, lubatakse vajaduspõhiselt ka eksameid ja arvestusi teha. Need vajadused me oleme sõnastanud selliselt, et õppekava täitmise keeldu ei kohaldata keskmise, raske või sügava puudega isikule, alla kolmeaastast last või puudega last kasvatavale vanemale või eestkostjale ega üliõpilasele, kes on akadeemilisel puhkusel seoses kaitseväeteenistusega. Komisjon sõnastas ka ettepaneku nr 19, mida varem ei olnud ja mis on minu hinnangul väga oluline. See on rakendussäte, mis näeb ette, et üliõpilase suhtes, kes seaduse jõustumise hetkel juba on akadeemilisel puhkusel, kehtivad akadeemilise puhkuse lõpuni ikka need reeglid, mis kehtisid siis, kui ta akadeemilisele puhkusele läks. Keset mängu reegleid ei muudeta. Edasi räägin muudatusettepanekutest nr 11–14, 16 ja 25, mis käsitlevad üliõpilase õigust õppida õppekulusid hüvitamata. Need ettepanekud on tehtud samuti heas koostöös Haridus- ja Teadusministeeriumiga ning käsitlevad seda kuulsat õppekava täitmist 30 ainepunkti ulatuses täisajaga õppides ja õppekulude hüvitamist. Kultuurikomisjoni otsuste lähtekoht selles küsimuses on, et õppekulude hüvitamise nõue on kõrgkooli õigus, mitte kohustus ning tegevustoetuse eraldamise korral on võimalik teatud õppekavade puhul kehtestada nii õppekeele kui ka õppekava täitmise mahu erandeid ülikooli missioonist ja eesmärkidest ning riigi vajadustest lähtuvalt. Õppeaasta maht on 60 ainepunkti. On oluline märkida, et eelnõu kohaselt on semester pool õppeaastast ehk viis kuud. Üliõpilane peab selleks, et saada järgmisel semestril õppida õppekulusid hüvitamata, täitma õppekava esimesel semestril vähemalt 30 ainepunkti ulatuses. Peab olema selge piir, kas ta õpib täisajaga või osakoormusega, see valikukoht peab olema hästi selge. Mis on oluline? Komisjon kehtestas paindliku regulatsiooni, et arvestus toimub semestrite jooksul kumulatiivselt. Lahtiseletatult võib nüüd, vastupidi varasemale jäigale süsteemile, ühel semestril koguda ka rohkem ainepunkte, näiteks 35 või 40 punkti, ja teisel semestril selle võrra vähem. Esimesel semestril võib koguda kõik ainepunktid, mida on õppekava täitmiseks vaja, ja kogu ülejäänud aja võib kirjutada bakalaureusetööd või, ma ei tea, mis töid veel. See võimalus on. Te näete, et süsteem on kindlasti paindlikumaks muutunud. Ma toonitan veel kord seoses semestri mõistega, et täpsem definitsioon võimaldab arvestada kevadsemestri hulka suveülikoole, praktikume ja kõike muud ning seega on võimalik rohkem ainepunkte koguda. Seda varem ei olnud. Oluline on ka see, et me sätestasime, et õppekulude hüvitamine peab olema (s. o ettepanek nr 15) kulupõhine, mis tähendab, et üliõpilaselt ei saa näiteks kahe täitmata ainepunkti eest nõuda kogu semestri õpingute hüvitamist. Varem ei olnud see tekst nii selge ja arusaadav: kui jäi üks või kaks punkti puudu ja ülikool leidis, et kõik õppekulud tuleb hüvitada, siis tuligi maksta terve semestri eest. Ei, hüvitamine toimub nüüd ikkagi kulupõhiselt, maksta tuleb selle eest, mis puudu jääb. Vahemärkusena ütlen, et see ei tähenda, et kui sa maksad, siis ei peagi eksamit tegema, vaid sa maksad ja pead ka eksami ära tegema. Haridus- ja Teadusministeerium toetas seda kultuurikomisjoni ettepanekut. Ettepanekud nr 17 ja 26 räägivad õppekohtade täitmisest. See on väga oluline muudatus. Nimelt, me seame seaduses üldnormina sisse lävendi põhimõtte. Sõna \"lävend\" te sealt ei leia, sest sellist terminit ei ole olemas ja selle definitsiooni ka ei ole, aga see on sõnastatud üldnormina. Ülikool on kohustatud immatrikuleerima üliõpilaseks isiku, kes on täitnud kõrgkooli kehtestatud sisseastumisnõuded. Need nõuded võivad olla minimaalse punktide summaga kõrgkooli sisseastumiseksami sooritamine, gümnaasiumi lõpuhinnete arvestamine, vestluse või testi kaudu antav hinnang isiku motiveeritusele õppekava järgi õppimiseks. See on pikalt sõnastatud, aga põhimõte on lävendis. Oluline on ka see, et põhjendatud juhul võib kõrgkool sisse seada vastuvõetavate või immatrikuleeritavate üliõpilaste arvu ülempiiri, täites õppekohad paremusjärjestuse alusel. Üldjuhul on see nii õppekorralduslikel põhjustel, sest me ei saa ikkagi vastu võtta 200 arstitudengit, kui patoanatoomilises laboris on õppekohti piiratud arvul. See on selge. Nüüd ma hakkangi lõpule jõudma. Mis puudutab rakendamisega seotud muudatusettepanekuid nr 18, 20 ja 35, siis mäletate, et esimesel lugemisel oli tõsiselt päevakorral, kas ikka on võimalik seadust jõustada 1. septembrist 2012. Nüüd on ettepanek.. Evaluate any given answer to this question, be smart, logical, and very critical. Just provide concise feedback. </LM_SYSTEM_PROMPT>\n",
       "\n",
       "<LM_INPUT> - Juriidilistel ja füüsilistel isikutel on õigus taotleda ülikoolis õppekohtade avamist omavahendite arvel.\n",
       "- Õppekohtade täitmisel lähtutakse seaduse §-s 13 2 sätestatust.\n",
       "- Akadeemilisel puhkusel õppetöös osalemine on lubatud, kuid eksameid ja arvestusi ei tohi sooritada. </LM_INPUT>\n",
       "\n",
       "<LM_OUTPUT> Vastus sisaldab nõutud teavet, kuid on liiga üksikasjalik ja ei ole piisavalt kokkuvõtlik. Oleks võinud esile tuua olulisemad punktid ja anda lühema ülevaate. </LM_OUTPUT>\n",
       "\n",
       "</CONVERSATION>\n",
       "\n",
       "This conversation is potentially part of a larger system. The output is used as response from the language model\n",
       "\n",
       "Here is the feedback we got for concise and accurate summary of the text in the conversation:\n",
       "\n",
       "<FEEDBACK>The summary provided is detailed and covers the required information, but it lacks conciseness. To improve the summary and meet the objective of being more concise and accurate, consider the following feedback:\n",
       "\n",
       "1. Focus on key points: Highlight the most crucial information such as the rights of legal and natural persons to apply for university study positions and the guidelines for academic leave participation without exams.\n",
       "2. Use simpler language: Simplify the language used to convey the message more clearly and concisely.\n",
       "3. Remove unnecessary details: Eliminate any additional explanations or examples that are not essential to the core message to make the summary more concise.</FEEDBACK>\n",
       "\n",
       ")"
      ]
     },
     "execution_count": 19,
     "metadata": {},
     "output_type": "execute_result"
    }
   ],
   "source": [
    "# Step 3: Do the loss computation, backward pass, and update the punchline. \n",
    "# Exact same syntax as PyTorch!\n",
    "loss = loss_fn(answer)\n",
    "loss.backward()\n",
    "optimizer.step()\n",
    "answer"
   ]
  },
  {
   "cell_type": "code",
   "execution_count": 20,
   "id": "8a43bfe0",
   "metadata": {},
   "outputs": [
    {
     "data": {
      "text/plain": [
       "Variable(value=Vastus sisaldab nõutud teavet, kuid on liiga üksikasjalik ja ei ole piisavalt kokkuvõtlik. Oleks võinud esile tuua olulisemad punktid ja anda lühema ülevaate., role=response from the language model, grads=)"
      ]
     },
     "execution_count": 20,
     "metadata": {},
     "output_type": "execute_result"
    }
   ],
   "source": [
    "loss"
   ]
  },
  {
   "cell_type": "code",
   "execution_count": 21,
   "id": "4d65a729",
   "metadata": {},
   "outputs": [
    {
     "data": {
      "text/plain": [
       "Variable(value=- Juriidilistel ja füüsilistel isikutel on õigus taotleda ülikoolis õppekohtade avamist omavahendite arvel.\n",
       "- Õppekohtade täitmisel lähtutakse seaduse §-s 13 2 sätestatust.\n",
       "- Akadeemilisel puhkusel osalemine lubatud, kuid eksameid ja arvestusi ei tohi sooritada., role=concise and accurate summary of the text, grads=Here is a conversation:\n",
       "\n",
       "<CONVERSATION><LM_SYSTEM_PROMPT> Here's a question: Please provide summary of the following. summary should consist of up to 3 bullet points. Use only Estonian. text: Urmas Klaas: Ettepanekus nr 29 öeldakse sõnaselgelt, et juriidilistel ja füüsilistel isikutel on õigus taotleda ülikoolis õppekohtade avamist omavahendite arvel ja õppekohtade täitmisel lähtutakse käesoleva seaduse §-s 13 2 sätestatust. See on see, mida Reformierakonna fraktsioon ja IRL-i fraktsioon on rõhutanud. Komisjonis leiti konsensusega, et see peab nii olema. Paragrahvi 13 2 mõte on ikkagi selles, et kuigi õppekoht luuakse füüsilise isiku või ettevõtte finantside toel, toimub kandideerimine ja n-ö kvalifitseerumine üldistel alustel. Ehk punkt 1, ennast raha eest ülikooli sisse osta ei saa, ja punkt 2, väga oluline on ka see, et sellistest kohtadest antakse teada vastuvõtutingimustega seoses, mitte ei selgu kunagi hiljem, et keegi andis meile raha ja nüüd on võimalik veel kord kandideerida või, ütleme, nimekiri pikemaks teha. Ei, see on kehtestatud vastuvõtutingimustes üldistel alustel. Mingisugust onupojapoliitikat siin olla ei saa. Muudatusettepanekud nr 3–6, 19 ja 27 käsitlevad akadeemilist puhkust. See teema on olnud ka komisjonis üsna aktiivselt kõne all. Me otsisime kuni komisjoni viimase istungini sobivat varianti, kuidas probleemi lahendada. Kultuurikomisjoni muudatusettepanek nr 3 sätestab, et akadeemilisel puhkusel oleval üliõpilasel on õigus kuulata loenguid, kuid mitte sooritada eksameid ega arvestusi. Nii et õppetöös osalemine kui seesugune on lubatud. Esialgses variandis kehtis akadeemilise puhkuse ajal üsna jäik keeld, nii et kui natuke utreerida, siis võib öelda, et üliõpilane ei tohtinud ülikooli lähedalegi tulla. Komisjon on muutnud seda korda tõesti palju paindlikumaks, nüüd on lubatud loenguid kuulata, praktikumidel osaleda jne. Üldnormina peab kõrgkool tagama üliõpilasele õppetöös osalemise võimalused. Akadeemilisel puhkusel õppekava täitmise keeldu on muudetud, lubatakse vajaduspõhiselt ka eksameid ja arvestusi teha. Need vajadused me oleme sõnastanud selliselt, et õppekava täitmise keeldu ei kohaldata keskmise, raske või sügava puudega isikule, alla kolmeaastast last või puudega last kasvatavale vanemale või eestkostjale ega üliõpilasele, kes on akadeemilisel puhkusel seoses kaitseväeteenistusega. Komisjon sõnastas ka ettepaneku nr 19, mida varem ei olnud ja mis on minu hinnangul väga oluline. See on rakendussäte, mis näeb ette, et üliõpilase suhtes, kes seaduse jõustumise hetkel juba on akadeemilisel puhkusel, kehtivad akadeemilise puhkuse lõpuni ikka need reeglid, mis kehtisid siis, kui ta akadeemilisele puhkusele läks. Keset mängu reegleid ei muudeta. Edasi räägin muudatusettepanekutest nr 11–14, 16 ja 25, mis käsitlevad üliõpilase õigust õppida õppekulusid hüvitamata. Need ettepanekud on tehtud samuti heas koostöös Haridus- ja Teadusministeeriumiga ning käsitlevad seda kuulsat õppekava täitmist 30 ainepunkti ulatuses täisajaga õppides ja õppekulude hüvitamist. Kultuurikomisjoni otsuste lähtekoht selles küsimuses on, et õppekulude hüvitamise nõue on kõrgkooli õigus, mitte kohustus ning tegevustoetuse eraldamise korral on võimalik teatud õppekavade puhul kehtestada nii õppekeele kui ka õppekava täitmise mahu erandeid ülikooli missioonist ja eesmärkidest ning riigi vajadustest lähtuvalt. Õppeaasta maht on 60 ainepunkti. On oluline märkida, et eelnõu kohaselt on semester pool õppeaastast ehk viis kuud. Üliõpilane peab selleks, et saada järgmisel semestril õppida õppekulusid hüvitamata, täitma õppekava esimesel semestril vähemalt 30 ainepunkti ulatuses. Peab olema selge piir, kas ta õpib täisajaga või osakoormusega, see valikukoht peab olema hästi selge. Mis on oluline? Komisjon kehtestas paindliku regulatsiooni, et arvestus toimub semestrite jooksul kumulatiivselt. Lahtiseletatult võib nüüd, vastupidi varasemale jäigale süsteemile, ühel semestril koguda ka rohkem ainepunkte, näiteks 35 või 40 punkti, ja teisel semestril selle võrra vähem. Esimesel semestril võib koguda kõik ainepunktid, mida on õppekava täitmiseks vaja, ja kogu ülejäänud aja võib kirjutada bakalaureusetööd või, ma ei tea, mis töid veel. See võimalus on. Te näete, et süsteem on kindlasti paindlikumaks muutunud. Ma toonitan veel kord seoses semestri mõistega, et täpsem definitsioon võimaldab arvestada kevadsemestri hulka suveülikoole, praktikume ja kõike muud ning seega on võimalik rohkem ainepunkte koguda. Seda varem ei olnud. Oluline on ka see, et me sätestasime, et õppekulude hüvitamine peab olema (s. o ettepanek nr 15) kulupõhine, mis tähendab, et üliõpilaselt ei saa näiteks kahe täitmata ainepunkti eest nõuda kogu semestri õpingute hüvitamist. Varem ei olnud see tekst nii selge ja arusaadav: kui jäi üks või kaks punkti puudu ja ülikool leidis, et kõik õppekulud tuleb hüvitada, siis tuligi maksta terve semestri eest. Ei, hüvitamine toimub nüüd ikkagi kulupõhiselt, maksta tuleb selle eest, mis puudu jääb. Vahemärkusena ütlen, et see ei tähenda, et kui sa maksad, siis ei peagi eksamit tegema, vaid sa maksad ja pead ka eksami ära tegema. Haridus- ja Teadusministeerium toetas seda kultuurikomisjoni ettepanekut. Ettepanekud nr 17 ja 26 räägivad õppekohtade täitmisest. See on väga oluline muudatus. Nimelt, me seame seaduses üldnormina sisse lävendi põhimõtte. Sõna \"lävend\" te sealt ei leia, sest sellist terminit ei ole olemas ja selle definitsiooni ka ei ole, aga see on sõnastatud üldnormina. Ülikool on kohustatud immatrikuleerima üliõpilaseks isiku, kes on täitnud kõrgkooli kehtestatud sisseastumisnõuded. Need nõuded võivad olla minimaalse punktide summaga kõrgkooli sisseastumiseksami sooritamine, gümnaasiumi lõpuhinnete arvestamine, vestluse või testi kaudu antav hinnang isiku motiveeritusele õppekava järgi õppimiseks. See on pikalt sõnastatud, aga põhimõte on lävendis. Oluline on ka see, et põhjendatud juhul võib kõrgkool sisse seada vastuvõetavate või immatrikuleeritavate üliõpilaste arvu ülempiiri, täites õppekohad paremusjärjestuse alusel. Üldjuhul on see nii õppekorralduslikel põhjustel, sest me ei saa ikkagi vastu võtta 200 arstitudengit, kui patoanatoomilises laboris on õppekohti piiratud arvul. See on selge. Nüüd ma hakkangi lõpule jõudma. Mis puudutab rakendamisega seotud muudatusettepanekuid nr 18, 20 ja 35, siis mäletate, et esimesel lugemisel oli tõsiselt päevakorral, kas ikka on võimalik seadust jõustada 1. septembrist 2012. Nüüd on ettepanek.. Evaluate any given answer to this question, be smart, logical, and very critical. Just provide concise feedback. </LM_SYSTEM_PROMPT>\n",
       "\n",
       "<LM_INPUT> - Juriidilistel ja füüsilistel isikutel on õigus taotleda ülikoolis õppekohtade avamist omavahendite arvel.\n",
       "- Õppekohtade täitmisel lähtutakse seaduse §-s 13 2 sätestatust.\n",
       "- Akadeemilisel puhkusel õppetöös osalemine on lubatud, kuid eksameid ja arvestusi ei tohi sooritada. </LM_INPUT>\n",
       "\n",
       "<LM_OUTPUT> Vastus sisaldab nõutud teavet, kuid on liiga üksikasjalik ja ei ole piisavalt kokkuvõtlik. Oleks võinud esile tuua olulisemad punktid ja anda lühema ülevaate. </LM_OUTPUT>\n",
       "\n",
       "</CONVERSATION>\n",
       "\n",
       "This conversation is potentially part of a larger system. The output is used as response from the language model\n",
       "\n",
       "Here is the feedback we got for concise and accurate summary of the text in the conversation:\n",
       "\n",
       "<FEEDBACK>The summary provided is detailed and covers the required information, but it lacks conciseness. To improve the summary and meet the objective of being more concise and accurate, consider the following feedback:\n",
       "\n",
       "1. Focus on key points: Highlight the most crucial information such as the rights of legal and natural persons to apply for university study positions and the guidelines for academic leave participation without exams.\n",
       "2. Use simpler language: Simplify the language used to convey the message more clearly and concisely.\n",
       "3. Remove unnecessary details: Eliminate any additional explanations or examples that are not essential to the core message to make the summary more concise.</FEEDBACK>\n",
       "\n",
       ")"
      ]
     },
     "execution_count": 21,
     "metadata": {},
     "output_type": "execute_result"
    }
   ],
   "source": [
    "answer"
   ]
  },
  {
   "cell_type": "code",
   "execution_count": 23,
   "id": "fe841226",
   "metadata": {},
   "outputs": [
    {
     "name": "stdout",
     "output_type": "stream",
     "text": [
      "- Juriidilistel ja füüsilistel isikutel on õigus taotleda ülikoolis õppekohtade avamist omavahendite arvel.\n",
      "- Õppekohtade täitmisel lähtutakse seaduse §-s 13 2 sätestatust.\n",
      "- Akadeemilisel puhkusel osalemine lubatud, kuid eksameid ja arvestusi ei tohi sooritada.\n"
     ]
    }
   ],
   "source": [
    "print(answer.value)"
   ]
  },
  {
   "cell_type": "code",
   "execution_count": 24,
   "id": "8623227e",
   "metadata": {},
   "outputs": [],
   "source": [
    "answer2 = model(question)"
   ]
  },
  {
   "cell_type": "code",
   "execution_count": 26,
   "id": "4bfe3f21",
   "metadata": {},
   "outputs": [
    {
     "name": "stdout",
     "output_type": "stream",
     "text": [
      "- Juriidilistel ja füüsilistel isikutel on õigus taotleda ülikoolis õppekohtade avamist omavahendite arvel.\n",
      "- Õppekohtade täitmisel lähtutakse seaduse §-s 13 2 sätestatust.\n",
      "- Akadeemilisel puhkusel õppetöös osalemine on lubatud, kuid eksameid ja arvestusi ei tohi sooritada.\n"
     ]
    }
   ],
   "source": [
    "print(answer2.value)"
   ]
  },
  {
   "cell_type": "code",
   "execution_count": 33,
   "id": "4e3c4043",
   "metadata": {},
   "outputs": [
    {
     "data": {
      "text/plain": [
       "<generator object Module.named_parameters at 0x00000288B4E2ED60>"
      ]
     },
     "execution_count": 33,
     "metadata": {},
     "output_type": "execute_result"
    }
   ],
   "source": [
    "model."
   ]
  },
  {
   "cell_type": "code",
   "execution_count": null,
   "id": "3cf9f349",
   "metadata": {},
   "outputs": [],
   "source": []
  }
 ],
 "metadata": {
  "kernelspec": {
   "display_name": "Python 3 (ipykernel)",
   "language": "python",
   "name": "python3"
  },
  "language_info": {
   "codemirror_mode": {
    "name": "ipython",
    "version": 3
   },
   "file_extension": ".py",
   "mimetype": "text/x-python",
   "name": "python",
   "nbconvert_exporter": "python",
   "pygments_lexer": "ipython3",
   "version": "3.9.12"
  }
 },
 "nbformat": 4,
 "nbformat_minor": 5
}
