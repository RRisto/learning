{
 "cells": [
  {
   "cell_type": "code",
   "execution_count": 3,
   "id": "d8e18ecd-1585-4a7b-abe1-5ad16705e784",
   "metadata": {
    "pycharm": {
     "name": "#%%\n"
    }
   },
   "outputs": [
    {
     "name": "stderr",
     "output_type": "stream",
     "text": [
      "/tmp/ipykernel_273/513349570.py:13: FutureWarning: Passing a negative integer is deprecated in version 1.0 and will not be supported in future version. Instead, use None to not limit the column width.\n",
      "  pd.set_option('display.max_colwidth', -1)\n"
     ]
    }
   ],
   "source": [
    "import os\n",
    "import openai\n",
    "from llama_index import Document\n",
    "from llama_index import SimpleDirectoryReader\n",
    "from llama_index import VectorStoreIndex\n",
    "from llama_index import ServiceContext\n",
    "\n",
    "from llama_index.llms import OpenAI\n",
    "from configparser import ConfigParser\n",
    "import pandas as pd\n",
    "from trulens_eval import Tru\n",
    "from trulens_eval import TruLlama\n",
    "pd.set_option('display.max_colwidth', -1)"
   ]
  },
  {
   "cell_type": "code",
   "execution_count": null,
   "id": "980f0932-fe8e-4b43-a582-d0911af23587",
   "metadata": {
    "pycharm": {
     "name": "#%%\n"
    }
   },
   "outputs": [],
   "source": [
    "# ! pip install openai"
   ]
  },
  {
   "cell_type": "code",
   "execution_count": null,
   "id": "c28cc027-6737-4d81-ae19-880b6aaf9c0e",
   "metadata": {
    "pycharm": {
     "name": "#%%\n"
    }
   },
   "outputs": [],
   "source": [
    "# !pip install llama_index"
   ]
  },
  {
   "cell_type": "code",
   "execution_count": null,
   "id": "d76274ad-d3a8-412e-92c3-a4b2c3381d29",
   "metadata": {
    "pycharm": {
     "name": "#%%\n"
    }
   },
   "outputs": [],
   "source": [
    "# !pip install --upgrade pydantic==1.10.0 typing-extensions==4.5.0"
   ]
  },
  {
   "cell_type": "code",
   "execution_count": null,
   "id": "8eff8f8b-a89a-49ec-8e4e-c2d1cf743768",
   "metadata": {
    "pycharm": {
     "name": "#%%\n"
    }
   },
   "outputs": [],
   "source": [
    "# !pip install pypdf"
   ]
  },
  {
   "cell_type": "code",
   "execution_count": null,
   "id": "20fef4d9-2e7c-4054-a658-3ea4b9aba24d",
   "metadata": {
    "pycharm": {
     "name": "#%%\n"
    }
   },
   "outputs": [],
   "source": [
    "# !pip install trulens_eval"
   ]
  },
  {
   "cell_type": "code",
   "execution_count": null,
   "id": "cbedca0f-b43d-4090-96fc-99db750ef3c8",
   "metadata": {
    "pycharm": {
     "name": "#%%\n"
    }
   },
   "outputs": [],
   "source": [
    "# !pip install protobuf==3.20"
   ]
  },
  {
   "cell_type": "markdown",
   "id": "bafd0911-220b-4d79-916f-1e4b2da9617c",
   "metadata": {
    "pycharm": {
     "name": "#%% md\n"
    }
   },
   "source": [
    "## OpenAI key"
   ]
  },
  {
   "cell_type": "code",
   "execution_count": 4,
   "id": "b6528781-10e0-4a3b-a6ce-603ace793378",
   "metadata": {
    "pycharm": {
     "name": "#%%\n"
    }
   },
   "outputs": [],
   "source": [
    "config=ConfigParser()\n",
    "config.read('conf/conf.ini')\n",
    "openai.api_key = config['openai']['apikey']"
   ]
  },
  {
   "cell_type": "code",
   "execution_count": 5,
   "id": "c286b18e-6a29-43b2-818a-1dd1ec35ba7b",
   "metadata": {
    "pycharm": {
     "name": "#%%\n"
    }
   },
   "outputs": [],
   "source": [
    "os.environ[\"OPENAI_API_KEY\"] = config['openai']['apikey']"
   ]
  },
  {
   "cell_type": "code",
   "execution_count": 6,
   "id": "0fd3fa3f-16f9-4c7e-ad3b-7e3e397c9d10",
   "metadata": {
    "pycharm": {
     "name": "#%%\n"
    }
   },
   "outputs": [
    {
     "name": "stdout",
     "output_type": "stream",
     "text": [
      "✅ In Answer Relevance, input prompt will be set to __record__.main_input or `Select.RecordInput` .\n",
      "✅ In Answer Relevance, input response will be set to __record__.main_output or `Select.RecordOutput` .\n",
      "✅ In Context Relevance, input prompt will be set to __record__.main_input or `Select.RecordInput` .\n",
      "✅ In Context Relevance, input response will be set to __record__.app.query.rets.source_nodes[:].node.text .\n",
      "✅ In Groundedness, input source will be set to __record__.app.query.rets.source_nodes[:].node.text .\n",
      "✅ In Groundedness, input statement will be set to __record__.main_output or `Select.RecordOutput` .\n"
     ]
    }
   ],
   "source": [
    "from src.utils import build_sentence_window_index\n",
    "from src.utils import get_prebuilt_trulens_recorder\n",
    "from src.utils import get_sentence_window_query_engine"
   ]
  },
  {
   "cell_type": "markdown",
   "id": "bfb8f048-a966-4b00-900b-53912da6de12",
   "metadata": {
    "pycharm": {
     "name": "#%% md\n"
    }
   },
   "source": [
    "## Load data"
   ]
  },
  {
   "cell_type": "code",
   "execution_count": 7,
   "id": "a25af902-c12b-4138-812d-3cf2d1137584",
   "metadata": {
    "pycharm": {
     "name": "#%%\n"
    }
   },
   "outputs": [],
   "source": [
    "documents = SimpleDirectoryReader(\n",
    "    input_files=[\"data/raw/Advokatuuriseadus–Riigi Teataja.pdf\"]\n",
    ").load_data()"
   ]
  },
  {
   "cell_type": "code",
   "execution_count": 8,
   "id": "590168ae-f024-4da1-a9b2-d4efb5209e26",
   "metadata": {
    "pycharm": {
     "name": "#%%\n"
    }
   },
   "outputs": [
    {
     "name": "stdout",
     "output_type": "stream",
     "text": [
      "<class 'list'> \n",
      "\n",
      "21 \n",
      "\n",
      "<class 'llama_index.schema.Document'>\n",
      "Doc ID: 09f6ad9a-d0fd-48fe-a298-586032128386\n",
      "Text: 12/4/23, 7:36 PM Advokatuuriseadus–Riigi Teataja\n",
      "https://www.riigiteataja.ee/akt/921782?leiaKehtiv 1/21Väljaandja:\n",
      "Riigikogu Akti liik: seadus Teksti liik: terviktekst Redaktsiooni\n",
      "jõustumise kp: 01.02.2023 Redaktsiooni kehtivuse lõpp: Hetkel kehtiv\n",
      "Avaldamismärge: RT I, 05.05.2022, 5 Advokatuuriseadus Vastu võetud\n",
      "21.03.2001 RT I 2001, 36, 201 ...\n"
     ]
    }
   ],
   "source": [
    "print(type(documents), \"\\n\")\n",
    "print(len(documents), \"\\n\")\n",
    "print(type(documents[0]))\n",
    "print(documents[0])"
   ]
  },
  {
   "cell_type": "markdown",
   "id": "fd116194-d571-407b-8cf7-a34e0793ae47",
   "metadata": {
    "pycharm": {
     "name": "#%% md\n"
    }
   },
   "source": [
    "## RAG pipeline"
   ]
  },
  {
   "cell_type": "code",
   "execution_count": 9,
   "id": "7d145488-88bd-46e2-bfbd-bc8956d68159",
   "metadata": {
    "pycharm": {
     "name": "#%%\n"
    }
   },
   "outputs": [],
   "source": [
    "document = Document(text=\"\\n\\n\".join([doc.text for doc in documents]))"
   ]
  },
  {
   "cell_type": "code",
   "execution_count": 33,
   "id": "8f51bdbd-2640-4e31-9107-fae05f17ef87",
   "metadata": {
    "pycharm": {
     "name": "#%%\n"
    }
   },
   "outputs": [],
   "source": [
    "# llm = OpenAI(model=\"gpt-3.5-turbo\", temperature=0.1)\n",
    "llm = OpenAI(model=\"gpt-4-1106-preview\", temperature=0.1)\n",
    "\n",
    "service_context = ServiceContext.from_defaults(\n",
    "    llm=llm, embed_model=\"local:BAAI/bge-small-en-v1.5\"\n",
    ")\n",
    "index = VectorStoreIndex.from_documents([document],\n",
    "                                        service_context=service_context)"
   ]
  },
  {
   "cell_type": "code",
   "execution_count": 11,
   "id": "22538c34-e006-4cca-b38f-a29d7d2e199f",
   "metadata": {
    "pycharm": {
     "name": "#%%\n"
    }
   },
   "outputs": [],
   "source": [
    "query_engine = index.as_query_engine()"
   ]
  },
  {
   "cell_type": "markdown",
   "id": "a7f94b40-76f8-4bf2-8277-06fe86043261",
   "metadata": {
    "pycharm": {
     "name": "#%% md\n"
    }
   },
   "source": [
    "## Query"
   ]
  },
  {
   "cell_type": "code",
   "execution_count": 40,
   "id": "61dd6b6e-a8c9-4b84-8049-00cb0a77d135",
   "metadata": {
    "pycharm": {
     "name": "#%%\n"
    }
   },
   "outputs": [
    {
     "name": "stdout",
     "output_type": "stream",
     "text": [
      "huggingface/tokenizers: The current process just got forked, after parallelism has already been used. Disabling parallelism to avoid deadlocks...\n",
      "To disable this warning, you can either:\n",
      "\t- Avoid using `tokenizers` before the fork if possible\n",
      "\t- Explicitly set the environment variable TOKENIZERS_PARALLELISM=(true | false)\n",
      "Seaduse eesmärk on reguleerida advokatuuri tegevust, sealhulgas advokaatide kutsealast tegevust, nende kvalifikatsiooni ja liikmelisust advokatuuris ning advokatuuri organite pädevust ja vastutust.\n"
     ]
    }
   ],
   "source": [
    "response = query_engine.query(\n",
    "    \"Mis on seaduse eesmärk? Vasta eesti keeles\"\n",
    ")\n",
    "print(str(response))"
   ]
  },
  {
   "cell_type": "markdown",
   "id": "20f6e562-adc7-4c66-8381-b73d77dd2274",
   "metadata": {
    "pycharm": {
     "name": "#%% md\n"
    }
   },
   "source": [
    "## Eval with TrueLens"
   ]
  },
  {
   "cell_type": "code",
   "execution_count": 16,
   "id": "45b518bf-1f19-4a25-991e-501763254ed2",
   "metadata": {
    "pycharm": {
     "name": "#%%\n"
    }
   },
   "outputs": [
    {
     "name": "stdout",
     "output_type": "stream",
     "text": [
      "Millega tegeleb advokatuur? Vasta eesti keeles\n",
      "Kuidas saadakse advokaadiks? Vasta eesti keeles\n",
      "Mis vahel on vandeadvokaadil ja vandeadvokaadi abil? Vasta eesti keeles\n",
      "Kes teeb järelevalvet advokaadi üle? Vasta eesti keeles\n",
      "Kuidas tasustatakse advokaadi tööd? Vasta eesti keeles\n",
      "Millised organid on advokatuuris? Vasta eesti keeles\n",
      "Millega tegeleb kutsesobivuskomisjon? Vasta eesti keeles\n",
      "Millised on vandeadvokaadi kohustused? Vasta eesti keeles\n",
      "Miilised asjad peab advokaat saladuses hoidma? Vasta eesti keeles\n"
     ]
    }
   ],
   "source": [
    "eval_questions = []\n",
    "with open('data/eval_questions/advokatuuriseadus_eval_questions.txt', 'r') as file:\n",
    "    for line in file:\n",
    "        # Remove newline character and convert to integer\n",
    "        item = line.strip()\n",
    "        print(item)\n",
    "        eval_questions.append(item)"
   ]
  },
  {
   "cell_type": "code",
   "execution_count": 42,
   "id": "3ffd25e8-d94a-49c1-90be-5828a93757ac",
   "metadata": {
    "pycharm": {
     "name": "#%%\n"
    }
   },
   "outputs": [],
   "source": [
    "tru = Tru()\n",
    "\n",
    "tru.reset_database()"
   ]
  },
  {
   "cell_type": "code",
   "execution_count": 43,
   "id": "a99bea1a-b433-46ec-a93e-f9e815deb0b5",
   "metadata": {
    "pycharm": {
     "name": "#%%\n"
    }
   },
   "outputs": [],
   "source": [
    "\n",
    "def get_prebuilt_trulens_recorder(query_engine, app_id):\n",
    "    tru_recorder = TruLlama(\n",
    "        query_engine,\n",
    "        app_id=app_id,\n",
    "        feedbacks=feedbacks\n",
    "        )\n",
    "    return tru_recorder"
   ]
  },
  {
   "cell_type": "code",
   "execution_count": 44,
   "id": "3f3cd93c-26ef-4d7f-9182-c778247cd2b9",
   "metadata": {
    "pycharm": {
     "name": "#%%\n"
    }
   },
   "outputs": [],
   "source": [
    "tru_recorder = get_prebuilt_trulens_recorder(query_engine,\n",
    "                                             app_id=\"Direct Query Engine\")"
   ]
  },
  {
   "cell_type": "code",
   "execution_count": 45,
   "id": "2a315554-9a7f-46a3-9622-6316f4db184f",
   "metadata": {
    "pycharm": {
     "name": "#%%\n"
    }
   },
   "outputs": [],
   "source": [
    "with tru_recorder as recording:\n",
    "    for question in eval_questions:\n",
    "        response = query_engine.query(question)"
   ]
  },
  {
   "cell_type": "code",
   "execution_count": 46,
   "id": "5a749224-cbc8-40e2-ad62-9cde81a0a149",
   "metadata": {
    "pycharm": {
     "name": "#%%\n"
    }
   },
   "outputs": [],
   "source": [
    "records, feedback = tru.get_records_and_feedback(app_ids=[])"
   ]
  },
  {
   "cell_type": "code",
   "execution_count": 53,
   "id": "ccc29dd2-0d9a-4203-aed1-2015859d33cc",
   "metadata": {
    "pycharm": {
     "name": "#%%\n"
    }
   },
   "outputs": [],
   "source": [
    "df_res=records.copy()"
   ]
  },
  {
   "cell_type": "code",
   "execution_count": 54,
   "id": "8acfae37-516b-4f70-864a-364fe0e0ace5",
   "metadata": {
    "pycharm": {
     "name": "#%%\n"
    }
   },
   "outputs": [
    {
     "data": {
      "text/plain": [
       "Index(['app_id', 'app_json', 'type', 'record_id', 'input', 'output', 'tags',\n",
       "       'record_json', 'cost_json', 'perf_json', 'ts', 'Answer Relevance',\n",
       "       'Context Relevance', 'Answer Relevance_calls',\n",
       "       'Context Relevance_calls', 'Groundedness', 'Groundedness_calls',\n",
       "       'latency', 'total_tokens', 'total_cost'],\n",
       "      dtype='object')"
      ]
     },
     "execution_count": 54,
     "metadata": {},
     "output_type": "execute_result"
    }
   ],
   "source": [
    "df_res.columns"
   ]
  },
  {
   "cell_type": "code",
   "execution_count": 55,
   "id": "e62a63a2-938f-4378-92ed-b0c7d2131285",
   "metadata": {
    "pycharm": {
     "name": "#%%\n"
    }
   },
   "outputs": [
    {
     "data": {
      "text/html": [
       "<div>\n",
       "<style scoped>\n",
       "    .dataframe tbody tr th:only-of-type {\n",
       "        vertical-align: middle;\n",
       "    }\n",
       "\n",
       "    .dataframe tbody tr th {\n",
       "        vertical-align: top;\n",
       "    }\n",
       "\n",
       "    .dataframe thead th {\n",
       "        text-align: right;\n",
       "    }\n",
       "</style>\n",
       "<table border=\"1\" class=\"dataframe\">\n",
       "  <thead>\n",
       "    <tr style=\"text-align: right;\">\n",
       "      <th></th>\n",
       "      <th>input</th>\n",
       "      <th>output</th>\n",
       "      <th>Answer Relevance</th>\n",
       "      <th>Context Relevance</th>\n",
       "      <th>Groundedness</th>\n",
       "      <th>total_cost</th>\n",
       "    </tr>\n",
       "  </thead>\n",
       "  <tbody>\n",
       "    <tr>\n",
       "      <th>0</th>\n",
       "      <td>\"Millega tegeleb advokatuur? Vasta eesti keeles\"</td>\n",
       "      <td>\"Advokatuur tegeleb riigi \\u00f5igusabi korraldamise ja osutamisega. Samuti tagab advokatuuri juhatus riigi \\u00f5igusabi katkematu korralduse ja m\\u00f5istliku k\\u00e4ttesaadavuse. Advokatuur tegeleb ka kutsekvalifikatsiooni tunnustamisega v\\u00e4lisriikides tegutsevatele advokaatidele ning vastutab advokaatide tegevuse ja riigi \\u00f5igusabi osutamise arvestuse pidamise eest. Lisaks sellele, advokatuur reguleerib advokaatide tasustamist vastavalt nende teenustele tavap\\u00e4raselt rakendatavale hinnale. Vandeadvokaadid omavad p\\u00e4devust esindada kliente kohtus ja kohtueelses menetluses, koguda t\\u00f5endeid, saada vajalikke andmeid ning osutada erinevaid \\u00f5igusteenuseid vastavalt seadusele.\"</td>\n",
       "      <td>1.0</td>\n",
       "      <td>0.20</td>\n",
       "      <td>NaN</td>\n",
       "      <td>0.003660</td>\n",
       "    </tr>\n",
       "    <tr>\n",
       "      <th>1</th>\n",
       "      <td>\"Kuidas saadakse advokaadiks? Vasta eesti keeles\"</td>\n",
       "      <td>\"Advokaadiks saamiseks tuleb vastata mitmetele n\\u00f5uetele. Esiteks peab isik vastama kohtuniku haridusn\\u00f5uetele v\\u00f5i omama v\\u00e4lisriigis tunnustatud kutsekvalifikatsiooni vastavalt seadusele. Lisaks peab isik valdama eesti keelt nii k\\u00f5nes kui ka kirjas ning omama ausat ja k\\u00f5lbelist k\\u00e4itumist ning vajalikke v\\u00f5imeid ja isiksuseomadusi advokaadit\\u00f6\\u00f6ks. Advokaadiks saamiseks tuleb esitada kirjalik avaldus ja sooritada advokaadieksam. Advokatuuri liikmeks v\\u00f5etakse vastu juhatuse otsusega.\"</td>\n",
       "      <td>1.0</td>\n",
       "      <td>0.85</td>\n",
       "      <td>1.0</td>\n",
       "      <td>0.003489</td>\n",
       "    </tr>\n",
       "    <tr>\n",
       "      <th>2</th>\n",
       "      <td>\"Mis vahel on vandeadvokaadil ja vandeadvokaadi abil? Vasta eesti keeles\"</td>\n",
       "      <td>\"Vandeadvokaadil ja vandeadvokaadi abil on erinevused. Vandeadvokaadiks v\\u00f5ib saada advokatuuri liige, kes on sooritanud vandeadvokaadieksami ja tegutsenud v\\u00e4hemalt kolm aastat vandeadvokaadi abina. Vandeadvokaadi abi on isik, kes on sooritanud vandeadvokaadi abi eksami ja tegutseb patrooni juhtimisel.\"</td>\n",
       "      <td>1.0</td>\n",
       "      <td>0.00</td>\n",
       "      <td>0.5</td>\n",
       "      <td>0.003307</td>\n",
       "    </tr>\n",
       "    <tr>\n",
       "      <th>3</th>\n",
       "      <td>\"Kes teeb j\\u00e4relevalvet advokaadi \\u00fcle? Vasta eesti keeles\"</td>\n",
       "      <td>\"J\\u00e4relevalvet advokaadi \\u00fcle teeb advokatuur.\"</td>\n",
       "      <td>1.0</td>\n",
       "      <td>0.90</td>\n",
       "      <td>0.0</td>\n",
       "      <td>0.003156</td>\n",
       "    </tr>\n",
       "    <tr>\n",
       "      <th>4</th>\n",
       "      <td>\"Kuidas tasustatakse advokaadi t\\u00f6\\u00f6d? Vasta eesti keeles\"</td>\n",
       "      <td>\"Advokaadi t\\u00f6\\u00f6d tasustatakse vastavalt kokkuleppele tema klientidega. Tasu suurus v\\u00f5ib s\\u00f5ltuda mitmest tegurist, sealhulgas advokaadi kogemusest, t\\u00f6\\u00f6mahust, keerukusest ja ajakulust. Advokaadid v\\u00f5ivad kasutada erinevaid tasustamismudeleid, sealhulgas tunditasu, projektip\\u00f5hist tasu v\\u00f5i edukustasu. Tasu suuruse ja tasustamismudeli lepivad advokaat ja klient tavaliselt omavahel kokku enne t\\u00f6\\u00f6 alustamist.\"</td>\n",
       "      <td>1.0</td>\n",
       "      <td>0.00</td>\n",
       "      <td>0.0</td>\n",
       "      <td>0.003481</td>\n",
       "    </tr>\n",
       "    <tr>\n",
       "      <th>5</th>\n",
       "      <td>\"Millised organid on advokatuuris? Vasta eesti keeles\"</td>\n",
       "      <td>\"Advokatuuris on mitmeid organeid, sealhulgas advokatuuri juhatus, aukohus ja advokatuuri organid, mis moodustatakse vastavalt seadusele. Advokatuuri organite \\u00fclesanne on tagada advokatuuri tegevuse korraldamine ja \\u00f5igusaktide t\\u00e4itmine.\"</td>\n",
       "      <td>1.0</td>\n",
       "      <td>0.10</td>\n",
       "      <td>1.0</td>\n",
       "      <td>0.003323</td>\n",
       "    </tr>\n",
       "    <tr>\n",
       "      <th>6</th>\n",
       "      <td>\"Millega tegeleb kutsesobivuskomisjon? Vasta eesti keeles\"</td>\n",
       "      <td>\"Kutsesobivuskomisjon tegeleb advokaatide hindamisega ja nende kutsesobivuse kontrollimisega.\"</td>\n",
       "      <td>0.9</td>\n",
       "      <td>0.50</td>\n",
       "      <td>1.0</td>\n",
       "      <td>0.003247</td>\n",
       "    </tr>\n",
       "    <tr>\n",
       "      <th>7</th>\n",
       "      <td>\"Millised on vandeadvokaadi kohustused? Vasta eesti keeles\"</td>\n",
       "      <td>\"Vandeadvokaadi kohustused h\\u00f5lmavad j\\u00e4rgmist:\\n1. \\u00d5igusabi osutamine: Vandeadvokaat peab pakkuma \\u00f5igusabi ja esindama kliente kohtus ning muudes \\u00f5iguslikes k\\u00fcsimustes.\\n2. Klientide huvide kaitsmine: Vandeadvokaat peab tagama klientide huvide kaitsmise ja tegutsema nende parimates huvides.\\n3. \\u00d5igusn\\u00f5ustamine: Vandeadvokaat peab andma klientidele \\u00f5igusn\\u00f5u erinevates \\u00f5igusvaldkondades.\\n4. Kohtumenetluses esindamine: Vandeadvokaat esindab kliente kohtumenetlustes ning koostab ja esitab nende nimel \\u00f5igusdokumente.\\n5. Lepingu koostamine: Vandeadvokaat aitab klientidel lepinguid koostada ja l\\u00e4bi vaadata, tagades nende \\u00f5igusliku kehtivuse ja kaitse.\\n6. Vaidluste lahendamine: Vandeadvokaat aitab klientidel lahendada \\u00f5iguslikke vaidlusi l\\u00e4bir\\u00e4\\u00e4kimiste, vahenduse v\\u00f5i kohtumenetluse kaudu.\\n7. Eetikakoodeksi j\\u00e4rgimine: Vandeadvokaat peab j\\u00e4rgima advokaadieetikat ja professionaalseid standardeid.\\n8. Klientide konfidentsiaalsuse tagamine: Vandeadvokaat peab hoidma klientide teavet konfidentsiaalsena ja austama advokaadi kliendisaladust.\\nNeed on m\\u00f5ned peamised kohustused, mis on seotud vandeadvokaadi ametiga.\"</td>\n",
       "      <td>1.0</td>\n",
       "      <td>0.00</td>\n",
       "      <td>NaN</td>\n",
       "      <td>0.003880</td>\n",
       "    </tr>\n",
       "    <tr>\n",
       "      <th>8</th>\n",
       "      <td>\"Miilised asjad peab advokaat saladuses hoidma? Vasta eesti keeles\"</td>\n",
       "      <td>\"Advokaat peab saladuses hoidma j\\u00e4relevalve k\\u00e4igus teatavaks saanud andmeid, mis on seadusega kaitstud.\"</td>\n",
       "      <td>1.0</td>\n",
       "      <td>0.50</td>\n",
       "      <td>NaN</td>\n",
       "      <td>0.003258</td>\n",
       "    </tr>\n",
       "  </tbody>\n",
       "</table>\n",
       "</div>"
      ],
      "text/plain": [
       "                                                                       input  \\\n",
       "0  \"Millega tegeleb advokatuur? Vasta eesti keeles\"                            \n",
       "1  \"Kuidas saadakse advokaadiks? Vasta eesti keeles\"                           \n",
       "2  \"Mis vahel on vandeadvokaadil ja vandeadvokaadi abil? Vasta eesti keeles\"   \n",
       "3  \"Kes teeb j\\u00e4relevalvet advokaadi \\u00fcle? Vasta eesti keeles\"         \n",
       "4  \"Kuidas tasustatakse advokaadi t\\u00f6\\u00f6d? Vasta eesti keeles\"          \n",
       "5  \"Millised organid on advokatuuris? Vasta eesti keeles\"                      \n",
       "6  \"Millega tegeleb kutsesobivuskomisjon? Vasta eesti keeles\"                  \n",
       "7  \"Millised on vandeadvokaadi kohustused? Vasta eesti keeles\"                 \n",
       "8  \"Miilised asjad peab advokaat saladuses hoidma? Vasta eesti keeles\"         \n",
       "\n",
       "                                                                                                                                                                                                                                                                                                                                                                                                                                                                                                                                                                                                                                                                                                                                                                                                                                                                                                                                                                                                                                                                                                                                                                                                                                                                          output  \\\n",
       "0  \"Advokatuur tegeleb riigi \\u00f5igusabi korraldamise ja osutamisega. Samuti tagab advokatuuri juhatus riigi \\u00f5igusabi katkematu korralduse ja m\\u00f5istliku k\\u00e4ttesaadavuse. Advokatuur tegeleb ka kutsekvalifikatsiooni tunnustamisega v\\u00e4lisriikides tegutsevatele advokaatidele ning vastutab advokaatide tegevuse ja riigi \\u00f5igusabi osutamise arvestuse pidamise eest. Lisaks sellele, advokatuur reguleerib advokaatide tasustamist vastavalt nende teenustele tavap\\u00e4raselt rakendatavale hinnale. Vandeadvokaadid omavad p\\u00e4devust esindada kliente kohtus ja kohtueelses menetluses, koguda t\\u00f5endeid, saada vajalikke andmeid ning osutada erinevaid \\u00f5igusteenuseid vastavalt seadusele.\"                                                                                                                                                                                                                                                                                                                                                                                                                                                                                                                                           \n",
       "1  \"Advokaadiks saamiseks tuleb vastata mitmetele n\\u00f5uetele. Esiteks peab isik vastama kohtuniku haridusn\\u00f5uetele v\\u00f5i omama v\\u00e4lisriigis tunnustatud kutsekvalifikatsiooni vastavalt seadusele. Lisaks peab isik valdama eesti keelt nii k\\u00f5nes kui ka kirjas ning omama ausat ja k\\u00f5lbelist k\\u00e4itumist ning vajalikke v\\u00f5imeid ja isiksuseomadusi advokaadit\\u00f6\\u00f6ks. Advokaadiks saamiseks tuleb esitada kirjalik avaldus ja sooritada advokaadieksam. Advokatuuri liikmeks v\\u00f5etakse vastu juhatuse otsusega.\"                                                                                                                                                                                                                                                                                                                                                                                                                                                                                                                                                                                                                                                                                                                       \n",
       "2  \"Vandeadvokaadil ja vandeadvokaadi abil on erinevused. Vandeadvokaadiks v\\u00f5ib saada advokatuuri liige, kes on sooritanud vandeadvokaadieksami ja tegutsenud v\\u00e4hemalt kolm aastat vandeadvokaadi abina. Vandeadvokaadi abi on isik, kes on sooritanud vandeadvokaadi abi eksami ja tegutseb patrooni juhtimisel.\"                                                                                                                                                                                                                                                                                                                                                                                                                                                                                                                                                                                                                                                                                                                                                                                                                                                                                                                                                       \n",
       "3  \"J\\u00e4relevalvet advokaadi \\u00fcle teeb advokatuur.\"                                                                                                                                                                                                                                                                                                                                                                                                                                                                                                                                                                                                                                                                                                                                                                                                                                                                                                                                                                                                                                                                                                                                                                                                                         \n",
       "4  \"Advokaadi t\\u00f6\\u00f6d tasustatakse vastavalt kokkuleppele tema klientidega. Tasu suurus v\\u00f5ib s\\u00f5ltuda mitmest tegurist, sealhulgas advokaadi kogemusest, t\\u00f6\\u00f6mahust, keerukusest ja ajakulust. Advokaadid v\\u00f5ivad kasutada erinevaid tasustamismudeleid, sealhulgas tunditasu, projektip\\u00f5hist tasu v\\u00f5i edukustasu. Tasu suuruse ja tasustamismudeli lepivad advokaat ja klient tavaliselt omavahel kokku enne t\\u00f6\\u00f6 alustamist.\"                                                                                                                                                                                                                                                                                                                                                                                                                                                                                                                                                                                                                                                                                                                                                                                                    \n",
       "5  \"Advokatuuris on mitmeid organeid, sealhulgas advokatuuri juhatus, aukohus ja advokatuuri organid, mis moodustatakse vastavalt seadusele. Advokatuuri organite \\u00fclesanne on tagada advokatuuri tegevuse korraldamine ja \\u00f5igusaktide t\\u00e4itmine.\"                                                                                                                                                                                                                                                                                                                                                                                                                                                                                                                                                                                                                                                                                                                                                                                                                                                                                                                                                                                                                    \n",
       "6  \"Kutsesobivuskomisjon tegeleb advokaatide hindamisega ja nende kutsesobivuse kontrollimisega.\"                                                                                                                                                                                                                                                                                                                                                                                                                                                                                                                                                                                                                                                                                                                                                                                                                                                                                                                                                                                                                                                                                                                                                                                  \n",
       "7  \"Vandeadvokaadi kohustused h\\u00f5lmavad j\\u00e4rgmist:\\n1. \\u00d5igusabi osutamine: Vandeadvokaat peab pakkuma \\u00f5igusabi ja esindama kliente kohtus ning muudes \\u00f5iguslikes k\\u00fcsimustes.\\n2. Klientide huvide kaitsmine: Vandeadvokaat peab tagama klientide huvide kaitsmise ja tegutsema nende parimates huvides.\\n3. \\u00d5igusn\\u00f5ustamine: Vandeadvokaat peab andma klientidele \\u00f5igusn\\u00f5u erinevates \\u00f5igusvaldkondades.\\n4. Kohtumenetluses esindamine: Vandeadvokaat esindab kliente kohtumenetlustes ning koostab ja esitab nende nimel \\u00f5igusdokumente.\\n5. Lepingu koostamine: Vandeadvokaat aitab klientidel lepinguid koostada ja l\\u00e4bi vaadata, tagades nende \\u00f5igusliku kehtivuse ja kaitse.\\n6. Vaidluste lahendamine: Vandeadvokaat aitab klientidel lahendada \\u00f5iguslikke vaidlusi l\\u00e4bir\\u00e4\\u00e4kimiste, vahenduse v\\u00f5i kohtumenetluse kaudu.\\n7. Eetikakoodeksi j\\u00e4rgimine: Vandeadvokaat peab j\\u00e4rgima advokaadieetikat ja professionaalseid standardeid.\\n8. Klientide konfidentsiaalsuse tagamine: Vandeadvokaat peab hoidma klientide teavet konfidentsiaalsena ja austama advokaadi kliendisaladust.\\nNeed on m\\u00f5ned peamised kohustused, mis on seotud vandeadvokaadi ametiga.\"   \n",
       "8  \"Advokaat peab saladuses hoidma j\\u00e4relevalve k\\u00e4igus teatavaks saanud andmeid, mis on seadusega kaitstud.\"                                                                                                                                                                                                                                                                                                                                                                                                                                                                                                                                                                                                                                                                                                                                                                                                                                                                                                                                                                                                                                                                                                                                                              \n",
       "\n",
       "   Answer Relevance  Context Relevance  Groundedness  total_cost  \n",
       "0  1.0               0.20              NaN            0.003660    \n",
       "1  1.0               0.85               1.0           0.003489    \n",
       "2  1.0               0.00               0.5           0.003307    \n",
       "3  1.0               0.90               0.0           0.003156    \n",
       "4  1.0               0.00               0.0           0.003481    \n",
       "5  1.0               0.10               1.0           0.003323    \n",
       "6  0.9               0.50               1.0           0.003247    \n",
       "7  1.0               0.00              NaN            0.003880    \n",
       "8  1.0               0.50              NaN            0.003258    "
      ]
     },
     "execution_count": 55,
     "metadata": {},
     "output_type": "execute_result"
    }
   ],
   "source": [
    "df_res[['input','output','Answer Relevance',\n",
    "       'Context Relevance', 'Groundedness', 'total_cost']]"
   ]
  },
  {
   "cell_type": "code",
   "execution_count": 56,
   "id": "384b165d-9331-4ddd-92bb-37ae2a61e3ad",
   "metadata": {
    "pycharm": {
     "name": "#%%\n"
    }
   },
   "outputs": [
    {
     "data": {
      "text/plain": [
       "<AxesSubplot:>"
      ]
     },
     "execution_count": 56,
     "metadata": {},
     "output_type": "execute_result"
    },
    {
     "data": {
      "image/png": "[encoded data removed]",
      "text/plain": [
       "<Figure size 432x288 with 1 Axes>"
      ]
     },
     "metadata": {
      "needs_background": "light"
     },
     "output_type": "display_data"
    }
   ],
   "source": [
    "df_res[['Answer Relevance',\n",
    "       'Context Relevance', 'Groundedness']].mean().plot(kind='barh')"
   ]
  },
  {
   "cell_type": "code",
   "execution_count": 57,
   "id": "56033f60-75b1-445c-8816-ed879b70a7cd",
   "metadata": {
    "pycharm": {
     "name": "#%%\n"
    }
   },
   "outputs": [
    {
     "data": {
      "text/plain": [
       "0.0308"
      ]
     },
     "execution_count": 57,
     "metadata": {},
     "output_type": "execute_result"
    }
   ],
   "source": [
    "df_res.total_cost.sum()"
   ]
  },
  {
   "cell_type": "code",
   "execution_count": 27,
   "id": "03735aa7-fd29-4fd9-a578-50ef64314fb7",
   "metadata": {
    "pycharm": {
     "name": "#%%\n"
    }
   },
   "outputs": [
    {
     "name": "stdout",
     "output_type": "stream",
     "text": [
      "Starting dashboard ...\n",
      "huggingface/tokenizers: The current process just got forked, after parallelism has already been used. Disabling parallelism to avoid deadlocks...\n",
      "To disable this warning, you can either:\n",
      "\t- Avoid using `tokenizers` before the fork if possible\n",
      "\t- Explicitly set the environment variable TOKENIZERS_PARALLELISM=(true | false)\n"
     ]
    },
    {
     "data": {
      "application/vnd.jupyter.widget-view+json": {
       "model_id": "d8ff2153caa54e39bdc89ca50a23e195",
       "version_major": 2,
       "version_minor": 0
      },
      "text/plain": [
       "Accordion(children=(VBox(children=(VBox(children=(Label(value='STDOUT'), Output())), VBox(children=(Label(valu…"
      ]
     },
     "metadata": {},
     "output_type": "display_data"
    },
    {
     "name": "stdout",
     "output_type": "stream",
     "text": [
      "Dashboard started at http://10.38.173.10:8501 .\n"
     ]
    },
    {
     "data": {
      "text/plain": [
       "<Popen: returncode: None args: ['streamlit', 'run', '--server.headless=True'...>"
      ]
     },
     "execution_count": 27,
     "metadata": {},
     "output_type": "execute_result"
    }
   ],
   "source": [
    "# launches on http://localhost:8501/\n",
    "tru.run_dashboard()"
   ]
  },
  {
   "cell_type": "markdown",
   "id": "20358a31-9165-4820-9b52-c9c7ccd83d0c",
   "metadata": {
    "pycharm": {
     "name": "#%% md\n"
    }
   },
   "source": [
    "## Sentece window retrieval"
   ]
  },
  {
   "cell_type": "code",
   "execution_count": 34,
   "id": "5272c2cd-3058-44ba-a707-c88729c4b73b",
   "metadata": {
    "pycharm": {
     "name": "#%%\n"
    }
   },
   "outputs": [],
   "source": [
    "sentence_index = build_sentence_window_index(\n",
    "    document,\n",
    "    llm,\n",
    "    embed_model=\"local:BAAI/bge-small-en-v1.5\",\n",
    "    save_dir=\"sentence_index\"\n",
    ")\n",
    "\n",
    "sentence_window_engine = get_sentence_window_query_engine(sentence_index)"
   ]
  },
  {
   "cell_type": "code",
   "execution_count": 35,
   "id": "c4c598f7-6896-4798-b558-1c04c1edd5bc",
   "metadata": {
    "pycharm": {
     "name": "#%%\n"
    }
   },
   "outputs": [],
   "source": [
    "tru = Tru()\n",
    "\n",
    "tru.reset_database()\n",
    "\n",
    "tru_recorder_sentence_window = get_prebuilt_trulens_recorder(\n",
    "    sentence_window_engine,\n",
    "    app_id = \"Sentence Window Query Engine\"\n",
    ")"
   ]
  },
  {
   "cell_type": "code",
   "execution_count": 36,
   "id": "f796bf7e-d42e-43b8-b6ff-cd73df275d73",
   "metadata": {
    "pycharm": {
     "name": "#%%\n"
    }
   },
   "outputs": [
    {
     "name": "stdout",
     "output_type": "stream",
     "text": [
      "huggingface/tokenizers: The current process just got forked, after parallelism has already been used. Disabling parallelism to avoid deadlocks...\n",
      "To disable this warning, you can either:\n",
      "\t- Avoid using `tokenizers` before the fork if possible\n",
      "\t- Explicitly set the environment variable TOKENIZERS_PARALLELISM=(true | false)\n",
      "Millega tegeleb advokatuur? Vasta eesti keeles\n",
      "Advokatuur tegeleb advokaatide kutsetegevuse korraldamisega, sealhulgas riigi õigusabi osutamise korraldamisega, advokatuuri liikmeks vastuvõtmise tingimuste ja nõuete kehtestamisega, advokatuuri liikmete tegevuse järelevalvega ning advokatuuri liikmetele nimetuste ja emeriitadvokaadi staatuse andmisega.\n",
      "Kuidas saadakse advokaadiks? Vasta eesti keeles\n",
      "Advokaadiks saamiseks tuleb sooritada advokaadieksamid, mis koosnevad vandeadvokaadi abi eksamist ja vandeadvokaadieksamist. Advokaadieksam korraldatakse vajaduse järgi, kuid vähemalt üks kord aastas. Eksami toimumise aja ja koha määrab kutsesobivuskomisjon. Advokaadieksam võib koosneda suulisest ja kirjalikust osast ning selle täpsem korraldus on sätestatud advokatuuri kodukorras.\n",
      "Mis vahel on vandeadvokaadil ja vandeadvokaadi abil? Vasta eesti keeles\n",
      "Vandeadvokaat on isik, kes on läbinud advokatuuri juhatuse poolt määratud protsessi, saanud vandeadvokaadi kutsenimetuse ja andnud vandeadvokaadivande. Vandeadvokaadi abi on tavaliselt vandeadvokaadi poolt palgatud isik, kes aitab vandeadvokaati tema igapäevatöös, kuid ei oma vandeadvokaadi staatust ega ole andnud vandeadvokaadivannet. Vandeadvokaadi abi ei pruugi olla läbinud sama kvalifikatsiooni ja kutseeksameid, mis on nõutud vandeadvokaadiks saamiseks.\n",
      "Kes teeb järelevalvet advokaadi üle? Vasta eesti keeles\n",
      "Advokaadi tegevuse järele valvab advokatuuri juhatus.\n",
      "Kuidas tasustatakse advokaadi tööd? Vasta eesti keeles\n",
      "Advokaadi töö tasustamise kohta antud kontekstis otseselt informatsiooni ei ole. Kontekstis on juttu advokaadieksamist ja tasust, kuid see viitab eksami sooritamise tasule, mitte advokaadi töö tasustamisele. Advokaadi töö tasustamise kohta tuleks vaadata teisi seaduse sätteid või advokaadibüroo kehtestatud tasustamispõhimõtteid.\n",
      "Millised organid on advokatuuris? Vasta eesti keeles\n",
      "Advokatuuri organid on üldkogu, juhatus, esimees, revisjonikomisjon, aukohus ja kutsesobivuskomisjon.\n",
      "Millega tegeleb kutsesobivuskomisjon? Vasta eesti keeles\n",
      "Kutsesobivuskomisjon tegeleb järgmiste ülesannetega:\n",
      "\n",
      "1) Eksamineerib advokatuuri astuda soovijaid ja advokaadikutse taotlejaid.\n",
      "2) Viib läbi sobivustesti välisriigis omandatud kutsekvalifikatsiooni kohta.\n",
      "3) Hindab perioodiliselt või juhatuse ülesandel advokaatide kutsesobivust.\n",
      "4) Viib läbi vestluse isikuga, kes on esitanud avalduse astuda advokatuuri liikmeks.\n",
      "Millised on vandeadvokaadi kohustused? Vasta eesti keeles\n",
      "Vandeadvokaadi kohustused hõlmavad Eesti Vabariigi põhiseaduslikule korrale ustavaks jäämist ning kõikide ülesannete täitmist, milleks vandeadvokaadikutse teda kohustab.\n",
      "Miilised asjad peab advokaat saladuses hoidma? Vasta eesti keeles\n",
      "Advokaat peab saladuses hoidma talle õigusteenust osutades teatavaks saanud andmeid, tema poole õigusteenuse saamiseks pöördumist ja õigusteenuse eest makstud tasu suurust. Kohustus ei ole ajaliselt piiratud ja kehtib ka pärast advokaaditegevuse lõppemist. Kohustus kehtib ka advokaadibüroo töötaja ja advokatuuri töötaja kohta ning selle avaliku teenistuja kohta, kellele on advokaadi kutsesaladus teatavaks saanud teenistuskohustusi täites.\n"
     ]
    }
   ],
   "source": [
    "for question in eval_questions:\n",
    "    with tru_recorder_sentence_window as recording:\n",
    "        response = sentence_window_engine.query(question)\n",
    "        print(question)\n",
    "        print(str(response))"
   ]
  },
  {
   "cell_type": "code",
   "execution_count": 37,
   "id": "694f74d4-5f37-4021-b6b6-c2a432479873",
   "metadata": {
    "pycharm": {
     "name": "#%%\n"
    }
   },
   "outputs": [],
   "source": [
    "records, feedback = tru.get_records_and_feedback(app_ids=[])"
   ]
  },
  {
   "cell_type": "code",
   "execution_count": 41,
   "id": "6bf90e1b-ef57-4d0c-bfb5-f4e368e071b2",
   "metadata": {
    "pycharm": {
     "name": "#%%\n"
    }
   },
   "outputs": [],
   "source": [
    "df_res_sent_wind=records.copy()"
   ]
  },
  {
   "cell_type": "code",
   "execution_count": 42,
   "id": "40e61459-af71-4077-8972-9a0ab3ca1f30",
   "metadata": {
    "pycharm": {
     "name": "#%%\n"
    }
   },
   "outputs": [
    {
     "data": {
      "text/html": [
       "<div>\n",
       "<style scoped>\n",
       "    .dataframe tbody tr th:only-of-type {\n",
       "        vertical-align: middle;\n",
       "    }\n",
       "\n",
       "    .dataframe tbody tr th {\n",
       "        vertical-align: top;\n",
       "    }\n",
       "\n",
       "    .dataframe thead th {\n",
       "        text-align: right;\n",
       "    }\n",
       "</style>\n",
       "<table border=\"1\" class=\"dataframe\">\n",
       "  <thead>\n",
       "    <tr style=\"text-align: right;\">\n",
       "      <th></th>\n",
       "      <th>input</th>\n",
       "      <th>output</th>\n",
       "      <th>Answer Relevance</th>\n",
       "      <th>Context Relevance</th>\n",
       "      <th>Groundedness</th>\n",
       "      <th>total_cost</th>\n",
       "    </tr>\n",
       "  </thead>\n",
       "  <tbody>\n",
       "    <tr>\n",
       "      <th>0</th>\n",
       "      <td>\"Millega tegeleb advokatuur? Vasta eesti keeles\"</td>\n",
       "      <td>\"Advokatuur tegeleb advokaatide kutsetegevuse korraldamisega, sealhulgas riigi \\u00f5igusabi osutamise korraldamisega, advokatuuri liikmeks vastuv\\u00f5tmise tingimuste ja n\\u00f5uete kehtestamisega, advokatuuri liikmete tegevuse j\\u00e4relevalvega ning advokatuuri liikmetele nimetuste ja emeriitadvokaadi staatuse andmisega.\"</td>\n",
       "      <td>1.0</td>\n",
       "      <td>0.1</td>\n",
       "      <td>0.600000</td>\n",
       "      <td>0.01090</td>\n",
       "    </tr>\n",
       "    <tr>\n",
       "      <th>1</th>\n",
       "      <td>\"Kuidas saadakse advokaadiks? Vasta eesti keeles\"</td>\n",
       "      <td>\"Advokaadiks saamiseks tuleb sooritada advokaadieksamid, mis koosnevad vandeadvokaadi abi eksamist ja vandeadvokaadieksamist. Advokaadieksam korraldatakse vajaduse j\\u00e4rgi, kuid v\\u00e4hemalt \\u00fcks kord aastas. Eksami toimumise aja ja koha m\\u00e4\\u00e4rab kutsesobivuskomisjon. Advokaadieksam v\\u00f5ib koosneda suulisest ja kirjalikust osast ning selle t\\u00e4psem korraldus on s\\u00e4testatud advokatuuri kodukorras.\"</td>\n",
       "      <td>1.0</td>\n",
       "      <td>0.4</td>\n",
       "      <td>0.800000</td>\n",
       "      <td>0.01003</td>\n",
       "    </tr>\n",
       "    <tr>\n",
       "      <th>2</th>\n",
       "      <td>\"Mis vahel on vandeadvokaadil ja vandeadvokaadi abil? Vasta eesti keeles\"</td>\n",
       "      <td>\"Vandeadvokaat on isik, kes on l\\u00e4binud advokatuuri juhatuse poolt m\\u00e4\\u00e4ratud protsessi, saanud vandeadvokaadi kutsenimetuse ja andnud vandeadvokaadivande. Vandeadvokaadi abi on tavaliselt vandeadvokaadi poolt palgatud isik, kes aitab vandeadvokaati tema igap\\u00e4evat\\u00f6\\u00f6s, kuid ei oma vandeadvokaadi staatust ega ole andnud vandeadvokaadivannet. Vandeadvokaadi abi ei pruugi olla l\\u00e4binud sama kvalifikatsiooni ja kutseeksameid, mis on n\\u00f5utud vandeadvokaadiks saamiseks.\"</td>\n",
       "      <td>1.0</td>\n",
       "      <td>0.0</td>\n",
       "      <td>0.333333</td>\n",
       "      <td>0.01253</td>\n",
       "    </tr>\n",
       "    <tr>\n",
       "      <th>3</th>\n",
       "      <td>\"Kes teeb j\\u00e4relevalvet advokaadi \\u00fcle? Vasta eesti keeles\"</td>\n",
       "      <td>\"Advokaadi tegevuse j\\u00e4rele valvab advokatuuri juhatus.\"</td>\n",
       "      <td>1.0</td>\n",
       "      <td>0.5</td>\n",
       "      <td>1.000000</td>\n",
       "      <td>0.00854</td>\n",
       "    </tr>\n",
       "    <tr>\n",
       "      <th>4</th>\n",
       "      <td>\"Kuidas tasustatakse advokaadi t\\u00f6\\u00f6d? Vasta eesti keeles\"</td>\n",
       "      <td>\"Advokaadi t\\u00f6\\u00f6 tasustamise kohta antud kontekstis otseselt informatsiooni ei ole. Kontekstis on juttu advokaadieksamist ja tasust, kuid see viitab eksami sooritamise tasule, mitte advokaadi t\\u00f6\\u00f6 tasustamisele. Advokaadi t\\u00f6\\u00f6 tasustamise kohta tuleks vaadata teisi seaduse s\\u00e4tteid v\\u00f5i advokaadib\\u00fcroo kehtestatud tasustamisp\\u00f5him\\u00f5tteid.\"</td>\n",
       "      <td>0.4</td>\n",
       "      <td>0.0</td>\n",
       "      <td>0.000000</td>\n",
       "      <td>0.01002</td>\n",
       "    </tr>\n",
       "    <tr>\n",
       "      <th>5</th>\n",
       "      <td>\"Millised organid on advokatuuris? Vasta eesti keeles\"</td>\n",
       "      <td>\"Advokatuuri organid on \\u00fcldkogu, juhatus, esimees, revisjonikomisjon, aukohus ja kutsesobivuskomisjon.\"</td>\n",
       "      <td>1.0</td>\n",
       "      <td>1.0</td>\n",
       "      <td>1.000000</td>\n",
       "      <td>0.00570</td>\n",
       "    </tr>\n",
       "    <tr>\n",
       "      <th>6</th>\n",
       "      <td>\"Millega tegeleb kutsesobivuskomisjon? Vasta eesti keeles\"</td>\n",
       "      <td>\"Kutsesobivuskomisjon tegeleb j\\u00e4rgmiste \\u00fclesannetega:\\n\\n1) Eksamineerib advokatuuri astuda soovijaid ja advokaadikutse taotlejaid.\\n2) Viib l\\u00e4bi sobivustesti v\\u00e4lisriigis omandatud kutsekvalifikatsiooni kohta.\\n3) Hindab perioodiliselt v\\u00f5i juhatuse \\u00fclesandel advokaatide kutsesobivust.\\n4) Viib l\\u00e4bi vestluse isikuga, kes on esitanud avalduse astuda advokatuuri liikmeks.\"</td>\n",
       "      <td>1.0</td>\n",
       "      <td>0.5</td>\n",
       "      <td>NaN</td>\n",
       "      <td>0.01268</td>\n",
       "    </tr>\n",
       "    <tr>\n",
       "      <th>7</th>\n",
       "      <td>\"Millised on vandeadvokaadi kohustused? Vasta eesti keeles\"</td>\n",
       "      <td>\"Vandeadvokaadi kohustused h\\u00f5lmavad Eesti Vabariigi p\\u00f5hiseaduslikule korrale ustavaks j\\u00e4\\u00e4mist ning k\\u00f5ikide \\u00fclesannete t\\u00e4itmist, milleks vandeadvokaadikutse teda kohustab.\"</td>\n",
       "      <td>1.0</td>\n",
       "      <td>0.1</td>\n",
       "      <td>NaN</td>\n",
       "      <td>0.00728</td>\n",
       "    </tr>\n",
       "    <tr>\n",
       "      <th>8</th>\n",
       "      <td>\"Miilised asjad peab advokaat saladuses hoidma? Vasta eesti keeles\"</td>\n",
       "      <td>\"Advokaat peab saladuses hoidma talle \\u00f5igusteenust osutades teatavaks saanud andmeid, tema poole \\u00f5igusteenuse saamiseks p\\u00f6\\u00f6rdumist ja \\u00f5igusteenuse eest makstud tasu suurust. Kohustus ei ole ajaliselt piiratud ja kehtib ka p\\u00e4rast advokaaditegevuse l\\u00f5ppemist. Kohustus kehtib ka advokaadib\\u00fcroo t\\u00f6\\u00f6taja ja advokatuuri t\\u00f6\\u00f6taja kohta ning selle avaliku teenistuja kohta, kellele on advokaadi kutsesaladus teatavaks saanud teenistuskohustusi t\\u00e4ites.\"</td>\n",
       "      <td>NaN</td>\n",
       "      <td>NaN</td>\n",
       "      <td>NaN</td>\n",
       "      <td>0.01200</td>\n",
       "    </tr>\n",
       "  </tbody>\n",
       "</table>\n",
       "</div>"
      ],
      "text/plain": [
       "                                                                       input  \\\n",
       "0  \"Millega tegeleb advokatuur? Vasta eesti keeles\"                            \n",
       "1  \"Kuidas saadakse advokaadiks? Vasta eesti keeles\"                           \n",
       "2  \"Mis vahel on vandeadvokaadil ja vandeadvokaadi abil? Vasta eesti keeles\"   \n",
       "3  \"Kes teeb j\\u00e4relevalvet advokaadi \\u00fcle? Vasta eesti keeles\"         \n",
       "4  \"Kuidas tasustatakse advokaadi t\\u00f6\\u00f6d? Vasta eesti keeles\"          \n",
       "5  \"Millised organid on advokatuuris? Vasta eesti keeles\"                      \n",
       "6  \"Millega tegeleb kutsesobivuskomisjon? Vasta eesti keeles\"                  \n",
       "7  \"Millised on vandeadvokaadi kohustused? Vasta eesti keeles\"                 \n",
       "8  \"Miilised asjad peab advokaat saladuses hoidma? Vasta eesti keeles\"         \n",
       "\n",
       "                                                                                                                                                                                                                                                                                                                                                                                                                                                                                                                          output  \\\n",
       "0  \"Advokatuur tegeleb advokaatide kutsetegevuse korraldamisega, sealhulgas riigi \\u00f5igusabi osutamise korraldamisega, advokatuuri liikmeks vastuv\\u00f5tmise tingimuste ja n\\u00f5uete kehtestamisega, advokatuuri liikmete tegevuse j\\u00e4relevalvega ning advokatuuri liikmetele nimetuste ja emeriitadvokaadi staatuse andmisega.\"                                                                                                                                                                                         \n",
       "1  \"Advokaadiks saamiseks tuleb sooritada advokaadieksamid, mis koosnevad vandeadvokaadi abi eksamist ja vandeadvokaadieksamist. Advokaadieksam korraldatakse vajaduse j\\u00e4rgi, kuid v\\u00e4hemalt \\u00fcks kord aastas. Eksami toimumise aja ja koha m\\u00e4\\u00e4rab kutsesobivuskomisjon. Advokaadieksam v\\u00f5ib koosneda suulisest ja kirjalikust osast ning selle t\\u00e4psem korraldus on s\\u00e4testatud advokatuuri kodukorras.\"                                                                                      \n",
       "2  \"Vandeadvokaat on isik, kes on l\\u00e4binud advokatuuri juhatuse poolt m\\u00e4\\u00e4ratud protsessi, saanud vandeadvokaadi kutsenimetuse ja andnud vandeadvokaadivande. Vandeadvokaadi abi on tavaliselt vandeadvokaadi poolt palgatud isik, kes aitab vandeadvokaati tema igap\\u00e4evat\\u00f6\\u00f6s, kuid ei oma vandeadvokaadi staatust ega ole andnud vandeadvokaadivannet. Vandeadvokaadi abi ei pruugi olla l\\u00e4binud sama kvalifikatsiooni ja kutseeksameid, mis on n\\u00f5utud vandeadvokaadiks saamiseks.\"         \n",
       "3  \"Advokaadi tegevuse j\\u00e4rele valvab advokatuuri juhatus.\"                                                                                                                                                                                                                                                                                                                                                                                                                                                                    \n",
       "4  \"Advokaadi t\\u00f6\\u00f6 tasustamise kohta antud kontekstis otseselt informatsiooni ei ole. Kontekstis on juttu advokaadieksamist ja tasust, kuid see viitab eksami sooritamise tasule, mitte advokaadi t\\u00f6\\u00f6 tasustamisele. Advokaadi t\\u00f6\\u00f6 tasustamise kohta tuleks vaadata teisi seaduse s\\u00e4tteid v\\u00f5i advokaadib\\u00fcroo kehtestatud tasustamisp\\u00f5him\\u00f5tteid.\"                                                                                                                             \n",
       "5  \"Advokatuuri organid on \\u00fcldkogu, juhatus, esimees, revisjonikomisjon, aukohus ja kutsesobivuskomisjon.\"                                                                                                                                                                                                                                                                                                                                                                                                                    \n",
       "6  \"Kutsesobivuskomisjon tegeleb j\\u00e4rgmiste \\u00fclesannetega:\\n\\n1) Eksamineerib advokatuuri astuda soovijaid ja advokaadikutse taotlejaid.\\n2) Viib l\\u00e4bi sobivustesti v\\u00e4lisriigis omandatud kutsekvalifikatsiooni kohta.\\n3) Hindab perioodiliselt v\\u00f5i juhatuse \\u00fclesandel advokaatide kutsesobivust.\\n4) Viib l\\u00e4bi vestluse isikuga, kes on esitanud avalduse astuda advokatuuri liikmeks.\"                                                                                                         \n",
       "7  \"Vandeadvokaadi kohustused h\\u00f5lmavad Eesti Vabariigi p\\u00f5hiseaduslikule korrale ustavaks j\\u00e4\\u00e4mist ning k\\u00f5ikide \\u00fclesannete t\\u00e4itmist, milleks vandeadvokaadikutse teda kohustab.\"                                                                                                                                                                                                                                                                                                                  \n",
       "8  \"Advokaat peab saladuses hoidma talle \\u00f5igusteenust osutades teatavaks saanud andmeid, tema poole \\u00f5igusteenuse saamiseks p\\u00f6\\u00f6rdumist ja \\u00f5igusteenuse eest makstud tasu suurust. Kohustus ei ole ajaliselt piiratud ja kehtib ka p\\u00e4rast advokaaditegevuse l\\u00f5ppemist. Kohustus kehtib ka advokaadib\\u00fcroo t\\u00f6\\u00f6taja ja advokatuuri t\\u00f6\\u00f6taja kohta ning selle avaliku teenistuja kohta, kellele on advokaadi kutsesaladus teatavaks saanud teenistuskohustusi t\\u00e4ites.\"   \n",
       "\n",
       "   Answer Relevance  Context Relevance  Groundedness  total_cost  \n",
       "0  1.0               0.1                0.600000      0.01090     \n",
       "1  1.0               0.4                0.800000      0.01003     \n",
       "2  1.0               0.0                0.333333      0.01253     \n",
       "3  1.0               0.5                1.000000      0.00854     \n",
       "4  0.4               0.0                0.000000      0.01002     \n",
       "5  1.0               1.0                1.000000      0.00570     \n",
       "6  1.0               0.5               NaN            0.01268     \n",
       "7  1.0               0.1               NaN            0.00728     \n",
       "8 NaN               NaN                NaN            0.01200     "
      ]
     },
     "execution_count": 42,
     "metadata": {},
     "output_type": "execute_result"
    }
   ],
   "source": [
    "df_res_sent_wind[['input','output','Answer Relevance',\n",
    "       'Context Relevance', 'Groundedness', 'total_cost']]"
   ]
  },
  {
   "cell_type": "code",
   "execution_count": 43,
   "id": "f600994c-219b-4178-92c9-74539f99e214",
   "metadata": {
    "pycharm": {
     "name": "#%%\n"
    }
   },
   "outputs": [
    {
     "data": {
      "text/plain": [
       "<AxesSubplot:>"
      ]
     },
     "execution_count": 43,
     "metadata": {},
     "output_type": "execute_result"
    },
    {
     "data": {
      "image/png": "[encoded data removed]",
      "text/plain": [
       "<Figure size 432x288 with 1 Axes>"
      ]
     },
     "metadata": {
      "needs_background": "light"
     },
     "output_type": "display_data"
    }
   ],
   "source": [
    "df_res_sent_wind[['Answer Relevance',\n",
    "       'Context Relevance', 'Groundedness']].mean().plot(kind='barh')"
   ]
  },
  {
   "cell_type": "code",
   "execution_count": 44,
   "id": "ceff8302-2a8a-4fb5-a2b2-60933945e48b",
   "metadata": {
    "pycharm": {
     "name": "#%%\n"
    }
   },
   "outputs": [
    {
     "data": {
      "text/plain": [
       "0.08968"
      ]
     },
     "execution_count": 44,
     "metadata": {},
     "output_type": "execute_result"
    }
   ],
   "source": [
    "df_res_sent_wind.total_cost.sum()"
   ]
  },
  {
   "cell_type": "markdown",
   "id": "8f59569b-d8dd-4ecd-b0fa-797504bec362",
   "metadata": {
    "pycharm": {
     "name": "#%% md\n"
    }
   },
   "source": [
    "## Save"
   ]
  },
  {
   "cell_type": "code",
   "execution_count": 45,
   "id": "dc815bbf-2af4-4367-b5f5-6614544315d5",
   "metadata": {
    "pycharm": {
     "name": "#%%\n"
    }
   },
   "outputs": [
    {
     "data": {
      "text/plain": [
       "pandas.core.frame.DataFrame"
      ]
     },
     "execution_count": 45,
     "metadata": {},
     "output_type": "execute_result"
    }
   ],
   "source": [
    "type(df_res_sent_wind)"
   ]
  },
  {
   "cell_type": "code",
   "execution_count": 47,
   "id": "67585f85-06fd-4fe6-a868-33c95aa9ffdd",
   "metadata": {
    "pycharm": {
     "name": "#%%\n"
    }
   },
   "outputs": [],
   "source": [
    "df_res_sent_wind.to_excel('data/results/advokatuur_sentence_window_retrieval_gpt4.xlsx', index=False)"
   ]
  },
  {
   "cell_type": "code",
   "execution_count": null,
   "id": "c184ee27-c52a-4903-8834-fec38e6b2de7",
   "metadata": {
    "pycharm": {
     "name": "#%%\n"
    }
   },
   "outputs": [],
   "source": []
  }
 ],
 "metadata": {
  "kernelspec": {
   "display_name": "Python 3 (ipykernel)",
   "language": "python",
   "name": "python3"
  },
  "language_info": {
   "codemirror_mode": {
    "name": "ipython",
    "version": 3
   },
   "file_extension": ".py",
   "mimetype": "text/x-python",
   "name": "python",
   "nbconvert_exporter": "python",
   "pygments_lexer": "ipython3",
   "version": "3.9.13"
  }
 },
 "nbformat": 4,
 "nbformat_minor": 5
}