{
 "cells": [
  {
   "cell_type": "markdown",
   "metadata": {
    "id": "wJpXpmjEYC_T",
    "pycharm": {
     "name": "#%% md\n"
    }
   },
   "source": [
    "## Building a GPT\n",
    "\n",
    "Companion notebook to the [Zero To Hero](https://karpathy.ai/zero-to-hero.html) video on GPT."
   ]
  },
  {
   "cell_type": "code",
   "execution_count": 1,
   "metadata": {
    "id": "h5hjCcLDr2WC",
    "pycharm": {
     "name": "#%%\n"
    }
   },
   "outputs": [],
   "source": [
    "# We always start with a dataset to train on. Let's download the tiny shakespeare dataset\n",
    "# !wget https://raw.githubusercontent.com/karpathy/char-rnn/master/data/tinyshakespeare/input.txt"
   ]
  },
  {
   "cell_type": "code",
   "execution_count": 2,
   "metadata": {
    "colab": {
     "base_uri": "https://localhost:8080/"
    },
    "id": "ONOH-lt-kOvO",
    "outputId": "e72ab11b-8afc-43f2-c708-0981456fef6c",
    "pycharm": {
     "name": "#%%\n"
    }
   },
   "outputs": [
    {
     "name": "stdout",
     "output_type": "stream",
     "text": [
      "Requirement already satisfied: sentencepiece in /usr/local/lib/python3.10/dist-packages (0.1.99)\n"
     ]
    }
   ],
   "source": [
    "!pip install sentencepiece"
   ]
  },
  {
   "cell_type": "code",
   "execution_count": 3,
   "metadata": {
    "colab": {
     "base_uri": "https://localhost:8080/"
    },
    "id": "fJaJ_mb3NqIE",
    "outputId": "bbbe3c0a-c559-4bcb-f325-7962877b73e2",
    "pycharm": {
     "name": "#%%\n"
    }
   },
   "outputs": [
    {
     "name": "stdout",
     "output_type": "stream",
     "text": [
      "Requirement already satisfied: pypdf in /usr/local/lib/python3.10/dist-packages (4.1.0)\n"
     ]
    }
   ],
   "source": [
    "!pip install pypdf"
   ]
  },
  {
   "cell_type": "code",
   "execution_count": 4,
   "metadata": {
    "colab": {
     "base_uri": "https://localhost:8080/"
    },
    "id": "5NmUeMMYNzJS",
    "outputId": "e937e2ad-e308-4ae2-de4a-72ec986fa5ea",
    "pycharm": {
     "name": "#%%\n"
    }
   },
   "outputs": [
    {
     "name": "stdout",
     "output_type": "stream",
     "text": [
      "865\n"
     ]
    }
   ],
   "source": [
    "from pypdf import PdfReader\n",
    "\n",
    "# creating a pdf reader object\n",
    "reader = PdfReader('Tõde_ja_õigus_I.pdf')\n",
    "\n",
    "# printing number of pages in pdf file\n",
    "print(len(reader.pages))\n",
    "\n",
    "text=''\n",
    "\n",
    "for page in reader.pages:\n",
    "  # extracting text from page\n",
    "  txt_ = page.extract_text()\n",
    "  text = f'{text} {txt_}'"
   ]
  },
  {
   "cell_type": "code",
   "execution_count": 5,
   "metadata": {
    "colab": {
     "base_uri": "https://localhost:8080/",
     "height": 53
    },
    "id": "7VkcnCWYOMwL",
    "outputId": "3c85426e-bd8a-4ae5-f31e-f48f8c20cd19",
    "pycharm": {
     "name": "#%%\n"
    }
   },
   "outputs": [
    {
     "data": {
      "application/vnd.google.colaboratory.intrinsic+json": {
       "type": "string"
      },
      "text/plain": [
       "' 1Tõde ja õigus I\\nA. H. T ammsaar e\\nExported from Wikisource on 14. märts 2024 2 \\n \\n \\n A. H. T AMMSAARE\\n \\nTÕDE JA ÕIGUS\\nI\\n \\n \\nKIRJASTUS „EESTI RAAMA T“ · T ALLINN 1974\\n \\n\\xa0I\\xa0 · \\xa0II\\xa0 · III · IV · V · VI'"
      ]
     },
     "execution_count": 5,
     "metadata": {},
     "output_type": "execute_result"
    }
   ],
   "source": [
    "text[:200]"
   ]
  },
  {
   "cell_type": "code",
   "execution_count": 6,
   "metadata": {
    "id": "O6medjfRsLD9",
    "pycharm": {
     "name": "#%%\n"
    }
   },
   "outputs": [],
   "source": [
    "# read it in to inspect it\n",
    "# with open('input.txt', 'r', encoding='utf-8') as f:\n",
    "#     text = f.read()"
   ]
  },
  {
   "cell_type": "code",
   "execution_count": 7,
   "metadata": {
    "colab": {
     "base_uri": "https://localhost:8080/"
    },
    "id": "6xWI_VyAsN8F",
    "outputId": "5331ddb4-9fa4-4eab-e76a-8ba8994c1101",
    "pycharm": {
     "name": "#%%\n"
    }
   },
   "outputs": [
    {
     "name": "stdout",
     "output_type": "stream",
     "text": [
      "length of dataset in characters:  1026340\n"
     ]
    }
   ],
   "source": [
    "print(\"length of dataset in characters: \", len(text))"
   ]
  },
  {
   "cell_type": "code",
   "execution_count": 8,
   "metadata": {
    "colab": {
     "base_uri": "https://localhost:8080/"
    },
    "id": "2c5V0FvqseE0",
    "outputId": "9d9f5596-75cd-4f9c-e899-526d49d12c1f",
    "pycharm": {
     "name": "#%%\n"
    }
   },
   "outputs": [
    {
     "name": "stdout",
     "output_type": "stream",
     "text": [
      " 1Tõde ja õigus I\n",
      "A. H. T ammsaar e\n",
      "Exported from Wikisource on 14. märts 2024 2 \n",
      " \n",
      " \n",
      " A. H. T AMMSAARE\n",
      " \n",
      "TÕDE JA ÕIGUS\n",
      "I\n",
      " \n",
      " \n",
      "KIRJASTUS „EESTI RAAMA T“ · T ALLINN 1974\n",
      " \n",
      " I  ·  II  · III · IV · V · VI · VII · VIII · IX · X \n",
      "XI · XII · XIII · XIV · XV · XVI · XVII  · XVIII  ·\n",
      "XIX · XX \n",
      "XXI · XXII  · XXIII  · XXIV  · XXV  · XXVI  · XXVII  ·\n",
      "XXVIII  · XXIX  · XXX  \n",
      "XXXI  · XXXII  · XXXIII  · XXXIV  · XXXV  · XXXVI\n",
      "· XXXVII  · XXXVIII  · XXXIX 3 I\n",
      "See oli läinud aastasaja kolmanda veerandi lõpul. Päike\n",
      "lähenes silmapiirile, seistes sedavõrd madalas, et enam ei\n",
      "ulatunud valgustama ei mäkke ronivat hobust, kes\n",
      "puutelgedega vankrit vedas, ei vankril istuvat noort naist\n",
      "ega ka ligi kolmekümnelist meest, kes kõndis vankri kõrval.\n",
      "Varsti jõudsid teelised mäerinnakul nii kõr gele, et päikeses\n",
      "helendama lõid mehe nägu – laiavõitu, tugevate\n",
      "lõuapäradega, terassilmadega, lühikese, kuid tiheda musta\n",
      "habemega –, naise nukrad silmad, look ja hobuse kikkis\n",
      "kõrvadega pea.\n",
      "„Seal ta ongi, see V argamäe,“ l\n"
     ]
    }
   ],
   "source": [
    "# let's look at the first 1000 characters\n",
    "print(text[:1000])"
   ]
  },
  {
   "cell_type": "code",
   "execution_count": 9,
   "metadata": {
    "colab": {
     "base_uri": "https://localhost:8080/"
    },
    "id": "0e-Rbyr8sfM8",
    "outputId": "eefe5e0e-b515-435b-b1dc-5af6870cd0a3",
    "pycharm": {
     "name": "#%%\n"
    }
   },
   "outputs": [
    {
     "name": "stdout",
     "output_type": "stream",
     "text": [
      "\n",
      " !%'(),-./0123456789:;?ABCDEFGHIJKLMNOPRSTUVWX[]_abcdefghijklmnoprstuvwxy ·ÄÕÖÜäõöüš–’“„…↑✻\n",
      "92\n"
     ]
    }
   ],
   "source": [
    "# here are all the unique characters that occur in this text\n",
    "chars = sorted(list(set(text)))\n",
    "vocab_size = len(chars)\n",
    "print(''.join(chars))\n",
    "print(vocab_size)"
   ]
  },
  {
   "cell_type": "code",
   "execution_count": 10,
   "metadata": {
    "id": "c8Rq3hhylRrN",
    "pycharm": {
     "name": "#%%\n"
    }
   },
   "outputs": [],
   "source": [
    "import sentencepiece as spm"
   ]
  },
  {
   "cell_type": "code",
   "execution_count": 11,
   "metadata": {
    "id": "xgLlDzNrlYjN",
    "pycharm": {
     "name": "#%%\n"
    }
   },
   "outputs": [],
   "source": [
    "with open('text.txt', 'w') as f:\n",
    "  f.write(text)"
   ]
  },
  {
   "cell_type": "code",
   "execution_count": 12,
   "metadata": {
    "id": "0nRsa34sk4I7",
    "pycharm": {
     "name": "#%%\n"
    }
   },
   "outputs": [],
   "source": [
    "vocab_size=1000\n",
    "spm.SentencePieceTrainer.train(input=\"text.txt\", model_prefix='m', vocab_size=vocab_size)"
   ]
  },
  {
   "cell_type": "code",
   "execution_count": 13,
   "metadata": {
    "colab": {
     "base_uri": "https://localhost:8080/"
    },
    "id": "9d8it35Pl7bq",
    "outputId": "9bc2d0c4-ee37-4071-e20f-3979a481fd72",
    "pycharm": {
     "name": "#%%\n"
    }
   },
   "outputs": [
    {
     "name": "stdout",
     "output_type": "stream",
     "text": [
      "m.model  m.vocab  sample_data  text.txt  Tõde_ja_õigus_I.pdf\n"
     ]
    }
   ],
   "source": [
    "!ls"
   ]
  },
  {
   "cell_type": "code",
   "execution_count": 14,
   "metadata": {
    "id": "LqIFX3smmAcd",
    "pycharm": {
     "name": "#%%\n"
    }
   },
   "outputs": [],
   "source": [
    "sp = spm.SentencePieceProcessor(model_file='m.model')"
   ]
  },
  {
   "cell_type": "code",
   "execution_count": 15,
   "metadata": {
    "colab": {
     "base_uri": "https://localhost:8080/"
    },
    "id": "C7w8M3ZvmGqb",
    "outputId": "37df4d58-a7f6-4615-82b0-c65e3db7122b",
    "pycharm": {
     "name": "#%%\n"
    }
   },
   "outputs": [
    {
     "data": {
      "text/plain": [
       "[179, 128]"
      ]
     },
     "execution_count": 15,
     "metadata": {},
     "output_type": "execute_result"
    }
   ],
   "source": [
    "sp.encode('tere')"
   ]
  },
  {
   "cell_type": "code",
   "execution_count": 16,
   "metadata": {
    "colab": {
     "base_uri": "https://localhost:8080/",
     "height": 35
    },
    "id": "aQPAT0UymXfS",
    "outputId": "8f1e46fb-4934-4cdc-9f9a-8746e1641dba",
    "pycharm": {
     "name": "#%%\n"
    }
   },
   "outputs": [
    {
     "data": {
      "application/vnd.google.colaboratory.intrinsic+json": {
       "type": "string"
      },
      "text/plain": [
       "'tere'"
      ]
     },
     "execution_count": 16,
     "metadata": {},
     "output_type": "execute_result"
    }
   ],
   "source": [
    "sp.decode([179, 128])"
   ]
  },
  {
   "cell_type": "code",
   "execution_count": 17,
   "metadata": {
    "colab": {
     "base_uri": "https://localhost:8080/"
    },
    "id": "Yw1LKNCgwjj1",
    "outputId": "ee2aa720-cf9e-4b96-9fb4-0c5b7fd9ff60",
    "pycharm": {
     "name": "#%%\n"
    }
   },
   "outputs": [
    {
     "name": "stdout",
     "output_type": "stream",
     "text": [
      "[115, 12, 12, 4, 10, 135, 128]\n",
      "hii there\n"
     ]
    }
   ],
   "source": [
    "# # create a mapping from characters to integers\n",
    "# stoi = { ch:i for i,ch in enumerate(chars) }\n",
    "# itos = { i:ch for i,ch in enumerate(chars) }\n",
    "# encode = lambda s: [stoi[c] for c in s] # encoder: take a string, output a list of integers\n",
    "# decode = lambda l: ''.join([itos[i] for i in l]) # decoder: take a list of integers, output a string\n",
    "\n",
    "#use sentencepiece tokenizer\n",
    "stoi = { ch:i for i,ch in enumerate(chars) }\n",
    "itos = { i:ch for i,ch in enumerate(chars) }\n",
    "encode = lambda s: sp.encode(s) # encoder: take a string, output a list of integers\n",
    "decode = lambda l: sp.decode(l) # decoder: take a list of integers, output a string\n",
    "\n",
    "print(encode(\"hii there\"))\n",
    "print(decode(encode(\"hii there\")))"
   ]
  },
  {
   "cell_type": "code",
   "execution_count": 18,
   "metadata": {
    "colab": {
     "base_uri": "https://localhost:8080/"
    },
    "id": "YJb0OXPwzvqg",
    "outputId": "01b3937a-6327-4cd1-ca80-e587c11e8971",
    "pycharm": {
     "name": "#%%\n"
    }
   },
   "outputs": [
    {
     "name": "stdout",
     "output_type": "stream",
     "text": [
      "torch.Size([350143]) torch.int64\n",
      "tensor([480, 239,  52,  78,   9, 401,   4, 223, 265,   5, 509,   5,  79,  87,\n",
      "         33,  33,  81, 149,   4,   8, 282,   0,  82, 320,  64,  11,   4,   0,\n",
      "         36,  32,  33,   4,   0, 302,  54,  32,  16,  36,   0,   8,  42, 480,\n",
      "        229,   5, 529,  10,   6,   4, 233, 378, 233, 229,   4, 233, 265,   5,\n",
      "        509,   5,  79, 265, 503, 503, 514, 471, 471, 620, 686,  79,   0, 686,\n",
      "          4, 304, 471,   4,   0, 223,   0, 514,   4, 223, 217, 223, 620, 304,\n",
      "        471, 514, 239,   0, 514,  15, 686, 686, 514, 239, 223,   4, 620, 471,\n",
      "        471, 503, 471,  79, 432,   4,   0,  79, 265, 627, 627, 223, 409, 409,\n",
      "        480, 380, 247, 229,   4, 223,   4,   0,   4, 223, 223,   4,   0,   4,\n",
      "        223, 223, 223,   4,   0,   4, 223, 435,   4,   0,  67,   4,   0,  67,\n",
      "        223,   4,   0,  67, 223, 223,   4,   0,  67, 223, 223, 223,   4,   0,\n",
      "          4, 223, 996,   4,   0,   4, 996,   4, 996, 223,   4,   0,   4, 996,\n",
      "        223, 223,   4,   0,   4, 996, 223, 223, 223,   4,   0,   4, 996, 223,\n",
      "        435,   4,   0,   4, 996, 435,   4,   0,   4, 996, 435, 223,   4,   0,\n",
      "          4, 996, 435, 223, 223,   4,   0,   4, 996, 435, 223, 223, 223,   4,\n",
      "          0,   4, 996, 223, 996,   4,   0,   4, 996, 996,   4, 996, 996, 223,\n",
      "          4,   0,   4, 996, 996, 223, 223,   4,   0,   4, 996, 996, 223, 223,\n",
      "        223,   4,   0,   4, 996, 996, 223, 435,   4,   0,   4, 996, 996, 435,\n",
      "          4,   0,   4, 996, 996, 435, 223,   4,   0,   4, 996, 996, 435, 223,\n",
      "        223,   4,   0,   4, 996, 996, 435, 223, 223, 223,   4,   0,   4, 996,\n",
      "        996, 223, 996,   4,   0,   4, 996, 996, 996,   4, 996, 996, 996, 223,\n",
      "          4,   0,   4, 996, 996, 996, 223, 223,   4,   0,   4, 996, 996, 996,\n",
      "        223, 223, 223,   4,   0,   4, 996, 996, 996, 223, 435,   4,   0,   4,\n",
      "        996, 996, 996, 435,   4,   0,   4, 996, 996, 996, 435, 223,   4,   0,\n",
      "          4, 996, 996, 996, 435, 223, 223,   4,   0,   4, 996, 996, 996, 435,\n",
      "        223, 223, 223,   4,   0,   4, 996, 996, 996, 223, 996,   4, 228,   4,\n",
      "        223, 317,  30, 616, 381,  81,  56, 598,  13, 146, 486,  66,  60,  12,\n",
      "        188, 220,   7,   5, 281, 243,  73, 291,  59,   6, 506, 180,  12,  90,\n",
      "         14,   3, 287, 336, 973,  93,  23,  51,   6,   3,  27, 210,  22,   4,\n",
      "         16,  51,  96,  37,  63, 367,   6, 458,  22, 151,  41,  34,  73, 354,\n",
      "         99, 390, 868,   3, 107, 664,  64,   7,  86, 327, 732,  10, 199,  23,\n",
      "          6,   3,  22, 732,   7, 351, 390, 488,  10, 894, 141,  28,   4,  57,\n",
      "         25, 598,   8, 892,  57,  19, 326,  10,   3, 107, 197,  60,  54, 732,\n",
      "        518,   5,  67, 149,  19,  12, 307,  11,  69, 174, 410,  11, 151,  41,\n",
      "        348, 121,  77,  88,   7,  76, 407,   4,  86,  14,   3,  27, 112, 243,\n",
      "         73,  39,   6,   4, 135,  14, 146,  18, 188,  45, 504, 955,   4, 997,\n",
      "          4,   7, 377,  72,  52,  12,  96,   3, 132,  86,  55,  64, 188,  16,\n",
      "         13,  82,  41,  66, 327,   3, 179,  66,   6,  80,   7,  18, 327,   3,\n",
      "          4,   7, 999,  38,  12,  73,  39,   3,  24,  11,   4,  62, 135,  23,\n",
      "        137,   6,  29, 115, 216,   8,  98,  21,   4, 997,   3, 640, 967,  11,\n",
      "        439,   3, 296,  34,   9, 555, 201,  34,  44,   6, 407,  55, 327, 104,\n",
      "          5,  15, 514,   8, 131,  17,  42,  25,   3,  49,  67, 145,  35, 470,\n",
      "          6, 326,   9, 982,   6, 155,   8,  21, 170, 280, 689,   4, 231, 164,\n",
      "        990, 260,   3, 245,   4,   7, 308, 175, 117,   4,  36, 999,  38,  33,\n",
      "         93,  23,  51,  45, 403,  59,  45,   5,  15, 975, 403,  59,  11,  83,\n",
      "         54,  29,  84,   3, 515,  46,  11, 287,  13,  84, 151,  41,   8, 423,\n",
      "          4, 320,  97,   3, 352,  40,   4, 605, 345,   6, 885,   9, 328,   3,\n",
      "        828,  44,  36,  56,   6,  53, 398,   9,  79, 860,   5, 281, 149,   8,\n",
      "         18,  10, 155,  10,  10,  49, 151,  41, 178,  12,  96,  34,  34, 185,\n",
      "        407,   4,  86,   7, 151,  41,   8, 297,   6,  42, 379,  46,  65, 301,\n",
      "         72,   8, 190, 249,  11,   4, 221,  41,  60,  90,  88,  11, 418,   3,\n",
      "        452,  11,   4, 412,  88,  12,  84, 147,  58, 237,  12,  12, 349, 274,\n",
      "        326, 637,   3,  40, 491,  25,  39,   6,  63,  31,  73,  36, 800,  61,\n",
      "        132,  33, 273,  63, 285,  39,   6,   5, 237,  13,  12,  59, 579,  10,\n",
      "         39,   6,   4, 999,  33,  26, 136,  19,  65, 254, 151,  41,  25,   3,\n",
      "        185, 151,  41,  25,   3,  28,  16,  86,  18,   7, 598, 125,   3,  83,\n",
      "        135,  18,  10, 155,  10,  10,   4,  59,   7,  56,   6,   3, 369,  13,\n",
      "         10, 209,   8,   6,   9, 271, 423, 181,   8,   6,   3,   4,  39, 383,\n",
      "         98,   6, 166, 118, 425,  25,   5, 283,  41,  86,  78,   7, 653,  11,\n",
      "          9,   4, 229,  38,  32,  32,  59,  11,   3, 151,  41,  86,  78, 553,\n",
      "          4,   3, 271, 246, 342, 280,   3,   4,  10, 999,  74,  62, 879,   3,\n",
      "         28,   8, 119, 201, 106,  66, 114,  52,  39,  90,  88,  21,   5,   4,\n",
      "        995,  20, 929, 151,  41,   8, 162,  34,  34, 204,   4, 999,  33,  26,\n",
      "         90,  10,  39,  55, 280,   9, 452, 151,  41, 178,  12, 221,  41,  60,\n",
      "         90,  88,  21, 151,  41,   8, 407,   4,  86,  18,   7,   4,  62, 220,\n",
      "          7, 498,  43,   3, 436,  10,  55, 640, 421,  20,   9, 185, 454,  17,\n",
      "        114, 206, 206,  12,  46, 393,  11, 188, 198, 458,   5, 283, 129,  14,\n",
      "         25,  82,  41,  66,  19, 808,   6, 665, 640, 487,  63, 102,  81,  19,\n",
      "         12, 861,   6, 580,   5,  67,  87, 102,   4,  16,  51, 335,  50,  93,\n",
      "         23,  51,  18,  14,  25,   3,  17, 167,   6, 456, 360,  60,  12,  64,\n",
      "         28,  55,   3,  75,  91,  50,   4,  77, 167, 553, 218,  31,  10,  66,\n",
      "          6,   5, 169,  38,   3, 477])\n"
     ]
    }
   ],
   "source": [
    "# let's now encode the entire text dataset and store it into a torch.Tensor\n",
    "import torch # we use PyTorch: https://pytorch.org\n",
    "data = torch.tensor(encode(text), dtype=torch.long)\n",
    "print(data.shape, data.dtype)\n",
    "print(data[:1000]) # the 1000 characters we looked at earier will to the GPT look like this"
   ]
  },
  {
   "cell_type": "code",
   "execution_count": 19,
   "metadata": {
    "id": "f_WIXqxz0lU5",
    "pycharm": {
     "name": "#%%\n"
    }
   },
   "outputs": [],
   "source": [
    "# Let's now split up the data into train and validation sets\n",
    "n = int(0.9*len(data)) # first 90% will be train, rest val\n",
    "train_data = data[:n]\n",
    "val_data = data[n:]"
   ]
  },
  {
   "cell_type": "code",
   "execution_count": 20,
   "metadata": {
    "colab": {
     "base_uri": "https://localhost:8080/"
    },
    "id": "TD5Bj8Y6IAD4",
    "outputId": "28eae2c7-1f73-4c89-d911-e4035c116e8c",
    "pycharm": {
     "name": "#%%\n"
    }
   },
   "outputs": [
    {
     "data": {
      "text/plain": [
       "tensor([480, 239,  52,  78,   9, 401,   4, 223, 265])"
      ]
     },
     "execution_count": 20,
     "metadata": {},
     "output_type": "execute_result"
    }
   ],
   "source": [
    "block_size = 8\n",
    "train_data[:block_size+1]"
   ]
  },
  {
   "cell_type": "code",
   "execution_count": 21,
   "metadata": {
    "colab": {
     "base_uri": "https://localhost:8080/"
    },
    "id": "9HXDe8vGJCEn",
    "outputId": "deaa542f-a2ad-4c83-fa0e-44598a70f663",
    "pycharm": {
     "name": "#%%\n"
    }
   },
   "outputs": [
    {
     "name": "stdout",
     "output_type": "stream",
     "text": [
      "when input is tensor([480]) the target: 239\n",
      "when input is tensor([480, 239]) the target: 52\n",
      "when input is tensor([480, 239,  52]) the target: 78\n",
      "when input is tensor([480, 239,  52,  78]) the target: 9\n",
      "when input is tensor([480, 239,  52,  78,   9]) the target: 401\n",
      "when input is tensor([480, 239,  52,  78,   9, 401]) the target: 4\n",
      "when input is tensor([480, 239,  52,  78,   9, 401,   4]) the target: 223\n",
      "when input is tensor([480, 239,  52,  78,   9, 401,   4, 223]) the target: 265\n"
     ]
    }
   ],
   "source": [
    "x = train_data[:block_size]\n",
    "y = train_data[1:block_size+1]\n",
    "for t in range(block_size):\n",
    "    context = x[:t+1]\n",
    "    target = y[t]\n",
    "    print(f\"when input is {context} the target: {target}\")"
   ]
  },
  {
   "cell_type": "code",
   "execution_count": 22,
   "metadata": {
    "colab": {
     "base_uri": "https://localhost:8080/"
    },
    "id": "Q3k1Czf7LuA9",
    "outputId": "12207e8a-a0c8-4e44-e52a-c9fe1d982c6c",
    "pycharm": {
     "name": "#%%\n"
    }
   },
   "outputs": [
    {
     "name": "stdout",
     "output_type": "stream",
     "text": [
      "inputs:\n",
      "torch.Size([4, 8])\n",
      "tensor([[ 15,  88,  12, 597, 416,  22, 212,   3],\n",
      "        [ 54,  70,   3,  27, 933, 105,  36,  34],\n",
      "        [370,   6, 238,  20,   9, 639,  16,  20],\n",
      "        [ 35, 201,  45, 216, 344,   9, 137,  25]])\n",
      "targets:\n",
      "torch.Size([4, 8])\n",
      "tensor([[ 88,  12, 597, 416,  22, 212,   3, 159],\n",
      "        [ 70,   3,  27, 933, 105,  36,  34, 186],\n",
      "        [  6, 238,  20,   9, 639,  16,  20,   8],\n",
      "        [201,  45, 216, 344,   9, 137,  25,  26]])\n",
      "----\n",
      "when input is [15] the target: 88\n",
      "when input is [15, 88] the target: 12\n",
      "when input is [15, 88, 12] the target: 597\n",
      "when input is [15, 88, 12, 597] the target: 416\n",
      "when input is [15, 88, 12, 597, 416] the target: 22\n",
      "when input is [15, 88, 12, 597, 416, 22] the target: 212\n",
      "when input is [15, 88, 12, 597, 416, 22, 212] the target: 3\n",
      "when input is [15, 88, 12, 597, 416, 22, 212, 3] the target: 159\n",
      "when input is [54] the target: 70\n",
      "when input is [54, 70] the target: 3\n",
      "when input is [54, 70, 3] the target: 27\n",
      "when input is [54, 70, 3, 27] the target: 933\n",
      "when input is [54, 70, 3, 27, 933] the target: 105\n",
      "when input is [54, 70, 3, 27, 933, 105] the target: 36\n",
      "when input is [54, 70, 3, 27, 933, 105, 36] the target: 34\n",
      "when input is [54, 70, 3, 27, 933, 105, 36, 34] the target: 186\n",
      "when input is [370] the target: 6\n",
      "when input is [370, 6] the target: 238\n",
      "when input is [370, 6, 238] the target: 20\n",
      "when input is [370, 6, 238, 20] the target: 9\n",
      "when input is [370, 6, 238, 20, 9] the target: 639\n",
      "when input is [370, 6, 238, 20, 9, 639] the target: 16\n",
      "when input is [370, 6, 238, 20, 9, 639, 16] the target: 20\n",
      "when input is [370, 6, 238, 20, 9, 639, 16, 20] the target: 8\n",
      "when input is [35] the target: 201\n",
      "when input is [35, 201] the target: 45\n",
      "when input is [35, 201, 45] the target: 216\n",
      "when input is [35, 201, 45, 216] the target: 344\n",
      "when input is [35, 201, 45, 216, 344] the target: 9\n",
      "when input is [35, 201, 45, 216, 344, 9] the target: 137\n",
      "when input is [35, 201, 45, 216, 344, 9, 137] the target: 25\n",
      "when input is [35, 201, 45, 216, 344, 9, 137, 25] the target: 26\n"
     ]
    }
   ],
   "source": [
    "torch.manual_seed(1337)\n",
    "batch_size = 4 # how many independent sequences will we process in parallel?\n",
    "block_size = 8 # what is the maximum context length for predictions?\n",
    "\n",
    "def get_batch(split):\n",
    "    # generate a small batch of data of inputs x and targets y\n",
    "    data = train_data if split == 'train' else val_data\n",
    "    ix = torch.randint(len(data) - block_size, (batch_size,))\n",
    "    x = torch.stack([data[i:i+block_size] for i in ix])\n",
    "    y = torch.stack([data[i+1:i+block_size+1] for i in ix])\n",
    "    return x, y\n",
    "\n",
    "xb, yb = get_batch('train')\n",
    "print('inputs:')\n",
    "print(xb.shape)\n",
    "print(xb)\n",
    "print('targets:')\n",
    "print(yb.shape)\n",
    "print(yb)\n",
    "\n",
    "print('----')\n",
    "\n",
    "for b in range(batch_size): # batch dimension\n",
    "    for t in range(block_size): # time dimension\n",
    "        context = xb[b, :t+1]\n",
    "        target = yb[b,t]\n",
    "        print(f\"when input is {context.tolist()} the target: {target}\")"
   ]
  },
  {
   "cell_type": "code",
   "execution_count": 23,
   "metadata": {
    "colab": {
     "base_uri": "https://localhost:8080/"
    },
    "id": "qpyyAeIzQjlO",
    "outputId": "ba2afd27-4fff-4d5b-8d40-c137b779b447",
    "pycharm": {
     "name": "#%%\n"
    }
   },
   "outputs": [
    {
     "name": "stdout",
     "output_type": "stream",
     "text": [
      "tensor([[ 15,  88,  12, 597, 416,  22, 212,   3],\n",
      "        [ 54,  70,   3,  27, 933, 105,  36,  34],\n",
      "        [370,   6, 238,  20,   9, 639,  16,  20],\n",
      "        [ 35, 201,  45, 216, 344,   9, 137,  25]])\n"
     ]
    }
   ],
   "source": [
    "print(xb) # our input to the transformer"
   ]
  },
  {
   "cell_type": "code",
   "execution_count": 24,
   "metadata": {
    "colab": {
     "base_uri": "https://localhost:8080/"
    },
    "id": "nql_1ER53oCf",
    "outputId": "1f4013f5-24bd-4fd1-ea13-29507bac9509",
    "pycharm": {
     "name": "#%%\n"
    }
   },
   "outputs": [
    {
     "name": "stdout",
     "output_type": "stream",
     "text": [
      "torch.Size([32, 1000])\n",
      "tensor(7.6862, grad_fn=<NllLossBackward0>)\n",
      " ⁇ v kohus kuidagi ki sellest rääkima rinnare naise suur v tundmusdega sõnad?“ suu perenaisej ema naine sisse re luba aru väljamäe külje mida laulu vaatama K hoo ku väljaPre asi sõi palja aja kogu raba panimise jõudis mõnimiseks tegi: naiseeks vastu täis valmis“ kuu Mse mõni tuli magama mitte sauna laua silmapilk hoid et nõnda teine silmapilgu tahtis las taht all oled rõõm kunagi valmis Rava ku suure sõna selge and taga toalik ningpõlve iga naine har Andres haig jällegi Jaagup rätsep hääl vahel tühja pähe\n"
     ]
    }
   ],
   "source": [
    "import torch\n",
    "import torch.nn as nn\n",
    "from torch.nn import functional as F\n",
    "torch.manual_seed(1337)\n",
    "\n",
    "class BigramLanguageModel(nn.Module):\n",
    "\n",
    "    def __init__(self, vocab_size):\n",
    "        super().__init__()\n",
    "        # each token directly reads off the logits for the next token from a lookup table\n",
    "        self.token_embedding_table = nn.Embedding(vocab_size, vocab_size)\n",
    "\n",
    "    def forward(self, idx, targets=None):\n",
    "\n",
    "        # idx and targets are both (B,T) tensor of integers\n",
    "        logits = self.token_embedding_table(idx) # (B,T,C)\n",
    "\n",
    "        if targets is None:\n",
    "            loss = None\n",
    "        else:\n",
    "            B, T, C = logits.shape\n",
    "            logits = logits.view(B*T, C)\n",
    "            targets = targets.view(B*T)\n",
    "            loss = F.cross_entropy(logits, targets)\n",
    "\n",
    "        return logits, loss\n",
    "\n",
    "    def generate(self, idx, max_new_tokens):\n",
    "        # idx is (B, T) array of indices in the current context\n",
    "        for _ in range(max_new_tokens):\n",
    "            # get the predictions\n",
    "            logits, loss = self(idx)\n",
    "            # focus only on the last time step\n",
    "            logits = logits[:, -1, :] # becomes (B, C)\n",
    "            # apply softmax to get probabilities\n",
    "            probs = F.softmax(logits, dim=-1) # (B, C)\n",
    "            # sample from the distribution\n",
    "            idx_next = torch.multinomial(probs, num_samples=1) # (B, 1)\n",
    "            # append sampled index to the running sequence\n",
    "            idx = torch.cat((idx, idx_next), dim=1) # (B, T+1)\n",
    "        return idx\n",
    "\n",
    "m = BigramLanguageModel(vocab_size)\n",
    "logits, loss = m(xb, yb)\n",
    "print(logits.shape)\n",
    "print(loss)\n",
    "\n",
    "print(decode(m.generate(idx = torch.zeros((1, 1), dtype=torch.long), max_new_tokens=100)[0].tolist()))\n"
   ]
  },
  {
   "cell_type": "code",
   "execution_count": 25,
   "metadata": {
    "id": "eTyJ8qAaDdiF",
    "pycharm": {
     "name": "#%%\n"
    }
   },
   "outputs": [],
   "source": [
    "# create a PyTorch optimizer\n",
    "optimizer = torch.optim.AdamW(m.parameters(), lr=1e-3)"
   ]
  },
  {
   "cell_type": "code",
   "execution_count": 26,
   "metadata": {
    "colab": {
     "base_uri": "https://localhost:8080/"
    },
    "id": "Hs4kI8YdEkQj",
    "outputId": "176dcfd8-e654-4da8-8225-e843b4dbfe8d",
    "pycharm": {
     "name": "#%%\n"
    }
   },
   "outputs": [
    {
     "name": "stdout",
     "output_type": "stream",
     "text": [
      "7.357106685638428\n"
     ]
    }
   ],
   "source": [
    "batch_size = 32\n",
    "for steps in range(100): # increase number of steps for good results...\n",
    "\n",
    "    # sample a batch of data\n",
    "    xb, yb = get_batch('train')\n",
    "\n",
    "    # evaluate the loss\n",
    "    logits, loss = m(xb, yb)\n",
    "    optimizer.zero_grad(set_to_none=True)\n",
    "    loss.backward()\n",
    "    optimizer.step()\n",
    "\n",
    "print(loss.item())\n"
   ]
  },
  {
   "cell_type": "code",
   "execution_count": 27,
   "metadata": {
    "colab": {
     "base_uri": "https://localhost:8080/"
    },
    "id": "EcVIDWAZEtjN",
    "outputId": "41515f9c-4311-40b8-90b2-933ff1ac76e7",
    "pycharm": {
     "name": "#%%\n"
    }
   },
   "outputs": [
    {
     "name": "stdout",
     "output_type": "stream",
     "text": [
      " ⁇  võimalik Nõnda kahe kõr enam teisedngundda pa m rinna niisama kirjutajasin nukra pitu M kelle tahtor pähe m nüüd järel pidassu aga Kavi teha olnud ehitavär karju tehtud võõra3 sõnu igaK alla küljeMa jumalaus Ometikoolilgu Kassiaru nut tähele kunagi Jõessaare aita ainult silm9 istu koguva täis äkki sööNolik JaMis pühakirja löö teisepere hästi ei Jõessaare hakkab mehe sul elu ki nukra isa teisi ker alguses südame päeva kurja Karla pisut Andresele esimese mätta võina neistliku a tütre üldse KõikAJlikult mõne Nagu pa leidis kaKüllra o võttis püksi poleks jääna seda kivi poisi öelnud võimalik to su nutar näis mõte läinud raske kee Nagu sõ karja ees käesVri täis kelika hoialguEga tagantad kahju öelnud tammiEksJ vägagi seisis meelde kohtuäär üle sulane Need„ hoid mõni jõu heit ja ühe niisugune ühespõlveNo jumala lõhna kunaAnd minemabj poeg nõr häda Sest tea laskis isekku ühes õieti hammas need jõudis enne neist See“ ahju teisepere sauna päeva teind ühes tahtnud olla jällegi hingemumasSa alla juba parajangMeie heit oskaVõiS püksi kokku sul kui õige kohe läks mehed8 tea emaliku seiseks aja jär annasin üldse seisis enda kel ometi üldse and ükskõik vaid. pane meiesse Ometi poisi vaevavad rohkem küll järele juures teabT soo oska endise soo peabgi kur kur otsa valge võinud toVL h nüüd paljuteäär Jaagupvaka hoo peab katsu „kooli paigal var hobust nõnda Miina palja vaid p rinna teise vastaru mind Karla ema hoiaest Matu poiste tunne kõbJuss Hundipalu jooks lõhnaäiid Hundipalu leidis vähengu hulk pikk mõisamiseli valmis seljakord kelle tundmus lausukoht lahti paigal jälle suuKus lapsed olnud Selle armasta saadikpp rõõmu poeg kuidasü vaeva välja poja käest tütre otsi ⁇  Hundipalu enneEks vasta rohkem haig sest armasta ä võib kõik T õng Oru lõpuks näe enamga niisamaor julge Seeistta rääkima ees noore niisuguse õpeta heina puhasmiseks viimase las KõikSee Sv1 kippusdu pannudheinamaa lange seal uuestiSa Maret poiss eriti otsa nagulik imelik vastu jät kartuliits põle õietigeÜ tulla koera maa pea Tnduskümne veel unusta kahe aida liig kastud ühte mätta teharan hoopis aina las tüdrukulgu o püksi lähe sestmist sündis öelnudar hingerahvaiste hakka Ja Isegi hirmu pani Nõnda käskime risti ehk juurde kohe võta meelde seletaMinamine vaatamaKas2 üksitekas viimaksra kolm o põhjaV kunagi aina A Miina asi minna rukkiha teiste rumal kohus minna saanudtud nad käi oledkambri ühte\n"
     ]
    }
   ],
   "source": [
    "print(decode(m.generate(idx = torch.zeros((1, 1), dtype=torch.long), max_new_tokens=500)[0].tolist()))"
   ]
  },
  {
   "cell_type": "markdown",
   "metadata": {
    "id": "XinV8nmAnmKN",
    "pycharm": {
     "name": "#%% md\n"
    }
   },
   "source": [
    "## The mathematical trick in self-attention"
   ]
  },
  {
   "cell_type": "code",
   "execution_count": 28,
   "metadata": {
    "colab": {
     "base_uri": "https://localhost:8080/"
    },
    "id": "tukiH-NbRBhA",
    "outputId": "444bc374-d6e6-42af-c335-0db6d21a7c70",
    "pycharm": {
     "name": "#%%\n"
    }
   },
   "outputs": [
    {
     "name": "stdout",
     "output_type": "stream",
     "text": [
      "a=\n",
      "tensor([[1.0000, 0.0000, 0.0000],\n",
      "        [0.5000, 0.5000, 0.0000],\n",
      "        [0.3333, 0.3333, 0.3333]])\n",
      "--\n",
      "b=\n",
      "tensor([[2., 7.],\n",
      "        [6., 4.],\n",
      "        [6., 5.]])\n",
      "--\n",
      "c=\n",
      "tensor([[2.0000, 7.0000],\n",
      "        [4.0000, 5.5000],\n",
      "        [4.6667, 5.3333]])\n"
     ]
    }
   ],
   "source": [
    "# toy example illustrating how matrix multiplication can be used for a \"weighted aggregation\"\n",
    "torch.manual_seed(42)\n",
    "a = torch.tril(torch.ones(3, 3))\n",
    "a = a / torch.sum(a, 1, keepdim=True)\n",
    "b = torch.randint(0,10,(3,2)).float()\n",
    "c = a @ b\n",
    "print('a=')\n",
    "print(a)\n",
    "print('--')\n",
    "print('b=')\n",
    "print(b)\n",
    "print('--')\n",
    "print('c=')\n",
    "print(c)"
   ]
  },
  {
   "cell_type": "code",
   "execution_count": 29,
   "metadata": {
    "colab": {
     "base_uri": "https://localhost:8080/"
    },
    "id": "Hs_E24uRE8kr",
    "outputId": "80a0f1e9-bdc7-44ed-b360-d5925701561d",
    "pycharm": {
     "name": "#%%\n"
    }
   },
   "outputs": [
    {
     "data": {
      "text/plain": [
       "torch.Size([4, 8, 2])"
      ]
     },
     "execution_count": 29,
     "metadata": {},
     "output_type": "execute_result"
    }
   ],
   "source": [
    "# consider the following toy example:\n",
    "\n",
    "torch.manual_seed(1337)\n",
    "B,T,C = 4,8,2 # batch, time, channels\n",
    "x = torch.randn(B,T,C)\n",
    "x.shape"
   ]
  },
  {
   "cell_type": "code",
   "execution_count": 30,
   "metadata": {
    "id": "86NuXX0fn7ps",
    "pycharm": {
     "name": "#%%\n"
    }
   },
   "outputs": [],
   "source": [
    "# We want x[b,t] = mean_{i<=t} x[b,i]\n",
    "xbow = torch.zeros((B,T,C))\n",
    "for b in range(B):\n",
    "    for t in range(T):\n",
    "        xprev = x[b,:t+1] # (t,C)\n",
    "        xbow[b,t] = torch.mean(xprev, 0)\n"
   ]
  },
  {
   "cell_type": "code",
   "execution_count": 31,
   "metadata": {
    "colab": {
     "base_uri": "https://localhost:8080/"
    },
    "id": "yhdOAd6-wXkZ",
    "outputId": "1a82d015-43c5-433b-bb07-d89a2638ae19",
    "pycharm": {
     "name": "#%%\n"
    }
   },
   "outputs": [
    {
     "data": {
      "text/plain": [
       "False"
      ]
     },
     "execution_count": 31,
     "metadata": {},
     "output_type": "execute_result"
    }
   ],
   "source": [
    "# version 2: using matrix multiply for a weighted aggregation\n",
    "wei = torch.tril(torch.ones(T, T))\n",
    "wei = wei / wei.sum(1, keepdim=True)\n",
    "xbow2 = wei @ x # (B, T, T) @ (B, T, C) ----> (B, T, C)\n",
    "torch.allclose(xbow, xbow2)"
   ]
  },
  {
   "cell_type": "code",
   "execution_count": 32,
   "metadata": {
    "colab": {
     "base_uri": "https://localhost:8080/"
    },
    "id": "wOURrfG-ysoL",
    "outputId": "41d3ef75-0b11-4022-a2f5-9266255296db",
    "pycharm": {
     "name": "#%%\n"
    }
   },
   "outputs": [
    {
     "data": {
      "text/plain": [
       "False"
      ]
     },
     "execution_count": 32,
     "metadata": {},
     "output_type": "execute_result"
    }
   ],
   "source": [
    "# version 3: use Softmax\n",
    "tril = torch.tril(torch.ones(T, T))\n",
    "wei = torch.zeros((T,T))\n",
    "wei = wei.masked_fill(tril == 0, float('-inf'))\n",
    "wei = F.softmax(wei, dim=-1)\n",
    "xbow3 = wei @ x\n",
    "torch.allclose(xbow, xbow3)\n"
   ]
  },
  {
   "cell_type": "code",
   "execution_count": 33,
   "metadata": {
    "colab": {
     "base_uri": "https://localhost:8080/"
    },
    "id": "EDarxEWIRMKq",
    "outputId": "ec9bc1bf-f4b2-4ca9-e858-1cbbfc6bab11",
    "pycharm": {
     "name": "#%%\n"
    }
   },
   "outputs": [
    {
     "data": {
      "text/plain": [
       "torch.Size([4, 8, 16])"
      ]
     },
     "execution_count": 33,
     "metadata": {},
     "output_type": "execute_result"
    }
   ],
   "source": [
    "# version 4: self-attention!\n",
    "torch.manual_seed(1337)\n",
    "B,T,C = 4,8,32 # batch, time, channels\n",
    "x = torch.randn(B,T,C)\n",
    "\n",
    "# let's see a single Head perform self-attention\n",
    "head_size = 16\n",
    "key = nn.Linear(C, head_size, bias=False)\n",
    "query = nn.Linear(C, head_size, bias=False)\n",
    "value = nn.Linear(C, head_size, bias=False)\n",
    "k = key(x)   # (B, T, 16)\n",
    "q = query(x) # (B, T, 16)\n",
    "wei =  q @ k.transpose(-2, -1) # (B, T, 16) @ (B, 16, T) ---> (B, T, T)\n",
    "\n",
    "tril = torch.tril(torch.ones(T, T))\n",
    "#wei = torch.zeros((T,T))\n",
    "wei = wei.masked_fill(tril == 0, float('-inf'))\n",
    "wei = F.softmax(wei, dim=-1)\n",
    "\n",
    "v = value(x)\n",
    "out = wei @ v\n",
    "#out = wei @ x\n",
    "\n",
    "out.shape"
   ]
  },
  {
   "cell_type": "code",
   "execution_count": 34,
   "metadata": {
    "colab": {
     "base_uri": "https://localhost:8080/"
    },
    "id": "vT1hdtzXCjgL",
    "outputId": "47bf93d1-59d3-41d7-dbda-31b77cf032c7",
    "pycharm": {
     "name": "#%%\n"
    }
   },
   "outputs": [
    {
     "data": {
      "text/plain": [
       "tensor([[1.0000, 0.0000, 0.0000, 0.0000, 0.0000, 0.0000, 0.0000, 0.0000],\n",
       "        [0.1574, 0.8426, 0.0000, 0.0000, 0.0000, 0.0000, 0.0000, 0.0000],\n",
       "        [0.2088, 0.1646, 0.6266, 0.0000, 0.0000, 0.0000, 0.0000, 0.0000],\n",
       "        [0.5792, 0.1187, 0.1889, 0.1131, 0.0000, 0.0000, 0.0000, 0.0000],\n",
       "        [0.0294, 0.1052, 0.0469, 0.0276, 0.7909, 0.0000, 0.0000, 0.0000],\n",
       "        [0.0176, 0.2689, 0.0215, 0.0089, 0.6812, 0.0019, 0.0000, 0.0000],\n",
       "        [0.1691, 0.4066, 0.0438, 0.0416, 0.1048, 0.2012, 0.0329, 0.0000],\n",
       "        [0.0210, 0.0843, 0.0555, 0.2297, 0.0573, 0.0709, 0.2423, 0.2391]],\n",
       "       grad_fn=<SelectBackward0>)"
      ]
     },
     "execution_count": 34,
     "metadata": {},
     "output_type": "execute_result"
    }
   ],
   "source": [
    "wei[0]"
   ]
  },
  {
   "cell_type": "markdown",
   "metadata": {
    "id": "M5CvobiQ0pLr",
    "pycharm": {
     "name": "#%% md\n"
    }
   },
   "source": [
    "Notes:\n",
    "- Attention is a **communication mechanism**. Can be seen as nodes in a directed graph looking at each other and aggregating information with a weighted sum from all nodes that point to them, with data-dependent weights.\n",
    "- There is no notion of space. Attention simply acts over a set of vectors. This is why we need to positionally encode tokens.\n",
    "- Each example across batch dimension is of course processed completely independently and never \"talk\" to each other\n",
    "- In an \"encoder\" attention block just delete the single line that does masking with `tril`, allowing all tokens to communicate. This block here is called a \"decoder\" attention block because it has triangular masking, and is usually used in autoregressive settings, like language modeling.\n",
    "- \"self-attention\" just means that the keys and values are produced from the same source as queries. In \"cross-attention\", the queries still get produced from x, but the keys and values come from some other, external source (e.g. an encoder module)\n",
    "- \"Scaled\" attention additional divides `wei` by 1/sqrt(head_size). This makes it so when input Q,K are unit variance, wei will be unit variance too and Softmax will stay diffuse and not saturate too much. Illustration below"
   ]
  },
  {
   "cell_type": "code",
   "execution_count": 35,
   "metadata": {
    "id": "4SNbLq5z3oBw",
    "pycharm": {
     "name": "#%%\n"
    }
   },
   "outputs": [],
   "source": [
    "k = torch.randn(B,T,head_size)\n",
    "q = torch.randn(B,T,head_size)\n",
    "wei = q @ k.transpose(-2, -1) * head_size**-0.5"
   ]
  },
  {
   "cell_type": "code",
   "execution_count": 36,
   "metadata": {
    "colab": {
     "base_uri": "https://localhost:8080/"
    },
    "id": "Nl6I9n9IRTSo",
    "outputId": "c52fd494-3186-4715-fdea-4b4501e5a13e",
    "pycharm": {
     "name": "#%%\n"
    }
   },
   "outputs": [
    {
     "data": {
      "text/plain": [
       "tensor(1.0449)"
      ]
     },
     "execution_count": 36,
     "metadata": {},
     "output_type": "execute_result"
    }
   ],
   "source": [
    "k.var()"
   ]
  },
  {
   "cell_type": "code",
   "execution_count": 37,
   "metadata": {
    "colab": {
     "base_uri": "https://localhost:8080/"
    },
    "id": "T1tQx7oeRvtc",
    "outputId": "7bb5a2de-93b3-4283-d08b-0b1c937960f7",
    "pycharm": {
     "name": "#%%\n"
    }
   },
   "outputs": [
    {
     "data": {
      "text/plain": [
       "tensor(1.0700)"
      ]
     },
     "execution_count": 37,
     "metadata": {},
     "output_type": "execute_result"
    }
   ],
   "source": [
    "q.var()"
   ]
  },
  {
   "cell_type": "code",
   "execution_count": 38,
   "metadata": {
    "colab": {
     "base_uri": "https://localhost:8080/"
    },
    "id": "MLb_odHU3iKM",
    "outputId": "69e911e7-32e4-4da2-9373-3ebaf2ffd113",
    "pycharm": {
     "name": "#%%\n"
    }
   },
   "outputs": [
    {
     "data": {
      "text/plain": [
       "tensor(1.0918)"
      ]
     },
     "execution_count": 38,
     "metadata": {},
     "output_type": "execute_result"
    }
   ],
   "source": [
    "wei.var()"
   ]
  },
  {
   "cell_type": "code",
   "execution_count": 39,
   "metadata": {
    "colab": {
     "base_uri": "https://localhost:8080/"
    },
    "id": "JB82yzt44REI",
    "outputId": "0add9994-aff7-4861-d1e9-65831c0f7d27",
    "pycharm": {
     "name": "#%%\n"
    }
   },
   "outputs": [
    {
     "data": {
      "text/plain": [
       "tensor([0.1925, 0.1426, 0.2351, 0.1426, 0.2872])"
      ]
     },
     "execution_count": 39,
     "metadata": {},
     "output_type": "execute_result"
    }
   ],
   "source": [
    "torch.softmax(torch.tensor([0.1, -0.2, 0.3, -0.2, 0.5]), dim=-1)"
   ]
  },
  {
   "cell_type": "code",
   "execution_count": 40,
   "metadata": {
    "colab": {
     "base_uri": "https://localhost:8080/"
    },
    "id": "Mpt8569BB9_f",
    "outputId": "6936b663-c90a-4dcb-c29e-7c855e09b810",
    "pycharm": {
     "name": "#%%\n"
    }
   },
   "outputs": [
    {
     "data": {
      "text/plain": [
       "tensor([0.0326, 0.0030, 0.1615, 0.0030, 0.8000])"
      ]
     },
     "execution_count": 40,
     "metadata": {},
     "output_type": "execute_result"
    }
   ],
   "source": [
    "torch.softmax(torch.tensor([0.1, -0.2, 0.3, -0.2, 0.5])*8, dim=-1) # gets too peaky, converges to one-hot"
   ]
  },
  {
   "cell_type": "code",
   "execution_count": 41,
   "metadata": {
    "colab": {
     "base_uri": "https://localhost:8080/"
    },
    "id": "2Num7sX9CKOH",
    "outputId": "826d3ab5-b10b-41b1-b727-d87ec003e733",
    "pycharm": {
     "name": "#%%\n"
    }
   },
   "outputs": [
    {
     "data": {
      "text/plain": [
       "torch.Size([32, 100])"
      ]
     },
     "execution_count": 41,
     "metadata": {},
     "output_type": "execute_result"
    }
   ],
   "source": [
    "class LayerNorm1d: # (used to be BatchNorm1d)\n",
    "\n",
    "  def __init__(self, dim, eps=1e-5, momentum=0.1):\n",
    "    self.eps = eps\n",
    "    self.gamma = torch.ones(dim)\n",
    "    self.beta = torch.zeros(dim)\n",
    "\n",
    "  def __call__(self, x):\n",
    "    # calculate the forward pass\n",
    "    xmean = x.mean(1, keepdim=True) # batch mean\n",
    "    xvar = x.var(1, keepdim=True) # batch variance\n",
    "    xhat = (x - xmean) / torch.sqrt(xvar + self.eps) # normalize to unit variance\n",
    "    self.out = self.gamma * xhat + self.beta\n",
    "    return self.out\n",
    "\n",
    "  def parameters(self):\n",
    "    return [self.gamma, self.beta]\n",
    "\n",
    "torch.manual_seed(1337)\n",
    "module = LayerNorm1d(100)\n",
    "x = torch.randn(32, 100) # batch size 32 of 100-dimensional vectors\n",
    "x = module(x)\n",
    "x.shape"
   ]
  },
  {
   "cell_type": "code",
   "execution_count": 42,
   "metadata": {
    "colab": {
     "base_uri": "https://localhost:8080/"
    },
    "id": "633T2cmnW1uk",
    "outputId": "0bbf37d1-534e-4632-c919-6a62d24526a6",
    "pycharm": {
     "name": "#%%\n"
    }
   },
   "outputs": [
    {
     "data": {
      "text/plain": [
       "(tensor(0.1469), tensor(0.8803))"
      ]
     },
     "execution_count": 42,
     "metadata": {},
     "output_type": "execute_result"
    }
   ],
   "source": [
    "x[:,0].mean(), x[:,0].std() # mean,std of one feature across all batch inputs"
   ]
  },
  {
   "cell_type": "code",
   "execution_count": 43,
   "metadata": {
    "colab": {
     "base_uri": "https://localhost:8080/"
    },
    "id": "LN9cK9BoXCYb",
    "outputId": "9ca9eb16-6892-4efc-c1cc-3983745339da",
    "pycharm": {
     "name": "#%%\n"
    }
   },
   "outputs": [
    {
     "data": {
      "text/plain": [
       "(tensor(-9.5367e-09), tensor(1.0000))"
      ]
     },
     "execution_count": 43,
     "metadata": {},
     "output_type": "execute_result"
    }
   ],
   "source": [
    "x[0,:].mean(), x[0,:].std() # mean,std of a single input from the batch, of its features"
   ]
  },
  {
   "cell_type": "code",
   "execution_count": 44,
   "metadata": {
    "id": "dRJH6wM_XFfU",
    "pycharm": {
     "name": "#%%\n"
    }
   },
   "outputs": [],
   "source": [
    "# French to English translation example:\n",
    "\n",
    "# <--------- ENCODE ------------------><--------------- DECODE ----------------->\n",
    "# les réseaux de neurones sont géniaux! <START> neural networks are awesome!<END>\n",
    "\n"
   ]
  },
  {
   "cell_type": "markdown",
   "metadata": {
    "id": "ZcvKeBXoZFOY",
    "pycharm": {
     "name": "#%% md\n"
    }
   },
   "source": [
    "### Full finished code, for reference\n",
    "\n",
    "You may want to refer directly to the git repo instead though."
   ]
  },
  {
   "cell_type": "code",
   "execution_count": 45,
   "metadata": {
    "colab": {
     "base_uri": "https://localhost:8080/"
    },
    "id": "hoelkOrFY8bN",
    "outputId": "049ee337-5292-4dbc-efd5-b83190b0b3c4",
    "pycharm": {
     "name": "#%%\n"
    }
   },
   "outputs": [
    {
     "name": "stdout",
     "output_type": "stream",
     "text": [
      "0.213212 M parameters\n",
      "step 0: train loss 4.6622, val loss 4.6603\n",
      "step 100: train loss 2.6666, val loss 2.6684\n",
      "step 200: train loss 2.5070, val loss 2.5203\n",
      "step 300: train loss 2.4285, val loss 2.4469\n",
      "step 400: train loss 2.3727, val loss 2.3895\n",
      "step 500: train loss 2.3162, val loss 2.3342\n",
      "step 600: train loss 2.2711, val loss 2.2779\n",
      "step 700: train loss 2.2218, val loss 2.2341\n",
      "step 800: train loss 2.1843, val loss 2.1882\n",
      "step 900: train loss 2.1356, val loss 2.1618\n",
      "step 1000: train loss 2.1152, val loss 2.1331\n",
      "step 1100: train loss 2.0869, val loss 2.0850\n",
      "step 1200: train loss 2.0587, val loss 2.0621\n",
      "step 1300: train loss 2.0294, val loss 2.0457\n",
      "step 1400: train loss 2.0059, val loss 2.0191\n",
      "step 1500: train loss 1.9866, val loss 2.0009\n",
      "step 1600: train loss 1.9673, val loss 1.9927\n",
      "step 1700: train loss 1.9490, val loss 1.9744\n",
      "step 1800: train loss 1.9256, val loss 1.9482\n",
      "step 1900: train loss 1.9124, val loss 1.9314\n",
      "step 2000: train loss 1.8971, val loss 1.9065\n",
      "step 2100: train loss 1.8886, val loss 1.9211\n",
      "step 2200: train loss 1.8887, val loss 1.9161\n",
      "step 2300: train loss 1.8659, val loss 1.8835\n",
      "step 2400: train loss 1.8388, val loss 1.8770\n",
      "step 2500: train loss 1.8495, val loss 1.8670\n",
      "step 2600: train loss 1.8355, val loss 1.8570\n",
      "step 2700: train loss 1.8255, val loss 1.8548\n",
      "step 2800: train loss 1.8128, val loss 1.8383\n",
      "step 2900: train loss 1.8076, val loss 1.8474\n",
      "step 3000: train loss 1.8106, val loss 1.8368\n",
      "step 3100: train loss 1.8019, val loss 1.8313\n",
      "step 3200: train loss 1.7896, val loss 1.8134\n",
      "step 3300: train loss 1.7715, val loss 1.8093\n",
      "step 3400: train loss 1.7811, val loss 1.8192\n",
      "step 3500: train loss 1.7625, val loss 1.8060\n",
      "step 3600: train loss 1.7590, val loss 1.7985\n",
      "step 3700: train loss 1.7574, val loss 1.7960\n",
      "step 3800: train loss 1.7493, val loss 1.8032\n",
      "step 3900: train loss 1.7481, val loss 1.7951\n",
      "step 4000: train loss 1.7399, val loss 1.7880\n",
      "step 4100: train loss 1.7437, val loss 1.7827\n",
      "step 4200: train loss 1.7311, val loss 1.7774\n",
      "step 4300: train loss 1.7338, val loss 1.7784\n",
      "step 4400: train loss 1.7273, val loss 1.7665\n",
      "step 4500: train loss 1.7177, val loss 1.7509\n",
      "step 4600: train loss 1.7073, val loss 1.7523\n",
      "step 4700: train loss 1.7267, val loss 1.7590\n",
      "step 4800: train loss 1.7075, val loss 1.7387\n",
      "step 4900: train loss 1.7074, val loss 1.7513\n",
      "step 4999: train loss 1.7086, val loss 1.7343\n",
      "\n",
      "surmasta teised pööstruut, ei värasti olen talleks otseks,“ vastab varuti äärja kui käis läbi.\n",
      "Heide varanud rääginis,“ on küsis\n",
      "ütlesid jätta seisata valastud. Aga arvas tulives nii kuuksid surmus aega. Ka nagu veel ajamele ja artu. Sest…“ rääsenud, hea linge avades jutuseks, kui laua\n",
      "vaalt maadastab nagu ööleru ei on lähed, sest rääkitusega, seda eda oma rangevad tehavel meelega\n",
      "võttis V argamäel Joosep. V Ega Juss möödan?“\n",
      "Andresusseks, lugene Liisi jooksuksep või pärastund ja teistel õpeks nuurt vööma.“\n",
      "„Nüüd uues lastenda tõpe panisti,“ ütles ta millegi. „Niis, meie\n",
      "kunut asjanud, kui ta oli kennist\n",
      "on. Juttu ja uusevaiale lapuutasid, sellest asuks, ja miks\n",
      "neid söövad mõtedel päiker ja mereest ise tagasi 446veraseks,“ vastas\n",
      "Jussivad mara kurist mästa. Selleks. Lallis on ütles ja ta võttis, saadiskuma keskideks,\n",
      "„oli ta pimetse ei kui et Andresele\n",
      "hea järdegi selle töövisti läheb?“ küsinis Matu, kui tema, et nad oleks sa asi pärast,\n",
      "pidi kruta läinud tegale isegi põle\n",
      "nagu lahvad Indreku ära, kui see Lirisi ta lumele põle söögipalu üksiis temalt oma\n",
      "surmapangist võiblulkub, sest ka ulasteks,“ vastanud, saunad siis on seal tagama\n",
      "juuresse k:sis oli panivi ta kauna, muud, et oleks altsati ja vastast.\n",
      "Mõmeli Andres jalga elama, et ikka Mill nooral! siis omegi tahadessega.\n",
      "Sauna uuest oma vastu kisti piskatseda.\n",
      "Aga vast teist hammupusa ikka olle, siis\n",
      "kange otsuse, kui minekesonus peisitsepaikum koer kraavis triid.“\n",
      "„Oid siis olis juba talatus Juttane nüüd\n",
      "raskast ja vauat.\n",
      "Aga miks või haunupoe, et Andrekule\n",
      "tööpi puuudu, kuhutsest ja ega silmal ja näga\n",
      "söögagi agaks käest peksanud, nagu on. Pearu on oli\n",
      "purenaist, kus ja juurde. Nüüd pärisent.\n",
      "Aga praegi mitte?“\n",
      "„Küsid kui laulu ja tuleks panevaks, täna ütles läbi nagu peale, kus laidangi, aitsust iluustis panid küll kuuedeks tõdsevad õnem nüüd\n",
      "andnud alga vahel. Mis ei õle oled Põllus, läks küll nuud sellepoole saunal,“ pöis Andres järel, sul\n",
      "kui võin ei makski hakkan olid\n",
      "panenud Andresel, vaid sügame su\n",
      "ütle\n"
     ]
    }
   ],
   "source": [
    "import torch\n",
    "import torch.nn as nn\n",
    "from torch.nn import functional as F\n",
    "\n",
    "# hyperparameters\n",
    "batch_size = 16 # how many independent sequences will we process in parallel?\n",
    "block_size = 32 # what is the maximum context length for predictions?\n",
    "max_iters = 5000\n",
    "eval_interval = 100\n",
    "learning_rate = 1e-3\n",
    "device = 'cuda' if torch.cuda.is_available() else 'cpu'\n",
    "eval_iters = 200\n",
    "n_embd = 64\n",
    "n_head = 4\n",
    "n_layer = 4\n",
    "dropout = 0.0\n",
    "# ------------\n",
    "\n",
    "torch.manual_seed(1337)\n",
    "\n",
    "# wget https://raw.githubusercontent.com/karpathy/char-rnn/master/data/tinyshakespeare/input.txt\n",
    "# with open('input.txt', 'r', encoding='utf-8') as f:\n",
    "#     text = f.read()\n",
    "\n",
    "# here are all the unique characters that occur in this text\n",
    "chars = sorted(list(set(text)))\n",
    "vocab_size = len(chars)\n",
    "# create a mapping from characters to integers\n",
    "stoi = { ch:i for i,ch in enumerate(chars) }\n",
    "itos = { i:ch for i,ch in enumerate(chars) }\n",
    "encode = lambda s: [stoi[c] for c in s] # encoder: take a string, output a list of integers\n",
    "decode = lambda l: ''.join([itos[i] for i in l]) # decoder: take a list of integers, output a string\n",
    "\n",
    "# Train and test splits\n",
    "data = torch.tensor(encode(text), dtype=torch.long)\n",
    "n = int(0.9*len(data)) # first 90% will be train, rest val\n",
    "train_data = data[:n]\n",
    "val_data = data[n:]\n",
    "\n",
    "# data loading\n",
    "def get_batch(split):\n",
    "    # generate a small batch of data of inputs x and targets y\n",
    "    data = train_data if split == 'train' else val_data\n",
    "    ix = torch.randint(len(data) - block_size, (batch_size,))\n",
    "    x = torch.stack([data[i:i+block_size] for i in ix])\n",
    "    y = torch.stack([data[i+1:i+block_size+1] for i in ix])\n",
    "    x, y = x.to(device), y.to(device)\n",
    "    return x, y\n",
    "\n",
    "@torch.no_grad()\n",
    "def estimate_loss():\n",
    "    out = {}\n",
    "    model.eval()\n",
    "    for split in ['train', 'val']:\n",
    "        losses = torch.zeros(eval_iters)\n",
    "        for k in range(eval_iters):\n",
    "            X, Y = get_batch(split)\n",
    "            logits, loss = model(X, Y)\n",
    "            losses[k] = loss.item()\n",
    "        out[split] = losses.mean()\n",
    "    model.train()\n",
    "    return out\n",
    "\n",
    "class Head(nn.Module):\n",
    "    \"\"\" one head of self-attention \"\"\"\n",
    "\n",
    "    def __init__(self, head_size):\n",
    "        super().__init__()\n",
    "        self.key = nn.Linear(n_embd, head_size, bias=False)\n",
    "        self.query = nn.Linear(n_embd, head_size, bias=False)\n",
    "        self.value = nn.Linear(n_embd, head_size, bias=False)\n",
    "        self.register_buffer('tril', torch.tril(torch.ones(block_size, block_size)))\n",
    "\n",
    "        self.dropout = nn.Dropout(dropout)\n",
    "\n",
    "    def forward(self, x):\n",
    "        B,T,C = x.shape\n",
    "        k = self.key(x)   # (B,T,C)\n",
    "        q = self.query(x) # (B,T,C)\n",
    "        # compute attention scores (\"affinities\")\n",
    "        wei = q @ k.transpose(-2,-1) * C**-0.5 # (B, T, C) @ (B, C, T) -> (B, T, T)\n",
    "        wei = wei.masked_fill(self.tril[:T, :T] == 0, float('-inf')) # (B, T, T)\n",
    "        wei = F.softmax(wei, dim=-1) # (B, T, T)\n",
    "        wei = self.dropout(wei)\n",
    "        # perform the weighted aggregation of the values\n",
    "        v = self.value(x) # (B,T,C)\n",
    "        out = wei @ v # (B, T, T) @ (B, T, C) -> (B, T, C)\n",
    "        return out\n",
    "\n",
    "class MultiHeadAttention(nn.Module):\n",
    "    \"\"\" multiple heads of self-attention in parallel \"\"\"\n",
    "\n",
    "    def __init__(self, num_heads, head_size):\n",
    "        super().__init__()\n",
    "        self.heads = nn.ModuleList([Head(head_size) for _ in range(num_heads)])\n",
    "        self.proj = nn.Linear(n_embd, n_embd)\n",
    "        self.dropout = nn.Dropout(dropout)\n",
    "\n",
    "    def forward(self, x):\n",
    "        out = torch.cat([h(x) for h in self.heads], dim=-1)\n",
    "        out = self.dropout(self.proj(out))\n",
    "        return out\n",
    "\n",
    "class FeedFoward(nn.Module):\n",
    "    \"\"\" a simple linear layer followed by a non-linearity \"\"\"\n",
    "\n",
    "    def __init__(self, n_embd):\n",
    "        super().__init__()\n",
    "        self.net = nn.Sequential(\n",
    "            nn.Linear(n_embd, 4 * n_embd),\n",
    "            nn.ReLU(),\n",
    "            nn.Linear(4 * n_embd, n_embd),\n",
    "            nn.Dropout(dropout),\n",
    "        )\n",
    "\n",
    "    def forward(self, x):\n",
    "        return self.net(x)\n",
    "\n",
    "class Block(nn.Module):\n",
    "    \"\"\" Transformer block: communication followed by computation \"\"\"\n",
    "\n",
    "    def __init__(self, n_embd, n_head):\n",
    "        # n_embd: embedding dimension, n_head: the number of heads we'd like\n",
    "        super().__init__()\n",
    "        head_size = n_embd // n_head\n",
    "        self.sa = MultiHeadAttention(n_head, head_size)\n",
    "        self.ffwd = FeedFoward(n_embd)\n",
    "        self.ln1 = nn.LayerNorm(n_embd)\n",
    "        self.ln2 = nn.LayerNorm(n_embd)\n",
    "\n",
    "    def forward(self, x):\n",
    "        x = x + self.sa(self.ln1(x))\n",
    "        x = x + self.ffwd(self.ln2(x))\n",
    "        return x\n",
    "\n",
    "# super simple bigram model\n",
    "class BigramLanguageModel(nn.Module):\n",
    "\n",
    "    def __init__(self):\n",
    "        super().__init__()\n",
    "        # each token directly reads off the logits for the next token from a lookup table\n",
    "        self.token_embedding_table = nn.Embedding(vocab_size, n_embd)\n",
    "        self.position_embedding_table = nn.Embedding(block_size, n_embd)\n",
    "        self.blocks = nn.Sequential(*[Block(n_embd, n_head=n_head) for _ in range(n_layer)])\n",
    "        self.ln_f = nn.LayerNorm(n_embd) # final layer norm\n",
    "        self.lm_head = nn.Linear(n_embd, vocab_size)\n",
    "\n",
    "    def forward(self, idx, targets=None):\n",
    "        B, T = idx.shape\n",
    "\n",
    "        # idx and targets are both (B,T) tensor of integers\n",
    "        tok_emb = self.token_embedding_table(idx) # (B,T,C)\n",
    "        pos_emb = self.position_embedding_table(torch.arange(T, device=device)) # (T,C)\n",
    "        x = tok_emb + pos_emb # (B,T,C)\n",
    "        x = self.blocks(x) # (B,T,C)\n",
    "        x = self.ln_f(x) # (B,T,C)\n",
    "        logits = self.lm_head(x) # (B,T,vocab_size)\n",
    "\n",
    "        if targets is None:\n",
    "            loss = None\n",
    "        else:\n",
    "            B, T, C = logits.shape\n",
    "            logits = logits.view(B*T, C)\n",
    "            targets = targets.view(B*T)\n",
    "            loss = F.cross_entropy(logits, targets)\n",
    "\n",
    "        return logits, loss\n",
    "\n",
    "    def generate(self, idx, max_new_tokens):\n",
    "        # idx is (B, T) array of indices in the current context\n",
    "        for _ in range(max_new_tokens):\n",
    "            # crop idx to the last block_size tokens\n",
    "            idx_cond = idx[:, -block_size:]\n",
    "            # get the predictions\n",
    "            logits, loss = self(idx_cond)\n",
    "            # focus only on the last time step\n",
    "            logits = logits[:, -1, :] # becomes (B, C)\n",
    "            # apply softmax to get probabilities\n",
    "            probs = F.softmax(logits, dim=-1) # (B, C)\n",
    "            # sample from the distribution\n",
    "            idx_next = torch.multinomial(probs, num_samples=1) # (B, 1)\n",
    "            # append sampled index to the running sequence\n",
    "            idx = torch.cat((idx, idx_next), dim=1) # (B, T+1)\n",
    "        return idx\n",
    "\n",
    "model = BigramLanguageModel()\n",
    "m = model.to(device)\n",
    "# print the number of parameters in the model\n",
    "print(sum(p.numel() for p in m.parameters())/1e6, 'M parameters')\n",
    "\n",
    "# create a PyTorch optimizer\n",
    "optimizer = torch.optim.AdamW(model.parameters(), lr=learning_rate)\n",
    "\n",
    "for iter in range(max_iters):\n",
    "\n",
    "    # every once in a while evaluate the loss on train and val sets\n",
    "    if iter % eval_interval == 0 or iter == max_iters - 1:\n",
    "        losses = estimate_loss()\n",
    "        print(f\"step {iter}: train loss {losses['train']:.4f}, val loss {losses['val']:.4f}\")\n",
    "\n",
    "    # sample a batch of data\n",
    "    xb, yb = get_batch('train')\n",
    "\n",
    "    # evaluate the loss\n",
    "    logits, loss = model(xb, yb)\n",
    "    optimizer.zero_grad(set_to_none=True)\n",
    "    loss.backward()\n",
    "    optimizer.step()\n",
    "\n",
    "# generate from the model\n",
    "context = torch.zeros((1, 1), dtype=torch.long, device=device)\n",
    "print(decode(m.generate(context, max_new_tokens=2000)[0].tolist()))\n"
   ]
  },
  {
   "cell_type": "code",
   "execution_count": null,
   "metadata": {
    "id": "r2Hh5eZ7qY4F",
    "pycharm": {
     "name": "#%%\n"
    }
   },
   "outputs": [],
   "source": []
  }
 ],
 "metadata": {
  "accelerator": "GPU",
  "colab": {
   "gpuType": "T4",
   "provenance": []
  },
  "kernelspec": {
   "display_name": "Python 3 (ipykernel)",
   "language": "python",
   "name": "python3"
  },
  "language_info": {
   "codemirror_mode": {
    "name": "ipython",
    "version": 3
   },
   "file_extension": ".py",
   "mimetype": "text/x-python",
   "name": "python",
   "nbconvert_exporter": "python",
   "pygments_lexer": "ipython3",
   "version": "3.9.12"
  }
 },
 "nbformat": 4,
 "nbformat_minor": 1
}
