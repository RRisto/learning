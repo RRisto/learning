{
 "cells": [
  {
   "cell_type": "code",
   "execution_count": 1,
   "id": "f084f491",
   "metadata": {},
   "outputs": [],
   "source": [
    "from fastmcp import Client"
   ]
  },
  {
   "cell_type": "markdown",
   "id": "d9da6171",
   "metadata": {},
   "source": [
    "## Very simple server queries"
   ]
  },
  {
   "cell_type": "code",
   "execution_count": 17,
   "id": "92916c72",
   "metadata": {},
   "outputs": [
    {
     "name": "stdout",
     "output_type": "stream",
     "text": [
      "[TextContent(type='text', text='Tool echo: Hello, MCP!', annotations=None)]\n"
     ]
    }
   ],
   "source": [
    "from fastmcp import Client\n",
    "\n",
    "async def main():\n",
    "    client = Client(\"http://localhost:8000/mcp/\")\n",
    "    async with client:\n",
    "        result = await client.call_tool(\"echo_tool\", {\"message\": \"Hello, MCP!\"})\n",
    "        print(result)\n",
    "\n",
    "await main()"
   ]
  },
  {
   "cell_type": "code",
   "execution_count": 18,
   "id": "e24b9018",
   "metadata": {},
   "outputs": [
    {
     "name": "stdout",
     "output_type": "stream",
     "text": [
      "[TextContent(type='text', text='Sample Note Structure:\\n\\nID: 40329e717d71fe67393cefead7af1d4b\\n\\nMetadata Fields:\\n- path: str = Obsidian Vault/AI\\\\Algorithm governance questions.md\\n- folder: str = AI\\n- title: str = Algorithm governance questions\\n- last_updated: float = 1747735517.90906\\n- tags: str = AI,algorithms,governance,bias,fairness,openness\\n\\nDocument Content (first 200 chars):\\nI believe that the experience of kidney allocation may be able to shed some light:\\n1. Participation by stakeholders\\n2. Transparency measures\\n3. Forecasting of system impacts\\n4. Auditing of what actually happens once the system is turned on\\n\\n\"Voices in the Code: A Story about People, Their Values, and the Algorithm They Made\", David G. Robinson, page 37\\n\\n\\n[[Automated hiring software is mistakenly rejecting millions of viable job candidates]]\\n\\n#AI \\n#algorithms\\n#governance\\n#bias \\n#fairness\\n#openness ', annotations=None)]\n"
     ]
    }
   ],
   "source": [
    "async def main():\n",
    "    client = Client(\"http://localhost:8000/mcp/\")\n",
    "    async with client:\n",
    "        result = await client.call_tool(\"get_sample_note\")\n",
    "        print(result)\n",
    "\n",
    "await main()"
   ]
  },
  {
   "cell_type": "code",
   "execution_count": 4,
   "id": "40e951f7",
   "metadata": {},
   "outputs": [
    {
     "name": "stdout",
     "output_type": "stream",
     "text": [
      "[TextContent(type='text', text='Note ID: c139a9396e82239954f6b259cefb979c\\nTitle: Disorganized complexity\\nFolder: complex_systems\\nSimilarity: 0.5355\\n\\nIn Warren Weaver\\'s view, disorganized complexity results from the particular system having a very large number of parts, say millions of parts, or many more. Though the interactions of the parts in a \"disorganized complexity\" situation can be seen as largely random, the properties of the system as a whole can be understood by using probability and statistical methods. Individual fluctuations cancel out and system can be predictably described.\\n\\n\"Complex Adaptive Systems: An Introduction to Computational Models of Social Life\", John H. Miller,\\xa0Scott E. Page, page 47\\n\\n[[Complex system is greater than sum of its parts]]\\n\\n#complex_system \\n#complexity\\n#society \\n---\\nNote ID: 7c997db5dc86dc68b5892f1f3df50d38\\nTitle: Complexity is outcome of uncertainty minimization\\nFolder: Ecology\\nSimilarity: 0.5158\\n\\nKrakauer, Flack etc. research has shown that complexity and multiscale structures of biological systems is predictable outcome of evolutionary dynamics driven by uncertainty minimzation.\\n\\n\"Worlds Hidden in Plain Sight: The Evolving Idea of Complexity at the Santa Fe Institute, 1984–2019\", David C. Krakauer, page 161\\n\\n[[Organizing search spaces makes search easier]]\\n\\n#complexity \\n#uncertainty\\n#evolution\\n\\n\\n---\\nNote ID: 9343f36fda0e591f9daf865dfd65a9a4\\nTitle: Hierarchies are needed for efficient information processing\\nFolder: complex_systems\\nSimilarity: 0.4996\\n\\nComplex systems can evolve from simple systems only if there are stable intermediate forms. The resulting complex forms will naturally be hierarchic. \\n\\nHierarchies are brilliant systems inventions, not only because they give a system stability and resilience, but also because they reduce the amount of information that any part of the system has to keep track of.\\n\\n\"Thinking in Systems\", Donella H. Meadows, page 73\\n\\n[[Complex system is greater than sum of its parts]]\\n[[Complex systems wide view might need less information than detailed view]]\\n[[Complexity is outcome of uncertainty minimization]]\\n\\n#hierarchy\\n#information_processing\\n#resilience\\n#stability\\n\\n---\\nNote ID: bfb8bbd423da8fe1b9638345bcb4cd15\\nTitle: Random rewiring of the regular network will create a small world network\\nFolder: complex_systems\\nSimilarity: 0.4915\\n\\n\"Watts and Strogatz found that as the number of nodes increases, the effect becomes increasingly pronounced. For example, in a regular network with 1,000 nodes, the average path length is 250; in the same network with 5% of the links randomly rewired, the average path length will typically fall to around 20.\"\\n![[Pasted image 20230625190606.png]]\\nSmall things might have big impacts\\n\\n[[Complex system is greater than sum of its parts]]\\n\"Complexity: A Guided Tour\", Melanie Mithcell, page 495\\n\\n#complex_system \\n#network\\n#randomness\\n\\n---\\nNote ID: f04018282980c1f7024b150bfa51f417\\nTitle: non-transition of fitness\\nFolder: Ecology\\nSimilarity: 0.4838\\n\\nIf genotype A is more fit than B (in experiment involving only those 2 genotypes), and B is more fit than C (n experiment involving only those 2 genotypes), but in three-way competition C might beat A.\\n\\n\"Worlds Hidden in Plain Sight: The Evolving Idea of Complexity at the Santa Fe Institute, 1984–2019\", David C. Krakauer, page 88\\n\\n[[Complex system is greater than sum of its parts]]\\n[[Communication alters interactions in social systems]]\\n\\n#complex_system \\n#fitness\\n#transition\\n\\n\\n---\\nNote ID: 717d2ef4dcf7e1013ef712d1854ac4a7\\nTitle: Systems that settle into equilibrium tend to include negative feedback\\nFolder: complex_systems\\nSimilarity: 0.4751\\n\\nFor example if one company is making profit on some new product, competitors will come and try to wipe out the profit. \\n\\n\\n\"Complex Adaptive Systems: An Introduction to Computational Models of Social Life\", John H. Miller,\\xa0Scott E. Page, page 75\\n\\n[[Complex system is greater than sum of its parts]]\\n[[Systems that generate complexity include positive feedback]]\\n\\n#complex_system \\n#equilibrium\\n#negative_feedback\\n\\n---\\nNote ID: 20ed653483a4f4d06ad20206a4eb37c5\\nTitle: emergence - complex patterns from simple interactions\\nFolder: complex_systems\\nSimilarity: 0.4679\\n\\nEmergence is the way complex systems and patterns arise out of a multiplicity of relatively simple interactions”— Nick Obolensky\\n\\n\"All We Can Save: Truth, Courage, and Solutions for the Climate Crisis\", Ayana Elizabeth Johnson\\xa0(Editor), Katharine K. Wilkinson, page 56, \"What Is Emergent Strategy?\", ADRIENNE MAREE BROWN\\n\\n[[Complex system is greater than sum of its parts]]\\n\\n\\n\\n#emergence \\n#complex_system \\n#relationships \\n#human_interaction \\n---\\nNote ID: fda1fdeeb0234c0f067724dbcfd33fa8\\nTitle: Complex systems wide view might need less information than detailed view\\nFolder: cosmos\\nSimilarity: 0.4629\\n\\n![[Pasted image 20230716200547.png]]\\nIf we know properties of complexity and it is not random, we can easily construct low bit system to reproduce it. It might take more information to generate part of it (we need info which part) and on very small scale it might be random.\\n\\n\"Our Mathematical Universe: My Quest for the Ultimate Nature of Reality\", Max Tegmark, page 341\\n\\n[[inflation]]\\n[[randomness is an illusion]]\\n\\n#randomness \\n#information\\n#encoding\\n\\n---\\nNote ID: 2c8c8f5ba572353efdbe93ff72b29d14\\nTitle: metabolic rate in different organisms is same\\nFolder: Ecology\\nSimilarity: 0.4596\\n\\n![[Pasted image 20240612193526.png]]\\n\\n![[Pasted image 20240612193555.png]]\\nmetabolic rate scales as the 3/4-power of mass over 27 orders of magnitude, from molecular and intracellular levels up to the largest organisms. Similarly, time-scales (such as lifespans and growth rates) and sizes (such as bacterial genome lengths, tree heights and mitochondrial densities) scale with exponents that are typically simple powers of 1/4.\\n\\nScale: The Universal Laws of Growth, Innovation, Sustainability, and the Pace of Life in Organisms, Cities, Economies, and Companies, Geoffrey B. West\\n\\n[[Complexity is outcome of uncertainty minimization]]\\n\\n#metabolism\\n#scale \\n#nonlinear \\n#power_law\\n#complex_system \\n#heart_beat\\n\\n---\\nNote ID: ef5287320174461e429de1b2e6856308\\nTitle: High crime rates might be due to historical accidents\\nFolder: complex_systems\\nSimilarity: 0.4563\\n\\nIt can be shown that even in networks with similar initial distributions of criminals, you can get very different final distributions of criminal behavior: some worlds become crime ridden while others become relatively crime free. This suggests that high crime rates in one area could be an artifact of unfortunate historical accidents rather than some difference in initial criminal behavior.\\n\\n\\n\"Complex Adaptive Systems: An Introduction to Computational Models of Social Life\", John H. Miller,\\xa0Scott E. Page, page 156\\n\\n[[Disorganized complexity]]\\n[[Mistakes allow systems to escape unproductive regions]]\\n\\n#crime_rate\\n#randomness \\n#modelling \\n\\n---', annotations=None)]\n"
     ]
    }
   ],
   "source": [
    "async def main():\n",
    "    client = Client(\"http://localhost:8000/mcp/\")\n",
    "    async with client:\n",
    "        result = await client.call_tool(\"vector_search\", {\"query\": \"complexity\"})\n",
    "        print(result)\n",
    "\n",
    "await main()"
   ]
  },
  {
   "cell_type": "code",
   "execution_count": 5,
   "id": "f01bc545",
   "metadata": {},
   "outputs": [
    {
     "name": "stdout",
     "output_type": "stream",
     "text": [
      "[TextContent(type='text', text='Showing results 1-10 of 12. Use offset=10 to see more.\\n\\n## Algorithm governance questions\\nID: 40329e717d71fe67393cefead7af1d4b\\nCategory: Uncategorized\\nTags: AI,algorithms,governance,bias,fairness,openness\\n\\nPreview: I believe that the experience of kidney allocation may be able to shed some light:\\n1. Participation ...\\n---\\n## Automated hiring software is mistakenly rejecting millions of viable job candidates\\nID: 2ea949c8aef6a2dc251c678b020c7851\\nCategory: Uncategorized\\nTags: AI_hype,AI,ai_hiring,bias,society\\n\\nPreview: \"The study’s authors identify a number of factors blocking people from employment, but say automated...\\n---\\n## C. Clarke’s third law of prediction\\nID: b4cbf197a6f5e47aee89afa711fffb74\\nCategory: Uncategorized\\nTags: prediction,technology\\n\\nPreview: Arthur\\xa0C. Clarke’s third law of prediction is, famously, “Any sufficiently advanced technology is in...\\n---\\n## Can we create tools to augment our empathy\\nID: 585c1a57d10e93f11ead58f1656405ee\\nCategory: Uncategorized\\nTags: meaning,intelligence,AI,AI_hype\\n\\nPreview: \\n“We know how to create tools to augment our intelligence, but can we create tools to augment our em...\\n---\\n## Eetika printsiibib peavad olema seotud sisemiste väärtustega\\nID: aa69ac89dc6df99c1190979c79594188\\nCategory: Uncategorized\\nTags: eetika,AI\\n\\nPreview: Näiteks läbipaistvuse põhimõte peab olema seotud sisemiste väärtustega (sooviga olla läbipaistev, ee...\\n---\\n## ELIZA had already problems human considering it as a conscious entity\\nID: d8f425b5f135ead69b82774429f5f3ff\\nCategory: Uncategorized\\nTags: anthropomorphism,eetika,conscious,rationality\\n\\nPreview: ELIZA was a chatbot in 1960s, very simple system, but already then users who knew how it worked, ten...\\n---\\n## Humans surrender autonomy when we use autonomous machines\\nID: 9501bb55c2c54e944c804ad8ca179a4b\\nCategory: Uncategorized\\nTags: AI,AI_hype,ai_hiring,autonomy\\n\\nPreview:  \"... the computer scientist Joseph Weizenbaum, the inventor of the very first AI mirror, the ELIZA ...\\n---\\n## Language might help to create anthropomorphism\\nID: 972911915334f87718126f6a829f48a9\\nCategory: Uncategorized\\nTags: anthropomorphism,language,relationship_wtih_nature\\n\\nPreview: In English humans are considered living entities. Use word \"it\" and you turn living organism into su...\\n---\\n## Veebist andmete kraapimine masinõppe mudelite jaoks võib minna eetika piiride isegi kui on seaduslik\\nID: 07835ef18d95b70d649ab1ddb62e589b\\nCategory: Uncategorized\\nTags: eetika,ai\\n\\nPreview: Veebist andmete kraapimine ML jaoks on mugav ja odav viis andmete kogumiseks, võib olla seaduslik, k...\\n---\\n## We are so used to mimic states of other minds we interact\\nID: a0f7b458c2263ec75ac73f3e01c6ff4b\\nCategory: Uncategorized\\nTags: human_interaction,anthropomorphism\\n\\nPreview: This is a reason why we so easily attribute human qualities to machines, chatbots. It is our genes t...\\n---', annotations=None)]\n"
     ]
    }
   ],
   "source": [
    "async def main():\n",
    "    client = Client(\"http://localhost:8000/mcp/\")\n",
    "    async with client:\n",
    "        result = await client.call_tool(\"browse_notes\", {\"folder\": \"AI\"})\n",
    "        print(result)\n",
    "\n",
    "await main()"
   ]
  },
  {
   "cell_type": "code",
   "execution_count": 7,
   "id": "9e9c77e7",
   "metadata": {},
   "outputs": [
    {
     "name": "stdout",
     "output_type": "stream",
     "text": [
      "[TextContent(type='text', text='Note 1: Disorganized complexity\\nIn Warren Weaver\\'s view, disorganized complexity results from the particular system having a very large number of parts, say millions of parts, or many more. Though the interactions of the parts in a \"disorganized complexity\" situation can be seen as largely random, the properties of the system as a whole can be understood by using probability and statistical methods. Individual fluctuations cancel out and system can be predictably described.\\n\\n\"Complex Adaptive Systems: An Introduction to Computational Models of Social Life\", John H. Miller,\\xa0Scott E. Page, page 47\\n\\n[[Complex system is greater than sum of its parts]]\\n\\n#complex_system \\n#complexity\\n#society \\n---\\nNote 2: Complexity is outcome of uncertainty minimization\\nKrakauer, Flack etc. research has shown that complexity and multiscale structures of biological systems is predictable outcome of evolutionary dynamics driven by uncertainty minimzation.\\n\\n\"Worlds Hidden in Plain Sight: The Evolving Idea of Complexity at the Santa Fe Institute, 1984–2019\", David C. Krakauer, page 161\\n\\n[[Organizing search spaces makes search easier]]\\n\\n#complexity \\n#uncertainty\\n#evolution\\n\\n\\n---\\nNote 3: Hierarchies are needed for efficient information processing\\nComplex systems can evolve from simple systems only if there are stable intermediate forms. The resulting complex forms will naturally be hierarchic. \\n\\nHierarchies are brilliant systems inventions, not only because they give a system stability and resilience, but also because they reduce the amount of information that any part of the system has to keep track of.\\n\\n\"Thinking in Systems\", Donella H. Meadows, page 73\\n\\n[[Complex system is greater than sum of its parts]]\\n[[Complex systems wide view might need less information than detailed view]]\\n[[Complexity is outcome of uncertainty minimization]]\\n\\n#hierarchy\\n#information_processing\\n#resilience\\n#stability\\n\\n---\\nNote 4: Random rewiring of the regular network will create a small world network\\n\"Watts and Strogatz found that as the number of nodes increases, the effect becomes increasingly pronounced. For example, in a regular network with 1,000 nodes, the average path length is 250; in the same network with 5% of the links randomly rewired, the average path length will typically fall to around 20.\"\\n![[Pasted image 20230625190606.png]]\\nSmall things might have big impacts\\n\\n[[Complex system is greater than sum of its parts]]\\n\"Complexity: A Guided Tour\", Melanie Mithcell, page 495\\n\\n#complex_system \\n#network\\n#randomness\\n\\n---\\nNote 5: non-transition of fitness\\nIf genotype A is more fit than B (in experiment involving only those 2 genotypes), and B is more fit than C (n experiment involving only those 2 genotypes), but in three-way competition C might beat A.\\n\\n\"Worlds Hidden in Plain Sight: The Evolving Idea of Complexity at the Santa Fe Institute, 1984–2019\", David C. Krakauer, page 88\\n\\n[[Complex system is greater than sum of its parts]]\\n[[Communication alters interactions in social systems]]\\n\\n#complex_system \\n#fitness\\n#transition\\n\\n\\n---', annotations=None)]\n"
     ]
    }
   ],
   "source": [
    "async def main():\n",
    "    client = Client(\"http://localhost:8000/mcp/\")\n",
    "    async with client:\n",
    "        result = await client.call_tool(\"summarize_notes\", {\"query\": \"complexity\"})\n",
    "        print(result)\n",
    "\n",
    "await main()"
   ]
  },
  {
   "cell_type": "markdown",
   "id": "5aed273c",
   "metadata": {},
   "source": [
    "## List available tools"
   ]
  },
  {
   "cell_type": "code",
   "execution_count": 7,
   "id": "1967f5f2",
   "metadata": {},
   "outputs": [
    {
     "name": "stdout",
     "output_type": "stream",
     "text": [
      "Available tools: ['echo_tool', 'get_sample_note', 'vector_search', 'browse_notes', 'get_notes_for_summary']\n",
      "Tool response: [TextContent(type='text', text='Tool echo: Hello, MCP!', annotations=None)]\n"
     ]
    }
   ],
   "source": [
    "import asyncio\n",
    "from fastmcp import Client\n",
    "from dotenv import load_dotenv\n",
    "\n",
    "load_dotenv(override=True)\n",
    "\n",
    "client = Client(\"http://localhost:8000/mcp/\")\n",
    "\n",
    "async def main():\n",
    "  \n",
    "    async with client:\n",
    "        # List available tools\n",
    "        tools = await client.list_tools()\n",
    "        client_tools=tools\n",
    "        print(\"Available tools:\", [tool.name for tool in tools])\n",
    "\n",
    "        # Call a specific tool\n",
    "        result = await client.call_tool(\"echo_tool\", {\"message\": \"Hello, MCP!\"})\n",
    "        print(\"Tool response:\", result)\n",
    "        return client_tools\n",
    "        \n",
    "client_tools=await main()"
   ]
  },
  {
   "cell_type": "code",
   "execution_count": 8,
   "id": "5280ed2f",
   "metadata": {},
   "outputs": [
    {
     "data": {
      "text/plain": [
       "[Tool(name='echo_tool', description='Echo a message as a tool', inputSchema={'properties': {'message': {'title': 'Message', 'type': 'string'}}, 'required': ['message'], 'title': 'echo_toolArguments', 'type': 'object'}, annotations=None),\n",
       " Tool(name='get_sample_note', description='Get a single sample note to examine its structure', inputSchema={'properties': {}, 'title': 'get_sample_noteArguments', 'type': 'object'}, annotations=None),\n",
       " Tool(name='vector_search', description='\\nSearch notes using both vector similarity\\n\\nArgs:\\n    query: The search query\\n    n_results: Number of results to return\\n', inputSchema={'properties': {'query': {'title': 'Query', 'type': 'string'}, 'n_results': {'default': 5, 'title': 'N Results', 'type': 'integer'}, 'folder': {'default': None, 'title': 'Folder', 'type': 'string'}}, 'required': ['query'], 'title': 'vector_searchArguments', 'type': 'object'}, annotations=None),\n",
       " Tool(name='browse_notes', description='\\nBrowse notes by category or tag\\n\\nArgs:\\n    folder: Optional folder to filter by\\n    tag: Optional tag to filter by (will match if tag string contains this value)\\n    limit: Maximum number of notes to return\\n    offset: Number of notes to skip (for pagination)\\n', inputSchema={'properties': {'folder': {'default': None, 'title': 'Folder', 'type': 'string'}, 'tag': {'default': None, 'title': 'Tag', 'type': 'string'}, 'limit': {'default': 10, 'title': 'Limit', 'type': 'integer'}, 'offset': {'default': 0, 'title': 'Offset', 'type': 'integer'}}, 'title': 'browse_notesArguments', 'type': 'object'}, annotations=None),\n",
       " Tool(name='get_notes_for_summary', description='\\nRetrieve notes related to a query for summarization\\n\\nArgs:\\n    query: Search query to find relevant notes\\n    folder: Optional folder to filter notes by\\n    max_notes: Maximum number of notes to include\\n', inputSchema={'properties': {'query': {'title': 'Query', 'type': 'string'}, 'folder': {'default': None, 'title': 'Folder', 'type': 'string'}, 'max_notes': {'default': 5, 'title': 'Max Notes', 'type': 'integer'}}, 'required': ['query'], 'title': 'get_notes_for_summaryArguments', 'type': 'object'}, annotations=None)]"
      ]
     },
     "execution_count": 8,
     "metadata": {},
     "output_type": "execute_result"
    }
   ],
   "source": [
    "client_tools"
   ]
  },
  {
   "cell_type": "code",
   "execution_count": 9,
   "id": "b7fa34b7",
   "metadata": {},
   "outputs": [],
   "source": [
    "#format tools to openAI format\n",
    "from litellm.experimental_mcp_client.tools import transform_mcp_tool_to_openai_tool\n",
    "\n",
    "openai_tools = [transform_mcp_tool_to_openai_tool(tool) for tool in client_tools]"
   ]
  },
  {
   "cell_type": "code",
   "execution_count": 10,
   "id": "64af2879",
   "metadata": {},
   "outputs": [
    {
     "data": {
      "text/plain": [
       "{'type': 'function',\n",
       " 'function': {'name': 'echo_tool',\n",
       "  'description': 'Echo a message as a tool',\n",
       "  'parameters': {'properties': {'message': {'title': 'Message',\n",
       "     'type': 'string'}},\n",
       "   'required': ['message'],\n",
       "   'title': 'echo_toolArguments',\n",
       "   'type': 'object'},\n",
       "  'strict': False}}"
      ]
     },
     "execution_count": 10,
     "metadata": {},
     "output_type": "execute_result"
    }
   ],
   "source": [
    "openai_tools[0]"
   ]
  },
  {
   "cell_type": "code",
   "execution_count": 28,
   "id": "15a80578",
   "metadata": {},
   "outputs": [
    {
     "data": {
      "text/plain": [
       "ChatCompletion(id='chatcmpl-BZxIKa9ejjzMvztaQBBkA9ISHRb4g', choices=[Choice(finish_reason='tool_calls', index=0, logprobs=None, message=ChatCompletionMessage(content=None, refusal=None, role='assistant', annotations=[], audio=None, function_call=None, tool_calls=[ChatCompletionMessageToolCall(id='call_fFsce8AgQiRcYrkwreZyhzxB', function=Function(arguments='{\"query\":\"complexity\",\"max_notes\":5}', name='get_notes_for_summary'), type='function')]))], created=1747909108, model='gpt-4o-2024-08-06', object='chat.completion', service_tier='default', system_fingerprint='fp_76544d79cb', usage=CompletionUsage(completion_tokens=22, prompt_tokens=369, total_tokens=391, completion_tokens_details=CompletionTokensDetails(accepted_prediction_tokens=0, audio_tokens=0, reasoning_tokens=0, rejected_prediction_tokens=0), prompt_tokens_details=PromptTokensDetails(audio_tokens=0, cached_tokens=0)))"
      ]
     },
     "execution_count": 28,
     "metadata": {},
     "output_type": "execute_result"
    }
   ],
   "source": [
    "#interact with openai\n",
    "import os\n",
    "from openai import OpenAI\n",
    "from openai.types.chat import ChatCompletionUserMessageParam\n",
    "from litellm.experimental_mcp_client.tools import transform_openai_tool_call_request_to_mcp_tool_call_request\n",
    "\n",
    "openai_client = OpenAI(api_key=os.getenv('OPENAI_API_KEY'))\n",
    "\n",
    "messages = [\n",
    "    ChatCompletionUserMessageParam(\n",
    "        role=\"user\",\n",
    "        content=\"Please summarize my notes on complexity.\"\n",
    "    )\n",
    "]\n",
    "\n",
    "response = openai_client.chat.completions.create(\n",
    "    model=\"gpt-4o\",\n",
    "    messages=messages,\n",
    "    tools=openai_tools,\n",
    "    tool_choice=\"auto\"\n",
    ")\n",
    "\n",
    "response"
   ]
  },
  {
   "cell_type": "code",
   "execution_count": 29,
   "id": "6e56c2f8",
   "metadata": {},
   "outputs": [
    {
     "name": "stdout",
     "output_type": "stream",
     "text": [
      "Result #1:\n",
      "Notes about 'complexity' (showing 3449 results):\n",
      "\n",
      "Note ID: c139a9396e82239954f6b259cefb979c\n",
      "Title: Disorganized complexity\n",
      "Folder: complex_systems\n",
      "Similarity: 0.5355\n",
      "\n",
      "In Warren Weaver's view, disorganized complexity results from the particular system having a very large number of parts, say millions of parts, or many more. Though the interactions of the parts in a \"disorganized complexity\" situation can be seen as largely random, the properties of the system as a whole can be understood by using probability and statistical methods. Individual fluctuations cancel out and system can be predictably described.\n",
      "\n",
      "\"Complex Adaptive Systems: An Introduction to Computational Models of Social Life\", John H. Miller, Scott E. Page, page 47\n",
      "\n",
      "[[Complex system is greater than sum of its parts]]\n",
      "\n",
      "#complex_system \n",
      "#complexity\n",
      "#society \n",
      "---\n",
      "Note ID: 7c997db5dc86dc68b5892f1f3df50d38\n",
      "Title: Complexity is outcome of uncertainty minimization\n",
      "Folder: Ecology\n",
      "Similarity: 0.5158\n",
      "\n",
      "Krakauer, Flack etc. research has shown that complexity and multiscale structures of biological systems is predictable outcome of evolutionary dynamics driven by uncertainty minimzation.\n",
      "\n",
      "\"Worlds Hidden in Plain Sight: The Evolving Idea of Complexity at the Santa Fe Institute, 1984–2019\", David C. Krakauer, page 161\n",
      "\n",
      "[[Organizing search spaces makes search easier]]\n",
      "\n",
      "#complexity \n",
      "#uncertainty\n",
      "#evolution\n",
      "\n",
      "\n",
      "---\n",
      "Note ID: 9343f36fda0e591f9daf865dfd65a9a4\n",
      "Title: Hierarchies are needed for efficient information processing\n",
      "Folder: complex_systems\n",
      "Similarity: 0.4996\n",
      "\n",
      "Complex systems can evolve from simple systems only if there are stable intermediate forms. The resulting complex forms will naturally be hierarchic. \n",
      "\n",
      "Hierarchies are brilliant systems inventions, not only because they give a system stability and resilience, but also because they reduce the amount of information that any part of the system has to keep track of.\n",
      "\n",
      "\"Thinking in Systems\", Donella H. Meadows, page 73\n",
      "\n",
      "[[Complex system is greater than sum of its parts]]\n",
      "[[Complex systems wide view might need less information than detailed view]]\n",
      "[[Complexity is outcome of uncertainty minimization]]\n",
      "\n",
      "#hierarchy\n",
      "#information_processing\n",
      "#resilience\n",
      "#stability\n",
      "\n",
      "---\n",
      "Note ID: bfb8bbd423da8fe1b9638345bcb4cd15\n",
      "Title: Random rewiring of the regular network will create a small world network\n",
      "Folder: complex_systems\n",
      "Similarity: 0.4915\n",
      "\n",
      "\"Watts and Strogatz found that as the number of nodes increases, the effect becomes increasingly pronounced. For example, in a regular network with 1,000 nodes, the average path length is 250; in the same network with 5% of the links randomly rewired, the average path length will typically fall to around 20.\"\n",
      "![[Pasted image 20230625190606.png]]\n",
      "Small things might have big impacts\n",
      "\n",
      "[[Complex system is greater than sum of its parts]]\n",
      "\"Complexity: A Guided Tour\", Melanie Mithcell, page 495\n",
      "\n",
      "#complex_system \n",
      "#network\n",
      "#randomness\n",
      "\n",
      "---\n",
      "Note ID: f04018282980c1f7024b150bfa51f417\n",
      "Title: non-transition of fitness\n",
      "Folder: Ecology\n",
      "Similarity: 0.4838\n",
      "\n",
      "If genotype A is more fit than B (in experiment involving only those 2 genotypes), and B is more fit than C (n experiment involving only those 2 genotypes), but in three-way competition C might beat A.\n",
      "\n",
      "\"Worlds Hidden in Plain Sight: The Evolving Idea of Complexity at the Santa Fe Institute, 1984–2019\", David C. Krakauer, page 88\n",
      "\n",
      "[[Complex system is greater than sum of its parts]]\n",
      "[[Communication alters interactions in social systems]]\n",
      "\n",
      "#complex_system \n",
      "#fitness\n",
      "#transition\n",
      "\n",
      "\n",
      "---\n",
      "\n",
      "Tool call result: [TextContent(type='text', text='Notes about \\'complexity\\' (showing 3449 results):\\n\\nNote ID: c139a9396e82239954f6b259cefb979c\\nTitle: Disorganized complexity\\nFolder: complex_systems\\nSimilarity: 0.5355\\n\\nIn Warren Weaver\\'s view, disorganized complexity results from the particular system having a very large number of parts, say millions of parts, or many more. Though the interactions of the parts in a \"disorganized complexity\" situation can be seen as largely random, the properties of the system as a whole can be understood by using probability and statistical methods. Individual fluctuations cancel out and system can be predictably described.\\n\\n\"Complex Adaptive Systems: An Introduction to Computational Models of Social Life\", John H. Miller,\\xa0Scott E. Page, page 47\\n\\n[[Complex system is greater than sum of its parts]]\\n\\n#complex_system \\n#complexity\\n#society \\n---\\nNote ID: 7c997db5dc86dc68b5892f1f3df50d38\\nTitle: Complexity is outcome of uncertainty minimization\\nFolder: Ecology\\nSimilarity: 0.5158\\n\\nKrakauer, Flack etc. research has shown that complexity and multiscale structures of biological systems is predictable outcome of evolutionary dynamics driven by uncertainty minimzation.\\n\\n\"Worlds Hidden in Plain Sight: The Evolving Idea of Complexity at the Santa Fe Institute, 1984–2019\", David C. Krakauer, page 161\\n\\n[[Organizing search spaces makes search easier]]\\n\\n#complexity \\n#uncertainty\\n#evolution\\n\\n\\n---\\nNote ID: 9343f36fda0e591f9daf865dfd65a9a4\\nTitle: Hierarchies are needed for efficient information processing\\nFolder: complex_systems\\nSimilarity: 0.4996\\n\\nComplex systems can evolve from simple systems only if there are stable intermediate forms. The resulting complex forms will naturally be hierarchic. \\n\\nHierarchies are brilliant systems inventions, not only because they give a system stability and resilience, but also because they reduce the amount of information that any part of the system has to keep track of.\\n\\n\"Thinking in Systems\", Donella H. Meadows, page 73\\n\\n[[Complex system is greater than sum of its parts]]\\n[[Complex systems wide view might need less information than detailed view]]\\n[[Complexity is outcome of uncertainty minimization]]\\n\\n#hierarchy\\n#information_processing\\n#resilience\\n#stability\\n\\n---\\nNote ID: bfb8bbd423da8fe1b9638345bcb4cd15\\nTitle: Random rewiring of the regular network will create a small world network\\nFolder: complex_systems\\nSimilarity: 0.4915\\n\\n\"Watts and Strogatz found that as the number of nodes increases, the effect becomes increasingly pronounced. For example, in a regular network with 1,000 nodes, the average path length is 250; in the same network with 5% of the links randomly rewired, the average path length will typically fall to around 20.\"\\n![[Pasted image 20230625190606.png]]\\nSmall things might have big impacts\\n\\n[[Complex system is greater than sum of its parts]]\\n\"Complexity: A Guided Tour\", Melanie Mithcell, page 495\\n\\n#complex_system \\n#network\\n#randomness\\n\\n---\\nNote ID: f04018282980c1f7024b150bfa51f417\\nTitle: non-transition of fitness\\nFolder: Ecology\\nSimilarity: 0.4838\\n\\nIf genotype A is more fit than B (in experiment involving only those 2 genotypes), and B is more fit than C (n experiment involving only those 2 genotypes), but in three-way competition C might beat A.\\n\\n\"Worlds Hidden in Plain Sight: The Evolving Idea of Complexity at the Santa Fe Institute, 1984–2019\", David C. Krakauer, page 88\\n\\n[[Complex system is greater than sum of its parts]]\\n[[Communication alters interactions in social systems]]\\n\\n#complex_system \\n#fitness\\n#transition\\n\\n\\n---', annotations=None)]\n"
     ]
    }
   ],
   "source": [
    "\n",
    "if response.choices[0].message.tool_calls:\n",
    "    tool_call = response.choices[0].message.tool_calls[0]\n",
    "    mcp_call = transform_openai_tool_call_request_to_mcp_tool_call_request(\n",
    "        openai_tool=tool_call.model_dump()\n",
    "    )\n",
    "    # Call the tool via MCP\n",
    "    async def main():\n",
    "        client = Client(\"http://localhost:8000/mcp/\")\n",
    "        async with client:\n",
    "            result = await client.call_tool(\n",
    "                name=mcp_call.name,\n",
    "                arguments=mcp_call.arguments)\n",
    "            # Tool call returns a result object — could be str or object with `.text`\n",
    "            if isinstance(result, str):\n",
    "                print(\"Tool call result:\", result)\n",
    "\n",
    "            elif hasattr(result, \"text\"):\n",
    "                print(\"Tool call result:\", result.text)\n",
    "\n",
    "            elif isinstance(result, list):\n",
    "                for i, item in enumerate(result):\n",
    "                    if isinstance(item, str):\n",
    "                        print(f\"Result #{i+1}:\\n{item}\\n\")\n",
    "                    elif hasattr(item, \"text\"):\n",
    "                        print(f\"Result #{i+1}:\\n{item.text}\\n\")\n",
    "                    else:\n",
    "                        print(f\"Result #{i+1}:\\n{item}\\n\")\n",
    "\n",
    "            else:\n",
    "                print(\"Tool call result (raw):\", result)\n",
    "            return result\n",
    "\n",
    "    result=await main()\n",
    "    print(\"Tool call result:\", result)"
   ]
  },
  {
   "cell_type": "markdown",
   "id": "5ea2763f",
   "metadata": {},
   "source": [
    "## Loop if multiple tools are needed"
   ]
  },
  {
   "cell_type": "code",
   "execution_count": 75,
   "id": "b88ec166",
   "metadata": {},
   "outputs": [
    {
     "name": "stdout",
     "output_type": "stream",
     "text": [
      "🔁 Calling GPT...\n",
      "🛠 GPT wants to use tool: get_notes_for_summary\n",
      "✅ Tool response: Notes about 'complexity theory' (showing 6625 results):\n",
      "\n",
      "Note ID: c139a9396e82239954f6b259cefb979c\n",
      "Title: Disorganized complexity\n",
      "Folder: complex_systems\n",
      "Similarity: 0.5720\n",
      "\n",
      "In Warren Weaver's view, disorganized complexity results from the particular system having a very large number of parts, say millions of parts, or many more. Though the interactions of the parts in a \"disorganized complexity\" situation can be seen as largely random, the properties of the system as a whole can be understood by using probability and statistical methods. Individual fluctuations cancel out and system can be predictably described.\n",
      "\n",
      "\"Complex Adaptive Systems: An Introduction to Computational Models of Social Life\", John H. Miller, Scott E. Page, page 47\n",
      "\n",
      "[[Complex system is greater than sum of its parts]]\n",
      "\n",
      "#complex_system \n",
      "#complexity\n",
      "#society \n",
      "---\n",
      "Note ID: 7c997db5dc86dc68b5892f1f3df50d38\n",
      "Title: Complexity is outcome of uncertainty minimization\n",
      "Folder: Ecology\n",
      "Similarity: 0.5467\n",
      "\n",
      "Krakauer, Flack etc. research has shown that complexity and multiscale structures of biological systems is predictable outcome of evolutionary dynamics driven by uncertainty minimzation.\n",
      "\n",
      "\"Worlds Hidden in Plain Sight: The Evolving Idea of Complexity at the Santa Fe Institute, 1984–2019\", David C. Krakauer, page 161\n",
      "\n",
      "[[Organizing search spaces makes search easier]]\n",
      "\n",
      "#complexity \n",
      "#uncertainty\n",
      "#evolution\n",
      "\n",
      "\n",
      "---\n",
      "Note ID: 9343f36fda0e591f9daf865dfd65a9a4\n",
      "Title: Hierarchies are needed for efficient information processing\n",
      "Folder: complex_systems\n",
      "Similarity: 0.5202\n",
      "\n",
      "Complex systems can evolve from simple systems only if there are stable intermediate forms. The resulting complex forms will naturally be hierarchic. \n",
      "\n",
      "Hierarchies are brilliant systems inventions, not only because they give a system stability and resilience, but also because they reduce the amount of information that any part of the system has to keep track of.\n",
      "\n",
      "\"Thinking in Systems\", Donella H. Meadows, page 73\n",
      "\n",
      "[[Complex system is greater than sum of its parts]]\n",
      "[[Complex systems wide view might need less information than detailed view]]\n",
      "[[Complexity is outcome of uncertainty minimization]]\n",
      "\n",
      "#hierarchy\n",
      "#information_processing\n",
      "#resilience\n",
      "#stability\n",
      "\n",
      "---\n",
      "Note ID: bfb8bbd423da8fe1b9638345bcb4cd15\n",
      "Title: Random rewiring of the regular network will create a small world network\n",
      "Folder: complex_systems\n",
      "Similarity: 0.5074\n",
      "\n",
      "\"Watts and Strogatz found that as the number of nodes increases, the effect becomes increasingly pronounced. For example, in a regular network with 1,000 nodes, the average path length is 250; in the same network with 5% of the links randomly rewired, the average path length will typically fall to around 20.\"\n",
      "![[Pasted image 20230625190606.png]]\n",
      "Small things might have big impacts\n",
      "\n",
      "[[Complex system is greater than sum of its parts]]\n",
      "\"Complexity: A Guided Tour\", Melanie Mithcell, page 495\n",
      "\n",
      "#complex_system \n",
      "#network\n",
      "#randomness\n",
      "\n",
      "---\n",
      "Note ID: f04018282980c1f7024b150bfa51f417\n",
      "Title: non-transition of fitness\n",
      "Folder: Ecology\n",
      "Similarity: 0.5051\n",
      "\n",
      "If genotype A is more fit than B (in experiment involving only those 2 genotypes), and B is more fit than C (n experiment involving only those 2 genotypes), but in three-way competition C might beat A.\n",
      "\n",
      "\"Worlds Hidden in Plain Sight: The Evolving Idea of Complexity at the Santa Fe Institute, 1984–2019\", David C. Krakauer, page 88\n",
      "\n",
      "[[Complex system is greater than sum of its parts]]\n",
      "[[Communication alters interactions in social systems]]\n",
      "\n",
      "#complex_system \n",
      "#fitness\n",
      "#transition\n",
      "\n",
      "\n",
      "---\n",
      "Note ID: ef5287320174461e429de1b2e6856308\n",
      "Title: High crime rates might be due to historical accidents\n",
      "Folder: complex_systems\n",
      "Similarity: 0.4948\n",
      "\n",
      "It can be shown that even in networks with similar initial distributions of criminals, you can get very different final distributions of criminal behavior: some worlds become crime ridden while others become relatively crime free. This suggests that high crime rates in one area could be an artifact of unfortunate historical accidents rather than some difference in initial criminal behavior.\n",
      "\n",
      "\n",
      "\"Complex Adaptive Systems: An Introduction to Computational Models of Social Life\", John H. Miller, Scott E. Page, page 156\n",
      "\n",
      "[[Disorganized complexity]]\n",
      "[[Mistakes allow systems to escape unproductive regions]]\n",
      "\n",
      "#crime_rate\n",
      "#randomness \n",
      "#modelling \n",
      "\n",
      "---\n",
      "Note ID: 234e5af61002a52d50069b0cdee18142\n",
      "Title: Microbehavior might be at odd with macrobehavior\n",
      "Folder: complex_systems\n",
      "Similarity: 0.4922\n",
      "\n",
      "For example simple simulation. Agents prefer to live alone without other people around. It would be logical to think that they would disperse in the land. But models show that two clusters are formed in the other end of the land. Thus macrolevel doesn't show that they really want to disperse.\n",
      "\n",
      "\n",
      "\"Complex Adaptive Systems: An Introduction to Computational Models of Social Life\", John H. Miller, Scott E. Page, page 153\n",
      "\n",
      "[[Disorganized complexity]]\n",
      "\n",
      "#complexity \n",
      "#microbehaviour\n",
      "#macrobehaviour\n",
      "\n",
      "---\n",
      "Note ID: 717d2ef4dcf7e1013ef712d1854ac4a7\n",
      "Title: Systems that settle into equilibrium tend to include negative feedback\n",
      "Folder: complex_systems\n",
      "Similarity: 0.4832\n",
      "\n",
      "For example if one company is making profit on some new product, competitors will come and try to wipe out the profit. \n",
      "\n",
      "\n",
      "\"Complex Adaptive Systems: An Introduction to Computational Models of Social Life\", John H. Miller, Scott E. Page, page 75\n",
      "\n",
      "[[Complex system is greater than sum of its parts]]\n",
      "[[Systems that generate complexity include positive feedback]]\n",
      "\n",
      "#complex_system \n",
      "#equilibrium\n",
      "#negative_feedback\n",
      "\n",
      "---\n",
      "Note ID: 20ed653483a4f4d06ad20206a4eb37c5\n",
      "Title: emergence - complex patterns from simple interactions\n",
      "Folder: complex_systems\n",
      "Similarity: 0.4817\n",
      "\n",
      "Emergence is the way complex systems and patterns arise out of a multiplicity of relatively simple interactions”— Nick Obolensky\n",
      "\n",
      "\"All We Can Save: Truth, Courage, and Solutions for the Climate Crisis\", Ayana Elizabeth Johnson (Editor), Katharine K. Wilkinson, page 56, \"What Is Emergent Strategy?\", ADRIENNE MAREE BROWN\n",
      "\n",
      "[[Complex system is greater than sum of its parts]]\n",
      "\n",
      "\n",
      "\n",
      "#emergence \n",
      "#complex_system \n",
      "#relationships \n",
      "#human_interaction \n",
      "---\n",
      "Note ID: 324e9195fa1da6ec385238c7b35b5137\n",
      "Title: Systems that generate complexity include positive feedback\n",
      "Folder: complex_systems\n",
      "Similarity: 0.4799\n",
      "\n",
      "For example if some politician gets new idea/party, it will change political landscape and other politicians will also change which itself causes new changes\n",
      "\n",
      "\"Complex Adaptive Systems: An Introduction to Computational Models of Social Life\", John H. Miller, Scott E. Page, page 75\n",
      "\n",
      "[[Systems that settle into equilibrium tend to include negative feedback]]\n",
      "\n",
      "#complexity \n",
      "#positive_feedback\n",
      "#complex_system \n",
      "---\n",
      "🔁 Calling GPT...\n"
     ]
    }
   ],
   "source": [
    "import os\n",
    "import asyncio\n",
    "from openai import OpenAI\n",
    "from fastmcp import Client\n",
    "from litellm.experimental_mcp_client.tools import (\n",
    "    transform_mcp_tool_to_openai_tool,\n",
    "    transform_openai_tool_call_request_to_mcp_tool_call_request\n",
    ")\n",
    "\n",
    "# Set OpenAI API key from env\n",
    "os.environ[\"OPENAI_API_KEY\"] = os.getenv('OPENAI_API_KEY')\n",
    "client = OpenAI()\n",
    "\n",
    "async def run_agent_loop(user_query: str):\n",
    "    # Start MCP client\n",
    "    mcp_client = Client(\"http://localhost:8000/mcp/\")\n",
    "    await mcp_client.__aenter__()\n",
    "\n",
    "    try:\n",
    "        # Get initial prompt from MCP\n",
    "        prompt_result = await mcp_client.get_prompt(\"summarize_topic\", {\"topic\": user_query})\n",
    "        messages = [\n",
    "            {\"role\": m.role, \"content\": m.content.text}\n",
    "            for m in prompt_result.messages\n",
    "            if m.content and m.content.text\n",
    "        ]\n",
    "\n",
    "        tools = await mcp_client.list_tools()\n",
    "        openai_tools = [transform_mcp_tool_to_openai_tool(tool) for tool in tools]\n",
    "\n",
    "        while True:\n",
    "            print(\"🔁 Calling GPT...\")\n",
    "            response = client.chat.completions.create(\n",
    "                model=\"gpt-4o\",\n",
    "                messages=messages,\n",
    "                tools=openai_tools,\n",
    "                tool_choice=\"auto\"\n",
    "            )\n",
    "\n",
    "            reply = response.choices[0].message\n",
    "\n",
    "            # Append GPT's tool call message correctly\n",
    "            if reply.tool_calls:\n",
    "                print(f\"🛠 GPT wants to use tool: {reply.tool_calls[0].function.name}\")\n",
    "                messages.append({\n",
    "                    \"role\": \"assistant\",\n",
    "                    \"content\": reply.content,  # May be None\n",
    "                    \"tool_calls\": [tc.model_dump() for tc in reply.tool_calls]\n",
    "                })\n",
    "\n",
    "                for tool_call in reply.tool_calls:\n",
    "                    mcp_tool = transform_openai_tool_call_request_to_mcp_tool_call_request(\n",
    "                        tool_call.model_dump()\n",
    "                    )\n",
    "\n",
    "                    result = await mcp_client.call_tool(\n",
    "                        name=mcp_tool.name,\n",
    "                        arguments=mcp_tool.arguments\n",
    "                    )\n",
    "\n",
    "                    tool_output = result[0].text if result else \"No output from tool.\"\n",
    "\n",
    "                    print(f\"✅ Tool response: {tool_output}\")\n",
    "\n",
    "                    messages.append({\n",
    "                        \"role\": \"tool\",\n",
    "                        \"tool_call_id\": tool_call.id,\n",
    "                        \"name\": tool_call.function.name,\n",
    "                        \"content\": tool_output\n",
    "                    })\n",
    "\n",
    "            else:\n",
    "                # Final assistant message without tool call\n",
    "                messages.append({\n",
    "                    \"role\": \"assistant\",\n",
    "                    \"content\": reply.content\n",
    "                })\n",
    "                return reply.content, messages\n",
    "                break\n",
    "\n",
    "    finally:\n",
    "        await mcp_client.__aexit__(None, None, None)\n",
    "\n",
    "# Run the loop\n",
    "final_answer, messages= await run_agent_loop(\"complexity theory\")\n"
   ]
  },
  {
   "cell_type": "code",
   "execution_count": 77,
   "id": "8a84b59b",
   "metadata": {},
   "outputs": [
    {
     "name": "stdout",
     "output_type": "stream",
     "text": [
      "Based on your notes, here's a comprehensive summary of key points and concepts related to complexity theory:\n",
      "\n",
      "---\n",
      "\n",
      "**Complexity Theory Overview:**\n",
      "\n",
      "Complexity theory often examines how systems with numerous components, characterized by intricate relationships, can produce collective behaviors that are more than the sum of each part's contribution. The understanding of such systems requires examining both disorganized complexity—where parts interact randomly—and organized complexity where multiscale structures emerge.\n",
      "\n",
      "1. **Disorganized Complexity:**\n",
      "   - In such systems, despite the apparent randomness in component interactions, statistical and probabilistic methods reveal predictable properties. Notable is Warren Weaver's view, which emphasizes that as the number of parts increases, the randomness blends into a comprehensible whole.\n",
      "\n",
      "2. **Emergence and Hierarchies:**\n",
      "   - Emergence is a phenomenon where complex systems and patterns result from trivial interactions. Hierarchies naturally evolve within complex systems providing stability and reducing the information burden on individual parts. This ease through hierarchical structures highlights a systemic prowess in managing complexity.\n",
      "\n",
      "3. **Optimization and Evolution:**\n",
      "   - Complexity in biological systems can result from evolutionary dynamics aimed at minimizing uncertainty. Innovations and robust system behaviors emerge as evolutionary strategies are employed by organisms to adapt and survive.\n",
      "\n",
      "4. **Feedback Mechanisms:**\n",
      "   - Both negative and positive feedback loops are pivotal in the structure of complex systems. Systems often attain equilibrium through negative feedback, whereas positive feedback can drive further innovation and systemic shifts.\n",
      "\n",
      "5. **Network Dynamics:**\n",
      "   - Random rewiring in networks can lead to small-world characteristics, significantly shortening path lengths and illustrating how minimal changes can impact entire system dynamics.\n",
      "\n",
      "6. **Micro versus Macro Behaviors:**\n",
      "   - There’s a notable difference between microbehavior (individual actions) and macrobehavior (systemic results). For instance, collective outcomes often seem counterintuitive when viewed solely through the lens of individual preferences or actions.\n",
      "\n",
      "7. **Case Scenarios and Applications:**\n",
      "   - Complexity theory can explain diverse phenomena such as crime rate distributions being influenced by historical contingencies rather than merely initial conditions. Furthermore, evolutionary fitness landscapes show how complexity influences competitive dynamics.\n",
      "\n",
      "8. **Interrelated Systems and Resilience:**\n",
      "   - The interactions across different system scales and domains also characterize complexity. Systems displaying resilience often manage to maintain stability even amidst dynamic external pressures or internal changes.\n",
      "\n",
      "---\n",
      "\n",
      "These insights show that complexity theory is not just about systems with many parts but about understanding the often surprising and emergent properties that arise from such systems. Understanding these helps address issues ranging from ecology to sociology, helping to better grasp human interactions, biological concerns, and ecological structures.\n"
     ]
    }
   ],
   "source": [
    "print(final_answer)"
   ]
  },
  {
   "cell_type": "code",
   "execution_count": 78,
   "id": "1c3c9498",
   "metadata": {},
   "outputs": [
    {
     "data": {
      "text/plain": [
       "[{'role': 'user',\n",
       "  'content': 'I want a summary of my notes about complexity theory. Please use the get_notes_for_summary tool to retrieve relevant notes, then create a comprehensive summary that captures the key points, concepts, and relationships. The summary should be well-structured and highlight the most important information.'},\n",
       " {'role': 'assistant',\n",
       "  'content': \"I'll help you summarize your notes on this topic. Let me retrieve the relevant information first.\"},\n",
       " {'role': 'assistant',\n",
       "  'content': None,\n",
       "  'tool_calls': [{'id': 'call_DAvHr6bRFO0UYd8WCegz5A85',\n",
       "    'function': {'arguments': '{\"query\":\"complexity theory\",\"max_notes\":10}',\n",
       "     'name': 'get_notes_for_summary'},\n",
       "    'type': 'function'}]},\n",
       " {'role': 'tool',\n",
       "  'tool_call_id': 'call_DAvHr6bRFO0UYd8WCegz5A85',\n",
       "  'name': 'get_notes_for_summary',\n",
       "  'content': 'Notes about \\'complexity theory\\' (showing 6625 results):\\n\\nNote ID: c139a9396e82239954f6b259cefb979c\\nTitle: Disorganized complexity\\nFolder: complex_systems\\nSimilarity: 0.5720\\n\\nIn Warren Weaver\\'s view, disorganized complexity results from the particular system having a very large number of parts, say millions of parts, or many more. Though the interactions of the parts in a \"disorganized complexity\" situation can be seen as largely random, the properties of the system as a whole can be understood by using probability and statistical methods. Individual fluctuations cancel out and system can be predictably described.\\n\\n\"Complex Adaptive Systems: An Introduction to Computational Models of Social Life\", John H. Miller,\\xa0Scott E. Page, page 47\\n\\n[[Complex system is greater than sum of its parts]]\\n\\n#complex_system \\n#complexity\\n#society \\n---\\nNote ID: 7c997db5dc86dc68b5892f1f3df50d38\\nTitle: Complexity is outcome of uncertainty minimization\\nFolder: Ecology\\nSimilarity: 0.5467\\n\\nKrakauer, Flack etc. research has shown that complexity and multiscale structures of biological systems is predictable outcome of evolutionary dynamics driven by uncertainty minimzation.\\n\\n\"Worlds Hidden in Plain Sight: The Evolving Idea of Complexity at the Santa Fe Institute, 1984–2019\", David C. Krakauer, page 161\\n\\n[[Organizing search spaces makes search easier]]\\n\\n#complexity \\n#uncertainty\\n#evolution\\n\\n\\n---\\nNote ID: 9343f36fda0e591f9daf865dfd65a9a4\\nTitle: Hierarchies are needed for efficient information processing\\nFolder: complex_systems\\nSimilarity: 0.5202\\n\\nComplex systems can evolve from simple systems only if there are stable intermediate forms. The resulting complex forms will naturally be hierarchic. \\n\\nHierarchies are brilliant systems inventions, not only because they give a system stability and resilience, but also because they reduce the amount of information that any part of the system has to keep track of.\\n\\n\"Thinking in Systems\", Donella H. Meadows, page 73\\n\\n[[Complex system is greater than sum of its parts]]\\n[[Complex systems wide view might need less information than detailed view]]\\n[[Complexity is outcome of uncertainty minimization]]\\n\\n#hierarchy\\n#information_processing\\n#resilience\\n#stability\\n\\n---\\nNote ID: bfb8bbd423da8fe1b9638345bcb4cd15\\nTitle: Random rewiring of the regular network will create a small world network\\nFolder: complex_systems\\nSimilarity: 0.5074\\n\\n\"Watts and Strogatz found that as the number of nodes increases, the effect becomes increasingly pronounced. For example, in a regular network with 1,000 nodes, the average path length is 250; in the same network with 5% of the links randomly rewired, the average path length will typically fall to around 20.\"\\n![[Pasted image 20230625190606.png]]\\nSmall things might have big impacts\\n\\n[[Complex system is greater than sum of its parts]]\\n\"Complexity: A Guided Tour\", Melanie Mithcell, page 495\\n\\n#complex_system \\n#network\\n#randomness\\n\\n---\\nNote ID: f04018282980c1f7024b150bfa51f417\\nTitle: non-transition of fitness\\nFolder: Ecology\\nSimilarity: 0.5051\\n\\nIf genotype A is more fit than B (in experiment involving only those 2 genotypes), and B is more fit than C (n experiment involving only those 2 genotypes), but in three-way competition C might beat A.\\n\\n\"Worlds Hidden in Plain Sight: The Evolving Idea of Complexity at the Santa Fe Institute, 1984–2019\", David C. Krakauer, page 88\\n\\n[[Complex system is greater than sum of its parts]]\\n[[Communication alters interactions in social systems]]\\n\\n#complex_system \\n#fitness\\n#transition\\n\\n\\n---\\nNote ID: ef5287320174461e429de1b2e6856308\\nTitle: High crime rates might be due to historical accidents\\nFolder: complex_systems\\nSimilarity: 0.4948\\n\\nIt can be shown that even in networks with similar initial distributions of criminals, you can get very different final distributions of criminal behavior: some worlds become crime ridden while others become relatively crime free. This suggests that high crime rates in one area could be an artifact of unfortunate historical accidents rather than some difference in initial criminal behavior.\\n\\n\\n\"Complex Adaptive Systems: An Introduction to Computational Models of Social Life\", John H. Miller,\\xa0Scott E. Page, page 156\\n\\n[[Disorganized complexity]]\\n[[Mistakes allow systems to escape unproductive regions]]\\n\\n#crime_rate\\n#randomness \\n#modelling \\n\\n---\\nNote ID: 234e5af61002a52d50069b0cdee18142\\nTitle: Microbehavior might be at odd with macrobehavior\\nFolder: complex_systems\\nSimilarity: 0.4922\\n\\nFor example simple simulation. Agents prefer to live alone without other people around. It would be logical to think that they would disperse in the land. But models show that two clusters are formed in the other end of the land. Thus macrolevel doesn\\'t show that they really want to disperse.\\n\\n\\n\"Complex Adaptive Systems: An Introduction to Computational Models of Social Life\", John H. Miller,\\xa0Scott E. Page, page 153\\n\\n[[Disorganized complexity]]\\n\\n#complexity \\n#microbehaviour\\n#macrobehaviour\\n\\n---\\nNote ID: 717d2ef4dcf7e1013ef712d1854ac4a7\\nTitle: Systems that settle into equilibrium tend to include negative feedback\\nFolder: complex_systems\\nSimilarity: 0.4832\\n\\nFor example if one company is making profit on some new product, competitors will come and try to wipe out the profit. \\n\\n\\n\"Complex Adaptive Systems: An Introduction to Computational Models of Social Life\", John H. Miller,\\xa0Scott E. Page, page 75\\n\\n[[Complex system is greater than sum of its parts]]\\n[[Systems that generate complexity include positive feedback]]\\n\\n#complex_system \\n#equilibrium\\n#negative_feedback\\n\\n---\\nNote ID: 20ed653483a4f4d06ad20206a4eb37c5\\nTitle: emergence - complex patterns from simple interactions\\nFolder: complex_systems\\nSimilarity: 0.4817\\n\\nEmergence is the way complex systems and patterns arise out of a multiplicity of relatively simple interactions”— Nick Obolensky\\n\\n\"All We Can Save: Truth, Courage, and Solutions for the Climate Crisis\", Ayana Elizabeth Johnson\\xa0(Editor), Katharine K. Wilkinson, page 56, \"What Is Emergent Strategy?\", ADRIENNE MAREE BROWN\\n\\n[[Complex system is greater than sum of its parts]]\\n\\n\\n\\n#emergence \\n#complex_system \\n#relationships \\n#human_interaction \\n---\\nNote ID: 324e9195fa1da6ec385238c7b35b5137\\nTitle: Systems that generate complexity include positive feedback\\nFolder: complex_systems\\nSimilarity: 0.4799\\n\\nFor example if some politician gets new idea/party, it will change political landscape and other politicians will also change which itself causes new changes\\n\\n\"Complex Adaptive Systems: An Introduction to Computational Models of Social Life\", John H. Miller,\\xa0Scott E. Page, page 75\\n\\n[[Systems that settle into equilibrium tend to include negative feedback]]\\n\\n#complexity \\n#positive_feedback\\n#complex_system \\n---'},\n",
       " {'role': 'assistant',\n",
       "  'content': \"Based on your notes, here's a comprehensive summary of key points and concepts related to complexity theory:\\n\\n---\\n\\n**Complexity Theory Overview:**\\n\\nComplexity theory often examines how systems with numerous components, characterized by intricate relationships, can produce collective behaviors that are more than the sum of each part's contribution. The understanding of such systems requires examining both disorganized complexity—where parts interact randomly—and organized complexity where multiscale structures emerge.\\n\\n1. **Disorganized Complexity:**\\n   - In such systems, despite the apparent randomness in component interactions, statistical and probabilistic methods reveal predictable properties. Notable is Warren Weaver's view, which emphasizes that as the number of parts increases, the randomness blends into a comprehensible whole.\\n\\n2. **Emergence and Hierarchies:**\\n   - Emergence is a phenomenon where complex systems and patterns result from trivial interactions. Hierarchies naturally evolve within complex systems providing stability and reducing the information burden on individual parts. This ease through hierarchical structures highlights a systemic prowess in managing complexity.\\n\\n3. **Optimization and Evolution:**\\n   - Complexity in biological systems can result from evolutionary dynamics aimed at minimizing uncertainty. Innovations and robust system behaviors emerge as evolutionary strategies are employed by organisms to adapt and survive.\\n\\n4. **Feedback Mechanisms:**\\n   - Both negative and positive feedback loops are pivotal in the structure of complex systems. Systems often attain equilibrium through negative feedback, whereas positive feedback can drive further innovation and systemic shifts.\\n\\n5. **Network Dynamics:**\\n   - Random rewiring in networks can lead to small-world characteristics, significantly shortening path lengths and illustrating how minimal changes can impact entire system dynamics.\\n\\n6. **Micro versus Macro Behaviors:**\\n   - There’s a notable difference between microbehavior (individual actions) and macrobehavior (systemic results). For instance, collective outcomes often seem counterintuitive when viewed solely through the lens of individual preferences or actions.\\n\\n7. **Case Scenarios and Applications:**\\n   - Complexity theory can explain diverse phenomena such as crime rate distributions being influenced by historical contingencies rather than merely initial conditions. Furthermore, evolutionary fitness landscapes show how complexity influences competitive dynamics.\\n\\n8. **Interrelated Systems and Resilience:**\\n   - The interactions across different system scales and domains also characterize complexity. Systems displaying resilience often manage to maintain stability even amidst dynamic external pressures or internal changes.\\n\\n---\\n\\nThese insights show that complexity theory is not just about systems with many parts but about understanding the often surprising and emergent properties that arise from such systems. Understanding these helps address issues ranging from ecology to sociology, helping to better grasp human interactions, biological concerns, and ecological structures.\"}]"
      ]
     },
     "execution_count": 78,
     "metadata": {},
     "output_type": "execute_result"
    }
   ],
   "source": [
    "messages"
   ]
  },
  {
   "cell_type": "code",
   "execution_count": null,
   "id": "a8830a75",
   "metadata": {},
   "outputs": [],
   "source": []
  }
 ],
 "metadata": {
  "kernelspec": {
   "display_name": "Python 3.13 (venv)",
   "language": "python",
   "name": "venv-3.13"
  },
  "language_info": {
   "codemirror_mode": {
    "name": "ipython",
    "version": 3
   },
   "file_extension": ".py",
   "mimetype": "text/x-python",
   "name": "python",
   "nbconvert_exporter": "python",
   "pygments_lexer": "ipython3",
   "version": "3.13.3"
  }
 },
 "nbformat": 4,
 "nbformat_minor": 5
}
