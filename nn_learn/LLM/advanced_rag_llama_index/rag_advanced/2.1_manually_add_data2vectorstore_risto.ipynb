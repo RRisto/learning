{
 "cells": [
  {
   "cell_type": "code",
   "execution_count": 1,
   "id": "e6b964be-8a90-4965-b62c-c6bb38bc25e4",
   "metadata": {},
   "outputs": [],
   "source": [
    "#https://docs.llamaindex.ai/en/latest/examples/low_level/ingestion.html#"
   ]
  },
  {
   "cell_type": "code",
   "execution_count": 1,
   "id": "b58db0b9-3f56-4fdb-a1c0-10e4aee3ca8f",
   "metadata": {},
   "outputs": [
    {
     "name": "stdout",
     "output_type": "stream",
     "text": [
      "Collecting weaviate-client\n",
      "  Downloading weaviate_client-3.25.3-py3-none-any.whl (120 kB)\n",
      "\u001b[2K     \u001b[90m━━━━━━━━━━━━━━━━━━━━━━━━━━━━━━━━━━━━━━\u001b[0m \u001b[32m120.3/120.3 kB\u001b[0m \u001b[31m21.2 MB/s\u001b[0m eta \u001b[36m0:00:00\u001b[0m\n",
      "\u001b[?25hCollecting authlib<2.0.0,>=1.2.1\n",
      "  Downloading Authlib-1.2.1-py2.py3-none-any.whl (215 kB)\n",
      "\u001b[2K     \u001b[90m━━━━━━━━━━━━━━━━━━━━━━━━━━━━━━━━━━━━━━\u001b[0m \u001b[32m215.3/215.3 kB\u001b[0m \u001b[31m51.2 MB/s\u001b[0m eta \u001b[36m0:00:00\u001b[0m\n",
      "\u001b[?25hCollecting requests<3.0.0,>=2.30.0\n",
      "  Downloading requests-2.31.0-py3-none-any.whl (62 kB)\n",
      "\u001b[2K     \u001b[90m━━━━━━━━━━━━━━━━━━━━━━━━━━━━━━━━━━━━━━━━\u001b[0m \u001b[32m62.6/62.6 kB\u001b[0m \u001b[31m21.1 MB/s\u001b[0m eta \u001b[36m0:00:00\u001b[0m\n",
      "\u001b[?25hCollecting validators<1.0.0,>=0.21.2\n",
      "  Downloading validators-0.22.0-py3-none-any.whl (26 kB)\n",
      "Collecting cryptography>=3.2\n",
      "  Downloading cryptography-41.0.7-cp37-abi3-manylinux_2_28_x86_64.whl (4.4 MB)\n",
      "\u001b[2K     \u001b[90m━━━━━━━━━━━━━━━━━━━━━━━━━━━━━━━━━━━━━━━━\u001b[0m \u001b[32m4.4/4.4 MB\u001b[0m \u001b[31m96.4 MB/s\u001b[0m eta \u001b[36m0:00:00\u001b[0m:00:01\u001b[0m\n",
      "\u001b[?25hRequirement already satisfied: idna<4,>=2.5 in /usr/lib/python3/dist-packages (from requests<3.0.0,>=2.30.0->weaviate-client) (2.8)\n",
      "Requirement already satisfied: certifi>=2017.4.17 in /usr/lib/python3/dist-packages (from requests<3.0.0,>=2.30.0->weaviate-client) (2019.11.28)\n",
      "Requirement already satisfied: urllib3<3,>=1.21.1 in /usr/local/lib/python3.9/dist-packages (from requests<3.0.0,>=2.30.0->weaviate-client) (1.26.10)\n",
      "Requirement already satisfied: charset-normalizer<4,>=2 in /usr/local/lib/python3.9/dist-packages (from requests<3.0.0,>=2.30.0->weaviate-client) (2.1.0)\n",
      "Requirement already satisfied: cffi>=1.12 in /usr/local/lib/python3.9/dist-packages (from cryptography>=3.2->authlib<2.0.0,>=1.2.1->weaviate-client) (1.15.1)\n",
      "Requirement already satisfied: pycparser in /usr/local/lib/python3.9/dist-packages (from cffi>=1.12->cryptography>=3.2->authlib<2.0.0,>=1.2.1->weaviate-client) (2.21)\n",
      "Installing collected packages: validators, requests, cryptography, authlib, weaviate-client\n",
      "  Attempting uninstall: requests\n",
      "    Found existing installation: requests 2.28.1\n",
      "    Uninstalling requests-2.28.1:\n",
      "      Successfully uninstalled requests-2.28.1\n",
      "Successfully installed authlib-1.2.1 cryptography-41.0.7 requests-2.31.0 validators-0.22.0 weaviate-client-3.25.3\n",
      "\u001b[33mWARNING: Running pip as the 'root' user can result in broken permissions and conflicting behaviour with the system package manager. It is recommended to use a virtual environment instead: https://pip.pypa.io/warnings/venv\u001b[0m\u001b[33m\n",
      "\u001b[0m"
     ]
    }
   ],
   "source": [
    "# !pip install weaviate-client"
   ]
  },
  {
   "cell_type": "code",
   "execution_count": 3,
   "id": "d7127e0e-a061-4d7e-b691-6271556ad9a1",
   "metadata": {},
   "outputs": [],
   "source": [
    "# !pip install llama_index\n",
    "# !pip install openai"
   ]
  },
  {
   "cell_type": "code",
   "execution_count": 5,
   "id": "9ed99b53-1d6a-4a81-8f27-26179d480a03",
   "metadata": {},
   "outputs": [],
   "source": [
    "# !pip install --upgrade pydantic==1.10.0 typing-extensions==4.5.0"
   ]
  },
  {
   "cell_type": "code",
   "execution_count": 6,
   "id": "b82ead98-bfd9-4e16-83e9-3cefe8237517",
   "metadata": {},
   "outputs": [
    {
     "name": "stderr",
     "output_type": "stream",
     "text": [
      "/tmp/ipykernel_57/1688819060.py:16: FutureWarning: Passing a negative integer is deprecated in version 1.0 and will not be supported in future version. Instead, use None to not limit the column width.\n",
      "  pd.set_option('display.max_colwidth',-1)\n"
     ]
    }
   ],
   "source": [
    "from llama_index.vector_stores import WeaviateVectorStore\n",
    "from llama_index.schema import TextNode\n",
    "from llama_index import VectorStoreIndex, StorageContext\n",
    "import weaviate, os\n",
    "from weaviate import EmbeddedOptions\n",
    "from openai import OpenAI\n",
    "import pandas as pd\n",
    "import numpy as np\n",
    "from llama_index import ServiceContext\n",
    "from llama_index.llms import OpenAI\n",
    "from llama_index.embeddings import OpenAIEmbedding\n",
    "from configparser import ConfigParser\n",
    "import openai\n",
    "import os\n",
    "\n",
    "pd.set_option('display.max_colwidth',-1)"
   ]
  },
  {
   "cell_type": "markdown",
   "id": "4c4c93f3-2feb-47c9-b8a3-508b8aff4d44",
   "metadata": {},
   "source": [
    "## Set openAI"
   ]
  },
  {
   "cell_type": "code",
   "execution_count": 7,
   "id": "c1adb126-d23a-43b8-8f1d-2efde9275bdf",
   "metadata": {},
   "outputs": [],
   "source": [
    "config=ConfigParser()\n",
    "config.read('conf/conf.ini')\n",
    "os.environ[\"OPENAI_API_KEY\"] = config['openai']['apikey']"
   ]
  },
  {
   "cell_type": "markdown",
   "id": "06cee275-b8a1-492d-ae81-3911387c64fc",
   "metadata": {},
   "source": [
    "## Set weaviate"
   ]
  },
  {
   "cell_type": "code",
   "execution_count": 8,
   "id": "294fe179-1c1b-48c3-b425-e99021b4c297",
   "metadata": {},
   "outputs": [],
   "source": [
    "# !rm -rf ~/.local/share/weaviate"
   ]
  },
  {
   "cell_type": "code",
   "execution_count": 9,
   "id": "4b8d2065-1fbc-4fe8-b7f4-94ca59e83918",
   "metadata": {},
   "outputs": [
    {
     "name": "stdout",
     "output_type": "stream",
     "text": [
      "Binary /root/.cache/weaviate-embedded did not exist. Downloading binary from https://github.com/weaviate/weaviate/releases/download/v1.22.3/weaviate-v1.22.3-Linux-amd64.tar.gz\n",
      "Started /root/.cache/weaviate-embedded: process ID 116\n",
      "Client created? True\n"
     ]
    },
    {
     "name": "stderr",
     "output_type": "stream",
     "text": [
      "{\"action\":\"startup\",\"default_vectorizer_module\":\"none\",\"level\":\"info\",\"msg\":\"the default vectorizer modules is set to \\\"none\\\", as a result all new schema classes without an explicit vectorizer setting, will use this vectorizer\",\"time\":\"2023-12-11T17:35:30Z\"}\n",
      "{\"action\":\"startup\",\"auto_schema_enabled\":true,\"level\":\"info\",\"msg\":\"auto schema enabled setting is set to \\\"true\\\"\",\"time\":\"2023-12-11T17:35:30Z\"}\n",
      "{\"level\":\"warning\",\"msg\":\"Multiple vector spaces are present, GraphQL Explore and REST API list objects endpoint module include params has been disabled as a result.\",\"time\":\"2023-12-11T17:35:30Z\"}\n",
      "{\"action\":\"grpc_startup\",\"level\":\"info\",\"msg\":\"grpc server listening at [::]:50060\",\"time\":\"2023-12-11T17:35:30Z\"}\n",
      "{\"action\":\"restapi_management\",\"level\":\"info\",\"msg\":\"Serving weaviate at http://127.0.0.1:8079\",\"time\":\"2023-12-11T17:35:30Z\"}\n"
     ]
    }
   ],
   "source": [
    "client = weaviate.Client(\n",
    "    embedded_options=EmbeddedOptions(),\n",
    "    # additional_headers={\n",
    "    #     \"X-OpenAI-Api-BaseURL\": os.environ['OPENAI_API_BASE'],\n",
    "    #     \"X-OpenAI-Api-Key\": openai.api_key,  # Replace this with your actual key\n",
    "    # }\n",
    ")\n",
    "print(f\"Client created? {client.is_ready()}\")"
   ]
  },
  {
   "cell_type": "markdown",
   "id": "dc1473dc-0990-4f66-9c4a-9258f878123e",
   "metadata": {},
   "source": [
    "## Schema"
   ]
  },
  {
   "cell_type": "code",
   "execution_count": 10,
   "id": "7f482135-cda2-45fb-b5d0-5956125f07e1",
   "metadata": {},
   "outputs": [],
   "source": [
    "# if client.schema.exists(\"MyCollection\"):\n",
    "#     client.schema.delete_class(\"MyCollection\")\n",
    "\n",
    "# schema = {\n",
    "#     \"class\": \"MyCollection\",\n",
    "#     \"vectorizer\": \"none\",\n",
    "#     # \"vectorIndexConfig\": {\n",
    "#     #     \"distance\": \"cosine\" # make sure to provide the distance metric to search through your vectors\n",
    "#     # },\n",
    "# }\n",
    "\n",
    "# client.schema.create_class(schema)\n",
    "\n",
    "# print(\"Successfully created the schema.\")"
   ]
  },
  {
   "cell_type": "markdown",
   "id": "ac1f813a-9a2e-4309-982a-2e8b0adbe670",
   "metadata": {},
   "source": [
    "## Insert data"
   ]
  },
  {
   "cell_type": "code",
   "execution_count": 11,
   "id": "fb4b7d8e-4d62-4f40-8835-7e3917d2826d",
   "metadata": {},
   "outputs": [
    {
     "name": "stderr",
     "output_type": "stream",
     "text": [
      "/usr/lib/python3/dist-packages/openpyxl/compat/numbers.py:41: DeprecationWarning: `np.float` is a deprecated alias for the builtin `float`. To silence this warning, use `float` by itself. Doing this will not modify any behavior and is safe. If you specifically wanted the numpy scalar type, use `np.float64` here.\n",
      "Deprecated in NumPy 1.20; for more details and guidance: https://numpy.org/devdocs/release/1.20.0-notes.html#deprecations\n",
      "  numpy.float,\n"
     ]
    }
   ],
   "source": [
    "df=pd.read_excel('data/riigikogu/ems_subset.xlsx')\n",
    "embs=np.load('data/riigikogu/emsb.npy', allow_pickle=True)"
   ]
  },
  {
   "cell_type": "code",
   "execution_count": 12,
   "id": "fd6e651a-fbc6-4f11-9a20-11ae203aa1e0",
   "metadata": {},
   "outputs": [
    {
     "data": {
      "text/plain": [
       "((1000, 1), (1000,))"
      ]
     },
     "execution_count": 12,
     "metadata": {},
     "output_type": "execute_result"
    }
   ],
   "source": [
    "df.shape, embs.shape"
   ]
  },
  {
   "cell_type": "code",
   "execution_count": 13,
   "id": "b21c73ed-90ee-40e4-90e8-39919fb4d23f",
   "metadata": {},
   "outputs": [],
   "source": [
    "data=[{'text':row['text_splitted'],'foo':i, 'vector':embs[i], } for i, row in df.iterrows()]"
   ]
  },
  {
   "cell_type": "code",
   "execution_count": 14,
   "id": "bf3d1213-a5f1-430a-b7aa-bcb2e1bb2791",
   "metadata": {},
   "outputs": [],
   "source": [
    "#https://docs.llamaindex.ai/en/stable/examples/low_level/oss_ingestion_retrieval.html#manually-construct-nodes-from-text-chunks\n",
    "nodes = []\n",
    "for idx, sample in enumerate(data):\n",
    "    node = TextNode(\n",
    "        text=sample['text'],\n",
    "    )\n",
    "    node.embedding=sample['vector']\n",
    "    nodes.append(node)"
   ]
  },
  {
   "cell_type": "markdown",
   "id": "a2b63e06-c5bd-4ca4-a505-2d2f60666075",
   "metadata": {},
   "source": [
    "## Create vector store"
   ]
  },
  {
   "cell_type": "code",
   "execution_count": 15,
   "id": "997dcba5-da77-4934-8d6b-2bca5390ef8a",
   "metadata": {},
   "outputs": [
    {
     "name": "stderr",
     "output_type": "stream",
     "text": [
      "[nltk_data] Downloading package punkt to /tmp/llama_index...\n",
      "[nltk_data]   Unzipping tokenizers/punkt.zip.\n"
     ]
    }
   ],
   "source": [
    "llm = OpenAI(model=\"gpt-3.5-turbo\", temperature=0.1)\n",
    "embed_model=OpenAIEmbedding()\n",
    "\n",
    "service_context = ServiceContext.from_defaults(\n",
    "    llm=llm, embed_model=embed_model\n",
    ")"
   ]
  },
  {
   "cell_type": "code",
   "execution_count": 16,
   "id": "af4fb430-860f-4ef5-b1f8-25e97fa19751",
   "metadata": {},
   "outputs": [],
   "source": [
    "# service_context = ServiceContext.from_defaults(llm=None,context_window=1000, embed_model='local')"
   ]
  },
  {
   "cell_type": "code",
   "execution_count": 17,
   "id": "63ef1bc0-f477-48ba-931c-c7e19c14fb3c",
   "metadata": {},
   "outputs": [
    {
     "name": "stderr",
     "output_type": "stream",
     "text": [
      "{\"action\":\"hnsw_vector_cache_prefill\",\"count\":1000,\"index_id\":\"riigikogu_O2ulInYPXccb\",\"level\":\"info\",\"limit\":1000000000000,\"msg\":\"prefilled vector cache\",\"time\":\"2023-12-11T17:35:38Z\",\"took\":91717}\n"
     ]
    }
   ],
   "source": [
    "# construct vector store\n",
    "vector_store = WeaviateVectorStore(weaviate_client = client, index_name=\"Riigikogu\", text_key=\"text\")\n",
    "\n",
    "# setting up the storage for the embeddings\n",
    "storage_context = StorageContext.from_defaults(vector_store = vector_store)\n",
    "\n",
    "# set up the index\n",
    "index = VectorStoreIndex(nodes, storage_context = storage_context, service_context=service_context)"
   ]
  },
  {
   "cell_type": "code",
   "execution_count": 18,
   "id": "24e4a682-261d-4bcf-8bf2-2754c1303e02",
   "metadata": {},
   "outputs": [],
   "source": [
    "# client.batch.configure(batch_size=10)  # Configure batch\n",
    "\n",
    "# # Batch import all objects\n",
    "# # yes batch is an overkill for 5 objects, but it is recommended for large volumes of data\n",
    "# with client.batch as batch:\n",
    "#     for item in data:\n",
    "\n",
    "#         properties = {\n",
    "#          \"text\": item[\"text\"],\n",
    "#          \"foo\": item[\"foo\"],\n",
    "#         }\n",
    "\n",
    "#         # the call that performs data insert\n",
    "#         client.batch.add_data_object(\n",
    "#          class_name=\"MyCollection\",\n",
    "#          data_object=properties,\n",
    "#          vector=item[\"vector\"] # your vector embeddings go here\n",
    "#         )\n",
    "\n",
    "# print(\"Data import complete\")"
   ]
  },
  {
   "cell_type": "code",
   "execution_count": 19,
   "id": "eadd2d57-edbc-4108-bef3-ff4ed07e08fc",
   "metadata": {},
   "outputs": [],
   "source": [
    "# # Check number of objects\n",
    "# response = (\n",
    "#     client.query\n",
    "#     .aggregate(\"MyCollection\")\n",
    "#     .with_meta_count()\n",
    "#     .do()\n",
    "# )\n",
    "\n",
    "# print(response)"
   ]
  },
  {
   "cell_type": "markdown",
   "id": "a805bcf3-fa36-476c-99b7-d6eddbf22a13",
   "metadata": {},
   "source": [
    "## Query engine"
   ]
  },
  {
   "cell_type": "code",
   "execution_count": 20,
   "id": "5a833d84-8aef-4061-ba96-dd154ad9dd52",
   "metadata": {},
   "outputs": [],
   "source": [
    "query_engine = index.as_query_engine()"
   ]
  },
  {
   "cell_type": "code",
   "execution_count": 24,
   "id": "1bc1a8da-de7e-45f0-a7b3-abfe7f45df97",
   "metadata": {},
   "outputs": [],
   "source": [
    "query_str = \"milliseid ettepanuekuid arutatakse, et riigieelarve tasakaalu saada?\""
   ]
  },
  {
   "cell_type": "code",
   "execution_count": 25,
   "id": "368031b1-dd5b-4450-aaba-b95d5c56e920",
   "metadata": {},
   "outputs": [],
   "source": [
    "response = query_engine.query(query_str)"
   ]
  },
  {
   "cell_type": "code",
   "execution_count": 26,
   "id": "4d4071ce-acee-4344-8236-0c73c7d52d05",
   "metadata": {},
   "outputs": [
    {
     "data": {
      "text/plain": [
       "'Et riigieelarve tasakaalu saavutada, arutatakse erinevaid ettepanekuid. Üks võimalus on suurendada maksude kogumist, et tagada maksude tõhus kogumine. Samuti võidakse kaaluda kulude vähendamist või suurendada panustamist teenustesse, et tasakaalustada riigieelarvet.'"
      ]
     },
     "execution_count": 26,
     "metadata": {},
     "output_type": "execute_result"
    }
   ],
   "source": [
    "response.response"
   ]
  },
  {
   "cell_type": "code",
   "execution_count": 27,
   "id": "0c98b622-a441-47e0-9d19-1b061213cc5d",
   "metadata": {},
   "outputs": [
    {
     "data": {
      "text/plain": [
       "2"
      ]
     },
     "execution_count": 27,
     "metadata": {},
     "output_type": "execute_result"
    }
   ],
   "source": [
    "len(response.source_nodes)"
   ]
  },
  {
   "cell_type": "code",
   "execution_count": 28,
   "id": "7d85526d-4985-4141-81df-3a476f352bd6",
   "metadata": {},
   "outputs": [
    {
     "data": {
      "text/plain": [
       "'maksud ei ole ainuke võimalus asju mõjutada ja seejärel tulevad otsused rakendamised ja kindlasti järelhindamised mis võib-olla ei ole tänase diskussiooni teema aga ma proovin alustada algusest mis on üldse eesmärk kas eesmärk on saada rohkem raha riigieelarvesse kas probleemiks on väike maksukoormus mina arvan et meie eesmärk on saavutada võimalikult suur heaolu ja seda pidevalt suurendada ühiskonna heaolu saab tugineda üksnes majanduskasvule ja majanduskasv tuleneb ikka ainult ettevõtlusest nii et see on esimene asi mille peale tuleb mõelda järgmine'"
      ]
     },
     "execution_count": 28,
     "metadata": {},
     "output_type": "execute_result"
    }
   ],
   "source": [
    "response.source_nodes[0].text"
   ]
  },
  {
   "cell_type": "code",
   "execution_count": 29,
   "id": "b081d7a1-5930-4544-9742-355ab4ab57a9",
   "metadata": {},
   "outputs": [
    {
     "data": {
      "text/plain": [
       "'inimesed nii nagu igal pere eelarvel on ka riigieelarvel tulud ja kulud ning tasakaal võrrand on paigas kui tahame rohkem teenuseid siis tuleb ka rohkem panustada teisi võimalusi lihtsalt ei ole seejuures on riigieelarves suur fikseeritud kulude osakaal üle 80% kui taasiseseisvunud eestis alustati maksureformi siis oli ühtlase tulumaksu üks eesmärkidest tagada maksude tõhus kogumine sest iseseisvunud riigil puudus kogenud ametkond maksude kogumiseks selle puudumine oleks toonud kaasa maksude alalaekumise ning põrandaaluse majanduse osakaalu kasvu loodeti et madalamad maksud distsiplineerivad'"
      ]
     },
     "execution_count": 29,
     "metadata": {},
     "output_type": "execute_result"
    }
   ],
   "source": [
    "response.source_nodes[1].text"
   ]
  },
  {
   "cell_type": "code",
   "execution_count": 30,
   "id": "5d7c3022-667c-4990-893a-9e2eba00f3ac",
   "metadata": {},
   "outputs": [
    {
     "data": {
      "text/html": [
       "<div>\n",
       "<style scoped>\n",
       "    .dataframe tbody tr th:only-of-type {\n",
       "        vertical-align: middle;\n",
       "    }\n",
       "\n",
       "    .dataframe tbody tr th {\n",
       "        vertical-align: top;\n",
       "    }\n",
       "\n",
       "    .dataframe thead th {\n",
       "        text-align: right;\n",
       "    }\n",
       "</style>\n",
       "<table border=\"1\" class=\"dataframe\">\n",
       "  <thead>\n",
       "    <tr style=\"text-align: right;\">\n",
       "      <th></th>\n",
       "      <th>text_splitted</th>\n",
       "    </tr>\n",
       "  </thead>\n",
       "  <tbody>\n",
       "  </tbody>\n",
       "</table>\n",
       "</div>"
      ],
      "text/plain": [
       "Empty DataFrame\n",
       "Columns: [text_splitted]\n",
       "Index: []"
      ]
     },
     "execution_count": 30,
     "metadata": {},
     "output_type": "execute_result"
    }
   ],
   "source": [
    "df[df.text_splitted.str.contains('need ei ole süsteemselt esitatud')]"
   ]
  },
  {
   "cell_type": "code",
   "execution_count": 31,
   "id": "b2870a12-c4c5-4c58-b773-13c881f7d3a9",
   "metadata": {},
   "outputs": [
    {
     "data": {
      "text/html": [
       "<div>\n",
       "<style scoped>\n",
       "    .dataframe tbody tr th:only-of-type {\n",
       "        vertical-align: middle;\n",
       "    }\n",
       "\n",
       "    .dataframe tbody tr th {\n",
       "        vertical-align: top;\n",
       "    }\n",
       "\n",
       "    .dataframe thead th {\n",
       "        text-align: right;\n",
       "    }\n",
       "</style>\n",
       "<table border=\"1\" class=\"dataframe\">\n",
       "  <thead>\n",
       "    <tr style=\"text-align: right;\">\n",
       "      <th></th>\n",
       "      <th>text_splitted</th>\n",
       "    </tr>\n",
       "  </thead>\n",
       "  <tbody>\n",
       "    <tr>\n",
       "      <th>243</th>\n",
       "      <td>programmilised ettekanded olemas peab rääkima ühest väikesest maksust see on häbi ja siis tuleb üks kodanik kes kindlasti kaaperdab kogu selle debati ajakirjanduse jaoks jälle tema nägu jälle mis tema ütleb kuigi ta räägib läbisegi kõigest ja ei millestki ta räägib justkui ka maksusüsteemist aga täiesti süsteemitult igat tema väidet me oleme arutanud palju kordi ja selles mõttes on need teemad ju kõik maksunduses teada aga uitmõtetena neid lihtsalt ritta seada sobib küll kui sa esindad kedagi kui sa oled</td>\n",
       "    </tr>\n",
       "  </tbody>\n",
       "</table>\n",
       "</div>"
      ],
      "text/plain": [
       "                                                                                                                                                                                                                                                                                                                                                                                                                                                                                                                     text_splitted\n",
       "243  programmilised ettekanded olemas peab rääkima ühest väikesest maksust see on häbi ja siis tuleb üks kodanik kes kindlasti kaaperdab kogu selle debati ajakirjanduse jaoks jälle tema nägu jälle mis tema ütleb kuigi ta räägib läbisegi kõigest ja ei millestki ta räägib justkui ka maksusüsteemist aga täiesti süsteemitult igat tema väidet me oleme arutanud palju kordi ja selles mõttes on need teemad ju kõik maksunduses teada aga uitmõtetena neid lihtsalt ritta seada sobib küll kui sa esindad kedagi kui sa oled"
      ]
     },
     "execution_count": 31,
     "metadata": {},
     "output_type": "execute_result"
    }
   ],
   "source": [
    "df[df.text_splitted.str.contains('programmilised ettekanded olemas peab rääkima ühest väikesest')]"
   ]
  },
  {
   "cell_type": "code",
   "execution_count": 32,
   "id": "8eeca347-afcc-437b-b632-02182484ed54",
   "metadata": {},
   "outputs": [
    {
     "data": {
      "text/html": [
       "<div>\n",
       "<style scoped>\n",
       "    .dataframe tbody tr th:only-of-type {\n",
       "        vertical-align: middle;\n",
       "    }\n",
       "\n",
       "    .dataframe tbody tr th {\n",
       "        vertical-align: top;\n",
       "    }\n",
       "\n",
       "    .dataframe thead th {\n",
       "        text-align: right;\n",
       "    }\n",
       "</style>\n",
       "<table border=\"1\" class=\"dataframe\">\n",
       "  <thead>\n",
       "    <tr style=\"text-align: right;\">\n",
       "      <th></th>\n",
       "      <th>text_splitted</th>\n",
       "    </tr>\n",
       "  </thead>\n",
       "  <tbody>\n",
       "    <tr>\n",
       "      <th>495</th>\n",
       "      <td>aitäh lugupeetud istungi juhataja mu küsimus on kaja kallasele peale valimisi esmaspäeval helistas mulle üks väga usin perearst kes teatas et temale on valitsuse poolt antud selline kohustus et nädalas tuleb vaktsineerida 120 inimest ja seda enne kui teie valitsuse korraldus jõustus küsimus on probleemne selles mõttes et see kohustus kehtib kõigile perearstidele tulemuseks on see et me ei hooli inimeste tervisest sellest kas nad on vastuvõtlikud sellele vaktsiinile või mitte sest on ju ka autoimmuunseid inimesi ja ka neid</td>\n",
       "    </tr>\n",
       "    <tr>\n",
       "      <th>485</th>\n",
       "      <td>merry aart palun sõna on teil</td>\n",
       "    </tr>\n",
       "    <tr>\n",
       "      <th>417</th>\n",
       "      <td>jaa kohalikud valimised pakkusid võimalust olla rohepöörde epitsentris pärnu maakonnas ja vaieldamatult sattusin ma ka diskussioonidesse kus räägiti just tuuleparkidest rahva küsimus on väga lihtne miks on nii et tootsi tuulepargi võimekus on välja arendatud on välja ehitatud alajaam liitumisvõimekus riigi rahaga on seda kompenseeritud aga tänaseni tuleb sealt null kilovatt-tundi elektrienergiat ehk tegelikult me maksame kinni oma tegematajätmist seda projekti on algatatud aastast 2009. täna oleme aastas 2021 ja olukord on selline et kaks riigiettevõtet käivad omavahel kohut paralleelselt</td>\n",
       "    </tr>\n",
       "    <tr>\n",
       "      <th>409</th>\n",
       "      <td>aitäh austatud peaminister euroopa rohelise kokkuleppe aluseks on lubadus et rohepööre on majanduslikult tulus ning sotsiaalselt õiglane ja et mitte kedagi ei jäeta maha tänases lehes ütleb arenguseire keskuse juhataja tea danilov et rohepöörde hetkel veel lõpuni teadmata majanduslik mõju on ilmne me ei tea tegelikult kuidas see meie majandust ja konkurentsivõimet mõjutab mõju on energiavarustuskindlusele samuti toob see kaasa üleminekuraskusi haavatavatele elanikkonnagruppidele tegelikult puudutab ta oma väljaütlemisega kahte põhilist alustala ehk ettevõtlussektorit majandusruumi pluss energiavarustuskindlust ehk meie julgeolekutemaatikat ja</td>\n",
       "    </tr>\n",
       "    <tr>\n",
       "      <th>262</th>\n",
       "      <td>kuuluvad oma sissetulekuga miinimumpalka saavad õpetajad kultuuritöötajad jt koalitsiooni esindaja rääkis siin energiamaksudest no me teame et gaasiaktsiis on tõusnud mitu aastat järjest ja tõuseb ka järgmisel aastal see ei ole mingisugune väike asi sest see puudutab konkurentsiteemat meie gaasiaktsiisi määr on kordades kõrgem kui teistel riikidel gaasiaktsiis mõjutab ka kodutarbijaid samuti kaugküttetarbijaid kuna piirkoormusi kaetakse ka gaasi abil nii et võimuliit peaks tegelikult vastama ka küsimusele millised on plaanid hinnatõusude leevendamiseks me ju oleme oma hinnatõusudega juba pikka aega</td>\n",
       "    </tr>\n",
       "    <tr>\n",
       "      <th>737</th>\n",
       "      <td>aitäh hea juhataja hea minister kurb oli kuulda et juriidilise teksti puhul peame me toetuma ministri usule kui marek strandberg küsis kas juriidiliselt on lasteaial mingisugust kaitset kaitsmaks ennast ülisuurte rühmade eest siiamaani oli liitrühmade puhul selge kaitse olemas siis te ütlesite et te usute seda järelikult on vastus et ei ole minul on küsimus mida küsis minu käest nüüdseks juba kolme lasteaia juhataja ta küsis väga konkreetselt palun küsige ministri käest et kui tuleb teadlik lapsevanem kes ütleb et</td>\n",
       "    </tr>\n",
       "    <tr>\n",
       "      <th>462</th>\n",
       "      <td>haeska tulistamise kohta kui närvid kaotanud politseinik vastutusvõimetu inimese lihtsalt kohapeal maha lasi ega me ei tea mis juhtunud on missugustele järeldustele on sisejuurdlus jõudnud küll teame me aga seda et politseiniku ja politseijaoskonna ülema vahel on sugulussidemed nüüd viimane näide 5. oktoobril politsei jõhkralt käitus asjasse mitte puutuva mitte tagaotsitava mitte menetletava mitte süüdistatava jaan hattoga purustas tema maja ukse pani ta käed raudu pani ta viieks tunniks raudus kätega põrandale ja purustas tema saunaukse seda kõike ettekäändel et</td>\n",
       "    </tr>\n",
       "    <tr>\n",
       "      <th>513</th>\n",
       "      <td>riigi tseremoniaalorkester aga mis puudutab kaitseväe orkestrit siis vormistatakse lepinguid nende lepingutega on niimoodi et nad võetakse tööle poole kohaga paljud pillimehed ei taha minna niimoodi poole kohaga tööle ja see tähendab seda et see orkester hakkab vaikselt lagunema ma olen rääkinud ka endiste orkestrijuhtidega et teha tseremoniaalorkestrit selleks läheb aastaid aega selleks et tema tattoo 'd rahvusvaheline tunnustatus kõik säiliks ja areneks edasi me lagundame praegu selle orkestri ära ja saame mingisuguse 20‑mehelise kuidas nüüd ilusasti öelda orkestri mis</td>\n",
       "    </tr>\n",
       "    <tr>\n",
       "      <th>515</th>\n",
       "      <td>aitäh ma olen lugenud ajalugu see orkester on tegelikult olnud väga erinevate nimede all kuna mul ei ole seda materjali praegu kaasas siis ma peast meenutan et algusaegadel oli ta vist sõjaväeorkester siis muudeti orkestri nime ja seda orkestrit näiteks oli ta muideks üksvahe aastaarvudega ma muidugi võin eksida ma ei hakka neid kasutama tallinna garnisoni orkester neid faase on olnud erinevaid mis on oluline oluline on see et nende inimestega juba 34-ga on need lepingud sõlmitud ma saan aru</td>\n",
       "    </tr>\n",
       "    <tr>\n",
       "      <th>381</th>\n",
       "      <td>aitäh siin oli kompleksne kogus väga olulisi küsimusi alustan kõige akuutsemast mida me esmaspäeval koos euroopa liidu välisministritega taas ühiselt arutasime see puudutab seda kuidas tagada euroopa liidu välispiiri turvalisus et valgevenest suunatud immigrantide voog läti leedu ja poola suunas saaks peatatud on tõepoolest väga kahetsusväärne et valgevene selliseid hübriidrünnakuid euroopa liidu suunas poliitiliselt kallutatud rünnakuid on toime panemas väga loodame et see piir saab tugevdatud siin on käivitatud mitmed abimehhanismid üks nendest on loomulikult frontex mis tagab välispiiri turvalisust</td>\n",
       "    </tr>\n",
       "  </tbody>\n",
       "</table>\n",
       "</div>"
      ],
      "text/plain": [
       "                                                                                                                                                                                                                                                                                                                                                                                                                                                                                                                                                                                                                                                                  text_splitted\n",
       "495  aitäh lugupeetud istungi juhataja mu küsimus on kaja kallasele peale valimisi esmaspäeval helistas mulle üks väga usin perearst kes teatas et temale on valitsuse poolt antud selline kohustus et nädalas tuleb vaktsineerida 120 inimest ja seda enne kui teie valitsuse korraldus jõustus küsimus on probleemne selles mõttes et see kohustus kehtib kõigile perearstidele tulemuseks on see et me ei hooli inimeste tervisest sellest kas nad on vastuvõtlikud sellele vaktsiinile või mitte sest on ju ka autoimmuunseid inimesi ja ka neid                                                                                                                           \n",
       "485  merry aart palun sõna on teil                                                                                                                                                                                                                                                                                                                                                                                                                                                                                                                                                                                                                                             \n",
       "417  jaa kohalikud valimised pakkusid võimalust olla rohepöörde epitsentris pärnu maakonnas ja vaieldamatult sattusin ma ka diskussioonidesse kus räägiti just tuuleparkidest rahva küsimus on väga lihtne miks on nii et tootsi tuulepargi võimekus on välja arendatud on välja ehitatud alajaam liitumisvõimekus riigi rahaga on seda kompenseeritud aga tänaseni tuleb sealt null kilovatt-tundi elektrienergiat ehk tegelikult me maksame kinni oma tegematajätmist seda projekti on algatatud aastast 2009. täna oleme aastas 2021 ja olukord on selline et kaks riigiettevõtet käivad omavahel kohut paralleelselt                                                       \n",
       "409  aitäh austatud peaminister euroopa rohelise kokkuleppe aluseks on lubadus et rohepööre on majanduslikult tulus ning sotsiaalselt õiglane ja et mitte kedagi ei jäeta maha tänases lehes ütleb arenguseire keskuse juhataja tea danilov et rohepöörde hetkel veel lõpuni teadmata majanduslik mõju on ilmne me ei tea tegelikult kuidas see meie majandust ja konkurentsivõimet mõjutab mõju on energiavarustuskindlusele samuti toob see kaasa üleminekuraskusi haavatavatele elanikkonnagruppidele tegelikult puudutab ta oma väljaütlemisega kahte põhilist alustala ehk ettevõtlussektorit majandusruumi pluss energiavarustuskindlust ehk meie julgeolekutemaatikat ja\n",
       "262  kuuluvad oma sissetulekuga miinimumpalka saavad õpetajad kultuuritöötajad jt koalitsiooni esindaja rääkis siin energiamaksudest no me teame et gaasiaktsiis on tõusnud mitu aastat järjest ja tõuseb ka järgmisel aastal see ei ole mingisugune väike asi sest see puudutab konkurentsiteemat meie gaasiaktsiisi määr on kordades kõrgem kui teistel riikidel gaasiaktsiis mõjutab ka kodutarbijaid samuti kaugküttetarbijaid kuna piirkoormusi kaetakse ka gaasi abil nii et võimuliit peaks tegelikult vastama ka küsimusele millised on plaanid hinnatõusude leevendamiseks me ju oleme oma hinnatõusudega juba pikka aega                                             \n",
       "737  aitäh hea juhataja hea minister kurb oli kuulda et juriidilise teksti puhul peame me toetuma ministri usule kui marek strandberg küsis kas juriidiliselt on lasteaial mingisugust kaitset kaitsmaks ennast ülisuurte rühmade eest siiamaani oli liitrühmade puhul selge kaitse olemas siis te ütlesite et te usute seda järelikult on vastus et ei ole minul on küsimus mida küsis minu käest nüüdseks juba kolme lasteaia juhataja ta küsis väga konkreetselt palun küsige ministri käest et kui tuleb teadlik lapsevanem kes ütleb et                                                                                                                                   \n",
       "462  haeska tulistamise kohta kui närvid kaotanud politseinik vastutusvõimetu inimese lihtsalt kohapeal maha lasi ega me ei tea mis juhtunud on missugustele järeldustele on sisejuurdlus jõudnud küll teame me aga seda et politseiniku ja politseijaoskonna ülema vahel on sugulussidemed nüüd viimane näide 5. oktoobril politsei jõhkralt käitus asjasse mitte puutuva mitte tagaotsitava mitte menetletava mitte süüdistatava jaan hattoga purustas tema maja ukse pani ta käed raudu pani ta viieks tunniks raudus kätega põrandale ja purustas tema saunaukse seda kõike ettekäändel et                                                                                 \n",
       "513  riigi tseremoniaalorkester aga mis puudutab kaitseväe orkestrit siis vormistatakse lepinguid nende lepingutega on niimoodi et nad võetakse tööle poole kohaga paljud pillimehed ei taha minna niimoodi poole kohaga tööle ja see tähendab seda et see orkester hakkab vaikselt lagunema ma olen rääkinud ka endiste orkestrijuhtidega et teha tseremoniaalorkestrit selleks läheb aastaid aega selleks et tema tattoo 'd rahvusvaheline tunnustatus kõik säiliks ja areneks edasi me lagundame praegu selle orkestri ära ja saame mingisuguse 20‑mehelise kuidas nüüd ilusasti öelda orkestri mis                                                                         \n",
       "515  aitäh ma olen lugenud ajalugu see orkester on tegelikult olnud väga erinevate nimede all kuna mul ei ole seda materjali praegu kaasas siis ma peast meenutan et algusaegadel oli ta vist sõjaväeorkester siis muudeti orkestri nime ja seda orkestrit näiteks oli ta muideks üksvahe aastaarvudega ma muidugi võin eksida ma ei hakka neid kasutama tallinna garnisoni orkester neid faase on olnud erinevaid mis on oluline oluline on see et nende inimestega juba 34-ga on need lepingud sõlmitud ma saan aru                                                                                                                                                          \n",
       "381  aitäh siin oli kompleksne kogus väga olulisi küsimusi alustan kõige akuutsemast mida me esmaspäeval koos euroopa liidu välisministritega taas ühiselt arutasime see puudutab seda kuidas tagada euroopa liidu välispiiri turvalisus et valgevenest suunatud immigrantide voog läti leedu ja poola suunas saaks peatatud on tõepoolest väga kahetsusväärne et valgevene selliseid hübriidrünnakuid euroopa liidu suunas poliitiliselt kallutatud rünnakuid on toime panemas väga loodame et see piir saab tugevdatud siin on käivitatud mitmed abimehhanismid üks nendest on loomulikult frontex mis tagab välispiiri turvalisust                                          "
      ]
     },
     "execution_count": 32,
     "metadata": {},
     "output_type": "execute_result"
    }
   ],
   "source": [
    "df.sample(10)"
   ]
  },
  {
   "cell_type": "markdown",
   "id": "1165ee27-335b-414b-b2fd-125e2edabdc7",
   "metadata": {},
   "source": [
    "## Question which needs aggregation"
   ]
  },
  {
   "cell_type": "code",
   "execution_count": 33,
   "id": "1c4f622c-aacf-4592-aee6-3647a2f15861",
   "metadata": {},
   "outputs": [
    {
     "data": {
      "text/plain": [
       "'Maksupoliitikat mainitakse ühes tekstis.'"
      ]
     },
     "execution_count": 33,
     "metadata": {},
     "output_type": "execute_result"
    }
   ],
   "source": [
    "query_str = \"kui mitmes tekstis mainitakse maksupoliitikat?\"\n",
    "response = query_engine.query(query_str)\n",
    "response.response"
   ]
  },
  {
   "cell_type": "code",
   "execution_count": 34,
   "id": "eb002925-56c4-4d51-bf89-f7cb4beef9ea",
   "metadata": {},
   "outputs": [
    {
     "data": {
      "text/html": [
       "<div>\n",
       "<style scoped>\n",
       "    .dataframe tbody tr th:only-of-type {\n",
       "        vertical-align: middle;\n",
       "    }\n",
       "\n",
       "    .dataframe tbody tr th {\n",
       "        vertical-align: top;\n",
       "    }\n",
       "\n",
       "    .dataframe thead th {\n",
       "        text-align: right;\n",
       "    }\n",
       "</style>\n",
       "<table border=\"1\" class=\"dataframe\">\n",
       "  <thead>\n",
       "    <tr style=\"text-align: right;\">\n",
       "      <th></th>\n",
       "      <th>text_splitted</th>\n",
       "    </tr>\n",
       "  </thead>\n",
       "  <tbody>\n",
       "    <tr>\n",
       "      <th>79</th>\n",
       "      <td>kohustus seda tulu mis nad tänu sellele saavad inimestega jagada kas see on maksupoliitika küsimus või see on pigem autoriõiguse küsimus</td>\n",
       "    </tr>\n",
       "    <tr>\n",
       "      <th>265</th>\n",
       "      <td>austatud eesistuja head kolleegid kuulates täna neid seisukohti küsimusi ja kogu arutelu tekkis mul mõte selleks et liikuda edasi õige pisut tagasi vaadata võib-olla keskenduks sellele miks meil on väga raske teha koostööd näiteks reformierakonnaga esiteks meil on täiesti erinevad seisukohad maksupoliitikas me teame mida kujutab endast reformierakonna lihtne maksusüsteem see on olnud tulumaksuprotsendi järjekindel langetamine 26%-lt 20%-le see tähendabki et võidavad suurepalgalised kusjuures võidavad väga-väga palju näiteks kui inimene teenib palka 500 eurot kuus siis ta võidab aastas ühekordse</td>\n",
       "    </tr>\n",
       "    <tr>\n",
       "      <th>861</th>\n",
       "      <td>austatud juhataja seda eelnõu arutas rahanduskomisjon 5. aprillil s.a istungil tutvustas eelnõu algatajate esindajana rahandusministeeriumi maksupoliitika osakonna peaspetsialist iiris põldma nagu minister õigesti märkis on eelnõu eesmärk tagada eesti valmisolek eurole üleminekuks riigilõivuseadus sätestab eurodes kõik eestis võetavate riigilõivude määrad mis seni on väljendatud kroonides siin ei ole sisulisi muudatusi ega poliitilisi otsuseid ühe või teise riigilõivumäära korrigeerimiseks ääremärkusena mainin et selle tulemuseks on muidugi see et kui riigilõivud on siiani üldjuhul olnud üsna ümmargused summad siis paraku nüüd kuna</td>\n",
       "    </tr>\n",
       "  </tbody>\n",
       "</table>\n",
       "</div>"
      ],
      "text/plain": [
       "                                                                                                                                                                                                                                                                                                                                                                                                                                                                                                                                                                                                                                                       text_splitted\n",
       "79   kohustus seda tulu mis nad tänu sellele saavad inimestega jagada kas see on maksupoliitika küsimus või see on pigem autoriõiguse küsimus                                                                                                                                                                                                                                                                                                                                                                                                                                                                                                                       \n",
       "265  austatud eesistuja head kolleegid kuulates täna neid seisukohti küsimusi ja kogu arutelu tekkis mul mõte selleks et liikuda edasi õige pisut tagasi vaadata võib-olla keskenduks sellele miks meil on väga raske teha koostööd näiteks reformierakonnaga esiteks meil on täiesti erinevad seisukohad maksupoliitikas me teame mida kujutab endast reformierakonna lihtne maksusüsteem see on olnud tulumaksuprotsendi järjekindel langetamine 26%-lt 20%-le see tähendabki et võidavad suurepalgalised kusjuures võidavad väga-väga palju näiteks kui inimene teenib palka 500 eurot kuus siis ta võidab aastas ühekordse                                      \n",
       "861  austatud juhataja seda eelnõu arutas rahanduskomisjon 5. aprillil s.a istungil tutvustas eelnõu algatajate esindajana rahandusministeeriumi maksupoliitika osakonna peaspetsialist iiris põldma nagu minister õigesti märkis on eelnõu eesmärk tagada eesti valmisolek eurole üleminekuks riigilõivuseadus sätestab eurodes kõik eestis võetavate riigilõivude määrad mis seni on väljendatud kroonides siin ei ole sisulisi muudatusi ega poliitilisi otsuseid ühe või teise riigilõivumäära korrigeerimiseks ääremärkusena mainin et selle tulemuseks on muidugi see et kui riigilõivud on siiani üldjuhul olnud üsna ümmargused summad siis paraku nüüd kuna"
      ]
     },
     "execution_count": 34,
     "metadata": {},
     "output_type": "execute_result"
    }
   ],
   "source": [
    "df[df.text_splitted.str.contains('maksupoliitika')]"
   ]
  },
  {
   "cell_type": "markdown",
   "id": "a1fc5cd4-6fcb-4e22-a038-836be6987dab",
   "metadata": {},
   "source": [
    "## Play with response syntheziser, node processors, retrievers"
   ]
  },
  {
   "cell_type": "code",
   "execution_count": 25,
   "id": "45b1e4a7-801d-4d0b-ad99-78d9fdb8fdf5",
   "metadata": {},
   "outputs": [],
   "source": [
    "#https://nanonets.com/blog/llamaindex/"
   ]
  },
  {
   "cell_type": "code",
   "execution_count": 35,
   "id": "c6382b60-9eb8-41b5-ae1a-908b306ec980",
   "metadata": {},
   "outputs": [],
   "source": [
    "from llama_index import get_response_synthesizer\n",
    "from llama_index.indices.postprocessor import SimilarityPostprocessor\n",
    "from llama_index.retrievers import VectorIndexRetriever\n",
    "from llama_index.query_engine import RetrieverQueryEngine\n",
    "\n",
    "# Set up the synthesizer\n",
    "my_synthesizer = get_response_synthesizer(response_mode=\"tree_summarize\")"
   ]
  },
  {
   "cell_type": "code",
   "execution_count": 36,
   "id": "835bbeeb-5780-477d-a6f0-76226f7d3ec3",
   "metadata": {},
   "outputs": [],
   "source": [
    "retriever = VectorIndexRetriever(\n",
    "    index=index,\n",
    "    similarity_top_k=20,\n",
    ")"
   ]
  },
  {
   "cell_type": "code",
   "execution_count": 37,
   "id": "05ad1385-8a06-4cc1-a3c2-a4bd3254950c",
   "metadata": {},
   "outputs": [],
   "source": [
    "query_engine = RetrieverQueryEngine(\n",
    "    retriever=retriever,\n",
    "    response_synthesizer=my_synthesizer,\n",
    "    node_postprocessors=[\n",
    "        SimilarityPostprocessor(similarity_cutoff=0.7)\n",
    "    ]\n",
    ")"
   ]
  },
  {
   "cell_type": "code",
   "execution_count": 29,
   "id": "bb7b3858-e50b-4169-bbda-979a4daa2df1",
   "metadata": {},
   "outputs": [],
   "source": [
    "query_str = \"milliseid ettepanuekuid arutatakse, et riigieelarve tasakaalu saada?\"\n",
    "response=query_engine.query(query_str)"
   ]
  },
  {
   "cell_type": "code",
   "execution_count": 30,
   "id": "7612c562-9906-4e44-a519-598aa6a5cba2",
   "metadata": {},
   "outputs": [
    {
     "data": {
      "text/plain": [
       "'Et riigieelarve tasakaalu saavutada, arutatakse mitmeid ettepanekuid. Üheks ettepanekuks on suurendada maksude kogumise efektiivsust, et olemasolevaid makse paremini kokku koguda. Samuti kaalutakse maksumäärade tõstmist või uute maksude kehtestamist. Lisaks arutatakse ka struktuursete reformide vajadust kulude kavandamisel, et tagada tõhusam rahakasutus.'"
      ]
     },
     "execution_count": 30,
     "metadata": {},
     "output_type": "execute_result"
    }
   ],
   "source": [
    "response.response"
   ]
  },
  {
   "cell_type": "code",
   "execution_count": 31,
   "id": "563af71a-b978-4c69-8fb2-0ee1ef76cf99",
   "metadata": {},
   "outputs": [],
   "source": [
    "query_str = \"milliseid teemade üle arutletakse?\"\n",
    "response=query_engine.query(query_str)"
   ]
  },
  {
   "cell_type": "code",
   "execution_count": 32,
   "id": "ea7ed840-40bf-4d85-a9c1-755185845e50",
   "metadata": {},
   "outputs": [
    {
     "data": {
      "text/plain": [
       "'Teemade üle arutletakse kliimaneutraalsuse saavutamiseks vajalike kulutuste, ökoloogilise maksuraamistiku muutmise, luksusautode maksustamise, maksusüsteemi, tarbimismaksude, majanduskasvu, ettevõtluse, keskkonnaprobleemide, kliima ja keskkonna muutuste ning planeeritud lõikuste edasilükkamise teemadel.'"
      ]
     },
     "execution_count": 32,
     "metadata": {},
     "output_type": "execute_result"
    }
   ],
   "source": [
    "response.response"
   ]
  },
  {
   "cell_type": "code",
   "execution_count": 35,
   "id": "0bd2a21b-6b52-46e2-8ec0-599bd3942f67",
   "metadata": {},
   "outputs": [],
   "source": [
    "query_str = \"milliseid seisukohti esitletakse ökoloogilise maksuraamistiku muutmiseks? Vasta eesti keeles\"\n",
    "response=query_engine.query(query_str)"
   ]
  },
  {
   "cell_type": "code",
   "execution_count": 36,
   "id": "6d8b87ad-e8bd-4c66-a626-943746464fd5",
   "metadata": {},
   "outputs": [
    {
     "data": {
      "text/plain": [
       "'Ökoloogilise maksuraamistiku muutmiseks esitletakse mitmeid seisukohti. Üks seisukoht on, et ökoloogiliselt puhastele toiduainetele tuleks kehtestada käibemaksuvabastus. Samuti arvatakse, et varade maksustamist tuleks suurendada ja keskmise ja väikese sissetulekuga inimeste palgalt võetavaid makse vähendada. Lisaks räägitakse ka rikkuse suuremast maksustamisest ning küsitakse, mida ja kuidas maksustada, näiteks kinnisvara või aktsiaid ja osakuid. Mõned inimesed toetavad ka keskkonnasõbralike valikute soodustamist läbi maksusoodustuste.'"
      ]
     },
     "execution_count": 36,
     "metadata": {},
     "output_type": "execute_result"
    }
   ],
   "source": [
    "response.response"
   ]
  },
  {
   "cell_type": "code",
   "execution_count": 39,
   "id": "7fc2f9e6-8d3d-4923-8e21-6bcabb8965d3",
   "metadata": {},
   "outputs": [
    {
     "data": {
      "text/plain": [
       "'> Source (Doc id: e87c97f1-eaeb-46e7-a09d-e8060169b3ce): lahendus on käibemaksuvabastus ökoloogiliselt puhastele toiduainetele järgmine teema varade maksu...\\n\\n> Source (Doc id: f17c5410-0c54-478a-9050-d05e692828e3): kui siis paar sekundit jah see teema on ülioluline ja me peaksime seda tõsiselt arutama mitte nae...\\n\\n> Source (Doc id: cac25036-c6c3-465f-a434-2877cd08188c): vabandama kui inimene tuleb ja ütleb et keskkonnasõbralikkuse huvides peab rohkem maksustama aga ...\\n\\n> Source (Doc id: 0de8761b-55c0-43e2-962f-0d42ec1f320b): tsiteeritud lause mis tõi meid siia ei vii meid enam edasi. kehtib täielikult ka eesti maksusüste...\\n\\n> Source (Doc id: 740d6392-2d4e-4d49-8f4c-bb4fe527a59b): näiteks kümme aastat tagasi olid ökotoodete letid kauplustes nii pikad kas me rääkisime keskkonna...\\n\\n> Source (Doc id: ad42e26a-f819-4239-9a86-a439f426c9a5): täna digimaksustamisest ei räägi õrnalt puudutan mõnesid maksumäärasid aga ma ei taha neid konkre...\\n\\n> Source (Doc id: 40a0ef42-d4ed-4d24-8f26-67559a49d07f): hindate on see maksusüsteem õiglane ma küsin seda ka ühest teisest aspektist eesti on muutunud pu...\\n\\n> Source (Doc id: ab3e8156-1be9-4ce1-a236-25b56bd60f6c): mis minu meelest on ka eestis üks suur võimalus ja väljakutse me saame keskkonnamaksu abil kas võ...\\n\\n> Source (Doc id: ed4e03c8-83b2-4f7e-9972-5f3677934ee2): suurema empaatiaga kui me viime tööjõumaksukoormust alla siis meil on palju rohkem valikuid me võ...\\n\\n> Source (Doc id: b7413ee4-de93-43bb-b898-a7b1effd555b): aitäh eesistuja ja aitäh eeskõneleja tänan väga hea ettekande eest pikalt on räägitud et maksudes...\\n\\n> Source (Doc id: a9a79fa3-df14-4bbd-9afe-28043ac28c6a): austatud juhataja seda eelnõu arutas rahanduskomisjon 5. aprillil s.a istungil tutvustas eelnõu a...\\n\\n> Source (Doc id: 4c49e149-51ff-4ec6-811b-554cd1b001c9): sellele vastas peeter eek et eelnõu tekst moodustab alla 1/3 kehtiva seaduse tekstist samuti asen...\\n\\n> Source (Doc id: 836a0f4d-d4e0-4572-867d-a8c9d52e3794): täna on meil päevakorras olulise tähtsusega riikliku küsimusena maksusüsteem kuidas edasi arutelu...\\n\\n> Source (Doc id: ec8203a3-6a81-44ca-a307-83227dc4f890): me peame kuidagi üle saama sellest dogmast et me ei tohi mitte midagi teha minu tagaaias minu kül...\\n\\n> Source (Doc id: 4519e877-3af4-4dd5-95f1-2292ffbc1d8c): maksustamisega. natuke ajaloost tegemist on sellise teemaga mille oecd ehk rahvusvaheline n-ö mak...\\n\\n> Source (Doc id: e99b069c-ebb9-48d2-bd69-59068fa6b95b): inimesi paremini maksusid tasuma ning süsteemi lihtsus võimaldab ka teostada tõhusamat kontrolli ...\\n\\n> Source (Doc id: eb052b9a-c467-4ba9-b8ff-4284c59bbf47): peale 3 miljardit tundi mis tegi ühe maksumaksja kohta keskmiseks ajakuluks 27 tundi aastas eesti...\\n\\n> Source (Doc id: c595b897-1bba-4055-894c-cadd34bc6e0e): kajastuda ka eelarves aga ei ma ei ütle et see tegelikult on õige viis seda muret lahendada on ot...\\n\\n> Source (Doc id: 9743f94a-3400-435e-b040-a5af7141ba5e): hea juhataja ja kolleegid väga huvitav debatt on olnud tegelikult me peaks korraldama analoogse d...\\n\\n> Source (Doc id: 29925380-f7b9-47de-8c49-99db5b6d766c): on osa meie majandusest ja õiglane oleks et nendele kes osalevad eesti majanduses kehtivad ka ees...'"
      ]
     },
     "execution_count": 39,
     "metadata": {},
     "output_type": "execute_result"
    }
   ],
   "source": [
    "response.get_formatted_sources()"
   ]
  },
  {
   "cell_type": "code",
   "execution_count": 42,
   "id": "ecbbb5e8-998b-4e1a-aa9c-64d4ffdeb5b1",
   "metadata": {},
   "outputs": [
    {
     "data": {
      "text/plain": [
       "'lahendus on käibemaksuvabastus ökoloogiliselt puhastele toiduainetele järgmine teema varade maksustamine minu arvates on oluline vähendada veelgi palgalt võetavaid makse keskmise ja väikese sissetulekuga inimestel ning suurendada varadelt võetavaid makse ja maksustada rohkem suuremaid tulusid palju räägitakse viimasel ajal mitte ainult tulude vaid ka rikkuse suuremast maksustamisest see oleks ühiskonna kui terviku seisukohast väga õige ja õiglane küsimus on ainult mida ja kuidas maksustada kas kinnisvara või ka aktsiaid ja osakuid või rikkust tervikuna nagu soovitab ameerika ühendriikide demokraatliku partei presidendikandidaat'"
      ]
     },
     "execution_count": 42,
     "metadata": {},
     "output_type": "execute_result"
    }
   ],
   "source": [
    "response.source_nodes[0].text"
   ]
  },
  {
   "cell_type": "code",
   "execution_count": 38,
   "id": "4aebaf1b-caa7-4be8-a6b4-d66b218ff27c",
   "metadata": {},
   "outputs": [
    {
     "data": {
      "text/plain": [
       "'Maksupoliitikat mainitakse kolmes tekstis.'"
      ]
     },
     "execution_count": 38,
     "metadata": {},
     "output_type": "execute_result"
    }
   ],
   "source": [
    "query_str = \"kui mitmes tekstis mainitakse maksupoliitikat?\"\n",
    "response=query_engine.query(query_str)\n",
    "response.response"
   ]
  },
  {
   "cell_type": "code",
   "execution_count": 42,
   "id": "58f9d3cb-9172-4bfe-b87c-450418c0fa22",
   "metadata": {},
   "outputs": [
    {
     "data": {
      "text/plain": [
       "'Majandust mainitakse mitmes tekstis.'"
      ]
     },
     "execution_count": 42,
     "metadata": {},
     "output_type": "execute_result"
    }
   ],
   "source": [
    "query_str = \"kui mitmes tekstis mainitakse majandust?\"\n",
    "response=query_engine.query(query_str)\n",
    "response.response"
   ]
  },
  {
   "cell_type": "code",
   "execution_count": 43,
   "id": "438b9923-123a-432c-b5bf-70515d469d98",
   "metadata": {},
   "outputs": [
    {
     "data": {
      "text/plain": [
       "'Majandust mainitakse 7 tekstis.'"
      ]
     },
     "execution_count": 43,
     "metadata": {},
     "output_type": "execute_result"
    }
   ],
   "source": [
    "query_str = \"kui mitmes tekstis mainitakse majandust? Vasta arvuga\"\n",
    "response=query_engine.query(query_str)\n",
    "response.response"
   ]
  },
  {
   "cell_type": "code",
   "execution_count": 45,
   "id": "18857cd0-149f-498b-950a-fa52348ade34",
   "metadata": {},
   "outputs": [
    {
     "data": {
      "text/plain": [
       "'> Source (Doc id: a7c04550-e653-4733-9b0b-ee8d1e661ba1): ja kogu lugu puutumus eesti majandusega on null täna on nagu täitsa mõttetu siin firma käivitada ...\\n\\n> Source (Doc id: 3c6c8647-4570-46a3-9011-cf5bbbd8f55f): peaminister aga võttis taas julgelt sõna nimetades põlglikult inimarengu aruannet pelgalt heaks l...\\n\\n> Source (Doc id: 5847e994-f21b-48e0-aca3-092d249fd460): soovivad või mida ettevõtlus vajab alustame sellest et ilma ettevõtluseta ei oleks ju vaja rääkid...\\n\\n> Source (Doc id: 1b5de690-b3f2-4866-8ba6-2f49792fbfd8): olgu need julgeolek haridus tervishoid oma vaeste eest hoolitsemine või teedevõrgu edendamine kui...\\n\\n> Source (Doc id: 8c7bd1be-43d4-4f9c-9df4-e2e70e7e61e2): tõsta et eelarvetulusid mingil moel kasvatada raha on vahepeal ära raisatud ja samas te ütlete et...\\n\\n> Source (Doc id: 0fb4140a-8d4a-45c6-a373-d23d11122e16): aitäh küsimuse eest ma ei mõelnud ainult kinnisvara vaid sellist üldist rikkust see pole üksnes s...\\n\\n> Source (Doc id: 05979afd-bbde-40cf-9c38-800a68057ed1): programmilised ettekanded olemas peab rääkima ühest väikesest maksust see on häbi ja siis tuleb ü...\\n\\n> Source (Doc id: 7827dbd3-b596-4755-9053-20df62ee65f2): tuletame meelde kuidas 20 aastat tagasi siim kallase eestvedamisel kaotati eestis firmade tulumak...\\n\\n> Source (Doc id: a061987c-00a0-4d04-b5b9-c6b8a5060ec2): aitäh härra neivelt palun kirjeldage veel seda lahinguülesannet mis teile täna anti enamik inimes...\\n\\n> Source (Doc id: 7073e7fb-d475-42a3-b164-d803a7bf14cf): aitäh eesistuja ja aitäh eeskõneleja tänan väga hea ettekande eest pikalt on räägitud et maksudes...\\n\\n> Source (Doc id: 7e03df49-9bb6-492b-b032-2965301575e9): suur tänu lugupeetud riigikogu aseesimees suur tänu ettekandja me ei saanud väga palju uusi ideid...\\n\\n> Source (Doc id: a673c836-866b-44f5-82d3-a33aaaaa28c8): tänase päevakorra järgmine punkt on vabariigi valitsuse algatatud riigilõivuseaduse eelnõu esimen...\\n\\n> Source (Doc id: 3cdf6130-5db0-4bd6-911e-9b770b52ec8f): täna seda pigem naeruvääristati tegelikult tuleks inimestest rääkida no kelle jaoks seda majandus...\\n\\n> Source (Doc id: 3815e01b-7d44-49ea-9d3b-7ef95ef96e56): aitäh ei ole ju mingi saladus et see tänane arutelu on ühelt poolt tingitud ka sellest et jüri ra...\\n\\n> Source (Doc id: 6d4546bc-7a9d-45ba-b8c0-3da829fd7fe7): kasvanud piir on ees mida me ikka rohkem tarbime mida siis eestlased peaks hakkama järsult tarbim...\\n\\n> Source (Doc id: ff52ee35-b4c5-4883-894c-f0381c83a872): 55-aastane eesti elanik ütleb et mis mul ikka teha riik on ju tugevam aga tuletame meelde möödunu...\\n\\n> Source (Doc id: fb4d26c7-d992-4631-850f-695d9556b742): õiglasest maksusüsteemist samale asjale juhtis tähelepanu tartu ülikooli dotsent eve parts juba 2...\\n\\n> Source (Doc id: be8978a2-c5da-4e4d-accc-b6efb0c00c83): tsiteeritud lause mis tõi meid siia ei vii meid enam edasi. kehtib täielikult ka eesti maksusüste...\\n\\n> Source (Doc id: 9dad7f39-04fa-4e8a-b997-9e91b822efc4): on osa meie majandusest ja õiglane oleks et nendele kes osalevad eesti majanduses kehtivad ka ees...\\n\\n> Source (Doc id: dd2d14aa-331a-436c-bfb8-c10b93513cd3): tänase päevakorra järgmine punkt on vabariigi valitsuse algatatud euro kasutusele võtmise seaduse...'"
      ]
     },
     "execution_count": 45,
     "metadata": {},
     "output_type": "execute_result"
    }
   ],
   "source": [
    "response.get_formatted_sources()"
   ]
  },
  {
   "cell_type": "code",
   "execution_count": 46,
   "id": "c927e702-35fd-4215-a421-4308ac7468e5",
   "metadata": {},
   "outputs": [
    {
     "data": {
      "text/plain": [
       "20"
      ]
     },
     "execution_count": 46,
     "metadata": {},
     "output_type": "execute_result"
    }
   ],
   "source": [
    "len(response.source_nodes)"
   ]
  },
  {
   "cell_type": "markdown",
   "id": "d9d8db96-ead5-4016-8e92-c3ec95d0dbe5",
   "metadata": {},
   "source": [
    "## Return only nodes"
   ]
  },
  {
   "cell_type": "code",
   "execution_count": 52,
   "id": "85032b5c-bdb6-4208-bc4b-ab1b89b3a256",
   "metadata": {},
   "outputs": [],
   "source": [
    "response_synthesizer = get_response_synthesizer(response_mode='no_text')\n",
    "\n",
    "\n",
    "query_engine = RetrieverQueryEngine(\n",
    "    retriever=retriever,\n",
    "    response_synthesizer=response_synthesizer,\n",
    "    node_postprocessors=[\n",
    "        SimilarityPostprocessor(similarity_cutoff=0.7)\n",
    "    ]\n",
    ")"
   ]
  },
  {
   "cell_type": "code",
   "execution_count": 53,
   "id": "6023fad6-92f1-4b67-9018-e15ecf15639c",
   "metadata": {},
   "outputs": [
    {
     "data": {
      "text/plain": [
       "''"
      ]
     },
     "execution_count": 53,
     "metadata": {},
     "output_type": "execute_result"
    }
   ],
   "source": [
    "response = query_engine.query(\"kui mitmes tekstis mainitakse majandust?\")\n",
    "response.response"
   ]
  },
  {
   "cell_type": "code",
   "execution_count": 54,
   "id": "d35d59e6-162d-4895-861f-11f4ba0529ac",
   "metadata": {},
   "outputs": [
    {
     "data": {
      "text/plain": [
       "20"
      ]
     },
     "execution_count": 54,
     "metadata": {},
     "output_type": "execute_result"
    }
   ],
   "source": [
    "len(response.source_nodes)"
   ]
  },
  {
   "cell_type": "code",
   "execution_count": 56,
   "id": "9a992036-943d-4e47-b416-e8b7149c3556",
   "metadata": {},
   "outputs": [
    {
     "data": {
      "text/plain": [
       "NodeWithScore(node=TextNode(id_='3cdf6130-5db0-4bd6-911e-9b770b52ec8f', embedding=[-0.0014662917, -0.019357849, 0.009349455, -0.027202936, -0.0023902033, 0.0062319343, -0.040207632, -0.00017920697, -0.011456813, -0.01646101, 0.014459331, 0.014956642, 0.01731887, 0.0090386355, -0.006751003, 0.0037826754, 0.03399124, -0.011954124, -0.00032072703, 9.4168645e-05, -0.021347094, 0.012190348, -0.01008299, -0.010331646, -0.02847108, 0.01168682, 0.03331987, -0.03724863, -0.017915646, -0.0074907537, -0.012090885, -0.013937154, -0.00954838, -0.01173655, -0.030137075, -0.00086951803, -0.0063438294, 0.021483855, 0.022652537, -0.007745626, 0.00939297, -0.017468065, 0.013986885, -0.001311659, -0.01945731, 0.017244276, -0.000727318, -0.013290648, -0.019643802, 0.021446556, 0.01547882, 0.024927737, -0.022565508, -0.017928079, -0.019420013, -0.005075685, -0.011767632, 0.014608524, -0.011301403, 0.0040841703, 0.008908091, 0.0048332456, -0.030485192, 0.010337862, -0.012892799, -0.003288472, -0.022615239, -0.0033723933, -0.015802072, 0.0068069506, 0.036726452, 0.032225784, -0.010797875, -0.0035930753, 0.013825258, 0.006732354, -0.0008656328, -0.03627887, -0.012494951, 0.010505704, 0.014608524, 0.0021462098, -0.02333634, -0.0065023475, -0.00013957746, -0.0014313245, 0.0088707935, 0.017281573, 0.0024710163, 0.017381035, 0.018723777, 0.0093121575, -0.00085630815, 0.04351475, -0.010412458, 0.01690859, -0.01713238, 0.019519474, -0.012768472, -0.03252417, 0.005057036, 0.004028223, -0.04043142, -0.004332826, -0.02583533, -0.00575638, 0.007086688, -0.008559974, -0.004506885, -0.019556774, 0.019917324, 0.036527526, -0.008392131, 0.01463339, 0.01945731, -0.012308459, 0.017952943, -0.00011616885, 0.0063438294, -0.0076088654, 0.013427409, 0.0049296, 0.0019659344, 0.022068195, 0.032151185, 0.0019721508, -0.023908248, 0.005451777, -0.032673363, -0.0144096, 0.0005621951, 0.01802754, 0.005181364, -0.014882046, 0.002040531, 0.013427409, -0.01583937, -0.0030056261, -0.024219068, -0.019892458, -0.0044664787, 0.0023171606, -0.0023964196, -0.007397508, 0.010567868, 0.03769621, 0.037671342, 0.018064838, 0.026307777, 0.012669009, 0.0014647377, -0.025089363, 0.015416655, -0.0023591213, -0.0009852983, 0.01757996, 0.00075062946, 0.020290308, 0.001675318, -0.013576603, 0.007242098, -0.021048708, 0.013253351, 0.027824577, 0.02886893, 0.036328603, 0.038939487, 0.008964039, 0.02819756, 0.003338203, 0.022503344, 0.026481835, 9.421721e-05, 0.01940758, 0.001564977, 0.023970412, -0.0105616525, 0.030733848, -0.0060205767, -0.00832375, -0.012613062, -0.007981849, 0.032151185, 0.03302148, -0.00051712623, 0.011419514, 0.007764275, 0.014347436, 0.0012798, -0.009194045, 0.012121967, 0.008404564, 0.00091147865, -0.0128306355, -0.646107, 0.0026466295, -0.0010396917, 0.0046094554, -0.00012219098, 0.012507383, 0.02378392, 0.01258198, -0.0075218356, -0.017107515, -0.020936813, 0.0013411868, -0.0015362261, -0.008162124, -0.035085324, -0.028048366, 0.012880367, -0.015938831, -0.009430269, 0.0007774377, -0.005293259, 0.024467723, -0.022329284, 0.0072483146, -0.028844064, -0.017455632, 0.010698413, 0.009007554, -0.0046716197, 0.03515992, -0.012494951, 0.016473442, -0.0060671996, 0.0035775343, 0.05326206, 0.008951606, -0.017853482, 0.014819882, 0.009585679, 0.0009899606, -0.015677745, -0.01082274, 0.0023793245, -0.0028859605, 0.022341717, 0.019121626, 0.012345757, -0.021483855, 0.0009138098, 0.004970006, -0.020688158, -0.005439344, -0.009249993, 0.008883226, 0.0023016196, 0.0047835144, -0.013962019, -0.0318528, -0.0021384393, 0.027078608, -0.003649023, 0.00849781, 0.00062474754, -0.043838006, -0.027575921, 0.01242657, -0.01387499, -0.003047587, 0.0053212326, -0.000245159, -0.010281915, 0.04127685, 0.028595408, 0.009051069, 0.013539304, 0.0011057409, 0.01949461, -0.012669009, -0.007080472, 0.014832314, -0.00024496476, -0.020315172, -0.038268115, 0.0038510556, 0.015329625, -0.031952262, -0.0017561311, -0.0012463868, -0.011419514, 0.02516396, 0.0023637835, 0.016722098, 0.019332983, -0.0050135213, 0.01695832, 0.023659592, 0.0014010196, -0.0318528, 0.03145495, 0.0007692787, -0.0034842885, -0.023124984, 0.029838687, -0.019693533, 0.025338018, 0.019332983, -0.0031283998, 0.018400524, 0.024082307, -0.034861535, 0.0030538032, -0.026456969, -0.00039066147, -0.017095082, -0.0054766424, -0.026108852, 0.035706963, -0.0024648, -0.02083735, 6.128975e-05, 0.016000995, 0.018549718, 0.03851677, -0.011326268, 0.009971094, 0.026357507, -0.004712026, -0.0015284556, 0.0015051442, -0.005075685, -0.017020484, -0.022540642, 0.028545678, -0.008392131, 0.041575238, 0.0049420325, 0.019991921, -0.016896157, 0.019245954, -0.028893795, -0.016249651, -0.017430767, -0.002040531, -0.0077518425, -0.023970412, -0.04224661, -0.02007895, -0.0010777672, -0.03734809, 0.020588694, -0.013812826, 0.0069312784, -0.030883042, -0.008267803, 0.0021306688, 0.0010272589, 0.0050663603, -0.003922544, -0.033145808, -0.010922203, -0.018972432, -0.0062474753, -0.027501324, -0.004886085, -0.018015107, -0.0035930753, -0.006064092, -0.013825258, -0.010449757, -0.032151185, 0.005868275, 0.002116682, 0.010953285, 0.014683121, 0.013004695, 0.012644144, 0.00268859, 0.01423554, -0.026307777, -0.0059490884, 0.0154042225, 0.023597429, -0.02404501, -0.015702609, 0.008168341, -0.010940852, -0.017331304, 0.015826937, 0.0006865229, 0.017530229, -0.00230939, -0.002812918, -0.009635409, 0.005610295, 0.0065209963, -0.024293665, 0.013750662, 0.009902715, 0.012159266, 0.0120846685, 0.008709167, 0.018226465, 0.001012495, 0.0020731671, 0.011854662, -0.0011997639, -0.0045876983, -0.029689495, 0.039337337, 0.011351134, -0.014720419, -0.016349114, 0.008149692, -0.017244276, 0.013763094, 0.05977684, -0.009125665, -0.00020475245, 0.01144438, 0.0009285737, -0.0014903803, -0.004419856, 0.009051069, -0.017492931, 0.0036863212, 0.0071239867, 0.0070431735, 0.007602649, 0.0076461635, -0.014620957, -0.015516117, 0.011568707, -0.022776864, 0.023460668, 0.027053744, -0.0044012065, 0.029217048, 0.006645324, 0.040506016, -0.022789298, -0.005706649, 0.028694872, 0.01578964, -0.014981507, 0.009660275, 0.01949461, 0.0008096852, 0.0066888393, -0.014247973, 0.029614897, -0.00765238, 0.003353744, -0.0023311474, -0.01258198, 0.012208996, -0.031032234, 0.005513941, 0.022428747, 0.014372301, 0.009753521, 0.016921023, -0.0043235016, -0.006378019, -0.019755697, 0.027998636, 0.0008516459, -0.003571318, -0.024156904, 0.012097102, -0.008895659, -0.031305756, -0.02213036, 0.016734531, 0.0052746097, -0.00059949345, 0.010735711, -0.00067875243, -0.02137196, 0.017990243, -0.007366426, -0.0058092196, -0.03627887, -0.0043763407, 0.016075592, 0.0061697704, -0.022142792, -0.006496131, -0.021794675, -0.018089704, 0.028098097, -0.0103938095, 0.003384826, 0.002056072, 0.0034780721, -0.008752681, -0.001596059, 0.027948905, -0.018748643, 0.009467567, -0.01144438, 0.009274859, -0.000387359, 0.0016628852, 0.012700091, 0.03908868, 0.012818203, -0.039909244, -0.0051160916, -0.004503777, -0.03463774, 0.0155409835, -0.008068878, -0.014956642, -0.00049187214, 0.011264104, 0.0003751205, 0.0036925375, -0.010915986, 0.02538775, 0.015279895, 0.00856619, -0.020054085, -0.017903212, 0.018636746, 0.08469214, 0.005865167, -0.017418334, 0.021670347, 0.0034998294, -0.0037733507, 0.0006845803, -0.042942844, 0.019942189, -0.00045496228, 0.027501324, 0.00794455, 0.011804931, -0.01887297, 0.04289311, 0.01008299, -0.024915304, 0.011214374, 0.015230163, 0.010648682, 0.00060648686, 0.016088026, 0.013750662, 0.020103816, 0.019792996, 0.021732511, 0.03217605, 0.043713678, -0.028968392, -0.010437325, -0.008821062, -0.0066950554, 0.01690859, 0.013800393, -0.017393468, -0.018524852, -0.015118268, 0.043838006, 0.014906911, 0.013974452, 0.026034255, 0.014036616, 0.02369689, 0.00043203932, 0.013253351, -0.022254689, 0.0032231999, 0.029366242, -0.007366426, -0.016734531, 0.025139093, -0.017107515, -0.017294006, 0.010586518, -0.0009720885, 0.025586674, -0.025810465, 0.015006374, -0.01735617, 0.002323377, -0.031206295, -0.014645822, 0.0012362852, -0.008249153, 0.0039598425, -0.010368944, -0.0043670163, -0.017654557, -0.00970379, 0.006608026, 0.018810807, -0.03792, -0.037447553, -0.017331304, 0.009852983, 0.009430269, 0.007938334, -0.000108689754, 0.018139435, 0.009865416, 0.009567029, -0.039287604, -0.019929757, -0.0219563, -0.011581141, 0.0046560788, -0.027327264, -0.021086005, 0.008180774, 0.0025829114, -0.015851803, 0.0049420325, 0.026208313, 0.010580301, -0.0071675014, 0.020824917, -0.016498307, -0.00047477704, 0.023286609, -0.008019147, 0.014720419, -0.003972275, -0.006378019, -0.006151121, 0.010592734, -0.0011562491, 0.0019472851, -0.014931777, 0.006309639, -0.009579462, 0.019221088, 0.0007599541, -0.0030211671, -0.007590216, 0.019071894, -0.004708918, -0.013054426, 0.044335317, 0.007441023, 0.007335344, -0.011463029, -0.031181429, 0.017157245, 0.014471764, -0.014359868, -0.018325927, 0.021409258, -0.017492931, -0.0068691145, 0.0012370623, 0.014533928, 0.019730832, 0.011270321, -0.028545678, -0.006070308, 0.013924721, -0.013004695, -0.0028331212, -0.015255029, -0.005591646, -0.008957823, -0.0030755606, -0.002655954, -0.022876328, 0.029241914, -0.030435462, -0.01762969, -0.0052559604, -0.00202499, 0.03898922, -0.014894478, -0.00063174096, -0.0064774817, 0.0047710817, 0.029440839, -0.0026590622, 0.003338203, -0.009890282, 0.010785442, 0.029987881, 0.010368944, -0.01356417, -0.017393468, 0.00080657704, 0.012215213, -0.02097411, -0.0025487212, -0.0037578098, -0.018201599, 0.0036645639, 0.0077269766, 0.014471764, -0.0068628984, -0.0012968951, 0.020588694, 0.008895659, -0.018512418, 0.0014903803, -0.038566504, 0.002450813, 0.017206976, -0.003147049, -0.016299384, 0.013850125, -0.014608524, -0.022528209, 0.04493209, -0.015018806, 0.023560131, 0.0115065435, 0.029739225, -0.027501324, 0.018823238, -0.0023529048, 0.006088957, 0.0058216522, -0.010567868, -0.014173376, 0.0029512327, 0.0077083274, 0.0002482672, -0.011158426, -0.014732852, -0.013688498, -0.01646101, 0.021769809, -0.023883384, -0.01828863, -0.0036241573, -0.01059895, -0.023087684, -0.012041153, -0.024393126, -0.013850125, 0.0024539211, 0.0073726424, -0.011431947, -0.015453953, -0.023174714, -0.0073726424, -0.004457154, -0.02052653, 0.011177075, 0.0027445375, 0.052814476, 0.008236721, -0.009368105, -0.03921301, -0.0050228457, 0.020091383, -0.017119948, 0.023212012, 0.0007475213, -0.027476458, -0.011431947, 0.0070431735, 0.014111212, -0.027053744, -0.033295, -0.00404998, 0.0012292918, 0.017169679, -0.004189849, -0.009753521, 0.0035651014, 0.03252417, -0.0013823705, 0.022689836, -0.033295, -0.028719736, -0.024156904, 0.03588102, 0.007714544, 0.03021167, 0.0062412587, -0.023833651, -0.04836354, 0.009355672, 0.007863738, 0.003698754, -0.0016659934, 0.0061759865, -0.009337023, 0.005181364, -0.0043390426, -0.011836013, -0.017952943, -0.015093403, 0.008044013, 0.020812485, -0.010344079, 0.0020700588, 0.014707986, 0.0011896623, -0.0066950554, 0.013141455, -0.003381718, -0.011699252, -0.006645324, 0.0010062787, -0.0068380325, 8.707807e-05, -0.02087465, -0.00077704916, 0.0074534556, -0.012215213, -0.00432661, 0.0045566163, 0.016088026, 0.0046125636, -0.029391108, -0.0015471049, 0.0032946884, 0.025860196, -0.0039132196, -0.021260064, 0.0067137047, 0.035632364, -0.019420013, 0.0102881305, -0.007925902, 0.0063003143, -0.00024904424, 0.029913284, 0.013688498, -0.00847916, 0.018089704, -0.019743266, -0.010244616, 0.0037671344, -0.0034625311, -0.0069001964, -0.0029232588, 0.01904703, 0.015006374, -0.0046218885, 0.018574582, -0.0054797507, 0.0015820721, 0.01762969, 0.010188669, -0.009765954, -0.00856619, -0.0139122885, 0.0012153048, -0.01583937, 0.01166817, -0.0074285897, -0.019084327, -0.022640103, -0.009995961, 0.030037612, -0.016249651, 0.008286452, -0.0015439966, -0.020402202, -0.014347436, -0.0004394213, -0.018064838, -0.025984524, 0.0012098656, -0.008404564, -0.002324931, 0.006353154, -0.017530229, -0.023398504, -0.015056104, -0.009629193, -0.011537625, -0.012538465, -0.03493613, 0.018487554, 0.015354491, -0.01914649, -0.0091753965, 0.0012121967, -0.06415318, -0.008572406, 0.0017561311, 0.031305756, 0.0137755275, 0.010804092, 0.009032419, 0.027824577, 0.008305102, 0.0066826227, -0.005694216, -0.014471764, -0.021384392, 0.0013971344, -0.0075218356, 0.011804931, -0.02413204, -0.0060609835, 0.03645293, -0.006576944, -0.004634321, 0.019233521, 0.004472695, -0.012159266, 0.009125665, 0.009523515, 0.0065707276, 0.0027429834, 0.024616918, -0.031629007, 0.003652131, 0.021720078, -0.0043048523, -0.04162497, -0.006844249, 0.015553416, -0.006104498, -0.007509403, 0.0077083274, 0.012171698, 0.00030460328, -0.033966374, 0.02137196, 0.010636249, -0.015590714, 0.026556432, 0.016784262, -0.021185469, 0.006707488, 0.005616511, -0.026979147, -0.003366177, 0.0071923668, -0.01651074, 0.006116931, 0.006881547, 0.010741928, -0.048338674, -0.011388432, -0.02181954, -0.0014771704, -0.017778885, -0.004279987, 0.01713238, -0.0030211671, 0.02181954, -0.00093168195, 0.0034407736, -0.03461288, -0.00027119016, 0.0041245767, 0.0028875147, -0.0036614556, 0.013937154, -0.0010427999, -0.011637088, -0.01976813, -0.024169337, -0.038392443, 0.026606163, 0.20270415, -0.016572904, -0.0036117244, 0.054008026, 0.0041711996, 0.002641967, 0.03538371, -0.012917665, 0.0026310885, 0.013290648, -0.025126662, 0.018512418, -0.023249311, -0.0043918816, 0.017119948, 0.004724459, -0.06151743, -0.012855501, 0.00939297, 0.017828615, 0.016398845, 0.022950923, -0.011693035, -0.00020688934, 0.007925902, -0.0060361177, 0.0015820721, 0.0053989375, 0.0012456098, -0.0046871607, -0.014272839, -0.002595344, 0.015951265, 0.0026124392, -0.033444196, -0.0041711996, 0.01128897, -0.0025782492, 0.0004646754, 0.021409258, 0.007353993, -0.013825258, -0.0011958786, -0.017928079, -0.007036957, 0.03341933, -0.002797377, -0.010965718, 0.005656918, 0.0133030815, -0.028098097, 0.009225127, 0.03369285, 0.014136078, 0.0040530884, 0.014745285, 0.0073104785, -0.004096603, -0.006763436, 0.025425049, 0.0059521967, 0.031131698, 0.0151307015, 0.016921023, -0.043838006, 0.0127249565, -0.048612196, 0.020936813, 0.00865322, -0.00803158, 0.012917665, -0.002292295, -0.014210675, 0.014223108, -0.017082648, -0.026382374, 0.012395488, 0.023199579, 0.02842135, 0.02476611, -0.0028486622, -0.0030118425, -0.0077207605, -0.0031579277, 0.0015300098, -0.008466728, 0.015192865, 0.018301062, -0.018077271, -0.025909927, 0.000522177, 0.004491344, -0.014036616, -0.04296771, -0.0037018622, 0.032822557, -0.0043203933, -0.0010552327, -0.014645822, 0.0019115409, -0.02485314, 0.027153205, 0.0043359343, 0.0050508194, -0.016137756, 0.021011408, -0.0011811147, 0.0006601033, 0.0047306754, -0.01757996, -0.007932118, 0.0062692324, 0.014086347, -0.01690859, 0.022279553, 0.008466728, 0.0034190163, -0.008746466, 0.02530072, 0.0002523467, 0.0047213505, -0.02342337, 0.0022751999, 0.022316853, -0.017381035, -0.011898177, -0.04948249, 0.0016737639, -0.019171357, -0.016485875, -0.0030444786, -0.020414636, 0.013327947, -0.009598111, -0.023249311, 0.003934977, 0.01918379, -0.013104157, 0.01623722, 0.0023311474, 0.014347436, -0.0026979146, -0.014819882, 0.0095110815, 0.02306282, -0.013899855, 0.024679082, -0.031256024, 0.00809996, -0.014372301, -0.045081284, -0.02061356, -0.0113387015, -0.028297022, -0.0024601377, 0.009305941, -0.026258046, -0.020414636, 0.034065835, 0.01583937, -0.04644889, 0.02288876, 0.035632364, -0.033866912, -0.013004695, 0.0003131508, -0.15297301, 0.008336184, 0.0058154357, -0.0030740064, 0.011158426, -0.019892458, 0.023274176, 0.018238898, 0.00081279344, -0.010785442, -0.014310137, 0.007863738, -0.028570544, -0.0049979803, -0.01811457, -0.0045193178, -0.04605104, -0.005703541, -0.00084776065, 0.008839712, 0.005252852, -4.9172644e-07, -0.0062474753, -0.035135053, 0.010971934, 0.0061231474, -0.018798374, 0.012208996, -0.0067572193, -0.030012747, 0.009741088, 0.032549035, 0.013390111, 0.014148511, 0.023957979, 0.016349114, -0.0013559507, 0.00727318, -0.0117800655, 0.019158924, 0.00404998, 0.0026124392, 0.011804931, 0.0017203868, 0.00423958, -0.0045006685, 0.02949057, -0.007447239, 0.021260064, 0.004264446, 0.037372958, -0.007441023, 0.00832375, 2.136885e-05, 0.027227802, 0.022229822, 0.0068691145, 0.0046560788, 0.019270819, -0.0115065435, -0.012351973, -0.028670006, -0.010878688, -0.0016488984, -0.004851895, -0.032996614, -0.0042457967, -0.023299042, -0.03779567, 0.014707986, -0.005327449, -0.006023685, 0.03292202, -0.005625836, -0.00787617, -0.0018043082, -0.043241233, 0.02623318, -0.027824577, 0.0074285897, -0.0029667737, 0.028396484, -0.015230163, 0.009337023, -0.012637927, -0.004090387, 0.017256707, -0.00033141146, 0.004105928, 0.025449913, -0.0017126163, -0.039909244, -0.01401175, -0.013539304, 0.0040717376, 0.010549219, 0.02011625, 0.016945887, -0.0020591803, -0.005672459, -0.005380288, -0.0017576852, -0.018587016, 0.016610203, 0.030485192, 0.008951606, 0.008472944, -0.005896249, 0.020725455, 0.00711777, -0.025226124, 0.012314675, 0.007832656, 0.016075592, 0.004062413, 0.019954622, -0.018997299, -0.0074037244, 0.023746623, -0.005709757, 0.061020117, -0.020203277, -0.022863895, -0.005423803, 0.009119449, -0.008970255, -0.12223916, -0.045628328, 0.021048708, 0.02181954, -0.015255029, 0.015180432, -0.016572904, 0.02235415, -0.032325245, 0.006371803, -0.01463339, -0.01695832, 0.01690859, 0.021222766, 0.014148511, 0.023808787, -0.02413204, 0.014061482, -0.027476458, 0.018325927, -0.0041463342, -0.010605167, -0.005734623, -0.030261403, -0.03851677, 0.0025704787, -0.02914245, 0.015665311, 0.013551737, -0.020849783, -0.018499985, -0.012401705, 0.0045939144, -0.01044354, 0.023920681, 0.014757718, -0.038069192, -0.00040600818, 0.009852983, 0.0027787278, 0.01144438, 0.026183449, 0.00667019, -0.01583937, 0.0005501508, -0.03752215, -0.008528892, 0.012669009, 0.014123646, -0.016734531, 0.0026994688, -0.01828863, -0.031554412, -0.0242315, 0.018039973, 4.2931966e-05, -0.013999318, 0.033717718, -0.011456813, -0.020041652, -0.018263763, 0.014422032, -0.002166413, -0.0015447737, 0.00780779, -0.008044013, 0.00856619, -0.012159266, 0.004553508, -0.016125323, 0.008124826, 0.020290308, -0.011003016, -0.008037796, -0.032723095, 0.01713238, -0.04600131, -0.030236537, 0.0116122225, 0.03123116, -0.0030227213, -0.01206602, -0.03123116, 0.014844747, 0.0005011967, -0.01265036, 0.008342399, 0.013365245, 0.011550059, -0.032673363, -0.024927737, 0.02007895, 0.015503685, -0.018412957, 0.004043764, 0.025536943, -0.010325429, -0.0029667737, 0.021695212, -0.010201101, -0.010524354, -0.003493613, -0.019071894, 0.027426727, 0.0031190752, 0.014247973, 0.0005928885, 0.0026373048, 0.023846084, 0.0067137047, -0.0030025179, 0.014459331, -0.011177075, 0.030286267, -0.013041993, 0.0066826227, 0.0010187115, -0.03060952, 0.031728473, 0.010114072, -0.007335344, 0.010039475, 0.030460326, 0.0011632426, 0.0197184, 0.030112209, 0.0027414295, 0.013427409, -0.005535698, -0.0026217639, -0.0011251671, -0.0043856655, 0.010710846, -0.020576261, -0.0051285243, -0.03128089, -0.009840551, -0.002985423, 0.003540236, 0.026854819, -0.0018074163, 0.052317165, -0.015976131, -0.020675724, 0.037621614, -0.021807108, -0.03796973, 0.0027849441, 0.004074846, 0.0019364065, 0.021185469, 0.008037796, 0.040530883, 0.022155225, -0.02333634, -0.009138098, -0.019618938, 0.0077083274, 0.031206295, 0.017244276, 0.004112144, -0.022863895, 0.03421503, -0.0064774817, -0.022204956, -0.022926059, 0.011108695, 0.0046685115, -0.0219936, -0.00063601474, 0.007055606, -0.028595408, -0.003621049, -0.016983187, 0.0136387665, -0.006763436, 0.021098439, -0.00093789835, -0.0074285897, -0.033369597, -0.0056538098, 0.037721075, -0.014397167, -0.008373481, -0.032026857, -0.0028704195, 0.008367266, 0.013191187, -0.023771487, 0.005691108, -0.012700091, 0.014372301, -0.02056383, 0.01173655, -0.018798374, 0.0019845834, 0.01949461, 0.0016784262, 0.017915646, 0.0027538622, 0.006856682, 0.014247973, 0.024703946, -0.024529887, 0.0074285897, -0.013676065, -0.017965376, 0.0016675475, -0.025188826, -0.025064498, -0.008199423, 0.025760734, -0.0110340975, 0.008609705, 0.01699562, -0.0038013244, 0.00060804095, 0.0027554163, 0.010219751, -0.017704288, -0.026581297, 0.015068538, 0.009293508, 0.032549035, 0.03443882, -0.014670688, 0.032200918, 0.01731887, -0.0052746097, -0.0076710293, 0.009722439, -0.022814164, -0.024554754, 0.010157586, -0.015727475, -0.022006031, -0.018263763, -0.017778885, 0.00954838, 0.03627887, -0.022938492, 0.06077146, -0.004882977, -0.013551737, 0.012109534, 0.0064836983, -0.004954465, 0.0075839995, -0.0013815934, -0.021334661, 0.0148571795, 0.01204737, -0.01552855, 0.003795108, -0.012034938, -0.0071985833, 0.028073233, -0.0047617573, 0.023721756, -0.028346753, 0.011960341, 0.040133033, 0.005896249, -0.007969416, 0.0027103475, -0.00023641721, -0.013427409, 0.024417993, 0.011637088, -0.0030771147, -0.032648496, 0.003381718, 0.009243777, -0.021309797, 0.0038448393, 0.01619992, -0.0072296653, -0.005914898, 0.003322662, -0.004034439, -0.0076275147, 0.00035938525, 0.022105495, -0.02695428, -0.028172694, 0.003098872, -0.01623722, -0.011481678, -0.010008393, -0.01082274], metadata={}, excluded_embed_metadata_keys=[], excluded_llm_metadata_keys=[], relationships={}, hash='44136fa355b3678a1146ad16f7e8649e94fb4fc21fe77e8310c060f61caaff8a', text='täna seda pigem naeruvääristati tegelikult tuleks inimestest rääkida no kelle jaoks seda majanduse konkurentsivõimet ikka on vaja kui mitte inimeste jaoks just nimelt inimeste jaoks seda vaja on teiseks muidugi töö maksustamine on meil kõrge see on tõsiasi aga nende suurte positsioonide võtmisel tuleb ju katteallikad leida täna me tegelikult ei saanud kinnitust et oleks võimalik varamaksudega asendada olulist osa praegustest maksudest ei saanud me seda kinnitust kui mõni inimene ütles et tarbimine on liiga kõrgelt maksustatud ja pakkus millega', start_char_idx=None, end_char_idx=None, text_template='{metadata_str}\\n\\n{content}', metadata_template='{key}: {value}', metadata_seperator='\\n'), score=0.84416318)"
      ]
     },
     "execution_count": 56,
     "metadata": {},
     "output_type": "execute_result"
    }
   ],
   "source": [
    "response.source_nodes[-1]"
   ]
  },
  {
   "cell_type": "markdown",
   "id": "4eb98fbd-f2e8-44f3-bf65-5ddc04a298fd",
   "metadata": {},
   "source": [
    "## Arxiv agent"
   ]
  },
  {
   "cell_type": "code",
   "execution_count": 2,
   "id": "bf4d206c-3dfc-4689-806f-636ac56334f4",
   "metadata": {},
   "outputs": [],
   "source": [
    "# !pip install llama-hub\n",
    "# !pip install arxiv\n",
    "\n",
    "#https://llamahub.ai/"
   ]
  },
  {
   "cell_type": "code",
   "execution_count": 10,
   "id": "6ce3b9e6-6ad2-4537-aeb1-9c80d0ff5248",
   "metadata": {},
   "outputs": [
    {
     "name": "stderr",
     "output_type": "stream",
     "text": [
      "/usr/local/lib/python3.9/dist-packages/llama_hub/tools/arxiv/base.py:35: ResourceWarning: unclosed <ssl.SSLSocket fd=72, family=AddressFamily.AF_INET, type=SocketKind.SOCK_STREAM, proto=6, laddr=('10.36.202.193', 47864), raddr=('128.84.21.203', 443)>\n",
      "  for result in search.results():\n",
      "ResourceWarning: Enable tracemalloc to get the object allocation traceback\n"
     ]
    },
    {
     "data": {
      "text/plain": [
       "'I found some information about the superconductor LK-99. \\n\\nOne paper titled \"Synthesis of possible room temperature superconductor LK-99:Pb$_9$Cu(PO$_4$)$_6$O\" discusses the quest for room-temperature superconductors and mentions that a Korean group synthesized a Lead Apatite-based compound called LK-99, which showed a transition temperature (T$_c$) above 400$^\\\\\\\\circ$K. The paper mentions that the compound exhibited promising signatures of superconductivity in terms of resistivity and diamagnetism at T$_c$. However, the heat capacity did not show an obvious transition at T$_c$. The paper reports the synthesis of polycrystalline samples of LK-99 and confirms the phase through X-ray diffraction measurements. The paper concludes that the current results do not approve the appearance of bulk superconductivity at room temperature, but further studies with different heat treatments are underway. [Link to the paper](http://arxiv.org/pdf/2307.16402v2)\\n\\nAnother paper titled \"Superfluid density of a pseudogapped superconductor near SIT\" analyzes the critical behavior of superfluid density ($\\\\\\\\rho_s$) in strongly disordered superconductors near the superconductor-insulator transition. The paper compares the behavior of superfluid density with the spectral gap ($\\\\\\\\Delta$) for collective excitations. The paper reports an unusual scaling relation $\\\\\\\\rho_s \\\\\\\\propto \\\\\\\\Delta^2$ close to the superconductor-insulator transition, which has been observed in recent experiments. [Link to the paper](http://arxiv.org/pdf/1509.05138v1)\\n\\nAnother paper titled \"Supercurrent in Nodal Superconductors\" conducts a theoretical study of nodal superconductors in the presence of supercurrent. The paper focuses on d-wave and 2D f-wave superconductors and computes the quasiparticle density of states and the temperature dependence of the depairing critical current in nodal superconductors. [Link to the paper](http://arxiv.org/pdf/cond-mat/0405236v2)\\n\\nPlease note that these papers provide different perspectives and findings related to superconductors, including LK-99.'"
      ]
     },
     "execution_count": 10,
     "metadata": {},
     "output_type": "execute_result"
    }
   ],
   "source": [
    "from llama_hub.tools.arxiv import ArxivToolSpec\n",
    "from llama_index.agent import OpenAIAgent\n",
    "\n",
    "tool_spec = ArxivToolSpec()\n",
    "\n",
    "agent = OpenAIAgent.from_tools(tool_spec.to_tool_list())\n",
    "\n",
    "response=agent.chat('Whats going on with the superconductor lk-99')\n",
    "response.response"
   ]
  },
  {
   "cell_type": "code",
   "execution_count": 11,
   "id": "cdd0253f-fe6c-419b-8f48-38ec3d6035ae",
   "metadata": {},
   "outputs": [
    {
     "name": "stderr",
     "output_type": "stream",
     "text": [
      "/usr/local/lib/python3.9/dist-packages/llama_hub/tools/arxiv/base.py:35: ResourceWarning: unclosed <ssl.SSLSocket fd=72, family=AddressFamily.AF_INET, type=SocketKind.SOCK_STREAM, proto=6, laddr=('10.36.202.193', 36546), raddr=('128.84.21.203', 443)>\n",
      "  for result in search.results():\n",
      "ResourceWarning: Enable tracemalloc to get the object allocation traceback\n"
     ]
    },
    {
     "data": {
      "text/plain": [
       "'Here are some of the latest developments in automatic speech recognition:\\n\\n1. [Scaling Laws of Synthetic Images for Model Training](http://arxiv.org/pdf/2312.04567v1): This paper explores the use of synthetic images generated by text-to-image models for training supervised models such as image classifiers and CLIP. The study investigates the scaling behavior of synthetic images and identifies factors that affect their effectiveness in training. The findings suggest that scaling synthetic data can be particularly effective in scenarios with limited real image data or when the evaluation dataset differs significantly from the training data.\\n\\n2. [Gen2Det: Generate to Detect](http://arxiv.org/pdf/2312.04566v1): This work presents Gen2Det, a modular pipeline for creating synthetic training data for object detection. By leveraging state-of-the-art grounded image generation methods, Gen2Det simplifies the process of generating scene-centric images for object detection. The paper also proposes techniques to filter and utilize the generated data effectively. Experimental results demonstrate improvements in object detection and segmentation tasks across various settings.\\n\\n3. [MuRF: Multi-Baseline Radiance Fields](http://arxiv.org/pdf/2312.04565v1): MuRF is a feed-forward approach for solving sparse view synthesis under multiple different baseline settings. The method discretizes the 3D space into planes parallel to the target image plane and constructs a target view frustum volume. This volume representation allows for high-quality rendering and facilitates radiance field regression with a convolutional network. MuRF achieves state-of-the-art performance in view synthesis tasks across different baseline settings and demonstrates promising generalization abilities.\\n\\nThese papers represent some of the recent advancements in automatic speech recognition.'"
      ]
     },
     "execution_count": 11,
     "metadata": {},
     "output_type": "execute_result"
    }
   ],
   "source": [
    "response=agent.chat('what are the latest developments in automatic speech recognition')\n",
    "response.response"
   ]
  },
  {
   "cell_type": "markdown",
   "id": "0f4a5b8c-cdce-40c8-8946-9b7debfde3d3",
   "metadata": {},
   "source": [
    "## Ideas how to use:\n",
    " - make query, ask some overview of what they talk about x and let embedding find samples and LLM gen answer\n",
    " - "
   ]
  },
  {
   "cell_type": "code",
   "execution_count": null,
   "id": "0a71ad12-1762-466c-9bbf-61c1cd6f8564",
   "metadata": {},
   "outputs": [],
   "source": []
  }
 ],
 "metadata": {
  "kernelspec": {
   "display_name": "Python 3 (ipykernel)",
   "language": "python",
   "name": "python3"
  },
  "language_info": {
   "codemirror_mode": {
    "name": "ipython",
    "version": 3
   },
   "file_extension": ".py",
   "mimetype": "text/x-python",
   "name": "python",
   "nbconvert_exporter": "python",
   "pygments_lexer": "ipython3",
   "version": "3.9.13"
  }
 },
 "nbformat": 4,
 "nbformat_minor": 5
}
