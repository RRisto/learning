{
 "cells": [
  {
   "cell_type": "code",
   "execution_count": 3,
   "id": "0b35807a-4709-4f91-b436-f493ce2a2dfe",
   "metadata": {
    "pycharm": {
     "name": "#%%\n"
    }
   },
   "outputs": [],
   "source": [
    "# !pip install weaviate-client\n",
    "# !pip install llama_index==0.9.14\n",
    "# !pip install llama_index==0.9.24\n",
    "# !pip install openai\n",
    "# !pip install --upgrade pydantic==1.10.12 typing-extensions==4.5.0\n",
    "# !pip install fastcore"
   ]
  },
  {
   "cell_type": "code",
   "execution_count": 4,
   "id": "55e60fe3-a7d6-47f9-81b5-8c7da10ba45f",
   "metadata": {
    "pycharm": {
     "name": "#%%\n"
    }
   },
   "outputs": [],
   "source": [
    "# !pip install typing-extensions==4.7"
   ]
  },
  {
   "cell_type": "code",
   "execution_count": 5,
   "id": "b97c13f9-6c92-42d3-9a21-05de25092f0c",
   "metadata": {
    "pycharm": {
     "name": "#%%\n"
    }
   },
   "outputs": [
    {
     "name": "stderr",
     "output_type": "stream",
     "text": [
      "/tmp/ipykernel_1309/3307341420.py:42: FutureWarning: Passing a negative integer is deprecated in version 1.0 and will not be supported in future version. Instead, use None to not limit the column width.\n",
      "  pd.set_option('display.max_colwidth',-1)\n"
     ]
    }
   ],
   "source": [
    "import os\n",
    "import sys\n",
    "import logging\n",
    "import pandas as pd\n",
    "import numpy as np\n",
    "from pathlib import Path\n",
    "import matplotlib.pyplot as plt\n",
    "from configparser import ConfigParser\n",
    "\n",
    "from llama_index.vector_stores import WeaviateVectorStore\n",
    "from llama_index.schema import TextNode, NodeRelationship, RelatedNodeInfo\n",
    "from llama_index import VectorStoreIndex, StorageContext\n",
    "from llama_index import StorageContext, load_index_from_storage\n",
    "from llama_index import get_response_synthesizer\n",
    "from llama_index.indices.postprocessor import SimilarityPostprocessor, PrevNextNodePostprocessor\n",
    "from llama_index.retrievers import VectorIndexRetriever\n",
    "from llama_index.query_engine import RetrieverQueryEngine\n",
    "from llama_index.indices.vector_store.retrievers import (\n",
    "    VectorIndexAutoRetriever,\n",
    ")\n",
    "from llama_index.selectors.llm_selectors import (\n",
    "    LLMSingleSelector,\n",
    "    LLMMultiSelector,\n",
    ")\n",
    "from llama_index.selectors.pydantic_selectors import (\n",
    "    PydanticMultiSelector,\n",
    "    PydanticSingleSelector,\n",
    ")\n",
    "from llama_index.agent import AgentRunner\n",
    "from llama_index.agent import OpenAIAgent\n",
    "from llama_index.tools import FunctionTool\n",
    "from llama_index.vector_stores.types import MetadataInfo, VectorStoreInfo\n",
    "from llama_index import ServiceContext\n",
    "from llama_index.llms import OpenAI as OpenAILLama\n",
    "from llama_index.embeddings import OpenAIEmbedding, HuggingFaceEmbedding\n",
    "from llama_index import download_loader\n",
    "\n",
    "import openai\n",
    "import weaviate\n",
    "from weaviate import EmbeddedOptions\n",
    "\n",
    "pd.set_option('display.max_colwidth',-1)"
   ]
  },
  {
   "cell_type": "code",
   "execution_count": 6,
   "id": "45781484-ff71-4f1d-a3d8-f4c5b280fd8d",
   "metadata": {
    "pycharm": {
     "name": "#%%\n"
    }
   },
   "outputs": [],
   "source": [
    "import nest_asyncio\n",
    "nest_asyncio.apply()"
   ]
  },
  {
   "cell_type": "code",
   "execution_count": 7,
   "id": "1e8e1742-a4b3-46dd-acf0-7c6356a37bd2",
   "metadata": {
    "pycharm": {
     "name": "#%%\n"
    }
   },
   "outputs": [
    {
     "name": "stderr",
     "output_type": "stream",
     "text": [
      "/usr/local/lib/python3.9/dist-packages/pkg_resources/_vendor/jaraco/text/__init__.py:593: ResourceWarning: unclosed file <_io.TextIOWrapper name='agent_pack/requirements.txt' mode='r' encoding='UTF-8'>\n",
      "  for item in lines:\n",
      "ResourceWarning: Enable tracemalloc to get the object allocation traceback\n"
     ]
    }
   ],
   "source": [
    "from llama_index.llama_pack import download_llama_pack\n",
    "\n",
    "download_llama_pack(\n",
    "    \"LLMCompilerAgentPack\",\n",
    "    \"./agent_pack\",\n",
    "    skip_load=True,\n",
    "    # leave the below line commented out if using the notebook on main\n",
    "    # llama_hub_url=\"https://raw.githubusercontent.com/run-llama/llama-hub/jerry/add_llm_compiler_pack/llama_hub\"\n",
    ")\n",
    "from agent_pack.step import LLMCompilerAgentWorker"
   ]
  },
  {
   "cell_type": "markdown",
   "id": "d2027dbf-5288-4ebe-a91b-6f0e0dec05ba",
   "metadata": {
    "pycharm": {
     "name": "#%% md\n"
    },
    "tags": []
   },
   "source": [
    "# Configuration"
   ]
  },
  {
   "cell_type": "markdown",
   "id": "8e72442d-69b3-4350-bb83-61370cd37b86",
   "metadata": {
    "pycharm": {
     "name": "#%% md\n"
    }
   },
   "source": [
    "## Set logging"
   ]
  },
  {
   "cell_type": "code",
   "execution_count": 8,
   "id": "86d1ab62-ae7f-4717-a6c1-de6607331a6f",
   "metadata": {
    "pycharm": {
     "name": "#%%\n"
    }
   },
   "outputs": [],
   "source": [
    "logging.basicConfig(stream=sys.stdout, level=logging.INFO)\n",
    "logging.getLogger().addHandler(logging.StreamHandler(stream=sys.stdout))"
   ]
  },
  {
   "cell_type": "markdown",
   "id": "8b825d14-7e15-4bfa-ab44-f0ab54ee5ec7",
   "metadata": {
    "pycharm": {
     "name": "#%% md\n"
    }
   },
   "source": [
    "## OpenAI config"
   ]
  },
  {
   "cell_type": "code",
   "execution_count": 9,
   "id": "2af4c911-3530-4d7e-ad60-eb2ef170dd1f",
   "metadata": {
    "pycharm": {
     "name": "#%%\n"
    }
   },
   "outputs": [],
   "source": [
    "config=ConfigParser()\n",
    "config.read('conf/conf.ini')\n",
    "os.environ[\"OPENAI_API_KEY\"] = config['openai']['apikey']"
   ]
  },
  {
   "cell_type": "markdown",
   "id": "4ebe654b-1fab-4745-be97-31cf113fef8e",
   "metadata": {
    "pycharm": {
     "name": "#%% md\n"
    }
   },
   "source": [
    "## Conf for LLM and embedding model"
   ]
  },
  {
   "cell_type": "code",
   "execution_count": 10,
   "id": "0efae187-b952-41b3-842f-70c5e8141d1f",
   "metadata": {
    "pycharm": {
     "name": "#%%\n"
    }
   },
   "outputs": [],
   "source": [
    "llm = OpenAILLama(model=\"gpt-3.5-turbo\", temperature=0.1)\n",
    "embed_model=OpenAIEmbedding() "
   ]
  },
  {
   "cell_type": "markdown",
   "id": "de603e94-1b7a-4073-9e76-8ce6933fc1e6",
   "metadata": {
    "pycharm": {
     "name": "#%% md\n"
    }
   },
   "source": [
    "## Query engine/retriever conf"
   ]
  },
  {
   "cell_type": "code",
   "execution_count": 11,
   "id": "02f8afa3-6980-4fce-9379-043afa32855f",
   "metadata": {
    "pycharm": {
     "name": "#%%\n"
    }
   },
   "outputs": [],
   "source": [
    "#retriever max top results and similarity top k \n",
    "max_top_k =100\n",
    "similarity_top_k=100\n",
    "#cosine sim under which returned nodes are not considered when giving an answer\n",
    "similarity_cutoff=0.7"
   ]
  },
  {
   "cell_type": "markdown",
   "id": "416ff8cf-5fad-4e47-b81f-a0c8263bf96b",
   "metadata": {
    "pycharm": {
     "name": "#%% md\n"
    }
   },
   "source": [
    "# Data"
   ]
  },
  {
   "cell_type": "markdown",
   "id": "6adcf218-464a-4990-a925-a3ec20e98693",
   "metadata": {
    "pycharm": {
     "name": "#%% md\n"
    }
   },
   "source": [
    "## Load data (text is already embedded)"
   ]
  },
  {
   "cell_type": "code",
   "execution_count": 6,
   "id": "d87fd974-cd73-4b60-8a12-885742842e09",
   "metadata": {
    "pycharm": {
     "name": "#%%\n"
    }
   },
   "outputs": [
    {
     "name": "stderr",
     "output_type": "stream",
     "text": [
      "/usr/lib/python3/dist-packages/openpyxl/compat/numbers.py:41: DeprecationWarning: `np.float` is a deprecated alias for the builtin `float`. To silence this warning, use `float` by itself. Doing this will not modify any behavior and is safe. If you specifically wanted the numpy scalar type, use `np.float64` here.\n",
      "Deprecated in NumPy 1.20; for more details and guidance: https://numpy.org/devdocs/release/1.20.0-notes.html#deprecations\n",
      "  numpy.float,\n"
     ]
    },
    {
     "data": {
      "text/plain": [
       "(410335, 23)"
      ]
     },
     "execution_count": 6,
     "metadata": {},
     "output_type": "execute_result"
    }
   ],
   "source": [
    "#texts with metadata\n",
    "# df=pd.read_excel('data/riigikogu_w_meta/data_sub.xlsx')\n",
    "df=pd.read_excel('data/riigikogu_w_meta/data_all.xlsx')\n",
    "df.shape"
   ]
  },
  {
   "cell_type": "code",
   "execution_count": 7,
   "id": "fc7403f5-a5cf-48e0-bac2-ace18ca9c604",
   "metadata": {
    "pycharm": {
     "name": "#%%\n"
    }
   },
   "outputs": [
    {
     "data": {
      "text/plain": [
       "Index(['heading', 'speaker', 'index_pk', 'index_snd', 'year', 'month', 'day',\n",
       "       'time', 'text_wo_punct', 'date', 'koosseis', 'ntoks', 'text_splitted',\n",
       "       'ntoks_splitted', 'doc_id', 'topic_id', 'topic_prob', 'Name',\n",
       "       'cluster_name', 'cluster_name_very_high', 'topic_reduce_outliers',\n",
       "       'Name_red_outliers', 'fation'],\n",
       "      dtype='object')"
      ]
     },
     "execution_count": 7,
     "metadata": {},
     "output_type": "execute_result"
    }
   ],
   "source": [
    "df.columns"
   ]
  },
  {
   "cell_type": "code",
   "execution_count": 8,
   "id": "c42d2e59-2b5c-4440-a18c-ce165ecfc612",
   "metadata": {
    "pycharm": {
     "name": "#%%\n"
    }
   },
   "outputs": [
    {
     "data": {
      "text/plain": [
       "(410335,)"
      ]
     },
     "execution_count": 8,
     "metadata": {},
     "output_type": "execute_result"
    }
   ],
   "source": [
    "#embeddings, NB! row order must be same as in df!\n",
    "# embs_ar=np.load('data/riigikogu_w_meta/embs.npy', allow_pickle=True)\n",
    "embs_ar=np.load('data/riigikogu_w_meta/embs_all.npy', allow_pickle=True)\n",
    "embs_ar.shape"
   ]
  },
  {
   "cell_type": "markdown",
   "id": "0161cf72-c723-46cb-a402-d47293c497c2",
   "metadata": {
    "pycharm": {
     "name": "#%% md\n"
    }
   },
   "source": [
    "## Create nodes"
   ]
  },
  {
   "cell_type": "code",
   "execution_count": 9,
   "id": "af90877f-e682-4e4d-86e5-3ea817016134",
   "metadata": {
    "pycharm": {
     "name": "#%%\n"
    }
   },
   "outputs": [
    {
     "data": {
      "text/plain": [
       "Index(['heading', 'speaker', 'index_pk', 'index_snd', 'year', 'month', 'day',\n",
       "       'time', 'text_wo_punct', 'date', 'koosseis', 'ntoks', 'text',\n",
       "       'ntoks_splitted', 'doc_id', 'topic_id', 'topic_prob', 'topic',\n",
       "       'cluster_name', 'cluster_name_very_high', 'topic_reduce_outliers',\n",
       "       'topic_red_outliers', 'faction'],\n",
       "      dtype='object')"
      ]
     },
     "execution_count": 9,
     "metadata": {},
     "output_type": "execute_result"
    }
   ],
   "source": [
    "df=df.rename(columns={'Name':'topic', 'Name_red_outliers':'topic_red_outliers', 'fation':'faction', 'text_splitted':'text'})\n",
    "df.columns"
   ]
  },
  {
   "cell_type": "code",
   "execution_count": 10,
   "id": "23ba6494-d971-45b1-8c22-7e4b1ab3610e",
   "metadata": {
    "pycharm": {
     "name": "#%%\n"
    }
   },
   "outputs": [],
   "source": [
    "metadata_cols=['heading', 'speaker', 'index_pk',\n",
    "       'index_snd', 'year', 'month', 'day', 'time', 'date', 'koosseis',\n",
    "       'ntoks_splitted', 'doc_id', 'topic_prob',\n",
    "       'topic', 'topic_red_outliers', 'faction']\n",
    "\n",
    "def create_nodes(df, embs_ar, metadata_cols):\n",
    "    nodes = []\n",
    "    for idx, sample in df.iterrows():\n",
    "        metadata=dict()\n",
    "        for meta_key in metadata_cols:\n",
    "            if not pd.isna(sample[meta_key]):\n",
    "                metadata[meta_key]=sample[meta_key]\n",
    "        node = TextNode(\n",
    "            text=sample['text'],\n",
    "            metadata=metadata\n",
    "        )\n",
    "        node.embedding=embs_ar[idx]\n",
    "        \n",
    "        if idx>0:\n",
    "            node.relationships[NodeRelationship.PREVIOUS] = RelatedNodeInfo(\n",
    "                node_id=nodes[-1].node_id\n",
    "            )\n",
    "            if idx <(df.shape[0]-1):\n",
    "                nodes[-1].relationships[NodeRelationship.NEXT] = RelatedNodeInfo(\n",
    "                node_id=node.node_id\n",
    "            )\n",
    "        nodes.append(node)\n",
    "    return nodes\n",
    "\n",
    "nodes=create_nodes(df, embs_ar, metadata_cols)"
   ]
  },
  {
   "cell_type": "markdown",
   "id": "b04d9a1c-6d9b-4b4a-a52b-a1a8c044f7e5",
   "metadata": {
    "pycharm": {
     "name": "#%% md\n"
    }
   },
   "source": [
    "## Describe metadata - needed for LLM to later use it for filtering"
   ]
  },
  {
   "cell_type": "code",
   "execution_count": 12,
   "id": "080738f7-d178-4a28-ad5d-df21a001c87c",
   "metadata": {
    "pycharm": {
     "name": "#%%\n"
    }
   },
   "outputs": [],
   "source": [
    "#describe metadata\n",
    "vector_store_info = VectorStoreInfo(\n",
    "    content_info=\"segment text from Riigikogu stenogram\",\n",
    "    metadata_info=[\n",
    "        MetadataInfo(\n",
    "            name=\"heading\",\n",
    "            type=\"str\",\n",
    "            description=(\n",
    "                \"Heading of the stenogram\"\n",
    "            ),\n",
    "        ),\n",
    "        MetadataInfo(\n",
    "            name=\"speaker\",\n",
    "            type=\"str\",\n",
    "            description=(\n",
    "                \"Name of the speaker of the segment text\"\n",
    "            ),\n",
    "        ),\n",
    "        MetadataInfo(\n",
    "            name=\"index_pk\",\n",
    "            type=\"str\",\n",
    "            description=(\n",
    "                \"Index of a päevakorrapunkt\"\n",
    "            ),\n",
    "        ),\n",
    "        MetadataInfo(\n",
    "            name=\"year\",\n",
    "            type=\"int\",\n",
    "            description=(\n",
    "                \"Year when the segment was spoken\"\n",
    "            ),\n",
    "        ),\n",
    "        MetadataInfo(\n",
    "            name=\"month\",\n",
    "            type=\"int\",\n",
    "            description=(\n",
    "                \"Month when the segment was spoken\"\n",
    "            ),\n",
    "        ),\n",
    "        MetadataInfo(\n",
    "            name=\"day\",\n",
    "            type=\"int\",\n",
    "            description=(\n",
    "                \"Day when the segment was spoken\"\n",
    "            ),\n",
    "        ),\n",
    "        MetadataInfo(\n",
    "            name=\"time\",\n",
    "            type=\"str\",\n",
    "            description=(\n",
    "                \"Time when the segment was spoken\"\n",
    "            ),\n",
    "        ),\n",
    "        MetadataInfo(\n",
    "            name=\"date\",\n",
    "            type=\"str\",\n",
    "            description=(\n",
    "                \"Date when the segment was spoken, in format YYYY-MM-DD\"\n",
    "            ),\n",
    "        ),\n",
    "        MetadataInfo(\n",
    "            name=\"koosseis\",\n",
    "            type=\"str\",\n",
    "            description=(\n",
    "                \"Number Riigikogu kossseis in which segment was spoken\"\n",
    "            ),\n",
    "        ),\n",
    "        MetadataInfo(\n",
    "            name=\"ntoks_splitted\",\n",
    "            type=\"int\",\n",
    "            description=(\n",
    "                \"Number of tokens/words in segment text\"\n",
    "            ),\n",
    "        ),\n",
    "        MetadataInfo(\n",
    "            name=\"doc_id\",\n",
    "            type=\"int\",\n",
    "            description=(\n",
    "                \"Segment text id\"\n",
    "            ),\n",
    "        ),\n",
    "        MetadataInfo(\n",
    "            name=\"topic_prob\",\n",
    "            type=\"float\",\n",
    "            description=(\n",
    "                \"Probability of a topic\"\n",
    "            ),\n",
    "        ),\n",
    "        MetadataInfo(\n",
    "            name=\"topic\",\n",
    "            type=\"str\",\n",
    "            description=(\n",
    "                \"Name of the topic\"\n",
    "            ),\n",
    "        ),\n",
    "        MetadataInfo(\n",
    "            name=\"topic_red_outliers\",\n",
    "            type=\"str\",\n",
    "            description=(\n",
    "                \"Name of the topic if outliers have been reduced\"\n",
    "            ),\n",
    "        ),\n",
    "        MetadataInfo(\n",
    "            name=\"faction\",\n",
    "            type=\"str\",\n",
    "            description=(\n",
    "                \"Speaker faction\"\n",
    "            ),\n",
    "        ),\n",
    "    ],\n",
    ")"
   ]
  },
  {
   "cell_type": "markdown",
   "id": "1be90059-47ad-4c89-8e60-843463c2958c",
   "metadata": {
    "pycharm": {
     "name": "#%% md\n"
    }
   },
   "source": [
    "# Vector store and index"
   ]
  },
  {
   "cell_type": "markdown",
   "id": "74f89fce-0a76-4f67-93e5-9f328b5f5d7e",
   "metadata": {
    "pycharm": {
     "name": "#%% md\n"
    }
   },
   "source": [
    "## Create vector store"
   ]
  },
  {
   "cell_type": "code",
   "execution_count": 13,
   "id": "44c0f054-d5ef-4ded-9ff3-c05eb55fa551",
   "metadata": {
    "pycharm": {
     "name": "#%%\n"
    }
   },
   "outputs": [
    {
     "name": "stdout",
     "output_type": "stream",
     "text": [
      "Started /notebooks/rag_advanced/weaviate_storage/: process ID 1345\n",
      "Client created? True\n"
     ]
    },
    {
     "name": "stderr",
     "output_type": "stream",
     "text": [
      "{\"action\":\"startup\",\"default_vectorizer_module\":\"none\",\"level\":\"info\",\"msg\":\"the default vectorizer modules is set to \\\"none\\\", as a result all new schema classes without an explicit vectorizer setting, will use this vectorizer\",\"time\":\"2024-01-01T14:34:30Z\"}\n",
      "{\"action\":\"startup\",\"auto_schema_enabled\":true,\"level\":\"info\",\"msg\":\"auto schema enabled setting is set to \\\"true\\\"\",\"time\":\"2024-01-01T14:34:30Z\"}\n",
      "{\"level\":\"info\",\"msg\":\"No resource limits set, weaviate will use all available memory and CPU. To limit resources, set LIMIT_RESOURCES=true\",\"time\":\"2024-01-01T14:34:30Z\"}\n",
      "{\"level\":\"warning\",\"msg\":\"Multiple vector spaces are present, GraphQL Explore and REST API list objects endpoint module include params has been disabled as a result.\",\"time\":\"2024-01-01T14:34:30Z\"}\n",
      "{\"action\":\"grpc_startup\",\"level\":\"info\",\"msg\":\"grpc server listening at [::]:50060\",\"time\":\"2024-01-01T14:34:30Z\"}\n",
      "{\"action\":\"restapi_management\",\"level\":\"info\",\"msg\":\"Serving weaviate at http://127.0.0.1:8079\",\"time\":\"2024-01-01T14:34:30Z\"}\n",
      "{\"action\":\"lsm_recover_from_active_wal\",\"class\":\"Riigikogu_meta_index\",\"index\":\"riigikogu_meta_index\",\"level\":\"warning\",\"msg\":\"active write-ahead-log found. Did weaviate crash prior to this? Trying to recover...\",\"path\":\"/notebooks/rag_advanced/weaviate_storage/riigikogu_meta_index/LKP5PZ6R90pi/lsm/objects/segment-1704117757881510247.wal\",\"shard\":\"LKP5PZ6R90pi\",\"time\":\"2024-01-01T14:34:31Z\"}\n",
      "{\"action\":\"lsm_recover_from_active_wal_success\",\"class\":\"Riigikogu_meta_index\",\"index\":\"riigikogu_meta_index\",\"level\":\"info\",\"msg\":\"successfully recovered from write-ahead-log\",\"path\":\"/notebooks/rag_advanced/weaviate_storage/riigikogu_meta_index/LKP5PZ6R90pi/lsm/objects/segment-1704117757881510247.wal\",\"shard\":\"LKP5PZ6R90pi\",\"time\":\"2024-01-01T14:34:31Z\"}\n",
      "{\"action\":\"lsm_recover_from_active_wal\",\"class\":\"Riigikogu_meta_index\",\"index\":\"riigikogu_meta_index\",\"level\":\"warning\",\"msg\":\"active write-ahead-log found. Did weaviate crash prior to this? Trying to recover...\",\"path\":\"/notebooks/rag_advanced/weaviate_storage/riigikogu_meta_index/LKP5PZ6R90pi/lsm/property_topic/segment-1704117757887161346.wal\",\"shard\":\"LKP5PZ6R90pi\",\"time\":\"2024-01-01T14:34:31Z\"}\n",
      "{\"action\":\"lsm_recover_from_active_wal\",\"class\":\"Riigikogu_meta_index\",\"index\":\"riigikogu_meta_index\",\"level\":\"warning\",\"msg\":\"active write-ahead-log found. Did weaviate crash prior to this? Trying to recover...\",\"path\":\"/notebooks/rag_advanced/weaviate_storage/riigikogu_meta_index/LKP5PZ6R90pi/lsm/property_relationships/segment-1704117757890013702.wal\",\"shard\":\"LKP5PZ6R90pi\",\"time\":\"2024-01-01T14:34:31Z\"}\n",
      "{\"action\":\"lsm_recover_from_active_wal\",\"class\":\"Riigikogu_meta_index\",\"index\":\"riigikogu_meta_index\",\"level\":\"warning\",\"msg\":\"active write-ahead-log found. Did weaviate crash prior to this? Trying to recover...\",\"path\":\"/notebooks/rag_advanced/weaviate_storage/riigikogu_meta_index/LKP5PZ6R90pi/lsm/property_year/segment-1704117757897129164.wal\",\"shard\":\"LKP5PZ6R90pi\",\"time\":\"2024-01-01T14:34:31Z\"}\n",
      "{\"action\":\"lsm_recover_from_active_wal\",\"class\":\"Riigikogu_meta_index\",\"index\":\"riigikogu_meta_index\",\"level\":\"warning\",\"msg\":\"active write-ahead-log found. Did weaviate crash prior to this? Trying to recover...\",\"path\":\"/notebooks/rag_advanced/weaviate_storage/riigikogu_meta_index/LKP5PZ6R90pi/lsm/property_node_info/segment-1704117757886680683.wal\",\"shard\":\"LKP5PZ6R90pi\",\"time\":\"2024-01-01T14:34:31Z\"}\n",
      "{\"action\":\"lsm_recover_from_active_wal\",\"class\":\"Riigikogu_meta_index\",\"index\":\"riigikogu_meta_index\",\"level\":\"warning\",\"msg\":\"active write-ahead-log found. Did weaviate crash prior to this? Trying to recover...\",\"path\":\"/notebooks/rag_advanced/weaviate_storage/riigikogu_meta_index/LKP5PZ6R90pi/lsm/property_ntoks_splitted/segment-1704117757897383309.wal\",\"shard\":\"LKP5PZ6R90pi\",\"time\":\"2024-01-01T14:34:31Z\"}\n",
      "{\"action\":\"lsm_recover_from_active_wal\",\"class\":\"Riigikogu_meta_index\",\"index\":\"riigikogu_meta_index\",\"level\":\"warning\",\"msg\":\"active write-ahead-log found. Did weaviate crash prior to this? Trying to recover...\",\"path\":\"/notebooks/rag_advanced/weaviate_storage/riigikogu_meta_index/LKP5PZ6R90pi/lsm/property_speaker/segment-1704117757887502834.wal\",\"shard\":\"LKP5PZ6R90pi\",\"time\":\"2024-01-01T14:34:31Z\"}\n",
      "{\"action\":\"lsm_recover_from_active_wal\",\"class\":\"Riigikogu_meta_index\",\"index\":\"riigikogu_meta_index\",\"level\":\"warning\",\"msg\":\"active write-ahead-log found. Did weaviate crash prior to this? Trying to recover...\",\"path\":\"/notebooks/rag_advanced/weaviate_storage/riigikogu_meta_index/LKP5PZ6R90pi/lsm/property_month/segment-1704117757896217101.wal\",\"shard\":\"LKP5PZ6R90pi\",\"time\":\"2024-01-01T14:34:31Z\"}\n",
      "{\"action\":\"lsm_recover_from_active_wal_success\",\"class\":\"Riigikogu_meta_index\",\"index\":\"riigikogu_meta_index\",\"level\":\"info\",\"msg\":\"successfully recovered from write-ahead-log\",\"path\":\"/notebooks/rag_advanced/weaviate_storage/riigikogu_meta_index/LKP5PZ6R90pi/lsm/property_relationships/segment-1704117757890013702.wal\",\"shard\":\"LKP5PZ6R90pi\",\"time\":\"2024-01-01T14:34:31Z\"}\n",
      "{\"action\":\"lsm_recover_from_active_wal\",\"class\":\"Riigikogu_meta_index\",\"index\":\"riigikogu_meta_index\",\"level\":\"warning\",\"msg\":\"active write-ahead-log found. Did weaviate crash prior to this? Trying to recover...\",\"path\":\"/notebooks/rag_advanced/weaviate_storage/riigikogu_meta_index/LKP5PZ6R90pi/lsm/property_day/segment-1704117757886774803.wal\",\"shard\":\"LKP5PZ6R90pi\",\"time\":\"2024-01-01T14:34:31Z\"}\n",
      "{\"action\":\"lsm_recover_from_active_wal_success\",\"class\":\"Riigikogu_meta_index\",\"index\":\"riigikogu_meta_index\",\"level\":\"info\",\"msg\":\"successfully recovered from write-ahead-log\",\"path\":\"/notebooks/rag_advanced/weaviate_storage/riigikogu_meta_index/LKP5PZ6R90pi/lsm/property_day/segment-1704117757886774803.wal\",\"shard\":\"LKP5PZ6R90pi\",\"time\":\"2024-01-01T14:34:31Z\"}\n",
      "{\"action\":\"lsm_recover_from_active_wal\",\"class\":\"Riigikogu_meta_index\",\"index\":\"riigikogu_meta_index\",\"level\":\"warning\",\"msg\":\"active write-ahead-log found. Did weaviate crash prior to this? Trying to recover...\",\"path\":\"/notebooks/rag_advanced/weaviate_storage/riigikogu_meta_index/LKP5PZ6R90pi/lsm/property_topic_red_outliers/segment-1704117757898209208.wal\",\"shard\":\"LKP5PZ6R90pi\",\"time\":\"2024-01-01T14:34:31Z\"}\n",
      "{\"action\":\"lsm_recover_from_active_wal_success\",\"class\":\"Riigikogu_meta_index\",\"index\":\"riigikogu_meta_index\",\"level\":\"info\",\"msg\":\"successfully recovered from write-ahead-log\",\"path\":\"/notebooks/rag_advanced/weaviate_storage/riigikogu_meta_index/LKP5PZ6R90pi/lsm/property_ntoks_splitted/segment-1704117757897383309.wal\",\"shard\":\"LKP5PZ6R90pi\",\"time\":\"2024-01-01T14:34:31Z\"}\n",
      "{\"action\":\"lsm_recover_from_active_wal\",\"class\":\"Riigikogu_meta_index\",\"index\":\"riigikogu_meta_index\",\"level\":\"warning\",\"msg\":\"active write-ahead-log found. Did weaviate crash prior to this? Trying to recover...\",\"path\":\"/notebooks/rag_advanced/weaviate_storage/riigikogu_meta_index/LKP5PZ6R90pi/lsm/property_ref_doc_id/segment-1704117757904942184.wal\",\"shard\":\"LKP5PZ6R90pi\",\"time\":\"2024-01-01T14:34:31Z\"}\n",
      "{\"action\":\"lsm_recover_from_active_wal_success\",\"class\":\"Riigikogu_meta_index\",\"index\":\"riigikogu_meta_index\",\"level\":\"info\",\"msg\":\"successfully recovered from write-ahead-log\",\"path\":\"/notebooks/rag_advanced/weaviate_storage/riigikogu_meta_index/LKP5PZ6R90pi/lsm/property_ref_doc_id/segment-1704117757904942184.wal\",\"shard\":\"LKP5PZ6R90pi\",\"time\":\"2024-01-01T14:34:31Z\"}\n",
      "{\"action\":\"lsm_recover_from_active_wal_success\",\"class\":\"Riigikogu_meta_index\",\"index\":\"riigikogu_meta_index\",\"level\":\"info\",\"msg\":\"successfully recovered from write-ahead-log\",\"path\":\"/notebooks/rag_advanced/weaviate_storage/riigikogu_meta_index/LKP5PZ6R90pi/lsm/property_topic_red_outliers/segment-1704117757898209208.wal\",\"shard\":\"LKP5PZ6R90pi\",\"time\":\"2024-01-01T14:34:31Z\"}\n",
      "{\"action\":\"lsm_recover_from_active_wal\",\"class\":\"Riigikogu_meta_index\",\"index\":\"riigikogu_meta_index\",\"level\":\"warning\",\"msg\":\"active write-ahead-log found. Did weaviate crash prior to this? Trying to recover...\",\"path\":\"/notebooks/rag_advanced/weaviate_storage/riigikogu_meta_index/LKP5PZ6R90pi/lsm/property_doc_id/segment-1704117757890170512.wal\",\"shard\":\"LKP5PZ6R90pi\",\"time\":\"2024-01-01T14:34:31Z\"}\n",
      "{\"action\":\"lsm_recover_from_active_wal_success\",\"class\":\"Riigikogu_meta_index\",\"index\":\"riigikogu_meta_index\",\"level\":\"info\",\"msg\":\"successfully recovered from write-ahead-log\",\"path\":\"/notebooks/rag_advanced/weaviate_storage/riigikogu_meta_index/LKP5PZ6R90pi/lsm/property_doc_id/segment-1704117757890170512.wal\",\"shard\":\"LKP5PZ6R90pi\",\"time\":\"2024-01-01T14:34:31Z\"}\n",
      "{\"action\":\"lsm_recover_from_active_wal_success\",\"class\":\"Riigikogu_meta_index\",\"index\":\"riigikogu_meta_index\",\"level\":\"info\",\"msg\":\"successfully recovered from write-ahead-log\",\"path\":\"/notebooks/rag_advanced/weaviate_storage/riigikogu_meta_index/LKP5PZ6R90pi/lsm/property_speaker/segment-1704117757887502834.wal\",\"shard\":\"LKP5PZ6R90pi\",\"time\":\"2024-01-01T14:34:31Z\"}\n",
      "{\"action\":\"lsm_recover_from_active_wal\",\"class\":\"Riigikogu_meta_index\",\"index\":\"riigikogu_meta_index\",\"level\":\"warning\",\"msg\":\"active write-ahead-log found. Did weaviate crash prior to this? Trying to recover...\",\"path\":\"/notebooks/rag_advanced/weaviate_storage/riigikogu_meta_index/LKP5PZ6R90pi/lsm/property_date/segment-1704117757897019902.wal\",\"shard\":\"LKP5PZ6R90pi\",\"time\":\"2024-01-01T14:34:31Z\"}\n",
      "{\"action\":\"lsm_recover_from_active_wal\",\"class\":\"Riigikogu_meta_index\",\"index\":\"riigikogu_meta_index\",\"level\":\"warning\",\"msg\":\"active write-ahead-log found. Did weaviate crash prior to this? Trying to recover...\",\"path\":\"/notebooks/rag_advanced/weaviate_storage/riigikogu_meta_index/LKP5PZ6R90pi/lsm/property_topic_prob/segment-1704117757898950740.wal\",\"shard\":\"LKP5PZ6R90pi\",\"time\":\"2024-01-01T14:34:31Z\"}\n",
      "{\"action\":\"lsm_recover_from_active_wal\",\"class\":\"Riigikogu_meta_index\",\"index\":\"riigikogu_meta_index\",\"level\":\"warning\",\"msg\":\"active write-ahead-log found. Did weaviate crash prior to this? Trying to recover...\",\"path\":\"/notebooks/rag_advanced/weaviate_storage/riigikogu_meta_index/LKP5PZ6R90pi/lsm/property__node_type/segment-1704117757887185509.wal\",\"shard\":\"LKP5PZ6R90pi\",\"time\":\"2024-01-01T14:34:31Z\"}\n",
      "{\"action\":\"lsm_recover_from_active_wal_success\",\"class\":\"Riigikogu_meta_index\",\"index\":\"riigikogu_meta_index\",\"level\":\"info\",\"msg\":\"successfully recovered from write-ahead-log\",\"path\":\"/notebooks/rag_advanced/weaviate_storage/riigikogu_meta_index/LKP5PZ6R90pi/lsm/property_topic_prob/segment-1704117757898950740.wal\",\"shard\":\"LKP5PZ6R90pi\",\"time\":\"2024-01-01T14:34:31Z\"}\n",
      "{\"action\":\"lsm_recover_from_active_wal\",\"class\":\"Riigikogu_meta_index\",\"index\":\"riigikogu_meta_index\",\"level\":\"warning\",\"msg\":\"active write-ahead-log found. Did weaviate crash prior to this? Trying to recover...\",\"path\":\"/notebooks/rag_advanced/weaviate_storage/riigikogu_meta_index/LKP5PZ6R90pi/lsm/property_heading/segment-1704117757895149588.wal\",\"shard\":\"LKP5PZ6R90pi\",\"time\":\"2024-01-01T14:34:31Z\"}\n",
      "{\"action\":\"lsm_recover_from_active_wal_success\",\"class\":\"Riigikogu_meta_index\",\"index\":\"riigikogu_meta_index\",\"level\":\"info\",\"msg\":\"successfully recovered from write-ahead-log\",\"path\":\"/notebooks/rag_advanced/weaviate_storage/riigikogu_meta_index/LKP5PZ6R90pi/lsm/property__node_type/segment-1704117757887185509.wal\",\"shard\":\"LKP5PZ6R90pi\",\"time\":\"2024-01-01T14:34:31Z\"}\n",
      "{\"action\":\"lsm_recover_from_active_wal_success\",\"class\":\"Riigikogu_meta_index\",\"index\":\"riigikogu_meta_index\",\"level\":\"info\",\"msg\":\"successfully recovered from write-ahead-log\",\"path\":\"/notebooks/rag_advanced/weaviate_storage/riigikogu_meta_index/LKP5PZ6R90pi/lsm/property_heading/segment-1704117757895149588.wal\",\"shard\":\"LKP5PZ6R90pi\",\"time\":\"2024-01-01T14:34:31Z\"}\n",
      "{\"action\":\"lsm_recover_from_active_wal_success\",\"class\":\"Riigikogu_meta_index\",\"index\":\"riigikogu_meta_index\",\"level\":\"info\",\"msg\":\"successfully recovered from write-ahead-log\",\"path\":\"/notebooks/rag_advanced/weaviate_storage/riigikogu_meta_index/LKP5PZ6R90pi/lsm/property_topic/segment-1704117757887161346.wal\",\"shard\":\"LKP5PZ6R90pi\",\"time\":\"2024-01-01T14:34:31Z\"}\n",
      "{\"action\":\"lsm_recover_from_active_wal_success\",\"class\":\"Riigikogu_meta_index\",\"index\":\"riigikogu_meta_index\",\"level\":\"info\",\"msg\":\"successfully recovered from write-ahead-log\",\"path\":\"/notebooks/rag_advanced/weaviate_storage/riigikogu_meta_index/LKP5PZ6R90pi/lsm/property_year/segment-1704117757897129164.wal\",\"shard\":\"LKP5PZ6R90pi\",\"time\":\"2024-01-01T14:34:31Z\"}\n",
      "{\"action\":\"lsm_recover_from_active_wal\",\"class\":\"Riigikogu_meta_index\",\"index\":\"riigikogu_meta_index\",\"level\":\"warning\",\"msg\":\"active write-ahead-log found. Did weaviate crash prior to this? Trying to recover...\",\"path\":\"/notebooks/rag_advanced/weaviate_storage/riigikogu_meta_index/LKP5PZ6R90pi/lsm/property_koosseis/segment-1704117757898007503.wal\",\"shard\":\"LKP5PZ6R90pi\",\"time\":\"2024-01-01T14:34:31Z\"}\n",
      "{\"action\":\"lsm_recover_from_active_wal\",\"class\":\"Riigikogu_meta_index\",\"index\":\"riigikogu_meta_index\",\"level\":\"warning\",\"msg\":\"active write-ahead-log found. Did weaviate crash prior to this? Trying to recover...\",\"path\":\"/notebooks/rag_advanced/weaviate_storage/riigikogu_meta_index/LKP5PZ6R90pi/lsm/property_faction/segment-1704117757897595179.wal\",\"shard\":\"LKP5PZ6R90pi\",\"time\":\"2024-01-01T14:34:31Z\"}\n",
      "{\"action\":\"lsm_recover_from_active_wal\",\"class\":\"Riigikogu_meta_index\",\"index\":\"riigikogu_meta_index\",\"level\":\"warning\",\"msg\":\"active write-ahead-log found. Did weaviate crash prior to this? Trying to recover...\",\"path\":\"/notebooks/rag_advanced/weaviate_storage/riigikogu_meta_index/LKP5PZ6R90pi/lsm/property_document_id/segment-1704117757894828388.wal\",\"shard\":\"LKP5PZ6R90pi\",\"time\":\"2024-01-01T14:34:31Z\"}\n",
      "{\"action\":\"lsm_recover_from_active_wal_success\",\"class\":\"Riigikogu_meta_index\",\"index\":\"riigikogu_meta_index\",\"level\":\"info\",\"msg\":\"successfully recovered from write-ahead-log\",\"path\":\"/notebooks/rag_advanced/weaviate_storage/riigikogu_meta_index/LKP5PZ6R90pi/lsm/property_date/segment-1704117757897019902.wal\",\"shard\":\"LKP5PZ6R90pi\",\"time\":\"2024-01-01T14:34:31Z\"}\n",
      "{\"action\":\"lsm_recover_from_active_wal_success\",\"class\":\"Riigikogu_meta_index\",\"index\":\"riigikogu_meta_index\",\"level\":\"info\",\"msg\":\"successfully recovered from write-ahead-log\",\"path\":\"/notebooks/rag_advanced/weaviate_storage/riigikogu_meta_index/LKP5PZ6R90pi/lsm/property_koosseis/segment-1704117757898007503.wal\",\"shard\":\"LKP5PZ6R90pi\",\"time\":\"2024-01-01T14:34:31Z\"}\n",
      "{\"action\":\"lsm_recover_from_active_wal\",\"class\":\"Riigikogu_meta_index\",\"index\":\"riigikogu_meta_index\",\"level\":\"warning\",\"msg\":\"active write-ahead-log found. Did weaviate crash prior to this? Trying to recover...\",\"path\":\"/notebooks/rag_advanced/weaviate_storage/riigikogu_meta_index/LKP5PZ6R90pi/lsm/property__id/segment-1704117757892791034.wal\",\"shard\":\"LKP5PZ6R90pi\",\"time\":\"2024-01-01T14:34:31Z\"}\n",
      "{\"action\":\"lsm_recover_from_active_wal\",\"class\":\"Riigikogu_meta_index\",\"index\":\"riigikogu_meta_index\",\"level\":\"warning\",\"msg\":\"active write-ahead-log found. Did weaviate crash prior to this? Trying to recover...\",\"path\":\"/notebooks/rag_advanced/weaviate_storage/riigikogu_meta_index/LKP5PZ6R90pi/lsm/property_relationships_searchable/segment-1704117757893362980.wal\",\"shard\":\"LKP5PZ6R90pi\",\"time\":\"2024-01-01T14:34:31Z\"}\n",
      "{\"action\":\"lsm_recover_from_active_wal_success\",\"class\":\"Riigikogu_meta_index\",\"index\":\"riigikogu_meta_index\",\"level\":\"info\",\"msg\":\"successfully recovered from write-ahead-log\",\"path\":\"/notebooks/rag_advanced/weaviate_storage/riigikogu_meta_index/LKP5PZ6R90pi/lsm/property_relationships_searchable/segment-1704117757893362980.wal\",\"shard\":\"LKP5PZ6R90pi\",\"time\":\"2024-01-01T14:34:31Z\"}\n",
      "{\"action\":\"lsm_recover_from_active_wal\",\"class\":\"Riigikogu_meta_index\",\"index\":\"riigikogu_meta_index\",\"level\":\"warning\",\"msg\":\"active write-ahead-log found. Did weaviate crash prior to this? Trying to recover...\",\"path\":\"/notebooks/rag_advanced/weaviate_storage/riigikogu_meta_index/LKP5PZ6R90pi/lsm/property_topic_red_outliers_searchable/segment-1704117757909032817.wal\",\"shard\":\"LKP5PZ6R90pi\",\"time\":\"2024-01-01T14:34:31Z\"}\n",
      "{\"action\":\"lsm_recover_from_active_wal_success\",\"class\":\"Riigikogu_meta_index\",\"index\":\"riigikogu_meta_index\",\"level\":\"info\",\"msg\":\"successfully recovered from write-ahead-log\",\"path\":\"/notebooks/rag_advanced/weaviate_storage/riigikogu_meta_index/LKP5PZ6R90pi/lsm/property_node_info/segment-1704117757886680683.wal\",\"shard\":\"LKP5PZ6R90pi\",\"time\":\"2024-01-01T14:34:31Z\"}\n",
      "{\"action\":\"lsm_recover_from_active_wal\",\"class\":\"Riigikogu_meta_index\",\"index\":\"riigikogu_meta_index\",\"level\":\"warning\",\"msg\":\"active write-ahead-log found. Did weaviate crash prior to this? Trying to recover...\",\"path\":\"/notebooks/rag_advanced/weaviate_storage/riigikogu_meta_index/LKP5PZ6R90pi/lsm/property_ref_doc_id_searchable/segment-1704117757933230069.wal\",\"shard\":\"LKP5PZ6R90pi\",\"time\":\"2024-01-01T14:34:31Z\"}\n",
      "{\"action\":\"lsm_recover_from_active_wal_success\",\"class\":\"Riigikogu_meta_index\",\"index\":\"riigikogu_meta_index\",\"level\":\"info\",\"msg\":\"successfully recovered from write-ahead-log\",\"path\":\"/notebooks/rag_advanced/weaviate_storage/riigikogu_meta_index/LKP5PZ6R90pi/lsm/property_ref_doc_id_searchable/segment-1704117757933230069.wal\",\"shard\":\"LKP5PZ6R90pi\",\"time\":\"2024-01-01T14:34:31Z\"}\n",
      "{\"action\":\"lsm_recover_from_active_wal\",\"class\":\"Riigikogu_meta_index\",\"index\":\"riigikogu_meta_index\",\"level\":\"warning\",\"msg\":\"active write-ahead-log found. Did weaviate crash prior to this? Trying to recover...\",\"path\":\"/notebooks/rag_advanced/weaviate_storage/riigikogu_meta_index/LKP5PZ6R90pi/lsm/property_time/segment-1704117757887070366.wal\",\"shard\":\"LKP5PZ6R90pi\",\"time\":\"2024-01-01T14:34:31Z\"}\n",
      "{\"action\":\"lsm_recover_from_active_wal_success\",\"class\":\"Riigikogu_meta_index\",\"index\":\"riigikogu_meta_index\",\"level\":\"info\",\"msg\":\"successfully recovered from write-ahead-log\",\"path\":\"/notebooks/rag_advanced/weaviate_storage/riigikogu_meta_index/LKP5PZ6R90pi/lsm/property_topic_red_outliers_searchable/segment-1704117757909032817.wal\",\"shard\":\"LKP5PZ6R90pi\",\"time\":\"2024-01-01T14:34:31Z\"}\n",
      "{\"action\":\"lsm_recover_from_active_wal_success\",\"class\":\"Riigikogu_meta_index\",\"index\":\"riigikogu_meta_index\",\"level\":\"info\",\"msg\":\"successfully recovered from write-ahead-log\",\"path\":\"/notebooks/rag_advanced/weaviate_storage/riigikogu_meta_index/LKP5PZ6R90pi/lsm/property_time/segment-1704117757887070366.wal\",\"shard\":\"LKP5PZ6R90pi\",\"time\":\"2024-01-01T14:34:31Z\"}\n",
      "{\"action\":\"lsm_recover_from_active_wal\",\"class\":\"Riigikogu_meta_index\",\"index\":\"riigikogu_meta_index\",\"level\":\"warning\",\"msg\":\"active write-ahead-log found. Did weaviate crash prior to this? Trying to recover...\",\"path\":\"/notebooks/rag_advanced/weaviate_storage/riigikogu_meta_index/LKP5PZ6R90pi/lsm/property_doc_id_searchable/segment-1704117757895802039.wal\",\"shard\":\"LKP5PZ6R90pi\",\"time\":\"2024-01-01T14:34:31Z\"}\n",
      "{\"action\":\"lsm_recover_from_active_wal_success\",\"class\":\"Riigikogu_meta_index\",\"index\":\"riigikogu_meta_index\",\"level\":\"info\",\"msg\":\"successfully recovered from write-ahead-log\",\"path\":\"/notebooks/rag_advanced/weaviate_storage/riigikogu_meta_index/LKP5PZ6R90pi/lsm/property_document_id/segment-1704117757894828388.wal\",\"shard\":\"LKP5PZ6R90pi\",\"time\":\"2024-01-01T14:34:31Z\"}\n",
      "{\"action\":\"lsm_recover_from_active_wal\",\"class\":\"Riigikogu_meta_index\",\"index\":\"riigikogu_meta_index\",\"level\":\"warning\",\"msg\":\"active write-ahead-log found. Did weaviate crash prior to this? Trying to recover...\",\"path\":\"/notebooks/rag_advanced/weaviate_storage/riigikogu_meta_index/LKP5PZ6R90pi/lsm/property_text/segment-1704117757893432822.wal\",\"shard\":\"LKP5PZ6R90pi\",\"time\":\"2024-01-01T14:34:31Z\"}\n",
      "{\"action\":\"lsm_recover_from_active_wal\",\"class\":\"Riigikogu_meta_index\",\"index\":\"riigikogu_meta_index\",\"level\":\"warning\",\"msg\":\"active write-ahead-log found. Did weaviate crash prior to this? Trying to recover...\",\"path\":\"/notebooks/rag_advanced/weaviate_storage/riigikogu_meta_index/LKP5PZ6R90pi/lsm/property_index_pk/segment-1704117757896099138.wal\",\"shard\":\"LKP5PZ6R90pi\",\"time\":\"2024-01-01T14:34:31Z\"}\n",
      "{\"action\":\"lsm_recover_from_active_wal_success\",\"class\":\"Riigikogu_meta_index\",\"index\":\"riigikogu_meta_index\",\"level\":\"info\",\"msg\":\"successfully recovered from write-ahead-log\",\"path\":\"/notebooks/rag_advanced/weaviate_storage/riigikogu_meta_index/LKP5PZ6R90pi/lsm/property_text/segment-1704117757893432822.wal\",\"shard\":\"LKP5PZ6R90pi\",\"time\":\"2024-01-01T14:34:31Z\"}\n",
      "{\"action\":\"lsm_recover_from_active_wal_success\",\"class\":\"Riigikogu_meta_index\",\"index\":\"riigikogu_meta_index\",\"level\":\"info\",\"msg\":\"successfully recovered from write-ahead-log\",\"path\":\"/notebooks/rag_advanced/weaviate_storage/riigikogu_meta_index/LKP5PZ6R90pi/lsm/property_doc_id_searchable/segment-1704117757895802039.wal\",\"shard\":\"LKP5PZ6R90pi\",\"time\":\"2024-01-01T14:34:31Z\"}\n",
      "{\"action\":\"lsm_recover_from_active_wal_success\",\"class\":\"Riigikogu_meta_index\",\"index\":\"riigikogu_meta_index\",\"level\":\"info\",\"msg\":\"successfully recovered from write-ahead-log\",\"path\":\"/notebooks/rag_advanced/weaviate_storage/riigikogu_meta_index/LKP5PZ6R90pi/lsm/property_index_pk/segment-1704117757896099138.wal\",\"shard\":\"LKP5PZ6R90pi\",\"time\":\"2024-01-01T14:34:31Z\"}\n",
      "{\"action\":\"lsm_recover_from_active_wal_success\",\"class\":\"Riigikogu_meta_index\",\"index\":\"riigikogu_meta_index\",\"level\":\"info\",\"msg\":\"successfully recovered from write-ahead-log\",\"path\":\"/notebooks/rag_advanced/weaviate_storage/riigikogu_meta_index/LKP5PZ6R90pi/lsm/property__id/segment-1704117757892791034.wal\",\"shard\":\"LKP5PZ6R90pi\",\"time\":\"2024-01-01T14:34:31Z\"}\n",
      "{\"action\":\"lsm_recover_from_active_wal\",\"class\":\"Riigikogu_meta_index\",\"index\":\"riigikogu_meta_index\",\"level\":\"warning\",\"msg\":\"active write-ahead-log found. Did weaviate crash prior to this? Trying to recover...\",\"path\":\"/notebooks/rag_advanced/weaviate_storage/riigikogu_meta_index/LKP5PZ6R90pi/lsm/property_speaker_searchable/segment-1704117757891721583.wal\",\"shard\":\"LKP5PZ6R90pi\",\"time\":\"2024-01-01T14:34:31Z\"}\n",
      "{\"action\":\"lsm_recover_from_active_wal_success\",\"class\":\"Riigikogu_meta_index\",\"index\":\"riigikogu_meta_index\",\"level\":\"info\",\"msg\":\"successfully recovered from write-ahead-log\",\"path\":\"/notebooks/rag_advanced/weaviate_storage/riigikogu_meta_index/LKP5PZ6R90pi/lsm/property_speaker_searchable/segment-1704117757891721583.wal\",\"shard\":\"LKP5PZ6R90pi\",\"time\":\"2024-01-01T14:34:31Z\"}\n",
      "{\"action\":\"lsm_recover_from_active_wal_success\",\"class\":\"Riigikogu_meta_index\",\"index\":\"riigikogu_meta_index\",\"level\":\"info\",\"msg\":\"successfully recovered from write-ahead-log\",\"path\":\"/notebooks/rag_advanced/weaviate_storage/riigikogu_meta_index/LKP5PZ6R90pi/lsm/property_faction/segment-1704117757897595179.wal\",\"shard\":\"LKP5PZ6R90pi\",\"time\":\"2024-01-01T14:34:31Z\"}\n",
      "{\"action\":\"lsm_recover_from_active_wal_success\",\"class\":\"Riigikogu_meta_index\",\"index\":\"riigikogu_meta_index\",\"level\":\"info\",\"msg\":\"successfully recovered from write-ahead-log\",\"path\":\"/notebooks/rag_advanced/weaviate_storage/riigikogu_meta_index/LKP5PZ6R90pi/lsm/property_month/segment-1704117757896217101.wal\",\"shard\":\"LKP5PZ6R90pi\",\"time\":\"2024-01-01T14:34:31Z\"}\n",
      "{\"action\":\"lsm_recover_from_active_wal\",\"class\":\"Riigikogu_meta_index\",\"index\":\"riigikogu_meta_index\",\"level\":\"warning\",\"msg\":\"active write-ahead-log found. Did weaviate crash prior to this? Trying to recover...\",\"path\":\"/notebooks/rag_advanced/weaviate_storage/riigikogu_meta_index/LKP5PZ6R90pi/lsm/property_index_snd/segment-1704117757904655388.wal\",\"shard\":\"LKP5PZ6R90pi\",\"time\":\"2024-01-01T14:34:31Z\"}\n",
      "{\"action\":\"lsm_recover_from_active_wal_success\",\"class\":\"Riigikogu_meta_index\",\"index\":\"riigikogu_meta_index\",\"level\":\"info\",\"msg\":\"successfully recovered from write-ahead-log\",\"path\":\"/notebooks/rag_advanced/weaviate_storage/riigikogu_meta_index/LKP5PZ6R90pi/lsm/property_index_snd/segment-1704117757904655388.wal\",\"shard\":\"LKP5PZ6R90pi\",\"time\":\"2024-01-01T14:34:31Z\"}\n",
      "{\"action\":\"lsm_recover_from_active_wal\",\"class\":\"Riigikogu_meta_index\",\"index\":\"riigikogu_meta_index\",\"level\":\"warning\",\"msg\":\"active write-ahead-log found. Did weaviate crash prior to this? Trying to recover...\",\"path\":\"/notebooks/rag_advanced/weaviate_storage/riigikogu_meta_index/LKP5PZ6R90pi/lsm/property_heading_searchable/segment-1704117757908182989.wal\",\"shard\":\"LKP5PZ6R90pi\",\"time\":\"2024-01-01T14:34:31Z\"}\n",
      "{\"action\":\"lsm_recover_from_active_wal_success\",\"class\":\"Riigikogu_meta_index\",\"index\":\"riigikogu_meta_index\",\"level\":\"info\",\"msg\":\"successfully recovered from write-ahead-log\",\"path\":\"/notebooks/rag_advanced/weaviate_storage/riigikogu_meta_index/LKP5PZ6R90pi/lsm/property_heading_searchable/segment-1704117757908182989.wal\",\"shard\":\"LKP5PZ6R90pi\",\"time\":\"2024-01-01T14:34:31Z\"}\n",
      "{\"action\":\"lsm_recover_from_active_wal\",\"class\":\"Riigikogu_meta_index\",\"index\":\"riigikogu_meta_index\",\"level\":\"warning\",\"msg\":\"active write-ahead-log found. Did weaviate crash prior to this? Trying to recover...\",\"path\":\"/notebooks/rag_advanced/weaviate_storage/riigikogu_meta_index/LKP5PZ6R90pi/lsm/property__node_type_searchable/segment-1704117757891486983.wal\",\"shard\":\"LKP5PZ6R90pi\",\"time\":\"2024-01-01T14:34:31Z\"}\n",
      "{\"action\":\"lsm_recover_from_active_wal_success\",\"class\":\"Riigikogu_meta_index\",\"index\":\"riigikogu_meta_index\",\"level\":\"info\",\"msg\":\"successfully recovered from write-ahead-log\",\"path\":\"/notebooks/rag_advanced/weaviate_storage/riigikogu_meta_index/LKP5PZ6R90pi/lsm/property__node_type_searchable/segment-1704117757891486983.wal\",\"shard\":\"LKP5PZ6R90pi\",\"time\":\"2024-01-01T14:34:31Z\"}\n",
      "{\"action\":\"lsm_recover_from_active_wal\",\"class\":\"Riigikogu_meta_index\",\"index\":\"riigikogu_meta_index\",\"level\":\"warning\",\"msg\":\"active write-ahead-log found. Did weaviate crash prior to this? Trying to recover...\",\"path\":\"/notebooks/rag_advanced/weaviate_storage/riigikogu_meta_index/LKP5PZ6R90pi/lsm/property_topic_searchable/segment-1704117757896838412.wal\",\"shard\":\"LKP5PZ6R90pi\",\"time\":\"2024-01-01T14:34:31Z\"}\n",
      "{\"action\":\"lsm_recover_from_active_wal_success\",\"class\":\"Riigikogu_meta_index\",\"index\":\"riigikogu_meta_index\",\"level\":\"info\",\"msg\":\"successfully recovered from write-ahead-log\",\"path\":\"/notebooks/rag_advanced/weaviate_storage/riigikogu_meta_index/LKP5PZ6R90pi/lsm/property_topic_searchable/segment-1704117757896838412.wal\",\"shard\":\"LKP5PZ6R90pi\",\"time\":\"2024-01-01T14:34:31Z\"}\n",
      "{\"action\":\"lsm_recover_from_active_wal\",\"class\":\"Riigikogu_meta_index\",\"index\":\"riigikogu_meta_index\",\"level\":\"warning\",\"msg\":\"active write-ahead-log found. Did weaviate crash prior to this? Trying to recover...\",\"path\":\"/notebooks/rag_advanced/weaviate_storage/riigikogu_meta_index/LKP5PZ6R90pi/lsm/property_date_searchable/segment-1704117757911914166.wal\",\"shard\":\"LKP5PZ6R90pi\",\"time\":\"2024-01-01T14:34:31Z\"}\n",
      "{\"action\":\"lsm_recover_from_active_wal\",\"class\":\"Riigikogu_meta_index\",\"index\":\"riigikogu_meta_index\",\"level\":\"warning\",\"msg\":\"active write-ahead-log found. Did weaviate crash prior to this? Trying to recover...\",\"path\":\"/notebooks/rag_advanced/weaviate_storage/riigikogu_meta_index/LKP5PZ6R90pi/lsm/property_koosseis_searchable/segment-1704117757910463194.wal\",\"shard\":\"LKP5PZ6R90pi\",\"time\":\"2024-01-01T14:34:31Z\"}\n",
      "{\"action\":\"lsm_recover_from_active_wal_success\",\"class\":\"Riigikogu_meta_index\",\"index\":\"riigikogu_meta_index\",\"level\":\"info\",\"msg\":\"successfully recovered from write-ahead-log\",\"path\":\"/notebooks/rag_advanced/weaviate_storage/riigikogu_meta_index/LKP5PZ6R90pi/lsm/property_date_searchable/segment-1704117757911914166.wal\",\"shard\":\"LKP5PZ6R90pi\",\"time\":\"2024-01-01T14:34:31Z\"}\n",
      "{\"action\":\"lsm_recover_from_active_wal_success\",\"class\":\"Riigikogu_meta_index\",\"index\":\"riigikogu_meta_index\",\"level\":\"info\",\"msg\":\"successfully recovered from write-ahead-log\",\"path\":\"/notebooks/rag_advanced/weaviate_storage/riigikogu_meta_index/LKP5PZ6R90pi/lsm/property_koosseis_searchable/segment-1704117757910463194.wal\",\"shard\":\"LKP5PZ6R90pi\",\"time\":\"2024-01-01T14:34:31Z\"}\n",
      "{\"action\":\"lsm_recover_from_active_wal\",\"class\":\"Riigikogu_meta_index\",\"index\":\"riigikogu_meta_index\",\"level\":\"warning\",\"msg\":\"active write-ahead-log found. Did weaviate crash prior to this? Trying to recover...\",\"path\":\"/notebooks/rag_advanced/weaviate_storage/riigikogu_meta_index/LKP5PZ6R90pi/lsm/property_time_searchable/segment-1704117757891411827.wal\",\"shard\":\"LKP5PZ6R90pi\",\"time\":\"2024-01-01T14:34:31Z\"}\n",
      "{\"action\":\"lsm_recover_from_active_wal_success\",\"class\":\"Riigikogu_meta_index\",\"index\":\"riigikogu_meta_index\",\"level\":\"info\",\"msg\":\"successfully recovered from write-ahead-log\",\"path\":\"/notebooks/rag_advanced/weaviate_storage/riigikogu_meta_index/LKP5PZ6R90pi/lsm/property_time_searchable/segment-1704117757891411827.wal\",\"shard\":\"LKP5PZ6R90pi\",\"time\":\"2024-01-01T14:34:31Z\"}\n",
      "{\"action\":\"lsm_recover_from_active_wal\",\"class\":\"Riigikogu_meta_index\",\"index\":\"riigikogu_meta_index\",\"level\":\"warning\",\"msg\":\"active write-ahead-log found. Did weaviate crash prior to this? Trying to recover...\",\"path\":\"/notebooks/rag_advanced/weaviate_storage/riigikogu_meta_index/LKP5PZ6R90pi/lsm/property_node_info_searchable/segment-1704117757890345521.wal\",\"shard\":\"LKP5PZ6R90pi\",\"time\":\"2024-01-01T14:34:31Z\"}\n",
      "{\"action\":\"lsm_recover_from_active_wal_success\",\"class\":\"Riigikogu_meta_index\",\"index\":\"riigikogu_meta_index\",\"level\":\"info\",\"msg\":\"successfully recovered from write-ahead-log\",\"path\":\"/notebooks/rag_advanced/weaviate_storage/riigikogu_meta_index/LKP5PZ6R90pi/lsm/property_node_info_searchable/segment-1704117757890345521.wal\",\"shard\":\"LKP5PZ6R90pi\",\"time\":\"2024-01-01T14:34:31Z\"}\n",
      "{\"action\":\"lsm_recover_from_active_wal\",\"class\":\"Riigikogu_meta_index\",\"index\":\"riigikogu_meta_index\",\"level\":\"warning\",\"msg\":\"active write-ahead-log found. Did weaviate crash prior to this? Trying to recover...\",\"path\":\"/notebooks/rag_advanced/weaviate_storage/riigikogu_meta_index/LKP5PZ6R90pi/lsm/property_document_id_searchable/segment-1704117757911288408.wal\",\"shard\":\"LKP5PZ6R90pi\",\"time\":\"2024-01-01T14:34:31Z\"}\n",
      "{\"action\":\"lsm_recover_from_active_wal_success\",\"class\":\"Riigikogu_meta_index\",\"index\":\"riigikogu_meta_index\",\"level\":\"info\",\"msg\":\"successfully recovered from write-ahead-log\",\"path\":\"/notebooks/rag_advanced/weaviate_storage/riigikogu_meta_index/LKP5PZ6R90pi/lsm/property_document_id_searchable/segment-1704117757911288408.wal\",\"shard\":\"LKP5PZ6R90pi\",\"time\":\"2024-01-01T14:34:31Z\"}\n",
      "{\"action\":\"lsm_recover_from_active_wal\",\"class\":\"Riigikogu_meta_index\",\"index\":\"riigikogu_meta_index\",\"level\":\"warning\",\"msg\":\"active write-ahead-log found. Did weaviate crash prior to this? Trying to recover...\",\"path\":\"/notebooks/rag_advanced/weaviate_storage/riigikogu_meta_index/LKP5PZ6R90pi/lsm/property_index_pk_searchable/segment-1704117757908323141.wal\",\"shard\":\"LKP5PZ6R90pi\",\"time\":\"2024-01-01T14:34:31Z\"}\n",
      "{\"action\":\"lsm_recover_from_active_wal_success\",\"class\":\"Riigikogu_meta_index\",\"index\":\"riigikogu_meta_index\",\"level\":\"info\",\"msg\":\"successfully recovered from write-ahead-log\",\"path\":\"/notebooks/rag_advanced/weaviate_storage/riigikogu_meta_index/LKP5PZ6R90pi/lsm/property_index_pk_searchable/segment-1704117757908323141.wal\",\"shard\":\"LKP5PZ6R90pi\",\"time\":\"2024-01-01T14:34:31Z\"}\n",
      "{\"action\":\"lsm_recover_from_active_wal\",\"class\":\"Riigikogu_meta_index\",\"index\":\"riigikogu_meta_index\",\"level\":\"warning\",\"msg\":\"active write-ahead-log found. Did weaviate crash prior to this? Trying to recover...\",\"path\":\"/notebooks/rag_advanced/weaviate_storage/riigikogu_meta_index/LKP5PZ6R90pi/lsm/property_faction_searchable/segment-1704117757930776444.wal\",\"shard\":\"LKP5PZ6R90pi\",\"time\":\"2024-01-01T14:34:31Z\"}\n",
      "{\"action\":\"lsm_recover_from_active_wal_success\",\"class\":\"Riigikogu_meta_index\",\"index\":\"riigikogu_meta_index\",\"level\":\"info\",\"msg\":\"successfully recovered from write-ahead-log\",\"path\":\"/notebooks/rag_advanced/weaviate_storage/riigikogu_meta_index/LKP5PZ6R90pi/lsm/property_faction_searchable/segment-1704117757930776444.wal\",\"shard\":\"LKP5PZ6R90pi\",\"time\":\"2024-01-01T14:34:31Z\"}\n",
      "{\"action\":\"lsm_recover_from_active_wal\",\"class\":\"Riigikogu_meta_index\",\"index\":\"riigikogu_meta_index\",\"level\":\"warning\",\"msg\":\"active write-ahead-log found. Did weaviate crash prior to this? Trying to recover...\",\"path\":\"/notebooks/rag_advanced/weaviate_storage/riigikogu_meta_index/LKP5PZ6R90pi/lsm/property_index_snd_searchable/segment-1704117757933416265.wal\",\"shard\":\"LKP5PZ6R90pi\",\"time\":\"2024-01-01T14:34:31Z\"}\n",
      "{\"action\":\"lsm_recover_from_active_wal_success\",\"class\":\"Riigikogu_meta_index\",\"index\":\"riigikogu_meta_index\",\"level\":\"info\",\"msg\":\"successfully recovered from write-ahead-log\",\"path\":\"/notebooks/rag_advanced/weaviate_storage/riigikogu_meta_index/LKP5PZ6R90pi/lsm/property_index_snd_searchable/segment-1704117757933416265.wal\",\"shard\":\"LKP5PZ6R90pi\",\"time\":\"2024-01-01T14:34:31Z\"}\n",
      "{\"action\":\"lsm_recover_from_active_wal\",\"class\":\"Riigikogu_meta_index\",\"index\":\"riigikogu_meta_index\",\"level\":\"warning\",\"msg\":\"active write-ahead-log found. Did weaviate crash prior to this? Trying to recover...\",\"path\":\"/notebooks/rag_advanced/weaviate_storage/riigikogu_meta_index/LKP5PZ6R90pi/lsm/property__node_content/segment-1704117757926557585.wal\",\"shard\":\"LKP5PZ6R90pi\",\"time\":\"2024-01-01T14:34:31Z\"}\n",
      "{\"action\":\"lsm_recover_from_active_wal\",\"class\":\"Riigikogu_meta_index\",\"index\":\"riigikogu_meta_index\",\"level\":\"warning\",\"msg\":\"active write-ahead-log found. Did weaviate crash prior to this? Trying to recover...\",\"path\":\"/notebooks/rag_advanced/weaviate_storage/riigikogu_meta_index/LKP5PZ6R90pi/lsm/property_text_searchable/segment-1704117757910518952.wal\",\"shard\":\"LKP5PZ6R90pi\",\"time\":\"2024-01-01T14:34:31Z\"}\n",
      "{\"action\":\"lsm_recover_from_active_wal_success\",\"class\":\"Riigikogu_meta_index\",\"index\":\"riigikogu_meta_index\",\"level\":\"info\",\"msg\":\"successfully recovered from write-ahead-log\",\"path\":\"/notebooks/rag_advanced/weaviate_storage/riigikogu_meta_index/LKP5PZ6R90pi/lsm/property__node_content/segment-1704117757926557585.wal\",\"shard\":\"LKP5PZ6R90pi\",\"time\":\"2024-01-01T14:34:31Z\"}\n",
      "{\"action\":\"lsm_recover_from_active_wal_success\",\"class\":\"Riigikogu_meta_index\",\"index\":\"riigikogu_meta_index\",\"level\":\"info\",\"msg\":\"successfully recovered from write-ahead-log\",\"path\":\"/notebooks/rag_advanced/weaviate_storage/riigikogu_meta_index/LKP5PZ6R90pi/lsm/property_text_searchable/segment-1704117757910518952.wal\",\"shard\":\"LKP5PZ6R90pi\",\"time\":\"2024-01-01T14:34:31Z\"}\n",
      "{\"action\":\"lsm_recover_from_active_wal\",\"class\":\"Riigikogu_meta_index\",\"index\":\"riigikogu_meta_index\",\"level\":\"warning\",\"msg\":\"active write-ahead-log found. Did weaviate crash prior to this? Trying to recover...\",\"path\":\"/notebooks/rag_advanced/weaviate_storage/riigikogu_meta_index/LKP5PZ6R90pi/lsm/property__node_content_searchable/segment-1704117757955950670.wal\",\"shard\":\"LKP5PZ6R90pi\",\"time\":\"2024-01-01T14:34:31Z\"}\n",
      "{\"action\":\"lsm_recover_from_active_wal_success\",\"class\":\"Riigikogu_meta_index\",\"index\":\"riigikogu_meta_index\",\"level\":\"info\",\"msg\":\"successfully recovered from write-ahead-log\",\"path\":\"/notebooks/rag_advanced/weaviate_storage/riigikogu_meta_index/LKP5PZ6R90pi/lsm/property__node_content_searchable/segment-1704117757955950670.wal\",\"shard\":\"LKP5PZ6R90pi\",\"time\":\"2024-01-01T14:34:31Z\"}\n",
      "{\"level\":\"info\",\"msg\":\"Completed loading shard riigikogu_meta_index_LKP5PZ6R90pi in 1.29051892s\",\"time\":\"2024-01-01T14:34:32Z\"}\n"
     ]
    }
   ],
   "source": [
    "client = weaviate.Client(\n",
    "    embedded_options=EmbeddedOptions(persistence_data_path = '/notebooks/rag_advanced/weaviate_storage/',\n",
    "                                     binary_path= '/notebooks/rag_advanced/weaviate_storage/'),\n",
    "    # additional_headers={\n",
    "    #     \"X-OpenAI-Api-BaseURL\": os.environ['OPENAI_API_BASE'],\n",
    "    #     \"X-OpenAI-Api-Key\": openai.api_key,  # Replace this with your actual key\n",
    "    # }\n",
    ")\n",
    "print(f\"Client created? {client.is_ready()}\")"
   ]
  },
  {
   "cell_type": "code",
   "execution_count": 10,
   "id": "f9499d3e-9271-4e5b-a170-26b7891beb1d",
   "metadata": {
    "pycharm": {
     "name": "#%%\n"
    }
   },
   "outputs": [
    {
     "name": "stderr",
     "output_type": "stream",
     "text": [
      "{\"action\":\"lsm_recover_from_active_wal\",\"class\":\"Riigikogu_meta_index\",\"index\":\"riigikogu_meta_index\",\"level\":\"warning\",\"msg\":\"active write-ahead-log found. Did weaviate crash prior to this? Trying to recover...\",\"path\":\"/notebooks/rag_advanced/weaviate_storage/riigikogu_meta_index/LKP5PZ6R90pi/lsm/objects/segment-1704117588802083481.wal\",\"shard\":\"LKP5PZ6R90pi\",\"time\":\"2024-01-01T14:02:37Z\"}\n",
      "{\"action\":\"lsm_recover_from_active_wal_success\",\"class\":\"Riigikogu_meta_index\",\"index\":\"riigikogu_meta_index\",\"level\":\"info\",\"msg\":\"successfully recovered from write-ahead-log\",\"path\":\"/notebooks/rag_advanced/weaviate_storage/riigikogu_meta_index/LKP5PZ6R90pi/lsm/objects/segment-1704117588802083481.wal\",\"shard\":\"LKP5PZ6R90pi\",\"time\":\"2024-01-01T14:02:37Z\"}\n",
      "{\"action\":\"lsm_recover_from_active_wal\",\"class\":\"Riigikogu_meta_index\",\"index\":\"riigikogu_meta_index\",\"level\":\"warning\",\"msg\":\"active write-ahead-log found. Did weaviate crash prior to this? Trying to recover...\",\"path\":\"/notebooks/rag_advanced/weaviate_storage/riigikogu_meta_index/LKP5PZ6R90pi/lsm/property_node_info/segment-1704117588810301415.wal\",\"shard\":\"LKP5PZ6R90pi\",\"time\":\"2024-01-01T14:02:37Z\"}\n",
      "{\"action\":\"lsm_recover_from_active_wal\",\"class\":\"Riigikogu_meta_index\",\"index\":\"riigikogu_meta_index\",\"level\":\"warning\",\"msg\":\"active write-ahead-log found. Did weaviate crash prior to this? Trying to recover...\",\"path\":\"/notebooks/rag_advanced/weaviate_storage/riigikogu_meta_index/LKP5PZ6R90pi/lsm/property_day/segment-1704117588810991623.wal\",\"shard\":\"LKP5PZ6R90pi\",\"time\":\"2024-01-01T14:02:37Z\"}\n",
      "{\"action\":\"lsm_recover_from_active_wal_success\",\"class\":\"Riigikogu_meta_index\",\"index\":\"riigikogu_meta_index\",\"level\":\"info\",\"msg\":\"successfully recovered from write-ahead-log\",\"path\":\"/notebooks/rag_advanced/weaviate_storage/riigikogu_meta_index/LKP5PZ6R90pi/lsm/property_node_info/segment-1704117588810301415.wal\",\"shard\":\"LKP5PZ6R90pi\",\"time\":\"2024-01-01T14:02:37Z\"}\n",
      "{\"action\":\"lsm_recover_from_active_wal\",\"class\":\"Riigikogu_meta_index\",\"index\":\"riigikogu_meta_index\",\"level\":\"warning\",\"msg\":\"active write-ahead-log found. Did weaviate crash prior to this? Trying to recover...\",\"path\":\"/notebooks/rag_advanced/weaviate_storage/riigikogu_meta_index/LKP5PZ6R90pi/lsm/property_time/segment-1704117588811617032.wal\",\"shard\":\"LKP5PZ6R90pi\",\"time\":\"2024-01-01T14:02:37Z\"}\n",
      "{\"action\":\"lsm_recover_from_active_wal\",\"class\":\"Riigikogu_meta_index\",\"index\":\"riigikogu_meta_index\",\"level\":\"warning\",\"msg\":\"active write-ahead-log found. Did weaviate crash prior to this? Trying to recover...\",\"path\":\"/notebooks/rag_advanced/weaviate_storage/riigikogu_meta_index/LKP5PZ6R90pi/lsm/property__node_type/segment-1704117588811628568.wal\",\"shard\":\"LKP5PZ6R90pi\",\"time\":\"2024-01-01T14:02:37Z\"}\n",
      "{\"action\":\"lsm_recover_from_active_wal_success\",\"class\":\"Riigikogu_meta_index\",\"index\":\"riigikogu_meta_index\",\"level\":\"info\",\"msg\":\"successfully recovered from write-ahead-log\",\"path\":\"/notebooks/rag_advanced/weaviate_storage/riigikogu_meta_index/LKP5PZ6R90pi/lsm/property_time/segment-1704117588811617032.wal\",\"shard\":\"LKP5PZ6R90pi\",\"time\":\"2024-01-01T14:02:37Z\"}\n",
      "{\"action\":\"lsm_recover_from_active_wal_success\",\"class\":\"Riigikogu_meta_index\",\"index\":\"riigikogu_meta_index\",\"level\":\"info\",\"msg\":\"successfully recovered from write-ahead-log\",\"path\":\"/notebooks/rag_advanced/weaviate_storage/riigikogu_meta_index/LKP5PZ6R90pi/lsm/property__node_type/segment-1704117588811628568.wal\",\"shard\":\"LKP5PZ6R90pi\",\"time\":\"2024-01-01T14:02:37Z\"}\n",
      "{\"action\":\"lsm_recover_from_active_wal\",\"class\":\"Riigikogu_meta_index\",\"index\":\"riigikogu_meta_index\",\"level\":\"warning\",\"msg\":\"active write-ahead-log found. Did weaviate crash prior to this? Trying to recover...\",\"path\":\"/notebooks/rag_advanced/weaviate_storage/riigikogu_meta_index/LKP5PZ6R90pi/lsm/property_speaker/segment-1704117588822762231.wal\",\"shard\":\"LKP5PZ6R90pi\",\"time\":\"2024-01-01T14:02:37Z\"}\n",
      "{\"action\":\"lsm_recover_from_active_wal_success\",\"class\":\"Riigikogu_meta_index\",\"index\":\"riigikogu_meta_index\",\"level\":\"info\",\"msg\":\"successfully recovered from write-ahead-log\",\"path\":\"/notebooks/rag_advanced/weaviate_storage/riigikogu_meta_index/LKP5PZ6R90pi/lsm/property_speaker/segment-1704117588822762231.wal\",\"shard\":\"LKP5PZ6R90pi\",\"time\":\"2024-01-01T14:02:37Z\"}\n",
      "{\"action\":\"lsm_recover_from_active_wal\",\"class\":\"Riigikogu_meta_index\",\"index\":\"riigikogu_meta_index\",\"level\":\"warning\",\"msg\":\"active write-ahead-log found. Did weaviate crash prior to this? Trying to recover...\",\"path\":\"/notebooks/rag_advanced/weaviate_storage/riigikogu_meta_index/LKP5PZ6R90pi/lsm/property_relationships/segment-1704117588822132209.wal\",\"shard\":\"LKP5PZ6R90pi\",\"time\":\"2024-01-01T14:02:37Z\"}\n",
      "{\"action\":\"lsm_recover_from_active_wal_success\",\"class\":\"Riigikogu_meta_index\",\"index\":\"riigikogu_meta_index\",\"level\":\"info\",\"msg\":\"successfully recovered from write-ahead-log\",\"path\":\"/notebooks/rag_advanced/weaviate_storage/riigikogu_meta_index/LKP5PZ6R90pi/lsm/property_relationships/segment-1704117588822132209.wal\",\"shard\":\"LKP5PZ6R90pi\",\"time\":\"2024-01-01T14:02:37Z\"}\n",
      "{\"action\":\"lsm_recover_from_active_wal\",\"class\":\"Riigikogu_meta_index\",\"index\":\"riigikogu_meta_index\",\"level\":\"warning\",\"msg\":\"active write-ahead-log found. Did weaviate crash prior to this? Trying to recover...\",\"path\":\"/notebooks/rag_advanced/weaviate_storage/riigikogu_meta_index/LKP5PZ6R90pi/lsm/property_doc_id/segment-1704117588817126494.wal\",\"shard\":\"LKP5PZ6R90pi\",\"time\":\"2024-01-01T14:02:37Z\"}\n",
      "{\"action\":\"lsm_recover_from_active_wal\",\"class\":\"Riigikogu_meta_index\",\"index\":\"riigikogu_meta_index\",\"level\":\"warning\",\"msg\":\"active write-ahead-log found. Did weaviate crash prior to this? Trying to recover...\",\"path\":\"/notebooks/rag_advanced/weaviate_storage/riigikogu_meta_index/LKP5PZ6R90pi/lsm/property_node_info_searchable/segment-1704117588815656859.wal\",\"shard\":\"LKP5PZ6R90pi\",\"time\":\"2024-01-01T14:02:37Z\"}\n",
      "{\"action\":\"lsm_recover_from_active_wal_success\",\"class\":\"Riigikogu_meta_index\",\"index\":\"riigikogu_meta_index\",\"level\":\"info\",\"msg\":\"successfully recovered from write-ahead-log\",\"path\":\"/notebooks/rag_advanced/weaviate_storage/riigikogu_meta_index/LKP5PZ6R90pi/lsm/property_doc_id/segment-1704117588817126494.wal\",\"shard\":\"LKP5PZ6R90pi\",\"time\":\"2024-01-01T14:02:37Z\"}\n",
      "{\"action\":\"lsm_recover_from_active_wal_success\",\"class\":\"Riigikogu_meta_index\",\"index\":\"riigikogu_meta_index\",\"level\":\"info\",\"msg\":\"successfully recovered from write-ahead-log\",\"path\":\"/notebooks/rag_advanced/weaviate_storage/riigikogu_meta_index/LKP5PZ6R90pi/lsm/property_node_info_searchable/segment-1704117588815656859.wal\",\"shard\":\"LKP5PZ6R90pi\",\"time\":\"2024-01-01T14:02:37Z\"}\n",
      "{\"action\":\"lsm_recover_from_active_wal\",\"class\":\"Riigikogu_meta_index\",\"index\":\"riigikogu_meta_index\",\"level\":\"warning\",\"msg\":\"active write-ahead-log found. Did weaviate crash prior to this? Trying to recover...\",\"path\":\"/notebooks/rag_advanced/weaviate_storage/riigikogu_meta_index/LKP5PZ6R90pi/lsm/property_topic/segment-1704117588811545471.wal\",\"shard\":\"LKP5PZ6R90pi\",\"time\":\"2024-01-01T14:02:37Z\"}\n",
      "{\"action\":\"lsm_recover_from_active_wal_success\",\"class\":\"Riigikogu_meta_index\",\"index\":\"riigikogu_meta_index\",\"level\":\"info\",\"msg\":\"successfully recovered from write-ahead-log\",\"path\":\"/notebooks/rag_advanced/weaviate_storage/riigikogu_meta_index/LKP5PZ6R90pi/lsm/property_topic/segment-1704117588811545471.wal\",\"shard\":\"LKP5PZ6R90pi\",\"time\":\"2024-01-01T14:02:37Z\"}\n",
      "{\"action\":\"lsm_recover_from_active_wal_success\",\"class\":\"Riigikogu_meta_index\",\"index\":\"riigikogu_meta_index\",\"level\":\"info\",\"msg\":\"successfully recovered from write-ahead-log\",\"path\":\"/notebooks/rag_advanced/weaviate_storage/riigikogu_meta_index/LKP5PZ6R90pi/lsm/property_day/segment-1704117588810991623.wal\",\"shard\":\"LKP5PZ6R90pi\",\"time\":\"2024-01-01T14:02:37Z\"}\n",
      "{\"action\":\"lsm_recover_from_active_wal\",\"class\":\"Riigikogu_meta_index\",\"index\":\"riigikogu_meta_index\",\"level\":\"warning\",\"msg\":\"active write-ahead-log found. Did weaviate crash prior to this? Trying to recover...\",\"path\":\"/notebooks/rag_advanced/weaviate_storage/riigikogu_meta_index/LKP5PZ6R90pi/lsm/property_time_searchable/segment-1704117588835869687.wal\",\"shard\":\"LKP5PZ6R90pi\",\"time\":\"2024-01-01T14:02:37Z\"}\n",
      "{\"action\":\"lsm_recover_from_active_wal_success\",\"class\":\"Riigikogu_meta_index\",\"index\":\"riigikogu_meta_index\",\"level\":\"info\",\"msg\":\"successfully recovered from write-ahead-log\",\"path\":\"/notebooks/rag_advanced/weaviate_storage/riigikogu_meta_index/LKP5PZ6R90pi/lsm/property_time_searchable/segment-1704117588835869687.wal\",\"shard\":\"LKP5PZ6R90pi\",\"time\":\"2024-01-01T14:02:37Z\"}\n",
      "{\"action\":\"lsm_recover_from_active_wal\",\"class\":\"Riigikogu_meta_index\",\"index\":\"riigikogu_meta_index\",\"level\":\"warning\",\"msg\":\"active write-ahead-log found. Did weaviate crash prior to this? Trying to recover...\",\"path\":\"/notebooks/rag_advanced/weaviate_storage/riigikogu_meta_index/LKP5PZ6R90pi/lsm/property__node_type_searchable/segment-1704117588817763813.wal\",\"shard\":\"LKP5PZ6R90pi\",\"time\":\"2024-01-01T14:02:37Z\"}\n",
      "{\"action\":\"lsm_recover_from_active_wal_success\",\"class\":\"Riigikogu_meta_index\",\"index\":\"riigikogu_meta_index\",\"level\":\"info\",\"msg\":\"successfully recovered from write-ahead-log\",\"path\":\"/notebooks/rag_advanced/weaviate_storage/riigikogu_meta_index/LKP5PZ6R90pi/lsm/property__node_type_searchable/segment-1704117588817763813.wal\",\"shard\":\"LKP5PZ6R90pi\",\"time\":\"2024-01-01T14:02:37Z\"}\n",
      "{\"action\":\"lsm_recover_from_active_wal\",\"class\":\"Riigikogu_meta_index\",\"index\":\"riigikogu_meta_index\",\"level\":\"warning\",\"msg\":\"active write-ahead-log found. Did weaviate crash prior to this? Trying to recover...\",\"path\":\"/notebooks/rag_advanced/weaviate_storage/riigikogu_meta_index/LKP5PZ6R90pi/lsm/property_speaker_searchable/segment-1704117588996081760.wal\",\"shard\":\"LKP5PZ6R90pi\",\"time\":\"2024-01-01T14:02:37Z\"}\n",
      "{\"action\":\"lsm_recover_from_active_wal_success\",\"class\":\"Riigikogu_meta_index\",\"index\":\"riigikogu_meta_index\",\"level\":\"info\",\"msg\":\"successfully recovered from write-ahead-log\",\"path\":\"/notebooks/rag_advanced/weaviate_storage/riigikogu_meta_index/LKP5PZ6R90pi/lsm/property_speaker_searchable/segment-1704117588996081760.wal\",\"shard\":\"LKP5PZ6R90pi\",\"time\":\"2024-01-01T14:02:37Z\"}\n",
      "{\"action\":\"lsm_recover_from_active_wal\",\"class\":\"Riigikogu_meta_index\",\"index\":\"riigikogu_meta_index\",\"level\":\"warning\",\"msg\":\"active write-ahead-log found. Did weaviate crash prior to this? Trying to recover...\",\"path\":\"/notebooks/rag_advanced/weaviate_storage/riigikogu_meta_index/LKP5PZ6R90pi/lsm/property__id/segment-1704117588819289766.wal\",\"shard\":\"LKP5PZ6R90pi\",\"time\":\"2024-01-01T14:02:37Z\"}\n",
      "{\"action\":\"lsm_recover_from_active_wal\",\"class\":\"Riigikogu_meta_index\",\"index\":\"riigikogu_meta_index\",\"level\":\"warning\",\"msg\":\"active write-ahead-log found. Did weaviate crash prior to this? Trying to recover...\",\"path\":\"/notebooks/rag_advanced/weaviate_storage/riigikogu_meta_index/LKP5PZ6R90pi/lsm/property_relationships_searchable/segment-1704117588836267004.wal\",\"shard\":\"LKP5PZ6R90pi\",\"time\":\"2024-01-01T14:02:37Z\"}\n",
      "{\"action\":\"lsm_recover_from_active_wal_success\",\"class\":\"Riigikogu_meta_index\",\"index\":\"riigikogu_meta_index\",\"level\":\"info\",\"msg\":\"successfully recovered from write-ahead-log\",\"path\":\"/notebooks/rag_advanced/weaviate_storage/riigikogu_meta_index/LKP5PZ6R90pi/lsm/property_relationships_searchable/segment-1704117588836267004.wal\",\"shard\":\"LKP5PZ6R90pi\",\"time\":\"2024-01-01T14:02:37Z\"}\n",
      "{\"action\":\"lsm_recover_from_active_wal_success\",\"class\":\"Riigikogu_meta_index\",\"index\":\"riigikogu_meta_index\",\"level\":\"info\",\"msg\":\"successfully recovered from write-ahead-log\",\"path\":\"/notebooks/rag_advanced/weaviate_storage/riigikogu_meta_index/LKP5PZ6R90pi/lsm/property__id/segment-1704117588819289766.wal\",\"shard\":\"LKP5PZ6R90pi\",\"time\":\"2024-01-01T14:02:37Z\"}\n",
      "{\"action\":\"lsm_recover_from_active_wal\",\"class\":\"Riigikogu_meta_index\",\"index\":\"riigikogu_meta_index\",\"level\":\"warning\",\"msg\":\"active write-ahead-log found. Did weaviate crash prior to this? Trying to recover...\",\"path\":\"/notebooks/rag_advanced/weaviate_storage/riigikogu_meta_index/LKP5PZ6R90pi/lsm/property_text/segment-1704117588818117315.wal\",\"shard\":\"LKP5PZ6R90pi\",\"time\":\"2024-01-01T14:02:37Z\"}\n",
      "{\"action\":\"lsm_recover_from_active_wal_success\",\"class\":\"Riigikogu_meta_index\",\"index\":\"riigikogu_meta_index\",\"level\":\"info\",\"msg\":\"successfully recovered from write-ahead-log\",\"path\":\"/notebooks/rag_advanced/weaviate_storage/riigikogu_meta_index/LKP5PZ6R90pi/lsm/property_text/segment-1704117588818117315.wal\",\"shard\":\"LKP5PZ6R90pi\",\"time\":\"2024-01-01T14:02:37Z\"}\n",
      "{\"action\":\"lsm_recover_from_active_wal\",\"class\":\"Riigikogu_meta_index\",\"index\":\"riigikogu_meta_index\",\"level\":\"warning\",\"msg\":\"active write-ahead-log found. Did weaviate crash prior to this? Trying to recover...\",\"path\":\"/notebooks/rag_advanced/weaviate_storage/riigikogu_meta_index/LKP5PZ6R90pi/lsm/property_heading/segment-1704117588826323331.wal\",\"shard\":\"LKP5PZ6R90pi\",\"time\":\"2024-01-01T14:02:37Z\"}\n",
      "{\"action\":\"lsm_recover_from_active_wal_success\",\"class\":\"Riigikogu_meta_index\",\"index\":\"riigikogu_meta_index\",\"level\":\"info\",\"msg\":\"successfully recovered from write-ahead-log\",\"path\":\"/notebooks/rag_advanced/weaviate_storage/riigikogu_meta_index/LKP5PZ6R90pi/lsm/property_heading/segment-1704117588826323331.wal\",\"shard\":\"LKP5PZ6R90pi\",\"time\":\"2024-01-01T14:02:37Z\"}\n",
      "{\"action\":\"lsm_recover_from_active_wal\",\"class\":\"Riigikogu_meta_index\",\"index\":\"riigikogu_meta_index\",\"level\":\"warning\",\"msg\":\"active write-ahead-log found. Did weaviate crash prior to this? Trying to recover...\",\"path\":\"/notebooks/rag_advanced/weaviate_storage/riigikogu_meta_index/LKP5PZ6R90pi/lsm/property_doc_id_searchable/segment-1704117588828474250.wal\",\"shard\":\"LKP5PZ6R90pi\",\"time\":\"2024-01-01T14:02:37Z\"}\n",
      "{\"action\":\"lsm_recover_from_active_wal_success\",\"class\":\"Riigikogu_meta_index\",\"index\":\"riigikogu_meta_index\",\"level\":\"info\",\"msg\":\"successfully recovered from write-ahead-log\",\"path\":\"/notebooks/rag_advanced/weaviate_storage/riigikogu_meta_index/LKP5PZ6R90pi/lsm/property_doc_id_searchable/segment-1704117588828474250.wal\",\"shard\":\"LKP5PZ6R90pi\",\"time\":\"2024-01-01T14:02:37Z\"}\n",
      "{\"action\":\"lsm_recover_from_active_wal\",\"class\":\"Riigikogu_meta_index\",\"index\":\"riigikogu_meta_index\",\"level\":\"warning\",\"msg\":\"active write-ahead-log found. Did weaviate crash prior to this? Trying to recover...\",\"path\":\"/notebooks/rag_advanced/weaviate_storage/riigikogu_meta_index/LKP5PZ6R90pi/lsm/property_year/segment-1704117588824930628.wal\",\"shard\":\"LKP5PZ6R90pi\",\"time\":\"2024-01-01T14:02:37Z\"}\n",
      "{\"action\":\"lsm_recover_from_active_wal\",\"class\":\"Riigikogu_meta_index\",\"index\":\"riigikogu_meta_index\",\"level\":\"warning\",\"msg\":\"active write-ahead-log found. Did weaviate crash prior to this? Trying to recover...\",\"path\":\"/notebooks/rag_advanced/weaviate_storage/riigikogu_meta_index/LKP5PZ6R90pi/lsm/property_koosseis/segment-1704117588827201385.wal\",\"shard\":\"LKP5PZ6R90pi\",\"time\":\"2024-01-01T14:02:37Z\"}\n",
      "{\"action\":\"lsm_recover_from_active_wal\",\"class\":\"Riigikogu_meta_index\",\"index\":\"riigikogu_meta_index\",\"level\":\"warning\",\"msg\":\"active write-ahead-log found. Did weaviate crash prior to this? Trying to recover...\",\"path\":\"/notebooks/rag_advanced/weaviate_storage/riigikogu_meta_index/LKP5PZ6R90pi/lsm/property_topic_red_outliers/segment-1704117588827436424.wal\",\"shard\":\"LKP5PZ6R90pi\",\"time\":\"2024-01-01T14:02:37Z\"}\n",
      "{\"action\":\"lsm_recover_from_active_wal\",\"class\":\"Riigikogu_meta_index\",\"index\":\"riigikogu_meta_index\",\"level\":\"warning\",\"msg\":\"active write-ahead-log found. Did weaviate crash prior to this? Trying to recover...\",\"path\":\"/notebooks/rag_advanced/weaviate_storage/riigikogu_meta_index/LKP5PZ6R90pi/lsm/property_document_id/segment-1704117588822715770.wal\",\"shard\":\"LKP5PZ6R90pi\",\"time\":\"2024-01-01T14:02:37Z\"}\n",
      "{\"action\":\"lsm_recover_from_active_wal\",\"class\":\"Riigikogu_meta_index\",\"index\":\"riigikogu_meta_index\",\"level\":\"warning\",\"msg\":\"active write-ahead-log found. Did weaviate crash prior to this? Trying to recover...\",\"path\":\"/notebooks/rag_advanced/weaviate_storage/riigikogu_meta_index/LKP5PZ6R90pi/lsm/property_month/segment-1704117588826126016.wal\",\"shard\":\"LKP5PZ6R90pi\",\"time\":\"2024-01-01T14:02:37Z\"}\n",
      "{\"action\":\"lsm_recover_from_active_wal\",\"class\":\"Riigikogu_meta_index\",\"index\":\"riigikogu_meta_index\",\"level\":\"warning\",\"msg\":\"active write-ahead-log found. Did weaviate crash prior to this? Trying to recover...\",\"path\":\"/notebooks/rag_advanced/weaviate_storage/riigikogu_meta_index/LKP5PZ6R90pi/lsm/property_index_pk/segment-1704117588815937374.wal\",\"shard\":\"LKP5PZ6R90pi\",\"time\":\"2024-01-01T14:02:37Z\"}\n",
      "{\"action\":\"lsm_recover_from_active_wal\",\"class\":\"Riigikogu_meta_index\",\"index\":\"riigikogu_meta_index\",\"level\":\"warning\",\"msg\":\"active write-ahead-log found. Did weaviate crash prior to this? Trying to recover...\",\"path\":\"/notebooks/rag_advanced/weaviate_storage/riigikogu_meta_index/LKP5PZ6R90pi/lsm/property_date/segment-1704117588822658398.wal\",\"shard\":\"LKP5PZ6R90pi\",\"time\":\"2024-01-01T14:02:37Z\"}\n",
      "{\"action\":\"lsm_recover_from_active_wal_success\",\"class\":\"Riigikogu_meta_index\",\"index\":\"riigikogu_meta_index\",\"level\":\"info\",\"msg\":\"successfully recovered from write-ahead-log\",\"path\":\"/notebooks/rag_advanced/weaviate_storage/riigikogu_meta_index/LKP5PZ6R90pi/lsm/property_index_pk/segment-1704117588815937374.wal\",\"shard\":\"LKP5PZ6R90pi\",\"time\":\"2024-01-01T14:02:37Z\"}\n",
      "{\"action\":\"lsm_recover_from_active_wal_success\",\"class\":\"Riigikogu_meta_index\",\"index\":\"riigikogu_meta_index\",\"level\":\"info\",\"msg\":\"successfully recovered from write-ahead-log\",\"path\":\"/notebooks/rag_advanced/weaviate_storage/riigikogu_meta_index/LKP5PZ6R90pi/lsm/property_month/segment-1704117588826126016.wal\",\"shard\":\"LKP5PZ6R90pi\",\"time\":\"2024-01-01T14:02:37Z\"}\n",
      "{\"action\":\"lsm_recover_from_active_wal_success\",\"class\":\"Riigikogu_meta_index\",\"index\":\"riigikogu_meta_index\",\"level\":\"info\",\"msg\":\"successfully recovered from write-ahead-log\",\"path\":\"/notebooks/rag_advanced/weaviate_storage/riigikogu_meta_index/LKP5PZ6R90pi/lsm/property_koosseis/segment-1704117588827201385.wal\",\"shard\":\"LKP5PZ6R90pi\",\"time\":\"2024-01-01T14:02:37Z\"}\n",
      "{\"action\":\"lsm_recover_from_active_wal_success\",\"class\":\"Riigikogu_meta_index\",\"index\":\"riigikogu_meta_index\",\"level\":\"info\",\"msg\":\"successfully recovered from write-ahead-log\",\"path\":\"/notebooks/rag_advanced/weaviate_storage/riigikogu_meta_index/LKP5PZ6R90pi/lsm/property_topic_red_outliers/segment-1704117588827436424.wal\",\"shard\":\"LKP5PZ6R90pi\",\"time\":\"2024-01-01T14:02:37Z\"}\n",
      "{\"action\":\"lsm_recover_from_active_wal_success\",\"class\":\"Riigikogu_meta_index\",\"index\":\"riigikogu_meta_index\",\"level\":\"info\",\"msg\":\"successfully recovered from write-ahead-log\",\"path\":\"/notebooks/rag_advanced/weaviate_storage/riigikogu_meta_index/LKP5PZ6R90pi/lsm/property_document_id/segment-1704117588822715770.wal\",\"shard\":\"LKP5PZ6R90pi\",\"time\":\"2024-01-01T14:02:37Z\"}\n",
      "{\"action\":\"lsm_recover_from_active_wal_success\",\"class\":\"Riigikogu_meta_index\",\"index\":\"riigikogu_meta_index\",\"level\":\"info\",\"msg\":\"successfully recovered from write-ahead-log\",\"path\":\"/notebooks/rag_advanced/weaviate_storage/riigikogu_meta_index/LKP5PZ6R90pi/lsm/property_year/segment-1704117588824930628.wal\",\"shard\":\"LKP5PZ6R90pi\",\"time\":\"2024-01-01T14:02:37Z\"}\n",
      "{\"action\":\"lsm_recover_from_active_wal_success\",\"class\":\"Riigikogu_meta_index\",\"index\":\"riigikogu_meta_index\",\"level\":\"info\",\"msg\":\"successfully recovered from write-ahead-log\",\"path\":\"/notebooks/rag_advanced/weaviate_storage/riigikogu_meta_index/LKP5PZ6R90pi/lsm/property_date/segment-1704117588822658398.wal\",\"shard\":\"LKP5PZ6R90pi\",\"time\":\"2024-01-01T14:02:37Z\"}\n",
      "{\"action\":\"lsm_recover_from_active_wal\",\"class\":\"Riigikogu_meta_index\",\"index\":\"riigikogu_meta_index\",\"level\":\"warning\",\"msg\":\"active write-ahead-log found. Did weaviate crash prior to this? Trying to recover...\",\"path\":\"/notebooks/rag_advanced/weaviate_storage/riigikogu_meta_index/LKP5PZ6R90pi/lsm/property_topic_prob/segment-1704117588828473322.wal\",\"shard\":\"LKP5PZ6R90pi\",\"time\":\"2024-01-01T14:02:37Z\"}\n",
      "{\"action\":\"lsm_recover_from_active_wal_success\",\"class\":\"Riigikogu_meta_index\",\"index\":\"riigikogu_meta_index\",\"level\":\"info\",\"msg\":\"successfully recovered from write-ahead-log\",\"path\":\"/notebooks/rag_advanced/weaviate_storage/riigikogu_meta_index/LKP5PZ6R90pi/lsm/property_topic_prob/segment-1704117588828473322.wal\",\"shard\":\"LKP5PZ6R90pi\",\"time\":\"2024-01-01T14:02:37Z\"}\n",
      "{\"action\":\"lsm_recover_from_active_wal\",\"class\":\"Riigikogu_meta_index\",\"index\":\"riigikogu_meta_index\",\"level\":\"warning\",\"msg\":\"active write-ahead-log found. Did weaviate crash prior to this? Trying to recover...\",\"path\":\"/notebooks/rag_advanced/weaviate_storage/riigikogu_meta_index/LKP5PZ6R90pi/lsm/property_topic_searchable/segment-1704117588818199619.wal\",\"shard\":\"LKP5PZ6R90pi\",\"time\":\"2024-01-01T14:02:37Z\"}\n",
      "{\"action\":\"lsm_recover_from_active_wal\",\"class\":\"Riigikogu_meta_index\",\"index\":\"riigikogu_meta_index\",\"level\":\"warning\",\"msg\":\"active write-ahead-log found. Did weaviate crash prior to this? Trying to recover...\",\"path\":\"/notebooks/rag_advanced/weaviate_storage/riigikogu_meta_index/LKP5PZ6R90pi/lsm/property_ntoks_splitted/segment-1704117588827101317.wal\",\"shard\":\"LKP5PZ6R90pi\",\"time\":\"2024-01-01T14:02:37Z\"}\n",
      "{\"action\":\"lsm_recover_from_active_wal_success\",\"class\":\"Riigikogu_meta_index\",\"index\":\"riigikogu_meta_index\",\"level\":\"info\",\"msg\":\"successfully recovered from write-ahead-log\",\"path\":\"/notebooks/rag_advanced/weaviate_storage/riigikogu_meta_index/LKP5PZ6R90pi/lsm/property_topic_searchable/segment-1704117588818199619.wal\",\"shard\":\"LKP5PZ6R90pi\",\"time\":\"2024-01-01T14:02:37Z\"}\n",
      "{\"action\":\"lsm_recover_from_active_wal\",\"class\":\"Riigikogu_meta_index\",\"index\":\"riigikogu_meta_index\",\"level\":\"warning\",\"msg\":\"active write-ahead-log found. Did weaviate crash prior to this? Trying to recover...\",\"path\":\"/notebooks/rag_advanced/weaviate_storage/riigikogu_meta_index/LKP5PZ6R90pi/lsm/property_faction/segment-1704117588828189418.wal\",\"shard\":\"LKP5PZ6R90pi\",\"time\":\"2024-01-01T14:02:37Z\"}\n",
      "{\"action\":\"lsm_recover_from_active_wal_success\",\"class\":\"Riigikogu_meta_index\",\"index\":\"riigikogu_meta_index\",\"level\":\"info\",\"msg\":\"successfully recovered from write-ahead-log\",\"path\":\"/notebooks/rag_advanced/weaviate_storage/riigikogu_meta_index/LKP5PZ6R90pi/lsm/property_faction/segment-1704117588828189418.wal\",\"shard\":\"LKP5PZ6R90pi\",\"time\":\"2024-01-01T14:02:37Z\"}\n",
      "{\"action\":\"lsm_recover_from_active_wal_success\",\"class\":\"Riigikogu_meta_index\",\"index\":\"riigikogu_meta_index\",\"level\":\"info\",\"msg\":\"successfully recovered from write-ahead-log\",\"path\":\"/notebooks/rag_advanced/weaviate_storage/riigikogu_meta_index/LKP5PZ6R90pi/lsm/property_ntoks_splitted/segment-1704117588827101317.wal\",\"shard\":\"LKP5PZ6R90pi\",\"time\":\"2024-01-01T14:02:37Z\"}\n",
      "{\"action\":\"lsm_recover_from_active_wal\",\"class\":\"Riigikogu_meta_index\",\"index\":\"riigikogu_meta_index\",\"level\":\"warning\",\"msg\":\"active write-ahead-log found. Did weaviate crash prior to this? Trying to recover...\",\"path\":\"/notebooks/rag_advanced/weaviate_storage/riigikogu_meta_index/LKP5PZ6R90pi/lsm/property_index_snd/segment-1704117588843052467.wal\",\"shard\":\"LKP5PZ6R90pi\",\"time\":\"2024-01-01T14:02:37Z\"}\n",
      "{\"action\":\"lsm_recover_from_active_wal\",\"class\":\"Riigikogu_meta_index\",\"index\":\"riigikogu_meta_index\",\"level\":\"warning\",\"msg\":\"active write-ahead-log found. Did weaviate crash prior to this? Trying to recover...\",\"path\":\"/notebooks/rag_advanced/weaviate_storage/riigikogu_meta_index/LKP5PZ6R90pi/lsm/property_ref_doc_id/segment-1704117588811629673.wal\",\"shard\":\"LKP5PZ6R90pi\",\"time\":\"2024-01-01T14:02:37Z\"}\n",
      "{\"action\":\"lsm_recover_from_active_wal_success\",\"class\":\"Riigikogu_meta_index\",\"index\":\"riigikogu_meta_index\",\"level\":\"info\",\"msg\":\"successfully recovered from write-ahead-log\",\"path\":\"/notebooks/rag_advanced/weaviate_storage/riigikogu_meta_index/LKP5PZ6R90pi/lsm/property_index_snd/segment-1704117588843052467.wal\",\"shard\":\"LKP5PZ6R90pi\",\"time\":\"2024-01-01T14:02:37Z\"}\n",
      "{\"action\":\"lsm_recover_from_active_wal_success\",\"class\":\"Riigikogu_meta_index\",\"index\":\"riigikogu_meta_index\",\"level\":\"info\",\"msg\":\"successfully recovered from write-ahead-log\",\"path\":\"/notebooks/rag_advanced/weaviate_storage/riigikogu_meta_index/LKP5PZ6R90pi/lsm/property_ref_doc_id/segment-1704117588811629673.wal\",\"shard\":\"LKP5PZ6R90pi\",\"time\":\"2024-01-01T14:02:37Z\"}\n",
      "{\"action\":\"lsm_recover_from_active_wal\",\"class\":\"Riigikogu_meta_index\",\"index\":\"riigikogu_meta_index\",\"level\":\"warning\",\"msg\":\"active write-ahead-log found. Did weaviate crash prior to this? Trying to recover...\",\"path\":\"/notebooks/rag_advanced/weaviate_storage/riigikogu_meta_index/LKP5PZ6R90pi/lsm/property_heading_searchable/segment-1704117588995686327.wal\",\"shard\":\"LKP5PZ6R90pi\",\"time\":\"2024-01-01T14:02:37Z\"}\n",
      "{\"action\":\"lsm_recover_from_active_wal_success\",\"class\":\"Riigikogu_meta_index\",\"index\":\"riigikogu_meta_index\",\"level\":\"info\",\"msg\":\"successfully recovered from write-ahead-log\",\"path\":\"/notebooks/rag_advanced/weaviate_storage/riigikogu_meta_index/LKP5PZ6R90pi/lsm/property_heading_searchable/segment-1704117588995686327.wal\",\"shard\":\"LKP5PZ6R90pi\",\"time\":\"2024-01-01T14:02:37Z\"}\n",
      "{\"action\":\"lsm_recover_from_active_wal\",\"class\":\"Riigikogu_meta_index\",\"index\":\"riigikogu_meta_index\",\"level\":\"warning\",\"msg\":\"active write-ahead-log found. Did weaviate crash prior to this? Trying to recover...\",\"path\":\"/notebooks/rag_advanced/weaviate_storage/riigikogu_meta_index/LKP5PZ6R90pi/lsm/property_index_pk_searchable/segment-1704117588822715770.wal\",\"shard\":\"LKP5PZ6R90pi\",\"time\":\"2024-01-01T14:02:37Z\"}\n",
      "{\"action\":\"lsm_recover_from_active_wal_success\",\"class\":\"Riigikogu_meta_index\",\"index\":\"riigikogu_meta_index\",\"level\":\"info\",\"msg\":\"successfully recovered from write-ahead-log\",\"path\":\"/notebooks/rag_advanced/weaviate_storage/riigikogu_meta_index/LKP5PZ6R90pi/lsm/property_index_pk_searchable/segment-1704117588822715770.wal\",\"shard\":\"LKP5PZ6R90pi\",\"time\":\"2024-01-01T14:02:37Z\"}\n",
      "{\"action\":\"lsm_recover_from_active_wal\",\"class\":\"Riigikogu_meta_index\",\"index\":\"riigikogu_meta_index\",\"level\":\"warning\",\"msg\":\"active write-ahead-log found. Did weaviate crash prior to this? Trying to recover...\",\"path\":\"/notebooks/rag_advanced/weaviate_storage/riigikogu_meta_index/LKP5PZ6R90pi/lsm/property_topic_red_outliers_searchable/segment-1704117588836579743.wal\",\"shard\":\"LKP5PZ6R90pi\",\"time\":\"2024-01-01T14:02:37Z\"}\n",
      "{\"action\":\"lsm_recover_from_active_wal\",\"class\":\"Riigikogu_meta_index\",\"index\":\"riigikogu_meta_index\",\"level\":\"warning\",\"msg\":\"active write-ahead-log found. Did weaviate crash prior to this? Trying to recover...\",\"path\":\"/notebooks/rag_advanced/weaviate_storage/riigikogu_meta_index/LKP5PZ6R90pi/lsm/property_koosseis_searchable/segment-1704117588842763866.wal\",\"shard\":\"LKP5PZ6R90pi\",\"time\":\"2024-01-01T14:02:37Z\"}\n",
      "{\"action\":\"lsm_recover_from_active_wal_success\",\"class\":\"Riigikogu_meta_index\",\"index\":\"riigikogu_meta_index\",\"level\":\"info\",\"msg\":\"successfully recovered from write-ahead-log\",\"path\":\"/notebooks/rag_advanced/weaviate_storage/riigikogu_meta_index/LKP5PZ6R90pi/lsm/property_topic_red_outliers_searchable/segment-1704117588836579743.wal\",\"shard\":\"LKP5PZ6R90pi\",\"time\":\"2024-01-01T14:02:37Z\"}\n",
      "{\"action\":\"lsm_recover_from_active_wal\",\"class\":\"Riigikogu_meta_index\",\"index\":\"riigikogu_meta_index\",\"level\":\"warning\",\"msg\":\"active write-ahead-log found. Did weaviate crash prior to this? Trying to recover...\",\"path\":\"/notebooks/rag_advanced/weaviate_storage/riigikogu_meta_index/LKP5PZ6R90pi/lsm/property_text_searchable/segment-1704117588842286910.wal\",\"shard\":\"LKP5PZ6R90pi\",\"time\":\"2024-01-01T14:02:37Z\"}\n",
      "{\"action\":\"lsm_recover_from_active_wal_success\",\"class\":\"Riigikogu_meta_index\",\"index\":\"riigikogu_meta_index\",\"level\":\"info\",\"msg\":\"successfully recovered from write-ahead-log\",\"path\":\"/notebooks/rag_advanced/weaviate_storage/riigikogu_meta_index/LKP5PZ6R90pi/lsm/property_koosseis_searchable/segment-1704117588842763866.wal\",\"shard\":\"LKP5PZ6R90pi\",\"time\":\"2024-01-01T14:02:37Z\"}\n",
      "{\"action\":\"lsm_recover_from_active_wal\",\"class\":\"Riigikogu_meta_index\",\"index\":\"riigikogu_meta_index\",\"level\":\"warning\",\"msg\":\"active write-ahead-log found. Did weaviate crash prior to this? Trying to recover...\",\"path\":\"/notebooks/rag_advanced/weaviate_storage/riigikogu_meta_index/LKP5PZ6R90pi/lsm/property_document_id_searchable/segment-1704117588836397349.wal\",\"shard\":\"LKP5PZ6R90pi\",\"time\":\"2024-01-01T14:02:37Z\"}\n",
      "{\"action\":\"lsm_recover_from_active_wal_success\",\"class\":\"Riigikogu_meta_index\",\"index\":\"riigikogu_meta_index\",\"level\":\"info\",\"msg\":\"successfully recovered from write-ahead-log\",\"path\":\"/notebooks/rag_advanced/weaviate_storage/riigikogu_meta_index/LKP5PZ6R90pi/lsm/property_document_id_searchable/segment-1704117588836397349.wal\",\"shard\":\"LKP5PZ6R90pi\",\"time\":\"2024-01-01T14:02:37Z\"}\n",
      "{\"action\":\"lsm_recover_from_active_wal\",\"class\":\"Riigikogu_meta_index\",\"index\":\"riigikogu_meta_index\",\"level\":\"warning\",\"msg\":\"active write-ahead-log found. Did weaviate crash prior to this? Trying to recover...\",\"path\":\"/notebooks/rag_advanced/weaviate_storage/riigikogu_meta_index/LKP5PZ6R90pi/lsm/property_date_searchable/segment-1704117588835219201.wal\",\"shard\":\"LKP5PZ6R90pi\",\"time\":\"2024-01-01T14:02:37Z\"}\n",
      "{\"action\":\"lsm_recover_from_active_wal_success\",\"class\":\"Riigikogu_meta_index\",\"index\":\"riigikogu_meta_index\",\"level\":\"info\",\"msg\":\"successfully recovered from write-ahead-log\",\"path\":\"/notebooks/rag_advanced/weaviate_storage/riigikogu_meta_index/LKP5PZ6R90pi/lsm/property_date_searchable/segment-1704117588835219201.wal\",\"shard\":\"LKP5PZ6R90pi\",\"time\":\"2024-01-01T14:02:37Z\"}\n",
      "{\"action\":\"lsm_recover_from_active_wal_success\",\"class\":\"Riigikogu_meta_index\",\"index\":\"riigikogu_meta_index\",\"level\":\"info\",\"msg\":\"successfully recovered from write-ahead-log\",\"path\":\"/notebooks/rag_advanced/weaviate_storage/riigikogu_meta_index/LKP5PZ6R90pi/lsm/property_text_searchable/segment-1704117588842286910.wal\",\"shard\":\"LKP5PZ6R90pi\",\"time\":\"2024-01-01T14:02:37Z\"}\n",
      "{\"action\":\"lsm_recover_from_active_wal\",\"class\":\"Riigikogu_meta_index\",\"index\":\"riigikogu_meta_index\",\"level\":\"warning\",\"msg\":\"active write-ahead-log found. Did weaviate crash prior to this? Trying to recover...\",\"path\":\"/notebooks/rag_advanced/weaviate_storage/riigikogu_meta_index/LKP5PZ6R90pi/lsm/property__node_content/segment-1704117588846849777.wal\",\"shard\":\"LKP5PZ6R90pi\",\"time\":\"2024-01-01T14:02:37Z\"}\n",
      "{\"action\":\"lsm_recover_from_active_wal_success\",\"class\":\"Riigikogu_meta_index\",\"index\":\"riigikogu_meta_index\",\"level\":\"info\",\"msg\":\"successfully recovered from write-ahead-log\",\"path\":\"/notebooks/rag_advanced/weaviate_storage/riigikogu_meta_index/LKP5PZ6R90pi/lsm/property__node_content/segment-1704117588846849777.wal\",\"shard\":\"LKP5PZ6R90pi\",\"time\":\"2024-01-01T14:02:37Z\"}\n",
      "{\"action\":\"lsm_recover_from_active_wal\",\"class\":\"Riigikogu_meta_index\",\"index\":\"riigikogu_meta_index\",\"level\":\"warning\",\"msg\":\"active write-ahead-log found. Did weaviate crash prior to this? Trying to recover...\",\"path\":\"/notebooks/rag_advanced/weaviate_storage/riigikogu_meta_index/LKP5PZ6R90pi/lsm/property_faction_searchable/segment-1704117588996277931.wal\",\"shard\":\"LKP5PZ6R90pi\",\"time\":\"2024-01-01T14:02:37Z\"}\n",
      "{\"action\":\"lsm_recover_from_active_wal_success\",\"class\":\"Riigikogu_meta_index\",\"index\":\"riigikogu_meta_index\",\"level\":\"info\",\"msg\":\"successfully recovered from write-ahead-log\",\"path\":\"/notebooks/rag_advanced/weaviate_storage/riigikogu_meta_index/LKP5PZ6R90pi/lsm/property_faction_searchable/segment-1704117588996277931.wal\",\"shard\":\"LKP5PZ6R90pi\",\"time\":\"2024-01-01T14:02:37Z\"}\n",
      "{\"action\":\"lsm_recover_from_active_wal\",\"class\":\"Riigikogu_meta_index\",\"index\":\"riigikogu_meta_index\",\"level\":\"warning\",\"msg\":\"active write-ahead-log found. Did weaviate crash prior to this? Trying to recover...\",\"path\":\"/notebooks/rag_advanced/weaviate_storage/riigikogu_meta_index/LKP5PZ6R90pi/lsm/property_ref_doc_id_searchable/segment-1704117588817423008.wal\",\"shard\":\"LKP5PZ6R90pi\",\"time\":\"2024-01-01T14:02:37Z\"}\n",
      "{\"action\":\"lsm_recover_from_active_wal_success\",\"class\":\"Riigikogu_meta_index\",\"index\":\"riigikogu_meta_index\",\"level\":\"info\",\"msg\":\"successfully recovered from write-ahead-log\",\"path\":\"/notebooks/rag_advanced/weaviate_storage/riigikogu_meta_index/LKP5PZ6R90pi/lsm/property_ref_doc_id_searchable/segment-1704117588817423008.wal\",\"shard\":\"LKP5PZ6R90pi\",\"time\":\"2024-01-01T14:02:37Z\"}\n",
      "{\"action\":\"lsm_recover_from_active_wal\",\"class\":\"Riigikogu_meta_index\",\"index\":\"riigikogu_meta_index\",\"level\":\"warning\",\"msg\":\"active write-ahead-log found. Did weaviate crash prior to this? Trying to recover...\",\"path\":\"/notebooks/rag_advanced/weaviate_storage/riigikogu_meta_index/LKP5PZ6R90pi/lsm/property_index_snd_searchable/segment-1704117588847251126.wal\",\"shard\":\"LKP5PZ6R90pi\",\"time\":\"2024-01-01T14:02:37Z\"}\n",
      "{\"action\":\"lsm_recover_from_active_wal_success\",\"class\":\"Riigikogu_meta_index\",\"index\":\"riigikogu_meta_index\",\"level\":\"info\",\"msg\":\"successfully recovered from write-ahead-log\",\"path\":\"/notebooks/rag_advanced/weaviate_storage/riigikogu_meta_index/LKP5PZ6R90pi/lsm/property_index_snd_searchable/segment-1704117588847251126.wal\",\"shard\":\"LKP5PZ6R90pi\",\"time\":\"2024-01-01T14:02:37Z\"}\n",
      "{\"action\":\"lsm_recover_from_active_wal\",\"class\":\"Riigikogu_meta_index\",\"index\":\"riigikogu_meta_index\",\"level\":\"warning\",\"msg\":\"active write-ahead-log found. Did weaviate crash prior to this? Trying to recover...\",\"path\":\"/notebooks/rag_advanced/weaviate_storage/riigikogu_meta_index/LKP5PZ6R90pi/lsm/property__node_content_searchable/segment-1704117588878591413.wal\",\"shard\":\"LKP5PZ6R90pi\",\"time\":\"2024-01-01T14:02:37Z\"}\n",
      "{\"action\":\"lsm_recover_from_active_wal_success\",\"class\":\"Riigikogu_meta_index\",\"index\":\"riigikogu_meta_index\",\"level\":\"info\",\"msg\":\"successfully recovered from write-ahead-log\",\"path\":\"/notebooks/rag_advanced/weaviate_storage/riigikogu_meta_index/LKP5PZ6R90pi/lsm/property__node_content_searchable/segment-1704117588878591413.wal\",\"shard\":\"LKP5PZ6R90pi\",\"time\":\"2024-01-01T14:02:37Z\"}\n",
      "{\"level\":\"info\",\"msg\":\"Completed loading shard riigikogu_meta_index_LKP5PZ6R90pi in 1.202113635s\",\"time\":\"2024-01-01T14:02:39Z\"}\n"
     ]
    }
   ],
   "source": [
    "#if you have instantiated this already you run this 2x on command line to remove existing vector store\n",
    "# !rm -rf /root/.local/share/weaviate/riigikogu_meta_index"
   ]
  },
  {
   "cell_type": "markdown",
   "id": "e9659074-d7f5-4096-ba14-9ab63f80ff98",
   "metadata": {
    "pycharm": {
     "name": "#%% md\n"
    }
   },
   "source": [
    "## Create an index"
   ]
  },
  {
   "cell_type": "code",
   "execution_count": 14,
   "id": "0047adbf-6e26-4aac-8e9d-c5b5f08f7b23",
   "metadata": {
    "pycharm": {
     "name": "#%%\n"
    }
   },
   "outputs": [
    {
     "name": "stderr",
     "output_type": "stream",
     "text": [
      "{\"action\":\"read_disk_use\",\"level\":\"warning\",\"msg\":\"disk usage currently at 80.04%, threshold set to 80.00%\",\"path\":\"/notebooks/rag_advanced/weaviate_storage/\",\"time\":\"2024-01-01T12:56:35Z\"}\n",
      "{\"action\":\"lsm_recover_from_active_wal\",\"class\":\"Riigikogu_meta_index\",\"index\":\"riigikogu_meta_index\",\"level\":\"warning\",\"msg\":\"active write-ahead-log found. Did weaviate crash prior to this? Trying to recover...\",\"path\":\"/notebooks/rag_advanced/weaviate_storage/riigikogu_meta_index/LKP5PZ6R90pi/lsm/objects/segment-1704032861624301713.wal\",\"shard\":\"LKP5PZ6R90pi\",\"time\":\"2024-01-01T12:56:36Z\"}\n",
      "{\"action\":\"lsm_recover_from_active_wal_success\",\"class\":\"Riigikogu_meta_index\",\"index\":\"riigikogu_meta_index\",\"level\":\"info\",\"msg\":\"successfully recovered from write-ahead-log\",\"path\":\"/notebooks/rag_advanced/weaviate_storage/riigikogu_meta_index/LKP5PZ6R90pi/lsm/objects/segment-1704032861624301713.wal\",\"shard\":\"LKP5PZ6R90pi\",\"time\":\"2024-01-01T12:56:36Z\"}\n",
      "{\"action\":\"lsm_recover_from_active_wal\",\"class\":\"Riigikogu_meta_index\",\"index\":\"riigikogu_meta_index\",\"level\":\"warning\",\"msg\":\"active write-ahead-log found. Did weaviate crash prior to this? Trying to recover...\",\"path\":\"/notebooks/rag_advanced/weaviate_storage/riigikogu_meta_index/LKP5PZ6R90pi/lsm/property_document_id/segment-1704032861760232720.wal\",\"shard\":\"LKP5PZ6R90pi\",\"time\":\"2024-01-01T12:56:36Z\"}\n",
      "{\"action\":\"lsm_recover_from_active_wal_success\",\"class\":\"Riigikogu_meta_index\",\"index\":\"riigikogu_meta_index\",\"level\":\"info\",\"msg\":\"successfully recovered from write-ahead-log\",\"path\":\"/notebooks/rag_advanced/weaviate_storage/riigikogu_meta_index/LKP5PZ6R90pi/lsm/property_document_id/segment-1704032861760232720.wal\",\"shard\":\"LKP5PZ6R90pi\",\"time\":\"2024-01-01T12:56:36Z\"}\n",
      "{\"action\":\"lsm_recover_from_active_wal\",\"class\":\"Riigikogu_meta_index\",\"index\":\"riigikogu_meta_index\",\"level\":\"warning\",\"msg\":\"active write-ahead-log found. Did weaviate crash prior to this? Trying to recover...\",\"path\":\"/notebooks/rag_advanced/weaviate_storage/riigikogu_meta_index/LKP5PZ6R90pi/lsm/property_relationships/segment-1704032751820975065.wal\",\"shard\":\"LKP5PZ6R90pi\",\"time\":\"2024-01-01T12:56:36Z\"}\n",
      "{\"action\":\"lsm_recover_from_active_wal_success\",\"class\":\"Riigikogu_meta_index\",\"index\":\"riigikogu_meta_index\",\"level\":\"info\",\"msg\":\"successfully recovered from write-ahead-log\",\"path\":\"/notebooks/rag_advanced/weaviate_storage/riigikogu_meta_index/LKP5PZ6R90pi/lsm/property_relationships/segment-1704032751820975065.wal\",\"shard\":\"LKP5PZ6R90pi\",\"time\":\"2024-01-01T12:56:36Z\"}\n",
      "{\"action\":\"lsm_recover_from_active_wal\",\"class\":\"Riigikogu_meta_index\",\"index\":\"riigikogu_meta_index\",\"level\":\"warning\",\"msg\":\"active write-ahead-log found. Did weaviate crash prior to this? Trying to recover...\",\"path\":\"/notebooks/rag_advanced/weaviate_storage/riigikogu_meta_index/LKP5PZ6R90pi/lsm/property_faction/segment-1704032861865876543.wal\",\"shard\":\"LKP5PZ6R90pi\",\"time\":\"2024-01-01T12:56:36Z\"}\n",
      "{\"action\":\"lsm_recover_from_active_wal_success\",\"class\":\"Riigikogu_meta_index\",\"index\":\"riigikogu_meta_index\",\"level\":\"info\",\"msg\":\"successfully recovered from write-ahead-log\",\"path\":\"/notebooks/rag_advanced/weaviate_storage/riigikogu_meta_index/LKP5PZ6R90pi/lsm/property_faction/segment-1704032861865876543.wal\",\"shard\":\"LKP5PZ6R90pi\",\"time\":\"2024-01-01T12:56:36Z\"}\n",
      "{\"action\":\"lsm_recover_from_active_wal\",\"class\":\"Riigikogu_meta_index\",\"index\":\"riigikogu_meta_index\",\"level\":\"warning\",\"msg\":\"active write-ahead-log found. Did weaviate crash prior to this? Trying to recover...\",\"path\":\"/notebooks/rag_advanced/weaviate_storage/riigikogu_meta_index/LKP5PZ6R90pi/lsm/property_heading/segment-1704032861734371904.wal\",\"shard\":\"LKP5PZ6R90pi\",\"time\":\"2024-01-01T12:56:36Z\"}\n",
      "{\"action\":\"lsm_recover_from_active_wal_success\",\"class\":\"Riigikogu_meta_index\",\"index\":\"riigikogu_meta_index\",\"level\":\"info\",\"msg\":\"successfully recovered from write-ahead-log\",\"path\":\"/notebooks/rag_advanced/weaviate_storage/riigikogu_meta_index/LKP5PZ6R90pi/lsm/property_heading/segment-1704032861734371904.wal\",\"shard\":\"LKP5PZ6R90pi\",\"time\":\"2024-01-01T12:56:36Z\"}\n",
      "{\"action\":\"lsm_recover_from_active_wal\",\"class\":\"Riigikogu_meta_index\",\"index\":\"riigikogu_meta_index\",\"level\":\"warning\",\"msg\":\"active write-ahead-log found. Did weaviate crash prior to this? Trying to recover...\",\"path\":\"/notebooks/rag_advanced/weaviate_storage/riigikogu_meta_index/LKP5PZ6R90pi/lsm/property__node_type/segment-1704032861914065156.wal\",\"shard\":\"LKP5PZ6R90pi\",\"time\":\"2024-01-01T12:56:36Z\"}\n",
      "{\"action\":\"lsm_recover_from_active_wal_success\",\"class\":\"Riigikogu_meta_index\",\"index\":\"riigikogu_meta_index\",\"level\":\"info\",\"msg\":\"successfully recovered from write-ahead-log\",\"path\":\"/notebooks/rag_advanced/weaviate_storage/riigikogu_meta_index/LKP5PZ6R90pi/lsm/property__node_type/segment-1704032861914065156.wal\",\"shard\":\"LKP5PZ6R90pi\",\"time\":\"2024-01-01T12:56:36Z\"}\n",
      "{\"action\":\"lsm_recover_from_active_wal\",\"class\":\"Riigikogu_meta_index\",\"index\":\"riigikogu_meta_index\",\"level\":\"warning\",\"msg\":\"active write-ahead-log found. Did weaviate crash prior to this? Trying to recover...\",\"path\":\"/notebooks/rag_advanced/weaviate_storage/riigikogu_meta_index/LKP5PZ6R90pi/lsm/property_ntoks_splitted/segment-1704032861805418144.wal\",\"shard\":\"LKP5PZ6R90pi\",\"time\":\"2024-01-01T12:56:36Z\"}\n",
      "{\"action\":\"lsm_recover_from_active_wal_success\",\"class\":\"Riigikogu_meta_index\",\"index\":\"riigikogu_meta_index\",\"level\":\"info\",\"msg\":\"successfully recovered from write-ahead-log\",\"path\":\"/notebooks/rag_advanced/weaviate_storage/riigikogu_meta_index/LKP5PZ6R90pi/lsm/property_ntoks_splitted/segment-1704032861805418144.wal\",\"shard\":\"LKP5PZ6R90pi\",\"time\":\"2024-01-01T12:56:36Z\"}\n",
      "{\"action\":\"lsm_recover_from_active_wal\",\"class\":\"Riigikogu_meta_index\",\"index\":\"riigikogu_meta_index\",\"level\":\"warning\",\"msg\":\"active write-ahead-log found. Did weaviate crash prior to this? Trying to recover...\",\"path\":\"/notebooks/rag_advanced/weaviate_storage/riigikogu_meta_index/LKP5PZ6R90pi/lsm/property_speaker/segment-1704032861855375441.wal\",\"shard\":\"LKP5PZ6R90pi\",\"time\":\"2024-01-01T12:56:36Z\"}\n",
      "{\"action\":\"lsm_recover_from_active_wal_success\",\"class\":\"Riigikogu_meta_index\",\"index\":\"riigikogu_meta_index\",\"level\":\"info\",\"msg\":\"successfully recovered from write-ahead-log\",\"path\":\"/notebooks/rag_advanced/weaviate_storage/riigikogu_meta_index/LKP5PZ6R90pi/lsm/property_speaker/segment-1704032861855375441.wal\",\"shard\":\"LKP5PZ6R90pi\",\"time\":\"2024-01-01T12:56:36Z\"}\n",
      "{\"action\":\"lsm_recover_from_active_wal\",\"class\":\"Riigikogu_meta_index\",\"index\":\"riigikogu_meta_index\",\"level\":\"warning\",\"msg\":\"active write-ahead-log found. Did weaviate crash prior to this? Trying to recover...\",\"path\":\"/notebooks/rag_advanced/weaviate_storage/riigikogu_meta_index/LKP5PZ6R90pi/lsm/property_node_info/segment-1704032751820371559.wal\",\"shard\":\"LKP5PZ6R90pi\",\"time\":\"2024-01-01T12:56:36Z\"}\n",
      "{\"action\":\"lsm_recover_from_active_wal_success\",\"class\":\"Riigikogu_meta_index\",\"index\":\"riigikogu_meta_index\",\"level\":\"info\",\"msg\":\"successfully recovered from write-ahead-log\",\"path\":\"/notebooks/rag_advanced/weaviate_storage/riigikogu_meta_index/LKP5PZ6R90pi/lsm/property_node_info/segment-1704032751820371559.wal\",\"shard\":\"LKP5PZ6R90pi\",\"time\":\"2024-01-01T12:56:36Z\"}\n",
      "{\"action\":\"lsm_recover_from_active_wal\",\"class\":\"Riigikogu_meta_index\",\"index\":\"riigikogu_meta_index\",\"level\":\"warning\",\"msg\":\"active write-ahead-log found. Did weaviate crash prior to this? Trying to recover...\",\"path\":\"/notebooks/rag_advanced/weaviate_storage/riigikogu_meta_index/LKP5PZ6R90pi/lsm/property_year/segment-1704032861900667227.wal\",\"shard\":\"LKP5PZ6R90pi\",\"time\":\"2024-01-01T12:56:36Z\"}\n",
      "{\"action\":\"lsm_recover_from_active_wal_success\",\"class\":\"Riigikogu_meta_index\",\"index\":\"riigikogu_meta_index\",\"level\":\"info\",\"msg\":\"successfully recovered from write-ahead-log\",\"path\":\"/notebooks/rag_advanced/weaviate_storage/riigikogu_meta_index/LKP5PZ6R90pi/lsm/property_year/segment-1704032861900667227.wal\",\"shard\":\"LKP5PZ6R90pi\",\"time\":\"2024-01-01T12:56:36Z\"}\n",
      "{\"action\":\"lsm_recover_from_active_wal\",\"class\":\"Riigikogu_meta_index\",\"index\":\"riigikogu_meta_index\",\"level\":\"warning\",\"msg\":\"active write-ahead-log found. Did weaviate crash prior to this? Trying to recover...\",\"path\":\"/notebooks/rag_advanced/weaviate_storage/riigikogu_meta_index/LKP5PZ6R90pi/lsm/property_date/segment-1704032861848486732.wal\",\"shard\":\"LKP5PZ6R90pi\",\"time\":\"2024-01-01T12:56:36Z\"}\n",
      "{\"action\":\"lsm_recover_from_active_wal_success\",\"class\":\"Riigikogu_meta_index\",\"index\":\"riigikogu_meta_index\",\"level\":\"info\",\"msg\":\"successfully recovered from write-ahead-log\",\"path\":\"/notebooks/rag_advanced/weaviate_storage/riigikogu_meta_index/LKP5PZ6R90pi/lsm/property_date/segment-1704032861848486732.wal\",\"shard\":\"LKP5PZ6R90pi\",\"time\":\"2024-01-01T12:56:36Z\"}\n",
      "{\"action\":\"lsm_recover_from_active_wal\",\"class\":\"Riigikogu_meta_index\",\"index\":\"riigikogu_meta_index\",\"level\":\"warning\",\"msg\":\"active write-ahead-log found. Did weaviate crash prior to this? Trying to recover...\",\"path\":\"/notebooks/rag_advanced/weaviate_storage/riigikogu_meta_index/LKP5PZ6R90pi/lsm/property_topic_prob/segment-1704032861744445204.wal\",\"shard\":\"LKP5PZ6R90pi\",\"time\":\"2024-01-01T12:56:36Z\"}\n",
      "{\"action\":\"lsm_recover_from_active_wal_success\",\"class\":\"Riigikogu_meta_index\",\"index\":\"riigikogu_meta_index\",\"level\":\"info\",\"msg\":\"successfully recovered from write-ahead-log\",\"path\":\"/notebooks/rag_advanced/weaviate_storage/riigikogu_meta_index/LKP5PZ6R90pi/lsm/property_topic_prob/segment-1704032861744445204.wal\",\"shard\":\"LKP5PZ6R90pi\",\"time\":\"2024-01-01T12:56:36Z\"}\n",
      "{\"action\":\"lsm_recover_from_active_wal\",\"class\":\"Riigikogu_meta_index\",\"index\":\"riigikogu_meta_index\",\"level\":\"warning\",\"msg\":\"active write-ahead-log found. Did weaviate crash prior to this? Trying to recover...\",\"path\":\"/notebooks/rag_advanced/weaviate_storage/riigikogu_meta_index/LKP5PZ6R90pi/lsm/property_relationships_searchable/segment-1704032751828926806.wal\",\"shard\":\"LKP5PZ6R90pi\",\"time\":\"2024-01-01T12:56:36Z\"}\n",
      "{\"action\":\"lsm_recover_from_active_wal_success\",\"class\":\"Riigikogu_meta_index\",\"index\":\"riigikogu_meta_index\",\"level\":\"info\",\"msg\":\"successfully recovered from write-ahead-log\",\"path\":\"/notebooks/rag_advanced/weaviate_storage/riigikogu_meta_index/LKP5PZ6R90pi/lsm/property_relationships_searchable/segment-1704032751828926806.wal\",\"shard\":\"LKP5PZ6R90pi\",\"time\":\"2024-01-01T12:56:36Z\"}\n",
      "{\"action\":\"lsm_recover_from_active_wal\",\"class\":\"Riigikogu_meta_index\",\"index\":\"riigikogu_meta_index\",\"level\":\"warning\",\"msg\":\"active write-ahead-log found. Did weaviate crash prior to this? Trying to recover...\",\"path\":\"/notebooks/rag_advanced/weaviate_storage/riigikogu_meta_index/LKP5PZ6R90pi/lsm/property_koosseis/segment-1704032861816087312.wal\",\"shard\":\"LKP5PZ6R90pi\",\"time\":\"2024-01-01T12:56:36Z\"}\n",
      "{\"action\":\"lsm_recover_from_active_wal_success\",\"class\":\"Riigikogu_meta_index\",\"index\":\"riigikogu_meta_index\",\"level\":\"info\",\"msg\":\"successfully recovered from write-ahead-log\",\"path\":\"/notebooks/rag_advanced/weaviate_storage/riigikogu_meta_index/LKP5PZ6R90pi/lsm/property_koosseis/segment-1704032861816087312.wal\",\"shard\":\"LKP5PZ6R90pi\",\"time\":\"2024-01-01T12:56:36Z\"}\n",
      "{\"action\":\"lsm_recover_from_active_wal\",\"class\":\"Riigikogu_meta_index\",\"index\":\"riigikogu_meta_index\",\"level\":\"warning\",\"msg\":\"active write-ahead-log found. Did weaviate crash prior to this? Trying to recover...\",\"path\":\"/notebooks/rag_advanced/weaviate_storage/riigikogu_meta_index/LKP5PZ6R90pi/lsm/property_day/segment-1704032861692462241.wal\",\"shard\":\"LKP5PZ6R90pi\",\"time\":\"2024-01-01T12:56:36Z\"}\n",
      "{\"action\":\"lsm_recover_from_active_wal_success\",\"class\":\"Riigikogu_meta_index\",\"index\":\"riigikogu_meta_index\",\"level\":\"info\",\"msg\":\"successfully recovered from write-ahead-log\",\"path\":\"/notebooks/rag_advanced/weaviate_storage/riigikogu_meta_index/LKP5PZ6R90pi/lsm/property_day/segment-1704032861692462241.wal\",\"shard\":\"LKP5PZ6R90pi\",\"time\":\"2024-01-01T12:56:36Z\"}\n",
      "{\"action\":\"lsm_recover_from_active_wal\",\"class\":\"Riigikogu_meta_index\",\"index\":\"riigikogu_meta_index\",\"level\":\"warning\",\"msg\":\"active write-ahead-log found. Did weaviate crash prior to this? Trying to recover...\",\"path\":\"/notebooks/rag_advanced/weaviate_storage/riigikogu_meta_index/LKP5PZ6R90pi/lsm/property_month/segment-1704032861767910158.wal\",\"shard\":\"LKP5PZ6R90pi\",\"time\":\"2024-01-01T12:56:36Z\"}\n",
      "{\"action\":\"lsm_recover_from_active_wal_success\",\"class\":\"Riigikogu_meta_index\",\"index\":\"riigikogu_meta_index\",\"level\":\"info\",\"msg\":\"successfully recovered from write-ahead-log\",\"path\":\"/notebooks/rag_advanced/weaviate_storage/riigikogu_meta_index/LKP5PZ6R90pi/lsm/property_month/segment-1704032861767910158.wal\",\"shard\":\"LKP5PZ6R90pi\",\"time\":\"2024-01-01T12:56:36Z\"}\n",
      "{\"action\":\"lsm_recover_from_active_wal\",\"class\":\"Riigikogu_meta_index\",\"index\":\"riigikogu_meta_index\",\"level\":\"warning\",\"msg\":\"active write-ahead-log found. Did weaviate crash prior to this? Trying to recover...\",\"path\":\"/notebooks/rag_advanced/weaviate_storage/riigikogu_meta_index/LKP5PZ6R90pi/lsm/property_doc_id/segment-1704032861725947614.wal\",\"shard\":\"LKP5PZ6R90pi\",\"time\":\"2024-01-01T12:56:36Z\"}\n",
      "{\"action\":\"lsm_recover_from_active_wal_success\",\"class\":\"Riigikogu_meta_index\",\"index\":\"riigikogu_meta_index\",\"level\":\"info\",\"msg\":\"successfully recovered from write-ahead-log\",\"path\":\"/notebooks/rag_advanced/weaviate_storage/riigikogu_meta_index/LKP5PZ6R90pi/lsm/property_doc_id/segment-1704032861725947614.wal\",\"shard\":\"LKP5PZ6R90pi\",\"time\":\"2024-01-01T12:56:36Z\"}\n",
      "{\"action\":\"lsm_recover_from_active_wal\",\"class\":\"Riigikogu_meta_index\",\"index\":\"riigikogu_meta_index\",\"level\":\"warning\",\"msg\":\"active write-ahead-log found. Did weaviate crash prior to this? Trying to recover...\",\"path\":\"/notebooks/rag_advanced/weaviate_storage/riigikogu_meta_index/LKP5PZ6R90pi/lsm/property_topic/segment-1704032861787791742.wal\",\"shard\":\"LKP5PZ6R90pi\",\"time\":\"2024-01-01T12:56:36Z\"}\n",
      "{\"action\":\"lsm_recover_from_active_wal_success\",\"class\":\"Riigikogu_meta_index\",\"index\":\"riigikogu_meta_index\",\"level\":\"info\",\"msg\":\"successfully recovered from write-ahead-log\",\"path\":\"/notebooks/rag_advanced/weaviate_storage/riigikogu_meta_index/LKP5PZ6R90pi/lsm/property_topic/segment-1704032861787791742.wal\",\"shard\":\"LKP5PZ6R90pi\",\"time\":\"2024-01-01T12:56:36Z\"}\n",
      "{\"action\":\"lsm_recover_from_active_wal\",\"class\":\"Riigikogu_meta_index\",\"index\":\"riigikogu_meta_index\",\"level\":\"warning\",\"msg\":\"active write-ahead-log found. Did weaviate crash prior to this? Trying to recover...\",\"path\":\"/notebooks/rag_advanced/weaviate_storage/riigikogu_meta_index/LKP5PZ6R90pi/lsm/property_index_pk/segment-1704032861776443921.wal\",\"shard\":\"LKP5PZ6R90pi\",\"time\":\"2024-01-01T12:56:36Z\"}\n",
      "{\"action\":\"lsm_recover_from_active_wal_success\",\"class\":\"Riigikogu_meta_index\",\"index\":\"riigikogu_meta_index\",\"level\":\"info\",\"msg\":\"successfully recovered from write-ahead-log\",\"path\":\"/notebooks/rag_advanced/weaviate_storage/riigikogu_meta_index/LKP5PZ6R90pi/lsm/property_index_pk/segment-1704032861776443921.wal\",\"shard\":\"LKP5PZ6R90pi\",\"time\":\"2024-01-01T12:56:36Z\"}\n",
      "{\"action\":\"lsm_recover_from_active_wal\",\"class\":\"Riigikogu_meta_index\",\"index\":\"riigikogu_meta_index\",\"level\":\"warning\",\"msg\":\"active write-ahead-log found. Did weaviate crash prior to this? Trying to recover...\",\"path\":\"/notebooks/rag_advanced/weaviate_storage/riigikogu_meta_index/LKP5PZ6R90pi/lsm/property_ref_doc_id/segment-1704032861876393277.wal\",\"shard\":\"LKP5PZ6R90pi\",\"time\":\"2024-01-01T12:56:36Z\"}\n",
      "{\"action\":\"lsm_recover_from_active_wal_success\",\"class\":\"Riigikogu_meta_index\",\"index\":\"riigikogu_meta_index\",\"level\":\"info\",\"msg\":\"successfully recovered from write-ahead-log\",\"path\":\"/notebooks/rag_advanced/weaviate_storage/riigikogu_meta_index/LKP5PZ6R90pi/lsm/property_ref_doc_id/segment-1704032861876393277.wal\",\"shard\":\"LKP5PZ6R90pi\",\"time\":\"2024-01-01T12:56:36Z\"}\n",
      "{\"action\":\"lsm_recover_from_active_wal\",\"class\":\"Riigikogu_meta_index\",\"index\":\"riigikogu_meta_index\",\"level\":\"warning\",\"msg\":\"active write-ahead-log found. Did weaviate crash prior to this? Trying to recover...\",\"path\":\"/notebooks/rag_advanced/weaviate_storage/riigikogu_meta_index/LKP5PZ6R90pi/lsm/property_time/segment-1704032861716845424.wal\",\"shard\":\"LKP5PZ6R90pi\",\"time\":\"2024-01-01T12:56:36Z\"}\n",
      "{\"action\":\"lsm_recover_from_active_wal_success\",\"class\":\"Riigikogu_meta_index\",\"index\":\"riigikogu_meta_index\",\"level\":\"info\",\"msg\":\"successfully recovered from write-ahead-log\",\"path\":\"/notebooks/rag_advanced/weaviate_storage/riigikogu_meta_index/LKP5PZ6R90pi/lsm/property_time/segment-1704032861716845424.wal\",\"shard\":\"LKP5PZ6R90pi\",\"time\":\"2024-01-01T12:56:36Z\"}\n",
      "{\"action\":\"lsm_recover_from_active_wal\",\"class\":\"Riigikogu_meta_index\",\"index\":\"riigikogu_meta_index\",\"level\":\"warning\",\"msg\":\"active write-ahead-log found. Did weaviate crash prior to this? Trying to recover...\",\"path\":\"/notebooks/rag_advanced/weaviate_storage/riigikogu_meta_index/LKP5PZ6R90pi/lsm/property_text/segment-1704032862192008727.wal\",\"shard\":\"LKP5PZ6R90pi\",\"time\":\"2024-01-01T12:56:36Z\"}\n",
      "{\"action\":\"lsm_recover_from_active_wal_success\",\"class\":\"Riigikogu_meta_index\",\"index\":\"riigikogu_meta_index\",\"level\":\"info\",\"msg\":\"successfully recovered from write-ahead-log\",\"path\":\"/notebooks/rag_advanced/weaviate_storage/riigikogu_meta_index/LKP5PZ6R90pi/lsm/property_text/segment-1704032862192008727.wal\",\"shard\":\"LKP5PZ6R90pi\",\"time\":\"2024-01-01T12:56:36Z\"}\n",
      "{\"action\":\"lsm_recover_from_active_wal\",\"class\":\"Riigikogu_meta_index\",\"index\":\"riigikogu_meta_index\",\"level\":\"warning\",\"msg\":\"active write-ahead-log found. Did weaviate crash prior to this? Trying to recover...\",\"path\":\"/notebooks/rag_advanced/weaviate_storage/riigikogu_meta_index/LKP5PZ6R90pi/lsm/property__id/segment-1704032862171265905.wal\",\"shard\":\"LKP5PZ6R90pi\",\"time\":\"2024-01-01T12:56:36Z\"}\n",
      "{\"action\":\"lsm_recover_from_active_wal_success\",\"class\":\"Riigikogu_meta_index\",\"index\":\"riigikogu_meta_index\",\"level\":\"info\",\"msg\":\"successfully recovered from write-ahead-log\",\"path\":\"/notebooks/rag_advanced/weaviate_storage/riigikogu_meta_index/LKP5PZ6R90pi/lsm/property__id/segment-1704032862171265905.wal\",\"shard\":\"LKP5PZ6R90pi\",\"time\":\"2024-01-01T12:56:36Z\"}\n",
      "{\"action\":\"lsm_recover_from_active_wal\",\"class\":\"Riigikogu_meta_index\",\"index\":\"riigikogu_meta_index\",\"level\":\"warning\",\"msg\":\"active write-ahead-log found. Did weaviate crash prior to this? Trying to recover...\",\"path\":\"/notebooks/rag_advanced/weaviate_storage/riigikogu_meta_index/LKP5PZ6R90pi/lsm/property_index_snd/segment-1704032861824707202.wal\",\"shard\":\"LKP5PZ6R90pi\",\"time\":\"2024-01-01T12:56:36Z\"}\n",
      "{\"action\":\"lsm_recover_from_active_wal_success\",\"class\":\"Riigikogu_meta_index\",\"index\":\"riigikogu_meta_index\",\"level\":\"info\",\"msg\":\"successfully recovered from write-ahead-log\",\"path\":\"/notebooks/rag_advanced/weaviate_storage/riigikogu_meta_index/LKP5PZ6R90pi/lsm/property_index_snd/segment-1704032861824707202.wal\",\"shard\":\"LKP5PZ6R90pi\",\"time\":\"2024-01-01T12:56:36Z\"}\n",
      "{\"action\":\"lsm_recover_from_active_wal\",\"class\":\"Riigikogu_meta_index\",\"index\":\"riigikogu_meta_index\",\"level\":\"warning\",\"msg\":\"active write-ahead-log found. Did weaviate crash prior to this? Trying to recover...\",\"path\":\"/notebooks/rag_advanced/weaviate_storage/riigikogu_meta_index/LKP5PZ6R90pi/lsm/property_topic_red_outliers/segment-1704032861883359461.wal\",\"shard\":\"LKP5PZ6R90pi\",\"time\":\"2024-01-01T12:56:36Z\"}\n",
      "{\"action\":\"lsm_recover_from_active_wal\",\"class\":\"Riigikogu_meta_index\",\"index\":\"riigikogu_meta_index\",\"level\":\"warning\",\"msg\":\"active write-ahead-log found. Did weaviate crash prior to this? Trying to recover...\",\"path\":\"/notebooks/rag_advanced/weaviate_storage/riigikogu_meta_index/LKP5PZ6R90pi/lsm/property__node_content/segment-1704032862403733757.wal\",\"shard\":\"LKP5PZ6R90pi\",\"time\":\"2024-01-01T12:56:36Z\"}\n",
      "{\"action\":\"lsm_recover_from_active_wal_success\",\"class\":\"Riigikogu_meta_index\",\"index\":\"riigikogu_meta_index\",\"level\":\"info\",\"msg\":\"successfully recovered from write-ahead-log\",\"path\":\"/notebooks/rag_advanced/weaviate_storage/riigikogu_meta_index/LKP5PZ6R90pi/lsm/property__node_content/segment-1704032862403733757.wal\",\"shard\":\"LKP5PZ6R90pi\",\"time\":\"2024-01-01T12:56:36Z\"}\n",
      "{\"action\":\"lsm_recover_from_active_wal\",\"class\":\"Riigikogu_meta_index\",\"index\":\"riigikogu_meta_index\",\"level\":\"warning\",\"msg\":\"active write-ahead-log found. Did weaviate crash prior to this? Trying to recover...\",\"path\":\"/notebooks/rag_advanced/weaviate_storage/riigikogu_meta_index/LKP5PZ6R90pi/lsm/property_faction_searchable/segment-1704032862021163539.wal\",\"shard\":\"LKP5PZ6R90pi\",\"time\":\"2024-01-01T12:56:36Z\"}\n",
      "{\"action\":\"lsm_recover_from_active_wal_success\",\"class\":\"Riigikogu_meta_index\",\"index\":\"riigikogu_meta_index\",\"level\":\"info\",\"msg\":\"successfully recovered from write-ahead-log\",\"path\":\"/notebooks/rag_advanced/weaviate_storage/riigikogu_meta_index/LKP5PZ6R90pi/lsm/property_faction_searchable/segment-1704032862021163539.wal\",\"shard\":\"LKP5PZ6R90pi\",\"time\":\"2024-01-01T12:56:36Z\"}\n",
      "{\"action\":\"lsm_recover_from_active_wal_success\",\"class\":\"Riigikogu_meta_index\",\"index\":\"riigikogu_meta_index\",\"level\":\"info\",\"msg\":\"successfully recovered from write-ahead-log\",\"path\":\"/notebooks/rag_advanced/weaviate_storage/riigikogu_meta_index/LKP5PZ6R90pi/lsm/property_topic_red_outliers/segment-1704032861883359461.wal\",\"shard\":\"LKP5PZ6R90pi\",\"time\":\"2024-01-01T12:56:36Z\"}\n",
      "{\"action\":\"lsm_recover_from_active_wal\",\"class\":\"Riigikogu_meta_index\",\"index\":\"riigikogu_meta_index\",\"level\":\"warning\",\"msg\":\"active write-ahead-log found. Did weaviate crash prior to this? Trying to recover...\",\"path\":\"/notebooks/rag_advanced/weaviate_storage/riigikogu_meta_index/LKP5PZ6R90pi/lsm/property_node_info_searchable/segment-1704032751828276916.wal\",\"shard\":\"LKP5PZ6R90pi\",\"time\":\"2024-01-01T12:56:36Z\"}\n",
      "{\"action\":\"lsm_recover_from_active_wal_success\",\"class\":\"Riigikogu_meta_index\",\"index\":\"riigikogu_meta_index\",\"level\":\"info\",\"msg\":\"successfully recovered from write-ahead-log\",\"path\":\"/notebooks/rag_advanced/weaviate_storage/riigikogu_meta_index/LKP5PZ6R90pi/lsm/property_node_info_searchable/segment-1704032751828276916.wal\",\"shard\":\"LKP5PZ6R90pi\",\"time\":\"2024-01-01T12:56:36Z\"}\n",
      "{\"action\":\"lsm_recover_from_active_wal\",\"class\":\"Riigikogu_meta_index\",\"index\":\"riigikogu_meta_index\",\"level\":\"warning\",\"msg\":\"active write-ahead-log found. Did weaviate crash prior to this? Trying to recover...\",\"path\":\"/notebooks/rag_advanced/weaviate_storage/riigikogu_meta_index/LKP5PZ6R90pi/lsm/property__node_type_searchable/segment-1704032862110944384.wal\",\"shard\":\"LKP5PZ6R90pi\",\"time\":\"2024-01-01T12:56:36Z\"}\n",
      "{\"action\":\"lsm_recover_from_active_wal_success\",\"class\":\"Riigikogu_meta_index\",\"index\":\"riigikogu_meta_index\",\"level\":\"info\",\"msg\":\"successfully recovered from write-ahead-log\",\"path\":\"/notebooks/rag_advanced/weaviate_storage/riigikogu_meta_index/LKP5PZ6R90pi/lsm/property__node_type_searchable/segment-1704032862110944384.wal\",\"shard\":\"LKP5PZ6R90pi\",\"time\":\"2024-01-01T12:56:36Z\"}\n",
      "{\"action\":\"lsm_recover_from_active_wal\",\"class\":\"Riigikogu_meta_index\",\"index\":\"riigikogu_meta_index\",\"level\":\"warning\",\"msg\":\"active write-ahead-log found. Did weaviate crash prior to this? Trying to recover...\",\"path\":\"/notebooks/rag_advanced/weaviate_storage/riigikogu_meta_index/LKP5PZ6R90pi/lsm/property_heading_searchable/segment-1704032861921505593.wal\",\"shard\":\"LKP5PZ6R90pi\",\"time\":\"2024-01-01T12:56:36Z\"}\n",
      "{\"action\":\"lsm_recover_from_active_wal_success\",\"class\":\"Riigikogu_meta_index\",\"index\":\"riigikogu_meta_index\",\"level\":\"info\",\"msg\":\"successfully recovered from write-ahead-log\",\"path\":\"/notebooks/rag_advanced/weaviate_storage/riigikogu_meta_index/LKP5PZ6R90pi/lsm/property_heading_searchable/segment-1704032861921505593.wal\",\"shard\":\"LKP5PZ6R90pi\",\"time\":\"2024-01-01T12:56:36Z\"}\n",
      "{\"action\":\"lsm_recover_from_active_wal\",\"class\":\"Riigikogu_meta_index\",\"index\":\"riigikogu_meta_index\",\"level\":\"warning\",\"msg\":\"active write-ahead-log found. Did weaviate crash prior to this? Trying to recover...\",\"path\":\"/notebooks/rag_advanced/weaviate_storage/riigikogu_meta_index/LKP5PZ6R90pi/lsm/property_index_pk_searchable/segment-1704032862088483561.wal\",\"shard\":\"LKP5PZ6R90pi\",\"time\":\"2024-01-01T12:56:36Z\"}\n",
      "{\"action\":\"lsm_recover_from_active_wal_success\",\"class\":\"Riigikogu_meta_index\",\"index\":\"riigikogu_meta_index\",\"level\":\"info\",\"msg\":\"successfully recovered from write-ahead-log\",\"path\":\"/notebooks/rag_advanced/weaviate_storage/riigikogu_meta_index/LKP5PZ6R90pi/lsm/property_index_pk_searchable/segment-1704032862088483561.wal\",\"shard\":\"LKP5PZ6R90pi\",\"time\":\"2024-01-01T12:56:36Z\"}\n",
      "{\"action\":\"lsm_recover_from_active_wal\",\"class\":\"Riigikogu_meta_index\",\"index\":\"riigikogu_meta_index\",\"level\":\"warning\",\"msg\":\"active write-ahead-log found. Did weaviate crash prior to this? Trying to recover...\",\"path\":\"/notebooks/rag_advanced/weaviate_storage/riigikogu_meta_index/LKP5PZ6R90pi/lsm/property_koosseis_searchable/segment-1704032861968754545.wal\",\"shard\":\"LKP5PZ6R90pi\",\"time\":\"2024-01-01T12:56:36Z\"}\n",
      "{\"action\":\"lsm_recover_from_active_wal\",\"class\":\"Riigikogu_meta_index\",\"index\":\"riigikogu_meta_index\",\"level\":\"warning\",\"msg\":\"active write-ahead-log found. Did weaviate crash prior to this? Trying to recover...\",\"path\":\"/notebooks/rag_advanced/weaviate_storage/riigikogu_meta_index/LKP5PZ6R90pi/lsm/property_speaker_searchable/segment-1704032862074350706.wal\",\"shard\":\"LKP5PZ6R90pi\",\"time\":\"2024-01-01T12:56:36Z\"}\n",
      "{\"action\":\"lsm_recover_from_active_wal_success\",\"class\":\"Riigikogu_meta_index\",\"index\":\"riigikogu_meta_index\",\"level\":\"info\",\"msg\":\"successfully recovered from write-ahead-log\",\"path\":\"/notebooks/rag_advanced/weaviate_storage/riigikogu_meta_index/LKP5PZ6R90pi/lsm/property_speaker_searchable/segment-1704032862074350706.wal\",\"shard\":\"LKP5PZ6R90pi\",\"time\":\"2024-01-01T12:56:36Z\"}\n",
      "{\"action\":\"lsm_recover_from_active_wal_success\",\"class\":\"Riigikogu_meta_index\",\"index\":\"riigikogu_meta_index\",\"level\":\"info\",\"msg\":\"successfully recovered from write-ahead-log\",\"path\":\"/notebooks/rag_advanced/weaviate_storage/riigikogu_meta_index/LKP5PZ6R90pi/lsm/property_koosseis_searchable/segment-1704032861968754545.wal\",\"shard\":\"LKP5PZ6R90pi\",\"time\":\"2024-01-01T12:56:36Z\"}\n",
      "{\"action\":\"lsm_recover_from_active_wal\",\"class\":\"Riigikogu_meta_index\",\"index\":\"riigikogu_meta_index\",\"level\":\"warning\",\"msg\":\"active write-ahead-log found. Did weaviate crash prior to this? Trying to recover...\",\"path\":\"/notebooks/rag_advanced/weaviate_storage/riigikogu_meta_index/LKP5PZ6R90pi/lsm/property_index_snd_searchable/segment-1704032862123466561.wal\",\"shard\":\"LKP5PZ6R90pi\",\"time\":\"2024-01-01T12:56:36Z\"}\n",
      "{\"action\":\"lsm_recover_from_active_wal_success\",\"class\":\"Riigikogu_meta_index\",\"index\":\"riigikogu_meta_index\",\"level\":\"info\",\"msg\":\"successfully recovered from write-ahead-log\",\"path\":\"/notebooks/rag_advanced/weaviate_storage/riigikogu_meta_index/LKP5PZ6R90pi/lsm/property_index_snd_searchable/segment-1704032862123466561.wal\",\"shard\":\"LKP5PZ6R90pi\",\"time\":\"2024-01-01T12:56:36Z\"}\n",
      "{\"action\":\"lsm_recover_from_active_wal\",\"class\":\"Riigikogu_meta_index\",\"index\":\"riigikogu_meta_index\",\"level\":\"warning\",\"msg\":\"active write-ahead-log found. Did weaviate crash prior to this? Trying to recover...\",\"path\":\"/notebooks/rag_advanced/weaviate_storage/riigikogu_meta_index/LKP5PZ6R90pi/lsm/property_ref_doc_id_searchable/segment-1704032862101214420.wal\",\"shard\":\"LKP5PZ6R90pi\",\"time\":\"2024-01-01T12:56:36Z\"}\n",
      "{\"action\":\"lsm_recover_from_active_wal\",\"class\":\"Riigikogu_meta_index\",\"index\":\"riigikogu_meta_index\",\"level\":\"warning\",\"msg\":\"active write-ahead-log found. Did weaviate crash prior to this? Trying to recover...\",\"path\":\"/notebooks/rag_advanced/weaviate_storage/riigikogu_meta_index/LKP5PZ6R90pi/lsm/property_date_searchable/segment-1704032862034209335.wal\",\"shard\":\"LKP5PZ6R90pi\",\"time\":\"2024-01-01T12:56:36Z\"}\n",
      "{\"action\":\"lsm_recover_from_active_wal\",\"class\":\"Riigikogu_meta_index\",\"index\":\"riigikogu_meta_index\",\"level\":\"warning\",\"msg\":\"active write-ahead-log found. Did weaviate crash prior to this? Trying to recover...\",\"path\":\"/notebooks/rag_advanced/weaviate_storage/riigikogu_meta_index/LKP5PZ6R90pi/lsm/property_doc_id_searchable/segment-1704032862049158038.wal\",\"shard\":\"LKP5PZ6R90pi\",\"time\":\"2024-01-01T12:56:36Z\"}\n",
      "{\"action\":\"lsm_recover_from_active_wal\",\"class\":\"Riigikogu_meta_index\",\"index\":\"riigikogu_meta_index\",\"level\":\"warning\",\"msg\":\"active write-ahead-log found. Did weaviate crash prior to this? Trying to recover...\",\"path\":\"/notebooks/rag_advanced/weaviate_storage/riigikogu_meta_index/LKP5PZ6R90pi/lsm/property_topic_searchable/segment-1704032861996255045.wal\",\"shard\":\"LKP5PZ6R90pi\",\"time\":\"2024-01-01T12:56:36Z\"}\n",
      "{\"action\":\"lsm_recover_from_active_wal\",\"class\":\"Riigikogu_meta_index\",\"index\":\"riigikogu_meta_index\",\"level\":\"warning\",\"msg\":\"active write-ahead-log found. Did weaviate crash prior to this? Trying to recover...\",\"path\":\"/notebooks/rag_advanced/weaviate_storage/riigikogu_meta_index/LKP5PZ6R90pi/lsm/property_time_searchable/segment-1704032862059222485.wal\",\"shard\":\"LKP5PZ6R90pi\",\"time\":\"2024-01-01T12:56:36Z\"}\n",
      "{\"action\":\"lsm_recover_from_active_wal\",\"class\":\"Riigikogu_meta_index\",\"index\":\"riigikogu_meta_index\",\"level\":\"warning\",\"msg\":\"active write-ahead-log found. Did weaviate crash prior to this? Trying to recover...\",\"path\":\"/notebooks/rag_advanced/weaviate_storage/riigikogu_meta_index/LKP5PZ6R90pi/lsm/property_document_id_searchable/segment-1704032861986508223.wal\",\"shard\":\"LKP5PZ6R90pi\",\"time\":\"2024-01-01T12:56:36Z\"}\n",
      "{\"action\":\"lsm_recover_from_active_wal_success\",\"class\":\"Riigikogu_meta_index\",\"index\":\"riigikogu_meta_index\",\"level\":\"info\",\"msg\":\"successfully recovered from write-ahead-log\",\"path\":\"/notebooks/rag_advanced/weaviate_storage/riigikogu_meta_index/LKP5PZ6R90pi/lsm/property_ref_doc_id_searchable/segment-1704032862101214420.wal\",\"shard\":\"LKP5PZ6R90pi\",\"time\":\"2024-01-01T12:56:36Z\"}\n",
      "{\"action\":\"lsm_recover_from_active_wal_success\",\"class\":\"Riigikogu_meta_index\",\"index\":\"riigikogu_meta_index\",\"level\":\"info\",\"msg\":\"successfully recovered from write-ahead-log\",\"path\":\"/notebooks/rag_advanced/weaviate_storage/riigikogu_meta_index/LKP5PZ6R90pi/lsm/property_date_searchable/segment-1704032862034209335.wal\",\"shard\":\"LKP5PZ6R90pi\",\"time\":\"2024-01-01T12:56:36Z\"}\n",
      "{\"action\":\"lsm_recover_from_active_wal_success\",\"class\":\"Riigikogu_meta_index\",\"index\":\"riigikogu_meta_index\",\"level\":\"info\",\"msg\":\"successfully recovered from write-ahead-log\",\"path\":\"/notebooks/rag_advanced/weaviate_storage/riigikogu_meta_index/LKP5PZ6R90pi/lsm/property_doc_id_searchable/segment-1704032862049158038.wal\",\"shard\":\"LKP5PZ6R90pi\",\"time\":\"2024-01-01T12:56:36Z\"}\n",
      "{\"action\":\"lsm_recover_from_active_wal_success\",\"class\":\"Riigikogu_meta_index\",\"index\":\"riigikogu_meta_index\",\"level\":\"info\",\"msg\":\"successfully recovered from write-ahead-log\",\"path\":\"/notebooks/rag_advanced/weaviate_storage/riigikogu_meta_index/LKP5PZ6R90pi/lsm/property_document_id_searchable/segment-1704032861986508223.wal\",\"shard\":\"LKP5PZ6R90pi\",\"time\":\"2024-01-01T12:56:36Z\"}\n",
      "{\"action\":\"lsm_recover_from_active_wal_success\",\"class\":\"Riigikogu_meta_index\",\"index\":\"riigikogu_meta_index\",\"level\":\"info\",\"msg\":\"successfully recovered from write-ahead-log\",\"path\":\"/notebooks/rag_advanced/weaviate_storage/riigikogu_meta_index/LKP5PZ6R90pi/lsm/property_time_searchable/segment-1704032862059222485.wal\",\"shard\":\"LKP5PZ6R90pi\",\"time\":\"2024-01-01T12:56:36Z\"}\n",
      "{\"action\":\"lsm_recover_from_active_wal_success\",\"class\":\"Riigikogu_meta_index\",\"index\":\"riigikogu_meta_index\",\"level\":\"info\",\"msg\":\"successfully recovered from write-ahead-log\",\"path\":\"/notebooks/rag_advanced/weaviate_storage/riigikogu_meta_index/LKP5PZ6R90pi/lsm/property_topic_searchable/segment-1704032861996255045.wal\",\"shard\":\"LKP5PZ6R90pi\",\"time\":\"2024-01-01T12:56:36Z\"}\n",
      "{\"action\":\"lsm_recover_from_active_wal\",\"class\":\"Riigikogu_meta_index\",\"index\":\"riigikogu_meta_index\",\"level\":\"warning\",\"msg\":\"active write-ahead-log found. Did weaviate crash prior to this? Trying to recover...\",\"path\":\"/notebooks/rag_advanced/weaviate_storage/riigikogu_meta_index/LKP5PZ6R90pi/lsm/property_text_searchable/segment-1704032862350836962.wal\",\"shard\":\"LKP5PZ6R90pi\",\"time\":\"2024-01-01T12:56:36Z\"}\n",
      "{\"action\":\"lsm_recover_from_active_wal_success\",\"class\":\"Riigikogu_meta_index\",\"index\":\"riigikogu_meta_index\",\"level\":\"info\",\"msg\":\"successfully recovered from write-ahead-log\",\"path\":\"/notebooks/rag_advanced/weaviate_storage/riigikogu_meta_index/LKP5PZ6R90pi/lsm/property_text_searchable/segment-1704032862350836962.wal\",\"shard\":\"LKP5PZ6R90pi\",\"time\":\"2024-01-01T12:56:36Z\"}\n",
      "{\"action\":\"lsm_recover_from_active_wal\",\"class\":\"Riigikogu_meta_index\",\"index\":\"riigikogu_meta_index\",\"level\":\"warning\",\"msg\":\"active write-ahead-log found. Did weaviate crash prior to this? Trying to recover...\",\"path\":\"/notebooks/rag_advanced/weaviate_storage/riigikogu_meta_index/LKP5PZ6R90pi/lsm/property_topic_red_outliers_searchable/segment-1704032862144101929.wal\",\"shard\":\"LKP5PZ6R90pi\",\"time\":\"2024-01-01T12:56:36Z\"}\n",
      "{\"action\":\"lsm_recover_from_active_wal_success\",\"class\":\"Riigikogu_meta_index\",\"index\":\"riigikogu_meta_index\",\"level\":\"info\",\"msg\":\"successfully recovered from write-ahead-log\",\"path\":\"/notebooks/rag_advanced/weaviate_storage/riigikogu_meta_index/LKP5PZ6R90pi/lsm/property_topic_red_outliers_searchable/segment-1704032862144101929.wal\",\"shard\":\"LKP5PZ6R90pi\",\"time\":\"2024-01-01T12:56:36Z\"}\n",
      "{\"action\":\"lsm_recover_from_active_wal\",\"class\":\"Riigikogu_meta_index\",\"index\":\"riigikogu_meta_index\",\"level\":\"warning\",\"msg\":\"active write-ahead-log found. Did weaviate crash prior to this? Trying to recover...\",\"path\":\"/notebooks/rag_advanced/weaviate_storage/riigikogu_meta_index/LKP5PZ6R90pi/lsm/property__node_content_searchable/segment-1704032862617206539.wal\",\"shard\":\"LKP5PZ6R90pi\",\"time\":\"2024-01-01T12:56:36Z\"}\n",
      "{\"action\":\"lsm_recover_from_active_wal_success\",\"class\":\"Riigikogu_meta_index\",\"index\":\"riigikogu_meta_index\",\"level\":\"info\",\"msg\":\"successfully recovered from write-ahead-log\",\"path\":\"/notebooks/rag_advanced/weaviate_storage/riigikogu_meta_index/LKP5PZ6R90pi/lsm/property__node_content_searchable/segment-1704032862617206539.wal\",\"shard\":\"LKP5PZ6R90pi\",\"time\":\"2024-01-01T12:56:36Z\"}\n",
      "{\"action\":\"hnsw_load_commit_log_corruption\",\"level\":\"error\",\"msg\":\"write-ahead-log ended abruptly, some elements may not have been recovered\",\"path\":\"/notebooks/rag_advanced/weaviate_storage/riigikogu_meta_index/LKP5PZ6R90pi/main.hnsw.commitlog.d/1704031525\",\"time\":\"2024-01-01T12:56:36Z\"}\n",
      "{\"level\":\"info\",\"msg\":\"Completed loading shard riigikogu_meta_index_LKP5PZ6R90pi in 648.025044ms\",\"time\":\"2024-01-01T12:56:36Z\"}\n",
      "{\"action\":\"hnsw_vector_cache_prefill\",\"count\":44910,\"index_id\":\"main\",\"level\":\"info\",\"limit\":1000000000000,\"msg\":\"prefilled vector cache\",\"time\":\"2024-01-01T12:56:38Z\",\"took\":1642362935}\n",
      "[nltk_data] Downloading package punkt to /tmp/llama_index...\n",
      "[nltk_data]   Unzipping tokenizers/punkt.zip.\n",
      "{\"action\":\"read_disk_use\",\"level\":\"warning\",\"msg\":\"disk usage currently at 80.04%, threshold set to 80.00%\",\"path\":\"/notebooks/rag_advanced/weaviate_storage/\",\"time\":\"2024-01-01T12:57:06Z\"}\n",
      "{\"action\":\"read_disk_use\",\"level\":\"warning\",\"msg\":\"disk usage currently at 80.03%, threshold set to 80.00%\",\"path\":\"/notebooks/rag_advanced/weaviate_storage/\",\"time\":\"2024-01-01T12:59:06Z\"}\n",
      "{\"action\":\"read_disk_use\",\"level\":\"warning\",\"msg\":\"disk usage currently at 80.03%, threshold set to 80.00%\",\"path\":\"/notebooks/rag_advanced/weaviate_storage/\",\"time\":\"2024-01-01T13:09:06Z\"}\n",
      "{\"action\":\"commit_log_file_switched\",\"id\":\"main\",\"level\":\"info\",\"msg\":\"commit log size crossed threshold, switching to new file\",\"new_file_name\":\"1704115137\",\"old_file_name\":\"1704031525\",\"old_file_size\":105117216,\"time\":\"2024-01-01T13:18:57Z\"}\n",
      "{\"action\":\"commit_log_file_switched\",\"id\":\"main\",\"level\":\"info\",\"msg\":\"commit log size crossed threshold, switching to new file\",\"new_file_name\":\"1704116148\",\"old_file_name\":\"1704115137\",\"old_file_size\":106249677,\"time\":\"2024-01-01T13:35:48Z\"}\n",
      "{\"action\":\"hnsw_commit_logger_combine_condensed_logs\",\"id\":\"main\",\"input_first\":\"/notebooks/rag_advanced/weaviate_storage/riigikogu_meta_index/LKP5PZ6R90pi/main.hnsw.commitlog.d/1704031525.condensed\",\"input_second\":\"/notebooks/rag_advanced/weaviate_storage/riigikogu_meta_index/LKP5PZ6R90pi/main.hnsw.commitlog.d/1704115137.condensed\",\"level\":\"info\",\"msg\":\"successfully combined previously condensed commit log files\",\"output\":\"/notebooks/rag_advanced/weaviate_storage/riigikogu_meta_index/LKP5PZ6R90pi/main.hnsw.commitlog.d/1704031525\",\"time\":\"2024-01-01T13:35:50Z\"}\n"
     ]
    }
   ],
   "source": [
    "def create_index(client, nodes, llm, embed_model, index_name=\"Riigikogu_meta_index\", text_key=\"text\"):\n",
    "    vector_store = WeaviateVectorStore(weaviate_client = client, index_name=index_name, text_key=text_key)\n",
    "    # setting up the storage for the embeddings\n",
    "    storage_context = StorageContext.from_defaults(vector_store = vector_store)\n",
    "    service_context = ServiceContext.from_defaults(\n",
    "        llm=llm, embed_model=embed_model\n",
    "    )\n",
    "    # set up the index\n",
    "    index = VectorStoreIndex(nodes, storage_context = storage_context, service_context=service_context)\n",
    "    return index, vector_store\n",
    "\n",
    "index, vector_store=create_index(client, nodes, llm, embed_model)"
   ]
  },
  {
   "cell_type": "markdown",
   "id": "046f4b14-b236-436c-8a0b-95ec7b1ee27a",
   "metadata": {
    "pycharm": {
     "name": "#%% md\n"
    }
   },
   "source": [
    "## Save index to disk"
   ]
  },
  {
   "cell_type": "code",
   "execution_count": 15,
   "id": "93ff5f41-38ab-4050-8ba6-383ed521979e",
   "metadata": {
    "pycharm": {
     "name": "#%%\n"
    }
   },
   "outputs": [],
   "source": [
    "index.storage_context.persist(\"riigikogu_meta_index\")"
   ]
  },
  {
   "cell_type": "markdown",
   "id": "5ad119a7-eae9-4487-be6f-c4de4fa36243",
   "metadata": {
    "pycharm": {
     "name": "#%% md\n"
    }
   },
   "source": [
    "## If needed reload index from disk"
   ]
  },
  {
   "cell_type": "code",
   "execution_count": 23,
   "id": "f15af7ec-42e0-4e58-85eb-30b7bf99a4bf",
   "metadata": {
    "pycharm": {
     "name": "#%%\n"
    }
   },
   "outputs": [],
   "source": [
    "# # Rebuild storage context\n",
    "# storage_context = StorageContext.from_defaults(persist_dir=\"riigikogu_meta_index\")\n",
    "\n",
    "# # Load index from the storage context\n",
    "# index2 = load_index_from_storage(storage_context)"
   ]
  },
  {
   "cell_type": "markdown",
   "id": "001be49d-502c-4bc0-9450-97d8b9ba61fa",
   "metadata": {
    "pycharm": {
     "name": "#%% md\n"
    }
   },
   "source": [
    "## Or load index without adding same nodes again, read it from the disk"
   ]
  },
  {
   "cell_type": "code",
   "execution_count": 14,
   "id": "5bb73bbe-c5a6-4035-93f4-b389eabbd031",
   "metadata": {
    "pycharm": {
     "name": "#%%\n"
    }
   },
   "outputs": [
    {
     "name": "stdout",
     "output_type": "stream",
     "text": [
      "INFO:llama_index.indices.loading:Loading all indices.\n",
      "Loading all indices.\n"
     ]
    }
   ],
   "source": [
    "def load_index(client, index_name=\"Riigikogu_meta_index\", text_key=\"text\", persist_dir='riigikogu_meta_index/'):\n",
    "    vector_store = WeaviateVectorStore(weaviate_client = client, index_name=index_name, text_key=text_key)\n",
    "    storage_context = StorageContext.from_defaults(vector_store=vector_store, persist_dir=persist_dir)\n",
    "    index = load_index_from_storage(storage_context)\n",
    "    return index\n",
    "\n",
    "index=load_index(client)"
   ]
  },
  {
   "cell_type": "markdown",
   "id": "c72c6284-2236-4682-9721-61a798cf4a83",
   "metadata": {
    "pycharm": {
     "name": "#%% md\n"
    }
   },
   "source": [
    "## Define query engine - that queries nodes and synthesizes/summarizes answers from them"
   ]
  },
  {
   "cell_type": "code",
   "execution_count": 15,
   "id": "0903c1f3-3cf0-42b1-a37a-e6aa41042728",
   "metadata": {
    "pycharm": {
     "name": "#%%\n"
    }
   },
   "outputs": [],
   "source": [
    "#query engine and retriver will be used in tools\n",
    "def create_query_engine(index, max_top_k=20, similarity_top_k=20, similarity_cutoff=0.7, \n",
    "                        vector_store_info=None, synthesizer_response_mode=\"tree_summarize\",\n",
    "                        retriever_uses_meta=True, return_retriever=True):\n",
    "    if not retriever_uses_meta:\n",
    "        #this uses only text information\n",
    "        retriever = VectorIndexRetriever(\n",
    "            index=index,\n",
    "            similarity_top_k=similarity_top_k,\n",
    "        )\n",
    "    else:\n",
    "        #this one should automatically use metadata\n",
    "        retriever = VectorIndexAutoRetriever(\n",
    "            index, vector_store_info=vector_store_info,\n",
    "            max_top_k=max_top_k,\n",
    "            similarity_top_k=similarity_top_k\n",
    "        )\n",
    "\n",
    "    # Set up the synthesizer\n",
    "    my_synthesizer = get_response_synthesizer(response_mode=synthesizer_response_mode)\n",
    "    \n",
    "    query_engine = RetrieverQueryEngine(\n",
    "        retriever=retriever,\n",
    "        response_synthesizer=my_synthesizer,\n",
    "        node_postprocessors=[\n",
    "            SimilarityPostprocessor(similarity_cutoff=similarity_cutoff)\n",
    "        ]\n",
    "    )\n",
    "    if return_retriever:\n",
    "        return query_engine, retriever\n",
    "    return query_engine\n",
    "\n",
    "query_engine, retriever=create_query_engine(index, max_top_k, \n",
    "                                            similarity_top_k, similarity_cutoff, \n",
    "                                            vector_store_info)"
   ]
  },
  {
   "cell_type": "markdown",
   "id": "340d510d-ebcc-4143-bf92-9b95fe19b0ed",
   "metadata": {
    "pycharm": {
     "name": "#%% md\n"
    }
   },
   "source": [
    "# Tools that do the aggregation "
   ]
  },
  {
   "cell_type": "markdown",
   "id": "569b52df-2fa9-4a7c-8126-c8ba6a548200",
   "metadata": {
    "pycharm": {
     "name": "#%% md\n"
    }
   },
   "source": [
    "## Define functions/tools that will do heavy lifting. Functions will use retrieved nodes to aggregate data for answers"
   ]
  },
  {
   "cell_type": "code",
   "execution_count": 25,
   "id": "9676016f-778b-485b-bc52-be1bdbda674c",
   "metadata": {
    "pycharm": {
     "name": "#%%\n"
    }
   },
   "outputs": [],
   "source": [
    "#each function uses query engine/retriever to get textual answer or nodes and genertae answer based on the nodes\n",
    "#you can add more functions, just add informative description and later turn it into a tool\n",
    "\n",
    "def count_of_events(text: str) -> str:\n",
    "    \"\"\"Given a text string finds number of events in database and returns the answer.\"\"\"\n",
    "    nodes=retriever.retrieve(text)\n",
    "    return f\"Number of events containing '{text}' is: {len(nodes)}\"\n",
    "\n",
    "\n",
    "def changes_in_events(text_period1: str, text_period2:str) -> str:\n",
    "    \"\"\"Compares changes in events in two time periods. Makes two queries: text_period1 uses origial text but filters for period 1,\n",
    "    text_period2 uses origial text but filters for period 2. \"\"\"\n",
    "    \n",
    "    nodes_period1=retriever.retrieve(text_period1)\n",
    "    nodes_period2=retriever.retrieve(text_period2)\n",
    "    change_factor=len(nodes_period2)/len(nodes_period1)\n",
    "    return f\"Most significant change is that number of events changes by a factor of {change_factor}\"\n",
    "\n",
    "def show_sample_events(text: str, n:int=100) -> str:\n",
    "    \"\"\"Given a text string finds events and returns n of them\"\"\"\n",
    "    nodes=retriever.retrieve(text)\n",
    "    \n",
    "    return f\"Events which contain '{text}' are: {[t.text for t in nodes[:n]]}\"\n",
    "\n",
    "def plot_events_timeline(text: str, n:int=100, time_granularity:str='day') -> str:\n",
    "    \"\"\"Given a text string finds events and their count distribution on timeline and plots it.\n",
    "    'n' is the number of nodes to consider, by default 100\n",
    "    'time_granularity' is granularity of time for plotting, must be one of: 'day', 'week' or 'month'\n",
    "    Returns message plot is generated and matplotlib plot object\"\"\"\n",
    "    \n",
    "    if time_granularity not in ['day', 'week', 'month']:\n",
    "        time_granularity='day'\n",
    "        \n",
    "    nodes=retriever.retrieve(text)\n",
    "    df_nodes=pd.DataFrame([n.to_dict()['node']|n.to_dict()['node']['metadata'] for n in nodes])\n",
    "    plot=df_nodes.groupby(['year', time_granularity])['id_'].count().unstack().T.plot()\n",
    "    plt.savefig('temp/plot.png')\n",
    "    plt.show()\n",
    "    \n",
    "    return \"plot is generated and visible here:temp/plot.png\", plot\n",
    "\n",
    "def plot_events_metadata_distribution(text: str, metadata_key:str, n:int=100) -> str:\n",
    "    \"\"\"Given a text string finds events and counts their metadata_key distribution and plots it.\n",
    "    'n' is the number of nodes to consider, by default 100\n",
    "    'metadata_key' is metadata column that is used for dividing data into groups\"\"\"\n",
    "        \n",
    "    nodes=retriever.retrieve(text)\n",
    "    df_nodes=pd.DataFrame([n.to_dict()['node']|n.to_dict()['node']['metadata'] for n in nodes])\n",
    "    plot=df_nodes[metadata_key].value_counts().plot(kind='barh')\n",
    "    plt.savefig('temp/plot.png')\n",
    "    plt.show()\n",
    "    \n",
    "    return \"plot is generated and visible here:temp/plot.png\"\n",
    "\n",
    "def summarize_texts(query_text: str, n:int=100) -> str:\n",
    "    \"\"\"Given a query_text string finds events and summarizes them. Query atring should be same as original input from user. \n",
    "    Uses LLM to summarize texts not metadata\"\"\"\n",
    "    response=query_engine.query(query_text)\n",
    "    \n",
    "    return f\"Summary is: {response.response}\"\n",
    "\n",
    "count_of_events_tool = FunctionTool.from_defaults(fn=count_of_events)\n",
    "changes_in_events_tool = FunctionTool.from_defaults(fn=changes_in_events)\n",
    "show_sample_events_tool = FunctionTool.from_defaults(fn=show_sample_events)\n",
    "plot_events_timeline_tool = FunctionTool.from_defaults(fn=plot_events_timeline)\n",
    "plot_events_metadata_distribution_tool = FunctionTool.from_defaults(fn=plot_events_metadata_distribution)\n",
    "summarize_texts_tool = FunctionTool.from_defaults(fn=summarize_texts)\n",
    "\n",
    "tools=[count_of_events_tool, changes_in_events_tool, show_sample_events_tool, plot_events_timeline_tool, \n",
    "       plot_events_metadata_distribution_tool, summarize_texts_tool]"
   ]
  },
  {
   "cell_type": "markdown",
   "id": "b209bd27-b10e-4472-95a4-5e5c920af5d1",
   "metadata": {
    "pycharm": {
     "name": "#%% md\n"
    }
   },
   "source": [
    "# Create agent"
   ]
  },
  {
   "cell_type": "code",
   "execution_count": 22,
   "id": "d309bc4f-f080-486b-8b4f-cc6ff50371a3",
   "metadata": {
    "pycharm": {
     "name": "#%%\n"
    }
   },
   "outputs": [],
   "source": [
    "agent = OpenAIAgent.from_tools(tools, verbose=True)\n",
    " \n",
    "def chat(agent, text):\n",
    "    chat_resp=agent.chat(text)\n",
    "    return chat_resp.response"
   ]
  },
  {
   "cell_type": "markdown",
   "id": "252c150f-f0ba-4406-83ce-7b1c7bf33782",
   "metadata": {
    "pycharm": {
     "name": "#%% md\n"
    }
   },
   "source": [
    "# Chat with agent"
   ]
  },
  {
   "cell_type": "markdown",
   "id": "55a47b25-a110-453c-bed7-940d6969ada5",
   "metadata": {
    "jp-MarkdownHeadingCollapsed": true,
    "pycharm": {
     "name": "#%% md\n"
    },
    "tags": []
   },
   "source": [
    "## High level usage"
   ]
  },
  {
   "cell_type": "code",
   "execution_count": 16,
   "id": "e1701750-f13b-449e-8f72-2c37facdb435",
   "metadata": {
    "pycharm": {
     "name": "#%%\n"
    }
   },
   "outputs": [
    {
     "ename": "NameError",
     "evalue": "name 'df' is not defined",
     "output_type": "error",
     "traceback": [
      "\u001b[0;31m---------------------------------------------------------------------------\u001b[0m",
      "\u001b[0;31mNameError\u001b[0m                                 Traceback (most recent call last)",
      "Input \u001b[0;32mIn [16]\u001b[0m, in \u001b[0;36m<cell line: 2>\u001b[0;34m()\u001b[0m\n\u001b[1;32m      1\u001b[0m \u001b[38;5;66;03m#here we can compare chat result with original data\u001b[39;00m\n\u001b[0;32m----> 2\u001b[0m \u001b[43mdf\u001b[49m[(df\u001b[38;5;241m.\u001b[39mspeaker\u001b[38;5;241m==\u001b[39m\u001b[38;5;124m'\u001b[39m\u001b[38;5;124mMaria Jufereva-Skuratovski\u001b[39m\u001b[38;5;124m'\u001b[39m)]\u001b[38;5;241m.\u001b[39mmonth\u001b[38;5;241m.\u001b[39mvalue_counts()\n",
      "\u001b[0;31mNameError\u001b[0m: name 'df' is not defined"
     ]
    }
   ],
   "source": [
    "#here we can compare chat result with original data\n",
    "df[(df.speaker=='Maria Jufereva-Skuratovski')].month.value_counts()"
   ]
  },
  {
   "cell_type": "code",
   "execution_count": 21,
   "id": "9e1f309d-a926-4f7b-8645-2054f60139c0",
   "metadata": {
    "pycharm": {
     "name": "#%%\n"
    }
   },
   "outputs": [
    {
     "data": {
      "text/plain": [
       "19    26\n",
       "12    7 \n",
       "3     6 \n",
       "14    5 \n",
       "16    3 \n",
       "1     2 \n",
       "8     2 \n",
       "20    2 \n",
       "7     1 \n",
       "Name: day, dtype: int64"
      ]
     },
     "execution_count": 21,
     "metadata": {},
     "output_type": "execute_result"
    }
   ],
   "source": [
    "df[(df.speaker=='Maria Jufereva-Skuratovski')&(df.month==6)].day.value_counts()"
   ]
  },
  {
   "cell_type": "code",
   "execution_count": 25,
   "id": "f0add12d-e71f-4c94-a610-6475c270344a",
   "metadata": {
    "pycharm": {
     "name": "#%%\n"
    }
   },
   "outputs": [
    {
     "name": "stdout",
     "output_type": "stream",
     "text": [
      "Added user message to memory: How many segments there are where speaker is 'Maria Jufereva-Skuratovski' and month is 9?\n",
      "INFO:httpx:HTTP Request: POST https://api.openai.com/v1/chat/completions \"HTTP/1.1 200 OK\"\n",
      "HTTP Request: POST https://api.openai.com/v1/chat/completions \"HTTP/1.1 200 OK\"\n",
      "=== Calling Function ===\n",
      "Calling function: count_of_events with args: {\n",
      "  \"text\": \"speaker: 'Maria Jufereva-Skuratovski' AND month: 9\"\n",
      "}\n",
      "INFO:httpx:HTTP Request: POST https://api.openai.com/v1/chat/completions \"HTTP/1.1 200 OK\"\n",
      "HTTP Request: POST https://api.openai.com/v1/chat/completions \"HTTP/1.1 200 OK\"\n",
      "INFO:llama_index.indices.vector_store.retrievers.auto_retriever.auto_retriever:Using query str: \n",
      "Using query str: \n",
      "INFO:llama_index.indices.vector_store.retrievers.auto_retriever.auto_retriever:Using filters: [('speaker', '==', 'Maria Jufereva-Skuratovski'), ('month', '==', 9)]\n",
      "Using filters: [('speaker', '==', 'Maria Jufereva-Skuratovski'), ('month', '==', 9)]\n",
      "INFO:llama_index.indices.vector_store.retrievers.auto_retriever.auto_retriever:Using top_k: 10\n",
      "Using top_k: 10\n",
      "Got output: Number of events containing 'speaker: 'Maria Jufereva-Skuratovski' AND month: 9' is: 10\n",
      "========================\n",
      "\n",
      "INFO:httpx:HTTP Request: POST https://api.openai.com/v1/chat/completions \"HTTP/1.1 200 OK\"\n",
      "HTTP Request: POST https://api.openai.com/v1/chat/completions \"HTTP/1.1 200 OK\"\n"
     ]
    },
    {
     "data": {
      "text/plain": [
       "\"There are 10 segments where the speaker is 'Maria Jufereva-Skuratovski' and the month is 9.\""
      ]
     },
     "execution_count": 25,
     "metadata": {},
     "output_type": "execute_result"
    }
   ],
   "source": [
    "chat(agent, \"How many segments there are where speaker is 'Maria Jufereva-Skuratovski' and month is 9?\")"
   ]
  },
  {
   "cell_type": "code",
   "execution_count": 23,
   "id": "1685ad2c-1e22-4c83-b4cd-9f937d084925",
   "metadata": {
    "pycharm": {
     "name": "#%%\n"
    }
   },
   "outputs": [
    {
     "name": "stdout",
     "output_type": "stream",
     "text": [
      "STARTING TURN 1\n",
      "---------------\n",
      "\n",
      "INFO:httpx:HTTP Request: POST https://api.openai.com/v1/chat/completions \"HTTP/1.1 200 OK\"\n",
      "HTTP Request: POST https://api.openai.com/v1/chat/completions \"HTTP/1.1 200 OK\"\n",
      "=== Calling Function ===\n",
      "Calling function: plot_events_timeline with args: {\n",
      "  \"text\": \"speaker: 'Maria Jufereva-Skuratovski' AND month: 6\",\n",
      "  \"time_granularity\": \"day\"\n",
      "}\n",
      "INFO:httpx:HTTP Request: POST https://api.openai.com/v1/chat/completions \"HTTP/1.1 200 OK\"\n",
      "HTTP Request: POST https://api.openai.com/v1/chat/completions \"HTTP/1.1 200 OK\"\n",
      "INFO:llama_index.indices.vector_store.retrievers.auto_retriever.auto_retriever:Using query str: \n",
      "Using query str: \n",
      "INFO:llama_index.indices.vector_store.retrievers.auto_retriever.auto_retriever:Using filters: {'speaker': 'Maria Jufereva-Skuratovski', 'month': 6}\n",
      "Using filters: {'speaker': 'Maria Jufereva-Skuratovski', 'month': 6}\n",
      "INFO:llama_index.indices.vector_store.retrievers.auto_retriever.auto_retriever:Using top_k: 100\n",
      "Using top_k: 100\n"
     ]
    },
    {
     "data": {
      "image/png": "[encoded data removed]",
      "text/plain": [
       "<Figure size 432x288 with 1 Axes>"
      ]
     },
     "metadata": {
      "needs_background": "light"
     },
     "output_type": "display_data"
    },
    {
     "name": "stdout",
     "output_type": "stream",
     "text": [
      "Got output: ('plot is generated', <AxesSubplot:xlabel='day'>)\n",
      "========================\n",
      "\n",
      "STARTING TURN 2\n",
      "---------------\n",
      "\n",
      "INFO:httpx:HTTP Request: POST https://api.openai.com/v1/chat/completions \"HTTP/1.1 200 OK\"\n",
      "HTTP Request: POST https://api.openai.com/v1/chat/completions \"HTTP/1.1 200 OK\"\n"
     ]
    },
    {
     "data": {
      "text/plain": [
       "\"Here is the plot showing the count of segments on a daily basis where the speaker is 'Maria Jufereva-Skuratovski' and the month is 6.\""
      ]
     },
     "execution_count": 23,
     "metadata": {},
     "output_type": "execute_result"
    }
   ],
   "source": [
    "chat(agent, \"Plot ma a count of segments on a daily basis where speaker is 'Maria Jufereva-Skuratovski' and month is 6\")"
   ]
  },
  {
   "cell_type": "code",
   "execution_count": 51,
   "id": "e5f9dd9f-e222-4e88-b619-fb5f91a08998",
   "metadata": {
    "pycharm": {
     "name": "#%%\n"
    }
   },
   "outputs": [
    {
     "name": "stdout",
     "output_type": "stream",
     "text": [
      "STARTING TURN 1\n",
      "---------------\n",
      "\n",
      "INFO:httpx:HTTP Request: POST https://api.openai.com/v1/chat/completions \"HTTP/1.1 200 OK\"\n",
      "HTTP Request: POST https://api.openai.com/v1/chat/completions \"HTTP/1.1 200 OK\"\n",
      "=== Calling Function ===\n",
      "Calling function: count_of_events with args: {\n",
      "  \"text\": \"speaker:Tõnis Mölder\"\n",
      "}\n",
      "INFO:httpx:HTTP Request: POST https://api.openai.com/v1/chat/completions \"HTTP/1.1 200 OK\"\n",
      "HTTP Request: POST https://api.openai.com/v1/chat/completions \"HTTP/1.1 200 OK\"\n",
      "INFO:llama_index.indices.vector_store.retrievers.auto_retriever.auto_retriever:Using query str: \n",
      "Using query str: \n",
      "INFO:llama_index.indices.vector_store.retrievers.auto_retriever.auto_retriever:Using filters: {'speaker': 'Tõnis Mölder'}\n",
      "Using filters: {'speaker': 'Tõnis Mölder'}\n",
      "INFO:llama_index.indices.vector_store.retrievers.auto_retriever.auto_retriever:Using top_k: 20\n",
      "Using top_k: 20\n",
      "Got output: Number of events containing 'speaker:Tõnis Mölder' is: 20\n",
      "========================\n",
      "\n",
      "STARTING TURN 2\n",
      "---------------\n",
      "\n",
      "INFO:httpx:HTTP Request: POST https://api.openai.com/v1/chat/completions \"HTTP/1.1 200 OK\"\n",
      "HTTP Request: POST https://api.openai.com/v1/chat/completions \"HTTP/1.1 200 OK\"\n"
     ]
    },
    {
     "data": {
      "text/plain": [
       "\"There are 20 segments where the speaker is 'Tõnis Mölder'.\""
      ]
     },
     "execution_count": 51,
     "metadata": {},
     "output_type": "execute_result"
    }
   ],
   "source": [
    "chat(agent, \"How many segments there are where speaker is 'Tõnis Mölder'?\")"
   ]
  },
  {
   "cell_type": "code",
   "execution_count": 70,
   "id": "177963f7-934a-43db-911f-757195b205f8",
   "metadata": {
    "pycharm": {
     "name": "#%%\n"
    }
   },
   "outputs": [
    {
     "name": "stdout",
     "output_type": "stream",
     "text": [
      "STARTING TURN 1\n",
      "---------------\n",
      "\n",
      "INFO:httpx:HTTP Request: POST https://api.openai.com/v1/chat/completions \"HTTP/1.1 200 OK\"\n",
      "HTTP Request: POST https://api.openai.com/v1/chat/completions \"HTTP/1.1 200 OK\"\n",
      "=== Calling Function ===\n",
      "Calling function: count_of_events with args: {\n",
      "\"text\": \"segments where speaker is 'tõnis mölder'\"\n",
      "}\n",
      "INFO:httpx:HTTP Request: POST https://api.openai.com/v1/chat/completions \"HTTP/1.1 200 OK\"\n",
      "HTTP Request: POST https://api.openai.com/v1/chat/completions \"HTTP/1.1 200 OK\"\n",
      "INFO:llama_index.indices.vector_store.retrievers.auto_retriever.auto_retriever:Using query str: \n",
      "Using query str: \n",
      "INFO:llama_index.indices.vector_store.retrievers.auto_retriever.auto_retriever:Using filters: {'speaker': 'tõnis mölder'}\n",
      "Using filters: {'speaker': 'tõnis mölder'}\n",
      "INFO:llama_index.indices.vector_store.retrievers.auto_retriever.auto_retriever:Using top_k: 100\n",
      "Using top_k: 100\n",
      "Got output: Number of events containing 'segments where speaker is 'tõnis mölder'' is: 38\n",
      "========================\n",
      "\n",
      "STARTING TURN 2\n",
      "---------------\n",
      "\n",
      "INFO:httpx:HTTP Request: POST https://api.openai.com/v1/chat/completions \"HTTP/1.1 200 OK\"\n",
      "HTTP Request: POST https://api.openai.com/v1/chat/completions \"HTTP/1.1 200 OK\"\n"
     ]
    },
    {
     "data": {
      "text/plain": [
       "\"There are 38 segments where the speaker is 'tõnis mölder'.\""
      ]
     },
     "execution_count": 70,
     "metadata": {},
     "output_type": "execute_result"
    }
   ],
   "source": [
    "chat(agent, \"How many segments there are where speaker is 'tõnis mölder'?\")"
   ]
  },
  {
   "cell_type": "markdown",
   "id": "b84ce509-a9a3-46c4-ab4b-778d378cadae",
   "metadata": {
    "jp-MarkdownHeadingCollapsed": true,
    "pycharm": {
     "name": "#%% md\n"
    },
    "tags": []
   },
   "source": [
    "### See if can separate metadata vs finding itself topics"
   ]
  },
  {
   "cell_type": "code",
   "execution_count": 29,
   "id": "c63d927a-3692-4ade-890e-455296cfb11e",
   "metadata": {
    "pycharm": {
     "name": "#%%\n"
    }
   },
   "outputs": [
    {
     "name": "stdout",
     "output_type": "stream",
     "text": [
      "STARTING TURN 1\n",
      "---------------\n",
      "\n",
      "INFO:httpx:HTTP Request: POST https://api.openai.com/v1/chat/completions \"HTTP/1.1 200 OK\"\n",
      "HTTP Request: POST https://api.openai.com/v1/chat/completions \"HTTP/1.1 200 OK\"\n",
      "=== Calling Function ===\n",
      "Calling function: plot_events_metadata_distribution with args: {\n",
      "  \"text\": \"segments\",\n",
      "  \"metadata_key\": \"topic\",\n",
      "  \"n\": 100\n",
      "}\n",
      "INFO:httpx:HTTP Request: POST https://api.openai.com/v1/chat/completions \"HTTP/1.1 200 OK\"\n",
      "HTTP Request: POST https://api.openai.com/v1/chat/completions \"HTTP/1.1 200 OK\"\n",
      "INFO:llama_index.indices.vector_store.retrievers.auto_retriever.auto_retriever:Using query str: segments\n",
      "Using query str: segments\n",
      "INFO:llama_index.indices.vector_store.retrievers.auto_retriever.auto_retriever:Using filters: {}\n",
      "Using filters: {}\n",
      "INFO:llama_index.indices.vector_store.retrievers.auto_retriever.auto_retriever:Using top_k: 100\n",
      "Using top_k: 100\n",
      "INFO:httpx:HTTP Request: POST https://api.openai.com/v1/embeddings \"HTTP/1.1 200 OK\"\n",
      "HTTP Request: POST https://api.openai.com/v1/embeddings \"HTTP/1.1 200 OK\"\n",
      "Embedded weaviate wasn't listening on port 8079, so starting embedded weaviate again\n",
      "Started /notebooks/rag_advanced/weaviate_storage/: process ID 467\n"
     ]
    },
    {
     "name": "stderr",
     "output_type": "stream",
     "text": [
      "{\"action\":\"startup\",\"default_vectorizer_module\":\"none\",\"level\":\"info\",\"msg\":\"the default vectorizer modules is set to \\\"none\\\", as a result all new schema classes without an explicit vectorizer setting, will use this vectorizer\",\"time\":\"2024-01-01T13:49:52Z\"}\n",
      "{\"action\":\"startup\",\"auto_schema_enabled\":true,\"level\":\"info\",\"msg\":\"auto schema enabled setting is set to \\\"true\\\"\",\"time\":\"2024-01-01T13:49:52Z\"}\n",
      "{\"level\":\"info\",\"msg\":\"No resource limits set, weaviate will use all available memory and CPU. To limit resources, set LIMIT_RESOURCES=true\",\"time\":\"2024-01-01T13:49:52Z\"}\n",
      "{\"level\":\"warning\",\"msg\":\"Multiple vector spaces are present, GraphQL Explore and REST API list objects endpoint module include params has been disabled as a result.\",\"time\":\"2024-01-01T13:49:53Z\"}\n",
      "{\"action\":\"grpc_startup\",\"level\":\"info\",\"msg\":\"grpc server listening at [::]:50060\",\"time\":\"2024-01-01T13:49:53Z\"}\n",
      "{\"action\":\"restapi_management\",\"level\":\"info\",\"msg\":\"Serving weaviate at http://127.0.0.1:8079\",\"time\":\"2024-01-01T13:49:53Z\"}\n"
     ]
    },
    {
     "name": "stdout",
     "output_type": "stream",
     "text": [
      "Got output: Error: Filter is missing required fields `path` or `operands`. Given: {}\n",
      "========================\n",
      "\n",
      "STARTING TURN 2\n",
      "---------------\n",
      "\n"
     ]
    },
    {
     "name": "stderr",
     "output_type": "stream",
     "text": [
      "{\"action\":\"read_disk_use\",\"level\":\"warning\",\"msg\":\"disk usage currently at 80.06%, threshold set to 80.00%\",\"path\":\"/notebooks/rag_advanced/weaviate_storage/\",\"time\":\"2024-01-01T13:49:53Z\"}\n"
     ]
    },
    {
     "name": "stdout",
     "output_type": "stream",
     "text": [
      "INFO:httpx:HTTP Request: POST https://api.openai.com/v1/chat/completions \"HTTP/1.1 200 OK\"\n",
      "HTTP Request: POST https://api.openai.com/v1/chat/completions \"HTTP/1.1 200 OK\"\n",
      "=== Calling Function ===\n",
      "Calling function: plot_events_metadata_distribution with args: {\n",
      "  \"text\": \"segments.speaker:'Maria Jufereva-Skuratovski' AND segments.month:9\",\n",
      "  \"metadata_key\": \"topic\",\n",
      "  \"n\": 100\n",
      "}\n"
     ]
    },
    {
     "name": "stderr",
     "output_type": "stream",
     "text": [
      "{\"level\":\"info\",\"msg\":\"Completed loading shard riigikogu_meta_index_LKP5PZ6R90pi in 1.160589598s\",\"time\":\"2024-01-01T13:49:55Z\"}\n"
     ]
    },
    {
     "name": "stdout",
     "output_type": "stream",
     "text": [
      "INFO:httpx:HTTP Request: POST https://api.openai.com/v1/chat/completions \"HTTP/1.1 200 OK\"\n",
      "HTTP Request: POST https://api.openai.com/v1/chat/completions \"HTTP/1.1 200 OK\"\n",
      "INFO:llama_index.indices.vector_store.retrievers.auto_retriever.auto_retriever:Using query str: \n",
      "Using query str: \n",
      "INFO:llama_index.indices.vector_store.retrievers.auto_retriever.auto_retriever:Using filters: {'speaker': 'Maria Jufereva-Skuratovski', 'month': 9}\n",
      "Using filters: {'speaker': 'Maria Jufereva-Skuratovski', 'month': 9}\n",
      "INFO:llama_index.indices.vector_store.retrievers.auto_retriever.auto_retriever:Using top_k: 100\n",
      "Using top_k: 100\n"
     ]
    },
    {
     "data": {
      "image/png": "[encoded data removed]",
      "text/plain": [
       "<Figure size 432x288 with 1 Axes>"
      ]
     },
     "metadata": {
      "needs_background": "light"
     },
     "output_type": "display_data"
    },
    {
     "name": "stdout",
     "output_type": "stream",
     "text": [
      "Got output: plot is generated\n",
      "========================\n",
      "\n",
      "STARTING TURN 3\n",
      "---------------\n",
      "\n",
      "INFO:httpx:HTTP Request: POST https://api.openai.com/v1/chat/completions \"HTTP/1.1 200 OK\"\n",
      "HTTP Request: POST https://api.openai.com/v1/chat/completions \"HTTP/1.1 200 OK\"\n"
     ]
    },
    {
     "data": {
      "text/plain": [
       "\"Here is the topic distribution of segments where the speaker is 'Maria Jufereva-Skuratovski' and the month is 9:\\n\\n![Topic Distribution](plot.png)\""
      ]
     },
     "execution_count": 29,
     "metadata": {},
     "output_type": "execute_result"
    },
    {
     "name": "stderr",
     "output_type": "stream",
     "text": [
      "{\"action\":\"hnsw_vector_cache_prefill\",\"count\":502200,\"index_id\":\"main\",\"level\":\"info\",\"limit\":1000000000000,\"msg\":\"prefilled vector cache\",\"time\":\"2024-01-01T13:50:08Z\",\"took\":13744156868}\n",
      "{\"action\":\"read_disk_use\",\"level\":\"warning\",\"msg\":\"disk usage currently at 80.06%, threshold set to 80.00%\",\"path\":\"/notebooks/rag_advanced/weaviate_storage/\",\"time\":\"2024-01-01T13:50:24Z\"}\n",
      "{\"action\":\"read_disk_use\",\"level\":\"warning\",\"msg\":\"disk usage currently at 80.04%, threshold set to 80.00%\",\"path\":\"/notebooks/rag_advanced/weaviate_storage/\",\"time\":\"2024-01-01T13:52:24Z\"}\n"
     ]
    }
   ],
   "source": [
    "chat(agent, \"Plot me a topic distribution of topics of segments where speaker is 'Maria Jufereva-Skuratovski' and month is 9?\")"
   ]
  },
  {
   "cell_type": "code",
   "execution_count": 51,
   "id": "f58a0eba-faf7-4a78-8a0b-1f3fc47f71f2",
   "metadata": {
    "pycharm": {
     "name": "#%%\n"
    }
   },
   "outputs": [
    {
     "name": "stdout",
     "output_type": "stream",
     "text": [
      "STARTING TURN 1\n",
      "---------------\n",
      "\n",
      "HTTP Request: POST https://api.openai.com/v1/chat/completions \"HTTP/1.1 200 OK\"\n"
     ]
    },
    {
     "data": {
      "text/plain": [
       "\"I apologize for the inconvenience. Here is a short summary of the topics discussed in segments where the speaker is 'Maria Jufereva-Skuratovski' and the month is September (9):\\n\\n1. The presence of vehicles with Russian license plates in Estonia and the need to identify whether they are for commercial purposes or privately owned.\\n2. The challenges faced by people with disabilities in society and the need for better support and employment opportunities.\\n3. The increase in the number of teenagers and children seeking psychological assistance during the COVID-19 crisis and the importance of timely and adequate support.\\n4. The need for a well-thought-out and transparent family policy in the country, highlighting the inconsistency in government actions regarding family benefits and the impact on families' well-being and trust in the government.\\n\\nPlease note that these summaries are based on a limited sample of events and may not capture the full range of topics discussed by Maria Jufereva-Skuratovski in September.\""
      ]
     },
     "execution_count": 51,
     "metadata": {},
     "output_type": "execute_result"
    }
   ],
   "source": [
    "chat(agent, \"Please make a short summary of topics of segments where speaker is 'Maria Jufereva-Skuratovski' and month is 9?\")"
   ]
  },
  {
   "cell_type": "code",
   "execution_count": 46,
   "id": "acc8517b-5730-43cc-912f-37bfa421e215",
   "metadata": {
    "pycharm": {
     "name": "#%%\n"
    }
   },
   "outputs": [
    {
     "name": "stdout",
     "output_type": "stream",
     "text": [
      "HTTP Request: POST https://api.openai.com/v1/chat/completions \"HTTP/1.1 200 OK\"\n",
      "Using query str: \n",
      "Using filters: {'speaker': 'Maria Jufereva-Skuratovski', 'month': 9}\n",
      "Using top_k: 100\n",
      "HTTP Request: POST https://api.openai.com/v1/chat/completions \"HTTP/1.1 200 OK\"\n"
     ]
    },
    {
     "data": {
      "text/plain": [
       "'The topics of the segments where the speaker is Maria Jufereva-Skuratovski and the month is September are as follows:\\n1. Segment 1: The topic is related to foreign policy and the issue of cars with Russian license plates in Estonia and the European Union.\\n2. Segment 2: The topic is about the proposed amendment to the law on social benefits for disabled people and the employment opportunities for disabled individuals.\\n3. Segment 3: The topic is about the increase in the number of teenagers and children needing psychological support during the COVID-19 crisis and the availability of assistance for them.\\n4. Segment 4: The topic is about the proposed amendment to the law on family benefits and the inconsistency in government policies regarding family support.'"
      ]
     },
     "execution_count": 46,
     "metadata": {},
     "output_type": "execute_result"
    }
   ],
   "source": [
    "# response=query_engine.query(\"Please make a short summary of topics of segments where speaker is 'Maria Jufereva-Skuratovski' and month is 9?\")\n",
    "# response.response"
   ]
  },
  {
   "cell_type": "code",
   "execution_count": 52,
   "id": "227cfe19-642b-4958-a4c3-3c3bd93bb97c",
   "metadata": {
    "pycharm": {
     "name": "#%%\n"
    }
   },
   "outputs": [],
   "source": [
    "# chat(agent, \"Please make a short overview of what speaker 'Maria Jufereva-Skuratovski' is talking about in texts where month is 9\")"
   ]
  },
  {
   "cell_type": "markdown",
   "id": "6d2294d4-8709-4a12-b8fb-7eed390aa96b",
   "metadata": {
    "jp-MarkdownHeadingCollapsed": true,
    "pycharm": {
     "name": "#%% md\n"
    },
    "tags": []
   },
   "source": [
    "## See if two time period comparison works"
   ]
  },
  {
   "cell_type": "code",
   "execution_count": 54,
   "id": "9cbd18b1-1fa6-4996-888b-8f492dfeb812",
   "metadata": {
    "pycharm": {
     "name": "#%%\n"
    }
   },
   "outputs": [
    {
     "name": "stdout",
     "output_type": "stream",
     "text": [
      "STARTING TURN 1\n",
      "---------------\n",
      "\n",
      "HTTP Request: POST https://api.openai.com/v1/chat/completions \"HTTP/1.1 200 OK\"\n",
      "=== Calling Function ===\n",
      "Calling function: changes_in_events with args: {\n",
      "  \"text_period1\": \"speaker: 'Maria Jufereva-Skuratovski' and month: 6\",\n",
      "  \"text_period2\": \"speaker: 'Maria Jufereva-Skuratovski' and month: 9\"\n",
      "}\n",
      "HTTP Request: POST https://api.openai.com/v1/chat/completions \"HTTP/1.1 200 OK\"\n",
      "Using query str: \n",
      "Using filters: {'speaker': 'Maria Jufereva-Skuratovski', 'month': 6}\n",
      "Using top_k: 100\n",
      "Embedded weaviate wasn't listening on port 8079, so starting embedded weaviate again\n",
      "Started /root/.cache/weaviate-embedded: process ID 532\n"
     ]
    },
    {
     "name": "stderr",
     "output_type": "stream",
     "text": [
      "{\"action\":\"startup\",\"default_vectorizer_module\":\"none\",\"level\":\"info\",\"msg\":\"the default vectorizer modules is set to \\\"none\\\", as a result all new schema classes without an explicit vectorizer setting, will use this vectorizer\",\"time\":\"2023-12-29T09:36:17Z\"}\n",
      "{\"action\":\"startup\",\"auto_schema_enabled\":true,\"level\":\"info\",\"msg\":\"auto schema enabled setting is set to \\\"true\\\"\",\"time\":\"2023-12-29T09:36:17Z\"}\n",
      "{\"level\":\"info\",\"msg\":\"No resource limits set, weaviate will use all available memory and CPU. To limit resources, set LIMIT_RESOURCES=true\",\"time\":\"2023-12-29T09:36:17Z\"}\n",
      "{\"level\":\"warning\",\"msg\":\"Multiple vector spaces are present, GraphQL Explore and REST API list objects endpoint module include params has been disabled as a result.\",\"time\":\"2023-12-29T09:36:17Z\"}\n",
      "{\"action\":\"grpc_startup\",\"level\":\"info\",\"msg\":\"grpc server listening at [::]:50060\",\"time\":\"2023-12-29T09:36:17Z\"}\n",
      "{\"action\":\"restapi_management\",\"level\":\"info\",\"msg\":\"Serving weaviate at http://127.0.0.1:8079\",\"time\":\"2023-12-29T09:36:17Z\"}\n",
      "{\"level\":\"info\",\"msg\":\"Completed loading shard riigikogu_meta_EaRFb0SkTY5q in 49.863385ms\",\"time\":\"2023-12-29T09:36:17Z\"}\n",
      "{\"action\":\"hnsw_vector_cache_prefill\",\"count\":23971,\"index_id\":\"main\",\"level\":\"info\",\"limit\":1000000000000,\"msg\":\"prefilled vector cache\",\"time\":\"2023-12-29T09:36:17Z\",\"took\":328925379}\n"
     ]
    },
    {
     "name": "stdout",
     "output_type": "stream",
     "text": [
      "HTTP Request: POST https://api.openai.com/v1/chat/completions \"HTTP/1.1 200 OK\"\n",
      "Using query str: \n",
      "Using filters: {'speaker': 'Maria Jufereva-Skuratovski', 'month': 9}\n",
      "Using top_k: 100\n",
      "Got output: Most significant change is that number of events changes by a factor of 0.17857142857142858\n",
      "========================\n",
      "\n",
      "STARTING TURN 2\n",
      "---------------\n",
      "\n",
      "HTTP Request: POST https://api.openai.com/v1/chat/completions \"HTTP/1.1 200 OK\"\n"
     ]
    },
    {
     "data": {
      "text/plain": [
       "\"The most significant change in events where the speaker is 'Maria Jufereva-Skuratovski' is that the number of events changes by a factor of 0.17857142857142858.\""
      ]
     },
     "execution_count": 54,
     "metadata": {},
     "output_type": "execute_result"
    }
   ],
   "source": [
    "chat(agent, \"Please show most significant changes in events where speaker is 'Maria Jufereva-Skuratovski' by comparing months 6 and 9?\")"
   ]
  },
  {
   "cell_type": "markdown",
   "id": "9426fb5e-2e72-436b-a335-0a918a1290bf",
   "metadata": {
    "jp-MarkdownHeadingCollapsed": true,
    "pycharm": {
     "name": "#%% md\n"
    },
    "tags": []
   },
   "source": [
    "## Use agent directly without a wrapper function"
   ]
  },
  {
   "cell_type": "code",
   "execution_count": 61,
   "id": "8794cdf1-b3d2-4a9e-a00d-a1a35060baca",
   "metadata": {
    "pycharm": {
     "name": "#%%\n"
    }
   },
   "outputs": [
    {
     "name": "stdout",
     "output_type": "stream",
     "text": [
      "STARTING TURN 1\n",
      "---------------\n",
      "\n",
      "HTTP Request: POST https://api.openai.com/v1/chat/completions \"HTTP/1.1 200 OK\"\n",
      "=== Calling Function ===\n",
      "Calling function: count_of_events with args: {\n",
      "  \"text\": \"speaker: 'Aleksei Jevgrafov'\"\n",
      "}\n",
      "HTTP Request: POST https://api.openai.com/v1/chat/completions \"HTTP/1.1 200 OK\"\n",
      "Using query str: \n",
      "Using filters: {'speaker': 'Aleksei Jevgrafov'}\n",
      "Using top_k: 100\n",
      "Got output: Number of events containing 'speaker: 'Aleksei Jevgrafov'' is: 10\n",
      "========================\n",
      "\n",
      "STARTING TURN 2\n",
      "---------------\n",
      "\n",
      "HTTP Request: POST https://api.openai.com/v1/chat/completions \"HTTP/1.1 200 OK\"\n"
     ]
    }
   ],
   "source": [
    "chat_resp=agent.chat( \"How many segments there are where speaker is 'Aleksei Jevgrafov'?\")"
   ]
  },
  {
   "cell_type": "code",
   "execution_count": 47,
   "id": "4308f989-3368-40ce-b7a2-2489f685b042",
   "metadata": {
    "pycharm": {
     "name": "#%%\n"
    }
   },
   "outputs": [
    {
     "data": {
      "text/plain": [
       "\"There are 10 segments where the speaker is 'Aleksei Jevgrafov'.\""
      ]
     },
     "execution_count": 47,
     "metadata": {},
     "output_type": "execute_result"
    }
   ],
   "source": [
    "chat_resp.response"
   ]
  },
  {
   "cell_type": "code",
   "execution_count": 48,
   "id": "5555085d-4790-4c63-80e5-92c6fef28e7b",
   "metadata": {
    "pycharm": {
     "name": "#%%\n"
    }
   },
   "outputs": [
    {
     "name": "stdout",
     "output_type": "stream",
     "text": [
      "STARTING TURN 1\n",
      "---------------\n",
      "\n",
      "INFO:httpx:HTTP Request: POST https://api.openai.com/v1/chat/completions \"HTTP/1.1 200 OK\"\n",
      "HTTP Request: POST https://api.openai.com/v1/chat/completions \"HTTP/1.1 200 OK\"\n",
      "HTTP Request: POST https://api.openai.com/v1/chat/completions \"HTTP/1.1 200 OK\"\n",
      "=== Calling Function ===\n",
      "Calling function: show_sample_events with args: {\n",
      "\"text\": \"segments where speaker is 'Aleksei Jevgrafov'\",\n",
      "\"n\": 5\n",
      "}\n",
      "INFO:httpx:HTTP Request: POST https://api.openai.com/v1/chat/completions \"HTTP/1.1 200 OK\"\n",
      "HTTP Request: POST https://api.openai.com/v1/chat/completions \"HTTP/1.1 200 OK\"\n",
      "HTTP Request: POST https://api.openai.com/v1/chat/completions \"HTTP/1.1 200 OK\"\n",
      "INFO:llama_index.indices.vector_store.retrievers.auto_retriever.auto_retriever:Using query str: \n",
      "Using query str: \n",
      "Using query str: \n",
      "INFO:llama_index.indices.vector_store.retrievers.auto_retriever.auto_retriever:Using filters: {'speaker': 'Aleksei Jevgrafov'}\n",
      "Using filters: {'speaker': 'Aleksei Jevgrafov'}\n",
      "Using filters: {'speaker': 'Aleksei Jevgrafov'}\n",
      "INFO:llama_index.indices.vector_store.retrievers.auto_retriever.auto_retriever:Using top_k: 20\n",
      "Using top_k: 20\n",
      "Using top_k: 20\n",
      "Got output: Events which contain 'segments where speaker is 'Aleksei Jevgrafov'' are: ['aitäh lugupeetud anti tänase päeva jooksul on räägitud nii palju narvast mulle isegi tundub et te elate rohkem narvas kui mina võin teile kinnitada et näiteks narva volikogu istungid toimuvad nüüd ainult eesti keeles ainult eesti keeles ja seoses sellega on küsimus et millal te ise olite narvas viimasel ajal ja kuidas te olete nii kindel et eesti keel narvas puudub üldse', 'ja nende jaoks on no nad ei saa aru miks nende rajoonides pandi kinni kontor ja kuidas nemad saavad seda teenust edasi kasutada seoses sellega on küsimus kas eesti postile on kõige tähtsam raha teenimine või ikka sotsiaalaspekt ka mängib rolli', 'lugupeetud minister neli aastat tagasi minu juures käisid eesti posti juhatuse liikmed ja nende põhimure oli just see mille kohta enn küsis nad väitsid et raha pole ja nemad ei saa avada uusi kontoreid aga on sunnitud kinni panema isegi vanad ja lõppude lõpuks on nii et narvas oli kokku kolm postkontorit aga jäi alles üks postkontor eakad inimesed on tõesti hädas sest nendel on ülikeeruline leida seda kontorit narva on suuruselt kolmas eesti linn ja linn on päris suur', 'aitäh lugupeetud minister kogu ida-virumaa huviga jälgib millega lõppeb see eriesindaja valikutegemise lugu aga küsimus on selles et kas te oma valiku tegemisel arvestate ivol-i ettepanekutega mis olid tehtud vist kevadel kuidas nendega on', 'lugupeetud riigikogu aseesimees lugupeetud minister head kolleegid vaatamata sellele et antud arupärimine oli esitatud peaaegu viis kuud tagasi 8. mail arupärimises esitatud küsimused ei ole kuidagi vananenud lugupeetud minister endiselt oleme mures ida-virumaa piirkonna arengu osas mis on seotud kõrge tööpuuduse majandusliku ebastabiilsuse ja muude sotsiaal-majanduslike probleemidega seetõttu soovime teada millised meetmed on valitsusel plaanis kasutusele võtta nende probleemide lahendamiseks ning millised on teie juhitava ministeeriumi ja valitsuse konkreetsed tegevused et toetada ida-virumaa arengut eeltoodust tulenevalt palume vastata järgmistele küsimustele']\n",
      "========================\n",
      "\n",
      "STARTING TURN 2\n",
      "---------------\n",
      "\n",
      "INFO:httpx:HTTP Request: POST https://api.openai.com/v1/chat/completions \"HTTP/1.1 200 OK\"\n",
      "HTTP Request: POST https://api.openai.com/v1/chat/completions \"HTTP/1.1 200 OK\"\n",
      "HTTP Request: POST https://api.openai.com/v1/chat/completions \"HTTP/1.1 200 OK\"\n"
     ]
    }
   ],
   "source": [
    "chat_resp2=agent.chat( \"What topics is speaker 'Aleksei Jevgrafov' talking about?\")"
   ]
  },
  {
   "cell_type": "code",
   "execution_count": 50,
   "id": "3b7826ab-1ff3-4784-aefe-ed4246f914b5",
   "metadata": {
    "pycharm": {
     "name": "#%%\n"
    }
   },
   "outputs": [
    {
     "name": "stdout",
     "output_type": "stream",
     "text": [
      "Here are some topics that speaker 'Aleksei Jevgrafov' is talking about:\n",
      "\n",
      "1. The use of the Estonian language in Narva and the lack of Estonian language services.\n",
      "2. The closure of offices in certain districts and the impact on the local community.\n",
      "3. The financial aspect of Estonian Post and the balance between profit-making and social aspects.\n",
      "4. The reduction of post offices in Narva and the difficulties faced by elderly people.\n",
      "5. The selection process for a special representative and the consideration of IVOL's proposals.\n",
      "\n",
      "These are just a few examples. Speaker 'Aleksei Jevgrafov' may discuss other topics as well.\n"
     ]
    }
   ],
   "source": [
    "print(chat_resp2.response)"
   ]
  },
  {
   "cell_type": "markdown",
   "id": "73e1a001-499a-491f-9461-583fff22a56c",
   "metadata": {
    "jp-MarkdownHeadingCollapsed": true,
    "pycharm": {
     "name": "#%% md\n"
    },
    "tags": []
   },
   "source": [
    "## Even lower level usage - see retrieved nodes"
   ]
  },
  {
   "cell_type": "code",
   "execution_count": 62,
   "id": "70b8bd40-1f84-4a05-a8e8-dceaa6c30d31",
   "metadata": {
    "pycharm": {
     "name": "#%%\n"
    }
   },
   "outputs": [
    {
     "data": {
      "text/plain": [
       "Helmen Kütt                             16\n",
       "Raimond Kaljulaid                       16\n",
       "Heljo Pikhof                            15\n",
       "Eesti Vabariigi president Alar Karis    13\n",
       "Karmen Joller                           13\n",
       "Kadri Tali                              12\n",
       "Marko Mihkelson                         11\n",
       "Maris Lauri                             11\n",
       "Signe Kivi                              11\n",
       "Aleksei Jevgrafov                       10\n",
       "Name: speaker, dtype: int64"
      ]
     },
     "execution_count": 62,
     "metadata": {},
     "output_type": "execute_result"
    }
   ],
   "source": [
    "#check speaker value counts\n",
    "df.speaker.value_counts()[70:80]"
   ]
  },
  {
   "cell_type": "code",
   "execution_count": 71,
   "id": "0a069090-596c-41e0-867c-2f4346c781c0",
   "metadata": {
    "pycharm": {
     "name": "#%%\n"
    }
   },
   "outputs": [
    {
     "name": "stdout",
     "output_type": "stream",
     "text": [
      "INFO:httpx:HTTP Request: POST https://api.openai.com/v1/chat/completions \"HTTP/1.1 200 OK\"\n",
      "HTTP Request: POST https://api.openai.com/v1/chat/completions \"HTTP/1.1 200 OK\"\n",
      "INFO:llama_index.indices.vector_store.retrievers.auto_retriever.auto_retriever:Using query str: \n",
      "Using query str: \n",
      "INFO:llama_index.indices.vector_store.retrievers.auto_retriever.auto_retriever:Using filters: {'speaker': 'Aleksei Jevgrafov'}\n",
      "Using filters: {'speaker': 'Aleksei Jevgrafov'}\n",
      "INFO:llama_index.indices.vector_store.retrievers.auto_retriever.auto_retriever:Using top_k: 100\n",
      "Using top_k: 100\n"
     ]
    }
   ],
   "source": [
    "nodes=retriever_meta.retrieve(\"How many segments there are where speaker is 'Aleksei Jevgrafov'?\")"
   ]
  },
  {
   "cell_type": "code",
   "execution_count": 41,
   "id": "57935997-ecfe-44b6-8fdc-20131ccbfa0d",
   "metadata": {
    "pycharm": {
     "name": "#%%\n"
    }
   },
   "outputs": [
    {
     "data": {
      "text/plain": [
       "10"
      ]
     },
     "execution_count": 41,
     "metadata": {},
     "output_type": "execute_result"
    }
   ],
   "source": [
    "len(nodes)"
   ]
  },
  {
   "cell_type": "code",
   "execution_count": 89,
   "id": "0cea26af-8ac2-4572-84db-14d7c52a68dd",
   "metadata": {
    "pycharm": {
     "name": "#%%\n"
    }
   },
   "outputs": [
    {
     "name": "stdout",
     "output_type": "stream",
     "text": [
      "STARTING TURN 1\n",
      "---------------\n",
      "\n",
      "INFO:httpx:HTTP Request: POST https://api.openai.com/v1/chat/completions \"HTTP/1.1 200 OK\"\n",
      "HTTP Request: POST https://api.openai.com/v1/chat/completions \"HTTP/1.1 200 OK\"\n",
      "HTTP Request: POST https://api.openai.com/v1/chat/completions \"HTTP/1.1 200 OK\"\n",
      "=== Calling Function ===\n",
      "Calling function: plot_events_timeline with args: {\n",
      "  \"text\": \"speaker:Aleksei Jevgrafov\",\n",
      "  \"time_granularity\": \"day\"\n",
      "}\n",
      "INFO:httpx:HTTP Request: POST https://api.openai.com/v1/chat/completions \"HTTP/1.1 200 OK\"\n",
      "HTTP Request: POST https://api.openai.com/v1/chat/completions \"HTTP/1.1 200 OK\"\n",
      "HTTP Request: POST https://api.openai.com/v1/chat/completions \"HTTP/1.1 200 OK\"\n",
      "INFO:llama_index.indices.vector_store.retrievers.auto_retriever.auto_retriever:Using query str: \n",
      "Using query str: \n",
      "Using query str: \n",
      "INFO:llama_index.indices.vector_store.retrievers.auto_retriever.auto_retriever:Using filters: {'speaker': 'Aleksei Jevgrafov'}\n",
      "Using filters: {'speaker': 'Aleksei Jevgrafov'}\n",
      "Using filters: {'speaker': 'Aleksei Jevgrafov'}\n",
      "INFO:llama_index.indices.vector_store.retrievers.auto_retriever.auto_retriever:Using top_k: 20\n",
      "Using top_k: 20\n",
      "Using top_k: 20\n"
     ]
    },
    {
     "data": {
      "image/png": "[encoded data removed]",
      "text/plain": [
       "<Figure size 432x288 with 1 Axes>"
      ]
     },
     "metadata": {
      "needs_background": "light"
     },
     "output_type": "display_data"
    },
    {
     "name": "stdout",
     "output_type": "stream",
     "text": [
      "Got output: plot is generated\n",
      "========================\n",
      "\n",
      "STARTING TURN 2\n",
      "---------------\n",
      "\n",
      "INFO:httpx:HTTP Request: POST https://api.openai.com/v1/chat/completions \"HTTP/1.1 200 OK\"\n",
      "HTTP Request: POST https://api.openai.com/v1/chat/completions \"HTTP/1.1 200 OK\"\n",
      "HTTP Request: POST https://api.openai.com/v1/chat/completions \"HTTP/1.1 200 OK\"\n"
     ]
    }
   ],
   "source": [
    "chat_resp3=agent.chat(\"Plot me a count of speaker 'Aleksei Jevgrafov' talked segments with a daily granularity\")"
   ]
  },
  {
   "cell_type": "code",
   "execution_count": 93,
   "id": "81150904-ac41-4989-9a57-70c61f5e8018",
   "metadata": {
    "pycharm": {
     "name": "#%%\n"
    }
   },
   "outputs": [
    {
     "name": "stdout",
     "output_type": "stream",
     "text": [
      "STARTING TURN 1\n",
      "---------------\n",
      "\n",
      "INFO:httpx:HTTP Request: POST https://api.openai.com/v1/chat/completions \"HTTP/1.1 200 OK\"\n",
      "HTTP Request: POST https://api.openai.com/v1/chat/completions \"HTTP/1.1 200 OK\"\n",
      "HTTP Request: POST https://api.openai.com/v1/chat/completions \"HTTP/1.1 200 OK\"\n",
      "=== Calling Function ===\n",
      "Calling function: plot_events_timeline with args: {\n",
      "  \"text\": \"count_of_events(speaker:'Aleksei Jevgrafov')\",\n",
      "  \"time_granularity\": \"month\"\n",
      "}\n",
      "INFO:httpx:HTTP Request: POST https://api.openai.com/v1/chat/completions \"HTTP/1.1 200 OK\"\n",
      "HTTP Request: POST https://api.openai.com/v1/chat/completions \"HTTP/1.1 200 OK\"\n",
      "HTTP Request: POST https://api.openai.com/v1/chat/completions \"HTTP/1.1 200 OK\"\n",
      "INFO:llama_index.indices.vector_store.retrievers.auto_retriever.auto_retriever:Using query str: count_of_events\n",
      "Using query str: count_of_events\n",
      "Using query str: count_of_events\n",
      "INFO:llama_index.indices.vector_store.retrievers.auto_retriever.auto_retriever:Using filters: {'speaker': 'Aleksei Jevgrafov'}\n",
      "Using filters: {'speaker': 'Aleksei Jevgrafov'}\n",
      "Using filters: {'speaker': 'Aleksei Jevgrafov'}\n",
      "INFO:llama_index.indices.vector_store.retrievers.auto_retriever.auto_retriever:Using top_k: 20\n",
      "Using top_k: 20\n",
      "Using top_k: 20\n",
      "INFO:httpx:HTTP Request: POST https://api.openai.com/v1/embeddings \"HTTP/1.1 200 OK\"\n",
      "HTTP Request: POST https://api.openai.com/v1/embeddings \"HTTP/1.1 200 OK\"\n",
      "HTTP Request: POST https://api.openai.com/v1/embeddings \"HTTP/1.1 200 OK\"\n"
     ]
    },
    {
     "data": {
      "image/png": "[encoded data removed]",
      "text/plain": [
       "<Figure size 432x288 with 1 Axes>"
      ]
     },
     "metadata": {
      "needs_background": "light"
     },
     "output_type": "display_data"
    },
    {
     "name": "stdout",
     "output_type": "stream",
     "text": [
      "Got output: plot is generated\n",
      "========================\n",
      "\n",
      "STARTING TURN 2\n",
      "---------------\n",
      "\n",
      "INFO:httpx:HTTP Request: POST https://api.openai.com/v1/chat/completions \"HTTP/1.1 200 OK\"\n",
      "HTTP Request: POST https://api.openai.com/v1/chat/completions \"HTTP/1.1 200 OK\"\n",
      "HTTP Request: POST https://api.openai.com/v1/chat/completions \"HTTP/1.1 200 OK\"\n"
     ]
    }
   ],
   "source": [
    "chat_resp3=agent.chat(\"Plot me a count of speaker 'Aleksei Jevgrafov' talked segments with a monthly granularity\")"
   ]
  },
  {
   "cell_type": "markdown",
   "id": "b1b9c358-b13e-446b-a130-b776cf6bf0fe",
   "metadata": {
    "pycharm": {
     "name": "#%% md\n"
    }
   },
   "source": [
    "# LLM compiler agent"
   ]
  },
  {
   "cell_type": "code",
   "execution_count": 18,
   "id": "df6825d3-9eda-44c8-8329-8c12cfd71866",
   "metadata": {
    "pycharm": {
     "name": "#%%\n"
    }
   },
   "outputs": [],
   "source": [
    "#source: https://github.com/run-llama/llama-hub/blob/main/llama_hub/llama_packs/agents/llm_compiler/llm_compiler.ipynb\n",
    "callback_manager = llm.callback_manager"
   ]
  },
  {
   "cell_type": "code",
   "execution_count": 26,
   "id": "58ddcb77-b780-46da-8b08-56be58879f6b",
   "metadata": {
    "pycharm": {
     "name": "#%%\n"
    }
   },
   "outputs": [],
   "source": [
    "agent_worker = LLMCompilerAgentWorker.from_tools(\n",
    "    tools, llm=llm, verbose=True, callback_manager=callback_manager\n",
    ")\n",
    "agent_comp = AgentRunner(agent_worker, callback_manager=callback_manager)"
   ]
  },
  {
   "cell_type": "code",
   "execution_count": 24,
   "id": "4c25d80a-55d6-497b-9d8c-939a449dfdac",
   "metadata": {
    "pycharm": {
     "name": "#%%\n"
    }
   },
   "outputs": [
    {
     "name": "stdout",
     "output_type": "stream",
     "text": [
      "> Running step 41f2ccfa-60c4-4955-85d2-dee547a9222c for task fbee61e1-f22e-41ac-bffc-f3d975baf0be.\n",
      "> Step count: 0\n",
      "INFO:httpx:HTTP Request: POST https://api.openai.com/v1/chat/completions \"HTTP/1.1 200 OK\"\n",
      "HTTP Request: POST https://api.openai.com/v1/chat/completions \"HTTP/1.1 200 OK\"\n",
      "\u001b[1;3;38;5;200m> Plan: 1. count_of_events(\"speaker:'Maria Jufereva-Skuratovski' AND month:9\")\n",
      "\u001b[0mINFO:httpx:HTTP Request: POST https://api.openai.com/v1/chat/completions \"HTTP/1.1 200 OK\"\n",
      "HTTP Request: POST https://api.openai.com/v1/chat/completions \"HTTP/1.1 200 OK\"\n",
      "INFO:llama_index.indices.vector_store.retrievers.auto_retriever.auto_retriever:Using query str: \n",
      "Using query str: \n",
      "INFO:llama_index.indices.vector_store.retrievers.auto_retriever.auto_retriever:Using filters: [('speaker', '==', 'Maria Jufereva-Skuratovski'), ('month', '==', 9)]\n",
      "Using filters: [('speaker', '==', 'Maria Jufereva-Skuratovski'), ('month', '==', 9)]\n",
      "INFO:llama_index.indices.vector_store.retrievers.auto_retriever.auto_retriever:Using top_k: 10\n",
      "Using top_k: 10\n",
      "\u001b[1;3;34mRan task: count_of_events. Observation: Number of events containing 'speaker:'Maria Jufereva-Skuratovski' AND month:9' is: 10\n",
      "\u001b[0mINFO:httpx:HTTP Request: POST https://api.openai.com/v1/chat/completions \"HTTP/1.1 200 OK\"\n",
      "HTTP Request: POST https://api.openai.com/v1/chat/completions \"HTTP/1.1 200 OK\"\n",
      "\u001b[1;3;38;5;200m> Thought: \n",
      "\u001b[0m\u001b[1;3;38;5;200m> Answer: 10\n",
      "\u001b[0m"
     ]
    }
   ],
   "source": [
    "response = agent_comp.chat(\"How many segments there are where speaker is 'Maria Jufereva-Skuratovski' and month is 9?\")"
   ]
  },
  {
   "cell_type": "code",
   "execution_count": 26,
   "id": "461df060-3e53-4c9c-8d0a-10bd44d6362c",
   "metadata": {
    "pycharm": {
     "name": "#%%\n"
    }
   },
   "outputs": [
    {
     "data": {
      "text/plain": [
       "AgentChatResponse(response='10', sources=[], source_nodes=[])"
      ]
     },
     "execution_count": 26,
     "metadata": {},
     "output_type": "execute_result"
    }
   ],
   "source": [
    "response"
   ]
  },
  {
   "cell_type": "code",
   "execution_count": 27,
   "id": "bbb3dada-f687-462f-a209-db2e2efeb6e5",
   "metadata": {
    "pycharm": {
     "name": "#%%\n"
    }
   },
   "outputs": [
    {
     "name": "stdout",
     "output_type": "stream",
     "text": [
      "> Running step cf34b1fd-2825-4a8b-9b2b-59f2ec63b1e9 for task c0d81462-6405-4740-bd7f-97d2e38cb533.\n",
      "> Step count: 0\n",
      "INFO:httpx:HTTP Request: POST https://api.openai.com/v1/chat/completions \"HTTP/1.1 200 OK\"\n",
      "HTTP Request: POST https://api.openai.com/v1/chat/completions \"HTTP/1.1 200 OK\"\n",
      "\u001b[1;3;38;5;200m> Plan: 1. count_of_events(\"speaker:'Maria Jufereva-Skuratovski' AND month:6\")\n",
      "2. plot_events_timeline($1, time_granularity='day')\n",
      "\u001b[0mINFO:httpx:HTTP Request: POST https://api.openai.com/v1/chat/completions \"HTTP/1.1 200 OK\"\n",
      "HTTP Request: POST https://api.openai.com/v1/chat/completions \"HTTP/1.1 200 OK\"\n",
      "INFO:llama_index.indices.vector_store.retrievers.auto_retriever.auto_retriever:Using query str: \n",
      "Using query str: \n",
      "INFO:llama_index.indices.vector_store.retrievers.auto_retriever.auto_retriever:Using filters: [('speaker', '==', 'Maria Jufereva-Skuratovski'), ('month', '==', 6)]\n",
      "Using filters: [('speaker', '==', 'Maria Jufereva-Skuratovski'), ('month', '==', 6)]\n",
      "INFO:llama_index.indices.vector_store.retrievers.auto_retriever.auto_retriever:Using top_k: 10\n",
      "Using top_k: 10\n",
      "\u001b[1;3;34mRan task: count_of_events. Observation: Number of events containing 'speaker:'Maria Jufereva-Skuratovski' AND month:6' is: 10\n",
      "\u001b[0mINFO:httpx:HTTP Request: POST https://api.openai.com/v1/chat/completions \"HTTP/1.1 200 OK\"\n",
      "HTTP Request: POST https://api.openai.com/v1/chat/completions \"HTTP/1.1 200 OK\"\n",
      "INFO:llama_index.indices.vector_store.retrievers.auto_retriever.auto_retriever:Using query str: speaker: Maria Jufereva-Skuratovski\n",
      "Using query str: speaker: Maria Jufereva-Skuratovski\n",
      "INFO:llama_index.indices.vector_store.retrievers.auto_retriever.auto_retriever:Using filters: [('month', '==', 6)]\n",
      "Using filters: [('month', '==', 6)]\n",
      "INFO:llama_index.indices.vector_store.retrievers.auto_retriever.auto_retriever:Using top_k: 100\n",
      "Using top_k: 100\n",
      "INFO:httpx:HTTP Request: POST https://api.openai.com/v1/embeddings \"HTTP/1.1 200 OK\"\n",
      "HTTP Request: POST https://api.openai.com/v1/embeddings \"HTTP/1.1 200 OK\"\n"
     ]
    },
    {
     "data": {
      "image/png": "[encoded data removed]",
      "text/plain": [
       "<Figure size 432x288 with 1 Axes>"
      ]
     },
     "metadata": {
      "needs_background": "light"
     },
     "output_type": "display_data"
    },
    {
     "name": "stdout",
     "output_type": "stream",
     "text": [
      "\u001b[1;3;34mRan task: plot_events_timeline. Observation: ('plot is generated and visible here:temp/plot.png', <AxesSubplot:xlabel='day'>)\n",
      "\u001b[0mINFO:httpx:HTTP Request: POST https://api.openai.com/v1/chat/completions \"HTTP/1.1 200 OK\"\n",
      "HTTP Request: POST https://api.openai.com/v1/chat/completions \"HTTP/1.1 200 OK\"\n",
      "\u001b[1;3;38;5;200m> Thought: \n",
      "\u001b[0m\u001b[1;3;38;5;200m> Answer: finish(('plot is generated and visible here:temp/plot.png', <AxesSubplot:xlabel='day'>))\n",
      "\u001b[0m"
     ]
    },
    {
     "data": {
      "text/plain": [
       "\"finish(('plot is generated and visible here:temp/plot.png', <AxesSubplot:xlabel='day'>))\""
      ]
     },
     "execution_count": 27,
     "metadata": {},
     "output_type": "execute_result"
    }
   ],
   "source": [
    "chat(agent_comp, \"Plot ma a count of segments on a daily basis where speaker is 'Maria Jufereva-Skuratovski' and month is 6\")"
   ]
  },
  {
   "cell_type": "code",
   "execution_count": null,
   "id": "1c1be9ec-870a-442d-9abd-e845273160ba",
   "metadata": {
    "pycharm": {
     "name": "#%%\n"
    }
   },
   "outputs": [],
   "source": []
  }
 ],
 "metadata": {
  "kernelspec": {
   "display_name": "Python 3 (ipykernel)",
   "language": "python",
   "name": "python3"
  },
  "language_info": {
   "codemirror_mode": {
    "name": "ipython",
    "version": 3
   },
   "file_extension": ".py",
   "mimetype": "text/x-python",
   "name": "python",
   "nbconvert_exporter": "python",
   "pygments_lexer": "ipython3",
   "version": "3.9.12"
  }
 },
 "nbformat": 4,
 "nbformat_minor": 5
}
