{
 "cells": [
  {
   "cell_type": "code",
   "execution_count": 2,
   "id": "541d4940-10cc-4e49-9a10-ebc59baff7d0",
   "metadata": {},
   "outputs": [],
   "source": [
    "# !pip install weaviate-client\n",
    "# !pip install llama_index\n",
    "# !pip install openai\n",
    "# !pip install --upgrade pydantic==1.10.0 typing-extensions==4.5.0\n",
    "# !pip install fastcore"
   ]
  },
  {
   "cell_type": "code",
   "execution_count": 34,
   "id": "5b60367f-5f96-49d6-9575-e86f5c48cf12",
   "metadata": {},
   "outputs": [
    {
     "name": "stderr",
     "output_type": "stream",
     "text": [
      "/tmp/ipykernel_57/2164397915.py:20: FutureWarning: Passing a negative integer is deprecated in version 1.0 and will not be supported in future version. Instead, use None to not limit the column width.\n",
      "  pd.set_option('display.max_colwidth',-1)\n"
     ]
    }
   ],
   "source": [
    "from llama_index.vector_stores import WeaviateVectorStore\n",
    "from llama_index.schema import TextNode, NodeRelationship, RelatedNodeInfo\n",
    "from llama_index import VectorStoreIndex, StorageContext\n",
    "from llama_index import get_response_synthesizer\n",
    "from llama_index.indices.postprocessor import SimilarityPostprocessor, PrevNextNodePostprocessor\n",
    "from llama_index.retrievers import VectorIndexRetriever\n",
    "from llama_index.query_engine import RetrieverQueryEngine\n",
    "import weaviate, os\n",
    "from weaviate import EmbeddedOptions\n",
    "from openai import OpenAI\n",
    "import pandas as pd\n",
    "import numpy as np\n",
    "from llama_index import ServiceContext\n",
    "from llama_index.llms import OpenAI as OpenAILLama\n",
    "from llama_index.embeddings import OpenAIEmbedding\n",
    "from configparser import ConfigParser\n",
    "import openai\n",
    "import os\n",
    "\n",
    "pd.set_option('display.max_colwidth',-1)"
   ]
  },
  {
   "cell_type": "markdown",
   "id": "ea317934-7c42-427c-9733-38ee681a211e",
   "metadata": {},
   "source": [
    "## OpenAI account"
   ]
  },
  {
   "cell_type": "code",
   "execution_count": 4,
   "id": "5234eaa8-021c-4d1f-96db-24fcc760c3c8",
   "metadata": {},
   "outputs": [],
   "source": [
    "config=ConfigParser()\n",
    "config.read('conf/conf.ini')\n",
    "os.environ[\"OPENAI_API_KEY\"] = config['openai']['apikey']"
   ]
  },
  {
   "cell_type": "markdown",
   "id": "d338f0bf-5e68-4e47-aa17-2408defcd1f3",
   "metadata": {},
   "source": [
    "## Setup weaviate client"
   ]
  },
  {
   "cell_type": "code",
   "execution_count": null,
   "id": "e37fa4c7-026f-4f89-b6d9-40d9a8905c12",
   "metadata": {},
   "outputs": [],
   "source": [
    "# !rm -rf ~/.local/share/weaviate"
   ]
  },
  {
   "cell_type": "code",
   "execution_count": 5,
   "id": "d2c4b287-6157-4f2d-b6bf-fe5d3ae31af5",
   "metadata": {},
   "outputs": [
    {
     "name": "stdout",
     "output_type": "stream",
     "text": [
      "Binary /root/.cache/weaviate-embedded did not exist. Downloading binary from https://github.com/weaviate/weaviate/releases/download/v1.22.3/weaviate-v1.22.3-Linux-amd64.tar.gz\n",
      "Started /root/.cache/weaviate-embedded: process ID 122\n",
      "Client created? True\n"
     ]
    },
    {
     "name": "stderr",
     "output_type": "stream",
     "text": [
      "{\"action\":\"startup\",\"default_vectorizer_module\":\"none\",\"level\":\"info\",\"msg\":\"the default vectorizer modules is set to \\\"none\\\", as a result all new schema classes without an explicit vectorizer setting, will use this vectorizer\",\"time\":\"2023-12-13T17:30:14Z\"}\n",
      "{\"action\":\"startup\",\"auto_schema_enabled\":true,\"level\":\"info\",\"msg\":\"auto schema enabled setting is set to \\\"true\\\"\",\"time\":\"2023-12-13T17:30:14Z\"}\n",
      "{\"level\":\"warning\",\"msg\":\"Multiple vector spaces are present, GraphQL Explore and REST API list objects endpoint module include params has been disabled as a result.\",\"time\":\"2023-12-13T17:30:14Z\"}\n",
      "{\"action\":\"grpc_startup\",\"level\":\"info\",\"msg\":\"grpc server listening at [::]:50060\",\"time\":\"2023-12-13T17:30:14Z\"}\n",
      "{\"action\":\"restapi_management\",\"level\":\"info\",\"msg\":\"Serving weaviate at http://127.0.0.1:8079\",\"time\":\"2023-12-13T17:30:14Z\"}\n"
     ]
    }
   ],
   "source": [
    "client = weaviate.Client(\n",
    "    embedded_options=EmbeddedOptions(),\n",
    "    # additional_headers={\n",
    "    #     \"X-OpenAI-Api-BaseURL\": os.environ['OPENAI_API_BASE'],\n",
    "    #     \"X-OpenAI-Api-Key\": openai.api_key,  # Replace this with your actual key\n",
    "    # }\n",
    ")\n",
    "print(f\"Client created? {client.is_ready()}\")"
   ]
  },
  {
   "cell_type": "markdown",
   "id": "ba2f3cb5-4a1f-47ba-bd6f-d681a955e8b0",
   "metadata": {},
   "source": [
    "## Insert data weaviate"
   ]
  },
  {
   "cell_type": "code",
   "execution_count": 6,
   "id": "1248e73c-ac8d-49b2-a30e-b4b0d8121291",
   "metadata": {},
   "outputs": [
    {
     "name": "stderr",
     "output_type": "stream",
     "text": [
      "/usr/lib/python3/dist-packages/openpyxl/compat/numbers.py:41: DeprecationWarning: `np.float` is a deprecated alias for the builtin `float`. To silence this warning, use `float` by itself. Doing this will not modify any behavior and is safe. If you specifically wanted the numpy scalar type, use `np.float64` here.\n",
      "Deprecated in NumPy 1.20; for more details and guidance: https://numpy.org/devdocs/release/1.20.0-notes.html#deprecations\n",
      "  numpy.float,\n"
     ]
    }
   ],
   "source": [
    "df=pd.read_excel('data/riigikogu/ems_subset.xlsx')\n",
    "embs=np.load('data/riigikogu/emsb.npy', allow_pickle=True)"
   ]
  },
  {
   "cell_type": "code",
   "execution_count": 7,
   "id": "bc40d32b-311c-4a54-ab2a-56011459166c",
   "metadata": {},
   "outputs": [
    {
     "data": {
      "text/plain": [
       "((1000, 1), (1000,))"
      ]
     },
     "execution_count": 7,
     "metadata": {},
     "output_type": "execute_result"
    }
   ],
   "source": [
    "df.shape, embs.shape"
   ]
  },
  {
   "cell_type": "code",
   "execution_count": 8,
   "id": "e8d2200c-01b2-4de3-9964-831c57e280ca",
   "metadata": {},
   "outputs": [],
   "source": [
    "data=[{'text':row['text_splitted'],'foo':i, 'vector':embs[i], } for i, row in df.iterrows()]"
   ]
  },
  {
   "cell_type": "code",
   "execution_count": 9,
   "id": "f8a84c36-53b6-446c-924e-f4ef86da0d10",
   "metadata": {},
   "outputs": [],
   "source": [
    "nodes = []\n",
    "node_prev=None\n",
    "\n",
    "for idx, sample in enumerate(data):\n",
    "    node = TextNode(\n",
    "        #id_=idx,\n",
    "        text=sample['text'],\n",
    "    )\n",
    "    node.embedding=sample['vector']\n",
    "    # if idx< len(data)-1:\n",
    "    # node.relationships[NodeRelationship.NEXT]=idx+1\n",
    "    if idx>0:\n",
    "        node.relationships[NodeRelationship.PREVIOUS]=RelatedNodeInfo(node_id=node_prev.node_id)\n",
    "        node_prev.relationships[NodeRelationship.NEXT]=RelatedNodeInfo(node_id=node.node_id)\n",
    "    nodes.append(node)\n",
    "    node_prev=node.copy()"
   ]
  },
  {
   "cell_type": "code",
   "execution_count": 10,
   "id": "8fb89119-05ac-4ef2-8c2c-c9a0397fa4a7",
   "metadata": {},
   "outputs": [
    {
     "data": {
      "text/plain": [
       "{<NodeRelationship.PREVIOUS: '2'>: RelatedNodeInfo(node_id='f113a4ee-b172-48dc-8295-940fa77f5ce7', node_type=None, metadata={}, hash=None)}"
      ]
     },
     "execution_count": 10,
     "metadata": {},
     "output_type": "execute_result"
    }
   ],
   "source": [
    "node.relationships"
   ]
  },
  {
   "cell_type": "code",
   "execution_count": 11,
   "id": "76327bae-668b-404b-a97d-7141739af3f1",
   "metadata": {},
   "outputs": [
    {
     "data": {
      "text/plain": [
       "<NodeRelationship.PREVIOUS: '2'>"
      ]
     },
     "execution_count": 11,
     "metadata": {},
     "output_type": "execute_result"
    }
   ],
   "source": [
    "NodeRelationship.PREVIOUS"
   ]
  },
  {
   "cell_type": "code",
   "execution_count": 12,
   "id": "8e8956cf-69f3-47fc-a245-8040e8de4982",
   "metadata": {},
   "outputs": [
    {
     "data": {
      "text/plain": [
       "{<NodeRelationship.PREVIOUS: '2'>: RelatedNodeInfo(node_id='fa1afa1d-961c-49ed-b8c8-eab6eb71c171', node_type=None, metadata={}, hash=None),\n",
       " <NodeRelationship.NEXT: '3'>: RelatedNodeInfo(node_id='c676ec60-4143-40b3-bf64-d9736c658cf9', node_type=None, metadata={}, hash=None)}"
      ]
     },
     "execution_count": 12,
     "metadata": {},
     "output_type": "execute_result"
    }
   ],
   "source": [
    "nodes[2].relationships"
   ]
  },
  {
   "cell_type": "code",
   "execution_count": 13,
   "id": "fe80a7c1-e986-4a2e-ac05-c8f8c91a2956",
   "metadata": {},
   "outputs": [
    {
     "data": {
      "text/plain": [
       "{<NodeRelationship.PREVIOUS: '2'>: RelatedNodeInfo(node_id='f1745a15-f365-4f43-a5d7-466fec13fb76', node_type=None, metadata={}, hash=None),\n",
       " <NodeRelationship.NEXT: '3'>: RelatedNodeInfo(node_id='dd5a66ec-076c-4c7c-847b-67f6267edf56', node_type=None, metadata={}, hash=None)}"
      ]
     },
     "execution_count": 13,
     "metadata": {},
     "output_type": "execute_result"
    }
   ],
   "source": [
    "nodes[3].relationships"
   ]
  },
  {
   "cell_type": "code",
   "execution_count": 14,
   "id": "fd4a5bf0-96a4-4c47-acdf-00991c926720",
   "metadata": {},
   "outputs": [
    {
     "data": {
      "text/plain": [
       "RelatedNodeInfo(node_id='304c4412-f462-4475-8085-995172e4f8fe', node_type=None, metadata={}, hash=None)"
      ]
     },
     "execution_count": 14,
     "metadata": {},
     "output_type": "execute_result"
    }
   ],
   "source": [
    "RelatedNodeInfo(node_id=node_prev.node_id)"
   ]
  },
  {
   "cell_type": "markdown",
   "id": "1fceff98-6053-4fc2-af8b-81176ac35cb4",
   "metadata": {},
   "source": [
    "## Create vector store"
   ]
  },
  {
   "cell_type": "code",
   "execution_count": 15,
   "id": "04b43dba-d412-4316-8bea-9f75fdfbfb00",
   "metadata": {},
   "outputs": [
    {
     "name": "stderr",
     "output_type": "stream",
     "text": [
      "[nltk_data] Downloading package punkt to /tmp/llama_index...\n",
      "[nltk_data]   Unzipping tokenizers/punkt.zip.\n"
     ]
    }
   ],
   "source": [
    "llm = OpenAILLama(model=\"gpt-3.5-turbo\", temperature=0.1)\n",
    "embed_model=OpenAIEmbedding()\n",
    "\n",
    "service_context = ServiceContext.from_defaults(\n",
    "    llm=llm, embed_model=embed_model\n",
    ")"
   ]
  },
  {
   "cell_type": "code",
   "execution_count": 16,
   "id": "4da425b3-baf1-43a2-86e1-908c80b06528",
   "metadata": {},
   "outputs": [
    {
     "name": "stderr",
     "output_type": "stream",
     "text": [
      "{\"action\":\"hnsw_vector_cache_prefill\",\"count\":1000,\"index_id\":\"riigikogu_r6cVkHBj1mak\",\"level\":\"info\",\"limit\":1000000000000,\"msg\":\"prefilled vector cache\",\"time\":\"2023-12-13T17:30:22Z\",\"took\":69480}\n"
     ]
    }
   ],
   "source": [
    "#if already run from the start make sure to delete exsiting database\n",
    "# construct vector store\n",
    "vector_store = WeaviateVectorStore(weaviate_client = client, index_name=\"Riigikogu\", text_key=\"text\")\n",
    "\n",
    "# setting up the storage for the embeddings\n",
    "storage_context = StorageContext.from_defaults(vector_store = vector_store)\n",
    "\n",
    "# set up the index\n",
    "index = VectorStoreIndex(nodes, storage_context = storage_context, service_context=service_context)"
   ]
  },
  {
   "cell_type": "markdown",
   "id": "0ce0ee4e-6b20-4da9-b2e8-95380423944a",
   "metadata": {},
   "source": [
    "## If needed setup syntheziser, retriever, post-processors"
   ]
  },
  {
   "cell_type": "code",
   "execution_count": 45,
   "id": "afd95d97-b48e-423d-bdfd-6ec79751d470",
   "metadata": {},
   "outputs": [],
   "source": [
    "# Set up the synthesizer\n",
    "# my_synthesizer = get_response_synthesizer(response_mode=\"tree_summarize\")\n",
    "# to get only response nodes\n",
    "my_synthesizer = get_response_synthesizer(response_mode='no_text')\n",
    "\n",
    "retriever = VectorIndexRetriever(\n",
    "    index=index,\n",
    "    similarity_top_k=20,\n",
    ")\n",
    "\n",
    "postprocessor = PrevNextNodePostprocessor(\n",
    "    docstore=index.docstore,\n",
    "    num_nodes=1,  # number of nodes to fetch when looking forawrds or backwards\n",
    "    mode=\"both\",  # can be either 'next', 'previous', or 'both'\n",
    ")\n",
    "\n",
    "query_engine = RetrieverQueryEngine(\n",
    "    retriever=retriever,\n",
    "    response_synthesizer=my_synthesizer,\n",
    "    node_postprocessors=[\n",
    "        #postprocessor,\n",
    "        SimilarityPostprocessor(similarity_cutoff=0.8),\n",
    "    ]\n",
    ")"
   ]
  },
  {
   "cell_type": "markdown",
   "id": "189d8623-667b-42d2-a078-78dd991d83e5",
   "metadata": {},
   "source": [
    "#### example query"
   ]
  },
  {
   "cell_type": "code",
   "execution_count": 46,
   "id": "d405364f-78c1-4a10-ad60-1de853f846e5",
   "metadata": {},
   "outputs": [],
   "source": [
    "query_str = \"milliseid ettepanekuid arutatakse, et riigieelarve tasakaalu saada?\"\n",
    "response=query_engine.query(query_str)"
   ]
  },
  {
   "cell_type": "code",
   "execution_count": 47,
   "id": "ce0edfa6-829f-43ac-8dfd-2689f57d8a36",
   "metadata": {},
   "outputs": [
    {
     "data": {
      "text/plain": [
       "''"
      ]
     },
     "execution_count": 47,
     "metadata": {},
     "output_type": "execute_result"
    }
   ],
   "source": [
    "response.response"
   ]
  },
  {
   "cell_type": "code",
   "execution_count": 48,
   "id": "ba4cb8e1-d2ed-4615-9238-75834f27b937",
   "metadata": {},
   "outputs": [
    {
     "data": {
      "text/plain": [
       "'maksud ei ole ainuke võimalus asju mõjutada ja seejärel tulevad otsused rakendamised ja kindlasti järelhindamised mis võib-olla ei ole tänase diskussiooni teema aga ma proovin alustada algusest mis on üldse eesmärk kas eesmärk on saada rohkem raha riigieelarvesse kas probleemiks on väike maksukoormus mina arvan et meie eesmärk on saavutada võimalikult suur heaolu ja seda pidevalt suurendada ühiskonna heaolu saab tugineda üksnes majanduskasvule ja majanduskasv tuleneb ikka ainult ettevõtlusest nii et see on esimene asi mille peale tuleb mõelda järgmine'"
      ]
     },
     "execution_count": 48,
     "metadata": {},
     "output_type": "execute_result"
    }
   ],
   "source": [
    "response.source_nodes[0].text"
   ]
  },
  {
   "cell_type": "code",
   "execution_count": 49,
   "id": "adbb1539-778a-43ce-a8bc-941174400e6b",
   "metadata": {},
   "outputs": [
    {
     "data": {
      "text/plain": [
       "20"
      ]
     },
     "execution_count": 49,
     "metadata": {},
     "output_type": "execute_result"
    }
   ],
   "source": [
    "len(response.source_nodes)"
   ]
  },
  {
   "cell_type": "code",
   "execution_count": 24,
   "id": "00ba8ce5-88a6-4930-b876-fc34d434253c",
   "metadata": {},
   "outputs": [],
   "source": [
    "def nodes2df(nodes:list):\n",
    "    \"\"\"format list of nodes to pandas dataframe\"\"\"\n",
    "    nodes_fmt=[(n.text, n.id_, n.score) for n in nodes]\n",
    "    return pd.DataFrame(nodes_fmt, columns=['text','id', 'score'])"
   ]
  },
  {
   "cell_type": "code",
   "execution_count": 25,
   "id": "46f0d2ba-5591-4488-96af-513bb851a5c1",
   "metadata": {},
   "outputs": [],
   "source": [
    "# nodes2df(response.source_nodes)"
   ]
  },
  {
   "cell_type": "markdown",
   "id": "8aee9304-c477-4612-9ed6-77908159925e",
   "metadata": {},
   "source": [
    "## Setup function calls"
   ]
  },
  {
   "cell_type": "code",
   "execution_count": 26,
   "id": "6f99ec98-16ea-47f1-8d75-41ac1e57394e",
   "metadata": {},
   "outputs": [],
   "source": [
    "import ast\n",
    "from pydantic import create_model\n",
    "import inspect, json\n",
    "from inspect import Parameter"
   ]
  },
  {
   "cell_type": "code",
   "execution_count": 27,
   "id": "9e59e4cd-3fa6-4e48-b283-655233a0380a",
   "metadata": {},
   "outputs": [
    {
     "data": {
      "text/plain": [
       "<openai.OpenAI at 0x7f1f3dab3e80>"
      ]
     },
     "execution_count": 27,
     "metadata": {},
     "output_type": "execute_result"
    }
   ],
   "source": [
    "client_oai = OpenAI()\n",
    "OpenAI.api_key = os.getenv('OPENAI_API_KEY')\n",
    "client_oai"
   ]
  },
  {
   "cell_type": "code",
   "execution_count": 28,
   "id": "ad9960dc-0e27-437e-b74e-f5deee60061e",
   "metadata": {},
   "outputs": [],
   "source": [
    "def schema(f):\n",
    "    kw = {n:(o.annotation, ... if o.default==Parameter.empty else o.default)\n",
    "          for n,o in inspect.signature(f).parameters.items()}\n",
    "    s = create_model(f'Input for `{f.__name__}`', **kw).schema()\n",
    "    return dict(name=f.__name__, description=f.__doc__, parameters=s)\n",
    "\n",
    "def call_func(c):\n",
    "    fc = c.choices[0].message.function_call\n",
    "    if fc.name not in funcs_ok: return print(f'Not allowed: {fc.name}')\n",
    "    f = globals()[fc.name]\n",
    "    return f(**json.loads(fc.arguments))"
   ]
  },
  {
   "cell_type": "code",
   "execution_count": 29,
   "id": "a1160c1d-6765-45a1-9516-a85757f2d0a0",
   "metadata": {},
   "outputs": [],
   "source": [
    "funcs_ok = {'ask_query_count', 'python'}\n",
    "\n",
    "#TODOD make queryengine as an argument\n",
    "def ask_query_count(query_str:str):\n",
    "    \"\"\"This function is useful to find count of texts in the database that match query_str. This function gives access to databased.\n",
    "    Query is made into vector database, returns reponse nodes and counts them\n",
    "    Query_str should contain words or phrases to search for. It doesn't have to contain AND, OR etc. Could be freeform text\"\"\"\n",
    "    print(f'query string for ask_query_count is {query_str}')\n",
    "    response=query_engine.query(query_str)\n",
    "    df_resp=nodes2df(response.source_nodes)\n",
    "    return str(len(response.source_nodes)), df_resp"
   ]
  },
  {
   "cell_type": "code",
   "execution_count": 30,
   "id": "b31df92e-e99d-4586-8ca7-9af69ecc0c55",
   "metadata": {},
   "outputs": [],
   "source": [
    "def askgpt_func_call(user, system=\"you are helpful assistant and answer questions about the database that you can access by calling function ask_query_count\", model=\"gpt-3.5-turbo\", **kwargs):\n",
    "    msgs = []\n",
    "    if system: msgs.append({\"role\": \"system\", \"content\": system})\n",
    "    msgs.append({\"role\": \"user\", \"content\": user})\n",
    "    c=client_oai.chat.completions.create(model=model, messages=msgs, **kwargs)\n",
    "    \n",
    "    if c.choices[0].message.function_call is None:\n",
    "        return c.choices[0].message.content\n",
    "    func_call_out, df_resp=call_func(c)\n",
    "    msgs.append({\"role\": \"function\", \"name\": \"python\", \"content\": func_call_out})\n",
    "    c2=client_oai.chat.completions.create(model=model, messages=msgs)\n",
    "    return c2.choices[0].message.content, func_call_out, df_resp"
   ]
  },
  {
   "cell_type": "code",
   "execution_count": 31,
   "id": "efa9a177-23db-4a76-bb96-6fed50087de0",
   "metadata": {},
   "outputs": [
    {
     "name": "stdout",
     "output_type": "stream",
     "text": [
      "query string for ask_query_count is sõda OR kaitsevägi\n"
     ]
    },
    {
     "data": {
      "text/plain": [
       "'There are a total of 20 texts that mention either \"sõda\" or \"kaitsevägi\" in the database.'"
      ]
     },
     "execution_count": 31,
     "metadata": {},
     "output_type": "execute_result"
    }
   ],
   "source": [
    "resp, func_call_out, df_resp=askgpt_func_call('How many texts mention \"sõda\" or \"kaitsevägi\"?',\n",
    "                functions=[schema(ask_query_count)])\n",
    "resp"
   ]
  },
  {
   "cell_type": "code",
   "execution_count": 32,
   "id": "df458543-2ffc-4e1a-88a6-4148bb794679",
   "metadata": {},
   "outputs": [
    {
     "data": {
      "text/html": [
       "<div>\n",
       "<style scoped>\n",
       "    .dataframe tbody tr th:only-of-type {\n",
       "        vertical-align: middle;\n",
       "    }\n",
       "\n",
       "    .dataframe tbody tr th {\n",
       "        vertical-align: top;\n",
       "    }\n",
       "\n",
       "    .dataframe thead th {\n",
       "        text-align: right;\n",
       "    }\n",
       "</style>\n",
       "<table border=\"1\" class=\"dataframe\">\n",
       "  <thead>\n",
       "    <tr style=\"text-align: right;\">\n",
       "      <th></th>\n",
       "      <th>text_splitted</th>\n",
       "    </tr>\n",
       "  </thead>\n",
       "  <tbody>\n",
       "    <tr>\n",
       "      <th>471</th>\n",
       "      <td>lõpuks on 34 inimest nüüd teenistusest vabastatud. näiteks major paas kõikides sõdades osalenud igati laitmatu teenistusega mees lihtsalt lasti lahti kui paneme need numbrid kõik kokku siis tegelikult kaotus personali seas tuleb juba üsna suur kaitseväel on olnud probleeme et kõiki ajateenijaid õpetada sest kaadrit pole piisavalt olnud kuidas kaitsevägi nendes tingimustes pärast seda kolme lainet suudab oma ülesandeid korralikult täita</td>\n",
       "    </tr>\n",
       "    <tr>\n",
       "      <th>969</th>\n",
       "      <td>et need muudatused peaks sisse viima veel enne esimest lugemist ehk veel enne tänast päeva loomulikult kuna need muudatused saab sisse viia enne esimest lugemist ainult eelnõu algataja siis andis justiitsministeerium lahkelt selleks ka oma nõusoleku mis tõendab veel kord et mingeid erimeelsusi ega mingit sõda ei õiguskomisjoni istungitel ega töögrupis ei olnud konstruktiivse dialoogiga saime kõik küsimused lahendatud tõepoolest õiguskomisjon arutaski muudetud allikakaitse seaduse eelnõu uuesti juba 5. aprilli istungil see tähendab et allikakaitse seaduse eelnõu muutus ja toodi</td>\n",
       "    </tr>\n",
       "  </tbody>\n",
       "</table>\n",
       "</div>"
      ],
      "text/plain": [
       "                                                                                                                                                                                                                                                                                                                                                                                                                                                                                                                                                                                               text_splitted\n",
       "471  lõpuks on 34 inimest nüüd teenistusest vabastatud. näiteks major paas kõikides sõdades osalenud igati laitmatu teenistusega mees lihtsalt lasti lahti kui paneme need numbrid kõik kokku siis tegelikult kaotus personali seas tuleb juba üsna suur kaitseväel on olnud probleeme et kõiki ajateenijaid õpetada sest kaadrit pole piisavalt olnud kuidas kaitsevägi nendes tingimustes pärast seda kolme lainet suudab oma ülesandeid korralikult täita                                                                                                                                                \n",
       "969  et need muudatused peaks sisse viima veel enne esimest lugemist ehk veel enne tänast päeva loomulikult kuna need muudatused saab sisse viia enne esimest lugemist ainult eelnõu algataja siis andis justiitsministeerium lahkelt selleks ka oma nõusoleku mis tõendab veel kord et mingeid erimeelsusi ega mingit sõda ei õiguskomisjoni istungitel ega töögrupis ei olnud konstruktiivse dialoogiga saime kõik küsimused lahendatud tõepoolest õiguskomisjon arutaski muudetud allikakaitse seaduse eelnõu uuesti juba 5. aprilli istungil see tähendab et allikakaitse seaduse eelnõu muutus ja toodi"
      ]
     },
     "execution_count": 32,
     "metadata": {},
     "output_type": "execute_result"
    }
   ],
   "source": [
    "df[df.text_splitted.str.contains('sõda')]"
   ]
  },
  {
   "cell_type": "code",
   "execution_count": 33,
   "id": "fc1f280d-09f9-4a23-b053-f9a64b918206",
   "metadata": {},
   "outputs": [
    {
     "data": {
      "text/html": [
       "<div>\n",
       "<style scoped>\n",
       "    .dataframe tbody tr th:only-of-type {\n",
       "        vertical-align: middle;\n",
       "    }\n",
       "\n",
       "    .dataframe tbody tr th {\n",
       "        vertical-align: top;\n",
       "    }\n",
       "\n",
       "    .dataframe thead th {\n",
       "        text-align: right;\n",
       "    }\n",
       "</style>\n",
       "<table border=\"1\" class=\"dataframe\">\n",
       "  <thead>\n",
       "    <tr style=\"text-align: right;\">\n",
       "      <th></th>\n",
       "      <th>text</th>\n",
       "      <th>id</th>\n",
       "      <th>score</th>\n",
       "    </tr>\n",
       "  </thead>\n",
       "  <tbody>\n",
       "    <tr>\n",
       "      <th>0</th>\n",
       "      <td>nime all ta jätkab sõjamuuseumi juures ja minule teadaolevalt on lepingud sõlmitud juba 34 orkestrandiga see orkester nagu me nägime juba kenasti töötas presidendi ametisse astumise ajal nii et ka see on lahendatud te küsite kas ma olen kaitseväe juhatajaga vestelnud nendel teemadel. me oleme kaitseväe juhatajaga vestelnud väga palju eesti kaitseväe teemadel kaitsevõime teemadel ka eri aspektidest mis kaitsevõimekust üldiselt puudutavad olgu see inimesed olgu see võimed kui sellised olgu see kas või koostöö teiste balti riikidega sest tõepoolest</td>\n",
       "      <td>048b3317-a71a-493e-befc-7f8903d73579</td>\n",
       "      <td>0.857824</td>\n",
       "    </tr>\n",
       "    <tr>\n",
       "      <th>1</th>\n",
       "      <td>vaktsineerimata siis see on probleem eesti sõjalisele tegevusele kaitseväe tegevusele nii sõja ajal kui ka nende ülesannete täitmisele mis kaitseväel rahuajal on</td>\n",
       "      <td>6d1d1a7a-02c0-45f5-b878-53ee909ccd9e</td>\n",
       "      <td>0.847334</td>\n",
       "    </tr>\n",
       "    <tr>\n",
       "      <th>2</th>\n",
       "      <td>austatud istungi juhataja lugupeetud proua peaminister kevadel kui oli küsimus võimalikus kaitsekulude kärpimises siis kaitsevägi asus seda kiiresti teostama ja sellega seoses koondati päris palju inimesi nüüd loomulikult meie õnneks on selgunud et kaitsekulud praegu tõusevad nad tõusevad 2,31%‑ni skt‑st ja summaarselt on jutt 249,6 miljonist mille eest ma tahan valitsust siiralt tunnustada aga inimesed koondati nüüd edasi seoses vaktsineerimisega terve hulk kaitseväelasi lahkus teenistusest kuna nad tajusid seda kui survet ma toon konkreetse näite kolonelleitnant moora kes seda tegi</td>\n",
       "      <td>ba2e5136-198d-4d63-a6a8-54efeebcf88b</td>\n",
       "      <td>0.844165</td>\n",
       "    </tr>\n",
       "    <tr>\n",
       "      <th>3</th>\n",
       "      <td>aitäh härra eesistuja lugupeetud kaja kallas meil on aegrida kujunenud ja see aegrida kaitsejõudude puhul on järgmine teatavasti soovitati 9. mail meie kaitseväelastel riietuda tsiviilriietesse et mitte ärritada 9. maid tähistavaid venekeelseid eesti vabariigi elanikke seejärel tuli uudis et kaotatakse kaplaniteenistus ja pannakse kinni sõjaväeorkester see viga on küll osaliselt parandatud aga mitte täielikult siis tuli uudis et presidendi kantselei auvahtkond hakkab teenistust teostama laigulistes mitte paraadmundrites nüüd on meil tants kaitsejõududes seoses sundvaktsineerimisega mis on väga selgelt põhjustanud elukutselistes</td>\n",
       "      <td>6e073a0a-e68c-4520-9846-249c5f09f39d</td>\n",
       "      <td>0.843919</td>\n",
       "    </tr>\n",
       "    <tr>\n",
       "      <th>4</th>\n",
       "      <td>lugupeetud peaministrile on küsimus. lugupeetud juhataja hea peaminister juttu oli siin paari sõnaga kaitseväe orkestrist siin on tegelikult üks probleem. nimelt kaitseväe orkestrist oleme me juba varem rääkinud ja oleme kuulnud et asi hakkab nagu korda minema orkester läheb muuseumi alla ja asi on tore aga ma ise suhtlen hästi tihedalt nende pillimeestega kes mängisid nii kaitseväe orkestris kui ka endises piirivalveorkestris no piirivalveorkestriga on selge temast on tehtud nüüd poliitiline orkester tallinna linnavalitsuse alla ja see ei ole enam</td>\n",
       "      <td>9b788559-dadc-4afe-9d6d-062c3a575d92</td>\n",
       "      <td>0.843653</td>\n",
       "    </tr>\n",
       "    <tr>\n",
       "      <th>5</th>\n",
       "      <td>algab meie kaitse ju ka meie naabrite kaitsmisest olukord on olnud ju ärev seetõttu oleme valitsuses iga nädal rääkinud julgeolekuteemadel olukord mis on valgevene-leedu piiril valgevene-läti piiril või valgevene-poola piiril mõjutab otseselt ka meie julgeolekut siin. nii et mina kaitseväe juhatajat tema tegevuses igapidi toetan ta on teinud julgeid samme ja seda kõike selleks et just eesti kaitsevõimet tugevdada ka kaitseväelaste vaktsineerimisele eelnenud riskianalüüs näitas et kui kaitseväelased nii suurtes hulkades jäävad haigeks või peavad jääma isolatsiooni kuna nad on</td>\n",
       "      <td>957bf475-fee8-4d23-a077-88677d2f7b4f</td>\n",
       "      <td>0.838523</td>\n",
       "    </tr>\n",
       "    <tr>\n",
       "      <th>6</th>\n",
       "      <td>sõjaväelastes pahameelt rahulolematust vabatahtlikku lahkumist ja sunniviisilist lahkumist ma tuletan siinkohal meelde ka seda et kaitsejõudude praegune juht kindral herem oli operatiivosakonnas teeninud riigireetur deniss metsavase ajal kaitseväe peastaabi ülem seesama herem on kinnitanud kaitseväe peastaabi ülemaks ja kaitseväe juhataja asetäitjaks kindral palmi kes on saanud negatiivse atestatsiooni ja on minu andmetel isegi istunud kainestusmajas ma küsin teilt kas kõik need asjaolud kõik need operatsioonid orkestrite mundrite ja muuga on olnud teile eelnevalt teada juhataja helistab kella. kas te olete</td>\n",
       "      <td>64b10f53-4b9b-48a5-a638-dd0014ffeebc</td>\n",
       "      <td>0.838299</td>\n",
       "    </tr>\n",
       "    <tr>\n",
       "      <th>7</th>\n",
       "      <td>vähemalt mulle esitatud info kohaselt et need on needsamad inimesed kes kaitseväe orkestris varasemalt olid lisaks sellele et nad töötavad sõjamuuseumi all on neil võimalus teenida omatulu seda võimalust neil varasemalt ei olnud omatulu teenimise võimalus just lisakontsertide plaadistuslepingute kõige selle kaudu on neil ka olemas see orkester alustas 1. oktoobrist eesti rahvas ütleb korrektselt et andke aega atra seada nagu me nägime presidendi ametisse astumise tseremoonial see orkester mängib väga hästi kokku</td>\n",
       "      <td>d2eb1194-1af9-4be2-9f69-f5d160c181d2</td>\n",
       "      <td>0.837577</td>\n",
       "    </tr>\n",
       "    <tr>\n",
       "      <th>8</th>\n",
       "      <td>küll oleks tore kui ainult mart ja moonika helmet ei kaitstaks vaid kaitstaks ka teisi. aga see selleks lähen nüüd konkreetselt selle küsimuse juurde kaitseväes on olnud nagu ma ütlesin erinevaid laineid haigestumisega seoses kui me räägime konkreetselt nendest viimastest sammudest siis nagu ma vastasin ka eelnevalt tegemist on olnud kaitseväe juhataja tehtud riskianalüüsiga mis puudutab inimesi kes kaitseväes töötavad kõik kaitseväes töötavad inimesed on vajalikud nii sõjaajal kui ka rahuajal ja seetõttu nende isolatsiooni jäämine on ohuks kogu kaitseväe</td>\n",
       "      <td>3e790909-1d07-4bac-9f50-65c97eb6114d</td>\n",
       "      <td>0.836048</td>\n",
       "    </tr>\n",
       "    <tr>\n",
       "      <th>9</th>\n",
       "      <td>toimepidevusele vastab tõesti tõele et me oleme eraldanud kaitse-eelarvele rohkem raha kui kunagi varem järgmisel aastal kasvab kaitse-eelarve 104 miljonit eurot ja see on kindlasti hea meie kaitsevõime tugevdamiseks seda milliseid samme täpselt astuda kaitsevõimekuse tõstmisel saame arutada ka riigikaitsekomisjonis et mis on need konkreetsed sammud aga ma arvan et oluline on nii see et oleks võimekus tehnika näol kui ka see et kaitsevägi toimib ja ei jää haigestumiste tõttu nendest ülesannetest kõrvale</td>\n",
       "      <td>3095eefc-7ea2-4731-bcc6-fdec83801243</td>\n",
       "      <td>0.830220</td>\n",
       "    </tr>\n",
       "    <tr>\n",
       "      <th>10</th>\n",
       "      <td>hakkaksid tegema kaitseväe seadust päris põhjendatud nende asjadega peavad ikkagi tegelema juhid aga jah otse loomulikult sellises vormis et kolmas sektor ja ka valdkonnas tegutsevad inimesed saavutaksid kokkuleppe et teatud soovid ja soovitused on kõigi poolt aktsepteeritavad jõudu kõigile kaasamõtlemisel ja palju tänu spordiseaduse algatamise eest aitäh</td>\n",
       "      <td>3f526edc-79f9-425f-8d7c-43f6a4a2e84e</td>\n",
       "      <td>0.829736</td>\n",
       "    </tr>\n",
       "    <tr>\n",
       "      <th>11</th>\n",
       "      <td>muidugi mängib lood ära sest seal on professionaalsed pillimehed aga enam rahvusvahelistel üritustel tattoo 'sid ja igasuguseid muid vigurmarssimisi nad tulevikus teha ei suuda kuidas me selle probleemi lahendame mina ütlen et kaitsevaimsuse seisukohalt tuleb ta taastada kaitseväe orkestrina</td>\n",
       "      <td>423683e0-202e-4a81-b57d-2d4620ed1a69</td>\n",
       "      <td>0.829598</td>\n",
       "    </tr>\n",
       "    <tr>\n",
       "      <th>12</th>\n",
       "      <td>õiguste kaitsega siin on riigikogu kaalumise koht</td>\n",
       "      <td>d0ef1a16-9e42-4a5b-9409-b675ebafbe71</td>\n",
       "      <td>0.828055</td>\n",
       "    </tr>\n",
       "    <tr>\n",
       "      <th>13</th>\n",
       "      <td>ma tänan jätkaks piiride lahtihoidmise teemal. kuidas läheb piiride kinnihoidmisega seoses valgevene kriisiga sooviks viimaseid uudiseid selles valdkonnas kuidas on seis valgevene kriisiga ja kuidas on arenenud see okastraadiskandaal eesti ja leedu vahel ja kuidas on lugu meie idapiiri ehk kontrolljoone väljaehitamisega</td>\n",
       "      <td>38962c79-c857-48d9-95b0-c03c0d16ace0</td>\n",
       "      <td>0.826786</td>\n",
       "    </tr>\n",
       "    <tr>\n",
       "      <th>14</th>\n",
       "      <td>lõpuks on 34 inimest nüüd teenistusest vabastatud. näiteks major paas kõikides sõdades osalenud igati laitmatu teenistusega mees lihtsalt lasti lahti kui paneme need numbrid kõik kokku siis tegelikult kaotus personali seas tuleb juba üsna suur kaitseväel on olnud probleeme et kõiki ajateenijaid õpetada sest kaadrit pole piisavalt olnud kuidas kaitsevägi nendes tingimustes pärast seda kolme lainet suudab oma ülesandeid korralikult täita</td>\n",
       "      <td>e02ece79-dd2d-4527-af8c-d366b364d932</td>\n",
       "      <td>0.826161</td>\n",
       "    </tr>\n",
       "    <tr>\n",
       "      <th>15</th>\n",
       "      <td>isamaa ja res publica liidu fraktsiooni esindajana palun nüüd kõnetooli lauri vahtre</td>\n",
       "      <td>0b8a4e94-ff03-49fc-a772-177511bf735e</td>\n",
       "      <td>0.825985</td>\n",
       "    </tr>\n",
       "    <tr>\n",
       "      <th>16</th>\n",
       "      <td>aitäh aivar kokk isamaa fraktsiooni nimel palun</td>\n",
       "      <td>ab013aab-2f85-4170-b33f-552612fea36b</td>\n",
       "      <td>0.824587</td>\n",
       "    </tr>\n",
       "    <tr>\n",
       "      <th>17</th>\n",
       "      <td>selleks et toetada neid inimesi seal ja hoida ära rändesurvet euroopale sealhulgas eestile</td>\n",
       "      <td>e110e4d4-7c84-44e3-b583-f2da440f3d7d</td>\n",
       "      <td>0.824133</td>\n",
       "    </tr>\n",
       "    <tr>\n",
       "      <th>18</th>\n",
       "      <td>riigi tseremoniaalorkester aga mis puudutab kaitseväe orkestrit siis vormistatakse lepinguid nende lepingutega on niimoodi et nad võetakse tööle poole kohaga paljud pillimehed ei taha minna niimoodi poole kohaga tööle ja see tähendab seda et see orkester hakkab vaikselt lagunema ma olen rääkinud ka endiste orkestrijuhtidega et teha tseremoniaalorkestrit selleks läheb aastaid aega selleks et tema tattoo 'd rahvusvaheline tunnustatus kõik säiliks ja areneks edasi me lagundame praegu selle orkestri ära ja saame mingisuguse 20‑mehelise kuidas nüüd ilusasti öelda orkestri mis</td>\n",
       "      <td>dfd89293-4b48-418f-838a-4b2798f8f9d0</td>\n",
       "      <td>0.823554</td>\n",
       "    </tr>\n",
       "    <tr>\n",
       "      <th>19</th>\n",
       "      <td>nendel teemadel härra heremiga vestelnud ja juhtinud tema tähelepanu sellele et tema tegevus on süstemaatiline kaitseväe moraali ja kaitsetahte õõnestamine</td>\n",
       "      <td>e98c6c7e-4687-4845-8808-00445e08d91a</td>\n",
       "      <td>0.823432</td>\n",
       "    </tr>\n",
       "  </tbody>\n",
       "</table>\n",
       "</div>"
      ],
      "text/plain": [
       "                                                                                                                                                                                                                                                                                                                                                                                                                                                                                                                                                                                                                                                           text  \\\n",
       "0   nime all ta jätkab sõjamuuseumi juures ja minule teadaolevalt on lepingud sõlmitud juba 34 orkestrandiga see orkester nagu me nägime juba kenasti töötas presidendi ametisse astumise ajal nii et ka see on lahendatud te küsite kas ma olen kaitseväe juhatajaga vestelnud nendel teemadel. me oleme kaitseväe juhatajaga vestelnud väga palju eesti kaitseväe teemadel kaitsevõime teemadel ka eri aspektidest mis kaitsevõimekust üldiselt puudutavad olgu see inimesed olgu see võimed kui sellised olgu see kas või koostöö teiste balti riikidega sest tõepoolest                                                                                       \n",
       "1   vaktsineerimata siis see on probleem eesti sõjalisele tegevusele kaitseväe tegevusele nii sõja ajal kui ka nende ülesannete täitmisele mis kaitseväel rahuajal on                                                                                                                                                                                                                                                                                                                                                                                                                                                                                             \n",
       "2   austatud istungi juhataja lugupeetud proua peaminister kevadel kui oli küsimus võimalikus kaitsekulude kärpimises siis kaitsevägi asus seda kiiresti teostama ja sellega seoses koondati päris palju inimesi nüüd loomulikult meie õnneks on selgunud et kaitsekulud praegu tõusevad nad tõusevad 2,31%‑ni skt‑st ja summaarselt on jutt 249,6 miljonist mille eest ma tahan valitsust siiralt tunnustada aga inimesed koondati nüüd edasi seoses vaktsineerimisega terve hulk kaitseväelasi lahkus teenistusest kuna nad tajusid seda kui survet ma toon konkreetse näite kolonelleitnant moora kes seda tegi                                                \n",
       "3   aitäh härra eesistuja lugupeetud kaja kallas meil on aegrida kujunenud ja see aegrida kaitsejõudude puhul on järgmine teatavasti soovitati 9. mail meie kaitseväelastel riietuda tsiviilriietesse et mitte ärritada 9. maid tähistavaid venekeelseid eesti vabariigi elanikke seejärel tuli uudis et kaotatakse kaplaniteenistus ja pannakse kinni sõjaväeorkester see viga on küll osaliselt parandatud aga mitte täielikult siis tuli uudis et presidendi kantselei auvahtkond hakkab teenistust teostama laigulistes mitte paraadmundrites nüüd on meil tants kaitsejõududes seoses sundvaktsineerimisega mis on väga selgelt põhjustanud elukutselistes   \n",
       "4   lugupeetud peaministrile on küsimus. lugupeetud juhataja hea peaminister juttu oli siin paari sõnaga kaitseväe orkestrist siin on tegelikult üks probleem. nimelt kaitseväe orkestrist oleme me juba varem rääkinud ja oleme kuulnud et asi hakkab nagu korda minema orkester läheb muuseumi alla ja asi on tore aga ma ise suhtlen hästi tihedalt nende pillimeestega kes mängisid nii kaitseväe orkestris kui ka endises piirivalveorkestris no piirivalveorkestriga on selge temast on tehtud nüüd poliitiline orkester tallinna linnavalitsuse alla ja see ei ole enam                                                                                    \n",
       "5   algab meie kaitse ju ka meie naabrite kaitsmisest olukord on olnud ju ärev seetõttu oleme valitsuses iga nädal rääkinud julgeolekuteemadel olukord mis on valgevene-leedu piiril valgevene-läti piiril või valgevene-poola piiril mõjutab otseselt ka meie julgeolekut siin. nii et mina kaitseväe juhatajat tema tegevuses igapidi toetan ta on teinud julgeid samme ja seda kõike selleks et just eesti kaitsevõimet tugevdada ka kaitseväelaste vaktsineerimisele eelnenud riskianalüüs näitas et kui kaitseväelased nii suurtes hulkades jäävad haigeks või peavad jääma isolatsiooni kuna nad on                                                         \n",
       "6   sõjaväelastes pahameelt rahulolematust vabatahtlikku lahkumist ja sunniviisilist lahkumist ma tuletan siinkohal meelde ka seda et kaitsejõudude praegune juht kindral herem oli operatiivosakonnas teeninud riigireetur deniss metsavase ajal kaitseväe peastaabi ülem seesama herem on kinnitanud kaitseväe peastaabi ülemaks ja kaitseväe juhataja asetäitjaks kindral palmi kes on saanud negatiivse atestatsiooni ja on minu andmetel isegi istunud kainestusmajas ma küsin teilt kas kõik need asjaolud kõik need operatsioonid orkestrite mundrite ja muuga on olnud teile eelnevalt teada juhataja helistab kella. kas te olete                        \n",
       "7   vähemalt mulle esitatud info kohaselt et need on needsamad inimesed kes kaitseväe orkestris varasemalt olid lisaks sellele et nad töötavad sõjamuuseumi all on neil võimalus teenida omatulu seda võimalust neil varasemalt ei olnud omatulu teenimise võimalus just lisakontsertide plaadistuslepingute kõige selle kaudu on neil ka olemas see orkester alustas 1. oktoobrist eesti rahvas ütleb korrektselt et andke aega atra seada nagu me nägime presidendi ametisse astumise tseremoonial see orkester mängib väga hästi kokku                                                                                                                         \n",
       "8   küll oleks tore kui ainult mart ja moonika helmet ei kaitstaks vaid kaitstaks ka teisi. aga see selleks lähen nüüd konkreetselt selle küsimuse juurde kaitseväes on olnud nagu ma ütlesin erinevaid laineid haigestumisega seoses kui me räägime konkreetselt nendest viimastest sammudest siis nagu ma vastasin ka eelnevalt tegemist on olnud kaitseväe juhataja tehtud riskianalüüsiga mis puudutab inimesi kes kaitseväes töötavad kõik kaitseväes töötavad inimesed on vajalikud nii sõjaajal kui ka rahuajal ja seetõttu nende isolatsiooni jäämine on ohuks kogu kaitseväe                                                                             \n",
       "9   toimepidevusele vastab tõesti tõele et me oleme eraldanud kaitse-eelarvele rohkem raha kui kunagi varem järgmisel aastal kasvab kaitse-eelarve 104 miljonit eurot ja see on kindlasti hea meie kaitsevõime tugevdamiseks seda milliseid samme täpselt astuda kaitsevõimekuse tõstmisel saame arutada ka riigikaitsekomisjonis et mis on need konkreetsed sammud aga ma arvan et oluline on nii see et oleks võimekus tehnika näol kui ka see et kaitsevägi toimib ja ei jää haigestumiste tõttu nendest ülesannetest kõrvale                                                                                                                                  \n",
       "10  hakkaksid tegema kaitseväe seadust päris põhjendatud nende asjadega peavad ikkagi tegelema juhid aga jah otse loomulikult sellises vormis et kolmas sektor ja ka valdkonnas tegutsevad inimesed saavutaksid kokkuleppe et teatud soovid ja soovitused on kõigi poolt aktsepteeritavad jõudu kõigile kaasamõtlemisel ja palju tänu spordiseaduse algatamise eest aitäh                                                                                                                                                                                                                                                                                         \n",
       "11  muidugi mängib lood ära sest seal on professionaalsed pillimehed aga enam rahvusvahelistel üritustel tattoo 'sid ja igasuguseid muid vigurmarssimisi nad tulevikus teha ei suuda kuidas me selle probleemi lahendame mina ütlen et kaitsevaimsuse seisukohalt tuleb ta taastada kaitseväe orkestrina                                                                                                                                                                                                                                                                                                                                                          \n",
       "12  õiguste kaitsega siin on riigikogu kaalumise koht                                                                                                                                                                                                                                                                                                                                                                                                                                                                                                                                                                                                             \n",
       "13  ma tänan jätkaks piiride lahtihoidmise teemal. kuidas läheb piiride kinnihoidmisega seoses valgevene kriisiga sooviks viimaseid uudiseid selles valdkonnas kuidas on seis valgevene kriisiga ja kuidas on arenenud see okastraadiskandaal eesti ja leedu vahel ja kuidas on lugu meie idapiiri ehk kontrolljoone väljaehitamisega                                                                                                                                                                                                                                                                                                                             \n",
       "14  lõpuks on 34 inimest nüüd teenistusest vabastatud. näiteks major paas kõikides sõdades osalenud igati laitmatu teenistusega mees lihtsalt lasti lahti kui paneme need numbrid kõik kokku siis tegelikult kaotus personali seas tuleb juba üsna suur kaitseväel on olnud probleeme et kõiki ajateenijaid õpetada sest kaadrit pole piisavalt olnud kuidas kaitsevägi nendes tingimustes pärast seda kolme lainet suudab oma ülesandeid korralikult täita                                                                                                                                                                                                       \n",
       "15  isamaa ja res publica liidu fraktsiooni esindajana palun nüüd kõnetooli lauri vahtre                                                                                                                                                                                                                                                                                                                                                                                                                                                                                                                                                                          \n",
       "16  aitäh aivar kokk isamaa fraktsiooni nimel palun                                                                                                                                                                                                                                                                                                                                                                                                                                                                                                                                                                                                               \n",
       "17  selleks et toetada neid inimesi seal ja hoida ära rändesurvet euroopale sealhulgas eestile                                                                                                                                                                                                                                                                                                                                                                                                                                                                                                                                                                    \n",
       "18  riigi tseremoniaalorkester aga mis puudutab kaitseväe orkestrit siis vormistatakse lepinguid nende lepingutega on niimoodi et nad võetakse tööle poole kohaga paljud pillimehed ei taha minna niimoodi poole kohaga tööle ja see tähendab seda et see orkester hakkab vaikselt lagunema ma olen rääkinud ka endiste orkestrijuhtidega et teha tseremoniaalorkestrit selleks läheb aastaid aega selleks et tema tattoo 'd rahvusvaheline tunnustatus kõik säiliks ja areneks edasi me lagundame praegu selle orkestri ära ja saame mingisuguse 20‑mehelise kuidas nüüd ilusasti öelda orkestri mis                                                             \n",
       "19  nendel teemadel härra heremiga vestelnud ja juhtinud tema tähelepanu sellele et tema tegevus on süstemaatiline kaitseväe moraali ja kaitsetahte õõnestamine                                                                                                                                                                                                                                                                                                                                                                                                                                                                                                   \n",
       "\n",
       "                                      id     score  \n",
       "0   048b3317-a71a-493e-befc-7f8903d73579  0.857824  \n",
       "1   6d1d1a7a-02c0-45f5-b878-53ee909ccd9e  0.847334  \n",
       "2   ba2e5136-198d-4d63-a6a8-54efeebcf88b  0.844165  \n",
       "3   6e073a0a-e68c-4520-9846-249c5f09f39d  0.843919  \n",
       "4   9b788559-dadc-4afe-9d6d-062c3a575d92  0.843653  \n",
       "5   957bf475-fee8-4d23-a077-88677d2f7b4f  0.838523  \n",
       "6   64b10f53-4b9b-48a5-a638-dd0014ffeebc  0.838299  \n",
       "7   d2eb1194-1af9-4be2-9f69-f5d160c181d2  0.837577  \n",
       "8   3e790909-1d07-4bac-9f50-65c97eb6114d  0.836048  \n",
       "9   3095eefc-7ea2-4731-bcc6-fdec83801243  0.830220  \n",
       "10  3f526edc-79f9-425f-8d7c-43f6a4a2e84e  0.829736  \n",
       "11  423683e0-202e-4a81-b57d-2d4620ed1a69  0.829598  \n",
       "12  d0ef1a16-9e42-4a5b-9409-b675ebafbe71  0.828055  \n",
       "13  38962c79-c857-48d9-95b0-c03c0d16ace0  0.826786  \n",
       "14  e02ece79-dd2d-4527-af8c-d366b364d932  0.826161  \n",
       "15  0b8a4e94-ff03-49fc-a772-177511bf735e  0.825985  \n",
       "16  ab013aab-2f85-4170-b33f-552612fea36b  0.824587  \n",
       "17  e110e4d4-7c84-44e3-b583-f2da440f3d7d  0.824133  \n",
       "18  dfd89293-4b48-418f-838a-4b2798f8f9d0  0.823554  \n",
       "19  e98c6c7e-4687-4845-8808-00445e08d91a  0.823432  "
      ]
     },
     "execution_count": 33,
     "metadata": {},
     "output_type": "execute_result"
    }
   ],
   "source": [
    "df_resp"
   ]
  },
  {
   "cell_type": "code",
   "execution_count": 119,
   "id": "38d4bc71-20ba-405d-aeaa-ac6df78d517b",
   "metadata": {},
   "outputs": [
    {
     "name": "stdout",
     "output_type": "stream",
     "text": [
      "query string for ask_query_count is riik Ukraina\n"
     ]
    },
    {
     "data": {
      "text/plain": [
       "'Ukraina mainitakse kahes tekstis.'"
      ]
     },
     "execution_count": 119,
     "metadata": {},
     "output_type": "execute_result"
    }
   ],
   "source": [
    "resp, func_call_out, df_resp=askgpt_func_call('Kui mitmes tekstis mainitakse riiki Ukraina?',\n",
    "                functions=[schema(ask_query_count)])\n",
    "resp"
   ]
  },
  {
   "cell_type": "code",
   "execution_count": 120,
   "id": "c87d40aa-f3c7-4aaa-a535-4f169d8b7242",
   "metadata": {},
   "outputs": [
    {
     "data": {
      "text/html": [
       "<div>\n",
       "<style scoped>\n",
       "    .dataframe tbody tr th:only-of-type {\n",
       "        vertical-align: middle;\n",
       "    }\n",
       "\n",
       "    .dataframe tbody tr th {\n",
       "        vertical-align: top;\n",
       "    }\n",
       "\n",
       "    .dataframe thead th {\n",
       "        text-align: right;\n",
       "    }\n",
       "</style>\n",
       "<table border=\"1\" class=\"dataframe\">\n",
       "  <thead>\n",
       "    <tr style=\"text-align: right;\">\n",
       "      <th></th>\n",
       "      <th>text_splitted</th>\n",
       "    </tr>\n",
       "  </thead>\n",
       "  <tbody>\n",
       "    <tr>\n",
       "      <th>191</th>\n",
       "      <td>arvatud rikastes põhjamaades see pärsib meie konkurentsivõimet ja paneb surve alla palgad kui kõik muud sisendhinnad on naabrite omadest kõrgemad siis ainus koht kust kokku hoida on töötajad just sellepärast nõuavad mõned tööandjad meile odavat tööjõudu ukrainast elektri ja gaasi hinda langetades anname ettevõtjatele võimaluse tõsta palkasid kaotamata konkurentsis välisturgudel eesmärk peaks olema muuta eesti kõige odavama energiaga riigiks meie piirkonnas milliseid maksupoliitilisi muudatusi me veel peame vajalikuks tee- ja veokimaks ei suurenda oluliselt riigieelarvet küll aga vähendab meie transpordiettevõtete</td>\n",
       "    </tr>\n",
       "    <tr>\n",
       "      <th>267</th>\n",
       "      <td>kolm maksuastet 16% 24% ja 33% lühikest aega ka 50% kui tuli võimule mart laar siis ta kehtestas ühtse 27%-lise maksu mis tähendas seda et rikkamad hakkasid vähem maksma ja väiksema sissetulekuga inimesed tunduvalt rohkem ma ei saa siiamaani aru miks me ei taha minna sama teed nagu muu euroopa miks me tahame seista kogu aeg ühel pulgal venemaaga kus on nagu meil proportsionaalne ja ühetaoline tulumaks täpselt samuti on ka bulgaarias rumeenias ukrainas ja ma ei tea bahama saartel</td>\n",
       "    </tr>\n",
       "  </tbody>\n",
       "</table>\n",
       "</div>"
      ],
      "text/plain": [
       "                                                                                                                                                                                                                                                                                                                                                                                                                                                                                                                                                                                                                                    text_splitted\n",
       "191  arvatud rikastes põhjamaades see pärsib meie konkurentsivõimet ja paneb surve alla palgad kui kõik muud sisendhinnad on naabrite omadest kõrgemad siis ainus koht kust kokku hoida on töötajad just sellepärast nõuavad mõned tööandjad meile odavat tööjõudu ukrainast elektri ja gaasi hinda langetades anname ettevõtjatele võimaluse tõsta palkasid kaotamata konkurentsis välisturgudel eesmärk peaks olema muuta eesti kõige odavama energiaga riigiks meie piirkonnas milliseid maksupoliitilisi muudatusi me veel peame vajalikuks tee- ja veokimaks ei suurenda oluliselt riigieelarvet küll aga vähendab meie transpordiettevõtete\n",
       "267  kolm maksuastet 16% 24% ja 33% lühikest aega ka 50% kui tuli võimule mart laar siis ta kehtestas ühtse 27%-lise maksu mis tähendas seda et rikkamad hakkasid vähem maksma ja väiksema sissetulekuga inimesed tunduvalt rohkem ma ei saa siiamaani aru miks me ei taha minna sama teed nagu muu euroopa miks me tahame seista kogu aeg ühel pulgal venemaaga kus on nagu meil proportsionaalne ja ühetaoline tulumaks täpselt samuti on ka bulgaarias rumeenias ukrainas ja ma ei tea bahama saartel                                                                                                                                         "
      ]
     },
     "execution_count": 120,
     "metadata": {},
     "output_type": "execute_result"
    }
   ],
   "source": [
    "df[df.text_splitted.str.contains('ukraina')]"
   ]
  },
  {
   "cell_type": "code",
   "execution_count": 121,
   "id": "160883d8-dd5c-4f98-9b9b-c248f1caa1b4",
   "metadata": {},
   "outputs": [
    {
     "data": {
      "text/html": [
       "<div>\n",
       "<style scoped>\n",
       "    .dataframe tbody tr th:only-of-type {\n",
       "        vertical-align: middle;\n",
       "    }\n",
       "\n",
       "    .dataframe tbody tr th {\n",
       "        vertical-align: top;\n",
       "    }\n",
       "\n",
       "    .dataframe thead th {\n",
       "        text-align: right;\n",
       "    }\n",
       "</style>\n",
       "<table border=\"1\" class=\"dataframe\">\n",
       "  <thead>\n",
       "    <tr style=\"text-align: right;\">\n",
       "      <th></th>\n",
       "      <th>text</th>\n",
       "      <th>id</th>\n",
       "      <th>score</th>\n",
       "    </tr>\n",
       "  </thead>\n",
       "  <tbody>\n",
       "    <tr>\n",
       "      <th>0</th>\n",
       "      <td>arvatud rikastes põhjamaades see pärsib meie konkurentsivõimet ja paneb surve alla palgad kui kõik muud sisendhinnad on naabrite omadest kõrgemad siis ainus koht kust kokku hoida on töötajad just sellepärast nõuavad mõned tööandjad meile odavat tööjõudu ukrainast elektri ja gaasi hinda langetades anname ettevõtjatele võimaluse tõsta palkasid kaotamata konkurentsis välisturgudel eesmärk peaks olema muuta eesti kõige odavama energiaga riigiks meie piirkonnas milliseid maksupoliitilisi muudatusi me veel peame vajalikuks tee- ja veokimaks ei suurenda oluliselt riigieelarvet küll aga vähendab meie transpordiettevõtete</td>\n",
       "      <td>975f70e9-ae31-46a3-8607-b6c33004a52e</td>\n",
       "      <td>0.809876</td>\n",
       "    </tr>\n",
       "    <tr>\n",
       "      <th>1</th>\n",
       "      <td>aitäh härra eesistuja lugupeetud kaja kallas meil on aegrida kujunenud ja see aegrida kaitsejõudude puhul on järgmine teatavasti soovitati 9. mail meie kaitseväelastel riietuda tsiviilriietesse et mitte ärritada 9. maid tähistavaid venekeelseid eesti vabariigi elanikke seejärel tuli uudis et kaotatakse kaplaniteenistus ja pannakse kinni sõjaväeorkester see viga on küll osaliselt parandatud aga mitte täielikult siis tuli uudis et presidendi kantselei auvahtkond hakkab teenistust teostama laigulistes mitte paraadmundrites nüüd on meil tants kaitsejõududes seoses sundvaktsineerimisega mis on väga selgelt põhjustanud elukutselistes</td>\n",
       "      <td>42717d0c-c9cd-4d6f-927d-ec60935a38bd</td>\n",
       "      <td>0.802319</td>\n",
       "    </tr>\n",
       "  </tbody>\n",
       "</table>\n",
       "</div>"
      ],
      "text/plain": [
       "                                                                                                                                                                                                                                                                                                                                                                                                                                                                                                                                                                                                                                                          text  \\\n",
       "0  arvatud rikastes põhjamaades see pärsib meie konkurentsivõimet ja paneb surve alla palgad kui kõik muud sisendhinnad on naabrite omadest kõrgemad siis ainus koht kust kokku hoida on töötajad just sellepärast nõuavad mõned tööandjad meile odavat tööjõudu ukrainast elektri ja gaasi hinda langetades anname ettevõtjatele võimaluse tõsta palkasid kaotamata konkurentsis välisturgudel eesmärk peaks olema muuta eesti kõige odavama energiaga riigiks meie piirkonnas milliseid maksupoliitilisi muudatusi me veel peame vajalikuks tee- ja veokimaks ei suurenda oluliselt riigieelarvet küll aga vähendab meie transpordiettevõtete                  \n",
       "1  aitäh härra eesistuja lugupeetud kaja kallas meil on aegrida kujunenud ja see aegrida kaitsejõudude puhul on järgmine teatavasti soovitati 9. mail meie kaitseväelastel riietuda tsiviilriietesse et mitte ärritada 9. maid tähistavaid venekeelseid eesti vabariigi elanikke seejärel tuli uudis et kaotatakse kaplaniteenistus ja pannakse kinni sõjaväeorkester see viga on küll osaliselt parandatud aga mitte täielikult siis tuli uudis et presidendi kantselei auvahtkond hakkab teenistust teostama laigulistes mitte paraadmundrites nüüd on meil tants kaitsejõududes seoses sundvaktsineerimisega mis on väga selgelt põhjustanud elukutselistes   \n",
       "\n",
       "                                     id     score  \n",
       "0  975f70e9-ae31-46a3-8607-b6c33004a52e  0.809876  \n",
       "1  42717d0c-c9cd-4d6f-927d-ec60935a38bd  0.802319  "
      ]
     },
     "execution_count": 121,
     "metadata": {},
     "output_type": "execute_result"
    }
   ],
   "source": [
    "df_resp"
   ]
  },
  {
   "cell_type": "code",
   "execution_count": 122,
   "id": "2844c5e8-5257-4193-8f6c-d4b8f15ba5db",
   "metadata": {},
   "outputs": [
    {
     "name": "stdout",
     "output_type": "stream",
     "text": [
      "query string for ask_query_count is kunst OR kunstiteos OR kunstiline objekt\n"
     ]
    },
    {
     "data": {
      "text/plain": [
       "'Andmebaasi põhjal ei räägita üheski tekstis kunstist, kunstiteosest või kunstilisest objektist.'"
      ]
     },
     "execution_count": 122,
     "metadata": {},
     "output_type": "execute_result"
    }
   ],
   "source": [
    "resp, func_call_out, df_resp=askgpt_func_call('Kui mitmes tekstis räägitakse kunstist või kunstiteosest või kunstilisest objektist?',\n",
    "                functions=[schema(ask_query_count)])\n",
    "resp"
   ]
  },
  {
   "cell_type": "code",
   "execution_count": 99,
   "id": "c88ee8eb-deb2-4aa3-84ba-22c81cf430b6",
   "metadata": {},
   "outputs": [
    {
     "data": {
      "text/html": [
       "<div>\n",
       "<style scoped>\n",
       "    .dataframe tbody tr th:only-of-type {\n",
       "        vertical-align: middle;\n",
       "    }\n",
       "\n",
       "    .dataframe tbody tr th {\n",
       "        vertical-align: top;\n",
       "    }\n",
       "\n",
       "    .dataframe thead th {\n",
       "        text-align: right;\n",
       "    }\n",
       "</style>\n",
       "<table border=\"1\" class=\"dataframe\">\n",
       "  <thead>\n",
       "    <tr style=\"text-align: right;\">\n",
       "      <th></th>\n",
       "      <th>text_splitted</th>\n",
       "    </tr>\n",
       "  </thead>\n",
       "  <tbody>\n",
       "    <tr>\n",
       "      <th>929</th>\n",
       "      <td>aitäh lugupeetud juhataja lugupeetud minister ka minu küsimus puudutab võlaõigusseaduse muudatusi mis on seotud kahju hüvitamisega eesti kohtupraktikas on üks selline juhtum et kadri k filmi m. tõlkes great ehk 'suurepärane' puhul ei olnud kohtul muud võimalust kui see film ära keelata kuigi tegelikult oleks lahenduseks olnud ka kahju hüvitamine kas selle eelnõu puhul oleks võimalik öelda et edaspidi sellistel juhtumitel mingi kultuuri- või ka kunstilise objekti filmi ükskõik mis asja ärakeelamise asemel saaks kasutada kahju hüvitamist kui ei siis</td>\n",
       "    </tr>\n",
       "  </tbody>\n",
       "</table>\n",
       "</div>"
      ],
      "text/plain": [
       "                                                                                                                                                                                                                                                                                                                                                                                                                                                                                                                                                                 text_splitted\n",
       "929  aitäh lugupeetud juhataja lugupeetud minister ka minu küsimus puudutab võlaõigusseaduse muudatusi mis on seotud kahju hüvitamisega eesti kohtupraktikas on üks selline juhtum et kadri k filmi m. tõlkes great ehk 'suurepärane' puhul ei olnud kohtul muud võimalust kui see film ära keelata kuigi tegelikult oleks lahenduseks olnud ka kahju hüvitamine kas selle eelnõu puhul oleks võimalik öelda et edaspidi sellistel juhtumitel mingi kultuuri- või ka kunstilise objekti filmi ükskõik mis asja ärakeelamise asemel saaks kasutada kahju hüvitamist kui ei siis"
      ]
     },
     "execution_count": 99,
     "metadata": {},
     "output_type": "execute_result"
    }
   ],
   "source": [
    "df[df.text_splitted.str.contains('kunst')]"
   ]
  },
  {
   "cell_type": "code",
   "execution_count": 124,
   "id": "997f0e6b-7fb3-40b4-9d63-932022ab7286",
   "metadata": {},
   "outputs": [
    {
     "name": "stdout",
     "output_type": "stream",
     "text": [
      "query string for ask_query_count is arvutitest OR IT\n"
     ]
    },
    {
     "data": {
      "text/plain": [
       "'Andmebaasi põhjal on teada, et 16 tekstis räägitakse arvutitest või IT-st.'"
      ]
     },
     "execution_count": 124,
     "metadata": {},
     "output_type": "execute_result"
    }
   ],
   "source": [
    "resp, func_call_out, df_resp=askgpt_func_call('Kui mitmes tekstis räägitakse arvutitest või IT-st?',\n",
    "                functions=[schema(ask_query_count)])\n",
    "resp"
   ]
  },
  {
   "cell_type": "code",
   "execution_count": 123,
   "id": "09037149-54b2-40ca-8900-e34b063cf9a6",
   "metadata": {},
   "outputs": [
    {
     "data": {
      "text/html": [
       "<div>\n",
       "<style scoped>\n",
       "    .dataframe tbody tr th:only-of-type {\n",
       "        vertical-align: middle;\n",
       "    }\n",
       "\n",
       "    .dataframe tbody tr th {\n",
       "        vertical-align: top;\n",
       "    }\n",
       "\n",
       "    .dataframe thead th {\n",
       "        text-align: right;\n",
       "    }\n",
       "</style>\n",
       "<table border=\"1\" class=\"dataframe\">\n",
       "  <thead>\n",
       "    <tr style=\"text-align: right;\">\n",
       "      <th></th>\n",
       "      <th>text_splitted</th>\n",
       "    </tr>\n",
       "  </thead>\n",
       "  <tbody>\n",
       "    <tr>\n",
       "      <th>13</th>\n",
       "      <td>peale 3 miljardit tundi mis tegi ühe maksumaksja kohta keskmiseks ajakuluks 27 tundi aastas eesti on aga maailmas läbi löönud tugeva it-riigina ja siin esitatakse üle 98% tuludeklaratsioonidest interneti teel täiendav maksuaste ei ole arvutiprogrammi jaoks mingisugune takistus eesti on olnud aastaid sissetulekute jaotuse poolest pigem euroopa liidu ebavõrdsemate riikide hulgas seda näitab gini indeks mis sobib kõige paremini iseloomustama ühiskondade sotsiaalset ebavõrdsust ja kihistumist mida madalam on gini indeksi väärtus seda võrdsem on ühiskonna majanduslik ja sotsiaalne seisund arenenud</td>\n",
       "    </tr>\n",
       "    <tr>\n",
       "      <th>75</th>\n",
       "      <td>ei ole varsti enam optimaalne lahendus ja riigid peaksid mõtlema muule lahendusele see eristamine on kulukas see on võib-olla ebavajalik ja see ei pruugi mingist hetkest alates ka õiglustundega vastavuses olla peame arvestama ka sellega et diginomaadluski on kasvamas diginomaadid on sellised inimesed kuidas öelda mees ja arvuti tüüpi oü-de asutajad kes reisivad mööda maailma ja kelle töötegemise asukoht ei ole üldse oluline nemad teevad tööd internetis see tähendab seda et riikide sotsiaalkindlustussüsteemid on löögi all neli aastat tagasi hinnati</td>\n",
       "    </tr>\n",
       "  </tbody>\n",
       "</table>\n",
       "</div>"
      ],
      "text/plain": [
       "                                                                                                                                                                                                                                                                                                                                                                                                                                                                                                                                                                                                              text_splitted\n",
       "13  peale 3 miljardit tundi mis tegi ühe maksumaksja kohta keskmiseks ajakuluks 27 tundi aastas eesti on aga maailmas läbi löönud tugeva it-riigina ja siin esitatakse üle 98% tuludeklaratsioonidest interneti teel täiendav maksuaste ei ole arvutiprogrammi jaoks mingisugune takistus eesti on olnud aastaid sissetulekute jaotuse poolest pigem euroopa liidu ebavõrdsemate riikide hulgas seda näitab gini indeks mis sobib kõige paremini iseloomustama ühiskondade sotsiaalset ebavõrdsust ja kihistumist mida madalam on gini indeksi väärtus seda võrdsem on ühiskonna majanduslik ja sotsiaalne seisund arenenud\n",
       "75  ei ole varsti enam optimaalne lahendus ja riigid peaksid mõtlema muule lahendusele see eristamine on kulukas see on võib-olla ebavajalik ja see ei pruugi mingist hetkest alates ka õiglustundega vastavuses olla peame arvestama ka sellega et diginomaadluski on kasvamas diginomaadid on sellised inimesed kuidas öelda mees ja arvuti tüüpi oü-de asutajad kes reisivad mööda maailma ja kelle töötegemise asukoht ei ole üldse oluline nemad teevad tööd internetis see tähendab seda et riikide sotsiaalkindlustussüsteemid on löögi all neli aastat tagasi hinnati                                              "
      ]
     },
     "execution_count": 123,
     "metadata": {},
     "output_type": "execute_result"
    }
   ],
   "source": [
    "df[df.text_splitted.str.contains('arvuti')]"
   ]
  },
  {
   "cell_type": "code",
   "execution_count": 125,
   "id": "6bb2dbbb-551f-413f-872d-70ce3ba73709",
   "metadata": {},
   "outputs": [
    {
     "data": {
      "text/html": [
       "<div>\n",
       "<style scoped>\n",
       "    .dataframe tbody tr th:only-of-type {\n",
       "        vertical-align: middle;\n",
       "    }\n",
       "\n",
       "    .dataframe tbody tr th {\n",
       "        vertical-align: top;\n",
       "    }\n",
       "\n",
       "    .dataframe thead th {\n",
       "        text-align: right;\n",
       "    }\n",
       "</style>\n",
       "<table border=\"1\" class=\"dataframe\">\n",
       "  <thead>\n",
       "    <tr style=\"text-align: right;\">\n",
       "      <th></th>\n",
       "      <th>text</th>\n",
       "      <th>id</th>\n",
       "      <th>score</th>\n",
       "    </tr>\n",
       "  </thead>\n",
       "  <tbody>\n",
       "    <tr>\n",
       "      <th>0</th>\n",
       "      <td>peale 3 miljardit tundi mis tegi ühe maksumaksja kohta keskmiseks ajakuluks 27 tundi aastas eesti on aga maailmas läbi löönud tugeva it-riigina ja siin esitatakse üle 98% tuludeklaratsioonidest interneti teel täiendav maksuaste ei ole arvutiprogrammi jaoks mingisugune takistus eesti on olnud aastaid sissetulekute jaotuse poolest pigem euroopa liidu ebavõrdsemate riikide hulgas seda näitab gini indeks mis sobib kõige paremini iseloomustama ühiskondade sotsiaalset ebavõrdsust ja kihistumist mida madalam on gini indeksi väärtus seda võrdsem on ühiskonna majanduslik ja sotsiaalne seisund arenenud</td>\n",
       "      <td>a6f870d6-93c2-420e-bcf2-ccb6063de212</td>\n",
       "      <td>0.806443</td>\n",
       "    </tr>\n",
       "    <tr>\n",
       "      <th>1</th>\n",
       "      <td>täpsustav küsimus andres metsoja palun</td>\n",
       "      <td>0372d4dd-0910-4d21-8539-99d3a06a3cd8</td>\n",
       "      <td>0.805742</td>\n",
       "    </tr>\n",
       "    <tr>\n",
       "      <th>2</th>\n",
       "      <td>küll aga on võimalik muuta riigiteenuseid läbipaistvamaks ja automaatsemaks kui me mõistlikult arendaksime oma e-riiki ja kasutaksime rohkem tehisintellekti aitäh</td>\n",
       "      <td>ee362567-ff18-4339-8fc3-c38fbf2bdacd</td>\n",
       "      <td>0.805299</td>\n",
       "    </tr>\n",
       "    <tr>\n",
       "      <th>3</th>\n",
       "      <td>austatud minister võib-olla remargi korras mina selle kongressi osas nii optimistlik ei ole aga selle kohta ma küsida ei taha ma küsin hoopis kas see seadusmuudatus hõlbustab spordiklubide statistiliste ja muude andmete kogumist praegu peab maksu- ja tolliametile oma aruanded esitama ühel kuupäeval statistikaametile hoopis teisel kuupäeval ka tallinna linnavalitsus koostab oma spordiregistrit ja üleeilseks pidi selle ära tegema enamik spordiklubisid on suhteliselt väiksed ja raamatupidajad töötavad lepingu alusel neile on suhteliselt suur koormus täita iga kuu mingisuguseid pabereid kas</td>\n",
       "      <td>767c25c2-f453-4a34-b29e-80dca3241601</td>\n",
       "      <td>0.804524</td>\n",
       "    </tr>\n",
       "    <tr>\n",
       "      <th>4</th>\n",
       "      <td>aitäh ma kahjuks ei ole andmekaitsespetsialist ma olen maksuspetsialist aga ma olen suhteliselt kindel ütleme 99,9% kindel et te olete siiski andnud oma nõusoleku nende andmete kasutamiseks võib-olla see on lihtsalt kuskil kirjas väga väikses šriftis ega ei ole ka üheselt arusaadav aga teie küsimus on väga huvitav illustreerimaks olukorda kuidas lähenetakse digihiidude ja andmete kui uue nafta käsitusele märgin et mõned riigid eelistavad öelda et see et inimesed saavad tasuta kasutada facebooki google'it jne tähendab seda et toimub partnertehing</td>\n",
       "      <td>be1c1187-da73-4485-b000-9e984a115672</td>\n",
       "      <td>0.803139</td>\n",
       "    </tr>\n",
       "    <tr>\n",
       "      <th>5</th>\n",
       "      <td>representatiivsus samuti andmete kvaliteet kuna puudub konkreetne seaduslik alus andmete kogumiseks ja töötlemiseks ei suuda spordiregister täies mahus veel oma eesmärke täita infoks niipalju et on olemas leping statistikaameti ning spordikoolituse ja -teabe sihtasutuse vahel alla kirjutatud 19. jaanuaril 2010. aastal mis annab edaspidi kõik õigused üle statistikaametile praegu ei kogu ükski riigi ega kohaliku omavalitsuse andmekogu andmeid spordiorganisatsioonide -ehitiste ja treenerite kohta spordikoolide kohta kogub andmeid eesti hariduse infosüsteem ehk ehis spordialasid käsitlevaid andmeid sealt aga ei leia on</td>\n",
       "      <td>e8a31825-0bef-4a7f-bfd7-bbf1936c2715</td>\n",
       "      <td>0.802895</td>\n",
       "    </tr>\n",
       "    <tr>\n",
       "      <th>6</th>\n",
       "      <td>on praeguseks juba osaliselt valminud veel arendamist vajava osa tarbeks rahuldas spordikoolituse ja -teabe sihtasutus riigi infosüsteemide keskusele majanduskeskkonna arendamise rakenduskava infoühiskonna edendamise prioriteetse suuna avatud taotlusvooru eeltaotluse mahus 1 704 725 krooni millest omafinantseering moodustab 15% ehk 255 709 krooni aitäh</td>\n",
       "      <td>8de22720-d311-4825-b4d0-7b6b1e775c67</td>\n",
       "      <td>0.802875</td>\n",
       "    </tr>\n",
       "    <tr>\n",
       "      <th>7</th>\n",
       "      <td>austatud istungi juhataja head kolleegid annan keskerakonna fraktsiooni nimel sisse järjekordse arupärimise sotsiaalminister hanno pevkurile mis puudutab vaesuse temaatikat toimetulekupiiri küsime miks ei ole kaks viimast aastat enam arvutatud toimetulekupiiri suurust küsime miks ei ole meile teada ostukorvi suurus kas seda ei tahetagi näidata me teame et kahel viimasel aastal eriti aastal 2008 oli väga suur inflatsioon ja on selge et senise maksumusega ostukorvi enam needsamad kaubad ja teenused ei mahu ilmselt sellepärast seda ei tahetagi meile teada anda ja</td>\n",
       "      <td>b4ef0481-6d1d-4b38-a982-767c69b549cc</td>\n",
       "      <td>0.802722</td>\n",
       "    </tr>\n",
       "    <tr>\n",
       "      <th>8</th>\n",
       "      <td>siiski facebooki ja google'i ja ka kõikide teiste bilansis ja nad saavad nende andmete kasutamise või nende müügi pealt tulu ja see tulu kui näiteks andmed puudutavad eesti inimesi eestis mitte kuidagi ei kajastu eesti mitte kuidagi ei saa selle pealt tulu osa eesti inimesi vaid saab tasuta facebooki ja google'it kasutada aga eesti riigieelarve sellest kasu ei saa ja see olukord võiks tegelikult muutuda kui andmeid n-ö kaevandatakse eestis siis me võiksime öelda et see tegevus toimub eestis see</td>\n",
       "      <td>4d5e5ac4-e614-4068-833c-ef8af6dcd3c0</td>\n",
       "      <td>0.802373</td>\n",
       "    </tr>\n",
       "    <tr>\n",
       "      <th>9</th>\n",
       "      <td>tootmissisend ferrari f430 hävis õnnetuses aga ärge muretsege tol hetkel oli meie liiklusregistris seda tüüpi tootmisvahendeid tervelt 50 tükki ja veel enam 80% neist õnneks leiavad kasutust lisandväärtuse tootmise protsessis mõne ettevõtte teenistuses selline kõrgtehnoloogia meie transporditöötajate käsutuses on muidugi tore kahjuks laste mänguasjade tootjad meie ettevõtjate eelistustega ei arvesta aga meil on siin teistsuguseid mänguasju näiteks siin on üks tugevam tükk selline ilus punane näitab saalile punast automudelit. ma ei tea kas ma julgen nüüd seda öelda aga sotsiaaldemokraatide</td>\n",
       "      <td>3bddb596-3c0d-4ac3-b1d0-beed7b7321bf</td>\n",
       "      <td>0.801691</td>\n",
       "    </tr>\n",
       "    <tr>\n",
       "      <th>10</th>\n",
       "      <td>et 13 miljonit digiteenuste maksuraha kätte saada kaks küsimust ühes</td>\n",
       "      <td>080894ba-72be-49a3-ad6e-090eb31fcf9c</td>\n",
       "      <td>0.801562</td>\n",
       "    </tr>\n",
       "    <tr>\n",
       "      <th>11</th>\n",
       "      <td>kolmelt inimeselt kas selline info on vaid külajutt mis võib vastata ka tõele või on selles jutus ka terake tõtt lihtsalt soovin infot otseallikast</td>\n",
       "      <td>6db197fe-c2c5-40d4-b7d1-a2b2aefba94b</td>\n",
       "      <td>0.800654</td>\n",
       "    </tr>\n",
       "    <tr>\n",
       "      <th>12</th>\n",
       "      <td>täpsustuseks niipalju et see tööversioon on üleval kodulehel www.eok.ee see versioon on olümpiakomitee oma võib-olla te vaatasite kultuuriministeeriumi kodulehel olevat spordikoolide ja -klubide nimistut mis puutub spordiregistri tööversiooni siis seal on spordiklubid ja -koolid võrdsustatud nad on ühe lingi all</td>\n",
       "      <td>48870ca0-9dc1-47c8-a6e7-d0ffe6ef2f38</td>\n",
       "      <td>0.800312</td>\n",
       "    </tr>\n",
       "    <tr>\n",
       "      <th>13</th>\n",
       "      <td>erakoolid samuti leiab andmeid spordirajatiste kohta veebirakendus asendab senise aegavõtva teabe hankimise e-posti või telefoni teel teabe kergem hankimine annab ka paremad võimalused spordi turvalisemaks ja mitmekülgsemaks harrastamiseks aidates seeläbi kaudselt kokku hoida kulutusi tervishoiule ning tagades inimestele parema elukvaliteedi spordiseaduse muutmise seaduse eesmärk on luua seaduslik alus spordiregistri asutamiseks ja selle põhimääruse kehtestamiseks seni eksisteerib spordiregister eraõigusliku andmebaasina spordikoolituse ja -teabe sihtasutuses eraõiguslikul andmebaasil on aga mõningaid puudujääke kuna andmete esitamine ei ole kohustuslik vaid vabatahtlik võib kannatada spordiregistri</td>\n",
       "      <td>b09d4c68-23a7-48fd-b9aa-b86a36855f26</td>\n",
       "      <td>0.800224</td>\n",
       "    </tr>\n",
       "    <tr>\n",
       "      <th>14</th>\n",
       "      <td>füüsilises maailmas peab neid makse välja arvutama ja ära maksma reaalsele maksuhaldurile riigid aga ei ole rahul sellega kuidas see jaotus maailmas praegu toimub rahvusvahelised maksureeglid lihtsalt ei arvesta globaalselt tegutsevate ettevõtetega kes saavad distantsilt tegutseda kus iganes aga makse maksta seal kus on see neile kõige soodsam mis on siis lahendus eesti pakkus eesistumise ajal et võiks vaadata sellist mõistet nagu virtuaalne püsiv tegevuskoht eestis oleks see siis nii et kui ettevõte tegutseb väga aktiivselt mõne riigi majanduses kuigi</td>\n",
       "      <td>f4403f7b-95ff-49d3-abd6-89e3be6172a8</td>\n",
       "      <td>0.800215</td>\n",
       "    </tr>\n",
       "    <tr>\n",
       "      <th>15</th>\n",
       "      <td>ei ole varsti enam optimaalne lahendus ja riigid peaksid mõtlema muule lahendusele see eristamine on kulukas see on võib-olla ebavajalik ja see ei pruugi mingist hetkest alates ka õiglustundega vastavuses olla peame arvestama ka sellega et diginomaadluski on kasvamas diginomaadid on sellised inimesed kuidas öelda mees ja arvuti tüüpi oü-de asutajad kes reisivad mööda maailma ja kelle töötegemise asukoht ei ole üldse oluline nemad teevad tööd internetis see tähendab seda et riikide sotsiaalkindlustussüsteemid on löögi all neli aastat tagasi hinnati</td>\n",
       "      <td>c217dab1-c259-4241-8480-e20f906e4d25</td>\n",
       "      <td>0.800033</td>\n",
       "    </tr>\n",
       "  </tbody>\n",
       "</table>\n",
       "</div>"
      ],
      "text/plain": [
       "                                                                                                                                                                                                                                                                                                                                                                                                                                                                                                                                                                                                                                                                                                                                    text  \\\n",
       "0   peale 3 miljardit tundi mis tegi ühe maksumaksja kohta keskmiseks ajakuluks 27 tundi aastas eesti on aga maailmas läbi löönud tugeva it-riigina ja siin esitatakse üle 98% tuludeklaratsioonidest interneti teel täiendav maksuaste ei ole arvutiprogrammi jaoks mingisugune takistus eesti on olnud aastaid sissetulekute jaotuse poolest pigem euroopa liidu ebavõrdsemate riikide hulgas seda näitab gini indeks mis sobib kõige paremini iseloomustama ühiskondade sotsiaalset ebavõrdsust ja kihistumist mida madalam on gini indeksi väärtus seda võrdsem on ühiskonna majanduslik ja sotsiaalne seisund arenenud                                                                                                                \n",
       "1   täpsustav küsimus andres metsoja palun                                                                                                                                                                                                                                                                                                                                                                                                                                                                                                                                                                                                                                                                                                 \n",
       "2   küll aga on võimalik muuta riigiteenuseid läbipaistvamaks ja automaatsemaks kui me mõistlikult arendaksime oma e-riiki ja kasutaksime rohkem tehisintellekti aitäh                                                                                                                                                                                                                                                                                                                                                                                                                                                                                                                                                                     \n",
       "3   austatud minister võib-olla remargi korras mina selle kongressi osas nii optimistlik ei ole aga selle kohta ma küsida ei taha ma küsin hoopis kas see seadusmuudatus hõlbustab spordiklubide statistiliste ja muude andmete kogumist praegu peab maksu- ja tolliametile oma aruanded esitama ühel kuupäeval statistikaametile hoopis teisel kuupäeval ka tallinna linnavalitsus koostab oma spordiregistrit ja üleeilseks pidi selle ära tegema enamik spordiklubisid on suhteliselt väiksed ja raamatupidajad töötavad lepingu alusel neile on suhteliselt suur koormus täita iga kuu mingisuguseid pabereid kas                                                                                                                      \n",
       "4   aitäh ma kahjuks ei ole andmekaitsespetsialist ma olen maksuspetsialist aga ma olen suhteliselt kindel ütleme 99,9% kindel et te olete siiski andnud oma nõusoleku nende andmete kasutamiseks võib-olla see on lihtsalt kuskil kirjas väga väikses šriftis ega ei ole ka üheselt arusaadav aga teie küsimus on väga huvitav illustreerimaks olukorda kuidas lähenetakse digihiidude ja andmete kui uue nafta käsitusele märgin et mõned riigid eelistavad öelda et see et inimesed saavad tasuta kasutada facebooki google'it jne tähendab seda et toimub partnertehing                                                                                                                                                                \n",
       "5   representatiivsus samuti andmete kvaliteet kuna puudub konkreetne seaduslik alus andmete kogumiseks ja töötlemiseks ei suuda spordiregister täies mahus veel oma eesmärke täita infoks niipalju et on olemas leping statistikaameti ning spordikoolituse ja -teabe sihtasutuse vahel alla kirjutatud 19. jaanuaril 2010. aastal mis annab edaspidi kõik õigused üle statistikaametile praegu ei kogu ükski riigi ega kohaliku omavalitsuse andmekogu andmeid spordiorganisatsioonide -ehitiste ja treenerite kohta spordikoolide kohta kogub andmeid eesti hariduse infosüsteem ehk ehis spordialasid käsitlevaid andmeid sealt aga ei leia on                                                                                         \n",
       "6   on praeguseks juba osaliselt valminud veel arendamist vajava osa tarbeks rahuldas spordikoolituse ja -teabe sihtasutus riigi infosüsteemide keskusele majanduskeskkonna arendamise rakenduskava infoühiskonna edendamise prioriteetse suuna avatud taotlusvooru eeltaotluse mahus 1 704 725 krooni millest omafinantseering moodustab 15% ehk 255 709 krooni aitäh                                                                                                                                                                                                                                                                                                                                                                     \n",
       "7   austatud istungi juhataja head kolleegid annan keskerakonna fraktsiooni nimel sisse järjekordse arupärimise sotsiaalminister hanno pevkurile mis puudutab vaesuse temaatikat toimetulekupiiri küsime miks ei ole kaks viimast aastat enam arvutatud toimetulekupiiri suurust küsime miks ei ole meile teada ostukorvi suurus kas seda ei tahetagi näidata me teame et kahel viimasel aastal eriti aastal 2008 oli väga suur inflatsioon ja on selge et senise maksumusega ostukorvi enam needsamad kaubad ja teenused ei mahu ilmselt sellepärast seda ei tahetagi meile teada anda ja                                                                                                                                                 \n",
       "8   siiski facebooki ja google'i ja ka kõikide teiste bilansis ja nad saavad nende andmete kasutamise või nende müügi pealt tulu ja see tulu kui näiteks andmed puudutavad eesti inimesi eestis mitte kuidagi ei kajastu eesti mitte kuidagi ei saa selle pealt tulu osa eesti inimesi vaid saab tasuta facebooki ja google'it kasutada aga eesti riigieelarve sellest kasu ei saa ja see olukord võiks tegelikult muutuda kui andmeid n-ö kaevandatakse eestis siis me võiksime öelda et see tegevus toimub eestis see                                                                                                                                                                                                                    \n",
       "9   tootmissisend ferrari f430 hävis õnnetuses aga ärge muretsege tol hetkel oli meie liiklusregistris seda tüüpi tootmisvahendeid tervelt 50 tükki ja veel enam 80% neist õnneks leiavad kasutust lisandväärtuse tootmise protsessis mõne ettevõtte teenistuses selline kõrgtehnoloogia meie transporditöötajate käsutuses on muidugi tore kahjuks laste mänguasjade tootjad meie ettevõtjate eelistustega ei arvesta aga meil on siin teistsuguseid mänguasju näiteks siin on üks tugevam tükk selline ilus punane näitab saalile punast automudelit. ma ei tea kas ma julgen nüüd seda öelda aga sotsiaaldemokraatide                                                                                                                   \n",
       "10  et 13 miljonit digiteenuste maksuraha kätte saada kaks küsimust ühes                                                                                                                                                                                                                                                                                                                                                                                                                                                                                                                                                                                                                                                                   \n",
       "11  kolmelt inimeselt kas selline info on vaid külajutt mis võib vastata ka tõele või on selles jutus ka terake tõtt lihtsalt soovin infot otseallikast                                                                                                                                                                                                                                                                                                                                                                                                                                                                                                                                                                                    \n",
       "12  täpsustuseks niipalju et see tööversioon on üleval kodulehel www.eok.ee see versioon on olümpiakomitee oma võib-olla te vaatasite kultuuriministeeriumi kodulehel olevat spordikoolide ja -klubide nimistut mis puutub spordiregistri tööversiooni siis seal on spordiklubid ja -koolid võrdsustatud nad on ühe lingi all                                                                                                                                                                                                                                                                                                                                                                                                              \n",
       "13  erakoolid samuti leiab andmeid spordirajatiste kohta veebirakendus asendab senise aegavõtva teabe hankimise e-posti või telefoni teel teabe kergem hankimine annab ka paremad võimalused spordi turvalisemaks ja mitmekülgsemaks harrastamiseks aidates seeläbi kaudselt kokku hoida kulutusi tervishoiule ning tagades inimestele parema elukvaliteedi spordiseaduse muutmise seaduse eesmärk on luua seaduslik alus spordiregistri asutamiseks ja selle põhimääruse kehtestamiseks seni eksisteerib spordiregister eraõigusliku andmebaasina spordikoolituse ja -teabe sihtasutuses eraõiguslikul andmebaasil on aga mõningaid puudujääke kuna andmete esitamine ei ole kohustuslik vaid vabatahtlik võib kannatada spordiregistri   \n",
       "14  füüsilises maailmas peab neid makse välja arvutama ja ära maksma reaalsele maksuhaldurile riigid aga ei ole rahul sellega kuidas see jaotus maailmas praegu toimub rahvusvahelised maksureeglid lihtsalt ei arvesta globaalselt tegutsevate ettevõtetega kes saavad distantsilt tegutseda kus iganes aga makse maksta seal kus on see neile kõige soodsam mis on siis lahendus eesti pakkus eesistumise ajal et võiks vaadata sellist mõistet nagu virtuaalne püsiv tegevuskoht eestis oleks see siis nii et kui ettevõte tegutseb väga aktiivselt mõne riigi majanduses kuigi                                                                                                                                                         \n",
       "15  ei ole varsti enam optimaalne lahendus ja riigid peaksid mõtlema muule lahendusele see eristamine on kulukas see on võib-olla ebavajalik ja see ei pruugi mingist hetkest alates ka õiglustundega vastavuses olla peame arvestama ka sellega et diginomaadluski on kasvamas diginomaadid on sellised inimesed kuidas öelda mees ja arvuti tüüpi oü-de asutajad kes reisivad mööda maailma ja kelle töötegemise asukoht ei ole üldse oluline nemad teevad tööd internetis see tähendab seda et riikide sotsiaalkindlustussüsteemid on löögi all neli aastat tagasi hinnati                                                                                                                                                              \n",
       "\n",
       "                                      id     score  \n",
       "0   a6f870d6-93c2-420e-bcf2-ccb6063de212  0.806443  \n",
       "1   0372d4dd-0910-4d21-8539-99d3a06a3cd8  0.805742  \n",
       "2   ee362567-ff18-4339-8fc3-c38fbf2bdacd  0.805299  \n",
       "3   767c25c2-f453-4a34-b29e-80dca3241601  0.804524  \n",
       "4   be1c1187-da73-4485-b000-9e984a115672  0.803139  \n",
       "5   e8a31825-0bef-4a7f-bfd7-bbf1936c2715  0.802895  \n",
       "6   8de22720-d311-4825-b4d0-7b6b1e775c67  0.802875  \n",
       "7   b4ef0481-6d1d-4b38-a982-767c69b549cc  0.802722  \n",
       "8   4d5e5ac4-e614-4068-833c-ef8af6dcd3c0  0.802373  \n",
       "9   3bddb596-3c0d-4ac3-b1d0-beed7b7321bf  0.801691  \n",
       "10  080894ba-72be-49a3-ad6e-090eb31fcf9c  0.801562  \n",
       "11  6db197fe-c2c5-40d4-b7d1-a2b2aefba94b  0.800654  \n",
       "12  48870ca0-9dc1-47c8-a6e7-d0ffe6ef2f38  0.800312  \n",
       "13  b09d4c68-23a7-48fd-b9aa-b86a36855f26  0.800224  \n",
       "14  f4403f7b-95ff-49d3-abd6-89e3be6172a8  0.800215  \n",
       "15  c217dab1-c259-4241-8480-e20f906e4d25  0.800033  "
      ]
     },
     "execution_count": 125,
     "metadata": {},
     "output_type": "execute_result"
    }
   ],
   "source": [
    "df_resp"
   ]
  },
  {
   "cell_type": "code",
   "execution_count": null,
   "id": "d7c501a6-2395-4c25-b53f-8f370b0ac9ed",
   "metadata": {},
   "outputs": [
    {
     "name": "stdout",
     "output_type": "stream",
     "text": [
      "query string for ask_query_count is infospsteemide arendamisest\n"
     ]
    },
    {
     "data": {
      "text/plain": [
       "'Andmebaasis esineb infospsteemide arendamisest rääkivaid tekste 7 korda.'"
      ]
     },
     "execution_count": 126,
     "metadata": {},
     "output_type": "execute_result"
    }
   ],
   "source": [
    "resp, func_call_out, df_resp=askgpt_func_call('Kui mitmes tekstis räägitakse infospsteemide arendamisest?',\n",
    "                functions=[schema(ask_query_count)])\n",
    "resp"
   ]
  },
  {
   "cell_type": "code",
   "execution_count": 127,
   "id": "68272aee-4293-45cb-afa9-c10bf34182e2",
   "metadata": {},
   "outputs": [
    {
     "data": {
      "text/html": [
       "<div>\n",
       "<style scoped>\n",
       "    .dataframe tbody tr th:only-of-type {\n",
       "        vertical-align: middle;\n",
       "    }\n",
       "\n",
       "    .dataframe tbody tr th {\n",
       "        vertical-align: top;\n",
       "    }\n",
       "\n",
       "    .dataframe thead th {\n",
       "        text-align: right;\n",
       "    }\n",
       "</style>\n",
       "<table border=\"1\" class=\"dataframe\">\n",
       "  <thead>\n",
       "    <tr style=\"text-align: right;\">\n",
       "      <th></th>\n",
       "      <th>text</th>\n",
       "      <th>id</th>\n",
       "      <th>score</th>\n",
       "    </tr>\n",
       "  </thead>\n",
       "  <tbody>\n",
       "    <tr>\n",
       "      <th>0</th>\n",
       "      <td>täpsustav küsimus andres metsoja palun</td>\n",
       "      <td>0372d4dd-0910-4d21-8539-99d3a06a3cd8</td>\n",
       "      <td>0.820274</td>\n",
       "    </tr>\n",
       "    <tr>\n",
       "      <th>1</th>\n",
       "      <td>head ametikaaslased nüüd on suurepärane võimalus kõigil meil üle anda eelnõusid ja arupärimisi palun riigikogu kõnetooli kõiki kes soovivad üle anda eelnõusid ja arupärimisi palun riigikogu kõnetooli helir-valdor seederi</td>\n",
       "      <td>9fea70d9-7f57-4fe2-9555-23280dfeda24</td>\n",
       "      <td>0.804349</td>\n",
       "    </tr>\n",
       "    <tr>\n",
       "      <th>2</th>\n",
       "      <td>on praeguseks juba osaliselt valminud veel arendamist vajava osa tarbeks rahuldas spordikoolituse ja -teabe sihtasutus riigi infosüsteemide keskusele majanduskeskkonna arendamise rakenduskava infoühiskonna edendamise prioriteetse suuna avatud taotlusvooru eeltaotluse mahus 1 704 725 krooni millest omafinantseering moodustab 15% ehk 255 709 krooni aitäh</td>\n",
       "      <td>8de22720-d311-4825-b4d0-7b6b1e775c67</td>\n",
       "      <td>0.803356</td>\n",
       "    </tr>\n",
       "    <tr>\n",
       "      <th>3</th>\n",
       "      <td>eks see viita ka omamoodi sellele inforuumile mis meile on siin loodud</td>\n",
       "      <td>261f6190-95dc-4218-8ebb-caf964abcefa</td>\n",
       "      <td>0.801747</td>\n",
       "    </tr>\n",
       "    <tr>\n",
       "      <th>4</th>\n",
       "      <td>spordiregistri loomine muudab sporditeabe kogumise süsteemsemaks ja efektiivsemaks see teave esitatakse ühtselt ühte andmekogusse mis vähendab teabe andjate koormust spordivaldkonda puudutava teabe koondamine võimaldab efektiivsemalt läbi viia riiklikke statistilisi vaatlusi samuti langetada olulisi spordipoliitilisi otsuseid teavet saavad kasutada ministeeriumide eelkõige kultuuriministeeriumi sotsiaalministeeriumi haridus- ja teadusministeeriumi ning kaitseministeeriumi ametnikud omavalitsuste spetsialistid ja volikogude liikmed statistikaameti spetsialistid eesti olümpiakomitee spordiorganisatsioonid ja kohalike omavalitsuste ametnikud saavad seega finantseerimisotsuste langetamisel ja objektiivse info hankimisel kasutada spordiregistri andmekogu väikese remargina ütlen et paar aastat tagasi</td>\n",
       "      <td>48a8bc17-6435-4652-b8f4-b69e2e8610e8</td>\n",
       "      <td>0.800792</td>\n",
       "    </tr>\n",
       "    <tr>\n",
       "      <th>5</th>\n",
       "      <td>aitäh lugupeetud riigikogu esimees austatud peaminister tõepoolest minu küsimus puudutab pagulastele elamistingimuste loomist õigem oleks öelda et elamisvõimaluste otsimist liigub info et vabariigi valitsus on andnud korralduse või oleks äkki õigem öelda et otsib võimalusi afgaanidele korterite leidmiseks on olnud kuulda et on soov leida korter kuni 3000 afgaanile sealhulgas kuni 2500‑le virumaal mingile osale jõgevamaal ja kuskile veel eesti on väga väike ja kõik tunnevad kõiki selline info liigub inimeste hulgas päris laias ringis ma olen seda kuulnud vähemalt</td>\n",
       "      <td>6e05d67a-04f6-4fa3-8c32-e1af6281261b</td>\n",
       "      <td>0.800417</td>\n",
       "    </tr>\n",
       "    <tr>\n",
       "      <th>6</th>\n",
       "      <td>nendel teemadel härra heremiga vestelnud ja juhtinud tema tähelepanu sellele et tema tegevus on süstemaatiline kaitseväe moraali ja kaitsetahte õõnestamine</td>\n",
       "      <td>7fb28bf8-3327-4c6e-bc62-697a3b1f742d</td>\n",
       "      <td>0.800148</td>\n",
       "    </tr>\n",
       "  </tbody>\n",
       "</table>\n",
       "</div>"
      ],
      "text/plain": [
       "                                                                                                                                                                                                                                                                                                                                                                                                                                                                                                                                                                                                                                                                                                                                                                                                                                    text  \\\n",
       "0  täpsustav küsimus andres metsoja palun                                                                                                                                                                                                                                                                                                                                                                                                                                                                                                                                                                                                                                                                                                                                                                                                  \n",
       "1  head ametikaaslased nüüd on suurepärane võimalus kõigil meil üle anda eelnõusid ja arupärimisi palun riigikogu kõnetooli kõiki kes soovivad üle anda eelnõusid ja arupärimisi palun riigikogu kõnetooli helir-valdor seederi                                                                                                                                                                                                                                                                                                                                                                                                                                                                                                                                                                                                            \n",
       "2  on praeguseks juba osaliselt valminud veel arendamist vajava osa tarbeks rahuldas spordikoolituse ja -teabe sihtasutus riigi infosüsteemide keskusele majanduskeskkonna arendamise rakenduskava infoühiskonna edendamise prioriteetse suuna avatud taotlusvooru eeltaotluse mahus 1 704 725 krooni millest omafinantseering moodustab 15% ehk 255 709 krooni aitäh                                                                                                                                                                                                                                                                                                                                                                                                                                                                      \n",
       "3  eks see viita ka omamoodi sellele inforuumile mis meile on siin loodud                                                                                                                                                                                                                                                                                                                                                                                                                                                                                                                                                                                                                                                                                                                                                                  \n",
       "4  spordiregistri loomine muudab sporditeabe kogumise süsteemsemaks ja efektiivsemaks see teave esitatakse ühtselt ühte andmekogusse mis vähendab teabe andjate koormust spordivaldkonda puudutava teabe koondamine võimaldab efektiivsemalt läbi viia riiklikke statistilisi vaatlusi samuti langetada olulisi spordipoliitilisi otsuseid teavet saavad kasutada ministeeriumide eelkõige kultuuriministeeriumi sotsiaalministeeriumi haridus- ja teadusministeeriumi ning kaitseministeeriumi ametnikud omavalitsuste spetsialistid ja volikogude liikmed statistikaameti spetsialistid eesti olümpiakomitee spordiorganisatsioonid ja kohalike omavalitsuste ametnikud saavad seega finantseerimisotsuste langetamisel ja objektiivse info hankimisel kasutada spordiregistri andmekogu väikese remargina ütlen et paar aastat tagasi   \n",
       "5  aitäh lugupeetud riigikogu esimees austatud peaminister tõepoolest minu küsimus puudutab pagulastele elamistingimuste loomist õigem oleks öelda et elamisvõimaluste otsimist liigub info et vabariigi valitsus on andnud korralduse või oleks äkki õigem öelda et otsib võimalusi afgaanidele korterite leidmiseks on olnud kuulda et on soov leida korter kuni 3000 afgaanile sealhulgas kuni 2500‑le virumaal mingile osale jõgevamaal ja kuskile veel eesti on väga väike ja kõik tunnevad kõiki selline info liigub inimeste hulgas päris laias ringis ma olen seda kuulnud vähemalt                                                                                                                                                                                                                                                \n",
       "6  nendel teemadel härra heremiga vestelnud ja juhtinud tema tähelepanu sellele et tema tegevus on süstemaatiline kaitseväe moraali ja kaitsetahte õõnestamine                                                                                                                                                                                                                                                                                                                                                                                                                                                                                                                                                                                                                                                                             \n",
       "\n",
       "                                     id     score  \n",
       "0  0372d4dd-0910-4d21-8539-99d3a06a3cd8  0.820274  \n",
       "1  9fea70d9-7f57-4fe2-9555-23280dfeda24  0.804349  \n",
       "2  8de22720-d311-4825-b4d0-7b6b1e775c67  0.803356  \n",
       "3  261f6190-95dc-4218-8ebb-caf964abcefa  0.801747  \n",
       "4  48a8bc17-6435-4652-b8f4-b69e2e8610e8  0.800792  \n",
       "5  6e05d67a-04f6-4fa3-8c32-e1af6281261b  0.800417  \n",
       "6  7fb28bf8-3327-4c6e-bc62-697a3b1f742d  0.800148  "
      ]
     },
     "execution_count": 127,
     "metadata": {},
     "output_type": "execute_result"
    }
   ],
   "source": [
    "df_resp"
   ]
  },
  {
   "cell_type": "code",
   "execution_count": null,
   "id": "65c088cf-a1ab-43ac-b767-26587373cf58",
   "metadata": {},
   "outputs": [],
   "source": []
  }
 ],
 "metadata": {
  "kernelspec": {
   "display_name": "Python 3 (ipykernel)",
   "language": "python",
   "name": "python3"
  },
  "language_info": {
   "codemirror_mode": {
    "name": "ipython",
    "version": 3
   },
   "file_extension": ".py",
   "mimetype": "text/x-python",
   "name": "python",
   "nbconvert_exporter": "python",
   "pygments_lexer": "ipython3",
   "version": "3.9.13"
  }
 },
 "nbformat": 4,
 "nbformat_minor": 5
}
