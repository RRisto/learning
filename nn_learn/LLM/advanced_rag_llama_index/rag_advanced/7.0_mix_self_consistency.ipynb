{
 "cells": [
  {
   "cell_type": "markdown",
   "metadata": {},
   "source": [
    "# Mix Self-Consistency Notebook \n",
    "\n",
    "<a href=\"https://colab.research.google.com/github/run-llama/llama-hub/blob/main/llama_hub/llama_packs/tables/mix_self_consistency/mix_self_consistency.ipynb\" target=\"_parent\">\n",
    "<img src=\"https://colab.research.google.com/assets/colab-badge.svg\" alt=\"Open In Colab\"/></a>\n",
    "\n",
    "In this notebook, we highlight the mix self-consistency method proposed in [\"Rethinking Tabular Data Understanding with Large Language Models\"](https://arxiv.org/pdf/2312.16702v1.pdf) paper by Liu et al.\n",
    "\n",
    "LLMs can reason over tabular data in 2 main ways:\n",
    "1. textual reasoning via direct prompting\n",
    "2. symbolic reasoning via program synthesis (e.g. python, SQL, etc)\n",
    "\n",
    "The key insight of the paper is that different reasoning pathways work well in different tasks. By aggregating results from both with a self-consistency mechanism (i.e. majority voting), it achieves SoTA performance.\n",
    "\n",
    "We implemented the paper based on the prompts described in the paper, and adapted it to get it working. That said, this is marked as beta, so there may still be kinks to work through. Do you have suggestions / contributions on how to improve the robustness? Let us know! "
   ]
  },
  {
   "cell_type": "markdown",
   "metadata": {},
   "source": [
    "# Download Data\n",
    "\n",
    "We use the [WikiTableQuestions dataset](https://ppasupat.github.io/WikiTableQuestions/) (Pasupat and Liang 2015) as our test dataset.\n",
    "\n",
    "WikiTableQuestions is a question-answering dataset over various semi-structured tables taken from Wikipedia. These tables range in size from a few rows/columns to mnay rows. Some columns may contain multi-part information as well (e.g. a temperature column may contain both Fahrenheight and Celsius)."
   ]
  },
  {
   "cell_type": "code",
   "execution_count": 1,
   "metadata": {
    "scrolled": true
   },
   "outputs": [
    {
     "name": "stderr",
     "output_type": "stream",
     "text": [
      "'wget' is not recognized as an internal or external command,\n",
      "operable program or batch file.\n",
      "'unzip' is not recognized as an internal or external command,\n",
      "operable program or batch file.\n"
     ]
    }
   ],
   "source": [
    "# !wget \"https://github.com/ppasupat/WikiTableQuestions/releases/download/v1.0.2/WikiTableQuestions-1.0.2-compact.zip\" -O data.zip\n",
    "# !unzip data.zip"
   ]
  },
  {
   "cell_type": "markdown",
   "metadata": {},
   "source": [
    "Let's visualize some examples."
   ]
  },
  {
   "cell_type": "code",
   "execution_count": 1,
   "metadata": {},
   "outputs": [
    {
     "data": {
      "text/html": [
       "<div>\n",
       "<style scoped>\n",
       "    .dataframe tbody tr th:only-of-type {\n",
       "        vertical-align: middle;\n",
       "    }\n",
       "\n",
       "    .dataframe tbody tr th {\n",
       "        vertical-align: top;\n",
       "    }\n",
       "\n",
       "    .dataframe thead th {\n",
       "        text-align: right;\n",
       "    }\n",
       "</style>\n",
       "<table border=\"1\" class=\"dataframe\">\n",
       "  <thead>\n",
       "    <tr style=\"text-align: right;\">\n",
       "      <th></th>\n",
       "      <th>id</th>\n",
       "      <th>utterance</th>\n",
       "      <th>context</th>\n",
       "      <th>targetValue</th>\n",
       "    </tr>\n",
       "  </thead>\n",
       "  <tbody>\n",
       "    <tr>\n",
       "      <th>0</th>\n",
       "      <td>nt-0</td>\n",
       "      <td>what was the last year where this team was a p...</td>\n",
       "      <td>csv/204-csv/590.csv</td>\n",
       "      <td>2004</td>\n",
       "    </tr>\n",
       "    <tr>\n",
       "      <th>1</th>\n",
       "      <td>nt-1</td>\n",
       "      <td>in what city did piotr's last 1st place finish...</td>\n",
       "      <td>csv/204-csv/622.csv</td>\n",
       "      <td>Bangkok, Thailand</td>\n",
       "    </tr>\n",
       "    <tr>\n",
       "      <th>2</th>\n",
       "      <td>nt-2</td>\n",
       "      <td>which team won previous to crettyard?</td>\n",
       "      <td>csv/204-csv/772.csv</td>\n",
       "      <td>Wolfe Tones</td>\n",
       "    </tr>\n",
       "    <tr>\n",
       "      <th>3</th>\n",
       "      <td>nt-3</td>\n",
       "      <td>how many more passengers flew to los angeles t...</td>\n",
       "      <td>csv/203-csv/515.csv</td>\n",
       "      <td>12,467</td>\n",
       "    </tr>\n",
       "    <tr>\n",
       "      <th>4</th>\n",
       "      <td>nt-4</td>\n",
       "      <td>who was the opponent in the first game of the ...</td>\n",
       "      <td>csv/204-csv/495.csv</td>\n",
       "      <td>Derby County</td>\n",
       "    </tr>\n",
       "  </tbody>\n",
       "</table>\n",
       "</div>"
      ],
      "text/plain": [
       "     id                                          utterance   \n",
       "0  nt-0  what was the last year where this team was a p...  \\\n",
       "1  nt-1  in what city did piotr's last 1st place finish...   \n",
       "2  nt-2              which team won previous to crettyard?   \n",
       "3  nt-3  how many more passengers flew to los angeles t...   \n",
       "4  nt-4  who was the opponent in the first game of the ...   \n",
       "\n",
       "               context        targetValue  \n",
       "0  csv/204-csv/590.csv               2004  \n",
       "1  csv/204-csv/622.csv  Bangkok, Thailand  \n",
       "2  csv/204-csv/772.csv        Wolfe Tones  \n",
       "3  csv/203-csv/515.csv             12,467  \n",
       "4  csv/204-csv/495.csv       Derby County  "
      ]
     },
     "execution_count": 1,
     "metadata": {},
     "output_type": "execute_result"
    }
   ],
   "source": [
    "import pandas as pd\n",
    "\n",
    "examples = pd.read_table(\"data/raw/WikiTableQuestions/data/training-before300.tsv\")\n",
    "\n",
    "examples.head()"
   ]
  },
  {
   "cell_type": "code",
   "execution_count": 2,
   "metadata": {},
   "outputs": [
    {
     "name": "stdout",
     "output_type": "stream",
     "text": [
      "The question is:  what was the last year where this team was a part of the usl a-league?\n"
     ]
    }
   ],
   "source": [
    "example = examples.iloc[0]\n",
    "question = example[\"utterance\"]\n",
    "context = example[\"context\"]\n",
    "print(\"The question is: \", question)"
   ]
  },
  {
   "cell_type": "markdown",
   "metadata": {},
   "source": [
    "Let's load the table that can be used as context to answer the question in the first example."
   ]
  },
  {
   "cell_type": "code",
   "execution_count": 3,
   "metadata": {},
   "outputs": [
    {
     "data": {
      "text/html": [
       "<div>\n",
       "<style scoped>\n",
       "    .dataframe tbody tr th:only-of-type {\n",
       "        vertical-align: middle;\n",
       "    }\n",
       "\n",
       "    .dataframe tbody tr th {\n",
       "        vertical-align: top;\n",
       "    }\n",
       "\n",
       "    .dataframe thead th {\n",
       "        text-align: right;\n",
       "    }\n",
       "</style>\n",
       "<table border=\"1\" class=\"dataframe\">\n",
       "  <thead>\n",
       "    <tr style=\"text-align: right;\">\n",
       "      <th></th>\n",
       "      <th>Year</th>\n",
       "      <th>Division</th>\n",
       "      <th>League</th>\n",
       "      <th>Regular Season</th>\n",
       "      <th>Playoffs</th>\n",
       "      <th>Open Cup</th>\n",
       "      <th>Avg. Attendance</th>\n",
       "    </tr>\n",
       "  </thead>\n",
       "  <tbody>\n",
       "    <tr>\n",
       "      <th>0</th>\n",
       "      <td>2001</td>\n",
       "      <td>2</td>\n",
       "      <td>USL A-League</td>\n",
       "      <td>4th, Western</td>\n",
       "      <td>Quarterfinals</td>\n",
       "      <td>Did not qualify</td>\n",
       "      <td>7,169</td>\n",
       "    </tr>\n",
       "    <tr>\n",
       "      <th>1</th>\n",
       "      <td>2002</td>\n",
       "      <td>2</td>\n",
       "      <td>USL A-League</td>\n",
       "      <td>2nd, Pacific</td>\n",
       "      <td>1st Round</td>\n",
       "      <td>Did not qualify</td>\n",
       "      <td>6,260</td>\n",
       "    </tr>\n",
       "    <tr>\n",
       "      <th>2</th>\n",
       "      <td>2003</td>\n",
       "      <td>2</td>\n",
       "      <td>USL A-League</td>\n",
       "      <td>3rd, Pacific</td>\n",
       "      <td>Did not qualify</td>\n",
       "      <td>Did not qualify</td>\n",
       "      <td>5,871</td>\n",
       "    </tr>\n",
       "    <tr>\n",
       "      <th>3</th>\n",
       "      <td>2004</td>\n",
       "      <td>2</td>\n",
       "      <td>USL A-League</td>\n",
       "      <td>1st, Western</td>\n",
       "      <td>Quarterfinals</td>\n",
       "      <td>4th Round</td>\n",
       "      <td>5,628</td>\n",
       "    </tr>\n",
       "    <tr>\n",
       "      <th>4</th>\n",
       "      <td>2005</td>\n",
       "      <td>2</td>\n",
       "      <td>USL First Division</td>\n",
       "      <td>5th</td>\n",
       "      <td>Quarterfinals</td>\n",
       "      <td>4th Round</td>\n",
       "      <td>6,028</td>\n",
       "    </tr>\n",
       "  </tbody>\n",
       "</table>\n",
       "</div>"
      ],
      "text/plain": [
       "   Year  Division              League Regular Season         Playoffs   \n",
       "0  2001         2        USL A-League   4th, Western    Quarterfinals  \\\n",
       "1  2002         2        USL A-League   2nd, Pacific        1st Round   \n",
       "2  2003         2        USL A-League   3rd, Pacific  Did not qualify   \n",
       "3  2004         2        USL A-League   1st, Western    Quarterfinals   \n",
       "4  2005         2  USL First Division            5th    Quarterfinals   \n",
       "\n",
       "          Open Cup Avg. Attendance  \n",
       "0  Did not qualify           7,169  \n",
       "1  Did not qualify           6,260  \n",
       "2  Did not qualify           5,871  \n",
       "3        4th Round           5,628  \n",
       "4        4th Round           6,028  "
      ]
     },
     "execution_count": 3,
     "metadata": {},
     "output_type": "execute_result"
    }
   ],
   "source": [
    "table = pd.read_csv(\"data/raw/WikiTableQuestions/\" + context)\n",
    "table.head()"
   ]
  },
  {
   "cell_type": "markdown",
   "metadata": {},
   "source": [
    "The corect answer should be 2004."
   ]
  },
  {
   "cell_type": "markdown",
   "metadata": {},
   "source": [
    "## Load Pack / Setup\n",
    "\n",
    "Now we do `download_llama_pack` to load the Mix Self Consistency LlamaPack (you can also import the module directly if using the llama-hub package).\n",
    "\n",
    "We will also optionally setup observability/tracing so we can observe the intermediate steps."
   ]
  },
  {
   "cell_type": "code",
   "execution_count": 4,
   "metadata": {},
   "outputs": [
    {
     "data": {
      "text/plain": [
       "llama_index.packs.tables.mix_self_consistency.base.MixSelfConsistencyPack"
      ]
     },
     "execution_count": 4,
     "metadata": {},
     "output_type": "execute_result"
    }
   ],
   "source": [
    "# Option: if developing with the llama_hub package\n",
    "# from llama_hub.llama_packs.tables.mix_self_consistency.base import (\n",
    "#     MixSelfConsistencyQueryEngine,\n",
    "# )\n",
    "\n",
    "# Option: download llama_pack\n",
    "from llama_index.core.llama_pack import download_llama_pack\n",
    "\n",
    "download_llama_pack(\n",
    "    \"MixSelfConsistencyPack\",\n",
    "    \"./mix_self_consistency_pack\",\n",
    "    #skip_load=True,\n",
    "    # leave the below line commented out if using the notebook on main\n",
    "    # llama_hub_url=\"https://raw.githubusercontent.com/run-llama/llama-hub/suo/table_qa/llama_hub\"\n",
    ")\n"
   ]
  },
  {
   "cell_type": "code",
   "execution_count": 5,
   "metadata": {},
   "outputs": [],
   "source": [
    "from mix_self_consistency_pack.llama_index.packs.tables.mix_self_consistency.base import MixSelfConsistencyQueryEngine"
   ]
  },
  {
   "cell_type": "code",
   "execution_count": 6,
   "metadata": {},
   "outputs": [],
   "source": [
    "import os\n",
    "from llama_index.llms.openai import OpenAI\n",
    "from configparser import ConfigParser\n",
    "\n",
    "config=ConfigParser()\n",
    "config.read('conf/conf.ini')\n",
    "os.environ[\"OPENAI_API_KEY\"] = config['openai']['apikey']\n",
    "\n",
    "llm = OpenAI()"
   ]
  },
  {
   "cell_type": "markdown",
   "metadata": {},
   "source": [
    "### Optional: Setup Observability\n",
    "\n",
    "Here we will use our Arize Phoenix integration to view traces through the query engine."
   ]
  },
  {
   "cell_type": "code",
   "execution_count": 7,
   "metadata": {},
   "outputs": [
    {
     "name": "stdout",
     "output_type": "stream",
     "text": [
      "🌍 To view the Phoenix app in your browser, visit http://localhost:6006/\n",
      "📺 To view the Phoenix app in a notebook, run `px.active_session().view()`\n",
      "📖 For more information on how to use Phoenix, check out https://docs.arize.com/phoenix\n"
     ]
    }
   ],
   "source": [
    "import phoenix as px\n",
    "import llama_index\n",
    "from llama_index.core import set_global_handler\n",
    "\n",
    "px.launch_app()\n",
    "set_global_handler(\"arize_phoenix\")"
   ]
  },
  {
   "cell_type": "markdown",
   "metadata": {},
   "source": [
    "## Run experiments"
   ]
  },
  {
   "cell_type": "markdown",
   "metadata": {},
   "source": [
    "Let's try out different modes."
   ]
  },
  {
   "cell_type": "markdown",
   "metadata": {},
   "source": [
    "### Textual Reasoning Only (i.e. direct prompting)"
   ]
  },
  {
   "cell_type": "markdown",
   "metadata": {},
   "source": [
    "Let's start with using only the textual reasoning path.\n",
    "Basically, we directly convert the pandas dataframe into a markdown representation, and inject into the prompt for in-context reasoning."
   ]
  },
  {
   "cell_type": "code",
   "execution_count": 8,
   "metadata": {},
   "outputs": [],
   "source": [
    "query_engine = MixSelfConsistencyQueryEngine(\n",
    "    df=table,\n",
    "    llm=llm,\n",
    "    text_paths=1,\n",
    "    symbolic_paths=0,\n",
    "    aggregation_mode=\"none\",\n",
    "    verbose=True,\n",
    ")"
   ]
  },
  {
   "cell_type": "code",
   "execution_count": 8,
   "metadata": {},
   "outputs": [
    {
     "name": "stdout",
     "output_type": "stream",
     "text": [
      "\u001b[1;3;38;2;155;135;227m> Running module c6ffdfda-15f3-4a4c-9d7d-3a7ab025437c with input: \n",
      "question: what was the last year where this team was a part of the usl a-league?\n",
      "table: |    |   Year |   Division | League              | Regular Season   | Playoffs        | Open Cup        | Avg. Attendance   |\n",
      "|---:|-------:|-----------:|:--------------------|:-----------------|:----...\n",
      "\n",
      "\u001b[0m\u001b[1;3;38;2;155;135;227m> Running module fa48cf7a-e2c2-47d7-994c-2e631e9c84b0 with input: \n",
      "messages: You are an advanced AI capable of analyzing and understanding information within tables. Read the table below.\n",
      "\n",
      "|    |   Year |   Division | League              | Regular Season   | Playoffs        | ...\n",
      "\n",
      "\u001b[0m\u001b[1;3;38;2;155;135;227m> Running module df320e1c-8268-4f9f-813d-4ce0d9322de6 with input: \n",
      "input: assistant: Step 1: Identify the rows where the team was a part of the USL A-League.\n",
      "- Row 0: Year 2001, Division 2, League USL A-League\n",
      "- Row 1: Year 2002, Division 2, League USL A-League\n",
      "- Row 2: Yea...\n",
      "\n",
      "\u001b[0mText results: ['2003']\n",
      "Symbolic results: []\n",
      "2003\n"
     ]
    }
   ],
   "source": [
    "response = await query_engine.aquery(example[\"utterance\"])\n",
    "print(response)"
   ]
  },
  {
   "cell_type": "markdown",
   "metadata": {},
   "source": [
    "We get an incorrect answer. "
   ]
  },
  {
   "cell_type": "code",
   "execution_count": 9,
   "metadata": {},
   "outputs": [],
   "source": [
    "query_engine = MixSelfConsistencyQueryEngine(\n",
    "    df=table,\n",
    "    llm=llm,\n",
    "    text_paths=5,\n",
    "    symbolic_paths=0,\n",
    "    aggregation_mode=\"self-consistency\",\n",
    "    verbose=True,\n",
    ")"
   ]
  },
  {
   "cell_type": "code",
   "execution_count": 10,
   "metadata": {},
   "outputs": [
    {
     "name": "stdout",
     "output_type": "stream",
     "text": [
      "\u001b[1;3;38;2;155;135;227m> Running modules and inputs in parallel: \n",
      "Module key: 3bcb2ac9-878b-49f9-bf00-803be89604f8. Input: \n",
      "question: what was the last year where this team was a part of the usl a-league?\n",
      "table: |    |   Year |   Division | League              | Regular Season   | Playoffs        | Open Cup        | Avg. Attendance   |\n",
      "|---:|-------:|-----------:|:--------------------|:-----------------|:----...\n",
      "\n",
      "\n",
      "\u001b[0m\u001b[1;3;38;2;155;135;227m> Running modules and inputs in parallel: \n",
      "Module key: 68cc0066-3ea4-4d4a-b411-d9f94d6f9c2d. Input: \n",
      "question: what was the last year where this team was a part of the usl a-league?\n",
      "table: |    |   Year |   Division | League              | Regular Season   | Playoffs        | Open Cup        | Avg. Attendance   |\n",
      "|---:|-------:|-----------:|:--------------------|:-----------------|:----...\n",
      "\n",
      "\n",
      "\u001b[0m\u001b[1;3;38;2;155;135;227m> Running modules and inputs in parallel: \n",
      "Module key: 1b049514-db6c-4d4a-b143-73869d7b1198. Input: \n",
      "question: what was the last year where this team was a part of the usl a-league?\n",
      "table: |    |   Year |   Division | League              | Regular Season   | Playoffs        | Open Cup        | Avg. Attendance   |\n",
      "|---:|-------:|-----------:|:--------------------|:-----------------|:----...\n",
      "\n",
      "\n",
      "\u001b[0m\u001b[1;3;38;2;155;135;227m> Running modules and inputs in parallel: \n",
      "Module key: fb9dda6a-d882-46ea-a167-1e1a26421405. Input: \n",
      "question: what was the last year where this team was a part of the usl a-league?\n",
      "table: |    |   Year |   Division | League              | Regular Season   | Playoffs        | Open Cup        | Avg. Attendance   |\n",
      "|---:|-------:|-----------:|:--------------------|:-----------------|:----...\n",
      "\n",
      "\n",
      "\u001b[0m\u001b[1;3;38;2;155;135;227m> Running modules and inputs in parallel: \n",
      "Module key: f5c5bc05-df75-45f1-9156-075e01c4bc0e. Input: \n",
      "question: what was the last year where this team was a part of the usl a-league?\n",
      "table: |    |   Year |   Division | League              | Regular Season   | Playoffs        | Open Cup        | Avg. Attendance   |\n",
      "|---:|-------:|-----------:|:--------------------|:-----------------|:----...\n",
      "\n",
      "\n",
      "\u001b[0m\u001b[1;3;38;2;155;135;227m> Running modules and inputs in parallel: \n",
      "Module key: ab09cf45-4392-4926-9103-3af330fc903f. Input: \n",
      "messages: You are an advanced AI capable of analyzing and understanding information within tables. Read the table below.\n",
      "\n",
      "|    |   Year |   Division | League              | Regular Season   | Playoffs        | ...\n",
      "\n",
      "\n",
      "\u001b[0m\u001b[1;3;38;2;155;135;227m> Running modules and inputs in parallel: \n",
      "Module key: bc39dfdb-eab5-4635-a743-f300c22da9f5. Input: \n",
      "messages: You are an advanced AI capable of analyzing and understanding information within tables. Read the table below.\n",
      "\n",
      "|    |   Year |   Division | League              | Regular Season   | Playoffs        | ...\n",
      "\n",
      "\n",
      "\u001b[0m\u001b[1;3;38;2;155;135;227m> Running modules and inputs in parallel: \n",
      "Module key: f7b63194-b902-4ee1-bc85-1d973bec9dd2. Input: \n",
      "messages: You are an advanced AI capable of analyzing and understanding information within tables. Read the table below.\n",
      "\n",
      "|    |   Year |   Division | League              | Regular Season   | Playoffs        | ...\n",
      "\n",
      "\n",
      "\u001b[0m\u001b[1;3;38;2;155;135;227m> Running modules and inputs in parallel: \n",
      "Module key: 91e502cd-a5ac-4d88-bd0d-11495723a86d. Input: \n",
      "messages: You are an advanced AI capable of analyzing and understanding information within tables. Read the table below.\n",
      "\n",
      "|    |   Year |   Division | League              | Regular Season   | Playoffs        | ...\n",
      "\n",
      "\n",
      "\u001b[0m\u001b[1;3;38;2;155;135;227m> Running modules and inputs in parallel: \n",
      "Module key: e26e13e2-08c1-4c47-b5a8-cc48bc50fbd1. Input: \n",
      "messages: You are an advanced AI capable of analyzing and understanding information within tables. Read the table below.\n",
      "\n",
      "|    |   Year |   Division | League              | Regular Season   | Playoffs        | ...\n",
      "\n",
      "\n",
      "\u001b[0m\u001b[1;3;38;2;155;135;227m> Running modules and inputs in parallel: \n",
      "Module key: ed31a363-b830-4d29-a7f8-6b449f7b6cba. Input: \n",
      "input: assistant: Final Answer: 2003\n",
      "\n",
      "\n",
      "\u001b[0m\u001b[1;3;38;2;155;135;227m> Running modules and inputs in parallel: \n",
      "Module key: 39ac67a3-d325-4235-8bc4-3a83dfe4979d. Input: \n",
      "input: assistant: Final Answer: 2003\n",
      "\n",
      "\n",
      "\u001b[0m\u001b[1;3;38;2;155;135;227m> Running modules and inputs in parallel: \n",
      "Module key: 2c81b2e0-9ee2-48a7-bf11-5864c4775e25. Input: \n",
      "input: assistant: Final Answer: 2003\n",
      "\n",
      "\n",
      "\u001b[0m\u001b[1;3;38;2;155;135;227m> Running modules and inputs in parallel: \n",
      "Module key: 1d185874-1b48-4446-892c-d6292316f485. Input: \n",
      "input: assistant: Final Answer: 2003\n",
      "\n",
      "\n",
      "\u001b[0m\u001b[1;3;38;2;155;135;227m> Running modules and inputs in parallel: \n",
      "Module key: 6add962b-d2a5-4e9e-941c-6b395526b9d4. Input: \n",
      "input: assistant: Final Answer: 2003\n",
      "\n",
      "\n",
      "\u001b[0mAggregation mode: self-consistency\n",
      "Text results: ['2003', '2003', '2003', '2003', '2003']\n",
      "Symbolic results: []\n",
      "2003\n"
     ]
    }
   ],
   "source": [
    "response = await query_engine.aquery(example[\"utterance\"])\n",
    "print(response)"
   ]
  },
  {
   "cell_type": "markdown",
   "metadata": {},
   "source": [
    "We still get incorrect result after sampling 5 textua reasoning paths, and aggregating the results via self-consistency."
   ]
  },
  {
   "cell_type": "markdown",
   "metadata": {},
   "source": [
    "### Symbolid Reasoning Only (i.e. python shell)"
   ]
  },
  {
   "cell_type": "markdown",
   "metadata": {},
   "source": [
    "Now, let's use symbolic reasoning. Here, LLM generates python expressions directly manipuate the pandas dataframe."
   ]
  },
  {
   "cell_type": "code",
   "execution_count": 11,
   "metadata": {},
   "outputs": [],
   "source": [
    "query_engine = MixSelfConsistencyQueryEngine(\n",
    "    df=table,\n",
    "    llm=llm,\n",
    "    text_paths=0,\n",
    "    symbolic_paths=1,\n",
    "    aggregation_mode=\"none\",\n",
    "    verbose=True,\n",
    ")"
   ]
  },
  {
   "cell_type": "code",
   "execution_count": 12,
   "metadata": {},
   "outputs": [
    {
     "name": "stdout",
     "output_type": "stream",
     "text": [
      "> Pandas Instructions:\n",
      "```\n",
      "df[df['League'].str.contains('USL A-League')]['Year'].max()\n",
      "```\n",
      "> Pandas Output: 2004\n",
      "Aggregation mode: none\n",
      "Text results: []\n",
      "Symbolic results: ['2004']\n",
      "2004\n"
     ]
    }
   ],
   "source": [
    "response = await query_engine.aquery(example[\"utterance\"])\n",
    "print(response)"
   ]
  },
  {
   "cell_type": "markdown",
   "metadata": {},
   "source": [
    "We get the correct answer here. "
   ]
  },
  {
   "cell_type": "markdown",
   "metadata": {},
   "source": [
    "### Aggregation via Self-Evaluation"
   ]
  },
  {
   "cell_type": "markdown",
   "metadata": {},
   "source": [
    "Now we consider self-evaluation for aggregating results across textual and symbolic reasoning paths.\n",
    "Basically, we tell the LLM what each reasoning path is good at to obtain a final result."
   ]
  },
  {
   "cell_type": "code",
   "execution_count": 13,
   "metadata": {},
   "outputs": [],
   "source": [
    "query_engine = MixSelfConsistencyQueryEngine(\n",
    "    df=table,\n",
    "    llm=llm,\n",
    "    text_paths=1,\n",
    "    symbolic_paths=1,\n",
    "    aggregation_mode=\"self-evaluation\",\n",
    "    verbose=True,\n",
    ")"
   ]
  },
  {
   "cell_type": "code",
   "execution_count": 14,
   "metadata": {},
   "outputs": [
    {
     "name": "stdout",
     "output_type": "stream",
     "text": [
      "\u001b[1;3;38;2;155;135;227m> Running modules and inputs in parallel: \n",
      "Module key: 9f0af23e-02bb-487c-a01c-97080bfbcfea. Input: \n",
      "question: what was the last year where this team was a part of the usl a-league?\n",
      "table: |    |   Year |   Division | League              | Regular Season   | Playoffs        | Open Cup        | Avg. Attendance   |\n",
      "|---:|-------:|-----------:|:--------------------|:-----------------|:----...\n",
      "\n",
      "\n",
      "\u001b[0m> Pandas Instructions:\n",
      "```\n",
      "df[df['League'].str.contains('USL A-League')]['Year'].max()\n",
      "```\n",
      "> Pandas Output: 2004\n",
      "\u001b[1;3;38;2;155;135;227m> Running modules and inputs in parallel: \n",
      "Module key: 54988dfa-32bc-4f18-ba51-a9e16102d51e. Input: \n",
      "messages: You are an advanced AI capable of analyzing and understanding information within tables. Read the table below.\n",
      "\n",
      "|    |   Year |   Division | League              | Regular Season   | Playoffs        | ...\n",
      "\n",
      "\n",
      "\u001b[0m\u001b[1;3;38;2;155;135;227m> Running modules and inputs in parallel: \n",
      "Module key: fcf25b5e-6fac-4308-8f8a-beb1cce44edb. Input: \n",
      "input: assistant: Final Answer: 2003\n",
      "\n",
      "\n",
      "\u001b[0mAggregation mode: self-evaluation\n",
      "Text results: ['2003']\n",
      "Symbolic results: ['2004']\n",
      "\u001b[1;3;38;2;155;135;227m> Running module 439742a6-a015-4681-aad3-b931dc482ee9 with input: \n",
      "question: what was the last year where this team was a part of the usl a-league?\n",
      "table: |    |   Year |   Division | League              | Regular Season   | Playoffs        | Open Cup        | Avg. Attendance   |\n",
      "|---:|-------:|-----------:|:--------------------|:-----------------|:----...\n",
      "textual_answer: 2003\n",
      "symbolic_answer: 2004\n",
      "\n",
      "\u001b[0m\u001b[1;3;38;2;155;135;227m> Running module 1129fa39-f273-4450-93ef-b898f9670b50 with input: \n",
      "messages: Below is a markdown table:\n",
      "\n",
      "|    |   Year |   Division | League              | Regular Season   | Playoffs        | Open Cup        | Avg. Attendance   |\n",
      "|---:|-------:|-----------:|:-----------------...\n",
      "\n",
      "\u001b[0m\u001b[1;3;38;2;155;135;227m> Running module 18f4d9b5-775d-4a82-ba49-ee259141597f with input: \n",
      "input: assistant: Based on the preliminary evaluation, both Answer A and Answer B directly address the question in a straightforward and unambiguous manner. \n",
      "\n",
      "Considering the nature of the question, which in...\n",
      "\n",
      "\u001b[0m2003\n"
     ]
    }
   ],
   "source": [
    "response = await query_engine.aquery(example[\"utterance\"])\n",
    "print(response)"
   ]
  },
  {
   "cell_type": "markdown",
   "metadata": {},
   "source": [
    "We obtain the correct result now."
   ]
  },
  {
   "cell_type": "markdown",
   "metadata": {},
   "source": [
    "### Aggregation via Mix Self-Consistency"
   ]
  },
  {
   "cell_type": "markdown",
   "metadata": {},
   "source": [
    "Now, we consider the SoTA method, which aggregates results across reasoning paths via self-consistency (i.e. majority voting) "
   ]
  },
  {
   "cell_type": "code",
   "execution_count": 15,
   "metadata": {},
   "outputs": [],
   "source": [
    "query_engine = MixSelfConsistencyQueryEngine(\n",
    "    df=table,\n",
    "    llm=llm,\n",
    "    text_paths=5,\n",
    "    symbolic_paths=5,\n",
    "    aggregation_mode=\"self-consistency\",\n",
    "    verbose=True,\n",
    ")"
   ]
  },
  {
   "cell_type": "code",
   "execution_count": 16,
   "metadata": {},
   "outputs": [
    {
     "name": "stdout",
     "output_type": "stream",
     "text": [
      "\u001b[1;3;38;2;155;135;227m> Running modules and inputs in parallel: \n",
      "Module key: a392d450-ac3f-469b-9a0f-514227186fe3. Input: \n",
      "question: what was the last year where this team was a part of the usl a-league?\n",
      "table: |    |   Year |   Division | League              | Regular Season   | Playoffs        | Open Cup        | Avg. Attendance   |\n",
      "|---:|-------:|-----------:|:--------------------|:-----------------|:----...\n",
      "\n",
      "\n",
      "\u001b[0m\u001b[1;3;38;2;155;135;227m> Running modules and inputs in parallel: \n",
      "Module key: 2462e21a-2d2a-47f1-9888-55ff5cb4a2a8. Input: \n",
      "question: what was the last year where this team was a part of the usl a-league?\n",
      "table: |    |   Year |   Division | League              | Regular Season   | Playoffs        | Open Cup        | Avg. Attendance   |\n",
      "|---:|-------:|-----------:|:--------------------|:-----------------|:----...\n",
      "\n",
      "\n",
      "\u001b[0m\u001b[1;3;38;2;155;135;227m> Running modules and inputs in parallel: \n",
      "Module key: 4599bc01-469e-45df-a2d4-d3694e758045. Input: \n",
      "question: what was the last year where this team was a part of the usl a-league?\n",
      "table: |    |   Year |   Division | League              | Regular Season   | Playoffs        | Open Cup        | Avg. Attendance   |\n",
      "|---:|-------:|-----------:|:--------------------|:-----------------|:----...\n",
      "\n",
      "\n",
      "\u001b[0m\u001b[1;3;38;2;155;135;227m> Running modules and inputs in parallel: \n",
      "Module key: 9c512f9e-70a4-4578-8b99-224235a2347c. Input: \n",
      "question: what was the last year where this team was a part of the usl a-league?\n",
      "table: |    |   Year |   Division | League              | Regular Season   | Playoffs        | Open Cup        | Avg. Attendance   |\n",
      "|---:|-------:|-----------:|:--------------------|:-----------------|:----...\n",
      "\n",
      "\n",
      "\u001b[0m\u001b[1;3;38;2;155;135;227m> Running modules and inputs in parallel: \n",
      "Module key: 5a22936f-b41d-4956-acaf-ae7f0de58421. Input: \n",
      "question: what was the last year where this team was a part of the usl a-league?\n",
      "table: |    |   Year |   Division | League              | Regular Season   | Playoffs        | Open Cup        | Avg. Attendance   |\n",
      "|---:|-------:|-----------:|:--------------------|:-----------------|:----...\n",
      "\n",
      "\n",
      "\u001b[0m> Pandas Instructions:\n",
      "```\n",
      "df[df['League'].str.contains('USL A-League')]['Year'].max()\n",
      "```\n",
      "> Pandas Output: 2004\n",
      "> Pandas Instructions:\n",
      "```\n",
      "df[df['League'].str.contains('USL A-League')]['Year'].max()\n",
      "```\n",
      "> Pandas Output: 2004\n",
      "> Pandas Instructions:\n",
      "```\n",
      "df.loc[df['League'].str.contains('USL A-League'), 'Year'].max()\n",
      "```\n",
      "> Pandas Output: 2004\n",
      "> Pandas Instructions:\n",
      "```\n",
      "df[df['League'].str.contains('USL A-League')]['Year'].max()\n",
      "```\n",
      "> Pandas Output: 2004\n",
      "> Pandas Instructions:\n",
      "```\n",
      "df[df['League'].str.contains('USL A-League')]['Year'].max()\n",
      "```\n",
      "> Pandas Output: 2004\n",
      "\u001b[1;3;38;2;155;135;227m> Running modules and inputs in parallel: \n",
      "Module key: d8d7c03e-75c5-438c-9923-e0237f30db8e. Input: \n",
      "messages: You are an advanced AI capable of analyzing and understanding information within tables. Read the table below.\n",
      "\n",
      "|    |   Year |   Division | League              | Regular Season   | Playoffs        | ...\n",
      "\n",
      "\n",
      "\u001b[0m\u001b[1;3;38;2;155;135;227m> Running modules and inputs in parallel: \n",
      "Module key: ea58d626-e65b-40f4-b1d7-0b664db7e5a5. Input: \n",
      "messages: You are an advanced AI capable of analyzing and understanding information within tables. Read the table below.\n",
      "\n",
      "|    |   Year |   Division | League              | Regular Season   | Playoffs        | ...\n",
      "\n",
      "\n",
      "\u001b[0m\u001b[1;3;38;2;155;135;227m> Running modules and inputs in parallel: \n",
      "Module key: 4360fbf3-fab8-4cf8-8e39-edb56ad9138c. Input: \n",
      "messages: You are an advanced AI capable of analyzing and understanding information within tables. Read the table below.\n",
      "\n",
      "|    |   Year |   Division | League              | Regular Season   | Playoffs        | ...\n",
      "\n",
      "\n",
      "\u001b[0m\u001b[1;3;38;2;155;135;227m> Running modules and inputs in parallel: \n",
      "Module key: efcaf438-ca35-46cb-a200-0412db1794dc. Input: \n",
      "messages: You are an advanced AI capable of analyzing and understanding information within tables. Read the table below.\n",
      "\n",
      "|    |   Year |   Division | League              | Regular Season   | Playoffs        | ...\n",
      "\n",
      "\n",
      "\u001b[0m\u001b[1;3;38;2;155;135;227m> Running modules and inputs in parallel: \n",
      "Module key: 6095d477-60e2-40be-92fb-754c976b9ec5. Input: \n",
      "messages: You are an advanced AI capable of analyzing and understanding information within tables. Read the table below.\n",
      "\n",
      "|    |   Year |   Division | League              | Regular Season   | Playoffs        | ...\n",
      "\n",
      "\n",
      "\u001b[0m\u001b[1;3;38;2;155;135;227m> Running modules and inputs in parallel: \n",
      "Module key: 2b61e433-0d57-407e-905e-dfedab65db21. Input: \n",
      "input: assistant: Final Answer: 2003\n",
      "\n",
      "\n",
      "\u001b[0m\u001b[1;3;38;2;155;135;227m> Running modules and inputs in parallel: \n",
      "Module key: cbf7a370-94b0-406d-89cc-2e6faf7a4725. Input: \n",
      "input: assistant: Final Answer: 2003\n",
      "\n",
      "\n",
      "\u001b[0m\u001b[1;3;38;2;155;135;227m> Running modules and inputs in parallel: \n",
      "Module key: cfaa60eb-47d3-4ea9-9eb1-ae5be7df9be4. Input: \n",
      "input: assistant: Final Answer: 2003\n",
      "\n",
      "\n",
      "\u001b[0m\u001b[1;3;38;2;155;135;227m> Running modules and inputs in parallel: \n",
      "Module key: 9965c79e-e869-40af-9865-78486c78168b. Input: \n",
      "input: assistant: Final Answer: 2003\n",
      "\n",
      "\n",
      "\u001b[0m\u001b[1;3;38;2;155;135;227m> Running modules and inputs in parallel: \n",
      "Module key: 80cafa0b-a63d-4c1a-b137-197a6027c476. Input: \n",
      "input: assistant: Final Answer: 2003\n",
      "\n",
      "\n",
      "\u001b[0mAggregation mode: self-consistency\n",
      "Text results: ['2003', '2003', '2003', '2003', '2003']\n",
      "Symbolic results: ['2004', '2004', '2004', '2004', '2004']\n",
      "2003\n"
     ]
    }
   ],
   "source": [
    "response = await query_engine.aquery(example[\"utterance\"])\n",
    "print(response)"
   ]
  },
  {
   "cell_type": "code",
   "execution_count": null,
   "metadata": {},
   "outputs": [],
   "source": []
  }
 ],
 "metadata": {
  "kernelspec": {
   "display_name": "Python 3 (ipykernel)",
   "language": "python",
   "name": "python3"
  },
  "language_info": {
   "codemirror_mode": {
    "name": "ipython",
    "version": 3
   },
   "file_extension": ".py",
   "mimetype": "text/x-python",
   "name": "python",
   "nbconvert_exporter": "python",
   "pygments_lexer": "ipython3",
   "version": "3.9.12"
  }
 },
 "nbformat": 4,
 "nbformat_minor": 4
}
