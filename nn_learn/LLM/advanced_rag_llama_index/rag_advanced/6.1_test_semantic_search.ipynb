{
 "cells": [
  {
   "cell_type": "code",
   "execution_count": 1,
   "id": "a1891562-070c-4f8f-a18b-72d19322d2c7",
   "metadata": {},
   "outputs": [
    {
     "name": "stderr",
     "output_type": "stream",
     "text": [
      "/tmp/ipykernel_122/1607660176.py:15: FutureWarning: Passing a negative integer is deprecated in version 1.0 and will not be supported in future version. Instead, use None to not limit the column width.\n",
      "  pd.set_option('display.max_colwidth',-1)\n"
     ]
    }
   ],
   "source": [
    "import pandas as pd \n",
    "import numpy as np\n",
    "from sentence_transformers import SentenceTransformer\n",
    "from llama_index.embeddings.adapter_utils import BaseAdapter\n",
    "from llama_index.embeddings.adapter_utils import TwoLayerNN\n",
    "from llama_index.embeddings import AdapterEmbeddingModel\n",
    "from llama_index.embeddings import resolve_embed_model\n",
    "import torch\n",
    "import torch.nn.functional as F\n",
    "from torch import nn, Tensor\n",
    "from typing import Dict\n",
    "from configparser import ConfigParser\n",
    "from openai import OpenAI\n",
    "from src.embeddings_utils import *\n",
    "pd.set_option('display.max_colwidth',-1)"
   ]
  },
  {
   "cell_type": "markdown",
   "id": "c925fb14-a0ae-4644-a7e7-f8f3c3fd339d",
   "metadata": {},
   "source": [
    "## Load data"
   ]
  },
  {
   "cell_type": "code",
   "execution_count": 2,
   "id": "8bb607a7-7e28-44e2-afd8-d1b2e50dffa4",
   "metadata": {},
   "outputs": [
    {
     "data": {
      "text/plain": [
       "(10000, 23)"
      ]
     },
     "execution_count": 2,
     "metadata": {},
     "output_type": "execute_result"
    }
   ],
   "source": [
    "df=pd.read_excel('data/riigikogu_w_meta/data_all.xlsx').tail(10000)\n",
    "df.shape"
   ]
  },
  {
   "cell_type": "code",
   "execution_count": 3,
   "id": "c65ec479-93ae-4620-957b-99cad7abe678",
   "metadata": {},
   "outputs": [],
   "source": [
    "df=df.reset_index()"
   ]
  },
  {
   "cell_type": "code",
   "execution_count": 4,
   "id": "c5cc5e5c-8819-49f0-8273-920ed86bd546",
   "metadata": {},
   "outputs": [],
   "source": [
    "texts=df.text_splitted"
   ]
  },
  {
   "cell_type": "code",
   "execution_count": 5,
   "id": "08bdc84d-de7b-4bbe-bf9f-9d7974d51b20",
   "metadata": {},
   "outputs": [
    {
     "data": {
      "text/plain": [
       "(10000,)"
      ]
     },
     "execution_count": 5,
     "metadata": {},
     "output_type": "execute_result"
    }
   ],
   "source": [
    "embs_ar=np.load('data/riigikogu_w_meta/embs_all.npy', allow_pickle=True)[-10000:]\n",
    "embs_ar.shape"
   ]
  },
  {
   "cell_type": "markdown",
   "id": "e6e6df2c-f8b6-4d11-9f70-6d28c65291fc",
   "metadata": {},
   "source": [
    "# load models"
   ]
  },
  {
   "cell_type": "code",
   "execution_count": 6,
   "id": "4fabff1a-2d46-40f0-9b39-901b77b3d75c",
   "metadata": {},
   "outputs": [
    {
     "data": {
      "application/vnd.jupyter.widget-view+json": {
       "model_id": "d1acff25f2364b48984767f9be7d2742",
       "version_major": 2,
       "version_minor": 0
      },
      "text/plain": [
       "Downloading:   0%|          | 0.00/1.53k [00:00<?, ?B/s]"
      ]
     },
     "metadata": {},
     "output_type": "display_data"
    },
    {
     "data": {
      "application/vnd.jupyter.widget-view+json": {
       "model_id": "5d7c53da6a714acaaf2834765cb0d452",
       "version_major": 2,
       "version_minor": 0
      },
      "text/plain": [
       "Downloading:   0%|          | 0.00/200 [00:00<?, ?B/s]"
      ]
     },
     "metadata": {},
     "output_type": "display_data"
    },
    {
     "data": {
      "application/vnd.jupyter.widget-view+json": {
       "model_id": "9cde2dacfee949c5876b866a3947f241",
       "version_major": 2,
       "version_minor": 0
      },
      "text/plain": [
       "Downloading:   0%|          | 0.00/179k [00:00<?, ?B/s]"
      ]
     },
     "metadata": {},
     "output_type": "display_data"
    },
    {
     "data": {
      "application/vnd.jupyter.widget-view+json": {
       "model_id": "6f261fce94a24959b3189bf2a850bca7",
       "version_major": 2,
       "version_minor": 0
      },
      "text/plain": [
       "Downloading:   0%|          | 0.00/694 [00:00<?, ?B/s]"
      ]
     },
     "metadata": {},
     "output_type": "display_data"
    },
    {
     "data": {
      "application/vnd.jupyter.widget-view+json": {
       "model_id": "ff649f0ae9ce4d70b6b32b7de2790d08",
       "version_major": 2,
       "version_minor": 0
      },
      "text/plain": [
       "Downloading:   0%|          | 0.00/1.11G [00:00<?, ?B/s]"
      ]
     },
     "metadata": {},
     "output_type": "display_data"
    },
    {
     "data": {
      "application/vnd.jupyter.widget-view+json": {
       "model_id": "8756bcf512bc47c78b426ef7b594e372",
       "version_major": 2,
       "version_minor": 0
      },
      "text/plain": [
       "Downloading:   0%|          | 0.00/686 [00:00<?, ?B/s]"
      ]
     },
     "metadata": {},
     "output_type": "display_data"
    },
    {
     "data": {
      "application/vnd.jupyter.widget-view+json": {
       "model_id": "991513c9a12c45c4beca3f9c696e848b",
       "version_major": 2,
       "version_minor": 0
      },
      "text/plain": [
       "Downloading:   0%|          | 0.00/1.11G [00:00<?, ?B/s]"
      ]
     },
     "metadata": {},
     "output_type": "display_data"
    },
    {
     "data": {
      "application/vnd.jupyter.widget-view+json": {
       "model_id": "577b2a19cb4e4574b1fa602f7368859a",
       "version_major": 2,
       "version_minor": 0
      },
      "text/plain": [
       "Downloading:   0%|          | 0.00/5.07M [00:00<?, ?B/s]"
      ]
     },
     "metadata": {},
     "output_type": "display_data"
    },
    {
     "data": {
      "application/vnd.jupyter.widget-view+json": {
       "model_id": "8ba824c451874c45aa36807e603dc2bf",
       "version_major": 2,
       "version_minor": 0
      },
      "text/plain": [
       "Downloading:   0%|          | 0.00/280 [00:00<?, ?B/s]"
      ]
     },
     "metadata": {},
     "output_type": "display_data"
    },
    {
     "data": {
      "application/vnd.jupyter.widget-view+json": {
       "model_id": "a7fbc513b32a4d18b37e4d034d679d44",
       "version_major": 2,
       "version_minor": 0
      },
      "text/plain": [
       "Downloading:   0%|          | 0.00/17.1M [00:00<?, ?B/s]"
      ]
     },
     "metadata": {},
     "output_type": "display_data"
    },
    {
     "data": {
      "application/vnd.jupyter.widget-view+json": {
       "model_id": "2ee5f199970545a5afc762f396794d97",
       "version_major": 2,
       "version_minor": 0
      },
      "text/plain": [
       "Downloading:   0%|          | 0.00/418 [00:00<?, ?B/s]"
      ]
     },
     "metadata": {},
     "output_type": "display_data"
    },
    {
     "data": {
      "application/vnd.jupyter.widget-view+json": {
       "model_id": "e7ab579612d74d7896fb88a8188bfed0",
       "version_major": 2,
       "version_minor": 0
      },
      "text/plain": [
       "Downloading:   0%|          | 0.00/1.11G [00:00<?, ?B/s]"
      ]
     },
     "metadata": {},
     "output_type": "display_data"
    },
    {
     "data": {
      "application/vnd.jupyter.widget-view+json": {
       "model_id": "c99f560ce1304d43bce9cf51e6801fdc",
       "version_major": 2,
       "version_minor": 0
      },
      "text/plain": [
       "Downloading:   0%|          | 0.00/57.0 [00:00<?, ?B/s]"
      ]
     },
     "metadata": {},
     "output_type": "display_data"
    },
    {
     "data": {
      "application/vnd.jupyter.widget-view+json": {
       "model_id": "ad376dea6fa2485eb64bd9f8ddfb2516",
       "version_major": 2,
       "version_minor": 0
      },
      "text/plain": [
       "Downloading:   0%|          | 0.00/5.07M [00:00<?, ?B/s]"
      ]
     },
     "metadata": {},
     "output_type": "display_data"
    },
    {
     "data": {
      "application/vnd.jupyter.widget-view+json": {
       "model_id": "9a0568c0237b4679bea181ab515c5e47",
       "version_major": 2,
       "version_minor": 0
      },
      "text/plain": [
       "Downloading:   0%|          | 0.00/280 [00:00<?, ?B/s]"
      ]
     },
     "metadata": {},
     "output_type": "display_data"
    },
    {
     "data": {
      "application/vnd.jupyter.widget-view+json": {
       "model_id": "9c8f258348fb4b3db0b7a30bdd87d218",
       "version_major": 2,
       "version_minor": 0
      },
      "text/plain": [
       "Downloading:   0%|          | 0.00/17.1M [00:00<?, ?B/s]"
      ]
     },
     "metadata": {},
     "output_type": "display_data"
    },
    {
     "data": {
      "application/vnd.jupyter.widget-view+json": {
       "model_id": "cfca3404b3a740629c0e93c2cbd84c7b",
       "version_major": 2,
       "version_minor": 0
      },
      "text/plain": [
       "Downloading:   0%|          | 0.00/418 [00:00<?, ?B/s]"
      ]
     },
     "metadata": {},
     "output_type": "display_data"
    },
    {
     "data": {
      "application/vnd.jupyter.widget-view+json": {
       "model_id": "e90393ed07344b3e9b19418d816cc1a1",
       "version_major": 2,
       "version_minor": 0
      },
      "text/plain": [
       "Downloading:   0%|          | 0.00/387 [00:00<?, ?B/s]"
      ]
     },
     "metadata": {},
     "output_type": "display_data"
    }
   ],
   "source": [
    "model_orig=SentenceTransformer(\"intfloat/multilingual-e5-base\")\n",
    "model_fintuned = SentenceTransformer('test_model')"
   ]
  },
  {
   "cell_type": "code",
   "execution_count": 7,
   "id": "43a2845b-aa25-4238-af8c-2e7d74dade61",
   "metadata": {},
   "outputs": [
    {
     "data": {
      "application/vnd.jupyter.widget-view+json": {
       "model_id": "06942f4c88fa450d8407334291aaac4a",
       "version_major": 2,
       "version_minor": 0
      },
      "text/plain": [
       "Downloading:   0%|          | 0.00/694 [00:00<?, ?B/s]"
      ]
     },
     "metadata": {},
     "output_type": "display_data"
    },
    {
     "data": {
      "application/vnd.jupyter.widget-view+json": {
       "model_id": "2090e4fee2644508a6b15738e5d4850a",
       "version_major": 2,
       "version_minor": 0
      },
      "text/plain": [
       "Downloading:   0%|          | 0.00/1.04G [00:00<?, ?B/s]"
      ]
     },
     "metadata": {},
     "output_type": "display_data"
    },
    {
     "data": {
      "application/vnd.jupyter.widget-view+json": {
       "model_id": "54cef9c0771f4396bfb75ef37661a3a1",
       "version_major": 2,
       "version_minor": 0
      },
      "text/plain": [
       "Downloading:   0%|          | 0.00/418 [00:00<?, ?B/s]"
      ]
     },
     "metadata": {},
     "output_type": "display_data"
    },
    {
     "data": {
      "application/vnd.jupyter.widget-view+json": {
       "model_id": "c4ad42fa5b83440e9407592dcf8dec73",
       "version_major": 2,
       "version_minor": 0
      },
      "text/plain": [
       "Downloading:   0%|          | 0.00/4.83M [00:00<?, ?B/s]"
      ]
     },
     "metadata": {},
     "output_type": "display_data"
    },
    {
     "data": {
      "application/vnd.jupyter.widget-view+json": {
       "model_id": "01cea3e42d1b456fa66324eab28da08a",
       "version_major": 2,
       "version_minor": 0
      },
      "text/plain": [
       "Downloading:   0%|          | 0.00/16.3M [00:00<?, ?B/s]"
      ]
     },
     "metadata": {},
     "output_type": "display_data"
    },
    {
     "data": {
      "application/vnd.jupyter.widget-view+json": {
       "model_id": "a1b6ab9fbecd4fe89cef19c89d08be2d",
       "version_major": 2,
       "version_minor": 0
      },
      "text/plain": [
       "Downloading:   0%|          | 0.00/280 [00:00<?, ?B/s]"
      ]
     },
     "metadata": {},
     "output_type": "display_data"
    }
   ],
   "source": [
    "base_embed_model = resolve_embed_model(\"local:intfloat/multilingual-e5-base\")\n",
    "\n",
    "# #2-layer model\n",
    "# adapter_model = TwoLayerNN(\n",
    "#     768,  # input dimension\n",
    "#     1024,  # hidden dimension\n",
    "#     768,  # output dimension\n",
    "#     bias=True,\n",
    "#     add_residual=True,\n",
    "# )\n",
    "\n",
    "# embed_model_2layer = AdapterEmbeddingModel(\n",
    "#     base_embed_model,\n",
    "#     \"modele5_output_test\",\n",
    "#     adapter_model,\n",
    "# )\n"
   ]
  },
  {
   "cell_type": "code",
   "execution_count": 8,
   "id": "a84541cc-b040-4111-b85e-0424ccdd1dc9",
   "metadata": {},
   "outputs": [],
   "source": [
    "#custom adapter model\n",
    "class CustomNN(BaseAdapter):\n",
    "    \"\"\"Custom NN transformation.\n",
    "\n",
    "    Is a copy of our TwoLayerNN, showing it here for notebook purposes.\n",
    "\n",
    "    Args:\n",
    "        in_features (int): Input dimension.\n",
    "        hidden_features (int): Hidden dimension.\n",
    "        out_features (int): Output dimension.\n",
    "        bias (bool): Whether to use bias. Defaults to False.\n",
    "        activation_fn_str (str): Name of activation function. Defaults to \"relu\".\n",
    "\n",
    "    \"\"\"\n",
    "\n",
    "    def __init__(\n",
    "        self,\n",
    "        in_features: int,\n",
    "        hidden_features: int,\n",
    "        out_features: int,\n",
    "        bias: bool = False,\n",
    "        add_residual: bool = False,\n",
    "    ) -> None:\n",
    "        super(CustomNN, self).__init__()\n",
    "        self.in_features = in_features\n",
    "        self.hidden_features = hidden_features\n",
    "        self.out_features = out_features\n",
    "        self.bias = bias\n",
    "\n",
    "        self.linear1 = nn.Linear(in_features, hidden_features, bias=True)\n",
    "        self.linear2 = nn.Linear(hidden_features, out_features, bias=True)\n",
    "        self._add_residual = add_residual\n",
    "        # if add_residual, then add residual_weight (init to 0)\n",
    "        self.residual_weight = nn.Parameter(torch.zeros(1))\n",
    "\n",
    "    def forward(self, embed: Tensor) -> Tensor:\n",
    "        \"\"\"Forward pass (Wv).\n",
    "\n",
    "        Args:\n",
    "            embed (Tensor): Input tensor.\n",
    "\n",
    "        \"\"\"\n",
    "        output1 = self.linear1(embed)\n",
    "        output1 = F.relu(output1)\n",
    "        output2 = self.linear2(output1)\n",
    "\n",
    "        if self._add_residual:\n",
    "            output2 = self.residual_weight * output2 + embed\n",
    "\n",
    "        return output2\n",
    "\n",
    "    def get_config_dict(self) -> Dict:\n",
    "        \"\"\"Get config dict.\"\"\"\n",
    "        return {\n",
    "            \"in_features\": self.in_features,\n",
    "            \"hidden_features\": self.hidden_features,\n",
    "            \"out_features\": self.out_features,\n",
    "            \"bias\": self.bias,\n",
    "            \"add_residual\": self._add_residual,\n",
    "        }\n",
    "\n",
    "    \n",
    "custom_adapter = CustomNN(\n",
    "    768,  # input dimension\n",
    "    2048,  # hidden dimension\n",
    "    768,  # output dimension\n",
    "    bias=True,\n",
    "    add_residual=True,\n",
    ")"
   ]
  },
  {
   "cell_type": "code",
   "execution_count": 9,
   "id": "1d0ee6e8-41b2-436d-9262-f1c120812fdd",
   "metadata": {},
   "outputs": [],
   "source": [
    "embed_model_custom = AdapterEmbeddingModel(\n",
    "    base_embed_model,\n",
    "    \"custom_modele5_output_test\",\n",
    "    custom_adapter,\n",
    ")\n",
    "    "
   ]
  },
  {
   "cell_type": "markdown",
   "id": "8a4d8eec-a95b-42ee-ab4a-4358fe7c2abb",
   "metadata": {},
   "source": [
    "## Embed texts with different models"
   ]
  },
  {
   "cell_type": "code",
   "execution_count": 10,
   "id": "254b7860-5767-48a9-a16c-e7763477e59f",
   "metadata": {},
   "outputs": [
    {
     "name": "stdout",
     "output_type": "stream",
     "text": [
      "CPU times: user 14.6 s, sys: 4.48 s, total: 19.1 s\n",
      "Wall time: 17.6 s\n"
     ]
    }
   ],
   "source": [
    "%time embs_orig = model_orig.encode(texts.tolist())"
   ]
  },
  {
   "cell_type": "code",
   "execution_count": 11,
   "id": "4365d436-6db0-4b9e-8ff3-5a353b5b246b",
   "metadata": {},
   "outputs": [
    {
     "name": "stdout",
     "output_type": "stream",
     "text": [
      "CPU times: user 14.1 s, sys: 4.43 s, total: 18.6 s\n",
      "Wall time: 15.5 s\n"
     ]
    }
   ],
   "source": [
    "%time embs_finet_2l = model_fintuned.encode(texts.tolist())"
   ]
  },
  {
   "cell_type": "code",
   "execution_count": 12,
   "id": "eb9a02e8-c239-4c65-9530-f36bdc7351f2",
   "metadata": {},
   "outputs": [
    {
     "name": "stdout",
     "output_type": "stream",
     "text": [
      "CPU times: user 1min 18s, sys: 187 ms, total: 1min 18s\n",
      "Wall time: 1min 18s\n"
     ]
    }
   ],
   "source": [
    "%time embs_train_finet_cust=[embed_model_custom.get_text_embedding(t) for t in texts]"
   ]
  },
  {
   "cell_type": "markdown",
   "id": "9e8ee8f1-d85c-4839-8e94-28d64be722ac",
   "metadata": {},
   "source": [
    "## open ai model"
   ]
  },
  {
   "cell_type": "code",
   "execution_count": 13,
   "id": "549be109-cce0-4f78-acec-4bf360b6c19a",
   "metadata": {},
   "outputs": [],
   "source": [
    "embedding_model = \"text-embedding-ada-002\"\n",
    "embedding_encoding = \"cl100k_base\"  # this the encoding for text-embedding-ada-002\n",
    "max_tokens = 8000  # the maximum for text-embedding-ada-002 is 8191\n",
    "\n",
    "#setup openai client\n",
    "config=ConfigParser()\n",
    "config.read('conf/conf.ini')\n",
    "client = OpenAI(api_key=config['openai']['apikey'])\n",
    "\n",
    "def get_embeddings_openai(texts, model=\"text-embedding-ada-002\"):\n",
    "    texts = [text.replace(\"\\n\", \" \") for text in texts]\n",
    "    response= client.embeddings.create(input = texts, model=model)\n",
    "    idxs=[el.index for el in response.data]\n",
    "    embs=[el.embedding for el in response.data]\n",
    "    \n",
    "    results=[(texts[i_orig], embs[i_resp]) for  i_resp, i_orig in enumerate(idxs)]\n",
    "    return results"
   ]
  },
  {
   "cell_type": "markdown",
   "id": "9d06b989-3703-43e0-aa27-37a63ea30a9d",
   "metadata": {},
   "source": [
    "# search texts"
   ]
  },
  {
   "cell_type": "code",
   "execution_count": 14,
   "id": "c39f4ffc-32f2-4184-96bb-103af01a590b",
   "metadata": {},
   "outputs": [
    {
     "data": {
      "text/plain": [
       "1"
      ]
     },
     "execution_count": 14,
     "metadata": {},
     "output_type": "execute_result"
    }
   ],
   "source": [
    "len(list(enumerate(np.array(embed_model_custom.get_text_embedding(['tere'])).reshape((1, -1)))))"
   ]
  },
  {
   "cell_type": "code",
   "execution_count": 15,
   "id": "e31cf89b-e9ff-445f-a18e-4fb3bb8bcefc",
   "metadata": {},
   "outputs": [],
   "source": [
    "def get_embeddings(texts, embed_model):\n",
    "    texts = [text.replace(\"\\n\", \" \") for text in texts]\n",
    "    try:\n",
    "        embeddings = embed_model.encode(texts)\n",
    "    except:\n",
    "        embeddings= np.array(embed_model.get_text_embedding(texts)).reshape((1, -1))\n",
    "    # print(embeddings)\n",
    "    # print(len(embeddings))\n",
    "    results=[(texts[i], emb) for  i, emb in enumerate(embeddings)]\n",
    "    return results\n",
    "\n",
    "\n",
    "def sim_score(review_embedding, search_embeddings):\n",
    "    # print(search_embeddings[0])\n",
    "    return cosine_similarity(review_embedding, search_embeddings[0][1])\n",
    "\n",
    "\n",
    "def get_search_sim_score(df, embs, search_text, embed_model=False, openai=False):\n",
    "    if openai:\n",
    "        search_emb=get_embeddings_openai([search_text])\n",
    "    else:\n",
    "        search_emb=get_embeddings([search_text], embed_model)\n",
    "    scores=[]\n",
    "    for i, row in df.iterrows():\n",
    "        if i%10000==0:\n",
    "            print(i)\n",
    "        emb=embs[i]\n",
    "        score=sim_score(emb, search_emb)\n",
    "        scores.append(score)\n",
    "    df['search_score']=scores\n",
    "    return df"
   ]
  },
  {
   "cell_type": "code",
   "execution_count": 16,
   "id": "2387b03e-927b-45d9-8b96-84ec7ec6164c",
   "metadata": {},
   "outputs": [
    {
     "name": "stdout",
     "output_type": "stream",
     "text": [
      "0\n"
     ]
    }
   ],
   "source": [
    "search_text='keskmaa õhutõrje'\n",
    "df_finet_2l=get_search_sim_score(df, embs_finet_2l, search_text, model_fintuned)"
   ]
  },
  {
   "cell_type": "code",
   "execution_count": 17,
   "id": "5806b7b1-511e-4fb1-92cc-5de59cfc526d",
   "metadata": {},
   "outputs": [
    {
     "data": {
      "text/html": [
       "<div>\n",
       "<style scoped>\n",
       "    .dataframe tbody tr th:only-of-type {\n",
       "        vertical-align: middle;\n",
       "    }\n",
       "\n",
       "    .dataframe tbody tr th {\n",
       "        vertical-align: top;\n",
       "    }\n",
       "\n",
       "    .dataframe thead th {\n",
       "        text-align: right;\n",
       "    }\n",
       "</style>\n",
       "<table border=\"1\" class=\"dataframe\">\n",
       "  <thead>\n",
       "    <tr style=\"text-align: right;\">\n",
       "      <th></th>\n",
       "      <th>text_splitted</th>\n",
       "      <th>search_score</th>\n",
       "    </tr>\n",
       "  </thead>\n",
       "  <tbody>\n",
       "    <tr>\n",
       "      <th>8374</th>\n",
       "      <td>keskmaa-õhutõrjesüsteemi iris-t ostmiseks saksa kaitsetööstusettevõttelt diehl defence see maksab umbes 400 miljonit eurot tegu on suurima eesti ajaloo kaitsevaldkonna lepinguga ja see suurendab oluliselt strateegiliste maa-alade õhukaitset lisaks hangime mitmikraketiheitjad himars mis läheb maksma 200 miljonit eurot ja täiendavad liikursuurtükid k9 12 suurtükki koos täiendava varustuse laskemoonaga circa 100 miljonit uutest võimearendustest on käimas teise jalaväebrigaadi soomustamine ehk manööverpataljonid saavad veoautode asemel soomukid brigaadi tankitõrjekompaniid saavad täiendavad laskeseadmed ning soomusautod millega tagatakse nende parem kaitstus ja mobiilsus mereväes uuendatakse kõik</td>\n",
       "      <td>0.455836</td>\n",
       "    </tr>\n",
       "    <tr>\n",
       "      <th>5881</th>\n",
       "      <td>avan läbirääkimised eesti keskerakonna fraktsiooni nime andre hanimägi palun</td>\n",
       "      <td>0.426103</td>\n",
       "    </tr>\n",
       "    <tr>\n",
       "      <th>2614</th>\n",
       "      <td>aitäh anastassia kovalenko-kõlvart kas keskfraktsiooni nimel palun</td>\n",
       "      <td>0.423893</td>\n",
       "    </tr>\n",
       "    <tr>\n",
       "      <th>5733</th>\n",
       "      <td>aitäh järgnevalt helir-valdor seeder palun</td>\n",
       "      <td>0.397794</td>\n",
       "    </tr>\n",
       "    <tr>\n",
       "      <th>1565</th>\n",
       "      <td>aitäh järgnevalt helir-valdor seeder palun</td>\n",
       "      <td>0.397794</td>\n",
       "    </tr>\n",
       "  </tbody>\n",
       "</table>\n",
       "</div>"
      ],
      "text/plain": [
       "                                                                                                                                                                                                                                                                                                                                                                                                                                                                                                                                                                                                                                                                                                                      text_splitted  \\\n",
       "8374  keskmaa-õhutõrjesüsteemi iris-t ostmiseks saksa kaitsetööstusettevõttelt diehl defence see maksab umbes 400 miljonit eurot tegu on suurima eesti ajaloo kaitsevaldkonna lepinguga ja see suurendab oluliselt strateegiliste maa-alade õhukaitset lisaks hangime mitmikraketiheitjad himars mis läheb maksma 200 miljonit eurot ja täiendavad liikursuurtükid k9 12 suurtükki koos täiendava varustuse laskemoonaga circa 100 miljonit uutest võimearendustest on käimas teise jalaväebrigaadi soomustamine ehk manööverpataljonid saavad veoautode asemel soomukid brigaadi tankitõrjekompaniid saavad täiendavad laskeseadmed ning soomusautod millega tagatakse nende parem kaitstus ja mobiilsus mereväes uuendatakse kõik   \n",
       "5881  avan läbirääkimised eesti keskerakonna fraktsiooni nime andre hanimägi palun                                                                                                                                                                                                                                                                                                                                                                                                                                                                                                                                                                                                                                                    \n",
       "2614  aitäh anastassia kovalenko-kõlvart kas keskfraktsiooni nimel palun                                                                                                                                                                                                                                                                                                                                                                                                                                                                                                                                                                                                                                                              \n",
       "5733  aitäh järgnevalt helir-valdor seeder palun                                                                                                                                                                                                                                                                                                                                                                                                                                                                                                                                                                                                                                                                                      \n",
       "1565  aitäh järgnevalt helir-valdor seeder palun                                                                                                                                                                                                                                                                                                                                                                                                                                                                                                                                                                                                                                                                                      \n",
       "\n",
       "      search_score  \n",
       "8374  0.455836      \n",
       "5881  0.426103      \n",
       "2614  0.423893      \n",
       "5733  0.397794      \n",
       "1565  0.397794      "
      ]
     },
     "execution_count": 17,
     "metadata": {},
     "output_type": "execute_result"
    }
   ],
   "source": [
    "df_finet_2l=df_finet_2l.sort_values('search_score', ascending=False)\n",
    "df_finet_2l[['text_splitted', 'search_score']].head()"
   ]
  },
  {
   "cell_type": "code",
   "execution_count": 77,
   "id": "deab8e52-56f8-48c7-b626-3cf44d2ed167",
   "metadata": {},
   "outputs": [
    {
     "name": "stdout",
     "output_type": "stream",
     "text": [
      "0\n"
     ]
    }
   ],
   "source": [
    "search_text='keskmaa õhutõrje'\n",
    "df_finet_cust=get_search_sim_score(df, embs_train_finet_cust, search_text, embed_model_custom)"
   ]
  },
  {
   "cell_type": "code",
   "execution_count": 78,
   "id": "659658d2-284b-4542-9ab6-e2d44c7f7d71",
   "metadata": {},
   "outputs": [
    {
     "data": {
      "text/html": [
       "<div>\n",
       "<style scoped>\n",
       "    .dataframe tbody tr th:only-of-type {\n",
       "        vertical-align: middle;\n",
       "    }\n",
       "\n",
       "    .dataframe tbody tr th {\n",
       "        vertical-align: top;\n",
       "    }\n",
       "\n",
       "    .dataframe thead th {\n",
       "        text-align: right;\n",
       "    }\n",
       "</style>\n",
       "<table border=\"1\" class=\"dataframe\">\n",
       "  <thead>\n",
       "    <tr style=\"text-align: right;\">\n",
       "      <th></th>\n",
       "      <th>text_splitted</th>\n",
       "      <th>search_score</th>\n",
       "    </tr>\n",
       "  </thead>\n",
       "  <tbody>\n",
       "    <tr>\n",
       "      <th>399</th>\n",
       "      <td>kaitsta ja hoida pikaaegseid piirivalveohvitsere selle asemel et anda ülesanne konkreetsele ministeeriumile lahendada</td>\n",
       "      <td>0.886749</td>\n",
       "    </tr>\n",
       "    <tr>\n",
       "      <th>8047</th>\n",
       "      <td>aitäh minu arvates kas saaks ilma lärmita</td>\n",
       "      <td>0.886004</td>\n",
       "    </tr>\n",
       "    <tr>\n",
       "      <th>3017</th>\n",
       "      <td>oluliselt kasvanud kulud sealhulgas märkimisväärselt kaitsekulud</td>\n",
       "      <td>0.885112</td>\n",
       "    </tr>\n",
       "    <tr>\n",
       "      <th>2730</th>\n",
       "      <td>tegevuskulude kärpimise ülesanded et lihtsam oleks seda läbi viia milline kärbe tuleb tegelikult riigihalduses konkreetselt</td>\n",
       "      <td>0.883719</td>\n",
       "    </tr>\n",
       "    <tr>\n",
       "      <th>9690</th>\n",
       "      <td>et nad ei pea lihtsalt vajalikuks kohale tulla ja ei ilmunud</td>\n",
       "      <td>0.883192</td>\n",
       "    </tr>\n",
       "  </tbody>\n",
       "</table>\n",
       "</div>"
      ],
      "text/plain": [
       "                                                                                                                    text_splitted  \\\n",
       "399   kaitsta ja hoida pikaaegseid piirivalveohvitsere selle asemel et anda ülesanne konkreetsele ministeeriumile lahendada         \n",
       "8047  aitäh minu arvates kas saaks ilma lärmita                                                                                     \n",
       "3017  oluliselt kasvanud kulud sealhulgas märkimisväärselt kaitsekulud                                                              \n",
       "2730  tegevuskulude kärpimise ülesanded et lihtsam oleks seda läbi viia milline kärbe tuleb tegelikult riigihalduses konkreetselt   \n",
       "9690  et nad ei pea lihtsalt vajalikuks kohale tulla ja ei ilmunud                                                                  \n",
       "\n",
       "      search_score  \n",
       "399   0.886749      \n",
       "8047  0.886004      \n",
       "3017  0.885112      \n",
       "2730  0.883719      \n",
       "9690  0.883192      "
      ]
     },
     "execution_count": 78,
     "metadata": {},
     "output_type": "execute_result"
    }
   ],
   "source": [
    "df_finet_cust=df_finet_cust.sort_values('search_score', ascending=False)\n",
    "df_finet_cust[['text_splitted', 'search_score']].head()"
   ]
  },
  {
   "cell_type": "code",
   "execution_count": 16,
   "id": "348622f3-abb3-4299-8667-f230c1f717e6",
   "metadata": {},
   "outputs": [
    {
     "name": "stdout",
     "output_type": "stream",
     "text": [
      "0\n"
     ]
    }
   ],
   "source": [
    "search_text='keskmaa õhutõrje'\n",
    "df_orig=get_search_sim_score(df, embs_orig, search_text, model_orig)"
   ]
  },
  {
   "cell_type": "code",
   "execution_count": 17,
   "id": "0d657556-d09a-40d8-b7c6-2634591c2612",
   "metadata": {},
   "outputs": [
    {
     "data": {
      "text/html": [
       "<div>\n",
       "<style scoped>\n",
       "    .dataframe tbody tr th:only-of-type {\n",
       "        vertical-align: middle;\n",
       "    }\n",
       "\n",
       "    .dataframe tbody tr th {\n",
       "        vertical-align: top;\n",
       "    }\n",
       "\n",
       "    .dataframe thead th {\n",
       "        text-align: right;\n",
       "    }\n",
       "</style>\n",
       "<table border=\"1\" class=\"dataframe\">\n",
       "  <thead>\n",
       "    <tr style=\"text-align: right;\">\n",
       "      <th></th>\n",
       "      <th>text_splitted</th>\n",
       "      <th>search_score</th>\n",
       "    </tr>\n",
       "  </thead>\n",
       "  <tbody>\n",
       "    <tr>\n",
       "      <th>5881</th>\n",
       "      <td>avan läbirääkimised eesti keskerakonna fraktsiooni nime andre hanimägi palun</td>\n",
       "      <td>0.843727</td>\n",
       "    </tr>\n",
       "    <tr>\n",
       "      <th>9964</th>\n",
       "      <td>haigla kus neile maailmatasemel tervishoiuteenust osutatakse</td>\n",
       "      <td>0.841727</td>\n",
       "    </tr>\n",
       "    <tr>\n",
       "      <th>4858</th>\n",
       "      <td>kolm minutit kolm minutit lisaaega</td>\n",
       "      <td>0.840080</td>\n",
       "    </tr>\n",
       "    <tr>\n",
       "      <th>8374</th>\n",
       "      <td>keskmaa-õhutõrjesüsteemi iris-t ostmiseks saksa kaitsetööstusettevõttelt diehl defence see maksab umbes 400 miljonit eurot tegu on suurima eesti ajaloo kaitsevaldkonna lepinguga ja see suurendab oluliselt strateegiliste maa-alade õhukaitset lisaks hangime mitmikraketiheitjad himars mis läheb maksma 200 miljonit eurot ja täiendavad liikursuurtükid k9 12 suurtükki koos täiendava varustuse laskemoonaga circa 100 miljonit uutest võimearendustest on käimas teise jalaväebrigaadi soomustamine ehk manööverpataljonid saavad veoautode asemel soomukid brigaadi tankitõrjekompaniid saavad täiendavad laskeseadmed ning soomusautod millega tagatakse nende parem kaitstus ja mobiilsus mereväes uuendatakse kõik</td>\n",
       "      <td>0.839920</td>\n",
       "    </tr>\n",
       "    <tr>\n",
       "      <th>2590</th>\n",
       "      <td>helistab kella. head kolleegid palun vaikust</td>\n",
       "      <td>0.839131</td>\n",
       "    </tr>\n",
       "  </tbody>\n",
       "</table>\n",
       "</div>"
      ],
      "text/plain": [
       "                                                                                                                                                                                                                                                                                                                                                                                                                                                                                                                                                                                                                                                                                                                      text_splitted  \\\n",
       "5881  avan läbirääkimised eesti keskerakonna fraktsiooni nime andre hanimägi palun                                                                                                                                                                                                                                                                                                                                                                                                                                                                                                                                                                                                                                                    \n",
       "9964  haigla kus neile maailmatasemel tervishoiuteenust osutatakse                                                                                                                                                                                                                                                                                                                                                                                                                                                                                                                                                                                                                                                                    \n",
       "4858  kolm minutit kolm minutit lisaaega                                                                                                                                                                                                                                                                                                                                                                                                                                                                                                                                                                                                                                                                                              \n",
       "8374  keskmaa-õhutõrjesüsteemi iris-t ostmiseks saksa kaitsetööstusettevõttelt diehl defence see maksab umbes 400 miljonit eurot tegu on suurima eesti ajaloo kaitsevaldkonna lepinguga ja see suurendab oluliselt strateegiliste maa-alade õhukaitset lisaks hangime mitmikraketiheitjad himars mis läheb maksma 200 miljonit eurot ja täiendavad liikursuurtükid k9 12 suurtükki koos täiendava varustuse laskemoonaga circa 100 miljonit uutest võimearendustest on käimas teise jalaväebrigaadi soomustamine ehk manööverpataljonid saavad veoautode asemel soomukid brigaadi tankitõrjekompaniid saavad täiendavad laskeseadmed ning soomusautod millega tagatakse nende parem kaitstus ja mobiilsus mereväes uuendatakse kõik   \n",
       "2590  helistab kella. head kolleegid palun vaikust                                                                                                                                                                                                                                                                                                                                                                                                                                                                                                                                                                                                                                                                                    \n",
       "\n",
       "      search_score  \n",
       "5881  0.843727      \n",
       "9964  0.841727      \n",
       "4858  0.840080      \n",
       "8374  0.839920      \n",
       "2590  0.839131      "
      ]
     },
     "execution_count": 17,
     "metadata": {},
     "output_type": "execute_result"
    }
   ],
   "source": [
    "df_orig=df_orig.sort_values('search_score', ascending=False)\n",
    "df_orig[['text_splitted', 'search_score']].head()"
   ]
  },
  {
   "cell_type": "code",
   "execution_count": null,
   "id": "7c843716-7c18-4d47-afac-316d18451a97",
   "metadata": {},
   "outputs": [],
   "source": []
  },
  {
   "cell_type": "code",
   "execution_count": 83,
   "id": "92bdfd95-111b-49ea-b7cc-82a7baac49e0",
   "metadata": {},
   "outputs": [
    {
     "data": {
      "text/plain": [
       "(3, 25)"
      ]
     },
     "execution_count": 83,
     "metadata": {},
     "output_type": "execute_result"
    }
   ],
   "source": [
    "df[df.text_splitted.str.contains('õhutõrje')].shape"
   ]
  },
  {
   "cell_type": "code",
   "execution_count": 85,
   "id": "3c03b4c0-039a-470b-a23e-13d2604a806c",
   "metadata": {},
   "outputs": [
    {
     "name": "stdout",
     "output_type": "stream",
     "text": [
      "huggingface/tokenizers: The current process just got forked, after parallelism has already been used. Disabling parallelism to avoid deadlocks...\n",
      "To disable this warning, you can either:\n",
      "\t- Avoid using `tokenizers` before the fork if possible\n",
      "\t- Explicitly set the environment variable TOKENIZERS_PARALLELISM=(true | false)\n",
      "0\n"
     ]
    }
   ],
   "source": [
    "search_text='keskmaa õhutõrje'\n",
    "df_oai=get_search_sim_score(df, embs_ar, search_text, openai=True)"
   ]
  },
  {
   "cell_type": "code",
   "execution_count": 86,
   "id": "05971add-3246-4364-b645-f385a43b0c96",
   "metadata": {},
   "outputs": [
    {
     "data": {
      "text/html": [
       "<div>\n",
       "<style scoped>\n",
       "    .dataframe tbody tr th:only-of-type {\n",
       "        vertical-align: middle;\n",
       "    }\n",
       "\n",
       "    .dataframe tbody tr th {\n",
       "        vertical-align: top;\n",
       "    }\n",
       "\n",
       "    .dataframe thead th {\n",
       "        text-align: right;\n",
       "    }\n",
       "</style>\n",
       "<table border=\"1\" class=\"dataframe\">\n",
       "  <thead>\n",
       "    <tr style=\"text-align: right;\">\n",
       "      <th></th>\n",
       "      <th>text_splitted</th>\n",
       "      <th>search_score</th>\n",
       "    </tr>\n",
       "  </thead>\n",
       "  <tbody>\n",
       "    <tr>\n",
       "      <th>9148</th>\n",
       "      <td>see on vaenu õhutamine see sõnavõtt need tegevused see on sõnavõtt ja see on vaenu õhutamine</td>\n",
       "      <td>0.872676</td>\n",
       "    </tr>\n",
       "    <tr>\n",
       "      <th>8374</th>\n",
       "      <td>keskmaa-õhutõrjesüsteemi iris-t ostmiseks saksa kaitsetööstusettevõttelt diehl defence see maksab umbes 400 miljonit eurot tegu on suurima eesti ajaloo kaitsevaldkonna lepinguga ja see suurendab oluliselt strateegiliste maa-alade õhukaitset lisaks hangime mitmikraketiheitjad himars mis läheb maksma 200 miljonit eurot ja täiendavad liikursuurtükid k9 12 suurtükki koos täiendava varustuse laskemoonaga circa 100 miljonit uutest võimearendustest on käimas teise jalaväebrigaadi soomustamine ehk manööverpataljonid saavad veoautode asemel soomukid brigaadi tankitõrjekompaniid saavad täiendavad laskeseadmed ning soomusautod millega tagatakse nende parem kaitstus ja mobiilsus mereväes uuendatakse kõik</td>\n",
       "      <td>0.867954</td>\n",
       "    </tr>\n",
       "    <tr>\n",
       "      <th>8351</th>\n",
       "      <td>aitäh lugupeetud istungi juhataja hea peaminister eesti on ka üks osa euroopast ja nagu me teame meie viimased talved on olnud väga külmad ja pikad kas seda nimetada kliima soojenemiseks või milleks on igaühe enda pädevuses aga teie jutust jäi kõlama et kohalikud omavalitsused ju peaksid toetama neid asju ja järjekordselt inimesi suunatakse toimetulekut taotlema on ta selle renoveerimistoetuse laenutaotluste ja intressimaksete ja kindlustusmaksete kompenseerimiseks ja samas on seal ette nähtud piirmäär toimetulekutoetusel nüüd me teame seda et ahjude vahetuse</td>\n",
       "      <td>0.854290</td>\n",
       "    </tr>\n",
       "    <tr>\n",
       "      <th>8333</th>\n",
       "      <td>mis veel ei kuulu kauplemissüsteemi ja mis kasutavad maagaasi selliseid katlamajasid on võrdlemisi vähe alles kuna enamik neist on hiljuti moderniseeritud ja kasutavad kütusena biomassi samas kuna soojusenergia tarbimine on vältimatu ka madalama sissetulekuga elanikele võib teatud osa elanike reaalne sissetulek langeda ulatuslikum mõju avaldub transpordikütuste kaudu mis on eestis veel väga suures osas fossiilset päritolu samas ligikaudu 50% eesti transpordisektori kasvuhoonegaaside heitest tekitab tallinn koos harjumaaga kus alternatiivide pakkumine isiklikule sõiduautole on võimalik ning inimeste ostujõud on kõrgem kui</td>\n",
       "      <td>0.851373</td>\n",
       "    </tr>\n",
       "    <tr>\n",
       "      <th>8927</th>\n",
       "      <td>eesti kaitsevõime suureneb oluliselt nii maismaa- õhu- kui ka meredomeenis riigikaitse algab inimestest investeerime riigi kaitsjatesse ja nende varustusse jätkame 20 000 võitlejani suurendatud maakaitse võitlusvõime hoidmist testime meie ajateenistusel põhineva reservarmee ja maakaits valmidust kaitseliitu rahastame 2024. 2027. aastal ligi 300 miljoni euroga millest 227,9 miljonit on iga-aastane toetus ja lisaks maakaitset toetavad hanked 64,9 miljoni euro eest tänavu on esimene kord kui laiapindse julgeoleku rahastamiseks pani valitsus kokku eraldi kava mis hõlmas seitset ministeeriumit ja riigikantseleid uus formaat</td>\n",
       "      <td>0.850838</td>\n",
       "    </tr>\n",
       "  </tbody>\n",
       "</table>\n",
       "</div>"
      ],
      "text/plain": [
       "                                                                                                                                                                                                                                                                                                                                                                                                                                                                                                                                                                                                                                                                                                                      text_splitted  \\\n",
       "9148  see on vaenu õhutamine see sõnavõtt need tegevused see on sõnavõtt ja see on vaenu õhutamine                                                                                                                                                                                                                                                                                                                                                                                                                                                                                                                                                                                                                                    \n",
       "8374  keskmaa-õhutõrjesüsteemi iris-t ostmiseks saksa kaitsetööstusettevõttelt diehl defence see maksab umbes 400 miljonit eurot tegu on suurima eesti ajaloo kaitsevaldkonna lepinguga ja see suurendab oluliselt strateegiliste maa-alade õhukaitset lisaks hangime mitmikraketiheitjad himars mis läheb maksma 200 miljonit eurot ja täiendavad liikursuurtükid k9 12 suurtükki koos täiendava varustuse laskemoonaga circa 100 miljonit uutest võimearendustest on käimas teise jalaväebrigaadi soomustamine ehk manööverpataljonid saavad veoautode asemel soomukid brigaadi tankitõrjekompaniid saavad täiendavad laskeseadmed ning soomusautod millega tagatakse nende parem kaitstus ja mobiilsus mereväes uuendatakse kõik   \n",
       "8351  aitäh lugupeetud istungi juhataja hea peaminister eesti on ka üks osa euroopast ja nagu me teame meie viimased talved on olnud väga külmad ja pikad kas seda nimetada kliima soojenemiseks või milleks on igaühe enda pädevuses aga teie jutust jäi kõlama et kohalikud omavalitsused ju peaksid toetama neid asju ja järjekordselt inimesi suunatakse toimetulekut taotlema on ta selle renoveerimistoetuse laenutaotluste ja intressimaksete ja kindlustusmaksete kompenseerimiseks ja samas on seal ette nähtud piirmäär toimetulekutoetusel nüüd me teame seda et ahjude vahetuse                                                                                                                                           \n",
       "8333  mis veel ei kuulu kauplemissüsteemi ja mis kasutavad maagaasi selliseid katlamajasid on võrdlemisi vähe alles kuna enamik neist on hiljuti moderniseeritud ja kasutavad kütusena biomassi samas kuna soojusenergia tarbimine on vältimatu ka madalama sissetulekuga elanikele võib teatud osa elanike reaalne sissetulek langeda ulatuslikum mõju avaldub transpordikütuste kaudu mis on eestis veel väga suures osas fossiilset päritolu samas ligikaudu 50% eesti transpordisektori kasvuhoonegaaside heitest tekitab tallinn koos harjumaaga kus alternatiivide pakkumine isiklikule sõiduautole on võimalik ning inimeste ostujõud on kõrgem kui                                                                            \n",
       "8927  eesti kaitsevõime suureneb oluliselt nii maismaa- õhu- kui ka meredomeenis riigikaitse algab inimestest investeerime riigi kaitsjatesse ja nende varustusse jätkame 20 000 võitlejani suurendatud maakaitse võitlusvõime hoidmist testime meie ajateenistusel põhineva reservarmee ja maakaits valmidust kaitseliitu rahastame 2024. 2027. aastal ligi 300 miljoni euroga millest 227,9 miljonit on iga-aastane toetus ja lisaks maakaitset toetavad hanked 64,9 miljoni euro eest tänavu on esimene kord kui laiapindse julgeoleku rahastamiseks pani valitsus kokku eraldi kava mis hõlmas seitset ministeeriumit ja riigikantseleid uus formaat                                                                              \n",
       "\n",
       "      search_score  \n",
       "9148  0.872676      \n",
       "8374  0.867954      \n",
       "8351  0.854290      \n",
       "8333  0.851373      \n",
       "8927  0.850838      "
      ]
     },
     "execution_count": 86,
     "metadata": {},
     "output_type": "execute_result"
    }
   ],
   "source": [
    "df_oai=df_oai.sort_values('search_score', ascending=False)\n",
    "df_oai[['text_splitted', 'search_score']].head()"
   ]
  },
  {
   "cell_type": "markdown",
   "id": "3ebc936e-6277-41b8-883b-de09d945c764",
   "metadata": {},
   "source": [
    "## Use some reranker"
   ]
  },
  {
   "cell_type": "code",
   "execution_count": 18,
   "id": "0ae7dda5-f97d-4883-aff7-5785b3a0d2cc",
   "metadata": {},
   "outputs": [
    {
     "data": {
      "application/vnd.jupyter.widget-view+json": {
       "model_id": "522bde25f029446f948b8ecbfc03baad",
       "version_major": 2,
       "version_minor": 0
      },
      "text/plain": [
       "Downloading:   0%|          | 0.00/62.0 [00:00<?, ?B/s]"
      ]
     },
     "metadata": {},
     "output_type": "display_data"
    },
    {
     "data": {
      "application/vnd.jupyter.widget-view+json": {
       "model_id": "0222b6c956ce4f1eb33b4ed7d3877844",
       "version_major": 2,
       "version_minor": 0
      },
      "text/plain": [
       "Downloading:   0%|          | 0.00/696 [00:00<?, ?B/s]"
      ]
     },
     "metadata": {},
     "output_type": "display_data"
    },
    {
     "data": {
      "application/vnd.jupyter.widget-view+json": {
       "model_id": "3ee1cffcda2744bf8a7eaefb6d0b14dd",
       "version_major": 2,
       "version_minor": 0
      },
      "text/plain": [
       "Downloading:   0%|          | 0.00/851k [00:00<?, ?B/s]"
      ]
     },
     "metadata": {},
     "output_type": "display_data"
    },
    {
     "data": {
      "application/vnd.jupyter.widget-view+json": {
       "model_id": "2da58baf8371444b95290561172b7a86",
       "version_major": 2,
       "version_minor": 0
      },
      "text/plain": [
       "Downloading:   0%|          | 0.00/112 [00:00<?, ?B/s]"
      ]
     },
     "metadata": {},
     "output_type": "display_data"
    },
    {
     "data": {
      "application/vnd.jupyter.widget-view+json": {
       "model_id": "11b691feb17d40bba958f9a439f5089b",
       "version_major": 2,
       "version_minor": 0
      },
      "text/plain": [
       "Downloading:   0%|          | 0.00/638M [00:00<?, ?B/s]"
      ]
     },
     "metadata": {},
     "output_type": "display_data"
    }
   ],
   "source": [
    "from transformers import AutoTokenizer, AutoModelForSequenceClassification\n",
    "\n",
    "tokenizer = AutoTokenizer.from_pretrained(\"amberoad/bert-multilingual-passage-reranking-msmarco\")\n",
    "model = AutoModelForSequenceClassification.from_pretrained(\"amberoad/bert-multilingual-passage-reranking-msmarco\")"
   ]
  },
  {
   "cell_type": "code",
   "execution_count": 19,
   "id": "2f95b5db-5203-408b-ad0e-5b7b81ffdd3a",
   "metadata": {},
   "outputs": [],
   "source": [
    "from transformers import pipeline\n",
    "\n",
    "pipe = pipeline(\"text-classification\", model=\"amberoad/bert-multilingual-passage-reranking-msmarco\")"
   ]
  },
  {
   "cell_type": "code",
   "execution_count": 23,
   "id": "9fb55189-2c9d-4400-8739-2d0afccb8f1c",
   "metadata": {},
   "outputs": [
    {
     "data": {
      "text/plain": [
       "[{'label': 'LABEL_0', 'score': 0.9768011569976807}]"
      ]
     },
     "execution_count": 23,
     "metadata": {},
     "output_type": "execute_result"
    }
   ],
   "source": [
    "pipe('tere')"
   ]
  },
  {
   "cell_type": "code",
   "execution_count": 31,
   "id": "0679e6c5-d960-4920-a809-e33fd42a3ef7",
   "metadata": {},
   "outputs": [
    {
     "name": "stdout",
     "output_type": "stream",
     "text": [
      "avan läbirääkimised eesti keskerakonna fraktsiooni nime andre hanimägi palun\n",
      "[{'label': 'LABEL_0', 'score': 0.983137845993042}]\n",
      "haigla kus neile maailmatasemel tervishoiuteenust osutatakse\n",
      "[{'label': 'LABEL_0', 'score': 0.988508403301239}]\n",
      "kolm minutit kolm minutit lisaaega\n",
      "[{'label': 'LABEL_0', 'score': 0.9908918738365173}]\n",
      "keskmaa-õhutõrjesüsteemi iris-t ostmiseks saksa kaitsetööstusettevõttelt diehl defence see maksab umbes 400 miljonit eurot tegu on suurima eesti ajaloo kaitsevaldkonna lepinguga ja see suurendab oluliselt strateegiliste maa-alade õhukaitset lisaks hangime mitmikraketiheitjad himars mis läheb maksma 200 miljonit eurot ja täiendavad liikursuurtükid k9 12 suurtükki koos täiendava varustuse laskemoonaga circa 100 miljonit uutest võimearendustest on käimas teise jalaväebrigaadi soomustamine ehk manööverpataljonid saavad veoautode asemel soomukid brigaadi tankitõrjekompaniid saavad täiendavad laskeseadmed ning soomusautod millega tagatakse nende parem kaitstus ja mobiilsus mereväes uuendatakse kõik\n",
      "[{'label': 'LABEL_0', 'score': 0.9786294102668762}]\n",
      "helistab kella. head kolleegid palun vaikust\n",
      "[{'label': 'LABEL_0', 'score': 0.9843175411224365}]\n"
     ]
    }
   ],
   "source": [
    "texts=[]\n",
    "scores=[]\n",
    "for t in df_orig['text_splitted'].head().tolist():\n",
    "    res=pipe(search_text+'. '+ t)\n",
    "    print(t)\n",
    "    print(res)"
   ]
  },
  {
   "cell_type": "code",
   "execution_count": null,
   "id": "be3361e2-b644-4a39-b82c-08ae62227479",
   "metadata": {},
   "outputs": [],
   "source": []
  }
 ],
 "metadata": {
  "kernelspec": {
   "display_name": "Python 3 (ipykernel)",
   "language": "python",
   "name": "python3"
  },
  "language_info": {
   "codemirror_mode": {
    "name": "ipython",
    "version": 3
   },
   "file_extension": ".py",
   "mimetype": "text/x-python",
   "name": "python",
   "nbconvert_exporter": "python",
   "pygments_lexer": "ipython3",
   "version": "3.9.13"
  }
 },
 "nbformat": 4,
 "nbformat_minor": 5
}
