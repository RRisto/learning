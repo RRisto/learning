{
 "cells": [
  {
   "cell_type": "code",
   "execution_count": 7,
   "id": "d8e18ecd-1585-4a7b-abe1-5ad16705e784",
   "metadata": {},
   "outputs": [
    {
     "name": "stderr",
     "output_type": "stream",
     "text": [
      "/tmp/ipykernel_88/513349570.py:13: FutureWarning: Passing a negative integer is deprecated in version 1.0 and will not be supported in future version. Instead, use None to not limit the column width.\n",
      "  pd.set_option('display.max_colwidth', -1)\n"
     ]
    }
   ],
   "source": [
    "import os\n",
    "import openai\n",
    "from llama_index import Document\n",
    "from llama_index import SimpleDirectoryReader\n",
    "from llama_index import VectorStoreIndex\n",
    "from llama_index import ServiceContext\n",
    "\n",
    "from llama_index.llms import OpenAI\n",
    "from configparser import ConfigParser\n",
    "import pandas as pd\n",
    "from trulens_eval import Tru\n",
    "from trulens_eval import TruLlama\n",
    "pd.set_option('display.max_colwidth', -1)"
   ]
  },
  {
   "cell_type": "code",
   "execution_count": 1,
   "id": "980f0932-fe8e-4b43-a582-d0911af23587",
   "metadata": {},
   "outputs": [
    {
     "name": "stdout",
     "output_type": "stream",
     "text": [
      "Requirement already satisfied: openai in /usr/local/lib/python3.9/dist-packages (1.3.7)\n",
      "Requirement already satisfied: pydantic<3,>=1.9.0 in /usr/local/lib/python3.9/dist-packages (from openai) (1.9.1)\n",
      "Requirement already satisfied: httpx<1,>=0.23.0 in /usr/local/lib/python3.9/dist-packages (from openai) (0.25.2)\n",
      "Requirement already satisfied: sniffio in /usr/local/lib/python3.9/dist-packages (from openai) (1.2.0)\n",
      "Requirement already satisfied: typing-extensions<5,>=4.5 in /usr/local/lib/python3.9/dist-packages (from openai) (4.8.0)\n",
      "Requirement already satisfied: distro<2,>=1.7.0 in /usr/local/lib/python3.9/dist-packages (from openai) (1.8.0)\n",
      "Requirement already satisfied: anyio<4,>=3.5.0 in /usr/local/lib/python3.9/dist-packages (from openai) (3.6.1)\n",
      "Requirement already satisfied: tqdm>4 in /usr/local/lib/python3.9/dist-packages (from openai) (4.64.0)\n",
      "Requirement already satisfied: idna>=2.8 in /usr/lib/python3/dist-packages (from anyio<4,>=3.5.0->openai) (2.8)\n",
      "Requirement already satisfied: certifi in /usr/lib/python3/dist-packages (from httpx<1,>=0.23.0->openai) (2019.11.28)\n",
      "Requirement already satisfied: httpcore==1.* in /usr/local/lib/python3.9/dist-packages (from httpx<1,>=0.23.0->openai) (1.0.2)\n",
      "Requirement already satisfied: h11<0.15,>=0.13 in /usr/local/lib/python3.9/dist-packages (from httpcore==1.*->httpx<1,>=0.23.0->openai) (0.14.0)\n",
      "\u001b[33mWARNING: Running pip as the 'root' user can result in broken permissions and conflicting behaviour with the system package manager. It is recommended to use a virtual environment instead: https://pip.pypa.io/warnings/venv\u001b[0m\u001b[33m\n",
      "\u001b[0m"
     ]
    }
   ],
   "source": [
    "! pip install openai"
   ]
  },
  {
   "cell_type": "code",
   "execution_count": 2,
   "id": "c28cc027-6737-4d81-ae19-880b6aaf9c0e",
   "metadata": {},
   "outputs": [
    {
     "name": "stdout",
     "output_type": "stream",
     "text": [
      "Collecting llama_index\n",
      "  Downloading llama_index-0.9.12-py3-none-any.whl (927 kB)\n",
      "\u001b[2K     \u001b[90m━━━━━━━━━━━━━━━━━━━━━━━━━━━━━━━━━━━━━━\u001b[0m \u001b[32m927.7/927.7 kB\u001b[0m \u001b[31m60.1 MB/s\u001b[0m eta \u001b[36m0:00:00\u001b[0m\n",
      "\u001b[?25hCollecting SQLAlchemy[asyncio]>=1.4.49\n",
      "  Downloading SQLAlchemy-2.0.23-cp39-cp39-manylinux_2_17_x86_64.manylinux2014_x86_64.whl (3.1 MB)\n",
      "\u001b[2K     \u001b[90m━━━━━━━━━━━━━━━━━━━━━━━━━━━━━━━━━━━━━━━━\u001b[0m \u001b[32m3.1/3.1 MB\u001b[0m \u001b[31m110.2 MB/s\u001b[0m eta \u001b[36m0:00:00\u001b[0m\n",
      "\u001b[?25hCollecting aiohttp<4.0.0,>=3.8.6\n",
      "  Downloading aiohttp-3.9.1-cp39-cp39-manylinux_2_17_x86_64.manylinux2014_x86_64.whl (1.2 MB)\n",
      "\u001b[2K     \u001b[90m━━━━━━━━━━━━━━━━━━━━━━━━━━━━━━━━━━━━━━━━\u001b[0m \u001b[32m1.2/1.2 MB\u001b[0m \u001b[31m105.1 MB/s\u001b[0m eta \u001b[36m0:00:00\u001b[0m\n",
      "\u001b[?25hRequirement already satisfied: openai>=1.1.0 in /usr/local/lib/python3.9/dist-packages (from llama_index) (1.3.7)\n",
      "Collecting nest-asyncio<2.0.0,>=1.5.8\n",
      "  Downloading nest_asyncio-1.5.8-py3-none-any.whl (5.3 kB)\n",
      "Requirement already satisfied: pandas in /usr/local/lib/python3.9/dist-packages (from llama_index) (1.4.3)\n",
      "Collecting requests>=2.31.0\n",
      "  Downloading requests-2.31.0-py3-none-any.whl (62 kB)\n",
      "\u001b[2K     \u001b[90m━━━━━━━━━━━━━━━━━━━━━━━━━━━━━━━━━━━━━━━━\u001b[0m \u001b[32m62.6/62.6 kB\u001b[0m \u001b[31m25.5 MB/s\u001b[0m eta \u001b[36m0:00:00\u001b[0m\n",
      "\u001b[?25hCollecting tiktoken>=0.3.3\n",
      "  Downloading tiktoken-0.5.2-cp39-cp39-manylinux_2_17_x86_64.manylinux2014_x86_64.whl (2.0 MB)\n",
      "\u001b[2K     \u001b[90m━━━━━━━━━━━━━━━━━━━━━━━━━━━━━━━━━━━━━━━━\u001b[0m \u001b[32m2.0/2.0 MB\u001b[0m \u001b[31m122.7 MB/s\u001b[0m eta \u001b[36m0:00:00\u001b[0m\n",
      "\u001b[?25hRequirement already satisfied: httpx in /usr/local/lib/python3.9/dist-packages (from llama_index) (0.25.2)\n",
      "Requirement already satisfied: typing-extensions>=4.5.0 in /usr/local/lib/python3.9/dist-packages (from llama_index) (4.8.0)\n",
      "Collecting aiostream<0.6.0,>=0.5.2\n",
      "  Downloading aiostream-0.5.2-py3-none-any.whl (39 kB)\n",
      "Collecting beautifulsoup4<5.0.0,>=4.12.2\n",
      "  Downloading beautifulsoup4-4.12.2-py3-none-any.whl (142 kB)\n",
      "\u001b[2K     \u001b[90m━━━━━━━━━━━━━━━━━━━━━━━━━━━━━━━━━━━━━━\u001b[0m \u001b[32m143.0/143.0 kB\u001b[0m \u001b[31m44.1 MB/s\u001b[0m eta \u001b[36m0:00:00\u001b[0m\n",
      "\u001b[?25hCollecting deprecated>=1.2.9.3\n",
      "  Downloading Deprecated-1.2.14-py2.py3-none-any.whl (9.6 kB)\n",
      "Collecting tenacity<9.0.0,>=8.2.0\n",
      "  Downloading tenacity-8.2.3-py3-none-any.whl (24 kB)\n",
      "Collecting nltk<4.0.0,>=3.8.1\n",
      "  Downloading nltk-3.8.1-py3-none-any.whl (1.5 MB)\n",
      "\u001b[2K     \u001b[90m━━━━━━━━━━━━━━━━━━━━━━━━━━━━━━━━━━━━━━━━\u001b[0m \u001b[32m1.5/1.5 MB\u001b[0m \u001b[31m121.0 MB/s\u001b[0m eta \u001b[36m0:00:00\u001b[0m\n",
      "\u001b[?25hRequirement already satisfied: numpy in /usr/local/lib/python3.9/dist-packages (from llama_index) (1.23.1)\n",
      "Collecting fsspec>=2023.5.0\n",
      "  Downloading fsspec-2023.12.1-py3-none-any.whl (168 kB)\n",
      "\u001b[2K     \u001b[90m━━━━━━━━━━━━━━━━━━━━━━━━━━━━━━━━━━━━━━\u001b[0m \u001b[32m168.9/168.9 kB\u001b[0m \u001b[31m51.6 MB/s\u001b[0m eta \u001b[36m0:00:00\u001b[0m\n",
      "\u001b[?25hCollecting typing-inspect>=0.8.0\n",
      "  Downloading typing_inspect-0.9.0-py3-none-any.whl (8.8 kB)\n",
      "Collecting dataclasses-json\n",
      "  Downloading dataclasses_json-0.6.3-py3-none-any.whl (28 kB)\n",
      "Requirement already satisfied: multidict<7.0,>=4.5 in /usr/local/lib/python3.9/dist-packages (from aiohttp<4.0.0,>=3.8.6->llama_index) (6.0.2)\n",
      "Requirement already satisfied: attrs>=17.3.0 in /usr/local/lib/python3.9/dist-packages (from aiohttp<4.0.0,>=3.8.6->llama_index) (18.2.0)\n",
      "Requirement already satisfied: async-timeout<5.0,>=4.0 in /usr/local/lib/python3.9/dist-packages (from aiohttp<4.0.0,>=3.8.6->llama_index) (4.0.2)\n",
      "Requirement already satisfied: yarl<2.0,>=1.0 in /usr/local/lib/python3.9/dist-packages (from aiohttp<4.0.0,>=3.8.6->llama_index) (1.7.2)\n",
      "Requirement already satisfied: frozenlist>=1.1.1 in /usr/local/lib/python3.9/dist-packages (from aiohttp<4.0.0,>=3.8.6->llama_index) (1.3.0)\n",
      "Requirement already satisfied: aiosignal>=1.1.2 in /usr/local/lib/python3.9/dist-packages (from aiohttp<4.0.0,>=3.8.6->llama_index) (1.2.0)\n",
      "Requirement already satisfied: soupsieve>1.2 in /usr/local/lib/python3.9/dist-packages (from beautifulsoup4<5.0.0,>=4.12.2->llama_index) (2.3.2.post1)\n",
      "Requirement already satisfied: wrapt<2,>=1.10 in /usr/local/lib/python3.9/dist-packages (from deprecated>=1.2.9.3->llama_index) (1.14.1)\n",
      "Requirement already satisfied: regex>=2021.8.3 in /usr/local/lib/python3.9/dist-packages (from nltk<4.0.0,>=3.8.1->llama_index) (2022.7.9)\n",
      "Requirement already satisfied: click in /usr/local/lib/python3.9/dist-packages (from nltk<4.0.0,>=3.8.1->llama_index) (8.1.3)\n",
      "Requirement already satisfied: joblib in /usr/local/lib/python3.9/dist-packages (from nltk<4.0.0,>=3.8.1->llama_index) (1.1.0)\n",
      "Requirement already satisfied: tqdm in /usr/local/lib/python3.9/dist-packages (from nltk<4.0.0,>=3.8.1->llama_index) (4.64.0)\n",
      "Requirement already satisfied: pydantic<3,>=1.9.0 in /usr/local/lib/python3.9/dist-packages (from openai>=1.1.0->llama_index) (1.9.1)\n",
      "Requirement already satisfied: distro<2,>=1.7.0 in /usr/local/lib/python3.9/dist-packages (from openai>=1.1.0->llama_index) (1.8.0)\n",
      "Requirement already satisfied: anyio<4,>=3.5.0 in /usr/local/lib/python3.9/dist-packages (from openai>=1.1.0->llama_index) (3.6.1)\n",
      "Requirement already satisfied: sniffio in /usr/local/lib/python3.9/dist-packages (from openai>=1.1.0->llama_index) (1.2.0)\n",
      "Requirement already satisfied: idna in /usr/lib/python3/dist-packages (from httpx->llama_index) (2.8)\n",
      "Requirement already satisfied: certifi in /usr/lib/python3/dist-packages (from httpx->llama_index) (2019.11.28)\n",
      "Requirement already satisfied: httpcore==1.* in /usr/local/lib/python3.9/dist-packages (from httpx->llama_index) (1.0.2)\n",
      "Requirement already satisfied: h11<0.15,>=0.13 in /usr/local/lib/python3.9/dist-packages (from httpcore==1.*->httpx->llama_index) (0.14.0)\n",
      "Requirement already satisfied: charset-normalizer<4,>=2 in /usr/local/lib/python3.9/dist-packages (from requests>=2.31.0->llama_index) (2.1.0)\n",
      "Requirement already satisfied: urllib3<3,>=1.21.1 in /usr/local/lib/python3.9/dist-packages (from requests>=2.31.0->llama_index) (1.26.10)\n",
      "Requirement already satisfied: greenlet!=0.4.17 in /usr/local/lib/python3.9/dist-packages (from SQLAlchemy[asyncio]>=1.4.49->llama_index) (1.1.2)\n",
      "Collecting mypy-extensions>=0.3.0\n",
      "  Downloading mypy_extensions-1.0.0-py3-none-any.whl (4.7 kB)\n",
      "Collecting marshmallow<4.0.0,>=3.18.0\n",
      "  Downloading marshmallow-3.20.1-py3-none-any.whl (49 kB)\n",
      "\u001b[2K     \u001b[90m━━━━━━━━━━━━━━━━━━━━━━━━━━━━━━━━━━━━━━━━\u001b[0m \u001b[32m49.4/49.4 kB\u001b[0m \u001b[31m18.0 MB/s\u001b[0m eta \u001b[36m0:00:00\u001b[0m\n",
      "\u001b[?25hRequirement already satisfied: pytz>=2020.1 in /usr/local/lib/python3.9/dist-packages (from pandas->llama_index) (2022.1)\n",
      "Requirement already satisfied: python-dateutil>=2.8.1 in /usr/local/lib/python3.9/dist-packages (from pandas->llama_index) (2.8.2)\n",
      "Requirement already satisfied: packaging>=17.0 in /usr/local/lib/python3.9/dist-packages (from marshmallow<4.0.0,>=3.18.0->dataclasses-json->llama_index) (21.3)\n",
      "Requirement already satisfied: six>=1.5 in /usr/lib/python3/dist-packages (from python-dateutil>=2.8.1->pandas->llama_index) (1.14.0)\n",
      "Requirement already satisfied: pyparsing!=3.0.5,>=2.0.2 in /usr/local/lib/python3.9/dist-packages (from packaging>=17.0->marshmallow<4.0.0,>=3.18.0->dataclasses-json->llama_index) (3.0.9)\n",
      "Installing collected packages: tenacity, SQLAlchemy, requests, nltk, nest-asyncio, mypy-extensions, fsspec, deprecated, beautifulsoup4, aiostream, typing-inspect, tiktoken, marshmallow, aiohttp, dataclasses-json, llama_index\n",
      "  Attempting uninstall: SQLAlchemy\n",
      "    Found existing installation: SQLAlchemy 1.4.39\n",
      "    Uninstalling SQLAlchemy-1.4.39:\n",
      "      Successfully uninstalled SQLAlchemy-1.4.39\n",
      "  Attempting uninstall: requests\n",
      "    Found existing installation: requests 2.28.1\n",
      "    Uninstalling requests-2.28.1:\n",
      "      Successfully uninstalled requests-2.28.1\n",
      "  Attempting uninstall: nltk\n",
      "    Found existing installation: nltk 3.7\n",
      "    Uninstalling nltk-3.7:\n",
      "      Successfully uninstalled nltk-3.7\n",
      "  Attempting uninstall: nest-asyncio\n",
      "    Found existing installation: nest-asyncio 1.5.5\n",
      "    Uninstalling nest-asyncio-1.5.5:\n",
      "      Successfully uninstalled nest-asyncio-1.5.5\n",
      "  Attempting uninstall: fsspec\n",
      "    Found existing installation: fsspec 2022.5.0\n",
      "    Uninstalling fsspec-2022.5.0:\n",
      "      Successfully uninstalled fsspec-2022.5.0\n",
      "  Attempting uninstall: beautifulsoup4\n",
      "    Found existing installation: beautifulsoup4 4.11.1\n",
      "    Uninstalling beautifulsoup4-4.11.1:\n",
      "      Successfully uninstalled beautifulsoup4-4.11.1\n",
      "  Attempting uninstall: marshmallow\n",
      "    Found existing installation: marshmallow 2.21.0\n",
      "    Uninstalling marshmallow-2.21.0:\n",
      "      Successfully uninstalled marshmallow-2.21.0\n",
      "  Attempting uninstall: aiohttp\n",
      "    Found existing installation: aiohttp 3.8.1\n",
      "    Uninstalling aiohttp-3.8.1:\n",
      "      Successfully uninstalled aiohttp-3.8.1\n",
      "\u001b[31mERROR: pip's dependency resolver does not currently take into account all the packages that are installed. This behaviour is the source of the following dependency conflicts.\n",
      "gradient 2.0.5 requires marshmallow<3.0, but you have marshmallow 3.20.1 which is incompatible.\u001b[0m\u001b[31m\n",
      "\u001b[0mSuccessfully installed SQLAlchemy-2.0.23 aiohttp-3.9.1 aiostream-0.5.2 beautifulsoup4-4.12.2 dataclasses-json-0.6.3 deprecated-1.2.14 fsspec-2023.12.1 llama_index-0.9.12 marshmallow-3.20.1 mypy-extensions-1.0.0 nest-asyncio-1.5.8 nltk-3.8.1 requests-2.31.0 tenacity-8.2.3 tiktoken-0.5.2 typing-inspect-0.9.0\n",
      "\u001b[33mWARNING: Running pip as the 'root' user can result in broken permissions and conflicting behaviour with the system package manager. It is recommended to use a virtual environment instead: https://pip.pypa.io/warnings/venv\u001b[0m\u001b[33m\n",
      "\u001b[0m"
     ]
    }
   ],
   "source": [
    "!pip install llama_index"
   ]
  },
  {
   "cell_type": "code",
   "execution_count": 3,
   "id": "d76274ad-d3a8-412e-92c3-a4b2c3381d29",
   "metadata": {},
   "outputs": [
    {
     "name": "stdout",
     "output_type": "stream",
     "text": [
      "Collecting pydantic==1.10.0\n",
      "  Downloading pydantic-1.10.0-cp39-cp39-manylinux_2_17_x86_64.manylinux2014_x86_64.whl (13.2 MB)\n",
      "\u001b[2K     \u001b[90m━━━━━━━━━━━━━━━━━━━━━━━━━━━━━━━━━━━━━━━━\u001b[0m \u001b[32m13.2/13.2 MB\u001b[0m \u001b[31m92.0 MB/s\u001b[0m eta \u001b[36m0:00:00\u001b[0m00:01\u001b[0m00:01\u001b[0m\n",
      "\u001b[?25hCollecting typing-extensions==4.5.0\n",
      "  Downloading typing_extensions-4.5.0-py3-none-any.whl (27 kB)\n",
      "Installing collected packages: typing-extensions, pydantic\n",
      "  Attempting uninstall: typing-extensions\n",
      "    Found existing installation: typing_extensions 4.8.0\n",
      "    Uninstalling typing_extensions-4.8.0:\n",
      "      Successfully uninstalled typing_extensions-4.8.0\n",
      "  Attempting uninstall: pydantic\n",
      "    Found existing installation: pydantic 1.9.1\n",
      "    Uninstalling pydantic-1.9.1:\n",
      "      Successfully uninstalled pydantic-1.9.1\n",
      "\u001b[31mERROR: pip's dependency resolver does not currently take into account all the packages that are installed. This behaviour is the source of the following dependency conflicts.\n",
      "thinc 8.1.0 requires pydantic!=1.8,!=1.8.1,<1.10.0,>=1.7.4, but you have pydantic 1.10.0 which is incompatible.\n",
      "spacy 3.4.0 requires pydantic!=1.8,!=1.8.1,<1.10.0,>=1.7.4, but you have pydantic 1.10.0 which is incompatible.\u001b[0m\u001b[31m\n",
      "\u001b[0mSuccessfully installed pydantic-1.10.0 typing-extensions-4.5.0\n",
      "\u001b[33mWARNING: Running pip as the 'root' user can result in broken permissions and conflicting behaviour with the system package manager. It is recommended to use a virtual environment instead: https://pip.pypa.io/warnings/venv\u001b[0m\u001b[33m\n",
      "\u001b[0m"
     ]
    }
   ],
   "source": [
    "!pip install --upgrade pydantic==1.10.0 typing-extensions==4.5.0"
   ]
  },
  {
   "cell_type": "code",
   "execution_count": 4,
   "id": "8eff8f8b-a89a-49ec-8e4e-c2d1cf743768",
   "metadata": {},
   "outputs": [
    {
     "name": "stdout",
     "output_type": "stream",
     "text": [
      "Collecting pypdf\n",
      "  Downloading pypdf-3.17.1-py3-none-any.whl (277 kB)\n",
      "\u001b[2K     \u001b[90m━━━━━━━━━━━━━━━━━━━━━━━━━━━━━━━━━━━━━━\u001b[0m \u001b[32m277.6/277.6 kB\u001b[0m \u001b[31m34.9 MB/s\u001b[0m eta \u001b[36m0:00:00\u001b[0m\n",
      "\u001b[?25hRequirement already satisfied: typing_extensions>=3.7.4.3 in /usr/local/lib/python3.9/dist-packages (from pypdf) (4.5.0)\n",
      "Installing collected packages: pypdf\n",
      "Successfully installed pypdf-3.17.1\n",
      "\u001b[33mWARNING: Running pip as the 'root' user can result in broken permissions and conflicting behaviour with the system package manager. It is recommended to use a virtual environment instead: https://pip.pypa.io/warnings/venv\u001b[0m\u001b[33m\n",
      "\u001b[0m"
     ]
    }
   ],
   "source": [
    "!pip install pypdf"
   ]
  },
  {
   "cell_type": "code",
   "execution_count": 5,
   "id": "20fef4d9-2e7c-4054-a658-3ea4b9aba24d",
   "metadata": {},
   "outputs": [
    {
     "name": "stdout",
     "output_type": "stream",
     "text": [
      "Collecting trulens_eval\n",
      "  Downloading trulens_eval-0.18.2-py3-none-any.whl (623 kB)\n",
      "\u001b[2K     \u001b[90m━━━━━━━━━━━━━━━━━━━━━━━━━━━━━━━━━━━━━━\u001b[0m \u001b[32m623.5/623.5 kB\u001b[0m \u001b[31m59.3 MB/s\u001b[0m eta \u001b[36m0:00:00\u001b[0m\n",
      "\u001b[?25hCollecting langchain>=0.0.335\n",
      "  Downloading langchain-0.0.346-py3-none-any.whl (2.0 MB)\n",
      "\u001b[2K     \u001b[90m━━━━━━━━━━━━━━━━━━━━━━━━━━━━━━━━━━━━━━━━\u001b[0m \u001b[32m2.0/2.0 MB\u001b[0m \u001b[31m106.2 MB/s\u001b[0m eta \u001b[36m0:00:00\u001b[0m\n",
      "\u001b[?25hCollecting humanize>=4.6.0\n",
      "  Downloading humanize-4.9.0-py3-none-any.whl (126 kB)\n",
      "\u001b[2K     \u001b[90m━━━━━━━━━━━━━━━━━━━━━━━━━━━━━━━━━━━━━━\u001b[0m \u001b[32m126.8/126.8 kB\u001b[0m \u001b[31m39.1 MB/s\u001b[0m eta \u001b[36m0:00:00\u001b[0m\n",
      "\u001b[?25hCollecting merkle-json>=1.0.0\n",
      "  Downloading merkle_json-1.0.0-py3-none-any.whl (5.2 kB)\n",
      "Collecting streamlit-aggrid>=0.3.4.post3\n",
      "  Downloading streamlit_aggrid-0.3.4.post3-py3-none-any.whl (3.4 MB)\n",
      "\u001b[2K     \u001b[90m━━━━━━━━━━━━━━━━━━━━━━━━━━━━━━━━━━━━━━━━\u001b[0m \u001b[32m3.4/3.4 MB\u001b[0m \u001b[31m102.0 MB/s\u001b[0m eta \u001b[36m0:00:00\u001b[0m\n",
      "\u001b[?25hCollecting numpy>=1.23.5\n",
      "  Downloading numpy-1.26.2-cp39-cp39-manylinux_2_17_x86_64.manylinux2014_x86_64.whl (18.2 MB)\n",
      "\u001b[2K     \u001b[90m━━━━━━━━━━━━━━━━━━━━━━━━━━━━━━━━━━━━━━━━\u001b[0m \u001b[32m18.2/18.2 MB\u001b[0m \u001b[31m81.5 MB/s\u001b[0m eta \u001b[36m0:00:00\u001b[0m00:01\u001b[0m00:01\u001b[0m\n",
      "\u001b[?25hCollecting slack-sdk>=3.21.3\n",
      "  Downloading slack_sdk-3.26.1-py2.py3-none-any.whl (284 kB)\n",
      "\u001b[2K     \u001b[90m━━━━━━━━━━━━━━━━━━━━━━━━━━━━━━━━━━━━━━\u001b[0m \u001b[32m284.1/284.1 kB\u001b[0m \u001b[31m71.4 MB/s\u001b[0m eta \u001b[36m0:00:00\u001b[0m\n",
      "\u001b[?25hCollecting pinecone-client>=2.2.1\n",
      "  Downloading pinecone_client-2.2.4-py3-none-any.whl (179 kB)\n",
      "\u001b[2K     \u001b[90m━━━━━━━━━━━━━━━━━━━━━━━━━━━━━━━━━━━━━━\u001b[0m \u001b[32m179.4/179.4 kB\u001b[0m \u001b[31m54.2 MB/s\u001b[0m eta \u001b[36m0:00:00\u001b[0m\n",
      "\u001b[?25hCollecting ipywidgets>=8.0.6\n",
      "  Downloading ipywidgets-8.1.1-py3-none-any.whl (139 kB)\n",
      "\u001b[2K     \u001b[90m━━━━━━━━━━━━━━━━━━━━━━━━━━━━━━━━━━━━━━\u001b[0m \u001b[32m139.4/139.4 kB\u001b[0m \u001b[31m46.5 MB/s\u001b[0m eta \u001b[36m0:00:00\u001b[0m\n",
      "\u001b[?25hRequirement already satisfied: llama-index>=0.8.69 in /usr/local/lib/python3.9/dist-packages (from trulens_eval) (0.9.12)\n",
      "Requirement already satisfied: typing-extensions>=4.5.0 in /usr/local/lib/python3.9/dist-packages (from trulens_eval) (4.5.0)\n",
      "Collecting alembic>=1.11.2\n",
      "  Downloading alembic-1.13.0-py3-none-any.whl (230 kB)\n",
      "\u001b[2K     \u001b[90m━━━━━━━━━━━━━━━━━━━━━━━━━━━━━━━━━━━━━━\u001b[0m \u001b[32m230.6/230.6 kB\u001b[0m \u001b[31m63.4 MB/s\u001b[0m eta \u001b[36m0:00:00\u001b[0m\n",
      "\u001b[?25hCollecting slack-bolt>=1.18.0\n",
      "  Downloading slack_bolt-1.18.1-py2.py3-none-any.whl (194 kB)\n",
      "\u001b[2K     \u001b[90m━━━━━━━━━━━━━━━━━━━━━━━━━━━━━━━━━━━━━━\u001b[0m \u001b[32m194.7/194.7 kB\u001b[0m \u001b[31m60.5 MB/s\u001b[0m eta \u001b[36m0:00:00\u001b[0m\n",
      "\u001b[?25hCollecting python-dotenv>=1.0.0\n",
      "  Downloading python_dotenv-1.0.0-py3-none-any.whl (19 kB)\n",
      "Requirement already satisfied: typing-inspect>=0.8.0 in /usr/local/lib/python3.9/dist-packages (from trulens_eval) (0.9.0)\n",
      "Requirement already satisfied: httpx>=0.23.3 in /usr/local/lib/python3.9/dist-packages (from trulens_eval) (0.25.2)\n",
      "Collecting streamlit>=1.27.0\n",
      "  Downloading streamlit-1.29.0-py2.py3-none-any.whl (8.4 MB)\n",
      "\u001b[2K     \u001b[90m━━━━━━━━━━━━━━━━━━━━━━━━━━━━━━━━━━━━━━━━\u001b[0m \u001b[32m8.4/8.4 MB\u001b[0m \u001b[31m113.6 MB/s\u001b[0m eta \u001b[36m0:00:00\u001b[0m00:01\u001b[0m00:01\u001b[0m\n",
      "\u001b[?25hCollecting cohere>=4.4.1\n",
      "  Downloading cohere-4.37-py3-none-any.whl (48 kB)\n",
      "\u001b[2K     \u001b[90m━━━━━━━━━━━━━━━━━━━━━━━━━━━━━━━━━━━━━━━━\u001b[0m \u001b[32m48.9/48.9 kB\u001b[0m \u001b[31m18.1 MB/s\u001b[0m eta \u001b[36m0:00:00\u001b[0m\n",
      "\u001b[?25hRequirement already satisfied: openai<2,>=1.1.1 in /usr/local/lib/python3.9/dist-packages (from trulens_eval) (1.3.7)\n",
      "Collecting datasets>=2.12.0\n",
      "  Downloading datasets-2.15.0-py3-none-any.whl (521 kB)\n",
      "\u001b[2K     \u001b[90m━━━━━━━━━━━━━━━━━━━━━━━━━━━━━━━━━━━━━━\u001b[0m \u001b[32m521.2/521.2 kB\u001b[0m \u001b[31m93.5 MB/s\u001b[0m eta \u001b[36m0:00:00\u001b[0m\n",
      "\u001b[?25hCollecting kaggle>=1.5.13\n",
      "  Downloading kaggle-1.5.16.tar.gz (83 kB)\n",
      "\u001b[2K     \u001b[90m━━━━━━━━━━━━━━━━━━━━━━━━━━━━━━━━━━━━━━━━\u001b[0m \u001b[32m83.6/83.6 kB\u001b[0m \u001b[31m29.9 MB/s\u001b[0m eta \u001b[36m0:00:00\u001b[0m\n",
      "\u001b[?25h  Preparing metadata (setup.py) ... \u001b[?25ldone\n",
      "\u001b[?25hCollecting munch>=3.0.0\n",
      "  Downloading munch-4.0.0-py2.py3-none-any.whl (9.9 kB)\n",
      "Collecting millify>=0.1.1\n",
      "  Downloading millify-0.1.1.tar.gz (1.2 kB)\n",
      "  Preparing metadata (setup.py) ... \u001b[?25ldone\n",
      "\u001b[?25hCollecting frozendict>=2.3.8\n",
      "  Downloading frozendict-2.3.10-cp39-cp39-manylinux_2_17_x86_64.manylinux2014_x86_64.whl (115 kB)\n",
      "\u001b[2K     \u001b[90m━━━━━━━━━━━━━━━━━━━━━━━━━━━━━━━━━━━━━━\u001b[0m \u001b[32m115.3/115.3 kB\u001b[0m \u001b[31m40.4 MB/s\u001b[0m eta \u001b[36m0:00:00\u001b[0m\n",
      "\u001b[?25hCollecting html2text>=2020.1.16\n",
      "  Downloading html2text-2020.1.16-py3-none-any.whl (32 kB)\n",
      "Collecting streamlit-javascript>=0.1.5\n",
      "  Downloading streamlit_javascript-0.1.5-py3-none-any.whl (518 kB)\n",
      "\u001b[2K     \u001b[90m━━━━━━━━━━━━━━━━━━━━━━━━━━━━━━━━━━━━━━\u001b[0m \u001b[32m518.4/518.4 kB\u001b[0m \u001b[31m90.3 MB/s\u001b[0m eta \u001b[36m0:00:00\u001b[0m\n",
      "\u001b[?25hRequirement already satisfied: sqlalchemy>=2.0.19 in /usr/local/lib/python3.9/dist-packages (from trulens_eval) (2.0.23)\n",
      "Requirement already satisfied: transformers>=4.10.0 in /usr/local/lib/python3.9/dist-packages (from trulens_eval) (4.20.1)\n",
      "Collecting pydantic<2,>=1.10.7\n",
      "  Downloading pydantic-1.10.13-cp39-cp39-manylinux_2_17_x86_64.manylinux2014_x86_64.whl (3.2 MB)\n",
      "\u001b[2K     \u001b[90m━━━━━━━━━━━━━━━━━━━━━━━━━━━━━━━━━━━━━━━━\u001b[0m \u001b[32m3.2/3.2 MB\u001b[0m \u001b[31m114.4 MB/s\u001b[0m eta \u001b[36m0:00:00\u001b[0m\n",
      "\u001b[?25hCollecting streamlit-extras>=0.2.7\n",
      "  Downloading streamlit_extras-0.3.5-py3-none-any.whl (66 kB)\n",
      "\u001b[2K     \u001b[90m━━━━━━━━━━━━━━━━━━━━━━━━━━━━━━━━━━━━━━━━\u001b[0m \u001b[32m66.0/66.0 kB\u001b[0m \u001b[31m24.4 MB/s\u001b[0m eta \u001b[36m0:00:00\u001b[0m\n",
      "\u001b[?25hCollecting Mako\n",
      "  Downloading Mako-1.3.0-py3-none-any.whl (78 kB)\n",
      "\u001b[2K     \u001b[90m━━━━━━━━━━━━━━━━━━━━━━━━━━━━━━━━━━━━━━━━\u001b[0m \u001b[32m78.6/78.6 kB\u001b[0m \u001b[31m28.8 MB/s\u001b[0m eta \u001b[36m0:00:00\u001b[0m\n",
      "\u001b[?25hCollecting importlib_metadata<7.0,>=6.0\n",
      "  Downloading importlib_metadata-6.11.0-py3-none-any.whl (23 kB)\n",
      "Requirement already satisfied: aiohttp<4.0,>=3.0 in /usr/local/lib/python3.9/dist-packages (from cohere>=4.4.1->trulens_eval) (3.9.1)\n",
      "Collecting backoff<3.0,>=2.0\n",
      "  Downloading backoff-2.2.1-py3-none-any.whl (15 kB)\n",
      "Collecting fastavro<2.0,>=1.8\n",
      "  Downloading fastavro-1.9.0-cp39-cp39-manylinux_2_17_x86_64.manylinux2014_x86_64.whl (3.1 MB)\n",
      "\u001b[2K     \u001b[90m━━━━━━━━━━━━━━━━━━━━━━━━━━━━━━━━━━━━━━━━\u001b[0m \u001b[32m3.1/3.1 MB\u001b[0m \u001b[31m68.5 MB/s\u001b[0m eta \u001b[36m0:00:00\u001b[0m00:01\u001b[0m\n",
      "\u001b[?25hRequirement already satisfied: urllib3<3,>=1.26 in /usr/local/lib/python3.9/dist-packages (from cohere>=4.4.1->trulens_eval) (1.26.10)\n",
      "Requirement already satisfied: requests<3.0.0,>=2.25.0 in /usr/local/lib/python3.9/dist-packages (from cohere>=4.4.1->trulens_eval) (2.31.0)\n",
      "Collecting fsspec[http]<=2023.10.0,>=2023.1.0\n",
      "  Downloading fsspec-2023.10.0-py3-none-any.whl (166 kB)\n",
      "\u001b[2K     \u001b[90m━━━━━━━━━━━━━━━━━━━━━━━━━━━━━━━━━━━━━━\u001b[0m \u001b[32m166.4/166.4 kB\u001b[0m \u001b[31m50.2 MB/s\u001b[0m eta \u001b[36m0:00:00\u001b[0m\n",
      "\u001b[?25hRequirement already satisfied: tqdm>=4.62.1 in /usr/local/lib/python3.9/dist-packages (from datasets>=2.12.0->trulens_eval) (4.64.0)\n",
      "Collecting pyarrow-hotfix\n",
      "  Downloading pyarrow_hotfix-0.6-py3-none-any.whl (7.9 kB)\n",
      "Requirement already satisfied: dill<0.3.8,>=0.3.0 in /usr/local/lib/python3.9/dist-packages (from datasets>=2.12.0->trulens_eval) (0.3.5.1)\n",
      "Requirement already satisfied: packaging in /usr/local/lib/python3.9/dist-packages (from datasets>=2.12.0->trulens_eval) (21.3)\n",
      "Collecting huggingface-hub>=0.18.0\n",
      "  Downloading huggingface_hub-0.19.4-py3-none-any.whl (311 kB)\n",
      "\u001b[2K     \u001b[90m━━━━━━━━━━━━━━━━━━━━━━━━━━━━━━━━━━━━━━\u001b[0m \u001b[32m311.7/311.7 kB\u001b[0m \u001b[31m75.8 MB/s\u001b[0m eta \u001b[36m0:00:00\u001b[0m\n",
      "\u001b[?25hRequirement already satisfied: pyyaml>=5.1 in /usr/local/lib/python3.9/dist-packages (from datasets>=2.12.0->trulens_eval) (5.4.1)\n",
      "Requirement already satisfied: pyarrow>=8.0.0 in /usr/local/lib/python3.9/dist-packages (from datasets>=2.12.0->trulens_eval) (8.0.0)\n",
      "Requirement already satisfied: pandas in /usr/local/lib/python3.9/dist-packages (from datasets>=2.12.0->trulens_eval) (1.4.3)\n",
      "Requirement already satisfied: multiprocess in /usr/local/lib/python3.9/dist-packages (from datasets>=2.12.0->trulens_eval) (0.70.13)\n",
      "Requirement already satisfied: xxhash in /usr/local/lib/python3.9/dist-packages (from datasets>=2.12.0->trulens_eval) (3.0.0)\n",
      "Requirement already satisfied: anyio in /usr/local/lib/python3.9/dist-packages (from httpx>=0.23.3->trulens_eval) (3.6.1)\n",
      "Requirement already satisfied: sniffio in /usr/local/lib/python3.9/dist-packages (from httpx>=0.23.3->trulens_eval) (1.2.0)\n",
      "Requirement already satisfied: httpcore==1.* in /usr/local/lib/python3.9/dist-packages (from httpx>=0.23.3->trulens_eval) (1.0.2)\n",
      "Requirement already satisfied: idna in /usr/lib/python3/dist-packages (from httpx>=0.23.3->trulens_eval) (2.8)\n",
      "Requirement already satisfied: certifi in /usr/lib/python3/dist-packages (from httpx>=0.23.3->trulens_eval) (2019.11.28)\n",
      "Requirement already satisfied: h11<0.15,>=0.13 in /usr/local/lib/python3.9/dist-packages (from httpcore==1.*->httpx>=0.23.3->trulens_eval) (0.14.0)\n",
      "Collecting jupyterlab-widgets~=3.0.9\n",
      "  Downloading jupyterlab_widgets-3.0.9-py3-none-any.whl (214 kB)\n",
      "\u001b[2K     \u001b[90m━━━━━━━━━━━━━━━━━━━━━━━━━━━━━━━━━━━━━━\u001b[0m \u001b[32m214.9/214.9 kB\u001b[0m \u001b[31m62.9 MB/s\u001b[0m eta \u001b[36m0:00:00\u001b[0m\n",
      "\u001b[?25hRequirement already satisfied: ipython>=6.1.0 in /usr/local/lib/python3.9/dist-packages (from ipywidgets>=8.0.6->trulens_eval) (8.4.0)\n",
      "Requirement already satisfied: traitlets>=4.3.1 in /usr/local/lib/python3.9/dist-packages (from ipywidgets>=8.0.6->trulens_eval) (5.3.0)\n",
      "Collecting widgetsnbextension~=4.0.9\n",
      "  Downloading widgetsnbextension-4.0.9-py3-none-any.whl (2.3 MB)\n",
      "\u001b[2K     \u001b[90m━━━━━━━━━━━━━━━━━━━━━━━━━━━━━━━━━━━━━━━━\u001b[0m \u001b[32m2.3/2.3 MB\u001b[0m \u001b[31m63.5 MB/s\u001b[0m eta \u001b[36m0:00:00\u001b[0m00:01\u001b[0m\n",
      "\u001b[?25hCollecting comm>=0.1.3\n",
      "  Downloading comm-0.2.0-py3-none-any.whl (7.0 kB)\n",
      "Requirement already satisfied: six>=1.10 in /usr/lib/python3/dist-packages (from kaggle>=1.5.13->trulens_eval) (1.14.0)\n",
      "Requirement already satisfied: python-dateutil in /usr/local/lib/python3.9/dist-packages (from kaggle>=1.5.13->trulens_eval) (2.8.2)\n",
      "Requirement already satisfied: python-slugify in /usr/lib/python3/dist-packages (from kaggle>=1.5.13->trulens_eval) (4.0.0)\n",
      "Requirement already satisfied: bleach in /usr/local/lib/python3.9/dist-packages (from kaggle>=1.5.13->trulens_eval) (5.0.1)\n",
      "Collecting langchain-core<0.1,>=0.0.10\n",
      "  Downloading langchain_core-0.0.10-py3-none-any.whl (178 kB)\n",
      "\u001b[2K     \u001b[90m━━━━━━━━━━━━━━━━━━━━━━━━━━━━━━━━━━━━━━\u001b[0m \u001b[32m178.2/178.2 kB\u001b[0m \u001b[31m57.8 MB/s\u001b[0m eta \u001b[36m0:00:00\u001b[0m\n",
      "\u001b[?25hCollecting langsmith<0.1.0,>=0.0.63\n",
      "  Downloading langsmith-0.0.69-py3-none-any.whl (48 kB)\n",
      "\u001b[2K     \u001b[90m━━━━━━━━━━━━━━━━━━━━━━━━━━━━━━━━━━━━━━━━\u001b[0m \u001b[32m48.2/48.2 kB\u001b[0m \u001b[31m18.7 MB/s\u001b[0m eta \u001b[36m0:00:00\u001b[0m\n",
      "\u001b[?25hRequirement already satisfied: tenacity<9.0.0,>=8.1.0 in /usr/local/lib/python3.9/dist-packages (from langchain>=0.0.335->trulens_eval) (8.2.3)\n",
      "Collecting jsonpatch<2.0,>=1.33\n",
      "  Downloading jsonpatch-1.33-py2.py3-none-any.whl (12 kB)\n",
      "Requirement already satisfied: async-timeout<5.0.0,>=4.0.0 in /usr/local/lib/python3.9/dist-packages (from langchain>=0.0.335->trulens_eval) (4.0.2)\n",
      "Requirement already satisfied: dataclasses-json<0.7,>=0.5.7 in /usr/local/lib/python3.9/dist-packages (from langchain>=0.0.335->trulens_eval) (0.6.3)\n",
      "Requirement already satisfied: beautifulsoup4<5.0.0,>=4.12.2 in /usr/local/lib/python3.9/dist-packages (from llama-index>=0.8.69->trulens_eval) (4.12.2)\n",
      "Requirement already satisfied: tiktoken>=0.3.3 in /usr/local/lib/python3.9/dist-packages (from llama-index>=0.8.69->trulens_eval) (0.5.2)\n",
      "Requirement already satisfied: nltk<4.0.0,>=3.8.1 in /usr/local/lib/python3.9/dist-packages (from llama-index>=0.8.69->trulens_eval) (3.8.1)\n",
      "Requirement already satisfied: deprecated>=1.2.9.3 in /usr/local/lib/python3.9/dist-packages (from llama-index>=0.8.69->trulens_eval) (1.2.14)\n",
      "Requirement already satisfied: fsspec>=2023.5.0 in /usr/local/lib/python3.9/dist-packages (from llama-index>=0.8.69->trulens_eval) (2023.12.1)\n",
      "Requirement already satisfied: aiostream<0.6.0,>=0.5.2 in /usr/local/lib/python3.9/dist-packages (from llama-index>=0.8.69->trulens_eval) (0.5.2)\n",
      "Requirement already satisfied: nest-asyncio<2.0.0,>=1.5.8 in /usr/local/lib/python3.9/dist-packages (from llama-index>=0.8.69->trulens_eval) (1.5.8)\n",
      "Requirement already satisfied: distro<2,>=1.7.0 in /usr/local/lib/python3.9/dist-packages (from openai<2,>=1.1.1->trulens_eval) (1.8.0)\n",
      "Collecting tqdm>=4.62.1\n",
      "  Downloading tqdm-4.66.1-py3-none-any.whl (78 kB)\n",
      "\u001b[2K     \u001b[90m━━━━━━━━━━━━━━━━━━━━━━━━━━━━━━━━━━━━━━━━\u001b[0m \u001b[32m78.3/78.3 kB\u001b[0m \u001b[31m30.1 MB/s\u001b[0m eta \u001b[36m0:00:00\u001b[0m\n",
      "\u001b[?25hCollecting dnspython>=2.0.0\n",
      "  Downloading dnspython-2.4.2-py3-none-any.whl (300 kB)\n",
      "\u001b[2K     \u001b[90m━━━━━━━━━━━━━━━━━━━━━━━━━━━━━━━━━━━━━━\u001b[0m \u001b[32m300.4/300.4 kB\u001b[0m \u001b[31m78.7 MB/s\u001b[0m eta \u001b[36m0:00:00\u001b[0m\n",
      "\u001b[?25hCollecting loguru>=0.5.0\n",
      "  Downloading loguru-0.7.2-py3-none-any.whl (62 kB)\n",
      "\u001b[2K     \u001b[90m━━━━━━━━━━━━━━━━━━━━━━━━━━━━━━━━━━━━━━━━\u001b[0m \u001b[32m62.5/62.5 kB\u001b[0m \u001b[31m25.7 MB/s\u001b[0m eta \u001b[36m0:00:00\u001b[0m\n",
      "\u001b[?25hRequirement already satisfied: greenlet!=0.4.17 in /usr/local/lib/python3.9/dist-packages (from sqlalchemy>=2.0.19->trulens_eval) (1.1.2)\n",
      "Requirement already satisfied: tornado<7,>=6.0.3 in /usr/local/lib/python3.9/dist-packages (from streamlit>=1.27.0->trulens_eval) (6.2)\n",
      "Collecting watchdog>=2.1.5\n",
      "  Downloading watchdog-3.0.0-py3-none-manylinux2014_x86_64.whl (82 kB)\n",
      "\u001b[2K     \u001b[90m━━━━━━━━━━━━━━━━━━━━━━━━━━━━━━━━━━━━━━━━\u001b[0m \u001b[32m82.1/82.1 kB\u001b[0m \u001b[31m29.1 MB/s\u001b[0m eta \u001b[36m0:00:00\u001b[0m\n",
      "\u001b[?25hCollecting tzlocal<6,>=1.1\n",
      "  Downloading tzlocal-5.2-py3-none-any.whl (17 kB)\n",
      "Collecting protobuf<5,>=3.20\n",
      "  Downloading protobuf-4.25.1-cp37-abi3-manylinux2014_x86_64.whl (294 kB)\n",
      "\u001b[2K     \u001b[90m━━━━━━━━━━━━━━━━━━━━━━━━━━━━━━━━━━━━━━\u001b[0m \u001b[32m294.6/294.6 kB\u001b[0m \u001b[31m68.1 MB/s\u001b[0m eta \u001b[36m0:00:00\u001b[0m\n",
      "\u001b[?25hCollecting altair<6,>=4.0\n",
      "  Downloading altair-5.2.0-py3-none-any.whl (996 kB)\n",
      "\u001b[2K     \u001b[90m━━━━━━━━━━━━━━━━━━━━━━━━━━━━━━━━━━━━━\u001b[0m \u001b[32m996.9/996.9 kB\u001b[0m \u001b[31m109.7 MB/s\u001b[0m eta \u001b[36m0:00:00\u001b[0m\n",
      "\u001b[?25hCollecting pydeck<1,>=0.8.0b4\n",
      "  Downloading pydeck-0.8.1b0-py2.py3-none-any.whl (4.8 MB)\n",
      "\u001b[2K     \u001b[90m━━━━━━━━━━━━━━━━━━━━━━━━━━━━━━━━━━━━━━━━\u001b[0m \u001b[32m4.8/4.8 MB\u001b[0m \u001b[31m97.3 MB/s\u001b[0m eta \u001b[36m0:00:00\u001b[0m:00:01\u001b[0m\n",
      "\u001b[?25hCollecting toml<2,>=0.10.1\n",
      "  Downloading toml-0.10.2-py2.py3-none-any.whl (16 kB)\n",
      "Requirement already satisfied: pillow<11,>=7.1.0 in /usr/local/lib/python3.9/dist-packages (from streamlit>=1.27.0->trulens_eval) (9.2.0)\n",
      "Collecting blinker<2,>=1.0.0\n",
      "  Downloading blinker-1.7.0-py3-none-any.whl (13 kB)\n",
      "Collecting validators<1,>=0.2\n",
      "  Downloading validators-0.22.0-py3-none-any.whl (26 kB)\n",
      "Requirement already satisfied: gitpython!=3.1.19,<4,>=3.0.7 in /usr/local/lib/python3.9/dist-packages (from streamlit>=1.27.0->trulens_eval) (3.1.27)\n",
      "Requirement already satisfied: click<9,>=7.0 in /usr/local/lib/python3.9/dist-packages (from streamlit>=1.27.0->trulens_eval) (8.1.3)\n",
      "Collecting rich<14,>=10.14.0\n",
      "  Downloading rich-13.7.0-py3-none-any.whl (240 kB)\n",
      "\u001b[2K     \u001b[90m━━━━━━━━━━━━━━━━━━━━━━━━━━━━━━━━━━━━━━\u001b[0m \u001b[32m240.6/240.6 kB\u001b[0m \u001b[31m67.2 MB/s\u001b[0m eta \u001b[36m0:00:00\u001b[0m\n",
      "\u001b[?25hRequirement already satisfied: cachetools<6,>=4.0 in /usr/local/lib/python3.9/dist-packages (from streamlit>=1.27.0->trulens_eval) (5.2.0)\n",
      "Collecting python-decouple<4.0,>=3.6\n",
      "  Downloading python_decouple-3.8-py3-none-any.whl (9.9 kB)\n",
      "Collecting htbuilder>=0.6.2\n",
      "  Downloading htbuilder-0.6.2-py3-none-any.whl (12 kB)\n",
      "Collecting streamlit-keyup>=0.1.9\n",
      "  Downloading streamlit_keyup-0.2.0-py3-none-any.whl (7.4 kB)\n",
      "Collecting markdownlit>=0.0.5\n",
      "  Downloading markdownlit-0.0.7-py3-none-any.whl (15 kB)\n",
      "Collecting streamlit-vertical-slider>=1.0.2\n",
      "  Downloading streamlit_vertical_slider-1.0.2-py3-none-any.whl (624 kB)\n",
      "\u001b[2K     \u001b[90m━━━━━━━━━━━━━━━━━━━━━━━━━━━━━━━━━━━━━━\u001b[0m \u001b[32m624.3/624.3 kB\u001b[0m \u001b[31m94.7 MB/s\u001b[0m eta \u001b[36m0:00:00\u001b[0m\n",
      "\u001b[?25hCollecting streamlit-camera-input-live>=0.2.0\n",
      "  Downloading streamlit_camera_input_live-0.2.0-py3-none-any.whl (6.6 kB)\n",
      "Collecting streamlit-toggle-switch>=1.0.2\n",
      "  Downloading streamlit_toggle_switch-1.0.2-py3-none-any.whl (635 kB)\n",
      "\u001b[2K     \u001b[90m━━━━━━━━━━━━━━━━━━━━━━━━━━━━━━━━━━━━━━\u001b[0m \u001b[32m635.4/635.4 kB\u001b[0m \u001b[31m96.2 MB/s\u001b[0m eta \u001b[36m0:00:00\u001b[0m\n",
      "\u001b[?25hCollecting streamlit-embedcode>=0.1.2\n",
      "  Downloading streamlit_embedcode-0.1.2-py3-none-any.whl (3.5 kB)\n",
      "Requirement already satisfied: entrypoints>=0.4 in /usr/local/lib/python3.9/dist-packages (from streamlit-extras>=0.2.7->trulens_eval) (0.4)\n",
      "Collecting streamlit-faker>=0.0.2\n",
      "  Downloading streamlit_faker-0.0.3-py3-none-any.whl (14 kB)\n",
      "Collecting streamlit-image-coordinates<0.2.0,>=0.1.1\n",
      "  Downloading streamlit_image_coordinates-0.1.6-py3-none-any.whl (6.3 kB)\n",
      "Collecting st-annotated-text>=3.0.0\n",
      "  Downloading st_annotated_text-4.0.1-py3-none-any.whl (9.0 kB)\n",
      "Collecting streamlit-card>=0.0.4\n",
      "  Downloading streamlit_card-0.0.61-py3-none-any.whl (680 kB)\n",
      "\u001b[2K     \u001b[90m━━━━━━━━━━━━━━━━━━━━━━━━━━━━━━━━━━━━━\u001b[0m \u001b[32m680.5/680.5 kB\u001b[0m \u001b[31m102.8 MB/s\u001b[0m eta \u001b[36m0:00:00\u001b[0m\n",
      "\u001b[?25hRequirement already satisfied: filelock in /usr/local/lib/python3.9/dist-packages (from transformers>=4.10.0->trulens_eval) (3.7.1)\n",
      "Requirement already satisfied: regex!=2019.12.17 in /usr/local/lib/python3.9/dist-packages (from transformers>=4.10.0->trulens_eval) (2022.7.9)\n",
      "Requirement already satisfied: tokenizers!=0.11.3,<0.13,>=0.11.1 in /usr/local/lib/python3.9/dist-packages (from transformers>=4.10.0->trulens_eval) (0.12.1)\n",
      "Requirement already satisfied: mypy-extensions>=0.3.0 in /usr/local/lib/python3.9/dist-packages (from typing-inspect>=0.8.0->trulens_eval) (1.0.0)\n",
      "Requirement already satisfied: aiosignal>=1.1.2 in /usr/local/lib/python3.9/dist-packages (from aiohttp<4.0,>=3.0->cohere>=4.4.1->trulens_eval) (1.2.0)\n",
      "Requirement already satisfied: frozenlist>=1.1.1 in /usr/local/lib/python3.9/dist-packages (from aiohttp<4.0,>=3.0->cohere>=4.4.1->trulens_eval) (1.3.0)\n",
      "Requirement already satisfied: yarl<2.0,>=1.0 in /usr/local/lib/python3.9/dist-packages (from aiohttp<4.0,>=3.0->cohere>=4.4.1->trulens_eval) (1.7.2)\n",
      "Requirement already satisfied: attrs>=17.3.0 in /usr/local/lib/python3.9/dist-packages (from aiohttp<4.0,>=3.0->cohere>=4.4.1->trulens_eval) (18.2.0)\n",
      "Requirement already satisfied: multidict<7.0,>=4.5 in /usr/local/lib/python3.9/dist-packages (from aiohttp<4.0,>=3.0->cohere>=4.4.1->trulens_eval) (6.0.2)\n",
      "Collecting toolz\n",
      "  Downloading toolz-0.12.0-py3-none-any.whl (55 kB)\n",
      "\u001b[2K     \u001b[90m━━━━━━━━━━━━━━━━━━━━━━━━━━━━━━━━━━━━━━━━\u001b[0m \u001b[32m55.8/55.8 kB\u001b[0m \u001b[31m22.0 MB/s\u001b[0m eta \u001b[36m0:00:00\u001b[0m\n",
      "\u001b[?25hRequirement already satisfied: jinja2 in /usr/local/lib/python3.9/dist-packages (from altair<6,>=4.0->streamlit>=1.27.0->trulens_eval) (3.1.2)\n",
      "Requirement already satisfied: jsonschema>=3.0 in /usr/local/lib/python3.9/dist-packages (from altair<6,>=4.0->streamlit>=1.27.0->trulens_eval) (4.7.2)\n",
      "Requirement already satisfied: soupsieve>1.2 in /usr/local/lib/python3.9/dist-packages (from beautifulsoup4<5.0.0,>=4.12.2->llama-index>=0.8.69->trulens_eval) (2.3.2.post1)\n",
      "Requirement already satisfied: marshmallow<4.0.0,>=3.18.0 in /usr/local/lib/python3.9/dist-packages (from dataclasses-json<0.7,>=0.5.7->langchain>=0.0.335->trulens_eval) (3.20.1)\n",
      "Requirement already satisfied: wrapt<2,>=1.10 in /usr/local/lib/python3.9/dist-packages (from deprecated>=1.2.9.3->llama-index>=0.8.69->trulens_eval) (1.14.1)\n",
      "Requirement already satisfied: gitdb<5,>=4.0.1 in /usr/local/lib/python3.9/dist-packages (from gitpython!=3.1.19,<4,>=3.0.7->streamlit>=1.27.0->trulens_eval) (4.0.9)\n",
      "Collecting more-itertools\n",
      "  Downloading more_itertools-10.1.0-py3-none-any.whl (55 kB)\n",
      "\u001b[2K     \u001b[90m━━━━━━━━━━━━━━━━━━━━━━━━━━━━━━━━━━━━━━━━\u001b[0m \u001b[32m55.8/55.8 kB\u001b[0m \u001b[31m23.1 MB/s\u001b[0m eta \u001b[36m0:00:00\u001b[0m\n",
      "\u001b[?25hRequirement already satisfied: zipp>=0.5 in /usr/local/lib/python3.9/dist-packages (from importlib_metadata<7.0,>=6.0->cohere>=4.4.1->trulens_eval) (3.8.1)\n",
      "Requirement already satisfied: pickleshare in /usr/local/lib/python3.9/dist-packages (from ipython>=6.1.0->ipywidgets>=8.0.6->trulens_eval) (0.7.5)\n",
      "Requirement already satisfied: backcall in /usr/local/lib/python3.9/dist-packages (from ipython>=6.1.0->ipywidgets>=8.0.6->trulens_eval) (0.2.0)\n",
      "Requirement already satisfied: prompt-toolkit!=3.0.0,!=3.0.1,<3.1.0,>=2.0.0 in /usr/local/lib/python3.9/dist-packages (from ipython>=6.1.0->ipywidgets>=8.0.6->trulens_eval) (3.0.30)\n",
      "Requirement already satisfied: jedi>=0.16 in /usr/local/lib/python3.9/dist-packages (from ipython>=6.1.0->ipywidgets>=8.0.6->trulens_eval) (0.18.1)\n",
      "Requirement already satisfied: pygments>=2.4.0 in /usr/local/lib/python3.9/dist-packages (from ipython>=6.1.0->ipywidgets>=8.0.6->trulens_eval) (2.12.0)\n",
      "Requirement already satisfied: matplotlib-inline in /usr/local/lib/python3.9/dist-packages (from ipython>=6.1.0->ipywidgets>=8.0.6->trulens_eval) (0.1.3)\n",
      "Requirement already satisfied: pexpect>4.3 in /usr/local/lib/python3.9/dist-packages (from ipython>=6.1.0->ipywidgets>=8.0.6->trulens_eval) (4.8.0)\n",
      "Requirement already satisfied: setuptools>=18.5 in /usr/local/lib/python3.9/dist-packages (from ipython>=6.1.0->ipywidgets>=8.0.6->trulens_eval) (63.1.0)\n",
      "Requirement already satisfied: stack-data in /usr/local/lib/python3.9/dist-packages (from ipython>=6.1.0->ipywidgets>=8.0.6->trulens_eval) (0.3.0)\n",
      "Requirement already satisfied: decorator in /usr/local/lib/python3.9/dist-packages (from ipython>=6.1.0->ipywidgets>=8.0.6->trulens_eval) (5.1.1)\n",
      "Collecting jsonpointer>=1.9\n",
      "  Downloading jsonpointer-2.4-py2.py3-none-any.whl (7.8 kB)\n",
      "Collecting favicon\n",
      "  Downloading favicon-0.7.0-py2.py3-none-any.whl (5.9 kB)\n",
      "Collecting pymdown-extensions\n",
      "  Downloading pymdown_extensions-10.5-py3-none-any.whl (241 kB)\n",
      "\u001b[2K     \u001b[90m━━━━━━━━━━━━━━━━━━━━━━━━━━━━━━━━━━━━━━\u001b[0m \u001b[32m241.1/241.1 kB\u001b[0m \u001b[31m67.3 MB/s\u001b[0m eta \u001b[36m0:00:00\u001b[0m\n",
      "\u001b[?25hRequirement already satisfied: markdown in /usr/local/lib/python3.9/dist-packages (from markdownlit>=0.0.5->streamlit-extras>=0.2.7->trulens_eval) (3.3.7)\n",
      "Requirement already satisfied: lxml in /usr/lib/python3/dist-packages (from markdownlit>=0.0.5->streamlit-extras>=0.2.7->trulens_eval) (4.5.0)\n",
      "Requirement already satisfied: joblib in /usr/local/lib/python3.9/dist-packages (from nltk<4.0.0,>=3.8.1->llama-index>=0.8.69->trulens_eval) (1.1.0)\n",
      "Requirement already satisfied: pyparsing!=3.0.5,>=2.0.2 in /usr/local/lib/python3.9/dist-packages (from packaging->datasets>=2.12.0->trulens_eval) (3.0.9)\n",
      "Requirement already satisfied: pytz>=2020.1 in /usr/local/lib/python3.9/dist-packages (from pandas->datasets>=2.12.0->trulens_eval) (2022.1)\n",
      "Requirement already satisfied: charset-normalizer<4,>=2 in /usr/local/lib/python3.9/dist-packages (from requests<3.0.0,>=2.25.0->cohere>=4.4.1->trulens_eval) (2.1.0)\n",
      "Collecting markdown-it-py>=2.2.0\n",
      "  Downloading markdown_it_py-3.0.0-py3-none-any.whl (87 kB)\n",
      "\u001b[2K     \u001b[90m━━━━━━━━━━━━━━━━━━━━━━━━━━━━━━━━━━━━━━━━\u001b[0m \u001b[32m87.5/87.5 kB\u001b[0m \u001b[31m34.5 MB/s\u001b[0m eta \u001b[36m0:00:00\u001b[0m\n",
      "\u001b[?25hCollecting pygments>=2.4.0\n",
      "  Downloading pygments-2.17.2-py3-none-any.whl (1.2 MB)\n",
      "\u001b[2K     \u001b[90m━━━━━━━━━━━━━━━━━━━━━━━━━━━━━━━━━━━━━━━━\u001b[0m \u001b[32m1.2/1.2 MB\u001b[0m \u001b[31m109.3 MB/s\u001b[0m eta \u001b[36m0:00:00\u001b[0m\n",
      "\u001b[?25hCollecting faker\n",
      "  Downloading Faker-20.1.0-py3-none-any.whl (1.7 MB)\n",
      "\u001b[2K     \u001b[90m━━━━━━━━━━━━━━━━━━━━━━━━━━━━━━━━━━━━━━━━\u001b[0m \u001b[32m1.7/1.7 MB\u001b[0m \u001b[31m125.1 MB/s\u001b[0m eta \u001b[36m0:00:00\u001b[0m\n",
      "\u001b[?25hRequirement already satisfied: matplotlib in /usr/local/lib/python3.9/dist-packages (from streamlit-faker>=0.0.2->streamlit-extras>=0.2.7->trulens_eval) (3.5.2)\n",
      "Requirement already satisfied: webencodings in /usr/local/lib/python3.9/dist-packages (from bleach->kaggle>=1.5.13->trulens_eval) (0.5.1)\n",
      "Requirement already satisfied: MarkupSafe>=0.9.2 in /usr/local/lib/python3.9/dist-packages (from Mako->alembic>=1.11.2->trulens_eval) (2.1.1)\n",
      "Requirement already satisfied: smmap<6,>=3.0.1 in /usr/local/lib/python3.9/dist-packages (from gitdb<5,>=4.0.1->gitpython!=3.1.19,<4,>=3.0.7->streamlit>=1.27.0->trulens_eval) (5.0.0)\n",
      "Requirement already satisfied: parso<0.9.0,>=0.8.0 in /usr/local/lib/python3.9/dist-packages (from jedi>=0.16->ipython>=6.1.0->ipywidgets>=8.0.6->trulens_eval) (0.8.3)\n",
      "Requirement already satisfied: pyrsistent!=0.17.0,!=0.17.1,!=0.17.2,>=0.14.0 in /usr/local/lib/python3.9/dist-packages (from jsonschema>=3.0->altair<6,>=4.0->streamlit>=1.27.0->trulens_eval) (0.18.1)\n",
      "Collecting mdurl~=0.1\n",
      "  Downloading mdurl-0.1.2-py3-none-any.whl (10.0 kB)\n",
      "Requirement already satisfied: ptyprocess>=0.5 in /usr/local/lib/python3.9/dist-packages (from pexpect>4.3->ipython>=6.1.0->ipywidgets>=8.0.6->trulens_eval) (0.7.0)\n",
      "Requirement already satisfied: wcwidth in /usr/local/lib/python3.9/dist-packages (from prompt-toolkit!=3.0.0,!=3.0.1,<3.1.0,>=2.0.0->ipython>=6.1.0->ipywidgets>=8.0.6->trulens_eval) (0.2.5)\n",
      "Requirement already satisfied: kiwisolver>=1.0.1 in /usr/local/lib/python3.9/dist-packages (from matplotlib->streamlit-faker>=0.0.2->streamlit-extras>=0.2.7->trulens_eval) (1.4.3)\n",
      "Requirement already satisfied: fonttools>=4.22.0 in /usr/local/lib/python3.9/dist-packages (from matplotlib->streamlit-faker>=0.0.2->streamlit-extras>=0.2.7->trulens_eval) (4.34.4)\n",
      "Requirement already satisfied: cycler>=0.10 in /usr/local/lib/python3.9/dist-packages (from matplotlib->streamlit-faker>=0.0.2->streamlit-extras>=0.2.7->trulens_eval) (0.11.0)\n",
      "Collecting markdown\n",
      "  Downloading Markdown-3.5.1-py3-none-any.whl (102 kB)\n",
      "\u001b[2K     \u001b[90m━━━━━━━━━━━━━━━━━━━━━━━━━━━━━━━━━━━━━━\u001b[0m \u001b[32m102.2/102.2 kB\u001b[0m \u001b[31m39.2 MB/s\u001b[0m eta \u001b[36m0:00:00\u001b[0m\n",
      "\u001b[?25hRequirement already satisfied: asttokens in /usr/local/lib/python3.9/dist-packages (from stack-data->ipython>=6.1.0->ipywidgets>=8.0.6->trulens_eval) (2.0.5)\n",
      "Requirement already satisfied: pure-eval in /usr/local/lib/python3.9/dist-packages (from stack-data->ipython>=6.1.0->ipywidgets>=8.0.6->trulens_eval) (0.2.2)\n",
      "Requirement already satisfied: executing in /usr/local/lib/python3.9/dist-packages (from stack-data->ipython>=6.1.0->ipywidgets>=8.0.6->trulens_eval) (0.8.3)\n",
      "Building wheels for collected packages: kaggle, millify\n",
      "  Building wheel for kaggle (setup.py) ... \u001b[?25ldone\n",
      "\u001b[?25h  Created wheel for kaggle: filename=kaggle-1.5.16-py3-none-any.whl size=110685 sha256=3a9be1d31a0677ec986541f1f78632491d2ffb824954b3d9aa91746b29ff2ea2\n",
      "  Stored in directory: /root/.cache/pip/wheels/d2/ed/a5/da3a0cfb13373d1ace41cafa4f2467d858c55c52473ba72799\n",
      "  Building wheel for millify (setup.py) ... \u001b[?25ldone\n",
      "\u001b[?25h  Created wheel for millify: filename=millify-0.1.1-py3-none-any.whl size=1844 sha256=66b359ec9355014878f5fe6f8222489bb68190d1805e4dd5658f1dd4b5ed40a0\n",
      "  Stored in directory: /root/.cache/pip/wheels/4d/a6/58/ab31aca0c3bb6be6ae878845aed85d55c3d580b6d0b2e71486\n",
      "Successfully built kaggle millify\n",
      "Installing collected packages: python-decouple, millify, widgetsnbextension, watchdog, validators, tzlocal, tqdm, toolz, toml, slack-sdk, python-dotenv, pygments, pydantic, pyarrow-hotfix, protobuf, numpy, munch, more-itertools, merkle-json, mdurl, Mako, loguru, jupyterlab-widgets, jsonpointer, importlib_metadata, humanize, html2text, fsspec, frozendict, fastavro, dnspython, comm, blinker, backoff, slack-bolt, pydeck, pinecone-client, markdown-it-py, markdown, langsmith, kaggle, jsonpatch, huggingface-hub, htbuilder, favicon, faker, alembic, st-annotated-text, rich, pymdown-extensions, langchain-core, cohere, altair, streamlit, langchain, ipywidgets, datasets, streamlit-vertical-slider, streamlit-toggle-switch, streamlit-keyup, streamlit-javascript, streamlit-image-coordinates, streamlit-embedcode, streamlit-card, streamlit-camera-input-live, streamlit-aggrid, streamlit-faker, markdownlit, streamlit-extras, trulens_eval\n",
      "  Attempting uninstall: widgetsnbextension\n",
      "    Found existing installation: widgetsnbextension 3.6.1\n",
      "    Uninstalling widgetsnbextension-3.6.1:\n",
      "      Successfully uninstalled widgetsnbextension-3.6.1\n",
      "  Attempting uninstall: tqdm\n",
      "    Found existing installation: tqdm 4.64.0\n",
      "    Uninstalling tqdm-4.64.0:\n",
      "      Successfully uninstalled tqdm-4.64.0\n",
      "  Attempting uninstall: pygments\n",
      "    Found existing installation: Pygments 2.12.0\n",
      "    Uninstalling Pygments-2.12.0:\n",
      "      Successfully uninstalled Pygments-2.12.0\n",
      "  Attempting uninstall: pydantic\n",
      "    Found existing installation: pydantic 1.10.0\n",
      "    Uninstalling pydantic-1.10.0:\n",
      "      Successfully uninstalled pydantic-1.10.0\n",
      "  Attempting uninstall: protobuf\n",
      "    Found existing installation: protobuf 3.19.4\n",
      "    Uninstalling protobuf-3.19.4:\n",
      "      Successfully uninstalled protobuf-3.19.4\n",
      "  Attempting uninstall: numpy\n",
      "    Found existing installation: numpy 1.23.1\n",
      "    Uninstalling numpy-1.23.1:\n",
      "      Successfully uninstalled numpy-1.23.1\n",
      "  Attempting uninstall: jupyterlab-widgets\n",
      "    Found existing installation: jupyterlab-widgets 1.1.1\n",
      "    Uninstalling jupyterlab-widgets-1.1.1:\n",
      "      Successfully uninstalled jupyterlab-widgets-1.1.1\n",
      "  Attempting uninstall: importlib_metadata\n",
      "    Found existing installation: importlib-metadata 4.12.0\n",
      "    Uninstalling importlib-metadata-4.12.0:\n",
      "      Successfully uninstalled importlib-metadata-4.12.0\n",
      "  Attempting uninstall: fsspec\n",
      "    Found existing installation: fsspec 2023.12.1\n",
      "    Uninstalling fsspec-2023.12.1:\n",
      "      Successfully uninstalled fsspec-2023.12.1\n",
      "  Attempting uninstall: markdown\n",
      "    Found existing installation: Markdown 3.3.7\n",
      "    Uninstalling Markdown-3.3.7:\n",
      "      Successfully uninstalled Markdown-3.3.7\n",
      "  Attempting uninstall: huggingface-hub\n",
      "    Found existing installation: huggingface-hub 0.8.1\n",
      "    Uninstalling huggingface-hub-0.8.1:\n",
      "      Successfully uninstalled huggingface-hub-0.8.1\n",
      "  Attempting uninstall: ipywidgets\n",
      "    Found existing installation: ipywidgets 7.7.1\n",
      "    Uninstalling ipywidgets-7.7.1:\n",
      "      Successfully uninstalled ipywidgets-7.7.1\n",
      "  Attempting uninstall: datasets\n",
      "    Found existing installation: datasets 2.3.2\n",
      "    Uninstalling datasets-2.3.2:\n",
      "      Successfully uninstalled datasets-2.3.2\n",
      "\u001b[31mERROR: pip's dependency resolver does not currently take into account all the packages that are installed. This behaviour is the source of the following dependency conflicts.\n",
      "thinc 8.1.0 requires pydantic!=1.8,!=1.8.1,<1.10.0,>=1.7.4, but you have pydantic 1.10.13 which is incompatible.\n",
      "tensorflow 2.9.1 requires protobuf<3.20,>=3.9.2, but you have protobuf 4.25.1 which is incompatible.\n",
      "tensorboard 2.9.1 requires protobuf<3.20,>=3.9.2, but you have protobuf 4.25.1 which is incompatible.\n",
      "spacy 3.4.0 requires pydantic!=1.8,!=1.8.1,<1.10.0,>=1.7.4, but you have pydantic 1.10.13 which is incompatible.\n",
      "scipy 1.8.1 requires numpy<1.25.0,>=1.17.3, but you have numpy 1.26.2 which is incompatible.\u001b[0m\u001b[31m\n",
      "\u001b[0mSuccessfully installed Mako-1.3.0 alembic-1.13.0 altair-5.2.0 backoff-2.2.1 blinker-1.7.0 cohere-4.37 comm-0.2.0 datasets-2.15.0 dnspython-2.4.2 faker-20.1.0 fastavro-1.9.0 favicon-0.7.0 frozendict-2.3.10 fsspec-2023.10.0 htbuilder-0.6.2 html2text-2020.1.16 huggingface-hub-0.19.4 humanize-4.9.0 importlib_metadata-6.11.0 ipywidgets-8.1.1 jsonpatch-1.33 jsonpointer-2.4 jupyterlab-widgets-3.0.9 kaggle-1.5.16 langchain-0.0.346 langchain-core-0.0.10 langsmith-0.0.69 loguru-0.7.2 markdown-3.5.1 markdown-it-py-3.0.0 markdownlit-0.0.7 mdurl-0.1.2 merkle-json-1.0.0 millify-0.1.1 more-itertools-10.1.0 munch-4.0.0 numpy-1.26.2 pinecone-client-2.2.4 protobuf-4.25.1 pyarrow-hotfix-0.6 pydantic-1.10.13 pydeck-0.8.1b0 pygments-2.17.2 pymdown-extensions-10.5 python-decouple-3.8 python-dotenv-1.0.0 rich-13.7.0 slack-bolt-1.18.1 slack-sdk-3.26.1 st-annotated-text-4.0.1 streamlit-1.29.0 streamlit-aggrid-0.3.4.post3 streamlit-camera-input-live-0.2.0 streamlit-card-0.0.61 streamlit-embedcode-0.1.2 streamlit-extras-0.3.5 streamlit-faker-0.0.3 streamlit-image-coordinates-0.1.6 streamlit-javascript-0.1.5 streamlit-keyup-0.2.0 streamlit-toggle-switch-1.0.2 streamlit-vertical-slider-1.0.2 toml-0.10.2 toolz-0.12.0 tqdm-4.66.1 trulens_eval-0.18.2 tzlocal-5.2 validators-0.22.0 watchdog-3.0.0 widgetsnbextension-4.0.9\n",
      "\u001b[33mWARNING: Running pip as the 'root' user can result in broken permissions and conflicting behaviour with the system package manager. It is recommended to use a virtual environment instead: https://pip.pypa.io/warnings/venv\u001b[0m\u001b[33m\n",
      "\u001b[0m"
     ]
    }
   ],
   "source": [
    "!pip install trulens_eval"
   ]
  },
  {
   "cell_type": "code",
   "execution_count": 6,
   "id": "cbedca0f-b43d-4090-96fc-99db750ef3c8",
   "metadata": {},
   "outputs": [
    {
     "name": "stdout",
     "output_type": "stream",
     "text": [
      "Collecting protobuf==3.20\n",
      "  Downloading protobuf-3.20.0-cp39-cp39-manylinux_2_5_x86_64.manylinux1_x86_64.whl (1.0 MB)\n",
      "\u001b[2K     \u001b[90m━━━━━━━━━━━━━━━━━━━━━━━━━━━━━━━━━━━━━━━━\u001b[0m \u001b[32m1.0/1.0 MB\u001b[0m \u001b[31m56.9 MB/s\u001b[0m eta \u001b[36m0:00:00\u001b[0m\n",
      "\u001b[?25hInstalling collected packages: protobuf\n",
      "  Attempting uninstall: protobuf\n",
      "    Found existing installation: protobuf 4.25.1\n",
      "    Uninstalling protobuf-4.25.1:\n",
      "      Successfully uninstalled protobuf-4.25.1\n",
      "\u001b[31mERROR: pip's dependency resolver does not currently take into account all the packages that are installed. This behaviour is the source of the following dependency conflicts.\n",
      "tensorflow 2.9.1 requires protobuf<3.20,>=3.9.2, but you have protobuf 3.20.0 which is incompatible.\n",
      "tensorboard 2.9.1 requires protobuf<3.20,>=3.9.2, but you have protobuf 3.20.0 which is incompatible.\u001b[0m\u001b[31m\n",
      "\u001b[0mSuccessfully installed protobuf-3.20.0\n",
      "\u001b[33mWARNING: Running pip as the 'root' user can result in broken permissions and conflicting behaviour with the system package manager. It is recommended to use a virtual environment instead: https://pip.pypa.io/warnings/venv\u001b[0m\u001b[33m\n",
      "\u001b[0m"
     ]
    }
   ],
   "source": [
    "!pip install protobuf==3.20"
   ]
  },
  {
   "cell_type": "markdown",
   "id": "bafd0911-220b-4d79-916f-1e4b2da9617c",
   "metadata": {},
   "source": [
    "## OpenAI key"
   ]
  },
  {
   "cell_type": "code",
   "execution_count": 8,
   "id": "b6528781-10e0-4a3b-a6ce-603ace793378",
   "metadata": {},
   "outputs": [],
   "source": [
    "config=ConfigParser()\n",
    "config.read('conf/conf.ini')\n",
    "openai.api_key = config['openai']['apikey']"
   ]
  },
  {
   "cell_type": "code",
   "execution_count": 9,
   "id": "c286b18e-6a29-43b2-818a-1dd1ec35ba7b",
   "metadata": {},
   "outputs": [],
   "source": [
    "os.environ[\"OPENAI_API_KEY\"] = config['openai']['apikey']"
   ]
  },
  {
   "cell_type": "code",
   "execution_count": 10,
   "id": "0fd3fa3f-16f9-4c7e-ad3b-7e3e397c9d10",
   "metadata": {},
   "outputs": [
    {
     "name": "stdout",
     "output_type": "stream",
     "text": [
      "✅ In Answer Relevance, input prompt will be set to __record__.main_input or `Select.RecordInput` .\n",
      "✅ In Answer Relevance, input response will be set to __record__.main_output or `Select.RecordOutput` .\n",
      "✅ In Context Relevance, input prompt will be set to __record__.main_input or `Select.RecordInput` .\n",
      "✅ In Context Relevance, input response will be set to __record__.app.query.rets.source_nodes[:].node.text .\n",
      "✅ In Groundedness, input source will be set to __record__.app.query.rets.source_nodes[:].node.text .\n",
      "✅ In Groundedness, input statement will be set to __record__.main_output or `Select.RecordOutput` .\n"
     ]
    }
   ],
   "source": [
    "from src.utils import build_sentence_window_index\n",
    "from src.utils import get_prebuilt_trulens_recorder\n",
    "from src.utils import get_sentence_window_query_engine"
   ]
  },
  {
   "cell_type": "markdown",
   "id": "bfb8f048-a966-4b00-900b-53912da6de12",
   "metadata": {},
   "source": [
    "## Load data"
   ]
  },
  {
   "cell_type": "code",
   "execution_count": 11,
   "id": "a25af902-c12b-4138-812d-3cf2d1137584",
   "metadata": {},
   "outputs": [],
   "source": [
    "documents = SimpleDirectoryReader(\n",
    "    input_files=[\"data/raw/Advokatuuriseadus–Riigi Teataja.pdf\"]\n",
    ").load_data()"
   ]
  },
  {
   "cell_type": "code",
   "execution_count": 12,
   "id": "590168ae-f024-4da1-a9b2-d4efb5209e26",
   "metadata": {},
   "outputs": [
    {
     "name": "stdout",
     "output_type": "stream",
     "text": [
      "<class 'list'> \n",
      "\n",
      "21 \n",
      "\n",
      "<class 'llama_index.schema.Document'>\n",
      "Doc ID: 577c1d4b-98ae-4f1a-9bb4-f86b00c91974\n",
      "Text: 12/4/23, 7:36 PM Advokatuuriseadus–Riigi Teataja\n",
      "https://www.riigiteataja.ee/akt/921782?leiaKehtiv 1/21Väljaandja:\n",
      "Riigikogu Akti liik: seadus Teksti liik: terviktekst Redaktsiooni\n",
      "jõustumise kp: 01.02.2023 Redaktsiooni kehtivuse lõpp: Hetkel kehtiv\n",
      "Avaldamismärge: RT I, 05.05.2022, 5 Advokatuuriseadus Vastu võetud\n",
      "21.03.2001 RT I 2001, 36, 201 ...\n"
     ]
    }
   ],
   "source": [
    "print(type(documents), \"\\n\")\n",
    "print(len(documents), \"\\n\")\n",
    "print(type(documents[0]))\n",
    "print(documents[0])"
   ]
  },
  {
   "cell_type": "markdown",
   "id": "fd116194-d571-407b-8cf7-a34e0793ae47",
   "metadata": {},
   "source": [
    "## RAG pipeline"
   ]
  },
  {
   "cell_type": "code",
   "execution_count": 13,
   "id": "7d145488-88bd-46e2-bfbd-bc8956d68159",
   "metadata": {},
   "outputs": [],
   "source": [
    "document = Document(text=\"\\n\\n\".join([doc.text for doc in documents]))"
   ]
  },
  {
   "cell_type": "code",
   "execution_count": 14,
   "id": "8f51bdbd-2640-4e31-9107-fae05f17ef87",
   "metadata": {},
   "outputs": [
    {
     "data": {
      "application/vnd.jupyter.widget-view+json": {
       "model_id": "9d1b11c348ca4e46ae37a67c073b9639",
       "version_major": 2,
       "version_minor": 0
      },
      "text/plain": [
       "Downloading:   0%|          | 0.00/743 [00:00<?, ?B/s]"
      ]
     },
     "metadata": {},
     "output_type": "display_data"
    },
    {
     "data": {
      "application/vnd.jupyter.widget-view+json": {
       "model_id": "ee5c4a12565549c2aa34e1f5fbaf7674",
       "version_major": 2,
       "version_minor": 0
      },
      "text/plain": [
       "Downloading:   0%|          | 0.00/127M [00:00<?, ?B/s]"
      ]
     },
     "metadata": {},
     "output_type": "display_data"
    },
    {
     "data": {
      "application/vnd.jupyter.widget-view+json": {
       "model_id": "ce9da2f237af43e89735651117f04fb7",
       "version_major": 2,
       "version_minor": 0
      },
      "text/plain": [
       "Downloading:   0%|          | 0.00/366 [00:00<?, ?B/s]"
      ]
     },
     "metadata": {},
     "output_type": "display_data"
    },
    {
     "data": {
      "application/vnd.jupyter.widget-view+json": {
       "model_id": "e6a5fa0b52124d5bb0cf5bcf395c5624",
       "version_major": 2,
       "version_minor": 0
      },
      "text/plain": [
       "Downloading:   0%|          | 0.00/226k [00:00<?, ?B/s]"
      ]
     },
     "metadata": {},
     "output_type": "display_data"
    },
    {
     "data": {
      "application/vnd.jupyter.widget-view+json": {
       "model_id": "b050a5c558e54b5d968dfd3a028be006",
       "version_major": 2,
       "version_minor": 0
      },
      "text/plain": [
       "Downloading:   0%|          | 0.00/695k [00:00<?, ?B/s]"
      ]
     },
     "metadata": {},
     "output_type": "display_data"
    },
    {
     "data": {
      "application/vnd.jupyter.widget-view+json": {
       "model_id": "e12b5eb1d29a4a75bce2531243e51748",
       "version_major": 2,
       "version_minor": 0
      },
      "text/plain": [
       "Downloading:   0%|          | 0.00/125 [00:00<?, ?B/s]"
      ]
     },
     "metadata": {},
     "output_type": "display_data"
    },
    {
     "name": "stderr",
     "output_type": "stream",
     "text": [
      "/usr/local/lib/python3.9/dist-packages/scipy/__init__.py:146: UserWarning: A NumPy version >=1.17.3 and <1.25.0 is required for this version of SciPy (detected version 1.26.2\n",
      "  warnings.warn(f\"A NumPy version >={np_minversion} and <{np_maxversion}\"\n",
      "[nltk_data] Downloading package punkt to /tmp/llama_index...\n",
      "[nltk_data]   Unzipping tokenizers/punkt.zip.\n"
     ]
    }
   ],
   "source": [
    "# llm = OpenAI(model=\"gpt-3.5-turbo\", temperature=0.1)\n",
    "llm = OpenAI(model=\"gpt-4-1106-preview\", temperature=0.1)\n",
    "\n",
    "service_context = ServiceContext.from_defaults(\n",
    "    llm=llm, embed_model=\"local:BAAI/bge-small-en-v1.5\"\n",
    ")\n",
    "index = VectorStoreIndex.from_documents([document],\n",
    "                                        service_context=service_context)"
   ]
  },
  {
   "cell_type": "code",
   "execution_count": 15,
   "id": "22538c34-e006-4cca-b38f-a29d7d2e199f",
   "metadata": {},
   "outputs": [],
   "source": [
    "query_engine = index.as_query_engine()"
   ]
  },
  {
   "cell_type": "markdown",
   "id": "a7f94b40-76f8-4bf2-8277-06fe86043261",
   "metadata": {},
   "source": [
    "## Query"
   ]
  },
  {
   "cell_type": "code",
   "execution_count": 40,
   "id": "61dd6b6e-a8c9-4b84-8049-00cb0a77d135",
   "metadata": {},
   "outputs": [
    {
     "name": "stdout",
     "output_type": "stream",
     "text": [
      "huggingface/tokenizers: The current process just got forked, after parallelism has already been used. Disabling parallelism to avoid deadlocks...\n",
      "To disable this warning, you can either:\n",
      "\t- Avoid using `tokenizers` before the fork if possible\n",
      "\t- Explicitly set the environment variable TOKENIZERS_PARALLELISM=(true | false)\n",
      "Seaduse eesmärk on reguleerida advokatuuri tegevust, sealhulgas advokaatide kutsealast tegevust, nende kvalifikatsiooni ja liikmelisust advokatuuris ning advokatuuri organite pädevust ja vastutust.\n"
     ]
    }
   ],
   "source": [
    "response = query_engine.query(\n",
    "    \"Mis on seaduse eesmärk? Vasta eesti keeles\"\n",
    ")\n",
    "print(str(response))"
   ]
  },
  {
   "cell_type": "markdown",
   "id": "20f6e562-adc7-4c66-8381-b73d77dd2274",
   "metadata": {},
   "source": [
    "## Eval with TrueLens"
   ]
  },
  {
   "cell_type": "code",
   "execution_count": 16,
   "id": "45b518bf-1f19-4a25-991e-501763254ed2",
   "metadata": {},
   "outputs": [
    {
     "name": "stdout",
     "output_type": "stream",
     "text": [
      "Millega tegeleb advokatuur? Vasta eesti keeles\n",
      "Kuidas saadakse advokaadiks? Vasta eesti keeles\n",
      "Mis vahel on vandeadvokaadil ja vandeadvokaadi abil? Vasta eesti keeles\n",
      "Kes teeb järelevalvet advokaadi üle? Vasta eesti keeles\n",
      "Kuidas tasustatakse advokaadi tööd? Vasta eesti keeles\n",
      "Millised organid on advokatuuris? Vasta eesti keeles\n",
      "Millega tegeleb kutsesobivuskomisjon? Vasta eesti keeles\n",
      "Millised on vandeadvokaadi kohustused? Vasta eesti keeles\n",
      "Miilised asjad peab advokaat saladuses hoidma? Vasta eesti keeles\n"
     ]
    }
   ],
   "source": [
    "eval_questions = []\n",
    "with open('data/eval_questions/advokatuuriseadus_eval_questions.txt', 'r') as file:\n",
    "    for line in file:\n",
    "        # Remove newline character and convert to integer\n",
    "        item = line.strip()\n",
    "        print(item)\n",
    "        eval_questions.append(item)"
   ]
  },
  {
   "cell_type": "code",
   "execution_count": 42,
   "id": "3ffd25e8-d94a-49c1-90be-5828a93757ac",
   "metadata": {},
   "outputs": [],
   "source": [
    "tru = Tru()\n",
    "\n",
    "tru.reset_database()"
   ]
  },
  {
   "cell_type": "code",
   "execution_count": 43,
   "id": "a99bea1a-b433-46ec-a93e-f9e815deb0b5",
   "metadata": {},
   "outputs": [],
   "source": [
    "\n",
    "def get_prebuilt_trulens_recorder(query_engine, app_id):\n",
    "    tru_recorder = TruLlama(\n",
    "        query_engine,\n",
    "        app_id=app_id,\n",
    "        feedbacks=feedbacks\n",
    "        )\n",
    "    return tru_recorder"
   ]
  },
  {
   "cell_type": "code",
   "execution_count": 44,
   "id": "3f3cd93c-26ef-4d7f-9182-c778247cd2b9",
   "metadata": {},
   "outputs": [],
   "source": [
    "tru_recorder = get_prebuilt_trulens_recorder(query_engine,\n",
    "                                             app_id=\"Direct Query Engine\")"
   ]
  },
  {
   "cell_type": "code",
   "execution_count": 45,
   "id": "2a315554-9a7f-46a3-9622-6316f4db184f",
   "metadata": {},
   "outputs": [],
   "source": [
    "with tru_recorder as recording:\n",
    "    for question in eval_questions:\n",
    "        response = query_engine.query(question)"
   ]
  },
  {
   "cell_type": "code",
   "execution_count": 46,
   "id": "5a749224-cbc8-40e2-ad62-9cde81a0a149",
   "metadata": {},
   "outputs": [],
   "source": [
    "records, feedback = tru.get_records_and_feedback(app_ids=[])"
   ]
  },
  {
   "cell_type": "code",
   "execution_count": 53,
   "id": "ccc29dd2-0d9a-4203-aed1-2015859d33cc",
   "metadata": {},
   "outputs": [],
   "source": [
    "df_res=records.copy()"
   ]
  },
  {
   "cell_type": "code",
   "execution_count": 54,
   "id": "8acfae37-516b-4f70-864a-364fe0e0ace5",
   "metadata": {},
   "outputs": [
    {
     "data": {
      "text/plain": [
       "Index(['app_id', 'app_json', 'type', 'record_id', 'input', 'output', 'tags',\n",
       "       'record_json', 'cost_json', 'perf_json', 'ts', 'Answer Relevance',\n",
       "       'Context Relevance', 'Answer Relevance_calls',\n",
       "       'Context Relevance_calls', 'Groundedness', 'Groundedness_calls',\n",
       "       'latency', 'total_tokens', 'total_cost'],\n",
       "      dtype='object')"
      ]
     },
     "execution_count": 54,
     "metadata": {},
     "output_type": "execute_result"
    }
   ],
   "source": [
    "df_res.columns"
   ]
  },
  {
   "cell_type": "code",
   "execution_count": 55,
   "id": "e62a63a2-938f-4378-92ed-b0c7d2131285",
   "metadata": {},
   "outputs": [
    {
     "data": {
      "text/html": [
       "<div>\n",
       "<style scoped>\n",
       "    .dataframe tbody tr th:only-of-type {\n",
       "        vertical-align: middle;\n",
       "    }\n",
       "\n",
       "    .dataframe tbody tr th {\n",
       "        vertical-align: top;\n",
       "    }\n",
       "\n",
       "    .dataframe thead th {\n",
       "        text-align: right;\n",
       "    }\n",
       "</style>\n",
       "<table border=\"1\" class=\"dataframe\">\n",
       "  <thead>\n",
       "    <tr style=\"text-align: right;\">\n",
       "      <th></th>\n",
       "      <th>input</th>\n",
       "      <th>output</th>\n",
       "      <th>Answer Relevance</th>\n",
       "      <th>Context Relevance</th>\n",
       "      <th>Groundedness</th>\n",
       "      <th>total_cost</th>\n",
       "    </tr>\n",
       "  </thead>\n",
       "  <tbody>\n",
       "    <tr>\n",
       "      <th>0</th>\n",
       "      <td>\"Millega tegeleb advokatuur? Vasta eesti keeles\"</td>\n",
       "      <td>\"Advokatuur tegeleb riigi \\u00f5igusabi korraldamise ja osutamisega. Samuti tagab advokatuuri juhatus riigi \\u00f5igusabi katkematu korralduse ja m\\u00f5istliku k\\u00e4ttesaadavuse. Advokatuur tegeleb ka kutsekvalifikatsiooni tunnustamisega v\\u00e4lisriikides tegutsevatele advokaatidele ning vastutab advokaatide tegevuse ja riigi \\u00f5igusabi osutamise arvestuse pidamise eest. Lisaks sellele, advokatuur reguleerib advokaatide tasustamist vastavalt nende teenustele tavap\\u00e4raselt rakendatavale hinnale. Vandeadvokaadid omavad p\\u00e4devust esindada kliente kohtus ja kohtueelses menetluses, koguda t\\u00f5endeid, saada vajalikke andmeid ning osutada erinevaid \\u00f5igusteenuseid vastavalt seadusele.\"</td>\n",
       "      <td>1.0</td>\n",
       "      <td>0.20</td>\n",
       "      <td>NaN</td>\n",
       "      <td>0.003660</td>\n",
       "    </tr>\n",
       "    <tr>\n",
       "      <th>1</th>\n",
       "      <td>\"Kuidas saadakse advokaadiks? Vasta eesti keeles\"</td>\n",
       "      <td>\"Advokaadiks saamiseks tuleb vastata mitmetele n\\u00f5uetele. Esiteks peab isik vastama kohtuniku haridusn\\u00f5uetele v\\u00f5i omama v\\u00e4lisriigis tunnustatud kutsekvalifikatsiooni vastavalt seadusele. Lisaks peab isik valdama eesti keelt nii k\\u00f5nes kui ka kirjas ning omama ausat ja k\\u00f5lbelist k\\u00e4itumist ning vajalikke v\\u00f5imeid ja isiksuseomadusi advokaadit\\u00f6\\u00f6ks. Advokaadiks saamiseks tuleb esitada kirjalik avaldus ja sooritada advokaadieksam. Advokatuuri liikmeks v\\u00f5etakse vastu juhatuse otsusega.\"</td>\n",
       "      <td>1.0</td>\n",
       "      <td>0.85</td>\n",
       "      <td>1.0</td>\n",
       "      <td>0.003489</td>\n",
       "    </tr>\n",
       "    <tr>\n",
       "      <th>2</th>\n",
       "      <td>\"Mis vahel on vandeadvokaadil ja vandeadvokaadi abil? Vasta eesti keeles\"</td>\n",
       "      <td>\"Vandeadvokaadil ja vandeadvokaadi abil on erinevused. Vandeadvokaadiks v\\u00f5ib saada advokatuuri liige, kes on sooritanud vandeadvokaadieksami ja tegutsenud v\\u00e4hemalt kolm aastat vandeadvokaadi abina. Vandeadvokaadi abi on isik, kes on sooritanud vandeadvokaadi abi eksami ja tegutseb patrooni juhtimisel.\"</td>\n",
       "      <td>1.0</td>\n",
       "      <td>0.00</td>\n",
       "      <td>0.5</td>\n",
       "      <td>0.003307</td>\n",
       "    </tr>\n",
       "    <tr>\n",
       "      <th>3</th>\n",
       "      <td>\"Kes teeb j\\u00e4relevalvet advokaadi \\u00fcle? Vasta eesti keeles\"</td>\n",
       "      <td>\"J\\u00e4relevalvet advokaadi \\u00fcle teeb advokatuur.\"</td>\n",
       "      <td>1.0</td>\n",
       "      <td>0.90</td>\n",
       "      <td>0.0</td>\n",
       "      <td>0.003156</td>\n",
       "    </tr>\n",
       "    <tr>\n",
       "      <th>4</th>\n",
       "      <td>\"Kuidas tasustatakse advokaadi t\\u00f6\\u00f6d? Vasta eesti keeles\"</td>\n",
       "      <td>\"Advokaadi t\\u00f6\\u00f6d tasustatakse vastavalt kokkuleppele tema klientidega. Tasu suurus v\\u00f5ib s\\u00f5ltuda mitmest tegurist, sealhulgas advokaadi kogemusest, t\\u00f6\\u00f6mahust, keerukusest ja ajakulust. Advokaadid v\\u00f5ivad kasutada erinevaid tasustamismudeleid, sealhulgas tunditasu, projektip\\u00f5hist tasu v\\u00f5i edukustasu. Tasu suuruse ja tasustamismudeli lepivad advokaat ja klient tavaliselt omavahel kokku enne t\\u00f6\\u00f6 alustamist.\"</td>\n",
       "      <td>1.0</td>\n",
       "      <td>0.00</td>\n",
       "      <td>0.0</td>\n",
       "      <td>0.003481</td>\n",
       "    </tr>\n",
       "    <tr>\n",
       "      <th>5</th>\n",
       "      <td>\"Millised organid on advokatuuris? Vasta eesti keeles\"</td>\n",
       "      <td>\"Advokatuuris on mitmeid organeid, sealhulgas advokatuuri juhatus, aukohus ja advokatuuri organid, mis moodustatakse vastavalt seadusele. Advokatuuri organite \\u00fclesanne on tagada advokatuuri tegevuse korraldamine ja \\u00f5igusaktide t\\u00e4itmine.\"</td>\n",
       "      <td>1.0</td>\n",
       "      <td>0.10</td>\n",
       "      <td>1.0</td>\n",
       "      <td>0.003323</td>\n",
       "    </tr>\n",
       "    <tr>\n",
       "      <th>6</th>\n",
       "      <td>\"Millega tegeleb kutsesobivuskomisjon? Vasta eesti keeles\"</td>\n",
       "      <td>\"Kutsesobivuskomisjon tegeleb advokaatide hindamisega ja nende kutsesobivuse kontrollimisega.\"</td>\n",
       "      <td>0.9</td>\n",
       "      <td>0.50</td>\n",
       "      <td>1.0</td>\n",
       "      <td>0.003247</td>\n",
       "    </tr>\n",
       "    <tr>\n",
       "      <th>7</th>\n",
       "      <td>\"Millised on vandeadvokaadi kohustused? Vasta eesti keeles\"</td>\n",
       "      <td>\"Vandeadvokaadi kohustused h\\u00f5lmavad j\\u00e4rgmist:\\n1. \\u00d5igusabi osutamine: Vandeadvokaat peab pakkuma \\u00f5igusabi ja esindama kliente kohtus ning muudes \\u00f5iguslikes k\\u00fcsimustes.\\n2. Klientide huvide kaitsmine: Vandeadvokaat peab tagama klientide huvide kaitsmise ja tegutsema nende parimates huvides.\\n3. \\u00d5igusn\\u00f5ustamine: Vandeadvokaat peab andma klientidele \\u00f5igusn\\u00f5u erinevates \\u00f5igusvaldkondades.\\n4. Kohtumenetluses esindamine: Vandeadvokaat esindab kliente kohtumenetlustes ning koostab ja esitab nende nimel \\u00f5igusdokumente.\\n5. Lepingu koostamine: Vandeadvokaat aitab klientidel lepinguid koostada ja l\\u00e4bi vaadata, tagades nende \\u00f5igusliku kehtivuse ja kaitse.\\n6. Vaidluste lahendamine: Vandeadvokaat aitab klientidel lahendada \\u00f5iguslikke vaidlusi l\\u00e4bir\\u00e4\\u00e4kimiste, vahenduse v\\u00f5i kohtumenetluse kaudu.\\n7. Eetikakoodeksi j\\u00e4rgimine: Vandeadvokaat peab j\\u00e4rgima advokaadieetikat ja professionaalseid standardeid.\\n8. Klientide konfidentsiaalsuse tagamine: Vandeadvokaat peab hoidma klientide teavet konfidentsiaalsena ja austama advokaadi kliendisaladust.\\nNeed on m\\u00f5ned peamised kohustused, mis on seotud vandeadvokaadi ametiga.\"</td>\n",
       "      <td>1.0</td>\n",
       "      <td>0.00</td>\n",
       "      <td>NaN</td>\n",
       "      <td>0.003880</td>\n",
       "    </tr>\n",
       "    <tr>\n",
       "      <th>8</th>\n",
       "      <td>\"Miilised asjad peab advokaat saladuses hoidma? Vasta eesti keeles\"</td>\n",
       "      <td>\"Advokaat peab saladuses hoidma j\\u00e4relevalve k\\u00e4igus teatavaks saanud andmeid, mis on seadusega kaitstud.\"</td>\n",
       "      <td>1.0</td>\n",
       "      <td>0.50</td>\n",
       "      <td>NaN</td>\n",
       "      <td>0.003258</td>\n",
       "    </tr>\n",
       "  </tbody>\n",
       "</table>\n",
       "</div>"
      ],
      "text/plain": [
       "                                                                       input  \\\n",
       "0  \"Millega tegeleb advokatuur? Vasta eesti keeles\"                            \n",
       "1  \"Kuidas saadakse advokaadiks? Vasta eesti keeles\"                           \n",
       "2  \"Mis vahel on vandeadvokaadil ja vandeadvokaadi abil? Vasta eesti keeles\"   \n",
       "3  \"Kes teeb j\\u00e4relevalvet advokaadi \\u00fcle? Vasta eesti keeles\"         \n",
       "4  \"Kuidas tasustatakse advokaadi t\\u00f6\\u00f6d? Vasta eesti keeles\"          \n",
       "5  \"Millised organid on advokatuuris? Vasta eesti keeles\"                      \n",
       "6  \"Millega tegeleb kutsesobivuskomisjon? Vasta eesti keeles\"                  \n",
       "7  \"Millised on vandeadvokaadi kohustused? Vasta eesti keeles\"                 \n",
       "8  \"Miilised asjad peab advokaat saladuses hoidma? Vasta eesti keeles\"         \n",
       "\n",
       "                                                                                                                                                                                                                                                                                                                                                                                                                                                                                                                                                                                                                                                                                                                                                                                                                                                                                                                                                                                                                                                                                                                                                                                                                                                                          output  \\\n",
       "0  \"Advokatuur tegeleb riigi \\u00f5igusabi korraldamise ja osutamisega. Samuti tagab advokatuuri juhatus riigi \\u00f5igusabi katkematu korralduse ja m\\u00f5istliku k\\u00e4ttesaadavuse. Advokatuur tegeleb ka kutsekvalifikatsiooni tunnustamisega v\\u00e4lisriikides tegutsevatele advokaatidele ning vastutab advokaatide tegevuse ja riigi \\u00f5igusabi osutamise arvestuse pidamise eest. Lisaks sellele, advokatuur reguleerib advokaatide tasustamist vastavalt nende teenustele tavap\\u00e4raselt rakendatavale hinnale. Vandeadvokaadid omavad p\\u00e4devust esindada kliente kohtus ja kohtueelses menetluses, koguda t\\u00f5endeid, saada vajalikke andmeid ning osutada erinevaid \\u00f5igusteenuseid vastavalt seadusele.\"                                                                                                                                                                                                                                                                                                                                                                                                                                                                                                                                           \n",
       "1  \"Advokaadiks saamiseks tuleb vastata mitmetele n\\u00f5uetele. Esiteks peab isik vastama kohtuniku haridusn\\u00f5uetele v\\u00f5i omama v\\u00e4lisriigis tunnustatud kutsekvalifikatsiooni vastavalt seadusele. Lisaks peab isik valdama eesti keelt nii k\\u00f5nes kui ka kirjas ning omama ausat ja k\\u00f5lbelist k\\u00e4itumist ning vajalikke v\\u00f5imeid ja isiksuseomadusi advokaadit\\u00f6\\u00f6ks. Advokaadiks saamiseks tuleb esitada kirjalik avaldus ja sooritada advokaadieksam. Advokatuuri liikmeks v\\u00f5etakse vastu juhatuse otsusega.\"                                                                                                                                                                                                                                                                                                                                                                                                                                                                                                                                                                                                                                                                                                                       \n",
       "2  \"Vandeadvokaadil ja vandeadvokaadi abil on erinevused. Vandeadvokaadiks v\\u00f5ib saada advokatuuri liige, kes on sooritanud vandeadvokaadieksami ja tegutsenud v\\u00e4hemalt kolm aastat vandeadvokaadi abina. Vandeadvokaadi abi on isik, kes on sooritanud vandeadvokaadi abi eksami ja tegutseb patrooni juhtimisel.\"                                                                                                                                                                                                                                                                                                                                                                                                                                                                                                                                                                                                                                                                                                                                                                                                                                                                                                                                                       \n",
       "3  \"J\\u00e4relevalvet advokaadi \\u00fcle teeb advokatuur.\"                                                                                                                                                                                                                                                                                                                                                                                                                                                                                                                                                                                                                                                                                                                                                                                                                                                                                                                                                                                                                                                                                                                                                                                                                         \n",
       "4  \"Advokaadi t\\u00f6\\u00f6d tasustatakse vastavalt kokkuleppele tema klientidega. Tasu suurus v\\u00f5ib s\\u00f5ltuda mitmest tegurist, sealhulgas advokaadi kogemusest, t\\u00f6\\u00f6mahust, keerukusest ja ajakulust. Advokaadid v\\u00f5ivad kasutada erinevaid tasustamismudeleid, sealhulgas tunditasu, projektip\\u00f5hist tasu v\\u00f5i edukustasu. Tasu suuruse ja tasustamismudeli lepivad advokaat ja klient tavaliselt omavahel kokku enne t\\u00f6\\u00f6 alustamist.\"                                                                                                                                                                                                                                                                                                                                                                                                                                                                                                                                                                                                                                                                                                                                                                                                    \n",
       "5  \"Advokatuuris on mitmeid organeid, sealhulgas advokatuuri juhatus, aukohus ja advokatuuri organid, mis moodustatakse vastavalt seadusele. Advokatuuri organite \\u00fclesanne on tagada advokatuuri tegevuse korraldamine ja \\u00f5igusaktide t\\u00e4itmine.\"                                                                                                                                                                                                                                                                                                                                                                                                                                                                                                                                                                                                                                                                                                                                                                                                                                                                                                                                                                                                                    \n",
       "6  \"Kutsesobivuskomisjon tegeleb advokaatide hindamisega ja nende kutsesobivuse kontrollimisega.\"                                                                                                                                                                                                                                                                                                                                                                                                                                                                                                                                                                                                                                                                                                                                                                                                                                                                                                                                                                                                                                                                                                                                                                                  \n",
       "7  \"Vandeadvokaadi kohustused h\\u00f5lmavad j\\u00e4rgmist:\\n1. \\u00d5igusabi osutamine: Vandeadvokaat peab pakkuma \\u00f5igusabi ja esindama kliente kohtus ning muudes \\u00f5iguslikes k\\u00fcsimustes.\\n2. Klientide huvide kaitsmine: Vandeadvokaat peab tagama klientide huvide kaitsmise ja tegutsema nende parimates huvides.\\n3. \\u00d5igusn\\u00f5ustamine: Vandeadvokaat peab andma klientidele \\u00f5igusn\\u00f5u erinevates \\u00f5igusvaldkondades.\\n4. Kohtumenetluses esindamine: Vandeadvokaat esindab kliente kohtumenetlustes ning koostab ja esitab nende nimel \\u00f5igusdokumente.\\n5. Lepingu koostamine: Vandeadvokaat aitab klientidel lepinguid koostada ja l\\u00e4bi vaadata, tagades nende \\u00f5igusliku kehtivuse ja kaitse.\\n6. Vaidluste lahendamine: Vandeadvokaat aitab klientidel lahendada \\u00f5iguslikke vaidlusi l\\u00e4bir\\u00e4\\u00e4kimiste, vahenduse v\\u00f5i kohtumenetluse kaudu.\\n7. Eetikakoodeksi j\\u00e4rgimine: Vandeadvokaat peab j\\u00e4rgima advokaadieetikat ja professionaalseid standardeid.\\n8. Klientide konfidentsiaalsuse tagamine: Vandeadvokaat peab hoidma klientide teavet konfidentsiaalsena ja austama advokaadi kliendisaladust.\\nNeed on m\\u00f5ned peamised kohustused, mis on seotud vandeadvokaadi ametiga.\"   \n",
       "8  \"Advokaat peab saladuses hoidma j\\u00e4relevalve k\\u00e4igus teatavaks saanud andmeid, mis on seadusega kaitstud.\"                                                                                                                                                                                                                                                                                                                                                                                                                                                                                                                                                                                                                                                                                                                                                                                                                                                                                                                                                                                                                                                                                                                                                              \n",
       "\n",
       "   Answer Relevance  Context Relevance  Groundedness  total_cost  \n",
       "0  1.0               0.20              NaN            0.003660    \n",
       "1  1.0               0.85               1.0           0.003489    \n",
       "2  1.0               0.00               0.5           0.003307    \n",
       "3  1.0               0.90               0.0           0.003156    \n",
       "4  1.0               0.00               0.0           0.003481    \n",
       "5  1.0               0.10               1.0           0.003323    \n",
       "6  0.9               0.50               1.0           0.003247    \n",
       "7  1.0               0.00              NaN            0.003880    \n",
       "8  1.0               0.50              NaN            0.003258    "
      ]
     },
     "execution_count": 55,
     "metadata": {},
     "output_type": "execute_result"
    }
   ],
   "source": [
    "df_res[['input','output','Answer Relevance',\n",
    "       'Context Relevance', 'Groundedness', 'total_cost']]"
   ]
  },
  {
   "cell_type": "code",
   "execution_count": 56,
   "id": "384b165d-9331-4ddd-92bb-37ae2a61e3ad",
   "metadata": {},
   "outputs": [
    {
     "data": {
      "text/plain": [
       "<AxesSubplot:>"
      ]
     },
     "execution_count": 56,
     "metadata": {},
     "output_type": "execute_result"
    },
    {
     "data": {
      "image/png": "[encoded data removed]",
      "text/plain": [
       "<Figure size 432x288 with 1 Axes>"
      ]
     },
     "metadata": {
      "needs_background": "light"
     },
     "output_type": "display_data"
    }
   ],
   "source": [
    "df_res[['Answer Relevance',\n",
    "       'Context Relevance', 'Groundedness']].mean().plot(kind='barh')"
   ]
  },
  {
   "cell_type": "code",
   "execution_count": 57,
   "id": "56033f60-75b1-445c-8816-ed879b70a7cd",
   "metadata": {},
   "outputs": [
    {
     "data": {
      "text/plain": [
       "0.0308"
      ]
     },
     "execution_count": 57,
     "metadata": {},
     "output_type": "execute_result"
    }
   ],
   "source": [
    "df_res.total_cost.sum()"
   ]
  },
  {
   "cell_type": "code",
   "execution_count": 27,
   "id": "03735aa7-fd29-4fd9-a578-50ef64314fb7",
   "metadata": {},
   "outputs": [
    {
     "name": "stdout",
     "output_type": "stream",
     "text": [
      "Starting dashboard ...\n",
      "huggingface/tokenizers: The current process just got forked, after parallelism has already been used. Disabling parallelism to avoid deadlocks...\n",
      "To disable this warning, you can either:\n",
      "\t- Avoid using `tokenizers` before the fork if possible\n",
      "\t- Explicitly set the environment variable TOKENIZERS_PARALLELISM=(true | false)\n"
     ]
    },
    {
     "data": {
      "application/vnd.jupyter.widget-view+json": {
       "model_id": "d8ff2153caa54e39bdc89ca50a23e195",
       "version_major": 2,
       "version_minor": 0
      },
      "text/plain": [
       "Accordion(children=(VBox(children=(VBox(children=(Label(value='STDOUT'), Output())), VBox(children=(Label(valu…"
      ]
     },
     "metadata": {},
     "output_type": "display_data"
    },
    {
     "name": "stdout",
     "output_type": "stream",
     "text": [
      "Dashboard started at http://10.38.173.10:8501 .\n"
     ]
    },
    {
     "data": {
      "text/plain": [
       "<Popen: returncode: None args: ['streamlit', 'run', '--server.headless=True'...>"
      ]
     },
     "execution_count": 27,
     "metadata": {},
     "output_type": "execute_result"
    }
   ],
   "source": [
    "# launches on http://localhost:8501/\n",
    "tru.run_dashboard()"
   ]
  },
  {
   "cell_type": "markdown",
   "id": "20358a31-9165-4820-9b52-c9c7ccd83d0c",
   "metadata": {},
   "source": [
    "## Sentece window retrieval"
   ]
  },
  {
   "cell_type": "code",
   "execution_count": 34,
   "id": "5272c2cd-3058-44ba-a707-c88729c4b73b",
   "metadata": {},
   "outputs": [],
   "source": [
    "sentence_index = build_sentence_window_index(\n",
    "    document,\n",
    "    llm,\n",
    "    embed_model=\"local:BAAI/bge-small-en-v1.5\",\n",
    "    save_dir=\"sentence_index\"\n",
    ")\n",
    "\n",
    "sentence_window_engine = get_sentence_window_query_engine(sentence_index)"
   ]
  },
  {
   "cell_type": "code",
   "execution_count": 35,
   "id": "c4c598f7-6896-4798-b558-1c04c1edd5bc",
   "metadata": {},
   "outputs": [],
   "source": [
    "tru = Tru()\n",
    "\n",
    "tru.reset_database()\n",
    "\n",
    "tru_recorder_sentence_window = get_prebuilt_trulens_recorder(\n",
    "    sentence_window_engine,\n",
    "    app_id = \"Sentence Window Query Engine\"\n",
    ")"
   ]
  },
  {
   "cell_type": "code",
   "execution_count": 36,
   "id": "f796bf7e-d42e-43b8-b6ff-cd73df275d73",
   "metadata": {},
   "outputs": [
    {
     "name": "stdout",
     "output_type": "stream",
     "text": [
      "huggingface/tokenizers: The current process just got forked, after parallelism has already been used. Disabling parallelism to avoid deadlocks...\n",
      "To disable this warning, you can either:\n",
      "\t- Avoid using `tokenizers` before the fork if possible\n",
      "\t- Explicitly set the environment variable TOKENIZERS_PARALLELISM=(true | false)\n",
      "Millega tegeleb advokatuur? Vasta eesti keeles\n",
      "Advokatuur tegeleb advokaatide kutsetegevuse korraldamisega, sealhulgas riigi õigusabi osutamise korraldamisega, advokatuuri liikmeks vastuvõtmise tingimuste ja nõuete kehtestamisega, advokatuuri liikmete tegevuse järelevalvega ning advokatuuri liikmetele nimetuste ja emeriitadvokaadi staatuse andmisega.\n",
      "Kuidas saadakse advokaadiks? Vasta eesti keeles\n",
      "Advokaadiks saamiseks tuleb sooritada advokaadieksamid, mis koosnevad vandeadvokaadi abi eksamist ja vandeadvokaadieksamist. Advokaadieksam korraldatakse vajaduse järgi, kuid vähemalt üks kord aastas. Eksami toimumise aja ja koha määrab kutsesobivuskomisjon. Advokaadieksam võib koosneda suulisest ja kirjalikust osast ning selle täpsem korraldus on sätestatud advokatuuri kodukorras.\n",
      "Mis vahel on vandeadvokaadil ja vandeadvokaadi abil? Vasta eesti keeles\n",
      "Vandeadvokaat on isik, kes on läbinud advokatuuri juhatuse poolt määratud protsessi, saanud vandeadvokaadi kutsenimetuse ja andnud vandeadvokaadivande. Vandeadvokaadi abi on tavaliselt vandeadvokaadi poolt palgatud isik, kes aitab vandeadvokaati tema igapäevatöös, kuid ei oma vandeadvokaadi staatust ega ole andnud vandeadvokaadivannet. Vandeadvokaadi abi ei pruugi olla läbinud sama kvalifikatsiooni ja kutseeksameid, mis on nõutud vandeadvokaadiks saamiseks.\n",
      "Kes teeb järelevalvet advokaadi üle? Vasta eesti keeles\n",
      "Advokaadi tegevuse järele valvab advokatuuri juhatus.\n",
      "Kuidas tasustatakse advokaadi tööd? Vasta eesti keeles\n",
      "Advokaadi töö tasustamise kohta antud kontekstis otseselt informatsiooni ei ole. Kontekstis on juttu advokaadieksamist ja tasust, kuid see viitab eksami sooritamise tasule, mitte advokaadi töö tasustamisele. Advokaadi töö tasustamise kohta tuleks vaadata teisi seaduse sätteid või advokaadibüroo kehtestatud tasustamispõhimõtteid.\n",
      "Millised organid on advokatuuris? Vasta eesti keeles\n",
      "Advokatuuri organid on üldkogu, juhatus, esimees, revisjonikomisjon, aukohus ja kutsesobivuskomisjon.\n",
      "Millega tegeleb kutsesobivuskomisjon? Vasta eesti keeles\n",
      "Kutsesobivuskomisjon tegeleb järgmiste ülesannetega:\n",
      "\n",
      "1) Eksamineerib advokatuuri astuda soovijaid ja advokaadikutse taotlejaid.\n",
      "2) Viib läbi sobivustesti välisriigis omandatud kutsekvalifikatsiooni kohta.\n",
      "3) Hindab perioodiliselt või juhatuse ülesandel advokaatide kutsesobivust.\n",
      "4) Viib läbi vestluse isikuga, kes on esitanud avalduse astuda advokatuuri liikmeks.\n",
      "Millised on vandeadvokaadi kohustused? Vasta eesti keeles\n",
      "Vandeadvokaadi kohustused hõlmavad Eesti Vabariigi põhiseaduslikule korrale ustavaks jäämist ning kõikide ülesannete täitmist, milleks vandeadvokaadikutse teda kohustab.\n",
      "Miilised asjad peab advokaat saladuses hoidma? Vasta eesti keeles\n",
      "Advokaat peab saladuses hoidma talle õigusteenust osutades teatavaks saanud andmeid, tema poole õigusteenuse saamiseks pöördumist ja õigusteenuse eest makstud tasu suurust. Kohustus ei ole ajaliselt piiratud ja kehtib ka pärast advokaaditegevuse lõppemist. Kohustus kehtib ka advokaadibüroo töötaja ja advokatuuri töötaja kohta ning selle avaliku teenistuja kohta, kellele on advokaadi kutsesaladus teatavaks saanud teenistuskohustusi täites.\n"
     ]
    }
   ],
   "source": [
    "for question in eval_questions:\n",
    "    with tru_recorder_sentence_window as recording:\n",
    "        response = sentence_window_engine.query(question)\n",
    "        print(question)\n",
    "        print(str(response))"
   ]
  },
  {
   "cell_type": "code",
   "execution_count": 37,
   "id": "694f74d4-5f37-4021-b6b6-c2a432479873",
   "metadata": {},
   "outputs": [],
   "source": [
    "records, feedback = tru.get_records_and_feedback(app_ids=[])"
   ]
  },
  {
   "cell_type": "code",
   "execution_count": 41,
   "id": "6bf90e1b-ef57-4d0c-bfb5-f4e368e071b2",
   "metadata": {},
   "outputs": [],
   "source": [
    "df_res_sent_wind=records.copy()"
   ]
  },
  {
   "cell_type": "code",
   "execution_count": 42,
   "id": "40e61459-af71-4077-8972-9a0ab3ca1f30",
   "metadata": {},
   "outputs": [
    {
     "data": {
      "text/html": [
       "<div>\n",
       "<style scoped>\n",
       "    .dataframe tbody tr th:only-of-type {\n",
       "        vertical-align: middle;\n",
       "    }\n",
       "\n",
       "    .dataframe tbody tr th {\n",
       "        vertical-align: top;\n",
       "    }\n",
       "\n",
       "    .dataframe thead th {\n",
       "        text-align: right;\n",
       "    }\n",
       "</style>\n",
       "<table border=\"1\" class=\"dataframe\">\n",
       "  <thead>\n",
       "    <tr style=\"text-align: right;\">\n",
       "      <th></th>\n",
       "      <th>input</th>\n",
       "      <th>output</th>\n",
       "      <th>Answer Relevance</th>\n",
       "      <th>Context Relevance</th>\n",
       "      <th>Groundedness</th>\n",
       "      <th>total_cost</th>\n",
       "    </tr>\n",
       "  </thead>\n",
       "  <tbody>\n",
       "    <tr>\n",
       "      <th>0</th>\n",
       "      <td>\"Millega tegeleb advokatuur? Vasta eesti keeles\"</td>\n",
       "      <td>\"Advokatuur tegeleb advokaatide kutsetegevuse korraldamisega, sealhulgas riigi \\u00f5igusabi osutamise korraldamisega, advokatuuri liikmeks vastuv\\u00f5tmise tingimuste ja n\\u00f5uete kehtestamisega, advokatuuri liikmete tegevuse j\\u00e4relevalvega ning advokatuuri liikmetele nimetuste ja emeriitadvokaadi staatuse andmisega.\"</td>\n",
       "      <td>1.0</td>\n",
       "      <td>0.1</td>\n",
       "      <td>0.600000</td>\n",
       "      <td>0.01090</td>\n",
       "    </tr>\n",
       "    <tr>\n",
       "      <th>1</th>\n",
       "      <td>\"Kuidas saadakse advokaadiks? Vasta eesti keeles\"</td>\n",
       "      <td>\"Advokaadiks saamiseks tuleb sooritada advokaadieksamid, mis koosnevad vandeadvokaadi abi eksamist ja vandeadvokaadieksamist. Advokaadieksam korraldatakse vajaduse j\\u00e4rgi, kuid v\\u00e4hemalt \\u00fcks kord aastas. Eksami toimumise aja ja koha m\\u00e4\\u00e4rab kutsesobivuskomisjon. Advokaadieksam v\\u00f5ib koosneda suulisest ja kirjalikust osast ning selle t\\u00e4psem korraldus on s\\u00e4testatud advokatuuri kodukorras.\"</td>\n",
       "      <td>1.0</td>\n",
       "      <td>0.4</td>\n",
       "      <td>0.800000</td>\n",
       "      <td>0.01003</td>\n",
       "    </tr>\n",
       "    <tr>\n",
       "      <th>2</th>\n",
       "      <td>\"Mis vahel on vandeadvokaadil ja vandeadvokaadi abil? Vasta eesti keeles\"</td>\n",
       "      <td>\"Vandeadvokaat on isik, kes on l\\u00e4binud advokatuuri juhatuse poolt m\\u00e4\\u00e4ratud protsessi, saanud vandeadvokaadi kutsenimetuse ja andnud vandeadvokaadivande. Vandeadvokaadi abi on tavaliselt vandeadvokaadi poolt palgatud isik, kes aitab vandeadvokaati tema igap\\u00e4evat\\u00f6\\u00f6s, kuid ei oma vandeadvokaadi staatust ega ole andnud vandeadvokaadivannet. Vandeadvokaadi abi ei pruugi olla l\\u00e4binud sama kvalifikatsiooni ja kutseeksameid, mis on n\\u00f5utud vandeadvokaadiks saamiseks.\"</td>\n",
       "      <td>1.0</td>\n",
       "      <td>0.0</td>\n",
       "      <td>0.333333</td>\n",
       "      <td>0.01253</td>\n",
       "    </tr>\n",
       "    <tr>\n",
       "      <th>3</th>\n",
       "      <td>\"Kes teeb j\\u00e4relevalvet advokaadi \\u00fcle? Vasta eesti keeles\"</td>\n",
       "      <td>\"Advokaadi tegevuse j\\u00e4rele valvab advokatuuri juhatus.\"</td>\n",
       "      <td>1.0</td>\n",
       "      <td>0.5</td>\n",
       "      <td>1.000000</td>\n",
       "      <td>0.00854</td>\n",
       "    </tr>\n",
       "    <tr>\n",
       "      <th>4</th>\n",
       "      <td>\"Kuidas tasustatakse advokaadi t\\u00f6\\u00f6d? Vasta eesti keeles\"</td>\n",
       "      <td>\"Advokaadi t\\u00f6\\u00f6 tasustamise kohta antud kontekstis otseselt informatsiooni ei ole. Kontekstis on juttu advokaadieksamist ja tasust, kuid see viitab eksami sooritamise tasule, mitte advokaadi t\\u00f6\\u00f6 tasustamisele. Advokaadi t\\u00f6\\u00f6 tasustamise kohta tuleks vaadata teisi seaduse s\\u00e4tteid v\\u00f5i advokaadib\\u00fcroo kehtestatud tasustamisp\\u00f5him\\u00f5tteid.\"</td>\n",
       "      <td>0.4</td>\n",
       "      <td>0.0</td>\n",
       "      <td>0.000000</td>\n",
       "      <td>0.01002</td>\n",
       "    </tr>\n",
       "    <tr>\n",
       "      <th>5</th>\n",
       "      <td>\"Millised organid on advokatuuris? Vasta eesti keeles\"</td>\n",
       "      <td>\"Advokatuuri organid on \\u00fcldkogu, juhatus, esimees, revisjonikomisjon, aukohus ja kutsesobivuskomisjon.\"</td>\n",
       "      <td>1.0</td>\n",
       "      <td>1.0</td>\n",
       "      <td>1.000000</td>\n",
       "      <td>0.00570</td>\n",
       "    </tr>\n",
       "    <tr>\n",
       "      <th>6</th>\n",
       "      <td>\"Millega tegeleb kutsesobivuskomisjon? Vasta eesti keeles\"</td>\n",
       "      <td>\"Kutsesobivuskomisjon tegeleb j\\u00e4rgmiste \\u00fclesannetega:\\n\\n1) Eksamineerib advokatuuri astuda soovijaid ja advokaadikutse taotlejaid.\\n2) Viib l\\u00e4bi sobivustesti v\\u00e4lisriigis omandatud kutsekvalifikatsiooni kohta.\\n3) Hindab perioodiliselt v\\u00f5i juhatuse \\u00fclesandel advokaatide kutsesobivust.\\n4) Viib l\\u00e4bi vestluse isikuga, kes on esitanud avalduse astuda advokatuuri liikmeks.\"</td>\n",
       "      <td>1.0</td>\n",
       "      <td>0.5</td>\n",
       "      <td>NaN</td>\n",
       "      <td>0.01268</td>\n",
       "    </tr>\n",
       "    <tr>\n",
       "      <th>7</th>\n",
       "      <td>\"Millised on vandeadvokaadi kohustused? Vasta eesti keeles\"</td>\n",
       "      <td>\"Vandeadvokaadi kohustused h\\u00f5lmavad Eesti Vabariigi p\\u00f5hiseaduslikule korrale ustavaks j\\u00e4\\u00e4mist ning k\\u00f5ikide \\u00fclesannete t\\u00e4itmist, milleks vandeadvokaadikutse teda kohustab.\"</td>\n",
       "      <td>1.0</td>\n",
       "      <td>0.1</td>\n",
       "      <td>NaN</td>\n",
       "      <td>0.00728</td>\n",
       "    </tr>\n",
       "    <tr>\n",
       "      <th>8</th>\n",
       "      <td>\"Miilised asjad peab advokaat saladuses hoidma? Vasta eesti keeles\"</td>\n",
       "      <td>\"Advokaat peab saladuses hoidma talle \\u00f5igusteenust osutades teatavaks saanud andmeid, tema poole \\u00f5igusteenuse saamiseks p\\u00f6\\u00f6rdumist ja \\u00f5igusteenuse eest makstud tasu suurust. Kohustus ei ole ajaliselt piiratud ja kehtib ka p\\u00e4rast advokaaditegevuse l\\u00f5ppemist. Kohustus kehtib ka advokaadib\\u00fcroo t\\u00f6\\u00f6taja ja advokatuuri t\\u00f6\\u00f6taja kohta ning selle avaliku teenistuja kohta, kellele on advokaadi kutsesaladus teatavaks saanud teenistuskohustusi t\\u00e4ites.\"</td>\n",
       "      <td>NaN</td>\n",
       "      <td>NaN</td>\n",
       "      <td>NaN</td>\n",
       "      <td>0.01200</td>\n",
       "    </tr>\n",
       "  </tbody>\n",
       "</table>\n",
       "</div>"
      ],
      "text/plain": [
       "                                                                       input  \\\n",
       "0  \"Millega tegeleb advokatuur? Vasta eesti keeles\"                            \n",
       "1  \"Kuidas saadakse advokaadiks? Vasta eesti keeles\"                           \n",
       "2  \"Mis vahel on vandeadvokaadil ja vandeadvokaadi abil? Vasta eesti keeles\"   \n",
       "3  \"Kes teeb j\\u00e4relevalvet advokaadi \\u00fcle? Vasta eesti keeles\"         \n",
       "4  \"Kuidas tasustatakse advokaadi t\\u00f6\\u00f6d? Vasta eesti keeles\"          \n",
       "5  \"Millised organid on advokatuuris? Vasta eesti keeles\"                      \n",
       "6  \"Millega tegeleb kutsesobivuskomisjon? Vasta eesti keeles\"                  \n",
       "7  \"Millised on vandeadvokaadi kohustused? Vasta eesti keeles\"                 \n",
       "8  \"Miilised asjad peab advokaat saladuses hoidma? Vasta eesti keeles\"         \n",
       "\n",
       "                                                                                                                                                                                                                                                                                                                                                                                                                                                                                                                          output  \\\n",
       "0  \"Advokatuur tegeleb advokaatide kutsetegevuse korraldamisega, sealhulgas riigi \\u00f5igusabi osutamise korraldamisega, advokatuuri liikmeks vastuv\\u00f5tmise tingimuste ja n\\u00f5uete kehtestamisega, advokatuuri liikmete tegevuse j\\u00e4relevalvega ning advokatuuri liikmetele nimetuste ja emeriitadvokaadi staatuse andmisega.\"                                                                                                                                                                                         \n",
       "1  \"Advokaadiks saamiseks tuleb sooritada advokaadieksamid, mis koosnevad vandeadvokaadi abi eksamist ja vandeadvokaadieksamist. Advokaadieksam korraldatakse vajaduse j\\u00e4rgi, kuid v\\u00e4hemalt \\u00fcks kord aastas. Eksami toimumise aja ja koha m\\u00e4\\u00e4rab kutsesobivuskomisjon. Advokaadieksam v\\u00f5ib koosneda suulisest ja kirjalikust osast ning selle t\\u00e4psem korraldus on s\\u00e4testatud advokatuuri kodukorras.\"                                                                                      \n",
       "2  \"Vandeadvokaat on isik, kes on l\\u00e4binud advokatuuri juhatuse poolt m\\u00e4\\u00e4ratud protsessi, saanud vandeadvokaadi kutsenimetuse ja andnud vandeadvokaadivande. Vandeadvokaadi abi on tavaliselt vandeadvokaadi poolt palgatud isik, kes aitab vandeadvokaati tema igap\\u00e4evat\\u00f6\\u00f6s, kuid ei oma vandeadvokaadi staatust ega ole andnud vandeadvokaadivannet. Vandeadvokaadi abi ei pruugi olla l\\u00e4binud sama kvalifikatsiooni ja kutseeksameid, mis on n\\u00f5utud vandeadvokaadiks saamiseks.\"         \n",
       "3  \"Advokaadi tegevuse j\\u00e4rele valvab advokatuuri juhatus.\"                                                                                                                                                                                                                                                                                                                                                                                                                                                                    \n",
       "4  \"Advokaadi t\\u00f6\\u00f6 tasustamise kohta antud kontekstis otseselt informatsiooni ei ole. Kontekstis on juttu advokaadieksamist ja tasust, kuid see viitab eksami sooritamise tasule, mitte advokaadi t\\u00f6\\u00f6 tasustamisele. Advokaadi t\\u00f6\\u00f6 tasustamise kohta tuleks vaadata teisi seaduse s\\u00e4tteid v\\u00f5i advokaadib\\u00fcroo kehtestatud tasustamisp\\u00f5him\\u00f5tteid.\"                                                                                                                             \n",
       "5  \"Advokatuuri organid on \\u00fcldkogu, juhatus, esimees, revisjonikomisjon, aukohus ja kutsesobivuskomisjon.\"                                                                                                                                                                                                                                                                                                                                                                                                                    \n",
       "6  \"Kutsesobivuskomisjon tegeleb j\\u00e4rgmiste \\u00fclesannetega:\\n\\n1) Eksamineerib advokatuuri astuda soovijaid ja advokaadikutse taotlejaid.\\n2) Viib l\\u00e4bi sobivustesti v\\u00e4lisriigis omandatud kutsekvalifikatsiooni kohta.\\n3) Hindab perioodiliselt v\\u00f5i juhatuse \\u00fclesandel advokaatide kutsesobivust.\\n4) Viib l\\u00e4bi vestluse isikuga, kes on esitanud avalduse astuda advokatuuri liikmeks.\"                                                                                                         \n",
       "7  \"Vandeadvokaadi kohustused h\\u00f5lmavad Eesti Vabariigi p\\u00f5hiseaduslikule korrale ustavaks j\\u00e4\\u00e4mist ning k\\u00f5ikide \\u00fclesannete t\\u00e4itmist, milleks vandeadvokaadikutse teda kohustab.\"                                                                                                                                                                                                                                                                                                                  \n",
       "8  \"Advokaat peab saladuses hoidma talle \\u00f5igusteenust osutades teatavaks saanud andmeid, tema poole \\u00f5igusteenuse saamiseks p\\u00f6\\u00f6rdumist ja \\u00f5igusteenuse eest makstud tasu suurust. Kohustus ei ole ajaliselt piiratud ja kehtib ka p\\u00e4rast advokaaditegevuse l\\u00f5ppemist. Kohustus kehtib ka advokaadib\\u00fcroo t\\u00f6\\u00f6taja ja advokatuuri t\\u00f6\\u00f6taja kohta ning selle avaliku teenistuja kohta, kellele on advokaadi kutsesaladus teatavaks saanud teenistuskohustusi t\\u00e4ites.\"   \n",
       "\n",
       "   Answer Relevance  Context Relevance  Groundedness  total_cost  \n",
       "0  1.0               0.1                0.600000      0.01090     \n",
       "1  1.0               0.4                0.800000      0.01003     \n",
       "2  1.0               0.0                0.333333      0.01253     \n",
       "3  1.0               0.5                1.000000      0.00854     \n",
       "4  0.4               0.0                0.000000      0.01002     \n",
       "5  1.0               1.0                1.000000      0.00570     \n",
       "6  1.0               0.5               NaN            0.01268     \n",
       "7  1.0               0.1               NaN            0.00728     \n",
       "8 NaN               NaN                NaN            0.01200     "
      ]
     },
     "execution_count": 42,
     "metadata": {},
     "output_type": "execute_result"
    }
   ],
   "source": [
    "df_res_sent_wind[['input','output','Answer Relevance',\n",
    "       'Context Relevance', 'Groundedness', 'total_cost']]"
   ]
  },
  {
   "cell_type": "code",
   "execution_count": 43,
   "id": "f600994c-219b-4178-92c9-74539f99e214",
   "metadata": {},
   "outputs": [
    {
     "data": {
      "text/plain": [
       "<AxesSubplot:>"
      ]
     },
     "execution_count": 43,
     "metadata": {},
     "output_type": "execute_result"
    },
    {
     "data": {
      "image/png": "[encoded data removed]",
      "text/plain": [
       "<Figure size 432x288 with 1 Axes>"
      ]
     },
     "metadata": {
      "needs_background": "light"
     },
     "output_type": "display_data"
    }
   ],
   "source": [
    "df_res_sent_wind[['Answer Relevance',\n",
    "       'Context Relevance', 'Groundedness']].mean().plot(kind='barh')"
   ]
  },
  {
   "cell_type": "code",
   "execution_count": 44,
   "id": "ceff8302-2a8a-4fb5-a2b2-60933945e48b",
   "metadata": {},
   "outputs": [
    {
     "data": {
      "text/plain": [
       "0.08968"
      ]
     },
     "execution_count": 44,
     "metadata": {},
     "output_type": "execute_result"
    }
   ],
   "source": [
    "df_res_sent_wind.total_cost.sum()"
   ]
  },
  {
   "cell_type": "markdown",
   "id": "8f59569b-d8dd-4ecd-b0fa-797504bec362",
   "metadata": {},
   "source": [
    "## Save"
   ]
  },
  {
   "cell_type": "code",
   "execution_count": 45,
   "id": "dc815bbf-2af4-4367-b5f5-6614544315d5",
   "metadata": {},
   "outputs": [
    {
     "data": {
      "text/plain": [
       "pandas.core.frame.DataFrame"
      ]
     },
     "execution_count": 45,
     "metadata": {},
     "output_type": "execute_result"
    }
   ],
   "source": [
    "type(df_res_sent_wind)"
   ]
  },
  {
   "cell_type": "code",
   "execution_count": 47,
   "id": "67585f85-06fd-4fe6-a868-33c95aa9ffdd",
   "metadata": {},
   "outputs": [],
   "source": [
    "df_res_sent_wind.to_excel('data/results/advokatuur_sentence_window_retrieval_gpt4.xlsx', index=False)"
   ]
  },
  {
   "cell_type": "code",
   "execution_count": null,
   "id": "c184ee27-c52a-4903-8834-fec38e6b2de7",
   "metadata": {},
   "outputs": [],
   "source": []
  }
 ],
 "metadata": {
  "kernelspec": {
   "display_name": "Python 3 (ipykernel)",
   "language": "python",
   "name": "python3"
  },
  "language_info": {
   "codemirror_mode": {
    "name": "ipython",
    "version": 3
   },
   "file_extension": ".py",
   "mimetype": "text/x-python",
   "name": "python",
   "nbconvert_exporter": "python",
   "pygments_lexer": "ipython3",
   "version": "3.9.13"
  }
 },
 "nbformat": 4,
 "nbformat_minor": 5
}
