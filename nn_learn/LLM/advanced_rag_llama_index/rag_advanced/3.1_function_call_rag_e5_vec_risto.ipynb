{
 "cells": [
  {
   "cell_type": "code",
   "execution_count": 2,
   "id": "541d4940-10cc-4e49-9a10-ebc59baff7d0",
   "metadata": {},
   "outputs": [],
   "source": [
    "# !pip install weaviate-client\n",
    "# !pip install llama_index\n",
    "# !pip install openai\n",
    "# !pip install --upgrade pydantic==1.10.0 typing-extensions==4.5.0\n",
    "# !pip install fastcore"
   ]
  },
  {
   "cell_type": "code",
   "execution_count": 2,
   "id": "5b60367f-5f96-49d6-9575-e86f5c48cf12",
   "metadata": {},
   "outputs": [
    {
     "name": "stderr",
     "output_type": "stream",
     "text": [
      "/tmp/ipykernel_341/1637876314.py:21: FutureWarning: Passing a negative integer is deprecated in version 1.0 and will not be supported in future version. Instead, use None to not limit the column width.\n",
      "  pd.set_option('display.max_colwidth',-1)\n"
     ]
    }
   ],
   "source": [
    "from llama_index.vector_stores import WeaviateVectorStore\n",
    "from llama_index.schema import TextNode, NodeRelationship, RelatedNodeInfo\n",
    "from llama_index import VectorStoreIndex, StorageContext\n",
    "from llama_index import get_response_synthesizer\n",
    "from llama_index.indices.postprocessor import SimilarityPostprocessor, PrevNextNodePostprocessor\n",
    "from llama_index.retrievers import VectorIndexRetriever\n",
    "from llama_index.query_engine import RetrieverQueryEngine\n",
    "from llama_index.embeddings import HuggingFaceEmbedding\n",
    "import weaviate, os\n",
    "from weaviate import EmbeddedOptions\n",
    "from openai import OpenAI\n",
    "import pandas as pd\n",
    "import numpy as np\n",
    "from llama_index import ServiceContext\n",
    "from llama_index.llms import OpenAI as OpenAILLama\n",
    "from llama_index.embeddings import OpenAIEmbedding\n",
    "from configparser import ConfigParser\n",
    "import openai\n",
    "import os\n",
    "\n",
    "pd.set_option('display.max_colwidth',-1)"
   ]
  },
  {
   "cell_type": "markdown",
   "id": "ea317934-7c42-427c-9733-38ee681a211e",
   "metadata": {},
   "source": [
    "## OpenAI account"
   ]
  },
  {
   "cell_type": "code",
   "execution_count": 3,
   "id": "5234eaa8-021c-4d1f-96db-24fcc760c3c8",
   "metadata": {},
   "outputs": [],
   "source": [
    "config=ConfigParser()\n",
    "config.read('conf/conf.ini')\n",
    "os.environ[\"OPENAI_API_KEY\"] = config['openai']['apikey']"
   ]
  },
  {
   "cell_type": "markdown",
   "id": "d338f0bf-5e68-4e47-aa17-2408defcd1f3",
   "metadata": {},
   "source": [
    "## Setup weaviate client"
   ]
  },
  {
   "cell_type": "code",
   "execution_count": 4,
   "id": "609ba572-8e80-4a17-ae10-f4558f37c416",
   "metadata": {},
   "outputs": [],
   "source": [
    "# !rm -rf ~/.local/share/weaviate"
   ]
  },
  {
   "cell_type": "code",
   "execution_count": 5,
   "id": "d2c4b287-6157-4f2d-b6bf-fe5d3ae31af5",
   "metadata": {},
   "outputs": [
    {
     "name": "stderr",
     "output_type": "stream",
     "text": [
      "{\"action\":\"startup\",\"default_vectorizer_module\":\"none\",\"level\":\"info\",\"msg\":\"the default vectorizer modules is set to \\\"none\\\", as a result all new schema classes without an explicit vectorizer setting, will use this vectorizer\",\"time\":\"2023-12-13T18:23:27Z\"}\n",
      "{\"action\":\"startup\",\"auto_schema_enabled\":true,\"level\":\"info\",\"msg\":\"auto schema enabled setting is set to \\\"true\\\"\",\"time\":\"2023-12-13T18:23:27Z\"}\n",
      "{\"level\":\"warning\",\"msg\":\"Multiple vector spaces are present, GraphQL Explore and REST API list objects endpoint module include params has been disabled as a result.\",\"time\":\"2023-12-13T18:23:27Z\"}\n",
      "{\"action\":\"grpc_startup\",\"level\":\"info\",\"msg\":\"grpc server listening at [::]:50060\",\"time\":\"2023-12-13T18:23:27Z\"}\n",
      "{\"action\":\"restapi_management\",\"level\":\"info\",\"msg\":\"Serving weaviate at http://127.0.0.1:8079\",\"time\":\"2023-12-13T18:23:27Z\"}\n"
     ]
    },
    {
     "name": "stdout",
     "output_type": "stream",
     "text": [
      "Started /root/.cache/weaviate-embedded: process ID 365\n",
      "Client created? True\n"
     ]
    }
   ],
   "source": [
    "client = weaviate.Client(\n",
    "    embedded_options=EmbeddedOptions(),\n",
    "    # additional_headers={\n",
    "    #     \"X-OpenAI-Api-BaseURL\": os.environ['OPENAI_API_BASE'],\n",
    "    #     \"X-OpenAI-Api-Key\": openai.api_key,  # Replace this with your actual key\n",
    "    # }\n",
    ")\n",
    "print(f\"Client created? {client.is_ready()}\")"
   ]
  },
  {
   "cell_type": "markdown",
   "id": "ba2f3cb5-4a1f-47ba-bd6f-d681a955e8b0",
   "metadata": {},
   "source": [
    "## Insert data weaviate"
   ]
  },
  {
   "cell_type": "code",
   "execution_count": 6,
   "id": "d2c4c50d-226c-441f-a575-d4f749009b6f",
   "metadata": {},
   "outputs": [],
   "source": [
    "embed_model=HuggingFaceEmbedding(model_name='intfloat/multilingual-e5-base')"
   ]
  },
  {
   "cell_type": "code",
   "execution_count": 7,
   "id": "1248e73c-ac8d-49b2-a30e-b4b0d8121291",
   "metadata": {},
   "outputs": [
    {
     "name": "stderr",
     "output_type": "stream",
     "text": [
      "/usr/lib/python3/dist-packages/openpyxl/compat/numbers.py:41: DeprecationWarning: `np.float` is a deprecated alias for the builtin `float`. To silence this warning, use `float` by itself. Doing this will not modify any behavior and is safe. If you specifically wanted the numpy scalar type, use `np.float64` here.\n",
      "Deprecated in NumPy 1.20; for more details and guidance: https://numpy.org/devdocs/release/1.20.0-notes.html#deprecations\n",
      "  numpy.float,\n"
     ]
    }
   ],
   "source": [
    "df=pd.read_excel('data/riigikogu/ems_subset.xlsx')\n",
    "# embs=np.load('data/riigikogu/emsb.npy', allow_pickle=True)"
   ]
  },
  {
   "cell_type": "code",
   "execution_count": 8,
   "id": "bc40d32b-311c-4a54-ab2a-56011459166c",
   "metadata": {},
   "outputs": [
    {
     "data": {
      "text/plain": [
       "((1000, 1),)"
      ]
     },
     "execution_count": 8,
     "metadata": {},
     "output_type": "execute_result"
    }
   ],
   "source": [
    "df.shape, #embs.shape"
   ]
  },
  {
   "cell_type": "code",
   "execution_count": 9,
   "id": "e8d2200c-01b2-4de3-9964-831c57e280ca",
   "metadata": {},
   "outputs": [],
   "source": [
    "data=[{'text':row['text_splitted'],'foo':i} for i, row in df.iterrows()]"
   ]
  },
  {
   "cell_type": "code",
   "execution_count": 10,
   "id": "f8a84c36-53b6-446c-924e-f4ef86da0d10",
   "metadata": {},
   "outputs": [],
   "source": [
    "nodes = []\n",
    "node_prev=None\n",
    "\n",
    "for idx, sample in enumerate(data):\n",
    "    node = TextNode(\n",
    "        #id_=idx,\n",
    "        text=sample['text'],\n",
    "    )\n",
    "    node.embedding=embed_model.get_text_embedding(sample['text'])\n",
    "    # if idx< len(data)-1:\n",
    "    # node.relationships[NodeRelationship.NEXT]=idx+1\n",
    "    if idx>0:\n",
    "        node.relationships[NodeRelationship.PREVIOUS]=RelatedNodeInfo(node_id=node_prev.node_id)\n",
    "        node_prev.relationships[NodeRelationship.NEXT]=RelatedNodeInfo(node_id=node.node_id)\n",
    "    nodes.append(node)\n",
    "    node_prev=node.copy()"
   ]
  },
  {
   "cell_type": "code",
   "execution_count": 11,
   "id": "d4395534-e9f0-403c-ab1c-e7423a2068e5",
   "metadata": {},
   "outputs": [],
   "source": [
    "# model.encode('tere')"
   ]
  },
  {
   "cell_type": "code",
   "execution_count": 12,
   "id": "8fb89119-05ac-4ef2-8c2c-c9a0397fa4a7",
   "metadata": {},
   "outputs": [
    {
     "data": {
      "text/plain": [
       "{<NodeRelationship.PREVIOUS: '2'>: RelatedNodeInfo(node_id='1bf84cb7-b07f-4a32-acac-7f5296182c15', node_type=None, metadata={}, hash=None)}"
      ]
     },
     "execution_count": 12,
     "metadata": {},
     "output_type": "execute_result"
    }
   ],
   "source": [
    "node.relationships"
   ]
  },
  {
   "cell_type": "code",
   "execution_count": 13,
   "id": "76327bae-668b-404b-a97d-7141739af3f1",
   "metadata": {},
   "outputs": [
    {
     "data": {
      "text/plain": [
       "<NodeRelationship.PREVIOUS: '2'>"
      ]
     },
     "execution_count": 13,
     "metadata": {},
     "output_type": "execute_result"
    }
   ],
   "source": [
    "NodeRelationship.PREVIOUS"
   ]
  },
  {
   "cell_type": "code",
   "execution_count": 14,
   "id": "8e8956cf-69f3-47fc-a245-8040e8de4982",
   "metadata": {},
   "outputs": [
    {
     "data": {
      "text/plain": [
       "{<NodeRelationship.PREVIOUS: '2'>: RelatedNodeInfo(node_id='e846221d-2929-4b18-888e-95e516672353', node_type=None, metadata={}, hash=None),\n",
       " <NodeRelationship.NEXT: '3'>: RelatedNodeInfo(node_id='028e2930-a990-45cc-90f1-1224fed16e72', node_type=None, metadata={}, hash=None)}"
      ]
     },
     "execution_count": 14,
     "metadata": {},
     "output_type": "execute_result"
    }
   ],
   "source": [
    "nodes[2].relationships"
   ]
  },
  {
   "cell_type": "code",
   "execution_count": 15,
   "id": "fe80a7c1-e986-4a2e-ac05-c8f8c91a2956",
   "metadata": {},
   "outputs": [
    {
     "data": {
      "text/plain": [
       "{<NodeRelationship.PREVIOUS: '2'>: RelatedNodeInfo(node_id='634b0434-0f29-4297-b629-3bf84634e36e', node_type=None, metadata={}, hash=None),\n",
       " <NodeRelationship.NEXT: '3'>: RelatedNodeInfo(node_id='f323aefb-a8e8-4fcf-986e-3b4c2228f82b', node_type=None, metadata={}, hash=None)}"
      ]
     },
     "execution_count": 15,
     "metadata": {},
     "output_type": "execute_result"
    }
   ],
   "source": [
    "nodes[3].relationships"
   ]
  },
  {
   "cell_type": "code",
   "execution_count": 16,
   "id": "fd4a5bf0-96a4-4c47-acdf-00991c926720",
   "metadata": {},
   "outputs": [
    {
     "data": {
      "text/plain": [
       "RelatedNodeInfo(node_id='85a9518c-d8ea-4dc1-9113-89f2bfb5d87e', node_type=None, metadata={}, hash=None)"
      ]
     },
     "execution_count": 16,
     "metadata": {},
     "output_type": "execute_result"
    }
   ],
   "source": [
    "RelatedNodeInfo(node_id=node_prev.node_id)"
   ]
  },
  {
   "cell_type": "markdown",
   "id": "1fceff98-6053-4fc2-af8b-81176ac35cb4",
   "metadata": {},
   "source": [
    "## Create vector store"
   ]
  },
  {
   "cell_type": "code",
   "execution_count": 17,
   "id": "04b43dba-d412-4316-8bea-9f75fdfbfb00",
   "metadata": {},
   "outputs": [],
   "source": [
    "llm = OpenAILLama(model=\"gpt-3.5-turbo\", temperature=0.1)\n",
    "# embed_model=OpenAIEmbedding()\n",
    "\n",
    "\n",
    "service_context = ServiceContext.from_defaults(\n",
    "    llm=llm, embed_model=embed_model\n",
    ")"
   ]
  },
  {
   "cell_type": "code",
   "execution_count": 20,
   "id": "50b4dba5-b1bf-45b4-922e-c9fe51974aa3",
   "metadata": {},
   "outputs": [],
   "source": [
    "# embed_model.get_text_embedding('tere')"
   ]
  },
  {
   "cell_type": "code",
   "execution_count": 21,
   "id": "4da425b3-baf1-43a2-86e1-908c80b06528",
   "metadata": {},
   "outputs": [],
   "source": [
    "#if already run from the start make sure to delete exsiting database\n",
    "# construct vector store\n",
    "vector_store = WeaviateVectorStore(weaviate_client = client, index_name=\"Riigikogu\", text_key=\"text\")\n",
    "\n",
    "# setting up the storage for the embeddings\n",
    "storage_context = StorageContext.from_defaults(vector_store = vector_store)\n",
    "\n",
    "# set up the index\n",
    "index = VectorStoreIndex(nodes, storage_context = storage_context, service_context=service_context)"
   ]
  },
  {
   "cell_type": "markdown",
   "id": "0ce0ee4e-6b20-4da9-b2e8-95380423944a",
   "metadata": {},
   "source": [
    "## If needed setup syntheziser, retriever, post-processors"
   ]
  },
  {
   "cell_type": "code",
   "execution_count": 22,
   "id": "afd95d97-b48e-423d-bdfd-6ec79751d470",
   "metadata": {},
   "outputs": [],
   "source": [
    "# Set up the synthesizer\n",
    "# my_synthesizer = get_response_synthesizer(response_mode=\"tree_summarize\")\n",
    "# to get only response nodes\n",
    "my_synthesizer = get_response_synthesizer(response_mode='no_text')\n",
    "\n",
    "retriever = VectorIndexRetriever(\n",
    "    index=index,\n",
    "    similarity_top_k=20,\n",
    ")\n",
    "\n",
    "postprocessor = PrevNextNodePostprocessor(\n",
    "    docstore=index.docstore,\n",
    "    num_nodes=1,  # number of nodes to fetch when looking forawrds or backwards\n",
    "    mode=\"both\",  # can be either 'next', 'previous', or 'both'\n",
    ")\n",
    "\n",
    "query_engine = RetrieverQueryEngine(\n",
    "    retriever=retriever,\n",
    "    response_synthesizer=my_synthesizer,\n",
    "    node_postprocessors=[\n",
    "        #postprocessor,\n",
    "        SimilarityPostprocessor(similarity_cutoff=0.8),\n",
    "    ]\n",
    ")"
   ]
  },
  {
   "cell_type": "markdown",
   "id": "189d8623-667b-42d2-a078-78dd991d83e5",
   "metadata": {},
   "source": [
    "#### example query"
   ]
  },
  {
   "cell_type": "code",
   "execution_count": 23,
   "id": "d405364f-78c1-4a10-ad60-1de853f846e5",
   "metadata": {},
   "outputs": [],
   "source": [
    "query_str = \"milliseid ettepanekuid arutatakse, et riigieelarve tasakaalu saada?\"\n",
    "response=query_engine.query(query_str)"
   ]
  },
  {
   "cell_type": "code",
   "execution_count": 24,
   "id": "ce0edfa6-829f-43ac-8dfd-2689f57d8a36",
   "metadata": {},
   "outputs": [
    {
     "data": {
      "text/plain": [
       "''"
      ]
     },
     "execution_count": 24,
     "metadata": {},
     "output_type": "execute_result"
    }
   ],
   "source": [
    "response.response"
   ]
  },
  {
   "cell_type": "code",
   "execution_count": 25,
   "id": "ba4cb8e1-d2ed-4615-9238-75834f27b937",
   "metadata": {},
   "outputs": [
    {
     "data": {
      "text/plain": [
       "'kindlasti hoida nii et vaatame maksubaasi ja vaatame kui palju raha juurde saab aga süsteem ise peab olema piisavalt lihtne selleks et ta oleks efektiivne'"
      ]
     },
     "execution_count": 25,
     "metadata": {},
     "output_type": "execute_result"
    }
   ],
   "source": [
    "response.source_nodes[0].text"
   ]
  },
  {
   "cell_type": "code",
   "execution_count": 26,
   "id": "adbb1539-778a-43ce-a8bc-941174400e6b",
   "metadata": {},
   "outputs": [
    {
     "data": {
      "text/plain": [
       "20"
      ]
     },
     "execution_count": 26,
     "metadata": {},
     "output_type": "execute_result"
    }
   ],
   "source": [
    "len(response.source_nodes)"
   ]
  },
  {
   "cell_type": "code",
   "execution_count": 27,
   "id": "00ba8ce5-88a6-4930-b876-fc34d434253c",
   "metadata": {},
   "outputs": [],
   "source": [
    "def nodes2df(nodes:list):\n",
    "    \"\"\"format list of nodes to pandas dataframe\"\"\"\n",
    "    nodes_fmt=[(n.text, n.id_, n.score) for n in nodes]\n",
    "    return pd.DataFrame(nodes_fmt, columns=['text','id', 'score'])"
   ]
  },
  {
   "cell_type": "code",
   "execution_count": 28,
   "id": "46f0d2ba-5591-4488-96af-513bb851a5c1",
   "metadata": {},
   "outputs": [],
   "source": [
    "# nodes2df(response.source_nodes)"
   ]
  },
  {
   "cell_type": "markdown",
   "id": "8aee9304-c477-4612-9ed6-77908159925e",
   "metadata": {},
   "source": [
    "## Setup function calls"
   ]
  },
  {
   "cell_type": "code",
   "execution_count": 29,
   "id": "6f99ec98-16ea-47f1-8d75-41ac1e57394e",
   "metadata": {},
   "outputs": [],
   "source": [
    "import ast\n",
    "from pydantic import create_model\n",
    "import inspect, json\n",
    "from inspect import Parameter"
   ]
  },
  {
   "cell_type": "code",
   "execution_count": 30,
   "id": "9e59e4cd-3fa6-4e48-b283-655233a0380a",
   "metadata": {},
   "outputs": [
    {
     "data": {
      "text/plain": [
       "<openai.OpenAI at 0x7fda074cfa30>"
      ]
     },
     "execution_count": 30,
     "metadata": {},
     "output_type": "execute_result"
    }
   ],
   "source": [
    "client_oai = OpenAI()\n",
    "OpenAI.api_key = os.getenv('OPENAI_API_KEY')\n",
    "client_oai"
   ]
  },
  {
   "cell_type": "code",
   "execution_count": 31,
   "id": "ad9960dc-0e27-437e-b74e-f5deee60061e",
   "metadata": {},
   "outputs": [],
   "source": [
    "def schema(f):\n",
    "    kw = {n:(o.annotation, ... if o.default==Parameter.empty else o.default)\n",
    "          for n,o in inspect.signature(f).parameters.items()}\n",
    "    s = create_model(f'Input for `{f.__name__}`', **kw).schema()\n",
    "    return dict(name=f.__name__, description=f.__doc__, parameters=s)\n",
    "\n",
    "def call_func(c):\n",
    "    fc = c.choices[0].message.function_call\n",
    "    if fc.name not in funcs_ok: return print(f'Not allowed: {fc.name}')\n",
    "    f = globals()[fc.name]\n",
    "    return f(**json.loads(fc.arguments))"
   ]
  },
  {
   "cell_type": "code",
   "execution_count": 32,
   "id": "a1160c1d-6765-45a1-9516-a85757f2d0a0",
   "metadata": {},
   "outputs": [],
   "source": [
    "funcs_ok = {'ask_query_count', 'python'}\n",
    "\n",
    "#TODOD make queryengine as an argument\n",
    "def ask_query_count(query_str:str):\n",
    "    \"\"\"This function is useful to find count of texts in the database that match query_str. This function gives access to databased.\n",
    "    Query is made into vector database, returns reponse nodes and counts them\n",
    "    Query_str should contain words or phrases to search for. It doesn't have to contain AND, OR etc. Could be freeform text\"\"\"\n",
    "    print(f'query string for ask_query_count is {query_str}')\n",
    "    response=query_engine.query(query_str)\n",
    "    df_resp=nodes2df(response.source_nodes)\n",
    "    return str(len(response.source_nodes)), df_resp"
   ]
  },
  {
   "cell_type": "code",
   "execution_count": 33,
   "id": "b31df92e-e99d-4586-8ca7-9af69ecc0c55",
   "metadata": {},
   "outputs": [],
   "source": [
    "def askgpt_func_call(user, system=\"you are helpful assistant and answer questions about the database that you can access by calling function ask_query_count\", model=\"gpt-3.5-turbo\", **kwargs):\n",
    "    msgs = []\n",
    "    if system: msgs.append({\"role\": \"system\", \"content\": system})\n",
    "    msgs.append({\"role\": \"user\", \"content\": user})\n",
    "    c=client_oai.chat.completions.create(model=model, messages=msgs, **kwargs)\n",
    "    \n",
    "    if c.choices[0].message.function_call is None:\n",
    "        return c.choices[0].message.content\n",
    "    func_call_out, df_resp=call_func(c)\n",
    "    msgs.append({\"role\": \"function\", \"name\": \"python\", \"content\": func_call_out})\n",
    "    c2=client_oai.chat.completions.create(model=model, messages=msgs)\n",
    "    return c2.choices[0].message.content, func_call_out, df_resp"
   ]
  },
  {
   "cell_type": "code",
   "execution_count": 34,
   "id": "efa9a177-23db-4a76-bb96-6fed50087de0",
   "metadata": {},
   "outputs": [
    {
     "name": "stdout",
     "output_type": "stream",
     "text": [
      "huggingface/tokenizers: The current process just got forked, after parallelism has already been used. Disabling parallelism to avoid deadlocks...\n",
      "To disable this warning, you can either:\n",
      "\t- Avoid using `tokenizers` before the fork if possible\n",
      "\t- Explicitly set the environment variable TOKENIZERS_PARALLELISM=(true | false)\n",
      "query string for ask_query_count is sõda OR kaitsevägi\n"
     ]
    },
    {
     "data": {
      "text/plain": [
       "'There are 20 texts that mention either \"sõda\" or \"kaitsevägi\".'"
      ]
     },
     "execution_count": 34,
     "metadata": {},
     "output_type": "execute_result"
    }
   ],
   "source": [
    "resp, func_call_out, df_resp=askgpt_func_call('How many texts mention \"sõda\" or \"kaitsevägi\"?',\n",
    "                functions=[schema(ask_query_count)])\n",
    "resp"
   ]
  },
  {
   "cell_type": "code",
   "execution_count": 35,
   "id": "df458543-2ffc-4e1a-88a6-4148bb794679",
   "metadata": {},
   "outputs": [
    {
     "data": {
      "text/html": [
       "<div>\n",
       "<style scoped>\n",
       "    .dataframe tbody tr th:only-of-type {\n",
       "        vertical-align: middle;\n",
       "    }\n",
       "\n",
       "    .dataframe tbody tr th {\n",
       "        vertical-align: top;\n",
       "    }\n",
       "\n",
       "    .dataframe thead th {\n",
       "        text-align: right;\n",
       "    }\n",
       "</style>\n",
       "<table border=\"1\" class=\"dataframe\">\n",
       "  <thead>\n",
       "    <tr style=\"text-align: right;\">\n",
       "      <th></th>\n",
       "      <th>text_splitted</th>\n",
       "    </tr>\n",
       "  </thead>\n",
       "  <tbody>\n",
       "    <tr>\n",
       "      <th>471</th>\n",
       "      <td>lõpuks on 34 inimest nüüd teenistusest vabastatud. näiteks major paas kõikides sõdades osalenud igati laitmatu teenistusega mees lihtsalt lasti lahti kui paneme need numbrid kõik kokku siis tegelikult kaotus personali seas tuleb juba üsna suur kaitseväel on olnud probleeme et kõiki ajateenijaid õpetada sest kaadrit pole piisavalt olnud kuidas kaitsevägi nendes tingimustes pärast seda kolme lainet suudab oma ülesandeid korralikult täita</td>\n",
       "    </tr>\n",
       "    <tr>\n",
       "      <th>969</th>\n",
       "      <td>et need muudatused peaks sisse viima veel enne esimest lugemist ehk veel enne tänast päeva loomulikult kuna need muudatused saab sisse viia enne esimest lugemist ainult eelnõu algataja siis andis justiitsministeerium lahkelt selleks ka oma nõusoleku mis tõendab veel kord et mingeid erimeelsusi ega mingit sõda ei õiguskomisjoni istungitel ega töögrupis ei olnud konstruktiivse dialoogiga saime kõik küsimused lahendatud tõepoolest õiguskomisjon arutaski muudetud allikakaitse seaduse eelnõu uuesti juba 5. aprilli istungil see tähendab et allikakaitse seaduse eelnõu muutus ja toodi</td>\n",
       "    </tr>\n",
       "  </tbody>\n",
       "</table>\n",
       "</div>"
      ],
      "text/plain": [
       "                                                                                                                                                                                                                                                                                                                                                                                                                                                                                                                                                                                               text_splitted\n",
       "471  lõpuks on 34 inimest nüüd teenistusest vabastatud. näiteks major paas kõikides sõdades osalenud igati laitmatu teenistusega mees lihtsalt lasti lahti kui paneme need numbrid kõik kokku siis tegelikult kaotus personali seas tuleb juba üsna suur kaitseväel on olnud probleeme et kõiki ajateenijaid õpetada sest kaadrit pole piisavalt olnud kuidas kaitsevägi nendes tingimustes pärast seda kolme lainet suudab oma ülesandeid korralikult täita                                                                                                                                                \n",
       "969  et need muudatused peaks sisse viima veel enne esimest lugemist ehk veel enne tänast päeva loomulikult kuna need muudatused saab sisse viia enne esimest lugemist ainult eelnõu algataja siis andis justiitsministeerium lahkelt selleks ka oma nõusoleku mis tõendab veel kord et mingeid erimeelsusi ega mingit sõda ei õiguskomisjoni istungitel ega töögrupis ei olnud konstruktiivse dialoogiga saime kõik küsimused lahendatud tõepoolest õiguskomisjon arutaski muudetud allikakaitse seaduse eelnõu uuesti juba 5. aprilli istungil see tähendab et allikakaitse seaduse eelnõu muutus ja toodi"
      ]
     },
     "execution_count": 35,
     "metadata": {},
     "output_type": "execute_result"
    }
   ],
   "source": [
    "df[df.text_splitted.str.contains('sõda')]"
   ]
  },
  {
   "cell_type": "code",
   "execution_count": 36,
   "id": "fc1f280d-09f9-4a23-b053-f9a64b918206",
   "metadata": {},
   "outputs": [
    {
     "data": {
      "text/html": [
       "<div>\n",
       "<style scoped>\n",
       "    .dataframe tbody tr th:only-of-type {\n",
       "        vertical-align: middle;\n",
       "    }\n",
       "\n",
       "    .dataframe tbody tr th {\n",
       "        vertical-align: top;\n",
       "    }\n",
       "\n",
       "    .dataframe thead th {\n",
       "        text-align: right;\n",
       "    }\n",
       "</style>\n",
       "<table border=\"1\" class=\"dataframe\">\n",
       "  <thead>\n",
       "    <tr style=\"text-align: right;\">\n",
       "      <th></th>\n",
       "      <th>text</th>\n",
       "      <th>id</th>\n",
       "      <th>score</th>\n",
       "    </tr>\n",
       "  </thead>\n",
       "  <tbody>\n",
       "    <tr>\n",
       "      <th>0</th>\n",
       "      <td>vaktsineerimata siis see on probleem eesti sõjalisele tegevusele kaitseväe tegevusele nii sõja ajal kui ka nende ülesannete täitmisele mis kaitseväel rahuajal on</td>\n",
       "      <td>b2fcdba3-b747-4491-886f-ac9cf676b06a</td>\n",
       "      <td>0.904191</td>\n",
       "    </tr>\n",
       "    <tr>\n",
       "      <th>1</th>\n",
       "      <td>turvatunde ja selle et mõrtsukad ja pedofiilid ei jaluta rahulikult ringi</td>\n",
       "      <td>6b704253-4ee6-4882-b212-d77ef482c52b</td>\n",
       "      <td>0.898059</td>\n",
       "    </tr>\n",
       "    <tr>\n",
       "      <th>2</th>\n",
       "      <td>selleks et toetada neid inimesi seal ja hoida ära rändesurvet euroopale sealhulgas eestile</td>\n",
       "      <td>8232cef1-7d62-4b11-b833-ac857867f5b8</td>\n",
       "      <td>0.894815</td>\n",
       "    </tr>\n",
       "    <tr>\n",
       "      <th>3</th>\n",
       "      <td>järele siis valitsus võimaldab neile seda või eraldab selleks raha on teil olemas selleks mingi reserv</td>\n",
       "      <td>491f2fea-715a-40df-9a37-5caf5da193ca</td>\n",
       "      <td>0.891470</td>\n",
       "    </tr>\n",
       "    <tr>\n",
       "      <th>4</th>\n",
       "      <td>kohtadel kui saaks teie nägemuse sellest</td>\n",
       "      <td>20f58d68-c945-4a99-bd86-71f7ca7addec</td>\n",
       "      <td>0.891346</td>\n",
       "    </tr>\n",
       "    <tr>\n",
       "      <th>5</th>\n",
       "      <td>totaalne paradigma muutus või mis see siis nüüd on</td>\n",
       "      <td>73ca9d5b-485a-4113-b381-90ca841f7c5c</td>\n",
       "      <td>0.889357</td>\n",
       "    </tr>\n",
       "    <tr>\n",
       "      <th>6</th>\n",
       "      <td>õiguste kaitsega siin on riigikogu kaalumise koht</td>\n",
       "      <td>d14759b9-db94-4e30-9e08-6ee38c668e03</td>\n",
       "      <td>0.888034</td>\n",
       "    </tr>\n",
       "    <tr>\n",
       "      <th>7</th>\n",
       "      <td>paremad pensionid nii praegu kui ka tulevikus</td>\n",
       "      <td>850a771b-29d2-42ea-9c5c-4736e7a83211</td>\n",
       "      <td>0.887905</td>\n",
       "    </tr>\n",
       "    <tr>\n",
       "      <th>8</th>\n",
       "      <td>kas eelnõu on kavas selliste sätetega täiendada</td>\n",
       "      <td>0f0b0f0f-42cd-4034-a9a7-8723be852668</td>\n",
       "      <td>0.887397</td>\n",
       "    </tr>\n",
       "    <tr>\n",
       "      <th>9</th>\n",
       "      <td>vähegi võimalik nii et ma loodan et me kompenseerimise juurde üldse ei peagi tulema</td>\n",
       "      <td>62da1342-1322-42ac-b7af-0aa0eb84a600</td>\n",
       "      <td>0.886769</td>\n",
       "    </tr>\n",
       "    <tr>\n",
       "      <th>10</th>\n",
       "      <td>palun protseduuriline küsimus igor gräzin</td>\n",
       "      <td>1287b45c-e908-4a86-ad69-865f58cdc1c4</td>\n",
       "      <td>0.886470</td>\n",
       "    </tr>\n",
       "    <tr>\n",
       "      <th>11</th>\n",
       "      <td>nõuda teiste laste käest endale hüvesid ma tänan</td>\n",
       "      <td>a9b80a1c-916a-479f-a758-81d80a25c6ec</td>\n",
       "      <td>0.886065</td>\n",
       "    </tr>\n",
       "    <tr>\n",
       "      <th>12</th>\n",
       "      <td>ettepanek on vastu võetud palun järgmisena kõnepulti aivar sõerdi</td>\n",
       "      <td>c5e86a44-8607-47ec-8468-8ad54207c324</td>\n",
       "      <td>0.885694</td>\n",
       "    </tr>\n",
       "    <tr>\n",
       "      <th>13</th>\n",
       "      <td>korraldades kui millestki rääkida siis loomulikult konkurentsivõimest palun lisaaega</td>\n",
       "      <td>bfa0f3b2-578a-498c-9633-39dab1985e36</td>\n",
       "      <td>0.885390</td>\n",
       "    </tr>\n",
       "    <tr>\n",
       "      <th>14</th>\n",
       "      <td>hea ettekandja teile on küsimusi lembit kaljuvee palun</td>\n",
       "      <td>ba41f465-a976-4725-b23f-8c519da224e9</td>\n",
       "      <td>0.885215</td>\n",
       "    </tr>\n",
       "    <tr>\n",
       "      <th>15</th>\n",
       "      <td>aitäh on ka küsimusi palun kolleeg mark soosaar</td>\n",
       "      <td>7aff049f-2c54-4b0e-9864-8cb05ea06a6d</td>\n",
       "      <td>0.885209</td>\n",
       "    </tr>\n",
       "    <tr>\n",
       "      <th>16</th>\n",
       "      <td>tänan hea ettekandja teile on küsimusi kalvi kõva palun</td>\n",
       "      <td>e33cee10-0f8c-49e6-9bd4-f5fb09401f90</td>\n",
       "      <td>0.884758</td>\n",
       "    </tr>\n",
       "    <tr>\n",
       "      <th>17</th>\n",
       "      <td>nüüd üks lisaküsimus helmen kütt palun</td>\n",
       "      <td>cd31674c-4c6b-40c7-ba19-950536a3e296</td>\n",
       "      <td>0.884756</td>\n",
       "    </tr>\n",
       "    <tr>\n",
       "      <th>18</th>\n",
       "      <td>mis ajaks see võiks valmida ja mis võiksid olla selle põhilised lähtekohad</td>\n",
       "      <td>fa5cc5b3-3b5d-4563-9daf-048e61fc4f64</td>\n",
       "      <td>0.884649</td>\n",
       "    </tr>\n",
       "    <tr>\n",
       "      <th>19</th>\n",
       "      <td>austatud minister palun vabandust kas te soovite lisaaega</td>\n",
       "      <td>b10dc9e0-311f-4c99-87e4-a1a991628c98</td>\n",
       "      <td>0.884492</td>\n",
       "    </tr>\n",
       "  </tbody>\n",
       "</table>\n",
       "</div>"
      ],
      "text/plain": [
       "                                                                                                                                                                 text  \\\n",
       "0   vaktsineerimata siis see on probleem eesti sõjalisele tegevusele kaitseväe tegevusele nii sõja ajal kui ka nende ülesannete täitmisele mis kaitseväel rahuajal on   \n",
       "1   turvatunde ja selle et mõrtsukad ja pedofiilid ei jaluta rahulikult ringi                                                                                           \n",
       "2   selleks et toetada neid inimesi seal ja hoida ära rändesurvet euroopale sealhulgas eestile                                                                          \n",
       "3   järele siis valitsus võimaldab neile seda või eraldab selleks raha on teil olemas selleks mingi reserv                                                              \n",
       "4   kohtadel kui saaks teie nägemuse sellest                                                                                                                            \n",
       "5   totaalne paradigma muutus või mis see siis nüüd on                                                                                                                  \n",
       "6   õiguste kaitsega siin on riigikogu kaalumise koht                                                                                                                   \n",
       "7   paremad pensionid nii praegu kui ka tulevikus                                                                                                                       \n",
       "8   kas eelnõu on kavas selliste sätetega täiendada                                                                                                                     \n",
       "9   vähegi võimalik nii et ma loodan et me kompenseerimise juurde üldse ei peagi tulema                                                                                 \n",
       "10  palun protseduuriline küsimus igor gräzin                                                                                                                           \n",
       "11  nõuda teiste laste käest endale hüvesid ma tänan                                                                                                                    \n",
       "12  ettepanek on vastu võetud palun järgmisena kõnepulti aivar sõerdi                                                                                                   \n",
       "13  korraldades kui millestki rääkida siis loomulikult konkurentsivõimest palun lisaaega                                                                                \n",
       "14  hea ettekandja teile on küsimusi lembit kaljuvee palun                                                                                                              \n",
       "15  aitäh on ka küsimusi palun kolleeg mark soosaar                                                                                                                     \n",
       "16  tänan hea ettekandja teile on küsimusi kalvi kõva palun                                                                                                             \n",
       "17  nüüd üks lisaküsimus helmen kütt palun                                                                                                                              \n",
       "18  mis ajaks see võiks valmida ja mis võiksid olla selle põhilised lähtekohad                                                                                          \n",
       "19  austatud minister palun vabandust kas te soovite lisaaega                                                                                                           \n",
       "\n",
       "                                      id     score  \n",
       "0   b2fcdba3-b747-4491-886f-ac9cf676b06a  0.904191  \n",
       "1   6b704253-4ee6-4882-b212-d77ef482c52b  0.898059  \n",
       "2   8232cef1-7d62-4b11-b833-ac857867f5b8  0.894815  \n",
       "3   491f2fea-715a-40df-9a37-5caf5da193ca  0.891470  \n",
       "4   20f58d68-c945-4a99-bd86-71f7ca7addec  0.891346  \n",
       "5   73ca9d5b-485a-4113-b381-90ca841f7c5c  0.889357  \n",
       "6   d14759b9-db94-4e30-9e08-6ee38c668e03  0.888034  \n",
       "7   850a771b-29d2-42ea-9c5c-4736e7a83211  0.887905  \n",
       "8   0f0b0f0f-42cd-4034-a9a7-8723be852668  0.887397  \n",
       "9   62da1342-1322-42ac-b7af-0aa0eb84a600  0.886769  \n",
       "10  1287b45c-e908-4a86-ad69-865f58cdc1c4  0.886470  \n",
       "11  a9b80a1c-916a-479f-a758-81d80a25c6ec  0.886065  \n",
       "12  c5e86a44-8607-47ec-8468-8ad54207c324  0.885694  \n",
       "13  bfa0f3b2-578a-498c-9633-39dab1985e36  0.885390  \n",
       "14  ba41f465-a976-4725-b23f-8c519da224e9  0.885215  \n",
       "15  7aff049f-2c54-4b0e-9864-8cb05ea06a6d  0.885209  \n",
       "16  e33cee10-0f8c-49e6-9bd4-f5fb09401f90  0.884758  \n",
       "17  cd31674c-4c6b-40c7-ba19-950536a3e296  0.884756  \n",
       "18  fa5cc5b3-3b5d-4563-9daf-048e61fc4f64  0.884649  \n",
       "19  b10dc9e0-311f-4c99-87e4-a1a991628c98  0.884492  "
      ]
     },
     "execution_count": 36,
     "metadata": {},
     "output_type": "execute_result"
    }
   ],
   "source": [
    "df_resp"
   ]
  },
  {
   "cell_type": "code",
   "execution_count": 37,
   "id": "38d4bc71-20ba-405d-aeaa-ac6df78d517b",
   "metadata": {},
   "outputs": [
    {
     "name": "stdout",
     "output_type": "stream",
     "text": [
      "query string for ask_query_count is riik Ukraina\n"
     ]
    },
    {
     "data": {
      "text/plain": [
       "'Andmebaasi kohaselt mainitakse Ukrainat 20 tekstis.'"
      ]
     },
     "execution_count": 37,
     "metadata": {},
     "output_type": "execute_result"
    }
   ],
   "source": [
    "resp, func_call_out, df_resp=askgpt_func_call('Kui mitmes tekstis mainitakse riiki Ukraina?',\n",
    "                functions=[schema(ask_query_count)])\n",
    "resp"
   ]
  },
  {
   "cell_type": "code",
   "execution_count": 38,
   "id": "c87d40aa-f3c7-4aaa-a535-4f169d8b7242",
   "metadata": {},
   "outputs": [
    {
     "data": {
      "text/html": [
       "<div>\n",
       "<style scoped>\n",
       "    .dataframe tbody tr th:only-of-type {\n",
       "        vertical-align: middle;\n",
       "    }\n",
       "\n",
       "    .dataframe tbody tr th {\n",
       "        vertical-align: top;\n",
       "    }\n",
       "\n",
       "    .dataframe thead th {\n",
       "        text-align: right;\n",
       "    }\n",
       "</style>\n",
       "<table border=\"1\" class=\"dataframe\">\n",
       "  <thead>\n",
       "    <tr style=\"text-align: right;\">\n",
       "      <th></th>\n",
       "      <th>text_splitted</th>\n",
       "    </tr>\n",
       "  </thead>\n",
       "  <tbody>\n",
       "    <tr>\n",
       "      <th>191</th>\n",
       "      <td>arvatud rikastes põhjamaades see pärsib meie konkurentsivõimet ja paneb surve alla palgad kui kõik muud sisendhinnad on naabrite omadest kõrgemad siis ainus koht kust kokku hoida on töötajad just sellepärast nõuavad mõned tööandjad meile odavat tööjõudu ukrainast elektri ja gaasi hinda langetades anname ettevõtjatele võimaluse tõsta palkasid kaotamata konkurentsis välisturgudel eesmärk peaks olema muuta eesti kõige odavama energiaga riigiks meie piirkonnas milliseid maksupoliitilisi muudatusi me veel peame vajalikuks tee- ja veokimaks ei suurenda oluliselt riigieelarvet küll aga vähendab meie transpordiettevõtete</td>\n",
       "    </tr>\n",
       "    <tr>\n",
       "      <th>267</th>\n",
       "      <td>kolm maksuastet 16% 24% ja 33% lühikest aega ka 50% kui tuli võimule mart laar siis ta kehtestas ühtse 27%-lise maksu mis tähendas seda et rikkamad hakkasid vähem maksma ja väiksema sissetulekuga inimesed tunduvalt rohkem ma ei saa siiamaani aru miks me ei taha minna sama teed nagu muu euroopa miks me tahame seista kogu aeg ühel pulgal venemaaga kus on nagu meil proportsionaalne ja ühetaoline tulumaks täpselt samuti on ka bulgaarias rumeenias ukrainas ja ma ei tea bahama saartel</td>\n",
       "    </tr>\n",
       "  </tbody>\n",
       "</table>\n",
       "</div>"
      ],
      "text/plain": [
       "                                                                                                                                                                                                                                                                                                                                                                                                                                                                                                                                                                                                                                    text_splitted\n",
       "191  arvatud rikastes põhjamaades see pärsib meie konkurentsivõimet ja paneb surve alla palgad kui kõik muud sisendhinnad on naabrite omadest kõrgemad siis ainus koht kust kokku hoida on töötajad just sellepärast nõuavad mõned tööandjad meile odavat tööjõudu ukrainast elektri ja gaasi hinda langetades anname ettevõtjatele võimaluse tõsta palkasid kaotamata konkurentsis välisturgudel eesmärk peaks olema muuta eesti kõige odavama energiaga riigiks meie piirkonnas milliseid maksupoliitilisi muudatusi me veel peame vajalikuks tee- ja veokimaks ei suurenda oluliselt riigieelarvet küll aga vähendab meie transpordiettevõtete\n",
       "267  kolm maksuastet 16% 24% ja 33% lühikest aega ka 50% kui tuli võimule mart laar siis ta kehtestas ühtse 27%-lise maksu mis tähendas seda et rikkamad hakkasid vähem maksma ja väiksema sissetulekuga inimesed tunduvalt rohkem ma ei saa siiamaani aru miks me ei taha minna sama teed nagu muu euroopa miks me tahame seista kogu aeg ühel pulgal venemaaga kus on nagu meil proportsionaalne ja ühetaoline tulumaks täpselt samuti on ka bulgaarias rumeenias ukrainas ja ma ei tea bahama saartel                                                                                                                                         "
      ]
     },
     "execution_count": 38,
     "metadata": {},
     "output_type": "execute_result"
    }
   ],
   "source": [
    "df[df.text_splitted.str.contains('ukraina')]"
   ]
  },
  {
   "cell_type": "code",
   "execution_count": 39,
   "id": "160883d8-dd5c-4f98-9b9b-c248f1caa1b4",
   "metadata": {},
   "outputs": [
    {
     "data": {
      "text/html": [
       "<div>\n",
       "<style scoped>\n",
       "    .dataframe tbody tr th:only-of-type {\n",
       "        vertical-align: middle;\n",
       "    }\n",
       "\n",
       "    .dataframe tbody tr th {\n",
       "        vertical-align: top;\n",
       "    }\n",
       "\n",
       "    .dataframe thead th {\n",
       "        text-align: right;\n",
       "    }\n",
       "</style>\n",
       "<table border=\"1\" class=\"dataframe\">\n",
       "  <thead>\n",
       "    <tr style=\"text-align: right;\">\n",
       "      <th></th>\n",
       "      <th>text</th>\n",
       "      <th>id</th>\n",
       "      <th>score</th>\n",
       "    </tr>\n",
       "  </thead>\n",
       "  <tbody>\n",
       "    <tr>\n",
       "      <th>0</th>\n",
       "      <td>palun protseduuriline küsimus igor gräzin</td>\n",
       "      <td>1287b45c-e908-4a86-ad69-865f58cdc1c4</td>\n",
       "      <td>0.888185</td>\n",
       "    </tr>\n",
       "    <tr>\n",
       "      <th>1</th>\n",
       "      <td>vähegi võimalik nii et ma loodan et me kompenseerimise juurde üldse ei peagi tulema</td>\n",
       "      <td>62da1342-1322-42ac-b7af-0aa0eb84a600</td>\n",
       "      <td>0.882270</td>\n",
       "    </tr>\n",
       "    <tr>\n",
       "      <th>2</th>\n",
       "      <td>ei ole selleks mingit kohustust aga minu küsimus miks seda kohustust selle eelnõuga neile uuesti ei pandud</td>\n",
       "      <td>62276b9c-f07d-48c0-8a3b-a244b855b90f</td>\n",
       "      <td>0.881950</td>\n",
       "    </tr>\n",
       "    <tr>\n",
       "      <th>3</th>\n",
       "      <td>annavad oma parima selle nimel et tuleks väga hea seadus</td>\n",
       "      <td>bb135145-fd24-498f-b1c3-332dd81d1c20</td>\n",
       "      <td>0.881867</td>\n",
       "    </tr>\n",
       "    <tr>\n",
       "      <th>4</th>\n",
       "      <td>austatud minister palun vabandust kas te soovite lisaaega</td>\n",
       "      <td>b10dc9e0-311f-4c99-87e4-a1a991628c98</td>\n",
       "      <td>0.880985</td>\n",
       "    </tr>\n",
       "    <tr>\n",
       "      <th>5</th>\n",
       "      <td>siin eelnõus ei ole palun seda eelnõu võtta sellisena nagu see on esitatud</td>\n",
       "      <td>9fefa413-22a5-4d26-9ead-f8fc6bd482b4</td>\n",
       "      <td>0.879858</td>\n",
       "    </tr>\n",
       "    <tr>\n",
       "      <th>6</th>\n",
       "      <td>kohtadel kui saaks teie nägemuse sellest</td>\n",
       "      <td>20f58d68-c945-4a99-bd86-71f7ca7addec</td>\n",
       "      <td>0.878597</td>\n",
       "    </tr>\n",
       "    <tr>\n",
       "      <th>7</th>\n",
       "      <td>võib-olla saame väga hea seaduse</td>\n",
       "      <td>1cc7e916-c586-4c61-bac9-60050e10857d</td>\n",
       "      <td>0.878050</td>\n",
       "    </tr>\n",
       "    <tr>\n",
       "      <th>8</th>\n",
       "      <td>täpsustav küsimus andres metsoja palun</td>\n",
       "      <td>329f9eda-e652-4a42-9d35-2a9bf1037574</td>\n",
       "      <td>0.877774</td>\n",
       "    </tr>\n",
       "    <tr>\n",
       "      <th>9</th>\n",
       "      <td>järele siis valitsus võimaldab neile seda või eraldab selleks raha on teil olemas selleks mingi reserv</td>\n",
       "      <td>491f2fea-715a-40df-9a37-5caf5da193ca</td>\n",
       "      <td>0.877581</td>\n",
       "    </tr>\n",
       "    <tr>\n",
       "      <th>10</th>\n",
       "      <td>seaduse raames võimalik paindlikumalt teha</td>\n",
       "      <td>ef452870-1fcf-4ac1-9dd8-bf1c37e65410</td>\n",
       "      <td>0.876722</td>\n",
       "    </tr>\n",
       "    <tr>\n",
       "      <th>11</th>\n",
       "      <td>selleks et toetada neid inimesi seal ja hoida ära rändesurvet euroopale sealhulgas eestile</td>\n",
       "      <td>8232cef1-7d62-4b11-b833-ac857867f5b8</td>\n",
       "      <td>0.876556</td>\n",
       "    </tr>\n",
       "    <tr>\n",
       "      <th>12</th>\n",
       "      <td>nüüd täpsustav küsimus. priit sibul palun</td>\n",
       "      <td>01f0d911-d55d-4fee-a4e0-2a53efea66d7</td>\n",
       "      <td>0.876548</td>\n",
       "    </tr>\n",
       "    <tr>\n",
       "      <th>13</th>\n",
       "      <td>totaalne paradigma muutus või mis see siis nüüd on</td>\n",
       "      <td>73ca9d5b-485a-4113-b381-90ca841f7c5c</td>\n",
       "      <td>0.876133</td>\n",
       "    </tr>\n",
       "    <tr>\n",
       "      <th>14</th>\n",
       "      <td>nüüd üks lisaküsimus paul puustusmaa palun</td>\n",
       "      <td>eb7055c0-3f12-457c-aab3-5982b35c709f</td>\n",
       "      <td>0.875924</td>\n",
       "    </tr>\n",
       "    <tr>\n",
       "      <th>15</th>\n",
       "      <td>mitte meditsiinilised vaid poliitilised sellise piirangu kehtestamiseks</td>\n",
       "      <td>7326bdba-8ae5-4883-9db0-dfcef0159363</td>\n",
       "      <td>0.874826</td>\n",
       "    </tr>\n",
       "    <tr>\n",
       "      <th>16</th>\n",
       "      <td>saadavad nii et seadus on mõeldud eelkõige informatsiooni jagamiseks aga kindlasti ka usaldusväärsuse suurendamiseks</td>\n",
       "      <td>cab6974c-1c78-4170-befd-3a8f86e02bc9</td>\n",
       "      <td>0.874468</td>\n",
       "    </tr>\n",
       "    <tr>\n",
       "      <th>17</th>\n",
       "      <td>kohustus seda tulu mis nad tänu sellele saavad inimestega jagada kas see on maksupoliitika küsimus või see on pigem autoriõiguse küsimus</td>\n",
       "      <td>aa27b970-31f5-4df7-9b11-526f0b091948</td>\n",
       "      <td>0.874255</td>\n",
       "    </tr>\n",
       "    <tr>\n",
       "      <th>18</th>\n",
       "      <td>et sellest 1000 eurost saaks tulumaksuvaba piirmäär</td>\n",
       "      <td>138f55e2-e71f-45db-b2dd-2b6020245373</td>\n",
       "      <td>0.874152</td>\n",
       "    </tr>\n",
       "    <tr>\n",
       "      <th>19</th>\n",
       "      <td>keegi kontrollib ka selliste juhtumite puhul kohtuotsuste vastavust toimepandud tegudele</td>\n",
       "      <td>b3382203-980f-497a-8186-cf70fc40c8c4</td>\n",
       "      <td>0.874140</td>\n",
       "    </tr>\n",
       "  </tbody>\n",
       "</table>\n",
       "</div>"
      ],
      "text/plain": [
       "                                                                                                                                        text  \\\n",
       "0   palun protseduuriline küsimus igor gräzin                                                                                                  \n",
       "1   vähegi võimalik nii et ma loodan et me kompenseerimise juurde üldse ei peagi tulema                                                        \n",
       "2   ei ole selleks mingit kohustust aga minu küsimus miks seda kohustust selle eelnõuga neile uuesti ei pandud                                 \n",
       "3   annavad oma parima selle nimel et tuleks väga hea seadus                                                                                   \n",
       "4   austatud minister palun vabandust kas te soovite lisaaega                                                                                  \n",
       "5   siin eelnõus ei ole palun seda eelnõu võtta sellisena nagu see on esitatud                                                                 \n",
       "6   kohtadel kui saaks teie nägemuse sellest                                                                                                   \n",
       "7   võib-olla saame väga hea seaduse                                                                                                           \n",
       "8   täpsustav küsimus andres metsoja palun                                                                                                     \n",
       "9   järele siis valitsus võimaldab neile seda või eraldab selleks raha on teil olemas selleks mingi reserv                                     \n",
       "10  seaduse raames võimalik paindlikumalt teha                                                                                                 \n",
       "11  selleks et toetada neid inimesi seal ja hoida ära rändesurvet euroopale sealhulgas eestile                                                 \n",
       "12  nüüd täpsustav küsimus. priit sibul palun                                                                                                  \n",
       "13  totaalne paradigma muutus või mis see siis nüüd on                                                                                         \n",
       "14  nüüd üks lisaküsimus paul puustusmaa palun                                                                                                 \n",
       "15  mitte meditsiinilised vaid poliitilised sellise piirangu kehtestamiseks                                                                    \n",
       "16  saadavad nii et seadus on mõeldud eelkõige informatsiooni jagamiseks aga kindlasti ka usaldusväärsuse suurendamiseks                       \n",
       "17  kohustus seda tulu mis nad tänu sellele saavad inimestega jagada kas see on maksupoliitika küsimus või see on pigem autoriõiguse küsimus   \n",
       "18  et sellest 1000 eurost saaks tulumaksuvaba piirmäär                                                                                        \n",
       "19  keegi kontrollib ka selliste juhtumite puhul kohtuotsuste vastavust toimepandud tegudele                                                   \n",
       "\n",
       "                                      id     score  \n",
       "0   1287b45c-e908-4a86-ad69-865f58cdc1c4  0.888185  \n",
       "1   62da1342-1322-42ac-b7af-0aa0eb84a600  0.882270  \n",
       "2   62276b9c-f07d-48c0-8a3b-a244b855b90f  0.881950  \n",
       "3   bb135145-fd24-498f-b1c3-332dd81d1c20  0.881867  \n",
       "4   b10dc9e0-311f-4c99-87e4-a1a991628c98  0.880985  \n",
       "5   9fefa413-22a5-4d26-9ead-f8fc6bd482b4  0.879858  \n",
       "6   20f58d68-c945-4a99-bd86-71f7ca7addec  0.878597  \n",
       "7   1cc7e916-c586-4c61-bac9-60050e10857d  0.878050  \n",
       "8   329f9eda-e652-4a42-9d35-2a9bf1037574  0.877774  \n",
       "9   491f2fea-715a-40df-9a37-5caf5da193ca  0.877581  \n",
       "10  ef452870-1fcf-4ac1-9dd8-bf1c37e65410  0.876722  \n",
       "11  8232cef1-7d62-4b11-b833-ac857867f5b8  0.876556  \n",
       "12  01f0d911-d55d-4fee-a4e0-2a53efea66d7  0.876548  \n",
       "13  73ca9d5b-485a-4113-b381-90ca841f7c5c  0.876133  \n",
       "14  eb7055c0-3f12-457c-aab3-5982b35c709f  0.875924  \n",
       "15  7326bdba-8ae5-4883-9db0-dfcef0159363  0.874826  \n",
       "16  cab6974c-1c78-4170-befd-3a8f86e02bc9  0.874468  \n",
       "17  aa27b970-31f5-4df7-9b11-526f0b091948  0.874255  \n",
       "18  138f55e2-e71f-45db-b2dd-2b6020245373  0.874152  \n",
       "19  b3382203-980f-497a-8186-cf70fc40c8c4  0.874140  "
      ]
     },
     "execution_count": 39,
     "metadata": {},
     "output_type": "execute_result"
    }
   ],
   "source": [
    "df_resp"
   ]
  },
  {
   "cell_type": "code",
   "execution_count": 40,
   "id": "2844c5e8-5257-4193-8f6c-d4b8f15ba5db",
   "metadata": {},
   "outputs": [
    {
     "name": "stdout",
     "output_type": "stream",
     "text": [
      "query string for ask_query_count is kunst OR kunstiteos OR kunstiline objekt\n"
     ]
    },
    {
     "data": {
      "text/plain": [
       "'Kunstist, kunstiteosest või kunstilisest objektist räägitakse andmebaasis kokku 20 tekstis.'"
      ]
     },
     "execution_count": 40,
     "metadata": {},
     "output_type": "execute_result"
    }
   ],
   "source": [
    "resp, func_call_out, df_resp=askgpt_func_call('Kui mitmes tekstis räägitakse kunstist või kunstiteosest või kunstilisest objektist?',\n",
    "                functions=[schema(ask_query_count)])\n",
    "resp"
   ]
  },
  {
   "cell_type": "code",
   "execution_count": 41,
   "id": "c88ee8eb-deb2-4aa3-84ba-22c81cf430b6",
   "metadata": {},
   "outputs": [
    {
     "data": {
      "text/html": [
       "<div>\n",
       "<style scoped>\n",
       "    .dataframe tbody tr th:only-of-type {\n",
       "        vertical-align: middle;\n",
       "    }\n",
       "\n",
       "    .dataframe tbody tr th {\n",
       "        vertical-align: top;\n",
       "    }\n",
       "\n",
       "    .dataframe thead th {\n",
       "        text-align: right;\n",
       "    }\n",
       "</style>\n",
       "<table border=\"1\" class=\"dataframe\">\n",
       "  <thead>\n",
       "    <tr style=\"text-align: right;\">\n",
       "      <th></th>\n",
       "      <th>text_splitted</th>\n",
       "    </tr>\n",
       "  </thead>\n",
       "  <tbody>\n",
       "    <tr>\n",
       "      <th>929</th>\n",
       "      <td>aitäh lugupeetud juhataja lugupeetud minister ka minu küsimus puudutab võlaõigusseaduse muudatusi mis on seotud kahju hüvitamisega eesti kohtupraktikas on üks selline juhtum et kadri k filmi m. tõlkes great ehk 'suurepärane' puhul ei olnud kohtul muud võimalust kui see film ära keelata kuigi tegelikult oleks lahenduseks olnud ka kahju hüvitamine kas selle eelnõu puhul oleks võimalik öelda et edaspidi sellistel juhtumitel mingi kultuuri- või ka kunstilise objekti filmi ükskõik mis asja ärakeelamise asemel saaks kasutada kahju hüvitamist kui ei siis</td>\n",
       "    </tr>\n",
       "  </tbody>\n",
       "</table>\n",
       "</div>"
      ],
      "text/plain": [
       "                                                                                                                                                                                                                                                                                                                                                                                                                                                                                                                                                                 text_splitted\n",
       "929  aitäh lugupeetud juhataja lugupeetud minister ka minu küsimus puudutab võlaõigusseaduse muudatusi mis on seotud kahju hüvitamisega eesti kohtupraktikas on üks selline juhtum et kadri k filmi m. tõlkes great ehk 'suurepärane' puhul ei olnud kohtul muud võimalust kui see film ära keelata kuigi tegelikult oleks lahenduseks olnud ka kahju hüvitamine kas selle eelnõu puhul oleks võimalik öelda et edaspidi sellistel juhtumitel mingi kultuuri- või ka kunstilise objekti filmi ükskõik mis asja ärakeelamise asemel saaks kasutada kahju hüvitamist kui ei siis"
      ]
     },
     "execution_count": 41,
     "metadata": {},
     "output_type": "execute_result"
    }
   ],
   "source": [
    "df[df.text_splitted.str.contains('kunst')]"
   ]
  },
  {
   "cell_type": "code",
   "execution_count": 42,
   "id": "997f0e6b-7fb3-40b4-9d63-932022ab7286",
   "metadata": {},
   "outputs": [
    {
     "name": "stdout",
     "output_type": "stream",
     "text": [
      "query string for ask_query_count is arvutitest OR IT\n"
     ]
    },
    {
     "data": {
      "text/plain": [
       "'20 tekstis räägitakse arvutitest või IT-st.'"
      ]
     },
     "execution_count": 42,
     "metadata": {},
     "output_type": "execute_result"
    }
   ],
   "source": [
    "resp, func_call_out, df_resp=askgpt_func_call('Kui mitmes tekstis räägitakse arvutitest või IT-st?',\n",
    "                functions=[schema(ask_query_count)])\n",
    "resp"
   ]
  },
  {
   "cell_type": "code",
   "execution_count": 43,
   "id": "09037149-54b2-40ca-8900-e34b063cf9a6",
   "metadata": {},
   "outputs": [
    {
     "data": {
      "text/html": [
       "<div>\n",
       "<style scoped>\n",
       "    .dataframe tbody tr th:only-of-type {\n",
       "        vertical-align: middle;\n",
       "    }\n",
       "\n",
       "    .dataframe tbody tr th {\n",
       "        vertical-align: top;\n",
       "    }\n",
       "\n",
       "    .dataframe thead th {\n",
       "        text-align: right;\n",
       "    }\n",
       "</style>\n",
       "<table border=\"1\" class=\"dataframe\">\n",
       "  <thead>\n",
       "    <tr style=\"text-align: right;\">\n",
       "      <th></th>\n",
       "      <th>text_splitted</th>\n",
       "    </tr>\n",
       "  </thead>\n",
       "  <tbody>\n",
       "    <tr>\n",
       "      <th>13</th>\n",
       "      <td>peale 3 miljardit tundi mis tegi ühe maksumaksja kohta keskmiseks ajakuluks 27 tundi aastas eesti on aga maailmas läbi löönud tugeva it-riigina ja siin esitatakse üle 98% tuludeklaratsioonidest interneti teel täiendav maksuaste ei ole arvutiprogrammi jaoks mingisugune takistus eesti on olnud aastaid sissetulekute jaotuse poolest pigem euroopa liidu ebavõrdsemate riikide hulgas seda näitab gini indeks mis sobib kõige paremini iseloomustama ühiskondade sotsiaalset ebavõrdsust ja kihistumist mida madalam on gini indeksi väärtus seda võrdsem on ühiskonna majanduslik ja sotsiaalne seisund arenenud</td>\n",
       "    </tr>\n",
       "    <tr>\n",
       "      <th>75</th>\n",
       "      <td>ei ole varsti enam optimaalne lahendus ja riigid peaksid mõtlema muule lahendusele see eristamine on kulukas see on võib-olla ebavajalik ja see ei pruugi mingist hetkest alates ka õiglustundega vastavuses olla peame arvestama ka sellega et diginomaadluski on kasvamas diginomaadid on sellised inimesed kuidas öelda mees ja arvuti tüüpi oü-de asutajad kes reisivad mööda maailma ja kelle töötegemise asukoht ei ole üldse oluline nemad teevad tööd internetis see tähendab seda et riikide sotsiaalkindlustussüsteemid on löögi all neli aastat tagasi hinnati</td>\n",
       "    </tr>\n",
       "  </tbody>\n",
       "</table>\n",
       "</div>"
      ],
      "text/plain": [
       "                                                                                                                                                                                                                                                                                                                                                                                                                                                                                                                                                                                                              text_splitted\n",
       "13  peale 3 miljardit tundi mis tegi ühe maksumaksja kohta keskmiseks ajakuluks 27 tundi aastas eesti on aga maailmas läbi löönud tugeva it-riigina ja siin esitatakse üle 98% tuludeklaratsioonidest interneti teel täiendav maksuaste ei ole arvutiprogrammi jaoks mingisugune takistus eesti on olnud aastaid sissetulekute jaotuse poolest pigem euroopa liidu ebavõrdsemate riikide hulgas seda näitab gini indeks mis sobib kõige paremini iseloomustama ühiskondade sotsiaalset ebavõrdsust ja kihistumist mida madalam on gini indeksi väärtus seda võrdsem on ühiskonna majanduslik ja sotsiaalne seisund arenenud\n",
       "75  ei ole varsti enam optimaalne lahendus ja riigid peaksid mõtlema muule lahendusele see eristamine on kulukas see on võib-olla ebavajalik ja see ei pruugi mingist hetkest alates ka õiglustundega vastavuses olla peame arvestama ka sellega et diginomaadluski on kasvamas diginomaadid on sellised inimesed kuidas öelda mees ja arvuti tüüpi oü-de asutajad kes reisivad mööda maailma ja kelle töötegemise asukoht ei ole üldse oluline nemad teevad tööd internetis see tähendab seda et riikide sotsiaalkindlustussüsteemid on löögi all neli aastat tagasi hinnati                                              "
      ]
     },
     "execution_count": 43,
     "metadata": {},
     "output_type": "execute_result"
    }
   ],
   "source": [
    "df[df.text_splitted.str.contains('arvuti')]"
   ]
  },
  {
   "cell_type": "code",
   "execution_count": 44,
   "id": "6bb2dbbb-551f-413f-872d-70ce3ba73709",
   "metadata": {},
   "outputs": [
    {
     "data": {
      "text/html": [
       "<div>\n",
       "<style scoped>\n",
       "    .dataframe tbody tr th:only-of-type {\n",
       "        vertical-align: middle;\n",
       "    }\n",
       "\n",
       "    .dataframe tbody tr th {\n",
       "        vertical-align: top;\n",
       "    }\n",
       "\n",
       "    .dataframe thead th {\n",
       "        text-align: right;\n",
       "    }\n",
       "</style>\n",
       "<table border=\"1\" class=\"dataframe\">\n",
       "  <thead>\n",
       "    <tr style=\"text-align: right;\">\n",
       "      <th></th>\n",
       "      <th>text</th>\n",
       "      <th>id</th>\n",
       "      <th>score</th>\n",
       "    </tr>\n",
       "  </thead>\n",
       "  <tbody>\n",
       "    <tr>\n",
       "      <th>0</th>\n",
       "      <td>kohtadel kui saaks teie nägemuse sellest</td>\n",
       "      <td>20f58d68-c945-4a99-bd86-71f7ca7addec</td>\n",
       "      <td>0.904597</td>\n",
       "    </tr>\n",
       "    <tr>\n",
       "      <th>1</th>\n",
       "      <td>nad ei oota seda jah</td>\n",
       "      <td>6ac8b087-bb92-45ec-ae2f-4bae5b850ff2</td>\n",
       "      <td>0.898503</td>\n",
       "    </tr>\n",
       "    <tr>\n",
       "      <th>2</th>\n",
       "      <td>aitäh härra kõva kui vana te olete</td>\n",
       "      <td>179e0c34-8abb-48ec-a4b5-2b8a4a05e36c</td>\n",
       "      <td>0.895899</td>\n",
       "    </tr>\n",
       "    <tr>\n",
       "      <th>3</th>\n",
       "      <td>konkreetset lahendit internetiväljaannete puhul 14. see on ka kättesaadav</td>\n",
       "      <td>b9e184b4-a86c-42dc-a7a6-529746c79506</td>\n",
       "      <td>0.893209</td>\n",
       "    </tr>\n",
       "    <tr>\n",
       "      <th>4</th>\n",
       "      <td>keegi kontrollib ka selliste juhtumite puhul kohtuotsuste vastavust toimepandud tegudele</td>\n",
       "      <td>b3382203-980f-497a-8186-cf70fc40c8c4</td>\n",
       "      <td>0.893205</td>\n",
       "    </tr>\n",
       "    <tr>\n",
       "      <th>5</th>\n",
       "      <td>et 13 miljonit digiteenuste maksuraha kätte saada kaks küsimust ühes</td>\n",
       "      <td>0fc3189a-c2b9-4dbf-a2ec-73ef46711098</td>\n",
       "      <td>0.893149</td>\n",
       "    </tr>\n",
       "    <tr>\n",
       "      <th>6</th>\n",
       "      <td>võib-olla seda oleks pidanud küsima päevakorra kinnitamise juures aga ma vaatasin et</td>\n",
       "      <td>be3dc4c4-b322-446a-a015-b2ae523e5cb2</td>\n",
       "      <td>0.893003</td>\n",
       "    </tr>\n",
       "    <tr>\n",
       "      <th>7</th>\n",
       "      <td>palun protseduuriline küsimus igor gräzin</td>\n",
       "      <td>1287b45c-e908-4a86-ad69-865f58cdc1c4</td>\n",
       "      <td>0.892655</td>\n",
       "    </tr>\n",
       "    <tr>\n",
       "      <th>8</th>\n",
       "      <td>siin eelnõus ei ole palun seda eelnõu võtta sellisena nagu see on esitatud</td>\n",
       "      <td>9fefa413-22a5-4d26-9ead-f8fc6bd482b4</td>\n",
       "      <td>0.891959</td>\n",
       "    </tr>\n",
       "    <tr>\n",
       "      <th>9</th>\n",
       "      <td>totaalne paradigma muutus või mis see siis nüüd on</td>\n",
       "      <td>73ca9d5b-485a-4113-b381-90ca841f7c5c</td>\n",
       "      <td>0.891195</td>\n",
       "    </tr>\n",
       "    <tr>\n",
       "      <th>10</th>\n",
       "      <td>aitäh ivari padar ole lahke</td>\n",
       "      <td>4419a857-4185-47f8-88ca-2b9fa9afdd4d</td>\n",
       "      <td>0.889535</td>\n",
       "    </tr>\n",
       "    <tr>\n",
       "      <th>11</th>\n",
       "      <td>kas eelnõu on kavas selliste sätetega täiendada</td>\n",
       "      <td>0f0b0f0f-42cd-4034-a9a7-8723be852668</td>\n",
       "      <td>0.889386</td>\n",
       "    </tr>\n",
       "    <tr>\n",
       "      <th>12</th>\n",
       "      <td>ei ole selleks mingit kohustust aga minu küsimus miks seda kohustust selle eelnõuga neile uuesti ei pandud</td>\n",
       "      <td>62276b9c-f07d-48c0-8a3b-a244b855b90f</td>\n",
       "      <td>0.888464</td>\n",
       "    </tr>\n",
       "    <tr>\n",
       "      <th>13</th>\n",
       "      <td>kahjumit need on tegelikult probleemid</td>\n",
       "      <td>c608fe28-9121-4cde-b5e0-4d9b5cdf3a3a</td>\n",
       "      <td>0.888126</td>\n",
       "    </tr>\n",
       "    <tr>\n",
       "      <th>14</th>\n",
       "      <td>ilmtingimata heaks kiita hea meelega vaataks teie ettepanekud läbi ja siis kujundaks oma seisukoha</td>\n",
       "      <td>9e9f676b-1f55-40df-bcad-ba234a02fd34</td>\n",
       "      <td>0.887415</td>\n",
       "    </tr>\n",
       "    <tr>\n",
       "      <th>15</th>\n",
       "      <td>annavad oma parima selle nimel et tuleks väga hea seadus</td>\n",
       "      <td>bb135145-fd24-498f-b1c3-332dd81d1c20</td>\n",
       "      <td>0.886533</td>\n",
       "    </tr>\n",
       "    <tr>\n",
       "      <th>16</th>\n",
       "      <td>seda ei leia kas te püüdsite seda mõjude analüüsi koostada või kelleltki tellida ja see ei ole lihtsalt siia seletuskirja sisse pandud</td>\n",
       "      <td>10cc66f8-44dd-4e4e-bd79-cc2406d97e87</td>\n",
       "      <td>0.886151</td>\n",
       "    </tr>\n",
       "    <tr>\n",
       "      <th>17</th>\n",
       "      <td>eks see viita ka omamoodi sellele inforuumile mis meile on siin loodud</td>\n",
       "      <td>4956e0c7-4744-49cc-afb1-067b0aa25881</td>\n",
       "      <td>0.885889</td>\n",
       "    </tr>\n",
       "    <tr>\n",
       "      <th>18</th>\n",
       "      <td>turvatunde ja selle et mõrtsukad ja pedofiilid ei jaluta rahulikult ringi</td>\n",
       "      <td>6b704253-4ee6-4882-b212-d77ef482c52b</td>\n",
       "      <td>0.885840</td>\n",
       "    </tr>\n",
       "    <tr>\n",
       "      <th>19</th>\n",
       "      <td>esimese sammu või juba mitmenda igatahes jätkame seda teekonda tänan tähelepanu eest</td>\n",
       "      <td>4e329e04-87bb-4d27-98d9-f2c1dd415cc0</td>\n",
       "      <td>0.885081</td>\n",
       "    </tr>\n",
       "  </tbody>\n",
       "</table>\n",
       "</div>"
      ],
      "text/plain": [
       "                                                                                                                                      text  \\\n",
       "0   kohtadel kui saaks teie nägemuse sellest                                                                                                 \n",
       "1   nad ei oota seda jah                                                                                                                     \n",
       "2   aitäh härra kõva kui vana te olete                                                                                                       \n",
       "3   konkreetset lahendit internetiväljaannete puhul 14. see on ka kättesaadav                                                                \n",
       "4   keegi kontrollib ka selliste juhtumite puhul kohtuotsuste vastavust toimepandud tegudele                                                 \n",
       "5   et 13 miljonit digiteenuste maksuraha kätte saada kaks küsimust ühes                                                                     \n",
       "6   võib-olla seda oleks pidanud küsima päevakorra kinnitamise juures aga ma vaatasin et                                                     \n",
       "7   palun protseduuriline küsimus igor gräzin                                                                                                \n",
       "8   siin eelnõus ei ole palun seda eelnõu võtta sellisena nagu see on esitatud                                                               \n",
       "9   totaalne paradigma muutus või mis see siis nüüd on                                                                                       \n",
       "10  aitäh ivari padar ole lahke                                                                                                              \n",
       "11  kas eelnõu on kavas selliste sätetega täiendada                                                                                          \n",
       "12  ei ole selleks mingit kohustust aga minu küsimus miks seda kohustust selle eelnõuga neile uuesti ei pandud                               \n",
       "13  kahjumit need on tegelikult probleemid                                                                                                   \n",
       "14  ilmtingimata heaks kiita hea meelega vaataks teie ettepanekud läbi ja siis kujundaks oma seisukoha                                       \n",
       "15  annavad oma parima selle nimel et tuleks väga hea seadus                                                                                 \n",
       "16  seda ei leia kas te püüdsite seda mõjude analüüsi koostada või kelleltki tellida ja see ei ole lihtsalt siia seletuskirja sisse pandud   \n",
       "17  eks see viita ka omamoodi sellele inforuumile mis meile on siin loodud                                                                   \n",
       "18  turvatunde ja selle et mõrtsukad ja pedofiilid ei jaluta rahulikult ringi                                                                \n",
       "19  esimese sammu või juba mitmenda igatahes jätkame seda teekonda tänan tähelepanu eest                                                     \n",
       "\n",
       "                                      id     score  \n",
       "0   20f58d68-c945-4a99-bd86-71f7ca7addec  0.904597  \n",
       "1   6ac8b087-bb92-45ec-ae2f-4bae5b850ff2  0.898503  \n",
       "2   179e0c34-8abb-48ec-a4b5-2b8a4a05e36c  0.895899  \n",
       "3   b9e184b4-a86c-42dc-a7a6-529746c79506  0.893209  \n",
       "4   b3382203-980f-497a-8186-cf70fc40c8c4  0.893205  \n",
       "5   0fc3189a-c2b9-4dbf-a2ec-73ef46711098  0.893149  \n",
       "6   be3dc4c4-b322-446a-a015-b2ae523e5cb2  0.893003  \n",
       "7   1287b45c-e908-4a86-ad69-865f58cdc1c4  0.892655  \n",
       "8   9fefa413-22a5-4d26-9ead-f8fc6bd482b4  0.891959  \n",
       "9   73ca9d5b-485a-4113-b381-90ca841f7c5c  0.891195  \n",
       "10  4419a857-4185-47f8-88ca-2b9fa9afdd4d  0.889535  \n",
       "11  0f0b0f0f-42cd-4034-a9a7-8723be852668  0.889386  \n",
       "12  62276b9c-f07d-48c0-8a3b-a244b855b90f  0.888464  \n",
       "13  c608fe28-9121-4cde-b5e0-4d9b5cdf3a3a  0.888126  \n",
       "14  9e9f676b-1f55-40df-bcad-ba234a02fd34  0.887415  \n",
       "15  bb135145-fd24-498f-b1c3-332dd81d1c20  0.886533  \n",
       "16  10cc66f8-44dd-4e4e-bd79-cc2406d97e87  0.886151  \n",
       "17  4956e0c7-4744-49cc-afb1-067b0aa25881  0.885889  \n",
       "18  6b704253-4ee6-4882-b212-d77ef482c52b  0.885840  \n",
       "19  4e329e04-87bb-4d27-98d9-f2c1dd415cc0  0.885081  "
      ]
     },
     "execution_count": 44,
     "metadata": {},
     "output_type": "execute_result"
    }
   ],
   "source": [
    "df_resp"
   ]
  },
  {
   "cell_type": "code",
   "execution_count": 45,
   "id": "d7c501a6-2395-4c25-b53f-8f370b0ac9ed",
   "metadata": {},
   "outputs": [
    {
     "name": "stdout",
     "output_type": "stream",
     "text": [
      "query string for ask_query_count is infosüsteemide arendamine\n"
     ]
    },
    {
     "data": {
      "text/plain": [
       "'Arhiivis on 20 teksti, kus räägitakse infosüsteemide arendamisest.'"
      ]
     },
     "execution_count": 45,
     "metadata": {},
     "output_type": "execute_result"
    }
   ],
   "source": [
    "resp, func_call_out, df_resp=askgpt_func_call('Kui mitmes tekstis räägitakse infosüsteemide arendamisest?',\n",
    "                functions=[schema(ask_query_count)])\n",
    "resp"
   ]
  },
  {
   "cell_type": "code",
   "execution_count": 46,
   "id": "68272aee-4293-45cb-afa9-c10bf34182e2",
   "metadata": {},
   "outputs": [
    {
     "data": {
      "text/html": [
       "<div>\n",
       "<style scoped>\n",
       "    .dataframe tbody tr th:only-of-type {\n",
       "        vertical-align: middle;\n",
       "    }\n",
       "\n",
       "    .dataframe tbody tr th {\n",
       "        vertical-align: top;\n",
       "    }\n",
       "\n",
       "    .dataframe thead th {\n",
       "        text-align: right;\n",
       "    }\n",
       "</style>\n",
       "<table border=\"1\" class=\"dataframe\">\n",
       "  <thead>\n",
       "    <tr style=\"text-align: right;\">\n",
       "      <th></th>\n",
       "      <th>text</th>\n",
       "      <th>id</th>\n",
       "      <th>score</th>\n",
       "    </tr>\n",
       "  </thead>\n",
       "  <tbody>\n",
       "    <tr>\n",
       "      <th>0</th>\n",
       "      <td>saadavad nii et seadus on mõeldud eelkõige informatsiooni jagamiseks aga kindlasti ka usaldusväärsuse suurendamiseks</td>\n",
       "      <td>cab6974c-1c78-4170-befd-3a8f86e02bc9</td>\n",
       "      <td>0.894582</td>\n",
       "    </tr>\n",
       "    <tr>\n",
       "      <th>1</th>\n",
       "      <td>on plaanis kogu seda andmebaasi niimoodi ühtlustada et kehtestataks üks aruannete kuupäev</td>\n",
       "      <td>99acf739-1550-487e-a514-a91ba5db2c95</td>\n",
       "      <td>0.891507</td>\n",
       "    </tr>\n",
       "    <tr>\n",
       "      <th>2</th>\n",
       "      <td>küll aga on võimalik muuta riigiteenuseid läbipaistvamaks ja automaatsemaks kui me mõistlikult arendaksime oma e-riiki ja kasutaksime rohkem tehisintellekti aitäh</td>\n",
       "      <td>c09ece17-240e-4513-ae0a-b5e9e10689c4</td>\n",
       "      <td>0.890537</td>\n",
       "    </tr>\n",
       "    <tr>\n",
       "      <th>3</th>\n",
       "      <td>aitäh lõpetan selle küsimuse käsitlemise meil rohkem ei ole registreeritud teemasid</td>\n",
       "      <td>85a6b2a9-c2e5-47af-96f3-b7ea58cb7810</td>\n",
       "      <td>0.890372</td>\n",
       "    </tr>\n",
       "    <tr>\n",
       "      <th>4</th>\n",
       "      <td>et 13 miljonit digiteenuste maksuraha kätte saada kaks küsimust ühes</td>\n",
       "      <td>0fc3189a-c2b9-4dbf-a2ec-73ef46711098</td>\n",
       "      <td>0.887369</td>\n",
       "    </tr>\n",
       "    <tr>\n",
       "      <th>5</th>\n",
       "      <td>aitäh lõpetan selle küsimuse käsitlemise</td>\n",
       "      <td>739f9ba9-be84-4a3a-ba4f-65a3998c9112</td>\n",
       "      <td>0.885920</td>\n",
       "    </tr>\n",
       "    <tr>\n",
       "      <th>6</th>\n",
       "      <td>aitäh lõpetan selle küsimuse käsitlemise</td>\n",
       "      <td>44dc034a-5a14-4c00-8044-1135cb06327b</td>\n",
       "      <td>0.885920</td>\n",
       "    </tr>\n",
       "    <tr>\n",
       "      <th>7</th>\n",
       "      <td>aitäh lõpetan selle küsimuse käsitlemise</td>\n",
       "      <td>1bd47684-4534-48c3-947a-a7a1439170cd</td>\n",
       "      <td>0.885920</td>\n",
       "    </tr>\n",
       "    <tr>\n",
       "      <th>8</th>\n",
       "      <td>aitäh lõpetan selle küsimuse käsitlemise</td>\n",
       "      <td>88edc9a9-0777-40ca-9b35-d2c7325f84a9</td>\n",
       "      <td>0.885920</td>\n",
       "    </tr>\n",
       "    <tr>\n",
       "      <th>9</th>\n",
       "      <td>aitäh lõpetan selle küsimuse käsitlemise</td>\n",
       "      <td>68e35590-b61e-48a3-b279-eba87a5c4185</td>\n",
       "      <td>0.885920</td>\n",
       "    </tr>\n",
       "    <tr>\n",
       "      <th>10</th>\n",
       "      <td>aitäh lõpetan selle küsimuse käsitlemise</td>\n",
       "      <td>c418ea26-a72c-4614-ac72-d47c60ed27a0</td>\n",
       "      <td>0.885920</td>\n",
       "    </tr>\n",
       "    <tr>\n",
       "      <th>11</th>\n",
       "      <td>aitäh lõpetan selle küsimuse käsitlemise</td>\n",
       "      <td>9da2cb00-9793-422e-88ad-e5b1ccace21f</td>\n",
       "      <td>0.885920</td>\n",
       "    </tr>\n",
       "    <tr>\n",
       "      <th>12</th>\n",
       "      <td>totaalne paradigma muutus või mis see siis nüüd on</td>\n",
       "      <td>73ca9d5b-485a-4113-b381-90ca841f7c5c</td>\n",
       "      <td>0.885051</td>\n",
       "    </tr>\n",
       "    <tr>\n",
       "      <th>13</th>\n",
       "      <td>korraldades kui millestki rääkida siis loomulikult konkurentsivõimest palun lisaaega</td>\n",
       "      <td>bfa0f3b2-578a-498c-9633-39dab1985e36</td>\n",
       "      <td>0.884617</td>\n",
       "    </tr>\n",
       "    <tr>\n",
       "      <th>14</th>\n",
       "      <td>mis ajaks see võiks valmida ja mis võiksid olla selle põhilised lähtekohad</td>\n",
       "      <td>fa5cc5b3-3b5d-4563-9daf-048e61fc4f64</td>\n",
       "      <td>0.884467</td>\n",
       "    </tr>\n",
       "    <tr>\n",
       "      <th>15</th>\n",
       "      <td>täpsustav küsimus merry aart palun</td>\n",
       "      <td>e6fe92c6-07dd-4bf8-8576-5ca8633edce0</td>\n",
       "      <td>0.883702</td>\n",
       "    </tr>\n",
       "    <tr>\n",
       "      <th>16</th>\n",
       "      <td>kas eelnõu on kavas selliste sätetega täiendada</td>\n",
       "      <td>0f0b0f0f-42cd-4034-a9a7-8723be852668</td>\n",
       "      <td>0.883642</td>\n",
       "    </tr>\n",
       "    <tr>\n",
       "      <th>17</th>\n",
       "      <td>paremad pensionid nii praegu kui ka tulevikus</td>\n",
       "      <td>850a771b-29d2-42ea-9c5c-4736e7a83211</td>\n",
       "      <td>0.883263</td>\n",
       "    </tr>\n",
       "    <tr>\n",
       "      <th>18</th>\n",
       "      <td>on olnud nii algatajate ringis kui on ka selle eelnõu kooskõlastanud</td>\n",
       "      <td>f066e047-cd40-4f2a-8ba6-ee6f0cbc8578</td>\n",
       "      <td>0.883055</td>\n",
       "    </tr>\n",
       "    <tr>\n",
       "      <th>19</th>\n",
       "      <td>aitäh palun kolm minutit juurde</td>\n",
       "      <td>192e8a50-ec1a-43a1-9afd-d5783cd6ca10</td>\n",
       "      <td>0.882544</td>\n",
       "    </tr>\n",
       "  </tbody>\n",
       "</table>\n",
       "</div>"
      ],
      "text/plain": [
       "                                                                                                                                                                  text  \\\n",
       "0   saadavad nii et seadus on mõeldud eelkõige informatsiooni jagamiseks aga kindlasti ka usaldusväärsuse suurendamiseks                                                 \n",
       "1   on plaanis kogu seda andmebaasi niimoodi ühtlustada et kehtestataks üks aruannete kuupäev                                                                            \n",
       "2   küll aga on võimalik muuta riigiteenuseid läbipaistvamaks ja automaatsemaks kui me mõistlikult arendaksime oma e-riiki ja kasutaksime rohkem tehisintellekti aitäh   \n",
       "3   aitäh lõpetan selle küsimuse käsitlemise meil rohkem ei ole registreeritud teemasid                                                                                  \n",
       "4   et 13 miljonit digiteenuste maksuraha kätte saada kaks küsimust ühes                                                                                                 \n",
       "5   aitäh lõpetan selle küsimuse käsitlemise                                                                                                                             \n",
       "6   aitäh lõpetan selle küsimuse käsitlemise                                                                                                                             \n",
       "7   aitäh lõpetan selle küsimuse käsitlemise                                                                                                                             \n",
       "8   aitäh lõpetan selle küsimuse käsitlemise                                                                                                                             \n",
       "9   aitäh lõpetan selle küsimuse käsitlemise                                                                                                                             \n",
       "10  aitäh lõpetan selle küsimuse käsitlemise                                                                                                                             \n",
       "11  aitäh lõpetan selle küsimuse käsitlemise                                                                                                                             \n",
       "12  totaalne paradigma muutus või mis see siis nüüd on                                                                                                                   \n",
       "13  korraldades kui millestki rääkida siis loomulikult konkurentsivõimest palun lisaaega                                                                                 \n",
       "14  mis ajaks see võiks valmida ja mis võiksid olla selle põhilised lähtekohad                                                                                           \n",
       "15  täpsustav küsimus merry aart palun                                                                                                                                   \n",
       "16  kas eelnõu on kavas selliste sätetega täiendada                                                                                                                      \n",
       "17  paremad pensionid nii praegu kui ka tulevikus                                                                                                                        \n",
       "18  on olnud nii algatajate ringis kui on ka selle eelnõu kooskõlastanud                                                                                                 \n",
       "19  aitäh palun kolm minutit juurde                                                                                                                                      \n",
       "\n",
       "                                      id     score  \n",
       "0   cab6974c-1c78-4170-befd-3a8f86e02bc9  0.894582  \n",
       "1   99acf739-1550-487e-a514-a91ba5db2c95  0.891507  \n",
       "2   c09ece17-240e-4513-ae0a-b5e9e10689c4  0.890537  \n",
       "3   85a6b2a9-c2e5-47af-96f3-b7ea58cb7810  0.890372  \n",
       "4   0fc3189a-c2b9-4dbf-a2ec-73ef46711098  0.887369  \n",
       "5   739f9ba9-be84-4a3a-ba4f-65a3998c9112  0.885920  \n",
       "6   44dc034a-5a14-4c00-8044-1135cb06327b  0.885920  \n",
       "7   1bd47684-4534-48c3-947a-a7a1439170cd  0.885920  \n",
       "8   88edc9a9-0777-40ca-9b35-d2c7325f84a9  0.885920  \n",
       "9   68e35590-b61e-48a3-b279-eba87a5c4185  0.885920  \n",
       "10  c418ea26-a72c-4614-ac72-d47c60ed27a0  0.885920  \n",
       "11  9da2cb00-9793-422e-88ad-e5b1ccace21f  0.885920  \n",
       "12  73ca9d5b-485a-4113-b381-90ca841f7c5c  0.885051  \n",
       "13  bfa0f3b2-578a-498c-9633-39dab1985e36  0.884617  \n",
       "14  fa5cc5b3-3b5d-4563-9daf-048e61fc4f64  0.884467  \n",
       "15  e6fe92c6-07dd-4bf8-8576-5ca8633edce0  0.883702  \n",
       "16  0f0b0f0f-42cd-4034-a9a7-8723be852668  0.883642  \n",
       "17  850a771b-29d2-42ea-9c5c-4736e7a83211  0.883263  \n",
       "18  f066e047-cd40-4f2a-8ba6-ee6f0cbc8578  0.883055  \n",
       "19  192e8a50-ec1a-43a1-9afd-d5783cd6ca10  0.882544  "
      ]
     },
     "execution_count": 46,
     "metadata": {},
     "output_type": "execute_result"
    }
   ],
   "source": [
    "df_resp"
   ]
  },
  {
   "cell_type": "code",
   "execution_count": null,
   "id": "65c088cf-a1ab-43ac-b767-26587373cf58",
   "metadata": {},
   "outputs": [],
   "source": []
  }
 ],
 "metadata": {
  "kernelspec": {
   "display_name": "Python 3 (ipykernel)",
   "language": "python",
   "name": "python3"
  },
  "language_info": {
   "codemirror_mode": {
    "name": "ipython",
    "version": 3
   },
   "file_extension": ".py",
   "mimetype": "text/x-python",
   "name": "python",
   "nbconvert_exporter": "python",
   "pygments_lexer": "ipython3",
   "version": "3.9.13"
  }
 },
 "nbformat": 4,
 "nbformat_minor": 5
}
