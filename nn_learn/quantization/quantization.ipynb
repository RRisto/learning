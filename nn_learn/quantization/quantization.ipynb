{
 "cells": [
  {
   "cell_type": "code",
   "execution_count": 11,
   "id": "385e27ec",
   "metadata": {
    "pycharm": {
     "name": "#%%\n"
    }
   },
   "outputs": [],
   "source": [
    "from time import time\n",
    "import numpy as np"
   ]
  },
  {
   "cell_type": "markdown",
   "id": "2105cf57",
   "metadata": {
    "pycharm": {
     "name": "#%% md\n"
    }
   },
   "source": [
    "## Source: https://leimao.github.io/article/Neural-Networks-Quantization/"
   ]
  },
  {
   "cell_type": "code",
   "execution_count": 4,
   "id": "37bd961d",
   "metadata": {
    "pycharm": {
     "name": "#%%\n"
    }
   },
   "outputs": [],
   "source": [
    "def quantization(x, s, z, alpha_q, beta_q):\n",
    "    x_q = np.round(1 / s * x + z, decimals=0)\n",
    "    x_q = np.clip(x_q, a_min=alpha_q, a_max=beta_q)\n",
    "    return x_q\n",
    "\n",
    "def quantization_int8(x, s, z):\n",
    "    x_q = quantization(x, s, z, alpha_q=-128, beta_q=127)\n",
    "    x_q = x_q.astype(np.int8)\n",
    "    return x_q\n",
    "\n",
    "def dequantization(x_q, s, z):\n",
    "    x = s * (x_q - z)\n",
    "    x = x.astype(np.float32)\n",
    "    return x\n",
    "\n",
    "def generate_quantization_constants(alpha, beta, alpha_q, beta_q):\n",
    "    # Affine quantization mapping\n",
    "    s = (beta - alpha) / (beta_q - alpha_q)\n",
    "    z = int((beta * alpha_q - alpha * beta_q) / (beta - alpha))\n",
    "    return s, z\n",
    "\n",
    "def generate_quantization_int8_constants(alpha, beta):\n",
    "    b = 8\n",
    "    alpha_q = -2**(b - 1)\n",
    "    beta_q = 2**(b - 1) - 1\n",
    "    s, z = generate_quantization_constants(alpha=alpha,\n",
    "                                           beta=beta,\n",
    "                                           alpha_q=alpha_q,\n",
    "                                           beta_q=beta_q)\n",
    "    return s, z\n",
    "\n",
    "def quantization_matrix_multiplication_int8(X_q, W_q, b_q, s_X, z_X, s_W, z_W,\n",
    "                                            s_b, z_b, s_Y, z_Y):\n",
    "    p = W_q.shape[0]\n",
    "    Y_q_simulated = (\n",
    "        z_Y + (s_b / s_Y * (b_q.astype(np.int32) - z_b)).astype(np.int8) +\n",
    "        ((s_X * s_W / s_Y) *\n",
    "         (np.matmul(X_q.astype(np.int32), W_q.astype(np.int32)) -\n",
    "          z_W * np.sum(X_q.astype(np.int32), axis=1, keepdims=True) -\n",
    "          z_X * np.sum(W_q.astype(np.int32), axis=0, keepdims=True) +\n",
    "          p * z_X * z_W)).astype(np.int8)).astype(np.int8)\n",
    "    return Y_q_simulated"
   ]
  },
  {
   "cell_type": "code",
   "execution_count": 5,
   "id": "706b9007",
   "metadata": {
    "pycharm": {
     "name": "#%%\n"
    }
   },
   "outputs": [],
   "source": [
    "def main():\n",
    "    # Set random seed for reproducibility\n",
    "    random_seed = 0\n",
    "    np.random.seed(random_seed)\n",
    "\n",
    "    # Random matrices\n",
    "    m = 2\n",
    "    p = 3\n",
    "    n = 4\n",
    "\n",
    "    # X\n",
    "    alpha_X = -100.0\n",
    "    beta_X = 80.0\n",
    "    s_X, z_X = generate_quantization_int8_constants(alpha=alpha_X, beta=beta_X)\n",
    "    X = np.random.uniform(low=alpha_X, high=beta_X,\n",
    "                          size=(m, p)).astype(np.float32)\n",
    "    X_q = quantization_int8(x=X, s=s_X, z=z_X)\n",
    "\n",
    "    # W\n",
    "    alpha_W = -20.0\n",
    "    beta_W = 10.0\n",
    "    s_W, z_W = generate_quantization_int8_constants(alpha=alpha_W, beta=beta_W)\n",
    "    W = np.random.uniform(low=alpha_W, high=beta_W,\n",
    "                          size=(p, n)).astype(np.float32)\n",
    "    W_q = quantization_int8(x=W, s=s_W, z=z_W)\n",
    "\n",
    "    # b\n",
    "    alpha_b = -500.0\n",
    "    beta_b = 500.0\n",
    "    s_b, z_b = generate_quantization_int8_constants(alpha=alpha_b, beta=beta_b)\n",
    "    b = np.random.uniform(low=alpha_b, high=beta_b,\n",
    "                          size=(1, n)).astype(np.float32)\n",
    "    b_q = quantization_int8(x=b, s=s_b, z=z_b)\n",
    "\n",
    "    # Y\n",
    "    alpha_Y = -3000.0\n",
    "    beta_Y = 3000.0\n",
    "    s_Y, z_Y = generate_quantization_int8_constants(alpha=alpha_Y, beta=beta_Y)\n",
    "    Y_expected = np.matmul(X, W) + b\n",
    "    Y_q_expected = quantization_int8(x=Y_expected, s=s_Y, z=z_Y)\n",
    "\n",
    "    print(\"Expected Y:\")\n",
    "    print(Y_expected)\n",
    "    print(\"Expected Y_q:\")\n",
    "    print(Y_q_expected)\n",
    "\n",
    "    Y_q_simulated = quantization_matrix_multiplication_int8(X_q=X_q,\n",
    "                                                            W_q=W_q,\n",
    "                                                            b_q=b_q,\n",
    "                                                            s_X=s_X,\n",
    "                                                            z_X=z_X,\n",
    "                                                            s_W=s_W,\n",
    "                                                            z_W=z_W,\n",
    "                                                            s_b=s_b,\n",
    "                                                            z_b=z_b,\n",
    "                                                            s_Y=s_Y,\n",
    "                                                            z_Y=z_Y)\n",
    "    Y_simulated = dequantization(x_q=Y_q_simulated, s=s_Y, z=z_Y)\n",
    "\n",
    "    print(\"Y from Quantized Matrix Multiplication:\")\n",
    "    print(Y_simulated)\n",
    "    print(\"Y_q from Quantized Matrix Multiplication:\")\n",
    "    print(Y_q_simulated)"
   ]
  },
  {
   "cell_type": "code",
   "execution_count": 6,
   "id": "6c606cb9",
   "metadata": {
    "pycharm": {
     "name": "#%%\n"
    }
   },
   "outputs": [
    {
     "name": "stdout",
     "output_type": "stream",
     "text": [
      "Expected Y:\n",
      "[[242.46051  95.31735 217.99707 574.97864]\n",
      " [-88.28122 172.45425 216.39148 212.0112 ]]\n",
      "Expected Y_q:\n",
      "[[10  4  9 24]\n",
      " [-4  7  9  9]]\n",
      "Y from Quantized Matrix Multiplication:\n",
      "[[235.29411   94.117645 211.76471  541.17645 ]\n",
      " [-94.117645 164.70589  211.76471  211.76471 ]]\n",
      "Y_q from Quantized Matrix Multiplication:\n",
      "[[10  4  9 23]\n",
      " [-4  7  9  9]]\n"
     ]
    }
   ],
   "source": [
    "if __name__ == \"__main__\":\n",
    "    main()"
   ]
  },
  {
   "cell_type": "code",
   "execution_count": 7,
   "id": "a488fc96",
   "metadata": {
    "pycharm": {
     "name": "#%%\n"
    }
   },
   "outputs": [],
   "source": [
    "#speed comparison\n",
    "\n",
    "#gen data\n",
    "# Set random seed for reproducibility\n",
    "random_seed = 0\n",
    "np.random.seed(random_seed)\n",
    "\n",
    "# Random matrices\n",
    "m = 2\n",
    "p = 3\n",
    "n = 4\n",
    "\n",
    "# X\n",
    "alpha_X = -100.0\n",
    "beta_X = 80.0\n",
    "s_X, z_X = generate_quantization_int8_constants(alpha=alpha_X, beta=beta_X)\n",
    "X = np.random.uniform(low=alpha_X, high=beta_X,\n",
    "                      size=(m, p)).astype(np.float32)\n",
    "X_q = quantization_int8(x=X, s=s_X, z=z_X)\n",
    "\n",
    "# W\n",
    "alpha_W = -20.0\n",
    "beta_W = 10.0\n",
    "s_W, z_W = generate_quantization_int8_constants(alpha=alpha_W, beta=beta_W)\n",
    "W = np.random.uniform(low=alpha_W, high=beta_W,\n",
    "                      size=(p, n)).astype(np.float32)\n",
    "W_q = quantization_int8(x=W, s=s_W, z=z_W)\n",
    "\n",
    "# b\n",
    "alpha_b = -500.0\n",
    "beta_b = 500.0\n",
    "s_b, z_b = generate_quantization_int8_constants(alpha=alpha_b, beta=beta_b)\n",
    "b = np.random.uniform(low=alpha_b, high=beta_b,\n",
    "                      size=(1, n)).astype(np.float32)\n",
    "b_q = quantization_int8(x=b, s=s_b, z=z_b)\n",
    "\n",
    "# Y\n",
    "alpha_Y = -3000.0\n",
    "beta_Y = 3000.0\n",
    "s_Y, z_Y = generate_quantization_int8_constants(alpha=alpha_Y, beta=beta_Y)\n",
    "Y_expected = np.matmul(X, W) + b\n",
    "Y_q_expected = quantization_int8(x=Y_expected, s=s_Y, z=z_Y)\n"
   ]
  },
  {
   "cell_type": "code",
   "execution_count": 9,
   "id": "8ad52867",
   "metadata": {
    "pycharm": {
     "name": "#%%\n"
    }
   },
   "outputs": [
    {
     "name": "stdout",
     "output_type": "stream",
     "text": [
      "CPU times: total: 0 ns\n",
      "Wall time: 1 ms\n"
     ]
    }
   ],
   "source": [
    "%time Y_q_simulated = quantization_matrix_multiplication_int8(X_q=X_q, W_q=W_q, b_q=b_q, s_X=s_X, z_X=z_X, s_W=s_W, z_W=z_W,s_b=s_b,z_b=z_b,s_Y=s_Y,z_Y=z_Y)"
   ]
  },
  {
   "cell_type": "code",
   "execution_count": 15,
   "id": "b6d8e349",
   "metadata": {
    "pycharm": {
     "name": "#%%\n"
    }
   },
   "outputs": [
    {
     "name": "stdout",
     "output_type": "stream",
     "text": [
      "elapsed time 3.1349165439605713\n"
     ]
    }
   ],
   "source": [
    "N_ITERS=100000\n",
    "start=time()\n",
    "for i in range(N_ITERS):\n",
    "     Y_q_simulated = quantization_matrix_multiplication_int8(X_q=X_q, W_q=W_q, b_q=b_q, s_X=s_X, z_X=z_X, s_W=s_W, z_W=z_W,s_b=s_b,z_b=z_b,s_Y=s_Y,z_Y=z_Y)\n",
    "end=time()\n",
    "print(f'elapsed time {end-start}')"
   ]
  },
  {
   "cell_type": "code",
   "execution_count": 16,
   "id": "5495ecd7",
   "metadata": {
    "pycharm": {
     "name": "#%%\n"
    }
   },
   "outputs": [
    {
     "name": "stdout",
     "output_type": "stream",
     "text": [
      "elapsed time 0.26000094413757324\n"
     ]
    }
   ],
   "source": [
    "start=time()\n",
    "for i in range(N_ITERS):\n",
    "    Y_expected = np.matmul(X, W) + b\n",
    "end=time()\n",
    "print(f'elapsed time {end-start}')"
   ]
  },
  {
   "cell_type": "code",
   "execution_count": null,
   "id": "f3ee18b2",
   "metadata": {
    "pycharm": {
     "name": "#%%\n"
    }
   },
   "outputs": [],
   "source": []
  }
 ],
 "metadata": {
  "kernelspec": {
   "display_name": "Python 3 (ipykernel)",
   "language": "python",
   "name": "python3"
  },
  "language_info": {
   "codemirror_mode": {
    "name": "ipython",
    "version": 3
   },
   "file_extension": ".py",
   "mimetype": "text/x-python",
   "name": "python",
   "nbconvert_exporter": "python",
   "pygments_lexer": "ipython3",
   "version": "3.9.12"
  }
 },
 "nbformat": 4,
 "nbformat_minor": 5
}