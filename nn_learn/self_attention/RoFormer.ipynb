{
 "cells": [
  {
   "cell_type": "markdown",
   "id": "1df39d60",
   "metadata": {},
   "source": [
    "please explain how this is derived:\n",
    "$$f_q(x_q, m) &= R_q(x_q, m)e^{i\\Theta_q(x_q, m)}$$\n",
    "\n",
    "\n",
    "\n",
    "This equation is derived from the paper \"RoFormer: Enhanced Transformer with Rotary Position Embedding\" by Su et al.https://link.springer.com/article/10.1007/s10623-021-00959-4. It is a way to express the query vector $f_q(x_q, m)$ in the self-attention mechanism of the transformer model, where $x_q$ is the input embedding of the query token and $m$ is the position index of the query token.\n",
    "\n",
    "The equation can be explained as follows:\n",
    "\n",
    "•  $R_q(x_q, m)$ is a rotation matrix that encodes the absolute position of the query token with an angle $\\theta_q(x_q, m) = \\frac{2\\pi m}{f}$, where $f$ is a constant factor that determines the angle. The rotation matrix is defined as:\n",
    "\n",
    "$$\n",
    "R_q(x_q, m) = \\begin{bmatrix}\n",
    "\\cos(\\theta_q(x_q, m)) & -\\sin(\\theta_q(x_q, m)) \\\n",
    "\\sin(\\theta_q(x_q, m)) & \\cos(\\theta_q(x_q, m))\n",
    "\\end{bmatrix}\n",
    "$$\n",
    "\n",
    "•  $e^{i\\Theta_q(x_q, m)}$ is a complex exponential function that encodes the relative position dependency between the query token and other tokens in the self-attention formulation. The angle $\\Theta_q(x_q, m)$ is defined as:\n",
    "\n",
    "$$\n",
    "\\Theta_q(x_q, m) = \\frac{2\\pi}{f} \\sum_{j=1}^{d/2} \\frac{j}{d/2} x_{q, 2j-1}\n",
    "$$\n",
    "\n",
    "where $d$ is the dimension of the input embedding and $x_{q, 2j-1}$ is the real part of the $j$-th complex component of $x_q$. The complex exponential function is defined as:\n",
    "\n",
    "$$\n",
    "e^{i\\Theta_q(x_q, m)} = \\cos(\\Theta_q(x_q, m)) + i\\sin(\\Theta_q(x_q, m))\n",
    "$$\n",
    "\n",
    "•  The product of $R_q(x_q, m)$ and $e^{i\\Theta_q(x_q, m)}$ is a complex number that represents the query vector $f_q(x_q, m)$ after applying RoPE. The product can be computed as:\n",
    "\n",
    "$$\n",
    "f_q(x_q, m) = R_q(x_q, m)e^{i\\Theta_q(x_q, m)} = \\begin{bmatrix}\n",
    "\\cos(\\theta_q(x_q, m)) & -\\sin(\\theta_q(x_q, m)) \\\n",
    "\\sin(\\theta_q(x_q, m)) & \\cos(\\theta_q(x_q, m))\n",
    "\\end{bmatrix}\n",
    "\\begin{bmatrix}\n",
    "\\cos(\\Theta_q(x_q, m)) \\\n",
    "i\\sin(\\Theta_q(x_q, m))\n",
    "\\end{bmatrix}\n",
    "= \\begin{bmatrix}\n",
    "\\cos(\\theta_q + \\Theta_{q}) + i\\sin(-\\theta_{q} + \\Theta_{q}) \\\n",
    "\\sin(-\\theta_{q} + \\Theta_{q}) + i\\cos(-\\theta_{q} + \\Theta_{q})\n",
    "\\end{bmatrix}\n",
    "$$\n",
    "\n",
    "where we use the trigonometric identities:\n",
    "\n",
    "$$\n",
    "\\cos(a+b) = \\cos(a)\\cos(b) - \\sin(a)\\sin(b)\n",
    "$$\n",
    "\n",
    "$$\n",
    "\\sin(a+b) = \\sin(a)\\cos(b) + \\cos(a)\\sin(b)\n",
    "$$"
   ]
  },
  {
   "cell_type": "code",
   "execution_count": null,
   "id": "98a91d17",
   "metadata": {},
   "outputs": [],
   "source": []
  }
 ],
 "metadata": {
  "kernelspec": {
   "display_name": "Python 3 (ipykernel)",
   "language": "python",
   "name": "python3"
  },
  "language_info": {
   "codemirror_mode": {
    "name": "ipython",
    "version": 3
   },
   "file_extension": ".py",
   "mimetype": "text/x-python",
   "name": "python",
   "nbconvert_exporter": "python",
   "pygments_lexer": "ipython3",
   "version": "3.9.12"
  }
 },
 "nbformat": 4,
 "nbformat_minor": 5
}
