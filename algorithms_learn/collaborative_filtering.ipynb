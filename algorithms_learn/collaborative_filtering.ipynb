{
 "cells": [
  {
   "cell_type": "code",
   "execution_count": 1,
   "metadata": {
    "collapsed": true
   },
   "outputs": [],
   "source": [
    "import math"
   ]
  },
  {
   "cell_type": "code",
   "execution_count": 2,
   "metadata": {
    "collapsed": true
   },
   "outputs": [],
   "source": [
    "def sort_and_count_inv(lst):\n",
    "    '''count number of inversions in list lst and return also sorted list\n",
    "    input:\n",
    "        - lst - list in where number of pair of elements are out of order are counted\n",
    "    output:\n",
    "        - sorted list\n",
    "        - number of inversions\n",
    "        '''\n",
    "    \n",
    "    n=len(lst)\n",
    "    if n==0 or n==1:\n",
    "        return lst, 0\n",
    "    else:\n",
    "        lst1=lst[0:math.floor(len(lst)/2)]\n",
    "        lst2=lst[math.floor(len(lst)/2):]\n",
    "        \n",
    "        c,left_inv=sort_and_count_inv(lst1)\n",
    "        d, right_inv=sort_and_count_inv(lst2)\n",
    "        b, split_inv=merge_count_split_inv(c,d)\n",
    "        \n",
    "        return b, (left_inv+right_inv+split_inv)"
   ]
  },
  {
   "cell_type": "code",
   "execution_count": 9,
   "metadata": {
    "collapsed": true
   },
   "outputs": [],
   "source": [
    "def merge_count_split_inv(c, d):\n",
    "    '''count split inversions of list c and d\n",
    "    input:\n",
    "        - c - left side sorted list\n",
    "        - d - right side sorted list\n",
    "    output:\n",
    "        - sorted list b (merged from c and d)\n",
    "        - number of inversions\n",
    "        '''\n",
    "    i = j = split_inv = 0\n",
    "    b = []\n",
    "    n = len(c) + len(d)\n",
    "\n",
    "    for k in range(n):\n",
    "        if i >= len(c):\n",
    "            b.extend(d[j:])\n",
    "            break\n",
    "        if j >= len(d):\n",
    "            b.extend(c[i:])\n",
    "            break\n",
    "        elif c[i] < d[j]:\n",
    "            b.append(c[i])\n",
    "            i += 1\n",
    "        else:\n",
    "            b.append(d[j])\n",
    "            split_inv += (len(c) - i)\n",
    "            j += 1\n",
    "    return b, split_inv"
   ]
  },
  {
   "cell_type": "code",
   "execution_count": 10,
   "metadata": {},
   "outputs": [
    {
     "data": {
      "text/plain": [
       "([1, 2, 3, 4, 5, 6], 3)"
      ]
     },
     "execution_count": 10,
     "metadata": {},
     "output_type": "execute_result"
    }
   ],
   "source": [
    "#pairs out or order: (2,5), (2,3), (4,5)\n",
    "sort_and_count_inv([1,3,5,2,4,6])"
   ]
  },
  {
   "cell_type": "code",
   "execution_count": 11,
   "metadata": {},
   "outputs": [
    {
     "data": {
      "text/plain": [
       "([1, 2, 3, 4, 5, 6], 4)"
      ]
     },
     "execution_count": 11,
     "metadata": {},
     "output_type": "execute_result"
    }
   ],
   "source": [
    "#pairs out or order: (1,3), (2,5), (2,3), (4,5)\n",
    "sort_and_count_inv([3,1,5,2,4,6])"
   ]
  },
  {
   "cell_type": "code",
   "execution_count": null,
   "metadata": {
    "collapsed": true
   },
   "outputs": [],
   "source": []
  }
 ],
 "metadata": {
  "kernelspec": {
   "display_name": "Python 3",
   "language": "python",
   "name": "python3"
  },
  "language_info": {
   "codemirror_mode": {
    "name": "ipython",
    "version": 3
   },
   "file_extension": ".py",
   "mimetype": "text/x-python",
   "name": "python",
   "nbconvert_exporter": "python",
   "pygments_lexer": "ipython3",
   "version": "3.5.4"
  }
 },
 "nbformat": 4,
 "nbformat_minor": 2
}
