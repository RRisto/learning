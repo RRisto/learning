{
 "cells": [
  {
   "cell_type": "code",
   "execution_count": 195,
   "metadata": {},
   "outputs": [],
   "source": [
    "import random\n",
    "import math\n",
    "nr_of_comparisons=0\n",
    "\n",
    "def quicksort(lst, pivot_type='rand'):\n",
    "    if len(lst)<=1:\n",
    "        return lst\n",
    "    #choose pivot\n",
    "    pivot_ind=choose_pivot_ind(lst, pivot_type=pivot_type)\n",
    "    #swap pivot to first element\n",
    "    lst.insert(0, lst.pop(pivot_ind))\n",
    "    #partition get new pivot position\n",
    "    j=partition(lst)\n",
    "    #recurse on first part\n",
    "    first=quicksort(lst[0:j], pivot_type=pivot_type)\n",
    "    #recurse on last part\n",
    "    last=quicksort(lst[j+1:], pivot_type=pivot_type)\n",
    "    return first+[lst[j]]+last  "
   ]
  },
  {
   "cell_type": "code",
   "execution_count": 215,
   "metadata": {},
   "outputs": [],
   "source": [
    "def choose_pivot_ind(lst, pivot_type='rand'):\n",
    "    if pivot_type=='rand':\n",
    "        return random.randint(0,len(lst)-1)\n",
    "    if pivot_type=='first':\n",
    "        return 0\n",
    "    if pivot_type=='last':\n",
    "        return -1\n",
    "    if pivot_type=='median_of_3':\n",
    "        if len(lst)<3:\n",
    "            return 0\n",
    "        else:\n",
    "            sorted_3 = list(set([lst[0], lst[-1], lst[math.floor(len(lst) / 2)]]))\n",
    "            return lst.index(sorted_3[1])"
   ]
  },
  {
   "cell_type": "code",
   "execution_count": 178,
   "metadata": {
    "collapsed": true
   },
   "outputs": [],
   "source": [
    "def partition(lst):\n",
    "    global nr_of_comparisons\n",
    "    p=lst[0]\n",
    "    i=1\n",
    "    for j in range(1,len(lst)):\n",
    "        if lst[j]<p:\n",
    "            #swap aj and ai\n",
    "            lst[i], lst[j] = lst[j], lst[i]\n",
    "            i+=1\n",
    "        nr_of_comparisons+=1\n",
    "    #place pivot correctly\n",
    "    lst[0], lst[i-1] = lst[i-1], lst[0]\n",
    "    return i-1"
   ]
  },
  {
   "cell_type": "code",
   "execution_count": 110,
   "metadata": {
    "collapsed": true
   },
   "outputs": [],
   "source": [
    "lst=[5,3,7,2,4,9,6]"
   ]
  },
  {
   "cell_type": "code",
   "execution_count": 111,
   "metadata": {},
   "outputs": [
    {
     "data": {
      "text/plain": [
       "6"
      ]
     },
     "execution_count": 111,
     "metadata": {},
     "output_type": "execute_result"
    }
   ],
   "source": [
    "lst[-1]"
   ]
  },
  {
   "cell_type": "code",
   "execution_count": 112,
   "metadata": {},
   "outputs": [
    {
     "data": {
      "text/plain": [
       "[5, 3]"
      ]
     },
     "execution_count": 112,
     "metadata": {},
     "output_type": "execute_result"
    }
   ],
   "source": [
    "lst[0:2]"
   ]
  },
  {
   "cell_type": "code",
   "execution_count": 113,
   "metadata": {},
   "outputs": [
    {
     "data": {
      "text/plain": [
       "[7, 2, 4, 9, 6]"
      ]
     },
     "execution_count": 113,
     "metadata": {},
     "output_type": "execute_result"
    }
   ],
   "source": [
    "lst[2:]"
   ]
  },
  {
   "cell_type": "markdown",
   "metadata": {
    "collapsed": true
   },
   "source": [
    "## Try different pivots"
   ]
  },
  {
   "cell_type": "code",
   "execution_count": 220,
   "metadata": {},
   "outputs": [
    {
     "data": {
      "text/plain": [
       "[504, 609, 2148, 3153, 5469, 6324, 7017, 7628, 7742, 9058]"
      ]
     },
     "execution_count": 220,
     "metadata": {},
     "output_type": "execute_result"
    }
   ],
   "source": [
    "lst=[2148,9058,7742,3153,6324,609,7628,5469,7017,504]\n",
    "nr_of_comparisons=0\n",
    "quicksort(lst, pivot_type='first')"
   ]
  },
  {
   "cell_type": "code",
   "execution_count": 221,
   "metadata": {},
   "outputs": [
    {
     "data": {
      "text/plain": [
       "25"
      ]
     },
     "execution_count": 221,
     "metadata": {},
     "output_type": "execute_result"
    }
   ],
   "source": [
    "nr_of_comparisons #should be 25"
   ]
  },
  {
   "cell_type": "code",
   "execution_count": 222,
   "metadata": {},
   "outputs": [
    {
     "data": {
      "text/plain": [
       "[504, 609, 2148, 3153, 5469, 6324, 7017, 7628, 7742, 9058]"
      ]
     },
     "execution_count": 222,
     "metadata": {},
     "output_type": "execute_result"
    }
   ],
   "source": [
    "lst=[2148,9058,7742,3153,6324,609,7628,5469,7017,504]\n",
    "nr_of_comparisons=0\n",
    "quicksort(lst, pivot_type='last')"
   ]
  },
  {
   "cell_type": "code",
   "execution_count": 223,
   "metadata": {},
   "outputs": [
    {
     "data": {
      "text/plain": [
       "29"
      ]
     },
     "execution_count": 223,
     "metadata": {},
     "output_type": "execute_result"
    }
   ],
   "source": [
    "nr_of_comparisons #should be 31"
   ]
  },
  {
   "cell_type": "code",
   "execution_count": 224,
   "metadata": {},
   "outputs": [
    {
     "name": "stdout",
     "output_type": "stream",
     "text": [
      "[504, 609, 2148]\n",
      "[2148, 7628, 9058]\n",
      "[2148, 5469, 7017]\n"
     ]
    },
    {
     "data": {
      "text/plain": [
       "[504, 609, 2148, 3153, 5469, 6324, 7017, 7628, 7742, 9058]"
      ]
     },
     "execution_count": 224,
     "metadata": {},
     "output_type": "execute_result"
    }
   ],
   "source": [
    "lst=[2148,9058,7742,3153,6324,609,7628,5469,7017,504]\n",
    "nr_of_comparisons=0\n",
    "quicksort(lst, pivot_type='median_of_3')"
   ]
  },
  {
   "cell_type": "code",
   "execution_count": 225,
   "metadata": {},
   "outputs": [
    {
     "data": {
      "text/plain": [
       "23"
      ]
     },
     "execution_count": 225,
     "metadata": {},
     "output_type": "execute_result"
    }
   ],
   "source": [
    "nr_of_comparisons #should be 21"
   ]
  },
  {
   "cell_type": "code",
   "execution_count": null,
   "metadata": {
    "collapsed": true
   },
   "outputs": [],
   "source": []
  }
 ],
 "metadata": {
  "kernelspec": {
   "display_name": "Python 3",
   "language": "python",
   "name": "python3"
  },
  "language_info": {
   "codemirror_mode": {
    "name": "ipython",
    "version": 3
   },
   "file_extension": ".py",
   "mimetype": "text/x-python",
   "name": "python",
   "nbconvert_exporter": "python",
   "pygments_lexer": "ipython3",
   "version": "3.6.1"
  }
 },
 "nbformat": 4,
 "nbformat_minor": 2
}
