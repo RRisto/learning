{
 "cells": [
  {
   "cell_type": "code",
   "execution_count": 3,
   "metadata": {
    "collapsed": true
   },
   "outputs": [],
   "source": [
    "from collections import deque"
   ]
  },
  {
   "cell_type": "markdown",
   "metadata": {},
   "source": [
    "## breadth first search"
   ]
  },
  {
   "cell_type": "code",
   "execution_count": 30,
   "metadata": {},
   "outputs": [],
   "source": [
    "graph=[('s', 'a'),\n",
    "      ('s', 'b'),\n",
    "      ('a', 'c'),\n",
    "       ('b','c' ),\n",
    "      ('c', 'e'),\n",
    "      ('c','d'),\n",
    "      ('d', 'e')]\n",
    "\n",
    "graph={'s':set(['a','b']),\n",
    "      'a':set(['c','s']),\n",
    "      'b':set(['c','d','s']),\n",
    "      'c':set(['a','b','e','d']),\n",
    "      'd':set(['e','c','b']),\n",
    "      'e':set(['c','d'])}"
   ]
  },
  {
   "cell_type": "code",
   "execution_count": 15,
   "metadata": {},
   "outputs": [],
   "source": [
    "unique_vertex=[vert for vertlist in graph for vert in vertlist]\n",
    "queue = deque(unique_vertex)"
   ]
  },
  {
   "cell_type": "code",
   "execution_count": 17,
   "metadata": {},
   "outputs": [
    {
     "data": {
      "text/plain": [
       "deque(['s', 'a', 's', 'b', 'a', 'c', 'b', 'c', 'c', 'e', 'c', 'd', 'd', 'e'])"
      ]
     },
     "execution_count": 17,
     "metadata": {},
     "output_type": "execute_result"
    }
   ],
   "source": [
    "queue"
   ]
  },
  {
   "cell_type": "code",
   "execution_count": 18,
   "metadata": {},
   "outputs": [
    {
     "data": {
      "text/plain": [
       "['s', 'a', 's', 'b', 'a', 'c', 'b', 'c', 'c', 'e', 'c', 'd', 'd', 'e']"
      ]
     },
     "execution_count": 18,
     "metadata": {},
     "output_type": "execute_result"
    }
   ],
   "source": [
    "unique_vertex"
   ]
  },
  {
   "cell_type": "code",
   "execution_count": 19,
   "metadata": {},
   "outputs": [
    {
     "data": {
      "text/plain": [
       "14"
      ]
     },
     "execution_count": 19,
     "metadata": {},
     "output_type": "execute_result"
    }
   ],
   "source": [
    "len(queue)"
   ]
  },
  {
   "cell_type": "code",
   "execution_count": 33,
   "metadata": {},
   "outputs": [
    {
     "name": "stdout",
     "output_type": "stream",
     "text": [
      "a\n",
      "b\n",
      "c\n",
      "d\n",
      "e\n"
     ]
    }
   ],
   "source": [
    "queue = deque('s')\n",
    "explored_vert=['s']\n",
    "while len(queue)>0:\n",
    "    vert=queue.popleft()\n",
    "    for edge in graph[vert]:\n",
    "        if edge not in explored_vert:\n",
    "            print(edge)\n",
    "            explored_vert.append(edge)\n",
    "            queue.append(edge)"
   ]
  },
  {
   "cell_type": "code",
   "execution_count": 32,
   "metadata": {},
   "outputs": [
    {
     "data": {
      "text/plain": [
       "deque([])"
      ]
     },
     "execution_count": 32,
     "metadata": {},
     "output_type": "execute_result"
    }
   ],
   "source": [
    "queue"
   ]
  },
  {
   "cell_type": "code",
   "execution_count": 27,
   "metadata": {},
   "outputs": [
    {
     "data": {
      "text/plain": [
       "[('s', 'a'),\n",
       " ('s', 'b'),\n",
       " ('a', 'c'),\n",
       " ('b', 'c'),\n",
       " ('c', 'e'),\n",
       " ('c', 'd'),\n",
       " ('d', 'e')]"
      ]
     },
     "execution_count": 27,
     "metadata": {},
     "output_type": "execute_result"
    }
   ],
   "source": [
    "graph"
   ]
  },
  {
   "cell_type": "markdown",
   "metadata": {},
   "source": [
    "## Augmented BFS"
   ]
  },
  {
   "cell_type": "code",
   "execution_count": 35,
   "metadata": {},
   "outputs": [
    {
     "data": {
      "text/plain": [
       "{'a': -1, 'b': -1, 'c': -1, 'd': -1, 'e': -1, 's': -1}"
      ]
     },
     "execution_count": 35,
     "metadata": {},
     "output_type": "execute_result"
    }
   ],
   "source": [
    "path_lens={key:-1 for key in graph}\n",
    "path_lens"
   ]
  },
  {
   "cell_type": "code",
   "execution_count": 36,
   "metadata": {},
   "outputs": [
    {
     "name": "stdout",
     "output_type": "stream",
     "text": [
      "a\n",
      "b\n",
      "c\n",
      "d\n",
      "e\n"
     ]
    }
   ],
   "source": [
    "queue = deque('s')\n",
    "explored_vert=['s']\n",
    "path_lens['s']=0\n",
    "while len(queue)>0:\n",
    "    vert=queue.popleft()\n",
    "    for edge in graph[vert]:\n",
    "        if edge not in explored_vert:\n",
    "            print(edge)\n",
    "            explored_vert.append(edge)\n",
    "            path_lens[edge]=path_lens[vert]+1\n",
    "            queue.append(edge)"
   ]
  },
  {
   "cell_type": "code",
   "execution_count": 37,
   "metadata": {},
   "outputs": [
    {
     "data": {
      "text/plain": [
       "{'a': 1, 'b': 1, 'c': 2, 'd': 2, 'e': 3, 's': 0}"
      ]
     },
     "execution_count": 37,
     "metadata": {},
     "output_type": "execute_result"
    }
   ],
   "source": [
    "path_lens"
   ]
  },
  {
   "cell_type": "code",
   "execution_count": null,
   "metadata": {
    "collapsed": true
   },
   "outputs": [],
   "source": []
  }
 ],
 "metadata": {
  "kernelspec": {
   "display_name": "Python 3",
   "language": "python",
   "name": "python3"
  },
  "language_info": {
   "codemirror_mode": {
    "name": "ipython",
    "version": 3
   },
   "file_extension": ".py",
   "mimetype": "text/x-python",
   "name": "python",
   "nbconvert_exporter": "python",
   "pygments_lexer": "ipython3",
   "version": "3.5.4"
  }
 },
 "nbformat": 4,
 "nbformat_minor": 2
}
