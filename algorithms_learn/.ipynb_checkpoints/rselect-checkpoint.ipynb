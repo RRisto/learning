{
 "cells": [
  {
   "cell_type": "code",
   "execution_count": 5,
   "metadata": {
    "collapsed": true
   },
   "outputs": [],
   "source": [
    "import random\n",
    "import math\n",
    "nr_of_comparisons=0\n",
    "\n",
    "def rselect(lst, ind):\n",
    "    if len(lst)<=1:\n",
    "        return lst\n",
    "    #choose pivot\n",
    "    pivot_ind=random.randint(0,len(lst)-1)\n",
    "    #swap pivot to first element\n",
    "    lst.insert(0, lst.pop(pivot_ind))\n",
    "    #partition get new pivot position\n",
    "    j=partition(lst)\n",
    "    if j==ind: #lucky\n",
    "        return lst[j]\n",
    "    elif j>ind:\n",
    "        return rselect(lst[0:j], ind)\n",
    "    else:\n",
    "        return rselect(lst[j+1:], ind-j)"
   ]
  },
  {
   "cell_type": "code",
   "execution_count": 6,
   "metadata": {
    "collapsed": true
   },
   "outputs": [],
   "source": [
    "def partition(lst):\n",
    "    global nr_of_comparisons\n",
    "    p=lst[0]\n",
    "    i=1\n",
    "    for j in range(1,len(lst)):\n",
    "        if lst[j]<p:\n",
    "            #swap aj and ai\n",
    "            lst[i], lst[j] = lst[j], lst[i]\n",
    "            i+=1\n",
    "        nr_of_comparisons+=1\n",
    "    #place pivot correctly\n",
    "    lst[0], lst[i-1] = lst[i-1], lst[0]\n",
    "    return i-1"
   ]
  },
  {
   "cell_type": "markdown",
   "metadata": {},
   "source": [
    "## Examples"
   ]
  },
  {
   "cell_type": "code",
   "execution_count": 7,
   "metadata": {
    "collapsed": true
   },
   "outputs": [],
   "source": [
    "lst=[2148,9058,7742,3153,6324,609,7628,5469,7017,504]"
   ]
  },
  {
   "cell_type": "code",
   "execution_count": 9,
   "metadata": {},
   "outputs": [
    {
     "data": {
      "text/plain": [
       "[5469]"
      ]
     },
     "execution_count": 9,
     "metadata": {},
     "output_type": "execute_result"
    }
   ],
   "source": [
    "nr_of_comparisons=0\n",
    "rselect(lst,4)"
   ]
  },
  {
   "cell_type": "code",
   "execution_count": null,
   "metadata": {
    "collapsed": true
   },
   "outputs": [],
   "source": []
  }
 ],
 "metadata": {
  "kernelspec": {
   "display_name": "Python 3",
   "language": "python",
   "name": "python3"
  },
  "language_info": {
   "codemirror_mode": {
    "name": "ipython",
    "version": 3
   },
   "file_extension": ".py",
   "mimetype": "text/x-python",
   "name": "python",
   "nbconvert_exporter": "python",
   "pygments_lexer": "ipython3",
   "version": "3.6.1"
  }
 },
 "nbformat": 4,
 "nbformat_minor": 2
}
