{
 "cells": [
  {
   "cell_type": "code",
   "execution_count": 3,
   "metadata": {
    "collapsed": true
   },
   "outputs": [],
   "source": [
    "from collections import deque"
   ]
  },
  {
   "cell_type": "code",
   "execution_count": 2,
   "metadata": {},
   "outputs": [],
   "source": [
    "graph={1:set([3,5]),\n",
    "          3:set([1,5]),\n",
    "         5:set([1,3,7,9]),\n",
    "         7:set([5]),\n",
    "         9:set([5]),\n",
    "         2:set([4]),\n",
    "         4:set([2]),\n",
    "         8:set([6]),\n",
    "         6:set([8, 10]),\n",
    "         10:set([6])}"
   ]
  },
  {
   "cell_type": "markdown",
   "metadata": {},
   "source": [
    "claculate connected components of undirected graph"
   ]
  },
  {
   "cell_type": "code",
   "execution_count": null,
   "metadata": {
    "collapsed": true
   },
   "outputs": [],
   "source": [
    "cc=0\n",
    "explored=[]\n",
    "\n",
    "for i in graph.keys():\n",
    "    if i not in explored:\n",
    "        cc+=1\n",
    "        q="
   ]
  }
 ],
 "metadata": {
  "kernelspec": {
   "display_name": "Python 3",
   "language": "python",
   "name": "python3"
  },
  "language_info": {
   "codemirror_mode": {
    "name": "ipython",
    "version": 3
   },
   "file_extension": ".py",
   "mimetype": "text/x-python",
   "name": "python",
   "nbconvert_exporter": "python",
   "pygments_lexer": "ipython3",
   "version": "3.6.1"
  }
 },
 "nbformat": 4,
 "nbformat_minor": 2
}
