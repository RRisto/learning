{
 "cells": [
  {
   "cell_type": "markdown",
   "metadata": {},
   "source": [
    "My simple implementation of mergesort algorithm"
   ]
  },
  {
   "cell_type": "code",
   "execution_count": 1,
   "metadata": {
    "collapsed": true
   },
   "outputs": [],
   "source": [
    "import math"
   ]
  },
  {
   "cell_type": "code",
   "execution_count": 17,
   "metadata": {
    "collapsed": true
   },
   "outputs": [],
   "source": [
    "def mergeseort(lst):\n",
    "    '''input:\n",
    "        - list which needs to be sorted\n",
    "        output:\n",
    "        - list which is sorted\n",
    "        '''\n",
    "    n=len(lst)\n",
    "    #divide list into two halves\n",
    "    lst1=lst[0:math.floor(len(lst)/2)]\n",
    "    lst2=lst[math.floor(len(lst)/2):]\n",
    "    \n",
    "    #this should be replace with recurisve calls in future\n",
    "    lst1=sorted(lst1)\n",
    "    lst2=sorted(lst2)\n",
    "    \n",
    "    i=0\n",
    "    j=0\n",
    "    res=[]\n",
    "    #merge lists\n",
    "    for k in range(n):\n",
    "        if i>=len(lst1):\n",
    "            res.extend(lst2[j:])\n",
    "        if j>=len(lst2):\n",
    "            res.extend(lst1[i:])\n",
    "        elif lst1[i]<lst2[j]:\n",
    "            res.append(lst1[i])\n",
    "            i+=1\n",
    "        else:\n",
    "            res.append(lst2[j])\n",
    "            j+=1\n",
    "        \n",
    "    return res"
   ]
  },
  {
   "cell_type": "code",
   "execution_count": 18,
   "metadata": {},
   "outputs": [
    {
     "data": {
      "text/plain": [
       "[2, 3, 4, 5, 9, 5, 9]"
      ]
     },
     "execution_count": 18,
     "metadata": {},
     "output_type": "execute_result"
    }
   ],
   "source": [
    "mergeseort([9,5,4,3,2])"
   ]
  },
  {
   "cell_type": "code",
   "execution_count": null,
   "metadata": {
    "collapsed": true
   },
   "outputs": [],
   "source": []
  }
 ],
 "metadata": {
  "kernelspec": {
   "display_name": "Python 3",
   "language": "python",
   "name": "python3"
  },
  "language_info": {
   "codemirror_mode": {
    "name": "ipython",
    "version": 3
   },
   "file_extension": ".py",
   "mimetype": "text/x-python",
   "name": "python",
   "nbconvert_exporter": "python",
   "pygments_lexer": "ipython3",
   "version": "3.5.4"
  }
 },
 "nbformat": 4,
 "nbformat_minor": 2
}
