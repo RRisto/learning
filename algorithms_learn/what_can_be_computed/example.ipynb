{
 "cells": [
  {
   "cell_type": "code",
   "execution_count": 1,
   "id": "9d89926f",
   "metadata": {},
   "outputs": [],
   "source": [
    "import sys\n",
    "sys.path.append('src')\n",
    "\n",
    "from yesOnSelf import yesOnSelf\n",
    "from yesOnString import yesOnString\n",
    "from utils import rf"
   ]
  },
  {
   "cell_type": "code",
   "execution_count": 2,
   "id": "95643728",
   "metadata": {},
   "outputs": [
    {
     "ename": "NameError",
     "evalue": "name 'yesOnString' is not defined",
     "output_type": "error",
     "traceback": [
      "\u001b[1;31m---------------------------------------------------------------------------\u001b[0m",
      "\u001b[1;31mNameError\u001b[0m                                 Traceback (most recent call last)",
      "Cell \u001b[1;32mIn[2], line 1\u001b[0m\n\u001b[1;32m----> 1\u001b[0m \u001b[43myesOnSelf\u001b[49m\u001b[43m(\u001b[49m\u001b[43mrf\u001b[49m\u001b[43m(\u001b[49m\u001b[38;5;124;43m'\u001b[39;49m\u001b[38;5;124;43msrc/yesOnSelf.py\u001b[39;49m\u001b[38;5;124;43m'\u001b[39;49m\u001b[43m)\u001b[49m\u001b[43m)\u001b[49m\n",
      "File \u001b[1;32m~\\python\\learning\\algorithms_learn\\what_can_be_computed\\src\\yesOnSelf.py:16\u001b[0m, in \u001b[0;36myesOnSelf\u001b[1;34m(progString)\u001b[0m\n\u001b[0;32m     15\u001b[0m \u001b[38;5;28;01mdef\u001b[39;00m \u001b[38;5;21myesOnSelf\u001b[39m(progString):   \n\u001b[1;32m---> 16\u001b[0m     \u001b[38;5;28;01mreturn\u001b[39;00m \u001b[43myesOnString\u001b[49m\u001b[43m(\u001b[49m\u001b[43mprogString\u001b[49m\u001b[43m,\u001b[49m\u001b[43m \u001b[49m\u001b[43mprogString\u001b[49m\u001b[43m)\u001b[49m\n",
      "File \u001b[1;32m~\\python\\learning\\algorithms_learn\\what_can_be_computed\\src\\yesOnString.py:17\u001b[0m, in \u001b[0;36myesOnString\u001b[1;34m(progString, inString)\u001b[0m\n\u001b[0;32m     16\u001b[0m \u001b[38;5;28;01mdef\u001b[39;00m \u001b[38;5;21myesOnString\u001b[39m(progString, inString):\n\u001b[1;32m---> 17\u001b[0m     val \u001b[38;5;241m=\u001b[39m \u001b[43muniversal\u001b[49m\u001b[43m(\u001b[49m\u001b[43mprogString\u001b[49m\u001b[43m,\u001b[49m\u001b[43m \u001b[49m\u001b[43minString\u001b[49m\u001b[43m)\u001b[49m\n\u001b[0;32m     18\u001b[0m     \u001b[38;5;28;01mif\u001b[39;00m val \u001b[38;5;241m==\u001b[39m \u001b[38;5;124m'\u001b[39m\u001b[38;5;124myes\u001b[39m\u001b[38;5;124m'\u001b[39m:\n\u001b[0;32m     19\u001b[0m         \u001b[38;5;28;01mreturn\u001b[39;00m \u001b[38;5;124m'\u001b[39m\u001b[38;5;124myes\u001b[39m\u001b[38;5;124m'\u001b[39m\n",
      "File \u001b[1;32m~\\python\\learning\\algorithms_learn\\what_can_be_computed\\src\\universal.py:27\u001b[0m, in \u001b[0;36muniversal\u001b[1;34m(progString, inString)\u001b[0m\n\u001b[0;32m     24\u001b[0m progFunction \u001b[38;5;241m=\u001b[39m utils\u001b[38;5;241m.\u001b[39mextractMainFunction(progString, \n\u001b[0;32m     25\u001b[0m                                          \u001b[38;5;28mlocals\u001b[39m()) \n\u001b[0;32m     26\u001b[0m \u001b[38;5;66;03m# Invoke the desired function with the desired input string.\u001b[39;00m\n\u001b[1;32m---> 27\u001b[0m \u001b[38;5;28;01mreturn\u001b[39;00m \u001b[43mprogFunction\u001b[49m\u001b[43m(\u001b[49m\u001b[43minString\u001b[49m\u001b[43m)\u001b[49m\n",
      "File \u001b[1;32m<string>:16\u001b[0m, in \u001b[0;36myesOnSelf\u001b[1;34m(progString)\u001b[0m\n",
      "\u001b[1;31mNameError\u001b[0m: name 'yesOnString' is not defined"
     ]
    }
   ],
   "source": [
    "yesOnSelf(rf('src/yesOnSelf.py'))"
   ]
  },
  {
   "cell_type": "code",
   "execution_count": 3,
   "id": "d378532e",
   "metadata": {},
   "outputs": [
    {
     "ename": "NameError",
     "evalue": "name 'see' is not defined",
     "output_type": "error",
     "traceback": [
      "\u001b[1;31m---------------------------------------------------------------------------\u001b[0m",
      "\u001b[1;31mNameError\u001b[0m                                 Traceback (most recent call last)",
      "Cell \u001b[1;32mIn[3], line 1\u001b[0m\n\u001b[1;32m----> 1\u001b[0m \u001b[43myesOnSelf\u001b[49m\u001b[43m(\u001b[49m\u001b[38;5;124;43m'\u001b[39;49m\u001b[38;5;124;43msee\u001b[39;49m\u001b[38;5;124;43m'\u001b[39;49m\u001b[43m)\u001b[49m\n",
      "File \u001b[1;32m~\\python\\learning\\algorithms_learn\\what_can_be_computed\\src\\yesOnSelf.py:16\u001b[0m, in \u001b[0;36myesOnSelf\u001b[1;34m(progString)\u001b[0m\n\u001b[0;32m     15\u001b[0m \u001b[38;5;28;01mdef\u001b[39;00m \u001b[38;5;21myesOnSelf\u001b[39m(progString):   \n\u001b[1;32m---> 16\u001b[0m     \u001b[38;5;28;01mreturn\u001b[39;00m \u001b[43myesOnString\u001b[49m\u001b[43m(\u001b[49m\u001b[43mprogString\u001b[49m\u001b[43m,\u001b[49m\u001b[43m \u001b[49m\u001b[43mprogString\u001b[49m\u001b[43m)\u001b[49m\n",
      "File \u001b[1;32m~\\python\\learning\\algorithms_learn\\what_can_be_computed\\src\\yesOnString.py:17\u001b[0m, in \u001b[0;36myesOnString\u001b[1;34m(progString, inString)\u001b[0m\n\u001b[0;32m     16\u001b[0m \u001b[38;5;28;01mdef\u001b[39;00m \u001b[38;5;21myesOnString\u001b[39m(progString, inString):\n\u001b[1;32m---> 17\u001b[0m     val \u001b[38;5;241m=\u001b[39m \u001b[43muniversal\u001b[49m\u001b[43m(\u001b[49m\u001b[43mprogString\u001b[49m\u001b[43m,\u001b[49m\u001b[43m \u001b[49m\u001b[43minString\u001b[49m\u001b[43m)\u001b[49m\n\u001b[0;32m     18\u001b[0m     \u001b[38;5;28;01mif\u001b[39;00m val \u001b[38;5;241m==\u001b[39m \u001b[38;5;124m'\u001b[39m\u001b[38;5;124myes\u001b[39m\u001b[38;5;124m'\u001b[39m:\n\u001b[0;32m     19\u001b[0m         \u001b[38;5;28;01mreturn\u001b[39;00m \u001b[38;5;124m'\u001b[39m\u001b[38;5;124myes\u001b[39m\u001b[38;5;124m'\u001b[39m\n",
      "File \u001b[1;32m~\\python\\learning\\algorithms_learn\\what_can_be_computed\\src\\universal.py:22\u001b[0m, in \u001b[0;36muniversal\u001b[1;34m(progString, inString)\u001b[0m\n\u001b[0;32m     19\u001b[0m \u001b[38;5;28;01mdef\u001b[39;00m \u001b[38;5;21muniversal\u001b[39m(progString, inString):  \n\u001b[0;32m     20\u001b[0m     \u001b[38;5;66;03m# Execute the definition of the function in progString. This defines\u001b[39;00m\n\u001b[0;32m     21\u001b[0m     \u001b[38;5;66;03m# the function, but doesn't invoke it.\u001b[39;00m\n\u001b[1;32m---> 22\u001b[0m     \u001b[43mexec\u001b[49m\u001b[43m(\u001b[49m\u001b[43mprogString\u001b[49m\u001b[43m)\u001b[49m \n\u001b[0;32m     23\u001b[0m     \u001b[38;5;66;03m# Now that the function is defined, we can extract a reference to it.\u001b[39;00m\n\u001b[0;32m     24\u001b[0m     progFunction \u001b[38;5;241m=\u001b[39m utils\u001b[38;5;241m.\u001b[39mextractMainFunction(progString, \n\u001b[0;32m     25\u001b[0m                                              \u001b[38;5;28mlocals\u001b[39m()) \n",
      "File \u001b[1;32m<string>:1\u001b[0m\n",
      "\u001b[1;31mNameError\u001b[0m: name 'see' is not defined"
     ]
    }
   ],
   "source": [
    "yesOnSelf('see')"
   ]
  },
  {
   "cell_type": "code",
   "execution_count": null,
   "id": "b5c0e474",
   "metadata": {},
   "outputs": [],
   "source": []
  }
 ],
 "metadata": {
  "kernelspec": {
   "display_name": "Python 3 (ipykernel)",
   "language": "python",
   "name": "python3"
  },
  "language_info": {
   "codemirror_mode": {
    "name": "ipython",
    "version": 3
   },
   "file_extension": ".py",
   "mimetype": "text/x-python",
   "name": "python",
   "nbconvert_exporter": "python",
   "pygments_lexer": "ipython3",
   "version": "3.9.12"
  }
 },
 "nbformat": 4,
 "nbformat_minor": 5
}
