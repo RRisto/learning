{
 "cells": [
  {
   "cell_type": "markdown",
   "id": "307bc145",
   "metadata": {},
   "source": [
    "## Undecidable"
   ]
  },
  {
   "cell_type": "code",
   "execution_count": 3,
   "id": "26ff701b",
   "metadata": {},
   "outputs": [],
   "source": [
    "from yesViaComputesF import yesViaComputesF"
   ]
  },
  {
   "cell_type": "code",
   "execution_count": 4,
   "id": "b54589b1",
   "metadata": {},
   "outputs": [
    {
     "name": "stderr",
     "output_type": "stream",
     "text": [
      "Exception in thread Thread-5:\n",
      "Traceback (most recent call last):\n",
      "  File \"C:\\Users\\RistoHinno\\anaconda3\\lib\\threading.py\", line 973, in _bootstrap_inner\n",
      "    self.run()\n",
      "  File \"C:\\Users\\RistoHinno\\anaconda3\\lib\\threading.py\", line 910, in run\n",
      "    self._target(*self._args, **self._kwargs)\n",
      "  File \"C:\\Users\\RistoHinno\\python\\learning\\algorithms_learn\\what_can_be_computed\\src\\utils.py\", line 515, in invokeAndStoreResult\n",
      "    ret = fn(*inStrings)\n",
      "  File \"C:\\Users\\RistoHinno\\python\\learning\\algorithms_learn\\what_can_be_computed\\src\\universal.py\", line 27, in universal\n",
      "    return progFunction(inString) \n",
      "  File \"<string>\", line 30, in alterYesToComputesF\n",
      "  File \"C:\\Users\\RistoHinno\\python\\learning\\algorithms_learn\\what_can_be_computed\\src\\universal.py\", line 22, in universal\n",
      "    exec(progString) \n",
      "  File \"<string>\", line 1, in <module>\n",
      "NameError: name 'containsGAGA' is not defined\n"
     ]
    },
    {
     "data": {
      "text/plain": [
       "'no'"
      ]
     },
     "execution_count": 4,
     "metadata": {},
     "output_type": "execute_result"
    }
   ],
   "source": [
    "yesViaComputesF('containsGAGA.py', 'TTTTGAGATT')"
   ]
  },
  {
   "cell_type": "markdown",
   "id": "4e4fc1a0",
   "metadata": {},
   "source": [
    "## Rule 110"
   ]
  },
  {
   "cell_type": "code",
   "execution_count": 5,
   "id": "a74c9aad",
   "metadata": {},
   "outputs": [],
   "source": [
    "from rule110 import rule110"
   ]
  },
  {
   "cell_type": "code",
   "execution_count": 11,
   "id": "cc314277",
   "metadata": {},
   "outputs": [],
   "source": [
    "tape='-------------------------------------------------G--------G-----'"
   ]
  },
  {
   "cell_type": "code",
   "execution_count": 12,
   "id": "f0b613ac",
   "metadata": {},
   "outputs": [
    {
     "name": "stdout",
     "output_type": "stream",
     "text": [
      "-------------------------------------------------G--------G-----\n",
      "------------------------------------------------GG-------GG-----\n",
      "-----------------------------------------------GGG------GGG-----\n",
      "----------------------------------------------GG-G-----GG-G-----\n",
      "---------------------------------------------GGGGG----GGGGG-----\n",
      "--------------------------------------------GG---G---GG---G-----\n",
      "-------------------------------------------GGG--GG--GGG--GG-----\n",
      "------------------------------------------GG-G-GGG-GG-G-GGG-----\n",
      "-----------------------------------------GGGGGGG-GGGGGGGG-G-----\n",
      "----------------------------------------GG-----GGG------GGG-----\n",
      "---------------------------------------GGG----GG-G-----GG-G-----\n",
      "--------------------------------------GG-G---GGGGG----GGGGG-----\n",
      "-------------------------------------GGGGG--GG---G---GG---G-----\n",
      "------------------------------------GG---G-GGG--GG--GGG--GG-----\n",
      "-----------------------------------GGG--GGGG-G-GGG-GG-G-GGG-----\n",
      "----------------------------------GG-G-GG--GGGGG-GGGGGGGG-G-----\n",
      "---------------------------------GGGGGGGG-GG---GGG------GGG-----\n",
      "--------------------------------GG------GGGG--GG-G-----GG-G-----\n",
      "-------------------------------GGG-----GG--G-GGGGG----GGGGG-----\n",
      "------------------------------GG-G----GGG-GGGG---G---GG---G-----\n",
      "-----------------------------GGGGG---GG-GGG--G--GG--GGG--GG-----\n",
      "----------------------------GG---G--GGGGG-G-GG-GGG-GG-G-GGG-----\n",
      "---------------------------GGG--GG-GG---GGGGGGGG-GGGGGGGG-G-----\n",
      "--------------------------GG-G-GGGGGG--GG------GGG------GGG-----\n",
      "-------------------------GGGGGGG----G-GGG-----GG-G-----GG-G-----\n",
      "------------------------GG-----G---GGGG-G----GGGGG----GGGGG-----\n",
      "-----------------------GGG----GG--GG--GGG---GG---G---GG---G-----\n",
      "----------------------GG-G---GGG-GGG-GG-G--GGG--GG--GGG--GG-----\n",
      "---------------------GGGGG--GG-GGG-GGGGGG-GG-G-GGG-GG-G-GGG-----\n",
      "--------------------GG---G-GGGGG-GGG----GGGGGGGG-GGGGGGGG-G-----\n",
      "-------------------GGG--GGGG---GGG-G---GG------GGG------GGG-----\n",
      "------------------GG-G-GG--G--GG-GGG--GGG-----GG-G-----GG-G-----\n",
      "-----------------GGGGGGGG-GG-GGGGG-G-GG-G----GGGGG----GGGGG-----\n",
      "----------------GG------GGGGGG---GGGGGGGG---GG---G---GG---G-----\n",
      "---------------GGG-----GG----G--GG------G--GGG--GG--GGG--GG-----\n",
      "--------------GG-G----GGG---GG-GGG-----GG-GG-G-GGG-GG-G-GGG-----\n",
      "-------------GGGGG---GG-G--GGGGG-G----GGGGGGGGGG-GGGGGGGG-G-----\n",
      "------------GG---G--GGGGG-GG---GGG---GG--------GGG------GGG-----\n",
      "-----------GGG--GG-GG---GGGG--GG-G--GGG-------GG-G-----GG-G-----\n",
      "----------GG-G-GGGGGG--GG--G-GGGGG-GG-G------GGGGG----GGGGG-----\n",
      "---------GGGGGGG----G-GGG-GGGG---GGGGGG-----GG---G---GG---G-----\n",
      "--------GG-----G---GGGG-GGG--G--GG----G----GGG--GG--GGG--GG-----\n",
      "-------GGG----GG--GG--GGG-G-GG-GGG---GG---GG-G-GGG-GG-G-GGG-----\n",
      "------GG-G---GGG-GGG-GG-GGGGGGGG-G--GGG--GGGGGGG-GGGGGGGG-G-----\n",
      "-----GGGGG--GG-GGG-GGGGGG------GGG-GG-G-GG-----GGG------GGG-----\n",
      "----GG---G-GGGGG-GGG----G-----GG-GGGGGGGGG----GG-G-----GG-G-----\n",
      "---GGG--GGGG---GGG-G---GG----GGGGG-------G---GGGGG----GGGGG-----\n",
      "--GG-G-GG--G--GG-GGG--GGG---GG---G------GG--GG---G---GG---G-----\n",
      "-GGGGGGGG-GG-GGGGG-G-GG-G--GGG--GG-----GGG-GGG--GG--GGG--GG-----\n",
      "GG------GGGGGG---GGGGGGGG-GG-G-GGG----GG-GGG-G-GGG-GG-G-GGG-----\n",
      "GG-----GG----G--GG------GGGGGGGG-G---GGGGG-GGGGG-GGGGGGGG-G-----\n"
     ]
    }
   ],
   "source": [
    "print(tape)\n",
    "for i in range(50):\n",
    "    tape=rule110(tape)\n",
    "    print(tape)"
   ]
  },
  {
   "cell_type": "markdown",
   "id": "93f47bf7",
   "metadata": {},
   "source": [
    "## NFA"
   ]
  },
  {
   "cell_type": "code",
   "execution_count": 3,
   "id": "46d77842",
   "metadata": {},
   "outputs": [],
   "source": [
    "from simulateNfa import simulateNfa\n",
    "from utils import rf"
   ]
  },
  {
   "cell_type": "code",
   "execution_count": 4,
   "id": "bbc101f3",
   "metadata": {},
   "outputs": [
    {
     "data": {
      "text/plain": [
       "'yes'"
      ]
     },
     "execution_count": 4,
     "metadata": {},
     "output_type": "execute_result"
    }
   ],
   "source": [
    "simulateNfa(rf('simple1.nfa'), 'ACCCCCG')"
   ]
  },
  {
   "cell_type": "code",
   "execution_count": 6,
   "id": "28a9ad8b",
   "metadata": {},
   "outputs": [
    {
     "data": {
      "text/plain": [
       "'yes'"
      ]
     },
     "execution_count": 6,
     "metadata": {},
     "output_type": "execute_result"
    }
   ],
   "source": [
    "simulateNfa(rf('simple1.nfa'), 'ACCGGCCG')"
   ]
  },
  {
   "cell_type": "code",
   "execution_count": 7,
   "id": "d1a9ad0e",
   "metadata": {},
   "outputs": [
    {
     "data": {
      "text/plain": [
       "'yes'"
      ]
     },
     "execution_count": 7,
     "metadata": {},
     "output_type": "execute_result"
    }
   ],
   "source": [
    "simulateNfa(rf('simple1.nfa'), 'ACC_GCCG')"
   ]
  },
  {
   "cell_type": "code",
   "execution_count": null,
   "id": "189ce6a9",
   "metadata": {},
   "outputs": [],
   "source": []
  }
 ],
 "metadata": {
  "kernelspec": {
   "display_name": "Python 3 (ipykernel)",
   "language": "python",
   "name": "python3"
  },
  "language_info": {
   "codemirror_mode": {
    "name": "ipython",
    "version": 3
   },
   "file_extension": ".py",
   "mimetype": "text/x-python",
   "name": "python",
   "nbconvert_exporter": "python",
   "pygments_lexer": "ipython3",
   "version": "3.9.12"
  }
 },
 "nbformat": 4,
 "nbformat_minor": 5
}
