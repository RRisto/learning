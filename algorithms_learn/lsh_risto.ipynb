{
 "cells": [
  {
   "cell_type": "code",
   "execution_count": 100,
   "id": "341a8223-92d5-42db-9f3e-45610be74128",
   "metadata": {
    "pycharm": {
     "name": "#%%\n"
    }
   },
   "outputs": [],
   "source": [
    "import pdb\n",
    "from time import time\n",
    "import scipy\n",
    "import torch\n",
    "import torch.nn as nn\n",
    "import pandas as pd\n",
    "import numpy as np\n",
    "from numpy import dot\n",
    "from numpy.linalg import norm\n",
    "from sentence_transformers import SentenceTransformer"
   ]
  },
  {
   "cell_type": "markdown",
   "id": "2f14b1f3-efa6-404d-a9f0-241bdb02a566",
   "metadata": {
    "pycharm": {
     "name": "#%% md\n"
    }
   },
   "source": [
    "# Locality sensitive hashing custom implementation"
   ]
  },
  {
   "cell_type": "markdown",
   "id": "0cce74fe-9b3f-49e1-9111-6afc753cd01f",
   "metadata": {
    "pycharm": {
     "name": "#%% md\n"
    }
   },
   "source": [
    "Data is from here: https://github.com/MichaelAllen1966/1804_python_healthcare/blob/master/data/drugsComTrain_raw.csv"
   ]
  },
  {
   "cell_type": "markdown",
   "id": "b509d9e2-8eff-48ee-9ea1-8622ebe5e089",
   "metadata": {
    "pycharm": {
     "name": "#%% md\n"
    }
   },
   "source": [
    "Goal is to make a model that quickly returns closest sentence to query sentence"
   ]
  },
  {
   "cell_type": "markdown",
   "id": "bd0552bb-f51f-4a41-b6bf-30b64fb2e646",
   "metadata": {
    "pycharm": {
     "name": "#%% md\n"
    }
   },
   "source": [
    "## Model"
   ]
  },
  {
   "cell_type": "code",
   "execution_count": 2,
   "id": "58a3b422-10aa-4bad-9851-f5073ab7bd85",
   "metadata": {
    "pycharm": {
     "name": "#%%\n"
    }
   },
   "outputs": [
    {
     "data": {
      "application/vnd.jupyter.widget-view+json": {
       "model_id": "c7b118f43743492db712b732f2640333",
       "version_major": 2,
       "version_minor": 0
      },
      "text/plain": [
       "Downloading:   0%|          | 0.00/690 [00:00<?, ?B/s]"
      ]
     },
     "metadata": {},
     "output_type": "display_data"
    },
    {
     "data": {
      "application/vnd.jupyter.widget-view+json": {
       "model_id": "06122ff038654904970abd411c582d9c",
       "version_major": 2,
       "version_minor": 0
      },
      "text/plain": [
       "Downloading:   0%|          | 0.00/190 [00:00<?, ?B/s]"
      ]
     },
     "metadata": {},
     "output_type": "display_data"
    },
    {
     "data": {
      "application/vnd.jupyter.widget-view+json": {
       "model_id": "73d5547d29f64cb78268b7b62a7de13f",
       "version_major": 2,
       "version_minor": 0
      },
      "text/plain": [
       "Downloading:   0%|          | 0.00/3.99k [00:00<?, ?B/s]"
      ]
     },
     "metadata": {},
     "output_type": "display_data"
    },
    {
     "data": {
      "application/vnd.jupyter.widget-view+json": {
       "model_id": "585e489c081243daad5e804b4c84e08f",
       "version_major": 2,
       "version_minor": 0
      },
      "text/plain": [
       "Downloading:   0%|          | 0.00/550 [00:00<?, ?B/s]"
      ]
     },
     "metadata": {},
     "output_type": "display_data"
    },
    {
     "data": {
      "application/vnd.jupyter.widget-view+json": {
       "model_id": "3c9803c707924c90ac1d5e0ffe84ff0b",
       "version_major": 2,
       "version_minor": 0
      },
      "text/plain": [
       "Downloading:   0%|          | 0.00/122 [00:00<?, ?B/s]"
      ]
     },
     "metadata": {},
     "output_type": "display_data"
    },
    {
     "data": {
      "application/vnd.jupyter.widget-view+json": {
       "model_id": "5a63fb46a9aa4190aed985d3f6e46156",
       "version_major": 2,
       "version_minor": 0
      },
      "text/plain": [
       "Downloading:   0%|          | 0.00/265M [00:00<?, ?B/s]"
      ]
     },
     "metadata": {},
     "output_type": "display_data"
    },
    {
     "data": {
      "application/vnd.jupyter.widget-view+json": {
       "model_id": "fa092ab67632480ba4939b7f06cd1b4a",
       "version_major": 2,
       "version_minor": 0
      },
      "text/plain": [
       "Downloading:   0%|          | 0.00/53.0 [00:00<?, ?B/s]"
      ]
     },
     "metadata": {},
     "output_type": "display_data"
    },
    {
     "data": {
      "application/vnd.jupyter.widget-view+json": {
       "model_id": "59759df4961e419c8f75f33d434551d9",
       "version_major": 2,
       "version_minor": 0
      },
      "text/plain": [
       "Downloading:   0%|          | 0.00/112 [00:00<?, ?B/s]"
      ]
     },
     "metadata": {},
     "output_type": "display_data"
    },
    {
     "data": {
      "application/vnd.jupyter.widget-view+json": {
       "model_id": "a6cd5fba7aff46b2ac1dc68ac499c0d2",
       "version_major": 2,
       "version_minor": 0
      },
      "text/plain": [
       "Downloading:   0%|          | 0.00/466k [00:00<?, ?B/s]"
      ]
     },
     "metadata": {},
     "output_type": "display_data"
    },
    {
     "data": {
      "application/vnd.jupyter.widget-view+json": {
       "model_id": "817f2a8f42db4a5aa2802cbf3368de39",
       "version_major": 2,
       "version_minor": 0
      },
      "text/plain": [
       "Downloading:   0%|          | 0.00/450 [00:00<?, ?B/s]"
      ]
     },
     "metadata": {},
     "output_type": "display_data"
    },
    {
     "data": {
      "application/vnd.jupyter.widget-view+json": {
       "model_id": "621c5677ad5f45c2af75a454fa3fdcf2",
       "version_major": 2,
       "version_minor": 0
      },
      "text/plain": [
       "Downloading:   0%|          | 0.00/232k [00:00<?, ?B/s]"
      ]
     },
     "metadata": {},
     "output_type": "display_data"
    },
    {
     "data": {
      "application/vnd.jupyter.widget-view+json": {
       "model_id": "a9401a9bfbac47b5bb723068a8d15e85",
       "version_major": 2,
       "version_minor": 0
      },
      "text/plain": [
       "Downloading:   0%|          | 0.00/229 [00:00<?, ?B/s]"
      ]
     },
     "metadata": {},
     "output_type": "display_data"
    }
   ],
   "source": [
    "model = SentenceTransformer('distilbert-base-nli-mean-tokens')"
   ]
  },
  {
   "cell_type": "markdown",
   "id": "bf033bcb-e3d3-41db-8119-25bd67684d4f",
   "metadata": {
    "pycharm": {
     "name": "#%% md\n"
    }
   },
   "source": [
    "## Sentences"
   ]
  },
  {
   "cell_type": "code",
   "execution_count": 3,
   "id": "ada0badd-36e5-4e10-963e-84a33223ae88",
   "metadata": {
    "pycharm": {
     "name": "#%%\n"
    }
   },
   "outputs": [
    {
     "data": {
      "text/plain": [
       "(161297, 7)"
      ]
     },
     "execution_count": 3,
     "metadata": {},
     "output_type": "execute_result"
    }
   ],
   "source": [
    "data=pd.read_csv('data/drugsComTrain_raw.csv')\n",
    "data.shape"
   ]
  },
  {
   "cell_type": "code",
   "execution_count": 4,
   "id": "a5d6066c-09cd-45be-ae1a-89c29bcc472e",
   "metadata": {
    "pycharm": {
     "name": "#%%\n"
    }
   },
   "outputs": [],
   "source": [
    "data=data.drop_duplicates()"
   ]
  },
  {
   "cell_type": "code",
   "execution_count": 5,
   "id": "05fd9682-de9b-498c-a70e-be97b274dd2e",
   "metadata": {
    "pycharm": {
     "name": "#%%\n"
    }
   },
   "outputs": [
    {
     "data": {
      "text/plain": [
       "(112329, 8)"
      ]
     },
     "execution_count": 5,
     "metadata": {},
     "output_type": "execute_result"
    }
   ],
   "source": [
    "data=data.iloc[data['review'].drop_duplicates().index,:]\n",
    "data=data.reset_index()\n",
    "data.shape"
   ]
  },
  {
   "cell_type": "code",
   "execution_count": 6,
   "id": "e9208136-a563-4f09-a1d3-15c58519eab7",
   "metadata": {
    "pycharm": {
     "name": "#%%\n"
    }
   },
   "outputs": [
    {
     "data": {
      "text/html": [
       "<div>\n",
       "<style scoped>\n",
       "    .dataframe tbody tr th:only-of-type {\n",
       "        vertical-align: middle;\n",
       "    }\n",
       "\n",
       "    .dataframe tbody tr th {\n",
       "        vertical-align: top;\n",
       "    }\n",
       "\n",
       "    .dataframe thead th {\n",
       "        text-align: right;\n",
       "    }\n",
       "</style>\n",
       "<table border=\"1\" class=\"dataframe\">\n",
       "  <thead>\n",
       "    <tr style=\"text-align: right;\">\n",
       "      <th></th>\n",
       "      <th>index</th>\n",
       "      <th>uniqueID</th>\n",
       "      <th>drugName</th>\n",
       "      <th>condition</th>\n",
       "      <th>review</th>\n",
       "      <th>rating</th>\n",
       "      <th>date</th>\n",
       "      <th>usefulCount</th>\n",
       "    </tr>\n",
       "  </thead>\n",
       "  <tbody>\n",
       "    <tr>\n",
       "      <th>0</th>\n",
       "      <td>0</td>\n",
       "      <td>206461</td>\n",
       "      <td>Valsartan</td>\n",
       "      <td>Left Ventricular Dysfunction</td>\n",
       "      <td>\"It has no side effect, I take it in combinati...</td>\n",
       "      <td>9</td>\n",
       "      <td>20-May-12</td>\n",
       "      <td>27</td>\n",
       "    </tr>\n",
       "    <tr>\n",
       "      <th>1</th>\n",
       "      <td>1</td>\n",
       "      <td>95260</td>\n",
       "      <td>Guanfacine</td>\n",
       "      <td>ADHD</td>\n",
       "      <td>\"My son is halfway through his fourth week of ...</td>\n",
       "      <td>8</td>\n",
       "      <td>27-Apr-10</td>\n",
       "      <td>192</td>\n",
       "    </tr>\n",
       "    <tr>\n",
       "      <th>2</th>\n",
       "      <td>2</td>\n",
       "      <td>92703</td>\n",
       "      <td>Lybrel</td>\n",
       "      <td>Birth Control</td>\n",
       "      <td>\"I used to take another oral contraceptive, wh...</td>\n",
       "      <td>5</td>\n",
       "      <td>14-Dec-09</td>\n",
       "      <td>17</td>\n",
       "    </tr>\n",
       "    <tr>\n",
       "      <th>3</th>\n",
       "      <td>3</td>\n",
       "      <td>138000</td>\n",
       "      <td>Ortho Evra</td>\n",
       "      <td>Birth Control</td>\n",
       "      <td>\"This is my first time using any form of birth...</td>\n",
       "      <td>8</td>\n",
       "      <td>3-Nov-15</td>\n",
       "      <td>10</td>\n",
       "    </tr>\n",
       "    <tr>\n",
       "      <th>4</th>\n",
       "      <td>4</td>\n",
       "      <td>35696</td>\n",
       "      <td>Buprenorphine / naloxone</td>\n",
       "      <td>Opiate Dependence</td>\n",
       "      <td>\"Suboxone has completely turned my life around...</td>\n",
       "      <td>9</td>\n",
       "      <td>27-Nov-16</td>\n",
       "      <td>37</td>\n",
       "    </tr>\n",
       "  </tbody>\n",
       "</table>\n",
       "</div>"
      ],
      "text/plain": [
       "   index  uniqueID                  drugName                     condition  \\\n",
       "0      0    206461                 Valsartan  Left Ventricular Dysfunction   \n",
       "1      1     95260                Guanfacine                          ADHD   \n",
       "2      2     92703                    Lybrel                 Birth Control   \n",
       "3      3    138000                Ortho Evra                 Birth Control   \n",
       "4      4     35696  Buprenorphine / naloxone             Opiate Dependence   \n",
       "\n",
       "                                              review  rating       date  \\\n",
       "0  \"It has no side effect, I take it in combinati...       9  20-May-12   \n",
       "1  \"My son is halfway through his fourth week of ...       8  27-Apr-10   \n",
       "2  \"I used to take another oral contraceptive, wh...       5  14-Dec-09   \n",
       "3  \"This is my first time using any form of birth...       8   3-Nov-15   \n",
       "4  \"Suboxone has completely turned my life around...       9  27-Nov-16   \n",
       "\n",
       "   usefulCount  \n",
       "0           27  \n",
       "1          192  \n",
       "2           17  \n",
       "3           10  \n",
       "4           37  "
      ]
     },
     "execution_count": 6,
     "metadata": {},
     "output_type": "execute_result"
    }
   ],
   "source": [
    "data.head()"
   ]
  },
  {
   "cell_type": "code",
   "execution_count": 7,
   "id": "858e962d-8aa3-41bd-8a5c-494f7f7233d3",
   "metadata": {
    "pycharm": {
     "name": "#%%\n"
    }
   },
   "outputs": [
    {
     "name": "stdout",
     "output_type": "stream",
     "text": [
      "<class 'pandas.core.frame.DataFrame'>\n",
      "RangeIndex: 111772 entries, 0 to 111771\n",
      "Data columns (total 8 columns):\n",
      " #   Column       Non-Null Count   Dtype \n",
      "---  ------       --------------   ----- \n",
      " 0   index        111772 non-null  int64 \n",
      " 1   uniqueID     111772 non-null  int64 \n",
      " 2   drugName     111772 non-null  object\n",
      " 3   condition    111772 non-null  object\n",
      " 4   review       111772 non-null  object\n",
      " 5   rating       111772 non-null  int64 \n",
      " 6   date         111772 non-null  object\n",
      " 7   usefulCount  111772 non-null  int64 \n",
      "dtypes: int64(4), object(4)\n",
      "memory usage: 6.8+ MB\n"
     ]
    }
   ],
   "source": [
    "data.dropna(inplace=True,axis=0)\n",
    "data=data.reset_index(drop=True)\n",
    "data.info()"
   ]
  },
  {
   "cell_type": "markdown",
   "id": "daa6d7ac-5616-4bf6-b99f-713517b4e12b",
   "metadata": {
    "pycharm": {
     "name": "#%% md\n"
    }
   },
   "source": [
    "## Encode"
   ]
  },
  {
   "cell_type": "code",
   "execution_count": 8,
   "id": "407e17b8-db89-45f8-bddf-8349d40a0020",
   "metadata": {
    "pycharm": {
     "name": "#%%\n"
    }
   },
   "outputs": [
    {
     "name": "stdout",
     "output_type": "stream",
     "text": [
      "CPU times: user 4min 30s, sys: 1min 53s, total: 6min 24s\n",
      "Wall time: 5min 39s\n"
     ]
    }
   ],
   "source": [
    "%time complaint_embeddings = model.encode(list(data['review']))"
   ]
  },
  {
   "cell_type": "code",
   "execution_count": 9,
   "id": "d354cccf-1b63-41ef-bd07-f15ca4af64bb",
   "metadata": {
    "pycharm": {
     "name": "#%%\n"
    }
   },
   "outputs": [
    {
     "data": {
      "text/plain": [
       "(111772, 768)"
      ]
     },
     "execution_count": 9,
     "metadata": {},
     "output_type": "execute_result"
    }
   ],
   "source": [
    "complaint_embeddings.shape"
   ]
  },
  {
   "cell_type": "markdown",
   "id": "ce68478a-f72b-42af-b54f-d390cdfec99a",
   "metadata": {
    "pycharm": {
     "name": "#%% md\n"
    }
   },
   "source": [
    "# Original solution, using numpy"
   ]
  },
  {
   "cell_type": "markdown",
   "id": "015e6345-2cec-4057-a54c-f670821e570a",
   "metadata": {
    "pycharm": {
     "name": "#%% md\n"
    }
   },
   "source": [
    "## Make search space"
   ]
  },
  {
   "cell_type": "code",
   "execution_count": 10,
   "id": "816a5a6c-91cc-4929-96d0-52c66bf712ce",
   "metadata": {
    "pycharm": {
     "name": "#%%\n"
    }
   },
   "outputs": [
    {
     "data": {
      "text/plain": [
       "6985.75"
      ]
     },
     "execution_count": 10,
     "metadata": {},
     "output_type": "execute_result"
    }
   ],
   "source": [
    "search_space_len=complaint_embeddings.shape[0]\n",
    "embedding_dims=complaint_embeddings.shape[1]\n",
    "n_buckets=search_space_len/16\n",
    "n_buckets"
   ]
  },
  {
   "cell_type": "code",
   "execution_count": 11,
   "id": "44331c56-7874-4c21-a095-9c74e4b4e791",
   "metadata": {
    "pycharm": {
     "name": "#%%\n"
    }
   },
   "outputs": [],
   "source": [
    "n_planes=11\n",
    "n_repeats=25"
   ]
  },
  {
   "cell_type": "markdown",
   "id": "90789c59-dc82-49e6-8497-3ef677e2330c",
   "metadata": {
    "pycharm": {
     "name": "#%% md\n"
    }
   },
   "source": [
    "####  generate random planes and hash tables"
   ]
  },
  {
   "cell_type": "code",
   "execution_count": 12,
   "id": "cabecef9-52e0-4b99-a568-6c67c7179f1b",
   "metadata": {
    "pycharm": {
     "name": "#%%\n"
    }
   },
   "outputs": [
    {
     "name": "stdout",
     "output_type": "stream",
     "text": [
      "25\n"
     ]
    },
    {
     "data": {
      "text/plain": [
       "(768, 11)"
      ]
     },
     "execution_count": 12,
     "metadata": {},
     "output_type": "execute_result"
    }
   ],
   "source": [
    "#Generate 11 planes randomly. This gives us a 768 X 11 dimensional matrix\n",
    "planes_l = [np.random.normal(size=(embedding_dims, n_planes)) for i in range(n_repeats)]\n",
    "print(len(planes_l))\n",
    "planes_l[0].shape"
   ]
  },
  {
   "cell_type": "code",
   "execution_count": 13,
   "id": "ac253fe8-066f-4626-b15b-410d430ecd89",
   "metadata": {
    "pycharm": {
     "name": "#%%\n"
    }
   },
   "outputs": [],
   "source": [
    "def hash_vector(v, planes):\n",
    "    #Dot vector with randomly generated planes\n",
    "    # pdb.set_trace()\n",
    "    dot_product = np.dot(v.T,planes) #( 1 , 768 ) X (768, 11)\n",
    "    # get the sign of the dot product (1,11) shaped vector\n",
    "    sign_of_dot_product = np.sign(dot_product)\n",
    "    h = np.squeeze(sign_of_dot_product>=0)\n",
    "    hash_value = 0\n",
    "    n_planes = planes.shape[1]\n",
    "    for i in range(n_planes):\n",
    "        # increment the hash value by 2^i * h_i\n",
    "        hash_value += np.power(2,i)*h[i]\n",
    "    hash_value = int(hash_value)\n",
    "    return hash_value"
   ]
  },
  {
   "cell_type": "code",
   "execution_count": 14,
   "id": "f3a6f12d-106f-44a5-84f2-5922ab1d288a",
   "metadata": {
    "pycharm": {
     "name": "#%%\n"
    }
   },
   "outputs": [],
   "source": [
    "def make_hash_tables(search_space, planes):\n",
    "    num_of_planes = planes.shape[1]\n",
    "    # number of buckets is 2^(number of planes)\n",
    "    num_buckets = 2**num_of_planes\n",
    "    # Keys are integers (0,1,2.. number of buckets)\n",
    "    # Values are empty lists\n",
    "    hash_table = {i:[] for i in range(num_buckets)}\n",
    "    # Keys are integers (0,1,2... number of buckets)\n",
    "    # Values are empty lists\n",
    "    id_table = {i:[] for i in range(num_buckets)}\n",
    "    # for each vector in 'search_space'\n",
    "    for i, v in enumerate(search_space):\n",
    "        # calculate the hash value for the vector\n",
    "        h = hash_vector(v,planes)\n",
    "        # store the vector into hash_table at key h,\n",
    "        hash_table[h].append(v)\n",
    "        # store the vector's index 'i' \n",
    "        id_table[h].append(i)\n",
    "    return hash_table, id_table"
   ]
  },
  {
   "cell_type": "code",
   "execution_count": 15,
   "id": "cc9ce229-108b-4f26-a2ab-b68f813608ba",
   "metadata": {
    "pycharm": {
     "name": "#%%\n"
    }
   },
   "outputs": [
    {
     "name": "stdout",
     "output_type": "stream",
     "text": [
      "Creating  hash table : 0\n",
      "Creating  hash table : 1\n",
      "Creating  hash table : 2\n",
      "Creating  hash table : 3\n",
      "Creating  hash table : 4\n",
      "Creating  hash table : 5\n",
      "Creating  hash table : 6\n",
      "Creating  hash table : 7\n",
      "Creating  hash table : 8\n",
      "Creating  hash table : 9\n",
      "Creating  hash table : 10\n",
      "Creating  hash table : 11\n",
      "Creating  hash table : 12\n",
      "Creating  hash table : 13\n",
      "Creating  hash table : 14\n",
      "Creating  hash table : 15\n",
      "Creating  hash table : 16\n",
      "Creating  hash table : 17\n",
      "Creating  hash table : 18\n",
      "Creating  hash table : 19\n",
      "Creating  hash table : 20\n",
      "Creating  hash table : 21\n",
      "Creating  hash table : 22\n",
      "Creating  hash table : 23\n",
      "Creating  hash table : 24\n",
      "elapsed time 84.76434326171875\n"
     ]
    }
   ],
   "source": [
    "# Creating the hashtables\n",
    "start=time()\n",
    "hash_tables = []\n",
    "id_tables = []\n",
    "for i in range(n_repeats):  # there are 25 hash tables\n",
    "    print('Creating  hash table :', i)\n",
    "    planes = planes_l[i]\n",
    "    hash_table, id_table = make_hash_tables(complaint_embeddings, planes)\n",
    "    hash_tables.append(hash_table)\n",
    "    id_tables.append(id_table)\n",
    "end=time()\n",
    "print(f'elapsed time {end-start}')"
   ]
  },
  {
   "cell_type": "code",
   "execution_count": 17,
   "id": "ee29de64-1fda-47dd-9ba5-2765d3179445",
   "metadata": {
    "pycharm": {
     "name": "#%%\n"
    }
   },
   "outputs": [
    {
     "data": {
      "text/plain": [
       "25"
      ]
     },
     "execution_count": 17,
     "metadata": {},
     "output_type": "execute_result"
    }
   ],
   "source": [
    "len(planes_l)"
   ]
  },
  {
   "cell_type": "markdown",
   "id": "1d3655c3-dac3-4b75-b2ab-89c0dac701e8",
   "metadata": {
    "pycharm": {
     "name": "#%% md\n"
    }
   },
   "source": [
    "## Search"
   ]
  },
  {
   "cell_type": "code",
   "execution_count": 18,
   "id": "6cac5e69-01b0-472e-b433-03f1f1d0a6e4",
   "metadata": {
    "pycharm": {
     "name": "#%%\n"
    }
   },
   "outputs": [],
   "source": [
    "def reduce_search_space(v, planes_l, k=3, num_tables=n_repeats):\n",
    "    # Vectors that will be checked as possible similar vectors\n",
    "    candidate_vectors = []\n",
    "    # list of IDs for our vectors\n",
    "    candidate_ids = []\n",
    "    candidate_ids_set = set()\n",
    "    # loop through all hash tables \n",
    "    for table in range(num_tables):\n",
    "        # get the set of planes from the planes_l list, for this particular hash table\n",
    "        planes = planes_l[table]\n",
    "        # get the hash value of the vector for this set of planes\n",
    "        hash_value = hash_vector(v, planes)\n",
    "        # get the hash table\n",
    "        hash_table = hash_tables[table]\n",
    "        # get the list of vectors for this hash table, with the same hash value as our vector v\n",
    "        retreived_vectors = hash_table[hash_value]\n",
    "        # get the id_table for this particular universe_id\n",
    "        id_table = id_tables[table]\n",
    "        new_ids_to_consider = id_table[hash_value]\n",
    "        # loop through the subset of document vectors to consider\n",
    "        for i, new_id in enumerate(new_ids_to_consider):\n",
    "            # if the document ID is not yet in the set ids_to_consider...\n",
    "            if new_id not in candidate_ids_set:\n",
    "                # append the vector and id to corresponding lists\n",
    "                candidate_vectors.append(retreived_vectors[i])\n",
    "                candidate_ids.append(new_id)\n",
    "                # also add the new_id to the set of ids to consider\n",
    "                candidate_ids_set.add(new_id)\n",
    "    # Now run k-NN on the smaller set of vecs-to-consider.\n",
    "    print(\"Reduced space from 25971 documents to %d documents\" % len(candidate_vectors))\n",
    "    vecs_to_consider_arr = np.array(candidate_vectors)\n",
    "    return vecs_to_consider_arr"
   ]
  },
  {
   "cell_type": "code",
   "execution_count": 19,
   "id": "bcff11d7-95a6-4a99-a4b3-65e5913e399a",
   "metadata": {
    "pycharm": {
     "name": "#%%\n"
    }
   },
   "outputs": [],
   "source": [
    "problem='Chest feels heavy and difficulty in breathing, I keep coughing. Sweating alot'"
   ]
  },
  {
   "cell_type": "code",
   "execution_count": 20,
   "id": "1d18a9a1-e835-46fe-b10d-04aa26572841",
   "metadata": {
    "pycharm": {
     "name": "#%%\n"
    }
   },
   "outputs": [],
   "source": [
    "problem_embedding=model.encode(problem)"
   ]
  },
  {
   "cell_type": "code",
   "execution_count": 38,
   "id": "a771cf1c-d8f0-4d43-bf03-c54f7a369830",
   "metadata": {
    "pycharm": {
     "name": "#%%\n"
    }
   },
   "outputs": [
    {
     "name": "stdout",
     "output_type": "stream",
     "text": [
      "Reduced space from 25971 documents to 24904 documents\n",
      "CPU times: user 82.7 ms, sys: 0 ns, total: 82.7 ms\n",
      "Wall time: 81.3 ms\n"
     ]
    },
    {
     "name": "stderr",
     "output_type": "stream",
     "text": [
      "/tmp/ipykernel_59/2967092302.py:4: UserWarning: The use of `x.T` on tensors of dimension other than 2 to reverse their shape is deprecated and it will throw an error in a future release. Consider `x.mT` to transpose batches of matricesor `x.permute(*torch.arange(x.ndim - 1, -1, -1))` to reverse the dimensions of a tensor. (Triggered internally at  ../aten/src/ATen/native/TensorShape.cpp:2981.)\n",
      "  dot_product = np.dot(v.T,planes) #( 1 , 768 ) X (768, 11)\n"
     ]
    }
   ],
   "source": [
    "%time vecs_to_consider=reduce_search_space(problem_embedding,planes_l)"
   ]
  },
  {
   "cell_type": "code",
   "execution_count": 39,
   "id": "0f5e342c-c567-439c-9dea-ea7e92842777",
   "metadata": {
    "pycharm": {
     "name": "#%%\n"
    }
   },
   "outputs": [],
   "source": [
    "def cosine_similarity(a,b):\n",
    "    return dot(a, b)/(norm(a)*norm(b))"
   ]
  },
  {
   "cell_type": "code",
   "execution_count": 40,
   "id": "abea983c-3118-41fe-87af-6fd81db255fc",
   "metadata": {
    "pycharm": {
     "name": "#%%\n"
    }
   },
   "outputs": [],
   "source": [
    "def nearest_k(v,search_embeddings,top_n=3):\n",
    "    similarities=[]\n",
    "    for i in search_embeddings:\n",
    "        similarities.append(cosine_similarity(v,i))\n",
    "    return search_embeddings[np.argsort(similarities)[::-1]][:3]"
   ]
  },
  {
   "cell_type": "code",
   "execution_count": 41,
   "id": "4bc92ae4-b8a3-4f03-add3-70ad8ec6127e",
   "metadata": {
    "pycharm": {
     "name": "#%%\n"
    }
   },
   "outputs": [
    {
     "name": "stdout",
     "output_type": "stream",
     "text": [
      "CPU times: user 1.97 s, sys: 0 ns, total: 1.97 s\n",
      "Wall time: 1.97 s\n"
     ]
    }
   ],
   "source": [
    "%time x=nearest_k(problem_embedding, complaint_embeddings)"
   ]
  },
  {
   "cell_type": "code",
   "execution_count": 42,
   "id": "b903a815-cc47-4077-aabd-7e14a230b2aa",
   "metadata": {
    "pycharm": {
     "name": "#%%\n"
    }
   },
   "outputs": [
    {
     "name": "stdout",
     "output_type": "stream",
     "text": [
      "CPU times: user 449 ms, sys: 0 ns, total: 449 ms\n",
      "Wall time: 447 ms\n"
     ]
    }
   ],
   "source": [
    "%time y=nearest_k(problem_embedding, vecs_to_consider)"
   ]
  },
  {
   "cell_type": "code",
   "execution_count": 43,
   "id": "e809f44c-02f8-4cfa-aa1b-bb087240d76e",
   "metadata": {
    "pycharm": {
     "name": "#%%\n"
    }
   },
   "outputs": [],
   "source": [
    "id_to_vec={}\n",
    "\n",
    "for i in range(complaint_embeddings.shape[0]):\n",
    "    id_to_vec[i]=complaint_embeddings[i]"
   ]
  },
  {
   "cell_type": "code",
   "execution_count": 44,
   "id": "c38e2704-543a-4bd8-9379-faafe57a8e31",
   "metadata": {
    "pycharm": {
     "name": "#%%\n"
    }
   },
   "outputs": [
    {
     "name": "stdout",
     "output_type": "stream",
     "text": [
      "\"I feel like I cough even more after taking this. It is not effective at all.\" Cough\n",
      "\n",
      "\"Did not work. Coughing so hard my back hurts.\" Cough\n",
      "\n",
      "\"Made me feel hot, diarrhea, fatigue, bloated.\" Pain\n",
      "\n"
     ]
    }
   ],
   "source": [
    "#Results using entire search space\n",
    "for k,v in id_to_vec.items():\n",
    "    for t in x:\n",
    "        if (v==t).all():\n",
    "            print(data['review'][k],data['condition'][k])\n",
    "            print()"
   ]
  },
  {
   "cell_type": "code",
   "execution_count": 45,
   "id": "df003d33-44a1-49db-bd1e-829b93b3ce3e",
   "metadata": {
    "pycharm": {
     "name": "#%%\n"
    }
   },
   "outputs": [
    {
     "name": "stdout",
     "output_type": "stream",
     "text": [
      "\"I feel like I cough even more after taking this. It is not effective at all.\" Cough\n",
      "\n",
      "\"Did not work. Coughing so hard my back hurts.\" Cough\n",
      "\n",
      "\"Made me feel hot, diarrhea, fatigue, bloated.\" Pain\n",
      "\n"
     ]
    }
   ],
   "source": [
    "#Results using reduced search space\n",
    "for k,v in id_to_vec.items():\n",
    "    for t in y:\n",
    "        if (v==t).all():\n",
    "            print(data['review'][k],data['condition'][k])\n",
    "              print()"
   ]
  },
  {
   "cell_type": "code",
   "execution_count": 47,
   "id": "ad0ae73a-43bc-46b5-9132-0bedae44fcd5",
   "metadata": {
    "pycharm": {
     "name": "#%%\n"
    }
   },
   "outputs": [
    {
     "name": "stdout",
     "output_type": "stream",
     "text": [
      "Reduced space from 25971 documents to 24904 documents\n",
      "\"I feel like I cough even more after taking this. It is not effective at all.\" Cough\n",
      "\n",
      "\"Did not work. Coughing so hard my back hurts.\" Cough\n",
      "\n",
      "\"Made me feel hot, diarrhea, fatigue, bloated.\" Pain\n",
      "\n",
      "CPU times: user 1.65 s, sys: 0 ns, total: 1.65 s\n",
      "Wall time: 1.65 s\n"
     ]
    }
   ],
   "source": [
    "#turn it into a function to more easily calculate speed\n",
    "def find_similar_reduced(complaint_embeddings, id_to_vec, planes_l):\n",
    "    vecs_to_consider=reduce_search_space(problem_embedding,planes_l)\n",
    "    y=nearest_k(problem_embedding, vecs_to_consider)\n",
    "    for k,v in id_to_vec.items():\n",
    "        for t in y:\n",
    "            if (v==t).all():\n",
    "                print(data['review'][k],data['condition'][k])\n",
    "                print()\n",
    "     \n",
    "%time find_similar_reduced(complaint_embeddings, id_to_vec, planes_l)"
   ]
  },
  {
   "cell_type": "markdown",
   "id": "a0a59b69-edfb-4ed0-9640-34e53ac80edc",
   "metadata": {
    "pycharm": {
     "name": "#%% md\n"
    }
   },
   "source": [
    "# Pytorch version"
   ]
  },
  {
   "cell_type": "code",
   "execution_count": 29,
   "id": "bc78cb26-e87f-40ed-9d44-6d319b92845b",
   "metadata": {
    "pycharm": {
     "name": "#%%\n"
    }
   },
   "outputs": [],
   "source": [
    "complaint_embeddings_t=torch.tensor(complaint_embeddings)"
   ]
  },
  {
   "cell_type": "code",
   "execution_count": 113,
   "id": "231b1470-3a93-4e28-a54a-595179ddca91",
   "metadata": {
    "pycharm": {
     "name": "#%%\n"
    }
   },
   "outputs": [],
   "source": [
    "class LSH:\n",
    "    def __init__(self, texts, embeddings, n_planes=11, n_repeats=25):\n",
    "        self.texts=texts\n",
    "        self.embeddings=embeddings\n",
    "        self.n_planes=n_planes\n",
    "        self.n_repeats=n_repeats\n",
    "        self.num_buckets = 2**self.n_planes\n",
    "        self.search_space_len=self.embeddings.shape[0]\n",
    "        self.embedding_dims=self.embeddings.shape[1]\n",
    "        self.n_buckets=self.search_space_len/16\n",
    "        \n",
    "        self.row_idx=torch.tensor(list(range(self.n_planes)))\n",
    "        self.row_pow=torch.pow(self.row_idx, 2)\n",
    "        self.cossim= nn.CosineSimilarity(dim=1, eps=1e-6)\n",
    "        self.planes=torch.randn((self.n_repeats, self.embedding_dims, self.n_planes))\n",
    "        self.hash_tables=[]\n",
    "        self.id_tables=[]\n",
    "        self.init_hash_tables_()\n",
    "        \n",
    "    def init_hash_tables_(self):\n",
    "        self.hash_tables = [{i:[] for i in range(self.num_buckets)} for _ in range(self.n_repeats)]\n",
    "        self.id_tables = [{i:[] for i in range(self.num_buckets)} for _ in range(self.n_repeats)]\n",
    "\n",
    "    def hash_vector(self, vector, planes):\n",
    "        dot_prod=vector@planes\n",
    "        signs=torch.sign(dot_prod)>=0\n",
    "        hash_values=(self.row_pow.repeat(signs.shape[0], 1)*signs).sum(axis=1)\n",
    "        return hash_values\n",
    "    \n",
    "    def make_search_space(self):\n",
    "        for i, v in enumerate(self.embeddings):\n",
    "            # calculate the hash value for the vector\n",
    "            h = self.hash_vector(v, self.planes)\n",
    "            for j, h_val in enumerate(h):\n",
    "                h_val=h_val.item()\n",
    "                # store the vector into hash_table at key h,\n",
    "                self.hash_tables[j][h_val].append(v)\n",
    "                # store the vector's index 'i' \n",
    "                self.id_tables[j][h_val].append(i)\n",
    "                \n",
    "    def reduce_search_space(self, v, k=3):\n",
    "        candidate_vectors = []\n",
    "        candidate_ids = []\n",
    "        candidate_ids_set = set()\n",
    "        h = self.hash_vector(v, self.planes)\n",
    "        for j, h_val in enumerate(h):\n",
    "                h_val=h_val.item()\n",
    "                retreived_vectors = self.hash_tables[j][h_val]\n",
    "                new_ids_to_consider = self.id_tables[j][h_val]\n",
    "                for i, new_id in enumerate(new_ids_to_consider):\n",
    "                    # if the document ID is not yet in the set ids_to_consider...\n",
    "                    if new_id not in candidate_ids_set:\n",
    "                        # append the vector and id to corresponding lists\n",
    "                        candidate_vectors.append(retreived_vectors[i])\n",
    "                        candidate_ids.append(new_id)\n",
    "                        # also add the new_id to the set of ids to consider\n",
    "                        candidate_ids_set.add(new_id)\n",
    "        return torch.stack(candidate_vectors), candidate_ids\n",
    "    \n",
    "    def nearest_index(self, v, search_embeddings):\n",
    "        sims=self.cossim(v, search_embeddings)\n",
    "        sorted_idx=torch.argsort(sims, descending=True)\n",
    "        return sorted_idx\n",
    "    \n",
    "    def find_topk(self, v, k=3):\n",
    "        candidate_vectors, candidate_ids=self.reduce_search_space(v)\n",
    "        sorted_reduced_idx= self.nearest_index(v, candidate_vectors)\n",
    "        texts_idx=np.array(candidate_ids)[sorted_reduced_idx][:k]\n",
    "        top_texts=[self.texts[idx] for idx in texts_idx]\n",
    "        return top_texts\n",
    "        "
   ]
  },
  {
   "cell_type": "code",
   "execution_count": 114,
   "id": "d7ad1d07-ac0c-4131-944f-c0856d93461c",
   "metadata": {
    "pycharm": {
     "name": "#%%\n"
    }
   },
   "outputs": [
    {
     "name": "stdout",
     "output_type": "stream",
     "text": [
      "CPU times: user 1.43 s, sys: 8.85 ms, total: 1.44 s\n",
      "Wall time: 1.44 s\n"
     ]
    }
   ],
   "source": [
    "%time lsh=LSH(data['review'].tolist(), complaint_embeddings_t)"
   ]
  },
  {
   "cell_type": "code",
   "execution_count": 115,
   "id": "31599637-f214-4096-90b4-25c36393d5dc",
   "metadata": {
    "pycharm": {
     "name": "#%%\n"
    }
   },
   "outputs": [
    {
     "name": "stdout",
     "output_type": "stream",
     "text": [
      "CPU times: user 4min, sys: 503 ms, total: 4min\n",
      "Wall time: 40.4 s\n"
     ]
    }
   ],
   "source": [
    "%time lsh.make_search_space()"
   ]
  },
  {
   "cell_type": "code",
   "execution_count": 116,
   "id": "725eead9-cee1-408a-84d5-ba5a79bd25bd",
   "metadata": {
    "pycharm": {
     "name": "#%%\n"
    }
   },
   "outputs": [],
   "source": [
    "problem='Chest feels heavy and difficulty in breathing, I keep coughing. Sweating alot'\n",
    "problem_embedding=torch.tensor(model.encode(problem))"
   ]
  },
  {
   "cell_type": "code",
   "execution_count": 117,
   "id": "7621496b-c208-4f8b-8edb-a9d38780bb84",
   "metadata": {
    "pycharm": {
     "name": "#%%\n"
    }
   },
   "outputs": [
    {
     "name": "stdout",
     "output_type": "stream",
     "text": [
      "CPU times: user 289 ms, sys: 190 ms, total: 479 ms\n",
      "Wall time: 132 ms\n"
     ]
    },
    {
     "data": {
      "text/plain": [
       "['\"Did not work. Coughing so hard my back hurts.\"',\n",
       " '\"I feel like I cough even more after taking this. It is not effective at all.\"',\n",
       " '\"Made me feel hot, diarrhea, fatigue, bloated.\"']"
      ]
     },
     "execution_count": 117,
     "metadata": {},
     "output_type": "execute_result"
    }
   ],
   "source": [
    "%time lsh.find_topk(problem_embedding)"
   ]
  },
  {
   "cell_type": "markdown",
   "id": "1c010baf-58d8-401f-956c-175278a36586",
   "metadata": {
    "pycharm": {
     "name": "#%% md\n"
    }
   },
   "source": [
    "Pytorch version search space creation is 2x faster (85 vs 40 sec) and search also a lot faster (1.6 vs 0.13 sec)"
   ]
  },
  {
   "cell_type": "code",
   "execution_count": null,
   "id": "4c0d9e1b-54dd-4212-8c0e-48024b4f30ef",
   "metadata": {
    "pycharm": {
     "name": "#%%\n"
    }
   },
   "outputs": [],
   "source": []
  }
 ],
 "metadata": {
  "kernelspec": {
   "display_name": "Python 3 (ipykernel)",
   "language": "python",
   "name": "python3"
  },
  "language_info": {
   "codemirror_mode": {
    "name": "ipython",
    "version": 3
   },
   "file_extension": ".py",
   "mimetype": "text/x-python",
   "name": "python",
   "nbconvert_exporter": "python",
   "pygments_lexer": "ipython3",
   "version": "3.9.13"
  }
 },
 "nbformat": 4,
 "nbformat_minor": 5
}