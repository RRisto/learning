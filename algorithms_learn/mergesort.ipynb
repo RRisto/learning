{
 "cells": [
  {
   "cell_type": "markdown",
   "metadata": {},
   "source": [
    "My simple implementation of mergesort algorithm"
   ]
  },
  {
   "cell_type": "code",
   "execution_count": 8,
   "metadata": {
    "collapsed": true
   },
   "outputs": [],
   "source": [
    "import math"
   ]
  },
  {
   "cell_type": "code",
   "execution_count": 32,
   "metadata": {
    "collapsed": true
   },
   "outputs": [],
   "source": [
    "def my_merge(lst1, lst2):\n",
    "    '''input:\n",
    "        - sorted lists lst1 and lst2\n",
    "        output:\n",
    "        - merged sorted list with length len(lst1)+len(lst2)'''\n",
    "\n",
    "    i=0\n",
    "    j=0\n",
    "    res=[]\n",
    "    n=len(lst1)+len(lst2)\n",
    "    #merge lists\n",
    "    for k in range(n):\n",
    "        if i>=len(lst1):\n",
    "            res.extend(lst2[j:])\n",
    "            break\n",
    "        if j>=len(lst2):\n",
    "            res.extend(lst1[i:])\n",
    "            break\n",
    "        elif lst1[i]<lst2[j]:\n",
    "            res.append(lst1[i])\n",
    "            i+=1\n",
    "        else:\n",
    "            res.append(lst2[j])\n",
    "            j+=1\n",
    "        \n",
    "    return res"
   ]
  },
  {
   "cell_type": "code",
   "execution_count": 33,
   "metadata": {},
   "outputs": [],
   "source": [
    "def mergesort(lst):\n",
    "    '''input:\n",
    "        - list which needs to be sorted\n",
    "        output:\n",
    "        - list which is sorted\n",
    "        '''\n",
    "    n=len(lst)\n",
    "    if n<2:\n",
    "        return lst    #divide list into two halves\n",
    "    lst1=lst[0:math.floor(len(lst)/2)]\n",
    "    lst2=lst[math.floor(len(lst)/2):]\n",
    "    \n",
    "    lst1=mergesort(lst1)\n",
    "    lst2=mergesort(lst2)\n",
    "    \n",
    "    res=my_merge(lst1, lst2)\n",
    "    \n",
    "    return res"
   ]
  },
  {
   "cell_type": "code",
   "execution_count": 35,
   "metadata": {},
   "outputs": [
    {
     "data": {
      "text/plain": [
       "[2, 3, 4, 5, 9]"
      ]
     },
     "execution_count": 35,
     "metadata": {},
     "output_type": "execute_result"
    }
   ],
   "source": [
    "mergesort([9,5,4,2, 3])"
   ]
  },
  {
   "cell_type": "code",
   "execution_count": null,
   "metadata": {
    "collapsed": true
   },
   "outputs": [],
   "source": []
  }
 ],
 "metadata": {
  "kernelspec": {
   "display_name": "Python 3",
   "language": "python",
   "name": "python3"
  },
  "language_info": {
   "codemirror_mode": {
    "name": "ipython",
    "version": 3
   },
   "file_extension": ".py",
   "mimetype": "text/x-python",
   "name": "python",
   "nbconvert_exporter": "python",
   "pygments_lexer": "ipython3",
   "version": "3.5.4"
  }
 },
 "nbformat": 4,
 "nbformat_minor": 2
}
