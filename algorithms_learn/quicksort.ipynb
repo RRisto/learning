{
 "cells": [
  {
   "cell_type": "code",
   "execution_count": 105,
   "metadata": {
    "collapsed": true
   },
   "outputs": [],
   "source": [
    "import random\n",
    "\n",
    "import random\n",
    "\n",
    "def quicksort(lst):\n",
    "    if len(lst)<=1:\n",
    "        return lst\n",
    "    #choose pivot\n",
    "    pivot_ind=random.randint(0,len(lst)-1)\n",
    "    #turn pivot first element\n",
    "    lst.insert(0, lst.pop(pivot_ind))\n",
    "    #partition get new pivot position\n",
    "    j=partition(lst)\n",
    "    #recurse on first part\n",
    "    first=quicksort(lst[0:j])\n",
    "    last=quicksort(lst[j+1:])\n",
    "    return first+[lst[j]]+last\n",
    "    "
   ]
  },
  {
   "cell_type": "code",
   "execution_count": 106,
   "metadata": {},
   "outputs": [],
   "source": [
    "def partition(lst):\n",
    "    p=lst[0]\n",
    "    i=1\n",
    "    for j in range(1,len(lst)):\n",
    "        if lst[j]<p:\n",
    "            #swap aj and ai\n",
    "            lst[i], lst[j] = lst[j], lst[i]\n",
    "            i+=1\n",
    "    #place pivot correctly\n",
    "    lst[0], lst[i-1] = lst[i-1], lst[0]\n",
    "    print(lst)\n",
    "    return i-1"
   ]
  },
  {
   "cell_type": "code",
   "execution_count": 107,
   "metadata": {
    "collapsed": true
   },
   "outputs": [],
   "source": [
    "lst=[5,3,7,2,4,9,6]"
   ]
  },
  {
   "cell_type": "code",
   "execution_count": 108,
   "metadata": {},
   "outputs": [
    {
     "name": "stdout",
     "output_type": "stream",
     "text": [
      "[2, 3, 7, 5, 4, 9, 6]\n",
      "[4, 7, 5, 9, 6]\n",
      "[6, 5, 7, 9]\n",
      "[5, 6]\n"
     ]
    },
    {
     "data": {
      "text/plain": [
       "[2, 3, 4, 5, 6, 7, 9]"
      ]
     },
     "execution_count": 108,
     "metadata": {},
     "output_type": "execute_result"
    }
   ],
   "source": [
    "quicksort(lst)"
   ]
  },
  {
   "cell_type": "code",
   "execution_count": null,
   "metadata": {
    "collapsed": true
   },
   "outputs": [],
   "source": []
  }
 ],
 "metadata": {
  "kernelspec": {
   "display_name": "Python 3",
   "language": "python",
   "name": "python3"
  },
  "language_info": {
   "codemirror_mode": {
    "name": "ipython",
    "version": 3
   },
   "file_extension": ".py",
   "mimetype": "text/x-python",
   "name": "python",
   "nbconvert_exporter": "python",
   "pygments_lexer": "ipython3",
   "version": "3.5.4"
  }
 },
 "nbformat": 4,
 "nbformat_minor": 2
}
