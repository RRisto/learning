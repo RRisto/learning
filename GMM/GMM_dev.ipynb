{
 "cells": [
  {
   "cell_type": "code",
   "execution_count": 1,
   "metadata": {},
   "outputs": [],
   "source": [
    "import numpy as np\n",
    "import matplotlib.pyplot as plt\n",
    "from sklearn.mixture import GaussianMixture\n",
    "from scipy.stats import norm, multivariate_normal"
   ]
  },
  {
   "cell_type": "markdown",
   "metadata": {},
   "source": [
    "## Notebook to play around with GMM"
   ]
  },
  {
   "cell_type": "markdown",
   "metadata": {},
   "source": [
    "## generate data"
   ]
  },
  {
   "cell_type": "code",
   "execution_count": 7,
   "metadata": {},
   "outputs": [],
   "source": [
    "init_means = np.array([\n",
    "    [5, 0],\n",
    "    [1, 1],\n",
    "    [0, 5]\n",
    "])\n",
    "\n",
    "init_covariances = np.array([\n",
    "    [[.5, 0.], [0, .5]],\n",
    "    [[.92, .38], [.38, .91]],\n",
    "    [[.5, 0.], [0, .5]]\n",
    "])\n",
    "\n",
    "init_weights = [1 / 4, 1 / 2, 1 / 4]\n",
    "n_data=100"
   ]
  },
  {
   "cell_type": "code",
   "execution_count": 15,
   "metadata": {},
   "outputs": [],
   "source": [
    "def generate_data(n_data, means, covariances, weights):\n",
    "    n_clusters, n_features=means.shape\n",
    "    data=np.zeros((n_data, n_features))\n",
    "    for i in range(n_data):\n",
    "        k=np.random.choice(n_clusters, size=1, p=init_weights)[0]\n",
    "        x=np.random.multivariate_normal(means[k], covariances[k])\n",
    "        data[i]=x\n",
    "    return data"
   ]
  },
  {
   "cell_type": "code",
   "execution_count": 16,
   "metadata": {},
   "outputs": [],
   "source": [
    "data=generate_data(n_data, init_means, init_covariances, init_weights)"
   ]
  },
  {
   "cell_type": "code",
   "execution_count": 20,
   "metadata": {},
   "outputs": [
    {
     "data": {
      "text/plain": [
       "[<matplotlib.lines.Line2D at 0x2b10f070448>]"
      ]
     },
     "execution_count": 20,
     "metadata": {},
     "output_type": "execute_result"
    },
    {
     "data": {
      "image/png": "[encoded data removed]",
      "text/plain": [
       "<Figure size 432x288 with 1 Axes>"
      ]
     },
     "metadata": {
      "needs_background": "light"
     },
     "output_type": "display_data"
    }
   ],
   "source": [
    "plt.plot(data[:, 0], data[:, 1], 'ko')"
   ]
  },
  {
   "cell_type": "code",
   "execution_count": 64,
   "metadata": {},
   "outputs": [],
   "source": [
    "class GMM:\n",
    "    \"\"\"\n",
    "    Full covariance Gaussian Mixture Model,\n",
    "    trained using Expectation Maximization.\n",
    "\n",
    "    Parameters\n",
    "    ----------\n",
    "    n_components : int\n",
    "        Number of clusters/mixture components in which the data will be\n",
    "        partitioned into.\n",
    "\n",
    "    n_iters : int\n",
    "        Maximum number of iterations to run the algorithm.\n",
    "\n",
    "    tol : float\n",
    "        Tolerance. If the log-likelihood between two iterations is smaller than\n",
    "        the specified tolerance level, the algorithm will stop performing the\n",
    "        EM optimization.\n",
    "\n",
    "    seed : int\n",
    "        Seed / random state used to initialize the parameters.\n",
    "    \"\"\"\n",
    "    \n",
    "    def __init__(self, n_components, n_iters, tol, seed):\n",
    "        self.n_components=n_components\n",
    "        self.n_iters=n_iters\n",
    "        self.tol=tol\n",
    "        self.seed=seed\n",
    "\n",
    "    \n",
    "    def fit(self, X):\n",
    "        n_row, n_col=X.shape\n",
    "        self.resp=np.zeros((n_row, self.n_components))\n",
    "        \n",
    "        np.random.seed(self.seed)\n",
    "        chosen=np.random.choice(n_row, self.n_components, replace=False)\n",
    "        self.means=X[chosen]\n",
    "        self.weights=np.full(self.n_components, 1/self.n_components)\n",
    "        \n",
    "        shape =self.n_components, n_col, n_col\n",
    "        self.covs=np.full(shape, np.cov(X, rowvar = False))\n",
    "        \n",
    "        log_likelihood=0\n",
    "        self.converged=False\n",
    "        self.log_likelihood_trace = [] \n",
    "        \n",
    "        for i in range(self.n_iters):\n",
    "            log_likelihood_new=self._do_estep(X)\n",
    "            self._do_mstep(X)\n",
    "            \n",
    "            if abs(log_likelihood_new-log_likelihood)<=self.tol:\n",
    "                self.converged = True\n",
    "                break\n",
    "            log_likelihood=log_likelihood_new\n",
    "            self.log_likelihood_trace.append(log_likelihood)\n",
    "        \n",
    "        pass\n",
    "    \n",
    "    def _do_estep(self, X):\n",
    "        \"\"\"\n",
    "        E-step: compute responsibilities,\n",
    "        update resp matrix so that resp[j, k] is the responsibility of cluster k for data point j,\n",
    "        to compute likelihood of seeing data point j given cluster k, use multivariate_normal.pdf\n",
    "        \"\"\"\n",
    "        self._compute_log_likelihood(X)\n",
    "        log_likelihood=np.sum(np.log(np.sum(self.resp, axis=1)))\n",
    "        \n",
    "        self.resp=self.resp/self.resp.sum(axis=1, keepdims=1)\n",
    "        return log_likelihood\n",
    "    \n",
    "    def _compute_log_likelihood(self, X):\n",
    "        for k in range(self.n_components):\n",
    "            \n",
    "            prior=self.weights[k]\n",
    "            likelihood=multivariate_normal(self.means[k], self.covs[k]).pdf(X)\n",
    "            self.resp[:,k]=prior*likelihood\n",
    "        return self\n",
    "        \n",
    "    \n",
    "    def _do_mstep(self, X):\n",
    "        resp_weights = self.resp.sum(axis = 0)\n",
    "        self.weights = resp_weights / X.shape[0]\n",
    "        \n",
    "        # means\n",
    "        weighted_sum = self.resp.T@ X\n",
    "        self.means = weighted_sum / resp_weights.reshape(-1, 1)\n",
    "        \n",
    "        # covariance\n",
    "        for k in range(self.n_components):\n",
    "            diff = (X - self.means[k]).T\n",
    "            weighted_sum = np.dot(self.resp[:, k] * diff, diff.T)\n",
    "            self.covs[k] = weighted_sum / resp_weights[k]\n",
    "        return self\n",
    "    \n",
    "    def predict(self, X):\n",
    "        pass"
   ]
  },
  {
   "cell_type": "code",
   "execution_count": 65,
   "metadata": {},
   "outputs": [],
   "source": [
    "gmm = GMM(n_components = 3, n_iters = 1, tol = 1e-4, seed = 4)\n",
    "gmm.fit(data)"
   ]
  },
  {
   "cell_type": "code",
   "execution_count": 66,
   "metadata": {},
   "outputs": [
    {
     "data": {
      "text/plain": [
       "array([0.31087088, 0.49885058, 0.19027855])"
      ]
     },
     "execution_count": 66,
     "metadata": {},
     "output_type": "execute_result"
    }
   ],
   "source": [
    "gmm.weights"
   ]
  },
  {
   "cell_type": "code",
   "execution_count": 67,
   "metadata": {},
   "outputs": [
    {
     "data": {
      "text/plain": [
       "-1.6653345369377348e-15"
      ]
     },
     "execution_count": 67,
     "metadata": {},
     "output_type": "execute_result"
    }
   ],
   "source": [
    "np.sum(np.log(np.sum(gmm.resp, axis=1)))"
   ]
  },
  {
   "cell_type": "code",
   "execution_count": 68,
   "metadata": {},
   "outputs": [
    {
     "data": {
      "text/plain": [
       "array([0.31087088, 0.49885058, 0.19027855])"
      ]
     },
     "execution_count": 68,
     "metadata": {},
     "output_type": "execute_result"
    }
   ],
   "source": [
    "np.sum(gmm.resp, axis=0) /data.shape[0]"
   ]
  },
  {
   "cell_type": "code",
   "execution_count": 69,
   "metadata": {},
   "outputs": [
    {
     "data": {
      "text/plain": [
       "100"
      ]
     },
     "execution_count": 69,
     "metadata": {},
     "output_type": "execute_result"
    }
   ],
   "source": [
    "data.shape[0]"
   ]
  },
  {
   "cell_type": "code",
   "execution_count": 70,
   "metadata": {},
   "outputs": [
    {
     "data": {
      "text/plain": [
       "array([[2.0338364 , 2.63143413],\n",
       "       [1.59841316, 0.59531149],\n",
       "       [1.5401651 , 3.43923511]])"
      ]
     },
     "execution_count": 70,
     "metadata": {},
     "output_type": "execute_result"
    }
   ],
   "source": [
    "gmm.means"
   ]
  },
  {
   "cell_type": "code",
   "execution_count": null,
   "metadata": {},
   "outputs": [],
   "source": []
  }
 ],
 "metadata": {
  "kernelspec": {
   "display_name": "Python 3",
   "language": "python",
   "name": "python3"
  },
  "language_info": {
   "codemirror_mode": {
    "name": "ipython",
    "version": 3
   },
   "file_extension": ".py",
   "mimetype": "text/x-python",
   "name": "python",
   "nbconvert_exporter": "python",
   "pygments_lexer": "ipython3",
   "version": "3.7.4"
  }
 },
 "nbformat": 4,
 "nbformat_minor": 2
}
