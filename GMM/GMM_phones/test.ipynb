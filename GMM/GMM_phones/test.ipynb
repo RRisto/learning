{
 "cells": [
  {
   "cell_type": "code",
   "execution_count": 1,
   "metadata": {},
   "outputs": [],
   "source": [
    "import pandas as pd\n",
    "import numpy as np\n",
    "from sklearn.mixture import GaussianMixture\n",
    "import pickle\n",
    "import os\n",
    "import glob"
   ]
  },
  {
   "cell_type": "code",
   "execution_count": 2,
   "metadata": {},
   "outputs": [
    {
     "name": "stdout",
     "output_type": "stream",
     "text": [
      "        0_x          1          2          3         4          5          6  \\\n",
      "0  7.347483 -31.977038   0.555148  -2.712652  4.714649  -1.503090   5.682993   \n",
      "1  7.120237 -25.447563   2.613370  -8.789230 -8.813480 -16.433003 -10.110884   \n",
      "2  7.270163 -25.650864   3.908348 -11.277479 -7.791231 -17.048360 -12.722343   \n",
      "3  7.656876 -15.387372  -6.042067 -26.001142 -4.685439   2.421713  10.513782   \n",
      "4  7.596893 -19.993179 -12.438937 -30.808372 -9.961764   1.546564  11.479846   \n",
      "\n",
      "          7          8          9         10         11        12 Label  \n",
      "0  7.735081   5.687700  -1.909077  -7.926409  -3.457316 -9.001497   sil  \n",
      "1  3.511426   7.033892  10.669727  14.093879  12.479116  8.000335   sil  \n",
      "2 -5.906701   6.482596   9.179485  15.817018   7.228364  9.730352   sil  \n",
      "3 -1.394585 -12.179339 -11.878265  14.139992  13.451713  5.799781   sil  \n",
      "4  7.013714  -8.286893  -5.867128  18.251741  21.779664  7.973898   sil  \n"
     ]
    }
   ],
   "source": [
    "df = pd.read_hdf(\"features/mfcc_test/timit.hdf\")\n",
    "features = np.array(df[\"features\"].tolist())\n",
    "label = np.array(df[\"labels\"].tolist())\n",
    "df1 = pd.DataFrame(features)\n",
    "df2 = pd.DataFrame(label)\n",
    "df = pd.merge(df1, df2, right_index=True, left_index=True)\n",
    "df.rename(columns={'0_y': 'Label'}, inplace=True)\n",
    "print(df.head())"
   ]
  },
  {
   "cell_type": "code",
   "execution_count": 3,
   "metadata": {},
   "outputs": [
    {
     "name": "stdout",
     "output_type": "stream",
     "text": [
      "PER for 2 M_GMM 0.8871422552101903\n",
      "PER for 4 M_GMM 0.88587819660973\n",
      "PER for 8 M_GMM 0.8778400803811622\n",
      "PER for 16 M_GMM 0.8833824911677957\n",
      "PER for 32 M_GMM 0.8752795514212557\n",
      "PER for 64 M_GMM 0.884452079214339\n",
      "PER for 128 M_GMM 0.8807895504489028\n"
     ]
    }
   ],
   "source": [
    "perCt =0\n",
    "totalCt =0\n",
    "\n",
    "def calPER(x,lbl):\n",
    "    global perCt\n",
    "    global totalCt\n",
    "    totalCt += 1\n",
    "    if x[lbl] != x['Label']:\n",
    "        #print(x[lbl],x['Label'])\n",
    "        if(len(x[lbl]) == 0 and len(x['Label'])!= 0 ) or (len(x[lbl]) != 0 and len(x['Label'])== 0 ) or (len(x[lbl]) != 0 and len(x['Label'])!= 0 ):\n",
    "            perCt += 1\n",
    "\n",
    "        \n",
    "test_df = df.iloc[:,:-1]\n",
    "for i in range(1,8):\n",
    "    filename = ''.join(['models/',str(2**i),'M_GMM\\\\','*.pkl'])\n",
    "    eval_df = pd.DataFrame()\n",
    "    for file in glob.glob(filename):\n",
    "        #print(file)\n",
    "        with open(file, \"rb\") as f:\n",
    "            gmm = pickle.load(f)\n",
    "            score = gmm.score_samples(test_df)\n",
    "            label = os.path.basename(file).split('_')[0]\n",
    "            eval_df[label] = score\n",
    "    eval_label = ''.join(['eval_score_',str(2**i),'M_GMM'])\n",
    "    df[eval_label] = eval_df.idxmax(axis=1)\n",
    "    df.apply(calPER,axis=1,args=(eval_label,))\n",
    "    print('PER for',str(2**i),'M_GMM',perCt/totalCt)\n",
    "    perCt =0\n",
    "    totalCt =0\n"
   ]
  },
  {
   "cell_type": "code",
   "execution_count": null,
   "metadata": {},
   "outputs": [],
   "source": []
  }
 ],
 "metadata": {
  "kernelspec": {
   "display_name": "Python 3",
   "language": "python",
   "name": "python3"
  },
  "language_info": {
   "codemirror_mode": {
    "name": "ipython",
    "version": 3
   },
   "file_extension": ".py",
   "mimetype": "text/x-python",
   "name": "python",
   "nbconvert_exporter": "python",
   "pygments_lexer": "ipython3",
   "version": "3.7.4"
  }
 },
 "nbformat": 4,
 "nbformat_minor": 2
}
