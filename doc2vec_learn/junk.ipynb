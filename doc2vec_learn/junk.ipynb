{
 "cells": [
  {
   "cell_type": "code",
   "execution_count": 132,
   "metadata": {
    "collapsed": true
   },
   "outputs": [],
   "source": [
    "import numpy as np\n",
    "import matplotlib.pyplot as plt\n",
    "import seaborn as sns\n",
    "import pandas as pd\n",
    "% matplotlib inline"
   ]
  },
  {
   "cell_type": "code",
   "execution_count": 15,
   "metadata": {
    "collapsed": true
   },
   "outputs": [],
   "source": [
    "X = np.array([[0,0,1],\n",
    "        [0,1,1],\n",
    "        [1,0,1],\n",
    "        [1,1,1]])\n",
    "                \n",
    "y = np.array([[0],\n",
    "\t\t\t[1],\n",
    "\t\t\t[1],\n",
    "\t\t\t[0]])"
   ]
  },
  {
   "cell_type": "markdown",
   "metadata": {},
   "source": [
    "## Word2vec"
   ]
  },
  {
   "cell_type": "code",
   "execution_count": 88,
   "metadata": {
    "collapsed": true
   },
   "outputs": [],
   "source": [
    "sentences = ['the king loves the queen', 'the queen loves the king',\n",
    "             'the dwarf hates the king', 'the queen hates the dwarf',\n",
    "             'the dwarf poisons the king', 'the dwarf poisons the queen']"
   ]
  },
  {
   "cell_type": "markdown",
   "metadata": {},
   "source": [
    "build vocabulary"
   ]
  },
  {
   "cell_type": "code",
   "execution_count": 135,
   "metadata": {
    "collapsed": true
   },
   "outputs": [],
   "source": [
    "from collections import defaultdict\n",
    "\n",
    "def Vocabulary():\n",
    "    dictionary = defaultdict()\n",
    "    dictionary.default_factory = lambda: len(dictionary)\n",
    "    return dictionary\n",
    "\n",
    "def docs2bow(docs, dictionary):\n",
    "    \"\"\"Transforms a list of strings into a list of lists where \n",
    "    each unique item is converted into a unique integer.\"\"\"\n",
    "    for doc in docs:\n",
    "        yield [dictionary[word] for word in doc.split()]"
   ]
  },
  {
   "cell_type": "code",
   "execution_count": 136,
   "metadata": {},
   "outputs": [
    {
     "data": {
      "text/plain": [
       "[[0, 1, 2, 0, 3],\n",
       " [0, 3, 2, 0, 1],\n",
       " [0, 4, 5, 0, 1],\n",
       " [0, 3, 5, 0, 4],\n",
       " [0, 4, 6, 0, 1],\n",
       " [0, 4, 6, 0, 3]]"
      ]
     },
     "execution_count": 136,
     "metadata": {},
     "output_type": "execute_result"
    }
   ],
   "source": [
    "vocabulary = Vocabulary()\n",
    "sentences_bow = list(docs2bow(sentences, vocabulary))\n",
    "sentences_bow"
   ]
  },
  {
   "cell_type": "markdown",
   "metadata": {},
   "source": [
    "initialize matrices"
   ]
  },
  {
   "cell_type": "code",
   "execution_count": 149,
   "metadata": {
    "collapsed": true
   },
   "outputs": [],
   "source": [
    "np.random.seed(1)\n",
    "\n",
    "V, N = len(vocabulary), 3\n",
    "WI = (np.random.random((V, N)) - 0.5) / N\n",
    "WO = (np.random.random((N, V)) - 0.5) / V"
   ]
  },
  {
   "cell_type": "code",
   "execution_count": 150,
   "metadata": {},
   "outputs": [],
   "source": [
    "dict_items=vocabulary.items()\n",
    "list(dict_items)\n",
    "\n",
    "y_labels=l = [None] * len(list(dict_items))\n",
    "for pair in list(dict_items):\n",
    "    y_labels[pair[1]]=pair[0]\n",
    "    "
   ]
  },
  {
   "cell_type": "code",
   "execution_count": 151,
   "metadata": {},
   "outputs": [
    {
     "data": {
      "text/plain": [
       "['the', 'king', 'loves', 'queen', 'dwarf', 'hates', 'poisons']"
      ]
     },
     "execution_count": 151,
     "metadata": {},
     "output_type": "execute_result"
    }
   ],
   "source": [
    "y_labels"
   ]
  },
  {
   "cell_type": "code",
   "execution_count": 152,
   "metadata": {},
   "outputs": [],
   "source": [
    "def make_matrix_heatmap(mat, y_labels):\n",
    "    df=pd.DataFrame(mat)\n",
    "    df.index=y_labels\n",
    "    sns.heatmap(df, cmap='viridis')"
   ]
  },
  {
   "cell_type": "code",
   "execution_count": 153,
   "metadata": {},
   "outputs": [
    {
     "data": {
      "image/png": "[encoded data removed]",
      "text/plain": [
       "<matplotlib.figure.Figure at 0x7fe4c351a048>"
      ]
     },
     "metadata": {},
     "output_type": "display_data"
    }
   ],
   "source": [
    "make_matrix_heatmap(WO.T, y_labels)"
   ]
  },
  {
   "cell_type": "code",
   "execution_count": 154,
   "metadata": {},
   "outputs": [
    {
     "data": {
      "image/png": "[encoded data removed]",
      "text/plain": [
       "<matplotlib.figure.Figure at 0x7fe4c392b240>"
      ]
     },
     "metadata": {},
     "output_type": "display_data"
    }
   ],
   "source": [
    "make_matrix_heatmap(WI, y_labels)"
   ]
  },
  {
   "cell_type": "markdown",
   "metadata": {},
   "source": [
    "update output to hidden layer"
   ]
  },
  {
   "cell_type": "code",
   "execution_count": 171,
   "metadata": {},
   "outputs": [
    {
     "name": "stdout",
     "output_type": "stream",
     "text": [
      "[[ 0.01681513  0.27229081 -0.02219626  0.00354072  0.0072941  -0.10869469\n",
      "  -0.11566939]\n",
      " [-0.11205036  0.44168884 -0.12187341 -0.07628057  0.00159279 -0.05947999\n",
      "  -0.0371959 ]\n",
      " [-0.11271771  0.54185929 -0.03772813 -0.15549759 -0.04869057 -0.01520432\n",
      "  -0.05040959]]\n"
     ]
    }
   ],
   "source": [
    "target_word = 'king'\n",
    "input_word = 'queen'\n",
    "learning_rate = 1.0\n",
    "\n",
    "for word in vocabulary:\n",
    "    p_word_queen = (np.exp(np.dot(WO.T[vocabulary[word]], WI[vocabulary[input_word]])) / \n",
    "                    sum(np.exp(np.dot(WO.T[vocabulary[w]], WI[vocabulary[input_word]]))\n",
    "                        for w in vocabulary))\n",
    "    t = 1 if word == target_word else 0\n",
    "    error = t - p_word_queen\n",
    "    WO.T[vocabulary[word]] = (WO.T[vocabulary[word]] - learning_rate * \n",
    "                              error * WI[vocabulary[input_word]])\n",
    "print(WO)"
   ]
  },
  {
   "cell_type": "code",
   "execution_count": 172,
   "metadata": {},
   "outputs": [
    {
     "data": {
      "image/png": "[encoded data removed]",
      "text/plain": [
       "<matplotlib.figure.Figure at 0x7fe4c3933630>"
      ]
     },
     "metadata": {},
     "output_type": "display_data"
    }
   ],
   "source": [
    "make_matrix_heatmap(WO.T, y_labels)"
   ]
  },
  {
   "cell_type": "markdown",
   "metadata": {},
   "source": [
    "update hidden to input layer"
   ]
  },
  {
   "cell_type": "code",
   "execution_count": 173,
   "metadata": {},
   "outputs": [
    {
     "name": "stdout",
     "output_type": "stream",
     "text": [
      "loves 0.148913306463\n",
      "the 0.152247044072\n",
      "hates 0.148475000688\n",
      "queen 0.154476857857\n",
      "king 0.0999361437469\n",
      "dwarf 0.145623770776\n",
      "poisons 0.150327876396\n"
     ]
    }
   ],
   "source": [
    "WI[vocabulary[input_word]] = WI[vocabulary[input_word]] - learning_rate * WO.sum(1)\n",
    "for word in vocabulary:\n",
    "    p = (np.exp(np.dot(WO.T[vocabulary[word]], WI[vocabulary[input_word]])) / \n",
    "         sum(np.exp(np.dot(WO.T[vocabulary[w]], WI[vocabulary[input_word]])) \n",
    "             for w in vocabulary))\n",
    "    print(word, p)"
   ]
  },
  {
   "cell_type": "code",
   "execution_count": 174,
   "metadata": {},
   "outputs": [
    {
     "data": {
      "image/png": "[encoded data removed]",
      "text/plain": [
       "<matplotlib.figure.Figure at 0x7fe4c34f66a0>"
      ]
     },
     "metadata": {},
     "output_type": "display_data"
    }
   ],
   "source": [
    "make_matrix_heatmap(WI, y_labels)"
   ]
  },
  {
   "cell_type": "markdown",
   "metadata": {},
   "source": [
    "## multi word input"
   ]
  },
  {
   "cell_type": "code",
   "execution_count": 29,
   "metadata": {
    "collapsed": true
   },
   "outputs": [],
   "source": [
    "target_word = 'king'\n",
    "context = ['queen', 'loves']"
   ]
  },
  {
   "cell_type": "code",
   "execution_count": 30,
   "metadata": {
    "collapsed": true
   },
   "outputs": [],
   "source": [
    "h = (WI[vocabulary['queen']] + WI[vocabulary['loves']]) / 2"
   ]
  },
  {
   "cell_type": "code",
   "execution_count": 31,
   "metadata": {},
   "outputs": [
    {
     "name": "stdout",
     "output_type": "stream",
     "text": [
      "[[ 0.05335756 -0.10242492  0.04100276  0.07545827  0.04128714 -0.02606417\n",
      "   0.04728608]\n",
      " [-0.04829415 -0.05757077  0.0671795  -0.02118427 -0.02224489 -0.04416342\n",
      "  -0.06077297]\n",
      " [ 0.0234273  -0.02816536 -0.03523226 -0.00341791 -0.06627067  0.00878361\n",
      "  -0.05310198]]\n"
     ]
    }
   ],
   "source": [
    "for word in vocabulary:\n",
    "    p_word_context = (np.exp(np.dot(WO.T[vocabulary[word]], h)) / \n",
    "                            sum(np.exp(np.dot(WO.T[vocabulary[w]], h)) for w in vocabulary))\n",
    "    t = 1 if word == target_word else 0\n",
    "    error = t - p_word_context\n",
    "    WO.T[vocabulary[word]] = WO.T[vocabulary[word]] - learning_rate * error * h\n",
    "print(WO)"
   ]
  },
  {
   "cell_type": "code",
   "execution_count": 32,
   "metadata": {
    "collapsed": true
   },
   "outputs": [],
   "source": [
    "for input_word in context:\n",
    "    WI[vocabulary[input_word]] = (WI[vocabulary[input_word]] - (1. / len(context)) * \n",
    "                                  learning_rate * WO.sum(1))"
   ]
  },
  {
   "cell_type": "code",
   "execution_count": 33,
   "metadata": {},
   "outputs": [
    {
     "name": "stdout",
     "output_type": "stream",
     "text": [
      "loves 0.145206738677\n",
      "the 0.142707530381\n",
      "hates 0.144220430718\n",
      "queen 0.142314216103\n",
      "king 0.144358085755\n",
      "dwarf 0.141122385799\n",
      "poisons 0.140070612567\n"
     ]
    }
   ],
   "source": [
    "h = (WI[vocabulary['queen']] + WI[vocabulary['loves']]) / 2\n",
    "for word in vocabulary:\n",
    "    p = (np.exp(np.dot(WO.T[vocabulary[word]], h)) / \n",
    "               sum(np.exp(np.dot(WO.T[vocabulary[w]], h)) for w in vocabulary))\n",
    "    print(word, p)"
   ]
  },
  {
   "cell_type": "code",
   "execution_count": null,
   "metadata": {
    "collapsed": true
   },
   "outputs": [],
   "source": []
  }
 ],
 "metadata": {
  "kernelspec": {
   "display_name": "Python 3",
   "language": "python",
   "name": "python3"
  },
  "language_info": {
   "codemirror_mode": {
    "name": "ipython",
    "version": 3
   },
   "file_extension": ".py",
   "mimetype": "text/x-python",
   "name": "python",
   "nbconvert_exporter": "python",
   "pygments_lexer": "ipython3",
   "version": "3.5.4"
  }
 },
 "nbformat": 4,
 "nbformat_minor": 2
}
