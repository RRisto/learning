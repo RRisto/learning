{
 "cells": [
  {
   "cell_type": "code",
   "execution_count": 5,
   "id": "65aa4b04",
   "metadata": {},
   "outputs": [],
   "source": [
    "# source: https://dp.tdhopper.com/"
   ]
  },
  {
   "cell_type": "code",
   "execution_count": 6,
   "id": "92b5dafe",
   "metadata": {},
   "outputs": [],
   "source": [
    "import numpy as np\n",
    "from scipy.stats import dirichlet\n",
    "np.set_printoptions(precision=2)"
   ]
  },
  {
   "cell_type": "code",
   "execution_count": 7,
   "id": "b229d0e7",
   "metadata": {},
   "outputs": [
    {
     "name": "stdout",
     "output_type": "stream",
     "text": [
      "                          alpha: 0.1\n",
      "              element-wise mean: [0.2 0.2 0.6]\n",
      "element-wise standard deviation: [0.38 0.38 0.47]\n",
      "\n",
      "                          alpha: 1\n",
      "              element-wise mean: [0.2 0.2 0.6]\n",
      "element-wise standard deviation: [0.28 0.28 0.35]\n",
      "\n",
      "                          alpha: 10\n",
      "              element-wise mean: [0.2 0.2 0.6]\n",
      "element-wise standard deviation: [0.12 0.12 0.15]\n",
      "\n",
      "                          alpha: 100\n",
      "              element-wise mean: [0.2 0.2 0.6]\n",
      "element-wise standard deviation: [0.04 0.04 0.05]\n",
      "\n",
      "                          alpha: 1000\n",
      "              element-wise mean: [0.2 0.2 0.6]\n",
      "element-wise standard deviation: [0.01 0.01 0.02]\n",
      "\n"
     ]
    }
   ],
   "source": [
    "def stats(scale_factor, G0=[.2, .2, .6], N=10000):\n",
    "    samples = dirichlet(alpha = scale_factor * np.array(G0)).rvs(N)\n",
    "    print(\"                          alpha:\", scale_factor)\n",
    "    print(\"              element-wise mean:\", samples.mean(axis=0))\n",
    "    print(\"element-wise standard deviation:\", samples.std(axis=0))\n",
    "    print()\n",
    "    \n",
    "for scale in [0.1, 1, 10, 100, 1000]:\n",
    "    stats(scale)"
   ]
  },
  {
   "cell_type": "code",
   "execution_count": 11,
   "id": "31188d1b",
   "metadata": {},
   "outputs": [],
   "source": [
    "scale_factor=1\n",
    "G0=[.2, .2, .6]\n",
    "N=10000\n",
    "samples = dirichlet(alpha = scale_factor * np.array(G0)).rvs(N)"
   ]
  },
  {
   "cell_type": "code",
   "execution_count": 13,
   "id": "c48eea40",
   "metadata": {},
   "outputs": [
    {
     "data": {
      "text/plain": [
       "(10000, 3)"
      ]
     },
     "execution_count": 13,
     "metadata": {},
     "output_type": "execute_result"
    }
   ],
   "source": [
    "samples.shape"
   ]
  },
  {
   "cell_type": "code",
   "execution_count": 14,
   "id": "b35a8c08",
   "metadata": {},
   "outputs": [],
   "source": [
    "??dirichlet"
   ]
  },
  {
   "cell_type": "code",
   "execution_count": null,
   "id": "fea3e38c",
   "metadata": {},
   "outputs": [],
   "source": []
  }
 ],
 "metadata": {
  "kernelspec": {
   "display_name": "Python 3",
   "language": "python",
   "name": "python3"
  },
  "language_info": {
   "codemirror_mode": {
    "name": "ipython",
    "version": 3
   },
   "file_extension": ".py",
   "mimetype": "text/x-python",
   "name": "python",
   "nbconvert_exporter": "python",
   "pygments_lexer": "ipython3",
   "version": "3.7.4"
  }
 },
 "nbformat": 4,
 "nbformat_minor": 5
}
