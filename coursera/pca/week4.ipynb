{
 "cells": [
  {
   "cell_type": "markdown",
   "metadata": {},
   "source": [
    "# Principal Component Analysis (PCA)\n",
    "We will implement the PCA algorithm. We will first implement PCA, then apply it (once again) to the MNIST digit dataset."
   ]
  },
  {
   "cell_type": "markdown",
   "metadata": {},
   "source": [
    "## Learning objective\n",
    "1. Write code that implements PCA.\n",
    "2. Write code that implements PCA for high-dimensional datasets"
   ]
  },
  {
   "cell_type": "markdown",
   "metadata": {},
   "source": [
    "Let's first import the packages we need for this week."
   ]
  },
  {
   "cell_type": "code",
   "execution_count": 1,
   "metadata": {},
   "outputs": [],
   "source": [
    "# PACKAGE: DO NOT EDIT\n",
    "import numpy as np\n",
    "import scipy\n",
    "import scipy.stats"
   ]
  },
  {
   "cell_type": "code",
   "execution_count": 2,
   "metadata": {},
   "outputs": [],
   "source": [
    "import matplotlib.pyplot as plt\n",
    "from ipywidgets import interact\n",
    "\n",
    "plt.style.use('fivethirtyeight')\n",
    "%matplotlib inline"
   ]
  },
  {
   "cell_type": "code",
   "execution_count": 3,
   "metadata": {},
   "outputs": [],
   "source": [
    "from load_data import load_mnist\n",
    "\n",
    "MNIST = load_mnist('./')\n",
    "images, labels = MNIST['data'], MNIST['target']"
   ]
  },
  {
   "cell_type": "markdown",
   "metadata": {},
   "source": [
    "Now, let's plot a digit from the dataset:"
   ]
  },
  {
   "cell_type": "code",
   "execution_count": 4,
   "metadata": {},
   "outputs": [
    {
     "data": {
      "image/png": "[encoded data removed]",
      "text/plain": [
       "<Figure size 288x288 with 1 Axes>"
      ]
     },
     "metadata": {
      "needs_background": "light"
     },
     "output_type": "display_data"
    }
   ],
   "source": [
    "plt.figure(figsize=(4,4))\n",
    "plt.imshow(images[0].reshape(28,28), cmap='gray');\n",
    "plt.grid(False)"
   ]
  },
  {
   "cell_type": "markdown",
   "metadata": {},
   "source": [
    "## PCA\n",
    "\n",
    "Now we will implement PCA. Before we do that, let's pause for a moment and\n",
    "think about the steps for performing PCA. Assume that we are performing PCA on\n",
    "some dataset $\\boldsymbol X$ for $M$ principal components. \n",
    "We then need to perform the following steps, which we break into parts:\n",
    "\n",
    "1. Data normalization (`normalize`).\n",
    "2. Find eigenvalues and corresponding eigenvectors for the covariance matrix $S$.\n",
    "   Sort by the largest eigenvalues and the corresponding eigenvectors (`eig`).\n",
    "3. Compute the orthogonal projection matrix and use that to project the data onto the subspace spanned by the eigenvectors."
   ]
  },
  {
   "cell_type": "markdown",
   "metadata": {},
   "source": [
    "### Data normalization `normalize`\n",
    "\n",
    "We will first implement the data normalization mentioned above.\n",
    "\n",
    "Before we implement the main steps of PCA, we will need to do some data preprocessing.\n",
    "\n",
    "To preprocess the dataset for PCA, we will make sure that the dataset has zero mean. Given a dataset $\\mathbf{X}$, we will subtract the mean vector from each row of the dataset to obtain a zero-mean dataset $\\overline{\\mathbf{X}}$. In the first part of this notebook, you will implement `normalize` to do that.\n",
    "\n",
    "To work with images, it's also a common practice to convert the pixels from unsigned interger 8 (uint8) encoding to a floating point number representation between 0-1. We will do this conversion for you for the MNIST dataset so that you don't have to worry about it.\n",
    "\n",
    "Data normalization is a common practice. More details can be found in\n",
    "[Data Normalization or Feature Scaling](https://en.wikipedia.org/wiki/Feature_scaling)."
   ]
  },
  {
   "cell_type": "code",
   "execution_count": 5,
   "metadata": {
    "nbgrader": {
     "grade": false,
     "grade_id": "cell-10a35b1c4186ecb4",
     "locked": false,
     "schema_version": 3,
     "solution": true,
     "task": false
    }
   },
   "outputs": [],
   "source": [
    "# GRADED FUNCTION: DO NOT EDIT THIS LINE\n",
    "def normalize(X):\n",
    "    \"\"\"Normalize the given dataset X to have zero mean.\n",
    "    Args:\n",
    "        X: ndarray, dataset of shape (N,D)\n",
    "    \n",
    "    Returns:\n",
    "        (Xbar, mean): tuple of ndarray, Xbar is the normalized dataset\n",
    "        with mean 0; mean is the sample mean of the dataset.\n",
    "    \"\"\"\n",
    "    # YOUR CODE HERE\n",
    "    ### Uncomment and modify the code below\n",
    "    N, D = X.shape\n",
    "    mu = np.mean(X, axis=0) # <-- EDIT THIS, compute the mean of X\n",
    "    Xbar = X-mu            # <-- EDIT THIS, compute the normalized data Xbar\n",
    "    return Xbar, mu"
   ]
  },
  {
   "cell_type": "code",
   "execution_count": 6,
   "metadata": {
    "nbgrader": {
     "grade": true,
     "grade_id": "cell-8ed3ab2f7f38aab4",
     "locked": true,
     "points": 1,
     "schema_version": 3,
     "solution": false,
     "task": false
    }
   },
   "outputs": [],
   "source": [
    "\"\"\"Test data normalization\"\"\"\n",
    "from numpy.testing import assert_allclose\n",
    "\n",
    "\n",
    "X0 = np.array([[0, 0.0], \n",
    "               [1.0, 1.0], \n",
    "               [2.0, 2.0]])\n",
    "X0_normalize, X0_mean = normalize(X0)\n",
    "# Test that normalized data has zero mean\n",
    "assert_allclose(np.mean(X0_normalize, 0), np.zeros((2,)))\n",
    "assert_allclose(X0_mean, np.array([1.0, 1.0]))\n",
    "assert_allclose(normalize(X0_normalize)[0], X0_normalize)\n",
    "\n",
    "\n",
    "X0 = np.array([[0, 0.0], \n",
    "               [1.0, 0.0], \n",
    "               [2.0, 0.0]])\n",
    "X0_normalize, X0_mean = normalize(X0)\n",
    "# Test that normalized data has zero mean and unit variance\n",
    "assert_allclose(np.mean(X0_normalize, 0), np.zeros((2,)))\n",
    "assert_allclose(X0_mean, np.array([1.0, 0.0]))\n",
    "assert_allclose(normalize(X0_normalize)[0], X0_normalize)\n",
    "\n",
    "# Some hidden tests below\n",
    "# ..."
   ]
  },
  {
   "cell_type": "markdown",
   "metadata": {},
   "source": [
    "### Compute eigenvalues and eigenvectors `eig`"
   ]
  },
  {
   "cell_type": "code",
   "execution_count": 7,
   "metadata": {
    "nbgrader": {
     "grade": false,
     "grade_id": "cell-6d74b9253f3a0461",
     "locked": false,
     "schema_version": 3,
     "solution": true,
     "task": false
    }
   },
   "outputs": [],
   "source": [
    "# GRADED FUNCTION: DO NOT EDIT THIS LINE\n",
    "def eig(S):\n",
    "    \"\"\"Compute the eigenvalues and corresponding eigenvectors\n",
    "        for the covariance matrix S.\n",
    "    Args:\n",
    "        S: ndarray, covariance matrix\n",
    "\n",
    "    Returns:\n",
    "        (eigvals, eigvecs): ndarray, the eigenvalues and eigenvectors\n",
    "\n",
    "    Note:\n",
    "        the eigenvals and eigenvecs should be sorted in descending\n",
    "        order of the eigen values\n",
    "    \"\"\"\n",
    "    # YOUR CODE HERE\n",
    "    # Uncomment and modify the code below\n",
    "    #     # Compute the eigenvalues and eigenvectors\n",
    "    #     # You can use library routines in `np.linalg.*` \n",
    "    #     # https://numpy.org/doc/stable/reference/routines.linalg.html\n",
    "    #     # for this\n",
    "    eigvals, eigvecs = np.linalg.eig(S)\n",
    "    #     # The eigenvalues and eigenvectors need to be\n",
    "    #     # sorted in descending order according to the eigenvalues\n",
    "    #     # We will use `np.argsort` (https://docs.scipy.org/doc/numpy/reference/generated/numpy.argsort.html)\n",
    "    #     # to find a permutation of the indices\n",
    "    #     # of eigvals that will sort eigvals in ascending order and\n",
    "    #     # then find the descending order via [::-1], which reverse\n",
    "    #     # the indices\n",
    "    sort_indices = np.argsort(eigvals)[::-1]\n",
    "    #     # Notice that we are sorting the columns (not rows) of\n",
    "    #     # eigvecs since the columns represent the eigenvectors.\n",
    "    return eigvals[sort_indices], eigvecs[:, sort_indices]"
   ]
  },
  {
   "cell_type": "markdown",
   "metadata": {},
   "source": [
    "Some test cases for implementing `eig`."
   ]
  },
  {
   "cell_type": "code",
   "execution_count": 8,
   "metadata": {
    "nbgrader": {
     "grade": true,
     "grade_id": "cell-a8db750754a119a2",
     "locked": true,
     "points": 1,
     "schema_version": 3,
     "solution": false,
     "task": false
    }
   },
   "outputs": [],
   "source": [
    "def _flip_eigenvectors(B):\n",
    "    \"\"\"Flip the eigenvectors.    \n",
    "    \"\"\"\n",
    "    signs = np.sign(B[np.argmax(np.abs(B), axis=0), range(B.shape[1])])\n",
    "    return B * signs\n",
    "\n",
    "def _normalize_eigenvectors(B):\n",
    "    # Normalize eigenvectors to have unit length\n",
    "    # Also flip the direction of the eigenvector based on\n",
    "    # the first element\n",
    "    B_normalized = B / np.linalg.norm(B, axis=0)\n",
    "    for i in range(B.shape[1]):\n",
    "        if (B_normalized[0, i] < 0):\n",
    "            B_normalized[:, i] = -B_normalized[:, i]\n",
    "    return B_normalized\n",
    "\n",
    "\n",
    "A = np.array([[3, 2], [2, 3]])\n",
    "expected_eigenvalues = np.array([5., 1.])\n",
    "expected_eigenvectors = np.array(\n",
    "    [[ 0.70710678, -0.70710678],\n",
    "     [ 0.70710678,  0.70710678]]\n",
    ")\n",
    "actual_eigenvalues, actual_eigenvectors = eig(A)\n",
    "# Check that the eigenvalues match\n",
    "assert_allclose(actual_eigenvalues, expected_eigenvalues)\n",
    "# Check that the eigenvectors match\n",
    "assert_allclose(\n",
    "    _normalize_eigenvectors(actual_eigenvectors),\n",
    "    _normalize_eigenvectors(expected_eigenvectors),\n",
    ")\n"
   ]
  },
  {
   "cell_type": "markdown",
   "metadata": {},
   "source": [
    "### Compute projection matrix\n",
    "\n",
    "Next given a orthonormal basis spanned by the eigenvectors,\n",
    "we will compute the projection matrix. This should be the same\n",
    "as what you have done last week."
   ]
  },
  {
   "cell_type": "code",
   "execution_count": 9,
   "metadata": {
    "nbgrader": {
     "grade": false,
     "grade_id": "cell-3498a1f49501ed3d",
     "locked": false,
     "schema_version": 3,
     "solution": true,
     "task": false
    }
   },
   "outputs": [],
   "source": [
    "# GRADED FUNCTION: DO NOT EDIT THIS LINE\n",
    "def projection_matrix(B):\n",
    "    \"\"\"Compute the projection matrix onto the space spanned by `B`\n",
    "    Args:\n",
    "        B: ndarray of dimension (D, M), the basis for the subspace\n",
    "    \n",
    "    Returns:\n",
    "        P: the projection matrix\n",
    "    \"\"\"\n",
    "    # YOUR CODE HERE\n",
    "    # Uncomment and modify the code below\n",
    "    return B@np.linalg.inv(B.T@B)@B.T # <-- EDIT THIS to compute the projection matrix"
   ]
  },
  {
   "cell_type": "code",
   "execution_count": 10,
   "metadata": {
    "nbgrader": {
     "grade": true,
     "grade_id": "cell-65a86398cff0c3ac",
     "locked": true,
     "points": 1,
     "schema_version": 3,
     "solution": false,
     "task": false
    }
   },
   "outputs": [],
   "source": [
    "B = np.array([[1, 0],\n",
    "              [1, 1],\n",
    "              [1, 2]])\n",
    "\n",
    "assert_allclose(\n",
    "    projection_matrix(B), \n",
    "    np.array([[5,  2, -1],\n",
    "              [2,  2,  2],\n",
    "              [-1, 2,  5]]) / 6\n",
    ")\n",
    "\n",
    "# Some hidden tests below"
   ]
  },
  {
   "cell_type": "markdown",
   "metadata": {},
   "source": [
    "### Compute principal component analysis"
   ]
  },
  {
   "cell_type": "code",
   "execution_count": 11,
   "metadata": {
    "nbgrader": {
     "grade": false,
     "grade_id": "cell-98795bac9f7e1f82",
     "locked": false,
     "schema_version": 3,
     "solution": true,
     "task": false
    }
   },
   "outputs": [],
   "source": [
    "# GRADED FUNCTION: DO NOT EDIT THIS LINE\n",
    "def PCA(X, num_components):\n",
    "    \"\"\"\n",
    "    Args:\n",
    "        X: ndarray of size (N, D), where D is the dimension of the data,\n",
    "           and N is the number of datapoints\n",
    "        num_components: the number of principal components to use.\n",
    "    Returns:\n",
    "        the reconstructed data, the sample mean of the X, principal values\n",
    "        and principal components\n",
    "    \"\"\"\n",
    "\n",
    "    # YOUR CODE HERE\n",
    "    # your solution should take advantage of the functions you have implemented above.\n",
    "    ### Uncomment and modify the code below\n",
    "#     # first perform normalization on the digits so that they have zero mean and unit variance\n",
    "    X_normalized, mean = normalize(X) # EDIT THIS\n",
    "#     # Then compute the data covariance matrix S\n",
    "    S = (X_normalized.T@X_normalized)/X.shape[0] # EDIT THIS\n",
    "\n",
    "#     # Next find eigenvalues and corresponding eigenvectors for S\n",
    "    eig_vals, eig_vecs = eig(S)\n",
    "#     # Take the top `num_components` of eig_vals and eig_vecs,\n",
    "#     # This will be the corresponding principal values and components\n",
    "    principal_vals, principal_components = eig_vals[:num_components], eig_vecs[:,:num_components]\n",
    "    #return eig_vals,eig_vecs, X_normalized, mean\n",
    "\n",
    "#     # reconstruct the data from the using the basis spanned by the principal components\n",
    "#     # Notice that we have subtracted the mean from X so make sure that you add it back\n",
    "#     # to the reconstructed data\n",
    "    P = projection_matrix(principal_components)\n",
    "    #reconst = np.zeros_like(X_normalized)\n",
    "    reconst = P @ X_normalized.T\n",
    "    reconst=reconst.T\n",
    "    reconst+=mean\n",
    "    return reconst, mean, principal_vals, principal_components"
   ]
  },
  {
   "cell_type": "code",
   "execution_count": 16,
   "metadata": {},
   "outputs": [],
   "source": [
    "def draw_vector(v0, v1, ax=None, label=None):\n",
    "    \"\"\"Draw a vector from v0 to v1.\"\"\"\n",
    "    ax = ax or plt.gca()\n",
    "    arrowprops=dict(arrowstyle='->',\n",
    "                    linewidth=2,\n",
    "                    shrinkA=0, shrinkB=0, \n",
    "                    color='k')\n",
    "    ax.annotate('', v1, v0, arrowprops=arrowprops, label=label)"
   ]
  },
  {
   "cell_type": "markdown",
   "metadata": {},
   "source": [
    "Some test cases that check the implementation of PCA"
   ]
  },
  {
   "cell_type": "code",
   "execution_count": 17,
   "metadata": {
    "nbgrader": {
     "grade": true,
     "grade_id": "cell-90d1f11031fdf7d8",
     "locked": true,
     "points": 0,
     "schema_version": 3,
     "solution": false,
     "task": false
    }
   },
   "outputs": [],
   "source": [
    "D = 2\n",
    "N = 10\n",
    "# Generate a dataset X from a 2D Gaussian distribution\n",
    "mvn = scipy.stats.multivariate_normal(\n",
    "    mean=np.ones(D, dtype=np.float64), \n",
    "    cov=np.array([[1, 0.8], [0.8, 1]], dtype=np.float64)\n",
    ")\n",
    "\n",
    "X = mvn.rvs((N,), random_state=np.random.RandomState(0))\n",
    "reconst, m, pv, pc = PCA(X, 1)\n",
    "# Check the shape returned by the PCA implementation matches the specification.\n",
    "assert reconst.shape == X.shape\n",
    "assert m.shape == (D, )\n",
    "assert pv.shape == (1, )\n",
    "assert pc.shape == (D, 1)\n",
    "\n",
    "# Check that PCA with num_components == D gives identical reconstruction\n",
    "reconst, m, pv, pc = PCA(X, D)\n",
    "assert reconst.shape == X.shape\n",
    "assert m.shape == (D, )\n",
    "assert pv.shape == (2, )\n",
    "assert pc.shape == (D, 2)\n",
    "assert_allclose(reconst, X)\n",
    "\n"
   ]
  },
  {
   "cell_type": "code",
   "execution_count": null,
   "metadata": {
    "nbgrader": {
     "grade": true,
     "grade_id": "cell-0c7ba302f4b562c7",
     "locked": true,
     "points": 4.5,
     "schema_version": 3,
     "solution": false,
     "task": false
    }
   },
   "outputs": [],
   "source": []
  },
  {
   "cell_type": "markdown",
   "metadata": {},
   "source": [
    "## Visualize PCA\n",
    "We will first visualize what PCA does on a 2D toy dataset. You can use the visualization\n",
    "below to get better intuition about what PCA does and use it to debug your code above."
   ]
  },
  {
   "cell_type": "code",
   "execution_count": 18,
   "metadata": {},
   "outputs": [
    {
     "data": {
      "image/png": "[encoded data removed]",
      "text/plain": [
       "<Figure size 432x432 with 1 Axes>"
      ]
     },
     "metadata": {
      "needs_background": "light"
     },
     "output_type": "display_data"
    }
   ],
   "source": [
    "mvn = scipy.stats.multivariate_normal(\n",
    "    mean=np.ones(2), \n",
    "    cov=np.array([[1, 0.8], [0.8, 1]])\n",
    ")\n",
    "\n",
    "X = mvn.rvs((100,), random_state=np.random.RandomState(0))\n",
    "\n",
    "num_components = 1\n",
    "X_reconst, mean, principal_values, principal_components = PCA(X, num_components)\n",
    "\n",
    "fig, ax = plt.subplots(figsize=(6, 6))\n",
    "# eig_vals, eig_vecs = eig_vals[:num_components], eig_vecs[:, :num_components]\n",
    "ax.scatter(X[:, 0], X[:, 1], label='data')\n",
    "for (princial_variance, principal_component) in (zip(principal_values, principal_components.T)):\n",
    "    draw_vector(\n",
    "        mean, mean + np.sqrt(princial_variance) * principal_component, \n",
    "        ax=ax)\n",
    "ax.scatter(X_reconst[:, 0], X_reconst[:, 1], label='reconstructed')\n",
    "plt.axis('equal');\n",
    "plt.legend();\n",
    "ax.set(xlabel='$\\mathbf{x}_0$', ylabel='$\\mathbf{x}_1$');"
   ]
  },
  {
   "cell_type": "markdown",
   "metadata": {},
   "source": [
    "We can also compare our PCA implementation with the implementation in scikit-learn (a popular machine learning library in Python that includes implementation of PCA)\n",
    "to see\n",
    "if we get identical results."
   ]
  },
  {
   "cell_type": "code",
   "execution_count": 19,
   "metadata": {},
   "outputs": [
    {
     "name": "stdout",
     "output_type": "stream",
     "text": [
      "difference in reconstruction for num_components = 1: 3.037509300739495e-28\n",
      "difference in reconstruction for num_components = 2: 1.1872759142934605e-27\n",
      "difference in reconstruction for num_components = 3: 9.47199309668864e-29\n"
     ]
    }
   ],
   "source": [
    "random = np.random.RandomState(0)\n",
    "X = random.randn(10, 5)\n",
    "\n",
    "from sklearn.decomposition import PCA as SKPCA\n",
    "\n",
    "for num_component in range(1, 4):\n",
    "    # We can compute a standard solution given by scikit-learn's implementation of PCA\n",
    "    pca = SKPCA(n_components=num_component, svd_solver=\"full\")\n",
    "    sklearn_reconst = pca.inverse_transform(pca.fit_transform(X))\n",
    "    reconst, _, _, _ = PCA(X, num_component)\n",
    "    # The difference in the result should be very small (<10^-20)\n",
    "    print(\n",
    "        \"difference in reconstruction for num_components = {}: {}\".format(\n",
    "            num_component, np.square(reconst - sklearn_reconst).sum()\n",
    "        )\n",
    "    )\n",
    "    np.testing.assert_allclose(reconst, sklearn_reconst)"
   ]
  },
  {
   "cell_type": "markdown",
   "metadata": {},
   "source": [
    "## PCA for MNIST digits\n",
    "\n",
    "Once you have implemented PCA correctly, it's time to apply to the MNIST dataset.\n",
    "First, we will do some preprocessing of the data to get it into a good shape."
   ]
  },
  {
   "cell_type": "code",
   "execution_count": 20,
   "metadata": {
    "nbgrader": {
     "grade": false,
     "grade_id": "cell-55fb94072c74b006",
     "locked": true,
     "schema_version": 3,
     "solution": false,
     "task": false
    }
   },
   "outputs": [],
   "source": [
    "## Some preprocessing of the data\n",
    "NUM_DATAPOINTS = 1000\n",
    "X = (images.reshape(-1, 28 * 28)[:NUM_DATAPOINTS]) / 255."
   ]
  },
  {
   "cell_type": "code",
   "execution_count": 21,
   "metadata": {},
   "outputs": [
    {
     "ename": "TypeError",
     "evalue": "Image data of dtype complex128 cannot be converted to float",
     "output_type": "error",
     "traceback": [
      "\u001b[0;31m---------------------------------------------------------------------------\u001b[0m",
      "\u001b[0;31mTypeError\u001b[0m                                 Traceback (most recent call last)",
      "\u001b[0;32m<ipython-input-21-443d0a611d8e>\u001b[0m in \u001b[0;36m<module>\u001b[0;34m\u001b[0m\n\u001b[1;32m      4\u001b[0m \u001b[0mfig\u001b[0m\u001b[0;34m,\u001b[0m \u001b[0max\u001b[0m \u001b[0;34m=\u001b[0m \u001b[0mplt\u001b[0m\u001b[0;34m.\u001b[0m\u001b[0msubplots\u001b[0m\u001b[0;34m(\u001b[0m\u001b[0;36m2\u001b[0m\u001b[0;34m,\u001b[0m \u001b[0;36m1\u001b[0m\u001b[0;34m,\u001b[0m \u001b[0mfigsize\u001b[0m\u001b[0;34m=\u001b[0m\u001b[0;34m(\u001b[0m\u001b[0mnum_images_to_show\u001b[0m \u001b[0;34m*\u001b[0m \u001b[0;36m3\u001b[0m\u001b[0;34m,\u001b[0m \u001b[0;36m3\u001b[0m\u001b[0;34m)\u001b[0m\u001b[0;34m)\u001b[0m\u001b[0;34m\u001b[0m\u001b[0;34m\u001b[0m\u001b[0m\n\u001b[1;32m      5\u001b[0m \u001b[0max\u001b[0m\u001b[0;34m[\u001b[0m\u001b[0;36m0\u001b[0m\u001b[0;34m]\u001b[0m\u001b[0;34m.\u001b[0m\u001b[0mimshow\u001b[0m\u001b[0;34m(\u001b[0m\u001b[0mnp\u001b[0m\u001b[0;34m.\u001b[0m\u001b[0mconcatenate\u001b[0m\u001b[0;34m(\u001b[0m\u001b[0mnp\u001b[0m\u001b[0;34m.\u001b[0m\u001b[0mreshape\u001b[0m\u001b[0;34m(\u001b[0m\u001b[0mX\u001b[0m\u001b[0;34m[\u001b[0m\u001b[0;34m:\u001b[0m\u001b[0mnum_images_to_show\u001b[0m\u001b[0;34m]\u001b[0m\u001b[0;34m,\u001b[0m \u001b[0;34m(\u001b[0m\u001b[0;34m-\u001b[0m\u001b[0;36m1\u001b[0m\u001b[0;34m,\u001b[0m \u001b[0;36m28\u001b[0m\u001b[0;34m,\u001b[0m \u001b[0;36m28\u001b[0m\u001b[0;34m)\u001b[0m\u001b[0;34m)\u001b[0m\u001b[0;34m,\u001b[0m \u001b[0;34m-\u001b[0m\u001b[0;36m1\u001b[0m\u001b[0;34m)\u001b[0m\u001b[0;34m,\u001b[0m \u001b[0mcmap\u001b[0m\u001b[0;34m=\u001b[0m\u001b[0;34m\"gray\"\u001b[0m\u001b[0;34m)\u001b[0m\u001b[0;34m\u001b[0m\u001b[0;34m\u001b[0m\u001b[0m\n\u001b[0;32m----> 6\u001b[0;31m \u001b[0max\u001b[0m\u001b[0;34m[\u001b[0m\u001b[0;36m1\u001b[0m\u001b[0;34m]\u001b[0m\u001b[0;34m.\u001b[0m\u001b[0mimshow\u001b[0m\u001b[0;34m(\u001b[0m\u001b[0mnp\u001b[0m\u001b[0;34m.\u001b[0m\u001b[0mconcatenate\u001b[0m\u001b[0;34m(\u001b[0m\u001b[0mreconst_images\u001b[0m\u001b[0;34m,\u001b[0m \u001b[0;34m-\u001b[0m\u001b[0;36m1\u001b[0m\u001b[0;34m)\u001b[0m\u001b[0;34m,\u001b[0m \u001b[0mcmap\u001b[0m\u001b[0;34m=\u001b[0m\u001b[0;34m\"gray\"\u001b[0m\u001b[0;34m)\u001b[0m\u001b[0;34m;\u001b[0m\u001b[0;34m\u001b[0m\u001b[0;34m\u001b[0m\u001b[0m\n\u001b[0m",
      "\u001b[0;32m/opt/conda/lib/python3.7/site-packages/matplotlib/__init__.py\u001b[0m in \u001b[0;36minner\u001b[0;34m(ax, data, *args, **kwargs)\u001b[0m\n\u001b[1;32m   1563\u001b[0m     \u001b[0;32mdef\u001b[0m \u001b[0minner\u001b[0m\u001b[0;34m(\u001b[0m\u001b[0max\u001b[0m\u001b[0;34m,\u001b[0m \u001b[0;34m*\u001b[0m\u001b[0margs\u001b[0m\u001b[0;34m,\u001b[0m \u001b[0mdata\u001b[0m\u001b[0;34m=\u001b[0m\u001b[0;32mNone\u001b[0m\u001b[0;34m,\u001b[0m \u001b[0;34m**\u001b[0m\u001b[0mkwargs\u001b[0m\u001b[0;34m)\u001b[0m\u001b[0;34m:\u001b[0m\u001b[0;34m\u001b[0m\u001b[0;34m\u001b[0m\u001b[0m\n\u001b[1;32m   1564\u001b[0m         \u001b[0;32mif\u001b[0m \u001b[0mdata\u001b[0m \u001b[0;32mis\u001b[0m \u001b[0;32mNone\u001b[0m\u001b[0;34m:\u001b[0m\u001b[0;34m\u001b[0m\u001b[0;34m\u001b[0m\u001b[0m\n\u001b[0;32m-> 1565\u001b[0;31m             \u001b[0;32mreturn\u001b[0m \u001b[0mfunc\u001b[0m\u001b[0;34m(\u001b[0m\u001b[0max\u001b[0m\u001b[0;34m,\u001b[0m \u001b[0;34m*\u001b[0m\u001b[0mmap\u001b[0m\u001b[0;34m(\u001b[0m\u001b[0msanitize_sequence\u001b[0m\u001b[0;34m,\u001b[0m \u001b[0margs\u001b[0m\u001b[0;34m)\u001b[0m\u001b[0;34m,\u001b[0m \u001b[0;34m**\u001b[0m\u001b[0mkwargs\u001b[0m\u001b[0;34m)\u001b[0m\u001b[0;34m\u001b[0m\u001b[0;34m\u001b[0m\u001b[0m\n\u001b[0m\u001b[1;32m   1566\u001b[0m \u001b[0;34m\u001b[0m\u001b[0m\n\u001b[1;32m   1567\u001b[0m         \u001b[0mbound\u001b[0m \u001b[0;34m=\u001b[0m \u001b[0mnew_sig\u001b[0m\u001b[0;34m.\u001b[0m\u001b[0mbind\u001b[0m\u001b[0;34m(\u001b[0m\u001b[0max\u001b[0m\u001b[0;34m,\u001b[0m \u001b[0;34m*\u001b[0m\u001b[0margs\u001b[0m\u001b[0;34m,\u001b[0m \u001b[0;34m**\u001b[0m\u001b[0mkwargs\u001b[0m\u001b[0;34m)\u001b[0m\u001b[0;34m\u001b[0m\u001b[0;34m\u001b[0m\u001b[0m\n",
      "\u001b[0;32m/opt/conda/lib/python3.7/site-packages/matplotlib/cbook/deprecation.py\u001b[0m in \u001b[0;36mwrapper\u001b[0;34m(*args, **kwargs)\u001b[0m\n\u001b[1;32m    356\u001b[0m                 \u001b[0;34mf\"%(removal)s.  If any parameter follows {name!r}, they \"\u001b[0m\u001b[0;34m\u001b[0m\u001b[0;34m\u001b[0m\u001b[0m\n\u001b[1;32m    357\u001b[0m                 f\"should be pass as keyword, not positionally.\")\n\u001b[0;32m--> 358\u001b[0;31m         \u001b[0;32mreturn\u001b[0m \u001b[0mfunc\u001b[0m\u001b[0;34m(\u001b[0m\u001b[0;34m*\u001b[0m\u001b[0margs\u001b[0m\u001b[0;34m,\u001b[0m \u001b[0;34m**\u001b[0m\u001b[0mkwargs\u001b[0m\u001b[0;34m)\u001b[0m\u001b[0;34m\u001b[0m\u001b[0;34m\u001b[0m\u001b[0m\n\u001b[0m\u001b[1;32m    359\u001b[0m \u001b[0;34m\u001b[0m\u001b[0m\n\u001b[1;32m    360\u001b[0m     \u001b[0;32mreturn\u001b[0m \u001b[0mwrapper\u001b[0m\u001b[0;34m\u001b[0m\u001b[0;34m\u001b[0m\u001b[0m\n",
      "\u001b[0;32m/opt/conda/lib/python3.7/site-packages/matplotlib/cbook/deprecation.py\u001b[0m in \u001b[0;36mwrapper\u001b[0;34m(*args, **kwargs)\u001b[0m\n\u001b[1;32m    356\u001b[0m                 \u001b[0;34mf\"%(removal)s.  If any parameter follows {name!r}, they \"\u001b[0m\u001b[0;34m\u001b[0m\u001b[0;34m\u001b[0m\u001b[0m\n\u001b[1;32m    357\u001b[0m                 f\"should be pass as keyword, not positionally.\")\n\u001b[0;32m--> 358\u001b[0;31m         \u001b[0;32mreturn\u001b[0m \u001b[0mfunc\u001b[0m\u001b[0;34m(\u001b[0m\u001b[0;34m*\u001b[0m\u001b[0margs\u001b[0m\u001b[0;34m,\u001b[0m \u001b[0;34m**\u001b[0m\u001b[0mkwargs\u001b[0m\u001b[0;34m)\u001b[0m\u001b[0;34m\u001b[0m\u001b[0;34m\u001b[0m\u001b[0m\n\u001b[0m\u001b[1;32m    359\u001b[0m \u001b[0;34m\u001b[0m\u001b[0m\n\u001b[1;32m    360\u001b[0m     \u001b[0;32mreturn\u001b[0m \u001b[0mwrapper\u001b[0m\u001b[0;34m\u001b[0m\u001b[0;34m\u001b[0m\u001b[0m\n",
      "\u001b[0;32m/opt/conda/lib/python3.7/site-packages/matplotlib/axes/_axes.py\u001b[0m in \u001b[0;36mimshow\u001b[0;34m(self, X, cmap, norm, aspect, interpolation, alpha, vmin, vmax, origin, extent, shape, filternorm, filterrad, imlim, resample, url, **kwargs)\u001b[0m\n\u001b[1;32m   5613\u001b[0m                               resample=resample, **kwargs)\n\u001b[1;32m   5614\u001b[0m \u001b[0;34m\u001b[0m\u001b[0m\n\u001b[0;32m-> 5615\u001b[0;31m         \u001b[0mim\u001b[0m\u001b[0;34m.\u001b[0m\u001b[0mset_data\u001b[0m\u001b[0;34m(\u001b[0m\u001b[0mX\u001b[0m\u001b[0;34m)\u001b[0m\u001b[0;34m\u001b[0m\u001b[0;34m\u001b[0m\u001b[0m\n\u001b[0m\u001b[1;32m   5616\u001b[0m         \u001b[0mim\u001b[0m\u001b[0;34m.\u001b[0m\u001b[0mset_alpha\u001b[0m\u001b[0;34m(\u001b[0m\u001b[0malpha\u001b[0m\u001b[0;34m)\u001b[0m\u001b[0;34m\u001b[0m\u001b[0;34m\u001b[0m\u001b[0m\n\u001b[1;32m   5617\u001b[0m         \u001b[0;32mif\u001b[0m \u001b[0mim\u001b[0m\u001b[0;34m.\u001b[0m\u001b[0mget_clip_path\u001b[0m\u001b[0;34m(\u001b[0m\u001b[0;34m)\u001b[0m \u001b[0;32mis\u001b[0m \u001b[0;32mNone\u001b[0m\u001b[0;34m:\u001b[0m\u001b[0;34m\u001b[0m\u001b[0;34m\u001b[0m\u001b[0m\n",
      "\u001b[0;32m/opt/conda/lib/python3.7/site-packages/matplotlib/image.py\u001b[0m in \u001b[0;36mset_data\u001b[0;34m(self, A)\u001b[0m\n\u001b[1;32m    692\u001b[0m                 not np.can_cast(self._A.dtype, float, \"same_kind\")):\n\u001b[1;32m    693\u001b[0m             raise TypeError(\"Image data of dtype {} cannot be converted to \"\n\u001b[0;32m--> 694\u001b[0;31m                             \"float\".format(self._A.dtype))\n\u001b[0m\u001b[1;32m    695\u001b[0m \u001b[0;34m\u001b[0m\u001b[0m\n\u001b[1;32m    696\u001b[0m         if not (self._A.ndim == 2\n",
      "\u001b[0;31mTypeError\u001b[0m: Image data of dtype complex128 cannot be converted to float"
     ]
    },
    {
     "data": {
      "image/png": "[encoded data removed]",
      "text/plain": [
       "<Figure size 2160x216 with 2 Axes>"
      ]
     },
     "metadata": {
      "needs_background": "light"
     },
     "output_type": "display_data"
    }
   ],
   "source": [
    "reconst, _, _, _ = PCA(X, num_components=10)\n",
    "num_images_to_show = 10\n",
    "reconst_images = np.reshape(reconst[:num_images_to_show], (-1, 28, 28))\n",
    "fig, ax = plt.subplots(2, 1, figsize=(num_images_to_show * 3, 3))\n",
    "ax[0].imshow(np.concatenate(np.reshape(X[:num_images_to_show], (-1, 28, 28)), -1), cmap=\"gray\")\n",
    "ax[1].imshow(np.concatenate(reconst_images, -1), cmap=\"gray\");"
   ]
  },
  {
   "cell_type": "markdown",
   "metadata": {},
   "source": [
    "The greater number of of principal components we use, the smaller will our reconstruction\n",
    "error be. Now, let's answer the following question: \n",
    "\n",
    "\n",
    "> How many principal components do we need\n",
    "> in order to reach a Mean Squared Error (MSE) of less than $10.0$ for our dataset?\n",
    "\n"
   ]
  },
  {
   "cell_type": "markdown",
   "metadata": {},
   "source": [
    "We have provided a function in the next cell which computes the mean squared error (MSE), which will be useful for answering the question above."
   ]
  },
  {
   "cell_type": "code",
   "execution_count": 76,
   "metadata": {},
   "outputs": [],
   "source": [
    "def mse(predict, actual):\n",
    "    \"\"\"Helper function for computing the mean squared error (MSE)\"\"\"\n",
    "    return np.square(predict - actual).sum(axis=1).mean()"
   ]
  },
  {
   "cell_type": "code",
   "execution_count": 77,
   "metadata": {},
   "outputs": [],
   "source": [
    "loss = []\n",
    "reconstructions = []\n",
    "# iterate over different number of principal components, and compute the MSE\n",
    "for num_component in range(1, 100, 5):\n",
    "    reconst, _, _, _ = PCA(X, num_component)\n",
    "    error = mse(reconst, X)\n",
    "    reconstructions.append(reconst)\n",
    "    # print('n = {:d}, reconstruction_error = {:f}'.format(num_component, error))\n",
    "    loss.append((num_component, error))\n",
    "\n",
    "reconstructions = np.asarray(reconstructions)\n",
    "reconstructions = reconstructions\n",
    "loss = np.asarray(loss)"
   ]
  },
  {
   "cell_type": "code",
   "execution_count": 78,
   "metadata": {},
   "outputs": [
    {
     "data": {
      "text/html": [
       "<div>\n",
       "<style scoped>\n",
       "    .dataframe tbody tr th:only-of-type {\n",
       "        vertical-align: middle;\n",
       "    }\n",
       "\n",
       "    .dataframe tbody tr th {\n",
       "        vertical-align: top;\n",
       "    }\n",
       "\n",
       "    .dataframe thead th {\n",
       "        text-align: right;\n",
       "    }\n",
       "</style>\n",
       "<table border=\"1\" class=\"dataframe\">\n",
       "  <thead>\n",
       "    <tr style=\"text-align: right;\">\n",
       "      <th></th>\n",
       "      <th>no. of components</th>\n",
       "      <th>mse</th>\n",
       "    </tr>\n",
       "  </thead>\n",
       "  <tbody>\n",
       "    <tr>\n",
       "      <th>0</th>\n",
       "      <td>1.000000+0.000000j</td>\n",
       "      <td>40.618882+0.000000j</td>\n",
       "    </tr>\n",
       "    <tr>\n",
       "      <th>1</th>\n",
       "      <td>6.000000+0.000000j</td>\n",
       "      <td>23.198508+0.000000j</td>\n",
       "    </tr>\n",
       "    <tr>\n",
       "      <th>2</th>\n",
       "      <td>11.000000+0.000000j</td>\n",
       "      <td>16.899711+0.000000j</td>\n",
       "    </tr>\n",
       "    <tr>\n",
       "      <th>3</th>\n",
       "      <td>16.000000+0.000000j</td>\n",
       "      <td>13.367106+0.000000j</td>\n",
       "    </tr>\n",
       "    <tr>\n",
       "      <th>4</th>\n",
       "      <td>21.000000+0.000000j</td>\n",
       "      <td>11.072143+0.000000j</td>\n",
       "    </tr>\n",
       "  </tbody>\n",
       "</table>\n",
       "</div>"
      ],
      "text/plain": [
       "     no. of components                  mse\n",
       "0   1.000000+0.000000j  40.618882+0.000000j\n",
       "1   6.000000+0.000000j  23.198508+0.000000j\n",
       "2  11.000000+0.000000j  16.899711+0.000000j\n",
       "3  16.000000+0.000000j  13.367106+0.000000j\n",
       "4  21.000000+0.000000j  11.072143+0.000000j"
      ]
     },
     "execution_count": 78,
     "metadata": {},
     "output_type": "execute_result"
    }
   ],
   "source": [
    "import pandas as pd\n",
    "# create a table showing the number of principal components and MSE\n",
    "pd.DataFrame(loss, columns=['no. of components', 'mse']).head()"
   ]
  },
  {
   "cell_type": "markdown",
   "metadata": {},
   "source": [
    "We can also put these numbers into perspective by plotting them."
   ]
  },
  {
   "cell_type": "code",
   "execution_count": 79,
   "metadata": {},
   "outputs": [
    {
     "data": {
      "image/png": "[encoded data removed]",
      "text/plain": [
       "<Figure size 432x288 with 1 Axes>"
      ]
     },
     "metadata": {
      "needs_background": "light"
     },
     "output_type": "display_data"
    }
   ],
   "source": [
    "fig, ax = plt.subplots()\n",
    "ax.plot(loss[:,0], loss[:,1]);\n",
    "ax.axhline(10, linestyle='--', color='r', linewidth=2)\n",
    "ax.xaxis.set_ticks(np.arange(1, 100, 5));\n",
    "ax.set(xlabel='num_components', ylabel='MSE', title='MSE vs number of principal components');"
   ]
  },
  {
   "cell_type": "markdown",
   "metadata": {},
   "source": [
    "But _numbers dont't tell us everything_! Just what does it mean _qualitatively_ for the loss to decrease from around\n",
    "$45.0$ to less than $10.0$?\n",
    "\n",
    "Let's find out! In the next cell, we draw the the leftmost image is the original dight. Then we show the reconstruction of the image on the right, in descending number of principal components used."
   ]
  },
  {
   "cell_type": "code",
   "execution_count": 80,
   "metadata": {},
   "outputs": [
    {
     "data": {
      "application/vnd.jupyter.widget-view+json": {
       "model_id": "a0d4db205c7d4aaeac9aa71eb74f513c",
       "version_major": 2,
       "version_minor": 0
      },
      "text/plain": [
       "interactive(children=(IntSlider(value=500, description='image_idx', max=1000), Output()), _dom_classes=('widge…"
      ]
     },
     "metadata": {},
     "output_type": "display_data"
    },
    {
     "data": {
      "image/png": "[encoded data removed]",
      "text/plain": [
       "<Figure size 1440x1440 with 1 Axes>"
      ]
     },
     "metadata": {
      "needs_background": "light"
     },
     "output_type": "display_data"
    },
    {
     "data": {
      "image/png": "[encoded data removed]",
      "text/plain": [
       "<Figure size 1440x1440 with 1 Axes>"
      ]
     },
     "metadata": {
      "needs_background": "light"
     },
     "output_type": "display_data"
    },
    {
     "data": {
      "image/png": "[encoded data removed]",
      "text/plain": [
       "<Figure size 1440x1440 with 1 Axes>"
      ]
     },
     "metadata": {
      "needs_background": "light"
     },
     "output_type": "display_data"
    }
   ],
   "source": [
    "@interact(image_idx=(0, 1000))\n",
    "def show_num_components_reconst(image_idx):\n",
    "    fig, ax = plt.subplots(figsize=(20., 20.))\n",
    "    actual = X[image_idx]\n",
    "    # concatenate the actual and reconstructed images as large image before plotting it\n",
    "    x = np.concatenate([actual[np.newaxis, :], reconstructions[:, image_idx]])\n",
    "    ax.imshow(np.hstack(x.reshape(-1, 28, 28)[np.arange(10)]),\n",
    "              cmap='gray');\n",
    "    ax.axvline(28, color='orange', linewidth=2)"
   ]
  },
  {
   "cell_type": "markdown",
   "metadata": {},
   "source": [
    "We can also browse through the reconstructions for other digits. Once again, `interact` becomes handy for visualing the reconstruction."
   ]
  },
  {
   "cell_type": "code",
   "execution_count": 81,
   "metadata": {},
   "outputs": [
    {
     "data": {
      "application/vnd.jupyter.widget-view+json": {
       "model_id": "3256138ab3ca479cb8a686e53ec1377b",
       "version_major": 2,
       "version_minor": 0
      },
      "text/plain": [
       "interactive(children=(IntSlider(value=1, description='i', max=10), Output()), _dom_classes=('widget-interact',…"
      ]
     },
     "metadata": {},
     "output_type": "display_data"
    },
    {
     "data": {
      "image/png": "[encoded data removed]",
      "text/plain": [
       "<Figure size 288x288 with 1 Axes>"
      ]
     },
     "metadata": {
      "needs_background": "light"
     },
     "output_type": "display_data"
    }
   ],
   "source": [
    "@interact(i=(0, 10))\n",
    "def show_pca_digits(i=1):\n",
    "    \"\"\"Show the i th digit and its reconstruction\"\"\"\n",
    "    plt.figure(figsize=(4,4))\n",
    "    actual_sample = X[i].reshape(28,28)\n",
    "    reconst_sample = (reconst[i, :]).reshape(28, 28)\n",
    "    plt.imshow(np.hstack([actual_sample, reconst_sample]), cmap='gray')\n",
    "    plt.grid(False)\n",
    "    plt.show()"
   ]
  },
  {
   "cell_type": "markdown",
   "metadata": {},
   "source": [
    "## PCA for high-dimensional datasets\n",
    "\n",
    "Sometimes, the dimensionality of our dataset may be larger than the number of samples we\n",
    "have. Then it might be inefficient to perform PCA with your implementation above. Instead,\n",
    "as mentioned in the lectures, you can implement PCA in a more efficient manner, which we\n",
    "call \"PCA for high dimensional data\" (PCA_high_dim).\n",
    "\n",
    "Below are the steps for performing PCA for high dimensional dataset\n",
    "1. Normalize the dataset matrix $X$ to obtain $\\overline{X}$ that has zero mean.\n",
    "2. Compute the matrix $\\overline{X}\\overline{X}^T$ (a $N$ by $N$ matrix with $N << D$)\n",
    "3. Compute eigenvalues $\\lambda$s and eigenvectors $V$ for $\\overline{X}\\overline{X}^T$ with shape (N, N). Compare this with computing the eigenspectrum of $\\overline{X}^T\\overline{X}$ which has shape (D, D), when $N << D$, computation of the eigenspectrum of $\\overline{X}\\overline{X}^T$ will be computationally less expensive.\n",
    "4. Compute the eigenvectors for the original covariance matrix as $\\overline{X}^TV$. Choose the eigenvectors associated with the `n` largest eigenvalues to be the basis of the principal subspace $U$.\n",
    "    1. Notice that $\\overline{X}^TV$ would give a matrix of shape (D, N) but the eigenvectors beyond the Dth column will have eigenvalues of 0, so it is safe to drop any columns beyond the D'th dimension. \n",
    "    2. Also note that the columns of $U$ will not be unit-length if we pre-multiply $V$ with $\\overline{X}^T$, so we will have to normalize the columns of $U$ so that they have unit-length to be consistent with the `PCA` implementation above.\n",
    "5. Compute the orthogonal projection of the data onto the subspace spanned by columns of $U$. \n",
    "\n",
    "Functions you wrote for earlier assignments will be useful."
   ]
  },
  {
   "cell_type": "code",
   "execution_count": 114,
   "metadata": {
    "nbgrader": {
     "grade": false,
     "grade_id": "cell-6b8c115e4c40bd67",
     "locked": false,
     "schema_version": 3,
     "solution": true,
     "task": false
    }
   },
   "outputs": [],
   "source": [
    "# GRADED FUNCTION: DO NOT EDIT THIS LINE\n",
    "def PCA_high_dim(X, num_components):\n",
    "    \"\"\"Compute PCA for small sample size but high-dimensional features. \n",
    "    Args:\n",
    "        X: ndarray of size (N, D), where D is the dimension of the sample,\n",
    "           and N is the number of samples\n",
    "        num_components: the number of principal components to use.\n",
    "    Returns:\n",
    "        X_reconstruct: (N, D) ndarray. the reconstruction\n",
    "        of X from the first `num_components` pricipal components.\n",
    "    \"\"\"\n",
    "    # YOUR CODE HERE\n",
    "    # Uncomment and modify the code below\n",
    "    N, D = X.shape\n",
    "#     # Normalize the dataset\n",
    "    X_normalized, mean = normalize(X)\n",
    "#     # Find the covariance matrix\n",
    "    M = np.dot(X_normalized, X_normalized.T) / N\n",
    "#     # Next find eigenvalues and corresponding eigenvectors for S\n",
    "#     # Make sure that you only take the first D eigenvalues/vectors\n",
    "#     # You can also take a look at the eigenvalues beyond column (D-1) and they should be \n",
    "#     # zero (or a very small number due to finite floating point precision)\n",
    "    eig_vals, eig_vecs = eig(M)\n",
    "    eig_vals, eig_vecs = eig_vals[:D], eig_vecs[:,:D]\n",
    "#     # Compute the eigenvalues and eigenvectors for the original system\n",
    "\n",
    "    cov= np.dot(X_normalized.T, eig_vecs)\n",
    "    cov_eig_vals, cov_eig_vecs = eig(cov)\n",
    "    cov_eig_vecs /= np.linalg.norm(cov_eig_vecs)\n",
    "#     # Normalize the eigenvectors to have unit-length\n",
    "#     # Take the top `num_components` of the eigenvalues / eigenvectors\n",
    "#     # as the principal values and principal components\n",
    "    principal_values = cov_eig_vals[:num_components]\n",
    "    principal_components = cov_eig_vecs[:,:num_components]\n",
    "#     # reconstruct the images from the lower dimensional representation\n",
    "#     # Remember to add back the sample mean\n",
    "    #reconst = None\n",
    "    P = projection_matrix(principal_components)\n",
    "    #reconst = np.zeros_like(X_normalized)\n",
    "    reconst = (P @ X_normalized.T).T\n",
    "    \n",
    "    #reconst= (P@M.T).T\n",
    "    \n",
    "    #reconst=reconst.T\n",
    "    reconst+=mean\n",
    "    reconst=reconst.astype(float)\n",
    "    #return P, M, reconst\n",
    "    return reconst, mean, principal_values, principal_components"
   ]
  },
  {
   "cell_type": "code",
   "execution_count": 118,
   "metadata": {},
   "outputs": [],
   "source": [
    "def PCA_high_dim(X, num_components):\n",
    "    \"\"\"Compute PCA for small sample size but high-dimensional features. \n",
    "    Args:\n",
    "        X: ndarray of size (N, D), where D is the dimension of the sample,\n",
    "           and N is the number of samples\n",
    "        num_components: the number of principal components to use.\n",
    "    Returns:\n",
    "        X_reconstruct: (N, D) ndarray. the reconstruction\n",
    "        of X from the first `num_components` pricipal components.\n",
    "    \"\"\"\n",
    "    # YOUR CODE HERE\n",
    "    # Uncomment and modify the code below\n",
    "    N, D = X.shape\n",
    "#     # Normalize the dataset\n",
    "    X_normalized, mean = normalize(X)\n",
    "#     # Find the covariance matrix\n",
    "    M = np.dot(X_normalized, X_normalized.T) / N\n",
    "    cov =np.cov(X_normalized, rowvar=False)\n",
    "#     # Next find eigenvalues and corresponding eigenvectors for S\n",
    "#     # Make sure that you only take the first D eigenvalues/vectors\n",
    "#     # You can also take a look at the eigenvalues beyond column (D-1) and they should be \n",
    "#     # zero (or a very small number due to finite floating point precision)\n",
    "    eig_vals, eig_vecs = eig(M)\n",
    "    eig_vals, eig_vecs = eig_vals[:D], eig_vecs[:,:D]\n",
    "#     # Compute the eigenvalues and eigenvectors for the original system\n",
    "    #cov= np.dot(X_normalized.T, eig_vecs)\n",
    "    cov_eig_vals, cov_eig_vecs = eig(cov)\n",
    "    cov_eig_vecs /= np.linalg.norm(cov_eig_vecs)\n",
    "#     # Normalize the eigenvectors to have unit-length\n",
    "#     # Take the top `num_components` of the eigenvalues / eigenvectors\n",
    "#     # as the principal values and principal components\n",
    "    principal_values = cov_eig_vals[:num_components]\n",
    "    principal_components = cov_eig_vecs[:,:num_components]\n",
    "#     # reconstruct the images from the lower dimensional representation\n",
    "#     # Remember to add back the sample mean\n",
    "    #reconst = None\n",
    "    P = projection_matrix(principal_components)\n",
    "    #reconst = np.zeros_like(X_normalized)\n",
    "    reconst = (P @ X_normalized.T).T\n",
    "    \n",
    "    #reconst= (P@M.T).T\n",
    "    \n",
    "    #reconst=reconst.T\n",
    "    reconst+=mean\n",
    "    reconst=reconst.astype(float)\n",
    "    #return P, M, reconst\n",
    "    return reconst, mean, principal_values, principal_components"
   ]
  },
  {
   "cell_type": "code",
   "execution_count": 130,
   "metadata": {},
   "outputs": [],
   "source": [
    "#random = np.random.RandomState(0)\n",
    "# Generate some random data\n",
    "#X = random.randn(5, 4)\n",
    "\n",
    "#pca_rec, pca_mean, pca_pvs, pca_pcs = PCA(X, 2)\n",
    "#pca_hd_rec, pca_hd_mean, pca_hd_pvs, pca_hd_pcs = PCA_high_dim(X, 2)\n",
    "#P, M, reconst = PCA_high_dim(X, 2)\n",
    "#P.shape, M.shape, reconst.shape, X.shape"
   ]
  },
  {
   "cell_type": "code",
   "execution_count": 131,
   "metadata": {},
   "outputs": [],
   "source": [
    "#reconst"
   ]
  },
  {
   "cell_type": "code",
   "execution_count": 132,
   "metadata": {},
   "outputs": [],
   "source": [
    "#X"
   ]
  },
  {
   "cell_type": "code",
   "execution_count": 133,
   "metadata": {},
   "outputs": [],
   "source": [
    "#pca_rec"
   ]
  },
  {
   "cell_type": "code",
   "execution_count": 135,
   "metadata": {},
   "outputs": [],
   "source": [
    "#pca_hd_rec"
   ]
  },
  {
   "cell_type": "code",
   "execution_count": 124,
   "metadata": {},
   "outputs": [],
   "source": [
    "#reconst.shape"
   ]
  },
  {
   "cell_type": "code",
   "execution_count": 125,
   "metadata": {},
   "outputs": [],
   "source": [
    "#pca_hd_mean"
   ]
  },
  {
   "cell_type": "code",
   "execution_count": 126,
   "metadata": {},
   "outputs": [],
   "source": [
    "#X.shape"
   ]
  },
  {
   "cell_type": "code",
   "execution_count": 127,
   "metadata": {
    "nbgrader": {
     "grade": false,
     "grade_id": "cell-ddfc3a4390a8b957",
     "locked": false,
     "schema_version": 3,
     "solution": true,
     "task": false
    }
   },
   "outputs": [],
   "source": [
    "# YOUR CODE HERE"
   ]
  },
  {
   "cell_type": "code",
   "execution_count": 128,
   "metadata": {
    "nbgrader": {
     "grade": true,
     "grade_id": "cell-8334eae5a3ead42f",
     "locked": true,
     "points": 2.5,
     "schema_version": 3,
     "solution": false,
     "task": false
    }
   },
   "outputs": [],
   "source": [
    "# Some hidden tests below\n",
    "### ..."
   ]
  },
  {
   "cell_type": "markdown",
   "metadata": {},
   "source": [
    "Given the same dataset, `PCA_high_dim` and `PCA` should give the same output. \n",
    "Assuming we have implemented `PCA`, correctly, we can then use `PCA` to test the correctness\n",
    "of `PCA_high_dim`. Given the same dataset, `PCA` and `PCA_high_dim` should give identical results.\n",
    "\n",
    "We can use this __invariant__\n",
    "to test our implementation of PCA_high_dim, assuming that we have correctly implemented `PCA`."
   ]
  },
  {
   "cell_type": "code",
   "execution_count": 129,
   "metadata": {
    "nbgrader": {
     "grade": true,
     "grade_id": "cell-e1f35e6bd20a7b6a",
     "locked": true,
     "points": 1,
     "schema_version": 3,
     "solution": false,
     "task": false
    }
   },
   "outputs": [],
   "source": [
    "random = np.random.RandomState(0)\n",
    "# Generate some random data\n",
    "X = random.randn(5, 4)\n",
    "pca_rec, pca_mean, pca_pvs, pca_pcs = PCA(X, 2)\n",
    "pca_hd_rec, pca_hd_mean, pca_hd_pvs, pca_hd_pcs = PCA_high_dim(X, 2)\n",
    "# Check that the results returned by PCA and PCA_high_dim are identical\n",
    "np.testing.assert_allclose(pca_rec, pca_hd_rec)\n",
    "np.testing.assert_allclose(pca_mean, pca_hd_mean)\n",
    "np.testing.assert_allclose(pca_pvs, pca_pvs)\n",
    "np.testing.assert_allclose(pca_pcs, pca_pcs)"
   ]
  },
  {
   "cell_type": "markdown",
   "metadata": {},
   "source": [
    "_Congratulations_! You have now learned how PCA works!"
   ]
  }
 ],
 "metadata": {
  "coursera": {
   "course_slug": "mathematics-machine-learning-pca",
   "graded_item_id": "CXC11",
   "launcher_item_id": "ub5A7"
  },
  "kernelspec": {
   "display_name": "Python 3",
   "language": "python",
   "name": "python3"
  },
  "language_info": {
   "codemirror_mode": {
    "name": "ipython",
    "version": 3
   },
   "file_extension": ".py",
   "mimetype": "text/x-python",
   "name": "python",
   "nbconvert_exporter": "python",
   "pygments_lexer": "ipython3",
   "version": "3.7.6"
  },
  "toc": {
   "base_numbering": 1,
   "nav_menu": {},
   "number_sections": true,
   "sideBar": true,
   "skip_h1_title": true,
   "title_cell": "Table of Contents",
   "title_sidebar": "Contents",
   "toc_cell": false,
   "toc_position": {
    "height": "calc(100% - 180px)",
    "left": "10px",
    "top": "150px",
    "width": "169px"
   },
   "toc_section_display": true,
   "toc_window_display": true
  }
 },
 "nbformat": 4,
 "nbformat_minor": 2
}
