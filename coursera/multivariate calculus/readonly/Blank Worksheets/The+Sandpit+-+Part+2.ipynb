{
 "cells": [
  {
   "cell_type": "markdown",
   "metadata": {},
   "source": [
    "# The Sandpit - Part 2\n",
    "In this notebook, we'll explore some more sandpit scenarios in order to build on your intuition of the Jacobian and gradient descent.\n",
    "We'll look at some harder scenarios and some of the pitfalls and limitations of following the gradient down contours in order to find the minimum of a function.\n",
    "\n",
    "There is no grading for this exercise, when you are finished, close this tab to return to the course.\n",
    "\n",
    "## Multiple Minima\n",
    "In this sandpit, there are many local minima that the supervisor's phone could have fallen into.\n",
    "The phone is in the deepest one - Try and find it!\n",
    "\n",
    "(You may get lucky and find the basin of the deepest minimum quickly, if you seem stuck, click somewhere else at random!)"
   ]
  },
  {
   "cell_type": "code",
   "execution_count": null,
   "metadata": {
    "collapsed": true
   },
   "outputs": [],
   "source": [
    "# Click into this cell and press [Shift-Enter] to start.\n",
    "%run \"readonly/sandpit-exercises.ipynb\"\n",
    "sandpit_multiple_minima()"
   ]
  },
  {
   "cell_type": "markdown",
   "metadata": {},
   "source": [
    "## Noisy Functions\n",
    "\n",
    "Before the sand was loaded into this next pit, the pit floor was covered with rocks.\n",
    "This means when the supervisor tries to measure the slope, the surface they measure is rough and can change quickly.\n",
    "\n",
    "Try to find the phone in this situation. You may notice that it is frustratingly harder to do so, as the roughness may generate more local minima."
   ]
  },
  {
   "cell_type": "code",
   "execution_count": null,
   "metadata": {
    "collapsed": true
   },
   "outputs": [],
   "source": [
    "# Click into this cell and press [Shift-Enter] to continue.\n",
    "%run \"readonly/sandpit-exercises.ipynb\"\n",
    "sandpit_rocks()"
   ]
  },
  {
   "cell_type": "markdown",
   "metadata": {},
   "source": [
    "## Narrow Wells\n",
    "\n",
    "In this pit, there is a deep but narrow well that the phone may have fallen into.\n",
    "See if you can find the phone in this case."
   ]
  },
  {
   "cell_type": "code",
   "execution_count": null,
   "metadata": {
    "collapsed": true
   },
   "outputs": [],
   "source": [
    "# Click into this cell and press [Shift-Enter] to continue.\n",
    "%run \"readonly/sandpit-exercises.ipynb\"\n",
    "sandpit_well()"
   ]
  }
 ],
 "metadata": {
  "kernelspec": {
   "display_name": "Python 3",
   "language": "python",
   "name": "python3"
  },
  "language_info": {
   "codemirror_mode": {
    "name": "ipython",
    "version": 3
   },
   "file_extension": ".py",
   "mimetype": "text/x-python",
   "name": "python",
   "nbconvert_exporter": "python",
   "pygments_lexer": "ipython3",
   "version": "3.6.0"
  }
 },
 "nbformat": 4,
 "nbformat_minor": 1
}
