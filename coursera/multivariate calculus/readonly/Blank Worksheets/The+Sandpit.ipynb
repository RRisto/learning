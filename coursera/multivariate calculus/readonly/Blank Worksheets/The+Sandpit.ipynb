{
 "cells": [
  {
   "cell_type": "markdown",
   "metadata": {},
   "source": [
    "# The Sandpit\n",
    "## Jacobian\n",
    "The supervisor of a building site has dropped their mobile phone into a pit with an uneven floor, and it has rolled to the lowest point.\n",
    "To make matters worse, the pit has subsequently been filled with sand such that the phone is covered and cannot be seen.\n",
    "To find where in the pit their phone is, the supervisor has crafted a *‘dip-stick’* with a head designed to measure the slope of the floor if it is poked straight down through the sand.\n",
    "\n",
    "By clicking on any point in the sandpit, and thereby measuring the negative of the Jacobian,\n",
    "$-\\mathbf{J} = -\\nabla f(\\mathbf{x})$,\n",
    "at that point, try and find the supervisor's phone.\n",
    "Try to do this with as few dips as possible - the supervisor has calls to make!\n",
    "\n",
    "There is no grading for this exercise, when you are finished, close this tab to return to the course.\n",
    "\n",
    "Run the following cell to start the example."
   ]
  },
  {
   "cell_type": "code",
   "execution_count": null,
   "metadata": {},
   "outputs": [],
   "source": [
    "# Click into this cell and press [Shift-Enter] to start.\n",
    "%run \"readonly/sandpit-exercises.ipynb\"\n",
    "sandpit_intro()"
   ]
  },
  {
   "cell_type": "markdown",
   "metadata": {
    "collapsed": true
   },
   "source": [
    "## Depth Only\n",
    "Before trying the dip-stick that measures the Jacobian, the supervisor had contructed a dip-stick that can only measure the depth on each dip.\n",
    "\n",
    "Without information about the Jacobian, try and find the supervisor's phone.\n",
    "This should certainly be more difficult!"
   ]
  },
  {
   "cell_type": "code",
   "execution_count": null,
   "metadata": {},
   "outputs": [],
   "source": [
    "# Click into this cell and press [Shift-Enter] to continue.\n",
    "%run \"readonly/sandpit-exercises.ipynb\"\n",
    "sandpit_depth_only()"
   ]
  },
  {
   "cell_type": "markdown",
   "metadata": {},
   "source": [
    "## More Sandpits\n",
    "In a nearby building site, another phone has been dropped into a pit.\n",
    "Use the gradient dip-stick and help out the supervisor.\n",
    "\n",
    "You can run this example as many times as you like for a randomly generated sandpit."
   ]
  },
  {
   "cell_type": "code",
   "execution_count": null,
   "metadata": {},
   "outputs": [],
   "source": [
    "# Click into this cell and press [Shift-Enter] to continue.\n",
    "%run \"readonly/sandpit-exercises.ipynb\"\n",
    "sandpit_random()"
   ]
  }
 ],
 "metadata": {
  "kernelspec": {
   "display_name": "Python 3",
   "language": "python",
   "name": "python3"
  },
  "language_info": {
   "codemirror_mode": {
    "name": "ipython",
    "version": 3
   },
   "file_extension": ".py",
   "mimetype": "text/x-python",
   "name": "python",
   "nbconvert_exporter": "python",
   "pygments_lexer": "ipython3",
   "version": "3.6.0"
  }
 },
 "nbformat": 4,
 "nbformat_minor": 1
}
