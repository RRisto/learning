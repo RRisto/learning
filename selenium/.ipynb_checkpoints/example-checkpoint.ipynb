{
 "cells": [
  {
   "cell_type": "code",
   "execution_count": 1,
   "metadata": {},
   "outputs": [],
   "source": [
    "from selenium import webdriver\n",
    "from webdriver_manager.chrome import ChromeDriverManager\n",
    "from selenium.webdriver.support.wait import WebDriverWait\n",
    "from selenium.webdriver.support import expected_conditions as EC\n",
    "from selenium.webdriver import ActionChains\n",
    "from selenium.webdriver.common.by import By\n",
    "from bs4 import BeautifulSoup\n",
    "import urllib\n",
    "import time"
   ]
  },
  {
   "cell_type": "code",
   "execution_count": 62,
   "metadata": {},
   "outputs": [],
   "source": [
    "# options = webdriver.ChromeOptions()\n",
    "# options.add_argument('--ignore-certificate-errors')\n",
    "# options.add_argument(\"--test-type\")\n",
    "# options.binary_location = \"C:/Users/risto/Downloads/chromedriver_win32/chromedriver\"\n",
    "# driver = webdriver.Chrome(chrome_options=options)\n",
    "# driver = webdriver.Chrome(ChromeDriverManager().install())\n",
    "# driver.get('http://curia.europa.eu/juris/documents.jsf?oqp=&for=&mat=or&jge=&td=%3B%3B%3BPUB1%3B%3B%3B%3BORDALL&jur=C%2CT%2CF&etat=clot&page=1&dates=&pcs=Oor&lg=&pro=&nat=or&cit=none%252CC%252CCJ%252CR%252C2008E%252C%252C%252C%252C%252C%252C%252C%252C%252C%252Ctrue%252Cfalse%252Cfalse&language=et&avg=&cid=5403783')\n",
    "# driver.maximize_window()"
   ]
  },
  {
   "cell_type": "code",
   "execution_count": null,
   "metadata": {},
   "outputs": [],
   "source": []
  },
  {
   "cell_type": "code",
   "execution_count": 63,
   "metadata": {},
   "outputs": [],
   "source": [
    "# toolTip = WebDriverWait(driver, 10).until(EC.presence_of_element_located((By.XPATH, '//*[@id=\"listeDocuments\"]/div/table/tbody/tr[1]/td[6]/table/tbody/tr/td[2]')))\n",
    "# hov = ActionChains(driver).move_to_element(toolTip)\n",
    "# txt = hov.perform()"
   ]
  },
  {
   "cell_type": "code",
   "execution_count": 64,
   "metadata": {},
   "outputs": [],
   "source": [
    "# tooltipText = WebDriverWait(driver, 10).until(EC.presence_of_element_located((By.XPATH, '//*[@id=\"235721tooltipHtm\"]'))).text\n",
    "# print(tooltipText)"
   ]
  },
  {
   "cell_type": "code",
   "execution_count": 65,
   "metadata": {},
   "outputs": [],
   "source": [
    "# tooltip=WebDriverWait(driver, 10).until(EC.presence_of_element_located((By.XPATH, '//*[@id=\"235721tooltipHtm\"]')))\n"
   ]
  },
  {
   "cell_type": "code",
   "execution_count": 3,
   "metadata": {},
   "outputs": [
    {
     "name": "stderr",
     "output_type": "stream",
     "text": [
      "[WDM] - ====== WebDriver manager ======\n",
      "[WDM] - Current google-chrome version is 88.0.4324\n",
      "[WDM] - Get LATEST driver version for 88.0.4324\n",
      "[WDM] - Driver [C:\\Users\\risto\\.wdm\\drivers\\chromedriver\\win32\\88.0.4324.96\\chromedriver.exe] found in cache\n"
     ]
    },
    {
     "name": "stdout",
     "output_type": "stream",
     "text": [
      "\n",
      "\n"
     ]
    }
   ],
   "source": [
    "driver = webdriver.Chrome(ChromeDriverManager().install())\n",
    "driver.get('http://curia.europa.eu/juris/documents.jsf?oqp=&for=&mat=or&jge=&td=%3B%3B%3BPUB1%3B%3B%3B%3BORDALL&jur=C%2CT%2CF&etat=clot&page=1&dates=&pcs=Oor&lg=&pro=&nat=or&cit=none%252CC%252CCJ%252CR%252C2008E%252C%252C%252C%252C%252C%252C%252C%252C%252C%252Ctrue%252Cfalse%252Cfalse&language=et&avg=&cid=5403783')\n",
    "driver.maximize_window()\n",
    "\n",
    "toolTip = WebDriverWait(driver, 10).until(EC.presence_of_element_located((By.XPATH, '//*[@id=\"listeDocuments\"]/div/table/tbody/tr[1]/td[6]/table/tbody/tr/td[2]')))\n",
    "hov = ActionChains(driver).move_to_element(toolTip)\n",
    "txt = hov.perform()\n",
    "\n",
    "tooltip_elem=WebDriverWait(driver, 10).until(EC.presence_of_element_located((By.XPATH, '//*[@id=\"mainForm:j_id70:0:j_id138:2\"]')))"
   ]
  },
  {
   "cell_type": "code",
   "execution_count": 4,
   "metadata": {},
   "outputs": [
    {
     "data": {
      "text/plain": [
       "'http://curia.europa.eu/juris/document/document.jsf;jsessionid=A85F66D950D2F172437C13A6E7D69E22?text=&docid=235721&pageIndex=0&doclang=DA&mode=req&dir=&occ=first&part=1&cid=625631'"
      ]
     },
     "execution_count": 4,
     "metadata": {},
     "output_type": "execute_result"
    }
   ],
   "source": [
    "#finds some link in and go to that page\n",
    "first_link=tooltip_elem.find_element_by_css_selector('a').get_attribute('href')\n",
    "first_link"
   ]
  },
  {
   "cell_type": "code",
   "execution_count": 5,
   "metadata": {},
   "outputs": [],
   "source": [
    "#go to that page\n",
    "driver.get(first_link)"
   ]
  },
  {
   "cell_type": "code",
   "execution_count": 20,
   "metadata": {},
   "outputs": [],
   "source": [
    "#fond doc menu\n",
    "a = driver.find_elements_by_class_name(\"menu_documents\")"
   ]
  },
  {
   "cell_type": "code",
   "execution_count": 21,
   "metadata": {},
   "outputs": [],
   "source": [
    "#get elemnts with kohtulahendid\n",
    "docs=a[0].find_elements_by_css_selector('a')#.get_attribute('href')"
   ]
  },
  {
   "cell_type": "code",
   "execution_count": 22,
   "metadata": {},
   "outputs": [
    {
     "name": "stdout",
     "output_type": "stream",
     "text": [
      "http://curia.europa.eu/juris/document/document.jsf?docid=233584&mode=req&pageIndex=3&dir=&occ=first&part=1&text=&doclang=DA&cid=625631\n",
      "http://curia.europa.eu/juris/document/document.jsf?docid=232154&mode=req&pageIndex=3&dir=&occ=first&part=1&text=&doclang=DA&cid=625631\n",
      "http://curia.europa.eu/juris/document/document.jsf?docid=235716&mode=req&pageIndex=3&dir=&occ=first&part=1&text=&doclang=DA&cid=625631\n",
      "http://curia.europa.eu/juris/document/document.jsf?docid=232723&mode=req&pageIndex=3&dir=&occ=first&part=1&text=&doclang=DA&cid=625631\n",
      "http://curia.europa.eu/juris/document/document.jsf?docid=228667&mode=req&pageIndex=3&dir=&occ=first&part=1&text=&doclang=DA&cid=625631\n",
      "http://curia.europa.eu/juris/document/document.jsf?docid=228045&mode=req&pageIndex=3&dir=&occ=first&part=1&text=&doclang=DA&cid=625631\n",
      "http://curia.europa.eu/juris/document/document.jsf?docid=232404&mode=req&pageIndex=3&dir=&occ=first&part=1&text=&doclang=DA&cid=625631\n",
      "http://curia.europa.eu/juris/document/document.jsf?docid=231106&mode=req&pageIndex=3&dir=&occ=first&part=1&text=&doclang=DA&cid=625631\n",
      "http://curia.europa.eu/juris/document/document.jsf?docid=235709&mode=req&pageIndex=3&dir=&occ=first&part=1&text=&doclang=DA&cid=625631\n",
      "http://curia.europa.eu/juris/document/document.jsf?docid=232153&mode=req&pageIndex=3&dir=&occ=first&part=1&text=&doclang=DA&cid=625631\n",
      "http://curia.europa.eu/juris/document/document.jsf?pageIndex=1&docid=0&mode=req&dir=&occ=first&part=1&text=&doclang=DA&cid=625631\n",
      "http://curia.europa.eu/juris/document/document.jsf?pageIndex=2&docid=0&mode=req&dir=&occ=first&part=1&text=&doclang=DA&cid=625631\n",
      "http://curia.europa.eu/juris/document/document.jsf?pageIndex=4&docid=0&mode=req&dir=&occ=first&part=1&text=&doclang=DA&cid=625631\n",
      "http://curia.europa.eu/juris/document/document.jsf?pageIndex=1701&docid=0&mode=req&dir=&occ=first&part=1&text=&doclang=DA&cid=625631\n"
     ]
    }
   ],
   "source": [
    "#get links\n",
    "for doc in docs:\n",
    "    print(doc.get_attribute('href'))"
   ]
  },
  {
   "cell_type": "code",
   "execution_count": 23,
   "metadata": {},
   "outputs": [
    {
     "data": {
      "text/plain": [
       "[<selenium.webdriver.remote.webelement.WebElement (session=\"3934d51df0b82a4c97de84a74be372e2\", element=\"a2bda4ee-8af2-4a92-a2a9-d2664b83b446\")>,\n",
       " <selenium.webdriver.remote.webelement.WebElement (session=\"3934d51df0b82a4c97de84a74be372e2\", element=\"b7b0e4af-23e8-429c-afde-8061ef390a47\")>,\n",
       " <selenium.webdriver.remote.webelement.WebElement (session=\"3934d51df0b82a4c97de84a74be372e2\", element=\"4a60ce75-ad6f-4286-af3a-9b80ea058471\")>,\n",
       " <selenium.webdriver.remote.webelement.WebElement (session=\"3934d51df0b82a4c97de84a74be372e2\", element=\"af8a1ef9-f08b-4e58-a1c7-de60161a6952\")>,\n",
       " <selenium.webdriver.remote.webelement.WebElement (session=\"3934d51df0b82a4c97de84a74be372e2\", element=\"c80259f4-f64d-4ef2-accc-480a0d4dd967\")>,\n",
       " <selenium.webdriver.remote.webelement.WebElement (session=\"3934d51df0b82a4c97de84a74be372e2\", element=\"15725427-9509-4e57-a8bf-0fa5af59b722\")>,\n",
       " <selenium.webdriver.remote.webelement.WebElement (session=\"3934d51df0b82a4c97de84a74be372e2\", element=\"9ab20b0d-e7ea-4e75-beaa-a57d2e0500b7\")>,\n",
       " <selenium.webdriver.remote.webelement.WebElement (session=\"3934d51df0b82a4c97de84a74be372e2\", element=\"857a7243-f6af-4d34-b82f-ed366414a8ad\")>]"
      ]
     },
     "execution_count": 23,
     "metadata": {},
     "output_type": "execute_result"
    }
   ],
   "source": [
    "# get button to next page\n",
    "btns_navi=driver.find_elements_by_class_name(\"btn_navigation\")\n",
    "btns_navi"
   ]
  },
  {
   "cell_type": "code",
   "execution_count": 24,
   "metadata": {},
   "outputs": [],
   "source": [
    "for btn in btns_navi:\n",
    "#     print(btn.get_attribute(\"alt\"))\n",
    "    if btn.get_attribute(\"alt\")=='Järgmine lehekülg':\n",
    "        btn_next_page=btn"
   ]
  },
  {
   "cell_type": "code",
   "execution_count": 25,
   "metadata": {},
   "outputs": [
    {
     "data": {
      "text/plain": [
       "<selenium.webdriver.remote.webelement.WebElement (session=\"3934d51df0b82a4c97de84a74be372e2\", element=\"9ab20b0d-e7ea-4e75-beaa-a57d2e0500b7\")>"
      ]
     },
     "execution_count": 25,
     "metadata": {},
     "output_type": "execute_result"
    }
   ],
   "source": [
    "btn_next_page"
   ]
  },
  {
   "cell_type": "code",
   "execution_count": 26,
   "metadata": {},
   "outputs": [],
   "source": [
    "btn_next_page.click()"
   ]
  },
  {
   "cell_type": "markdown",
   "metadata": {},
   "source": [
    "### Clean"
   ]
  },
  {
   "cell_type": "code",
   "execution_count": 35,
   "metadata": {},
   "outputs": [
    {
     "name": "stderr",
     "output_type": "stream",
     "text": [
      "[WDM] - ====== WebDriver manager ======\n",
      "[WDM] - Current google-chrome version is 88.0.4324\n",
      "[WDM] - Get LATEST driver version for 88.0.4324\n",
      "[WDM] - Driver [C:\\Users\\risto\\.wdm\\drivers\\chromedriver\\win32\\88.0.4324.96\\chromedriver.exe] found in cache\n"
     ]
    },
    {
     "name": "stdout",
     "output_type": "stream",
     "text": [
      "\n",
      "\n"
     ]
    }
   ],
   "source": [
    "driver = webdriver.Chrome(ChromeDriverManager().install())\n",
    "driver.get('http://curia.europa.eu/juris/documents.jsf?oqp=&for=&mat=or&jge=&td=%3B%3B%3BPUB1%3B%3B%3B%3BORDALL&jur=C%2CT%2CF&etat=clot&page=1&dates=&pcs=Oor&lg=&pro=&nat=or&cit=none%252CC%252CCJ%252CR%252C2008E%252C%252C%252C%252C%252C%252C%252C%252C%252C%252Ctrue%252Cfalse%252Cfalse&language=et&avg=&cid=5403783')\n",
    "driver.maximize_window()\n",
    "\n",
    "toolTip = WebDriverWait(driver, 10).until(EC.presence_of_element_located((By.XPATH, '//*[@id=\"listeDocuments\"]/div/table/tbody/tr[1]/td[6]/table/tbody/tr/td[2]')))\n",
    "hov = ActionChains(driver).move_to_element(toolTip)\n",
    "txt = hov.perform()\n",
    "\n",
    "tooltip_elem=WebDriverWait(driver, 10).until(EC.presence_of_element_located((By.XPATH, '//*[@id=\"mainForm:j_id70:0:j_id138:2\"]')))\n",
    "first_link=tooltip_elem.find_element_by_css_selector('a').get_attribute('href')\n",
    "#go to that page\n",
    "driver.get(first_link)"
   ]
  },
  {
   "cell_type": "code",
   "execution_count": 36,
   "metadata": {},
   "outputs": [],
   "source": [
    "links=[]\n",
    "for i in range(3):\n",
    "    #fond doc menu\n",
    "    a = driver.find_elements_by_class_name(\"menu_documents\")\n",
    "    #get elemnts with kohtulahendid\n",
    "    docs=a[0].find_elements_by_css_selector('a')#.get_attribute('href')\n",
    "    #get links\n",
    "    for doc in docs:\n",
    "        links.append(doc.get_attribute('href'))\n",
    "    # get button to next page\n",
    "    btns_navi=driver.find_elements_by_class_name(\"btn_navigation\")\n",
    "    for btn in btns_navi:\n",
    "    #     print(btn.get_attribute(\"alt\"))\n",
    "        if btn.get_attribute(\"alt\")=='Järgmine lehekülg':\n",
    "            btn_next_page=btn\n",
    "\n",
    "    btn_next_page.click()"
   ]
  },
  {
   "cell_type": "code",
   "execution_count": 40,
   "metadata": {},
   "outputs": [
    {
     "data": {
      "text/plain": [
       "(40, 35)"
      ]
     },
     "execution_count": 40,
     "metadata": {},
     "output_type": "execute_result"
    }
   ],
   "source": [
    "len(links), len(set(links))"
   ]
  },
  {
   "cell_type": "code",
   "execution_count": null,
   "metadata": {},
   "outputs": [],
   "source": []
  }
 ],
 "metadata": {
  "kernelspec": {
   "display_name": "Python 3",
   "language": "python",
   "name": "python3"
  },
  "language_info": {
   "codemirror_mode": {
    "name": "ipython",
    "version": 3
   },
   "file_extension": ".py",
   "mimetype": "text/x-python",
   "name": "python",
   "nbconvert_exporter": "python",
   "pygments_lexer": "ipython3",
   "version": "3.7.4"
  }
 },
 "nbformat": 4,
 "nbformat_minor": 2
}
