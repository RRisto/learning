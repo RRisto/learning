{
 "cells": [
  {
   "cell_type": "code",
   "execution_count": 1,
   "id": "c617f3dc",
   "metadata": {},
   "outputs": [],
   "source": [
    "import os\n",
    "from collections import Counter\n",
    "from pathlib import Path\n",
    "import numpy as np\n",
    "import pandas as pd\n",
    "import matplotlib.pyplot as plt"
   ]
  },
  {
   "cell_type": "markdown",
   "id": "941221ac",
   "metadata": {},
   "source": [
    "## Read data"
   ]
  },
  {
   "cell_type": "code",
   "execution_count": 2,
   "id": "b350e8fa",
   "metadata": {},
   "outputs": [],
   "source": [
    "DATA_PATH='data/raw/'\n",
    "files=[fl for fl in os.listdir(DATA_PATH) if fl.endswith('.txt')]\n",
    "\n",
    "txt=''\n",
    "for fl in files:\n",
    "    txt_=Path(DATA_PATH+fl).read_text().lower()\n",
    "    \n",
    "    txt_=txt_.replace('\\n', '').replace('.', ' ').replace(',', ' ').replace('!', ' ').\\\n",
    "    replace('?', ' ').replace(':', ' ').replace(';', ' ').replace('™', ' ').replace('¶', ' ').\\\n",
    "    replace('(', ' ').replace(')', ' ').replace(']', ' ').replace('[', ' ').replace('„', ' ').\\\n",
    "    replace('“', ' ').replace('•', ' ').replace('¼', ' ').replace('¤', ' ')\n",
    "    txt=f'{txt} {txt_}'"
   ]
  },
  {
   "cell_type": "code",
   "execution_count": 3,
   "id": "3940400d",
   "metadata": {},
   "outputs": [
    {
     "data": {
      "text/plain": [
       "' see oli l'"
      ]
     },
     "execution_count": 3,
     "metadata": {},
     "output_type": "execute_result"
    }
   ],
   "source": [
    "txt[:10]"
   ]
  },
  {
   "cell_type": "markdown",
   "id": "2ef5239a",
   "metadata": {},
   "source": [
    "## Count char freq"
   ]
  },
  {
   "cell_type": "code",
   "execution_count": 4,
   "id": "307b86b4",
   "metadata": {},
   "outputs": [
    {
     "data": {
      "text/plain": [
       "3572"
      ]
     },
     "execution_count": 4,
     "metadata": {},
     "output_type": "execute_result"
    }
   ],
   "source": [
    "cnt=Counter(txt.split())\n",
    "len(cnt)"
   ]
  },
  {
   "cell_type": "code",
   "execution_count": 5,
   "id": "43827e83",
   "metadata": {},
   "outputs": [
    {
     "data": {
      "text/html": [
       "<div>\n",
       "<style scoped>\n",
       "    .dataframe tbody tr th:only-of-type {\n",
       "        vertical-align: middle;\n",
       "    }\n",
       "\n",
       "    .dataframe tbody tr th {\n",
       "        vertical-align: top;\n",
       "    }\n",
       "\n",
       "    .dataframe thead th {\n",
       "        text-align: right;\n",
       "    }\n",
       "</style>\n",
       "<table border=\"1\" class=\"dataframe\">\n",
       "  <thead>\n",
       "    <tr style=\"text-align: right;\">\n",
       "      <th></th>\n",
       "      <th>token</th>\n",
       "      <th>count</th>\n",
       "      <th>prob</th>\n",
       "      <th>count_log</th>\n",
       "      <th>prob_log</th>\n",
       "    </tr>\n",
       "  </thead>\n",
       "  <tbody>\n",
       "    <tr>\n",
       "      <th>0</th>\n",
       "      <td>ã</td>\n",
       "      <td>452</td>\n",
       "      <td>0.037573</td>\n",
       "      <td>6.113682</td>\n",
       "      <td>-3.281477</td>\n",
       "    </tr>\n",
       "    <tr>\n",
       "      <th>1</th>\n",
       "      <td>ja</td>\n",
       "      <td>310</td>\n",
       "      <td>0.025769</td>\n",
       "      <td>5.736572</td>\n",
       "      <td>-3.658587</td>\n",
       "    </tr>\n",
       "    <tr>\n",
       "      <th>2</th>\n",
       "      <td>ta</td>\n",
       "      <td>192</td>\n",
       "      <td>0.015960</td>\n",
       "      <td>5.257495</td>\n",
       "      <td>-4.137663</td>\n",
       "    </tr>\n",
       "    <tr>\n",
       "      <th>3</th>\n",
       "      <td>kã</td>\n",
       "      <td>185</td>\n",
       "      <td>0.015378</td>\n",
       "      <td>5.220356</td>\n",
       "      <td>-4.174803</td>\n",
       "    </tr>\n",
       "    <tr>\n",
       "      <th>4</th>\n",
       "      <td>â€œ</td>\n",
       "      <td>156</td>\n",
       "      <td>0.012968</td>\n",
       "      <td>5.049856</td>\n",
       "      <td>-4.345303</td>\n",
       "    </tr>\n",
       "  </tbody>\n",
       "</table>\n",
       "</div>"
      ],
      "text/plain": [
       "  token  count      prob  count_log  prob_log\n",
       "0     ã    452  0.037573   6.113682 -3.281477\n",
       "1    ja    310  0.025769   5.736572 -3.658587\n",
       "2    ta    192  0.015960   5.257495 -4.137663\n",
       "3    kã    185  0.015378   5.220356 -4.174803\n",
       "4   â€œ    156  0.012968   5.049856 -4.345303"
      ]
     },
     "execution_count": 5,
     "metadata": {},
     "output_type": "execute_result"
    }
   ],
   "source": [
    "df_cnt=pd.DataFrame(cnt.most_common(len(cnt)))\n",
    "df_cnt.columns=['token', 'count']\n",
    "df_cnt['prob']=np.divide(df_cnt['count'], df_cnt['count'].sum())\n",
    "df_cnt['count_log']=np.log(df_cnt['count'])\n",
    "df_cnt['prob_log']=np.log(df_cnt['prob'])\n",
    "df_cnt.head()"
   ]
  },
  {
   "cell_type": "code",
   "execution_count": 6,
   "id": "71e00c34",
   "metadata": {},
   "outputs": [
    {
     "data": {
      "text/plain": [
       "<AxesSubplot:>"
      ]
     },
     "execution_count": 6,
     "metadata": {},
     "output_type": "execute_result"
    },
    {
     "data": {
      "image/png": "[encoded data removed]",
      "text/plain": [
       "<Figure size 432x288 with 1 Axes>"
      ]
     },
     "metadata": {
      "needs_background": "light"
     },
     "output_type": "display_data"
    }
   ],
   "source": [
    "df_cnt['count'].plot()"
   ]
  },
  {
   "cell_type": "code",
   "execution_count": 7,
   "id": "936cc372",
   "metadata": {},
   "outputs": [
    {
     "data": {
      "text/plain": [
       "<AxesSubplot:>"
      ]
     },
     "execution_count": 7,
     "metadata": {},
     "output_type": "execute_result"
    },
    {
     "data": {
      "image/png": "[encoded data removed]",
      "text/plain": [
       "<Figure size 432x288 with 1 Axes>"
      ]
     },
     "metadata": {
      "needs_background": "light"
     },
     "output_type": "display_data"
    }
   ],
   "source": [
    "df_cnt['prob'].plot()"
   ]
  },
  {
   "cell_type": "code",
   "execution_count": 8,
   "id": "59ac68ac",
   "metadata": {},
   "outputs": [
    {
     "data": {
      "text/plain": [
       "<AxesSubplot:>"
      ]
     },
     "execution_count": 8,
     "metadata": {},
     "output_type": "execute_result"
    },
    {
     "data": {
      "image/png": "[encoded data removed]",
      "text/plain": [
       "<Figure size 432x288 with 1 Axes>"
      ]
     },
     "metadata": {
      "needs_background": "light"
     },
     "output_type": "display_data"
    }
   ],
   "source": [
    "df_cnt['count_log'].plot()"
   ]
  },
  {
   "cell_type": "code",
   "execution_count": 9,
   "id": "95054dbc",
   "metadata": {},
   "outputs": [
    {
     "data": {
      "text/plain": [
       "<AxesSubplot:>"
      ]
     },
     "execution_count": 9,
     "metadata": {},
     "output_type": "execute_result"
    },
    {
     "data": {
      "image/png": "[encoded data removed]",
      "text/plain": [
       "<Figure size 432x288 with 1 Axes>"
      ]
     },
     "metadata": {
      "needs_background": "light"
     },
     "output_type": "display_data"
    }
   ],
   "source": [
    "df_cnt['prob_log'].plot()"
   ]
  },
  {
   "cell_type": "code",
   "execution_count": 10,
   "id": "07214582",
   "metadata": {},
   "outputs": [
    {
     "data": {
      "text/plain": [
       "<AxesSubplot:xlabel='count_log', ylabel='prob_log'>"
      ]
     },
     "execution_count": 10,
     "metadata": {},
     "output_type": "execute_result"
    },
    {
     "data": {
      "image/png": "[encoded data removed]",
      "text/plain": [
       "<Figure size 432x288 with 1 Axes>"
      ]
     },
     "metadata": {
      "needs_background": "light"
     },
     "output_type": "display_data"
    }
   ],
   "source": [
    "df_cnt.plot.scatter('count_log','prob_log')"
   ]
  },
  {
   "cell_type": "code",
   "execution_count": 11,
   "id": "1a4b1291",
   "metadata": {},
   "outputs": [
    {
     "data": {
      "image/png": "[encoded data removed]",
      "text/plain": [
       "<Figure size 432x288 with 1 Axes>"
      ]
     },
     "metadata": {
      "needs_background": "light"
     },
     "output_type": "display_data"
    }
   ],
   "source": [
    "counter_of_words = Counter(txt.split())\n",
    "counter_of_counts = Counter(counter_of_words.values())\n",
    "word_counts = np.array(list(counter_of_counts.keys()))\n",
    "freq_of_word_counts = np.array(list(counter_of_counts.values()))\n",
    "plt.scatter(np.log(word_counts), np.log(freq_of_word_counts))\n",
    "plt.xlabel('Log of word frequency')\n",
    "plt.ylabel('Log of number of such words')\n",
    "plt.title('Power law for word frequencies')\n",
    "plt.show();"
   ]
  },
  {
   "cell_type": "code",
   "execution_count": 12,
   "id": "3c12065b",
   "metadata": {},
   "outputs": [
    {
     "data": {
      "text/plain": [
       "<matplotlib.collections.PathCollection at 0x246576a3c10>"
      ]
     },
     "execution_count": 12,
     "metadata": {},
     "output_type": "execute_result"
    },
    {
     "data": {
      "image/png": "[encoded data removed]",
      "text/plain": [
       "<Figure size 432x288 with 1 Axes>"
      ]
     },
     "metadata": {
      "needs_background": "light"
     },
     "output_type": "display_data"
    }
   ],
   "source": [
    "plt.scatter(word_counts, freq_of_word_counts)"
   ]
  },
  {
   "cell_type": "markdown",
   "id": "c0717c7e",
   "metadata": {},
   "source": [
    "## Estimate slope"
   ]
  },
  {
   "cell_type": "code",
   "execution_count": 13,
   "id": "521a79cd",
   "metadata": {},
   "outputs": [
    {
     "name": "stdout",
     "output_type": "stream",
     "text": [
      "0.8792971547915152\n"
     ]
    }
   ],
   "source": [
    "def neg_zipf_likelihood(s):\n",
    "    n = sum(freq_of_word_counts)\n",
    "    # for each word count, find the probability that a random word has such word count\n",
    "    probas = word_counts ** (-s) / np.sum(np.arange(1, n+1) **(-s))\n",
    "    log_likelihood = sum(np.log(probas) * word_counts)\n",
    "    return -log_likelihood\n",
    "\n",
    "from scipy.optimize import minimize_scalar\n",
    "s_best = minimize_scalar(neg_zipf_likelihood, [0.1, 3.0] )\n",
    "print(s_best.x)"
   ]
  },
  {
   "cell_type": "markdown",
   "id": "f644cba9",
   "metadata": {},
   "source": [
    "## Exponential vs power law"
   ]
  },
  {
   "cell_type": "code",
   "execution_count": 30,
   "id": "0e096453",
   "metadata": {},
   "outputs": [],
   "source": [
    "x=np.arange(1, 1000)[::-1]\n",
    "const=3\n",
    "y_p=0.000003*x**const\n",
    "y_e=1.01**x"
   ]
  },
  {
   "cell_type": "code",
   "execution_count": 31,
   "id": "bab6fbcc",
   "metadata": {},
   "outputs": [
    {
     "data": {
      "text/plain": [
       "[<matplotlib.lines.Line2D at 0x246592d0be0>]"
      ]
     },
     "execution_count": 31,
     "metadata": {},
     "output_type": "execute_result"
    },
    {
     "data": {
      "image/png": "[encoded data removed]",
      "text/plain": [
       "<Figure size 432x288 with 1 Axes>"
      ]
     },
     "metadata": {
      "needs_background": "light"
     },
     "output_type": "display_data"
    }
   ],
   "source": [
    "plt.plot(y_p)"
   ]
  },
  {
   "cell_type": "code",
   "execution_count": 23,
   "id": "bb8e10d4",
   "metadata": {},
   "outputs": [
    {
     "data": {
      "text/plain": [
       "[<matplotlib.lines.Line2D at 0x24658172f70>]"
      ]
     },
     "execution_count": 23,
     "metadata": {},
     "output_type": "execute_result"
    },
    {
     "data": {
      "image/png": "[encoded data removed]",
      "text/plain": [
       "<Figure size 432x288 with 1 Axes>"
      ]
     },
     "metadata": {
      "needs_background": "light"
     },
     "output_type": "display_data"
    }
   ],
   "source": [
    "plt.plot(y_e)"
   ]
  },
  {
   "cell_type": "code",
   "execution_count": 17,
   "id": "0bfde2f7",
   "metadata": {},
   "outputs": [
    {
     "data": {
      "text/plain": [
       "[<matplotlib.lines.Line2D at 0x24658070280>]"
      ]
     },
     "execution_count": 17,
     "metadata": {},
     "output_type": "execute_result"
    },
    {
     "data": {
      "image/png": "[encoded data removed]",
      "text/plain": [
       "<Figure size 432x288 with 1 Axes>"
      ]
     },
     "metadata": {
      "needs_background": "light"
     },
     "output_type": "display_data"
    }
   ],
   "source": [
    "plt.plot(y_p, color='red')\n",
    "plt.plot(y_e, color='blue')"
   ]
  },
  {
   "cell_type": "code",
   "execution_count": 18,
   "id": "425df610",
   "metadata": {},
   "outputs": [
    {
     "data": {
      "text/plain": [
       "[<matplotlib.lines.Line2D at 0x246580da250>]"
      ]
     },
     "execution_count": 18,
     "metadata": {},
     "output_type": "execute_result"
    },
    {
     "data": {
      "image/png": "[encoded data removed]",
      "text/plain": [
       "<Figure size 432x288 with 1 Axes>"
      ]
     },
     "metadata": {
      "needs_background": "light"
     },
     "output_type": "display_data"
    }
   ],
   "source": [
    "plt.plot(np.log(y_p), color='red')\n",
    "plt.plot(np.log(y_e), color='blue')"
   ]
  },
  {
   "cell_type": "code",
   "execution_count": 19,
   "id": "be39f97f",
   "metadata": {},
   "outputs": [
    {
     "data": {
      "text/plain": [
       "[<matplotlib.lines.Line2D at 0x24658140160>]"
      ]
     },
     "execution_count": 19,
     "metadata": {},
     "output_type": "execute_result"
    },
    {
     "data": {
      "image/png": "[encoded data removed]",
      "text/plain": [
       "<Figure size 432x288 with 1 Axes>"
      ]
     },
     "metadata": {
      "needs_background": "light"
     },
     "output_type": "display_data"
    }
   ],
   "source": [
    "plt.plot(np.log(x)[::-1], np.log(y_p), color='red')\n",
    "plt.plot(np.log(x)[::-1], np.log(y_e), color='blue')"
   ]
  },
  {
   "cell_type": "code",
   "execution_count": 20,
   "id": "2e2e5b98",
   "metadata": {},
   "outputs": [
    {
     "data": {
      "text/plain": [
       "array([0.        , 0.69314718, 1.09861229, 1.38629436, 1.60943791,\n",
       "       1.79175947, 1.94591015, 2.07944154, 2.19722458, 2.30258509,\n",
       "       2.39789527, 2.48490665, 2.56494936, 2.63905733, 2.7080502 ,\n",
       "       2.77258872, 2.83321334, 2.89037176, 2.94443898, 2.99573227,\n",
       "       3.04452244, 3.09104245, 3.13549422, 3.17805383, 3.21887582,\n",
       "       3.25809654, 3.29583687, 3.33220451, 3.36729583, 3.40119738,\n",
       "       3.4339872 , 3.4657359 , 3.49650756, 3.52636052, 3.55534806,\n",
       "       3.58351894, 3.61091791, 3.63758616, 3.66356165, 3.68887945,\n",
       "       3.71357207, 3.73766962, 3.76120012, 3.78418963, 3.80666249,\n",
       "       3.8286414 , 3.8501476 , 3.87120101, 3.8918203 , 3.91202301,\n",
       "       3.93182563, 3.95124372, 3.97029191, 3.98898405, 4.00733319,\n",
       "       4.02535169, 4.04305127, 4.06044301, 4.07753744, 4.09434456,\n",
       "       4.11087386, 4.12713439, 4.14313473, 4.15888308, 4.17438727,\n",
       "       4.18965474, 4.20469262, 4.21950771, 4.2341065 , 4.24849524,\n",
       "       4.26267988, 4.27666612, 4.29045944, 4.30406509, 4.31748811,\n",
       "       4.33073334, 4.34380542, 4.35670883, 4.36944785, 4.38202663,\n",
       "       4.39444915, 4.40671925, 4.41884061, 4.4308168 , 4.44265126,\n",
       "       4.4543473 , 4.46590812, 4.47733681, 4.48863637, 4.49980967,\n",
       "       4.51085951, 4.52178858, 4.53259949, 4.54329478, 4.55387689,\n",
       "       4.56434819, 4.57471098, 4.58496748, 4.59511985])"
      ]
     },
     "execution_count": 20,
     "metadata": {},
     "output_type": "execute_result"
    }
   ],
   "source": [
    "np.log(x)[::-1]"
   ]
  },
  {
   "cell_type": "markdown",
   "id": "48073c55",
   "metadata": {},
   "source": [
    "## Example: https://notebook.community/puolival/power-law/powerlaw"
   ]
  },
  {
   "cell_type": "code",
   "execution_count": 32,
   "id": "da846498",
   "metadata": {},
   "outputs": [],
   "source": [
    "def random(size=1, xmin=1, alpha=1.5):\n",
    "    \"\"\"Draw random numbers from a power-law distribution using the inverse\n",
    "    random sampling method.\n",
    "\n",
    "    Input arguments:\n",
    "    size  - Sample size\n",
    "    xmin  - Minimum value for which the power-law holds\n",
    "    alpha - Scaling exponent of the power-law distribution\n",
    "    \"\"\"\n",
    "    rvs = np.random.random(size=size)\n",
    "    return float(xmin) * (1.-rvs) ** (-1. / (float(alpha)-1.))"
   ]
  },
  {
   "cell_type": "code",
   "execution_count": 81,
   "id": "3266e163",
   "metadata": {},
   "outputs": [
    {
     "data": {
      "text/plain": [
       "-0.6666666666666666"
      ]
     },
     "execution_count": 81,
     "metadata": {},
     "output_type": "execute_result"
    }
   ],
   "source": [
    "-1. / (float(2.5)-1.)"
   ]
  },
  {
   "cell_type": "code",
   "execution_count": 34,
   "id": "f4335460",
   "metadata": {},
   "outputs": [
    {
     "data": {
      "image/png": "[encoded data removed]",
      "text/plain": [
       "<Figure size 1152x216 with 1 Axes>"
      ]
     },
     "metadata": {
      "needs_background": "light"
     },
     "output_type": "display_data"
    }
   ],
   "source": [
    "rvs = random(size=1000, xmin=1, alpha=2.5)\n",
    "plt.figure(figsize=(16, 3)); \n",
    "plt.plot(rvs); \n",
    "plt.show()"
   ]
  },
  {
   "cell_type": "code",
   "execution_count": 35,
   "id": "6150d811",
   "metadata": {},
   "outputs": [],
   "source": [
    "def plot_ccdf(rvs):\n",
    "    \"\"\"Plot complementary cumulative distribution function (CCDF) of\n",
    "    a possibly power-law distributed sample.\n",
    "\n",
    "    Input arguments:\n",
    "    rvs   - Analyzed random sample\n",
    "    \"\"\"\n",
    "    # Calculate complementary CDF\n",
    "    n = np.size(rvs)\n",
    "    xcdf, ycdf = np.sort(rvs), np.arange(n, 0, -1) / float(n)\n",
    "\n",
    "    # Visualize the CDF\n",
    "    fig = plt.figure(figsize=(8, 6))\n",
    "    ax1 = fig.add_subplot(111)\n",
    "    ax1.loglog(xcdf, ycdf, 'o', fillstyle='none')\n",
    "\n",
    "def mle_alpha(rvs, xmin):\n",
    "    \"\"\"Maximum likelihood (ML) estimate of the scaling parameter\n",
    "    alpha.\"\"\"\n",
    "    # Select observation larger than or equal to xmin\n",
    "    rvs = rvs[rvs>=xmin]\n",
    "    n = np.size(rvs)\n",
    "\n",
    "    return 1. + n * (1. / np.sum(np.log(rvs / float(xmin))))"
   ]
  },
  {
   "cell_type": "code",
   "execution_count": 36,
   "id": "cd878c97",
   "metadata": {},
   "outputs": [
    {
     "data": {
      "image/png": "[encoded data removed]",
      "text/plain": [
       "<Figure size 576x432 with 1 Axes>"
      ]
     },
     "metadata": {
      "needs_background": "light"
     },
     "output_type": "display_data"
    }
   ],
   "source": [
    "plot_ccdf(rvs)"
   ]
  },
  {
   "cell_type": "code",
   "execution_count": 69,
   "id": "7f334096",
   "metadata": {},
   "outputs": [
    {
     "name": "stderr",
     "output_type": "stream",
     "text": [
      "C:\\Users\\RistoHinno\\AppData\\Local\\Temp\\ipykernel_31564\\3915412209.py:1: RuntimeWarning: divide by zero encountered in log\n",
      "  plt.plot(np.log(np.sort(rvs)), np.log((np.array(list(range(len(rvs))))/len(rvs))[::-1]), 'bo')\n"
     ]
    },
    {
     "data": {
      "text/plain": [
       "[<matplotlib.lines.Line2D at 0x2465bb01640>]"
      ]
     },
     "execution_count": 69,
     "metadata": {},
     "output_type": "execute_result"
    },
    {
     "data": {
      "image/png": "[encoded data removed]",
      "text/plain": [
       "<Figure size 432x288 with 1 Axes>"
      ]
     },
     "metadata": {
      "needs_background": "light"
     },
     "output_type": "display_data"
    }
   ],
   "source": [
    "plt.plot(np.log(np.sort(rvs)), np.log((np.array(list(range(len(rvs))))/len(rvs))[::-1]), 'bo')"
   ]
  },
  {
   "cell_type": "code",
   "execution_count": 49,
   "id": "a218692a",
   "metadata": {},
   "outputs": [
    {
     "data": {
      "text/plain": [
       "2.5115394387429877"
      ]
     },
     "execution_count": 49,
     "metadata": {},
     "output_type": "execute_result"
    }
   ],
   "source": [
    "#scaling parameter\n",
    "mle_alpha(rvs, xmin=1)"
   ]
  },
  {
   "cell_type": "code",
   "execution_count": 72,
   "id": "ea4ba740",
   "metadata": {},
   "outputs": [
    {
     "data": {
      "text/plain": [
       "1014.4448362044759"
      ]
     },
     "execution_count": 72,
     "metadata": {},
     "output_type": "execute_result"
    }
   ],
   "source": [
    "rvs.max()"
   ]
  },
  {
   "cell_type": "code",
   "execution_count": 73,
   "id": "e2209f6a",
   "metadata": {},
   "outputs": [
    {
     "data": {
      "text/plain": [
       "1.0002929732930939"
      ]
     },
     "execution_count": 73,
     "metadata": {},
     "output_type": "execute_result"
    }
   ],
   "source": [
    "rvs.min()"
   ]
  },
  {
   "cell_type": "code",
   "execution_count": 75,
   "id": "b4de0fb0",
   "metadata": {},
   "outputs": [
    {
     "data": {
      "text/plain": [
       "array([2.92930385e-04, 3.82171329e-04, 1.31438841e-03, 1.63384990e-03,\n",
       "       2.34737202e-03, 2.67921067e-03, 3.14006219e-03, 6.26554122e-03,\n",
       "       6.37898184e-03, 6.38181508e-03, 6.60857105e-03, 7.87555803e-03,\n",
       "       8.85893326e-03, 9.36957219e-03, 9.66699852e-03, 9.95025644e-03,\n",
       "       1.10547661e-02, 1.22839359e-02, 1.27661050e-02, 1.45339069e-02,\n",
       "       1.48631581e-02, 1.48934230e-02, 1.60579618e-02, 1.64703770e-02,\n",
       "       1.73226610e-02, 1.74220247e-02, 1.78865123e-02, 1.84924690e-02,\n",
       "       1.92360570e-02, 1.97254004e-02, 1.98763380e-02, 2.15207064e-02,\n",
       "       2.44519711e-02, 2.50839752e-02, 2.65197419e-02, 2.76885099e-02,\n",
       "       2.76990025e-02, 2.89084828e-02, 2.92775788e-02, 2.96756789e-02,\n",
       "       2.97800814e-02, 2.98542629e-02, 3.12072918e-02, 3.14458894e-02,\n",
       "       3.15610202e-02, 3.29763164e-02, 3.35285778e-02, 3.36999680e-02,\n",
       "       3.46194083e-02, 3.48205869e-02, 3.75255902e-02, 3.79609292e-02,\n",
       "       3.94054647e-02, 4.11358139e-02, 4.17841649e-02, 4.21619021e-02,\n",
       "       4.29506974e-02, 4.37084858e-02, 4.38000308e-02, 4.39387414e-02,\n",
       "       4.51173408e-02, 4.57251226e-02, 4.60143676e-02, 4.60524389e-02,\n",
       "       4.75087519e-02, 4.84131208e-02, 4.84918420e-02, 4.96546656e-02,\n",
       "       5.07948235e-02, 5.10070699e-02, 5.13511926e-02, 5.13578053e-02,\n",
       "       5.15029771e-02, 5.19760793e-02, 5.20479359e-02, 5.28030272e-02,\n",
       "       5.34902659e-02, 5.35417495e-02, 5.39161814e-02, 5.44655268e-02,\n",
       "       5.48631880e-02, 5.53680092e-02, 5.56563913e-02, 5.75784930e-02,\n",
       "       5.78693705e-02, 5.79490364e-02, 5.86247064e-02, 5.87140181e-02,\n",
       "       6.01422308e-02, 6.02975016e-02, 6.07026080e-02, 6.09852456e-02,\n",
       "       6.14175829e-02, 6.16900350e-02, 6.18022062e-02, 6.24018109e-02,\n",
       "       6.37498685e-02, 6.40602665e-02, 6.41550396e-02, 6.44510434e-02,\n",
       "       6.46688058e-02, 6.52728173e-02, 6.58550525e-02, 6.59954261e-02,\n",
       "       6.62971014e-02, 6.63244287e-02, 6.68257754e-02, 6.69146166e-02,\n",
       "       6.78536046e-02, 6.80030576e-02, 6.85916769e-02, 7.03221242e-02,\n",
       "       7.11560746e-02, 7.12602652e-02, 7.13746501e-02, 7.23375125e-02,\n",
       "       7.25763045e-02, 7.27026662e-02, 7.28378076e-02, 7.35822832e-02,\n",
       "       7.36490309e-02, 7.37364451e-02, 7.38077189e-02, 7.59728412e-02,\n",
       "       7.79031358e-02, 7.91312135e-02, 7.92860035e-02, 8.02767217e-02,\n",
       "       8.13109917e-02, 8.17271658e-02, 8.20108391e-02, 8.22219573e-02,\n",
       "       8.26994151e-02, 8.30404113e-02, 8.30904330e-02, 8.39569543e-02,\n",
       "       8.47115948e-02, 8.77064173e-02, 8.80556035e-02, 8.80926228e-02,\n",
       "       8.84884052e-02, 8.89943991e-02, 8.90708480e-02, 8.91857843e-02,\n",
       "       9.02500297e-02, 9.04760527e-02, 9.05370055e-02, 9.10533904e-02,\n",
       "       9.12564297e-02, 9.16470507e-02, 9.17160776e-02, 9.29398517e-02,\n",
       "       9.31821813e-02, 9.50960818e-02, 9.78570403e-02, 9.79532873e-02,\n",
       "       9.87723986e-02, 1.00574844e-01, 1.01127788e-01, 1.02289295e-01,\n",
       "       1.04506450e-01, 1.07475441e-01, 1.07750659e-01, 1.08021114e-01,\n",
       "       1.08560309e-01, 1.08763056e-01, 1.09599211e-01, 1.10046041e-01,\n",
       "       1.10581926e-01, 1.11690469e-01, 1.11832381e-01, 1.16721143e-01,\n",
       "       1.18442079e-01, 1.18795967e-01, 1.18901739e-01, 1.20106563e-01,\n",
       "       1.21535185e-01, 1.22086930e-01, 1.22253501e-01, 1.22348082e-01,\n",
       "       1.23197918e-01, 1.23733355e-01, 1.24270131e-01, 1.25170753e-01,\n",
       "       1.25235145e-01, 1.25246789e-01, 1.25291672e-01, 1.25632169e-01,\n",
       "       1.27661248e-01, 1.27765448e-01, 1.28240405e-01, 1.28545047e-01,\n",
       "       1.31650030e-01, 1.31884970e-01, 1.31930361e-01, 1.32247105e-01,\n",
       "       1.32467592e-01, 1.32729719e-01, 1.33567170e-01, 1.33707356e-01,\n",
       "       1.33793231e-01, 1.34662286e-01, 1.34883042e-01, 1.35252673e-01,\n",
       "       1.35305584e-01, 1.35347951e-01, 1.36253254e-01, 1.36352186e-01,\n",
       "       1.36653258e-01, 1.37925055e-01, 1.39564272e-01, 1.40659131e-01,\n",
       "       1.42468368e-01, 1.42585099e-01, 1.42744690e-01, 1.44581423e-01,\n",
       "       1.44765378e-01, 1.45084002e-01, 1.45979110e-01, 1.46744975e-01,\n",
       "       1.47067879e-01, 1.47185605e-01, 1.47350899e-01, 1.47559744e-01,\n",
       "       1.48833197e-01, 1.49605307e-01, 1.49926155e-01, 1.52754521e-01,\n",
       "       1.54924893e-01, 1.56639186e-01, 1.57873427e-01, 1.59758675e-01,\n",
       "       1.61124112e-01, 1.61237645e-01, 1.61391934e-01, 1.61720464e-01,\n",
       "       1.62499343e-01, 1.62597742e-01, 1.65989489e-01, 1.66861092e-01,\n",
       "       1.67124545e-01, 1.69148779e-01, 1.71735368e-01, 1.72178242e-01,\n",
       "       1.74278215e-01, 1.74685010e-01, 1.75098349e-01, 1.76146571e-01,\n",
       "       1.76909784e-01, 1.77286217e-01, 1.77458136e-01, 1.77761583e-01,\n",
       "       1.78814200e-01, 1.80120062e-01, 1.81767587e-01, 1.82201980e-01,\n",
       "       1.82833913e-01, 1.83609921e-01, 1.83703401e-01, 1.84709787e-01,\n",
       "       1.84717537e-01, 1.85195687e-01, 1.86118282e-01, 1.86387672e-01,\n",
       "       1.90572780e-01, 1.90603386e-01, 1.91893560e-01, 1.92889997e-01,\n",
       "       1.93262073e-01, 1.93912460e-01, 1.95150547e-01, 1.96874075e-01,\n",
       "       1.97430274e-01, 1.97462488e-01, 1.98490204e-01, 1.99744032e-01,\n",
       "       2.00028519e-01, 2.01482752e-01, 2.04689390e-01, 2.06363336e-01,\n",
       "       2.09212893e-01, 2.10504949e-01, 2.10878917e-01, 2.11953344e-01,\n",
       "       2.12056661e-01, 2.12059004e-01, 2.12897967e-01, 2.12906778e-01,\n",
       "       2.14630688e-01, 2.15267265e-01, 2.15336656e-01, 2.16262731e-01,\n",
       "       2.17124369e-01, 2.18126433e-01, 2.20660087e-01, 2.21516401e-01,\n",
       "       2.21685199e-01, 2.22233423e-01, 2.22868496e-01, 2.22919295e-01,\n",
       "       2.23394788e-01, 2.23999614e-01, 2.24311265e-01, 2.25854643e-01,\n",
       "       2.26201321e-01, 2.27014960e-01, 2.28132934e-01, 2.28738846e-01,\n",
       "       2.31356030e-01, 2.31441163e-01, 2.31694050e-01, 2.31883320e-01,\n",
       "       2.32177446e-01, 2.32429078e-01, 2.32481694e-01, 2.32614238e-01,\n",
       "       2.32745759e-01, 2.32982761e-01, 2.34868419e-01, 2.35250380e-01,\n",
       "       2.35630751e-01, 2.37292826e-01, 2.37662580e-01, 2.37705948e-01,\n",
       "       2.40635994e-01, 2.40841086e-01, 2.41073724e-01, 2.42575378e-01,\n",
       "       2.43044892e-01, 2.43325701e-01, 2.43775186e-01, 2.44255388e-01,\n",
       "       2.44428945e-01, 2.45737767e-01, 2.46166751e-01, 2.48104279e-01,\n",
       "       2.48498099e-01, 2.50944036e-01, 2.51213439e-01, 2.52563300e-01,\n",
       "       2.54872257e-01, 2.55195026e-01, 2.55241396e-01, 2.55924505e-01,\n",
       "       2.56174601e-01, 2.56935945e-01, 2.59243294e-01, 2.61546993e-01,\n",
       "       2.63036556e-01, 2.63931858e-01, 2.64692211e-01, 2.64950753e-01,\n",
       "       2.65013023e-01, 2.67547008e-01, 2.69507257e-01, 2.69585451e-01,\n",
       "       2.71458050e-01, 2.73421052e-01, 2.74365318e-01, 2.74688121e-01,\n",
       "       2.75196699e-01, 2.76031553e-01, 2.77635976e-01, 2.81194695e-01,\n",
       "       2.81643341e-01, 2.82115753e-01, 2.84138198e-01, 2.84809876e-01,\n",
       "       2.85055708e-01, 2.85931551e-01, 2.87497828e-01, 2.92375148e-01,\n",
       "       2.92874901e-01, 2.94028514e-01, 2.94177636e-01, 2.94193601e-01,\n",
       "       2.95209483e-01, 2.96213262e-01, 2.96324358e-01, 2.98348938e-01,\n",
       "       2.98770939e-01, 2.99371933e-01, 2.99735713e-01, 3.00412918e-01,\n",
       "       3.01726971e-01, 3.02632341e-01, 3.03322882e-01, 3.04846122e-01,\n",
       "       3.05731230e-01, 3.06410214e-01, 3.06461916e-01, 3.08767222e-01,\n",
       "       3.09068715e-01, 3.09493886e-01, 3.09516026e-01, 3.09948945e-01,\n",
       "       3.10486862e-01, 3.10562188e-01, 3.10747193e-01, 3.12645570e-01,\n",
       "       3.13665772e-01, 3.15458380e-01, 3.16570777e-01, 3.17530535e-01,\n",
       "       3.18820696e-01, 3.19646264e-01, 3.20351822e-01, 3.20500985e-01,\n",
       "       3.22864818e-01, 3.23732747e-01, 3.25623365e-01, 3.27444349e-01,\n",
       "       3.30166375e-01, 3.30512423e-01, 3.32421888e-01, 3.34512733e-01,\n",
       "       3.37511351e-01, 3.37858955e-01, 3.38224571e-01, 3.39578175e-01,\n",
       "       3.40011540e-01, 3.41450638e-01, 3.44659722e-01, 3.45244718e-01,\n",
       "       3.45527941e-01, 3.47566065e-01, 3.48061230e-01, 3.49146764e-01,\n",
       "       3.51155328e-01, 3.51173001e-01, 3.52324645e-01, 3.52728361e-01,\n",
       "       3.52915463e-01, 3.54803101e-01, 3.55215628e-01, 3.55358128e-01,\n",
       "       3.55665568e-01, 3.55949932e-01, 3.56629400e-01, 3.58328065e-01,\n",
       "       3.59312089e-01, 3.59720098e-01, 3.59873022e-01, 3.62513845e-01,\n",
       "       3.62640408e-01, 3.63961743e-01, 3.64518754e-01, 3.64910329e-01,\n",
       "       3.65422293e-01, 3.66194278e-01, 3.68694004e-01, 3.70008695e-01,\n",
       "       3.70600634e-01, 3.74218633e-01, 3.78660611e-01, 3.78981921e-01,\n",
       "       3.81555004e-01, 3.82770297e-01, 3.84328631e-01, 3.86286093e-01,\n",
       "       3.86595454e-01, 3.90303966e-01, 3.91982522e-01, 3.92101986e-01,\n",
       "       3.92587254e-01, 3.93234173e-01, 3.95507675e-01, 3.95700944e-01,\n",
       "       3.97916876e-01, 3.98611058e-01, 3.98926583e-01, 4.00732805e-01,\n",
       "       4.00758399e-01, 4.01530305e-01, 4.02082226e-01, 4.03024305e-01,\n",
       "       4.03472239e-01, 4.06387521e-01, 4.07138449e-01, 4.07936659e-01,\n",
       "       4.08943976e-01, 4.10435221e-01, 4.11071277e-01, 4.14588244e-01,\n",
       "       4.16592470e-01, 4.18449163e-01, 4.18589138e-01, 4.18838202e-01,\n",
       "       4.19854389e-01, 4.23100303e-01, 4.23814803e-01, 4.24557424e-01,\n",
       "       4.27364353e-01, 4.28856074e-01, 4.29590374e-01, 4.30062100e-01,\n",
       "       4.30186934e-01, 4.30392987e-01, 4.31217139e-01, 4.31483180e-01,\n",
       "       4.31684730e-01, 4.31874661e-01, 4.31980885e-01, 4.32580709e-01,\n",
       "       4.33826674e-01, 4.36862123e-01, 4.36962739e-01, 4.37610244e-01,\n",
       "       4.37916650e-01, 4.40590235e-01, 4.42645053e-01, 4.43844917e-01,\n",
       "       4.43978645e-01, 4.44197522e-01, 4.44333671e-01, 4.46996301e-01,\n",
       "       4.47453645e-01, 4.47664003e-01, 4.50897838e-01, 4.51187656e-01,\n",
       "       4.52584112e-01, 4.53122685e-01, 4.54612099e-01, 4.55790534e-01,\n",
       "       4.57535187e-01, 4.57715580e-01, 4.60868428e-01, 4.62900424e-01,\n",
       "       4.66553640e-01, 4.68814517e-01, 4.68940140e-01, 4.71431356e-01,\n",
       "       4.75353616e-01, 4.76488324e-01, 4.77195092e-01, 4.77412909e-01,\n",
       "       4.77475395e-01, 4.77988975e-01, 4.79562528e-01, 4.81178699e-01,\n",
       "       4.81895065e-01, 4.83504447e-01, 4.84088100e-01, 4.89723195e-01,\n",
       "       4.89940966e-01, 4.90096085e-01, 4.91183486e-01, 4.92726321e-01,\n",
       "       4.94675179e-01, 4.97182883e-01, 4.98436194e-01, 5.02287489e-01,\n",
       "       5.04741908e-01, 5.05379413e-01, 5.06310089e-01, 5.07050588e-01,\n",
       "       5.07892311e-01, 5.10293703e-01, 5.10518878e-01, 5.11262583e-01,\n",
       "       5.11591988e-01, 5.13659263e-01, 5.13736633e-01, 5.15058231e-01,\n",
       "       5.15760861e-01, 5.20125878e-01, 5.22597304e-01, 5.24889139e-01,\n",
       "       5.25108977e-01, 5.25169173e-01, 5.26764759e-01, 5.29585498e-01,\n",
       "       5.29783843e-01, 5.29942945e-01, 5.30197986e-01, 5.30221673e-01,\n",
       "       5.34736664e-01, 5.36680560e-01, 5.36738470e-01, 5.38579307e-01,\n",
       "       5.39857308e-01, 5.40784210e-01, 5.40795357e-01, 5.43298036e-01,\n",
       "       5.49393099e-01, 5.50823400e-01, 5.52566251e-01, 5.52731661e-01,\n",
       "       5.52888976e-01, 5.57647995e-01, 5.60266164e-01, 5.63334367e-01,\n",
       "       5.63830132e-01, 5.64426132e-01, 5.66642073e-01, 5.68143464e-01,\n",
       "       5.70262638e-01, 5.78000363e-01, 5.78044019e-01, 5.84030506e-01,\n",
       "       5.84100291e-01, 5.86881248e-01, 5.90643949e-01, 5.91886526e-01,\n",
       "       5.92129468e-01, 5.96100816e-01, 5.97276649e-01, 5.98988881e-01,\n",
       "       5.99000505e-01, 5.99688378e-01, 6.02157138e-01, 6.05089324e-01,\n",
       "       6.05922410e-01, 6.06108941e-01, 6.06969853e-01, 6.07348602e-01,\n",
       "       6.07631928e-01, 6.10145828e-01, 6.11312871e-01, 6.13321437e-01,\n",
       "       6.15133506e-01, 6.16817838e-01, 6.19211045e-01, 6.22288659e-01,\n",
       "       6.23286462e-01, 6.24169127e-01, 6.24403545e-01, 6.27037650e-01,\n",
       "       6.27424753e-01, 6.27571642e-01, 6.28520871e-01, 6.30255579e-01,\n",
       "       6.30616318e-01, 6.37219822e-01, 6.41292791e-01, 6.41525650e-01,\n",
       "       6.42275118e-01, 6.42468565e-01, 6.44707535e-01, 6.48381984e-01,\n",
       "       6.48387677e-01, 6.49527551e-01, 6.49540158e-01, 6.49957010e-01,\n",
       "       6.50496850e-01, 6.55182390e-01, 6.55643591e-01, 6.55964107e-01,\n",
       "       6.61020519e-01, 6.62606907e-01, 6.63945944e-01, 6.64851341e-01,\n",
       "       6.65696154e-01, 6.67549492e-01, 6.68345437e-01, 6.70110255e-01,\n",
       "       6.70156879e-01, 6.70983991e-01, 6.72511627e-01, 6.73983172e-01,\n",
       "       6.77216783e-01, 6.79530303e-01, 6.79862955e-01, 6.82409909e-01,\n",
       "       6.86751149e-01, 6.88164838e-01, 6.93606353e-01, 6.94246988e-01,\n",
       "       6.94351246e-01, 6.97910443e-01, 6.99186784e-01, 7.04965409e-01,\n",
       "       7.06233595e-01, 7.07871766e-01, 7.09505806e-01, 7.09647303e-01,\n",
       "       7.10629425e-01, 7.17424948e-01, 7.22137476e-01, 7.26952931e-01,\n",
       "       7.30146749e-01, 7.35444266e-01, 7.38193094e-01, 7.39677093e-01,\n",
       "       7.45188820e-01, 7.46052090e-01, 7.46508395e-01, 7.49816824e-01,\n",
       "       7.50611855e-01, 7.54524176e-01, 7.54753373e-01, 7.57097440e-01,\n",
       "       7.64080331e-01, 7.65373268e-01, 7.65526802e-01, 7.66345081e-01,\n",
       "       7.67490636e-01, 7.67547449e-01, 7.74510972e-01, 7.78509580e-01,\n",
       "       7.78524895e-01, 7.95003331e-01, 8.01584214e-01, 8.04596553e-01,\n",
       "       8.05368936e-01, 8.11587455e-01, 8.11787471e-01, 8.17348390e-01,\n",
       "       8.19184330e-01, 8.20115083e-01, 8.23688707e-01, 8.29241343e-01,\n",
       "       8.31139553e-01, 8.33972905e-01, 8.34009443e-01, 8.34523183e-01,\n",
       "       8.36988965e-01, 8.38839104e-01, 8.39098723e-01, 8.39405201e-01,\n",
       "       8.41319734e-01, 8.42487516e-01, 8.45337222e-01, 8.47326551e-01,\n",
       "       8.48065933e-01, 8.49144377e-01, 8.50115366e-01, 8.51220143e-01,\n",
       "       8.52881572e-01, 8.53004487e-01, 8.54826807e-01, 8.56260926e-01,\n",
       "       8.60116314e-01, 8.60802588e-01, 8.63908410e-01, 8.64307882e-01,\n",
       "       8.66600613e-01, 8.66726769e-01, 8.66743523e-01, 8.71148415e-01,\n",
       "       8.82097672e-01, 8.82567466e-01, 8.86424747e-01, 8.87399821e-01,\n",
       "       8.89249491e-01, 8.93141042e-01, 8.99993530e-01, 9.03073106e-01,\n",
       "       9.07930949e-01, 9.10899498e-01, 9.15894270e-01, 9.26371059e-01,\n",
       "       9.26744507e-01, 9.28723455e-01, 9.30335850e-01, 9.31733966e-01,\n",
       "       9.33744849e-01, 9.36867494e-01, 9.36980266e-01, 9.39243124e-01,\n",
       "       9.45347933e-01, 9.51292010e-01, 9.53551841e-01, 9.57115235e-01,\n",
       "       9.65637552e-01, 9.67605185e-01, 9.68518123e-01, 9.74348909e-01,\n",
       "       9.80180315e-01, 9.81658791e-01, 9.88101887e-01, 9.93754615e-01,\n",
       "       9.95448893e-01, 1.00194128e+00, 1.00198668e+00, 1.00875614e+00,\n",
       "       1.00920699e+00, 1.01298521e+00, 1.01320002e+00, 1.01337499e+00,\n",
       "       1.01576237e+00, 1.01760248e+00, 1.02533525e+00, 1.02705846e+00,\n",
       "       1.03919551e+00, 1.04028474e+00, 1.04537345e+00, 1.04564086e+00,\n",
       "       1.04810469e+00, 1.05379675e+00, 1.05389981e+00, 1.05511022e+00,\n",
       "       1.06017045e+00, 1.06485010e+00, 1.06523120e+00, 1.06601919e+00,\n",
       "       1.06988244e+00, 1.07180690e+00, 1.07390512e+00, 1.07489309e+00,\n",
       "       1.07547281e+00, 1.07623520e+00, 1.07804336e+00, 1.07850938e+00,\n",
       "       1.07994541e+00, 1.08423584e+00, 1.08490965e+00, 1.08497612e+00,\n",
       "       1.08621168e+00, 1.09759061e+00, 1.09901523e+00, 1.09958873e+00,\n",
       "       1.10068766e+00, 1.10680004e+00, 1.10907971e+00, 1.11431919e+00,\n",
       "       1.11520206e+00, 1.11565426e+00, 1.11701622e+00, 1.12559954e+00,\n",
       "       1.12634487e+00, 1.13181364e+00, 1.13674798e+00, 1.13684306e+00,\n",
       "       1.14346896e+00, 1.14783897e+00, 1.14932605e+00, 1.15382896e+00,\n",
       "       1.15433298e+00, 1.15481563e+00, 1.15935360e+00, 1.16143175e+00,\n",
       "       1.16204652e+00, 1.16222936e+00, 1.17915954e+00, 1.18219020e+00,\n",
       "       1.18247056e+00, 1.18400228e+00, 1.19476443e+00, 1.19483418e+00,\n",
       "       1.19520248e+00, 1.19784656e+00, 1.20198700e+00, 1.20459216e+00,\n",
       "       1.21443484e+00, 1.22390965e+00, 1.22997160e+00, 1.23074857e+00,\n",
       "       1.23311017e+00, 1.23389606e+00, 1.23919367e+00, 1.25149547e+00,\n",
       "       1.26099340e+00, 1.27225156e+00, 1.27698957e+00, 1.27755782e+00,\n",
       "       1.28176705e+00, 1.28542863e+00, 1.29336308e+00, 1.31225596e+00,\n",
       "       1.31471571e+00, 1.32259167e+00, 1.32399707e+00, 1.33436747e+00,\n",
       "       1.34910409e+00, 1.34957938e+00, 1.35620065e+00, 1.35874507e+00,\n",
       "       1.35921448e+00, 1.36874497e+00, 1.37082041e+00, 1.37555850e+00,\n",
       "       1.37799703e+00, 1.37954856e+00, 1.39027099e+00, 1.39140600e+00,\n",
       "       1.39458637e+00, 1.39866965e+00, 1.41544902e+00, 1.41629469e+00,\n",
       "       1.41844680e+00, 1.41971302e+00, 1.43227735e+00, 1.43929106e+00,\n",
       "       1.43938917e+00, 1.45278256e+00, 1.45927562e+00, 1.46385280e+00,\n",
       "       1.47221113e+00, 1.47386413e+00, 1.47694430e+00, 1.48834038e+00,\n",
       "       1.49368047e+00, 1.50364603e+00, 1.50810118e+00, 1.51481123e+00,\n",
       "       1.52003589e+00, 1.52415807e+00, 1.54769020e+00, 1.55855757e+00,\n",
       "       1.56045560e+00, 1.56229462e+00, 1.56461295e+00, 1.57165236e+00,\n",
       "       1.59182413e+00, 1.60545628e+00, 1.60860123e+00, 1.61457367e+00,\n",
       "       1.61942442e+00, 1.62314041e+00, 1.62947721e+00, 1.63439641e+00,\n",
       "       1.63509631e+00, 1.64762074e+00, 1.64999449e+00, 1.65020874e+00,\n",
       "       1.65634366e+00, 1.65849770e+00, 1.65937893e+00, 1.66755406e+00,\n",
       "       1.66798412e+00, 1.67484113e+00, 1.72202242e+00, 1.73027468e+00,\n",
       "       1.75292485e+00, 1.75931404e+00, 1.78125293e+00, 1.78174913e+00,\n",
       "       1.79959485e+00, 1.81853246e+00, 1.81885902e+00, 1.83122006e+00,\n",
       "       1.83675196e+00, 1.85026205e+00, 1.85505292e+00, 1.85650236e+00,\n",
       "       1.86948516e+00, 1.87873451e+00, 1.88163185e+00, 1.88547096e+00,\n",
       "       1.90173705e+00, 1.90377823e+00, 1.91382105e+00, 1.92000465e+00,\n",
       "       1.92712627e+00, 1.93118491e+00, 1.93560038e+00, 1.95610511e+00,\n",
       "       1.95748247e+00, 1.96509396e+00, 1.96530011e+00, 1.98877059e+00,\n",
       "       1.99062830e+00, 2.00586563e+00, 2.06543587e+00, 2.07714790e+00,\n",
       "       2.10020680e+00, 2.10411016e+00, 2.11836272e+00, 2.12038887e+00,\n",
       "       2.12184012e+00, 2.13336541e+00, 2.13694761e+00, 2.15064550e+00,\n",
       "       2.15980606e+00, 2.17179498e+00, 2.18590121e+00, 2.21303878e+00,\n",
       "       2.22308416e+00, 2.22337492e+00, 2.23636465e+00, 2.29418423e+00,\n",
       "       2.35192669e+00, 2.37803572e+00, 2.44999525e+00, 2.49160292e+00,\n",
       "       2.50093710e+00, 2.51403197e+00, 2.54918211e+00, 2.55104597e+00,\n",
       "       2.66179292e+00, 2.66435490e+00, 2.74069989e+00, 2.78887313e+00,\n",
       "       3.07083433e+00, 3.08209052e+00, 3.09820848e+00, 3.11351566e+00,\n",
       "       3.13511104e+00, 3.23195477e+00, 3.76873406e+00, 3.89074363e+00,\n",
       "       4.04412693e+00, 4.05241105e+00, 4.41369320e+00, 4.58214595e+00,\n",
       "       4.64879608e+00, 5.02639163e+00, 5.17211894e+00, 6.92209678e+00])"
      ]
     },
     "execution_count": 75,
     "metadata": {},
     "output_type": "execute_result"
    }
   ],
   "source": [
    "np.log(np.sort(rvs))"
   ]
  },
  {
   "cell_type": "code",
   "execution_count": 76,
   "id": "f33d40c9",
   "metadata": {},
   "outputs": [
    {
     "data": {
      "text/plain": [
       "array([1.00029297e+00, 1.00038224e+00, 1.00131525e+00, 1.00163519e+00,\n",
       "       1.00235013e+00, 1.00268280e+00, 1.00314500e+00, 1.00628521e+00,\n",
       "       1.00639937e+00, 1.00640222e+00, 1.00663046e+00, 1.00790665e+00,\n",
       "       1.00889829e+00, 1.00941360e+00, 1.00971387e+00, 1.00999992e+00,\n",
       "       1.01111610e+00, 1.01235969e+00, 1.01284794e+00, 1.01464004e+00,\n",
       "       1.01497416e+00, 1.01500488e+00, 1.01618758e+00, 1.01660676e+00,\n",
       "       1.01747357e+00, 1.01757467e+00, 1.01804743e+00, 1.01866451e+00,\n",
       "       1.01942226e+00, 1.01992123e+00, 1.02007519e+00, 1.02175395e+00,\n",
       "       1.02475337e+00, 1.02540123e+00, 1.02687452e+00, 1.02807540e+00,\n",
       "       1.02808619e+00, 1.02933039e+00, 1.02971038e+00, 1.03012039e+00,\n",
       "       1.03022794e+00, 1.03030437e+00, 1.03169934e+00, 1.03194553e+00,\n",
       "       1.03206435e+00, 1.03352606e+00, 1.03409700e+00, 1.03427424e+00,\n",
       "       1.03522564e+00, 1.03543392e+00, 1.03823857e+00, 1.03869065e+00,\n",
       "       1.04019216e+00, 1.04199361e+00, 1.04266941e+00, 1.04306334e+00,\n",
       "       1.04388643e+00, 1.04467777e+00, 1.04477341e+00, 1.04491834e+00,\n",
       "       1.04615061e+00, 1.04678663e+00, 1.04708946e+00, 1.04712932e+00,\n",
       "       1.04865538e+00, 1.04960418e+00, 1.04968681e+00, 1.05090812e+00,\n",
       "       1.05210700e+00, 1.05233033e+00, 1.05269253e+00, 1.05269949e+00,\n",
       "       1.05285232e+00, 1.05335055e+00, 1.05342624e+00, 1.05422197e+00,\n",
       "       1.05494672e+00, 1.05500104e+00, 1.05539614e+00, 1.05597607e+00,\n",
       "       1.05639608e+00, 1.05692950e+00, 1.05723435e+00, 1.05926841e+00,\n",
       "       1.05957657e+00, 1.05966099e+00, 1.06037721e+00, 1.06047192e+00,\n",
       "       1.06198758e+00, 1.06215249e+00, 1.06258286e+00, 1.06288323e+00,\n",
       "       1.06334286e+00, 1.06363260e+00, 1.06375192e+00, 1.06438994e+00,\n",
       "       1.06582577e+00, 1.06615665e+00, 1.06625770e+00, 1.06657336e+00,\n",
       "       1.06680565e+00, 1.06745020e+00, 1.06807189e+00, 1.06822183e+00,\n",
       "       1.06854414e+00, 1.06857334e+00, 1.06910920e+00, 1.06920418e+00,\n",
       "       1.07020862e+00, 1.07036858e+00, 1.07099881e+00, 1.07285372e+00,\n",
       "       1.07374880e+00, 1.07386068e+00, 1.07398352e+00, 1.07501811e+00,\n",
       "       1.07527485e+00, 1.07541073e+00, 1.07555608e+00, 1.07635710e+00,\n",
       "       1.07642895e+00, 1.07652305e+00, 1.07659978e+00, 1.07893327e+00,\n",
       "       1.08101794e+00, 1.08234633e+00, 1.08251388e+00, 1.08358688e+00,\n",
       "       1.08470818e+00, 1.08515970e+00, 1.08546758e+00, 1.08569676e+00,\n",
       "       1.08621526e+00, 1.08658572e+00, 1.08664007e+00, 1.08758208e+00,\n",
       "       1.08840312e+00, 1.09166758e+00, 1.09204884e+00, 1.09208927e+00,\n",
       "       1.09252158e+00, 1.09307453e+00, 1.09315810e+00, 1.09328375e+00,\n",
       "       1.09444789e+00, 1.09469529e+00, 1.09476202e+00, 1.09532748e+00,\n",
       "       1.09554990e+00, 1.09597793e+00, 1.09605358e+00, 1.09739573e+00,\n",
       "       1.09766169e+00, 1.09976452e+00, 1.10280512e+00, 1.10291126e+00,\n",
       "       1.10381504e+00, 1.10580640e+00, 1.10641802e+00, 1.10770388e+00,\n",
       "       1.11016255e+00, 1.11346351e+00, 1.11377000e+00, 1.11407127e+00,\n",
       "       1.11467213e+00, 1.11489815e+00, 1.11583077e+00, 1.11632947e+00,\n",
       "       1.11692785e+00, 1.11816670e+00, 1.11832539e+00, 1.12380601e+00,\n",
       "       1.12574167e+00, 1.12614012e+00, 1.12625925e+00, 1.12761701e+00,\n",
       "       1.12922910e+00, 1.12985232e+00, 1.13004053e+00, 1.13014742e+00,\n",
       "       1.13110827e+00, 1.13171406e+00, 1.13232170e+00, 1.13334196e+00,\n",
       "       1.13341494e+00, 1.13342814e+00, 1.13347901e+00, 1.13386502e+00,\n",
       "       1.13616806e+00, 1.13628645e+00, 1.13682627e+00, 1.13717265e+00,\n",
       "       1.14070904e+00, 1.14097707e+00, 1.14102886e+00, 1.14139033e+00,\n",
       "       1.14164202e+00, 1.14194131e+00, 1.14289803e+00, 1.14305826e+00,\n",
       "       1.14315643e+00, 1.14415032e+00, 1.14440293e+00, 1.14482601e+00,\n",
       "       1.14488659e+00, 1.14493510e+00, 1.14597208e+00, 1.14608546e+00,\n",
       "       1.14643056e+00, 1.14788952e+00, 1.14977270e+00, 1.15103223e+00,\n",
       "       1.15311660e+00, 1.15325122e+00, 1.15343528e+00, 1.15555578e+00,\n",
       "       1.15576837e+00, 1.15613668e+00, 1.15717201e+00, 1.15805859e+00,\n",
       "       1.15843259e+00, 1.15856898e+00, 1.15876050e+00, 1.15900253e+00,\n",
       "       1.16047940e+00, 1.16137576e+00, 1.16174845e+00, 1.16503895e+00,\n",
       "       1.16757027e+00, 1.16957354e+00, 1.17101797e+00, 1.17322771e+00,\n",
       "       1.17483077e+00, 1.17496416e+00, 1.17514546e+00, 1.17553159e+00,\n",
       "       1.17644755e+00, 1.17656331e+00, 1.18056069e+00, 1.18159012e+00,\n",
       "       1.18190146e+00, 1.18429632e+00, 1.18736358e+00, 1.18788955e+00,\n",
       "       1.19038670e+00, 1.19087105e+00, 1.19136338e+00, 1.19261285e+00,\n",
       "       1.19352341e+00, 1.19397278e+00, 1.19417806e+00, 1.19454049e+00,\n",
       "       1.19579854e+00, 1.19736111e+00, 1.19933542e+00, 1.19985652e+00,\n",
       "       1.20061499e+00, 1.20154703e+00, 1.20165936e+00, 1.20286930e+00,\n",
       "       1.20287862e+00, 1.20345392e+00, 1.20456473e+00, 1.20488927e+00,\n",
       "       1.20994243e+00, 1.20997946e+00, 1.21154155e+00, 1.21274938e+00,\n",
       "       1.21320070e+00, 1.21399001e+00, 1.21549396e+00, 1.21759071e+00,\n",
       "       1.21826812e+00, 1.21830736e+00, 1.21956008e+00, 1.22109016e+00,\n",
       "       1.22143759e+00, 1.22321514e+00, 1.22714384e+00, 1.22919974e+00,\n",
       "       1.23270741e+00, 1.23430116e+00, 1.23476284e+00, 1.23609021e+00,\n",
       "       1.23621793e+00, 1.23622082e+00, 1.23725840e+00, 1.23726931e+00,\n",
       "       1.23940409e+00, 1.24019331e+00, 1.24027937e+00, 1.24142850e+00,\n",
       "       1.24249862e+00, 1.24374431e+00, 1.24689952e+00, 1.24796772e+00,\n",
       "       1.24817839e+00, 1.24886286e+00, 1.24965623e+00, 1.24971971e+00,\n",
       "       1.25031409e+00, 1.25107054e+00, 1.25146049e+00, 1.25339346e+00,\n",
       "       1.25382806e+00, 1.25484864e+00, 1.25625231e+00, 1.25701372e+00,\n",
       "       1.26030787e+00, 1.26041516e+00, 1.26073395e+00, 1.26097259e+00,\n",
       "       1.26134353e+00, 1.26166096e+00, 1.26172735e+00, 1.26189459e+00,\n",
       "       1.26206057e+00, 1.26235972e+00, 1.26474234e+00, 1.26522552e+00,\n",
       "       1.26570686e+00, 1.26781231e+00, 1.26828118e+00, 1.26833618e+00,\n",
       "       1.27205791e+00, 1.27231883e+00, 1.27261485e+00, 1.27452732e+00,\n",
       "       1.27512587e+00, 1.27548398e+00, 1.27605742e+00, 1.27667033e+00,\n",
       "       1.27689193e+00, 1.27856425e+00, 1.27911285e+00, 1.28159357e+00,\n",
       "       1.28209838e+00, 1.28523815e+00, 1.28558445e+00, 1.28732098e+00,\n",
       "       1.29029678e+00, 1.29071332e+00, 1.29077317e+00, 1.29165521e+00,\n",
       "       1.29197829e+00, 1.29296230e+00, 1.29594906e+00, 1.29893798e+00,\n",
       "       1.30087427e+00, 1.30203947e+00, 1.30302986e+00, 1.30336679e+00,\n",
       "       1.30344795e+00, 1.30675506e+00, 1.30931913e+00, 1.30942152e+00,\n",
       "       1.31187584e+00, 1.31445358e+00, 1.31569536e+00, 1.31612014e+00,\n",
       "       1.31678966e+00, 1.31788945e+00, 1.32000560e+00, 1.32471149e+00,\n",
       "       1.32530595e+00, 1.32593219e+00, 1.32861653e+00, 1.32950923e+00,\n",
       "       1.32983611e+00, 1.33100135e+00, 1.33308770e+00, 1.33960547e+00,\n",
       "       1.34027511e+00, 1.34182216e+00, 1.34202227e+00, 1.34204370e+00,\n",
       "       1.34340775e+00, 1.34475691e+00, 1.34490632e+00, 1.34763195e+00,\n",
       "       1.34820077e+00, 1.34901127e+00, 1.34950210e+00, 1.35041630e+00,\n",
       "       1.35219199e+00, 1.35341678e+00, 1.35435169e+00, 1.35641626e+00,\n",
       "       1.35761737e+00, 1.35853948e+00, 1.35860972e+00, 1.36174535e+00,\n",
       "       1.36215597e+00, 1.36273524e+00, 1.36276541e+00, 1.36335551e+00,\n",
       "       1.36408907e+00, 1.36419183e+00, 1.36444424e+00, 1.36703693e+00,\n",
       "       1.36843229e+00, 1.37088755e+00, 1.37241337e+00, 1.37373119e+00,\n",
       "       1.37550467e+00, 1.37664071e+00, 1.37761235e+00, 1.37781786e+00,\n",
       "       1.38107864e+00, 1.38227784e+00, 1.38489367e+00, 1.38741784e+00,\n",
       "       1.39119957e+00, 1.39168107e+00, 1.39434098e+00, 1.39725938e+00,\n",
       "       1.40145552e+00, 1.40194275e+00, 1.40245542e+00, 1.40435507e+00,\n",
       "       1.40496380e+00, 1.40698714e+00, 1.41150953e+00, 1.41233550e+00,\n",
       "       1.41273556e+00, 1.41561783e+00, 1.41631897e+00, 1.41785726e+00,\n",
       "       1.42070798e+00, 1.42073309e+00, 1.42237021e+00, 1.42294456e+00,\n",
       "       1.42321082e+00, 1.42589987e+00, 1.42648821e+00, 1.42669150e+00,\n",
       "       1.42713019e+00, 1.42753607e+00, 1.42850637e+00, 1.43093498e+00,\n",
       "       1.43234375e+00, 1.43292828e+00, 1.43314742e+00, 1.43693712e+00,\n",
       "       1.43711899e+00, 1.43901916e+00, 1.43982093e+00, 1.44038484e+00,\n",
       "       1.44112246e+00, 1.44223541e+00, 1.44584511e+00, 1.44774720e+00,\n",
       "       1.44860444e+00, 1.45385498e+00, 1.46032733e+00, 1.46079663e+00,\n",
       "       1.46456022e+00, 1.46634117e+00, 1.46862800e+00, 1.47150560e+00,\n",
       "       1.47196089e+00, 1.47742981e+00, 1.47991185e+00, 1.48008865e+00,\n",
       "       1.48080707e+00, 1.48176534e+00, 1.48513797e+00, 1.48542503e+00,\n",
       "       1.48872028e+00, 1.48975408e+00, 1.49022421e+00, 1.49291832e+00,\n",
       "       1.49295653e+00, 1.49410939e+00, 1.49493425e+00, 1.49634326e+00,\n",
       "       1.49701367e+00, 1.50138426e+00, 1.50251211e+00, 1.50371191e+00,\n",
       "       1.50522739e+00, 1.50747373e+00, 1.50843287e+00, 1.51374732e+00,\n",
       "       1.51678425e+00, 1.51960307e+00, 1.51981579e+00, 1.52019437e+00,\n",
       "       1.52173996e+00, 1.52668742e+00, 1.52777863e+00, 1.52891361e+00,\n",
       "       1.53321119e+00, 1.53550002e+00, 1.53662795e+00, 1.53735299e+00,\n",
       "       1.53754492e+00, 1.53786176e+00, 1.53912972e+00, 1.53953925e+00,\n",
       "       1.53984957e+00, 1.54014206e+00, 1.54030567e+00, 1.54122986e+00,\n",
       "       1.54315138e+00, 1.54784265e+00, 1.54799840e+00, 1.54900106e+00,\n",
       "       1.54947575e+00, 1.55362395e+00, 1.55681965e+00, 1.55868874e+00,\n",
       "       1.55889720e+00, 1.55923844e+00, 1.55945074e+00, 1.56360852e+00,\n",
       "       1.56432379e+00, 1.56465289e+00, 1.56972091e+00, 1.57017591e+00,\n",
       "       1.57237012e+00, 1.57321718e+00, 1.57556210e+00, 1.57741989e+00,\n",
       "       1.58017435e+00, 1.58045943e+00, 1.58545024e+00, 1.58867514e+00,\n",
       "       1.59448953e+00, 1.59809855e+00, 1.59829932e+00, 1.60228599e+00,\n",
       "       1.60858292e+00, 1.61040923e+00, 1.61154781e+00, 1.61189888e+00,\n",
       "       1.61199960e+00, 1.61282770e+00, 1.61536757e+00, 1.61798039e+00,\n",
       "       1.61913987e+00, 1.62174778e+00, 1.62269460e+00, 1.63186445e+00,\n",
       "       1.63221986e+00, 1.63247307e+00, 1.63424919e+00, 1.63677251e+00,\n",
       "       1.63996546e+00, 1.64408317e+00, 1.64614501e+00, 1.65249702e+00,\n",
       "       1.65655792e+00, 1.65761432e+00, 1.65915774e+00, 1.66038680e+00,\n",
       "       1.66178498e+00, 1.66578037e+00, 1.66615550e+00, 1.66739509e+00,\n",
       "       1.66794443e+00, 1.67139610e+00, 1.67152542e+00, 1.67373596e+00,\n",
       "       1.67491239e+00, 1.68223939e+00, 1.68640207e+00, 1.69027145e+00,\n",
       "       1.69064308e+00, 1.69074485e+00, 1.69344473e+00, 1.69822824e+00,\n",
       "       1.69856511e+00, 1.69883538e+00, 1.69926871e+00, 1.69930896e+00,\n",
       "       1.70699867e+00, 1.71032012e+00, 1.71041917e+00, 1.71357067e+00,\n",
       "       1.71576202e+00, 1.71735310e+00, 1.71737224e+00, 1.72167566e+00,\n",
       "       1.73220142e+00, 1.73468077e+00, 1.73770669e+00, 1.73799415e+00,\n",
       "       1.73826758e+00, 1.74655975e+00, 1.75113853e+00, 1.75651963e+00,\n",
       "       1.75739066e+00, 1.75843838e+00, 1.76233930e+00, 1.76498725e+00,\n",
       "       1.76873153e+00, 1.78247057e+00, 1.78254839e+00, 1.79325160e+00,\n",
       "       1.79337674e+00, 1.79837099e+00, 1.80515047e+00, 1.80739490e+00,\n",
       "       1.80783404e+00, 1.81502786e+00, 1.81716328e+00, 1.82027735e+00,\n",
       "       1.82029851e+00, 1.82155108e+00, 1.82605361e+00, 1.83141579e+00,\n",
       "       1.83294215e+00, 1.83328409e+00, 1.83486306e+00, 1.83555815e+00,\n",
       "       1.83607828e+00, 1.84069980e+00, 1.84284923e+00, 1.84655444e+00,\n",
       "       1.84990356e+00, 1.85302203e+00, 1.85746201e+00, 1.86318737e+00,\n",
       "       1.86504739e+00, 1.86669433e+00, 1.86713196e+00, 1.87205667e+00,\n",
       "       1.87278149e+00, 1.87305660e+00, 1.87483540e+00, 1.87809052e+00,\n",
       "       1.87876814e+00, 1.89121565e+00, 1.89893422e+00, 1.89937645e+00,\n",
       "       1.90080051e+00, 1.90116825e+00, 1.90542968e+00, 1.91244396e+00,\n",
       "       1.91245485e+00, 1.91463605e+00, 1.91466018e+00, 1.91545848e+00,\n",
       "       1.91649280e+00, 1.92549368e+00, 1.92638192e+00, 1.92699946e+00,\n",
       "       1.93676784e+00, 1.93984274e+00, 1.94244200e+00, 1.94420148e+00,\n",
       "       1.94584466e+00, 1.94945431e+00, 1.95100659e+00, 1.95445280e+00,\n",
       "       1.95454392e+00, 1.95616122e+00, 1.95915180e+00, 1.96203691e+00,\n",
       "       1.96839164e+00, 1.97295082e+00, 1.97360724e+00, 1.97864033e+00,\n",
       "       1.98724876e+00, 1.99006010e+00, 2.00091855e+00, 2.00220082e+00,\n",
       "       2.00240958e+00, 2.00954925e+00, 2.01211576e+00, 2.02377668e+00,\n",
       "       2.02634483e+00, 2.02966705e+00, 2.03298632e+00, 2.03327400e+00,\n",
       "       2.03527191e+00, 2.04914974e+00, 2.05882921e+00, 2.06876732e+00,\n",
       "       2.07538515e+00, 2.08640871e+00, 2.09215178e+00, 2.09525883e+00,\n",
       "       2.10683921e+00, 2.10865877e+00, 2.10962118e+00, 2.11661227e+00,\n",
       "       2.11829571e+00, 2.12659939e+00, 2.12708686e+00, 2.13207874e+00,\n",
       "       2.14701892e+00, 2.14979668e+00, 2.15012677e+00, 2.15188689e+00,\n",
       "       2.15435341e+00, 2.15447581e+00, 2.16953091e+00, 2.17822338e+00,\n",
       "       2.17825674e+00, 2.21444837e+00, 2.22906946e+00, 2.23579429e+00,\n",
       "       2.23752185e+00, 2.25147927e+00, 2.25192965e+00, 2.26448733e+00,\n",
       "       2.26864861e+00, 2.27076115e+00, 2.27889051e+00, 2.29157956e+00,\n",
       "       2.29593359e+00, 2.30244800e+00, 2.30253213e+00, 2.30371534e+00,\n",
       "       2.30940281e+00, 2.31367947e+00, 2.31428023e+00, 2.31498961e+00,\n",
       "       2.31942598e+00, 2.32213615e+00, 2.32876299e+00, 2.33340028e+00,\n",
       "       2.33512619e+00, 2.33764585e+00, 2.33991678e+00, 2.34250330e+00,\n",
       "       2.34639844e+00, 2.34668686e+00, 2.35096718e+00, 2.35434116e+00,\n",
       "       2.36343558e+00, 2.36505810e+00, 2.37241497e+00, 2.37336287e+00,\n",
       "       2.37881060e+00, 2.37911072e+00, 2.37915058e+00, 2.38965359e+00,\n",
       "       2.41596229e+00, 2.41709756e+00, 2.42643899e+00, 2.42880610e+00,\n",
       "       2.43330275e+00, 2.44279052e+00, 2.45958720e+00, 2.46717336e+00,\n",
       "       2.47918766e+00, 2.48655818e+00, 2.49900904e+00, 2.52532826e+00,\n",
       "       2.52627152e+00, 2.53127583e+00, 2.53536054e+00, 2.53890774e+00,\n",
       "       2.54401832e+00, 2.55197481e+00, 2.55226262e+00, 2.55804456e+00,\n",
       "       2.57370870e+00, 2.58905258e+00, 2.59491002e+00, 2.60417320e+00,\n",
       "       2.62646163e+00, 2.63163463e+00, 2.63403825e+00, 2.64944162e+00,\n",
       "       2.66493673e+00, 2.66887969e+00, 2.68613105e+00, 2.70135801e+00,\n",
       "       2.70593875e+00, 2.72356391e+00, 2.72368755e+00, 2.74218801e+00,\n",
       "       2.74342459e+00, 2.75380946e+00, 2.75440107e+00, 2.75488305e+00,\n",
       "       2.76146786e+00, 2.76655393e+00, 2.78802999e+00, 2.79283850e+00,\n",
       "       2.82694186e+00, 2.83002272e+00, 2.84446057e+00, 2.84522131e+00,\n",
       "       2.85224011e+00, 2.86852152e+00, 2.86881716e+00, 2.87229171e+00,\n",
       "       2.88686300e+00, 2.90040419e+00, 2.90150973e+00, 2.90379700e+00,\n",
       "       2.91503679e+00, 2.92065207e+00, 2.92678667e+00, 2.92967966e+00,\n",
       "       2.93137855e+00, 2.93361425e+00, 2.93892351e+00, 2.94029341e+00,\n",
       "       2.94451881e+00, 2.95717919e+00, 2.95917243e+00, 2.95936916e+00,\n",
       "       2.96302788e+00, 2.99693654e+00, 3.00120907e+00, 3.00293076e+00,\n",
       "       3.00623259e+00, 3.02466410e+00, 3.03156720e+00, 3.04749271e+00,\n",
       "       3.05018443e+00, 3.05156404e+00, 3.05572298e+00, 3.08206412e+00,\n",
       "       3.08436214e+00, 3.10127599e+00, 3.11661657e+00, 3.11691291e+00,\n",
       "       3.13763382e+00, 3.15137534e+00, 3.15606518e+00, 3.17030868e+00,\n",
       "       3.17190698e+00, 3.17343827e+00, 3.18787197e+00, 3.19450373e+00,\n",
       "       3.19646822e+00, 3.19705270e+00, 3.25164018e+00, 3.26150975e+00,\n",
       "       3.26242427e+00, 3.26742523e+00, 3.30277965e+00, 3.30301002e+00,\n",
       "       3.30422676e+00, 3.31297496e+00, 3.32672054e+00, 3.33539849e+00,\n",
       "       3.36838986e+00, 3.40045638e+00, 3.42113238e+00, 3.42379152e+00,\n",
       "       3.43188672e+00, 3.43458486e+00, 3.45282823e+00, 3.49556658e+00,\n",
       "       3.52892538e+00, 3.56887907e+00, 3.58582856e+00, 3.58786681e+00,\n",
       "       3.60300079e+00, 3.61621763e+00, 3.64502446e+00, 3.71454413e+00,\n",
       "       3.72369222e+00, 3.75313568e+00, 3.75841403e+00, 3.79759310e+00,\n",
       "       3.85397118e+00, 3.85580336e+00, 3.88141839e+00, 3.89130690e+00,\n",
       "       3.89313395e+00, 3.93041482e+00, 3.93858062e+00, 3.95728627e+00,\n",
       "       3.96694799e+00, 3.97310760e+00, 4.01593819e+00, 4.02049888e+00,\n",
       "       4.03330592e+00, 4.04980872e+00, 4.11833525e+00, 4.12181948e+00,\n",
       "       4.13069965e+00, 4.13593333e+00, 4.18822641e+00, 4.21770465e+00,\n",
       "       4.21811849e+00, 4.27499341e+00, 4.30284151e+00, 4.32258154e+00,\n",
       "       4.35886249e+00, 4.36607366e+00, 4.37954266e+00, 4.42973774e+00,\n",
       "       4.45345621e+00, 4.49805928e+00, 4.51814351e+00, 4.54856244e+00,\n",
       "       4.57238927e+00, 4.59127642e+00, 4.70060018e+00, 4.75196194e+00,\n",
       "       4.76098986e+00, 4.76975346e+00, 4.78082418e+00, 4.81459705e+00,\n",
       "       4.91270216e+00, 4.98013143e+00, 4.99581835e+00, 5.02574486e+00,\n",
       "       5.05018268e+00, 5.06898401e+00, 5.10120717e+00, 5.12636285e+00,\n",
       "       5.12995206e+00, 5.19460582e+00, 5.20695115e+00, 5.20806684e+00,\n",
       "       5.24011615e+00, 5.25141570e+00, 5.25604547e+00, 5.29919041e+00,\n",
       "       5.30146991e+00, 5.33794704e+00, 5.59583415e+00, 5.64220349e+00,\n",
       "       5.77145866e+00, 5.80845169e+00, 5.93729076e+00, 5.94023759e+00,\n",
       "       6.04719695e+00, 6.16280767e+00, 6.16482048e+00, 6.24149700e+00,\n",
       "       6.27612003e+00, 6.36148631e+00, 6.39203653e+00, 6.40130813e+00,\n",
       "       6.48495684e+00, 6.54521672e+00, 6.56420793e+00, 6.58945708e+00,\n",
       "       6.69751829e+00, 6.71120308e+00, 6.77894204e+00, 6.82099016e+00,\n",
       "       6.86974004e+00, 6.89767852e+00, 6.92820234e+00, 7.07172975e+00,\n",
       "       7.08147676e+00, 7.13558304e+00, 7.13705416e+00, 7.30654552e+00,\n",
       "       7.32013154e+00, 7.43252489e+00, 7.88873561e+00, 7.98167192e+00,\n",
       "       8.16785888e+00, 8.19980324e+00, 8.31750827e+00, 8.33437788e+00,\n",
       "       8.34648193e+00, 8.44323396e+00, 8.47353358e+00, 8.59040175e+00,\n",
       "       8.66945610e+00, 8.77401914e+00, 8.89866447e+00, 9.14345914e+00,\n",
       "       9.23577159e+00, 9.23845740e+00, 9.35924522e+00, 9.91634329e+00,\n",
       "       1.05057917e+01, 1.07836998e+01, 1.15882916e+01, 1.20806249e+01,\n",
       "       1.21939156e+01, 1.23546433e+01, 1.27966333e+01, 1.28205066e+01,\n",
       "       1.43219441e+01, 1.43586837e+01, 1.54978281e+01, 1.62626835e+01,\n",
       "       2.15598833e+01, 2.18039364e+01, 2.21582187e+01, 2.25000079e+01,\n",
       "       2.29911887e+01, 2.53291212e+01, 4.33251832e+01, 4.89472714e+01,\n",
       "       5.70613460e+01, 5.75360123e+01, 8.25738625e+01, 9.77238804e+01,\n",
       "       1.04459149e+02, 1.52382168e+02, 1.76287986e+02, 1.01444484e+03])"
      ]
     },
     "execution_count": 76,
     "metadata": {},
     "output_type": "execute_result"
    }
   ],
   "source": [
    "np.sort(rvs)"
   ]
  },
  {
   "cell_type": "code",
   "execution_count": 79,
   "id": "24d1220d",
   "metadata": {},
   "outputs": [
    {
     "data": {
      "text/plain": [
       "1.0002929732932948"
      ]
     },
     "execution_count": 79,
     "metadata": {},
     "output_type": "execute_result"
    }
   ],
   "source": [
    "np.e**2.92930385e-04"
   ]
  },
  {
   "cell_type": "code",
   "execution_count": null,
   "id": "af045583",
   "metadata": {},
   "outputs": [],
   "source": []
  }
 ],
 "metadata": {
  "kernelspec": {
   "display_name": "Python 3 (ipykernel)",
   "language": "python",
   "name": "python3"
  },
  "language_info": {
   "codemirror_mode": {
    "name": "ipython",
    "version": 3
   },
   "file_extension": ".py",
   "mimetype": "text/x-python",
   "name": "python",
   "nbconvert_exporter": "python",
   "pygments_lexer": "ipython3",
   "version": "3.9.12"
  }
 },
 "nbformat": 4,
 "nbformat_minor": 5
}
