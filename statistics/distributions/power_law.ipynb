{
 "cells": [
  {
   "cell_type": "code",
   "execution_count": 16,
   "id": "c617f3dc",
   "metadata": {},
   "outputs": [],
   "source": [
    "import os\n",
    "from collections import Counter\n",
    "from pathlib import Path\n",
    "import numpy as np\n",
    "import pandas as pd\n",
    "import matplotlib.pyplot as plt"
   ]
  },
  {
   "cell_type": "markdown",
   "id": "941221ac",
   "metadata": {},
   "source": [
    "## Read data"
   ]
  },
  {
   "cell_type": "code",
   "execution_count": 2,
   "id": "b350e8fa",
   "metadata": {},
   "outputs": [],
   "source": [
    "DATA_PATH='data/raw/'\n",
    "files=[fl for fl in os.listdir(DATA_PATH) if fl.endswith('.txt')]\n",
    "\n",
    "txt=''\n",
    "for fl in files:\n",
    "    txt_=Path(DATA_PATH+fl).read_text().lower()\n",
    "    \n",
    "    txt_=txt_.replace('\\n', '').replace('.', ' ').replace(',', ' ').replace('!', ' ').\\\n",
    "    replace('?', ' ').replace(':', ' ').replace(';', ' ').replace('™', ' ').replace('¶', ' ').\\\n",
    "    replace('(', ' ').replace(')', ' ').replace(']', ' ').replace('[', ' ').replace('„', ' ').\\\n",
    "    replace('“', ' ').replace('•', ' ').replace('¼', ' ').replace('¤', ' ')\n",
    "    txt=f'{txt} {txt_}'"
   ]
  },
  {
   "cell_type": "code",
   "execution_count": 3,
   "id": "3940400d",
   "metadata": {},
   "outputs": [
    {
     "data": {
      "text/plain": [
       "' see oli l'"
      ]
     },
     "execution_count": 3,
     "metadata": {},
     "output_type": "execute_result"
    }
   ],
   "source": [
    "txt[:10]"
   ]
  },
  {
   "cell_type": "markdown",
   "id": "2ef5239a",
   "metadata": {},
   "source": [
    "## Count char freq"
   ]
  },
  {
   "cell_type": "code",
   "execution_count": 4,
   "id": "307b86b4",
   "metadata": {},
   "outputs": [
    {
     "data": {
      "text/plain": [
       "3572"
      ]
     },
     "execution_count": 4,
     "metadata": {},
     "output_type": "execute_result"
    }
   ],
   "source": [
    "cnt=Counter(txt.split())\n",
    "len(cnt)"
   ]
  },
  {
   "cell_type": "code",
   "execution_count": 8,
   "id": "43827e83",
   "metadata": {},
   "outputs": [
    {
     "data": {
      "text/html": [
       "<div>\n",
       "<style scoped>\n",
       "    .dataframe tbody tr th:only-of-type {\n",
       "        vertical-align: middle;\n",
       "    }\n",
       "\n",
       "    .dataframe tbody tr th {\n",
       "        vertical-align: top;\n",
       "    }\n",
       "\n",
       "    .dataframe thead th {\n",
       "        text-align: right;\n",
       "    }\n",
       "</style>\n",
       "<table border=\"1\" class=\"dataframe\">\n",
       "  <thead>\n",
       "    <tr style=\"text-align: right;\">\n",
       "      <th></th>\n",
       "      <th>token</th>\n",
       "      <th>count</th>\n",
       "      <th>prob</th>\n",
       "      <th>count_log</th>\n",
       "      <th>prob_log</th>\n",
       "    </tr>\n",
       "  </thead>\n",
       "  <tbody>\n",
       "    <tr>\n",
       "      <th>0</th>\n",
       "      <td>ã</td>\n",
       "      <td>452</td>\n",
       "      <td>0.037573</td>\n",
       "      <td>6.113682</td>\n",
       "      <td>-3.281477</td>\n",
       "    </tr>\n",
       "    <tr>\n",
       "      <th>1</th>\n",
       "      <td>ja</td>\n",
       "      <td>310</td>\n",
       "      <td>0.025769</td>\n",
       "      <td>5.736572</td>\n",
       "      <td>-3.658587</td>\n",
       "    </tr>\n",
       "    <tr>\n",
       "      <th>2</th>\n",
       "      <td>ta</td>\n",
       "      <td>192</td>\n",
       "      <td>0.015960</td>\n",
       "      <td>5.257495</td>\n",
       "      <td>-4.137663</td>\n",
       "    </tr>\n",
       "    <tr>\n",
       "      <th>3</th>\n",
       "      <td>kã</td>\n",
       "      <td>185</td>\n",
       "      <td>0.015378</td>\n",
       "      <td>5.220356</td>\n",
       "      <td>-4.174803</td>\n",
       "    </tr>\n",
       "    <tr>\n",
       "      <th>4</th>\n",
       "      <td>â€œ</td>\n",
       "      <td>156</td>\n",
       "      <td>0.012968</td>\n",
       "      <td>5.049856</td>\n",
       "      <td>-4.345303</td>\n",
       "    </tr>\n",
       "  </tbody>\n",
       "</table>\n",
       "</div>"
      ],
      "text/plain": [
       "  token  count      prob  count_log  prob_log\n",
       "0     ã    452  0.037573   6.113682 -3.281477\n",
       "1    ja    310  0.025769   5.736572 -3.658587\n",
       "2    ta    192  0.015960   5.257495 -4.137663\n",
       "3    kã    185  0.015378   5.220356 -4.174803\n",
       "4   â€œ    156  0.012968   5.049856 -4.345303"
      ]
     },
     "execution_count": 8,
     "metadata": {},
     "output_type": "execute_result"
    }
   ],
   "source": [
    "df_cnt=pd.DataFrame(cnt.most_common(len(cnt)))\n",
    "df_cnt.columns=['token', 'count']\n",
    "df_cnt['prob']=np.divide(df_cnt['count'], df_cnt['count'].sum())\n",
    "df_cnt['count_log']=np.log(df_cnt['count'])\n",
    "df_cnt['prob_log']=np.log(df_cnt['prob'])\n",
    "df_cnt.head()"
   ]
  },
  {
   "cell_type": "code",
   "execution_count": 9,
   "id": "71e00c34",
   "metadata": {},
   "outputs": [
    {
     "data": {
      "text/plain": [
       "<AxesSubplot:>"
      ]
     },
     "execution_count": 9,
     "metadata": {},
     "output_type": "execute_result"
    },
    {
     "data": {
      "image/png": "[encoded data removed]",
      "text/plain": [
       "<Figure size 432x288 with 1 Axes>"
      ]
     },
     "metadata": {
      "needs_background": "light"
     },
     "output_type": "display_data"
    }
   ],
   "source": [
    "df_cnt['count'].plot()"
   ]
  },
  {
   "cell_type": "code",
   "execution_count": 10,
   "id": "936cc372",
   "metadata": {},
   "outputs": [
    {
     "data": {
      "text/plain": [
       "<AxesSubplot:>"
      ]
     },
     "execution_count": 10,
     "metadata": {},
     "output_type": "execute_result"
    },
    {
     "data": {
      "image/png": "[encoded data removed]",
      "text/plain": [
       "<Figure size 432x288 with 1 Axes>"
      ]
     },
     "metadata": {
      "needs_background": "light"
     },
     "output_type": "display_data"
    }
   ],
   "source": [
    "df_cnt['prob'].plot()"
   ]
  },
  {
   "cell_type": "code",
   "execution_count": 11,
   "id": "59ac68ac",
   "metadata": {},
   "outputs": [
    {
     "data": {
      "text/plain": [
       "<AxesSubplot:>"
      ]
     },
     "execution_count": 11,
     "metadata": {},
     "output_type": "execute_result"
    },
    {
     "data": {
      "image/png": "[encoded data removed]",
      "text/plain": [
       "<Figure size 432x288 with 1 Axes>"
      ]
     },
     "metadata": {
      "needs_background": "light"
     },
     "output_type": "display_data"
    }
   ],
   "source": [
    "df_cnt['count_log'].plot()"
   ]
  },
  {
   "cell_type": "code",
   "execution_count": 12,
   "id": "95054dbc",
   "metadata": {},
   "outputs": [
    {
     "data": {
      "text/plain": [
       "<AxesSubplot:>"
      ]
     },
     "execution_count": 12,
     "metadata": {},
     "output_type": "execute_result"
    },
    {
     "data": {
      "image/png": "[encoded data removed]",
      "text/plain": [
       "<Figure size 432x288 with 1 Axes>"
      ]
     },
     "metadata": {
      "needs_background": "light"
     },
     "output_type": "display_data"
    }
   ],
   "source": [
    "df_cnt['prob_log'].plot()"
   ]
  },
  {
   "cell_type": "code",
   "execution_count": 14,
   "id": "07214582",
   "metadata": {},
   "outputs": [
    {
     "data": {
      "text/plain": [
       "<AxesSubplot:xlabel='count_log', ylabel='prob_log'>"
      ]
     },
     "execution_count": 14,
     "metadata": {},
     "output_type": "execute_result"
    },
    {
     "data": {
      "image/png": "[encoded data removed]",
      "text/plain": [
       "<Figure size 432x288 with 1 Axes>"
      ]
     },
     "metadata": {
      "needs_background": "light"
     },
     "output_type": "display_data"
    }
   ],
   "source": [
    "df_cnt.plot.scatter('count_log','prob_log')"
   ]
  },
  {
   "cell_type": "code",
   "execution_count": 17,
   "id": "1a4b1291",
   "metadata": {},
   "outputs": [
    {
     "data": {
      "image/png": "[encoded data removed]",
      "text/plain": [
       "<Figure size 432x288 with 1 Axes>"
      ]
     },
     "metadata": {
      "needs_background": "light"
     },
     "output_type": "display_data"
    }
   ],
   "source": [
    "counter_of_words = Counter(txt.split())\n",
    "counter_of_counts = Counter(counter_of_words.values())\n",
    "word_counts = np.array(list(counter_of_counts.keys()))\n",
    "freq_of_word_counts = np.array(list(counter_of_counts.values()))\n",
    "plt.scatter(np.log(word_counts), np.log(freq_of_word_counts))\n",
    "plt.xlabel('Log of word frequency')\n",
    "plt.ylabel('Log of number of such words')\n",
    "plt.title('Power law for word frequencies')\n",
    "plt.show();"
   ]
  },
  {
   "cell_type": "code",
   "execution_count": 19,
   "id": "fe97a57f",
   "metadata": {},
   "outputs": [
    {
     "data": {
      "text/plain": [
       "Counter({77: 1,\n",
       "         155: 1,\n",
       "         83: 1,\n",
       "         18: 4,\n",
       "         1: 2383,\n",
       "         91: 1,\n",
       "         6: 46,\n",
       "         3: 209,\n",
       "         120: 1,\n",
       "         12: 14,\n",
       "         125: 1,\n",
       "         79: 1,\n",
       "         8: 37,\n",
       "         31: 2,\n",
       "         4: 109,\n",
       "         2: 481,\n",
       "         26: 2,\n",
       "         58: 1,\n",
       "         10: 17,\n",
       "         11: 22,\n",
       "         49: 1,\n",
       "         89: 1,\n",
       "         39: 1,\n",
       "         5: 81,\n",
       "         310: 1,\n",
       "         192: 1,\n",
       "         47: 2,\n",
       "         55: 2,\n",
       "         156: 1,\n",
       "         32: 3,\n",
       "         185: 1,\n",
       "         452: 1,\n",
       "         25: 2,\n",
       "         9: 25,\n",
       "         88: 1,\n",
       "         84: 1,\n",
       "         34: 2,\n",
       "         16: 4,\n",
       "         67: 1,\n",
       "         133: 1,\n",
       "         19: 6,\n",
       "         99: 1,\n",
       "         69: 2,\n",
       "         7: 31,\n",
       "         38: 1,\n",
       "         22: 2,\n",
       "         30: 3,\n",
       "         42: 1,\n",
       "         14: 5,\n",
       "         15: 7,\n",
       "         98: 1,\n",
       "         82: 1,\n",
       "         40: 2,\n",
       "         73: 1,\n",
       "         51: 1,\n",
       "         134: 1,\n",
       "         46: 1,\n",
       "         37: 1,\n",
       "         36: 1,\n",
       "         20: 5,\n",
       "         17: 6,\n",
       "         28: 2,\n",
       "         21: 2,\n",
       "         13: 9,\n",
       "         33: 2,\n",
       "         53: 1,\n",
       "         24: 1,\n",
       "         23: 1,\n",
       "         54: 1,\n",
       "         62: 1,\n",
       "         29: 1,\n",
       "         61: 1,\n",
       "         27: 1,\n",
       "         64: 1,\n",
       "         66: 1})"
      ]
     },
     "execution_count": 19,
     "metadata": {},
     "output_type": "execute_result"
    }
   ],
   "source": [
    "counter_of_counts"
   ]
  },
  {
   "cell_type": "code",
   "execution_count": null,
   "id": "54ec60b6",
   "metadata": {},
   "outputs": [],
   "source": []
  }
 ],
 "metadata": {
  "kernelspec": {
   "display_name": "Python 3 (ipykernel)",
   "language": "python",
   "name": "python3"
  },
  "language_info": {
   "codemirror_mode": {
    "name": "ipython",
    "version": 3
   },
   "file_extension": ".py",
   "mimetype": "text/x-python",
   "name": "python",
   "nbconvert_exporter": "python",
   "pygments_lexer": "ipython3",
   "version": "3.9.12"
  }
 },
 "nbformat": 4,
 "nbformat_minor": 5
}
