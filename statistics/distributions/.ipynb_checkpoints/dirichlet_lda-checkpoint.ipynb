{
 "cells": [
  {
   "cell_type": "code",
   "execution_count": 2,
   "id": "2c26e429",
   "metadata": {},
   "outputs": [],
   "source": [
    "from scipy.stats import dirichlet, poisson\n",
    "from numpy import round\n",
    "from collections import defaultdict\n",
    "from random import choice as stl_choice\n",
    "from collections import Counter\n",
    "from scipy.stats import beta\n",
    "from numpy.random import choice"
   ]
  },
  {
   "cell_type": "markdown",
   "id": "68190c64",
   "metadata": {},
   "source": [
    "## Params"
   ]
  },
  {
   "cell_type": "code",
   "execution_count": 3,
   "id": "e7991651",
   "metadata": {},
   "outputs": [],
   "source": [
    "vocabulary = ['see', 'spot', 'run']\n",
    "num_terms = len(vocabulary)\n",
    "num_topics = 2 # K\n",
    "num_documents = 5 # M\n",
    "mean_document_length = 5 # xi\n",
    "term_dirichlet_parameter = 1 # beta\n",
    "topic_dirichlet_parameter = 1 # alpha"
   ]
  },
  {
   "cell_type": "markdown",
   "id": "67a6009f",
   "metadata": {},
   "source": [
    "## init"
   ]
  },
  {
   "cell_type": "code",
   "execution_count": 4,
   "id": "c67fd8a7",
   "metadata": {},
   "outputs": [
    {
     "name": "stdout",
     "output_type": "stream",
     "text": [
      "[[0.41002688 0.01880712 0.571166  ]\n",
      " [0.37652229 0.35930123 0.26417647]]\n"
     ]
    }
   ],
   "source": [
    "term_dirichlet_vector = num_terms * [term_dirichlet_parameter]\n",
    "term_distributions = dirichlet(term_dirichlet_vector, 2).rvs(size=num_topics)\n",
    "print(term_distributions)"
   ]
  },
  {
   "cell_type": "code",
   "execution_count": null,
   "id": "47f438bc",
   "metadata": {},
   "outputs": [],
   "source": []
  }
 ],
 "metadata": {
  "kernelspec": {
   "display_name": "Python 3",
   "language": "python",
   "name": "python3"
  },
  "language_info": {
   "codemirror_mode": {
    "name": "ipython",
    "version": 3
   },
   "file_extension": ".py",
   "mimetype": "text/x-python",
   "name": "python",
   "nbconvert_exporter": "python",
   "pygments_lexer": "ipython3",
   "version": "3.7.4"
  }
 },
 "nbformat": 4,
 "nbformat_minor": 5
}
