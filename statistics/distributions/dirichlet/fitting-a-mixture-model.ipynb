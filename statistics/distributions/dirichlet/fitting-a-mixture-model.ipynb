{
 "cells": [
  {
   "cell_type": "markdown",
   "metadata": {},
   "source": [
    "# Fitting a Mixture Model with Gibbs Sampling"
   ]
  },
  {
   "cell_type": "code",
   "execution_count": 19,
   "metadata": {},
   "outputs": [],
   "source": [
    "%matplotlib inline\n",
    "import pandas as pd\n",
    "import numpy as np\n",
    "import random\n",
    "import matplotlib.pyplot as plt\n",
    "\n",
    "from scipy import stats\n",
    "from collections import namedtuple, Counter"
   ]
  },
  {
   "cell_type": "markdown",
   "metadata": {},
   "source": [
    "Suppose we receive some data that looks like the following:"
   ]
  },
  {
   "cell_type": "code",
   "execution_count": 20,
   "metadata": {},
   "outputs": [
    {
     "data": {
      "image/png": "[encoded data removed]",
      "text/plain": [
       "<Figure size 432x288 with 1 Axes>"
      ]
     },
     "metadata": {
      "needs_background": "light"
     },
     "output_type": "display_data"
    }
   ],
   "source": [
    "data = pd.read_csv(\"clusters.csv\", header=None)[1]\n",
    "_=data.hist(bins=20)"
   ]
  },
  {
   "cell_type": "code",
   "execution_count": 21,
   "metadata": {},
   "outputs": [
    {
     "data": {
      "text/plain": [
       "1000"
      ]
     },
     "execution_count": 21,
     "metadata": {},
     "output_type": "execute_result"
    }
   ],
   "source": [
    "data.size"
   ]
  },
  {
   "cell_type": "code",
   "execution_count": 22,
   "metadata": {},
   "outputs": [
    {
     "data": {
      "text/plain": [
       "0    0.002681\n",
       "1   -0.341619\n",
       "2   -0.352397\n",
       "3    0.682440\n",
       "4    0.504524\n",
       "Name: 1, dtype: float64"
      ]
     },
     "execution_count": 22,
     "metadata": {},
     "output_type": "execute_result"
    }
   ],
   "source": [
    "data.head()"
   ]
  },
  {
   "cell_type": "code",
   "execution_count": 23,
   "metadata": {},
   "outputs": [
    {
     "data": {
      "text/plain": [
       "995   -0.235853\n",
       "996    0.480309\n",
       "997    0.001624\n",
       "998   -0.629820\n",
       "999    0.637904\n",
       "Name: 1, dtype: float64"
      ]
     },
     "execution_count": 23,
     "metadata": {},
     "output_type": "execute_result"
    }
   ],
   "source": [
    "data.tail()"
   ]
  },
  {
   "cell_type": "code",
   "execution_count": 24,
   "metadata": {},
   "outputs": [
    {
     "data": {
      "text/plain": [
       "count    1000.000000\n",
       "mean        0.169591\n",
       "std         0.455007\n",
       "min        -0.690683\n",
       "25%        -0.303794\n",
       "50%         0.176051\n",
       "75%         0.596546\n",
       "max         0.871537\n",
       "Name: 1, dtype: float64"
      ]
     },
     "execution_count": 24,
     "metadata": {},
     "output_type": "execute_result"
    }
   ],
   "source": [
    "data.describe()"
   ]
  },
  {
   "cell_type": "markdown",
   "metadata": {},
   "source": [
    "It appears that these data exist in three separate clusters. We want to develop a method for finding these _latent_ clusters. One way to start developing a method is to attempt to describe the process that may have generated these data.\n",
    "\n",
    "For simplicity and sanity, let's assume that each data point is generated independently of the other. Moreover, we will assume that within each cluster, the data points are identically distributed. In this case, we will assume each cluster is normally distributed and that each cluster has the same variance, $\\sigma^2$.\n",
    "\n",
    "Given these assumptions, our data could have been generated by the following process. For each data point, randomly select 1 of 3 clusters from the distribution $\\text{Discrete}(\\pi_1, \\pi_2, \\pi_3)$. Each cluster $k$ corresponds to a parameter $\\theta_k$ for that cluster, sample a data point from $\\mathcal{N}(\\theta_k, \\sigma^2)$.\n",
    "\n",
    "Equivalently, we could consider these data to be generated from a probability distribution with this probability density function:\n",
    "\n",
    "$$\n",
    "p(x_i \\,|\\, \\pi, \\theta_1, \\theta_2, \\theta_3, \\sigma)=\n",
    "    \\sum_{k=1}^3 \\pi_k\\cdot\n",
    "        \\frac{1}{\\sigma\\sqrt{2\\pi}}\n",
    "        \\text{exp}\\left\\{\n",
    "            \\frac{-(x_i-\\theta_k)^2}{2\\sigma^2}\n",
    "         \\right\\}\n",
    "$$\n",
    "\n",
    "where $\\pi$ is a 3-dimensional vector giving the _mixing proportions_. In other words, $\\pi_k$ describes the proportion of points that occur in cluster $k$.\n",
    "\n",
    "\n",
    "That is, _the probability distribution describing $x$ is a linear combination of normal distributions_.\n",
    "\n",
    "We want to use this _generative_ model to formulate an algorithm for determining the particular parameters that generated the dataset above. The $\\pi$ vector is unknown to us, as is each cluster mean $\\theta_k$. \n",
    "\n",
    "We would also like to know $z_i\\in\\{1, 2, 3\\}$, the latent cluster for each point. It turns out that introducing $z_i$ into our model will help us solve for the other values.\n",
    "\n",
    "The joint distribution of our observed data (`data`) along with the assignment variables is given by:\n",
    "\n",
    "\\begin{align}\n",
    "p(\\mathbf{x}, \\mathbf{z} \\,|\\, \\pi, \\theta_1, \\theta_2, \\theta_3, \\sigma)&=\n",
    "       p(\\mathbf{z} \\,|\\, \\pi)\n",
    "       p(\\mathbf{x} \\,|\\, \\mathbf{z}, \\theta_1, \\theta_2, \\theta_3, \\sigma)\\\\\n",
    "       &= \\prod_{i=1}^N p(z_i \\,|\\, \\pi)\n",
    "           \\prod_{i=1}^N p(x_i \\,|\\, z_i, \\theta_1, \\theta_2, \\theta_3, \\sigma) \\\\\n",
    "       &= \\prod_{i=1}^N \\pi_{z_i}\n",
    "           \\prod_{i=1}^N \n",
    "           \\frac{1}{\\sigma\\sqrt{2\\pi}}\n",
    "        \\text{exp}\\left\\{\n",
    "            \\frac{-(x_i-\\theta_{z_i})^2}{2\\sigma^2}\n",
    "         \\right\\}\\\\\n",
    "       &= \\prod_{i=1}^N \n",
    "           \\left(\n",
    "           \\pi_{z_i}\n",
    "           \\frac{1}{\\sigma\\sqrt{2\\pi}}\n",
    "        \\text{exp}\\left\\{\n",
    "            \\frac{-(x_i-\\theta_{z_i})^2}{2\\sigma^2}\n",
    "         \\right\\}\n",
    "         \\right)\\\\\n",
    "       &=\n",
    "           \\prod_i^n\n",
    "           \\prod_k^K\n",
    "           \\left(\n",
    "               \\pi_k \n",
    "               \\frac{1}{\\sigma\\sqrt{2\\pi}}\n",
    "        \\text{exp}\\left\\{\n",
    "            \\frac{-(x_i-\\theta_k)^2}{2\\sigma^2}\n",
    "         \\right\\}\n",
    "           \\right)^{\\delta(z_i, k)}\n",
    "\\end{align}\n",
    "\n",
    "### Keeping Everything Straight\n",
    "\n",
    "Before moving on, we need to devise a way to keep all our data and parameters straight. Following ideas suggested by [Keith Bonawitz](http://people.csail.mit.edu/bonawitz/Composable%20Probabilistic%20Inference%20with%20Blaise%20-%20Keith%20Bonawitz%20PhD%20Thesis.pdf), let's define a \"state\" object to store all of this data. \n",
    "\n",
    "It won't yet be clear why we are defining some components of `state`, however we will use each part eventually! As an attempt at clarity, I am using a trailing underscore in the names of members that are fixed. We will update the other parameters as we try to fit the model."
   ]
  },
  {
   "cell_type": "code",
   "execution_count": 25,
   "metadata": {},
   "outputs": [],
   "source": [
    "SuffStat = namedtuple('SuffStat', 'theta N')\n",
    "\n",
    "def update_suffstats(state):\n",
    "    for cluster_id, N in Counter(state['assignment']).items():\n",
    "        points_in_cluster = [x \n",
    "            for x, cid in zip(state['data_'], state['assignment'])\n",
    "            if cid == cluster_id\n",
    "        ]\n",
    "        mean = np.array(points_in_cluster).mean()\n",
    "        \n",
    "        state['suffstats'][cluster_id] = SuffStat(mean, N)\n",
    "\n",
    "def initial_state():\n",
    "    num_clusters = 3\n",
    "    alpha = 1.0\n",
    "    cluster_ids = range(num_clusters)\n",
    "\n",
    "    state = {\n",
    "        'cluster_ids_': cluster_ids,\n",
    "        'data_': data,\n",
    "        'num_clusters_': num_clusters,\n",
    "        'cluster_variance_': .01,\n",
    "        'alpha_': alpha,\n",
    "        'hyperparameters_': {\n",
    "            \"mean\": 0,\n",
    "            \"variance\": 1,\n",
    "        },\n",
    "        'suffstats': [None, None, None],\n",
    "        'assignment': [random.choice(cluster_ids) for _ in data],\n",
    "        'pi': [alpha / num_clusters for _ in cluster_ids],\n",
    "        'cluster_means': [-1, 0, 1]\n",
    "    }\n",
    "    update_suffstats(state)\n",
    "    return state\n",
    "\n",
    "state = initial_state()"
   ]
  },
  {
   "cell_type": "code",
   "execution_count": 26,
   "metadata": {},
   "outputs": [
    {
     "name": "stdout",
     "output_type": "stream",
     "text": [
      "alpha_\n",
      "assignment\n",
      "cluster_ids_\n",
      "cluster_means\n",
      "cluster_variance_\n",
      "data_\n",
      "hyperparameters_\n",
      "num_clusters_\n",
      "pi\n",
      "suffstats\n"
     ]
    }
   ],
   "source": [
    "for k, v in sorted(state.items()):\n",
    "    print(k)"
   ]
  },
  {
   "cell_type": "markdown",
   "metadata": {},
   "source": [
    "### Gibbs Sampling\n",
    "\n",
    "The [theory of Gibbs sampling](https://en.wikipedia.org/wiki/Gibbs_sampling) tells us that given some data $\\bf y$ and a probability distribution $p$ parameterized by $\\gamma_1, \\ldots, \\gamma_d$, we can successively draw samples from the distribution by sampling from\n",
    "\n",
    "$$\\gamma_j^{(t)}\\sim p(\\gamma_j \\,|\\, \\gamma_{\\neg j}^{(t-1)})$$\n",
    "    \n",
    "where $\\gamma_{\\neg j}^{(t-1)}$ is all current values of $\\gamma_i$ except for $\\gamma_j$. If we sample long enough, these $\\gamma_j$ values will be random samples from $p$. \n",
    "\n",
    "In deriving a Gibbs sampler, it is often helpful to observe that \n",
    "\n",
    "$$\n",
    "    p(\\gamma_j \\,|\\, \\gamma_{\\neg j})\n",
    "        = \\frac{\n",
    "            p(\\gamma_1,\\ldots,\\gamma_d)\n",
    "        }{\n",
    "            p(\\gamma_{\\neg j})\n",
    "        } \\propto p(\\gamma_1,\\ldots,\\gamma_d).\n",
    "$$\n",
    "\n",
    "The conditional distribution is proportional to the joint distribution. We will get a lot of mileage from this simple observation by dropping constant terms from the joint distribution (relative to the parameters we are conditioned on).\n",
    "\n",
    "The $\\gamma$ values in our model are each of the $\\theta_k$ values, the $z_i$ values, and the $\\pi_k$ values. Thus, we need to derive the conditional distributions for each of these.\n",
    "\n",
    "Many derivation of Gibbs samplers that I have seen rely on a lot of handwaving and casual appeals to conjugacy. I have tried to add more mathematical details here. I would gladly accept feedback on how to more clearly present the derivations! I have also tried to make the derivations more concrete by immediately providing code to do the computations in this specific case. "
   ]
  },
  {
   "cell_type": "markdown",
   "metadata": {},
   "source": [
    "#### Conditional Distribution of Assignment\n",
    "\n",
    "For berevity, we will use\n",
    "\n",
    "$$\n",
    "p(z_i=k \\,|\\, \\cdot)=\n",
    "p(z_i=k \\,|\\, \n",
    "        z_{\\neg i}, \\pi,\n",
    "        \\theta_1, \\theta_2, \\theta_3, \\sigma, \\bf x\n",
    "        ).\n",
    "        $$\n",
    "        \n",
    "Because cluster assignements are conditionally independent given the cluster weights and paramters,\n",
    "\n",
    "\\begin{align}\n",
    "    p(z_i=k \\,|\\, \\cdot) \n",
    "        &\\propto\n",
    "           \\prod_i^n\n",
    "           \\prod_k^K\n",
    "           \\left(\n",
    "               \\pi_k \n",
    "               \\frac{1}{\\sigma\\sqrt{2\\pi}}\n",
    "        \\text{exp}\\left\\{\n",
    "            \\frac{-(x_i-\\theta_k)^2}{2\\sigma^2}\n",
    "         \\right\\}\n",
    "           \\right)^{\\delta(z_i, k)} \\\\\n",
    "        &\\propto\n",
    "            \\pi_k \\cdot\n",
    "            \\frac{1}{\\sigma\\sqrt{2\\pi}} \n",
    "            \\text{exp}\\left\\{\n",
    "                \\frac{-(x_i-\\theta_k)^2}{2\\sigma^2}\n",
    "             \\right\\}\n",
    "\\end{align}\n",
    "\n",
    "This equation intuitively makes sense: point $i$ is more likely to be in cluster $k$ if $k$ is itself probable ($\\pi_k\\gg 0$) and $x_i$ is close to the mean of the cluster $\\theta_k$.\n",
    "\n",
    "For each data point $i$, we can compute $p(z_i=k \\,|\\, \\cdot)$ for each of cluster $k$. These values are the unnormalized parameters to a discrete distribution from which we can sample assignments.\n",
    "\n",
    "Below, we define functions for doing this sampling. `sample_assignment` will generate a sample from the posterior assignment distribution for the specified data point. `update_assignment` will sample from the posterior assignment for each data point and update the `state` object."
   ]
  },
  {
   "cell_type": "code",
   "execution_count": 27,
   "metadata": {},
   "outputs": [],
   "source": [
    "def log_assignment_score(data_id, cluster_id, state):\n",
    "    \"\"\"log p(z_i=k \\,|\\, \\cdot) \n",
    "    \n",
    "    We compute these scores in log space for numerical stability.\n",
    "    \"\"\"\n",
    "    x = state['data_'][data_id]\n",
    "    theta = state['cluster_means'][cluster_id]\n",
    "    var = state['cluster_variance_']\n",
    "    log_pi = np.log(state['pi'][cluster_id])\n",
    "    return log_pi + stats.norm.logpdf(x, theta, var)\n",
    "\n",
    "\n",
    "def assigment_probs(data_id, state):\n",
    "    \"\"\"p(z_i=cid \\,|\\, \\cdot) for cid in cluster_ids\n",
    "    \"\"\"\n",
    "    scores = [log_assignment_score(data_id, cid, state) for cid in state['cluster_ids_']]\n",
    "\n",
    "    scores = np.exp(np.array(scores))\n",
    "    return scores / scores.sum()\n",
    "\n",
    "\n",
    "def sample_assignment(data_id, state):\n",
    "    \"\"\"Sample cluster assignment for data_id given current state\n",
    "    \n",
    "    cf Step 1 of Algorithm 2.1 in Sudderth 2006 http://cs.brown.edu/~sudderth/papers/sudderthPhD.pdf\n",
    "    \"\"\"\n",
    "    try:\n",
    "        p = assigment_probs(data_id, state)\n",
    "        return np.random.choice(state['cluster_ids_'], p=p)\n",
    "    except:\n",
    "        #hack, sometimes all p-s are zero, then return cluster 0\n",
    "        return 0\n",
    "\n",
    "\n",
    "def update_assignment(state):\n",
    "    \"\"\"Update cluster assignment for each data point given current state \n",
    "    \n",
    "    cf Step 1 of Algorithm 2.1 in Sudderth 2006\n",
    "    \"\"\"\n",
    "    for data_id, x in enumerate(state['data_']):\n",
    "        state['assignment'][data_id] = sample_assignment(data_id, state)\n",
    "    update_suffstats(state)"
   ]
  },
  {
   "cell_type": "markdown",
   "metadata": {},
   "source": [
    "#### Conditional Distribution of Mixture Weights\n",
    "\n",
    "We can similarly derive the conditional distributions of mixture weights by an application of Bayes theorem. Instead of updating each component of $\\pi$ separately, we update them together (this is called blocked Gibbs).\n",
    "\n",
    "\\begin{align}\n",
    "p(\\pi \\,|\\, \\cdot)&=\n",
    "p(\\pi \\,|\\, \n",
    "        \\bf{z}, \n",
    "        \\theta_1, \\theta_2, \\theta_3,\n",
    "        \\sigma, \\mathbf{x}, \\alpha\n",
    "        )\\\\\n",
    "&\\propto\n",
    "p(\\pi \\,|\\, \n",
    "        \\mathbf{x}, \n",
    "        \\theta_1, \\theta_2, \\theta_3,\n",
    "        \\sigma, \\alpha\n",
    "        )\n",
    "p(\\bf{z}\\ \\,|\\, \n",
    "        \\mathbf{x}, \n",
    "        \\theta_1, \\theta_2, \\theta_3,\n",
    "        \\sigma, \\pi, \\alpha\n",
    "        )\\\\\n",
    "&=\n",
    "p(\\pi \\,|\\, \n",
    "        \\alpha\n",
    "        )\n",
    "p(\\bf{z}\\ \\,|\\, \n",
    "        \\mathbf{x}, \n",
    "        \\theta_1, \\theta_2, \\theta_3,\n",
    "        \\sigma, \\pi, \\alpha\n",
    "        )\\\\\n",
    "&=\n",
    "\\prod_{i=1}^K \\pi_k^{\\alpha/K - 1}\n",
    "\\prod_{i=1}^K \\pi_k^{\\sum_{i=1}^N \\delta(z_i, k)} \\\\\n",
    "&=\\prod_{k=1}^3 \\pi_k^{\\alpha/K+\\sum_{i=1}^N \\delta(z_i, k)-1}\\\\\n",
    "&\\propto \\text{Dir}\\left(\n",
    "    \\sum_{i=1}^N \\delta(z_i, 1)+\\alpha/K, \n",
    "    \\sum_{i=1}^N \\delta(z_i, 2)+\\alpha/K,\n",
    "    \\sum_{i=1}^N \\delta(z_i, 3)+\\alpha/K\n",
    "    \\right)\n",
    "\\end{align}\n",
    "\n",
    "Here are Python functions to sample from the mixture weights given the current `state` and to update the mixture weights in the `state` object."
   ]
  },
  {
   "cell_type": "code",
   "execution_count": 28,
   "metadata": {},
   "outputs": [],
   "source": [
    "def sample_mixture_weights(state):\n",
    "    \"\"\"Sample new mixture weights from current state according to \n",
    "    a Dirichlet distribution \n",
    "    \n",
    "    cf Step 2 of Algorithm 2.1 in Sudderth 2006\n",
    "    \"\"\"\n",
    "    ss = state['suffstats']\n",
    "    alpha = [ss[cid].N + state['alpha_'] / state['num_clusters_'] \n",
    "             for cid in state['cluster_ids_']]\n",
    "    return stats.dirichlet(alpha).rvs(size=1).flatten()\n",
    "\n",
    "def update_mixture_weights(state):\n",
    "    \"\"\"Update state with new mixture weights from current state\n",
    "    sampled according to a Dirichlet distribution \n",
    "    \n",
    "    cf Step 2 of Algorithm 2.1 in Sudderth 2006\n",
    "    \"\"\"\n",
    "    state['pi'] = sample_mixture_weights(state)"
   ]
  },
  {
   "cell_type": "markdown",
   "metadata": {},
   "source": [
    "#### Conditional Distribution of Cluster Means\n",
    "\n",
    "Finally, we need to compute the conditional distribution for the cluster means.\n",
    "\n",
    "We assume the unknown cluster means are distributed according to a normal distribution with hyperparameter mean $\\lambda_1$ and variance $\\lambda_2^2$. The final step in this derivation comes from the normal-normal conjugacy. For more information see [section 2.3 of this](http://www.cs.ubc.ca/~murphyk/Papers/bayesGauss.pdf) and [section 6.2 this](https://web.archive.org/web/20160304125731/http://fisher.osu.edu/~schroeder.9/AMIS900/ech6.pdf).)\n",
    "\n",
    "\\begin{align}\n",
    "p(\\theta_k \\,|\\, \\cdot)&=\n",
    "p(\\theta_k \\,|\\, \n",
    "        \\bf{z}, \\pi,\n",
    "        \\theta_{\\neg k},\n",
    "        \\sigma, \\bf x, \\lambda_1, \\lambda_2\n",
    "        ) \\\\\n",
    "&\\propto p(\\left\\{x_i \\,|\\, z_i=k\\right\\} \\,|\\, \\bf{z}, \\pi,\n",
    "        \\theta_1, \\theta_2, \\theta_3,\n",
    "        \\sigma, \\lambda_1, \\lambda_2) \\cdot\\\\\n",
    "    &\\phantom{==}p(\\theta_k \\,|\\, \\bf{z}, \\pi,\n",
    "        \\theta_{\\neg k},\n",
    "        \\sigma, \\lambda_1, \\lambda_2)\\\\\n",
    "&\\propto p(\\left\\{x_i \\,|\\, z_i=k\\right\\} \\,|\\, \\mathbf{z},\n",
    "        \\theta_k, \\sigma)\n",
    "        p(\\theta_k \\,|\\,  \\lambda_1, \\lambda_2)\\\\\n",
    "&= \\mathcal{N}(\\theta_k \\,|\\, \\mu_n, \\sigma_n)\\\\\n",
    "\\end{align}\n",
    "\n",
    "\n",
    "$$ \\sigma_n^2 = \\frac{1}{\n",
    "    \\frac{1}{\\lambda_2^2} + \\frac{N_k}{\\sigma^2}\n",
    "    } $$\n",
    "    \n",
    "and \n",
    "\n",
    "$$\\mu_n = \\sigma_n^2 \n",
    "    \\left(\n",
    "        \\frac{\\lambda_1}{\\lambda_2^2} + \n",
    "        \\frac{n\\bar{x_k}}{\\sigma^2}\n",
    "    \\right)\n",
    "$$\n",
    "\n",
    "Here is the code for sampling those means and for updating our state accordingly."
   ]
  },
  {
   "cell_type": "code",
   "execution_count": 29,
   "metadata": {},
   "outputs": [],
   "source": [
    "def sample_cluster_mean(cluster_id, state):\n",
    "    cluster_var = state['cluster_variance_']\n",
    "    hp_mean = state['hyperparameters_']['mean']\n",
    "    hp_var = state['hyperparameters_']['variance']\n",
    "    ss = state['suffstats'][cluster_id]\n",
    "    \n",
    "    numerator = hp_mean / hp_var + ss.theta * ss.N / cluster_var\n",
    "    denominator = (1.0 / hp_var + ss.N / cluster_var)\n",
    "    posterior_mu = numerator / denominator\n",
    "    posterior_var = 1.0 / denominator\n",
    "    \n",
    "    return stats.norm(posterior_mu, np.sqrt(posterior_var)).rvs()\n",
    "\n",
    "\n",
    "def update_cluster_means(state):\n",
    "    state['cluster_means'] = [sample_cluster_mean(cid, state)\n",
    "                              for cid in state['cluster_ids_']]"
   ]
  },
  {
   "cell_type": "markdown",
   "metadata": {},
   "source": [
    "Doing each of these three updates in sequence makes a complete _Gibbs step_ for our mixture model. Here is a function to do that:"
   ]
  },
  {
   "cell_type": "code",
   "execution_count": 30,
   "metadata": {},
   "outputs": [],
   "source": [
    "def gibbs_step(state):\n",
    "    update_assignment(state)\n",
    "    update_mixture_weights(state)\n",
    "    update_cluster_means(state)"
   ]
  },
  {
   "cell_type": "markdown",
   "metadata": {},
   "source": [
    "Initially, we assigned each data point to a random cluster. We can see this by plotting a histogram of each cluster."
   ]
  },
  {
   "cell_type": "code",
   "execution_count": 31,
   "metadata": {},
   "outputs": [
    {
     "data": {
      "image/png": "[encoded data removed]",
      "text/plain": [
       "<Figure size 432x288 with 1 Axes>"
      ]
     },
     "metadata": {
      "needs_background": "light"
     },
     "output_type": "display_data"
    }
   ],
   "source": [
    "def plot_clusters(state):\n",
    "    gby = pd.DataFrame({\n",
    "            'data': state['data_'], \n",
    "            'assignment': state['assignment']}\n",
    "        ).groupby(by='assignment')['data']\n",
    "    hist_data = [gby.get_group(cid).tolist() \n",
    "                 for cid in gby.groups.keys()]\n",
    "    plt.hist(hist_data, \n",
    "             bins=20,\n",
    "             histtype='stepfilled', alpha=.2 )\n",
    "    \n",
    "plot_clusters(state)"
   ]
  },
  {
   "cell_type": "markdown",
   "metadata": {},
   "source": [
    "Each time we run `gibbs_step`, our `state` is updated with newly sampled assignments. Look what happens to our histogram after 5 steps:"
   ]
  },
  {
   "cell_type": "code",
   "execution_count": 32,
   "metadata": {},
   "outputs": [
    {
     "data": {
      "image/png": "[encoded data removed]",
      "text/plain": [
       "<Figure size 432x288 with 1 Axes>"
      ]
     },
     "metadata": {
      "needs_background": "light"
     },
     "output_type": "display_data"
    }
   ],
   "source": [
    "for _ in range(5):\n",
    "    gibbs_step(state)\n",
    "plot_clusters(state)"
   ]
  },
  {
   "cell_type": "markdown",
   "metadata": {},
   "source": [
    "Suddenly, we are seeing clusters that appear very similar to what we would intuitively expect: three Gaussian clusters.\n",
    "\n",
    "Another way to see the progress made by the Gibbs sampler is to plot the change in the model's log-likelihood after each step. The log likehlihood is given by:\n",
    "\n",
    "$$\n",
    "\\log p(\\mathbf{x} \\,|\\, \\pi, \\theta_1, \\theta_2, \\theta_3)\n",
    "\\propto \\sum_x \\log \\left(\n",
    "    \\sum_{k=1}^3 \\pi_k \\exp \n",
    "    \\left\\{ \n",
    "        -(x-\\theta_k)^2 / (2\\sigma^2)\n",
    "    \\right\\}\n",
    "\\right)\n",
    "$$\n",
    "\n",
    "We can define this as a function of our `state` object:"
   ]
  },
  {
   "cell_type": "code",
   "execution_count": 33,
   "metadata": {},
   "outputs": [],
   "source": [
    "def log_likelihood(state):\n",
    "    \"\"\"Data log-likeliehood\n",
    "    \n",
    "    Equation 2.153 in Sudderth\n",
    "    \"\"\"\n",
    "    \n",
    "    ll = 0 \n",
    "    for x in state['data_']:\n",
    "        pi = state['pi']\n",
    "        mean = state['cluster_means']\n",
    "        sd = np.sqrt(state['cluster_variance_'])\n",
    "        ll += np.log(np.dot(pi, stats.norm(mean, sd).pdf(x)))\n",
    "    return ll"
   ]
  },
  {
   "cell_type": "code",
   "execution_count": 34,
   "metadata": {},
   "outputs": [
    {
     "data": {
      "text/plain": [
       "<AxesSubplot:>"
      ]
     },
     "execution_count": 34,
     "metadata": {},
     "output_type": "execute_result"
    },
    {
     "data": {
      "image/png": "[encoded data removed]",
      "text/plain": [
       "<Figure size 432x288 with 1 Axes>"
      ]
     },
     "metadata": {
      "needs_background": "light"
     },
     "output_type": "display_data"
    }
   ],
   "source": [
    "state = initial_state()\n",
    "ll = [log_likelihood(state)]\n",
    "for _ in range(20):\n",
    "    gibbs_step(state)\n",
    "    ll.append(log_likelihood(state))\n",
    "pd.Series(ll).plot()"
   ]
  },
  {
   "cell_type": "markdown",
   "metadata": {},
   "source": [
    "See that the log likelihood improves with iterations of the Gibbs sampler. This is what we should expect: the Gibbs sampler finds state configurations that make the data we have seem \"likely\". However, the likelihood isn't strictly monotonic: it jitters up and down. Though it behaves similarly, the Gibbs sampler isn't optimizing the likelihood function. In its steady state, it is sampling from the posterior distribution. The `state` after each step of the Gibbs sampler is a sample from the posterior."
   ]
  },
  {
   "cell_type": "code",
   "execution_count": 35,
   "metadata": {},
   "outputs": [
    {
     "data": {
      "text/plain": [
       "<AxesSubplot:>"
      ]
     },
     "execution_count": 35,
     "metadata": {},
     "output_type": "execute_result"
    },
    {
     "data": {
      "image/png": "[encoded data removed]",
      "text/plain": [
       "<Figure size 432x288 with 1 Axes>"
      ]
     },
     "metadata": {
      "needs_background": "light"
     },
     "output_type": "display_data"
    }
   ],
   "source": [
    "pd.Series(ll).plot(ylim=[-150, -100])"
   ]
  },
  {
   "cell_type": "markdown",
   "metadata": {},
   "source": [
    "[In another post](/collapsed-gibbs/), I show how we can \"collapse\" the Gibbs sampler and sampling the assignment parameter without sampling the $\\pi$ and $\\theta$ values. This collapsed sampler can also be extended to the model with a Dirichet process prior that allows the number of clusters to be a parameter fit by the model."
   ]
  },
  {
   "cell_type": "markdown",
   "metadata": {
    "collapsed": true
   },
   "source": [
    "## Notation Helper\n",
    "\n",
    "* $N_k$, `state['suffstat'][k].N`: Number of points in cluster $k$.\n",
    "\n",
    "* $\\theta_k$, `state['suffstat'][k].theta`: Mean of cluster $k$.\n",
    "* $\\lambda_1$, `state['hyperparameters_']['mean']`: Mean of prior distribution over cluster means.\n",
    "* $\\lambda_2^2$, `state['hyperparameters_']['variance']` Variance of prior distribution over cluster means.\n",
    "* $\\sigma^2$, `state[cluster_variance_]`: Known, fixed variance of clusters. \n",
    "\n",
    "The superscript $(t)$ on $\\theta_k$, $pi_k$, and $z_i$ indicates the value of that variable at step $t$ of the Gibbs sampler."
   ]
  },
  {
   "cell_type": "code",
   "execution_count": 36,
   "metadata": {},
   "outputs": [
    {
     "data": {
      "text/plain": [
       "array([0.29843204, 0.20414912, 0.49741883])"
      ]
     },
     "execution_count": 36,
     "metadata": {},
     "output_type": "execute_result"
    }
   ],
   "source": [
    "state['pi']"
   ]
  },
  {
   "cell_type": "code",
   "execution_count": null,
   "metadata": {},
   "outputs": [],
   "source": []
  }
 ],
 "metadata": {
  "kernelspec": {
   "display_name": "Python 3 (ipykernel)",
   "language": "python",
   "name": "python3"
  },
  "language_info": {
   "codemirror_mode": {
    "name": "ipython",
    "version": 3
   },
   "file_extension": ".py",
   "mimetype": "text/x-python",
   "name": "python",
   "nbconvert_exporter": "python",
   "pygments_lexer": "ipython3",
   "version": "3.7.4"
  },
  "nikola": {
   "slug": "mixture-model",
   "title": "Fitting a Mixture Model with Gibbs Sampling"
  }
 },
 "nbformat": 4,
 "nbformat_minor": 1
}
