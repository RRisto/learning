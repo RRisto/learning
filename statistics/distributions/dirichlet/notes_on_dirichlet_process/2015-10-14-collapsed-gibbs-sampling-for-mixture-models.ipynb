{
 "cells": [
  {
   "cell_type": "markdown",
   "metadata": {},
   "source": [
    "# Collapsed Gibbs Sampling for Bayesian Mixture Models (with a Nonparametric Extension)"
   ]
  },
  {
   "cell_type": "markdown",
   "metadata": {},
   "source": [
    "[In an earlier notebook](/mixture-model/), I showed how we can fit the parameters of a Bayesian mixture model using a Gibbs sampler. The sampler defines a Markov chain that, in steady state, samples from the posterior distribution of the mixture model. To move the chain forward by one step we:\n",
    "\n",
    "* Sample the cluster assignment $z_i$.\n",
    "* Sample the mixture weights $\\pi$\n",
    "* Sample the cluster means $\\mu_n$."
   ]
  },
  {
   "cell_type": "markdown",
   "metadata": {},
   "source": [
    "It turns out that we can derive a Gibbs sampler that _just_ samples the assignments instead of the mixture weights and cluster means. This is known as a _collapsed_ Gibbs sampler. If we integrate out the cluster means $\\theta_k$ and mixture weights from the margial distribution of cluster assignment \n",
    "$$p(z_i=k \\,|\\, \n",
    "        z_{\\neg i}, \\pi,\n",
    "        \\theta_1, \\theta_2, \\theta_3, \\sigma, \\mathbf{x}, \\alpha\n",
    "        )$$ we are left with \n",
    "$$p(z_i\\,|\\, z_{\\neg i}, \\sigma, \\mathbf{x}, \\alpha).$$\n",
    "        \n",
    "By the conditional independence, we can factorize this marginal distribution \n",
    "$$\n",
    "\\begin{align}\n",
    "p(z_i=k\\,|\\, z_{\\neg i}, \\sigma, \\mathbf{x}, \\alpha)\n",
    "    &\\propto\n",
    "    p(z_i=k\\,|\\, x_i, z_{\\neg i}, \\sigma, \\mathbf{x}_{\\neg i}, \\alpha)\\\\\n",
    "    &=\n",
    "    p(z_i=k\\,|\\, z_{\\neg i}, \\sigma, \\mathbf{x}_{\\neg i}, \\alpha)\n",
    "    p(x_i \\,|\\, z, \\sigma, \\mathbf{x}_{\\neg i}, \\alpha)\\\\\n",
    "    &=\n",
    "    p(z_i=k \\,|\\, z_{\\neg i}, \\alpha) p(x_i \\,|\\, z, \\mathbf{x}_{\\neg i}, \\sigma)\\\\\n",
    "    &=\n",
    "    p(z_i=k \\,|\\, z_{\\neg i}, \\alpha)p(x_i \\,|\\, z_i=k, z_{\\neg i}, x_{\\neg_i}, \\sigma)\\\\\n",
    "    &=\n",
    "    p(z_i=k \\,|\\, z_{\\neg i}, \\alpha)p(x_i \\,|\\, \\left\\{x_j \\,|\\, z_j=k, j\\neq i\\right\\}, \\sigma).\n",
    "\\end{align}\n",
    "$$\n",
    "\n",
    "The two terms have intuitive explanations. $p(z_i = k \\,|\\, z_{\\neg i}, \\alpha)$ is the probability point $x_i$ will be assigned to component $k$ given the current assignments. Because we are using a symmetric Dirichlet prior, this is the predictive likelihood of a Dirichlet-categorical distribution. This is given by:\n",
    "$$p(z_i=k \\,|\\, z_{\\not i}, \\alpha)=\n",
    "    \\frac{N_k^{-i}+\\alpha / K}{N-1+\\alpha}$$\n",
    " where $N_k^{-i}=\\sum_{j\\neq i} \\delta(z_j, k)$ is the number of observation assigned to $k$ (except $x_i$). We also need to define $\\bar{x}_k^{-i}$ to be the mean of all observations assigned to component $k$ (except $x_i$).\n",
    " \n",
    "The second term is the predictive likelihood that point $x_i$ is distributed according to cluster $k$ (given the data currently in cluster $k$). For our example, we are assuming unknown cluster means are distributed according to a normal distribution with hyperparameter mean $\\lambda_1$ and variance $\\lambda_2^2$ and known cluster variance $\\sigma^2$.\n",
    "\n",
    "Thus, \n",
    "$$\n",
    "\\begin{align}\n",
    "p(x_i \\,|\\, \\left\\{x_j \\,|\\, z_j=k, j\\neq i\\right\\}, \\sigma)\n",
    "    &= \\mathcal{N}(x_i \\,|\\, \\mu_k, \\sigma_k^2+\\sigma^2)\n",
    "\\end{align}\n",
    "    $$\n",
    "where\n",
    "$$\\sigma_k^2 = \\left( \\frac{N_k^{-i}}{\\sigma^2} + \\frac{1}{\\lambda_2^2} \\right)^{-1}$$\n",
    "and\n",
    "$$\\mu_k = \\sigma_k^2 \\left( \n",
    "    \\frac{\\lambda_1}{\\lambda_2^2}+\\frac{N_k^{-i}\\cdot \\bar{x}_k^{-i}}{\\sigma^2}\n",
    "\\right).$$\n",
    "This is derived in Kevin Murphey's fantastic article [Conjugate Bayesian analysis of the Gaussian distribution](http://www.cs.ubc.ca/~murphyk/Papers/bayesGauss.pdf). \n",
    "\n",
    "\n",
    "At each step of the collapsed sampler, we sample each $z_i$ as follows:\n",
    "\n",
    "* For each cluster $k$, compute $$f_k(x_i) =p(x_i \\,|\\, \\left\\{x_j \\,|\\, x_j=k, j\\neq i\\right\\}, \\lambda).$$ This is the predictive probability that $x_i$ is in cluster $k$ given the data currently assigned to that cluster.\n",
    "* Sample $$z_i\\sim \\frac{1}{Z_i}\\sum_{k=1}^K(N_k^{-i}+\\alpha/K)f_k(x_i)\\delta(z_i,k)$$\n",
    "\n",
    "where the normalizing constant is $Z_i=\\sum_{k=1}^K(N_k^{-i}+\\alpha/K)f_k(x_i)$.\n",
    "\n",
    "Let's write code for this Gibbs sampler!"
   ]
  },
  {
   "cell_type": "code",
   "execution_count": 48,
   "metadata": {
    "collapsed": true
   },
   "outputs": [],
   "source": [
    "%matplotlib inline\n",
    "import pandas as pd\n",
    "import numpy as np\n",
    "import matplotlib.pyplot as plt\n",
    "\n",
    "from collections import namedtuple, Counter\n",
    "from scipy import stats\n",
    "from numpy import random"
   ]
  },
  {
   "cell_type": "code",
   "execution_count": 49,
   "metadata": {},
   "outputs": [],
   "source": [
    "np.random.seed(12345)"
   ]
  },
  {
   "cell_type": "markdown",
   "metadata": {},
   "source": [
    "First, load the same dataset we used [previously](/mixture-model/):"
   ]
  },
  {
   "cell_type": "code",
   "execution_count": 50,
   "metadata": {},
   "outputs": [
    {
     "data": {
      "image/png": "[encoded data removed]",
      "text/plain": [
       "<matplotlib.figure.Figure at 0x10af51050>"
      ]
     },
     "metadata": {},
     "output_type": "display_data"
    }
   ],
   "source": [
    "data = pd.Series.from_csv(\"clusters.csv\")\n",
    "_=data.hist(bins=20)"
   ]
  },
  {
   "cell_type": "markdown",
   "metadata": {},
   "source": [
    "Again, we want to define a state object and a function for updating the sufficient statistics of the state."
   ]
  },
  {
   "cell_type": "code",
   "execution_count": 51,
   "metadata": {},
   "outputs": [],
   "source": [
    "SuffStat = namedtuple('SuffStat', 'theta N')\n",
    "\n",
    "def initial_state(num_clusters=3, alpha=1.0):\n",
    "    cluster_ids = range(num_clusters)\n",
    "\n",
    "    state = {\n",
    "        'cluster_ids_': cluster_ids,\n",
    "        'data_': data,\n",
    "        'num_clusters_': num_clusters,\n",
    "        'cluster_variance_': .01,\n",
    "        'alpha_': alpha,\n",
    "        'hyperparameters_': {\n",
    "            \"mean\": 0,\n",
    "            \"variance\": 1,\n",
    "        },\n",
    "        'suffstats': {cid: None for cid in cluster_ids},\n",
    "        'assignment': [random.choice(cluster_ids) for _ in data],\n",
    "        'pi': {cid: alpha / num_clusters for cid in cluster_ids},\n",
    "    }\n",
    "    update_suffstats(state)\n",
    "    return state\n",
    "\n",
    "def update_suffstats(state):\n",
    "    for cluster_id, N in Counter(state['assignment']).iteritems():\n",
    "        points_in_cluster = [x \n",
    "            for x, cid in zip(state['data_'], state['assignment'])\n",
    "            if cid == cluster_id\n",
    "        ]\n",
    "        mean = np.array(points_in_cluster).mean()\n",
    "        \n",
    "        state['suffstats'][cluster_id] = SuffStat(mean, N)"
   ]
  },
  {
   "cell_type": "markdown",
   "metadata": {},
   "source": [
    "Next we define functions to compute the two terms of our marginal distribution over cluster assignments (as we derived above)."
   ]
  },
  {
   "cell_type": "code",
   "execution_count": 52,
   "metadata": {},
   "outputs": [],
   "source": [
    "def log_predictive_likelihood(data_id, cluster_id, state):\n",
    "    \"\"\"Predictive likelihood of the data at data_id is generated\n",
    "    by cluster_id given the currenbt state.\n",
    "    \n",
    "    From Section 2.4 of \n",
    "    http://www.cs.ubc.ca/~murphyk/Papers/bayesGauss.pdf\n",
    "    \"\"\"\n",
    "    ss = state['suffstats'][cluster_id]\n",
    "    hp_mean = state['hyperparameters_']['mean']\n",
    "    hp_var = state['hyperparameters_']['variance']\n",
    "    param_var = state['cluster_variance_']\n",
    "    x = state['data_'][data_id]\n",
    "    return _log_predictive_likelihood(ss, hp_mean, hp_var, param_var, x)\n",
    "\n",
    "\n",
    "def _log_predictive_likelihood(ss, hp_mean, hp_var, param_var, x):\n",
    "    posterior_sigma2 = 1 / (ss.N * 1. / param_var + 1. / hp_var)\n",
    "    predictive_mu = posterior_sigma2 * (hp_mean * 1. / hp_var + ss.N * ss.theta * 1. / param_var)\n",
    "    predictive_sigma2 = param_var + posterior_sigma2\n",
    "    predictive_sd = np.sqrt(predictive_sigma2)\n",
    "    return stats.norm(predictive_mu, predictive_sd).logpdf(x)\n",
    "\n",
    "\n",
    "def log_cluster_assign_score(cluster_id, state):\n",
    "    \"\"\"Log-likelihood that a new point generated will\n",
    "    be assigned to cluster_id given the current state.\n",
    "    \"\"\"\n",
    "    current_cluster_size = state['suffstats'][cluster_id].N\n",
    "    num_clusters = state['num_clusters_']\n",
    "    alpha = state['alpha_']\n",
    "    return np.log(current_cluster_size + alpha * 1. / num_clusters)"
   ]
  },
  {
   "cell_type": "markdown",
   "metadata": {},
   "source": [
    "Given these two functions, we can compute the posterior probability distribution for assignment of a given datapoint. This is the core of our collapsed Gibbs sampler.\n",
    "\n",
    "To simplify the computation of things like $N_k^{-i}$ (where we remove point $i$ from the summary statistics), we create two simple functions to add and remove a point from the summary statistics for a given cluster. "
   ]
  },
  {
   "cell_type": "code",
   "execution_count": 53,
   "metadata": {
    "collapsed": true
   },
   "outputs": [],
   "source": [
    "def cluster_assignment_distribution(data_id, state):\n",
    "    \"\"\"Compute the marginal distribution of cluster assignment\n",
    "    for each cluster.\n",
    "    \"\"\"\n",
    "    scores = {}\n",
    "    for cid in state['suffstats'].keys():\n",
    "        scores[cid] = log_predictive_likelihood(data_id, cid, state)\n",
    "        scores[cid] += log_cluster_assign_score(cid, state)\n",
    "    scores = {cid: np.exp(score) for cid, score in scores.iteritems()}\n",
    "    normalization = 1.0/sum(scores.values())\n",
    "    scores = {cid: score*normalization for cid, score in scores.iteritems()}\n",
    "    return scores\n",
    "\n",
    "def add_datapoint_to_suffstats(x, ss):\n",
    "    \"\"\"Add datapoint to sufficient stats for normal component\n",
    "    \"\"\"\n",
    "    return SuffStat((ss.theta*(ss.N)+x)/(ss.N+1), ss.N+1)\n",
    "\n",
    "\n",
    "def remove_datapoint_from_suffstats(x, ss):\n",
    "    \"\"\"Remove datapoint from sufficient stats for normal component\n",
    "    \"\"\"\n",
    "    return SuffStat((ss.theta*(ss.N)-x*1.0)/(ss.N-1), ss.N-1)"
   ]
  },
  {
   "cell_type": "markdown",
   "metadata": {},
   "source": [
    "Finally, we're ready to create a function that takes a Gibbs step on the state. For each datapoint, it\n",
    "1. Removes the datapoint from its current cluster.\n",
    "2. Computes the posterior probability of the point being assigned to each cluster (given the other current assignments).\n",
    "3. Assigns the datapoint to a cluster sampled from this probability distribution."
   ]
  },
  {
   "cell_type": "code",
   "execution_count": 54,
   "metadata": {},
   "outputs": [],
   "source": [
    "def gibbs_step(state):\n",
    "    pairs = zip(state['data_'], state['assignment'])\n",
    "    for data_id, (datapoint, cid) in enumerate(pairs):\n",
    "\n",
    "        state['suffstats'][cid] = remove_datapoint_from_suffstats(datapoint, \n",
    "                                                                  state['suffstats'][cid])\n",
    "        scores = cluster_assignment_distribution(data_id, state).items()\n",
    "        labels, scores = zip(*scores)\n",
    "        cid = random.choice(labels, p=scores)\n",
    "        state['assignment'][data_id] = cid\n",
    "        state['suffstats'][cid] = add_datapoint_to_suffstats(state['data_'][data_id], state['suffstats'][cid])"
   ]
  },
  {
   "cell_type": "markdown",
   "metadata": {},
   "source": [
    "Here's our old function to plot the assignments."
   ]
  },
  {
   "cell_type": "code",
   "execution_count": 55,
   "metadata": {
    "collapsed": true
   },
   "outputs": [],
   "source": [
    "def plot_clusters(state):\n",
    "    gby = pd.DataFrame({\n",
    "            'data': state['data_'], \n",
    "            'assignment': state['assignment']}\n",
    "        ).groupby(by='assignment')['data']\n",
    "    hist_data = [gby.get_group(cid).tolist() \n",
    "                 for cid in gby.groups.keys()]\n",
    "    plt.hist(hist_data, \n",
    "             bins=20,\n",
    "             histtype='stepfilled', alpha=.5 )"
   ]
  },
  {
   "cell_type": "markdown",
   "metadata": {},
   "source": [
    "Randomly assign the datapoints to a cluster to start."
   ]
  },
  {
   "cell_type": "code",
   "execution_count": 56,
   "metadata": {},
   "outputs": [
    {
     "data": {
      "image/png": "[encoded data removed]",
      "text/plain": [
       "<matplotlib.figure.Figure at 0x10b3607d0>"
      ]
     },
     "metadata": {},
     "output_type": "display_data"
    }
   ],
   "source": [
    "state = initial_state()\n",
    "plot_clusters(state)"
   ]
  },
  {
   "cell_type": "markdown",
   "metadata": {},
   "source": [
    "Look what happens to the assignments after just one Gibbs step!"
   ]
  },
  {
   "cell_type": "code",
   "execution_count": 57,
   "metadata": {},
   "outputs": [
    {
     "data": {
      "image/png": "[encoded data removed]",
      "text/plain": [
       "<matplotlib.figure.Figure at 0x10b839f90>"
      ]
     },
     "metadata": {},
     "output_type": "display_data"
    }
   ],
   "source": [
    "gibbs_step(state)\n",
    "plot_clusters(state)"
   ]
  },
  {
   "cell_type": "markdown",
   "metadata": {},
   "source": [
    "Two:"
   ]
  },
  {
   "cell_type": "code",
   "execution_count": 58,
   "metadata": {},
   "outputs": [
    {
     "data": {
      "image/png": "[encoded data removed]",
      "text/plain": [
       "<matplotlib.figure.Figure at 0x10b82e0d0>"
      ]
     },
     "metadata": {},
     "output_type": "display_data"
    }
   ],
   "source": [
    "gibbs_step(state)\n",
    "plot_clusters(state)"
   ]
  },
  {
   "cell_type": "markdown",
   "metadata": {},
   "source": [
    "After just two steps, our assignments look _really_ good. We can run it a few more times and see the assignments again."
   ]
  },
  {
   "cell_type": "code",
   "execution_count": 59,
   "metadata": {},
   "outputs": [
    {
     "data": {
      "image/png": "[encoded data removed]",
      "text/plain": [
       "<matplotlib.figure.Figure at 0x10b3cb7d0>"
      ]
     },
     "metadata": {},
     "output_type": "display_data"
    }
   ],
   "source": [
    "for _ in range(20): gibbs_step(state)\n",
    "plot_clusters(state)"
   ]
  },
  {
   "cell_type": "markdown",
   "metadata": {},
   "source": [
    "### Nonparametric Mixture Models!\n",
    "\n",
    "It turns out, the collapsed Gibbs sampler for mixture models is almost identical in the context of a _nonparametric_ model. This model uses a _Dirichlet process prior_ instead of a _Dirichlet distribution prior_. It doesn't require us to specify how many clusters we are looking for in our data.\n",
    "\n",
    "The cluster assignment score changes slightly. It is proportional to $N_k^{-i}$ for each known cluster. We assign a datapoint to a _new_ cluster with probability proportional to $\\alpha$ (which is now the DP dispersion parameter)."
   ]
  },
  {
   "cell_type": "code",
   "execution_count": 60,
   "metadata": {
    "collapsed": true
   },
   "outputs": [],
   "source": [
    "def log_cluster_assign_score_dp(cluster_id, state):\n",
    "    \"\"\"Log-likelihood that a new point generated will\n",
    "    be assigned to cluster_id given the current state.\n",
    "    \"\"\"\n",
    "    if cluster_id == \"new\":\n",
    "        return np.log(state[\"alpha_\"])\n",
    "    else:\n",
    "        return np.log(state['suffstats'][cluster_id].N)"
   ]
  },
  {
   "cell_type": "markdown",
   "metadata": {},
   "source": [
    "The predictive likelihood remains the same for known clusters. However, we need to know the likelihood of assigning a datapoint to a new cluster. In this case, we fall back on the hyperparameters to get:\n",
    "\n",
    "$$\n",
    "\\begin{align}\n",
    "p(x_i \\,|\\, z, x_{\\neg_i}, \\sigma)\n",
    "    &= \\mathcal{N}(x_i \\,|\\, \\lambda_1, \\lambda_2^2+\\sigma^2)\n",
    "\\end{align}\n",
    "    $$"
   ]
  },
  {
   "cell_type": "code",
   "execution_count": 61,
   "metadata": {
    "collapsed": true
   },
   "outputs": [],
   "source": [
    "def log_predictive_likelihood_dp(data_id, cluster_id, state):\n",
    "    \"\"\"Predictive likelihood of the data at data_id is generated\n",
    "    by cluster_id given the currenbt state.\n",
    "    \n",
    "    From Section 2.4 of \n",
    "    http://www.cs.ubc.ca/~murphyk/Papers/bayesGauss.pdf\n",
    "    \"\"\"\n",
    "    if cluster_id == \"new\":\n",
    "        ss = SuffStat(0, 0)\n",
    "    else:\n",
    "        ss = state['suffstats'][cluster_id]\n",
    "        \n",
    "    hp_mean = state['hyperparameters_']['mean']\n",
    "    hp_var = state['hyperparameters_']['variance']\n",
    "    param_var = state['cluster_variance_']\n",
    "    x = state['data_'][data_id]\n",
    "    return _log_predictive_likelihood(ss, hp_mean, hp_var, param_var, x)"
   ]
  },
  {
   "cell_type": "markdown",
   "metadata": {},
   "source": [
    "Given this, we can define the marginal distribution over cluster assignment. The only change is that the \"`new`\" state enters in the distribution."
   ]
  },
  {
   "cell_type": "code",
   "execution_count": 62,
   "metadata": {
    "collapsed": true
   },
   "outputs": [],
   "source": [
    "def cluster_assignment_distribution_dp(data_id, state):\n",
    "    \"\"\"Compute the marginal distribution of cluster assignment\n",
    "    for each cluster.\n",
    "    \"\"\"\n",
    "    scores = {}\n",
    "    cluster_ids = state['suffstats'].keys() + ['new']\n",
    "    for cid in cluster_ids:\n",
    "        scores[cid] = log_predictive_likelihood_dp(data_id, cid, state)\n",
    "        scores[cid] += log_cluster_assign_score_dp(cid, state)\n",
    "    scores = {cid: np.exp(score) for cid, score in scores.iteritems()}\n",
    "    normalization = 1.0/sum(scores.values())\n",
    "    scores = {cid: score*normalization for cid, score in scores.iteritems()}\n",
    "    return scores"
   ]
  },
  {
   "cell_type": "markdown",
   "metadata": {},
   "source": [
    "We also need to be able to create a new cluster when \"`new`\" is drawn, and destroy a cluster if its emptied."
   ]
  },
  {
   "cell_type": "code",
   "execution_count": 63,
   "metadata": {
    "collapsed": true
   },
   "outputs": [],
   "source": [
    "def create_cluster(state):\n",
    "    state[\"num_clusters_\"] += 1\n",
    "    cluster_id = max(state['suffstats'].keys()) + 1\n",
    "    state['suffstats'][cluster_id] = SuffStat(0, 0)\n",
    "    state['cluster_ids_'].append(cluster_id)\n",
    "    return cluster_id\n",
    "\n",
    "def destroy_cluster(state, cluster_id):\n",
    "    state[\"num_clusters_\"] = 1\n",
    "    del state['suffstats'][cluster_id]\n",
    "    state['cluster_ids_'].remove(cluster_id)\n",
    "    \n",
    "def prune_clusters(state):\n",
    "    for cid in state['cluster_ids_']:\n",
    "        if state['suffstats'][cid].N == 0:\n",
    "            destroy_cluster(state, cid)"
   ]
  },
  {
   "cell_type": "markdown",
   "metadata": {},
   "source": [
    "Finally, we can define the `gibbs_step_dp` function. It's nearly identical to the earlier `gibbs_step` function except\n",
    "* It uses `cluster_assignment_distribution_dp`\n",
    "* It creates a new cluster when the sampled assignment is \"`new`\".\n",
    "* It destroys a cluster any time it is emptied.\n",
    "\n",
    "For clarity, I split out the code for sampling assignment to its own function. "
   ]
  },
  {
   "cell_type": "code",
   "execution_count": 64,
   "metadata": {},
   "outputs": [],
   "source": [
    "def sample_assignment(data_id, state):\n",
    "    \"\"\"Sample new assignment from marginal distribution.\n",
    "    If cluster is \"`new`\", create a new cluster.\n",
    "    \"\"\"\n",
    "    scores = cluster_assignment_distribution_dp(data_id, state).items()\n",
    "    labels, scores = zip(*scores)\n",
    "    cid = random.choice(labels, p=scores)\n",
    "    if cid == \"new\":\n",
    "        return create_cluster(state)\n",
    "    else:\n",
    "        return int(cid)\n",
    "\n",
    "def gibbs_step_dp(state):\n",
    "    \"\"\"Collapsed Gibbs sampler for Dirichlet Process Mixture Model\n",
    "    \"\"\"\n",
    "    pairs = zip(state['data_'], state['assignment'])\n",
    "    for data_id, (datapoint, cid) in enumerate(pairs):\n",
    "        state['suffstats'][cid] = remove_datapoint_from_suffstats(datapoint, state['suffstats'][cid])\n",
    "        prune_clusters(state)\n",
    "        cid = sample_assignment(data_id, state)\n",
    "        state['assignment'][data_id] = cid\n",
    "        state['suffstats'][cid] = add_datapoint_to_suffstats(state['data_'][data_id], state['suffstats'][cid])\n"
   ]
  },
  {
   "cell_type": "markdown",
   "metadata": {},
   "source": [
    "This time, we will start by randomly assigning our data to two clusters."
   ]
  },
  {
   "cell_type": "code",
   "execution_count": 65,
   "metadata": {},
   "outputs": [
    {
     "data": {
      "image/png": "[encoded data removed]",
      "text/plain": [
       "<matplotlib.figure.Figure at 0x10b3cead0>"
      ]
     },
     "metadata": {},
     "output_type": "display_data"
    }
   ],
   "source": [
    "state = initial_state(num_clusters=2, alpha=0.1)\n",
    "plot_clusters(state)"
   ]
  },
  {
   "cell_type": "markdown",
   "metadata": {},
   "source": [
    "Here's what happens when we run our Gibbs sampler once.\n"
   ]
  },
  {
   "cell_type": "code",
   "execution_count": 66,
   "metadata": {},
   "outputs": [
    {
     "data": {
      "image/png": "[encoded data removed]",
      "text/plain": [
       "<matplotlib.figure.Figure at 0x10af45190>"
      ]
     },
     "metadata": {},
     "output_type": "display_data"
    }
   ],
   "source": [
    "gibbs_step_dp(state)\n",
    "plot_clusters(state)"
   ]
  },
  {
   "cell_type": "markdown",
   "metadata": {},
   "source": [
    "We went from 2 to 4 clusters!"
   ]
  },
  {
   "cell_type": "markdown",
   "metadata": {},
   "source": [
    "After 100 iterations:"
   ]
  },
  {
   "cell_type": "code",
   "execution_count": 67,
   "metadata": {
    "scrolled": false
   },
   "outputs": [
    {
     "data": {
      "image/png": "[encoded data removed]",
      "text/plain": [
       "<matplotlib.figure.Figure at 0x10b442a50>"
      ]
     },
     "metadata": {},
     "output_type": "display_data"
    }
   ],
   "source": [
    "for _ in range(99): gibbs_step_dp(state)\n",
    "plot_clusters(state)"
   ]
  },
  {
   "cell_type": "markdown",
   "metadata": {},
   "source": [
    "After 100 iterations, our assignment looks correct! We went back to 3 clusters."
   ]
  },
  {
   "cell_type": "markdown",
   "metadata": {},
   "source": [
    "We can sample the mixture weights, if we need them, using the \"Conditional Distribution of Mixture Weights\" derived [here](/mixture-model/)."
   ]
  },
  {
   "cell_type": "code",
   "execution_count": 68,
   "metadata": {},
   "outputs": [
    {
     "data": {
      "text/plain": [
       "array([ 0.21330625,  0.29838101,  0.48831275])"
      ]
     },
     "execution_count": 68,
     "metadata": {},
     "output_type": "execute_result"
    }
   ],
   "source": [
    "ss = state['suffstats']\n",
    "alpha = [ss[cid].N + state['alpha_'] / state['num_clusters_'] \n",
    "         for cid in state['cluster_ids_']]\n",
    "stats.dirichlet(alpha).rvs(size=1).flatten()"
   ]
  },
  {
   "cell_type": "markdown",
   "metadata": {},
   "source": [
    "We can also sample the cluster means using [the method we derived earlier](/mixture-model/):"
   ]
  },
  {
   "cell_type": "code",
   "execution_count": 69,
   "metadata": {},
   "outputs": [
    {
     "name": "stdout",
     "output_type": "stream",
     "text": [
      "cluster_id: 1 mean -0.0176257860235\n",
      "cluster_id: 2 mean -0.400581819532\n",
      "cluster_id: 3 mean 0.600302879661\n"
     ]
    }
   ],
   "source": [
    "for cluster_id in state['cluster_ids_']:\n",
    "    cluster_var = state['cluster_variance_']\n",
    "    hp_mean = state['hyperparameters_']['mean']\n",
    "    hp_var = state['hyperparameters_']['variance']\n",
    "    ss = state['suffstats'][cluster_id]\n",
    "\n",
    "    numerator = hp_mean / hp_var + ss.theta * ss.N / cluster_var\n",
    "    denominator = (1.0 / hp_var + ss.N / cluster_var)\n",
    "    posterior_mu = numerator / denominator\n",
    "    posterior_var = 1.0 / denominator\n",
    "\n",
    "    mean = stats.norm(posterior_mu, np.sqrt(posterior_var)).rvs()\n",
    "    print(\"cluster_id:\", cluster_id, \"mean\", mean)\n"
   ]
  },
  {
   "cell_type": "markdown",
   "metadata": {},
   "source": [
    "Much thanks to Erik Sudderth's excellent introduction to nonparametric Bayes in [Chapter 2 of his dissertation](http://cs.brown.edu/~sudderth/papers/sudderthPhD.pdf). Algorithms 2.2 and 2.3 in that piece are the clearest formulation of collapsed Gibbs sampling for mixture models that I have come across."
   ]
  }
 ],
 "metadata": {
  "kernelspec": {
   "display_name": "Python 3",
   "language": "python",
   "name": "python3"
  },
  "language_info": {
   "codemirror_mode": {
    "name": "ipython",
    "version": 3
   },
   "file_extension": ".py",
   "mimetype": "text/x-python",
   "name": "python",
   "nbconvert_exporter": "python",
   "pygments_lexer": "ipython3",
   "version": "3.6.4"
  },
  "nikola": {
   "date": "2015-10-14",
   "slug": "collapsed-gibbs",
   "title": "Collapsed Gibbs Sampling for Mixture Models"
  }
 },
 "nbformat": 4,
 "nbformat_minor": 1
}
