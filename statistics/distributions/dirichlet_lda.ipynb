{
 "cells": [
  {
   "cell_type": "code",
   "execution_count": 2,
   "id": "625454f5",
   "metadata": {},
   "outputs": [],
   "source": [
    "from scipy.stats import dirichlet, poisson\n",
    "from numpy import round\n",
    "from collections import defaultdict\n",
    "from random import choice as stl_choice\n",
    "from collections import Counter\n",
    "from scipy.stats import beta\n",
    "from numpy.random import choice"
   ]
  },
  {
   "cell_type": "markdown",
   "id": "399af162",
   "metadata": {},
   "source": [
    "## Params"
   ]
  },
  {
   "cell_type": "code",
   "execution_count": 3,
   "id": "08b74744",
   "metadata": {},
   "outputs": [],
   "source": [
    "vocabulary = ['see', 'spot', 'run']\n",
    "num_terms = len(vocabulary)\n",
    "num_topics = 2 # K\n",
    "num_documents = 5 # M\n",
    "mean_document_length = 5 # xi\n",
    "term_dirichlet_parameter = 1 # beta\n",
    "topic_dirichlet_parameter = 1 # alpha"
   ]
  },
  {
   "cell_type": "markdown",
   "id": "d7af3e73",
   "metadata": {},
   "source": [
    "## init"
   ]
  },
  {
   "cell_type": "code",
   "execution_count": 4,
   "id": "de2cd2f5",
   "metadata": {},
   "outputs": [
    {
     "name": "stdout",
     "output_type": "stream",
     "text": [
      "[[0.41002688 0.01880712 0.571166  ]\n",
      " [0.37652229 0.35930123 0.26417647]]\n"
     ]
    }
   ],
   "source": [
    "term_dirichlet_vector = num_terms * [term_dirichlet_parameter]\n",
    "term_distributions = dirichlet(term_dirichlet_vector, 2).rvs(size=num_topics)\n",
    "print(term_distributions)"
   ]
  },
  {
   "cell_type": "code",
   "execution_count": 7,
   "id": "1f6803df",
   "metadata": {},
   "outputs": [
    {
     "name": "stdout",
     "output_type": "stream",
     "text": [
      "count: 5066 topic: [0.38, 0.36, 0.26]\n",
      "count: 4934 topic: [0.41, 0.02, 0.57]\n"
     ]
    }
   ],
   "source": [
    "base_distribution = lambda: stl_choice(term_distributions)\n",
    "# A sample from base_distribution is a distribution over terms\n",
    "# Each of our two topics has equal probability\n",
    "for topic, count in Counter([tuple(base_distribution()) for _ in range(10000)]).most_common():\n",
    "    print(\"count:\", count, \"topic:\", [round(prob, 2) for prob in topic])"
   ]
  },
  {
   "cell_type": "code",
   "execution_count": 8,
   "id": "f3977811",
   "metadata": {},
   "outputs": [],
   "source": [
    "class DirichletProcessSample():\n",
    "    def __init__(self, base_measure, alpha):\n",
    "        self.base_measure = base_measure\n",
    "        self.alpha = alpha\n",
    "        \n",
    "        self.cache = []\n",
    "        self.weights = []\n",
    "        self.total_stick_used = 0.\n",
    "\n",
    "    def __call__(self):\n",
    "        remaining = 1.0 - self.total_stick_used\n",
    "        i = DirichletProcessSample.roll_die(self.weights + [remaining])\n",
    "        if i is not None and i < len(self.weights) :\n",
    "            return self.cache[i]\n",
    "        else:\n",
    "            stick_piece = beta(1, self.alpha).rvs() * remaining\n",
    "            self.total_stick_used += stick_piece\n",
    "            self.weights.append(stick_piece)\n",
    "            new_value = self.base_measure()\n",
    "            self.cache.append(new_value)\n",
    "            return new_value\n",
    "      \n",
    "    @staticmethod \n",
    "    def roll_die(weights):\n",
    "        if weights:\n",
    "            return choice(range(len(weights)), p=weights)\n",
    "        else:\n",
    "            return None"
   ]
  },
  {
   "cell_type": "markdown",
   "id": "230b6fc2",
   "metadata": {},
   "source": [
    "## Train"
   ]
  },
  {
   "cell_type": "code",
   "execution_count": 9,
   "id": "74985917",
   "metadata": {},
   "outputs": [],
   "source": [
    "topic_distribution = DirichletProcessSample(base_measure=base_distribution, \n",
    "                                            alpha=topic_dirichlet_parameter)"
   ]
  },
  {
   "cell_type": "code",
   "execution_count": 10,
   "id": "22535f27",
   "metadata": {},
   "outputs": [
    {
     "name": "stdout",
     "output_type": "stream",
     "text": [
      "count: 7115 topic: [0.38, 0.36, 0.26]\n",
      "count: 2885 topic: [0.41, 0.02, 0.57]\n"
     ]
    }
   ],
   "source": [
    "for topic, count in Counter([tuple(topic_distribution()) for _ in range(10000)]).most_common():\n",
    "    print(\"count:\", count, \"topic:\", [round(prob, 2) for prob in topic])"
   ]
  },
  {
   "cell_type": "code",
   "execution_count": 11,
   "id": "d53c7d69",
   "metadata": {},
   "outputs": [],
   "source": [
    "topic_index = defaultdict(list)\n",
    "documents = defaultdict(list)\n",
    "\n",
    "for doc in range(num_documents):\n",
    "    topic_distribution_rvs = DirichletProcessSample(base_measure=base_distribution, \n",
    "                                                    alpha=topic_dirichlet_parameter)\n",
    "    document_length = poisson(mean_document_length).rvs()\n",
    "    for word in range(document_length):\n",
    "        topic_distribution = topic_distribution_rvs()\n",
    "        topic_index[doc].append(tuple(topic_distribution))\n",
    "        documents[doc].append(choice(vocabulary, p=topic_distribution))"
   ]
  },
  {
   "cell_type": "code",
   "execution_count": 12,
   "id": "287fb924",
   "metadata": {},
   "outputs": [
    {
     "name": "stdout",
     "output_type": "stream",
     "text": [
      "['see', 'spot', 'run', 'spot', 'spot', 'spot']\n",
      "['see', 'run', 'see', 'run', 'run']\n",
      "['see', 'run', 'see', 'see', 'run', 'spot']\n",
      "['spot', 'spot', 'spot']\n",
      "['see', 'see', 'run', 'run', 'run', 'run']\n"
     ]
    }
   ],
   "source": [
    "for doc in documents.values():\n",
    "    print(doc)"
   ]
  },
  {
   "cell_type": "code",
   "execution_count": 13,
   "id": "f8642e69",
   "metadata": {},
   "outputs": [
    {
     "name": "stdout",
     "output_type": "stream",
     "text": [
      "Doc: 0\n",
      "      count: 6 topic: [0.38, 0.36, 0.26]\n",
      "Doc: 1\n",
      "      count: 5 topic: [0.41, 0.02, 0.57]\n",
      "Doc: 2\n",
      "      count: 5 topic: [0.41, 0.02, 0.57]\n",
      "      count: 1 topic: [0.38, 0.36, 0.26]\n",
      "Doc: 3\n",
      "      count: 3 topic: [0.38, 0.36, 0.26]\n",
      "Doc: 4\n",
      "      count: 6 topic: [0.41, 0.02, 0.57]\n"
     ]
    }
   ],
   "source": [
    "for i, doc in enumerate(Counter(term_dist).most_common() for term_dist in topic_index.values()):\n",
    "    print(\"Doc:\", i)\n",
    "    for topic, count in doc:\n",
    "        print(5*\" \", \"count:\", count, \"topic:\", [round(prob, 2) for prob in topic])"
   ]
  },
  {
   "cell_type": "code",
   "execution_count": null,
   "id": "da270f0c",
   "metadata": {},
   "outputs": [],
   "source": []
  }
 ],
 "metadata": {
  "kernelspec": {
   "display_name": "Python 3",
   "language": "python",
   "name": "python3"
  },
  "language_info": {
   "codemirror_mode": {
    "name": "ipython",
    "version": 3
   },
   "file_extension": ".py",
   "mimetype": "text/x-python",
   "name": "python",
   "nbconvert_exporter": "python",
   "pygments_lexer": "ipython3",
   "version": "3.7.4"
  }
 },
 "nbformat": 4,
 "nbformat_minor": 5
}
