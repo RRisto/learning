{
 "cells": [
  {
   "cell_type": "code",
   "execution_count": 1,
   "metadata": {
    "collapsed": true
   },
   "outputs": [],
   "source": [
    "import mmh3\n",
    "from nltk import ngrams\n",
    "# from shingles.util import generate_random_seeds, jaccard_similarity\n",
    "\n",
    "class ShingledText:\n",
    "    def __init__(self, text, random_seed=5, shingle_length=5, minhash_size=200):\n",
    "        split_text = text.split()\n",
    "        if len(split_text) < shingle_length:\n",
    "            raise ValueError(u'input text is too short for specified shingle length of {}'.format(shingle_length))\n",
    "\n",
    "        self.minhash = []\n",
    "        self.shingles = ngrams(split_text, shingle_length)\n",
    "\n",
    "        for hash_seed in generate_random_seeds(minhash_size, random_seed):\n",
    "            min_value = float('inf')\n",
    "            for shingle in ngrams(split_text, shingle_length):\n",
    "                value = mmh3.hash(' '.join(shingle), hash_seed)\n",
    "                min_value = min(min_value, value)\n",
    "            self.minhash.append(min_value)\n",
    "\n",
    "    def similarity(self, other_shingled_text):\n",
    "        return jaccard_similarity(set(self.minhash), \n",
    "                set(other_shingled_text.minhash))\n"
   ]
  },
  {
   "cell_type": "code",
   "execution_count": 2,
   "metadata": {
    "collapsed": true
   },
   "outputs": [],
   "source": [
    "import random\n",
    "\n",
    "def generate_random_seeds(n, seed=5):\n",
    "    random.seed(seed)\n",
    "    return random.sample(range(1, n+1), n)\n",
    "\n",
    "def jaccard_similarity(set_a, set_b):\n",
    "    return len(set_a.intersection(set_b)) / len(set_a.union(set_b))"
   ]
  },
  {
   "cell_type": "code",
   "execution_count": 3,
   "metadata": {
    "collapsed": true
   },
   "outputs": [],
   "source": [
    "paragraph = u\"\"\"\n",
    "Lorem ipsum dolor sit amet, consectetur adipiscing elit, sed do eiusmod tempor incididunt ut labore et dolore magna aliqua. Ut enim ad minim veniam, quis nostrud exercitation ullamco laboris nisi ut aliquip ex ea commodo consequat. Duis aute irure dolor in reprehenderit in voluptate velit esse cillum dolore eu fugiat nulla pariatur. Excepteur sint occaecat cupidatat non proident, sunt in culpa qui officia deserunt mollit anim id est laborum.\n",
    "\"\"\"\n",
    "\n",
    "rearranged_paragraph = u\"\"\"\n",
    "Duis aute irure dolor in reprehenderit in voluptate velit esse cillum dolore eu fugiat nulla pariatur. Excepteur sint occaecat cupidatat non proident, sunt in culpa qui officia deserunt mollit anim id est laborum. Lorem ipsum dolor sit amet, consectetur adipiscing elit, sed do eiusmod tempor incididunt ut labore et dolore magna aliqual. Ut enim ad minim veniam, quis nostrud exercitation ullamco laboris nisi ut aliquip ex ea commodo conseua\n",
    "\"\"\"\n",
    "\n",
    "another_paragraph = u\"\"\"\n",
    "Apparently she had forgotten her age and by force of habit employed all\n",
    "the old feminine arts. But as soon as the prince had gone her face\n",
    "resumed its former cold, artificial expression. She returned to the\n",
    "group where the vicomte was still talking, and again pretended to\n",
    "listen, while waiting till it would be time to leave. Her task was\n",
    "accomplished.\n",
    "\"\"\""
   ]
  },
  {
   "cell_type": "code",
   "execution_count": 4,
   "metadata": {
    "collapsed": true
   },
   "outputs": [],
   "source": [
    "shingled_text = ShingledText(paragraph, 5, 5, 20)\n",
    "rearranged_shingled_text = ShingledText( rearranged_paragraph, 5, 5, 20)\n",
    "shingled_diff_text = ShingledText(another_paragraph, 5, 5, 20)"
   ]
  },
  {
   "cell_type": "code",
   "execution_count": 5,
   "metadata": {},
   "outputs": [
    {
     "data": {
      "text/plain": [
       "0.6"
      ]
     },
     "execution_count": 5,
     "metadata": {},
     "output_type": "execute_result"
    }
   ],
   "source": [
    "shingled_text.similarity(rearranged_shingled_text)"
   ]
  },
  {
   "cell_type": "code",
   "execution_count": 6,
   "metadata": {},
   "outputs": [
    {
     "data": {
      "text/plain": [
       "0.0"
      ]
     },
     "execution_count": 6,
     "metadata": {},
     "output_type": "execute_result"
    }
   ],
   "source": [
    "shingled_text.similarity(shingled_diff_text)"
   ]
  },
  {
   "cell_type": "code",
   "execution_count": 16,
   "metadata": {
    "collapsed": true
   },
   "outputs": [],
   "source": [
    "txt=\"\"\"Long ago, when there was no written history, these islands were the home of millions of happy birds; \n",
    "the resort of a hundred times more millions of fishes, sea lions, and other creatures. Here lived \n",
    "innumerable creatures predestined from the creation of the world to lay up a store of wealth for the \n",
    "British farmer, and a store of quite another sort for an immaculate Republican government.\"\"\""
   ]
  },
  {
   "cell_type": "code",
   "execution_count": 17,
   "metadata": {
    "collapsed": true
   },
   "outputs": [],
   "source": [
    "txt2=\"\"\"In ages which have no record these islands were the home of millions of happy birds, the resort of a hundred \n",
    "times more millions of fishes, of sea lions, and other creatures whose names are not so common; the marine residence, \n",
    "in fact, of innumerable creatures predestined from the creation of the world to lay up a store of wealth for the\n",
    "British farmer, and a store of quite another sort for an immaculate Republican government\"\"\""
   ]
  },
  {
   "cell_type": "code",
   "execution_count": 18,
   "metadata": {
    "collapsed": true
   },
   "outputs": [],
   "source": [
    "shingled_text = ShingledText(txt, 5, 5, 20)"
   ]
  },
  {
   "cell_type": "code",
   "execution_count": 19,
   "metadata": {
    "collapsed": true
   },
   "outputs": [],
   "source": [
    "rearranged_shingled_text = ShingledText( txt2, 5, 5, 20)"
   ]
  },
  {
   "cell_type": "code",
   "execution_count": 20,
   "metadata": {},
   "outputs": [
    {
     "data": {
      "text/plain": [
       "0.25"
      ]
     },
     "execution_count": 20,
     "metadata": {},
     "output_type": "execute_result"
    }
   ],
   "source": [
    "shingled_text.similarity(rearranged_shingled_text)"
   ]
  },
  {
   "cell_type": "code",
   "execution_count": null,
   "metadata": {
    "collapsed": true
   },
   "outputs": [],
   "source": []
  },
  {
   "cell_type": "code",
   "execution_count": null,
   "metadata": {
    "collapsed": true
   },
   "outputs": [],
   "source": []
  }
 ],
 "metadata": {
  "kernelspec": {
   "display_name": "Python 3",
   "language": "python",
   "name": "python3"
  },
  "language_info": {
   "codemirror_mode": {
    "name": "ipython",
    "version": 3
   },
   "file_extension": ".py",
   "mimetype": "text/x-python",
   "name": "python",
   "nbconvert_exporter": "python",
   "pygments_lexer": "ipython3",
   "version": "3.5.4"
  }
 },
 "nbformat": 4,
 "nbformat_minor": 2
}
