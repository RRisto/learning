{
 "cells": [
  {
   "cell_type": "code",
   "execution_count": 1,
   "metadata": {
    "collapsed": true
   },
   "outputs": [],
   "source": [
    "from sklearn.datasets import load_digits\n",
    "import matplotlib.pyplot as plt \n",
    "from sklearn.preprocessing import StandardScaler\n",
    "from sklearn.model_selection import train_test_split\n",
    "import numpy as np\n",
    "# import numpy.random as r\n",
    "from sklearn.metrics import accuracy_score"
   ]
  },
  {
   "cell_type": "markdown",
   "metadata": {},
   "source": [
    "## Data for testing"
   ]
  },
  {
   "cell_type": "code",
   "execution_count": 7,
   "metadata": {},
   "outputs": [
    {
     "name": "stdout",
     "output_type": "stream",
     "text": [
      "(1797, 64)\n"
     ]
    }
   ],
   "source": [
    "digits = load_digits()\n",
    "print(digits.data.shape)\n",
    "X_scale = StandardScaler()\n",
    "X = X_scale.fit_transform(digits.data)\n",
    "y = digits.target"
   ]
  },
  {
   "cell_type": "code",
   "execution_count": 30,
   "metadata": {
    "collapsed": true
   },
   "outputs": [],
   "source": [
    "class Network(object):\n",
    "    \n",
    "    def __init__(self, x, y, nn_structure, test_size):\n",
    "        \"\"\"initiate NN with x and y, nn_structure\n",
    "        \"\"\"\n",
    "        self.X = x\n",
    "        self.y = y\n",
    "        self.nn_structure=nn_structure\n",
    "        #split test and trainig data\n",
    "        self.X_train, self.X_test, self.y_train, self.y_test = train_test_split(x, y, test_size=test_size)\n",
    "        #vectorize y\n",
    "        self.y_v_train=self.convert_y_to_vect(self.y_train)\n",
    "        self.y_v_test=self.convert_y_to_vect(self.y_test)\n",
    "        self.y_pred=None\n",
    "\n",
    "        self.alpha=None\n",
    "        self.lamb=None\n",
    "        self.iter_num=None\n",
    "        \n",
    "        self.avg_cost_func=[]\n",
    "        self.W=None\n",
    "        self.b=None\n",
    "     \n",
    "    def convert_y_to_vect(self, y):\n",
    "        y_vect = np.zeros((len(y), 10))\n",
    "        for i in range(len(y)):\n",
    "            y_vect[i, y[i]] = 1\n",
    "        return y_vect\n",
    "\n",
    "    def f(self, x):\n",
    "        return 1 / (1 + np.exp(-x))\n",
    "        \n",
    "    def f_deriv(self,x):\n",
    "        return self.f(x) * (1 - self.f(x))\n",
    "    \n",
    "    def setup_and_init_weights(self):\n",
    "        W = {}\n",
    "        b = {}\n",
    "        for l in range(1, len(self.nn_structure)):\n",
    "            W[l] = np.random.random_sample((self.nn_structure[l], self.nn_structure[l-1]))\n",
    "            b[l] = np.random.random_sample((self.nn_structure[l],))\n",
    "        return W, b\n",
    "    \n",
    "    def init_tri_values(self):\n",
    "        tri_W = {}\n",
    "        tri_b = {}\n",
    "        for l in range(1, len(self.nn_structure)):\n",
    "            tri_W[l] = np.zeros((self.nn_structure[l], self.nn_structure[l-1]))\n",
    "            tri_b[l] = np.zeros((self.nn_structure[l],))\n",
    "        return tri_W, tri_b\n",
    "    \n",
    "    def feed_forward(self, x, W, b):\n",
    "        h = {1: x}\n",
    "        z = {}\n",
    "        for l in range(1, len(W) + 1):\n",
    "            # if it is the first layer, then the input into the weights is x, otherwise, \n",
    "            # it is the output from the last layer\n",
    "            if l == 1:\n",
    "                node_in = x\n",
    "            else:\n",
    "                node_in = h[l]\n",
    "            z[l+1] = W[l].dot(node_in) + b[l] # z^(l+1) = W^(l)*h^(l) + b^(l)  \n",
    "            h[l+1] = self.f(z[l+1]) # h^(l) = f(z^(l)) \n",
    "        return h, z\n",
    "    \n",
    "    def calculate_out_layer_delta(self, y, h_out, z_out):\n",
    "        # delta^(nl) = -(y_i - h_i^(nl)) * f'(z_i^(nl))\n",
    "        return -(y-h_out) * self.f_deriv(z_out)\n",
    "    \n",
    "    def calculate_hidden_delta(self, delta_plus_1, w_l, z_l):\n",
    "        # delta^(l) = (transpose(W^(l)) * delta^(l+1)) * f'(z^(l))\n",
    "        return np.dot(np.transpose(w_l), delta_plus_1) * self.f_deriv(z_l)\n",
    "    \n",
    "    def train_nn(self):\n",
    "        raise NotImplementedError\n",
    "\n",
    "    def plot_avg_cost_func(self):\n",
    "        if len(self.avg_cost_func)==0:\n",
    "            print('Please train model before visalizing average cost')\n",
    "            return\n",
    "        plt.plot(self.avg_cost_func)\n",
    "        plt.ylabel('Average J')\n",
    "        plt.xlabel('Iteration number')\n",
    "        plt.show()\n",
    "        \n",
    "    def predict_y(self):\n",
    "        m = self.X_test.shape[0]\n",
    "        y = np.zeros((m,))\n",
    "        for i in range(m):\n",
    "            h, z = self.feed_forward(self.X_test[i, :], self.W, self.b)\n",
    "            y[i] = np.argmax(h[len(self.nn_structure)])\n",
    "        self.y_pred=y\n",
    "        \n",
    "    def get_test_accuracy(self):\n",
    "        self.predict_y()\n",
    "        return accuracy_score(self.y_test, self.y_pred)*100"
   ]
  },
  {
   "cell_type": "code",
   "execution_count": 31,
   "metadata": {},
   "outputs": [],
   "source": [
    "class NetworkSimple(Network):\n",
    "    def __init__(self,  x, y, nn_structure, test_size):\n",
    "        Network.__init__(self,  x, y, nn_structure, test_size)\n",
    "        \n",
    "    def train_nn(self, iter_num=3000, alpha=0.25, lamb=0.000):\n",
    "        self.lamb=lamb\n",
    "        self.alpha=alpha\n",
    "        self.iter_num=iter_num\n",
    "        \n",
    "        W, b = self.setup_and_init_weights()\n",
    "        cnt = 0\n",
    "        m = len(self.y_v_train)\n",
    "        print('Starting gradient descent for {} iterations'.format(iter_num))\n",
    "        while cnt < iter_num:\n",
    "            if cnt%1000 == 0:\n",
    "                print('Iteration {} of {}'.format(cnt, iter_num))\n",
    "            tri_W, tri_b = self.init_tri_values()\n",
    "            avg_cost = 0\n",
    "            for i in range(len(self.y_v_train)):\n",
    "                delta = {}\n",
    "                # perform the feed forward pass and return the stored h and z values, to be used in the\n",
    "                # gradient descent step\n",
    "                h, z = self.feed_forward( self.X_train[i, :], W, b)\n",
    "                # loop from nl-1 to 1 backpropagating the errors\n",
    "                for l in range(len(self.nn_structure), 0, -1):\n",
    "                    if l == len(self.nn_structure):\n",
    "                        delta[l] = self.calculate_out_layer_delta(self.y_v_train[i,:], h[l], z[l])\n",
    "                        avg_cost += np.linalg.norm((self.y_v_train[i,:]-h[l]))\n",
    "                    else:\n",
    "                        if l > 1:\n",
    "                            delta[l] = self.calculate_hidden_delta(delta[l+1], W[l], z[l])\n",
    "                        # triW^(l) = triW^(l) + delta^(l+1) * transpose(h^(l))\n",
    "                        tri_W[l] += np.dot(delta[l+1][:,np.newaxis], np.transpose(h[l][:,np.newaxis])) \n",
    "                        # trib^(l) = trib^(l) + delta^(l+1)\n",
    "                        tri_b[l] += delta[l+1]\n",
    "            # perform the gradient descent step for the weights in each layer\n",
    "            for l in range(len(self.nn_structure) - 1, 0, -1):\n",
    "                W[l] += -alpha * (1.0/m * tri_W[l]+lamb * W[l])\n",
    "                b[l] += -alpha * (1.0/m * tri_b[l])\n",
    "            # complete the average cost calculation\n",
    "            avg_cost = 1.0/m * avg_cost\n",
    "            self.avg_cost_func.append(avg_cost)\n",
    "            cnt += 1\n",
    "        self.W=W\n",
    "        self.b=b"
   ]
  },
  {
   "cell_type": "code",
   "execution_count": 41,
   "metadata": {},
   "outputs": [],
   "source": [
    "class NetworkMBGD(Network):\n",
    "    def __init__(self,  x, y, nn_structure, test_size):\n",
    "        Network.__init__(self,  x, y, nn_structure, test_size)\n",
    "        \n",
    "    def get_mini_batches(self, X, y, batch_size):\n",
    "        random_idxs = np.random.choice(len(y), len(y), replace=False)\n",
    "        X_shuffled = self.X_train[random_idxs,:]\n",
    "        y_shuffled = self.y_v_train[random_idxs]\n",
    "        mini_batches = [(X_shuffled[i:i+batch_size,:], y_shuffled[i:i+batch_size]) for\n",
    "                       i in range(0, len(self.y_v_train), batch_size)]\n",
    "        return mini_batches\n",
    "    \n",
    "    def train_nn(self, iter_num=3000, bs=100, alpha=0.25, lamb=0.000):\n",
    "        self.lamb=lamb\n",
    "        self.alpha=alpha\n",
    "        self.iter_num=iter_num\n",
    "        \n",
    "        W, b = self.setup_and_init_weights()\n",
    "        cnt = 0\n",
    "        m = len(self.y_v_train)\n",
    "        print('Starting gradient descent for {} iterations'.format(iter_num))\n",
    "        while cnt < iter_num:\n",
    "            if cnt%1000 == 0:\n",
    "                print('Iteration {} of {}'.format(cnt, iter_num))\n",
    "            tri_W, tri_b = self.init_tri_values()\n",
    "            avg_cost = 0\n",
    "            mini_batches = self.get_mini_batches(self.X_train, self.y_v_train, bs)\n",
    "            for mb in mini_batches:\n",
    "                X_mb = mb[0]\n",
    "                y_mb = mb[1]\n",
    "                # pdb.set_trace()\n",
    "                for i in range(len(y_mb)):\n",
    "                    delta = {}\n",
    "                    # perform the feed forward pass and return the stored h and z values, \n",
    "                    # to be used in the gradient descent step\n",
    "                    h, z = self.feed_forward(X_mb[i, :], W, b)\n",
    "                    # loop from nl-1 to 1 backpropagating the errors\n",
    "                    for l in range(len(self.nn_structure), 0, -1):\n",
    "                        if l == len(self.nn_structure):\n",
    "                            delta[l] = self.calculate_out_layer_delta(y_mb[i,:], h[l], z[l])\n",
    "                            avg_cost += np.linalg.norm((y_mb[i,:]-h[l]))\n",
    "                        else:\n",
    "                            if l > 1:\n",
    "                                delta[l] = self.calculate_hidden_delta(delta[l+1], W[l], z[l])\n",
    "                            # triW^(l) = triW^(l) + delta^(l+1) * transpose(h^(l))\n",
    "                            tri_W[l] += np.dot(delta[l+1][:,np.newaxis], \n",
    "                                              np.transpose(h[l][:,np.newaxis])) \n",
    "                            # trib^(l) = trib^(l) + delta^(l+1)\n",
    "                            tri_b[l] += delta[l+1]\n",
    "                # perform the gradient descent step for the weights in each layer\n",
    "                for l in range(len(self.nn_structure) - 1, 0, -1):\n",
    "                    W[l] += -alpha * (1.0/bs * tri_W[l] + lamb * W[l])\n",
    "                    b[l] += -alpha * (1.0/bs * tri_b[l])\n",
    "            # complete the average cost calculation\n",
    "            avg_cost = 1.0/m * avg_cost\n",
    "            self.avg_cost_func.append(avg_cost)\n",
    "            cnt += 1\n",
    "        self.W=W\n",
    "        self.b=b"
   ]
  },
  {
   "cell_type": "code",
   "execution_count": 49,
   "metadata": {
    "collapsed": true
   },
   "outputs": [],
   "source": [
    "class NetworkSGD(Network):\n",
    "    def __init__(self,  x, y, nn_structure, test_size):\n",
    "        Network.__init__(self,  x, y, nn_structure, test_size)\n",
    "        \n",
    "    def train_nn(self, iter_num=3000, alpha=0.25, lamb=0.000):\n",
    "        self.lamb=lamb\n",
    "        self.alpha=alpha\n",
    "        self.iter_num=iter_num\n",
    "        \n",
    "        W, b = self.setup_and_init_weights()\n",
    "        cnt = 0\n",
    "        m = len(self.y_v_train)\n",
    "        print('Starting gradient descent for {} iterations'.format(iter_num))\n",
    "        while cnt < iter_num:\n",
    "            if cnt%1000 == 0:\n",
    "                print('Iteration {} of {}'.format(cnt, iter_num))\n",
    "            tri_W, tri_b = self.init_tri_values()\n",
    "            avg_cost = 0\n",
    "            for i in range(len(self.y_v_train)):\n",
    "                delta = {}\n",
    "                # perform the feed forward pass and return the stored h and z values, to be used in the\n",
    "                # gradient descent step\n",
    "                h, z = self.feed_forward( self.X_train[i, :], W, b)\n",
    "                # loop from nl-1 to 1 backpropagating the errors\n",
    "                for l in range(len(self.nn_structure), 0, -1):\n",
    "                    if l == len(self.nn_structure):\n",
    "                        delta[l] = self.calculate_out_layer_delta(self.y_v_train[i,:], h[l], z[l])\n",
    "                        avg_cost += np.linalg.norm((self.y_v_train[i,:]-h[l]))\n",
    "                    else:\n",
    "                        if l > 1:\n",
    "                            delta[l] = self.calculate_hidden_delta(delta[l+1], W[l], z[l])\n",
    "                        # triW^(l) = triW^(l) + delta^(l+1) * transpose(h^(l))\n",
    "                        tri_W[l] += np.dot(delta[l+1][:,np.newaxis], np.transpose(h[l][:,np.newaxis])) \n",
    "                        # trib^(l) = trib^(l) + delta^(l+1)\n",
    "                        tri_b[l] += delta[l+1]\n",
    "                # perform the gradient descent step for the weights in each layer. Only change comaperd to simple NN\n",
    "                for l in range(len(self.nn_structure) - 1, 0, -1):\n",
    "                    W[l] += -alpha * (1.0/m * tri_W[l]+lamb * W[l])\n",
    "                    b[l] += -alpha * (1.0/m * tri_b[l])\n",
    "            # complete the average cost calculation\n",
    "            avg_cost = 1.0/m * avg_cost\n",
    "            self.avg_cost_func.append(avg_cost)\n",
    "            cnt += 1\n",
    "        self.W=W\n",
    "        self.b=b"
   ]
  },
  {
   "cell_type": "markdown",
   "metadata": {},
   "source": [
    "## Test classes"
   ]
  },
  {
   "cell_type": "code",
   "execution_count": 42,
   "metadata": {
    "collapsed": true
   },
   "outputs": [],
   "source": [
    "nn_MBGD=NetworkMBGD(X, y,[64, 30, 10], 0.4)"
   ]
  },
  {
   "cell_type": "code",
   "execution_count": 43,
   "metadata": {},
   "outputs": [
    {
     "name": "stdout",
     "output_type": "stream",
     "text": [
      "Starting gradient descent for 3000 iterations\n",
      "Iteration 0 of 3000\n",
      "Iteration 1000 of 3000\n",
      "Iteration 2000 of 3000\n"
     ]
    },
    {
     "data": {
      "text/plain": [
       "96.522948539638392"
      ]
     },
     "execution_count": 43,
     "metadata": {},
     "output_type": "execute_result"
    }
   ],
   "source": [
    "nn_MBGD.train_nn()\n",
    "nn_MBGD.get_test_accuracy()"
   ]
  },
  {
   "cell_type": "code",
   "execution_count": 44,
   "metadata": {},
   "outputs": [
    {
     "data": {
      "image/png": "[encoded data removed]",
      "text/plain": [
       "<matplotlib.figure.Figure at 0x7fda7b4923c8>"
      ]
     },
     "metadata": {},
     "output_type": "display_data"
    }
   ],
   "source": [
    "nn_MBGD.plot_avg_cost_func()"
   ]
  },
  {
   "cell_type": "code",
   "execution_count": 45,
   "metadata": {
    "collapsed": true
   },
   "outputs": [],
   "source": [
    "nn_simple=NetworkSimple(X, y,[64, 30, 10], 0.4)"
   ]
  },
  {
   "cell_type": "code",
   "execution_count": 46,
   "metadata": {},
   "outputs": [
    {
     "name": "stdout",
     "output_type": "stream",
     "text": [
      "Starting gradient descent for 3000 iterations\n",
      "Iteration 0 of 3000\n",
      "Iteration 1000 of 3000\n",
      "Iteration 2000 of 3000\n"
     ]
    }
   ],
   "source": [
    "nn_simple.train_nn()"
   ]
  },
  {
   "cell_type": "code",
   "execution_count": 47,
   "metadata": {},
   "outputs": [
    {
     "data": {
      "text/plain": [
       "87.204450625869271"
      ]
     },
     "execution_count": 47,
     "metadata": {},
     "output_type": "execute_result"
    }
   ],
   "source": [
    "nn_simple.get_test_accuracy()"
   ]
  },
  {
   "cell_type": "code",
   "execution_count": 48,
   "metadata": {},
   "outputs": [
    {
     "data": {
      "image/png": "[encoded data removed]",
      "text/plain": [
       "<matplotlib.figure.Figure at 0x7fda7b642da0>"
      ]
     },
     "metadata": {},
     "output_type": "display_data"
    }
   ],
   "source": [
    "nn_simple.plot_avg_cost_func()"
   ]
  },
  {
   "cell_type": "code",
   "execution_count": null,
   "metadata": {
    "collapsed": true
   },
   "outputs": [],
   "source": []
  },
  {
   "cell_type": "code",
   "execution_count": 50,
   "metadata": {},
   "outputs": [
    {
     "name": "stdout",
     "output_type": "stream",
     "text": [
      "Starting gradient descent for 3000 iterations\n",
      "Iteration 0 of 3000\n",
      "Iteration 1000 of 3000\n",
      "Iteration 2000 of 3000\n"
     ]
    },
    {
     "data": {
      "text/plain": [
       "78.164116828929068"
      ]
     },
     "execution_count": 50,
     "metadata": {},
     "output_type": "execute_result"
    }
   ],
   "source": [
    "nn_SGD=NetworkSGD(X, y,[64, 30, 10], 0.4)\n",
    "nn_SGD.train_nn()\n",
    "nn_SGD.get_test_accuracy()"
   ]
  },
  {
   "cell_type": "code",
   "execution_count": 51,
   "metadata": {},
   "outputs": [
    {
     "data": {
      "image/png": "[encoded data removed]",
      "text/plain": [
       "<matplotlib.figure.Figure at 0x7fda7b66b2b0>"
      ]
     },
     "metadata": {},
     "output_type": "display_data"
    }
   ],
   "source": [
    "nn_SGD.plot_avg_cost_func()"
   ]
  },
  {
   "cell_type": "code",
   "execution_count": 52,
   "metadata": {},
   "outputs": [
    {
     "data": {
      "image/png": "[encoded data removed]",
      "text/plain": [
       "<matplotlib.figure.Figure at 0x7fda7b54b9b0>"
      ]
     },
     "metadata": {},
     "output_type": "display_data"
    }
   ],
   "source": [
    "plt.plot(nn_SGD.avg_cost_func)\n",
    "plt.plot(nn_simple.avg_cost_func)\n",
    "plt.plot(nn_MBGD.avg_cost_func)\n",
    "plt.ylabel('Average J')\n",
    "plt.xlabel('Iteration number')\n",
    "plt.show()"
   ]
  },
  {
   "cell_type": "code",
   "execution_count": null,
   "metadata": {
    "collapsed": true
   },
   "outputs": [],
   "source": []
  }
 ],
 "metadata": {
  "kernelspec": {
   "display_name": "Python 3",
   "language": "python",
   "name": "python3"
  },
  "language_info": {
   "codemirror_mode": {
    "name": "ipython",
    "version": 3
   },
   "file_extension": ".py",
   "mimetype": "text/x-python",
   "name": "python",
   "nbconvert_exporter": "python",
   "pygments_lexer": "ipython3",
   "version": "3.5.4"
  }
 },
 "nbformat": 4,
 "nbformat_minor": 2
}
