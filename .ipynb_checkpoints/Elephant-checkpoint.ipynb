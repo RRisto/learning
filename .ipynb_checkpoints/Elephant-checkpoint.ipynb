{
 "cells": [
  {
   "cell_type": "code",
   "execution_count": 1,
   "metadata": {},
   "outputs": [
    {
     "data": {
      "image/png": "[encoded data removed]",
      "text/plain": [
       "<matplotlib.figure.Figure at 0x7f9a84c35d30>"
      ]
     },
     "metadata": {},
     "output_type": "display_data"
    }
   ],
   "source": [
    "\"\"\"\n",
    "Author: Piotr A. Zolnierczuk (zolnierczukp at ornl dot gov)\n",
    " \n",
    "Based on a paper by:\n",
    "Drawing an elephant with four complex parameters\n",
    "Jurgen Mayer, Khaled Khairy, and Jonathon Howard,\n",
    "Am. J. Phys. 78, 648 (2010), DOI:10.1119/1.3254017\n",
    "https://www.johndcook.com/blog/2011/06/21/how-to-fit-an-elephant/\n",
    "\"\"\"\n",
    "import numpy as np\n",
    "import pylab\n",
    " \n",
    "# elephant parameters\n",
    "p1, p2, p3, p4 = (50 - 30j, 18 +  8j, 12 - 10j, -14 - 60j )\n",
    "p5 = 40 + 20j # eyepiece\n",
    " \n",
    "def fourier(t, C):\n",
    "    f = np.zeros(t.shape)\n",
    "    A, B = C.real, C.imag\n",
    "    for k in range(len(C)):\n",
    "        f = f + A[k]*np.cos(k*t) + B[k]*np.sin(k*t)\n",
    "    return f\n",
    " \n",
    "def elephant(t, p1, p2, p3, p4, p5):\n",
    "    npar = 6\n",
    "    Cx = np.zeros((npar,), dtype='complex')\n",
    "    Cy = np.zeros((npar,), dtype='complex')\n",
    " \n",
    "    Cx[1] = p1.real*1j\n",
    "    Cx[2] = p2.real*1j\n",
    "    Cx[3] = p3.real\n",
    "    Cx[5] = p4.real\n",
    " \n",
    "    Cy[1] = p4.imag + p1.imag*1j\n",
    "    Cy[2] = p2.imag*1j\n",
    "    Cy[3] = p3.imag*1j\n",
    " \n",
    "    x = np.append(fourier(t,Cx), [-p5.imag])\n",
    "    y = np.append(fourier(t,Cy), [p5.imag])\n",
    " \n",
    "    return x,y\n",
    " \n",
    "x, y = elephant(np.linspace(0,2*np.pi,1000), p1, p2, p3, p4, p5)\n",
    "pylab.plot(y,-x,'.')\n",
    "pylab.show()\n",
    " "
   ]
  },
  {
   "cell_type": "code",
   "execution_count": null,
   "metadata": {
    "collapsed": true
   },
   "outputs": [],
   "source": []
  }
 ],
 "metadata": {
  "kernelspec": {
   "display_name": "Python 3",
   "language": "python",
   "name": "python3"
  },
  "language_info": {
   "codemirror_mode": {
    "name": "ipython",
    "version": 3
   },
   "file_extension": ".py",
   "mimetype": "text/x-python",
   "name": "python",
   "nbconvert_exporter": "python",
   "pygments_lexer": "ipython3",
   "version": "3.5.4"
  }
 },
 "nbformat": 4,
 "nbformat_minor": 2
}
