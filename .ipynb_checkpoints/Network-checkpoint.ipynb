{
 "cells": [
  {
   "cell_type": "code",
   "execution_count": 9,
   "metadata": {
    "collapsed": true
   },
   "outputs": [],
   "source": [
    "from sklearn.datasets import load_digits\n",
    "import matplotlib.pyplot as plt \n",
    "from sklearn.preprocessing import StandardScaler\n",
    "from sklearn.model_selection import train_test_split\n",
    "import numpy as np\n",
    "# import numpy.random as r\n",
    "from sklearn.metrics import accuracy_score"
   ]
  },
  {
   "cell_type": "markdown",
   "metadata": {},
   "source": [
    "## Load data"
   ]
  },
  {
   "cell_type": "code",
   "execution_count": 2,
   "metadata": {},
   "outputs": [
    {
     "name": "stdout",
     "output_type": "stream",
     "text": [
      "(1797, 64)\n"
     ]
    }
   ],
   "source": [
    "digits = load_digits()\n",
    "print(digits.data.shape)"
   ]
  },
  {
   "cell_type": "markdown",
   "metadata": {},
   "source": [
    "## Scale input"
   ]
  },
  {
   "cell_type": "code",
   "execution_count": 5,
   "metadata": {},
   "outputs": [
    {
     "data": {
      "text/plain": [
       "array([ 0.        , -0.33501649, -0.04308102,  0.27407152, -0.66447751,\n",
       "       -0.84412939, -0.40972392, -0.12502292, -0.05907756, -0.62400926,\n",
       "        0.4829745 ,  0.75962245, -0.05842586,  1.12772113,  0.87958306,\n",
       "       -0.13043338, -0.04462507,  0.11144272,  0.89588044, -0.86066632,\n",
       "       -1.14964846,  0.51547187,  1.90596347, -0.11422184, -0.03337973,\n",
       "        0.48648928,  0.46988512, -1.49990136, -1.61406277,  0.07639777,\n",
       "        1.54181413, -0.04723238,  0.        ,  0.76465553,  0.05263019,\n",
       "       -1.44763006, -1.73666443,  0.04361588,  1.43955804,  0.        ,\n",
       "       -0.06134367,  0.8105536 ,  0.63011714, -1.12245711, -1.06623158,\n",
       "        0.66096475,  0.81845076, -0.08874162, -0.03543326,  0.74211893,\n",
       "        1.15065212, -0.86867056,  0.11012973,  0.53761116, -0.75743581,\n",
       "       -0.20978513, -0.02359646, -0.29908135,  0.08671869,  0.20829258,\n",
       "       -0.36677122, -1.14664746, -0.5056698 , -0.19600752])"
      ]
     },
     "execution_count": 5,
     "metadata": {},
     "output_type": "execute_result"
    }
   ],
   "source": [
    "X_scale = StandardScaler()\n",
    "X = X_scale.fit_transform(digits.data)\n",
    "X[0,:]"
   ]
  },
  {
   "cell_type": "markdown",
   "metadata": {},
   "source": [
    "## Train test split"
   ]
  },
  {
   "cell_type": "code",
   "execution_count": 7,
   "metadata": {
    "collapsed": true
   },
   "outputs": [],
   "source": [
    "y = digits.target\n",
    "X_train, X_test, y_train, y_test = train_test_split(X, y, test_size=0.4)"
   ]
  },
  {
   "cell_type": "code",
   "execution_count": 49,
   "metadata": {},
   "outputs": [
    {
     "data": {
      "text/plain": [
       "array([[ 0.        , -0.33501649, -0.04308102, ..., -0.46856421,\n",
       "        -0.5056698 , -0.19600752],\n",
       "       [ 0.        , -0.33501649, -0.67419451, ...,  0.03999823,\n",
       "        -0.5056698 , -0.19600752],\n",
       "       [ 0.        , -0.33501649, -0.04308102, ...,  0.03999823,\n",
       "        -0.5056698 , -0.19600752],\n",
       "       ..., \n",
       "       [ 0.        , -0.33501649,  0.16729015, ..., -1.14664746,\n",
       "        -0.5056698 , -0.19600752],\n",
       "       [ 0.        , -0.33501649, -0.88456568, ...,  1.39616473,\n",
       "        -0.26113572, -0.19600752],\n",
       "       [ 0.        , -0.33501649, -0.88456568, ..., -1.14664746,\n",
       "        -0.5056698 , -0.19600752]])"
      ]
     },
     "execution_count": 49,
     "metadata": {},
     "output_type": "execute_result"
    }
   ],
   "source": [
    "X_train"
   ]
  },
  {
   "cell_type": "markdown",
   "metadata": {},
   "source": [
    "## Make class"
   ]
  },
  {
   "cell_type": "code",
   "execution_count": 74,
   "metadata": {
    "collapsed": true
   },
   "outputs": [],
   "source": [
    "class Network(object):\n",
    "    \n",
    "    def __init__(self, x, y, nn_structure, test_size):\n",
    "        \"\"\"initiate NN with x and y, nn_structure\n",
    "        \"\"\"\n",
    "        self.X = x\n",
    "        self.y = y\n",
    "        self.nn_structure=nn_structure\n",
    "        #split test and trainig data\n",
    "        self.X_train, self.X_test, y_train, y_test = train_test_split(x, y, test_size=test_size)\n",
    "        #vectorize y\n",
    "        self.y_train=self.convert_y_to_vect(y_train)\n",
    "        self.y_test=self.convert_y_to_vect(y_test)\n",
    "     \n",
    "    def convert_y_to_vect(self, y):\n",
    "        y_vect = np.zeros((len(y), 10))\n",
    "        for i in range(len(y)):\n",
    "            y_vect[i, y[i]] = 1\n",
    "        return y_vect\n",
    "\n",
    "    def f(self, x):\n",
    "        return 1 / (1 + np.exp(-x))\n",
    "        \n",
    "    def f_deriv(self,x):\n",
    "        return self.f(x) * (1 - self.f(x))\n",
    "    \n",
    "    def setup_and_init_weights(self):\n",
    "        W = {}\n",
    "        b = {}\n",
    "        for l in range(1, len(self.nn_structure)):\n",
    "            W[l] = np.random.random_sample((self.nn_structure[l], self.nn_structure[l-1]))\n",
    "            b[l] = np.random.random_sample((self.nn_structure[l],))\n",
    "        return W, b\n",
    "    \n",
    "    \n",
    "    def init_tri_values(self):\n",
    "        tri_W = {}\n",
    "        tri_b = {}\n",
    "        for l in range(1, len(self.nn_structure)):\n",
    "            tri_W[l] = np.zeros((self.nn_structure[l], self.nn_structure[l-1]))\n",
    "            tri_b[l] = np.zeros((self.nn_structure[l],))\n",
    "        return tri_W, tri_b\n",
    "    \n",
    "    \n",
    "    def feed_forward(self, x, W, b):\n",
    "        h = {1: x}\n",
    "        z = {}\n",
    "        for l in range(1, len(W) + 1):\n",
    "            # if it is the first layer, then the input into the weights is x, otherwise, \n",
    "            # it is the output from the last layer\n",
    "            if l == 1:\n",
    "                node_in = x\n",
    "            else:\n",
    "                node_in = h[l]\n",
    "            z[l+1] = W[l].dot(node_in) + b[l] # z^(l+1) = W^(l)*h^(l) + b^(l)  \n",
    "            h[l+1] = self.f(z[l+1]) # h^(l) = f(z^(l)) \n",
    "        return h, z\n",
    "    \n",
    "    def calculate_out_layer_delta(self, y, h_out, z_out):\n",
    "        # delta^(nl) = -(y_i - h_i^(nl)) * f'(z_i^(nl))\n",
    "        return -(y-h_out) * self.f_deriv(z_out)\n",
    "    \n",
    "    \n",
    "    def calculate_hidden_delta(self, delta_plus_1, w_l, z_l):\n",
    "        # delta^(l) = (transpose(W^(l)) * delta^(l+1)) * f'(z^(l))\n",
    "        return np.dot(np.transpose(w_l), delta_plus_1) * self.f_deriv(z_l)\n",
    "    \n",
    "    \n",
    "    def train_nn(self, iter_num=3000, alpha=0.25):\n",
    "        W, b = self.setup_and_init_weights()\n",
    "        cnt = 0\n",
    "        m = len(self.y_train)\n",
    "        avg_cost_func = []\n",
    "        print('Starting gradient descent for {} iterations'.format(iter_num))\n",
    "        while cnt < iter_num:\n",
    "            if cnt%1000 == 0:\n",
    "                print('Iteration {} of {}'.format(cnt, iter_num))\n",
    "            tri_W, tri_b = self.init_tri_values()\n",
    "            avg_cost = 0\n",
    "            for i in range(len(self.y_train)):\n",
    "                delta = {}\n",
    "                # perform the feed forward pass and return the stored h and z values, to be used in the\n",
    "                # gradient descent step\n",
    "                h, z = self.feed_forward( self.X_train[i, :], W, b)\n",
    "                # loop from nl-1 to 1 backpropagating the errors\n",
    "                for l in range(len(self.nn_structure), 0, -1):\n",
    "                    if l == len(self.nn_structure):\n",
    "                        delta[l] = self.calculate_out_layer_delta(self.y_train[i,:], h[l], z[l])\n",
    "                        avg_cost += np.linalg.norm((self.y_train[i,:]-h[l]))\n",
    "                    else:\n",
    "                        if l > 1:\n",
    "                            delta[l] = self.calculate_hidden_delta(delta[l+1], W[l], z[l])\n",
    "                        # triW^(l) = triW^(l) + delta^(l+1) * transpose(h^(l))\n",
    "                        tri_W[l] += np.dot(delta[l+1][:,np.newaxis], np.transpose(h[l][:,np.newaxis])) \n",
    "                        # trib^(l) = trib^(l) + delta^(l+1)\n",
    "                        tri_b[l] += delta[l+1]\n",
    "            # perform the gradient descent step for the weights in each layer\n",
    "            for l in range(len(self.nn_structure) - 1, 0, -1):\n",
    "                W[l] += -alpha * (1.0/m * tri_W[l])\n",
    "                b[l] += -alpha * (1.0/m * tri_b[l])\n",
    "            # complete the average cost calculation\n",
    "            avg_cost = 1.0/m * avg_cost\n",
    "            avg_cost_func.append(avg_cost)\n",
    "            cnt += 1\n",
    "        self.W=W\n",
    "        self.b=b\n",
    "        self.avg_cost_func=avg_cost_func\n",
    "        return W, b, avg_cost_func"
   ]
  },
  {
   "cell_type": "code",
   "execution_count": 75,
   "metadata": {},
   "outputs": [],
   "source": [
    "nn=Network(X, y,[64, 30, 10], 0.4)"
   ]
  },
  {
   "cell_type": "code",
   "execution_count": 76,
   "metadata": {},
   "outputs": [
    {
     "data": {
      "text/plain": [
       "[64, 30, 10]"
      ]
     },
     "execution_count": 76,
     "metadata": {},
     "output_type": "execute_result"
    }
   ],
   "source": [
    "nn.nn_structure"
   ]
  },
  {
   "cell_type": "code",
   "execution_count": 77,
   "metadata": {},
   "outputs": [
    {
     "name": "stdout",
     "output_type": "stream",
     "text": [
      "Starting gradient descent for 3000 iterations\n",
      "Iteration 0 of 3000\n",
      "Iteration 1000 of 3000\n",
      "Iteration 2000 of 3000\n"
     ]
    }
   ],
   "source": [
    "W, b, avg_cost_func = nn.train_nn()"
   ]
  },
  {
   "cell_type": "code",
   "execution_count": 63,
   "metadata": {},
   "outputs": [
    {
     "data": {
      "text/plain": [
       "array([4, 3, 7, ..., 0, 1, 4])"
      ]
     },
     "execution_count": 63,
     "metadata": {},
     "output_type": "execute_result"
    }
   ],
   "source": [
    "nn.y_train"
   ]
  },
  {
   "cell_type": "code",
   "execution_count": null,
   "metadata": {
    "collapsed": true
   },
   "outputs": [],
   "source": []
  }
 ],
 "metadata": {
  "kernelspec": {
   "display_name": "Python 3",
   "language": "python",
   "name": "python3"
  },
  "language_info": {
   "codemirror_mode": {
    "name": "ipython",
    "version": 3
   },
   "file_extension": ".py",
   "mimetype": "text/x-python",
   "name": "python",
   "nbconvert_exporter": "python",
   "pygments_lexer": "ipython3",
   "version": "3.5.4"
  }
 },
 "nbformat": 4,
 "nbformat_minor": 2
}
