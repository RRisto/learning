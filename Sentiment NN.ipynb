{
 "cells": [
  {
   "cell_type": "code",
   "execution_count": 1,
   "metadata": {
    "collapsed": true
   },
   "outputs": [],
   "source": [
    "from sklearn.datasets import load_digits\n",
    "import matplotlib.pyplot as plt \n",
    "from sklearn.preprocessing import StandardScaler\n",
    "from sklearn.model_selection import train_test_split\n",
    "import numpy as np\n",
    "from sklearn.metrics import accuracy_score\n",
    "import pandas as pd\n",
    "import string\n",
    "from nltk.stem import PorterStemmer\n",
    "from nltk.tokenize import sent_tokenize, word_tokenize\n",
    "import collections\n",
    "import pickle"
   ]
  },
  {
   "cell_type": "markdown",
   "metadata": {},
   "source": [
    "## Data"
   ]
  },
  {
   "cell_type": "code",
   "execution_count": 2,
   "metadata": {
    "collapsed": true
   },
   "outputs": [],
   "source": [
    "df=pd.read_excel('data/sentiment_data/training_data.xlsx')"
   ]
  },
  {
   "cell_type": "code",
   "execution_count": 3,
   "metadata": {},
   "outputs": [
    {
     "data": {
      "text/html": [
       "<div>\n",
       "<style>\n",
       "    .dataframe thead tr:only-child th {\n",
       "        text-align: right;\n",
       "    }\n",
       "\n",
       "    .dataframe thead th {\n",
       "        text-align: left;\n",
       "    }\n",
       "\n",
       "    .dataframe tbody tr th {\n",
       "        vertical-align: top;\n",
       "    }\n",
       "</style>\n",
       "<table border=\"1\" class=\"dataframe\">\n",
       "  <thead>\n",
       "    <tr style=\"text-align: right;\">\n",
       "      <th></th>\n",
       "      <th>y</th>\n",
       "      <th>text</th>\n",
       "    </tr>\n",
       "  </thead>\n",
       "  <tbody>\n",
       "    <tr>\n",
       "      <th>0</th>\n",
       "      <td>positive</td>\n",
       "      <td>The Da Vinci Code book is just awesome.</td>\n",
       "    </tr>\n",
       "    <tr>\n",
       "      <th>1</th>\n",
       "      <td>positive</td>\n",
       "      <td>this was the first clive cussler i've ever rea...</td>\n",
       "    </tr>\n",
       "    <tr>\n",
       "      <th>2</th>\n",
       "      <td>positive</td>\n",
       "      <td>i liked the Da Vinci Code a lot.</td>\n",
       "    </tr>\n",
       "    <tr>\n",
       "      <th>3</th>\n",
       "      <td>positive</td>\n",
       "      <td>i liked the Da Vinci Code a lot.</td>\n",
       "    </tr>\n",
       "    <tr>\n",
       "      <th>4</th>\n",
       "      <td>positive</td>\n",
       "      <td>I liked the Da Vinci Code but it ultimatly did...</td>\n",
       "    </tr>\n",
       "  </tbody>\n",
       "</table>\n",
       "</div>"
      ],
      "text/plain": [
       "          y                                               text\n",
       "0  positive            The Da Vinci Code book is just awesome.\n",
       "1  positive  this was the first clive cussler i've ever rea...\n",
       "2  positive                   i liked the Da Vinci Code a lot.\n",
       "3  positive                   i liked the Da Vinci Code a lot.\n",
       "4  positive  I liked the Da Vinci Code but it ultimatly did..."
      ]
     },
     "execution_count": 3,
     "metadata": {},
     "output_type": "execute_result"
    }
   ],
   "source": [
    "df.head()"
   ]
  },
  {
   "cell_type": "markdown",
   "metadata": {},
   "source": [
    "## Classes"
   ]
  },
  {
   "cell_type": "code",
   "execution_count": 4,
   "metadata": {
    "collapsed": true
   },
   "outputs": [],
   "source": [
    " class TextCleaner(object):\n",
    "        '''class to clean text'''\n",
    "        \n",
    "        def __init__(self, stemmer=None, make_lower=True, custom_chars_to_remove=None):\n",
    "            self.stemmer=stemmer\n",
    "            self.make_lower=make_lower\n",
    "            self.custom_chars_to_remove=custom_chars_to_remove\n",
    "            \n",
    "        def remove_punctutation(self, text): \n",
    "            '''remove punctuation and custom characters if set'''\n",
    "            \n",
    "            text_clean = text.translate(str.maketrans(\"\", \"\", string.punctuation))\t\t\n",
    "            if self.custom_chars_to_remove is not None:\n",
    "                text_clean = text_clean.translate(str.maketrans(\"\", \"\",self.custom_chars_to_remove))\n",
    "            return text_clean\n",
    "            \n",
    "        def tokenize_text(self, text):\n",
    "            '''tokenize text into words, if stemmer, stems. returns list of words in order in text'''\n",
    "            \n",
    "            words = word_tokenize(text)\n",
    "            if self.stemmer is not None:\n",
    "                words_list=[]\n",
    "                for w in words:\n",
    "                    words_list.append(stemmer.stem(w))\n",
    "                    return words_list\n",
    "            return words\n",
    "            \n",
    "        def preporcess_text(self, text):\n",
    "            '''generic function to process data'''\n",
    "            if self.make_lower:\n",
    "                text=text.lower()\n",
    "            text=self.remove_punctutation(text)\n",
    "            text_tokens=self.tokenize_text(text)\n",
    "            return text_tokens"
   ]
  },
  {
   "cell_type": "code",
   "execution_count": 5,
   "metadata": {
    "collapsed": true
   },
   "outputs": [],
   "source": [
    "class Network(object):\n",
    "    '''generic class for network building. Exact implementation is in subclasses'''\n",
    "    \n",
    "    def __init__(self,x, y, nn_structure, test_size):\n",
    "        \"\"\"initiate NN with x and y texts, also clean data and turn it into matrix\n",
    "        \"\"\"\n",
    "        \n",
    "        self.X=x #matrix\n",
    "        self.y=y #matrix\n",
    "        self.nn_structure=nn_structure #list of nr of in each layer\n",
    "    \n",
    "        #split test and trainig data\n",
    "        self.X_train, self.X_test, self.y_train, self.y_test = train_test_split(self.X, self.y, test_size=test_size)\n",
    "        #vectorize y\n",
    "        self.y_v_train=self.convert_y_to_vect(self.y_train)\n",
    "        self.y_v_test=self.convert_y_to_vect(self.y_test)\n",
    "        self.y_pred=None\n",
    "        \n",
    "        self.avg_cost_func=[]\n",
    "        self.W=None\n",
    "        self.b=None\n",
    "        \n",
    "                 \n",
    "    def convert_y_to_vect(self, y):\n",
    "        y_vect = np.zeros((len(y), len(self.y_dictionary)))\n",
    "        for i in range(len(y)):\n",
    "            y_vect[i, y[i]] = 1\n",
    "        return y_vect\n",
    "\n",
    "    \n",
    "    def f(self, x):\n",
    "        return 1 / (1 + np.exp(-x))\n",
    "        \n",
    "        \n",
    "    def f_deriv(self,x):\n",
    "        return self.f(x) * (1 - self.f(x))\n",
    "    \n",
    "    \n",
    "    def setup_and_init_weights(self):\n",
    "        W = {}\n",
    "        b = {}\n",
    "        for l in range(1, len(self.nn_structure)):\n",
    "            W[l] = np.random.random_sample((self.nn_structure[l], self.nn_structure[l-1]))\n",
    "            b[l] = np.random.random_sample((self.nn_structure[l],))\n",
    "        return W, b\n",
    "    \n",
    "    \n",
    "    def init_tri_values(self):\n",
    "        tri_W = {}\n",
    "        tri_b = {}\n",
    "        for l in range(1, len(self.nn_structure)):\n",
    "            tri_W[l] = np.zeros((self.nn_structure[l], self.nn_structure[l-1]))\n",
    "            tri_b[l] = np.zeros((self.nn_structure[l],))\n",
    "        return tri_W, tri_b\n",
    "    \n",
    "    \n",
    "    def feed_forward(self, x, W, b):\n",
    "        h = {1: x}\n",
    "        z = {}\n",
    "        for l in range(1, len(W) + 1):\n",
    "            # if it is the first layer, then the input into the weights is x, otherwise, \n",
    "            # it is the output from the last layer\n",
    "            if l == 1:\n",
    "                node_in = x\n",
    "            else:\n",
    "                node_in = h[l]\n",
    "            z[l+1] = W[l].dot(node_in) + b[l] # z^(l+1) = W^(l)*h^(l) + b^(l)  \n",
    "            h[l+1] = self.f(z[l+1]) # h^(l) = f(z^(l)) \n",
    "        return h, z\n",
    "    \n",
    "    \n",
    "    def calculate_out_layer_delta(self, y, h_out, z_out):\n",
    "        # delta^(nl) = -(y_i - h_i^(nl)) * f'(z_i^(nl))\n",
    "        return -(y-h_out) * self.f_deriv(z_out)\n",
    "    \n",
    "    \n",
    "    def calculate_hidden_delta(self, delta_plus_1, w_l, z_l):\n",
    "        # delta^(l) = (transpose(W^(l)) * delta^(l+1)) * f'(z^(l))\n",
    "        return np.dot(np.transpose(w_l), delta_plus_1) * self.f_deriv(z_l)\n",
    "    \n",
    "    \n",
    "    def train_nn(self):\n",
    "        '''implemented in subclass'''\n",
    "        raise NotImplementedError\n",
    "\n",
    "        \n",
    "    def plot_avg_cost_func(self):\n",
    "        if len(self.avg_cost_func)==0:\n",
    "            print('Please train model before visalizing average cost')\n",
    "            return\n",
    "        plt.plot(self.avg_cost_func)\n",
    "        plt.ylabel('Average J')\n",
    "        plt.xlabel('Iteration number')\n",
    "        plt.show()\n",
    "        \n",
    "        \n",
    "    def predict_test_data(self):\n",
    "        m = self.X_test.shape[0]\n",
    "        y = np.zeros((m,))\n",
    "        for i in range(m):\n",
    "            h, z = self.feed_forward(self.X_test[i, :], self.W, self.b)\n",
    "            y[i] = np.argmax(h[len(self.nn_structure)])\n",
    "        self.y_pred=y\n",
    "        \n",
    "        \n",
    "    def get_test_accuracy(self):\n",
    "        self.predict_test_data()\n",
    "        return accuracy_score(self.y_test, self.y_pred)*100\n",
    "    \n",
    "    \n",
    "    def pickle(self, filename):\n",
    "        '''save model to file'''\n",
    "        f = open(filename, 'wb')\n",
    "        pickle.dump(self, f, pickle.HIGHEST_PROTOCOL)\n",
    "        f.close()\n",
    "        \n",
    "        \n",
    "    @staticmethod\n",
    "    def unpickle(filename):\n",
    "        '''read model from file'''\n",
    "        with open(filename, 'rb') as f:\n",
    "            return pickle.load(f)"
   ]
  },
  {
   "cell_type": "code",
   "execution_count": 6,
   "metadata": {
    "collapsed": true
   },
   "outputs": [],
   "source": [
    "class NetworkMBGD(Network):\n",
    "    '''class for minibatch gradient descent'''\n",
    "    \n",
    "    def __init__(self,x, y, nn_structure, test_size):\n",
    "        Network.__init__(self,  x, y, nn_structure, test_size)\n",
    "        self.lamb=None\n",
    "        self.alpha=None\n",
    "        self.iter_num=None\n",
    "        \n",
    "        \n",
    "    def get_mini_batches(self, X, y, batch_size):\n",
    "        random_idxs = np.random.choice(len(y), len(y), replace=False)\n",
    "        X_shuffled = self.X_train[random_idxs,:]\n",
    "        y_shuffled = self.y_v_train[random_idxs]\n",
    "        mini_batches = [(X_shuffled[i:i+batch_size,:], y_shuffled[i:i+batch_size]) for\n",
    "                       i in range(0, len(self.y_v_train), batch_size)]\n",
    "        return mini_batches\n",
    "    \n",
    "    \n",
    "    def train_nn(self, iter_num=3000, bs=100, alpha=0.25, lamb=0.000):\n",
    "        self.lamb=lamb\n",
    "        self.alpha=alpha\n",
    "        self.iter_num=iter_num\n",
    "        #reset avg cost\n",
    "        if len(self.avg_cost_func)>0:\n",
    "            self.avg_cost_func=[]\n",
    "        \n",
    "        W, b = self.setup_and_init_weights()\n",
    "        cnt = 0\n",
    "        m = len(self.y_v_train)\n",
    "        print('Starting gradient descent for {} iterations'.format(iter_num))\n",
    "        while cnt < iter_num:\n",
    "            if cnt%1000 == 0:\n",
    "                print('Iteration {} of {}'.format(cnt, iter_num))\n",
    "            tri_W, tri_b = self.init_tri_values()\n",
    "            avg_cost = 0\n",
    "            mini_batches = self.get_mini_batches(self.X_train, self.y_v_train, bs)\n",
    "            for mb in mini_batches:\n",
    "                X_mb = mb[0]\n",
    "                y_mb = mb[1]\n",
    "                # pdb.set_trace()\n",
    "                for i in range(len(y_mb)):\n",
    "                    delta = {}\n",
    "                    # perform the feed forward pass and return the stored h and z values, \n",
    "                    # to be used in the gradient descent step\n",
    "                    h, z = self.feed_forward(X_mb[i, :], W, b)\n",
    "                    # loop from nl-1 to 1 backpropagating the errors\n",
    "                    for l in range(len(self.nn_structure), 0, -1):\n",
    "                        if l == len(self.nn_structure):\n",
    "                            delta[l] = self.calculate_out_layer_delta(y_mb[i,:], h[l], z[l])\n",
    "                            avg_cost += np.linalg.norm((y_mb[i,:]-h[l]))\n",
    "                        else:\n",
    "                            if l > 1:\n",
    "                                delta[l] = self.calculate_hidden_delta(delta[l+1], W[l], z[l])\n",
    "                            # triW^(l) = triW^(l) + delta^(l+1) * transpose(h^(l))\n",
    "                            tri_W[l] += np.dot(delta[l+1][:,np.newaxis], \n",
    "                                              np.transpose(h[l][:,np.newaxis])) \n",
    "                            # trib^(l) = trib^(l) + delta^(l+1)\n",
    "                            tri_b[l] += delta[l+1]\n",
    "                # perform the gradient descent step for the weights in each layer\n",
    "                for l in range(len(self.nn_structure) - 1, 0, -1):\n",
    "                    W[l] += -alpha * (1.0/bs * tri_W[l] + lamb * W[l])\n",
    "                    b[l] += -alpha * (1.0/bs * tri_b[l])\n",
    "            # complete the average cost calculation\n",
    "            avg_cost = 1.0/m * avg_cost\n",
    "            self.avg_cost_func.append(avg_cost)\n",
    "            cnt += 1\n",
    "        self.W=W\n",
    "        self.b=b"
   ]
  },
  {
   "cell_type": "code",
   "execution_count": 44,
   "metadata": {
    "collapsed": true
   },
   "outputs": [],
   "source": [
    "class TextMBGD(NetworkMBGD):\n",
    "    '''wrapper class for NetworkMBGD to make textual data edible for it'''\n",
    "    \n",
    "    def __init__(self,x_texts, y_texts, test_size, n_words=10000, custom_chars_to_remove=None):\n",
    "            \n",
    "        self.x_texts=x_texts\n",
    "        self.y_texts=y_texts  \n",
    "        \n",
    "        #cleaning stuff\n",
    "        self.n_words=n_words\n",
    "        self.custom_chars_to_remove=custom_chars_to_remove\n",
    "        self.cleaner=TextCleaner(self.custom_chars_to_remove)\n",
    "        self.scaler = StandardScaler()\n",
    "        \n",
    "        #init X dataset\n",
    "        self.X_count=None\n",
    "        self.X_dictionary=None\n",
    "        self.X_reversed_dictionary=None\n",
    "        self.build_x_dataset()\n",
    "        \n",
    "        #init y dataset\n",
    "        self.y_dictionary=None\n",
    "        self.y_reversed_dictionary=None\n",
    "        self.build_y_dataset()\n",
    "        \n",
    "        X=self.build_x_dataset()\n",
    "        y=self.build_y_dataset()\n",
    "        \n",
    "        self.nn_structure=None\n",
    "        #init structure\n",
    "        self.init_nn_structure(X)\n",
    "        \n",
    "        NetworkMBGD.__init__(self, X, y, self.nn_structure, test_size)\n",
    "        \n",
    "        \n",
    "    def build_x_dataset(self):\n",
    "        '''build dataset for neural network. turns texts into matrix\n",
    "        INPUT: \n",
    "            - n_words: nr of top sequence words kept, others words are makerd as unknown\n",
    "            - texts_list_raw: list of texts to be build a dataset. each list element is 1 row\n",
    "        '''\n",
    "        \n",
    "        texts_list=[]\n",
    "        texts_tokenized=[]\n",
    "        words=[]\n",
    "        max_sentence_len=0\n",
    "\n",
    "        for sentence in self.x_texts:\n",
    "            text_words=self.cleaner.preporcess_text(sentence)\n",
    "            texts_tokenized.append(text_words)\n",
    "            words.extend(text_words)\n",
    "            if len(text_words)>max_sentence_len:\n",
    "                max_sentence_len=len(text_words)\n",
    "\n",
    "        #set normalised sentence len, other ideas?\n",
    "        normalized_sentence_len=max_sentence_len\n",
    "        #unknonown words count\n",
    "        count = [['UNK', -1]]\n",
    "\n",
    "        count.extend(collections.Counter(words).most_common(self.n_words - 1))\n",
    "        dictionary = dict()\n",
    "        for word, _ in count:\n",
    "            dictionary[word] = len(dictionary)\n",
    "        data = list()\n",
    "        unk_count = 0\n",
    "        for text in texts_tokenized:\n",
    "            text_data=[]\n",
    "            for word in text:\n",
    "                if word in dictionary:\n",
    "                    index = dictionary[word]\n",
    "                else:\n",
    "                    index = 0  # dictionary['UNK']\n",
    "                    unk_count += 1\n",
    "                text_data.append(index)\n",
    "            if len(text_data)<normalized_sentence_len:\n",
    "                text_data.extend([0] * (normalized_sentence_len-len(text_data)))\n",
    "\n",
    "            data.append(text_data)\n",
    "\n",
    "        count[0][1] = unk_count\n",
    "        reversed_dictionary = dict(zip(dictionary.values(), dictionary.keys()))\n",
    "        \n",
    "        self.X_count=count\n",
    "        self.X_dictionary=dictionary\n",
    "        self.X_reversed_dictionary=reversed_dictionary\n",
    "        return np.array(self.scaler.fit_transform(data))\n",
    "        \n",
    "        \n",
    "    def build_y_dataset(self):\n",
    "        '''build y dataset, dataset_y will be one hot vector. turns text into matrix'''\n",
    "        dictionary={}\n",
    "        cnt=0\n",
    "        for word in set(self.y_texts):\n",
    "            dictionary[word]=cnt\n",
    "            cnt+=1\n",
    "\n",
    "        dataset=[]\n",
    "        for category in self.y_texts:\n",
    "            dataset.append([dictionary[category]])\n",
    "        reversed_dictionary = dict(zip(dictionary.values(), dictionary.keys()))\n",
    "        \n",
    "        self.y_dictionary=dictionary\n",
    "        self.y_reversed_dictionary=reversed_dictionary\n",
    "        return np.array(dataset)\n",
    "      \n",
    "    def init_nn_structure(self, X):\n",
    "        x=len(X[0])\n",
    "        y=len(self.y_dictionary)\n",
    "        h=int(round(np.mean([x, y])))\n",
    "        self.nn_structure=[x,h,y]\n",
    "        \n",
    "    def text_to_vector(self, text):\n",
    "        '''turns text to vector based on input data dictionary, for random text vectorization'''\n",
    "        #make sep function for tokenization\n",
    "        texts_tokenized=[]\n",
    "        text_vector=[]\n",
    "        text_words=self.cleaner.preporcess_text(text)\n",
    "        texts_tokenized.extend(text_words)\n",
    "\n",
    "        for token in texts_tokenized:\n",
    "            if token in self.X_dictionary:\n",
    "                text_vector.extend([self.X_dictionary[token]])\n",
    "            else:\n",
    "                text_vector.extend([0])\n",
    "\n",
    "        return text_vector\n",
    "    \n",
    "    \n",
    "    def predict_text_label(self, text):\n",
    "        '''predicts label of text based on model'''\n",
    "        text_vector=self.text_to_vector(text)\n",
    "        #normalize lenght\n",
    "        if len(text_vector)<self.X_test.shape[1]:\n",
    "            text_vector.extend([0] * (self.X_test.shape[1]-len(text_vector)))\n",
    "\n",
    "        h, z = self.feed_forward(text_vector, self.W, self.b)\n",
    "        y = np.argmax(h[len(self.nn_structure)])\n",
    "        y_label=self.y_reversed_dictionary[y]\n",
    "        return y_label\n",
    "    "
   ]
  },
  {
   "cell_type": "markdown",
   "metadata": {},
   "source": [
    "## Example usage"
   ]
  },
  {
   "cell_type": "code",
   "execution_count": 46,
   "metadata": {},
   "outputs": [],
   "source": [
    "# nn_MBGD=TextMBGD(df['text'].tolist(), df['y'].tolist(),[40, 30, 2], 0.4)\n",
    "nn_MBGD=TextMBGD(df['text'].tolist(), df['y'].tolist(), 0.4)"
   ]
  },
  {
   "cell_type": "code",
   "execution_count": 47,
   "metadata": {},
   "outputs": [
    {
     "data": {
      "text/plain": [
       "40"
      ]
     },
     "execution_count": 47,
     "metadata": {},
     "output_type": "execute_result"
    }
   ],
   "source": [
    "len(nn_MBGD.X[0])"
   ]
  },
  {
   "cell_type": "code",
   "execution_count": 48,
   "metadata": {},
   "outputs": [
    {
     "data": {
      "text/plain": [
       "21.0"
      ]
     },
     "execution_count": 48,
     "metadata": {},
     "output_type": "execute_result"
    }
   ],
   "source": [
    "round(np.mean([len(nn_MBGD.X[0]), len(nn_MBGD.y_dictionary)]))"
   ]
  },
  {
   "cell_type": "code",
   "execution_count": 49,
   "metadata": {},
   "outputs": [
    {
     "data": {
      "text/plain": [
       "2"
      ]
     },
     "execution_count": 49,
     "metadata": {},
     "output_type": "execute_result"
    }
   ],
   "source": [
    "len(nn_MBGD.y_dictionary)"
   ]
  },
  {
   "cell_type": "code",
   "execution_count": 50,
   "metadata": {},
   "outputs": [
    {
     "data": {
      "text/plain": [
       "[40, 21, 2]"
      ]
     },
     "execution_count": 50,
     "metadata": {},
     "output_type": "execute_result"
    }
   ],
   "source": [
    "nn_MBGD.nn_structure"
   ]
  },
  {
   "cell_type": "code",
   "execution_count": 51,
   "metadata": {},
   "outputs": [
    {
     "name": "stdout",
     "output_type": "stream",
     "text": [
      "Starting gradient descent for 120 iterations\n",
      "Iteration 0 of 120\n",
      "CPU times: user 37.8 s, sys: 52 ms, total: 37.9 s\n",
      "Wall time: 1min 13s\n"
     ]
    }
   ],
   "source": [
    "% time nn_MBGD.train_nn(iter_num=120)"
   ]
  },
  {
   "cell_type": "code",
   "execution_count": 42,
   "metadata": {},
   "outputs": [
    {
     "data": {
      "image/png": "[encoded data removed]",
      "text/plain": [
       "<matplotlib.figure.Figure at 0x7faaa194a208>"
      ]
     },
     "metadata": {},
     "output_type": "display_data"
    }
   ],
   "source": [
    "nn_MBGD.plot_avg_cost_func()"
   ]
  },
  {
   "cell_type": "code",
   "execution_count": 43,
   "metadata": {},
   "outputs": [
    {
     "data": {
      "text/plain": [
       "82.610229276895936"
      ]
     },
     "execution_count": 43,
     "metadata": {},
     "output_type": "execute_result"
    }
   ],
   "source": [
    "nn_MBGD.get_test_accuracy()"
   ]
  },
  {
   "cell_type": "code",
   "execution_count": 52,
   "metadata": {
    "collapsed": true
   },
   "outputs": [],
   "source": [
    "nn_MBGD.pickle('proov')"
   ]
  },
  {
   "cell_type": "code",
   "execution_count": null,
   "metadata": {
    "collapsed": true
   },
   "outputs": [],
   "source": []
  }
 ],
 "metadata": {
  "kernelspec": {
   "display_name": "Python 3",
   "language": "python",
   "name": "python3"
  },
  "language_info": {
   "codemirror_mode": {
    "name": "ipython",
    "version": 3
   },
   "file_extension": ".py",
   "mimetype": "text/x-python",
   "name": "python",
   "nbconvert_exporter": "python",
   "pygments_lexer": "ipython3",
   "version": "3.5.4"
  }
 },
 "nbformat": 4,
 "nbformat_minor": 2
}
