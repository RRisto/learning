{
 "cells": [
  {
   "cell_type": "code",
   "execution_count": 1,
   "id": "02ebe7a1",
   "metadata": {},
   "outputs": [],
   "source": [
    "import numpy as np\n",
    "import matplotlib.pyplot as plt\n",
    "plt.style.use(\"ggplot\")\n",
    "plt.usetex = True\n",
    "from tqdm.notebook import tqdm\n",
    "from sklearn.datasets import fetch_20newsgroups\n",
    "from sklearn.feature_extraction.text import CountVectorizer"
   ]
  },
  {
   "cell_type": "markdown",
   "id": "a075c2e8",
   "metadata": {},
   "source": [
    "## Data"
   ]
  },
  {
   "cell_type": "code",
   "execution_count": 2,
   "id": "2e27fb0b",
   "metadata": {},
   "outputs": [],
   "source": [
    "n_samples = 10000\n",
    "data, _ = fetch_20newsgroups(shuffle=True, random_state=1,\n",
    "                             remove=('headers', 'footers', 'quotes'),\n",
    "                             return_X_y=True,\n",
    "                            )\n",
    "data_samples = data[:n_samples]"
   ]
  },
  {
   "cell_type": "markdown",
   "id": "dcc2e8fb",
   "metadata": {},
   "source": [
    "## Prep data"
   ]
  },
  {
   "cell_type": "code",
   "execution_count": 3,
   "id": "d68a432f",
   "metadata": {},
   "outputs": [],
   "source": [
    "tf_vectorizer = CountVectorizer(max_df=0.95, min_df=2,\n",
    "                                max_features=10000,\n",
    "                                stop_words='english')\n",
    "tf = tf_vectorizer.fit_transform(data_samples)"
   ]
  },
  {
   "cell_type": "code",
   "execution_count": 4,
   "id": "f50a2268",
   "metadata": {},
   "outputs": [],
   "source": [
    "vocabulary = tf_vectorizer.vocabulary_"
   ]
  },
  {
   "cell_type": "code",
   "execution_count": 5,
   "id": "0c1cef04",
   "metadata": {},
   "outputs": [],
   "source": [
    "docs = []\n",
    "for row in tf.toarray():\n",
    "    present_words = np.where(row != 0)[0].tolist()\n",
    "    present_words_with_count = []\n",
    "    for word_idx in present_words:\n",
    "        for count in range(row[word_idx]):\n",
    "            present_words_with_count.append(word_idx)\n",
    "    docs.append(present_words_with_count)"
   ]
  },
  {
   "cell_type": "code",
   "execution_count": 6,
   "id": "18fc58f1",
   "metadata": {},
   "outputs": [],
   "source": [
    "# docs[1]"
   ]
  },
  {
   "cell_type": "code",
   "execution_count": 13,
   "id": "15272770",
   "metadata": {},
   "outputs": [
    {
     "data": {
      "text/plain": [
       "[1909, 2051, 3205, 5441, 8247]"
      ]
     },
     "execution_count": 13,
     "metadata": {},
     "output_type": "execute_result"
    }
   ],
   "source": [
    "present_words_with_count"
   ]
  },
  {
   "cell_type": "markdown",
   "id": "fa4a1299",
   "metadata": {},
   "source": [
    "## LDA with Gibbs sampling"
   ]
  },
  {
   "cell_type": "code",
   "execution_count": 8,
   "id": "99fd5315",
   "metadata": {},
   "outputs": [],
   "source": [
    "D = len(docs)        # number of documents\n",
    "V = len(vocabulary)  # size of the vocabulary \n",
    "T = 10               # number of topics\n",
    "\n",
    "alpha = 1 / T         # the parameter of the Dirichlet prior on the per-document topic distributions\n",
    "beta = 1 / T        # the parameter of the Dirichlet prior on the per-topic word distribution"
   ]
  },
  {
   "cell_type": "code",
   "execution_count": 9,
   "id": "3a656c26",
   "metadata": {},
   "outputs": [],
   "source": [
    "z_d_n = [[0 for _ in range(len(d))] for d in docs]  # z_i_j\n",
    "theta_d_z = np.zeros((D, T))\n",
    "phi_z_w = np.zeros((T, V))\n",
    "n_d = np.zeros((D))\n",
    "n_z = np.zeros((T))\n",
    "\n",
    "## Initialize the parameters\n",
    "# m: doc id\n",
    "for d, doc in enumerate(docs):  \n",
    "    # n: id of word inside document, w: id of the word globally\n",
    "    for n, w in enumerate(doc):\n",
    "        # assign a topic randomly to words\n",
    "        z_d_n[d][n] = n % T\n",
    "        # get the topic for word n in document m\n",
    "        z = z_d_n[d][n]\n",
    "        # keep track of our counts\n",
    "        theta_d_z[d][z] += 1\n",
    "        phi_z_w[z, w] += 1\n",
    "        n_z[z] += 1\n",
    "        n_d[d] += 1"
   ]
  },
  {
   "cell_type": "code",
   "execution_count": 24,
   "id": "df8402ec",
   "metadata": {},
   "outputs": [
    {
     "data": {
      "text/plain": [
       "42.0"
      ]
     },
     "execution_count": 24,
     "metadata": {},
     "output_type": "execute_result"
    }
   ],
   "source": [
    "n_d[1]"
   ]
  },
  {
   "cell_type": "code",
   "execution_count": 34,
   "id": "640af37a",
   "metadata": {},
   "outputs": [
    {
     "data": {
      "text/plain": [
       "10000"
      ]
     },
     "execution_count": 34,
     "metadata": {},
     "output_type": "execute_result"
    }
   ],
   "source": [
    "len(phi_z_w[1])"
   ]
  },
  {
   "cell_type": "code",
   "execution_count": 10,
   "id": "3bb0d094",
   "metadata": {},
   "outputs": [
    {
     "data": {
      "application/vnd.jupyter.widget-view+json": {
       "model_id": "26666eed0e0a41d9b3da72fdf74e3a7a",
       "version_major": 2,
       "version_minor": 0
      },
      "text/plain": [
       "  0%|          | 0/10 [00:00<?, ?it/s]"
      ]
     },
     "metadata": {},
     "output_type": "display_data"
    }
   ],
   "source": [
    "for iteration in tqdm(range(10)):\n",
    "    for d, doc in enumerate(docs):\n",
    "        for n, w in enumerate(doc):\n",
    "            # get the topic for word n in document m\n",
    "            z = z_d_n[d][n]\n",
    "\n",
    "            # decrement counts for word w with associated topic z\n",
    "            theta_d_z[d][z] -= 1\n",
    "            phi_z_w[z, w] -= 1\n",
    "            n_z[z] -= 1\n",
    "\n",
    "            # sample new topic from a multinomial according to our formular\n",
    "            p_d_t = (theta_d_z[d] + alpha) / (n_d[d] - 1 + T * alpha)\n",
    "            p_t_w = (phi_z_w[:, w] + beta) / (n_z + V * beta)\n",
    "            p_z = p_d_t * p_t_w\n",
    "            p_z /= np.sum(p_z)\n",
    "            new_z = np.random.multinomial(1, p_z).argmax()\n",
    "\n",
    "            # set z as the new topic and increment counts\n",
    "            z_d_n[d][n] = new_z\n",
    "            theta_d_z[d][new_z] += 1\n",
    "            phi_z_w[new_z, w] += 1\n",
    "            n_z[new_z] += 1"
   ]
  },
  {
   "cell_type": "markdown",
   "id": "99b8c7b1",
   "metadata": {},
   "source": [
    "## Results"
   ]
  },
  {
   "cell_type": "code",
   "execution_count": 11,
   "id": "a0e0f0a8",
   "metadata": {},
   "outputs": [
    {
     "data": {
      "text/plain": [
       "Text(0.5, 1.0, 'Topic distribution $theta_i$ for document 1')"
      ]
     },
     "execution_count": 11,
     "metadata": {},
     "output_type": "execute_result"
    },
    {
     "data": {
      "image/png": "[encoded data removed]",
      "text/plain": [
       "<Figure size 432x288 with 1 Axes>"
      ]
     },
     "metadata": {},
     "output_type": "display_data"
    }
   ],
   "source": [
    "i = 1\n",
    "plt.plot(theta_d_z[i]/ sum(theta_d_z[i]));\n",
    "plt.title(\"Topic distribution $theta_i$ for document {}\".format(i))"
   ]
  },
  {
   "cell_type": "code",
   "execution_count": 12,
   "id": "14082a86",
   "metadata": {},
   "outputs": [
    {
     "name": "stdout",
     "output_type": "stream",
     "text": [
      "Topic #0: 00 10 16 25 15 20 12 drive 11 14\n",
      "Topic #1: file edu image space use program available com set graphics\n",
      "Topic #2: god don good people think just does say jesus believe\n",
      "Topic #3: people think don just know time government right did say\n",
      "Topic #4: like don just use know problem ve does work think\n",
      "Topic #5: people said armenian don like just armenians know turkish gun\n",
      "Topic #6: use like db used time space does know just don\n",
      "Topic #7: key edu com information use encryption ftp mail data mr\n",
      "Topic #8: ax max g9v b8f a86 pl 75u 1t bhj giz\n",
      "Topic #9: cx w7 ah c_ mv chz lk uw t7 17\n"
     ]
    }
   ],
   "source": [
    "inv_vocabulary = {v: k for k, v in vocabulary.items()}\n",
    "n_top_words = 10\n",
    "for topic_idx, topic in enumerate(phi_z_w):\n",
    "    message = \"Topic #%d: \" % topic_idx\n",
    "    message += \" \".join([inv_vocabulary[i] for i in topic.argsort()[:-n_top_words - 1:-1]])\n",
    "    print(message)"
   ]
  },
  {
   "cell_type": "code",
   "execution_count": null,
   "id": "a12a59b2",
   "metadata": {},
   "outputs": [],
   "source": []
  }
 ],
 "metadata": {
  "kernelspec": {
   "display_name": "Python 3",
   "language": "python",
   "name": "python3"
  },
  "language_info": {
   "codemirror_mode": {
    "name": "ipython",
    "version": 3
   },
   "file_extension": ".py",
   "mimetype": "text/x-python",
   "name": "python",
   "nbconvert_exporter": "python",
   "pygments_lexer": "ipython3",
   "version": "3.7.4"
  }
 },
 "nbformat": 4,
 "nbformat_minor": 5
}
