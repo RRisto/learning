{
 "cells": [
  {
   "cell_type": "code",
   "execution_count": 2,
   "metadata": {},
   "outputs": [],
   "source": [
    "import numpy as np\n",
    "\n",
    "transition_matrix =     np.array([[0.33, 0.33,    0,    0,    0, 0.33,    0,    0,    0,    0,    0,    0,    0],\n",
    "                                  [0.33, 0.33, 0.33,    0,    0,    0,    0,    0,    0,    0,    0,    0,    0],\n",
    "                                  [   0, 0.25, 0.25, 0.25,    0,    0, 0.25,    0,    0,    0,    0,    0,    0],\n",
    "                                  [   0,    0, 0.33, 0.33, 0.33,    0,    0,    0,    0,    0,    0,    0,    0],\n",
    "                                  [   0,    0,    0, 0.33, 0.33,    0,    0, 0.33,    0,    0,    0,    0,    0],\n",
    "                                  [0.33,    0,    0,    0,    0, 0.33,    0,    0, 0.33,    0,    0,    0,    0],\n",
    "                                  [   0,    0, 0.33,    0,    0,    0, 0.33,    0,    0,    0, 0.33,    0,    0],\n",
    "                                  [   0,    0,    0,    0, 0.33,    0,    0, 0.33,    0,    0,    0,    0, 0.33],\n",
    "                                  [   0,    0,    0,    0,    0, 0.33,    0,    0, 0.33, 0.33,    0,    0,    0],\n",
    "                                  [   0,    0,    0,    0,    0,    0,    0,    0, 0.33, 0.33, 0.33,    0,    0],\n",
    "                                  [   0,    0,    0,    0,    0,    0,    0,    0,    0, 0.33, 0.33, 0.33,    0],\n",
    "                                  [   0,    0,    0,    0,    0,    0,    0,    0,    0,    0, 0.33, 0.33, 0.33],\n",
    "                                  [   0,    0,    0,    0,    0,    0,    0, 0.33,    0,    0,    0, 0.33, 0.33]])\n",
    "\n",
    "emission = np.array([1.0, 0.0, 0.0, 0.0, 0.0, 1.0, 1.0, 1.0, 1.0, 0.0, 0.0, 0.0, 0.0])\n",
    "\n",
    "init_prob = np.array([0.077, 0.077, 0.077, 0.077, 0.077, 0.077, 0.077,\n",
    "                      0.077, 0.077, 0.077, 0.077, 0.077, 0.077])\n",
    "\n",
    "def forward(obs, transition, emission, init):\n",
    "    \"\"\"\n",
    "    Runs forward algorithm on the HMM.\n",
    "\n",
    "    Parameters\n",
    "    ----------\n",
    "    obs:        1D list, array-like\n",
    "                The list of observed states.\n",
    "\n",
    "    transition: 2D array-like\n",
    "                The transition probability of the HMM.\n",
    "                size = {n_states x n_states}\n",
    "\n",
    "    emission:   1D array-like\n",
    "                The emission probabiltiy of the HMM.\n",
    "                size = {n_states}\n",
    "\n",
    "    init:       1D array-like\n",
    "                The initial probability of HMM.\n",
    "                size = {n_states}\n",
    "\n",
    "    Returns\n",
    "    -------\n",
    "    float: Probability value for the obs to occur.\n",
    "    \"\"\"\n",
    "    n_states = transition.shape[0]\n",
    "    fwd = [{}]\n",
    "\n",
    "    for i in range(n_states):\n",
    "        fwd[0][y] = init[i] * emission[obs[0]]\n",
    "    for t in range(1, len(obs)):\n",
    "        fwd.append({})\n",
    "        for i in range(n_states):\n",
    "            fwd[t][i] = sum((fwd[t-1][y0] * transition[y0][i] * emission[obs[t]]) for y0 in \n",
    "                                    range(n_states))\n",
    "    prob = sum((fwd[len(obs) - 1][s]) for s in range(n_states))\n",
    "    return prob"
   ]
  },
  {
   "cell_type": "code",
   "execution_count": null,
   "metadata": {},
   "outputs": [],
   "source": []
  }
 ],
 "metadata": {
  "kernelspec": {
   "display_name": "Python 3",
   "language": "python",
   "name": "python3"
  },
  "language_info": {
   "codemirror_mode": {
    "name": "ipython",
    "version": 3
   },
   "file_extension": ".py",
   "mimetype": "text/x-python",
   "name": "python",
   "nbconvert_exporter": "python",
   "pygments_lexer": "ipython3",
   "version": "3.7.4"
  }
 },
 "nbformat": 4,
 "nbformat_minor": 2
}
