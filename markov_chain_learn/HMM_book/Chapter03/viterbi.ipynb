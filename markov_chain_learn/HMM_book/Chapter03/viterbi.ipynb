{
 "cells": [
  {
   "cell_type": "code",
   "execution_count": 2,
   "metadata": {},
   "outputs": [],
   "source": [
    "import numpy as np\n",
    "\n",
    "transition_matrix =     np.array([[0.33, 0.33,    0,    0,    0, 0.33,    0,    0,    0,    0,    0,    0,    0],\n",
    "                                  [0.33, 0.33, 0.33,    0,    0,    0,    0,    0,    0,    0,    0,    0,    0],\n",
    "                                  [   0, 0.25, 0.25, 0.25,    0,    0, 0.25,    0,    0,    0,    0,    0,    0],\n",
    "                                  [   0,    0, 0.33, 0.33, 0.33,    0,    0,    0,    0,    0,    0,    0,    0],\n",
    "                                  [   0,    0,    0, 0.33, 0.33,    0,    0, 0.33,    0,    0,    0,    0,    0],\n",
    "                                  [0.33,    0,    0,    0,    0, 0.33,    0,    0, 0.33,    0,    0,    0,    0],\n",
    "                                  [   0,    0, 0.33,    0,    0,    0, 0.33,    0,    0,    0, 0.33,    0,    0],\n",
    "                                  [   0,    0,    0,    0, 0.33,    0,    0, 0.33,    0,    0,    0,    0, 0.33],\n",
    "                                  [   0,    0,    0,    0,    0, 0.33,    0,    0, 0.33, 0.33,    0,    0,    0],\n",
    "                                  [   0,    0,    0,    0,    0,    0,    0,    0, 0.33, 0.33, 0.33,    0,    0],\n",
    "                                  [   0,    0,    0,    0,    0,    0,    0,    0,    0, 0.33, 0.33, 0.33,    0],\n",
    "                                  [   0,    0,    0,    0,    0,    0,    0,    0,    0,    0, 0.33, 0.33, 0.33],\n",
    "                                  [   0,    0,    0,    0,    0,    0,    0, 0.33,    0,    0,    0, 0.33, 0.33]])\n",
    "\n",
    "emission = np.array([1.0, 0.0, 0.0, 0.0, 0.0, 1.0, 1.0, 1.0, 1.0, 0.0, 0.0, 0.0, 0.0])\n",
    "\n",
    "init_prob = np.array([0.077, 0.077, 0.077, 0.077, 0.077, 0.077, 0.077,\n",
    "                      0.077, 0.077, 0.077, 0.077, 0.077, 0.077])\n",
    "\n",
    "def viterbi(obs, transition, emission, init=None):\n",
    "    \"\"\"\n",
    "    Return the MAP estimate of state trajectory of Hidden Markov Model.\n",
    "\n",
    "    Parameters\n",
    "    ----------\n",
    "    y : array (T,)\n",
    "        Observation state sequence. int dtype.\n",
    "\n",
    "    transition : array (K, K)\n",
    "        State transition matrix. See HiddenMarkovModel.state_transition for\n",
    "        details.\n",
    "\n",
    "    emission : array (K,)\n",
    "        Emission matrix. See HiddenMarkovModel.emission for details.\n",
    "\n",
    "    init: optional, (K,)\n",
    "        Initial state probabilities: Pi[i] is the probability x[0] == i. If\n",
    "        None, uniform initial distribution is assumed (Pi[:] == 1/K).\n",
    "\n",
    "    Returns\n",
    "    -------\n",
    "    x : array (T,)\n",
    "        Maximum a posteriori probability estimate of hidden state trajectory,\n",
    "        conditioned on observation sequence y under the model parameters.\n",
    "\n",
    "    T1: array (K, T)\n",
    "        the probability of the most likely path so far\n",
    "\n",
    "    T2: array (K, T)\n",
    "        the x_j-1 of the most likely path so far\n",
    "    \"\"\"\n",
    "    # Cardinality of the state space\n",
    "    K = transition.shape[0]\n",
    "\n",
    "    emission = np.repeat(emission[np.newaxis, :], K, axis=0)\n",
    "\n",
    "    # Initialize the priors with default (uniform dist) if not given by caller\n",
    "    init = init if init is not None else np.full(K, 1 / K)\n",
    "    T = len(obs)\n",
    "    T1 = np.empty((K, T), 'd')\n",
    "    T2 = np.empty((K, T), 'B')\n",
    "\n",
    "    # Initilaize the tracking tables from first observation\n",
    "    T1[:, 0] = init * emission[:, obs[0]]\n",
    "    T2[:, 0] = 0\n",
    "\n",
    "    # Iterate throught the observations updating the tracking tables\n",
    "    for i in range(1, T):\n",
    "        T1[:, i] = np.max(T1[:, i - 1] * transition.T * emission[np.newaxis, :, obs[i]].T, 1)\n",
    "        T2[:, i] = np.argmax(T1[:, i - 1] * transition.T, 1)\n",
    "\n",
    "    # Build the output, optimal model trajectory\n",
    "    x = np.empty(T, 'B')\n",
    "    x[-1] = np.argmax(T1[:, T - 1])\n",
    "    for i in reversed(range(1, T)):\n",
    "        x[i - 1] = T2[x[i], i]\n",
    "\n",
    "    return x, T1, T2\n"
   ]
  },
  {
   "cell_type": "code",
   "execution_count": 3,
   "metadata": {},
   "outputs": [],
   "source": [
    "x, T1, T2 = viterbi([0, 0, 0, 0], transition_matrix, emission, init_prob)"
   ]
  },
  {
   "cell_type": "code",
   "execution_count": 4,
   "metadata": {},
   "outputs": [
    {
     "data": {
      "text/plain": [
       "array([0, 0, 0, 0], dtype=uint8)"
      ]
     },
     "execution_count": 4,
     "metadata": {},
     "output_type": "execute_result"
    }
   ],
   "source": [
    "x"
   ]
  },
  {
   "cell_type": "code",
   "execution_count": 5,
   "metadata": {},
   "outputs": [
    {
     "data": {
      "text/plain": [
       "array([[0.077     , 0.02541   , 0.0083853 , 0.00276715],\n",
       "       [0.077     , 0.02541   , 0.0083853 , 0.00276715],\n",
       "       [0.077     , 0.02541   , 0.0083853 , 0.00276715],\n",
       "       [0.077     , 0.02541   , 0.0083853 , 0.00276715],\n",
       "       [0.077     , 0.02541   , 0.0083853 , 0.00276715],\n",
       "       [0.077     , 0.02541   , 0.0083853 , 0.00276715],\n",
       "       [0.077     , 0.02541   , 0.0083853 , 0.00276715],\n",
       "       [0.077     , 0.02541   , 0.0083853 , 0.00276715],\n",
       "       [0.077     , 0.02541   , 0.0083853 , 0.00276715],\n",
       "       [0.077     , 0.02541   , 0.0083853 , 0.00276715],\n",
       "       [0.077     , 0.02541   , 0.0083853 , 0.00276715],\n",
       "       [0.077     , 0.02541   , 0.0083853 , 0.00276715],\n",
       "       [0.077     , 0.02541   , 0.0083853 , 0.00276715]])"
      ]
     },
     "execution_count": 5,
     "metadata": {},
     "output_type": "execute_result"
    }
   ],
   "source": [
    "T1"
   ]
  },
  {
   "cell_type": "code",
   "execution_count": 6,
   "metadata": {},
   "outputs": [
    {
     "data": {
      "text/plain": [
       "array([[ 0,  0,  0,  0],\n",
       "       [ 0,  0,  0,  0],\n",
       "       [ 0,  1,  1,  1],\n",
       "       [ 0,  3,  3,  3],\n",
       "       [ 0,  3,  3,  3],\n",
       "       [ 0,  0,  0,  0],\n",
       "       [ 0,  6,  6,  6],\n",
       "       [ 0,  4,  4,  4],\n",
       "       [ 0,  5,  5,  5],\n",
       "       [ 0,  8,  8,  8],\n",
       "       [ 0,  6,  6,  6],\n",
       "       [ 0, 10, 10, 10],\n",
       "       [ 0,  7,  7,  7]], dtype=uint8)"
      ]
     },
     "execution_count": 6,
     "metadata": {},
     "output_type": "execute_result"
    }
   ],
   "source": [
    "T2"
   ]
  },
  {
   "cell_type": "code",
   "execution_count": 7,
   "metadata": {},
   "outputs": [],
   "source": [
    "x, T1, T2 = viterbi([0, 10, 8, 6], transition_matrix, emission, init_prob)"
   ]
  },
  {
   "cell_type": "code",
   "execution_count": 8,
   "metadata": {},
   "outputs": [
    {
     "data": {
      "text/plain": [
       "array([0, 0, 0, 0], dtype=uint8)"
      ]
     },
     "execution_count": 8,
     "metadata": {},
     "output_type": "execute_result"
    }
   ],
   "source": [
    "x"
   ]
  },
  {
   "cell_type": "code",
   "execution_count": 9,
   "metadata": {},
   "outputs": [
    {
     "data": {
      "text/plain": [
       "array([[0.077, 0.   , 0.   , 0.   ],\n",
       "       [0.077, 0.   , 0.   , 0.   ],\n",
       "       [0.077, 0.   , 0.   , 0.   ],\n",
       "       [0.077, 0.   , 0.   , 0.   ],\n",
       "       [0.077, 0.   , 0.   , 0.   ],\n",
       "       [0.077, 0.   , 0.   , 0.   ],\n",
       "       [0.077, 0.   , 0.   , 0.   ],\n",
       "       [0.077, 0.   , 0.   , 0.   ],\n",
       "       [0.077, 0.   , 0.   , 0.   ],\n",
       "       [0.077, 0.   , 0.   , 0.   ],\n",
       "       [0.077, 0.   , 0.   , 0.   ],\n",
       "       [0.077, 0.   , 0.   , 0.   ],\n",
       "       [0.077, 0.   , 0.   , 0.   ]])"
      ]
     },
     "execution_count": 9,
     "metadata": {},
     "output_type": "execute_result"
    }
   ],
   "source": [
    "T1"
   ]
  },
  {
   "cell_type": "code",
   "execution_count": 10,
   "metadata": {},
   "outputs": [
    {
     "data": {
      "text/plain": [
       "array([[ 0,  0,  0,  0],\n",
       "       [ 0,  0,  0,  0],\n",
       "       [ 0,  1,  0,  0],\n",
       "       [ 0,  3,  0,  0],\n",
       "       [ 0,  3,  0,  0],\n",
       "       [ 0,  0,  0,  0],\n",
       "       [ 0,  6,  0,  0],\n",
       "       [ 0,  4,  0,  0],\n",
       "       [ 0,  5,  0,  0],\n",
       "       [ 0,  8,  0,  0],\n",
       "       [ 0,  6,  0,  0],\n",
       "       [ 0, 10,  0,  0],\n",
       "       [ 0,  7,  0,  0]], dtype=uint8)"
      ]
     },
     "execution_count": 10,
     "metadata": {},
     "output_type": "execute_result"
    }
   ],
   "source": [
    "T2"
   ]
  },
  {
   "cell_type": "code",
   "execution_count": null,
   "metadata": {},
   "outputs": [],
   "source": []
  }
 ],
 "metadata": {
  "kernelspec": {
   "display_name": "Python 3",
   "language": "python",
   "name": "python3"
  },
  "language_info": {
   "codemirror_mode": {
    "name": "ipython",
    "version": 3
   },
   "file_extension": ".py",
   "mimetype": "text/x-python",
   "name": "python",
   "nbconvert_exporter": "python",
   "pygments_lexer": "ipython3",
   "version": "3.7.4"
  }
 },
 "nbformat": 4,
 "nbformat_minor": 2
}
