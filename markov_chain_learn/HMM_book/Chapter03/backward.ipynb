{
 "cells": [
  {
   "cell_type": "code",
   "execution_count": 2,
   "metadata": {},
   "outputs": [],
   "source": [
    "import numpy as np\n",
    "\n",
    "transition_matrix =     np.array([[0.33, 0.33,    0,    0,    0, 0.33,    0,    0,    0,    0,    0,    0,    0],\n",
    "                                  [0.33, 0.33, 0.33,    0,    0,    0,    0,    0,    0,    0,    0,    0,    0],\n",
    "                                  [   0, 0.25, 0.25, 0.25,    0,    0, 0.25,    0,    0,    0,    0,    0,    0],\n",
    "                                  [   0,    0, 0.33, 0.33, 0.33,    0,    0,    0,    0,    0,    0,    0,    0],\n",
    "                                  [   0,    0,    0, 0.33, 0.33,    0,    0, 0.33,    0,    0,    0,    0,    0],\n",
    "                                  [0.33,    0,    0,    0,    0, 0.33,    0,    0, 0.33,    0,    0,    0,    0],\n",
    "                                  [   0,    0, 0.33,    0,    0,    0, 0.33,    0,    0,    0, 0.33,    0,    0],\n",
    "                                  [   0,    0,    0,    0, 0.33,    0,    0, 0.33,    0,    0,    0,    0, 0.33],\n",
    "                                  [   0,    0,    0,    0,    0, 0.33,    0,    0, 0.33, 0.33,    0,    0,    0],\n",
    "                                  [   0,    0,    0,    0,    0,    0,    0,    0, 0.33, 0.33, 0.33,    0,    0],\n",
    "                                  [   0,    0,    0,    0,    0,    0,    0,    0,    0, 0.33, 0.33, 0.33,    0],\n",
    "                                  [   0,    0,    0,    0,    0,    0,    0,    0,    0,    0, 0.33, 0.33, 0.33],\n",
    "                                  [   0,    0,    0,    0,    0,    0,    0, 0.33,    0,    0,    0, 0.33, 0.33]])\n",
    "\n",
    "emission = np.array([1.0, 0.0, 0.0, 0.0, 0.0, 1.0, 1.0, 1.0, 1.0, 0.0, 0.0, 0.0, 0.0])\n",
    "\n",
    "init_prob = np.array([0.077, 0.077, 0.077, 0.077, 0.077, 0.077, 0.077,\n",
    "                      0.077, 0.077, 0.077, 0.077, 0.077, 0.077])\n",
    "\n",
    "\n",
    "def backward(obs, transition, emission, init):\n",
    "    \"\"\"\n",
    "    Runs backward algorithm on the HMM.\n",
    "\n",
    "    Parameters\n",
    "    ----------\n",
    "    obs:        1D list, array-like\n",
    "                The list of observed states.\n",
    "\n",
    "    transition: 2D array-like\n",
    "                The transition probability of the HMM.\n",
    "                size = {n_states x n_states}\n",
    "\n",
    "    emission:   1D array-like\n",
    "                The emission probabiltiy of the HMM.\n",
    "                size = {n_states}\n",
    "\n",
    "    init:       1D array-like\n",
    "                The initial probability of HMM.\n",
    "                size = {n_states}\n",
    "\n",
    "    Returns\n",
    "    -------\n",
    "    float: Probability value for the obs to occur.\n",
    "    \"\"\"\n",
    "    n_states = transition.shape[0]\n",
    "    bkw = [{} for t in range(len(obs))]\n",
    "    T = len(obs)\n",
    "    \n",
    "    for y in range(n_states):\n",
    "        bkw[T-1][y] = 1\n",
    "    for t in reversed(range(T-1)):\n",
    "        for y in range(n_states):\n",
    "            bkw[t][y] = sum((bkw[t+1][y1] * transition[y][y1] * emission[obs[t+1]]) for y1 in \n",
    "                                    range(n_states))\n",
    "    prob = sum((init[y] * emission[obs[0]] * bkw[0][y]) for y in range(n_states))\n",
    "    return prob\n"
   ]
  },
  {
   "cell_type": "code",
   "execution_count": 3,
   "metadata": {},
   "outputs": [
    {
     "data": {
      "text/plain": [
       "0.9738177680000003"
      ]
     },
     "execution_count": 3,
     "metadata": {},
     "output_type": "execute_result"
    }
   ],
   "source": [
    "obs = [0, 0, 0, 0] # Staying in the same location\n",
    "backward(obs, transition_matrix, emission, init_prob)"
   ]
  },
  {
   "cell_type": "code",
   "execution_count": 4,
   "metadata": {},
   "outputs": [
    {
     "data": {
      "text/plain": [
       "0.0"
      ]
     },
     "execution_count": 4,
     "metadata": {},
     "output_type": "execute_result"
    }
   ],
   "source": [
    "obs = [0, 10, 8, 6] # Should be 0 because can't jump from state 0 to 10.\n",
    "backward(obs, transition_matrix, emission, init_prob)"
   ]
  },
  {
   "cell_type": "code",
   "execution_count": null,
   "metadata": {},
   "outputs": [],
   "source": []
  }
 ],
 "metadata": {
  "kernelspec": {
   "display_name": "Python 3",
   "language": "python",
   "name": "python3"
  },
  "language_info": {
   "codemirror_mode": {
    "name": "ipython",
    "version": 3
   },
   "file_extension": ".py",
   "mimetype": "text/x-python",
   "name": "python",
   "nbconvert_exporter": "python",
   "pygments_lexer": "ipython3",
   "version": "3.7.4"
  }
 },
 "nbformat": 4,
 "nbformat_minor": 2
}
