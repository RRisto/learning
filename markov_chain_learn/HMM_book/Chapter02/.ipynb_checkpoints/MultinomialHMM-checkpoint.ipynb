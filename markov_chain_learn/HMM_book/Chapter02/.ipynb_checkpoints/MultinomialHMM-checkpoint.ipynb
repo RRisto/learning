{
 "cells": [
  {
   "cell_type": "code",
   "execution_count": 11,
   "metadata": {},
   "outputs": [],
   "source": [
    "import numpy as np\n",
    "from MarkovChainMatrix import MarkovChain\n",
    "\n",
    "\n",
    "class MultinomialHMM:\n",
    "    def __init__(self, num_states, observation_states, prior_probabilities, \n",
    "                 transition_matrix, emission_probabilities):\n",
    "         \"\"\"         Initialize Hidden Markov Model\n",
    "         Parameters\n",
    "         -----------\n",
    "         num_states: int\n",
    "         Number of states of latent variable\n",
    "         observation_states: 1-D array\n",
    "         An array representing the set of all observations\n",
    "         prior_probabilities: 1-D array\n",
    "         An array representing the prior probabilities of all the states\n",
    "         of latent variable\n",
    "         transition_matrix: 2-D array\n",
    "         A matrix representing the transition probabilities of change of\n",
    "         state of latent variable\n",
    "         emission_probabilities: 2-D array\n",
    "         A matrix representing the probability of a given observation\n",
    "         given the state of the latent variable\n",
    "         \"\"\"\n",
    "         # As latent variables form a Markov chain, we can use\n",
    "         # use the previous defined MarkovChain class to create it\n",
    "         self.latent_variable_markov_chain = MarkovChain(\n",
    "            transition_matrix=transition_matrix,\n",
    "            states=['z{index}'.format(index=index) for index in\n",
    "                range(num_states)], )\n",
    "         self.observation_states = observation_states\n",
    "         self.prior_probabilities = np.atleast_1d(prior_probabilities)\n",
    "         self.transition_matrix = np.atleast_2d(transition_matrix)\n",
    "         self.emission_probabilities = np.atleast_2d(emission_probabilities)\n",
    "\n",
    "    def observation_from_state(self, state):\n",
    "         \"\"\"\n",
    "         Generate observation for a given state in accordance with\n",
    "         the emission probabilities\n",
    "\n",
    "         Parameters\n",
    "         ----------\n",
    "         state: int\n",
    "            Index of the current state\n",
    "         \"\"\"\n",
    "         state_index = self.latent_variable_markov_chain.index_dict[state]\n",
    "         return np.random.choice(self.observation_states,\n",
    "                                 p=self.emission_probabilities[state_index, :])\n",
    "\n",
    "    def generate_samples(self, no=10):\n",
    "         \"\"\"\n",
    "         Generate samples from the hidden Markov model\n",
    "\n",
    "         Parameters\n",
    "         ----------\n",
    "         no: int\n",
    "            Number of samples to be drawn\n",
    "\n",
    "         Returns\n",
    "         -------\n",
    "         observations: 1-D array\n",
    "            An array of sequence of observations\n",
    "         state_sequence: 1-D array\n",
    "            An array of sequence of states\n",
    "         \"\"\"\n",
    "         observations = []\n",
    "         state_sequence = []\n",
    "         initial_state = np.random.choice(\n",
    "                        self.latent_variable_markov_chain.states,\n",
    "                        p=self.prior_probabilities)\n",
    "         state_sequence.append(initial_state)\n",
    "         observations.append(self.observation_from_state(initial_state))\n",
    "         current_state = initial_state\n",
    "         for i in range(2, no):\n",
    "             next_state = self.latent_variable_markov_chain.next_state(current_state)\n",
    "             state_sequence.append(next_state)\n",
    "             observations.append(self.observation_from_state(next_state))\n",
    "             current_state = next_state\n",
    "         return observations, state_sequence\n"
   ]
  },
  {
   "cell_type": "code",
   "execution_count": 12,
   "metadata": {},
   "outputs": [],
   "source": [
    "coin_hmm = MultinomialHMM(num_states=2, observation_states=['H', 'T'], prior_probabilities=[0.5, 0.5],\n",
    "                          transition_matrix=[[0.5, 0.5], [0.5, 0.5]],emission_probabilities=[[0.8, 0.2], [0.3, 0.7]])"
   ]
  },
  {
   "cell_type": "code",
   "execution_count": 14,
   "metadata": {},
   "outputs": [
    {
     "data": {
      "text/plain": [
       "(['T', 'T', 'H', 'H', 'T', 'T', 'T', 'H', 'H'],\n",
       " ['z1', 'z1', 'z0', 'z0', 'z1', 'z1', 'z0', 'z1', 'z1'])"
      ]
     },
     "execution_count": 14,
     "metadata": {},
     "output_type": "execute_result"
    }
   ],
   "source": [
    "coin_hmm.generate_samples()"
   ]
  },
  {
   "cell_type": "code",
   "execution_count": null,
   "metadata": {},
   "outputs": [],
   "source": []
  }
 ],
 "metadata": {
  "kernelspec": {
   "display_name": "Python 3",
   "language": "python",
   "name": "python3"
  },
  "language_info": {
   "codemirror_mode": {
    "name": "ipython",
    "version": 3
   },
   "file_extension": ".py",
   "mimetype": "text/x-python",
   "name": "python",
   "nbconvert_exporter": "python",
   "pygments_lexer": "ipython3",
   "version": "3.7.4"
  }
 },
 "nbformat": 4,
 "nbformat_minor": 2
}
