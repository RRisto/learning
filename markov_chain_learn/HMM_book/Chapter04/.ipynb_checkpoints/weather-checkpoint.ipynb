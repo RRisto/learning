{
 "cells": [
  {
   "cell_type": "code",
   "execution_count": 3,
   "metadata": {},
   "outputs": [],
   "source": [
    "import numpy as np\n",
    "def weather_fit(data):\n",
    "    \"\"\"\n",
    "    Learn the transition and emission probabilities from the given data\n",
    "    for the weather model.\n",
    "\n",
    "    Parameters\n",
    "    ----------\n",
    "    data: 2-D list (array-like)\n",
    "        Each data point should be a tuple of size 2 with the first element\n",
    "        representing the state of Weather and the second element representing\n",
    "        whether it rained or not.\n",
    "\n",
    "        Sunny = 0, Cloudy = 1, Windy = 2\n",
    "        Rain = 0, No Rain = 1\n",
    "\n",
    "    Returns\n",
    "    -------\n",
    "    transition probability: 2-D array\n",
    "        The conditional distribution respresenting the transition probability\n",
    "        of the model.\n",
    "\n",
    "    emission probability: 2-D array\n",
    "        The conditional distribution respresenting the emission probability\n",
    "        of the model.\n",
    "    \"\"\"\n",
    "    data = np.array(data)\n",
    "    transition_counts = np.zeros((3, 3))\n",
    "    emission_counts = np.zeros((3, 2))\n",
    "    for index, datapoint in enumerate(data):\n",
    "        if index != len(data)-1:\n",
    "            transition_counts[data[index][0], data[index+1][0]] += 1\n",
    "        emission_counts[data[index][0], data[index][1]] += 1\n",
    "    transition_prob = transition_counts / np.sum(transition_counts, axis=0)\n",
    "    emission_prob = (emission_counts.T / np.sum(emission_counts.T,\n",
    "                                                axis=0)).T\n",
    "    return transition_prob, emission_prob\n"
   ]
  },
  {
   "cell_type": "code",
   "execution_count": 4,
   "metadata": {},
   "outputs": [],
   "source": [
    "weather_data = np.random.randint(low=0, high=3, size=1000)"
   ]
  },
  {
   "cell_type": "code",
   "execution_count": 5,
   "metadata": {},
   "outputs": [],
   "source": [
    "rain_data = np.random.randint(low=0, high=2, size=1000)"
   ]
  },
  {
   "cell_type": "code",
   "execution_count": 6,
   "metadata": {},
   "outputs": [],
   "source": [
    "data = list(zip(weather_data, rain_data))"
   ]
  },
  {
   "cell_type": "code",
   "execution_count": 7,
   "metadata": {},
   "outputs": [],
   "source": [
    "transition_prob, emission_prob = weather_fit(data)"
   ]
  },
  {
   "cell_type": "code",
   "execution_count": 8,
   "metadata": {},
   "outputs": [
    {
     "data": {
      "text/plain": [
       "array([[0.34897361, 0.30793651, 0.36151603],\n",
       "       [0.32844575, 0.32698413, 0.29446064],\n",
       "       [0.32258065, 0.36507937, 0.34402332]])"
      ]
     },
     "execution_count": 8,
     "metadata": {},
     "output_type": "execute_result"
    }
   ],
   "source": [
    "transition_prob"
   ]
  },
  {
   "cell_type": "code",
   "execution_count": 9,
   "metadata": {},
   "outputs": [
    {
     "data": {
      "text/plain": [
       "array([[0.51906158, 0.48093842],\n",
       "       [0.47468354, 0.52531646],\n",
       "       [0.48979592, 0.51020408]])"
      ]
     },
     "execution_count": 9,
     "metadata": {},
     "output_type": "execute_result"
    }
   ],
   "source": [
    "emission_prob"
   ]
  },
  {
   "cell_type": "code",
   "execution_count": null,
   "metadata": {},
   "outputs": [],
   "source": []
  }
 ],
 "metadata": {
  "kernelspec": {
   "display_name": "Python 3",
   "language": "python",
   "name": "python3"
  },
  "language_info": {
   "codemirror_mode": {
    "name": "ipython",
    "version": 3
   },
   "file_extension": ".py",
   "mimetype": "text/x-python",
   "name": "python",
   "nbconvert_exporter": "python",
   "pygments_lexer": "ipython3",
   "version": "3.7.4"
  }
 },
 "nbformat": 4,
 "nbformat_minor": 2
}
