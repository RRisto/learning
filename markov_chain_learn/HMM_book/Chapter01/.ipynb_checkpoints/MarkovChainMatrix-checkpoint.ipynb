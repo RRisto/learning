{
 "cells": [
  {
   "cell_type": "code",
   "execution_count": 1,
   "metadata": {},
   "outputs": [],
   "source": [
    "from math import gcd\n",
    "from itertools import combinations\n",
    "from functools import reduce\n",
    "\n",
    "import numpy as np\n",
    "\n",
    "\n",
    "class MarkovChain(object):\n",
    "    def __init__(self, transition_matrix, states):\n",
    "        \"\"\"\n",
    "        Initialize the MarkovChain instance.\n",
    "\n",
    "        Parameters\n",
    "        ----------\n",
    "        transition_matrix: 2-D array\n",
    "            A 2-D array representing the probabilities of change of\n",
    "            state in the Markov Chain.\n",
    "\n",
    "        states: 1-D array\n",
    "            An array representing the states of the Markov Chain. It\n",
    "            needs to be in the same order as transition_matrix.\n",
    "        \"\"\"\n",
    "        self.transition_matrix = np.atleast_2d(transition_matrix)\n",
    "        self.states = states\n",
    "        self.index_dict = {self.states[index]: index for index in\n",
    "                           range(len(self.states))}\n",
    "        self.state_dict = {index: self.states[index] for index in\n",
    "                           range(len(self.states))}\n",
    "\n",
    "\n",
    "    def next_state(self, current_state):\n",
    "        \"\"\"\n",
    "        Returns the state of the random variable at the next time\n",
    "        instance.\n",
    "\n",
    "        Parameters\n",
    "        ----------\n",
    "        current_state: str\n",
    "            The current state of the system.\n",
    "        \"\"\"\n",
    "        return np.random.choice(\n",
    "            self.states,\n",
    "            p=self.transition_matrix[self.index_dict[current_state], :])\n",
    "\n",
    "\n",
    "    def generate_states(self, current_state, no=10):\n",
    "        \"\"\"\n",
    "        Generates the next states of the system.\n",
    "\n",
    "        Parameters\n",
    "        ----------\n",
    "        current_state: str\n",
    "            The state of the current random variable.\n",
    "\n",
    "        no: int\n",
    "            The number of future states to generate.\n",
    "        \"\"\"\n",
    "        future_states = []\n",
    "        for i in range(no):\n",
    "            next_state = self.next_state(current_state)\n",
    "            future_states.append(next_state)\n",
    "            current_state = next_state\n",
    "        return future_states\n",
    "\n",
    "\n",
    "    def is_accessible(self, i_state, f_state, check_up_to_depth=1000):\n",
    "        \"\"\"\n",
    "        Check if state f_state is accessible from i_state.\n",
    "\n",
    "        Parameters\n",
    "        ----------\n",
    "        i_state: str\n",
    "            The state from which the accessibility needs to be checked.\n",
    "\n",
    "        f_state: str\n",
    "            The state to which accessibility needs to be checked.\n",
    "        \"\"\"\n",
    "        counter = 0\n",
    "        reachable_states = [self.index_dict[i_state]]\n",
    "        for state in reachable_states:\n",
    "            if counter == check_up_to_depth:\n",
    "                break\n",
    "            if state == self.index_dict[f_state]:\n",
    "                return True\n",
    "            else:\n",
    "                reachable_states.extend(np.nonzero(self.transition_matrix[state, :])[0])\n",
    "            counter = counter + 1\n",
    "        return False\n",
    "\n",
    "\n",
    "    def is_irreducible(self):\n",
    "        \"\"\"\n",
    "        Check if the Markov Chain is irreducible.\n",
    "        \"\"\"\n",
    "        for (i, j) in combinations(self.states, 2):\n",
    "            if not self.is_accessible(i, j):\n",
    "                return False\n",
    "        return True\n",
    "\n",
    "\n",
    "    def get_period(self, state, max_number_stps = 50, max_number_trls = 100):\n",
    "        \"\"\"\n",
    "        Returns the period of the state in the Markov Chain.\n",
    "\n",
    "        Parameters\n",
    "        ----------\n",
    "        state: str\n",
    "            The state for which the period needs to be computed.\n",
    "        \"\"\"\n",
    "        initial_state = state\n",
    "        max_number_steps = max_number_stps\n",
    "        max_number_trials = max_number_trls\n",
    "        periodic_lengths = []\n",
    "        a= []\n",
    "\n",
    "        for i in range(1, max_number_steps+1):\n",
    "            for j in range(max_number_trials):\n",
    "                last_states_chain = self.generate_states(current_state=initial_state, no=i)[-1]\n",
    "                if last_states_chain == initial_state:\n",
    "                    periodic_lengths.append(i)\n",
    "                    break\n",
    "\n",
    "        if len(periodic_lengths) >0:\n",
    "            a = reduce(gcd, periodic_lengths)\n",
    "            return a\n",
    "\n",
    "\n",
    "    def is_aperiodic(self):\n",
    "        \"\"\"\n",
    "        Checks if the Markov Chain is aperiodic.\n",
    "        \"\"\"\n",
    "        periods = [self.get_period(state) for state in self.states]\n",
    "        for period in periods:\n",
    "            if period != 1:\n",
    "                return False\n",
    "        return True\n",
    "\n",
    "\n",
    "    def is_transient(self, state):\n",
    "        \"\"\"\n",
    "        Checks if a state is transient or not.\n",
    "\n",
    "        Parameters\n",
    "        ----------\n",
    "        state: str\n",
    "            The state for which the transient property needs to be checked.\n",
    "        \"\"\"\n",
    "        if np.all(self.transition_matrix[~self.index_dict[state], self.index_dict[state]] == 0):\n",
    "            return True\n",
    "        else:\n",
    "            return False\n",
    "\n",
    "    def is_absorbing(self, state):\n",
    "        \"\"\"\n",
    "        Checks if the given state is absorbing.\n",
    "\n",
    "        Parameters\n",
    "        ----------\n",
    "        state: str\n",
    "        The state for which we need to check whether it's absorbing\n",
    "        or not.\n",
    "        \"\"\"\n",
    "        state_index = self.index_dict[state]\n",
    "        if self.transition_matrix[state_index, state_index] == 1:\n",
    "            return True\n",
    "        else:\n",
    "            return False\n"
   ]
  },
  {
   "cell_type": "code",
   "execution_count": 2,
   "metadata": {},
   "outputs": [
    {
     "data": {
      "text/plain": [
       "'Sunny'"
      ]
     },
     "execution_count": 2,
     "metadata": {},
     "output_type": "execute_result"
    }
   ],
   "source": [
    "transition_matrix = [[0.8, 0.19, 0.01],\n",
    "[0.2, 0.7, 0.1],\n",
    "[0.1, 0.2, 0.7]]\n",
    "weather_chain = MarkovChain(transition_matrix=transition_matrix, states=['Sunny', 'Rainy', 'Snowy'])\n",
    "weather_chain.next_state(current_state='Sunny')"
   ]
  },
  {
   "cell_type": "code",
   "execution_count": 3,
   "metadata": {},
   "outputs": [
    {
     "data": {
      "text/plain": [
       "'Rainy'"
      ]
     },
     "execution_count": 3,
     "metadata": {},
     "output_type": "execute_result"
    }
   ],
   "source": [
    "weather_chain.next_state(current_state='Snowy')"
   ]
  },
  {
   "cell_type": "code",
   "execution_count": 4,
   "metadata": {},
   "outputs": [
    {
     "data": {
      "text/plain": [
       "['Sunny',\n",
       " 'Sunny',\n",
       " 'Sunny',\n",
       " 'Sunny',\n",
       " 'Sunny',\n",
       " 'Sunny',\n",
       " 'Sunny',\n",
       " 'Sunny',\n",
       " 'Sunny',\n",
       " 'Sunny']"
      ]
     },
     "execution_count": 4,
     "metadata": {},
     "output_type": "execute_result"
    }
   ],
   "source": [
    "weather_chain.generate_states(current_state='Snowy', no=10)"
   ]
  },
  {
   "cell_type": "code",
   "execution_count": 5,
   "metadata": {},
   "outputs": [
    {
     "data": {
      "text/plain": [
       "True"
      ]
     },
     "execution_count": 5,
     "metadata": {},
     "output_type": "execute_result"
    }
   ],
   "source": [
    "transition_irreducible = [[0.5, 0.5, 0, 0],\n",
    "[0.25, 0, 0.5, 0.25],\n",
    "[0.25, 0.5, 0, 0.25],\n",
    "[0, 0, 0.5, 0.5]]\n",
    "transition_reducible = [[0.5, 0.5, 0, 0],\n",
    "[0, 1, 0, 0],\n",
    "[0.25, 0.5, 0, 0],\n",
    "[0, 0, 0.25, 0.75]]\n",
    "markov_irreducible = MarkovChain(transition_matrix=transition_irreducible,states=['A', 'B', 'C', 'D'])\n",
    "markov_reducible = MarkovChain(transition_matrix=transition_reducible,states=['A', 'B', 'C', 'D'])\n",
    "markov_irreducible.is_accessible(i_state='A', f_state='D')"
   ]
  },
  {
   "cell_type": "code",
   "execution_count": 6,
   "metadata": {},
   "outputs": [
    {
     "data": {
      "text/plain": [
       "True"
      ]
     },
     "execution_count": 6,
     "metadata": {},
     "output_type": "execute_result"
    }
   ],
   "source": [
    "markov_irreducible.is_accessible(i_state='B', f_state='D')"
   ]
  },
  {
   "cell_type": "code",
   "execution_count": 7,
   "metadata": {},
   "outputs": [
    {
     "data": {
      "text/plain": [
       "True"
      ]
     },
     "execution_count": 7,
     "metadata": {},
     "output_type": "execute_result"
    }
   ],
   "source": [
    "markov_irreducible.is_irreducible()"
   ]
  },
  {
   "cell_type": "code",
   "execution_count": 8,
   "metadata": {},
   "outputs": [
    {
     "data": {
      "text/plain": [
       "False"
      ]
     },
     "execution_count": 8,
     "metadata": {},
     "output_type": "execute_result"
    }
   ],
   "source": [
    "markov_reducible.is_accessible(i_state='A', f_state='D')"
   ]
  },
  {
   "cell_type": "code",
   "execution_count": 9,
   "metadata": {},
   "outputs": [
    {
     "data": {
      "text/plain": [
       "True"
      ]
     },
     "execution_count": 9,
     "metadata": {},
     "output_type": "execute_result"
    }
   ],
   "source": [
    "markov_reducible.is_accessible(i_state='D', f_state='A')"
   ]
  },
  {
   "cell_type": "code",
   "execution_count": 10,
   "metadata": {},
   "outputs": [
    {
     "data": {
      "text/plain": [
       "False"
      ]
     },
     "execution_count": 10,
     "metadata": {},
     "output_type": "execute_result"
    }
   ],
   "source": [
    "markov_reducible.is_accessible(i_state='C', f_state='D')"
   ]
  },
  {
   "cell_type": "code",
   "execution_count": 11,
   "metadata": {},
   "outputs": [
    {
     "data": {
      "text/plain": [
       "False"
      ]
     },
     "execution_count": 11,
     "metadata": {},
     "output_type": "execute_result"
    }
   ],
   "source": [
    "markov_reducible.is_irreducible()"
   ]
  },
  {
   "cell_type": "markdown",
   "metadata": {},
   "source": [
    "## Periodicity"
   ]
  },
  {
   "cell_type": "code",
   "execution_count": 12,
   "metadata": {},
   "outputs": [
    {
     "data": {
      "text/plain": [
       "3"
      ]
     },
     "execution_count": 12,
     "metadata": {},
     "output_type": "execute_result"
    }
   ],
   "source": [
    "transition_periodic = [[0, 1, 0, 0, 0],\n",
    "[0, 0, 1, 0, 0],\n",
    "[0.5, 0, 0, 0.5, 0],\n",
    "[0, 0, 0, 0, 1],\n",
    "[0, 0, 1, 0, 0]]\n",
    "transition_aperiodic = [[0, 1, 0, 0, 0],\n",
    "[0, 0, 1, 0, 0],\n",
    "[0.5, 0.25, 0, 0.25, 0],\n",
    "[0, 0, 0, 0, 1],\n",
    "[0, 0, 0.5, 0.5, 0]]\n",
    "markov_periodic = MarkovChain(transition_matrix=transition_periodic, states=['A', 'B', 'C', 'D', 'E'])\n",
    "markov_aperiodic = MarkovChain(transition_matrix=transition_aperiodic, states=['A', 'B', 'C', 'D', 'E'])\n",
    "markov_periodic.get_period('A')"
   ]
  },
  {
   "cell_type": "code",
   "execution_count": 13,
   "metadata": {},
   "outputs": [
    {
     "data": {
      "text/plain": [
       "3"
      ]
     },
     "execution_count": 13,
     "metadata": {},
     "output_type": "execute_result"
    }
   ],
   "source": [
    "markov_periodic.get_period('C')"
   ]
  },
  {
   "cell_type": "code",
   "execution_count": 15,
   "metadata": {},
   "outputs": [
    {
     "data": {
      "text/plain": [
       "True"
      ]
     },
     "execution_count": 15,
     "metadata": {},
     "output_type": "execute_result"
    }
   ],
   "source": [
    "markov_aperiodic.is_aperiodic()"
   ]
  },
  {
   "cell_type": "code",
   "execution_count": 16,
   "metadata": {},
   "outputs": [
    {
     "data": {
      "text/plain": [
       "1"
      ]
     },
     "execution_count": 16,
     "metadata": {},
     "output_type": "execute_result"
    }
   ],
   "source": [
    "markov_aperiodic.get_period('A')"
   ]
  },
  {
   "cell_type": "code",
   "execution_count": 17,
   "metadata": {},
   "outputs": [
    {
     "data": {
      "text/plain": [
       "1"
      ]
     },
     "execution_count": 17,
     "metadata": {},
     "output_type": "execute_result"
    }
   ],
   "source": [
    "markov_aperiodic.get_period('B')"
   ]
  },
  {
   "cell_type": "code",
   "execution_count": 19,
   "metadata": {},
   "outputs": [
    {
     "data": {
      "text/plain": [
       "True"
      ]
     },
     "execution_count": 19,
     "metadata": {},
     "output_type": "execute_result"
    }
   ],
   "source": [
    "markov_aperiodic.is_aperiodic()"
   ]
  },
  {
   "cell_type": "markdown",
   "metadata": {},
   "source": [
    "## Transient"
   ]
  },
  {
   "cell_type": "code",
   "execution_count": 20,
   "metadata": {},
   "outputs": [
    {
     "data": {
      "text/plain": [
       "True"
      ]
     },
     "execution_count": 20,
     "metadata": {},
     "output_type": "execute_result"
    }
   ],
   "source": [
    "transient_matrix = [[0, 0.5, 0.5, 0],\n",
    "[0, 0, 0.25, 0.75],\n",
    "[0, 0, 0, 1],\n",
    "[0, 0, 0.5, 0.5]]\n",
    "transient_markov = MarkovChain(transition_matrix=transient_matrix,states=['A', 'B', 'C', 'D'])\n",
    "transient_markov.is_transient('A')\n"
   ]
  },
  {
   "cell_type": "code",
   "execution_count": 21,
   "metadata": {},
   "outputs": [
    {
     "data": {
      "text/plain": [
       "True"
      ]
     },
     "execution_count": 21,
     "metadata": {},
     "output_type": "execute_result"
    }
   ],
   "source": [
    "transient_markov.is_transient('B')"
   ]
  },
  {
   "cell_type": "code",
   "execution_count": 22,
   "metadata": {},
   "outputs": [
    {
     "data": {
      "text/plain": [
       "False"
      ]
     },
     "execution_count": 22,
     "metadata": {},
     "output_type": "execute_result"
    }
   ],
   "source": [
    "transient_markov.is_transient('C')"
   ]
  },
  {
   "cell_type": "markdown",
   "metadata": {},
   "source": [
    "## Absorbing"
   ]
  },
  {
   "cell_type": "code",
   "execution_count": 23,
   "metadata": {},
   "outputs": [
    {
     "data": {
      "text/plain": [
       "False"
      ]
     },
     "execution_count": 23,
     "metadata": {},
     "output_type": "execute_result"
    }
   ],
   "source": [
    "absorbing_matrix = [[0, 1, 0],\n",
    "[0.5, 0, 0.5],\n",
    "[0, 0, 1]]\n",
    "absorbing_chain = MarkovChain(transition_matrix=absorbing_matrix,states=['A', 'B', 'C'])\n",
    "absorbing_chain.is_absorbing('A')"
   ]
  },
  {
   "cell_type": "code",
   "execution_count": 24,
   "metadata": {},
   "outputs": [
    {
     "data": {
      "text/plain": [
       "True"
      ]
     },
     "execution_count": 24,
     "metadata": {},
     "output_type": "execute_result"
    }
   ],
   "source": [
    "absorbing_chain.is_absorbing('C')"
   ]
  },
  {
   "cell_type": "code",
   "execution_count": null,
   "metadata": {},
   "outputs": [],
   "source": []
  }
 ],
 "metadata": {
  "kernelspec": {
   "display_name": "Python 3",
   "language": "python",
   "name": "python3"
  },
  "language_info": {
   "codemirror_mode": {
    "name": "ipython",
    "version": 3
   },
   "file_extension": ".py",
   "mimetype": "text/x-python",
   "name": "python",
   "nbconvert_exporter": "python",
   "pygments_lexer": "ipython3",
   "version": "3.7.4"
  }
 },
 "nbformat": 4,
 "nbformat_minor": 2
}
