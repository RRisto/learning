{
 "cells": [
  {
   "cell_type": "code",
   "execution_count": 189,
   "id": "35d9fe5e",
   "metadata": {},
   "outputs": [],
   "source": [
    "import pandas as pd\n",
    "import numpy as np\n",
    "import scipy.stats\n",
    "import matplotlib.pyplot as plt\n",
    "import seaborn as sns"
   ]
  },
  {
   "cell_type": "markdown",
   "id": "330e795f",
   "metadata": {},
   "source": [
    "## Based on this: https://people.csail.mit.edu/rameshvs/content/gmm-em.pdf"
   ]
  },
  {
   "cell_type": "markdown",
   "id": "3639bfd8",
   "metadata": {},
   "source": [
    "## Generate data"
   ]
  },
  {
   "cell_type": "code",
   "execution_count": 171,
   "id": "e4202184",
   "metadata": {},
   "outputs": [],
   "source": [
    "group1_mean=12\n",
    "group1_std=1\n",
    "group2_mean=7\n",
    "group2_std=1\n",
    "\n",
    "group1_data=np.random.normal(group1_mean, group1_std, 2000)\n",
    "group2_data=np.random.normal(group2_mean, group2_std, 2000)"
   ]
  },
  {
   "cell_type": "code",
   "execution_count": 172,
   "id": "08c22049",
   "metadata": {},
   "outputs": [
    {
     "data": {
      "text/plain": [
       "(4000,)"
      ]
     },
     "execution_count": 172,
     "metadata": {},
     "output_type": "execute_result"
    }
   ],
   "source": [
    "data=np.stack([group1_data, group2_data], axis=0).flatten()\n",
    "data.shape"
   ]
  },
  {
   "cell_type": "code",
   "execution_count": 173,
   "id": "fc25bbdc",
   "metadata": {},
   "outputs": [
    {
     "data": {
      "text/plain": [
       "array([[<AxesSubplot:title={'center':'data'}>]], dtype=object)"
      ]
     },
     "execution_count": 173,
     "metadata": {},
     "output_type": "execute_result"
    },
    {
     "data": {
      "image/png": "[encoded data removed]",
      "text/plain": [
       "<Figure size 432x288 with 1 Axes>"
      ]
     },
     "metadata": {
      "needs_background": "light"
     },
     "output_type": "display_data"
    }
   ],
   "source": [
    "df_data=pd.DataFrame({'data':data})\n",
    "df_data.hist(bins=50)"
   ]
  },
  {
   "cell_type": "markdown",
   "id": "23e79d4f",
   "metadata": {},
   "source": [
    "## Initialize em"
   ]
  },
  {
   "cell_type": "code",
   "execution_count": 174,
   "id": "b2161c58",
   "metadata": {},
   "outputs": [],
   "source": [
    "def m_step(mean1, mean2, std1, std2, data):\n",
    "    \"\"\"probability that datapoint is in first or second distribution\"\"\"\n",
    "    p1=scipy.stats.norm(mean1, std1).pdf(data)\n",
    "    p2=scipy.stats.norm(mean2, std2).pdf(data)\n",
    "    return p1, p2"
   ]
  },
  {
   "cell_type": "code",
   "execution_count": 175,
   "id": "9cb2173e",
   "metadata": {},
   "outputs": [],
   "source": [
    "def e_step(p1, p2, pi1, pi2, data):\n",
    "    \"\"\"calculate new mean and cluster assingment probabilities\"\"\"\n",
    "    p_c1=(pi1*p1)/(pi1*p1+pi2*p2)\n",
    "    p_c2=(pi2*p2)/(pi1*p1+pi2*p2)\n",
    "    mean_new1=(p_c1*data).sum()/p_c1.sum()\n",
    "    mean_new2=(p_c2*data).sum()/p_c2.sum()\n",
    "    return mean_new1, mean_new2, p_c1, p_c2"
   ]
  },
  {
   "cell_type": "code",
   "execution_count": 176,
   "id": "9b5e0ef8",
   "metadata": {},
   "outputs": [],
   "source": [
    "#initial guesses\n",
    "std1=1\n",
    "mean1=2\n",
    "std2=1\n",
    "mean2=10\n",
    "#which point has which probability to belong to cluster 1 or 2\n",
    "pi1=np.random.random(size=df_data.shape[0])\n",
    "pi2=1-pi1\n",
    "\n",
    "means1=[]\n",
    "means2=[]\n",
    "stop_threshold=0.001\n",
    "run=True\n",
    "\n",
    "while run:\n",
    "    p1, p2 = m_step(mean1, mean2, std1, std2, df_data.data)\n",
    "    mean1, mean2, pi1, pi2 = e_step(p1, p2, pi1, pi2, df_data.data)\n",
    "    means1.append(mean1)\n",
    "    means2.append(mean2)\n",
    "    if len(means1)>1 and (abs(mean1-means1[-2])<stop_threshold or abs(mean2-means2[-2])<stop_threshold):\n",
    "                              run=False   "
   ]
  },
  {
   "cell_type": "code",
   "execution_count": 178,
   "id": "bb93b247",
   "metadata": {},
   "outputs": [
    {
     "data": {
      "text/plain": [
       "11.94041319168995"
      ]
     },
     "execution_count": 178,
     "metadata": {},
     "output_type": "execute_result"
    }
   ],
   "source": [
    "mean2"
   ]
  },
  {
   "cell_type": "code",
   "execution_count": 179,
   "id": "92461cbd",
   "metadata": {},
   "outputs": [
    {
     "data": {
      "text/plain": [
       "[<matplotlib.lines.Line2D at 0x1d0e3cab100>]"
      ]
     },
     "execution_count": 179,
     "metadata": {},
     "output_type": "execute_result"
    },
    {
     "data": {
      "image/png": "[encoded data removed]",
      "text/plain": [
       "<Figure size 432x288 with 1 Axes>"
      ]
     },
     "metadata": {
      "needs_background": "light"
     },
     "output_type": "display_data"
    }
   ],
   "source": [
    "plt.plot(means1)"
   ]
  },
  {
   "cell_type": "code",
   "execution_count": 180,
   "id": "33c07185",
   "metadata": {},
   "outputs": [
    {
     "data": {
      "text/plain": [
       "[<matplotlib.lines.Line2D at 0x1d0e3d09340>]"
      ]
     },
     "execution_count": 180,
     "metadata": {},
     "output_type": "execute_result"
    },
    {
     "data": {
      "image/png": "[encoded data removed]",
      "text/plain": [
       "<Figure size 432x288 with 1 Axes>"
      ]
     },
     "metadata": {
      "needs_background": "light"
     },
     "output_type": "display_data"
    }
   ],
   "source": [
    "plt.plot(means2)"
   ]
  },
  {
   "cell_type": "code",
   "execution_count": 192,
   "id": "92177118",
   "metadata": {},
   "outputs": [
    {
     "data": {
      "text/plain": [
       "<AxesSubplot:xlabel='data', ylabel='Count'>"
      ]
     },
     "execution_count": 192,
     "metadata": {},
     "output_type": "execute_result"
    },
    {
     "data": {
      "image/png": "[encoded data removed]",
      "text/plain": [
       "<Figure size 432x288 with 1 Axes>"
      ]
     },
     "metadata": {
      "needs_background": "light"
     },
     "output_type": "display_data"
    }
   ],
   "source": [
    "df_data['cluster_found']=pi1.astype(int)\n",
    "sns.histplot(data=df_data, x=\"data\", hue=\"cluster_found\", element=\"step\")"
   ]
  },
  {
   "cell_type": "code",
   "execution_count": null,
   "id": "86b7a956",
   "metadata": {},
   "outputs": [],
   "source": []
  }
 ],
 "metadata": {
  "kernelspec": {
   "display_name": "Python 3 (ipykernel)",
   "language": "python",
   "name": "python3"
  },
  "language_info": {
   "codemirror_mode": {
    "name": "ipython",
    "version": 3
   },
   "file_extension": ".py",
   "mimetype": "text/x-python",
   "name": "python",
   "nbconvert_exporter": "python",
   "pygments_lexer": "ipython3",
   "version": "3.9.12"
  }
 },
 "nbformat": 4,
 "nbformat_minor": 5
}
