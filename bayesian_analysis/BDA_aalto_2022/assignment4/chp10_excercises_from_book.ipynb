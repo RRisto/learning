{
 "cells": [
  {
   "cell_type": "code",
   "execution_count": 3,
   "id": "1b68ce27",
   "metadata": {},
   "outputs": [],
   "source": [
    "import numpy as np\n",
    "import pandas as pd"
   ]
  },
  {
   "cell_type": "markdown",
   "id": "308849a7",
   "metadata": {},
   "source": [
    "## Excercise 1"
   ]
  },
  {
   "cell_type": "markdown",
   "id": "0d4e2e75",
   "metadata": {},
   "source": [
    "Number of simulation draws: Suppose the scalar variable θ is approximately normally distributed in a posterior distribution that is summarized by n independent simulation draws. How large does n have to be so that the 2.5% and 97.5% quantiles of θ are specified to an accuracy of 0.1sd(θ|y)? (a) Figure this out mathematically, without using simulation. (b) Check your answer using simulation and show your results."
   ]
  },
  {
   "cell_type": "markdown",
   "id": "c23158e2",
   "metadata": {},
   "source": [
    "(a) We solve below equation the precise we want $(sd)=\\frac{\\hat{\\sigma_{\\theta}}}{\\sqrt{S}}$\n",
    "Now, $0.1\\sigma_{\\theta}=\\frac{\\hat{\\sigma_{\\theta}}}{\\sqrt{S}}\\iff S=100$ \n",
    "When I assume $\\theta \\sim N(0,1)$"
   ]
  },
  {
   "cell_type": "code",
   "execution_count": 5,
   "id": "27744fc8",
   "metadata": {},
   "outputs": [
    {
     "data": {
      "text/html": [
       "<div>\n",
       "<style scoped>\n",
       "    .dataframe tbody tr th:only-of-type {\n",
       "        vertical-align: middle;\n",
       "    }\n",
       "\n",
       "    .dataframe tbody tr th {\n",
       "        vertical-align: top;\n",
       "    }\n",
       "\n",
       "    .dataframe thead th {\n",
       "        text-align: right;\n",
       "    }\n",
       "</style>\n",
       "<table border=\"1\" class=\"dataframe\">\n",
       "  <thead>\n",
       "    <tr style=\"text-align: right;\">\n",
       "      <th></th>\n",
       "      <th>mean</th>\n",
       "      <th>sd</th>\n",
       "      <th>2.5%</th>\n",
       "      <th>25%</th>\n",
       "      <th>50%</th>\n",
       "      <th>75%</th>\n",
       "      <th>97.5%</th>\n",
       "    </tr>\n",
       "  </thead>\n",
       "  <tbody>\n",
       "    <tr>\n",
       "      <th>info</th>\n",
       "      <td>-1.94199</td>\n",
       "      <td>0.108573</td>\n",
       "      <td>-2.161852</td>\n",
       "      <td>-2.010173</td>\n",
       "      <td>-1.93904</td>\n",
       "      <td>-1.869381</td>\n",
       "      <td>-1.731379</td>\n",
       "    </tr>\n",
       "  </tbody>\n",
       "</table>\n",
       "</div>"
      ],
      "text/plain": [
       "         mean        sd      2.5%       25%      50%       75%     97.5%\n",
       "info -1.94199  0.108573 -2.161852 -2.010173 -1.93904 -1.869381 -1.731379"
      ]
     },
     "execution_count": 5,
     "metadata": {},
     "output_type": "execute_result"
    }
   ],
   "source": [
    "def summ(x):\n",
    "    percentile=np.percentile(x,[2.5,25,50,75,97.5]).tolist()\n",
    "    summ=[np.mean(x),np.std(x)]\n",
    "    summ.extend(percentile)\n",
    "    summ=pd.DataFrame(summ,index=[\"mean\",\"sd\",\"2.5%\",\"25%\",\"50%\",\"75%\",\"97.5%\"],columns=[\"info\"]).T\n",
    "    return summ\n",
    "\n",
    "theta=[]\n",
    "for i in range(1000):\n",
    "    theta.append(np.percentile(np.random.normal(size=600), 2.5))\n",
    "    \n",
    "summ(theta)"
   ]
  },
  {
   "cell_type": "markdown",
   "id": "148b8843",
   "metadata": {},
   "source": [
    "## Excercise 2"
   ]
  },
  {
   "cell_type": "markdown",
   "id": "0ac5f610",
   "metadata": {},
   "source": [
    "Number of simulation draws: suppose you are interested in inference for the parameter θ1 in a multivariate posterior distribution, p(θ|y). You draw 100 independent values θ from the posterior distribution of θ and find that the posterior density for θ1 is approximately normal with mean of about 8 and standard deviation of about 4. \n",
    "\n",
    "(a) Using the average of the 100 draws of θ1 to estimate the posterior mean, E(θ1|y), what is the approximate standard deviation due to simulation variability?"
   ]
  },
  {
   "cell_type": "code",
   "execution_count": 13,
   "id": "8989d7ec",
   "metadata": {},
   "outputs": [
    {
     "data": {
      "text/html": [
       "<div>\n",
       "<style scoped>\n",
       "    .dataframe tbody tr th:only-of-type {\n",
       "        vertical-align: middle;\n",
       "    }\n",
       "\n",
       "    .dataframe tbody tr th {\n",
       "        vertical-align: top;\n",
       "    }\n",
       "\n",
       "    .dataframe thead th {\n",
       "        text-align: right;\n",
       "    }\n",
       "</style>\n",
       "<table border=\"1\" class=\"dataframe\">\n",
       "  <thead>\n",
       "    <tr style=\"text-align: right;\">\n",
       "      <th></th>\n",
       "      <th>mean</th>\n",
       "      <th>sd</th>\n",
       "      <th>2.5%</th>\n",
       "      <th>25%</th>\n",
       "      <th>50%</th>\n",
       "      <th>75%</th>\n",
       "      <th>97.5%</th>\n",
       "    </tr>\n",
       "  </thead>\n",
       "  <tbody>\n",
       "    <tr>\n",
       "      <th>info</th>\n",
       "      <td>8.004155</td>\n",
       "      <td>0.396215</td>\n",
       "      <td>7.256072</td>\n",
       "      <td>7.733814</td>\n",
       "      <td>8.007724</td>\n",
       "      <td>8.250845</td>\n",
       "      <td>8.783139</td>\n",
       "    </tr>\n",
       "  </tbody>\n",
       "</table>\n",
       "</div>"
      ],
      "text/plain": [
       "          mean        sd      2.5%       25%       50%       75%     97.5%\n",
       "info  8.004155  0.396215  7.256072  7.733814  8.007724  8.250845  8.783139"
      ]
     },
     "execution_count": 13,
     "metadata": {},
     "output_type": "execute_result"
    }
   ],
   "source": [
    "E_theta=[]\n",
    "for i in range(1000):\n",
    "    E_theta.append(np.mean(np.random.normal(8,4, size=100)))\n",
    "    \n",
    "summ(E_theta)"
   ]
  },
  {
   "cell_type": "code",
   "execution_count": null,
   "id": "623c4787",
   "metadata": {},
   "outputs": [],
   "source": []
  }
 ],
 "metadata": {
  "kernelspec": {
   "display_name": "Python 3 (ipykernel)",
   "language": "python",
   "name": "python3"
  },
  "language_info": {
   "codemirror_mode": {
    "name": "ipython",
    "version": 3
   },
   "file_extension": ".py",
   "mimetype": "text/x-python",
   "name": "python",
   "nbconvert_exporter": "python",
   "pygments_lexer": "ipython3",
   "version": "3.9.12"
  }
 },
 "nbformat": 4,
 "nbformat_minor": 5
}
