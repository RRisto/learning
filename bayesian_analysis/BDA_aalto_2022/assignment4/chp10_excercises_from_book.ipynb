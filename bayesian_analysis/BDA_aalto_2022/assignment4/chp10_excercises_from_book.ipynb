{
 "cells": [
  {
   "cell_type": "code",
   "execution_count": 53,
   "id": "1b68ce27",
   "metadata": {},
   "outputs": [],
   "source": [
    "import numpy as np\n",
    "import pandas as pd\n",
    "from scipy import stats\n",
    "import matplotlib.pyplot as plt"
   ]
  },
  {
   "cell_type": "markdown",
   "id": "308849a7",
   "metadata": {},
   "source": [
    "## Excercise 1"
   ]
  },
  {
   "cell_type": "markdown",
   "id": "0d4e2e75",
   "metadata": {},
   "source": [
    "Number of simulation draws: Suppose the scalar variable θ is approximately normally distributed in a posterior distribution that is summarized by n independent simulation draws. How large does n have to be so that the 2.5% and 97.5% quantiles of θ are specified to an accuracy of 0.1sd(θ|y)? (a) Figure this out mathematically, without using simulation. (b) Check your answer using simulation and show your results."
   ]
  },
  {
   "cell_type": "markdown",
   "id": "c23158e2",
   "metadata": {},
   "source": [
    "(a) We solve below equation the precise we want $(sd)=\\frac{\\hat{\\sigma_{\\theta}}}{\\sqrt{S}}$\n",
    "Now, $0.1\\sigma_{\\theta}=\\frac{\\hat{\\sigma_{\\theta}}}{\\sqrt{S}}\\iff S=100$ \n",
    "When I assume $\\theta \\sim N(0,1)$"
   ]
  },
  {
   "cell_type": "code",
   "execution_count": 2,
   "id": "27744fc8",
   "metadata": {},
   "outputs": [
    {
     "data": {
      "text/html": [
       "<div>\n",
       "<style scoped>\n",
       "    .dataframe tbody tr th:only-of-type {\n",
       "        vertical-align: middle;\n",
       "    }\n",
       "\n",
       "    .dataframe tbody tr th {\n",
       "        vertical-align: top;\n",
       "    }\n",
       "\n",
       "    .dataframe thead th {\n",
       "        text-align: right;\n",
       "    }\n",
       "</style>\n",
       "<table border=\"1\" class=\"dataframe\">\n",
       "  <thead>\n",
       "    <tr style=\"text-align: right;\">\n",
       "      <th></th>\n",
       "      <th>mean</th>\n",
       "      <th>sd</th>\n",
       "      <th>2.5%</th>\n",
       "      <th>25%</th>\n",
       "      <th>50%</th>\n",
       "      <th>75%</th>\n",
       "      <th>97.5%</th>\n",
       "    </tr>\n",
       "  </thead>\n",
       "  <tbody>\n",
       "    <tr>\n",
       "      <th>info</th>\n",
       "      <td>-1.948294</td>\n",
       "      <td>0.107489</td>\n",
       "      <td>-2.168682</td>\n",
       "      <td>-2.019452</td>\n",
       "      <td>-1.943739</td>\n",
       "      <td>-1.87362</td>\n",
       "      <td>-1.73658</td>\n",
       "    </tr>\n",
       "  </tbody>\n",
       "</table>\n",
       "</div>"
      ],
      "text/plain": [
       "          mean        sd      2.5%       25%       50%      75%    97.5%\n",
       "info -1.948294  0.107489 -2.168682 -2.019452 -1.943739 -1.87362 -1.73658"
      ]
     },
     "execution_count": 2,
     "metadata": {},
     "output_type": "execute_result"
    }
   ],
   "source": [
    "def summ(x):\n",
    "    percentile=np.percentile(x,[2.5, 25, 50, 75, 97.5]).tolist()\n",
    "    summ=[np.mean(x), np.std(x)]\n",
    "    summ.extend(percentile)\n",
    "    summ=pd.DataFrame(summ,index=[\"mean\",\"sd\",\"2.5%\",\"25%\",\"50%\",\"75%\",\"97.5%\"], columns=[\"info\"]).T\n",
    "    return summ\n",
    "\n",
    "theta=[]\n",
    "for i in range(1000):\n",
    "    theta.append(np.percentile(np.random.normal(size=600), 2.5))\n",
    "    \n",
    "summ(theta)"
   ]
  },
  {
   "cell_type": "markdown",
   "id": "148b8843",
   "metadata": {},
   "source": [
    "## Excercise 2"
   ]
  },
  {
   "cell_type": "markdown",
   "id": "0ac5f610",
   "metadata": {},
   "source": [
    "Number of simulation draws: suppose you are interested in inference for the parameter θ1 in a multivariate posterior distribution, p(θ|y). You draw 100 independent values θ from the posterior distribution of θ and find that the posterior density for θ1 is approximately normal with mean of about 8 and standard deviation of about 4. \n",
    "\n",
    "### (a) \n",
    "\n",
    "Using the average of the 100 draws of θ1 to estimate the posterior mean, E(θ1|y), what is the approximate standard deviation due to simulation variability?"
   ]
  },
  {
   "cell_type": "code",
   "execution_count": 27,
   "id": "8989d7ec",
   "metadata": {},
   "outputs": [
    {
     "data": {
      "text/html": [
       "<div>\n",
       "<style scoped>\n",
       "    .dataframe tbody tr th:only-of-type {\n",
       "        vertical-align: middle;\n",
       "    }\n",
       "\n",
       "    .dataframe tbody tr th {\n",
       "        vertical-align: top;\n",
       "    }\n",
       "\n",
       "    .dataframe thead th {\n",
       "        text-align: right;\n",
       "    }\n",
       "</style>\n",
       "<table border=\"1\" class=\"dataframe\">\n",
       "  <thead>\n",
       "    <tr style=\"text-align: right;\">\n",
       "      <th></th>\n",
       "      <th>mean</th>\n",
       "      <th>sd</th>\n",
       "      <th>2.5%</th>\n",
       "      <th>25%</th>\n",
       "      <th>50%</th>\n",
       "      <th>75%</th>\n",
       "      <th>97.5%</th>\n",
       "    </tr>\n",
       "  </thead>\n",
       "  <tbody>\n",
       "    <tr>\n",
       "      <th>info</th>\n",
       "      <td>8.098089</td>\n",
       "      <td>0.442936</td>\n",
       "      <td>7.24216</td>\n",
       "      <td>7.816954</td>\n",
       "      <td>8.108957</td>\n",
       "      <td>8.456231</td>\n",
       "      <td>8.883634</td>\n",
       "    </tr>\n",
       "  </tbody>\n",
       "</table>\n",
       "</div>"
      ],
      "text/plain": [
       "          mean        sd     2.5%       25%       50%       75%     97.5%\n",
       "info  8.098089  0.442936  7.24216  7.816954  8.108957  8.456231  8.883634"
      ]
     },
     "execution_count": 27,
     "metadata": {},
     "output_type": "execute_result"
    }
   ],
   "source": [
    "e_thetas=[]\n",
    "for i in range(100):\n",
    "    e_thetas.append(np.mean(np.random.normal(8, 4, size=100)))\n",
    "summ(e_thetas)"
   ]
  },
  {
   "cell_type": "markdown",
   "id": "e71d9bea",
   "metadata": {},
   "source": [
    "Sd is close to 0.4 (sigma/sqrt(S)):"
   ]
  },
  {
   "cell_type": "code",
   "execution_count": 28,
   "id": "8ba56d09",
   "metadata": {},
   "outputs": [
    {
     "data": {
      "text/plain": [
       "0.4"
      ]
     },
     "execution_count": 28,
     "metadata": {},
     "output_type": "execute_result"
    }
   ],
   "source": [
    "4/np.sqrt(100)"
   ]
  },
  {
   "cell_type": "markdown",
   "id": "928a8a91",
   "metadata": {},
   "source": [
    "### (b) \n",
    "\n",
    "About how many simulation draws would you need to reduce the simulation standard deviation of the posterior mean to 0.1 (thus justifying the presentation of results to one decimal place)?"
   ]
  },
  {
   "cell_type": "markdown",
   "id": "29150f01",
   "metadata": {},
   "source": [
    "can be derived from (sigma/sqrt(S)): S=np.sqrt(4/0.1)"
   ]
  },
  {
   "cell_type": "code",
   "execution_count": 18,
   "id": "3ad414a3",
   "metadata": {},
   "outputs": [
    {
     "data": {
      "text/plain": [
       "1600.0"
      ]
     },
     "execution_count": 18,
     "metadata": {},
     "output_type": "execute_result"
    }
   ],
   "source": [
    "(4/0.1)**2"
   ]
  },
  {
   "cell_type": "code",
   "execution_count": 30,
   "id": "c890a632",
   "metadata": {},
   "outputs": [
    {
     "data": {
      "text/html": [
       "<div>\n",
       "<style scoped>\n",
       "    .dataframe tbody tr th:only-of-type {\n",
       "        vertical-align: middle;\n",
       "    }\n",
       "\n",
       "    .dataframe tbody tr th {\n",
       "        vertical-align: top;\n",
       "    }\n",
       "\n",
       "    .dataframe thead th {\n",
       "        text-align: right;\n",
       "    }\n",
       "</style>\n",
       "<table border=\"1\" class=\"dataframe\">\n",
       "  <thead>\n",
       "    <tr style=\"text-align: right;\">\n",
       "      <th></th>\n",
       "      <th>mean</th>\n",
       "      <th>sd</th>\n",
       "      <th>2.5%</th>\n",
       "      <th>25%</th>\n",
       "      <th>50%</th>\n",
       "      <th>75%</th>\n",
       "      <th>97.5%</th>\n",
       "    </tr>\n",
       "  </thead>\n",
       "  <tbody>\n",
       "    <tr>\n",
       "      <th>info</th>\n",
       "      <td>7.999152</td>\n",
       "      <td>0.106866</td>\n",
       "      <td>7.792903</td>\n",
       "      <td>7.922045</td>\n",
       "      <td>7.993095</td>\n",
       "      <td>8.068472</td>\n",
       "      <td>8.232291</td>\n",
       "    </tr>\n",
       "  </tbody>\n",
       "</table>\n",
       "</div>"
      ],
      "text/plain": [
       "          mean        sd      2.5%       25%       50%       75%     97.5%\n",
       "info  7.999152  0.106866  7.792903  7.922045  7.993095  8.068472  8.232291"
      ]
     },
     "execution_count": 30,
     "metadata": {},
     "output_type": "execute_result"
    }
   ],
   "source": [
    "e_thetas=[]\n",
    "for i in range(100):\n",
    "    e_thetas.append(np.mean(np.random.normal(8, 4, size=1600)))\n",
    "summ(e_thetas)"
   ]
  },
  {
   "cell_type": "code",
   "execution_count": 33,
   "id": "e57d132c",
   "metadata": {},
   "outputs": [
    {
     "data": {
      "text/plain": [
       "0.10686575816661467"
      ]
     },
     "execution_count": 33,
     "metadata": {},
     "output_type": "execute_result"
    }
   ],
   "source": [
    "np.std(e_thetas)"
   ]
  },
  {
   "cell_type": "markdown",
   "id": "e52e9e64",
   "metadata": {},
   "source": [
    "### (c) \n",
    "\n",
    "A more usual summary of the posterior distribution of θ1 is a 95% central posterior interval. Based on the data from 100 draws, what are the approximate simulation standard deviations of the estimated 2.5% and 97.5% quantiles of the posterior distribution? (Recall that the posterior density is approximately normal.)"
   ]
  },
  {
   "cell_type": "code",
   "execution_count": 62,
   "id": "2a6f4faa",
   "metadata": {},
   "outputs": [
    {
     "data": {
      "text/plain": [
       "(1.8630245508297931, 1.3228366884606968)"
      ]
     },
     "execution_count": 62,
     "metadata": {},
     "output_type": "execute_result"
    }
   ],
   "source": [
    "lowers=[]\n",
    "uppers=[]\n",
    "for i in range(100):\n",
    "    thetas=np.random.normal(8, 4, size=100)\n",
    "    lowers.append(np.percentile(thetas, q=0.025))\n",
    "    uppers.append(np.percentile(thetas, q=0.975))\n",
    "\n",
    "np.std(lowers), np.std(uppers)"
   ]
  },
  {
   "cell_type": "markdown",
   "id": "d5e96dec",
   "metadata": {},
   "source": [
    "### (d) \n",
    "\n",
    "About how many simulation draws would you need to reduce the simulation standard deviations of the 2.5% and 97.5% quantiles to 0.1?"
   ]
  },
  {
   "cell_type": "code",
   "execution_count": 65,
   "id": "d578673d",
   "metadata": {},
   "outputs": [
    {
     "data": {
      "text/plain": [
       "(0.06675518015632258, 0.014749095084452565)"
      ]
     },
     "execution_count": 65,
     "metadata": {},
     "output_type": "execute_result"
    }
   ],
   "source": [
    "lowers=[]\n",
    "uppers=[]\n",
    "for i in range(100):\n",
    "    thetas=np.random.normal(8, 4, size=1000000)\n",
    "    lowers.append(np.percentile(thetas, q=0.025))\n",
    "    uppers.append(np.percentile(thetas, q=0.975))\n",
    "\n",
    "np.std(lowers), np.std(uppers)"
   ]
  },
  {
   "cell_type": "markdown",
   "id": "5c804ea5",
   "metadata": {},
   "source": [
    "## 3\n",
    "\n",
    "Posterior computations for the binomial model: suppose y1 ∼ Bin(n1,p1) is the number of successfully treated patients under an experimental new drug,andy2 ∼ Bin(n2,p2) is the number of successfully treated patients under the standardtreatment. Assume that y1 and y2 are independent and assume independent beta prior densities for the two probabilities of success. Let n1 =10,y1 =6, and n2 =20,y2 = 10. Repeat the following for several different beta prior specifications. \n",
    "\n",
    "### (a) \n",
    "\n",
    "Use simulation to find a 95% posterior interval for p1 −p2 and the posterior probability that p1 >p2"
   ]
  },
  {
   "cell_type": "code",
   "execution_count": 66,
   "id": "5175207e",
   "metadata": {},
   "outputs": [],
   "source": [
    "#assume uninformative prior beta(1,1)\n",
    "n_samp=10000\n",
    "p1=stats.beta.rvs(6+1, 4+1, size=n_samp)\n",
    "p2=stats.beta.rvs(10+1, 10+1, size=n_samp)"
   ]
  },
  {
   "cell_type": "code",
   "execution_count": 72,
   "id": "42d66aec",
   "metadata": {},
   "outputs": [
    {
     "data": {
      "text/plain": [
       "<matplotlib.collections.LineCollection at 0x1c3144c9a90>"
      ]
     },
     "execution_count": 72,
     "metadata": {},
     "output_type": "execute_result"
    },
    {
     "data": {
      "image/png": "[encoded data removed]",
      "text/plain": [
       "<Figure size 432x288 with 1 Axes>"
      ]
     },
     "metadata": {
      "needs_background": "light"
     },
     "output_type": "display_data"
    }
   ],
   "source": [
    "diff=p1-p2\n",
    "lower=np.quantile(diff, 0.025)\n",
    "upper=np.quantile(diff, 0.975)\n",
    "cnt, bins, _=plt.hist(diff, bins=50)\n",
    "plt.vlines(lower, 0, 500, color='red')\n",
    "plt.vlines(upper, 0, 500, color='red')"
   ]
  },
  {
   "cell_type": "code",
   "execution_count": 81,
   "id": "a3f9095d",
   "metadata": {},
   "outputs": [
    {
     "data": {
      "text/plain": [
       "0.6841999999999998"
      ]
     },
     "execution_count": 81,
     "metadata": {},
     "output_type": "execute_result"
    }
   ],
   "source": [
    "#prob that p1>p2\n",
    "cnt_norm=cnt/cnt.sum()\n",
    "cnt_norm[bins[1:]>0].sum()"
   ]
  },
  {
   "cell_type": "code",
   "execution_count": null,
   "id": "112a351b",
   "metadata": {},
   "outputs": [],
   "source": []
  }
 ],
 "metadata": {
  "kernelspec": {
   "display_name": "Python 3 (ipykernel)",
   "language": "python",
   "name": "python3"
  },
  "language_info": {
   "codemirror_mode": {
    "name": "ipython",
    "version": 3
   },
   "file_extension": ".py",
   "mimetype": "text/x-python",
   "name": "python",
   "nbconvert_exporter": "python",
   "pygments_lexer": "ipython3",
   "version": "3.9.12"
  }
 },
 "nbformat": 4,
 "nbformat_minor": 5
}
