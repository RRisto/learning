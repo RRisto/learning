{
 "cells": [
  {
   "cell_type": "code",
   "execution_count": 1,
   "id": "434a0d10",
   "metadata": {},
   "outputs": [],
   "source": [
    "import pandas as pd\n",
    "import numpy as np\n",
    "from scipy import stats\n",
    "import matplotlib.pyplot as plt\n",
    "import seaborn as sns"
   ]
  },
  {
   "cell_type": "markdown",
   "id": "3b1927a9",
   "metadata": {},
   "source": [
    "## Biassay model"
   ]
  },
  {
   "cell_type": "markdown",
   "id": "86592134",
   "metadata": {},
   "source": [
    "Bioassay model. In this exercise, you will use a dose-response relation model that is used in Section 3.7 of the course book and in the chapter reading instructions. The used likelihood is the same, but instead of uniform priors, we will use a bivariate normal distribution as the joint prior distribution of the parameters α and β."
   ]
  },
  {
   "cell_type": "markdown",
   "id": "bc5fd813",
   "metadata": {},
   "source": [
    "### a) \n",
    "\n",
    "In the prior distribution for (α, β), the marginal distributions are α ∼ N (0, 2^2) and β ∼ N (10, 10^2), and the correlation between them is corr(α, β) = 0.6. Report the mean (vector of two values) and covariance (two by two matrix) of the bivariate normal distribution. \n",
    "\n",
    "Hint! The mean and covariance of the bivariate normal distribution are a length 2 vector and a 2 × 2 matrix. The elements of the covariance matrix can be computed using the relation of correlation and covariance."
   ]
  },
  {
   "cell_type": "code",
   "execution_count": 2,
   "id": "4d96719d",
   "metadata": {},
   "outputs": [
    {
     "data": {
      "text/plain": [
       "(1000,)"
      ]
     },
     "execution_count": 2,
     "metadata": {},
     "output_type": "execute_result"
    }
   ],
   "source": [
    "#prior\n",
    "x = np.linspace(-10, 20, 1000).reshape(-1)\n",
    "x.shape"
   ]
  },
  {
   "cell_type": "code",
   "execution_count": 3,
   "id": "4616c6af",
   "metadata": {},
   "outputs": [],
   "source": [
    "#mean vector is \n",
    "means=[0, 10]"
   ]
  },
  {
   "cell_type": "code",
   "execution_count": 4,
   "id": "db0d4e1a",
   "metadata": {},
   "outputs": [
    {
     "data": {
      "text/plain": [
       "[[4, 12.0], [12.0, 100]]"
      ]
     },
     "execution_count": 4,
     "metadata": {},
     "output_type": "execute_result"
    }
   ],
   "source": [
    "cov=0.6*(2**2)*(10**2)\n",
    "cov_mat=[[2**2, 0.6*10*2],\n",
    "        [0.6*2*10, 10**2]]\n",
    "cov_mat"
   ]
  },
  {
   "cell_type": "code",
   "execution_count": 5,
   "id": "ad337506",
   "metadata": {},
   "outputs": [
    {
     "data": {
      "image/png": "[encoded data removed]",
      "text/plain": [
       "<Figure size 432x288 with 1 Axes>"
      ]
     },
     "metadata": {
      "needs_background": "light"
     },
     "output_type": "display_data"
    }
   ],
   "source": [
    "y_samp=stats.multivariate_normal.rvs(mean=[0, 10], cov=cov_mat, size=10000)\n",
    "_=plt.hist(y_samp, bins=50)"
   ]
  },
  {
   "cell_type": "markdown",
   "id": "88b0c585",
   "metadata": {},
   "source": [
    "### b)\n",
    "\n",
    "You are given 4000 independent draws from the posterior distribution of the model. Load the draws with data (\"bioassay_posterior\"). Report the mean as well as 5 % and 95 % quantiles separately for both α and β. Report also the Monte Carlo standard errors (MCSEs) for the mean and quantile estimates. Report as many digits for the mean and quantiles as the MCSEs allow. In other words, leave out digits where MCSE is nonzero (Example: if posterior mean is 2.345678 and MCSE is 0.0012345, report two digits after the decimal sign, taking into account the usual rounding rule, so you would report 2.35. Further digits do not contain useful information due to the Monte Carlo uncertainty.). Explain in words what does Monte Carlo standard error mean and how you decided the number of digits to show. \n",
    "\n",
    "Note! The answer is graded as correct only if the number of digits reported is correct! The number of signicant digits can be different for the mean and quantile estimates. In some other cases, the number of digits reported can be less than MCSE allows for practical reasons.\n",
    "\n",
    "Hint! Quantiles can be computed with the quantile function. With S draws, the MCSE for E[θ] is √Var[θ]/S. MCSE for the quantile estimates can be computed with the mcse_quantile function from the aaltobda package."
   ]
  },
  {
   "cell_type": "code",
   "execution_count": 6,
   "id": "dd2cd3de",
   "metadata": {},
   "outputs": [
    {
     "data": {
      "text/plain": [
       "(4000, 2)"
      ]
     },
     "execution_count": 6,
     "metadata": {},
     "output_type": "execute_result"
    }
   ],
   "source": [
    "df_posterior=pd.read_csv('data/bioassay_posterior.txt',sep='\\t', header=None)\n",
    "df_posterior.columns=['alpha', 'beta']\n",
    "df_posterior.shape"
   ]
  },
  {
   "cell_type": "code",
   "execution_count": 7,
   "id": "7576f72e",
   "metadata": {},
   "outputs": [
    {
     "data": {
      "text/html": [
       "<div>\n",
       "<style scoped>\n",
       "    .dataframe tbody tr th:only-of-type {\n",
       "        vertical-align: middle;\n",
       "    }\n",
       "\n",
       "    .dataframe tbody tr th {\n",
       "        vertical-align: top;\n",
       "    }\n",
       "\n",
       "    .dataframe thead th {\n",
       "        text-align: right;\n",
       "    }\n",
       "</style>\n",
       "<table border=\"1\" class=\"dataframe\">\n",
       "  <thead>\n",
       "    <tr style=\"text-align: right;\">\n",
       "      <th></th>\n",
       "      <th>alpha</th>\n",
       "      <th>beta</th>\n",
       "    </tr>\n",
       "  </thead>\n",
       "  <tbody>\n",
       "    <tr>\n",
       "      <th>0</th>\n",
       "      <td>-0.020506</td>\n",
       "      <td>10.032841</td>\n",
       "    </tr>\n",
       "    <tr>\n",
       "      <th>1</th>\n",
       "      <td>1.217385</td>\n",
       "      <td>4.504546</td>\n",
       "    </tr>\n",
       "    <tr>\n",
       "      <th>2</th>\n",
       "      <td>3.048294</td>\n",
       "      <td>16.239424</td>\n",
       "    </tr>\n",
       "    <tr>\n",
       "      <th>3</th>\n",
       "      <td>1.322728</td>\n",
       "      <td>4.924268</td>\n",
       "    </tr>\n",
       "    <tr>\n",
       "      <th>4</th>\n",
       "      <td>1.362748</td>\n",
       "      <td>12.880561</td>\n",
       "    </tr>\n",
       "  </tbody>\n",
       "</table>\n",
       "</div>"
      ],
      "text/plain": [
       "      alpha       beta\n",
       "0 -0.020506  10.032841\n",
       "1  1.217385   4.504546\n",
       "2  3.048294  16.239424\n",
       "3  1.322728   4.924268\n",
       "4  1.362748  12.880561"
      ]
     },
     "execution_count": 7,
     "metadata": {},
     "output_type": "execute_result"
    }
   ],
   "source": [
    "df_posterior.head()"
   ]
  },
  {
   "cell_type": "code",
   "execution_count": 8,
   "id": "a1b2643c",
   "metadata": {},
   "outputs": [
    {
     "data": {
      "text/plain": [
       "alpha     1.0\n",
       "beta     10.6\n",
       "dtype: float64"
      ]
     },
     "execution_count": 8,
     "metadata": {},
     "output_type": "execute_result"
    }
   ],
   "source": [
    "df_posterior.mean(axis=0).round(1)"
   ]
  },
  {
   "cell_type": "code",
   "execution_count": 9,
   "id": "c42667a8",
   "metadata": {},
   "outputs": [
    {
     "data": {
      "text/plain": [
       "<AxesSubplot:>"
      ]
     },
     "execution_count": 9,
     "metadata": {},
     "output_type": "execute_result"
    },
    {
     "data": {
      "image/png": "[encoded data removed]",
      "text/plain": [
       "<Figure size 432x288 with 1 Axes>"
      ]
     },
     "metadata": {
      "needs_background": "light"
     },
     "output_type": "display_data"
    }
   ],
   "source": [
    "df_posterior.alpha.hist(bins=100)"
   ]
  },
  {
   "cell_type": "code",
   "execution_count": 10,
   "id": "cf2d2e87",
   "metadata": {},
   "outputs": [
    {
     "data": {
      "text/plain": [
       "<AxesSubplot:>"
      ]
     },
     "execution_count": 10,
     "metadata": {},
     "output_type": "execute_result"
    },
    {
     "data": {
      "image/png": "[encoded data removed]",
      "text/plain": [
       "<Figure size 432x288 with 1 Axes>"
      ]
     },
     "metadata": {
      "needs_background": "light"
     },
     "output_type": "display_data"
    }
   ],
   "source": [
    "df_posterior.beta.hist(bins=100)"
   ]
  },
  {
   "cell_type": "code",
   "execution_count": 11,
   "id": "8970158c",
   "metadata": {},
   "outputs": [
    {
     "data": {
      "text/plain": [
       "<AxesSubplot:xlabel='alpha', ylabel='beta'>"
      ]
     },
     "execution_count": 11,
     "metadata": {},
     "output_type": "execute_result"
    },
    {
     "data": {
      "image/png": "[encoded data removed]",
      "text/plain": [
       "<Figure size 432x288 with 1 Axes>"
      ]
     },
     "metadata": {
      "needs_background": "light"
     },
     "output_type": "display_data"
    }
   ],
   "source": [
    "df_posterior.plot.scatter(x='alpha', y='beta', alpha=0.1)"
   ]
  },
  {
   "cell_type": "code",
   "execution_count": 12,
   "id": "00b99164",
   "metadata": {},
   "outputs": [
    {
     "data": {
      "text/plain": [
       "0.0148"
      ]
     },
     "execution_count": 12,
     "metadata": {},
     "output_type": "execute_result"
    }
   ],
   "source": [
    "#MCSE for alpha\n",
    "np.round(np.std(df_posterior.alpha)/np.sqrt(df_posterior.shape[0]), 4)"
   ]
  },
  {
   "cell_type": "code",
   "execution_count": 13,
   "id": "f6bc15fa",
   "metadata": {},
   "outputs": [
    {
     "data": {
      "text/plain": [
       "0.0756"
      ]
     },
     "execution_count": 13,
     "metadata": {},
     "output_type": "execute_result"
    }
   ],
   "source": [
    "#MCSE for beta\n",
    "np.round(np.std(df_posterior.beta)/np.sqrt(df_posterior.shape[0]), 4)"
   ]
  },
  {
   "cell_type": "code",
   "execution_count": 14,
   "id": "e7ef58e1",
   "metadata": {},
   "outputs": [],
   "source": [
    "def mcse_quantile(x, q):\n",
    "    #source: https://github.com/avehtari/BDA_course_Aalto/blob/master/rpackage/R/mcse_quantile.R\n",
    "    s=len(x)\n",
    "    # these are the same as pnorm(c(-1,1)) and these are passed through\n",
    "    # a non-linear mapping\n",
    "    p = [0.1586553, 0.8413447]\n",
    "    a = stats.beta.ppf(p, s * q + 1, s * (1 - q) + 1)\n",
    "    sx = np.sort(x.values.reshape(-1))\n",
    "    th1=sx[int(max(np.floor(a[0] * s)-1, 1))]\n",
    "    th2 = sx[int(min(np.ceil(a[1] * s)-1, s))]\n",
    "    # if the mapping from p to th would be linear, this would give\n",
    "    # exact MCSE, but even with non-linear mapping this is a good approximation\n",
    "    mcse = (th2 - th1) / 2\n",
    "    return mcse"
   ]
  },
  {
   "cell_type": "code",
   "execution_count": 15,
   "id": "1e54488c",
   "metadata": {},
   "outputs": [
    {
     "data": {
      "text/plain": [
       "0.026004115975011483"
      ]
     },
     "execution_count": 15,
     "metadata": {},
     "output_type": "execute_result"
    }
   ],
   "source": [
    "mcse_quantile(df_posterior.alpha, 0.05)"
   ]
  },
  {
   "cell_type": "code",
   "execution_count": 16,
   "id": "465b092f",
   "metadata": {},
   "outputs": [
    {
     "data": {
      "text/plain": [
       "0.04206341679185521"
      ]
     },
     "execution_count": 16,
     "metadata": {},
     "output_type": "execute_result"
    }
   ],
   "source": [
    "mcse_quantile(df_posterior.alpha, 0.95)"
   ]
  },
  {
   "cell_type": "code",
   "execution_count": 17,
   "id": "80a9836a",
   "metadata": {},
   "outputs": [
    {
     "data": {
      "text/plain": [
       "0.0704312509185201"
      ]
     },
     "execution_count": 17,
     "metadata": {},
     "output_type": "execute_result"
    }
   ],
   "source": [
    "mcse_quantile(df_posterior.beta, 0.05)"
   ]
  },
  {
   "cell_type": "code",
   "execution_count": 18,
   "id": "a558dcd6",
   "metadata": {},
   "outputs": [
    {
     "data": {
      "text/plain": [
       "0.24121288770735028"
      ]
     },
     "execution_count": 18,
     "metadata": {},
     "output_type": "execute_result"
    }
   ],
   "source": [
    "mcse_quantile(df_posterior.beta, 0.95)"
   ]
  },
  {
   "cell_type": "code",
   "execution_count": 19,
   "id": "f4bc99b3",
   "metadata": {},
   "outputs": [
    {
     "data": {
      "text/plain": [
       "(-0.5, 4.0)"
      ]
     },
     "execution_count": 19,
     "metadata": {},
     "output_type": "execute_result"
    }
   ],
   "source": [
    "#quantiles 5%\n",
    "np.quantile(df_posterior.alpha, 0.05).round(1), np.quantile(df_posterior.beta, 0.05).round(1)"
   ]
  },
  {
   "cell_type": "code",
   "execution_count": 20,
   "id": "21536cfa",
   "metadata": {},
   "outputs": [
    {
     "data": {
      "text/plain": [
       "(2.6, 19.0)"
      ]
     },
     "execution_count": 20,
     "metadata": {},
     "output_type": "execute_result"
    }
   ],
   "source": [
    "#quantiles 95%\n",
    "np.quantile(df_posterior.alpha, 0.95).round(1), np.quantile(df_posterior.beta, 0.95).round(0)"
   ]
  },
  {
   "cell_type": "markdown",
   "id": "659ec4aa",
   "metadata": {},
   "source": [
    "### Importance sampling. Now we discard our posterior draws and switch to importance sampling.\n",
    "\n",
    "### c)\n",
    "\n",
    "Implement a function for computing the log importance ratios (log importance weights) when the importance sampling target distribution is the posterior distribution, and the proposal distribution is the prior distribution from a). Below is a test example, the functions can also be tested with markmyassignment. Explain in words why it's better to compute log ratios instead of ratios.\n",
    "\n",
    "- Note! The values below are only a test case. In this c) part, you only need to report the source code of your function, as it will be needed in later parts. \n",
    "\n",
    "- Hints! Use the function rmvnorm from the aaltobda package for sampling. Non-log importance ratios are given by equation (10.3) in the course book. The fact that our proposal distribution is the same as the prior distribution makes this task easier. The logarithm of the likelihood can be computed with the bioassaylp function from the aaltobda package. The data required for the likelihood can be loaded with data(\"bioassay\").\n",
    "\n",
    "alpha <- c(1.896, -3.6, 0.374, 0.964, -3.123, -1.581)\n",
    "\n",
    "beta <- c(24.76, 20.04, 6.15, 18.65, 8.16, 17.4) \n",
    "\n",
    "round(log_importance_weights(alpha, beta),2) \n",
    "\n",
    "[1] -8.95 -23.47 -6.02 -8.13 -16.61 -14.57"
   ]
  },
  {
   "cell_type": "code",
   "execution_count": 21,
   "id": "fcf75d6c",
   "metadata": {},
   "outputs": [
    {
     "data": {
      "text/plain": [
       "(4, 3)"
      ]
     },
     "execution_count": 21,
     "metadata": {},
     "output_type": "execute_result"
    }
   ],
   "source": [
    "#bioassay data\n",
    "df_data=pd.read_csv('data/bioassay.csv')\n",
    "df_data.shape"
   ]
  },
  {
   "cell_type": "code",
   "execution_count": 22,
   "id": "e9322908",
   "metadata": {},
   "outputs": [
    {
     "data": {
      "text/html": [
       "<div>\n",
       "<style scoped>\n",
       "    .dataframe tbody tr th:only-of-type {\n",
       "        vertical-align: middle;\n",
       "    }\n",
       "\n",
       "    .dataframe tbody tr th {\n",
       "        vertical-align: top;\n",
       "    }\n",
       "\n",
       "    .dataframe thead th {\n",
       "        text-align: right;\n",
       "    }\n",
       "</style>\n",
       "<table border=\"1\" class=\"dataframe\">\n",
       "  <thead>\n",
       "    <tr style=\"text-align: right;\">\n",
       "      <th></th>\n",
       "      <th>x</th>\n",
       "      <th>n</th>\n",
       "      <th>y</th>\n",
       "    </tr>\n",
       "  </thead>\n",
       "  <tbody>\n",
       "    <tr>\n",
       "      <th>0</th>\n",
       "      <td>-0.86</td>\n",
       "      <td>5</td>\n",
       "      <td>0</td>\n",
       "    </tr>\n",
       "    <tr>\n",
       "      <th>1</th>\n",
       "      <td>-0.30</td>\n",
       "      <td>5</td>\n",
       "      <td>1</td>\n",
       "    </tr>\n",
       "    <tr>\n",
       "      <th>2</th>\n",
       "      <td>-0.05</td>\n",
       "      <td>5</td>\n",
       "      <td>3</td>\n",
       "    </tr>\n",
       "    <tr>\n",
       "      <th>3</th>\n",
       "      <td>0.73</td>\n",
       "      <td>5</td>\n",
       "      <td>5</td>\n",
       "    </tr>\n",
       "  </tbody>\n",
       "</table>\n",
       "</div>"
      ],
      "text/plain": [
       "      x  n  y\n",
       "0 -0.86  5  0\n",
       "1 -0.30  5  1\n",
       "2 -0.05  5  3\n",
       "3  0.73  5  5"
      ]
     },
     "execution_count": 22,
     "metadata": {},
     "output_type": "execute_result"
    }
   ],
   "source": [
    "df_data"
   ]
  },
  {
   "cell_type": "code",
   "execution_count": 47,
   "id": "81210570",
   "metadata": {},
   "outputs": [],
   "source": [
    "alpha=np.array([1.896, -3.6, 0.374, 0.964, -3.123, -1.581])\n",
    "beta=np.array([24.76, 20.04, 6.15, 18.65, 8.16, 17.4])"
   ]
  },
  {
   "cell_type": "code",
   "execution_count": 34,
   "id": "98fb0db4",
   "metadata": {},
   "outputs": [],
   "source": [
    "def bioassaylp(alpha, beta, x, y, n):\n",
    "    \"\"\"#' Unnormalized log-posterior for bioassay, assuming uniform prior\n",
    "    #' @param alpha intercept parameter in the dose-response model (vector or single number)\n",
    "    #' @param beta slope parameter in the dose-response model (vector or single number)\n",
    "    #' @param x vector of doses for each observation\n",
    "    #' @param y vector of number of deaths for each observation\n",
    "    #' @param n vector of number of animals for each observation\n",
    "    Source: https://github.com/avehtari/BDA_course_Aalto/blob/master/rpackage/R/bioassaylp.R\"\"\"\n",
    "    t = alpha.reshape(-1,1) + np.outer(beta, x)\n",
    "    et = np.exp(t)\n",
    "    z = et/(1 + et)\n",
    "    # ensure that log(z) and log(1-z) are computable\n",
    "    eps = 1e-12\n",
    "    z[z>(1-eps)] = (1-eps)\n",
    "    z[z<eps] = eps\n",
    "    lp = ((np.log(z).T*y[:,None]).T+ (np.log(1 - z).T*(n-y)[:,None]).T).sum(axis=1)\n",
    "    return lp\n",
    "\n",
    "def log_importance_weights(alpha, beta, x, y, n):\n",
    "    lp=bioassaylp(alpha, beta, x, y, n)\n",
    "    return lp"
   ]
  },
  {
   "cell_type": "code",
   "execution_count": 35,
   "id": "b18d1999",
   "metadata": {},
   "outputs": [
    {
     "name": "stderr",
     "output_type": "stream",
     "text": [
      "C:\\Users\\RistoHinno\\AppData\\Local\\Temp\\ipykernel_27596\\2946651631.py:16: FutureWarning: Support for multi-dimensional indexing (e.g. `obj[:, None]`) is deprecated and will be removed in a future version.  Convert to a numpy array before indexing instead.\n",
      "  lp = ((np.log(z).T*y[:,None]).T+ (np.log(1 - z).T*(n-y)[:,None]).T).sum(axis=1)\n"
     ]
    },
    {
     "data": {
      "text/plain": [
       "array([ -8.95, -23.47,  -6.02,  -8.13, -16.61, -14.57])"
      ]
     },
     "execution_count": 35,
     "metadata": {},
     "output_type": "execute_result"
    }
   ],
   "source": [
    "log_importance_weights(alpha, beta, df_data.x, df_data.y, df_data.n).round(2)"
   ]
  },
  {
   "cell_type": "markdown",
   "id": "5c031e97",
   "metadata": {},
   "source": [
    "### d)\n",
    "\n",
    "Implement a function for computing normalized importance ratios from the unnormalized log ratios in c). In other words, exponentiate the log ratios and scale them such that they sum to one. Explain in words what is the effect of exponentiating and scaling so that sum is one. Below is a test example, the functions can also be tested with markmyassignment. \n",
    "\n",
    "Note! The values below are only a test case. In this d) part, you only need to report the source code of your function, as it will be needed in later parts."
   ]
  },
  {
   "cell_type": "code",
   "execution_count": 39,
   "id": "afba66c1",
   "metadata": {},
   "outputs": [],
   "source": [
    "def normalized_importance_weights(alpha, beta, x, y, n):\n",
    "    lp=log_importance_weights(alpha, beta, x, y, n)\n",
    "    return np.exp(lp)/np.exp(lp).sum()"
   ]
  },
  {
   "cell_type": "code",
   "execution_count": 40,
   "id": "2cd24bde",
   "metadata": {},
   "outputs": [
    {
     "name": "stderr",
     "output_type": "stream",
     "text": [
      "C:\\Users\\RistoHinno\\AppData\\Local\\Temp\\ipykernel_27596\\2946651631.py:16: FutureWarning: Support for multi-dimensional indexing (e.g. `obj[:, None]`) is deprecated and will be removed in a future version.  Convert to a numpy array before indexing instead.\n",
      "  lp = ((np.log(z).T*y[:,None]).T+ (np.log(1 - z).T*(n-y)[:,None]).T).sum(axis=1)\n"
     ]
    },
    {
     "data": {
      "text/plain": [
       "array([0.045, 0.   , 0.852, 0.103, 0.   , 0.   ])"
      ]
     },
     "execution_count": 40,
     "metadata": {},
     "output_type": "execute_result"
    }
   ],
   "source": [
    "normalized_importance_weights(alpha, beta, df_data.x, df_data.y, df_data.n).round(3)"
   ]
  },
  {
   "cell_type": "code",
   "execution_count": 38,
   "id": "4fe2ad22",
   "metadata": {},
   "outputs": [
    {
     "data": {
      "text/plain": [
       "array([0.1151624 , 0.30182764, 0.07736054, 0.10456173, 0.21366216,\n",
       "       0.18742552])"
      ]
     },
     "execution_count": 38,
     "metadata": {},
     "output_type": "execute_result"
    }
   ],
   "source": [
    "lp/lp.sum()"
   ]
  },
  {
   "cell_type": "markdown",
   "id": "16839441",
   "metadata": {},
   "source": [
    "### e)\n",
    "\n",
    "Sample 4000 draws of α and β from the prior distribution from a). Compute and plot a histogram of the 4000 normalized importance ratios. Use the functions you implemented in c) and d)."
   ]
  },
  {
   "cell_type": "code",
   "execution_count": 60,
   "id": "494e3e31",
   "metadata": {},
   "outputs": [],
   "source": [
    "y_samp=stats.multivariate_normal.rvs(mean=[0, 10], cov=cov_mat, size=4000)"
   ]
  },
  {
   "cell_type": "code",
   "execution_count": 61,
   "id": "82842771",
   "metadata": {},
   "outputs": [
    {
     "name": "stderr",
     "output_type": "stream",
     "text": [
      "C:\\Users\\RistoHinno\\AppData\\Local\\Temp\\ipykernel_27596\\2946651631.py:16: FutureWarning: Support for multi-dimensional indexing (e.g. `obj[:, None]`) is deprecated and will be removed in a future version.  Convert to a numpy array before indexing instead.\n",
      "  lp = ((np.log(z).T*y[:,None]).T+ (np.log(1 - z).T*(n-y)[:,None]).T).sum(axis=1)\n"
     ]
    }
   ],
   "source": [
    "imp_ratio=normalized_importance_weights(y_samp[:,0], y_samp[:,1], df_data.x, df_data.y, df_data.n)"
   ]
  },
  {
   "cell_type": "code",
   "execution_count": 64,
   "id": "7bd8cc62",
   "metadata": {},
   "outputs": [
    {
     "data": {
      "image/png": "[encoded data removed]",
      "text/plain": [
       "<Figure size 720x360 with 1 Axes>"
      ]
     },
     "metadata": {
      "needs_background": "light"
     },
     "output_type": "display_data"
    }
   ],
   "source": [
    "fig, ax =plt.subplots(figsize=(10,5))\n",
    "_=plt.hist(imp_ratio, bins=30)"
   ]
  },
  {
   "cell_type": "markdown",
   "id": "fa0fba3e",
   "metadata": {},
   "source": [
    "### f)\n",
    "\n",
    "Using the importance ratios, compute the importance sampling effective sample size Seff and report it. \n",
    "\n",
    "Note! The values below are only a test case, you need to use 4000 draws for alpha and beta in the final report.\n",
    "\n",
    "Hint! Equation (10.4) in the course book. \n",
    "\n",
    "Note! BDA3 1st (2013) and 2nd (2014) printing have an error for  ̃ w(θs) used in the effective sample size equation (10.4). The normalized weights equation should not have the multiplier S (the normalized weights should sum to one). Errata for the book http://www.stat.columbia.edu/~gelman/book/errata_bda3.txt. The later printings, the online version, and the slides have the correct equation."
   ]
  },
  {
   "cell_type": "code",
   "execution_count": 55,
   "id": "8cd82a6c",
   "metadata": {},
   "outputs": [
    {
     "name": "stderr",
     "output_type": "stream",
     "text": [
      "C:\\Users\\RistoHinno\\AppData\\Local\\Temp\\ipykernel_27596\\2946651631.py:16: FutureWarning: Support for multi-dimensional indexing (e.g. `obj[:, None]`) is deprecated and will be removed in a future version.  Convert to a numpy array before indexing instead.\n",
      "  lp = ((np.log(z).T*y[:,None]).T+ (np.log(1 - z).T*(n-y)[:,None]).T).sum(axis=1)\n"
     ]
    },
    {
     "data": {
      "text/plain": [
       "1.354"
      ]
     },
     "execution_count": 55,
     "metadata": {},
     "output_type": "execute_result"
    }
   ],
   "source": [
    "def S_eff(alpha, beta, x, y, n):\n",
    "    imp_ratio=normalized_importance_weights(alpha, beta, x, y, n)\n",
    "    return 1/np.sum(imp_ratio**2)\n",
    "\n",
    "S_eff(alpha, beta, df_data.x, df_data.y, df_data.n).round(3)"
   ]
  },
  {
   "cell_type": "code",
   "execution_count": 65,
   "id": "7b25554b",
   "metadata": {},
   "outputs": [
    {
     "name": "stderr",
     "output_type": "stream",
     "text": [
      "C:\\Users\\RistoHinno\\AppData\\Local\\Temp\\ipykernel_27596\\2946651631.py:16: FutureWarning: Support for multi-dimensional indexing (e.g. `obj[:, None]`) is deprecated and will be removed in a future version.  Convert to a numpy array before indexing instead.\n",
      "  lp = ((np.log(z).T*y[:,None]).T+ (np.log(1 - z).T*(n-y)[:,None]).T).sum(axis=1)\n"
     ]
    },
    {
     "data": {
      "text/plain": [
       "1202.79"
      ]
     },
     "execution_count": 65,
     "metadata": {},
     "output_type": "execute_result"
    }
   ],
   "source": [
    "#prior draws\n",
    "S_eff(y_samp[:,0], y_samp[:,1], df_data.x, df_data.y, df_data.n).round(3)"
   ]
  },
  {
   "cell_type": "code",
   "execution_count": 69,
   "id": "7ece97f3",
   "metadata": {},
   "outputs": [
    {
     "name": "stderr",
     "output_type": "stream",
     "text": [
      "C:\\Users\\RistoHinno\\AppData\\Local\\Temp\\ipykernel_27596\\2946651631.py:16: FutureWarning: Support for multi-dimensional indexing (e.g. `obj[:, None]`) is deprecated and will be removed in a future version.  Convert to a numpy array before indexing instead.\n",
      "  lp = ((np.log(z).T*y[:,None]).T+ (np.log(1 - z).T*(n-y)[:,None]).T).sum(axis=1)\n"
     ]
    },
    {
     "data": {
      "text/plain": [
       "3066.061"
      ]
     },
     "execution_count": 69,
     "metadata": {},
     "output_type": "execute_result"
    }
   ],
   "source": [
    "#bioassay data\n",
    "S_eff(np.array(df_posterior.alpha.tolist()), np.array(df_posterior.beta.tolist()), df_data.x, df_data.y, df_data.n).round(3)"
   ]
  },
  {
   "cell_type": "markdown",
   "id": "bae20d48",
   "metadata": {},
   "source": [
    "### g)\n",
    "\n",
    "Explain in your own words what the importance sampling effective sample size represents. Also explain how the effective sample size is seen in the histogram of the weights that you plotted in e)."
   ]
  },
  {
   "cell_type": "markdown",
   "id": "b268daa2",
   "metadata": {},
   "source": [
    "The importance sampling effective sample size indicates how well the samples from the importance sampling cover the density of the target distribution $q(\\theta|y)$.\n",
    "Ideally, the weights are uniform, resulting in a $S_\\text{eff}$ near the true number of draws (i.e. 4000 in this case).\n",
    "If there are some samples with very high importance, then $S_\\text{eff}$ gets smaller to indicate that the sampling did accurately cover the target distribution."
   ]
  },
  {
   "cell_type": "markdown",
   "id": "2b2ec588",
   "metadata": {},
   "source": [
    "The $S_\\text{eff}$ for the prior draws is calculated above.\n",
    "We can see that even though there were 4000 draws, the effective sampling size is about 1200.\n",
    "This means that the prior samples do no accurately sample from the target distribution.\n",
    "We can see this in the histogram with most importance weights near 0 and a thick tail of higher values.\n",
    "This is also shown in the plot below of the prior samples colored by their importance ratios.\n",
    "There is a density of higher importance ratios in one region of the samples, likely indicating where there is a lot of posterior density for the model."
   ]
  },
  {
   "cell_type": "code",
   "execution_count": 74,
   "id": "fe8763af",
   "metadata": {},
   "outputs": [
    {
     "data": {
      "text/html": [
       "<div>\n",
       "<style scoped>\n",
       "    .dataframe tbody tr th:only-of-type {\n",
       "        vertical-align: middle;\n",
       "    }\n",
       "\n",
       "    .dataframe tbody tr th {\n",
       "        vertical-align: top;\n",
       "    }\n",
       "\n",
       "    .dataframe thead th {\n",
       "        text-align: right;\n",
       "    }\n",
       "</style>\n",
       "<table border=\"1\" class=\"dataframe\">\n",
       "  <thead>\n",
       "    <tr style=\"text-align: right;\">\n",
       "      <th></th>\n",
       "      <th>alpha</th>\n",
       "      <th>beta</th>\n",
       "      <th>imp_ratio</th>\n",
       "    </tr>\n",
       "  </thead>\n",
       "  <tbody>\n",
       "    <tr>\n",
       "      <th>0</th>\n",
       "      <td>2.609290</td>\n",
       "      <td>41.240246</td>\n",
       "      <td>1.113170e-06</td>\n",
       "    </tr>\n",
       "    <tr>\n",
       "      <th>1</th>\n",
       "      <td>0.966259</td>\n",
       "      <td>4.735164</td>\n",
       "      <td>7.574452e-04</td>\n",
       "    </tr>\n",
       "    <tr>\n",
       "      <th>2</th>\n",
       "      <td>-3.619412</td>\n",
       "      <td>5.492093</td>\n",
       "      <td>1.636671e-09</td>\n",
       "    </tr>\n",
       "    <tr>\n",
       "      <th>3</th>\n",
       "      <td>-0.892907</td>\n",
       "      <td>11.089088</td>\n",
       "      <td>3.490349e-05</td>\n",
       "    </tr>\n",
       "    <tr>\n",
       "      <th>4</th>\n",
       "      <td>-3.837141</td>\n",
       "      <td>3.762003</td>\n",
       "      <td>1.991239e-11</td>\n",
       "    </tr>\n",
       "  </tbody>\n",
       "</table>\n",
       "</div>"
      ],
      "text/plain": [
       "      alpha       beta     imp_ratio\n",
       "0  2.609290  41.240246  1.113170e-06\n",
       "1  0.966259   4.735164  7.574452e-04\n",
       "2 -3.619412   5.492093  1.636671e-09\n",
       "3 -0.892907  11.089088  3.490349e-05\n",
       "4 -3.837141   3.762003  1.991239e-11"
      ]
     },
     "execution_count": 74,
     "metadata": {},
     "output_type": "execute_result"
    }
   ],
   "source": [
    "df_prior_draws=pd.DataFrame(y_samp)\n",
    "df_prior_draws.columns=['alpha', 'beta']\n",
    "df_prior_draws['imp_ratio']=imp_ratio\n",
    "df_prior_draws.head()"
   ]
  },
  {
   "cell_type": "code",
   "execution_count": 93,
   "id": "b6b1ce05",
   "metadata": {},
   "outputs": [
    {
     "data": {
      "text/plain": [
       "<matplotlib.collections.PathCollection at 0x206408c6700>"
      ]
     },
     "execution_count": 93,
     "metadata": {},
     "output_type": "execute_result"
    },
    {
     "data": {
      "image/png": "[encoded data removed]",
      "text/plain": [
       "<Figure size 432x288 with 1 Axes>"
      ]
     },
     "metadata": {
      "needs_background": "light"
     },
     "output_type": "display_data"
    }
   ],
   "source": [
    "plt.scatter(df_prior_draws.alpha, df_prior_draws.beta, alpha=0.2)\n",
    "plt.scatter(df_prior_draws.alpha, df_prior_draws.beta, alpha=0.2, c=df_prior_draws.imp_ratio)"
   ]
  },
  {
   "cell_type": "markdown",
   "id": "b68309a9",
   "metadata": {},
   "source": [
    "### h)\n",
    "\n",
    "Implement a function for computing the posterior mean using importance sampling, and compute the mean using your 4000 draws. Explain in your own words the computation for importance sampling. Below is an example how the function would work with the example values for alpha and beta above. Report the means for alpha and beta, and also the Monte Carlo standard errors (MCSEs) for the mean estimates. Report the number of digits for the means based on the MCSEs. \n",
    "\n",
    "Note! The values below are only a test case, you need to use 4000 draws for alpha and beta in the final report. \n",
    "\n",
    "Hint! Use the same equation for the MCSE of E[θ] as earlier (√Var[θ]/S), but now replace S with Sef. To compute Var[θ] with importance sampling, use the identity Var[θ] = E[θ2] − E[θ]2."
   ]
  },
  {
   "cell_type": "code",
   "execution_count": null,
   "id": "3b38890a",
   "metadata": {},
   "outputs": [],
   "source": []
  }
 ],
 "metadata": {
  "kernelspec": {
   "display_name": "Python 3 (ipykernel)",
   "language": "python",
   "name": "python3"
  },
  "language_info": {
   "codemirror_mode": {
    "name": "ipython",
    "version": 3
   },
   "file_extension": ".py",
   "mimetype": "text/x-python",
   "name": "python",
   "nbconvert_exporter": "python",
   "pygments_lexer": "ipython3",
   "version": "3.9.12"
  }
 },
 "nbformat": 4,
 "nbformat_minor": 5
}
