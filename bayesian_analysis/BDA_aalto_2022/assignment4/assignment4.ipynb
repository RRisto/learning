{
 "cells": [
  {
   "cell_type": "code",
   "execution_count": 1,
   "id": "434a0d10",
   "metadata": {},
   "outputs": [],
   "source": [
    "import pandas as pd\n",
    "import numpy as np\n",
    "from scipy import stats\n",
    "import matplotlib.pyplot as plt\n",
    "import seaborn as sns"
   ]
  },
  {
   "cell_type": "markdown",
   "id": "3b1927a9",
   "metadata": {},
   "source": [
    "## Biassay model"
   ]
  },
  {
   "cell_type": "markdown",
   "id": "86592134",
   "metadata": {},
   "source": [
    "Bioassay model. In this exercise, you will use a dose-response relation model that is used in Section 3.7 of the course book and in the chapter reading instructions. The used likelihood is the same, but instead of uniform priors, we will use a bivariate normal distribution as the joint prior distribution of the parameters α and β."
   ]
  },
  {
   "cell_type": "markdown",
   "id": "bc5fd813",
   "metadata": {},
   "source": [
    "a) In the prior distribution for (α, β), the marginal distributions are α ∼ N (0, 2^2) and β ∼ N (10, 10^2), and the correlation between them is corr(α, β) = 0.6. Report the mean (vector of two values) and covariance (two by two matrix) of the bivariate normal distribution. \n",
    "\n",
    "Hint! The mean and covariance of the bivariate normal distribution are a length 2 vector and a 2 × 2 matrix. The elements of the covariance matrix can be computed using the relation of correlation and covariance."
   ]
  },
  {
   "cell_type": "code",
   "execution_count": 205,
   "id": "4d96719d",
   "metadata": {},
   "outputs": [
    {
     "data": {
      "text/plain": [
       "(1000,)"
      ]
     },
     "execution_count": 205,
     "metadata": {},
     "output_type": "execute_result"
    }
   ],
   "source": [
    "#prior\n",
    "x = np.linspace(-10, 20, 1000).reshape(-1)\n",
    "x.shape"
   ]
  },
  {
   "cell_type": "code",
   "execution_count": 202,
   "id": "4616c6af",
   "metadata": {},
   "outputs": [],
   "source": [
    "#mean vector is \n",
    "means=[0, 10]"
   ]
  },
  {
   "cell_type": "code",
   "execution_count": 203,
   "id": "db0d4e1a",
   "metadata": {},
   "outputs": [
    {
     "data": {
      "text/plain": [
       "[[4, 12.0], [12.0, 100]]"
      ]
     },
     "execution_count": 203,
     "metadata": {},
     "output_type": "execute_result"
    }
   ],
   "source": [
    "cov=0.6*(2**2)*(10**2)\n",
    "cov_mat=[[2**2, 0.6*10*2],\n",
    "        [0.6*2*10, 10**2]]\n",
    "cov_mat"
   ]
  },
  {
   "cell_type": "code",
   "execution_count": 213,
   "id": "ad337506",
   "metadata": {},
   "outputs": [
    {
     "data": {
      "image/png": "[encoded data removed]",
      "text/plain": [
       "<Figure size 432x288 with 1 Axes>"
      ]
     },
     "metadata": {
      "needs_background": "light"
     },
     "output_type": "display_data"
    }
   ],
   "source": [
    "y_samp=stats.multivariate_normal.rvs(mean=[0, 10], cov=cov_mat, size=10000)\n",
    "_=plt.hist(y_samp, bins=50)"
   ]
  },
  {
   "cell_type": "markdown",
   "id": "88b0c585",
   "metadata": {},
   "source": [
    "b) You are given 4000 independent draws from the posterior distribution of the model. Load the draws with data (\"bioassay_posterior\"). Report the mean as well as 5 % and 95 % quantiles separately for both α and β. Report also the Monte Carlo standard errors (MCSEs) for the mean and quantile estimates. Report as many digits for the mean and quantiles as the MCSEs allow. In other words, leave out digits where MCSE is nonzero (Example: if posterior mean is 2.345678 and MCSE is 0.0012345, report two digits after the decimal sign, taking into account the usual rounding rule, so you would report 2.35. Further digits do not contain useful information due to the Monte Carlo uncertainty.). Explain in words what does Monte Carlo standard error mean and how you decided the number of digits to show. \n",
    "\n",
    "Note! The answer is graded as correct only if the number of digits reported is correct! The number of signicant digits can be different for the mean and quantile estimates. In some other cases, the number of digits reported can be less than MCSE allows for practical reasons.\n",
    "\n",
    "Hint! Quantiles can be computed with the quantile function. With S draws, the MCSE for E[θ] is √Var[θ]/S. MCSE for the quantile estimates can be computed with the mcse_quantile function from the aaltobda package."
   ]
  },
  {
   "cell_type": "code",
   "execution_count": 31,
   "id": "dd2cd3de",
   "metadata": {},
   "outputs": [
    {
     "data": {
      "text/plain": [
       "(4000, 2)"
      ]
     },
     "execution_count": 31,
     "metadata": {},
     "output_type": "execute_result"
    }
   ],
   "source": [
    "df_posterior=pd.read_csv('data/bioassay_posterior.txt',sep='\\t', header=None)\n",
    "df_posterior.columns=['alpha', 'beta']\n",
    "df_posterior.shape"
   ]
  },
  {
   "cell_type": "code",
   "execution_count": 32,
   "id": "7576f72e",
   "metadata": {},
   "outputs": [
    {
     "data": {
      "text/html": [
       "<div>\n",
       "<style scoped>\n",
       "    .dataframe tbody tr th:only-of-type {\n",
       "        vertical-align: middle;\n",
       "    }\n",
       "\n",
       "    .dataframe tbody tr th {\n",
       "        vertical-align: top;\n",
       "    }\n",
       "\n",
       "    .dataframe thead th {\n",
       "        text-align: right;\n",
       "    }\n",
       "</style>\n",
       "<table border=\"1\" class=\"dataframe\">\n",
       "  <thead>\n",
       "    <tr style=\"text-align: right;\">\n",
       "      <th></th>\n",
       "      <th>alpha</th>\n",
       "      <th>beta</th>\n",
       "    </tr>\n",
       "  </thead>\n",
       "  <tbody>\n",
       "    <tr>\n",
       "      <th>0</th>\n",
       "      <td>-0.020506</td>\n",
       "      <td>10.032841</td>\n",
       "    </tr>\n",
       "    <tr>\n",
       "      <th>1</th>\n",
       "      <td>1.217385</td>\n",
       "      <td>4.504546</td>\n",
       "    </tr>\n",
       "    <tr>\n",
       "      <th>2</th>\n",
       "      <td>3.048294</td>\n",
       "      <td>16.239424</td>\n",
       "    </tr>\n",
       "    <tr>\n",
       "      <th>3</th>\n",
       "      <td>1.322728</td>\n",
       "      <td>4.924268</td>\n",
       "    </tr>\n",
       "    <tr>\n",
       "      <th>4</th>\n",
       "      <td>1.362748</td>\n",
       "      <td>12.880561</td>\n",
       "    </tr>\n",
       "  </tbody>\n",
       "</table>\n",
       "</div>"
      ],
      "text/plain": [
       "      alpha       beta\n",
       "0 -0.020506  10.032841\n",
       "1  1.217385   4.504546\n",
       "2  3.048294  16.239424\n",
       "3  1.322728   4.924268\n",
       "4  1.362748  12.880561"
      ]
     },
     "execution_count": 32,
     "metadata": {},
     "output_type": "execute_result"
    }
   ],
   "source": [
    "df_posterior.head()"
   ]
  },
  {
   "cell_type": "code",
   "execution_count": 59,
   "id": "a1b2643c",
   "metadata": {},
   "outputs": [
    {
     "data": {
      "text/plain": [
       "alpha     1.0\n",
       "beta     10.6\n",
       "dtype: float64"
      ]
     },
     "execution_count": 59,
     "metadata": {},
     "output_type": "execute_result"
    }
   ],
   "source": [
    "df_posterior.mean(axis=0).round(1)"
   ]
  },
  {
   "cell_type": "code",
   "execution_count": 44,
   "id": "c42667a8",
   "metadata": {},
   "outputs": [
    {
     "data": {
      "text/plain": [
       "<AxesSubplot:>"
      ]
     },
     "execution_count": 44,
     "metadata": {},
     "output_type": "execute_result"
    },
    {
     "data": {
      "image/png": "[encoded data removed]",
      "text/plain": [
       "<Figure size 432x288 with 1 Axes>"
      ]
     },
     "metadata": {
      "needs_background": "light"
     },
     "output_type": "display_data"
    }
   ],
   "source": [
    "df_posterior.alpha.hist(bins=100)"
   ]
  },
  {
   "cell_type": "code",
   "execution_count": 45,
   "id": "cf2d2e87",
   "metadata": {},
   "outputs": [
    {
     "data": {
      "text/plain": [
       "<AxesSubplot:>"
      ]
     },
     "execution_count": 45,
     "metadata": {},
     "output_type": "execute_result"
    },
    {
     "data": {
      "image/png": "[encoded data removed]",
      "text/plain": [
       "<Figure size 432x288 with 1 Axes>"
      ]
     },
     "metadata": {
      "needs_background": "light"
     },
     "output_type": "display_data"
    }
   ],
   "source": [
    "df_posterior.beta.hist(bins=100)"
   ]
  },
  {
   "cell_type": "code",
   "execution_count": 49,
   "id": "8970158c",
   "metadata": {},
   "outputs": [
    {
     "data": {
      "text/plain": [
       "<AxesSubplot:xlabel='alpha', ylabel='beta'>"
      ]
     },
     "execution_count": 49,
     "metadata": {},
     "output_type": "execute_result"
    },
    {
     "data": {
      "image/png": "[encoded data removed]",
      "text/plain": [
       "<Figure size 432x288 with 1 Axes>"
      ]
     },
     "metadata": {
      "needs_background": "light"
     },
     "output_type": "display_data"
    }
   ],
   "source": [
    "df_posterior.plot.scatter(x='alpha', y='beta', alpha=0.1)"
   ]
  },
  {
   "cell_type": "code",
   "execution_count": 56,
   "id": "00b99164",
   "metadata": {},
   "outputs": [
    {
     "data": {
      "text/plain": [
       "0.0148"
      ]
     },
     "execution_count": 56,
     "metadata": {},
     "output_type": "execute_result"
    }
   ],
   "source": [
    "#MCSE for alpha\n",
    "np.round(np.std(df_posterior.alpha)/np.sqrt(df_posterior.shape[0]), 4)"
   ]
  },
  {
   "cell_type": "code",
   "execution_count": 58,
   "id": "f6bc15fa",
   "metadata": {},
   "outputs": [
    {
     "data": {
      "text/plain": [
       "0.0756"
      ]
     },
     "execution_count": 58,
     "metadata": {},
     "output_type": "execute_result"
    }
   ],
   "source": [
    "#MCSE for beta\n",
    "np.round(np.std(df_posterior.beta)/np.sqrt(df_posterior.shape[0]), 4)"
   ]
  },
  {
   "cell_type": "code",
   "execution_count": 190,
   "id": "e7ef58e1",
   "metadata": {},
   "outputs": [],
   "source": [
    "def mcse_quantile(x, q):\n",
    "    #source: https://github.com/avehtari/BDA_course_Aalto/blob/master/rpackage/R/mcse_quantile.R\n",
    "    s=len(x)\n",
    "    # these are the same as pnorm(c(-1,1)) and these are passed through\n",
    "    # a non-linear mapping\n",
    "    p = [0.1586553, 0.8413447]\n",
    "    a = stats.beta.ppf(p, s * q + 1, s * (1 - q) + 1)\n",
    "    sx = np.sort(x.values.reshape(-1))\n",
    "    th1=sx[int(max(np.floor(a[0] * s)-1, 1))]\n",
    "    th2 = sx[int(min(np.ceil(a[1] * s)-1, s))]\n",
    "    # if the mapping from p to th would be linear, this would give\n",
    "    # exact MCSE, but even with non-linear mapping this is a good approximation\n",
    "    mcse = (th2 - th1) / 2\n",
    "    return mcse"
   ]
  },
  {
   "cell_type": "code",
   "execution_count": 191,
   "id": "1e54488c",
   "metadata": {},
   "outputs": [
    {
     "data": {
      "text/plain": [
       "0.026004115975011483"
      ]
     },
     "execution_count": 191,
     "metadata": {},
     "output_type": "execute_result"
    }
   ],
   "source": [
    "mcse_quantile(df_posterior.alpha, 0.05)"
   ]
  },
  {
   "cell_type": "code",
   "execution_count": 192,
   "id": "465b092f",
   "metadata": {},
   "outputs": [
    {
     "data": {
      "text/plain": [
       "0.04206341679185521"
      ]
     },
     "execution_count": 192,
     "metadata": {},
     "output_type": "execute_result"
    }
   ],
   "source": [
    "mcse_quantile(df_posterior.alpha, 0.95)"
   ]
  },
  {
   "cell_type": "code",
   "execution_count": 193,
   "id": "80a9836a",
   "metadata": {},
   "outputs": [
    {
     "data": {
      "text/plain": [
       "0.0704312509185201"
      ]
     },
     "execution_count": 193,
     "metadata": {},
     "output_type": "execute_result"
    }
   ],
   "source": [
    "mcse_quantile(df_posterior.beta, 0.05)"
   ]
  },
  {
   "cell_type": "code",
   "execution_count": 194,
   "id": "a558dcd6",
   "metadata": {},
   "outputs": [
    {
     "data": {
      "text/plain": [
       "0.24121288770735028"
      ]
     },
     "execution_count": 194,
     "metadata": {},
     "output_type": "execute_result"
    }
   ],
   "source": [
    "mcse_quantile(df_posterior.beta, 0.95)"
   ]
  },
  {
   "cell_type": "code",
   "execution_count": 64,
   "id": "f4bc99b3",
   "metadata": {},
   "outputs": [
    {
     "data": {
      "text/plain": [
       "(-0.5, 4.0)"
      ]
     },
     "execution_count": 64,
     "metadata": {},
     "output_type": "execute_result"
    }
   ],
   "source": [
    "#quantiles 5%\n",
    "np.quantile(df_posterior.alpha, 0.05).round(1), np.quantile(df_posterior.beta, 0.05).round(1)"
   ]
  },
  {
   "cell_type": "code",
   "execution_count": 195,
   "id": "21536cfa",
   "metadata": {},
   "outputs": [
    {
     "data": {
      "text/plain": [
       "(2.6, 19.0)"
      ]
     },
     "execution_count": 195,
     "metadata": {},
     "output_type": "execute_result"
    }
   ],
   "source": [
    "#quantiles 95%\n",
    "np.quantile(df_posterior.alpha, 0.95).round(1), np.quantile(df_posterior.beta, 0.95).round(0)"
   ]
  },
  {
   "cell_type": "markdown",
   "id": "659ec4aa",
   "metadata": {},
   "source": [
    "### Importance sampling. Now we discard our posterior draws and switch to importance sampling.\n",
    "\n",
    "c) Implement a function for computing the log importance ratios (log importance weights) when the importance sampling target distribution is the posterior distribution, and the proposal distribution is the prior distribution from a). Below is a test example, the functions can also be tested with markmyassignment. Explain in words why it's better to compute log ratios instead of ratios.\n",
    "\n",
    "- Note! The values below are only a test case. In this c) part, you only need to report the source code of your function, as it will be needed in later parts. \n",
    "\n",
    "- Hints! Use the function rmvnorm from the aaltobda package for sampling. Non-log importance ratios are given by equation (10.3) in the course book. The fact that our proposal distribution is the same as the prior distribution makes this task easier. The logarithm of the likelihood can be computed with the bioassaylp function from the aaltobda package. The data required for the likelihood can be loaded with data(\"bioassay\").\n",
    "\n",
    "alpha <- c(1.896, -3.6, 0.374, 0.964, -3.123, -1.581)\n",
    "\n",
    "beta <- c(24.76, 20.04, 6.15, 18.65, 8.16, 17.4) \n",
    "\n",
    "round(log_importance_weights(alpha, beta),2) \n",
    "\n",
    "[1] -8.95 -23.47 -6.02 -8.13 -16.61 -14.57"
   ]
  },
  {
   "cell_type": "code",
   "execution_count": null,
   "id": "02ebed86",
   "metadata": {},
   "outputs": [],
   "source": [
    "#proposal distribution\n",
    "g=None\n",
    "\n",
    "#target distribution\n",
    "q=stats.multivariate_normal.rvs(mean=[0, 10], cov=cov_mat, size=10000)"
   ]
  },
  {
   "cell_type": "code",
   "execution_count": null,
   "id": "6087c7ac",
   "metadata": {},
   "outputs": [],
   "source": [
    "def log_importance_weights(alpha, beta):\n",
    "    w = np.log(q/g)"
   ]
  },
  {
   "cell_type": "code",
   "execution_count": 214,
   "id": "81210570",
   "metadata": {},
   "outputs": [],
   "source": [
    "alpha=[1.896, -3.6, 0.374, 0.964, -3.123, -1.581]\n",
    "beta=[24.76, 20.04, 6.15, 18.65, 8.16, 17.4]"
   ]
  },
  {
   "cell_type": "code",
   "execution_count": 215,
   "id": "dcb7e060",
   "metadata": {},
   "outputs": [
    {
     "name": "stderr",
     "output_type": "stream",
     "text": [
      "C:\\Users\\RistoHinno\\AppData\\Local\\Temp\\ipykernel_32960\\4125278159.py:1: RuntimeWarning: invalid value encountered in log\n",
      "  np.log(alpha)-np.log(beta)\n"
     ]
    },
    {
     "data": {
      "text/plain": [
       "array([-2.56948304,         nan, -2.79995156, -2.96251013,         nan,\n",
       "               nan])"
      ]
     },
     "execution_count": 215,
     "metadata": {},
     "output_type": "execute_result"
    }
   ],
   "source": [
    "np.log(alpha)-np.log(beta)"
   ]
  },
  {
   "cell_type": "code",
   "execution_count": null,
   "id": "1bf632e6",
   "metadata": {},
   "outputs": [],
   "source": [
    "x = np.linspace(-10, 20, 1000)\n",
    "g = stats.norm.pdf(x, loc=g_mean, scale=g_std)"
   ]
  }
 ],
 "metadata": {
  "kernelspec": {
   "display_name": "Python 3 (ipykernel)",
   "language": "python",
   "name": "python3"
  },
  "language_info": {
   "codemirror_mode": {
    "name": "ipython",
    "version": 3
   },
   "file_extension": ".py",
   "mimetype": "text/x-python",
   "name": "python",
   "nbconvert_exporter": "python",
   "pygments_lexer": "ipython3",
   "version": "3.9.12"
  }
 },
 "nbformat": 4,
 "nbformat_minor": 5
}
