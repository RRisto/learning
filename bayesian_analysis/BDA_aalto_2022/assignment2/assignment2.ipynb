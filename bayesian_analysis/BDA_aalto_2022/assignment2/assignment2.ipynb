{
 "cells": [
  {
   "cell_type": "code",
   "execution_count": 7,
   "id": "ab96f90c",
   "metadata": {},
   "outputs": [],
   "source": [
    "import numpy as np\n",
    "from scipy.stats import beta\n",
    "from pathlib import Path\n",
    "%matplotlib inline\n",
    "import matplotlib.pyplot as plt"
   ]
  },
  {
   "cell_type": "code",
   "execution_count": 62,
   "id": "4b072b07",
   "metadata": {},
   "outputs": [],
   "source": [
    "# add utilities directory to path\n",
    "import os, sys\n",
    "util_path = os.path.abspath(os.path.join(os.path.pardir, 'utilities_and_data'))\n",
    "if util_path not in sys.path and os.path.exists(util_path):\n",
    "    sys.path.insert(0, util_path)\n",
    "\n",
    "# import from utilities\n",
    "import plot_tools"
   ]
  },
  {
   "cell_type": "markdown",
   "id": "c70a1476",
   "metadata": {},
   "source": [
    "## Data"
   ]
  },
  {
   "cell_type": "code",
   "execution_count": 13,
   "id": "d0a6ff19",
   "metadata": {},
   "outputs": [],
   "source": [
    "# obs=[0, 1, 1, 0, 0, 0]\n",
    "obs=Path('data/algae.txt').read_text().split('\\n')\n",
    "obs=[int(o) for o in obs if o!='']"
   ]
  },
  {
   "cell_type": "markdown",
   "id": "da760a2f",
   "metadata": {},
   "source": [
    "Let π be the probability of a monitoring site having detectable blue-green algae levels and y the\n",
    "observations in algae. Use a binomial model for the observations y and a Beta(2, 10) prior for\n",
    "binomial model parameter π to formulate a Bayesian model. Here it is not necessary to derive\n",
    "the posterior distribution for π as it has already been done in the book and it suffices to refer\n",
    "to that derivation. Also, it is not necessary to write out the distributions; it is sufficient to use\n",
    "label-parameter format, e.g. Beta(·, ·).\n",
    "\n",
    "Your task is to make Bayesian inference for binomial model and answer questions based on it:\n",
    "\n",
    "a) formulate (1) the likelihood p(y|π) as a function of π, (2) the prior p(π), and (3) the resulting\n",
    "posterior p(π|y). Report the posterior in the format Beta(·, ·), where you replace ·’s with the\n",
    "correct numerical values.\n"
   ]
  },
  {
   "cell_type": "markdown",
   "id": "fa057d64",
   "metadata": {},
   "source": [
    "## Posterior"
   ]
  },
  {
   "cell_type": "code",
   "execution_count": 14,
   "id": "878c33d0",
   "metadata": {},
   "outputs": [
    {
     "data": {
      "text/plain": [
       "(46, 240)"
      ]
     },
     "execution_count": 14,
     "metadata": {},
     "output_type": "execute_result"
    }
   ],
   "source": [
    "#prior\n",
    "#beta(2, 10)\n",
    "alpha_pr=2\n",
    "beta_pr=10\n",
    "\n",
    "#posterior\n",
    "#beta(2+y, 10+n-y)\n",
    "y=sum(obs)\n",
    "n=len(obs)\n",
    "alpha_post=alpha_pr+y\n",
    "beta_post=beta_pr+n-y\n",
    "alpha_post, beta_post"
   ]
  },
  {
   "cell_type": "markdown",
   "id": "45bd1fab",
   "metadata": {},
   "source": [
    "## Point estimate and credible interval"
   ]
  },
  {
   "cell_type": "markdown",
   "id": "9e636665",
   "metadata": {},
   "source": [
    "What can you say about the value of the unknown π according to the observations and your\n",
    "prior knowledge? Summarize your results with a point estimate (i.e. E(π|y)) and a 90%\n",
    "posterior interval. Note! Posterior intervals are also called credible intervals and are different\n",
    "from confidence intervals"
   ]
  },
  {
   "cell_type": "code",
   "execution_count": 55,
   "id": "e4b2a383",
   "metadata": {},
   "outputs": [
    {
     "data": {
      "text/plain": [
       "0.161"
      ]
     },
     "execution_count": 55,
     "metadata": {},
     "output_type": "execute_result"
    }
   ],
   "source": [
    "#point estimate\n",
    "pii_mean=(alpha_pr+y)/(alpha_pr+beta_pr+n)\n",
    "round(pii_mean, 3)"
   ]
  },
  {
   "cell_type": "code",
   "execution_count": 48,
   "id": "872a5591",
   "metadata": {},
   "outputs": [],
   "source": [
    "conf_level=0.9\n",
    "interval_upper=beta.ppf(conf_level+(1-conf_level)/2, alpha_post, beta_post)\n",
    "inteval_lower=beta.ppf((1-conf_level)/2, alpha_post, beta_post)"
   ]
  },
  {
   "cell_type": "code",
   "execution_count": 54,
   "id": "6a284e20",
   "metadata": {},
   "outputs": [
    {
     "data": {
      "text/plain": [
       "(0.2, 0.13)"
      ]
     },
     "execution_count": 54,
     "metadata": {},
     "output_type": "execute_result"
    }
   ],
   "source": [
    " round(inteval_lower, 2), round(interval_upper,2)"
   ]
  },
  {
   "cell_type": "markdown",
   "id": "44d4ce33",
   "metadata": {},
   "source": [
    "## Probability that pii is smaller than some value"
   ]
  },
  {
   "cell_type": "markdown",
   "id": "035f5ccc",
   "metadata": {},
   "source": [
    "What is the probability that the proportion of monitoring sites with detectable algae levels π is\n",
    "smaller than π0 = 0.2 that is known from historical records?"
   ]
  },
  {
   "cell_type": "code",
   "execution_count": 57,
   "id": "f770dd2e",
   "metadata": {},
   "outputs": [
    {
     "data": {
      "text/plain": [
       "0.9586135871948529"
      ]
     },
     "execution_count": 57,
     "metadata": {},
     "output_type": "execute_result"
    }
   ],
   "source": [
    "beta.cdf(0.2, alpha_post, beta_post)"
   ]
  },
  {
   "cell_type": "markdown",
   "id": "4e23f198",
   "metadata": {},
   "source": [
    "What assumptions are required in order to use this kind of a model with this type of data?"
   ]
  },
  {
   "cell_type": "markdown",
   "id": "3831c6eb",
   "metadata": {},
   "source": [
    "We are assuming that the presence of detectable algae levels are conditionally independent given\n",
    ", with the probability of presence equal to  for all cases."
   ]
  },
  {
   "cell_type": "markdown",
   "id": "6cc5b10a",
   "metadata": {},
   "source": [
    "## Sensitivity"
   ]
  },
  {
   "cell_type": "markdown",
   "id": "48fc5c03",
   "metadata": {},
   "source": [
    "Make prior sensitivity analysis by testing a couple of different reasonable priors and plot the\n",
    "different posteriors. Summarize the results by one or two sentences"
   ]
  },
  {
   "cell_type": "code",
   "execution_count": 73,
   "id": "0b505b8a",
   "metadata": {},
   "outputs": [],
   "source": [
    "#grid\n",
    "x = np.linspace(0.0, 0.3, 150)"
   ]
  },
  {
   "cell_type": "code",
   "execution_count": 88,
   "id": "2d1b01f8",
   "metadata": {},
   "outputs": [],
   "source": [
    "pdu = beta.pdf(x, alpha_post, beta_post)\n",
    "\n",
    "# compare 3 cases\n",
    "# arrays of different priors:\n",
    "# Beta(0.485*n, (1-0.485)*n), for n = 2, 20, 200\n",
    "ap = np.array([alpha_pr * (2*2**i) for i in range(3)])\n",
    "bp = np.array([(beta_pr) * (2*2**i) for i in range(3)])\n",
    "# corresponding posteriors with data (437,543)\n",
    "ai = alpha_post + ap\n",
    "bi = beta_post + bp\n",
    "# calculate prior and posterior densities\n",
    "pdp = beta.pdf(x, ap[:,np.newaxis], bp[:,np.newaxis])\n",
    "pdi = beta.pdf(x, ai[:,np.newaxis], bi[:,np.newaxis])"
   ]
  },
  {
   "cell_type": "code",
   "execution_count": 89,
   "id": "a6085763",
   "metadata": {},
   "outputs": [
    {
     "data": {
      "text/plain": [
       "array([ 4,  8, 16])"
      ]
     },
     "execution_count": 89,
     "metadata": {},
     "output_type": "execute_result"
    }
   ],
   "source": [
    "ap"
   ]
  },
  {
   "cell_type": "code",
   "execution_count": 90,
   "id": "6ef1cb61",
   "metadata": {},
   "outputs": [
    {
     "data": {
      "image/png": "[encoded data removed]",
      "text/plain": [
       "<Figure size 576x864 with 3 Axes>"
      ]
     },
     "metadata": {
      "needs_background": "light"
     },
     "output_type": "display_data"
    }
   ],
   "source": [
    "# plot 3 subplots\n",
    "fig, axes = plt.subplots(\n",
    "    nrows=3, ncols=1, sharex=True, sharey=True, figsize=(8, 12))\n",
    "# show only x-axis\n",
    "plot_tools.modify_axes.only_x(axes)\n",
    "# manually adjust spacing\n",
    "fig.subplots_adjust(hspace=0.4)\n",
    "\n",
    "# 3 subplots\n",
    "for i, ax in enumerate(axes):\n",
    "    # plot three precalculated densities\n",
    "    post1, = ax.plot(x, pdu, color=plot_tools.lighten('C1'), linewidth=5)\n",
    "    prior, = ax.plot(x, pdp[i], 'k:')\n",
    "    post2, = ax.plot(x, pdi[i], color='k', dashes=(6, 8))\n",
    "    # add vertical line\n",
    "    #known = ax.axvline(0.485, color='C0')\n",
    "    # set the title for this subplot\n",
    "    ax.set_title(\n",
    "        r'$\\alpha/(\\alpha+\\beta) = 0.16,\\quad \\alpha+\\beta = {}$'\n",
    "        .format(2*2**i)\n",
    "    )\n",
    "# limit x-axis\n",
    "axes[0].autoscale(axis='x', tight=True)\n",
    "axes[0].set_ylim((0,30))\n",
    "# add legend to the last subplot\n",
    "axes[-1].legend(\n",
    "    (post1, prior, post2, known),\n",
    "    ( 'posterior with uniform prior',\n",
    "      'informative prior',\n",
    "      'posterior with informative prior',\n",
    "     r'known $\\theta=0.485$ in general population'),\n",
    "    loc='upper center',\n",
    "    bbox_to_anchor=(0.5, -0.2)\n",
    ");"
   ]
  },
  {
   "cell_type": "code",
   "execution_count": null,
   "id": "eb919ab0",
   "metadata": {},
   "outputs": [],
   "source": []
  },
  {
   "cell_type": "code",
   "execution_count": null,
   "id": "c95b1500",
   "metadata": {},
   "outputs": [],
   "source": []
  }
 ],
 "metadata": {
  "kernelspec": {
   "display_name": "Python 3 (ipykernel)",
   "language": "python",
   "name": "python3"
  },
  "language_info": {
   "codemirror_mode": {
    "name": "ipython",
    "version": 3
   },
   "file_extension": ".py",
   "mimetype": "text/x-python",
   "name": "python",
   "nbconvert_exporter": "python",
   "pygments_lexer": "ipython3",
   "version": "3.9.12"
  }
 },
 "nbformat": 4,
 "nbformat_minor": 5
}
