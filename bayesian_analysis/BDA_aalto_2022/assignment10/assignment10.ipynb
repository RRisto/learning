{
 "cells": [
  {
   "cell_type": "code",
   "execution_count": 1,
   "id": "5c7840db-cbcb-468c-9ba0-2c428607d968",
   "metadata": {
    "tags": []
   },
   "outputs": [],
   "source": [
    "%matplotlib inline\n",
    "\n",
    "import numpy as np\n",
    "import pandas as pd\n",
    "from scipy import stats\n",
    "import matplotlib as mpl\n",
    "import matplotlib.pyplot as plt\n",
    "import seaborn as sns\n",
    "\n",
    "import stan\n",
    "import arviz as az # For visualization and loo\n",
    "#needed for notebook\n",
    "import nest_asyncio\n",
    "nest_asyncio.apply()"
   ]
  },
  {
   "cell_type": "code",
   "execution_count": 2,
   "id": "4c6698f6-5a01-4a98-aacb-747965cfdbfe",
   "metadata": {
    "tags": []
   },
   "outputs": [],
   "source": [
    "import os, sys\n",
    "util_path = os.path.abspath(os.path.join(os.path.pardir, 'utilities_and_data'))\n",
    "if util_path not in sys.path and os.path.exists(util_path):\n",
    "    sys.path.insert(0, util_path)\n",
    "\n",
    "# import from utilities\n",
    "import stan_v3_utility"
   ]
  },
  {
   "cell_type": "code",
   "execution_count": 3,
   "id": "89f8604c-c164-4d2e-85ad-432d7f91bacf",
   "metadata": {
    "tags": []
   },
   "outputs": [
    {
     "name": "stderr",
     "output_type": "stream",
     "text": [
      "/tmp/ipykernel_260/1626268779.py:3: MatplotlibDeprecationWarning: The seaborn styles shipped by Matplotlib are deprecated since 3.6, as they no longer correspond to the styles shipped by seaborn. However, they will remain available as 'seaborn-v0_8-<style>'. Alternatively, directly use the seaborn API instead.\n",
      "  az.style.use('seaborn-darkgrid')\n"
     ]
    }
   ],
   "source": [
    "# edit default plot settings\n",
    "plt.rc('font', size=12)\n",
    "az.style.use('seaborn-darkgrid')\n",
    "mpl.rcParams['figure.figsize'] = [7.0, 5.4]"
   ]
  },
  {
   "cell_type": "markdown",
   "id": "3496fe45-2acf-49f3-b2a4-8058f64ee3bb",
   "metadata": {},
   "source": [
    "### Decision analysis for the factory data (3p)\n",
    "\n",
    "This exercise is an example of a decision analysis (DA). In a broad context, this means optimizing over different decisions that lead to different outcomes that all have different utilities. In a Bayesian context, this means using posterior distributions to make decisions. In this exercise, you work as a data analyst in the company that owns the six machines that have produced the data in the factory dataset. To access the data, just use: \n",
    "\n",
    "library(aaltobda) \n",
    "data(\"factory\") \n",
    "\n",
    "Your task is to decide whether or not to buy a new (7th) machine for the company. The decision should be based on our best knowledge about the machines."
   ]
  },
  {
   "cell_type": "markdown",
   "id": "c153fc7a-576a-401c-ac27-4e966637dd2c",
   "metadata": {},
   "source": [
    "The following is known about the production process: \n",
    "\n",
    "• The given data contains quality measurements of single products from the six machines that are ordered from the same seller. (columns: different machines, rows: measurements) \n",
    "\n",
    "• Customers pay 200 euros for each product.\n",
    "\n",
    "        – If the quality of the product is below 85, the product cannot be sold \n",
    "        \n",
    "        – All the products that have sufficient quality are sold."
   ]
  },
  {
   "cell_type": "markdown",
   "id": "e8e40574-05ab-40e4-b31b-069dac96d58a",
   "metadata": {
    "tags": []
   },
   "source": [
    "• Raw-materials, the salary of the machine user and the usage cost of the machine for each product cost 106 euros in total.\n",
    "\n",
    "        – Usage cost of the machine also involves all investment and repair costs divided by the number of products a machine can create. So there is no need to take the investment cost into account as a separate factor.\n",
    "        \n",
    "• The only thing the company owner cares about is money. Thus, as a utility function, use the profit of a new product from a machine."
   ]
  },
  {
   "cell_type": "markdown",
   "id": "04d9f0cf-e43e-4002-b871-a9d32f61a2c9",
   "metadata": {},
   "source": [
    "As noticed in the previous assignment, the hierarchical model fits best with the dataset, so use it to compute the utilities. The assumptions for the hierarchical model are the same as in assignment 7 and 8. If you did things correctly then, solving the assignment only requires you to change the \"generated quantities\"-block in the Stan-code to compute the correct predictive samples for products of all 7 (= 6 + 1) machines."
   ]
  },
  {
   "cell_type": "markdown",
   "id": "b75509d2-6976-4b0b-90a4-041b66c6e877",
   "metadata": {},
   "source": [
    "Your task is the following:\n",
    "\n",
    "    1. For each of the six machines, compute and report the expected utility of one product of that machine. Below is a test case on how the utility function should work (and that you can test with markmyassignment. \n",
    "    \n",
    "    Note! The expected utility should be computed from the quality measurements of the products of each machine, not from the means of the qualities of each machine.\n",
    "    \n",
    "    Note! This is just a test case to test that your utility function works. In the report, you should report the expected utility using your posterior draws from Stan. \n",
    "    \n",
    "    Note! The value below is only a test case, you need to use correct draws from the predictive distribution in the final report."
   ]
  },
  {
   "cell_type": "markdown",
   "id": "34e5ed40-1c1f-4aea-861c-c5da76a0c1d3",
   "metadata": {},
   "source": [
    "y_pred <- c(123.80, 85.23, 70.16, 80.57, 84.91) \n",
    "\n",
    "utility(draws = y_pred) \n",
    "\n",
    "[1] -26"
   ]
  },
  {
   "cell_type": "code",
   "execution_count": 4,
   "id": "88db08e2-70a0-4042-9a21-36f598a2b630",
   "metadata": {
    "tags": []
   },
   "outputs": [
    {
     "data": {
      "text/plain": [
       "-26.0"
      ]
     },
     "execution_count": 4,
     "metadata": {},
     "output_type": "execute_result"
    }
   ],
   "source": [
    "examples=[123.80, 85.23, 70.16, 80.57, 84.91]\n",
    "revenue=(np.array(examples)>=85).sum()*200\n",
    "costs=len(examples)*106\n",
    "np.sum(revenue-costs)/len(examples)"
   ]
  },
  {
   "cell_type": "code",
   "execution_count": 5,
   "id": "938af4f3-a651-4ba7-9ce7-86baf934fd2e",
   "metadata": {
    "tags": []
   },
   "outputs": [
    {
     "data": {
      "text/plain": [
       "2"
      ]
     },
     "execution_count": 5,
     "metadata": {},
     "output_type": "execute_result"
    }
   ],
   "source": [
    "(np.array(examples)>=85).sum()"
   ]
  },
  {
   "cell_type": "code",
   "execution_count": 6,
   "id": "c8042c72-8a6a-47dc-a56b-7afb376596e5",
   "metadata": {
    "tags": []
   },
   "outputs": [
    {
     "data": {
      "text/html": [
       "<div>\n",
       "<style scoped>\n",
       "    .dataframe tbody tr th:only-of-type {\n",
       "        vertical-align: middle;\n",
       "    }\n",
       "\n",
       "    .dataframe tbody tr th {\n",
       "        vertical-align: top;\n",
       "    }\n",
       "\n",
       "    .dataframe thead th {\n",
       "        text-align: right;\n",
       "    }\n",
       "</style>\n",
       "<table border=\"1\" class=\"dataframe\">\n",
       "  <thead>\n",
       "    <tr style=\"text-align: right;\">\n",
       "      <th></th>\n",
       "      <th>V1</th>\n",
       "      <th>V2</th>\n",
       "      <th>V3</th>\n",
       "      <th>V4</th>\n",
       "      <th>V5</th>\n",
       "      <th>V6</th>\n",
       "    </tr>\n",
       "  </thead>\n",
       "  <tbody>\n",
       "    <tr>\n",
       "      <th>0</th>\n",
       "      <td>83</td>\n",
       "      <td>117</td>\n",
       "      <td>101</td>\n",
       "      <td>105</td>\n",
       "      <td>79</td>\n",
       "      <td>57</td>\n",
       "    </tr>\n",
       "    <tr>\n",
       "      <th>1</th>\n",
       "      <td>92</td>\n",
       "      <td>109</td>\n",
       "      <td>93</td>\n",
       "      <td>119</td>\n",
       "      <td>97</td>\n",
       "      <td>92</td>\n",
       "    </tr>\n",
       "    <tr>\n",
       "      <th>2</th>\n",
       "      <td>92</td>\n",
       "      <td>114</td>\n",
       "      <td>92</td>\n",
       "      <td>116</td>\n",
       "      <td>103</td>\n",
       "      <td>104</td>\n",
       "    </tr>\n",
       "    <tr>\n",
       "      <th>3</th>\n",
       "      <td>46</td>\n",
       "      <td>104</td>\n",
       "      <td>86</td>\n",
       "      <td>102</td>\n",
       "      <td>79</td>\n",
       "      <td>77</td>\n",
       "    </tr>\n",
       "    <tr>\n",
       "      <th>4</th>\n",
       "      <td>67</td>\n",
       "      <td>87</td>\n",
       "      <td>67</td>\n",
       "      <td>116</td>\n",
       "      <td>92</td>\n",
       "      <td>100</td>\n",
       "    </tr>\n",
       "  </tbody>\n",
       "</table>\n",
       "</div>"
      ],
      "text/plain": [
       "   V1   V2   V3   V4   V5   V6\n",
       "0  83  117  101  105   79   57\n",
       "1  92  109   93  119   97   92\n",
       "2  92  114   92  116  103  104\n",
       "3  46  104   86  102   79   77\n",
       "4  67   87   67  116   92  100"
      ]
     },
     "execution_count": 6,
     "metadata": {},
     "output_type": "execute_result"
    }
   ],
   "source": [
    "#data\n",
    "df_factory=pd.read_table('data/factory.txt',sep=' ', names=['V1', 'V2', 'V3', 'V4', 'V5', 'V6'])\n",
    "df_factory"
   ]
  },
  {
   "cell_type": "code",
   "execution_count": 7,
   "id": "a4ebaa0e-4209-40ed-b3a5-52b685ccfa2a",
   "metadata": {
    "tags": []
   },
   "outputs": [],
   "source": [
    "data_factory={'y':df_factory.values.tolist(),\n",
    "             'N':df_factory.shape[0],\n",
    "             'J':df_factory.shape[1]}"
   ]
  },
  {
   "cell_type": "code",
   "execution_count": 8,
   "id": "2d04bc5c-0dab-4bcc-aa83-bb6be76c35d7",
   "metadata": {
    "tags": []
   },
   "outputs": [],
   "source": [
    "hierarhical_model=\"\"\"\n",
    "data {\n",
    "    int<lower=0> N; \n",
    "    int<lower=0> J; \n",
    "    vector[J] y[N]; \n",
    "    } \n",
    "    \n",
    "parameters { \n",
    "    vector[J] mu;\n",
    "    real<lower=0> sigma;\n",
    "    real alpha;\n",
    "    real<lower=0> tau;\n",
    "    }\n",
    "    \n",
    "model {\n",
    "     // hyperpriors\n",
    "      alpha ~ normal(100, 10);\n",
    "      tau ~ normal(0, 10);\n",
    "      // priors\n",
    "      mu ~ normal(alpha, tau);\n",
    "      sigma ~ inv_chi_square(5); \n",
    "     \n",
    "     // likelihood\n",
    "      for (j in 1:J) {\n",
    "              y[,j] ~ normal(mu[j], sigma);\n",
    "          }\n",
    "     } \n",
    "  \n",
    "generated quantities { \n",
    "    // Compute the predictive distribution for the sixth machine.\n",
    "      real y6pred;  // Leave for compatibility with earlier assignments.\n",
    "      vector[J] ypred;\n",
    "      real mu7pred;\n",
    "      real y7pred;\n",
    "      vector[J] log_lik[N];\n",
    "\n",
    "      y6pred = normal_rng(mu[6], sigma);\n",
    "      for (j in 1:J) {\n",
    "        ypred[j] = normal_rng(mu[j], sigma);\n",
    "      }\n",
    "\n",
    "      mu7pred = normal_rng(alpha, tau);\n",
    "      y7pred = normal_rng(mu7pred, sigma);\n",
    "\n",
    "      for (j in 1:J) {\n",
    "        for (n in 1:N) {\n",
    "          log_lik[n,j] = normal_lpdf(y[n,j] | mu[j], sigma);\n",
    "        }\n",
    "      }\n",
    "  }\n",
    "\"\"\""
   ]
  },
  {
   "cell_type": "code",
   "execution_count": 9,
   "id": "6dd6ef72-a562-4817-bbe8-27d03874e963",
   "metadata": {
    "tags": []
   },
   "outputs": [
    {
     "name": "stdout",
     "output_type": "stream",
     "text": [
      "\u001b[36mBuilding:\u001b[0m 0.1s\n",
      "\u001b[1A\u001b[0J\u001b[36mBuilding:\u001b[0m 0.2s\n",
      "\u001b[1A\u001b[0J\u001b[36mBuilding:\u001b[0m 0.4s\n",
      "\u001b[1A\u001b[0J\u001b[36mBuilding:\u001b[0m 0.5s\n",
      "\u001b[1A\u001b[0J\u001b[36mBuilding:\u001b[0m 0.6s\n",
      "\u001b[1A\u001b[0J\u001b[36mBuilding:\u001b[0m 0.7s\n",
      "\u001b[1A\u001b[0J\u001b[36mBuilding:\u001b[0m 0.8s\n",
      "\u001b[1A\u001b[0J\u001b[36mBuilding:\u001b[0m 0.9s\n",
      "\u001b[1A\u001b[0J\u001b[36mBuilding:\u001b[0m 1.0s\n",
      "\u001b[1A\u001b[0J\u001b[36mBuilding:\u001b[0m 1.1s\n",
      "\u001b[1A\u001b[0J\u001b[36mBuilding:\u001b[0m 1.2s\n",
      "\u001b[1A\u001b[0J\u001b[36mBuilding:\u001b[0m 1.3s\n",
      "\u001b[1A\u001b[0J\u001b[36mBuilding:\u001b[0m 1.4s\n",
      "\u001b[1A\u001b[0J\u001b[36mBuilding:\u001b[0m 1.5s\n",
      "\u001b[1A\u001b[0J\u001b[36mBuilding:\u001b[0m 1.6s\n",
      "\u001b[1A\u001b[0J\u001b[36mBuilding:\u001b[0m 1.7s\n",
      "\u001b[1A\u001b[0J\u001b[36mBuilding:\u001b[0m 1.8s\n",
      "\u001b[1A\u001b[0J\u001b[36mBuilding:\u001b[0m 1.9s\n",
      "\u001b[1A\u001b[0J\u001b[36mBuilding:\u001b[0m 2.0s\n",
      "\u001b[1A\u001b[0J\u001b[36mBuilding:\u001b[0m 2.1s\n",
      "\u001b[1A\u001b[0J\u001b[36mBuilding:\u001b[0m 2.2s\n",
      "\u001b[1A\u001b[0J\u001b[36mBuilding:\u001b[0m 2.3s\n",
      "\u001b[1A\u001b[0J\u001b[36mBuilding:\u001b[0m 2.4s\n",
      "\u001b[1A\u001b[0J\u001b[36mBuilding:\u001b[0m 2.5s\n",
      "\u001b[1A\u001b[0J\u001b[36mBuilding:\u001b[0m 2.6s\n",
      "\u001b[1A\u001b[0J\u001b[36mBuilding:\u001b[0m 2.7s\n",
      "\u001b[1A\u001b[0J\u001b[36mBuilding:\u001b[0m 2.9s\n",
      "\u001b[1A\u001b[0J\u001b[36mBuilding:\u001b[0m 3.0s\n",
      "\u001b[1A\u001b[0J\u001b[36mBuilding:\u001b[0m 3.1s\n",
      "\u001b[1A\u001b[0J\u001b[36mBuilding:\u001b[0m 3.2s\n",
      "\u001b[1A\u001b[0J\u001b[36mBuilding:\u001b[0m 3.3s\n",
      "\u001b[1A\u001b[0J\u001b[36mBuilding:\u001b[0m 3.4s\n",
      "\u001b[1A\u001b[0J\u001b[36mBuilding:\u001b[0m 3.5s\n",
      "\u001b[1A\u001b[0J\u001b[36mBuilding:\u001b[0m 3.6s\n",
      "\u001b[1A\u001b[0J\u001b[36mBuilding:\u001b[0m 3.7s\n",
      "\u001b[1A\u001b[0J\u001b[36mBuilding:\u001b[0m 3.8s\n",
      "\u001b[1A\u001b[0J\u001b[36mBuilding:\u001b[0m 3.9s\n",
      "\u001b[1A\u001b[0J\u001b[36mBuilding:\u001b[0m 4.0s\n",
      "\u001b[1A\u001b[0J\u001b[36mBuilding:\u001b[0m 4.1s\n",
      "\u001b[1A\u001b[0J\u001b[36mBuilding:\u001b[0m 4.2s\n",
      "\u001b[1A\u001b[0J\u001b[36mBuilding:\u001b[0m 4.3s\n",
      "\u001b[1A\u001b[0J\u001b[36mBuilding:\u001b[0m 4.4s\n",
      "\u001b[1A\u001b[0J\u001b[36mBuilding:\u001b[0m 4.5s\n",
      "\u001b[1A\u001b[0J\u001b[36mBuilding:\u001b[0m 4.6s\n",
      "\u001b[1A\u001b[0J\u001b[36mBuilding:\u001b[0m 4.7s\n",
      "\u001b[1A\u001b[0J\u001b[36mBuilding:\u001b[0m 4.8s\n",
      "\u001b[1A\u001b[0J\u001b[36mBuilding:\u001b[0m 4.9s\n",
      "\u001b[1A\u001b[0J\u001b[36mBuilding:\u001b[0m 5.0s\n",
      "\u001b[1A\u001b[0J\u001b[36mBuilding:\u001b[0m 5.1s\n",
      "\u001b[1A\u001b[0J\u001b[36mBuilding:\u001b[0m 5.2s\n",
      "\u001b[1A\u001b[0J\u001b[36mBuilding:\u001b[0m 5.3s\n",
      "\u001b[1A\u001b[0J\u001b[36mBuilding:\u001b[0m 5.5s\n",
      "\u001b[1A\u001b[0J\u001b[36mBuilding:\u001b[0m 5.6s\n",
      "\u001b[1A\u001b[0J\u001b[36mBuilding:\u001b[0m 5.7s\n",
      "\u001b[1A\u001b[0J\u001b[36mBuilding:\u001b[0m 5.8s\n",
      "\u001b[1A\u001b[0J\u001b[36mBuilding:\u001b[0m 5.9s\n",
      "\u001b[1A\u001b[0J\u001b[36mBuilding:\u001b[0m 6.0s\n",
      "\u001b[1A\u001b[0J\u001b[36mBuilding:\u001b[0m 6.1s\n",
      "\u001b[1A\u001b[0J\u001b[36mBuilding:\u001b[0m 6.2s\n",
      "\u001b[1A\u001b[0J\u001b[36mBuilding:\u001b[0m 6.3s\n",
      "\u001b[1A\u001b[0J\u001b[36mBuilding:\u001b[0m 6.4s\n",
      "\u001b[1A\u001b[0J\u001b[36mBuilding:\u001b[0m 6.5s\n",
      "\u001b[1A\u001b[0J\u001b[36mBuilding:\u001b[0m 6.6s\n",
      "\u001b[1A\u001b[0J\u001b[36mBuilding:\u001b[0m 6.7s\n",
      "\u001b[1A\u001b[0J\u001b[36mBuilding:\u001b[0m 6.8s\n",
      "\u001b[1A\u001b[0J\u001b[36mBuilding:\u001b[0m 6.9s\n",
      "\u001b[1A\u001b[0J\u001b[36mBuilding:\u001b[0m 7.0s\n",
      "\u001b[1A\u001b[0J\u001b[36mBuilding:\u001b[0m 7.1s\n",
      "\u001b[1A\u001b[0J\u001b[36mBuilding:\u001b[0m 7.2s\n",
      "\u001b[1A\u001b[0J\u001b[36mBuilding:\u001b[0m 7.3s\n",
      "\u001b[1A\u001b[0J\u001b[36mBuilding:\u001b[0m 7.4s\n",
      "\u001b[1A\u001b[0J\u001b[36mBuilding:\u001b[0m 7.5s\n",
      "\u001b[1A\u001b[0J\u001b[36mBuilding:\u001b[0m 7.6s\n",
      "\u001b[1A\u001b[0J\u001b[36mBuilding:\u001b[0m 7.8s\n",
      "\u001b[1A\u001b[0J\u001b[36mBuilding:\u001b[0m 7.9s\n"
     ]
    },
    {
     "name": "stderr",
     "output_type": "stream",
     "text": [
      "In file included from /opt/conda/lib/python3.10/site-packages/httpstan/include/stan/math/prim/fun.hpp:124,\n",
      "                 from /opt/conda/lib/python3.10/site-packages/httpstan/include/stan/math/rev/fun/multiply.hpp:7,\n",
      "                 from /opt/conda/lib/python3.10/site-packages/httpstan/include/stan/math/rev/fun/elt_multiply.hpp:9,\n",
      "                 from /opt/conda/lib/python3.10/site-packages/httpstan/include/stan/math/rev/fun.hpp:55,\n",
      "                 from /opt/conda/lib/python3.10/site-packages/httpstan/include/stan/math/rev.hpp:10,\n",
      "                 from /opt/conda/lib/python3.10/site-packages/httpstan/include/stan/math.hpp:19,\n",
      "                 from /opt/conda/lib/python3.10/site-packages/httpstan/include/stan/model/model_header.hpp:4,\n",
      "                 from /home/jovyan/.cache/httpstan/4.9.1/models/j4dg3v27/model_j4dg3v27.cpp:2:\n",
      "/opt/conda/lib/python3.10/site-packages/httpstan/include/stan/math/prim/fun/grad_2F1.hpp: In instantiation of ‘TupleT stan::math::internal::grad_2F1_impl(const T1&, const T2&, const T3&, const T_z&, double, int) [with bool calc_a1 = true; bool calc_a2 = true; bool calc_b1 = true; bool calc_z = true; T1 = double; T2 = double; T3 = double; T_z = double; ScalarT = double; TupleT = std::tuple<double, double, double, double>]’:\n",
      "/opt/conda/lib/python3.10/site-packages/httpstan/include/stan/math/prim/fun/grad_2F1.hpp:307:57:   required from ‘auto stan::math::grad_2F1(const T1&, const T2&, const T3&, const T_z&, double, int) [with bool ReturnSameT = true; T1 = double; T2 = double; T3 = double; T_z = double; stan::require_t<std::integral_constant<bool, __v> >* <anonymous> = 0]’\n",
      "/opt/conda/lib/python3.10/site-packages/httpstan/include/stan/math/prim/fun/grad_inc_beta.hpp:37:25:   required from here\n",
      "/opt/conda/lib/python3.10/site-packages/httpstan/include/stan/math/prim/fun/grad_2F1.hpp:192:12: warning: unused variable ‘pre_mult’ [-Wunused-variable]\n",
      "  192 |       auto pre_mult = a2 * pow(1 - z, -1 - a2);\n",
      "      |            ^~~~~~~~\n",
      "/opt/conda/lib/python3.10/site-packages/httpstan/include/stan/math/prim/fun/grad_2F1.hpp: In instantiation of ‘TupleT stan::math::internal::grad_2F1_impl(const T1&, const T2&, const T3&, const T_z&, double, int) [with bool calc_a1 = true; bool calc_a2 = true; bool calc_b1 = true; bool calc_z = true; T1 = stan::math::var_value<double>; T2 = stan::math::var_value<double>; T3 = stan::math::var_value<double>; T_z = stan::math::var_value<double>; ScalarT = stan::math::var_value<double>; TupleT = std::tuple<stan::math::var_value<double, void>, stan::math::var_value<double, void>, stan::math::var_value<double, void>, stan::math::var_value<double, void> >]’:\n",
      "/opt/conda/lib/python3.10/site-packages/httpstan/include/stan/math/prim/fun/grad_2F1.hpp:307:57:   required from ‘auto stan::math::grad_2F1(const T1&, const T2&, const T3&, const T_z&, double, int) [with bool ReturnSameT = true; T1 = stan::math::var_value<double>; T2 = stan::math::var_value<double>; T3 = stan::math::var_value<double>; T_z = stan::math::var_value<double>; stan::require_t<std::integral_constant<bool, __v> >* <anonymous> = 0]’\n",
      "/opt/conda/lib/python3.10/site-packages/httpstan/include/stan/math/rev/fun/grad_inc_beta.hpp:49:25:   required from here\n",
      "/opt/conda/lib/python3.10/site-packages/httpstan/include/stan/math/prim/fun/grad_2F1.hpp:192:12: warning: variable ‘pre_mult’ set but not used [-Wunused-but-set-variable]\n"
     ]
    },
    {
     "name": "stdout",
     "output_type": "stream",
     "text": [
      "\u001b[1A\u001b[0J\u001b[36mBuilding:\u001b[0m 8.0s\n",
      "\u001b[1A\u001b[0J\u001b[36mBuilding:\u001b[0m 8.1s\n"
     ]
    },
    {
     "name": "stderr",
     "output_type": "stream",
     "text": [
      "/home/jovyan/.cache/httpstan/4.9.1/models/j4dg3v27/model_j4dg3v27.cpp: In instantiation of ‘void model_j4dg3v27_namespace::model_j4dg3v27::transform_inits_impl(VecVar&, VecI&, VecVar&, std::ostream*) const [with VecVar = std::vector<double, std::allocator<double> >; VecI = std::vector<int>; stan::require_vector_t<T_y>* <anonymous> = 0; stan::require_vector_like_vt<std::is_integral, VecI>* <anonymous> = 0; std::ostream = std::basic_ostream<char>]’:\n",
      "/home/jovyan/.cache/httpstan/4.9.1/models/j4dg3v27/model_j4dg3v27.cpp:559:26:   required from here\n",
      "/home/jovyan/.cache/httpstan/4.9.1/models/j4dg3v27/model_j4dg3v27.cpp:335:11: warning: variable ‘pos__’ set but not used [-Wunused-but-set-variable]\n",
      "  335 |       int pos__ = std::numeric_limits<int>::min();\n",
      "      |           ^~~~~\n",
      "In file included from /opt/conda/lib/python3.10/site-packages/httpstan/include/stan/math/prim/fun.hpp:124,\n",
      "                 from /opt/conda/lib/python3.10/site-packages/httpstan/include/stan/math/rev/fun/multiply.hpp:7,\n",
      "                 from /opt/conda/lib/python3.10/site-packages/httpstan/include/stan/math/rev/fun/elt_multiply.hpp:9,\n",
      "                 from /opt/conda/lib/python3.10/site-packages/httpstan/include/stan/math/rev/fun.hpp:55,\n",
      "                 from /opt/conda/lib/python3.10/site-packages/httpstan/include/stan/math/rev.hpp:10,\n",
      "                 from /opt/conda/lib/python3.10/site-packages/httpstan/include/stan/math.hpp:19,\n",
      "                 from /opt/conda/lib/python3.10/site-packages/httpstan/include/stan/model/model_header.hpp:4,\n",
      "                 from /home/jovyan/.cache/httpstan/4.9.1/models/j4dg3v27/model_j4dg3v27.cpp:2:\n",
      "/opt/conda/lib/python3.10/site-packages/httpstan/include/stan/math/prim/fun/grad_2F1.hpp: In instantiation of ‘TupleT stan::math::internal::grad_2F1_impl_ab(const T1&, const T2&, const T3&, const T_z&, double, int) [with bool calc_a1 = true; bool calc_a2 = true; bool calc_b1 = true; T1 = double; T2 = double; T3 = double; T_z = double; ScalarT = double; TupleT = std::tuple<double, double, double>]’:\n",
      "/opt/conda/lib/python3.10/site-packages/httpstan/include/stan/math/prim/fun/grad_2F1.hpp:205:78:   required from ‘TupleT stan::math::internal::grad_2F1_impl(const T1&, const T2&, const T3&, const T_z&, double, int) [with bool calc_a1 = true; bool calc_a2 = true; bool calc_b1 = true; bool calc_z = true; T1 = double; T2 = double; T3 = double; T_z = double; ScalarT = double; TupleT = std::tuple<double, double, double, double>]’\n",
      "/opt/conda/lib/python3.10/site-packages/httpstan/include/stan/math/prim/fun/grad_2F1.hpp:307:57:   required from ‘auto stan::math::grad_2F1(const T1&, const T2&, const T3&, const T_z&, double, int) [with bool ReturnSameT = true; T1 = double; T2 = double; T3 = double; T_z = double; stan::require_t<std::integral_constant<bool, __v> >* <anonymous> = 0]’\n",
      "/opt/conda/lib/python3.10/site-packages/httpstan/include/stan/math/prim/fun/grad_inc_beta.hpp:37:25:   required from here\n",
      "/opt/conda/lib/python3.10/site-packages/httpstan/include/stan/math/prim/fun/grad_2F1.hpp:68:10: warning: unused variable ‘log_precision’ [-Wunused-variable]\n",
      "   68 |   double log_precision = log(precision);\n",
      "      |          ^~~~~~~~~~~~~\n",
      "/opt/conda/lib/python3.10/site-packages/httpstan/include/stan/math/prim/fun/grad_2F1.hpp: In instantiation of ‘TupleT stan::math::internal::grad_2F1_impl_ab(const T1&, const T2&, const T3&, const T_z&, double, int) [with bool calc_a1 = true; bool calc_a2 = true; bool calc_b1 = true; T1 = stan::math::var_value<double>; T2 = stan::math::var_value<double>; T3 = stan::math::var_value<double>; T_z = stan::math::var_value<double>; ScalarT = stan::math::var_value<double>; TupleT = std::tuple<stan::math::var_value<double, void>, stan::math::var_value<double, void>, stan::math::var_value<double, void> >]’:\n",
      "/opt/conda/lib/python3.10/site-packages/httpstan/include/stan/math/prim/fun/grad_2F1.hpp:205:78:   required from ‘TupleT stan::math::internal::grad_2F1_impl(const T1&, const T2&, const T3&, const T_z&, double, int) [with bool calc_a1 = true; bool calc_a2 = true; bool calc_b1 = true; bool calc_z = true; T1 = stan::math::var_value<double>; T2 = stan::math::var_value<double>; T3 = stan::math::var_value<double>; T_z = stan::math::var_value<double>; ScalarT = stan::math::var_value<double>; TupleT = std::tuple<stan::math::var_value<double, void>, stan::math::var_value<double, void>, stan::math::var_value<double, void>, stan::math::var_value<double, void> >]’\n",
      "/opt/conda/lib/python3.10/site-packages/httpstan/include/stan/math/prim/fun/grad_2F1.hpp:307:57:   required from ‘auto stan::math::grad_2F1(const T1&, const T2&, const T3&, const T_z&, double, int) [with bool ReturnSameT = true; T1 = stan::math::var_value<double>; T2 = stan::math::var_value<double>; T3 = stan::math::var_value<double>; T_z = stan::math::var_value<double>; stan::require_t<std::integral_constant<bool, __v> >* <anonymous> = 0]’\n",
      "/opt/conda/lib/python3.10/site-packages/httpstan/include/stan/math/rev/fun/grad_inc_beta.hpp:49:25:   required from here\n",
      "/opt/conda/lib/python3.10/site-packages/httpstan/include/stan/math/prim/fun/grad_2F1.hpp:68:10: warning: unused variable ‘log_precision’ [-Wunused-variable]\n"
     ]
    },
    {
     "name": "stdout",
     "output_type": "stream",
     "text": [
      "\u001b[1A\u001b[0J\u001b[36mBuilding:\u001b[0m 8.2s\n",
      "\u001b[1A\u001b[0J\u001b[36mBuilding:\u001b[0m 8.3s\n",
      "\u001b[1A\u001b[0J\u001b[36mBuilding:\u001b[0m 8.4s\n",
      "\u001b[1A\u001b[0J\u001b[36mBuilding:\u001b[0m 8.5s\n",
      "\u001b[1A\u001b[0J\u001b[36mBuilding:\u001b[0m 8.6s\n",
      "\u001b[1A\u001b[0J\u001b[36mBuilding:\u001b[0m 8.7s\n",
      "\u001b[1A\u001b[0J\u001b[36mBuilding:\u001b[0m 8.8s\n",
      "\u001b[1A\u001b[0J\u001b[36mBuilding:\u001b[0m 8.9s\n",
      "\u001b[1A\u001b[0J\u001b[36mBuilding:\u001b[0m 9.0s\n",
      "\u001b[1A\u001b[0J\u001b[36mBuilding:\u001b[0m 9.1s\n",
      "\u001b[1A\u001b[0J\u001b[36mBuilding:\u001b[0m 9.2s\n",
      "\u001b[1A\u001b[0J\u001b[36mBuilding:\u001b[0m 9.3s\n",
      "\u001b[1A\u001b[0J\u001b[36mBuilding:\u001b[0m 9.4s\n",
      "\u001b[1A\u001b[0J\u001b[36mBuilding:\u001b[0m 9.5s\n",
      "\u001b[1A\u001b[0J\u001b[36mBuilding:\u001b[0m 9.6s\n",
      "\u001b[1A\u001b[0J\u001b[36mBuilding:\u001b[0m 9.7s\n",
      "\u001b[1A\u001b[0J\u001b[36mBuilding:\u001b[0m 9.8s\n",
      "\u001b[1A\u001b[0J\u001b[36mBuilding:\u001b[0m 10.0s\n",
      "\u001b[1A\u001b[0J\u001b[36mBuilding:\u001b[0m 10.1s\n",
      "\u001b[1A\u001b[0J\u001b[36mBuilding:\u001b[0m 10.2s\n",
      "\u001b[1A\u001b[0J\u001b[36mBuilding:\u001b[0m 10.3s\n",
      "\u001b[1A\u001b[0J\u001b[36mBuilding:\u001b[0m 10.4s\n",
      "\u001b[1A\u001b[0J\u001b[36mBuilding:\u001b[0m 10.5s\n",
      "\u001b[1A\u001b[0J\u001b[36mBuilding:\u001b[0m 10.6s\n",
      "\u001b[1A\u001b[0J\u001b[36mBuilding:\u001b[0m 10.7s\n",
      "\u001b[1A\u001b[0J\u001b[36mBuilding:\u001b[0m 10.8s\n",
      "\u001b[1A\u001b[0J\u001b[36mBuilding:\u001b[0m 10.9s\n",
      "\u001b[1A\u001b[0J\u001b[36mBuilding:\u001b[0m 11.0s\n",
      "\u001b[1A\u001b[0J\u001b[36mBuilding:\u001b[0m 11.1s\n",
      "\u001b[1A\u001b[0J\u001b[36mBuilding:\u001b[0m 11.2s\n",
      "\u001b[1A\u001b[0J\u001b[36mBuilding:\u001b[0m 11.3s\n",
      "\u001b[1A\u001b[0J\u001b[36mBuilding:\u001b[0m 11.4s\n",
      "\u001b[1A\u001b[0J\u001b[36mBuilding:\u001b[0m 11.5s\n",
      "\u001b[1A\u001b[0J\u001b[36mBuilding:\u001b[0m 11.6s\n",
      "\u001b[1A\u001b[0J\u001b[36mBuilding:\u001b[0m 11.7s\n",
      "\u001b[1A\u001b[0J\u001b[36mBuilding:\u001b[0m 11.8s\n",
      "\u001b[1A\u001b[0J\u001b[36mBuilding:\u001b[0m 11.9s\n",
      "\u001b[1A\u001b[0J\u001b[36mBuilding:\u001b[0m 12.0s\n",
      "\u001b[1A\u001b[0J\u001b[36mBuilding:\u001b[0m 12.1s\n",
      "\u001b[1A\u001b[0J\u001b[36mBuilding:\u001b[0m 12.2s\n",
      "\u001b[1A\u001b[0J\u001b[36mBuilding:\u001b[0m 12.3s\n",
      "\u001b[1A\u001b[0J\u001b[36mBuilding:\u001b[0m 12.5s\n",
      "\u001b[1A\u001b[0J\u001b[36mBuilding:\u001b[0m 12.6s\n",
      "\u001b[1A\u001b[0J\u001b[36mBuilding:\u001b[0m 12.7s\n",
      "\u001b[1A\u001b[0J\u001b[36mBuilding:\u001b[0m 12.8s\n",
      "\u001b[1A\u001b[0J\u001b[36mBuilding:\u001b[0m 12.9s\n",
      "\u001b[1A\u001b[0J\u001b[36mBuilding:\u001b[0m 13.0s\n",
      "\u001b[1A\u001b[0J\u001b[36mBuilding:\u001b[0m 13.1s\n",
      "\u001b[1A\u001b[0J\u001b[36mBuilding:\u001b[0m 13.2s\n",
      "\u001b[1A\u001b[0J\u001b[36mBuilding:\u001b[0m 13.3s\n",
      "\u001b[1A\u001b[0J\u001b[36mBuilding:\u001b[0m 13.4s\n",
      "\u001b[1A\u001b[0J\u001b[36mBuilding:\u001b[0m 13.5s\n",
      "\u001b[1A\u001b[0J\u001b[36mBuilding:\u001b[0m 13.6s\n",
      "\u001b[1A\u001b[0J\u001b[36mBuilding:\u001b[0m 13.7s\n",
      "\u001b[1A\u001b[0J\u001b[36mBuilding:\u001b[0m 13.8s\n",
      "\u001b[1A\u001b[0J\u001b[36mBuilding:\u001b[0m 13.9s\n",
      "\u001b[1A\u001b[0J\u001b[36mBuilding:\u001b[0m 14.0s\n",
      "\u001b[1A\u001b[0J\u001b[36mBuilding:\u001b[0m 14.1s\n",
      "\u001b[1A\u001b[0J\u001b[36mBuilding:\u001b[0m 14.2s\n",
      "\u001b[1A\u001b[0J\u001b[36mBuilding:\u001b[0m 14.3s\n",
      "\u001b[1A\u001b[0J\u001b[36mBuilding:\u001b[0m 14.4s\n",
      "\u001b[1A\u001b[0J\u001b[36mBuilding:\u001b[0m 14.5s\n",
      "\u001b[1A\u001b[0J\u001b[36mBuilding:\u001b[0m 14.6s\n",
      "\u001b[1A\u001b[0J\u001b[36mBuilding:\u001b[0m 14.7s\n",
      "\u001b[1A\u001b[0J\u001b[36mBuilding:\u001b[0m 14.9s\n",
      "\u001b[1A\u001b[0J\u001b[36mBuilding:\u001b[0m 15.0s\n",
      "\u001b[1A\u001b[0J\u001b[36mBuilding:\u001b[0m 15.1s\n",
      "\u001b[1A\u001b[0J\u001b[36mBuilding:\u001b[0m 15.2s\n",
      "\u001b[1A\u001b[0J\u001b[36mBuilding:\u001b[0m 15.3s\n",
      "\u001b[1A\u001b[0J\u001b[36mBuilding:\u001b[0m 15.4s\n",
      "\u001b[1A\u001b[0J\u001b[36mBuilding:\u001b[0m 15.5s\n",
      "\u001b[1A\u001b[0J\u001b[36mBuilding:\u001b[0m 15.6s\n",
      "\u001b[1A\u001b[0J\u001b[36mBuilding:\u001b[0m 15.7s\n",
      "\u001b[1A\u001b[0J"
     ]
    },
    {
     "name": "stderr",
     "output_type": "stream",
     "text": [
      "\u001b[32mBuilding:\u001b[0m 15.7s, done.\n",
      "\u001b[36mMessages from \u001b[0m\u001b[36;1mstanc\u001b[0m\u001b[36m:\u001b[0m\n",
      "Warning in '/tmp/httpstan_mie2hb0t/model_j4dg3v27.stan', line 5, column 4: Declaration\n",
      "    of arrays by placing brackets after a variable name is deprecated and\n",
      "    will be removed in Stan 2.32.0. Instead use the array keyword before the\n",
      "    type. This can be changed automatically using the auto-format flag to\n",
      "    stanc\n",
      "Warning in '/tmp/httpstan_mie2hb0t/model_j4dg3v27.stan', line 35, column 6: Declaration\n",
      "    of arrays by placing brackets after a variable name is deprecated and\n",
      "    will be removed in Stan 2.32.0. Instead use the array keyword before the\n",
      "    type. This can be changed automatically using the auto-format flag to\n",
      "    stanc\n",
      "Warning in '/tmp/httpstan_mie2hb0t/model_j4dg3v27.stan', line 17, column 21: Argument\n",
      "    100 suggests there may be parameters that are not unit scale; consider\n",
      "    rescaling with a multiplier (see manual section 22.12).\n"
     ]
    }
   ],
   "source": [
    "model_f_hierach=stan.build(program_code=hierarhical_model, data=data_factory, random_seed=234)"
   ]
  },
  {
   "cell_type": "code",
   "execution_count": 10,
   "id": "1c505ca8-9fda-4072-85be-39320ed72d1f",
   "metadata": {
    "tags": []
   },
   "outputs": [
    {
     "name": "stderr",
     "output_type": "stream",
     "text": [
      "\u001b[36mSampling:\u001b[0m   0%\n",
      "\u001b[1A\u001b[0J\u001b[36mSampling:\u001b[0m  25% (2000/8000)\n",
      "\u001b[1A\u001b[0J\u001b[36mSampling:\u001b[0m  50% (4000/8000)\n",
      "\u001b[1A\u001b[0J\u001b[36mSampling:\u001b[0m  75% (6000/8000)\n",
      "\u001b[1A\u001b[0J\u001b[36mSampling:\u001b[0m 100% (8000/8000)\n",
      "\u001b[1A\u001b[0J\u001b[32mSampling:\u001b[0m 100% (8000/8000), done.\n",
      "\u001b[36mMessages received during sampling:\u001b[0m\n",
      "  Gradient evaluation took 1.5e-05 seconds\n",
      "  1000 transitions using 10 leapfrog steps per transition would take 0.15 seconds.\n",
      "  Adjust your expectations accordingly!\n",
      "  Gradient evaluation took 1.4e-05 seconds\n",
      "  1000 transitions using 10 leapfrog steps per transition would take 0.14 seconds.\n",
      "  Adjust your expectations accordingly!\n",
      "  Gradient evaluation took 1.5e-05 seconds\n",
      "  1000 transitions using 10 leapfrog steps per transition would take 0.15 seconds.\n",
      "  Adjust your expectations accordingly!\n",
      "  Gradient evaluation took 1.5e-05 seconds\n",
      "  1000 transitions using 10 leapfrog steps per transition would take 0.15 seconds.\n",
      "  Adjust your expectations accordingly!\n"
     ]
    }
   ],
   "source": [
    "fit_f_hierarch = model_f_hierach.sample()"
   ]
  },
  {
   "cell_type": "code",
   "execution_count": 11,
   "id": "ae751950-55d0-4ccd-9c81-2496f36c83ce",
   "metadata": {
    "tags": []
   },
   "outputs": [
    {
     "data": {
      "text/plain": [
       "(4000, 55)"
      ]
     },
     "execution_count": 11,
     "metadata": {},
     "output_type": "execute_result"
    }
   ],
   "source": [
    "df_fit_hierarch=fit_f_hierarch.to_frame()\n",
    "df_fit_hierarch.shape"
   ]
  },
  {
   "cell_type": "code",
   "execution_count": 32,
   "id": "319d8058-07a9-4d03-8836-4249083003ee",
   "metadata": {
    "tags": []
   },
   "outputs": [
    {
     "data": {
      "text/plain": [
       "Index(['lp__', 'accept_stat__', 'stepsize__', 'treedepth__', 'n_leapfrog__',\n",
       "       'divergent__', 'energy__', 'mu.1', 'mu.2', 'mu.3', 'mu.4', 'mu.5',\n",
       "       'mu.6', 'sigma', 'alpha', 'tau', 'y6pred', 'ypred.1', 'ypred.2',\n",
       "       'ypred.3', 'ypred.4', 'ypred.5', 'ypred.6', 'mu7pred', 'y7pred',\n",
       "       'log_lik.1.1', 'log_lik.2.1', 'log_lik.3.1', 'log_lik.4.1',\n",
       "       'log_lik.5.1', 'log_lik.1.2', 'log_lik.2.2', 'log_lik.3.2',\n",
       "       'log_lik.4.2', 'log_lik.5.2', 'log_lik.1.3', 'log_lik.2.3',\n",
       "       'log_lik.3.3', 'log_lik.4.3', 'log_lik.5.3', 'log_lik.1.4',\n",
       "       'log_lik.2.4', 'log_lik.3.4', 'log_lik.4.4', 'log_lik.5.4',\n",
       "       'log_lik.1.5', 'log_lik.2.5', 'log_lik.3.5', 'log_lik.4.5',\n",
       "       'log_lik.5.5', 'log_lik.1.6', 'log_lik.2.6', 'log_lik.3.6',\n",
       "       'log_lik.4.6', 'log_lik.5.6'],\n",
       "      dtype='object', name='parameters')"
      ]
     },
     "execution_count": 32,
     "metadata": {},
     "output_type": "execute_result"
    }
   ],
   "source": [
    "df_fit_hierarch.columns"
   ]
  },
  {
   "cell_type": "code",
   "execution_count": 13,
   "id": "1b47fd3e-ebe8-4c6a-9228-4aed2a867ac0",
   "metadata": {
    "tags": []
   },
   "outputs": [
    {
     "data": {
      "text/html": [
       "<div>\n",
       "<style scoped>\n",
       "    .dataframe tbody tr th:only-of-type {\n",
       "        vertical-align: middle;\n",
       "    }\n",
       "\n",
       "    .dataframe tbody tr th {\n",
       "        vertical-align: top;\n",
       "    }\n",
       "\n",
       "    .dataframe thead th {\n",
       "        text-align: right;\n",
       "    }\n",
       "</style>\n",
       "<table border=\"1\" class=\"dataframe\">\n",
       "  <thead>\n",
       "    <tr style=\"text-align: right;\">\n",
       "      <th></th>\n",
       "      <th>mean</th>\n",
       "      <th>sd</th>\n",
       "      <th>hdi_3%</th>\n",
       "      <th>hdi_97%</th>\n",
       "      <th>mcse_mean</th>\n",
       "      <th>mcse_sd</th>\n",
       "      <th>ess_bulk</th>\n",
       "      <th>ess_tail</th>\n",
       "      <th>r_hat</th>\n",
       "    </tr>\n",
       "  </thead>\n",
       "  <tbody>\n",
       "    <tr>\n",
       "      <th>mu[0]</th>\n",
       "      <td>81.639</td>\n",
       "      <td>6.456</td>\n",
       "      <td>71.168</td>\n",
       "      <td>96.300</td>\n",
       "      <td>0.317</td>\n",
       "      <td>0.240</td>\n",
       "      <td>485.0</td>\n",
       "      <td>102.0</td>\n",
       "      <td>1.01</td>\n",
       "    </tr>\n",
       "    <tr>\n",
       "      <th>mu[1]</th>\n",
       "      <td>102.623</td>\n",
       "      <td>5.869</td>\n",
       "      <td>91.863</td>\n",
       "      <td>113.639</td>\n",
       "      <td>0.104</td>\n",
       "      <td>0.074</td>\n",
       "      <td>3164.0</td>\n",
       "      <td>2665.0</td>\n",
       "      <td>1.00</td>\n",
       "    </tr>\n",
       "    <tr>\n",
       "      <th>mu[2]</th>\n",
       "      <td>89.874</td>\n",
       "      <td>5.530</td>\n",
       "      <td>80.087</td>\n",
       "      <td>100.299</td>\n",
       "      <td>0.131</td>\n",
       "      <td>0.096</td>\n",
       "      <td>1778.0</td>\n",
       "      <td>1502.0</td>\n",
       "      <td>1.00</td>\n",
       "    </tr>\n",
       "    <tr>\n",
       "      <th>mu[3]</th>\n",
       "      <td>106.346</td>\n",
       "      <td>6.273</td>\n",
       "      <td>94.845</td>\n",
       "      <td>117.975</td>\n",
       "      <td>0.145</td>\n",
       "      <td>0.102</td>\n",
       "      <td>1942.0</td>\n",
       "      <td>2626.0</td>\n",
       "      <td>1.00</td>\n",
       "    </tr>\n",
       "    <tr>\n",
       "      <th>mu[4]</th>\n",
       "      <td>91.323</td>\n",
       "      <td>5.614</td>\n",
       "      <td>81.057</td>\n",
       "      <td>102.623</td>\n",
       "      <td>0.126</td>\n",
       "      <td>0.091</td>\n",
       "      <td>1932.0</td>\n",
       "      <td>2862.0</td>\n",
       "      <td>1.00</td>\n",
       "    </tr>\n",
       "    <tr>\n",
       "      <th>mu[5]</th>\n",
       "      <td>88.682</td>\n",
       "      <td>5.818</td>\n",
       "      <td>77.931</td>\n",
       "      <td>99.452</td>\n",
       "      <td>0.146</td>\n",
       "      <td>0.107</td>\n",
       "      <td>1492.0</td>\n",
       "      <td>1679.0</td>\n",
       "      <td>1.00</td>\n",
       "    </tr>\n",
       "    <tr>\n",
       "      <th>sigma</th>\n",
       "      <td>14.329</td>\n",
       "      <td>2.071</td>\n",
       "      <td>10.753</td>\n",
       "      <td>18.251</td>\n",
       "      <td>0.045</td>\n",
       "      <td>0.033</td>\n",
       "      <td>2249.0</td>\n",
       "      <td>2188.0</td>\n",
       "      <td>1.00</td>\n",
       "    </tr>\n",
       "    <tr>\n",
       "      <th>alpha</th>\n",
       "      <td>94.586</td>\n",
       "      <td>4.666</td>\n",
       "      <td>85.707</td>\n",
       "      <td>103.170</td>\n",
       "      <td>0.081</td>\n",
       "      <td>0.057</td>\n",
       "      <td>3353.0</td>\n",
       "      <td>3168.0</td>\n",
       "      <td>1.00</td>\n",
       "    </tr>\n",
       "    <tr>\n",
       "      <th>tau</th>\n",
       "      <td>11.006</td>\n",
       "      <td>4.201</td>\n",
       "      <td>3.826</td>\n",
       "      <td>19.824</td>\n",
       "      <td>0.184</td>\n",
       "      <td>0.130</td>\n",
       "      <td>400.0</td>\n",
       "      <td>84.0</td>\n",
       "      <td>1.01</td>\n",
       "    </tr>\n",
       "    <tr>\n",
       "      <th>y6pred</th>\n",
       "      <td>89.358</td>\n",
       "      <td>16.044</td>\n",
       "      <td>57.571</td>\n",
       "      <td>117.983</td>\n",
       "      <td>0.253</td>\n",
       "      <td>0.179</td>\n",
       "      <td>3999.0</td>\n",
       "      <td>3929.0</td>\n",
       "      <td>1.00</td>\n",
       "    </tr>\n",
       "    <tr>\n",
       "      <th>ypred[0]</th>\n",
       "      <td>81.643</td>\n",
       "      <td>15.544</td>\n",
       "      <td>52.085</td>\n",
       "      <td>110.658</td>\n",
       "      <td>0.333</td>\n",
       "      <td>0.250</td>\n",
       "      <td>2220.0</td>\n",
       "      <td>3149.0</td>\n",
       "      <td>1.00</td>\n",
       "    </tr>\n",
       "    <tr>\n",
       "      <th>ypred[1]</th>\n",
       "      <td>102.348</td>\n",
       "      <td>15.668</td>\n",
       "      <td>70.664</td>\n",
       "      <td>129.449</td>\n",
       "      <td>0.261</td>\n",
       "      <td>0.185</td>\n",
       "      <td>3600.0</td>\n",
       "      <td>3571.0</td>\n",
       "      <td>1.00</td>\n",
       "    </tr>\n",
       "    <tr>\n",
       "      <th>ypred[2]</th>\n",
       "      <td>90.433</td>\n",
       "      <td>15.277</td>\n",
       "      <td>62.757</td>\n",
       "      <td>118.551</td>\n",
       "      <td>0.248</td>\n",
       "      <td>0.178</td>\n",
       "      <td>3818.0</td>\n",
       "      <td>3666.0</td>\n",
       "      <td>1.00</td>\n",
       "    </tr>\n",
       "    <tr>\n",
       "      <th>ypred[3]</th>\n",
       "      <td>106.155</td>\n",
       "      <td>15.758</td>\n",
       "      <td>75.813</td>\n",
       "      <td>135.711</td>\n",
       "      <td>0.253</td>\n",
       "      <td>0.179</td>\n",
       "      <td>3894.0</td>\n",
       "      <td>3640.0</td>\n",
       "      <td>1.00</td>\n",
       "    </tr>\n",
       "    <tr>\n",
       "      <th>ypred[4]</th>\n",
       "      <td>91.370</td>\n",
       "      <td>15.720</td>\n",
       "      <td>62.344</td>\n",
       "      <td>121.671</td>\n",
       "      <td>0.259</td>\n",
       "      <td>0.183</td>\n",
       "      <td>3705.0</td>\n",
       "      <td>3802.0</td>\n",
       "      <td>1.00</td>\n",
       "    </tr>\n",
       "    <tr>\n",
       "      <th>ypred[5]</th>\n",
       "      <td>88.784</td>\n",
       "      <td>15.981</td>\n",
       "      <td>58.781</td>\n",
       "      <td>117.928</td>\n",
       "      <td>0.258</td>\n",
       "      <td>0.182</td>\n",
       "      <td>3848.0</td>\n",
       "      <td>3632.0</td>\n",
       "      <td>1.00</td>\n",
       "    </tr>\n",
       "    <tr>\n",
       "      <th>mu7pred</th>\n",
       "      <td>94.478</td>\n",
       "      <td>12.700</td>\n",
       "      <td>70.923</td>\n",
       "      <td>119.688</td>\n",
       "      <td>0.193</td>\n",
       "      <td>0.138</td>\n",
       "      <td>4293.0</td>\n",
       "      <td>3790.0</td>\n",
       "      <td>1.00</td>\n",
       "    </tr>\n",
       "    <tr>\n",
       "      <th>y7pred</th>\n",
       "      <td>94.356</td>\n",
       "      <td>19.298</td>\n",
       "      <td>56.491</td>\n",
       "      <td>129.433</td>\n",
       "      <td>0.291</td>\n",
       "      <td>0.207</td>\n",
       "      <td>4403.0</td>\n",
       "      <td>3843.0</td>\n",
       "      <td>1.00</td>\n",
       "    </tr>\n",
       "  </tbody>\n",
       "</table>\n",
       "</div>"
      ],
      "text/plain": [
       "             mean      sd  hdi_3%  hdi_97%  mcse_mean  mcse_sd  ess_bulk  \\\n",
       "mu[0]      81.639   6.456  71.168   96.300      0.317    0.240     485.0   \n",
       "mu[1]     102.623   5.869  91.863  113.639      0.104    0.074    3164.0   \n",
       "mu[2]      89.874   5.530  80.087  100.299      0.131    0.096    1778.0   \n",
       "mu[3]     106.346   6.273  94.845  117.975      0.145    0.102    1942.0   \n",
       "mu[4]      91.323   5.614  81.057  102.623      0.126    0.091    1932.0   \n",
       "mu[5]      88.682   5.818  77.931   99.452      0.146    0.107    1492.0   \n",
       "sigma      14.329   2.071  10.753   18.251      0.045    0.033    2249.0   \n",
       "alpha      94.586   4.666  85.707  103.170      0.081    0.057    3353.0   \n",
       "tau        11.006   4.201   3.826   19.824      0.184    0.130     400.0   \n",
       "y6pred     89.358  16.044  57.571  117.983      0.253    0.179    3999.0   \n",
       "ypred[0]   81.643  15.544  52.085  110.658      0.333    0.250    2220.0   \n",
       "ypred[1]  102.348  15.668  70.664  129.449      0.261    0.185    3600.0   \n",
       "ypred[2]   90.433  15.277  62.757  118.551      0.248    0.178    3818.0   \n",
       "ypred[3]  106.155  15.758  75.813  135.711      0.253    0.179    3894.0   \n",
       "ypred[4]   91.370  15.720  62.344  121.671      0.259    0.183    3705.0   \n",
       "ypred[5]   88.784  15.981  58.781  117.928      0.258    0.182    3848.0   \n",
       "mu7pred    94.478  12.700  70.923  119.688      0.193    0.138    4293.0   \n",
       "y7pred     94.356  19.298  56.491  129.433      0.291    0.207    4403.0   \n",
       "\n",
       "          ess_tail  r_hat  \n",
       "mu[0]        102.0   1.01  \n",
       "mu[1]       2665.0   1.00  \n",
       "mu[2]       1502.0   1.00  \n",
       "mu[3]       2626.0   1.00  \n",
       "mu[4]       2862.0   1.00  \n",
       "mu[5]       1679.0   1.00  \n",
       "sigma       2188.0   1.00  \n",
       "alpha       3168.0   1.00  \n",
       "tau           84.0   1.01  \n",
       "y6pred      3929.0   1.00  \n",
       "ypred[0]    3149.0   1.00  \n",
       "ypred[1]    3571.0   1.00  \n",
       "ypred[2]    3666.0   1.00  \n",
       "ypred[3]    3640.0   1.00  \n",
       "ypred[4]    3802.0   1.00  \n",
       "ypred[5]    3632.0   1.00  \n",
       "mu7pred     3790.0   1.00  \n",
       "y7pred      3843.0   1.00  "
      ]
     },
     "execution_count": 13,
     "metadata": {},
     "output_type": "execute_result"
    }
   ],
   "source": [
    "az.summary(fit_f_hierarch)"
   ]
  },
  {
   "cell_type": "code",
   "execution_count": 33,
   "id": "29f1e559-af93-41af-9811-48ce7807d240",
   "metadata": {
    "tags": []
   },
   "outputs": [],
   "source": [
    "columns=['ypred.1', 'ypred.2','ypred.3','ypred.4','ypred.5', 'ypred.6', 'y7pred']\n",
    "cost=106\n",
    "price=200\n",
    "results={}\n",
    "for col in columns:\n",
    "    costs=np.array([cost]*len(df_fit_hierarch[col]))\n",
    "    revenues=np.where(df_fit_hierarch[col]>=85, price, 0)\n",
    "    profit_loss=revenues-costs\n",
    "    results[col]=profit_loss"
   ]
  },
  {
   "cell_type": "code",
   "execution_count": 34,
   "id": "2f9c5dae-cc69-44be-9e11-8632b6f686b9",
   "metadata": {
    "tags": []
   },
   "outputs": [
    {
     "data": {
      "text/plain": [
       "<Axes: >"
      ]
     },
     "execution_count": 34,
     "metadata": {},
     "output_type": "execute_result"
    },
    {
     "data": {
      "image/png": "[encoded data removed]",
      "text/plain": [
       "<Figure size 700x540 with 1 Axes>"
      ]
     },
     "metadata": {},
     "output_type": "display_data"
    }
   ],
   "source": [
    "pd.DataFrame(results).mean(axis=0).plot(kind='bar')"
   ]
  },
  {
   "cell_type": "code",
   "execution_count": 36,
   "id": "8b71ff7f-7e58-4b22-8520-f8ccafe75b55",
   "metadata": {
    "tags": []
   },
   "outputs": [
    {
     "data": {
      "text/plain": [
       "<seaborn.axisgrid.FacetGrid at 0x7fd85590d330>"
      ]
     },
     "execution_count": 36,
     "metadata": {},
     "output_type": "execute_result"
    },
    {
     "data": {
      "image/png": "[encoded data removed]",
      "text/plain": [
       "<Figure size 1200x600 with 7 Axes>"
      ]
     },
     "metadata": {},
     "output_type": "display_data"
    }
   ],
   "source": [
    "sns.displot(data=df_fit_hierarch[columns].melt(), kind='kde', x='value', col='parameters', col_wrap=4, height=3)"
   ]
  },
  {
   "cell_type": "markdown",
   "id": "9db40f2c-ea64-4fde-8238-97a98899eed4",
   "metadata": {},
   "source": [
    "2. Rank the machines based on the expected utilities. In other words order the machines from worst to best: X(worst), X, X, X, X, X(best), where each X should be a number of a machine. Also briefly explain what the utility values tell about the quality of these machines. E.g. Tell which machines are profitable and which are not (if any)."
   ]
  },
  {
   "cell_type": "code",
   "execution_count": 38,
   "id": "d1c85c47-a495-41cc-9e59-d47c8a7602b2",
   "metadata": {
    "tags": []
   },
   "outputs": [
    {
     "data": {
      "text/plain": [
       "<Axes: >"
      ]
     },
     "execution_count": 38,
     "metadata": {},
     "output_type": "execute_result"
    },
    {
     "data": {
      "image/png": "[encoded data removed]",
      "text/plain": [
       "<Figure size 700x540 with 1 Axes>"
      ]
     },
     "metadata": {},
     "output_type": "display_data"
    }
   ],
   "source": [
    "pd.DataFrame(results).mean(axis=0).sort_values().plot(kind='bar')"
   ]
  },
  {
   "cell_type": "markdown",
   "id": "f6d5bce3-1cf6-4267-bb1c-99e1f4aeb857",
   "metadata": {},
   "source": [
    "3. Compute and report the expected utility of the products of a new (7th) machine."
   ]
  },
  {
   "cell_type": "code",
   "execution_count": 39,
   "id": "c3e55efa-97e1-450e-9368-d13e44f6b093",
   "metadata": {
    "tags": []
   },
   "outputs": [
    {
     "data": {
      "text/plain": [
       "ypred.1   -24.30\n",
       "ypred.2    67.60\n",
       "ypred.3    21.15\n",
       "ypred.4    76.45\n",
       "ypred.5    26.70\n",
       "ypred.6    13.45\n",
       "y7pred     31.15\n",
       "dtype: float64"
      ]
     },
     "execution_count": 39,
     "metadata": {},
     "output_type": "execute_result"
    }
   ],
   "source": [
    "pd.DataFrame(results).mean(axis=0)"
   ]
  },
  {
   "cell_type": "markdown",
   "id": "acd10394-1eab-45fd-9599-501d050c58be",
   "metadata": {},
   "source": [
    "around 53 units"
   ]
  },
  {
   "cell_type": "markdown",
   "id": "3980b60c-61c9-4279-9e1a-ed0dd6d94987",
   "metadata": {},
   "source": [
    "4. Based on your analysis, discuss briefly whether the company owner should buy a new (7th) machine."
   ]
  },
  {
   "cell_type": "markdown",
   "id": "c36b967c-6af1-4bc1-af8f-79f410af6388",
   "metadata": {},
   "source": [
    "7th machine is probably generating profit and could be used to replace machne 1 which produces loss"
   ]
  },
  {
   "cell_type": "markdown",
   "id": "4d91cc2a-49fd-4d45-ac14-31a29cc41e92",
   "metadata": {},
   "source": [
    "5. As usual, remember to include the source code for both Stan and R (or Python)."
   ]
  },
  {
   "cell_type": "code",
   "execution_count": null,
   "id": "2795d1e3-63b3-4610-a0a3-9331e190466f",
   "metadata": {},
   "outputs": [],
   "source": []
  }
 ],
 "metadata": {
  "kernelspec": {
   "display_name": "Python 3 (ipykernel)",
   "language": "python",
   "name": "python3"
  },
  "language_info": {
   "codemirror_mode": {
    "name": "ipython",
    "version": 3
   },
   "file_extension": ".py",
   "mimetype": "text/x-python",
   "name": "python",
   "nbconvert_exporter": "python",
   "pygments_lexer": "ipython3",
   "version": "3.10.9"
  }
 },
 "nbformat": 4,
 "nbformat_minor": 5
}
