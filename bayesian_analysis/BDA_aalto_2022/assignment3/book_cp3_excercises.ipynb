{
 "cells": [
  {
   "cell_type": "code",
   "execution_count": 63,
   "id": "2ae2d29b",
   "metadata": {},
   "outputs": [],
   "source": [
    "import numpy as np\n",
    "import pandas as pd\n",
    "from scipy import stats\n",
    "import matplotlib.pyplot as plt\n",
    "\n",
    "import os, sys\n",
    "util_path = os.path.abspath(os.path.join(os.path.pardir, 'utilities_and_data'))\n",
    "if util_path not in sys.path and os.path.exists(util_path):\n",
    "    sys.path.insert(0, util_path)\n",
    "\n",
    "# import from utilities\n",
    "import sinvchi2"
   ]
  },
  {
   "cell_type": "markdown",
   "id": "6f5ad5c8",
   "metadata": {},
   "source": [
    "## Excersice 2"
   ]
  },
  {
   "cell_type": "markdown",
   "id": "d7f059db",
   "metadata": {},
   "source": [
    "Comparison of two multinomial observations: on September 25, 1988, the evening of a presidential campaign debate, ABC News conducted a survey of registered voters in the United States; 639 persons were polled before the debate, and 639different persons were polled after. The results are displayed in Table 3.2. Assume the surveys are independent simple random samples from the population of registered voters. Model the data with two different multinomial distributions. For j =1, 2, let αj be the proportion of voters who preferred Bush, out of those who had a preference for either Bush or Dukakis at the time of survey j. Plot a histogram of the posterior density for α2 − α1. What is the posterior probability that there was a shift toward Bush?"
   ]
  },
  {
   "cell_type": "code",
   "execution_count": 13,
   "id": "9d7aedc6",
   "metadata": {},
   "outputs": [],
   "source": [
    "pre_debate=[294, 307, 38]\n",
    "post_debate=[288, 332, 19]\n",
    "labels=['Bush', 'Dukakis', 'No opinion/other']\n",
    "df=pd.DataFrame({'pre_debate':pre_debate,\n",
    "                'post_debate': post_debate})\n",
    "df=df.T\n",
    "df.columns=labels\n",
    "df['sum']=df.sum(axis=1)"
   ]
  },
  {
   "cell_type": "code",
   "execution_count": 14,
   "id": "665d8d65",
   "metadata": {},
   "outputs": [
    {
     "data": {
      "text/html": [
       "<div>\n",
       "<style scoped>\n",
       "    .dataframe tbody tr th:only-of-type {\n",
       "        vertical-align: middle;\n",
       "    }\n",
       "\n",
       "    .dataframe tbody tr th {\n",
       "        vertical-align: top;\n",
       "    }\n",
       "\n",
       "    .dataframe thead th {\n",
       "        text-align: right;\n",
       "    }\n",
       "</style>\n",
       "<table border=\"1\" class=\"dataframe\">\n",
       "  <thead>\n",
       "    <tr style=\"text-align: right;\">\n",
       "      <th></th>\n",
       "      <th>Bush</th>\n",
       "      <th>Dukakis</th>\n",
       "      <th>No opinion/other</th>\n",
       "      <th>sum</th>\n",
       "    </tr>\n",
       "  </thead>\n",
       "  <tbody>\n",
       "    <tr>\n",
       "      <th>pre_debate</th>\n",
       "      <td>294</td>\n",
       "      <td>307</td>\n",
       "      <td>38</td>\n",
       "      <td>639</td>\n",
       "    </tr>\n",
       "    <tr>\n",
       "      <th>post_debate</th>\n",
       "      <td>288</td>\n",
       "      <td>332</td>\n",
       "      <td>19</td>\n",
       "      <td>639</td>\n",
       "    </tr>\n",
       "  </tbody>\n",
       "</table>\n",
       "</div>"
      ],
      "text/plain": [
       "             Bush  Dukakis  No opinion/other  sum\n",
       "pre_debate    294      307                38  639\n",
       "post_debate   288      332                19  639"
      ]
     },
     "execution_count": 14,
     "metadata": {},
     "output_type": "execute_result"
    }
   ],
   "source": [
    "df"
   ]
  },
  {
   "cell_type": "code",
   "execution_count": 15,
   "id": "95bb9754",
   "metadata": {},
   "outputs": [],
   "source": [
    "theta_bush_pre=df.Bush.pre_debate/df['sum'].pre_debate\n",
    "theta_bush_post=df.Bush.post_debate/df['sum'].post_debate"
   ]
  },
  {
   "cell_type": "code",
   "execution_count": 16,
   "id": "75239c25",
   "metadata": {},
   "outputs": [
    {
     "data": {
      "text/plain": [
       "(0.46, 0.451)"
      ]
     },
     "execution_count": 16,
     "metadata": {},
     "output_type": "execute_result"
    }
   ],
   "source": [
    "theta_bush_pre.round(3), theta_bush_post.round(3)"
   ]
  },
  {
   "cell_type": "markdown",
   "id": "e496ec39",
   "metadata": {},
   "source": [
    "Assume independent uniform prior distributions on the multinomial parameters. Then the posterior distributions are independent multinomial: (π1, π2, π3)|y ∼ Dirichlet(295, 308, 39) (π∗ 1, π∗ 2, π∗ 3 )|y ∼ Dirichlet(289, 333, 20),"
   ]
  },
  {
   "cell_type": "markdown",
   "id": "413b892a",
   "metadata": {},
   "source": [
    "From the properties of the Dirichlet distribution (see Exercise 3.1), \n",
    "\n",
    "α1|y ∼ Beta(295, 308) \n",
    "\n",
    "α2|y ∼ Beta(289, 333)."
   ]
  },
  {
   "cell_type": "code",
   "execution_count": 17,
   "id": "80322082",
   "metadata": {},
   "outputs": [],
   "source": [
    "samples_pre_bush=stats.beta(df.Bush.pre_debate+1, df.Dukakis.pre_debate+1).rvs(2000)\n",
    "samples_post_bush=stats.beta(df.Bush.post_debate+1, df.Dukakis.post_debate+1).rvs(2000)"
   ]
  },
  {
   "cell_type": "code",
   "execution_count": 18,
   "id": "9723436e",
   "metadata": {},
   "outputs": [
    {
     "data": {
      "image/png": "[encoded data removed]",
      "text/plain": [
       "<Figure size 432x288 with 1 Axes>"
      ]
     },
     "metadata": {
      "needs_background": "light"
     },
     "output_type": "display_data"
    }
   ],
   "source": [
    "_, bins_pre, dens_pre=plt.hist(samples_pre_bush, bins=100, alpha=0.2)\n",
    "_, bins_post, dens_post=plt.hist(samples_post_bush, bins=100, alpha=0.2)"
   ]
  },
  {
   "cell_type": "code",
   "execution_count": 19,
   "id": "782254c5",
   "metadata": {},
   "outputs": [
    {
     "data": {
      "image/png": "[encoded data removed]",
      "text/plain": [
       "<Figure size 432x288 with 1 Axes>"
      ]
     },
     "metadata": {
      "needs_background": "light"
     },
     "output_type": "display_data"
    }
   ],
   "source": [
    "diff=samples_post_bush-samples_pre_bush\n",
    "_, bins_diff, dens_diff=plt.hist(diff, bins=100, alpha=0.2)"
   ]
  },
  {
   "cell_type": "code",
   "execution_count": 20,
   "id": "c27ea132",
   "metadata": {},
   "outputs": [
    {
     "data": {
      "text/plain": [
       "0.1955"
      ]
     },
     "execution_count": 20,
     "metadata": {},
     "output_type": "execute_result"
    }
   ],
   "source": [
    "#What is the posterior probability that there was a shift toward Bush?\n",
    "dens_diff_norm=dens_diff.datavalues/dens_diff.datavalues.sum()\n",
    "dens_diff_norm[bins_diff[1:]>0].sum()"
   ]
  },
  {
   "cell_type": "markdown",
   "id": "43bdbeb4",
   "metadata": {},
   "source": [
    "#### If I would not use Dirichlet but lose some information and use beta distribution"
   ]
  },
  {
   "cell_type": "code",
   "execution_count": 25,
   "id": "79c58092",
   "metadata": {},
   "outputs": [],
   "source": [
    "samples_pre_bush_beta=stats.beta(df.Bush.pre_debate, df['sum'].pre_debate-df.Bush.pre_debate).rvs(100000)\n",
    "samples_post_bush_beta=stats.beta(df.Bush.post_debate, df['sum'].post_debate-df.Bush.post_debate).rvs(100000)"
   ]
  },
  {
   "cell_type": "code",
   "execution_count": 26,
   "id": "0b3b6ee7",
   "metadata": {},
   "outputs": [
    {
     "data": {
      "image/png": "[encoded data removed]",
      "text/plain": [
       "<Figure size 432x288 with 1 Axes>"
      ]
     },
     "metadata": {
      "needs_background": "light"
     },
     "output_type": "display_data"
    }
   ],
   "source": [
    "_, bins_pre_beta, dens_pre_beta=plt.hist(samples_pre_bush_beta, bins=100, alpha=0.2)\n",
    "_, bins_post_beta, dens_post_beta=plt.hist(samples_post_bush_beta, bins=100, alpha=0.2)"
   ]
  },
  {
   "cell_type": "code",
   "execution_count": 27,
   "id": "b9554328",
   "metadata": {},
   "outputs": [
    {
     "data": {
      "image/png": "[encoded data removed]",
      "text/plain": [
       "<Figure size 432x288 with 1 Axes>"
      ]
     },
     "metadata": {
      "needs_background": "light"
     },
     "output_type": "display_data"
    }
   ],
   "source": [
    "diff_beta=samples_post_bush_beta-samples_pre_bush_beta\n",
    "_, bins_diff_beta, dens_diff_beta=plt.hist(diff_beta, bins=100, alpha=0.2)"
   ]
  },
  {
   "cell_type": "code",
   "execution_count": 28,
   "id": "9a0ed355",
   "metadata": {},
   "outputs": [
    {
     "data": {
      "text/plain": [
       "0.37034"
      ]
     },
     "execution_count": 28,
     "metadata": {},
     "output_type": "execute_result"
    }
   ],
   "source": [
    "#What is the posterior probability that there was a shift toward Bush?\n",
    "dens_diff_norm_beta=dens_diff_beta.datavalues/dens_diff_beta.datavalues.sum()\n",
    "dens_diff_norm_beta[bins_diff_beta[1:]>0].sum() #shows more increase towards Bush, but this is also incorrect solution"
   ]
  },
  {
   "cell_type": "markdown",
   "id": "b9cb701a",
   "metadata": {},
   "source": [
    "## Excercise 5"
   ]
  },
  {
   "cell_type": "markdown",
   "id": "0a8b966c",
   "metadata": {},
   "source": [
    "Rounded data: it is a common problem for measurements to be observed in rounded form (for a review, see Heitjan, 1989). For a simple example, suppose we weigh an object five times and measure weights, rounded to the nearest pound, of 10, 10, 12, 11, 9. Assume the unrounded measurements are normally distributed with a noninformative prior distribution on the mean μ and variance σ2. \n",
    "\n",
    "(a) Give the posterior distribution for (μ, σ2) obtained by pretending that the observations are exact unrounded measurements. \n",
    "\n",
    "(b) Give the correct posterior distribution for (μ, σ2) treating the measurements as rounded. \n",
    "\n",
    "(c) How do the incorrect and correct posterior distributions differ? Compare means, variances, and contour plots. \n",
    "\n",
    "(d) Let z =(z1,...,z5) be the original, unrounded measurements corresponding to the five observations above. Draw simulations from the posterior distribution of z. Compute the posterior mean of (z1 − z2)2."
   ]
  },
  {
   "cell_type": "markdown",
   "id": "679969f0",
   "metadata": {},
   "source": [
    "#### a) \n",
    "\n",
    "If the observations are treated as exact measurements then the theory of Section 3.2 applies. Then p(σ2|y) ∼ Inv-χ2(n − 1, s2) and p(μ|σ2, y) ∼ N ( ̄ y, σ2/n) with n = 5,  ̄ y = 10.4, s2 = 1.3."
   ]
  },
  {
   "cell_type": "code",
   "execution_count": 61,
   "id": "f7249472",
   "metadata": {},
   "outputs": [
    {
     "data": {
      "text/plain": [
       "(10.4, 1.3)"
      ]
     },
     "execution_count": 61,
     "metadata": {},
     "output_type": "execute_result"
    }
   ],
   "source": [
    "data=[10, 10, 12, 11, 9]\n",
    "n = len(data)\n",
    "s2 = np.var(data, ddof=1)  # here ddof=1 is used to get the sample estimate\n",
    "my = np.mean(data)\n",
    "my, s2"
   ]
  },
  {
   "cell_type": "code",
   "execution_count": 58,
   "id": "d38589fe",
   "metadata": {},
   "outputs": [],
   "source": [
    "#exact calculation for mu\n",
    "tl1 = [5, 15]\n",
    "t1 = np.linspace(tl1[0], tl1[1], 10000)\n",
    "pm_mu = stats.t.pdf((t1 - my) / np.sqrt(s2/n), n-1) / np.sqrt(s2/n)\n",
    "pm_mu_norm=pm_mu/pm_mu.sum()"
   ]
  },
  {
   "cell_type": "code",
   "execution_count": 59,
   "id": "80dc58ae",
   "metadata": {},
   "outputs": [
    {
     "data": {
      "text/plain": [
       "[<matplotlib.lines.Line2D at 0x1bfc29d11c0>]"
      ]
     },
     "execution_count": 59,
     "metadata": {},
     "output_type": "execute_result"
    },
    {
     "data": {
      "image/png": "[encoded data removed]",
      "text/plain": [
       "<Figure size 432x288 with 1 Axes>"
      ]
     },
     "metadata": {
      "needs_background": "light"
     },
     "output_type": "display_data"
    }
   ],
   "source": [
    "plt.plot(t1, pm_mu_norm)"
   ]
  },
  {
   "cell_type": "code",
   "execution_count": 60,
   "id": "d5593720",
   "metadata": {},
   "outputs": [
    {
     "data": {
      "text/plain": [
       "10.398539853985397"
      ]
     },
     "execution_count": 60,
     "metadata": {},
     "output_type": "execute_result"
    }
   ],
   "source": [
    "t1[pm_mu_norm.cumsum()<=0.5][-1]"
   ]
  },
  {
   "cell_type": "code",
   "execution_count": 106,
   "id": "9123a2f8",
   "metadata": {},
   "outputs": [
    {
     "data": {
      "text/plain": [
       "[<matplotlib.lines.Line2D at 0x1bfc5a4f220>]"
      ]
     },
     "execution_count": 106,
     "metadata": {},
     "output_type": "execute_result"
    },
    {
     "data": {
      "image/png": "[encoded data removed]",
      "text/plain": [
       "<Figure size 432x288 with 1 Axes>"
      ]
     },
     "metadata": {
      "needs_background": "light"
     },
     "output_type": "display_data"
    }
   ],
   "source": [
    "#exact calculation for sigma\n",
    "tl2 = [0.001, 15]\n",
    "t2 = np.linspace(tl2[0], tl2[1], 100000)\n",
    "pm_sigma = sinvchi2.pdf(t2**2, n-1, s2)*2*t2\n",
    "pm_sigma_norm=pm_sigma/pm_sigma.sum()\n",
    "plt.plot(t2, pm_sigma_norm)"
   ]
  },
  {
   "cell_type": "code",
   "execution_count": 107,
   "id": "e205b6ad",
   "metadata": {},
   "outputs": [
    {
     "data": {
      "text/plain": [
       "1.2444295342953429"
      ]
     },
     "execution_count": 107,
     "metadata": {},
     "output_type": "execute_result"
    }
   ],
   "source": [
    "t2[pm_sigma_norm.cumsum()<=0.5][-1]"
   ]
  },
  {
   "cell_type": "code",
   "execution_count": 131,
   "id": "b28604d2",
   "metadata": {},
   "outputs": [
    {
     "name": "stderr",
     "output_type": "stream",
     "text": [
      "C:\\Users\\RistoHinno\\python\\learning\\bayesian_analysis\\BDA_aalto_2022\\utilities_and_data\\sinvchi2.py:101: RuntimeWarning: divide by zero encountered in true_divide\n",
      "  np.divide(scale, rvs, out=rvs)\n",
      "C:\\Users\\RistoHinno\\python\\learning\\bayesian_analysis\\BDA_aalto_2022\\utilities_and_data\\sinvchi2.py:101: RuntimeWarning: overflow encountered in true_divide\n",
      "  np.divide(scale, rvs, out=rvs)\n",
      "C:\\Users\\RistoHinno\\anaconda3\\lib\\site-packages\\matplotlib\\ticker.py:2072: RuntimeWarning: overflow encountered in multiply\n",
      "  steps = self._extended_steps * scale\n"
     ]
    },
    {
     "data": {
      "image/png": "[encoded data removed]",
      "text/plain": [
       "<Figure size 432x288 with 1 Axes>"
      ]
     },
     "metadata": {
      "needs_background": "light"
     },
     "output_type": "display_data"
    }
   ],
   "source": [
    "samples_sigma=sinvchi2.rvs((t2**2), s2, size=100000)\n",
    "samples_sigma[samples_sigma == np.inf] = 0\n",
    "_=plt.hist(samples_sigma[(samples_sigma<np.inf)&(samples_sigma>0)], bins=100)"
   ]
  },
  {
   "cell_type": "code",
   "execution_count": 132,
   "id": "bd86ce4e",
   "metadata": {},
   "outputs": [
    {
     "data": {
      "text/plain": [
       "1.3334035918500244"
      ]
     },
     "execution_count": 132,
     "metadata": {},
     "output_type": "execute_result"
    }
   ],
   "source": [
    "np.median(samples_sigma[samples_sigma<np.inf])"
   ]
  }
 ],
 "metadata": {
  "kernelspec": {
   "display_name": "Python 3 (ipykernel)",
   "language": "python",
   "name": "python3"
  },
  "language_info": {
   "codemirror_mode": {
    "name": "ipython",
    "version": 3
   },
   "file_extension": ".py",
   "mimetype": "text/x-python",
   "name": "python",
   "nbconvert_exporter": "python",
   "pygments_lexer": "ipython3",
   "version": "3.9.12"
  }
 },
 "nbformat": 4,
 "nbformat_minor": 5
}
