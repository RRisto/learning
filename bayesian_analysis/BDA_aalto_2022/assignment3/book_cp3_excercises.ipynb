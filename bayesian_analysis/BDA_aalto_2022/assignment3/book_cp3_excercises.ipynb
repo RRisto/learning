{
 "cells": [
  {
   "cell_type": "code",
   "execution_count": 108,
   "id": "2ae2d29b",
   "metadata": {},
   "outputs": [],
   "source": [
    "import numpy as np\n",
    "import pandas as pd\n",
    "from scipy import stats\n",
    "import matplotlib.pyplot as plt\n",
    "\n",
    "import os, sys\n",
    "util_path = os.path.abspath(os.path.join(os.path.pardir, 'utilities_and_data'))\n",
    "if util_path not in sys.path and os.path.exists(util_path):\n",
    "    sys.path.insert(0, util_path)\n",
    "\n",
    "# import from utilities\n",
    "import sinvchi2"
   ]
  },
  {
   "cell_type": "markdown",
   "id": "6f5ad5c8",
   "metadata": {},
   "source": [
    "## Excersice 2"
   ]
  },
  {
   "cell_type": "markdown",
   "id": "d7f059db",
   "metadata": {},
   "source": [
    "Comparison of two multinomial observations: on September 25, 1988, the evening of a presidential campaign debate, ABC News conducted a survey of registered voters in the United States; 639 persons were polled before the debate, and 639different persons were polled after. The results are displayed in Table 3.2. Assume the surveys are independent simple random samples from the population of registered voters. Model the data with two different multinomial distributions. For j =1, 2, let αj be the proportion of voters who preferred Bush, out of those who had a preference for either Bush or Dukakis at the time of survey j. Plot a histogram of the posterior density for α2 − α1. What is the posterior probability that there was a shift toward Bush?"
   ]
  },
  {
   "cell_type": "code",
   "execution_count": 109,
   "id": "9d7aedc6",
   "metadata": {},
   "outputs": [],
   "source": [
    "pre_debate=[294, 307, 38]\n",
    "post_debate=[288, 332, 19]\n",
    "labels=['Bush', 'Dukakis', 'No opinion/other']\n",
    "df=pd.DataFrame({'pre_debate':pre_debate,\n",
    "                'post_debate': post_debate})\n",
    "df=df.T\n",
    "df.columns=labels\n",
    "df['sum']=df.sum(axis=1)"
   ]
  },
  {
   "cell_type": "code",
   "execution_count": 110,
   "id": "665d8d65",
   "metadata": {},
   "outputs": [
    {
     "data": {
      "text/html": [
       "<div>\n",
       "<style scoped>\n",
       "    .dataframe tbody tr th:only-of-type {\n",
       "        vertical-align: middle;\n",
       "    }\n",
       "\n",
       "    .dataframe tbody tr th {\n",
       "        vertical-align: top;\n",
       "    }\n",
       "\n",
       "    .dataframe thead th {\n",
       "        text-align: right;\n",
       "    }\n",
       "</style>\n",
       "<table border=\"1\" class=\"dataframe\">\n",
       "  <thead>\n",
       "    <tr style=\"text-align: right;\">\n",
       "      <th></th>\n",
       "      <th>Bush</th>\n",
       "      <th>Dukakis</th>\n",
       "      <th>No opinion/other</th>\n",
       "      <th>sum</th>\n",
       "    </tr>\n",
       "  </thead>\n",
       "  <tbody>\n",
       "    <tr>\n",
       "      <th>pre_debate</th>\n",
       "      <td>294</td>\n",
       "      <td>307</td>\n",
       "      <td>38</td>\n",
       "      <td>639</td>\n",
       "    </tr>\n",
       "    <tr>\n",
       "      <th>post_debate</th>\n",
       "      <td>288</td>\n",
       "      <td>332</td>\n",
       "      <td>19</td>\n",
       "      <td>639</td>\n",
       "    </tr>\n",
       "  </tbody>\n",
       "</table>\n",
       "</div>"
      ],
      "text/plain": [
       "             Bush  Dukakis  No opinion/other  sum\n",
       "pre_debate    294      307                38  639\n",
       "post_debate   288      332                19  639"
      ]
     },
     "execution_count": 110,
     "metadata": {},
     "output_type": "execute_result"
    }
   ],
   "source": [
    "df"
   ]
  },
  {
   "cell_type": "code",
   "execution_count": 111,
   "id": "95bb9754",
   "metadata": {},
   "outputs": [],
   "source": [
    "theta_bush_pre=df.Bush.pre_debate/df['sum'].pre_debate\n",
    "theta_bush_post=df.Bush.post_debate/df['sum'].post_debate"
   ]
  },
  {
   "cell_type": "code",
   "execution_count": 112,
   "id": "75239c25",
   "metadata": {},
   "outputs": [
    {
     "data": {
      "text/plain": [
       "(0.46, 0.451)"
      ]
     },
     "execution_count": 112,
     "metadata": {},
     "output_type": "execute_result"
    }
   ],
   "source": [
    "theta_bush_pre.round(3), theta_bush_post.round(3)"
   ]
  },
  {
   "cell_type": "markdown",
   "id": "e496ec39",
   "metadata": {},
   "source": [
    "Assume independent uniform prior distributions on the multinomial parameters. Then the posterior distributions are independent multinomial: (π1, π2, π3)|y ∼ Dirichlet(295, 308, 39) (π∗ 1, π∗ 2, π∗ 3 )|y ∼ Dirichlet(289, 333, 20),"
   ]
  },
  {
   "cell_type": "markdown",
   "id": "413b892a",
   "metadata": {},
   "source": [
    "From the properties of the Dirichlet distribution (see Exercise 3.1), \n",
    "\n",
    "α1|y ∼ Beta(295, 308) \n",
    "\n",
    "α2|y ∼ Beta(289, 333)."
   ]
  },
  {
   "cell_type": "code",
   "execution_count": 113,
   "id": "80322082",
   "metadata": {},
   "outputs": [],
   "source": [
    "samples_pre_bush=stats.beta(df.Bush.pre_debate+1, df.Dukakis.pre_debate+1).rvs(2000)\n",
    "samples_post_bush=stats.beta(df.Bush.post_debate+1, df.Dukakis.post_debate+1).rvs(2000)"
   ]
  },
  {
   "cell_type": "code",
   "execution_count": 114,
   "id": "9723436e",
   "metadata": {},
   "outputs": [
    {
     "data": {
      "image/png": "[encoded data removed]",
      "text/plain": [
       "<Figure size 432x288 with 1 Axes>"
      ]
     },
     "metadata": {
      "needs_background": "light"
     },
     "output_type": "display_data"
    }
   ],
   "source": [
    "_, bins_pre, dens_pre=plt.hist(samples_pre_bush, bins=100, alpha=0.2)\n",
    "_, bins_post, dens_post=plt.hist(samples_post_bush, bins=100, alpha=0.2)"
   ]
  },
  {
   "cell_type": "code",
   "execution_count": 115,
   "id": "782254c5",
   "metadata": {},
   "outputs": [
    {
     "data": {
      "image/png": "[encoded data removed]",
      "text/plain": [
       "<Figure size 432x288 with 1 Axes>"
      ]
     },
     "metadata": {
      "needs_background": "light"
     },
     "output_type": "display_data"
    }
   ],
   "source": [
    "diff=samples_post_bush-samples_pre_bush\n",
    "_, bins_diff, dens_diff=plt.hist(diff, bins=100, alpha=0.2)"
   ]
  },
  {
   "cell_type": "code",
   "execution_count": 116,
   "id": "c27ea132",
   "metadata": {},
   "outputs": [
    {
     "data": {
      "text/plain": [
       "0.2235"
      ]
     },
     "execution_count": 116,
     "metadata": {},
     "output_type": "execute_result"
    }
   ],
   "source": [
    "#What is the posterior probability that there was a shift toward Bush?\n",
    "dens_diff_norm=dens_diff.datavalues/dens_diff.datavalues.sum()\n",
    "dens_diff_norm[bins_diff[1:]>0].sum()"
   ]
  },
  {
   "cell_type": "markdown",
   "id": "43bdbeb4",
   "metadata": {},
   "source": [
    "#### If I would not use Dirichlet but lose some information and use beta distribution"
   ]
  },
  {
   "cell_type": "code",
   "execution_count": 117,
   "id": "79c58092",
   "metadata": {},
   "outputs": [],
   "source": [
    "samples_pre_bush_beta=stats.beta(df.Bush.pre_debate, df['sum'].pre_debate-df.Bush.pre_debate).rvs(100000)\n",
    "samples_post_bush_beta=stats.beta(df.Bush.post_debate, df['sum'].post_debate-df.Bush.post_debate).rvs(100000)"
   ]
  },
  {
   "cell_type": "code",
   "execution_count": 118,
   "id": "0b3b6ee7",
   "metadata": {},
   "outputs": [
    {
     "data": {
      "image/png": "[encoded data removed]",
      "text/plain": [
       "<Figure size 432x288 with 1 Axes>"
      ]
     },
     "metadata": {
      "needs_background": "light"
     },
     "output_type": "display_data"
    }
   ],
   "source": [
    "_, bins_pre_beta, dens_pre_beta=plt.hist(samples_pre_bush_beta, bins=100, alpha=0.2)\n",
    "_, bins_post_beta, dens_post_beta=plt.hist(samples_post_bush_beta, bins=100, alpha=0.2)"
   ]
  },
  {
   "cell_type": "code",
   "execution_count": 119,
   "id": "b9554328",
   "metadata": {},
   "outputs": [
    {
     "data": {
      "image/png": "[encoded data removed]",
      "text/plain": [
       "<Figure size 432x288 with 1 Axes>"
      ]
     },
     "metadata": {
      "needs_background": "light"
     },
     "output_type": "display_data"
    }
   ],
   "source": [
    "diff_beta=samples_post_bush_beta-samples_pre_bush_beta\n",
    "_, bins_diff_beta, dens_diff_beta=plt.hist(diff_beta, bins=100, alpha=0.2)"
   ]
  },
  {
   "cell_type": "code",
   "execution_count": 120,
   "id": "9a0ed355",
   "metadata": {},
   "outputs": [
    {
     "data": {
      "text/plain": [
       "0.37486"
      ]
     },
     "execution_count": 120,
     "metadata": {},
     "output_type": "execute_result"
    }
   ],
   "source": [
    "#What is the posterior probability that there was a shift toward Bush?\n",
    "dens_diff_norm_beta=dens_diff_beta.datavalues/dens_diff_beta.datavalues.sum()\n",
    "dens_diff_norm_beta[bins_diff_beta[1:]>0].sum() #shows more increase towards Bush, but this is also incorrect solution"
   ]
  },
  {
   "cell_type": "markdown",
   "id": "b9cb701a",
   "metadata": {},
   "source": [
    "## Excercise 5"
   ]
  },
  {
   "cell_type": "markdown",
   "id": "0a8b966c",
   "metadata": {},
   "source": [
    "Rounded data: it is a common problem for measurements to be observed in rounded form (for a review, see Heitjan, 1989). For a simple example, suppose we weigh an object five times and measure weights, rounded to the nearest pound, of 10, 10, 12, 11, 9. Assume the unrounded measurements are normally distributed with a noninformative prior distribution on the mean μ and variance σ2. \n",
    "\n",
    "(a) Give the posterior distribution for (μ, σ2) obtained by pretending that the observations are exact unrounded measurements. \n",
    "\n",
    "(b) Give the correct posterior distribution for (μ, σ2) treating the measurements as rounded. \n",
    "\n",
    "(c) How do the incorrect and correct posterior distributions differ? Compare means, variances, and contour plots. \n",
    "\n",
    "(d) Let z =(z1,...,z5) be the original, unrounded measurements corresponding to the five observations above. Draw simulations from the posterior distribution of z. Compute the posterior mean of (z1 − z2)2."
   ]
  },
  {
   "cell_type": "markdown",
   "id": "679969f0",
   "metadata": {},
   "source": [
    "#### a) \n",
    "\n",
    "If the observations are treated as exact measurements then the theory of Section 3.2 applies. Then p(σ2|y) ∼ Inv-χ2(n − 1, s2) and p(μ|σ2, y) ∼ N ( ̄ y, σ2/n) with n = 5,  ̄ y = 10.4, s2 = 1.3."
   ]
  },
  {
   "cell_type": "code",
   "execution_count": 121,
   "id": "f7249472",
   "metadata": {},
   "outputs": [
    {
     "data": {
      "text/plain": [
       "(10.4, 1.3)"
      ]
     },
     "execution_count": 121,
     "metadata": {},
     "output_type": "execute_result"
    }
   ],
   "source": [
    "data=[10, 10, 12, 11, 9]\n",
    "n = len(data)\n",
    "s2 = np.var(data, ddof=1)  # here ddof=1 is used to get the sample estimate\n",
    "my = np.mean(data)\n",
    "my, s2"
   ]
  },
  {
   "cell_type": "code",
   "execution_count": 122,
   "id": "a97feee6",
   "metadata": {},
   "outputs": [],
   "source": [
    "nsim=100000\n",
    "#this is another way to get inv-chi square\n",
    "sd_a=np.sqrt((n-1)*s2/np.random.chisquare(4, nsim))\n",
    "mu_a=np.random.normal(my,sd_a/np.sqrt(n),nsim)"
   ]
  },
  {
   "cell_type": "code",
   "execution_count": 123,
   "id": "cecbea66",
   "metadata": {},
   "outputs": [
    {
     "data": {
      "text/plain": [
       "1.246"
      ]
     },
     "execution_count": 123,
     "metadata": {},
     "output_type": "execute_result"
    }
   ],
   "source": [
    "np.median(sd_a).round(3)"
   ]
  },
  {
   "cell_type": "code",
   "execution_count": 124,
   "id": "7d93659c",
   "metadata": {},
   "outputs": [
    {
     "data": {
      "text/plain": [
       "10.404"
      ]
     },
     "execution_count": 124,
     "metadata": {},
     "output_type": "execute_result"
    }
   ],
   "source": [
    "np.median(mu_a).round(3)"
   ]
  },
  {
   "cell_type": "code",
   "execution_count": 125,
   "id": "d38589fe",
   "metadata": {},
   "outputs": [],
   "source": [
    "#exact calculation for mu, using Aalto version\n",
    "tl1 = [5, 15]\n",
    "t1 = np.linspace(tl1[0], tl1[1], 10000)\n",
    "pm_mu = stats.t.pdf((t1 - my) / np.sqrt(s2/n), n-1) / np.sqrt(s2/n)\n",
    "pm_mu_norm=pm_mu/pm_mu.sum()"
   ]
  },
  {
   "cell_type": "code",
   "execution_count": 126,
   "id": "80dc58ae",
   "metadata": {},
   "outputs": [
    {
     "data": {
      "text/plain": [
       "[<matplotlib.lines.Line2D at 0x1da1eea2bb0>]"
      ]
     },
     "execution_count": 126,
     "metadata": {},
     "output_type": "execute_result"
    },
    {
     "data": {
      "image/png": "[encoded data removed]",
      "text/plain": [
       "<Figure size 432x288 with 1 Axes>"
      ]
     },
     "metadata": {
      "needs_background": "light"
     },
     "output_type": "display_data"
    }
   ],
   "source": [
    "plt.plot(t1, pm_mu_norm)"
   ]
  },
  {
   "cell_type": "code",
   "execution_count": 127,
   "id": "d5593720",
   "metadata": {},
   "outputs": [
    {
     "data": {
      "text/plain": [
       "10.399"
      ]
     },
     "execution_count": 127,
     "metadata": {},
     "output_type": "execute_result"
    }
   ],
   "source": [
    "t1[pm_mu_norm.cumsum()<=0.5][-1].round(3)"
   ]
  },
  {
   "cell_type": "code",
   "execution_count": 128,
   "id": "9123a2f8",
   "metadata": {},
   "outputs": [
    {
     "data": {
      "text/plain": [
       "[<matplotlib.lines.Line2D at 0x1da1ef12370>]"
      ]
     },
     "execution_count": 128,
     "metadata": {},
     "output_type": "execute_result"
    },
    {
     "data": {
      "image/png": "[encoded data removed]",
      "text/plain": [
       "<Figure size 432x288 with 1 Axes>"
      ]
     },
     "metadata": {
      "needs_background": "light"
     },
     "output_type": "display_data"
    }
   ],
   "source": [
    "#exact calculation for sigma\n",
    "tl2 = [0.001, 10]\n",
    "t2 = np.linspace(tl2[0], tl2[1], 1000)\n",
    "pm_sigma = sinvchi2.pdf(t2**2, n-1, s2)*2*t2\n",
    "pm_sigma_norm=pm_sigma/pm_sigma.sum()\n",
    "plt.plot(t2, pm_sigma_norm)"
   ]
  },
  {
   "cell_type": "code",
   "execution_count": 129,
   "id": "e205b6ad",
   "metadata": {},
   "outputs": [
    {
     "data": {
      "text/plain": [
       "1.232"
      ]
     },
     "execution_count": 129,
     "metadata": {},
     "output_type": "execute_result"
    }
   ],
   "source": [
    "t2[pm_sigma_norm.cumsum()<=0.5][-1].round(3)"
   ]
  },
  {
   "cell_type": "markdown",
   "id": "76956bd3",
   "metadata": {},
   "source": [
    "#### b) and c)"
   ]
  },
  {
   "cell_type": "code",
   "execution_count": 130,
   "id": "a2df0753",
   "metadata": {},
   "outputs": [],
   "source": [
    "def summ(x):\n",
    "    percentile=np.percentile(x,[2.5,25,50,75,97.5]).tolist()\n",
    "    summ=[np.mean(x),np.std(x)]\n",
    "    summ.extend(percentile)\n",
    "    summ=pd.DataFrame(summ,index=[\"mean\",\"sd\",\"2.5%\",\"25%\",\"50%\",\"75%\",\"97.5%\"],columns=[\"info\"]).T.round(3)\n",
    "    return summ"
   ]
  },
  {
   "cell_type": "code",
   "execution_count": 131,
   "id": "cf0d9d99",
   "metadata": {},
   "outputs": [
    {
     "name": "stdout",
     "output_type": "stream",
     "text": [
      "      mean     sd   2.5%     25%     50%     75%   97.5%\n",
      "info  10.4  0.721  8.985  10.022  10.398  10.777  11.818\n"
     ]
    }
   ],
   "source": [
    "#ignoring rounding, keeping data as exact measurements. Median or mean and sd are close ase previous \n",
    "sd_a=np.sqrt((n-1)*s2/np.random.chisquare(4,nsim))\n",
    "mu_a=np.random.normal(my,sd_a/np.sqrt(n),nsim)\n",
    "print(summ(mu_a)) "
   ]
  },
  {
   "cell_type": "code",
   "execution_count": 132,
   "id": "bb825ad1",
   "metadata": {},
   "outputs": [
    {
     "name": "stdout",
     "output_type": "stream",
     "text": [
      "       mean     sd   2.5%    25%    50%    75%  97.5%\n",
      "info  1.429  0.763  0.682  0.983  1.244  1.643  3.268\n"
     ]
    }
   ],
   "source": [
    "print(summ(sd_a))"
   ]
  },
  {
   "cell_type": "code",
   "execution_count": 133,
   "id": "e700c047",
   "metadata": {},
   "outputs": [],
   "source": [
    "#to regard rounding we'll do some grid sampling\n",
    "mugrid=np.linspace(3,18,200)\n",
    "logsgrid=np.linspace(-2,4,200)\n",
    "contours_1=np.arange(0.05,1.0,0.05)\n",
    "contours_1=contours_1.tolist()\n",
    "contours=[0.0001,0.001,0.01]\n",
    "contours.extend(contours_1)"
   ]
  },
  {
   "cell_type": "code",
   "execution_count": 134,
   "id": "9b7fca22",
   "metadata": {},
   "outputs": [
    {
     "name": "stderr",
     "output_type": "stream",
     "text": [
      "C:\\Users\\RistoHinno\\AppData\\Local\\Temp\\ipykernel_22288\\2684179799.py:2: RuntimeWarning: divide by zero encountered in log\n",
      "  ldens=np.sum(np.log(stats.norm.pdf(y, loc=mu, scale=sd)))\n"
     ]
    },
    {
     "data": {
      "text/plain": [
       "<matplotlib.contour.QuadContourSet at 0x1da1b3e9ac0>"
      ]
     },
     "execution_count": 134,
     "metadata": {},
     "output_type": "execute_result"
    },
    {
     "data": {
      "image/png": "[encoded data removed]",
      "text/plain": [
       "<Figure size 432x288 with 1 Axes>"
      ]
     },
     "metadata": {
      "needs_background": "light"
     },
     "output_type": "display_data"
    }
   ],
   "source": [
    "def post_a(mu, sd, y):\n",
    "    ldens=np.sum(np.log(stats.norm.pdf(y, loc=mu, scale=sd)))\n",
    "    return ldens\n",
    "\n",
    "logdens_a=[]\n",
    "for i in range(len(mugrid)):\n",
    "    logdens_1=[]\n",
    "    for j in range(len(logsgrid)):\n",
    "        logdens_1.append(post_a(mugrid[i], np.power(np.e, logsgrid[j]), data))\n",
    "    logdens_a.append(logdens_1)\n",
    "                \n",
    "dens_a=np.exp(logdens_a-np.max(logdens_a))\n",
    "plt.contour(mugrid, logsgrid, pd.DataFrame(dens_a).T, contours)"
   ]
  },
  {
   "cell_type": "code",
   "execution_count": 135,
   "id": "11d81aa1",
   "metadata": {},
   "outputs": [
    {
     "name": "stderr",
     "output_type": "stream",
     "text": [
      "C:\\Users\\RistoHinno\\AppData\\Local\\Temp\\ipykernel_22288\\853771004.py:4: RuntimeWarning: divide by zero encountered in log\n",
      "  ldens=np.sum(np.log(stats.norm.cdf(y_plus_0_5,loc=mu, scale=sd)-stats.norm.cdf(y_minus_0_5, loc=mu, scale=sd)))\n"
     ]
    },
    {
     "data": {
      "text/plain": [
       "<matplotlib.contour.QuadContourSet at 0x1da1f45fca0>"
      ]
     },
     "execution_count": 135,
     "metadata": {},
     "output_type": "execute_result"
    },
    {
     "data": {
      "image/png": "[encoded data removed]",
      "text/plain": [
       "<Figure size 432x288 with 1 Axes>"
      ]
     },
     "metadata": {
      "needs_background": "light"
     },
     "output_type": "display_data"
    }
   ],
   "source": [
    "def post_b(mu, sd, y):\n",
    "    y_plus_0_5=np.array(y)+0.5\n",
    "    y_minus_0_5=np.array(y)-0.5\n",
    "    ldens=np.sum(np.log(stats.norm.cdf(y_plus_0_5,loc=mu, scale=sd)-stats.norm.cdf(y_minus_0_5, loc=mu, scale=sd)))\n",
    "    return ldens\n",
    "\n",
    "logdens_b=[]\n",
    "for i in range(len(mugrid)):\n",
    "    logdens_1=[]\n",
    "    for j in range(len(logsgrid)):\n",
    "        logdens_1.append(post_b(mugrid[i], np.power(np.e, logsgrid[j]), data))\n",
    "    logdens_b.append(logdens_1)\n",
    "                \n",
    "dens_b=np.exp(logdens_b-np.max(logdens_b))\n",
    "plt.contour(mugrid, logsgrid, pd.DataFrame(dens_b).T, contours)"
   ]
  },
  {
   "cell_type": "code",
   "execution_count": 136,
   "id": "a6d6ca6b",
   "metadata": {},
   "outputs": [
    {
     "name": "stdout",
     "output_type": "stream",
     "text": [
      "        mean     sd  2.5%    25%     50%     75%   97.5%\n",
      "info  10.402  0.696  9.03  10.01  10.387  10.764  11.819\n"
     ]
    }
   ],
   "source": [
    "sd_b_dens=pd.DataFrame(dens_b)\n",
    "mu_b_dens=pd.DataFrame(dens_b).T\n",
    "\n",
    "sd_b=np.exp(np.random.choice(np.array(logsgrid),p=np.array(np.sum(sd_b_dens))/np.sum(np.sum(sd_b_dens)),size=nsim))\n",
    "mu_b=np.random.choice(np.array(mugrid),p=np.array(np.sum(mu_b_dens))/np.sum(np.sum(mu_b_dens)),size=nsim)\n",
    "#and final solution to gridsampling\n",
    "print(summ(mu_b))  "
   ]
  },
  {
   "cell_type": "code",
   "execution_count": 137,
   "id": "a5eab4a4",
   "metadata": {},
   "outputs": [
    {
     "name": "stdout",
     "output_type": "stream",
     "text": [
      "      mean     sd   2.5%     25%     50%     75%   97.5%\n",
      "info  10.4  0.721  8.985  10.022  10.398  10.777  11.818\n"
     ]
    }
   ],
   "source": [
    "#and final solution exact disregarding rounding\n",
    "print(summ(mu_a)) "
   ]
  },
  {
   "cell_type": "code",
   "execution_count": 138,
   "id": "920dd885",
   "metadata": {},
   "outputs": [
    {
     "name": "stdout",
     "output_type": "stream",
     "text": [
      "      mean     sd   2.5%    25%    50%    75%  97.5%\n",
      "info  1.37  0.733  0.611  0.932  1.186  1.604  3.209\n"
     ]
    }
   ],
   "source": [
    "#gridsampling\n",
    "print(summ(sd_b))"
   ]
  },
  {
   "cell_type": "code",
   "execution_count": 139,
   "id": "560808fa",
   "metadata": {},
   "outputs": [
    {
     "name": "stdout",
     "output_type": "stream",
     "text": [
      "       mean     sd   2.5%    25%    50%    75%  97.5%\n",
      "info  1.429  0.763  0.682  0.983  1.244  1.643  3.268\n"
     ]
    }
   ],
   "source": [
    "#and final solution exact disregarding rounding\n",
    "print(summ(sd_a))"
   ]
  },
  {
   "cell_type": "markdown",
   "id": "8e8c7c6e",
   "metadata": {},
   "source": [
    "#### d)"
   ]
  },
  {
   "cell_type": "code",
   "execution_count": 140,
   "id": "bec1768b",
   "metadata": {},
   "outputs": [
    {
     "name": "stdout",
     "output_type": "stream",
     "text": [
      "0.161\n"
     ]
    }
   ],
   "source": [
    "z=pd.DataFrame(np.ones([nsim, len(data)]))\n",
    "for i in range(len(data)):\n",
    "    lower=stats.norm.cdf(data[i]-0.5, mu_a, sd_a)\n",
    "    upper=stats.norm.cdf(data[i]+0.5, mu_a, sd_a)\n",
    "    z.iloc[:,i]=stats.norm.isf(lower+np.random.uniform(size=nsim)*(upper-lower), mu_a, sd_a)\n",
    "print(np.round(np.mean((z.iloc[:,1]-z.iloc[:,0])**2), 3))"
   ]
  },
  {
   "cell_type": "code",
   "execution_count": 141,
   "id": "bc5e7e29",
   "metadata": {},
   "outputs": [
    {
     "data": {
      "text/html": [
       "<div>\n",
       "<style scoped>\n",
       "    .dataframe tbody tr th:only-of-type {\n",
       "        vertical-align: middle;\n",
       "    }\n",
       "\n",
       "    .dataframe tbody tr th {\n",
       "        vertical-align: top;\n",
       "    }\n",
       "\n",
       "    .dataframe thead th {\n",
       "        text-align: right;\n",
       "    }\n",
       "</style>\n",
       "<table border=\"1\" class=\"dataframe\">\n",
       "  <thead>\n",
       "    <tr style=\"text-align: right;\">\n",
       "      <th></th>\n",
       "      <th>0</th>\n",
       "      <th>1</th>\n",
       "      <th>2</th>\n",
       "      <th>3</th>\n",
       "      <th>4</th>\n",
       "    </tr>\n",
       "  </thead>\n",
       "  <tbody>\n",
       "    <tr>\n",
       "      <th>0</th>\n",
       "      <td>10.570629</td>\n",
       "      <td>10.697264</td>\n",
       "      <td>9.124737</td>\n",
       "      <td>9.854338</td>\n",
       "      <td>11.732281</td>\n",
       "    </tr>\n",
       "    <tr>\n",
       "      <th>1</th>\n",
       "      <td>12.589080</td>\n",
       "      <td>12.461870</td>\n",
       "      <td>9.656742</td>\n",
       "      <td>11.512618</td>\n",
       "      <td>12.811464</td>\n",
       "    </tr>\n",
       "    <tr>\n",
       "      <th>2</th>\n",
       "      <td>10.559871</td>\n",
       "      <td>10.596340</td>\n",
       "      <td>8.272045</td>\n",
       "      <td>9.548933</td>\n",
       "      <td>11.423948</td>\n",
       "    </tr>\n",
       "    <tr>\n",
       "      <th>3</th>\n",
       "      <td>9.951138</td>\n",
       "      <td>10.431857</td>\n",
       "      <td>8.778781</td>\n",
       "      <td>9.445837</td>\n",
       "      <td>11.499463</td>\n",
       "    </tr>\n",
       "    <tr>\n",
       "      <th>4</th>\n",
       "      <td>11.791551</td>\n",
       "      <td>11.493454</td>\n",
       "      <td>9.832831</td>\n",
       "      <td>11.247038</td>\n",
       "      <td>12.728054</td>\n",
       "    </tr>\n",
       "  </tbody>\n",
       "</table>\n",
       "</div>"
      ],
      "text/plain": [
       "           0          1         2          3          4\n",
       "0  10.570629  10.697264  9.124737   9.854338  11.732281\n",
       "1  12.589080  12.461870  9.656742  11.512618  12.811464\n",
       "2  10.559871  10.596340  8.272045   9.548933  11.423948\n",
       "3   9.951138  10.431857  8.778781   9.445837  11.499463\n",
       "4  11.791551  11.493454  9.832831  11.247038  12.728054"
      ]
     },
     "execution_count": 141,
     "metadata": {},
     "output_type": "execute_result"
    }
   ],
   "source": [
    "z.head()"
   ]
  },
  {
   "cell_type": "code",
   "execution_count": null,
   "id": "204fd268",
   "metadata": {},
   "outputs": [],
   "source": []
  }
 ],
 "metadata": {
  "kernelspec": {
   "display_name": "Python 3 (ipykernel)",
   "language": "python",
   "name": "python3"
  },
  "language_info": {
   "codemirror_mode": {
    "name": "ipython",
    "version": 3
   },
   "file_extension": ".py",
   "mimetype": "text/x-python",
   "name": "python",
   "nbconvert_exporter": "python",
   "pygments_lexer": "ipython3",
   "version": "3.9.12"
  }
 },
 "nbformat": 4,
 "nbformat_minor": 5
}
