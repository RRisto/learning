{
 "cells": [
  {
   "cell_type": "code",
   "execution_count": 1,
   "id": "39767fd7",
   "metadata": {},
   "outputs": [],
   "source": [
    "import numpy as np\n",
    "import pandas as pd\n",
    "from scipy import stats\n",
    "from pathlib import Path\n",
    "\n",
    "%matplotlib inline\n",
    "import matplotlib.pyplot as plt"
   ]
  },
  {
   "cell_type": "code",
   "execution_count": 2,
   "id": "0b0cf512",
   "metadata": {},
   "outputs": [],
   "source": [
    "# add utilities directory to path\n",
    "import os, sys\n",
    "util_path = os.path.abspath(os.path.join(os.path.pardir, 'utilities_and_data'))\n",
    "if util_path not in sys.path and os.path.exists(util_path):\n",
    "    sys.path.insert(0, util_path)\n",
    "\n",
    "# import from utilities\n",
    "import sinvchi2\n",
    "import plot_tools"
   ]
  },
  {
   "cell_type": "markdown",
   "id": "7f50fea2",
   "metadata": {},
   "source": [
    "## Question 1"
   ]
  },
  {
   "cell_type": "markdown",
   "id": "2203866a",
   "metadata": {},
   "source": [
    "## Inference for normal mean and deviation (3 points)\n",
    "A factory has a production line for manufacturing car windshields. A sample of windshields\n",
    "has been taken for testing hardness. The observed hardness values y1 can be found in file\n",
    "windshieldy1.txt. The data can also be accessed from the aaltobda R package as follows:\n",
    "\n",
    "library(aaltobda)\n",
    "\n",
    "data(\"windshieldy1\")\n",
    "\n",
    "head(windshieldy1)\n",
    "\n",
    " [1] 13.357 14.928 14.896 15.297 14.820 12.067\n",
    " \n",
    " \n",
    "We may assume that the observations follow a normal distribution with an unknown standard\n",
    "deviation σ. We wish to obtain information about the unknown average hardness µ. For simplicity\n",
    "we assume standard uninformative prior discussed in the book, that is, p(µ, σ) ∝ σ−1\n",
    ". \n",
    "It is not necessary to derive the posterior distribution in the report, as it has already been done in the book.\n",
    "Below are test examples that can be used. The functions below can also be tested with markmyassignment.\n",
    "Note! This is only a test case. You need to change to the full data windshieldy above when  reporting your results.\n",
    "\n",
    "windshieldy_test <- c(13.357, 14.928, 14.896, 14.820)\n",
    "\n",
    "In the report, formulate (1) model likelihood, (2) the prior, and (3) the resulting posterior.\n",
    "\n",
    "a) What can you say about the unknown µ? Summarize your results using Bayesian point estimate\n",
    "(i.e. E(µ|y)), a posterior interval (95%), and plot the density. A test example can be found\n",
    "below for an uninformative prior. Note! Posterior intervals are also called credible intervals and\n",
    "are different from confidence intervals.\n",
    "\n",
    "mu_point_est(data = windshieldy_test)\n",
    "\n",
    " [1] 14.5\n",
    " \n",
    "mu_interval(data = windshieldy_test, prob = 0.95)\n",
    "\n",
    " [1] 13.3 15.7\n",
    " \n",
    "b) What can you say about the hardness of the next windshield coming from the production line\n",
    "before actually measuring the hardness? Summarize your results using Bayesian point estimate,\n",
    "a predictive interval (95%), and plot the density. A test example can be found below.\n",
    "\n",
    "mu_pred_point_est(data = windshieldy_test)\n",
    "\n",
    " [1] 14.5\n",
    " \n",
    "mu_pred_interval(data = windshieldy_test, prob = 0.95)\n",
    "\n",
    " [1] 11.8 17.2"
   ]
  },
  {
   "cell_type": "markdown",
   "id": "ef17787c",
   "metadata": {},
   "source": [
    "## Data"
   ]
  },
  {
   "cell_type": "code",
   "execution_count": 3,
   "id": "142750ee",
   "metadata": {},
   "outputs": [],
   "source": [
    "#test data!\n",
    "y =[13.357, 14.928, 14.896, 14.820]"
   ]
  },
  {
   "cell_type": "markdown",
   "id": "70879e1e",
   "metadata": {},
   "source": [
    "### a)"
   ]
  },
  {
   "cell_type": "code",
   "execution_count": 4,
   "id": "a01d3503",
   "metadata": {},
   "outputs": [],
   "source": [
    "# sufficient statistics\n",
    "n = len(y)\n",
    "s2 = np.var(y, ddof=1)  # here ddof=1 is used to get the sample estimate\n",
    "my = np.mean(y)"
   ]
  },
  {
   "cell_type": "code",
   "execution_count": 5,
   "id": "b8cb5b93",
   "metadata": {},
   "outputs": [
    {
     "data": {
      "text/plain": [
       "(14.50025, 0.5829495833333344)"
      ]
     },
     "execution_count": 5,
     "metadata": {},
     "output_type": "execute_result"
    }
   ],
   "source": [
    "my, s2"
   ]
  },
  {
   "cell_type": "code",
   "execution_count": 6,
   "id": "19e4487f",
   "metadata": {},
   "outputs": [],
   "source": [
    "tl1=[6,20]\n",
    "t1 = np.linspace(tl1[0], tl1[1], 100)\n",
    "\n",
    "# compute the exact marginal density for mu\n",
    "# multiplication by 1./sqrt(s2/n) is due to the transformation of variable\n",
    "# z=(x-mean(y))/sqrt(s2/n), see BDA3 p. 21\n",
    "pm_mu = stats.t.pdf((t1 - my) / np.sqrt(s2/n), n-1) / np.sqrt(s2/n)\n",
    "\n",
    "# compute the exact marginal density for mu for the filtered data\n",
    "# pm_mu_pos = (\n",
    "#     stats.t.pdf((t1 - my_pos) / np.sqrt(s2_pos/n_pos), n_pos-1) /\n",
    "#     np.sqrt(s2_pos/n_pos)\n",
    "# )"
   ]
  },
  {
   "cell_type": "code",
   "execution_count": 7,
   "id": "ccb48dee",
   "metadata": {},
   "outputs": [
    {
     "data": {
      "text/plain": [
       "[<matplotlib.lines.Line2D at 0x1e55391b160>]"
      ]
     },
     "execution_count": 7,
     "metadata": {},
     "output_type": "execute_result"
    },
    {
     "data": {
      "image/png": "[encoded data removed]",
      "text/plain": [
       "<Figure size 432x288 with 1 Axes>"
      ]
     },
     "metadata": {
      "needs_background": "light"
     },
     "output_type": "display_data"
    }
   ],
   "source": [
    "plt.plot(t1, pm_mu)"
   ]
  },
  {
   "cell_type": "code",
   "execution_count": 8,
   "id": "842fe4d6",
   "metadata": {},
   "outputs": [
    {
     "data": {
      "text/plain": [
       "14.5"
      ]
     },
     "execution_count": 8,
     "metadata": {},
     "output_type": "execute_result"
    }
   ],
   "source": [
    "#mean\n",
    "mean=round(t1[pm_mu.argmax()],1)\n",
    "mean"
   ]
  },
  {
   "cell_type": "code",
   "execution_count": 9,
   "id": "745da8c9",
   "metadata": {},
   "outputs": [
    {
     "data": {
      "text/plain": [
       "(13.3, 15.7)"
      ]
     },
     "execution_count": 9,
     "metadata": {},
     "output_type": "execute_result"
    }
   ],
   "source": [
    "#upper mean\n",
    "lower=stats.t.ppf(0.025, mean, loc=mean, scale=s2)\n",
    "upper=stats.t.ppf(0.975, mean, loc=mean, scale=s2)\n",
    "round(lower, 1), round(upper, 1)"
   ]
  },
  {
   "cell_type": "markdown",
   "id": "2633816c",
   "metadata": {},
   "source": [
    "### b)"
   ]
  },
  {
   "cell_type": "code",
   "execution_count": 10,
   "id": "b66e3014",
   "metadata": {},
   "outputs": [
    {
     "data": {
      "text/plain": [
       "[<matplotlib.lines.Line2D at 0x1e5540b30d0>]"
      ]
     },
     "execution_count": 10,
     "metadata": {},
     "output_type": "execute_result"
    },
    {
     "data": {
      "image/png": "[encoded data removed]",
      "text/plain": [
       "<Figure size 432x288 with 1 Axes>"
      ]
     },
     "metadata": {
      "needs_background": "light"
     },
     "output_type": "display_data"
    }
   ],
   "source": [
    "#estimate using pdf and turning into a grid\n",
    "tlynew = [5, 25]\n",
    "xynew = np.linspace(tlynew[0], tlynew[1], 10000)\n",
    "line=stats.t.pdf((xynew-my)/np.sqrt(s2*(1+1/n)), n-1) / np.sqrt(s2*(1+1/n))\n",
    "plt.plot(xynew, line)"
   ]
  },
  {
   "cell_type": "code",
   "execution_count": 11,
   "id": "e0f8f3b4",
   "metadata": {},
   "outputs": [
    {
     "data": {
      "text/plain": [
       "14.5"
      ]
     },
     "execution_count": 11,
     "metadata": {},
     "output_type": "execute_result"
    }
   ],
   "source": [
    "#mean\n",
    "mean_new=xynew[line.argmax()]\n",
    "round(mean_new, 1)"
   ]
  },
  {
   "cell_type": "code",
   "execution_count": 12,
   "id": "22842a4a",
   "metadata": {},
   "outputs": [
    {
     "data": {
      "text/plain": [
       "(11.8, 17.2)"
      ]
     },
     "execution_count": 12,
     "metadata": {},
     "output_type": "execute_result"
    }
   ],
   "source": [
    "#predictive intervals\n",
    "line_norm=line/line.sum()\n",
    "lower_new=xynew[(np.cumsum(line_norm)<0.025)][-1]\n",
    "upper_new=xynew[(np.cumsum(line_norm)>0.975)][0]\n",
    "round(lower_new, 1), round(upper_new, 1)"
   ]
  },
  {
   "cell_type": "markdown",
   "id": "d73c70ef",
   "metadata": {},
   "source": [
    "## Question 2 Inference for the difference between proportions"
   ]
  },
  {
   "cell_type": "markdown",
   "id": "68dd89be",
   "metadata": {},
   "source": [
    "An experiment was performed to estimate the effect of beta-blockers on mortality of cardiac patients. A group of patients was randomly assigned to treatment and control groups: out of 674 patients receiving the control, 39 died, and out of 680 receiving the treatment, 22 died. Assume that the outcomes are independent and binomially distributed, with probabilities of death of p0 and p1 under the control and treatment, respectively. Set up a noninformative or weakly informative prior distribution on (p0, p1)."
   ]
  },
  {
   "cell_type": "markdown",
   "id": "c7477039",
   "metadata": {},
   "source": [
    "In the report, formulate (1) model likelihood, (2) the prior, and (3) the resulting posterior."
   ]
  },
  {
   "cell_type": "markdown",
   "id": "069a6b9f",
   "metadata": {},
   "source": [
    "a) Summarize the posterior distribution for the odds ratio, (p1/(1 − p1))/(p0/(1 − p0)). Compute the point estimate, a posterior interval (95%), and plot the histogram. Use Frank Harrell’s recommendations how to state results in Bayesian two group comparison. Below is a test case on how the odd ratio should be computed. Note! This is only a test case. You need to change to the real posteriors when reporting your results."
   ]
  },
  {
   "cell_type": "code",
   "execution_count": 13,
   "id": "75fe39eb",
   "metadata": {},
   "outputs": [
    {
     "data": {
      "text/plain": [
       "(100000, 100000)"
      ]
     },
     "execution_count": 13,
     "metadata": {},
     "output_type": "execute_result"
    }
   ],
   "source": [
    "#experiment data created with R\n",
    "p0_data=pd.read_csv('data/p0.csv')['x'].tolist()\n",
    "p1_data=pd.read_csv('data/p1.csv')['x'].tolist()\n",
    "len(p0_data), len(p1_data)"
   ]
  },
  {
   "cell_type": "code",
   "execution_count": 14,
   "id": "bf024ccd",
   "metadata": {},
   "outputs": [
    {
     "data": {
      "image/png": "[encoded data removed]",
      "text/plain": [
       "<Figure size 432x288 with 1 Axes>"
      ]
     },
     "metadata": {
      "needs_background": "light"
     },
     "output_type": "display_data"
    }
   ],
   "source": [
    "_,_,_=plt.hist(p0_data, bins=50)"
   ]
  },
  {
   "cell_type": "code",
   "execution_count": 15,
   "id": "25ef9791",
   "metadata": {},
   "outputs": [
    {
     "data": {
      "image/png": "[encoded data removed]",
      "text/plain": [
       "<Figure size 432x288 with 1 Axes>"
      ]
     },
     "metadata": {
      "needs_background": "light"
     },
     "output_type": "display_data"
    }
   ],
   "source": [
    "_,_,_=plt.hist(p1_data, bins=50)"
   ]
  },
  {
   "cell_type": "code",
   "execution_count": 16,
   "id": "c2c7f267",
   "metadata": {},
   "outputs": [],
   "source": [
    "#assignment data\n",
    "treatment_all=680\n",
    "treatment_d=22\n",
    "treatment_l=treatment_all-treatment_d\n",
    "\n",
    "no_treatment_all=674\n",
    "no_treatment_d=39\n",
    "no_treatment_l=no_treatment_all-no_treatment_d"
   ]
  },
  {
   "cell_type": "code",
   "execution_count": 17,
   "id": "28cb3ed8",
   "metadata": {},
   "outputs": [],
   "source": [
    "#noninformative prior\n",
    "alpha_pri=1\n",
    "beta_pri=1"
   ]
  },
  {
   "cell_type": "code",
   "execution_count": 18,
   "id": "17308fb1",
   "metadata": {},
   "outputs": [
    {
     "data": {
      "text/plain": [
       "(23, 659)"
      ]
     },
     "execution_count": 18,
     "metadata": {},
     "output_type": "execute_result"
    }
   ],
   "source": [
    "#posteriors\n",
    "alpha_post_treat=alpha_pri+treatment_d\n",
    "beta_post_treat=beta_pri+treatment_all-treatment_d\n",
    "alpha_post_treat, beta_post_treat"
   ]
  },
  {
   "cell_type": "code",
   "execution_count": 19,
   "id": "7b15ce70",
   "metadata": {},
   "outputs": [
    {
     "data": {
      "text/plain": [
       "(40, 636)"
      ]
     },
     "execution_count": 19,
     "metadata": {},
     "output_type": "execute_result"
    }
   ],
   "source": [
    "alpha_post_notreat=alpha_pri+no_treatment_d\n",
    "beta_post_notreat=beta_pri+no_treatment_all-no_treatment_d\n",
    "alpha_post_notreat, beta_post_notreat"
   ]
  },
  {
   "cell_type": "code",
   "execution_count": 20,
   "id": "dac1359d",
   "metadata": {},
   "outputs": [],
   "source": [
    "#generate samples from posteriors\n",
    "post_samples_treat=stats.beta.rvs(alpha_post_treat, beta_post_treat, size=10000000)"
   ]
  },
  {
   "cell_type": "code",
   "execution_count": 21,
   "id": "fc7ebe0f",
   "metadata": {},
   "outputs": [],
   "source": [
    "post_samples_notreat=stats.beta.rvs(alpha_post_notreat, beta_post_notreat, size=10000000)"
   ]
  },
  {
   "cell_type": "code",
   "execution_count": 22,
   "id": "2ca6abf0",
   "metadata": {},
   "outputs": [],
   "source": [
    "# from data\n",
    "def odds_ratio(p0, p1):\n",
    "    p0=np.array(p0)\n",
    "    p1=np.array(p1)\n",
    "    return (p1/(1 - p1))/(p0/(1 - p0))"
   ]
  },
  {
   "cell_type": "code",
   "execution_count": 23,
   "id": "bcb2bc00",
   "metadata": {},
   "outputs": [
    {
     "data": {
      "image/png": "[encoded data removed]",
      "text/plain": [
       "<Figure size 432x288 with 1 Axes>"
      ]
     },
     "metadata": {
      "needs_background": "light"
     },
     "output_type": "display_data"
    }
   ],
   "source": [
    "odds_ratio_orig=odds_ratio(post_samples_notreat, post_samples_treat)\n",
    "_, bins_orig, dens_orig=plt.hist(odds_ratio_orig, bins=5000)\n",
    "dens_orig=dens_orig.datavalues/dens_orig.datavalues.sum()"
   ]
  },
  {
   "cell_type": "code",
   "execution_count": 24,
   "id": "ce0c5e70",
   "metadata": {},
   "outputs": [
    {
     "data": {
      "text/plain": [
       "0.32072619587077167"
      ]
     },
     "execution_count": 24,
     "metadata": {},
     "output_type": "execute_result"
    }
   ],
   "source": [
    "#<2.5% interval\n",
    "low_interval=bins_orig[1:][(dens_orig.cumsum()<0.025)][-1]\n",
    "low_interval"
   ]
  },
  {
   "cell_type": "code",
   "execution_count": 25,
   "id": "19dc7b85",
   "metadata": {},
   "outputs": [
    {
     "data": {
      "text/plain": [
       "0.9258512712284211"
      ]
     },
     "execution_count": 25,
     "metadata": {},
     "output_type": "execute_result"
    }
   ],
   "source": [
    "#>97.5% interval\n",
    "upper_interval=bins_orig[1:][(dens_orig.cumsum()>0.975)][0]\n",
    "upper_interval"
   ]
  },
  {
   "cell_type": "code",
   "execution_count": 26,
   "id": "c44c5cb4",
   "metadata": {},
   "outputs": [
    {
     "data": {
      "text/plain": [
       "0.5700988452511563"
      ]
     },
     "execution_count": 26,
     "metadata": {},
     "output_type": "execute_result"
    }
   ],
   "source": [
    "#median\n",
    "mean=np.mean(odds_ratio_orig)\n",
    "mean"
   ]
  },
  {
   "cell_type": "code",
   "execution_count": 27,
   "id": "bac26648",
   "metadata": {},
   "outputs": [
    {
     "data": {
      "text/plain": [
       "0.551529680406379"
      ]
     },
     "execution_count": 27,
     "metadata": {},
     "output_type": "execute_result"
    }
   ],
   "source": [
    "np.median(odds_ratio_orig)"
   ]
  },
  {
   "cell_type": "code",
   "execution_count": 28,
   "id": "a4ecb5fa",
   "metadata": {},
   "outputs": [
    {
     "data": {
      "text/plain": [
       "<matplotlib.collections.LineCollection at 0x1e556b39ac0>"
      ]
     },
     "execution_count": 28,
     "metadata": {},
     "output_type": "execute_result"
    },
    {
     "data": {
      "image/png": "[encoded data removed]",
      "text/plain": [
       "<Figure size 432x288 with 1 Axes>"
      ]
     },
     "metadata": {
      "needs_background": "light"
     },
     "output_type": "display_data"
    }
   ],
   "source": [
    "_,_, _=plt.hist(odds_ratio_orig, bins=5000)\n",
    "plt.vlines(low_interval, ymin=0, ymax=12000, colors=['red'], linestyles =\"dotted\")\n",
    "plt.vlines(upper_interval, ymin=0, ymax=12000, colors=['red'], linestyles =\"dotted\")\n",
    "plt.vlines(mean, ymin=0, ymax=12000, colors=['orange'])"
   ]
  },
  {
   "cell_type": "markdown",
   "id": "bc4cce65",
   "metadata": {},
   "source": [
    "### test data"
   ]
  },
  {
   "cell_type": "code",
   "execution_count": 29,
   "id": "97ca4853",
   "metadata": {},
   "outputs": [],
   "source": [
    "#test data odds ratio\n",
    "odds_r0=odds_ratio(p0_data, p1_data)\n",
    "odds_r1=odds_ratio(p1_data, p0_data)"
   ]
  },
  {
   "cell_type": "code",
   "execution_count": 30,
   "id": "3068319d",
   "metadata": {},
   "outputs": [
    {
     "data": {
      "image/png": "[encoded data removed]",
      "text/plain": [
       "<Figure size 432x288 with 1 Axes>"
      ]
     },
     "metadata": {
      "needs_background": "light"
     },
     "output_type": "display_data"
    }
   ],
   "source": [
    "_, bins, dens=plt.hist(odds_r0, bins=1000)"
   ]
  },
  {
   "cell_type": "code",
   "execution_count": 31,
   "id": "f4abfb84",
   "metadata": {},
   "outputs": [
    {
     "data": {
      "text/plain": [
       "(2.19110203634235, 2.6761463220977717)"
      ]
     },
     "execution_count": 31,
     "metadata": {},
     "output_type": "execute_result"
    }
   ],
   "source": [
    "np.median(odds_r0), np.mean(odds_r0)"
   ]
  },
  {
   "cell_type": "code",
   "execution_count": 32,
   "id": "8fa93aaa",
   "metadata": {},
   "outputs": [
    {
     "data": {
      "text/plain": [
       "0.456391342538714"
      ]
     },
     "execution_count": 32,
     "metadata": {},
     "output_type": "execute_result"
    }
   ],
   "source": [
    "np.median(odds_r1)"
   ]
  },
  {
   "cell_type": "code",
   "execution_count": 33,
   "id": "7bc12b37",
   "metadata": {},
   "outputs": [],
   "source": [
    "#normalize to get density that sum to 1\n",
    "dens=dens.datavalues/dens.datavalues.sum()"
   ]
  },
  {
   "cell_type": "code",
   "execution_count": 34,
   "id": "52e8f614",
   "metadata": {},
   "outputs": [
    {
     "data": {
      "text/plain": [
       "2.161365167826495"
      ]
     },
     "execution_count": 34,
     "metadata": {},
     "output_type": "execute_result"
    }
   ],
   "source": [
    "#median\n",
    "median_test=bins[1:][(dens.cumsum()<=0.5)][-1]\n",
    "median_test"
   ]
  },
  {
   "cell_type": "code",
   "execution_count": 35,
   "id": "f699926b",
   "metadata": {},
   "outputs": [
    {
     "data": {
      "text/plain": [
       "2.6761463220977717"
      ]
     },
     "execution_count": 35,
     "metadata": {},
     "output_type": "execute_result"
    }
   ],
   "source": [
    "#mean\n",
    "mean_test=np.mean(odds_r0)\n",
    "mean_test"
   ]
  },
  {
   "cell_type": "code",
   "execution_count": 36,
   "id": "bf654f89",
   "metadata": {},
   "outputs": [
    {
     "data": {
      "text/plain": [
       "0.8285252912120592"
      ]
     },
     "execution_count": 36,
     "metadata": {},
     "output_type": "execute_result"
    }
   ],
   "source": [
    "lower_test=bins[1:][(dens.cumsum()<0.05)][-1]\n",
    "lower_test"
   ]
  },
  {
   "cell_type": "code",
   "execution_count": 37,
   "id": "92eefa97",
   "metadata": {},
   "outputs": [
    {
     "data": {
      "text/plain": [
       "6.061155917920584"
      ]
     },
     "execution_count": 37,
     "metadata": {},
     "output_type": "execute_result"
    }
   ],
   "source": [
    "upper_test=bins[1:][(dens.cumsum()>0.95)][0]\n",
    "upper_test"
   ]
  },
  {
   "cell_type": "code",
   "execution_count": 38,
   "id": "5d88dc2a",
   "metadata": {},
   "outputs": [
    {
     "data": {
      "text/plain": [
       "<matplotlib.collections.LineCollection at 0x1e55758c460>"
      ]
     },
     "execution_count": 38,
     "metadata": {},
     "output_type": "execute_result"
    },
    {
     "data": {
      "image/png": "[encoded data removed]",
      "text/plain": [
       "<Figure size 432x288 with 1 Axes>"
      ]
     },
     "metadata": {
      "needs_background": "light"
     },
     "output_type": "display_data"
    }
   ],
   "source": [
    "plt.plot(bins[1:], dens)\n",
    "plt.vlines(lower_test, ymin=0, ymax=0.02, colors=['red'], linestyles =\"dotted\")\n",
    "plt.vlines(upper_test, ymin=0, ymax=0.02, colors=['red'], linestyles =\"dotted\")\n",
    "plt.vlines(mean_test, ymin=0, ymax=0.02, colors=['orange'])"
   ]
  },
  {
   "cell_type": "code",
   "execution_count": 39,
   "id": "f2e43b96",
   "metadata": {},
   "outputs": [
    {
     "data": {
      "image/png": "[encoded data removed]",
      "text/plain": [
       "<Figure size 432x288 with 1 Axes>"
      ]
     },
     "metadata": {
      "needs_background": "light"
     },
     "output_type": "display_data"
    }
   ],
   "source": [
    "#odds ratio other way\n",
    "_, bins1, dens1=plt.hist(odds_r1, bins=2000)"
   ]
  },
  {
   "cell_type": "code",
   "execution_count": 40,
   "id": "72260715",
   "metadata": {},
   "outputs": [],
   "source": [
    "dens1=dens1.datavalues/dens1.datavalues.sum()"
   ]
  },
  {
   "cell_type": "code",
   "execution_count": 41,
   "id": "25676320",
   "metadata": {},
   "outputs": [
    {
     "data": {
      "text/plain": [
       "0.5307908553237887"
      ]
     },
     "execution_count": 41,
     "metadata": {},
     "output_type": "execute_result"
    }
   ],
   "source": [
    "#mean\n",
    "mean_test1=np.mean(odds_r1)\n",
    "mean_test1"
   ]
  },
  {
   "cell_type": "code",
   "execution_count": 42,
   "id": "ff08b858",
   "metadata": {},
   "outputs": [
    {
     "data": {
      "text/plain": [
       "0.16418547506953873"
      ]
     },
     "execution_count": 42,
     "metadata": {},
     "output_type": "execute_result"
    }
   ],
   "source": [
    "#lower\n",
    "lower_test1=bins1[1:][(dens1.cumsum()<0.05)][-1]\n",
    "lower_test1"
   ]
  },
  {
   "cell_type": "code",
   "execution_count": 43,
   "id": "22d0d3a7",
   "metadata": {},
   "outputs": [
    {
     "data": {
      "text/plain": [
       "1.1428816395793717"
      ]
     },
     "execution_count": 43,
     "metadata": {},
     "output_type": "execute_result"
    }
   ],
   "source": [
    "#upper\n",
    "upper_test1=bins1[1:][(dens1.cumsum()>0.95)][0]\n",
    "upper_test1"
   ]
  },
  {
   "cell_type": "code",
   "execution_count": 44,
   "id": "cb6a8f11",
   "metadata": {},
   "outputs": [
    {
     "data": {
      "text/plain": [
       "<matplotlib.collections.LineCollection at 0x1e55a1451c0>"
      ]
     },
     "execution_count": 44,
     "metadata": {},
     "output_type": "execute_result"
    },
    {
     "data": {
      "image/png": "[encoded data removed]",
      "text/plain": [
       "<Figure size 432x288 with 1 Axes>"
      ]
     },
     "metadata": {
      "needs_background": "light"
     },
     "output_type": "display_data"
    }
   ],
   "source": [
    "plt.plot(bins1[1:], dens1)\n",
    "plt.vlines(lower_test1, ymin=0, ymax=0.005, colors=['red'], linestyles =\"dotted\")\n",
    "plt.vlines(upper_test1, ymin=0, ymax=0.005, colors=['red'], linestyles =\"dotted\")\n",
    "plt.vlines(mean_test1, ymin=0, ymax=0.005, colors=['orange'])"
   ]
  },
  {
   "cell_type": "markdown",
   "id": "5b57d695",
   "metadata": {},
   "source": [
    "## Question 3 Inference for the difference between normal means"
   ]
  },
  {
   "cell_type": "markdown",
   "id": "508094fe",
   "metadata": {},
   "source": [
    "Consider a case where the same factory has two production lines for manufacturing car windshields. Independent samples from the two production lines were tested for hardness. The hardness measurements for the two samples y1 and y2 are given in the files windshieldy1.txt and windshieldy2.txt. These can be accessed directly with"
   ]
  },
  {
   "cell_type": "code",
   "execution_count": 152,
   "id": "41bbb40b",
   "metadata": {},
   "outputs": [],
   "source": [
    "w1=Path('data/windshieldy1.txt').read_text().split('\\n')\n",
    "w2=Path('data/windshieldy2.txt').read_text().split('\\n')\n",
    "w1=[float(w) for w in w1 if w!='']\n",
    "w2=[float(w) for w in w2 if w!='']"
   ]
  },
  {
   "cell_type": "code",
   "execution_count": 153,
   "id": "a1bc4c26",
   "metadata": {},
   "outputs": [
    {
     "data": {
      "text/plain": [
       "(array([1., 0., 1., 1., 0., 4., 1., 0., 0., 1.]),\n",
       " array([12.067, 12.605, 13.143, 13.681, 14.219, 14.757, 15.295, 15.833,\n",
       "        16.371, 16.909, 17.447]),\n",
       " <BarContainer object of 10 artists>)"
      ]
     },
     "execution_count": 153,
     "metadata": {},
     "output_type": "execute_result"
    },
    {
     "data": {
      "image/png": "[encoded data removed]",
      "text/plain": [
       "<Figure size 432x288 with 1 Axes>"
      ]
     },
     "metadata": {
      "needs_background": "light"
     },
     "output_type": "display_data"
    }
   ],
   "source": [
    "plt.hist(w1)"
   ]
  },
  {
   "cell_type": "code",
   "execution_count": 154,
   "id": "70f27d65",
   "metadata": {},
   "outputs": [
    {
     "data": {
      "text/plain": [
       "(array([1., 1., 0., 2., 1., 5., 0., 1., 0., 2.]),\n",
       " array([14.206 , 14.5104, 14.8148, 15.1192, 15.4236, 15.728 , 16.0324,\n",
       "        16.3368, 16.6412, 16.9456, 17.25  ]),\n",
       " <BarContainer object of 10 artists>)"
      ]
     },
     "execution_count": 154,
     "metadata": {},
     "output_type": "execute_result"
    },
    {
     "data": {
      "image/png": "[encoded data removed]",
      "text/plain": [
       "<Figure size 432x288 with 1 Axes>"
      ]
     },
     "metadata": {
      "needs_background": "light"
     },
     "output_type": "display_data"
    }
   ],
   "source": [
    "plt.hist(w2)"
   ]
  },
  {
   "cell_type": "markdown",
   "id": "9361f68c",
   "metadata": {},
   "source": [
    "### calculate posterior"
   ]
  },
  {
   "cell_type": "code",
   "execution_count": 155,
   "id": "993a1f6f",
   "metadata": {},
   "outputs": [],
   "source": [
    "def calc_posterior(data, n_samples=1000, range_start=0, range_stop=30):\n",
    "    n = len(data)\n",
    "    s2 = np.var(data, ddof=1)  # here ddof=1 is used to get the sample estimate\n",
    "    my = np.mean(data)\n",
    "    tl1=[range_start, range_stop]\n",
    "    t1 = np.linspace(tl1[0], tl1[1], n_samples)\n",
    "    pm_mu = stats.t.pdf((t1 - my) / np.sqrt(s2/n), n-1) / np.sqrt(s2/n)\n",
    "    return t1, pm_mu"
   ]
  },
  {
   "cell_type": "code",
   "execution_count": 156,
   "id": "1e364a08",
   "metadata": {},
   "outputs": [
    {
     "data": {
      "text/plain": [
       "[<matplotlib.lines.Line2D at 0x1e55ce58550>]"
      ]
     },
     "execution_count": 156,
     "metadata": {},
     "output_type": "execute_result"
    },
    {
     "data": {
      "image/png": "[encoded data removed]",
      "text/plain": [
       "<Figure size 432x288 with 1 Axes>"
      ]
     },
     "metadata": {
      "needs_background": "light"
     },
     "output_type": "display_data"
    }
   ],
   "source": [
    "t1_w1, pm_mu_w1 =calc_posterior(w1, range_start=12, range_stop=18)\n",
    "pm_mu_w1=pm_mu_w1/pm_mu_w1.sum()\n",
    "plt.plot(t1_w1, pm_mu_w1)"
   ]
  },
  {
   "cell_type": "code",
   "execution_count": 157,
   "id": "1f38d65a",
   "metadata": {},
   "outputs": [
    {
     "data": {
      "text/plain": [
       "14.612612612612612"
      ]
     },
     "execution_count": 157,
     "metadata": {},
     "output_type": "execute_result"
    }
   ],
   "source": [
    "mean_w1=t1_w1[pm_mu_w1.argmax()]\n",
    "mean_w1"
   ]
  },
  {
   "cell_type": "code",
   "execution_count": 158,
   "id": "f62181dc",
   "metadata": {},
   "outputs": [
    {
     "data": {
      "text/plain": [
       "[<matplotlib.lines.Line2D at 0x1e55cebb460>]"
      ]
     },
     "execution_count": 158,
     "metadata": {},
     "output_type": "execute_result"
    },
    {
     "data": {
      "image/png": "[encoded data removed]",
      "text/plain": [
       "<Figure size 432x288 with 1 Axes>"
      ]
     },
     "metadata": {
      "needs_background": "light"
     },
     "output_type": "display_data"
    }
   ],
   "source": [
    "t1_w2, pm_mu_w2 =calc_posterior(w2, range_start=12, range_stop=18)\n",
    "pm_mu_w2=pm_mu_w2/pm_mu_w2.sum()\n",
    "plt.plot(t1_w2, pm_mu_w2)"
   ]
  },
  {
   "cell_type": "code",
   "execution_count": 159,
   "id": "b7155324",
   "metadata": {},
   "outputs": [
    {
     "data": {
      "text/plain": [
       "15.81981981981982"
      ]
     },
     "execution_count": 159,
     "metadata": {},
     "output_type": "execute_result"
    }
   ],
   "source": [
    "mean_w2=t1_w2[pm_mu_w2.argmax()]\n",
    "mean_w2"
   ]
  },
  {
   "cell_type": "markdown",
   "id": "a7f5f363",
   "metadata": {},
   "source": [
    "### calculate μd = μ1 − μ2"
   ]
  },
  {
   "cell_type": "code",
   "execution_count": 178,
   "id": "e497237e",
   "metadata": {},
   "outputs": [],
   "source": [
    "def get_post_samples(data, n_samples=1000000):\n",
    "    n = len(data)\n",
    "    s2 = np.var(data, ddof=1)  # here ddof=1 is used to get the sample estimate\n",
    "    my = np.mean(data)\n",
    "    samples=stats.t.rvs(my, loc=my, scale=np.sqrt(s2/n), size=n_samples)\n",
    "    return samples"
   ]
  },
  {
   "cell_type": "code",
   "execution_count": 179,
   "id": "355a2093",
   "metadata": {},
   "outputs": [],
   "source": [
    "samples_w1=get_post_samples(w1)"
   ]
  },
  {
   "cell_type": "code",
   "execution_count": 180,
   "id": "23e18905",
   "metadata": {},
   "outputs": [],
   "source": [
    "samples_w2=get_post_samples(w2)"
   ]
  },
  {
   "cell_type": "code",
   "execution_count": 182,
   "id": "5277ffb1",
   "metadata": {},
   "outputs": [
    {
     "data": {
      "image/png": "[encoded data removed]",
      "text/plain": [
       "<Figure size 432x288 with 1 Axes>"
      ]
     },
     "metadata": {
      "needs_background": "light"
     },
     "output_type": "display_data"
    }
   ],
   "source": [
    "_, bins1, dens1=plt.hist(samples_w1, bins=1000)"
   ]
  },
  {
   "cell_type": "code",
   "execution_count": 183,
   "id": "627f9822",
   "metadata": {},
   "outputs": [
    {
     "data": {
      "image/png": "[encoded data removed]",
      "text/plain": [
       "<Figure size 432x288 with 1 Axes>"
      ]
     },
     "metadata": {
      "needs_background": "light"
     },
     "output_type": "display_data"
    }
   ],
   "source": [
    "_, bins2, dens2=plt.hist(samples_w2, bins=1000, range=(11, 18))"
   ]
  },
  {
   "cell_type": "code",
   "execution_count": 186,
   "id": "914b57ef",
   "metadata": {},
   "outputs": [
    {
     "data": {
      "image/png": "[encoded data removed]",
      "text/plain": [
       "<Figure size 432x288 with 1 Axes>"
      ]
     },
     "metadata": {
      "needs_background": "light"
     },
     "output_type": "display_data"
    }
   ],
   "source": [
    "diff=samples_w1-samples_w2\n",
    "_,bins_diff,dens_diff=plt.hist(diff, bins=1000)"
   ]
  },
  {
   "cell_type": "code",
   "execution_count": 198,
   "id": "63fbda09",
   "metadata": {},
   "outputs": [
    {
     "data": {
      "text/plain": [
       "-1.2098692923633037"
      ]
     },
     "execution_count": 198,
     "metadata": {},
     "output_type": "execute_result"
    }
   ],
   "source": [
    "diff_mean=np.mean(diff)\n",
    "diff_mean"
   ]
  },
  {
   "cell_type": "code",
   "execution_count": 199,
   "id": "d3a4bbb2",
   "metadata": {},
   "outputs": [
    {
     "data": {
      "text/plain": [
       "-2.1754504850188394"
      ]
     },
     "execution_count": 199,
     "metadata": {},
     "output_type": "execute_result"
    }
   ],
   "source": [
    "dens_diff_norm=dens_diff.datavalues/dens_diff.datavalues.sum()\n",
    "diff_low=bins_diff[1:][(dens_diff_norm.cumsum()<0.05)][-1]\n",
    "diff_low"
   ]
  },
  {
   "cell_type": "code",
   "execution_count": 200,
   "id": "efee3164",
   "metadata": {},
   "outputs": [
    {
     "data": {
      "text/plain": [
       "-0.23967580659903387"
      ]
     },
     "execution_count": 200,
     "metadata": {},
     "output_type": "execute_result"
    }
   ],
   "source": [
    "diff_high=bins_diff[1:][(dens_diff_norm.cumsum()>0.95)][0]\n",
    "diff_high"
   ]
  },
  {
   "cell_type": "code",
   "execution_count": 201,
   "id": "b60f385a",
   "metadata": {},
   "outputs": [
    {
     "data": {
      "text/plain": [
       "<matplotlib.collections.LineCollection at 0x1e56c1249d0>"
      ]
     },
     "execution_count": 201,
     "metadata": {},
     "output_type": "execute_result"
    },
    {
     "data": {
      "image/png": "[encoded data removed]",
      "text/plain": [
       "<Figure size 432x288 with 1 Axes>"
      ]
     },
     "metadata": {
      "needs_background": "light"
     },
     "output_type": "display_data"
    }
   ],
   "source": [
    "_,bins_diff,dens_diff=plt.hist(diff, bins=1000)\n",
    "plt.vlines(diff_low, ymin=0, ymax=6000, colors=['red'], linestyles =\"dotted\")\n",
    "plt.vlines(diff_high, ymin=0, ymax=6000, colors=['red'], linestyles =\"dotted\")\n",
    "plt.vlines(diff_mean, ymin=0, ymax=6000, colors=['orange'])"
   ]
  },
  {
   "cell_type": "code",
   "execution_count": null,
   "id": "34716d1d",
   "metadata": {},
   "outputs": [],
   "source": []
  }
 ],
 "metadata": {
  "kernelspec": {
   "display_name": "Python 3 (ipykernel)",
   "language": "python",
   "name": "python3"
  },
  "language_info": {
   "codemirror_mode": {
    "name": "ipython",
    "version": 3
   },
   "file_extension": ".py",
   "mimetype": "text/x-python",
   "name": "python",
   "nbconvert_exporter": "python",
   "pygments_lexer": "ipython3",
   "version": "3.9.12"
  }
 },
 "nbformat": 4,
 "nbformat_minor": 5
}
