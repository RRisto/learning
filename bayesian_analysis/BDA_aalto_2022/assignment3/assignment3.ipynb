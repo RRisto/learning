{
 "cells": [
  {
   "cell_type": "code",
   "execution_count": 1,
   "id": "39767fd7",
   "metadata": {},
   "outputs": [],
   "source": [
    "import numpy as np\n",
    "from scipy import stats\n",
    "\n",
    "%matplotlib inline\n",
    "import matplotlib.pyplot as plt"
   ]
  },
  {
   "cell_type": "code",
   "execution_count": 5,
   "id": "0b0cf512",
   "metadata": {},
   "outputs": [],
   "source": [
    "# add utilities directory to path\n",
    "import os, sys\n",
    "util_path = os.path.abspath(os.path.join(os.path.pardir, 'utilities_and_data'))\n",
    "if util_path not in sys.path and os.path.exists(util_path):\n",
    "    sys.path.insert(0, util_path)\n",
    "\n",
    "# import from utilities\n",
    "import sinvchi2\n",
    "import plot_tools"
   ]
  },
  {
   "cell_type": "markdown",
   "id": "7f50fea2",
   "metadata": {},
   "source": [
    "## Question 1"
   ]
  },
  {
   "cell_type": "markdown",
   "id": "2203866a",
   "metadata": {},
   "source": [
    "## Inference for normal mean and deviation (3 points)\n",
    "A factory has a production line for manufacturing car windshields. A sample of windshields\n",
    "has been taken for testing hardness. The observed hardness values y1 can be found in file\n",
    "windshieldy1.txt. The data can also be accessed from the aaltobda R package as follows:\n",
    "\n",
    "library(aaltobda)\n",
    "\n",
    "data(\"windshieldy1\")\n",
    "\n",
    "head(windshieldy1)\n",
    "\n",
    " [1] 13.357 14.928 14.896 15.297 14.820 12.067\n",
    " \n",
    " \n",
    "We may assume that the observations follow a normal distribution with an unknown standard\n",
    "deviation σ. We wish to obtain information about the unknown average hardness µ. For simplicity\n",
    "we assume standard uninformative prior discussed in the book, that is, p(µ, σ) ∝ σ−1\n",
    ". \n",
    "It is not necessary to derive the posterior distribution in the report, as it has already been done in the book.\n",
    "Below are test examples that can be used. The functions below can also be tested with markmyassignment.\n",
    "Note! This is only a test case. You need to change to the full data windshieldy above when  reporting your results.\n",
    "\n",
    "windshieldy_test <- c(13.357, 14.928, 14.896, 14.820)\n",
    "\n",
    "In the report, formulate (1) model likelihood, (2) the prior, and (3) the resulting posterior.\n",
    "\n",
    "a) What can you say about the unknown µ? Summarize your results using Bayesian point estimate\n",
    "(i.e. E(µ|y)), a posterior interval (95%), and plot the density. A test example can be found\n",
    "below for an uninformative prior. Note! Posterior intervals are also called credible intervals and\n",
    "are different from confidence intervals.\n",
    "\n",
    "mu_point_est(data = windshieldy_test)\n",
    "\n",
    " [1] 14.5\n",
    " \n",
    "mu_interval(data = windshieldy_test, prob = 0.95)\n",
    "\n",
    " [1] 13.3 15.7\n",
    " \n",
    "b) What can you say about the hardness of the next windshield coming from the production line\n",
    "before actually measuring the hardness? Summarize your results using Bayesian point estimate,\n",
    "a predictive interval (95%), and plot the density. A test example can be found below.\n",
    "\n",
    "mu_pred_point_est(data = windshieldy_test)\n",
    "\n",
    " [1] 14.5\n",
    " \n",
    "mu_pred_interval(data = windshieldy_test, prob = 0.95)\n",
    "\n",
    " [1] 11.8 17.2"
   ]
  },
  {
   "cell_type": "markdown",
   "id": "ef17787c",
   "metadata": {},
   "source": [
    "## Data"
   ]
  },
  {
   "cell_type": "code",
   "execution_count": 4,
   "id": "142750ee",
   "metadata": {},
   "outputs": [],
   "source": [
    "#test data!\n",
    "y =[13.357, 14.928, 14.896, 14.820]"
   ]
  },
  {
   "cell_type": "code",
   "execution_count": 17,
   "id": "a01d3503",
   "metadata": {},
   "outputs": [],
   "source": [
    "# sufficient statistics\n",
    "n = len(y)\n",
    "s2 = np.var(y, ddof=1)  # here ddof=1 is used to get the sample estimate\n",
    "my = np.mean(y)"
   ]
  },
  {
   "cell_type": "code",
   "execution_count": 18,
   "id": "b8cb5b93",
   "metadata": {},
   "outputs": [
    {
     "data": {
      "text/plain": [
       "(14.50025, 0.5829495833333344)"
      ]
     },
     "execution_count": 18,
     "metadata": {},
     "output_type": "execute_result"
    }
   ],
   "source": [
    "my, s2"
   ]
  },
  {
   "cell_type": "code",
   "execution_count": 26,
   "id": "19e4487f",
   "metadata": {},
   "outputs": [],
   "source": [
    "t=[6,13]\n",
    "t1 = np.linspace(tl1[0], tl1[1], 100)\n",
    "\n",
    "# compute the exact marginal density for mu\n",
    "# multiplication by 1./sqrt(s2/n) is due to the transformation of variable\n",
    "# z=(x-mean(y))/sqrt(s2/n), see BDA3 p. 21\n",
    "pm_mu = stats.t.pdf((t1 - my) / np.sqrt(s2/n), n-1) / np.sqrt(s2/n)\n",
    "\n",
    "# compute the exact marginal density for mu for the filtered data\n",
    "# pm_mu_pos = (\n",
    "#     stats.t.pdf((t1 - my_pos) / np.sqrt(s2_pos/n_pos), n_pos-1) /\n",
    "#     np.sqrt(s2_pos/n_pos)\n",
    "# )"
   ]
  },
  {
   "cell_type": "code",
   "execution_count": 30,
   "id": "ccb48dee",
   "metadata": {},
   "outputs": [
    {
     "data": {
      "text/plain": [
       "[<matplotlib.lines.Line2D at 0x2bfbb6bcf70>]"
      ]
     },
     "execution_count": 30,
     "metadata": {},
     "output_type": "execute_result"
    },
    {
     "data": {
      "image/png": "[encoded data removed]",
      "text/plain": [
       "<Figure size 432x288 with 1 Axes>"
      ]
     },
     "metadata": {
      "needs_background": "light"
     },
     "output_type": "display_data"
    }
   ],
   "source": [
    "plt.plot(t1, pm_mu)"
   ]
  },
  {
   "cell_type": "code",
   "execution_count": 43,
   "id": "63796e88",
   "metadata": {},
   "outputs": [],
   "source": [
    "# set random number generator with seed\n",
    "rng = np.random.RandomState(seed=0)\n",
    "\n",
    "sigma2 = sinvchi2.rvs(n-1, s2, size=100000, random_state=rng)\n",
    "# sample from p(mu|sigma2,y) \n",
    "mu = my + np.sqrt(sigma2/n)*rng.randn(*sigma2.shape)\n",
    "# display sigma instead of sigma2\n",
    "sigma = np.sqrt(sigma2)"
   ]
  },
  {
   "cell_type": "code",
   "execution_count": 57,
   "id": "7ab654bd",
   "metadata": {},
   "outputs": [
    {
     "data": {
      "text/plain": [
       "14.49892168880364"
      ]
     },
     "execution_count": 57,
     "metadata": {},
     "output_type": "execute_result"
    }
   ],
   "source": [
    "np.median(mu)"
   ]
  },
  {
   "cell_type": "code",
   "execution_count": 58,
   "id": "ef479229",
   "metadata": {},
   "outputs": [
    {
     "data": {
      "text/plain": [
       "0.8575364579859606"
      ]
     },
     "execution_count": 58,
     "metadata": {},
     "output_type": "execute_result"
    }
   ],
   "source": [
    "np.median(sigma)"
   ]
  },
  {
   "cell_type": "code",
   "execution_count": 47,
   "id": "3eb62245",
   "metadata": {},
   "outputs": [
    {
     "data": {
      "text/plain": [
       "(12.818181115721112, 16.17966226188617)"
      ]
     },
     "execution_count": 47,
     "metadata": {},
     "output_type": "execute_result"
    }
   ],
   "source": [
    "conf_level=0.95\n",
    "interval_upper=stats.norm.ppf(conf_level+(1-conf_level)/2, np.median(mu), np.median(sigma))\n",
    "inteval_lower=stats.norm.ppf((1-conf_level)/2, np.median(mu), np.median(sigma))\n",
    "inteval_lower, interval_upper"
   ]
  },
  {
   "cell_type": "code",
   "execution_count": 50,
   "id": "64ba1b77",
   "metadata": {},
   "outputs": [
    {
     "data": {
      "text/plain": [
       "(Mean(statistic=14.50025, minmax=(13.601840152074931, 15.398659847925067)),\n",
       " Variance(statistic=1.7488487500000032, minmax=(0.2237888217800168, 4.970490415210898)),\n",
       " Std_dev(statistic=1.055154819507702, minmax=(0.4730632323273674, 2.22945966889085)))"
      ]
     },
     "execution_count": 50,
     "metadata": {},
     "output_type": "execute_result"
    }
   ],
   "source": [
    "stats.bayes_mvs(y)"
   ]
  },
  {
   "cell_type": "code",
   "execution_count": null,
   "id": "745da8c9",
   "metadata": {},
   "outputs": [],
   "source": []
  }
 ],
 "metadata": {
  "kernelspec": {
   "display_name": "Python 3 (ipykernel)",
   "language": "python",
   "name": "python3"
  },
  "language_info": {
   "codemirror_mode": {
    "name": "ipython",
    "version": 3
   },
   "file_extension": ".py",
   "mimetype": "text/x-python",
   "name": "python",
   "nbconvert_exporter": "python",
   "pygments_lexer": "ipython3",
   "version": "3.9.12"
  }
 },
 "nbformat": 4,
 "nbformat_minor": 5
}
