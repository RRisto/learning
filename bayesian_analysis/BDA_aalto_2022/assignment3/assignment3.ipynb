{
 "cells": [
  {
   "cell_type": "code",
   "execution_count": 4,
   "id": "39767fd7",
   "metadata": {},
   "outputs": [],
   "source": [
    "import numpy as np\n",
    "from scipy import stats\n",
    "\n",
    "%matplotlib inline\n",
    "import matplotlib.pyplot as plt"
   ]
  },
  {
   "cell_type": "code",
   "execution_count": 1,
   "id": "0b0cf512",
   "metadata": {},
   "outputs": [],
   "source": [
    "# add utilities directory to path\n",
    "import os, sys\n",
    "util_path = os.path.abspath(os.path.join(os.path.pardir, 'utilities_and_data'))\n",
    "if util_path not in sys.path and os.path.exists(util_path):\n",
    "    sys.path.insert(0, util_path)\n",
    "\n",
    "# import from utilities\n",
    "import sinvchi2\n",
    "import plot_tools"
   ]
  },
  {
   "cell_type": "markdown",
   "id": "7f50fea2",
   "metadata": {},
   "source": [
    "## Question 1"
   ]
  },
  {
   "cell_type": "markdown",
   "id": "2203866a",
   "metadata": {},
   "source": [
    "## Inference for normal mean and deviation (3 points)\n",
    "A factory has a production line for manufacturing car windshields. A sample of windshields\n",
    "has been taken for testing hardness. The observed hardness values y1 can be found in file\n",
    "windshieldy1.txt. The data can also be accessed from the aaltobda R package as follows:\n",
    "\n",
    "library(aaltobda)\n",
    "\n",
    "data(\"windshieldy1\")\n",
    "\n",
    "head(windshieldy1)\n",
    "\n",
    " [1] 13.357 14.928 14.896 15.297 14.820 12.067\n",
    " \n",
    " \n",
    "We may assume that the observations follow a normal distribution with an unknown standard\n",
    "deviation σ. We wish to obtain information about the unknown average hardness µ. For simplicity\n",
    "we assume standard uninformative prior discussed in the book, that is, p(µ, σ) ∝ σ−1\n",
    ". \n",
    "It is not necessary to derive the posterior distribution in the report, as it has already been done in the book.\n",
    "Below are test examples that can be used. The functions below can also be tested with markmyassignment.\n",
    "Note! This is only a test case. You need to change to the full data windshieldy above when  reporting your results.\n",
    "\n",
    "windshieldy_test <- c(13.357, 14.928, 14.896, 14.820)\n",
    "\n",
    "In the report, formulate (1) model likelihood, (2) the prior, and (3) the resulting posterior.\n",
    "\n",
    "a) What can you say about the unknown µ? Summarize your results using Bayesian point estimate\n",
    "(i.e. E(µ|y)), a posterior interval (95%), and plot the density. A test example can be found\n",
    "below for an uninformative prior. Note! Posterior intervals are also called credible intervals and\n",
    "are different from confidence intervals.\n",
    "\n",
    "mu_point_est(data = windshieldy_test)\n",
    "\n",
    " [1] 14.5\n",
    " \n",
    "mu_interval(data = windshieldy_test, prob = 0.95)\n",
    "\n",
    " [1] 13.3 15.7\n",
    " \n",
    "b) What can you say about the hardness of the next windshield coming from the production line\n",
    "before actually measuring the hardness? Summarize your results using Bayesian point estimate,\n",
    "a predictive interval (95%), and plot the density. A test example can be found below.\n",
    "\n",
    "mu_pred_point_est(data = windshieldy_test)\n",
    "\n",
    " [1] 14.5\n",
    " \n",
    "mu_pred_interval(data = windshieldy_test, prob = 0.95)\n",
    "\n",
    " [1] 11.8 17.2"
   ]
  },
  {
   "cell_type": "markdown",
   "id": "ef17787c",
   "metadata": {},
   "source": [
    "## Data"
   ]
  },
  {
   "cell_type": "code",
   "execution_count": 2,
   "id": "142750ee",
   "metadata": {},
   "outputs": [],
   "source": [
    "#test data!\n",
    "y =[13.357, 14.928, 14.896, 14.820]"
   ]
  },
  {
   "cell_type": "markdown",
   "id": "70879e1e",
   "metadata": {},
   "source": [
    "### a)"
   ]
  },
  {
   "cell_type": "code",
   "execution_count": 5,
   "id": "a01d3503",
   "metadata": {},
   "outputs": [],
   "source": [
    "# sufficient statistics\n",
    "n = len(y)\n",
    "s2 = np.var(y, ddof=1)  # here ddof=1 is used to get the sample estimate\n",
    "my = np.mean(y)"
   ]
  },
  {
   "cell_type": "code",
   "execution_count": 6,
   "id": "b8cb5b93",
   "metadata": {},
   "outputs": [
    {
     "data": {
      "text/plain": [
       "(14.50025, 0.5829495833333344)"
      ]
     },
     "execution_count": 6,
     "metadata": {},
     "output_type": "execute_result"
    }
   ],
   "source": [
    "my, s2"
   ]
  },
  {
   "cell_type": "code",
   "execution_count": 7,
   "id": "19e4487f",
   "metadata": {},
   "outputs": [],
   "source": [
    "tl1=[6,20]\n",
    "t1 = np.linspace(tl1[0], tl1[1], 100)\n",
    "\n",
    "# compute the exact marginal density for mu\n",
    "# multiplication by 1./sqrt(s2/n) is due to the transformation of variable\n",
    "# z=(x-mean(y))/sqrt(s2/n), see BDA3 p. 21\n",
    "pm_mu = stats.t.pdf((t1 - my) / np.sqrt(s2/n), n-1) / np.sqrt(s2/n)\n",
    "\n",
    "# compute the exact marginal density for mu for the filtered data\n",
    "# pm_mu_pos = (\n",
    "#     stats.t.pdf((t1 - my_pos) / np.sqrt(s2_pos/n_pos), n_pos-1) /\n",
    "#     np.sqrt(s2_pos/n_pos)\n",
    "# )"
   ]
  },
  {
   "cell_type": "code",
   "execution_count": 8,
   "id": "ccb48dee",
   "metadata": {},
   "outputs": [
    {
     "data": {
      "text/plain": [
       "[<matplotlib.lines.Line2D at 0x219d68a2d00>]"
      ]
     },
     "execution_count": 8,
     "metadata": {},
     "output_type": "execute_result"
    },
    {
     "data": {
      "image/png": "[encoded data removed]",
      "text/plain": [
       "<Figure size 432x288 with 1 Axes>"
      ]
     },
     "metadata": {
      "needs_background": "light"
     },
     "output_type": "display_data"
    }
   ],
   "source": [
    "plt.plot(t1, pm_mu)"
   ]
  },
  {
   "cell_type": "code",
   "execution_count": 20,
   "id": "842fe4d6",
   "metadata": {},
   "outputs": [
    {
     "data": {
      "text/plain": [
       "14.5"
      ]
     },
     "execution_count": 20,
     "metadata": {},
     "output_type": "execute_result"
    }
   ],
   "source": [
    "#mean\n",
    "mean=round(t1[pm_mu.argmax()],1)\n",
    "mean"
   ]
  },
  {
   "cell_type": "code",
   "execution_count": 39,
   "id": "745da8c9",
   "metadata": {},
   "outputs": [
    {
     "data": {
      "text/plain": [
       "(13.3, 15.7)"
      ]
     },
     "execution_count": 39,
     "metadata": {},
     "output_type": "execute_result"
    }
   ],
   "source": [
    "#upper mean\n",
    "lower=stats.t.ppf(0.025, mean, loc=mean, scale=s2)\n",
    "upper=stats.t.ppf(0.975, mean, loc=mean, scale=s2)\n",
    "round(lower, 1), round(upper, 1)"
   ]
  },
  {
   "cell_type": "markdown",
   "id": "2633816c",
   "metadata": {},
   "source": [
    "### b)"
   ]
  },
  {
   "cell_type": "code",
   "execution_count": 92,
   "id": "b66e3014",
   "metadata": {},
   "outputs": [
    {
     "data": {
      "text/plain": [
       "[<matplotlib.lines.Line2D at 0x219d89c7a60>]"
      ]
     },
     "execution_count": 92,
     "metadata": {},
     "output_type": "execute_result"
    },
    {
     "data": {
      "image/png": "[encoded data removed]",
      "text/plain": [
       "<Figure size 432x288 with 1 Axes>"
      ]
     },
     "metadata": {
      "needs_background": "light"
     },
     "output_type": "display_data"
    }
   ],
   "source": [
    "#estimate using pdf and turning into a grid\n",
    "tlynew = [5, 25]\n",
    "xynew = np.linspace(tlynew[0], tlynew[1], 10000)\n",
    "line=stats.t.pdf((xynew-my)/np.sqrt(s2*(1+1/n)), n-1) / np.sqrt(s2*(1+1/n))\n",
    "plt.plot(xynew, line)"
   ]
  },
  {
   "cell_type": "code",
   "execution_count": 93,
   "id": "e0f8f3b4",
   "metadata": {},
   "outputs": [
    {
     "data": {
      "text/plain": [
       "14.5"
      ]
     },
     "execution_count": 93,
     "metadata": {},
     "output_type": "execute_result"
    }
   ],
   "source": [
    "#mean\n",
    "mean_new=xynew[line.argmax()]\n",
    "round(mean_new, 1)"
   ]
  },
  {
   "cell_type": "code",
   "execution_count": 94,
   "id": "22842a4a",
   "metadata": {},
   "outputs": [
    {
     "data": {
      "text/plain": [
       "(11.8, 17.2)"
      ]
     },
     "execution_count": 94,
     "metadata": {},
     "output_type": "execute_result"
    }
   ],
   "source": [
    "#predictive intervals\n",
    "line_norm=line/line.sum()\n",
    "lower_new=xynew[(np.cumsum(line_norm)<0.025)][-1]\n",
    "upper_new=xynew[(np.cumsum(line_norm)>0.975)][0]\n",
    "round(lower_new, 1), round(upper_new, 1)"
   ]
  },
  {
   "cell_type": "code",
   "execution_count": 105,
   "id": "8efd26ce",
   "metadata": {},
   "outputs": [
    {
     "data": {
      "text/plain": [
       "-1.4091819366178218"
      ]
     },
     "execution_count": 105,
     "metadata": {},
     "output_type": "execute_result"
    }
   ],
   "source": [
    "stats.t.ppf(0.025, mean, s2*(1+1/n))"
   ]
  },
  {
   "cell_type": "code",
   "execution_count": 109,
   "id": "ebb77423",
   "metadata": {},
   "outputs": [
    {
     "data": {
      "text/plain": [
       "12.94216275790268"
      ]
     },
     "execution_count": 109,
     "metadata": {},
     "output_type": "execute_result"
    }
   ],
   "source": [
    "stats.t.ppf(0.025, mean, loc=mean, scale=s2*(1+1/n))"
   ]
  },
  {
   "cell_type": "code",
   "execution_count": 110,
   "id": "1fe7be38",
   "metadata": {},
   "outputs": [
    {
     "data": {
      "text/plain": [
       "16.057837242097317"
      ]
     },
     "execution_count": 110,
     "metadata": {},
     "output_type": "execute_result"
    }
   ],
   "source": [
    "stats.t.ppf(0.975, mean, loc=mean, scale=s2*(1+1/n))"
   ]
  },
  {
   "cell_type": "code",
   "execution_count": 108,
   "id": "16feecd3",
   "metadata": {},
   "outputs": [
    {
     "data": {
      "text/plain": [
       "12.826912726829603"
      ]
     },
     "execution_count": 108,
     "metadata": {},
     "output_type": "execute_result"
    }
   ],
   "source": [
    "stats.norm.ppf(0.025, mean, np.sqrt(s2*(1+1/n)))"
   ]
  },
  {
   "cell_type": "code",
   "execution_count": 115,
   "id": "30728059",
   "metadata": {},
   "outputs": [
    {
     "data": {
      "text/plain": [
       "2.0600641107414206"
      ]
     },
     "execution_count": 115,
     "metadata": {},
     "output_type": "execute_result"
    }
   ],
   "source": [
    "stats.t.ppf(0.025, (mean)/s2*(1+1/n), n-1) / s2*(1+1/n)"
   ]
  },
  {
   "cell_type": "code",
   "execution_count": 119,
   "id": "7bbe5ca4",
   "metadata": {},
   "outputs": [
    {
     "data": {
      "text/plain": [
       "(inf, nan)"
      ]
     },
     "execution_count": 119,
     "metadata": {},
     "output_type": "execute_result"
    }
   ],
   "source": [
    "stats.t.stats(0.025, loc=mean, scale=s2*(1+1/n))"
   ]
  },
  {
   "cell_type": "code",
   "execution_count": 125,
   "id": "7c6f90e2",
   "metadata": {},
   "outputs": [
    {
     "data": {
      "text/plain": [
       "0.9902127040018566"
      ]
     },
     "execution_count": 125,
     "metadata": {},
     "output_type": "execute_result"
    }
   ],
   "source": [
    "stats.t.var(mean, loc=mean, scale=np.sqrt(s2*(1+1/n)))/ np.sqrt(s2*(1+1/n))"
   ]
  },
  {
   "cell_type": "code",
   "execution_count": 124,
   "id": "fb4cb42c",
   "metadata": {},
   "outputs": [
    {
     "data": {
      "text/plain": [
       "(13.5, 39)"
      ]
     },
     "execution_count": 124,
     "metadata": {},
     "output_type": "execute_result"
    }
   ],
   "source": [
    "14.5-1,39"
   ]
  },
  {
   "cell_type": "code",
   "execution_count": null,
   "id": "f9fb0320",
   "metadata": {},
   "outputs": [],
   "source": []
  }
 ],
 "metadata": {
  "kernelspec": {
   "display_name": "Python 3 (ipykernel)",
   "language": "python",
   "name": "python3"
  },
  "language_info": {
   "codemirror_mode": {
    "name": "ipython",
    "version": 3
   },
   "file_extension": ".py",
   "mimetype": "text/x-python",
   "name": "python",
   "nbconvert_exporter": "python",
   "pygments_lexer": "ipython3",
   "version": "3.9.12"
  }
 },
 "nbformat": 4,
 "nbformat_minor": 5
}
