{
 "cells": [
  {
   "cell_type": "code",
   "execution_count": 1,
   "id": "0fcd8132-9984-4a73-adce-6a0274db26db",
   "metadata": {
    "tags": []
   },
   "outputs": [],
   "source": [
    "%matplotlib inline\n",
    "\n",
    "import numpy as np\n",
    "import pandas as pd\n",
    "import matplotlib as mpl\n",
    "import matplotlib.pyplot as plt\n",
    "\n",
    "import stan\n",
    "import arviz as az # For visualization and loo\n",
    "#needed for notebook\n",
    "import nest_asyncio\n",
    "nest_asyncio.apply()"
   ]
  },
  {
   "cell_type": "code",
   "execution_count": 27,
   "id": "e886fbda-fec7-41c3-97d3-3ef7abb7c4a3",
   "metadata": {
    "tags": []
   },
   "outputs": [],
   "source": [
    "# add utilities directory to path\n",
    "import os, sys\n",
    "util_path = os.path.abspath(os.path.join(os.path.pardir, 'utilities_and_data'))\n",
    "if util_path not in sys.path and os.path.exists(util_path):\n",
    "    sys.path.insert(0, util_path)\n",
    "\n",
    "# import from utilities\n",
    "import stan_v3_utility\n",
    "\n",
    "import plot_tools"
   ]
  },
  {
   "cell_type": "code",
   "execution_count": 3,
   "id": "ddb8b825-a7a1-4425-baaa-c754132ed0c3",
   "metadata": {
    "tags": []
   },
   "outputs": [
    {
     "name": "stderr",
     "output_type": "stream",
     "text": [
      "/tmp/ipykernel_3910/1626268779.py:3: MatplotlibDeprecationWarning: The seaborn styles shipped by Matplotlib are deprecated since 3.6, as they no longer correspond to the styles shipped by seaborn. However, they will remain available as 'seaborn-v0_8-<style>'. Alternatively, directly use the seaborn API instead.\n",
      "  az.style.use('seaborn-darkgrid')\n"
     ]
    }
   ],
   "source": [
    "# edit default plot settings\n",
    "plt.rc('font', size=12)\n",
    "az.style.use('seaborn-darkgrid')\n",
    "mpl.rcParams['figure.figsize'] = [7.0, 5.4]"
   ]
  },
  {
   "cell_type": "markdown",
   "id": "36c0a3c1-4822-42aa-be90-bc7b7eacf248",
   "metadata": {},
   "source": [
    "### 1. \n",
    "Write down the model for the bioassay data in Stan syntax. For instructions in reporting your implementation, you can refer to parts 2 c) - g) in Assignment 5. More information on the bioassay data can be found in Section 3.7 of the course book and in Chapter 3 reading instructions. To get access to data, use the following code: \n",
    "\n",
    "library(aaltobda) \n",
    "\n",
    "data(\"bioassay\") \n",
    "\n",
    "Use the Gaussian prior as in Assignment 4 and 5, that is [α β ] ∼ N (μ0, Σ0) , where μ0 = [0 10 ] and Σ0 = [22 12 12 102 ] . \n",
    "\n",
    "Hint! You will need Stan functions multi_normal and binomial_logit for implementing the prior and observation model, respectively. In Stan code, it is easiest to declare a variable (say theta) which is a two-element vector so that the first value denotes α and latter one β. This is because the multi_normal function that you need for implementing the prior requires a vector as an input."
   ]
  },
  {
   "cell_type": "markdown",
   "id": "2ff0c113-177a-4896-810d-a5ec9108d68c",
   "metadata": {},
   "source": [
    "## Data"
   ]
  },
  {
   "cell_type": "code",
   "execution_count": 4,
   "id": "9e4544de-8b3b-4edc-ac39-395f1b8b9c20",
   "metadata": {
    "tags": []
   },
   "outputs": [
    {
     "data": {
      "text/plain": [
       "(4, 3)"
      ]
     },
     "execution_count": 4,
     "metadata": {},
     "output_type": "execute_result"
    }
   ],
   "source": [
    "df=pd.read_csv('data/bioassay.csv')\n",
    "df.shape"
   ]
  },
  {
   "cell_type": "code",
   "execution_count": 5,
   "id": "0a511790-cc26-47e4-bed0-c9983bf44b4d",
   "metadata": {
    "tags": []
   },
   "outputs": [
    {
     "data": {
      "text/html": [
       "<div>\n",
       "<style scoped>\n",
       "    .dataframe tbody tr th:only-of-type {\n",
       "        vertical-align: middle;\n",
       "    }\n",
       "\n",
       "    .dataframe tbody tr th {\n",
       "        vertical-align: top;\n",
       "    }\n",
       "\n",
       "    .dataframe thead th {\n",
       "        text-align: right;\n",
       "    }\n",
       "</style>\n",
       "<table border=\"1\" class=\"dataframe\">\n",
       "  <thead>\n",
       "    <tr style=\"text-align: right;\">\n",
       "      <th></th>\n",
       "      <th>x</th>\n",
       "      <th>n</th>\n",
       "      <th>y</th>\n",
       "    </tr>\n",
       "  </thead>\n",
       "  <tbody>\n",
       "    <tr>\n",
       "      <th>0</th>\n",
       "      <td>-0.86</td>\n",
       "      <td>5</td>\n",
       "      <td>0</td>\n",
       "    </tr>\n",
       "    <tr>\n",
       "      <th>1</th>\n",
       "      <td>-0.30</td>\n",
       "      <td>5</td>\n",
       "      <td>1</td>\n",
       "    </tr>\n",
       "    <tr>\n",
       "      <th>2</th>\n",
       "      <td>-0.05</td>\n",
       "      <td>5</td>\n",
       "      <td>3</td>\n",
       "    </tr>\n",
       "    <tr>\n",
       "      <th>3</th>\n",
       "      <td>0.73</td>\n",
       "      <td>5</td>\n",
       "      <td>5</td>\n",
       "    </tr>\n",
       "  </tbody>\n",
       "</table>\n",
       "</div>"
      ],
      "text/plain": [
       "      x  n  y\n",
       "0 -0.86  5  0\n",
       "1 -0.30  5  1\n",
       "2 -0.05  5  3\n",
       "3  0.73  5  5"
      ]
     },
     "execution_count": 5,
     "metadata": {},
     "output_type": "execute_result"
    }
   ],
   "source": [
    "df"
   ]
  },
  {
   "cell_type": "code",
   "execution_count": 6,
   "id": "e59f6a03-403b-499d-a32d-cdf932b33ae9",
   "metadata": {
    "tags": []
   },
   "outputs": [
    {
     "data": {
      "text/plain": [
       "{'x': [-0.86, -0.3, -0.05, 0.73],\n",
       " 'n': [5, 5, 5, 5],\n",
       " 'y': [0, 1, 3, 5],\n",
       " 'N': 4,\n",
       " 'mu': [0, 10],\n",
       " 'sigma': [[4, 12], [12, 100]]}"
      ]
     },
     "execution_count": 6,
     "metadata": {},
     "output_type": "execute_result"
    }
   ],
   "source": [
    "data={k:df[k].tolist() for k in df.columns}\n",
    "data['N']=df.shape[0]\n",
    "data['mu']=[0,10]\n",
    "data['sigma']=[[2**2, 12],\n",
    "                   [12, 10**2]]\n",
    "data"
   ]
  },
  {
   "cell_type": "markdown",
   "id": "4360029f-956c-4d8a-8814-fb395150d470",
   "metadata": {},
   "source": [
    "## Model"
   ]
  },
  {
   "cell_type": "code",
   "execution_count": 7,
   "id": "0e37add4-1829-4e75-8e60-581a7b0a8721",
   "metadata": {
    "tags": []
   },
   "outputs": [],
   "source": [
    "program_code=\"\"\"\n",
    "data {\n",
    "  int<lower=0> N;    // number of data points\n",
    "  vector[N] x;       // dose\n",
    "  int<lower=0> n[N]; // number of animals\n",
    "  int<lower=0> y[N]; // number of deaths\n",
    "\n",
    "  vector[2] mu;                // prior on mean of theta\n",
    "  matrix<lower=0>[2, 2] sigma; // prior on covariance matrix of theta \n",
    "}\n",
    "\n",
    "parameters {\n",
    "  vector[2] mdl_params;\n",
    "}\n",
    "\n",
    "transformed parameters {\n",
    "  vector[N] theta;\n",
    "  theta = mdl_params[1] + mdl_params[2] * x;\n",
    "}\n",
    "\n",
    "model {\n",
    "  mdl_params ~ multi_normal(mu, sigma);\n",
    "  y ~ binomial_logit(n, theta);\n",
    "}\n",
    "\"\"\""
   ]
  },
  {
   "cell_type": "markdown",
   "id": "4fd71210-eefe-4aaf-8bc1-9508ba01d955",
   "metadata": {},
   "source": [
    "## Build and fit"
   ]
  },
  {
   "cell_type": "code",
   "execution_count": 8,
   "id": "4a33f18d-d2e1-4b02-9ef1-a11933ce8b11",
   "metadata": {
    "tags": []
   },
   "outputs": [
    {
     "name": "stdout",
     "output_type": "stream",
     "text": [
      "\u001b[36mBuilding:\u001b[0m 0.1s\n",
      "\u001b[1A\u001b[0J\u001b[36mBuilding:\u001b[0m 0.2s\n",
      "\u001b[1A\u001b[0J\u001b[36mBuilding:\u001b[0m 0.3s\n",
      "\u001b[1A\u001b[0J\u001b[36mBuilding:\u001b[0m 0.4s\n",
      "\u001b[1A\u001b[0J\u001b[36mBuilding:\u001b[0m 0.5s\n",
      "\u001b[1A\u001b[0J\u001b[36mBuilding:\u001b[0m 0.6s\n",
      "\u001b[1A\u001b[0J\u001b[36mBuilding:\u001b[0m 0.7s\n",
      "\u001b[1A\u001b[0J\u001b[36mBuilding:\u001b[0m 0.8s\n",
      "\u001b[1A\u001b[0J\u001b[36mBuilding:\u001b[0m 0.9s\n",
      "\u001b[1A\u001b[0J\u001b[36mBuilding:\u001b[0m 1.0s\n",
      "\u001b[1A\u001b[0J\u001b[36mBuilding:\u001b[0m 1.1s\n",
      "\u001b[1A\u001b[0J\u001b[36mBuilding:\u001b[0m 1.2s\n",
      "\u001b[1A\u001b[0J\u001b[36mBuilding:\u001b[0m 1.3s\n",
      "\u001b[1A\u001b[0J\u001b[36mBuilding:\u001b[0m 1.5s\n",
      "\u001b[1A\u001b[0J\u001b[36mBuilding:\u001b[0m 1.6s\n",
      "\u001b[1A\u001b[0J\u001b[36mBuilding:\u001b[0m 1.7s\n",
      "\u001b[1A\u001b[0J\u001b[36mBuilding:\u001b[0m 1.8s\n",
      "\u001b[1A\u001b[0J\u001b[36mBuilding:\u001b[0m 1.9s\n",
      "\u001b[1A\u001b[0J\u001b[36mBuilding:\u001b[0m 2.0s\n",
      "\u001b[1A\u001b[0J\u001b[36mBuilding:\u001b[0m 2.1s\n",
      "\u001b[1A\u001b[0J\u001b[36mBuilding:\u001b[0m 2.2s\n",
      "\u001b[1A\u001b[0J\u001b[36mBuilding:\u001b[0m 2.3s\n",
      "\u001b[1A\u001b[0J\u001b[36mBuilding:\u001b[0m 2.4s\n",
      "\u001b[1A\u001b[0J\u001b[36mBuilding:\u001b[0m 2.5s\n",
      "\u001b[1A\u001b[0J\u001b[36mBuilding:\u001b[0m 2.6s\n",
      "\u001b[1A\u001b[0J\u001b[36mBuilding:\u001b[0m 2.7s\n",
      "\u001b[1A\u001b[0J\u001b[36mBuilding:\u001b[0m 2.8s\n",
      "\u001b[1A\u001b[0J\u001b[36mBuilding:\u001b[0m 2.9s\n",
      "\u001b[1A\u001b[0J\u001b[36mBuilding:\u001b[0m 3.0s\n",
      "\u001b[1A\u001b[0J\u001b[36mBuilding:\u001b[0m 3.1s\n",
      "\u001b[1A\u001b[0J\u001b[36mBuilding:\u001b[0m 3.2s\n",
      "\u001b[1A\u001b[0J\u001b[36mBuilding:\u001b[0m 3.3s\n",
      "\u001b[1A\u001b[0J\u001b[36mBuilding:\u001b[0m 3.4s\n",
      "\u001b[1A\u001b[0J\u001b[36mBuilding:\u001b[0m 3.5s\n",
      "\u001b[1A\u001b[0J\u001b[36mBuilding:\u001b[0m 3.6s\n",
      "\u001b[1A\u001b[0J\u001b[36mBuilding:\u001b[0m 3.7s\n",
      "\u001b[1A\u001b[0J\u001b[36mBuilding:\u001b[0m 3.9s\n",
      "\u001b[1A\u001b[0J\u001b[36mBuilding:\u001b[0m 4.0s\n",
      "\u001b[1A\u001b[0J\u001b[36mBuilding:\u001b[0m 4.1s\n",
      "\u001b[1A\u001b[0J\u001b[36mBuilding:\u001b[0m 4.2s\n",
      "\u001b[1A\u001b[0J\u001b[36mBuilding:\u001b[0m 4.3s\n",
      "\u001b[1A\u001b[0J\u001b[36mBuilding:\u001b[0m 4.4s\n",
      "\u001b[1A\u001b[0J\u001b[36mBuilding:\u001b[0m 4.5s\n",
      "\u001b[1A\u001b[0J\u001b[36mBuilding:\u001b[0m 4.6s\n",
      "\u001b[1A\u001b[0J\u001b[36mBuilding:\u001b[0m 4.7s\n",
      "\u001b[1A\u001b[0J\u001b[36mBuilding:\u001b[0m 4.8s\n",
      "\u001b[1A\u001b[0J\u001b[36mBuilding:\u001b[0m 4.9s\n",
      "\u001b[1A\u001b[0J\u001b[36mBuilding:\u001b[0m 5.0s\n",
      "\u001b[1A\u001b[0J\u001b[36mBuilding:\u001b[0m 5.1s\n",
      "\u001b[1A\u001b[0J\u001b[36mBuilding:\u001b[0m 5.2s\n",
      "\u001b[1A\u001b[0J\u001b[36mBuilding:\u001b[0m 5.3s\n",
      "\u001b[1A\u001b[0J\u001b[36mBuilding:\u001b[0m 5.4s\n",
      "\u001b[1A\u001b[0J\u001b[36mBuilding:\u001b[0m 5.5s\n",
      "\u001b[1A\u001b[0J\u001b[36mBuilding:\u001b[0m 5.6s\n",
      "\u001b[1A\u001b[0J\u001b[36mBuilding:\u001b[0m 5.7s\n",
      "\u001b[1A\u001b[0J\u001b[36mBuilding:\u001b[0m 5.8s\n",
      "\u001b[1A\u001b[0J\u001b[36mBuilding:\u001b[0m 5.9s\n",
      "\u001b[1A\u001b[0J\u001b[36mBuilding:\u001b[0m 6.0s\n",
      "\u001b[1A\u001b[0J\u001b[36mBuilding:\u001b[0m 6.1s\n",
      "\u001b[1A\u001b[0J\u001b[36mBuilding:\u001b[0m 6.3s\n",
      "\u001b[1A\u001b[0J\u001b[36mBuilding:\u001b[0m 6.4s\n",
      "\u001b[1A\u001b[0J\u001b[36mBuilding:\u001b[0m 6.5s\n",
      "\u001b[1A\u001b[0J\u001b[36mBuilding:\u001b[0m 6.6s\n",
      "\u001b[1A\u001b[0J\u001b[36mBuilding:\u001b[0m 6.7s\n",
      "\u001b[1A\u001b[0J\u001b[36mBuilding:\u001b[0m 6.8s\n"
     ]
    },
    {
     "name": "stderr",
     "output_type": "stream",
     "text": [
      "In file included from /opt/conda/lib/python3.10/site-packages/httpstan/include/stan/math/prim/fun.hpp:124,\n",
      "                 from /opt/conda/lib/python3.10/site-packages/httpstan/include/stan/math/rev/fun/multiply.hpp:7,\n",
      "                 from /opt/conda/lib/python3.10/site-packages/httpstan/include/stan/math/rev/fun/elt_multiply.hpp:9,\n",
      "                 from /opt/conda/lib/python3.10/site-packages/httpstan/include/stan/math/rev/fun.hpp:55,\n",
      "                 from /opt/conda/lib/python3.10/site-packages/httpstan/include/stan/math/rev.hpp:10,\n",
      "                 from /opt/conda/lib/python3.10/site-packages/httpstan/include/stan/math.hpp:19,\n",
      "                 from /opt/conda/lib/python3.10/site-packages/httpstan/include/stan/model/model_header.hpp:4,\n",
      "                 from /home/jovyan/.cache/httpstan/4.9.1/models/7k2rjo4a/model_7k2rjo4a.cpp:2:\n",
      "/opt/conda/lib/python3.10/site-packages/httpstan/include/stan/math/prim/fun/grad_2F1.hpp: In instantiation of ‘TupleT stan::math::internal::grad_2F1_impl(const T1&, const T2&, const T3&, const T_z&, double, int) [with bool calc_a1 = true; bool calc_a2 = true; bool calc_b1 = true; bool calc_z = true; T1 = double; T2 = double; T3 = double; T_z = double; ScalarT = double; TupleT = std::tuple<double, double, double, double>]’:\n",
      "/opt/conda/lib/python3.10/site-packages/httpstan/include/stan/math/prim/fun/grad_2F1.hpp:307:57:   required from ‘auto stan::math::grad_2F1(const T1&, const T2&, const T3&, const T_z&, double, int) [with bool ReturnSameT = true; T1 = double; T2 = double; T3 = double; T_z = double; stan::require_t<std::integral_constant<bool, __v> >* <anonymous> = 0]’\n",
      "/opt/conda/lib/python3.10/site-packages/httpstan/include/stan/math/prim/fun/grad_inc_beta.hpp:37:25:   required from here\n",
      "/opt/conda/lib/python3.10/site-packages/httpstan/include/stan/math/prim/fun/grad_2F1.hpp:192:12: warning: unused variable ‘pre_mult’ [-Wunused-variable]\n",
      "  192 |       auto pre_mult = a2 * pow(1 - z, -1 - a2);\n",
      "      |            ^~~~~~~~\n",
      "/opt/conda/lib/python3.10/site-packages/httpstan/include/stan/math/prim/fun/grad_2F1.hpp: In instantiation of ‘TupleT stan::math::internal::grad_2F1_impl(const T1&, const T2&, const T3&, const T_z&, double, int) [with bool calc_a1 = true; bool calc_a2 = true; bool calc_b1 = true; bool calc_z = true; T1 = stan::math::var_value<double>; T2 = stan::math::var_value<double>; T3 = stan::math::var_value<double>; T_z = stan::math::var_value<double>; ScalarT = stan::math::var_value<double>; TupleT = std::tuple<stan::math::var_value<double, void>, stan::math::var_value<double, void>, stan::math::var_value<double, void>, stan::math::var_value<double, void> >]’:\n",
      "/opt/conda/lib/python3.10/site-packages/httpstan/include/stan/math/prim/fun/grad_2F1.hpp:307:57:   required from ‘auto stan::math::grad_2F1(const T1&, const T2&, const T3&, const T_z&, double, int) [with bool ReturnSameT = true; T1 = stan::math::var_value<double>; T2 = stan::math::var_value<double>; T3 = stan::math::var_value<double>; T_z = stan::math::var_value<double>; stan::require_t<std::integral_constant<bool, __v> >* <anonymous> = 0]’\n",
      "/opt/conda/lib/python3.10/site-packages/httpstan/include/stan/math/rev/fun/grad_inc_beta.hpp:49:25:   required from here\n",
      "/opt/conda/lib/python3.10/site-packages/httpstan/include/stan/math/prim/fun/grad_2F1.hpp:192:12: warning: variable ‘pre_mult’ set but not used [-Wunused-but-set-variable]\n"
     ]
    },
    {
     "name": "stdout",
     "output_type": "stream",
     "text": [
      "\u001b[1A\u001b[0J\u001b[36mBuilding:\u001b[0m 6.9s\n",
      "\u001b[1A\u001b[0J\u001b[36mBuilding:\u001b[0m 7.0s\n"
     ]
    },
    {
     "name": "stderr",
     "output_type": "stream",
     "text": [
      "/home/jovyan/.cache/httpstan/4.9.1/models/7k2rjo4a/model_7k2rjo4a.cpp: In instantiation of ‘void model_7k2rjo4a_namespace::model_7k2rjo4a::transform_inits_impl(VecVar&, VecI&, VecVar&, std::ostream*) const [with VecVar = std::vector<double, std::allocator<double> >; VecI = std::vector<int>; stan::require_vector_t<T_y>* <anonymous> = 0; stan::require_vector_like_vt<std::is_integral, VecI>* <anonymous> = 0; std::ostream = std::basic_ostream<char>]’:\n",
      "/home/jovyan/.cache/httpstan/4.9.1/models/7k2rjo4a/model_7k2rjo4a.cpp:486:26:   required from here\n",
      "/home/jovyan/.cache/httpstan/4.9.1/models/7k2rjo4a/model_7k2rjo4a.cpp:310:11: warning: variable ‘pos__’ set but not used [-Wunused-but-set-variable]\n",
      "  310 |       int pos__ = std::numeric_limits<int>::min();\n",
      "      |           ^~~~~\n",
      "In file included from /opt/conda/lib/python3.10/site-packages/httpstan/include/stan/math/prim/fun.hpp:124,\n",
      "                 from /opt/conda/lib/python3.10/site-packages/httpstan/include/stan/math/rev/fun/multiply.hpp:7,\n",
      "                 from /opt/conda/lib/python3.10/site-packages/httpstan/include/stan/math/rev/fun/elt_multiply.hpp:9,\n",
      "                 from /opt/conda/lib/python3.10/site-packages/httpstan/include/stan/math/rev/fun.hpp:55,\n",
      "                 from /opt/conda/lib/python3.10/site-packages/httpstan/include/stan/math/rev.hpp:10,\n",
      "                 from /opt/conda/lib/python3.10/site-packages/httpstan/include/stan/math.hpp:19,\n",
      "                 from /opt/conda/lib/python3.10/site-packages/httpstan/include/stan/model/model_header.hpp:4,\n",
      "                 from /home/jovyan/.cache/httpstan/4.9.1/models/7k2rjo4a/model_7k2rjo4a.cpp:2:\n",
      "/opt/conda/lib/python3.10/site-packages/httpstan/include/stan/math/prim/fun/grad_2F1.hpp: In instantiation of ‘TupleT stan::math::internal::grad_2F1_impl_ab(const T1&, const T2&, const T3&, const T_z&, double, int) [with bool calc_a1 = true; bool calc_a2 = true; bool calc_b1 = true; T1 = double; T2 = double; T3 = double; T_z = double; ScalarT = double; TupleT = std::tuple<double, double, double>]’:\n",
      "/opt/conda/lib/python3.10/site-packages/httpstan/include/stan/math/prim/fun/grad_2F1.hpp:205:78:   required from ‘TupleT stan::math::internal::grad_2F1_impl(const T1&, const T2&, const T3&, const T_z&, double, int) [with bool calc_a1 = true; bool calc_a2 = true; bool calc_b1 = true; bool calc_z = true; T1 = double; T2 = double; T3 = double; T_z = double; ScalarT = double; TupleT = std::tuple<double, double, double, double>]’\n",
      "/opt/conda/lib/python3.10/site-packages/httpstan/include/stan/math/prim/fun/grad_2F1.hpp:307:57:   required from ‘auto stan::math::grad_2F1(const T1&, const T2&, const T3&, const T_z&, double, int) [with bool ReturnSameT = true; T1 = double; T2 = double; T3 = double; T_z = double; stan::require_t<std::integral_constant<bool, __v> >* <anonymous> = 0]’\n",
      "/opt/conda/lib/python3.10/site-packages/httpstan/include/stan/math/prim/fun/grad_inc_beta.hpp:37:25:   required from here\n",
      "/opt/conda/lib/python3.10/site-packages/httpstan/include/stan/math/prim/fun/grad_2F1.hpp:68:10: warning: unused variable ‘log_precision’ [-Wunused-variable]\n",
      "   68 |   double log_precision = log(precision);\n",
      "      |          ^~~~~~~~~~~~~\n",
      "/opt/conda/lib/python3.10/site-packages/httpstan/include/stan/math/prim/fun/grad_2F1.hpp: In instantiation of ‘TupleT stan::math::internal::grad_2F1_impl_ab(const T1&, const T2&, const T3&, const T_z&, double, int) [with bool calc_a1 = true; bool calc_a2 = true; bool calc_b1 = true; T1 = stan::math::var_value<double>; T2 = stan::math::var_value<double>; T3 = stan::math::var_value<double>; T_z = stan::math::var_value<double>; ScalarT = stan::math::var_value<double>; TupleT = std::tuple<stan::math::var_value<double, void>, stan::math::var_value<double, void>, stan::math::var_value<double, void> >]’:\n",
      "/opt/conda/lib/python3.10/site-packages/httpstan/include/stan/math/prim/fun/grad_2F1.hpp:205:78:   required from ‘TupleT stan::math::internal::grad_2F1_impl(const T1&, const T2&, const T3&, const T_z&, double, int) [with bool calc_a1 = true; bool calc_a2 = true; bool calc_b1 = true; bool calc_z = true; T1 = stan::math::var_value<double>; T2 = stan::math::var_value<double>; T3 = stan::math::var_value<double>; T_z = stan::math::var_value<double>; ScalarT = stan::math::var_value<double>; TupleT = std::tuple<stan::math::var_value<double, void>, stan::math::var_value<double, void>, stan::math::var_value<double, void>, stan::math::var_value<double, void> >]’\n",
      "/opt/conda/lib/python3.10/site-packages/httpstan/include/stan/math/prim/fun/grad_2F1.hpp:307:57:   required from ‘auto stan::math::grad_2F1(const T1&, const T2&, const T3&, const T_z&, double, int) [with bool ReturnSameT = true; T1 = stan::math::var_value<double>; T2 = stan::math::var_value<double>; T3 = stan::math::var_value<double>; T_z = stan::math::var_value<double>; stan::require_t<std::integral_constant<bool, __v> >* <anonymous> = 0]’\n",
      "/opt/conda/lib/python3.10/site-packages/httpstan/include/stan/math/rev/fun/grad_inc_beta.hpp:49:25:   required from here\n",
      "/opt/conda/lib/python3.10/site-packages/httpstan/include/stan/math/prim/fun/grad_2F1.hpp:68:10: warning: unused variable ‘log_precision’ [-Wunused-variable]\n"
     ]
    },
    {
     "name": "stdout",
     "output_type": "stream",
     "text": [
      "\u001b[1A\u001b[0J\u001b[36mBuilding:\u001b[0m 7.1s\n",
      "\u001b[1A\u001b[0J\u001b[36mBuilding:\u001b[0m 7.2s\n",
      "\u001b[1A\u001b[0J\u001b[36mBuilding:\u001b[0m 7.3s\n",
      "\u001b[1A\u001b[0J\u001b[36mBuilding:\u001b[0m 7.4s\n",
      "\u001b[1A\u001b[0J\u001b[36mBuilding:\u001b[0m 7.5s\n",
      "\u001b[1A\u001b[0J\u001b[36mBuilding:\u001b[0m 7.6s\n",
      "\u001b[1A\u001b[0J\u001b[36mBuilding:\u001b[0m 7.7s\n",
      "\u001b[1A\u001b[0J\u001b[36mBuilding:\u001b[0m 7.8s\n",
      "\u001b[1A\u001b[0J\u001b[36mBuilding:\u001b[0m 7.9s\n",
      "\u001b[1A\u001b[0J\u001b[36mBuilding:\u001b[0m 8.0s\n",
      "\u001b[1A\u001b[0J\u001b[36mBuilding:\u001b[0m 8.1s\n",
      "\u001b[1A\u001b[0J\u001b[36mBuilding:\u001b[0m 8.2s\n",
      "\u001b[1A\u001b[0J\u001b[36mBuilding:\u001b[0m 8.3s\n",
      "\u001b[1A\u001b[0J\u001b[36mBuilding:\u001b[0m 8.4s\n",
      "\u001b[1A\u001b[0J\u001b[36mBuilding:\u001b[0m 8.5s\n",
      "\u001b[1A\u001b[0J\u001b[36mBuilding:\u001b[0m 8.6s\n"
     ]
    },
    {
     "name": "stderr",
     "output_type": "stream",
     "text": [
      "/home/jovyan/.cache/httpstan/4.9.1/models/7k2rjo4a/model_7k2rjo4a.cpp: In instantiation of ‘void model_7k2rjo4a_namespace::model_7k2rjo4a::write_array_impl(RNG&, VecR&, VecI&, VecVar&, bool, bool, std::ostream*) const [with RNG = boost::random::additive_combine_engine<boost::random::linear_congruential_engine<unsigned int, 40014, 0, 2147483563>, boost::random::linear_congruential_engine<unsigned int, 40692, 0, 2147483399> >; VecR = Eigen::Matrix<double, -1, 1>; VecI = std::vector<int>; VecVar = Eigen::Matrix<double, -1, 1>; stan::require_vector_like_vt<std::is_floating_point, VecR>* <anonymous> = 0; stan::require_vector_like_vt<std::is_integral, VecI>* <anonymous> = 0; stan::require_vector_vt<std::is_floating_point, VecVar>* <anonymous> = 0; std::ostream = std::basic_ostream<char>]’:\n",
      "/home/jovyan/.cache/httpstan/4.9.1/models/7k2rjo4a/model_7k2rjo4a.cpp:418:23:   required from ‘void model_7k2rjo4a_namespace::model_7k2rjo4a::write_array(RNG&, Eigen::Matrix<double, -1, 1>&, Eigen::Matrix<double, -1, 1>&, bool, bool, std::ostream*) const [with RNG = boost::random::additive_combine_engine<boost::random::linear_congruential_engine<unsigned int, 40014, 0, 2147483563>, boost::random::linear_congruential_engine<unsigned int, 40692, 0, 2147483399> >; std::ostream = std::basic_ostream<char>]’\n",
      "/opt/conda/lib/python3.10/site-packages/httpstan/include/stan/model/model_base_crtp.hpp:140:61:   required from ‘void stan::model::model_base_crtp<M>::write_array(boost::random::ecuyer1988&, Eigen::VectorXd&, Eigen::VectorXd&, bool, bool, std::ostream*) const [with M = model_7k2rjo4a_namespace::model_7k2rjo4a; boost::random::ecuyer1988 = boost::random::additive_combine_engine<boost::random::linear_congruential_engine<unsigned int, 40014, 0, 2147483563>, boost::random::linear_congruential_engine<unsigned int, 40692, 0, 2147483399> >; Eigen::VectorXd = Eigen::Matrix<double, -1, 1>; std::ostream = std::basic_ostream<char>]’\n",
      "/opt/conda/lib/python3.10/site-packages/httpstan/include/stan/model/model_base_crtp.hpp:136:8:   required from here\n",
      "/home/jovyan/.cache/httpstan/4.9.1/models/7k2rjo4a/model_7k2rjo4a.cpp:257:20: warning: unused variable ‘jacobian__’ [-Wunused-variable]\n",
      "  257 |     constexpr bool jacobian__ = false;\n",
      "      |                    ^~~~~~~~~~\n",
      "/home/jovyan/.cache/httpstan/4.9.1/models/7k2rjo4a/model_7k2rjo4a.cpp: In instantiation of ‘void model_7k2rjo4a_namespace::model_7k2rjo4a::write_array_impl(RNG&, VecR&, VecI&, VecVar&, bool, bool, std::ostream*) const [with RNG = boost::random::additive_combine_engine<boost::random::linear_congruential_engine<unsigned int, 40014, 0, 2147483563>, boost::random::linear_congruential_engine<unsigned int, 40692, 0, 2147483399> >; VecR = std::vector<double, std::allocator<double> >; VecI = std::vector<int>; VecVar = std::vector<double, std::allocator<double> >; stan::require_vector_like_vt<std::is_floating_point, VecR>* <anonymous> = 0; stan::require_vector_like_vt<std::is_integral, VecI>* <anonymous> = 0; stan::require_vector_vt<std::is_floating_point, VecVar>* <anonymous> = 0; std::ostream = std::basic_ostream<char>]’:\n",
      "/home/jovyan/.cache/httpstan/4.9.1/models/7k2rjo4a/model_7k2rjo4a.cpp:436:23:   required from ‘void model_7k2rjo4a_namespace::model_7k2rjo4a::write_array(RNG&, std::vector<double, std::allocator<double> >&, std::vector<int>&, std::vector<double, std::allocator<double> >&, bool, bool, std::ostream*) const [with RNG = boost::random::additive_combine_engine<boost::random::linear_congruential_engine<unsigned int, 40014, 0, 2147483563>, boost::random::linear_congruential_engine<unsigned int, 40692, 0, 2147483399> >; std::ostream = std::basic_ostream<char>]’\n",
      "/opt/conda/lib/python3.10/site-packages/httpstan/include/stan/model/model_base_crtp.hpp:202:61:   required from ‘void stan::model::model_base_crtp<M>::write_array(boost::random::ecuyer1988&, std::vector<double, std::allocator<double> >&, std::vector<int>&, std::vector<double, std::allocator<double> >&, bool, bool, std::ostream*) const [with M = model_7k2rjo4a_namespace::model_7k2rjo4a; boost::random::ecuyer1988 = boost::random::additive_combine_engine<boost::random::linear_congruential_engine<unsigned int, 40014, 0, 2147483563>, boost::random::linear_congruential_engine<unsigned int, 40692, 0, 2147483399> >; std::ostream = std::basic_ostream<char>]’\n",
      "/opt/conda/lib/python3.10/site-packages/httpstan/include/stan/model/model_base_crtp.hpp:198:8:   required from here\n",
      "/home/jovyan/.cache/httpstan/4.9.1/models/7k2rjo4a/model_7k2rjo4a.cpp:257:20: warning: unused variable ‘jacobian__’ [-Wunused-variable]\n"
     ]
    },
    {
     "name": "stdout",
     "output_type": "stream",
     "text": [
      "\u001b[1A\u001b[0J\u001b[36mBuilding:\u001b[0m 8.8s\n",
      "\u001b[1A\u001b[0J\u001b[36mBuilding:\u001b[0m 8.9s\n",
      "\u001b[1A\u001b[0J\u001b[36mBuilding:\u001b[0m 9.0s\n",
      "\u001b[1A\u001b[0J\u001b[36mBuilding:\u001b[0m 9.1s\n",
      "\u001b[1A\u001b[0J\u001b[36mBuilding:\u001b[0m 9.2s\n",
      "\u001b[1A\u001b[0J\u001b[36mBuilding:\u001b[0m 9.3s\n",
      "\u001b[1A\u001b[0J\u001b[36mBuilding:\u001b[0m 9.4s\n",
      "\u001b[1A\u001b[0J\u001b[36mBuilding:\u001b[0m 9.5s\n",
      "\u001b[1A\u001b[0J\u001b[36mBuilding:\u001b[0m 9.6s\n",
      "\u001b[1A\u001b[0J\u001b[36mBuilding:\u001b[0m 9.7s\n",
      "\u001b[1A\u001b[0J\u001b[36mBuilding:\u001b[0m 9.8s\n",
      "\u001b[1A\u001b[0J\u001b[36mBuilding:\u001b[0m 9.9s\n",
      "\u001b[1A\u001b[0J\u001b[36mBuilding:\u001b[0m 10.0s\n",
      "\u001b[1A\u001b[0J\u001b[36mBuilding:\u001b[0m 10.1s\n",
      "\u001b[1A\u001b[0J\u001b[36mBuilding:\u001b[0m 10.2s\n",
      "\u001b[1A\u001b[0J\u001b[36mBuilding:\u001b[0m 10.3s\n",
      "\u001b[1A\u001b[0J\u001b[36mBuilding:\u001b[0m 10.4s\n",
      "\u001b[1A\u001b[0J\u001b[36mBuilding:\u001b[0m 10.5s\n",
      "\u001b[1A\u001b[0J\u001b[36mBuilding:\u001b[0m 10.6s\n",
      "\u001b[1A\u001b[0J\u001b[36mBuilding:\u001b[0m 10.7s\n",
      "\u001b[1A\u001b[0J\u001b[36mBuilding:\u001b[0m 10.8s\n",
      "\u001b[1A\u001b[0J\u001b[36mBuilding:\u001b[0m 10.9s\n",
      "\u001b[1A\u001b[0J\u001b[36mBuilding:\u001b[0m 11.0s\n",
      "\u001b[1A\u001b[0J\u001b[36mBuilding:\u001b[0m 11.2s\n",
      "\u001b[1A\u001b[0J\u001b[36mBuilding:\u001b[0m 11.3s\n",
      "\u001b[1A\u001b[0J\u001b[36mBuilding:\u001b[0m 11.4s\n",
      "\u001b[1A\u001b[0J\u001b[36mBuilding:\u001b[0m 11.5s\n",
      "\u001b[1A\u001b[0J\u001b[36mBuilding:\u001b[0m 11.6s\n",
      "\u001b[1A\u001b[0J\u001b[36mBuilding:\u001b[0m 11.7s\n",
      "\u001b[1A\u001b[0J\u001b[36mBuilding:\u001b[0m 11.8s\n",
      "\u001b[1A\u001b[0J\u001b[36mBuilding:\u001b[0m 11.9s\n",
      "\u001b[1A\u001b[0J\u001b[36mBuilding:\u001b[0m 12.0s\n",
      "\u001b[1A\u001b[0J\u001b[36mBuilding:\u001b[0m 12.1s\n",
      "\u001b[1A\u001b[0J\u001b[36mBuilding:\u001b[0m 12.2s\n",
      "\u001b[1A\u001b[0J\u001b[36mBuilding:\u001b[0m 12.3s\n",
      "\u001b[1A\u001b[0J\u001b[36mBuilding:\u001b[0m 12.4s\n",
      "\u001b[1A\u001b[0J\u001b[36mBuilding:\u001b[0m 12.5s\n",
      "\u001b[1A\u001b[0J\u001b[36mBuilding:\u001b[0m 12.6s\n",
      "\u001b[1A\u001b[0J\u001b[36mBuilding:\u001b[0m 12.7s\n",
      "\u001b[1A\u001b[0J\u001b[36mBuilding:\u001b[0m 12.8s\n",
      "\u001b[1A\u001b[0J\u001b[36mBuilding:\u001b[0m 12.9s\n",
      "\u001b[1A\u001b[0J\u001b[36mBuilding:\u001b[0m 13.0s\n",
      "\u001b[1A\u001b[0J\u001b[36mBuilding:\u001b[0m 13.1s\n",
      "\u001b[1A\u001b[0J\u001b[36mBuilding:\u001b[0m 13.2s\n",
      "\u001b[1A\u001b[0J\u001b[36mBuilding:\u001b[0m 13.3s\n",
      "\u001b[1A\u001b[0J\u001b[36mBuilding:\u001b[0m 13.4s\n",
      "\u001b[1A\u001b[0J\u001b[36mBuilding:\u001b[0m 13.5s\n",
      "\u001b[1A\u001b[0J\u001b[36mBuilding:\u001b[0m 13.6s\n",
      "\u001b[1A\u001b[0J\u001b[36mBuilding:\u001b[0m 13.8s\n",
      "\u001b[1A\u001b[0J\u001b[36mBuilding:\u001b[0m 13.9s\n",
      "\u001b[1A\u001b[0J\u001b[36mBuilding:\u001b[0m 14.0s\n",
      "\u001b[1A\u001b[0J\u001b[36mBuilding:\u001b[0m 14.1s\n",
      "\u001b[1A\u001b[0J\u001b[36mBuilding:\u001b[0m 14.2s\n",
      "\u001b[1A\u001b[0J\u001b[36mBuilding:\u001b[0m 14.3s\n",
      "\u001b[1A\u001b[0J\u001b[36mBuilding:\u001b[0m 14.4s\n",
      "\u001b[1A\u001b[0J\u001b[36mBuilding:\u001b[0m 14.5s\n",
      "\u001b[1A\u001b[0J\u001b[36mBuilding:\u001b[0m 14.6s\n",
      "\u001b[1A\u001b[0J\u001b[36mBuilding:\u001b[0m 14.7s\n",
      "\u001b[1A\u001b[0J\u001b[36mBuilding:\u001b[0m 14.8s\n",
      "\u001b[1A\u001b[0J\u001b[36mBuilding:\u001b[0m 14.9s\n",
      "\u001b[1A\u001b[0J\u001b[36mBuilding:\u001b[0m 15.0s\n",
      "\u001b[1A\u001b[0J\u001b[36mBuilding:\u001b[0m 15.1s\n",
      "\u001b[1A\u001b[0J\u001b[36mBuilding:\u001b[0m 15.2s\n",
      "\u001b[1A\u001b[0J\u001b[36mBuilding:\u001b[0m 15.3s\n",
      "\u001b[1A\u001b[0J\u001b[36mBuilding:\u001b[0m 15.4s\n",
      "\u001b[1A\u001b[0J\u001b[36mBuilding:\u001b[0m 15.5s\n",
      "\u001b[1A\u001b[0J\u001b[36mBuilding:\u001b[0m 15.6s\n",
      "\u001b[1A\u001b[0J\u001b[36mBuilding:\u001b[0m 15.7s\n",
      "\u001b[1A\u001b[0J\u001b[36mBuilding:\u001b[0m 15.8s\n",
      "\u001b[1A\u001b[0J\u001b[36mBuilding:\u001b[0m 16.0s\n",
      "\u001b[1A\u001b[0J\u001b[36mBuilding:\u001b[0m 16.1s\n",
      "\u001b[1A\u001b[0J\u001b[36mBuilding:\u001b[0m 16.2s\n",
      "\u001b[1A\u001b[0J\u001b[36mBuilding:\u001b[0m 16.3s\n",
      "\u001b[1A\u001b[0J\u001b[36mBuilding:\u001b[0m 16.4s\n",
      "\u001b[1A\u001b[0J\u001b[36mBuilding:\u001b[0m 16.5s\n",
      "\u001b[1A\u001b[0J\u001b[36mBuilding:\u001b[0m 16.6s\n",
      "\u001b[1A\u001b[0J\u001b[36mBuilding:\u001b[0m 16.7s\n",
      "\u001b[1A\u001b[0J\u001b[36mBuilding:\u001b[0m 16.8s\n",
      "\u001b[1A\u001b[0J"
     ]
    },
    {
     "name": "stderr",
     "output_type": "stream",
     "text": [
      "\u001b[32mBuilding:\u001b[0m 16.8s, done.\n",
      "\u001b[36mMessages from \u001b[0m\u001b[36;1mstanc\u001b[0m\u001b[36m:\u001b[0m\n",
      "Warning in '/tmp/httpstan_mb25cbou/model_7k2rjo4a.stan', line 5, column 2: Declaration\n",
      "    of arrays by placing brackets after a variable name is deprecated and\n",
      "    will be removed in Stan 2.32.0. Instead use the array keyword before the\n",
      "    type. This can be changed automatically using the auto-format flag to\n",
      "    stanc\n",
      "Warning in '/tmp/httpstan_mb25cbou/model_7k2rjo4a.stan', line 6, column 2: Declaration\n",
      "    of arrays by placing brackets after a variable name is deprecated and\n",
      "    will be removed in Stan 2.32.0. Instead use the array keyword before the\n",
      "    type. This can be changed automatically using the auto-format flag to\n",
      "    stanc\n",
      "Warning: The parameter mdl_params has no priors. This means either no prior\n",
      "    is provided, or the prior(s) depend on data variables. In the later case,\n",
      "    this may be a false positive.\n"
     ]
    }
   ],
   "source": [
    "model=stan.build(program_code=program_code, data=data, random_seed=2324)"
   ]
  },
  {
   "cell_type": "code",
   "execution_count": 9,
   "id": "75187a54-e5f4-44c9-807e-9509b31ee6c7",
   "metadata": {
    "tags": []
   },
   "outputs": [
    {
     "name": "stderr",
     "output_type": "stream",
     "text": [
      "\u001b[36mSampling:\u001b[0m   0%\n",
      "\u001b[1A\u001b[0J\u001b[36mSampling:\u001b[0m  25% (2000/8000)\n",
      "\u001b[1A\u001b[0J\u001b[36mSampling:\u001b[0m  50% (4000/8000)\n",
      "\u001b[1A\u001b[0J\u001b[36mSampling:\u001b[0m  75% (6000/8000)\n",
      "\u001b[1A\u001b[0J\u001b[36mSampling:\u001b[0m 100% (8000/8000)\n",
      "\u001b[1A\u001b[0J\u001b[32mSampling:\u001b[0m 100% (8000/8000), done.\n",
      "\u001b[36mMessages received during sampling:\u001b[0m\n",
      "  Gradient evaluation took 1.4e-05 seconds\n",
      "  1000 transitions using 10 leapfrog steps per transition would take 0.14 seconds.\n",
      "  Adjust your expectations accordingly!\n",
      "  Gradient evaluation took 1.1e-05 seconds\n",
      "  1000 transitions using 10 leapfrog steps per transition would take 0.11 seconds.\n",
      "  Adjust your expectations accordingly!\n",
      "  Gradient evaluation took 1.1e-05 seconds\n",
      "  1000 transitions using 10 leapfrog steps per transition would take 0.11 seconds.\n",
      "  Adjust your expectations accordingly!\n",
      "  Gradient evaluation took 1.1e-05 seconds\n",
      "  1000 transitions using 10 leapfrog steps per transition would take 0.11 seconds.\n",
      "  Adjust your expectations accordingly!\n"
     ]
    }
   ],
   "source": [
    "fit = model.sample()"
   ]
  },
  {
   "cell_type": "code",
   "execution_count": 25,
   "id": "f3fb29bd-b89f-4e9d-93f0-5a9d4a80290d",
   "metadata": {
    "tags": []
   },
   "outputs": [
    {
     "data": {
      "text/html": [
       "<div>\n",
       "<style scoped>\n",
       "    .dataframe tbody tr th:only-of-type {\n",
       "        vertical-align: middle;\n",
       "    }\n",
       "\n",
       "    .dataframe tbody tr th {\n",
       "        vertical-align: top;\n",
       "    }\n",
       "\n",
       "    .dataframe thead th {\n",
       "        text-align: right;\n",
       "    }\n",
       "</style>\n",
       "<table border=\"1\" class=\"dataframe\">\n",
       "  <thead>\n",
       "    <tr style=\"text-align: right;\">\n",
       "      <th></th>\n",
       "      <th>x</th>\n",
       "      <th>n</th>\n",
       "      <th>y</th>\n",
       "    </tr>\n",
       "  </thead>\n",
       "  <tbody>\n",
       "    <tr>\n",
       "      <th>0</th>\n",
       "      <td>-0.86</td>\n",
       "      <td>5</td>\n",
       "      <td>0</td>\n",
       "    </tr>\n",
       "    <tr>\n",
       "      <th>1</th>\n",
       "      <td>-0.30</td>\n",
       "      <td>5</td>\n",
       "      <td>1</td>\n",
       "    </tr>\n",
       "    <tr>\n",
       "      <th>2</th>\n",
       "      <td>-0.05</td>\n",
       "      <td>5</td>\n",
       "      <td>3</td>\n",
       "    </tr>\n",
       "    <tr>\n",
       "      <th>3</th>\n",
       "      <td>0.73</td>\n",
       "      <td>5</td>\n",
       "      <td>5</td>\n",
       "    </tr>\n",
       "  </tbody>\n",
       "</table>\n",
       "</div>"
      ],
      "text/plain": [
       "      x  n  y\n",
       "0 -0.86  5  0\n",
       "1 -0.30  5  1\n",
       "2 -0.05  5  3\n",
       "3  0.73  5  5"
      ]
     },
     "execution_count": 25,
     "metadata": {},
     "output_type": "execute_result"
    }
   ],
   "source": [
    "df"
   ]
  },
  {
   "cell_type": "code",
   "execution_count": 30,
   "id": "726fbba6-ff17-4217-bfd4-7b178e851969",
   "metadata": {
    "tags": []
   },
   "outputs": [
    {
     "data": {
      "image/png": "[encoded data removed]",
      "text/plain": [
       "<Figure size 400x500 with 4 Axes>"
      ]
     },
     "metadata": {},
     "output_type": "display_data"
    }
   ],
   "source": [
    "fig, axes = plot_tools.hist_multi_sharex(\n",
    "    fit['theta'],\n",
    "    rowlabels=df.x,\n",
    "    n_bins=60,\n",
    "    x_lines=0,\n",
    "    figsize=(4, 5)\n",
    ")"
   ]
  },
  {
   "cell_type": "code",
   "execution_count": 33,
   "id": "93b445d5-ef11-4284-8dc7-bf3adc243194",
   "metadata": {
    "tags": []
   },
   "outputs": [
    {
     "data": {
      "image/png": "[encoded data removed]",
      "text/plain": [
       "<Figure size 300x400 with 2 Axes>"
      ]
     },
     "metadata": {},
     "output_type": "display_data"
    }
   ],
   "source": [
    "fig, axes = plot_tools.hist_multi_sharex(\n",
    "    fit['mdl_params'],\n",
    "    rowlabels=['alpha', 'beta'],\n",
    "    n_bins=60,\n",
    "    x_lines=0,\n",
    "    figsize=(3, 4)\n",
    ")"
   ]
  },
  {
   "cell_type": "markdown",
   "id": "2f3f08af-9317-4573-bf56-111bc74cfc9d",
   "metadata": {},
   "source": [
    "### 2. \n",
    "Use ̂ R for convergence analysis. You can either use Eq. (11.4) in BDA3 or the later version that can be found in a recent article. You should specify which ̂ R you used. In R the best choice is to use function rhat_basic() or rhat() from the posterior package (see ?posterior::rhat_basic). To check ̂ R and other diagnostics, you can also call fit$summary(), where fit is the fit object returned by Stan’s sampling function. Report the ̂ R values both for α and β and discuss the convergence of the chains. Briefly explain in your own words how to interpret the obtained ̂ R values."
   ]
  },
  {
   "cell_type": "code",
   "execution_count": 23,
   "id": "76b666ce-e700-40c3-9a4f-8547efdc7e26",
   "metadata": {
    "tags": []
   },
   "outputs": [
    {
     "data": {
      "text/html": [
       "<div>\n",
       "<style scoped>\n",
       "    .dataframe tbody tr th:only-of-type {\n",
       "        vertical-align: middle;\n",
       "    }\n",
       "\n",
       "    .dataframe tbody tr th {\n",
       "        vertical-align: top;\n",
       "    }\n",
       "\n",
       "    .dataframe thead th {\n",
       "        text-align: right;\n",
       "    }\n",
       "</style>\n",
       "<table border=\"1\" class=\"dataframe\">\n",
       "  <thead>\n",
       "    <tr style=\"text-align: right;\">\n",
       "      <th></th>\n",
       "      <th>mean</th>\n",
       "      <th>sd</th>\n",
       "      <th>hdi_3%</th>\n",
       "      <th>hdi_97%</th>\n",
       "      <th>mcse_mean</th>\n",
       "      <th>mcse_sd</th>\n",
       "      <th>ess_bulk</th>\n",
       "      <th>ess_tail</th>\n",
       "      <th>r_hat</th>\n",
       "    </tr>\n",
       "  </thead>\n",
       "  <tbody>\n",
       "    <tr>\n",
       "      <th>mdl_params[0]</th>\n",
       "      <td>1.017</td>\n",
       "      <td>0.891</td>\n",
       "      <td>-0.599</td>\n",
       "      <td>2.713</td>\n",
       "      <td>0.024</td>\n",
       "      <td>0.018</td>\n",
       "      <td>1375.0</td>\n",
       "      <td>1792.0</td>\n",
       "      <td>1.0</td>\n",
       "    </tr>\n",
       "    <tr>\n",
       "      <th>mdl_params[1]</th>\n",
       "      <td>10.876</td>\n",
       "      <td>4.847</td>\n",
       "      <td>2.872</td>\n",
       "      <td>19.932</td>\n",
       "      <td>0.141</td>\n",
       "      <td>0.103</td>\n",
       "      <td>1263.0</td>\n",
       "      <td>1359.0</td>\n",
       "      <td>1.0</td>\n",
       "    </tr>\n",
       "    <tr>\n",
       "      <th>theta[0]</th>\n",
       "      <td>-8.337</td>\n",
       "      <td>3.696</td>\n",
       "      <td>-15.877</td>\n",
       "      <td>-2.644</td>\n",
       "      <td>0.102</td>\n",
       "      <td>0.075</td>\n",
       "      <td>1448.0</td>\n",
       "      <td>1452.0</td>\n",
       "      <td>1.0</td>\n",
       "    </tr>\n",
       "    <tr>\n",
       "      <th>theta[1]</th>\n",
       "      <td>-2.246</td>\n",
       "      <td>1.156</td>\n",
       "      <td>-4.398</td>\n",
       "      <td>-0.191</td>\n",
       "      <td>0.026</td>\n",
       "      <td>0.020</td>\n",
       "      <td>2310.0</td>\n",
       "      <td>1724.0</td>\n",
       "      <td>1.0</td>\n",
       "    </tr>\n",
       "    <tr>\n",
       "      <th>theta[2]</th>\n",
       "      <td>0.473</td>\n",
       "      <td>0.769</td>\n",
       "      <td>-0.948</td>\n",
       "      <td>1.914</td>\n",
       "      <td>0.019</td>\n",
       "      <td>0.013</td>\n",
       "      <td>1709.0</td>\n",
       "      <td>2171.0</td>\n",
       "      <td>1.0</td>\n",
       "    </tr>\n",
       "    <tr>\n",
       "      <th>theta[3]</th>\n",
       "      <td>8.957</td>\n",
       "      <td>4.140</td>\n",
       "      <td>2.064</td>\n",
       "      <td>16.715</td>\n",
       "      <td>0.124</td>\n",
       "      <td>0.090</td>\n",
       "      <td>1167.0</td>\n",
       "      <td>1315.0</td>\n",
       "      <td>1.0</td>\n",
       "    </tr>\n",
       "  </tbody>\n",
       "</table>\n",
       "</div>"
      ],
      "text/plain": [
       "                 mean     sd  hdi_3%  hdi_97%  mcse_mean  mcse_sd  ess_bulk  \\\n",
       "mdl_params[0]   1.017  0.891  -0.599    2.713      0.024    0.018    1375.0   \n",
       "mdl_params[1]  10.876  4.847   2.872   19.932      0.141    0.103    1263.0   \n",
       "theta[0]       -8.337  3.696 -15.877   -2.644      0.102    0.075    1448.0   \n",
       "theta[1]       -2.246  1.156  -4.398   -0.191      0.026    0.020    2310.0   \n",
       "theta[2]        0.473  0.769  -0.948    1.914      0.019    0.013    1709.0   \n",
       "theta[3]        8.957  4.140   2.064   16.715      0.124    0.090    1167.0   \n",
       "\n",
       "               ess_tail  r_hat  \n",
       "mdl_params[0]    1792.0    1.0  \n",
       "mdl_params[1]    1359.0    1.0  \n",
       "theta[0]         1452.0    1.0  \n",
       "theta[1]         1724.0    1.0  \n",
       "theta[2]         2171.0    1.0  \n",
       "theta[3]         1315.0    1.0  "
      ]
     },
     "execution_count": 23,
     "metadata": {},
     "output_type": "execute_result"
    }
   ],
   "source": [
    "az.summary(fit)"
   ]
  },
  {
   "cell_type": "code",
   "execution_count": null,
   "id": "40362a40-9abd-41df-84a4-102dcfa2aa3d",
   "metadata": {},
   "outputs": [],
   "source": []
  }
 ],
 "metadata": {
  "kernelspec": {
   "display_name": "Python 3 (ipykernel)",
   "language": "python",
   "name": "python3"
  },
  "language_info": {
   "codemirror_mode": {
    "name": "ipython",
    "version": 3
   },
   "file_extension": ".py",
   "mimetype": "text/x-python",
   "name": "python",
   "nbconvert_exporter": "python",
   "pygments_lexer": "ipython3",
   "version": "3.10.9"
  }
 },
 "nbformat": 4,
 "nbformat_minor": 5
}
