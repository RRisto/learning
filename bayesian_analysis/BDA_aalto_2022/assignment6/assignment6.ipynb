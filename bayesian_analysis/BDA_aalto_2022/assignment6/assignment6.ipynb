{
 "cells": [
  {
   "cell_type": "code",
   "execution_count": 1,
   "id": "0fcd8132-9984-4a73-adce-6a0274db26db",
   "metadata": {
    "tags": []
   },
   "outputs": [],
   "source": [
    "%matplotlib inline\n",
    "\n",
    "import numpy as np\n",
    "import pandas as pd\n",
    "import matplotlib as mpl\n",
    "import matplotlib.pyplot as plt\n",
    "\n",
    "import stan\n",
    "import arviz as az # For visualization and loo\n",
    "#needed for notebook\n",
    "import nest_asyncio\n",
    "nest_asyncio.apply()"
   ]
  },
  {
   "cell_type": "code",
   "execution_count": 2,
   "id": "e886fbda-fec7-41c3-97d3-3ef7abb7c4a3",
   "metadata": {
    "tags": []
   },
   "outputs": [],
   "source": [
    "# add utilities directory to path\n",
    "import os, sys\n",
    "util_path = os.path.abspath(os.path.join(os.path.pardir, 'utilities_and_data'))\n",
    "if util_path not in sys.path and os.path.exists(util_path):\n",
    "    sys.path.insert(0, util_path)\n",
    "\n",
    "# import from utilities\n",
    "import stan_v3_utility"
   ]
  },
  {
   "cell_type": "code",
   "execution_count": 3,
   "id": "ddb8b825-a7a1-4425-baaa-c754132ed0c3",
   "metadata": {
    "tags": []
   },
   "outputs": [
    {
     "name": "stderr",
     "output_type": "stream",
     "text": [
      "/tmp/ipykernel_6913/1626268779.py:3: MatplotlibDeprecationWarning: The seaborn styles shipped by Matplotlib are deprecated since 3.6, as they no longer correspond to the styles shipped by seaborn. However, they will remain available as 'seaborn-v0_8-<style>'. Alternatively, directly use the seaborn API instead.\n",
      "  az.style.use('seaborn-darkgrid')\n"
     ]
    }
   ],
   "source": [
    "# edit default plot settings\n",
    "plt.rc('font', size=12)\n",
    "az.style.use('seaborn-darkgrid')\n",
    "mpl.rcParams['figure.figsize'] = [7.0, 5.4]"
   ]
  },
  {
   "cell_type": "code",
   "execution_count": null,
   "id": "38d1cc50-a628-4482-bcb6-3fc2eb5fa6d9",
   "metadata": {},
   "outputs": [],
   "source": []
  }
 ],
 "metadata": {
  "kernelspec": {
   "display_name": "Python 3 (ipykernel)",
   "language": "python",
   "name": "python3"
  },
  "language_info": {
   "codemirror_mode": {
    "name": "ipython",
    "version": 3
   },
   "file_extension": ".py",
   "mimetype": "text/x-python",
   "name": "python",
   "nbconvert_exporter": "python",
   "pygments_lexer": "ipython3",
   "version": "3.10.9"
  }
 },
 "nbformat": 4,
 "nbformat_minor": 5
}
