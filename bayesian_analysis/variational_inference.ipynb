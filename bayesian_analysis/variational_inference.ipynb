{
 "cells": [
  {
   "cell_type": "code",
   "execution_count": 1,
   "id": "faf2589c",
   "metadata": {},
   "outputs": [
    {
     "name": "stderr",
     "output_type": "stream",
     "text": [
      "C:\\Users\\risto\\Anaconda3\\lib\\site-packages\\numpy\\_distributor_init.py:32: UserWarning: loaded more than 1 DLL from .libs:\n",
      "C:\\Users\\risto\\Anaconda3\\lib\\site-packages\\numpy\\.libs\\libopenblas.PYQHXLVVQ7VESDPUVUADXEVJOBGHJPAY.gfortran-win_amd64.dll\n",
      "C:\\Users\\risto\\Anaconda3\\lib\\site-packages\\numpy\\.libs\\libopenblas.WCDJNK7YVMPZQ2ME2ZZHJJRJ3JIKNDB7.gfortran-win_amd64.dll\n",
      "  stacklevel=1)\n"
     ]
    }
   ],
   "source": [
    "import numpy as np\n",
    "import pandas as pd\n",
    "import matplotlib.pyplot as plt"
   ]
  },
  {
   "cell_type": "code",
   "execution_count": 2,
   "id": "d396a521",
   "metadata": {},
   "outputs": [],
   "source": [
    "#source: https://zhiyzuo.github.io/VI/"
   ]
  },
  {
   "cell_type": "markdown",
   "id": "540800d2",
   "metadata": {},
   "source": [
    "## Helpers"
   ]
  },
  {
   "cell_type": "code",
   "execution_count": 3,
   "id": "6dce9179",
   "metadata": {},
   "outputs": [],
   "source": [
    "class UGMM(object):\n",
    "    '''Univariate GMM with CAVI'''\n",
    "    def __init__(self, X, K=2, sigma=1):\n",
    "        self.X = X\n",
    "        self.K = K\n",
    "        self.N = self.X.shape[0]\n",
    "        self.sigma2 = sigma**2\n",
    "\n",
    "    def _init(self):\n",
    "        self.phi = np.random.dirichlet([np.random.random()*np.random.randint(1, 10)]*self.K, self.N)\n",
    "#         self.m = np.random.randint(int(self.X.min()), high=int(self.X.max()), size=self.K).astype(float)\n",
    "        self.m = np.random.random(size=self.K)\n",
    "        self.m += self.X.max()*np.random.random(self.K)\n",
    "        self.s2 = np.ones(self.K) * np.random.random(self.K)\n",
    "        print('Init mean')\n",
    "        print(self.m)\n",
    "        print('Init s2')\n",
    "        print(self.s2)\n",
    "\n",
    "    def get_elbo(self):\n",
    "        t1 = np.log(self.s2) - self.m/self.sigma2\n",
    "        t1 = t1.sum()\n",
    "        t2 = -0.5*np.add.outer(self.X**2, self.s2+self.m**2)\n",
    "        t2 += np.outer(self.X, self.m)\n",
    "        t2 -= np.log(self.phi)\n",
    "        t2 *= self.phi\n",
    "        t2 = t2.sum()\n",
    "        return t1 + t2\n",
    "\n",
    "    def fit(self, max_iter=100, tol=1e-10):\n",
    "        self._init()\n",
    "        self.elbo_values = [self.get_elbo()]\n",
    "        self.m_history = [self.m]\n",
    "        self.s2_history = [self.s2]\n",
    "        for iter_ in range(1, max_iter+1):\n",
    "            self._cavi()\n",
    "            self.m_history.append(self.m)\n",
    "            self.s2_history.append(self.s2)\n",
    "            self.elbo_values.append(self.get_elbo())\n",
    "            if iter_ % 5 == 0:\n",
    "                print(iter_, self.m_history[iter_])\n",
    "            if np.abs(self.elbo_values[-2] - self.elbo_values[-1]) <= tol:\n",
    "                print('ELBO converged with ll %.3f at iteration %d'%(self.elbo_values[-1],\n",
    "                                                                     iter_))\n",
    "                break\n",
    "\n",
    "        if iter_ == max_iter:\n",
    "            print('ELBO ended with ll %.3f'%(self.elbo_values[-1]))\n",
    "\n",
    "\n",
    "    def _cavi(self):\n",
    "        self._update_phi()\n",
    "        self._update_mu()\n",
    "\n",
    "    def _update_phi(self):\n",
    "        t1 = np.outer(self.X, self.m)\n",
    "        t2 = -(0.5*self.m**2 + 0.5*self.s2)\n",
    "        exponent = t1 + t2[np.newaxis, :]\n",
    "        self.phi = np.exp(exponent)\n",
    "        self.phi = self.phi / self.phi.sum(1)[:, np.newaxis]\n",
    "\n",
    "    def _update_mu(self):\n",
    "        self.m = (self.phi*self.X[:, np.newaxis]).sum(0) * (1/self.sigma2 + self.phi.sum(0))**(-1)\n",
    "        assert self.m.size == self.K\n",
    "        #print(self.m)\n",
    "        self.s2 = (1/self.sigma2 + self.phi.sum(0))**(-1)\n",
    "        assert self.s2.size == self.K\n"
   ]
  },
  {
   "cell_type": "markdown",
   "id": "1252a46e",
   "metadata": {},
   "source": [
    "## Data"
   ]
  },
  {
   "cell_type": "code",
   "execution_count": 4,
   "id": "281fef0a",
   "metadata": {},
   "outputs": [
    {
     "data": {
      "text/html": [
       "<div>\n",
       "<style scoped>\n",
       "    .dataframe tbody tr th:only-of-type {\n",
       "        vertical-align: middle;\n",
       "    }\n",
       "\n",
       "    .dataframe tbody tr th {\n",
       "        vertical-align: top;\n",
       "    }\n",
       "\n",
       "    .dataframe thead th {\n",
       "        text-align: right;\n",
       "    }\n",
       "</style>\n",
       "<table border=\"1\" class=\"dataframe\">\n",
       "  <thead>\n",
       "    <tr style=\"text-align: right;\">\n",
       "      <th></th>\n",
       "      <th>index</th>\n",
       "      <th>data</th>\n",
       "    </tr>\n",
       "  </thead>\n",
       "  <tbody>\n",
       "    <tr>\n",
       "      <th>0</th>\n",
       "      <td>0</td>\n",
       "      <td>0.002681</td>\n",
       "    </tr>\n",
       "    <tr>\n",
       "      <th>1</th>\n",
       "      <td>1</td>\n",
       "      <td>-0.341619</td>\n",
       "    </tr>\n",
       "    <tr>\n",
       "      <th>2</th>\n",
       "      <td>2</td>\n",
       "      <td>-0.352397</td>\n",
       "    </tr>\n",
       "    <tr>\n",
       "      <th>3</th>\n",
       "      <td>3</td>\n",
       "      <td>0.682440</td>\n",
       "    </tr>\n",
       "    <tr>\n",
       "      <th>4</th>\n",
       "      <td>4</td>\n",
       "      <td>0.504524</td>\n",
       "    </tr>\n",
       "  </tbody>\n",
       "</table>\n",
       "</div>"
      ],
      "text/plain": [
       "   index      data\n",
       "0      0  0.002681\n",
       "1      1 -0.341619\n",
       "2      2 -0.352397\n",
       "3      3  0.682440\n",
       "4      4  0.504524"
      ]
     },
     "execution_count": 4,
     "metadata": {},
     "output_type": "execute_result"
    }
   ],
   "source": [
    "df=pd.read_csv('clusters.csv', header=None)\n",
    "df.columns=['index','data']\n",
    "df.head()"
   ]
  },
  {
   "cell_type": "markdown",
   "id": "7f2e34fc",
   "metadata": {},
   "source": [
    "## Fit"
   ]
  },
  {
   "cell_type": "code",
   "execution_count": 5,
   "id": "c65b2f40",
   "metadata": {},
   "outputs": [],
   "source": [
    "ugmm = UGMM(df.data.values, K=3)"
   ]
  },
  {
   "cell_type": "code",
   "execution_count": 6,
   "id": "fdebe122",
   "metadata": {},
   "outputs": [
    {
     "name": "stdout",
     "output_type": "stream",
     "text": [
      "Init mean\n",
      "[1.59706274 1.30972862 0.94336548]\n",
      "Init s2\n",
      "[0.10765442 0.64471647 0.28773877]\n",
      "5 [0.16919779 0.16909547 0.16895849]\n",
      "10 [0.16908396 0.16908392 0.16908387]\n",
      "ELBO converged with ll 975.761 at iteration 10\n"
     ]
    }
   ],
   "source": [
    "ugmm.fit()"
   ]
  },
  {
   "cell_type": "code",
   "execution_count": 7,
   "id": "c8ae94cd",
   "metadata": {},
   "outputs": [],
   "source": [
    "def plot_clusters(data, class_weights=None, assignments=None):\n",
    "    if class_weights is not None:\n",
    "        assignments = class_weigths.argmax(axis=1)\n",
    "    gby = pd.DataFrame({\n",
    "            'data': data, \n",
    "            'assignment': assignments}\n",
    "        ).groupby(by='assignment')['data']\n",
    "    hist_data = [gby.get_group(cid).tolist() \n",
    "                 for cid in gby.groups.keys()]\n",
    "    plt.hist(hist_data, \n",
    "             bins=20,\n",
    "             histtype='stepfilled', alpha=.2 )\n"
   ]
  },
  {
   "cell_type": "code",
   "execution_count": 8,
   "id": "d4a8b710",
   "metadata": {},
   "outputs": [
    {
     "data": {
      "image/png": "[encoded data removed]",
      "text/plain": [
       "<Figure size 432x288 with 1 Axes>"
      ]
     },
     "metadata": {
      "needs_background": "light"
     },
     "output_type": "display_data"
    }
   ],
   "source": [
    "plot_clusters(df.data, assignments=ugmm.phi.argmax(1))"
   ]
  },
  {
   "cell_type": "code",
   "execution_count": null,
   "id": "9e4f6bcd",
   "metadata": {},
   "outputs": [],
   "source": []
  }
 ],
 "metadata": {
  "kernelspec": {
   "display_name": "Python 3 (ipykernel)",
   "language": "python",
   "name": "python3"
  },
  "language_info": {
   "codemirror_mode": {
    "name": "ipython",
    "version": 3
   },
   "file_extension": ".py",
   "mimetype": "text/x-python",
   "name": "python",
   "nbconvert_exporter": "python",
   "pygments_lexer": "ipython3",
   "version": "3.9.12"
  }
 },
 "nbformat": 4,
 "nbformat_minor": 5
}
