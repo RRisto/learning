{
 "cells": [
  {
   "cell_type": "markdown",
   "id": "fda67945",
   "metadata": {},
   "source": [
    "# EM Algorithm in Gaussian Mixture Model (GMM)\n",
    "\n",
    "Gaussian Mixture Model (GMM) $ p(\\mathbf{x}) = \\sum^{K-1}_{k=0} \\pi_k \\mathcal{N}(\\mathbf{x}|\\mu_k, \\Sigma_k) $ is decomposed by categorical distribution $ p(\\mathbf{z}) $, in which $ p(z_k=1)=\\pi_k $ (where $\\sum_k \\pi_k = 1.0$), and the corresponding Gaussian distribution (normal distribution) with mean $ \\mu=(\\mu_0, \\mu_1, \\ldots, \\mu_{K-1}) $ and deviation $ \\Sigma=(\\Sigma_0, \\Sigma_1, \\ldots, \\Sigma_{K-1}) $.<br>\n",
    "This will be represented by the following graphical model.\n",
    "\n",
    "![GMM Graphical Model](images/gmm_graphical_model.png?raw=true)\n",
    "\n",
    "Now we'll find $ \\{ \\pi_k, \\mu_k, \\Sigma_k \\} (k=0,\\ldots,K-1) $ which maximizes the following formula, when $ X=\\{\\mathbf{x}_0, \\ldots, \\mathbf{x}_{N-1}\\} $ is given.\n",
    "\n",
    "$$ \\ln p(X) = \\sum_{n=0}^{N-1} \\ln \\left\\{ \\sum_{k=0}^{K-1} \\pi_k \\mathcal{N}(\\mathbf{x}_n|\\mu_k, \\Sigma_k) \\right\\} \\;\\;\\;\\;\\; (1) $$\n",
    "\n",
    "In order to get the optimal $ \\mu_k $, we set above formula's derivatives (by $ \\mu_k $) to zero, and we can then get the following equation for each $k$.\n",
    "\n",
    "$$ \\sum_{n=0}^{N-1} \\left\\{ \\frac{\\pi_k \\mathcal{N}(\\mathbf{x}_n|\\mu_k,\\Sigma_k)}{\\sum_{j=0}^{K-1} \\pi_j \\mathcal{N}(\\mathbf{x}_n|\\mu_j,\\Sigma_j)} \\Sigma_k^{-1} (\\mathbf{x}_n - \\mu_k) \\right\\} = 0 $$\n",
    "\n",
    "Now we define the following $ \\gamma(z_{nk}) $, which is called **responsibility**.\n",
    "\n",
    "$$ \\gamma_{nk} \\equiv \\frac{\\pi_k \\mathcal{N}(\\mathbf{x}_n|\\mu_k,\\Sigma_k)}{\\sum_{j=0}^{K-1} \\pi_j \\mathcal{N}(\\mathbf{x}_n|\\mu_j,\\Sigma_j)} $$\n",
    "\n",
    "By using this notation $\\gamma_{nk}$, we will then get the following equation.<br>\n",
    "\n",
    "$$ \\mu_k^{new} = \\frac{1}{\\sum_{n=0}^{N-1} \\gamma_{nk}} \\sum_{n=0}^{N-1} \\left\\{ \\gamma_{nk} \\mathbf{x}_n \\right\\} $$\n",
    "\n",
    "In this equation, I note that $ \\gamma_{nj} (j=0,\\ldots,K-1) $ also refers $ \\mu_k $, but when we fix $ \\gamma_{nj} $, we can then obtain the optimal $ \\mu_k^{new} $ as above equation.<br>\n",
    "In **EM algorithm** (expectation-maximization algorithm), we start with initial $ \\{ \\pi_k, \\mu_k, \\Sigma_k \\} $ values, and fix $ \\gamma_{nk} $, and get the new $ \\{ \\pi_k^{new}, \\mu_k^{new}, \\Sigma_k^{new} \\} $ by maximum-likelihood estimation, and then we repeat this cycle until we get the optimal $ \\{ \\pi_k, \\mu_k, \\Sigma_k \\} $.\n",
    "\n",
    "Same as above, we can get $ \\Sigma_k^{new} $ as follows by setting the derivatives of (1) to zero.<br>\n",
    "In this equation, I note that we use the above obtained $ \\mu_k^{new} $.\n",
    "\n",
    "$$ \\Sigma_k^{new} = \\frac{1}{\\sum_{n=0}^{N-1} \\gamma_{nk}} \\sum_{n=0}^{N-1} \\left\\{ \\gamma_{nk} (\\mathbf{x}_n-\\mu_k^{new}) (\\mathbf{x}_n-\\mu_k^{new})^T \\right\\} $$\n",
    "\n",
    "By applying Lagrange multiplier (since we have the condition $ \\sum_k \\pi_k = 1.0 $), we can also get the following equation.\n",
    "\n",
    "$$ \\pi_k^{new} = \\frac{\\sum_{n=0}^{N-1} \\gamma_{nk}}{N} $$\n",
    "\n",
    "> Note : For more reading, please refer Chapter 9 in \"[Pattern Recognition and Machine Learning](https://www.microsoft.com/en-us/research/uploads/prod/2006/01/Bishop-Pattern-Recognition-and-Machine-Learning-2006.pdf?ranMID=24542&ranEAID=TnL5HPStwNw&ranSiteID=TnL5HPStwNw-g4zE85KQgCXaCQfYBhtuFQ&epi=TnL5HPStwNw-g4zE85KQgCXaCQfYBhtuFQ&irgwc=1&OCID=AID2200057_aff_7593_1243925&tduid=%28ir__vhvv9m6caokf6nb62oprh029if2xo0rux3ga300300%29%287593%29%281243925%29%28TnL5HPStwNw-g4zE85KQgCXaCQfYBhtuFQ%29%28%29&irclickid=_vhvv9m6caokf6nb62oprh029if2xo0rux3ga300300)\" (Christopher M. Bishop, Microsoft).\n",
    "\n",
    "Now let's start to implement this algorithm.\n",
    "\n",
    "*back to [Readme](https://github.com/tsmatz/gmm/)*"
   ]
  },
  {
   "cell_type": "markdown",
   "id": "d9c46371",
   "metadata": {},
   "source": [
    "##  Generate sample data (Sampling)\n",
    "\n",
    "I generate sample data (observations) by using the distribution of GMM.<br>\n",
    "In this example, I will generate 1000 samples of $ \\sum_{k=0}^2 \\pi_k \\mathcal{N}(\\mathbf{x}_n|\\mu_k, \\Sigma_k) $ (i.e, $ K=3 $) where :\n",
    "\n",
    "$ \\pi_0=0.15, \\pi_1=0.35, \\pi_2=0.5 $\n",
    "\n",
    "$ \\mu_0=(-3.0, 2.0), \\mu_1=(4.0, 2.0), \\mu_2=(3.0, 1.0) $\n",
    "\n",
    "$ \\Sigma_0=\\begin{bmatrix} 1.0 & 0.2 \\\\ 0.2 & 2.0 \\end{bmatrix} $\n",
    "\n",
    "$ \\Sigma_1=\\begin{bmatrix} 0.8 & -1.0 \\\\ -1.0 & 1.3 \\end{bmatrix} $\n",
    "\n",
    "$ \\Sigma_2=\\begin{bmatrix} 1.5 & 1.4 \\\\ 1.4 & 1.5 \\end{bmatrix} $"
   ]
  },
  {
   "cell_type": "code",
   "execution_count": 1,
   "id": "a118f039",
   "metadata": {},
   "outputs": [
    {
     "data": {
      "text/plain": [
       "[<matplotlib.lines.Line2D at 0x7f786305d630>]"
      ]
     },
     "execution_count": 1,
     "metadata": {},
     "output_type": "execute_result"
    },
    {
     "data": {
      "image/png": "[encoded data removed]",
      "text/plain": [
       "<Figure size 432x288 with 1 Axes>"
      ]
     },
     "metadata": {
      "needs_background": "light"
     },
     "output_type": "display_data"
    }
   ],
   "source": [
    "import numpy as np\n",
    "import matplotlib.pyplot as plt\n",
    "\n",
    "np.random.seed(1000)  # For debugging and reproducibility\n",
    "\n",
    "N = 1000\n",
    "\n",
    "pi1=0.15; pi2=0.35; pi3=0.5\n",
    "\n",
    "mu1=np.array([-3.0, 2.0])\n",
    "mu2=np.array([4.0, 2.0])\n",
    "mu3=np.array([3.0, 1.0])\n",
    "\n",
    "Sigma1 = np.array([\n",
    "    [1.0,0.2],\n",
    "    [0.2,2.0],\n",
    "])\n",
    "Sigma2 = np.array([\n",
    "    [0.8,-1.0],\n",
    "    [-1.0,1.3],\n",
    "])\n",
    "Sigma3 = np.array([\n",
    "    [1.5,1.4],\n",
    "    [1.4,1.5],\n",
    "])\n",
    "\n",
    "Z_seeds = np.random.uniform(0, 1, size=N)\n",
    "X = np.empty((0,2))\n",
    "for z_seed in Z_seeds:\n",
    "    if z_seed < pi1:\n",
    "        x_n = np.random.multivariate_normal(\n",
    "            mean=mu1,\n",
    "            cov=Sigma1,\n",
    "            size=1)\n",
    "    elif z_seed < pi1 + pi2:\n",
    "        x_n = np.random.multivariate_normal(\n",
    "            mean=mu2,\n",
    "            cov=Sigma2,\n",
    "            size=1)\n",
    "    else:\n",
    "        x_n = np.random.multivariate_normal(\n",
    "            mean=mu3,\n",
    "            cov=Sigma3,\n",
    "            size=1)\n",
    "    X = np.vstack((X, x_n))\n",
    "\n",
    "plt.plot(X[:,0], X[:,1], \"o\")"
   ]
  },
  {
   "cell_type": "markdown",
   "id": "eb896c56",
   "metadata": {},
   "source": [
    "## Apply EM algorithm in Python\n",
    "\n",
    "Now let's implement EM algorithm in Python and estimate parameters $ \\mathbf{\\theta} = \\{ \\pi_k, \\mathbf{\\mu}_k, \\mathbf{\\Sigma}_k \\} (k=0,1,2) $."
   ]
  },
  {
   "cell_type": "markdown",
   "id": "50183253",
   "metadata": {},
   "source": [
    "### 1. Initialize parameters\n",
    "\n",
    "First, we initialize $ \\mathbf{\\theta} = \\{ \\pi_k, \\mathbf{\\mu}_k, \\mathbf{\\Sigma}_k \\} (k=0,1,2) $ as follows.\n",
    "\n",
    "- $ \\pi_0 = 0.4, \\pi_1 = 0.3, \\pi_2 = 0.3 $\n",
    "- $ \\mu_k = (k, k) \\;\\;\\; (k = 0,1,2) $\n",
    "- $ \\Sigma_k = \\begin{bmatrix} 1.0 & 0.5 \\\\ 0.5 & 1.0 \\end{bmatrix} \\;\\;\\; (k = 0,1,2) $\n",
    "\n",
    "In this example, I set the fixed values for $ \\mathbf{\\mu}_k $ and $ \\mathbf{\\Sigma}_k $. However, K-means is sometimes used to determine initial $ \\mathbf{\\mu}_k $ and $ \\mathbf{\\Sigma}_k $, in order to speed up optimization in practice."
   ]
  },
  {
   "cell_type": "code",
   "execution_count": 2,
   "id": "b114a5c1",
   "metadata": {},
   "outputs": [],
   "source": [
    "# Initialize parameters\n",
    "class theta:\n",
    "    pi = np.empty((0,3))\n",
    "    mu = np.empty((0,3,2))\n",
    "    Sigma = np.empty((0,3,2,2))\n",
    "\n",
    "    def __init__(self, pi, mu, Sigma):\n",
    "        self.pi = pi\n",
    "        self.mu = mu\n",
    "        self.Sigma = Sigma\n",
    "\n",
    "theta_old = theta(\n",
    "    pi=np.array([0.4, 0.3, 0.3]),\n",
    "    mu=np.array([\n",
    "        [0.0, 0.0],\n",
    "        [1.0, 1.0],\n",
    "        [2.0, 2.0]\n",
    "    ]),\n",
    "    Sigma=np.array([\n",
    "        [[1.0, 0.5],[0.5, 1.0]],\n",
    "        [[1.0, 0.5],[0.5, 1.0]],\n",
    "        [[1.0, 0.5],[0.5, 1.0]]\n",
    "    ])\n",
    ")"
   ]
  },
  {
   "cell_type": "markdown",
   "id": "1fceffcc",
   "metadata": {},
   "source": [
    "### 2. Get responsibility\n",
    "\n",
    "Next we get the following responsibility, $ \\gamma(z_{nk}) $.\n",
    "\n",
    "$ \\gamma_{nk} \\equiv \\frac{\\pi_k \\mathcal{N}(\\mathbf{x}_n|\\mu_k,\\Sigma_k)}{\\sum_{j=0}^{K-1} \\pi_j \\mathcal{N}(\\mathbf{x}_n|\\mu_j,\\Sigma_j)} $"
   ]
  },
  {
   "cell_type": "code",
   "execution_count": 3,
   "id": "64576913",
   "metadata": {},
   "outputs": [],
   "source": [
    "from scipy.stats import multivariate_normal\n",
    "\n",
    "def get_gamma(theta_val):\n",
    "    gamma = np.empty((0,3))\n",
    "\n",
    "    for n in range(N):\n",
    "        gamma_n = np.array([])\n",
    "\n",
    "        for k in range(3):\n",
    "            denom_elem = np.array([])\n",
    "            for j in range(3):\n",
    "                dist_j = multivariate_normal(\n",
    "                    mean=theta_val.mu[j],\n",
    "                    cov=theta_val.Sigma[j])\n",
    "                denom_elem = np.append(denom_elem, theta_val.pi[j] * dist_j.pdf(X[n]))\n",
    "            denom = denom_elem.sum()\n",
    "\n",
    "            dist_k = multivariate_normal(\n",
    "                mean=theta_val.mu[k],\n",
    "                cov=theta_val.Sigma[k])\n",
    "            numer = theta_val.pi[k] * dist_k.pdf(X[n])\n",
    "\n",
    "            gamma_n = np.append(gamma_n, numer / denom)\n",
    "\n",
    "        gamma = np.vstack((gamma, gamma_n))\n",
    "\n",
    "    return gamma"
   ]
  },
  {
   "cell_type": "markdown",
   "id": "784390a1",
   "metadata": {},
   "source": [
    "### 2. Get new $\\mu$\n",
    "\n",
    "Next we get new $\\mu$ as follows.\n",
    "\n",
    "$ \\mu_k^{new} = \\frac{1}{\\sum_{n=0}^{N-1} \\gamma_{nk}} \\sum_{n=0}^{N-1} \\left\\{ \\gamma_{nk} \\mathbf{x}_n \\right\\} $"
   ]
  },
  {
   "cell_type": "code",
   "execution_count": 4,
   "id": "5df3df3e",
   "metadata": {},
   "outputs": [],
   "source": [
    "def get_mu(gamma):\n",
    "    mu_new = np.zeros((3,2), dtype=np.float64)\n",
    "\n",
    "    for k in range(3):\n",
    "        denom = sum(gamma[n][k] for n in range(N))\n",
    "        numer_x = sum(gamma[n][k] * X[n][0] for n in range(N))\n",
    "        mu_new[k][0] = numer_x / denom\n",
    "        numer_y = sum(gamma[n][k] * X[n][1] for n in range(N))\n",
    "        mu_new[k][1] = numer_y / denom\n",
    "\n",
    "    return mu_new"
   ]
  },
  {
   "cell_type": "markdown",
   "id": "bd697d99",
   "metadata": {},
   "source": [
    "### 3. Get new $\\Sigma$\n",
    "\n",
    "Next we get new $\\Sigma$ as follows.\n",
    "\n",
    "$ \\Sigma_k^{new} = \\frac{1}{\\sum_{n=0}^{N-1} \\gamma_{nk}} \\sum_{n=0}^{N-1} \\left\\{ \\gamma_{nk} (\\mathbf{x}_n-\\mu_k^{new}) (\\mathbf{x}_n-\\mu_k^{new})^T \\right\\} $"
   ]
  },
  {
   "cell_type": "code",
   "execution_count": 5,
   "id": "22e44fb0",
   "metadata": {},
   "outputs": [],
   "source": [
    "def get_sigma(gamma, mu_new):\n",
    "    Sigma_new = np.empty((0,2,2))\n",
    "\n",
    "    for k in range(3):\n",
    "        denom = sum(gamma[n][k] for n in range(N))\n",
    "        numer = np.zeros((2, 2), dtype=np.float64)\n",
    "        for n in range(N):\n",
    "            sub = np.subtract(X[n], mu_new[k])\n",
    "            sub = np.array([sub])\n",
    "            sub_t = sub.transpose()\n",
    "            numer = numer + gamma[n][k] * np.matmul(sub_t, sub)\n",
    "        Sigma_new = np.vstack((Sigma_new, [numer / denom]))\n",
    "\n",
    "    return Sigma_new"
   ]
  },
  {
   "cell_type": "markdown",
   "id": "a95a4f01",
   "metadata": {},
   "source": [
    "### 4. Get new $\\pi$\n",
    "\n",
    "Next we get new $\\pi$ as follows.\n",
    "\n",
    "$ \\pi_k^{new} = \\frac{\\sum_{n=0}^{N-1} \\gamma_{nk}}{N} $"
   ]
  },
  {
   "cell_type": "code",
   "execution_count": 6,
   "id": "d9eee65c",
   "metadata": {},
   "outputs": [],
   "source": [
    "def get_pi(gamma):\n",
    "    pi_new = np.array([])\n",
    "\n",
    "    for k in range(3):\n",
    "        pi_new = np.append(\n",
    "            pi_new,\n",
    "            sum(gamma[n][k] for n in range(N)) / N)\n",
    "\n",
    "    return pi_new"
   ]
  },
  {
   "cell_type": "markdown",
   "id": "7f14fc45",
   "metadata": {},
   "source": [
    "### 5. Put it all together\n",
    "\n",
    "Now we put it all together and run algorithm."
   ]
  },
  {
   "cell_type": "code",
   "execution_count": 7,
   "id": "ab61e2fd",
   "metadata": {},
   "outputs": [
    {
     "name": "stdout",
     "output_type": "stream",
     "text": [
      "Running iteration 50 ...\n",
      "Done\n"
     ]
    }
   ],
   "source": [
    "for loop in range(50):\n",
    "    print(\"Running iteration {} ...\".format(loop + 1), end=\"\\r\")\n",
    "    # Get gamma\n",
    "    l_gamma = get_gamma(theta_old)\n",
    "    # Get new mu\n",
    "    l_mu_new = get_mu(l_gamma)\n",
    "    # Get new sigma\n",
    "    l_sigma_new = get_sigma(l_gamma, l_mu_new)\n",
    "    # Get new pi\n",
    "    l_pi_new = get_pi(l_gamma)\n",
    "    # Replace theta\n",
    "    theta_old = theta(\n",
    "        pi=l_pi_new,\n",
    "        mu=l_mu_new,\n",
    "        Sigma=l_sigma_new\n",
    "    )\n",
    "print(\"\\nDone\")"
   ]
  },
  {
   "cell_type": "markdown",
   "id": "6b6d7345",
   "metadata": {},
   "source": [
    "## Compare result\n",
    "\n",
    "Let's compare the estimated results with actual results.<br>\n",
    "(In order to simplify the comparison for you, here I have changed the order of components.)"
   ]
  },
  {
   "cell_type": "markdown",
   "id": "dc2ec13f",
   "metadata": {},
   "source": [
    "$ \\pi_0=0.15, \\pi_2=0.5, \\pi_1=0.35 $"
   ]
  },
  {
   "cell_type": "code",
   "execution_count": 9,
   "id": "14335750",
   "metadata": {},
   "outputs": [
    {
     "name": "stdout",
     "output_type": "stream",
     "text": [
      "[0.18002701 0.48102331 0.33894968]\n"
     ]
    }
   ],
   "source": [
    "print(theta_old.pi)"
   ]
  },
  {
   "cell_type": "markdown",
   "id": "3c43740e",
   "metadata": {},
   "source": [
    "$ \\mu_0=(-3.0, 2.0), \\mu_2=(3.0, 1.0), \\mu_1=(4.0, 2.0) $"
   ]
  },
  {
   "cell_type": "code",
   "execution_count": 10,
   "id": "1e8e1a2e",
   "metadata": {},
   "outputs": [
    {
     "name": "stdout",
     "output_type": "stream",
     "text": [
      "[[-3.09167579  1.78903996]\n",
      " [ 2.90769994  0.92164329]\n",
      " [ 4.05117296  1.92353166]]\n"
     ]
    }
   ],
   "source": [
    "print(theta_old.mu)"
   ]
  },
  {
   "cell_type": "markdown",
   "id": "c4ce617d",
   "metadata": {},
   "source": [
    "$ \\Sigma_0=\\begin{bmatrix} 1.0 & 0.2 \\\\ 0.2 & 2.0 \\end{bmatrix} $\n",
    "$ \\Sigma_2=\\begin{bmatrix} 1.5 & 1.4 \\\\ 1.4 & 1.5 \\end{bmatrix} $\n",
    "$ \\Sigma_1=\\begin{bmatrix} 0.8 & -1.0 \\\\ -1.0 & 1.3 \\end{bmatrix} $"
   ]
  },
  {
   "cell_type": "code",
   "execution_count": 11,
   "id": "cb5ec923",
   "metadata": {},
   "outputs": [
    {
     "name": "stdout",
     "output_type": "stream",
     "text": [
      "[[[ 1.15917738  0.18889373]\n",
      "  [ 0.18889373  1.97087793]]\n",
      "\n",
      " [[ 1.56596377  1.4659425 ]\n",
      "  [ 1.4659425   1.57831011]]\n",
      "\n",
      " [[ 0.81293522 -1.00445293]\n",
      "  [-1.00445293  1.29060795]]]\n"
     ]
    }
   ],
   "source": [
    "print(theta_old.Sigma)"
   ]
  },
  {
   "cell_type": "code",
   "execution_count": null,
   "id": "e7d9865e",
   "metadata": {},
   "outputs": [],
   "source": []
  }
 ],
 "metadata": {
  "kernelspec": {
   "display_name": "Python 3",
   "language": "python",
   "name": "python3"
  },
  "language_info": {
   "codemirror_mode": {
    "name": "ipython",
    "version": 3
   },
   "file_extension": ".py",
   "mimetype": "text/x-python",
   "name": "python",
   "nbconvert_exporter": "python",
   "pygments_lexer": "ipython3",
   "version": "3.6.9"
  }
 },
 "nbformat": 4,
 "nbformat_minor": 5
}
