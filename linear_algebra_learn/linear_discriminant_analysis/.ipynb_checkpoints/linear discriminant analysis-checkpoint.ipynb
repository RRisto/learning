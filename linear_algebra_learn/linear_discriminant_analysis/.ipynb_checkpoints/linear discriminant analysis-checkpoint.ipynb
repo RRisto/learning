{
 "cells": [
  {
   "cell_type": "code",
   "execution_count": 1,
   "metadata": {},
   "outputs": [],
   "source": [
    "import numpy as np\n",
    "import pandas as pd\n",
    "from sklearn.datasets import load_wine\n",
    "from sklearn.svm import LinearSVC\n",
    "from sklearn.pipeline import Pipeline\n",
    "from sklearn.preprocessing import StandardScaler\n",
    "from sklearn.model_selection import cross_val_score\n",
    "import matplotlib.pyplot as plt"
   ]
  },
  {
   "cell_type": "markdown",
   "metadata": {},
   "source": [
    "## Steps"
   ]
  },
  {
   "cell_type": "markdown",
   "metadata": {},
   "source": [
    "Step#1 Computes mean vectors of each class of dependent variable\n",
    "\n",
    "Step#2 Computers with-in class and between-class scatter matrices\n",
    "\n",
    "Step#3 Computes eigenvalues and eigenvector for SW(Scatter matrix within class) and SB (scatter matrix between class)\n",
    "\n",
    "Step#4 Sorts the eigenvalues in descending order and select the top k\n",
    "\n",
    "Step#5 Creates a new matrix containing eigenvectors that map to the k eigenvalues\n",
    "\n",
    "Step#6 Obtains the new features (i.e. linear discriminants) by taking the dot product of the data and the matrix. "
   ]
  },
  {
   "cell_type": "markdown",
   "metadata": {},
   "source": [
    "Compute the within class and between class scatter matrices\n",
    "\n",
    "Compute the eigenvectors and corresponding eigenvalues for the scatter matrices\n",
    "\n",
    "Sort the eigenvalues and select the top k\n",
    "\n",
    "Create a new matrix containing eigenvectors that map to the k eigenvalues\n",
    "\n",
    "Obtain the new features (i.e. LDA components) by taking the dot product of the data and the matrix from step 4"
   ]
  },
  {
   "cell_type": "markdown",
   "metadata": {},
   "source": [
    "## Data"
   ]
  },
  {
   "cell_type": "code",
   "execution_count": 2,
   "metadata": {},
   "outputs": [],
   "source": [
    "wine = load_wine()\n",
    "X = pd.DataFrame(wine.data, columns=wine.feature_names)\n",
    "y = pd.Categorical.from_codes(wine.target, wine.target_names)\n",
    "X['class']=y"
   ]
  },
  {
   "cell_type": "code",
   "execution_count": 3,
   "metadata": {},
   "outputs": [
    {
     "data": {
      "text/plain": [
       "(178, 14)"
      ]
     },
     "execution_count": 3,
     "metadata": {},
     "output_type": "execute_result"
    }
   ],
   "source": [
    "X.shape"
   ]
  },
  {
   "cell_type": "code",
   "execution_count": 4,
   "metadata": {},
   "outputs": [
    {
     "data": {
      "text/html": [
       "<div>\n",
       "<style scoped>\n",
       "    .dataframe tbody tr th:only-of-type {\n",
       "        vertical-align: middle;\n",
       "    }\n",
       "\n",
       "    .dataframe tbody tr th {\n",
       "        vertical-align: top;\n",
       "    }\n",
       "\n",
       "    .dataframe thead th {\n",
       "        text-align: right;\n",
       "    }\n",
       "</style>\n",
       "<table border=\"1\" class=\"dataframe\">\n",
       "  <thead>\n",
       "    <tr style=\"text-align: right;\">\n",
       "      <th></th>\n",
       "      <th>alcohol</th>\n",
       "      <th>malic_acid</th>\n",
       "      <th>ash</th>\n",
       "      <th>alcalinity_of_ash</th>\n",
       "      <th>magnesium</th>\n",
       "      <th>total_phenols</th>\n",
       "      <th>flavanoids</th>\n",
       "      <th>nonflavanoid_phenols</th>\n",
       "      <th>proanthocyanins</th>\n",
       "      <th>color_intensity</th>\n",
       "      <th>hue</th>\n",
       "      <th>od280/od315_of_diluted_wines</th>\n",
       "      <th>proline</th>\n",
       "      <th>class</th>\n",
       "    </tr>\n",
       "  </thead>\n",
       "  <tbody>\n",
       "    <tr>\n",
       "      <th>0</th>\n",
       "      <td>14.23</td>\n",
       "      <td>1.71</td>\n",
       "      <td>2.43</td>\n",
       "      <td>15.6</td>\n",
       "      <td>127.0</td>\n",
       "      <td>2.80</td>\n",
       "      <td>3.06</td>\n",
       "      <td>0.28</td>\n",
       "      <td>2.29</td>\n",
       "      <td>5.64</td>\n",
       "      <td>1.04</td>\n",
       "      <td>3.92</td>\n",
       "      <td>1065.0</td>\n",
       "      <td>class_0</td>\n",
       "    </tr>\n",
       "    <tr>\n",
       "      <th>1</th>\n",
       "      <td>13.20</td>\n",
       "      <td>1.78</td>\n",
       "      <td>2.14</td>\n",
       "      <td>11.2</td>\n",
       "      <td>100.0</td>\n",
       "      <td>2.65</td>\n",
       "      <td>2.76</td>\n",
       "      <td>0.26</td>\n",
       "      <td>1.28</td>\n",
       "      <td>4.38</td>\n",
       "      <td>1.05</td>\n",
       "      <td>3.40</td>\n",
       "      <td>1050.0</td>\n",
       "      <td>class_0</td>\n",
       "    </tr>\n",
       "    <tr>\n",
       "      <th>2</th>\n",
       "      <td>13.16</td>\n",
       "      <td>2.36</td>\n",
       "      <td>2.67</td>\n",
       "      <td>18.6</td>\n",
       "      <td>101.0</td>\n",
       "      <td>2.80</td>\n",
       "      <td>3.24</td>\n",
       "      <td>0.30</td>\n",
       "      <td>2.81</td>\n",
       "      <td>5.68</td>\n",
       "      <td>1.03</td>\n",
       "      <td>3.17</td>\n",
       "      <td>1185.0</td>\n",
       "      <td>class_0</td>\n",
       "    </tr>\n",
       "    <tr>\n",
       "      <th>3</th>\n",
       "      <td>14.37</td>\n",
       "      <td>1.95</td>\n",
       "      <td>2.50</td>\n",
       "      <td>16.8</td>\n",
       "      <td>113.0</td>\n",
       "      <td>3.85</td>\n",
       "      <td>3.49</td>\n",
       "      <td>0.24</td>\n",
       "      <td>2.18</td>\n",
       "      <td>7.80</td>\n",
       "      <td>0.86</td>\n",
       "      <td>3.45</td>\n",
       "      <td>1480.0</td>\n",
       "      <td>class_0</td>\n",
       "    </tr>\n",
       "    <tr>\n",
       "      <th>4</th>\n",
       "      <td>13.24</td>\n",
       "      <td>2.59</td>\n",
       "      <td>2.87</td>\n",
       "      <td>21.0</td>\n",
       "      <td>118.0</td>\n",
       "      <td>2.80</td>\n",
       "      <td>2.69</td>\n",
       "      <td>0.39</td>\n",
       "      <td>1.82</td>\n",
       "      <td>4.32</td>\n",
       "      <td>1.04</td>\n",
       "      <td>2.93</td>\n",
       "      <td>735.0</td>\n",
       "      <td>class_0</td>\n",
       "    </tr>\n",
       "  </tbody>\n",
       "</table>\n",
       "</div>"
      ],
      "text/plain": [
       "   alcohol  malic_acid   ash  alcalinity_of_ash  magnesium  total_phenols  \\\n",
       "0    14.23        1.71  2.43               15.6      127.0           2.80   \n",
       "1    13.20        1.78  2.14               11.2      100.0           2.65   \n",
       "2    13.16        2.36  2.67               18.6      101.0           2.80   \n",
       "3    14.37        1.95  2.50               16.8      113.0           3.85   \n",
       "4    13.24        2.59  2.87               21.0      118.0           2.80   \n",
       "\n",
       "   flavanoids  nonflavanoid_phenols  proanthocyanins  color_intensity   hue  \\\n",
       "0        3.06                  0.28             2.29             5.64  1.04   \n",
       "1        2.76                  0.26             1.28             4.38  1.05   \n",
       "2        3.24                  0.30             2.81             5.68  1.03   \n",
       "3        3.49                  0.24             2.18             7.80  0.86   \n",
       "4        2.69                  0.39             1.82             4.32  1.04   \n",
       "\n",
       "   od280/od315_of_diluted_wines  proline    class  \n",
       "0                          3.92   1065.0  class_0  \n",
       "1                          3.40   1050.0  class_0  \n",
       "2                          3.17   1185.0  class_0  \n",
       "3                          3.45   1480.0  class_0  \n",
       "4                          2.93    735.0  class_0  "
      ]
     },
     "execution_count": 4,
     "metadata": {},
     "output_type": "execute_result"
    }
   ],
   "source": [
    "X.head()"
   ]
  },
  {
   "cell_type": "code",
   "execution_count": 5,
   "metadata": {},
   "outputs": [
    {
     "data": {
      "text/html": [
       "<div>\n",
       "<style scoped>\n",
       "    .dataframe tbody tr th:only-of-type {\n",
       "        vertical-align: middle;\n",
       "    }\n",
       "\n",
       "    .dataframe tbody tr th {\n",
       "        vertical-align: top;\n",
       "    }\n",
       "\n",
       "    .dataframe thead th {\n",
       "        text-align: right;\n",
       "    }\n",
       "</style>\n",
       "<table border=\"1\" class=\"dataframe\">\n",
       "  <thead>\n",
       "    <tr style=\"text-align: right;\">\n",
       "      <th></th>\n",
       "      <th>class_0</th>\n",
       "      <th>class_1</th>\n",
       "      <th>class_2</th>\n",
       "    </tr>\n",
       "  </thead>\n",
       "  <tbody>\n",
       "    <tr>\n",
       "      <th>alcohol</th>\n",
       "      <td>13.744746</td>\n",
       "      <td>12.278732</td>\n",
       "      <td>13.153750</td>\n",
       "    </tr>\n",
       "    <tr>\n",
       "      <th>malic_acid</th>\n",
       "      <td>2.010678</td>\n",
       "      <td>1.932676</td>\n",
       "      <td>3.333750</td>\n",
       "    </tr>\n",
       "    <tr>\n",
       "      <th>ash</th>\n",
       "      <td>2.455593</td>\n",
       "      <td>2.244789</td>\n",
       "      <td>2.437083</td>\n",
       "    </tr>\n",
       "    <tr>\n",
       "      <th>alcalinity_of_ash</th>\n",
       "      <td>17.037288</td>\n",
       "      <td>20.238028</td>\n",
       "      <td>21.416667</td>\n",
       "    </tr>\n",
       "    <tr>\n",
       "      <th>magnesium</th>\n",
       "      <td>106.338983</td>\n",
       "      <td>94.549296</td>\n",
       "      <td>99.312500</td>\n",
       "    </tr>\n",
       "    <tr>\n",
       "      <th>total_phenols</th>\n",
       "      <td>2.840169</td>\n",
       "      <td>2.258873</td>\n",
       "      <td>1.678750</td>\n",
       "    </tr>\n",
       "    <tr>\n",
       "      <th>flavanoids</th>\n",
       "      <td>2.982373</td>\n",
       "      <td>2.080845</td>\n",
       "      <td>0.781458</td>\n",
       "    </tr>\n",
       "    <tr>\n",
       "      <th>nonflavanoid_phenols</th>\n",
       "      <td>0.290000</td>\n",
       "      <td>0.363662</td>\n",
       "      <td>0.447500</td>\n",
       "    </tr>\n",
       "    <tr>\n",
       "      <th>proanthocyanins</th>\n",
       "      <td>1.899322</td>\n",
       "      <td>1.630282</td>\n",
       "      <td>1.153542</td>\n",
       "    </tr>\n",
       "    <tr>\n",
       "      <th>color_intensity</th>\n",
       "      <td>5.528305</td>\n",
       "      <td>3.086620</td>\n",
       "      <td>7.396250</td>\n",
       "    </tr>\n",
       "    <tr>\n",
       "      <th>hue</th>\n",
       "      <td>1.062034</td>\n",
       "      <td>1.056282</td>\n",
       "      <td>0.682708</td>\n",
       "    </tr>\n",
       "    <tr>\n",
       "      <th>od280/od315_of_diluted_wines</th>\n",
       "      <td>3.157797</td>\n",
       "      <td>2.785352</td>\n",
       "      <td>1.683542</td>\n",
       "    </tr>\n",
       "    <tr>\n",
       "      <th>proline</th>\n",
       "      <td>1115.711864</td>\n",
       "      <td>519.507042</td>\n",
       "      <td>629.895833</td>\n",
       "    </tr>\n",
       "  </tbody>\n",
       "</table>\n",
       "</div>"
      ],
      "text/plain": [
       "                                  class_0     class_1     class_2\n",
       "alcohol                         13.744746   12.278732   13.153750\n",
       "malic_acid                       2.010678    1.932676    3.333750\n",
       "ash                              2.455593    2.244789    2.437083\n",
       "alcalinity_of_ash               17.037288   20.238028   21.416667\n",
       "magnesium                      106.338983   94.549296   99.312500\n",
       "total_phenols                    2.840169    2.258873    1.678750\n",
       "flavanoids                       2.982373    2.080845    0.781458\n",
       "nonflavanoid_phenols             0.290000    0.363662    0.447500\n",
       "proanthocyanins                  1.899322    1.630282    1.153542\n",
       "color_intensity                  5.528305    3.086620    7.396250\n",
       "hue                              1.062034    1.056282    0.682708\n",
       "od280/od315_of_diluted_wines     3.157797    2.785352    1.683542\n",
       "proline                       1115.711864  519.507042  629.895833"
      ]
     },
     "execution_count": 5,
     "metadata": {},
     "output_type": "execute_result"
    }
   ],
   "source": [
    "#class feature means\n",
    "class_feature_means = pd.DataFrame(columns=wine.target_names)\n",
    "for c, rows in X.groupby('class'):\n",
    "    class_feature_means[c] = rows.mean()\n",
    "class_feature_means"
   ]
  },
  {
   "cell_type": "code",
   "execution_count": 6,
   "metadata": {},
   "outputs": [
    {
     "data": {
      "text/html": [
       "<div>\n",
       "<style scoped>\n",
       "    .dataframe tbody tr th:only-of-type {\n",
       "        vertical-align: middle;\n",
       "    }\n",
       "\n",
       "    .dataframe tbody tr th {\n",
       "        vertical-align: top;\n",
       "    }\n",
       "\n",
       "    .dataframe thead th {\n",
       "        text-align: right;\n",
       "    }\n",
       "</style>\n",
       "<table border=\"1\" class=\"dataframe\">\n",
       "  <thead>\n",
       "    <tr style=\"text-align: right;\">\n",
       "      <th>class</th>\n",
       "      <th>class_0</th>\n",
       "      <th>class_1</th>\n",
       "      <th>class_2</th>\n",
       "    </tr>\n",
       "  </thead>\n",
       "  <tbody>\n",
       "    <tr>\n",
       "      <th>alcohol</th>\n",
       "      <td>13.744746</td>\n",
       "      <td>12.278732</td>\n",
       "      <td>13.153750</td>\n",
       "    </tr>\n",
       "    <tr>\n",
       "      <th>malic_acid</th>\n",
       "      <td>2.010678</td>\n",
       "      <td>1.932676</td>\n",
       "      <td>3.333750</td>\n",
       "    </tr>\n",
       "    <tr>\n",
       "      <th>ash</th>\n",
       "      <td>2.455593</td>\n",
       "      <td>2.244789</td>\n",
       "      <td>2.437083</td>\n",
       "    </tr>\n",
       "    <tr>\n",
       "      <th>alcalinity_of_ash</th>\n",
       "      <td>17.037288</td>\n",
       "      <td>20.238028</td>\n",
       "      <td>21.416667</td>\n",
       "    </tr>\n",
       "    <tr>\n",
       "      <th>magnesium</th>\n",
       "      <td>106.338983</td>\n",
       "      <td>94.549296</td>\n",
       "      <td>99.312500</td>\n",
       "    </tr>\n",
       "    <tr>\n",
       "      <th>total_phenols</th>\n",
       "      <td>2.840169</td>\n",
       "      <td>2.258873</td>\n",
       "      <td>1.678750</td>\n",
       "    </tr>\n",
       "    <tr>\n",
       "      <th>flavanoids</th>\n",
       "      <td>2.982373</td>\n",
       "      <td>2.080845</td>\n",
       "      <td>0.781458</td>\n",
       "    </tr>\n",
       "    <tr>\n",
       "      <th>nonflavanoid_phenols</th>\n",
       "      <td>0.290000</td>\n",
       "      <td>0.363662</td>\n",
       "      <td>0.447500</td>\n",
       "    </tr>\n",
       "    <tr>\n",
       "      <th>proanthocyanins</th>\n",
       "      <td>1.899322</td>\n",
       "      <td>1.630282</td>\n",
       "      <td>1.153542</td>\n",
       "    </tr>\n",
       "    <tr>\n",
       "      <th>color_intensity</th>\n",
       "      <td>5.528305</td>\n",
       "      <td>3.086620</td>\n",
       "      <td>7.396250</td>\n",
       "    </tr>\n",
       "    <tr>\n",
       "      <th>hue</th>\n",
       "      <td>1.062034</td>\n",
       "      <td>1.056282</td>\n",
       "      <td>0.682708</td>\n",
       "    </tr>\n",
       "    <tr>\n",
       "      <th>od280/od315_of_diluted_wines</th>\n",
       "      <td>3.157797</td>\n",
       "      <td>2.785352</td>\n",
       "      <td>1.683542</td>\n",
       "    </tr>\n",
       "    <tr>\n",
       "      <th>proline</th>\n",
       "      <td>1115.711864</td>\n",
       "      <td>519.507042</td>\n",
       "      <td>629.895833</td>\n",
       "    </tr>\n",
       "  </tbody>\n",
       "</table>\n",
       "</div>"
      ],
      "text/plain": [
       "class                             class_0     class_1     class_2\n",
       "alcohol                         13.744746   12.278732   13.153750\n",
       "malic_acid                       2.010678    1.932676    3.333750\n",
       "ash                              2.455593    2.244789    2.437083\n",
       "alcalinity_of_ash               17.037288   20.238028   21.416667\n",
       "magnesium                      106.338983   94.549296   99.312500\n",
       "total_phenols                    2.840169    2.258873    1.678750\n",
       "flavanoids                       2.982373    2.080845    0.781458\n",
       "nonflavanoid_phenols             0.290000    0.363662    0.447500\n",
       "proanthocyanins                  1.899322    1.630282    1.153542\n",
       "color_intensity                  5.528305    3.086620    7.396250\n",
       "hue                              1.062034    1.056282    0.682708\n",
       "od280/od315_of_diluted_wines     3.157797    2.785352    1.683542\n",
       "proline                       1115.711864  519.507042  629.895833"
      ]
     },
     "execution_count": 6,
     "metadata": {},
     "output_type": "execute_result"
    }
   ],
   "source": [
    "#or oneliner\n",
    "X.groupby('class').mean().T"
   ]
  },
  {
   "cell_type": "code",
   "execution_count": 7,
   "metadata": {},
   "outputs": [
    {
     "data": {
      "text/plain": [
       "(13, 3)"
      ]
     },
     "execution_count": 7,
     "metadata": {},
     "output_type": "execute_result"
    }
   ],
   "source": [
    "class_feature_means.shape"
   ]
  },
  {
   "cell_type": "code",
   "execution_count": 8,
   "metadata": {},
   "outputs": [
    {
     "data": {
      "text/plain": [
       "(3, 13)"
      ]
     },
     "execution_count": 8,
     "metadata": {},
     "output_type": "execute_result"
    }
   ],
   "source": [
    "#class mean\n",
    "class_means=X.groupby('class').mean()\n",
    "class_means.shape"
   ]
  },
  {
   "cell_type": "code",
   "execution_count": 9,
   "metadata": {},
   "outputs": [
    {
     "data": {
      "text/plain": [
       "alcohol                          13.153750\n",
       "malic_acid                        3.333750\n",
       "ash                               2.437083\n",
       "alcalinity_of_ash                21.416667\n",
       "magnesium                        99.312500\n",
       "total_phenols                     1.678750\n",
       "flavanoids                        0.781458\n",
       "nonflavanoid_phenols              0.447500\n",
       "proanthocyanins                   1.153542\n",
       "color_intensity                   7.396250\n",
       "hue                               0.682708\n",
       "od280/od315_of_diluted_wines      1.683542\n",
       "proline                         629.895833\n",
       "dtype: float64"
      ]
     },
     "execution_count": 9,
     "metadata": {},
     "output_type": "execute_result"
    }
   ],
   "source": [
    "rows.mean()"
   ]
  },
  {
   "cell_type": "markdown",
   "metadata": {},
   "source": [
    "#### within class scatter"
   ]
  },
  {
   "cell_type": "code",
   "execution_count": 10,
   "metadata": {},
   "outputs": [],
   "source": [
    "#within class scatter matrix\n",
    "within_class_scatter_matrix = np.zeros((class_feature_means.shape[0],class_feature_means.shape[0]))\n",
    "\n",
    "for c, rows in X.groupby('class'):\n",
    "    rows = rows.drop(['class'], axis=1)\n",
    "    s = np.zeros((class_feature_means.shape[0],class_feature_means.shape[0]))\n",
    "    for index, row in rows.iterrows():\n",
    "            x = row.values.reshape(class_feature_means.shape[0],1)\n",
    "            mc = class_feature_means[c].values.reshape(class_feature_means.shape[0],1)\n",
    "\n",
    "            s += (x - mc)@((x - mc).T)\n",
    "\n",
    "    within_class_scatter_matrix += s"
   ]
  },
  {
   "cell_type": "code",
   "execution_count": 11,
   "metadata": {},
   "outputs": [
    {
     "data": {
      "text/plain": [
       "array([ 4.58591821e+01,  1.43027601e+00, -2.32911012e+00, -1.70130181e+01,\n",
       "        3.13827137e+00,  4.74217613e+00,  3.96054915e+00, -1.70720423e-01,\n",
       "        2.93497768e+00,  4.31301457e+01,  1.36868361e-01, -8.72438861e-01,\n",
       "        2.14149506e+03])"
      ]
     },
     "execution_count": 11,
     "metadata": {},
     "output_type": "execute_result"
    }
   ],
   "source": [
    "within_class_scatter_matrix[0]"
   ]
  },
  {
   "cell_type": "code",
   "execution_count": 12,
   "metadata": {},
   "outputs": [],
   "source": [
    "within_class_scatter_matrix = np.zeros((class_feature_means.shape[0],class_feature_means.shape[0]))\n",
    "\n",
    "for c, rows in X.groupby('class'):\n",
    "    rows = rows.drop(['class'], axis=1)\n",
    "    s = np.zeros((class_feature_means.shape[0],class_feature_means.shape[0]))\n",
    "    for index, row in rows.iterrows():\n",
    "            x = row.values.reshape(class_feature_means.shape[0],1)\n",
    "            mc = class_feature_means[c].values.reshape(class_feature_means.shape[0],1)\n",
    "\n",
    "            s += (x - mc)@((x - mc).T)\n",
    "\n",
    "    within_class_scatter_matrix += s"
   ]
  },
  {
   "cell_type": "code",
   "execution_count": 13,
   "metadata": {},
   "outputs": [
    {
     "data": {
      "text/plain": [
       "(13, 13)"
      ]
     },
     "execution_count": 13,
     "metadata": {},
     "output_type": "execute_result"
    }
   ],
   "source": [
    "within_class_scatter_matrix.shape"
   ]
  },
  {
   "cell_type": "code",
   "execution_count": 14,
   "metadata": {},
   "outputs": [
    {
     "data": {
      "text/plain": [
       "(1, 13)"
      ]
     },
     "execution_count": 14,
     "metadata": {},
     "output_type": "execute_result"
    }
   ],
   "source": [
    "class_feature_means[c].values.reshape(1,-1).shape"
   ]
  },
  {
   "cell_type": "code",
   "execution_count": 15,
   "metadata": {},
   "outputs": [
    {
     "data": {
      "text/plain": [
       "alcohol                          13.153750\n",
       "malic_acid                        3.333750\n",
       "ash                               2.437083\n",
       "alcalinity_of_ash                21.416667\n",
       "magnesium                        99.312500\n",
       "total_phenols                     1.678750\n",
       "flavanoids                        0.781458\n",
       "nonflavanoid_phenols              0.447500\n",
       "proanthocyanins                   1.153542\n",
       "color_intensity                   7.396250\n",
       "hue                               0.682708\n",
       "od280/od315_of_diluted_wines      1.683542\n",
       "proline                         629.895833\n",
       "Name: class_2, dtype: float64"
      ]
     },
     "execution_count": 15,
     "metadata": {},
     "output_type": "execute_result"
    }
   ],
   "source": [
    "class_feature_means[c]"
   ]
  },
  {
   "cell_type": "code",
   "execution_count": 16,
   "metadata": {},
   "outputs": [],
   "source": [
    "# a bit more compact version\n",
    "within_class_scatter_matrix2 = np.zeros((class_feature_means.shape[0],class_feature_means.shape[0]))\n",
    "\n",
    "for c, rows in X.groupby('class'):\n",
    "    rows = rows.drop(['class'], axis=1)\n",
    "    mean_subtracted=rows-class_feature_means[c].values.reshape(1,-1)\n",
    "    s=np.inner(mean_subtracted.T, mean_subtracted.T)\n",
    "    within_class_scatter_matrix2 += s"
   ]
  },
  {
   "cell_type": "code",
   "execution_count": 17,
   "metadata": {},
   "outputs": [
    {
     "data": {
      "text/plain": [
       "array([ 4.58591821e+01,  1.43027601e+00, -2.32911012e+00, -1.70130181e+01,\n",
       "        3.13827137e+00,  4.74217613e+00,  3.96054915e+00, -1.70720423e-01,\n",
       "        2.93497768e+00,  4.31301457e+01,  1.36868361e-01, -8.72438861e-01,\n",
       "        2.14149506e+03])"
      ]
     },
     "execution_count": 17,
     "metadata": {},
     "output_type": "execute_result"
    }
   ],
   "source": [
    "within_class_scatter_matrix2[0]"
   ]
  },
  {
   "cell_type": "code",
   "execution_count": 18,
   "metadata": {},
   "outputs": [
    {
     "data": {
      "text/plain": [
       "array([ 4.58591821e+01,  1.43027601e+00, -2.32911012e+00, -1.70130181e+01,\n",
       "        3.13827137e+00,  4.74217613e+00,  3.96054915e+00, -1.70720423e-01,\n",
       "        2.93497768e+00,  4.31301457e+01,  1.36868361e-01, -8.72438861e-01,\n",
       "        2.14149506e+03])"
      ]
     },
     "execution_count": 18,
     "metadata": {},
     "output_type": "execute_result"
    }
   ],
   "source": [
    "within_class_scatter_matrix[0]"
   ]
  },
  {
   "cell_type": "code",
   "execution_count": 19,
   "metadata": {},
   "outputs": [
    {
     "data": {
      "text/plain": [
       "True"
      ]
     },
     "execution_count": 19,
     "metadata": {},
     "output_type": "execute_result"
    }
   ],
   "source": [
    "np.allclose(within_class_scatter_matrix, within_class_scatter_matrix2)"
   ]
  },
  {
   "cell_type": "markdown",
   "metadata": {},
   "source": [
    "#### between class scatter"
   ]
  },
  {
   "cell_type": "code",
   "execution_count": 20,
   "metadata": {},
   "outputs": [
    {
     "data": {
      "text/plain": [
       "alcohol                          13.000618\n",
       "malic_acid                        2.336348\n",
       "ash                               2.366517\n",
       "alcalinity_of_ash                19.494944\n",
       "magnesium                        99.741573\n",
       "total_phenols                     2.295112\n",
       "flavanoids                        2.029270\n",
       "nonflavanoid_phenols              0.361854\n",
       "proanthocyanins                   1.590899\n",
       "color_intensity                   5.058090\n",
       "hue                               0.957449\n",
       "od280/od315_of_diluted_wines      2.611685\n",
       "proline                         746.893258\n",
       "dtype: float64"
      ]
     },
     "execution_count": 20,
     "metadata": {},
     "output_type": "execute_result"
    }
   ],
   "source": [
    "#feature means\n",
    "feature_means=X.mean()\n",
    "feature_means"
   ]
  },
  {
   "cell_type": "code",
   "execution_count": 21,
   "metadata": {},
   "outputs": [],
   "source": [
    "between_class_scatter_matrix = np.zeros((13,13))\n",
    "for c in class_feature_means:    \n",
    "    n = len(X.loc[X['class'] == c].index)\n",
    "    \n",
    "    mc = class_feature_means[c].values.reshape(13,1)\n",
    "    m = feature_means.values.reshape(13,1)\n",
    "    \n",
    "    between_class_scatter_matrix += n * (mc - m)@((mc - m).T)"
   ]
  },
  {
   "cell_type": "code",
   "execution_count": 22,
   "metadata": {},
   "outputs": [
    {
     "data": {
      "text/plain": [
       "array([ 7.07948499e+01,  1.37229257e+01,  1.06684933e+01, -1.31860426e+02,\n",
       "        5.52620156e+02,  2.12568615e+01,  3.00293312e+01, -2.61778351e+00,\n",
       "        8.30762344e+00,  1.38875865e+02, -2.49334780e+00,  8.25295347e+00,\n",
       "        2.69868967e+04])"
      ]
     },
     "execution_count": 22,
     "metadata": {},
     "output_type": "execute_result"
    }
   ],
   "source": [
    "between_class_scatter_matrix[0]"
   ]
  },
  {
   "cell_type": "markdown",
   "metadata": {},
   "source": [
    "#### eigenvectors and values of scatter matrices"
   ]
  },
  {
   "cell_type": "code",
   "execution_count": 23,
   "metadata": {},
   "outputs": [],
   "source": [
    "eigen_values, eigen_vectors = np.linalg.eig(np.linalg.inv(within_class_scatter_matrix)@between_class_scatter_matrix)"
   ]
  },
  {
   "cell_type": "code",
   "execution_count": 24,
   "metadata": {},
   "outputs": [
    {
     "name": "stdout",
     "output_type": "stream",
     "text": [
      "9.081739435042476\n",
      "4.128469045639485\n",
      "1.016360546929593e-15\n",
      "5.53972430432114e-16\n",
      "4.582481649122134e-16\n",
      "4.582481649122134e-16\n",
      "3.1457218773888784e-16\n",
      "3.1457218773888784e-16\n",
      "2.5151867597685e-16\n",
      "2.5151867597685e-16\n",
      "2.5151587937748984e-16\n",
      "3.477169693675181e-17\n",
      "0.0\n"
     ]
    }
   ],
   "source": [
    "#sort them with values\n",
    "pairs = [(np.abs(eigen_values[i]), eigen_vectors[:,i]) for i in range(len(eigen_values))]\n",
    "pairs = sorted(pairs, key=lambda x: x[0], reverse=True)\n",
    "for pair in pairs:\n",
    "    print(pair[0])"
   ]
  },
  {
   "cell_type": "code",
   "execution_count": 25,
   "metadata": {},
   "outputs": [
    {
     "data": {
      "text/plain": [
       "13"
      ]
     },
     "execution_count": 25,
     "metadata": {},
     "output_type": "execute_result"
    }
   ],
   "source": [
    "len(eigen_vectors[0])"
   ]
  },
  {
   "cell_type": "code",
   "execution_count": 26,
   "metadata": {},
   "outputs": [
    {
     "data": {
      "text/plain": [
       "(9.081739435042476,\n",
       " array([-0.14368315+0.j,  0.05886047+0.j, -0.13145742+0.j,  0.055136  +0.j,\n",
       "        -0.0007706 +0.j,  0.22013812+0.j, -0.59168399+0.j, -0.53278142+0.j,\n",
       "         0.04776118+0.j,  0.12646393+0.j, -0.29136853+0.j, -0.41230012+0.j,\n",
       "        -0.00095856+0.j]))"
      ]
     },
     "execution_count": 26,
     "metadata": {},
     "output_type": "execute_result"
    }
   ],
   "source": [
    "pairs[0]"
   ]
  },
  {
   "cell_type": "code",
   "execution_count": 27,
   "metadata": {},
   "outputs": [],
   "source": [
    "#another way to sort\n",
    "idx=np.abs(eigen_values).argsort()[::-1]\n",
    "pairs2=list(zip(eigen_values[idx], eigen_vectors[idx,:]))"
   ]
  },
  {
   "cell_type": "code",
   "execution_count": 28,
   "metadata": {},
   "outputs": [
    {
     "name": "stdout",
     "output_type": "stream",
     "text": [
      "Explained Variance\n",
      "Eigenvector 0: 0.6874788878860785\n",
      "Eigenvector 1: 0.31252111211392164\n",
      "Eigenvector 2: 7.693750998826968e-17\n",
      "Eigenvector 3: 4.193517696879799e-17\n",
      "Eigenvector 4: 3.468894269021839e-17\n",
      "Eigenvector 5: 3.468894269021839e-17\n",
      "Eigenvector 6: 2.3812810236788065e-17\n",
      "Eigenvector 7: 2.3812810236788065e-17\n",
      "Eigenvector 8: 1.9039720405976946e-17\n",
      "Eigenvector 9: 1.9039720405976946e-17\n",
      "Eigenvector 10: 1.903950870611133e-17\n",
      "Eigenvector 11: 2.632183813571182e-18\n",
      "Eigenvector 12: 0.0\n"
     ]
    }
   ],
   "source": [
    "eigen_value_sums = sum(eigen_values)\n",
    "print('Explained Variance')\n",
    "for i, pair in enumerate(pairs):\n",
    "    print('Eigenvector {}: {}'.format(i, (pair[0]/eigen_value_sums).real))"
   ]
  },
  {
   "cell_type": "markdown",
   "metadata": {},
   "source": [
    "#### create matrix W and LDA features"
   ]
  },
  {
   "cell_type": "code",
   "execution_count": 29,
   "metadata": {},
   "outputs": [],
   "source": [
    "w_matrix = np.hstack((pairs[0][1].reshape(13,1), pairs[1][1].reshape(13,1))).real"
   ]
  },
  {
   "cell_type": "code",
   "execution_count": 30,
   "metadata": {},
   "outputs": [
    {
     "data": {
      "text/plain": [
       "array([[-1.43683152e-01, -2.54446951e-01],\n",
       "       [ 5.88604714e-02, -8.91300292e-02],\n",
       "       [-1.31457424e-01, -6.84674307e-01],\n",
       "       [ 5.51359957e-02,  4.27236012e-02],\n",
       "       [-7.70595267e-04,  1.35062989e-04],\n",
       "       [ 2.20138120e-01,  9.40183328e-03],\n",
       "       [-5.91683992e-01,  1.43597614e-01],\n",
       "       [-5.32781421e-01,  4.76020325e-01],\n",
       "       [ 4.77611849e-02,  8.96284915e-02],\n",
       "       [ 1.26463935e-01, -7.39094841e-02],\n",
       "       [-2.91368531e-01,  4.42362517e-01],\n",
       "       [-4.12300124e-01, -1.49388710e-02],\n",
       "       [-9.58555352e-04, -8.32689851e-04]])"
      ]
     },
     "execution_count": 30,
     "metadata": {},
     "output_type": "execute_result"
    }
   ],
   "source": [
    "w_matrix"
   ]
  },
  {
   "cell_type": "code",
   "execution_count": 31,
   "metadata": {},
   "outputs": [],
   "source": [
    "X_lda = np.array(X.iloc[:,:-1]@w_matrix)"
   ]
  },
  {
   "cell_type": "code",
   "execution_count": 32,
   "metadata": {},
   "outputs": [
    {
     "data": {
      "text/plain": [
       "<matplotlib.axes._subplots.AxesSubplot at 0x2a40f59c888>"
      ]
     },
     "execution_count": 32,
     "metadata": {},
     "output_type": "execute_result"
    },
    {
     "data": {
      "image/png": "[encoded data removed]",
      "text/plain": [
       "<Figure size 432x288 with 2 Axes>"
      ]
     },
     "metadata": {
      "needs_background": "light"
     },
     "output_type": "display_data"
    }
   ],
   "source": [
    "df_lda=pd.DataFrame(X_lda)\n",
    "df_lda['class']=X['class'].astype('category').cat.codes\n",
    "df_lda.plot.scatter(x=0, y=1, c='class', colormap='Set1')"
   ]
  },
  {
   "cell_type": "code",
   "execution_count": 33,
   "metadata": {},
   "outputs": [
    {
     "data": {
      "text/plain": [
       "array([[-4.96196204, -4.85120862],\n",
       "       [-4.82010035, -4.61516896],\n",
       "       [-4.50622031, -4.69067141],\n",
       "       [-4.7858342 , -5.44186796],\n",
       "       [-3.82565267, -4.405262  ],\n",
       "       [-4.8972958 , -5.21137131],\n",
       "       [-4.90039051, -5.22771121],\n",
       "       [-4.76538735, -5.17955208],\n",
       "       [-4.66297866, -4.84369139],\n",
       "       [-4.4869527 , -4.76350425],\n",
       "       [-4.99958719, -4.92599185],\n",
       "       [-4.50884071, -4.90840595],\n",
       "       [-4.59362094, -4.93390928],\n",
       "       [-5.27825119, -4.87328812],\n",
       "       [-5.24728775, -5.32809185],\n",
       "       [-4.42217324, -5.11691981],\n",
       "       [-4.45943613, -5.08082103],\n",
       "       [-4.35568883, -4.68950684],\n",
       "       [-5.1564935 , -5.35633805],\n",
       "       [-4.40499791, -4.85055509],\n",
       "       [-4.5620546 , -4.43772803],\n",
       "       [-3.89004644, -4.54016183],\n",
       "       [-5.01001304, -4.54055335],\n",
       "       [-4.39052222, -4.45375119],\n",
       "       [-4.47093267, -4.36068044],\n",
       "       [-4.05177052, -4.32134128],\n",
       "       [-4.70629012, -4.90841978],\n",
       "       [-4.244497  , -4.62920667],\n",
       "       [-4.55693156, -4.57657364],\n",
       "       [-4.41799304, -4.67572635],\n",
       "       [-4.35503893, -4.66005393],\n",
       "       [-4.5589147 , -4.95672305],\n",
       "       [-4.49352045, -4.33229847],\n",
       "       [-4.5442668 , -4.77438623],\n",
       "       [-4.3036209 , -4.70281489],\n",
       "       [-4.28303774, -4.34300898],\n",
       "       [-4.27020283, -4.73170862],\n",
       "       [-4.06335442, -4.56845627],\n",
       "       [-4.36679141, -4.20494845],\n",
       "       [-4.45291175, -5.03359802],\n",
       "       [-4.32810718, -4.348059  ],\n",
       "       [-4.08467747, -4.54192464],\n",
       "       [-4.96177742, -5.0209624 ],\n",
       "       [-3.72605735, -4.39690623],\n",
       "       [-4.20749865, -4.17132659],\n",
       "       [-4.20788384, -5.11322492],\n",
       "       [-4.67296957, -4.87235892],\n",
       "       [-4.51656167, -4.55137469],\n",
       "       [-4.12208451, -4.69168947],\n",
       "       [-4.54180504, -4.88110016],\n",
       "       [-4.43416128, -4.53015295],\n",
       "       [-4.84866277, -4.90537239],\n",
       "       [-4.84188405, -4.93663522],\n",
       "       [-4.5412875 , -5.15131579],\n",
       "       [-4.40009818, -4.73867327],\n",
       "       [-3.92980831, -4.66176503],\n",
       "       [-4.31141378, -4.77846419],\n",
       "       [-4.57609783, -4.94227648],\n",
       "       [-4.61947361, -4.99159034],\n",
       "       [-2.72285747, -3.56612674],\n",
       "       [-3.00299892, -3.86668461],\n",
       "       [-2.44006188, -3.84980833],\n",
       "       [-3.45137659, -3.92611177],\n",
       "       [-3.46850588, -3.34933438],\n",
       "       [-3.1474973 , -3.46222308],\n",
       "       [-3.6164267 , -3.86824345],\n",
       "       [-3.98433541, -3.48739229],\n",
       "       [-3.41153811, -3.51678533],\n",
       "       [-3.21526829, -4.27929179],\n",
       "       [-3.37627303, -3.46913027],\n",
       "       [-2.86757629, -4.01078534],\n",
       "       [-3.67150043, -3.74041261],\n",
       "       [-3.05951422, -3.85172674],\n",
       "       [-3.9100185 , -3.75271261],\n",
       "       [-3.41149645, -3.83923686],\n",
       "       [-2.88080404, -3.37191754],\n",
       "       [-3.22134234, -3.49335667],\n",
       "       [-2.9670771 , -3.7425367 ],\n",
       "       [-3.53968025, -3.65392   ],\n",
       "       [-3.4999778 , -3.54692828],\n",
       "       [-3.48643933, -2.91550042],\n",
       "       [-3.93048462, -3.83951629],\n",
       "       [-3.20563052, -3.44382566],\n",
       "       [-2.56306076, -4.04289726],\n",
       "       [-3.50906108, -3.77829839],\n",
       "       [-3.65602018, -3.5609918 ],\n",
       "       [-3.01499663, -3.26767314],\n",
       "       [-3.16301178, -3.33102476],\n",
       "       [-3.23324367, -3.65688736],\n",
       "       [-3.34112132, -3.40032106],\n",
       "       [-3.11657675, -3.53221775],\n",
       "       [-2.79028149, -3.53198459],\n",
       "       [-2.96023904, -3.61727557],\n",
       "       [-3.49833975, -3.41592953],\n",
       "       [-3.11183284, -3.41655505],\n",
       "       [-3.86702753, -3.68385061],\n",
       "       [-2.57530678, -4.08838035],\n",
       "       [-3.64591204, -3.30132186],\n",
       "       [-4.0255524 , -3.48130748],\n",
       "       [-3.87130691, -3.1418839 ],\n",
       "       [-3.66500162, -3.39800349],\n",
       "       [-3.2785853 , -3.58647865],\n",
       "       [-3.36578527, -3.79405913],\n",
       "       [-2.80186226, -3.15937392],\n",
       "       [-3.68995885, -3.59443535],\n",
       "       [-3.36356159, -3.39890734],\n",
       "       [-3.56545822, -3.5518458 ],\n",
       "       [-3.0686091 , -3.63781034],\n",
       "       [-3.20750719, -3.16524923],\n",
       "       [-4.01397132, -3.63574236],\n",
       "       [-3.00546547, -3.20487463],\n",
       "       [-3.18015483, -3.45771754],\n",
       "       [-3.46828503, -3.95389167],\n",
       "       [-2.9322252 , -3.26779784],\n",
       "       [-3.36602574, -3.45704071],\n",
       "       [-3.42008182, -2.52073018],\n",
       "       [-3.26807319, -3.25831717],\n",
       "       [-3.32037391, -3.21707424],\n",
       "       [-2.64757335, -4.02544315],\n",
       "       [-3.34981984, -3.5053002 ],\n",
       "       [-3.70765759, -3.62994384],\n",
       "       [-4.43135984, -3.42560263],\n",
       "       [-3.06483904, -3.69108503],\n",
       "       [-3.27583536, -3.86951713],\n",
       "       [-3.53690392, -3.55573764],\n",
       "       [-3.54449413, -3.32597307],\n",
       "       [-3.47280365, -3.43599845],\n",
       "       [-2.87098834, -3.30472129],\n",
       "       [-3.24927078, -3.16483483],\n",
       "       [-2.88776537, -3.89768561],\n",
       "       [-2.48772962, -4.3282455 ],\n",
       "       [-2.11767465, -4.47672905],\n",
       "       [-1.83732963, -4.31566888],\n",
       "       [-1.91050765, -4.42972321],\n",
       "       [-2.05868909, -4.21012921],\n",
       "       [-1.96431704, -4.43849896],\n",
       "       [-1.89081345, -4.5343551 ],\n",
       "       [-1.55977744, -4.36523097],\n",
       "       [-2.02340921, -4.54090373],\n",
       "       [-1.94542069, -4.33939282],\n",
       "       [-2.33703023, -4.60661083],\n",
       "       [-2.45973713, -4.84226144],\n",
       "       [-2.15619512, -4.58290032],\n",
       "       [-2.25859156, -4.61127149],\n",
       "       [-1.94030455, -4.85945521],\n",
       "       [-2.20357268, -4.55995688],\n",
       "       [-1.6112954 , -4.80411437],\n",
       "       [-1.56027476, -4.91805876],\n",
       "       [-1.51276815, -4.86749967],\n",
       "       [-1.55334029, -4.80135502],\n",
       "       [-1.64986202, -4.82000926],\n",
       "       [-1.26668764, -4.80645512],\n",
       "       [-1.38943373, -4.44348516],\n",
       "       [-1.49481007, -4.93823799],\n",
       "       [-1.67760529, -4.2715995 ],\n",
       "       [-1.47207621, -4.85777034],\n",
       "       [-1.49136493, -5.00670471],\n",
       "       [-1.55329563, -4.59216053],\n",
       "       [-1.28852623, -5.14460859],\n",
       "       [-1.26811645, -4.93699733],\n",
       "       [-1.37366423, -4.49610487],\n",
       "       [-2.18375461, -4.84009625],\n",
       "       [-2.0914584 , -4.43370895],\n",
       "       [-2.20501212, -4.69881085],\n",
       "       [-1.52522692, -4.91273   ],\n",
       "       [-1.66897015, -4.62961213],\n",
       "       [-1.40984387, -5.06634095],\n",
       "       [-1.46056301, -4.94244221],\n",
       "       [-1.75458304, -4.97145369],\n",
       "       [-1.47722988, -5.19518122],\n",
       "       [-1.83908513, -4.36664752],\n",
       "       [-1.24259175, -4.70175656],\n",
       "       [-1.69140709, -5.23879105],\n",
       "       [-1.75927509, -5.26308835],\n",
       "       [-1.6838401 , -4.88168166],\n",
       "       [-1.49001587, -5.20643696],\n",
       "       [-1.76474337, -4.98320501],\n",
       "       [-1.31526808, -5.1614387 ]])"
      ]
     },
     "execution_count": 33,
     "metadata": {},
     "output_type": "execute_result"
    }
   ],
   "source": [
    "X_lda"
   ]
  },
  {
   "cell_type": "markdown",
   "metadata": {},
   "source": [
    "## turn it into a function"
   ]
  },
  {
   "cell_type": "code",
   "execution_count": 34,
   "metadata": {},
   "outputs": [],
   "source": [
    "def lda(x, y, n_eigens=2):\n",
    "    df_x=pd.DataFrame(x)\n",
    "    df_x['class_']=y\n",
    "\n",
    "    class_f_means=df_x.groupby('class_').mean().T\n",
    "    class_means=df_x.groupby('class_').mean()\n",
    "    within_class_scatter_matrix=within_scatter(df_x, class_f_means)\n",
    "    between_class_scatter_matrix=between_scatter(df_x, class_f_means)\n",
    "    \n",
    "    eigen_vecs=get_sorted_eigenvecs(within_class_scatter_matrix, between_class_scatter_matrix, \n",
    "                                  top_eigs=n_eigens)\n",
    "    n_features=class_f_means.shape[0]\n",
    "    w_matrix=eigen_vecs[:n_eigens,:].transpose().real\n",
    "    df_x=df_x.drop('class_', axis=1)\n",
    "    df_x_lda = pd.DataFrame(df_x@w_matrix)\n",
    "    df_x_lda['class']=y\n",
    "    return df_x_lda\n",
    "    \n",
    "def within_scatter(x, class_feature_means):\n",
    "    within_class_scatter_matrix = np.zeros((class_feature_means.shape[0],\n",
    "                                            class_feature_means.shape[0]))\n",
    "\n",
    "    for c, rows in x.groupby('class_'):\n",
    "        rows = rows.drop(['class_'], axis=1)\n",
    "        mean_subtracted=rows-class_feature_means[c].values.reshape(1,-1)\n",
    "        s=np.inner(mean_subtracted.T, mean_subtracted.T)\n",
    "        within_class_scatter_matrix += s\n",
    "    return within_class_scatter_matrix\n",
    "\n",
    "def between_scatter(x,class_feature_means):\n",
    "    n_features=class_feature_means.shape[0]\n",
    "    between_class_scatter_matrix = np.zeros((n_features, n_features))\n",
    "    for c in class_feature_means:    \n",
    "        n = len(x.loc[X['class_'] == c].index)\n",
    "        mc = class_feature_means[c].values.reshape(n_features,1)\n",
    "        m = feature_means.values.reshape(n_features,1)\n",
    "        between_class_scatter_matrix += n * (mc - m)@((mc - m).T)\n",
    "    return between_class_scatter_matrix\n",
    "\n",
    "def get_sorted_eigenvecs(within_class_scatter_matrix, between_class_scatter_matrix, top_eigs=10):\n",
    "    eigen_values, eigen_vectors = np.linalg.eig(np.linalg.inv(within_class_scatter_matrix)@between_class_scatter_matrix)\n",
    "    idx=np.abs(eigen_values).argsort()[::-1]\n",
    "    eigen_values = eigen_values[idx]\n",
    "    \n",
    "    eigen_vectors=eigen_vectors.transpose()[idx,:]\n",
    "    eigen_value_sums = sum(eigen_values)\n",
    "    print('Explained Variance')\n",
    "    for i in range(top_eigs):\n",
    "        pair = pairs[i]\n",
    "        if i<top_eigs:\n",
    "            print(f'Eigenvector {i}: {round((eigen_values[i]/eigen_value_sums).real,3)}')\n",
    "    return eigen_vectors[:top_eigs,:]"
   ]
  },
  {
   "cell_type": "code",
   "execution_count": 35,
   "metadata": {},
   "outputs": [
    {
     "name": "stdout",
     "output_type": "stream",
     "text": [
      "Explained Variance\n",
      "Eigenvector 0: 0.687\n",
      "Eigenvector 1: 0.313\n"
     ]
    }
   ],
   "source": [
    "X = pd.DataFrame(wine.data, columns=wine.feature_names)\n",
    "y = pd.Categorical.from_codes(wine.target, wine.target_names)\n",
    "x_lda=lda(X, y)"
   ]
  },
  {
   "cell_type": "code",
   "execution_count": 36,
   "metadata": {},
   "outputs": [
    {
     "data": {
      "text/plain": [
       "<matplotlib.axes._subplots.AxesSubplot at 0x2a411ebcc88>"
      ]
     },
     "execution_count": 36,
     "metadata": {},
     "output_type": "execute_result"
    },
    {
     "data": {
      "image/png": "[encoded data removed]",
      "text/plain": [
       "<Figure size 432x288 with 2 Axes>"
      ]
     },
     "metadata": {
      "needs_background": "light"
     },
     "output_type": "display_data"
    }
   ],
   "source": [
    "df_lda['class']=df_lda['class'].astype('category').cat.codes\n",
    "df_lda.plot.scatter(x=0, y=1, c='class', colormap='Set1')"
   ]
  },
  {
   "cell_type": "markdown",
   "metadata": {},
   "source": [
    "## Is lda helping with classification?"
   ]
  },
  {
   "cell_type": "code",
   "execution_count": 37,
   "metadata": {},
   "outputs": [
    {
     "data": {
      "text/plain": [
       "array([0, 0, 0, 0, 0, 0, 0, 0, 0, 0, 0, 0, 0, 0, 0, 0, 0, 0, 0, 0, 0, 0,\n",
       "       0, 0, 0, 0, 0, 0, 0, 0, 0, 0, 0, 0, 0, 0, 0, 0, 0, 0, 0, 0, 0, 0,\n",
       "       0, 0, 0, 0, 0, 0, 0, 0, 0, 0, 0, 0, 0, 0, 0, 1, 1, 1, 1, 1, 1, 1,\n",
       "       1, 1, 1, 1, 1, 1, 1, 1, 1, 1, 1, 1, 1, 1, 1, 1, 1, 1, 1, 1, 1, 1,\n",
       "       1, 1, 1, 1, 1, 1, 1, 1, 1, 1, 1, 1, 1, 1, 1, 1, 1, 1, 1, 1, 1, 1,\n",
       "       1, 1, 1, 1, 1, 1, 1, 1, 1, 1, 1, 1, 1, 1, 1, 1, 1, 1, 1, 1, 2, 2,\n",
       "       2, 2, 2, 2, 2, 2, 2, 2, 2, 2, 2, 2, 2, 2, 2, 2, 2, 2, 2, 2, 2, 2,\n",
       "       2, 2, 2, 2, 2, 2, 2, 2, 2, 2, 2, 2, 2, 2, 2, 2, 2, 2, 2, 2, 2, 2,\n",
       "       2, 2])"
      ]
     },
     "execution_count": 37,
     "metadata": {},
     "output_type": "execute_result"
    }
   ],
   "source": [
    "wine.target"
   ]
  },
  {
   "cell_type": "code",
   "execution_count": null,
   "metadata": {},
   "outputs": [],
   "source": [
    "pipe = Pipeline([('scaler', StandardScaler()), ('svc', LinearSVC())])\n",
    "\n",
    "X = pd.DataFrame(wine.data, columns=wine.feature_names)\n",
    "y = wine.target\n",
    "scores_regulars=cross_val_score(pipe, X, wine.target, cv=10)\n",
    "pd.DataFrame(scores_regulars).describe()"
   ]
  },
  {
   "cell_type": "code",
   "execution_count": null,
   "metadata": {},
   "outputs": [],
   "source": [
    "pipe = Pipeline([('scaler', StandardScaler()), ('svc', LinearSVC())])\n",
    "\n",
    "X = df_lda.drop('class', axis=1)\n",
    "y = wine.target\n",
    "scores_regulars=cross_val_score(pipe, X, wine.target, cv=10)\n",
    "pd.DataFrame(scores_regulars).describe()"
   ]
  },
  {
   "cell_type": "code",
   "execution_count": null,
   "metadata": {},
   "outputs": [],
   "source": []
  }
 ],
 "metadata": {
  "kernelspec": {
   "display_name": "Python 3",
   "language": "python",
   "name": "python3"
  },
  "language_info": {
   "codemirror_mode": {
    "name": "ipython",
    "version": 3
   },
   "file_extension": ".py",
   "mimetype": "text/x-python",
   "name": "python",
   "nbconvert_exporter": "python",
   "pygments_lexer": "ipython3",
   "version": "3.7.4"
  }
 },
 "nbformat": 4,
 "nbformat_minor": 2
}
