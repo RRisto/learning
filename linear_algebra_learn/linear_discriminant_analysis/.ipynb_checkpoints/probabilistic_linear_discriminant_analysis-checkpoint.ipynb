{
 "cells": [
  {
   "cell_type": "code",
   "execution_count": 95,
   "metadata": {},
   "outputs": [],
   "source": [
    "import numpy as np\n",
    "import pandas as pd\n",
    "import seaborn as sns\n",
    "import matplotlib.pyplot as plt\n",
    "from sklearn.decomposition import PCA\n",
    "from scipy.linalg import eigh\n",
    "from scipy.stats import multivariate_normal as gaussian\n",
    "from sklearn.manifold import TSNE\n",
    "from sklearn.discriminant_analysis import LinearDiscriminantAnalysis"
   ]
  },
  {
   "cell_type": "markdown",
   "metadata": {},
   "source": [
    "## Data"
   ]
  },
  {
   "cell_type": "code",
   "execution_count": 39,
   "metadata": {},
   "outputs": [],
   "source": [
    "training_data = np.load('mnist_demo/mnist_data/mnist_train_images.npy')\n",
    "training_labels = np.load('mnist_demo/mnist_data/mnist_train_labels.npy')"
   ]
  },
  {
   "cell_type": "code",
   "execution_count": 40,
   "metadata": {},
   "outputs": [
    {
     "data": {
      "text/plain": [
       "{0, 1, 2, 3, 4, 5, 6, 7, 8, 9}"
      ]
     },
     "execution_count": 40,
     "metadata": {},
     "output_type": "execute_result"
    }
   ],
   "source": [
    "set(training_labels)"
   ]
  },
  {
   "cell_type": "code",
   "execution_count": 41,
   "metadata": {},
   "outputs": [],
   "source": [
    "testing_data = np.load('mnist_demo/mnist_data/mnist_test_images.npy')\n",
    "testing_labels = np.load('mnist_demo/mnist_data/mnist_test_labels.npy')"
   ]
  },
  {
   "cell_type": "markdown",
   "metadata": {},
   "source": [
    "## Helpers"
   ]
  },
  {
   "cell_type": "code",
   "execution_count": 42,
   "metadata": {},
   "outputs": [],
   "source": [
    "def calc_scatter_matrices(X, Y):\n",
    "    \"\"\" See Equations (1) on p.532 of Ioffe 2006. \"\"\"\n",
    "    assert len(X.shape) == 2\n",
    "    assert X.shape[0] == len(Y)\n",
    "\n",
    "    unique_labels = np.unique(Y)\n",
    "    labels = np.asarray(Y)\n",
    "\n",
    "    m = X.mean(axis=0)\n",
    "    N = X.shape[0]\n",
    "\n",
    "    cov_ks = []\n",
    "    m_ks = []\n",
    "    n_ks = []\n",
    "\n",
    "    for k in unique_labels:\n",
    "        bool_idxs = labels == k\n",
    "        X_k = X[bool_idxs]\n",
    "\n",
    "        m_ks.append(X_k.mean(axis=0))\n",
    "        n_ks.append(bool_idxs.sum())\n",
    "\n",
    "        cov_ks.append(np.cov(X_k.T))\n",
    "\n",
    "    n_ks = np.asarray(n_ks)\n",
    "    m_ks = np.asarray(m_ks)\n",
    "\n",
    "    m_ks_minus_m = m_ks - m\n",
    "    S_b = np.matmul(m_ks_minus_m.T * (n_ks / N), m_ks_minus_m)\n",
    "\n",
    "    S_w = np.asarray(cov_ks) * ((n_ks - 1) / N)[:, None, None]\n",
    "    S_w = np.sum(S_w, axis=0)\n",
    "\n",
    "    return S_b, S_w\n"
   ]
  },
  {
   "cell_type": "code",
   "execution_count": 43,
   "metadata": {},
   "outputs": [],
   "source": [
    "def calc_m(X):\n",
    "    \"\"\" See Fig. 2 on p.537 of Ioffe 2006. \"\"\"\n",
    "    assert len(X.shape) == 2\n",
    "    return X.mean(axis=0)\n",
    "\n",
    "def calc_W(S_b, S_w):\n",
    "    \"\"\" See Fig. 2 on p.537 of Ioffe 2006. \"\"\"\n",
    "    eigenvalues, eigenvectors = eigh(S_b, S_w)\n",
    "    return eigenvectors\n",
    "\n",
    "def calc_Lambda_b(S_b, W):\n",
    "    \"\"\" See Fig. 2 on p.537 of Ioffe 2006. \"\"\"\n",
    "    return np.matmul(np.matmul(W.T, S_b), W)\n",
    "\n",
    "def calc_Lambda_w(S_w, W):\n",
    "    \"\"\" See Fig. 2 on p.537 of Ioffe 2006. \"\"\"\n",
    "    return np.matmul(np.matmul(W.T, S_w), W)\n",
    "\n",
    "def calc_n_avg(Y):\n",
    "    \"\"\" This is the \\\"hack\\\" suggested in Fig 2 on p.537 of Ioffe 2006. \"\"\"\n",
    "    unique = np.unique(Y)\n",
    "    return len(Y) / unique.shape[0]\n",
    "\n",
    "def calc_A(n_avg, Lambda_w, W):\n",
    "    \"\"\" See Fig. 2 on p.537 of Ioffe 2006. \"\"\"\n",
    "    Lambda_w_diagonal = Lambda_w.diagonal()  # Should be diagonal matrix.\n",
    "    inv_W_T = np.linalg.inv(W.T)\n",
    "    return inv_W_T * (n_avg / (n_avg - 1) * Lambda_w_diagonal) ** .5\n",
    "\n",
    "\n",
    "def calc_Psi(Lambda_w, Lambda_b, n_avg):\n",
    "    \"\"\" See Fig. 2 on p.537 of Ioffe 2006. \"\"\"\n",
    "    Lambda_w_diagonal = Lambda_w.diagonal()  # Should be diagonal matrix.\n",
    "    Lambda_b_diagonal = Lambda_b.diagonal()  # Should be diagonal matrix.\n",
    "    Psi = (n_avg - 1) / n_avg * Lambda_b_diagonal / Lambda_w_diagonal\n",
    "    Psi -= 1 / n_avg\n",
    "    Psi[Psi <= 0] = 0\n",
    "\n",
    "    return np.diag(Psi)\n",
    "\n",
    "def get_relevant_U_dims(Psi):\n",
    "    \"\"\" See Fig. 2 on p.537 of Ioffe 2006. \"\"\"\n",
    "    relevant_dims = np.squeeze(np.argwhere(Psi.diagonal() != 0))\n",
    "    if relevant_dims.shape == ():\n",
    "        relevant_dims = relevant_dims.reshape(1,)\n",
    "    return relevant_dims\n",
    "\n",
    "def optimize_maximum_likelihood(X, labels):\n",
    "    \"\"\" Performs the optimization in Fig. 2 of p.537 of Ioffe 2006.\n",
    "\n",
    "    DESCRIPTION\n",
    "     - The main model parameters are `m`, `A`, and `Psi`.\n",
    "     - However, to improve the performance (speed and numerical stability)\n",
    "        of the plda.Model object,\n",
    "        inv_A and relevant_U_dims are also returned here.\n",
    "\n",
    "    ADDITIONAL NOTES\n",
    "     Be sure to test that np.cov(X.T) is full rank before running this.\n",
    "\n",
    "     Recall that there are 4 \\\"spaces\\\":\n",
    "      'D' (data) <---> 'X' (preprocessed) <---> 'U' (latent) <---> 'U_model'\n",
    "\n",
    "    ARGUMENTS\n",
    "     X  (numpy.ndarray), shape=(n_data, n_dimensions)\n",
    "       - Data in statistics format, i.e. row-wise.\n",
    "\n",
    "     labels  (list or numpy.ndarray), length=X.shape[0]\n",
    "       - Labels for the data in `X`.\n",
    "       - Must be sorted in the same order as `X`.\n",
    "\n",
    "    RETURNS\n",
    "     m  (numpy.ndarray), shape=X.shape[-1]\n",
    "       - The mean of the row vectors in X.\n",
    "       - This is the prior mean fitted via maximum likelihood.\n",
    "\n",
    "     A  (numpy.ndarray), shape=(X.shape[-1], X.shape[-1])\n",
    "       - Transformation from X space to the latent U space.\n",
    "\n",
    "     Psi  (numpy.ndarray), shape=(X.shape[-1], X.shape[-1])\n",
    "       - The covariance matrix of the prior distribution on\n",
    "          the category means in U space.\n",
    "\n",
    "     relevant_U_dims  (numpy.ndarray), shape=(len(np.unique(labels)) - 1,)\n",
    "       - The \\\"effective\\\" latent dimensions,\n",
    "          i.e. the ones that are actually used by the model.\n",
    "\n",
    "     inv_A  (numpy.ndarray), shape=A.shape\n",
    "       - The inverse of the matrix A.\n",
    "       - Transformation from the latent U space to the X space.\n",
    "    \"\"\"\n",
    "    assert len(X.shape) == 2\n",
    "    assert X.shape[0] == len(labels)\n",
    "\n",
    "    m = X.mean(axis=0)\n",
    "\n",
    "    S_b, S_w = calc_scatter_matrices(X, labels)\n",
    "    W = calc_W(S_b, S_w)\n",
    "\n",
    "    Lambda_b = calc_Lambda_b(S_b, W)\n",
    "    Lambda_w = calc_Lambda_w(S_w, W)\n",
    "    n_avg = calc_n_avg(labels)\n",
    "\n",
    "    A = calc_A(n_avg, Lambda_w, W)\n",
    "    inv_A = np.linalg.inv(A)\n",
    "\n",
    "    Psi = calc_Psi(Lambda_w, Lambda_b, n_avg)\n",
    "    relevant_U_dims = get_relevant_U_dims(Psi)\n",
    "\n",
    "    return m, A, Psi, relevant_U_dims, inv_A\n",
    "\n"
   ]
  },
  {
   "cell_type": "markdown",
   "metadata": {},
   "source": [
    "## Calculate"
   ]
  },
  {
   "cell_type": "code",
   "execution_count": 44,
   "metadata": {},
   "outputs": [],
   "source": [
    "data=training_data\n",
    "labels=training_labels\n",
    "n_principal_components=5"
   ]
  },
  {
   "cell_type": "markdown",
   "metadata": {},
   "source": [
    "#### Scatte matrices (not needed if n_principal components set)"
   ]
  },
  {
   "cell_type": "code",
   "execution_count": 45,
   "metadata": {},
   "outputs": [],
   "source": [
    "S_b, S_w = calc_scatter_matrices(data, labels)\n",
    "matrix_rank = np.linalg.matrix_rank(S_w)"
   ]
  },
  {
   "cell_type": "code",
   "execution_count": 46,
   "metadata": {},
   "outputs": [
    {
     "data": {
      "text/plain": [
       "array([[0., 0., 0., ..., 0., 0., 0.],\n",
       "       [0., 0., 0., ..., 0., 0., 0.],\n",
       "       [0., 0., 0., ..., 0., 0., 0.],\n",
       "       ...,\n",
       "       [0., 0., 0., ..., 0., 0., 0.],\n",
       "       [0., 0., 0., ..., 0., 0., 0.],\n",
       "       [0., 0., 0., ..., 0., 0., 0.]])"
      ]
     },
     "execution_count": 46,
     "metadata": {},
     "output_type": "execute_result"
    }
   ],
   "source": [
    "S_b"
   ]
  },
  {
   "cell_type": "code",
   "execution_count": 47,
   "metadata": {},
   "outputs": [
    {
     "data": {
      "text/plain": [
       "array([[0., 0., 0., ..., 0., 0., 0.],\n",
       "       [0., 0., 0., ..., 0., 0., 0.],\n",
       "       [0., 0., 0., ..., 0., 0., 0.],\n",
       "       ...,\n",
       "       [0., 0., 0., ..., 0., 0., 0.],\n",
       "       [0., 0., 0., ..., 0., 0., 0.],\n",
       "       [0., 0., 0., ..., 0., 0., 0.]])"
      ]
     },
     "execution_count": 47,
     "metadata": {},
     "output_type": "execute_result"
    }
   ],
   "source": [
    "S_w"
   ]
  },
  {
   "cell_type": "code",
   "execution_count": 48,
   "metadata": {},
   "outputs": [
    {
     "data": {
      "text/plain": [
       "190"
      ]
     },
     "execution_count": 48,
     "metadata": {},
     "output_type": "execute_result"
    }
   ],
   "source": [
    "matrix_rank"
   ]
  },
  {
   "cell_type": "markdown",
   "metadata": {},
   "source": [
    "well set it to n_components not to overlearn"
   ]
  },
  {
   "cell_type": "code",
   "execution_count": 49,
   "metadata": {},
   "outputs": [],
   "source": [
    "matrix_rank=n_principal_components"
   ]
  },
  {
   "cell_type": "markdown",
   "metadata": {},
   "source": [
    "#### PCA"
   ]
  },
  {
   "cell_type": "code",
   "execution_count": 50,
   "metadata": {},
   "outputs": [
    {
     "data": {
      "text/plain": [
       "PCA(copy=True, iterated_power='auto', n_components=5, random_state=None,\n",
       "    svd_solver='auto', tol=0.0, whiten=False)"
      ]
     },
     "execution_count": 50,
     "metadata": {},
     "output_type": "execute_result"
    }
   ],
   "source": [
    "pca = PCA(n_components=matrix_rank)\n",
    "pca.fit(data)"
   ]
  },
  {
   "cell_type": "markdown",
   "metadata": {},
   "source": [
    "### transform"
   ]
  },
  {
   "cell_type": "code",
   "execution_count": 51,
   "metadata": {},
   "outputs": [],
   "source": [
    "# X = self.transform(data, from_space='D', to_space='X')\n",
    "\n",
    "X=pca.transform(data)"
   ]
  },
  {
   "cell_type": "code",
   "execution_count": 52,
   "metadata": {},
   "outputs": [
    {
     "data": {
      "text/plain": [
       "(200, 5)"
      ]
     },
     "execution_count": 52,
     "metadata": {},
     "output_type": "execute_result"
    }
   ],
   "source": [
    "X.shape"
   ]
  },
  {
   "cell_type": "code",
   "execution_count": 53,
   "metadata": {},
   "outputs": [
    {
     "data": {
      "text/plain": [
       "array([ 1.4472231, -1.4779979, -0.7144303,  0.5610231, -1.1191615],\n",
       "      dtype=float32)"
      ]
     },
     "execution_count": 53,
     "metadata": {},
     "output_type": "execute_result"
    }
   ],
   "source": [
    "X[0]"
   ]
  },
  {
   "cell_type": "markdown",
   "metadata": {},
   "source": [
    "#### learn params"
   ]
  },
  {
   "cell_type": "code",
   "execution_count": 54,
   "metadata": {},
   "outputs": [],
   "source": [
    "m, A, Psi, relevant_U_dims, inv_A = optimize_maximum_likelihood(X, labels)"
   ]
  },
  {
   "cell_type": "code",
   "execution_count": 55,
   "metadata": {},
   "outputs": [
    {
     "data": {
      "text/plain": [
       "array([-6.0498714e-08, -5.1259995e-08, -3.7848949e-08, -1.4647841e-07,\n",
       "        1.5258789e-07], dtype=float32)"
      ]
     },
     "execution_count": 55,
     "metadata": {},
     "output_type": "execute_result"
    }
   ],
   "source": [
    "m"
   ]
  },
  {
   "cell_type": "code",
   "execution_count": 56,
   "metadata": {},
   "outputs": [
    {
     "data": {
      "text/plain": [
       "array([[ 0.03049698,  0.94799527, -0.03550019, -0.26390487, -0.93576472],\n",
       "       [-0.16054767,  0.2603018 ,  1.19345578,  0.1319501 ,  0.04583107],\n",
       "       [-0.52331402, -0.28804017, -0.09277858,  0.85861348, -0.30748544],\n",
       "       [-1.57718745, -0.16134793, -0.01523992, -0.32563608, -0.00386843],\n",
       "       [ 0.3328829 , -1.01492048,  0.2222667 , -0.24820062, -0.35077702]])"
      ]
     },
     "execution_count": 56,
     "metadata": {},
     "output_type": "execute_result"
    }
   ],
   "source": [
    "A"
   ]
  },
  {
   "cell_type": "code",
   "execution_count": 57,
   "metadata": {},
   "outputs": [
    {
     "data": {
      "text/plain": [
       "array([[0.07600867, 0.        , 0.        , 0.        , 0.        ],\n",
       "       [0.        , 0.74137517, 0.        , 0.        , 0.        ],\n",
       "       [0.        , 0.        , 1.65183998, 0.        , 0.        ],\n",
       "       [0.        , 0.        , 0.        , 2.49810795, 0.        ],\n",
       "       [0.        , 0.        , 0.        , 0.        , 3.43667829]])"
      ]
     },
     "execution_count": 57,
     "metadata": {},
     "output_type": "execute_result"
    }
   ],
   "source": [
    "Psi"
   ]
  },
  {
   "cell_type": "code",
   "execution_count": 58,
   "metadata": {},
   "outputs": [
    {
     "data": {
      "text/plain": [
       "array([0, 1, 2, 3, 4], dtype=int64)"
      ]
     },
     "execution_count": 58,
     "metadata": {},
     "output_type": "execute_result"
    }
   ],
   "source": [
    "relevant_U_dims"
   ]
  },
  {
   "cell_type": "code",
   "execution_count": 59,
   "metadata": {},
   "outputs": [
    {
     "data": {
      "text/plain": [
       "array([[ 0.00575918, -0.04326277, -0.16272787, -0.54858346,  0.12767824],\n",
       "       [ 0.28972151,  0.11351761, -0.14495365, -0.09082371, -0.6299901 ],\n",
       "       [-0.016522  ,  0.79258813, -0.07110161, -0.0130638 ,  0.21010245],\n",
       "       [-0.16201774,  0.11559435,  0.8679905 , -0.36822175, -0.30948922],\n",
       "       [-0.72862967,  0.05092288, -0.39424534, -0.00554766, -0.55475141]])"
      ]
     },
     "execution_count": 59,
     "metadata": {},
     "output_type": "execute_result"
    }
   ],
   "source": [
    "inv_A"
   ]
  },
  {
   "cell_type": "markdown",
   "metadata": {},
   "source": [
    "#### transfrom X from space X to U_model"
   ]
  },
  {
   "cell_type": "code",
   "execution_count": 60,
   "metadata": {},
   "outputs": [
    {
     "data": {
      "text/plain": [
       "array([-0.262,  1.009, -1.387, -0.886, -0.23 ])"
      ]
     },
     "execution_count": 60,
     "metadata": {},
     "output_type": "execute_result"
    }
   ],
   "source": [
    "#from X -> U\n",
    "x_in_u=np.matmul(X - m, inv_A.T)\n",
    "\n",
    "U_model=x_in_u[..., relevant_U_dims]\n",
    "U_model.round(3)[0]"
   ]
  },
  {
   "cell_type": "markdown",
   "metadata": {},
   "source": [
    "#### get prior params"
   ]
  },
  {
   "cell_type": "code",
   "execution_count": 61,
   "metadata": {},
   "outputs": [
    {
     "data": {
      "text/plain": [
       "array([0., 0., 0., 0., 0.])"
      ]
     },
     "execution_count": 61,
     "metadata": {},
     "output_type": "execute_result"
    }
   ],
   "source": [
    "cov_diag = Psi.diagonal()[relevant_U_dims]\n",
    "mean = np.zeros(relevant_U_dims.shape)\n",
    "\n",
    "prior_params= {'mean': mean, 'cov_diag': cov_diag}\n",
    "mean"
   ]
  },
  {
   "cell_type": "code",
   "execution_count": 62,
   "metadata": {},
   "outputs": [
    {
     "data": {
      "text/plain": [
       "array([0.07600867, 0.74137517, 1.65183998, 2.49810795, 3.43667829])"
      ]
     },
     "execution_count": 62,
     "metadata": {},
     "output_type": "execute_result"
    }
   ],
   "source": [
    "cov_diag"
   ]
  },
  {
   "cell_type": "markdown",
   "metadata": {},
   "source": [
    "#### get posterior params"
   ]
  },
  {
   "cell_type": "code",
   "execution_count": 63,
   "metadata": {},
   "outputs": [],
   "source": [
    "labels = np.asarray(labels)\n",
    "prior_cov_diagonal = prior_params['cov_diag']\n",
    "\n",
    "cov_diags = []\n",
    "means = []\n",
    "categories = []\n",
    "\n",
    "for k in np.unique(labels):\n",
    "#     print(k)\n",
    "    bool_idxs = labels == k\n",
    "    U_model_k = U_model[bool_idxs]\n",
    "    n_k = bool_idxs.sum()\n",
    "\n",
    "    cov_diag = prior_cov_diagonal / (1 + n_k * prior_cov_diagonal)\n",
    "    mean = U_model_k.sum(axis=0) * cov_diag\n",
    "\n",
    "    cov_diags.append(cov_diag)\n",
    "    means.append(mean)\n",
    "    categories.append(k)\n",
    "\n",
    "    #add them to dict\n",
    "posterior_params = dict()\n",
    "for label, mean, cov_diag in zip(categories, means, cov_diags):\n",
    "    category_params = dict()\n",
    "    category_params['mean'] = mean\n",
    "    category_params['cov_diag'] = cov_diag\n",
    "\n",
    "    posterior_params[label] = category_params"
   ]
  },
  {
   "cell_type": "code",
   "execution_count": 64,
   "metadata": {},
   "outputs": [
    {
     "data": {
      "text/plain": [
       "{0: {'mean': array([-0.02610283, -0.20150467,  0.94471997, -1.5914654 , -4.46391478]),\n",
       "  'cov_diag': array([0.0292771 , 0.04474504, 0.04628476, 0.04672831, 0.04696825])},\n",
       " 1: {'mean': array([ 0.12093156, -1.51229707, -1.42830723, -0.18379299,  1.28494215]),\n",
       "  'cov_diag': array([0.02553861, 0.03656462, 0.03758638, 0.03787835, 0.03803586])},\n",
       " 2: {'mean': array([ 0.05348349,  0.24557268, -0.99771208,  0.02935943, -1.10749412]),\n",
       "  'cov_diag': array([0.03016009, 0.04684094, 0.048531  , 0.04901888, 0.04928299])},\n",
       " 3: {'mean': array([ 0.24354103,  1.46990039, -1.55767134, -1.75784258,  0.5673247 ]),\n",
       "  'cov_diag': array([0.0292771 , 0.04474504, 0.04628476, 0.04672831, 0.04696825])},\n",
       " 4: {'mean': array([0.09808849, 0.4165807 , 1.39487388, 1.07610097, 1.04385077]),\n",
       "  'cov_diag': array([0.0292771 , 0.04474504, 0.04628476, 0.04672831, 0.04696825])},\n",
       " 5: {'mean': array([ 0.00968037, -1.03283732, -0.28146935, -0.22570978, -0.13076877]),\n",
       "  'cov_diag': array([0.03823157, 0.06969202, 0.07350031, 0.07462518, 0.075239  ])},\n",
       " 6: {'mean': array([ 0.00636212,  0.26326401, -0.51808907,  4.14209164, -1.53935078]),\n",
       "  'cov_diag': array([0.03109801, 0.04914284, 0.05100639, 0.05154559, 0.0518377 ])},\n",
       " 7: {'mean': array([ 0.01873164, -0.50505036,  2.02034336, -0.82077739,  1.17006252]),\n",
       "  'cov_diag': array([0.0292771 , 0.04474504, 0.04628476, 0.04672831, 0.04696825])},\n",
       " 8: {'mean': array([-0.61896017,  0.34115419, -1.00019419, -0.58282204,  0.85264283]),\n",
       "  'cov_diag': array([0.03551591, 0.0611664 , 0.06408044, 0.06493379, 0.06539804])},\n",
       " 9: {'mean': array([-0.02643305,  0.55987566,  1.1696532 ,  0.09007716,  1.84240757]),\n",
       "  'cov_diag': array([0.02765763, 0.04106971, 0.04236321, 0.04273449, 0.04293508])}}"
      ]
     },
     "execution_count": 64,
     "metadata": {},
     "output_type": "execute_result"
    }
   ],
   "source": [
    "posterior_params"
   ]
  },
  {
   "cell_type": "markdown",
   "metadata": {},
   "source": [
    "#### get posterior_predictive_params"
   ]
  },
  {
   "cell_type": "code",
   "execution_count": 65,
   "metadata": {},
   "outputs": [],
   "source": [
    "posterior_predictive_params = posterior_params.copy()\n",
    "\n",
    "for k, k_params in posterior_predictive_params.items():\n",
    "    k_params['cov_diag'] += 1"
   ]
  },
  {
   "cell_type": "code",
   "execution_count": 66,
   "metadata": {},
   "outputs": [
    {
     "data": {
      "text/plain": [
       "{0: {'mean': array([-0.02610283, -0.20150467,  0.94471997, -1.5914654 , -4.46391478]),\n",
       "  'cov_diag': array([1.0292771 , 1.04474504, 1.04628476, 1.04672831, 1.04696825])},\n",
       " 1: {'mean': array([ 0.12093156, -1.51229707, -1.42830723, -0.18379299,  1.28494215]),\n",
       "  'cov_diag': array([1.02553861, 1.03656462, 1.03758638, 1.03787835, 1.03803586])},\n",
       " 2: {'mean': array([ 0.05348349,  0.24557268, -0.99771208,  0.02935943, -1.10749412]),\n",
       "  'cov_diag': array([1.03016009, 1.04684094, 1.048531  , 1.04901888, 1.04928299])},\n",
       " 3: {'mean': array([ 0.24354103,  1.46990039, -1.55767134, -1.75784258,  0.5673247 ]),\n",
       "  'cov_diag': array([1.0292771 , 1.04474504, 1.04628476, 1.04672831, 1.04696825])},\n",
       " 4: {'mean': array([0.09808849, 0.4165807 , 1.39487388, 1.07610097, 1.04385077]),\n",
       "  'cov_diag': array([1.0292771 , 1.04474504, 1.04628476, 1.04672831, 1.04696825])},\n",
       " 5: {'mean': array([ 0.00968037, -1.03283732, -0.28146935, -0.22570978, -0.13076877]),\n",
       "  'cov_diag': array([1.03823157, 1.06969202, 1.07350031, 1.07462518, 1.075239  ])},\n",
       " 6: {'mean': array([ 0.00636212,  0.26326401, -0.51808907,  4.14209164, -1.53935078]),\n",
       "  'cov_diag': array([1.03109801, 1.04914284, 1.05100639, 1.05154559, 1.0518377 ])},\n",
       " 7: {'mean': array([ 0.01873164, -0.50505036,  2.02034336, -0.82077739,  1.17006252]),\n",
       "  'cov_diag': array([1.0292771 , 1.04474504, 1.04628476, 1.04672831, 1.04696825])},\n",
       " 8: {'mean': array([-0.61896017,  0.34115419, -1.00019419, -0.58282204,  0.85264283]),\n",
       "  'cov_diag': array([1.03551591, 1.0611664 , 1.06408044, 1.06493379, 1.06539804])},\n",
       " 9: {'mean': array([-0.02643305,  0.55987566,  1.1696532 ,  0.09007716,  1.84240757]),\n",
       "  'cov_diag': array([1.02765763, 1.04106971, 1.04236321, 1.04273449, 1.04293508])}}"
      ]
     },
     "execution_count": 66,
     "metadata": {},
     "output_type": "execute_result"
    }
   ],
   "source": [
    "posterior_predictive_params"
   ]
  },
  {
   "cell_type": "markdown",
   "metadata": {},
   "source": [
    "## Predict on new data"
   ]
  },
  {
   "cell_type": "markdown",
   "metadata": {},
   "source": [
    "#### transform from D to U_model"
   ]
  },
  {
   "cell_type": "code",
   "execution_count": 67,
   "metadata": {},
   "outputs": [],
   "source": [
    "data_temp=pca.transform(testing_data)\n",
    "data_temp=np.matmul(data_temp - m, inv_A.T)\n",
    "testing_data_transformed=data_temp[..., relevant_U_dims]"
   ]
  },
  {
   "cell_type": "code",
   "execution_count": 76,
   "metadata": {},
   "outputs": [
    {
     "data": {
      "text/plain": [
       "(100, 5)"
      ]
     },
     "execution_count": 76,
     "metadata": {},
     "output_type": "execute_result"
    }
   ],
   "source": [
    "testing_data_transformed.shape"
   ]
  },
  {
   "cell_type": "code",
   "execution_count": 68,
   "metadata": {},
   "outputs": [
    {
     "data": {
      "text/plain": [
       "array([ 0.58583337,  0.23390853,  2.1549864 , -1.21181925,  1.78019658])"
      ]
     },
     "execution_count": 68,
     "metadata": {},
     "output_type": "execute_result"
    }
   ],
   "source": [
    "testing_data_transformed[0]"
   ]
  },
  {
   "cell_type": "code",
   "execution_count": 69,
   "metadata": {},
   "outputs": [
    {
     "data": {
      "text/plain": [
       "array([ 0.87712647, -1.08314467, -2.28571567,  0.56450881, -2.31314399])"
      ]
     },
     "execution_count": 69,
     "metadata": {},
     "output_type": "execute_result"
    }
   ],
   "source": [
    "testing_data_transformed[1]"
   ]
  },
  {
   "cell_type": "markdown",
   "metadata": {},
   "source": [
    "#### calculate logprobs per category"
   ]
  },
  {
   "cell_type": "code",
   "execution_count": 70,
   "metadata": {},
   "outputs": [],
   "source": [
    "def calc_logp_posterior_predictive( U_model, category):\n",
    "    mean = posterior_predictive_params[category]['mean']\n",
    "    cov_diag = posterior_predictive_params[category]['cov_diag']\n",
    "\n",
    "    return gaussian(mean, np.diag(cov_diag)).logpdf(U_model)"
   ]
  },
  {
   "cell_type": "code",
   "execution_count": 71,
   "metadata": {},
   "outputs": [],
   "source": [
    "logpps_by_category = []\n",
    "K =  [k for k in posterior_params.keys()]\n",
    "\n",
    "for k in K:\n",
    "    logpps_k = calc_logp_posterior_predictive(testing_data_transformed, k)\n",
    "    logpps_by_category.append(logpps_k)\n",
    "\n",
    "logpps_by_category = np.stack(logpps_by_category, axis=-1)\n",
    "\n",
    "logps = logpps_by_category\n",
    "K=np.asarray(K)"
   ]
  },
  {
   "cell_type": "code",
   "execution_count": 72,
   "metadata": {},
   "outputs": [
    {
     "data": {
      "text/plain": [
       "array([-14.88426256, -11.90853585,  -7.49686952, -14.80587481,\n",
       "       -18.05133929,  -9.49468769, -13.79780655, -20.78913483,\n",
       "       -12.8706921 , -20.49882774])"
      ]
     },
     "execution_count": 72,
     "metadata": {},
     "output_type": "execute_result"
    }
   ],
   "source": [
    "logps[1]"
   ]
  },
  {
   "cell_type": "markdown",
   "metadata": {},
   "source": [
    "#### get highest logprob"
   ]
  },
  {
   "cell_type": "code",
   "execution_count": 73,
   "metadata": {},
   "outputs": [],
   "source": [
    "predictions = K[np.argmax(logps, axis=-1)]"
   ]
  },
  {
   "cell_type": "code",
   "execution_count": 74,
   "metadata": {},
   "outputs": [
    {
     "data": {
      "text/plain": [
       "array([7, 2, 1, 0, 4, 1, 9, 4, 2, 7, 0, 5, 4, 0, 1, 5, 4, 7, 2, 9, 7, 6,\n",
       "       5, 2, 9, 0, 7, 4, 0, 1, 3, 1, 3, 5, 9, 2, 9, 1, 2, 1, 1, 9, 9, 5,\n",
       "       1, 2, 1, 5, 9, 4, 6, 2, 4, 5, 5, 2, 4, 1, 4, 5, 4, 2, 9, 8, 9, 9,\n",
       "       5, 4, 3, 0, 7, 0, 2, 8, 1, 9, 3, 9, 8, 7, 4, 6, 2, 9, 8, 9, 9, 2,\n",
       "       4, 1, 3, 6, 9, 3, 1, 4, 1, 8, 6, 4], dtype=uint8)"
      ]
     },
     "execution_count": 74,
     "metadata": {},
     "output_type": "execute_result"
    }
   ],
   "source": [
    "predictions"
   ]
  },
  {
   "cell_type": "markdown",
   "metadata": {},
   "source": [
    "## Visualize"
   ]
  },
  {
   "cell_type": "markdown",
   "metadata": {},
   "source": [
    "#### original testing data"
   ]
  },
  {
   "cell_type": "code",
   "execution_count": 91,
   "metadata": {},
   "outputs": [],
   "source": [
    "def plot_tsne(x, y, n_components=2):\n",
    "    X_tsne = TSNE(n_components=2).fit_transform(x)\n",
    "\n",
    "    df_tsne = pd.DataFrame(X_tsne)\n",
    "    df_tsne.columns = [str(c) for c in df_tsne.columns]\n",
    "    df_tsne['category'] = y\n",
    "\n",
    "    plt.figure(figsize=(12, 8))\n",
    "    ax = sns.scatterplot(\n",
    "        x=\"0\", y=\"1\",\n",
    "        hue=\"category\",\n",
    "#         palette=['green', 'orange'],\n",
    "        palette=sns.color_palette(\"hls\", 10),\n",
    "        data=df_tsne,\n",
    "        legend=\"full\",\n",
    "        alpha=0.7\n",
    "    )\n",
    "    plt.setp(ax.get_legend().get_texts(), fontsize='22')  # for legend text\n",
    "    plt.setp(ax.get_legend().get_title(), fontsize='25')  # for legend title"
   ]
  },
  {
   "cell_type": "markdown",
   "metadata": {},
   "source": [
    "#### original testing data"
   ]
  },
  {
   "cell_type": "code",
   "execution_count": 92,
   "metadata": {},
   "outputs": [
    {
     "data": {
      "image/png": "[encoded data removed]",
      "text/plain": [
       "<Figure size 864x576 with 1 Axes>"
      ]
     },
     "metadata": {
      "needs_background": "light"
     },
     "output_type": "display_data"
    }
   ],
   "source": [
    "plot_tsne(testing_data, testing_labels)"
   ]
  },
  {
   "cell_type": "markdown",
   "metadata": {},
   "source": [
    "#### transformed testing data"
   ]
  },
  {
   "cell_type": "code",
   "execution_count": 93,
   "metadata": {},
   "outputs": [
    {
     "data": {
      "image/png": "[encoded data removed]",
      "text/plain": [
       "<Figure size 864x576 with 1 Axes>"
      ]
     },
     "metadata": {
      "needs_background": "light"
     },
     "output_type": "display_data"
    }
   ],
   "source": [
    "plot_tsne(testing_data_transformed, testing_labels)"
   ]
  },
  {
   "cell_type": "markdown",
   "metadata": {},
   "source": [
    "#### Compare with LDA"
   ]
  },
  {
   "cell_type": "code",
   "execution_count": 97,
   "metadata": {},
   "outputs": [
    {
     "name": "stderr",
     "output_type": "stream",
     "text": [
      "C:\\Users\\risto\\Anaconda3\\lib\\site-packages\\sklearn\\discriminant_analysis.py:388: UserWarning: Variables are collinear.\n",
      "  warnings.warn(\"Variables are collinear.\")\n"
     ]
    },
    {
     "data": {
      "text/plain": [
       "LinearDiscriminantAnalysis(n_components=5, priors=None, shrinkage=None,\n",
       "                           solver='svd', store_covariance=False, tol=0.0001)"
      ]
     },
     "execution_count": 97,
     "metadata": {},
     "output_type": "execute_result"
    }
   ],
   "source": [
    "clf = LinearDiscriminantAnalysis(n_components=5)\n",
    "clf.fit(training_data, training_labels)"
   ]
  },
  {
   "cell_type": "code",
   "execution_count": 98,
   "metadata": {},
   "outputs": [],
   "source": [
    "lda_transformed_testdata=clf.transform(testing_data)"
   ]
  },
  {
   "cell_type": "code",
   "execution_count": 100,
   "metadata": {},
   "outputs": [
    {
     "data": {
      "image/png": "[encoded data removed]",
      "text/plain": [
       "<Figure size 864x576 with 1 Axes>"
      ]
     },
     "metadata": {
      "needs_background": "light"
     },
     "output_type": "display_data"
    }
   ],
   "source": [
    "plot_tsne(lda_transformed_testdata, testing_labels)"
   ]
  },
  {
   "cell_type": "code",
   "execution_count": null,
   "metadata": {},
   "outputs": [],
   "source": []
  }
 ],
 "metadata": {
  "kernelspec": {
   "display_name": "Python 3",
   "language": "python",
   "name": "python3"
  },
  "language_info": {
   "codemirror_mode": {
    "name": "ipython",
    "version": 3
   },
   "file_extension": ".py",
   "mimetype": "text/x-python",
   "name": "python",
   "nbconvert_exporter": "python",
   "pygments_lexer": "ipython3",
   "version": "3.7.4"
  }
 },
 "nbformat": 4,
 "nbformat_minor": 2
}
