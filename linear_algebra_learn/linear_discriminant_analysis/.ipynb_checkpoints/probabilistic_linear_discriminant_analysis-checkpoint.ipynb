{
 "cells": [
  {
   "cell_type": "code",
   "execution_count": 95,
   "metadata": {},
   "outputs": [],
   "source": [
    "import numpy as np\n",
    "from sklearn.decomposition import PCA\n",
    "from scipy.linalg import eigh\n",
    "from scipy.stats import multivariate_normal as gaussian"
   ]
  },
  {
   "cell_type": "markdown",
   "metadata": {},
   "source": [
    "## Data"
   ]
  },
  {
   "cell_type": "code",
   "execution_count": 96,
   "metadata": {},
   "outputs": [],
   "source": [
    "training_data = np.load('mnist_demo/mnist_data/mnist_train_images.npy')\n",
    "training_labels = np.load('mnist_demo/mnist_data/mnist_train_labels.npy')"
   ]
  },
  {
   "cell_type": "code",
   "execution_count": 97,
   "metadata": {},
   "outputs": [],
   "source": [
    "testing_data = np.load('mnist_demo/mnist_data/mnist_test_images.npy')\n",
    "testing_labels = np.load('mnist_demo/mnist_data/mnist_test_labels.npy')"
   ]
  },
  {
   "cell_type": "markdown",
   "metadata": {},
   "source": [
    "## Helpers"
   ]
  },
  {
   "cell_type": "code",
   "execution_count": 98,
   "metadata": {},
   "outputs": [],
   "source": [
    "def calc_scatter_matrices(X, Y):\n",
    "    \"\"\" See Equations (1) on p.532 of Ioffe 2006. \"\"\"\n",
    "    assert len(X.shape) == 2\n",
    "    assert X.shape[0] == len(Y)\n",
    "\n",
    "    unique_labels = np.unique(Y)\n",
    "    labels = np.asarray(Y)\n",
    "\n",
    "    m = X.mean(axis=0)\n",
    "    N = X.shape[0]\n",
    "\n",
    "    cov_ks = []\n",
    "    m_ks = []\n",
    "    n_ks = []\n",
    "\n",
    "    for k in unique_labels:\n",
    "        bool_idxs = labels == k\n",
    "        X_k = X[bool_idxs]\n",
    "\n",
    "        m_ks.append(X_k.mean(axis=0))\n",
    "        n_ks.append(bool_idxs.sum())\n",
    "\n",
    "        cov_ks.append(np.cov(X_k.T))\n",
    "\n",
    "    n_ks = np.asarray(n_ks)\n",
    "    m_ks = np.asarray(m_ks)\n",
    "\n",
    "    m_ks_minus_m = m_ks - m\n",
    "    S_b = np.matmul(m_ks_minus_m.T * (n_ks / N), m_ks_minus_m)\n",
    "\n",
    "    S_w = np.asarray(cov_ks) * ((n_ks - 1) / N)[:, None, None]\n",
    "    S_w = np.sum(S_w, axis=0)\n",
    "\n",
    "    return S_b, S_w\n"
   ]
  },
  {
   "cell_type": "code",
   "execution_count": 99,
   "metadata": {},
   "outputs": [],
   "source": [
    "def calc_m(X):\n",
    "    \"\"\" See Fig. 2 on p.537 of Ioffe 2006. \"\"\"\n",
    "    assert len(X.shape) == 2\n",
    "    return X.mean(axis=0)\n",
    "\n",
    "def calc_W(S_b, S_w):\n",
    "    \"\"\" See Fig. 2 on p.537 of Ioffe 2006. \"\"\"\n",
    "    eigenvalues, eigenvectors = eigh(S_b, S_w)\n",
    "    return eigenvectors\n",
    "\n",
    "def calc_Lambda_b(S_b, W):\n",
    "    \"\"\" See Fig. 2 on p.537 of Ioffe 2006. \"\"\"\n",
    "    return np.matmul(np.matmul(W.T, S_b), W)\n",
    "\n",
    "def calc_Lambda_w(S_w, W):\n",
    "    \"\"\" See Fig. 2 on p.537 of Ioffe 2006. \"\"\"\n",
    "    return np.matmul(np.matmul(W.T, S_w), W)\n",
    "\n",
    "def calc_n_avg(Y):\n",
    "    \"\"\" This is the \\\"hack\\\" suggested in Fig 2 on p.537 of Ioffe 2006. \"\"\"\n",
    "    unique = np.unique(Y)\n",
    "    return len(Y) / unique.shape[0]\n",
    "\n",
    "def calc_A(n_avg, Lambda_w, W):\n",
    "    \"\"\" See Fig. 2 on p.537 of Ioffe 2006. \"\"\"\n",
    "    Lambda_w_diagonal = Lambda_w.diagonal()  # Should be diagonal matrix.\n",
    "    inv_W_T = np.linalg.inv(W.T)\n",
    "    return inv_W_T * (n_avg / (n_avg - 1) * Lambda_w_diagonal) ** .5\n",
    "\n",
    "\n",
    "def calc_Psi(Lambda_w, Lambda_b, n_avg):\n",
    "    \"\"\" See Fig. 2 on p.537 of Ioffe 2006. \"\"\"\n",
    "    Lambda_w_diagonal = Lambda_w.diagonal()  # Should be diagonal matrix.\n",
    "    Lambda_b_diagonal = Lambda_b.diagonal()  # Should be diagonal matrix.\n",
    "    Psi = (n_avg - 1) / n_avg * Lambda_b_diagonal / Lambda_w_diagonal\n",
    "    Psi -= 1 / n_avg\n",
    "    Psi[Psi <= 0] = 0\n",
    "\n",
    "    return np.diag(Psi)\n",
    "\n",
    "def get_relevant_U_dims(Psi):\n",
    "    \"\"\" See Fig. 2 on p.537 of Ioffe 2006. \"\"\"\n",
    "    relevant_dims = np.squeeze(np.argwhere(Psi.diagonal() != 0))\n",
    "    if relevant_dims.shape == ():\n",
    "        relevant_dims = relevant_dims.reshape(1,)\n",
    "    return relevant_dims\n",
    "\n",
    "def optimize_maximum_likelihood(X, labels):\n",
    "    \"\"\" Performs the optimization in Fig. 2 of p.537 of Ioffe 2006.\n",
    "\n",
    "    DESCRIPTION\n",
    "     - The main model parameters are `m`, `A`, and `Psi`.\n",
    "     - However, to improve the performance (speed and numerical stability)\n",
    "        of the plda.Model object,\n",
    "        inv_A and relevant_U_dims are also returned here.\n",
    "\n",
    "    ADDITIONAL NOTES\n",
    "     Be sure to test that np.cov(X.T) is full rank before running this.\n",
    "\n",
    "     Recall that there are 4 \\\"spaces\\\":\n",
    "      'D' (data) <---> 'X' (preprocessed) <---> 'U' (latent) <---> 'U_model'\n",
    "\n",
    "    ARGUMENTS\n",
    "     X  (numpy.ndarray), shape=(n_data, n_dimensions)\n",
    "       - Data in statistics format, i.e. row-wise.\n",
    "\n",
    "     labels  (list or numpy.ndarray), length=X.shape[0]\n",
    "       - Labels for the data in `X`.\n",
    "       - Must be sorted in the same order as `X`.\n",
    "\n",
    "    RETURNS\n",
    "     m  (numpy.ndarray), shape=X.shape[-1]\n",
    "       - The mean of the row vectors in X.\n",
    "       - This is the prior mean fitted via maximum likelihood.\n",
    "\n",
    "     A  (numpy.ndarray), shape=(X.shape[-1], X.shape[-1])\n",
    "       - Transformation from X space to the latent U space.\n",
    "\n",
    "     Psi  (numpy.ndarray), shape=(X.shape[-1], X.shape[-1])\n",
    "       - The covariance matrix of the prior distribution on\n",
    "          the category means in U space.\n",
    "\n",
    "     relevant_U_dims  (numpy.ndarray), shape=(len(np.unique(labels)) - 1,)\n",
    "       - The \\\"effective\\\" latent dimensions,\n",
    "          i.e. the ones that are actually used by the model.\n",
    "\n",
    "     inv_A  (numpy.ndarray), shape=A.shape\n",
    "       - The inverse of the matrix A.\n",
    "       - Transformation from the latent U space to the X space.\n",
    "    \"\"\"\n",
    "    assert len(X.shape) == 2\n",
    "    assert X.shape[0] == len(labels)\n",
    "\n",
    "    m = X.mean(axis=0)\n",
    "\n",
    "    S_b, S_w = calc_scatter_matrices(X, labels)\n",
    "    W = calc_W(S_b, S_w)\n",
    "\n",
    "    Lambda_b = calc_Lambda_b(S_b, W)\n",
    "    Lambda_w = calc_Lambda_w(S_w, W)\n",
    "    n_avg = calc_n_avg(labels)\n",
    "\n",
    "    A = calc_A(n_avg, Lambda_w, W)\n",
    "    inv_A = np.linalg.inv(A)\n",
    "\n",
    "    Psi = calc_Psi(Lambda_w, Lambda_b, n_avg)\n",
    "    relevant_U_dims = get_relevant_U_dims(Psi)\n",
    "\n",
    "    return m, A, Psi, relevant_U_dims, inv_A\n",
    "\n"
   ]
  },
  {
   "cell_type": "markdown",
   "metadata": {},
   "source": [
    "## Calculate"
   ]
  },
  {
   "cell_type": "code",
   "execution_count": 100,
   "metadata": {},
   "outputs": [],
   "source": [
    "data=training_data\n",
    "labels=training_labels\n",
    "n_principal_components=5"
   ]
  },
  {
   "cell_type": "markdown",
   "metadata": {},
   "source": [
    "#### Scatte matrices (not needed if n_principal components set)"
   ]
  },
  {
   "cell_type": "code",
   "execution_count": 101,
   "metadata": {},
   "outputs": [],
   "source": [
    "S_b, S_w = calc_scatter_matrices(data, labels)\n",
    "matrix_rank = np.linalg.matrix_rank(S_w)"
   ]
  },
  {
   "cell_type": "code",
   "execution_count": 102,
   "metadata": {},
   "outputs": [
    {
     "data": {
      "text/plain": [
       "array([[0., 0., 0., ..., 0., 0., 0.],\n",
       "       [0., 0., 0., ..., 0., 0., 0.],\n",
       "       [0., 0., 0., ..., 0., 0., 0.],\n",
       "       ...,\n",
       "       [0., 0., 0., ..., 0., 0., 0.],\n",
       "       [0., 0., 0., ..., 0., 0., 0.],\n",
       "       [0., 0., 0., ..., 0., 0., 0.]])"
      ]
     },
     "execution_count": 102,
     "metadata": {},
     "output_type": "execute_result"
    }
   ],
   "source": [
    "S_b"
   ]
  },
  {
   "cell_type": "code",
   "execution_count": 103,
   "metadata": {},
   "outputs": [
    {
     "data": {
      "text/plain": [
       "array([[0., 0., 0., ..., 0., 0., 0.],\n",
       "       [0., 0., 0., ..., 0., 0., 0.],\n",
       "       [0., 0., 0., ..., 0., 0., 0.],\n",
       "       ...,\n",
       "       [0., 0., 0., ..., 0., 0., 0.],\n",
       "       [0., 0., 0., ..., 0., 0., 0.],\n",
       "       [0., 0., 0., ..., 0., 0., 0.]])"
      ]
     },
     "execution_count": 103,
     "metadata": {},
     "output_type": "execute_result"
    }
   ],
   "source": [
    "S_w"
   ]
  },
  {
   "cell_type": "code",
   "execution_count": 104,
   "metadata": {},
   "outputs": [
    {
     "data": {
      "text/plain": [
       "190"
      ]
     },
     "execution_count": 104,
     "metadata": {},
     "output_type": "execute_result"
    }
   ],
   "source": [
    "matrix_rank"
   ]
  },
  {
   "cell_type": "markdown",
   "metadata": {},
   "source": [
    "well set it to n_componentes"
   ]
  },
  {
   "cell_type": "code",
   "execution_count": 105,
   "metadata": {},
   "outputs": [],
   "source": [
    "matrix_rank=n_principal_components"
   ]
  },
  {
   "cell_type": "markdown",
   "metadata": {},
   "source": [
    "#### PCA"
   ]
  },
  {
   "cell_type": "code",
   "execution_count": 106,
   "metadata": {},
   "outputs": [
    {
     "data": {
      "text/plain": [
       "PCA(copy=True, iterated_power='auto', n_components=5, random_state=None,\n",
       "    svd_solver='auto', tol=0.0, whiten=False)"
      ]
     },
     "execution_count": 106,
     "metadata": {},
     "output_type": "execute_result"
    }
   ],
   "source": [
    "pca = PCA(n_components=matrix_rank)\n",
    "pca.fit(data)"
   ]
  },
  {
   "cell_type": "markdown",
   "metadata": {},
   "source": [
    "### transform"
   ]
  },
  {
   "cell_type": "code",
   "execution_count": 107,
   "metadata": {},
   "outputs": [],
   "source": [
    "# X = self.transform(data, from_space='D', to_space='X')\n",
    "\n",
    "X=pca.transform(data)"
   ]
  },
  {
   "cell_type": "code",
   "execution_count": 108,
   "metadata": {},
   "outputs": [
    {
     "data": {
      "text/plain": [
       "(200, 5)"
      ]
     },
     "execution_count": 108,
     "metadata": {},
     "output_type": "execute_result"
    }
   ],
   "source": [
    "X.shape"
   ]
  },
  {
   "cell_type": "code",
   "execution_count": 109,
   "metadata": {},
   "outputs": [
    {
     "data": {
      "text/plain": [
       "array([ 1.4472201 , -1.4780002 , -0.71442753,  0.5610516 , -1.1190983 ],\n",
       "      dtype=float32)"
      ]
     },
     "execution_count": 109,
     "metadata": {},
     "output_type": "execute_result"
    }
   ],
   "source": [
    "X[0]"
   ]
  },
  {
   "cell_type": "markdown",
   "metadata": {},
   "source": [
    "#### learn params"
   ]
  },
  {
   "cell_type": "code",
   "execution_count": 110,
   "metadata": {},
   "outputs": [],
   "source": [
    "m, A, Psi, relevant_U_dims, inv_A = optimize_maximum_likelihood(X, labels)"
   ]
  },
  {
   "cell_type": "code",
   "execution_count": 111,
   "metadata": {},
   "outputs": [
    {
     "data": {
      "text/plain": [
       "array([-1.2725592e-07,  7.2717668e-08,  2.3543835e-08,  1.1324882e-08,\n",
       "        1.9729137e-07], dtype=float32)"
      ]
     },
     "execution_count": 111,
     "metadata": {},
     "output_type": "execute_result"
    }
   ],
   "source": [
    "m"
   ]
  },
  {
   "cell_type": "code",
   "execution_count": 112,
   "metadata": {},
   "outputs": [
    {
     "data": {
      "text/plain": [
       "array([[ 0.03050464,  0.94796826, -0.03538284, -0.2639849 , -0.93577306],\n",
       "       [-0.1605349 ,  0.26022988,  1.19346477,  0.13202935,  0.04586502],\n",
       "       [-0.52331299, -0.28805121, -0.09283904,  0.85858009, -0.30755082],\n",
       "       [-1.57718734, -0.16135734, -0.01520845, -0.32564158, -0.0038525 ],\n",
       "       [ 0.33290956, -1.01493593,  0.22227026, -0.24821847, -0.35074427]])"
      ]
     },
     "execution_count": 112,
     "metadata": {},
     "output_type": "execute_result"
    }
   ],
   "source": [
    "A"
   ]
  },
  {
   "cell_type": "code",
   "execution_count": 113,
   "metadata": {},
   "outputs": [
    {
     "data": {
      "text/plain": [
       "array([[0.07600346, 0.        , 0.        , 0.        , 0.        ],\n",
       "       [0.        , 0.74138804, 0.        , 0.        , 0.        ],\n",
       "       [0.        , 0.        , 1.65178842, 0.        , 0.        ],\n",
       "       [0.        , 0.        , 0.        , 2.49810234, 0.        ],\n",
       "       [0.        , 0.        , 0.        , 0.        , 3.43653902]])"
      ]
     },
     "execution_count": 113,
     "metadata": {},
     "output_type": "execute_result"
    }
   ],
   "source": [
    "Psi"
   ]
  },
  {
   "cell_type": "code",
   "execution_count": 114,
   "metadata": {},
   "outputs": [
    {
     "data": {
      "text/plain": [
       "array([0, 1, 2, 3, 4], dtype=int64)"
      ]
     },
     "execution_count": 114,
     "metadata": {},
     "output_type": "execute_result"
    }
   ],
   "source": [
    "relevant_U_dims"
   ]
  },
  {
   "cell_type": "code",
   "execution_count": 115,
   "metadata": {},
   "outputs": [
    {
     "data": {
      "text/plain": [
       "array([[ 0.00576045, -0.04325875, -0.16272694, -0.54858049,  0.12768755],\n",
       "       [ 0.28971558,  0.1134871 , -0.14496009, -0.09083002, -0.63000438],\n",
       "       [-0.01646672,  0.79257848, -0.07114633, -0.01303716,  0.21010203],\n",
       "       [-0.16206659,  0.11566389,  0.86795545, -0.36822736, -0.30951137],\n",
       "       [-0.72861399,  0.05095828, -0.39431703, -0.00552535, -0.55468231]])"
      ]
     },
     "execution_count": 115,
     "metadata": {},
     "output_type": "execute_result"
    }
   ],
   "source": [
    "inv_A"
   ]
  },
  {
   "cell_type": "markdown",
   "metadata": {},
   "source": [
    "#### transfrom X from space X to U_model"
   ]
  },
  {
   "cell_type": "code",
   "execution_count": 116,
   "metadata": {},
   "outputs": [
    {
     "data": {
      "text/plain": [
       "array([-0.262,  1.009, -1.387, -0.886, -0.23 ])"
      ]
     },
     "execution_count": 116,
     "metadata": {},
     "output_type": "execute_result"
    }
   ],
   "source": [
    "#from X -> U\n",
    "x_in_u=np.matmul(X - m, inv_A.T)\n",
    "\n",
    "U_model=x_in_u[..., relevant_U_dims]\n",
    "U_model.round(3)[0]"
   ]
  },
  {
   "cell_type": "markdown",
   "metadata": {},
   "source": [
    "#### get prior params"
   ]
  },
  {
   "cell_type": "code",
   "execution_count": 117,
   "metadata": {},
   "outputs": [
    {
     "data": {
      "text/plain": [
       "array([0., 0., 0., 0., 0.])"
      ]
     },
     "execution_count": 117,
     "metadata": {},
     "output_type": "execute_result"
    }
   ],
   "source": [
    "cov_diag = Psi.diagonal()[relevant_U_dims]\n",
    "mean = np.zeros(relevant_U_dims.shape)\n",
    "\n",
    "prior_params= {'mean': mean, 'cov_diag': cov_diag}\n",
    "mean"
   ]
  },
  {
   "cell_type": "code",
   "execution_count": 118,
   "metadata": {},
   "outputs": [
    {
     "data": {
      "text/plain": [
       "array([0.07600346, 0.74138804, 1.65178842, 2.49810234, 3.43653902])"
      ]
     },
     "execution_count": 118,
     "metadata": {},
     "output_type": "execute_result"
    }
   ],
   "source": [
    "cov_diag"
   ]
  },
  {
   "cell_type": "markdown",
   "metadata": {},
   "source": [
    "#### get posterior params"
   ]
  },
  {
   "cell_type": "code",
   "execution_count": 119,
   "metadata": {},
   "outputs": [],
   "source": [
    "labels = np.asarray(labels)\n",
    "prior_cov_diagonal = prior_params['cov_diag']\n",
    "\n",
    "cov_diags = []\n",
    "means = []\n",
    "categories = []\n",
    "\n",
    "for k in np.unique(labels):\n",
    "    bool_idxs = labels == k\n",
    "    U_model_k = U_model[bool_idxs]\n",
    "    n_k = bool_idxs.sum()\n",
    "\n",
    "    cov_diag = prior_cov_diagonal / (1 + n_k * prior_cov_diagonal)\n",
    "    mean = U_model_k.sum(axis=0) * cov_diag\n",
    "\n",
    "    cov_diags.append(cov_diag)\n",
    "    means.append(mean)\n",
    "    categories.append(k)\n",
    "\n",
    "    #add them to dict\n",
    "posterior_params = dict()\n",
    "for label, mean, cov_diag in zip(labels, means, cov_diags):\n",
    "    category_params = dict()\n",
    "    category_params['mean'] = mean\n",
    "    category_params['cov_diag'] = cov_diag\n",
    "\n",
    "    posterior_params[label] = category_params"
   ]
  },
  {
   "cell_type": "markdown",
   "metadata": {},
   "source": [
    "#### get posterior_predictive_params"
   ]
  },
  {
   "cell_type": "code",
   "execution_count": 120,
   "metadata": {},
   "outputs": [],
   "source": [
    "posterior_predictive_params = posterior_params.copy()\n",
    "\n",
    "for k, k_params in posterior_predictive_params.items():\n",
    "    k_params['cov_diag'] += 1"
   ]
  },
  {
   "cell_type": "code",
   "execution_count": 121,
   "metadata": {},
   "outputs": [
    {
     "data": {
      "text/plain": [
       "{5: {'mean': array([-0.0260943 , -0.2015402 ,  0.94494257, -1.59165761, -4.46360036]),\n",
       "  'cov_diag': array([1.02927632, 1.04474509, 1.04628472, 1.04672831, 1.04696822])},\n",
       " 0: {'mean': array([ 0.12093125, -1.51225195, -1.42841355, -0.18384909,  1.28488211]),\n",
       "  'cov_diag': array([1.02553802, 1.03656465, 1.03758635, 1.03787835, 1.03803584])},\n",
       " 4: {'mean': array([-0.0264447 ,  0.55988935,  1.16958617,  0.09032985,  1.84245642]),\n",
       "  'cov_diag': array([1.02765694, 1.04106975, 1.04236318, 1.04273449, 1.04293506])},\n",
       " 1: {'mean': array([-0.61892838,  0.34113504, -1.00011398, -0.58290961,  0.85253833]),\n",
       "  'cov_diag': array([1.03551477, 1.06116649, 1.06408036, 1.06493378, 1.06539799])},\n",
       " 9: {'mean': array([0.09807979, 0.4165823 , 1.39475555, 1.07633123, 1.04385177]),\n",
       "  'cov_diag': array([1.02927632, 1.04474509, 1.04628472, 1.04672831, 1.04696822])},\n",
       " 2: {'mean': array([ 0.00967479, -1.03282667, -0.28151309, -0.22573668, -0.13072879]),\n",
       "  'cov_diag': array([1.03823025, 1.06969214, 1.0735002 , 1.07462517, 1.07523894])},\n",
       " 3: {'mean': array([ 0.01874813, -0.50514402,  2.02031233, -0.82056579,  1.17023485]),\n",
       "  'cov_diag': array([1.02927632, 1.04474509, 1.04628472, 1.04672831, 1.04696822])}}"
      ]
     },
     "execution_count": 121,
     "metadata": {},
     "output_type": "execute_result"
    }
   ],
   "source": [
    "posterior_predictive_params"
   ]
  },
  {
   "cell_type": "markdown",
   "metadata": {},
   "source": [
    "## Predict on new data"
   ]
  },
  {
   "cell_type": "markdown",
   "metadata": {},
   "source": [
    "#### transform from D to U_model"
   ]
  },
  {
   "cell_type": "code",
   "execution_count": 122,
   "metadata": {},
   "outputs": [],
   "source": [
    "data_temp=pca.transform(testing_data)\n",
    "data_temp=np.matmul(data_temp - m, inv_A.T)\n",
    "testing_data_transformed=data_temp[..., relevant_U_dims]"
   ]
  },
  {
   "cell_type": "code",
   "execution_count": 123,
   "metadata": {},
   "outputs": [
    {
     "data": {
      "text/plain": [
       "array([ 0.58580242,  0.23397026,  2.15493022, -1.21144564,  1.78051014])"
      ]
     },
     "execution_count": 123,
     "metadata": {},
     "output_type": "execute_result"
    }
   ],
   "source": [
    "testing_data_transformed[0]"
   ]
  },
  {
   "cell_type": "code",
   "execution_count": 129,
   "metadata": {},
   "outputs": [
    {
     "data": {
      "text/plain": [
       "array([ 0.87703239, -1.08283897, -2.28581821,  0.5643768 , -2.31306805])"
      ]
     },
     "execution_count": 129,
     "metadata": {},
     "output_type": "execute_result"
    }
   ],
   "source": [
    "testing_data_transformed[1]"
   ]
  },
  {
   "cell_type": "markdown",
   "metadata": {},
   "source": [
    "#### calculate logprobs per category"
   ]
  },
  {
   "cell_type": "code",
   "execution_count": 124,
   "metadata": {},
   "outputs": [],
   "source": [
    "def calc_logp_posterior_predictive( U_model, category):\n",
    "    mean = posterior_predictive_params[category]['mean']\n",
    "    cov_diag = posterior_predictive_params[category]['cov_diag']\n",
    "\n",
    "    return gaussian(mean, np.diag(cov_diag)).logpdf(U_model)"
   ]
  },
  {
   "cell_type": "code",
   "execution_count": 125,
   "metadata": {},
   "outputs": [],
   "source": [
    "logpps_by_category = []\n",
    "K =  [k for k in posterior_params.keys()]\n",
    "\n",
    "for k in K:\n",
    "    logpps_k = calc_logp_posterior_predictive(testing_data_transformed, k)\n",
    "    logpps_by_category.append(logpps_k)\n",
    "\n",
    "logpps_by_category = np.stack(logpps_by_category, axis=-1)\n",
    "\n",
    "logps = logpps_by_category\n",
    "K=np.asarray(K)"
   ]
  },
  {
   "cell_type": "code",
   "execution_count": 132,
   "metadata": {},
   "outputs": [
    {
     "data": {
      "text/plain": [
       "array([-14.88452282, -11.90804544, -20.49812949, -12.86971187,\n",
       "       -18.05071968,  -9.49455956, -20.78898235])"
      ]
     },
     "execution_count": 132,
     "metadata": {},
     "output_type": "execute_result"
    }
   ],
   "source": [
    "logps[1]"
   ]
  },
  {
   "cell_type": "code",
   "execution_count": 130,
   "metadata": {},
   "outputs": [
    {
     "data": {
      "text/plain": [
       "array([5, 0, 4, 1, 9, 2, 3], dtype=uint8)"
      ]
     },
     "execution_count": 130,
     "metadata": {},
     "output_type": "execute_result"
    }
   ],
   "source": [
    "K"
   ]
  },
  {
   "cell_type": "code",
   "execution_count": 131,
   "metadata": {},
   "outputs": [
    {
     "data": {
      "text/plain": [
       "{5: {'mean': array([-0.0260943 , -0.2015402 ,  0.94494257, -1.59165761, -4.46360036]),\n",
       "  'cov_diag': array([1.02927632, 1.04474509, 1.04628472, 1.04672831, 1.04696822])},\n",
       " 0: {'mean': array([ 0.12093125, -1.51225195, -1.42841355, -0.18384909,  1.28488211]),\n",
       "  'cov_diag': array([1.02553802, 1.03656465, 1.03758635, 1.03787835, 1.03803584])},\n",
       " 4: {'mean': array([-0.0264447 ,  0.55988935,  1.16958617,  0.09032985,  1.84245642]),\n",
       "  'cov_diag': array([1.02765694, 1.04106975, 1.04236318, 1.04273449, 1.04293506])},\n",
       " 1: {'mean': array([-0.61892838,  0.34113504, -1.00011398, -0.58290961,  0.85253833]),\n",
       "  'cov_diag': array([1.03551477, 1.06116649, 1.06408036, 1.06493378, 1.06539799])},\n",
       " 9: {'mean': array([0.09807979, 0.4165823 , 1.39475555, 1.07633123, 1.04385177]),\n",
       "  'cov_diag': array([1.02927632, 1.04474509, 1.04628472, 1.04672831, 1.04696822])},\n",
       " 2: {'mean': array([ 0.00967479, -1.03282667, -0.28151309, -0.22573668, -0.13072879]),\n",
       "  'cov_diag': array([1.03823025, 1.06969214, 1.0735002 , 1.07462517, 1.07523894])},\n",
       " 3: {'mean': array([ 0.01874813, -0.50514402,  2.02031233, -0.82056579,  1.17023485]),\n",
       "  'cov_diag': array([1.02927632, 1.04474509, 1.04628472, 1.04672831, 1.04696822])}}"
      ]
     },
     "execution_count": 131,
     "metadata": {},
     "output_type": "execute_result"
    }
   ],
   "source": [
    "posterior_params"
   ]
  },
  {
   "cell_type": "code",
   "execution_count": 133,
   "metadata": {},
   "outputs": [
    {
     "data": {
      "text/plain": [
       "array([[-24.36069019, -13.07182478,  -6.20468733, -10.70926476,\n",
       "         -7.86637313, -10.58041423,  -5.37656994],\n",
       "       [-14.88452282, -11.90804544, -20.49812949, -12.86971187,\n",
       "        -18.05071968,  -9.49455956, -20.78898235],\n",
       "       [-25.30865332,  -5.06871604, -11.6293367 ,  -8.6653457 ,\n",
       "        -12.38767577,  -6.81973351, -11.32241736],\n",
       "       [ -7.99286592, -30.80829647, -28.27831292, -25.97136361,\n",
       "        -22.84417577, -19.22153535, -25.06332125],\n",
       "       [-21.71746554, -14.58790976,  -7.05162837, -12.02260311,\n",
       "         -6.38424104, -10.66762796,  -7.62350316],\n",
       "       [-27.69064821,  -5.22597309, -12.0838134 ,  -8.199894  ,\n",
       "        -13.96161434,  -7.80661761, -12.07199974],\n",
       "       [-29.95419398, -12.23564455,  -5.64477372, -10.03682013,\n",
       "         -7.45216587, -11.48269838,  -7.19651094],\n",
       "       [-27.66936312,  -9.74333092,  -6.53705358,  -8.90860768,\n",
       "         -6.1647328 ,  -9.27318414,  -9.71071758],\n",
       "       [-13.06392172, -10.72249282, -10.97685506,  -9.21875685,\n",
       "         -8.68574634,  -6.76022447, -11.58274301],\n",
       "       [-25.69549295, -17.29721158,  -7.30854907, -13.07977973,\n",
       "         -8.02384756, -13.09851635,  -6.5451134 ],\n",
       "       [ -7.61388126, -26.26477907, -30.16312776, -23.26390083,\n",
       "        -29.42814968, -18.05863035, -24.28376015],\n",
       "       [-10.26617272, -10.23916845, -12.38771506,  -9.6895439 ,\n",
       "        -11.26504365,  -6.27788702, -10.58787716],\n",
       "       [-29.3458366 , -16.80886201,  -6.41848876, -12.83327164,\n",
       "         -5.85050566, -13.46317221,  -8.76732561],\n",
       "       [ -5.79535879, -24.00754323, -21.7738167 , -19.88399543,\n",
       "        -18.77647055, -14.34176559, -17.82724815],\n",
       "       [-26.41394896,  -5.01426238, -12.02296506,  -8.25517134,\n",
       "        -12.23365655,  -7.10464439, -13.26939692],\n",
       "       [-13.4037642 ,  -9.42563137, -11.79782989,  -9.59180059,\n",
       "        -11.72025032,  -6.73578522, -10.09984808],\n",
       "       [-24.24919285, -15.50129164,  -6.83846281, -11.69813112,\n",
       "         -6.5870436 , -11.94098983,  -8.70373614],\n",
       "       [-18.93954376, -13.15884056,  -6.97265337, -10.04036117,\n",
       "         -7.59245917,  -9.5192986 ,  -6.72415346],\n",
       "       [-17.98721201,  -8.89330352, -11.44003926,  -8.73199596,\n",
       "        -10.38987671,  -7.394695  , -13.09356559],\n",
       "       [-30.59187383, -13.34484495,  -5.77604706, -10.65308806,\n",
       "         -5.99380388, -11.98011942,  -8.92142356],\n",
       "       [-25.70170775, -13.31268936,  -6.76285643,  -9.82412015,\n",
       "         -8.57405317, -11.00842596,  -6.340979  ],\n",
       "       [-26.44575266, -15.18289065, -13.97517279, -13.55828839,\n",
       "        -10.72050438, -12.90875816, -18.84829721],\n",
       "       [-18.3449286 ,  -8.94453773,  -8.62500241,  -9.35770587,\n",
       "         -6.78003925,  -6.53761092,  -9.24530457],\n",
       "       [-17.49144727,  -8.51735194,  -8.0988555 ,  -6.18161383,\n",
       "         -7.18066563,  -6.34350318, -10.18099196],\n",
       "       [-26.17571193,  -9.81446572,  -6.09458332,  -9.6511755 ,\n",
       "         -6.55488414,  -8.97988436,  -7.16324539],\n",
       "       [ -7.9861302 , -43.10746195, -42.31526262, -36.99736828,\n",
       "        -37.35181707, -28.6366828 , -35.36567793],\n",
       "       [-22.8421655 , -12.07300005,  -6.66003255, -10.89724165,\n",
       "         -7.09247027,  -9.61042177,  -6.53061751],\n",
       "       [-26.65705881, -17.87493821,  -7.62635628, -13.71377436,\n",
       "         -6.30666968, -13.66211891, -10.16352906],\n",
       "       [ -5.83695519, -24.85748956, -24.13731464, -18.97991154,\n",
       "        -21.12140222, -15.38513684, -21.87944762],\n",
       "       [-25.97101511,  -5.51712829,  -9.72255902,  -8.55574539,\n",
       "         -9.68696368,  -6.85206916, -10.73066438],\n",
       "       [-22.32383369,  -8.23410242,  -9.69338609,  -6.06761504,\n",
       "        -11.48996156,  -8.39848584, -12.00608956],\n",
       "       [-26.50310111,  -5.97119181,  -8.82248202,  -8.51261055,\n",
       "         -9.12217566,  -7.22273662,  -9.99498261],\n",
       "       [-25.81145198, -10.56574444, -11.09478612,  -8.98894349,\n",
       "        -12.38874551, -10.83729242, -14.20089039],\n",
       "       [-12.74480286, -18.09497486, -18.11626237, -19.24582465,\n",
       "        -14.13084506, -11.42448988, -14.57887421],\n",
       "       [-26.16022869, -11.83662227,  -7.69462931,  -8.13922246,\n",
       "        -10.70329995, -10.83034373,  -7.78474454],\n",
       "       [-10.6784211 ,  -9.6806227 , -12.0151957 ,  -8.09416405,\n",
       "        -11.19144727,  -6.14522176, -11.34881137],\n",
       "       [-24.28678961, -11.85776454,  -5.82548944,  -9.04228379,\n",
       "         -6.97251661,  -9.95756216,  -7.15545816],\n",
       "       [-27.56053503,  -5.38269484, -10.07321664,  -8.6395575 ,\n",
       "        -10.26412971,  -7.2414811 , -11.30192807],\n",
       "       [-16.27863913,  -8.31809484, -16.15089352,  -8.91611106,\n",
       "        -15.92460342,  -7.55475885, -16.4768289 ],\n",
       "       [-26.13535028,  -5.02338484, -12.81421682,  -7.91693836,\n",
       "        -13.31403283,  -7.25706979, -14.09496713],\n",
       "       [-25.6341009 ,  -5.76273736, -10.4851464 ,  -9.54822452,\n",
       "        -10.57592347,  -6.98718315, -10.41561177],\n",
       "       [-25.22098792,  -9.31706626,  -5.16591405,  -8.26745239,\n",
       "         -6.11974821,  -8.37584387,  -6.09823554],\n",
       "       [-37.29138595, -13.95719404,  -6.5012616 , -10.79772696,\n",
       "         -8.73607023, -14.45518445, -10.23070359],\n",
       "       [-19.47566313,  -5.75372833, -10.92685507,  -8.02713025,\n",
       "        -10.21471351,  -5.55632744, -11.07026264],\n",
       "       [-24.56563817,  -5.96056334,  -8.05287615,  -6.24877788,\n",
       "         -8.40080467,  -6.79334179, -10.61217618],\n",
       "       [-16.61451612,  -8.9332267 , -10.15847589,  -6.38069307,\n",
       "         -9.69358935,  -7.00947151, -12.42924247],\n",
       "       [-28.41331613,  -7.44643364,  -8.58194068,  -8.18185254,\n",
       "         -9.02790322,  -8.73306487, -11.66057508],\n",
       "       [-22.96063548,  -6.91819671,  -7.60813582,  -7.80801244,\n",
       "         -6.56971237,  -6.36520505,  -9.15258803],\n",
       "       [-33.2154699 , -24.22391172, -10.22224062, -16.03844759,\n",
       "        -10.98664259, -19.99431534, -14.37711142],\n",
       "       [-23.83893045, -16.17456845,  -7.1325256 , -12.79599242,\n",
       "         -6.19297159, -12.03171654,  -8.55364454],\n",
       "       [-21.23606495, -14.62836756, -15.87817075, -13.78575024,\n",
       "        -11.77109957, -11.3357765 , -19.08040119],\n",
       "       [-15.43581705, -12.00649865, -13.51756984,  -8.97867345,\n",
       "        -13.55683118,  -9.37875185, -15.02941221],\n",
       "       [-14.19310085, -11.56073367,  -7.18016123,  -8.41218703,\n",
       "         -6.20569651,  -7.07917694,  -7.14706614],\n",
       "       [-16.42476587,  -8.69907875,  -9.96331417,  -9.13619306,\n",
       "         -9.85483982,  -6.72309001,  -9.24443654],\n",
       "       [-13.8470048 ,  -9.21243949, -10.82795562,  -9.18365495,\n",
       "         -9.91988159,  -6.3967416 , -10.20942004],\n",
       "       [-10.30179358, -17.84966536, -15.79708176, -13.33907859,\n",
       "        -12.47162407, -10.91150088, -16.36631624],\n",
       "       [-22.68802834, -19.90056327,  -9.39847708, -15.22679176,\n",
       "         -8.14063322, -14.35135603, -10.71481493],\n",
       "       [-25.52534554,  -5.0987387 , -11.72892477,  -8.52804733,\n",
       "        -12.90830228,  -7.04032276, -11.40410291],\n",
       "       [-25.13004212, -19.5493427 ,  -8.01747351, -14.82262618,\n",
       "         -6.88000234, -14.33823045,  -9.49135152],\n",
       "       [-18.81515321,  -8.23383499,  -8.82781112,  -9.79008885,\n",
       "         -8.5483883 ,  -6.28321182,  -6.57697918],\n",
       "       [-20.39082685, -14.58496627,  -9.19812462, -12.56843474,\n",
       "         -8.66537084, -10.94377591,  -9.67873319],\n",
       "       [-14.31072958, -11.63813697, -10.85304219,  -9.17976848,\n",
       "         -8.52567244,  -7.35845459, -11.41384836],\n",
       "       [-26.43705945,  -8.45328862,  -6.22210142,  -8.29933082,\n",
       "         -6.24936213,  -8.23158801,  -8.52120393],\n",
       "       [-23.92795558,  -6.99734367,  -7.19555766,  -5.13794175,\n",
       "         -7.98076938,  -7.12129421,  -9.84504893],\n",
       "       [-24.24077745, -12.22624281,  -5.14262534,  -8.51483816,\n",
       "         -6.36198157,  -9.81912366,  -5.92480852],\n",
       "       [-28.41892028,  -7.85223335,  -6.18380318,  -7.32147636,\n",
       "         -6.53127268,  -8.39935365,  -9.34217179],\n",
       "       [-12.78706568,  -9.15123968,  -9.78073614,  -9.10654668,\n",
       "         -8.36696894,  -5.60793246,  -8.4307022 ],\n",
       "       [-22.58508863, -12.06834048,  -5.47018328,  -9.80501047,\n",
       "         -5.2457872 ,  -9.1480297 ,  -6.3060545 ],\n",
       "       [-28.93805391, -13.71228542, -14.39174325,  -8.75876131,\n",
       "        -16.73300291, -14.25406857, -19.37974255],\n",
       "       [ -7.12054916, -18.54029385, -21.89510709, -17.81822541,\n",
       "        -20.27242277, -11.75124754, -16.85225749],\n",
       "       [-17.39317571, -13.01792208,  -7.02753624, -10.53711782,\n",
       "         -7.19224589,  -8.82842526,  -5.7331868 ],\n",
       "       [ -8.23884989, -39.66089013, -42.61816826, -34.82557444,\n",
       "        -39.96621937, -27.5462701 , -35.35090467],\n",
       "       [ -8.23985703, -12.7516718 , -16.06361405, -10.75866415,\n",
       "        -14.58112948,  -7.89085028, -14.60974416],\n",
       "       [-24.58405587,  -9.27527559,  -8.56708793,  -6.36388386,\n",
       "        -10.37073298,  -8.90134049,  -9.82857933],\n",
       "       [-26.58630239,  -5.09514005, -10.53283453,  -8.29961348,\n",
       "        -10.59813935,  -6.8517657 , -11.59481146],\n",
       "       [-28.89686236,  -8.69423926,  -5.2626628 ,  -8.3891123 ,\n",
       "         -6.26103862,  -8.79211947,  -6.72346922],\n",
       "       [-20.70098631,  -7.74652536, -12.49317162,  -7.47895955,\n",
       "        -13.86032118,  -8.10335748, -13.74581823],\n",
       "       [-22.47946702,  -7.54491912,  -6.20850872,  -8.02111434,\n",
       "         -6.66316657,  -6.74419421,  -6.32153037],\n",
       "       [-28.90634558,  -6.81682259,  -6.8386528 ,  -6.48825748,\n",
       "         -8.27586128,  -8.05441638,  -8.7704757 ],\n",
       "       [-21.66583161, -18.73853859, -10.35330479, -13.71501514,\n",
       "        -12.05678637, -13.71339583,  -7.61458832],\n",
       "       [-24.50719787, -13.47049255,  -6.31343826, -11.33584844,\n",
       "         -6.19762782, -10.65978118,  -7.37670913],\n",
       "       [-23.37820797, -20.30837261, -18.14988889, -18.29812653,\n",
       "        -12.9629801 , -15.27246455, -21.69692527],\n",
       "       [-17.05004283, -10.45905805, -11.82455728,  -7.84366603,\n",
       "         -9.99292207,  -7.83972744, -14.48949034],\n",
       "       [-27.64263229, -14.70587826,  -6.81285817, -12.1477663 ,\n",
       "         -8.27219594, -12.54271686,  -7.40249871],\n",
       "       [-21.14034865,  -7.98469506,  -6.00743892,  -5.77132449,\n",
       "         -7.06344054,  -7.00850688,  -7.66174266],\n",
       "       [-29.46587465, -20.60680564,  -8.82114222, -13.39688827,\n",
       "         -9.27552812, -16.74170512, -12.76480215],\n",
       "       [-29.27007592,  -9.66941424,  -5.84065849,  -8.04570958,\n",
       "         -8.25673081,  -9.81778544,  -6.63757224],\n",
       "       [-17.54276788, -11.84679598, -10.67519832, -10.14491624,\n",
       "         -9.23213569,  -8.83657484, -12.46163642],\n",
       "       [-21.36583406, -15.833346  , -11.19765054, -14.79496717,\n",
       "         -7.67372066, -11.29025086, -12.65955014],\n",
       "       [-28.50539679,  -5.16949096, -12.44414321,  -8.02340274,\n",
       "        -13.96797282,  -7.93850718, -13.10008559],\n",
       "       [-16.9956007 , -11.82563746, -14.70460279,  -8.11149436,\n",
       "        -16.63045712, -10.17509062, -15.53950988],\n",
       "       [-32.60233913, -19.79267894, -19.08025559, -19.20102321,\n",
       "        -14.07108952, -17.20672987, -24.39510684],\n",
       "       [-24.90002414,  -7.40844832,  -6.0137156 ,  -7.26414601,\n",
       "         -6.27766817,  -6.99424504,  -6.95108184],\n",
       "       [-21.57848012, -11.84569634, -12.22162293,  -6.8162159 ,\n",
       "        -14.44477381, -10.90936215, -14.94621771],\n",
       "       [-29.78206818,  -6.23984472, -10.51465999,  -8.16937351,\n",
       "        -10.39915474,  -8.41147524, -13.89865119],\n",
       "       [-20.10000066, -14.134009  ,  -7.49205625,  -9.83466657,\n",
       "         -5.76895732,  -9.85066112,  -9.84426755],\n",
       "       [-26.57227067,  -6.40263046,  -7.94504543,  -8.19676692,\n",
       "         -8.3206043 ,  -7.40324082,  -9.49522319],\n",
       "       [-26.33948857,  -6.00085793,  -7.30424147,  -5.83673262,\n",
       "         -8.45182793,  -7.25373619,  -9.88692094],\n",
       "       [-16.0635127 , -16.34996043, -18.06304037, -16.30945108,\n",
       "        -13.34031053, -11.28518489, -18.78772116],\n",
       "       [-28.29175916, -16.31321876,  -7.54210428, -11.66320333,\n",
       "         -7.5188413 , -13.64640284, -11.30092433]])"
      ]
     },
     "execution_count": 133,
     "metadata": {},
     "output_type": "execute_result"
    }
   ],
   "source": [
    "logps"
   ]
  },
  {
   "cell_type": "markdown",
   "metadata": {},
   "source": [
    "#### get highest logprob"
   ]
  },
  {
   "cell_type": "code",
   "execution_count": 127,
   "metadata": {},
   "outputs": [],
   "source": [
    "#TODOD results differ from oiginal somewhere have mistake\n",
    "predictions = K[np.argmax(logps, axis=-1)]"
   ]
  },
  {
   "cell_type": "code",
   "execution_count": 128,
   "metadata": {},
   "outputs": [
    {
     "data": {
      "text/plain": [
       "array([3, 2, 0, 5, 9, 0, 4, 9, 2, 3, 5, 2, 9, 5, 0, 2, 9, 3, 2, 4, 3, 9,\n",
       "       2, 1, 4, 5, 3, 9, 5, 0, 1, 0, 1, 2, 4, 2, 4, 0, 2, 0, 0, 4, 4, 2,\n",
       "       0, 1, 0, 2, 4, 9, 2, 1, 9, 2, 2, 5, 9, 0, 9, 2, 9, 2, 4, 1, 4, 4,\n",
       "       2, 9, 1, 5, 3, 5, 2, 1, 0, 4, 1, 4, 1, 3, 9, 9, 2, 4, 1, 4, 4, 2,\n",
       "       9, 0, 1, 9, 4, 1, 0, 9, 0, 1, 2, 9], dtype=uint8)"
      ]
     },
     "execution_count": 128,
     "metadata": {},
     "output_type": "execute_result"
    }
   ],
   "source": [
    "predictions"
   ]
  },
  {
   "cell_type": "code",
   "execution_count": null,
   "metadata": {},
   "outputs": [],
   "source": []
  }
 ],
 "metadata": {
  "kernelspec": {
   "display_name": "Python 3",
   "language": "python",
   "name": "python3"
  },
  "language_info": {
   "codemirror_mode": {
    "name": "ipython",
    "version": 3
   },
   "file_extension": ".py",
   "mimetype": "text/x-python",
   "name": "python",
   "nbconvert_exporter": "python",
   "pygments_lexer": "ipython3",
   "version": "3.7.4"
  }
 },
 "nbformat": 4,
 "nbformat_minor": 2
}
