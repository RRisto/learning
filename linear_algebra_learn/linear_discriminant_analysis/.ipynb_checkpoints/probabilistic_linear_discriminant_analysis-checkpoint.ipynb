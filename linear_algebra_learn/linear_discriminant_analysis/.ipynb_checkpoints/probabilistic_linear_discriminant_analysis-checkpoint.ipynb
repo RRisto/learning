{
 "cells": [
  {
   "cell_type": "code",
   "execution_count": 69,
   "metadata": {},
   "outputs": [],
   "source": [
    "import numpy as np\n",
    "from sklearn.decomposition import PCA\n",
    "from scipy.linalg import eigh\n",
    "from scipy.stats import multivariate_normal as gaussian"
   ]
  },
  {
   "cell_type": "markdown",
   "metadata": {},
   "source": [
    "## Data"
   ]
  },
  {
   "cell_type": "code",
   "execution_count": 70,
   "metadata": {},
   "outputs": [],
   "source": [
    "training_data = np.load('mnist_demo/mnist_data/mnist_train_images.npy')\n",
    "training_labels = np.load('mnist_demo/mnist_data/mnist_train_labels.npy')"
   ]
  },
  {
   "cell_type": "code",
   "execution_count": 71,
   "metadata": {},
   "outputs": [
    {
     "data": {
      "text/plain": [
       "{0, 1, 2, 3, 4, 5, 6, 7, 8, 9}"
      ]
     },
     "execution_count": 71,
     "metadata": {},
     "output_type": "execute_result"
    }
   ],
   "source": [
    "set(training_labels)"
   ]
  },
  {
   "cell_type": "code",
   "execution_count": 72,
   "metadata": {},
   "outputs": [],
   "source": [
    "testing_data = np.load('mnist_demo/mnist_data/mnist_test_images.npy')\n",
    "testing_labels = np.load('mnist_demo/mnist_data/mnist_test_labels.npy')"
   ]
  },
  {
   "cell_type": "markdown",
   "metadata": {},
   "source": [
    "## Helpers"
   ]
  },
  {
   "cell_type": "code",
   "execution_count": 73,
   "metadata": {},
   "outputs": [],
   "source": [
    "def calc_scatter_matrices(X, Y):\n",
    "    \"\"\" See Equations (1) on p.532 of Ioffe 2006. \"\"\"\n",
    "    assert len(X.shape) == 2\n",
    "    assert X.shape[0] == len(Y)\n",
    "\n",
    "    unique_labels = np.unique(Y)\n",
    "    labels = np.asarray(Y)\n",
    "\n",
    "    m = X.mean(axis=0)\n",
    "    N = X.shape[0]\n",
    "\n",
    "    cov_ks = []\n",
    "    m_ks = []\n",
    "    n_ks = []\n",
    "\n",
    "    for k in unique_labels:\n",
    "        bool_idxs = labels == k\n",
    "        X_k = X[bool_idxs]\n",
    "\n",
    "        m_ks.append(X_k.mean(axis=0))\n",
    "        n_ks.append(bool_idxs.sum())\n",
    "\n",
    "        cov_ks.append(np.cov(X_k.T))\n",
    "\n",
    "    n_ks = np.asarray(n_ks)\n",
    "    m_ks = np.asarray(m_ks)\n",
    "\n",
    "    m_ks_minus_m = m_ks - m\n",
    "    S_b = np.matmul(m_ks_minus_m.T * (n_ks / N), m_ks_minus_m)\n",
    "\n",
    "    S_w = np.asarray(cov_ks) * ((n_ks - 1) / N)[:, None, None]\n",
    "    S_w = np.sum(S_w, axis=0)\n",
    "\n",
    "    return S_b, S_w\n"
   ]
  },
  {
   "cell_type": "code",
   "execution_count": 74,
   "metadata": {},
   "outputs": [],
   "source": [
    "def calc_m(X):\n",
    "    \"\"\" See Fig. 2 on p.537 of Ioffe 2006. \"\"\"\n",
    "    assert len(X.shape) == 2\n",
    "    return X.mean(axis=0)\n",
    "\n",
    "def calc_W(S_b, S_w):\n",
    "    \"\"\" See Fig. 2 on p.537 of Ioffe 2006. \"\"\"\n",
    "    eigenvalues, eigenvectors = eigh(S_b, S_w)\n",
    "    return eigenvectors\n",
    "\n",
    "def calc_Lambda_b(S_b, W):\n",
    "    \"\"\" See Fig. 2 on p.537 of Ioffe 2006. \"\"\"\n",
    "    return np.matmul(np.matmul(W.T, S_b), W)\n",
    "\n",
    "def calc_Lambda_w(S_w, W):\n",
    "    \"\"\" See Fig. 2 on p.537 of Ioffe 2006. \"\"\"\n",
    "    return np.matmul(np.matmul(W.T, S_w), W)\n",
    "\n",
    "def calc_n_avg(Y):\n",
    "    \"\"\" This is the \\\"hack\\\" suggested in Fig 2 on p.537 of Ioffe 2006. \"\"\"\n",
    "    unique = np.unique(Y)\n",
    "    return len(Y) / unique.shape[0]\n",
    "\n",
    "def calc_A(n_avg, Lambda_w, W):\n",
    "    \"\"\" See Fig. 2 on p.537 of Ioffe 2006. \"\"\"\n",
    "    Lambda_w_diagonal = Lambda_w.diagonal()  # Should be diagonal matrix.\n",
    "    inv_W_T = np.linalg.inv(W.T)\n",
    "    return inv_W_T * (n_avg / (n_avg - 1) * Lambda_w_diagonal) ** .5\n",
    "\n",
    "\n",
    "def calc_Psi(Lambda_w, Lambda_b, n_avg):\n",
    "    \"\"\" See Fig. 2 on p.537 of Ioffe 2006. \"\"\"\n",
    "    Lambda_w_diagonal = Lambda_w.diagonal()  # Should be diagonal matrix.\n",
    "    Lambda_b_diagonal = Lambda_b.diagonal()  # Should be diagonal matrix.\n",
    "    Psi = (n_avg - 1) / n_avg * Lambda_b_diagonal / Lambda_w_diagonal\n",
    "    Psi -= 1 / n_avg\n",
    "    Psi[Psi <= 0] = 0\n",
    "\n",
    "    return np.diag(Psi)\n",
    "\n",
    "def get_relevant_U_dims(Psi):\n",
    "    \"\"\" See Fig. 2 on p.537 of Ioffe 2006. \"\"\"\n",
    "    relevant_dims = np.squeeze(np.argwhere(Psi.diagonal() != 0))\n",
    "    if relevant_dims.shape == ():\n",
    "        relevant_dims = relevant_dims.reshape(1,)\n",
    "    return relevant_dims\n",
    "\n",
    "def optimize_maximum_likelihood(X, labels):\n",
    "    \"\"\" Performs the optimization in Fig. 2 of p.537 of Ioffe 2006.\n",
    "\n",
    "    DESCRIPTION\n",
    "     - The main model parameters are `m`, `A`, and `Psi`.\n",
    "     - However, to improve the performance (speed and numerical stability)\n",
    "        of the plda.Model object,\n",
    "        inv_A and relevant_U_dims are also returned here.\n",
    "\n",
    "    ADDITIONAL NOTES\n",
    "     Be sure to test that np.cov(X.T) is full rank before running this.\n",
    "\n",
    "     Recall that there are 4 \\\"spaces\\\":\n",
    "      'D' (data) <---> 'X' (preprocessed) <---> 'U' (latent) <---> 'U_model'\n",
    "\n",
    "    ARGUMENTS\n",
    "     X  (numpy.ndarray), shape=(n_data, n_dimensions)\n",
    "       - Data in statistics format, i.e. row-wise.\n",
    "\n",
    "     labels  (list or numpy.ndarray), length=X.shape[0]\n",
    "       - Labels for the data in `X`.\n",
    "       - Must be sorted in the same order as `X`.\n",
    "\n",
    "    RETURNS\n",
    "     m  (numpy.ndarray), shape=X.shape[-1]\n",
    "       - The mean of the row vectors in X.\n",
    "       - This is the prior mean fitted via maximum likelihood.\n",
    "\n",
    "     A  (numpy.ndarray), shape=(X.shape[-1], X.shape[-1])\n",
    "       - Transformation from X space to the latent U space.\n",
    "\n",
    "     Psi  (numpy.ndarray), shape=(X.shape[-1], X.shape[-1])\n",
    "       - The covariance matrix of the prior distribution on\n",
    "          the category means in U space.\n",
    "\n",
    "     relevant_U_dims  (numpy.ndarray), shape=(len(np.unique(labels)) - 1,)\n",
    "       - The \\\"effective\\\" latent dimensions,\n",
    "          i.e. the ones that are actually used by the model.\n",
    "\n",
    "     inv_A  (numpy.ndarray), shape=A.shape\n",
    "       - The inverse of the matrix A.\n",
    "       - Transformation from the latent U space to the X space.\n",
    "    \"\"\"\n",
    "    assert len(X.shape) == 2\n",
    "    assert X.shape[0] == len(labels)\n",
    "\n",
    "    m = X.mean(axis=0)\n",
    "\n",
    "    S_b, S_w = calc_scatter_matrices(X, labels)\n",
    "    W = calc_W(S_b, S_w)\n",
    "\n",
    "    Lambda_b = calc_Lambda_b(S_b, W)\n",
    "    Lambda_w = calc_Lambda_w(S_w, W)\n",
    "    n_avg = calc_n_avg(labels)\n",
    "\n",
    "    A = calc_A(n_avg, Lambda_w, W)\n",
    "    inv_A = np.linalg.inv(A)\n",
    "\n",
    "    Psi = calc_Psi(Lambda_w, Lambda_b, n_avg)\n",
    "    relevant_U_dims = get_relevant_U_dims(Psi)\n",
    "\n",
    "    return m, A, Psi, relevant_U_dims, inv_A\n",
    "\n"
   ]
  },
  {
   "cell_type": "markdown",
   "metadata": {},
   "source": [
    "## Calculate"
   ]
  },
  {
   "cell_type": "code",
   "execution_count": 75,
   "metadata": {},
   "outputs": [],
   "source": [
    "data=training_data\n",
    "labels=training_labels\n",
    "n_principal_components=5"
   ]
  },
  {
   "cell_type": "markdown",
   "metadata": {},
   "source": [
    "#### Scatte matrices (not needed if n_principal components set)"
   ]
  },
  {
   "cell_type": "code",
   "execution_count": 76,
   "metadata": {},
   "outputs": [],
   "source": [
    "S_b, S_w = calc_scatter_matrices(data, labels)\n",
    "matrix_rank = np.linalg.matrix_rank(S_w)"
   ]
  },
  {
   "cell_type": "code",
   "execution_count": 77,
   "metadata": {},
   "outputs": [
    {
     "data": {
      "text/plain": [
       "array([[0., 0., 0., ..., 0., 0., 0.],\n",
       "       [0., 0., 0., ..., 0., 0., 0.],\n",
       "       [0., 0., 0., ..., 0., 0., 0.],\n",
       "       ...,\n",
       "       [0., 0., 0., ..., 0., 0., 0.],\n",
       "       [0., 0., 0., ..., 0., 0., 0.],\n",
       "       [0., 0., 0., ..., 0., 0., 0.]])"
      ]
     },
     "execution_count": 77,
     "metadata": {},
     "output_type": "execute_result"
    }
   ],
   "source": [
    "S_b"
   ]
  },
  {
   "cell_type": "code",
   "execution_count": 78,
   "metadata": {},
   "outputs": [
    {
     "data": {
      "text/plain": [
       "array([[0., 0., 0., ..., 0., 0., 0.],\n",
       "       [0., 0., 0., ..., 0., 0., 0.],\n",
       "       [0., 0., 0., ..., 0., 0., 0.],\n",
       "       ...,\n",
       "       [0., 0., 0., ..., 0., 0., 0.],\n",
       "       [0., 0., 0., ..., 0., 0., 0.],\n",
       "       [0., 0., 0., ..., 0., 0., 0.]])"
      ]
     },
     "execution_count": 78,
     "metadata": {},
     "output_type": "execute_result"
    }
   ],
   "source": [
    "S_w"
   ]
  },
  {
   "cell_type": "code",
   "execution_count": 79,
   "metadata": {},
   "outputs": [
    {
     "data": {
      "text/plain": [
       "190"
      ]
     },
     "execution_count": 79,
     "metadata": {},
     "output_type": "execute_result"
    }
   ],
   "source": [
    "matrix_rank"
   ]
  },
  {
   "cell_type": "markdown",
   "metadata": {},
   "source": [
    "well set it to n_componentes"
   ]
  },
  {
   "cell_type": "code",
   "execution_count": 80,
   "metadata": {},
   "outputs": [],
   "source": [
    "matrix_rank=n_principal_components"
   ]
  },
  {
   "cell_type": "markdown",
   "metadata": {},
   "source": [
    "#### PCA"
   ]
  },
  {
   "cell_type": "code",
   "execution_count": 81,
   "metadata": {},
   "outputs": [
    {
     "data": {
      "text/plain": [
       "PCA(copy=True, iterated_power='auto', n_components=5, random_state=None,\n",
       "    svd_solver='auto', tol=0.0, whiten=False)"
      ]
     },
     "execution_count": 81,
     "metadata": {},
     "output_type": "execute_result"
    }
   ],
   "source": [
    "pca = PCA(n_components=matrix_rank)\n",
    "pca.fit(data)"
   ]
  },
  {
   "cell_type": "markdown",
   "metadata": {},
   "source": [
    "### transform"
   ]
  },
  {
   "cell_type": "code",
   "execution_count": 82,
   "metadata": {},
   "outputs": [],
   "source": [
    "# X = self.transform(data, from_space='D', to_space='X')\n",
    "\n",
    "X=pca.transform(data)"
   ]
  },
  {
   "cell_type": "code",
   "execution_count": 83,
   "metadata": {},
   "outputs": [
    {
     "data": {
      "text/plain": [
       "(200, 5)"
      ]
     },
     "execution_count": 83,
     "metadata": {},
     "output_type": "execute_result"
    }
   ],
   "source": [
    "X.shape"
   ]
  },
  {
   "cell_type": "code",
   "execution_count": 84,
   "metadata": {},
   "outputs": [
    {
     "data": {
      "text/plain": [
       "array([ 1.447227  , -1.4779868 , -0.71444005,  0.561218  , -1.1190547 ],\n",
       "      dtype=float32)"
      ]
     },
     "execution_count": 84,
     "metadata": {},
     "output_type": "execute_result"
    }
   ],
   "source": [
    "X[0]"
   ]
  },
  {
   "cell_type": "markdown",
   "metadata": {},
   "source": [
    "#### learn params"
   ]
  },
  {
   "cell_type": "code",
   "execution_count": 85,
   "metadata": {},
   "outputs": [],
   "source": [
    "m, A, Psi, relevant_U_dims, inv_A = optimize_maximum_likelihood(X, labels)"
   ]
  },
  {
   "cell_type": "code",
   "execution_count": 86,
   "metadata": {},
   "outputs": [
    {
     "data": {
      "text/plain": [
       "array([-1.6003847e-07, -5.4836274e-08, -7.1823600e-08, -8.9704990e-08,\n",
       "        9.0003013e-08], dtype=float32)"
      ]
     },
     "execution_count": 86,
     "metadata": {},
     "output_type": "execute_result"
    }
   ],
   "source": [
    "m"
   ]
  },
  {
   "cell_type": "code",
   "execution_count": 87,
   "metadata": {},
   "outputs": [
    {
     "data": {
      "text/plain": [
       "array([[ 0.03050822,  0.94798993, -0.03549896, -0.26389018, -0.93577497],\n",
       "       [-0.16054445,  0.26030023,  1.1934572 ,  0.13195544,  0.04582924],\n",
       "       [-0.52330289, -0.28802894, -0.0927878 ,  0.85863152, -0.30746867],\n",
       "       [-1.57719553, -0.16134386, -0.01523872, -0.32562985, -0.00387658],\n",
       "       [ 0.33287221, -1.01493607,  0.2222635 , -0.2481869 , -0.35077958]])"
      ]
     },
     "execution_count": 87,
     "metadata": {},
     "output_type": "execute_result"
    }
   ],
   "source": [
    "A"
   ]
  },
  {
   "cell_type": "code",
   "execution_count": 88,
   "metadata": {},
   "outputs": [
    {
     "data": {
      "text/plain": [
       "array([[0.07600691, 0.        , 0.        , 0.        , 0.        ],\n",
       "       [0.        , 0.7413552 , 0.        , 0.        , 0.        ],\n",
       "       [0.        , 0.        , 1.65183813, 0.        , 0.        ],\n",
       "       [0.        , 0.        , 0.        , 2.49805864, 0.        ],\n",
       "       [0.        , 0.        , 0.        , 0.        , 3.43666356]])"
      ]
     },
     "execution_count": 88,
     "metadata": {},
     "output_type": "execute_result"
    }
   ],
   "source": [
    "Psi"
   ]
  },
  {
   "cell_type": "code",
   "execution_count": 89,
   "metadata": {},
   "outputs": [
    {
     "data": {
      "text/plain": [
       "array([0, 1, 2, 3, 4], dtype=int64)"
      ]
     },
     "execution_count": 89,
     "metadata": {},
     "output_type": "execute_result"
    }
   ],
   "source": [
    "relevant_U_dims"
   ]
  },
  {
   "cell_type": "code",
   "execution_count": 90,
   "metadata": {},
   "outputs": [
    {
     "data": {
      "text/plain": [
       "array([[ 0.00576119, -0.04326186, -0.16272384, -0.54858509,  0.12767355],\n",
       "       [ 0.28971625,  0.11351532, -0.14494619, -0.09082049, -0.62999222],\n",
       "       [-0.01652167,  0.79258737, -0.07110832, -0.01306257,  0.21009907],\n",
       "       [-0.16200631,  0.11559749,  0.86799574, -0.36820982, -0.30946757],\n",
       "       [-0.72863434,  0.05092086, -0.39422216, -0.00555967, -0.55475306]])"
      ]
     },
     "execution_count": 90,
     "metadata": {},
     "output_type": "execute_result"
    }
   ],
   "source": [
    "inv_A"
   ]
  },
  {
   "cell_type": "markdown",
   "metadata": {},
   "source": [
    "#### transfrom X from space X to U_model"
   ]
  },
  {
   "cell_type": "code",
   "execution_count": 91,
   "metadata": {},
   "outputs": [
    {
     "data": {
      "text/plain": [
       "array([-0.262,  1.009, -1.387, -0.886, -0.23 ])"
      ]
     },
     "execution_count": 91,
     "metadata": {},
     "output_type": "execute_result"
    }
   ],
   "source": [
    "#from X -> U\n",
    "x_in_u=np.matmul(X - m, inv_A.T)\n",
    "\n",
    "U_model=x_in_u[..., relevant_U_dims]\n",
    "U_model.round(3)[0]"
   ]
  },
  {
   "cell_type": "markdown",
   "metadata": {},
   "source": [
    "#### get prior params"
   ]
  },
  {
   "cell_type": "code",
   "execution_count": 92,
   "metadata": {},
   "outputs": [
    {
     "data": {
      "text/plain": [
       "array([0., 0., 0., 0., 0.])"
      ]
     },
     "execution_count": 92,
     "metadata": {},
     "output_type": "execute_result"
    }
   ],
   "source": [
    "cov_diag = Psi.diagonal()[relevant_U_dims]\n",
    "mean = np.zeros(relevant_U_dims.shape)\n",
    "\n",
    "prior_params= {'mean': mean, 'cov_diag': cov_diag}\n",
    "mean"
   ]
  },
  {
   "cell_type": "code",
   "execution_count": 93,
   "metadata": {},
   "outputs": [
    {
     "data": {
      "text/plain": [
       "array([0.07600691, 0.7413552 , 1.65183813, 2.49805864, 3.43666356])"
      ]
     },
     "execution_count": 93,
     "metadata": {},
     "output_type": "execute_result"
    }
   ],
   "source": [
    "cov_diag"
   ]
  },
  {
   "cell_type": "markdown",
   "metadata": {},
   "source": [
    "#### get posterior params"
   ]
  },
  {
   "cell_type": "code",
   "execution_count": 104,
   "metadata": {},
   "outputs": [],
   "source": [
    "labels = np.asarray(labels)\n",
    "prior_cov_diagonal = prior_params['cov_diag']\n",
    "\n",
    "cov_diags = []\n",
    "means = []\n",
    "categories = []\n",
    "\n",
    "for k in np.unique(labels):\n",
    "#     print(k)\n",
    "    bool_idxs = labels == k\n",
    "    U_model_k = U_model[bool_idxs]\n",
    "    n_k = bool_idxs.sum()\n",
    "\n",
    "    cov_diag = prior_cov_diagonal / (1 + n_k * prior_cov_diagonal)\n",
    "    mean = U_model_k.sum(axis=0) * cov_diag\n",
    "\n",
    "    cov_diags.append(cov_diag)\n",
    "    means.append(mean)\n",
    "    categories.append(k)\n",
    "\n",
    "    #add them to dict\n",
    "posterior_params = dict()\n",
    "for label, mean, cov_diag in zip(categories, means, cov_diags):\n",
    "    category_params = dict()\n",
    "    category_params['mean'] = mean\n",
    "    category_params['cov_diag'] = cov_diag\n",
    "\n",
    "    posterior_params[label] = category_params"
   ]
  },
  {
   "cell_type": "code",
   "execution_count": 106,
   "metadata": {},
   "outputs": [
    {
     "data": {
      "text/plain": [
       "{0: {'mean': array([-0.02610668, -0.2015203 ,  0.94471578, -1.59135246, -4.46393953]),\n",
       "  'cov_diag': array([0.02927683, 0.04474497, 0.04628475, 0.04672829, 0.04696825])},\n",
       " 1: {'mean': array([ 0.12092588, -1.51226444, -1.42831989, -0.18379293,  1.28496565]),\n",
       "  'cov_diag': array([0.02553841, 0.03656457, 0.03758637, 0.03787834, 0.03803586])},\n",
       " 2: {'mean': array([ 0.05349063,  0.24555476, -0.99770902,  0.02936313, -1.10750526]),\n",
       "  'cov_diag': array([0.03015982, 0.04684086, 0.048531  , 0.04901886, 0.04928298])},\n",
       " 3: {'mean': array([ 0.24353772,  1.46986828, -1.55764483, -1.7578891 ,  0.56726187]),\n",
       "  'cov_diag': array([0.02927683, 0.04474497, 0.04628475, 0.04672829, 0.04696825])},\n",
       " 4: {'mean': array([0.09809288, 0.41656934, 1.39487302, 1.07606885, 1.04385877]),\n",
       "  'cov_diag': array([0.02927683, 0.04474497, 0.04628475, 0.04672829, 0.04696825])},\n",
       " 5: {'mean': array([ 0.00967344, -1.0328505 , -0.28146238, -0.22571765, -0.13078113]),\n",
       "  'cov_diag': array([0.03823112, 0.06969185, 0.0735003 , 0.07462513, 0.075239  ])},\n",
       " 6: {'mean': array([ 0.0063634 ,  0.26328627, -0.51810849,  4.14207015, -1.53923998]),\n",
       "  'cov_diag': array([0.03109772, 0.04914275, 0.05100639, 0.05154557, 0.0518377 ])},\n",
       " 7: {'mean': array([ 0.01872358, -0.50504697,  2.02034016, -0.82076524,  1.17004586]),\n",
       "  'cov_diag': array([0.02927683, 0.04474497, 0.04628475, 0.04672829, 0.04696825])},\n",
       " 8: {'mean': array([-0.61894833,  0.34119446, -1.00019942, -0.582802  ,  0.85264465]),\n",
       "  'cov_diag': array([0.03551553, 0.06116627, 0.06408044, 0.06493375, 0.06539803])},\n",
       " 9: {'mean': array([-0.02642743,  0.55986796,  1.16966398,  0.09004056,  1.84239254]),\n",
       "  'cov_diag': array([0.02765739, 0.04106965, 0.04236321, 0.04273448, 0.04293508])}}"
      ]
     },
     "execution_count": 106,
     "metadata": {},
     "output_type": "execute_result"
    }
   ],
   "source": [
    "posterior_params"
   ]
  },
  {
   "cell_type": "markdown",
   "metadata": {},
   "source": [
    "#### get posterior_predictive_params"
   ]
  },
  {
   "cell_type": "code",
   "execution_count": 107,
   "metadata": {},
   "outputs": [],
   "source": [
    "posterior_predictive_params = posterior_params.copy()\n",
    "\n",
    "for k, k_params in posterior_predictive_params.items():\n",
    "    k_params['cov_diag'] += 1"
   ]
  },
  {
   "cell_type": "code",
   "execution_count": 108,
   "metadata": {},
   "outputs": [
    {
     "data": {
      "text/plain": [
       "{0: {'mean': array([-0.02610668, -0.2015203 ,  0.94471578, -1.59135246, -4.46393953]),\n",
       "  'cov_diag': array([1.02927683, 1.04474497, 1.04628475, 1.04672829, 1.04696825])},\n",
       " 1: {'mean': array([ 0.12092588, -1.51226444, -1.42831989, -0.18379293,  1.28496565]),\n",
       "  'cov_diag': array([1.02553841, 1.03656457, 1.03758637, 1.03787834, 1.03803586])},\n",
       " 2: {'mean': array([ 0.05349063,  0.24555476, -0.99770902,  0.02936313, -1.10750526]),\n",
       "  'cov_diag': array([1.03015982, 1.04684086, 1.048531  , 1.04901886, 1.04928298])},\n",
       " 3: {'mean': array([ 0.24353772,  1.46986828, -1.55764483, -1.7578891 ,  0.56726187]),\n",
       "  'cov_diag': array([1.02927683, 1.04474497, 1.04628475, 1.04672829, 1.04696825])},\n",
       " 4: {'mean': array([0.09809288, 0.41656934, 1.39487302, 1.07606885, 1.04385877]),\n",
       "  'cov_diag': array([1.02927683, 1.04474497, 1.04628475, 1.04672829, 1.04696825])},\n",
       " 5: {'mean': array([ 0.00967344, -1.0328505 , -0.28146238, -0.22571765, -0.13078113]),\n",
       "  'cov_diag': array([1.03823112, 1.06969185, 1.0735003 , 1.07462513, 1.075239  ])},\n",
       " 6: {'mean': array([ 0.0063634 ,  0.26328627, -0.51810849,  4.14207015, -1.53923998]),\n",
       "  'cov_diag': array([1.03109772, 1.04914275, 1.05100639, 1.05154557, 1.0518377 ])},\n",
       " 7: {'mean': array([ 0.01872358, -0.50504697,  2.02034016, -0.82076524,  1.17004586]),\n",
       "  'cov_diag': array([1.02927683, 1.04474497, 1.04628475, 1.04672829, 1.04696825])},\n",
       " 8: {'mean': array([-0.61894833,  0.34119446, -1.00019942, -0.582802  ,  0.85264465]),\n",
       "  'cov_diag': array([1.03551553, 1.06116627, 1.06408044, 1.06493375, 1.06539803])},\n",
       " 9: {'mean': array([-0.02642743,  0.55986796,  1.16966398,  0.09004056,  1.84239254]),\n",
       "  'cov_diag': array([1.02765739, 1.04106965, 1.04236321, 1.04273448, 1.04293508])}}"
      ]
     },
     "execution_count": 108,
     "metadata": {},
     "output_type": "execute_result"
    }
   ],
   "source": [
    "posterior_predictive_params"
   ]
  },
  {
   "cell_type": "markdown",
   "metadata": {},
   "source": [
    "## Predict on new data"
   ]
  },
  {
   "cell_type": "markdown",
   "metadata": {},
   "source": [
    "#### transform from D to U_model"
   ]
  },
  {
   "cell_type": "code",
   "execution_count": 109,
   "metadata": {},
   "outputs": [],
   "source": [
    "data_temp=pca.transform(testing_data)\n",
    "data_temp=np.matmul(data_temp - m, inv_A.T)\n",
    "testing_data_transformed=data_temp[..., relevant_U_dims]"
   ]
  },
  {
   "cell_type": "code",
   "execution_count": 110,
   "metadata": {},
   "outputs": [
    {
     "data": {
      "text/plain": [
       "array([ 0.58580544,  0.23396322,  2.15497222, -1.21182056,  1.78022659])"
      ]
     },
     "execution_count": 110,
     "metadata": {},
     "output_type": "execute_result"
    }
   ],
   "source": [
    "testing_data_transformed[0]"
   ]
  },
  {
   "cell_type": "code",
   "execution_count": 111,
   "metadata": {},
   "outputs": [
    {
     "data": {
      "text/plain": [
       "array([ 0.87711084, -1.0831509 , -2.28571034,  0.56450825, -2.31310678])"
      ]
     },
     "execution_count": 111,
     "metadata": {},
     "output_type": "execute_result"
    }
   ],
   "source": [
    "testing_data_transformed[1]"
   ]
  },
  {
   "cell_type": "markdown",
   "metadata": {},
   "source": [
    "#### calculate logprobs per category"
   ]
  },
  {
   "cell_type": "code",
   "execution_count": 112,
   "metadata": {},
   "outputs": [],
   "source": [
    "def calc_logp_posterior_predictive( U_model, category):\n",
    "    mean = posterior_predictive_params[category]['mean']\n",
    "    cov_diag = posterior_predictive_params[category]['cov_diag']\n",
    "\n",
    "    return gaussian(mean, np.diag(cov_diag)).logpdf(U_model)"
   ]
  },
  {
   "cell_type": "code",
   "execution_count": 113,
   "metadata": {},
   "outputs": [],
   "source": [
    "logpps_by_category = []\n",
    "K =  [k for k in posterior_params.keys()]\n",
    "\n",
    "for k in K:\n",
    "    logpps_k = calc_logp_posterior_predictive(testing_data_transformed, k)\n",
    "    logpps_by_category.append(logpps_k)\n",
    "\n",
    "logpps_by_category = np.stack(logpps_by_category, axis=-1)\n",
    "\n",
    "logps = logpps_by_category\n",
    "K=np.asarray(K)"
   ]
  },
  {
   "cell_type": "code",
   "execution_count": 114,
   "metadata": {},
   "outputs": [
    {
     "data": {
      "text/plain": [
       "array([-14.88410838, -11.90844957,  -7.49677593, -14.80564561,\n",
       "       -18.05118594,  -9.49458779, -13.79777023, -20.78890266,\n",
       "       -12.87057499, -20.49863311])"
      ]
     },
     "execution_count": 114,
     "metadata": {},
     "output_type": "execute_result"
    }
   ],
   "source": [
    "logps[1]"
   ]
  },
  {
   "cell_type": "markdown",
   "metadata": {},
   "source": [
    "#### get highest logprob"
   ]
  },
  {
   "cell_type": "code",
   "execution_count": 117,
   "metadata": {},
   "outputs": [],
   "source": [
    "predictions = K[np.argmax(logps, axis=-1)]"
   ]
  },
  {
   "cell_type": "code",
   "execution_count": 118,
   "metadata": {},
   "outputs": [
    {
     "data": {
      "text/plain": [
       "array([7, 2, 1, 0, 4, 1, 9, 4, 2, 7, 0, 5, 4, 0, 1, 5, 4, 7, 2, 9, 7, 6,\n",
       "       5, 2, 9, 0, 7, 4, 0, 1, 3, 1, 3, 5, 9, 2, 9, 1, 2, 1, 1, 9, 9, 5,\n",
       "       1, 2, 1, 5, 9, 4, 6, 2, 4, 5, 5, 2, 4, 1, 4, 5, 4, 2, 9, 8, 9, 9,\n",
       "       5, 4, 3, 0, 7, 0, 2, 8, 1, 9, 3, 9, 8, 7, 4, 6, 2, 9, 8, 9, 9, 2,\n",
       "       4, 1, 3, 6, 9, 3, 1, 4, 1, 8, 6, 4], dtype=uint8)"
      ]
     },
     "execution_count": 118,
     "metadata": {},
     "output_type": "execute_result"
    }
   ],
   "source": [
    "predictions"
   ]
  },
  {
   "cell_type": "code",
   "execution_count": null,
   "metadata": {},
   "outputs": [],
   "source": []
  }
 ],
 "metadata": {
  "kernelspec": {
   "display_name": "Python 3",
   "language": "python",
   "name": "python3"
  },
  "language_info": {
   "codemirror_mode": {
    "name": "ipython",
    "version": 3
   },
   "file_extension": ".py",
   "mimetype": "text/x-python",
   "name": "python",
   "nbconvert_exporter": "python",
   "pygments_lexer": "ipython3",
   "version": "3.7.4"
  }
 },
 "nbformat": 4,
 "nbformat_minor": 2
}
