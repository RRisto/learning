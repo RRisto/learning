{
 "cells": [
  {
   "cell_type": "code",
   "execution_count": 87,
   "metadata": {},
   "outputs": [],
   "source": [
    "import numpy as np\n",
    "import pandas as pd\n",
    "import seaborn as sns\n",
    "import matplotlib.pyplot as plt\n",
    "from sklearn.decomposition import PCA\n",
    "from scipy.linalg import eigh\n",
    "from scipy.stats import multivariate_normal as gaussian\n",
    "from sklearn.manifold import TSNE\n",
    "from sklearn.discriminant_analysis import LinearDiscriminantAnalysis"
   ]
  },
  {
   "cell_type": "markdown",
   "metadata": {},
   "source": [
    "## Data"
   ]
  },
  {
   "cell_type": "code",
   "execution_count": 88,
   "metadata": {},
   "outputs": [],
   "source": [
    "training_data = np.load('mnist_demo/mnist_data/mnist_train_images.npy')\n",
    "training_labels = np.load('mnist_demo/mnist_data/mnist_train_labels.npy')"
   ]
  },
  {
   "cell_type": "code",
   "execution_count": 89,
   "metadata": {},
   "outputs": [
    {
     "data": {
      "text/plain": [
       "{0, 1, 2, 3, 4, 5, 6, 7, 8, 9}"
      ]
     },
     "execution_count": 89,
     "metadata": {},
     "output_type": "execute_result"
    }
   ],
   "source": [
    "set(training_labels)"
   ]
  },
  {
   "cell_type": "code",
   "execution_count": 90,
   "metadata": {},
   "outputs": [],
   "source": [
    "testing_data = np.load('mnist_demo/mnist_data/mnist_test_images.npy')\n",
    "testing_labels = np.load('mnist_demo/mnist_data/mnist_test_labels.npy')"
   ]
  },
  {
   "cell_type": "markdown",
   "metadata": {},
   "source": [
    "## Helpers"
   ]
  },
  {
   "cell_type": "code",
   "execution_count": 91,
   "metadata": {},
   "outputs": [],
   "source": [
    "def calc_scatter_matrices(X, Y):\n",
    "    \"\"\" See Equations (1) on p.532 of Ioffe 2006. \"\"\"\n",
    "    assert len(X.shape) == 2\n",
    "    assert X.shape[0] == len(Y)\n",
    "\n",
    "    unique_labels = np.unique(Y)\n",
    "    labels = np.asarray(Y)\n",
    "\n",
    "    m = X.mean(axis=0)\n",
    "    N = X.shape[0]\n",
    "\n",
    "    cov_ks = []\n",
    "    m_ks = []\n",
    "    n_ks = []\n",
    "\n",
    "    for k in unique_labels:\n",
    "        bool_idxs = labels == k\n",
    "        X_k = X[bool_idxs]\n",
    "\n",
    "        m_ks.append(X_k.mean(axis=0))\n",
    "        n_ks.append(bool_idxs.sum())\n",
    "\n",
    "        cov_ks.append(np.cov(X_k.T))\n",
    "\n",
    "    n_ks = np.asarray(n_ks)\n",
    "    m_ks = np.asarray(m_ks)\n",
    "\n",
    "    m_ks_minus_m = m_ks - m\n",
    "    S_b = np.matmul(m_ks_minus_m.T * (n_ks / N), m_ks_minus_m)\n",
    "\n",
    "    S_w = np.asarray(cov_ks) * ((n_ks - 1) / N)[:, None, None]\n",
    "    S_w = np.sum(S_w, axis=0)\n",
    "\n",
    "    return S_b, S_w\n"
   ]
  },
  {
   "cell_type": "code",
   "execution_count": 92,
   "metadata": {},
   "outputs": [],
   "source": [
    "def calc_m(X):\n",
    "    \"\"\" See Fig. 2 on p.537 of Ioffe 2006. \"\"\"\n",
    "    assert len(X.shape) == 2\n",
    "    return X.mean(axis=0)\n",
    "\n",
    "def calc_W(S_b, S_w):\n",
    "    \"\"\" See Fig. 2 on p.537 of Ioffe 2006. \"\"\"\n",
    "    eigenvalues, eigenvectors = eigh(S_b, S_w)\n",
    "    return eigenvectors\n",
    "\n",
    "def calc_Lambda_b(S_b, W):\n",
    "    \"\"\" See Fig. 2 on p.537 of Ioffe 2006. \"\"\"\n",
    "    return np.matmul(np.matmul(W.T, S_b), W)\n",
    "\n",
    "def calc_Lambda_w(S_w, W):\n",
    "    \"\"\" See Fig. 2 on p.537 of Ioffe 2006. \"\"\"\n",
    "    return np.matmul(np.matmul(W.T, S_w), W)\n",
    "\n",
    "def calc_n_avg(Y):\n",
    "    \"\"\" This is the \\\"hack\\\" suggested in Fig 2 on p.537 of Ioffe 2006. \"\"\"\n",
    "    unique = np.unique(Y)\n",
    "    return len(Y) / unique.shape[0]\n",
    "\n",
    "def calc_A(n_avg, Lambda_w, W):\n",
    "    \"\"\" See Fig. 2 on p.537 of Ioffe 2006. \"\"\"\n",
    "    Lambda_w_diagonal = Lambda_w.diagonal()  # Should be diagonal matrix.\n",
    "    inv_W_T = np.linalg.inv(W.T)\n",
    "    return inv_W_T * (n_avg / (n_avg - 1) * Lambda_w_diagonal) ** .5\n",
    "\n",
    "\n",
    "def calc_Psi(Lambda_w, Lambda_b, n_avg):\n",
    "    \"\"\" See Fig. 2 on p.537 of Ioffe 2006. \"\"\"\n",
    "    Lambda_w_diagonal = Lambda_w.diagonal()  # Should be diagonal matrix.\n",
    "    Lambda_b_diagonal = Lambda_b.diagonal()  # Should be diagonal matrix.\n",
    "    Psi = (n_avg - 1) / n_avg * Lambda_b_diagonal / Lambda_w_diagonal\n",
    "    Psi -= 1 / n_avg\n",
    "    Psi[Psi <= 0] = 0\n",
    "\n",
    "    return np.diag(Psi)\n",
    "\n",
    "def get_relevant_U_dims(Psi):\n",
    "    \"\"\" See Fig. 2 on p.537 of Ioffe 2006. \"\"\"\n",
    "    relevant_dims = np.squeeze(np.argwhere(Psi.diagonal() != 0))\n",
    "    if relevant_dims.shape == ():\n",
    "        relevant_dims = relevant_dims.reshape(1,)\n",
    "    return relevant_dims\n",
    "\n",
    "def optimize_maximum_likelihood(X, labels):\n",
    "    \"\"\" Performs the optimization in Fig. 2 of p.537 of Ioffe 2006.\n",
    "\n",
    "    DESCRIPTION\n",
    "     - The main model parameters are `m`, `A`, and `Psi`.\n",
    "     - However, to improve the performance (speed and numerical stability)\n",
    "        of the plda.Model object,\n",
    "        inv_A and relevant_U_dims are also returned here.\n",
    "\n",
    "    ADDITIONAL NOTES\n",
    "     Be sure to test that np.cov(X.T) is full rank before running this.\n",
    "\n",
    "     Recall that there are 4 \\\"spaces\\\":\n",
    "      'D' (data) <---> 'X' (preprocessed) <---> 'U' (latent) <---> 'U_model'\n",
    "\n",
    "    ARGUMENTS\n",
    "     X  (numpy.ndarray), shape=(n_data, n_dimensions)\n",
    "       - Data in statistics format, i.e. row-wise.\n",
    "\n",
    "     labels  (list or numpy.ndarray), length=X.shape[0]\n",
    "       - Labels for the data in `X`.\n",
    "       - Must be sorted in the same order as `X`.\n",
    "\n",
    "    RETURNS\n",
    "     m  (numpy.ndarray), shape=X.shape[-1]\n",
    "       - The mean of the row vectors in X.\n",
    "       - This is the prior mean fitted via maximum likelihood.\n",
    "\n",
    "     A  (numpy.ndarray), shape=(X.shape[-1], X.shape[-1])\n",
    "       - Transformation from X space to the latent U space.\n",
    "\n",
    "     Psi  (numpy.ndarray), shape=(X.shape[-1], X.shape[-1])\n",
    "       - The covariance matrix of the prior distribution on\n",
    "          the category means in U space.\n",
    "\n",
    "     relevant_U_dims  (numpy.ndarray), shape=(len(np.unique(labels)) - 1,)\n",
    "       - The \\\"effective\\\" latent dimensions,\n",
    "          i.e. the ones that are actually used by the model.\n",
    "\n",
    "     inv_A  (numpy.ndarray), shape=A.shape\n",
    "       - The inverse of the matrix A.\n",
    "       - Transformation from the latent U space to the X space.\n",
    "    \"\"\"\n",
    "    assert len(X.shape) == 2\n",
    "    assert X.shape[0] == len(labels)\n",
    "\n",
    "    m = X.mean(axis=0)\n",
    "\n",
    "    S_b, S_w = calc_scatter_matrices(X, labels)\n",
    "    W = calc_W(S_b, S_w)\n",
    "\n",
    "    Lambda_b = calc_Lambda_b(S_b, W)\n",
    "    Lambda_w = calc_Lambda_w(S_w, W)\n",
    "    n_avg = calc_n_avg(labels)\n",
    "\n",
    "    A = calc_A(n_avg, Lambda_w, W)\n",
    "    inv_A = np.linalg.inv(A)\n",
    "\n",
    "    Psi = calc_Psi(Lambda_w, Lambda_b, n_avg)\n",
    "    relevant_U_dims = get_relevant_U_dims(Psi)\n",
    "\n",
    "    return m, A, Psi, relevant_U_dims, inv_A\n",
    "\n"
   ]
  },
  {
   "cell_type": "markdown",
   "metadata": {},
   "source": [
    "## Calculate"
   ]
  },
  {
   "cell_type": "code",
   "execution_count": 93,
   "metadata": {},
   "outputs": [],
   "source": [
    "data=training_data\n",
    "labels=training_labels\n",
    "n_principal_components=2"
   ]
  },
  {
   "cell_type": "markdown",
   "metadata": {},
   "source": [
    "#### Scatte matrices (not needed if n_principal components set)"
   ]
  },
  {
   "cell_type": "code",
   "execution_count": 94,
   "metadata": {},
   "outputs": [],
   "source": [
    "S_b, S_w = calc_scatter_matrices(data, labels)\n",
    "matrix_rank = np.linalg.matrix_rank(S_w)"
   ]
  },
  {
   "cell_type": "code",
   "execution_count": 95,
   "metadata": {},
   "outputs": [
    {
     "data": {
      "text/plain": [
       "array([[0., 0., 0., ..., 0., 0., 0.],\n",
       "       [0., 0., 0., ..., 0., 0., 0.],\n",
       "       [0., 0., 0., ..., 0., 0., 0.],\n",
       "       ...,\n",
       "       [0., 0., 0., ..., 0., 0., 0.],\n",
       "       [0., 0., 0., ..., 0., 0., 0.],\n",
       "       [0., 0., 0., ..., 0., 0., 0.]])"
      ]
     },
     "execution_count": 95,
     "metadata": {},
     "output_type": "execute_result"
    }
   ],
   "source": [
    "S_b"
   ]
  },
  {
   "cell_type": "code",
   "execution_count": 96,
   "metadata": {},
   "outputs": [
    {
     "data": {
      "text/plain": [
       "array([[0., 0., 0., ..., 0., 0., 0.],\n",
       "       [0., 0., 0., ..., 0., 0., 0.],\n",
       "       [0., 0., 0., ..., 0., 0., 0.],\n",
       "       ...,\n",
       "       [0., 0., 0., ..., 0., 0., 0.],\n",
       "       [0., 0., 0., ..., 0., 0., 0.],\n",
       "       [0., 0., 0., ..., 0., 0., 0.]])"
      ]
     },
     "execution_count": 96,
     "metadata": {},
     "output_type": "execute_result"
    }
   ],
   "source": [
    "S_w"
   ]
  },
  {
   "cell_type": "code",
   "execution_count": 97,
   "metadata": {},
   "outputs": [
    {
     "data": {
      "text/plain": [
       "190"
      ]
     },
     "execution_count": 97,
     "metadata": {},
     "output_type": "execute_result"
    }
   ],
   "source": [
    "matrix_rank"
   ]
  },
  {
   "cell_type": "markdown",
   "metadata": {},
   "source": [
    "well set it to n_components not to overlearn"
   ]
  },
  {
   "cell_type": "code",
   "execution_count": 98,
   "metadata": {},
   "outputs": [],
   "source": [
    "matrix_rank=n_principal_components"
   ]
  },
  {
   "cell_type": "markdown",
   "metadata": {},
   "source": [
    "#### PCA"
   ]
  },
  {
   "cell_type": "code",
   "execution_count": 99,
   "metadata": {},
   "outputs": [
    {
     "data": {
      "text/plain": [
       "PCA(copy=True, iterated_power='auto', n_components=2, random_state=None,\n",
       "    svd_solver='auto', tol=0.0, whiten=False)"
      ]
     },
     "execution_count": 99,
     "metadata": {},
     "output_type": "execute_result"
    }
   ],
   "source": [
    "pca = PCA(n_components=matrix_rank)\n",
    "pca.fit(data)"
   ]
  },
  {
   "cell_type": "markdown",
   "metadata": {},
   "source": [
    "### transform"
   ]
  },
  {
   "cell_type": "code",
   "execution_count": 100,
   "metadata": {},
   "outputs": [],
   "source": [
    "# X = self.transform(data, from_space='D', to_space='X')\n",
    "\n",
    "X=pca.transform(data)"
   ]
  },
  {
   "cell_type": "code",
   "execution_count": 101,
   "metadata": {},
   "outputs": [
    {
     "data": {
      "text/plain": [
       "(200, 2)"
      ]
     },
     "execution_count": 101,
     "metadata": {},
     "output_type": "execute_result"
    }
   ],
   "source": [
    "X.shape"
   ]
  },
  {
   "cell_type": "code",
   "execution_count": 102,
   "metadata": {},
   "outputs": [
    {
     "data": {
      "image/png": "[encoded data removed]",
      "text/plain": [
       "<Figure size 936x504 with 1 Axes>"
      ]
     },
     "metadata": {
      "needs_background": "light"
     },
     "output_type": "display_data"
    }
   ],
   "source": [
    "#plot transformed features\n",
    "#use tsne to get 2 dim\n",
    "X_tsne = TSNE(n_components=2).fit_transform(X)\n",
    "\n",
    "df_tsne = pd.DataFrame(X_tsne)\n",
    "df_tsne.columns = [str(c) for c in df_tsne.columns]\n",
    "df_tsne['category'] = training_labels\n",
    "\n",
    "plt.figure(figsize=(13, 7))\n",
    "ax = sns.scatterplot(\n",
    "    x=\"0\", y=\"1\",\n",
    "    hue=\"category\",\n",
    "#     palette=['green', 'orange'],\n",
    "        palette=sns.color_palette(\"hls\", 10),\n",
    "    data=df_tsne,\n",
    "    legend=\"full\",\n",
    "    alpha=0.8\n",
    ")\n",
    "plt.setp(ax.get_legend().get_texts(), fontsize='10')  # for legend text\n",
    "plt.setp(ax.get_legend().get_title(), fontsize='10')  # for legend title\n",
    "plt.show()"
   ]
  },
  {
   "cell_type": "code",
   "execution_count": 103,
   "metadata": {},
   "outputs": [
    {
     "data": {
      "image/png": "[encoded data removed]",
      "text/plain": [
       "<Figure size 936x504 with 1 Axes>"
      ]
     },
     "metadata": {
      "needs_background": "light"
     },
     "output_type": "display_data"
    }
   ],
   "source": [
    "#plot pca features, if only 2-dim\n",
    "pca_2dim = PCA(n_components=2)\n",
    "pca_2dim.fit(data)\n",
    "X_2dim=pca_2dim.transform(data)\n",
    "df_x2dim=pd.DataFrame(X_2dim)\n",
    "df_x2dim['category']=labels\n",
    "\n",
    "plt.figure(figsize=(13, 7))\n",
    "ax = sns.scatterplot(\n",
    "    x=0, y=1,\n",
    "    hue=\"category\",\n",
    "#     palette=['green', 'orange'],\n",
    "        palette=sns.color_palette(\"hls\", 10),\n",
    "    data=df_x2dim,\n",
    "    legend=\"full\",\n",
    "    alpha=0.8\n",
    ")\n",
    "plt.setp(ax.get_legend().get_texts(), fontsize='10')  # for legend text\n",
    "plt.setp(ax.get_legend().get_title(), fontsize='10')  # for legend title\n",
    "plt.show()"
   ]
  },
  {
   "cell_type": "markdown",
   "metadata": {},
   "source": [
    "#### learn params"
   ]
  },
  {
   "cell_type": "code",
   "execution_count": 104,
   "metadata": {},
   "outputs": [],
   "source": [
    "m, A, Psi, relevant_U_dims, inv_A = optimize_maximum_likelihood(X, labels)"
   ]
  },
  {
   "cell_type": "code",
   "execution_count": 105,
   "metadata": {},
   "outputs": [
    {
     "data": {
      "text/plain": [
       "array([-1.5541912e-07, -2.5749208e-07], dtype=float32)"
      ]
     },
     "execution_count": 105,
     "metadata": {},
     "output_type": "execute_result"
    }
   ],
   "source": [
    "m"
   ]
  },
  {
   "cell_type": "code",
   "execution_count": 108,
   "metadata": {},
   "outputs": [
    {
     "data": {
      "text/plain": [
       "array([[-0.51181111, -1.25866433],\n",
       "       [-1.17934279,  0.38279653]])"
      ]
     },
     "execution_count": 108,
     "metadata": {},
     "output_type": "execute_result"
    }
   ],
   "source": [
    "A"
   ]
  },
  {
   "cell_type": "code",
   "execution_count": 136,
   "metadata": {},
   "outputs": [
    {
     "data": {
      "text/plain": [
       "Text(-1.7621300593422637, 0.535915139609657, 'a2')"
      ]
     },
     "execution_count": 136,
     "metadata": {},
     "output_type": "execute_result"
    },
    {
     "data": {
      "image/png": "[encoded data removed]",
      "text/plain": [
       "<Figure size 432x288 with 1 Axes>"
      ]
     },
     "metadata": {
      "needs_background": "light"
     },
     "output_type": "display_data"
    }
   ],
   "source": [
    "#plot A\n",
    "fig, ax = plt.subplots()\n",
    "ax.set_xlim([-3,3])\n",
    "ax.set_ylim([-3,3])\n",
    "ax.arrow(0, 0, *A.T[0,:], head_width=0.05, head_length=0.1, color='green')\n",
    "ax.text(*(A[:,0]*1.5), 'a1', fontsize=15, color='green')\n",
    "ax.arrow(0, 0, *A.T[1,:], head_width=0.05, head_length=0.1, color='blue')\n",
    "ax.text(*(A[:,1]*1.4), 'a2', fontsize=15, color='blue')"
   ]
  },
  {
   "cell_type": "code",
   "execution_count": 137,
   "metadata": {},
   "outputs": [
    {
     "data": {
      "text/plain": [
       "array([[1.53620848, 0.        ],\n",
       "       [0.        , 2.17729025]])"
      ]
     },
     "execution_count": 137,
     "metadata": {},
     "output_type": "execute_result"
    }
   ],
   "source": [
    "Psi"
   ]
  },
  {
   "cell_type": "code",
   "execution_count": 138,
   "metadata": {},
   "outputs": [
    {
     "data": {
      "text/plain": [
       "array([0, 1], dtype=int64)"
      ]
     },
     "execution_count": 138,
     "metadata": {},
     "output_type": "execute_result"
    }
   ],
   "source": [
    "relevant_U_dims"
   ]
  },
  {
   "cell_type": "code",
   "execution_count": 139,
   "metadata": {},
   "outputs": [
    {
     "data": {
      "text/plain": [
       "array([[-0.2278122 , -0.74906397],\n",
       "       [-0.70185765,  0.30459214]])"
      ]
     },
     "execution_count": 139,
     "metadata": {},
     "output_type": "execute_result"
    }
   ],
   "source": [
    "inv_A"
   ]
  },
  {
   "cell_type": "code",
   "execution_count": 140,
   "metadata": {},
   "outputs": [
    {
     "data": {
      "text/plain": [
       "Text(-1.3845307609117787, 0.42107618112187345, 'a2')"
      ]
     },
     "execution_count": 140,
     "metadata": {},
     "output_type": "execute_result"
    },
    {
     "data": {
      "image/png": "[encoded data removed]",
      "text/plain": [
       "<Figure size 432x288 with 1 Axes>"
      ]
     },
     "metadata": {
      "needs_background": "light"
     },
     "output_type": "display_data"
    }
   ],
   "source": [
    "#plot inv A\n",
    "fig, ax = plt.subplots()\n",
    "ax.set_xlim([-2,2])\n",
    "ax.set_ylim([-2,2])\n",
    "ax.arrow(0, 0, *inv_A.T[0,:], head_width=0.05, head_length=0.1, color='green')\n",
    "ax.text(*(A[:,0]*1.1), 'a1', fontsize=15, color='green')\n",
    "ax.arrow(0, 0, *inv_A.T[1,:], head_width=0.05, head_length=0.1, color='blue')\n",
    "ax.text(*(A[:,1]*1.1), 'a2', fontsize=15, color='blue')"
   ]
  },
  {
   "cell_type": "markdown",
   "metadata": {},
   "source": [
    "#### transfrom X from space X to U_model"
   ]
  },
  {
   "cell_type": "code",
   "execution_count": 141,
   "metadata": {},
   "outputs": [
    {
     "data": {
      "text/plain": [
       "array([ 0.777, -1.466])"
      ]
     },
     "execution_count": 141,
     "metadata": {},
     "output_type": "execute_result"
    }
   ],
   "source": [
    "#from X -> U\n",
    "x_in_u=np.matmul(X - m, inv_A.T)\n",
    "\n",
    "U_model=x_in_u[..., relevant_U_dims]\n",
    "U_model.round(3)[0]"
   ]
  },
  {
   "cell_type": "code",
   "execution_count": 143,
   "metadata": {},
   "outputs": [
    {
     "data": {
      "image/png": "[encoded data removed]",
      "text/plain": [
       "<Figure size 936x504 with 1 Axes>"
      ]
     },
     "metadata": {
      "needs_background": "light"
     },
     "output_type": "display_data"
    }
   ],
   "source": [
    "#U_dim\n",
    "df_udim_model=pd.DataFrame(U_model)\n",
    "df_udim_model['category']=labels\n",
    "\n",
    "plt.figure(figsize=(13, 7))\n",
    "ax = sns.scatterplot(\n",
    "    x=0, y=1,\n",
    "    hue=\"category\",\n",
    "#     palette=['green', 'orange'],\n",
    "        palette=sns.color_palette(\"hls\", 10),\n",
    "    data=df_udim_model,\n",
    "    legend=\"full\",\n",
    "    alpha=0.8\n",
    ")\n",
    "plt.setp(ax.get_legend().get_texts(), fontsize='10')  # for legend text\n",
    "plt.setp(ax.get_legend().get_title(), fontsize='10')  # for legend title\n",
    "plt.show()"
   ]
  },
  {
   "cell_type": "markdown",
   "metadata": {},
   "source": [
    "#### get prior params"
   ]
  },
  {
   "cell_type": "code",
   "execution_count": 113,
   "metadata": {},
   "outputs": [
    {
     "data": {
      "text/plain": [
       "array([0., 0.])"
      ]
     },
     "execution_count": 113,
     "metadata": {},
     "output_type": "execute_result"
    }
   ],
   "source": [
    "cov_diag = Psi.diagonal()[relevant_U_dims]\n",
    "mean = np.zeros(relevant_U_dims.shape)\n",
    "\n",
    "prior_params= {'mean': mean, 'cov_diag': cov_diag}\n",
    "mean"
   ]
  },
  {
   "cell_type": "code",
   "execution_count": 25,
   "metadata": {},
   "outputs": [
    {
     "data": {
      "text/plain": [
       "array([0.07600873, 0.74136588, 1.65184094, 2.49808835, 3.43668892])"
      ]
     },
     "execution_count": 25,
     "metadata": {},
     "output_type": "execute_result"
    }
   ],
   "source": [
    "cov_diag"
   ]
  },
  {
   "cell_type": "markdown",
   "metadata": {},
   "source": [
    "#### get posterior params"
   ]
  },
  {
   "cell_type": "code",
   "execution_count": 26,
   "metadata": {},
   "outputs": [],
   "source": [
    "labels = np.asarray(labels)\n",
    "prior_cov_diagonal = prior_params['cov_diag']\n",
    "\n",
    "cov_diags = []\n",
    "means = []\n",
    "categories = []\n",
    "\n",
    "for k in np.unique(labels):\n",
    "#     print(k)\n",
    "    bool_idxs = labels == k\n",
    "    U_model_k = U_model[bool_idxs]\n",
    "    n_k = bool_idxs.sum()\n",
    "\n",
    "    cov_diag = prior_cov_diagonal / (1 + n_k * prior_cov_diagonal)\n",
    "    mean = U_model_k.sum(axis=0) * cov_diag\n",
    "\n",
    "    cov_diags.append(cov_diag)\n",
    "    means.append(mean)\n",
    "    categories.append(k)\n",
    "\n",
    "    #add them to dict\n",
    "posterior_params = dict()\n",
    "for label, mean, cov_diag in zip(categories, means, cov_diags):\n",
    "    category_params = dict()\n",
    "    category_params['mean'] = mean\n",
    "    category_params['cov_diag'] = cov_diag\n",
    "\n",
    "    posterior_params[label] = category_params"
   ]
  },
  {
   "cell_type": "code",
   "execution_count": 27,
   "metadata": {},
   "outputs": [
    {
     "data": {
      "text/plain": [
       "{0: {'mean': array([-0.02610609, -0.20151194,  0.94472261, -1.59140712, -4.4639341 ]),\n",
       "  'cov_diag': array([0.0292771 , 0.04474501, 0.04628476, 0.0467283 , 0.04696825])},\n",
       " 1: {'mean': array([ 0.12092927, -1.5122725 , -1.42832666, -0.18380136,  1.28495954]),\n",
       "  'cov_diag': array([0.02553862, 0.03656459, 0.03758638, 0.03787835, 0.03803586])},\n",
       " 2: {'mean': array([ 0.05348059,  0.24555959, -0.99771235,  0.02933849, -1.10750724]),\n",
       "  'cov_diag': array([0.0301601 , 0.0468409 , 0.048531  , 0.04901887, 0.04928299])},\n",
       " 3: {'mean': array([ 0.24354613,  1.46989316, -1.55762291, -1.75788874,  0.56731153]),\n",
       "  'cov_diag': array([0.0292771 , 0.04474501, 0.04628476, 0.0467283 , 0.04696825])},\n",
       " 4: {'mean': array([0.0980901 , 0.41656326, 1.3948712 , 1.0761109 , 1.04384135]),\n",
       "  'cov_diag': array([0.0292771 , 0.04474501, 0.04628476, 0.0467283 , 0.04696825])},\n",
       " 5: {'mean': array([ 0.00968059, -1.03285555, -0.28146409, -0.22572721, -0.13078835]),\n",
       "  'cov_diag': array([0.03823158, 0.06969194, 0.07350031, 0.07462516, 0.07523901])},\n",
       " 6: {'mean': array([ 0.00636452,  0.26328775, -0.51813946,  4.14207489, -1.53930771]),\n",
       "  'cov_diag': array([0.03109802, 0.0491428 , 0.05100639, 0.05154558, 0.0518377 ])},\n",
       " 7: {'mean': array([ 0.01872942, -0.5050538 ,  2.02034542, -0.8207341 ,  1.17005564]),\n",
       "  'cov_diag': array([0.0292771 , 0.04474501, 0.04628476, 0.0467283 , 0.04696825])},\n",
       " 8: {'mean': array([-0.61895898,  0.34118079, -1.0001944 , -0.58283135,  0.85266829]),\n",
       "  'cov_diag': array([0.03551592, 0.06116634, 0.06408044, 0.06493377, 0.06539804])},\n",
       " 9: {'mean': array([-0.02643237,  0.55986512,  1.16966862,  0.09007536,  1.8424029 ]),\n",
       "  'cov_diag': array([0.02765763, 0.04106968, 0.04236321, 0.04273448, 0.04293508])}}"
      ]
     },
     "execution_count": 27,
     "metadata": {},
     "output_type": "execute_result"
    }
   ],
   "source": [
    "posterior_params"
   ]
  },
  {
   "cell_type": "markdown",
   "metadata": {},
   "source": [
    "#### get posterior_predictive_params"
   ]
  },
  {
   "cell_type": "code",
   "execution_count": 28,
   "metadata": {},
   "outputs": [],
   "source": [
    "posterior_predictive_params = posterior_params.copy()\n",
    "\n",
    "for k, k_params in posterior_predictive_params.items():\n",
    "    k_params['cov_diag'] += 1"
   ]
  },
  {
   "cell_type": "code",
   "execution_count": 29,
   "metadata": {},
   "outputs": [
    {
     "data": {
      "text/plain": [
       "{0: {'mean': array([-0.02610609, -0.20151194,  0.94472261, -1.59140712, -4.4639341 ]),\n",
       "  'cov_diag': array([1.0292771 , 1.04474501, 1.04628476, 1.0467283 , 1.04696825])},\n",
       " 1: {'mean': array([ 0.12092927, -1.5122725 , -1.42832666, -0.18380136,  1.28495954]),\n",
       "  'cov_diag': array([1.02553862, 1.03656459, 1.03758638, 1.03787835, 1.03803586])},\n",
       " 2: {'mean': array([ 0.05348059,  0.24555959, -0.99771235,  0.02933849, -1.10750724]),\n",
       "  'cov_diag': array([1.0301601 , 1.0468409 , 1.048531  , 1.04901887, 1.04928299])},\n",
       " 3: {'mean': array([ 0.24354613,  1.46989316, -1.55762291, -1.75788874,  0.56731153]),\n",
       "  'cov_diag': array([1.0292771 , 1.04474501, 1.04628476, 1.0467283 , 1.04696825])},\n",
       " 4: {'mean': array([0.0980901 , 0.41656326, 1.3948712 , 1.0761109 , 1.04384135]),\n",
       "  'cov_diag': array([1.0292771 , 1.04474501, 1.04628476, 1.0467283 , 1.04696825])},\n",
       " 5: {'mean': array([ 0.00968059, -1.03285555, -0.28146409, -0.22572721, -0.13078835]),\n",
       "  'cov_diag': array([1.03823158, 1.06969194, 1.07350031, 1.07462516, 1.07523901])},\n",
       " 6: {'mean': array([ 0.00636452,  0.26328775, -0.51813946,  4.14207489, -1.53930771]),\n",
       "  'cov_diag': array([1.03109802, 1.0491428 , 1.05100639, 1.05154558, 1.0518377 ])},\n",
       " 7: {'mean': array([ 0.01872942, -0.5050538 ,  2.02034542, -0.8207341 ,  1.17005564]),\n",
       "  'cov_diag': array([1.0292771 , 1.04474501, 1.04628476, 1.0467283 , 1.04696825])},\n",
       " 8: {'mean': array([-0.61895898,  0.34118079, -1.0001944 , -0.58283135,  0.85266829]),\n",
       "  'cov_diag': array([1.03551592, 1.06116634, 1.06408044, 1.06493377, 1.06539804])},\n",
       " 9: {'mean': array([-0.02643237,  0.55986512,  1.16966862,  0.09007536,  1.8424029 ]),\n",
       "  'cov_diag': array([1.02765763, 1.04106968, 1.04236321, 1.04273448, 1.04293508])}}"
      ]
     },
     "execution_count": 29,
     "metadata": {},
     "output_type": "execute_result"
    }
   ],
   "source": [
    "posterior_predictive_params"
   ]
  },
  {
   "cell_type": "markdown",
   "metadata": {},
   "source": [
    "## Predict on new data"
   ]
  },
  {
   "cell_type": "markdown",
   "metadata": {},
   "source": [
    "#### transform from D to U_model"
   ]
  },
  {
   "cell_type": "code",
   "execution_count": 144,
   "metadata": {},
   "outputs": [],
   "source": [
    "data_temp=pca.transform(testing_data)\n",
    "data_temp=np.matmul(data_temp - m, inv_A.T)\n",
    "testing_data_transformed=data_temp[..., relevant_U_dims]"
   ]
  },
  {
   "cell_type": "code",
   "execution_count": 145,
   "metadata": {},
   "outputs": [
    {
     "data": {
      "text/plain": [
       "(100, 2)"
      ]
     },
     "execution_count": 145,
     "metadata": {},
     "output_type": "execute_result"
    }
   ],
   "source": [
    "testing_data_transformed.shape"
   ]
  },
  {
   "cell_type": "code",
   "execution_count": 146,
   "metadata": {},
   "outputs": [
    {
     "data": {
      "text/plain": [
       "array([-1.57349984,  1.57966457])"
      ]
     },
     "execution_count": 146,
     "metadata": {},
     "output_type": "execute_result"
    }
   ],
   "source": [
    "testing_data_transformed[0]"
   ]
  },
  {
   "cell_type": "code",
   "execution_count": 147,
   "metadata": {},
   "outputs": [
    {
     "data": {
      "text/plain": [
       "array([ 2.13383421, -1.73896961])"
      ]
     },
     "execution_count": 147,
     "metadata": {},
     "output_type": "execute_result"
    }
   ],
   "source": [
    "testing_data_transformed[1]"
   ]
  },
  {
   "cell_type": "code",
   "execution_count": 148,
   "metadata": {},
   "outputs": [
    {
     "data": {
      "image/png": "[encoded data removed]",
      "text/plain": [
       "<Figure size 936x504 with 1 Axes>"
      ]
     },
     "metadata": {
      "needs_background": "light"
     },
     "output_type": "display_data"
    }
   ],
   "source": [
    "#testing_data_transformed\n",
    "df_testing_data_transformed=pd.DataFrame(testing_data_transformed)\n",
    "df_testing_data_transformed['category']=testing_labels\n",
    "\n",
    "plt.figure(figsize=(13, 7))\n",
    "ax = sns.scatterplot(\n",
    "    x=0, y=1,\n",
    "    hue=\"category\",\n",
    "#     palette=['green', 'orange'],\n",
    "        palette=sns.color_palette(\"hls\", 10),\n",
    "    data=df_testing_data_transformed,\n",
    "    legend=\"full\",\n",
    "    alpha=0.8\n",
    ")\n",
    "plt.setp(ax.get_legend().get_texts(), fontsize='10')  # for legend text\n",
    "plt.setp(ax.get_legend().get_title(), fontsize='10')  # for legend title\n",
    "plt.show()"
   ]
  },
  {
   "cell_type": "markdown",
   "metadata": {},
   "source": [
    "#### calculate logprobs per category"
   ]
  },
  {
   "cell_type": "code",
   "execution_count": 34,
   "metadata": {},
   "outputs": [],
   "source": [
    "def calc_logp_posterior_predictive( U_model, category):\n",
    "    mean = posterior_predictive_params[category]['mean']\n",
    "    cov_diag = posterior_predictive_params[category]['cov_diag']\n",
    "\n",
    "    return gaussian(mean, np.diag(cov_diag)).logpdf(U_model)"
   ]
  },
  {
   "cell_type": "code",
   "execution_count": 35,
   "metadata": {},
   "outputs": [],
   "source": [
    "logpps_by_category = []\n",
    "K =  [k for k in posterior_params.keys()]\n",
    "\n",
    "for k in K:\n",
    "    logpps_k = calc_logp_posterior_predictive(testing_data_transformed, k)\n",
    "    logpps_by_category.append(logpps_k)\n",
    "\n",
    "logpps_by_category = np.stack(logpps_by_category, axis=-1)\n",
    "\n",
    "logps = logpps_by_category\n",
    "K=np.asarray(K)"
   ]
  },
  {
   "cell_type": "code",
   "execution_count": 36,
   "metadata": {},
   "outputs": [
    {
     "data": {
      "text/plain": [
       "array([-14.88411373, -11.90863456,  -7.49689085, -14.8059941 ,\n",
       "       -18.05136492,  -9.49470114, -13.79785348, -20.78909346,\n",
       "       -12.87089219, -20.49892828])"
      ]
     },
     "execution_count": 36,
     "metadata": {},
     "output_type": "execute_result"
    }
   ],
   "source": [
    "logps[1]"
   ]
  },
  {
   "cell_type": "markdown",
   "metadata": {},
   "source": [
    "#### get highest logprob"
   ]
  },
  {
   "cell_type": "code",
   "execution_count": 37,
   "metadata": {},
   "outputs": [],
   "source": [
    "predictions = K[np.argmax(logps, axis=-1)]"
   ]
  },
  {
   "cell_type": "code",
   "execution_count": 38,
   "metadata": {},
   "outputs": [
    {
     "data": {
      "text/plain": [
       "array([7, 2, 1, 0, 4, 1, 9, 4, 2, 7, 0, 5, 4, 0, 1, 5, 4, 7, 2, 9, 7, 6,\n",
       "       5, 2, 9, 0, 7, 4, 0, 1, 3, 1, 3, 5, 9, 2, 9, 1, 2, 1, 1, 9, 9, 5,\n",
       "       1, 2, 1, 5, 9, 4, 6, 2, 4, 5, 5, 2, 4, 1, 4, 5, 4, 2, 9, 8, 9, 9,\n",
       "       5, 4, 3, 0, 7, 0, 2, 8, 1, 9, 3, 9, 8, 7, 4, 6, 2, 9, 8, 9, 9, 2,\n",
       "       4, 1, 3, 6, 9, 3, 1, 4, 1, 8, 6, 4], dtype=uint8)"
      ]
     },
     "execution_count": 38,
     "metadata": {},
     "output_type": "execute_result"
    }
   ],
   "source": [
    "predictions"
   ]
  },
  {
   "cell_type": "markdown",
   "metadata": {},
   "source": [
    "## Visualize"
   ]
  },
  {
   "cell_type": "markdown",
   "metadata": {},
   "source": [
    "#### original testing data"
   ]
  },
  {
   "cell_type": "code",
   "execution_count": 39,
   "metadata": {},
   "outputs": [],
   "source": [
    "def plot_tsne(x, y, n_components=2):\n",
    "    X_tsne = TSNE(n_components=2).fit_transform(x)\n",
    "\n",
    "    df_tsne = pd.DataFrame(X_tsne)\n",
    "    df_tsne.columns = [str(c) for c in df_tsne.columns]\n",
    "    df_tsne['category'] = y\n",
    "\n",
    "    plt.figure(figsize=(12, 8))\n",
    "    ax = sns.scatterplot(\n",
    "        x=\"0\", y=\"1\",\n",
    "        hue=\"category\",\n",
    "#         palette=['green', 'orange'],\n",
    "        palette=sns.color_palette(\"hls\", 10),\n",
    "        data=df_tsne,\n",
    "        legend=\"full\",\n",
    "        alpha=0.7\n",
    "    )\n",
    "    plt.setp(ax.get_legend().get_texts(), fontsize='22')  # for legend text\n",
    "    plt.setp(ax.get_legend().get_title(), fontsize='25')  # for legend title"
   ]
  },
  {
   "cell_type": "markdown",
   "metadata": {},
   "source": [
    "#### original testing data"
   ]
  },
  {
   "cell_type": "code",
   "execution_count": 40,
   "metadata": {},
   "outputs": [
    {
     "data": {
      "image/png": "[encoded data removed]",
      "text/plain": [
       "<Figure size 864x576 with 1 Axes>"
      ]
     },
     "metadata": {
      "needs_background": "light"
     },
     "output_type": "display_data"
    }
   ],
   "source": [
    "plot_tsne(testing_data, testing_labels)"
   ]
  },
  {
   "cell_type": "markdown",
   "metadata": {},
   "source": [
    "#### transformed testing data"
   ]
  },
  {
   "cell_type": "code",
   "execution_count": 41,
   "metadata": {},
   "outputs": [
    {
     "data": {
      "image/png": "[encoded data removed]",
      "text/plain": [
       "<Figure size 864x576 with 1 Axes>"
      ]
     },
     "metadata": {
      "needs_background": "light"
     },
     "output_type": "display_data"
    }
   ],
   "source": [
    "plot_tsne(testing_data_transformed, testing_labels)"
   ]
  },
  {
   "cell_type": "markdown",
   "metadata": {},
   "source": [
    "#### Compare with LDA"
   ]
  },
  {
   "cell_type": "code",
   "execution_count": 42,
   "metadata": {},
   "outputs": [
    {
     "name": "stderr",
     "output_type": "stream",
     "text": [
      "C:\\Users\\risto\\Anaconda3\\lib\\site-packages\\sklearn\\discriminant_analysis.py:388: UserWarning: Variables are collinear.\n",
      "  warnings.warn(\"Variables are collinear.\")\n"
     ]
    },
    {
     "data": {
      "text/plain": [
       "LinearDiscriminantAnalysis(n_components=5, priors=None, shrinkage=None,\n",
       "                           solver='svd', store_covariance=False, tol=0.0001)"
      ]
     },
     "execution_count": 42,
     "metadata": {},
     "output_type": "execute_result"
    }
   ],
   "source": [
    "clf = LinearDiscriminantAnalysis(n_components=5)\n",
    "clf.fit(training_data, training_labels)"
   ]
  },
  {
   "cell_type": "code",
   "execution_count": 43,
   "metadata": {},
   "outputs": [],
   "source": [
    "lda_transformed_testdata=clf.transform(testing_data)"
   ]
  },
  {
   "cell_type": "code",
   "execution_count": 44,
   "metadata": {},
   "outputs": [
    {
     "data": {
      "image/png": "[encoded data removed]",
      "text/plain": [
       "<Figure size 864x576 with 1 Axes>"
      ]
     },
     "metadata": {
      "needs_background": "light"
     },
     "output_type": "display_data"
    }
   ],
   "source": [
    "plot_tsne(lda_transformed_testdata, testing_labels)"
   ]
  },
  {
   "cell_type": "code",
   "execution_count": 45,
   "metadata": {},
   "outputs": [
    {
     "data": {
      "text/plain": [
       "(100, 784)"
      ]
     },
     "execution_count": 45,
     "metadata": {},
     "output_type": "execute_result"
    }
   ],
   "source": [
    "testing_data.shape"
   ]
  },
  {
   "cell_type": "code",
   "execution_count": 46,
   "metadata": {},
   "outputs": [
    {
     "data": {
      "text/plain": [
       "array([[0., 0., 0., ..., 0., 0., 0.],\n",
       "       [0., 0., 0., ..., 0., 0., 0.],\n",
       "       [0., 0., 0., ..., 0., 0., 0.],\n",
       "       ...,\n",
       "       [0., 0., 0., ..., 0., 0., 0.],\n",
       "       [0., 0., 0., ..., 0., 0., 0.],\n",
       "       [0., 0., 0., ..., 0., 0., 0.]], dtype=float32)"
      ]
     },
     "execution_count": 46,
     "metadata": {},
     "output_type": "execute_result"
    }
   ],
   "source": [
    "testing_data"
   ]
  },
  {
   "cell_type": "code",
   "execution_count": 47,
   "metadata": {},
   "outputs": [
    {
     "data": {
      "text/plain": [
       "array([[0., 0., 0., ..., 0., 0., 0.],\n",
       "       [0., 0., 0., ..., 0., 0., 0.],\n",
       "       [0., 0., 0., ..., 0., 0., 0.],\n",
       "       ...,\n",
       "       [0., 0., 0., ..., 0., 0., 0.],\n",
       "       [0., 0., 0., ..., 0., 0., 0.],\n",
       "       [0., 0., 0., ..., 0., 0., 0.]], dtype=float32)"
      ]
     },
     "execution_count": 47,
     "metadata": {},
     "output_type": "execute_result"
    }
   ],
   "source": [
    "training_data"
   ]
  },
  {
   "cell_type": "code",
   "execution_count": 48,
   "metadata": {},
   "outputs": [
    {
     "data": {
      "text/plain": [
       "(200, 784)"
      ]
     },
     "execution_count": 48,
     "metadata": {},
     "output_type": "execute_result"
    }
   ],
   "source": [
    "training_data.shape"
   ]
  },
  {
   "cell_type": "markdown",
   "metadata": {},
   "source": [
    "## my testing"
   ]
  },
  {
   "cell_type": "code",
   "execution_count": 53,
   "metadata": {},
   "outputs": [],
   "source": [
    "def scatter_mat(x, y):\n",
    "    m=x.mean(axis=0)\n",
    "    unique_labels=np.unique(y)\n",
    "    \n",
    "    m_ks=[]\n",
    "    n_ks=[]\n",
    "    cov_ks=[]\n",
    "    for label in unique_labels:\n",
    "        bool_idx=y==label\n",
    "        class_x=x[bool_idx]\n",
    "        m_ks.append(class_x.mean(axis=0))\n",
    "        n_ks.append(bool_idx.sum())\n",
    "        cov_ks.append(np.cov(class_x.T))\n",
    "    m_ks=np.array(m_ks)\n",
    "    n_ks=np.array(n_ks)\n",
    "    cov_ks=np.array(cov_ks)\n",
    "    m_ks_minus_m=m_ks-m\n",
    "    sb=((n_ks*m_ks_minus_m.T)@m_ks_minus_m)/len(x)\n",
    "    sw=cov_ks*((n_ks-1)/len(x))[:,None, None]\n",
    "    sw=sw.sum(axis=0)\n",
    "    return sb, sw"
   ]
  },
  {
   "cell_type": "code",
   "execution_count": 54,
   "metadata": {},
   "outputs": [
    {
     "data": {
      "text/plain": [
       "(array([[0.25  , 0.625 , 0.5   ],\n",
       "        [0.625 , 1.5625, 1.25  ],\n",
       "        [0.5   , 1.25  , 1.    ]]),\n",
       " array([[ 0.5  ,  0.5  , -0.25 ],\n",
       "        [ 0.5  ,  0.625, -0.875],\n",
       "        [-0.25 , -0.875,  3.25 ]]))"
      ]
     },
     "execution_count": 54,
     "metadata": {},
     "output_type": "execute_result"
    }
   ],
   "source": [
    "scatter_mat(x, y)"
   ]
  },
  {
   "cell_type": "code",
   "execution_count": null,
   "metadata": {},
   "outputs": [],
   "source": [
    "(y==1).sum()"
   ]
  },
  {
   "cell_type": "code",
   "execution_count": 56,
   "metadata": {},
   "outputs": [],
   "source": [
    "sb, sw=calc_scatter_matrices(x,y)"
   ]
  },
  {
   "cell_type": "code",
   "execution_count": 57,
   "metadata": {},
   "outputs": [
    {
     "data": {
      "text/plain": [
       "array([[0.25  , 0.625 , 0.5   ],\n",
       "       [0.625 , 1.5625, 1.25  ],\n",
       "       [0.5   , 1.25  , 1.    ]])"
      ]
     },
     "execution_count": 57,
     "metadata": {},
     "output_type": "execute_result"
    }
   ],
   "source": [
    "sb"
   ]
  },
  {
   "cell_type": "code",
   "execution_count": 58,
   "metadata": {},
   "outputs": [
    {
     "data": {
      "text/plain": [
       "array([[ 0.5  ,  0.5  , -0.25 ],\n",
       "       [ 0.5  ,  0.625, -0.875],\n",
       "       [-0.25 , -0.875,  3.25 ]])"
      ]
     },
     "execution_count": 58,
     "metadata": {},
     "output_type": "execute_result"
    }
   ],
   "source": [
    "sw"
   ]
  },
  {
   "cell_type": "code",
   "execution_count": 153,
   "metadata": {},
   "outputs": [
    {
     "data": {
      "text/plain": [
       "array([-1.00000000e+00,  1.82826856e-17,  1.17693460e+16])"
      ]
     },
     "execution_count": 153,
     "metadata": {},
     "output_type": "execute_result"
    }
   ],
   "source": [
    "eigenvalues, eigenvectors=eigh(sb, sw)\n",
    "eigenvalues"
   ]
  },
  {
   "cell_type": "code",
   "execution_count": 154,
   "metadata": {},
   "outputs": [
    {
     "data": {
      "text/plain": [
       "array([[ 9.19238805e-01, -2.05060966e+00, -9.76379551e+07],\n",
       "       [-7.07106766e-01,  7.07106780e-01,  1.08486617e+08],\n",
       "       [ 4.24264072e-01,  1.41421357e-01,  2.16973234e+07]])"
      ]
     },
     "execution_count": 154,
     "metadata": {},
     "output_type": "execute_result"
    }
   ],
   "source": [
    "eigenvectors"
   ]
  },
  {
   "cell_type": "code",
   "execution_count": 168,
   "metadata": {},
   "outputs": [
    {
     "data": {
      "text/plain": [
       "array([2.5 , 4.25, 3.5 ])"
      ]
     },
     "execution_count": 168,
     "metadata": {},
     "output_type": "execute_result"
    }
   ],
   "source": [
    "x.mean(axis=0)"
   ]
  },
  {
   "cell_type": "code",
   "execution_count": 169,
   "metadata": {},
   "outputs": [
    {
     "data": {
      "text/plain": [
       "(array([2.5 , 4.25, 3.5 ]),\n",
       " array([[ 2.34660440e-09, -1.00000000e+00,  1.85307065e-09],\n",
       "        [-4.99999998e-01, -1.00000000e+00,  4.63267665e-09],\n",
       "        [ 2.50000000e+00,  5.00000006e-01,  3.70614119e-09]]),\n",
       " array([[0.00000000e+00, 0.00000000e+00, 0.00000000e+00],\n",
       "        [0.00000000e+00, 0.00000000e+00, 0.00000000e+00],\n",
       "        [0.00000000e+00, 0.00000000e+00, 7.28041361e+16]]),\n",
       " array([2], dtype=int64),\n",
       " array([[ 6.49999993e-01, -4.99999989e-01,  3.00000002e-01],\n",
       "        [-1.45000000e+00,  4.99999999e-01,  1.00000001e-01],\n",
       "        [-2.42840174e+08,  2.69822416e+08,  5.39644832e+07]]))"
      ]
     },
     "execution_count": 169,
     "metadata": {},
     "output_type": "execute_result"
    }
   ],
   "source": [
    "#m, A, Psi, relevant_U_dims, inv_A\n",
    "optimize_maximum_likelihood(x, y)"
   ]
  },
  {
   "cell_type": "code",
   "execution_count": 157,
   "metadata": {},
   "outputs": [
    {
     "data": {
      "text/plain": [
       "2.0"
      ]
     },
     "execution_count": 157,
     "metadata": {},
     "output_type": "execute_result"
    }
   ],
   "source": [
    "n=len(x)/len(np.unique(y))\n",
    "n"
   ]
  },
  {
   "cell_type": "code",
   "execution_count": 158,
   "metadata": {},
   "outputs": [],
   "source": [
    "lambda_b=eigenvectors.T@sb@eigenvectors"
   ]
  },
  {
   "cell_type": "code",
   "execution_count": 159,
   "metadata": {},
   "outputs": [],
   "source": [
    "lambda_w=eigenvectors.T@sw@eigenvectors"
   ]
  },
  {
   "cell_type": "code",
   "execution_count": 177,
   "metadata": {},
   "outputs": [],
   "source": [
    "A=np.linalg.inv(eigenvectors.T)*((n/(n-1))*lambda_w.diagonal())**.5\n",
    "# Lambda_w_diagonal = Lambda_w.diagonal()  # Should be diagonal matrix.\n",
    "# inv_W_T = np.linalg.inv(W.T)\n",
    "# return inv_W_T * (n_avg / (n_avg - 1) * Lambda_w_diagonal) ** .5"
   ]
  },
  {
   "cell_type": "code",
   "execution_count": 178,
   "metadata": {},
   "outputs": [
    {
     "data": {
      "text/plain": [
       "array([[ 2.34660440e-09, -1.00000000e+00,  1.85307065e-09],\n",
       "       [-4.99999998e-01, -1.00000000e+00,  4.63267665e-09],\n",
       "       [ 2.50000000e+00,  5.00000006e-01,  3.70614119e-09]])"
      ]
     },
     "execution_count": 178,
     "metadata": {},
     "output_type": "execute_result"
    }
   ],
   "source": [
    "A"
   ]
  },
  {
   "cell_type": "code",
   "execution_count": 189,
   "metadata": {},
   "outputs": [
    {
     "data": {
      "text/plain": [
       "array([0.00000000e+00, 0.00000000e+00, 7.28041361e+16])"
      ]
     },
     "execution_count": 189,
     "metadata": {},
     "output_type": "execute_result"
    }
   ],
   "source": [
    "psi=((n-1)/n)*(lambda_b.diagonal()/lambda_w.diagonal())-1/n\n",
    "psi[psi<0]=0\n",
    "psi"
   ]
  },
  {
   "cell_type": "code",
   "execution_count": 190,
   "metadata": {},
   "outputs": [
    {
     "data": {
      "text/plain": [
       "array([[0.00000000e+00, 0.00000000e+00, 0.00000000e+00],\n",
       "       [0.00000000e+00, 0.00000000e+00, 0.00000000e+00],\n",
       "       [0.00000000e+00, 0.00000000e+00, 7.28041361e+16]])"
      ]
     },
     "execution_count": 190,
     "metadata": {},
     "output_type": "execute_result"
    }
   ],
   "source": [
    "np.diag(psi)"
   ]
  },
  {
   "cell_type": "code",
   "execution_count": null,
   "metadata": {},
   "outputs": [],
   "source": [
    "def calc_scatter_matrices(X, Y):\n",
    "    \"\"\" See Equations (1) on p.532 of Ioffe 2006. \"\"\"\n",
    "    assert len(X.shape) == 2\n",
    "    assert X.shape[0] == len(Y)\n",
    "\n",
    "    unique_labels = np.unique(Y)\n",
    "    labels = np.asarray(Y)\n",
    "\n",
    "    m = X.mean(axis=0)\n",
    "    N = X.shape[0]\n",
    "\n",
    "    cov_ks = []\n",
    "    m_ks = []\n",
    "    n_ks = []\n",
    "\n",
    "    for k in unique_labels:\n",
    "        bool_idxs = labels == k\n",
    "        X_k = X[bool_idxs]\n",
    "\n",
    "        m_ks.append(X_k.mean(axis=0))\n",
    "        n_ks.append(bool_idxs.sum())\n",
    "\n",
    "        cov_ks.append(np.cov(X_k.T))\n",
    "\n",
    "    n_ks = np.asarray(n_ks)\n",
    "    m_ks = np.asarray(m_ks)\n",
    "\n",
    "    m_ks_minus_m = m_ks - m\n",
    "    S_b = np.matmul(m_ks_minus_m.T * (n_ks / N), m_ks_minus_m)\n",
    "\n",
    "    S_w = np.asarray(cov_ks) * ((n_ks - 1) / N)[:, None, None]\n",
    "    S_w = np.sum(S_w, axis=0)\n",
    "\n",
    "    return S_b, S_w\n"
   ]
  },
  {
   "cell_type": "code",
   "execution_count": 51,
   "metadata": {},
   "outputs": [],
   "source": [
    "x=np.array([[1,2,3],\n",
    "           [3,4,2],\n",
    "           [3,6,2],\n",
    "           [3,5,7]])\n",
    "y=np.array([0,0,1,1])"
   ]
  },
  {
   "cell_type": "code",
   "execution_count": 52,
   "metadata": {},
   "outputs": [
    {
     "data": {
      "text/plain": [
       "(array([[0.25  , 0.625 , 0.5   ],\n",
       "        [0.625 , 1.5625, 1.25  ],\n",
       "        [0.5   , 1.25  , 1.    ]]),\n",
       " array([[ 0.5  ,  0.5  , -0.25 ],\n",
       "        [ 0.5  ,  0.625, -0.875],\n",
       "        [-0.25 , -0.875,  3.25 ]]))"
      ]
     },
     "execution_count": 52,
     "metadata": {},
     "output_type": "execute_result"
    }
   ],
   "source": [
    "calc_scatter_matrices(x,y)"
   ]
  },
  {
   "cell_type": "code",
   "execution_count": null,
   "metadata": {},
   "outputs": [],
   "source": []
  }
 ],
 "metadata": {
  "kernelspec": {
   "display_name": "Python 3",
   "language": "python",
   "name": "python3"
  },
  "language_info": {
   "codemirror_mode": {
    "name": "ipython",
    "version": 3
   },
   "file_extension": ".py",
   "mimetype": "text/x-python",
   "name": "python",
   "nbconvert_exporter": "python",
   "pygments_lexer": "ipython3",
   "version": "3.7.4"
  }
 },
 "nbformat": 4,
 "nbformat_minor": 2
}
