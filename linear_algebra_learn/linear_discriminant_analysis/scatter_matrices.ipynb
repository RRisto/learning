{
 "cells": [
  {
   "cell_type": "code",
   "execution_count": 59,
   "metadata": {},
   "outputs": [],
   "source": [
    "import numpy as np\n",
    "import pandas as pd\n",
    "from sklearn.datasets import load_wine\n",
    "from sklearn.svm import LinearSVC\n",
    "from sklearn.discriminant_analysis import LinearDiscriminantAnalysis\n",
    "from sklearn.naive_bayes import GaussianNB\n",
    "from sklearn.pipeline import Pipeline\n",
    "from sklearn.preprocessing import StandardScaler\n",
    "from sklearn.model_selection import cross_val_score\n",
    "from sklearn.model_selection import train_test_split\n",
    "from sklearn.metrics import classification_report, f1_score\n",
    "import matplotlib.pyplot as plt\n",
    "import seaborn as sns\n",
    "from sklearn.manifold import TSNE\n",
    "from sklearn.decomposition import PCA"
   ]
  },
  {
   "cell_type": "markdown",
   "metadata": {},
   "source": [
    "## Data"
   ]
  },
  {
   "cell_type": "code",
   "execution_count": 60,
   "metadata": {},
   "outputs": [],
   "source": [
    "wine = load_wine()\n",
    "X_wine = pd.DataFrame(wine.data, columns=wine.feature_names)\n",
    "# #make pCA so that PLDA and LDA versions are comparable\n",
    "# pca = PCA(n_components=3)\n",
    "# pca.fit(X_wine)\n",
    "# X=pca.transform(X_wine)\n",
    "\n",
    "y = pd.Categorical.from_codes(wine.target, wine.target_names)\n",
    "X=pd.DataFrame(X)\n",
    "X['class']=y"
   ]
  },
  {
   "cell_type": "markdown",
   "metadata": {},
   "source": [
    "# LDA version"
   ]
  },
  {
   "cell_type": "code",
   "execution_count": 61,
   "metadata": {},
   "outputs": [
    {
     "data": {
      "text/html": [
       "<div>\n",
       "<style scoped>\n",
       "    .dataframe tbody tr th:only-of-type {\n",
       "        vertical-align: middle;\n",
       "    }\n",
       "\n",
       "    .dataframe tbody tr th {\n",
       "        vertical-align: top;\n",
       "    }\n",
       "\n",
       "    .dataframe thead th {\n",
       "        text-align: right;\n",
       "    }\n",
       "</style>\n",
       "<table border=\"1\" class=\"dataframe\">\n",
       "  <thead>\n",
       "    <tr style=\"text-align: right;\">\n",
       "      <th></th>\n",
       "      <th>class_0</th>\n",
       "      <th>class_1</th>\n",
       "      <th>class_2</th>\n",
       "    </tr>\n",
       "  </thead>\n",
       "  <tbody>\n",
       "    <tr>\n",
       "      <th>0</th>\n",
       "      <td>13.744746</td>\n",
       "      <td>12.278732</td>\n",
       "      <td>13.153750</td>\n",
       "    </tr>\n",
       "    <tr>\n",
       "      <th>1</th>\n",
       "      <td>2.010678</td>\n",
       "      <td>1.932676</td>\n",
       "      <td>3.333750</td>\n",
       "    </tr>\n",
       "    <tr>\n",
       "      <th>2</th>\n",
       "      <td>2.455593</td>\n",
       "      <td>2.244789</td>\n",
       "      <td>2.437083</td>\n",
       "    </tr>\n",
       "    <tr>\n",
       "      <th>3</th>\n",
       "      <td>17.037288</td>\n",
       "      <td>20.238028</td>\n",
       "      <td>21.416667</td>\n",
       "    </tr>\n",
       "    <tr>\n",
       "      <th>4</th>\n",
       "      <td>106.338983</td>\n",
       "      <td>94.549296</td>\n",
       "      <td>99.312500</td>\n",
       "    </tr>\n",
       "    <tr>\n",
       "      <th>5</th>\n",
       "      <td>2.840169</td>\n",
       "      <td>2.258873</td>\n",
       "      <td>1.678750</td>\n",
       "    </tr>\n",
       "    <tr>\n",
       "      <th>6</th>\n",
       "      <td>2.982373</td>\n",
       "      <td>2.080845</td>\n",
       "      <td>0.781458</td>\n",
       "    </tr>\n",
       "    <tr>\n",
       "      <th>7</th>\n",
       "      <td>0.290000</td>\n",
       "      <td>0.363662</td>\n",
       "      <td>0.447500</td>\n",
       "    </tr>\n",
       "    <tr>\n",
       "      <th>8</th>\n",
       "      <td>1.899322</td>\n",
       "      <td>1.630282</td>\n",
       "      <td>1.153542</td>\n",
       "    </tr>\n",
       "    <tr>\n",
       "      <th>9</th>\n",
       "      <td>5.528305</td>\n",
       "      <td>3.086620</td>\n",
       "      <td>7.396250</td>\n",
       "    </tr>\n",
       "    <tr>\n",
       "      <th>10</th>\n",
       "      <td>1.062034</td>\n",
       "      <td>1.056282</td>\n",
       "      <td>0.682708</td>\n",
       "    </tr>\n",
       "    <tr>\n",
       "      <th>11</th>\n",
       "      <td>3.157797</td>\n",
       "      <td>2.785352</td>\n",
       "      <td>1.683542</td>\n",
       "    </tr>\n",
       "    <tr>\n",
       "      <th>12</th>\n",
       "      <td>1115.711864</td>\n",
       "      <td>519.507042</td>\n",
       "      <td>629.895833</td>\n",
       "    </tr>\n",
       "  </tbody>\n",
       "</table>\n",
       "</div>"
      ],
      "text/plain": [
       "        class_0     class_1     class_2\n",
       "0     13.744746   12.278732   13.153750\n",
       "1      2.010678    1.932676    3.333750\n",
       "2      2.455593    2.244789    2.437083\n",
       "3     17.037288   20.238028   21.416667\n",
       "4    106.338983   94.549296   99.312500\n",
       "5      2.840169    2.258873    1.678750\n",
       "6      2.982373    2.080845    0.781458\n",
       "7      0.290000    0.363662    0.447500\n",
       "8      1.899322    1.630282    1.153542\n",
       "9      5.528305    3.086620    7.396250\n",
       "10     1.062034    1.056282    0.682708\n",
       "11     3.157797    2.785352    1.683542\n",
       "12  1115.711864  519.507042  629.895833"
      ]
     },
     "execution_count": 61,
     "metadata": {},
     "output_type": "execute_result"
    }
   ],
   "source": [
    "#class feature means\n",
    "class_feature_means = pd.DataFrame(columns=wine.target_names)\n",
    "for c, rows in X.groupby('class'):\n",
    "    class_feature_means[c] = rows.mean()\n",
    "class_feature_means"
   ]
  },
  {
   "cell_type": "code",
   "execution_count": 62,
   "metadata": {},
   "outputs": [
    {
     "data": {
      "text/plain": [
       "(3, 13)"
      ]
     },
     "execution_count": 62,
     "metadata": {},
     "output_type": "execute_result"
    }
   ],
   "source": [
    "#class mean\n",
    "class_means=X.groupby('class').mean()\n",
    "class_means.shape"
   ]
  },
  {
   "cell_type": "markdown",
   "metadata": {},
   "source": [
    "## Within scatter matrix"
   ]
  },
  {
   "cell_type": "code",
   "execution_count": 63,
   "metadata": {},
   "outputs": [],
   "source": [
    "within_class_scatter_matrix = np.zeros((class_feature_means.shape[0],class_feature_means.shape[0]))\n",
    "\n",
    "for c, rows in X.groupby('class'):\n",
    "    rows = rows.drop(['class'], axis=1)\n",
    "    s = np.zeros((class_feature_means.shape[0],class_feature_means.shape[0]))\n",
    "    for index, row in rows.iterrows():\n",
    "            x = row.values.reshape(class_feature_means.shape[0],1)\n",
    "            mc = class_feature_means[c].values.reshape(class_feature_means.shape[0],1)\n",
    "\n",
    "            s += (x - mc)@((x - mc).T)\n",
    "\n",
    "    within_class_scatter_matrix += s"
   ]
  },
  {
   "cell_type": "code",
   "execution_count": 71,
   "metadata": {},
   "outputs": [
    {
     "data": {
      "text/plain": [
       "array([ 4.58591821e+01,  1.43027601e+00, -2.32911012e+00, -1.70130181e+01,\n",
       "        3.13827137e+00,  4.74217613e+00,  3.96054915e+00, -1.70720423e-01,\n",
       "        2.93497768e+00,  4.31301457e+01,  1.36868361e-01, -8.72438861e-01,\n",
       "        2.14149506e+03])"
      ]
     },
     "execution_count": 71,
     "metadata": {},
     "output_type": "execute_result"
    }
   ],
   "source": [
    "within_class_scatter_matrix[0]"
   ]
  },
  {
   "cell_type": "markdown",
   "metadata": {},
   "source": [
    "## Between class scatter matrix"
   ]
  },
  {
   "cell_type": "code",
   "execution_count": 65,
   "metadata": {},
   "outputs": [
    {
     "data": {
      "text/plain": [
       "0      13.000618\n",
       "1       2.336348\n",
       "2       2.366517\n",
       "3      19.494944\n",
       "4      99.741573\n",
       "5       2.295112\n",
       "6       2.029270\n",
       "7       0.361854\n",
       "8       1.590899\n",
       "9       5.058090\n",
       "10      0.957449\n",
       "11      2.611685\n",
       "12    746.893258\n",
       "dtype: float64"
      ]
     },
     "execution_count": 65,
     "metadata": {},
     "output_type": "execute_result"
    }
   ],
   "source": [
    "#feature means\n",
    "feature_means=X.mean()\n",
    "feature_means"
   ]
  },
  {
   "cell_type": "code",
   "execution_count": 66,
   "metadata": {},
   "outputs": [],
   "source": [
    "between_class_scatter_matrix = np.zeros((13,13))\n",
    "for c in class_feature_means:    \n",
    "    n = len(X.loc[X['class'] == c].index)\n",
    "    \n",
    "    mc = class_feature_means[c].values.reshape(13,1)\n",
    "    m = feature_means.values.reshape(13,1)\n",
    "    \n",
    "    between_class_scatter_matrix += n * (mc - m)@((mc - m).T)"
   ]
  },
  {
   "cell_type": "code",
   "execution_count": 70,
   "metadata": {},
   "outputs": [
    {
     "data": {
      "text/plain": [
       "array([ 7.07948499e+01,  1.37229257e+01,  1.06684933e+01, -1.31860426e+02,\n",
       "        5.52620156e+02,  2.12568615e+01,  3.00293312e+01, -2.61778351e+00,\n",
       "        8.30762344e+00,  1.38875865e+02, -2.49334780e+00,  8.25295347e+00,\n",
       "        2.69868967e+04])"
      ]
     },
     "execution_count": 70,
     "metadata": {},
     "output_type": "execute_result"
    }
   ],
   "source": [
    "between_class_scatter_matrix[0]"
   ]
  },
  {
   "cell_type": "markdown",
   "metadata": {},
   "source": [
    "# PLDA version"
   ]
  },
  {
   "cell_type": "code",
   "execution_count": 68,
   "metadata": {},
   "outputs": [],
   "source": [
    "X=wine.data\n",
    "y=wine.target\n",
    "unique_labels = np.unique(y)\n",
    "labels = np.asarray(y)\n",
    "\n",
    "m = X.mean(axis=0)\n",
    "N = X.shape[0]\n",
    "\n",
    "cov_ks = []\n",
    "m_ks = []\n",
    "n_ks = []\n",
    "\n",
    "for k in unique_labels:\n",
    "    bool_idxs = labels == k\n",
    "    X_k = X[bool_idxs]\n",
    "\n",
    "    m_ks.append(X_k.mean(axis=0))\n",
    "    n_ks.append(bool_idxs.sum())\n",
    "\n",
    "    cov_ks.append(np.cov(X_k.T))\n",
    "\n",
    "n_ks = np.asarray(n_ks)\n",
    "m_ks = np.asarray(m_ks)\n",
    "\n",
    "m_ks_minus_m = m_ks - m\n",
    "S_b = np.matmul(m_ks_minus_m.T * (n_ks / N), m_ks_minus_m)\n",
    "\n",
    "S_w = np.asarray(cov_ks) * ((n_ks - 1) / N)[:, None, None]\n",
    "S_w = np.sum(S_w, axis=0)"
   ]
  },
  {
   "cell_type": "code",
   "execution_count": 76,
   "metadata": {},
   "outputs": [
    {
     "data": {
      "text/plain": [
       "array([ 4.0000e-01,  8.0000e-02,  6.0000e-02, -7.4000e-01,  3.1000e+00,\n",
       "        1.2000e-01,  1.7000e-01, -1.0000e-02,  5.0000e-02,  7.8000e-01,\n",
       "       -1.0000e-02,  5.0000e-02,  1.5161e+02])"
      ]
     },
     "execution_count": 76,
     "metadata": {},
     "output_type": "execute_result"
    }
   ],
   "source": [
    "S_b[0].round(2)"
   ]
  },
  {
   "cell_type": "code",
   "execution_count": 78,
   "metadata": {},
   "outputs": [
    {
     "data": {
      "text/plain": [
       "array([ 7.07948000e+01,  1.37229000e+01,  1.06685000e+01, -1.31860400e+02,\n",
       "        5.52620200e+02,  2.12569000e+01,  3.00293000e+01, -2.61780000e+00,\n",
       "        8.30760000e+00,  1.38875900e+02, -2.49330000e+00,  8.25300000e+00,\n",
       "        2.69868967e+04])"
      ]
     },
     "execution_count": 78,
     "metadata": {},
     "output_type": "execute_result"
    }
   ],
   "source": [
    "between_class_scatter_matrix[0].round(4)"
   ]
  },
  {
   "cell_type": "code",
   "execution_count": 74,
   "metadata": {},
   "outputs": [
    {
     "data": {
      "text/plain": [
       "array([-7.03971260e+01, -1.36458306e+01, -1.06085579e+01,  1.31119637e+02,\n",
       "       -5.49515548e+02, -2.11374409e+01, -2.98606271e+01,  2.60307686e+00,\n",
       "       -8.26095140e+00, -1.38095663e+02,  2.47934023e+00, -8.20658856e+00,\n",
       "       -2.68352849e+04])"
      ]
     },
     "execution_count": 74,
     "metadata": {},
     "output_type": "execute_result"
    }
   ],
   "source": [
    "S_b[0]-between_class_scatter_matrix[0]"
   ]
  },
  {
   "cell_type": "code",
   "execution_count": null,
   "metadata": {},
   "outputs": [],
   "source": []
  }
 ],
 "metadata": {
  "kernelspec": {
   "display_name": "Python 3",
   "language": "python",
   "name": "python3"
  },
  "language_info": {
   "codemirror_mode": {
    "name": "ipython",
    "version": 3
   },
   "file_extension": ".py",
   "mimetype": "text/x-python",
   "name": "python",
   "nbconvert_exporter": "python",
   "pygments_lexer": "ipython3",
   "version": "3.7.4"
  }
 },
 "nbformat": 4,
 "nbformat_minor": 2
}
