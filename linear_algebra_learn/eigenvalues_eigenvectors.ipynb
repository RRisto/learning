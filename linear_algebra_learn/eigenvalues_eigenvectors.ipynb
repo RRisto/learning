{
 "cells": [
  {
   "cell_type": "code",
   "execution_count": 136,
   "metadata": {
    "collapsed": true
   },
   "outputs": [],
   "source": [
    "import scipy\n",
    "import numpy as np\n",
    "import matplotlib.pyplot as plt\n",
    "%matplotlib inline"
   ]
  },
  {
   "cell_type": "markdown",
   "metadata": {},
   "source": [
    "## Calculation"
   ]
  },
  {
   "cell_type": "markdown",
   "metadata": {},
   "source": [
    "#### power method"
   ]
  },
  {
   "cell_type": "markdown",
   "metadata": {},
   "source": [
    "method to get dominant eigenvector"
   ]
  },
  {
   "cell_type": "code",
   "execution_count": 137,
   "metadata": {
    "collapsed": true
   },
   "outputs": [],
   "source": [
    "#source: https://en.wikipedia.org/wiki/Power_iteration\n",
    "def power_iteration(A, num_simulations):\n",
    "    # Ideally choose a random vector\n",
    "    # To decrease the chance that our vector\n",
    "    # Is orthogonal to the eigenvector\n",
    "    b_k = np.random.rand(A.shape[1])\n",
    "\n",
    "    for _ in range(num_simulations):\n",
    "        # calculate the matrix-by-vector product Ab\n",
    "        b_k1 = A@ b_k\n",
    "\n",
    "        # calculate the norm\n",
    "        b_k1_norm = np.linalg.norm(b_k1)\n",
    "\n",
    "        # re normalize the vector\n",
    "        b_k = b_k1 / b_k1_norm\n",
    "\n",
    "    return b_k"
   ]
  },
  {
   "cell_type": "code",
   "execution_count": 138,
   "metadata": {},
   "outputs": [
    {
     "data": {
      "text/plain": [
       "array([[ 0.5,  0.5],\n",
       "       [ 0.2,  0.8]])"
      ]
     },
     "execution_count": 138,
     "metadata": {},
     "output_type": "execute_result"
    }
   ],
   "source": [
    "A=np.array([[0.5, 0.5], [0.2, 0.8]])\n",
    "A"
   ]
  },
  {
   "cell_type": "code",
   "execution_count": 139,
   "metadata": {},
   "outputs": [
    {
     "data": {
      "text/plain": [
       "array([ 0.70710528,  0.70710828])"
      ]
     },
     "execution_count": 139,
     "metadata": {},
     "output_type": "execute_result"
    }
   ],
   "source": [
    "power_iteration(A, 10)"
   ]
  },
  {
   "cell_type": "markdown",
   "metadata": {},
   "source": [
    "numpy method to get eigenvector"
   ]
  },
  {
   "cell_type": "code",
   "execution_count": 140,
   "metadata": {
    "collapsed": true
   },
   "outputs": [],
   "source": [
    "#compare with numpu result\n",
    "eigvals, eigvecs=np.linalg.eig(A)"
   ]
  },
  {
   "cell_type": "code",
   "execution_count": 141,
   "metadata": {},
   "outputs": [
    {
     "data": {
      "text/plain": [
       "array([ 0.3,  1. ])"
      ]
     },
     "execution_count": 141,
     "metadata": {},
     "output_type": "execute_result"
    }
   ],
   "source": [
    "eigvals"
   ]
  },
  {
   "cell_type": "code",
   "execution_count": 142,
   "metadata": {},
   "outputs": [
    {
     "data": {
      "text/plain": [
       "array([[-0.92847669, -0.70710678],\n",
       "       [ 0.37139068, -0.70710678]])"
      ]
     },
     "execution_count": 142,
     "metadata": {},
     "output_type": "execute_result"
    }
   ],
   "source": [
    "eigvecs"
   ]
  },
  {
   "cell_type": "code",
   "execution_count": 143,
   "metadata": {},
   "outputs": [
    {
     "data": {
      "text/plain": [
       "array([[ 0.5,  0.5],\n",
       "       [ 0.2,  0.8]])"
      ]
     },
     "execution_count": 143,
     "metadata": {},
     "output_type": "execute_result"
    }
   ],
   "source": [
    "#we can get original matrix from eigenvectors and -values\n",
    "eigvecs @np.diag(eigvals)@ np.linalg.inv(eigvecs)"
   ]
  },
  {
   "cell_type": "markdown",
   "metadata": {},
   "source": [
    "confirm first vector is eigenvector"
   ]
  },
  {
   "cell_type": "code",
   "execution_count": 144,
   "metadata": {},
   "outputs": [
    {
     "name": "stdout",
     "output_type": "stream",
     "text": [
      "[-0.27854301  0.1114172 ]\n",
      "[-0.27854301  0.1114172 ]\n"
     ]
    }
   ],
   "source": [
    "# confirm first eigenvector\n",
    "B = A @ (eigvecs[:, 0])\n",
    "print(B)\n",
    "C = eigvecs[:, 0] * eigvals[0]\n",
    "print(C)"
   ]
  },
  {
   "cell_type": "markdown",
   "metadata": {},
   "source": [
    "## Visual meaning"
   ]
  },
  {
   "cell_type": "markdown",
   "metadata": {},
   "source": [
    "idea: http://setosa.io/ev/eigenvectors-and-eigenvalues/"
   ]
  },
  {
   "cell_type": "markdown",
   "metadata": {},
   "source": [
    "we have vector v (a point). we also have matrix transformation matrix A with columns a1 and a2. Av is just v multiplied by A. let's plot them"
   ]
  },
  {
   "cell_type": "code",
   "execution_count": 145,
   "metadata": {
    "scrolled": true
   },
   "outputs": [
    {
     "data": {
      "text/plain": [
       "<matplotlib.text.Text at 0x7fc0dc4dd780>"
      ]
     },
     "execution_count": 145,
     "metadata": {},
     "output_type": "execute_result"
    },
    {
     "data": {
      "image/png": "[encoded data removed]",
      "text/plain": [
       "<matplotlib.figure.Figure at 0x7fc0dc4f0fd0>"
      ]
     },
     "metadata": {},
     "output_type": "display_data"
    }
   ],
   "source": [
    "v=np.array([1.57,2.15])\n",
    "A=np.array([[1.04, 0.26],\n",
    "          [0.63, 0.96]])\n",
    "Av=A@v\n",
    "\n",
    "fig, ax = plt.subplots()\n",
    "ax.set_xlim([-1,4])\n",
    "ax.set_ylim([-1,4])\n",
    "ax.hlines(0,-10, 10, linestyle='--')\n",
    "ax.vlines(0,-10, 10, linestyle='--')\n",
    "\n",
    "ax.scatter(*v, color='red')\n",
    "ax.text(*(v*1.03), 'v', fontsize=15, color='red')\n",
    "\n",
    "ax.scatter(*Av, color='red')\n",
    "ax.text(*(Av*1.03), 'Av', fontsize=15, color='red')\n",
    "ax.arrow(*v, *(Av-v),color='pink')\n",
    "\n",
    "ax.arrow(0, 0, *A[:,0], head_width=0.05, head_length=0.1, color='green')\n",
    "ax.text(*(A[:,0]*1.1), 'a1', fontsize=15, color='green')\n",
    "ax.arrow(0, 0, *A[:,1], head_width=0.05, head_length=0.1, color='blue')\n",
    "ax.text(*(A[:,1]*1.1), 'a2', fontsize=15, color='blue')"
   ]
  },
  {
   "cell_type": "markdown",
   "metadata": {},
   "source": [
    "If you can draw a line through the three points (0,0), v and Av, then Av is just v multiplied by a number λ; that is, Av=λv. In this case, we call λ an eigenvalue and v an eigenvector. Let's calculate eigenvectors and eigenvalues and see them on the plot"
   ]
  },
  {
   "cell_type": "code",
   "execution_count": 146,
   "metadata": {},
   "outputs": [
    {
     "data": {
      "text/plain": [
       "array([ 1.40669399,  0.59330601])"
      ]
     },
     "execution_count": 146,
     "metadata": {},
     "output_type": "execute_result"
    }
   ],
   "source": [
    "eigvals, eigvecs=np.linalg.eig(A)\n",
    "eigvals"
   ]
  },
  {
   "cell_type": "code",
   "execution_count": 147,
   "metadata": {},
   "outputs": [
    {
     "data": {
      "text/plain": [
       "array([[ 0.5784001 , -0.5030458 ],\n",
       "       [ 0.81575323,  0.86425975]])"
      ]
     },
     "execution_count": 147,
     "metadata": {},
     "output_type": "execute_result"
    }
   ],
   "source": [
    "eigvecs"
   ]
  },
  {
   "cell_type": "code",
   "execution_count": 148,
   "metadata": {},
   "outputs": [
    {
     "data": {
      "image/png": "[encoded data removed]",
      "text/plain": [
       "<matplotlib.figure.Figure at 0x7fc0dc4f0fd0>"
      ]
     },
     "execution_count": 148,
     "metadata": {},
     "output_type": "execute_result"
    }
   ],
   "source": [
    "ax.arrow(0,0, *eigvecs[:,0]*2, color='purple')\n",
    "ax.arrow(0,0, *eigvecs[:,1]*2, color='purple')\n",
    "fig"
   ]
  },
  {
   "cell_type": "markdown",
   "metadata": {},
   "source": [
    "we can see, that one of the eigenvectors is going to match vector v Av. Eigenvectors are perpendicular. In essence, an eigenvector of a linear transformation A is a non-zero vector that, when A is applied to it, does not change direction. Applying A to the eigenvector only scales the eigenvector by the scalar value λ, called an eigenvalue."
   ]
  },
  {
   "cell_type": "markdown",
   "metadata": {},
   "source": [
    "## Version 2"
   ]
  },
  {
   "cell_type": "markdown",
   "metadata": {},
   "source": [
    "transformation matrix A and matrix that we'll be transforming x."
   ]
  },
  {
   "cell_type": "code",
   "execution_count": 149,
   "metadata": {
    "collapsed": true
   },
   "outputs": [],
   "source": [
    "A = np.matrix([[1, 0.3], [0.45, 1.2]])"
   ]
  },
  {
   "cell_type": "code",
   "execution_count": 150,
   "metadata": {
    "collapsed": true
   },
   "outputs": [],
   "source": [
    "x=np.array([[-10,-10, 20,20],\n",
    "           [-10, 20, 20, -10]])"
   ]
  },
  {
   "cell_type": "code",
   "execution_count": 151,
   "metadata": {},
   "outputs": [
    {
     "data": {
      "image/png": "[encoded data removed]",
      "text/plain": [
       "<matplotlib.figure.Figure at 0x7fc0dc565b00>"
      ]
     },
     "metadata": {},
     "output_type": "display_data"
    }
   ],
   "source": [
    "fig, ax = plt.subplots()\n",
    "ax.set_xlim([-30,40])\n",
    "ax.set_ylim([-30,40])\n",
    "ax.hlines(0,-100, 100, linestyle='--')\n",
    "ax.vlines(0,-100, 100, linestyle='--')\n",
    "\n",
    "x_points, y_points = x\n",
    "size=len(x[0])\n",
    "for i in range(size):\n",
    "    ax.plot(x_points[i], y_points[i], color='blue', marker='o')\n",
    "    ax.plot([x_points[i], x_points[(i+1) % size]], \n",
    "             [y_points[i], y_points[(i+1) % size]], \n",
    "             color='blue', linestyle='-', linewidth=2)"
   ]
  },
  {
   "cell_type": "markdown",
   "metadata": {},
   "source": [
    "apply transformation"
   ]
  },
  {
   "cell_type": "code",
   "execution_count": 152,
   "metadata": {
    "collapsed": true
   },
   "outputs": [],
   "source": [
    "Ax=A@x"
   ]
  },
  {
   "cell_type": "code",
   "execution_count": 153,
   "metadata": {},
   "outputs": [
    {
     "data": {
      "image/png": "[encoded data removed]",
      "text/plain": [
       "<matplotlib.figure.Figure at 0x7fc0dc565b00>"
      ]
     },
     "execution_count": 153,
     "metadata": {},
     "output_type": "execute_result"
    }
   ],
   "source": [
    "x_points, y_points = Ax\n",
    "x_points=np.array(x_points)[0]\n",
    "y_points=np.array(y_points)[0]\n",
    "\n",
    "# size=len(x[0])\n",
    "for i in range(size):\n",
    "    ax.plot(x_points[i], y_points[i], color='green', marker='o')\n",
    "    ax.plot([x_points[i], x_points[(i+1) % size]], \n",
    "             [y_points[i], y_points[(i+1) % size]], \n",
    "             color='green', linestyle='-', linewidth=2)\n",
    "fig"
   ]
  },
  {
   "cell_type": "markdown",
   "metadata": {},
   "source": [
    "calculate eigenvalues and -vectors"
   ]
  },
  {
   "cell_type": "code",
   "execution_count": 159,
   "metadata": {},
   "outputs": [
    {
     "data": {
      "text/plain": [
       "array([ 0.71921134,  1.48078866])"
      ]
     },
     "execution_count": 159,
     "metadata": {},
     "output_type": "execute_result"
    }
   ],
   "source": [
    "evals, evecs = np.linalg.eig(A)\n",
    "evals"
   ]
  },
  {
   "cell_type": "code",
   "execution_count": 160,
   "metadata": {},
   "outputs": [
    {
     "data": {
      "text/plain": [
       "matrix([[-0.73009717, -0.52937334],\n",
       "        [ 0.68334334, -0.84838898]])"
      ]
     },
     "execution_count": 160,
     "metadata": {},
     "output_type": "execute_result"
    }
   ],
   "source": [
    "evecs"
   ]
  },
  {
   "cell_type": "markdown",
   "metadata": {},
   "source": [
    "calculate gradient to plot eigenvectors"
   ]
  },
  {
   "cell_type": "code",
   "execution_count": 155,
   "metadata": {
    "collapsed": true
   },
   "outputs": [],
   "source": [
    "x_v1, y_v1 = evecs[:,0].getA1()\n",
    "x_v2, y_v2 = evecs[:,1].getA1()"
   ]
  },
  {
   "cell_type": "code",
   "execution_count": 156,
   "metadata": {},
   "outputs": [
    {
     "data": {
      "text/plain": [
       "(-0.93596218431065159, 1.6026288509773183)"
      ]
     },
     "execution_count": 156,
     "metadata": {},
     "output_type": "execute_result"
    }
   ],
   "source": [
    "m1 = y_v1/x_v1 # Gradient of 1st eigenvector\n",
    "m2 = y_v2/x_v2 # Gradient of 2nd eigenvector\n",
    "m1, m2"
   ]
  },
  {
   "cell_type": "markdown",
   "metadata": {},
   "source": [
    "plot them"
   ]
  },
  {
   "cell_type": "code",
   "execution_count": 158,
   "metadata": {},
   "outputs": [
    {
     "data": {
      "image/png": "[encoded data removed]",
      "text/plain": [
       "<matplotlib.figure.Figure at 0x7fc0dc565b00>"
      ]
     },
     "execution_count": 158,
     "metadata": {},
     "output_type": "execute_result"
    }
   ],
   "source": [
    "ax.plot([x_v1*-50, x_v1*50], [y_v1*-50, y_v1*50],linestyle='--', linewidth=1, color='purple')\n",
    "ax.plot([x_v2*-50, x_v2*50], [y_v2*-50, y_v2*50],linestyle='--',linewidth=1, color='purple')\n",
    "ax.annotate('e1', xy=(-20, 14),textcoords='data', weight='semibold', color='purple')\n",
    "ax.annotate('e2', xy=(-11, -20),textcoords='data', weight='semibold', color='purple')\n",
    "fig"
   ]
  },
  {
   "cell_type": "markdown",
   "metadata": {},
   "source": [
    "eigenvalue 1 is smaller than 1 which means transformation reduces length in e1 side, it is other way around with eigenvalue 2 and e2"
   ]
  },
  {
   "cell_type": "code",
   "execution_count": null,
   "metadata": {
    "collapsed": true
   },
   "outputs": [],
   "source": []
  }
 ],
 "metadata": {
  "kernelspec": {
   "display_name": "Python 3",
   "language": "python",
   "name": "python3"
  },
  "language_info": {
   "codemirror_mode": {
    "name": "ipython",
    "version": 3
   },
   "file_extension": ".py",
   "mimetype": "text/x-python",
   "name": "python",
   "nbconvert_exporter": "python",
   "pygments_lexer": "ipython3",
   "version": "3.6.1"
  }
 },
 "nbformat": 4,
 "nbformat_minor": 2
}
