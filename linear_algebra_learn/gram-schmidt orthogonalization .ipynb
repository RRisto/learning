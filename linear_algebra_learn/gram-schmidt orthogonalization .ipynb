{
 "cells": [
  {
   "cell_type": "code",
   "execution_count": 139,
   "metadata": {},
   "outputs": [],
   "source": [
    "import numpy as np\n",
    "import matplotlib.pyplot as plt\n",
    "%matplotlib inline"
   ]
  },
  {
   "cell_type": "markdown",
   "metadata": {},
   "source": [
    "In Linear Algebra, Gram-Schmidt process is a method for orthogonalization:\n",
    "\n",
    "given a matrix A it produces an Orthogonal Matrix Q from it\n",
    "A must have linearly independent columns"
   ]
  },
  {
   "cell_type": "markdown",
   "metadata": {},
   "source": [
    "We have matrix A, which columns are a and b"
   ]
  },
  {
   "cell_type": "code",
   "execution_count": 140,
   "metadata": {},
   "outputs": [
    {
     "data": {
      "text/plain": [
       "array([[3, 2],\n",
       "       [0, 2]])"
      ]
     },
     "execution_count": 140,
     "metadata": {},
     "output_type": "execute_result"
    }
   ],
   "source": [
    "A=np.array([[3,2],[0,2]])\n",
    "A"
   ]
  },
  {
   "cell_type": "code",
   "execution_count": 141,
   "metadata": {},
   "outputs": [
    {
     "data": {
      "text/plain": [
       "<matplotlib.text.Text at 0x7f90a962d7f0>"
      ]
     },
     "execution_count": 141,
     "metadata": {},
     "output_type": "execute_result"
    },
    {
     "data": {
      "image/png": "[encoded data removed]",
      "text/plain": [
       "<matplotlib.figure.Figure at 0x7f90a96b4d30>"
      ]
     },
     "metadata": {},
     "output_type": "display_data"
    }
   ],
   "source": [
    "fig, ax =plt.subplots()\n",
    "ax.set_xlim([-1,4])\n",
    "ax.set_ylim([-1,4])\n",
    "ax.hlines(0,-10, 10, linestyle='--')\n",
    "ax.vlines(0,-10, 10, linestyle='--')\n",
    "ax.arrow(0,0, *A[:,0], head_width=0.05, head_length=0.1, color='green')\n",
    "ax.text(*(A[:,0]*1.1), 'a', fontsize=15, color='green')\n",
    "ax.arrow(0,0, *A[:,1], head_width=0.05, head_length=0.1, color='blue')\n",
    "ax.text(*(A[:,1]*1.1), 'b', fontsize=15, color='blue')"
   ]
  },
  {
   "cell_type": "markdown",
   "metadata": {},
   "source": [
    "We want to make columns a and b orthagonal and then normalize them. A is ok (it is pointing into a direction of Q1 which we consider orthagonal. But we want to make it orthagonal to b"
   ]
  },
  {
   "cell_type": "code",
   "execution_count": 142,
   "metadata": {},
   "outputs": [
    {
     "data": {
      "text/plain": [
       "array([ 2.,  0.])"
      ]
     },
     "execution_count": 142,
     "metadata": {},
     "output_type": "execute_result"
    }
   ],
   "source": [
    "(A[:,0].T @A[:,1])/(A[:,0].T @A[:,0].T )*A[:,0].T "
   ]
  },
  {
   "cell_type": "markdown",
   "metadata": {},
   "source": [
    "to get orthogonal b, let's project b onto a"
   ]
  },
  {
   "cell_type": "code",
   "execution_count": 143,
   "metadata": {},
   "outputs": [
    {
     "data": {
      "image/png": "[encoded data removed]",
      "text/plain": [
       "<matplotlib.figure.Figure at 0x7f90a96b4d30>"
      ]
     },
     "execution_count": 143,
     "metadata": {},
     "output_type": "execute_result"
    }
   ],
   "source": [
    "#example calculation taken from here: http://mlwiki.org/index.php/Gram-Schmidt_Process\n",
    "proj_b=(A[:,0].T @A[:,1])/(A[:,0].T @A[:,0].T )*A[:,0].T \n",
    "ax.scatter(*proj_b)\n",
    "ax.arrow(*proj_b, *(A[:,1]-proj_b), head_width=0.05, head_length=0.1,linestyle=':', color='blue')\n",
    "ax.text(proj_b[0]*1.05,1,'e', fontsize=15)\n",
    "fig"
   ]
  },
  {
   "cell_type": "markdown",
   "metadata": {},
   "source": [
    "Notice that e is our projection error (b-proj_b). E has same direction and legth as would be needed for orthogonal vector (that would be orthogonal to a)"
   ]
  },
  {
   "cell_type": "code",
   "execution_count": 144,
   "metadata": {},
   "outputs": [
    {
     "data": {
      "text/plain": [
       "array([ 0.,  2.])"
      ]
     },
     "execution_count": 144,
     "metadata": {},
     "output_type": "execute_result"
    }
   ],
   "source": [
    "q2=A[:,1]-proj_b\n",
    "q2"
   ]
  },
  {
   "cell_type": "code",
   "execution_count": 145,
   "metadata": {},
   "outputs": [
    {
     "data": {
      "image/png": "[encoded data removed]",
      "text/plain": [
       "<matplotlib.figure.Figure at 0x7f90a96b4d30>"
      ]
     },
     "execution_count": 145,
     "metadata": {},
     "output_type": "execute_result"
    }
   ],
   "source": [
    "ax.arrow(0,0, *q2, head_width=0.05, head_length=0.1, color='blue')\n",
    "# ax.text(*(q2*1.1),'q2', color='red', fontsize=15)\n",
    "fig"
   ]
  },
  {
   "cell_type": "markdown",
   "metadata": {},
   "source": [
    "for finalization we should normalize Q1 (A) and Q2 to get unit length"
   ]
  },
  {
   "cell_type": "code",
   "execution_count": 146,
   "metadata": {},
   "outputs": [
    {
     "data": {
      "image/png": "[encoded data removed]",
      "text/plain": [
       "<matplotlib.figure.Figure at 0x7f90a96b4d30>"
      ]
     },
     "execution_count": 146,
     "metadata": {},
     "output_type": "execute_result"
    }
   ],
   "source": [
    "def normalize(v):\n",
    "    return v / np.sqrt(v @ v)\n",
    "\n",
    "q1=normalize(A[:,0])\n",
    "q2=normalize(q2)\n",
    "\n",
    "ax.arrow(0,0, *q1, head_width=0.05, head_length=0.1,linewidth=3, color='red')\n",
    "ax.text(*q1*1.1,'Q1', color='red',fontsize=15)\n",
    "ax.arrow(0,0,*q2, head_width=0.05, head_length=0.1, linewidth=3, color='red')\n",
    "ax.text(*q2*1.1,'Q2', color='red',fontsize=15)\n",
    "fig"
   ]
  },
  {
   "cell_type": "code",
   "execution_count": 147,
   "metadata": {},
   "outputs": [
    {
     "data": {
      "text/plain": [
       "(array([ 1.,  0.]), array([ 0.,  1.]))"
      ]
     },
     "execution_count": 147,
     "metadata": {},
     "output_type": "execute_result"
    }
   ],
   "source": [
    "q1, q2"
   ]
  },
  {
   "cell_type": "markdown",
   "metadata": {},
   "source": [
    "gram-schmidt orthogonalization as algorithm:"
   ]
  },
  {
   "cell_type": "code",
   "execution_count": 148,
   "metadata": {},
   "outputs": [],
   "source": [
    "def gs(mat):\n",
    "    A=mat.copy()\n",
    "    n = len(A)\n",
    "    A[:, 0] = normalize(A[:, 0])\n",
    "\n",
    "    for i in range(1, n):\n",
    "        Ai = A[:, i]\n",
    "        for j in range(0, i):\n",
    "            Aj = A[:, j]\n",
    "            t = Ai @ Aj \n",
    "            Ai = Ai - t * Aj\n",
    "        A[:, i] = normalize(Ai)\n",
    "        \n",
    "    return A"
   ]
  },
  {
   "cell_type": "code",
   "execution_count": 151,
   "metadata": {},
   "outputs": [],
   "source": [
    "A_gs=gs(A)"
   ]
  },
  {
   "cell_type": "code",
   "execution_count": 159,
   "metadata": {},
   "outputs": [
    {
     "data": {
      "text/plain": [
       "True"
      ]
     },
     "execution_count": 159,
     "metadata": {},
     "output_type": "execute_result"
    }
   ],
   "source": [
    "np.allclose(A_gs, np.stack((q1,q2), axis=1))"
   ]
  },
  {
   "cell_type": "code",
   "execution_count": null,
   "metadata": {},
   "outputs": [],
   "source": []
  },
  {
   "cell_type": "code",
   "execution_count": null,
   "metadata": {
    "collapsed": true
   },
   "outputs": [],
   "source": []
  }
 ],
 "metadata": {
  "kernelspec": {
   "display_name": "Python 3",
   "language": "python",
   "name": "python3"
  },
  "language_info": {
   "codemirror_mode": {
    "name": "ipython",
    "version": 3
   },
   "file_extension": ".py",
   "mimetype": "text/x-python",
   "name": "python",
   "nbconvert_exporter": "python",
   "pygments_lexer": "ipython3",
   "version": "3.6.1"
  }
 },
 "nbformat": 4,
 "nbformat_minor": 2
}
