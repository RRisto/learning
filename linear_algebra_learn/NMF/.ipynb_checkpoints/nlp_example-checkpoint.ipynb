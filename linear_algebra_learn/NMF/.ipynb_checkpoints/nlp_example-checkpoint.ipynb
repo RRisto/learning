{
 "cells": [
  {
   "cell_type": "code",
   "execution_count": 41,
   "metadata": {},
   "outputs": [],
   "source": [
    "import numpy as np\n",
    "from sklearn.datasets import fetch_20newsgroups\n",
    "from sklearn import decomposition\n",
    "from scipy import linalg\n",
    "import matplotlib.pyplot as plt\n",
    "from sklearn.feature_extraction.text import CountVectorizer, TfidfVectorizer\n",
    "import nimfa"
   ]
  },
  {
   "cell_type": "markdown",
   "metadata": {},
   "source": [
    "## Data"
   ]
  },
  {
   "cell_type": "code",
   "execution_count": 42,
   "metadata": {},
   "outputs": [],
   "source": [
    "categories = ['alt.atheism', 'talk.religion.misc', 'comp.graphics', 'sci.space']\n",
    "remove = ('headers', 'footers', 'quotes')\n",
    "newsgroups_train = fetch_20newsgroups(subset='train', categories=categories, remove=remove)\n",
    "newsgroups_test = fetch_20newsgroups(subset='test', categories=categories, remove=remove)"
   ]
  },
  {
   "cell_type": "code",
   "execution_count": 43,
   "metadata": {},
   "outputs": [
    {
     "data": {
      "text/plain": [
       "((2034,), (2034,))"
      ]
     },
     "execution_count": 43,
     "metadata": {},
     "output_type": "execute_result"
    }
   ],
   "source": [
    "newsgroups_train.filenames.shape, newsgroups_train.target.shape"
   ]
  },
  {
   "cell_type": "code",
   "execution_count": 44,
   "metadata": {},
   "outputs": [
    {
     "name": "stdout",
     "output_type": "stream",
     "text": [
      "Hi,\n",
      "\n",
      "I've noticed that if you only save a model (with all your mapping planes\n",
      "positioned carefully) to a .3DS file that when you reload it after restarting\n",
      "3DS, they are given a default position and orientation.  But if you save\n",
      "to a .PRJ file their positions/orientation are preserved.  Does anyone\n",
      "know why this information is not stored in the .3DS file?  Nothing is\n",
      "explicitly said in the manual about saving texture rules in the .PRJ file. \n",
      "I'd like to be able to read the texture rule information, does anyone have \n",
      "the format for the .PRJ file?\n",
      "\n",
      "Is the .CEL file format available from somewhere?\n",
      "\n",
      "Rych\n",
      "\n",
      "\n",
      "Seems to be, barring evidence to the contrary, that Koresh was simply\n",
      "another deranged fanatic who thought it neccessary to take a whole bunch of\n",
      "folks with him, children and all, to satisfy his delusional mania. Jim\n",
      "Jones, circa 1993.\n",
      "\n",
      "\n",
      "Nope - fruitcakes like Koresh have been demonstrating such evil corruption\n",
      "for centuries.\n",
      "\n",
      " >In article <1993Apr19.020359.26996@sq.sq.com>, msb@sq.sq.com (Mark Brader) \n",
      "\n",
      "MB>                                                             So the\n",
      "MB> 1970 figure seems unlikely to actually be anything but a perijove.\n",
      "\n",
      "JG>Sorry, _perijoves_...I'm not used to talking this language.\n",
      "\n",
      "Couldn't we just say periapsis or apoapsis?\n",
      "\n",
      " \n"
     ]
    }
   ],
   "source": [
    "print(\"\\n\".join(newsgroups_train.data[:3]))"
   ]
  },
  {
   "cell_type": "code",
   "execution_count": 45,
   "metadata": {},
   "outputs": [
    {
     "data": {
      "text/plain": [
       "(2034, 26576)"
      ]
     },
     "execution_count": 45,
     "metadata": {},
     "output_type": "execute_result"
    }
   ],
   "source": [
    "vectorizer = CountVectorizer(stop_words='english')\n",
    "vectors = vectorizer.fit_transform(newsgroups_train.data).todense() # (documents, vocab)\n",
    "vectors.shape #, vectors.nnz / vectors.shape[0], row_means.shape"
   ]
  },
  {
   "cell_type": "code",
   "execution_count": 147,
   "metadata": {},
   "outputs": [],
   "source": [
    "vocab = np.array(vectorizer.get_feature_names())"
   ]
  },
  {
   "cell_type": "code",
   "execution_count": 137,
   "metadata": {},
   "outputs": [
    {
     "data": {
      "text/plain": [
       "(26576,)"
      ]
     },
     "execution_count": 137,
     "metadata": {},
     "output_type": "execute_result"
    }
   ],
   "source": [
    "vocab.shape"
   ]
  },
  {
   "cell_type": "markdown",
   "metadata": {},
   "source": [
    "## NMF"
   ]
  },
  {
   "cell_type": "code",
   "execution_count": 138,
   "metadata": {},
   "outputs": [],
   "source": [
    "m,n=vectors.shape\n",
    "d=5  # num topics"
   ]
  },
  {
   "cell_type": "code",
   "execution_count": 139,
   "metadata": {},
   "outputs": [],
   "source": [
    "clf = decomposition.NMF(n_components=d, random_state=1)\n",
    "\n",
    "W1 = clf.fit_transform(vectors)\n",
    "H1 = clf.components_"
   ]
  },
  {
   "cell_type": "code",
   "execution_count": 140,
   "metadata": {},
   "outputs": [],
   "source": [
    "num_top_words=8\n",
    "\n",
    "def show_topics(a):\n",
    "    top_words = lambda t: [vocab[i] for i in np.argsort(t)[:-num_top_words-1:-1]]\n",
    "    topic_words = ([top_words(t) for t in a])\n",
    "    return [' '.join(t) for t in topic_words]"
   ]
  },
  {
   "cell_type": "code",
   "execution_count": 141,
   "metadata": {},
   "outputs": [
    {
     "data": {
      "text/plain": [
       "array([[1.21260827e-01, 0.00000000e+00, 0.00000000e+00, ...,\n",
       "        3.20158583e-05, 6.40317166e-05, 2.89955054e-04],\n",
       "       [1.19285748e-01, 1.20852675e-01, 1.65916014e-04, ...,\n",
       "        1.16499969e-04, 2.32999937e-04, 5.18641224e-02],\n",
       "       [5.76639107e-02, 4.81606444e-01, 7.99303371e-04, ...,\n",
       "        2.87622789e-04, 5.75245577e-04, 0.00000000e+00],\n",
       "       [0.00000000e+00, 1.47943345e-01, 0.00000000e+00, ...,\n",
       "        6.58515991e-05, 1.31703198e-04, 0.00000000e+00],\n",
       "       [1.27421920e-01, 1.93564170e-01, 5.04719721e-04, ...,\n",
       "        0.00000000e+00, 0.00000000e+00, 0.00000000e+00]])"
      ]
     },
     "execution_count": 141,
     "metadata": {},
     "output_type": "execute_result"
    }
   ],
   "source": [
    "H1"
   ]
  },
  {
   "cell_type": "code",
   "execution_count": 142,
   "metadata": {},
   "outputs": [
    {
     "data": {
      "text/plain": [
       "['jpeg', 'image', 'gif', 'file', 'color', 'images', 'format', 'quality']"
      ]
     },
     "execution_count": 142,
     "metadata": {},
     "output_type": "execute_result"
    }
   ],
   "source": [
    "t=H1[0]\n",
    "np.argsort(t)[:-num_top_words-1:-1]\n",
    "[vocab[i] for i in np.argsort(t)[:-num_top_words-1:-1]]"
   ]
  },
  {
   "cell_type": "code",
   "execution_count": 52,
   "metadata": {},
   "outputs": [
    {
     "data": {
      "text/plain": [
       "['jpeg image gif file color images format quality',\n",
       " 'edu graphics pub mail 128 ray ftp send',\n",
       " 'space launch satellite nasa commercial satellites year market',\n",
       " 'jesus god people matthew atheists does atheism said',\n",
       " 'image data available software processing ftp edu analysis']"
      ]
     },
     "execution_count": 52,
     "metadata": {},
     "output_type": "execute_result"
    }
   ],
   "source": [
    "show_topics(H1)"
   ]
  },
  {
   "cell_type": "markdown",
   "metadata": {},
   "source": [
    "## NIMFA"
   ]
  },
  {
   "cell_type": "code",
   "execution_count": 143,
   "metadata": {},
   "outputs": [],
   "source": [
    "lsnmf = nimfa.Lsnmf(vectors, seed='random_vcol', rank=d, max_iter=100)\n",
    "lsnmf_fit = lsnmf()"
   ]
  },
  {
   "cell_type": "code",
   "execution_count": 144,
   "metadata": {},
   "outputs": [],
   "source": [
    "# fitted=lsnmf_fit.fit()"
   ]
  },
  {
   "cell_type": "code",
   "execution_count": 149,
   "metadata": {},
   "outputs": [
    {
     "data": {
      "text/plain": [
       "(26576, 5)"
      ]
     },
     "execution_count": 149,
     "metadata": {},
     "output_type": "execute_result"
    }
   ],
   "source": [
    "H = lsnmf_fit.fit.coef().T\n",
    "H.shape"
   ]
  },
  {
   "cell_type": "code",
   "execution_count": 151,
   "metadata": {},
   "outputs": [
    {
     "data": {
      "text/plain": [
       "['jpeg image gif file color images format quality',\n",
       " 'space launch satellite nasa commercial satellites year market',\n",
       " 'image data available software processing ftp edu analysis',\n",
       " 'edu graphics pub mail 128 ray ftp send',\n",
       " 'jesus god people matthew atheists does atheism said']"
      ]
     },
     "execution_count": 151,
     "metadata": {},
     "output_type": "execute_result"
    }
   ],
   "source": [
    "show_topics(np.array(H.T))"
   ]
  },
  {
   "cell_type": "markdown",
   "metadata": {},
   "source": [
    "## From scratch"
   ]
  },
  {
   "cell_type": "code",
   "execution_count": 58,
   "metadata": {},
   "outputs": [],
   "source": [
    "lam=1e3\n",
    "lr=1e-3\n",
    "mu = 1e-6\n",
    "def grads(M, W, H):\n",
    "    R = W@H-M\n",
    "    return R@H.T + penalty(W, mu)*lam, W.T@R + penalty(H, mu)*lam # dW, dH"
   ]
  },
  {
   "cell_type": "code",
   "execution_count": 59,
   "metadata": {},
   "outputs": [],
   "source": [
    "def penalty(M, mu):\n",
    "    return np.where(M>=mu,0, np.min(M - mu, 0))"
   ]
  },
  {
   "cell_type": "code",
   "execution_count": 60,
   "metadata": {},
   "outputs": [],
   "source": [
    "def upd(M, W, H, lr):\n",
    "    dW,dH = grads(M,W,H)\n",
    "    W -= lr*dW \n",
    "    H -= lr*dH"
   ]
  },
  {
   "cell_type": "code",
   "execution_count": 61,
   "metadata": {},
   "outputs": [],
   "source": [
    "def report(M,W,H): \n",
    "    print(np.linalg.norm(M-W@H), W.min(), H.min(), (W<0).sum(), (H<0).sum())"
   ]
  },
  {
   "cell_type": "code",
   "execution_count": 62,
   "metadata": {},
   "outputs": [],
   "source": [
    "W = np.abs(np.random.normal(scale=0.01, size=(m,d)))\n",
    "H = np.abs(np.random.normal(scale=0.01, size=(d,n)))"
   ]
  },
  {
   "cell_type": "code",
   "execution_count": 63,
   "metadata": {},
   "outputs": [
    {
     "name": "stdout",
     "output_type": "stream",
     "text": [
      "937.394319325329 4.208720036561017e-07 1.864664115033727e-07 0 0\n"
     ]
    }
   ],
   "source": [
    "report(vectors, W, H)"
   ]
  },
  {
   "cell_type": "code",
   "execution_count": 64,
   "metadata": {},
   "outputs": [],
   "source": [
    "upd(vectors,W,H,lr)"
   ]
  },
  {
   "cell_type": "code",
   "execution_count": 65,
   "metadata": {},
   "outputs": [
    {
     "name": "stdout",
     "output_type": "stream",
     "text": [
      "937.3019044616235 -9.790472461399145e-06 -4.557188270896063e-06 1 3\n"
     ]
    }
   ],
   "source": [
    "report(vectors, W, H)"
   ]
  },
  {
   "cell_type": "code",
   "execution_count": 66,
   "metadata": {},
   "outputs": [
    {
     "name": "stdout",
     "output_type": "stream",
     "text": [
      "937.1562610445386 -8.251572238422342e-05 -6.916790464710828e-06 7 4\n",
      "845.2769786380487 -0.002101633764528055 -0.002994447295256277 194 13590\n",
      "826.9514826848998 -0.03259065212254781 -0.08442809490244027 464 53242\n",
      "782.9971186269846 -0.4848788444381057 -0.3847345867777468 1283 44853\n",
      "734.9604187600945 -0.41941611133385576 -0.8112379591887059 818 43511\n"
     ]
    }
   ],
   "source": [
    "for i in range(50): \n",
    "    upd(vectors,W,H,lr)\n",
    "    if i % 10 == 0: report(vectors,W,H)"
   ]
  },
  {
   "cell_type": "code",
   "execution_count": 67,
   "metadata": {},
   "outputs": [
    {
     "data": {
      "text/plain": [
       "['graphics edu pub mail 128 3d ray send',\n",
       " 'jpeg gif file color format image quality images',\n",
       " 'image data available software images processing ftp display',\n",
       " 'jesus god people matthew atheists does atheism space',\n",
       " 'space nasa launch data satellite edu available commercial']"
      ]
     },
     "execution_count": 67,
     "metadata": {},
     "output_type": "execute_result"
    }
   ],
   "source": [
    "show_topics(H)"
   ]
  },
  {
   "cell_type": "code",
   "execution_count": 68,
   "metadata": {},
   "outputs": [],
   "source": [
    "def nmf_fastai(X, k):\n",
    "    \n",
    "    m,n=X.shape\n",
    "    lam=1e3\n",
    "    lr=1e-3\n",
    "    mu = 1e-6\n",
    "    \n",
    "    def penalty(M, mu):\n",
    "        return np.where(M>=mu,0, np.min(M - mu, 0))\n",
    "    \n",
    "    def grads(M, W, H):\n",
    "        R = W@H-M\n",
    "        return R@H.T + penalty(W, mu)*lam, W.T@R + penalty(H, mu)*lam # dW, dH\n",
    "    \n",
    "    def upd(M, W, H, lr):\n",
    "        dW,dH = grads(M,W,H)\n",
    "        W -= lr*dW \n",
    "        H -= lr*dH\n",
    "        \n",
    "    def report(M,W,H): \n",
    "        print(np.linalg.norm(M-W@H), W.min(), H.min(), (W<0).sum(), (H<0).sum())\n",
    "        \n",
    "    W = np.abs(np.random.normal(scale=0.01, size=(m,k)))\n",
    "    H = np.abs(np.random.normal(scale=0.01, size=(k,n)))\n",
    "    \n",
    "    for i in range(50): \n",
    "        upd(X,W,H,lr)\n",
    "        if i % 10 == 0: report(X,W,H)\n",
    "            \n",
    "    return W, H"
   ]
  },
  {
   "cell_type": "markdown",
   "metadata": {},
   "source": [
    "## Example"
   ]
  },
  {
   "cell_type": "code",
   "execution_count": 69,
   "metadata": {},
   "outputs": [],
   "source": [
    "#http://www.quuxlabs.com/blog/2010/09/matrix-factorization-a-simple-tutorial-and-implementation-in-python/\n",
    "\n",
    "def matrix_factorization(R, P, Q, K, steps=5000, alpha=0.0002, beta=0.02):\n",
    "    Q = Q.T\n",
    "    for step in range(steps):\n",
    "        for i in range(len(R)):\n",
    "            for j in range(len(R[i])):\n",
    "                if R[i][j] > 0:\n",
    "                    eij = R[i][j] - np.dot(P[i,:],Q[:,j])\n",
    "                    for k in range(K):\n",
    "                        P[i][k] = P[i][k] + alpha * (2 * eij * Q[k][j] - beta * P[i][k])\n",
    "                        Q[k][j] = Q[k][j] + alpha * (2 * eij * P[i][k] - beta * Q[k][j])\n",
    "        eR = np.dot(P,Q)\n",
    "        e = 0\n",
    "        for i in range(len(R)):\n",
    "            for j in range(len(R[i])):\n",
    "                if R[i][j] > 0:\n",
    "                    e = e + pow(R[i][j] - np.dot(P[i,:],Q[:,j]), 2)\n",
    "                    for k in range(K):\n",
    "                        e = e + (beta/2) * (pow(P[i][k],2) + pow(Q[k][j],2))\n",
    "        if e < 0.001:\n",
    "            break\n",
    "    return P, Q.T"
   ]
  },
  {
   "cell_type": "code",
   "execution_count": 70,
   "metadata": {},
   "outputs": [],
   "source": [
    "R = [\n",
    "     [5,3,0,1],\n",
    "     [4,0,0,1],\n",
    "     [1,1,0,5],\n",
    "     [1,0,0,4],\n",
    "     [0,1,5,4],\n",
    "    ]\n",
    "\n",
    "R = np.array(R)\n",
    "\n",
    "N = len(R)\n",
    "M = len(R[0])\n",
    "K = 2\n",
    "\n",
    "P = np.random.rand(N,K)\n",
    "Q = np.random.rand(M,K)\n",
    "\n",
    "nP, nQ = matrix_factorization(R, P, Q, K)\n",
    "nR = np.dot(nP, nQ.T)"
   ]
  },
  {
   "cell_type": "code",
   "execution_count": 71,
   "metadata": {},
   "outputs": [
    {
     "data": {
      "text/plain": [
       "array([[5.03948664, 2.79611505, 6.02967333, 0.99846336],\n",
       "       [3.92724826, 2.18078197, 4.80751916, 0.99894544],\n",
       "       [1.1194064 , 0.6593958 , 3.67327915, 4.96701983],\n",
       "       [0.94005193, 0.55218392, 2.98958168, 3.97772638],\n",
       "       [2.61554862, 1.47950793, 4.85349324, 4.02342868]])"
      ]
     },
     "execution_count": 71,
     "metadata": {},
     "output_type": "execute_result"
    }
   ],
   "source": [
    "nR"
   ]
  },
  {
   "cell_type": "markdown",
   "metadata": {},
   "source": [
    "## Example from here https://github.com/canerturkmen/nmflib/blob/master/nmf.py"
   ]
  },
  {
   "cell_type": "code",
   "execution_count": 120,
   "metadata": {},
   "outputs": [],
   "source": [
    "def nmf(X, k, maxiter=10000, eps = 1e-7):\n",
    "    \"\"\"\n",
    "    Euclidean distance reducing update rules for NMF, presented in Lee and Seung (2001)\n",
    "    \"\"\"\n",
    "\n",
    "    m, n = X.shape\n",
    "    V = X\n",
    "    pdist = 1e9 #very large number\n",
    "\n",
    "    W = np.random.rand(m, k)\n",
    "    H = np.random.rand(k, n)\n",
    "    print(f'W shape {W.shape}')\n",
    "    print(f'H shape {H.shape}')\n",
    "    print(f'V shape {V.shape}')\n",
    "\n",
    "    dist_prev=None\n",
    "\n",
    "    for i in range(maxiter):\n",
    "        # multiplicative update steps, Euclidean error reducing\n",
    "        H = H * np.asarray((( W.T @ V + eps) / (W.T @ W @ H + eps)))\n",
    "        W = W * np.asarray(((V @ H.T + eps) / (W @ H @ H.T) + eps))\n",
    "        # every 10 iterations, check convergence\n",
    "        if i % 100 == 0:\n",
    "            dist = np.linalg.norm(V-W @ H, 'fro')\n",
    "            print(dist)\n",
    "            if dist_prev is not None and np.absolute(dist-dist_prev)<0.0001:\n",
    "                break\n",
    "            dist_prev=dist\n",
    "        \n",
    "    return W, H"
   ]
  },
  {
   "cell_type": "code",
   "execution_count": 121,
   "metadata": {},
   "outputs": [
    {
     "name": "stdout",
     "output_type": "stream",
     "text": [
      "W shape (5, 2)\n",
      "H shape (2, 4)\n",
      "V shape (5, 4)\n",
      "7.531827480813318\n",
      "4.276530106063982\n",
      "4.27652983055678\n"
     ]
    }
   ],
   "source": [
    "R = [\n",
    "     [5,3,0,1],\n",
    "     [4,0,0,1],\n",
    "     [1,1,0,5],\n",
    "     [1,0,0,4],\n",
    "     [0,1,5,4],\n",
    "    ]\n",
    "\n",
    "R = np.array(R)\n",
    "\n",
    "W, H=nmf(R, 2)"
   ]
  },
  {
   "cell_type": "code",
   "execution_count": 122,
   "metadata": {},
   "outputs": [
    {
     "data": {
      "text/plain": [
       "array([[5.256, 1.993, 0.   , 1.455],\n",
       "       [3.504, 1.329, 0.   , 0.97 ],\n",
       "       [1.313, 0.944, 1.95 , 3.946],\n",
       "       [0.981, 0.722, 1.528, 3.079],\n",
       "       [0.   , 0.65 , 2.84 , 5.219]])"
      ]
     },
     "execution_count": 122,
     "metadata": {},
     "output_type": "execute_result"
    }
   ],
   "source": [
    "np.round(W@H,3)"
   ]
  },
  {
   "cell_type": "code",
   "execution_count": 123,
   "metadata": {},
   "outputs": [],
   "source": [
    "#compare with sklearn\n",
    "clf = decomposition.NMF(n_components=2, random_state=1)\n",
    "\n",
    "W1 = clf.fit_transform(R)\n",
    "H1 = clf.components_"
   ]
  },
  {
   "cell_type": "code",
   "execution_count": 124,
   "metadata": {},
   "outputs": [
    {
     "data": {
      "text/plain": [
       "array([[5.256, 1.993, 0.   , 1.455],\n",
       "       [3.504, 1.329, 0.   , 0.97 ],\n",
       "       [1.313, 0.944, 1.95 , 3.946],\n",
       "       [0.981, 0.722, 1.528, 3.079],\n",
       "       [0.   , 0.65 , 2.84 , 5.219]])"
      ]
     },
     "execution_count": 124,
     "metadata": {},
     "output_type": "execute_result"
    }
   ],
   "source": [
    "np.round(W1@H1,3)"
   ]
  },
  {
   "cell_type": "code",
   "execution_count": 125,
   "metadata": {},
   "outputs": [
    {
     "name": "stdout",
     "output_type": "stream",
     "text": [
      "11.746743814598913 0.0005687431216813925 0.0004519828946395782 0 0\n",
      "11.746588952462163 0.0012181328996124967 0.001966773056243306 0 0\n",
      "11.746409327330042 0.0018954938136096855 0.0021821744870477873 0 0\n",
      "11.746199399556309 0.0026058082716954515 0.00242456923499874 0 0\n",
      "11.745952651604146 0.003354346783311343 0.002699778027101388 0 0\n"
     ]
    }
   ],
   "source": [
    "#compare with fastai\n",
    "W2,H2=nmf_fastai(R, 3)"
   ]
  },
  {
   "cell_type": "code",
   "execution_count": 126,
   "metadata": {},
   "outputs": [
    {
     "data": {
      "text/plain": [
       "array([[0.001, 0.001, 0.   , 0.001],\n",
       "       [0.   , 0.001, 0.   , 0.001],\n",
       "       [0.   , 0.001, 0.   , 0.001],\n",
       "       [0.   , 0.001, 0.   , 0.001],\n",
       "       [0.001, 0.001, 0.   , 0.001]])"
      ]
     },
     "execution_count": 126,
     "metadata": {},
     "output_type": "execute_result"
    }
   ],
   "source": [
    "np.round(W2@H2,3)"
   ]
  },
  {
   "cell_type": "code",
   "execution_count": 127,
   "metadata": {},
   "outputs": [
    {
     "data": {
      "text/plain": [
       "(2034, 26576)"
      ]
     },
     "execution_count": 127,
     "metadata": {},
     "output_type": "execute_result"
    }
   ],
   "source": [
    "vectors.shape"
   ]
  },
  {
   "cell_type": "code",
   "execution_count": 131,
   "metadata": {},
   "outputs": [
    {
     "name": "stdout",
     "output_type": "stream",
     "text": [
      "W shape (2034, 5)\n",
      "H shape (5, 26576)\n",
      "V shape (2034, 26576)\n",
      "874.8311928437424\n",
      "683.4242772527566\n",
      "683.4054974846455\n",
      "683.4015503759783\n",
      "683.4003360760464\n",
      "683.3999265257044\n",
      "683.399721275439\n",
      "683.3995992009104\n",
      "683.3995270224874\n"
     ]
    },
    {
     "data": {
      "text/plain": [
       "['edu graphics pub mail 128 ray ftp send',\n",
       " 'space launch satellite nasa commercial satellites year market',\n",
       " 'jesus god people matthew atheists does atheism said',\n",
       " 'jpeg image gif file color images format quality',\n",
       " 'image data available software processing ftp edu analysis']"
      ]
     },
     "execution_count": 131,
     "metadata": {},
     "output_type": "execute_result"
    }
   ],
   "source": [
    "#for topics\n",
    "_, H_topic=nmf(vectors, 5, maxiter=1000)\n",
    "show_topics(H_topic)"
   ]
  },
  {
   "cell_type": "code",
   "execution_count": 132,
   "metadata": {},
   "outputs": [],
   "source": [
    "clf = decomposition.NMF(n_components=5, random_state=1)\n",
    "\n",
    "W1_topic = clf.fit_transform(vectors)\n",
    "H1_topic = clf.components_"
   ]
  },
  {
   "cell_type": "code",
   "execution_count": 133,
   "metadata": {},
   "outputs": [
    {
     "data": {
      "text/plain": [
       "['jpeg image gif file color images format quality',\n",
       " 'edu graphics pub mail 128 ray ftp send',\n",
       " 'space launch satellite nasa commercial satellites year market',\n",
       " 'jesus god people matthew atheists does atheism said',\n",
       " 'image data available software processing ftp edu analysis']"
      ]
     },
     "execution_count": 133,
     "metadata": {},
     "output_type": "execute_result"
    }
   ],
   "source": [
    "show_topics(H1_topic)"
   ]
  },
  {
   "cell_type": "code",
   "execution_count": null,
   "metadata": {},
   "outputs": [],
   "source": []
  }
 ],
 "metadata": {
  "kernelspec": {
   "display_name": "Python 3.7.4 64-bit ('base': conda)",
   "language": "python",
   "name": "python37464bitbaseconda3c2e7dd945fe4d1ba39ed3bbf64cdaac"
  },
  "language_info": {
   "codemirror_mode": {
    "name": "ipython",
    "version": 3
   },
   "file_extension": ".py",
   "mimetype": "text/x-python",
   "name": "python",
   "nbconvert_exporter": "python",
   "pygments_lexer": "ipython3",
   "version": "3.7.4"
  }
 },
 "nbformat": 4,
 "nbformat_minor": 2
}
