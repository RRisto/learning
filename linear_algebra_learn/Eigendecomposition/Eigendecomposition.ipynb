{
 "cells": [
  {
   "cell_type": "code",
   "execution_count": 1,
   "metadata": {},
   "outputs": [],
   "source": [
    "import numpy as np\n",
    "import pandas as pd\n",
    "import matplotlib.pyplot as plt\n",
    "from matplotlib import ticker\n",
    "%matplotlib inline"
   ]
  },
  {
   "cell_type": "markdown",
   "metadata": {},
   "source": [
    "#### Helpers"
   ]
  },
  {
   "cell_type": "code",
   "execution_count": 35,
   "metadata": {},
   "outputs": [],
   "source": [
    "def plot_vectors(vectors=[(0, 0, 1, 2),(0, 0, 3, 1)], \n",
    "                 texts=[r'$\\vec{x}$', r'$\\vec{y}$', 'projection'], \n",
    "                 texts_locs=[(0.2, 1), (1.5, 0.2), (1.5, 1)], text_size=18, \n",
    "                 colors=[\"#2EBCE7\",\"#00E64E\", \"purple\"],   \n",
    "                 xlim=(-3.5, 3.5), ylim=(-3.5,3.5), x_label='x', y_label='y', \n",
    "                 scale=1, scale_units='xy'):\n",
    "    fig, ax =plt.subplots(figsize=(6,6))\n",
    "    ax.xaxis.set_major_locator(ticker.MultipleLocator(1))\n",
    "    ax.yaxis.set_major_locator(ticker.MultipleLocator(1))\n",
    "    \n",
    "    for i, vec in enumerate(vectors):\n",
    "        ax.quiver(*vec, color=colors[i], angles='xy', scale_units=scale_units, scale=scale)\n",
    "        plt.text(*texts_locs[i], texts[i], color=colors[i], size=text_size)\n",
    "\n",
    "    # draw axes\n",
    "    plt.axhline(0, c='#d6d6d6', zorder=0)\n",
    "    plt.axvline(0, c='#d6d6d6', zorder=0)\n",
    "\n",
    "    plt.xlim(*xlim)\n",
    "    plt.ylim(*ylim)\n",
    "    plt.xlabel(x_label)\n",
    "    plt.ylabel(y_label)\n",
    "    plt.show()"
   ]
  },
  {
   "cell_type": "markdown",
   "metadata": {},
   "source": [
    "## Change of basis"
   ]
  },
  {
   "cell_type": "code",
   "execution_count": 36,
   "metadata": {},
   "outputs": [
    {
     "data": {
      "text/plain": [
       "(array([0.8, 1.5]), array([-1.3,  0.3]))"
      ]
     },
     "execution_count": 36,
     "metadata": {},
     "output_type": "execute_result"
    }
   ],
   "source": [
    "#change of basis vectors\n",
    "x_hat=np.array([0.8, 1.5])\n",
    "y_hat=np.array([-1.3,0.3])\n",
    "x_hat, y_hat"
   ]
  },
  {
   "cell_type": "markdown",
   "metadata": {},
   "source": [
    "Let's see these vectors in standard basis. These vectors describe new basis vectors in standard basis system (B2)"
   ]
  },
  {
   "cell_type": "code",
   "execution_count": 37,
   "metadata": {},
   "outputs": [
    {
     "data": {
      "image/png": "[encoded data removed]",
      "text/plain": [
       "<Figure size 432x432 with 1 Axes>"
      ]
     },
     "metadata": {
      "needs_background": "light"
     },
     "output_type": "display_data"
    }
   ],
   "source": [
    "plot_vectors([x_hat, y_hat], texts_locs=[x_hat, y_hat])"
   ]
  },
  {
   "cell_type": "markdown",
   "metadata": {},
   "source": [
    "Let's have them in a matrix form. Note this matrix transforms values from output basis (B2) to input bases (standard bases)!"
   ]
  },
  {
   "cell_type": "code",
   "execution_count": 38,
   "metadata": {},
   "outputs": [
    {
     "data": {
      "text/plain": [
       "array([[ 0.8, -1.3],\n",
       "       [ 1.5,  0.3]])"
      ]
     },
     "execution_count": 38,
     "metadata": {},
     "output_type": "execute_result"
    }
   ],
   "source": [
    "B_2=np.stack((x_hat, y_hat)).T #have to transpose so that 1st col would correspond to x and second col to y values\n",
    "B_2"
   ]
  },
  {
   "cell_type": "markdown",
   "metadata": {},
   "source": [
    "Now we have a vector for which we want to change the basis from standard basis to B2"
   ]
  },
  {
   "cell_type": "code",
   "execution_count": 6,
   "metadata": {},
   "outputs": [],
   "source": [
    "v_B1 = np.array([2, 1])"
   ]
  },
  {
   "cell_type": "markdown",
   "metadata": {},
   "source": [
    "to transform this vector from input (standard) basis to output basis (B2) we need to use inverse"
   ]
  },
  {
   "cell_type": "code",
   "execution_count": 39,
   "metadata": {},
   "outputs": [
    {
     "data": {
      "text/plain": [
       "array([ 0.86757991, -1.00456621])"
      ]
     },
     "execution_count": 39,
     "metadata": {},
     "output_type": "execute_result"
    }
   ],
   "source": [
    "v_B2 = np.linalg.inv(B_2) @ v_B1\n",
    "v_B2"
   ]
  },
  {
   "cell_type": "markdown",
   "metadata": {},
   "source": [
    "to get back to standard basis we could use B_2 and shoukd get back original vector"
   ]
  },
  {
   "cell_type": "code",
   "execution_count": 40,
   "metadata": {},
   "outputs": [
    {
     "data": {
      "text/plain": [
       "array([2., 1.])"
      ]
     },
     "execution_count": 40,
     "metadata": {},
     "output_type": "execute_result"
    }
   ],
   "source": [
    "B_2 @v_B2 #same vector"
   ]
  },
  {
   "cell_type": "markdown",
   "metadata": {},
   "source": [
    "## Transformation matrix"
   ]
  },
  {
   "cell_type": "markdown",
   "metadata": {},
   "source": [
    "We have transformation matrix A which is defined in the standard basis. "
   ]
  },
  {
   "cell_type": "code",
   "execution_count": 41,
   "metadata": {},
   "outputs": [
    {
     "data": {
      "text/plain": [
       "array([[1, 1],\n",
       "       [1, 1]])"
      ]
     },
     "execution_count": 41,
     "metadata": {},
     "output_type": "execute_result"
    }
   ],
   "source": [
    "A=np.array([[1,1],\n",
    "          [1,1]])\n",
    "A"
   ]
  },
  {
   "cell_type": "markdown",
   "metadata": {},
   "source": [
    "Now we want to find  transformation in bases B2"
   ]
  },
  {
   "cell_type": "code",
   "execution_count": 10,
   "metadata": {},
   "outputs": [
    {
     "data": {
      "text/plain": [
       "array([[ 1.6803653 , -0.73059361],\n",
       "       [-0.73515982,  0.3196347 ]])"
      ]
     },
     "execution_count": 10,
     "metadata": {},
     "output_type": "execute_result"
    }
   ],
   "source": [
    "D= np.linalg.inv(B_2) @ A @ B_2\n",
    "D"
   ]
  },
  {
   "cell_type": "markdown",
   "metadata": {},
   "source": [
    "lets check if it is poducing same result as A, but in different basis"
   ]
  },
  {
   "cell_type": "code",
   "execution_count": 42,
   "metadata": {},
   "outputs": [
    {
     "data": {
      "text/plain": [
       "(array([3, 3]), array([3., 3.]))"
      ]
     },
     "execution_count": 42,
     "metadata": {},
     "output_type": "execute_result"
    }
   ],
   "source": [
    "W_B1= A@ v_B1\n",
    "#this should be same as W_B1\n",
    "W_B1_1 = B_2 @ D @ np.linalg.inv(B_2) @ v_B1\n",
    "W_B1, W_B1_1"
   ]
  },
  {
   "cell_type": "markdown",
   "metadata": {},
   "source": [
    "Lets plot our vector v_B1 and how A transforms it "
   ]
  },
  {
   "cell_type": "code",
   "execution_count": 43,
   "metadata": {},
   "outputs": [
    {
     "data": {
      "image/png": "[encoded data removed]",
      "text/plain": [
       "<Figure size 432x432 with 1 Axes>"
      ]
     },
     "metadata": {
      "needs_background": "light"
     },
     "output_type": "display_data"
    }
   ],
   "source": [
    "#original vector\n",
    "ax=plot_vectors([v_B1], texts_locs=[v_B1], texts=['original vec'])"
   ]
  },
  {
   "cell_type": "code",
   "execution_count": 44,
   "metadata": {},
   "outputs": [
    {
     "data": {
      "image/png": "[encoded data removed]",
      "text/plain": [
       "<Figure size 432x432 with 1 Axes>"
      ]
     },
     "metadata": {
      "needs_background": "light"
     },
     "output_type": "display_data"
    }
   ],
   "source": [
    "#transformed vector\n",
    "ax=plot_vectors([v_B1, W_B1], texts_locs=[v_B1, W_B1], texts=['original vec', 'transformed vec'])"
   ]
  },
  {
   "cell_type": "markdown",
   "metadata": {},
   "source": [
    "## Eigenvectors and values"
   ]
  },
  {
   "cell_type": "markdown",
   "metadata": {},
   "source": [
    "#### Helpers"
   ]
  },
  {
   "cell_type": "code",
   "execution_count": 69,
   "metadata": {},
   "outputs": [],
   "source": [
    "def plot_beer(x, y, x_label=\"Maximal temperature ($\\degree$C)\", y_label=\"Consuption (liters)\", \n",
    "              alpha=0.3, draw_axes=False):\n",
    "    plt.scatter(x, y, alpha=alpha)\n",
    "    # [...] Add labels and custom axes\n",
    "\n",
    "    plt.xlabel(x_label)\n",
    "    plt.ylabel(y_label)\n",
    "\n",
    "    # Assure that ticks are displayed with a specific step\n",
    "    ax = plt.gca()\n",
    "    ax.xaxis.set_major_locator(ticker.MultipleLocator(5))\n",
    "    ax.yaxis.set_major_locator(ticker.MultipleLocator(5))\n",
    "    \n",
    "    if draw_axes:\n",
    "        # draw axes\n",
    "        plt.axhline(0, c='#d6d6d6', zorder=0)\n",
    "        plt.axvline(0, c='#d6d6d6', zorder=0)\n",
    "\n",
    "    # assure x and y axis have the same scale\n",
    "    plt.axis('equal')\n",
    "    plt.show()"
   ]
  },
  {
   "cell_type": "markdown",
   "metadata": {},
   "source": [
    "#### Data"
   ]
  },
  {
   "cell_type": "markdown",
   "metadata": {},
   "source": [
    "We have beer data from here: https://www.kaggle.com/dongeorge/beer-consumption-sao-paulo"
   ]
  },
  {
   "cell_type": "code",
   "execution_count": 46,
   "metadata": {},
   "outputs": [
    {
     "data": {
      "text/plain": [
       "(365, 7)"
      ]
     },
     "execution_count": 46,
     "metadata": {},
     "output_type": "execute_result"
    }
   ],
   "source": [
    "data_beer = pd.read_csv(\"data/beer_dataset.csv\")\n",
    "data_beer.shape"
   ]
  },
  {
   "cell_type": "code",
   "execution_count": 48,
   "metadata": {},
   "outputs": [
    {
     "data": {
      "text/html": [
       "<div>\n",
       "<style scoped>\n",
       "    .dataframe tbody tr th:only-of-type {\n",
       "        vertical-align: middle;\n",
       "    }\n",
       "\n",
       "    .dataframe tbody tr th {\n",
       "        vertical-align: top;\n",
       "    }\n",
       "\n",
       "    .dataframe thead th {\n",
       "        text-align: right;\n",
       "    }\n",
       "</style>\n",
       "<table border=\"1\" class=\"dataframe\">\n",
       "  <thead>\n",
       "    <tr style=\"text-align: right;\">\n",
       "      <th></th>\n",
       "      <th>Data</th>\n",
       "      <th>Temperatura Media (C)</th>\n",
       "      <th>Temperatura Minima (C)</th>\n",
       "      <th>Temperatura Maxima (C)</th>\n",
       "      <th>Precipitacao (mm)</th>\n",
       "      <th>Final de Semana</th>\n",
       "      <th>Consumo de cerveja (litros)</th>\n",
       "    </tr>\n",
       "  </thead>\n",
       "  <tbody>\n",
       "    <tr>\n",
       "      <th>0</th>\n",
       "      <td>2015-01-01</td>\n",
       "      <td>27.30</td>\n",
       "      <td>23.9</td>\n",
       "      <td>32.5</td>\n",
       "      <td>0.0</td>\n",
       "      <td>0.0</td>\n",
       "      <td>25.461</td>\n",
       "    </tr>\n",
       "    <tr>\n",
       "      <th>1</th>\n",
       "      <td>2015-01-02</td>\n",
       "      <td>27.02</td>\n",
       "      <td>24.5</td>\n",
       "      <td>33.5</td>\n",
       "      <td>0.0</td>\n",
       "      <td>0.0</td>\n",
       "      <td>28.972</td>\n",
       "    </tr>\n",
       "    <tr>\n",
       "      <th>2</th>\n",
       "      <td>2015-01-03</td>\n",
       "      <td>24.82</td>\n",
       "      <td>22.4</td>\n",
       "      <td>29.9</td>\n",
       "      <td>0.0</td>\n",
       "      <td>1.0</td>\n",
       "      <td>30.814</td>\n",
       "    </tr>\n",
       "    <tr>\n",
       "      <th>3</th>\n",
       "      <td>2015-01-04</td>\n",
       "      <td>23.98</td>\n",
       "      <td>21.5</td>\n",
       "      <td>28.6</td>\n",
       "      <td>1.2</td>\n",
       "      <td>1.0</td>\n",
       "      <td>29.799</td>\n",
       "    </tr>\n",
       "    <tr>\n",
       "      <th>4</th>\n",
       "      <td>2015-01-05</td>\n",
       "      <td>23.82</td>\n",
       "      <td>21.0</td>\n",
       "      <td>28.3</td>\n",
       "      <td>0.0</td>\n",
       "      <td>0.0</td>\n",
       "      <td>28.900</td>\n",
       "    </tr>\n",
       "  </tbody>\n",
       "</table>\n",
       "</div>"
      ],
      "text/plain": [
       "         Data  Temperatura Media (C)  Temperatura Minima (C)  \\\n",
       "0  2015-01-01                  27.30                    23.9   \n",
       "1  2015-01-02                  27.02                    24.5   \n",
       "2  2015-01-03                  24.82                    22.4   \n",
       "3  2015-01-04                  23.98                    21.5   \n",
       "4  2015-01-05                  23.82                    21.0   \n",
       "\n",
       "   Temperatura Maxima (C)  Precipitacao (mm)  Final de Semana  \\\n",
       "0                    32.5                0.0              0.0   \n",
       "1                    33.5                0.0              0.0   \n",
       "2                    29.9                0.0              1.0   \n",
       "3                    28.6                1.2              1.0   \n",
       "4                    28.3                0.0              0.0   \n",
       "\n",
       "   Consumo de cerveja (litros)  \n",
       "0                       25.461  \n",
       "1                       28.972  \n",
       "2                       30.814  \n",
       "3                       29.799  \n",
       "4                       28.900  "
      ]
     },
     "execution_count": 48,
     "metadata": {},
     "output_type": "execute_result"
    }
   ],
   "source": [
    "data_beer.head()"
   ]
  },
  {
   "cell_type": "code",
   "execution_count": 70,
   "metadata": {},
   "outputs": [
    {
     "data": {
      "image/png": "[encoded data removed]",
      "text/plain": [
       "<Figure size 432x288 with 1 Axes>"
      ]
     },
     "metadata": {
      "needs_background": "light"
     },
     "output_type": "display_data"
    }
   ],
   "source": [
    "plot_beer(data_beer['Temperatura Maxima (C)'],\n",
    "            data_beer['Consumo de cerveja (litros)'])"
   ]
  },
  {
   "cell_type": "markdown",
   "metadata": {},
   "source": [
    "Keep only max temp and beer consumption columns"
   ]
  },
  {
   "cell_type": "code",
   "execution_count": 72,
   "metadata": {},
   "outputs": [],
   "source": [
    "#make datasets \n",
    "X = np.array([data_beer['Temperatura Maxima (C)'],\n",
    "            data_beer['Consumo de cerveja (litros)']]).T"
   ]
  },
  {
   "cell_type": "markdown",
   "metadata": {},
   "source": [
    "#### Eigendecomposition of covariance matrix"
   ]
  },
  {
   "cell_type": "markdown",
   "metadata": {},
   "source": [
    "First let's find covariance matrix"
   ]
  },
  {
   "cell_type": "code",
   "execution_count": 73,
   "metadata": {},
   "outputs": [
    {
     "data": {
      "text/plain": [
       "array([[18.63964745, 12.20609082],\n",
       "       [12.20609082, 19.35245652]])"
      ]
     },
     "execution_count": 73,
     "metadata": {},
     "output_type": "execute_result"
    }
   ],
   "source": [
    "C = np.cov(X, rowvar=False)\n",
    "C"
   ]
  },
  {
   "cell_type": "code",
   "execution_count": 74,
   "metadata": {},
   "outputs": [
    {
     "data": {
      "text/plain": [
       "array([[6784.83167123, 4443.01705808],\n",
       "       [4443.01705808, 7044.29417481]])"
      ]
     },
     "execution_count": 74,
     "metadata": {},
     "output_type": "execute_result"
    }
   ],
   "source": [
    "#we can calculate covariance matrix using AtA matrix\n",
    "X_norm = np.array([data_beer['Temperatura Maxima (C)'],\n",
    "            data_beer['Consumo de cerveja (litros)']]).T\n",
    "#in this case we have to zero center data beforehand\n",
    "X_norm -= X_norm.mean(axis=0)\n",
    "C_mat=np.transpose(X_norm)@X_norm\n",
    "C_mat"
   ]
  },
  {
   "cell_type": "markdown",
   "metadata": {},
   "source": [
    "Find eigenvalues and vectors"
   ]
  },
  {
   "cell_type": "code",
   "execution_count": 75,
   "metadata": {},
   "outputs": [
    {
     "data": {
      "text/plain": [
       "(array([ 6.78475896, 31.20734501]),\n",
       " array([[-0.71735154, -0.69671139],\n",
       "        [ 0.69671139, -0.71735154]]))"
      ]
     },
     "execution_count": 75,
     "metadata": {},
     "output_type": "execute_result"
    }
   ],
   "source": [
    "eigvals, eigvecs = np.linalg.eig(C)\n",
    "eigvals, eigvecs"
   ]
  },
  {
   "cell_type": "markdown",
   "metadata": {},
   "source": [
    "Eigenvectors are same in our second covariance matrix, also order of eigenvalues is same"
   ]
  },
  {
   "cell_type": "code",
   "execution_count": 76,
   "metadata": {},
   "outputs": [
    {
     "data": {
      "text/plain": [
       "(array([ 2469.65226294, 11359.4735831 ]),\n",
       " array([[-0.71735154, -0.69671139],\n",
       "        [ 0.69671139, -0.71735154]]))"
      ]
     },
     "execution_count": 76,
     "metadata": {},
     "output_type": "execute_result"
    }
   ],
   "source": [
    "eigvals_mat, eigvecs_mat = np.linalg.eig(C_mat)\n",
    "eigvals_mat, eigvecs_mat"
   ]
  },
  {
   "cell_type": "markdown",
   "metadata": {},
   "source": [
    "Turn eigenvectors into u and v matrix"
   ]
  },
  {
   "cell_type": "code",
   "execution_count": 77,
   "metadata": {},
   "outputs": [
    {
     "data": {
      "text/plain": [
       "array([[-0.71735154],\n",
       "       [ 0.69671139]])"
      ]
     },
     "execution_count": 77,
     "metadata": {},
     "output_type": "execute_result"
    }
   ],
   "source": [
    "u = eigvecs[:, 0].reshape(-1, 1)\n",
    "v = eigvecs[:, 1].reshape(-1, 1)\n",
    "u"
   ]
  },
  {
   "cell_type": "code",
   "execution_count": 78,
   "metadata": {},
   "outputs": [
    {
     "data": {
      "text/plain": [
       "array([[-0.69671139],\n",
       "       [-0.71735154]])"
      ]
     },
     "execution_count": 78,
     "metadata": {},
     "output_type": "execute_result"
    }
   ],
   "source": [
    "v"
   ]
  },
  {
   "cell_type": "markdown",
   "metadata": {},
   "source": [
    "Plot eigenvectors"
   ]
  },
  {
   "cell_type": "code",
   "execution_count": 80,
   "metadata": {},
   "outputs": [
    {
     "data": {
      "image/png": "[encoded data removed]",
      "text/plain": [
       "<Figure size 432x288 with 1 Axes>"
      ]
     },
     "metadata": {
      "needs_background": "light"
     },
     "output_type": "display_data"
    }
   ],
   "source": [
    "plt.quiver(0, 0,\n",
    "           2 * np.sqrt(eigvals[0]) * u[0], 2 * np.sqrt(eigvals[0]) * u[1],\n",
    "           color=\"#919191\", angles='xy', scale_units='xy', scale=1,\n",
    "           zorder=2, width=0.011)\n",
    "plt.quiver(0, 0,\n",
    "           2 * np.sqrt(eigvals[1]) * v[0], 2 * np.sqrt(eigvals[1]) * v[1],\n",
    "           color=\"#FF8177\", angles='xy', scale_units='xy', scale=1,\n",
    "           zorder=2, width=0.011)\n",
    "\n",
    "plot_beer(X_centered[:, 0], X_centered[:, 1], draw_axes=True)"
   ]
  },
  {
   "cell_type": "markdown",
   "metadata": {},
   "source": [
    "Sort eigevecs based on eignevalues order"
   ]
  },
  {
   "cell_type": "code",
   "execution_count": 23,
   "metadata": {},
   "outputs": [
    {
     "data": {
      "text/plain": [
       "array([[-0.69671139, -0.71735154],\n",
       "       [-0.71735154,  0.69671139]])"
      ]
     },
     "execution_count": 23,
     "metadata": {},
     "output_type": "execute_result"
    }
   ],
   "source": [
    "sort_index = eigvals.argsort()[::-1]   \n",
    "\n",
    "eigvals_sorted = eigvals[sort_index]\n",
    "eigvecs_sorted = eigvecs[:, sort_index]\n",
    "eigvecs_sorted"
   ]
  },
  {
   "cell_type": "markdown",
   "metadata": {},
   "source": [
    "Change the basis of data to eigenbasis"
   ]
  },
  {
   "cell_type": "code",
   "execution_count": 24,
   "metadata": {},
   "outputs": [],
   "source": [
    "X_transformed = X_centered @ eigvecs_sorted"
   ]
  },
  {
   "cell_type": "code",
   "execution_count": 83,
   "metadata": {},
   "outputs": [
    {
     "data": {
      "image/png": "[encoded data removed]",
      "text/plain": [
       "<Figure size 432x288 with 1 Axes>"
      ]
     },
     "metadata": {
      "needs_background": "light"
     },
     "output_type": "display_data"
    }
   ],
   "source": [
    "plot_beer(X_transformed[:, 0], X_transformed[:, 1],x_label=\"Principal Component 1\",\n",
    "          y_label=\"Principal Component 2\", draw_axes=True)"
   ]
  },
  {
   "cell_type": "markdown",
   "metadata": {},
   "source": [
    "We can also turn our transformed matrix back to original matrix"
   ]
  },
  {
   "cell_type": "code",
   "execution_count": 85,
   "metadata": {},
   "outputs": [],
   "source": [
    "X_transformed_back =  X_transformed @ np.linalg.inv(eigvecs_sorted)"
   ]
  },
  {
   "cell_type": "code",
   "execution_count": 88,
   "metadata": {},
   "outputs": [
    {
     "data": {
      "image/png": "[encoded data removed]",
      "text/plain": [
       "<Figure size 432x288 with 1 Axes>"
      ]
     },
     "metadata": {
      "needs_background": "light"
     },
     "output_type": "display_data"
    }
   ],
   "source": [
    "plot_beer(X_transformed_back[:, 0], X_transformed_back[:, 1], draw_axes=True)"
   ]
  },
  {
   "cell_type": "code",
   "execution_count": 94,
   "metadata": {},
   "outputs": [
    {
     "data": {
      "text/plain": [
       "array([[18.63964745, 12.20609082],\n",
       "       [12.20609082, 19.35245652]])"
      ]
     },
     "execution_count": 94,
     "metadata": {},
     "output_type": "execute_result"
    }
   ],
   "source": [
    "#we could also reconstruct original covariance matrix from eigenvectors and values, eigvalues need to be diagonal!\n",
    "eigvecs @ np.diag(eigvals) @ np.linalg.inv(eigvecs)"
   ]
  },
  {
   "cell_type": "code",
   "execution_count": 97,
   "metadata": {},
   "outputs": [
    {
     "data": {
      "text/plain": [
       "0.0"
      ]
     },
     "execution_count": 97,
     "metadata": {},
     "output_type": "execute_result"
    }
   ],
   "source": [
    "#eigenvectors are orthogonal, this coulde be check by taking dot product\n",
    "eigvecs[0,:]@eigvecs[1, :]"
   ]
  },
  {
   "cell_type": "code",
   "execution_count": null,
   "metadata": {},
   "outputs": [],
   "source": []
  }
 ],
 "metadata": {
  "kernelspec": {
   "display_name": "Python 3",
   "language": "python",
   "name": "python3"
  },
  "language_info": {
   "codemirror_mode": {
    "name": "ipython",
    "version": 3
   },
   "file_extension": ".py",
   "mimetype": "text/x-python",
   "name": "python",
   "nbconvert_exporter": "python",
   "pygments_lexer": "ipython3",
   "version": "3.7.4"
  }
 },
 "nbformat": 4,
 "nbformat_minor": 2
}
