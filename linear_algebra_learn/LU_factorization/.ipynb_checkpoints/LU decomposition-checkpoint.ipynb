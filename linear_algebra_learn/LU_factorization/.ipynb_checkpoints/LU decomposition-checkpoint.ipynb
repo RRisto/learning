{
 "cells": [
  {
   "cell_type": "code",
   "execution_count": 1,
   "metadata": {},
   "outputs": [],
   "source": [
    "import numpy as np"
   ]
  },
  {
   "cell_type": "code",
   "execution_count": 2,
   "metadata": {},
   "outputs": [],
   "source": [
    "def naive_lu_factor(A):\n",
    "    \"\"\"\n",
    "        No pivoting.\n",
    "\n",
    "        Overwrite A with:\n",
    "            U (upper triangular) and (unit Lower triangular) L \n",
    "        Returns LU (Even though A is also overwritten)\n",
    "    \"\"\"\n",
    "    n = A.shape[0]\n",
    "    for k in range(n-1):                \n",
    "        for i in range(k+1,n):          \n",
    "            A[i,k] = A[i,k]/A[k,k]      # \" L[i,k] = A[i,k]/A[k,k] \"\n",
    "            for j in range(k+1,n):      \n",
    "                A[i,j] -= A[i,k]*A[k,j] # \" U[i,j] -= L[i,k]*A[k,j] \"\n",
    "\n",
    "    return A # (if you want)"
   ]
  },
  {
   "cell_type": "code",
   "execution_count": 3,
   "metadata": {},
   "outputs": [],
   "source": [
    "def lu_factor(A):\n",
    "    \"\"\"\n",
    "        LU factorization with partial pivorting\n",
    "\n",
    "        Overwrite A with: \n",
    "            U (upper triangular) and (unit Lower triangular) L \n",
    "        Return [LU,piv] \n",
    "            Where piv is 1d numpy array with row swap indices \n",
    "    \"\"\"\n",
    "    n = A.shape[0]\n",
    "    piv = np.arange(0,n)\n",
    "    for k in range(n-1):\n",
    "\n",
    "        # piv\n",
    "        max_row_index = np.argmax(abs(A[k:n,k])) + k\n",
    "        piv[[k,max_row_index]] = piv[[max_row_index,k]]\n",
    "        A[[k,max_row_index]] = A[[max_row_index,k]]\n",
    "\n",
    "        # LU \n",
    "        for i in range(k+1,n):          \n",
    "            A[i,k] = A[i,k]/A[k,k]      \n",
    "            for j in range(k+1,n):      \n",
    "                A[i,j] -= A[i,k]*A[k,j] \n",
    "\n",
    "    return [A,piv]"
   ]
  },
  {
   "cell_type": "code",
   "execution_count": 4,
   "metadata": {},
   "outputs": [],
   "source": [
    "def ufsub(L,b):\n",
    "    \"\"\" Unit row oriented forward substitution \"\"\"\n",
    "    for i in range(L.shape[0]): \n",
    "        for j in range(i):\n",
    "            b[i] -= L[i,j]*b[j]\n",
    "    return b"
   ]
  },
  {
   "cell_type": "code",
   "execution_count": 5,
   "metadata": {},
   "outputs": [],
   "source": [
    "def bsub(U,y):\n",
    "    \"\"\" Row oriented backward substitution \"\"\"\n",
    "    for i in range(U.shape[0]-1,-1,-1): \n",
    "        for j in range(i+1, U.shape[1]):\n",
    "            y[i] -= U[i,j]*y[j]\n",
    "        y[i] = y[i]/U[i,i]\n",
    "    return y"
   ]
  },
  {
   "cell_type": "markdown",
   "metadata": {},
   "source": [
    "## Example"
   ]
  },
  {
   "cell_type": "code",
   "execution_count": 9,
   "metadata": {},
   "outputs": [],
   "source": [
    "A = np.array([[60, 91, 26], [60, 3, 75], [45, 90, 31]], dtype='float')\n",
    "b = np.array([1, 0, 0])"
   ]
  },
  {
   "cell_type": "code",
   "execution_count": 11,
   "metadata": {},
   "outputs": [
    {
     "data": {
      "text/plain": [
       "array([[ 6.00000000e+01,  9.10000000e+01,  2.60000000e+01],\n",
       "       [ 1.66666667e-02, -8.95166667e+01,  4.85666667e+01],\n",
       "       [ 1.25000000e-02,  1.54681708e-02,  2.25345580e+01]])"
      ]
     },
     "execution_count": 11,
     "metadata": {},
     "output_type": "execute_result"
    }
   ],
   "source": [
    "# No partial pivoting\n",
    "LU = naive_lu_factor(A)\n",
    "y = ufsub( LU, b )\n",
    "x = bsub(  LU, y )\n",
    "LU"
   ]
  },
  {
   "cell_type": "code",
   "execution_count": 12,
   "metadata": {},
   "outputs": [
    {
     "data": {
      "text/plain": [
       "array([[ 6.00000000e+01,  9.10000000e+01,  2.60000000e+01],\n",
       "       [ 2.77777778e-04, -8.95419444e+01,  4.85594444e+01],\n",
       "       [ 2.08333333e-04,  3.89779621e-05,  2.25272485e+01]])"
      ]
     },
     "execution_count": 12,
     "metadata": {},
     "output_type": "execute_result"
    }
   ],
   "source": [
    "# Partial pivoting\n",
    "LU, piv = lu_factor(A)                      \n",
    "b = b[piv]\n",
    "y = ufsub( LU, b )\n",
    "x = bsub(  LU, y )\n",
    "LU"
   ]
  },
  {
   "cell_type": "code",
   "execution_count": null,
   "metadata": {},
   "outputs": [],
   "source": []
  }
 ],
 "metadata": {
  "kernelspec": {
   "display_name": "Python 3",
   "language": "python",
   "name": "python3"
  },
  "language_info": {
   "codemirror_mode": {
    "name": "ipython",
    "version": 3
   },
   "file_extension": ".py",
   "mimetype": "text/x-python",
   "name": "python",
   "nbconvert_exporter": "python",
   "pygments_lexer": "ipython3",
   "version": "3.7.4"
  }
 },
 "nbformat": 4,
 "nbformat_minor": 2
}
