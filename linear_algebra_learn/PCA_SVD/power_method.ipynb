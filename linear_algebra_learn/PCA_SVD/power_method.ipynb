{
 "cells": [
  {
   "cell_type": "code",
   "execution_count": 189,
   "metadata": {},
   "outputs": [],
   "source": [
    "import numpy as np\n",
    "import matplotlib.pyplot as plt\n",
    "from matplotlib import ticker\n",
    "%matplotlib inline"
   ]
  },
  {
   "cell_type": "markdown",
   "metadata": {},
   "source": [
    "## Helpers"
   ]
  },
  {
   "cell_type": "code",
   "execution_count": 228,
   "metadata": {},
   "outputs": [],
   "source": [
    "def plot_vectors(vectors=[(0, 0, 1, 2),(0, 0, 3, 1)], \n",
    "                 texts=[r'$\\vec{a}$', r'$\\vec{b}$', 'power vec', 'power vec2'], \n",
    "                 texts_locs=[(0.5, 0.7), (0.2, 0.8), (0.7, 0.5),  (0.5, 0.5)], text_size=18, \n",
    "                 colors=[\"#2EBCE7\",\"#00E64E\", \"purple\", 'orange'],   \n",
    "                 xlim=(-1, 3), ylim=(-1,3), x_label='x', y_label='y', \n",
    "                 scale=1, scale_units='xy'):\n",
    "    fig, ax =plt.subplots(figsize=(6,6))\n",
    "    ax.xaxis.set_major_locator(ticker.MultipleLocator(1))\n",
    "    ax.yaxis.set_major_locator(ticker.MultipleLocator(1))\n",
    "    \n",
    "    for i, vec in enumerate(vectors):\n",
    "        ax.quiver(*vec, color=colors[i], angles='xy', scale_units=scale_units, scale=scale)\n",
    "        plt.text(*texts_locs[i], texts[i], color=colors[i], size=text_size)\n",
    "\n",
    "    # draw axes\n",
    "    plt.axhline(0, c='#d6d6d6', zorder=0)\n",
    "    plt.axvline(0, c='#d6d6d6', zorder=0)\n",
    "\n",
    "    plt.xlim(*xlim)\n",
    "    plt.ylim(*ylim)\n",
    "    plt.xlabel(x_label)\n",
    "    plt.ylabel(y_label)\n",
    "    plt.show()\n",
    "    return ax\n",
    "\n",
    "#from https://en.wikipedia.org/wiki/Power_iteration\n",
    "def power_iteration(A, num_simulations: int):\n",
    "    # Ideally choose a random vector\n",
    "    # To decrease the chance that our vector\n",
    "    # Is orthogonal to the eigenvector\n",
    "    b_k = np.random.rand(A.shape[1])\n",
    "\n",
    "    for _ in range(num_simulations):\n",
    "        # calculate the matrix-by-vector product Ab\n",
    "        b_k1 = np.dot(A, b_k)\n",
    "\n",
    "        # calculate the norm\n",
    "        b_k1_norm = np.linalg.norm(b_k1)\n",
    "\n",
    "        # re normalize the vector\n",
    "        b_k = b_k1 / b_k1_norm\n",
    "\n",
    "    return b_k"
   ]
  },
  {
   "cell_type": "markdown",
   "metadata": {},
   "source": [
    "## Power iteration"
   ]
  },
  {
   "cell_type": "code",
   "execution_count": 229,
   "metadata": {},
   "outputs": [
    {
     "data": {
      "text/plain": [
       "array([[1.5 , 1.5 ],\n",
       "       [0.72, 2.88]])"
      ]
     },
     "execution_count": 229,
     "metadata": {},
     "output_type": "execute_result"
    }
   ],
   "source": [
    "orig_vec=np.array([np.array([0.5, 0.5]), np.array([0.2, 0.8])])\n",
    "orig_vec=np.array([np.array([0.5, 0.5]), np.array([0.2, 0.8])*1.2])\n",
    "orig_vec=orig_vec*3\n",
    "orig_vec"
   ]
  },
  {
   "cell_type": "code",
   "execution_count": 230,
   "metadata": {},
   "outputs": [
    {
     "data": {
      "image/png": "[encoded data removed]",
      "text/plain": [
       "<Figure size 432x432 with 1 Axes>"
      ]
     },
     "metadata": {
      "needs_background": "light"
     },
     "output_type": "display_data"
    },
    {
     "data": {
      "text/plain": [
       "<matplotlib.axes._subplots.AxesSubplot at 0x1cb2f385148>"
      ]
     },
     "execution_count": 230,
     "metadata": {},
     "output_type": "execute_result"
    }
   ],
   "source": [
    "plot_vectors(orig_vec)"
   ]
  },
  {
   "cell_type": "code",
   "execution_count": 231,
   "metadata": {},
   "outputs": [],
   "source": [
    "power_vec=power_iteration(orig_vec, 10)"
   ]
  },
  {
   "cell_type": "code",
   "execution_count": 232,
   "metadata": {},
   "outputs": [
    {
     "data": {
      "image/png": "[encoded data removed]",
      "text/plain": [
       "<Figure size 432x432 with 1 Axes>"
      ]
     },
     "metadata": {
      "needs_background": "light"
     },
     "output_type": "display_data"
    },
    {
     "data": {
      "text/plain": [
       "<matplotlib.axes._subplots.AxesSubplot at 0x1cb30bfd808>"
      ]
     },
     "execution_count": 232,
     "metadata": {},
     "output_type": "execute_result"
    }
   ],
   "source": [
    "plot_vectors(np.append(orig_vec, power_vec.reshape(1,2), axis=0))"
   ]
  },
  {
   "cell_type": "markdown",
   "metadata": {},
   "source": [
    "We can see that it doenst converge fully to one of the vectors (and to the longest)"
   ]
  },
  {
   "cell_type": "code",
   "execution_count": 233,
   "metadata": {},
   "outputs": [
    {
     "data": {
      "text/plain": [
       "1.0"
      ]
     },
     "execution_count": 233,
     "metadata": {},
     "output_type": "execute_result"
    }
   ],
   "source": [
    "np.linalg.norm(power_vec)"
   ]
  },
  {
   "cell_type": "code",
   "execution_count": 234,
   "metadata": {},
   "outputs": [
    {
     "data": {
      "text/plain": [
       "array([0.61218618, 0.79071365])"
      ]
     },
     "execution_count": 234,
     "metadata": {},
     "output_type": "execute_result"
    }
   ],
   "source": [
    "power_vec"
   ]
  },
  {
   "cell_type": "code",
   "execution_count": 235,
   "metadata": {},
   "outputs": [
    {
     "data": {
      "text/plain": [
       "(2.1213203435596424, 2.9686360504447156)"
      ]
     },
     "execution_count": 235,
     "metadata": {},
     "output_type": "execute_result"
    }
   ],
   "source": [
    "#which vector was dominant\n",
    "np.linalg.norm(orig_vec[0]), np.linalg.norm(orig_vec[1])"
   ]
  },
  {
   "cell_type": "code",
   "execution_count": 236,
   "metadata": {},
   "outputs": [
    {
     "data": {
      "text/plain": [
       "(array([1.5, 1.5]), array([0.72, 2.88]))"
      ]
     },
     "execution_count": 236,
     "metadata": {},
     "output_type": "execute_result"
    }
   ],
   "source": [
    "orig_vec[0], orig_vec[1]"
   ]
  },
  {
   "cell_type": "markdown",
   "metadata": {},
   "source": [
    "## Second example"
   ]
  },
  {
   "cell_type": "code",
   "execution_count": 237,
   "metadata": {},
   "outputs": [],
   "source": [
    "#source http://mlwiki.org/index.php/Power_Iteration\n",
    "def eigenvalue(A, v):\n",
    "    Av = A.dot(v)\n",
    "    return v.dot(Av)\n",
    "\n",
    "def power_iteration2(A):\n",
    "    n, d = A.shape\n",
    "\n",
    "    v = np.ones(d) / np.sqrt(d)\n",
    "    ev = eigenvalue(A, v)\n",
    "\n",
    "    while True:\n",
    "        Av = A.dot(v)\n",
    "        v_new = Av / np.linalg.norm(Av)\n",
    "\n",
    "        ev_new = eigenvalue(A, v_new)\n",
    "        if np.abs(ev - ev_new) < 0.01:\n",
    "            break\n",
    "\n",
    "        v = v_new\n",
    "        ev = ev_new\n",
    "\n",
    "    return ev_new, v_new"
   ]
  },
  {
   "cell_type": "code",
   "execution_count": 238,
   "metadata": {},
   "outputs": [],
   "source": [
    "eigen_value, power_vec2 = power_iteration2(orig_vec)"
   ]
  },
  {
   "cell_type": "code",
   "execution_count": 239,
   "metadata": {},
   "outputs": [
    {
     "data": {
      "image/png": "[encoded data removed]",
      "text/plain": [
       "<Figure size 432x432 with 1 Axes>"
      ]
     },
     "metadata": {
      "needs_background": "light"
     },
     "output_type": "display_data"
    },
    {
     "data": {
      "text/plain": [
       "<matplotlib.axes._subplots.AxesSubplot at 0x1cb30c757c8>"
      ]
     },
     "execution_count": 239,
     "metadata": {},
     "output_type": "execute_result"
    }
   ],
   "source": [
    "plot_vectors(np.append(orig_vec, power_vec2.reshape(1,2), axis=0))"
   ]
  },
  {
   "cell_type": "markdown",
   "metadata": {},
   "source": [
    "## Simultaneous power iteration"
   ]
  },
  {
   "cell_type": "code",
   "execution_count": 240,
   "metadata": {},
   "outputs": [],
   "source": [
    "def simultaneous_power_iteration(A, k):\n",
    "    n, m = A.shape\n",
    "    Q = np.random.rand(n, k)\n",
    "    Q, _ = np.linalg.qr(Q)\n",
    "    Q_prev = Q\n",
    " \n",
    "    for i in range(1000):\n",
    "        Z = A.dot(Q)\n",
    "        Q, R = np.linalg.qr(Z)\n",
    "\n",
    "        # can use other stopping criteria as well \n",
    "        err = ((Q - Q_prev) ** 2).sum()\n",
    "        if i % 10 == 0:\n",
    "            print(i, err)\n",
    "\n",
    "        Q_prev = Q\n",
    "        if err < 1e-3:\n",
    "            break\n",
    "\n",
    "    return np.diag(R), Q"
   ]
  },
  {
   "cell_type": "code",
   "execution_count": 241,
   "metadata": {},
   "outputs": [
    {
     "name": "stdout",
     "output_type": "stream",
     "text": [
      "0 0.029537495322638656\n"
     ]
    }
   ],
   "source": [
    "eigen_values, power_vecs = simultaneous_power_iteration(orig_vec, 2)"
   ]
  },
  {
   "cell_type": "code",
   "execution_count": 242,
   "metadata": {},
   "outputs": [
    {
     "data": {
      "text/plain": [
       "array([3.42649765, 0.94557193])"
      ]
     },
     "execution_count": 242,
     "metadata": {},
     "output_type": "execute_result"
    }
   ],
   "source": [
    "eigen_values"
   ]
  },
  {
   "cell_type": "code",
   "execution_count": 243,
   "metadata": {},
   "outputs": [
    {
     "data": {
      "text/plain": [
       "array([[-0.61514937, -0.78841058],\n",
       "       [-0.78841058,  0.61514937]])"
      ]
     },
     "execution_count": 243,
     "metadata": {},
     "output_type": "execute_result"
    }
   ],
   "source": [
    "power_vecs"
   ]
  },
  {
   "cell_type": "code",
   "execution_count": 247,
   "metadata": {},
   "outputs": [
    {
     "data": {
      "image/png": "[encoded data removed]",
      "text/plain": [
       "<Figure size 432x432 with 1 Axes>"
      ]
     },
     "metadata": {
      "needs_background": "light"
     },
     "output_type": "display_data"
    },
    {
     "data": {
      "text/plain": [
       "<matplotlib.axes._subplots.AxesSubplot at 0x1cb30e0fa08>"
      ]
     },
     "execution_count": 247,
     "metadata": {},
     "output_type": "execute_result"
    }
   ],
   "source": [
    "plot_vectors(np.append(orig_vec, power_vecs, axis=0), texts_locs=[(0.5, 0.7), (0.2, 0.8), power_vecs[0],  power_vecs[1]])"
   ]
  },
  {
   "cell_type": "code",
   "execution_count": null,
   "metadata": {},
   "outputs": [],
   "source": []
  }
 ],
 "metadata": {
  "kernelspec": {
   "display_name": "Python 3",
   "language": "python",
   "name": "python3"
  },
  "language_info": {
   "codemirror_mode": {
    "name": "ipython",
    "version": 3
   },
   "file_extension": ".py",
   "mimetype": "text/x-python",
   "name": "python",
   "nbconvert_exporter": "python",
   "pygments_lexer": "ipython3",
   "version": "3.7.4"
  }
 },
 "nbformat": 4,
 "nbformat_minor": 2
}
