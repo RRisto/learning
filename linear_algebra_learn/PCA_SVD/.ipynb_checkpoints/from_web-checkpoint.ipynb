{
 "cells": [
  {
   "cell_type": "code",
   "execution_count": 10,
   "metadata": {},
   "outputs": [],
   "source": [
    "import numpy as np\n",
    "from numpy.linalg import norm\n",
    "\n",
    "from random import normalvariate\n",
    "from math import sqrt"
   ]
  },
  {
   "cell_type": "code",
   "execution_count": 11,
   "metadata": {},
   "outputs": [],
   "source": [
    "def randomUnitVector(n):\n",
    "    unnormalized=np.random.normal(loc=0, scale=1, size=n)\n",
    "    normalized=unnormalized/np.sqrt(np.sum(np.square(unnormalized)))\n",
    "    return normalized\n",
    "#     unnormalized = [normalvariate(0, 1) for _ in range(n)]\n",
    "#     theNorm = sqrt(sum(x * x for x in unnormalized))\n",
    "#     return [x / theNorm for x in unnormalized]\n",
    "\n",
    "\n",
    "def svd_1d(A, epsilon=1e-10):\n",
    "    ''' The one-dimensional SVD '''\n",
    "\n",
    "    n, m = A.shape\n",
    "    x = randomUnitVector(min(n,m))\n",
    "    lastV = None\n",
    "    currentV = x\n",
    "\n",
    "    if n > m:\n",
    "        B = np.dot(A.T, A)\n",
    "    else:\n",
    "        B = np.dot(A, A.T)\n",
    "\n",
    "    iterations = 0\n",
    "    while True:\n",
    "        iterations += 1\n",
    "        lastV = currentV\n",
    "        currentV = np.dot(B, lastV)\n",
    "        currentV = currentV / norm(currentV)\n",
    "\n",
    "        if abs(np.dot(currentV, lastV)) > 1 - epsilon:\n",
    "            print(\"converged in {} iterations!\".format(iterations))\n",
    "            return currentV"
   ]
  },
  {
   "cell_type": "code",
   "execution_count": 12,
   "metadata": {},
   "outputs": [],
   "source": [
    "n=10\n",
    "unnormalized = [normalvariate(0, 1) for _ in range(n)]\n",
    "theNorm = sqrt(sum(x * x for x in unnormalized))"
   ]
  },
  {
   "cell_type": "code",
   "execution_count": 13,
   "metadata": {},
   "outputs": [
    {
     "data": {
      "text/plain": [
       "[-0.6503294377514732,\n",
       " 0.10497545561643278,\n",
       " -0.655880159779937,\n",
       " 1.0811310720675602,\n",
       " 0.18214103655333655,\n",
       " -0.25539392486049545,\n",
       " 1.7087099907532277,\n",
       " -1.3784692906287233,\n",
       " 0.8964704835194605,\n",
       " -2.2500490144079586]"
      ]
     },
     "execution_count": 13,
     "metadata": {},
     "output_type": "execute_result"
    }
   ],
   "source": [
    "unnormalized"
   ]
  },
  {
   "cell_type": "code",
   "execution_count": 14,
   "metadata": {},
   "outputs": [
    {
     "data": {
      "text/plain": [
       "-0.12166937889185699"
      ]
     },
     "execution_count": 14,
     "metadata": {},
     "output_type": "execute_result"
    }
   ],
   "source": [
    "sum(unnormalized)/n"
   ]
  },
  {
   "cell_type": "code",
   "execution_count": 15,
   "metadata": {},
   "outputs": [
    {
     "data": {
      "text/plain": [
       "3.580170405118938"
      ]
     },
     "execution_count": 15,
     "metadata": {},
     "output_type": "execute_result"
    }
   ],
   "source": [
    "theNorm"
   ]
  },
  {
   "cell_type": "code",
   "execution_count": 16,
   "metadata": {},
   "outputs": [
    {
     "data": {
      "text/plain": [
       "[-0.1816476212477569,\n",
       " 0.029321357292473725,\n",
       " -0.18319802846315852,\n",
       " 0.30197754568379087,\n",
       " 0.05087496290481335,\n",
       " -0.07133568963514487,\n",
       " 0.4772705758111707,\n",
       " -0.38502896081644156,\n",
       " 0.2503988308036077,\n",
       " -0.6284753963640479]"
      ]
     },
     "execution_count": 16,
     "metadata": {},
     "output_type": "execute_result"
    }
   ],
   "source": [
    "[x / theNorm for x in unnormalized]"
   ]
  },
  {
   "cell_type": "code",
   "execution_count": 17,
   "metadata": {},
   "outputs": [
    {
     "data": {
      "text/plain": [
       "-0.03398424240306934"
      ]
     },
     "execution_count": 17,
     "metadata": {},
     "output_type": "execute_result"
    }
   ],
   "source": [
    "sum([x / theNorm for x in unnormalized])/n"
   ]
  },
  {
   "cell_type": "code",
   "execution_count": 18,
   "metadata": {},
   "outputs": [
    {
     "data": {
      "text/plain": [
       "-0.12091912383286856"
      ]
     },
     "execution_count": 18,
     "metadata": {},
     "output_type": "execute_result"
    }
   ],
   "source": [
    "unnormalized=np.random.normal(loc=0, scale=1, size=n)\n",
    "normalized=unnormalized/np.sqrt(np.sum(np.square(unnormalized)))\n",
    "normalized.mean()"
   ]
  },
  {
   "cell_type": "code",
   "execution_count": 19,
   "metadata": {},
   "outputs": [],
   "source": [
    "def svd(A, k=None, epsilon=1e-10):\n",
    "    '''\n",
    "        Compute the singular value decomposition of a matrix A\n",
    "        using the power method. A is the input matrix, and k\n",
    "        is the number of singular values you wish to compute.\n",
    "        If k is None, this computes the full-rank decomposition.\n",
    "    '''\n",
    "    A = np.array(A, dtype=float)\n",
    "    n, m = A.shape\n",
    "    svdSoFar = []\n",
    "    if k is None:\n",
    "        k = min(n, m)\n",
    "\n",
    "    for i in range(k):\n",
    "        matrixFor1D = A.copy()\n",
    "\n",
    "        for singularValue, u, v in svdSoFar[:i]:\n",
    "            matrixFor1D -= singularValue * np.outer(u, v)\n",
    "\n",
    "        if n > m:\n",
    "            v = svd_1d(matrixFor1D, epsilon=epsilon)  # next singular vector\n",
    "            u_unnormalized = np.dot(A, v)\n",
    "            sigma = norm(u_unnormalized)  # next singular value\n",
    "            u = u_unnormalized / sigma\n",
    "        else:\n",
    "            u = svd_1d(matrixFor1D, epsilon=epsilon)  # next singular vector\n",
    "            v_unnormalized = np.dot(A.T, u)\n",
    "            sigma = norm(v_unnormalized)  # next singular value\n",
    "            v = v_unnormalized / sigma\n",
    "\n",
    "        svdSoFar.append((sigma, u, v))\n",
    "\n",
    "    singularValues, us, vs = [np.array(x) for x in zip(*svdSoFar)]\n",
    "    return singularValues, us.T, vs\n"
   ]
  },
  {
   "cell_type": "code",
   "execution_count": 20,
   "metadata": {},
   "outputs": [
    {
     "name": "stdout",
     "output_type": "stream",
     "text": [
      "converged in 6 iterations!\n",
      "converged in 21 iterations!\n",
      "converged in 2 iterations!\n"
     ]
    }
   ],
   "source": [
    "if __name__ == \"__main__\":\n",
    "    movieRatings = np.array([\n",
    "        [2, 5, 3],\n",
    "        [1, 2, 1],\n",
    "        [4, 1, 1],\n",
    "        [3, 5, 2],\n",
    "        [5, 3, 1],\n",
    "        [4, 5, 5],\n",
    "        [2, 4, 2],\n",
    "        [2, 2, 5],\n",
    "    ], dtype='float64')\n",
    "\n",
    "    # v1 = svd_1d(movieRatings)\n",
    "    # print(v1)\n",
    "\n",
    "    U, S, V = svd(movieRatings)"
   ]
  },
  {
   "cell_type": "code",
   "execution_count": 21,
   "metadata": {},
   "outputs": [],
   "source": [
    "X, Z, Y =np.linalg.svd(movieRatings)"
   ]
  },
  {
   "cell_type": "code",
   "execution_count": 31,
   "metadata": {},
   "outputs": [
    {
     "data": {
      "text/plain": [
       "array([[-0.39,  0.24, -0.35, -0.38, -0.3 , -0.49, -0.31, -0.3 ],\n",
       "       [-0.16,  0.03, -0.15, -0.45,  0.31,  0.24, -0.37,  0.67],\n",
       "       [-0.22, -0.52,  0.39, -0.15, -0.66,  0.  , -0.01,  0.26],\n",
       "       [-0.4 , -0.09, -0.41,  0.74, -0.11,  0.01, -0.18,  0.26],\n",
       "       [-0.35, -0.64,  0.07, -0.04,  0.58, -0.26,  0.  , -0.24],\n",
       "       [-0.53,  0.19,  0.2 , -0.04,  0.  ,  0.69, -0.07, -0.4 ],\n",
       "       [-0.32,  0.06, -0.31, -0.2 , -0.01,  0.01,  0.85,  0.19],\n",
       "       [-0.33,  0.46,  0.62,  0.18,  0.18, -0.4 ,  0.06,  0.26]])"
      ]
     },
     "execution_count": 31,
     "metadata": {},
     "output_type": "execute_result"
    }
   ],
   "source": [
    "X.round(2)"
   ]
  },
  {
   "cell_type": "code",
   "execution_count": 32,
   "metadata": {},
   "outputs": [
    {
     "data": {
      "text/plain": [
       "array([[-0.39, -0.24,  0.35],\n",
       "       [-0.16, -0.03,  0.15],\n",
       "       [-0.22,  0.52, -0.39],\n",
       "       [-0.4 ,  0.09,  0.41],\n",
       "       [-0.35,  0.64, -0.07],\n",
       "       [-0.53, -0.19, -0.2 ],\n",
       "       [-0.32, -0.06,  0.31],\n",
       "       [-0.33, -0.46, -0.62]])"
      ]
     },
     "execution_count": 32,
     "metadata": {},
     "output_type": "execute_result"
    }
   ],
   "source": [
    "S.round(2)"
   ]
  },
  {
   "cell_type": "code",
   "execution_count": 13,
   "metadata": {},
   "outputs": [
    {
     "data": {
      "text/plain": [
       "array([15.1 ,  4.3 ,  3.41])"
      ]
     },
     "execution_count": 13,
     "metadata": {},
     "output_type": "execute_result"
    }
   ],
   "source": [
    "Z.round(2)"
   ]
  },
  {
   "cell_type": "code",
   "execution_count": 14,
   "metadata": {},
   "outputs": [
    {
     "data": {
      "text/plain": [
       "array([15.1 ,  4.3 ,  3.41])"
      ]
     },
     "execution_count": 14,
     "metadata": {},
     "output_type": "execute_result"
    }
   ],
   "source": [
    "U.round(2)"
   ]
  },
  {
   "cell_type": "code",
   "execution_count": 15,
   "metadata": {},
   "outputs": [
    {
     "data": {
      "text/plain": [
       "array([[-0.54, -0.67, -0.51],\n",
       "       [-0.75,  0.12,  0.65],\n",
       "       [ 0.38, -0.73,  0.57]])"
      ]
     },
     "execution_count": 15,
     "metadata": {},
     "output_type": "execute_result"
    }
   ],
   "source": [
    "Y.round(2)"
   ]
  },
  {
   "cell_type": "code",
   "execution_count": 16,
   "metadata": {},
   "outputs": [
    {
     "data": {
      "text/plain": [
       "array([[ 0.54,  0.67,  0.51],\n",
       "       [-0.75,  0.12,  0.65],\n",
       "       [ 0.38, -0.73,  0.57]])"
      ]
     },
     "execution_count": 16,
     "metadata": {},
     "output_type": "execute_result"
    }
   ],
   "source": [
    "V.round(2)"
   ]
  },
  {
   "cell_type": "code",
   "execution_count": 34,
   "metadata": {},
   "outputs": [],
   "source": [
    "import numpy as np\n",
    "import time\n",
    "import math\n",
    "\n",
    "\n",
    "def power_svd(A, iters):\n",
    "    \"\"\"Compute SVD using Power Method.\n",
    "    Refercence Link: http://www.cs.yale.edu/homes/el327/datamining2013aFiles/07_singular_value_decomposition.pdf\n",
    "    This function will compute the svd using power method\n",
    "    with the algorithm mentioned in reference.\n",
    "    Input:\n",
    "            A: Input matrix which needs to be compute SVD.\n",
    "            iters: # of iterations to recursively compute the SVD.\n",
    "    Output:\n",
    "            u: Left singular vector of current singular value.\n",
    "            sigma: Singular value in current iteration.\n",
    "            v: Right singular vector of current singular value.\n",
    "    \"\"\"\n",
    "    mu, sigma = 0, 1\n",
    "    x = np.random.normal(mu, sigma, size=A.shape[1])\n",
    "    B = A.T.dot(A)\n",
    "    for i in range(iters):\n",
    "        new_x = B.dot(x)\n",
    "        x = new_x\n",
    "    v = x / np.linalg.norm(x)\n",
    "    sigma = np.linalg.norm(A.dot(v))\n",
    "    u = A.dot(v) / sigma\n",
    "    return np.reshape(\n",
    "        u, (A.shape[0], 1)), sigma, np.reshape(\n",
    "        v, (A.shape[1], 1))\n",
    "\n",
    "\n",
    "def main():\n",
    "    \"\"\"Compute SVD using Power Method.\n",
    "    Please indicate your target matrix and then hit 'run'!\n",
    "    \"\"\"\n",
    "    t = time.time()\n",
    "#     A = np.array([[1, 2], [3, 4]])\n",
    "    A =np.array([\n",
    "        [2, 5, 3],\n",
    "        [1, 2, 1],\n",
    "        [4, 1, 1],\n",
    "        [3, 5, 2],\n",
    "        [5, 3, 1],\n",
    "        [4, 5, 5],\n",
    "        [2, 4, 2],\n",
    "        [2, 2, 5],\n",
    "    ], dtype='float64')\n",
    "    rank = np.linalg.matrix_rank(A)\n",
    "    U = np.zeros((A.shape[0], 1))\n",
    "    S = []\n",
    "    V = np.zeros((A.shape[1], 1))\n",
    "\n",
    "    # Define the number of iterations\n",
    "    delta = 0.001\n",
    "    epsilon = 0.97\n",
    "    lamda = 2\n",
    "    iterations = int(math.log(\n",
    "        4 * math.log(2 * A.shape[1] / delta) / (epsilon * delta)) / (2 * lamda))\n",
    "\n",
    "    # SVD using Power Method\n",
    "    for i in range(rank):\n",
    "        u, sigma, v = power_svd(A, iterations)\n",
    "        U = np.hstack((U, u))\n",
    "        S.append(sigma)\n",
    "        V = np.hstack((V, v))\n",
    "        A = A - u.dot(v.T).dot(sigma)\n",
    "    elapsed = time.time() - t\n",
    "    print(\n",
    "        \"Power Method of Singular Value Decomposition is done successfully!\\nElapsed time: \",\n",
    "        elapsed,\n",
    "        \"seconds\\n\")\n",
    "    print(\"Left Singular Vectors are: \\n\", U[:, 1:], \"\\n\")\n",
    "    print(\"Sigular Values are: \\n\", S, \"\\n\")\n",
    "    print(\"Right Singular Vectors are: \\n\", V[:, 1:].T)"
   ]
  },
  {
   "cell_type": "code",
   "execution_count": 35,
   "metadata": {},
   "outputs": [
    {
     "name": "stdout",
     "output_type": "stream",
     "text": [
      "Power Method of Singular Value Decomposition is done successfully!\n",
      "Elapsed time:  0.0070002079010009766 seconds\n",
      "\n",
      "Left Singular Vectors are: \n",
      " [[ 0.39387487 -0.2354292   0.37464673]\n",
      " [ 0.15868779 -0.02869322  0.14626816]\n",
      " [ 0.22473233  0.42800814 -0.51171793]\n",
      " [ 0.39956409  0.0919631   0.35669406]\n",
      " [ 0.35205108  0.57519451 -0.23494535]\n",
      " [ 0.53072946 -0.28416291 -0.18327628]\n",
      " [ 0.31737558 -0.05738644  0.29253632]\n",
      " [ 0.3212222  -0.58069882 -0.5242066 ]] \n",
      "\n",
      "Sigular Values are: \n",
      " [15.08573575316512, 4.3075281695495855, 3.4446738385821694] \n",
      "\n",
      "Right Singular Vectors are: \n",
      " [[ 0.55905114  0.68082296  0.47322502]\n",
      " [ 0.65264534 -0.00931797 -0.75760625]\n",
      " [-0.51138623  0.73238874 -0.44954515]]\n"
     ]
    }
   ],
   "source": [
    "main()"
   ]
  },
  {
   "cell_type": "code",
   "execution_count": 36,
   "metadata": {},
   "outputs": [
    {
     "data": {
      "text/plain": [
       "array([[-0.39,  0.24, -0.35, -0.38, -0.3 , -0.49, -0.31, -0.3 ],\n",
       "       [-0.16,  0.03, -0.15, -0.45,  0.31,  0.24, -0.37,  0.67],\n",
       "       [-0.22, -0.52,  0.39, -0.15, -0.66,  0.  , -0.01,  0.26],\n",
       "       [-0.4 , -0.09, -0.41,  0.74, -0.11,  0.01, -0.18,  0.26],\n",
       "       [-0.35, -0.64,  0.07, -0.04,  0.58, -0.26,  0.  , -0.24],\n",
       "       [-0.53,  0.19,  0.2 , -0.04,  0.  ,  0.69, -0.07, -0.4 ],\n",
       "       [-0.32,  0.06, -0.31, -0.2 , -0.01,  0.01,  0.85,  0.19],\n",
       "       [-0.33,  0.46,  0.62,  0.18,  0.18, -0.4 ,  0.06,  0.26]])"
      ]
     },
     "execution_count": 36,
     "metadata": {},
     "output_type": "execute_result"
    }
   ],
   "source": [
    "X.round(2)"
   ]
  },
  {
   "cell_type": "code",
   "execution_count": 37,
   "metadata": {},
   "outputs": [
    {
     "data": {
      "text/plain": [
       "array([15.1 ,  4.3 ,  3.41])"
      ]
     },
     "execution_count": 37,
     "metadata": {},
     "output_type": "execute_result"
    }
   ],
   "source": [
    "Z.round(2)"
   ]
  },
  {
   "cell_type": "code",
   "execution_count": 38,
   "metadata": {},
   "outputs": [
    {
     "data": {
      "text/plain": [
       "array([[-0.54, -0.67, -0.51],\n",
       "       [-0.75,  0.12,  0.65],\n",
       "       [ 0.38, -0.73,  0.57]])"
      ]
     },
     "execution_count": 38,
     "metadata": {},
     "output_type": "execute_result"
    }
   ],
   "source": [
    "Y.round(2)"
   ]
  },
  {
   "cell_type": "code",
   "execution_count": 39,
   "metadata": {},
   "outputs": [],
   "source": [
    "a=np.array([1,2,3])"
   ]
  },
  {
   "cell_type": "code",
   "execution_count": 40,
   "metadata": {},
   "outputs": [
    {
     "data": {
      "text/plain": [
       "14"
      ]
     },
     "execution_count": 40,
     "metadata": {},
     "output_type": "execute_result"
    }
   ],
   "source": [
    "a@a"
   ]
  },
  {
   "cell_type": "code",
   "execution_count": 41,
   "metadata": {},
   "outputs": [
    {
     "data": {
      "text/plain": [
       "array([[1, 2, 3],\n",
       "       [2, 4, 6],\n",
       "       [3, 6, 9]])"
      ]
     },
     "execution_count": 41,
     "metadata": {},
     "output_type": "execute_result"
    }
   ],
   "source": [
    "np.outer(a,a)"
   ]
  }
 ],
 "metadata": {
  "kernelspec": {
   "display_name": "Python 3",
   "language": "python",
   "name": "python3"
  },
  "language_info": {
   "codemirror_mode": {
    "name": "ipython",
    "version": 3
   },
   "file_extension": ".py",
   "mimetype": "text/x-python",
   "name": "python",
   "nbconvert_exporter": "python",
   "pygments_lexer": "ipython3",
   "version": "3.7.4"
  }
 },
 "nbformat": 4,
 "nbformat_minor": 2
}
