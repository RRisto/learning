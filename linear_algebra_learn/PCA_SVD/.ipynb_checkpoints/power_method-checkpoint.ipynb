{
 "cells": [
  {
   "cell_type": "code",
   "execution_count": 1,
   "metadata": {},
   "outputs": [],
   "source": [
    "import numpy as np\n",
    "import pandas as pd\n",
    "import matplotlib.pyplot as plt\n",
    "from matplotlib import ticker\n",
    "%matplotlib inline"
   ]
  },
  {
   "cell_type": "markdown",
   "metadata": {},
   "source": [
    "## Helpers"
   ]
  },
  {
   "cell_type": "code",
   "execution_count": 2,
   "metadata": {},
   "outputs": [],
   "source": [
    "def plot_vectors(vectors=[(0, 0, 1, 2),(0, 0, 3, 1)], \n",
    "                 texts=[r'$\\vec{a}$', r'$\\vec{b}$', 'power vec', 'power vec2'], \n",
    "                 texts_locs=[(0.5, 0.7), (0.2, 0.8), (0.7, 0.5),  (0.5, 0.5)], text_size=18, \n",
    "                 colors=[\"#2EBCE7\",\"#00E64E\", \"purple\", 'orange'],   \n",
    "                 xlim=(-1, 3), ylim=(-1,3), x_label='x', y_label='y', \n",
    "                 scale=1, scale_units='xy'):\n",
    "    fig, ax =plt.subplots(figsize=(6,6))\n",
    "    ax.xaxis.set_major_locator(ticker.MultipleLocator(1))\n",
    "    ax.yaxis.set_major_locator(ticker.MultipleLocator(1))\n",
    "    \n",
    "    for i, vec in enumerate(vectors):\n",
    "        ax.quiver(*vec, color=colors[i], angles='xy', scale_units=scale_units, scale=scale)\n",
    "        plt.text(*texts_locs[i], texts[i], color=colors[i], size=text_size)\n",
    "\n",
    "    # draw axes\n",
    "    plt.axhline(0, c='#d6d6d6', zorder=0)\n",
    "    plt.axvline(0, c='#d6d6d6', zorder=0)\n",
    "\n",
    "    plt.xlim(*xlim)\n",
    "    plt.ylim(*ylim)\n",
    "    plt.xlabel(x_label)\n",
    "    plt.ylabel(y_label)\n",
    "    plt.show()\n",
    "    return ax\n",
    "\n",
    "#from https://en.wikipedia.org/wiki/Power_iteration\n",
    "def power_iteration(A, num_simulations: int):\n",
    "    # Ideally choose a random vector\n",
    "    # To decrease the chance that our vector\n",
    "    # Is orthogonal to the eigenvector\n",
    "    b_k = np.random.rand(A.shape[1])\n",
    "\n",
    "    for _ in range(num_simulations):\n",
    "        # calculate the matrix-by-vector product Ab\n",
    "        b_k1 = np.dot(A, b_k)\n",
    "\n",
    "        # calculate the norm\n",
    "        b_k1_norm = np.linalg.norm(b_k1)\n",
    "\n",
    "        # re normalize the vector\n",
    "        b_k = b_k1 / b_k1_norm\n",
    "\n",
    "    return b_k"
   ]
  },
  {
   "cell_type": "markdown",
   "metadata": {},
   "source": [
    "## Power iteration"
   ]
  },
  {
   "cell_type": "code",
   "execution_count": 3,
   "metadata": {},
   "outputs": [
    {
     "data": {
      "text/plain": [
       "array([[1.5 , 1.5 ],\n",
       "       [0.72, 2.88]])"
      ]
     },
     "execution_count": 3,
     "metadata": {},
     "output_type": "execute_result"
    }
   ],
   "source": [
    "orig_vec=np.array([np.array([0.5, 0.5]), np.array([0.2, 0.8])])\n",
    "orig_vec=np.array([np.array([0.5, 0.5]), np.array([0.2, 0.8])*1.2])\n",
    "orig_vec=orig_vec*3\n",
    "orig_vec"
   ]
  },
  {
   "cell_type": "code",
   "execution_count": 4,
   "metadata": {},
   "outputs": [
    {
     "data": {
      "image/png": "[encoded data removed]",
      "text/plain": [
       "<Figure size 432x432 with 1 Axes>"
      ]
     },
     "metadata": {
      "needs_background": "light"
     },
     "output_type": "display_data"
    },
    {
     "data": {
      "text/plain": [
       "<matplotlib.axes._subplots.AxesSubplot at 0x212f0a77ec8>"
      ]
     },
     "execution_count": 4,
     "metadata": {},
     "output_type": "execute_result"
    }
   ],
   "source": [
    "plot_vectors(orig_vec)"
   ]
  },
  {
   "cell_type": "code",
   "execution_count": 5,
   "metadata": {},
   "outputs": [],
   "source": [
    "power_vec=power_iteration(orig_vec, 10)"
   ]
  },
  {
   "cell_type": "code",
   "execution_count": 6,
   "metadata": {},
   "outputs": [
    {
     "data": {
      "image/png": "[encoded data removed]",
      "text/plain": [
       "<Figure size 432x432 with 1 Axes>"
      ]
     },
     "metadata": {
      "needs_background": "light"
     },
     "output_type": "display_data"
    },
    {
     "data": {
      "text/plain": [
       "<matplotlib.axes._subplots.AxesSubplot at 0x212f39b4688>"
      ]
     },
     "execution_count": 6,
     "metadata": {},
     "output_type": "execute_result"
    }
   ],
   "source": [
    "plot_vectors(np.append(orig_vec, power_vec.reshape(1,2), axis=0))"
   ]
  },
  {
   "cell_type": "markdown",
   "metadata": {},
   "source": [
    "We can see that it doenst converge fully to one of the vectors (and to the longest)"
   ]
  },
  {
   "cell_type": "code",
   "execution_count": 7,
   "metadata": {},
   "outputs": [
    {
     "data": {
      "text/plain": [
       "1.0"
      ]
     },
     "execution_count": 7,
     "metadata": {},
     "output_type": "execute_result"
    }
   ],
   "source": [
    "np.linalg.norm(power_vec)"
   ]
  },
  {
   "cell_type": "code",
   "execution_count": 8,
   "metadata": {},
   "outputs": [
    {
     "data": {
      "text/plain": [
       "array([0.61218603, 0.79071377])"
      ]
     },
     "execution_count": 8,
     "metadata": {},
     "output_type": "execute_result"
    }
   ],
   "source": [
    "power_vec"
   ]
  },
  {
   "cell_type": "code",
   "execution_count": 9,
   "metadata": {},
   "outputs": [
    {
     "data": {
      "text/plain": [
       "(2.1213203435596424, 2.9686360504447156)"
      ]
     },
     "execution_count": 9,
     "metadata": {},
     "output_type": "execute_result"
    }
   ],
   "source": [
    "#which vector was dominant\n",
    "np.linalg.norm(orig_vec[0]), np.linalg.norm(orig_vec[1])"
   ]
  },
  {
   "cell_type": "code",
   "execution_count": 10,
   "metadata": {},
   "outputs": [
    {
     "data": {
      "text/plain": [
       "(array([1.5, 1.5]), array([0.72, 2.88]))"
      ]
     },
     "execution_count": 10,
     "metadata": {},
     "output_type": "execute_result"
    }
   ],
   "source": [
    "orig_vec[0], orig_vec[1]"
   ]
  },
  {
   "cell_type": "markdown",
   "metadata": {},
   "source": [
    "## Second example"
   ]
  },
  {
   "cell_type": "markdown",
   "metadata": {},
   "source": [
    "#### Beer dataset"
   ]
  },
  {
   "cell_type": "code",
   "execution_count": 11,
   "metadata": {},
   "outputs": [
    {
     "data": {
      "text/plain": [
       "(365, 7)"
      ]
     },
     "execution_count": 11,
     "metadata": {},
     "output_type": "execute_result"
    }
   ],
   "source": [
    "df=pd.read_csv('data/beer_dataset.csv')\n",
    "df.shape"
   ]
  },
  {
   "cell_type": "code",
   "execution_count": 12,
   "metadata": {},
   "outputs": [],
   "source": [
    "def plot_beer(x, y, x_label=\"Maximal temperature ($\\degree$C)\", y_label=\"Consuption (liters)\", \n",
    "              alpha=0.3, draw_axes=False):\n",
    "    plt.scatter(x, y, alpha=alpha)\n",
    "    # [...] Add labels and custom axes\n",
    "\n",
    "    plt.xlabel(x_label)\n",
    "    plt.ylabel(y_label)\n",
    "\n",
    "    # Assure that ticks are displayed with a specific step\n",
    "    ax = plt.gca()\n",
    "    ax.xaxis.set_major_locator(ticker.MultipleLocator(5))\n",
    "    ax.yaxis.set_major_locator(ticker.MultipleLocator(5))\n",
    "    \n",
    "    if draw_axes:\n",
    "        # draw axes\n",
    "        plt.axhline(0, c='#d6d6d6', zorder=0)\n",
    "        plt.axvline(0, c='#d6d6d6', zorder=0)\n",
    "\n",
    "    # assure x and y axis have the same scale\n",
    "    plt.axis('equal')\n",
    "    plt.show()"
   ]
  },
  {
   "cell_type": "code",
   "execution_count": 13,
   "metadata": {},
   "outputs": [
    {
     "data": {
      "image/png": "[encoded data removed]",
      "text/plain": [
       "<Figure size 432x288 with 1 Axes>"
      ]
     },
     "metadata": {
      "needs_background": "light"
     },
     "output_type": "display_data"
    }
   ],
   "source": [
    "plot_beer(df['Temperatura Maxima (C)'],\n",
    "            df['Consumo de cerveja (litros)'])"
   ]
  },
  {
   "cell_type": "markdown",
   "metadata": {},
   "source": [
    "#### Make datasets"
   ]
  },
  {
   "cell_type": "code",
   "execution_count": 14,
   "metadata": {},
   "outputs": [],
   "source": [
    "X = np.array([df['Temperatura Maxima (C)'],\n",
    "            df['Consumo de cerveja (litros)']]).T"
   ]
  },
  {
   "cell_type": "markdown",
   "metadata": {},
   "source": [
    "#### covariance matrix"
   ]
  },
  {
   "cell_type": "code",
   "execution_count": 15,
   "metadata": {},
   "outputs": [
    {
     "data": {
      "text/plain": [
       "array([[18.63964745, 12.20609082],\n",
       "       [12.20609082, 19.35245652]])"
      ]
     },
     "execution_count": 15,
     "metadata": {},
     "output_type": "execute_result"
    }
   ],
   "source": [
    "C = np.cov(X, rowvar=False)\n",
    "C"
   ]
  },
  {
   "cell_type": "code",
   "execution_count": 16,
   "metadata": {},
   "outputs": [],
   "source": [
    "#for easier plotting calöculate mean centered data\n",
    "X_norm=X.copy()\n",
    "X_norm -= X.mean(axis=0)"
   ]
  },
  {
   "cell_type": "markdown",
   "metadata": {},
   "source": [
    "## Version 1  - power iteration"
   ]
  },
  {
   "cell_type": "code",
   "execution_count": 34,
   "metadata": {},
   "outputs": [],
   "source": [
    "#source http://mlwiki.org/index.php/Power_Iteration\n",
    "def eigenvalue(A, v):\n",
    "    Av = A.dot(v)\n",
    "    return v.dot(Av)\n",
    "\n",
    "def eigenvalue(A, v):\n",
    "    val = A @ v / v\n",
    "    return val[0]\n",
    "\n",
    "def svd_power_iteration(A):\n",
    "    n, d = A.shape\n",
    "\n",
    "    v = np.ones(d) / np.sqrt(d)\n",
    "    ev = eigenvalue(A, v)\n",
    "\n",
    "    while True:\n",
    "        Av = A.dot(v)\n",
    "        v_new = Av / np.linalg.norm(Av)\n",
    "\n",
    "        ev_new = eigenvalue(A, v_new)\n",
    "        if np.abs(ev - ev_new) < 0.01:\n",
    "            break\n",
    "\n",
    "        v = v_new\n",
    "        ev = ev_new\n",
    "\n",
    "    return ev_new, v_new"
   ]
  },
  {
   "cell_type": "code",
   "execution_count": 35,
   "metadata": {},
   "outputs": [
    {
     "data": {
      "text/plain": [
       "31.206525014487084"
      ]
     },
     "execution_count": 35,
     "metadata": {},
     "output_type": "execute_result"
    }
   ],
   "source": [
    "eigen_value, eigen_vec = power_iteration2(C)\n",
    "eigen_value"
   ]
  },
  {
   "cell_type": "code",
   "execution_count": 36,
   "metadata": {},
   "outputs": [
    {
     "data": {
      "text/plain": [
       "array([31.20652501, 31.20811854])"
      ]
     },
     "execution_count": 36,
     "metadata": {},
     "output_type": "execute_result"
    }
   ],
   "source": [
    "C@eigen_vec/eigen_vec"
   ]
  },
  {
   "cell_type": "code",
   "execution_count": 37,
   "metadata": {},
   "outputs": [
    {
     "data": {
      "text/plain": [
       "array([0.69673479, 0.71732882])"
      ]
     },
     "execution_count": 37,
     "metadata": {},
     "output_type": "execute_result"
    }
   ],
   "source": [
    "eigen_vec"
   ]
  },
  {
   "cell_type": "code",
   "execution_count": 38,
   "metadata": {},
   "outputs": [
    {
     "data": {
      "image/png": "[encoded data removed]",
      "text/plain": [
       "<Figure size 432x288 with 1 Axes>"
      ]
     },
     "metadata": {
      "needs_background": "light"
     },
     "output_type": "display_data"
    }
   ],
   "source": [
    "#lets plot dominant eigenvector\n",
    "plt.quiver(0, 0,\n",
    "           2 * np.sqrt(eigen_value) * eigen_vec[0], 2 * np.sqrt(eigen_value) * eigen_vec[1],\n",
    "           color=\"#FF8177\", angles='xy', scale_units='xy', scale=1,\n",
    "           zorder=2, width=0.011)\n",
    "plot_beer(X_norm[:, 0], X_norm[:, 1], draw_axes=True)"
   ]
  },
  {
   "cell_type": "markdown",
   "metadata": {},
   "source": [
    "## Version 2 my method"
   ]
  },
  {
   "cell_type": "code",
   "execution_count": 88,
   "metadata": {},
   "outputs": [],
   "source": [
    "def eigenvalue(A, v):\n",
    "#     print(f'A shape {A.shape}')\n",
    "#     print(f'v shape {v.shape}')\n",
    "#     n, m = A.shape\n",
    "#     if n > m:\n",
    "#         val = A.T @ v / v\n",
    "#     else:\n",
    "    val = A @ v / v\n",
    "    return val[0]\n",
    "\n",
    "def svd_power_iteration(A, epsilon=0.01):\n",
    "    \"\"\"returns dominant eigenvalue and eigenvector of matrix A\"\"\"\n",
    "    n, d = A.shape\n",
    "\n",
    "    v = np.ones(d) / np.sqrt(d)\n",
    "    ev = eigenvalue(A, v)\n",
    "\n",
    "    while True:\n",
    "        Av = A@ v\n",
    "        v_new = Av / np.linalg.norm(Av)\n",
    "\n",
    "        ev_new = eigenvalue(A, v_new)\n",
    "        if np.abs(ev - ev_new) < epsilon:\n",
    "            break\n",
    "\n",
    "        v = v_new\n",
    "        ev = ev_new\n",
    "\n",
    "    return ev_new, v_new\n",
    "\n",
    "# def svd_1d(A, epsilon=1e-10):\n",
    "#     ''' The one-dimensional SVD '''\n",
    "\n",
    "#     n, m = A.shape\n",
    "#     x = randomUnitVector(min(n,m))\n",
    "#     lastV = None\n",
    "#     currentV = x\n",
    "\n",
    "#     if n > m:\n",
    "#         B = np.dot(A.T, A)\n",
    "#     else:\n",
    "#         B = np.dot(A, A.T)\n",
    "\n",
    "#     iterations = 0\n",
    "#     while True:\n",
    "#         iterations += 1\n",
    "#         lastV = currentV\n",
    "#         currentV = np.dot(B, lastV)\n",
    "#         currentV = currentV / np.linalg.norm(currentV)\n",
    "\n",
    "#         if abs(np.dot(currentV, lastV)) > 1 - epsilon:\n",
    "#             print(\"converged in {} iterations!\".format(iterations))\n",
    "#             return currentV\n",
    "\n",
    "def svd(A, k=None, epsilon=1e-10):\n",
    "    \"\"\"returns k dominant eigenvalues and eigenvectors of matrix A\"\"\"\n",
    "    A = np.array(A, dtype=float)\n",
    "    n, m = A.shape\n",
    "    svd_so_far = []\n",
    "    if k is None:\n",
    "        k = min(n, m)\n",
    "\n",
    "    for i in range(k):\n",
    "        matrix_for_1d = A.copy()\n",
    "\n",
    "        for singular_value, u, v in svd_so_far[:i]:\n",
    "            matrix_for_1d -= singular_value * np.outer(u, v)\n",
    "\n",
    "        if n > m:\n",
    "            _, v = svd_power_iteration(matrix_for_1d, epsilon=epsilon)  # next singular vector\n",
    "            u_unnormalized = A @ v\n",
    "            sigma = np.linalg.norm(u_unnormalized)  # next singular value\n",
    "            u = u_unnormalized / sigma\n",
    "        else:\n",
    "            _, u = svd_power_iteration(matrix_for_1d, epsilon=epsilon)  # next singular vector\n",
    "            v_unnormalized = A.T @ u\n",
    "            sigma = np.linalg.norm(v_unnormalized)  # next singular value\n",
    "            v = v_unnormalized / sigma\n",
    "\n",
    "        svd_so_far.append((sigma, u, v))\n",
    "\n",
    "    singular_values, us, vs = [np.array(x) for x in zip(*svd_so_far)]\n",
    "    return singular_values, us.T, vs\n",
    "\n",
    "\n",
    "\n",
    "# def svd(A, k=None, epsilon=1e-10):\n",
    "#     \"\"\"returns k dominant eigenvalues and eigenvectors of matrix A\"\"\"\n",
    "#     A = np.array(A, dtype=float)\n",
    "#     n, m = A.shape\n",
    "#     if n < m:\n",
    "#         A=A.T\n",
    "#         n, m = A.shape\n",
    "#     svd_so_far = []\n",
    "#     if k is None:\n",
    "#         k = min(n, m)\n",
    "\n",
    "#     for i in range(k):\n",
    "#         matrix_for_1d = A.copy()\n",
    "\n",
    "#         for singular_value, u, v in svd_so_far[:i]:\n",
    "#             matrix_for_1d -= singular_value * np.outer(u, v)\n",
    "\n",
    "#         _, v = svd_power_iteration(matrix_for_1d, epsilon=epsilon)  # next singular vector\n",
    "#         u_unnormalized = A @ v\n",
    "#         sigma = np.linalg.norm(u_unnormalized)  # next singular value\n",
    "#         u = u_unnormalized / sigma\n",
    "\n",
    "#         svd_so_far.append((sigma, u, v))\n",
    "\n",
    "#     singular_values, us, vs = [np.array(x) for x in zip(*svd_so_far)]\n",
    "#     return singular_values, us.T, vs"
   ]
  },
  {
   "cell_type": "code",
   "execution_count": 89,
   "metadata": {},
   "outputs": [
    {
     "name": "stdout",
     "output_type": "stream",
     "text": [
      "A shape (2, 2)\n",
      "v shape (2,)\n",
      "A shape (2, 2)\n",
      "v shape (2,)\n",
      "A shape (2, 2)\n",
      "v shape (2,)\n",
      "A shape (2, 2)\n",
      "v shape (2,)\n",
      "A shape (2, 2)\n",
      "v shape (2,)\n",
      "A shape (2, 2)\n",
      "v shape (2,)\n",
      "A shape (2, 2)\n",
      "v shape (2,)\n",
      "A shape (2, 2)\n",
      "v shape (2,)\n",
      "A shape (2, 2)\n",
      "v shape (2,)\n",
      "A shape (2, 2)\n",
      "v shape (2,)\n",
      "A shape (2, 2)\n",
      "v shape (2,)\n",
      "A shape (2, 2)\n",
      "v shape (2,)\n",
      "A shape (2, 2)\n",
      "v shape (2,)\n",
      "A shape (2, 2)\n",
      "v shape (2,)\n",
      "A shape (2, 2)\n",
      "v shape (2,)\n",
      "A shape (2, 2)\n",
      "v shape (2,)\n",
      "A shape (2, 2)\n",
      "v shape (2,)\n",
      "A shape (2, 2)\n",
      "v shape (2,)\n",
      "A shape (2, 2)\n",
      "v shape (2,)\n",
      "A shape (2, 2)\n",
      "v shape (2,)\n"
     ]
    }
   ],
   "source": [
    "eigen_values, eigen_vecs, _ = svd(C)"
   ]
  },
  {
   "cell_type": "code",
   "execution_count": 90,
   "metadata": {},
   "outputs": [
    {
     "data": {
      "text/plain": [
       "array([31.20734501,  6.78475896])"
      ]
     },
     "execution_count": 90,
     "metadata": {},
     "output_type": "execute_result"
    }
   ],
   "source": [
    "eigen_values"
   ]
  },
  {
   "cell_type": "code",
   "execution_count": 72,
   "metadata": {},
   "outputs": [
    {
     "data": {
      "text/plain": [
       "array([[ 0.69671139,  0.71735154],\n",
       "       [ 0.71735154, -0.69671139]])"
      ]
     },
     "execution_count": 72,
     "metadata": {},
     "output_type": "execute_result"
    }
   ],
   "source": [
    "eigen_vecs"
   ]
  },
  {
   "cell_type": "code",
   "execution_count": 73,
   "metadata": {},
   "outputs": [
    {
     "data": {
      "image/png": "[encoded data removed]",
      "text/plain": [
       "<Figure size 432x288 with 1 Axes>"
      ]
     },
     "metadata": {
      "needs_background": "light"
     },
     "output_type": "display_data"
    }
   ],
   "source": [
    "plt.quiver(0, 0,\n",
    "           2 * np.sqrt(eigen_values[0]) * eigen_vecs[0][0], 2 * np.sqrt(eigen_values[0]) * eigen_vecs[0][1],\n",
    "           color=\"#FF8177\", angles='xy', scale_units='xy', scale=1,\n",
    "           zorder=2, width=0.011)\n",
    "plt.quiver(0, 0,\n",
    "           2 * np.sqrt(eigen_values[1]) * eigen_vecs[1][0], 2 * np.sqrt(eigen_values[1]) * eigen_vecs[1][1],\n",
    "           color=\"orange\", angles='xy', scale_units='xy', scale=1,\n",
    "           zorder=2, width=0.011)\n",
    "\n",
    "plot_beer(X_norm[:, 0], X_norm[:, 1], draw_axes=True)"
   ]
  },
  {
   "cell_type": "code",
   "execution_count": 75,
   "metadata": {},
   "outputs": [
    {
     "data": {
      "text/plain": [
       "array([[1, 2, 3],\n",
       "       [4, 5, 6]])"
      ]
     },
     "execution_count": 75,
     "metadata": {},
     "output_type": "execute_result"
    }
   ],
   "source": [
    "mat=np.array([[1,2,3],\n",
    "            [4,5,6]])\n",
    "mat"
   ]
  },
  {
   "cell_type": "code",
   "execution_count": 76,
   "metadata": {},
   "outputs": [
    {
     "data": {
      "text/plain": [
       "(array([[-0.3863177 , -0.92236578],\n",
       "        [-0.92236578,  0.3863177 ]]),\n",
       " array([9.508032  , 0.77286964]),\n",
       " array([[-0.42866713, -0.56630692, -0.7039467 ],\n",
       "        [ 0.80596391,  0.11238241, -0.58119908],\n",
       "        [ 0.40824829, -0.81649658,  0.40824829]]))"
      ]
     },
     "execution_count": 76,
     "metadata": {},
     "output_type": "execute_result"
    }
   ],
   "source": [
    "np.linalg.svd(mat)"
   ]
  },
  {
   "cell_type": "code",
   "execution_count": 91,
   "metadata": {},
   "outputs": [
    {
     "name": "stdout",
     "output_type": "stream",
     "text": [
      "A shape (3, 2)\n",
      "v shape (2,)\n"
     ]
    },
    {
     "ename": "ValueError",
     "evalue": "matmul: Input operand 1 has a mismatch in its core dimension 0, with gufunc signature (n?,k),(k,m?)->(n?,m?) (size 2 is different from 3)",
     "output_type": "error",
     "traceback": [
      "\u001b[1;31m---------------------------------------------------------------------------\u001b[0m",
      "\u001b[1;31mValueError\u001b[0m                                Traceback (most recent call last)",
      "\u001b[1;32m<ipython-input-91-13e985b7cf00>\u001b[0m in \u001b[0;36m<module>\u001b[1;34m\u001b[0m\n\u001b[1;32m----> 1\u001b[1;33m \u001b[0msvd\u001b[0m\u001b[1;33m(\u001b[0m\u001b[0mmat\u001b[0m\u001b[1;33m)\u001b[0m\u001b[1;33m\u001b[0m\u001b[1;33m\u001b[0m\u001b[0m\n\u001b[0m",
      "\u001b[1;32m<ipython-input-88-d4eaad560443>\u001b[0m in \u001b[0;36msvd\u001b[1;34m(A, k, epsilon)\u001b[0m\n\u001b[0;32m    102\u001b[0m             \u001b[0mmatrix_for_1d\u001b[0m \u001b[1;33m-=\u001b[0m \u001b[0msingular_value\u001b[0m \u001b[1;33m*\u001b[0m \u001b[0mnp\u001b[0m\u001b[1;33m.\u001b[0m\u001b[0mouter\u001b[0m\u001b[1;33m(\u001b[0m\u001b[0mu\u001b[0m\u001b[1;33m,\u001b[0m \u001b[0mv\u001b[0m\u001b[1;33m)\u001b[0m\u001b[1;33m\u001b[0m\u001b[1;33m\u001b[0m\u001b[0m\n\u001b[0;32m    103\u001b[0m \u001b[1;33m\u001b[0m\u001b[0m\n\u001b[1;32m--> 104\u001b[1;33m         \u001b[0m_\u001b[0m\u001b[1;33m,\u001b[0m \u001b[0mv\u001b[0m \u001b[1;33m=\u001b[0m \u001b[0msvd_power_iteration\u001b[0m\u001b[1;33m(\u001b[0m\u001b[0mmatrix_for_1d\u001b[0m\u001b[1;33m,\u001b[0m \u001b[0mepsilon\u001b[0m\u001b[1;33m=\u001b[0m\u001b[0mepsilon\u001b[0m\u001b[1;33m)\u001b[0m  \u001b[1;31m# next singular vector\u001b[0m\u001b[1;33m\u001b[0m\u001b[1;33m\u001b[0m\u001b[0m\n\u001b[0m\u001b[0;32m    105\u001b[0m         \u001b[0mu_unnormalized\u001b[0m \u001b[1;33m=\u001b[0m \u001b[0mA\u001b[0m \u001b[1;33m@\u001b[0m \u001b[0mv\u001b[0m\u001b[1;33m\u001b[0m\u001b[1;33m\u001b[0m\u001b[0m\n\u001b[0;32m    106\u001b[0m         \u001b[0msigma\u001b[0m \u001b[1;33m=\u001b[0m \u001b[0mnp\u001b[0m\u001b[1;33m.\u001b[0m\u001b[0mlinalg\u001b[0m\u001b[1;33m.\u001b[0m\u001b[0mnorm\u001b[0m\u001b[1;33m(\u001b[0m\u001b[0mu_unnormalized\u001b[0m\u001b[1;33m)\u001b[0m  \u001b[1;31m# next singular value\u001b[0m\u001b[1;33m\u001b[0m\u001b[1;33m\u001b[0m\u001b[0m\n",
      "\u001b[1;32m<ipython-input-88-d4eaad560443>\u001b[0m in \u001b[0;36msvd_power_iteration\u001b[1;34m(A, epsilon)\u001b[0m\n\u001b[0;32m     14\u001b[0m \u001b[1;33m\u001b[0m\u001b[0m\n\u001b[0;32m     15\u001b[0m     \u001b[0mv\u001b[0m \u001b[1;33m=\u001b[0m \u001b[0mnp\u001b[0m\u001b[1;33m.\u001b[0m\u001b[0mones\u001b[0m\u001b[1;33m(\u001b[0m\u001b[0md\u001b[0m\u001b[1;33m)\u001b[0m \u001b[1;33m/\u001b[0m \u001b[0mnp\u001b[0m\u001b[1;33m.\u001b[0m\u001b[0msqrt\u001b[0m\u001b[1;33m(\u001b[0m\u001b[0md\u001b[0m\u001b[1;33m)\u001b[0m\u001b[1;33m\u001b[0m\u001b[1;33m\u001b[0m\u001b[0m\n\u001b[1;32m---> 16\u001b[1;33m     \u001b[0mev\u001b[0m \u001b[1;33m=\u001b[0m \u001b[0meigenvalue\u001b[0m\u001b[1;33m(\u001b[0m\u001b[0mA\u001b[0m\u001b[1;33m,\u001b[0m \u001b[0mv\u001b[0m\u001b[1;33m)\u001b[0m\u001b[1;33m\u001b[0m\u001b[1;33m\u001b[0m\u001b[0m\n\u001b[0m\u001b[0;32m     17\u001b[0m \u001b[1;33m\u001b[0m\u001b[0m\n\u001b[0;32m     18\u001b[0m     \u001b[1;32mwhile\u001b[0m \u001b[1;32mTrue\u001b[0m\u001b[1;33m:\u001b[0m\u001b[1;33m\u001b[0m\u001b[1;33m\u001b[0m\u001b[0m\n",
      "\u001b[1;32m<ipython-input-88-d4eaad560443>\u001b[0m in \u001b[0;36meigenvalue\u001b[1;34m(A, v)\u001b[0m\n\u001b[0;32m      4\u001b[0m     \u001b[0mn\u001b[0m\u001b[1;33m,\u001b[0m \u001b[0mm\u001b[0m \u001b[1;33m=\u001b[0m \u001b[0mA\u001b[0m\u001b[1;33m.\u001b[0m\u001b[0mshape\u001b[0m\u001b[1;33m\u001b[0m\u001b[1;33m\u001b[0m\u001b[0m\n\u001b[0;32m      5\u001b[0m     \u001b[1;32mif\u001b[0m \u001b[0mn\u001b[0m \u001b[1;33m>\u001b[0m \u001b[0mm\u001b[0m\u001b[1;33m:\u001b[0m\u001b[1;33m\u001b[0m\u001b[1;33m\u001b[0m\u001b[0m\n\u001b[1;32m----> 6\u001b[1;33m         \u001b[0mval\u001b[0m \u001b[1;33m=\u001b[0m \u001b[0mA\u001b[0m\u001b[1;33m.\u001b[0m\u001b[0mT\u001b[0m \u001b[1;33m@\u001b[0m \u001b[0mv\u001b[0m \u001b[1;33m/\u001b[0m \u001b[0mv\u001b[0m\u001b[1;33m\u001b[0m\u001b[1;33m\u001b[0m\u001b[0m\n\u001b[0m\u001b[0;32m      7\u001b[0m     \u001b[1;32melse\u001b[0m\u001b[1;33m:\u001b[0m\u001b[1;33m\u001b[0m\u001b[1;33m\u001b[0m\u001b[0m\n\u001b[0;32m      8\u001b[0m         \u001b[0mval\u001b[0m \u001b[1;33m=\u001b[0m \u001b[0mA\u001b[0m \u001b[1;33m@\u001b[0m \u001b[0mv\u001b[0m \u001b[1;33m/\u001b[0m \u001b[0mv\u001b[0m\u001b[1;33m\u001b[0m\u001b[1;33m\u001b[0m\u001b[0m\n",
      "\u001b[1;31mValueError\u001b[0m: matmul: Input operand 1 has a mismatch in its core dimension 0, with gufunc signature (n?,k),(k,m?)->(n?,m?) (size 2 is different from 3)"
     ]
    }
   ],
   "source": [
    "svd(mat)"
   ]
  },
  {
   "cell_type": "markdown",
   "metadata": {},
   "source": [
    "## Version 2 - power method for n eigenvectors and values"
   ]
  },
  {
   "cell_type": "code",
   "execution_count": 21,
   "metadata": {},
   "outputs": [],
   "source": [
    "# def randomUnitVector(n):\n",
    "#     unnormalized=np.random.normal(loc=0, scale=1, size=n)\n",
    "#     normalized=unnormalized/np.sqrt(np.sum(np.square(unnormalized)))\n",
    "#     return normalized\n",
    "\n",
    "# def svd_1d(A, epsilon=1e-10):\n",
    "#     ''' The one-dimensional SVD '''\n",
    "\n",
    "#     n, m = A.shape\n",
    "#     x = randomUnitVector(min(n,m))\n",
    "#     lastV = None\n",
    "#     currentV = x\n",
    "\n",
    "#     if n > m:\n",
    "#         B = np.dot(A.T, A)\n",
    "#     else:\n",
    "#         B = np.dot(A, A.T)\n",
    "\n",
    "#     iterations = 0\n",
    "#     while True:\n",
    "#         iterations += 1\n",
    "#         lastV = currentV\n",
    "#         currentV = np.dot(B, lastV)\n",
    "#         currentV = currentV / np.linalg.norm(currentV)\n",
    "\n",
    "#         if abs(np.dot(currentV, lastV)) > 1 - epsilon:\n",
    "#             print(\"converged in {} iterations!\".format(iterations))\n",
    "#             return currentV\n",
    "\n",
    "# def svd(A, k=None, epsilon=1e-10):\n",
    "#     '''\n",
    "#         Compute the singular value decomposition of a matrix A\n",
    "#         using the power method. A is the input matrix, and k\n",
    "#         is the number of singular values you wish to compute.\n",
    "#         If k is None, this computes the full-rank decomposition.\n",
    "#     '''\n",
    "#     A = np.array(A, dtype=float)\n",
    "#     n, m = A.shape\n",
    "#     svdSoFar = []\n",
    "#     if k is None:\n",
    "#         k = min(n, m)\n",
    "\n",
    "#     for i in range(k):\n",
    "#         matrixFor1D = A.copy()\n",
    "\n",
    "#         for singularValue, u, v in svdSoFar[:i]:\n",
    "#             matrixFor1D -= singularValue * np.outer(u, v)\n",
    "\n",
    "#         if n > m:\n",
    "#             v = svd_1d(matrixFor1D, epsilon=epsilon)  # next singular vector\n",
    "#             u_unnormalized = np.dot(A, v)\n",
    "#             sigma = np.linalg.norm(u_unnormalized)  # next singular value\n",
    "#             u = u_unnormalized / sigma\n",
    "#         else:\n",
    "#             u = svd_1d(matrixFor1D, epsilon=epsilon)  # next singular vector\n",
    "#             v_unnormalized = np.dot(A.T, u)\n",
    "#             sigma = np.linalg.norm(v_unnormalized)  # next singular value\n",
    "#             v = v_unnormalized / sigma\n",
    "\n",
    "#         svdSoFar.append((sigma, u, v))\n",
    "\n",
    "#     singularValues, us, vs = [np.array(x) for x in zip(*svdSoFar)]\n",
    "#     return singularValues, us.T, vs"
   ]
  },
  {
   "cell_type": "code",
   "execution_count": 22,
   "metadata": {},
   "outputs": [
    {
     "name": "stdout",
     "output_type": "stream",
     "text": [
      "converged in 5 iterations!\n",
      "converged in 2 iterations!\n"
     ]
    }
   ],
   "source": [
    "# eigen_values, eigen_vecs, _ = svd(C)"
   ]
  },
  {
   "cell_type": "code",
   "execution_count": 23,
   "metadata": {},
   "outputs": [
    {
     "data": {
      "text/plain": [
       "array([31.20734501,  6.78475896])"
      ]
     },
     "execution_count": 23,
     "metadata": {},
     "output_type": "execute_result"
    }
   ],
   "source": [
    "# eigen_values"
   ]
  },
  {
   "cell_type": "code",
   "execution_count": 24,
   "metadata": {},
   "outputs": [
    {
     "data": {
      "text/plain": [
       "array([[-0.69671151,  0.71735143],\n",
       "       [-0.71735143, -0.69671151]])"
      ]
     },
     "execution_count": 24,
     "metadata": {},
     "output_type": "execute_result"
    }
   ],
   "source": [
    "# eigen_vecs"
   ]
  },
  {
   "cell_type": "code",
   "execution_count": 25,
   "metadata": {},
   "outputs": [
    {
     "data": {
      "image/png": "[encoded data removed]",
      "text/plain": [
       "<Figure size 432x288 with 1 Axes>"
      ]
     },
     "metadata": {
      "needs_background": "light"
     },
     "output_type": "display_data"
    }
   ],
   "source": [
    "# plt.quiver(0, 0,\n",
    "#            2 * np.sqrt(eigen_values[0]) * eigen_vecs[0][0], 2 * np.sqrt(eigen_values[0]) * eigen_vecs[0][1],\n",
    "#            color=\"#FF8177\", angles='xy', scale_units='xy', scale=1,\n",
    "#            zorder=2, width=0.011)\n",
    "# plt.quiver(0, 0,\n",
    "#            2 * np.sqrt(eigen_values[1]) * eigen_vecs[1][0], 2 * np.sqrt(eigen_values[1]) * eigen_vecs[1][1],\n",
    "#            color=\"orange\", angles='xy', scale_units='xy', scale=1,\n",
    "#            zorder=2, width=0.011)\n",
    "\n",
    "# plot_beer(X_norm[:, 0], X_norm[:, 1], draw_axes=True)"
   ]
  },
  {
   "cell_type": "markdown",
   "metadata": {},
   "source": [
    "## Simultaneous power iteration"
   ]
  },
  {
   "cell_type": "code",
   "execution_count": 26,
   "metadata": {},
   "outputs": [],
   "source": [
    "def simultaneous_power_iteration(A, k):\n",
    "    n, m = A.shape\n",
    "    Q = np.random.rand(n, k)\n",
    "    Q, _ = np.linalg.qr(Q)\n",
    "    Q_prev = Q\n",
    " \n",
    "    for i in range(1000):\n",
    "        Z = A.dot(Q)\n",
    "        Q, R = np.linalg.qr(Z)\n",
    "\n",
    "        # can use other stopping criteria as well \n",
    "        err = ((Q - Q_prev) ** 2).sum()\n",
    "        if i % 10 == 0:\n",
    "            print(i, err)\n",
    "\n",
    "        Q_prev = Q\n",
    "        if err < 1e-3:\n",
    "            break\n",
    "\n",
    "    return np.diag(R), Q.T"
   ]
  },
  {
   "cell_type": "code",
   "execution_count": 27,
   "metadata": {},
   "outputs": [
    {
     "name": "stdout",
     "output_type": "stream",
     "text": [
      "0 0.5031476051707446\n"
     ]
    }
   ],
   "source": [
    "eigen_values, eigen_vecs = simultaneous_power_iteration(C, 2)"
   ]
  },
  {
   "cell_type": "code",
   "execution_count": 28,
   "metadata": {},
   "outputs": [
    {
     "data": {
      "text/plain": [
       "array([31.2063119 ,  6.78498358])"
      ]
     },
     "execution_count": 28,
     "metadata": {},
     "output_type": "execute_result"
    }
   ],
   "source": [
    "eigen_values"
   ]
  },
  {
   "cell_type": "code",
   "execution_count": 29,
   "metadata": {},
   "outputs": [
    {
     "data": {
      "text/plain": [
       "array([[-0.6954101 , -0.71861311],\n",
       "       [-0.71861311,  0.6954101 ]])"
      ]
     },
     "execution_count": 29,
     "metadata": {},
     "output_type": "execute_result"
    }
   ],
   "source": [
    "eigen_vecs"
   ]
  },
  {
   "cell_type": "code",
   "execution_count": 30,
   "metadata": {},
   "outputs": [
    {
     "data": {
      "image/png": "[encoded data removed]",
      "text/plain": [
       "<Figure size 432x288 with 1 Axes>"
      ]
     },
     "metadata": {
      "needs_background": "light"
     },
     "output_type": "display_data"
    }
   ],
   "source": [
    "plt.quiver(0, 0,\n",
    "           2 * np.sqrt(eigen_values[0]) * eigen_vecs[0][0], 2 * np.sqrt(eigen_values[0]) * eigen_vecs[0][1],\n",
    "           color=\"#FF8177\", angles='xy', scale_units='xy', scale=1,\n",
    "           zorder=2, width=0.011)\n",
    "plt.quiver(0, 0,\n",
    "           2 * np.sqrt(eigen_values[1]) * eigen_vecs[1][0], 2 * np.sqrt(eigen_values[1]) * eigen_vecs[1][1],\n",
    "           color=\"orange\", angles='xy', scale_units='xy', scale=1,\n",
    "           zorder=2, width=0.011)\n",
    "\n",
    "plot_beer(X_norm[:, 0], X_norm[:, 1], draw_axes=True)"
   ]
  },
  {
   "cell_type": "code",
   "execution_count": null,
   "metadata": {},
   "outputs": [],
   "source": []
  }
 ],
 "metadata": {
  "kernelspec": {
   "display_name": "Python 3",
   "language": "python",
   "name": "python3"
  },
  "language_info": {
   "codemirror_mode": {
    "name": "ipython",
    "version": 3
   },
   "file_extension": ".py",
   "mimetype": "text/x-python",
   "name": "python",
   "nbconvert_exporter": "python",
   "pygments_lexer": "ipython3",
   "version": "3.7.4"
  }
 },
 "nbformat": 4,
 "nbformat_minor": 2
}
