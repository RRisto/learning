{
 "cells": [
  {
   "cell_type": "code",
   "execution_count": 1,
   "metadata": {},
   "outputs": [],
   "source": [
    "import numpy as np\n",
    "import pandas as pd\n",
    "import matplotlib.pyplot as plt\n",
    "from matplotlib import ticker\n",
    "%matplotlib inline"
   ]
  },
  {
   "cell_type": "markdown",
   "metadata": {},
   "source": [
    "## Helpers"
   ]
  },
  {
   "cell_type": "code",
   "execution_count": 2,
   "metadata": {},
   "outputs": [],
   "source": [
    "def plot_vectors(vectors=[(0, 0, 1, 2),(0, 0, 3, 1)], \n",
    "                 texts=[r'$\\vec{a}$', r'$\\vec{b}$', 'power vec', 'power vec2'], \n",
    "                 texts_locs=[(0.5, 0.7), (0.2, 0.8), (0.7, 0.5),  (0.5, 0.5)], text_size=18, \n",
    "                 colors=[\"#2EBCE7\",\"#00E64E\", \"purple\", 'orange'],   \n",
    "                 xlim=(-1, 3), ylim=(-1,3), x_label='x', y_label='y', \n",
    "                 scale=1, scale_units='xy'):\n",
    "    fig, ax =plt.subplots(figsize=(6,6))\n",
    "    ax.xaxis.set_major_locator(ticker.MultipleLocator(1))\n",
    "    ax.yaxis.set_major_locator(ticker.MultipleLocator(1))\n",
    "    \n",
    "    for i, vec in enumerate(vectors):\n",
    "        ax.quiver(*vec, color=colors[i], angles='xy', scale_units=scale_units, scale=scale)\n",
    "        plt.text(*texts_locs[i], texts[i], color=colors[i], size=text_size)\n",
    "\n",
    "    # draw axes\n",
    "    plt.axhline(0, c='#d6d6d6', zorder=0)\n",
    "    plt.axvline(0, c='#d6d6d6', zorder=0)\n",
    "\n",
    "    plt.xlim(*xlim)\n",
    "    plt.ylim(*ylim)\n",
    "    plt.xlabel(x_label)\n",
    "    plt.ylabel(y_label)\n",
    "    plt.show()\n",
    "    return ax\n",
    "\n",
    "#from https://en.wikipedia.org/wiki/Power_iteration\n",
    "def power_iteration(A, num_simulations: int):\n",
    "    # Ideally choose a random vector\n",
    "    # To decrease the chance that our vector\n",
    "    # Is orthogonal to the eigenvector\n",
    "    b_k = np.random.rand(A.shape[1])\n",
    "\n",
    "    for _ in range(num_simulations):\n",
    "        # calculate the matrix-by-vector product Ab\n",
    "        b_k1 = np.dot(A, b_k)\n",
    "\n",
    "        # calculate the norm\n",
    "        b_k1_norm = np.linalg.norm(b_k1)\n",
    "\n",
    "        # re normalize the vector\n",
    "        b_k = b_k1 / b_k1_norm\n",
    "\n",
    "    return b_k"
   ]
  },
  {
   "cell_type": "markdown",
   "metadata": {},
   "source": [
    "## SVD methods, beer example"
   ]
  },
  {
   "cell_type": "markdown",
   "metadata": {},
   "source": [
    "#### Beer dataset"
   ]
  },
  {
   "cell_type": "markdown",
   "metadata": {},
   "source": [
    "Data is available from here: https://www.kaggle.com/dongeorge/beer-consumption-sao-paulo"
   ]
  },
  {
   "cell_type": "code",
   "execution_count": 11,
   "metadata": {},
   "outputs": [
    {
     "data": {
      "text/plain": [
       "(365, 7)"
      ]
     },
     "execution_count": 11,
     "metadata": {},
     "output_type": "execute_result"
    }
   ],
   "source": [
    "df=pd.read_csv('data/beer_dataset.csv')\n",
    "df.shape"
   ]
  },
  {
   "cell_type": "code",
   "execution_count": 223,
   "metadata": {},
   "outputs": [],
   "source": [
    "def plot_beer(x, y, x_label=\"Maximal temperature ($\\degree$C)\", y_label=\"Consuption (liters)\", \n",
    "              alpha=0.3, draw_axes=False):\n",
    "    plt.scatter(x, y, alpha=alpha)\n",
    "\n",
    "    plt.xlabel(x_label)\n",
    "    plt.ylabel(y_label)\n",
    "\n",
    "    # Assure that ticks are displayed with a specific step\n",
    "    ax = plt.gca()\n",
    "    ax.xaxis.set_major_locator(ticker.MultipleLocator(5))\n",
    "    ax.yaxis.set_major_locator(ticker.MultipleLocator(5))\n",
    "    \n",
    "    if draw_axes:\n",
    "        # draw axes\n",
    "        plt.axhline(0, c='#d6d6d6', zorder=0)\n",
    "        plt.axvline(0, c='#d6d6d6', zorder=0)\n",
    "\n",
    "    # assure x and y axis have the same scale\n",
    "    plt.axis('equal')\n",
    "    plt.show()"
   ]
  },
  {
   "cell_type": "code",
   "execution_count": 224,
   "metadata": {},
   "outputs": [
    {
     "data": {
      "image/png": "[encoded data removed]",
      "text/plain": [
       "<Figure size 432x288 with 1 Axes>"
      ]
     },
     "metadata": {
      "needs_background": "light"
     },
     "output_type": "display_data"
    }
   ],
   "source": [
    "plot_beer(df['Temperatura Maxima (C)'],\n",
    "          df['Consumo de cerveja (litros)'])"
   ]
  },
  {
   "cell_type": "markdown",
   "metadata": {},
   "source": [
    "#### Make datasets"
   ]
  },
  {
   "cell_type": "code",
   "execution_count": 225,
   "metadata": {},
   "outputs": [],
   "source": [
    "X = np.array([df['Temperatura Maxima (C)'],\n",
    "              df['Consumo de cerveja (litros)']]).T"
   ]
  },
  {
   "cell_type": "markdown",
   "metadata": {},
   "source": [
    "#### Covariance matrix"
   ]
  },
  {
   "cell_type": "code",
   "execution_count": 226,
   "metadata": {},
   "outputs": [
    {
     "data": {
      "text/plain": [
       "array([[18.63964745, 12.20609082],\n",
       "       [12.20609082, 19.35245652]])"
      ]
     },
     "execution_count": 226,
     "metadata": {},
     "output_type": "execute_result"
    }
   ],
   "source": [
    "C = np.cov(X, rowvar=False)\n",
    "C"
   ]
  },
  {
   "cell_type": "code",
   "execution_count": 227,
   "metadata": {},
   "outputs": [],
   "source": [
    "#for easier plotting calculate mean centered data\n",
    "X_norm=X.copy()\n",
    "X_norm -= X.mean(axis=0)"
   ]
  },
  {
   "cell_type": "markdown",
   "metadata": {},
   "source": [
    "## Version 1  - power iteration"
   ]
  },
  {
   "cell_type": "code",
   "execution_count": 204,
   "metadata": {},
   "outputs": [],
   "source": [
    "#source http://mlwiki.org/index.php/Power_Iteration\n",
    "def eigenvalue(A, v):\n",
    "    val = A @ v / v\n",
    "    return val[0]\n",
    "\n",
    "def svd_power_iteration(A):\n",
    "    n, d = A.shape\n",
    "\n",
    "    v = np.ones(d) / np.sqrt(d)\n",
    "    ev = eigenvalue(A, v)\n",
    "\n",
    "    while True:\n",
    "        Av = A @ v\n",
    "        v_new = Av / np.linalg.norm(Av)\n",
    "        ev_new = eigenvalue(A, v_new)\n",
    "        if np.abs(ev - ev_new) < 0.01:\n",
    "            break\n",
    "\n",
    "        v = v_new\n",
    "        ev = ev_new\n",
    "\n",
    "    return ev_new, v_new"
   ]
  },
  {
   "cell_type": "code",
   "execution_count": 205,
   "metadata": {},
   "outputs": [
    {
     "data": {
      "text/plain": [
       "31.206525014487084"
      ]
     },
     "execution_count": 205,
     "metadata": {},
     "output_type": "execute_result"
    }
   ],
   "source": [
    "eigen_value, eigen_vec = svd_power_iteration(C)\n",
    "eigen_value"
   ]
  },
  {
   "cell_type": "code",
   "execution_count": 207,
   "metadata": {},
   "outputs": [
    {
     "data": {
      "text/plain": [
       "array([0.69673479, 0.71732882])"
      ]
     },
     "execution_count": 207,
     "metadata": {},
     "output_type": "execute_result"
    }
   ],
   "source": [
    "eigen_vec"
   ]
  },
  {
   "cell_type": "code",
   "execution_count": 249,
   "metadata": {},
   "outputs": [],
   "source": [
    "#compare to numpy implementation\n",
    "u, s, v=np.linalg.svd(C, 1)"
   ]
  },
  {
   "cell_type": "code",
   "execution_count": 250,
   "metadata": {},
   "outputs": [
    {
     "data": {
      "text/plain": [
       "array([[-0.69671139, -0.71735154],\n",
       "       [-0.71735154,  0.69671139]])"
      ]
     },
     "execution_count": 250,
     "metadata": {},
     "output_type": "execute_result"
    }
   ],
   "source": [
    "u # first eigenvector matches, we can ignore the signs as they are still same eigenvector"
   ]
  },
  {
   "cell_type": "code",
   "execution_count": 251,
   "metadata": {},
   "outputs": [
    {
     "data": {
      "text/plain": [
       "array([31.20734501,  6.78475896])"
      ]
     },
     "execution_count": 251,
     "metadata": {},
     "output_type": "execute_result"
    }
   ],
   "source": [
    "s #numpy has second eigenvalue also"
   ]
  },
  {
   "cell_type": "code",
   "execution_count": 252,
   "metadata": {},
   "outputs": [
    {
     "data": {
      "text/plain": [
       "array([[-0.69671139, -0.71735154],\n",
       "       [-0.71735154,  0.69671139]])"
      ]
     },
     "execution_count": 252,
     "metadata": {},
     "output_type": "execute_result"
    }
   ],
   "source": [
    "v"
   ]
  },
  {
   "cell_type": "code",
   "execution_count": 237,
   "metadata": {},
   "outputs": [
    {
     "data": {
      "image/png": "[encoded data removed]",
      "text/plain": [
       "<Figure size 432x288 with 1 Axes>"
      ]
     },
     "metadata": {
      "needs_background": "light"
     },
     "output_type": "display_data"
    }
   ],
   "source": [
    "#lets plot dominant eigenvector\n",
    "def plot_eigenvectors(eigen_vecs, eigen_values, colors=[\"#FF8177\", \"orange\"]):\n",
    "    for i, eigen_vec in enumerate(eigen_vecs):\n",
    "        plt.quiver(0, 0,\n",
    "           2 * np.sqrt(eigen_values[i]) * eigen_vec[0], 2 * np.sqrt(eigen_values[i]) * eigen_vec[1],\n",
    "           color=colors[i], angles=\"xy\", scale_units=\"xy\", scale=1,\n",
    "           zorder=2, width=0.011)\n",
    "\n",
    "plot_eigenvectors([eigen_vec], [eigen_value], colors=[\"#FF8177\", \"orange\"])\n",
    "plot_beer(X_norm[:, 0], X_norm[:, 1], draw_axes=True)"
   ]
  },
  {
   "cell_type": "markdown",
   "metadata": {},
   "source": [
    "## Version 2  - svd for n singular values"
   ]
  },
  {
   "cell_type": "code",
   "execution_count": 238,
   "metadata": {},
   "outputs": [],
   "source": [
    "#https://jeremykun.com/2016/05/16/singular-value-decomposition-part-2-theorem-proof-algorithm/\n",
    "#https://github.com/j2kun/svd/blob/main/svd.py\n",
    "def eigenvalue(A, v):\n",
    "    val = A @ v / v\n",
    "    return val[0]\n",
    "\n",
    "def svd_power_iteration(A, epsilon=0.01):\n",
    "    \"\"\"returns dominant eigenvalue and dominant eigenvector of matrix A\"\"\"\n",
    "    n, m = A.shape\n",
    "    k=min(n,m)\n",
    "    v = np.ones(k) / np.sqrt(k)\n",
    "    if n > m:\n",
    "        A = A.T @ A\n",
    "    elif n < m:\n",
    "        A = A @ A.T\n",
    "    \n",
    "    ev = eigenvalue(A, v)\n",
    "\n",
    "    while True:\n",
    "        Av = A@ v\n",
    "        v_new = Av / np.linalg.norm(Av)\n",
    "        ev_new = eigenvalue(A, v_new)\n",
    "        if np.abs(ev - ev_new) < epsilon:\n",
    "            break\n",
    "\n",
    "        v = v_new\n",
    "        ev = ev_new\n",
    "\n",
    "    return ev_new, v_new\n",
    "\n",
    "def svd(A, k=None, epsilon=1e-10):\n",
    "    \"\"\"returns k dominant eigenvalues and eigenvectors of matrix A\"\"\"\n",
    "    A = np.array(A, dtype=float)\n",
    "    n, m = A.shape\n",
    "        \n",
    "    svd_so_far = []\n",
    "    if k is None:\n",
    "        k = min(n, m)\n",
    "\n",
    "    for i in range(k):\n",
    "        matrix_for_1d = A.copy()\n",
    "\n",
    "        for singular_value, u, v in svd_so_far[:i]:\n",
    "            matrix_for_1d -= singular_value * np.outer(u, v)\n",
    "\n",
    "        if n > m:\n",
    "            _, v = svd_power_iteration(matrix_for_1d, epsilon=epsilon)  # next singular vector\n",
    "            u_unnormalized = A @ v\n",
    "            sigma = np.linalg.norm(u_unnormalized)  # next singular value\n",
    "            u = u_unnormalized / sigma\n",
    "        else:\n",
    "            _, u = svd_power_iteration(matrix_for_1d, epsilon=epsilon)  # next singular vector\n",
    "            v_unnormalized = A.T @ u\n",
    "            sigma = np.linalg.norm(v_unnormalized)  # next singular value\n",
    "            v = v_unnormalized / sigma\n",
    "\n",
    "        svd_so_far.append((sigma, u, v))\n",
    "\n",
    "    singular_values, us, vs = [np.array(x) for x in zip(*svd_so_far)]\n",
    "    return singular_values, us.T, vs"
   ]
  },
  {
   "cell_type": "code",
   "execution_count": 239,
   "metadata": {},
   "outputs": [],
   "source": [
    "eigen_values, eigen_vecs, _ = svd(C)"
   ]
  },
  {
   "cell_type": "code",
   "execution_count": 240,
   "metadata": {},
   "outputs": [
    {
     "data": {
      "text/plain": [
       "array([31.20734501,  6.78475896])"
      ]
     },
     "execution_count": 240,
     "metadata": {},
     "output_type": "execute_result"
    }
   ],
   "source": [
    "eigen_values"
   ]
  },
  {
   "cell_type": "code",
   "execution_count": 241,
   "metadata": {},
   "outputs": [
    {
     "data": {
      "text/plain": [
       "array([[ 0.69671139,  0.71735154],\n",
       "       [ 0.71735154, -0.69671139]])"
      ]
     },
     "execution_count": 241,
     "metadata": {},
     "output_type": "execute_result"
    }
   ],
   "source": [
    "eigen_vecs"
   ]
  },
  {
   "cell_type": "code",
   "execution_count": 242,
   "metadata": {},
   "outputs": [
    {
     "data": {
      "image/png": "[encoded data removed]",
      "text/plain": [
       "<Figure size 432x288 with 1 Axes>"
      ]
     },
     "metadata": {
      "needs_background": "light"
     },
     "output_type": "display_data"
    }
   ],
   "source": [
    "plot_eigenvectors(eigen_vecs, eigen_values, colors=[\"#FF8177\", \"orange\"])\n",
    "plot_beer(X_norm[:, 0], X_norm[:, 1], draw_axes=True)"
   ]
  },
  {
   "cell_type": "code",
   "execution_count": 214,
   "metadata": {},
   "outputs": [
    {
     "data": {
      "text/plain": [
       "array([[1, 2, 3],\n",
       "       [4, 5, 6]])"
      ]
     },
     "execution_count": 214,
     "metadata": {},
     "output_type": "execute_result"
    }
   ],
   "source": [
    "mat=np.array([[1,2,3],\n",
    "            [4,5,6]])\n",
    "mat"
   ]
  },
  {
   "cell_type": "code",
   "execution_count": 215,
   "metadata": {},
   "outputs": [
    {
     "data": {
      "text/plain": [
       "(array([[-0.3863177 , -0.92236578],\n",
       "        [-0.92236578,  0.3863177 ]]),\n",
       " array([9.508032  , 0.77286964]),\n",
       " array([[-0.42866713, -0.56630692, -0.7039467 ],\n",
       "        [ 0.80596391,  0.11238241, -0.58119908],\n",
       "        [ 0.40824829, -0.81649658,  0.40824829]]))"
      ]
     },
     "execution_count": 215,
     "metadata": {},
     "output_type": "execute_result"
    }
   ],
   "source": [
    "np.linalg.svd(mat)"
   ]
  },
  {
   "cell_type": "code",
   "execution_count": 216,
   "metadata": {},
   "outputs": [
    {
     "data": {
      "text/plain": [
       "(array([9.508032  , 0.77286964]),\n",
       " array([[ 0.3863177 ,  0.92236578],\n",
       "        [ 0.92236578, -0.3863177 ]]),\n",
       " array([[ 0.42866713,  0.56630692,  0.7039467 ],\n",
       "        [-0.80596391, -0.11238241,  0.58119908]]))"
      ]
     },
     "execution_count": 216,
     "metadata": {},
     "output_type": "execute_result"
    }
   ],
   "source": [
    "svd(mat)"
   ]
  },
  {
   "cell_type": "code",
   "execution_count": 217,
   "metadata": {},
   "outputs": [
    {
     "data": {
      "text/plain": [
       "array([[1, 2, 3],\n",
       "       [4, 5, 6],\n",
       "       [6, 1, 9],\n",
       "       [3, 2, 3]])"
      ]
     },
     "execution_count": 217,
     "metadata": {},
     "output_type": "execute_result"
    }
   ],
   "source": [
    "mat2=np.array([[1,2,3],\n",
    "            [4,5,6],\n",
    "              [6,1,9],\n",
    "              [3,2,3]])\n",
    "mat2"
   ]
  },
  {
   "cell_type": "code",
   "execution_count": 218,
   "metadata": {},
   "outputs": [
    {
     "data": {
      "text/plain": [
       "(array([[-0.23977259, -0.25783455, -0.70262188],\n",
       "        [-0.5731924 , -0.66688394,  0.02172421],\n",
       "        [-0.71887238,  0.68282973, -0.08897351],\n",
       "        [-0.31174039, -0.15010236,  0.70564458]]),\n",
       " array([14.7049491 ,  3.65932101,  1.17210996]),\n",
       " array([[-0.52914142, -0.31879473, -0.78637095],\n",
       "        [ 0.19711333, -0.94757027,  0.25150927],\n",
       "        [ 0.82532157,  0.02192023, -0.56423737]]))"
      ]
     },
     "execution_count": 218,
     "metadata": {},
     "output_type": "execute_result"
    }
   ],
   "source": [
    "np.linalg.svd(mat2, full_matrices=False)"
   ]
  },
  {
   "cell_type": "code",
   "execution_count": 219,
   "metadata": {},
   "outputs": [
    {
     "data": {
      "text/plain": [
       "(array([14.7049491 ,  3.65932101,  1.17210996]),\n",
       " array([[ 0.23977259,  0.25783455, -0.70262188],\n",
       "        [ 0.5731924 ,  0.66688394,  0.02172421],\n",
       "        [ 0.71887238, -0.68282973, -0.08897351],\n",
       "        [ 0.31174039,  0.15010236,  0.70564458]]),\n",
       " array([[ 0.52914142,  0.31879473,  0.78637095],\n",
       "        [-0.19711333,  0.94757027, -0.25150927],\n",
       "        [ 0.82532157,  0.02192023, -0.56423737]]))"
      ]
     },
     "execution_count": 219,
     "metadata": {},
     "output_type": "execute_result"
    }
   ],
   "source": [
    "svd(mat2)"
   ]
  },
  {
   "cell_type": "markdown",
   "metadata": {},
   "source": [
    "## Simultaneous power iteration /Orthogonal Iteration / block version of the Power Method"
   ]
  },
  {
   "cell_type": "code",
   "execution_count": 243,
   "metadata": {},
   "outputs": [],
   "source": [
    "def simultaneous_power_iteration(A, k, epsilon=0.001):\n",
    "    n, m = A.shape\n",
    "    Q = np.random.rand(n, k)\n",
    "    Q, _ = np.linalg.qr(Q)\n",
    "    Q_prev = Q\n",
    " \n",
    "    for i in range(1000):\n",
    "        Z = A @ Q\n",
    "        Q, R = np.linalg.qr(Z)\n",
    "\n",
    "        # can use other stopping criteria as well \n",
    "        err = ((Q - Q_prev) ** 2).sum()\n",
    "\n",
    "        Q_prev = Q\n",
    "        if err < epsilon:\n",
    "            break\n",
    "\n",
    "    return np.diag(R), Q.T"
   ]
  },
  {
   "cell_type": "code",
   "execution_count": 244,
   "metadata": {},
   "outputs": [],
   "source": [
    "eigen_values, eigen_vecs = simultaneous_power_iteration(C, 2)"
   ]
  },
  {
   "cell_type": "code",
   "execution_count": 245,
   "metadata": {},
   "outputs": [
    {
     "data": {
      "text/plain": [
       "array([31.20623454,  6.7850004 ])"
      ]
     },
     "execution_count": 245,
     "metadata": {},
     "output_type": "execute_result"
    }
   ],
   "source": [
    "eigen_values"
   ]
  },
  {
   "cell_type": "code",
   "execution_count": 246,
   "metadata": {},
   "outputs": [
    {
     "data": {
      "text/plain": [
       "array([[-0.69805812, -0.71604111],\n",
       "       [-0.71604111,  0.69805812]])"
      ]
     },
     "execution_count": 246,
     "metadata": {},
     "output_type": "execute_result"
    }
   ],
   "source": [
    "eigen_vecs"
   ]
  },
  {
   "cell_type": "code",
   "execution_count": 247,
   "metadata": {},
   "outputs": [
    {
     "data": {
      "image/png": "[encoded data removed]",
      "text/plain": [
       "<Figure size 432x288 with 1 Axes>"
      ]
     },
     "metadata": {
      "needs_background": "light"
     },
     "output_type": "display_data"
    }
   ],
   "source": [
    "plot_eigenvectors(eigen_vecs, eigen_values, colors=[\"#FF8177\", \"orange\"])\n",
    "plot_beer(X_norm[:, 0], X_norm[:, 1], draw_axes=True)"
   ]
  },
  {
   "cell_type": "code",
   "execution_count": null,
   "metadata": {},
   "outputs": [],
   "source": []
  }
 ],
 "metadata": {
  "kernelspec": {
   "display_name": "Python 3",
   "language": "python",
   "name": "python3"
  },
  "language_info": {
   "codemirror_mode": {
    "name": "ipython",
    "version": 3
   },
   "file_extension": ".py",
   "mimetype": "text/x-python",
   "name": "python",
   "nbconvert_exporter": "python",
   "pygments_lexer": "ipython3",
   "version": "3.7.4"
  }
 },
 "nbformat": 4,
 "nbformat_minor": 2
}
