{
 "cells": [
  {
   "cell_type": "markdown",
   "metadata": {},
   "source": [
    "## PCA"
   ]
  },
  {
   "cell_type": "code",
   "execution_count": 74,
   "metadata": {},
   "outputs": [],
   "source": [
    "import numpy as np\n",
    "import pandas as pd\n",
    "from sklearn import datasets\n",
    "import matplotlib.pyplot as plt\n",
    "from sklearn.decomposition import PCA"
   ]
  },
  {
   "cell_type": "markdown",
   "metadata": {},
   "source": [
    "## Data"
   ]
  },
  {
   "cell_type": "code",
   "execution_count": 75,
   "metadata": {},
   "outputs": [],
   "source": [
    "iris = datasets.load_iris()"
   ]
  },
  {
   "cell_type": "code",
   "execution_count": 76,
   "metadata": {},
   "outputs": [
    {
     "data": {
      "text/plain": [
       "dict_keys(['data', 'target', 'target_names', 'DESCR', 'feature_names', 'filename'])"
      ]
     },
     "execution_count": 76,
     "metadata": {},
     "output_type": "execute_result"
    }
   ],
   "source": [
    "iris.keys()"
   ]
  },
  {
   "cell_type": "code",
   "execution_count": 77,
   "metadata": {},
   "outputs": [
    {
     "data": {
      "text/plain": [
       "(150, 4)"
      ]
     },
     "execution_count": 77,
     "metadata": {},
     "output_type": "execute_result"
    }
   ],
   "source": [
    "df_x=pd.DataFrame(iris['data'], columns=iris['feature_names'])\n",
    "df_x.shape"
   ]
  },
  {
   "cell_type": "code",
   "execution_count": 78,
   "metadata": {},
   "outputs": [
    {
     "data": {
      "text/html": [
       "<div>\n",
       "<style scoped>\n",
       "    .dataframe tbody tr th:only-of-type {\n",
       "        vertical-align: middle;\n",
       "    }\n",
       "\n",
       "    .dataframe tbody tr th {\n",
       "        vertical-align: top;\n",
       "    }\n",
       "\n",
       "    .dataframe thead th {\n",
       "        text-align: right;\n",
       "    }\n",
       "</style>\n",
       "<table border=\"1\" class=\"dataframe\">\n",
       "  <thead>\n",
       "    <tr style=\"text-align: right;\">\n",
       "      <th></th>\n",
       "      <th>sepal length (cm)</th>\n",
       "      <th>sepal width (cm)</th>\n",
       "      <th>petal length (cm)</th>\n",
       "      <th>petal width (cm)</th>\n",
       "    </tr>\n",
       "  </thead>\n",
       "  <tbody>\n",
       "    <tr>\n",
       "      <th>0</th>\n",
       "      <td>5.1</td>\n",
       "      <td>3.5</td>\n",
       "      <td>1.4</td>\n",
       "      <td>0.2</td>\n",
       "    </tr>\n",
       "    <tr>\n",
       "      <th>1</th>\n",
       "      <td>4.9</td>\n",
       "      <td>3.0</td>\n",
       "      <td>1.4</td>\n",
       "      <td>0.2</td>\n",
       "    </tr>\n",
       "    <tr>\n",
       "      <th>2</th>\n",
       "      <td>4.7</td>\n",
       "      <td>3.2</td>\n",
       "      <td>1.3</td>\n",
       "      <td>0.2</td>\n",
       "    </tr>\n",
       "    <tr>\n",
       "      <th>3</th>\n",
       "      <td>4.6</td>\n",
       "      <td>3.1</td>\n",
       "      <td>1.5</td>\n",
       "      <td>0.2</td>\n",
       "    </tr>\n",
       "    <tr>\n",
       "      <th>4</th>\n",
       "      <td>5.0</td>\n",
       "      <td>3.6</td>\n",
       "      <td>1.4</td>\n",
       "      <td>0.2</td>\n",
       "    </tr>\n",
       "  </tbody>\n",
       "</table>\n",
       "</div>"
      ],
      "text/plain": [
       "   sepal length (cm)  sepal width (cm)  petal length (cm)  petal width (cm)\n",
       "0                5.1               3.5                1.4               0.2\n",
       "1                4.9               3.0                1.4               0.2\n",
       "2                4.7               3.2                1.3               0.2\n",
       "3                4.6               3.1                1.5               0.2\n",
       "4                5.0               3.6                1.4               0.2"
      ]
     },
     "execution_count": 78,
     "metadata": {},
     "output_type": "execute_result"
    }
   ],
   "source": [
    "df_x.head()"
   ]
  },
  {
   "cell_type": "code",
   "execution_count": 79,
   "metadata": {},
   "outputs": [
    {
     "data": {
      "text/plain": [
       "(150, 2)"
      ]
     },
     "execution_count": 79,
     "metadata": {},
     "output_type": "execute_result"
    }
   ],
   "source": [
    "# make also dataset with two features for easier plotting\n",
    "df_x2=df_x.iloc[:,[0,2]]\n",
    "df_x2.shape"
   ]
  },
  {
   "cell_type": "code",
   "execution_count": 80,
   "metadata": {},
   "outputs": [
    {
     "data": {
      "text/plain": [
       "(150,)"
      ]
     },
     "execution_count": 80,
     "metadata": {},
     "output_type": "execute_result"
    }
   ],
   "source": [
    "y=iris['target']\n",
    "y.shape"
   ]
  },
  {
   "cell_type": "code",
   "execution_count": 81,
   "metadata": {},
   "outputs": [
    {
     "data": {
      "text/plain": [
       "array([0, 0, 0, 0, 0])"
      ]
     },
     "execution_count": 81,
     "metadata": {},
     "output_type": "execute_result"
    }
   ],
   "source": [
    "y[:5]"
   ]
  },
  {
   "cell_type": "markdown",
   "metadata": {},
   "source": [
    "## Plot data"
   ]
  },
  {
   "cell_type": "code",
   "execution_count": 82,
   "metadata": {},
   "outputs": [
    {
     "data": {
      "text/plain": [
       "<matplotlib.collections.PathCollection at 0x25846c4c448>"
      ]
     },
     "execution_count": 82,
     "metadata": {},
     "output_type": "execute_result"
    },
    {
     "data": {
      "image/png": "[encoded data removed]",
      "text/plain": [
       "<Figure size 432x288 with 1 Axes>"
      ]
     },
     "metadata": {
      "needs_background": "light"
     },
     "output_type": "display_data"
    }
   ],
   "source": [
    "plt.scatter(df_x2['sepal length (cm)'], df_x2['petal length (cm)'])"
   ]
  },
  {
   "cell_type": "markdown",
   "metadata": {},
   "source": [
    "We can see that there is some correlation between variables, PCA should be helpful to reduce dimensions"
   ]
  },
  {
   "cell_type": "markdown",
   "metadata": {},
   "source": [
    "## PCA"
   ]
  },
  {
   "cell_type": "markdown",
   "metadata": {},
   "source": [
    "#### helpers"
   ]
  },
  {
   "cell_type": "code",
   "execution_count": 83,
   "metadata": {},
   "outputs": [],
   "source": [
    "def normalize(X):\n",
    "    N, D = X.shape\n",
    "    mu = np.mean(X, axis=0)\n",
    "    Xbar = X-mu            \n",
    "    return Xbar, mu"
   ]
  },
  {
   "cell_type": "code",
   "execution_count": 84,
   "metadata": {},
   "outputs": [],
   "source": [
    "def eig(S):\n",
    "    eigvals, eigvecs = np.linalg.eig(S)\n",
    "    sort_indices = np.argsort(eigvals)[::-1]\n",
    "    return eigvals[sort_indices], eigvecs[:, sort_indices]"
   ]
  },
  {
   "cell_type": "code",
   "execution_count": 85,
   "metadata": {},
   "outputs": [],
   "source": [
    "def projection_matrix(B):\n",
    "    return B@(np.linalg.inv(B.T@B))@B.T"
   ]
  },
  {
   "cell_type": "code",
   "execution_count": 86,
   "metadata": {},
   "outputs": [],
   "source": [
    "def variance_explained(eigen_values):\n",
    "    variance_explained = []\n",
    "    for i in eigen_values:\n",
    "         variance_explained.append((i/sum(eigen_values))*100)\n",
    "    return variance_explained"
   ]
  },
  {
   "cell_type": "code",
   "execution_count": 87,
   "metadata": {},
   "outputs": [],
   "source": [
    "def pca(X, num_components):\n",
    "    \"\"\"\n",
    "    Args:\n",
    "        X: ndarray of size (N, D), where D is the dimension of the data,\n",
    "           and N is the number of datapoints\n",
    "        num_components: the number of principal components to use.\n",
    "    Returns:\n",
    "        X_reconstruct: ndarray of the reconstruction\n",
    "        of X from the first `num_components` principal components.\n",
    "    \"\"\"\n",
    "    X_norm, mean = normalize(X)\n",
    "    #covariane matrix, two ways\n",
    "    #S = np.cov(X, rowvar=False, bias=True)\n",
    "    S=X_norm.T@X_norm/X_norm.shape[0]\n",
    "    eig_vals, eig_vecs = eig(S)\n",
    "    variance_exp = variance_explained(eig_vals)\n",
    "    print(f'variance explained {variance_exp}')\n",
    "    principal_vals, principal_components = eig_vals[:num_components], eig_vecs[:,:num_components]\n",
    "    P = projection_matrix(principal_components)\n",
    "    X_reconstruct = (P @ X_norm.T).T\n",
    "    #X_reconstruct+=mean\n",
    "    return X_reconstruct"
   ]
  },
  {
   "cell_type": "markdown",
   "metadata": {},
   "source": [
    "#### do PCA"
   ]
  },
  {
   "cell_type": "code",
   "execution_count": 88,
   "metadata": {},
   "outputs": [
    {
     "name": "stdout",
     "output_type": "stream",
     "text": [
      "variance explained [96.3157902875403, 3.684209712459711]\n"
     ]
    },
    {
     "data": {
      "text/plain": [
       "(150, 2)"
      ]
     },
     "execution_count": 88,
     "metadata": {},
     "output_type": "execute_result"
    }
   ],
   "source": [
    "reconstruct_x2=pca(df_x2, 1)\n",
    "reconstruct_x2.shape"
   ]
  },
  {
   "cell_type": "code",
   "execution_count": 89,
   "metadata": {},
   "outputs": [
    {
     "data": {
      "text/html": [
       "<div>\n",
       "<style scoped>\n",
       "    .dataframe tbody tr th:only-of-type {\n",
       "        vertical-align: middle;\n",
       "    }\n",
       "\n",
       "    .dataframe tbody tr th {\n",
       "        vertical-align: top;\n",
       "    }\n",
       "\n",
       "    .dataframe thead th {\n",
       "        text-align: right;\n",
       "    }\n",
       "</style>\n",
       "<table border=\"1\" class=\"dataframe\">\n",
       "  <thead>\n",
       "    <tr style=\"text-align: right;\">\n",
       "      <th></th>\n",
       "      <th>0</th>\n",
       "      <th>1</th>\n",
       "    </tr>\n",
       "  </thead>\n",
       "  <tbody>\n",
       "    <tr>\n",
       "      <th>0</th>\n",
       "      <td>-0.968365</td>\n",
       "      <td>-2.261649</td>\n",
       "    </tr>\n",
       "    <tr>\n",
       "      <th>1</th>\n",
       "      <td>-0.999350</td>\n",
       "      <td>-2.334015</td>\n",
       "    </tr>\n",
       "    <tr>\n",
       "      <th>2</th>\n",
       "      <td>-1.066519</td>\n",
       "      <td>-2.490890</td>\n",
       "    </tr>\n",
       "    <tr>\n",
       "      <th>3</th>\n",
       "      <td>-1.009645</td>\n",
       "      <td>-2.358058</td>\n",
       "    </tr>\n",
       "    <tr>\n",
       "      <th>4</th>\n",
       "      <td>-0.983858</td>\n",
       "      <td>-2.297832</td>\n",
       "    </tr>\n",
       "  </tbody>\n",
       "</table>\n",
       "</div>"
      ],
      "text/plain": [
       "          0         1\n",
       "0 -0.968365 -2.261649\n",
       "1 -0.999350 -2.334015\n",
       "2 -1.066519 -2.490890\n",
       "3 -1.009645 -2.358058\n",
       "4 -0.983858 -2.297832"
      ]
     },
     "execution_count": 89,
     "metadata": {},
     "output_type": "execute_result"
    }
   ],
   "source": [
    "reconstruct_x2.head()"
   ]
  },
  {
   "cell_type": "code",
   "execution_count": 90,
   "metadata": {},
   "outputs": [
    {
     "data": {
      "text/plain": [
       "<matplotlib.collections.PathCollection at 0x25846cbb4c8>"
      ]
     },
     "execution_count": 90,
     "metadata": {},
     "output_type": "execute_result"
    },
    {
     "data": {
      "image/png": "[encoded data removed]",
      "text/plain": [
       "<Figure size 432x288 with 1 Axes>"
      ]
     },
     "metadata": {
      "needs_background": "light"
     },
     "output_type": "display_data"
    }
   ],
   "source": [
    "plt.scatter(reconstruct_x2[0], reconstruct_x2[1])"
   ]
  },
  {
   "cell_type": "code",
   "execution_count": 91,
   "metadata": {},
   "outputs": [
    {
     "name": "stdout",
     "output_type": "stream",
     "text": [
      "variance explained [92.46187232017272, 5.306648311706787, 1.7102609807929725, 0.5212183873275323]\n"
     ]
    },
    {
     "data": {
      "text/plain": [
       "(150, 4)"
      ]
     },
     "execution_count": 91,
     "metadata": {},
     "output_type": "execute_result"
    }
   ],
   "source": [
    "reconstruct_x=pca(df_x, 1)\n",
    "reconstruct_x.shape"
   ]
  },
  {
   "cell_type": "code",
   "execution_count": 92,
   "metadata": {},
   "outputs": [
    {
     "data": {
      "text/plain": [
       "(150, 4)"
      ]
     },
     "execution_count": 92,
     "metadata": {},
     "output_type": "execute_result"
    }
   ],
   "source": [
    "reconstruct_x.shape"
   ]
  },
  {
   "cell_type": "markdown",
   "metadata": {},
   "source": [
    "## Example from web"
   ]
  },
  {
   "cell_type": "code",
   "execution_count": 93,
   "metadata": {},
   "outputs": [],
   "source": [
    "def pca2(x, num_components):\n",
    "    mean_vec = np.mean(x, axis=0)\n",
    "    x_norm=x-mean_vec\n",
    "    cov_mat = x_norm.T.dot(x_norm) / (x.shape[0]-1)\n",
    "    eig_vals, eig_vecs = eig(cov_mat)\n",
    "    principal_components = eig_vecs[:,:num_components]\n",
    "    \n",
    "    Y = x_norm.dot(principal_components)\n",
    "    return Y"
   ]
  },
  {
   "cell_type": "code",
   "execution_count": 94,
   "metadata": {},
   "outputs": [
    {
     "data": {
      "text/html": [
       "<div>\n",
       "<style scoped>\n",
       "    .dataframe tbody tr th:only-of-type {\n",
       "        vertical-align: middle;\n",
       "    }\n",
       "\n",
       "    .dataframe tbody tr th {\n",
       "        vertical-align: top;\n",
       "    }\n",
       "\n",
       "    .dataframe thead th {\n",
       "        text-align: right;\n",
       "    }\n",
       "</style>\n",
       "<table border=\"1\" class=\"dataframe\">\n",
       "  <thead>\n",
       "    <tr style=\"text-align: right;\">\n",
       "      <th></th>\n",
       "      <th>0</th>\n",
       "    </tr>\n",
       "  </thead>\n",
       "  <tbody>\n",
       "    <tr>\n",
       "      <th>0</th>\n",
       "      <td>-2.684126</td>\n",
       "    </tr>\n",
       "    <tr>\n",
       "      <th>1</th>\n",
       "      <td>-2.714142</td>\n",
       "    </tr>\n",
       "    <tr>\n",
       "      <th>2</th>\n",
       "      <td>-2.888991</td>\n",
       "    </tr>\n",
       "    <tr>\n",
       "      <th>3</th>\n",
       "      <td>-2.745343</td>\n",
       "    </tr>\n",
       "    <tr>\n",
       "      <th>4</th>\n",
       "      <td>-2.728717</td>\n",
       "    </tr>\n",
       "    <tr>\n",
       "      <th>...</th>\n",
       "      <td>...</td>\n",
       "    </tr>\n",
       "    <tr>\n",
       "      <th>145</th>\n",
       "      <td>1.944110</td>\n",
       "    </tr>\n",
       "    <tr>\n",
       "      <th>146</th>\n",
       "      <td>1.527167</td>\n",
       "    </tr>\n",
       "    <tr>\n",
       "      <th>147</th>\n",
       "      <td>1.764346</td>\n",
       "    </tr>\n",
       "    <tr>\n",
       "      <th>148</th>\n",
       "      <td>1.900942</td>\n",
       "    </tr>\n",
       "    <tr>\n",
       "      <th>149</th>\n",
       "      <td>1.390189</td>\n",
       "    </tr>\n",
       "  </tbody>\n",
       "</table>\n",
       "<p>150 rows × 1 columns</p>\n",
       "</div>"
      ],
      "text/plain": [
       "            0\n",
       "0   -2.684126\n",
       "1   -2.714142\n",
       "2   -2.888991\n",
       "3   -2.745343\n",
       "4   -2.728717\n",
       "..        ...\n",
       "145  1.944110\n",
       "146  1.527167\n",
       "147  1.764346\n",
       "148  1.900942\n",
       "149  1.390189\n",
       "\n",
       "[150 rows x 1 columns]"
      ]
     },
     "execution_count": 94,
     "metadata": {},
     "output_type": "execute_result"
    }
   ],
   "source": [
    "pca2(df_x, 1)"
   ]
  },
  {
   "cell_type": "markdown",
   "metadata": {},
   "source": [
    "## Compare to sklearn"
   ]
  },
  {
   "cell_type": "code",
   "execution_count": 95,
   "metadata": {},
   "outputs": [
    {
     "name": "stdout",
     "output_type": "stream",
     "text": [
      "[[ 0.36138659 -0.08452251  0.85667061  0.3582892 ]]\n",
      "[4.22824171]\n"
     ]
    }
   ],
   "source": [
    "pca = PCA(1)\n",
    "# fit on data\n",
    "pca.fit(df_x)\n",
    "# access values and vectors\n",
    "print(pca.components_)\n",
    "print(pca.explained_variance_)\n",
    "# transform data\n",
    "B = pca.transform(df_x)"
   ]
  },
  {
   "cell_type": "code",
   "execution_count": 96,
   "metadata": {},
   "outputs": [
    {
     "data": {
      "text/plain": [
       "array([[-2.684126],\n",
       "       [-2.714142],\n",
       "       [-2.888991],\n",
       "       [-2.745343],\n",
       "       [-2.728717],\n",
       "       [-2.28086 ],\n",
       "       [-2.820538],\n",
       "       [-2.626145],\n",
       "       [-2.886383],\n",
       "       [-2.672756],\n",
       "       [-2.506947],\n",
       "       [-2.612755],\n",
       "       [-2.786109],\n",
       "       [-3.223804],\n",
       "       [-2.64475 ],\n",
       "       [-2.386039],\n",
       "       [-2.623528],\n",
       "       [-2.648297],\n",
       "       [-2.19982 ],\n",
       "       [-2.587986],\n",
       "       [-2.310256],\n",
       "       [-2.543705],\n",
       "       [-3.215939],\n",
       "       [-2.302733],\n",
       "       [-2.355754],\n",
       "       [-2.506669],\n",
       "       [-2.46882 ],\n",
       "       [-2.56232 ],\n",
       "       [-2.639535],\n",
       "       [-2.631989],\n",
       "       [-2.587398],\n",
       "       [-2.409932],\n",
       "       [-2.648862],\n",
       "       [-2.598737],\n",
       "       [-2.636927],\n",
       "       [-2.866242],\n",
       "       [-2.625238],\n",
       "       [-2.800684],\n",
       "       [-2.980502],\n",
       "       [-2.590006],\n",
       "       [-2.770102],\n",
       "       [-2.849369],\n",
       "       [-2.997407],\n",
       "       [-2.405614],\n",
       "       [-2.209489],\n",
       "       [-2.714451],\n",
       "       [-2.538148],\n",
       "       [-2.839462],\n",
       "       [-2.543086],\n",
       "       [-2.70336 ],\n",
       "       [ 1.284826],\n",
       "       [ 0.932489],\n",
       "       [ 1.464302],\n",
       "       [ 0.183318],\n",
       "       [ 1.088103],\n",
       "       [ 0.641669],\n",
       "       [ 1.095061],\n",
       "       [-0.749123],\n",
       "       [ 1.044132],\n",
       "       [-0.008745],\n",
       "       [-0.507841],\n",
       "       [ 0.511699],\n",
       "       [ 0.264977],\n",
       "       [ 0.984935],\n",
       "       [-0.173925],\n",
       "       [ 0.927861],\n",
       "       [ 0.660284],\n",
       "       [ 0.236105],\n",
       "       [ 0.944734],\n",
       "       [ 0.045227],\n",
       "       [ 1.116283],\n",
       "       [ 0.357888],\n",
       "       [ 1.298184],\n",
       "       [ 0.921729],\n",
       "       [ 0.714853],\n",
       "       [ 0.900174],\n",
       "       [ 1.332024],\n",
       "       [ 1.557802],\n",
       "       [ 0.813291],\n",
       "       [-0.305584],\n",
       "       [-0.068126],\n",
       "       [-0.189622],\n",
       "       [ 0.136429],\n",
       "       [ 1.380026],\n",
       "       [ 0.588006],\n",
       "       [ 0.806858],\n",
       "       [ 1.220691],\n",
       "       [ 0.815095],\n",
       "       [ 0.245958],\n",
       "       [ 0.166413],\n",
       "       [ 0.4648  ],\n",
       "       [ 0.890815],\n",
       "       [ 0.230548],\n",
       "       [-0.704532],\n",
       "       [ 0.356981],\n",
       "       [ 0.331934],\n",
       "       [ 0.376216],\n",
       "       [ 0.642576],\n",
       "       [-0.90647 ],\n",
       "       [ 0.299001],\n",
       "       [ 2.531193],\n",
       "       [ 1.415236],\n",
       "       [ 2.616676],\n",
       "       [ 1.971531],\n",
       "       [ 2.350006],\n",
       "       [ 3.397039],\n",
       "       [ 0.521232],\n",
       "       [ 2.932587],\n",
       "       [ 2.321229],\n",
       "       [ 2.916751],\n",
       "       [ 1.661774],\n",
       "       [ 1.803402],\n",
       "       [ 2.165592],\n",
       "       [ 1.346164],\n",
       "       [ 1.585928],\n",
       "       [ 1.904456],\n",
       "       [ 1.949689],\n",
       "       [ 3.487055],\n",
       "       [ 3.795645],\n",
       "       [ 1.300792],\n",
       "       [ 2.427818],\n",
       "       [ 1.199001],\n",
       "       [ 3.49992 ],\n",
       "       [ 1.388766],\n",
       "       [ 2.275431],\n",
       "       [ 2.61409 ],\n",
       "       [ 1.258508],\n",
       "       [ 1.291132],\n",
       "       [ 2.123609],\n",
       "       [ 2.388003],\n",
       "       [ 2.841673],\n",
       "       [ 3.230674],\n",
       "       [ 2.159438],\n",
       "       [ 1.444161],\n",
       "       [ 1.781295],\n",
       "       [ 3.0765  ],\n",
       "       [ 2.144243],\n",
       "       [ 1.905098],\n",
       "       [ 1.169326],\n",
       "       [ 2.107611],\n",
       "       [ 2.314155],\n",
       "       [ 1.922268],\n",
       "       [ 1.415236],\n",
       "       [ 2.563013],\n",
       "       [ 2.418746],\n",
       "       [ 1.94411 ],\n",
       "       [ 1.527167],\n",
       "       [ 1.764346],\n",
       "       [ 1.900942],\n",
       "       [ 1.390189]])"
      ]
     },
     "execution_count": 96,
     "metadata": {},
     "output_type": "execute_result"
    }
   ],
   "source": [
    "B.round(6)"
   ]
  },
  {
   "cell_type": "markdown",
   "metadata": {},
   "source": [
    "## SVD"
   ]
  },
  {
   "cell_type": "code",
   "execution_count": 97,
   "metadata": {},
   "outputs": [],
   "source": [
    "A = np.array([\n",
    "    [1, 2, 2],\n",
    "    [3, 7, 6],\n",
    "    [6, 2, 12],\n",
    "    [3, 1, 6]\n",
    "])"
   ]
  },
  {
   "cell_type": "code",
   "execution_count": 98,
   "metadata": {},
   "outputs": [],
   "source": [
    "U, Sigma, V_transpose = np.linalg.svd(A)"
   ]
  },
  {
   "cell_type": "code",
   "execution_count": 99,
   "metadata": {},
   "outputs": [
    {
     "data": {
      "text/plain": [
       "array([[-0.16, -0.22,  0.96, -0.  ],\n",
       "       [-0.49, -0.83, -0.27,  0.  ],\n",
       "       [-0.76,  0.46, -0.02, -0.45],\n",
       "       [-0.38,  0.23, -0.01,  0.89]])"
      ]
     },
     "execution_count": 99,
     "metadata": {},
     "output_type": "execute_result"
    }
   ],
   "source": [
    "U.round(2)"
   ]
  },
  {
   "cell_type": "code",
   "execution_count": 100,
   "metadata": {},
   "outputs": [
    {
     "data": {
      "text/plain": [
       "array([17.44,  5.36,  0.  ])"
      ]
     },
     "execution_count": 100,
     "metadata": {},
     "output_type": "execute_result"
    }
   ],
   "source": [
    "Sigma.round(2)"
   ]
  },
  {
   "cell_type": "code",
   "execution_count": 101,
   "metadata": {},
   "outputs": [
    {
     "data": {
      "text/plain": [
       "array([[-0.42, -0.33, -0.85],\n",
       "       [ 0.15, -0.95,  0.29],\n",
       "       [-0.89, -0.  ,  0.45]])"
      ]
     },
     "execution_count": 101,
     "metadata": {},
     "output_type": "execute_result"
    }
   ],
   "source": [
    "V_transpose.round(2)"
   ]
  },
  {
   "cell_type": "code",
   "execution_count": 102,
   "metadata": {},
   "outputs": [
    {
     "data": {
      "text/plain": [
       "array([[ 0.16,  0.22,  0.96, -0.06],\n",
       "       [ 0.49,  0.83, -0.27,  0.02],\n",
       "       [ 0.76, -0.46, -0.06,  0.45],\n",
       "       [ 0.38, -0.23,  0.07, -0.89]])"
      ]
     },
     "execution_count": 102,
     "metadata": {},
     "output_type": "execute_result"
    }
   ],
   "source": [
    "eigvals_AAT, eigvecs_AAT = np.linalg.eig(A @ A.T)\n",
    "eigvecs_AAT.round(2)"
   ]
  },
  {
   "cell_type": "code",
   "execution_count": 103,
   "metadata": {},
   "outputs": [
    {
     "data": {
      "text/plain": [
       "array([[ 0.42,  0.33,  0.85],\n",
       "       [ 0.89, -0.  , -0.45],\n",
       "       [ 0.15, -0.95,  0.29]])"
      ]
     },
     "execution_count": 103,
     "metadata": {},
     "output_type": "execute_result"
    }
   ],
   "source": [
    "eigvals_ATA, eigvecs_ATA = np.linalg.eig(A.T @ A)\n",
    "eigvecs_ATA.round(2).T"
   ]
  },
  {
   "cell_type": "code",
   "execution_count": 104,
   "metadata": {},
   "outputs": [
    {
     "data": {
      "text/plain": [
       "array([304.31,  -0.  ,  28.69])"
      ]
     },
     "execution_count": 104,
     "metadata": {},
     "output_type": "execute_result"
    }
   ],
   "source": [
    "eigvals_ATA.round(2)"
   ]
  },
  {
   "cell_type": "code",
   "execution_count": 105,
   "metadata": {},
   "outputs": [
    {
     "data": {
      "text/plain": [
       "array([304.31,  28.69,  -0.  ,  -0.  ])"
      ]
     },
     "execution_count": 105,
     "metadata": {},
     "output_type": "execute_result"
    }
   ],
   "source": [
    "eigvals_AAT.round(2)"
   ]
  },
  {
   "cell_type": "code",
   "execution_count": 106,
   "metadata": {},
   "outputs": [
    {
     "name": "stderr",
     "output_type": "stream",
     "text": [
      "C:\\Users\\risto\\Anaconda3\\lib\\site-packages\\ipykernel_launcher.py:1: RuntimeWarning: invalid value encountered in sqrt\n",
      "  \"\"\"Entry point for launching an IPython kernel.\n"
     ]
    },
    {
     "data": {
      "text/plain": [
       "array([17.44,  5.36,  0.  ,  0.  ])"
      ]
     },
     "execution_count": 106,
     "metadata": {},
     "output_type": "execute_result"
    }
   ],
   "source": [
    "np.nan_to_num(np.sqrt(eigvals_AAT).round(2), 0)"
   ]
  },
  {
   "cell_type": "code",
   "execution_count": 107,
   "metadata": {},
   "outputs": [
    {
     "data": {
      "text/plain": [
       "array([304.31,  28.69,   0.  ])"
      ]
     },
     "execution_count": 107,
     "metadata": {},
     "output_type": "execute_result"
    }
   ],
   "source": [
    "(Sigma**2).round(2)"
   ]
  },
  {
   "cell_type": "code",
   "execution_count": null,
   "metadata": {},
   "outputs": [],
   "source": []
  },
  {
   "cell_type": "code",
   "execution_count": 108,
   "metadata": {},
   "outputs": [],
   "source": [
    "def svd(A):\n",
    "    eigvals_AAT, eigvecs_AAT = np.linalg.eig(A @ A.T)\n",
    "    eigvals_ATA, eigvecs_ATA = np.linalg.eig(A.T @ A)\n",
    "    return eigvecs_AAT.round(2), np.nan_to_num(np.sqrt(eigvals_AAT).round(2), 0), eigvecs_ATA.round(2).T"
   ]
  },
  {
   "cell_type": "code",
   "execution_count": 109,
   "metadata": {},
   "outputs": [
    {
     "name": "stderr",
     "output_type": "stream",
     "text": [
      "C:\\Users\\risto\\Anaconda3\\lib\\site-packages\\ipykernel_launcher.py:4: RuntimeWarning: invalid value encountered in sqrt\n",
      "  after removing the cwd from sys.path.\n"
     ]
    }
   ],
   "source": [
    "U, Sigma, V_transpose = np.linalg.svd(A)\n",
    "U_m, Sigma_m, V_transpose_m = svd(A)"
   ]
  },
  {
   "cell_type": "code",
   "execution_count": 110,
   "metadata": {},
   "outputs": [
    {
     "data": {
      "text/plain": [
       "array([[-0.16, -0.22,  0.96, -0.  ],\n",
       "       [-0.49, -0.83, -0.27,  0.  ],\n",
       "       [-0.76,  0.46, -0.02, -0.45],\n",
       "       [-0.38,  0.23, -0.01,  0.89]])"
      ]
     },
     "execution_count": 110,
     "metadata": {},
     "output_type": "execute_result"
    }
   ],
   "source": [
    "U.round(2)"
   ]
  },
  {
   "cell_type": "code",
   "execution_count": 111,
   "metadata": {},
   "outputs": [
    {
     "data": {
      "text/plain": [
       "array([[ 0.16,  0.22,  0.96, -0.06],\n",
       "       [ 0.49,  0.83, -0.27,  0.02],\n",
       "       [ 0.76, -0.46, -0.06,  0.45],\n",
       "       [ 0.38, -0.23,  0.07, -0.89]])"
      ]
     },
     "execution_count": 111,
     "metadata": {},
     "output_type": "execute_result"
    }
   ],
   "source": [
    "U_m"
   ]
  },
  {
   "cell_type": "code",
   "execution_count": 112,
   "metadata": {},
   "outputs": [
    {
     "data": {
      "text/plain": [
       "array([17.44,  5.36,  0.  ])"
      ]
     },
     "execution_count": 112,
     "metadata": {},
     "output_type": "execute_result"
    }
   ],
   "source": [
    "Sigma.round(2)"
   ]
  },
  {
   "cell_type": "code",
   "execution_count": 113,
   "metadata": {},
   "outputs": [
    {
     "data": {
      "text/plain": [
       "array([17.44,  5.36,  0.  ,  0.  ])"
      ]
     },
     "execution_count": 113,
     "metadata": {},
     "output_type": "execute_result"
    }
   ],
   "source": [
    "Sigma_m"
   ]
  },
  {
   "cell_type": "code",
   "execution_count": 114,
   "metadata": {},
   "outputs": [
    {
     "data": {
      "text/plain": [
       "array([[-0.42, -0.33, -0.85],\n",
       "       [ 0.15, -0.95,  0.29],\n",
       "       [-0.89, -0.  ,  0.45]])"
      ]
     },
     "execution_count": 114,
     "metadata": {},
     "output_type": "execute_result"
    }
   ],
   "source": [
    "V_transpose.round(2)"
   ]
  },
  {
   "cell_type": "code",
   "execution_count": 115,
   "metadata": {},
   "outputs": [
    {
     "data": {
      "text/plain": [
       "array([[ 0.42,  0.33,  0.85],\n",
       "       [ 0.89, -0.  , -0.45],\n",
       "       [ 0.15, -0.95,  0.29]])"
      ]
     },
     "execution_count": 115,
     "metadata": {},
     "output_type": "execute_result"
    }
   ],
   "source": [
    "V_transpose_m.round(2)"
   ]
  },
  {
   "cell_type": "markdown",
   "metadata": {},
   "source": [
    "#### reconstruct"
   ]
  },
  {
   "cell_type": "code",
   "execution_count": 116,
   "metadata": {},
   "outputs": [
    {
     "data": {
      "text/plain": [
       "array([[ 1.,  2.,  2.],\n",
       "       [ 3.,  7.,  6.],\n",
       "       [ 6.,  2., 12.],\n",
       "       [ 3.,  1.,  6.]])"
      ]
     },
     "execution_count": 116,
     "metadata": {},
     "output_type": "execute_result"
    }
   ],
   "source": [
    "Sigma = np.diag(np.append(Sigma, 0))\n",
    "V_transpose = np.vstack([V_transpose, np.array([0, 0, 0])])\n",
    "\n",
    "U[:, :2] @ Sigma[:2, :] @ V_transpose[:, :]"
   ]
  },
  {
   "cell_type": "code",
   "execution_count": 117,
   "metadata": {},
   "outputs": [
    {
     "data": {
      "text/plain": [
       "array([[ 2.221456,  0.920832,  1.8412  ],\n",
       "       [ 7.548584,  2.820048,  5.2618  ],\n",
       "       [ 3.372464,  4.373952, 12.37576 ],\n",
       "       [ 1.686232,  2.186976,  6.18788 ]])"
      ]
     },
     "execution_count": 117,
     "metadata": {},
     "output_type": "execute_result"
    }
   ],
   "source": [
    "Sigma_m_ = np.diag(Sigma_m, 0)\n",
    "V_transpose_m_ = np.vstack([V_transpose_m, np.array([0, 0, 0])])\n",
    "\n",
    "U_m[:, :2] @ Sigma_m_[:2, :] @ V_transpose_m_[:, :]"
   ]
  },
  {
   "cell_type": "code",
   "execution_count": 118,
   "metadata": {},
   "outputs": [
    {
     "data": {
      "text/plain": [
       "array([17.44,  5.36,  0.  ,  0.  ,  0.  ])"
      ]
     },
     "execution_count": 118,
     "metadata": {},
     "output_type": "execute_result"
    }
   ],
   "source": [
    "np.append(Sigma_m, 0)"
   ]
  },
  {
   "cell_type": "markdown",
   "metadata": {},
   "source": [
    "## SVD v2"
   ]
  },
  {
   "cell_type": "code",
   "execution_count": 119,
   "metadata": {},
   "outputs": [
    {
     "data": {
      "text/plain": [
       "array([[ 3,  2,  2],\n",
       "       [ 2,  3, -2]])"
      ]
     },
     "execution_count": 119,
     "metadata": {},
     "output_type": "execute_result"
    }
   ],
   "source": [
    "A = np.array([[3,2,2], [2,3,-2]])\n",
    "A"
   ]
  },
  {
   "cell_type": "code",
   "execution_count": 120,
   "metadata": {},
   "outputs": [
    {
     "name": "stdout",
     "output_type": "stream",
     "text": [
      "[[-1.08578644 -3.91421356 -0.70710678]\n",
      " [-3.91421356 -1.08578644  0.70710678]]\n"
     ]
    }
   ],
   "source": [
    "A = np.array([[3,2,2], [2,3,-2]])\n",
    "V = np.linalg.eig(A.T @ A)[1]\n",
    "U = np.linalg.eig(A @ A.T)[1]\n",
    "S = np.c_[np.diag(np.sqrt(np.linalg.eig(A @ A.T)[0])), [0,0]]\n",
    "print(U @ S @ V.T)"
   ]
  },
  {
   "cell_type": "code",
   "execution_count": 121,
   "metadata": {},
   "outputs": [
    {
     "name": "stdout",
     "output_type": "stream",
     "text": [
      "[[ 3.  2.  2.]\n",
      " [ 2.  3. -2.]]\n"
     ]
    }
   ],
   "source": [
    "X,Y,Z = np.linalg.svd(A)\n",
    "Y = np.c_[np.diag(Y), [0,0]]\n",
    "print(X @ Y @ Z)"
   ]
  },
  {
   "cell_type": "code",
   "execution_count": 122,
   "metadata": {},
   "outputs": [],
   "source": [
    "#some fix, my S and V.T are not aligned\n",
    "evals, evecs = np.linalg.eig(A.T @ A)"
   ]
  },
  {
   "cell_type": "code",
   "execution_count": 123,
   "metadata": {},
   "outputs": [
    {
     "data": {
      "text/plain": [
       "array([5., 3.])"
      ]
     },
     "execution_count": 123,
     "metadata": {},
     "output_type": "execute_result"
    }
   ],
   "source": [
    "np.sqrt(np.linalg.eig(A @ A.T)[0])"
   ]
  },
  {
   "cell_type": "code",
   "execution_count": 124,
   "metadata": {},
   "outputs": [
    {
     "data": {
      "text/plain": [
       "array([[5., 0.],\n",
       "       [0., 3.]])"
      ]
     },
     "execution_count": 124,
     "metadata": {},
     "output_type": "execute_result"
    }
   ],
   "source": [
    "np.diag(np.sqrt(np.linalg.eig(A @ A.T)[0]))"
   ]
  },
  {
   "cell_type": "code",
   "execution_count": 125,
   "metadata": {},
   "outputs": [
    {
     "data": {
      "text/plain": [
       "array([[5., 0., 0.],\n",
       "       [0., 3., 0.]])"
      ]
     },
     "execution_count": 125,
     "metadata": {},
     "output_type": "execute_result"
    }
   ],
   "source": [
    "S=np.c_[np.diag(np.sqrt(np.linalg.eig(A @ A.T)[0])), [0,0]]\n",
    "S"
   ]
  },
  {
   "cell_type": "code",
   "execution_count": 126,
   "metadata": {},
   "outputs": [
    {
     "data": {
      "text/plain": [
       "array([[-0.71, -0.71, -0.  ],\n",
       "       [-0.24,  0.24, -0.94],\n",
       "       [-0.67,  0.67,  0.33]])"
      ]
     },
     "execution_count": 126,
     "metadata": {},
     "output_type": "execute_result"
    }
   ],
   "source": [
    "Z.round(2)"
   ]
  },
  {
   "cell_type": "code",
   "execution_count": 127,
   "metadata": {},
   "outputs": [
    {
     "data": {
      "text/plain": [
       "array([[-0.71, -0.71, -0.  ],\n",
       "       [-0.67,  0.67,  0.33],\n",
       "       [ 0.24, -0.24,  0.94]])"
      ]
     },
     "execution_count": 127,
     "metadata": {},
     "output_type": "execute_result"
    }
   ],
   "source": [
    "V.round(2).T"
   ]
  },
  {
   "cell_type": "code",
   "execution_count": 128,
   "metadata": {},
   "outputs": [
    {
     "data": {
      "text/plain": [
       "array([2.5000000e+01, 5.0324328e-15, 9.0000000e+00])"
      ]
     },
     "execution_count": 128,
     "metadata": {},
     "output_type": "execute_result"
    }
   ],
   "source": [
    "evals"
   ]
  },
  {
   "cell_type": "code",
   "execution_count": 129,
   "metadata": {},
   "outputs": [
    {
     "name": "stdout",
     "output_type": "stream",
     "text": [
      "[[-3. -2. -2.]\n",
      " [-2. -3.  2.]]\n"
     ]
    }
   ],
   "source": [
    "S=np.sqrt(np.diag(evals)).round(5)\n",
    "S=S[~np.all(S == 0, axis=1)]\n",
    "print(U @ S @ V.T)"
   ]
  },
  {
   "cell_type": "code",
   "execution_count": 130,
   "metadata": {},
   "outputs": [
    {
     "name": "stdout",
     "output_type": "stream",
     "text": [
      "[[-3. -2. -2.]\n",
      " [-2. -3.  2.]]\n"
     ]
    }
   ],
   "source": [
    "S = np.array([[5, 0, 0],\n",
    "              [0, 0, 3]])\n",
    "print(U @ S @ V.T)"
   ]
  },
  {
   "cell_type": "code",
   "execution_count": 131,
   "metadata": {},
   "outputs": [],
   "source": [
    "A = np.array([[3,2,2], [2,3,-2]])\n",
    "V = np.linalg.eig(A.T @ A)[1]\n",
    "s, U = np.linalg.eig(A @ A.T)\n",
    "S=np.c_[np.diag(np.sqrt(s)), [0,0]]"
   ]
  },
  {
   "cell_type": "code",
   "execution_count": 132,
   "metadata": {},
   "outputs": [],
   "source": [
    "S = np.array([[5, 0, 0],\n",
    "              [0, 0, 3]])"
   ]
  },
  {
   "cell_type": "code",
   "execution_count": 133,
   "metadata": {},
   "outputs": [
    {
     "name": "stdout",
     "output_type": "stream",
     "text": [
      "[[-3. -2. -2.]\n",
      " [-2. -3.  2.]]\n"
     ]
    }
   ],
   "source": [
    "print(U @ S @ V.T)"
   ]
  },
  {
   "cell_type": "code",
   "execution_count": 134,
   "metadata": {},
   "outputs": [
    {
     "data": {
      "text/plain": [
       "array([[5., 0.],\n",
       "       [0., 3.]])"
      ]
     },
     "execution_count": 134,
     "metadata": {},
     "output_type": "execute_result"
    }
   ],
   "source": [
    "np.diag(np.sqrt(s))"
   ]
  },
  {
   "cell_type": "code",
   "execution_count": 135,
   "metadata": {},
   "outputs": [],
   "source": [
    "def svd(m):\n",
    "    V = np.linalg.eig(m.T @ m)[1]\n",
    "    s, U = np.linalg.eig(m @ m.T)\n",
    "    S=np.c_[np.diag(np.sqrt(s)), [0,0]]\n",
    "    S=np.array([[ 1.05,  0., 0.  ],\n",
    "       [ 0., 0.  , 13.82]])\n",
    "    return V, U, S"
   ]
  },
  {
   "cell_type": "code",
   "execution_count": 136,
   "metadata": {},
   "outputs": [
    {
     "data": {
      "text/plain": [
       "array([[3, 4, 5],\n",
       "       [6, 5, 9]])"
      ]
     },
     "execution_count": 136,
     "metadata": {},
     "output_type": "execute_result"
    }
   ],
   "source": [
    "mat=np.array([[3,4,5],\n",
    "    [6,5,9]])\n",
    "mat"
   ]
  },
  {
   "cell_type": "code",
   "execution_count": 137,
   "metadata": {},
   "outputs": [],
   "source": [
    "V, U, S=svd(mat)"
   ]
  },
  {
   "cell_type": "code",
   "execution_count": 138,
   "metadata": {},
   "outputs": [
    {
     "name": "stdout",
     "output_type": "stream",
     "text": [
      "[[-2.63478731  6.47725309 -1.06121124]\n",
      " [-5.47464365 10.04629348 -3.34246664]]\n"
     ]
    }
   ],
   "source": [
    "print(U @ S @ V.T)"
   ]
  },
  {
   "cell_type": "code",
   "execution_count": 139,
   "metadata": {},
   "outputs": [
    {
     "data": {
      "text/plain": [
       "array([[ 1.05,  0.  ,  0.  ],\n",
       "       [ 0.  ,  0.  , 13.82]])"
      ]
     },
     "execution_count": 139,
     "metadata": {},
     "output_type": "execute_result"
    }
   ],
   "source": [
    "S.round(2)"
   ]
  },
  {
   "cell_type": "code",
   "execution_count": 140,
   "metadata": {},
   "outputs": [
    {
     "data": {
      "text/plain": [
       "array([[-0.48, -0.46, -0.74],\n",
       "       [-0.76, -0.21,  0.62],\n",
       "       [ 0.44, -0.86,  0.25]])"
      ]
     },
     "execution_count": 140,
     "metadata": {},
     "output_type": "execute_result"
    }
   ],
   "source": [
    "V.round(2).T"
   ]
  },
  {
   "cell_type": "code",
   "execution_count": 141,
   "metadata": {},
   "outputs": [
    {
     "data": {
      "text/plain": [
       "array([[-0.86, -0.51],\n",
       "       [ 0.51, -0.86]])"
      ]
     },
     "execution_count": 141,
     "metadata": {},
     "output_type": "execute_result"
    }
   ],
   "source": [
    "U.round(2)"
   ]
  },
  {
   "cell_type": "code",
   "execution_count": 142,
   "metadata": {},
   "outputs": [
    {
     "data": {
      "text/plain": [
       "array([[-0.51, -0.86],\n",
       "       [-0.86,  0.51]])"
      ]
     },
     "execution_count": 142,
     "metadata": {},
     "output_type": "execute_result"
    }
   ],
   "source": [
    "X,Y,Z= np.linalg.svd(mat)\n",
    "X.round(2)"
   ]
  },
  {
   "cell_type": "code",
   "execution_count": 143,
   "metadata": {},
   "outputs": [
    {
     "data": {
      "text/plain": [
       "array([[13.82,  0.  ],\n",
       "       [ 0.  ,  1.05]])"
      ]
     },
     "execution_count": 143,
     "metadata": {},
     "output_type": "execute_result"
    }
   ],
   "source": [
    "np.diag(Y.round(2))"
   ]
  },
  {
   "cell_type": "code",
   "execution_count": 144,
   "metadata": {},
   "outputs": [
    {
     "data": {
      "text/plain": [
       "array([[-0.48, -0.46, -0.74],\n",
       "       [ 0.44, -0.86,  0.25],\n",
       "       [-0.76, -0.21,  0.62]])"
      ]
     },
     "execution_count": 144,
     "metadata": {},
     "output_type": "execute_result"
    }
   ],
   "source": [
    "Z.round(2)"
   ]
  },
  {
   "cell_type": "code",
   "execution_count": 145,
   "metadata": {},
   "outputs": [],
   "source": [
    "def svdP(A, k):\n",
    "    '''Computes the Singular Value Decomposition of the matrix A,\n",
    "    using k singular values, and converging with an eps bound.\n",
    "    Returns a tuple, containing a list of left singular vectors, a list of\n",
    "    singular values, and a list of right singular vectors.\n",
    "    '''\n",
    "    results = np.linalg.eig(np.dot(A.T, A))\n",
    "    right_singulars = [vec for (vec, val) in results]\n",
    "    singular_vals = map(math.sqrt, [val for (vec, val) in results])\n",
    "\n",
    "    left_singulars = []\n",
    "    for i in range(k):\n",
    "        dot_prod = np.dot(A, right_singulars[i])\n",
    "        vec = np.divide(dot_prod, np.linalg.norm(dot_prod))\n",
    "        left_singulars.append(vec)\n",
    "\n",
    "    return (left_singulars, singular_vals, right_singulars)"
   ]
  },
  {
   "cell_type": "code",
   "execution_count": 146,
   "metadata": {},
   "outputs": [
    {
     "data": {
      "text/plain": [
       "(array([ 1.90894678e+02, -2.01441833e-15,  1.10532154e+00]),\n",
       " array([[-0.48437674, -0.75727123,  0.43808613],\n",
       "        [-0.45875206, -0.20652852, -0.86422944],\n",
       "        [-0.74493337,  0.61958555,  0.24736212]]))"
      ]
     },
     "execution_count": 146,
     "metadata": {},
     "output_type": "execute_result"
    }
   ],
   "source": [
    "mat=np.array([[3,4,5],\n",
    "    [6,5,9]])\n",
    "\n",
    "A=mat\n",
    "\n",
    "results = np.linalg.eig(np.dot(A.T, A))\n",
    "results"
   ]
  },
  {
   "cell_type": "code",
   "execution_count": 147,
   "metadata": {},
   "outputs": [
    {
     "data": {
      "text/plain": [
       "array([[-0.48437674, -0.75727123,  0.43808613],\n",
       "       [-0.45875206, -0.20652852, -0.86422944],\n",
       "       [-0.74493337,  0.61958555,  0.24736212]])"
      ]
     },
     "execution_count": 147,
     "metadata": {},
     "output_type": "execute_result"
    }
   ],
   "source": [
    "right_singulars = results[1]\n",
    "right_singulars"
   ]
  },
  {
   "cell_type": "code",
   "execution_count": 148,
   "metadata": {},
   "outputs": [
    {
     "name": "stderr",
     "output_type": "stream",
     "text": [
      "C:\\Users\\risto\\Anaconda3\\lib\\site-packages\\ipykernel_launcher.py:1: RuntimeWarning: invalid value encountered in sqrt\n",
      "  \"\"\"Entry point for launching an IPython kernel.\n"
     ]
    },
    {
     "data": {
      "text/plain": [
       "array([13.81646404,         nan,  1.05134273])"
      ]
     },
     "execution_count": 148,
     "metadata": {},
     "output_type": "execute_result"
    }
   ],
   "source": [
    "singular_vals = np.sqrt(results[0])\n",
    "singular_vals"
   ]
  },
  {
   "cell_type": "code",
   "execution_count": 149,
   "metadata": {},
   "outputs": [
    {
     "data": {
      "text/plain": [
       "array([[3, 4, 5],\n",
       "       [6, 5, 9]])"
      ]
     },
     "execution_count": 149,
     "metadata": {},
     "output_type": "execute_result"
    }
   ],
   "source": [
    "mat"
   ]
  },
  {
   "cell_type": "code",
   "execution_count": 150,
   "metadata": {},
   "outputs": [],
   "source": [
    "k=2\n",
    "left_singulars = []\n",
    "for i in range(k):\n",
    "    dot_prod = np.dot(A, right_singulars[i])\n",
    "    vec = np.divide(dot_prod, np.linalg.norm(dot_prod))\n",
    "    left_singulars.append(vec)\n",
    "\n",
    "left_singulars=np.array(left_singulars)\n",
    "\n",
    "singular_vals=singular_vals[~np.isnan(singular_vals)]\n",
    "singular_vals=np.c_[np.diag(singular_vals), [0,0]]"
   ]
  },
  {
   "cell_type": "code",
   "execution_count": 151,
   "metadata": {},
   "outputs": [
    {
     "data": {
      "text/plain": [
       "array([[13.81646404,  0.        ,  0.        ],\n",
       "       [ 0.        ,  1.05134273,  0.        ]])"
      ]
     },
     "execution_count": 151,
     "metadata": {},
     "output_type": "execute_result"
    }
   ],
   "source": [
    "np.nan_to_num(singular_vals)"
   ]
  },
  {
   "cell_type": "code",
   "execution_count": 152,
   "metadata": {},
   "outputs": [
    {
     "data": {
      "text/plain": [
       "array([[13.81646404,  0.        ,  0.        ],\n",
       "       [ 0.        ,  1.05134273,  0.        ]])"
      ]
     },
     "execution_count": 152,
     "metadata": {},
     "output_type": "execute_result"
    }
   ],
   "source": [
    "singular_vals"
   ]
  },
  {
   "cell_type": "code",
   "execution_count": 153,
   "metadata": {},
   "outputs": [],
   "source": [
    "singular_vals=np.array([[13.81646404,  0.        ,  0.        ],\n",
    "                       [ 0.        ,  0.    , 1.05134273    ]])"
   ]
  },
  {
   "cell_type": "code",
   "execution_count": 154,
   "metadata": {},
   "outputs": [
    {
     "data": {
      "text/plain": [
       "array([[ -6.69237382, -10.46281072,   6.05280127],\n",
       "       [ -0.78318028,   0.65139677,   0.26006237]])"
      ]
     },
     "execution_count": 154,
     "metadata": {},
     "output_type": "execute_result"
    }
   ],
   "source": [
    "singular_vals @ right_singulars"
   ]
  },
  {
   "cell_type": "code",
   "execution_count": 155,
   "metadata": {},
   "outputs": [
    {
     "data": {
      "text/plain": [
       "array([[-0.64022561, -0.76818694],\n",
       "       [-0.49135978, -0.8709567 ]])"
      ]
     },
     "execution_count": 155,
     "metadata": {},
     "output_type": "execute_result"
    }
   ],
   "source": [
    "left_singulars"
   ]
  },
  {
   "cell_type": "code",
   "execution_count": 156,
   "metadata": {},
   "outputs": [
    {
     "name": "stdout",
     "output_type": "stream",
     "text": [
      "[[ 4.88625798  6.1981649  -4.0749349 ]\n",
      " [ 3.97047944  4.57366601 -3.20060617]]\n"
     ]
    }
   ],
   "source": [
    "print(left_singulars @ singular_vals @ right_singulars)"
   ]
  },
  {
   "cell_type": "code",
   "execution_count": 157,
   "metadata": {},
   "outputs": [
    {
     "data": {
      "text/plain": [
       "array([[-0.64, -0.77],\n",
       "       [-0.49, -0.87]])"
      ]
     },
     "execution_count": 157,
     "metadata": {},
     "output_type": "execute_result"
    }
   ],
   "source": [
    "left_singulars.round(2)"
   ]
  },
  {
   "cell_type": "code",
   "execution_count": 158,
   "metadata": {},
   "outputs": [
    {
     "data": {
      "text/plain": [
       "array([[-0.48, -0.76,  0.44],\n",
       "       [-0.46, -0.21, -0.86],\n",
       "       [-0.74,  0.62,  0.25]])"
      ]
     },
     "execution_count": 158,
     "metadata": {},
     "output_type": "execute_result"
    }
   ],
   "source": [
    "right_singulars.round(2)"
   ]
  },
  {
   "cell_type": "code",
   "execution_count": 159,
   "metadata": {},
   "outputs": [
    {
     "data": {
      "text/plain": [
       "array([[13.82,  0.  ,  0.  ],\n",
       "       [ 0.  ,  0.  ,  1.05]])"
      ]
     },
     "execution_count": 159,
     "metadata": {},
     "output_type": "execute_result"
    }
   ],
   "source": [
    "singular_vals.round(2)"
   ]
  },
  {
   "cell_type": "code",
   "execution_count": 160,
   "metadata": {},
   "outputs": [
    {
     "data": {
      "text/plain": [
       "array([[-0.51, -0.86],\n",
       "       [-0.86,  0.51]])"
      ]
     },
     "execution_count": 160,
     "metadata": {},
     "output_type": "execute_result"
    }
   ],
   "source": [
    "X,Y,Z= np.linalg.svd(mat)\n",
    "X.round(2)"
   ]
  },
  {
   "cell_type": "code",
   "execution_count": 161,
   "metadata": {},
   "outputs": [
    {
     "data": {
      "text/plain": [
       "array([13.82,  1.05])"
      ]
     },
     "execution_count": 161,
     "metadata": {},
     "output_type": "execute_result"
    }
   ],
   "source": [
    "Y.round(2)"
   ]
  },
  {
   "cell_type": "code",
   "execution_count": 162,
   "metadata": {},
   "outputs": [
    {
     "data": {
      "text/plain": [
       "array([[-0.48,  0.44, -0.76],\n",
       "       [-0.46, -0.86, -0.21],\n",
       "       [-0.74,  0.25,  0.62]])"
      ]
     },
     "execution_count": 162,
     "metadata": {},
     "output_type": "execute_result"
    }
   ],
   "source": [
    "Z.round(2).T"
   ]
  },
  {
   "cell_type": "code",
   "execution_count": 166,
   "metadata": {},
   "outputs": [
    {
     "data": {
      "text/plain": [
       "array([[-0.48, -0.76,  0.44],\n",
       "       [-0.46, -0.21, -0.86],\n",
       "       [-0.74,  0.62,  0.25]])"
      ]
     },
     "execution_count": 166,
     "metadata": {},
     "output_type": "execute_result"
    }
   ],
   "source": [
    "right_singulars.round(2)"
   ]
  },
  {
   "cell_type": "code",
   "execution_count": 163,
   "metadata": {},
   "outputs": [
    {
     "name": "stdout",
     "output_type": "stream",
     "text": [
      "[[3. 4. 5.]\n",
      " [6. 5. 9.]]\n"
     ]
    }
   ],
   "source": [
    "X,Y,Z = np.linalg.svd(A)\n",
    "Y = np.c_[np.diag(Y), [0,0]]\n",
    "print(X @ Y @ Z)"
   ]
  },
  {
   "cell_type": "code",
   "execution_count": 164,
   "metadata": {},
   "outputs": [
    {
     "data": {
      "text/plain": [
       "array([[ -6.69237382,  -6.3383313 , -10.2923451 ],\n",
       "       [  0.46057867,  -0.90860134,   0.26006237]])"
      ]
     },
     "execution_count": 164,
     "metadata": {},
     "output_type": "execute_result"
    }
   ],
   "source": [
    " Y @ Z"
   ]
  },
  {
   "cell_type": "code",
   "execution_count": 165,
   "metadata": {},
   "outputs": [
    {
     "data": {
      "text/plain": [
       "array([[13.81646404,  0.        ,  0.        ],\n",
       "       [ 0.        ,  1.05134273,  0.        ]])"
      ]
     },
     "execution_count": 165,
     "metadata": {},
     "output_type": "execute_result"
    }
   ],
   "source": [
    "Y"
   ]
  },
  {
   "cell_type": "code",
   "execution_count": 167,
   "metadata": {},
   "outputs": [
    {
     "data": {
      "text/plain": [
       "array([[ -6.69237382, -10.46281072,   6.05280127],\n",
       "       [ -0.78318028,   0.65139677,   0.26006237]])"
      ]
     },
     "execution_count": 167,
     "metadata": {},
     "output_type": "execute_result"
    }
   ],
   "source": [
    "singular_vals=np.array([[13.81646404,  0.        ,  0.        ],\n",
    "                       [ 0.        ,  0.    , 1.05134273    ]])\n",
    "\n",
    "singular_vals @ right_singulars"
   ]
  },
  {
   "cell_type": "code",
   "execution_count": 175,
   "metadata": {},
   "outputs": [],
   "source": [
    "singular_values, left_singulars=np.linalg.eig(A @ A.T)"
   ]
  },
  {
   "cell_type": "code",
   "execution_count": 169,
   "metadata": {},
   "outputs": [
    {
     "data": {
      "text/plain": [
       "array([[-0.51, -0.86],\n",
       "       [-0.86,  0.51]])"
      ]
     },
     "execution_count": 169,
     "metadata": {},
     "output_type": "execute_result"
    }
   ],
   "source": [
    "X.round(2)"
   ]
  },
  {
   "cell_type": "code",
   "execution_count": 172,
   "metadata": {},
   "outputs": [
    {
     "data": {
      "text/plain": [
       "array([[-0.86, -0.51],\n",
       "       [ 0.51, -0.86]])"
      ]
     },
     "execution_count": 172,
     "metadata": {},
     "output_type": "execute_result"
    }
   ],
   "source": [
    "left_singulars.round(2)"
   ]
  },
  {
   "cell_type": "code",
   "execution_count": 187,
   "metadata": {},
   "outputs": [
    {
     "data": {
      "text/plain": [
       "array([[-0.86,  0.51],\n",
       "       [-0.51, -0.86]])"
      ]
     },
     "execution_count": 187,
     "metadata": {},
     "output_type": "execute_result"
    }
   ],
   "source": [
    "left_singulars.round(2).T"
   ]
  },
  {
   "cell_type": "code",
   "execution_count": 176,
   "metadata": {},
   "outputs": [
    {
     "data": {
      "text/plain": [
       "array([ 1.05134273, 13.81646404])"
      ]
     },
     "execution_count": 176,
     "metadata": {},
     "output_type": "execute_result"
    }
   ],
   "source": [
    "np.sqrt(singular_values)"
   ]
  },
  {
   "cell_type": "code",
   "execution_count": 183,
   "metadata": {},
   "outputs": [
    {
     "data": {
      "text/plain": [
       "array([[ -0.50924597,  -0.7961516 ,   0.46057867],\n",
       "       [ -6.3383313 ,  -2.85349383, -11.94059495]])"
      ]
     },
     "execution_count": 183,
     "metadata": {},
     "output_type": "execute_result"
    }
   ],
   "source": [
    "np.c_[np.sqrt(np.diag(singular_values)), [0,0]] @ right_singulars"
   ]
  },
  {
   "cell_type": "code",
   "execution_count": 201,
   "metadata": {},
   "outputs": [
    {
     "data": {
      "text/plain": [
       "array([[ -6.69237382, -10.46281072,   6.05280127],\n",
       "       [ -0.48230564,  -0.21713226,  -0.90860134]])"
      ]
     },
     "execution_count": 201,
     "metadata": {},
     "output_type": "execute_result"
    }
   ],
   "source": [
    "singular_vals=np.array([[13.81646404,  0.        ,  0.        ],\n",
    "                       [ 0.        ,  1.05134273   ,  0.   ]])\n",
    "\n",
    "singular_vals @ right_singulars"
   ]
  },
  {
   "cell_type": "code",
   "execution_count": 202,
   "metadata": {},
   "outputs": [
    {
     "data": {
      "text/plain": [
       "array([[ -6.69237382, -10.46281072,   6.05280127],\n",
       "       [ -0.78318028,   0.65139677,   0.26006237]])"
      ]
     },
     "execution_count": 202,
     "metadata": {},
     "output_type": "execute_result"
    }
   ],
   "source": [
    "singular_vals=np.array([[13.81646404,  0.        ,  0.        ],\n",
    "                       [ 0.        ,  0.    , 1.05134273    ]])\n",
    "\n",
    "singular_vals @ right_singulars"
   ]
  },
  {
   "cell_type": "code",
   "execution_count": 200,
   "metadata": {},
   "outputs": [
    {
     "data": {
      "text/plain": [
       "array([[ -6.69237382,  -6.3383313 , -10.2923451 ],\n",
       "       [  0.46057867,  -0.90860134,   0.26006237]])"
      ]
     },
     "execution_count": 200,
     "metadata": {},
     "output_type": "execute_result"
    }
   ],
   "source": [
    " Y @ Z"
   ]
  },
  {
   "cell_type": "code",
   "execution_count": 197,
   "metadata": {},
   "outputs": [
    {
     "data": {
      "text/plain": [
       "array([1, 0], dtype=int64)"
      ]
     },
     "execution_count": 197,
     "metadata": {},
     "output_type": "execute_result"
    }
   ],
   "source": [
    "sort_index=np.argsort(singular_values)[::-1]\n",
    "sort_index"
   ]
  },
  {
   "cell_type": "code",
   "execution_count": 196,
   "metadata": {},
   "outputs": [
    {
     "data": {
      "text/plain": [
       "array([[ 6.1637425 ,  8.68424693, -5.34716128],\n",
       "       [-2.72204282, -5.87184648,  2.84814007]])"
      ]
     },
     "execution_count": 196,
     "metadata": {},
     "output_type": "execute_result"
    }
   ],
   "source": [
    "left_singulars@singular_vals @ right_singulars"
   ]
  },
  {
   "cell_type": "code",
   "execution_count": 198,
   "metadata": {},
   "outputs": [
    {
     "data": {
      "text/plain": [
       "array([[-0.86, -0.51],\n",
       "       [ 0.51, -0.86]])"
      ]
     },
     "execution_count": 198,
     "metadata": {},
     "output_type": "execute_result"
    }
   ],
   "source": [
    "left_singulars.round(2)"
   ]
  },
  {
   "cell_type": "code",
   "execution_count": 203,
   "metadata": {},
   "outputs": [
    {
     "data": {
      "text/plain": [
       "array([[-0.48437674, -0.45875206, -0.74493337],\n",
       "       [ 0.43808613, -0.86422944,  0.24736212],\n",
       "       [-0.75727123, -0.20652852,  0.61958555]])"
      ]
     },
     "execution_count": 203,
     "metadata": {},
     "output_type": "execute_result"
    }
   ],
   "source": [
    "Z"
   ]
  },
  {
   "cell_type": "code",
   "execution_count": 206,
   "metadata": {},
   "outputs": [
    {
     "data": {
      "text/plain": [
       "array([[-0.48437674, -0.75727123,  0.43808613],\n",
       "       [-0.45875206, -0.20652852, -0.86422944],\n",
       "       [-0.74493337,  0.61958555,  0.24736212]])"
      ]
     },
     "execution_count": 206,
     "metadata": {},
     "output_type": "execute_result"
    }
   ],
   "source": [
    "right_singulars"
   ]
  },
  {
   "cell_type": "code",
   "execution_count": 207,
   "metadata": {},
   "outputs": [],
   "source": [
    "vals, right_singulars = np.linalg.eig(np.dot(A.T, A))"
   ]
  },
  {
   "cell_type": "code",
   "execution_count": 208,
   "metadata": {},
   "outputs": [
    {
     "data": {
      "text/plain": [
       "array([[-0.48437674, -0.75727123,  0.43808613],\n",
       "       [-0.45875206, -0.20652852, -0.86422944],\n",
       "       [-0.74493337,  0.61958555,  0.24736212]])"
      ]
     },
     "execution_count": 208,
     "metadata": {},
     "output_type": "execute_result"
    }
   ],
   "source": [
    "right_singulars"
   ]
  },
  {
   "cell_type": "code",
   "execution_count": 212,
   "metadata": {},
   "outputs": [
    {
     "data": {
      "text/plain": [
       "array([190.89,   1.11,  -0.  ])"
      ]
     },
     "execution_count": 212,
     "metadata": {},
     "output_type": "execute_result"
    }
   ],
   "source": [
    "vals.round(2)#"
   ]
  },
  {
   "cell_type": "code",
   "execution_count": 301,
   "metadata": {},
   "outputs": [],
   "source": [
    "def svd(A):\n",
    "    #calc vals\n",
    "    vals, right_singulars = np.linalg.eig(np.dot(A.T, A))\n",
    "\n",
    "    #order right sinugular values\n",
    "    rigth_order=np.argsort(vals)[::-1]\n",
    "    right_singulars=right_singulars.T\n",
    "    right_singulars_ord=right_singulars[rigth_order]\n",
    "    #right_singulars_ord=right_singulars_ord[rigth_order,...]\n",
    "\n",
    "    #make right values\n",
    "    singular_vals=np.sqrt(vals[vals>0])\n",
    "    singular_vals=np.diag(singular_vals)\n",
    "    singular_vals=np.c_[singular_vals, [0]*singular_vals.shape[0]] \n",
    "    # singular_vals\n",
    "\n",
    "    #make left singular values\n",
    "    left_vals, left_singulars=np.linalg.eig(A @ A.T)\n",
    "    left_singulars=left_singulars[np.argsort(left_vals)[::-1]]\n",
    "    diag=np.diag(left_singulars)[::-1].copy()\n",
    "    np.fill_diagonal(left_singulars, diag)\n",
    "    return left_singulars, singular_vals, right_singulars_ord"
   ]
  },
  {
   "cell_type": "code",
   "execution_count": 302,
   "metadata": {},
   "outputs": [],
   "source": [
    "A = np.array([\n",
    "    [1, 2, 2],\n",
    "    [3, 7, 6],\n",
    "    [6, 2, 12],\n",
    "    [3, 1, 6]\n",
    "])"
   ]
  },
  {
   "cell_type": "code",
   "execution_count": 304,
   "metadata": {},
   "outputs": [],
   "source": [
    "X,Y,Z= np.linalg.svd(A)\n",
    "l, s, r = svd(A)"
   ]
  },
  {
   "cell_type": "code",
   "execution_count": null,
   "metadata": {},
   "outputs": [],
   "source": []
  },
  {
   "cell_type": "code",
   "execution_count": 299,
   "metadata": {},
   "outputs": [
    {
     "data": {
      "text/plain": [
       "array([[-0.51, -0.86],\n",
       "       [-0.86,  0.51]])"
      ]
     },
     "execution_count": 299,
     "metadata": {},
     "output_type": "execute_result"
    }
   ],
   "source": [
    "#calc vals\n",
    "vals, right_singulars = np.linalg.eig(np.dot(A.T, A))\n",
    "\n",
    "#order right sinugular values\n",
    "rigth_order=np.argsort(vals)[::-1]\n",
    "right_singulars=right_singulars.T\n",
    "right_singulars_ord=right_singulars[rigth_order]\n",
    "#right_singulars_ord=right_singulars_ord[rigth_order,...]\n",
    "\n",
    "#make right values\n",
    "singular_vals=np.sqrt(vals[vals>0])\n",
    "singular_vals=np.diag(singular_vals)\n",
    "singular_vals=np.c_[singular_vals, [0]*singular_vals.shape[0]] \n",
    "# singular_vals\n",
    "\n",
    "#make left singular values\n",
    "left_vals, left_singulars=np.linalg.eig(A @ A.T)\n",
    "left_singulars=left_singulars[np.argsort(left_vals)[::-1]]\n",
    "diag=np.diag(left_singulars)[::-1].copy()\n",
    "np.fill_diagonal(left_singulars, diag)\n",
    "left_singulars.round(2)"
   ]
  },
  {
   "cell_type": "code",
   "execution_count": null,
   "metadata": {},
   "outputs": [],
   "source": []
  },
  {
   "cell_type": "code",
   "execution_count": 265,
   "metadata": {},
   "outputs": [
    {
     "data": {
      "text/plain": [
       "array([[13.81646404,  0.        ,  0.        ],\n",
       "       [ 0.        ,  1.05134273,  0.        ]])"
      ]
     },
     "execution_count": 265,
     "metadata": {},
     "output_type": "execute_result"
    }
   ],
   "source": [
    "Y"
   ]
  },
  {
   "cell_type": "code",
   "execution_count": 270,
   "metadata": {},
   "outputs": [
    {
     "data": {
      "text/plain": [
       "array([[ -6.69237382,  -6.3383313 , -10.2923451 ],\n",
       "       [  0.46057867,  -0.90860134,   0.26006237]])"
      ]
     },
     "execution_count": 270,
     "metadata": {},
     "output_type": "execute_result"
    }
   ],
   "source": [
    " Y @ Z"
   ]
  },
  {
   "cell_type": "code",
   "execution_count": 271,
   "metadata": {},
   "outputs": [
    {
     "data": {
      "text/plain": [
       "array([[ -6.69237382,  -6.3383313 , -10.2923451 ],\n",
       "       [  0.46057867,  -0.90860134,   0.26006237]])"
      ]
     },
     "execution_count": 271,
     "metadata": {},
     "output_type": "execute_result"
    }
   ],
   "source": [
    "singular_vals@right_singulars_ord"
   ]
  },
  {
   "cell_type": "code",
   "execution_count": 300,
   "metadata": {},
   "outputs": [
    {
     "data": {
      "text/plain": [
       "array([[3., 4., 5.],\n",
       "       [6., 5., 9.]])"
      ]
     },
     "execution_count": 300,
     "metadata": {},
     "output_type": "execute_result"
    }
   ],
   "source": [
    "left_singulars@singular_vals@right_singulars_ord"
   ]
  },
  {
   "cell_type": "code",
   "execution_count": 276,
   "metadata": {},
   "outputs": [
    {
     "data": {
      "text/plain": [
       "array([[3., 4., 5.],\n",
       "       [6., 5., 9.]])"
      ]
     },
     "execution_count": 276,
     "metadata": {},
     "output_type": "execute_result"
    }
   ],
   "source": [
    "X @Y@Z"
   ]
  },
  {
   "cell_type": "code",
   "execution_count": 277,
   "metadata": {},
   "outputs": [
    {
     "data": {
      "text/plain": [
       "True"
      ]
     },
     "execution_count": 277,
     "metadata": {},
     "output_type": "execute_result"
    }
   ],
   "source": [
    "np.allclose(Z, right_singulars_ord)"
   ]
  },
  {
   "cell_type": "code",
   "execution_count": 278,
   "metadata": {},
   "outputs": [
    {
     "data": {
      "text/plain": [
       "True"
      ]
     },
     "execution_count": 278,
     "metadata": {},
     "output_type": "execute_result"
    }
   ],
   "source": [
    "np.allclose(Y, singular_vals)"
   ]
  },
  {
   "cell_type": "code",
   "execution_count": 283,
   "metadata": {},
   "outputs": [
    {
     "data": {
      "text/plain": [
       "False"
      ]
     },
     "execution_count": 283,
     "metadata": {},
     "output_type": "execute_result"
    }
   ],
   "source": [
    "np.allclose(X, left_singulars)"
   ]
  },
  {
   "cell_type": "code",
   "execution_count": 288,
   "metadata": {},
   "outputs": [
    {
     "data": {
      "text/plain": [
       "array([[-0.50756874, -0.86161126],\n",
       "       [-0.86161126,  0.50756874]])"
      ]
     },
     "execution_count": 288,
     "metadata": {},
     "output_type": "execute_result"
    }
   ],
   "source": [
    "X"
   ]
  },
  {
   "cell_type": "code",
   "execution_count": 289,
   "metadata": {},
   "outputs": [
    {
     "data": {
      "text/plain": [
       "array([[ 0.50756874, -0.86161126],\n",
       "       [-0.86161126, -0.50756874]])"
      ]
     },
     "execution_count": 289,
     "metadata": {},
     "output_type": "execute_result"
    }
   ],
   "source": [
    "left_singulars"
   ]
  },
  {
   "cell_type": "code",
   "execution_count": 291,
   "metadata": {},
   "outputs": [
    {
     "data": {
      "text/plain": [
       "array([[-0.86161126,  0.50756874],\n",
       "       [-0.50756874, -0.86161126]])"
      ]
     },
     "execution_count": 291,
     "metadata": {},
     "output_type": "execute_result"
    }
   ],
   "source": [
    "np.fliplr(left_singulars)"
   ]
  },
  {
   "cell_type": "code",
   "execution_count": 295,
   "metadata": {},
   "outputs": [],
   "source": [
    "diag=np.diag(left_singulars)[::-1]\n",
    "np.fill_diagonal(left_singulars, diag)"
   ]
  },
  {
   "cell_type": "code",
   "execution_count": 296,
   "metadata": {},
   "outputs": [
    {
     "data": {
      "text/plain": [
       "array([[-0.50756874, -0.86161126],\n",
       "       [-0.86161126, -0.50756874]])"
      ]
     },
     "execution_count": 296,
     "metadata": {},
     "output_type": "execute_result"
    }
   ],
   "source": [
    "left_singulars"
   ]
  },
  {
   "cell_type": "code",
   "execution_count": 297,
   "metadata": {},
   "outputs": [
    {
     "data": {
      "text/plain": [
       "array([-0.50756874, -0.50756874])"
      ]
     },
     "execution_count": 297,
     "metadata": {},
     "output_type": "execute_result"
    }
   ],
   "source": [
    "diag"
   ]
  },
  {
   "cell_type": "code",
   "execution_count": null,
   "metadata": {},
   "outputs": [],
   "source": []
  }
 ],
 "metadata": {
  "kernelspec": {
   "display_name": "Python 3",
   "language": "python",
   "name": "python3"
  },
  "language_info": {
   "codemirror_mode": {
    "name": "ipython",
    "version": 3
   },
   "file_extension": ".py",
   "mimetype": "text/x-python",
   "name": "python",
   "nbconvert_exporter": "python",
   "pygments_lexer": "ipython3",
   "version": "3.7.4"
  }
 },
 "nbformat": 4,
 "nbformat_minor": 2
}
