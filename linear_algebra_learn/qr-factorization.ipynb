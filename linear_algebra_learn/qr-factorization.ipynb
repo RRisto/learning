{
 "cells": [
  {
   "cell_type": "code",
   "execution_count": 1,
   "metadata": {},
   "outputs": [],
   "source": [
    "import numpy as np"
   ]
  },
  {
   "cell_type": "markdown",
   "metadata": {},
   "source": [
    "Source is from here: http://mlwiki.org/index.php/Gram-Schmidt_Process#QR_Factorization Approach is similar to the one used in gram-schmidt orthogonization."
   ]
  },
  {
   "cell_type": "code",
   "execution_count": 2,
   "metadata": {},
   "outputs": [],
   "source": [
    "def qr_factorization(A):\n",
    "    m, n = A.shape\n",
    "    Q = np.zeros((m, n))\n",
    "    R = np.zeros((n, n))\n",
    "\n",
    "    for j in range(n):\n",
    "        v = A[:, j]\n",
    "\n",
    "        for i in range(j - 1):\n",
    "            q = Q[:, i]\n",
    "            R[i, j] = q @ v\n",
    "            v = v - R[i, j] * q\n",
    "\n",
    "        norm = np.linalg.norm(v)\n",
    "        Q[:, j] = v / norm\n",
    "        R[j, j] = norm\n",
    "    return Q, R"
   ]
  },
  {
   "cell_type": "markdown",
   "metadata": {},
   "source": [
    "Example usage"
   ]
  },
  {
   "cell_type": "code",
   "execution_count": 3,
   "metadata": {},
   "outputs": [
    {
     "data": {
      "text/plain": [
       "((13, 10), (10, 10))"
      ]
     },
     "execution_count": 3,
     "metadata": {},
     "output_type": "execute_result"
    }
   ],
   "source": [
    "np.random.seed(1)\n",
    "A = np.random.rand(13, 10) * 1000\n",
    "Q, R = qr_factorization(A)\n",
    "Q.shape, R.shape"
   ]
  },
  {
   "cell_type": "code",
   "execution_count": 4,
   "metadata": {},
   "outputs": [
    {
     "data": {
      "text/plain": [
       "array([[ 0.21576639,  0.32534481, -0.13474949, -0.1982346 , -0.11620693,\n",
       "        -0.22758271, -0.01727056,  0.2870567 ,  0.18688782,  0.21318668],\n",
       "       [ 0.21689045,  0.30948914, -0.01652058,  0.33620784, -0.25417341,\n",
       "         0.17596279, -0.27914355,  0.04370379, -0.12986738, -0.1753672 ],\n",
       "       [ 0.41430372,  0.43732913, -0.07644399, -0.1971675 ,  0.20657614,\n",
       "         0.22795572, -0.45210167, -0.78427934, -0.20836739, -0.12401619],\n",
       "       [ 0.05088447,  0.19019925,  0.52572879,  0.3290194 ,  0.15619418,\n",
       "        -0.4036995 , -0.14944031, -0.10087158, -0.42215658, -0.25647463],\n",
       "       [ 0.51163485,  0.33791967, -0.15645436, -0.21683432, -0.36218165,\n",
       "        -0.30264908,  0.26022222, -0.02097441, -0.31506599, -0.67584227],\n",
       "       [ 0.01002043,  0.30660573,  0.11691339,  0.09650501,  0.1820355 ,\n",
       "        -0.23425816,  0.20300451, -0.22624081,  0.32624655,  0.17952661],\n",
       "       [ 0.05294764,  0.18701428,  0.37108034,  0.21778351, -0.24801254,\n",
       "         0.01417317,  0.02014723, -0.17467187,  0.46112221,  0.33540234],\n",
       "       [ 0.46741844,  0.06209241, -0.210991  , -0.01253496,  0.022552  ,\n",
       "        -0.41444032,  0.33825042,  0.15567309,  0.23552137,  0.04024869],\n",
       "       [ 0.4570209 ,  0.28169043,  0.15151504, -0.51242779, -0.31913869,\n",
       "         0.09114355, -0.06078535,  0.27312054, -0.03234888, -0.05011945],\n",
       "       [ 0.05936935,  0.42885034,  0.22476798,  0.25461743, -0.01446519,\n",
       "        -0.31011418,  0.18697246, -0.02132694, -0.38060189, -0.11037376],\n",
       "       [ 0.16900545,  0.2380533 ,  0.41004821, -0.03729894,  0.26429458,\n",
       "        -0.07850938, -0.56195379, -0.06253855,  0.27178331, -0.02175327],\n",
       "       [ 0.08916865,  0.06193931,  0.48708594,  0.47507237, -0.26759379,\n",
       "         0.08205124, -0.15977946, -0.00491432,  0.17611504, -0.38415771],\n",
       "       [ 0.01028594,  0.01183857,  0.01004838,  0.20524175,  0.62046226,\n",
       "         0.5162335 ,  0.30221099,  0.32413758, -0.0444966 , -0.27710393]])"
      ]
     },
     "execution_count": 4,
     "metadata": {},
     "output_type": "execute_result"
    }
   ],
   "source": [
    "Q"
   ]
  },
  {
   "cell_type": "code",
   "execution_count": 5,
   "metadata": {},
   "outputs": [
    {
     "data": {
      "text/plain": [
       "array([[1932.74770646,    0.        , 1073.5214862 , 1694.29308965,\n",
       "         998.04062526, 1489.16011078, 1465.02945759, 1318.94969391,\n",
       "        1226.31343579, 1508.42701128],\n",
       "       [   0.        , 2214.03405123,    0.        ,  468.35978253,\n",
       "         530.64054053,  415.8946801 ,  498.57154768,  549.27252153,\n",
       "         238.27453968,  743.80131529],\n",
       "       [   0.        ,    0.        , 1718.11775471,    0.        ,\n",
       "         626.58458006,  857.42896996,  783.70518891, 1405.32853401,\n",
       "         811.95076732,  841.6251716 ],\n",
       "       [   0.        ,    0.        ,    0.        , 1087.68784575,\n",
       "           0.        ,  221.98725953,  834.51541984,  342.15625888,\n",
       "          87.88034348,  141.04070641],\n",
       "       [   0.        ,    0.        ,    0.        ,    0.        ,\n",
       "        1349.29073083,    0.        ,   10.67641691,  381.76061915,\n",
       "         -18.7529284 ,  865.95061231],\n",
       "       [   0.        ,    0.        ,    0.        ,    0.        ,\n",
       "           0.        ,  899.61853644,    0.        ,  379.15816507,\n",
       "          81.09409607, -241.3003916 ],\n",
       "       [   0.        ,    0.        ,    0.        ,    0.        ,\n",
       "           0.        ,    0.        , 1145.13938304,    0.        ,\n",
       "         333.44442112,   10.274042  ],\n",
       "       [   0.        ,    0.        ,    0.        ,    0.        ,\n",
       "           0.        ,    0.        ,    0.        ,  940.99986422,\n",
       "           0.        ,   11.19033499],\n",
       "       [   0.        ,    0.        ,    0.        ,    0.        ,\n",
       "           0.        ,    0.        ,    0.        ,    0.        ,\n",
       "        1088.96826303,    0.        ],\n",
       "       [   0.        ,    0.        ,    0.        ,    0.        ,\n",
       "           0.        ,    0.        ,    0.        ,    0.        ,\n",
       "           0.        ,  728.95514774]])"
      ]
     },
     "execution_count": 5,
     "metadata": {},
     "output_type": "execute_result"
    }
   ],
   "source": [
    "R"
   ]
  },
  {
   "cell_type": "code",
   "execution_count": 6,
   "metadata": {},
   "outputs": [
    {
     "data": {
      "text/plain": [
       "True"
      ]
     },
     "execution_count": 6,
     "metadata": {},
     "output_type": "execute_result"
    }
   ],
   "source": [
    "np.abs((A - Q @ R).sum()) < 1e-6"
   ]
  },
  {
   "cell_type": "markdown",
   "metadata": {},
   "source": [
    "Second version using Householder Transformation"
   ]
  },
  {
   "cell_type": "code",
   "execution_count": 7,
   "metadata": {},
   "outputs": [],
   "source": [
    "def qr_householder(A):\n",
    "    m, n = A.shape\n",
    "    Q = np.eye(m) # Orthogonal transform so far\n",
    "    R = A.copy() # Transformed matrix so far\n",
    "\n",
    "    for j in range(n):\n",
    "        # Find H = I - beta*u*u' to put zeros below R[j,j]\n",
    "        x = R[j:, j]\n",
    "        normx = np.linalg.norm(x)\n",
    "        rho = -np.sign(x[0])\n",
    "        u1 = x[0] - rho * normx\n",
    "        u = x / u1\n",
    "        u[0] = 1\n",
    "        beta = -rho * u1 / normx\n",
    "\n",
    "        R[j:, :] = R[j:, :] - beta * np.outer(u, u) @ R[j:, :]\n",
    "        Q[:, j:] = Q[:, j:] - beta * Q[:, j:] @ np.outer(u, u)\n",
    "        \n",
    "    return Q, R"
   ]
  },
  {
   "cell_type": "code",
   "execution_count": 8,
   "metadata": {},
   "outputs": [
    {
     "data": {
      "text/plain": [
       "((13, 13), (13, 10))"
      ]
     },
     "execution_count": 8,
     "metadata": {},
     "output_type": "execute_result"
    }
   ],
   "source": [
    "Q_h, R_h = qr_householder(A)\n",
    "Q_h.shape, R_h.shape"
   ]
  },
  {
   "cell_type": "code",
   "execution_count": 9,
   "metadata": {},
   "outputs": [
    {
     "data": {
      "text/plain": [
       "True"
      ]
     },
     "execution_count": 9,
     "metadata": {},
     "output_type": "execute_result"
    }
   ],
   "source": [
    "np.abs((A - Q_h @ R_h).sum()) < 1e-6"
   ]
  },
  {
   "cell_type": "code",
   "execution_count": 10,
   "metadata": {},
   "outputs": [
    {
     "data": {
      "text/plain": [
       "14.0"
      ]
     },
     "execution_count": 10,
     "metadata": {},
     "output_type": "execute_result"
    }
   ],
   "source": [
    "np.sqrt((12*12)+(6*6)+(4*4))"
   ]
  },
  {
   "cell_type": "code",
   "execution_count": 11,
   "metadata": {},
   "outputs": [
    {
     "data": {
      "text/plain": [
       "56"
      ]
     },
     "execution_count": 11,
     "metadata": {},
     "output_type": "execute_result"
    }
   ],
   "source": [
    "((2*2)+(6*6)+(4*4))"
   ]
  },
  {
   "cell_type": "code",
   "execution_count": 12,
   "metadata": {},
   "outputs": [
    {
     "data": {
      "text/plain": [
       "14"
      ]
     },
     "execution_count": 12,
     "metadata": {},
     "output_type": "execute_result"
    }
   ],
   "source": [
    "(1)+(3*3)+(2*2)"
   ]
  },
  {
   "cell_type": "code",
   "execution_count": null,
   "metadata": {},
   "outputs": [],
   "source": []
  }
 ],
 "metadata": {
  "kernelspec": {
   "display_name": "Python 3",
   "language": "python",
   "name": "python3"
  },
  "language_info": {
   "codemirror_mode": {
    "name": "ipython",
    "version": 3
   },
   "file_extension": ".py",
   "mimetype": "text/x-python",
   "name": "python",
   "nbconvert_exporter": "python",
   "pygments_lexer": "ipython3",
   "version": "3.7.4"
  }
 },
 "nbformat": 4,
 "nbformat_minor": 2
}
