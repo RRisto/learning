{
 "cells": [
  {
   "cell_type": "code",
   "execution_count": 2,
   "metadata": {},
   "outputs": [],
   "source": [
    "import numpy as np"
   ]
  },
  {
   "cell_type": "markdown",
   "metadata": {},
   "source": [
    "Source is from here: http://mlwiki.org/index.php/Gram-Schmidt_Process#QR_Factorization Approach is similar to the one used in gram-schmidt orthogonization."
   ]
  },
  {
   "cell_type": "code",
   "execution_count": 3,
   "metadata": {},
   "outputs": [],
   "source": [
    "def qr_factorization(A):\n",
    "    m, n = A.shape\n",
    "    Q = np.zeros((m, n))\n",
    "    R = np.zeros((n, n))\n",
    "\n",
    "    for j in range(n):\n",
    "        v = A[:, j]\n",
    "\n",
    "        for i in range(j - 1):\n",
    "            q = Q[:, i]\n",
    "            R[i, j] = q @ v\n",
    "            v = v - R[i, j] * q\n",
    "\n",
    "        norm = np.linalg.norm(v)\n",
    "        Q[:, j] = v / norm\n",
    "        R[j, j] = norm\n",
    "    return Q, R"
   ]
  },
  {
   "cell_type": "markdown",
   "metadata": {},
   "source": [
    "Example usage"
   ]
  },
  {
   "cell_type": "code",
   "execution_count": 4,
   "metadata": {},
   "outputs": [
    {
     "data": {
      "text/plain": [
       "((3, 3), (3, 3))"
      ]
     },
     "execution_count": 4,
     "metadata": {},
     "output_type": "execute_result"
    }
   ],
   "source": [
    "np.random.seed(1)\n",
    "# A = np.random.rand(13, 10) * 1000\n",
    "A = np.array([[60, 91, 26], [60, 3, 75], [45, 90, 31]], dtype='float')\n",
    "Q, R = qr_factorization(A)\n",
    "Q.shape, R.shape"
   ]
  },
  {
   "cell_type": "code",
   "execution_count": 5,
   "metadata": {},
   "outputs": [
    {
     "data": {
      "text/plain": [
       "array([[ 0.62469505,  0.71080736, -0.63928383],\n",
       "       [ 0.62469505,  0.02343321,  0.75368929],\n",
       "       [ 0.46852129,  0.70299629, -0.15254061]])"
      ]
     },
     "execution_count": 5,
     "metadata": {},
     "output_type": "execute_result"
    }
   ],
   "source": [
    "Q"
   ]
  },
  {
   "cell_type": "code",
   "execution_count": 6,
   "metadata": {},
   "outputs": [
    {
     "data": {
      "text/plain": [
       "array([[ 96.04686356,   0.        ,  77.61835966],\n",
       "       [  0.        , 128.02343535,   0.        ],\n",
       "       [  0.        ,   0.        ,  35.17655816]])"
      ]
     },
     "execution_count": 6,
     "metadata": {},
     "output_type": "execute_result"
    }
   ],
   "source": [
    "R"
   ]
  },
  {
   "cell_type": "code",
   "execution_count": 7,
   "metadata": {},
   "outputs": [
    {
     "data": {
      "text/plain": [
       "True"
      ]
     },
     "execution_count": 7,
     "metadata": {},
     "output_type": "execute_result"
    }
   ],
   "source": [
    "np.allclose(A, Q@R)"
   ]
  },
  {
   "cell_type": "code",
   "execution_count": 8,
   "metadata": {},
   "outputs": [
    {
     "data": {
      "text/plain": [
       "False"
      ]
     },
     "execution_count": 8,
     "metadata": {},
     "output_type": "execute_result"
    }
   ],
   "source": [
    "np.allclose(np.abs((Q, R)), np.abs(np.linalg.qr(A)))"
   ]
  },
  {
   "cell_type": "code",
   "execution_count": 9,
   "metadata": {},
   "outputs": [
    {
     "data": {
      "text/plain": [
       "(array([[-0.62469505,  0.35495981, -0.69552831],\n",
       "        [-0.62469505, -0.76160078,  0.17239591],\n",
       "        [-0.46852129,  0.54218796,  0.69750987]]),\n",
       " array([[ -96.04686356, -100.88825018,  -77.61835966],\n",
       "        [   0.        ,   78.81345682,  -31.08327672],\n",
       "        [   0.        ,    0.        ,   16.46876292]]))"
      ]
     },
     "execution_count": 9,
     "metadata": {},
     "output_type": "execute_result"
    }
   ],
   "source": [
    "np.linalg.qr(A)"
   ]
  },
  {
   "cell_type": "code",
   "execution_count": 10,
   "metadata": {},
   "outputs": [
    {
     "data": {
      "text/plain": [
       "True"
      ]
     },
     "execution_count": 10,
     "metadata": {},
     "output_type": "execute_result"
    }
   ],
   "source": [
    "np.abs((A - Q @ R).sum()) < 1e-6"
   ]
  },
  {
   "cell_type": "markdown",
   "metadata": {},
   "source": [
    "Second version using Householder Transformation"
   ]
  },
  {
   "cell_type": "code",
   "execution_count": 11,
   "metadata": {},
   "outputs": [],
   "source": [
    "def qr_householder(A):\n",
    "    m, n = A.shape\n",
    "    Q = np.eye(m) # Orthogonal transform so far\n",
    "    R = A.copy() # Transformed matrix so far\n",
    "\n",
    "    for j in range(n):\n",
    "        # Find H = I - beta*u*u' to put zeros below R[j,j]\n",
    "        x = R[j:, j]\n",
    "        normx = np.linalg.norm(x)\n",
    "        rho = -np.sign(x[0])\n",
    "        u1 = x[0] - rho * normx\n",
    "        u = x / u1\n",
    "        u[0] = 1\n",
    "        beta = -rho * u1 / normx\n",
    "\n",
    "        R[j:, :] = R[j:, :] - beta * np.outer(u, u) @ R[j:, :]\n",
    "        Q[:, j:] = Q[:, j:] - beta * Q[:, j:] @ np.outer(u, u)\n",
    "        \n",
    "    return Q, R"
   ]
  },
  {
   "cell_type": "code",
   "execution_count": 12,
   "metadata": {},
   "outputs": [
    {
     "data": {
      "text/plain": [
       "((3, 3), (3, 3))"
      ]
     },
     "execution_count": 12,
     "metadata": {},
     "output_type": "execute_result"
    }
   ],
   "source": [
    "Q_h, R_h = qr_householder(A)\n",
    "Q_h.shape, R_h.shape"
   ]
  },
  {
   "cell_type": "code",
   "execution_count": 13,
   "metadata": {},
   "outputs": [
    {
     "data": {
      "text/plain": [
       "True"
      ]
     },
     "execution_count": 13,
     "metadata": {},
     "output_type": "execute_result"
    }
   ],
   "source": [
    "np.abs((A - Q_h @ R_h).sum()) < 1e-6"
   ]
  },
  {
   "cell_type": "code",
   "execution_count": 14,
   "metadata": {},
   "outputs": [
    {
     "data": {
      "text/plain": [
       "14.0"
      ]
     },
     "execution_count": 14,
     "metadata": {},
     "output_type": "execute_result"
    }
   ],
   "source": [
    "np.sqrt((12*12)+(6*6)+(4*4))"
   ]
  },
  {
   "cell_type": "code",
   "execution_count": 15,
   "metadata": {},
   "outputs": [
    {
     "data": {
      "text/plain": [
       "56"
      ]
     },
     "execution_count": 15,
     "metadata": {},
     "output_type": "execute_result"
    }
   ],
   "source": [
    "((2*2)+(6*6)+(4*4))"
   ]
  },
  {
   "cell_type": "code",
   "execution_count": 16,
   "metadata": {},
   "outputs": [
    {
     "data": {
      "text/plain": [
       "14"
      ]
     },
     "execution_count": 16,
     "metadata": {},
     "output_type": "execute_result"
    }
   ],
   "source": [
    "(1)+(3*3)+(2*2)"
   ]
  },
  {
   "cell_type": "code",
   "execution_count": 17,
   "metadata": {},
   "outputs": [
    {
     "data": {
      "text/plain": [
       "array([[-0.62469505,  0.35495981,  0.69552831],\n",
       "       [-0.62469505, -0.76160078, -0.17239591],\n",
       "       [-0.46852129,  0.54218796, -0.69750987]])"
      ]
     },
     "execution_count": 17,
     "metadata": {},
     "output_type": "execute_result"
    }
   ],
   "source": [
    "Q_h"
   ]
  },
  {
   "cell_type": "code",
   "execution_count": 18,
   "metadata": {},
   "outputs": [
    {
     "data": {
      "text/plain": [
       "array([[ -96.04686356, -100.88825018,  -77.61835966],\n",
       "       [   0.        ,   78.81345682,  -31.08327672],\n",
       "       [   0.        ,    0.        ,  -16.46876292]])"
      ]
     },
     "execution_count": 18,
     "metadata": {},
     "output_type": "execute_result"
    }
   ],
   "source": [
    "R_h"
   ]
  },
  {
   "cell_type": "code",
   "execution_count": 19,
   "metadata": {},
   "outputs": [],
   "source": [
    "import numpy as np\n",
    "from typing import Union\n",
    "#source https://stackoverflow.com/questions/53489237/how-can-you-implement-householder-based-qr-decomposition-in-python\n",
    "\n",
    "def householder(x: np.ndarray) -> Union[np.ndarray, int]:\n",
    "    alpha = x[0]\n",
    "    s = np.power(np.linalg.norm(x[1:]), 2)\n",
    "    v = x.copy()\n",
    "\n",
    "    if s == 0:\n",
    "        tau = 0\n",
    "    else:\n",
    "        t = np.sqrt(alpha**2 + s)\n",
    "        v[0] = alpha - t if alpha <= 0 else -s / (alpha + t)\n",
    "\n",
    "        tau = 2 * v[0]**2 / (s + v[0]**2)\n",
    "        v /= v[0]\n",
    "\n",
    "    return v, tau\n",
    "\n",
    "def householder_vectorized(a):\n",
    "    \"\"\"Use this version of householder to reproduce the output of np.linalg.qr \n",
    "    exactly (specifically, to match the sign convention it uses)\n",
    "\n",
    "    based on https://rosettacode.org/wiki/QR_decomposition#Python\n",
    "    \"\"\"\n",
    "    v = a / (a[0] + np.copysign(np.linalg.norm(a), a[0]))\n",
    "    v[0] = 1\n",
    "    tau = 2 / (v.T @ v)\n",
    "\n",
    "    return v,tau\n",
    "\n",
    "def qr_decomposition(A: np.ndarray):\n",
    "    m,n = A.shape\n",
    "    R = A.copy()\n",
    "    Q = np.identity(m)\n",
    "\n",
    "    for j in range(0, n):\n",
    "        # Apply Householder transformation.\n",
    "        v, tau = householder(R[j:, j])\n",
    "        print(v)\n",
    "        H = np.identity(m)\n",
    "        H[j:, j:] -= tau * v.reshape(-1, 1) @ v\n",
    "        R = H @ R\n",
    "        Q = H @ Q\n",
    "\n",
    "    return Q[:n].T, R[:n]"
   ]
  },
  {
   "cell_type": "code",
   "execution_count": 20,
   "metadata": {},
   "outputs": [
    {
     "data": {
      "text/plain": [
       "array([[60., 91., 26.],\n",
       "       [60.,  3., 75.],\n",
       "       [45., 90., 31.]])"
      ]
     },
     "execution_count": 20,
     "metadata": {},
     "output_type": "execute_result"
    }
   ],
   "source": [
    "A"
   ]
  },
  {
   "cell_type": "code",
   "execution_count": 21,
   "metadata": {},
   "outputs": [],
   "source": [
    "# qr_decomposition(A)"
   ]
  },
  {
   "cell_type": "code",
   "execution_count": 22,
   "metadata": {},
   "outputs": [],
   "source": [
    "m = 5\n",
    "n = 4\n",
    "A = np.random.rand(m, n)\n",
    "q, r = np.linalg.qr(A)\n",
    "# Q, R = qr_decomposition(A)"
   ]
  },
  {
   "cell_type": "code",
   "execution_count": 83,
   "metadata": {},
   "outputs": [],
   "source": [
    "import numpy as np\n",
    "#https://rosettacode.org/wiki/QR_decomposition#Python\n",
    "def qr(A):\n",
    "    m, n = A.shape\n",
    "    Q = np.eye(m)\n",
    "    for i in range(n - (m == n)):\n",
    "        H = np.eye(m)\n",
    "        H[i:, i:] = make_householder(A[i:, i])\n",
    "        Q = Q@H\n",
    "        A = H@A\n",
    "    return Q, A\n",
    " \n",
    "def make_householder(a):\n",
    "    u = a / (a[0] + np.copysign(np.linalg.norm(a), a[0]))\n",
    "    u[0] = 1\n",
    "    H = np.eye(a.shape[0])\n",
    "    H -= (2 / np.dot(u, u)) * u[:, None] @ u[None, :]\n",
    "    return H\n",
    " \n",
    "# task 1: show qr decomp of wp example\n",
    "a = np.array(((\n",
    "    (12, -51,   4),\n",
    "    ( 6, 167, -68),\n",
    "    (-4,  24, -41),\n",
    ")))\n",
    " \n",
    "q, r = qr(a)"
   ]
  },
  {
   "cell_type": "code",
   "execution_count": 67,
   "metadata": {},
   "outputs": [
    {
     "data": {
      "text/plain": [
       "array([[ 0.9949,  0.0687, -0.0745],\n",
       "       [ 0.0695,  0.0732,  0.9949],\n",
       "       [ 0.0738, -0.995 ,  0.068 ]])"
      ]
     },
     "execution_count": 67,
     "metadata": {},
     "output_type": "execute_result"
    }
   ],
   "source": [
    "q.round(4)"
   ]
  },
  {
   "cell_type": "code",
   "execution_count": 68,
   "metadata": {},
   "outputs": [
    {
     "data": {
      "text/plain": [
       "array([[ 12.06  , -37.3672,  -3.7679],\n",
       "       [  5.2426, -15.1617,  36.0926],\n",
       "       [  4.8032, 171.5804, -70.7399]])"
      ]
     },
     "execution_count": 68,
     "metadata": {},
     "output_type": "execute_result"
    }
   ],
   "source": [
    "r.round(4)"
   ]
  },
  {
   "cell_type": "code",
   "execution_count": 69,
   "metadata": {},
   "outputs": [
    {
     "data": {
      "text/plain": [
       "(array([[-0.85714286,  0.39428571,  0.33142857],\n",
       "        [-0.42857143, -0.90285714, -0.03428571],\n",
       "        [ 0.28571429, -0.17142857,  0.94285714]]),\n",
       " array([[ -14.,  -21.,   14.],\n",
       "        [   0., -175.,   70.],\n",
       "        [   0.,    0.,  -35.]]))"
      ]
     },
     "execution_count": 69,
     "metadata": {},
     "output_type": "execute_result"
    }
   ],
   "source": [
    "np.linalg.qr(a)"
   ]
  },
  {
   "cell_type": "code",
   "execution_count": 84,
   "metadata": {},
   "outputs": [],
   "source": [
    "A = np.array([[60, 91, 26], [60, 3, 75], [45, 90, 31]], dtype='float')"
   ]
  },
  {
   "cell_type": "code",
   "execution_count": 93,
   "metadata": {},
   "outputs": [],
   "source": [
    "Q, R = qr(A)"
   ]
  },
  {
   "cell_type": "code",
   "execution_count": 94,
   "metadata": {},
   "outputs": [
    {
     "data": {
      "text/plain": [
       "array([[-0.625,  0.355, -0.696],\n",
       "       [-0.625, -0.762,  0.172],\n",
       "       [-0.469,  0.542,  0.698]])"
      ]
     },
     "execution_count": 94,
     "metadata": {},
     "output_type": "execute_result"
    }
   ],
   "source": [
    "Q.round(3)"
   ]
  },
  {
   "cell_type": "code",
   "execution_count": 98,
   "metadata": {},
   "outputs": [
    {
     "data": {
      "text/plain": [
       "array([[ -96.047, -100.888,  -77.618],\n",
       "       [  -0.   ,   78.813,  -31.083],\n",
       "       [   0.   ,    0.   ,   16.469]])"
      ]
     },
     "execution_count": 98,
     "metadata": {},
     "output_type": "execute_result"
    }
   ],
   "source": [
    "R.round(3)"
   ]
  },
  {
   "cell_type": "code",
   "execution_count": 99,
   "metadata": {},
   "outputs": [],
   "source": [
    "Q_np, R_np=np.linalg.qr(A)"
   ]
  },
  {
   "cell_type": "code",
   "execution_count": 101,
   "metadata": {},
   "outputs": [
    {
     "data": {
      "text/plain": [
       "True"
      ]
     },
     "execution_count": 101,
     "metadata": {},
     "output_type": "execute_result"
    }
   ],
   "source": [
    "np.allclose(Q, Q_np)"
   ]
  },
  {
   "cell_type": "code",
   "execution_count": 102,
   "metadata": {},
   "outputs": [
    {
     "data": {
      "text/plain": [
       "True"
      ]
     },
     "execution_count": 102,
     "metadata": {},
     "output_type": "execute_result"
    }
   ],
   "source": [
    "np.allclose(R, R_np)"
   ]
  },
  {
   "cell_type": "markdown",
   "metadata": {},
   "source": [
    "## Solve linear equations"
   ]
  },
  {
   "cell_type": "code",
   "execution_count": 103,
   "metadata": {},
   "outputs": [],
   "source": [
    "A = np.array([\n",
    "[2., 1., 1.],\n",
    "[1., 3., 2.],\n",
    "[1., 0., 0]])\n",
    "B = np.array([4., 5., 6.])"
   ]
  },
  {
   "cell_type": "code",
   "execution_count": 104,
   "metadata": {},
   "outputs": [
    {
     "data": {
      "text/plain": [
       "array([[2., 1., 1.],\n",
       "       [1., 3., 2.],\n",
       "       [1., 0., 0.]])"
      ]
     },
     "execution_count": 104,
     "metadata": {},
     "output_type": "execute_result"
    }
   ],
   "source": [
    "A"
   ]
  },
  {
   "cell_type": "code",
   "execution_count": 105,
   "metadata": {},
   "outputs": [
    {
     "data": {
      "text/plain": [
       "array([4., 5., 6.])"
      ]
     },
     "execution_count": 105,
     "metadata": {},
     "output_type": "execute_result"
    }
   ],
   "source": [
    "B"
   ]
  },
  {
   "cell_type": "code",
   "execution_count": 107,
   "metadata": {},
   "outputs": [],
   "source": [
    "Q, R = np.linalg.qr(A) # QR decomposition with qr function\n",
    "y = np.dot(Q.T, B) # Let y=Q'.B using matrix multiplication"
   ]
  },
  {
   "cell_type": "code",
   "execution_count": 108,
   "metadata": {},
   "outputs": [
    {
     "data": {
      "text/plain": [
       "array([[-2.44948974, -2.04124145, -1.63299316],\n",
       "       [ 0.        , -2.41522946, -1.51814423],\n",
       "       [ 0.        ,  0.        , -0.16903085]])"
      ]
     },
     "execution_count": 108,
     "metadata": {},
     "output_type": "execute_result"
    }
   ],
   "source": [
    "R"
   ]
  },
  {
   "cell_type": "code",
   "execution_count": 109,
   "metadata": {},
   "outputs": [
    {
     "data": {
      "text/plain": [
       "array([-7.75671752, -1.31112456,  3.88770957])"
      ]
     },
     "execution_count": 109,
     "metadata": {},
     "output_type": "execute_result"
    }
   ],
   "source": [
    "y"
   ]
  },
  {
   "cell_type": "code",
   "execution_count": 110,
   "metadata": {},
   "outputs": [],
   "source": [
    "def back_substitution(U, y):\n",
    "    \n",
    "    #Number of rows\n",
    "    n = U.shape[0]\n",
    "    \n",
    "    #Allocating space for the solution vector\n",
    "    x = np.zeros_like(y, dtype=np.double);\n",
    "\n",
    "    #Here we perform the back-substitution.  \n",
    "    #Initializing with the last row.\n",
    "    x[-1] = y[-1] / U[-1, -1]\n",
    "    \n",
    "    #Looping over rows in reverse (from the bottom up), \n",
    "    #starting with the second to last row, because the \n",
    "    #last row solve was completed in the last step.\n",
    "    for i in range(n-2, -1, -1):\n",
    "        x[i] = (y[i] - np.dot(U[i,i:], x[i:])) / U[i,i]\n",
    "        \n",
    "    return x"
   ]
  },
  {
   "cell_type": "code",
   "execution_count": 111,
   "metadata": {},
   "outputs": [
    {
     "data": {
      "text/plain": [
       "array([  6.,  15., -23.])"
      ]
     },
     "execution_count": 111,
     "metadata": {},
     "output_type": "execute_result"
    }
   ],
   "source": [
    "back_substitution(R, y)"
   ]
  },
  {
   "cell_type": "code",
   "execution_count": 114,
   "metadata": {},
   "outputs": [
    {
     "data": {
      "text/plain": [
       "array([  6.,  15., -23.])"
      ]
     },
     "execution_count": 114,
     "metadata": {},
     "output_type": "execute_result"
    }
   ],
   "source": [
    "np.linalg.solve(R, y)"
   ]
  },
  {
   "cell_type": "markdown",
   "metadata": {},
   "source": [
    "## Finding eigevalues"
   ]
  },
  {
   "cell_type": "code",
   "execution_count": 145,
   "metadata": {},
   "outputs": [
    {
     "data": {
      "text/plain": [
       "array([[2., 1., 1.],\n",
       "       [1., 3., 2.],\n",
       "       [1., 0., 0.]])"
      ]
     },
     "execution_count": 145,
     "metadata": {},
     "output_type": "execute_result"
    }
   ],
   "source": [
    "A = np.array([\n",
    "[2., 1., 1.],\n",
    "[1., 3., 2.],\n",
    "[1., 0., 0]])\n",
    "A"
   ]
  },
  {
   "cell_type": "code",
   "execution_count": 158,
   "metadata": {},
   "outputs": [],
   "source": [
    "def find_eig_qr(A):\n",
    "    pQ = np.eye(A.shape[0])\n",
    "    X=A.copy()\n",
    "    for i in range(100):\n",
    "            Q,R = np.linalg.qr(X)\n",
    "            pQ = pQ @ Q;\n",
    "            X = R @ Q;\n",
    "    return np.diag(X), pQ"
   ]
  },
  {
   "cell_type": "code",
   "execution_count": 159,
   "metadata": {},
   "outputs": [
    {
     "data": {
      "text/plain": [
       "(array([ 3.91222918,  1.28646207, -0.19869124]),\n",
       " array([[ 0.51233387, -0.72297297, -0.46349121],\n",
       "        [ 0.84874276,  0.50856627,  0.14490026],\n",
       "        [ 0.13095702, -0.46762212,  0.87417379]]))"
      ]
     },
     "execution_count": 159,
     "metadata": {},
     "output_type": "execute_result"
    }
   ],
   "source": [
    "find_eig_qr(A)"
   ]
  },
  {
   "cell_type": "code",
   "execution_count": 156,
   "metadata": {},
   "outputs": [
    {
     "data": {
      "text/plain": [
       "(array([ 3.91222918,  1.28646207, -0.19869124]),\n",
       " array([[-0.51233387, -0.51118241, -0.17058945],\n",
       "        [-0.84874276,  0.76210326, -0.48349198],\n",
       "        [-0.13095702, -0.39735522,  0.85856551]]))"
      ]
     },
     "execution_count": 156,
     "metadata": {},
     "output_type": "execute_result"
    }
   ],
   "source": [
    "np.linalg.eig(A)"
   ]
  },
  {
   "cell_type": "code",
   "execution_count": null,
   "metadata": {},
   "outputs": [],
   "source": []
  }
 ],
 "metadata": {
  "kernelspec": {
   "display_name": "Python 3",
   "language": "python",
   "name": "python3"
  },
  "language_info": {
   "codemirror_mode": {
    "name": "ipython",
    "version": 3
   },
   "file_extension": ".py",
   "mimetype": "text/x-python",
   "name": "python",
   "nbconvert_exporter": "python",
   "pygments_lexer": "ipython3",
   "version": "3.7.4"
  }
 },
 "nbformat": 4,
 "nbformat_minor": 2
}
