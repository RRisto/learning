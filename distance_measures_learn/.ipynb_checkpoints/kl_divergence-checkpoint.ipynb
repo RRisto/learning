{
 "cells": [
  {
   "cell_type": "code",
   "execution_count": 1,
   "id": "422341cb",
   "metadata": {},
   "outputs": [],
   "source": [
    "import numpy as np\n",
    "from scipy.stats import entropy\n",
    "from scipy.stats import norm\n",
    "from scipy.special import rel_entr\n",
    "from matplotlib import pyplot as plt\n",
    "import seaborn as sns\n",
    "sns.set()"
   ]
  },
  {
   "cell_type": "markdown",
   "id": "f5ad12c9",
   "metadata": {},
   "source": [
    "## Source: https://towardsdatascience.com/kl-divergence-python-example-b87069e4b810"
   ]
  },
  {
   "cell_type": "markdown",
   "id": "bdb84e10",
   "metadata": {},
   "source": [
    "## Helpers"
   ]
  },
  {
   "cell_type": "code",
   "execution_count": 2,
   "id": "7a64cf5f",
   "metadata": {},
   "outputs": [],
   "source": [
    "def kl_divergence(p, q):\n",
    "    return np.sum(np.where(p != 0, p * np.log(p / q), 0))\n",
    "\n",
    "def kl_divergence_bits(p, q):\n",
    "    return np.sum(np.where(p != 0, p * np.log2(p / q), 0))"
   ]
  },
  {
   "cell_type": "markdown",
   "id": "ee5383f0",
   "metadata": {},
   "source": [
    "## Examples"
   ]
  },
  {
   "cell_type": "code",
   "execution_count": 3,
   "id": "b9f6cf3d",
   "metadata": {},
   "outputs": [
    {
     "data": {
      "text/plain": [
       "[<matplotlib.lines.Line2D at 0x1bfc2cdeeb0>]"
      ]
     },
     "execution_count": 3,
     "metadata": {},
     "output_type": "execute_result"
    },
    {
     "data": {
      "image/png": "[encoded data removed]",
      "text/plain": [
       "<Figure size 432x288 with 1 Axes>"
      ]
     },
     "metadata": {},
     "output_type": "display_data"
    }
   ],
   "source": [
    "x = np.arange(-10, 10, 0.001)\n",
    "p = norm.pdf(x, 0, 2)\n",
    "q = norm.pdf(x, 2, 2)\n",
    "plt.title('KL(P||Q) = %1.3f' % kl_divergence(p, q))\n",
    "plt.plot(x, p)\n",
    "plt.plot(x, q, c='red')"
   ]
  },
  {
   "cell_type": "code",
   "execution_count": 4,
   "id": "8eb22b41",
   "metadata": {},
   "outputs": [
    {
     "data": {
      "text/plain": [
       "499.99971706534797"
      ]
     },
     "execution_count": 4,
     "metadata": {},
     "output_type": "execute_result"
    }
   ],
   "source": [
    "#using scipy\n",
    "sum(rel_entr(p, q))"
   ]
  },
  {
   "cell_type": "code",
   "execution_count": 5,
   "id": "c15d1b1f",
   "metadata": {},
   "outputs": [
    {
     "data": {
      "text/plain": [
       "721.3471122560642"
      ]
     },
     "execution_count": 5,
     "metadata": {},
     "output_type": "execute_result"
    }
   ],
   "source": [
    "kl_divergence_bits(p, q)"
   ]
  },
  {
   "cell_type": "markdown",
   "id": "952a6482",
   "metadata": {},
   "source": [
    "## Jensen-Shannon divergence"
   ]
  },
  {
   "cell_type": "code",
   "execution_count": 6,
   "id": "d4887cb1",
   "metadata": {},
   "outputs": [],
   "source": [
    "# calculate the js divergence\n",
    "def js_divergence(p, q):\n",
    "    m = 0.5 * (p + q)\n",
    "    return 0.5 * kl_divergence(p, m) + 0.5 * kl_divergence(q, m)"
   ]
  },
  {
   "cell_type": "code",
   "execution_count": 7,
   "id": "6b47ec1a",
   "metadata": {},
   "outputs": [
    {
     "data": {
      "text/plain": [
       "111.41111513125573"
      ]
     },
     "execution_count": 7,
     "metadata": {},
     "output_type": "execute_result"
    }
   ],
   "source": [
    "js_divergence(p, q)"
   ]
  },
  {
   "cell_type": "code",
   "execution_count": 8,
   "id": "79222581",
   "metadata": {},
   "outputs": [
    {
     "data": {
      "text/plain": [
       "111.41111513125573"
      ]
     },
     "execution_count": 8,
     "metadata": {},
     "output_type": "execute_result"
    }
   ],
   "source": [
    "#is symmetric\n",
    "js_divergence(q, p)"
   ]
  },
  {
   "cell_type": "markdown",
   "id": "be62523c",
   "metadata": {},
   "source": [
    "## Fiddle with components"
   ]
  },
  {
   "cell_type": "code",
   "execution_count": 9,
   "id": "75e6dd9b",
   "metadata": {},
   "outputs": [
    {
     "data": {
      "text/plain": [
       "array([7.43359757e-07, 7.45220389e-07, 7.47085490e-07, ...,\n",
       "       7.48955072e-07, 7.47085490e-07, 7.45220389e-07])"
      ]
     },
     "execution_count": 9,
     "metadata": {},
     "output_type": "execute_result"
    }
   ],
   "source": [
    "p"
   ]
  },
  {
   "cell_type": "code",
   "execution_count": 10,
   "id": "3981eb3b",
   "metadata": {},
   "outputs": [
    {
     "data": {
      "text/plain": [
       "array([3.03794142e-09, 3.04706855e-09, 3.05622234e-09, ...,\n",
       "       6.73177347e-05, 6.71832758e-05, 6.70490686e-05])"
      ]
     },
     "execution_count": 10,
     "metadata": {},
     "output_type": "execute_result"
    }
   ],
   "source": [
    "q"
   ]
  },
  {
   "cell_type": "code",
   "execution_count": 11,
   "id": "a73b6b5b",
   "metadata": {},
   "outputs": [
    {
     "data": {
      "text/plain": [
       "array([2.44691932e+02, 2.44569617e+02, 2.44447363e+02, ...,\n",
       "       1.11256725e-02, 1.11201111e-02, 1.11145524e-02])"
      ]
     },
     "execution_count": 11,
     "metadata": {},
     "output_type": "execute_result"
    }
   ],
   "source": [
    "p/q"
   ]
  },
  {
   "cell_type": "code",
   "execution_count": 12,
   "id": "fa8c4655",
   "metadata": {},
   "outputs": [
    {
     "data": {
      "text/plain": [
       "[<matplotlib.lines.Line2D at 0x1bfc348dc10>]"
      ]
     },
     "execution_count": 12,
     "metadata": {},
     "output_type": "execute_result"
    },
    {
     "data": {
      "image/png": "[encoded data removed]",
      "text/plain": [
       "<Figure size 432x288 with 1 Axes>"
      ]
     },
     "metadata": {},
     "output_type": "display_data"
    }
   ],
   "source": [
    "plt.plot(p/q)"
   ]
  },
  {
   "cell_type": "code",
   "execution_count": 13,
   "id": "f0112004",
   "metadata": {},
   "outputs": [
    {
     "data": {
      "text/plain": [
       "[<matplotlib.lines.Line2D at 0x1bfc34fbdf0>]"
      ]
     },
     "execution_count": 13,
     "metadata": {},
     "output_type": "execute_result"
    },
    {
     "data": {
      "image/png": "[encoded data removed]",
      "text/plain": [
       "<Figure size 432x288 with 1 Axes>"
      ]
     },
     "metadata": {},
     "output_type": "display_data"
    }
   ],
   "source": [
    "plt.plot(np.log(p / q))"
   ]
  },
  {
   "cell_type": "markdown",
   "id": "be6055d4",
   "metadata": {},
   "source": [
    "## Relation eith cross-entropy"
   ]
  },
  {
   "cell_type": "code",
   "execution_count": 14,
   "id": "25175c22",
   "metadata": {},
   "outputs": [],
   "source": [
    "#https://stats.stackexchange.com/questions/265966/why-do-we-use-kullback-leibler-divergence-rather-than-cross-entropy-in-the-t-sne/265989\n",
    "p_norm=p/p.sum()\n",
    "q_norm=q/q.sum()"
   ]
  },
  {
   "cell_type": "code",
   "execution_count": 15,
   "id": "2e2d4b18",
   "metadata": {},
   "outputs": [
    {
     "data": {
      "text/plain": [
       "0.49996887082217045"
      ]
     },
     "execution_count": 15,
     "metadata": {},
     "output_type": "execute_result"
    }
   ],
   "source": [
    "kl_divergence(p_norm, q_norm)"
   ]
  },
  {
   "cell_type": "code",
   "execution_count": 16,
   "id": "b4b482a0",
   "metadata": {},
   "outputs": [],
   "source": [
    "def cross_entropy(y,y_pre):\n",
    "    loss=-np.sum(y*np.log(y_pre))\n",
    "    return loss"
   ]
  },
  {
   "cell_type": "code",
   "execution_count": 17,
   "id": "e0bf6cc5",
   "metadata": {},
   "outputs": [
    {
     "data": {
      "text/plain": [
       "0.499968870822169"
      ]
     },
     "execution_count": 17,
     "metadata": {},
     "output_type": "execute_result"
    }
   ],
   "source": [
    "#relation between cross-entropy and kl-divergence\n",
    "cross_entropy(p_norm,q_norm)-entropy(p_norm)"
   ]
  },
  {
   "cell_type": "markdown",
   "id": "a463efc6",
   "metadata": {},
   "source": [
    "ELBO"
   ]
  },
  {
   "cell_type": "markdown",
   "id": "a6307589",
   "metadata": {},
   "source": [
    "https://mpatacchiola.github.io/blog/2021/01/25/intro-variational-inference.html"
   ]
  },
  {
   "cell_type": "markdown",
   "id": "9e74745e",
   "metadata": {},
   "source": [
    "https://www.ritchievink.com/blog/2019/09/16/variational-inference-from-scratch/"
   ]
  },
  {
   "cell_type": "code",
   "execution_count": 22,
   "id": "77708f10",
   "metadata": {},
   "outputs": [],
   "source": [
    "import numpy as np\n",
    "import torch\n",
    "from torch import nn\n",
    "from sklearn import datasets\n",
    "import matplotlib.pyplot as plt\n",
    "\n",
    "w0 = 0.125\n",
    "b0 = 5.\n",
    "x_range = [-20, 60]\n",
    "\n",
    "def load_dataset(n=150, n_tst=150):\n",
    "    np.random.seed(43)\n",
    "\n",
    "    def s(x):\n",
    "        g = (x - x_range[0]) / (x_range[1] - x_range[0])\n",
    "        return 3 * (0.25 + g**2.)\n",
    "\n",
    "    x = (x_range[1] - x_range[0]) * np.random.rand(n) + x_range[0]\n",
    "    eps = np.random.randn(n) * s(x)\n",
    "    y = (w0 * x * (1. + np.sin(x)) + b0) + eps\n",
    "    y = (y - y.mean()) / y.std()\n",
    "    idx = np.argsort(x)\n",
    "    x = x[idx]\n",
    "    y = y[idx]\n",
    "    return y[:, None], x[:, None]\n",
    "\n",
    "Y, X = load_dataset()"
   ]
  },
  {
   "cell_type": "code",
   "execution_count": 29,
   "id": "1c387dc9",
   "metadata": {},
   "outputs": [
    {
     "data": {
      "text/plain": [
       "<matplotlib.collections.PathCollection at 0x1bfc789b460>"
      ]
     },
     "execution_count": 29,
     "metadata": {},
     "output_type": "execute_result"
    },
    {
     "data": {
      "image/png": "[encoded data removed]",
      "text/plain": [
       "<Figure size 432x288 with 1 Axes>"
      ]
     },
     "metadata": {},
     "output_type": "display_data"
    }
   ],
   "source": [
    "plt.scatter(X, Y)"
   ]
  },
  {
   "cell_type": "code",
   "execution_count": 23,
   "id": "fee1b319",
   "metadata": {},
   "outputs": [],
   "source": [
    "# Go to pytorch world\n",
    "X = torch.tensor(X, dtype=torch.float)\n",
    "Y = torch.tensor(Y, dtype=torch.float)\n",
    "\n",
    "class MaximumLikelihood(nn.Module):\n",
    "    def __init__(self):\n",
    "        super().__init__()\n",
    "        self.out = nn.Sequential(\n",
    "            nn.Linear(1, 20),\n",
    "            nn.ReLU(),\n",
    "            nn.Linear(20, 1)\n",
    "        )\n",
    "    def forward(self, x):\n",
    "        return self.out(x)\n",
    "    \n",
    "epochs = 200\n",
    "m = MaximumLikelihood()\n",
    "optim = torch.optim.Adam(m.parameters(), lr=0.01)\n",
    "\n",
    "for epoch in range(epochs):\n",
    "    optim.zero_grad()\n",
    "    y_pred = m(X)\n",
    "    loss = (0.5 * (y_pred - Y)**2).mean()\n",
    "    loss.backward()\n",
    "    optim.step()"
   ]
  },
  {
   "cell_type": "code",
   "execution_count": 24,
   "id": "4b6dbb55",
   "metadata": {},
   "outputs": [],
   "source": [
    "class VI(nn.Module):\n",
    "    def __init__(self):\n",
    "        super().__init__()\n",
    "\n",
    "        self.q_mu = nn.Sequential(\n",
    "            nn.Linear(1, 20),\n",
    "            nn.ReLU(),\n",
    "            nn.Linear(20, 10),\n",
    "            nn.ReLU(),\n",
    "            nn.Linear(10, 1)\n",
    "        )\n",
    "        self.q_log_var = nn.Sequential(\n",
    "            nn.Linear(1, 20),\n",
    "            nn.ReLU(),\n",
    "            nn.Linear(20, 10),\n",
    "            nn.ReLU(),\n",
    "            nn.Linear(10, 1)\n",
    "        )\n",
    "\n",
    "    def reparameterize(self, mu, log_var):\n",
    "        # std can not be negative, thats why we use log variance\n",
    "        sigma = torch.exp(0.5 * log_var) + 1e-5\n",
    "        eps = torch.randn_like(sigma)\n",
    "        return mu + sigma * eps\n",
    "\n",
    "    def forward(self, x):\n",
    "        mu = self.q_mu(x)\n",
    "        log_var = self.q_log_var(x)\n",
    "        return self.reparameterize(mu, log_var), mu, log_var"
   ]
  },
  {
   "cell_type": "code",
   "execution_count": 25,
   "id": "eb056b2f",
   "metadata": {},
   "outputs": [],
   "source": [
    "def ll_gaussian(y, mu, log_var):\n",
    "    sigma = torch.exp(0.5 * log_var)\n",
    "    return -0.5 * torch.log(2 * np.pi * sigma**2) - (1 / (2 * sigma**2))* (y-mu)**2"
   ]
  },
  {
   "cell_type": "code",
   "execution_count": 26,
   "id": "f2b0b0d7",
   "metadata": {},
   "outputs": [],
   "source": [
    "def elbo(y_pred, y, mu, log_var):\n",
    "    # likelihood of observing y given Variational mu and sigma\n",
    "    likelihood = ll_gaussian(y, mu, log_var)\n",
    "    \n",
    "    # prior probability of y_pred\n",
    "    log_prior = ll_gaussian(y_pred, 0, torch.log(torch.tensor(1.)))\n",
    "    \n",
    "    # variational probability of y_pred\n",
    "    log_p_q = ll_gaussian(y_pred, mu, log_var)\n",
    "    \n",
    "    # by taking the mean we approximate the expectation\n",
    "    return (likelihood + log_prior - log_p_q).mean()\n",
    "\n",
    "def det_loss(y_pred, y, mu, log_var):\n",
    "    return -elbo(y_pred, y, mu, log_var)"
   ]
  },
  {
   "cell_type": "code",
   "execution_count": 27,
   "id": "ff88d6aa",
   "metadata": {},
   "outputs": [],
   "source": [
    "epochs = 1500\n",
    "\n",
    "m = VI()\n",
    "optim = torch.optim.Adam(m.parameters(), lr=0.005)\n",
    "\n",
    "for epoch in range(epochs):\n",
    "    optim.zero_grad()\n",
    "    y_pred, mu, log_var = m(X)\n",
    "    loss = det_loss(y_pred, Y, mu, log_var)\n",
    "    loss.backward()\n",
    "    optim.step()"
   ]
  },
  {
   "cell_type": "code",
   "execution_count": 28,
   "id": "f3f7760b",
   "metadata": {},
   "outputs": [
    {
     "data": {
      "text/plain": [
       "<matplotlib.collections.PolyCollection at 0x1bfc7980b20>"
      ]
     },
     "execution_count": 28,
     "metadata": {},
     "output_type": "execute_result"
    },
    {
     "data": {
      "image/png": "[encoded data removed]",
      "text/plain": [
       "<Figure size 1152x432 with 1 Axes>"
      ]
     },
     "metadata": {},
     "output_type": "display_data"
    }
   ],
   "source": [
    "# draw samples from Q(theta)\n",
    "with torch.no_grad():\n",
    "    y_pred = torch.cat([m(X)[0] for _ in range(1000)], dim=1)\n",
    "    \n",
    "# Get some quantiles\n",
    "q1, mu, q2 = np.quantile(y_pred, [0.05, 0.5, 0.95], axis=1)\n",
    "\n",
    "plt.figure(figsize=(16, 6))\n",
    "plt.scatter(X, Y)\n",
    "plt.plot(X, mu)\n",
    "plt.fill_between(X.flatten(), q1, q2, alpha=0.2)"
   ]
  },
  {
   "cell_type": "code",
   "execution_count": null,
   "id": "a4f2edd2",
   "metadata": {},
   "outputs": [],
   "source": []
  }
 ],
 "metadata": {
  "kernelspec": {
   "display_name": "Python 3 (ipykernel)",
   "language": "python",
   "name": "python3"
  },
  "language_info": {
   "codemirror_mode": {
    "name": "ipython",
    "version": 3
   },
   "file_extension": ".py",
   "mimetype": "text/x-python",
   "name": "python",
   "nbconvert_exporter": "python",
   "pygments_lexer": "ipython3",
   "version": "3.9.12"
  }
 },
 "nbformat": 4,
 "nbformat_minor": 5
}
