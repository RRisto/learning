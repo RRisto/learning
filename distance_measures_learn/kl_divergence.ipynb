{
 "cells": [
  {
   "cell_type": "code",
   "execution_count": 23,
   "id": "422341cb",
   "metadata": {},
   "outputs": [],
   "source": [
    "import numpy as np\n",
    "from scipy.stats import entropy\n",
    "from scipy.stats import norm\n",
    "from scipy.special import rel_entr\n",
    "from matplotlib import pyplot as plt\n",
    "import seaborn as sns\n",
    "sns.set()"
   ]
  },
  {
   "cell_type": "markdown",
   "id": "f5ad12c9",
   "metadata": {},
   "source": [
    "## Source: https://towardsdatascience.com/kl-divergence-python-example-b87069e4b810"
   ]
  },
  {
   "cell_type": "markdown",
   "id": "bdb84e10",
   "metadata": {},
   "source": [
    "## Helpers"
   ]
  },
  {
   "cell_type": "code",
   "execution_count": 17,
   "id": "7a64cf5f",
   "metadata": {},
   "outputs": [],
   "source": [
    "def kl_divergence(p, q):\n",
    "    return np.sum(np.where(p != 0, p * np.log(p / q), 0))\n",
    "\n",
    "def kl_divergence_bits(p, q):\n",
    "    return np.sum(np.where(p != 0, p * np.log2(p / q), 0))"
   ]
  },
  {
   "cell_type": "markdown",
   "id": "ee5383f0",
   "metadata": {},
   "source": [
    "## Examples"
   ]
  },
  {
   "cell_type": "code",
   "execution_count": 4,
   "id": "b9f6cf3d",
   "metadata": {},
   "outputs": [
    {
     "data": {
      "text/plain": [
       "[<matplotlib.lines.Line2D at 0x1b4bdc27970>]"
      ]
     },
     "execution_count": 4,
     "metadata": {},
     "output_type": "execute_result"
    },
    {
     "data": {
      "image/png": "[encoded data removed]",
      "text/plain": [
       "<Figure size 432x288 with 1 Axes>"
      ]
     },
     "metadata": {},
     "output_type": "display_data"
    }
   ],
   "source": [
    "x = np.arange(-10, 10, 0.001)\n",
    "p = norm.pdf(x, 0, 2)\n",
    "q = norm.pdf(x, 2, 2)\n",
    "plt.title('KL(P||Q) = %1.3f' % kl_divergence(p, q))\n",
    "plt.plot(x, p)\n",
    "plt.plot(x, q, c='red')"
   ]
  },
  {
   "cell_type": "code",
   "execution_count": 16,
   "id": "8eb22b41",
   "metadata": {},
   "outputs": [
    {
     "data": {
      "text/plain": [
       "499.99971706534797"
      ]
     },
     "execution_count": 16,
     "metadata": {},
     "output_type": "execute_result"
    }
   ],
   "source": [
    "#using scipy\n",
    "sum(rel_entr(p, q))"
   ]
  },
  {
   "cell_type": "code",
   "execution_count": 19,
   "id": "c15d1b1f",
   "metadata": {},
   "outputs": [
    {
     "data": {
      "text/plain": [
       "721.3471122560642"
      ]
     },
     "execution_count": 19,
     "metadata": {},
     "output_type": "execute_result"
    }
   ],
   "source": [
    "kl_divergence_bits(p, q)"
   ]
  },
  {
   "cell_type": "markdown",
   "id": "952a6482",
   "metadata": {},
   "source": [
    "## Jensen-Shannon divergence"
   ]
  },
  {
   "cell_type": "code",
   "execution_count": 20,
   "id": "d4887cb1",
   "metadata": {},
   "outputs": [],
   "source": [
    "# calculate the js divergence\n",
    "def js_divergence(p, q):\n",
    "    m = 0.5 * (p + q)\n",
    "    return 0.5 * kl_divergence(p, m) + 0.5 * kl_divergence(q, m)"
   ]
  },
  {
   "cell_type": "code",
   "execution_count": 21,
   "id": "6b47ec1a",
   "metadata": {},
   "outputs": [
    {
     "data": {
      "text/plain": [
       "111.41111513125573"
      ]
     },
     "execution_count": 21,
     "metadata": {},
     "output_type": "execute_result"
    }
   ],
   "source": [
    "js_divergence(p, q)"
   ]
  },
  {
   "cell_type": "code",
   "execution_count": 22,
   "id": "79222581",
   "metadata": {},
   "outputs": [
    {
     "data": {
      "text/plain": [
       "111.41111513125573"
      ]
     },
     "execution_count": 22,
     "metadata": {},
     "output_type": "execute_result"
    }
   ],
   "source": [
    "#is symmetric\n",
    "js_divergence(q, p)"
   ]
  },
  {
   "cell_type": "markdown",
   "id": "be62523c",
   "metadata": {},
   "source": [
    "## Fiddle with components"
   ]
  },
  {
   "cell_type": "code",
   "execution_count": 7,
   "id": "75e6dd9b",
   "metadata": {},
   "outputs": [
    {
     "data": {
      "text/plain": [
       "array([7.43359757e-07, 7.45220389e-07, 7.47085490e-07, ...,\n",
       "       7.48955072e-07, 7.47085490e-07, 7.45220389e-07])"
      ]
     },
     "execution_count": 7,
     "metadata": {},
     "output_type": "execute_result"
    }
   ],
   "source": [
    "p"
   ]
  },
  {
   "cell_type": "code",
   "execution_count": 8,
   "id": "3981eb3b",
   "metadata": {},
   "outputs": [
    {
     "data": {
      "text/plain": [
       "array([3.03794142e-09, 3.04706855e-09, 3.05622234e-09, ...,\n",
       "       6.73177347e-05, 6.71832758e-05, 6.70490686e-05])"
      ]
     },
     "execution_count": 8,
     "metadata": {},
     "output_type": "execute_result"
    }
   ],
   "source": [
    "q"
   ]
  },
  {
   "cell_type": "code",
   "execution_count": 9,
   "id": "a73b6b5b",
   "metadata": {},
   "outputs": [
    {
     "data": {
      "text/plain": [
       "array([2.44691932e+02, 2.44569617e+02, 2.44447363e+02, ...,\n",
       "       1.11256725e-02, 1.11201111e-02, 1.11145524e-02])"
      ]
     },
     "execution_count": 9,
     "metadata": {},
     "output_type": "execute_result"
    }
   ],
   "source": [
    "p/q"
   ]
  },
  {
   "cell_type": "code",
   "execution_count": 10,
   "id": "fa8c4655",
   "metadata": {},
   "outputs": [
    {
     "data": {
      "text/plain": [
       "[<matplotlib.lines.Line2D at 0x1b4be567520>]"
      ]
     },
     "execution_count": 10,
     "metadata": {},
     "output_type": "execute_result"
    },
    {
     "data": {
      "image/png": "[encoded data removed]",
      "text/plain": [
       "<Figure size 432x288 with 1 Axes>"
      ]
     },
     "metadata": {},
     "output_type": "display_data"
    }
   ],
   "source": [
    "plt.plot(p/q)"
   ]
  },
  {
   "cell_type": "code",
   "execution_count": 12,
   "id": "f0112004",
   "metadata": {},
   "outputs": [
    {
     "data": {
      "text/plain": [
       "[<matplotlib.lines.Line2D at 0x1b4c2dc69d0>]"
      ]
     },
     "execution_count": 12,
     "metadata": {},
     "output_type": "execute_result"
    },
    {
     "data": {
      "image/png": "[encoded data removed]",
      "text/plain": [
       "<Figure size 432x288 with 1 Axes>"
      ]
     },
     "metadata": {},
     "output_type": "display_data"
    }
   ],
   "source": [
    "plt.plot(np.log(p / q))"
   ]
  },
  {
   "cell_type": "markdown",
   "id": "be6055d4",
   "metadata": {},
   "source": [
    "## Relation eith cross-entropy"
   ]
  },
  {
   "cell_type": "code",
   "execution_count": 43,
   "id": "25175c22",
   "metadata": {},
   "outputs": [
    {
     "data": {
      "text/plain": [
       "0.721302610534"
      ]
     },
     "execution_count": 43,
     "metadata": {},
     "output_type": "execute_result"
    }
   ],
   "source": [
    "#https://stats.stackexchange.com/questions/265966/why-do-we-use-kullback-leibler-divergence-rather-than-cross-entropy-in-the-t-sne/265989\n",
    "p_norm=p/p.sum()\n",
    "q_norm=q/q.sum()"
   ]
  },
  {
   "cell_type": "code",
   "execution_count": 32,
   "id": "2e2d4b18",
   "metadata": {},
   "outputs": [
    {
     "data": {
      "text/plain": [
       "0.49996887082217045"
      ]
     },
     "execution_count": 32,
     "metadata": {},
     "output_type": "execute_result"
    }
   ],
   "source": [
    "kl_divergence(p_norm, q_norm)"
   ]
  },
  {
   "cell_type": "code",
   "execution_count": 41,
   "id": "b4b482a0",
   "metadata": {},
   "outputs": [],
   "source": [
    "def cross_entropy(y,y_pre):\n",
    "    loss=-np.sum(y*np.log(y_pre))\n",
    "    return loss"
   ]
  },
  {
   "cell_type": "code",
   "execution_count": 42,
   "id": "e0bf6cc5",
   "metadata": {},
   "outputs": [
    {
     "data": {
      "text/plain": [
       "0.499968870822169"
      ]
     },
     "execution_count": 42,
     "metadata": {},
     "output_type": "execute_result"
    }
   ],
   "source": [
    "#relation between cross-entropy and kl-divergence\n",
    "cross_entropy(p_norm,q_norm)-entropy(p_norm)"
   ]
  },
  {
   "cell_type": "code",
   "execution_count": null,
   "id": "04ef1255",
   "metadata": {},
   "outputs": [],
   "source": []
  }
 ],
 "metadata": {
  "kernelspec": {
   "display_name": "Python 3 (ipykernel)",
   "language": "python",
   "name": "python3"
  },
  "language_info": {
   "codemirror_mode": {
    "name": "ipython",
    "version": 3
   },
   "file_extension": ".py",
   "mimetype": "text/x-python",
   "name": "python",
   "nbconvert_exporter": "python",
   "pygments_lexer": "ipython3",
   "version": "3.9.12"
  }
 },
 "nbformat": 4,
 "nbformat_minor": 5
}
