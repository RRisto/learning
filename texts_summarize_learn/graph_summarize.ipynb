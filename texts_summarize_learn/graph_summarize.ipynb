{
 "cells": [
  {
   "cell_type": "code",
   "execution_count": 3,
   "metadata": {
    "collapsed": true
   },
   "outputs": [],
   "source": [
    "from nltk import corpus, tokenize, stem\n",
    "\n",
    "\n",
    "__all__ = ['LanguageProcessor']\n",
    "\n",
    "\n",
    "class LanguageProcessor(object):\n",
    "    def __init__(self, language):\n",
    "        self.language = language\n",
    "        self.stopwords = corpus.stopwords.words(language)\n",
    "        self.stemmer = stem.SnowballStemmer(language)\n",
    "\n",
    "    def split_sentences(self, text):\n",
    "        return tokenize.sent_tokenize(text, self.language)\n",
    "\n",
    "    def extract_significant_words(self, sentence):\n",
    "        return set(\n",
    "            word for word in tokenize.word_tokenize(sentence)\n",
    "            if word.isalnum() and word not in self.stopwords\n",
    "        )\n",
    "\n",
    "    def stem(self, word):\n",
    "        return self.stemmer.stem(word)"
   ]
  },
  {
   "cell_type": "code",
   "execution_count": 16,
   "metadata": {},
   "outputs": [],
   "source": [
    "from itertools import combinations\n",
    "from operator import itemgetter\n",
    "\n",
    "from distance import jaccard\n",
    "from networkx import Graph, pagerank\n",
    "\n",
    "\n",
    "def summarize_graph(text, sentence_count=5, lang='no'):\n",
    "    languages = {\n",
    "            'da': 'danish',\n",
    "            'nl': 'dutch',\n",
    "            'en': 'english',\n",
    "            'fi': 'finnish',\n",
    "            'fr': 'french',\n",
    "            'de': 'german',\n",
    "            'hu': 'hungarian',\n",
    "            'it': 'italian',\n",
    "            'no': 'norwegian',\n",
    "            'po': 'portuguese',\n",
    "            'ro': 'romanian',\n",
    "            'ru': 'russian',\n",
    "            'es': 'spanish',\n",
    "            'sv': 'swedish'}\n",
    "    if lang not in languages:\n",
    "        print('Language is not supported')\n",
    "        return\n",
    "    \n",
    "    language=languages[lang]\n",
    "    \n",
    "    processor = LanguageProcessor(language)\n",
    "\n",
    "    sentence_list = processor.split_sentences(text)\n",
    "    wordset_list = map(processor.extract_significant_words, sentence_list)\n",
    "    stemsets = [\n",
    "        {processor.stem(word) for word in wordset}\n",
    "        for wordset in wordset_list\n",
    "    ]\n",
    "\n",
    "    graph = Graph()\n",
    "    pairs = combinations(enumerate(stemsets), 2)\n",
    "    for (index_a, stems_a), (index_b, stems_b) in pairs:\n",
    "        if stems_a and stems_b:\n",
    "            similarity = 1 - jaccard(stems_a, stems_b)\n",
    "            if similarity > 0:\n",
    "                graph.add_edge(index_a, index_b, weight=similarity)\n",
    "\n",
    "    ranked_sentence_indexes = list(pagerank(graph).items())\n",
    "    if ranked_sentence_indexes:\n",
    "        sentences_by_rank = sorted(\n",
    "            ranked_sentence_indexes, key=itemgetter(1), reverse=True)\n",
    "        best_sentences = map(itemgetter(0), sentences_by_rank[:sentence_count])\n",
    "        best_sentences_in_order = sorted(best_sentences)\n",
    "    else:\n",
    "        best_sentences_in_order = range(min(sentence_count, len(sentence_list)))\n",
    "\n",
    "    return ' '.join(sentence_list[index] for index in best_sentences_in_order)"
   ]
  },
  {
   "cell_type": "code",
   "execution_count": 17,
   "metadata": {
    "collapsed": true
   },
   "outputs": [],
   "source": [
    "txt='''Chicken Little likes to walk in the woods. She likes to look at the trees. She likes to smell the flowers. She likes to listen to the birds singing.\n",
    "\n",
    "One day while she is walking an acorn falls from a tree, and hits the top of her little head.\n",
    "\n",
    "- My, oh, my, the sky is falling. I must run and tell the lion about it, - says Chicken Little and begins to run.\n",
    "\n",
    "She runs and runs. By and by she meets the hen.\n",
    "\n",
    "- Where are you going? - asks the hen.\n",
    "\n",
    "- Oh, Henny Penny, the sky is falling and I am going to the lion to tell him about it.\n",
    "\n",
    "- How do you know it? - asks Henny Penny.\n",
    "\n",
    "- It hit me on the head, so I know it must be so, - says Chicken Little.\n",
    "\n",
    "- Let me go with you! - says Henny Penny. - Run, run.\n",
    "\n",
    "So the two run and run until they meet Ducky Lucky.\n",
    "\n",
    "- The sky is falling, - says Henny Penny. - We are going to the lion to tell him about it.\n",
    "\n",
    "- How do you know that? - asks Ducky Lucky.\n",
    "\n",
    "- It hit Chicken Little on the head, - says Henny Penny.\n",
    "\n",
    "- May I come with you? - asks Ducky Lucky.\n",
    "\n",
    "- Come, - says Henny Penny.\n",
    "\n",
    "So all three of them run on and on until they meet Foxey Loxey.\n",
    "\n",
    "- Where are you going? - asks Foxey Loxey.\n",
    "\n",
    "- The sky is falling and we are going to the lion to tell him about it, - says Ducky Lucky.\n",
    "\n",
    "- Do you know where he lives? - asks the fox.\n",
    "\n",
    "- I don't, - says Chicken Little.\n",
    "\n",
    "- I don't, - says Henny Penny.\n",
    "\n",
    "- I don't, - says Ducky Lucky.\n",
    "\n",
    "- I do, - says Foxey Loxey. - Come with me and I can show you the way.\n",
    "\n",
    "He walks on and on until he comes to his den.\n",
    "\n",
    "- Come right in, - says Foxey Loxey.\n",
    "\n",
    "They all go in, but they never, never come out again.'''"
   ]
  },
  {
   "cell_type": "code",
   "execution_count": 18,
   "metadata": {},
   "outputs": [
    {
     "data": {
      "text/plain": [
       "\"I must run and tell the lion about it, - says Chicken Little and begins to run. - The sky is falling, - says Henny Penny. - It hit Chicken Little on the head, - says Henny Penny. - The sky is falling and we are going to the lion to tell him about it, - says Ducky Lucky. - I don't, - says Henny Penny.\""
      ]
     },
     "execution_count": 18,
     "metadata": {},
     "output_type": "execute_result"
    }
   ],
   "source": [
    "summarize_graph(txt)"
   ]
  },
  {
   "cell_type": "code",
   "execution_count": null,
   "metadata": {
    "collapsed": true
   },
   "outputs": [],
   "source": []
  }
 ],
 "metadata": {
  "kernelspec": {
   "display_name": "Python 3",
   "language": "python",
   "name": "python3"
  },
  "language_info": {
   "codemirror_mode": {
    "name": "ipython",
    "version": 3
   },
   "file_extension": ".py",
   "mimetype": "text/x-python",
   "name": "python",
   "nbconvert_exporter": "python",
   "pygments_lexer": "ipython3",
   "version": "3.5.4"
  }
 },
 "nbformat": 4,
 "nbformat_minor": 2
}
