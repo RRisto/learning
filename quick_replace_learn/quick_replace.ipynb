{
 "cells": [
  {
   "cell_type": "code",
   "execution_count": 1,
   "metadata": {
    "collapsed": true
   },
   "outputs": [],
   "source": [
    "import pandas as pd"
   ]
  },
  {
   "cell_type": "code",
   "execution_count": 2,
   "metadata": {
    "collapsed": true
   },
   "outputs": [],
   "source": [
    "df=pd.read_excel('andmestikkoigirahvastikuregistrisolevatenimedega16.01.2017.xlsx', header=None)"
   ]
  },
  {
   "cell_type": "code",
   "execution_count": 3,
   "metadata": {},
   "outputs": [
    {
     "data": {
      "text/html": [
       "<div>\n",
       "<style>\n",
       "    .dataframe thead tr:only-child th {\n",
       "        text-align: right;\n",
       "    }\n",
       "\n",
       "    .dataframe thead th {\n",
       "        text-align: left;\n",
       "    }\n",
       "\n",
       "    .dataframe tbody tr th {\n",
       "        vertical-align: top;\n",
       "    }\n",
       "</style>\n",
       "<table border=\"1\" class=\"dataframe\">\n",
       "  <thead>\n",
       "    <tr style=\"text-align: right;\">\n",
       "      <th></th>\n",
       "      <th>0</th>\n",
       "    </tr>\n",
       "  </thead>\n",
       "  <tbody>\n",
       "    <tr>\n",
       "      <th>0</th>\n",
       "      <td>A RAOUL</td>\n",
       "    </tr>\n",
       "    <tr>\n",
       "      <th>1</th>\n",
       "      <td>AA MICHELL OCOL</td>\n",
       "    </tr>\n",
       "    <tr>\n",
       "      <th>2</th>\n",
       "      <td>AAB</td>\n",
       "    </tr>\n",
       "    <tr>\n",
       "      <th>3</th>\n",
       "      <td>AAB SVENSSON</td>\n",
       "    </tr>\n",
       "    <tr>\n",
       "      <th>4</th>\n",
       "      <td>AABAJÕE</td>\n",
       "    </tr>\n",
       "  </tbody>\n",
       "</table>\n",
       "</div>"
      ],
      "text/plain": [
       "                 0\n",
       "0          A RAOUL\n",
       "1  AA MICHELL OCOL\n",
       "2              AAB\n",
       "3     AAB SVENSSON\n",
       "4          AABAJÕE"
      ]
     },
     "execution_count": 3,
     "metadata": {},
     "output_type": "execute_result"
    }
   ],
   "source": [
    "df.head()"
   ]
  },
  {
   "cell_type": "code",
   "execution_count": 4,
   "metadata": {
    "collapsed": true
   },
   "outputs": [],
   "source": [
    "df['lower']=[str(x).lower() for x in df[0].tolist()]"
   ]
  },
  {
   "cell_type": "code",
   "execution_count": 5,
   "metadata": {
    "collapsed": true
   },
   "outputs": [],
   "source": [
    "df['len']=df['lower'].str.len()"
   ]
  },
  {
   "cell_type": "code",
   "execution_count": 6,
   "metadata": {},
   "outputs": [
    {
     "data": {
      "text/plain": [
       "8     60059\n",
       "7     56338\n",
       "9     53490\n",
       "6     47429\n",
       "10    46292\n",
       "11    40325\n",
       "12    31729\n",
       "5     30164\n",
       "13    24275\n",
       "14    16908\n",
       "15    11808\n",
       "4     10861\n",
       "16     8040\n",
       "17     5774\n",
       "18     4157\n",
       "19     3088\n",
       "20     2167\n",
       "3      1738\n",
       "21     1677\n",
       "22     1273\n",
       "23      924\n",
       "24      730\n",
       "25      500\n",
       "26      300\n",
       "27      220\n",
       "28      161\n",
       "2       135\n",
       "29      105\n",
       "30       77\n",
       "31       68\n",
       "32       50\n",
       "33       43\n",
       "34       20\n",
       "35       18\n",
       "37       13\n",
       "36       12\n",
       "1         9\n",
       "40        8\n",
       "39        6\n",
       "38        5\n",
       "44        2\n",
       "47        2\n",
       "48        2\n",
       "61        1\n",
       "41        1\n",
       "42        1\n",
       "43        1\n",
       "45        1\n",
       "50        1\n",
       "53        1\n",
       "56        1\n",
       "57        1\n",
       "64        1\n",
       "Name: len, dtype: int64"
      ]
     },
     "execution_count": 6,
     "metadata": {},
     "output_type": "execute_result"
    }
   ],
   "source": [
    "df['len'].value_counts()"
   ]
  },
  {
   "cell_type": "code",
   "execution_count": 7,
   "metadata": {},
   "outputs": [
    {
     "data": {
      "text/html": [
       "<div>\n",
       "<style>\n",
       "    .dataframe thead tr:only-child th {\n",
       "        text-align: right;\n",
       "    }\n",
       "\n",
       "    .dataframe thead th {\n",
       "        text-align: left;\n",
       "    }\n",
       "\n",
       "    .dataframe tbody tr th {\n",
       "        vertical-align: top;\n",
       "    }\n",
       "</style>\n",
       "<table border=\"1\" class=\"dataframe\">\n",
       "  <thead>\n",
       "    <tr style=\"text-align: right;\">\n",
       "      <th></th>\n",
       "      <th>0</th>\n",
       "      <th>lower</th>\n",
       "      <th>len</th>\n",
       "    </tr>\n",
       "  </thead>\n",
       "  <tbody>\n",
       "    <tr>\n",
       "      <th>0</th>\n",
       "      <td>A RAOUL</td>\n",
       "      <td>a raoul</td>\n",
       "      <td>7</td>\n",
       "    </tr>\n",
       "    <tr>\n",
       "      <th>1</th>\n",
       "      <td>AA MICHELL OCOL</td>\n",
       "      <td>aa michell ocol</td>\n",
       "      <td>15</td>\n",
       "    </tr>\n",
       "    <tr>\n",
       "      <th>2</th>\n",
       "      <td>AAB</td>\n",
       "      <td>aab</td>\n",
       "      <td>3</td>\n",
       "    </tr>\n",
       "    <tr>\n",
       "      <th>3</th>\n",
       "      <td>AAB SVENSSON</td>\n",
       "      <td>aab svensson</td>\n",
       "      <td>12</td>\n",
       "    </tr>\n",
       "    <tr>\n",
       "      <th>4</th>\n",
       "      <td>AABAJÕE</td>\n",
       "      <td>aabajõe</td>\n",
       "      <td>7</td>\n",
       "    </tr>\n",
       "  </tbody>\n",
       "</table>\n",
       "</div>"
      ],
      "text/plain": [
       "                 0            lower  len\n",
       "0          A RAOUL          a raoul    7\n",
       "1  AA MICHELL OCOL  aa michell ocol   15\n",
       "2              AAB              aab    3\n",
       "3     AAB SVENSSON     aab svensson   12\n",
       "4          AABAJÕE          aabajõe    7"
      ]
     },
     "execution_count": 7,
     "metadata": {},
     "output_type": "execute_result"
    }
   ],
   "source": [
    "df.head()"
   ]
  },
  {
   "cell_type": "code",
   "execution_count": 12,
   "metadata": {
    "collapsed": true
   },
   "outputs": [],
   "source": [
    "strings=[\"see asi on väga suur ja nimi on tal juhan kasepuu, kes oskab juba palju teha ma tahan saada juhiluba kuid seda pole olemas. miks on maailm suur ja lia\"]"
   ]
  },
  {
   "cell_type": "code",
   "execution_count": 13,
   "metadata": {
    "collapsed": true
   },
   "outputs": [],
   "source": [
    "def eemaldaja(strings, nimed, asendus):\n",
    "    res_txt=[]\n",
    "    for txt in strings:\n",
    "        res=[]\n",
    "        pieces=txt.split(\" \")\n",
    "        for piece in pieces:\n",
    "            if piece in nimed:\n",
    "                res.append(asendus)\n",
    "            else:\n",
    "                res.append(piece)\n",
    "        res_txt.append(' '.join(res))\n",
    "    return res_txt"
   ]
  },
  {
   "cell_type": "code",
   "execution_count": 14,
   "metadata": {},
   "outputs": [
    {
     "name": "stdout",
     "output_type": "stream",
     "text": [
      "CPU times: user 204 ms, sys: 0 ns, total: 204 ms\n",
      "Wall time: 408 ms\n"
     ]
    },
    {
     "data": {
      "text/plain": [
       "['[name] [name] on väga [name] ja nimi on [name] [name] kasepuu, [name] oskab juba palju [name] [name] tahan saada juhiluba kuid [name] [name] olemas. [name] on maailm [name] ja [name]']"
      ]
     },
     "execution_count": 14,
     "metadata": {},
     "output_type": "execute_result"
    }
   ],
   "source": [
    "%time eemaldaja(strings, df['lower'].tolist(), \"[name]\")"
   ]
  },
  {
   "cell_type": "code",
   "execution_count": null,
   "metadata": {
    "collapsed": true
   },
   "outputs": [],
   "source": []
  }
 ],
 "metadata": {
  "kernelspec": {
   "display_name": "Python 3",
   "language": "python",
   "name": "python3"
  },
  "language_info": {
   "codemirror_mode": {
    "name": "ipython",
    "version": 3
   },
   "file_extension": ".py",
   "mimetype": "text/x-python",
   "name": "python",
   "nbconvert_exporter": "python",
   "pygments_lexer": "ipython3",
   "version": "3.5.4"
  }
 },
 "nbformat": 4,
 "nbformat_minor": 2
}
