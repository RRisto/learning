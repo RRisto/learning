{
 "cells": [
  {
   "cell_type": "code",
   "execution_count": 3,
   "metadata": {},
   "outputs": [
    {
     "name": "stderr",
     "output_type": "stream",
     "text": [
      "UsageError: %%javascript is a cell magic, but the cell body is empty.\n"
     ]
    }
   ],
   "source": [
    "%%javascript"
   ]
  },
  {
   "cell_type": "markdown",
   "metadata": {},
   "source": [
    "# Print all cell output"
   ]
  },
  {
   "cell_type": "code",
   "execution_count": 4,
   "metadata": {},
   "outputs": [
    {
     "data": {
      "text/plain": [
       "5"
      ]
     },
     "execution_count": 4,
     "metadata": {},
     "output_type": "execute_result"
    }
   ],
   "source": [
    "m=5\n",
    "a=6\n",
    "a\n",
    "m"
   ]
  },
  {
   "cell_type": "code",
   "execution_count": 5,
   "metadata": {
    "collapsed": true
   },
   "outputs": [],
   "source": [
    "from IPython.core.interactiveshell import InteractiveShell\n",
    "# pretty print all cell's output and not just the last one\n",
    "InteractiveShell.ast_node_interactivity = \"all\""
   ]
  },
  {
   "cell_type": "code",
   "execution_count": 6,
   "metadata": {},
   "outputs": [
    {
     "data": {
      "text/plain": [
       "6"
      ]
     },
     "execution_count": 6,
     "metadata": {},
     "output_type": "execute_result"
    },
    {
     "data": {
      "text/plain": [
       "5"
      ]
     },
     "execution_count": 6,
     "metadata": {},
     "output_type": "execute_result"
    }
   ],
   "source": [
    "a\n",
    "m"
   ]
  },
  {
   "cell_type": "code",
   "execution_count": null,
   "metadata": {
    "collapsed": true
   },
   "outputs": [],
   "source": [
    "# to restore previous case\n",
    "from IPython.core.interactiveshell import InteractiveShell\n",
    "\n",
    "# pretty print only the last output of the cell\n",
    "InteractiveShell.ast_node_interactivity = \"last_expr\""
   ]
  },
  {
   "cell_type": "markdown",
   "metadata": {},
   "source": [
    "To make this behavior consistent across all notebooks edit: ~/.ipython/profile_default/ipython_config.py:\n",
    "\n",
    "c = get_config()\n",
    "\n",
    "Run all nodes interactively\n",
    "\n",
    "c.InteractiveShell.ast_node_interactivity = \"all\""
   ]
  },
  {
   "cell_type": "markdown",
   "metadata": {},
   "source": [
    "## Suppressing Output\n",
    "The side-effect of this change is that some libraries will start spewing a lot of noise (e.g. matplotlib). To fix that add ; at the end of the lines whose output you don’t want to be displayed.\n",
    "\n",
    "Example:\n",
    "\n",
    "fig, axes = plt.subplots(2, 1, figsize=(20, 20))\n",
    "\n",
    "axes[0].set_ylim(-5, 5);\n",
    "\n",
    "Without using ; it outputs:\n",
    "\n",
    "Out[53]: (-5, 5)\n",
    "\n",
    "However the hack doesn’t seem to work when the code line that outputs something is part of some loop, in which case the workaround of assigning to _ does the trick:\n",
    "\n",
    "fig, axes = plt.subplots(2, 1, figsize=(20, 20))\n",
    "\n",
    "for i in [1,2]:\n",
    "\n",
    "    _ = axes[i].set_ylim(-5, 5)"
   ]
  },
  {
   "cell_type": "markdown",
   "metadata": {},
   "source": [
    "## To Skip A Cell From Running (e.g. work in progress)\n",
    "\n",
    "Add at the top of the cell:\n",
    "\n",
    "%%script false\n",
    "\n",
    "some multiline code \n",
    "\n",
    "that you want to skip for a time being \n",
    "\n",
    "(e.g. work in progress) \n",
    "without commenting out / deleting cell \n",
    "goes here"
   ]
  },
  {
   "cell_type": "markdown",
   "metadata": {},
   "source": [
    "## Rmarkdown in output"
   ]
  },
  {
   "cell_type": "code",
   "execution_count": 7,
   "metadata": {},
   "outputs": [
    {
     "data": {
      "text/markdown": [
       "**bold text**"
      ],
      "text/plain": [
       "<IPython.core.display.Markdown object>"
      ]
     },
     "metadata": {},
     "output_type": "display_data"
    }
   ],
   "source": [
    "from IPython.display import Markdown, display\n",
    "\n",
    "def printmd(string):\n",
    "    display(Markdown(string))\n",
    "\n",
    "printmd(\"**bold text**\")"
   ]
  },
  {
   "cell_type": "code",
   "execution_count": 8,
   "metadata": {},
   "outputs": [
    {
     "data": {
      "text/markdown": [
       "<span style='color:blue'>**bold and blue**</span>"
      ],
      "text/plain": [
       "<IPython.core.display.Markdown object>"
      ]
     },
     "metadata": {},
     "output_type": "display_data"
    }
   ],
   "source": [
    "#use html\n",
    "def printmd(string, color=None):\n",
    "    colorstr = \"<span style='color:{}'>{}</span>\".format(color, string)\n",
    "    display(Markdown(colorstr))\n",
    "\n",
    "printmd(\"**bold and blue**\", color=\"blue\")"
   ]
  },
  {
   "cell_type": "markdown",
   "metadata": {},
   "source": [
    "## Restart and Run All fix\n",
    "My browser is too slow and “Restart and Run All” only manages to restart, but fails to “Run All”. This adds the missing delay and as a bonus a shortcut Meta-F (to complement Alt-F=Run All ignoring errors). Runs from ‘Command Mode’ (i.e. may need to hit Esc first).\n",
    "\n",
    "// Meta-F: \"Restart and Run All\" slow delay fix + shortcut [Command mode]\n",
    "Jupyter.keyboard_manager.command_shortcuts.add_shortcut('Meta-F', {\n",
    "    help: 'Restart And Run All',\n",
    "    help_index: 'zz',\n",
    "    handler: function (event) {\n",
    "      Jupyter.notebook.kernel.restart();\n",
    "      restartTime = 2000 // decrease this if you have a fast computer\n",
    "      setTimeout(function(){ Jupyter.notebook.execute_all_cells(); }, restartTime);\n",
    "      return false;\n",
    "    }\n",
    "});"
   ]
  },
  {
   "cell_type": "markdown",
   "metadata": {},
   "source": [
    "## Control notebook resource allocation\n",
    "Sometimes notebooks take a way more resources than available, causing undesired behavior, like a hanging system.\n",
    "\n",
    "There are various ways to limit system resource usage, I decided to try the modern cgroups to limit memory usage in this case.\n",
    "\n",
    "sudo cgcreate -a stas:stas -t stas:stas -g memory:JupyterGroup\n",
    "\n",
    "replace stas with your setup’s user:group (usually yourusername:yourusername).\n",
    "\n",
    "Then I decided to give each notebook max of 15GB RAM and 25GB Total (RAM+SWAP):\n",
    "\n",
    "sudo echo $(( 15000 * 1024 * 1024 )) > /sys/fs/cgroup/memory/JupyterGroup/memory.limit_in_bytes\n",
    "\n",
    "sudo echo $(( 10000 * 1024 * 1024 )) > /sys/fs/cgroup/memory/JupyterGroup/memory.kmem.max_usage_in_bytes\n",
    "Now I start the notebook as:\n",
    "\n",
    "cgexec -g memory:JupyterGroup jupyter notebook\n",
    "\n",
    "a greedy kernel now gets terminated if it consumes more than what I allocated, without crashing/overloading my system.\n",
    "\n",
    "Note that filenames under /sys/fs/cgroup/memory/JupyterGroup/ might be slightly different on your system. You may have to check the documentation.\n",
    "\n",
    "I also needed to install the following packages, before I was able to run this:\n",
    "\n",
    "sudo apt-get install cgroup-bin cgroup-lite cgroup-tools cgroupfs-mount libcgroup1"
   ]
  },
  {
   "cell_type": "markdown",
   "metadata": {},
   "source": [
    "## Following the currently executing cell mode\n",
    "Won’t it be nice to be able to watch the progress of the notebook run hands off? Now you can:\n",
    "\n",
    "Add the following in ~/.jupyter/custom/custom.js and reload the notebooks you’re running:\n",
    "\n",
    "/*\n",
    " In Command mode Meta-[ toggles Follow Exec Cell mode, Meta-] turns it off.\n",
    "\n",
    " To adjust the behavior you can adjust the arguments:\n",
    " * behavior: One of \"auto\", \"instant\", or \"smooth\". Defaults to \"auto\". Defines the transition animation.\n",
    " * block:    One of \"start\", \"center\", \"end\", or \"nearest\". Defaults to \"center\".\n",
    " * inline:   One of \"start\", \"center\", \"end\", or \"nearest\". Defaults to \"nearest\".\n",
    " https://developer.mozilla.org/en-US/docs/Web/API/Element/scrollIntoView\n",
    "*/\n",
    "function scrollIntoRunningCell(evt, data) {\n",
    "    $('.running')[0].scrollIntoView({behavior: 'smooth', inline: 'center'});\n",
    "}\n",
    "\n",
    "Jupyter.keyboard_manager.command_shortcuts.add_shortcut('Meta-[', {\n",
    "    help: 'Follow Executing Cell On',\n",
    "    help_index: 'zz',\n",
    "    handler: function (event) {\n",
    "        Jupyter.notebook.events.on('finished_execute.CodeCell', scrollIntoRunningCell);\n",
    "        //console.log(\"Follow Executing Cell On\")\n",
    "        return false;\n",
    "    }\n",
    "});\n",
    "\n",
    "Jupyter.keyboard_manager.command_shortcuts.add_shortcut('Meta-]', {\n",
    "    help: 'Follow Executing Cell Off',\n",
    "    help_index: 'zz',\n",
    "    handler: function (event) {\n",
    "        Jupyter.notebook.events.off('finished_execute.CodeCell', scrollIntoRunningCell);\n",
    "        //console.log(\"Follow Executing Cell Off\")\n",
    "        return false;\n",
    "    }\n",
    "});"
   ]
  },
  {
   "cell_type": "markdown",
   "metadata": {},
   "source": [
    "Now in Command Mode (when cell in focus has a blue box around it and not green, or hit Esc to toggle mode), hit Meta-[ to get the currently run cell stay in the middle of the screen, hit Meta-] to return to normal behavior.\n",
    "\n",
    "If this is not working, debug this setup by uncommenting console.log() calls and watch your browser Developer Tools’ Console to check that custom.js got loaded without errors and that the shortcuts got registered and the handler is activated. Sometimes you need to restart jupyter notebook, but most of the time tab-reload works.\n",
    "\n",
    "If you just want to jump once to the current executing cell use Alt-I after you add the following to ~/.jupyter/custom/custom.js and reload the notebooks you’re running:\n",
    "\n",
    "// Alt-I: Go to Running cell shortcut [Command mode]\n",
    "Jupyter.keyboard_manager.command_shortcuts.add_shortcut('Alt-I', {\n",
    "    help : 'Go to Running cell',\n",
    "    help_index : 'zz',\n",
    "    handler : function (event) {\n",
    "        setTimeout(function() {\n",
    "            // Find running cell and click the first one\n",
    "            if ($('.running').length > 0) {\n",
    "                //alert(\"found running cell\");\n",
    "                $('.running')[0].scrollIntoView();\n",
    "            }}, 250);\n",
    "        return false;\n",
    "    }\n",
    "});\n",
    "Caveat: for it to work - the sections should all be uncollapsed - otherwise it won’t know to go into a collapsed section.\n",
    "\n",
    "You can adjust the activation shortcut keys to your liking.\n",
    "\n",
    "Remember that all 3 shortcuts will only work in the Command mode (see above for figuring that out).\n",
    "\n",
    "This has been tested to work with jupyter notebook 5.6.0 with python 3.6.6."
   ]
  },
  {
   "cell_type": "code",
   "execution_count": null,
   "metadata": {
    "collapsed": true
   },
   "outputs": [],
   "source": []
  }
 ],
 "metadata": {
  "kernelspec": {
   "display_name": "Python 3",
   "language": "python",
   "name": "python3"
  },
  "language_info": {
   "codemirror_mode": {
    "name": "ipython",
    "version": 3
   },
   "file_extension": ".py",
   "mimetype": "text/x-python",
   "name": "python",
   "nbconvert_exporter": "python",
   "pygments_lexer": "ipython3",
   "version": "3.5.4"
  }
 },
 "nbformat": 4,
 "nbformat_minor": 2
}
