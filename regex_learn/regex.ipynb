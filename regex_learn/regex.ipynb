{
 "cells": [
  {
   "cell_type": "code",
   "execution_count": 1,
   "metadata": {
    "collapsed": true
   },
   "outputs": [],
   "source": [
    "import re\n",
    "import pandas as pd\n",
    "import email"
   ]
  },
  {
   "cell_type": "markdown",
   "metadata": {},
   "source": [
    "from: https://www.dataquest.io/blog/regular-expressions-data-scientists/?utm_campaign=Data%2BElixir&utm_medium=email&utm_source=Data_Elixir_159"
   ]
  },
  {
   "cell_type": "code",
   "execution_count": 2,
   "metadata": {
    "collapsed": true
   },
   "outputs": [],
   "source": [
    "fh = open(r\"data/test_emails.txt\", \"r\").read()"
   ]
  },
  {
   "cell_type": "code",
   "execution_count": 3,
   "metadata": {},
   "outputs": [
    {
     "name": "stdout",
     "output_type": "stream",
     "text": [
      "From: \"MR. JAMES NGOLA.\" <james_ngola2002@maktoob.com>\n",
      "From: \"Mr. Ben Suleman\" <bensul2004nng@spinfinder.com>\n",
      "From: \"PRINCE OBONG ELEME\" <obong_715@epatra.com>\n",
      "From: \"PRINCE OBONG ELEME\" <obong_715@epatra.com>\n",
      "From: \"Maryam Abacha\" <m_abacha03@www.com>\n"
     ]
    }
   ],
   "source": [
    "for line in fh.split(\"\\n\"):\n",
    "    if \"From:\" in line:\n",
    "        print(line)"
   ]
  },
  {
   "cell_type": "markdown",
   "metadata": {},
   "source": [
    "or"
   ]
  },
  {
   "cell_type": "code",
   "execution_count": 5,
   "metadata": {},
   "outputs": [
    {
     "name": "stdout",
     "output_type": "stream",
     "text": [
      "From: \"MR. JAMES NGOLA.\" <james_ngola2002@maktoob.com>\n",
      "From: \"Mr. Ben Suleman\" <bensul2004nng@spinfinder.com>\n",
      "From: \"PRINCE OBONG ELEME\" <obong_715@epatra.com>\n",
      "From: \"PRINCE OBONG ELEME\" <obong_715@epatra.com>\n",
      "From: \"Maryam Abacha\" <m_abacha03@www.com>\n"
     ]
    }
   ],
   "source": [
    "for line in re.findall(\"From:.*\", fh):\n",
    "    print(line)"
   ]
  },
  {
   "cell_type": "code",
   "execution_count": 6,
   "metadata": {},
   "outputs": [
    {
     "name": "stdout",
     "output_type": "stream",
     "text": [
      "From: \n",
      "From: \n",
      "From: \n",
      "From: \n",
      "From: \n"
     ]
    }
   ],
   "source": [
    "for line in re.findall(\"From:.\", fh):\n",
    "    print(line)"
   ]
  },
  {
   "cell_type": "code",
   "execution_count": 7,
   "metadata": {},
   "outputs": [
    {
     "name": "stdout",
     "output_type": "stream",
     "text": [
      "From: \"MR. JAMES\n",
      "From: \"Mr. Ben S\n",
      "From: \"PRINCE OB\n",
      "From: \"PRINCE OB\n",
      "From: \"Maryam Ab\n"
     ]
    }
   ],
   "source": [
    "for line in re.findall(\"From:...........\", fh):\n",
    "    print(line)"
   ]
  },
  {
   "cell_type": "markdown",
   "metadata": {},
   "source": [
    "till the end of the line"
   ]
  },
  {
   "cell_type": "code",
   "execution_count": 8,
   "metadata": {},
   "outputs": [
    {
     "name": "stdout",
     "output_type": "stream",
     "text": [
      "From: \"MR. JAMES NGOLA.\" <james_ngola2002@maktoob.com>\n",
      "From: \"Mr. Ben Suleman\" <bensul2004nng@spinfinder.com>\n",
      "From: \"PRINCE OBONG ELEME\" <obong_715@epatra.com>\n",
      "From: \"PRINCE OBONG ELEME\" <obong_715@epatra.com>\n",
      "From: \"Maryam Abacha\" <m_abacha03@www.com>\n"
     ]
    }
   ],
   "source": [
    "for line in re.findall(\"From:.*\", fh):\n",
    "    print(line)"
   ]
  },
  {
   "cell_type": "markdown",
   "metadata": {},
   "source": [
    "find only name"
   ]
  },
  {
   "cell_type": "code",
   "execution_count": 9,
   "metadata": {},
   "outputs": [
    {
     "name": "stdout",
     "output_type": "stream",
     "text": [
      "['\"MR. JAMES NGOLA.\"']\n",
      "['\"Mr. Ben Suleman\"']\n",
      "['\"PRINCE OBONG ELEME\"']\n",
      "['\"PRINCE OBONG ELEME\"']\n",
      "['\"Maryam Abacha\"']\n"
     ]
    }
   ],
   "source": [
    "match = re.findall(\"From:.*\", fh)\n",
    "\n",
    "for line in match:\n",
    "     print(re.findall(\"\\\".*\\\"\", line))"
   ]
  },
  {
   "cell_type": "markdown",
   "metadata": {},
   "source": [
    "get email"
   ]
  },
  {
   "cell_type": "code",
   "execution_count": 10,
   "metadata": {},
   "outputs": [
    {
     "name": "stdout",
     "output_type": "stream",
     "text": [
      "['james_ngola2002@maktoob.com']\n",
      "['bensul2004nng@spinfinder.com']\n",
      "['obong_715@epatra.com']\n",
      "['obong_715@epatra.com']\n",
      "['m_abacha03@www.com']\n"
     ]
    }
   ],
   "source": [
    "match = re.findall(\"From:.*\", fh)\n",
    "\n",
    "for line in match:\n",
    "     print(re.findall(\"\\w\\S*@.*\\w\", line))"
   ]
  },
  {
   "cell_type": "markdown",
   "metadata": {},
   "source": [
    "Here’s how we match just the front part of the email address:"
   ]
  },
  {
   "cell_type": "code",
   "execution_count": 11,
   "metadata": {},
   "outputs": [
    {
     "name": "stdout",
     "output_type": "stream",
     "text": [
      "['james_ngola2002@']\n",
      "['bensul2004nng@']\n",
      "['obong_715@']\n",
      "['obong_715@']\n",
      "['m_abacha03@']\n"
     ]
    }
   ],
   "source": [
    "for line in match:\n",
    "     print(re.findall(\"\\w\\S*@\", line))"
   ]
  },
  {
   "cell_type": "markdown",
   "metadata": {},
   "source": [
    "Emails always contain an @ symbol, so we start with it. The part of the email before the @ symbol might contain alphanumeric characters, which means \\w is required. However, because some emails contain a period or a dash, that’s not enough. We add \\S to look for non-whitespace characters. But, \\w\\S will get only two characters. Add * to look for repetitions. The front part of the pattern thus looks like this: \\w\\S*@."
   ]
  },
  {
   "cell_type": "markdown",
   "metadata": {},
   "source": [
    "Now for the pattern behind the @ symbol:"
   ]
  },
  {
   "cell_type": "code",
   "execution_count": 12,
   "metadata": {},
   "outputs": [
    {
     "name": "stdout",
     "output_type": "stream",
     "text": [
      "['@maktoob.com>']\n",
      "['@spinfinder.com>']\n",
      "['@epatra.com>']\n",
      "['@epatra.com>']\n",
      "['@www.com>']\n"
     ]
    }
   ],
   "source": [
    "for line in match:\n",
    "     print(re.findall(\"@.*\", line))"
   ]
  },
  {
   "cell_type": "markdown",
   "metadata": {},
   "source": [
    "If we look at the line closely, we see that each email is encapsulated within angle brackets, < and >. Our pattern, .*, includes the closing bracket, >. Let’s remedy it:"
   ]
  },
  {
   "cell_type": "code",
   "execution_count": 13,
   "metadata": {},
   "outputs": [
    {
     "name": "stdout",
     "output_type": "stream",
     "text": [
      "['@maktoob.com']\n",
      "['@spinfinder.com']\n",
      "['@epatra.com']\n",
      "['@epatra.com']\n",
      "['@www.com']\n"
     ]
    }
   ],
   "source": [
    "for line in match:\n",
    "     print(re.findall(\"@.*\\w\", line))"
   ]
  },
  {
   "cell_type": "markdown",
   "metadata": {},
   "source": [
    "Email addresses end with an alphanumeric character, so we cap the pattern with \\w. Hence, the rear of the @ symbol is .*\\w, which means that the pattern we want is a group of any type of characters that ends with an alphanumeric character. This excludes >."
   ]
  },
  {
   "cell_type": "markdown",
   "metadata": {},
   "source": [
    "Our full email address pattern thus looks like this: \\w\\S*@.*\\w.\n",
    "\n",
    "That was quite a bit to work through! It does take a short while to get used to regex, but, once you get a handle on its patterns, you’ll be able to code for string analysis a lot faster. Next, we’ll run through some common re functions that will be useful when we start reorganizing the Corpus."
   ]
  },
  {
   "cell_type": "markdown",
   "metadata": {},
   "source": [
    "## Common regex functions"
   ]
  },
  {
   "cell_type": "markdown",
   "metadata": {},
   "source": [
    "## re.search()"
   ]
  },
  {
   "cell_type": "markdown",
   "metadata": {},
   "source": [
    "While re.findall() matches all instances of a pattern in a string and returns them in a list, re.search() matches the first instance of a pattern in a string, and returns it as a re match object."
   ]
  },
  {
   "cell_type": "code",
   "execution_count": 14,
   "metadata": {},
   "outputs": [
    {
     "name": "stdout",
     "output_type": "stream",
     "text": [
      "<class '_sre.SRE_Match'>\n",
      "<class 'str'>\n",
      "<_sre.SRE_Match object; span=(190, 244), match='From: \"MR. JAMES NGOLA.\" <james_ngola2002@maktoob>\n",
      "From: \"MR. JAMES NGOLA.\" <james_ngola2002@maktoob.com>\n"
     ]
    }
   ],
   "source": [
    "match = re.search(\"From:.*\", fh)\n",
    "print(type(match))\n",
    "print(type(match.group()))\n",
    "print(match)\n",
    "print(match.group())"
   ]
  },
  {
   "cell_type": "markdown",
   "metadata": {},
   "source": [
    "Like re.findall(), re.search() also takes two arguments. The first is the pattern to match, and the second is the string to find it in. Here, we’ve assigned the results to the match variable for neatness.\n",
    "\n",
    "Because re.search() returns a re match object, we can’t display the name and email address by printing it directly. Instead, we have to apply the group() function to it first. We’ve printed both their types out in the code above. As we can see, group() converts the match object into a string.\n",
    "\n",
    "We can also see that printing match displays properties beyond the string itself, whereas printing match.group() displays only the string."
   ]
  },
  {
   "cell_type": "markdown",
   "metadata": {},
   "source": [
    "## re.split()"
   ]
  },
  {
   "cell_type": "markdown",
   "metadata": {},
   "source": [
    "Suppose we need a quick way to get the domain name of the email addresses. We could do it with three regex operations, like so:"
   ]
  },
  {
   "cell_type": "code",
   "execution_count": 15,
   "metadata": {},
   "outputs": [
    {
     "name": "stdout",
     "output_type": "stream",
     "text": [
      "james_ngola2002, maktoob.com\n",
      "bensul2004nng, spinfinder.com\n",
      "obong_715, epatra.com\n",
      "obong_715, epatra.com\n",
      "m_abacha03, www.com\n"
     ]
    }
   ],
   "source": [
    "address = re.findall(\"From:.*\", fh)\n",
    "for item in address:\n",
    "    for line in re.findall(\"\\w\\S*@.*\\w\", item):\n",
    "        username, domain_name = re.split(\"@\", line)\n",
    "        print(\"{}, {}\".format(username, domain_name))"
   ]
  },
  {
   "cell_type": "markdown",
   "metadata": {},
   "source": [
    "The first line is familiar. We return a list of strings, each containing the contents of the From: field, and assign it to a variable. Next, we iterate through the list to find the email addresses. At the same time, we iterate through the email addresses and use the re module’s split() function to snip each address in half, with the @ symbol as the delimiter. Finally, we print it."
   ]
  },
  {
   "cell_type": "markdown",
   "metadata": {},
   "source": [
    "## re.sub()"
   ]
  },
  {
   "cell_type": "markdown",
   "metadata": {},
   "source": [
    "Another handy re function is re.sub(). As the function name suggests, it substitutes parts of a string. An example:"
   ]
  },
  {
   "cell_type": "code",
   "execution_count": 16,
   "metadata": {},
   "outputs": [
    {
     "name": "stdout",
     "output_type": "stream",
     "text": [
      "From: \"MR. JAMES NGOLA.\" <james_ngola2002@maktoob.com>\n",
      "Email: \"MR. JAMES NGOLA.\" <james_ngola2002@maktoob.com>\n"
     ]
    }
   ],
   "source": [
    "sender = re.search(\"From:.*\", fh)\n",
    "address = sender.group()\n",
    "email = re.sub(\"From\", \"Email\", address)\n",
    "print(address)\n",
    "print(email)"
   ]
  },
  {
   "cell_type": "markdown",
   "metadata": {},
   "source": [
    "Here, we’ve already seen the tasks on the first and second lines performed before. On the third line, we apply re.sub() on address, which is the full From: field in the email header.\n",
    "\n",
    "re.sub() takes three arguments. The first is the substring to substitute, the second is a string we want in its place, and the third is the main string itself."
   ]
  },
  {
   "cell_type": "markdown",
   "metadata": {},
   "source": [
    "## Regex with pandas"
   ]
  },
  {
   "cell_type": "markdown",
   "metadata": {},
   "source": [
    "Now that we have the basics of regex in hand, we can try something much more sophisticated. However, we need to combine regex with the pandas Python data analysis library. Pandas is immeasurably useful for organising data into neat tables, also known as dataframes, and for understanding it from different angles. Combined with regex’s economical code, it’s like carving soft butter with an extra sharp knife."
   ]
  },
  {
   "cell_type": "markdown",
   "metadata": {},
   "source": [
    "## Sorting emails with regex and pandas"
   ]
  },
  {
   "cell_type": "markdown",
   "metadata": {},
   "source": [
    "The Corpus is a single text file containing thousands of emails. We’ll use regex and pandas to sort the parts of each email into appropriate categories so that the Corpus can be more easily read or analysed."
   ]
  },
  {
   "cell_type": "markdown",
   "metadata": {},
   "source": [
    "Each of these categories will become a column in our pandas dataframe or table. This is useful because it lets us work on each column on its own. For instance, we could write code to find out which domain names the emails come from, instead of coding to isolate the email addresses from the other parts first. Essentially, categorising the important parts of our data set allows us to write much more concise code to acquire granular information later on. In turn, concise code reduces the number of operations our machines have to do, which speeds up our analytical process, especially when working with massive data sets."
   ]
  },
  {
   "cell_type": "markdown",
   "metadata": {},
   "source": [
    "## Preparing the script"
   ]
  },
  {
   "cell_type": "markdown",
   "metadata": {},
   "source": [
    "We’ve played through a simpler script above. Let’s start from scratch so it’s clear how all of it comes together."
   ]
  },
  {
   "cell_type": "code",
   "execution_count": 19,
   "metadata": {},
   "outputs": [],
   "source": [
    "emails = []\n",
    "\n",
    "fh = open(r\"data/test_emails.txt\", \"r\").read()"
   ]
  },
  {
   "cell_type": "markdown",
   "metadata": {},
   "source": [
    "We first import the re and pandas modules as standard practice dictates, right at the top of the script. We import Python’s email package as well, which is especially needed for the body of the email. The body of the email is rather complicated to work with using regex alone. It might even require enough cleaning up to warrant its own tutorial. So, we use the well-developed email package to save some time and let us focus on learning regex.\n",
    "\n",
    "Next, we create an empty list, emails, which will store dictionaries. Each dictionary will contain the details of each email.\n",
    "\n",
    "We print the results of our code to the screen frequently to illustrate where code goes right or wrong. However, because there are thousands of emails in the data set, this prints thousands of lines to the screen and clogs up this tutorial page. We certainly don’t want to make you scroll down thousands of lines of results over and over again. Thus, as we’ve done at the beginning of the tutorial, we open and read a shorter version of the Corpus. We prepared it by hand just for the purposes of this tutorial. You can use the actual data set at home though. Every time we run a print() function, you’ll print thousands of lines to the screen in barely a few seconds.\n",
    "\n",
    "Now, we begin applying regex."
   ]
  },
  {
   "cell_type": "code",
   "execution_count": 20,
   "metadata": {},
   "outputs": [
    {
     "data": {
      "text/plain": [
       "''"
      ]
     },
     "execution_count": 20,
     "metadata": {},
     "output_type": "execute_result"
    }
   ],
   "source": [
    "contents = re.split(r\"From r\", fh)\n",
    "contents.pop(0)"
   ]
  },
  {
   "cell_type": "markdown",
   "metadata": {},
   "source": [
    "We use the re module’s split function to split the entire chunk of text in fh into a list of separate emails, which we assign to the variable contents. This is important because we want to work on the emails one by one, by iterating through the list with a for loop. But, how do we know to split by the string \"From r\"? We know this because we looked into the file before we wrote the script. We didn’t have to peruse the thousands of emails in there. Just the first few, to see what the structure of the data looks like. As it so happens, each email is preceded by the string \"From r\"."
   ]
  },
  {
   "cell_type": "markdown",
   "metadata": {},
   "source": [
    "The green block is the first email. The blue block is the second email. As we can see, both emails start with \"From r\", highlighted with red boxes.\n",
    "\n",
    "One reason we use the Fraudulent Email Corpus in this tutorial is to show that when data is disorganised, unfamiliar, and comes without documentation, we can’t rely solely on code to sort it out. It would require a pair of human eyes. As we’ve just shown, we had to look into the Corpus itself to study its structure. In addition, such data may require a lot of cleaning up, as does this Corpus. For instance, even though we count 3977 emails in this set using the full script we’re about to construct for this tutorial, there are actually more. Some emails are not preceded by \"From r\", and so are not split into their own. We leave our data set as it is for now, though, lest this tutorial never ends.\n",
    "\n",
    "Notice also that we use contents.pop(0) to get rid of the first element in the list. That’s because a \"From r\" string precedes the first email. When that string is split, it produces an empty string at index 0. The script we’re about to write is designed for emails. If it works on an empty string, it might throw up errors. Getting rid of the empty string lets us avoid these errors from breaking our script."
   ]
  },
  {
   "cell_type": "markdown",
   "metadata": {},
   "source": [
    "## Getting every name and address with a for loop"
   ]
  },
  {
   "cell_type": "markdown",
   "metadata": {},
   "source": [
    "Next, we work with the emails in the contents list."
   ]
  },
  {
   "cell_type": "code",
   "execution_count": 21,
   "metadata": {
    "collapsed": true
   },
   "outputs": [],
   "source": [
    "for item in contents:\n",
    "    emails_dict = {}"
   ]
  },
  {
   "cell_type": "markdown",
   "metadata": {},
   "source": [
    "In the code above, we use a for loop to iterate through contents so we can work with each email in turn. We create a dictionary, emails_dict, that will hold all the details of each email, such as the sender’s address and name. In fact, these are the first items we find.\n",
    "\n",
    "This is a three-step process. It begins by finding the From: field."
   ]
  },
  {
   "cell_type": "markdown",
   "metadata": {},
   "source": [
    "With Step 1, we find the entire From: field using the re.search() function. The . means any character except \\n, and * extends it to the end of the line. We then assign this to the variable sender.\n",
    "\n",
    "But, data isn’t always straightforward. It can contain surprises. For instance, what if there’s no From: field? The script would throw an error and break. We pre-empt errors from this scenario in Step 2."
   ]
  },
  {
   "cell_type": "markdown",
   "metadata": {},
   "source": [
    "To avoid errors resulting from missing From: fields, we use an if statement to check that sender isn’t None. If it is, we assign s_email and s_name the value of None so that the script can move on instead of breaking unexpectedly.\n",
    "\n",
    "Although this tutorial makes working with regex (and pandas below) look quite straightforward, your actual experience won’t be as clean. For instance, we look like we naturally know to use if-else statements to check for data that might or might not exist. In truth, the reason we know is that we tried the script out again and again on the Corpus while writing it. Writing code is an iterative process. It’s worth noting that even if tutorials seem sensibly linear, actual practice involves a lot more experimentation."
   ]
  },
  {
   "cell_type": "markdown",
   "metadata": {},
   "source": [
    "In Step 2, we use a familiar regex pattern from before, \\w\\S*@.*\\w, which matches the email address.\n",
    "\n",
    "We use a different tactic for the name. Each name is bounded by the colon, :, of the substring \"From:\" on the left, and by the opening angle bracket, <, of the email address on the right. Hence, we use :.*< to find the name. We get rid of : and < from each result in a moment.\n",
    "\n",
    "Now, let’s print out the results of our code to see how they look."
   ]
  },
  {
   "cell_type": "markdown",
   "metadata": {},
   "source": [
    "In Step 3A, we use an if statement to check that s_email is not None, otherwise it would throw an error and break the script.\n",
    "\n",
    "Then, we simply convert the s_email match object into a string and assign it to the sender_email variable. We add this to the emails_dict dictionary, which will make it incredibly easy for us to turn the details into a pandas dataframe later on.\n",
    "\n",
    "We do almost exactly the same for s_name in Step 3B."
   ]
  },
  {
   "cell_type": "code",
   "execution_count": 29,
   "metadata": {},
   "outputs": [
    {
     "name": "stdout",
     "output_type": "stream",
     "text": [
      "james_ngola2002@maktoob.com\n",
      "\"MR. JAMES NGOLA.\"\n",
      "bensul2004nng@spinfinder.com\n",
      "\"Mr. Ben Suleman\"\n",
      "obong_715@epatra.com\n",
      "\"PRINCE OBONG ELEME\"\n",
      "obong_715@epatra.com\n",
      "\"PRINCE OBONG ELEME\"\n",
      "m_abacha03@www.com\n",
      "\"Maryam Abacha\"\n"
     ]
    }
   ],
   "source": [
    "for item in contents: # First two lines again so that Jupyter runs the code.\n",
    "    emails_dict = {}\n",
    "\n",
    "# Find sender's email address and name.\n",
    "\n",
    "    # Step 1: find the whole line beginning with \"From:\".\n",
    "    sender = re.search(r\"From:.*\", item)\n",
    "    \n",
    "      # Step 2: find the email address and name.\n",
    "    if sender is not None:\n",
    "        s_email = re.search(r\"\\w\\S*@.*\\w\", sender.group())\n",
    "        s_name = re.search(r\":.*<\", sender.group())\n",
    "    else:\n",
    "        s_email = None\n",
    "        s_name = None\n",
    "        \n",
    "#     print(\"sender type: \" + str(type(sender)))\n",
    "#     print(\"sender.group() type: \" + str(type(sender.group())))\n",
    "#     print(\"sender: \" + str(sender))\n",
    "#     print(\"sender.group(): \" + str(sender.group()))\n",
    "#     print(\"\\n\")\n",
    "    \n",
    "#     print(s_email)\n",
    "#     print(s_name)\n",
    "    \n",
    "     # Step 3A: assign email address as string to a variable.\n",
    "    if s_email is not None:\n",
    "        sender_email = s_email.group()\n",
    "    else:\n",
    "        sender_email = None\n",
    "    \n",
    "    # Add email address to dictionary.\n",
    "    emails_dict[\"sender_email\"] = sender_email\n",
    "    \n",
    "     # Step 3B: remove unwanted substrings, assign to variable.\n",
    "    if s_name is not None:\n",
    "        sender_name = re.sub(\"\\s*<\", \"\", re.sub(\":\\s*\", \"\", s_name.group()))\n",
    "    else:\n",
    "        sender_name = None\n",
    "    \n",
    "    # Add sender's name to dictionary.\n",
    "    emails_dict[\"sender_name\"] = sender_name\n",
    "    \n",
    "    print(sender_email)\n",
    "    print(sender_name)\n",
    "    \n",
    "    recipient = re.search(r\"To:.*\", item)\n",
    "    if recipient is not None:\n",
    "        r_email = re.search(r\"\\w\\S*@.*\\w\", recipient.group())\n",
    "        r_name = re.search(r\":.*<\", recipient.group())\n",
    "    else:\n",
    "        r_email = None\n",
    "        r_name = None\n",
    "        \n",
    "    if r_email is not None:\n",
    "        recipient_email = r_email.group()\n",
    "    else:\n",
    "        recipient_email = None\n",
    "\n",
    "    emails_dict[\"recipient_email\"] = recipient_email\n",
    "\n",
    "    if r_name is not None:\n",
    "        recipient_name = re.sub(\"\\s*<\", \"\", re.sub(\":\\s*\", \"\", r_name.group()))\n",
    "    else:\n",
    "        recipient_name = None\n",
    "\n",
    "    emails_dict[\"recipient_name\"] = recipient_name"
   ]
  },
  {
   "cell_type": "markdown",
   "metadata": {},
   "source": [
    "## Getting the date of the email"
   ]
  },
  {
   "cell_type": "markdown",
   "metadata": {},
   "source": [
    "We’ve printed out date_field.group() so that we can see the structure of the string more clearly. It includes the day, the date in DD MMM YYYY format, and the time. We want just the date. The code for the date is largely the same as for names and email addresses but simpler. Perhaps the only puzzler here is the regex pattern, \\d+\\s\\w+\\s\\d+.\n",
    "\n",
    "The date starts with a number. Hence, we use \\d to account for it. However, as the DD part of the date, it could be either one or two digits. Here is where + becomes important. In regex, + matches 1 or more instances of a pattern on its left. \\d+ would thus match the DD part of the date no matter if it is one or two digits.\n",
    "\n",
    "After that, there’s a space. This is accounted for by \\s, which looks for whitespace characters. The month is made up of three alphabetical letters, hence \\w+. Then it hits another space, \\s. The year is made up of numbers, so we use \\d+ once more.\n",
    "\n",
    "The full pattern, \\d+\\s\\w+\\s\\d+, works because it is a precise pattern bounded on both sides by whitespace characters."
   ]
  },
  {
   "cell_type": "markdown",
   "metadata": {},
   "source": [
    "If we use *, we’d be matching zero or more occurrences. + matches one or more occurrences. We’ve printed the results for both scenarios. It’s a big difference. As you can see, + acquires the full date whereas * gets a space and the digit 1."
   ]
  },
  {
   "cell_type": "code",
   "execution_count": 34,
   "metadata": {},
   "outputs": [
    {
     "name": "stdout",
     "output_type": "stream",
     "text": [
      "31 Oct 2002\n",
      " 31 \n",
      "31 Oct 2002\n",
      " 31 \n",
      "31 Oct 2002\n",
      " 31 \n",
      "31 Oct 2002\n",
      " 31 \n",
      "1 Nov 2002\n",
      " 1 \n"
     ]
    }
   ],
   "source": [
    "for item in contents: # First two lines again so that Jupyter runs the code.\n",
    "    emails_dict = {}\n",
    "    \n",
    "    date_field = re.search(r\"Date:.*\", item)\n",
    "    \n",
    "    if date_field is not None:\n",
    "        date = re.search(r\"\\d+\\s\\w+\\s\\d+\", date_field.group())\n",
    "    else:\n",
    "        date = None\n",
    "    \n",
    "#     print(date_field.group())\n",
    "    \n",
    "    # What happens when we use * instead?\n",
    "    date_star_test = re.search(r\"\\d*\\s\\w*\\s\\d*\", date_field.group())\n",
    "    \n",
    "    if date is not None:\n",
    "        date_sent = date.group()\n",
    "        date_star = date_star_test.group()\n",
    "    else:\n",
    "        date_sent = None\n",
    "        \n",
    "    print(date_sent)\n",
    "    print(date_star)\n",
    "\n",
    "    emails_dict[\"date_sent\"] = date_sent"
   ]
  },
  {
   "cell_type": "markdown",
   "metadata": {},
   "source": [
    "## Getting the email subject"
   ]
  },
  {
   "cell_type": "markdown",
   "metadata": {},
   "source": [
    "As before, we use the same code and code structure to acquire the information we need."
   ]
  },
  {
   "cell_type": "code",
   "execution_count": 35,
   "metadata": {
    "collapsed": true
   },
   "outputs": [],
   "source": [
    "for item in contents: # First two lines again so that Jupyter runs the code.\n",
    "    emails_dict = {}\n",
    "    \n",
    "    subject_field = re.search(r\"Subject: .*\", item)\n",
    "    \n",
    "    if subject_field is not None:\n",
    "        subject = re.sub(r\"Subject: \", \"\", subject_field.group())\n",
    "    else:\n",
    "        subject = None\n",
    "\n",
    "    emails_dict[\"subject\"] = subject"
   ]
  },
  {
   "cell_type": "markdown",
   "metadata": {},
   "source": [
    "We’re becoming more familiar with the use of regex now, aren’t we? It’s largely the same code as before, except that we substitute \"Subject: \" with an empty string to get only the subject itself."
   ]
  },
  {
   "cell_type": "markdown",
   "metadata": {},
   "source": [
    "## Getting the body of the email"
   ]
  },
  {
   "cell_type": "markdown",
   "metadata": {},
   "source": [
    "The last item to insert into our dictionary is the body of the email."
   ]
  },
  {
   "cell_type": "code",
   "execution_count": 36,
   "metadata": {
    "collapsed": true
   },
   "outputs": [],
   "source": [
    "for item in contents: \n",
    "    emails_dict = {}\n",
    "    full_email = email.message_from_string(item)\n",
    "    body = full_email.get_payload()\n",
    "    emails_dict[\"email_body\"] = body"
   ]
  },
  {
   "cell_type": "markdown",
   "metadata": {},
   "source": [
    "Separating the header from the body of an email is an awfully complicated task, especially when many of the headers are different in one way or another. Consistency is seldom found in raw unorganised data. Luckily for us, the work’s already been done. Python’s email package is highly adept at this task.\n",
    "\n",
    "Remember that we’ve already imported the package earlier. Now, we apply its message_from_string() function to  item, to turn the full email into an email Message object. A Message object consists of a header and a payload, which correspond to the header and body of an email.\n",
    "\n",
    "Next, we apply its get_payload() function on the Message object. This function isolates the body of the email. We assign it to the variable body, which we then insert into our emails_dict dictionary under the key \"email_body\"."
   ]
  },
  {
   "cell_type": "markdown",
   "metadata": {},
   "source": [
    "## Why the email package and not regex for the body"
   ]
  },
  {
   "cell_type": "markdown",
   "metadata": {},
   "source": [
    "You may ask, why use the email package rather than regex? This is because there’s no good way to do it with regex at the moment that doesn’t require significant amounts of cleaning up. It would mean another sheet of code that probably deserves its own tutorial.\n",
    "\n",
    "It’s worth checking out how we arrive at decisions like this one. However, we need to understand what square brackets, [ ], mean in regex before we can do that.\n",
    "\n",
    "[ ] matches any character placed inside them. For instance, if we want to find \"a\", \"b\", or \"c\" in a string, we can use [abc] as the pattern. The patterns we discussed above apply as well. [\\w\\s] would find either alphanumeric or whitespace characters. The exception is ., which becomes a literal period within square brackets.\n",
    "\n",
    "Now, we can better understand how we made the decision to use the email package instead.\n",
    "\n",
    "A peek at the data set reveals that email headers stop at the strings \"Status: 0\" or \"Status: R0\", and end before the string \"From r\" of the next email. We could thus use Status:\\s*\\w*\\n*[\\s\\S]*From\\sr* to acquire only the email body. [\\s\\S]* works for large chunks of text, numbers, and punctuation because it searches for either whitespace or non-whitespace characters.\n",
    "\n",
    "Unfortunately, some emails have more than one \"Status:\" string and others don’t contain \"From r\", which means that we would split the emails into more or less than the number of dictionaries in the emails list. They would not match with the other categories we already have. It becomes problematic when working with pandas. Hence, we elected to leverage the email package."
   ]
  },
  {
   "cell_type": "markdown",
   "metadata": {},
   "source": [
    "## Create the list of dictionaries"
   ]
  },
  {
   "cell_type": "markdown",
   "metadata": {},
   "source": [
    "Finally, append the dictionary, emails_dict, to the emails list:"
   ]
  },
  {
   "cell_type": "code",
   "execution_count": 37,
   "metadata": {
    "collapsed": true
   },
   "outputs": [],
   "source": [
    "    emails.append(emails_dict)"
   ]
  },
  {
   "cell_type": "markdown",
   "metadata": {},
   "source": [
    "You might want to print the emails list at this point to see how it looks. You can also run print(len(emails_dict)) to see how many dictionaries, and therefore emails, are in the list. As we mentioned before, the full Corpus contains 3977. Our little test file contains seven. Here’s the code in full:"
   ]
  },
  {
   "cell_type": "code",
   "execution_count": 39,
   "metadata": {},
   "outputs": [
    {
     "name": "stdout",
     "output_type": "stream",
     "text": [
      "Number of emails: 7\n",
      "\n",
      "\n",
      "date_sent: 31 Oct 2002\n",
      "recipient_name: None\n",
      "sender_name: \"MR. JAMES NGOLA.\"\n",
      "email_body: email body here\n",
      "subject: URGENT BUSINESS ASSISTANCE AND PARTNERSHIP\n",
      "recipient_email: james_ngola2002@maktoob.com\n",
      "sender_email: james_ngola2002@maktoob.com\n"
     ]
    }
   ],
   "source": [
    "import re\n",
    "import pandas as pd\n",
    "import email\n",
    "\n",
    "emails = []\n",
    "\n",
    "fh = open(r\"data/test_emails.txt\", \"r\").read()\n",
    "\n",
    "contents = re.split(r\"From r\",fh)\n",
    "contents.pop(0)\n",
    "\n",
    "for item in contents:\n",
    "    emails_dict = {}\n",
    "\n",
    "    sender = re.search(r\"From:.*\", item)\n",
    "    \n",
    "    if sender is not None:\n",
    "        s_email = re.search(r\"\\w\\S*@.*\\w\", sender.group())\n",
    "        s_name = re.search(r\":.*<\", sender.group())\n",
    "    else:\n",
    "        s_email = None\n",
    "        s_name = None\n",
    "\n",
    "    if s_email is not None:\n",
    "        sender_email = s_email.group()\n",
    "    else:\n",
    "        sender_email = None\n",
    "\n",
    "    emails_dict[\"sender_email\"] = sender_email\n",
    "\n",
    "    if s_name is not None:\n",
    "        sender_name = re.sub(\"\\s*<\", \"\", re.sub(\":\\s*\", \"\", s_name.group()))\n",
    "    else:\n",
    "        sender_name = None\n",
    "\n",
    "    emails_dict[\"sender_name\"] = sender_name\n",
    "\n",
    "    recipient = re.search(r\"To:.*\", item)\n",
    "    \n",
    "    if recipient is not None:\n",
    "        r_email = re.search(r\"\\w\\S*@.*\\w\", recipient.group())\n",
    "        r_name = re.search(r\":.*<\", recipient.group())\n",
    "    else:\n",
    "        r_email = None\n",
    "        r_name = None\n",
    "\n",
    "    if r_email is not None:\n",
    "        recipient_email = r_email.group()\n",
    "    else:\n",
    "        recipient_email = None\n",
    "\n",
    "    emails_dict[\"recipient_email\"] = recipient_email\n",
    "\n",
    "    if r_name is not None:\n",
    "        recipient_name = re.sub(\"\\s*<\", \"\", re.sub(\":\\s*\", \"\", r_name.group()))\n",
    "    else:\n",
    "        recipient_name = None\n",
    "\n",
    "    emails_dict[\"recipient_name\"] = recipient_name\n",
    "\n",
    "    date_field = re.search(r\"Date:.*\", item)\n",
    "    \n",
    "    if date_field is not None:\n",
    "        date = re.search(r\"\\d+\\s\\w+\\s\\d+\", date_field.group())\n",
    "    else:\n",
    "        date = None\n",
    "\n",
    "    if date is not None:\n",
    "        date_sent = date.group()\n",
    "    else:\n",
    "        date_sent = None\n",
    "\n",
    "    emails_dict[\"date_sent\"] = date_sent\n",
    "\n",
    "    subject_field = re.search(r\"Subject: .*\", item)\n",
    "    \n",
    "    if subject_field is not None:\n",
    "        subject = re.sub(r\"Subject: \", \"\", subject_field.group())\n",
    "    else:\n",
    "        subject = None\n",
    "\n",
    "    emails_dict[\"subject\"] = subject\n",
    "    \n",
    "    # \"item\" substituted with \"email content here\" so full email not displayed.\n",
    "\n",
    "    full_email = email.message_from_string(item)\n",
    "    body = full_email.get_payload()\n",
    "    emails_dict[\"email_body\"] = \"email body here\"\n",
    "\n",
    "    emails.append(emails_dict)\n",
    "\n",
    "# Print number of dictionaries, and hence, emails, in the list.\n",
    "print(\"Number of emails: \" + str(len(emails_dict)))\n",
    "\n",
    "print(\"\\n\")\n",
    "\n",
    "# Print first item in the emails list to see how it looks.\n",
    "for key, value in emails[0].items():\n",
    "    print(str(key) + \": \" + str(emails[0][key]))"
   ]
  },
  {
   "cell_type": "code",
   "execution_count": 49,
   "metadata": {},
   "outputs": [
    {
     "data": {
      "text/plain": [
       "'Dear sir, \\n \\nIt is with a heart full of hope that I write to seek your help in respect of the context below. I am Mrs. Maryam Abacha the former first lady of the former Military Head of State of Nigeria General Sani Abacha whose sudden death occurred on 8th of June 1998 as a result of cardiac arrest (heart attack) while on the seat of power. \\nI have no doubt about your capability and good-will to assist me in receiving into your custody (for safety) the sum of US$25 Million willed and deposited in my favour by my late husband in a security and deposit company. Though my contact to you for this assistance is not anchored on any personal ecommendation, I pray your understanding, good will and sincere assistance to respond to this message with honest intensions and concern. \\nThis money is currently deposited here with a security company as miscellaneous awaiting collection and according to the agreement entered into at the time of deposit between my late husband and the Security Company at the time of deposit; the collection centre is in Ghana. As it is legally required, the administration of my late husband\\'s properties is under the authority of the family\\'s lawyer Tony Musa. \\n \\nMy Dear JK, since the demise of my husband, the present regime has been probing my late husband\\'s wealth and properties, the London Newsweek of 13th march 2000 referred. The investigating team led by Enrico Monfrini, the lawyer acting on behalf of the Nigerian government has so far submitted their report and presently, some liquid cash and assets, movable and immovable, have been frozen and seized both locally here and internationally and my last hope is rested on the immediate security of this fund in your custody. Also, Johnnie Cochran, the lawyer who defended OJ Simpson, has been brought in by the Abacha entourage to help them retain the disputed funds. Fortunately, our family lawyer had secretly protected the \"Personal will\" of my husband from the notice of the investigators and have strictly advised that the willed money be urgently moved into an overseas account of Trusted Foreign family friend without delay. For security reasons and f!\\nurther advise,! no relations or fr! \\niends of ours should be used; as this is a measure of security. The government had earlier placed foreign travel embargo on all our family members and seized all known local and International outfits of our business empire. \\nThe situation has been so terrible that we are virtually living on the assistance of well-wishers. In view of this plight, I expect you to be trustworthy and kind enough to respond to this \"SOS\" call to save my children and I from a hopeless future. \\nI hereby agree to compensate your sincere and candid effort, immensely, which will be discussed between you, the Attorney and I. On your immediate response, the Attorney will travel to Ghana where both of you will meet, and thereafter proceed to the deposit company for the claims. \\nThe documentations include, most importantly, Power of Attorney and Certificate of Deposit amongst few others. These documents will be sent to you by Fax, as you would have to present them for proper claims. \\nPlease, be rest assured that this transaction is completely safe and legal but must be kept strictly to yourself even after the funds have been secured into our custody. This is so because any leakage of information could ruin the whole transaction. \\nPlease all contacts must be made through my lawyer on his email: tony_m@lawyer.com This has to be so as he has been mandated to handle this matter and I have fully briefed him (my Attorney) on my contact to you. Due to my present circumstance, I have handed everything over to him to co - ordinate and finalize with you and I will communicate you as at when necessary. Please for the safety of this transaction, reply stating your phone and fax numbers to enable them contact you directly without running the risk of mail interception. \\nI look forward to your quick response. \\nBest Wishes, \\nMrs. Maryam Abacha \\n \\n\\n\\n'"
      ]
     },
     "execution_count": 49,
     "metadata": {},
     "output_type": "execute_result"
    }
   ],
   "source": [
    "body"
   ]
  },
  {
   "cell_type": "code",
   "execution_count": 48,
   "metadata": {},
   "outputs": [
    {
     "data": {
      "text/plain": [
       "[{'date_sent': '31 Oct 2002',\n",
       "  'email_body': 'email body here',\n",
       "  'recipient_email': 'james_ngola2002@maktoob.com',\n",
       "  'recipient_name': None,\n",
       "  'sender_email': 'james_ngola2002@maktoob.com',\n",
       "  'sender_name': '\"MR. JAMES NGOLA.\"',\n",
       "  'subject': 'URGENT BUSINESS ASSISTANCE AND PARTNERSHIP'},\n",
       " {'date_sent': '31 Oct 2002',\n",
       "  'email_body': 'email body here',\n",
       "  'recipient_email': 'R@M',\n",
       "  'recipient_name': None,\n",
       "  'sender_email': 'bensul2004nng@spinfinder.com',\n",
       "  'sender_name': '\"Mr. Ben Suleman\"',\n",
       "  'subject': 'URGENT ASSISTANCE /RELATIONSHIP (P)'},\n",
       " {'date_sent': '31 Oct 2002',\n",
       "  'email_body': 'email body here',\n",
       "  'recipient_email': 'obong_715@epatra.com',\n",
       "  'recipient_name': None,\n",
       "  'sender_email': 'obong_715@epatra.com',\n",
       "  'sender_name': '\"PRINCE OBONG ELEME\"',\n",
       "  'subject': 'GOOD DAY TO YOU'},\n",
       " {'date_sent': '31 Oct 2002',\n",
       "  'email_body': 'email body here',\n",
       "  'recipient_email': 'webmaster@aclweb.org',\n",
       "  'recipient_name': None,\n",
       "  'sender_email': 'obong_715@epatra.com',\n",
       "  'sender_name': '\"PRINCE OBONG ELEME\"',\n",
       "  'subject': 'GOOD DAY TO YOU'},\n",
       " {'date_sent': '1 Nov 2002',\n",
       "  'email_body': 'email body here',\n",
       "  'recipient_email': 'm_abacha03@www.com',\n",
       "  'recipient_name': None,\n",
       "  'sender_email': 'm_abacha03@www.com',\n",
       "  'sender_name': '\"Maryam Abacha\"',\n",
       "  'subject': 'I Need Your Assistance.'}]"
      ]
     },
     "execution_count": 48,
     "metadata": {},
     "output_type": "execute_result"
    }
   ],
   "source": [
    "emails"
   ]
  },
  {
   "cell_type": "markdown",
   "metadata": {},
   "source": [
    "We’ve printed out the first item in the emails list, and it’s clearly a dictionary with key and value pairs. Because we used a for loop, every dictionary has the same keys but different values.\n",
    "\n",
    "We’ve substituted item with \"email content here\" so that we don’t print out the entire mass of the email and clog up our screens. If you’re printing this at home using the actual data set, you’ll see the entire email."
   ]
  },
  {
   "cell_type": "markdown",
   "metadata": {},
   "source": [
    "## Manipulating data with pandas"
   ]
  },
  {
   "cell_type": "markdown",
   "metadata": {},
   "source": [
    "With dictionaries in a list, we’ve made it infinitely easy for the pandas library to do its job. Each key will become a column title, and each value becomes a row in that column.\n",
    "\n",
    "All we have to do is apply the following code:"
   ]
  },
  {
   "cell_type": "code",
   "execution_count": 41,
   "metadata": {
    "collapsed": true
   },
   "outputs": [],
   "source": [
    "import pandas as pd # Module imported above, imported again as reminder.\n",
    "emails_df = pd.DataFrame(emails)"
   ]
  },
  {
   "cell_type": "markdown",
   "metadata": {},
   "source": [
    "With this single line, we turn the emails list of dictionaries into a dataframe using the pandas DataFrame() function. We assign it to a variable too.\n",
    "\n",
    "That’s it. We now have a sophisticated pandas dataframe. This is essentially a neat and clean table containing all the information we’ve extracted from the emails.\n",
    "\n",
    "Let’s look at the first few rows."
   ]
  },
  {
   "cell_type": "code",
   "execution_count": 42,
   "metadata": {},
   "outputs": [
    {
     "data": {
      "text/html": [
       "<div>\n",
       "<style>\n",
       "    .dataframe thead tr:only-child th {\n",
       "        text-align: right;\n",
       "    }\n",
       "\n",
       "    .dataframe thead th {\n",
       "        text-align: left;\n",
       "    }\n",
       "\n",
       "    .dataframe tbody tr th {\n",
       "        vertical-align: top;\n",
       "    }\n",
       "</style>\n",
       "<table border=\"1\" class=\"dataframe\">\n",
       "  <thead>\n",
       "    <tr style=\"text-align: right;\">\n",
       "      <th></th>\n",
       "      <th>date_sent</th>\n",
       "      <th>email_body</th>\n",
       "      <th>recipient_email</th>\n",
       "      <th>recipient_name</th>\n",
       "      <th>sender_email</th>\n",
       "      <th>sender_name</th>\n",
       "      <th>subject</th>\n",
       "    </tr>\n",
       "  </thead>\n",
       "  <tbody>\n",
       "    <tr>\n",
       "      <th>0</th>\n",
       "      <td>31 Oct 2002</td>\n",
       "      <td>email body here</td>\n",
       "      <td>james_ngola2002@maktoob.com</td>\n",
       "      <td>None</td>\n",
       "      <td>james_ngola2002@maktoob.com</td>\n",
       "      <td>\"MR. JAMES NGOLA.\"</td>\n",
       "      <td>URGENT BUSINESS ASSISTANCE AND PARTNERSHIP</td>\n",
       "    </tr>\n",
       "    <tr>\n",
       "      <th>1</th>\n",
       "      <td>31 Oct 2002</td>\n",
       "      <td>email body here</td>\n",
       "      <td>R@M</td>\n",
       "      <td>None</td>\n",
       "      <td>bensul2004nng@spinfinder.com</td>\n",
       "      <td>\"Mr. Ben Suleman\"</td>\n",
       "      <td>URGENT ASSISTANCE /RELATIONSHIP (P)</td>\n",
       "    </tr>\n",
       "    <tr>\n",
       "      <th>2</th>\n",
       "      <td>31 Oct 2002</td>\n",
       "      <td>email body here</td>\n",
       "      <td>obong_715@epatra.com</td>\n",
       "      <td>None</td>\n",
       "      <td>obong_715@epatra.com</td>\n",
       "      <td>\"PRINCE OBONG ELEME\"</td>\n",
       "      <td>GOOD DAY TO YOU</td>\n",
       "    </tr>\n",
       "  </tbody>\n",
       "</table>\n",
       "</div>"
      ],
      "text/plain": [
       "     date_sent       email_body              recipient_email recipient_name  \\\n",
       "0  31 Oct 2002  email body here  james_ngola2002@maktoob.com           None   \n",
       "1  31 Oct 2002  email body here                          R@M           None   \n",
       "2  31 Oct 2002  email body here         obong_715@epatra.com           None   \n",
       "\n",
       "                   sender_email           sender_name  \\\n",
       "0   james_ngola2002@maktoob.com    \"MR. JAMES NGOLA.\"   \n",
       "1  bensul2004nng@spinfinder.com     \"Mr. Ben Suleman\"   \n",
       "2          obong_715@epatra.com  \"PRINCE OBONG ELEME\"   \n",
       "\n",
       "                                      subject  \n",
       "0  URGENT BUSINESS ASSISTANCE AND PARTNERSHIP  \n",
       "1         URGENT ASSISTANCE /RELATIONSHIP (P)  \n",
       "2                             GOOD DAY TO YOU  "
      ]
     },
     "execution_count": 42,
     "metadata": {},
     "output_type": "execute_result"
    }
   ],
   "source": [
    "pd.DataFrame.head(emails_df, n=3)"
   ]
  },
  {
   "cell_type": "markdown",
   "metadata": {},
   "source": [
    "The dataframe.head() function displays just the first few rows rather than the entire data set. It takes one argument. An optional argument allows us to specify how many rows we want displayed. Here, n=3 lets us view three rows.\n",
    "\n",
    "We can also find precisely what we want. For instance, we can find all the emails sent from a particular domain name. However, let’s learn a new regex pattern to improve our precision in finding the items we want.\n",
    "\n",
    "The pipe symbol, |, looks for characters on either side of itself. For instance, a|b looks for either a or b.\n",
    "\n",
    "| might seem to do the same as [ ], but they really are different. Suppose we want to match either \"crab\", \"lobster\", or \"isopod\". Using crab|lobster|isopod would make more sense than [crablobsterisopod], wouldn’t it? The former would look for each whole word, whereas the latter would look for every single letter.\n",
    "\n",
    "Now, let’s use | to find all the emails sent from one or another domain name."
   ]
  },
  {
   "cell_type": "code",
   "execution_count": 43,
   "metadata": {},
   "outputs": [
    {
     "data": {
      "text/html": [
       "<div>\n",
       "<style>\n",
       "    .dataframe thead tr:only-child th {\n",
       "        text-align: right;\n",
       "    }\n",
       "\n",
       "    .dataframe thead th {\n",
       "        text-align: left;\n",
       "    }\n",
       "\n",
       "    .dataframe tbody tr th {\n",
       "        vertical-align: top;\n",
       "    }\n",
       "</style>\n",
       "<table border=\"1\" class=\"dataframe\">\n",
       "  <thead>\n",
       "    <tr style=\"text-align: right;\">\n",
       "      <th></th>\n",
       "      <th>date_sent</th>\n",
       "      <th>email_body</th>\n",
       "      <th>recipient_email</th>\n",
       "      <th>recipient_name</th>\n",
       "      <th>sender_email</th>\n",
       "      <th>sender_name</th>\n",
       "      <th>subject</th>\n",
       "    </tr>\n",
       "  </thead>\n",
       "  <tbody>\n",
       "    <tr>\n",
       "      <th>0</th>\n",
       "      <td>31 Oct 2002</td>\n",
       "      <td>email body here</td>\n",
       "      <td>james_ngola2002@maktoob.com</td>\n",
       "      <td>None</td>\n",
       "      <td>james_ngola2002@maktoob.com</td>\n",
       "      <td>\"MR. JAMES NGOLA.\"</td>\n",
       "      <td>URGENT BUSINESS ASSISTANCE AND PARTNERSHIP</td>\n",
       "    </tr>\n",
       "    <tr>\n",
       "      <th>1</th>\n",
       "      <td>31 Oct 2002</td>\n",
       "      <td>email body here</td>\n",
       "      <td>R@M</td>\n",
       "      <td>None</td>\n",
       "      <td>bensul2004nng@spinfinder.com</td>\n",
       "      <td>\"Mr. Ben Suleman\"</td>\n",
       "      <td>URGENT ASSISTANCE /RELATIONSHIP (P)</td>\n",
       "    </tr>\n",
       "  </tbody>\n",
       "</table>\n",
       "</div>"
      ],
      "text/plain": [
       "     date_sent       email_body              recipient_email recipient_name  \\\n",
       "0  31 Oct 2002  email body here  james_ngola2002@maktoob.com           None   \n",
       "1  31 Oct 2002  email body here                          R@M           None   \n",
       "\n",
       "                   sender_email         sender_name  \\\n",
       "0   james_ngola2002@maktoob.com  \"MR. JAMES NGOLA.\"   \n",
       "1  bensul2004nng@spinfinder.com   \"Mr. Ben Suleman\"   \n",
       "\n",
       "                                      subject  \n",
       "0  URGENT BUSINESS ASSISTANCE AND PARTNERSHIP  \n",
       "1         URGENT ASSISTANCE /RELATIONSHIP (P)  "
      ]
     },
     "execution_count": 43,
     "metadata": {},
     "output_type": "execute_result"
    }
   ],
   "source": [
    "emails_df[emails_df[\"sender_email\"].str.contains(\"maktoob|spinfinder\")]"
   ]
  },
  {
   "cell_type": "markdown",
   "metadata": {},
   "source": [
    "We’ve used a rather lengthy line of code here. Let’s start from the inside out.\n",
    "\n",
    "emails_df['sender_email'] selects the column labelled sender_email. Next, str.contains(maktoob|spinfinder) returns True if the substring \"maktoob\" or \"spinfinder\" is found in that column. Finally, the outer emails_df[] returns a view of the rows where the sender_email column contains the target substrings. Nifty!\n",
    "\n",
    "We can view emails from individual cells too. To do this, we go through four steps. In Step 1, we find the index of the row where the \"sender_email\" column contains the string \"@maktoob\". Notice how we use regex to do this."
   ]
  },
  {
   "cell_type": "code",
   "execution_count": 44,
   "metadata": {
    "collapsed": true
   },
   "outputs": [],
   "source": [
    "# Step 1: find the index where the \"sender_email\" column contains \"@maktoob.com\".\n",
    "index = emails_df[emails_df[\"sender_email\"].str.contains(r\"\\w\\S*@maktoob.com\")].index.values"
   ]
  },
  {
   "cell_type": "markdown",
   "metadata": {},
   "source": [
    "In Step 2, we use the index to find the email address, which the loc[] method returns as a Series object with several different properties. We print it out below to see what it looks like."
   ]
  },
  {
   "cell_type": "code",
   "execution_count": 45,
   "metadata": {},
   "outputs": [
    {
     "name": "stdout",
     "output_type": "stream",
     "text": [
      "0    james_ngola2002@maktoob.com\n",
      "Name: sender_email, dtype: object\n",
      "<class 'pandas.core.series.Series'>\n"
     ]
    }
   ],
   "source": [
    "# Step 2: use the index to find the value of the cell in the \"sender_email\" column.\n",
    "# The result is returned as pandas Series object\n",
    "address_Series = emails_df.loc[index][\"sender_email\"]\n",
    "print(address_Series)\n",
    "print(type(address_Series))"
   ]
  },
  {
   "cell_type": "markdown",
   "metadata": {},
   "source": [
    "In Step 3, we extract the email address from the Series object as we would items from a list. You can see that its type is now class."
   ]
  },
  {
   "cell_type": "code",
   "execution_count": 46,
   "metadata": {},
   "outputs": [
    {
     "name": "stdout",
     "output_type": "stream",
     "text": [
      "james_ngola2002@maktoob.com\n",
      "<class 'str'>\n"
     ]
    }
   ],
   "source": [
    "# Step 3: extract the email address, which is at index 0 in the Series object.\n",
    "address_string = address_Series[0]\n",
    "print(address_string)\n",
    "print(type(address_string))"
   ]
  },
  {
   "cell_type": "markdown",
   "metadata": {},
   "source": [
    "Step 4 is where we extract the email body."
   ]
  },
  {
   "cell_type": "code",
   "execution_count": 47,
   "metadata": {},
   "outputs": [
    {
     "name": "stdout",
     "output_type": "stream",
     "text": [
      "['email body here']\n"
     ]
    }
   ],
   "source": [
    "# Step 4: find the value of the \"email_body\" column where the \"sender email\" column is address_string.\n",
    "print(emails_df[emails_df[\"sender_email\"] == address_string][\"email_body\"].values)"
   ]
  },
  {
   "cell_type": "markdown",
   "metadata": {},
   "source": [
    "In Step 4, emails_df['sender_email'] == \"james_ngola2002@maktoob.com\" finds the row where the sender_email column contains the value \"james_ngola2002@maktoob.com\". Next, ['email_body'].values finds the value of the email_body column in that same row. Finally, we print out the value.\n",
    "\n",
    "As you can see, we can work with regex in many ways and it plays splendidly with pandas too."
   ]
  },
  {
   "cell_type": "code",
   "execution_count": null,
   "metadata": {
    "collapsed": true
   },
   "outputs": [],
   "source": []
  }
 ],
 "metadata": {
  "kernelspec": {
   "display_name": "Python 3",
   "language": "python",
   "name": "python3"
  },
  "language_info": {
   "codemirror_mode": {
    "name": "ipython",
    "version": 3
   },
   "file_extension": ".py",
   "mimetype": "text/x-python",
   "name": "python",
   "nbconvert_exporter": "python",
   "pygments_lexer": "ipython3",
   "version": "3.5.4"
  }
 },
 "nbformat": 4,
 "nbformat_minor": 2
}
