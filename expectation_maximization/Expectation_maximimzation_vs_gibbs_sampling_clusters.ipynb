{
 "cells": [
  {
   "cell_type": "markdown",
   "metadata": {},
   "source": [
    "Source: https://stats.stackexchange.com/questions/72774/numerical-example-to-understand-expectation-maximization Suppose we have two groups - red and blue. Specifically, each group contains a value drawn from a normal distribution with the following parameters:"
   ]
  },
  {
   "cell_type": "code",
   "execution_count": 20,
   "metadata": {},
   "outputs": [],
   "source": [
    "import numpy as np\n",
    "import pandas as pd\n",
    "from scipy import stats\n",
    "import matplotlib.pyplot as plt\n",
    "from collections import namedtuple, Counter\n",
    "\n",
    "np.random.seed(110) # for reproducible random results"
   ]
  },
  {
   "cell_type": "markdown",
   "metadata": {},
   "source": [
    "## More automatic example"
   ]
  },
  {
   "cell_type": "markdown",
   "metadata": {},
   "source": [
    "## Helpers EM"
   ]
  },
  {
   "cell_type": "code",
   "execution_count": 3,
   "metadata": {},
   "outputs": [],
   "source": [
    "def estimate_initial_params(data, n_clusters):\n",
    "    means=np.random.choice(data, size=n_clusters, replace=False)\n",
    "    stds=np.array([0.1 for i in range(n_clusters)])\n",
    "    return means, stds"
   ]
  },
  {
   "cell_type": "code",
   "execution_count": 4,
   "metadata": {},
   "outputs": [],
   "source": [
    "def calculate_likelihood(data, class_means, class_stds):\n",
    "    likelihoods=np.array([stats.norm(mean, std).pdf(data) for mean, std in zip(class_means, class_stds)])\n",
    "    likelihoods_sum=likelihoods.sum(axis=0)\n",
    "    classes_weights=likelihoods/likelihoods_sum\n",
    "    \n",
    "    return classes_weights.T\n",
    "    "
   ]
  },
  {
   "cell_type": "code",
   "execution_count": 5,
   "metadata": {},
   "outputs": [],
   "source": [
    "def estimate_mean(data, weight):\n",
    "    return np.sum(data * weight) / np.sum(weight)\n",
    "\n",
    "def estimate_std(data, weight, mean):\n",
    "    variance = np.sum(weight * (data - mean)**2) / np.sum(weight)\n",
    "    return np.sqrt(variance)"
   ]
  },
  {
   "cell_type": "code",
   "execution_count": 6,
   "metadata": {},
   "outputs": [],
   "source": [
    "def estimate_means_stds(data, weights):\n",
    "    means=[estimate_mean(data, weight) for weight in weights]\n",
    "    stds=[estimate_std(data, weight, mean) for weight, mean in zip(weights, means)]\n",
    "    return means, stds"
   ]
  },
  {
   "cell_type": "code",
   "execution_count": 7,
   "metadata": {},
   "outputs": [],
   "source": [
    "def em(data, n_clusters, n_iters=50):\n",
    "    means, stds = estimate_initial_params(data, n_clusters)\n",
    "    \n",
    "    for i in range(n_iters):\n",
    "        class_weights = calculate_likelihood(data, means, stds) \n",
    "        means, stds = estimate_means_stds(df.data, class_weights.T)\n",
    "        \n",
    "    return means, stds, class_weights"
   ]
  },
  {
   "cell_type": "markdown",
   "metadata": {},
   "source": [
    "#### run example"
   ]
  },
  {
   "cell_type": "code",
   "execution_count": 11,
   "metadata": {},
   "outputs": [],
   "source": [
    "df=pd.read_csv('clusters.csv')\n",
    "df.columns=['id', 'data']"
   ]
  },
  {
   "cell_type": "code",
   "execution_count": 12,
   "metadata": {},
   "outputs": [],
   "source": [
    "means, stds, class_weigths = em(df.data, 3, n_iters=20)"
   ]
  },
  {
   "cell_type": "code",
   "execution_count": 13,
   "metadata": {},
   "outputs": [],
   "source": [
    "def plot_data_results(df_data, means, stds):\n",
    "    ax=df_data.hist(bins=20, density=True)\n",
    "    x = np.arange(df_data.min(),df_data.max(), 0.001)\n",
    "    \n",
    "    for i in range(len(means)):\n",
    "        plt.plot(x, stats.norm.pdf(x, means[i], stds[i]), color='red')\n"
   ]
  },
  {
   "cell_type": "code",
   "execution_count": 14,
   "metadata": {},
   "outputs": [
    {
     "data": {
      "image/png": "[encoded data removed]",
      "text/plain": [
       "<Figure size 432x288 with 1 Axes>"
      ]
     },
     "metadata": {
      "needs_background": "light"
     },
     "output_type": "display_data"
    }
   ],
   "source": [
    "plot_data_results(df.data, means, stds)"
   ]
  },
  {
   "cell_type": "code",
   "execution_count": 15,
   "metadata": {},
   "outputs": [],
   "source": [
    "class_id=class_weigths.argmax(axis=1)"
   ]
  },
  {
   "cell_type": "code",
   "execution_count": 16,
   "metadata": {},
   "outputs": [],
   "source": [
    "def plot_clusters(data, class_weights):\n",
    "    class_id=class_weigths.argmax(axis=1)\n",
    "    gby = pd.DataFrame({\n",
    "            'data': data, \n",
    "            'assignment': class_id}\n",
    "        ).groupby(by='assignment')['data']\n",
    "    hist_data = [gby.get_group(cid).tolist() \n",
    "                 for cid in gby.groups.keys()]\n",
    "    plt.hist(hist_data, \n",
    "             bins=20,\n",
    "             histtype='stepfilled', alpha=.2 )"
   ]
  },
  {
   "cell_type": "code",
   "execution_count": 18,
   "metadata": {},
   "outputs": [
    {
     "data": {
      "image/png": "[encoded data removed]",
      "text/plain": [
       "<Figure size 432x288 with 1 Axes>"
      ]
     },
     "metadata": {
      "needs_background": "light"
     },
     "output_type": "display_data"
    }
   ],
   "source": [
    "#nicely separated\n",
    "plot_clusters(df.data, class_weigths)"
   ]
  },
  {
   "cell_type": "markdown",
   "metadata": {},
   "source": [
    "## Gibbs sampling"
   ]
  },
  {
   "cell_type": "code",
   "execution_count": 55,
   "metadata": {},
   "outputs": [
    {
     "data": {
      "text/plain": [
       "[SuffStat(theta=-0.006666114310027213, N=204),\n",
       " SuffStat(theta=0.5968496069309959, N=493),\n",
       " SuffStat(theta=-0.40827312621996686, N=302)]"
      ]
     },
     "execution_count": 55,
     "metadata": {},
     "output_type": "execute_result"
    }
   ],
   "source": [
    "state['suffstats']"
   ]
  },
  {
   "cell_type": "markdown",
   "metadata": {},
   "source": [
    "### helpers"
   ]
  },
  {
   "cell_type": "code",
   "execution_count": 38,
   "metadata": {},
   "outputs": [],
   "source": [
    "SuffStat = namedtuple('SuffStat', 'theta N')\n",
    "\n",
    "def update_suffstats(state):\n",
    "    for cluster_id, N in Counter(state['assignment']).items():\n",
    "        points_in_cluster = [x \n",
    "            for x, cid in zip(state['data_'], state['assignment'])\n",
    "            if cid == cluster_id\n",
    "        ]\n",
    "        mean = np.array(points_in_cluster).mean()\n",
    "        \n",
    "        state['suffstats'][cluster_id] = SuffStat(mean, N)\n",
    "\n",
    "def initial_state(data, num_clusters):\n",
    "    num_clusters = num_clusters\n",
    "    alpha = 1.0\n",
    "    cluster_ids = range(num_clusters)\n",
    "\n",
    "    state = {\n",
    "        'cluster_ids_': cluster_ids,\n",
    "        'data_': data,\n",
    "        'num_clusters_': num_clusters,\n",
    "        'cluster_variance_': .01,\n",
    "        'alpha_': alpha,\n",
    "        'hyperparameters_': {\n",
    "            \"mean\": 0,\n",
    "            \"variance\": 1,\n",
    "        },\n",
    "        'suffstats': [None, None, None],\n",
    "        'assignment': [np.random.choice(cluster_ids) for _ in data],\n",
    "        'pi': [alpha / num_clusters for _ in cluster_ids],\n",
    "        'cluster_means': np.random.choice(data, size=num_clusters, replace=False)\n",
    "    }\n",
    "    update_suffstats(state)\n",
    "    return state\n"
   ]
  },
  {
   "cell_type": "code",
   "execution_count": 69,
   "metadata": {},
   "outputs": [],
   "source": [
    "cluster_ids = range(3)\n",
    "assign= [np.random.choice(cluster_ids) for _ in df.data]\n",
    "    \n",
    "\n"
   ]
  },
  {
   "cell_type": "code",
   "execution_count": 72,
   "metadata": {},
   "outputs": [],
   "source": [
    "def update_suffstats2(data, assignments):\n",
    "    assignments=np.array(assignments)\n",
    "    suffstat=[]\n",
    "    for cluster_idx in list(set(assignments)):\n",
    "        cluster_data_idx=assignments[assignments==cluster_idx]\n",
    "        mean=data[cluster_data_idx].mean()\n",
    "        N=len(cluster_data_idx)\n",
    "        \n",
    "        suffstat.append(SuffStat(mean, N))\n",
    "    return suffstat"
   ]
  },
  {
   "cell_type": "code",
   "execution_count": 82,
   "metadata": {},
   "outputs": [],
   "source": [
    "def log_assignment_score(data_point, cluster_mean, cluster_variance, pi_cluster):\n",
    "    \"\"\"log p(z_i=k \\,|\\, \\cdot) \n",
    "    \n",
    "    We compute these scores in log space for numerical stability.\n",
    "    \"\"\"\n",
    "    x = data_point\n",
    "    theta = cluster_mean\n",
    "    var = cluster_variance\n",
    "    log_pi = np.log(pi_cluster)\n",
    "    return log_pi + stats.norm.logpdf(x, theta, var)\n",
    "\n",
    "\n",
    "def assigment_probs(data_point, cluster_means, cluster_variance, pi):\n",
    "    \"\"\"p(z_i=cid \\,|\\, \\cdot) for cid in cluster_ids\n",
    "    \"\"\"\n",
    "    scores = [log_assignment_score(data_point, cluster_means[cid], cluster_variance, pi[cid]) for cid in cluster_ids]\n",
    "\n",
    "    scores = np.exp(np.array(scores))\n",
    "    return scores / scores.sum()\n",
    "\n",
    "\n",
    "def sample_assignment(data_point, cluster_ids, cluster_means, cluster_variance, pi):\n",
    "    \"\"\"Sample cluster assignment for data_id given current state\n",
    "    \n",
    "    cf Step 1 of Algorithm 2.1 in Sudderth 2006 http://cs.brown.edu/~sudderth/papers/sudderthPhD.pdf\n",
    "    \"\"\"\n",
    "    try:\n",
    "        p = assigment_probs(data_point, cluster_means, cluster_variance, pi)\n",
    "        return np.random.choice(cluster_ids, p=p)\n",
    "    except:\n",
    "        #hack, sometimes all p-s are zero, then return cluster 0\n",
    "        return 0\n",
    "\n",
    "\n",
    "def update_assignment(data, cluster_ids, cluster_means, cluster_variance, pi, assignments):\n",
    "    \"\"\"Update cluster assignment for each data point given current state \n",
    "    \n",
    "    cf Step 1 of Algorithm 2.1 in Sudderth 2006\n",
    "    \"\"\"\n",
    "    for data_id, data_point in enumerate(data):\n",
    "        assignments[data_id] = sample_assignment(data_point, cluster_ids, cluster_means, cluster_variance, pi)\n",
    "#     update_suffstats(state)\n",
    "    suffstat = update_suffstats2(data, assignments)\n",
    "    return assignments, suffstat"
   ]
  },
  {
   "cell_type": "code",
   "execution_count": 76,
   "metadata": {},
   "outputs": [],
   "source": [
    "def sample_mixture_weights(alpha, num_clusters, cluster_ids, suffstats):\n",
    "    \"\"\"Sample new mixture weights from current state according to \n",
    "    a Dirichlet distribution \n",
    "    \n",
    "    cf Step 2 of Algorithm 2.1 in Sudderth 2006\n",
    "    \"\"\"\n",
    "    ss = suffstats\n",
    "    alpha = [ss[cid].N + alpha / num_clusters\n",
    "             for cid in cluster_ids]\n",
    "    return stats.dirichlet(alpha).rvs(size=1).flatten()\n",
    "\n",
    "def update_mixture_weights(alpha, num_clusters, cluster_ids, suffstats, pi):\n",
    "    \"\"\"Update state with new mixture weights from current state\n",
    "    sampled according to a Dirichlet distribution \n",
    "    \n",
    "    cf Step 2 of Algorithm 2.1 in Sudderth 2006\n",
    "    \"\"\"\n",
    "    pi = sample_mixture_weights(alpha, num_clusters, cluster_ids, suffstats)\n",
    "    return pi"
   ]
  },
  {
   "cell_type": "code",
   "execution_count": 77,
   "metadata": {},
   "outputs": [],
   "source": [
    "def sample_cluster_mean(cluster_id, cluster_var, hp_mean, hp_var, suffstats_cluster):\n",
    "#     cluster_var = state['cluster_variance_']\n",
    "#     hp_mean = state['hyperparameters_']['mean']\n",
    "#     hp_var = state['hyperparameters_']['variance']\n",
    "    ss = suffstats_cluster\n",
    "    \n",
    "    numerator = hp_mean / hp_var + ss.theta * ss.N / cluster_var\n",
    "    denominator = (1.0 / hp_var + ss.N / cluster_var)\n",
    "    posterior_mu = numerator / denominator\n",
    "    posterior_var = 1.0 / denominator\n",
    "    \n",
    "    return stats.norm(posterior_mu, np.sqrt(posterior_var)).rvs()\n",
    "\n",
    "\n",
    "def update_cluster_means(cluster_ids, cluster_variance, hp_mean, hp_var, suffstats):\n",
    "    cluster_means = [sample_cluster_mean(cid, cluster_variance, hp_mean, hp_var, suffstats[cid])\n",
    "                              for cid in cluster_ids]\n",
    "    return cluster_means"
   ]
  },
  {
   "cell_type": "markdown",
   "metadata": {},
   "source": [
    "## Run experiment"
   ]
  },
  {
   "cell_type": "code",
   "execution_count": 47,
   "metadata": {},
   "outputs": [],
   "source": [
    "def gibbs(data, num_clusters, num_steps=5, cluster_variance=0.1, alpha=1.0, hp_mean=0, hp_var=1):\n",
    "    \n",
    "    #init variables\n",
    "    cluster_ids = range(num_clusters)\n",
    "    assignments = [np.random.choice(cluster_ids) for _ in data]\n",
    "    pi = [alpha / num_clusters for _ in cluster_ids]\n",
    "    cluster_means = np.random.choice(data, size=num_clusters, replace=False)\n",
    "    suffstats = update_suffstats2(data, assignments)\n",
    "    \n",
    "    for i in range(num_steps):\n",
    "        assignments, suffstat = update_assignment(data, cluster_ids, cluster_means, cluster_variance, pi, assignments)\n",
    "        pi = update_mixture_weights(alpha, num_clusters, cluster_ids, suffstats, pi)\n",
    "        cluster_means = update_cluster_means(cluster_ids, cluster_variance, hp_mean, hp_var, suffstats)\n",
    "    return assignments, cluster_means, pi"
   ]
  },
  {
   "cell_type": "code",
   "execution_count": 99,
   "metadata": {},
   "outputs": [],
   "source": [
    "assignments, cluster_means, pi=gibbs(df.data, 3, num_steps=20)"
   ]
  },
  {
   "cell_type": "code",
   "execution_count": 100,
   "metadata": {},
   "outputs": [
    {
     "data": {
      "text/plain": [
       "(array([[  2.,   9.,  25.,  45.,  35.,  28.,  14.,  33.,  45.,  43.,  22.,\n",
       "           1.,   0.,   0.,   0.,   0.,   0.,   0.,   0.,   0.],\n",
       "        [  3.,  22.,  31.,  50.,  31.,  15.,  10.,  10.,  11.,  10.,   4.,\n",
       "           0.,   0.,   0.,   0.,   0.,   0.,   0.,   0.,   0.],\n",
       "        [  0.,   0.,   0.,   0.,   0.,   0.,   0.,   0.,   0.,   0.,   0.,\n",
       "           7.,   1.,  10.,  49., 116., 152., 108.,  42.,  15.]]),\n",
       " array([-0.69068298, -0.61257196, -0.53446093, -0.45634991, -0.37823889,\n",
       "        -0.30012787, -0.22201684, -0.14390582, -0.0657948 ,  0.01231622,\n",
       "         0.09042724,  0.16853827,  0.24664929,  0.32476031,  0.40287133,\n",
       "         0.48098236,  0.55909338,  0.6372044 ,  0.71531542,  0.79342644,\n",
       "         0.87153747]),\n",
       " <a list of 3 list[Polygon] objects>)"
      ]
     },
     "execution_count": 100,
     "metadata": {},
     "output_type": "execute_result"
    },
    {
     "data": {
      "image/png": "[encoded data removed]",
      "text/plain": [
       "<Figure size 432x288 with 1 Axes>"
      ]
     },
     "metadata": {
      "needs_background": "light"
     },
     "output_type": "display_data"
    }
   ],
   "source": [
    "gby = pd.DataFrame({\n",
    "            'data': df.data, \n",
    "            'assignment': assignments}\n",
    "        ).groupby(by='assignment')['data']\n",
    "hist_data = [gby.get_group(cid).tolist() \n",
    "             for cid in gby.groups.keys()]\n",
    "plt.hist(hist_data, \n",
    "         bins=20,\n",
    "         histtype='stepfilled', alpha=.2 )"
   ]
  },
  {
   "cell_type": "code",
   "execution_count": null,
   "metadata": {},
   "outputs": [],
   "source": []
  }
 ],
 "metadata": {
  "kernelspec": {
   "display_name": "Python 3 (ipykernel)",
   "language": "python",
   "name": "python3"
  },
  "language_info": {
   "codemirror_mode": {
    "name": "ipython",
    "version": 3
   },
   "file_extension": ".py",
   "mimetype": "text/x-python",
   "name": "python",
   "nbconvert_exporter": "python",
   "pygments_lexer": "ipython3",
   "version": "3.7.4"
  }
 },
 "nbformat": 4,
 "nbformat_minor": 2
}
