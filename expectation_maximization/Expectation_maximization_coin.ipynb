{
 "cells": [
  {
   "cell_type": "code",
   "execution_count": 2,
   "metadata": {},
   "outputs": [
    {
     "data": {
      "image/png": "[encoded data removed]",
      "text/plain": [
       "<matplotlib.figure.Figure at 0x7fe6ec142240>"
      ]
     },
     "metadata": {},
     "output_type": "display_data"
    }
   ],
   "source": [
    "import numpy as np\n",
    "import math\n",
    "import matplotlib.pyplot as plt\n",
    "#source: https://stats.stackexchange.com/questions/72774/numerical-example-to-understand-expectation-maximization\n",
    "\n",
    "## E-M Coin Toss Example as given in the EM tutorial paper by Do and Batzoglou* ##\n",
    "\n",
    "def get_binomial_log_likelihood(obs,probs):\n",
    "    \"\"\" Return the (log)likelihood of obs, given the probs\"\"\"\n",
    "    # Binomial Distribution Log PDF\n",
    "    # ln (pdf)      = Binomial Coeff * product of probabilities\n",
    "    # ln[f(x|n, p)] =   comb(N,k)    * num_heads*ln(pH) + (N-num_heads) * ln(1-pH)\n",
    "\n",
    "    N = sum(obs);#number of trials  \n",
    "    k = obs[0] # number of heads\n",
    "    binomial_coeff = math.factorial(N) / (math.factorial(N-k) * math.factorial(k))\n",
    "    prod_probs = obs[0]*math.log(probs[0]) + obs[1]*math.log(1-probs[0])\n",
    "    log_lik = binomial_coeff + prod_probs\n",
    "\n",
    "    return log_lik\n",
    "\n",
    "# 1st:  Coin B, {HTTTHHTHTH}, 5H,5T\n",
    "# 2nd:  Coin A, {HHHHTHHHHH}, 9H,1T\n",
    "# 3rd:  Coin A, {HTHHHHHTHH}, 8H,2T\n",
    "# 4th:  Coin B, {HTHTTTHHTT}, 4H,6T\n",
    "# 5th:  Coin A, {THHHTHHHTH}, 7H,3T\n",
    "# so, from MLE: pA(heads) = 0.80 and pB(heads)=0.45\n",
    "\n",
    "# represent the experiments\n",
    "head_counts = np.array([5,9,8,4,7])\n",
    "tail_counts = 10-head_counts\n",
    "experiments = list(zip(head_counts,tail_counts))\n",
    "\n",
    "# initialise the pA(heads) and pB(heads)\n",
    "pA_heads = np.zeros(100); pA_heads[0] = 0.60\n",
    "pB_heads = np.zeros(100); pB_heads[0] = 0.50\n",
    "\n",
    "# E-M begins!\n",
    "delta = 0.001  \n",
    "j = 0 # iteration counter\n",
    "improvement = float('inf')\n",
    "while (improvement>delta):\n",
    "    expectation_A = np.zeros((len(experiments),2), dtype=float) \n",
    "    expectation_B = np.zeros((len(experiments),2), dtype=float)\n",
    "    for i in range(0,len(experiments)):\n",
    "        e = experiments[i] # i'th experiment\n",
    "          # loglikelihood of e given coin A:\n",
    "        ll_A = get_binomial_log_likelihood(e,np.array([pA_heads[j],1-pA_heads[j]])) \n",
    "          # loglikelihood of e given coin B\n",
    "        ll_B = get_binomial_log_likelihood(e,np.array([pB_heads[j],1-pB_heads[j]])) \n",
    "\n",
    "          # corresponding weight of A proportional to likelihood of A \n",
    "        weightA = math.exp(ll_A) / ( math.exp(ll_A) + math.exp(ll_B) ) \n",
    "\n",
    "          # corresponding weight of B proportional to likelihood of B\n",
    "        weightB = math.exp(ll_B) / ( math.exp(ll_A) + math.exp(ll_B) ) \n",
    "\n",
    "        expectation_A[i] = np.dot(weightA, e) \n",
    "        expectation_B[i] = np.dot(weightB, e)\n",
    "\n",
    "    pA_heads[j+1] = sum(expectation_A)[0] / sum(sum(expectation_A)); \n",
    "    pB_heads[j+1] = sum(expectation_B)[0] / sum(sum(expectation_B)); \n",
    "\n",
    "    improvement = ( max( abs(np.array([pA_heads[j+1],pB_heads[j+1]]) - \n",
    "                    np.array([pA_heads[j],pB_heads[j]]) )) )\n",
    "    j = j+1\n",
    "\n",
    "plt.figure();\n",
    "plt.plot(range(0,j),pA_heads[0:j], 'r--')\n",
    "plt.plot(range(0,j),pB_heads[0:j])\n",
    "plt.show()"
   ]
  },
  {
   "cell_type": "code",
   "execution_count": null,
   "metadata": {
    "collapsed": true
   },
   "outputs": [],
   "source": []
  }
 ],
 "metadata": {
  "kernelspec": {
   "display_name": "Python 3",
   "language": "python",
   "name": "python3"
  },
  "language_info": {
   "codemirror_mode": {
    "name": "ipython",
    "version": 3
   },
   "file_extension": ".py",
   "mimetype": "text/x-python",
   "name": "python",
   "nbconvert_exporter": "python",
   "pygments_lexer": "ipython3",
   "version": "3.5.4"
  }
 },
 "nbformat": 4,
 "nbformat_minor": 2
}
