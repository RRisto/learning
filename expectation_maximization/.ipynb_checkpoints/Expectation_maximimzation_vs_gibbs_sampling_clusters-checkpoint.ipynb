{
 "cells": [
  {
   "cell_type": "markdown",
   "metadata": {},
   "source": [
    "Source: https://stats.stackexchange.com/questions/72774/numerical-example-to-understand-expectation-maximization Suppose we have two groups - red and blue. Specifically, each group contains a value drawn from a normal distribution with the following parameters:"
   ]
  },
  {
   "cell_type": "code",
   "execution_count": 1,
   "metadata": {},
   "outputs": [
    {
     "name": "stderr",
     "output_type": "stream",
     "text": [
      "C:\\Users\\risto\\Anaconda3\\lib\\site-packages\\numpy\\_distributor_init.py:32: UserWarning: loaded more than 1 DLL from .libs:\n",
      "C:\\Users\\risto\\Anaconda3\\lib\\site-packages\\numpy\\.libs\\libopenblas.PYQHXLVVQ7VESDPUVUADXEVJOBGHJPAY.gfortran-win_amd64.dll\n",
      "C:\\Users\\risto\\Anaconda3\\lib\\site-packages\\numpy\\.libs\\libopenblas.WCDJNK7YVMPZQ2ME2ZZHJJRJ3JIKNDB7.gfortran-win_amd64.dll\n",
      "  stacklevel=1)\n"
     ]
    }
   ],
   "source": [
    "import numpy as np\n",
    "import pandas as pd\n",
    "from scipy import stats\n",
    "import matplotlib.pyplot as plt\n",
    "from collections import namedtuple, Counter\n",
    "\n",
    "np.random.seed(110) # for reproducible random results"
   ]
  },
  {
   "cell_type": "markdown",
   "metadata": {},
   "source": [
    "## More automatic example"
   ]
  },
  {
   "cell_type": "markdown",
   "metadata": {},
   "source": [
    "## Helpers EM"
   ]
  },
  {
   "cell_type": "code",
   "execution_count": 2,
   "metadata": {},
   "outputs": [],
   "source": [
    "def estimate_initial_params(data, n_clusters):\n",
    "    means = np.random.choice(data, size=n_clusters, replace=False)\n",
    "    stds = np.array([0.1 for i in range(n_clusters)])\n",
    "    return means, stds"
   ]
  },
  {
   "cell_type": "code",
   "execution_count": 3,
   "metadata": {},
   "outputs": [],
   "source": [
    "def calculate_likelihood(data, class_means, class_stds):\n",
    "    likelihoods = np.array([stats.norm(mean, std).pdf(data) for mean, std in zip(class_means, class_stds)])\n",
    "    likelihoods_sum = likelihoods.sum(axis=0)\n",
    "    classes_weights = likelihoods/likelihoods_sum\n",
    "    \n",
    "    return classes_weights.T\n",
    "    "
   ]
  },
  {
   "cell_type": "code",
   "execution_count": 50,
   "metadata": {},
   "outputs": [],
   "source": [
    "def estimate_mean(data, weight):\n",
    "    return np.sum(data * weight) / np.sum(weight)\n",
    "\n",
    "def estimate_std(data, weight, mean):\n",
    "    variance = np.sum(weight * (data - mean)**2) / np.sum(weight)\n",
    "    return np.sqrt(variance)"
   ]
  },
  {
   "cell_type": "code",
   "execution_count": 51,
   "metadata": {},
   "outputs": [],
   "source": [
    "def estimate_means_stds(data, weights):\n",
    "    means = [estimate_mean(data, weight) for weight in weights]\n",
    "    stds = [estimate_std(data, weight, mean) for weight, mean in zip(weights, means)]\n",
    "    return means, stds"
   ]
  },
  {
   "cell_type": "code",
   "execution_count": 52,
   "metadata": {},
   "outputs": [],
   "source": [
    "def em(data, n_clusters, n_iters=50):\n",
    "    means, stds = estimate_initial_params(data, n_clusters)\n",
    "    \n",
    "    for i in range(n_iters):\n",
    "        class_weights = calculate_likelihood(data, means, stds) \n",
    "        means, stds = estimate_means_stds(data, class_weights.T)\n",
    "        \n",
    "    return means, stds, class_weights"
   ]
  },
  {
   "cell_type": "markdown",
   "metadata": {},
   "source": [
    "#### run example"
   ]
  },
  {
   "cell_type": "code",
   "execution_count": 53,
   "metadata": {},
   "outputs": [
    {
     "data": {
      "text/plain": [
       "(999, 2)"
      ]
     },
     "execution_count": 53,
     "metadata": {},
     "output_type": "execute_result"
    }
   ],
   "source": [
    "df = pd.read_csv('clusters.csv')\n",
    "df.columns = ['id', 'data']\n",
    "df.shape"
   ]
  },
  {
   "cell_type": "code",
   "execution_count": 54,
   "metadata": {},
   "outputs": [],
   "source": [
    "means, stds, class_weigths = em(df.data, 3, n_iters=1)"
   ]
  },
  {
   "cell_type": "code",
   "execution_count": 24,
   "metadata": {},
   "outputs": [],
   "source": [
    "def plot_data_results(df_data, means, stds):\n",
    "    ax=df_data.hist(bins=20, density=True)\n",
    "    x = np.arange(df_data.min(),df_data.max(), 0.001)\n",
    "    \n",
    "    for i in range(len(means)):\n",
    "        plt.plot(x, stats.norm.pdf(x, means[i], stds[i]), color='red')\n"
   ]
  },
  {
   "cell_type": "code",
   "execution_count": 25,
   "metadata": {},
   "outputs": [
    {
     "data": {
      "image/png": "[encoded data removed]",
      "text/plain": [
       "<Figure size 432x288 with 1 Axes>"
      ]
     },
     "metadata": {
      "needs_background": "light"
     },
     "output_type": "display_data"
    }
   ],
   "source": [
    "plot_data_results(df.data, means, stds)"
   ]
  },
  {
   "cell_type": "code",
   "execution_count": 26,
   "metadata": {},
   "outputs": [],
   "source": [
    "class_id = class_weigths.argmax(axis=1)"
   ]
  },
  {
   "cell_type": "code",
   "execution_count": 27,
   "metadata": {},
   "outputs": [],
   "source": [
    "def plot_clusters(data, class_weights=None, assignments=None):\n",
    "    if class_weights is not None:\n",
    "        assignments = class_weigths.argmax(axis=1)\n",
    "    gby = pd.DataFrame({\n",
    "            'data': data, \n",
    "            'assignment': assignments}\n",
    "        ).groupby(by='assignment')['data']\n",
    "    hist_data = [gby.get_group(cid).tolist() \n",
    "                 for cid in gby.groups.keys()]\n",
    "    plt.hist(hist_data, \n",
    "             bins=20,\n",
    "             histtype='stepfilled', alpha=.2 )"
   ]
  },
  {
   "cell_type": "code",
   "execution_count": 28,
   "metadata": {},
   "outputs": [
    {
     "data": {
      "image/png": "[encoded data removed]",
      "text/plain": [
       "<Figure size 432x288 with 1 Axes>"
      ]
     },
     "metadata": {
      "needs_background": "light"
     },
     "output_type": "display_data"
    }
   ],
   "source": [
    "#nicely separated\n",
    "plot_clusters(df.data, class_weigths)"
   ]
  },
  {
   "cell_type": "markdown",
   "metadata": {},
   "source": [
    "## Gibbs sampling"
   ]
  },
  {
   "cell_type": "markdown",
   "metadata": {},
   "source": [
    "### helpers"
   ]
  },
  {
   "cell_type": "code",
   "execution_count": 14,
   "metadata": {},
   "outputs": [],
   "source": [
    "SuffStat = namedtuple('SuffStat', 'theta N')\n",
    "\n",
    "def update_suffstats(data, assignments):\n",
    "    assignments = np.array(assignments)\n",
    "    suffstats = []\n",
    "    for cluster_idx in list(set(assignments)):\n",
    "        cluster_data_idx = assignments==cluster_idx\n",
    "        mean = data[cluster_data_idx].mean()\n",
    "        N = cluster_data_idx.sum()\n",
    "        \n",
    "        suffstats.append(SuffStat(mean, N))\n",
    "    return suffstats"
   ]
  },
  {
   "cell_type": "code",
   "execution_count": 15,
   "metadata": {},
   "outputs": [],
   "source": [
    "def log_assignment_score(data_point, cluster_mean, cluster_variance, pi_cluster):\n",
    "    \"\"\"log p(z_i=k \\,|\\, \\cdot) \n",
    "    \n",
    "    We compute these scores in log space for numerical stability.\n",
    "    \"\"\"\n",
    "    x = data_point\n",
    "    theta = cluster_mean\n",
    "    var = cluster_variance\n",
    "    log_pi = np.log(pi_cluster)\n",
    "    return log_pi + stats.norm.logpdf(x, theta, var)\n",
    "\n",
    "\n",
    "def assigment_probs(data_point, cluster_ids, cluster_means, cluster_variance, pi):\n",
    "    \"\"\"p(z_i=cid \\,|\\, \\cdot) for cid in cluster_ids\n",
    "    \"\"\"\n",
    "    scores = [log_assignment_score(data_point, cluster_means[cid], cluster_variance, pi[cid]) \n",
    "              for cid in cluster_ids]\n",
    "\n",
    "    scores = np.exp(np.array(scores))\n",
    "    return scores / scores.sum()\n",
    "\n",
    "\n",
    "def sample_assignment(data_point, cluster_ids, cluster_means, cluster_variance, pi):\n",
    "    \"\"\"Sample cluster assignment for data_id given current state\n",
    "    \n",
    "    cf Step 1 of Algorithm 2.1 in Sudderth 2006 http://cs.brown.edu/~sudderth/papers/sudderthPhD.pdf\n",
    "    \"\"\"\n",
    "    try:\n",
    "        p = assigment_probs(data_point, cluster_ids, cluster_means, cluster_variance, pi)\n",
    "        return np.random.choice(cluster_ids, p=p)\n",
    "    except:\n",
    "        #hack, sometimes all p-s are zero, then return cluster 0\n",
    "        return 0\n",
    "\n",
    "\n",
    "def update_assignment(data, cluster_ids, cluster_means, cluster_variance, pi, assignments):\n",
    "    \"\"\"Update cluster assignment for each data point given current state \n",
    "    \n",
    "    cf Step 1 of Algorithm 2.1 in Sudderth 2006\n",
    "    \"\"\"\n",
    "    for data_id, data_point in enumerate(data):\n",
    "        assignments[data_id] = sample_assignment(data_point, cluster_ids, cluster_means, cluster_variance, pi)\n",
    "    suffstats = update_suffstats(data, assignments)\n",
    "    return assignments, suffstats"
   ]
  },
  {
   "cell_type": "code",
   "execution_count": 16,
   "metadata": {},
   "outputs": [],
   "source": [
    "def sample_mixture_weights(alpha, num_clusters, cluster_ids, suffstats):\n",
    "    \"\"\"Sample new mixture weights from current state according to \n",
    "    a Dirichlet distribution \n",
    "    \n",
    "    cf Step 2 of Algorithm 2.1 in Sudderth 2006\n",
    "    \"\"\"\n",
    "    ss = suffstats\n",
    "    alpha = [ss[cid].N + alpha / num_clusters\n",
    "             for cid in cluster_ids]\n",
    "    return stats.dirichlet(alpha).rvs(size=1).flatten()\n",
    "\n",
    "def update_mixture_weights(alpha, num_clusters, cluster_ids, suffstats, pi):\n",
    "    \"\"\"Update state with new mixture weights from current state\n",
    "    sampled according to a Dirichlet distribution \n",
    "    \n",
    "    cf Step 2 of Algorithm 2.1 in Sudderth 2006\n",
    "    \"\"\"\n",
    "    pi = sample_mixture_weights(alpha, num_clusters, cluster_ids, suffstats)\n",
    "    return pi"
   ]
  },
  {
   "cell_type": "code",
   "execution_count": 17,
   "metadata": {},
   "outputs": [],
   "source": [
    "def sample_cluster_mean(cluster_var, hp_mean, hp_var, suffstats_cluster):\n",
    "    #https://www.cs.ubc.ca/~murphyk/Papers/bayesGauss.pdf 2.3\n",
    "    ss = suffstats_cluster\n",
    "    numerator = hp_mean / hp_var + ss.theta * ss.N / cluster_var\n",
    "    denominator = (1.0 / hp_var + ss.N / cluster_var)\n",
    "    posterior_mu = numerator / denominator\n",
    "    posterior_var = 1.0 / denominator\n",
    "    \n",
    "    return stats.norm(posterior_mu, np.sqrt(posterior_var)).rvs()\n",
    "\n",
    "def update_cluster_means(cluster_ids, cluster_variance, hp_mean, hp_var, suffstats):\n",
    "    cluster_means = [sample_cluster_mean(cluster_variance, hp_mean, hp_var, suffstats[cid])\n",
    "                              for cid in cluster_ids]\n",
    "    return cluster_means"
   ]
  },
  {
   "cell_type": "code",
   "execution_count": 18,
   "metadata": {},
   "outputs": [],
   "source": [
    "def gibbs(data, num_clusters, num_steps=5, cluster_variance=0.1, alpha=1.0, hp_mean=0, hp_var=1):\n",
    "    \n",
    "    #init variables\n",
    "    cluster_ids = range(num_clusters)\n",
    "    assignments = [np.random.choice(cluster_ids) for _ in data]\n",
    "    pi = [alpha / num_clusters for _ in cluster_ids]\n",
    "    cluster_means = np.random.choice(data, size = num_clusters, replace=False)\n",
    "    suffstats = update_suffstats(data, assignments)\n",
    "    \n",
    "    for i in range(num_steps):\n",
    "        assignments, suffstats = update_assignment(data, cluster_ids, cluster_means, cluster_variance, pi, assignments)\n",
    "        pi = update_mixture_weights(alpha, num_clusters, cluster_ids, suffstats, pi)\n",
    "        cluster_means = update_cluster_means(cluster_ids, cluster_variance, hp_mean, hp_var, suffstats)\n",
    "    return assignments, cluster_means, pi"
   ]
  },
  {
   "cell_type": "markdown",
   "metadata": {},
   "source": [
    "## Run experiment"
   ]
  },
  {
   "cell_type": "code",
   "execution_count": 19,
   "metadata": {},
   "outputs": [],
   "source": [
    "assignments, cluster_means, pi = gibbs(df.data, 3, num_steps=20)"
   ]
  },
  {
   "cell_type": "code",
   "execution_count": 20,
   "metadata": {},
   "outputs": [
    {
     "data": {
      "image/png": "[encoded data removed]",
      "text/plain": [
       "<Figure size 432x288 with 1 Axes>"
      ]
     },
     "metadata": {
      "needs_background": "light"
     },
     "output_type": "display_data"
    }
   ],
   "source": [
    "plot_clusters(df.data, class_weights=None, assignments=assignments)"
   ]
  },
  {
   "cell_type": "code",
   "execution_count": null,
   "metadata": {},
   "outputs": [],
   "source": []
  }
 ],
 "metadata": {
  "kernelspec": {
   "display_name": "Python 3 (ipykernel)",
   "language": "python",
   "name": "python3"
  },
  "language_info": {
   "codemirror_mode": {
    "name": "ipython",
    "version": 3
   },
   "file_extension": ".py",
   "mimetype": "text/x-python",
   "name": "python",
   "nbconvert_exporter": "python",
   "pygments_lexer": "ipython3",
   "version": "3.7.4"
  }
 },
 "nbformat": 4,
 "nbformat_minor": 2
}
